{
 "cells": [
  {
   "cell_type": "markdown",
   "metadata": {},
   "source": [
    "# Pycrash"
   ]
  },
  {
   "cell_type": "markdown",
   "source": [
    "### Starting a Pycrash Project\n",
    "1. Create a directory structure and initial files:\n",
    "    - Place the `create_project.py` or Notebook file in the directory used to create Pycrash Projects\n",
    "    - Fill inputs for projects as shown and run script\n",
    "    - A new directory and subfiles will be generated\n",
    "    - Use the `project_name/notebooks` to begin using Pycrash"
   ],
   "metadata": {
    "collapsed": false,
    "pycharm": {
     "name": "#%% md\n"
    }
   }
  },
  {
   "cell_type": "markdown",
   "source": [
    "### Basic Functionality"
   ],
   "metadata": {
    "collapsed": false,
    "pycharm": {
     "name": "#%% md\n"
    }
   }
  },
  {
   "cell_type": "code",
   "execution_count": 7,
   "metadata": {},
   "outputs": [],
   "source": [
    "# import modules needed to create data tables\n",
    "import numpy as np\n",
    "import pandas as pd\n",
    "\n",
    "# import pycrash modules\n",
    "import pycrash\n",
    "from pycrash.project import Project  # used to create projects\n",
    "from pycrash.vehicle import Vehicle  # used to generate vehicle objects\n",
    "from pycrash.project import project_info, load_project"
   ]
  },
  {
   "cell_type": "markdown",
   "metadata": {},
   "source": [
    "#### Project directory and initial data file was created when the project was created  \n",
    "#### Use `project_info` to get information for loading project"
   ]
  },
  {
   "cell_type": "code",
   "execution_count": 2,
   "metadata": {},
   "outputs": [
    {
     "name": "stdout",
     "output_type": "stream",
     "text": [
      "This saved project contains:\n",
      "Object of type \"project\" with name \"validation\"\n",
      "list objects in this order for loading project: ['validation']\n",
      "Example: project_name, veh1, veh2 = load_project('project_name')\n"
     ]
    }
   ],
   "source": [
    "project_info('validation')"
   ]
  },
  {
   "cell_type": "markdown",
   "metadata": {},
   "source": [
    "#### Use info from `project_info` to load objects stored within the project"
   ]
  },
  {
   "cell_type": "code",
   "execution_count": 3,
   "metadata": {},
   "outputs": [],
   "source": [
    "proj = load_project('validation')"
   ]
  },
  {
   "cell_type": "markdown",
   "metadata": {},
   "source": [
    "#### Get current data stored under project"
   ]
  },
  {
   "cell_type": "code",
   "execution_count": 5,
   "metadata": {},
   "outputs": [
    {
     "name": "stdout",
     "output_type": "stream",
     "text": [
      "----------  ---------------------  -----------  ---------------  ----------------\n",
      "Project     Description            Impact Type  Simulation Type  Note\n",
      "validation  single vehicle motion               SV               j-turn manuevers\n",
      "----------  ---------------------  -----------  ---------------  ----------------\n"
     ]
    }
   ],
   "source": [
    "proj.show()"
   ]
  },
  {
   "cell_type": "markdown",
   "metadata": {},
   "source": [
    "### Instantiate Vehicles\n",
    "There are multiple methods to create a `Vehicle` object  \n",
    "`vehicle = Vehicle('name', input_dict = Null)`\n",
    "1. `input_dict` see below - predefined python dictionary for inputs, only those necessary for future analysis\n",
    "needs to be supplied\n",
    "2. After creating vehicle object \"veh1\" use `veh1.manual_specs()` for user prompts of all inputs\n",
    "3. After creating vehicle object \"veh1\" use `veh1.load_specs('filename.csv') to load specs from csv file with correct format"
   ]
  },
  {
   "cell_type": "code",
   "execution_count": 10,
   "metadata": {},
   "outputs": [
    {
     "name": "stdout",
     "output_type": "stream",
     "text": [
      "Vehicle inputs for Veh1 applied succesfully\n"
     ]
    }
   ],
   "source": [
    "# for vehicle motion simluation, driver input is provided as a dataframe\n",
    "end_time = 5  # 5 second simulation\n",
    "t = list(np.arange(0, end_time+0.1, 0.1))  # create time array from 0 to end time from user\n",
    "throttle = [0] * len(t)                                # no throttle\n",
    "brake = [0] * len(t)                                   # no braking\n",
    "steer = [0] * len(t)                                   # no steering\n",
    "driver_input_dict = {'t':t, 'throttle':throttle, 'brake':brake, 'steer':steer}\n",
    "driver_input_df = pd.DataFrame.from_dict(driver_input_dict)\n",
    "\n",
    "vehicle_input_dict = {\"year\":2016,\n",
    "\"make\":\"Subaru\",\n",
    "\"model\":\"WRX Sti\",\n",
    "\"weight\":3000,\n",
    "\"vin\":\"123abc\",\n",
    "\"brake\":0,\n",
    "\"steer_ratio\":16.5,\n",
    "\"init_x_pos\":0,\n",
    "\"init_y_pos\":0,\n",
    "\"head_angle\":0,\n",
    "\"width\":6.6,\n",
    "\"length\":20.66,\n",
    "\"hcg\":2,\n",
    "\"lcgf\":5.6,\n",
    "\"lcgr\":7.76,\n",
    "\"wb\":13.36,\n",
    "\"track\":5.7,\n",
    "\"f_hang\":3.2,\n",
    "\"r_hang\":3.873,\n",
    "\"tire_d\":2.716666667,\n",
    "\"tire_w\":0.866666667,\n",
    "\"izz\":3711,\n",
    "\"fwd\":0,\n",
    "\"rwd\":1,\n",
    "\"awd\":0,\n",
    "\"A\":100,\n",
    "\"B\":41,\n",
    "\"k\":1000,\n",
    "\"L\":0,\n",
    "\"c\":0,\n",
    "\"vx_initial\":5,\n",
    "\"vy_initial\":0,\n",
    "\"omega_z\":0}\n",
    "\n",
    "veh1 = pycrash.Vehicle('Veh1', vehicle_input_dict)\n",
    "veh1.driver_input = driver_input_df # <- adding dataframe of driver inputs"
   ]
  },
  {
   "cell_type": "markdown",
   "metadata": {},
   "source": [
    "#### Get python dictionary of vehicle inputs with `veh1.input_dict()`"
   ]
  },
  {
   "cell_type": "code",
   "execution_count": 11,
   "metadata": {},
   "outputs": [
    {
     "data": {
      "text/plain": "{'year': 2016.0,\n 'make': 'Subaru',\n 'model': 'WRX Sti',\n 'weight': 3000.0,\n 'vin': '123abc',\n 'brake': 0.0,\n 'steer_ratio': 16.5,\n 'init_x_pos': <pycrash.vehicle.Vehicle at 0x1bc46f40>,\n 'init_y_pos': 0.0,\n 'head_angle': 0.0,\n 'width': 6.6,\n 'length': 20.66,\n 'hcg': 2.0,\n 'lcgf': 5.6,\n 'lcgr': 7.76,\n 'wb': 13.36,\n 'track': 5.7,\n 'f_hang': 3.2,\n 'r_hang': 3.873,\n 'tire_d': 2.716666667,\n 'tire_w': 0.866666667,\n 'izz': 3711.0,\n 'fwd': 0.0,\n 'rwd': 1.0,\n 'awd': 0.0,\n 'A': 100.0,\n 'B': 41.0,\n 'k': 1000.0,\n 'L': 0.0,\n 'c': 0.0,\n 'vx_initial': 5.0,\n 'vy_initial': 0.0,\n 'omega_z': 0.0}"
     },
     "execution_count": 11,
     "metadata": {},
     "output_type": "execute_result"
    }
   ],
   "source": [
    "veh1.input_dict()"
   ]
  },
  {
   "cell_type": "markdown",
   "metadata": {},
   "source": [
    "### Single Degree of Freedom Model (SDOF)\n",
    "- simulate vehicle to vehicle interaction with mutual stiffness\n",
    "- braking effects"
   ]
  },
  {
   "cell_type": "code",
   "execution_count": null,
   "metadata": {},
   "outputs": [],
   "source": [
    "model_inputs = {'name':'run1',\n",
    "               'cor':0.2,\n",
    "               'k':1000,\n",
    "               'tstop':0.1}\n",
    "\n",
    "model_run = sdof_model(veh1, veh2, model_inputs=None)"
   ]
  },
  {
   "cell_type": "markdown",
   "metadata": {},
   "source": [
    "creates a static copy of each vehicle object"
   ]
  },
  {
   "cell_type": "markdown",
   "metadata": {},
   "source": [
    "### Change functions to take list of simulations"
   ]
  },
  {
   "cell_type": "code",
   "execution_count": null,
   "metadata": {},
   "outputs": [],
   "source": [
    "# %% Stiffness Values for 3 models\n",
    "veh1_k = [7143, 7143, 7143]\n",
    "veh2_k = [3230, 5220, 7143]\n",
    "k_mutual = []\n",
    "for i in range(len(veh1_k)):\n",
    "    k_mutual.append(SpringSeriesKeff(veh1_k[i], veh2_k[i]))\n",
    "\n",
    "# %% create model inputs\n",
    "v1_vx_initial = [1.5, 2, 2.5]      # initial speeds for striking vehicle\n",
    "colorList = ['k', 'g', 'b']\n",
    "run_list_names = ['run1', 'run2', 'run3']\n",
    "cor_list = [0.2 , 0.2, 0.2]  # low restitution from sideswipe\n",
    "\n",
    "# %% Run three models and plot force-deflection\n",
    "\n",
    "fig = plt.figure(figsize = (14,12))\n",
    "plt.title('Mutual Force', fontsize=20)\n",
    "models =[None] * len(run_list_names)  # create empty list for model runs\n",
    "\n",
    "for i in range(len(v1_vx_initial)):\n",
    "\n",
    "    model_inputs = {\"name\":run_list_names[i],\n",
    "            \"k\":k_mutual[i],\n",
    "            \"cor\":cor_list[i], \n",
    "            \"tstop\":0.12\n",
    "        }\n",
    "    veh1.vx_initial = v1_vx_initial[i]\n",
    "    veh1.k = veh1_k[i]\n",
    "    veh2.k = veh2_k[i]\n",
    "    models[i] = SDOF_Model(veh1, veh2, model_inputs)\n",
    "\n",
    "    # Calculate vehicle specific crush\n",
    "    models[i].model_result['veh1_dx'] = models[i].model_result.dx * (models[i].k / veh1.k)\n",
    "    models[i].model_result['veh2_dx'] = models[i].model_result.dx * (models[i].k / veh2.k)\n",
    "    print(f'Peak Explorer Acceleration Model {models[i].name} = {models[i].model_result.a2.max() / 32.2:.2f} g')\n",
    "\n",
    "    plt.plot(models[i].model_result.t, -1 * models[i].model_result.dx * 12, label = f'F350 F-dx Vi={v1_vx_initial[i]} mph', color = colorList[i])\n",
    "    plt.xticks(fontsize=14)\n",
    "    plt.yticks(fontsize=14)\n",
    "\n",
    "    plt.xlabel('Time (s)', fontsize=20)\n",
    "    plt.ylabel('Mutal Crush (in)', fontsize=20)\n",
    "    plt.grid(which='both', axis='both')\n",
    "    plt.legend(fontsize=14)\n",
    "\n",
    "    plt.hlines(0.9, 0, 0.16, linestyles='--', colors='r')\n",
    "    plt.text(0.06, 0.9 + 0.02, 'Subject Explorer Deformation', fontdict={'size':16})   \n",
    "    plt.show()\n",
    "\n",
    "\n",
    "# %% assign final models\n",
    "run1, run2, run3 = models\n"
   ]
  },
  {
   "cell_type": "code",
   "execution_count": null,
   "metadata": {},
   "outputs": [],
   "source": [
    "# %% comparison velocity plot \n",
    "veh1_colors = ['g', 'g', 'g']\n",
    "veh2_colors = ['b', 'b', 'b']\n",
    "\n",
    "def velocity_compare(run1, run2, run3, veh1_colors, veh2_colors, fill_diff = False, show_legend = False):\n",
    "    \"\"\"\n",
    "    three model runs will be plotted together\n",
    "    runs should be arranged low / mid / high\n",
    "    \"\"\"\n",
    "    \n",
    "    fig = plt.figure(figsize = (14,12))\n",
    "    plt.title('Vehicle Velocity', fontsize=20)\n",
    "    plt.plot(run1.model_result.t, run1.model_result.v1 * 0.681818, label = f'{run1.name} - {run1.veh1.name}', color = veh1_colors[0])\n",
    "    plt.plot(run2.model_result.t, run2.model_result.v1 * 0.681818, label = f'{run1.name} - {run1.veh1.name}', color = veh1_colors[1])\n",
    "    plt.plot(run3.model_result.t, run3.model_result.v1 * 0.681818, label = f'{run1.name} - {run1.veh1.name}', color = veh1_colors[2])\n",
    "\n",
    "    plt.plot(run1.model_result.t, run1.model_result.v2 * 0.681818, label = f'{run1.name} - {run1.veh2.name}', color = veh2_colors[0])\n",
    "    plt.plot(run2.model_result.t, run2.model_result.v2 * 0.681818, label = f'{run1.name} - {run1.veh2.name}', color = veh2_colors[1])\n",
    "    plt.plot(run3.model_result.t, run3.model_result.v2 * 0.681818, label = f'{run1.name} - {run1.veh2.name}', color = veh2_colors[2])\n",
    "\n",
    "    if fill_diff:\n",
    "        plt.fill_between(run1.model_result.t, run1.model_result.v1 * 0.681818, run3.model_result.v1 * 0.681818, alpha=0.3, facecolor=veh1_colors[1])\n",
    "        plt.fill_between(run1.model_result.t, run1.model_result.v2 * 0.681818, run3.model_result.v2 * 0.681818, alpha=0.3, facecolor=veh2_colors[1])\n",
    "\n",
    "\n",
    "    plt.xticks(fontsize=16)\n",
    "    plt.yticks(fontsize=16)\n",
    "\n",
    "    plt.xlim([0, max(max(run1.model_result.t), max(run2.model_result.t), max(run3.model_result.t))])\n",
    "    plt.ylim([0, 1 + round(max(max(run1.model_result.v1) * 0.681818, max(run2.model_result.v1) * 0.681818, max(run3.model_result.v1) * 0.681818,\n",
    "                       max(run1.model_result.v2) * 0.681818, max(run2.model_result.v2) * 0.681818, max(run3.model_result.v2) * 0.681818))])\n",
    "\n",
    "    ax = plt.gca()\n",
    "    ax.spines['right'].set_visible(False)\n",
    "    ax.spines['top'].set_visible(False)\n",
    "\n",
    "    plt.xlabel('Time (s)', fontsize=20)\n",
    "    plt.ylabel('Velocity (mph)', fontsize=20)\n",
    "\n",
    "    if show_legend:\n",
    "        plt.legend(fontsize=14, frameon = False)\n",
    "\n",
    "    plt.show()"
   ]
  },
  {
   "cell_type": "code",
   "execution_count": null,
   "metadata": {},
   "outputs": [],
   "source": [
    "# %% Acceleration Plot\n",
    "\n",
    "def accel_compare(run1, run2, run3, veh1_colors, veh2_colors, fill_diff = False, show_legend = False):\n",
    "    \"\"\"\n",
    "    three model runs will be plotted together\n",
    "    runs should be arranged low / mid / high\n",
    "    \"\"\"\n",
    "\n",
    "    fig = plt.figure(figsize = (14,12))\n",
    "    plt.title('Vehicle Acceleration', fontsize=20)\n",
    "    plt.plot(run1.model_result.t, run1.model_result.a1 / 32.2, label = f'{run1.name} - {run1.veh1.name}', color = veh1_colors[0])\n",
    "    plt.plot(run2.model_result.t, run2.model_result.a1 / 32.2, label = f'{run1.name} - {run1.veh1.name}', color = veh1_colors[1])\n",
    "    plt.plot(run3.model_result.t, run3.model_result.a1 / 32.2, label = f'{run1.name} - {run1.veh1.name}', color = veh1_colors[2])\n",
    "\n",
    "    plt.plot(run1.model_result.t, run1.model_result.a2 / 32.2, label = f'{run1.name} - {run1.veh2.name}', color = veh2_colors[0])\n",
    "    plt.plot(run2.model_result.t, run2.model_result.a2 / 32.2, label = f'{run1.name} - {run1.veh2.name}', color = veh2_colors[1])\n",
    "    plt.plot(run3.model_result.t, run3.model_result.a2 / 32.2, label = f'{run1.name} - {run1.veh2.name}', color = veh2_colors[2])\n",
    "\n",
    "    if fill_diff:\n",
    "        plt.fill_between(run1.model_result.t, run1.model_result.a1 / 32.2, run3.model_result.v1 / 32.2, alpha=0.3, facecolor=veh1_colors[1])\n",
    "        plt.fill_between(run1.model_result.t, run1.model_result.a2 / 32.2, run3.model_result.v2 / 32.2, alpha=0.3, facecolor=veh2_colors[1])\n",
    "\n",
    "\n",
    "    plt.xticks(fontsize=16)\n",
    "    plt.yticks(fontsize=16)\n",
    "\n",
    "    plt.xlim([0, max(max(run1.model_result.t), max(run2.model_result.t), max(run3.model_result.t))])\n",
    "    plt.ylim([-1 + round(min(min(run1.model_result.a1) / 32.2, min(run2.model_result.a1) / 32.2, min(run3.model_result.a1) / 32.2,\n",
    "                       min(run1.model_result.a2) / 32.2, min(run2.model_result.a2) / 32.2, min(run3.model_result.a2) / 32.2)), \n",
    "              1 + round(max(max(run1.model_result.a1) / 32.2, max(run2.model_result.a1) / 32.2, max(run3.model_result.a1) / 32.2,\n",
    "                       max(run1.model_result.a2) / 32.2, max(run2.model_result.a2) / 32.2, max(run3.model_result.a2) / 32.2))])\n",
    "\n",
    "    ax = plt.gca()\n",
    "    ax.spines['right'].set_visible(False)\n",
    "    ax.spines['top'].set_visible(False)\n",
    "\n",
    "    plt.xlabel('Time (s)', fontsize=20)\n",
    "    plt.ylabel('Acceleration (g)', fontsize=20)\n",
    "\n",
    "    if show_legend:\n",
    "        plt.legend(fontsize=14, frameon = False)\n",
    "\n",
    "    plt.show()"
   ]
  },
  {
   "cell_type": "code",
   "execution_count": null,
   "metadata": {},
   "outputs": [],
   "source": [
    "# %% Plot velocities\n",
    "velocity_compare(run1, run2, run3, veh1_colors, veh2_colors, fill_diff = True)\n",
    "accel_compare(run1, run2, run3, veh1_colors, veh2_colors, fill_diff = False)"
   ]
  },
  {
   "cell_type": "code",
   "execution_count": null,
   "metadata": {},
   "outputs": [],
   "source": [
    "# %% Force-Deflection\n",
    "run_colors = ['b', 'g', 'k']\n",
    "fig = plt.figure(figsize = (14,12))\n",
    "plt.title('Mutual Force - Deflection', fontsize=20)\n",
    "\n",
    "plt.plot(run1.model_result.dx * -12, run1.model_result.springF, label = f'{run1.name} - {run1.veh1.name}', color = run_colors[0])\n",
    "plt.plot(run2.model_result.dx * -12, run2.model_result.springF, label = f'{run2.name} - {run1.veh1.name}', color = run_colors[1])\n",
    "plt.plot(run3.model_result.dx * -12, run3.model_result.springF, label = f'{run3.name} - {run1.veh1.name}', color = run_colors[2])\n",
    "\n",
    "plt.xticks(fontsize=14)\n",
    "plt.yticks(fontsize=14)\n",
    "\n",
    "plt.xlim([0, -12 * min(min(run1.model_result.dx), min(run2.model_result.dx), min(run3.model_result.dx))])\n",
    "plt.ylim([0, round(max(max(run1.model_result.springF), max(run2.model_result.springF), max(run3.model_result.springF)))])\n",
    "\n",
    "ax = plt.gca()\n",
    "ax.spines['right'].set_visible(False)\n",
    "ax.spines['top'].set_visible(False)\n",
    "\n",
    "\n",
    "plt.xlabel('Mutal Crush (in)', fontsize=20)\n",
    "plt.ylabel('Force (lb)', fontsize=20)\n",
    "#plt.legend(fontsize=14)\n",
    "\n",
    "plt.vlines(0.9, 0, 7000, linestyles='--', colors='r')\n",
    "plt.text(0.85, 4000, 'Subject Explorer Deformation', fontdict={'size':16} , rotation=90)   \n",
    "plt.show()"
   ]
  },
  {
   "cell_type": "code",
   "execution_count": null,
   "metadata": {},
   "outputs": [],
   "source": []
  },
  {
   "cell_type": "code",
   "execution_count": null,
   "metadata": {},
   "outputs": [],
   "source": []
  },
  {
   "cell_type": "code",
   "execution_count": null,
   "metadata": {},
   "outputs": [],
   "source": []
  },
  {
   "cell_type": "markdown",
   "metadata": {},
   "source": [
    "### Sideswipe Model\n",
    "- Normal / tangential force calculation for sideswipe interaction\n",
    "- Steering / braking effects"
   ]
  },
  {
   "cell_type": "markdown",
   "metadata": {},
   "source": [
    "### Impulse Momentum Collision\n",
    "- Two vehicle motion simulation with impact detection\n",
    "- impulse-momentum collision response"
   ]
  },
  {
   "cell_type": "code",
   "execution_count": null,
   "metadata": {},
   "outputs": [],
   "source": []
  },
  {
   "cell_type": "code",
   "execution_count": null,
   "metadata": {},
   "outputs": [],
   "source": []
  },
  {
   "cell_type": "code",
   "execution_count": null,
   "metadata": {},
   "outputs": [],
   "source": []
  },
  {
   "cell_type": "markdown",
   "metadata": {},
   "source": [
    "### Single Vehicle Motion\n",
    "- calculate vehicle motion given initial conditions and driver inputs\n",
    "- driver inputs are assigned to vehicle using two methods:\n",
    "    - predefined time, steer and brake arrays - should be dataframe?"
   ]
  },
  {
   "cell_type": "code",
   "execution_count": null,
   "metadata": {},
   "outputs": [],
   "source": [
    "# calculate vehicle motion for Vehicle 1\n",
    "v1_in = premotion(1)\n",
    "plot_inputs(v1_in)"
   ]
  },
  {
   "cell_type": "code",
   "execution_count": null,
   "metadata": {},
   "outputs": [],
   "source": [
    "# calculate vehicle motion for Vehicle 2\n",
    "v2_in = premotion(2)\n",
    "plot_inputs(v2_in)"
   ]
  },
  {
   "cell_type": "markdown",
   "metadata": {},
   "source": [
    "#### Vehicle Pre-impact Motion"
   ]
  },
  {
   "cell_type": "code",
   "execution_count": null,
   "metadata": {},
   "outputs": [],
   "source": [
    "veh_1_pre_motion = vehicle_model(1)\n",
    "plot_vehicle_pre_motion(v1_in, veh_1_pre_motion)"
   ]
  },
  {
   "cell_type": "code",
   "execution_count": null,
   "metadata": {},
   "outputs": [],
   "source": [
    "draw_vx, draw_vy, draw_gx, draw_gy = global_frame_df(veh_1_pre_motion, 1)\n",
    "draw_vehicle_motion(draw_gx, draw_gy, 1, len(draw_gx)-1)"
   ]
  },
  {
   "cell_type": "code",
   "execution_count": null,
   "metadata": {},
   "outputs": [],
   "source": [
    "draw_vx, draw_vy, draw_gx, draw_gy = global_frame_df(veh_1_pre_motion, 1)\n",
    "fig0 = draw_vehicle_motion(draw_gx, draw_gy, 1, len(draw_gx)-1)\n",
    "fig1 = draw_vehicle_motion(draw_gx, draw_gy, 1, 0)"
   ]
  },
  {
   "cell_type": "code",
   "execution_count": null,
   "metadata": {},
   "outputs": [],
   "source": []
  },
  {
   "cell_type": "code",
   "execution_count": null,
   "metadata": {},
   "outputs": [],
   "source": [
    "draw_vx, draw_vy, draw_gx, draw_gy = global_frame_df(veh_1_pre_motion, 1)\n",
    "fig, axes = plt.subplots(nrows=1, ncols=2, figsize = (15,10))\n",
    "plotRange = [20, 40]\n",
    "\n",
    "custom_xlim = (0, 350)\n",
    "custom_ylim = (10, -160)\n",
    "plt.setp(axes, xlim=custom_xlim, ylim=custom_ylim)\n",
    "\n",
    "for ax, i in zip(axes.flatten(), plotRange):\n",
    "    draw_vehicle_motion_loop(draw_gx, draw_gy, 1, ax, i)"
   ]
  },
  {
   "cell_type": "code",
   "execution_count": null,
   "metadata": {},
   "outputs": [],
   "source": [
    "fig = plt.figure(figsize=(15,10))\n",
    "plt.xlim([0, 550])\n",
    "plt.ylim([-350, 0])\n",
    "plt.gca().invert_yaxis()\n",
    "fig = draw_vehicle_motion(draw_gx, draw_gy, 1, 0)"
   ]
  },
  {
   "cell_type": "code",
   "execution_count": null,
   "metadata": {},
   "outputs": [],
   "source": []
  },
  {
   "cell_type": "code",
   "execution_count": null,
   "metadata": {},
   "outputs": [],
   "source": [
    "#%% Plot vehicle in vehicle frame\n",
    "from src.plots import draw_vehicle\n",
    "draw_vehicle(draw_vx, draw_vy, 42)"
   ]
  },
  {
   "cell_type": "code",
   "execution_count": null,
   "metadata": {},
   "outputs": [],
   "source": [
    "fig.savefig('D:\\\\OneDrive\\\\Vehicle_Dynamics\\\\plots\\\\global.png')"
   ]
  },
  {
   "cell_type": "markdown",
   "metadata": {},
   "source": [
    "### Import Scene Image"
   ]
  },
  {
   "cell_type": "code",
   "execution_count": null,
   "metadata": {},
   "outputs": [],
   "source": [
    "import numpy as np\n",
    "import pandas as pd\n",
    "import math"
   ]
  },
  {
   "cell_type": "code",
   "execution_count": null,
   "metadata": {},
   "outputs": [],
   "source": [
    "# load DX, DY\n",
    "v1_pre = veh_1_pre_motion\n",
    "theta_shift = -10 * math.pi / 180\n",
    "x_shift = 200\n",
    "y_shift = 240\n",
    "# rotate and translate\n",
    "for i in (range(len(v1_pre))):\n",
    "    v1_pre.loc[i, 'Dx_'] = x_shift + v1_pre.loc[i, 'Dx']*math.cos(theta_shift) - v1_pre.loc[i, 'Dy']*math.sin(theta_shift)\n",
    "    v1_pre.loc[i, 'Dy_'] = y_shift + v1_pre.loc[i, 'Dx']*math.sin(theta_shift) + v1_pre.loc[i, 'Dy']*math.cos(theta_shift)"
   ]
  },
  {
   "cell_type": "code",
   "execution_count": null,
   "metadata": {},
   "outputs": [],
   "source": [
    "img = plt.imread('pre_imapct_motion.jpg')\n",
    "#plt.scatter(x,y,zorder=1)\n",
    "# height = 333.17 ft, \n",
    "# width = 544.51 ft\n",
    "\n",
    "fig = plt.figure(figsize=(19,15))\n",
    "plt.scatter(v1_pre.Dx_, v1_pre.Dy_, s=5)\n",
    "plt.imshow(img, zorder=0, extent=[0, 544.41, 333.17, 0])\n",
    "plt.show()"
   ]
  },
  {
   "cell_type": "code",
   "execution_count": null,
   "metadata": {},
   "outputs": [],
   "source": []
  }
 ],
 "metadata": {
  "kernelspec": {
   "display_name": "Python 3",
   "language": "python",
   "name": "python3"
  },
  "language_info": {
   "codemirror_mode": {
    "name": "ipython",
    "version": 3
   },
   "file_extension": ".py",
   "mimetype": "text/x-python",
   "name": "python",
   "nbconvert_exporter": "python",
   "pygments_lexer": "ipython3",
   "version": "3.7.3"
  }
 },
 "nbformat": 4,
 "nbformat_minor": 4
}