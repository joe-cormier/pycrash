{
 "cells": [
  {
   "cell_type": "code",
   "execution_count": null,
   "metadata": {},
   "outputs": [],
   "source": [
    "%load_ext autoreload\n",
    "%autoreload 2\n",
    "import plotly.io as pio\n",
    "pio.renderers.default = \"notebook\""
   ]
  },
  {
   "cell_type": "code",
   "execution_count": null,
   "metadata": {},
   "outputs": [],
   "source": [
    "import os\n",
    "path_parent = os.path.dirname(os.getcwd())\n",
    "data_directory = os.path.join(path_parent, \"data\")\n",
    "os.chdir(path_parent)\n",
    "\n",
    "import plotly.graph_objects as go\n",
    "import chart_studio.plotly as py\n",
    "from plotly.offline import iplot\n",
    "import plotly.figure_factory as ff\n",
    "import numpy as np\n",
    "import pandas as pd\n",
    "pd.options.display.max_columns = None\n",
    "pd.options.display.max_rows = None"
   ]
  },
  {
   "cell_type": "code",
   "execution_count": null,
   "metadata": {},
   "outputs": [],
   "source": [
    "import pycrash\n",
    "from pycrash.data.defaults.config import default_dict\n",
    "mu_max = default_dict['mu_max']             # maximum available friction"
   ]
  },
  {
   "cell_type": "code",
   "execution_count": null,
   "metadata": {},
   "outputs": [],
   "source": [
    "project_inputs = {'name':'Practice', 'pdesc':'single motion', 'sim_type':'SV', 'impact_type':'none',\n",
    "                  'note':'single vehicle motion demo'}\n",
    "proj = pycrash.Project(project_inputs)"
   ]
  },
  {
   "cell_type": "code",
   "execution_count": null,
   "metadata": {},
   "outputs": [],
   "source": [
    "# for vehicle motion simluation, driver input is provided as a dataframe\n",
    "end_time = 5  # 5 second simulation\n",
    "t = list(np.arange(0, end_time+0.1, 0.1))  # create time array from 0 to end time from user\n",
    "throttle = [0] * len(t)                                # no throttle\n",
    "brake = [0] * len(t)                                   # no braking\n",
    "steer = [0] * len(t)                                   # no steering\n",
    "driver_input_dict = {'t':t, 'throttle':throttle, 'brake':brake, 'steer':steer}\n",
    "driver_input_df = pd.DataFrame.from_dict(driver_input_dict)\n",
    "\n",
    "vehicle_input_dict = {\"year\":2016,\n",
    "\"make\":\"Subaru\",\n",
    "\"model\":\"WRX Sti\",\n",
    "\"weight\":3000,\n",
    "\"vin\":\"123abc\",\n",
    "\"brake\":0,\n",
    "\"steer_ratio\":16.5,\n",
    "\"init_x_pos\":0,\n",
    "\"init_y_pos\":0,\n",
    "\"head_angle\":0,\n",
    "\"width\":6.6,\n",
    "\"length\":20.66,\n",
    "\"hcg\":2,\n",
    "\"lcgf\":5.6,\n",
    "\"lcgr\":7.76,\n",
    "\"wb\":13.36,\n",
    "\"track\":5.7,\n",
    "\"f_hang\":3.2,\n",
    "\"r_hang\":3.873,\n",
    "\"tire_d\":2.716666667,\n",
    "\"tire_w\":0.866666667,\n",
    "\"izz\":3711,\n",
    "\"fwd\":0,\n",
    "\"rwd\":1,\n",
    "\"awd\":0,\n",
    "\"A\":100,\n",
    "\"B\":41,\n",
    "\"k\":1000,\n",
    "\"L\":0,\n",
    "\"c\":0,\n",
    "\"vx_initial\":5,\n",
    "\"vy_initial\":0,\n",
    "\"omega_z\":0,\n",
    "\"driver_input\":driver_input_df}\n",
    "\n",
    "veh1 = pycrash.Vehicle('Veh1', vehicle_input_dict)"
   ]
  },
  {
   "cell_type": "code",
   "execution_count": null,
   "metadata": {},
   "outputs": [],
   "source": [
    "# %% Change driver inputs\n",
    "time = [0, 2.5, 10]\n",
    "throttle = [0, 0, 0]\n",
    "brake = [0, 0, 0]\n",
    "steer = [0, 360, 360]\n",
    "veh1.vx_initial = 20\n",
    "veh1.vy_initial = 0\n",
    "pio.renderers.default = \"notebook\"\n",
    "veh1.time_inputs(time, throttle, brake, steer)"
   ]
  },
  {
   "cell_type": "code",
   "execution_count": null,
   "metadata": {},
   "outputs": [],
   "source": [
    "# %% vehicle motion\n",
    "motion = pycrash.SingleMotion('motion1', veh1)"
   ]
  },
  {
   "cell_type": "code",
   "execution_count": null,
   "metadata": {},
   "outputs": [],
   "source": [
    "pio.renderers.default = \"browser\"\n",
    "motion.plot_model()"
   ]
  },
  {
   "cell_type": "code",
   "execution_count": null,
   "metadata": {},
   "outputs": [],
   "source": [
    "# %%\n",
    "i = 24\n",
    "i += 1\n",
    "pio.renderers.default = \"browser\"\n",
    "#motion.global_motion(len(motion.veh.model.t) - 1)\n",
    "motion.global_motion(i)\n",
    "print(f'Time = {motion.veh.model.t[i]}')"
   ]
  },
  {
   "cell_type": "code",
   "execution_count": null,
   "metadata": {},
   "outputs": [],
   "source": [
    "pio.renderers.default = \"browser\"\n",
    "motion.global_motion(len(motion.veh.model.t) - 1)\n",
    "print(f'Time = {motion.veh.model.t[len(motion.veh.model.t) - 1]}')"
   ]
  },
  {
   "cell_type": "markdown",
   "metadata": {},
   "source": [
    "### Tire Details"
   ]
  },
  {
   "cell_type": "code",
   "execution_count": null,
   "metadata": {},
   "outputs": [],
   "source": [
    "pio.renderers.default = \"notebook\"\n",
    "motion.tire_detail()"
   ]
  },
  {
   "cell_type": "code",
   "execution_count": null,
   "metadata": {},
   "outputs": [],
   "source": [
    "import math\n",
    "df_plot = motion.veh.model.copy()\n",
    "df_plot['lf_latf_one'] = [ -1 * mu_max * math.sin(row) for row in df_plot.lf_alpha]\n",
    "df_plot['lf_latf'] = df_plot['lf_latf_one'] * df_plot.lf_fz\n",
    "\n",
    "df_plot['lf_longf_one'] = [-1 * mu_max * row for row in veh1.driver_input.brake]\n",
    "df_plot['lf_app'] = df_plot['lf_longf_one'] * df_plot.lf_fz\n",
    "\n",
    "df_plot['lf_max_fz'] = [mu_max * row for row in df_plot.lf_fz]\n",
    "                        \n",
    "figure_size = (800,450)\n",
    "\n",
    "wheel_colors = ['rgb(0, 0, 255)', 'rgb(0, 255, 0)', 'rgb(153, 0, 204)', 'rgb(255, 102, 0)']\n",
    "\n",
    "fig = go.Figure()\n",
    "\n",
    "fig.add_trace(go.Scatter(x = df_plot.t, y = df_plot.lf_latf,\n",
    "                    mode = 'lines',\n",
    "                    name = 'lateral applied',\n",
    "                    line = dict(color = wheel_colors[0], width = 1, dash = 'solid')))\n",
    "fig.add_trace(go.Scatter(x = df_plot.t, y = df_plot.lf_app,\n",
    "                    mode = 'lines',\n",
    "                    name = 'long applied',\n",
    "                    line = dict(color = 'rgb(0, 0, 0)', width = 1, dash = 'solid')))\n",
    "fig.add_trace(go.Scatter(x = motion.veh.model.t, y = motion.veh.model.lf_alpha * 180 / math.pi,\n",
    "                    mode = 'lines',\n",
    "                    name = 'alpha',\n",
    "                    line = dict(color = wheel_colors[1], width = 1, dash = 'solid')))\n",
    "fig.add_trace(go.Scatter(x = motion.veh.model.t, y = df_plot.lf_max_fz,\n",
    "                    mode = 'lines',\n",
    "                    name = 'lf max Fz',\n",
    "                    line = dict(color = 'rgb(255, 0, 0)', width = 1,\n",
    "                    dash = 'solid')))\n",
    "fig.add_trace(go.Scatter(x = motion.veh.model.t, y = df_plot.lf_lock * 100,\n",
    "                    mode = 'lines',\n",
    "                    name = 'lf lock',\n",
    "                    line = dict(color = 'rgb(255, 0, 0)', width = 1,\n",
    "                    dash = 'dash')))                       \n",
    "fig.show()"
   ]
  },
  {
   "cell_type": "code",
   "execution_count": null,
   "metadata": {},
   "outputs": [],
   "source": [
    "math.sin(164 * math.pi / 180)"
   ]
  },
  {
   "cell_type": "code",
   "execution_count": null,
   "metadata": {},
   "outputs": [],
   "source": [
    "math.cos(28 * math.pi / 180)"
   ]
  },
  {
   "cell_type": "code",
   "execution_count": null,
   "metadata": {},
   "outputs": [],
   "source": [
    "math.sin(-90 * math.pi / 180)"
   ]
  },
  {
   "cell_type": "code",
   "execution_count": null,
   "metadata": {},
   "outputs": [],
   "source": [
    "-1 * np.arctan2(1,0) * 180 / math.pi"
   ]
  },
  {
   "cell_type": "code",
   "execution_count": null,
   "metadata": {},
   "outputs": [],
   "source": [
    "math.sin(-90 * math.pi / 180)"
   ]
  },
  {
   "cell_type": "code",
   "execution_count": null,
   "metadata": {},
   "outputs": [],
   "source": [
    "math.cos(-45 * math.pi / 180)"
   ]
  },
  {
   "cell_type": "code",
   "execution_count": null,
   "metadata": {},
   "outputs": [],
   "source": [
    "# %%\n",
    "motion.veh.model.head(150)"
   ]
  },
  {
   "cell_type": "code",
   "execution_count": null,
   "metadata": {},
   "outputs": [],
   "source": [
    "ax = motion.veh.model.plot(x = 't', y='Dy', figsize = (16,9))\n",
    "motion.veh.model.plot(x = 't', y='vy', secondary_y=True, ax=ax)"
   ]
  },
  {
   "cell_type": "code",
   "execution_count": null,
   "metadata": {},
   "outputs": [],
   "source": [
    "ax = motion.veh.model.plot(x = 't', y='lf_alpha', figsize = (16,9))\n",
    "motion.veh.model.plot(x = 't', y= 'lr_alpha', secondary_y=False, ax=ax)"
   ]
  },
  {
   "cell_type": "code",
   "execution_count": null,
   "metadata": {},
   "outputs": [],
   "source": [
    "stopped = motion.veh.model[motion.veh.model.t > 1].copy()\n",
    "stopped.vy.mean()"
   ]
  },
  {
   "cell_type": "code",
   "execution_count": null,
   "metadata": {},
   "outputs": [],
   "source": [
    "motion.CG_motion()"
   ]
  },
  {
   "cell_type": "markdown",
   "metadata": {},
   "source": [
    "### atan2"
   ]
  },
  {
   "cell_type": "code",
   "execution_count": null,
   "metadata": {},
   "outputs": [],
   "source": [
    "x = np.array([-1, +1, +1, -1])\n",
    "y = np.array([-1, -1, +1, +1])\n",
    "np.arctan2(y, x) * 180 / np.pi"
   ]
  },
  {
   "cell_type": "code",
   "execution_count": null,
   "metadata": {},
   "outputs": [],
   "source": [
    "os.getcwd()"
   ]
  },
  {
   "cell_type": "code",
   "execution_count": null,
   "metadata": {},
   "outputs": [],
   "source": [
    "motion.veh.model.to_csv('modeldf.csv')"
   ]
  }
 ],
 "metadata": {
  "kernelspec": {
   "display_name": "Python 3",
   "language": "python",
   "name": "python3"
  },
  "language_info": {
   "codemirror_mode": {
    "name": "ipython",
    "version": 3
   },
   "file_extension": ".py",
   "mimetype": "text/x-python",
   "name": "python",
   "nbconvert_exporter": "python",
   "pygments_lexer": "ipython3",
   "version": "3.7.3"
  }
 },
 "nbformat": 4,
 "nbformat_minor": 4
}