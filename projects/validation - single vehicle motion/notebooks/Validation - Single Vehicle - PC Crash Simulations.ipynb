{
 "cells": [
  {
   "cell_type": "code",
   "execution_count": 1,
   "metadata": {},
   "outputs": [],
   "source": [
    "# %% allow reloading of modules\n",
    "%load_ext autoreload\n",
    "%autoreload 2"
   ]
  },
  {
   "cell_type": "markdown",
   "metadata": {},
   "source": [
    "#### Note: ensure the you are in the `notebooks` directory when using the `jupyter notebook` command "
   ]
  },
  {
   "cell_type": "code",
   "execution_count": 2,
   "metadata": {},
   "outputs": [
    {
     "data": {
      "text/plain": [
       "'/home/joemcormier/pycrash/projects/validation - single vehicle motion/notebooks'"
      ]
     },
     "execution_count": 2,
     "metadata": {},
     "output_type": "execute_result"
    }
   ],
   "source": [
    "import os\n",
    "path_parent = os.path.dirname(os.getcwd())\n",
    "os.getcwd()"
   ]
  },
  {
   "cell_type": "code",
   "execution_count": 3,
   "metadata": {},
   "outputs": [],
   "source": [
    "import sys\n",
    "#sys.path.append(\"/home/jmc/Documents/pycrash\")\n",
    "sys.path.append(\"/home/joemcormier/pycrash/\")"
   ]
  },
  {
   "cell_type": "code",
   "execution_count": 4,
   "metadata": {},
   "outputs": [
    {
     "name": "stdout",
     "output_type": "stream",
     "text": [
      "Current values for defined constants:\n",
      "maximum available friction (mu_max) = 0.9\n",
      "time step for vehicle motion (dt) = 0.1 s\n",
      "No Environment File Provided\n",
      "No Environment File Provided\n"
     ]
    }
   ],
   "source": [
    "import pycrash\n",
    "from pycrash.project import Project, project_info, load_project\n",
    "from pycrash.vehicle import Vehicle\n",
    "from pycrash.kinematics import SingleMotion"
   ]
  },
  {
   "cell_type": "code",
   "execution_count": 5,
   "metadata": {},
   "outputs": [
    {
     "data": {
      "text/plain": [
       "'/home/joemcormier/pycrash/projects/validation - single vehicle motion'"
      ]
     },
     "execution_count": 5,
     "metadata": {},
     "output_type": "execute_result"
    }
   ],
   "source": [
    "os.getcwd()"
   ]
  },
  {
   "cell_type": "code",
   "execution_count": 6,
   "metadata": {},
   "outputs": [],
   "source": [
    "import pandas as pd\n",
    "import numpy as np\n",
    "import math\n",
    "from scipy import integrate\n",
    "pd.options.display.max_columns = None\n",
    "pd.options.display.max_rows = None\n",
    "from IPython import get_ipython\n",
    "from IPython.display import display\n",
    "get_ipython().run_line_magic('matplotlib', 'qt')"
   ]
  },
  {
   "cell_type": "markdown",
   "metadata": {},
   "source": [
    "### Load Project Datafile that was created when project was instantiated\n",
    "- the project object contains information needed to run other parts of Pycrash"
   ]
  },
  {
   "cell_type": "markdown",
   "metadata": {},
   "source": [
    "#### Get project information - used to import project object"
   ]
  },
  {
   "cell_type": "code",
   "execution_count": 7,
   "metadata": {},
   "outputs": [
    {
     "name": "stdout",
     "output_type": "stream",
     "text": [
      "This saved project contains:\n",
      "Object of type \"project\" with name \"validation - single vehicle motion\"\n",
      "list objects in this order for loading project: ['validation - single vehicle motion']\n",
      "Example: project_name, veh1, veh2 = load_project('project_name')\n"
     ]
    }
   ],
   "source": [
    "project_info('validation - single vehicle motion')"
   ]
  },
  {
   "cell_type": "markdown",
   "metadata": {},
   "source": [
    "#### Load project and print contents"
   ]
  },
  {
   "cell_type": "code",
   "execution_count": 8,
   "metadata": {},
   "outputs": [
    {
     "name": "stdout",
     "output_type": "stream",
     "text": [
      "----------------------------------  ------------------------  -----------  ---------------  --------------------\n",
      "Project                             Description               Impact Type  Simulation Type  Note\n",
      "validation - single vehicle motion  planar motion simulation               SV               pc crash comparisons\n",
      "----------------------------------  ------------------------  -----------  ---------------  --------------------\n"
     ]
    }
   ],
   "source": [
    "proj = load_project('validation - single vehicle motion')\n",
    "proj.show()"
   ]
  },
  {
   "cell_type": "code",
   "execution_count": 9,
   "metadata": {},
   "outputs": [
    {
     "data": {
      "text/plain": [
       "{'name': 'validation - single vehicle motion',\n",
       " 'project_path': '/home/jmc/Documents/pycrash/projects/',\n",
       " 'pdesc': 'planar motion simulation',\n",
       " 'sim_type': 'SV',\n",
       " 'impact_type': None,\n",
       " 'note': 'pc crash comparisons',\n",
       " 'type': 'project'}"
      ]
     },
     "execution_count": 9,
     "metadata": {},
     "output_type": "execute_result"
    }
   ],
   "source": [
    "proj.__dict__"
   ]
  },
  {
   "cell_type": "markdown",
   "metadata": {},
   "source": [
    "### Generate dataframe with driver inputs\n",
    "- use validation steer / brake / throttle inputs\n",
    "- inputs are same dt as pycrash will have to check in future"
   ]
  },
  {
   "cell_type": "code",
   "execution_count": 10,
   "metadata": {},
   "outputs": [],
   "source": [
    "pc_crash_column_names = ['t', 'ax', 'ay', 'az', 'phi_deg', 'lf_fy', 'rf_fy',\n",
    "                         'lr_fy', 'rr_fy', 'delta_deg', 'rf_delta_deg', 'steer', \n",
    "                         'steer_rate', 'X', 'Y', 'Z', 'roll', 'pitch', 'theta_deg',\n",
    "                         'Vx', 'Vy', 'Vz']"
   ]
  },
  {
   "cell_type": "code",
   "execution_count": 11,
   "metadata": {},
   "outputs": [],
   "source": [
    "df = pd.read_excel(os.path.join(path_parent, 'data', 'external', '15-mph-steer-data.xlsx'),\n",
    "                            na_filter = False, header = None, names = pc_crash_column_names, skiprows = 1)"
   ]
  },
  {
   "cell_type": "code",
   "execution_count": 12,
   "metadata": {},
   "outputs": [],
   "source": [
    "# convert velocities to fps\n",
    "df.Vx = [x * 1.46667 for x in df.Vx]\n",
    "df.Vy = [x * 1.46667 for x in df.Vy]\n",
    "df.Vz = [x * 1.46667 for x in df.Vz]\n",
    "\n",
    "# convert acceleration to fps/s\n",
    "df.ax = [x * 32.2 for x in df.ax]\n",
    "df.ay = [x * 32.2 for x in df.ay]\n",
    "df.az = [x * 32.2 for x in df.az]\n",
    "\n",
    "# convert tire forces to lb\n",
    "df.lf_fy = [x * 1000 for x in df.lf_fy]\n",
    "df.rf_fy = [x * 1000 for x in df.rf_fy]\n",
    "df.lr_fy = [x * 1000 for x in df.lr_fy]\n",
    "df.rr_fy = [x * 1000 for x in df.rr_fy]\n",
    "\n",
    "# steer angle in radians\n",
    "df['delta_rad'] = [x / 180 * math.pi for x in df.delta_deg]"
   ]
  },
  {
   "cell_type": "code",
   "execution_count": 13,
   "metadata": {},
   "outputs": [
    {
     "data": {
      "text/html": [
       "<div>\n",
       "<style scoped>\n",
       "    .dataframe tbody tr th:only-of-type {\n",
       "        vertical-align: middle;\n",
       "    }\n",
       "\n",
       "    .dataframe tbody tr th {\n",
       "        vertical-align: top;\n",
       "    }\n",
       "\n",
       "    .dataframe thead th {\n",
       "        text-align: right;\n",
       "    }\n",
       "</style>\n",
       "<table border=\"1\" class=\"dataframe\">\n",
       "  <thead>\n",
       "    <tr style=\"text-align: right;\">\n",
       "      <th></th>\n",
       "      <th>t</th>\n",
       "      <th>ax</th>\n",
       "      <th>ay</th>\n",
       "      <th>az</th>\n",
       "      <th>phi_deg</th>\n",
       "      <th>lf_fy</th>\n",
       "      <th>rf_fy</th>\n",
       "      <th>lr_fy</th>\n",
       "      <th>rr_fy</th>\n",
       "      <th>delta_deg</th>\n",
       "      <th>rf_delta_deg</th>\n",
       "      <th>steer</th>\n",
       "      <th>steer_rate</th>\n",
       "      <th>X</th>\n",
       "      <th>Y</th>\n",
       "      <th>Z</th>\n",
       "      <th>roll</th>\n",
       "      <th>pitch</th>\n",
       "      <th>theta_deg</th>\n",
       "      <th>Vx</th>\n",
       "      <th>Vy</th>\n",
       "      <th>Vz</th>\n",
       "      <th>delta_rad</th>\n",
       "      <th>Dx</th>\n",
       "      <th>Dy</th>\n",
       "    </tr>\n",
       "  </thead>\n",
       "  <tbody>\n",
       "    <tr>\n",
       "      <th>0</th>\n",
       "      <td>0.0</td>\n",
       "      <td>0.0</td>\n",
       "      <td>0.0</td>\n",
       "      <td>0.0</td>\n",
       "      <td>0.0</td>\n",
       "      <td>0.0</td>\n",
       "      <td>0.0</td>\n",
       "      <td>0.0</td>\n",
       "      <td>0.0</td>\n",
       "      <td>0.0</td>\n",
       "      <td>0.0</td>\n",
       "      <td>0.0</td>\n",
       "      <td>0</td>\n",
       "      <td>0.0</td>\n",
       "      <td>0.0</td>\n",
       "      <td>1.79</td>\n",
       "      <td>0.0</td>\n",
       "      <td>0.0</td>\n",
       "      <td>0.0</td>\n",
       "      <td>22.00005</td>\n",
       "      <td>0.0</td>\n",
       "      <td>0.0</td>\n",
       "      <td>0.0</td>\n",
       "      <td>0.000000</td>\n",
       "      <td>0.0</td>\n",
       "    </tr>\n",
       "    <tr>\n",
       "      <th>1</th>\n",
       "      <td>0.1</td>\n",
       "      <td>0.0</td>\n",
       "      <td>0.0</td>\n",
       "      <td>0.0</td>\n",
       "      <td>0.0</td>\n",
       "      <td>0.0</td>\n",
       "      <td>0.0</td>\n",
       "      <td>0.0</td>\n",
       "      <td>0.0</td>\n",
       "      <td>0.0</td>\n",
       "      <td>0.0</td>\n",
       "      <td>0.0</td>\n",
       "      <td>0</td>\n",
       "      <td>2.2</td>\n",
       "      <td>0.0</td>\n",
       "      <td>1.79</td>\n",
       "      <td>0.0</td>\n",
       "      <td>0.0</td>\n",
       "      <td>0.0</td>\n",
       "      <td>22.00005</td>\n",
       "      <td>0.0</td>\n",
       "      <td>0.0</td>\n",
       "      <td>0.0</td>\n",
       "      <td>2.200005</td>\n",
       "      <td>0.0</td>\n",
       "    </tr>\n",
       "    <tr>\n",
       "      <th>2</th>\n",
       "      <td>0.2</td>\n",
       "      <td>0.0</td>\n",
       "      <td>0.0</td>\n",
       "      <td>0.0</td>\n",
       "      <td>0.0</td>\n",
       "      <td>0.0</td>\n",
       "      <td>0.0</td>\n",
       "      <td>0.0</td>\n",
       "      <td>0.0</td>\n",
       "      <td>0.0</td>\n",
       "      <td>0.0</td>\n",
       "      <td>0.0</td>\n",
       "      <td>0</td>\n",
       "      <td>4.4</td>\n",
       "      <td>0.0</td>\n",
       "      <td>1.79</td>\n",
       "      <td>0.0</td>\n",
       "      <td>0.0</td>\n",
       "      <td>0.0</td>\n",
       "      <td>22.00005</td>\n",
       "      <td>0.0</td>\n",
       "      <td>0.0</td>\n",
       "      <td>0.0</td>\n",
       "      <td>4.400010</td>\n",
       "      <td>0.0</td>\n",
       "    </tr>\n",
       "    <tr>\n",
       "      <th>3</th>\n",
       "      <td>0.3</td>\n",
       "      <td>0.0</td>\n",
       "      <td>0.0</td>\n",
       "      <td>0.0</td>\n",
       "      <td>0.0</td>\n",
       "      <td>0.0</td>\n",
       "      <td>0.0</td>\n",
       "      <td>0.0</td>\n",
       "      <td>0.0</td>\n",
       "      <td>0.0</td>\n",
       "      <td>0.0</td>\n",
       "      <td>0.0</td>\n",
       "      <td>0</td>\n",
       "      <td>6.6</td>\n",
       "      <td>0.0</td>\n",
       "      <td>1.79</td>\n",
       "      <td>0.0</td>\n",
       "      <td>0.0</td>\n",
       "      <td>0.0</td>\n",
       "      <td>22.00005</td>\n",
       "      <td>0.0</td>\n",
       "      <td>0.0</td>\n",
       "      <td>0.0</td>\n",
       "      <td>6.600015</td>\n",
       "      <td>0.0</td>\n",
       "    </tr>\n",
       "    <tr>\n",
       "      <th>4</th>\n",
       "      <td>0.4</td>\n",
       "      <td>0.0</td>\n",
       "      <td>0.0</td>\n",
       "      <td>0.0</td>\n",
       "      <td>0.0</td>\n",
       "      <td>0.0</td>\n",
       "      <td>0.0</td>\n",
       "      <td>0.0</td>\n",
       "      <td>0.0</td>\n",
       "      <td>0.0</td>\n",
       "      <td>0.0</td>\n",
       "      <td>0.0</td>\n",
       "      <td>0</td>\n",
       "      <td>8.8</td>\n",
       "      <td>0.0</td>\n",
       "      <td>1.79</td>\n",
       "      <td>0.0</td>\n",
       "      <td>0.0</td>\n",
       "      <td>0.0</td>\n",
       "      <td>22.00005</td>\n",
       "      <td>0.0</td>\n",
       "      <td>0.0</td>\n",
       "      <td>0.0</td>\n",
       "      <td>8.800020</td>\n",
       "      <td>0.0</td>\n",
       "    </tr>\n",
       "  </tbody>\n",
       "</table>\n",
       "</div>"
      ],
      "text/plain": [
       "     t   ax   ay   az  phi_deg  lf_fy  rf_fy  lr_fy  rr_fy  delta_deg  \\\n",
       "0  0.0  0.0  0.0  0.0      0.0    0.0    0.0    0.0    0.0        0.0   \n",
       "1  0.1  0.0  0.0  0.0      0.0    0.0    0.0    0.0    0.0        0.0   \n",
       "2  0.2  0.0  0.0  0.0      0.0    0.0    0.0    0.0    0.0        0.0   \n",
       "3  0.3  0.0  0.0  0.0      0.0    0.0    0.0    0.0    0.0        0.0   \n",
       "4  0.4  0.0  0.0  0.0      0.0    0.0    0.0    0.0    0.0        0.0   \n",
       "\n",
       "   rf_delta_deg  steer  steer_rate    X    Y     Z  roll  pitch  theta_deg  \\\n",
       "0           0.0    0.0           0  0.0  0.0  1.79   0.0    0.0        0.0   \n",
       "1           0.0    0.0           0  2.2  0.0  1.79   0.0    0.0        0.0   \n",
       "2           0.0    0.0           0  4.4  0.0  1.79   0.0    0.0        0.0   \n",
       "3           0.0    0.0           0  6.6  0.0  1.79   0.0    0.0        0.0   \n",
       "4           0.0    0.0           0  8.8  0.0  1.79   0.0    0.0        0.0   \n",
       "\n",
       "         Vx   Vy   Vz  delta_rad        Dx   Dy  \n",
       "0  22.00005  0.0  0.0        0.0  0.000000  0.0  \n",
       "1  22.00005  0.0  0.0        0.0  2.200005  0.0  \n",
       "2  22.00005  0.0  0.0        0.0  4.400010  0.0  \n",
       "3  22.00005  0.0  0.0        0.0  6.600015  0.0  \n",
       "4  22.00005  0.0  0.0        0.0  8.800020  0.0  "
      ]
     },
     "execution_count": 13,
     "metadata": {},
     "output_type": "execute_result"
    }
   ],
   "source": [
    "# integrate velocities to get displacements\n",
    "df['Dx'] = 0 + integrate.cumtrapz(list(df.Vx), list(df.t), initial=0)\n",
    "df['Dy'] = 0 + integrate.cumtrapz(list(df.Vy), list(df.t), initial=0)\n",
    "df.head()"
   ]
  },
  {
   "cell_type": "code",
   "execution_count": 14,
   "metadata": {},
   "outputs": [
    {
     "data": {
      "text/plain": [
       "<AxesSubplot:xlabel='t'>"
      ]
     },
     "execution_count": 14,
     "metadata": {},
     "output_type": "execute_result"
    }
   ],
   "source": [
    "df.plot(x = 't', y = 'steer')"
   ]
  },
  {
   "cell_type": "code",
   "execution_count": 15,
   "metadata": {},
   "outputs": [
    {
     "data": {
      "text/plain": [
       "10.9"
      ]
     },
     "execution_count": 15,
     "metadata": {},
     "output_type": "execute_result"
    }
   ],
   "source": [
    "df.t.max()"
   ]
  },
  {
   "cell_type": "code",
   "execution_count": 16,
   "metadata": {},
   "outputs": [
    {
     "data": {
      "text/plain": [
       "22.000049999999998"
      ]
     },
     "execution_count": 16,
     "metadata": {},
     "output_type": "execute_result"
    }
   ],
   "source": [
    "df.Vx[0]"
   ]
  },
  {
   "cell_type": "markdown",
   "metadata": {},
   "source": [
    "### Load Validation Data"
   ]
  },
  {
   "cell_type": "code",
   "execution_count": 17,
   "metadata": {},
   "outputs": [],
   "source": [
    "# validation vehicle data\n",
    "\n",
    "vehicle_input_dict = {\"year\":2004,\n",
    "\"make\":\"Chevrolet\",\n",
    "\"model\":\"Malibu\",\n",
    "\"weight\":3298,\n",
    "\"vin\":\"1G1ZU54854F135916\",\n",
    "\"brake\":0,\n",
    "\"steer_ratio\":15.9,\n",
    "\"init_x_pos\":0,\n",
    "\"init_y_pos\":0,\n",
    "\"head_angle\":0,\n",
    "\"width\":70 / 12,\n",
    "\"length\":187 / 12,\n",
    "\"hcg\":21.5 / 12,\n",
    "\"lcgf\":38.1 / 12,\n",
    "\"lcgr\":67.9 / 12,\n",
    "\"wb\":106 / 12,\n",
    "\"track\":60 / 12,\n",
    "\"f_hang\":38 / 12,\n",
    "\"r_hang\":43 / 12,\n",
    "\"tire_d\":26.2 / 12,\n",
    "\"tire_w\":8.5 / 12,\n",
    "\"izz\":2040,\n",
    "\"fwd\":1,\n",
    "\"rwd\":0,\n",
    "\"awd\":0,\n",
    "\"A\":100,\n",
    "\"B\":41,\n",
    "\"k\":1000,\n",
    "\"L\":0,\n",
    "\"c\":0,\n",
    "\"vx_initial\":df.Vx[0],\n",
    "\"vy_initial\":0,\n",
    "\"omega_z\":0}"
   ]
  },
  {
   "cell_type": "code",
   "execution_count": 18,
   "metadata": {},
   "outputs": [
    {
     "name": "stdout",
     "output_type": "stream",
     "text": [
      "Vehicle Driver Inputs:\n"
     ]
    },
    {
     "data": {
      "text/html": [
       "<div>\n",
       "<style scoped>\n",
       "    .dataframe tbody tr th:only-of-type {\n",
       "        vertical-align: middle;\n",
       "    }\n",
       "\n",
       "    .dataframe tbody tr th {\n",
       "        vertical-align: top;\n",
       "    }\n",
       "\n",
       "    .dataframe thead th {\n",
       "        text-align: right;\n",
       "    }\n",
       "</style>\n",
       "<table border=\"1\" class=\"dataframe\">\n",
       "  <thead>\n",
       "    <tr style=\"text-align: right;\">\n",
       "      <th></th>\n",
       "      <th>t</th>\n",
       "      <th>throttle</th>\n",
       "      <th>brake</th>\n",
       "      <th>steer</th>\n",
       "    </tr>\n",
       "  </thead>\n",
       "  <tbody>\n",
       "    <tr>\n",
       "      <th>0</th>\n",
       "      <td>0.0</td>\n",
       "      <td>0</td>\n",
       "      <td>0</td>\n",
       "      <td>0.0</td>\n",
       "    </tr>\n",
       "    <tr>\n",
       "      <th>1</th>\n",
       "      <td>0.1</td>\n",
       "      <td>0</td>\n",
       "      <td>0</td>\n",
       "      <td>0.0</td>\n",
       "    </tr>\n",
       "    <tr>\n",
       "      <th>2</th>\n",
       "      <td>0.2</td>\n",
       "      <td>0</td>\n",
       "      <td>0</td>\n",
       "      <td>0.0</td>\n",
       "    </tr>\n",
       "    <tr>\n",
       "      <th>3</th>\n",
       "      <td>0.3</td>\n",
       "      <td>0</td>\n",
       "      <td>0</td>\n",
       "      <td>0.0</td>\n",
       "    </tr>\n",
       "    <tr>\n",
       "      <th>4</th>\n",
       "      <td>0.4</td>\n",
       "      <td>0</td>\n",
       "      <td>0</td>\n",
       "      <td>0.0</td>\n",
       "    </tr>\n",
       "  </tbody>\n",
       "</table>\n",
       "</div>"
      ],
      "text/plain": [
       "     t  throttle  brake  steer\n",
       "0  0.0         0      0    0.0\n",
       "1  0.1         0      0    0.0\n",
       "2  0.2         0      0    0.0\n",
       "3  0.3         0      0    0.0\n",
       "4  0.4         0      0    0.0"
      ]
     },
     "execution_count": 18,
     "metadata": {},
     "output_type": "execute_result"
    }
   ],
   "source": [
    "end_time = df.t.max()  \n",
    "t = list(df.t)  \n",
    "throttle = [0] * len(t)                      \n",
    "brake = [0] * len(t)                         \n",
    "steer = list(df.steer)                                   \n",
    "driver_input_dict = {'t':t, 'throttle':throttle, 'brake':brake, 'steer':steer}\n",
    "driver_input_df = pd.DataFrame.from_dict(driver_input_dict)\n",
    "print('Vehicle Driver Inputs:')\n",
    "driver_input_df.head()"
   ]
  },
  {
   "cell_type": "code",
   "execution_count": 19,
   "metadata": {},
   "outputs": [
    {
     "data": {
      "text/plain": [
       "10.9"
      ]
     },
     "execution_count": 19,
     "metadata": {},
     "output_type": "execute_result"
    }
   ],
   "source": [
    "driver_input_df.t.iloc[-1]"
   ]
  },
  {
   "cell_type": "markdown",
   "metadata": {},
   "source": [
    "### Assign validation data to veh2"
   ]
  },
  {
   "cell_type": "code",
   "execution_count": 20,
   "metadata": {},
   "outputs": [
    {
     "name": "stdout",
     "output_type": "stream",
     "text": [
      "Vehicle inputs for Veh2 applied succesfully\n"
     ]
    }
   ],
   "source": [
    "veh2 = Vehicle('Veh2', vehicle_input_dict)\n",
    "veh2.driver_input = driver_input_df\n",
    "# apply validation data as a model result\n",
    "veh2.model = df"
   ]
  },
  {
   "cell_type": "markdown",
   "metadata": {},
   "source": [
    "### Create Pycrash vehicle:\n",
    "- \"Vehicle\" stores information about a single vehicle - all possible inputs do not need to be entered\n",
    "- creating a Vehicle requries a \"name\" which is used to identify the vehicle in outputs / plots etc. "
   ]
  },
  {
   "cell_type": "code",
   "execution_count": 35,
   "metadata": {},
   "outputs": [
    {
     "name": "stdout",
     "output_type": "stream",
     "text": [
      "Vehicle inputs for Veh1 applied succesfully\n"
     ]
    }
   ],
   "source": [
    "veh1 = Vehicle('Veh1', vehicle_input_dict)\n",
    "veh1.driver_input = driver_input_df\n",
    "veh1.vx_initial = 15\n",
    "veh1.hcg = 0   # vary cg height"
   ]
  },
  {
   "cell_type": "markdown",
   "metadata": {},
   "source": [
    "### Create Single Motion Instance\n",
    "- simulation is run when instance is created"
   ]
  },
  {
   "cell_type": "code",
   "execution_count": 36,
   "metadata": {},
   "outputs": [
    {
     "name": "stdout",
     "output_type": "stream",
     "text": [
      "Maximum allowable friction: 0.76\n",
      "Time step for vehicle motion (s) : 0.1\n",
      "Maximum tire slip angle (deg): 10.00\n",
      "Driver input for Veh1 of shape = (110, 4)\n",
      "Vehicle motion will be simulated for 10.9 seconds\n"
     ]
    }
   ],
   "source": [
    "run = SingleMotion('15_mph_steer', veh1)"
   ]
  },
  {
   "cell_type": "code",
   "execution_count": 37,
   "metadata": {},
   "outputs": [
    {
     "data": {
      "text/plain": [
       "0"
      ]
     },
     "execution_count": 37,
     "metadata": {},
     "output_type": "execute_result"
    }
   ],
   "source": [
    "run.veh.hcg"
   ]
  },
  {
   "cell_type": "markdown",
   "metadata": {},
   "source": [
    "### View Driver Inputs"
   ]
  },
  {
   "cell_type": "code",
   "execution_count": 38,
   "metadata": {},
   "outputs": [
    {
     "data": {
      "application/vnd.plotly.v1+json": {
       "config": {
        "plotlyServerURL": "https://plot.ly"
       },
       "data": [
        {
         "line": {
          "color": "rgb(0, 255, 0)",
          "width": 2
         },
         "mode": "lines",
         "name": "throttle",
         "type": "scatter",
         "x": [
          0,
          0.1,
          0.2,
          0.3,
          0.4,
          0.5,
          0.6,
          0.7,
          0.8,
          0.9,
          1,
          1.1,
          1.2,
          1.3,
          1.4,
          1.5,
          1.6,
          1.7,
          1.8,
          1.9,
          2,
          2.1,
          2.2,
          2.3,
          2.4,
          2.5,
          2.6,
          2.7,
          2.8,
          2.9,
          3,
          3.1,
          3.2,
          3.3,
          3.4,
          3.5,
          3.6,
          3.7,
          3.8,
          3.9,
          4,
          4.1,
          4.2,
          4.3,
          4.4,
          4.5,
          4.6,
          4.7,
          4.8,
          4.9,
          5,
          5.1,
          5.2,
          5.3,
          5.4,
          5.5,
          5.6,
          5.7,
          5.8,
          5.9,
          6,
          6.1,
          6.2,
          6.3,
          6.4,
          6.5,
          6.6,
          6.7,
          6.8,
          6.9,
          7,
          7.1,
          7.2,
          7.3,
          7.4,
          7.5,
          7.6,
          7.7,
          7.8,
          7.9,
          8,
          8.1,
          8.2,
          8.3,
          8.4,
          8.5,
          8.6,
          8.7,
          8.8,
          8.9,
          9,
          9.1,
          9.2,
          9.3,
          9.4,
          9.5,
          9.6,
          9.7,
          9.8,
          9.9,
          10,
          10.1,
          10.2,
          10.3,
          10.4,
          10.5,
          10.6,
          10.7,
          10.8,
          10.9
         ],
         "xaxis": "x",
         "y": [
          0,
          0,
          0,
          0,
          0,
          0,
          0,
          0,
          0,
          0,
          0,
          0,
          0,
          0,
          0,
          0,
          0,
          0,
          0,
          0,
          0,
          0,
          0,
          0,
          0,
          0,
          0,
          0,
          0,
          0,
          0,
          0,
          0,
          0,
          0,
          0,
          0,
          0,
          0,
          0,
          0,
          0,
          0,
          0,
          0,
          0,
          0,
          0,
          0,
          0,
          0,
          0,
          0,
          0,
          0,
          0,
          0,
          0,
          0,
          0,
          0,
          0,
          0,
          0,
          0,
          0,
          0,
          0,
          0,
          0,
          0,
          0,
          0,
          0,
          0,
          0,
          0,
          0,
          0,
          0,
          0,
          0,
          0,
          0,
          0,
          0,
          0,
          0,
          0,
          0,
          0,
          0,
          0,
          0,
          0,
          0,
          0,
          0,
          0,
          0,
          0,
          0,
          0,
          0,
          0,
          0,
          0,
          0,
          0,
          0
         ],
         "yaxis": "y"
        },
        {
         "line": {
          "color": "rgb(255, 0, 0)",
          "width": 2
         },
         "mode": "lines",
         "name": "brake",
         "type": "scatter",
         "x": [
          0,
          0.1,
          0.2,
          0.3,
          0.4,
          0.5,
          0.6,
          0.7,
          0.8,
          0.9,
          1,
          1.1,
          1.2,
          1.3,
          1.4,
          1.5,
          1.6,
          1.7,
          1.8,
          1.9,
          2,
          2.1,
          2.2,
          2.3,
          2.4,
          2.5,
          2.6,
          2.7,
          2.8,
          2.9,
          3,
          3.1,
          3.2,
          3.3,
          3.4,
          3.5,
          3.6,
          3.7,
          3.8,
          3.9,
          4,
          4.1,
          4.2,
          4.3,
          4.4,
          4.5,
          4.6,
          4.7,
          4.8,
          4.9,
          5,
          5.1,
          5.2,
          5.3,
          5.4,
          5.5,
          5.6,
          5.7,
          5.8,
          5.9,
          6,
          6.1,
          6.2,
          6.3,
          6.4,
          6.5,
          6.6,
          6.7,
          6.8,
          6.9,
          7,
          7.1,
          7.2,
          7.3,
          7.4,
          7.5,
          7.6,
          7.7,
          7.8,
          7.9,
          8,
          8.1,
          8.2,
          8.3,
          8.4,
          8.5,
          8.6,
          8.7,
          8.8,
          8.9,
          9,
          9.1,
          9.2,
          9.3,
          9.4,
          9.5,
          9.6,
          9.7,
          9.8,
          9.9,
          10,
          10.1,
          10.2,
          10.3,
          10.4,
          10.5,
          10.6,
          10.7,
          10.8,
          10.9
         ],
         "xaxis": "x",
         "y": [
          0,
          0,
          0,
          0,
          0,
          0,
          0,
          0,
          0,
          0,
          0,
          0,
          0,
          0,
          0,
          0,
          0,
          0,
          0,
          0,
          0,
          0,
          0,
          0,
          0,
          0,
          0,
          0,
          0,
          0,
          0,
          0,
          0,
          0,
          0,
          0,
          0,
          0,
          0,
          0,
          0,
          0,
          0,
          0,
          0,
          0,
          0,
          0,
          0,
          0,
          0,
          0,
          0,
          0,
          0,
          0,
          0,
          0,
          0,
          0,
          0,
          0,
          0,
          0,
          0,
          0,
          0,
          0,
          0,
          0,
          0,
          0,
          0,
          0,
          0,
          0,
          0,
          0,
          0,
          0,
          0,
          0,
          0,
          0,
          0,
          0,
          0,
          0,
          0,
          0,
          0,
          0,
          0,
          0,
          0,
          0,
          0,
          0,
          0,
          0,
          0,
          0,
          0,
          0,
          0,
          0,
          0,
          0,
          0,
          0
         ],
         "yaxis": "y"
        },
        {
         "line": {
          "color": "rgb(0, 0, 0)",
          "width": 2
         },
         "mode": "lines",
         "name": "steer",
         "type": "scatter",
         "x": [
          0,
          0.1,
          0.2,
          0.3,
          0.4,
          0.5,
          0.6,
          0.7,
          0.8,
          0.9,
          1,
          1.1,
          1.2,
          1.3,
          1.4,
          1.5,
          1.6,
          1.7,
          1.8,
          1.9,
          2,
          2.1,
          2.2,
          2.3,
          2.4,
          2.5,
          2.6,
          2.7,
          2.8,
          2.9,
          3,
          3.1,
          3.2,
          3.3,
          3.4,
          3.5,
          3.6,
          3.7,
          3.8,
          3.9,
          4,
          4.1,
          4.2,
          4.3,
          4.4,
          4.5,
          4.6,
          4.7,
          4.8,
          4.9,
          5,
          5.1,
          5.2,
          5.3,
          5.4,
          5.5,
          5.6,
          5.7,
          5.8,
          5.9,
          6,
          6.1,
          6.2,
          6.3,
          6.4,
          6.5,
          6.6,
          6.7,
          6.8,
          6.9,
          7,
          7.1,
          7.2,
          7.3,
          7.4,
          7.5,
          7.6,
          7.7,
          7.8,
          7.9,
          8,
          8.1,
          8.2,
          8.3,
          8.4,
          8.5,
          8.6,
          8.7,
          8.8,
          8.9,
          9,
          9.1,
          9.2,
          9.3,
          9.4,
          9.5,
          9.6,
          9.7,
          9.8,
          9.9,
          10,
          10.1,
          10.2,
          10.3,
          10.4,
          10.5,
          10.6,
          10.7,
          10.8,
          10.9
         ],
         "xaxis": "x",
         "y": [
          0,
          0,
          0,
          0,
          0,
          0,
          0,
          0,
          0,
          0,
          0,
          -32.400051,
          -68.40006,
          -104.400069,
          -140.400077,
          -176.400086,
          -212.400094,
          -248.400103,
          -284.400112,
          -320.40012,
          -356.400086,
          -360,
          -360,
          -360,
          -360,
          -360,
          -360,
          -360,
          -360,
          -360,
          -360,
          -360,
          -360,
          -360,
          -360,
          -360,
          -360,
          -360,
          -360,
          -360,
          -360,
          -360,
          -360,
          -360,
          -360,
          -360,
          -360,
          -360,
          -360,
          -360,
          -360,
          -360,
          -360,
          -360,
          -360,
          -360,
          -360,
          -360,
          -360,
          -360,
          -360,
          -360,
          -360,
          -360,
          -360,
          -360,
          -360,
          -360,
          -360,
          -360,
          -360,
          -360,
          -360,
          -360,
          -360,
          -360,
          -360,
          -360,
          -360,
          -360,
          -360,
          -360,
          -360,
          -360,
          -360,
          -360,
          -360,
          -360,
          -360,
          -360,
          -360,
          -360,
          -360,
          -360,
          -360,
          -360,
          -360,
          -360,
          -360,
          -360,
          -360,
          -360,
          -360,
          -360,
          -360,
          -360,
          -360,
          -360,
          -360,
          -360
         ],
         "yaxis": "y2"
        }
       ],
       "layout": {
        "autosize": false,
        "font": {
         "color": "black",
         "family": "Arial",
         "size": 16
        },
        "height": 450,
        "legend": {
         "orientation": "h",
         "x": 0.01,
         "xanchor": "left",
         "y": 1.15,
         "yanchor": "top"
        },
        "template": {
         "data": {
          "bar": [
           {
            "error_x": {
             "color": "#2a3f5f"
            },
            "error_y": {
             "color": "#2a3f5f"
            },
            "marker": {
             "line": {
              "color": "white",
              "width": 0.5
             }
            },
            "type": "bar"
           }
          ],
          "barpolar": [
           {
            "marker": {
             "line": {
              "color": "white",
              "width": 0.5
             }
            },
            "type": "barpolar"
           }
          ],
          "carpet": [
           {
            "aaxis": {
             "endlinecolor": "#2a3f5f",
             "gridcolor": "#C8D4E3",
             "linecolor": "#C8D4E3",
             "minorgridcolor": "#C8D4E3",
             "startlinecolor": "#2a3f5f"
            },
            "baxis": {
             "endlinecolor": "#2a3f5f",
             "gridcolor": "#C8D4E3",
             "linecolor": "#C8D4E3",
             "minorgridcolor": "#C8D4E3",
             "startlinecolor": "#2a3f5f"
            },
            "type": "carpet"
           }
          ],
          "choropleth": [
           {
            "colorbar": {
             "outlinewidth": 0,
             "ticks": ""
            },
            "type": "choropleth"
           }
          ],
          "contour": [
           {
            "colorbar": {
             "outlinewidth": 0,
             "ticks": ""
            },
            "colorscale": [
             [
              0,
              "#0d0887"
             ],
             [
              0.1111111111111111,
              "#46039f"
             ],
             [
              0.2222222222222222,
              "#7201a8"
             ],
             [
              0.3333333333333333,
              "#9c179e"
             ],
             [
              0.4444444444444444,
              "#bd3786"
             ],
             [
              0.5555555555555556,
              "#d8576b"
             ],
             [
              0.6666666666666666,
              "#ed7953"
             ],
             [
              0.7777777777777778,
              "#fb9f3a"
             ],
             [
              0.8888888888888888,
              "#fdca26"
             ],
             [
              1,
              "#f0f921"
             ]
            ],
            "type": "contour"
           }
          ],
          "contourcarpet": [
           {
            "colorbar": {
             "outlinewidth": 0,
             "ticks": ""
            },
            "type": "contourcarpet"
           }
          ],
          "heatmap": [
           {
            "colorbar": {
             "outlinewidth": 0,
             "ticks": ""
            },
            "colorscale": [
             [
              0,
              "#0d0887"
             ],
             [
              0.1111111111111111,
              "#46039f"
             ],
             [
              0.2222222222222222,
              "#7201a8"
             ],
             [
              0.3333333333333333,
              "#9c179e"
             ],
             [
              0.4444444444444444,
              "#bd3786"
             ],
             [
              0.5555555555555556,
              "#d8576b"
             ],
             [
              0.6666666666666666,
              "#ed7953"
             ],
             [
              0.7777777777777778,
              "#fb9f3a"
             ],
             [
              0.8888888888888888,
              "#fdca26"
             ],
             [
              1,
              "#f0f921"
             ]
            ],
            "type": "heatmap"
           }
          ],
          "heatmapgl": [
           {
            "colorbar": {
             "outlinewidth": 0,
             "ticks": ""
            },
            "colorscale": [
             [
              0,
              "#0d0887"
             ],
             [
              0.1111111111111111,
              "#46039f"
             ],
             [
              0.2222222222222222,
              "#7201a8"
             ],
             [
              0.3333333333333333,
              "#9c179e"
             ],
             [
              0.4444444444444444,
              "#bd3786"
             ],
             [
              0.5555555555555556,
              "#d8576b"
             ],
             [
              0.6666666666666666,
              "#ed7953"
             ],
             [
              0.7777777777777778,
              "#fb9f3a"
             ],
             [
              0.8888888888888888,
              "#fdca26"
             ],
             [
              1,
              "#f0f921"
             ]
            ],
            "type": "heatmapgl"
           }
          ],
          "histogram": [
           {
            "marker": {
             "colorbar": {
              "outlinewidth": 0,
              "ticks": ""
             }
            },
            "type": "histogram"
           }
          ],
          "histogram2d": [
           {
            "colorbar": {
             "outlinewidth": 0,
             "ticks": ""
            },
            "colorscale": [
             [
              0,
              "#0d0887"
             ],
             [
              0.1111111111111111,
              "#46039f"
             ],
             [
              0.2222222222222222,
              "#7201a8"
             ],
             [
              0.3333333333333333,
              "#9c179e"
             ],
             [
              0.4444444444444444,
              "#bd3786"
             ],
             [
              0.5555555555555556,
              "#d8576b"
             ],
             [
              0.6666666666666666,
              "#ed7953"
             ],
             [
              0.7777777777777778,
              "#fb9f3a"
             ],
             [
              0.8888888888888888,
              "#fdca26"
             ],
             [
              1,
              "#f0f921"
             ]
            ],
            "type": "histogram2d"
           }
          ],
          "histogram2dcontour": [
           {
            "colorbar": {
             "outlinewidth": 0,
             "ticks": ""
            },
            "colorscale": [
             [
              0,
              "#0d0887"
             ],
             [
              0.1111111111111111,
              "#46039f"
             ],
             [
              0.2222222222222222,
              "#7201a8"
             ],
             [
              0.3333333333333333,
              "#9c179e"
             ],
             [
              0.4444444444444444,
              "#bd3786"
             ],
             [
              0.5555555555555556,
              "#d8576b"
             ],
             [
              0.6666666666666666,
              "#ed7953"
             ],
             [
              0.7777777777777778,
              "#fb9f3a"
             ],
             [
              0.8888888888888888,
              "#fdca26"
             ],
             [
              1,
              "#f0f921"
             ]
            ],
            "type": "histogram2dcontour"
           }
          ],
          "mesh3d": [
           {
            "colorbar": {
             "outlinewidth": 0,
             "ticks": ""
            },
            "type": "mesh3d"
           }
          ],
          "parcoords": [
           {
            "line": {
             "colorbar": {
              "outlinewidth": 0,
              "ticks": ""
             }
            },
            "type": "parcoords"
           }
          ],
          "pie": [
           {
            "automargin": true,
            "type": "pie"
           }
          ],
          "scatter": [
           {
            "marker": {
             "colorbar": {
              "outlinewidth": 0,
              "ticks": ""
             }
            },
            "type": "scatter"
           }
          ],
          "scatter3d": [
           {
            "line": {
             "colorbar": {
              "outlinewidth": 0,
              "ticks": ""
             }
            },
            "marker": {
             "colorbar": {
              "outlinewidth": 0,
              "ticks": ""
             }
            },
            "type": "scatter3d"
           }
          ],
          "scattercarpet": [
           {
            "marker": {
             "colorbar": {
              "outlinewidth": 0,
              "ticks": ""
             }
            },
            "type": "scattercarpet"
           }
          ],
          "scattergeo": [
           {
            "marker": {
             "colorbar": {
              "outlinewidth": 0,
              "ticks": ""
             }
            },
            "type": "scattergeo"
           }
          ],
          "scattergl": [
           {
            "marker": {
             "colorbar": {
              "outlinewidth": 0,
              "ticks": ""
             }
            },
            "type": "scattergl"
           }
          ],
          "scattermapbox": [
           {
            "marker": {
             "colorbar": {
              "outlinewidth": 0,
              "ticks": ""
             }
            },
            "type": "scattermapbox"
           }
          ],
          "scatterpolar": [
           {
            "marker": {
             "colorbar": {
              "outlinewidth": 0,
              "ticks": ""
             }
            },
            "type": "scatterpolar"
           }
          ],
          "scatterpolargl": [
           {
            "marker": {
             "colorbar": {
              "outlinewidth": 0,
              "ticks": ""
             }
            },
            "type": "scatterpolargl"
           }
          ],
          "scatterternary": [
           {
            "marker": {
             "colorbar": {
              "outlinewidth": 0,
              "ticks": ""
             }
            },
            "type": "scatterternary"
           }
          ],
          "surface": [
           {
            "colorbar": {
             "outlinewidth": 0,
             "ticks": ""
            },
            "colorscale": [
             [
              0,
              "#0d0887"
             ],
             [
              0.1111111111111111,
              "#46039f"
             ],
             [
              0.2222222222222222,
              "#7201a8"
             ],
             [
              0.3333333333333333,
              "#9c179e"
             ],
             [
              0.4444444444444444,
              "#bd3786"
             ],
             [
              0.5555555555555556,
              "#d8576b"
             ],
             [
              0.6666666666666666,
              "#ed7953"
             ],
             [
              0.7777777777777778,
              "#fb9f3a"
             ],
             [
              0.8888888888888888,
              "#fdca26"
             ],
             [
              1,
              "#f0f921"
             ]
            ],
            "type": "surface"
           }
          ],
          "table": [
           {
            "cells": {
             "fill": {
              "color": "#EBF0F8"
             },
             "line": {
              "color": "white"
             }
            },
            "header": {
             "fill": {
              "color": "#C8D4E3"
             },
             "line": {
              "color": "white"
             }
            },
            "type": "table"
           }
          ]
         },
         "layout": {
          "annotationdefaults": {
           "arrowcolor": "#2a3f5f",
           "arrowhead": 0,
           "arrowwidth": 1
          },
          "coloraxis": {
           "colorbar": {
            "outlinewidth": 0,
            "ticks": ""
           }
          },
          "colorscale": {
           "diverging": [
            [
             0,
             "#8e0152"
            ],
            [
             0.1,
             "#c51b7d"
            ],
            [
             0.2,
             "#de77ae"
            ],
            [
             0.3,
             "#f1b6da"
            ],
            [
             0.4,
             "#fde0ef"
            ],
            [
             0.5,
             "#f7f7f7"
            ],
            [
             0.6,
             "#e6f5d0"
            ],
            [
             0.7,
             "#b8e186"
            ],
            [
             0.8,
             "#7fbc41"
            ],
            [
             0.9,
             "#4d9221"
            ],
            [
             1,
             "#276419"
            ]
           ],
           "sequential": [
            [
             0,
             "#0d0887"
            ],
            [
             0.1111111111111111,
             "#46039f"
            ],
            [
             0.2222222222222222,
             "#7201a8"
            ],
            [
             0.3333333333333333,
             "#9c179e"
            ],
            [
             0.4444444444444444,
             "#bd3786"
            ],
            [
             0.5555555555555556,
             "#d8576b"
            ],
            [
             0.6666666666666666,
             "#ed7953"
            ],
            [
             0.7777777777777778,
             "#fb9f3a"
            ],
            [
             0.8888888888888888,
             "#fdca26"
            ],
            [
             1,
             "#f0f921"
            ]
           ],
           "sequentialminus": [
            [
             0,
             "#0d0887"
            ],
            [
             0.1111111111111111,
             "#46039f"
            ],
            [
             0.2222222222222222,
             "#7201a8"
            ],
            [
             0.3333333333333333,
             "#9c179e"
            ],
            [
             0.4444444444444444,
             "#bd3786"
            ],
            [
             0.5555555555555556,
             "#d8576b"
            ],
            [
             0.6666666666666666,
             "#ed7953"
            ],
            [
             0.7777777777777778,
             "#fb9f3a"
            ],
            [
             0.8888888888888888,
             "#fdca26"
            ],
            [
             1,
             "#f0f921"
            ]
           ]
          },
          "colorway": [
           "#636efa",
           "#EF553B",
           "#00cc96",
           "#ab63fa",
           "#FFA15A",
           "#19d3f3",
           "#FF6692",
           "#B6E880",
           "#FF97FF",
           "#FECB52"
          ],
          "font": {
           "color": "#2a3f5f"
          },
          "geo": {
           "bgcolor": "white",
           "lakecolor": "white",
           "landcolor": "white",
           "showlakes": true,
           "showland": true,
           "subunitcolor": "#C8D4E3"
          },
          "hoverlabel": {
           "align": "left"
          },
          "hovermode": "closest",
          "mapbox": {
           "style": "light"
          },
          "paper_bgcolor": "white",
          "plot_bgcolor": "white",
          "polar": {
           "angularaxis": {
            "gridcolor": "#EBF0F8",
            "linecolor": "#EBF0F8",
            "ticks": ""
           },
           "bgcolor": "white",
           "radialaxis": {
            "gridcolor": "#EBF0F8",
            "linecolor": "#EBF0F8",
            "ticks": ""
           }
          },
          "scene": {
           "xaxis": {
            "backgroundcolor": "white",
            "gridcolor": "#DFE8F3",
            "gridwidth": 2,
            "linecolor": "#EBF0F8",
            "showbackground": true,
            "ticks": "",
            "zerolinecolor": "#EBF0F8"
           },
           "yaxis": {
            "backgroundcolor": "white",
            "gridcolor": "#DFE8F3",
            "gridwidth": 2,
            "linecolor": "#EBF0F8",
            "showbackground": true,
            "ticks": "",
            "zerolinecolor": "#EBF0F8"
           },
           "zaxis": {
            "backgroundcolor": "white",
            "gridcolor": "#DFE8F3",
            "gridwidth": 2,
            "linecolor": "#EBF0F8",
            "showbackground": true,
            "ticks": "",
            "zerolinecolor": "#EBF0F8"
           }
          },
          "shapedefaults": {
           "line": {
            "color": "#2a3f5f"
           }
          },
          "ternary": {
           "aaxis": {
            "gridcolor": "#DFE8F3",
            "linecolor": "#A2B1C6",
            "ticks": ""
           },
           "baxis": {
            "gridcolor": "#DFE8F3",
            "linecolor": "#A2B1C6",
            "ticks": ""
           },
           "bgcolor": "white",
           "caxis": {
            "gridcolor": "#DFE8F3",
            "linecolor": "#A2B1C6",
            "ticks": ""
           }
          },
          "title": {
           "x": 0.05
          },
          "xaxis": {
           "automargin": true,
           "gridcolor": "#EBF0F8",
           "linecolor": "#EBF0F8",
           "ticks": "",
           "title": {
            "standoff": 15
           },
           "zerolinecolor": "#EBF0F8",
           "zerolinewidth": 2
          },
          "yaxis": {
           "automargin": true,
           "gridcolor": "#EBF0F8",
           "linecolor": "#EBF0F8",
           "ticks": "",
           "title": {
            "standoff": 15
           },
           "zerolinecolor": "#EBF0F8",
           "zerolinewidth": 2
          }
         }
        },
        "title": {
         "text": "Driver Inputs for Veh1"
        },
        "width": 800,
        "xaxis": {
         "anchor": "y",
         "domain": [
          0,
          0.94
         ],
         "linecolor": "black",
         "linewidth": 1,
         "showgrid": false,
         "showline": true,
         "tickcolor": "black",
         "ticklen": 10,
         "ticks": "outside",
         "tickwidth": 1,
         "title": {
          "text": "Time (s)"
         },
         "zeroline": false
        },
        "yaxis": {
         "anchor": "x",
         "autorange": "reversed",
         "domain": [
          0,
          1
         ],
         "linecolor": "black",
         "linewidth": 1,
         "showgrid": false,
         "showline": true,
         "tickcolor": "black",
         "ticklen": 10,
         "ticks": "outside",
         "tickwidth": 1,
         "title": {
          "text": "Brake | Throttle (%)"
         },
         "zeroline": false
        },
        "yaxis2": {
         "anchor": "x",
         "autorange": "reversed",
         "linecolor": "black",
         "linewidth": 1,
         "overlaying": "y",
         "showgrid": false,
         "showline": true,
         "side": "right",
         "tickcolor": "black",
         "ticklen": 10,
         "ticks": "outside",
         "tickwidth": 1,
         "title": {
          "text": "Steer Angle (deg)"
         },
         "zeroline": false
        }
       }
      },
      "text/html": [
       "<div>\n",
       "        \n",
       "        \n",
       "            <div id=\"8a0b8715-7412-4ad7-9096-c58c94ee512a\" class=\"plotly-graph-div\" style=\"height:450px; width:800px;\"></div>\n",
       "            <script type=\"text/javascript\">\n",
       "                require([\"plotly\"], function(Plotly) {\n",
       "                    window.PLOTLYENV=window.PLOTLYENV || {};\n",
       "                    \n",
       "                if (document.getElementById(\"8a0b8715-7412-4ad7-9096-c58c94ee512a\")) {\n",
       "                    Plotly.newPlot(\n",
       "                        '8a0b8715-7412-4ad7-9096-c58c94ee512a',\n",
       "                        [{\"line\": {\"color\": \"rgb(0, 255, 0)\", \"width\": 2}, \"mode\": \"lines\", \"name\": \"throttle\", \"type\": \"scatter\", \"x\": [0.0, 0.1, 0.2, 0.3, 0.4, 0.5, 0.6, 0.7, 0.8, 0.9, 1.0, 1.1, 1.2, 1.3, 1.4, 1.5, 1.6, 1.7, 1.8, 1.9, 2.0, 2.1, 2.2, 2.3, 2.4, 2.5, 2.6, 2.7, 2.8, 2.9, 3.0, 3.1, 3.2, 3.3, 3.4, 3.5, 3.6, 3.7, 3.8, 3.9, 4.0, 4.1, 4.2, 4.3, 4.4, 4.5, 4.6, 4.7, 4.8, 4.9, 5.0, 5.1, 5.2, 5.3, 5.4, 5.5, 5.6, 5.7, 5.8, 5.9, 6.0, 6.1, 6.2, 6.3, 6.4, 6.5, 6.6, 6.7, 6.8, 6.9, 7.0, 7.1, 7.2, 7.3, 7.4, 7.5, 7.6, 7.7, 7.8, 7.9, 8.0, 8.1, 8.2, 8.3, 8.4, 8.5, 8.6, 8.7, 8.8, 8.9, 9.0, 9.1, 9.2, 9.3, 9.4, 9.5, 9.6, 9.7, 9.8, 9.9, 10.0, 10.1, 10.2, 10.3, 10.4, 10.5, 10.6, 10.7, 10.8, 10.9], \"xaxis\": \"x\", \"y\": [0, 0, 0, 0, 0, 0, 0, 0, 0, 0, 0, 0, 0, 0, 0, 0, 0, 0, 0, 0, 0, 0, 0, 0, 0, 0, 0, 0, 0, 0, 0, 0, 0, 0, 0, 0, 0, 0, 0, 0, 0, 0, 0, 0, 0, 0, 0, 0, 0, 0, 0, 0, 0, 0, 0, 0, 0, 0, 0, 0, 0, 0, 0, 0, 0, 0, 0, 0, 0, 0, 0, 0, 0, 0, 0, 0, 0, 0, 0, 0, 0, 0, 0, 0, 0, 0, 0, 0, 0, 0, 0, 0, 0, 0, 0, 0, 0, 0, 0, 0, 0, 0, 0, 0, 0, 0, 0, 0, 0, 0], \"yaxis\": \"y\"}, {\"line\": {\"color\": \"rgb(255, 0, 0)\", \"width\": 2}, \"mode\": \"lines\", \"name\": \"brake\", \"type\": \"scatter\", \"x\": [0.0, 0.1, 0.2, 0.3, 0.4, 0.5, 0.6, 0.7, 0.8, 0.9, 1.0, 1.1, 1.2, 1.3, 1.4, 1.5, 1.6, 1.7, 1.8, 1.9, 2.0, 2.1, 2.2, 2.3, 2.4, 2.5, 2.6, 2.7, 2.8, 2.9, 3.0, 3.1, 3.2, 3.3, 3.4, 3.5, 3.6, 3.7, 3.8, 3.9, 4.0, 4.1, 4.2, 4.3, 4.4, 4.5, 4.6, 4.7, 4.8, 4.9, 5.0, 5.1, 5.2, 5.3, 5.4, 5.5, 5.6, 5.7, 5.8, 5.9, 6.0, 6.1, 6.2, 6.3, 6.4, 6.5, 6.6, 6.7, 6.8, 6.9, 7.0, 7.1, 7.2, 7.3, 7.4, 7.5, 7.6, 7.7, 7.8, 7.9, 8.0, 8.1, 8.2, 8.3, 8.4, 8.5, 8.6, 8.7, 8.8, 8.9, 9.0, 9.1, 9.2, 9.3, 9.4, 9.5, 9.6, 9.7, 9.8, 9.9, 10.0, 10.1, 10.2, 10.3, 10.4, 10.5, 10.6, 10.7, 10.8, 10.9], \"xaxis\": \"x\", \"y\": [0, 0, 0, 0, 0, 0, 0, 0, 0, 0, 0, 0, 0, 0, 0, 0, 0, 0, 0, 0, 0, 0, 0, 0, 0, 0, 0, 0, 0, 0, 0, 0, 0, 0, 0, 0, 0, 0, 0, 0, 0, 0, 0, 0, 0, 0, 0, 0, 0, 0, 0, 0, 0, 0, 0, 0, 0, 0, 0, 0, 0, 0, 0, 0, 0, 0, 0, 0, 0, 0, 0, 0, 0, 0, 0, 0, 0, 0, 0, 0, 0, 0, 0, 0, 0, 0, 0, 0, 0, 0, 0, 0, 0, 0, 0, 0, 0, 0, 0, 0, 0, 0, 0, 0, 0, 0, 0, 0, 0, 0], \"yaxis\": \"y\"}, {\"line\": {\"color\": \"rgb(0, 0, 0)\", \"width\": 2}, \"mode\": \"lines\", \"name\": \"steer\", \"type\": \"scatter\", \"x\": [0.0, 0.1, 0.2, 0.3, 0.4, 0.5, 0.6, 0.7, 0.8, 0.9, 1.0, 1.1, 1.2, 1.3, 1.4, 1.5, 1.6, 1.7, 1.8, 1.9, 2.0, 2.1, 2.2, 2.3, 2.4, 2.5, 2.6, 2.7, 2.8, 2.9, 3.0, 3.1, 3.2, 3.3, 3.4, 3.5, 3.6, 3.7, 3.8, 3.9, 4.0, 4.1, 4.2, 4.3, 4.4, 4.5, 4.6, 4.7, 4.8, 4.9, 5.0, 5.1, 5.2, 5.3, 5.4, 5.5, 5.6, 5.7, 5.8, 5.9, 6.0, 6.1, 6.2, 6.3, 6.4, 6.5, 6.6, 6.7, 6.8, 6.9, 7.0, 7.1, 7.2, 7.3, 7.4, 7.5, 7.6, 7.7, 7.8, 7.9, 8.0, 8.1, 8.2, 8.3, 8.4, 8.5, 8.6, 8.7, 8.8, 8.9, 9.0, 9.1, 9.2, 9.3, 9.4, 9.5, 9.6, 9.7, 9.8, 9.9, 10.0, 10.1, 10.2, 10.3, 10.4, 10.5, 10.6, 10.7, 10.8, 10.9], \"xaxis\": \"x\", \"y\": [0.0, 0.0, 0.0, 0.0, 0.0, 0.0, 0.0, 0.0, 0.0, 0.0, 0.0, -32.400051, -68.40006, -104.400069, -140.400077, -176.400086, -212.400094, -248.400103, -284.400112, -320.40012, -356.400086, -360.0, -360.0, -360.0, -360.0, -360.0, -360.0, -360.0, -360.0, -360.0, -360.0, -360.0, -360.0, -360.0, -360.0, -360.0, -360.0, -360.0, -360.0, -360.0, -360.0, -360.0, -360.0, -360.0, -360.0, -360.0, -360.0, -360.0, -360.0, -360.0, -360.0, -360.0, -360.0, -360.0, -360.0, -360.0, -360.0, -360.0, -360.0, -360.0, -360.0, -360.0, -360.0, -360.0, -360.0, -360.0, -360.0, -360.0, -360.0, -360.0, -360.0, -360.0, -360.0, -360.0, -360.0, -360.0, -360.0, -360.0, -360.0, -360.0, -360.0, -360.0, -360.0, -360.0, -360.0, -360.0, -360.0, -360.0, -360.0, -360.0, -360.0, -360.0, -360.0, -360.0, -360.0, -360.0, -360.0, -360.0, -360.0, -360.0, -360.0, -360.0, -360.0, -360.0, -360.0, -360.0, -360.0, -360.0, -360.0, -360.0], \"yaxis\": \"y2\"}],\n",
       "                        {\"autosize\": false, \"font\": {\"color\": \"black\", \"family\": \"Arial\", \"size\": 16}, \"height\": 450, \"legend\": {\"orientation\": \"h\", \"x\": 0.01, \"xanchor\": \"left\", \"y\": 1.15, \"yanchor\": \"top\"}, \"template\": {\"data\": {\"bar\": [{\"error_x\": {\"color\": \"#2a3f5f\"}, \"error_y\": {\"color\": \"#2a3f5f\"}, \"marker\": {\"line\": {\"color\": \"white\", \"width\": 0.5}}, \"type\": \"bar\"}], \"barpolar\": [{\"marker\": {\"line\": {\"color\": \"white\", \"width\": 0.5}}, \"type\": \"barpolar\"}], \"carpet\": [{\"aaxis\": {\"endlinecolor\": \"#2a3f5f\", \"gridcolor\": \"#C8D4E3\", \"linecolor\": \"#C8D4E3\", \"minorgridcolor\": \"#C8D4E3\", \"startlinecolor\": \"#2a3f5f\"}, \"baxis\": {\"endlinecolor\": \"#2a3f5f\", \"gridcolor\": \"#C8D4E3\", \"linecolor\": \"#C8D4E3\", \"minorgridcolor\": \"#C8D4E3\", \"startlinecolor\": \"#2a3f5f\"}, \"type\": \"carpet\"}], \"choropleth\": [{\"colorbar\": {\"outlinewidth\": 0, \"ticks\": \"\"}, \"type\": \"choropleth\"}], \"contour\": [{\"colorbar\": {\"outlinewidth\": 0, \"ticks\": \"\"}, \"colorscale\": [[0.0, \"#0d0887\"], [0.1111111111111111, \"#46039f\"], [0.2222222222222222, \"#7201a8\"], [0.3333333333333333, \"#9c179e\"], [0.4444444444444444, \"#bd3786\"], [0.5555555555555556, \"#d8576b\"], [0.6666666666666666, \"#ed7953\"], [0.7777777777777778, \"#fb9f3a\"], [0.8888888888888888, \"#fdca26\"], [1.0, \"#f0f921\"]], \"type\": \"contour\"}], \"contourcarpet\": [{\"colorbar\": {\"outlinewidth\": 0, \"ticks\": \"\"}, \"type\": \"contourcarpet\"}], \"heatmap\": [{\"colorbar\": {\"outlinewidth\": 0, \"ticks\": \"\"}, \"colorscale\": [[0.0, \"#0d0887\"], [0.1111111111111111, \"#46039f\"], [0.2222222222222222, \"#7201a8\"], [0.3333333333333333, \"#9c179e\"], [0.4444444444444444, \"#bd3786\"], [0.5555555555555556, \"#d8576b\"], [0.6666666666666666, \"#ed7953\"], [0.7777777777777778, \"#fb9f3a\"], [0.8888888888888888, \"#fdca26\"], [1.0, \"#f0f921\"]], \"type\": \"heatmap\"}], \"heatmapgl\": [{\"colorbar\": {\"outlinewidth\": 0, \"ticks\": \"\"}, \"colorscale\": [[0.0, \"#0d0887\"], [0.1111111111111111, \"#46039f\"], [0.2222222222222222, \"#7201a8\"], [0.3333333333333333, \"#9c179e\"], [0.4444444444444444, \"#bd3786\"], [0.5555555555555556, \"#d8576b\"], [0.6666666666666666, \"#ed7953\"], [0.7777777777777778, \"#fb9f3a\"], [0.8888888888888888, \"#fdca26\"], [1.0, \"#f0f921\"]], \"type\": \"heatmapgl\"}], \"histogram\": [{\"marker\": {\"colorbar\": {\"outlinewidth\": 0, \"ticks\": \"\"}}, \"type\": \"histogram\"}], \"histogram2d\": [{\"colorbar\": {\"outlinewidth\": 0, \"ticks\": \"\"}, \"colorscale\": [[0.0, \"#0d0887\"], [0.1111111111111111, \"#46039f\"], [0.2222222222222222, \"#7201a8\"], [0.3333333333333333, \"#9c179e\"], [0.4444444444444444, \"#bd3786\"], [0.5555555555555556, \"#d8576b\"], [0.6666666666666666, \"#ed7953\"], [0.7777777777777778, \"#fb9f3a\"], [0.8888888888888888, \"#fdca26\"], [1.0, \"#f0f921\"]], \"type\": \"histogram2d\"}], \"histogram2dcontour\": [{\"colorbar\": {\"outlinewidth\": 0, \"ticks\": \"\"}, \"colorscale\": [[0.0, \"#0d0887\"], [0.1111111111111111, \"#46039f\"], [0.2222222222222222, \"#7201a8\"], [0.3333333333333333, \"#9c179e\"], [0.4444444444444444, \"#bd3786\"], [0.5555555555555556, \"#d8576b\"], [0.6666666666666666, \"#ed7953\"], [0.7777777777777778, \"#fb9f3a\"], [0.8888888888888888, \"#fdca26\"], [1.0, \"#f0f921\"]], \"type\": \"histogram2dcontour\"}], \"mesh3d\": [{\"colorbar\": {\"outlinewidth\": 0, \"ticks\": \"\"}, \"type\": \"mesh3d\"}], \"parcoords\": [{\"line\": {\"colorbar\": {\"outlinewidth\": 0, \"ticks\": \"\"}}, \"type\": \"parcoords\"}], \"pie\": [{\"automargin\": true, \"type\": \"pie\"}], \"scatter\": [{\"marker\": {\"colorbar\": {\"outlinewidth\": 0, \"ticks\": \"\"}}, \"type\": \"scatter\"}], \"scatter3d\": [{\"line\": {\"colorbar\": {\"outlinewidth\": 0, \"ticks\": \"\"}}, \"marker\": {\"colorbar\": {\"outlinewidth\": 0, \"ticks\": \"\"}}, \"type\": \"scatter3d\"}], \"scattercarpet\": [{\"marker\": {\"colorbar\": {\"outlinewidth\": 0, \"ticks\": \"\"}}, \"type\": \"scattercarpet\"}], \"scattergeo\": [{\"marker\": {\"colorbar\": {\"outlinewidth\": 0, \"ticks\": \"\"}}, \"type\": \"scattergeo\"}], \"scattergl\": [{\"marker\": {\"colorbar\": {\"outlinewidth\": 0, \"ticks\": \"\"}}, \"type\": \"scattergl\"}], \"scattermapbox\": [{\"marker\": {\"colorbar\": {\"outlinewidth\": 0, \"ticks\": \"\"}}, \"type\": \"scattermapbox\"}], \"scatterpolar\": [{\"marker\": {\"colorbar\": {\"outlinewidth\": 0, \"ticks\": \"\"}}, \"type\": \"scatterpolar\"}], \"scatterpolargl\": [{\"marker\": {\"colorbar\": {\"outlinewidth\": 0, \"ticks\": \"\"}}, \"type\": \"scatterpolargl\"}], \"scatterternary\": [{\"marker\": {\"colorbar\": {\"outlinewidth\": 0, \"ticks\": \"\"}}, \"type\": \"scatterternary\"}], \"surface\": [{\"colorbar\": {\"outlinewidth\": 0, \"ticks\": \"\"}, \"colorscale\": [[0.0, \"#0d0887\"], [0.1111111111111111, \"#46039f\"], [0.2222222222222222, \"#7201a8\"], [0.3333333333333333, \"#9c179e\"], [0.4444444444444444, \"#bd3786\"], [0.5555555555555556, \"#d8576b\"], [0.6666666666666666, \"#ed7953\"], [0.7777777777777778, \"#fb9f3a\"], [0.8888888888888888, \"#fdca26\"], [1.0, \"#f0f921\"]], \"type\": \"surface\"}], \"table\": [{\"cells\": {\"fill\": {\"color\": \"#EBF0F8\"}, \"line\": {\"color\": \"white\"}}, \"header\": {\"fill\": {\"color\": \"#C8D4E3\"}, \"line\": {\"color\": \"white\"}}, \"type\": \"table\"}]}, \"layout\": {\"annotationdefaults\": {\"arrowcolor\": \"#2a3f5f\", \"arrowhead\": 0, \"arrowwidth\": 1}, \"coloraxis\": {\"colorbar\": {\"outlinewidth\": 0, \"ticks\": \"\"}}, \"colorscale\": {\"diverging\": [[0, \"#8e0152\"], [0.1, \"#c51b7d\"], [0.2, \"#de77ae\"], [0.3, \"#f1b6da\"], [0.4, \"#fde0ef\"], [0.5, \"#f7f7f7\"], [0.6, \"#e6f5d0\"], [0.7, \"#b8e186\"], [0.8, \"#7fbc41\"], [0.9, \"#4d9221\"], [1, \"#276419\"]], \"sequential\": [[0.0, \"#0d0887\"], [0.1111111111111111, \"#46039f\"], [0.2222222222222222, \"#7201a8\"], [0.3333333333333333, \"#9c179e\"], [0.4444444444444444, \"#bd3786\"], [0.5555555555555556, \"#d8576b\"], [0.6666666666666666, \"#ed7953\"], [0.7777777777777778, \"#fb9f3a\"], [0.8888888888888888, \"#fdca26\"], [1.0, \"#f0f921\"]], \"sequentialminus\": [[0.0, \"#0d0887\"], [0.1111111111111111, \"#46039f\"], [0.2222222222222222, \"#7201a8\"], [0.3333333333333333, \"#9c179e\"], [0.4444444444444444, \"#bd3786\"], [0.5555555555555556, \"#d8576b\"], [0.6666666666666666, \"#ed7953\"], [0.7777777777777778, \"#fb9f3a\"], [0.8888888888888888, \"#fdca26\"], [1.0, \"#f0f921\"]]}, \"colorway\": [\"#636efa\", \"#EF553B\", \"#00cc96\", \"#ab63fa\", \"#FFA15A\", \"#19d3f3\", \"#FF6692\", \"#B6E880\", \"#FF97FF\", \"#FECB52\"], \"font\": {\"color\": \"#2a3f5f\"}, \"geo\": {\"bgcolor\": \"white\", \"lakecolor\": \"white\", \"landcolor\": \"white\", \"showlakes\": true, \"showland\": true, \"subunitcolor\": \"#C8D4E3\"}, \"hoverlabel\": {\"align\": \"left\"}, \"hovermode\": \"closest\", \"mapbox\": {\"style\": \"light\"}, \"paper_bgcolor\": \"white\", \"plot_bgcolor\": \"white\", \"polar\": {\"angularaxis\": {\"gridcolor\": \"#EBF0F8\", \"linecolor\": \"#EBF0F8\", \"ticks\": \"\"}, \"bgcolor\": \"white\", \"radialaxis\": {\"gridcolor\": \"#EBF0F8\", \"linecolor\": \"#EBF0F8\", \"ticks\": \"\"}}, \"scene\": {\"xaxis\": {\"backgroundcolor\": \"white\", \"gridcolor\": \"#DFE8F3\", \"gridwidth\": 2, \"linecolor\": \"#EBF0F8\", \"showbackground\": true, \"ticks\": \"\", \"zerolinecolor\": \"#EBF0F8\"}, \"yaxis\": {\"backgroundcolor\": \"white\", \"gridcolor\": \"#DFE8F3\", \"gridwidth\": 2, \"linecolor\": \"#EBF0F8\", \"showbackground\": true, \"ticks\": \"\", \"zerolinecolor\": \"#EBF0F8\"}, \"zaxis\": {\"backgroundcolor\": \"white\", \"gridcolor\": \"#DFE8F3\", \"gridwidth\": 2, \"linecolor\": \"#EBF0F8\", \"showbackground\": true, \"ticks\": \"\", \"zerolinecolor\": \"#EBF0F8\"}}, \"shapedefaults\": {\"line\": {\"color\": \"#2a3f5f\"}}, \"ternary\": {\"aaxis\": {\"gridcolor\": \"#DFE8F3\", \"linecolor\": \"#A2B1C6\", \"ticks\": \"\"}, \"baxis\": {\"gridcolor\": \"#DFE8F3\", \"linecolor\": \"#A2B1C6\", \"ticks\": \"\"}, \"bgcolor\": \"white\", \"caxis\": {\"gridcolor\": \"#DFE8F3\", \"linecolor\": \"#A2B1C6\", \"ticks\": \"\"}}, \"title\": {\"x\": 0.05}, \"xaxis\": {\"automargin\": true, \"gridcolor\": \"#EBF0F8\", \"linecolor\": \"#EBF0F8\", \"ticks\": \"\", \"title\": {\"standoff\": 15}, \"zerolinecolor\": \"#EBF0F8\", \"zerolinewidth\": 2}, \"yaxis\": {\"automargin\": true, \"gridcolor\": \"#EBF0F8\", \"linecolor\": \"#EBF0F8\", \"ticks\": \"\", \"title\": {\"standoff\": 15}, \"zerolinecolor\": \"#EBF0F8\", \"zerolinewidth\": 2}}}, \"title\": {\"text\": \"Driver Inputs for Veh1\"}, \"width\": 800, \"xaxis\": {\"anchor\": \"y\", \"domain\": [0.0, 0.94], \"linecolor\": \"black\", \"linewidth\": 1, \"showgrid\": false, \"showline\": true, \"tickcolor\": \"black\", \"ticklen\": 10, \"ticks\": \"outside\", \"tickwidth\": 1, \"title\": {\"text\": \"Time (s)\"}, \"zeroline\": false}, \"yaxis\": {\"anchor\": \"x\", \"autorange\": \"reversed\", \"domain\": [0.0, 1.0], \"linecolor\": \"black\", \"linewidth\": 1, \"showgrid\": false, \"showline\": true, \"tickcolor\": \"black\", \"ticklen\": 10, \"ticks\": \"outside\", \"tickwidth\": 1, \"title\": {\"text\": \"Brake | Throttle (%)\"}, \"zeroline\": false}, \"yaxis2\": {\"anchor\": \"x\", \"autorange\": \"reversed\", \"linecolor\": \"black\", \"linewidth\": 1, \"overlaying\": \"y\", \"showgrid\": false, \"showline\": true, \"side\": \"right\", \"tickcolor\": \"black\", \"ticklen\": 10, \"ticks\": \"outside\", \"tickwidth\": 1, \"title\": {\"text\": \"Steer Angle (deg)\"}, \"zeroline\": false}},\n",
       "                        {\"responsive\": true}\n",
       "                    ).then(function(){\n",
       "                            \n",
       "var gd = document.getElementById('8a0b8715-7412-4ad7-9096-c58c94ee512a');\n",
       "var x = new MutationObserver(function (mutations, observer) {{\n",
       "        var display = window.getComputedStyle(gd).display;\n",
       "        if (!display || display === 'none') {{\n",
       "            console.log([gd, 'removed!']);\n",
       "            Plotly.purge(gd);\n",
       "            observer.disconnect();\n",
       "        }}\n",
       "}});\n",
       "\n",
       "// Listen for the removal of the full notebook cells\n",
       "var notebookContainer = gd.closest('#notebook-container');\n",
       "if (notebookContainer) {{\n",
       "    x.observe(notebookContainer, {childList: true});\n",
       "}}\n",
       "\n",
       "// Listen for the clearing of the current output cell\n",
       "var outputEl = gd.closest('.output');\n",
       "if (outputEl) {{\n",
       "    x.observe(outputEl, {childList: true});\n",
       "}}\n",
       "\n",
       "                        })\n",
       "                };\n",
       "                });\n",
       "            </script>\n",
       "        </div>"
      ]
     },
     "metadata": {},
     "output_type": "display_data"
    }
   ],
   "source": [
    "run.plot_inputs()"
   ]
  },
  {
   "cell_type": "markdown",
   "metadata": {},
   "source": [
    "### Plot Motion"
   ]
  },
  {
   "cell_type": "code",
   "execution_count": 39,
   "metadata": {},
   "outputs": [
    {
     "data": {
      "application/vnd.plotly.v1+json": {
       "config": {
        "plotlyServerURL": "https://plot.ly"
       },
       "data": [
        {
         "line": {
          "color": "rgb(0, 255, 0)",
          "width": 2
         },
         "mode": "lines",
         "name": "X",
         "type": "scatter",
         "x": [
          0,
          0.1,
          0.2,
          0.3,
          0.4,
          0.5,
          0.6,
          0.7,
          0.8,
          0.9,
          1,
          1.1,
          1.2,
          1.3,
          1.4,
          1.5,
          1.6,
          1.7,
          1.8,
          1.9,
          2,
          2.1,
          2.2,
          2.3,
          2.4,
          2.5,
          2.6,
          2.7,
          2.8,
          2.9,
          3,
          3.1,
          3.2,
          3.3,
          3.4,
          3.5,
          3.6,
          3.7,
          3.8,
          3.9,
          4,
          4.1,
          4.2,
          4.3,
          4.4,
          4.5,
          4.6,
          4.7,
          4.8,
          4.9,
          5,
          5.1,
          5.2,
          5.3,
          5.4,
          5.5,
          5.6,
          5.7,
          5.8,
          5.9,
          6,
          6.1,
          6.2,
          6.3,
          6.4,
          6.5,
          6.6,
          6.7,
          6.8,
          6.9,
          7,
          7.1,
          7.2,
          7.3,
          7.4,
          7.5,
          7.6,
          7.7,
          7.8,
          7.9,
          8,
          8.1,
          8.2,
          8.3,
          8.4,
          8.5,
          8.6,
          8.7,
          8.8,
          8.9,
          9,
          9.1,
          9.2,
          9.3,
          9.4,
          9.5,
          9.6,
          9.7,
          9.8,
          9.9,
          10,
          10.1,
          10.2,
          10.3,
          10.4,
          10.5,
          10.6,
          10.7,
          10.8,
          10.9
         ],
         "xaxis": "x",
         "y": [
          15,
          15,
          15,
          15,
          15,
          15,
          15,
          15,
          15,
          15,
          15,
          14.99598938704336,
          14.975803501213521,
          14.928661292841232,
          14.850057451775415,
          14.729367481115629,
          14.541771285893189,
          14.253602474390318,
          13.83311294037774,
          13.2561534239947,
          12.516528230361551,
          11.684237798376401,
          10.831575702331465,
          9.932384315443226,
          8.94246642458358,
          7.8682414812292585,
          6.754786883452194,
          5.644021664489523,
          4.552607768610504,
          3.478400582577222,
          2.4167360418555206,
          1.3693867144878866,
          0.34348372869812743,
          -0.6532317058247931,
          -1.6151991440338502,
          -2.538898010376342,
          -3.4215814346323397,
          -4.260500412918564,
          -5.052909626017588,
          -5.796368717086556,
          -6.488912282900144,
          -7.129021476615855,
          -7.7155280865438804,
          -8.247556436484212,
          -8.724513555893232,
          -9.14609240288361,
          -9.512264054129007,
          -9.823258999220197,
          -10.079546817193256,
          -10.281819149296062,
          -10.430975079379007,
          -10.52810669377581,
          -10.574484098489906,
          -10.57154038907771,
          -10.520857066985382,
          -10.424149944947926,
          -10.283255401685578,
          -10.100116948242624,
          -9.876772174384747,
          -9.615340132833403,
          -9.318009164104078,
          -8.987025148050678,
          -8.624680188831945,
          -8.23330175635791,
          -7.815242301550822,
          -7.37286934873197,
          -6.90855606249467,
          -6.424672289407033,
          -5.923576078314313,
          -5.407605681830715,
          -4.879072037686943,
          -4.340251725712542,
          -3.7933803954930823,
          -3.240646659741102,
          -2.6841864477586808,
          -2.126077812009716,
          -1.5683361794842634,
          -1.0129100386571588,
          -0.4616770522787317,
          0.08355941432331802,
          0.6210733604086618,
          1.149218824085042,
          1.666432175829148,
          2.1712340438437745,
          2.6622308841737548,
          3.1381162088217063,
          3.597671485388311,
          4.039766721989097,
          4.463360751364482,
          4.867501228212625,
          5.251324353846601,
          5.614054342311384,
          5.955002642090073,
          6.273566927482462,
          6.569229873655479,
          6.841557729248365,
          7.0901987002684965,
          7.314881158837708,
          7.515411690145521,
          7.691672990736792,
          7.843621631009398,
          7.9712856945247355,
          8.074762306441785,
          8.154215063076052,
          8.20987137425947,
          8.242019729838265,
          8.251006901294437,
          8.237235089114435,
          8.20115902615742,
          8.143283046896501
         ],
         "yaxis": "y"
        },
        {
         "line": {
          "color": "rgb(0, 0, 255)",
          "width": 2
         },
         "mode": "lines",
         "name": "Y",
         "type": "scatter",
         "x": [
          0,
          0.1,
          0.2,
          0.3,
          0.4,
          0.5,
          0.6,
          0.7,
          0.8,
          0.9,
          1,
          1.1,
          1.2,
          1.3,
          1.4,
          1.5,
          1.6,
          1.7,
          1.8,
          1.9,
          2,
          2.1,
          2.2,
          2.3,
          2.4,
          2.5,
          2.6,
          2.7,
          2.8,
          2.9,
          3,
          3.1,
          3.2,
          3.3,
          3.4,
          3.5,
          3.6,
          3.7,
          3.8,
          3.9,
          4,
          4.1,
          4.2,
          4.3,
          4.4,
          4.5,
          4.6,
          4.7,
          4.8,
          4.9,
          5,
          5.1,
          5.2,
          5.3,
          5.4,
          5.5,
          5.6,
          5.7,
          5.8,
          5.9,
          6,
          6.1,
          6.2,
          6.3,
          6.4,
          6.5,
          6.6,
          6.7,
          6.8,
          6.9,
          7,
          7.1,
          7.2,
          7.3,
          7.4,
          7.5,
          7.6,
          7.7,
          7.8,
          7.9,
          8,
          8.1,
          8.2,
          8.3,
          8.4,
          8.5,
          8.6,
          8.7,
          8.8,
          8.9,
          9,
          9.1,
          9.2,
          9.3,
          9.4,
          9.5,
          9.6,
          9.7,
          9.8,
          9.9,
          10,
          10.1,
          10.2,
          10.3,
          10.4,
          10.5,
          10.6,
          10.7,
          10.8,
          10.9
         ],
         "xaxis": "x",
         "y": [
          0,
          0,
          0,
          0,
          0,
          0,
          0,
          0,
          0,
          0,
          0,
          -0.10882398290465473,
          -0.4121872408169654,
          -0.8300500248058172,
          -1.2904439411893993,
          -1.8021732509913084,
          -2.414765443393023,
          -3.1590439830777184,
          -4.026320700390414,
          -4.980814358885985,
          -5.966859100612647,
          -6.89955857655851,
          -7.728326825197162,
          -8.475508025446814,
          -9.163128358097902,
          -9.77693289751303,
          -10.29163849788346,
          -10.69585009343247,
          -10.993640511729884,
          -11.19416672925829,
          -11.304434156389508,
          -11.328835437371263,
          -11.271311502045242,
          -11.136449409757567,
          -10.929187219545728,
          -10.65432360215365,
          -10.316482103694572,
          -9.920326085832027,
          -9.470657216854699,
          -8.972328584972066,
          -8.430121712370982,
          -7.8487027507708005,
          -7.232646075167065,
          -6.586459002189271,
          -5.914573726551157,
          -5.221319190960177,
          -4.51089758174761,
          -3.7873743786380305,
          -3.0546754124863837,
          -2.3165826018463513,
          -1.576726402090476,
          -0.8385777063214871,
          -0.10544175214152061,
          0.6195457474000473,
          1.3334213406288886,
          2.033396221232382,
          2.7168582448956893,
          3.3813732434811037,
          4.024685481881222,
          4.644717355071668,
          5.239568485569728,
          5.807514301700705,
          6.347004102826454,
          6.856658611714321,
          7.33526704408643,
          7.781783744134774,
          8.19532443102083,
          8.575162090183445,
          8.920722538129157,
          9.231579690787546,
          9.507450567678319,
          9.748190063735803,
          9.953785518528655,
          10.124351110736427,
          10.260122104717171,
          10.3614489752762,
          10.428791435786124,
          10.462712393595682,
          10.46387185543422,
          10.433020804387876,
          10.370995068945128,
          10.278709203513557,
          10.157150398692119,
          10.007372438477322,
          9.830489720504977,
          9.627671354373685,
          9.400135352053134,
          9.149142923351878,
          8.87599288841453,
          8.582016218240316,
          8.268570713262415,
          7.937035829098345,
          7.588807657677704,
          7.225294071077736,
          6.8479100345508686,
          6.45807309441132,
          6.057199045659543,
          5.646697783464377,
          5.22796934189407,
          4.802400122589425,
          4.37135931540504,
          3.936195512407712,
          3.498233516014486,
          3.058771341476556,
          2.6190774133693164,
          2.180387955232871,
          1.7439045710208787,
          1.3107920165583766,
          0.8821761587807205,
          0.4591421201256737
         ],
         "yaxis": "y"
        },
        {
         "line": {
          "color": "rgb(0, 0, 0)",
          "width": 2
         },
         "mode": "lines",
         "name": "Resultant",
         "type": "scatter",
         "x": [
          0,
          0.1,
          0.2,
          0.3,
          0.4,
          0.5,
          0.6,
          0.7,
          0.8,
          0.9,
          1,
          1.1,
          1.2,
          1.3,
          1.4,
          1.5,
          1.6,
          1.7,
          1.8,
          1.9,
          2,
          2.1,
          2.2,
          2.3,
          2.4,
          2.5,
          2.6,
          2.7,
          2.8,
          2.9,
          3,
          3.1,
          3.2,
          3.3,
          3.4,
          3.5,
          3.6,
          3.7,
          3.8,
          3.9,
          4,
          4.1,
          4.2,
          4.3,
          4.4,
          4.5,
          4.6,
          4.7,
          4.8,
          4.9,
          5,
          5.1,
          5.2,
          5.3,
          5.4,
          5.5,
          5.6,
          5.7,
          5.8,
          5.9,
          6,
          6.1,
          6.2,
          6.3,
          6.4,
          6.5,
          6.6,
          6.7,
          6.8,
          6.9,
          7,
          7.1,
          7.2,
          7.3,
          7.4,
          7.5,
          7.6,
          7.7,
          7.8,
          7.9,
          8,
          8.1,
          8.2,
          8.3,
          8.4,
          8.5,
          8.6,
          8.7,
          8.8,
          8.9,
          9,
          9.1,
          9.2,
          9.3,
          9.4,
          9.5,
          9.6,
          9.7,
          9.8,
          9.9,
          10,
          10.1,
          10.2,
          10.3,
          10.4,
          10.5,
          10.6,
          10.7,
          10.8,
          10.9
         ],
         "xaxis": "x",
         "y": [
          15,
          15,
          15,
          15,
          15,
          15,
          15,
          15,
          15,
          15,
          15,
          14.996384242729057,
          14.981474854915035,
          14.951719333911274,
          14.906020658994908,
          14.839208025374372,
          14.740902424133767,
          14.599477469586551,
          14.407160442073186,
          14.16100685961882,
          13.866033552101394,
          13.56927859100733,
          13.306016222461153,
          13.057047693834773,
          12.803539630187528,
          12.549806408443493,
          12.310360222673207,
          12.093642535249936,
          11.899007067649015,
          11.722143122113243,
          11.559880825170703,
          11.411298451134071,
          11.276543976237479,
          11.155591293946925,
          11.04789579760641,
          10.952653309883468,
          10.869085633560491,
          10.796514873685796,
          10.734302204049557,
          10.681786860873348,
          10.638276867075842,
          10.603069465207103,
          10.575468921181558,
          10.554791772484771,
          10.540366177404561,
          10.531532667944127,
          10.527647620835875,
          10.52808729303307,
          10.532250752599824,
          10.539561659291548,
          10.549469524752183,
          10.56145080588204,
          10.575009783083445,
          10.589679085365278,
          10.605019844186092,
          10.620621557483345,
          10.636101747311056,
          10.651105453421623,
          10.66530458134067,
          10.67839712590708,
          10.69010629962598,
          10.700179595509299,
          10.708387807738664,
          10.714524027171828,
          10.718402625391988,
          10.719858239452218,
          10.718744767850328,
          10.714934386135731,
          10.7083165884215,
          10.698797259389904,
          10.686297780138144,
          10.670754170220029,
          10.652116267380018,
          10.630346945737994,
          10.605421372582857,
          10.577326303464986,
          10.546059414919172,
          10.511628673878901,
          10.474051742642347,
          10.433355418105544,
          10.389575103876647,
          10.342754313819201,
          10.292944205536632,
          10.240203142298581,
          10.184596281915283,
          10.126195191082244,
          10.065077483740263,
          10.001326482022787,
          9.935030898392124,
          9.866284537595256,
          9.795186017096528,
          9.7218385046665,
          9.64634947182236,
          9.568830461825144,
          9.489396870941274,
          9.408167741669864,
          9.325265566622107,
          9.240816101714199,
          9.154948187300695,
          9.067793575830716,
          8.979486764554919,
          8.890164831747121,
          8.799967274831205,
          8.70903584872256,
          8.617514402605103,
          8.525548713271647,
          8.433286313059456,
          8.340876310317237,
          8.248469200248275,
          8.15621666389175
         ],
         "yaxis": "y"
        },
        {
         "line": {
          "color": "rgb(0, 255, 0)",
          "width": 2
         },
         "mode": "lines",
         "name": "AX",
         "showlegend": false,
         "type": "scatter",
         "x": [
          0,
          0.1,
          0.2,
          0.3,
          0.4,
          0.5,
          0.6,
          0.7,
          0.8,
          0.9,
          1,
          1.1,
          1.2,
          1.3,
          1.4,
          1.5,
          1.6,
          1.7,
          1.8,
          1.9,
          2,
          2.1,
          2.2,
          2.3,
          2.4,
          2.5,
          2.6,
          2.7,
          2.8,
          2.9,
          3,
          3.1,
          3.2,
          3.3,
          3.4,
          3.5,
          3.6,
          3.7,
          3.8,
          3.9,
          4,
          4.1,
          4.2,
          4.3,
          4.4,
          4.5,
          4.6,
          4.7,
          4.8,
          4.9,
          5,
          5.1,
          5.2,
          5.3,
          5.4,
          5.5,
          5.6,
          5.7,
          5.8,
          5.9,
          6,
          6.1,
          6.2,
          6.3,
          6.4,
          6.5,
          6.6,
          6.7,
          6.8,
          6.9,
          7,
          7.1,
          7.2,
          7.3,
          7.4,
          7.5,
          7.6,
          7.7,
          7.8,
          7.9,
          8,
          8.1,
          8.2,
          8.3,
          8.4,
          8.5,
          8.6,
          8.7,
          8.8,
          8.9,
          9,
          9.1,
          9.2,
          9.3,
          9.4,
          9.5,
          9.6,
          9.7,
          9.8,
          9.9,
          10,
          10.1,
          10.2,
          10.3,
          10.4,
          10.5,
          10.6,
          10.7,
          10.8,
          10.9
         ],
         "xaxis": "x2",
         "y": [
          0,
          0,
          0,
          0,
          0,
          0,
          0,
          0,
          0,
          0,
          0,
          -0.003653568760939135,
          -0.014735271717352743,
          -0.02821010887481236,
          -0.043396037445684196,
          -0.06654952731679435,
          -0.10434594575581077,
          -0.15816868204972773,
          -0.2248868364907868,
          -0.30070894853623875,
          -0.37307122708235246,
          -0.38512467843296516,
          -0.3916293069125168,
          -0.42751170638398683,
          -0.4742788979558366,
          -0.5043133366214821,
          -0.5100161384851559,
          -0.5018633793384337,
          -0.4923875639341634,
          -0.4861884941648633,
          -0.4809615256738309,
          -0.47314769045678245,
          -0.4614244413247493,
          -0.44655855640924547,
          -0.4297698799870763,
          -0.4116968382107758,
          -0.39240583126347506,
          -0.37182851524774,
          -0.3500365907000524,
          -0.32723617023045914,
          -0.3036538121743955,
          -0.2794697599666113,
          -0.25482319008502713,
          -0.22984141861496388,
          -0.20465466730033266,
          -0.17939318829928066,
          -0.15418008855294643,
          -0.12912857984264037,
          -0.10434325493161174,
          -0.07992181421449035,
          -0.055955532353677735,
          -0.032528955153998756,
          -0.009719708306886586,
          0.01240135444576114,
          0.03376989276737786,
          0.05432789274732768,
          0.07402353567912417,
          0.09281104538371782,
          0.11065049466232603,
          0.12750759998494884,
          0.14335352542265103,
          0.15816468999662775,
          0.17192256549240417,
          0.1846134628036771,
          0.1962283139552746,
          0.20676245543033134,
          0.2162154125980301,
          0.22459068272771224,
          0.23189551598244768,
          0.23814069607382554,
          0.2433403224704876,
          0.2475115948981428,
          0.2506746000664379,
          0.2528521006884419,
          0.2540693273291098,
          0.254353773785135,
          0.25373499651058246,
          0.25224441837568434,
          0.24991513698558732,
          0.24678173784126248,
          0.24288011265873194,
          0.2382472831240238,
          0.23292123029369527,
          0.2269407298063122,
          0.2203451930550371,
          0.21317451446136684,
          0.20546892496841065,
          0.19726885184231988,
          0.1886147848433917,
          0.1795471488080768,
          0.1701061826661992,
          0.16033182490003875,
          0.1502636054331343,
          0.1399405439187016,
          0.12940105438165697,
          0.1186828561540061,
          0.10782289102990467,
          0.09685724655376332,
          0.08582108534265229,
          0.07474858033324748,
          0.06367285583359983,
          0.05262593425089691,
          0.04163868835803438,
          0.03074079895425211,
          0.01996071776834638,
          0.009325635447027922,
          -0.0011385455342184166,
          -0.011407233204939195,
          -0.021457163849200815,
          -0.03126641534496742
         ],
         "yaxis": "y2"
        },
        {
         "line": {
          "color": "rgb(0, 0, 255)",
          "width": 2
         },
         "mode": "lines",
         "name": "AY",
         "showlegend": false,
         "type": "scatter",
         "x": [
          0,
          0.1,
          0.2,
          0.3,
          0.4,
          0.5,
          0.6,
          0.7,
          0.8,
          0.9,
          1,
          1.1,
          1.2,
          1.3,
          1.4,
          1.5,
          1.6,
          1.7,
          1.8,
          1.9,
          2,
          2.1,
          2.2,
          2.3,
          2.4,
          2.5,
          2.6,
          2.7,
          2.8,
          2.9,
          3,
          3.1,
          3.2,
          3.3,
          3.4,
          3.5,
          3.6,
          3.7,
          3.8,
          3.9,
          4,
          4.1,
          4.2,
          4.3,
          4.4,
          4.5,
          4.6,
          4.7,
          4.8,
          4.9,
          5,
          5.1,
          5.2,
          5.3,
          5.4,
          5.5,
          5.6,
          5.7,
          5.8,
          5.9,
          6,
          6.1,
          6.2,
          6.3,
          6.4,
          6.5,
          6.6,
          6.7,
          6.8,
          6.9,
          7,
          7.1,
          7.2,
          7.3,
          7.4,
          7.5,
          7.6,
          7.7,
          7.8,
          7.9,
          8,
          8.1,
          8.2,
          8.3,
          8.4,
          8.5,
          8.6,
          8.7,
          8.8,
          8.9,
          9,
          9.1,
          9.2,
          9.3,
          9.4,
          9.5,
          9.6,
          9.7,
          9.8,
          9.9,
          10,
          10.1,
          10.2,
          10.3,
          10.4,
          10.5,
          10.6,
          10.7,
          10.8,
          10.9
         ],
         "xaxis": "x2",
         "y": [
          0,
          0,
          0,
          0,
          0,
          0,
          0,
          0,
          0,
          0,
          0,
          -0.0991359447247018,
          -0.17722044625806133,
          -0.2034421682717084,
          -0.21596525119556365,
          -0.25020743626230363,
          -0.3078488313338594,
          -0.3701704269266078,
          -0.4198971152976232,
          -0.4496228934636797,
          -0.4486393682433031,
          -0.40102668168559064,
          -0.3539606023087284,
          -0.32670290761062337,
          -0.29970213169954396,
          -0.2594585539054166,
          -0.20942546031526502,
          -0.15880126070577072,
          -0.11247841184346459,
          -0.07019599030708684,
          -0.030254896246045788,
          0.00802593551467316,
          0.04437694040123559,
          0.07847907506184791,
          0.11033163084995355,
          0.14006229568448048,
          0.16770291583413768,
          0.19318537405310401,
          0.21645179368787607,
          0.23751320912162727,
          0.2564237808397601,
          0.27323444798641217,
          0.2879778777326748,
          0.30068249141287895,
          0.3113883018915631,
          0.32014935631664976,
          0.32702707944968246,
          0.3320845828513906,
          0.33538597161173667,
          0.3369982411717517,
          0.3369923752853598,
          0.3354427474621577,
          0.33242589223792385,
          0.3280197077326545,
          0.3223032216592364,
          0.31535650389028247,
          0.3072604192440419,
          0.298096234777865,
          0.2879452314918872,
          0.2768884004660204,
          0.2650062005076379,
          0.252378327532623,
          0.23908347781961548,
          0.22519911755340816,
          0.2108012734448525,
          0.19596434671657884,
          0.18076094473383975,
          0.1652617258028253,
          0.14953525692297293,
          0.13364788598974708,
          0.11766362892291865,
          0.10164407087995656,
          0.08564828047472123,
          0.06973273637209551,
          0.053951265951963874,
          0.0383549956895343,
          0.022992312730397375,
          0.007908837077392995,
          -0.00685259614898927,
          -0.02125194486848985,
          -0.035251959107793836,
          -0.04881817148383295,
          -0.06191887961396789,
          -0.0745251209501535,
          -0.08661064052096512,
          -0.09815185205902219,
          -0.1091277929866204,
          -0.1195200737234854,
          -0.12931282176816689,
          -0.13849262099233917,
          -0.147048446576566,
          -0.15497159600536908,
          -0.16225561652724635,
          -0.16889622947187002,
          -0.1748912518031986,
          -0.18024051527411294,
          -0.18494578353506058,
          -0.18901066753561319,
          -0.1924405395438411,
          -0.19524244609438426,
          -0.19742502016221397,
          -0.19899839284529586,
          -0.19997410482554412,
          -0.20036501786361458,
          -0.20018522656933227,
          -0.19944997067599746,
          -0.19817554803344514,
          -0.1963792285215348,
          -0.19407916907272293,
          -0.1912943299795736
         ],
         "yaxis": "y2"
        },
        {
         "line": {
          "color": "rgb(0, 0, 0)",
          "width": 2
         },
         "mode": "lines",
         "name": "AR",
         "showlegend": false,
         "type": "scatter",
         "x": [
          0,
          0.1,
          0.2,
          0.3,
          0.4,
          0.5,
          0.6,
          0.7,
          0.8,
          0.9,
          1,
          1.1,
          1.2,
          1.3,
          1.4,
          1.5,
          1.6,
          1.7,
          1.8,
          1.9,
          2,
          2.1,
          2.2,
          2.3,
          2.4,
          2.5,
          2.6,
          2.7,
          2.8,
          2.9,
          3,
          3.1,
          3.2,
          3.3,
          3.4,
          3.5,
          3.6,
          3.7,
          3.8,
          3.9,
          4,
          4.1,
          4.2,
          4.3,
          4.4,
          4.5,
          4.6,
          4.7,
          4.8,
          4.9,
          5,
          5.1,
          5.2,
          5.3,
          5.4,
          5.5,
          5.6,
          5.7,
          5.8,
          5.9,
          6,
          6.1,
          6.2,
          6.3,
          6.4,
          6.5,
          6.6,
          6.7,
          6.8,
          6.9,
          7,
          7.1,
          7.2,
          7.3,
          7.4,
          7.5,
          7.6,
          7.7,
          7.8,
          7.9,
          8,
          8.1,
          8.2,
          8.3,
          8.4,
          8.5,
          8.6,
          8.7,
          8.8,
          8.9,
          9,
          9.1,
          9.2,
          9.3,
          9.4,
          9.5,
          9.6,
          9.7,
          9.8,
          9.9,
          10,
          10.1,
          10.2,
          10.3,
          10.4,
          10.5,
          10.6,
          10.7,
          10.8,
          10.9
         ],
         "xaxis": "x2",
         "y": [
          0,
          0,
          0,
          0,
          0,
          0,
          0,
          0,
          0,
          0,
          0,
          0.09920324642444946,
          0.1778319847622767,
          0.20538871944150897,
          0.22028210501525114,
          0.2589065482892302,
          0.32505227171840784,
          0.40254624200503347,
          0.4763272789397006,
          0.5409127638135578,
          0.583489008649248,
          0.5560066702494232,
          0.5278840990402497,
          0.5380530168455369,
          0.5610363988115689,
          0.5671425594054657,
          0.5513397182713852,
          0.5263883470620667,
          0.5050711892870627,
          0.4912298127287166,
          0.48191217864394964,
          0.4732157569496951,
          0.4635534789980891,
          0.4534021498899982,
          0.4437062299654089,
          0.4348697888623175,
          0.4267395041343732,
          0.41901913261732643,
          0.4115543631400532,
          0.4043464301986007,
          0.3974403012128996,
          0.3908457628045041,
          0.38453363476882657,
          0.37846669384926734,
          0.37262072862727463,
          0.3669843680024346,
          0.36154973433759197,
          0.3563065538265599,
          0.35124245871430737,
          0.3463456524054974,
          0.3416063269341659,
          0.33701627519805594,
          0.33256795780674775,
          0.32825405138871555,
          0.32406754288179357,
          0.32000194448825914,
          0.3160513392923102,
          0.31221027422869757,
          0.30847364280912876,
          0.3048366355386981,
          0.3012947386838957,
          0.2978437331385257,
          0.294479673138593,
          0.2911988550719223,
          0.2879977918035159,
          0.2848731966325286,
          0.28182197179426355,
          0.27884119635274146,
          0.27592811273189466,
          0.27308011380555447,
          0.27029473193414477,
          0.2675696297304161,
          0.26490259165728275,
          0.2622915159598154,
          0.25973440701471545,
          0.2572293683331743,
          0.25477459625896315,
          0.2523683742183319,
          0.25000906737257755,
          0.24769511761972,
          0.24542503895498494,
          0.24319741319143112,
          0.24101088600761933,
          0.23886416327623658,
          0.23675600764059487,
          0.23468523532266722,
          0.2326507131512926,
          0.23065135579496285,
          0.22868612318014542,
          0.22675401807782233,
          0.2248540838451628,
          0.222985402311963,
          0.2211470918018175,
          0.2193383052776615,
          0.21755822860184895,
          0.2158060789022178,
          0.21408110303677946,
          0.21238257615029202,
          0.21070980031625366,
          0.20906210325822921,
          0.20743883714496902,
          0.20583937745434042,
          0.20426312190152,
          0.2027094894271907,
          0.20117791924175593,
          0.19966786992189584,
          0.1981788185560955,
          0.1967102599360416,
          0.1952617057909974,
          0.19383268406246146
         ],
         "yaxis": "y2"
        }
       ],
       "layout": {
        "autosize": false,
        "font": {
         "color": "black",
         "family": "Arial",
         "size": 14
        },
        "height": 500,
        "legend": {
         "orientation": "h",
         "x": 0.01,
         "xanchor": "left",
         "y": 1.1,
         "yanchor": "top"
        },
        "template": {
         "data": {
          "bar": [
           {
            "error_x": {
             "color": "#2a3f5f"
            },
            "error_y": {
             "color": "#2a3f5f"
            },
            "marker": {
             "line": {
              "color": "white",
              "width": 0.5
             }
            },
            "type": "bar"
           }
          ],
          "barpolar": [
           {
            "marker": {
             "line": {
              "color": "white",
              "width": 0.5
             }
            },
            "type": "barpolar"
           }
          ],
          "carpet": [
           {
            "aaxis": {
             "endlinecolor": "#2a3f5f",
             "gridcolor": "#C8D4E3",
             "linecolor": "#C8D4E3",
             "minorgridcolor": "#C8D4E3",
             "startlinecolor": "#2a3f5f"
            },
            "baxis": {
             "endlinecolor": "#2a3f5f",
             "gridcolor": "#C8D4E3",
             "linecolor": "#C8D4E3",
             "minorgridcolor": "#C8D4E3",
             "startlinecolor": "#2a3f5f"
            },
            "type": "carpet"
           }
          ],
          "choropleth": [
           {
            "colorbar": {
             "outlinewidth": 0,
             "ticks": ""
            },
            "type": "choropleth"
           }
          ],
          "contour": [
           {
            "colorbar": {
             "outlinewidth": 0,
             "ticks": ""
            },
            "colorscale": [
             [
              0,
              "#0d0887"
             ],
             [
              0.1111111111111111,
              "#46039f"
             ],
             [
              0.2222222222222222,
              "#7201a8"
             ],
             [
              0.3333333333333333,
              "#9c179e"
             ],
             [
              0.4444444444444444,
              "#bd3786"
             ],
             [
              0.5555555555555556,
              "#d8576b"
             ],
             [
              0.6666666666666666,
              "#ed7953"
             ],
             [
              0.7777777777777778,
              "#fb9f3a"
             ],
             [
              0.8888888888888888,
              "#fdca26"
             ],
             [
              1,
              "#f0f921"
             ]
            ],
            "type": "contour"
           }
          ],
          "contourcarpet": [
           {
            "colorbar": {
             "outlinewidth": 0,
             "ticks": ""
            },
            "type": "contourcarpet"
           }
          ],
          "heatmap": [
           {
            "colorbar": {
             "outlinewidth": 0,
             "ticks": ""
            },
            "colorscale": [
             [
              0,
              "#0d0887"
             ],
             [
              0.1111111111111111,
              "#46039f"
             ],
             [
              0.2222222222222222,
              "#7201a8"
             ],
             [
              0.3333333333333333,
              "#9c179e"
             ],
             [
              0.4444444444444444,
              "#bd3786"
             ],
             [
              0.5555555555555556,
              "#d8576b"
             ],
             [
              0.6666666666666666,
              "#ed7953"
             ],
             [
              0.7777777777777778,
              "#fb9f3a"
             ],
             [
              0.8888888888888888,
              "#fdca26"
             ],
             [
              1,
              "#f0f921"
             ]
            ],
            "type": "heatmap"
           }
          ],
          "heatmapgl": [
           {
            "colorbar": {
             "outlinewidth": 0,
             "ticks": ""
            },
            "colorscale": [
             [
              0,
              "#0d0887"
             ],
             [
              0.1111111111111111,
              "#46039f"
             ],
             [
              0.2222222222222222,
              "#7201a8"
             ],
             [
              0.3333333333333333,
              "#9c179e"
             ],
             [
              0.4444444444444444,
              "#bd3786"
             ],
             [
              0.5555555555555556,
              "#d8576b"
             ],
             [
              0.6666666666666666,
              "#ed7953"
             ],
             [
              0.7777777777777778,
              "#fb9f3a"
             ],
             [
              0.8888888888888888,
              "#fdca26"
             ],
             [
              1,
              "#f0f921"
             ]
            ],
            "type": "heatmapgl"
           }
          ],
          "histogram": [
           {
            "marker": {
             "colorbar": {
              "outlinewidth": 0,
              "ticks": ""
             }
            },
            "type": "histogram"
           }
          ],
          "histogram2d": [
           {
            "colorbar": {
             "outlinewidth": 0,
             "ticks": ""
            },
            "colorscale": [
             [
              0,
              "#0d0887"
             ],
             [
              0.1111111111111111,
              "#46039f"
             ],
             [
              0.2222222222222222,
              "#7201a8"
             ],
             [
              0.3333333333333333,
              "#9c179e"
             ],
             [
              0.4444444444444444,
              "#bd3786"
             ],
             [
              0.5555555555555556,
              "#d8576b"
             ],
             [
              0.6666666666666666,
              "#ed7953"
             ],
             [
              0.7777777777777778,
              "#fb9f3a"
             ],
             [
              0.8888888888888888,
              "#fdca26"
             ],
             [
              1,
              "#f0f921"
             ]
            ],
            "type": "histogram2d"
           }
          ],
          "histogram2dcontour": [
           {
            "colorbar": {
             "outlinewidth": 0,
             "ticks": ""
            },
            "colorscale": [
             [
              0,
              "#0d0887"
             ],
             [
              0.1111111111111111,
              "#46039f"
             ],
             [
              0.2222222222222222,
              "#7201a8"
             ],
             [
              0.3333333333333333,
              "#9c179e"
             ],
             [
              0.4444444444444444,
              "#bd3786"
             ],
             [
              0.5555555555555556,
              "#d8576b"
             ],
             [
              0.6666666666666666,
              "#ed7953"
             ],
             [
              0.7777777777777778,
              "#fb9f3a"
             ],
             [
              0.8888888888888888,
              "#fdca26"
             ],
             [
              1,
              "#f0f921"
             ]
            ],
            "type": "histogram2dcontour"
           }
          ],
          "mesh3d": [
           {
            "colorbar": {
             "outlinewidth": 0,
             "ticks": ""
            },
            "type": "mesh3d"
           }
          ],
          "parcoords": [
           {
            "line": {
             "colorbar": {
              "outlinewidth": 0,
              "ticks": ""
             }
            },
            "type": "parcoords"
           }
          ],
          "pie": [
           {
            "automargin": true,
            "type": "pie"
           }
          ],
          "scatter": [
           {
            "marker": {
             "colorbar": {
              "outlinewidth": 0,
              "ticks": ""
             }
            },
            "type": "scatter"
           }
          ],
          "scatter3d": [
           {
            "line": {
             "colorbar": {
              "outlinewidth": 0,
              "ticks": ""
             }
            },
            "marker": {
             "colorbar": {
              "outlinewidth": 0,
              "ticks": ""
             }
            },
            "type": "scatter3d"
           }
          ],
          "scattercarpet": [
           {
            "marker": {
             "colorbar": {
              "outlinewidth": 0,
              "ticks": ""
             }
            },
            "type": "scattercarpet"
           }
          ],
          "scattergeo": [
           {
            "marker": {
             "colorbar": {
              "outlinewidth": 0,
              "ticks": ""
             }
            },
            "type": "scattergeo"
           }
          ],
          "scattergl": [
           {
            "marker": {
             "colorbar": {
              "outlinewidth": 0,
              "ticks": ""
             }
            },
            "type": "scattergl"
           }
          ],
          "scattermapbox": [
           {
            "marker": {
             "colorbar": {
              "outlinewidth": 0,
              "ticks": ""
             }
            },
            "type": "scattermapbox"
           }
          ],
          "scatterpolar": [
           {
            "marker": {
             "colorbar": {
              "outlinewidth": 0,
              "ticks": ""
             }
            },
            "type": "scatterpolar"
           }
          ],
          "scatterpolargl": [
           {
            "marker": {
             "colorbar": {
              "outlinewidth": 0,
              "ticks": ""
             }
            },
            "type": "scatterpolargl"
           }
          ],
          "scatterternary": [
           {
            "marker": {
             "colorbar": {
              "outlinewidth": 0,
              "ticks": ""
             }
            },
            "type": "scatterternary"
           }
          ],
          "surface": [
           {
            "colorbar": {
             "outlinewidth": 0,
             "ticks": ""
            },
            "colorscale": [
             [
              0,
              "#0d0887"
             ],
             [
              0.1111111111111111,
              "#46039f"
             ],
             [
              0.2222222222222222,
              "#7201a8"
             ],
             [
              0.3333333333333333,
              "#9c179e"
             ],
             [
              0.4444444444444444,
              "#bd3786"
             ],
             [
              0.5555555555555556,
              "#d8576b"
             ],
             [
              0.6666666666666666,
              "#ed7953"
             ],
             [
              0.7777777777777778,
              "#fb9f3a"
             ],
             [
              0.8888888888888888,
              "#fdca26"
             ],
             [
              1,
              "#f0f921"
             ]
            ],
            "type": "surface"
           }
          ],
          "table": [
           {
            "cells": {
             "fill": {
              "color": "#EBF0F8"
             },
             "line": {
              "color": "white"
             }
            },
            "header": {
             "fill": {
              "color": "#C8D4E3"
             },
             "line": {
              "color": "white"
             }
            },
            "type": "table"
           }
          ]
         },
         "layout": {
          "annotationdefaults": {
           "arrowcolor": "#2a3f5f",
           "arrowhead": 0,
           "arrowwidth": 1
          },
          "coloraxis": {
           "colorbar": {
            "outlinewidth": 0,
            "ticks": ""
           }
          },
          "colorscale": {
           "diverging": [
            [
             0,
             "#8e0152"
            ],
            [
             0.1,
             "#c51b7d"
            ],
            [
             0.2,
             "#de77ae"
            ],
            [
             0.3,
             "#f1b6da"
            ],
            [
             0.4,
             "#fde0ef"
            ],
            [
             0.5,
             "#f7f7f7"
            ],
            [
             0.6,
             "#e6f5d0"
            ],
            [
             0.7,
             "#b8e186"
            ],
            [
             0.8,
             "#7fbc41"
            ],
            [
             0.9,
             "#4d9221"
            ],
            [
             1,
             "#276419"
            ]
           ],
           "sequential": [
            [
             0,
             "#0d0887"
            ],
            [
             0.1111111111111111,
             "#46039f"
            ],
            [
             0.2222222222222222,
             "#7201a8"
            ],
            [
             0.3333333333333333,
             "#9c179e"
            ],
            [
             0.4444444444444444,
             "#bd3786"
            ],
            [
             0.5555555555555556,
             "#d8576b"
            ],
            [
             0.6666666666666666,
             "#ed7953"
            ],
            [
             0.7777777777777778,
             "#fb9f3a"
            ],
            [
             0.8888888888888888,
             "#fdca26"
            ],
            [
             1,
             "#f0f921"
            ]
           ],
           "sequentialminus": [
            [
             0,
             "#0d0887"
            ],
            [
             0.1111111111111111,
             "#46039f"
            ],
            [
             0.2222222222222222,
             "#7201a8"
            ],
            [
             0.3333333333333333,
             "#9c179e"
            ],
            [
             0.4444444444444444,
             "#bd3786"
            ],
            [
             0.5555555555555556,
             "#d8576b"
            ],
            [
             0.6666666666666666,
             "#ed7953"
            ],
            [
             0.7777777777777778,
             "#fb9f3a"
            ],
            [
             0.8888888888888888,
             "#fdca26"
            ],
            [
             1,
             "#f0f921"
            ]
           ]
          },
          "colorway": [
           "#636efa",
           "#EF553B",
           "#00cc96",
           "#ab63fa",
           "#FFA15A",
           "#19d3f3",
           "#FF6692",
           "#B6E880",
           "#FF97FF",
           "#FECB52"
          ],
          "font": {
           "color": "#2a3f5f"
          },
          "geo": {
           "bgcolor": "white",
           "lakecolor": "white",
           "landcolor": "white",
           "showlakes": true,
           "showland": true,
           "subunitcolor": "#C8D4E3"
          },
          "hoverlabel": {
           "align": "left"
          },
          "hovermode": "closest",
          "mapbox": {
           "style": "light"
          },
          "paper_bgcolor": "white",
          "plot_bgcolor": "white",
          "polar": {
           "angularaxis": {
            "gridcolor": "#EBF0F8",
            "linecolor": "#EBF0F8",
            "ticks": ""
           },
           "bgcolor": "white",
           "radialaxis": {
            "gridcolor": "#EBF0F8",
            "linecolor": "#EBF0F8",
            "ticks": ""
           }
          },
          "scene": {
           "xaxis": {
            "backgroundcolor": "white",
            "gridcolor": "#DFE8F3",
            "gridwidth": 2,
            "linecolor": "#EBF0F8",
            "showbackground": true,
            "ticks": "",
            "zerolinecolor": "#EBF0F8"
           },
           "yaxis": {
            "backgroundcolor": "white",
            "gridcolor": "#DFE8F3",
            "gridwidth": 2,
            "linecolor": "#EBF0F8",
            "showbackground": true,
            "ticks": "",
            "zerolinecolor": "#EBF0F8"
           },
           "zaxis": {
            "backgroundcolor": "white",
            "gridcolor": "#DFE8F3",
            "gridwidth": 2,
            "linecolor": "#EBF0F8",
            "showbackground": true,
            "ticks": "",
            "zerolinecolor": "#EBF0F8"
           }
          },
          "shapedefaults": {
           "line": {
            "color": "#2a3f5f"
           }
          },
          "ternary": {
           "aaxis": {
            "gridcolor": "#DFE8F3",
            "linecolor": "#A2B1C6",
            "ticks": ""
           },
           "baxis": {
            "gridcolor": "#DFE8F3",
            "linecolor": "#A2B1C6",
            "ticks": ""
           },
           "bgcolor": "white",
           "caxis": {
            "gridcolor": "#DFE8F3",
            "linecolor": "#A2B1C6",
            "ticks": ""
           }
          },
          "title": {
           "x": 0.05
          },
          "xaxis": {
           "automargin": true,
           "gridcolor": "#EBF0F8",
           "linecolor": "#EBF0F8",
           "ticks": "",
           "title": {
            "standoff": 15
           },
           "zerolinecolor": "#EBF0F8",
           "zerolinewidth": 2
          },
          "yaxis": {
           "automargin": true,
           "gridcolor": "#EBF0F8",
           "linecolor": "#EBF0F8",
           "ticks": "",
           "title": {
            "standoff": 15
           },
           "zerolinecolor": "#EBF0F8",
           "zerolinewidth": 2
          }
         }
        },
        "title": {
         "text": "Veh1 - Inertial Frame Velocity | Acceleration"
        },
        "width": 900,
        "xaxis": {
         "anchor": "y",
         "domain": [
          0,
          1
         ],
         "linecolor": "black",
         "linewidth": 1,
         "matches": "x2",
         "showgrid": false,
         "showline": true,
         "showticklabels": false,
         "tickcolor": "black",
         "ticklen": 10,
         "ticks": "outside",
         "tickwidth": 1,
         "title": {
          "text": ""
         },
         "zeroline": false
        },
        "xaxis2": {
         "anchor": "y2",
         "domain": [
          0,
          1
         ],
         "linecolor": "black",
         "linewidth": 1,
         "showgrid": false,
         "showline": true,
         "tickcolor": "black",
         "ticklen": 10,
         "ticks": "outside",
         "tickwidth": 1,
         "title": {
          "text": "Time (s)"
         },
         "zeroline": false
        },
        "yaxis": {
         "anchor": "x",
         "domain": [
          0.525,
          1
         ],
         "linecolor": "black",
         "linewidth": 1,
         "showgrid": false,
         "showline": true,
         "tickcolor": "black",
         "ticklen": 10,
         "ticks": "outside",
         "tickwidth": 1,
         "title": {
          "text": "Velocity (mph)"
         },
         "zeroline": false
        },
        "yaxis2": {
         "anchor": "x2",
         "domain": [
          0,
          0.475
         ],
         "linecolor": "black",
         "linewidth": 1,
         "showgrid": false,
         "showline": true,
         "tickcolor": "black",
         "ticklen": 10,
         "ticks": "outside",
         "tickwidth": 1,
         "title": {
          "text": "Acceleration (g)"
         },
         "zeroline": false
        }
       }
      },
      "text/html": [
       "<div>\n",
       "        \n",
       "        \n",
       "            <div id=\"beea2f25-3b54-4938-88f7-0f131af0c162\" class=\"plotly-graph-div\" style=\"height:500px; width:900px;\"></div>\n",
       "            <script type=\"text/javascript\">\n",
       "                require([\"plotly\"], function(Plotly) {\n",
       "                    window.PLOTLYENV=window.PLOTLYENV || {};\n",
       "                    \n",
       "                if (document.getElementById(\"beea2f25-3b54-4938-88f7-0f131af0c162\")) {\n",
       "                    Plotly.newPlot(\n",
       "                        'beea2f25-3b54-4938-88f7-0f131af0c162',\n",
       "                        [{\"line\": {\"color\": \"rgb(0, 255, 0)\", \"width\": 2}, \"mode\": \"lines\", \"name\": \"X\", \"type\": \"scatter\", \"x\": [0.0, 0.1, 0.2, 0.3, 0.4, 0.5, 0.6, 0.7, 0.8, 0.9, 1.0, 1.1, 1.2, 1.3, 1.4, 1.5, 1.6, 1.7, 1.8, 1.9, 2.0, 2.1, 2.2, 2.3, 2.4, 2.5, 2.6, 2.7, 2.8, 2.9, 3.0, 3.1, 3.2, 3.3, 3.4, 3.5, 3.6, 3.7, 3.8, 3.9, 4.0, 4.1, 4.2, 4.3, 4.4, 4.5, 4.6, 4.7, 4.8, 4.9, 5.0, 5.1, 5.2, 5.3, 5.4, 5.5, 5.6, 5.7, 5.8, 5.9, 6.0, 6.1, 6.2, 6.3, 6.4, 6.5, 6.6, 6.7, 6.8, 6.9, 7.0, 7.1, 7.2, 7.3, 7.4, 7.5, 7.6, 7.7, 7.8, 7.9, 8.0, 8.1, 8.2, 8.3, 8.4, 8.5, 8.6, 8.7, 8.8, 8.9, 9.0, 9.1, 9.2, 9.3, 9.4, 9.5, 9.6, 9.7, 9.8, 9.9, 10.0, 10.1, 10.2, 10.3, 10.4, 10.5, 10.6, 10.7, 10.8, 10.9], \"xaxis\": \"x\", \"y\": [15.0, 15.0, 15.0, 15.0, 15.0, 15.0, 15.0, 15.0, 15.0, 15.0, 15.0, 14.99598938704336, 14.975803501213521, 14.928661292841232, 14.850057451775415, 14.729367481115629, 14.541771285893189, 14.253602474390318, 13.83311294037774, 13.2561534239947, 12.516528230361551, 11.684237798376401, 10.831575702331465, 9.932384315443226, 8.94246642458358, 7.8682414812292585, 6.754786883452194, 5.644021664489523, 4.552607768610504, 3.478400582577222, 2.4167360418555206, 1.3693867144878866, 0.34348372869812743, -0.6532317058247931, -1.6151991440338502, -2.538898010376342, -3.4215814346323397, -4.260500412918564, -5.052909626017588, -5.796368717086556, -6.488912282900144, -7.129021476615855, -7.7155280865438804, -8.247556436484212, -8.724513555893232, -9.14609240288361, -9.512264054129007, -9.823258999220197, -10.079546817193256, -10.281819149296062, -10.430975079379007, -10.52810669377581, -10.574484098489906, -10.57154038907771, -10.520857066985382, -10.424149944947926, -10.283255401685578, -10.100116948242624, -9.876772174384747, -9.615340132833403, -9.318009164104078, -8.987025148050678, -8.624680188831945, -8.23330175635791, -7.815242301550822, -7.37286934873197, -6.90855606249467, -6.424672289407033, -5.923576078314313, -5.407605681830715, -4.879072037686943, -4.340251725712542, -3.7933803954930823, -3.240646659741102, -2.6841864477586808, -2.126077812009716, -1.5683361794842634, -1.0129100386571588, -0.4616770522787317, 0.08355941432331802, 0.6210733604086618, 1.149218824085042, 1.666432175829148, 2.1712340438437745, 2.6622308841737548, 3.1381162088217063, 3.597671485388311, 4.039766721989097, 4.463360751364482, 4.867501228212625, 5.251324353846601, 5.614054342311384, 5.955002642090073, 6.273566927482462, 6.569229873655479, 6.841557729248365, 7.0901987002684965, 7.314881158837708, 7.515411690145521, 7.691672990736792, 7.843621631009398, 7.9712856945247355, 8.074762306441785, 8.154215063076052, 8.20987137425947, 8.242019729838265, 8.251006901294437, 8.237235089114435, 8.20115902615742, 8.143283046896501], \"yaxis\": \"y\"}, {\"line\": {\"color\": \"rgb(0, 0, 255)\", \"width\": 2}, \"mode\": \"lines\", \"name\": \"Y\", \"type\": \"scatter\", \"x\": [0.0, 0.1, 0.2, 0.3, 0.4, 0.5, 0.6, 0.7, 0.8, 0.9, 1.0, 1.1, 1.2, 1.3, 1.4, 1.5, 1.6, 1.7, 1.8, 1.9, 2.0, 2.1, 2.2, 2.3, 2.4, 2.5, 2.6, 2.7, 2.8, 2.9, 3.0, 3.1, 3.2, 3.3, 3.4, 3.5, 3.6, 3.7, 3.8, 3.9, 4.0, 4.1, 4.2, 4.3, 4.4, 4.5, 4.6, 4.7, 4.8, 4.9, 5.0, 5.1, 5.2, 5.3, 5.4, 5.5, 5.6, 5.7, 5.8, 5.9, 6.0, 6.1, 6.2, 6.3, 6.4, 6.5, 6.6, 6.7, 6.8, 6.9, 7.0, 7.1, 7.2, 7.3, 7.4, 7.5, 7.6, 7.7, 7.8, 7.9, 8.0, 8.1, 8.2, 8.3, 8.4, 8.5, 8.6, 8.7, 8.8, 8.9, 9.0, 9.1, 9.2, 9.3, 9.4, 9.5, 9.6, 9.7, 9.8, 9.9, 10.0, 10.1, 10.2, 10.3, 10.4, 10.5, 10.6, 10.7, 10.8, 10.9], \"xaxis\": \"x\", \"y\": [0.0, 0.0, 0.0, 0.0, 0.0, 0.0, 0.0, 0.0, 0.0, 0.0, 0.0, -0.10882398290465473, -0.4121872408169654, -0.8300500248058172, -1.2904439411893993, -1.8021732509913084, -2.414765443393023, -3.1590439830777184, -4.026320700390414, -4.980814358885985, -5.966859100612647, -6.89955857655851, -7.728326825197162, -8.475508025446814, -9.163128358097902, -9.77693289751303, -10.29163849788346, -10.69585009343247, -10.993640511729884, -11.19416672925829, -11.304434156389508, -11.328835437371263, -11.271311502045242, -11.136449409757567, -10.929187219545728, -10.65432360215365, -10.316482103694572, -9.920326085832027, -9.470657216854699, -8.972328584972066, -8.430121712370982, -7.8487027507708005, -7.232646075167065, -6.586459002189271, -5.914573726551157, -5.221319190960177, -4.51089758174761, -3.7873743786380305, -3.0546754124863837, -2.3165826018463513, -1.576726402090476, -0.8385777063214871, -0.10544175214152061, 0.6195457474000473, 1.3334213406288886, 2.033396221232382, 2.7168582448956893, 3.3813732434811037, 4.024685481881222, 4.644717355071668, 5.239568485569728, 5.807514301700705, 6.347004102826454, 6.856658611714321, 7.33526704408643, 7.781783744134774, 8.19532443102083, 8.575162090183445, 8.920722538129157, 9.231579690787546, 9.507450567678319, 9.748190063735803, 9.953785518528655, 10.124351110736427, 10.260122104717171, 10.3614489752762, 10.428791435786124, 10.462712393595682, 10.46387185543422, 10.433020804387876, 10.370995068945128, 10.278709203513557, 10.157150398692119, 10.007372438477322, 9.830489720504977, 9.627671354373685, 9.400135352053134, 9.149142923351878, 8.87599288841453, 8.582016218240316, 8.268570713262415, 7.937035829098345, 7.588807657677704, 7.225294071077736, 6.8479100345508686, 6.45807309441132, 6.057199045659543, 5.646697783464377, 5.22796934189407, 4.802400122589425, 4.37135931540504, 3.936195512407712, 3.498233516014486, 3.058771341476556, 2.6190774133693164, 2.180387955232871, 1.7439045710208787, 1.3107920165583766, 0.8821761587807205, 0.4591421201256737], \"yaxis\": \"y\"}, {\"line\": {\"color\": \"rgb(0, 0, 0)\", \"width\": 2}, \"mode\": \"lines\", \"name\": \"Resultant\", \"type\": \"scatter\", \"x\": [0.0, 0.1, 0.2, 0.3, 0.4, 0.5, 0.6, 0.7, 0.8, 0.9, 1.0, 1.1, 1.2, 1.3, 1.4, 1.5, 1.6, 1.7, 1.8, 1.9, 2.0, 2.1, 2.2, 2.3, 2.4, 2.5, 2.6, 2.7, 2.8, 2.9, 3.0, 3.1, 3.2, 3.3, 3.4, 3.5, 3.6, 3.7, 3.8, 3.9, 4.0, 4.1, 4.2, 4.3, 4.4, 4.5, 4.6, 4.7, 4.8, 4.9, 5.0, 5.1, 5.2, 5.3, 5.4, 5.5, 5.6, 5.7, 5.8, 5.9, 6.0, 6.1, 6.2, 6.3, 6.4, 6.5, 6.6, 6.7, 6.8, 6.9, 7.0, 7.1, 7.2, 7.3, 7.4, 7.5, 7.6, 7.7, 7.8, 7.9, 8.0, 8.1, 8.2, 8.3, 8.4, 8.5, 8.6, 8.7, 8.8, 8.9, 9.0, 9.1, 9.2, 9.3, 9.4, 9.5, 9.6, 9.7, 9.8, 9.9, 10.0, 10.1, 10.2, 10.3, 10.4, 10.5, 10.6, 10.7, 10.8, 10.9], \"xaxis\": \"x\", \"y\": [15.0, 15.0, 15.0, 15.0, 15.0, 15.0, 15.0, 15.0, 15.0, 15.0, 15.0, 14.996384242729057, 14.981474854915035, 14.951719333911274, 14.906020658994908, 14.839208025374372, 14.740902424133767, 14.599477469586551, 14.407160442073186, 14.16100685961882, 13.866033552101394, 13.56927859100733, 13.306016222461153, 13.057047693834773, 12.803539630187528, 12.549806408443493, 12.310360222673207, 12.093642535249936, 11.899007067649015, 11.722143122113243, 11.559880825170703, 11.411298451134071, 11.276543976237479, 11.155591293946925, 11.04789579760641, 10.952653309883468, 10.869085633560491, 10.796514873685796, 10.734302204049557, 10.681786860873348, 10.638276867075842, 10.603069465207103, 10.575468921181558, 10.554791772484771, 10.540366177404561, 10.531532667944127, 10.527647620835875, 10.52808729303307, 10.532250752599824, 10.539561659291548, 10.549469524752183, 10.56145080588204, 10.575009783083445, 10.589679085365278, 10.605019844186092, 10.620621557483345, 10.636101747311056, 10.651105453421623, 10.66530458134067, 10.67839712590708, 10.69010629962598, 10.700179595509299, 10.708387807738664, 10.714524027171828, 10.718402625391988, 10.719858239452218, 10.718744767850328, 10.714934386135731, 10.7083165884215, 10.698797259389904, 10.686297780138144, 10.670754170220029, 10.652116267380018, 10.630346945737994, 10.605421372582857, 10.577326303464986, 10.546059414919172, 10.511628673878901, 10.474051742642347, 10.433355418105544, 10.389575103876647, 10.342754313819201, 10.292944205536632, 10.240203142298581, 10.184596281915283, 10.126195191082244, 10.065077483740263, 10.001326482022787, 9.935030898392124, 9.866284537595256, 9.795186017096528, 9.7218385046665, 9.64634947182236, 9.568830461825144, 9.489396870941274, 9.408167741669864, 9.325265566622107, 9.240816101714199, 9.154948187300695, 9.067793575830716, 8.979486764554919, 8.890164831747121, 8.799967274831205, 8.70903584872256, 8.617514402605103, 8.525548713271647, 8.433286313059456, 8.340876310317237, 8.248469200248275, 8.15621666389175], \"yaxis\": \"y\"}, {\"line\": {\"color\": \"rgb(0, 255, 0)\", \"width\": 2}, \"mode\": \"lines\", \"name\": \"AX\", \"showlegend\": false, \"type\": \"scatter\", \"x\": [0.0, 0.1, 0.2, 0.3, 0.4, 0.5, 0.6, 0.7, 0.8, 0.9, 1.0, 1.1, 1.2, 1.3, 1.4, 1.5, 1.6, 1.7, 1.8, 1.9, 2.0, 2.1, 2.2, 2.3, 2.4, 2.5, 2.6, 2.7, 2.8, 2.9, 3.0, 3.1, 3.2, 3.3, 3.4, 3.5, 3.6, 3.7, 3.8, 3.9, 4.0, 4.1, 4.2, 4.3, 4.4, 4.5, 4.6, 4.7, 4.8, 4.9, 5.0, 5.1, 5.2, 5.3, 5.4, 5.5, 5.6, 5.7, 5.8, 5.9, 6.0, 6.1, 6.2, 6.3, 6.4, 6.5, 6.6, 6.7, 6.8, 6.9, 7.0, 7.1, 7.2, 7.3, 7.4, 7.5, 7.6, 7.7, 7.8, 7.9, 8.0, 8.1, 8.2, 8.3, 8.4, 8.5, 8.6, 8.7, 8.8, 8.9, 9.0, 9.1, 9.2, 9.3, 9.4, 9.5, 9.6, 9.7, 9.8, 9.9, 10.0, 10.1, 10.2, 10.3, 10.4, 10.5, 10.6, 10.7, 10.8, 10.9], \"xaxis\": \"x2\", \"y\": [0.0, 0.0, 0.0, 0.0, 0.0, 0.0, 0.0, 0.0, 0.0, 0.0, 0.0, -0.003653568760939135, -0.014735271717352743, -0.02821010887481236, -0.043396037445684196, -0.06654952731679435, -0.10434594575581077, -0.15816868204972773, -0.2248868364907868, -0.30070894853623875, -0.37307122708235246, -0.38512467843296516, -0.3916293069125168, -0.42751170638398683, -0.4742788979558366, -0.5043133366214821, -0.5100161384851559, -0.5018633793384337, -0.4923875639341634, -0.4861884941648633, -0.4809615256738309, -0.47314769045678245, -0.4614244413247493, -0.44655855640924547, -0.4297698799870763, -0.4116968382107758, -0.39240583126347506, -0.37182851524774, -0.3500365907000524, -0.32723617023045914, -0.3036538121743955, -0.2794697599666113, -0.25482319008502713, -0.22984141861496388, -0.20465466730033266, -0.17939318829928066, -0.15418008855294643, -0.12912857984264037, -0.10434325493161174, -0.07992181421449035, -0.055955532353677735, -0.032528955153998756, -0.009719708306886586, 0.01240135444576114, 0.03376989276737786, 0.05432789274732768, 0.07402353567912417, 0.09281104538371782, 0.11065049466232603, 0.12750759998494884, 0.14335352542265103, 0.15816468999662775, 0.17192256549240417, 0.1846134628036771, 0.1962283139552746, 0.20676245543033134, 0.2162154125980301, 0.22459068272771224, 0.23189551598244768, 0.23814069607382554, 0.2433403224704876, 0.2475115948981428, 0.2506746000664379, 0.2528521006884419, 0.2540693273291098, 0.254353773785135, 0.25373499651058246, 0.25224441837568434, 0.24991513698558732, 0.24678173784126248, 0.24288011265873194, 0.2382472831240238, 0.23292123029369527, 0.2269407298063122, 0.2203451930550371, 0.21317451446136684, 0.20546892496841065, 0.19726885184231988, 0.1886147848433917, 0.1795471488080768, 0.1701061826661992, 0.16033182490003875, 0.1502636054331343, 0.1399405439187016, 0.12940105438165697, 0.1186828561540061, 0.10782289102990467, 0.09685724655376332, 0.08582108534265229, 0.07474858033324748, 0.06367285583359983, 0.05262593425089691, 0.04163868835803438, 0.03074079895425211, 0.01996071776834638, 0.009325635447027922, -0.0011385455342184166, -0.011407233204939195, -0.021457163849200815, -0.03126641534496742], \"yaxis\": \"y2\"}, {\"line\": {\"color\": \"rgb(0, 0, 255)\", \"width\": 2}, \"mode\": \"lines\", \"name\": \"AY\", \"showlegend\": false, \"type\": \"scatter\", \"x\": [0.0, 0.1, 0.2, 0.3, 0.4, 0.5, 0.6, 0.7, 0.8, 0.9, 1.0, 1.1, 1.2, 1.3, 1.4, 1.5, 1.6, 1.7, 1.8, 1.9, 2.0, 2.1, 2.2, 2.3, 2.4, 2.5, 2.6, 2.7, 2.8, 2.9, 3.0, 3.1, 3.2, 3.3, 3.4, 3.5, 3.6, 3.7, 3.8, 3.9, 4.0, 4.1, 4.2, 4.3, 4.4, 4.5, 4.6, 4.7, 4.8, 4.9, 5.0, 5.1, 5.2, 5.3, 5.4, 5.5, 5.6, 5.7, 5.8, 5.9, 6.0, 6.1, 6.2, 6.3, 6.4, 6.5, 6.6, 6.7, 6.8, 6.9, 7.0, 7.1, 7.2, 7.3, 7.4, 7.5, 7.6, 7.7, 7.8, 7.9, 8.0, 8.1, 8.2, 8.3, 8.4, 8.5, 8.6, 8.7, 8.8, 8.9, 9.0, 9.1, 9.2, 9.3, 9.4, 9.5, 9.6, 9.7, 9.8, 9.9, 10.0, 10.1, 10.2, 10.3, 10.4, 10.5, 10.6, 10.7, 10.8, 10.9], \"xaxis\": \"x2\", \"y\": [0.0, 0.0, 0.0, 0.0, 0.0, 0.0, 0.0, 0.0, 0.0, 0.0, 0.0, -0.0991359447247018, -0.17722044625806133, -0.2034421682717084, -0.21596525119556365, -0.25020743626230363, -0.3078488313338594, -0.3701704269266078, -0.4198971152976232, -0.4496228934636797, -0.4486393682433031, -0.40102668168559064, -0.3539606023087284, -0.32670290761062337, -0.29970213169954396, -0.2594585539054166, -0.20942546031526502, -0.15880126070577072, -0.11247841184346459, -0.07019599030708684, -0.030254896246045788, 0.00802593551467316, 0.04437694040123559, 0.07847907506184791, 0.11033163084995355, 0.14006229568448048, 0.16770291583413768, 0.19318537405310401, 0.21645179368787607, 0.23751320912162727, 0.2564237808397601, 0.27323444798641217, 0.2879778777326748, 0.30068249141287895, 0.3113883018915631, 0.32014935631664976, 0.32702707944968246, 0.3320845828513906, 0.33538597161173667, 0.3369982411717517, 0.3369923752853598, 0.3354427474621577, 0.33242589223792385, 0.3280197077326545, 0.3223032216592364, 0.31535650389028247, 0.3072604192440419, 0.298096234777865, 0.2879452314918872, 0.2768884004660204, 0.2650062005076379, 0.252378327532623, 0.23908347781961548, 0.22519911755340816, 0.2108012734448525, 0.19596434671657884, 0.18076094473383975, 0.1652617258028253, 0.14953525692297293, 0.13364788598974708, 0.11766362892291865, 0.10164407087995656, 0.08564828047472123, 0.06973273637209551, 0.053951265951963874, 0.0383549956895343, 0.022992312730397375, 0.007908837077392995, -0.00685259614898927, -0.02125194486848985, -0.035251959107793836, -0.04881817148383295, -0.06191887961396789, -0.0745251209501535, -0.08661064052096512, -0.09815185205902219, -0.1091277929866204, -0.1195200737234854, -0.12931282176816689, -0.13849262099233917, -0.147048446576566, -0.15497159600536908, -0.16225561652724635, -0.16889622947187002, -0.1748912518031986, -0.18024051527411294, -0.18494578353506058, -0.18901066753561319, -0.1924405395438411, -0.19524244609438426, -0.19742502016221397, -0.19899839284529586, -0.19997410482554412, -0.20036501786361458, -0.20018522656933227, -0.19944997067599746, -0.19817554803344514, -0.1963792285215348, -0.19407916907272293, -0.1912943299795736], \"yaxis\": \"y2\"}, {\"line\": {\"color\": \"rgb(0, 0, 0)\", \"width\": 2}, \"mode\": \"lines\", \"name\": \"AR\", \"showlegend\": false, \"type\": \"scatter\", \"x\": [0.0, 0.1, 0.2, 0.3, 0.4, 0.5, 0.6, 0.7, 0.8, 0.9, 1.0, 1.1, 1.2, 1.3, 1.4, 1.5, 1.6, 1.7, 1.8, 1.9, 2.0, 2.1, 2.2, 2.3, 2.4, 2.5, 2.6, 2.7, 2.8, 2.9, 3.0, 3.1, 3.2, 3.3, 3.4, 3.5, 3.6, 3.7, 3.8, 3.9, 4.0, 4.1, 4.2, 4.3, 4.4, 4.5, 4.6, 4.7, 4.8, 4.9, 5.0, 5.1, 5.2, 5.3, 5.4, 5.5, 5.6, 5.7, 5.8, 5.9, 6.0, 6.1, 6.2, 6.3, 6.4, 6.5, 6.6, 6.7, 6.8, 6.9, 7.0, 7.1, 7.2, 7.3, 7.4, 7.5, 7.6, 7.7, 7.8, 7.9, 8.0, 8.1, 8.2, 8.3, 8.4, 8.5, 8.6, 8.7, 8.8, 8.9, 9.0, 9.1, 9.2, 9.3, 9.4, 9.5, 9.6, 9.7, 9.8, 9.9, 10.0, 10.1, 10.2, 10.3, 10.4, 10.5, 10.6, 10.7, 10.8, 10.9], \"xaxis\": \"x2\", \"y\": [0.0, 0.0, 0.0, 0.0, 0.0, 0.0, 0.0, 0.0, 0.0, 0.0, 0.0, 0.09920324642444946, 0.1778319847622767, 0.20538871944150897, 0.22028210501525114, 0.2589065482892302, 0.32505227171840784, 0.40254624200503347, 0.4763272789397006, 0.5409127638135578, 0.583489008649248, 0.5560066702494232, 0.5278840990402497, 0.5380530168455369, 0.5610363988115689, 0.5671425594054657, 0.5513397182713852, 0.5263883470620667, 0.5050711892870627, 0.4912298127287166, 0.48191217864394964, 0.4732157569496951, 0.4635534789980891, 0.4534021498899982, 0.4437062299654089, 0.4348697888623175, 0.4267395041343732, 0.41901913261732643, 0.4115543631400532, 0.4043464301986007, 0.3974403012128996, 0.3908457628045041, 0.38453363476882657, 0.37846669384926734, 0.37262072862727463, 0.3669843680024346, 0.36154973433759197, 0.3563065538265599, 0.35124245871430737, 0.3463456524054974, 0.3416063269341659, 0.33701627519805594, 0.33256795780674775, 0.32825405138871555, 0.32406754288179357, 0.32000194448825914, 0.3160513392923102, 0.31221027422869757, 0.30847364280912876, 0.3048366355386981, 0.3012947386838957, 0.2978437331385257, 0.294479673138593, 0.2911988550719223, 0.2879977918035159, 0.2848731966325286, 0.28182197179426355, 0.27884119635274146, 0.27592811273189466, 0.27308011380555447, 0.27029473193414477, 0.2675696297304161, 0.26490259165728275, 0.2622915159598154, 0.25973440701471545, 0.2572293683331743, 0.25477459625896315, 0.2523683742183319, 0.25000906737257755, 0.24769511761972, 0.24542503895498494, 0.24319741319143112, 0.24101088600761933, 0.23886416327623658, 0.23675600764059487, 0.23468523532266722, 0.2326507131512926, 0.23065135579496285, 0.22868612318014542, 0.22675401807782233, 0.2248540838451628, 0.222985402311963, 0.2211470918018175, 0.2193383052776615, 0.21755822860184895, 0.2158060789022178, 0.21408110303677946, 0.21238257615029202, 0.21070980031625366, 0.20906210325822921, 0.20743883714496902, 0.20583937745434042, 0.20426312190152, 0.2027094894271907, 0.20117791924175593, 0.19966786992189584, 0.1981788185560955, 0.1967102599360416, 0.1952617057909974, 0.19383268406246146], \"yaxis\": \"y2\"}],\n",
       "                        {\"autosize\": false, \"font\": {\"color\": \"black\", \"family\": \"Arial\", \"size\": 14}, \"height\": 500, \"legend\": {\"orientation\": \"h\", \"x\": 0.01, \"xanchor\": \"left\", \"y\": 1.1, \"yanchor\": \"top\"}, \"template\": {\"data\": {\"bar\": [{\"error_x\": {\"color\": \"#2a3f5f\"}, \"error_y\": {\"color\": \"#2a3f5f\"}, \"marker\": {\"line\": {\"color\": \"white\", \"width\": 0.5}}, \"type\": \"bar\"}], \"barpolar\": [{\"marker\": {\"line\": {\"color\": \"white\", \"width\": 0.5}}, \"type\": \"barpolar\"}], \"carpet\": [{\"aaxis\": {\"endlinecolor\": \"#2a3f5f\", \"gridcolor\": \"#C8D4E3\", \"linecolor\": \"#C8D4E3\", \"minorgridcolor\": \"#C8D4E3\", \"startlinecolor\": \"#2a3f5f\"}, \"baxis\": {\"endlinecolor\": \"#2a3f5f\", \"gridcolor\": \"#C8D4E3\", \"linecolor\": \"#C8D4E3\", \"minorgridcolor\": \"#C8D4E3\", \"startlinecolor\": \"#2a3f5f\"}, \"type\": \"carpet\"}], \"choropleth\": [{\"colorbar\": {\"outlinewidth\": 0, \"ticks\": \"\"}, \"type\": \"choropleth\"}], \"contour\": [{\"colorbar\": {\"outlinewidth\": 0, \"ticks\": \"\"}, \"colorscale\": [[0.0, \"#0d0887\"], [0.1111111111111111, \"#46039f\"], [0.2222222222222222, \"#7201a8\"], [0.3333333333333333, \"#9c179e\"], [0.4444444444444444, \"#bd3786\"], [0.5555555555555556, \"#d8576b\"], [0.6666666666666666, \"#ed7953\"], [0.7777777777777778, \"#fb9f3a\"], [0.8888888888888888, \"#fdca26\"], [1.0, \"#f0f921\"]], \"type\": \"contour\"}], \"contourcarpet\": [{\"colorbar\": {\"outlinewidth\": 0, \"ticks\": \"\"}, \"type\": \"contourcarpet\"}], \"heatmap\": [{\"colorbar\": {\"outlinewidth\": 0, \"ticks\": \"\"}, \"colorscale\": [[0.0, \"#0d0887\"], [0.1111111111111111, \"#46039f\"], [0.2222222222222222, \"#7201a8\"], [0.3333333333333333, \"#9c179e\"], [0.4444444444444444, \"#bd3786\"], [0.5555555555555556, \"#d8576b\"], [0.6666666666666666, \"#ed7953\"], [0.7777777777777778, \"#fb9f3a\"], [0.8888888888888888, \"#fdca26\"], [1.0, \"#f0f921\"]], \"type\": \"heatmap\"}], \"heatmapgl\": [{\"colorbar\": {\"outlinewidth\": 0, \"ticks\": \"\"}, \"colorscale\": [[0.0, \"#0d0887\"], [0.1111111111111111, \"#46039f\"], [0.2222222222222222, \"#7201a8\"], [0.3333333333333333, \"#9c179e\"], [0.4444444444444444, \"#bd3786\"], [0.5555555555555556, \"#d8576b\"], [0.6666666666666666, \"#ed7953\"], [0.7777777777777778, \"#fb9f3a\"], [0.8888888888888888, \"#fdca26\"], [1.0, \"#f0f921\"]], \"type\": \"heatmapgl\"}], \"histogram\": [{\"marker\": {\"colorbar\": {\"outlinewidth\": 0, \"ticks\": \"\"}}, \"type\": \"histogram\"}], \"histogram2d\": [{\"colorbar\": {\"outlinewidth\": 0, \"ticks\": \"\"}, \"colorscale\": [[0.0, \"#0d0887\"], [0.1111111111111111, \"#46039f\"], [0.2222222222222222, \"#7201a8\"], [0.3333333333333333, \"#9c179e\"], [0.4444444444444444, \"#bd3786\"], [0.5555555555555556, \"#d8576b\"], [0.6666666666666666, \"#ed7953\"], [0.7777777777777778, \"#fb9f3a\"], [0.8888888888888888, \"#fdca26\"], [1.0, \"#f0f921\"]], \"type\": \"histogram2d\"}], \"histogram2dcontour\": [{\"colorbar\": {\"outlinewidth\": 0, \"ticks\": \"\"}, \"colorscale\": [[0.0, \"#0d0887\"], [0.1111111111111111, \"#46039f\"], [0.2222222222222222, \"#7201a8\"], [0.3333333333333333, \"#9c179e\"], [0.4444444444444444, \"#bd3786\"], [0.5555555555555556, \"#d8576b\"], [0.6666666666666666, \"#ed7953\"], [0.7777777777777778, \"#fb9f3a\"], [0.8888888888888888, \"#fdca26\"], [1.0, \"#f0f921\"]], \"type\": \"histogram2dcontour\"}], \"mesh3d\": [{\"colorbar\": {\"outlinewidth\": 0, \"ticks\": \"\"}, \"type\": \"mesh3d\"}], \"parcoords\": [{\"line\": {\"colorbar\": {\"outlinewidth\": 0, \"ticks\": \"\"}}, \"type\": \"parcoords\"}], \"pie\": [{\"automargin\": true, \"type\": \"pie\"}], \"scatter\": [{\"marker\": {\"colorbar\": {\"outlinewidth\": 0, \"ticks\": \"\"}}, \"type\": \"scatter\"}], \"scatter3d\": [{\"line\": {\"colorbar\": {\"outlinewidth\": 0, \"ticks\": \"\"}}, \"marker\": {\"colorbar\": {\"outlinewidth\": 0, \"ticks\": \"\"}}, \"type\": \"scatter3d\"}], \"scattercarpet\": [{\"marker\": {\"colorbar\": {\"outlinewidth\": 0, \"ticks\": \"\"}}, \"type\": \"scattercarpet\"}], \"scattergeo\": [{\"marker\": {\"colorbar\": {\"outlinewidth\": 0, \"ticks\": \"\"}}, \"type\": \"scattergeo\"}], \"scattergl\": [{\"marker\": {\"colorbar\": {\"outlinewidth\": 0, \"ticks\": \"\"}}, \"type\": \"scattergl\"}], \"scattermapbox\": [{\"marker\": {\"colorbar\": {\"outlinewidth\": 0, \"ticks\": \"\"}}, \"type\": \"scattermapbox\"}], \"scatterpolar\": [{\"marker\": {\"colorbar\": {\"outlinewidth\": 0, \"ticks\": \"\"}}, \"type\": \"scatterpolar\"}], \"scatterpolargl\": [{\"marker\": {\"colorbar\": {\"outlinewidth\": 0, \"ticks\": \"\"}}, \"type\": \"scatterpolargl\"}], \"scatterternary\": [{\"marker\": {\"colorbar\": {\"outlinewidth\": 0, \"ticks\": \"\"}}, \"type\": \"scatterternary\"}], \"surface\": [{\"colorbar\": {\"outlinewidth\": 0, \"ticks\": \"\"}, \"colorscale\": [[0.0, \"#0d0887\"], [0.1111111111111111, \"#46039f\"], [0.2222222222222222, \"#7201a8\"], [0.3333333333333333, \"#9c179e\"], [0.4444444444444444, \"#bd3786\"], [0.5555555555555556, \"#d8576b\"], [0.6666666666666666, \"#ed7953\"], [0.7777777777777778, \"#fb9f3a\"], [0.8888888888888888, \"#fdca26\"], [1.0, \"#f0f921\"]], \"type\": \"surface\"}], \"table\": [{\"cells\": {\"fill\": {\"color\": \"#EBF0F8\"}, \"line\": {\"color\": \"white\"}}, \"header\": {\"fill\": {\"color\": \"#C8D4E3\"}, \"line\": {\"color\": \"white\"}}, \"type\": \"table\"}]}, \"layout\": {\"annotationdefaults\": {\"arrowcolor\": \"#2a3f5f\", \"arrowhead\": 0, \"arrowwidth\": 1}, \"coloraxis\": {\"colorbar\": {\"outlinewidth\": 0, \"ticks\": \"\"}}, \"colorscale\": {\"diverging\": [[0, \"#8e0152\"], [0.1, \"#c51b7d\"], [0.2, \"#de77ae\"], [0.3, \"#f1b6da\"], [0.4, \"#fde0ef\"], [0.5, \"#f7f7f7\"], [0.6, \"#e6f5d0\"], [0.7, \"#b8e186\"], [0.8, \"#7fbc41\"], [0.9, \"#4d9221\"], [1, \"#276419\"]], \"sequential\": [[0.0, \"#0d0887\"], [0.1111111111111111, \"#46039f\"], [0.2222222222222222, \"#7201a8\"], [0.3333333333333333, \"#9c179e\"], [0.4444444444444444, \"#bd3786\"], [0.5555555555555556, \"#d8576b\"], [0.6666666666666666, \"#ed7953\"], [0.7777777777777778, \"#fb9f3a\"], [0.8888888888888888, \"#fdca26\"], [1.0, \"#f0f921\"]], \"sequentialminus\": [[0.0, \"#0d0887\"], [0.1111111111111111, \"#46039f\"], [0.2222222222222222, \"#7201a8\"], [0.3333333333333333, \"#9c179e\"], [0.4444444444444444, \"#bd3786\"], [0.5555555555555556, \"#d8576b\"], [0.6666666666666666, \"#ed7953\"], [0.7777777777777778, \"#fb9f3a\"], [0.8888888888888888, \"#fdca26\"], [1.0, \"#f0f921\"]]}, \"colorway\": [\"#636efa\", \"#EF553B\", \"#00cc96\", \"#ab63fa\", \"#FFA15A\", \"#19d3f3\", \"#FF6692\", \"#B6E880\", \"#FF97FF\", \"#FECB52\"], \"font\": {\"color\": \"#2a3f5f\"}, \"geo\": {\"bgcolor\": \"white\", \"lakecolor\": \"white\", \"landcolor\": \"white\", \"showlakes\": true, \"showland\": true, \"subunitcolor\": \"#C8D4E3\"}, \"hoverlabel\": {\"align\": \"left\"}, \"hovermode\": \"closest\", \"mapbox\": {\"style\": \"light\"}, \"paper_bgcolor\": \"white\", \"plot_bgcolor\": \"white\", \"polar\": {\"angularaxis\": {\"gridcolor\": \"#EBF0F8\", \"linecolor\": \"#EBF0F8\", \"ticks\": \"\"}, \"bgcolor\": \"white\", \"radialaxis\": {\"gridcolor\": \"#EBF0F8\", \"linecolor\": \"#EBF0F8\", \"ticks\": \"\"}}, \"scene\": {\"xaxis\": {\"backgroundcolor\": \"white\", \"gridcolor\": \"#DFE8F3\", \"gridwidth\": 2, \"linecolor\": \"#EBF0F8\", \"showbackground\": true, \"ticks\": \"\", \"zerolinecolor\": \"#EBF0F8\"}, \"yaxis\": {\"backgroundcolor\": \"white\", \"gridcolor\": \"#DFE8F3\", \"gridwidth\": 2, \"linecolor\": \"#EBF0F8\", \"showbackground\": true, \"ticks\": \"\", \"zerolinecolor\": \"#EBF0F8\"}, \"zaxis\": {\"backgroundcolor\": \"white\", \"gridcolor\": \"#DFE8F3\", \"gridwidth\": 2, \"linecolor\": \"#EBF0F8\", \"showbackground\": true, \"ticks\": \"\", \"zerolinecolor\": \"#EBF0F8\"}}, \"shapedefaults\": {\"line\": {\"color\": \"#2a3f5f\"}}, \"ternary\": {\"aaxis\": {\"gridcolor\": \"#DFE8F3\", \"linecolor\": \"#A2B1C6\", \"ticks\": \"\"}, \"baxis\": {\"gridcolor\": \"#DFE8F3\", \"linecolor\": \"#A2B1C6\", \"ticks\": \"\"}, \"bgcolor\": \"white\", \"caxis\": {\"gridcolor\": \"#DFE8F3\", \"linecolor\": \"#A2B1C6\", \"ticks\": \"\"}}, \"title\": {\"x\": 0.05}, \"xaxis\": {\"automargin\": true, \"gridcolor\": \"#EBF0F8\", \"linecolor\": \"#EBF0F8\", \"ticks\": \"\", \"title\": {\"standoff\": 15}, \"zerolinecolor\": \"#EBF0F8\", \"zerolinewidth\": 2}, \"yaxis\": {\"automargin\": true, \"gridcolor\": \"#EBF0F8\", \"linecolor\": \"#EBF0F8\", \"ticks\": \"\", \"title\": {\"standoff\": 15}, \"zerolinecolor\": \"#EBF0F8\", \"zerolinewidth\": 2}}}, \"title\": {\"text\": \"Veh1 - Inertial Frame Velocity | Acceleration\"}, \"width\": 900, \"xaxis\": {\"anchor\": \"y\", \"domain\": [0.0, 1.0], \"linecolor\": \"black\", \"linewidth\": 1, \"matches\": \"x2\", \"showgrid\": false, \"showline\": true, \"showticklabels\": false, \"tickcolor\": \"black\", \"ticklen\": 10, \"ticks\": \"outside\", \"tickwidth\": 1, \"title\": {\"text\": \"\"}, \"zeroline\": false}, \"xaxis2\": {\"anchor\": \"y2\", \"domain\": [0.0, 1.0], \"linecolor\": \"black\", \"linewidth\": 1, \"showgrid\": false, \"showline\": true, \"tickcolor\": \"black\", \"ticklen\": 10, \"ticks\": \"outside\", \"tickwidth\": 1, \"title\": {\"text\": \"Time (s)\"}, \"zeroline\": false}, \"yaxis\": {\"anchor\": \"x\", \"domain\": [0.525, 1.0], \"linecolor\": \"black\", \"linewidth\": 1, \"showgrid\": false, \"showline\": true, \"tickcolor\": \"black\", \"ticklen\": 10, \"ticks\": \"outside\", \"tickwidth\": 1, \"title\": {\"text\": \"Velocity (mph)\"}, \"zeroline\": false}, \"yaxis2\": {\"anchor\": \"x2\", \"domain\": [0.0, 0.475], \"linecolor\": \"black\", \"linewidth\": 1, \"showgrid\": false, \"showline\": true, \"tickcolor\": \"black\", \"ticklen\": 10, \"ticks\": \"outside\", \"tickwidth\": 1, \"title\": {\"text\": \"Acceleration (g)\"}, \"zeroline\": false}},\n",
       "                        {\"responsive\": true}\n",
       "                    ).then(function(){\n",
       "                            \n",
       "var gd = document.getElementById('beea2f25-3b54-4938-88f7-0f131af0c162');\n",
       "var x = new MutationObserver(function (mutations, observer) {{\n",
       "        var display = window.getComputedStyle(gd).display;\n",
       "        if (!display || display === 'none') {{\n",
       "            console.log([gd, 'removed!']);\n",
       "            Plotly.purge(gd);\n",
       "            observer.disconnect();\n",
       "        }}\n",
       "}});\n",
       "\n",
       "// Listen for the removal of the full notebook cells\n",
       "var notebookContainer = gd.closest('#notebook-container');\n",
       "if (notebookContainer) {{\n",
       "    x.observe(notebookContainer, {childList: true});\n",
       "}}\n",
       "\n",
       "// Listen for the clearing of the current output cell\n",
       "var outputEl = gd.closest('.output');\n",
       "if (outputEl) {{\n",
       "    x.observe(outputEl, {childList: true});\n",
       "}}\n",
       "\n",
       "                        })\n",
       "                };\n",
       "                });\n",
       "            </script>\n",
       "        </div>"
      ]
     },
     "metadata": {},
     "output_type": "display_data"
    },
    {
     "data": {
      "application/vnd.plotly.v1+json": {
       "config": {
        "plotlyServerURL": "https://plot.ly"
       },
       "data": [
        {
         "line": {
          "color": "rgb(0, 255, 0)",
          "width": 2
         },
         "mode": "lines",
         "name": "x",
         "type": "scatter",
         "x": [
          0,
          0.1,
          0.2,
          0.3,
          0.4,
          0.5,
          0.6,
          0.7,
          0.8,
          0.9,
          1,
          1.1,
          1.2,
          1.3,
          1.4,
          1.5,
          1.6,
          1.7,
          1.8,
          1.9,
          2,
          2.1,
          2.2,
          2.3,
          2.4,
          2.5,
          2.6,
          2.7,
          2.8,
          2.9,
          3,
          3.1,
          3.2,
          3.3,
          3.4,
          3.5,
          3.6,
          3.7,
          3.8,
          3.9,
          4,
          4.1,
          4.2,
          4.3,
          4.4,
          4.5,
          4.6,
          4.7,
          4.8,
          4.9,
          5,
          5.1,
          5.2,
          5.3,
          5.4,
          5.5,
          5.6,
          5.7,
          5.8,
          5.9,
          6,
          6.1,
          6.2,
          6.3,
          6.4,
          6.5,
          6.6,
          6.7,
          6.8,
          6.9,
          7,
          7.1,
          7.2,
          7.3,
          7.4,
          7.5,
          7.6,
          7.7,
          7.8,
          7.9,
          8,
          8.1,
          8.2,
          8.3,
          8.4,
          8.5,
          8.6,
          8.7,
          8.8,
          8.9,
          9,
          9.1,
          9.2,
          9.3,
          9.4,
          9.5,
          9.6,
          9.7,
          9.8,
          9.9,
          10,
          10.1,
          10.2,
          10.3,
          10.4,
          10.5,
          10.6,
          10.7,
          10.8,
          10.9
         ],
         "xaxis": "x",
         "y": [
          15,
          15,
          15,
          15,
          15,
          15,
          15,
          15,
          15,
          15,
          15,
          14.99612783611973,
          14.97765964359559,
          14.938955385846048,
          14.885538213625,
          14.820707776321932,
          14.737189027920719,
          14.622645272980643,
          14.468222729570964,
          14.270880359713146,
          14.036527490217964,
          13.816570426725924,
          13.65257141286596,
          13.513754003636873,
          13.36075622431145,
          13.187413103685325,
          13.010375103973889,
          12.845192338639782,
          12.695691031835114,
          12.557484300180194,
          12.425344166554657,
          12.29699958851623,
          12.172660662429996,
          12.053077126166476,
          11.93839146853488,
          11.828152382838686,
          11.7217889097092,
          11.618915407893487,
          11.519334251170617,
          11.422909956662789,
          11.329484962592458,
          11.238875969487184,
          11.150904888179205,
          11.065418412344513,
          10.982286094503477,
          10.901389883366692,
          10.822617567746045,
          10.745862393688432,
          10.67102492418087,
          10.598013711168093,
          10.526744346745337,
          10.457138106519908,
          10.38912110830614,
          10.32262400971425,
          10.257581845563164,
          10.193933747538264,
          10.13162256366722,
          10.070594499486425,
          10.010798842695404,
          9.952187750215295,
          9.894716054395412,
          9.838341069965125,
          9.783022408663673,
          9.728721812416463,
          9.675403006761245,
          9.623031569128662,
          9.571574806809688,
          9.52100164305257,
          9.471282511885079,
          9.42238926192504,
          9.37429506831084,
          9.326974351455933,
          9.28040270169575,
          9.23455680938058,
          9.189414400132069,
          9.144954174889056,
          9.10115575427669,
          9.057999626863015,
          9.015467100965191,
          8.973540259740696,
          8.932201919319999,
          8.89143558973676,
          8.851225438422741,
          8.811556256060943,
          8.772413424618124,
          8.733782887396384,
          8.695651120954203,
          8.658005108757118,
          8.620832316429864,
          8.584120668494286,
          8.547858526488115,
          8.51203466836797,
          8.476638269107106,
          8.441658882405324,
          8.40708642343531,
          8.372911152555822,
          8.33912365992773,
          8.305714850973505,
          8.27267593262533,
          8.23999840031097,
          8.207674025630574,
          8.17569484468089,
          8.144053146986627,
          8.112741465001506,
          8.081752564144203,
          8.051079433336904,
          8.020715276016404,
          7.990653501589791,
          7.960887717308639,
          7.9314117205373975
         ],
         "yaxis": "y"
        },
        {
         "line": {
          "color": "rgb(0, 0, 255)",
          "width": 2
         },
         "mode": "lines",
         "name": "y",
         "type": "scatter",
         "x": [
          0,
          0.1,
          0.2,
          0.3,
          0.4,
          0.5,
          0.6,
          0.7,
          0.8,
          0.9,
          1,
          1.1,
          1.2,
          1.3,
          1.4,
          1.5,
          1.6,
          1.7,
          1.8,
          1.9,
          2,
          2.1,
          2.2,
          2.3,
          2.4,
          2.5,
          2.6,
          2.7,
          2.8,
          2.9,
          3,
          3.1,
          3.2,
          3.3,
          3.4,
          3.5,
          3.6,
          3.7,
          3.8,
          3.9,
          4,
          4.1,
          4.2,
          4.3,
          4.4,
          4.5,
          4.6,
          4.7,
          4.8,
          4.9,
          5,
          5.1,
          5.2,
          5.3,
          5.4,
          5.5,
          5.6,
          5.7,
          5.8,
          5.9,
          6,
          6.1,
          6.2,
          6.3,
          6.4,
          6.5,
          6.6,
          6.7,
          6.8,
          6.9,
          7,
          7.1,
          7.2,
          7.3,
          7.4,
          7.5,
          7.6,
          7.7,
          7.8,
          7.9,
          8,
          8.1,
          8.2,
          8.3,
          8.4,
          8.5,
          8.6,
          8.7,
          8.8,
          8.9,
          9,
          9.1,
          9.2,
          9.3,
          9.4,
          9.5,
          9.6,
          9.7,
          9.8,
          9.9,
          10,
          10.1,
          10.2,
          10.3,
          10.4,
          10.5,
          10.6,
          10.7,
          10.8,
          10.9
         ],
         "xaxis": "x",
         "y": [
          0,
          0,
          0,
          0,
          0,
          0,
          0,
          0,
          0,
          0,
          0,
          -0.10882899713957157,
          -0.3932336237296418,
          -0.7199782434004491,
          -0.9629095033838602,
          -1.108479015558836,
          -1.2115032930911895,
          -1.3223401083818742,
          -1.4580148049639354,
          -1.6125514416480644,
          -1.7616372573028476,
          -1.8282732154608374,
          -1.7728414319888597,
          -1.6791579065235243,
          -1.640318593387006,
          -1.6697149498469994,
          -1.7263212164041595,
          -1.77116880768335,
          -1.7934524471133555,
          -1.802506302353933,
          -1.8099427839044921,
          -1.8203022928983812,
          -1.8321378361123208,
          -1.8427610793473028,
          -1.8510804925377413,
          -1.8575691414807118,
          -1.8630693416756654,
          -1.8680118295304835,
          -1.8723981177272446,
          -1.8761143940337408,
          -1.8791431191569268,
          -1.8815689039747545,
          -1.8834946399171406,
          -1.8849868877979015,
          -1.886077733734408,
          -1.8867896976019434,
          -1.8871508588482775,
          -1.8871939066775463,
          -1.8869493868260163,
          -1.8864422944949149,
          -1.885693211233795,
          -1.884720716341577,
          -1.8835425402977712,
          -1.8821753640461683,
          -1.8806343378771013,
          -1.878933018708502,
          -1.8770836683614727,
          -1.875097564363181,
          -1.8729851416453231,
          -1.8707560170612674,
          -1.8684190126366353,
          -1.8659822239937913,
          -1.863453108874008,
          -1.8608385601022268,
          -1.8581449543791455,
          -1.8553781892665633,
          -1.8525437203322546,
          -1.849646600135307,
          -1.8466915147619967,
          -1.8436828149696,
          -1.8406245426235663,
          -1.8375204545586281,
          -1.8343740450406594,
          -1.831188566704345,
          -1.8279670495184597,
          -1.8247123177615374,
          -1.8214270053838217,
          -1.818113570127625,
          -1.814774306561715,
          -1.8114113580462174,
          -1.8080267276609554,
          -1.8046222882000784,
          -1.8011997913584403,
          -1.7977608762033936,
          -1.7943070769876435,
          -1.7908398303464748,
          -1.787360481929544,
          -1.7838702925225178,
          -1.7803704437082588,
          -1.7768620431069244,
          -1.7733461292274733,
          -1.7698236759612596,
          -1.7662955967479426,
          -1.7627627484418618,
          -1.7592259349035029,
          -1.7556859103375329,
          -1.7521433823969546,
          -1.7485990150717399,
          -1.7450534313789878,
          -1.7415072158700409,
          -1.737960916968435,
          -1.7344150491513004,
          -1.7308700949858968,
          -1.7273265070320771,
          -1.7237847096205854,
          -1.7202451005162132,
          -1.7167080524740814,
          -1.7131739146966756,
          -1.7096430141986898,
          -1.7061156570861704
         ],
         "yaxis": "y"
        },
        {
         "line": {
          "color": "rgb(0, 255, 0)",
          "width": 2
         },
         "mode": "lines",
         "name": "Ax",
         "showlegend": false,
         "type": "scatter",
         "x": [
          0,
          0.1,
          0.2,
          0.3,
          0.4,
          0.5,
          0.6,
          0.7,
          0.8,
          0.9,
          1,
          1.1,
          1.2,
          1.3,
          1.4,
          1.5,
          1.6,
          1.7,
          1.8,
          1.9,
          2,
          2.1,
          2.2,
          2.3,
          2.4,
          2.5,
          2.6,
          2.7,
          2.8,
          2.9,
          3,
          3.1,
          3.2,
          3.3,
          3.4,
          3.5,
          3.6,
          3.7,
          3.8,
          3.9,
          4,
          4.1,
          4.2,
          4.3,
          4.4,
          4.5,
          4.6,
          4.7,
          4.8,
          4.9,
          5,
          5.1,
          5.2,
          5.3,
          5.4,
          5.5,
          5.6,
          5.7,
          5.8,
          5.9,
          6,
          6.1,
          6.2,
          6.3,
          6.4,
          6.5,
          6.6,
          6.7,
          6.8,
          6.9,
          7,
          7.1,
          7.2,
          7.3,
          7.4,
          7.5,
          7.6,
          7.7,
          7.8,
          7.9,
          8,
          8.1,
          8.2,
          8.3,
          8.4,
          8.5,
          8.6,
          8.7,
          8.8,
          8.9,
          9,
          9.1,
          9.2,
          9.3,
          9.4,
          9.5,
          9.6,
          9.7,
          9.8,
          9.9,
          10,
          10.1,
          10.2,
          10.3,
          10.4,
          10.5,
          10.6,
          10.7,
          10.8,
          10.9
         ],
         "xaxis": "x2",
         "y": [
          0,
          0,
          0,
          0,
          0,
          0,
          0,
          0,
          0,
          0,
          0,
          -0.003527445092095549,
          -0.013296619460314957,
          -0.021961997753051438,
          -0.02669971900560992,
          -0.032359198683391474,
          -0.04372430611015378,
          -0.060622208832679346,
          -0.08005289162860849,
          -0.09972110439584239,
          -0.11376853728272976,
          -0.08660688278675355,
          -0.06279214433001118,
          -0.06366706659795697,
          -0.07571010918044005,
          -0.08220116704857557,
          -0.07907605222892167,
          -0.07140134307081454,
          -0.06479063311005556,
          -0.061112265719958474,
          -0.05926411302821929,
          -0.05765460887961908,
          -0.05561506361907476,
          -0.05332256689745616,
          -0.051153217871819805,
          -0.04927185033814032,
          -0.04762263111206095,
          -0.04609257317865462,
          -0.044623386529874055,
          -0.04321675013211093,
          -0.0418910983480959,
          -0.04065144321570099,
          -0.03948802623894037,
          -0.0383880293588647,
          -0.037343446795118064,
          -0.03635099170673864,
          -0.0354086307475062,
          -0.034513425858132094,
          -0.03366164954724531,
          -0.032849751564213235,
          -0.03207486875747816,
          -0.0313346867403061,
          -0.03062710876912555,
          -0.029950095946258186,
          -0.029301699640991278,
          -0.02868013634048783,
          -0.028083804062085802,
          -0.027511246181419802,
          -0.026961111548821685,
          -0.0264321375243469,
          -0.025923149499348014,
          -0.025433060695912193,
          -0.024960865373032725,
          -0.024505628725037622,
          -0.024066478536042397,
          -0.023642599993512137,
          -0.023233232050196253,
          -0.022837663656419288,
          -0.022455229579248007,
          -0.02208530639521682,
          -0.021727309100521393,
          -0.021380688284315656,
          -0.021044927587588375,
          -0.02071954128315147,
          -0.020404071991701835,
          -0.020098088602813292,
          -0.019801184415534707,
          -0.019512975456399493,
          -0.019233098927801232,
          -0.01896121176706099,
          -0.018696989316681085,
          -0.018440124105586056,
          -0.018190324731514513,
          -0.01794731483033648,
          -0.017710832121362954,
          -0.01748062752274341,
          -0.01725646433300499,
          -0.01703811747388669,
          -0.016825372788606907,
          -0.016618026390073013,
          -0.016415884054765358,
          -0.01621876065894448,
          -0.016026479654058533,
          -0.01583887257817837,
          -0.015655778600425954,
          -0.015477044095733724,
          -0.015302522247649017,
          -0.015132072677127784,
          -0.014965561095368903,
          -0.014802858978855344,
          -0.014643843264931334,
          -0.014488396066418862,
          -0.014336404403918705,
          -0.01418775995453977,
          -0.014042358815883412,
          -0.013900101284205104,
          -0.01376089164576863,
          -0.013624637980491364,
          -0.013491251977047014,
          -0.013360648758653159
         ],
         "yaxis": "y2"
        },
        {
         "line": {
          "color": "rgb(0, 0, 255)",
          "width": 2
         },
         "mode": "lines",
         "name": "Ay",
         "showlegend": false,
         "type": "scatter",
         "x": [
          0,
          0.1,
          0.2,
          0.3,
          0.4,
          0.5,
          0.6,
          0.7,
          0.8,
          0.9,
          1,
          1.1,
          1.2,
          1.3,
          1.4,
          1.5,
          1.6,
          1.7,
          1.8,
          1.9,
          2,
          2.1,
          2.2,
          2.3,
          2.4,
          2.5,
          2.6,
          2.7,
          2.8,
          2.9,
          3,
          3.1,
          3.2,
          3.3,
          3.4,
          3.5,
          3.6,
          3.7,
          3.8,
          3.9,
          4,
          4.1,
          4.2,
          4.3,
          4.4,
          4.5,
          4.6,
          4.7,
          4.8,
          4.9,
          5,
          5.1,
          5.2,
          5.3,
          5.4,
          5.5,
          5.6,
          5.7,
          5.8,
          5.9,
          6,
          6.1,
          6.2,
          6.3,
          6.4,
          6.5,
          6.6,
          6.7,
          6.8,
          6.9,
          7,
          7.1,
          7.2,
          7.3,
          7.4,
          7.5,
          7.6,
          7.7,
          7.8,
          7.9,
          8,
          8.1,
          8.2,
          8.3,
          8.4,
          8.5,
          8.6,
          8.7,
          8.8,
          8.9,
          9,
          9.1,
          9.2,
          9.3,
          9.4,
          9.5,
          9.6,
          9.7,
          9.8,
          9.9,
          10,
          10.1,
          10.2,
          10.3,
          10.4,
          10.5,
          10.6,
          10.7,
          10.8,
          10.9
         ],
         "xaxis": "x2",
         "y": [
          0,
          0,
          0,
          0,
          0,
          0,
          0,
          0,
          0,
          0,
          0,
          -0.0991405125681338,
          -0.15994503630196447,
          -0.13771119433939133,
          -0.0835931479462418,
          -0.04901706101131829,
          -0.044835496211276034,
          -0.056134088808841125,
          -0.0674621889775015,
          -0.0733168476221949,
          -0.062496626443892714,
          0.0017929241137194924,
          0.04870405344208527,
          0.03663931071583009,
          -0.001257661400340984,
          -0.025521688990453272,
          -0.026045213476248746,
          -0.014809827953223498,
          -0.005490013936718131,
          -0.0027578232469449362,
          -0.004016626688308885,
          -0.005420628626018593,
          -0.005361257191117361,
          -0.004316253464442173,
          -0.0032625252585518887,
          -0.0026484727198247903,
          -0.0023620730068412803,
          -0.0021404106341686687,
          -0.0018553889369762962,
          -0.0015300464483956413,
          -0.0012290468909975682,
          -0.0009807828100976588,
          -0.0007735147890449318,
          -0.000585885955846808,
          -0.00040784759054810437,
          -0.0002407338042333385,
          -8.827511822707475e-05,
          4.9059615274530786e-05,
          0.00017369189444204283,
          0.00028825662062421887,
          0.0003941396194919236,
          0.0004917790659547912,
          0.0005815100384978632,
          0.0006639535596005712,
          0.0007398829940551347,
          0.0008099764997394544,
          0.0008747357198117369,
          0.000934555678433052,
          0.0009898089349835715,
          0.0010408681791138092,
          0.0010880847895042307,
          0.001131769122794161,
          0.0011721919161700315,
          0.0012095970571890586,
          0.001244210834656631,
          0.001276243443399869,
          0.0013058873341668916,
          0.0013333171871108837,
          0.0013586921697045884,
          0.0013821585908632434,
          0.0014038515344519367,
          0.0014238955725062814,
          0.0014424053266982105,
          0.001459486295365243,
          0.00147523582328216,
          0.0014897439443733488,
          0.0015030940090579091,
          0.0015153631879645686,
          0.0015266229575094453,
          0.0015369395885929695,
          0.0015463746021849916,
          0.001554985164326826,
          0.001562824427428234,
          0.0015699418399334783,
          0.001576383436938818,
          0.0015821921103921352,
          0.0015874078539926584,
          0.0015920679830278936,
          0.001596207333996468,
          0.0015998584485870076,
          0.0016030517436952639,
          0.0016058156674586095,
          0.0016081768417311373,
          0.0016101601924797004,
          0.0016117890698214182,
          0.0016130853588566202,
          0.001614069581893797,
          0.0016147609925610672,
          0.001615177662500309,
          0.0016153365614170801,
          0.00161525363114099,
          0.0016149438541735446,
          0.001614421317113684,
          0.0016136992693640052,
          0.001612790177538281,
          0.001611705775945798,
          0.0016104571134663247,
          0.0016090545970849212,
          0.0016075080323440243,
          0.001605826660959543
         ],
         "yaxis": "y2"
        }
       ],
       "layout": {
        "autosize": false,
        "font": {
         "color": "black",
         "family": "Arial",
         "size": 14
        },
        "height": 500,
        "legend": {
         "orientation": "h",
         "x": 0.01,
         "xanchor": "left",
         "y": 1.1,
         "yanchor": "top"
        },
        "template": {
         "data": {
          "bar": [
           {
            "error_x": {
             "color": "#2a3f5f"
            },
            "error_y": {
             "color": "#2a3f5f"
            },
            "marker": {
             "line": {
              "color": "white",
              "width": 0.5
             }
            },
            "type": "bar"
           }
          ],
          "barpolar": [
           {
            "marker": {
             "line": {
              "color": "white",
              "width": 0.5
             }
            },
            "type": "barpolar"
           }
          ],
          "carpet": [
           {
            "aaxis": {
             "endlinecolor": "#2a3f5f",
             "gridcolor": "#C8D4E3",
             "linecolor": "#C8D4E3",
             "minorgridcolor": "#C8D4E3",
             "startlinecolor": "#2a3f5f"
            },
            "baxis": {
             "endlinecolor": "#2a3f5f",
             "gridcolor": "#C8D4E3",
             "linecolor": "#C8D4E3",
             "minorgridcolor": "#C8D4E3",
             "startlinecolor": "#2a3f5f"
            },
            "type": "carpet"
           }
          ],
          "choropleth": [
           {
            "colorbar": {
             "outlinewidth": 0,
             "ticks": ""
            },
            "type": "choropleth"
           }
          ],
          "contour": [
           {
            "colorbar": {
             "outlinewidth": 0,
             "ticks": ""
            },
            "colorscale": [
             [
              0,
              "#0d0887"
             ],
             [
              0.1111111111111111,
              "#46039f"
             ],
             [
              0.2222222222222222,
              "#7201a8"
             ],
             [
              0.3333333333333333,
              "#9c179e"
             ],
             [
              0.4444444444444444,
              "#bd3786"
             ],
             [
              0.5555555555555556,
              "#d8576b"
             ],
             [
              0.6666666666666666,
              "#ed7953"
             ],
             [
              0.7777777777777778,
              "#fb9f3a"
             ],
             [
              0.8888888888888888,
              "#fdca26"
             ],
             [
              1,
              "#f0f921"
             ]
            ],
            "type": "contour"
           }
          ],
          "contourcarpet": [
           {
            "colorbar": {
             "outlinewidth": 0,
             "ticks": ""
            },
            "type": "contourcarpet"
           }
          ],
          "heatmap": [
           {
            "colorbar": {
             "outlinewidth": 0,
             "ticks": ""
            },
            "colorscale": [
             [
              0,
              "#0d0887"
             ],
             [
              0.1111111111111111,
              "#46039f"
             ],
             [
              0.2222222222222222,
              "#7201a8"
             ],
             [
              0.3333333333333333,
              "#9c179e"
             ],
             [
              0.4444444444444444,
              "#bd3786"
             ],
             [
              0.5555555555555556,
              "#d8576b"
             ],
             [
              0.6666666666666666,
              "#ed7953"
             ],
             [
              0.7777777777777778,
              "#fb9f3a"
             ],
             [
              0.8888888888888888,
              "#fdca26"
             ],
             [
              1,
              "#f0f921"
             ]
            ],
            "type": "heatmap"
           }
          ],
          "heatmapgl": [
           {
            "colorbar": {
             "outlinewidth": 0,
             "ticks": ""
            },
            "colorscale": [
             [
              0,
              "#0d0887"
             ],
             [
              0.1111111111111111,
              "#46039f"
             ],
             [
              0.2222222222222222,
              "#7201a8"
             ],
             [
              0.3333333333333333,
              "#9c179e"
             ],
             [
              0.4444444444444444,
              "#bd3786"
             ],
             [
              0.5555555555555556,
              "#d8576b"
             ],
             [
              0.6666666666666666,
              "#ed7953"
             ],
             [
              0.7777777777777778,
              "#fb9f3a"
             ],
             [
              0.8888888888888888,
              "#fdca26"
             ],
             [
              1,
              "#f0f921"
             ]
            ],
            "type": "heatmapgl"
           }
          ],
          "histogram": [
           {
            "marker": {
             "colorbar": {
              "outlinewidth": 0,
              "ticks": ""
             }
            },
            "type": "histogram"
           }
          ],
          "histogram2d": [
           {
            "colorbar": {
             "outlinewidth": 0,
             "ticks": ""
            },
            "colorscale": [
             [
              0,
              "#0d0887"
             ],
             [
              0.1111111111111111,
              "#46039f"
             ],
             [
              0.2222222222222222,
              "#7201a8"
             ],
             [
              0.3333333333333333,
              "#9c179e"
             ],
             [
              0.4444444444444444,
              "#bd3786"
             ],
             [
              0.5555555555555556,
              "#d8576b"
             ],
             [
              0.6666666666666666,
              "#ed7953"
             ],
             [
              0.7777777777777778,
              "#fb9f3a"
             ],
             [
              0.8888888888888888,
              "#fdca26"
             ],
             [
              1,
              "#f0f921"
             ]
            ],
            "type": "histogram2d"
           }
          ],
          "histogram2dcontour": [
           {
            "colorbar": {
             "outlinewidth": 0,
             "ticks": ""
            },
            "colorscale": [
             [
              0,
              "#0d0887"
             ],
             [
              0.1111111111111111,
              "#46039f"
             ],
             [
              0.2222222222222222,
              "#7201a8"
             ],
             [
              0.3333333333333333,
              "#9c179e"
             ],
             [
              0.4444444444444444,
              "#bd3786"
             ],
             [
              0.5555555555555556,
              "#d8576b"
             ],
             [
              0.6666666666666666,
              "#ed7953"
             ],
             [
              0.7777777777777778,
              "#fb9f3a"
             ],
             [
              0.8888888888888888,
              "#fdca26"
             ],
             [
              1,
              "#f0f921"
             ]
            ],
            "type": "histogram2dcontour"
           }
          ],
          "mesh3d": [
           {
            "colorbar": {
             "outlinewidth": 0,
             "ticks": ""
            },
            "type": "mesh3d"
           }
          ],
          "parcoords": [
           {
            "line": {
             "colorbar": {
              "outlinewidth": 0,
              "ticks": ""
             }
            },
            "type": "parcoords"
           }
          ],
          "pie": [
           {
            "automargin": true,
            "type": "pie"
           }
          ],
          "scatter": [
           {
            "marker": {
             "colorbar": {
              "outlinewidth": 0,
              "ticks": ""
             }
            },
            "type": "scatter"
           }
          ],
          "scatter3d": [
           {
            "line": {
             "colorbar": {
              "outlinewidth": 0,
              "ticks": ""
             }
            },
            "marker": {
             "colorbar": {
              "outlinewidth": 0,
              "ticks": ""
             }
            },
            "type": "scatter3d"
           }
          ],
          "scattercarpet": [
           {
            "marker": {
             "colorbar": {
              "outlinewidth": 0,
              "ticks": ""
             }
            },
            "type": "scattercarpet"
           }
          ],
          "scattergeo": [
           {
            "marker": {
             "colorbar": {
              "outlinewidth": 0,
              "ticks": ""
             }
            },
            "type": "scattergeo"
           }
          ],
          "scattergl": [
           {
            "marker": {
             "colorbar": {
              "outlinewidth": 0,
              "ticks": ""
             }
            },
            "type": "scattergl"
           }
          ],
          "scattermapbox": [
           {
            "marker": {
             "colorbar": {
              "outlinewidth": 0,
              "ticks": ""
             }
            },
            "type": "scattermapbox"
           }
          ],
          "scatterpolar": [
           {
            "marker": {
             "colorbar": {
              "outlinewidth": 0,
              "ticks": ""
             }
            },
            "type": "scatterpolar"
           }
          ],
          "scatterpolargl": [
           {
            "marker": {
             "colorbar": {
              "outlinewidth": 0,
              "ticks": ""
             }
            },
            "type": "scatterpolargl"
           }
          ],
          "scatterternary": [
           {
            "marker": {
             "colorbar": {
              "outlinewidth": 0,
              "ticks": ""
             }
            },
            "type": "scatterternary"
           }
          ],
          "surface": [
           {
            "colorbar": {
             "outlinewidth": 0,
             "ticks": ""
            },
            "colorscale": [
             [
              0,
              "#0d0887"
             ],
             [
              0.1111111111111111,
              "#46039f"
             ],
             [
              0.2222222222222222,
              "#7201a8"
             ],
             [
              0.3333333333333333,
              "#9c179e"
             ],
             [
              0.4444444444444444,
              "#bd3786"
             ],
             [
              0.5555555555555556,
              "#d8576b"
             ],
             [
              0.6666666666666666,
              "#ed7953"
             ],
             [
              0.7777777777777778,
              "#fb9f3a"
             ],
             [
              0.8888888888888888,
              "#fdca26"
             ],
             [
              1,
              "#f0f921"
             ]
            ],
            "type": "surface"
           }
          ],
          "table": [
           {
            "cells": {
             "fill": {
              "color": "#EBF0F8"
             },
             "line": {
              "color": "white"
             }
            },
            "header": {
             "fill": {
              "color": "#C8D4E3"
             },
             "line": {
              "color": "white"
             }
            },
            "type": "table"
           }
          ]
         },
         "layout": {
          "annotationdefaults": {
           "arrowcolor": "#2a3f5f",
           "arrowhead": 0,
           "arrowwidth": 1
          },
          "coloraxis": {
           "colorbar": {
            "outlinewidth": 0,
            "ticks": ""
           }
          },
          "colorscale": {
           "diverging": [
            [
             0,
             "#8e0152"
            ],
            [
             0.1,
             "#c51b7d"
            ],
            [
             0.2,
             "#de77ae"
            ],
            [
             0.3,
             "#f1b6da"
            ],
            [
             0.4,
             "#fde0ef"
            ],
            [
             0.5,
             "#f7f7f7"
            ],
            [
             0.6,
             "#e6f5d0"
            ],
            [
             0.7,
             "#b8e186"
            ],
            [
             0.8,
             "#7fbc41"
            ],
            [
             0.9,
             "#4d9221"
            ],
            [
             1,
             "#276419"
            ]
           ],
           "sequential": [
            [
             0,
             "#0d0887"
            ],
            [
             0.1111111111111111,
             "#46039f"
            ],
            [
             0.2222222222222222,
             "#7201a8"
            ],
            [
             0.3333333333333333,
             "#9c179e"
            ],
            [
             0.4444444444444444,
             "#bd3786"
            ],
            [
             0.5555555555555556,
             "#d8576b"
            ],
            [
             0.6666666666666666,
             "#ed7953"
            ],
            [
             0.7777777777777778,
             "#fb9f3a"
            ],
            [
             0.8888888888888888,
             "#fdca26"
            ],
            [
             1,
             "#f0f921"
            ]
           ],
           "sequentialminus": [
            [
             0,
             "#0d0887"
            ],
            [
             0.1111111111111111,
             "#46039f"
            ],
            [
             0.2222222222222222,
             "#7201a8"
            ],
            [
             0.3333333333333333,
             "#9c179e"
            ],
            [
             0.4444444444444444,
             "#bd3786"
            ],
            [
             0.5555555555555556,
             "#d8576b"
            ],
            [
             0.6666666666666666,
             "#ed7953"
            ],
            [
             0.7777777777777778,
             "#fb9f3a"
            ],
            [
             0.8888888888888888,
             "#fdca26"
            ],
            [
             1,
             "#f0f921"
            ]
           ]
          },
          "colorway": [
           "#636efa",
           "#EF553B",
           "#00cc96",
           "#ab63fa",
           "#FFA15A",
           "#19d3f3",
           "#FF6692",
           "#B6E880",
           "#FF97FF",
           "#FECB52"
          ],
          "font": {
           "color": "#2a3f5f"
          },
          "geo": {
           "bgcolor": "white",
           "lakecolor": "white",
           "landcolor": "white",
           "showlakes": true,
           "showland": true,
           "subunitcolor": "#C8D4E3"
          },
          "hoverlabel": {
           "align": "left"
          },
          "hovermode": "closest",
          "mapbox": {
           "style": "light"
          },
          "paper_bgcolor": "white",
          "plot_bgcolor": "white",
          "polar": {
           "angularaxis": {
            "gridcolor": "#EBF0F8",
            "linecolor": "#EBF0F8",
            "ticks": ""
           },
           "bgcolor": "white",
           "radialaxis": {
            "gridcolor": "#EBF0F8",
            "linecolor": "#EBF0F8",
            "ticks": ""
           }
          },
          "scene": {
           "xaxis": {
            "backgroundcolor": "white",
            "gridcolor": "#DFE8F3",
            "gridwidth": 2,
            "linecolor": "#EBF0F8",
            "showbackground": true,
            "ticks": "",
            "zerolinecolor": "#EBF0F8"
           },
           "yaxis": {
            "backgroundcolor": "white",
            "gridcolor": "#DFE8F3",
            "gridwidth": 2,
            "linecolor": "#EBF0F8",
            "showbackground": true,
            "ticks": "",
            "zerolinecolor": "#EBF0F8"
           },
           "zaxis": {
            "backgroundcolor": "white",
            "gridcolor": "#DFE8F3",
            "gridwidth": 2,
            "linecolor": "#EBF0F8",
            "showbackground": true,
            "ticks": "",
            "zerolinecolor": "#EBF0F8"
           }
          },
          "shapedefaults": {
           "line": {
            "color": "#2a3f5f"
           }
          },
          "ternary": {
           "aaxis": {
            "gridcolor": "#DFE8F3",
            "linecolor": "#A2B1C6",
            "ticks": ""
           },
           "baxis": {
            "gridcolor": "#DFE8F3",
            "linecolor": "#A2B1C6",
            "ticks": ""
           },
           "bgcolor": "white",
           "caxis": {
            "gridcolor": "#DFE8F3",
            "linecolor": "#A2B1C6",
            "ticks": ""
           }
          },
          "title": {
           "x": 0.05
          },
          "xaxis": {
           "automargin": true,
           "gridcolor": "#EBF0F8",
           "linecolor": "#EBF0F8",
           "ticks": "",
           "title": {
            "standoff": 15
           },
           "zerolinecolor": "#EBF0F8",
           "zerolinewidth": 2
          },
          "yaxis": {
           "automargin": true,
           "gridcolor": "#EBF0F8",
           "linecolor": "#EBF0F8",
           "ticks": "",
           "title": {
            "standoff": 15
           },
           "zerolinecolor": "#EBF0F8",
           "zerolinewidth": 2
          }
         }
        },
        "title": {
         "text": "Veh1 - Vehicle Frame Velocity | Acceleration"
        },
        "width": 900,
        "xaxis": {
         "anchor": "y",
         "domain": [
          0,
          1
         ],
         "linecolor": "black",
         "linewidth": 1,
         "matches": "x2",
         "showgrid": false,
         "showline": true,
         "showticklabels": false,
         "tickcolor": "black",
         "ticklen": 10,
         "ticks": "outside",
         "tickwidth": 1,
         "title": {
          "text": ""
         },
         "zeroline": false
        },
        "xaxis2": {
         "anchor": "y2",
         "domain": [
          0,
          1
         ],
         "linecolor": "black",
         "linewidth": 1,
         "showgrid": false,
         "showline": true,
         "tickcolor": "black",
         "ticklen": 10,
         "ticks": "outside",
         "tickwidth": 1,
         "title": {
          "text": "Time (s)"
         },
         "zeroline": false
        },
        "yaxis": {
         "anchor": "x",
         "domain": [
          0.525,
          1
         ],
         "linecolor": "black",
         "linewidth": 1,
         "showgrid": false,
         "showline": true,
         "tickcolor": "black",
         "ticklen": 10,
         "ticks": "outside",
         "tickwidth": 1,
         "title": {
          "text": "Velocity (mph)"
         },
         "zeroline": false
        },
        "yaxis2": {
         "anchor": "x2",
         "domain": [
          0,
          0.475
         ],
         "linecolor": "black",
         "linewidth": 1,
         "showgrid": false,
         "showline": true,
         "tickcolor": "black",
         "ticklen": 10,
         "ticks": "outside",
         "tickwidth": 1,
         "title": {
          "text": "Acceleration (g)"
         },
         "zeroline": false
        }
       }
      },
      "text/html": [
       "<div>\n",
       "        \n",
       "        \n",
       "            <div id=\"8298cd64-d92a-4fef-8157-5540bbb7e904\" class=\"plotly-graph-div\" style=\"height:500px; width:900px;\"></div>\n",
       "            <script type=\"text/javascript\">\n",
       "                require([\"plotly\"], function(Plotly) {\n",
       "                    window.PLOTLYENV=window.PLOTLYENV || {};\n",
       "                    \n",
       "                if (document.getElementById(\"8298cd64-d92a-4fef-8157-5540bbb7e904\")) {\n",
       "                    Plotly.newPlot(\n",
       "                        '8298cd64-d92a-4fef-8157-5540bbb7e904',\n",
       "                        [{\"line\": {\"color\": \"rgb(0, 255, 0)\", \"width\": 2}, \"mode\": \"lines\", \"name\": \"x\", \"type\": \"scatter\", \"x\": [0.0, 0.1, 0.2, 0.3, 0.4, 0.5, 0.6, 0.7, 0.8, 0.9, 1.0, 1.1, 1.2, 1.3, 1.4, 1.5, 1.6, 1.7, 1.8, 1.9, 2.0, 2.1, 2.2, 2.3, 2.4, 2.5, 2.6, 2.7, 2.8, 2.9, 3.0, 3.1, 3.2, 3.3, 3.4, 3.5, 3.6, 3.7, 3.8, 3.9, 4.0, 4.1, 4.2, 4.3, 4.4, 4.5, 4.6, 4.7, 4.8, 4.9, 5.0, 5.1, 5.2, 5.3, 5.4, 5.5, 5.6, 5.7, 5.8, 5.9, 6.0, 6.1, 6.2, 6.3, 6.4, 6.5, 6.6, 6.7, 6.8, 6.9, 7.0, 7.1, 7.2, 7.3, 7.4, 7.5, 7.6, 7.7, 7.8, 7.9, 8.0, 8.1, 8.2, 8.3, 8.4, 8.5, 8.6, 8.7, 8.8, 8.9, 9.0, 9.1, 9.2, 9.3, 9.4, 9.5, 9.6, 9.7, 9.8, 9.9, 10.0, 10.1, 10.2, 10.3, 10.4, 10.5, 10.6, 10.7, 10.8, 10.9], \"xaxis\": \"x\", \"y\": [15.0, 15.0, 15.0, 15.0, 15.0, 15.0, 15.0, 15.0, 15.0, 15.0, 15.0, 14.99612783611973, 14.97765964359559, 14.938955385846048, 14.885538213625, 14.820707776321932, 14.737189027920719, 14.622645272980643, 14.468222729570964, 14.270880359713146, 14.036527490217964, 13.816570426725924, 13.65257141286596, 13.513754003636873, 13.36075622431145, 13.187413103685325, 13.010375103973889, 12.845192338639782, 12.695691031835114, 12.557484300180194, 12.425344166554657, 12.29699958851623, 12.172660662429996, 12.053077126166476, 11.93839146853488, 11.828152382838686, 11.7217889097092, 11.618915407893487, 11.519334251170617, 11.422909956662789, 11.329484962592458, 11.238875969487184, 11.150904888179205, 11.065418412344513, 10.982286094503477, 10.901389883366692, 10.822617567746045, 10.745862393688432, 10.67102492418087, 10.598013711168093, 10.526744346745337, 10.457138106519908, 10.38912110830614, 10.32262400971425, 10.257581845563164, 10.193933747538264, 10.13162256366722, 10.070594499486425, 10.010798842695404, 9.952187750215295, 9.894716054395412, 9.838341069965125, 9.783022408663673, 9.728721812416463, 9.675403006761245, 9.623031569128662, 9.571574806809688, 9.52100164305257, 9.471282511885079, 9.42238926192504, 9.37429506831084, 9.326974351455933, 9.28040270169575, 9.23455680938058, 9.189414400132069, 9.144954174889056, 9.10115575427669, 9.057999626863015, 9.015467100965191, 8.973540259740696, 8.932201919319999, 8.89143558973676, 8.851225438422741, 8.811556256060943, 8.772413424618124, 8.733782887396384, 8.695651120954203, 8.658005108757118, 8.620832316429864, 8.584120668494286, 8.547858526488115, 8.51203466836797, 8.476638269107106, 8.441658882405324, 8.40708642343531, 8.372911152555822, 8.33912365992773, 8.305714850973505, 8.27267593262533, 8.23999840031097, 8.207674025630574, 8.17569484468089, 8.144053146986627, 8.112741465001506, 8.081752564144203, 8.051079433336904, 8.020715276016404, 7.990653501589791, 7.960887717308639, 7.9314117205373975], \"yaxis\": \"y\"}, {\"line\": {\"color\": \"rgb(0, 0, 255)\", \"width\": 2}, \"mode\": \"lines\", \"name\": \"y\", \"type\": \"scatter\", \"x\": [0.0, 0.1, 0.2, 0.3, 0.4, 0.5, 0.6, 0.7, 0.8, 0.9, 1.0, 1.1, 1.2, 1.3, 1.4, 1.5, 1.6, 1.7, 1.8, 1.9, 2.0, 2.1, 2.2, 2.3, 2.4, 2.5, 2.6, 2.7, 2.8, 2.9, 3.0, 3.1, 3.2, 3.3, 3.4, 3.5, 3.6, 3.7, 3.8, 3.9, 4.0, 4.1, 4.2, 4.3, 4.4, 4.5, 4.6, 4.7, 4.8, 4.9, 5.0, 5.1, 5.2, 5.3, 5.4, 5.5, 5.6, 5.7, 5.8, 5.9, 6.0, 6.1, 6.2, 6.3, 6.4, 6.5, 6.6, 6.7, 6.8, 6.9, 7.0, 7.1, 7.2, 7.3, 7.4, 7.5, 7.6, 7.7, 7.8, 7.9, 8.0, 8.1, 8.2, 8.3, 8.4, 8.5, 8.6, 8.7, 8.8, 8.9, 9.0, 9.1, 9.2, 9.3, 9.4, 9.5, 9.6, 9.7, 9.8, 9.9, 10.0, 10.1, 10.2, 10.3, 10.4, 10.5, 10.6, 10.7, 10.8, 10.9], \"xaxis\": \"x\", \"y\": [0.0, 0.0, 0.0, 0.0, 0.0, 0.0, 0.0, 0.0, 0.0, 0.0, 0.0, -0.10882899713957157, -0.3932336237296418, -0.7199782434004491, -0.9629095033838602, -1.108479015558836, -1.2115032930911895, -1.3223401083818742, -1.4580148049639354, -1.6125514416480644, -1.7616372573028476, -1.8282732154608374, -1.7728414319888597, -1.6791579065235243, -1.640318593387006, -1.6697149498469994, -1.7263212164041595, -1.77116880768335, -1.7934524471133555, -1.802506302353933, -1.8099427839044921, -1.8203022928983812, -1.8321378361123208, -1.8427610793473028, -1.8510804925377413, -1.8575691414807118, -1.8630693416756654, -1.8680118295304835, -1.8723981177272446, -1.8761143940337408, -1.8791431191569268, -1.8815689039747545, -1.8834946399171406, -1.8849868877979015, -1.886077733734408, -1.8867896976019434, -1.8871508588482775, -1.8871939066775463, -1.8869493868260163, -1.8864422944949149, -1.885693211233795, -1.884720716341577, -1.8835425402977712, -1.8821753640461683, -1.8806343378771013, -1.878933018708502, -1.8770836683614727, -1.875097564363181, -1.8729851416453231, -1.8707560170612674, -1.8684190126366353, -1.8659822239937913, -1.863453108874008, -1.8608385601022268, -1.8581449543791455, -1.8553781892665633, -1.8525437203322546, -1.849646600135307, -1.8466915147619967, -1.8436828149696, -1.8406245426235663, -1.8375204545586281, -1.8343740450406594, -1.831188566704345, -1.8279670495184597, -1.8247123177615374, -1.8214270053838217, -1.818113570127625, -1.814774306561715, -1.8114113580462174, -1.8080267276609554, -1.8046222882000784, -1.8011997913584403, -1.7977608762033936, -1.7943070769876435, -1.7908398303464748, -1.787360481929544, -1.7838702925225178, -1.7803704437082588, -1.7768620431069244, -1.7733461292274733, -1.7698236759612596, -1.7662955967479426, -1.7627627484418618, -1.7592259349035029, -1.7556859103375329, -1.7521433823969546, -1.7485990150717399, -1.7450534313789878, -1.7415072158700409, -1.737960916968435, -1.7344150491513004, -1.7308700949858968, -1.7273265070320771, -1.7237847096205854, -1.7202451005162132, -1.7167080524740814, -1.7131739146966756, -1.7096430141986898, -1.7061156570861704], \"yaxis\": \"y\"}, {\"line\": {\"color\": \"rgb(0, 255, 0)\", \"width\": 2}, \"mode\": \"lines\", \"name\": \"Ax\", \"showlegend\": false, \"type\": \"scatter\", \"x\": [0.0, 0.1, 0.2, 0.3, 0.4, 0.5, 0.6, 0.7, 0.8, 0.9, 1.0, 1.1, 1.2, 1.3, 1.4, 1.5, 1.6, 1.7, 1.8, 1.9, 2.0, 2.1, 2.2, 2.3, 2.4, 2.5, 2.6, 2.7, 2.8, 2.9, 3.0, 3.1, 3.2, 3.3, 3.4, 3.5, 3.6, 3.7, 3.8, 3.9, 4.0, 4.1, 4.2, 4.3, 4.4, 4.5, 4.6, 4.7, 4.8, 4.9, 5.0, 5.1, 5.2, 5.3, 5.4, 5.5, 5.6, 5.7, 5.8, 5.9, 6.0, 6.1, 6.2, 6.3, 6.4, 6.5, 6.6, 6.7, 6.8, 6.9, 7.0, 7.1, 7.2, 7.3, 7.4, 7.5, 7.6, 7.7, 7.8, 7.9, 8.0, 8.1, 8.2, 8.3, 8.4, 8.5, 8.6, 8.7, 8.8, 8.9, 9.0, 9.1, 9.2, 9.3, 9.4, 9.5, 9.6, 9.7, 9.8, 9.9, 10.0, 10.1, 10.2, 10.3, 10.4, 10.5, 10.6, 10.7, 10.8, 10.9], \"xaxis\": \"x2\", \"y\": [0.0, 0.0, 0.0, 0.0, 0.0, 0.0, 0.0, 0.0, 0.0, 0.0, 0.0, -0.003527445092095549, -0.013296619460314957, -0.021961997753051438, -0.02669971900560992, -0.032359198683391474, -0.04372430611015378, -0.060622208832679346, -0.08005289162860849, -0.09972110439584239, -0.11376853728272976, -0.08660688278675355, -0.06279214433001118, -0.06366706659795697, -0.07571010918044005, -0.08220116704857557, -0.07907605222892167, -0.07140134307081454, -0.06479063311005556, -0.061112265719958474, -0.05926411302821929, -0.05765460887961908, -0.05561506361907476, -0.05332256689745616, -0.051153217871819805, -0.04927185033814032, -0.04762263111206095, -0.04609257317865462, -0.044623386529874055, -0.04321675013211093, -0.0418910983480959, -0.04065144321570099, -0.03948802623894037, -0.0383880293588647, -0.037343446795118064, -0.03635099170673864, -0.0354086307475062, -0.034513425858132094, -0.03366164954724531, -0.032849751564213235, -0.03207486875747816, -0.0313346867403061, -0.03062710876912555, -0.029950095946258186, -0.029301699640991278, -0.02868013634048783, -0.028083804062085802, -0.027511246181419802, -0.026961111548821685, -0.0264321375243469, -0.025923149499348014, -0.025433060695912193, -0.024960865373032725, -0.024505628725037622, -0.024066478536042397, -0.023642599993512137, -0.023233232050196253, -0.022837663656419288, -0.022455229579248007, -0.02208530639521682, -0.021727309100521393, -0.021380688284315656, -0.021044927587588375, -0.02071954128315147, -0.020404071991701835, -0.020098088602813292, -0.019801184415534707, -0.019512975456399493, -0.019233098927801232, -0.01896121176706099, -0.018696989316681085, -0.018440124105586056, -0.018190324731514513, -0.01794731483033648, -0.017710832121362954, -0.01748062752274341, -0.01725646433300499, -0.01703811747388669, -0.016825372788606907, -0.016618026390073013, -0.016415884054765358, -0.01621876065894448, -0.016026479654058533, -0.01583887257817837, -0.015655778600425954, -0.015477044095733724, -0.015302522247649017, -0.015132072677127784, -0.014965561095368903, -0.014802858978855344, -0.014643843264931334, -0.014488396066418862, -0.014336404403918705, -0.01418775995453977, -0.014042358815883412, -0.013900101284205104, -0.01376089164576863, -0.013624637980491364, -0.013491251977047014, -0.013360648758653159], \"yaxis\": \"y2\"}, {\"line\": {\"color\": \"rgb(0, 0, 255)\", \"width\": 2}, \"mode\": \"lines\", \"name\": \"Ay\", \"showlegend\": false, \"type\": \"scatter\", \"x\": [0.0, 0.1, 0.2, 0.3, 0.4, 0.5, 0.6, 0.7, 0.8, 0.9, 1.0, 1.1, 1.2, 1.3, 1.4, 1.5, 1.6, 1.7, 1.8, 1.9, 2.0, 2.1, 2.2, 2.3, 2.4, 2.5, 2.6, 2.7, 2.8, 2.9, 3.0, 3.1, 3.2, 3.3, 3.4, 3.5, 3.6, 3.7, 3.8, 3.9, 4.0, 4.1, 4.2, 4.3, 4.4, 4.5, 4.6, 4.7, 4.8, 4.9, 5.0, 5.1, 5.2, 5.3, 5.4, 5.5, 5.6, 5.7, 5.8, 5.9, 6.0, 6.1, 6.2, 6.3, 6.4, 6.5, 6.6, 6.7, 6.8, 6.9, 7.0, 7.1, 7.2, 7.3, 7.4, 7.5, 7.6, 7.7, 7.8, 7.9, 8.0, 8.1, 8.2, 8.3, 8.4, 8.5, 8.6, 8.7, 8.8, 8.9, 9.0, 9.1, 9.2, 9.3, 9.4, 9.5, 9.6, 9.7, 9.8, 9.9, 10.0, 10.1, 10.2, 10.3, 10.4, 10.5, 10.6, 10.7, 10.8, 10.9], \"xaxis\": \"x2\", \"y\": [0.0, 0.0, 0.0, 0.0, 0.0, 0.0, 0.0, 0.0, 0.0, 0.0, 0.0, -0.0991405125681338, -0.15994503630196447, -0.13771119433939133, -0.0835931479462418, -0.04901706101131829, -0.044835496211276034, -0.056134088808841125, -0.0674621889775015, -0.0733168476221949, -0.062496626443892714, 0.0017929241137194924, 0.04870405344208527, 0.03663931071583009, -0.001257661400340984, -0.025521688990453272, -0.026045213476248746, -0.014809827953223498, -0.005490013936718131, -0.0027578232469449362, -0.004016626688308885, -0.005420628626018593, -0.005361257191117361, -0.004316253464442173, -0.0032625252585518887, -0.0026484727198247903, -0.0023620730068412803, -0.0021404106341686687, -0.0018553889369762962, -0.0015300464483956413, -0.0012290468909975682, -0.0009807828100976588, -0.0007735147890449318, -0.000585885955846808, -0.00040784759054810437, -0.0002407338042333385, -8.827511822707475e-05, 4.9059615274530786e-05, 0.00017369189444204283, 0.00028825662062421887, 0.0003941396194919236, 0.0004917790659547912, 0.0005815100384978632, 0.0006639535596005712, 0.0007398829940551347, 0.0008099764997394544, 0.0008747357198117369, 0.000934555678433052, 0.0009898089349835715, 0.0010408681791138092, 0.0010880847895042307, 0.001131769122794161, 0.0011721919161700315, 0.0012095970571890586, 0.001244210834656631, 0.001276243443399869, 0.0013058873341668916, 0.0013333171871108837, 0.0013586921697045884, 0.0013821585908632434, 0.0014038515344519367, 0.0014238955725062814, 0.0014424053266982105, 0.001459486295365243, 0.00147523582328216, 0.0014897439443733488, 0.0015030940090579091, 0.0015153631879645686, 0.0015266229575094453, 0.0015369395885929695, 0.0015463746021849916, 0.001554985164326826, 0.001562824427428234, 0.0015699418399334783, 0.001576383436938818, 0.0015821921103921352, 0.0015874078539926584, 0.0015920679830278936, 0.001596207333996468, 0.0015998584485870076, 0.0016030517436952639, 0.0016058156674586095, 0.0016081768417311373, 0.0016101601924797004, 0.0016117890698214182, 0.0016130853588566202, 0.001614069581893797, 0.0016147609925610672, 0.001615177662500309, 0.0016153365614170801, 0.00161525363114099, 0.0016149438541735446, 0.001614421317113684, 0.0016136992693640052, 0.001612790177538281, 0.001611705775945798, 0.0016104571134663247, 0.0016090545970849212, 0.0016075080323440243, 0.001605826660959543], \"yaxis\": \"y2\"}],\n",
       "                        {\"autosize\": false, \"font\": {\"color\": \"black\", \"family\": \"Arial\", \"size\": 14}, \"height\": 500, \"legend\": {\"orientation\": \"h\", \"x\": 0.01, \"xanchor\": \"left\", \"y\": 1.1, \"yanchor\": \"top\"}, \"template\": {\"data\": {\"bar\": [{\"error_x\": {\"color\": \"#2a3f5f\"}, \"error_y\": {\"color\": \"#2a3f5f\"}, \"marker\": {\"line\": {\"color\": \"white\", \"width\": 0.5}}, \"type\": \"bar\"}], \"barpolar\": [{\"marker\": {\"line\": {\"color\": \"white\", \"width\": 0.5}}, \"type\": \"barpolar\"}], \"carpet\": [{\"aaxis\": {\"endlinecolor\": \"#2a3f5f\", \"gridcolor\": \"#C8D4E3\", \"linecolor\": \"#C8D4E3\", \"minorgridcolor\": \"#C8D4E3\", \"startlinecolor\": \"#2a3f5f\"}, \"baxis\": {\"endlinecolor\": \"#2a3f5f\", \"gridcolor\": \"#C8D4E3\", \"linecolor\": \"#C8D4E3\", \"minorgridcolor\": \"#C8D4E3\", \"startlinecolor\": \"#2a3f5f\"}, \"type\": \"carpet\"}], \"choropleth\": [{\"colorbar\": {\"outlinewidth\": 0, \"ticks\": \"\"}, \"type\": \"choropleth\"}], \"contour\": [{\"colorbar\": {\"outlinewidth\": 0, \"ticks\": \"\"}, \"colorscale\": [[0.0, \"#0d0887\"], [0.1111111111111111, \"#46039f\"], [0.2222222222222222, \"#7201a8\"], [0.3333333333333333, \"#9c179e\"], [0.4444444444444444, \"#bd3786\"], [0.5555555555555556, \"#d8576b\"], [0.6666666666666666, \"#ed7953\"], [0.7777777777777778, \"#fb9f3a\"], [0.8888888888888888, \"#fdca26\"], [1.0, \"#f0f921\"]], \"type\": \"contour\"}], \"contourcarpet\": [{\"colorbar\": {\"outlinewidth\": 0, \"ticks\": \"\"}, \"type\": \"contourcarpet\"}], \"heatmap\": [{\"colorbar\": {\"outlinewidth\": 0, \"ticks\": \"\"}, \"colorscale\": [[0.0, \"#0d0887\"], [0.1111111111111111, \"#46039f\"], [0.2222222222222222, \"#7201a8\"], [0.3333333333333333, \"#9c179e\"], [0.4444444444444444, \"#bd3786\"], [0.5555555555555556, \"#d8576b\"], [0.6666666666666666, \"#ed7953\"], [0.7777777777777778, \"#fb9f3a\"], [0.8888888888888888, \"#fdca26\"], [1.0, \"#f0f921\"]], \"type\": \"heatmap\"}], \"heatmapgl\": [{\"colorbar\": {\"outlinewidth\": 0, \"ticks\": \"\"}, \"colorscale\": [[0.0, \"#0d0887\"], [0.1111111111111111, \"#46039f\"], [0.2222222222222222, \"#7201a8\"], [0.3333333333333333, \"#9c179e\"], [0.4444444444444444, \"#bd3786\"], [0.5555555555555556, \"#d8576b\"], [0.6666666666666666, \"#ed7953\"], [0.7777777777777778, \"#fb9f3a\"], [0.8888888888888888, \"#fdca26\"], [1.0, \"#f0f921\"]], \"type\": \"heatmapgl\"}], \"histogram\": [{\"marker\": {\"colorbar\": {\"outlinewidth\": 0, \"ticks\": \"\"}}, \"type\": \"histogram\"}], \"histogram2d\": [{\"colorbar\": {\"outlinewidth\": 0, \"ticks\": \"\"}, \"colorscale\": [[0.0, \"#0d0887\"], [0.1111111111111111, \"#46039f\"], [0.2222222222222222, \"#7201a8\"], [0.3333333333333333, \"#9c179e\"], [0.4444444444444444, \"#bd3786\"], [0.5555555555555556, \"#d8576b\"], [0.6666666666666666, \"#ed7953\"], [0.7777777777777778, \"#fb9f3a\"], [0.8888888888888888, \"#fdca26\"], [1.0, \"#f0f921\"]], \"type\": \"histogram2d\"}], \"histogram2dcontour\": [{\"colorbar\": {\"outlinewidth\": 0, \"ticks\": \"\"}, \"colorscale\": [[0.0, \"#0d0887\"], [0.1111111111111111, \"#46039f\"], [0.2222222222222222, \"#7201a8\"], [0.3333333333333333, \"#9c179e\"], [0.4444444444444444, \"#bd3786\"], [0.5555555555555556, \"#d8576b\"], [0.6666666666666666, \"#ed7953\"], [0.7777777777777778, \"#fb9f3a\"], [0.8888888888888888, \"#fdca26\"], [1.0, \"#f0f921\"]], \"type\": \"histogram2dcontour\"}], \"mesh3d\": [{\"colorbar\": {\"outlinewidth\": 0, \"ticks\": \"\"}, \"type\": \"mesh3d\"}], \"parcoords\": [{\"line\": {\"colorbar\": {\"outlinewidth\": 0, \"ticks\": \"\"}}, \"type\": \"parcoords\"}], \"pie\": [{\"automargin\": true, \"type\": \"pie\"}], \"scatter\": [{\"marker\": {\"colorbar\": {\"outlinewidth\": 0, \"ticks\": \"\"}}, \"type\": \"scatter\"}], \"scatter3d\": [{\"line\": {\"colorbar\": {\"outlinewidth\": 0, \"ticks\": \"\"}}, \"marker\": {\"colorbar\": {\"outlinewidth\": 0, \"ticks\": \"\"}}, \"type\": \"scatter3d\"}], \"scattercarpet\": [{\"marker\": {\"colorbar\": {\"outlinewidth\": 0, \"ticks\": \"\"}}, \"type\": \"scattercarpet\"}], \"scattergeo\": [{\"marker\": {\"colorbar\": {\"outlinewidth\": 0, \"ticks\": \"\"}}, \"type\": \"scattergeo\"}], \"scattergl\": [{\"marker\": {\"colorbar\": {\"outlinewidth\": 0, \"ticks\": \"\"}}, \"type\": \"scattergl\"}], \"scattermapbox\": [{\"marker\": {\"colorbar\": {\"outlinewidth\": 0, \"ticks\": \"\"}}, \"type\": \"scattermapbox\"}], \"scatterpolar\": [{\"marker\": {\"colorbar\": {\"outlinewidth\": 0, \"ticks\": \"\"}}, \"type\": \"scatterpolar\"}], \"scatterpolargl\": [{\"marker\": {\"colorbar\": {\"outlinewidth\": 0, \"ticks\": \"\"}}, \"type\": \"scatterpolargl\"}], \"scatterternary\": [{\"marker\": {\"colorbar\": {\"outlinewidth\": 0, \"ticks\": \"\"}}, \"type\": \"scatterternary\"}], \"surface\": [{\"colorbar\": {\"outlinewidth\": 0, \"ticks\": \"\"}, \"colorscale\": [[0.0, \"#0d0887\"], [0.1111111111111111, \"#46039f\"], [0.2222222222222222, \"#7201a8\"], [0.3333333333333333, \"#9c179e\"], [0.4444444444444444, \"#bd3786\"], [0.5555555555555556, \"#d8576b\"], [0.6666666666666666, \"#ed7953\"], [0.7777777777777778, \"#fb9f3a\"], [0.8888888888888888, \"#fdca26\"], [1.0, \"#f0f921\"]], \"type\": \"surface\"}], \"table\": [{\"cells\": {\"fill\": {\"color\": \"#EBF0F8\"}, \"line\": {\"color\": \"white\"}}, \"header\": {\"fill\": {\"color\": \"#C8D4E3\"}, \"line\": {\"color\": \"white\"}}, \"type\": \"table\"}]}, \"layout\": {\"annotationdefaults\": {\"arrowcolor\": \"#2a3f5f\", \"arrowhead\": 0, \"arrowwidth\": 1}, \"coloraxis\": {\"colorbar\": {\"outlinewidth\": 0, \"ticks\": \"\"}}, \"colorscale\": {\"diverging\": [[0, \"#8e0152\"], [0.1, \"#c51b7d\"], [0.2, \"#de77ae\"], [0.3, \"#f1b6da\"], [0.4, \"#fde0ef\"], [0.5, \"#f7f7f7\"], [0.6, \"#e6f5d0\"], [0.7, \"#b8e186\"], [0.8, \"#7fbc41\"], [0.9, \"#4d9221\"], [1, \"#276419\"]], \"sequential\": [[0.0, \"#0d0887\"], [0.1111111111111111, \"#46039f\"], [0.2222222222222222, \"#7201a8\"], [0.3333333333333333, \"#9c179e\"], [0.4444444444444444, \"#bd3786\"], [0.5555555555555556, \"#d8576b\"], [0.6666666666666666, \"#ed7953\"], [0.7777777777777778, \"#fb9f3a\"], [0.8888888888888888, \"#fdca26\"], [1.0, \"#f0f921\"]], \"sequentialminus\": [[0.0, \"#0d0887\"], [0.1111111111111111, \"#46039f\"], [0.2222222222222222, \"#7201a8\"], [0.3333333333333333, \"#9c179e\"], [0.4444444444444444, \"#bd3786\"], [0.5555555555555556, \"#d8576b\"], [0.6666666666666666, \"#ed7953\"], [0.7777777777777778, \"#fb9f3a\"], [0.8888888888888888, \"#fdca26\"], [1.0, \"#f0f921\"]]}, \"colorway\": [\"#636efa\", \"#EF553B\", \"#00cc96\", \"#ab63fa\", \"#FFA15A\", \"#19d3f3\", \"#FF6692\", \"#B6E880\", \"#FF97FF\", \"#FECB52\"], \"font\": {\"color\": \"#2a3f5f\"}, \"geo\": {\"bgcolor\": \"white\", \"lakecolor\": \"white\", \"landcolor\": \"white\", \"showlakes\": true, \"showland\": true, \"subunitcolor\": \"#C8D4E3\"}, \"hoverlabel\": {\"align\": \"left\"}, \"hovermode\": \"closest\", \"mapbox\": {\"style\": \"light\"}, \"paper_bgcolor\": \"white\", \"plot_bgcolor\": \"white\", \"polar\": {\"angularaxis\": {\"gridcolor\": \"#EBF0F8\", \"linecolor\": \"#EBF0F8\", \"ticks\": \"\"}, \"bgcolor\": \"white\", \"radialaxis\": {\"gridcolor\": \"#EBF0F8\", \"linecolor\": \"#EBF0F8\", \"ticks\": \"\"}}, \"scene\": {\"xaxis\": {\"backgroundcolor\": \"white\", \"gridcolor\": \"#DFE8F3\", \"gridwidth\": 2, \"linecolor\": \"#EBF0F8\", \"showbackground\": true, \"ticks\": \"\", \"zerolinecolor\": \"#EBF0F8\"}, \"yaxis\": {\"backgroundcolor\": \"white\", \"gridcolor\": \"#DFE8F3\", \"gridwidth\": 2, \"linecolor\": \"#EBF0F8\", \"showbackground\": true, \"ticks\": \"\", \"zerolinecolor\": \"#EBF0F8\"}, \"zaxis\": {\"backgroundcolor\": \"white\", \"gridcolor\": \"#DFE8F3\", \"gridwidth\": 2, \"linecolor\": \"#EBF0F8\", \"showbackground\": true, \"ticks\": \"\", \"zerolinecolor\": \"#EBF0F8\"}}, \"shapedefaults\": {\"line\": {\"color\": \"#2a3f5f\"}}, \"ternary\": {\"aaxis\": {\"gridcolor\": \"#DFE8F3\", \"linecolor\": \"#A2B1C6\", \"ticks\": \"\"}, \"baxis\": {\"gridcolor\": \"#DFE8F3\", \"linecolor\": \"#A2B1C6\", \"ticks\": \"\"}, \"bgcolor\": \"white\", \"caxis\": {\"gridcolor\": \"#DFE8F3\", \"linecolor\": \"#A2B1C6\", \"ticks\": \"\"}}, \"title\": {\"x\": 0.05}, \"xaxis\": {\"automargin\": true, \"gridcolor\": \"#EBF0F8\", \"linecolor\": \"#EBF0F8\", \"ticks\": \"\", \"title\": {\"standoff\": 15}, \"zerolinecolor\": \"#EBF0F8\", \"zerolinewidth\": 2}, \"yaxis\": {\"automargin\": true, \"gridcolor\": \"#EBF0F8\", \"linecolor\": \"#EBF0F8\", \"ticks\": \"\", \"title\": {\"standoff\": 15}, \"zerolinecolor\": \"#EBF0F8\", \"zerolinewidth\": 2}}}, \"title\": {\"text\": \"Veh1 - Vehicle Frame Velocity | Acceleration\"}, \"width\": 900, \"xaxis\": {\"anchor\": \"y\", \"domain\": [0.0, 1.0], \"linecolor\": \"black\", \"linewidth\": 1, \"matches\": \"x2\", \"showgrid\": false, \"showline\": true, \"showticklabels\": false, \"tickcolor\": \"black\", \"ticklen\": 10, \"ticks\": \"outside\", \"tickwidth\": 1, \"title\": {\"text\": \"\"}, \"zeroline\": false}, \"xaxis2\": {\"anchor\": \"y2\", \"domain\": [0.0, 1.0], \"linecolor\": \"black\", \"linewidth\": 1, \"showgrid\": false, \"showline\": true, \"tickcolor\": \"black\", \"ticklen\": 10, \"ticks\": \"outside\", \"tickwidth\": 1, \"title\": {\"text\": \"Time (s)\"}, \"zeroline\": false}, \"yaxis\": {\"anchor\": \"x\", \"domain\": [0.525, 1.0], \"linecolor\": \"black\", \"linewidth\": 1, \"showgrid\": false, \"showline\": true, \"tickcolor\": \"black\", \"ticklen\": 10, \"ticks\": \"outside\", \"tickwidth\": 1, \"title\": {\"text\": \"Velocity (mph)\"}, \"zeroline\": false}, \"yaxis2\": {\"anchor\": \"x2\", \"domain\": [0.0, 0.475], \"linecolor\": \"black\", \"linewidth\": 1, \"showgrid\": false, \"showline\": true, \"tickcolor\": \"black\", \"ticklen\": 10, \"ticks\": \"outside\", \"tickwidth\": 1, \"title\": {\"text\": \"Acceleration (g)\"}, \"zeroline\": false}},\n",
       "                        {\"responsive\": true}\n",
       "                    ).then(function(){\n",
       "                            \n",
       "var gd = document.getElementById('8298cd64-d92a-4fef-8157-5540bbb7e904');\n",
       "var x = new MutationObserver(function (mutations, observer) {{\n",
       "        var display = window.getComputedStyle(gd).display;\n",
       "        if (!display || display === 'none') {{\n",
       "            console.log([gd, 'removed!']);\n",
       "            Plotly.purge(gd);\n",
       "            observer.disconnect();\n",
       "        }}\n",
       "}});\n",
       "\n",
       "// Listen for the removal of the full notebook cells\n",
       "var notebookContainer = gd.closest('#notebook-container');\n",
       "if (notebookContainer) {{\n",
       "    x.observe(notebookContainer, {childList: true});\n",
       "}}\n",
       "\n",
       "// Listen for the clearing of the current output cell\n",
       "var outputEl = gd.closest('.output');\n",
       "if (outputEl) {{\n",
       "    x.observe(outputEl, {childList: true});\n",
       "}}\n",
       "\n",
       "                        })\n",
       "                };\n",
       "                });\n",
       "            </script>\n",
       "        </div>"
      ]
     },
     "metadata": {},
     "output_type": "display_data"
    },
    {
     "data": {
      "application/vnd.plotly.v1+json": {
       "config": {
        "plotlyServerURL": "https://plot.ly"
       },
       "data": [
        {
         "line": {
          "color": "rgb(0, 0, 255)",
          "width": 2
         },
         "mode": "lines",
         "name": "LF",
         "type": "scatter",
         "x": [
          0,
          0.1,
          0.2,
          0.3,
          0.4,
          0.5,
          0.6,
          0.7,
          0.8,
          0.9,
          1,
          1.1,
          1.2,
          1.3,
          1.4,
          1.5,
          1.6,
          1.7,
          1.8,
          1.9,
          2,
          2.1,
          2.2,
          2.3,
          2.4,
          2.5,
          2.6,
          2.7,
          2.8,
          2.9,
          3,
          3.1,
          3.2,
          3.3,
          3.4,
          3.5,
          3.6,
          3.7,
          3.8,
          3.9,
          4,
          4.1,
          4.2,
          4.3,
          4.4,
          4.5,
          4.6,
          4.7,
          4.8,
          4.9,
          5,
          5.1,
          5.2,
          5.3,
          5.4,
          5.5,
          5.6,
          5.7,
          5.8,
          5.9,
          6,
          6.1,
          6.2,
          6.3,
          6.4,
          6.5,
          6.6,
          6.7,
          6.8,
          6.9,
          7,
          7.1,
          7.2,
          7.3,
          7.4,
          7.5,
          7.6,
          7.7,
          7.8,
          7.9,
          8,
          8.1,
          8.2,
          8.3,
          8.4,
          8.5,
          8.6,
          8.7,
          8.8,
          8.9,
          9,
          9.1,
          9.2,
          9.3,
          9.4,
          9.5,
          9.6,
          9.7,
          9.8,
          9.9,
          10,
          10.1,
          10.2,
          10.3,
          10.4,
          10.5,
          10.6,
          10.7,
          10.8,
          10.9
         ],
         "xaxis": "x",
         "y": [
          0,
          0,
          0,
          0,
          0,
          0,
          0,
          0,
          0,
          0,
          0,
          -5.816756956865561,
          -22.12320283870527,
          -38.85184236739208,
          -53.478331432659154,
          -72.00277365417621,
          -99.33029420753576,
          -134.62943437474053,
          -173.92903891838003,
          -214.04356951672324,
          -253.84037803174718,
          -210.22957594522123,
          -175.9161459758884,
          -173.6086182109322,
          -186.58585767128238,
          -193.29891241440433,
          -187.85858032989768,
          -176.41076791448015,
          -166.19129295181725,
          -159.72972028054335,
          -155.6769790210254,
          -151.97822249301404,
          -147.745067747596,
          -143.1978251309625,
          -138.83157053300002,
          -134.86934548876553,
          -131.24082529558328,
          -127.79635223448574,
          -124.45748410196971,
          -121.22612486337985,
          -118.12721977162316,
          -115.16776186971389,
          -112.33453160295225,
          -109.60988224535379,
          -106.98258631184596,
          -104.4478415213001,
          -102.00256162700899,
          -99.64238951171887,
          -97.3618366386103,
          -95.1556238849003,
          -93.01940524989419,
          -90.94958869159778,
          -88.94287936144782,
          -86.99605693254276,
          -85.10602222199242,
          -83.26990517630043,
          -81.48509119176315,
          -79.74917242056831,
          -78.05989273532707,
          -76.41512460944999,
          -74.81286933778541,
          -73.25125767177714,
          -71.72854093107058,
          -70.2430771628751,
          -68.79331961310577,
          -67.37780961005397,
          -65.99517161048405,
          -64.6441080038439,
          -63.32339325345023,
          -62.03186821965178,
          -60.76843532119905,
          -59.53205447380504,
          -58.32173941366556,
          -57.13655417001511,
          -55.97560970997822,
          -54.83806085972573,
          -53.72310352857714,
          -52.629972178862424,
          -51.55793747542058,
          -50.50630408755926,
          -49.47440864582622,
          -48.46161785519858,
          -47.46732675204317,
          -46.49095708529953,
          -45.53195580676324,
          -44.58979366258128,
          -43.66396388093838,
          -42.753980949531275,
          -41.85937947479519,
          -40.979713115239974,
          -40.11455358296588,
          -39.26348970873863,
          -38.42612656630471,
          -37.60208465150251,
          -36.79099911187012,
          -35.992519022953324,
          -35.206306708049524,
          -34.43203709844202,
          -33.66939713131411,
          -32.91808518267899,
          -32.17781053288129,
          -31.448292862471007,
          -30.72926177645102,
          -30.02045635503188,
          -29.32162472914499,
          -28.632523679094483,
          -27.952918254862347,
          -27.282581416699212,
          -26.62129369472756,
          -25.968842866377393
         ],
         "yaxis": "y"
        },
        {
         "line": {
          "color": "rgb(0, 255, 0)",
          "width": 2
         },
         "mode": "lines",
         "name": "RF",
         "type": "scatter",
         "x": [
          0,
          0.1,
          0.2,
          0.3,
          0.4,
          0.5,
          0.6,
          0.7,
          0.8,
          0.9,
          1,
          1.1,
          1.2,
          1.3,
          1.4,
          1.5,
          1.6,
          1.7,
          1.8,
          1.9,
          2,
          2.1,
          2.2,
          2.3,
          2.4,
          2.5,
          2.6,
          2.7,
          2.8,
          2.9,
          3,
          3.1,
          3.2,
          3.3,
          3.4,
          3.5,
          3.6,
          3.7,
          3.8,
          3.9,
          4,
          4.1,
          4.2,
          4.3,
          4.4,
          4.5,
          4.6,
          4.7,
          4.8,
          4.9,
          5,
          5.1,
          5.2,
          5.3,
          5.4,
          5.5,
          5.6,
          5.7,
          5.8,
          5.9,
          6,
          6.1,
          6.2,
          6.3,
          6.4,
          6.5,
          6.6,
          6.7,
          6.8,
          6.9,
          7,
          7.1,
          7.2,
          7.3,
          7.4,
          7.5,
          7.6,
          7.7,
          7.8,
          7.9,
          8,
          8.1,
          8.2,
          8.3,
          8.4,
          8.5,
          8.6,
          8.7,
          8.8,
          8.9,
          9,
          9.1,
          9.2,
          9.3,
          9.4,
          9.5,
          9.6,
          9.7,
          9.8,
          9.9,
          10,
          10.1,
          10.2,
          10.3,
          10.4,
          10.5,
          10.6,
          10.7,
          10.8,
          10.9
         ],
         "xaxis": "x",
         "y": [
          0,
          0,
          0,
          0,
          0,
          0,
          0,
          0,
          0,
          0,
          0,
          -5.816756956865561,
          -22.145013527843584,
          -39.32005880743825,
          -55.9043800038869,
          -78.629347443522,
          -112.41281841367886,
          -156.5640206507768,
          -207.7686526221265,
          -263.6769028118994,
          -306.11240434024745,
          -297.2894121398601,
          -274.9402794526042,
          -274.99730464415137,
          -284.91058351592227,
          -289.3267584886272,
          -284.38351172181825,
          -275.01607949082177,
          -266.77680070943325,
          -261.52117889458873,
          -258.14137330302884,
          -255.0306490817712,
          -251.50795094311084,
          -247.75347633753125,
          -244.154871107824,
          -240.88384930769513,
          -237.8828505270299,
          -235.03342206886015,
          -232.2736521612343,
          -229.60476126775623,
          -227.04593681463513,
          -224.60218981080556,
          -222.262669891276,
          -220.01311993685007,
          -217.84440274881317,
          -215.7524790536687,
          -213.73467739824443,
          -211.78733472764995,
          -209.90591121992597,
          -208.08605306086977,
          -206.32416300761943,
          -204.61725412059783,
          -202.96258454565384,
          -201.35748004068827,
          -199.79937129605605,
          -198.28587962734446,
          -196.8148369617887,
          -195.3842458979569,
          -193.99223507379958,
          -192.6370404085453,
          -191.3170050975409,
          -190.03057982180715,
          -188.7763152339473,
          -187.55285050855443,
          -186.3589038511449,
          -185.19326662074326,
          -184.05479919627703,
          -182.9424266293932,
          -181.85513376315157,
          -180.7919605209334,
          -179.75199789755004,
          -178.73438459046767,
          -177.73830394376344,
          -176.76298101404115,
          -175.8076797823445,
          -174.8717005988425,
          -173.9543778798812,
          -173.05507800788993,
          -172.17319737930643,
          -171.30816057918184,
          -170.4594186851566,
          -169.6264477018786,
          -168.80874711474522,
          -168.00583854648545,
          -167.21726450422142,
          -166.44258721071736,
          -165.68138751567912,
          -164.9332638816491,
          -164.19783143771474,
          -163.47472109469527,
          -162.76357871694884,
          -162.06406434699232,
          -161.37585147932217,
          -160.69862637971033,
          -160.03208744639682,
          -159.3759446100453,
          -158.72991876975854,
          -158.09374126270566,
          -157.46715336501688,
          -156.84990582173018,
          -156.241758403764,
          -155.642479490093,
          -155.05184567346478,
          -154.4696413881112,
          -153.89565855799384,
          -153.32969626424497,
          -152.7715604305689,
          -152.22106352546874,
          -151.67802428024476,
          -151.14226742177715
         ],
         "yaxis": "y"
        },
        {
         "line": {
          "color": "rgb(153, 0, 204)",
          "width": 2
         },
         "mode": "lines",
         "name": "RR",
         "type": "scatter",
         "x": [
          0,
          0.1,
          0.2,
          0.3,
          0.4,
          0.5,
          0.6,
          0.7,
          0.8,
          0.9,
          1,
          1.1,
          1.2,
          1.3,
          1.4,
          1.5,
          1.6,
          1.7,
          1.8,
          1.9,
          2,
          2.1,
          2.2,
          2.3,
          2.4,
          2.5,
          2.6,
          2.7,
          2.8,
          2.9,
          3,
          3.1,
          3.2,
          3.3,
          3.4,
          3.5,
          3.6,
          3.7,
          3.8,
          3.9,
          4,
          4.1,
          4.2,
          4.3,
          4.4,
          4.5,
          4.6,
          4.7,
          4.8,
          4.9,
          5,
          5.1,
          5.2,
          5.3,
          5.4,
          5.5,
          5.6,
          5.7,
          5.8,
          5.9,
          6,
          6.1,
          6.2,
          6.3,
          6.4,
          6.5,
          6.6,
          6.7,
          6.8,
          6.9,
          7,
          7.1,
          7.2,
          7.3,
          7.4,
          7.5,
          7.6,
          7.7,
          7.8,
          7.9,
          8,
          8.1,
          8.2,
          8.3,
          8.4,
          8.5,
          8.6,
          8.7,
          8.8,
          8.9,
          9,
          9.1,
          9.2,
          9.3,
          9.4,
          9.5,
          9.6,
          9.7,
          9.8,
          9.9,
          10,
          10.1,
          10.2,
          10.3,
          10.4,
          10.5,
          10.6,
          10.7,
          10.8,
          10.9
         ],
         "xaxis": "x",
         "y": [
          0,
          0,
          0,
          0,
          0,
          0,
          0,
          0,
          0,
          0,
          0,
          0,
          0,
          0,
          0,
          0,
          0,
          0,
          0,
          0,
          0,
          0,
          0,
          0,
          0,
          0,
          0,
          0,
          0,
          0,
          0,
          0,
          0,
          0,
          0,
          0,
          0,
          0,
          0,
          0,
          0,
          0,
          0,
          0,
          0,
          0,
          0,
          0,
          0,
          0,
          0,
          0,
          0,
          0,
          0,
          0,
          0,
          0,
          0,
          0,
          0,
          0,
          0,
          0,
          0,
          0,
          0,
          0,
          0,
          0,
          0,
          0,
          0,
          0,
          0,
          0,
          0,
          0,
          0,
          0,
          0,
          0,
          0,
          0,
          0,
          0,
          0,
          0,
          0,
          0,
          0,
          0,
          0,
          0,
          0,
          0,
          0,
          0,
          0,
          0,
          0,
          0,
          0,
          0,
          0,
          0,
          0,
          0,
          0,
          0
         ],
         "yaxis": "y"
        },
        {
         "line": {
          "color": "rgb(255, 102, 0)",
          "width": 2
         },
         "mode": "lines",
         "name": "LR",
         "type": "scatter",
         "x": [
          0,
          0.1,
          0.2,
          0.3,
          0.4,
          0.5,
          0.6,
          0.7,
          0.8,
          0.9,
          1,
          1.1,
          1.2,
          1.3,
          1.4,
          1.5,
          1.6,
          1.7,
          1.8,
          1.9,
          2,
          2.1,
          2.2,
          2.3,
          2.4,
          2.5,
          2.6,
          2.7,
          2.8,
          2.9,
          3,
          3.1,
          3.2,
          3.3,
          3.4,
          3.5,
          3.6,
          3.7,
          3.8,
          3.9,
          4,
          4.1,
          4.2,
          4.3,
          4.4,
          4.5,
          4.6,
          4.7,
          4.8,
          4.9,
          5,
          5.1,
          5.2,
          5.3,
          5.4,
          5.5,
          5.6,
          5.7,
          5.8,
          5.9,
          6,
          6.1,
          6.2,
          6.3,
          6.4,
          6.5,
          6.6,
          6.7,
          6.8,
          6.9,
          7,
          7.1,
          7.2,
          7.3,
          7.4,
          7.5,
          7.6,
          7.7,
          7.8,
          7.9,
          8,
          8.1,
          8.2,
          8.3,
          8.4,
          8.5,
          8.6,
          8.7,
          8.8,
          8.9,
          9,
          9.1,
          9.2,
          9.3,
          9.4,
          9.5,
          9.6,
          9.7,
          9.8,
          9.9,
          10,
          10.1,
          10.2,
          10.3,
          10.4,
          10.5,
          10.6,
          10.7,
          10.8,
          10.9
         ],
         "xaxis": "x",
         "y": [
          0,
          0,
          0,
          0,
          0,
          0,
          0,
          0,
          0,
          0,
          0,
          0,
          0,
          0,
          0,
          0,
          0,
          0,
          0,
          0,
          0,
          0,
          0,
          0,
          0,
          0,
          0,
          0,
          0,
          0,
          0,
          0,
          0,
          0,
          0,
          0,
          0,
          0,
          0,
          0,
          0,
          0,
          0,
          0,
          0,
          0,
          0,
          0,
          0,
          0,
          0,
          0,
          0,
          0,
          0,
          0,
          0,
          0,
          0,
          0,
          0,
          0,
          0,
          0,
          0,
          0,
          0,
          0,
          0,
          0,
          0,
          0,
          0,
          0,
          0,
          0,
          0,
          0,
          0,
          0,
          0,
          0,
          0,
          0,
          0,
          0,
          0,
          0,
          0,
          0,
          0,
          0,
          0,
          0,
          0,
          0,
          0,
          0,
          0,
          0,
          0,
          0,
          0,
          0,
          0,
          0,
          0,
          0,
          0,
          0
         ],
         "yaxis": "y"
        },
        {
         "line": {
          "color": "rgb(0, 0, 255)",
          "width": 2
         },
         "mode": "lines",
         "name": "LF",
         "showlegend": false,
         "type": "scatter",
         "x": [
          0,
          0.1,
          0.2,
          0.3,
          0.4,
          0.5,
          0.6,
          0.7,
          0.8,
          0.9,
          1,
          1.1,
          1.2,
          1.3,
          1.4,
          1.5,
          1.6,
          1.7,
          1.8,
          1.9,
          2,
          2.1,
          2.2,
          2.3,
          2.4,
          2.5,
          2.6,
          2.7,
          2.8,
          2.9,
          3,
          3.1,
          3.2,
          3.3,
          3.4,
          3.5,
          3.6,
          3.7,
          3.8,
          3.9,
          4,
          4.1,
          4.2,
          4.3,
          4.4,
          4.5,
          4.6,
          4.7,
          4.8,
          4.9,
          5,
          5.1,
          5.2,
          5.3,
          5.4,
          5.5,
          5.6,
          5.7,
          5.8,
          5.9,
          6,
          6.1,
          6.2,
          6.3,
          6.4,
          6.5,
          6.6,
          6.7,
          6.8,
          6.9,
          7,
          7.1,
          7.2,
          7.3,
          7.4,
          7.5,
          7.6,
          7.7,
          7.8,
          7.9,
          8,
          8.1,
          8.2,
          8.3,
          8.4,
          8.5,
          8.6,
          8.7,
          8.8,
          8.9,
          9,
          9.1,
          9.2,
          9.3,
          9.4,
          9.5,
          9.6,
          9.7,
          9.8,
          9.9,
          10,
          10.1,
          10.2,
          10.3,
          10.4,
          10.5,
          10.6,
          10.7,
          10.8,
          10.9
         ],
         "xaxis": "x2",
         "y": [
          0,
          0,
          0,
          0,
          0,
          0,
          0,
          0,
          0,
          0,
          0,
          -163.48270522485265,
          -294.09938274863487,
          -337.5386843779689,
          -344.2489787400807,
          -367.1930335377494,
          -418.2887345471525,
          -481.4536201958664,
          -538.9191561190863,
          -583.2937857599529,
          -615.4025363616674,
          -504.0146034707535,
          -421.7499186757791,
          -416.2177394558809,
          -447.33000409012874,
          -463.42420781583894,
          -450.3812912519188,
          -422.9357493522021,
          -398.4350833644253,
          -382.9437949809194,
          -373.2275561039607,
          -364.3599774275605,
          -354.21120649060083,
          -343.3094260251109,
          -332.8415550324118,
          -323.34232412946744,
          -314.64313345598714,
          -306.3851863224824,
          -298.3804215776318,
          -290.6334038804939,
          -283.203938192839,
          -276.10878997588287,
          -269.31626602665847,
          -262.7840592265808,
          -256.4852522572307,
          -250.40833189641802,
          -244.5458990262814,
          -238.88750768214135,
          -233.41999937905933,
          -228.1307176914865,
          -223.00924330612222,
          -218.04696448690038,
          -213.23598200373095,
          -208.56857528837787,
          -204.03731420914607,
          -199.63531796028585,
          -195.35631816379666,
          -191.19454212830115,
          -187.14458090433942,
          -183.20133385625863,
          -179.36000919118214,
          -175.61612548176748,
          -171.96549035673888,
          -168.40416731866978,
          -164.92844810413777,
          -161.53483562269065,
          -158.2200320801177,
          -154.9809265218116,
          -151.81458078656124,
          -148.71821589662736,
          -145.68920045737497,
          -142.7250409201817,
          -139.82337276826652,
          -136.98195205982384,
          -134.1986473842271,
          -131.4714324806589,
          -128.79837958303955,
          -126.17765335415027,
          -123.60750525042714,
          -121.08626825227213,
          -118.61235196551773,
          -116.18423809789508,
          -113.80047628018607,
          -111.4596801851928,
          -109.16052390826934,
          -106.90173859050434,
          -104.68210927251653,
          -102.50047196351196,
          -100.3557109063382,
          -98.24675602021263,
          -96.17258050690764,
          -94.1321986093163,
          -92.12466351204328,
          -90.1490653733659,
          -88.20452947825856,
          -86.29021450337817,
          -84.40531088618535,
          -82.54903929113885,
          -80.72064916622571,
          -78.91941738343965,
          -77.1446469573486,
          -75.39566583647837,
          -73.67182576272043,
          -71.9725011942897,
          -70.29708828803916,
          -68.64500393724836,
          -67.0156848613245,
          -65.4085867441373,
          -63.82318341793514,
          -62.25896609001379
         ],
         "yaxis": "y2"
        },
        {
         "line": {
          "color": "rgb(0, 255, 0)",
          "width": 2
         },
         "mode": "lines",
         "name": "RF",
         "showlegend": false,
         "type": "scatter",
         "x": [
          0,
          0.1,
          0.2,
          0.3,
          0.4,
          0.5,
          0.6,
          0.7,
          0.8,
          0.9,
          1,
          1.1,
          1.2,
          1.3,
          1.4,
          1.5,
          1.6,
          1.7,
          1.8,
          1.9,
          2,
          2.1,
          2.2,
          2.3,
          2.4,
          2.5,
          2.6,
          2.7,
          2.8,
          2.9,
          3,
          3.1,
          3.2,
          3.3,
          3.4,
          3.5,
          3.6,
          3.7,
          3.8,
          3.9,
          4,
          4.1,
          4.2,
          4.3,
          4.4,
          4.5,
          4.6,
          4.7,
          4.8,
          4.9,
          5,
          5.1,
          5.2,
          5.3,
          5.4,
          5.5,
          5.6,
          5.7,
          5.8,
          5.9,
          6,
          6.1,
          6.2,
          6.3,
          6.4,
          6.5,
          6.6,
          6.7,
          6.8,
          6.9,
          7,
          7.1,
          7.2,
          7.3,
          7.4,
          7.5,
          7.6,
          7.7,
          7.8,
          7.9,
          8,
          8.1,
          8.2,
          8.3,
          8.4,
          8.5,
          8.6,
          8.7,
          8.8,
          8.9,
          9,
          9.1,
          9.2,
          9.3,
          9.4,
          9.5,
          9.6,
          9.7,
          9.8,
          9.9,
          10,
          10.1,
          10.2,
          10.3,
          10.4,
          10.5,
          10.6,
          10.7,
          10.8,
          10.9
         ],
         "xaxis": "x2",
         "y": [
          0,
          0,
          0,
          0,
          0,
          0,
          0,
          0,
          0,
          0,
          0,
          -163.48270522485265,
          -294.3893276657279,
          -341.6064750295124,
          -359.8658598327647,
          -400.9866168705005,
          -473.38041164856725,
          -559.8947576718002,
          -643.7712048283126,
          -718.5504297366687,
          -742.1291738668782,
          -712.7360862620385,
          -659.1551892895897,
          -659.2919042554847,
          -683.0584808524546,
          -693.6460333779153,
          -681.794853315218,
          -659.336915985434,
          -639.5836685690543,
          -626.9835853833692,
          -618.8806751844629,
          -611.4228737412798,
          -602.9773860047364,
          -593.9762261010259,
          -585.3487550149819,
          -577.5066483650321,
          -570.3119080262735,
          -563.4805497456626,
          -556.8641432319331,
          -550.4656144838489,
          -544.3309643695987,
          -538.47220652556,
          -532.8633277593256,
          -527.4701473603742,
          -522.2707593643985,
          -517.2554798207913,
          -512.4179040578724,
          -507.74925008980705,
          -503.23863392677424,
          -498.87561752298944,
          -494.65157667357335,
          -490.5593503444052,
          -486.59236508107654,
          -482.74420952559876,
          -479.00872389014876,
          -475.3802054011007,
          -471.8534562154303,
          -468.4236876658621,
          -465.08641325806195,
          -461.8374036990464,
          -458.6726868848117,
          -455.5885484027332,
          -452.58151351691714,
          -449.6483197183909,
          -446.7858939707582,
          -443.9913386193993,
          -441.26192148136425,
          -438.59506542322436,
          -435.9883366583899,
          -433.4394334525112,
          -430.9461765123671,
          -428.50650090939996,
          -426.1184487530072,
          -423.780162156225,
          -421.4898765514338,
          -419.24591456412253,
          -417.04668049168896,
          -414.89065526857246,
          -412.7763917862551,
          -410.7025105169707,
          -408.66769544757426,
          -406.67069032614023,
          -404.71029519463303,
          -402.7853631681319,
          -400.8947974309751,
          -399.03754843473973,
          -397.212611288138,
          -395.4190233257527,
          -393.65586183935125,
          -391.92224195659264,
          -390.21731465547623,
          -388.5402649054088,
          -386.8903099262263,
          -385.2666975562415,
          -383.668704720736,
          -382.0956359933842,
          -380.54682224412915,
          -379.02161936764224,
          -377.5194070867429,
          -376.0395878254701,
          -374.5815856469477,
          -373.1448452516715,
          -371.72883103223626,
          -370.3330261807917,
          -368.95693184573014,
          -367.60006633439235,
          -366.2619643588342,
          -364.94217632193,
          -363.64026764128874,
          -362.3558181086138
         ],
         "yaxis": "y2"
        },
        {
         "line": {
          "color": "rgb(153, 0, 204)",
          "width": 2
         },
         "mode": "lines",
         "name": "RR",
         "showlegend": false,
         "type": "scatter",
         "x": [
          0,
          0.1,
          0.2,
          0.3,
          0.4,
          0.5,
          0.6,
          0.7,
          0.8,
          0.9,
          1,
          1.1,
          1.2,
          1.3,
          1.4,
          1.5,
          1.6,
          1.7,
          1.8,
          1.9,
          2,
          2.1,
          2.2,
          2.3,
          2.4,
          2.5,
          2.6,
          2.7,
          2.8,
          2.9,
          3,
          3.1,
          3.2,
          3.3,
          3.4,
          3.5,
          3.6,
          3.7,
          3.8,
          3.9,
          4,
          4.1,
          4.2,
          4.3,
          4.4,
          4.5,
          4.6,
          4.7,
          4.8,
          4.9,
          5,
          5.1,
          5.2,
          5.3,
          5.4,
          5.5,
          5.6,
          5.7,
          5.8,
          5.9,
          6,
          6.1,
          6.2,
          6.3,
          6.4,
          6.5,
          6.6,
          6.7,
          6.8,
          6.9,
          7,
          7.1,
          7.2,
          7.3,
          7.4,
          7.5,
          7.6,
          7.7,
          7.8,
          7.9,
          8,
          8.1,
          8.2,
          8.3,
          8.4,
          8.5,
          8.6,
          8.7,
          8.8,
          8.9,
          9,
          9.1,
          9.2,
          9.3,
          9.4,
          9.5,
          9.6,
          9.7,
          9.8,
          9.9,
          10,
          10.1,
          10.2,
          10.3,
          10.4,
          10.5,
          10.6,
          10.7,
          10.8,
          10.9
         ],
         "xaxis": "x2",
         "y": [
          0,
          0,
          0,
          0,
          0,
          0,
          0,
          0,
          0,
          0,
          0,
          0,
          1.830636255029813,
          3.114655763501099,
          -6.888366473425949,
          -34.894764911348176,
          -75.90512794352244,
          -119.60839146444056,
          -158.83383536018476,
          -191.8477714072819,
          -219.87617723938493,
          -245.10429757991275,
          -267.7383615646184,
          -285.16271590484394,
          -293.26820998331607,
          -289.789854522032,
          -278.21681064598044,
          -264.89613025573965,
          -254.28134090938752,
          -247.0903416837056,
          -241.73677378356675,
          -236.59587444524738,
          -231.09889068900995,
          -225.4976603229236,
          -220.18863606580067,
          -215.32169568020507,
          -210.81487877694354,
          -206.5340364848177,
          -202.41014847040375,
          -198.4414945947264,
          -194.64447401060227,
          -191.01988812298993,
          -187.55184889312483,
          -184.22147786582457,
          -181.0160525023709,
          -177.92876267233726,
          -174.95446417915244,
          -172.08703901029347,
          -169.31955529657233,
          -166.64548002394497,
          -164.05930499995688,
          -161.5563421528501,
          -159.13227660608433,
          -156.7829530887767,
          -154.5044200619283,
          -152.29302753589647,
          -150.14544174804934,
          -148.0585873726004,
          -146.02958718058036,
          -144.05573621001435,
          -142.13449963498408,
          -140.26351005215736,
          -138.4405545532853,
          -136.6635572550519,
          -134.93056515027962,
          -133.2397390953438,
          -131.5893470843553,
          -129.977757139945,
          -128.40342955333725,
          -126.86490955564717,
          -125.36082112303166,
          -123.88986173191927,
          -122.45079755402338,
          -121.04245883936082,
          -119.66373555724799,
          -118.31357342756993,
          -116.99097035131736,
          -115.6949731490172,
          -114.42467452367711,
          -113.17921022414825,
          -111.95775641754288,
          -110.75952726953959,
          -109.5837727104517,
          -108.42977635970118,
          -107.29685359093807,
          -106.18434972972237,
          -105.09163837730964,
          -104.01811985088703,
          -102.96321972886084,
          -101.92638749140973,
          -100.90709524918243,
          -99.9048365543469,
          -98.91912528812293,
          -97.9494946187211,
          -96.99549602405855,
          -96.05669837446156,
          -95.1326870712183,
          -94.2230632371194,
          -93.32744295526273,
          -92.44545655264149,
          -91.57674792538461,
          -90.72097390283731,
          -89.87780364789567,
          -89.04691809116326,
          -88.22800939666506,
          -87.42078045703441,
          -86.62494441626797,
          -85.84022421829256,
          -85.06635217970317,
          -84.30306958514275
         ],
         "yaxis": "y2"
        },
        {
         "line": {
          "color": "rgb(255, 102, 0)",
          "width": 2
         },
         "mode": "lines",
         "name": "LR",
         "showlegend": false,
         "type": "scatter",
         "x": [
          0,
          0.1,
          0.2,
          0.3,
          0.4,
          0.5,
          0.6,
          0.7,
          0.8,
          0.9,
          1,
          1.1,
          1.2,
          1.3,
          1.4,
          1.5,
          1.6,
          1.7,
          1.8,
          1.9,
          2,
          2.1,
          2.2,
          2.3,
          2.4,
          2.5,
          2.6,
          2.7,
          2.8,
          2.9,
          3,
          3.1,
          3.2,
          3.3,
          3.4,
          3.5,
          3.6,
          3.7,
          3.8,
          3.9,
          4,
          4.1,
          4.2,
          4.3,
          4.4,
          4.5,
          4.6,
          4.7,
          4.8,
          4.9,
          5,
          5.1,
          5.2,
          5.3,
          5.4,
          5.5,
          5.6,
          5.7,
          5.8,
          5.9,
          6,
          6.1,
          6.2,
          6.3,
          6.4,
          6.5,
          6.6,
          6.7,
          6.8,
          6.9,
          7,
          7.1,
          7.2,
          7.3,
          7.4,
          7.5,
          7.6,
          7.7,
          7.8,
          7.9,
          8,
          8.1,
          8.2,
          8.3,
          8.4,
          8.5,
          8.6,
          8.7,
          8.8,
          8.9,
          9,
          9.1,
          9.2,
          9.3,
          9.4,
          9.5,
          9.6,
          9.7,
          9.8,
          9.9,
          10,
          10.1,
          10.2,
          10.3,
          10.4,
          10.5,
          10.6,
          10.7,
          10.8,
          10.9
         ],
         "xaxis": "x2",
         "y": [
          0,
          0,
          0,
          0,
          0,
          0,
          0,
          0,
          0,
          0,
          0,
          0,
          1.841255743457207,
          3.1843282037286644,
          -7.205468022873564,
          -37.40784150052905,
          -83.3286059975654,
          -134.31212554640499,
          -182.32607893000608,
          -225.08387048433664,
          -263.66878061812054,
          -300.2224330261814,
          -332.92613315627113,
          -356.18491256950364,
          -365.55932191378,
          -360.2381013558764,
          -345.531068493713,
          -329.139555183915,
          -316.17050997695435,
          -307.3331574599588,
          -300.68301348998165,
          -294.2800906640951,
          -287.4579393736969,
          -280.5253345749438,
          -273.9576107000205,
          -267.932215799475,
          -262.3484674339572,
          -257.0437152458777,
          -251.93425288671577,
          -247.01769539792835,
          -242.3135351574214,
          -237.82238271135478,
          -233.52465382979136,
          -229.39717766372186,
          -225.42429565801206,
          -221.5975609808993,
          -217.91056766811062,
          -214.35573298875062,
          -210.92449186155517,
          -207.6087766373694,
          -204.40178070214813,
          -201.29770658931767,
          -198.29121787197,
          -195.37717718440635,
          -192.5507003246015,
          -189.8072761195034,
          -187.1427840555924,
          -184.55342286917946,
          -182.03563613733476,
          -179.5860804478592,
          -177.20162276080853,
          -174.87933700267155,
          -172.6164880378129,
          -170.41051005202362,
          -168.25898906828974,
          -166.1596518209889,
          -164.1103574491389,
          -162.10908870417865,
          -160.1539423499563,
          -158.24312010093382,
          -156.3749209681943,
          -154.54773478138875,
          -152.76003625189986,
          -151.01037926609914,
          -149.2973914975212,
          -147.6197695028703,
          -145.9762743124691,
          -144.36572740105373,
          -142.7870069354118,
          -141.2390442694476,
          -139.72082069780893,
          -138.23136446669105,
          -136.76974801423566,
          -135.33508540653233,
          -133.92652994729656,
          -132.54327195134405,
          -131.18453667393115,
          -129.8495823839935,
          -128.53769856714635,
          -127.24820424634328,
          -125.98044641141739,
          -124.73379855036488,
          -123.50765927511698,
          -122.30145103427944,
          -121.11461890587896,
          -119.94662946420212,
          -118.7969697156225,
          -117.66514609864456,
          -116.55068354356155,
          -115.45312458742566,
          -114.37202854046312,
          -113.30697070046264,
          -112.2575416119421,
          -111.22334636709031,
          -110.20400394568459,
          -109.19914659141077,
          -108.20841922223286,
          -107.23147887264315,
          -106.26799416576715,
          -105.3176448134331
         ],
         "yaxis": "y2"
        }
       ],
       "layout": {
        "autosize": false,
        "font": {
         "color": "black",
         "family": "Arial",
         "size": 14
        },
        "height": 500,
        "legend": {
         "orientation": "h",
         "x": 0.01,
         "xanchor": "left",
         "y": 1.1,
         "yanchor": "top"
        },
        "template": {
         "data": {
          "bar": [
           {
            "error_x": {
             "color": "#2a3f5f"
            },
            "error_y": {
             "color": "#2a3f5f"
            },
            "marker": {
             "line": {
              "color": "white",
              "width": 0.5
             }
            },
            "type": "bar"
           }
          ],
          "barpolar": [
           {
            "marker": {
             "line": {
              "color": "white",
              "width": 0.5
             }
            },
            "type": "barpolar"
           }
          ],
          "carpet": [
           {
            "aaxis": {
             "endlinecolor": "#2a3f5f",
             "gridcolor": "#C8D4E3",
             "linecolor": "#C8D4E3",
             "minorgridcolor": "#C8D4E3",
             "startlinecolor": "#2a3f5f"
            },
            "baxis": {
             "endlinecolor": "#2a3f5f",
             "gridcolor": "#C8D4E3",
             "linecolor": "#C8D4E3",
             "minorgridcolor": "#C8D4E3",
             "startlinecolor": "#2a3f5f"
            },
            "type": "carpet"
           }
          ],
          "choropleth": [
           {
            "colorbar": {
             "outlinewidth": 0,
             "ticks": ""
            },
            "type": "choropleth"
           }
          ],
          "contour": [
           {
            "colorbar": {
             "outlinewidth": 0,
             "ticks": ""
            },
            "colorscale": [
             [
              0,
              "#0d0887"
             ],
             [
              0.1111111111111111,
              "#46039f"
             ],
             [
              0.2222222222222222,
              "#7201a8"
             ],
             [
              0.3333333333333333,
              "#9c179e"
             ],
             [
              0.4444444444444444,
              "#bd3786"
             ],
             [
              0.5555555555555556,
              "#d8576b"
             ],
             [
              0.6666666666666666,
              "#ed7953"
             ],
             [
              0.7777777777777778,
              "#fb9f3a"
             ],
             [
              0.8888888888888888,
              "#fdca26"
             ],
             [
              1,
              "#f0f921"
             ]
            ],
            "type": "contour"
           }
          ],
          "contourcarpet": [
           {
            "colorbar": {
             "outlinewidth": 0,
             "ticks": ""
            },
            "type": "contourcarpet"
           }
          ],
          "heatmap": [
           {
            "colorbar": {
             "outlinewidth": 0,
             "ticks": ""
            },
            "colorscale": [
             [
              0,
              "#0d0887"
             ],
             [
              0.1111111111111111,
              "#46039f"
             ],
             [
              0.2222222222222222,
              "#7201a8"
             ],
             [
              0.3333333333333333,
              "#9c179e"
             ],
             [
              0.4444444444444444,
              "#bd3786"
             ],
             [
              0.5555555555555556,
              "#d8576b"
             ],
             [
              0.6666666666666666,
              "#ed7953"
             ],
             [
              0.7777777777777778,
              "#fb9f3a"
             ],
             [
              0.8888888888888888,
              "#fdca26"
             ],
             [
              1,
              "#f0f921"
             ]
            ],
            "type": "heatmap"
           }
          ],
          "heatmapgl": [
           {
            "colorbar": {
             "outlinewidth": 0,
             "ticks": ""
            },
            "colorscale": [
             [
              0,
              "#0d0887"
             ],
             [
              0.1111111111111111,
              "#46039f"
             ],
             [
              0.2222222222222222,
              "#7201a8"
             ],
             [
              0.3333333333333333,
              "#9c179e"
             ],
             [
              0.4444444444444444,
              "#bd3786"
             ],
             [
              0.5555555555555556,
              "#d8576b"
             ],
             [
              0.6666666666666666,
              "#ed7953"
             ],
             [
              0.7777777777777778,
              "#fb9f3a"
             ],
             [
              0.8888888888888888,
              "#fdca26"
             ],
             [
              1,
              "#f0f921"
             ]
            ],
            "type": "heatmapgl"
           }
          ],
          "histogram": [
           {
            "marker": {
             "colorbar": {
              "outlinewidth": 0,
              "ticks": ""
             }
            },
            "type": "histogram"
           }
          ],
          "histogram2d": [
           {
            "colorbar": {
             "outlinewidth": 0,
             "ticks": ""
            },
            "colorscale": [
             [
              0,
              "#0d0887"
             ],
             [
              0.1111111111111111,
              "#46039f"
             ],
             [
              0.2222222222222222,
              "#7201a8"
             ],
             [
              0.3333333333333333,
              "#9c179e"
             ],
             [
              0.4444444444444444,
              "#bd3786"
             ],
             [
              0.5555555555555556,
              "#d8576b"
             ],
             [
              0.6666666666666666,
              "#ed7953"
             ],
             [
              0.7777777777777778,
              "#fb9f3a"
             ],
             [
              0.8888888888888888,
              "#fdca26"
             ],
             [
              1,
              "#f0f921"
             ]
            ],
            "type": "histogram2d"
           }
          ],
          "histogram2dcontour": [
           {
            "colorbar": {
             "outlinewidth": 0,
             "ticks": ""
            },
            "colorscale": [
             [
              0,
              "#0d0887"
             ],
             [
              0.1111111111111111,
              "#46039f"
             ],
             [
              0.2222222222222222,
              "#7201a8"
             ],
             [
              0.3333333333333333,
              "#9c179e"
             ],
             [
              0.4444444444444444,
              "#bd3786"
             ],
             [
              0.5555555555555556,
              "#d8576b"
             ],
             [
              0.6666666666666666,
              "#ed7953"
             ],
             [
              0.7777777777777778,
              "#fb9f3a"
             ],
             [
              0.8888888888888888,
              "#fdca26"
             ],
             [
              1,
              "#f0f921"
             ]
            ],
            "type": "histogram2dcontour"
           }
          ],
          "mesh3d": [
           {
            "colorbar": {
             "outlinewidth": 0,
             "ticks": ""
            },
            "type": "mesh3d"
           }
          ],
          "parcoords": [
           {
            "line": {
             "colorbar": {
              "outlinewidth": 0,
              "ticks": ""
             }
            },
            "type": "parcoords"
           }
          ],
          "pie": [
           {
            "automargin": true,
            "type": "pie"
           }
          ],
          "scatter": [
           {
            "marker": {
             "colorbar": {
              "outlinewidth": 0,
              "ticks": ""
             }
            },
            "type": "scatter"
           }
          ],
          "scatter3d": [
           {
            "line": {
             "colorbar": {
              "outlinewidth": 0,
              "ticks": ""
             }
            },
            "marker": {
             "colorbar": {
              "outlinewidth": 0,
              "ticks": ""
             }
            },
            "type": "scatter3d"
           }
          ],
          "scattercarpet": [
           {
            "marker": {
             "colorbar": {
              "outlinewidth": 0,
              "ticks": ""
             }
            },
            "type": "scattercarpet"
           }
          ],
          "scattergeo": [
           {
            "marker": {
             "colorbar": {
              "outlinewidth": 0,
              "ticks": ""
             }
            },
            "type": "scattergeo"
           }
          ],
          "scattergl": [
           {
            "marker": {
             "colorbar": {
              "outlinewidth": 0,
              "ticks": ""
             }
            },
            "type": "scattergl"
           }
          ],
          "scattermapbox": [
           {
            "marker": {
             "colorbar": {
              "outlinewidth": 0,
              "ticks": ""
             }
            },
            "type": "scattermapbox"
           }
          ],
          "scatterpolar": [
           {
            "marker": {
             "colorbar": {
              "outlinewidth": 0,
              "ticks": ""
             }
            },
            "type": "scatterpolar"
           }
          ],
          "scatterpolargl": [
           {
            "marker": {
             "colorbar": {
              "outlinewidth": 0,
              "ticks": ""
             }
            },
            "type": "scatterpolargl"
           }
          ],
          "scatterternary": [
           {
            "marker": {
             "colorbar": {
              "outlinewidth": 0,
              "ticks": ""
             }
            },
            "type": "scatterternary"
           }
          ],
          "surface": [
           {
            "colorbar": {
             "outlinewidth": 0,
             "ticks": ""
            },
            "colorscale": [
             [
              0,
              "#0d0887"
             ],
             [
              0.1111111111111111,
              "#46039f"
             ],
             [
              0.2222222222222222,
              "#7201a8"
             ],
             [
              0.3333333333333333,
              "#9c179e"
             ],
             [
              0.4444444444444444,
              "#bd3786"
             ],
             [
              0.5555555555555556,
              "#d8576b"
             ],
             [
              0.6666666666666666,
              "#ed7953"
             ],
             [
              0.7777777777777778,
              "#fb9f3a"
             ],
             [
              0.8888888888888888,
              "#fdca26"
             ],
             [
              1,
              "#f0f921"
             ]
            ],
            "type": "surface"
           }
          ],
          "table": [
           {
            "cells": {
             "fill": {
              "color": "#EBF0F8"
             },
             "line": {
              "color": "white"
             }
            },
            "header": {
             "fill": {
              "color": "#C8D4E3"
             },
             "line": {
              "color": "white"
             }
            },
            "type": "table"
           }
          ]
         },
         "layout": {
          "annotationdefaults": {
           "arrowcolor": "#2a3f5f",
           "arrowhead": 0,
           "arrowwidth": 1
          },
          "coloraxis": {
           "colorbar": {
            "outlinewidth": 0,
            "ticks": ""
           }
          },
          "colorscale": {
           "diverging": [
            [
             0,
             "#8e0152"
            ],
            [
             0.1,
             "#c51b7d"
            ],
            [
             0.2,
             "#de77ae"
            ],
            [
             0.3,
             "#f1b6da"
            ],
            [
             0.4,
             "#fde0ef"
            ],
            [
             0.5,
             "#f7f7f7"
            ],
            [
             0.6,
             "#e6f5d0"
            ],
            [
             0.7,
             "#b8e186"
            ],
            [
             0.8,
             "#7fbc41"
            ],
            [
             0.9,
             "#4d9221"
            ],
            [
             1,
             "#276419"
            ]
           ],
           "sequential": [
            [
             0,
             "#0d0887"
            ],
            [
             0.1111111111111111,
             "#46039f"
            ],
            [
             0.2222222222222222,
             "#7201a8"
            ],
            [
             0.3333333333333333,
             "#9c179e"
            ],
            [
             0.4444444444444444,
             "#bd3786"
            ],
            [
             0.5555555555555556,
             "#d8576b"
            ],
            [
             0.6666666666666666,
             "#ed7953"
            ],
            [
             0.7777777777777778,
             "#fb9f3a"
            ],
            [
             0.8888888888888888,
             "#fdca26"
            ],
            [
             1,
             "#f0f921"
            ]
           ],
           "sequentialminus": [
            [
             0,
             "#0d0887"
            ],
            [
             0.1111111111111111,
             "#46039f"
            ],
            [
             0.2222222222222222,
             "#7201a8"
            ],
            [
             0.3333333333333333,
             "#9c179e"
            ],
            [
             0.4444444444444444,
             "#bd3786"
            ],
            [
             0.5555555555555556,
             "#d8576b"
            ],
            [
             0.6666666666666666,
             "#ed7953"
            ],
            [
             0.7777777777777778,
             "#fb9f3a"
            ],
            [
             0.8888888888888888,
             "#fdca26"
            ],
            [
             1,
             "#f0f921"
            ]
           ]
          },
          "colorway": [
           "#636efa",
           "#EF553B",
           "#00cc96",
           "#ab63fa",
           "#FFA15A",
           "#19d3f3",
           "#FF6692",
           "#B6E880",
           "#FF97FF",
           "#FECB52"
          ],
          "font": {
           "color": "#2a3f5f"
          },
          "geo": {
           "bgcolor": "white",
           "lakecolor": "white",
           "landcolor": "white",
           "showlakes": true,
           "showland": true,
           "subunitcolor": "#C8D4E3"
          },
          "hoverlabel": {
           "align": "left"
          },
          "hovermode": "closest",
          "mapbox": {
           "style": "light"
          },
          "paper_bgcolor": "white",
          "plot_bgcolor": "white",
          "polar": {
           "angularaxis": {
            "gridcolor": "#EBF0F8",
            "linecolor": "#EBF0F8",
            "ticks": ""
           },
           "bgcolor": "white",
           "radialaxis": {
            "gridcolor": "#EBF0F8",
            "linecolor": "#EBF0F8",
            "ticks": ""
           }
          },
          "scene": {
           "xaxis": {
            "backgroundcolor": "white",
            "gridcolor": "#DFE8F3",
            "gridwidth": 2,
            "linecolor": "#EBF0F8",
            "showbackground": true,
            "ticks": "",
            "zerolinecolor": "#EBF0F8"
           },
           "yaxis": {
            "backgroundcolor": "white",
            "gridcolor": "#DFE8F3",
            "gridwidth": 2,
            "linecolor": "#EBF0F8",
            "showbackground": true,
            "ticks": "",
            "zerolinecolor": "#EBF0F8"
           },
           "zaxis": {
            "backgroundcolor": "white",
            "gridcolor": "#DFE8F3",
            "gridwidth": 2,
            "linecolor": "#EBF0F8",
            "showbackground": true,
            "ticks": "",
            "zerolinecolor": "#EBF0F8"
           }
          },
          "shapedefaults": {
           "line": {
            "color": "#2a3f5f"
           }
          },
          "ternary": {
           "aaxis": {
            "gridcolor": "#DFE8F3",
            "linecolor": "#A2B1C6",
            "ticks": ""
           },
           "baxis": {
            "gridcolor": "#DFE8F3",
            "linecolor": "#A2B1C6",
            "ticks": ""
           },
           "bgcolor": "white",
           "caxis": {
            "gridcolor": "#DFE8F3",
            "linecolor": "#A2B1C6",
            "ticks": ""
           }
          },
          "title": {
           "x": 0.05
          },
          "xaxis": {
           "automargin": true,
           "gridcolor": "#EBF0F8",
           "linecolor": "#EBF0F8",
           "ticks": "",
           "title": {
            "standoff": 15
           },
           "zerolinecolor": "#EBF0F8",
           "zerolinewidth": 2
          },
          "yaxis": {
           "automargin": true,
           "gridcolor": "#EBF0F8",
           "linecolor": "#EBF0F8",
           "ticks": "",
           "title": {
            "standoff": 15
           },
           "zerolinecolor": "#EBF0F8",
           "zerolinewidth": 2
          }
         }
        },
        "title": {
         "text": "Veh1 - Tire Forces"
        },
        "width": 900,
        "xaxis": {
         "anchor": "y",
         "domain": [
          0,
          1
         ],
         "linecolor": "black",
         "linewidth": 1,
         "matches": "x2",
         "showgrid": false,
         "showline": true,
         "showticklabels": false,
         "tickcolor": "black",
         "ticklen": 10,
         "ticks": "outside",
         "tickwidth": 1,
         "title": {
          "text": ""
         },
         "zeroline": false
        },
        "xaxis2": {
         "anchor": "y2",
         "domain": [
          0,
          1
         ],
         "linecolor": "black",
         "linewidth": 1,
         "showgrid": false,
         "showline": true,
         "tickcolor": "black",
         "ticklen": 10,
         "ticks": "outside",
         "tickwidth": 1,
         "title": {
          "text": "Time (s)"
         },
         "zeroline": false
        },
        "yaxis": {
         "anchor": "x",
         "domain": [
          0.525,
          1
         ],
         "linecolor": "black",
         "linewidth": 1,
         "showgrid": false,
         "showline": true,
         "tickcolor": "black",
         "ticklen": 10,
         "ticks": "outside",
         "tickwidth": 1,
         "title": {
          "text": "Forward (lb)"
         },
         "zeroline": false
        },
        "yaxis2": {
         "anchor": "x2",
         "domain": [
          0,
          0.475
         ],
         "linecolor": "black",
         "linewidth": 1,
         "showgrid": false,
         "showline": true,
         "tickcolor": "black",
         "ticklen": 10,
         "ticks": "outside",
         "tickwidth": 1,
         "title": {
          "text": "Rightward (lb)"
         },
         "zeroline": false
        }
       }
      },
      "text/html": [
       "<div>\n",
       "        \n",
       "        \n",
       "            <div id=\"86dbff90-11a2-4e2b-ae0d-5aa00edee8fa\" class=\"plotly-graph-div\" style=\"height:500px; width:900px;\"></div>\n",
       "            <script type=\"text/javascript\">\n",
       "                require([\"plotly\"], function(Plotly) {\n",
       "                    window.PLOTLYENV=window.PLOTLYENV || {};\n",
       "                    \n",
       "                if (document.getElementById(\"86dbff90-11a2-4e2b-ae0d-5aa00edee8fa\")) {\n",
       "                    Plotly.newPlot(\n",
       "                        '86dbff90-11a2-4e2b-ae0d-5aa00edee8fa',\n",
       "                        [{\"line\": {\"color\": \"rgb(0, 0, 255)\", \"width\": 2}, \"mode\": \"lines\", \"name\": \"LF\", \"type\": \"scatter\", \"x\": [0.0, 0.1, 0.2, 0.3, 0.4, 0.5, 0.6, 0.7, 0.8, 0.9, 1.0, 1.1, 1.2, 1.3, 1.4, 1.5, 1.6, 1.7, 1.8, 1.9, 2.0, 2.1, 2.2, 2.3, 2.4, 2.5, 2.6, 2.7, 2.8, 2.9, 3.0, 3.1, 3.2, 3.3, 3.4, 3.5, 3.6, 3.7, 3.8, 3.9, 4.0, 4.1, 4.2, 4.3, 4.4, 4.5, 4.6, 4.7, 4.8, 4.9, 5.0, 5.1, 5.2, 5.3, 5.4, 5.5, 5.6, 5.7, 5.8, 5.9, 6.0, 6.1, 6.2, 6.3, 6.4, 6.5, 6.6, 6.7, 6.8, 6.9, 7.0, 7.1, 7.2, 7.3, 7.4, 7.5, 7.6, 7.7, 7.8, 7.9, 8.0, 8.1, 8.2, 8.3, 8.4, 8.5, 8.6, 8.7, 8.8, 8.9, 9.0, 9.1, 9.2, 9.3, 9.4, 9.5, 9.6, 9.7, 9.8, 9.9, 10.0, 10.1, 10.2, 10.3, 10.4, 10.5, 10.6, 10.7, 10.8, 10.9], \"xaxis\": \"x\", \"y\": [0.0, 0.0, 0.0, 0.0, 0.0, 0.0, 0.0, 0.0, 0.0, 0.0, 0.0, -5.816756956865561, -22.12320283870527, -38.85184236739208, -53.478331432659154, -72.00277365417621, -99.33029420753576, -134.62943437474053, -173.92903891838003, -214.04356951672324, -253.84037803174718, -210.22957594522123, -175.9161459758884, -173.6086182109322, -186.58585767128238, -193.29891241440433, -187.85858032989768, -176.41076791448015, -166.19129295181725, -159.72972028054335, -155.6769790210254, -151.97822249301404, -147.745067747596, -143.1978251309625, -138.83157053300002, -134.86934548876553, -131.24082529558328, -127.79635223448574, -124.45748410196971, -121.22612486337985, -118.12721977162316, -115.16776186971389, -112.33453160295225, -109.60988224535379, -106.98258631184596, -104.4478415213001, -102.00256162700899, -99.64238951171887, -97.3618366386103, -95.1556238849003, -93.01940524989419, -90.94958869159778, -88.94287936144782, -86.99605693254276, -85.10602222199242, -83.26990517630043, -81.48509119176315, -79.74917242056831, -78.05989273532707, -76.41512460944999, -74.81286933778541, -73.25125767177714, -71.72854093107058, -70.2430771628751, -68.79331961310577, -67.37780961005397, -65.99517161048405, -64.6441080038439, -63.32339325345023, -62.03186821965178, -60.76843532119905, -59.53205447380504, -58.32173941366556, -57.13655417001511, -55.97560970997822, -54.83806085972573, -53.72310352857714, -52.629972178862424, -51.55793747542058, -50.50630408755926, -49.47440864582622, -48.46161785519858, -47.46732675204317, -46.49095708529953, -45.53195580676324, -44.58979366258128, -43.66396388093838, -42.753980949531275, -41.85937947479519, -40.979713115239974, -40.11455358296588, -39.26348970873863, -38.42612656630471, -37.60208465150251, -36.79099911187012, -35.992519022953324, -35.206306708049524, -34.43203709844202, -33.66939713131411, -32.91808518267899, -32.17781053288129, -31.448292862471007, -30.72926177645102, -30.02045635503188, -29.32162472914499, -28.632523679094483, -27.952918254862347, -27.282581416699212, -26.62129369472756, -25.968842866377393], \"yaxis\": \"y\"}, {\"line\": {\"color\": \"rgb(0, 255, 0)\", \"width\": 2}, \"mode\": \"lines\", \"name\": \"RF\", \"type\": \"scatter\", \"x\": [0.0, 0.1, 0.2, 0.3, 0.4, 0.5, 0.6, 0.7, 0.8, 0.9, 1.0, 1.1, 1.2, 1.3, 1.4, 1.5, 1.6, 1.7, 1.8, 1.9, 2.0, 2.1, 2.2, 2.3, 2.4, 2.5, 2.6, 2.7, 2.8, 2.9, 3.0, 3.1, 3.2, 3.3, 3.4, 3.5, 3.6, 3.7, 3.8, 3.9, 4.0, 4.1, 4.2, 4.3, 4.4, 4.5, 4.6, 4.7, 4.8, 4.9, 5.0, 5.1, 5.2, 5.3, 5.4, 5.5, 5.6, 5.7, 5.8, 5.9, 6.0, 6.1, 6.2, 6.3, 6.4, 6.5, 6.6, 6.7, 6.8, 6.9, 7.0, 7.1, 7.2, 7.3, 7.4, 7.5, 7.6, 7.7, 7.8, 7.9, 8.0, 8.1, 8.2, 8.3, 8.4, 8.5, 8.6, 8.7, 8.8, 8.9, 9.0, 9.1, 9.2, 9.3, 9.4, 9.5, 9.6, 9.7, 9.8, 9.9, 10.0, 10.1, 10.2, 10.3, 10.4, 10.5, 10.6, 10.7, 10.8, 10.9], \"xaxis\": \"x\", \"y\": [0.0, 0.0, 0.0, 0.0, 0.0, 0.0, 0.0, 0.0, 0.0, 0.0, 0.0, -5.816756956865561, -22.145013527843584, -39.32005880743825, -55.9043800038869, -78.629347443522, -112.41281841367886, -156.5640206507768, -207.7686526221265, -263.6769028118994, -306.11240434024745, -297.2894121398601, -274.9402794526042, -274.99730464415137, -284.91058351592227, -289.3267584886272, -284.38351172181825, -275.01607949082177, -266.77680070943325, -261.52117889458873, -258.14137330302884, -255.0306490817712, -251.50795094311084, -247.75347633753125, -244.154871107824, -240.88384930769513, -237.8828505270299, -235.03342206886015, -232.2736521612343, -229.60476126775623, -227.04593681463513, -224.60218981080556, -222.262669891276, -220.01311993685007, -217.84440274881317, -215.7524790536687, -213.73467739824443, -211.78733472764995, -209.90591121992597, -208.08605306086977, -206.32416300761943, -204.61725412059783, -202.96258454565384, -201.35748004068827, -199.79937129605605, -198.28587962734446, -196.8148369617887, -195.3842458979569, -193.99223507379958, -192.6370404085453, -191.3170050975409, -190.03057982180715, -188.7763152339473, -187.55285050855443, -186.3589038511449, -185.19326662074326, -184.05479919627703, -182.9424266293932, -181.85513376315157, -180.7919605209334, -179.75199789755004, -178.73438459046767, -177.73830394376344, -176.76298101404115, -175.8076797823445, -174.8717005988425, -173.9543778798812, -173.05507800788993, -172.17319737930643, -171.30816057918184, -170.4594186851566, -169.6264477018786, -168.80874711474522, -168.00583854648545, -167.21726450422142, -166.44258721071736, -165.68138751567912, -164.9332638816491, -164.19783143771474, -163.47472109469527, -162.76357871694884, -162.06406434699232, -161.37585147932217, -160.69862637971033, -160.03208744639682, -159.3759446100453, -158.72991876975854, -158.09374126270566, -157.46715336501688, -156.84990582173018, -156.241758403764, -155.642479490093, -155.05184567346478, -154.4696413881112, -153.89565855799384, -153.32969626424497, -152.7715604305689, -152.22106352546874, -151.67802428024476, -151.14226742177715], \"yaxis\": \"y\"}, {\"line\": {\"color\": \"rgb(153, 0, 204)\", \"width\": 2}, \"mode\": \"lines\", \"name\": \"RR\", \"type\": \"scatter\", \"x\": [0.0, 0.1, 0.2, 0.3, 0.4, 0.5, 0.6, 0.7, 0.8, 0.9, 1.0, 1.1, 1.2, 1.3, 1.4, 1.5, 1.6, 1.7, 1.8, 1.9, 2.0, 2.1, 2.2, 2.3, 2.4, 2.5, 2.6, 2.7, 2.8, 2.9, 3.0, 3.1, 3.2, 3.3, 3.4, 3.5, 3.6, 3.7, 3.8, 3.9, 4.0, 4.1, 4.2, 4.3, 4.4, 4.5, 4.6, 4.7, 4.8, 4.9, 5.0, 5.1, 5.2, 5.3, 5.4, 5.5, 5.6, 5.7, 5.8, 5.9, 6.0, 6.1, 6.2, 6.3, 6.4, 6.5, 6.6, 6.7, 6.8, 6.9, 7.0, 7.1, 7.2, 7.3, 7.4, 7.5, 7.6, 7.7, 7.8, 7.9, 8.0, 8.1, 8.2, 8.3, 8.4, 8.5, 8.6, 8.7, 8.8, 8.9, 9.0, 9.1, 9.2, 9.3, 9.4, 9.5, 9.6, 9.7, 9.8, 9.9, 10.0, 10.1, 10.2, 10.3, 10.4, 10.5, 10.6, 10.7, 10.8, 10.9], \"xaxis\": \"x\", \"y\": [-0.0, -0.0, -0.0, -0.0, -0.0, -0.0, -0.0, -0.0, -0.0, -0.0, -0.0, -0.0, -0.0, -0.0, -0.0, -0.0, -0.0, -0.0, -0.0, -0.0, -0.0, -0.0, -0.0, -0.0, -0.0, -0.0, -0.0, -0.0, -0.0, -0.0, -0.0, -0.0, -0.0, -0.0, -0.0, -0.0, -0.0, -0.0, -0.0, -0.0, -0.0, -0.0, -0.0, -0.0, -0.0, -0.0, -0.0, -0.0, -0.0, -0.0, -0.0, -0.0, -0.0, -0.0, -0.0, -0.0, -0.0, -0.0, -0.0, -0.0, -0.0, -0.0, -0.0, -0.0, -0.0, -0.0, -0.0, -0.0, -0.0, -0.0, -0.0, -0.0, -0.0, -0.0, -0.0, -0.0, -0.0, -0.0, -0.0, -0.0, -0.0, -0.0, -0.0, -0.0, -0.0, -0.0, -0.0, -0.0, -0.0, -0.0, -0.0, -0.0, -0.0, -0.0, -0.0, -0.0, -0.0, -0.0, -0.0, -0.0, -0.0, -0.0, -0.0, -0.0, -0.0, -0.0, -0.0, -0.0, -0.0, -0.0], \"yaxis\": \"y\"}, {\"line\": {\"color\": \"rgb(255, 102, 0)\", \"width\": 2}, \"mode\": \"lines\", \"name\": \"LR\", \"type\": \"scatter\", \"x\": [0.0, 0.1, 0.2, 0.3, 0.4, 0.5, 0.6, 0.7, 0.8, 0.9, 1.0, 1.1, 1.2, 1.3, 1.4, 1.5, 1.6, 1.7, 1.8, 1.9, 2.0, 2.1, 2.2, 2.3, 2.4, 2.5, 2.6, 2.7, 2.8, 2.9, 3.0, 3.1, 3.2, 3.3, 3.4, 3.5, 3.6, 3.7, 3.8, 3.9, 4.0, 4.1, 4.2, 4.3, 4.4, 4.5, 4.6, 4.7, 4.8, 4.9, 5.0, 5.1, 5.2, 5.3, 5.4, 5.5, 5.6, 5.7, 5.8, 5.9, 6.0, 6.1, 6.2, 6.3, 6.4, 6.5, 6.6, 6.7, 6.8, 6.9, 7.0, 7.1, 7.2, 7.3, 7.4, 7.5, 7.6, 7.7, 7.8, 7.9, 8.0, 8.1, 8.2, 8.3, 8.4, 8.5, 8.6, 8.7, 8.8, 8.9, 9.0, 9.1, 9.2, 9.3, 9.4, 9.5, 9.6, 9.7, 9.8, 9.9, 10.0, 10.1, 10.2, 10.3, 10.4, 10.5, 10.6, 10.7, 10.8, 10.9], \"xaxis\": \"x\", \"y\": [-0.0, -0.0, -0.0, -0.0, -0.0, -0.0, -0.0, -0.0, -0.0, -0.0, -0.0, -0.0, -0.0, -0.0, -0.0, -0.0, -0.0, -0.0, -0.0, -0.0, -0.0, -0.0, -0.0, -0.0, -0.0, -0.0, -0.0, -0.0, -0.0, -0.0, -0.0, -0.0, -0.0, -0.0, -0.0, -0.0, -0.0, -0.0, -0.0, -0.0, -0.0, -0.0, -0.0, -0.0, -0.0, -0.0, -0.0, -0.0, -0.0, -0.0, -0.0, -0.0, -0.0, -0.0, -0.0, -0.0, -0.0, -0.0, -0.0, -0.0, -0.0, -0.0, -0.0, -0.0, -0.0, -0.0, -0.0, -0.0, -0.0, -0.0, -0.0, -0.0, -0.0, -0.0, -0.0, -0.0, -0.0, -0.0, -0.0, -0.0, -0.0, -0.0, -0.0, -0.0, -0.0, -0.0, -0.0, -0.0, -0.0, -0.0, -0.0, -0.0, -0.0, -0.0, -0.0, -0.0, -0.0, -0.0, -0.0, -0.0, -0.0, -0.0, -0.0, -0.0, -0.0, -0.0, -0.0, -0.0, -0.0, -0.0], \"yaxis\": \"y\"}, {\"line\": {\"color\": \"rgb(0, 0, 255)\", \"width\": 2}, \"mode\": \"lines\", \"name\": \"LF\", \"showlegend\": false, \"type\": \"scatter\", \"x\": [0.0, 0.1, 0.2, 0.3, 0.4, 0.5, 0.6, 0.7, 0.8, 0.9, 1.0, 1.1, 1.2, 1.3, 1.4, 1.5, 1.6, 1.7, 1.8, 1.9, 2.0, 2.1, 2.2, 2.3, 2.4, 2.5, 2.6, 2.7, 2.8, 2.9, 3.0, 3.1, 3.2, 3.3, 3.4, 3.5, 3.6, 3.7, 3.8, 3.9, 4.0, 4.1, 4.2, 4.3, 4.4, 4.5, 4.6, 4.7, 4.8, 4.9, 5.0, 5.1, 5.2, 5.3, 5.4, 5.5, 5.6, 5.7, 5.8, 5.9, 6.0, 6.1, 6.2, 6.3, 6.4, 6.5, 6.6, 6.7, 6.8, 6.9, 7.0, 7.1, 7.2, 7.3, 7.4, 7.5, 7.6, 7.7, 7.8, 7.9, 8.0, 8.1, 8.2, 8.3, 8.4, 8.5, 8.6, 8.7, 8.8, 8.9, 9.0, 9.1, 9.2, 9.3, 9.4, 9.5, 9.6, 9.7, 9.8, 9.9, 10.0, 10.1, 10.2, 10.3, 10.4, 10.5, 10.6, 10.7, 10.8, 10.9], \"xaxis\": \"x2\", \"y\": [0.0, 0.0, 0.0, 0.0, 0.0, 0.0, 0.0, 0.0, 0.0, 0.0, 0.0, -163.48270522485265, -294.09938274863487, -337.5386843779689, -344.2489787400807, -367.1930335377494, -418.2887345471525, -481.4536201958664, -538.9191561190863, -583.2937857599529, -615.4025363616674, -504.0146034707535, -421.7499186757791, -416.2177394558809, -447.33000409012874, -463.42420781583894, -450.3812912519188, -422.9357493522021, -398.4350833644253, -382.9437949809194, -373.2275561039607, -364.3599774275605, -354.21120649060083, -343.3094260251109, -332.8415550324118, -323.34232412946744, -314.64313345598714, -306.3851863224824, -298.3804215776318, -290.6334038804939, -283.203938192839, -276.10878997588287, -269.31626602665847, -262.7840592265808, -256.4852522572307, -250.40833189641802, -244.5458990262814, -238.88750768214135, -233.41999937905933, -228.1307176914865, -223.00924330612222, -218.04696448690038, -213.23598200373095, -208.56857528837787, -204.03731420914607, -199.63531796028585, -195.35631816379666, -191.19454212830115, -187.14458090433942, -183.20133385625863, -179.36000919118214, -175.61612548176748, -171.96549035673888, -168.40416731866978, -164.92844810413777, -161.53483562269065, -158.2200320801177, -154.9809265218116, -151.81458078656124, -148.71821589662736, -145.68920045737497, -142.7250409201817, -139.82337276826652, -136.98195205982384, -134.1986473842271, -131.4714324806589, -128.79837958303955, -126.17765335415027, -123.60750525042714, -121.08626825227213, -118.61235196551773, -116.18423809789508, -113.80047628018607, -111.4596801851928, -109.16052390826934, -106.90173859050434, -104.68210927251653, -102.50047196351196, -100.3557109063382, -98.24675602021263, -96.17258050690764, -94.1321986093163, -92.12466351204328, -90.1490653733659, -88.20452947825856, -86.29021450337817, -84.40531088618535, -82.54903929113885, -80.72064916622571, -78.91941738343965, -77.1446469573486, -75.39566583647837, -73.67182576272043, -71.9725011942897, -70.29708828803916, -68.64500393724836, -67.0156848613245, -65.4085867441373, -63.82318341793514, -62.25896609001379], \"yaxis\": \"y2\"}, {\"line\": {\"color\": \"rgb(0, 255, 0)\", \"width\": 2}, \"mode\": \"lines\", \"name\": \"RF\", \"showlegend\": false, \"type\": \"scatter\", \"x\": [0.0, 0.1, 0.2, 0.3, 0.4, 0.5, 0.6, 0.7, 0.8, 0.9, 1.0, 1.1, 1.2, 1.3, 1.4, 1.5, 1.6, 1.7, 1.8, 1.9, 2.0, 2.1, 2.2, 2.3, 2.4, 2.5, 2.6, 2.7, 2.8, 2.9, 3.0, 3.1, 3.2, 3.3, 3.4, 3.5, 3.6, 3.7, 3.8, 3.9, 4.0, 4.1, 4.2, 4.3, 4.4, 4.5, 4.6, 4.7, 4.8, 4.9, 5.0, 5.1, 5.2, 5.3, 5.4, 5.5, 5.6, 5.7, 5.8, 5.9, 6.0, 6.1, 6.2, 6.3, 6.4, 6.5, 6.6, 6.7, 6.8, 6.9, 7.0, 7.1, 7.2, 7.3, 7.4, 7.5, 7.6, 7.7, 7.8, 7.9, 8.0, 8.1, 8.2, 8.3, 8.4, 8.5, 8.6, 8.7, 8.8, 8.9, 9.0, 9.1, 9.2, 9.3, 9.4, 9.5, 9.6, 9.7, 9.8, 9.9, 10.0, 10.1, 10.2, 10.3, 10.4, 10.5, 10.6, 10.7, 10.8, 10.9], \"xaxis\": \"x2\", \"y\": [0.0, 0.0, 0.0, 0.0, 0.0, 0.0, 0.0, 0.0, 0.0, 0.0, 0.0, -163.48270522485265, -294.3893276657279, -341.6064750295124, -359.8658598327647, -400.9866168705005, -473.38041164856725, -559.8947576718002, -643.7712048283126, -718.5504297366687, -742.1291738668782, -712.7360862620385, -659.1551892895897, -659.2919042554847, -683.0584808524546, -693.6460333779153, -681.794853315218, -659.336915985434, -639.5836685690543, -626.9835853833692, -618.8806751844629, -611.4228737412798, -602.9773860047364, -593.9762261010259, -585.3487550149819, -577.5066483650321, -570.3119080262735, -563.4805497456626, -556.8641432319331, -550.4656144838489, -544.3309643695987, -538.47220652556, -532.8633277593256, -527.4701473603742, -522.2707593643985, -517.2554798207913, -512.4179040578724, -507.74925008980705, -503.23863392677424, -498.87561752298944, -494.65157667357335, -490.5593503444052, -486.59236508107654, -482.74420952559876, -479.00872389014876, -475.3802054011007, -471.8534562154303, -468.4236876658621, -465.08641325806195, -461.8374036990464, -458.6726868848117, -455.5885484027332, -452.58151351691714, -449.6483197183909, -446.7858939707582, -443.9913386193993, -441.26192148136425, -438.59506542322436, -435.9883366583899, -433.4394334525112, -430.9461765123671, -428.50650090939996, -426.1184487530072, -423.780162156225, -421.4898765514338, -419.24591456412253, -417.04668049168896, -414.89065526857246, -412.7763917862551, -410.7025105169707, -408.66769544757426, -406.67069032614023, -404.71029519463303, -402.7853631681319, -400.8947974309751, -399.03754843473973, -397.212611288138, -395.4190233257527, -393.65586183935125, -391.92224195659264, -390.21731465547623, -388.5402649054088, -386.8903099262263, -385.2666975562415, -383.668704720736, -382.0956359933842, -380.54682224412915, -379.02161936764224, -377.5194070867429, -376.0395878254701, -374.5815856469477, -373.1448452516715, -371.72883103223626, -370.3330261807917, -368.95693184573014, -367.60006633439235, -366.2619643588342, -364.94217632193, -363.64026764128874, -362.3558181086138], \"yaxis\": \"y2\"}, {\"line\": {\"color\": \"rgb(153, 0, 204)\", \"width\": 2}, \"mode\": \"lines\", \"name\": \"RR\", \"showlegend\": false, \"type\": \"scatter\", \"x\": [0.0, 0.1, 0.2, 0.3, 0.4, 0.5, 0.6, 0.7, 0.8, 0.9, 1.0, 1.1, 1.2, 1.3, 1.4, 1.5, 1.6, 1.7, 1.8, 1.9, 2.0, 2.1, 2.2, 2.3, 2.4, 2.5, 2.6, 2.7, 2.8, 2.9, 3.0, 3.1, 3.2, 3.3, 3.4, 3.5, 3.6, 3.7, 3.8, 3.9, 4.0, 4.1, 4.2, 4.3, 4.4, 4.5, 4.6, 4.7, 4.8, 4.9, 5.0, 5.1, 5.2, 5.3, 5.4, 5.5, 5.6, 5.7, 5.8, 5.9, 6.0, 6.1, 6.2, 6.3, 6.4, 6.5, 6.6, 6.7, 6.8, 6.9, 7.0, 7.1, 7.2, 7.3, 7.4, 7.5, 7.6, 7.7, 7.8, 7.9, 8.0, 8.1, 8.2, 8.3, 8.4, 8.5, 8.6, 8.7, 8.8, 8.9, 9.0, 9.1, 9.2, 9.3, 9.4, 9.5, 9.6, 9.7, 9.8, 9.9, 10.0, 10.1, 10.2, 10.3, 10.4, 10.5, 10.6, 10.7, 10.8, 10.9], \"xaxis\": \"x2\", \"y\": [-0.0, -0.0, -0.0, -0.0, -0.0, -0.0, -0.0, -0.0, -0.0, -0.0, -0.0, -0.0, 1.830636255029813, 3.114655763501099, -6.888366473425949, -34.894764911348176, -75.90512794352244, -119.60839146444056, -158.83383536018476, -191.8477714072819, -219.87617723938493, -245.10429757991275, -267.7383615646184, -285.16271590484394, -293.26820998331607, -289.789854522032, -278.21681064598044, -264.89613025573965, -254.28134090938752, -247.0903416837056, -241.73677378356675, -236.59587444524738, -231.09889068900995, -225.4976603229236, -220.18863606580067, -215.32169568020507, -210.81487877694354, -206.5340364848177, -202.41014847040375, -198.4414945947264, -194.64447401060227, -191.01988812298993, -187.55184889312483, -184.22147786582457, -181.0160525023709, -177.92876267233726, -174.95446417915244, -172.08703901029347, -169.31955529657233, -166.64548002394497, -164.05930499995688, -161.5563421528501, -159.13227660608433, -156.7829530887767, -154.5044200619283, -152.29302753589647, -150.14544174804934, -148.0585873726004, -146.02958718058036, -144.05573621001435, -142.13449963498408, -140.26351005215736, -138.4405545532853, -136.6635572550519, -134.93056515027962, -133.2397390953438, -131.5893470843553, -129.977757139945, -128.40342955333725, -126.86490955564717, -125.36082112303166, -123.88986173191927, -122.45079755402338, -121.04245883936082, -119.66373555724799, -118.31357342756993, -116.99097035131736, -115.6949731490172, -114.42467452367711, -113.17921022414825, -111.95775641754288, -110.75952726953959, -109.5837727104517, -108.42977635970118, -107.29685359093807, -106.18434972972237, -105.09163837730964, -104.01811985088703, -102.96321972886084, -101.92638749140973, -100.90709524918243, -99.9048365543469, -98.91912528812293, -97.9494946187211, -96.99549602405855, -96.05669837446156, -95.1326870712183, -94.2230632371194, -93.32744295526273, -92.44545655264149, -91.57674792538461, -90.72097390283731, -89.87780364789567, -89.04691809116326, -88.22800939666506, -87.42078045703441, -86.62494441626797, -85.84022421829256, -85.06635217970317, -84.30306958514275], \"yaxis\": \"y2\"}, {\"line\": {\"color\": \"rgb(255, 102, 0)\", \"width\": 2}, \"mode\": \"lines\", \"name\": \"LR\", \"showlegend\": false, \"type\": \"scatter\", \"x\": [0.0, 0.1, 0.2, 0.3, 0.4, 0.5, 0.6, 0.7, 0.8, 0.9, 1.0, 1.1, 1.2, 1.3, 1.4, 1.5, 1.6, 1.7, 1.8, 1.9, 2.0, 2.1, 2.2, 2.3, 2.4, 2.5, 2.6, 2.7, 2.8, 2.9, 3.0, 3.1, 3.2, 3.3, 3.4, 3.5, 3.6, 3.7, 3.8, 3.9, 4.0, 4.1, 4.2, 4.3, 4.4, 4.5, 4.6, 4.7, 4.8, 4.9, 5.0, 5.1, 5.2, 5.3, 5.4, 5.5, 5.6, 5.7, 5.8, 5.9, 6.0, 6.1, 6.2, 6.3, 6.4, 6.5, 6.6, 6.7, 6.8, 6.9, 7.0, 7.1, 7.2, 7.3, 7.4, 7.5, 7.6, 7.7, 7.8, 7.9, 8.0, 8.1, 8.2, 8.3, 8.4, 8.5, 8.6, 8.7, 8.8, 8.9, 9.0, 9.1, 9.2, 9.3, 9.4, 9.5, 9.6, 9.7, 9.8, 9.9, 10.0, 10.1, 10.2, 10.3, 10.4, 10.5, 10.6, 10.7, 10.8, 10.9], \"xaxis\": \"x2\", \"y\": [-0.0, -0.0, -0.0, -0.0, -0.0, -0.0, -0.0, -0.0, -0.0, -0.0, -0.0, -0.0, 1.841255743457207, 3.1843282037286644, -7.205468022873564, -37.40784150052905, -83.3286059975654, -134.31212554640499, -182.32607893000608, -225.08387048433664, -263.66878061812054, -300.2224330261814, -332.92613315627113, -356.18491256950364, -365.55932191378, -360.2381013558764, -345.531068493713, -329.139555183915, -316.17050997695435, -307.3331574599588, -300.68301348998165, -294.2800906640951, -287.4579393736969, -280.5253345749438, -273.9576107000205, -267.932215799475, -262.3484674339572, -257.0437152458777, -251.93425288671577, -247.01769539792835, -242.3135351574214, -237.82238271135478, -233.52465382979136, -229.39717766372186, -225.42429565801206, -221.5975609808993, -217.91056766811062, -214.35573298875062, -210.92449186155517, -207.6087766373694, -204.40178070214813, -201.29770658931767, -198.29121787197, -195.37717718440635, -192.5507003246015, -189.8072761195034, -187.1427840555924, -184.55342286917946, -182.03563613733476, -179.5860804478592, -177.20162276080853, -174.87933700267155, -172.6164880378129, -170.41051005202362, -168.25898906828974, -166.1596518209889, -164.1103574491389, -162.10908870417865, -160.1539423499563, -158.24312010093382, -156.3749209681943, -154.54773478138875, -152.76003625189986, -151.01037926609914, -149.2973914975212, -147.6197695028703, -145.9762743124691, -144.36572740105373, -142.7870069354118, -141.2390442694476, -139.72082069780893, -138.23136446669105, -136.76974801423566, -135.33508540653233, -133.92652994729656, -132.54327195134405, -131.18453667393115, -129.8495823839935, -128.53769856714635, -127.24820424634328, -125.98044641141739, -124.73379855036488, -123.50765927511698, -122.30145103427944, -121.11461890587896, -119.94662946420212, -118.7969697156225, -117.66514609864456, -116.55068354356155, -115.45312458742566, -114.37202854046312, -113.30697070046264, -112.2575416119421, -111.22334636709031, -110.20400394568459, -109.19914659141077, -108.20841922223286, -107.23147887264315, -106.26799416576715, -105.3176448134331], \"yaxis\": \"y2\"}],\n",
       "                        {\"autosize\": false, \"font\": {\"color\": \"black\", \"family\": \"Arial\", \"size\": 14}, \"height\": 500, \"legend\": {\"orientation\": \"h\", \"x\": 0.01, \"xanchor\": \"left\", \"y\": 1.1, \"yanchor\": \"top\"}, \"template\": {\"data\": {\"bar\": [{\"error_x\": {\"color\": \"#2a3f5f\"}, \"error_y\": {\"color\": \"#2a3f5f\"}, \"marker\": {\"line\": {\"color\": \"white\", \"width\": 0.5}}, \"type\": \"bar\"}], \"barpolar\": [{\"marker\": {\"line\": {\"color\": \"white\", \"width\": 0.5}}, \"type\": \"barpolar\"}], \"carpet\": [{\"aaxis\": {\"endlinecolor\": \"#2a3f5f\", \"gridcolor\": \"#C8D4E3\", \"linecolor\": \"#C8D4E3\", \"minorgridcolor\": \"#C8D4E3\", \"startlinecolor\": \"#2a3f5f\"}, \"baxis\": {\"endlinecolor\": \"#2a3f5f\", \"gridcolor\": \"#C8D4E3\", \"linecolor\": \"#C8D4E3\", \"minorgridcolor\": \"#C8D4E3\", \"startlinecolor\": \"#2a3f5f\"}, \"type\": \"carpet\"}], \"choropleth\": [{\"colorbar\": {\"outlinewidth\": 0, \"ticks\": \"\"}, \"type\": \"choropleth\"}], \"contour\": [{\"colorbar\": {\"outlinewidth\": 0, \"ticks\": \"\"}, \"colorscale\": [[0.0, \"#0d0887\"], [0.1111111111111111, \"#46039f\"], [0.2222222222222222, \"#7201a8\"], [0.3333333333333333, \"#9c179e\"], [0.4444444444444444, \"#bd3786\"], [0.5555555555555556, \"#d8576b\"], [0.6666666666666666, \"#ed7953\"], [0.7777777777777778, \"#fb9f3a\"], [0.8888888888888888, \"#fdca26\"], [1.0, \"#f0f921\"]], \"type\": \"contour\"}], \"contourcarpet\": [{\"colorbar\": {\"outlinewidth\": 0, \"ticks\": \"\"}, \"type\": \"contourcarpet\"}], \"heatmap\": [{\"colorbar\": {\"outlinewidth\": 0, \"ticks\": \"\"}, \"colorscale\": [[0.0, \"#0d0887\"], [0.1111111111111111, \"#46039f\"], [0.2222222222222222, \"#7201a8\"], [0.3333333333333333, \"#9c179e\"], [0.4444444444444444, \"#bd3786\"], [0.5555555555555556, \"#d8576b\"], [0.6666666666666666, \"#ed7953\"], [0.7777777777777778, \"#fb9f3a\"], [0.8888888888888888, \"#fdca26\"], [1.0, \"#f0f921\"]], \"type\": \"heatmap\"}], \"heatmapgl\": [{\"colorbar\": {\"outlinewidth\": 0, \"ticks\": \"\"}, \"colorscale\": [[0.0, \"#0d0887\"], [0.1111111111111111, \"#46039f\"], [0.2222222222222222, \"#7201a8\"], [0.3333333333333333, \"#9c179e\"], [0.4444444444444444, \"#bd3786\"], [0.5555555555555556, \"#d8576b\"], [0.6666666666666666, \"#ed7953\"], [0.7777777777777778, \"#fb9f3a\"], [0.8888888888888888, \"#fdca26\"], [1.0, \"#f0f921\"]], \"type\": \"heatmapgl\"}], \"histogram\": [{\"marker\": {\"colorbar\": {\"outlinewidth\": 0, \"ticks\": \"\"}}, \"type\": \"histogram\"}], \"histogram2d\": [{\"colorbar\": {\"outlinewidth\": 0, \"ticks\": \"\"}, \"colorscale\": [[0.0, \"#0d0887\"], [0.1111111111111111, \"#46039f\"], [0.2222222222222222, \"#7201a8\"], [0.3333333333333333, \"#9c179e\"], [0.4444444444444444, \"#bd3786\"], [0.5555555555555556, \"#d8576b\"], [0.6666666666666666, \"#ed7953\"], [0.7777777777777778, \"#fb9f3a\"], [0.8888888888888888, \"#fdca26\"], [1.0, \"#f0f921\"]], \"type\": \"histogram2d\"}], \"histogram2dcontour\": [{\"colorbar\": {\"outlinewidth\": 0, \"ticks\": \"\"}, \"colorscale\": [[0.0, \"#0d0887\"], [0.1111111111111111, \"#46039f\"], [0.2222222222222222, \"#7201a8\"], [0.3333333333333333, \"#9c179e\"], [0.4444444444444444, \"#bd3786\"], [0.5555555555555556, \"#d8576b\"], [0.6666666666666666, \"#ed7953\"], [0.7777777777777778, \"#fb9f3a\"], [0.8888888888888888, \"#fdca26\"], [1.0, \"#f0f921\"]], \"type\": \"histogram2dcontour\"}], \"mesh3d\": [{\"colorbar\": {\"outlinewidth\": 0, \"ticks\": \"\"}, \"type\": \"mesh3d\"}], \"parcoords\": [{\"line\": {\"colorbar\": {\"outlinewidth\": 0, \"ticks\": \"\"}}, \"type\": \"parcoords\"}], \"pie\": [{\"automargin\": true, \"type\": \"pie\"}], \"scatter\": [{\"marker\": {\"colorbar\": {\"outlinewidth\": 0, \"ticks\": \"\"}}, \"type\": \"scatter\"}], \"scatter3d\": [{\"line\": {\"colorbar\": {\"outlinewidth\": 0, \"ticks\": \"\"}}, \"marker\": {\"colorbar\": {\"outlinewidth\": 0, \"ticks\": \"\"}}, \"type\": \"scatter3d\"}], \"scattercarpet\": [{\"marker\": {\"colorbar\": {\"outlinewidth\": 0, \"ticks\": \"\"}}, \"type\": \"scattercarpet\"}], \"scattergeo\": [{\"marker\": {\"colorbar\": {\"outlinewidth\": 0, \"ticks\": \"\"}}, \"type\": \"scattergeo\"}], \"scattergl\": [{\"marker\": {\"colorbar\": {\"outlinewidth\": 0, \"ticks\": \"\"}}, \"type\": \"scattergl\"}], \"scattermapbox\": [{\"marker\": {\"colorbar\": {\"outlinewidth\": 0, \"ticks\": \"\"}}, \"type\": \"scattermapbox\"}], \"scatterpolar\": [{\"marker\": {\"colorbar\": {\"outlinewidth\": 0, \"ticks\": \"\"}}, \"type\": \"scatterpolar\"}], \"scatterpolargl\": [{\"marker\": {\"colorbar\": {\"outlinewidth\": 0, \"ticks\": \"\"}}, \"type\": \"scatterpolargl\"}], \"scatterternary\": [{\"marker\": {\"colorbar\": {\"outlinewidth\": 0, \"ticks\": \"\"}}, \"type\": \"scatterternary\"}], \"surface\": [{\"colorbar\": {\"outlinewidth\": 0, \"ticks\": \"\"}, \"colorscale\": [[0.0, \"#0d0887\"], [0.1111111111111111, \"#46039f\"], [0.2222222222222222, \"#7201a8\"], [0.3333333333333333, \"#9c179e\"], [0.4444444444444444, \"#bd3786\"], [0.5555555555555556, \"#d8576b\"], [0.6666666666666666, \"#ed7953\"], [0.7777777777777778, \"#fb9f3a\"], [0.8888888888888888, \"#fdca26\"], [1.0, \"#f0f921\"]], \"type\": \"surface\"}], \"table\": [{\"cells\": {\"fill\": {\"color\": \"#EBF0F8\"}, \"line\": {\"color\": \"white\"}}, \"header\": {\"fill\": {\"color\": \"#C8D4E3\"}, \"line\": {\"color\": \"white\"}}, \"type\": \"table\"}]}, \"layout\": {\"annotationdefaults\": {\"arrowcolor\": \"#2a3f5f\", \"arrowhead\": 0, \"arrowwidth\": 1}, \"coloraxis\": {\"colorbar\": {\"outlinewidth\": 0, \"ticks\": \"\"}}, \"colorscale\": {\"diverging\": [[0, \"#8e0152\"], [0.1, \"#c51b7d\"], [0.2, \"#de77ae\"], [0.3, \"#f1b6da\"], [0.4, \"#fde0ef\"], [0.5, \"#f7f7f7\"], [0.6, \"#e6f5d0\"], [0.7, \"#b8e186\"], [0.8, \"#7fbc41\"], [0.9, \"#4d9221\"], [1, \"#276419\"]], \"sequential\": [[0.0, \"#0d0887\"], [0.1111111111111111, \"#46039f\"], [0.2222222222222222, \"#7201a8\"], [0.3333333333333333, \"#9c179e\"], [0.4444444444444444, \"#bd3786\"], [0.5555555555555556, \"#d8576b\"], [0.6666666666666666, \"#ed7953\"], [0.7777777777777778, \"#fb9f3a\"], [0.8888888888888888, \"#fdca26\"], [1.0, \"#f0f921\"]], \"sequentialminus\": [[0.0, \"#0d0887\"], [0.1111111111111111, \"#46039f\"], [0.2222222222222222, \"#7201a8\"], [0.3333333333333333, \"#9c179e\"], [0.4444444444444444, \"#bd3786\"], [0.5555555555555556, \"#d8576b\"], [0.6666666666666666, \"#ed7953\"], [0.7777777777777778, \"#fb9f3a\"], [0.8888888888888888, \"#fdca26\"], [1.0, \"#f0f921\"]]}, \"colorway\": [\"#636efa\", \"#EF553B\", \"#00cc96\", \"#ab63fa\", \"#FFA15A\", \"#19d3f3\", \"#FF6692\", \"#B6E880\", \"#FF97FF\", \"#FECB52\"], \"font\": {\"color\": \"#2a3f5f\"}, \"geo\": {\"bgcolor\": \"white\", \"lakecolor\": \"white\", \"landcolor\": \"white\", \"showlakes\": true, \"showland\": true, \"subunitcolor\": \"#C8D4E3\"}, \"hoverlabel\": {\"align\": \"left\"}, \"hovermode\": \"closest\", \"mapbox\": {\"style\": \"light\"}, \"paper_bgcolor\": \"white\", \"plot_bgcolor\": \"white\", \"polar\": {\"angularaxis\": {\"gridcolor\": \"#EBF0F8\", \"linecolor\": \"#EBF0F8\", \"ticks\": \"\"}, \"bgcolor\": \"white\", \"radialaxis\": {\"gridcolor\": \"#EBF0F8\", \"linecolor\": \"#EBF0F8\", \"ticks\": \"\"}}, \"scene\": {\"xaxis\": {\"backgroundcolor\": \"white\", \"gridcolor\": \"#DFE8F3\", \"gridwidth\": 2, \"linecolor\": \"#EBF0F8\", \"showbackground\": true, \"ticks\": \"\", \"zerolinecolor\": \"#EBF0F8\"}, \"yaxis\": {\"backgroundcolor\": \"white\", \"gridcolor\": \"#DFE8F3\", \"gridwidth\": 2, \"linecolor\": \"#EBF0F8\", \"showbackground\": true, \"ticks\": \"\", \"zerolinecolor\": \"#EBF0F8\"}, \"zaxis\": {\"backgroundcolor\": \"white\", \"gridcolor\": \"#DFE8F3\", \"gridwidth\": 2, \"linecolor\": \"#EBF0F8\", \"showbackground\": true, \"ticks\": \"\", \"zerolinecolor\": \"#EBF0F8\"}}, \"shapedefaults\": {\"line\": {\"color\": \"#2a3f5f\"}}, \"ternary\": {\"aaxis\": {\"gridcolor\": \"#DFE8F3\", \"linecolor\": \"#A2B1C6\", \"ticks\": \"\"}, \"baxis\": {\"gridcolor\": \"#DFE8F3\", \"linecolor\": \"#A2B1C6\", \"ticks\": \"\"}, \"bgcolor\": \"white\", \"caxis\": {\"gridcolor\": \"#DFE8F3\", \"linecolor\": \"#A2B1C6\", \"ticks\": \"\"}}, \"title\": {\"x\": 0.05}, \"xaxis\": {\"automargin\": true, \"gridcolor\": \"#EBF0F8\", \"linecolor\": \"#EBF0F8\", \"ticks\": \"\", \"title\": {\"standoff\": 15}, \"zerolinecolor\": \"#EBF0F8\", \"zerolinewidth\": 2}, \"yaxis\": {\"automargin\": true, \"gridcolor\": \"#EBF0F8\", \"linecolor\": \"#EBF0F8\", \"ticks\": \"\", \"title\": {\"standoff\": 15}, \"zerolinecolor\": \"#EBF0F8\", \"zerolinewidth\": 2}}}, \"title\": {\"text\": \"Veh1 - Tire Forces\"}, \"width\": 900, \"xaxis\": {\"anchor\": \"y\", \"domain\": [0.0, 1.0], \"linecolor\": \"black\", \"linewidth\": 1, \"matches\": \"x2\", \"showgrid\": false, \"showline\": true, \"showticklabels\": false, \"tickcolor\": \"black\", \"ticklen\": 10, \"ticks\": \"outside\", \"tickwidth\": 1, \"title\": {\"text\": \"\"}, \"zeroline\": false}, \"xaxis2\": {\"anchor\": \"y2\", \"domain\": [0.0, 1.0], \"linecolor\": \"black\", \"linewidth\": 1, \"showgrid\": false, \"showline\": true, \"tickcolor\": \"black\", \"ticklen\": 10, \"ticks\": \"outside\", \"tickwidth\": 1, \"title\": {\"text\": \"Time (s)\"}, \"zeroline\": false}, \"yaxis\": {\"anchor\": \"x\", \"domain\": [0.525, 1.0], \"linecolor\": \"black\", \"linewidth\": 1, \"showgrid\": false, \"showline\": true, \"tickcolor\": \"black\", \"ticklen\": 10, \"ticks\": \"outside\", \"tickwidth\": 1, \"title\": {\"text\": \"Forward (lb)\"}, \"zeroline\": false}, \"yaxis2\": {\"anchor\": \"x2\", \"domain\": [0.0, 0.475], \"linecolor\": \"black\", \"linewidth\": 1, \"showgrid\": false, \"showline\": true, \"tickcolor\": \"black\", \"ticklen\": 10, \"ticks\": \"outside\", \"tickwidth\": 1, \"title\": {\"text\": \"Rightward (lb)\"}, \"zeroline\": false}},\n",
       "                        {\"responsive\": true}\n",
       "                    ).then(function(){\n",
       "                            \n",
       "var gd = document.getElementById('86dbff90-11a2-4e2b-ae0d-5aa00edee8fa');\n",
       "var x = new MutationObserver(function (mutations, observer) {{\n",
       "        var display = window.getComputedStyle(gd).display;\n",
       "        if (!display || display === 'none') {{\n",
       "            console.log([gd, 'removed!']);\n",
       "            Plotly.purge(gd);\n",
       "            observer.disconnect();\n",
       "        }}\n",
       "}});\n",
       "\n",
       "// Listen for the removal of the full notebook cells\n",
       "var notebookContainer = gd.closest('#notebook-container');\n",
       "if (notebookContainer) {{\n",
       "    x.observe(notebookContainer, {childList: true});\n",
       "}}\n",
       "\n",
       "// Listen for the clearing of the current output cell\n",
       "var outputEl = gd.closest('.output');\n",
       "if (outputEl) {{\n",
       "    x.observe(outputEl, {childList: true});\n",
       "}}\n",
       "\n",
       "                        })\n",
       "                };\n",
       "                });\n",
       "            </script>\n",
       "        </div>"
      ]
     },
     "metadata": {},
     "output_type": "display_data"
    },
    {
     "data": {
      "application/vnd.plotly.v1+json": {
       "config": {
        "plotlyServerURL": "https://plot.ly"
       },
       "data": [
        {
         "line": {
          "color": "rgb(0, 0, 0)",
          "width": 2
         },
         "mode": "lines",
         "name": "heading",
         "type": "scatter",
         "x": [
          0,
          0.1,
          0.2,
          0.3,
          0.4,
          0.5,
          0.6,
          0.7,
          0.8,
          0.9,
          1,
          1.1,
          1.2,
          1.3,
          1.4,
          1.5,
          1.6,
          1.7,
          1.8,
          1.9,
          2,
          2.1,
          2.2,
          2.3,
          2.4,
          2.5,
          2.6,
          2.7,
          2.8,
          2.9,
          3,
          3.1,
          3.2,
          3.3,
          3.4,
          3.5,
          3.6,
          3.7,
          3.8,
          3.9,
          4,
          4.1,
          4.2,
          4.3,
          4.4,
          4.5,
          4.6,
          4.7,
          4.8,
          4.9,
          5,
          5.1,
          5.2,
          5.3,
          5.4,
          5.5,
          5.6,
          5.7,
          5.8,
          5.9,
          6,
          6.1,
          6.2,
          6.3,
          6.4,
          6.5,
          6.6,
          6.7,
          6.8,
          6.9,
          7,
          7.1,
          7.2,
          7.3,
          7.4,
          7.5,
          7.6,
          7.7,
          7.8,
          7.9,
          8,
          8.1,
          8.2,
          8.3,
          8.4,
          8.5,
          8.6,
          8.7,
          8.8,
          8.9,
          9,
          9.1,
          9.2,
          9.3,
          9.4,
          9.5,
          9.6,
          9.7,
          9.8,
          9.9,
          10,
          10.1,
          10.2,
          10.3,
          10.4,
          10.5,
          10.6,
          10.7,
          10.8,
          10.9
         ],
         "xaxis": "x",
         "y": [
          0,
          0,
          0,
          0,
          0,
          0,
          0,
          0,
          0,
          0,
          0,
          -0.0728916891642895,
          -0.42421588931936927,
          -1.2675549646135786,
          -2.7021387363977727,
          -4.733802988807381,
          -7.332364110224208,
          -10.46615353018186,
          -14.110180645680984,
          -18.241847102378546,
          -22.828771962252976,
          -27.77357611906898,
          -32.88329977894602,
          -37.969382826176485,
          -42.94771924795441,
          -47.82202998393499,
          -52.62264166816481,
          -57.36932447878776,
          -62.06666787050173,
          -66.71319330587453,
          -71.30852365420775,
          -75.85475345099594,
          -80.35487295927706,
          -84.8113782115501,
          -89.22602756671395,
          -93.6002185995192,
          -97.93531425653542,
          -102.23270589388098,
          -106.49373629869875,
          -110.71963777675927,
          -114.91153209439983,
          -119.07046077947462,
          -123.19740867819377,
          -127.29331084268105,
          -131.35905148724993,
          -135.39546429922214,
          -139.40333630650264,
          -143.38341299215475,
          -147.33640243358894,
          -151.26297808851476,
          -155.1637809211257,
          -159.03942146706441,
          -162.8904819470464,
          -166.71751827784288,
          -170.5210618623135,
          -174.30162116151703,
          -178.05968311128504,
          -181.79571443267272,
          -185.5101628525987,
          -189.20345823373626,
          -192.87601361366717,
          -196.52822616011446,
          -200.16047805271603,
          -203.7731373008807,
          -207.3665585043847,
          -210.94108356109035,
          -214.4970423254118,
          -218.03475322137783,
          -221.55452381438442,
          -225.0566513454672,
          -228.54142323128622,
          -232.00911753243497,
          -235.46000339239038,
          -238.8943414493338,
          -242.31238422298077,
          -245.71437647836436,
          -249.10055556827862,
          -252.4711517558946,
          -255.82638851894356,
          -259.166482836772,
          -262.49164546147864,
          -265.80208117423354,
          -269.0979890277741,
          -272.379562575993,
          -275.6469900914648,
          -278.90045477169735,
          -282.14013493483435,
          -285.3662042054737,
          -288.5788316912183,
          -291.7781821505278,
          -294.96441615240326,
          -298.13769022839415,
          -301.2981570173855,
          -304.4459654035875,
          -307.5812606481217,
          -310.70418451457067,
          -313.8148753888334,
          -316.91346839360517,
          -320.00009549777957,
          -323.0748856210511,
          -326.1379647339775,
          -329.1894559537455,
          -332.2294796358681,
          -335.2581534620262,
          -338.2755925242548,
          -341.2819094056618,
          -344.2772142578547,
          -347.26161487524286,
          -350.2352167663685,
          -353.1981232224147
         ],
         "yaxis": "y"
        },
        {
         "line": {
          "color": "rgb(0, 255, 0)",
          "width": 2
         },
         "mode": "lines",
         "name": "omega",
         "type": "scatter",
         "x": [
          0,
          0.1,
          0.2,
          0.3,
          0.4,
          0.5,
          0.6,
          0.7,
          0.8,
          0.9,
          1,
          1.1,
          1.2,
          1.3,
          1.4,
          1.5,
          1.6,
          1.7,
          1.8,
          1.9,
          2,
          2.1,
          2.2,
          2.3,
          2.4,
          2.5,
          2.6,
          2.7,
          2.8,
          2.9,
          3,
          3.1,
          3.2,
          3.3,
          3.4,
          3.5,
          3.6,
          3.7,
          3.8,
          3.9,
          4,
          4.1,
          4.2,
          4.3,
          4.4,
          4.5,
          4.6,
          4.7,
          4.8,
          4.9,
          5,
          5.1,
          5.2,
          5.3,
          5.4,
          5.5,
          5.6,
          5.7,
          5.8,
          5.9,
          6,
          6.1,
          6.2,
          6.3,
          6.4,
          6.5,
          6.6,
          6.7,
          6.8,
          6.9,
          7,
          7.1,
          7.2,
          7.3,
          7.4,
          7.5,
          7.6,
          7.7,
          7.8,
          7.9,
          8,
          8.1,
          8.2,
          8.3,
          8.4,
          8.5,
          8.6,
          8.7,
          8.8,
          8.9,
          9,
          9.1,
          9.2,
          9.3,
          9.4,
          9.5,
          9.6,
          9.7,
          9.8,
          9.9,
          10,
          10.1,
          10.2,
          10.3,
          10.4,
          10.5,
          10.6,
          10.7,
          10.8,
          10.9
         ],
         "xaxis": "x2",
         "y": [
          0,
          0,
          0,
          0,
          0,
          0,
          0,
          0,
          0,
          0,
          0,
          -1.45783378328579,
          -5.568650219815805,
          -11.298131286068385,
          -17.393544149615494,
          -23.239740898576667,
          -28.73148152975986,
          -33.94430686939317,
          -38.9362354405893,
          -43.69709369336195,
          -48.04140350412669,
          -50.854679632193374,
          -51.33979356534729,
          -50.381867379262125,
          -49.18486105629632,
          -48.301353663315226,
          -47.710880021281355,
          -47.2227761911775,
          -46.72409164310198,
          -46.206417064353964,
          -45.70018990231022,
          -45.22440603345397,
          -44.777984132168555,
          -44.352120913292346,
          -43.94086618998448,
          -43.54295446612026,
          -43.158958674204364,
          -42.788874072706776,
          -42.431734023648815,
          -42.08629553756147,
          -41.75159081524991,
          -41.426982886246165,
          -41.11197508813682,
          -40.80606820160849,
          -40.50874468976908,
          -40.21951154967515,
          -39.93792859593517,
          -39.66360511710669,
          -39.39618371157716,
          -39.13532938693934,
          -38.88072726527916,
          -38.63208365349507,
          -38.38912594614433,
          -38.15160066978624,
          -37.91927101962543,
          -37.691914964445765,
          -37.46932403091431,
          -37.251302396839215,
          -37.03766600168009,
          -36.82824162107155,
          -36.62286597754625,
          -36.42138495139981,
          -36.22365290063133,
          -36.029532062662305,
          -35.8388920074179,
          -35.65160912669497,
          -35.46756615973411,
          -35.28665175958577,
          -35.10876010054662,
          -34.93379052110865,
          -34.761647195271465,
          -34.592238827703284,
          -34.42547837140505,
          -34.26128276746378,
          -34.09957270547544,
          -33.94027240219686,
          -33.78330939608777,
          -33.62861435623234,
          -33.476120904747084,
          -33.325765451820686,
          -33.17748704231278,
          -33.031227212785275,
          -32.886929858026086,
          -32.744541106352216,
          -32.60400920308269,
          -32.46528440156914,
          -32.32831886117092,
          -32.193066551616326,
          -32.05948316327385,
          -31.92752602291694,
          -31.79715401459311,
          -31.66832750522551,
          -31.541008274601428,
          -31.415159449437844,
          -31.29074544124538,
          -31.167731887734092,
          -31.04608559752076,
          -30.925774497914315,
          -30.80676758557454,
          -30.6890348798569,
          -30.57254737867059,
          -30.45727701668901,
          -30.343196625763134,
          -30.230279897399328,
          -30.11850134717378,
          -30.00783628096498,
          -29.89826076289396,
          -29.789751584869535,
          -29.68228623764284,
          -29.575842883282345
         ],
         "yaxis": "y2"
        },
        {
         "line": {
          "color": "rgb(204, 0, 0)",
          "width": 2
         },
         "mode": "lines",
         "name": "alpha",
         "type": "scatter",
         "x": [
          0,
          0.1,
          0.2,
          0.3,
          0.4,
          0.5,
          0.6,
          0.7,
          0.8,
          0.9,
          1,
          1.1,
          1.2,
          1.3,
          1.4,
          1.5,
          1.6,
          1.7,
          1.8,
          1.9,
          2,
          2.1,
          2.2,
          2.3,
          2.4,
          2.5,
          2.6,
          2.7,
          2.8,
          2.9,
          3,
          3.1,
          3.2,
          3.3,
          3.4,
          3.5,
          3.6,
          3.7,
          3.8,
          3.9,
          4,
          4.1,
          4.2,
          4.3,
          4.4,
          4.5,
          4.6,
          4.7,
          4.8,
          4.9,
          5,
          5.1,
          5.2,
          5.3,
          5.4,
          5.5,
          5.6,
          5.7,
          5.8,
          5.9,
          6,
          6.1,
          6.2,
          6.3,
          6.4,
          6.5,
          6.6,
          6.7,
          6.8,
          6.9,
          7,
          7.1,
          7.2,
          7.3,
          7.4,
          7.5,
          7.6,
          7.7,
          7.8,
          7.9,
          8,
          8.1,
          8.2,
          8.3,
          8.4,
          8.5,
          8.6,
          8.7,
          8.8,
          8.9,
          9,
          9.1,
          9.2,
          9.3,
          9.4,
          9.5,
          9.6,
          9.7,
          9.8,
          9.9,
          10,
          10.1,
          10.2,
          10.3,
          10.4,
          10.5,
          10.6,
          10.7,
          10.8,
          10.9
         ],
         "xaxis": "x2",
         "y": [
          0,
          0,
          0,
          0,
          0,
          0,
          0,
          0,
          0,
          0,
          0,
          -29.156675665715795,
          -53.05965306488449,
          -61.52996826016709,
          -60.37828901077509,
          -56.545645968448405,
          -53.289166655215375,
          -50.96734013745088,
          -48.87123128647174,
          -46.345933768981205,
          -40.54026244631358,
          -15.725260115020014,
          6.0229814519416305,
          13.135542269761542,
          10.804584189554546,
          6.865563670067483,
          4.943909170610017,
          4.81816743146698,
          5.155523530043366,
          5.197968044916989,
          4.926575195957789,
          4.589102181167387,
          4.339335844540815,
          4.177928532983614,
          4.0471659331735035,
          3.911068544111132,
          3.7688472942065605,
          3.632844735745201,
          3.509956245413991,
          3.398813476333008,
          3.295280969898137,
          3.196877610176848,
          3.103278352009925,
          3.014859378556764,
          2.9316108582314677,
          2.853051943647052,
          2.7786071311525093,
          2.7078624454172044,
          2.640565665173306,
          2.576520827583009,
          2.515521605620542,
          2.4573506300612022,
          2.4018035169534997,
          2.3487020102084895,
          2.2978909930078064,
          2.2492301105854353,
          2.2025885600436097,
          2.15784412145832,
          2.1148837817242714,
          2.073603830446511,
          2.0339090400594793,
          1.9957114828692957,
          1.9589295325002103,
          1.9234872268803713,
          1.8893138780077074,
          1.8563437364506903,
          1.8245156027666554,
          1.793772400200157,
          1.7640607805828545,
          1.7353308081765846,
          1.7075357085670455,
          1.6806316427965595,
          1.6545774831681486,
          1.6293345956571754,
          1.6048666441096013,
          1.5811394214620296,
          1.5581207007197235,
          1.5357800963889279,
          1.5140889333161656,
          1.4930201252117892,
          1.4725480649463574,
          1.452648525603713,
          1.4332985695800928,
          1.4144764638973615,
          1.3961616014932834,
          1.3783344287775514,
          1.3609763791868892,
          1.3440698119048844,
          1.3275979549444472,
          1.3115448521939232,
          1.2958953142827072,
          1.280634873069349,
          1.265749739412308,
          1.2512267638594075,
          1.2370533999898454,
          1.223217670235878,
          1.2097081340307025,
          1.1965138580983092,
          1.183624388697182,
          1.171029725655513,
          1.1587202980706865,
          1.1466869415609182,
          1.1349208769566068,
          1.1234136903195109,
          1.1121573141914327,
          1.101144009984597,
          1.0903663514358404,
          1.0798172090527118,
          1.0694897354811816,
          1.0593773517287557
         ],
         "yaxis": "y2"
        }
       ],
       "layout": {
        "autosize": false,
        "font": {
         "color": "black",
         "family": "Arial",
         "size": 14
        },
        "height": 500,
        "legend": {
         "orientation": "h",
         "x": 0.01,
         "xanchor": "left",
         "y": 1.1,
         "yanchor": "top"
        },
        "template": {
         "data": {
          "bar": [
           {
            "error_x": {
             "color": "#2a3f5f"
            },
            "error_y": {
             "color": "#2a3f5f"
            },
            "marker": {
             "line": {
              "color": "white",
              "width": 0.5
             }
            },
            "type": "bar"
           }
          ],
          "barpolar": [
           {
            "marker": {
             "line": {
              "color": "white",
              "width": 0.5
             }
            },
            "type": "barpolar"
           }
          ],
          "carpet": [
           {
            "aaxis": {
             "endlinecolor": "#2a3f5f",
             "gridcolor": "#C8D4E3",
             "linecolor": "#C8D4E3",
             "minorgridcolor": "#C8D4E3",
             "startlinecolor": "#2a3f5f"
            },
            "baxis": {
             "endlinecolor": "#2a3f5f",
             "gridcolor": "#C8D4E3",
             "linecolor": "#C8D4E3",
             "minorgridcolor": "#C8D4E3",
             "startlinecolor": "#2a3f5f"
            },
            "type": "carpet"
           }
          ],
          "choropleth": [
           {
            "colorbar": {
             "outlinewidth": 0,
             "ticks": ""
            },
            "type": "choropleth"
           }
          ],
          "contour": [
           {
            "colorbar": {
             "outlinewidth": 0,
             "ticks": ""
            },
            "colorscale": [
             [
              0,
              "#0d0887"
             ],
             [
              0.1111111111111111,
              "#46039f"
             ],
             [
              0.2222222222222222,
              "#7201a8"
             ],
             [
              0.3333333333333333,
              "#9c179e"
             ],
             [
              0.4444444444444444,
              "#bd3786"
             ],
             [
              0.5555555555555556,
              "#d8576b"
             ],
             [
              0.6666666666666666,
              "#ed7953"
             ],
             [
              0.7777777777777778,
              "#fb9f3a"
             ],
             [
              0.8888888888888888,
              "#fdca26"
             ],
             [
              1,
              "#f0f921"
             ]
            ],
            "type": "contour"
           }
          ],
          "contourcarpet": [
           {
            "colorbar": {
             "outlinewidth": 0,
             "ticks": ""
            },
            "type": "contourcarpet"
           }
          ],
          "heatmap": [
           {
            "colorbar": {
             "outlinewidth": 0,
             "ticks": ""
            },
            "colorscale": [
             [
              0,
              "#0d0887"
             ],
             [
              0.1111111111111111,
              "#46039f"
             ],
             [
              0.2222222222222222,
              "#7201a8"
             ],
             [
              0.3333333333333333,
              "#9c179e"
             ],
             [
              0.4444444444444444,
              "#bd3786"
             ],
             [
              0.5555555555555556,
              "#d8576b"
             ],
             [
              0.6666666666666666,
              "#ed7953"
             ],
             [
              0.7777777777777778,
              "#fb9f3a"
             ],
             [
              0.8888888888888888,
              "#fdca26"
             ],
             [
              1,
              "#f0f921"
             ]
            ],
            "type": "heatmap"
           }
          ],
          "heatmapgl": [
           {
            "colorbar": {
             "outlinewidth": 0,
             "ticks": ""
            },
            "colorscale": [
             [
              0,
              "#0d0887"
             ],
             [
              0.1111111111111111,
              "#46039f"
             ],
             [
              0.2222222222222222,
              "#7201a8"
             ],
             [
              0.3333333333333333,
              "#9c179e"
             ],
             [
              0.4444444444444444,
              "#bd3786"
             ],
             [
              0.5555555555555556,
              "#d8576b"
             ],
             [
              0.6666666666666666,
              "#ed7953"
             ],
             [
              0.7777777777777778,
              "#fb9f3a"
             ],
             [
              0.8888888888888888,
              "#fdca26"
             ],
             [
              1,
              "#f0f921"
             ]
            ],
            "type": "heatmapgl"
           }
          ],
          "histogram": [
           {
            "marker": {
             "colorbar": {
              "outlinewidth": 0,
              "ticks": ""
             }
            },
            "type": "histogram"
           }
          ],
          "histogram2d": [
           {
            "colorbar": {
             "outlinewidth": 0,
             "ticks": ""
            },
            "colorscale": [
             [
              0,
              "#0d0887"
             ],
             [
              0.1111111111111111,
              "#46039f"
             ],
             [
              0.2222222222222222,
              "#7201a8"
             ],
             [
              0.3333333333333333,
              "#9c179e"
             ],
             [
              0.4444444444444444,
              "#bd3786"
             ],
             [
              0.5555555555555556,
              "#d8576b"
             ],
             [
              0.6666666666666666,
              "#ed7953"
             ],
             [
              0.7777777777777778,
              "#fb9f3a"
             ],
             [
              0.8888888888888888,
              "#fdca26"
             ],
             [
              1,
              "#f0f921"
             ]
            ],
            "type": "histogram2d"
           }
          ],
          "histogram2dcontour": [
           {
            "colorbar": {
             "outlinewidth": 0,
             "ticks": ""
            },
            "colorscale": [
             [
              0,
              "#0d0887"
             ],
             [
              0.1111111111111111,
              "#46039f"
             ],
             [
              0.2222222222222222,
              "#7201a8"
             ],
             [
              0.3333333333333333,
              "#9c179e"
             ],
             [
              0.4444444444444444,
              "#bd3786"
             ],
             [
              0.5555555555555556,
              "#d8576b"
             ],
             [
              0.6666666666666666,
              "#ed7953"
             ],
             [
              0.7777777777777778,
              "#fb9f3a"
             ],
             [
              0.8888888888888888,
              "#fdca26"
             ],
             [
              1,
              "#f0f921"
             ]
            ],
            "type": "histogram2dcontour"
           }
          ],
          "mesh3d": [
           {
            "colorbar": {
             "outlinewidth": 0,
             "ticks": ""
            },
            "type": "mesh3d"
           }
          ],
          "parcoords": [
           {
            "line": {
             "colorbar": {
              "outlinewidth": 0,
              "ticks": ""
             }
            },
            "type": "parcoords"
           }
          ],
          "pie": [
           {
            "automargin": true,
            "type": "pie"
           }
          ],
          "scatter": [
           {
            "marker": {
             "colorbar": {
              "outlinewidth": 0,
              "ticks": ""
             }
            },
            "type": "scatter"
           }
          ],
          "scatter3d": [
           {
            "line": {
             "colorbar": {
              "outlinewidth": 0,
              "ticks": ""
             }
            },
            "marker": {
             "colorbar": {
              "outlinewidth": 0,
              "ticks": ""
             }
            },
            "type": "scatter3d"
           }
          ],
          "scattercarpet": [
           {
            "marker": {
             "colorbar": {
              "outlinewidth": 0,
              "ticks": ""
             }
            },
            "type": "scattercarpet"
           }
          ],
          "scattergeo": [
           {
            "marker": {
             "colorbar": {
              "outlinewidth": 0,
              "ticks": ""
             }
            },
            "type": "scattergeo"
           }
          ],
          "scattergl": [
           {
            "marker": {
             "colorbar": {
              "outlinewidth": 0,
              "ticks": ""
             }
            },
            "type": "scattergl"
           }
          ],
          "scattermapbox": [
           {
            "marker": {
             "colorbar": {
              "outlinewidth": 0,
              "ticks": ""
             }
            },
            "type": "scattermapbox"
           }
          ],
          "scatterpolar": [
           {
            "marker": {
             "colorbar": {
              "outlinewidth": 0,
              "ticks": ""
             }
            },
            "type": "scatterpolar"
           }
          ],
          "scatterpolargl": [
           {
            "marker": {
             "colorbar": {
              "outlinewidth": 0,
              "ticks": ""
             }
            },
            "type": "scatterpolargl"
           }
          ],
          "scatterternary": [
           {
            "marker": {
             "colorbar": {
              "outlinewidth": 0,
              "ticks": ""
             }
            },
            "type": "scatterternary"
           }
          ],
          "surface": [
           {
            "colorbar": {
             "outlinewidth": 0,
             "ticks": ""
            },
            "colorscale": [
             [
              0,
              "#0d0887"
             ],
             [
              0.1111111111111111,
              "#46039f"
             ],
             [
              0.2222222222222222,
              "#7201a8"
             ],
             [
              0.3333333333333333,
              "#9c179e"
             ],
             [
              0.4444444444444444,
              "#bd3786"
             ],
             [
              0.5555555555555556,
              "#d8576b"
             ],
             [
              0.6666666666666666,
              "#ed7953"
             ],
             [
              0.7777777777777778,
              "#fb9f3a"
             ],
             [
              0.8888888888888888,
              "#fdca26"
             ],
             [
              1,
              "#f0f921"
             ]
            ],
            "type": "surface"
           }
          ],
          "table": [
           {
            "cells": {
             "fill": {
              "color": "#EBF0F8"
             },
             "line": {
              "color": "white"
             }
            },
            "header": {
             "fill": {
              "color": "#C8D4E3"
             },
             "line": {
              "color": "white"
             }
            },
            "type": "table"
           }
          ]
         },
         "layout": {
          "annotationdefaults": {
           "arrowcolor": "#2a3f5f",
           "arrowhead": 0,
           "arrowwidth": 1
          },
          "coloraxis": {
           "colorbar": {
            "outlinewidth": 0,
            "ticks": ""
           }
          },
          "colorscale": {
           "diverging": [
            [
             0,
             "#8e0152"
            ],
            [
             0.1,
             "#c51b7d"
            ],
            [
             0.2,
             "#de77ae"
            ],
            [
             0.3,
             "#f1b6da"
            ],
            [
             0.4,
             "#fde0ef"
            ],
            [
             0.5,
             "#f7f7f7"
            ],
            [
             0.6,
             "#e6f5d0"
            ],
            [
             0.7,
             "#b8e186"
            ],
            [
             0.8,
             "#7fbc41"
            ],
            [
             0.9,
             "#4d9221"
            ],
            [
             1,
             "#276419"
            ]
           ],
           "sequential": [
            [
             0,
             "#0d0887"
            ],
            [
             0.1111111111111111,
             "#46039f"
            ],
            [
             0.2222222222222222,
             "#7201a8"
            ],
            [
             0.3333333333333333,
             "#9c179e"
            ],
            [
             0.4444444444444444,
             "#bd3786"
            ],
            [
             0.5555555555555556,
             "#d8576b"
            ],
            [
             0.6666666666666666,
             "#ed7953"
            ],
            [
             0.7777777777777778,
             "#fb9f3a"
            ],
            [
             0.8888888888888888,
             "#fdca26"
            ],
            [
             1,
             "#f0f921"
            ]
           ],
           "sequentialminus": [
            [
             0,
             "#0d0887"
            ],
            [
             0.1111111111111111,
             "#46039f"
            ],
            [
             0.2222222222222222,
             "#7201a8"
            ],
            [
             0.3333333333333333,
             "#9c179e"
            ],
            [
             0.4444444444444444,
             "#bd3786"
            ],
            [
             0.5555555555555556,
             "#d8576b"
            ],
            [
             0.6666666666666666,
             "#ed7953"
            ],
            [
             0.7777777777777778,
             "#fb9f3a"
            ],
            [
             0.8888888888888888,
             "#fdca26"
            ],
            [
             1,
             "#f0f921"
            ]
           ]
          },
          "colorway": [
           "#636efa",
           "#EF553B",
           "#00cc96",
           "#ab63fa",
           "#FFA15A",
           "#19d3f3",
           "#FF6692",
           "#B6E880",
           "#FF97FF",
           "#FECB52"
          ],
          "font": {
           "color": "#2a3f5f"
          },
          "geo": {
           "bgcolor": "white",
           "lakecolor": "white",
           "landcolor": "white",
           "showlakes": true,
           "showland": true,
           "subunitcolor": "#C8D4E3"
          },
          "hoverlabel": {
           "align": "left"
          },
          "hovermode": "closest",
          "mapbox": {
           "style": "light"
          },
          "paper_bgcolor": "white",
          "plot_bgcolor": "white",
          "polar": {
           "angularaxis": {
            "gridcolor": "#EBF0F8",
            "linecolor": "#EBF0F8",
            "ticks": ""
           },
           "bgcolor": "white",
           "radialaxis": {
            "gridcolor": "#EBF0F8",
            "linecolor": "#EBF0F8",
            "ticks": ""
           }
          },
          "scene": {
           "xaxis": {
            "backgroundcolor": "white",
            "gridcolor": "#DFE8F3",
            "gridwidth": 2,
            "linecolor": "#EBF0F8",
            "showbackground": true,
            "ticks": "",
            "zerolinecolor": "#EBF0F8"
           },
           "yaxis": {
            "backgroundcolor": "white",
            "gridcolor": "#DFE8F3",
            "gridwidth": 2,
            "linecolor": "#EBF0F8",
            "showbackground": true,
            "ticks": "",
            "zerolinecolor": "#EBF0F8"
           },
           "zaxis": {
            "backgroundcolor": "white",
            "gridcolor": "#DFE8F3",
            "gridwidth": 2,
            "linecolor": "#EBF0F8",
            "showbackground": true,
            "ticks": "",
            "zerolinecolor": "#EBF0F8"
           }
          },
          "shapedefaults": {
           "line": {
            "color": "#2a3f5f"
           }
          },
          "ternary": {
           "aaxis": {
            "gridcolor": "#DFE8F3",
            "linecolor": "#A2B1C6",
            "ticks": ""
           },
           "baxis": {
            "gridcolor": "#DFE8F3",
            "linecolor": "#A2B1C6",
            "ticks": ""
           },
           "bgcolor": "white",
           "caxis": {
            "gridcolor": "#DFE8F3",
            "linecolor": "#A2B1C6",
            "ticks": ""
           }
          },
          "title": {
           "x": 0.05
          },
          "xaxis": {
           "automargin": true,
           "gridcolor": "#EBF0F8",
           "linecolor": "#EBF0F8",
           "ticks": "",
           "title": {
            "standoff": 15
           },
           "zerolinecolor": "#EBF0F8",
           "zerolinewidth": 2
          },
          "yaxis": {
           "automargin": true,
           "gridcolor": "#EBF0F8",
           "linecolor": "#EBF0F8",
           "ticks": "",
           "title": {
            "standoff": 15
           },
           "zerolinecolor": "#EBF0F8",
           "zerolinewidth": 2
          }
         }
        },
        "title": {
         "text": "Veh1 Heading and Rotation"
        },
        "width": 900,
        "xaxis": {
         "anchor": "y",
         "domain": [
          0,
          1
         ],
         "linecolor": "black",
         "linewidth": 1,
         "matches": "x2",
         "showgrid": false,
         "showline": true,
         "showticklabels": false,
         "tickcolor": "black",
         "ticklen": 10,
         "ticks": "outside",
         "tickwidth": 1,
         "title": {
          "text": ""
         },
         "zeroline": false
        },
        "xaxis2": {
         "anchor": "y2",
         "domain": [
          0,
          1
         ],
         "linecolor": "black",
         "linewidth": 1,
         "showgrid": false,
         "showline": true,
         "tickcolor": "black",
         "ticklen": 10,
         "ticks": "outside",
         "tickwidth": 1,
         "title": {
          "text": "Time (s)"
         },
         "zeroline": false
        },
        "yaxis": {
         "anchor": "x",
         "domain": [
          0.5349999999999999,
          0.9999999999999999
         ],
         "linecolor": "black",
         "linewidth": 1,
         "showgrid": false,
         "showline": true,
         "tickcolor": "black",
         "ticklen": 10,
         "ticks": "outside",
         "tickwidth": 1,
         "title": {
          "text": "Heading (deg)"
         },
         "zeroline": false
        },
        "yaxis2": {
         "anchor": "x2",
         "domain": [
          0,
          0.46499999999999997
         ],
         "linecolor": "black",
         "linewidth": 1,
         "showgrid": false,
         "showline": true,
         "tickcolor": "black",
         "ticklen": 10,
         "ticks": "outside",
         "tickwidth": 1,
         "title": {
          "text": "Omega (deg/s), Alpha (deg/s/s)"
         },
         "zeroline": false
        }
       }
      },
      "text/html": [
       "<div>\n",
       "        \n",
       "        \n",
       "            <div id=\"de287f68-fee9-48fd-8353-cee4891b97e4\" class=\"plotly-graph-div\" style=\"height:500px; width:900px;\"></div>\n",
       "            <script type=\"text/javascript\">\n",
       "                require([\"plotly\"], function(Plotly) {\n",
       "                    window.PLOTLYENV=window.PLOTLYENV || {};\n",
       "                    \n",
       "                if (document.getElementById(\"de287f68-fee9-48fd-8353-cee4891b97e4\")) {\n",
       "                    Plotly.newPlot(\n",
       "                        'de287f68-fee9-48fd-8353-cee4891b97e4',\n",
       "                        [{\"line\": {\"color\": \"rgb(0, 0, 0)\", \"width\": 2}, \"mode\": \"lines\", \"name\": \"heading\", \"type\": \"scatter\", \"x\": [0.0, 0.1, 0.2, 0.3, 0.4, 0.5, 0.6, 0.7, 0.8, 0.9, 1.0, 1.1, 1.2, 1.3, 1.4, 1.5, 1.6, 1.7, 1.8, 1.9, 2.0, 2.1, 2.2, 2.3, 2.4, 2.5, 2.6, 2.7, 2.8, 2.9, 3.0, 3.1, 3.2, 3.3, 3.4, 3.5, 3.6, 3.7, 3.8, 3.9, 4.0, 4.1, 4.2, 4.3, 4.4, 4.5, 4.6, 4.7, 4.8, 4.9, 5.0, 5.1, 5.2, 5.3, 5.4, 5.5, 5.6, 5.7, 5.8, 5.9, 6.0, 6.1, 6.2, 6.3, 6.4, 6.5, 6.6, 6.7, 6.8, 6.9, 7.0, 7.1, 7.2, 7.3, 7.4, 7.5, 7.6, 7.7, 7.8, 7.9, 8.0, 8.1, 8.2, 8.3, 8.4, 8.5, 8.6, 8.7, 8.8, 8.9, 9.0, 9.1, 9.2, 9.3, 9.4, 9.5, 9.6, 9.7, 9.8, 9.9, 10.0, 10.1, 10.2, 10.3, 10.4, 10.5, 10.6, 10.7, 10.8, 10.9], \"xaxis\": \"x\", \"y\": [0.0, 0.0, 0.0, 0.0, 0.0, 0.0, 0.0, 0.0, 0.0, 0.0, 0.0, -0.0728916891642895, -0.42421588931936927, -1.2675549646135786, -2.7021387363977727, -4.733802988807381, -7.332364110224208, -10.46615353018186, -14.110180645680984, -18.241847102378546, -22.828771962252976, -27.77357611906898, -32.88329977894602, -37.969382826176485, -42.94771924795441, -47.82202998393499, -52.62264166816481, -57.36932447878776, -62.06666787050173, -66.71319330587453, -71.30852365420775, -75.85475345099594, -80.35487295927706, -84.8113782115501, -89.22602756671395, -93.6002185995192, -97.93531425653542, -102.23270589388098, -106.49373629869875, -110.71963777675927, -114.91153209439983, -119.07046077947462, -123.19740867819377, -127.29331084268105, -131.35905148724993, -135.39546429922214, -139.40333630650264, -143.38341299215475, -147.33640243358894, -151.26297808851476, -155.1637809211257, -159.03942146706441, -162.8904819470464, -166.71751827784288, -170.5210618623135, -174.30162116151703, -178.05968311128504, -181.79571443267272, -185.5101628525987, -189.20345823373626, -192.87601361366717, -196.52822616011446, -200.16047805271603, -203.7731373008807, -207.3665585043847, -210.94108356109035, -214.4970423254118, -218.03475322137783, -221.55452381438442, -225.0566513454672, -228.54142323128622, -232.00911753243497, -235.46000339239038, -238.8943414493338, -242.31238422298077, -245.71437647836436, -249.10055556827862, -252.4711517558946, -255.82638851894356, -259.166482836772, -262.49164546147864, -265.80208117423354, -269.0979890277741, -272.379562575993, -275.6469900914648, -278.90045477169735, -282.14013493483435, -285.3662042054737, -288.5788316912183, -291.7781821505278, -294.96441615240326, -298.13769022839415, -301.2981570173855, -304.4459654035875, -307.5812606481217, -310.70418451457067, -313.8148753888334, -316.91346839360517, -320.00009549777957, -323.0748856210511, -326.1379647339775, -329.1894559537455, -332.2294796358681, -335.2581534620262, -338.2755925242548, -341.2819094056618, -344.2772142578547, -347.26161487524286, -350.2352167663685, -353.1981232224147], \"yaxis\": \"y\"}, {\"line\": {\"color\": \"rgb(0, 255, 0)\", \"width\": 2}, \"mode\": \"lines\", \"name\": \"omega\", \"type\": \"scatter\", \"x\": [0.0, 0.1, 0.2, 0.3, 0.4, 0.5, 0.6, 0.7, 0.8, 0.9, 1.0, 1.1, 1.2, 1.3, 1.4, 1.5, 1.6, 1.7, 1.8, 1.9, 2.0, 2.1, 2.2, 2.3, 2.4, 2.5, 2.6, 2.7, 2.8, 2.9, 3.0, 3.1, 3.2, 3.3, 3.4, 3.5, 3.6, 3.7, 3.8, 3.9, 4.0, 4.1, 4.2, 4.3, 4.4, 4.5, 4.6, 4.7, 4.8, 4.9, 5.0, 5.1, 5.2, 5.3, 5.4, 5.5, 5.6, 5.7, 5.8, 5.9, 6.0, 6.1, 6.2, 6.3, 6.4, 6.5, 6.6, 6.7, 6.8, 6.9, 7.0, 7.1, 7.2, 7.3, 7.4, 7.5, 7.6, 7.7, 7.8, 7.9, 8.0, 8.1, 8.2, 8.3, 8.4, 8.5, 8.6, 8.7, 8.8, 8.9, 9.0, 9.1, 9.2, 9.3, 9.4, 9.5, 9.6, 9.7, 9.8, 9.9, 10.0, 10.1, 10.2, 10.3, 10.4, 10.5, 10.6, 10.7, 10.8, 10.9], \"xaxis\": \"x2\", \"y\": [0.0, 0.0, 0.0, 0.0, 0.0, 0.0, 0.0, 0.0, 0.0, 0.0, 0.0, -1.45783378328579, -5.568650219815805, -11.298131286068385, -17.393544149615494, -23.239740898576667, -28.73148152975986, -33.94430686939317, -38.9362354405893, -43.69709369336195, -48.04140350412669, -50.854679632193374, -51.33979356534729, -50.381867379262125, -49.18486105629632, -48.301353663315226, -47.710880021281355, -47.2227761911775, -46.72409164310198, -46.206417064353964, -45.70018990231022, -45.22440603345397, -44.777984132168555, -44.352120913292346, -43.94086618998448, -43.54295446612026, -43.158958674204364, -42.788874072706776, -42.431734023648815, -42.08629553756147, -41.75159081524991, -41.426982886246165, -41.11197508813682, -40.80606820160849, -40.50874468976908, -40.21951154967515, -39.93792859593517, -39.66360511710669, -39.39618371157716, -39.13532938693934, -38.88072726527916, -38.63208365349507, -38.38912594614433, -38.15160066978624, -37.91927101962543, -37.691914964445765, -37.46932403091431, -37.251302396839215, -37.03766600168009, -36.82824162107155, -36.62286597754625, -36.42138495139981, -36.22365290063133, -36.029532062662305, -35.8388920074179, -35.65160912669497, -35.46756615973411, -35.28665175958577, -35.10876010054662, -34.93379052110865, -34.761647195271465, -34.592238827703284, -34.42547837140505, -34.26128276746378, -34.09957270547544, -33.94027240219686, -33.78330939608777, -33.62861435623234, -33.476120904747084, -33.325765451820686, -33.17748704231278, -33.031227212785275, -32.886929858026086, -32.744541106352216, -32.60400920308269, -32.46528440156914, -32.32831886117092, -32.193066551616326, -32.05948316327385, -31.92752602291694, -31.79715401459311, -31.66832750522551, -31.541008274601428, -31.415159449437844, -31.29074544124538, -31.167731887734092, -31.04608559752076, -30.925774497914315, -30.80676758557454, -30.6890348798569, -30.57254737867059, -30.45727701668901, -30.343196625763134, -30.230279897399328, -30.11850134717378, -30.00783628096498, -29.89826076289396, -29.789751584869535, -29.68228623764284, -29.575842883282345], \"yaxis\": \"y2\"}, {\"line\": {\"color\": \"rgb(204, 0, 0)\", \"width\": 2}, \"mode\": \"lines\", \"name\": \"alpha\", \"type\": \"scatter\", \"x\": [0.0, 0.1, 0.2, 0.3, 0.4, 0.5, 0.6, 0.7, 0.8, 0.9, 1.0, 1.1, 1.2, 1.3, 1.4, 1.5, 1.6, 1.7, 1.8, 1.9, 2.0, 2.1, 2.2, 2.3, 2.4, 2.5, 2.6, 2.7, 2.8, 2.9, 3.0, 3.1, 3.2, 3.3, 3.4, 3.5, 3.6, 3.7, 3.8, 3.9, 4.0, 4.1, 4.2, 4.3, 4.4, 4.5, 4.6, 4.7, 4.8, 4.9, 5.0, 5.1, 5.2, 5.3, 5.4, 5.5, 5.6, 5.7, 5.8, 5.9, 6.0, 6.1, 6.2, 6.3, 6.4, 6.5, 6.6, 6.7, 6.8, 6.9, 7.0, 7.1, 7.2, 7.3, 7.4, 7.5, 7.6, 7.7, 7.8, 7.9, 8.0, 8.1, 8.2, 8.3, 8.4, 8.5, 8.6, 8.7, 8.8, 8.9, 9.0, 9.1, 9.2, 9.3, 9.4, 9.5, 9.6, 9.7, 9.8, 9.9, 10.0, 10.1, 10.2, 10.3, 10.4, 10.5, 10.6, 10.7, 10.8, 10.9], \"xaxis\": \"x2\", \"y\": [0.0, 0.0, 0.0, 0.0, 0.0, 0.0, 0.0, 0.0, 0.0, 0.0, 0.0, -29.156675665715795, -53.05965306488449, -61.52996826016709, -60.37828901077509, -56.545645968448405, -53.289166655215375, -50.96734013745088, -48.87123128647174, -46.345933768981205, -40.54026244631358, -15.725260115020014, 6.0229814519416305, 13.135542269761542, 10.804584189554546, 6.865563670067483, 4.943909170610017, 4.81816743146698, 5.155523530043366, 5.197968044916989, 4.926575195957789, 4.589102181167387, 4.339335844540815, 4.177928532983614, 4.0471659331735035, 3.911068544111132, 3.7688472942065605, 3.632844735745201, 3.509956245413991, 3.398813476333008, 3.295280969898137, 3.196877610176848, 3.103278352009925, 3.014859378556764, 2.9316108582314677, 2.853051943647052, 2.7786071311525093, 2.7078624454172044, 2.640565665173306, 2.576520827583009, 2.515521605620542, 2.4573506300612022, 2.4018035169534997, 2.3487020102084895, 2.2978909930078064, 2.2492301105854353, 2.2025885600436097, 2.15784412145832, 2.1148837817242714, 2.073603830446511, 2.0339090400594793, 1.9957114828692957, 1.9589295325002103, 1.9234872268803713, 1.8893138780077074, 1.8563437364506903, 1.8245156027666554, 1.793772400200157, 1.7640607805828545, 1.7353308081765846, 1.7075357085670455, 1.6806316427965595, 1.6545774831681486, 1.6293345956571754, 1.6048666441096013, 1.5811394214620296, 1.5581207007197235, 1.5357800963889279, 1.5140889333161656, 1.4930201252117892, 1.4725480649463574, 1.452648525603713, 1.4332985695800928, 1.4144764638973615, 1.3961616014932834, 1.3783344287775514, 1.3609763791868892, 1.3440698119048844, 1.3275979549444472, 1.3115448521939232, 1.2958953142827072, 1.280634873069349, 1.265749739412308, 1.2512267638594075, 1.2370533999898454, 1.223217670235878, 1.2097081340307025, 1.1965138580983092, 1.183624388697182, 1.171029725655513, 1.1587202980706865, 1.1466869415609182, 1.1349208769566068, 1.1234136903195109, 1.1121573141914327, 1.101144009984597, 1.0903663514358404, 1.0798172090527118, 1.0694897354811816, 1.0593773517287557], \"yaxis\": \"y2\"}],\n",
       "                        {\"autosize\": false, \"font\": {\"color\": \"black\", \"family\": \"Arial\", \"size\": 14}, \"height\": 500, \"legend\": {\"orientation\": \"h\", \"x\": 0.01, \"xanchor\": \"left\", \"y\": 1.1, \"yanchor\": \"top\"}, \"template\": {\"data\": {\"bar\": [{\"error_x\": {\"color\": \"#2a3f5f\"}, \"error_y\": {\"color\": \"#2a3f5f\"}, \"marker\": {\"line\": {\"color\": \"white\", \"width\": 0.5}}, \"type\": \"bar\"}], \"barpolar\": [{\"marker\": {\"line\": {\"color\": \"white\", \"width\": 0.5}}, \"type\": \"barpolar\"}], \"carpet\": [{\"aaxis\": {\"endlinecolor\": \"#2a3f5f\", \"gridcolor\": \"#C8D4E3\", \"linecolor\": \"#C8D4E3\", \"minorgridcolor\": \"#C8D4E3\", \"startlinecolor\": \"#2a3f5f\"}, \"baxis\": {\"endlinecolor\": \"#2a3f5f\", \"gridcolor\": \"#C8D4E3\", \"linecolor\": \"#C8D4E3\", \"minorgridcolor\": \"#C8D4E3\", \"startlinecolor\": \"#2a3f5f\"}, \"type\": \"carpet\"}], \"choropleth\": [{\"colorbar\": {\"outlinewidth\": 0, \"ticks\": \"\"}, \"type\": \"choropleth\"}], \"contour\": [{\"colorbar\": {\"outlinewidth\": 0, \"ticks\": \"\"}, \"colorscale\": [[0.0, \"#0d0887\"], [0.1111111111111111, \"#46039f\"], [0.2222222222222222, \"#7201a8\"], [0.3333333333333333, \"#9c179e\"], [0.4444444444444444, \"#bd3786\"], [0.5555555555555556, \"#d8576b\"], [0.6666666666666666, \"#ed7953\"], [0.7777777777777778, \"#fb9f3a\"], [0.8888888888888888, \"#fdca26\"], [1.0, \"#f0f921\"]], \"type\": \"contour\"}], \"contourcarpet\": [{\"colorbar\": {\"outlinewidth\": 0, \"ticks\": \"\"}, \"type\": \"contourcarpet\"}], \"heatmap\": [{\"colorbar\": {\"outlinewidth\": 0, \"ticks\": \"\"}, \"colorscale\": [[0.0, \"#0d0887\"], [0.1111111111111111, \"#46039f\"], [0.2222222222222222, \"#7201a8\"], [0.3333333333333333, \"#9c179e\"], [0.4444444444444444, \"#bd3786\"], [0.5555555555555556, \"#d8576b\"], [0.6666666666666666, \"#ed7953\"], [0.7777777777777778, \"#fb9f3a\"], [0.8888888888888888, \"#fdca26\"], [1.0, \"#f0f921\"]], \"type\": \"heatmap\"}], \"heatmapgl\": [{\"colorbar\": {\"outlinewidth\": 0, \"ticks\": \"\"}, \"colorscale\": [[0.0, \"#0d0887\"], [0.1111111111111111, \"#46039f\"], [0.2222222222222222, \"#7201a8\"], [0.3333333333333333, \"#9c179e\"], [0.4444444444444444, \"#bd3786\"], [0.5555555555555556, \"#d8576b\"], [0.6666666666666666, \"#ed7953\"], [0.7777777777777778, \"#fb9f3a\"], [0.8888888888888888, \"#fdca26\"], [1.0, \"#f0f921\"]], \"type\": \"heatmapgl\"}], \"histogram\": [{\"marker\": {\"colorbar\": {\"outlinewidth\": 0, \"ticks\": \"\"}}, \"type\": \"histogram\"}], \"histogram2d\": [{\"colorbar\": {\"outlinewidth\": 0, \"ticks\": \"\"}, \"colorscale\": [[0.0, \"#0d0887\"], [0.1111111111111111, \"#46039f\"], [0.2222222222222222, \"#7201a8\"], [0.3333333333333333, \"#9c179e\"], [0.4444444444444444, \"#bd3786\"], [0.5555555555555556, \"#d8576b\"], [0.6666666666666666, \"#ed7953\"], [0.7777777777777778, \"#fb9f3a\"], [0.8888888888888888, \"#fdca26\"], [1.0, \"#f0f921\"]], \"type\": \"histogram2d\"}], \"histogram2dcontour\": [{\"colorbar\": {\"outlinewidth\": 0, \"ticks\": \"\"}, \"colorscale\": [[0.0, \"#0d0887\"], [0.1111111111111111, \"#46039f\"], [0.2222222222222222, \"#7201a8\"], [0.3333333333333333, \"#9c179e\"], [0.4444444444444444, \"#bd3786\"], [0.5555555555555556, \"#d8576b\"], [0.6666666666666666, \"#ed7953\"], [0.7777777777777778, \"#fb9f3a\"], [0.8888888888888888, \"#fdca26\"], [1.0, \"#f0f921\"]], \"type\": \"histogram2dcontour\"}], \"mesh3d\": [{\"colorbar\": {\"outlinewidth\": 0, \"ticks\": \"\"}, \"type\": \"mesh3d\"}], \"parcoords\": [{\"line\": {\"colorbar\": {\"outlinewidth\": 0, \"ticks\": \"\"}}, \"type\": \"parcoords\"}], \"pie\": [{\"automargin\": true, \"type\": \"pie\"}], \"scatter\": [{\"marker\": {\"colorbar\": {\"outlinewidth\": 0, \"ticks\": \"\"}}, \"type\": \"scatter\"}], \"scatter3d\": [{\"line\": {\"colorbar\": {\"outlinewidth\": 0, \"ticks\": \"\"}}, \"marker\": {\"colorbar\": {\"outlinewidth\": 0, \"ticks\": \"\"}}, \"type\": \"scatter3d\"}], \"scattercarpet\": [{\"marker\": {\"colorbar\": {\"outlinewidth\": 0, \"ticks\": \"\"}}, \"type\": \"scattercarpet\"}], \"scattergeo\": [{\"marker\": {\"colorbar\": {\"outlinewidth\": 0, \"ticks\": \"\"}}, \"type\": \"scattergeo\"}], \"scattergl\": [{\"marker\": {\"colorbar\": {\"outlinewidth\": 0, \"ticks\": \"\"}}, \"type\": \"scattergl\"}], \"scattermapbox\": [{\"marker\": {\"colorbar\": {\"outlinewidth\": 0, \"ticks\": \"\"}}, \"type\": \"scattermapbox\"}], \"scatterpolar\": [{\"marker\": {\"colorbar\": {\"outlinewidth\": 0, \"ticks\": \"\"}}, \"type\": \"scatterpolar\"}], \"scatterpolargl\": [{\"marker\": {\"colorbar\": {\"outlinewidth\": 0, \"ticks\": \"\"}}, \"type\": \"scatterpolargl\"}], \"scatterternary\": [{\"marker\": {\"colorbar\": {\"outlinewidth\": 0, \"ticks\": \"\"}}, \"type\": \"scatterternary\"}], \"surface\": [{\"colorbar\": {\"outlinewidth\": 0, \"ticks\": \"\"}, \"colorscale\": [[0.0, \"#0d0887\"], [0.1111111111111111, \"#46039f\"], [0.2222222222222222, \"#7201a8\"], [0.3333333333333333, \"#9c179e\"], [0.4444444444444444, \"#bd3786\"], [0.5555555555555556, \"#d8576b\"], [0.6666666666666666, \"#ed7953\"], [0.7777777777777778, \"#fb9f3a\"], [0.8888888888888888, \"#fdca26\"], [1.0, \"#f0f921\"]], \"type\": \"surface\"}], \"table\": [{\"cells\": {\"fill\": {\"color\": \"#EBF0F8\"}, \"line\": {\"color\": \"white\"}}, \"header\": {\"fill\": {\"color\": \"#C8D4E3\"}, \"line\": {\"color\": \"white\"}}, \"type\": \"table\"}]}, \"layout\": {\"annotationdefaults\": {\"arrowcolor\": \"#2a3f5f\", \"arrowhead\": 0, \"arrowwidth\": 1}, \"coloraxis\": {\"colorbar\": {\"outlinewidth\": 0, \"ticks\": \"\"}}, \"colorscale\": {\"diverging\": [[0, \"#8e0152\"], [0.1, \"#c51b7d\"], [0.2, \"#de77ae\"], [0.3, \"#f1b6da\"], [0.4, \"#fde0ef\"], [0.5, \"#f7f7f7\"], [0.6, \"#e6f5d0\"], [0.7, \"#b8e186\"], [0.8, \"#7fbc41\"], [0.9, \"#4d9221\"], [1, \"#276419\"]], \"sequential\": [[0.0, \"#0d0887\"], [0.1111111111111111, \"#46039f\"], [0.2222222222222222, \"#7201a8\"], [0.3333333333333333, \"#9c179e\"], [0.4444444444444444, \"#bd3786\"], [0.5555555555555556, \"#d8576b\"], [0.6666666666666666, \"#ed7953\"], [0.7777777777777778, \"#fb9f3a\"], [0.8888888888888888, \"#fdca26\"], [1.0, \"#f0f921\"]], \"sequentialminus\": [[0.0, \"#0d0887\"], [0.1111111111111111, \"#46039f\"], [0.2222222222222222, \"#7201a8\"], [0.3333333333333333, \"#9c179e\"], [0.4444444444444444, \"#bd3786\"], [0.5555555555555556, \"#d8576b\"], [0.6666666666666666, \"#ed7953\"], [0.7777777777777778, \"#fb9f3a\"], [0.8888888888888888, \"#fdca26\"], [1.0, \"#f0f921\"]]}, \"colorway\": [\"#636efa\", \"#EF553B\", \"#00cc96\", \"#ab63fa\", \"#FFA15A\", \"#19d3f3\", \"#FF6692\", \"#B6E880\", \"#FF97FF\", \"#FECB52\"], \"font\": {\"color\": \"#2a3f5f\"}, \"geo\": {\"bgcolor\": \"white\", \"lakecolor\": \"white\", \"landcolor\": \"white\", \"showlakes\": true, \"showland\": true, \"subunitcolor\": \"#C8D4E3\"}, \"hoverlabel\": {\"align\": \"left\"}, \"hovermode\": \"closest\", \"mapbox\": {\"style\": \"light\"}, \"paper_bgcolor\": \"white\", \"plot_bgcolor\": \"white\", \"polar\": {\"angularaxis\": {\"gridcolor\": \"#EBF0F8\", \"linecolor\": \"#EBF0F8\", \"ticks\": \"\"}, \"bgcolor\": \"white\", \"radialaxis\": {\"gridcolor\": \"#EBF0F8\", \"linecolor\": \"#EBF0F8\", \"ticks\": \"\"}}, \"scene\": {\"xaxis\": {\"backgroundcolor\": \"white\", \"gridcolor\": \"#DFE8F3\", \"gridwidth\": 2, \"linecolor\": \"#EBF0F8\", \"showbackground\": true, \"ticks\": \"\", \"zerolinecolor\": \"#EBF0F8\"}, \"yaxis\": {\"backgroundcolor\": \"white\", \"gridcolor\": \"#DFE8F3\", \"gridwidth\": 2, \"linecolor\": \"#EBF0F8\", \"showbackground\": true, \"ticks\": \"\", \"zerolinecolor\": \"#EBF0F8\"}, \"zaxis\": {\"backgroundcolor\": \"white\", \"gridcolor\": \"#DFE8F3\", \"gridwidth\": 2, \"linecolor\": \"#EBF0F8\", \"showbackground\": true, \"ticks\": \"\", \"zerolinecolor\": \"#EBF0F8\"}}, \"shapedefaults\": {\"line\": {\"color\": \"#2a3f5f\"}}, \"ternary\": {\"aaxis\": {\"gridcolor\": \"#DFE8F3\", \"linecolor\": \"#A2B1C6\", \"ticks\": \"\"}, \"baxis\": {\"gridcolor\": \"#DFE8F3\", \"linecolor\": \"#A2B1C6\", \"ticks\": \"\"}, \"bgcolor\": \"white\", \"caxis\": {\"gridcolor\": \"#DFE8F3\", \"linecolor\": \"#A2B1C6\", \"ticks\": \"\"}}, \"title\": {\"x\": 0.05}, \"xaxis\": {\"automargin\": true, \"gridcolor\": \"#EBF0F8\", \"linecolor\": \"#EBF0F8\", \"ticks\": \"\", \"title\": {\"standoff\": 15}, \"zerolinecolor\": \"#EBF0F8\", \"zerolinewidth\": 2}, \"yaxis\": {\"automargin\": true, \"gridcolor\": \"#EBF0F8\", \"linecolor\": \"#EBF0F8\", \"ticks\": \"\", \"title\": {\"standoff\": 15}, \"zerolinecolor\": \"#EBF0F8\", \"zerolinewidth\": 2}}}, \"title\": {\"text\": \"Veh1 Heading and Rotation\"}, \"width\": 900, \"xaxis\": {\"anchor\": \"y\", \"domain\": [0.0, 1.0], \"linecolor\": \"black\", \"linewidth\": 1, \"matches\": \"x2\", \"showgrid\": false, \"showline\": true, \"showticklabels\": false, \"tickcolor\": \"black\", \"ticklen\": 10, \"ticks\": \"outside\", \"tickwidth\": 1, \"title\": {\"text\": \"\"}, \"zeroline\": false}, \"xaxis2\": {\"anchor\": \"y2\", \"domain\": [0.0, 1.0], \"linecolor\": \"black\", \"linewidth\": 1, \"showgrid\": false, \"showline\": true, \"tickcolor\": \"black\", \"ticklen\": 10, \"ticks\": \"outside\", \"tickwidth\": 1, \"title\": {\"text\": \"Time (s)\"}, \"zeroline\": false}, \"yaxis\": {\"anchor\": \"x\", \"domain\": [0.5349999999999999, 0.9999999999999999], \"linecolor\": \"black\", \"linewidth\": 1, \"showgrid\": false, \"showline\": true, \"tickcolor\": \"black\", \"ticklen\": 10, \"ticks\": \"outside\", \"tickwidth\": 1, \"title\": {\"text\": \"Heading (deg)\"}, \"zeroline\": false}, \"yaxis2\": {\"anchor\": \"x2\", \"domain\": [0.0, 0.46499999999999997], \"linecolor\": \"black\", \"linewidth\": 1, \"showgrid\": false, \"showline\": true, \"tickcolor\": \"black\", \"ticklen\": 10, \"ticks\": \"outside\", \"tickwidth\": 1, \"title\": {\"text\": \"Omega (deg/s), Alpha (deg/s/s)\"}, \"zeroline\": false}},\n",
       "                        {\"responsive\": true}\n",
       "                    ).then(function(){\n",
       "                            \n",
       "var gd = document.getElementById('de287f68-fee9-48fd-8353-cee4891b97e4');\n",
       "var x = new MutationObserver(function (mutations, observer) {{\n",
       "        var display = window.getComputedStyle(gd).display;\n",
       "        if (!display || display === 'none') {{\n",
       "            console.log([gd, 'removed!']);\n",
       "            Plotly.purge(gd);\n",
       "            observer.disconnect();\n",
       "        }}\n",
       "}});\n",
       "\n",
       "// Listen for the removal of the full notebook cells\n",
       "var notebookContainer = gd.closest('#notebook-container');\n",
       "if (notebookContainer) {{\n",
       "    x.observe(notebookContainer, {childList: true});\n",
       "}}\n",
       "\n",
       "// Listen for the clearing of the current output cell\n",
       "var outputEl = gd.closest('.output');\n",
       "if (outputEl) {{\n",
       "    x.observe(outputEl, {childList: true});\n",
       "}}\n",
       "\n",
       "                        })\n",
       "                };\n",
       "                });\n",
       "            </script>\n",
       "        </div>"
      ]
     },
     "metadata": {},
     "output_type": "display_data"
    }
   ],
   "source": [
    "run.plot_model()"
   ]
  },
  {
   "cell_type": "code",
   "execution_count": 40,
   "metadata": {},
   "outputs": [
    {
     "data": {
      "text/plain": [
       "<AxesSubplot:xlabel='t'>"
      ]
     },
     "execution_count": 40,
     "metadata": {},
     "output_type": "execute_result"
    }
   ],
   "source": [
    "#run.veh.model.plot(x = 't', y = 'ay')"
   ]
  },
  {
   "cell_type": "markdown",
   "metadata": {},
   "source": [
    "### Plot Vehicle Motion"
   ]
  },
  {
   "cell_type": "code",
   "execution_count": 27,
   "metadata": {},
   "outputs": [
    {
     "data": {
      "text/plain": [
       "110"
      ]
     },
     "execution_count": 27,
     "metadata": {},
     "output_type": "execute_result"
    }
   ],
   "source": [
    "len(run.veh.model.t)"
   ]
  },
  {
   "cell_type": "code",
   "execution_count": 28,
   "metadata": {},
   "outputs": [
    {
     "data": {
      "text/plain": [
       "10.9"
      ]
     },
     "execution_count": 28,
     "metadata": {},
     "output_type": "execute_result"
    }
   ],
   "source": [
    "run.veh.model.t.iloc[-1]"
   ]
  },
  {
   "cell_type": "code",
   "execution_count": 42,
   "metadata": {},
   "outputs": [
    {
     "data": {
      "application/vnd.plotly.v1+json": {
       "config": {
        "plotlyServerURL": "https://plot.ly"
       },
       "data": [
        {
         "line": {
          "color": "rgb(0, 0, 0)",
          "width": 2
         },
         "mode": "lines",
         "name": "body",
         "type": "scatter",
         "x": [
          40.88897889669951,
          40.19809934970952,
          24.724447295617672,
          25.415326842607662,
          40.88897889669951
         ],
         "y": [
          13.697881328684403,
          19.49015749866531,
          17.644522137420623,
          11.852245967439718,
          13.697881328684403
         ]
        },
        {
         "line": {
          "color": "rgb(0, 0, 255)",
          "width": 1
         },
         "mode": "lines",
         "name": "LF",
         "type": "scatter",
         "x": [
          38.65620130538658,
          38.84953789077707,
          36.749106987041536,
          36.55577040165104,
          38.65620130538658
         ],
         "y": [
          13.035821792290992,
          13.717259299228093,
          14.313190891843506,
          13.631753384906405,
          13.035821792290992
         ]
        },
        {
         "line": {
          "color": "rgb(0, 255, 0)",
          "width": 1
         },
         "mode": "lines",
         "name": "RF",
         "type": "scatter",
         "x": [
          38.049214274816805,
          38.242550860207295,
          36.14211995647176,
          35.94878337108126,
          38.049214274816805
         ],
         "y": [
          18.124750141631363,
          18.80618764856846,
          19.402119241183875,
          18.720681734246774,
          18.124750141631363
         ]
        },
        {
         "line": {
          "color": "rgb(153, 0, 204)",
          "width": 1
         },
         "mode": "lines",
         "name": "RR",
         "type": "scatter",
         "x": [
          29.45043542826544,
          29.366542911845226,
          27.1985766882238,
          27.282469204644013,
          29.45043542826544
         ],
         "y": [
          17.49486492515349,
          18.19821274579403,
          17.939626401063492,
          17.23627858042295,
          17.49486492515349
         ]
        },
        {
         "line": {
          "color": "rgb(255, 102, 0)",
          "width": 1
         },
         "mode": "lines",
         "name": "LR",
         "type": "scatter",
         "x": [
          30.057422458835216,
          29.973529942415002,
          27.805563718793575,
          27.88945623521379,
          30.057422458835216
         ],
         "y": [
          12.405936575813122,
          13.109284396453662,
          12.850698051723123,
          12.147350231082584,
          12.405936575813122
         ]
        },
        {
         "customdata": [
          10.9,
          10.9
         ],
         "hovertemplate": "<b>x</b>:%{x:.1f}<br><b>Y</b>: %{y:.1f}<br><b>time</b>: %{customdata:.3f}",
         "marker": {
          "color": "rgb(0, 0, 0)",
          "size": 10
         },
         "mode": "markers",
         "name": "CG",
         "type": "scatter",
         "x": [
          34.24650745841099,
          34.24650745841099
         ],
         "y": [
          15.842934649018597,
          15.842934649018597
         ]
        },
        {
         "marker": {
          "color": "rgb(0, 0, 255)",
          "size": 5,
          "symbol": [
           "circle",
           "circle",
           "circle",
           "circle",
           "circle",
           "circle",
           "circle",
           "circle",
           "circle",
           "circle",
           "circle",
           "circle",
           "circle",
           "circle",
           "circle",
           "circle",
           "circle",
           "circle",
           "circle",
           "circle",
           "circle",
           "circle",
           "circle",
           "circle",
           "circle",
           "circle",
           "circle",
           "circle",
           "circle",
           "circle",
           "circle",
           "circle",
           "circle",
           "circle",
           "circle",
           "circle",
           "circle",
           "circle",
           "circle",
           "circle",
           "circle",
           "circle",
           "circle",
           "circle",
           "circle",
           "circle",
           "circle",
           "circle",
           "circle",
           "circle",
           "circle",
           "circle",
           "circle",
           "circle",
           "circle",
           "circle",
           "circle",
           "circle",
           "circle",
           "circle",
           "circle",
           "circle",
           "circle",
           "circle",
           "circle",
           "circle",
           "circle",
           "circle",
           "circle",
           "circle",
           "circle",
           "circle",
           "circle",
           "circle",
           "circle",
           "circle",
           "circle",
           "circle",
           "circle",
           "circle",
           "circle",
           "circle",
           "circle",
           "circle",
           "circle",
           "circle",
           "circle",
           "circle",
           "circle",
           "circle",
           "circle",
           "circle",
           "circle",
           "circle",
           "circle",
           "circle",
           "circle",
           "circle",
           "circle",
           "circle",
           "circle",
           "circle",
           "circle",
           "circle",
           "circle",
           "circle",
           "circle",
           "circle",
           "circle"
          ]
         },
         "mode": "markers",
         "name": "LF",
         "type": "scatter",
         "x": [
          3.1750000000000003,
          5.375005,
          7.575010000000001,
          9.775015,
          11.97502,
          14.175025,
          16.37503,
          18.575034999999996,
          20.77504,
          22.975044999999998,
          25.175049999999995,
          27.371498306805723,
          29.55363785279593,
          31.708233913296553,
          33.82513804277585,
          35.89633241280215,
          37.91218965619928,
          39.85854299049949,
          41.716055705250504,
          43.461405537811586,
          45.07020874048911,
          46.52799009405478,
          47.83903482200394,
          49.013115482947,
          50.04896211679187,
          50.93647222242716,
          51.66711423939167,
          52.23922745311725,
          52.65635554016424,
          52.923372960385535,
          53.04440098738999,
          53.02300621538993,
          52.86318988818045,
          52.569926871492996,
          52.14906577867846,
          51.606994872629606,
          50.95041929219526,
          50.1863067035284,
          49.32189698673723,
          48.364687200256085,
          47.322378403569104,
          46.202811177889885,
          45.013911200127055,
          43.76364706037486,
          42.45999335567553,
          41.110894212853054,
          39.724227121836094,
          38.307768796441074,
          36.86916399787958,
          35.41589714862156,
          33.95526627225387,
          32.49435904899114,
          31.040031003020587,
          29.59888585027671,
          28.17725795826837,
          26.78119683129957,
          25.416453545052182,
          24.088469069819425,
          22.80236442007205,
          21.562932559070845,
          20.374631983599183,
          19.241581915951258,
          18.167559032108738,
          17.155995653902888,
          16.209979330848753,
          15.332253736616192,
          14.525220805878016,
          13.79094403830295,
          13.13115289699404,
          12.547248228971949,
          12.040308635906953,
          11.611097724366065,
          11.260072166152034,
          10.987390500652248,
          10.792922612468463,
          10.67625981905457,
          10.636725504703026,
          10.673386238964579,
          10.78506331940612,
          10.970344680482334,
          11.227597112222952,
          11.55497873442605,
          11.950451674093042,
          12.411794895926592,
          12.936617137825992,
          13.522369905448281,
          14.166360482054067,
          14.865764912019314,
          15.617640918560609,
          16.418940718384203,
          17.2665236981231,
          18.157168919565436,
          19.08758742279862,
          20.054434298490555,
          21.05432050259813,
          22.08382438883,
          23.13950293619035,
          24.217902650891872,
          25.315570123844115,
          26.429062226795956,
          27.554955932035977,
          28.689857742327813,
          29.83041271947982,
          30.97331310161512,
          32.11530650081951,
          33.25320367439901,
          34.38388586447394,
          35.50431170207348,
          36.61152367327068
         ],
         "y": [
          -2.5625,
          -2.5625,
          -2.5625,
          -2.5625,
          -2.5625,
          -2.5625,
          -2.5625,
          -2.5625,
          -2.5625,
          -2.5625,
          -2.5625,
          -2.574517603682267,
          -2.632125154958203,
          -2.7693933928858754,
          -3.002121033538799,
          -3.3353618843120163,
          -3.7755783334167043,
          -4.334190785491112,
          -5.023709965094043,
          -5.852608010797539,
          -6.821462033753615,
          -7.91816631978633,
          -9.119841813246033,
          -10.405900683869005,
          -11.764808195429767,
          -13.188264782266721,
          -14.665159235503763,
          -16.181246799003436,
          -17.721665706264908,
          -19.272696502429593,
          -20.821951623599748,
          -22.357932561390623,
          -23.8697768430204,
          -25.347291429737087,
          -26.781037010590737,
          -28.162330577695283,
          -29.4832015112136,
          -30.736368044310574,
          -31.915244673581203,
          -33.013952017291686,
          -34.02730901375428,
          -34.95081125278751,
          -35.780608260916324,
          -36.51348568771226,
          -37.146849707587116,
          -37.67870914859597,
          -38.10765400803537,
          -38.43283181906342,
          -38.65392353211364,
          -38.771119356098744,
          -38.78509416438658,
          -38.69698212986151,
          -38.50835067703959,
          -38.221174061439264,
          -37.83780681873217,
          -37.360957179074866,
          -36.793660481333724,
          -36.1392526485013,
          -35.40134382371886,
          -34.58379227136955,
          -33.690678628428614,
          -32.726280573037165,
          -31.69504797072712,
          -30.601578558426844,
          -29.450594224445545,
          -28.246917937096665,
          -26.99545136792926,
          -25.70115324994903,
          -24.369018506876483,
          -23.004058185487825,
          -21.611280218852034,
          -20.195671043925863,
          -18.762178092811986,
          -17.31569317313794,
          -15.861036749400036,
          -14.402943133647492,
          -12.946046590544734,
          -11.494868358680996,
          -10.053804587012916,
          -8.627115182523474,
          -7.218913562545256,
          -5.8331573027211325,
          -4.473639669265007,
          -3.143982022036664,
          -1.8476270729562412,
          -0.5878329824482467,
          0.6323317250791224,
          1.8099924472525672,
          2.942472013177472,
          4.027293439490018,
          5.062181957322704,
          6.045066335479416,
          6.97407952598337,
          7.847558658906179,
          8.66404441401547,
          9.422279797296685,
          10.121208350815124,
          10.75997182469402,
          11.3379073401961,
          11.854544073015145,
          12.309599485916143,
          12.70297513981036,
          13.034752112222098,
          13.305186051899677,
          13.514701898049564,
          13.663888292334446,
          13.753491711376592,
          13.784410347052694,
          13.757687761358673
         ]
        },
        {
         "marker": {
          "color": "rgb(0, 255, 0)",
          "size": 5,
          "symbol": [
           "circle",
           "circle",
           "circle",
           "circle",
           "circle",
           "circle",
           "circle",
           "circle",
           "circle",
           "circle",
           "circle",
           "circle",
           "circle",
           "circle",
           "circle",
           "circle",
           "circle",
           "circle",
           "circle",
           "circle",
           "circle",
           "circle",
           "circle",
           "circle",
           "circle",
           "circle",
           "circle",
           "circle",
           "circle",
           "circle",
           "circle",
           "circle",
           "circle",
           "circle",
           "circle",
           "circle",
           "circle",
           "circle",
           "circle",
           "circle",
           "circle",
           "circle",
           "circle",
           "circle",
           "circle",
           "circle",
           "circle",
           "circle",
           "circle",
           "circle",
           "circle",
           "circle",
           "circle",
           "circle",
           "circle",
           "circle",
           "circle",
           "circle",
           "circle",
           "circle",
           "circle",
           "circle",
           "circle",
           "circle",
           "circle",
           "circle",
           "circle",
           "circle",
           "circle",
           "circle",
           "circle",
           "circle",
           "circle",
           "circle",
           "circle",
           "circle",
           "circle",
           "circle",
           "circle",
           "circle",
           "circle",
           "circle",
           "circle",
           "circle",
           "circle",
           "circle",
           "circle",
           "circle",
           "circle",
           "circle",
           "circle",
           "circle",
           "circle",
           "circle",
           "circle",
           "circle",
           "circle",
           "circle",
           "circle",
           "circle",
           "circle",
           "circle",
           "circle",
           "circle",
           "circle",
           "circle",
           "circle",
           "circle",
           "circle"
          ]
         },
         "mode": "markers",
         "name": "RF",
         "type": "scatter",
         "x": [
          3.1750000000000003,
          5.375005,
          7.575010000000001,
          9.775015,
          11.97502,
          14.175025,
          16.37503,
          18.575034999999996,
          20.77504,
          22.975044999999998,
          25.175049999999995,
          27.378018329909896,
          29.59158282165199,
          31.82160507880181,
          34.06674969607985,
          36.319280642969105,
          38.5662671153384,
          40.78952308844755,
          42.96546582486105,
          45.06567745088145,
          47.05859837576047,
          48.91613060564868,
          50.62154953272123,
          52.166222008920116,
          53.54078214394404,
          54.73441915050952,
          55.73971894251101,
          56.55531705322814,
          57.184258496917195,
          57.630877329733806,
          57.89909805044073,
          57.99261278063767,
          57.915744843975,
          57.67392655594388,
          57.27359819107319,
          56.721880628024344,
          56.02634516808855,
          55.1949441190191,
          54.236007225647725,
          53.158216676096416,
          51.97054457402096,
          50.68217823464957,
          49.30245522128162,
          47.84081120457146,
          46.30673383724004,
          44.709717474212056,
          43.05921839309818,
          41.36461227418979,
          39.63515501370186,
          37.87994676410937,
          36.107898717800204,
          34.32770238679076,
          32.54780138443296,
          30.776365749280707,
          29.02126877427989,
          27.290066255666414,
          25.589978079326624,
          23.927872076799225,
          22.310250083113875,
          20.74323612029383,
          19.23256662570942,
          17.783582644986105,
          16.401223909778654,
          15.090024718923448,
          13.854111538976344,
          12.697202239034382,
          11.622606875047763,
          10.63322993936832,
          9.731573991398749,
          8.91974458520204,
          8.199456410316326,
          7.572040562906959,
          7.038452865546441,
          6.59928315513819,
          6.254765459786562,
          6.004788986856136,
          5.848909846101922,
          5.786363433554147,
          5.816077403750246,
          5.936685159898367,
          6.146539793635189,
          6.443728408209875,
          6.826086761176829,
          7.291214164993589,
          7.836488586283048,
          8.459081886922275,
          9.155975152557833,
          9.923974056612424,
          10.759724210330594,
          11.659726451902841,
          12.620352030201241,
          13.637857641147592,
          14.708400277212865,
          15.828051853006457,
          16.992813572350357,
          18.198630004641576,
          19.441402840679746,
          20.71700430047339,
          22.021290167831307,
          23.350112428792805,
          24.69933149314753,
          26.064827980438974,
          27.442514053933795,
          28.828344288067534,
          30.218326056845065,
          31.608529432578887,
          32.995096586187685,
          34.37425068205127,
          35.74230426212384
         ],
         "y": [
          2.5625,
          2.5625,
          2.5625,
          2.5625,
          2.5625,
          2.5625,
          2.5625,
          2.5625,
          2.5625,
          2.5625,
          2.5625,
          2.550478248930564,
          2.4927343728082425,
          2.354352500387129,
          2.1171805603300076,
          1.7721560838011294,
          1.3075120334217722,
          0.7055414551368187,
          -0.053337810716187484,
          -0.9851716600133638,
          -2.097911286874163,
          -3.383586968084124,
          -4.815978794440502,
          -6.365660067783656,
          -8.013432727954003,
          -9.747156802056011,
          -11.553967191908528,
          -13.417735343659954,
          -15.320890870044769,
          -17.246609729221962,
          -19.17953224171016,
          -21.105480731320267,
          -23.01110727987287,
          -24.883813036362223,
          -26.711808733739282,
          -28.484151505013603,
          -30.19073349101167,
          -31.82226686102723,
          -33.37028610248798,
          -34.82715365093587,
          -36.18605315141092,
          -37.44097104099712,
          -38.58667582578704,
          -39.618700260214055,
          -40.53332466947489,
          -41.32755775240257,
          -41.99911365970924,
          -42.546386602039476,
          -42.96842451141477,
          -43.264902227179,
          -43.43609390147334,
          -43.48284435162947,
          -43.40653947259817,
          -43.209076033956514,
          -42.892831125543715,
          -42.460631375427475,
          -41.91572200341688,
          -41.261735796919936,
          -40.50266213170164,
          -39.642816164202664,
          -38.686808302317004,
          -37.63951404254227,
          -36.50604425378775,
          -35.29171598667137,
          -34.002023884147896,
          -32.642612262808115,
          -31.219247926542156,
          -29.73779376768026,
          -28.204183205377905,
          -26.624395506019713,
          -25.00443202523729,
          -23.35029340586808,
          -21.667957761120363,
          -19.963359867464394,
          -18.242371387278993,
          -16.510782136968018,
          -14.774282412109903,
          -13.03844637724642,
          -11.30871652416769,
          -9.590389199008085,
          -7.888601195121626,
          -6.2083174055506385,
          -4.55431952594076,
          -2.9311957959842494,
          -1.3433317648911522,
          0.20509793601249782,
          1.7101368326792463,
          3.168052880891968,
          4.575343795008387,
          5.928741457638369,
          7.225215436536612,
          8.461975636377002,
          9.636474114307287,
          10.746406089266022,
          11.78971017598512,
          12.764567875405863,
          13.669402353908033,
          14.502876544298452,
          15.263890601929678,
          15.951578749628993,
          16.565305545317223,
          17.104661606290886,
          17.569458824136717,
          17.959725104148383,
          18.275698662927535,
          18.51782191758041,
          18.686734999571197,
          18.7832689258711,
          18.80843845955053
         ]
        },
        {
         "marker": {
          "color": "rgb(153, 0, 204)",
          "size": 5,
          "symbol": [
           "circle",
           "circle",
           "circle",
           "circle",
           "circle",
           "circle",
           "circle",
           "circle",
           "circle",
           "circle",
           "circle",
           "circle",
           "circle",
           "circle",
           "circle",
           "circle",
           "circle",
           "circle",
           "circle",
           "circle",
           "circle",
           "circle",
           "circle",
           "circle",
           "circle",
           "circle",
           "circle",
           "circle",
           "circle",
           "circle",
           "circle",
           "circle",
           "circle",
           "circle",
           "circle",
           "circle",
           "circle",
           "circle",
           "circle",
           "circle",
           "circle",
           "circle",
           "circle",
           "circle",
           "circle",
           "circle",
           "circle",
           "circle",
           "circle",
           "circle",
           "circle",
           "circle",
           "circle",
           "circle",
           "circle",
           "circle",
           "circle",
           "circle",
           "circle",
           "circle",
           "circle",
           "circle",
           "circle",
           "circle",
           "circle",
           "circle",
           "circle",
           "circle",
           "circle",
           "circle",
           "circle",
           "circle",
           "circle",
           "circle",
           "circle",
           "circle",
           "circle",
           "circle",
           "circle",
           "circle",
           "circle",
           "circle",
           "circle",
           "circle",
           "circle",
           "circle",
           "circle",
           "circle",
           "circle",
           "circle",
           "circle",
           "circle",
           "circle",
           "circle",
           "circle",
           "circle",
           "circle",
           "circle",
           "circle",
           "circle",
           "circle",
           "circle",
           "circle",
           "circle",
           "circle",
           "circle",
           "circle",
           "circle",
           "circle"
          ]
         },
         "mode": "markers",
         "name": "RR",
         "type": "scatter",
         "x": [
          -5.658333333333334,
          -3.458328333333334,
          -1.2583233333333341,
          0.941681666666665,
          3.141686666666666,
          5.341691666666665,
          7.541696666666664,
          9.741701666666664,
          11.941706666666665,
          14.141711666666662,
          16.34171666666666,
          18.544692144918674,
          20.75849160306267,
          22.990433295274354,
          25.243238005834428,
          27.516078941830997,
          29.805168271681836,
          32.10315532411323,
          34.39864552625857,
          36.67627496009897,
          38.91719383642353,
          41.100432861251385,
          43.203509207625515,
          45.20255525599252,
          47.07499678536793,
          48.803403769983746,
          50.377339160054184,
          51.79219161800197,
          53.04633764099305,
          54.13876028973367,
          55.06826139222453,
          55.833915317426985,
          56.43576153188333,
          56.87508574785062,
          57.15427790902027,
          57.27656385234535,
          57.24583118204945,
          57.06657459986406,
          56.74388350961713,
          56.28340973571078,
          55.69130682754298,
          54.974160959043374,
          54.13892939813195,
          53.192888353924154,
          52.14358499106287,
          50.998789864512865,
          49.76644966264989,
          48.45464165622981,
          47.071530685342836,
          45.625328623207054,
          44.12425598822618,
          42.57650556577293,
          40.99020808897295,
          39.37340004337549,
          37.73399359577622,
          36.07974861035545,
          34.41824671901467,
          32.7568674220411,
          31.102766191181743,
          29.462854537209438,
          27.843781998590227,
          26.25192000705993,
          24.693347584647377,
          23.17383882288963,
          21.69885209065844,
          20.273520914244365,
          18.902646472006573,
          17.590691644726213,
          16.341776561173564,
          15.159675576687897,
          14.047815621321806,
          13.009275853408994,
          12.046788554012911,
          11.162741197391915,
          10.359179632390946,
          9.637812309652492,
          9.000015489775224,
          8.446839367992114,
          7.979015051529201,
          7.596962326522251,
          7.300798152222103,
          7.090345821216829,
          6.965144725528531,
          6.924460669683736,
          6.967296673195252,
          7.092404206323268,
          7.298294804499083,
          7.583252008388417,
          7.94534357823178,
          8.382433932817879,
          8.892196765214669,
          9.472127789194028,
          10.119557572134246,
          10.831664412061038,
          11.605487218386404,
          12.437938357819254,
          13.325816428844812,
          14.265818930098268,
          15.254554789883999,
          16.288556726011215,
          17.364293407025347,
          18.47818138780587,
          19.626596794373633,
          20.80588673459822,
          22.012380413315547,
          23.242399932154953,
          24.492270756128686,
          25.758331830754503,
          27.036945335159007
         ],
         "y": [
          2.5625,
          2.5625,
          2.5625,
          2.5625,
          2.5625,
          2.5625,
          2.5625,
          2.5625,
          2.5625,
          2.5625,
          2.5625,
          2.5617160123296285,
          2.55813545734064,
          2.5497564604449736,
          2.5336169058621185,
          2.5011400252270963,
          2.434865052425777,
          2.3101575589172136,
          2.1001170295881684,
          1.779914889342816,
          1.3292318243252499,
          0.7325576535248848,
          -0.020099780846470683,
          -0.9310374376511228,
          -1.9950112177405017,
          -3.201101934141713,
          -4.534518435312606,
          -5.978621561355009,
          -7.516700407999023,
          -9.132862360914364,
          -10.81208689726499,
          -12.53997998471441,
          -14.302638575576577,
          -16.086675368853395,
          -17.879281323758118,
          -19.668250853438938,
          -21.441983200854136,
          -23.189493429449765,
          -24.900437560625992,
          -26.565135367373674,
          -28.174579751932914,
          -29.720435951297514,
          -31.19503897631738,
          -32.5913929547695,
          -33.9031703435263,
          -35.124707903556164,
          -36.2509986230624,
          -37.277680770472585,
          -38.20102536219262,
          -39.01792240211057,
          -39.725865621344695,
          -40.32293550924312,
          -40.807780766424,
          -41.17959848445368,
          -41.43811329632061,
          -41.58355561960821,
          -41.61663906629346,
          -41.53853711822305,
          -41.350859200279956,
          -41.0556262863224,
          -40.65524615494001,
          -40.152488395750495,
          -39.550459261381064,
          -38.852576459969264,
          -38.06254398070847,
          -37.184327039127986,
          -36.222127221956896,
          -35.18035790568141,
          -34.06362001827386,
          -32.87667820910281,
          -31.624437487230892,
          -30.311920383342315,
          -28.944244685741385,
          -27.52660179631789,
          -26.064235747999017,
          -24.56242292091979,
          -23.026452490349207,
          -21.46160763535221,
          -19.873147533265623,
          -18.26629016131541,
          -16.64619592309403,
          -15.017952114150878,
          -13.386558237633743,
          -11.756912177754955,
          -10.133797235843222,
          -8.521870030877855,
          -6.925649263688248,
          -5.349505341435356,
          -3.7976508565750517,
          -2.274131912231944,
          -0.782820283783991,
          0.6725935955267308,
          2.088606838988746,
          3.461909516561724,
          4.78938928807839,
          6.068135278268088,
          7.295441213678378,
          8.468807842764154,
          9.585944661484834,
          10.644770967704856,
          11.643416268533883,
          12.580220065474354,
          13.453731042870402,
          14.262705685676123,
          15.00610635298784,
          15.683098834118088,
          16.293049414232275,
          16.835521476727124,
          17.310271669606387
         ]
        },
        {
         "marker": {
          "color": "rgb(255, 102, 0)",
          "size": 5,
          "symbol": [
           "circle",
           "circle",
           "circle",
           "circle",
           "circle",
           "circle",
           "circle",
           "circle",
           "circle",
           "circle",
           "circle",
           "circle",
           "circle",
           "circle",
           "circle",
           "circle",
           "circle",
           "circle",
           "circle",
           "circle",
           "circle",
           "circle",
           "circle",
           "circle",
           "circle",
           "circle",
           "circle",
           "circle",
           "circle",
           "circle",
           "circle",
           "circle",
           "circle",
           "circle",
           "circle",
           "circle",
           "circle",
           "circle",
           "circle",
           "circle",
           "circle",
           "circle",
           "circle",
           "circle",
           "circle",
           "circle",
           "circle",
           "circle",
           "circle",
           "circle",
           "circle",
           "circle",
           "circle",
           "circle",
           "circle",
           "circle",
           "circle",
           "circle",
           "circle",
           "circle",
           "circle",
           "circle",
           "circle",
           "circle",
           "circle",
           "circle",
           "circle",
           "circle",
           "circle",
           "circle",
           "circle",
           "circle",
           "circle",
           "circle",
           "circle",
           "circle",
           "circle",
           "circle",
           "circle",
           "circle",
           "circle",
           "circle",
           "circle",
           "circle",
           "circle",
           "circle",
           "circle",
           "circle",
           "circle",
           "circle",
           "circle",
           "circle",
           "circle",
           "circle",
           "circle",
           "circle",
           "circle",
           "circle",
           "circle",
           "circle",
           "circle",
           "circle",
           "circle",
           "circle",
           "circle",
           "circle",
           "circle",
           "circle",
           "circle"
          ]
         },
         "mode": "markers",
         "name": "LR",
         "type": "scatter",
         "x": [
          -5.658333333333334,
          -3.458328333333334,
          -1.2583233333333341,
          0.941681666666665,
          3.141686666666666,
          5.341691666666665,
          7.541696666666664,
          9.741701666666664,
          11.941706666666665,
          14.141711666666662,
          16.34171666666666,
          18.5381721218145,
          20.72054663420661,
          22.877062129769097,
          25.001626352530423,
          27.093130711664045,
          29.15109081254272,
          31.17217522616517,
          33.149235406648025,
          35.072003047029106,
          36.92880420115217,
          38.71229234965748,
          40.42099449690822,
          42.04944873001941,
          43.58317675821576,
          45.00545684190139,
          46.304734456934845,
          47.47610201789109,
          48.5184346842401,
          49.4312559203854,
          50.21356432917379,
          50.86430875217924,
          51.38320657608878,
          51.771086063399736,
          52.029745496625544,
          52.16167809695061,
          52.16990530615616,
          52.057937184373365,
          51.82977327070663,
          51.489880259870446,
          51.04314065709112,
          50.49479390228369,
          49.850385376977385,
          49.11572420972755,
          48.296844509498364,
          47.399966603153864,
          46.43145839138781,
          45.397798178481096,
          44.305539669520556,
          43.161279007719244,
          41.97162354267985,
          40.743162227973315,
          39.48243770756058,
          38.19592014437149,
          36.8899827797647,
          35.570879185988616,
          34.24472218474023,
          32.9174644150613,
          31.594880528139917,
          30.282550975986453,
          28.98584735647999,
          27.709919278025083,
          26.45968270697746,
          25.239809757869068,
          24.054719882530847,
          22.908572411826178,
          21.80526040283683,
          20.748405743660847,
          19.741355466768855,
          18.78717922045781,
          17.888667846912433,
          17.048333014868103,
          16.268407854618506,
          15.550848542905973,
          14.897336785072847,
          14.309283141850926,
          13.787831148376329,
          13.333862173402546,
          12.948000967185076,
          12.630621847106218,
          12.381855470809864,
          12.201596147433005,
          12.089509638444742,
          12.04504140061674,
          12.067425224738196,
          12.155692224849274,
          12.308680133995317,
          12.525042863795306,
          12.803260286461795,
          13.14164819929924,
          13.538368433136528,
          13.991439067611873,
          14.498744717720003,
          15.058046857545133,
          15.666994148634178,
          16.32313274200768,
          17.023916524355414,
          17.76671728051675,
          18.54883474589681,
          19.367506524014367,
          20.219917845913795,
          21.103211149694708,
          22.014495459919658,
          22.950855548145807,
          23.909360857289997,
          24.887074173975073,
          25.881060034414947,
          26.888392850776714,
          27.906164746305844
         ],
         "y": [
          -2.5625,
          -2.5625,
          -2.5625,
          -2.5625,
          -2.5625,
          -2.5625,
          -2.5625,
          -2.5625,
          -2.5625,
          -2.5625,
          -2.5625,
          -2.5632798402832027,
          -2.5667240704258054,
          -2.573989432828031,
          -2.585684688006688,
          -2.6063779428860494,
          -2.6482253144126995,
          -2.729574681710717,
          -2.8702551247896873,
          -3.0875214614413595,
          -3.394318922554203,
          -3.802021698177321,
          -4.323962799652003,
          -4.971278053736471,
          -5.746386685216264,
          -6.642209914352421,
          -7.645710478907839,
          -8.74213301669849,
          -9.917475244219164,
          -11.158949134121992,
          -12.454506279154579,
          -13.792431814784763,
          -15.161308138724106,
          -16.55015376222826,
          -17.948509600609572,
          -19.346429926120617,
          -20.734451221056066,
          -22.103594612733108,
          -23.445396131719217,
          -24.75193373372949,
          -26.015835614276273,
          -27.230276163087904,
          -28.388971411446672,
          -29.4861783822677,
          -30.516695381638524,
          -31.475859299749565,
          -32.35953897138853,
          -33.16412598749653,
          -33.88652438289149,
          -34.524139531030315,
          -35.07486588425793,
          -35.53707328747517,
          -35.90959197086542,
          -36.19169651193643,
          -36.38308898950906,
          -36.4838814232556,
          -36.4945775442103,
          -36.41605396980441,
          -36.24954089229719,
          -35.99660239348929,
          -35.65911648105162,
          -35.239254926245394,
          -34.73946297832043,
          -34.16243903172474,
          -33.51111432100612,
          -32.78863271341654,
          -31.998330663344003,
          -31.143717387950183,
          -30.228455319772433,
          -29.256340888570925,
          -28.231285680845637,
          -27.1572980214001,
          -26.03846501743301,
          -24.878935101991438,
          -23.68290111012006,
          -22.454583917599262,
          -21.198216668784035,
          -19.918029616786782,
          -18.61823559611085,
          -17.3030161448308,
          -15.97650829051766,
          -14.64279201132137,
          -13.305878380957992,
          -11.96969840380737,
          -10.63809254390831,
          -9.314800949338599,
          -8.003454371288372,
          -6.707565775074756,
          -5.430522638405968,
          -4.1755799303802945,
          -2.9458537629978983,
          -1.7443157053708551,
          -0.5737877493351697,
          0.5630620862018811,
          1.663723526108739,
          2.7258472001589125,
          3.747247210585469,
          4.725903123159721,
          5.659961399751254,
          6.547736291091008,
          7.3877102091328055,
          8.178533598993827,
          8.919024330955779,
          9.608166633427418,
          10.245109588109868,
          10.829165208872126,
          11.35980612603767,
          11.836662897908719,
          12.25952097141453
         ]
        }
       ],
       "layout": {
        "annotations": [
         {
          "arrowcolor": "rgb(255, 0, 0)",
          "arrowhead": 1,
          "arrowsize": 2.5,
          "arrowwidth": 1.7,
          "ax": 34.24650745841099,
          "axref": "x",
          "ay": 15.842934649018597,
          "ayref": "y",
          "showarrow": true,
          "text": "",
          "x": 46.09376004495286,
          "xref": "x",
          "y": 14.735981911502607,
          "yref": "y"
         },
         {
          "arrowcolor": "rgb(0, 0, 0)",
          "arrowhead": 1,
          "arrowsize": 2,
          "arrowwidth": 1.5,
          "ax": 34.24650745841099,
          "axref": "x",
          "ay": 15.842934649018597,
          "ayref": "y",
          "showarrow": true,
          "text": "",
          "x": 42.0329815669139,
          "xref": "x",
          "y": 16.771674154329425,
          "yref": "y"
         },
         {
          "arrowcolor": "rgb(0, 0, 255)",
          "arrowhead": 1,
          "arrowsize": 2,
          "arrowwidth": 1.5,
          "ax": 34.24650745841099,
          "axref": "x",
          "ay": 15.842934649018597,
          "ayref": "y",
          "showarrow": true,
          "text": "",
          "x": 33.723412944261426,
          "xref": "x",
          "y": 20.228515177718425,
          "yref": "y"
         }
        ],
        "autosize": false,
        "font": {
         "color": "black",
         "family": "Arial",
         "size": 16
        },
        "height": 700,
        "showlegend": false,
        "template": {
         "data": {
          "bar": [
           {
            "error_x": {
             "color": "#2a3f5f"
            },
            "error_y": {
             "color": "#2a3f5f"
            },
            "marker": {
             "line": {
              "color": "white",
              "width": 0.5
             }
            },
            "type": "bar"
           }
          ],
          "barpolar": [
           {
            "marker": {
             "line": {
              "color": "white",
              "width": 0.5
             }
            },
            "type": "barpolar"
           }
          ],
          "carpet": [
           {
            "aaxis": {
             "endlinecolor": "#2a3f5f",
             "gridcolor": "#C8D4E3",
             "linecolor": "#C8D4E3",
             "minorgridcolor": "#C8D4E3",
             "startlinecolor": "#2a3f5f"
            },
            "baxis": {
             "endlinecolor": "#2a3f5f",
             "gridcolor": "#C8D4E3",
             "linecolor": "#C8D4E3",
             "minorgridcolor": "#C8D4E3",
             "startlinecolor": "#2a3f5f"
            },
            "type": "carpet"
           }
          ],
          "choropleth": [
           {
            "colorbar": {
             "outlinewidth": 0,
             "ticks": ""
            },
            "type": "choropleth"
           }
          ],
          "contour": [
           {
            "colorbar": {
             "outlinewidth": 0,
             "ticks": ""
            },
            "colorscale": [
             [
              0,
              "#0d0887"
             ],
             [
              0.1111111111111111,
              "#46039f"
             ],
             [
              0.2222222222222222,
              "#7201a8"
             ],
             [
              0.3333333333333333,
              "#9c179e"
             ],
             [
              0.4444444444444444,
              "#bd3786"
             ],
             [
              0.5555555555555556,
              "#d8576b"
             ],
             [
              0.6666666666666666,
              "#ed7953"
             ],
             [
              0.7777777777777778,
              "#fb9f3a"
             ],
             [
              0.8888888888888888,
              "#fdca26"
             ],
             [
              1,
              "#f0f921"
             ]
            ],
            "type": "contour"
           }
          ],
          "contourcarpet": [
           {
            "colorbar": {
             "outlinewidth": 0,
             "ticks": ""
            },
            "type": "contourcarpet"
           }
          ],
          "heatmap": [
           {
            "colorbar": {
             "outlinewidth": 0,
             "ticks": ""
            },
            "colorscale": [
             [
              0,
              "#0d0887"
             ],
             [
              0.1111111111111111,
              "#46039f"
             ],
             [
              0.2222222222222222,
              "#7201a8"
             ],
             [
              0.3333333333333333,
              "#9c179e"
             ],
             [
              0.4444444444444444,
              "#bd3786"
             ],
             [
              0.5555555555555556,
              "#d8576b"
             ],
             [
              0.6666666666666666,
              "#ed7953"
             ],
             [
              0.7777777777777778,
              "#fb9f3a"
             ],
             [
              0.8888888888888888,
              "#fdca26"
             ],
             [
              1,
              "#f0f921"
             ]
            ],
            "type": "heatmap"
           }
          ],
          "heatmapgl": [
           {
            "colorbar": {
             "outlinewidth": 0,
             "ticks": ""
            },
            "colorscale": [
             [
              0,
              "#0d0887"
             ],
             [
              0.1111111111111111,
              "#46039f"
             ],
             [
              0.2222222222222222,
              "#7201a8"
             ],
             [
              0.3333333333333333,
              "#9c179e"
             ],
             [
              0.4444444444444444,
              "#bd3786"
             ],
             [
              0.5555555555555556,
              "#d8576b"
             ],
             [
              0.6666666666666666,
              "#ed7953"
             ],
             [
              0.7777777777777778,
              "#fb9f3a"
             ],
             [
              0.8888888888888888,
              "#fdca26"
             ],
             [
              1,
              "#f0f921"
             ]
            ],
            "type": "heatmapgl"
           }
          ],
          "histogram": [
           {
            "marker": {
             "colorbar": {
              "outlinewidth": 0,
              "ticks": ""
             }
            },
            "type": "histogram"
           }
          ],
          "histogram2d": [
           {
            "colorbar": {
             "outlinewidth": 0,
             "ticks": ""
            },
            "colorscale": [
             [
              0,
              "#0d0887"
             ],
             [
              0.1111111111111111,
              "#46039f"
             ],
             [
              0.2222222222222222,
              "#7201a8"
             ],
             [
              0.3333333333333333,
              "#9c179e"
             ],
             [
              0.4444444444444444,
              "#bd3786"
             ],
             [
              0.5555555555555556,
              "#d8576b"
             ],
             [
              0.6666666666666666,
              "#ed7953"
             ],
             [
              0.7777777777777778,
              "#fb9f3a"
             ],
             [
              0.8888888888888888,
              "#fdca26"
             ],
             [
              1,
              "#f0f921"
             ]
            ],
            "type": "histogram2d"
           }
          ],
          "histogram2dcontour": [
           {
            "colorbar": {
             "outlinewidth": 0,
             "ticks": ""
            },
            "colorscale": [
             [
              0,
              "#0d0887"
             ],
             [
              0.1111111111111111,
              "#46039f"
             ],
             [
              0.2222222222222222,
              "#7201a8"
             ],
             [
              0.3333333333333333,
              "#9c179e"
             ],
             [
              0.4444444444444444,
              "#bd3786"
             ],
             [
              0.5555555555555556,
              "#d8576b"
             ],
             [
              0.6666666666666666,
              "#ed7953"
             ],
             [
              0.7777777777777778,
              "#fb9f3a"
             ],
             [
              0.8888888888888888,
              "#fdca26"
             ],
             [
              1,
              "#f0f921"
             ]
            ],
            "type": "histogram2dcontour"
           }
          ],
          "mesh3d": [
           {
            "colorbar": {
             "outlinewidth": 0,
             "ticks": ""
            },
            "type": "mesh3d"
           }
          ],
          "parcoords": [
           {
            "line": {
             "colorbar": {
              "outlinewidth": 0,
              "ticks": ""
             }
            },
            "type": "parcoords"
           }
          ],
          "pie": [
           {
            "automargin": true,
            "type": "pie"
           }
          ],
          "scatter": [
           {
            "marker": {
             "colorbar": {
              "outlinewidth": 0,
              "ticks": ""
             }
            },
            "type": "scatter"
           }
          ],
          "scatter3d": [
           {
            "line": {
             "colorbar": {
              "outlinewidth": 0,
              "ticks": ""
             }
            },
            "marker": {
             "colorbar": {
              "outlinewidth": 0,
              "ticks": ""
             }
            },
            "type": "scatter3d"
           }
          ],
          "scattercarpet": [
           {
            "marker": {
             "colorbar": {
              "outlinewidth": 0,
              "ticks": ""
             }
            },
            "type": "scattercarpet"
           }
          ],
          "scattergeo": [
           {
            "marker": {
             "colorbar": {
              "outlinewidth": 0,
              "ticks": ""
             }
            },
            "type": "scattergeo"
           }
          ],
          "scattergl": [
           {
            "marker": {
             "colorbar": {
              "outlinewidth": 0,
              "ticks": ""
             }
            },
            "type": "scattergl"
           }
          ],
          "scattermapbox": [
           {
            "marker": {
             "colorbar": {
              "outlinewidth": 0,
              "ticks": ""
             }
            },
            "type": "scattermapbox"
           }
          ],
          "scatterpolar": [
           {
            "marker": {
             "colorbar": {
              "outlinewidth": 0,
              "ticks": ""
             }
            },
            "type": "scatterpolar"
           }
          ],
          "scatterpolargl": [
           {
            "marker": {
             "colorbar": {
              "outlinewidth": 0,
              "ticks": ""
             }
            },
            "type": "scatterpolargl"
           }
          ],
          "scatterternary": [
           {
            "marker": {
             "colorbar": {
              "outlinewidth": 0,
              "ticks": ""
             }
            },
            "type": "scatterternary"
           }
          ],
          "surface": [
           {
            "colorbar": {
             "outlinewidth": 0,
             "ticks": ""
            },
            "colorscale": [
             [
              0,
              "#0d0887"
             ],
             [
              0.1111111111111111,
              "#46039f"
             ],
             [
              0.2222222222222222,
              "#7201a8"
             ],
             [
              0.3333333333333333,
              "#9c179e"
             ],
             [
              0.4444444444444444,
              "#bd3786"
             ],
             [
              0.5555555555555556,
              "#d8576b"
             ],
             [
              0.6666666666666666,
              "#ed7953"
             ],
             [
              0.7777777777777778,
              "#fb9f3a"
             ],
             [
              0.8888888888888888,
              "#fdca26"
             ],
             [
              1,
              "#f0f921"
             ]
            ],
            "type": "surface"
           }
          ],
          "table": [
           {
            "cells": {
             "fill": {
              "color": "#EBF0F8"
             },
             "line": {
              "color": "white"
             }
            },
            "header": {
             "fill": {
              "color": "#C8D4E3"
             },
             "line": {
              "color": "white"
             }
            },
            "type": "table"
           }
          ]
         },
         "layout": {
          "annotationdefaults": {
           "arrowcolor": "#2a3f5f",
           "arrowhead": 0,
           "arrowwidth": 1
          },
          "coloraxis": {
           "colorbar": {
            "outlinewidth": 0,
            "ticks": ""
           }
          },
          "colorscale": {
           "diverging": [
            [
             0,
             "#8e0152"
            ],
            [
             0.1,
             "#c51b7d"
            ],
            [
             0.2,
             "#de77ae"
            ],
            [
             0.3,
             "#f1b6da"
            ],
            [
             0.4,
             "#fde0ef"
            ],
            [
             0.5,
             "#f7f7f7"
            ],
            [
             0.6,
             "#e6f5d0"
            ],
            [
             0.7,
             "#b8e186"
            ],
            [
             0.8,
             "#7fbc41"
            ],
            [
             0.9,
             "#4d9221"
            ],
            [
             1,
             "#276419"
            ]
           ],
           "sequential": [
            [
             0,
             "#0d0887"
            ],
            [
             0.1111111111111111,
             "#46039f"
            ],
            [
             0.2222222222222222,
             "#7201a8"
            ],
            [
             0.3333333333333333,
             "#9c179e"
            ],
            [
             0.4444444444444444,
             "#bd3786"
            ],
            [
             0.5555555555555556,
             "#d8576b"
            ],
            [
             0.6666666666666666,
             "#ed7953"
            ],
            [
             0.7777777777777778,
             "#fb9f3a"
            ],
            [
             0.8888888888888888,
             "#fdca26"
            ],
            [
             1,
             "#f0f921"
            ]
           ],
           "sequentialminus": [
            [
             0,
             "#0d0887"
            ],
            [
             0.1111111111111111,
             "#46039f"
            ],
            [
             0.2222222222222222,
             "#7201a8"
            ],
            [
             0.3333333333333333,
             "#9c179e"
            ],
            [
             0.4444444444444444,
             "#bd3786"
            ],
            [
             0.5555555555555556,
             "#d8576b"
            ],
            [
             0.6666666666666666,
             "#ed7953"
            ],
            [
             0.7777777777777778,
             "#fb9f3a"
            ],
            [
             0.8888888888888888,
             "#fdca26"
            ],
            [
             1,
             "#f0f921"
            ]
           ]
          },
          "colorway": [
           "#636efa",
           "#EF553B",
           "#00cc96",
           "#ab63fa",
           "#FFA15A",
           "#19d3f3",
           "#FF6692",
           "#B6E880",
           "#FF97FF",
           "#FECB52"
          ],
          "font": {
           "color": "#2a3f5f"
          },
          "geo": {
           "bgcolor": "white",
           "lakecolor": "white",
           "landcolor": "white",
           "showlakes": true,
           "showland": true,
           "subunitcolor": "#C8D4E3"
          },
          "hoverlabel": {
           "align": "left"
          },
          "hovermode": "closest",
          "mapbox": {
           "style": "light"
          },
          "paper_bgcolor": "white",
          "plot_bgcolor": "white",
          "polar": {
           "angularaxis": {
            "gridcolor": "#EBF0F8",
            "linecolor": "#EBF0F8",
            "ticks": ""
           },
           "bgcolor": "white",
           "radialaxis": {
            "gridcolor": "#EBF0F8",
            "linecolor": "#EBF0F8",
            "ticks": ""
           }
          },
          "scene": {
           "xaxis": {
            "backgroundcolor": "white",
            "gridcolor": "#DFE8F3",
            "gridwidth": 2,
            "linecolor": "#EBF0F8",
            "showbackground": true,
            "ticks": "",
            "zerolinecolor": "#EBF0F8"
           },
           "yaxis": {
            "backgroundcolor": "white",
            "gridcolor": "#DFE8F3",
            "gridwidth": 2,
            "linecolor": "#EBF0F8",
            "showbackground": true,
            "ticks": "",
            "zerolinecolor": "#EBF0F8"
           },
           "zaxis": {
            "backgroundcolor": "white",
            "gridcolor": "#DFE8F3",
            "gridwidth": 2,
            "linecolor": "#EBF0F8",
            "showbackground": true,
            "ticks": "",
            "zerolinecolor": "#EBF0F8"
           }
          },
          "shapedefaults": {
           "line": {
            "color": "#2a3f5f"
           }
          },
          "ternary": {
           "aaxis": {
            "gridcolor": "#DFE8F3",
            "linecolor": "#A2B1C6",
            "ticks": ""
           },
           "baxis": {
            "gridcolor": "#DFE8F3",
            "linecolor": "#A2B1C6",
            "ticks": ""
           },
           "bgcolor": "white",
           "caxis": {
            "gridcolor": "#DFE8F3",
            "linecolor": "#A2B1C6",
            "ticks": ""
           }
          },
          "title": {
           "x": 0.05
          },
          "xaxis": {
           "automargin": true,
           "gridcolor": "#EBF0F8",
           "linecolor": "#EBF0F8",
           "ticks": "",
           "title": {
            "standoff": 15
           },
           "zerolinecolor": "#EBF0F8",
           "zerolinewidth": 2
          },
          "yaxis": {
           "automargin": true,
           "gridcolor": "#EBF0F8",
           "linecolor": "#EBF0F8",
           "ticks": "",
           "title": {
            "standoff": 15
           },
           "zerolinecolor": "#EBF0F8",
           "zerolinewidth": 2
          }
         }
        },
        "title": {
         "text": "Vehicle Motion in Global Reference Frame"
        },
        "width": 1200,
        "xaxis": {
         "linecolor": "black",
         "linewidth": 1,
         "showgrid": false,
         "showline": true,
         "tickcolor": "black",
         "ticklen": 10,
         "ticks": "outside",
         "tickwidth": 1,
         "title": {
          "text": "x-axis - Forward (ft)"
         },
         "zeroline": false
        },
        "yaxis": {
         "autorange": "reversed",
         "linecolor": "black",
         "linewidth": 1,
         "scaleanchor": "x",
         "scaleratio": 1.7142857142857142,
         "showgrid": false,
         "showline": true,
         "tickcolor": "black",
         "ticklen": 10,
         "ticks": "outside",
         "tickwidth": 1,
         "title": {
          "text": "y-axis - Rightward (ft)"
         },
         "zeroline": false
        }
       }
      },
      "text/html": [
       "<div>\n",
       "        \n",
       "        \n",
       "            <div id=\"47caf92c-c714-4ec9-a812-0edc19fdd9da\" class=\"plotly-graph-div\" style=\"height:700px; width:1200px;\"></div>\n",
       "            <script type=\"text/javascript\">\n",
       "                require([\"plotly\"], function(Plotly) {\n",
       "                    window.PLOTLYENV=window.PLOTLYENV || {};\n",
       "                    \n",
       "                if (document.getElementById(\"47caf92c-c714-4ec9-a812-0edc19fdd9da\")) {\n",
       "                    Plotly.newPlot(\n",
       "                        '47caf92c-c714-4ec9-a812-0edc19fdd9da',\n",
       "                        [{\"line\": {\"color\": \"rgb(0, 0, 0)\", \"width\": 2}, \"mode\": \"lines\", \"name\": \"body\", \"type\": \"scatter\", \"x\": [40.88897889669951, 40.19809934970952, 24.724447295617672, 25.415326842607662, 40.88897889669951], \"y\": [13.697881328684403, 19.49015749866531, 17.644522137420623, 11.852245967439718, 13.697881328684403]}, {\"line\": {\"color\": \"rgb(0, 0, 255)\", \"width\": 1}, \"mode\": \"lines\", \"name\": \"LF\", \"type\": \"scatter\", \"x\": [38.65620130538658, 38.84953789077707, 36.749106987041536, 36.55577040165104, 38.65620130538658], \"y\": [13.035821792290992, 13.717259299228093, 14.313190891843506, 13.631753384906405, 13.035821792290992]}, {\"line\": {\"color\": \"rgb(0, 255, 0)\", \"width\": 1}, \"mode\": \"lines\", \"name\": \"RF\", \"type\": \"scatter\", \"x\": [38.049214274816805, 38.242550860207295, 36.14211995647176, 35.94878337108126, 38.049214274816805], \"y\": [18.124750141631363, 18.80618764856846, 19.402119241183875, 18.720681734246774, 18.124750141631363]}, {\"line\": {\"color\": \"rgb(153, 0, 204)\", \"width\": 1}, \"mode\": \"lines\", \"name\": \"RR\", \"type\": \"scatter\", \"x\": [29.45043542826544, 29.366542911845226, 27.1985766882238, 27.282469204644013, 29.45043542826544], \"y\": [17.49486492515349, 18.19821274579403, 17.939626401063492, 17.23627858042295, 17.49486492515349]}, {\"line\": {\"color\": \"rgb(255, 102, 0)\", \"width\": 1}, \"mode\": \"lines\", \"name\": \"LR\", \"type\": \"scatter\", \"x\": [30.057422458835216, 29.973529942415002, 27.805563718793575, 27.88945623521379, 30.057422458835216], \"y\": [12.405936575813122, 13.109284396453662, 12.850698051723123, 12.147350231082584, 12.405936575813122]}, {\"customdata\": [10.9, 10.9], \"hovertemplate\": \"<b>x</b>:%{x:.1f}<br><b>Y</b>: %{y:.1f}<br><b>time</b>: %{customdata:.3f}\", \"marker\": {\"color\": \"rgb(0, 0, 0)\", \"size\": 10}, \"mode\": \"markers\", \"name\": \"CG\", \"type\": \"scatter\", \"x\": [34.24650745841099, 34.24650745841099], \"y\": [15.842934649018597, 15.842934649018597]}, {\"marker\": {\"color\": \"rgb(0, 0, 255)\", \"size\": 5, \"symbol\": [\"circle\", \"circle\", \"circle\", \"circle\", \"circle\", \"circle\", \"circle\", \"circle\", \"circle\", \"circle\", \"circle\", \"circle\", \"circle\", \"circle\", \"circle\", \"circle\", \"circle\", \"circle\", \"circle\", \"circle\", \"circle\", \"circle\", \"circle\", \"circle\", \"circle\", \"circle\", \"circle\", \"circle\", \"circle\", \"circle\", \"circle\", \"circle\", \"circle\", \"circle\", \"circle\", \"circle\", \"circle\", \"circle\", \"circle\", \"circle\", \"circle\", \"circle\", \"circle\", \"circle\", \"circle\", \"circle\", \"circle\", \"circle\", \"circle\", \"circle\", \"circle\", \"circle\", \"circle\", \"circle\", \"circle\", \"circle\", \"circle\", \"circle\", \"circle\", \"circle\", \"circle\", \"circle\", \"circle\", \"circle\", \"circle\", \"circle\", \"circle\", \"circle\", \"circle\", \"circle\", \"circle\", \"circle\", \"circle\", \"circle\", \"circle\", \"circle\", \"circle\", \"circle\", \"circle\", \"circle\", \"circle\", \"circle\", \"circle\", \"circle\", \"circle\", \"circle\", \"circle\", \"circle\", \"circle\", \"circle\", \"circle\", \"circle\", \"circle\", \"circle\", \"circle\", \"circle\", \"circle\", \"circle\", \"circle\", \"circle\", \"circle\", \"circle\", \"circle\", \"circle\", \"circle\", \"circle\", \"circle\", \"circle\", \"circle\"]}, \"mode\": \"markers\", \"name\": \"LF\", \"type\": \"scatter\", \"x\": [3.1750000000000003, 5.375005, 7.575010000000001, 9.775015, 11.97502, 14.175025, 16.37503, 18.575034999999996, 20.77504, 22.975044999999998, 25.175049999999995, 27.371498306805723, 29.55363785279593, 31.708233913296553, 33.82513804277585, 35.89633241280215, 37.91218965619928, 39.85854299049949, 41.716055705250504, 43.461405537811586, 45.07020874048911, 46.52799009405478, 47.83903482200394, 49.013115482947, 50.04896211679187, 50.93647222242716, 51.66711423939167, 52.23922745311725, 52.65635554016424, 52.923372960385535, 53.04440098738999, 53.02300621538993, 52.86318988818045, 52.569926871492996, 52.14906577867846, 51.606994872629606, 50.95041929219526, 50.1863067035284, 49.32189698673723, 48.364687200256085, 47.322378403569104, 46.202811177889885, 45.013911200127055, 43.76364706037486, 42.45999335567553, 41.110894212853054, 39.724227121836094, 38.307768796441074, 36.86916399787958, 35.41589714862156, 33.95526627225387, 32.49435904899114, 31.040031003020587, 29.59888585027671, 28.17725795826837, 26.78119683129957, 25.416453545052182, 24.088469069819425, 22.80236442007205, 21.562932559070845, 20.374631983599183, 19.241581915951258, 18.167559032108738, 17.155995653902888, 16.209979330848753, 15.332253736616192, 14.525220805878016, 13.79094403830295, 13.13115289699404, 12.547248228971949, 12.040308635906953, 11.611097724366065, 11.260072166152034, 10.987390500652248, 10.792922612468463, 10.67625981905457, 10.636725504703026, 10.673386238964579, 10.78506331940612, 10.970344680482334, 11.227597112222952, 11.55497873442605, 11.950451674093042, 12.411794895926592, 12.936617137825992, 13.522369905448281, 14.166360482054067, 14.865764912019314, 15.617640918560609, 16.418940718384203, 17.2665236981231, 18.157168919565436, 19.08758742279862, 20.054434298490555, 21.05432050259813, 22.08382438883, 23.13950293619035, 24.217902650891872, 25.315570123844115, 26.429062226795956, 27.554955932035977, 28.689857742327813, 29.83041271947982, 30.97331310161512, 32.11530650081951, 33.25320367439901, 34.38388586447394, 35.50431170207348, 36.61152367327068], \"y\": [-2.5625, -2.5625, -2.5625, -2.5625, -2.5625, -2.5625, -2.5625, -2.5625, -2.5625, -2.5625, -2.5625, -2.574517603682267, -2.632125154958203, -2.7693933928858754, -3.002121033538799, -3.3353618843120163, -3.7755783334167043, -4.334190785491112, -5.023709965094043, -5.852608010797539, -6.821462033753615, -7.91816631978633, -9.119841813246033, -10.405900683869005, -11.764808195429767, -13.188264782266721, -14.665159235503763, -16.181246799003436, -17.721665706264908, -19.272696502429593, -20.821951623599748, -22.357932561390623, -23.8697768430204, -25.347291429737087, -26.781037010590737, -28.162330577695283, -29.4832015112136, -30.736368044310574, -31.915244673581203, -33.013952017291686, -34.02730901375428, -34.95081125278751, -35.780608260916324, -36.51348568771226, -37.146849707587116, -37.67870914859597, -38.10765400803537, -38.43283181906342, -38.65392353211364, -38.771119356098744, -38.78509416438658, -38.69698212986151, -38.50835067703959, -38.221174061439264, -37.83780681873217, -37.360957179074866, -36.793660481333724, -36.1392526485013, -35.40134382371886, -34.58379227136955, -33.690678628428614, -32.726280573037165, -31.69504797072712, -30.601578558426844, -29.450594224445545, -28.246917937096665, -26.99545136792926, -25.70115324994903, -24.369018506876483, -23.004058185487825, -21.611280218852034, -20.195671043925863, -18.762178092811986, -17.31569317313794, -15.861036749400036, -14.402943133647492, -12.946046590544734, -11.494868358680996, -10.053804587012916, -8.627115182523474, -7.218913562545256, -5.8331573027211325, -4.473639669265007, -3.143982022036664, -1.8476270729562412, -0.5878329824482467, 0.6323317250791224, 1.8099924472525672, 2.942472013177472, 4.027293439490018, 5.062181957322704, 6.045066335479416, 6.97407952598337, 7.847558658906179, 8.66404441401547, 9.422279797296685, 10.121208350815124, 10.75997182469402, 11.3379073401961, 11.854544073015145, 12.309599485916143, 12.70297513981036, 13.034752112222098, 13.305186051899677, 13.514701898049564, 13.663888292334446, 13.753491711376592, 13.784410347052694, 13.757687761358673]}, {\"marker\": {\"color\": \"rgb(0, 255, 0)\", \"size\": 5, \"symbol\": [\"circle\", \"circle\", \"circle\", \"circle\", \"circle\", \"circle\", \"circle\", \"circle\", \"circle\", \"circle\", \"circle\", \"circle\", \"circle\", \"circle\", \"circle\", \"circle\", \"circle\", \"circle\", \"circle\", \"circle\", \"circle\", \"circle\", \"circle\", \"circle\", \"circle\", \"circle\", \"circle\", \"circle\", \"circle\", \"circle\", \"circle\", \"circle\", \"circle\", \"circle\", \"circle\", \"circle\", \"circle\", \"circle\", \"circle\", \"circle\", \"circle\", \"circle\", \"circle\", \"circle\", \"circle\", \"circle\", \"circle\", \"circle\", \"circle\", \"circle\", \"circle\", \"circle\", \"circle\", \"circle\", \"circle\", \"circle\", \"circle\", \"circle\", \"circle\", \"circle\", \"circle\", \"circle\", \"circle\", \"circle\", \"circle\", \"circle\", \"circle\", \"circle\", \"circle\", \"circle\", \"circle\", \"circle\", \"circle\", \"circle\", \"circle\", \"circle\", \"circle\", \"circle\", \"circle\", \"circle\", \"circle\", \"circle\", \"circle\", \"circle\", \"circle\", \"circle\", \"circle\", \"circle\", \"circle\", \"circle\", \"circle\", \"circle\", \"circle\", \"circle\", \"circle\", \"circle\", \"circle\", \"circle\", \"circle\", \"circle\", \"circle\", \"circle\", \"circle\", \"circle\", \"circle\", \"circle\", \"circle\", \"circle\", \"circle\"]}, \"mode\": \"markers\", \"name\": \"RF\", \"type\": \"scatter\", \"x\": [3.1750000000000003, 5.375005, 7.575010000000001, 9.775015, 11.97502, 14.175025, 16.37503, 18.575034999999996, 20.77504, 22.975044999999998, 25.175049999999995, 27.378018329909896, 29.59158282165199, 31.82160507880181, 34.06674969607985, 36.319280642969105, 38.5662671153384, 40.78952308844755, 42.96546582486105, 45.06567745088145, 47.05859837576047, 48.91613060564868, 50.62154953272123, 52.166222008920116, 53.54078214394404, 54.73441915050952, 55.73971894251101, 56.55531705322814, 57.184258496917195, 57.630877329733806, 57.89909805044073, 57.99261278063767, 57.915744843975, 57.67392655594388, 57.27359819107319, 56.721880628024344, 56.02634516808855, 55.1949441190191, 54.236007225647725, 53.158216676096416, 51.97054457402096, 50.68217823464957, 49.30245522128162, 47.84081120457146, 46.30673383724004, 44.709717474212056, 43.05921839309818, 41.36461227418979, 39.63515501370186, 37.87994676410937, 36.107898717800204, 34.32770238679076, 32.54780138443296, 30.776365749280707, 29.02126877427989, 27.290066255666414, 25.589978079326624, 23.927872076799225, 22.310250083113875, 20.74323612029383, 19.23256662570942, 17.783582644986105, 16.401223909778654, 15.090024718923448, 13.854111538976344, 12.697202239034382, 11.622606875047763, 10.63322993936832, 9.731573991398749, 8.91974458520204, 8.199456410316326, 7.572040562906959, 7.038452865546441, 6.59928315513819, 6.254765459786562, 6.004788986856136, 5.848909846101922, 5.786363433554147, 5.816077403750246, 5.936685159898367, 6.146539793635189, 6.443728408209875, 6.826086761176829, 7.291214164993589, 7.836488586283048, 8.459081886922275, 9.155975152557833, 9.923974056612424, 10.759724210330594, 11.659726451902841, 12.620352030201241, 13.637857641147592, 14.708400277212865, 15.828051853006457, 16.992813572350357, 18.198630004641576, 19.441402840679746, 20.71700430047339, 22.021290167831307, 23.350112428792805, 24.69933149314753, 26.064827980438974, 27.442514053933795, 28.828344288067534, 30.218326056845065, 31.608529432578887, 32.995096586187685, 34.37425068205127, 35.74230426212384], \"y\": [2.5625, 2.5625, 2.5625, 2.5625, 2.5625, 2.5625, 2.5625, 2.5625, 2.5625, 2.5625, 2.5625, 2.550478248930564, 2.4927343728082425, 2.354352500387129, 2.1171805603300076, 1.7721560838011294, 1.3075120334217722, 0.7055414551368187, -0.053337810716187484, -0.9851716600133638, -2.097911286874163, -3.383586968084124, -4.815978794440502, -6.365660067783656, -8.013432727954003, -9.747156802056011, -11.553967191908528, -13.417735343659954, -15.320890870044769, -17.246609729221962, -19.17953224171016, -21.105480731320267, -23.01110727987287, -24.883813036362223, -26.711808733739282, -28.484151505013603, -30.19073349101167, -31.82226686102723, -33.37028610248798, -34.82715365093587, -36.18605315141092, -37.44097104099712, -38.58667582578704, -39.618700260214055, -40.53332466947489, -41.32755775240257, -41.99911365970924, -42.546386602039476, -42.96842451141477, -43.264902227179, -43.43609390147334, -43.48284435162947, -43.40653947259817, -43.209076033956514, -42.892831125543715, -42.460631375427475, -41.91572200341688, -41.261735796919936, -40.50266213170164, -39.642816164202664, -38.686808302317004, -37.63951404254227, -36.50604425378775, -35.29171598667137, -34.002023884147896, -32.642612262808115, -31.219247926542156, -29.73779376768026, -28.204183205377905, -26.624395506019713, -25.00443202523729, -23.35029340586808, -21.667957761120363, -19.963359867464394, -18.242371387278993, -16.510782136968018, -14.774282412109903, -13.03844637724642, -11.30871652416769, -9.590389199008085, -7.888601195121626, -6.2083174055506385, -4.55431952594076, -2.9311957959842494, -1.3433317648911522, 0.20509793601249782, 1.7101368326792463, 3.168052880891968, 4.575343795008387, 5.928741457638369, 7.225215436536612, 8.461975636377002, 9.636474114307287, 10.746406089266022, 11.78971017598512, 12.764567875405863, 13.669402353908033, 14.502876544298452, 15.263890601929678, 15.951578749628993, 16.565305545317223, 17.104661606290886, 17.569458824136717, 17.959725104148383, 18.275698662927535, 18.51782191758041, 18.686734999571197, 18.7832689258711, 18.80843845955053]}, {\"marker\": {\"color\": \"rgb(153, 0, 204)\", \"size\": 5, \"symbol\": [\"circle\", \"circle\", \"circle\", \"circle\", \"circle\", \"circle\", \"circle\", \"circle\", \"circle\", \"circle\", \"circle\", \"circle\", \"circle\", \"circle\", \"circle\", \"circle\", \"circle\", \"circle\", \"circle\", \"circle\", \"circle\", \"circle\", \"circle\", \"circle\", \"circle\", \"circle\", \"circle\", \"circle\", \"circle\", \"circle\", \"circle\", \"circle\", \"circle\", \"circle\", \"circle\", \"circle\", \"circle\", \"circle\", \"circle\", \"circle\", \"circle\", \"circle\", \"circle\", \"circle\", \"circle\", \"circle\", \"circle\", \"circle\", \"circle\", \"circle\", \"circle\", \"circle\", \"circle\", \"circle\", \"circle\", \"circle\", \"circle\", \"circle\", \"circle\", \"circle\", \"circle\", \"circle\", \"circle\", \"circle\", \"circle\", \"circle\", \"circle\", \"circle\", \"circle\", \"circle\", \"circle\", \"circle\", \"circle\", \"circle\", \"circle\", \"circle\", \"circle\", \"circle\", \"circle\", \"circle\", \"circle\", \"circle\", \"circle\", \"circle\", \"circle\", \"circle\", \"circle\", \"circle\", \"circle\", \"circle\", \"circle\", \"circle\", \"circle\", \"circle\", \"circle\", \"circle\", \"circle\", \"circle\", \"circle\", \"circle\", \"circle\", \"circle\", \"circle\", \"circle\", \"circle\", \"circle\", \"circle\", \"circle\", \"circle\"]}, \"mode\": \"markers\", \"name\": \"RR\", \"type\": \"scatter\", \"x\": [-5.658333333333334, -3.458328333333334, -1.2583233333333341, 0.941681666666665, 3.141686666666666, 5.341691666666665, 7.541696666666664, 9.741701666666664, 11.941706666666665, 14.141711666666662, 16.34171666666666, 18.544692144918674, 20.75849160306267, 22.990433295274354, 25.243238005834428, 27.516078941830997, 29.805168271681836, 32.10315532411323, 34.39864552625857, 36.67627496009897, 38.91719383642353, 41.100432861251385, 43.203509207625515, 45.20255525599252, 47.07499678536793, 48.803403769983746, 50.377339160054184, 51.79219161800197, 53.04633764099305, 54.13876028973367, 55.06826139222453, 55.833915317426985, 56.43576153188333, 56.87508574785062, 57.15427790902027, 57.27656385234535, 57.24583118204945, 57.06657459986406, 56.74388350961713, 56.28340973571078, 55.69130682754298, 54.974160959043374, 54.13892939813195, 53.192888353924154, 52.14358499106287, 50.998789864512865, 49.76644966264989, 48.45464165622981, 47.071530685342836, 45.625328623207054, 44.12425598822618, 42.57650556577293, 40.99020808897295, 39.37340004337549, 37.73399359577622, 36.07974861035545, 34.41824671901467, 32.7568674220411, 31.102766191181743, 29.462854537209438, 27.843781998590227, 26.25192000705993, 24.693347584647377, 23.17383882288963, 21.69885209065844, 20.273520914244365, 18.902646472006573, 17.590691644726213, 16.341776561173564, 15.159675576687897, 14.047815621321806, 13.009275853408994, 12.046788554012911, 11.162741197391915, 10.359179632390946, 9.637812309652492, 9.000015489775224, 8.446839367992114, 7.979015051529201, 7.596962326522251, 7.300798152222103, 7.090345821216829, 6.965144725528531, 6.924460669683736, 6.967296673195252, 7.092404206323268, 7.298294804499083, 7.583252008388417, 7.94534357823178, 8.382433932817879, 8.892196765214669, 9.472127789194028, 10.119557572134246, 10.831664412061038, 11.605487218386404, 12.437938357819254, 13.325816428844812, 14.265818930098268, 15.254554789883999, 16.288556726011215, 17.364293407025347, 18.47818138780587, 19.626596794373633, 20.80588673459822, 22.012380413315547, 23.242399932154953, 24.492270756128686, 25.758331830754503, 27.036945335159007], \"y\": [2.5625, 2.5625, 2.5625, 2.5625, 2.5625, 2.5625, 2.5625, 2.5625, 2.5625, 2.5625, 2.5625, 2.5617160123296285, 2.55813545734064, 2.5497564604449736, 2.5336169058621185, 2.5011400252270963, 2.434865052425777, 2.3101575589172136, 2.1001170295881684, 1.779914889342816, 1.3292318243252499, 0.7325576535248848, -0.020099780846470683, -0.9310374376511228, -1.9950112177405017, -3.201101934141713, -4.534518435312606, -5.978621561355009, -7.516700407999023, -9.132862360914364, -10.81208689726499, -12.53997998471441, -14.302638575576577, -16.086675368853395, -17.879281323758118, -19.668250853438938, -21.441983200854136, -23.189493429449765, -24.900437560625992, -26.565135367373674, -28.174579751932914, -29.720435951297514, -31.19503897631738, -32.5913929547695, -33.9031703435263, -35.124707903556164, -36.2509986230624, -37.277680770472585, -38.20102536219262, -39.01792240211057, -39.725865621344695, -40.32293550924312, -40.807780766424, -41.17959848445368, -41.43811329632061, -41.58355561960821, -41.61663906629346, -41.53853711822305, -41.350859200279956, -41.0556262863224, -40.65524615494001, -40.152488395750495, -39.550459261381064, -38.852576459969264, -38.06254398070847, -37.184327039127986, -36.222127221956896, -35.18035790568141, -34.06362001827386, -32.87667820910281, -31.624437487230892, -30.311920383342315, -28.944244685741385, -27.52660179631789, -26.064235747999017, -24.56242292091979, -23.026452490349207, -21.46160763535221, -19.873147533265623, -18.26629016131541, -16.64619592309403, -15.017952114150878, -13.386558237633743, -11.756912177754955, -10.133797235843222, -8.521870030877855, -6.925649263688248, -5.349505341435356, -3.7976508565750517, -2.274131912231944, -0.782820283783991, 0.6725935955267308, 2.088606838988746, 3.461909516561724, 4.78938928807839, 6.068135278268088, 7.295441213678378, 8.468807842764154, 9.585944661484834, 10.644770967704856, 11.643416268533883, 12.580220065474354, 13.453731042870402, 14.262705685676123, 15.00610635298784, 15.683098834118088, 16.293049414232275, 16.835521476727124, 17.310271669606387]}, {\"marker\": {\"color\": \"rgb(255, 102, 0)\", \"size\": 5, \"symbol\": [\"circle\", \"circle\", \"circle\", \"circle\", \"circle\", \"circle\", \"circle\", \"circle\", \"circle\", \"circle\", \"circle\", \"circle\", \"circle\", \"circle\", \"circle\", \"circle\", \"circle\", \"circle\", \"circle\", \"circle\", \"circle\", \"circle\", \"circle\", \"circle\", \"circle\", \"circle\", \"circle\", \"circle\", \"circle\", \"circle\", \"circle\", \"circle\", \"circle\", \"circle\", \"circle\", \"circle\", \"circle\", \"circle\", \"circle\", \"circle\", \"circle\", \"circle\", \"circle\", \"circle\", \"circle\", \"circle\", \"circle\", \"circle\", \"circle\", \"circle\", \"circle\", \"circle\", \"circle\", \"circle\", \"circle\", \"circle\", \"circle\", \"circle\", \"circle\", \"circle\", \"circle\", \"circle\", \"circle\", \"circle\", \"circle\", \"circle\", \"circle\", \"circle\", \"circle\", \"circle\", \"circle\", \"circle\", \"circle\", \"circle\", \"circle\", \"circle\", \"circle\", \"circle\", \"circle\", \"circle\", \"circle\", \"circle\", \"circle\", \"circle\", \"circle\", \"circle\", \"circle\", \"circle\", \"circle\", \"circle\", \"circle\", \"circle\", \"circle\", \"circle\", \"circle\", \"circle\", \"circle\", \"circle\", \"circle\", \"circle\", \"circle\", \"circle\", \"circle\", \"circle\", \"circle\", \"circle\", \"circle\", \"circle\", \"circle\"]}, \"mode\": \"markers\", \"name\": \"LR\", \"type\": \"scatter\", \"x\": [-5.658333333333334, -3.458328333333334, -1.2583233333333341, 0.941681666666665, 3.141686666666666, 5.341691666666665, 7.541696666666664, 9.741701666666664, 11.941706666666665, 14.141711666666662, 16.34171666666666, 18.5381721218145, 20.72054663420661, 22.877062129769097, 25.001626352530423, 27.093130711664045, 29.15109081254272, 31.17217522616517, 33.149235406648025, 35.072003047029106, 36.92880420115217, 38.71229234965748, 40.42099449690822, 42.04944873001941, 43.58317675821576, 45.00545684190139, 46.304734456934845, 47.47610201789109, 48.5184346842401, 49.4312559203854, 50.21356432917379, 50.86430875217924, 51.38320657608878, 51.771086063399736, 52.029745496625544, 52.16167809695061, 52.16990530615616, 52.057937184373365, 51.82977327070663, 51.489880259870446, 51.04314065709112, 50.49479390228369, 49.850385376977385, 49.11572420972755, 48.296844509498364, 47.399966603153864, 46.43145839138781, 45.397798178481096, 44.305539669520556, 43.161279007719244, 41.97162354267985, 40.743162227973315, 39.48243770756058, 38.19592014437149, 36.8899827797647, 35.570879185988616, 34.24472218474023, 32.9174644150613, 31.594880528139917, 30.282550975986453, 28.98584735647999, 27.709919278025083, 26.45968270697746, 25.239809757869068, 24.054719882530847, 22.908572411826178, 21.80526040283683, 20.748405743660847, 19.741355466768855, 18.78717922045781, 17.888667846912433, 17.048333014868103, 16.268407854618506, 15.550848542905973, 14.897336785072847, 14.309283141850926, 13.787831148376329, 13.333862173402546, 12.948000967185076, 12.630621847106218, 12.381855470809864, 12.201596147433005, 12.089509638444742, 12.04504140061674, 12.067425224738196, 12.155692224849274, 12.308680133995317, 12.525042863795306, 12.803260286461795, 13.14164819929924, 13.538368433136528, 13.991439067611873, 14.498744717720003, 15.058046857545133, 15.666994148634178, 16.32313274200768, 17.023916524355414, 17.76671728051675, 18.54883474589681, 19.367506524014367, 20.219917845913795, 21.103211149694708, 22.014495459919658, 22.950855548145807, 23.909360857289997, 24.887074173975073, 25.881060034414947, 26.888392850776714, 27.906164746305844], \"y\": [-2.5625, -2.5625, -2.5625, -2.5625, -2.5625, -2.5625, -2.5625, -2.5625, -2.5625, -2.5625, -2.5625, -2.5632798402832027, -2.5667240704258054, -2.573989432828031, -2.585684688006688, -2.6063779428860494, -2.6482253144126995, -2.729574681710717, -2.8702551247896873, -3.0875214614413595, -3.394318922554203, -3.802021698177321, -4.323962799652003, -4.971278053736471, -5.746386685216264, -6.642209914352421, -7.645710478907839, -8.74213301669849, -9.917475244219164, -11.158949134121992, -12.454506279154579, -13.792431814784763, -15.161308138724106, -16.55015376222826, -17.948509600609572, -19.346429926120617, -20.734451221056066, -22.103594612733108, -23.445396131719217, -24.75193373372949, -26.015835614276273, -27.230276163087904, -28.388971411446672, -29.4861783822677, -30.516695381638524, -31.475859299749565, -32.35953897138853, -33.16412598749653, -33.88652438289149, -34.524139531030315, -35.07486588425793, -35.53707328747517, -35.90959197086542, -36.19169651193643, -36.38308898950906, -36.4838814232556, -36.4945775442103, -36.41605396980441, -36.24954089229719, -35.99660239348929, -35.65911648105162, -35.239254926245394, -34.73946297832043, -34.16243903172474, -33.51111432100612, -32.78863271341654, -31.998330663344003, -31.143717387950183, -30.228455319772433, -29.256340888570925, -28.231285680845637, -27.1572980214001, -26.03846501743301, -24.878935101991438, -23.68290111012006, -22.454583917599262, -21.198216668784035, -19.918029616786782, -18.61823559611085, -17.3030161448308, -15.97650829051766, -14.64279201132137, -13.305878380957992, -11.96969840380737, -10.63809254390831, -9.314800949338599, -8.003454371288372, -6.707565775074756, -5.430522638405968, -4.1755799303802945, -2.9458537629978983, -1.7443157053708551, -0.5737877493351697, 0.5630620862018811, 1.663723526108739, 2.7258472001589125, 3.747247210585469, 4.725903123159721, 5.659961399751254, 6.547736291091008, 7.3877102091328055, 8.178533598993827, 8.919024330955779, 9.608166633427418, 10.245109588109868, 10.829165208872126, 11.35980612603767, 11.836662897908719, 12.25952097141453]}],\n",
       "                        {\"annotations\": [{\"arrowcolor\": \"rgb(255, 0, 0)\", \"arrowhead\": 1, \"arrowsize\": 2.5, \"arrowwidth\": 1.7, \"ax\": 34.24650745841099, \"axref\": \"x\", \"ay\": 15.842934649018597, \"ayref\": \"y\", \"showarrow\": true, \"text\": \"\", \"x\": 46.09376004495286, \"xref\": \"x\", \"y\": 14.735981911502607, \"yref\": \"y\"}, {\"arrowcolor\": \"rgb(0, 0, 0)\", \"arrowhead\": 1, \"arrowsize\": 2, \"arrowwidth\": 1.5, \"ax\": 34.24650745841099, \"axref\": \"x\", \"ay\": 15.842934649018597, \"ayref\": \"y\", \"showarrow\": true, \"text\": \"\", \"x\": 42.0329815669139, \"xref\": \"x\", \"y\": 16.771674154329425, \"yref\": \"y\"}, {\"arrowcolor\": \"rgb(0, 0, 255)\", \"arrowhead\": 1, \"arrowsize\": 2, \"arrowwidth\": 1.5, \"ax\": 34.24650745841099, \"axref\": \"x\", \"ay\": 15.842934649018597, \"ayref\": \"y\", \"showarrow\": true, \"text\": \"\", \"x\": 33.723412944261426, \"xref\": \"x\", \"y\": 20.228515177718425, \"yref\": \"y\"}], \"autosize\": false, \"font\": {\"color\": \"black\", \"family\": \"Arial\", \"size\": 16}, \"height\": 700, \"showlegend\": false, \"template\": {\"data\": {\"bar\": [{\"error_x\": {\"color\": \"#2a3f5f\"}, \"error_y\": {\"color\": \"#2a3f5f\"}, \"marker\": {\"line\": {\"color\": \"white\", \"width\": 0.5}}, \"type\": \"bar\"}], \"barpolar\": [{\"marker\": {\"line\": {\"color\": \"white\", \"width\": 0.5}}, \"type\": \"barpolar\"}], \"carpet\": [{\"aaxis\": {\"endlinecolor\": \"#2a3f5f\", \"gridcolor\": \"#C8D4E3\", \"linecolor\": \"#C8D4E3\", \"minorgridcolor\": \"#C8D4E3\", \"startlinecolor\": \"#2a3f5f\"}, \"baxis\": {\"endlinecolor\": \"#2a3f5f\", \"gridcolor\": \"#C8D4E3\", \"linecolor\": \"#C8D4E3\", \"minorgridcolor\": \"#C8D4E3\", \"startlinecolor\": \"#2a3f5f\"}, \"type\": \"carpet\"}], \"choropleth\": [{\"colorbar\": {\"outlinewidth\": 0, \"ticks\": \"\"}, \"type\": \"choropleth\"}], \"contour\": [{\"colorbar\": {\"outlinewidth\": 0, \"ticks\": \"\"}, \"colorscale\": [[0.0, \"#0d0887\"], [0.1111111111111111, \"#46039f\"], [0.2222222222222222, \"#7201a8\"], [0.3333333333333333, \"#9c179e\"], [0.4444444444444444, \"#bd3786\"], [0.5555555555555556, \"#d8576b\"], [0.6666666666666666, \"#ed7953\"], [0.7777777777777778, \"#fb9f3a\"], [0.8888888888888888, \"#fdca26\"], [1.0, \"#f0f921\"]], \"type\": \"contour\"}], \"contourcarpet\": [{\"colorbar\": {\"outlinewidth\": 0, \"ticks\": \"\"}, \"type\": \"contourcarpet\"}], \"heatmap\": [{\"colorbar\": {\"outlinewidth\": 0, \"ticks\": \"\"}, \"colorscale\": [[0.0, \"#0d0887\"], [0.1111111111111111, \"#46039f\"], [0.2222222222222222, \"#7201a8\"], [0.3333333333333333, \"#9c179e\"], [0.4444444444444444, \"#bd3786\"], [0.5555555555555556, \"#d8576b\"], [0.6666666666666666, \"#ed7953\"], [0.7777777777777778, \"#fb9f3a\"], [0.8888888888888888, \"#fdca26\"], [1.0, \"#f0f921\"]], \"type\": \"heatmap\"}], \"heatmapgl\": [{\"colorbar\": {\"outlinewidth\": 0, \"ticks\": \"\"}, \"colorscale\": [[0.0, \"#0d0887\"], [0.1111111111111111, \"#46039f\"], [0.2222222222222222, \"#7201a8\"], [0.3333333333333333, \"#9c179e\"], [0.4444444444444444, \"#bd3786\"], [0.5555555555555556, \"#d8576b\"], [0.6666666666666666, \"#ed7953\"], [0.7777777777777778, \"#fb9f3a\"], [0.8888888888888888, \"#fdca26\"], [1.0, \"#f0f921\"]], \"type\": \"heatmapgl\"}], \"histogram\": [{\"marker\": {\"colorbar\": {\"outlinewidth\": 0, \"ticks\": \"\"}}, \"type\": \"histogram\"}], \"histogram2d\": [{\"colorbar\": {\"outlinewidth\": 0, \"ticks\": \"\"}, \"colorscale\": [[0.0, \"#0d0887\"], [0.1111111111111111, \"#46039f\"], [0.2222222222222222, \"#7201a8\"], [0.3333333333333333, \"#9c179e\"], [0.4444444444444444, \"#bd3786\"], [0.5555555555555556, \"#d8576b\"], [0.6666666666666666, \"#ed7953\"], [0.7777777777777778, \"#fb9f3a\"], [0.8888888888888888, \"#fdca26\"], [1.0, \"#f0f921\"]], \"type\": \"histogram2d\"}], \"histogram2dcontour\": [{\"colorbar\": {\"outlinewidth\": 0, \"ticks\": \"\"}, \"colorscale\": [[0.0, \"#0d0887\"], [0.1111111111111111, \"#46039f\"], [0.2222222222222222, \"#7201a8\"], [0.3333333333333333, \"#9c179e\"], [0.4444444444444444, \"#bd3786\"], [0.5555555555555556, \"#d8576b\"], [0.6666666666666666, \"#ed7953\"], [0.7777777777777778, \"#fb9f3a\"], [0.8888888888888888, \"#fdca26\"], [1.0, \"#f0f921\"]], \"type\": \"histogram2dcontour\"}], \"mesh3d\": [{\"colorbar\": {\"outlinewidth\": 0, \"ticks\": \"\"}, \"type\": \"mesh3d\"}], \"parcoords\": [{\"line\": {\"colorbar\": {\"outlinewidth\": 0, \"ticks\": \"\"}}, \"type\": \"parcoords\"}], \"pie\": [{\"automargin\": true, \"type\": \"pie\"}], \"scatter\": [{\"marker\": {\"colorbar\": {\"outlinewidth\": 0, \"ticks\": \"\"}}, \"type\": \"scatter\"}], \"scatter3d\": [{\"line\": {\"colorbar\": {\"outlinewidth\": 0, \"ticks\": \"\"}}, \"marker\": {\"colorbar\": {\"outlinewidth\": 0, \"ticks\": \"\"}}, \"type\": \"scatter3d\"}], \"scattercarpet\": [{\"marker\": {\"colorbar\": {\"outlinewidth\": 0, \"ticks\": \"\"}}, \"type\": \"scattercarpet\"}], \"scattergeo\": [{\"marker\": {\"colorbar\": {\"outlinewidth\": 0, \"ticks\": \"\"}}, \"type\": \"scattergeo\"}], \"scattergl\": [{\"marker\": {\"colorbar\": {\"outlinewidth\": 0, \"ticks\": \"\"}}, \"type\": \"scattergl\"}], \"scattermapbox\": [{\"marker\": {\"colorbar\": {\"outlinewidth\": 0, \"ticks\": \"\"}}, \"type\": \"scattermapbox\"}], \"scatterpolar\": [{\"marker\": {\"colorbar\": {\"outlinewidth\": 0, \"ticks\": \"\"}}, \"type\": \"scatterpolar\"}], \"scatterpolargl\": [{\"marker\": {\"colorbar\": {\"outlinewidth\": 0, \"ticks\": \"\"}}, \"type\": \"scatterpolargl\"}], \"scatterternary\": [{\"marker\": {\"colorbar\": {\"outlinewidth\": 0, \"ticks\": \"\"}}, \"type\": \"scatterternary\"}], \"surface\": [{\"colorbar\": {\"outlinewidth\": 0, \"ticks\": \"\"}, \"colorscale\": [[0.0, \"#0d0887\"], [0.1111111111111111, \"#46039f\"], [0.2222222222222222, \"#7201a8\"], [0.3333333333333333, \"#9c179e\"], [0.4444444444444444, \"#bd3786\"], [0.5555555555555556, \"#d8576b\"], [0.6666666666666666, \"#ed7953\"], [0.7777777777777778, \"#fb9f3a\"], [0.8888888888888888, \"#fdca26\"], [1.0, \"#f0f921\"]], \"type\": \"surface\"}], \"table\": [{\"cells\": {\"fill\": {\"color\": \"#EBF0F8\"}, \"line\": {\"color\": \"white\"}}, \"header\": {\"fill\": {\"color\": \"#C8D4E3\"}, \"line\": {\"color\": \"white\"}}, \"type\": \"table\"}]}, \"layout\": {\"annotationdefaults\": {\"arrowcolor\": \"#2a3f5f\", \"arrowhead\": 0, \"arrowwidth\": 1}, \"coloraxis\": {\"colorbar\": {\"outlinewidth\": 0, \"ticks\": \"\"}}, \"colorscale\": {\"diverging\": [[0, \"#8e0152\"], [0.1, \"#c51b7d\"], [0.2, \"#de77ae\"], [0.3, \"#f1b6da\"], [0.4, \"#fde0ef\"], [0.5, \"#f7f7f7\"], [0.6, \"#e6f5d0\"], [0.7, \"#b8e186\"], [0.8, \"#7fbc41\"], [0.9, \"#4d9221\"], [1, \"#276419\"]], \"sequential\": [[0.0, \"#0d0887\"], [0.1111111111111111, \"#46039f\"], [0.2222222222222222, \"#7201a8\"], [0.3333333333333333, \"#9c179e\"], [0.4444444444444444, \"#bd3786\"], [0.5555555555555556, \"#d8576b\"], [0.6666666666666666, \"#ed7953\"], [0.7777777777777778, \"#fb9f3a\"], [0.8888888888888888, \"#fdca26\"], [1.0, \"#f0f921\"]], \"sequentialminus\": [[0.0, \"#0d0887\"], [0.1111111111111111, \"#46039f\"], [0.2222222222222222, \"#7201a8\"], [0.3333333333333333, \"#9c179e\"], [0.4444444444444444, \"#bd3786\"], [0.5555555555555556, \"#d8576b\"], [0.6666666666666666, \"#ed7953\"], [0.7777777777777778, \"#fb9f3a\"], [0.8888888888888888, \"#fdca26\"], [1.0, \"#f0f921\"]]}, \"colorway\": [\"#636efa\", \"#EF553B\", \"#00cc96\", \"#ab63fa\", \"#FFA15A\", \"#19d3f3\", \"#FF6692\", \"#B6E880\", \"#FF97FF\", \"#FECB52\"], \"font\": {\"color\": \"#2a3f5f\"}, \"geo\": {\"bgcolor\": \"white\", \"lakecolor\": \"white\", \"landcolor\": \"white\", \"showlakes\": true, \"showland\": true, \"subunitcolor\": \"#C8D4E3\"}, \"hoverlabel\": {\"align\": \"left\"}, \"hovermode\": \"closest\", \"mapbox\": {\"style\": \"light\"}, \"paper_bgcolor\": \"white\", \"plot_bgcolor\": \"white\", \"polar\": {\"angularaxis\": {\"gridcolor\": \"#EBF0F8\", \"linecolor\": \"#EBF0F8\", \"ticks\": \"\"}, \"bgcolor\": \"white\", \"radialaxis\": {\"gridcolor\": \"#EBF0F8\", \"linecolor\": \"#EBF0F8\", \"ticks\": \"\"}}, \"scene\": {\"xaxis\": {\"backgroundcolor\": \"white\", \"gridcolor\": \"#DFE8F3\", \"gridwidth\": 2, \"linecolor\": \"#EBF0F8\", \"showbackground\": true, \"ticks\": \"\", \"zerolinecolor\": \"#EBF0F8\"}, \"yaxis\": {\"backgroundcolor\": \"white\", \"gridcolor\": \"#DFE8F3\", \"gridwidth\": 2, \"linecolor\": \"#EBF0F8\", \"showbackground\": true, \"ticks\": \"\", \"zerolinecolor\": \"#EBF0F8\"}, \"zaxis\": {\"backgroundcolor\": \"white\", \"gridcolor\": \"#DFE8F3\", \"gridwidth\": 2, \"linecolor\": \"#EBF0F8\", \"showbackground\": true, \"ticks\": \"\", \"zerolinecolor\": \"#EBF0F8\"}}, \"shapedefaults\": {\"line\": {\"color\": \"#2a3f5f\"}}, \"ternary\": {\"aaxis\": {\"gridcolor\": \"#DFE8F3\", \"linecolor\": \"#A2B1C6\", \"ticks\": \"\"}, \"baxis\": {\"gridcolor\": \"#DFE8F3\", \"linecolor\": \"#A2B1C6\", \"ticks\": \"\"}, \"bgcolor\": \"white\", \"caxis\": {\"gridcolor\": \"#DFE8F3\", \"linecolor\": \"#A2B1C6\", \"ticks\": \"\"}}, \"title\": {\"x\": 0.05}, \"xaxis\": {\"automargin\": true, \"gridcolor\": \"#EBF0F8\", \"linecolor\": \"#EBF0F8\", \"ticks\": \"\", \"title\": {\"standoff\": 15}, \"zerolinecolor\": \"#EBF0F8\", \"zerolinewidth\": 2}, \"yaxis\": {\"automargin\": true, \"gridcolor\": \"#EBF0F8\", \"linecolor\": \"#EBF0F8\", \"ticks\": \"\", \"title\": {\"standoff\": 15}, \"zerolinecolor\": \"#EBF0F8\", \"zerolinewidth\": 2}}}, \"title\": {\"text\": \"Vehicle Motion in Global Reference Frame\"}, \"width\": 1200, \"xaxis\": {\"linecolor\": \"black\", \"linewidth\": 1, \"showgrid\": false, \"showline\": true, \"tickcolor\": \"black\", \"ticklen\": 10, \"ticks\": \"outside\", \"tickwidth\": 1, \"title\": {\"text\": \"x-axis - Forward (ft)\"}, \"zeroline\": false}, \"yaxis\": {\"autorange\": \"reversed\", \"linecolor\": \"black\", \"linewidth\": 1, \"scaleanchor\": \"x\", \"scaleratio\": 1.7142857142857142, \"showgrid\": false, \"showline\": true, \"tickcolor\": \"black\", \"ticklen\": 10, \"ticks\": \"outside\", \"tickwidth\": 1, \"title\": {\"text\": \"y-axis - Rightward (ft)\"}, \"zeroline\": false}},\n",
       "                        {\"responsive\": true}\n",
       "                    ).then(function(){\n",
       "                            \n",
       "var gd = document.getElementById('47caf92c-c714-4ec9-a812-0edc19fdd9da');\n",
       "var x = new MutationObserver(function (mutations, observer) {{\n",
       "        var display = window.getComputedStyle(gd).display;\n",
       "        if (!display || display === 'none') {{\n",
       "            console.log([gd, 'removed!']);\n",
       "            Plotly.purge(gd);\n",
       "            observer.disconnect();\n",
       "        }}\n",
       "}});\n",
       "\n",
       "// Listen for the removal of the full notebook cells\n",
       "var notebookContainer = gd.closest('#notebook-container');\n",
       "if (notebookContainer) {{\n",
       "    x.observe(notebookContainer, {childList: true});\n",
       "}}\n",
       "\n",
       "// Listen for the clearing of the current output cell\n",
       "var outputEl = gd.closest('.output');\n",
       "if (outputEl) {{\n",
       "    x.observe(outputEl, {childList: true});\n",
       "}}\n",
       "\n",
       "                        })\n",
       "                };\n",
       "                });\n",
       "            </script>\n",
       "        </div>"
      ]
     },
     "metadata": {},
     "output_type": "display_data"
    }
   ],
   "source": [
    "run.global_motion(109)"
   ]
  },
  {
   "cell_type": "markdown",
   "metadata": {},
   "source": [
    "### Compare to PC Crash Model"
   ]
  },
  {
   "cell_type": "code",
   "execution_count": 43,
   "metadata": {},
   "outputs": [],
   "source": [
    "from pycrash.visualization.kinematics_compare import compare_kinematics"
   ]
  },
  {
   "cell_type": "code",
   "execution_count": 44,
   "metadata": {},
   "outputs": [],
   "source": [
    "# calculate vehicle slip angle for pycrash model - need to add\n",
    "phi_rad = []\n",
    "phi_deg = []\n",
    "for i in range(len(run.veh.model.t)):\n",
    "    phi_rad.append(math.atan2(run.veh.model.vy[i], run.veh.model.vx[i]) * -1) \n",
    "    phi_deg.append(math.atan2(run.veh.model.vy[i], run.veh.model.vx[i]) * (180 / math.pi)  * -1 )\n",
    "    \n",
    "run.veh.model['phi_rad'] = phi_rad\n",
    "run.veh.model['phi_deg'] = phi_deg"
   ]
  },
  {
   "cell_type": "code",
   "execution_count": 45,
   "metadata": {},
   "outputs": [
    {
     "data": {
      "application/vnd.plotly.v1+json": {
       "config": {
        "plotlyServerURL": "https://plot.ly"
       },
       "data": [
        {
         "line": {
          "color": "rgb(0, 255, 0)",
          "width": 2
         },
         "mode": "lines",
         "name": "pycrash - X",
         "type": "scatter",
         "x": [
          0,
          0.1,
          0.2,
          0.3,
          0.4,
          0.5,
          0.6,
          0.7,
          0.8,
          0.9,
          1,
          1.1,
          1.2,
          1.3,
          1.4,
          1.5,
          1.6,
          1.7,
          1.8,
          1.9,
          2,
          2.1,
          2.2,
          2.3,
          2.4,
          2.5,
          2.6,
          2.7,
          2.8,
          2.9,
          3,
          3.1,
          3.2,
          3.3,
          3.4,
          3.5,
          3.6,
          3.7,
          3.8,
          3.9,
          4,
          4.1,
          4.2,
          4.3,
          4.4,
          4.5,
          4.6,
          4.7,
          4.8,
          4.9,
          5,
          5.1,
          5.2,
          5.3,
          5.4,
          5.5,
          5.6,
          5.7,
          5.8,
          5.9,
          6,
          6.1,
          6.2,
          6.3,
          6.4,
          6.5,
          6.6,
          6.7,
          6.8,
          6.9,
          7,
          7.1,
          7.2,
          7.3,
          7.4,
          7.5,
          7.6,
          7.7,
          7.8,
          7.9,
          8,
          8.1,
          8.2,
          8.3,
          8.4,
          8.5,
          8.6,
          8.7,
          8.8,
          8.9,
          9,
          9.1,
          9.2,
          9.3,
          9.4,
          9.5,
          9.6,
          9.7,
          9.8,
          9.9,
          10,
          10.1,
          10.2,
          10.3,
          10.4,
          10.5,
          10.6,
          10.7,
          10.8,
          10.9
         ],
         "xaxis": "x",
         "y": [
          0,
          2.200005,
          4.40001,
          6.600014999999999,
          8.80002,
          11.000024999999999,
          13.200029999999998,
          15.400034999999997,
          17.60004,
          19.800044999999997,
          22.000049999999995,
          24.19976088771474,
          26.397697361485722,
          28.59069643046054,
          30.77447410151888,
          32.943636859835046,
          35.09019191460549,
          37.20185745625524,
          39.26155460112413,
          41.248105316055835,
          43.13810626615557,
          44.91283314172402,
          46.56399655107818,
          48.08669041304166,
          49.47084927978541,
          50.70363732799634,
          51.77599517857771,
          52.6852432052282,
          53.43299772976044,
          54.021939680682266,
          54.454250682330105,
          54.73190031548241,
          54.857511100127795,
          54.83479619684718,
          54.66844422311907,
          54.363809739446125,
          53.926706920065584,
          53.36335297089821,
          52.68036801580789,
          51.884752462433866,
          50.983829808221344,
          49.98517906286788,
          48.8965762874779,
          47.72594742860842,
          46.48132613382241,
          45.17081205174445,
          43.80252946850412,
          42.38458788867133,
          40.925045478333374,
          39.43187524722982,
          37.91293355166128,
          36.37593072844964,
          34.828403886585015,
          33.27769189982598,
          31.730912570981772,
          30.194941899272166,
          28.676395389284824,
          27.181611353061356,
          25.716636154587167,
          24.287211336705777,
          22.89876256603882,
          21.556390332308425,
          20.264862338986134,
          19.02860752000856,
          17.851711614337905,
          16.737914228631894,
          15.690607318237708,
          14.71283501689352,
          13.80729474521923,
          12.976339527611628,
          12.221981447067384,
          11.54589616786413,
          10.949428456703695,
          10.43359863364868,
          9.999109884959843,
          9.646356370866119,
          9.375432062420897,
          9.186140242882821,
          9.078003610449676,
          9.050274920646672,
          9.10194810823248,
          9.231769830144048,
          9.438251372746254,
          9.719680868466643,
          10.074135768765416,
          10.499495522309598,
          10.993454409182947,
          11.553534483963656,
          12.177098582530839,
          12.861363349510153,
          13.603412245332091,
          14.40020849394679,
          15.24860793431239,
          16.145371740842652,
          17.087178980058898,
          18.070638972736443,
          19.092303432860415,
          20.148678356708178,
          21.236235637349104,
          22.351424381794583,
          23.490681909938402,
          24.650444416295457,
          25.827157277374333,
          27.017284989301885,
          28.217320722054225,
          29.423795478336572,
          30.63328684679074,
          31.842427340794384,
          33.04791231564669,
          34.24650745841099
         ],
         "yaxis": "y"
        },
        {
         "line": {
          "color": "rgb(0, 255, 0)",
          "dash": "dash",
          "width": 2
         },
         "mode": "lines",
         "name": "validate - X",
         "type": "scatter",
         "x": [
          0,
          0.1,
          0.2,
          0.3,
          0.4,
          0.5,
          0.6,
          0.7,
          0.8,
          0.9,
          1,
          1.1,
          1.2,
          1.3,
          1.4,
          1.5,
          1.6,
          1.7,
          1.8,
          1.9,
          2,
          2.1,
          2.2,
          2.3,
          2.4,
          2.5,
          2.6,
          2.7,
          2.8,
          2.9,
          3,
          3.1,
          3.2,
          3.3,
          3.4,
          3.5,
          3.6,
          3.7,
          3.8,
          3.9,
          4,
          4.1,
          4.2,
          4.3,
          4.4,
          4.5,
          4.6,
          4.7,
          4.8,
          4.9,
          5,
          5.1,
          5.2,
          5.3,
          5.4,
          5.5,
          5.6,
          5.7,
          5.8,
          5.9,
          6,
          6.1,
          6.2,
          6.3,
          6.4,
          6.5,
          6.6,
          6.7,
          6.8,
          6.9,
          7,
          7.1,
          7.2,
          7.3,
          7.4,
          7.5,
          7.6,
          7.7,
          7.8,
          7.9,
          8,
          8.1,
          8.2,
          8.3,
          8.4,
          8.5,
          8.6,
          8.7,
          8.8,
          8.9,
          9,
          9.1,
          9.2,
          9.3,
          9.4,
          9.5,
          9.6,
          9.7,
          9.8,
          9.9,
          10,
          10.1,
          10.2,
          10.3,
          10.4,
          10.5,
          10.6,
          10.7,
          10.8,
          10.9
         ],
         "xaxis": "x",
         "y": [
          0,
          2.200005,
          4.40001,
          6.600014999999999,
          8.80002,
          11.000024999999999,
          13.200029999999998,
          15.400034999999997,
          17.60004,
          19.800044999999997,
          22.000049999999995,
          24.200054999999995,
          26.398593329999994,
          28.591264979999995,
          30.77220326999999,
          32.932608179999995,
          35.060013014999996,
          37.13828440499999,
          39.14688896999999,
          41.06235998999999,
          42.859030739999994,
          44.514167834999995,
          46.014571245,
          47.352907619999996,
          48.522576945,
          49.518445875,
          50.336847735,
          50.97558252,
          51.433916895,
          51.713317530000005,
          51.81671776500001,
          51.74778427500001,
          51.511650405000005,
          51.11491617000001,
          50.565648255000006,
          49.87264668,
          49.044711465,
          48.09064263,
          47.0214402,
          45.8481042,
          44.58090132,
          43.23229825500001,
          41.814028365000006,
          40.33709167500001,
          38.813221545000005,
          37.25415133500001,
          35.671614405000014,
          34.07661078,
          32.47940715000001,
          30.89100354,
          29.322399975000007,
          27.783129810000013,
          26.282726400000005,
          24.82998976500001,
          23.432986590000002,
          22.099783560000006,
          20.83771402500001,
          19.653378000000004,
          18.55190883000001,
          17.538439860000004,
          16.618837770000006,
          15.796769235000008,
          15.075167595000005,
          14.456966190000008,
          13.944365025000005,
          13.538830770000006,
          13.240363425000007,
          13.049696325000006,
          12.966829470000008,
          12.990296190000008,
          13.118629815000007,
          13.350363675000006,
          13.682564430000008,
          14.112298740000007,
          14.63663326500001,
          15.251167995000007,
          15.951502920000005,
          16.73323803000001,
          17.591239980000008,
          18.52037542500001,
          19.51624435500001,
          20.572980090000005,
          21.683982615,
          22.84338525000002,
          24.045321315000013,
          25.28392413000001,
          26.552593680000005,
          27.84472995,
          29.15446626000002,
          30.475935930000016,
          31.802538945000013,
          33.127675290000006,
          34.445478285,
          35.750814585000015,
          37.03781751000001,
          38.300620380000005,
          39.53408985,
          40.732359239999994,
          41.89029520500001,
          43.00423107,
          44.069766825,
          45.08250246,
          46.0387713,
          46.93417333500001,
          47.765775225000006,
          48.531376965,
          49.228045214999995,
          49.85284663499999,
          50.404314555,
          50.880982304999996
         ],
         "yaxis": "y"
        },
        {
         "line": {
          "color": "rgb(0, 0, 255)",
          "width": 2
         },
         "mode": "lines",
         "name": "pycrash - Y",
         "type": "scatter",
         "x": [
          0,
          0.1,
          0.2,
          0.3,
          0.4,
          0.5,
          0.6,
          0.7,
          0.8,
          0.9,
          1,
          1.1,
          1.2,
          1.3,
          1.4,
          1.5,
          1.6,
          1.7,
          1.8,
          1.9,
          2,
          2.1,
          2.2,
          2.3,
          2.4,
          2.5,
          2.6,
          2.7,
          2.8,
          2.9,
          3,
          3.1,
          3.2,
          3.3,
          3.4,
          3.5,
          3.6,
          3.7,
          3.8,
          3.9,
          4,
          4.1,
          4.2,
          4.3,
          4.4,
          4.5,
          4.6,
          4.7,
          4.8,
          4.9,
          5,
          5.1,
          5.2,
          5.3,
          5.4,
          5.5,
          5.6,
          5.7,
          5.8,
          5.9,
          6,
          6.1,
          6.2,
          6.3,
          6.4,
          6.5,
          6.6,
          6.7,
          6.8,
          6.9,
          7,
          7.1,
          7.2,
          7.3,
          7.4,
          7.5,
          7.6,
          7.7,
          7.8,
          7.9,
          8,
          8.1,
          8.2,
          8.3,
          8.4,
          8.5,
          8.6,
          8.7,
          8.8,
          8.9,
          9,
          9.1,
          9.2,
          9.3,
          9.4,
          9.5,
          9.6,
          9.7,
          9.8,
          9.9,
          10,
          10.1,
          10.2,
          10.3,
          10.4,
          10.5,
          10.6,
          10.7,
          10.8,
          10.9
         ],
         "xaxis": "x",
         "y": [
          0,
          0,
          0,
          0,
          0,
          0,
          0,
          0,
          0,
          0,
          0,
          -0.007980443550338504,
          -0.04618802012512788,
          -0.13728562664367627,
          -0.29278887089898625,
          -0.5195813137617704,
          -0.828824187506404,
          -1.2375711410824954,
          -1.7644990820976063,
          -2.425023820967051,
          -3.227855032609195,
          -4.171394473338027,
          -5.244108507447677,
          -6.432392430467373,
          -7.725895371700051,
          -9.114836353788396,
          -10.586534934212706,
          -12.125620928823974,
          -13.716187188117642,
          -15.34329675042465,
          -16.993197898472303,
          -18.652974774226358,
          -20.31032264980806,
          -21.953562184633746,
          -23.57171254838876,
          -25.15450693923185,
          -26.69236951946167,
          -28.176405492828323,
          -29.598414166855896,
          -30.95090286615416,
          -32.22708545503437,
          -33.420868628802175,
          -34.5268367229291,
          -35.540240065119406,
          -36.4569845487325,
          -37.273618551998815,
          -37.98731607070018,
          -38.595857397507125,
          -39.09760885586454,
          -39.491502005458614,
          -39.77701198129881,
          -39.95413468513304,
          -40.02336293609024,
          -39.985661890753946,
          -39.84244397880398,
          -39.59554346313123,
          -39.24719067723943,
          -38.79998601838655,
          -38.256873810850195,
          -37.621116157906506,
          -36.89626688221183,
          -36.08614563663154,
          -35.194812261213144,
          -34.22654146153637,
          -33.1857978814567,
          -32.07721163747868,
          -30.905554375115912,
          -29.67571590181317,
          -28.392681446422813,
          -27.061509590918543,
          -25.687310915459342,
          -24.27522739321554,
          -22.830412566853543,
          -21.35801253435134,
          -19.863147767805863,
          -18.350895785011176,
          -16.82627468982654,
          -15.294227593754561,
          -13.759607927728332,
          -12.227165649859261,
          -10.701534351812201,
          -9.187219263547858,
          -7.6885861534095135,
          -6.209851117929928,
          -4.755071253294204,
          -3.328136198109595,
          -1.9327605350038488,
          -0.5724770365944403,
          0.7493692604577502,
          2.0296261712806185,
          3.2653386880219695,
          4.453752535396178,
          5.592316978733665,
          6.678686907859367,
          7.710724221139479,
          8.686498534927225,
          9.604287244411108,
          10.462574962529663,
          11.260052364167148,
          11.995614463290845,
          12.66835835103701,
          13.277580423002416,
          13.822773124158212,
          14.303621239875039,
          14.719997761538528,
          15.071959355146914,
          15.359741461120942,
          15.583753053326184,
          15.744571085012415,
          15.842934649018597
         ],
         "yaxis": "y"
        },
        {
         "line": {
          "color": "rgb(0, 0, 255)",
          "dash": "dash",
          "width": 2
         },
         "mode": "lines",
         "name": "validate - Y",
         "type": "scatter",
         "x": [
          0,
          0.1,
          0.2,
          0.3,
          0.4,
          0.5,
          0.6,
          0.7,
          0.8,
          0.9,
          1,
          1.1,
          1.2,
          1.3,
          1.4,
          1.5,
          1.6,
          1.7,
          1.8,
          1.9,
          2,
          2.1,
          2.2,
          2.3,
          2.4,
          2.5,
          2.6,
          2.7,
          2.8,
          2.9,
          3,
          3.1,
          3.2,
          3.3,
          3.4,
          3.5,
          3.6,
          3.7,
          3.8,
          3.9,
          4,
          4.1,
          4.2,
          4.3,
          4.4,
          4.5,
          4.6,
          4.7,
          4.8,
          4.9,
          5,
          5.1,
          5.2,
          5.3,
          5.4,
          5.5,
          5.6,
          5.7,
          5.8,
          5.9,
          6,
          6.1,
          6.2,
          6.3,
          6.4,
          6.5,
          6.6,
          6.7,
          6.8,
          6.9,
          7,
          7.1,
          7.2,
          7.3,
          7.4,
          7.5,
          7.6,
          7.7,
          7.8,
          7.9,
          8,
          8.1,
          8.2,
          8.3,
          8.4,
          8.5,
          8.6,
          8.7,
          8.8,
          8.9,
          9,
          9.1,
          9.2,
          9.3,
          9.4,
          9.5,
          9.6,
          9.7,
          9.8,
          9.9,
          10,
          10.1,
          10.2,
          10.3,
          10.4,
          10.5,
          10.6,
          10.7,
          10.8,
          10.9
         ],
         "xaxis": "x",
         "y": [
          0,
          0,
          0,
          0,
          0,
          0,
          0,
          0,
          0,
          0,
          0,
          -0.008800020000000007,
          -0.047666774999999946,
          -0.14080032000000003,
          -0.3109340399999998,
          -0.58080132,
          -0.9716688750000002,
          -1.5011367449999995,
          -2.18240496,
          -3.0242735399999985,
          -4.03040916,
          -5.195678475,
          -6.5061481200000015,
          -7.944218054999997,
          -9.492288239999999,
          -11.1320253,
          -12.844362525000001,
          -14.610966540000003,
          -16.413503969999997,
          -18.23364144,
          -20.054512245,
          -21.860716350000004,
          -23.636853720000005,
          -25.368257654999997,
          -27.04246146,
          -28.64699844,
          -30.170135235000004,
          -31.602338490000005,
          -32.93407485,
          -34.15727763,
          -35.26608015000001,
          -36.253882395000005,
          -37.11628435500001,
          -37.85035269000001,
          -38.45242072500001,
          -38.92102179000001,
          -39.25542255000001,
          -39.455623005000014,
          -39.52382316000001,
          -39.46148968500001,
          -39.27082258500001,
          -38.956221870000014,
          -38.52135421500001,
          -37.97061963000001,
          -37.309884795,
          -36.54501639000001,
          -35.68188109500001,
          -34.72781226,
          -33.690143235,
          -32.57547403499999,
          -31.391871344999995,
          -30.147401849999998,
          -28.85013223499999,
          -27.508129184999994,
          -26.129459384999986,
          -24.722922854999993,
          -23.29658628,
          -21.85778300999999,
          -20.414579729999996,
          -18.975776459999988,
          -17.54870654999999,
          -16.140703349999995,
          -14.759100209999989,
          -13.410497144999994,
          -12.101494169999986,
          -10.83869129999999,
          -9.627955214999995,
          -8.474419259999989,
          -7.383950114999992,
          -6.360947789999987,
          -5.40907895999999,
          -4.532743634999993,
          -3.735608489999996,
          -3.020606864999986,
          -2.3899387649999886,
          -1.8458041949999906,
          -1.3904031599999922,
          -1.0244689949999937,
          -0.7487350349999897,
          -0.5639346149999904,
          -0.46933439999999077,
          -0.46493438999999076,
          -0.5500012499999904,
          -0.7230683099999928,
          -0.982668899999992,
          -1.3266030149999908,
          -1.7526706499999891,
          -2.257938464999987,
          -2.8394731199999956,
          -3.4943412749999934,
          -4.218876254999991,
          -5.0094113849999875,
          -5.862279989999984,
          -6.7730820599999975,
          -7.737417584999994,
          -8.75015321999999,
          -9.806888954999987,
          -10.903224779999983,
          -12.034027349999999,
          -13.194896654999994
         ],
         "yaxis": "y"
        },
        {
         "line": {
          "color": "rgb(0, 0, 0)",
          "width": 2
         },
         "mode": "lines",
         "name": "pycrash - heading",
         "type": "scatter",
         "x": [
          0,
          0.1,
          0.2,
          0.3,
          0.4,
          0.5,
          0.6,
          0.7,
          0.8,
          0.9,
          1,
          1.1,
          1.2,
          1.3,
          1.4,
          1.5,
          1.6,
          1.7,
          1.8,
          1.9,
          2,
          2.1,
          2.2,
          2.3,
          2.4,
          2.5,
          2.6,
          2.7,
          2.8,
          2.9,
          3,
          3.1,
          3.2,
          3.3,
          3.4,
          3.5,
          3.6,
          3.7,
          3.8,
          3.9,
          4,
          4.1,
          4.2,
          4.3,
          4.4,
          4.5,
          4.6,
          4.7,
          4.8,
          4.9,
          5,
          5.1,
          5.2,
          5.3,
          5.4,
          5.5,
          5.6,
          5.7,
          5.8,
          5.9,
          6,
          6.1,
          6.2,
          6.3,
          6.4,
          6.5,
          6.6,
          6.7,
          6.8,
          6.9,
          7,
          7.1,
          7.2,
          7.3,
          7.4,
          7.5,
          7.6,
          7.7,
          7.8,
          7.9,
          8,
          8.1,
          8.2,
          8.3,
          8.4,
          8.5,
          8.6,
          8.7,
          8.8,
          8.9,
          9,
          9.1,
          9.2,
          9.3,
          9.4,
          9.5,
          9.6,
          9.7,
          9.8,
          9.9,
          10,
          10.1,
          10.2,
          10.3,
          10.4,
          10.5,
          10.6,
          10.7,
          10.8,
          10.9
         ],
         "xaxis": "x2",
         "y": [
          0,
          0,
          0,
          0,
          0,
          0,
          0,
          0,
          0,
          0,
          0,
          -0.0728916891642895,
          -0.42421588931936927,
          -1.2675549646135786,
          -2.7021387363977727,
          -4.733802988807381,
          -7.332364110224208,
          -10.46615353018186,
          -14.110180645680984,
          -18.241847102378546,
          -22.828771962252976,
          -27.77357611906898,
          -32.88329977894602,
          -37.969382826176485,
          -42.94771924795441,
          -47.82202998393499,
          -52.62264166816481,
          -57.36932447878776,
          -62.06666787050173,
          -66.71319330587453,
          -71.30852365420775,
          -75.85475345099594,
          -80.35487295927706,
          -84.8113782115501,
          -89.22602756671395,
          -93.6002185995192,
          -97.93531425653542,
          -102.23270589388098,
          -106.49373629869875,
          -110.71963777675927,
          -114.91153209439983,
          -119.07046077947462,
          -123.19740867819377,
          -127.29331084268105,
          -131.35905148724993,
          -135.39546429922214,
          -139.40333630650264,
          -143.38341299215475,
          -147.33640243358894,
          -151.26297808851476,
          -155.1637809211257,
          -159.03942146706441,
          -162.8904819470464,
          -166.71751827784288,
          -170.5210618623135,
          -174.30162116151703,
          -178.05968311128504,
          -181.79571443267272,
          -185.5101628525987,
          -189.20345823373626,
          -192.87601361366717,
          -196.52822616011446,
          -200.16047805271603,
          -203.7731373008807,
          -207.3665585043847,
          -210.94108356109035,
          -214.4970423254118,
          -218.03475322137783,
          -221.55452381438442,
          -225.0566513454672,
          -228.54142323128622,
          -232.00911753243497,
          -235.46000339239038,
          -238.8943414493338,
          -242.31238422298077,
          -245.71437647836436,
          -249.10055556827862,
          -252.4711517558946,
          -255.82638851894356,
          -259.166482836772,
          -262.49164546147864,
          -265.80208117423354,
          -269.0979890277741,
          -272.379562575993,
          -275.6469900914648,
          -278.90045477169735,
          -282.14013493483435,
          -285.3662042054737,
          -288.5788316912183,
          -291.7781821505278,
          -294.96441615240326,
          -298.13769022839415,
          -301.2981570173855,
          -304.4459654035875,
          -307.5812606481217,
          -310.70418451457067,
          -313.8148753888334,
          -316.91346839360517,
          -320.00009549777957,
          -323.0748856210511,
          -326.1379647339775,
          -329.1894559537455,
          -332.2294796358681,
          -335.2581534620262,
          -338.2755925242548,
          -341.2819094056618,
          -344.2772142578547,
          -347.26161487524286,
          -350.2352167663685,
          -353.1981232224147
         ],
         "yaxis": "y2"
        },
        {
         "line": {
          "color": "rgb(0, 0, 0)",
          "dash": "dash",
          "width": 2
         },
         "mode": "lines",
         "name": "validate - heading",
         "type": "scatter",
         "x": [
          0,
          0.1,
          0.2,
          0.3,
          0.4,
          0.5,
          0.6,
          0.7,
          0.8,
          0.9,
          1,
          1.1,
          1.2,
          1.3,
          1.4,
          1.5,
          1.6,
          1.7,
          1.8,
          1.9,
          2,
          2.1,
          2.2,
          2.3,
          2.4,
          2.5,
          2.6,
          2.7,
          2.8,
          2.9,
          3,
          3.1,
          3.2,
          3.3,
          3.4,
          3.5,
          3.6,
          3.7,
          3.8,
          3.9,
          4,
          4.1,
          4.2,
          4.3,
          4.4,
          4.5,
          4.6,
          4.7,
          4.8,
          4.9,
          5,
          5.1,
          5.2,
          5.3,
          5.4,
          5.5,
          5.6,
          5.7,
          5.8,
          5.9,
          6,
          6.1,
          6.2,
          6.3,
          6.4,
          6.5,
          6.6,
          6.7,
          6.8,
          6.9,
          7,
          7.1,
          7.2,
          7.3,
          7.4,
          7.5,
          7.6,
          7.7,
          7.8,
          7.9,
          8,
          8.1,
          8.2,
          8.3,
          8.4,
          8.5,
          8.6,
          8.7,
          8.8,
          8.9,
          9,
          9.1,
          9.2,
          9.3,
          9.4,
          9.5,
          9.6,
          9.7,
          9.8,
          9.9,
          10,
          10.1,
          10.2,
          10.3,
          10.4,
          10.5,
          10.6,
          10.7,
          10.8,
          10.9
         ],
         "xaxis": "x2",
         "y": [
          0,
          0,
          0,
          0,
          0,
          0,
          0,
          0,
          0,
          0,
          0,
          -0.06,
          -0.46,
          -1.39,
          -2.88,
          -4.97,
          -7.66,
          -10.94,
          -14.76,
          -19.09,
          -23.88,
          -29.08,
          -34.55,
          -40.14,
          -45.77,
          -51.37,
          -56.92,
          -62.42,
          -67.86,
          -73.25,
          -78.58,
          -83.86,
          -89.1,
          -94.29,
          -99.43,
          -104.53,
          -109.59,
          -114.61,
          -119.59,
          -124.53,
          -129.44,
          -134.31,
          -139.15,
          -143.96,
          -148.73,
          -153.47,
          -158.19,
          -162.87,
          -167.53,
          -172.15,
          -176.75,
          178.67,
          174.12,
          169.6,
          165.1,
          160.63,
          156.17,
          151.75,
          147.34,
          142.95,
          138.59,
          134.25,
          129.93,
          125.63,
          121.35,
          117.08,
          112.84,
          108.62,
          104.41,
          100.22,
          96.05,
          91.9,
          87.76,
          83.64,
          79.54,
          75.45,
          71.38,
          67.33,
          63.29,
          59.26,
          55.25,
          51.26,
          47.28,
          43.31,
          39.36,
          35.42,
          31.5,
          27.59,
          23.69,
          19.81,
          15.93,
          12.08,
          8.23,
          4.4,
          0.57,
          -3.24,
          -7.03,
          -10.82,
          -14.59,
          -18.36,
          -22.11,
          -25.85,
          -29.58,
          -33.3,
          -37,
          -40.7,
          -44.39,
          -48.06,
          -51.73,
          -55.38
         ],
         "yaxis": "y2"
        }
       ],
       "layout": {
        "autosize": false,
        "font": {
         "color": "black",
         "family": "Arial",
         "size": 14
        },
        "height": 500,
        "legend": {
         "orientation": "h",
         "x": 0.01,
         "xanchor": "left",
         "y": 1.1,
         "yanchor": "top"
        },
        "template": {
         "data": {
          "bar": [
           {
            "error_x": {
             "color": "#2a3f5f"
            },
            "error_y": {
             "color": "#2a3f5f"
            },
            "marker": {
             "line": {
              "color": "white",
              "width": 0.5
             }
            },
            "type": "bar"
           }
          ],
          "barpolar": [
           {
            "marker": {
             "line": {
              "color": "white",
              "width": 0.5
             }
            },
            "type": "barpolar"
           }
          ],
          "carpet": [
           {
            "aaxis": {
             "endlinecolor": "#2a3f5f",
             "gridcolor": "#C8D4E3",
             "linecolor": "#C8D4E3",
             "minorgridcolor": "#C8D4E3",
             "startlinecolor": "#2a3f5f"
            },
            "baxis": {
             "endlinecolor": "#2a3f5f",
             "gridcolor": "#C8D4E3",
             "linecolor": "#C8D4E3",
             "minorgridcolor": "#C8D4E3",
             "startlinecolor": "#2a3f5f"
            },
            "type": "carpet"
           }
          ],
          "choropleth": [
           {
            "colorbar": {
             "outlinewidth": 0,
             "ticks": ""
            },
            "type": "choropleth"
           }
          ],
          "contour": [
           {
            "colorbar": {
             "outlinewidth": 0,
             "ticks": ""
            },
            "colorscale": [
             [
              0,
              "#0d0887"
             ],
             [
              0.1111111111111111,
              "#46039f"
             ],
             [
              0.2222222222222222,
              "#7201a8"
             ],
             [
              0.3333333333333333,
              "#9c179e"
             ],
             [
              0.4444444444444444,
              "#bd3786"
             ],
             [
              0.5555555555555556,
              "#d8576b"
             ],
             [
              0.6666666666666666,
              "#ed7953"
             ],
             [
              0.7777777777777778,
              "#fb9f3a"
             ],
             [
              0.8888888888888888,
              "#fdca26"
             ],
             [
              1,
              "#f0f921"
             ]
            ],
            "type": "contour"
           }
          ],
          "contourcarpet": [
           {
            "colorbar": {
             "outlinewidth": 0,
             "ticks": ""
            },
            "type": "contourcarpet"
           }
          ],
          "heatmap": [
           {
            "colorbar": {
             "outlinewidth": 0,
             "ticks": ""
            },
            "colorscale": [
             [
              0,
              "#0d0887"
             ],
             [
              0.1111111111111111,
              "#46039f"
             ],
             [
              0.2222222222222222,
              "#7201a8"
             ],
             [
              0.3333333333333333,
              "#9c179e"
             ],
             [
              0.4444444444444444,
              "#bd3786"
             ],
             [
              0.5555555555555556,
              "#d8576b"
             ],
             [
              0.6666666666666666,
              "#ed7953"
             ],
             [
              0.7777777777777778,
              "#fb9f3a"
             ],
             [
              0.8888888888888888,
              "#fdca26"
             ],
             [
              1,
              "#f0f921"
             ]
            ],
            "type": "heatmap"
           }
          ],
          "heatmapgl": [
           {
            "colorbar": {
             "outlinewidth": 0,
             "ticks": ""
            },
            "colorscale": [
             [
              0,
              "#0d0887"
             ],
             [
              0.1111111111111111,
              "#46039f"
             ],
             [
              0.2222222222222222,
              "#7201a8"
             ],
             [
              0.3333333333333333,
              "#9c179e"
             ],
             [
              0.4444444444444444,
              "#bd3786"
             ],
             [
              0.5555555555555556,
              "#d8576b"
             ],
             [
              0.6666666666666666,
              "#ed7953"
             ],
             [
              0.7777777777777778,
              "#fb9f3a"
             ],
             [
              0.8888888888888888,
              "#fdca26"
             ],
             [
              1,
              "#f0f921"
             ]
            ],
            "type": "heatmapgl"
           }
          ],
          "histogram": [
           {
            "marker": {
             "colorbar": {
              "outlinewidth": 0,
              "ticks": ""
             }
            },
            "type": "histogram"
           }
          ],
          "histogram2d": [
           {
            "colorbar": {
             "outlinewidth": 0,
             "ticks": ""
            },
            "colorscale": [
             [
              0,
              "#0d0887"
             ],
             [
              0.1111111111111111,
              "#46039f"
             ],
             [
              0.2222222222222222,
              "#7201a8"
             ],
             [
              0.3333333333333333,
              "#9c179e"
             ],
             [
              0.4444444444444444,
              "#bd3786"
             ],
             [
              0.5555555555555556,
              "#d8576b"
             ],
             [
              0.6666666666666666,
              "#ed7953"
             ],
             [
              0.7777777777777778,
              "#fb9f3a"
             ],
             [
              0.8888888888888888,
              "#fdca26"
             ],
             [
              1,
              "#f0f921"
             ]
            ],
            "type": "histogram2d"
           }
          ],
          "histogram2dcontour": [
           {
            "colorbar": {
             "outlinewidth": 0,
             "ticks": ""
            },
            "colorscale": [
             [
              0,
              "#0d0887"
             ],
             [
              0.1111111111111111,
              "#46039f"
             ],
             [
              0.2222222222222222,
              "#7201a8"
             ],
             [
              0.3333333333333333,
              "#9c179e"
             ],
             [
              0.4444444444444444,
              "#bd3786"
             ],
             [
              0.5555555555555556,
              "#d8576b"
             ],
             [
              0.6666666666666666,
              "#ed7953"
             ],
             [
              0.7777777777777778,
              "#fb9f3a"
             ],
             [
              0.8888888888888888,
              "#fdca26"
             ],
             [
              1,
              "#f0f921"
             ]
            ],
            "type": "histogram2dcontour"
           }
          ],
          "mesh3d": [
           {
            "colorbar": {
             "outlinewidth": 0,
             "ticks": ""
            },
            "type": "mesh3d"
           }
          ],
          "parcoords": [
           {
            "line": {
             "colorbar": {
              "outlinewidth": 0,
              "ticks": ""
             }
            },
            "type": "parcoords"
           }
          ],
          "pie": [
           {
            "automargin": true,
            "type": "pie"
           }
          ],
          "scatter": [
           {
            "marker": {
             "colorbar": {
              "outlinewidth": 0,
              "ticks": ""
             }
            },
            "type": "scatter"
           }
          ],
          "scatter3d": [
           {
            "line": {
             "colorbar": {
              "outlinewidth": 0,
              "ticks": ""
             }
            },
            "marker": {
             "colorbar": {
              "outlinewidth": 0,
              "ticks": ""
             }
            },
            "type": "scatter3d"
           }
          ],
          "scattercarpet": [
           {
            "marker": {
             "colorbar": {
              "outlinewidth": 0,
              "ticks": ""
             }
            },
            "type": "scattercarpet"
           }
          ],
          "scattergeo": [
           {
            "marker": {
             "colorbar": {
              "outlinewidth": 0,
              "ticks": ""
             }
            },
            "type": "scattergeo"
           }
          ],
          "scattergl": [
           {
            "marker": {
             "colorbar": {
              "outlinewidth": 0,
              "ticks": ""
             }
            },
            "type": "scattergl"
           }
          ],
          "scattermapbox": [
           {
            "marker": {
             "colorbar": {
              "outlinewidth": 0,
              "ticks": ""
             }
            },
            "type": "scattermapbox"
           }
          ],
          "scatterpolar": [
           {
            "marker": {
             "colorbar": {
              "outlinewidth": 0,
              "ticks": ""
             }
            },
            "type": "scatterpolar"
           }
          ],
          "scatterpolargl": [
           {
            "marker": {
             "colorbar": {
              "outlinewidth": 0,
              "ticks": ""
             }
            },
            "type": "scatterpolargl"
           }
          ],
          "scatterternary": [
           {
            "marker": {
             "colorbar": {
              "outlinewidth": 0,
              "ticks": ""
             }
            },
            "type": "scatterternary"
           }
          ],
          "surface": [
           {
            "colorbar": {
             "outlinewidth": 0,
             "ticks": ""
            },
            "colorscale": [
             [
              0,
              "#0d0887"
             ],
             [
              0.1111111111111111,
              "#46039f"
             ],
             [
              0.2222222222222222,
              "#7201a8"
             ],
             [
              0.3333333333333333,
              "#9c179e"
             ],
             [
              0.4444444444444444,
              "#bd3786"
             ],
             [
              0.5555555555555556,
              "#d8576b"
             ],
             [
              0.6666666666666666,
              "#ed7953"
             ],
             [
              0.7777777777777778,
              "#fb9f3a"
             ],
             [
              0.8888888888888888,
              "#fdca26"
             ],
             [
              1,
              "#f0f921"
             ]
            ],
            "type": "surface"
           }
          ],
          "table": [
           {
            "cells": {
             "fill": {
              "color": "#EBF0F8"
             },
             "line": {
              "color": "white"
             }
            },
            "header": {
             "fill": {
              "color": "#C8D4E3"
             },
             "line": {
              "color": "white"
             }
            },
            "type": "table"
           }
          ]
         },
         "layout": {
          "annotationdefaults": {
           "arrowcolor": "#2a3f5f",
           "arrowhead": 0,
           "arrowwidth": 1
          },
          "coloraxis": {
           "colorbar": {
            "outlinewidth": 0,
            "ticks": ""
           }
          },
          "colorscale": {
           "diverging": [
            [
             0,
             "#8e0152"
            ],
            [
             0.1,
             "#c51b7d"
            ],
            [
             0.2,
             "#de77ae"
            ],
            [
             0.3,
             "#f1b6da"
            ],
            [
             0.4,
             "#fde0ef"
            ],
            [
             0.5,
             "#f7f7f7"
            ],
            [
             0.6,
             "#e6f5d0"
            ],
            [
             0.7,
             "#b8e186"
            ],
            [
             0.8,
             "#7fbc41"
            ],
            [
             0.9,
             "#4d9221"
            ],
            [
             1,
             "#276419"
            ]
           ],
           "sequential": [
            [
             0,
             "#0d0887"
            ],
            [
             0.1111111111111111,
             "#46039f"
            ],
            [
             0.2222222222222222,
             "#7201a8"
            ],
            [
             0.3333333333333333,
             "#9c179e"
            ],
            [
             0.4444444444444444,
             "#bd3786"
            ],
            [
             0.5555555555555556,
             "#d8576b"
            ],
            [
             0.6666666666666666,
             "#ed7953"
            ],
            [
             0.7777777777777778,
             "#fb9f3a"
            ],
            [
             0.8888888888888888,
             "#fdca26"
            ],
            [
             1,
             "#f0f921"
            ]
           ],
           "sequentialminus": [
            [
             0,
             "#0d0887"
            ],
            [
             0.1111111111111111,
             "#46039f"
            ],
            [
             0.2222222222222222,
             "#7201a8"
            ],
            [
             0.3333333333333333,
             "#9c179e"
            ],
            [
             0.4444444444444444,
             "#bd3786"
            ],
            [
             0.5555555555555556,
             "#d8576b"
            ],
            [
             0.6666666666666666,
             "#ed7953"
            ],
            [
             0.7777777777777778,
             "#fb9f3a"
            ],
            [
             0.8888888888888888,
             "#fdca26"
            ],
            [
             1,
             "#f0f921"
            ]
           ]
          },
          "colorway": [
           "#636efa",
           "#EF553B",
           "#00cc96",
           "#ab63fa",
           "#FFA15A",
           "#19d3f3",
           "#FF6692",
           "#B6E880",
           "#FF97FF",
           "#FECB52"
          ],
          "font": {
           "color": "#2a3f5f"
          },
          "geo": {
           "bgcolor": "white",
           "lakecolor": "white",
           "landcolor": "white",
           "showlakes": true,
           "showland": true,
           "subunitcolor": "#C8D4E3"
          },
          "hoverlabel": {
           "align": "left"
          },
          "hovermode": "closest",
          "mapbox": {
           "style": "light"
          },
          "paper_bgcolor": "white",
          "plot_bgcolor": "white",
          "polar": {
           "angularaxis": {
            "gridcolor": "#EBF0F8",
            "linecolor": "#EBF0F8",
            "ticks": ""
           },
           "bgcolor": "white",
           "radialaxis": {
            "gridcolor": "#EBF0F8",
            "linecolor": "#EBF0F8",
            "ticks": ""
           }
          },
          "scene": {
           "xaxis": {
            "backgroundcolor": "white",
            "gridcolor": "#DFE8F3",
            "gridwidth": 2,
            "linecolor": "#EBF0F8",
            "showbackground": true,
            "ticks": "",
            "zerolinecolor": "#EBF0F8"
           },
           "yaxis": {
            "backgroundcolor": "white",
            "gridcolor": "#DFE8F3",
            "gridwidth": 2,
            "linecolor": "#EBF0F8",
            "showbackground": true,
            "ticks": "",
            "zerolinecolor": "#EBF0F8"
           },
           "zaxis": {
            "backgroundcolor": "white",
            "gridcolor": "#DFE8F3",
            "gridwidth": 2,
            "linecolor": "#EBF0F8",
            "showbackground": true,
            "ticks": "",
            "zerolinecolor": "#EBF0F8"
           }
          },
          "shapedefaults": {
           "line": {
            "color": "#2a3f5f"
           }
          },
          "ternary": {
           "aaxis": {
            "gridcolor": "#DFE8F3",
            "linecolor": "#A2B1C6",
            "ticks": ""
           },
           "baxis": {
            "gridcolor": "#DFE8F3",
            "linecolor": "#A2B1C6",
            "ticks": ""
           },
           "bgcolor": "white",
           "caxis": {
            "gridcolor": "#DFE8F3",
            "linecolor": "#A2B1C6",
            "ticks": ""
           }
          },
          "title": {
           "x": 0.05
          },
          "xaxis": {
           "automargin": true,
           "gridcolor": "#EBF0F8",
           "linecolor": "#EBF0F8",
           "ticks": "",
           "title": {
            "standoff": 15
           },
           "zerolinecolor": "#EBF0F8",
           "zerolinewidth": 2
          },
          "yaxis": {
           "automargin": true,
           "gridcolor": "#EBF0F8",
           "linecolor": "#EBF0F8",
           "ticks": "",
           "title": {
            "standoff": 15
           },
           "zerolinecolor": "#EBF0F8",
           "zerolinewidth": 2
          }
         }
        },
        "width": 900,
        "xaxis": {
         "anchor": "y",
         "domain": [
          0,
          1
         ],
         "linecolor": "black",
         "linewidth": 1,
         "matches": "x2",
         "showgrid": false,
         "showline": true,
         "showticklabels": false,
         "tickcolor": "black",
         "ticklen": 10,
         "ticks": "outside",
         "tickwidth": 1,
         "title": {
          "text": ""
         },
         "zeroline": false
        },
        "xaxis2": {
         "anchor": "y2",
         "domain": [
          0,
          1
         ],
         "linecolor": "black",
         "linewidth": 1,
         "showgrid": false,
         "showline": true,
         "tickcolor": "black",
         "ticklen": 10,
         "ticks": "outside",
         "tickwidth": 1,
         "title": {
          "text": "Time (s)"
         },
         "zeroline": false
        },
        "yaxis": {
         "anchor": "x",
         "domain": [
          0.5349999999999999,
          0.9999999999999999
         ],
         "linecolor": "black",
         "linewidth": 1,
         "showgrid": false,
         "showline": true,
         "tickcolor": "black",
         "ticklen": 10,
         "ticks": "outside",
         "tickwidth": 1,
         "title": {
          "text": "Displacement (ft)"
         },
         "zeroline": false
        },
        "yaxis2": {
         "anchor": "x2",
         "domain": [
          0,
          0.46499999999999997
         ],
         "linecolor": "black",
         "linewidth": 1,
         "showgrid": false,
         "showline": true,
         "tickcolor": "black",
         "ticklen": 10,
         "ticks": "outside",
         "tickwidth": 1,
         "title": {
          "text": "Heading Angle (deg)"
         },
         "zeroline": false
        }
       }
      },
      "text/html": [
       "<div>\n",
       "        \n",
       "        \n",
       "            <div id=\"f7bdae43-58a2-47bb-a2a6-a52ebdf6297d\" class=\"plotly-graph-div\" style=\"height:500px; width:900px;\"></div>\n",
       "            <script type=\"text/javascript\">\n",
       "                require([\"plotly\"], function(Plotly) {\n",
       "                    window.PLOTLYENV=window.PLOTLYENV || {};\n",
       "                    \n",
       "                if (document.getElementById(\"f7bdae43-58a2-47bb-a2a6-a52ebdf6297d\")) {\n",
       "                    Plotly.newPlot(\n",
       "                        'f7bdae43-58a2-47bb-a2a6-a52ebdf6297d',\n",
       "                        [{\"line\": {\"color\": \"rgb(0, 255, 0)\", \"width\": 2}, \"mode\": \"lines\", \"name\": \"pycrash - X\", \"type\": \"scatter\", \"x\": [0.0, 0.1, 0.2, 0.3, 0.4, 0.5, 0.6, 0.7, 0.8, 0.9, 1.0, 1.1, 1.2, 1.3, 1.4, 1.5, 1.6, 1.7, 1.8, 1.9, 2.0, 2.1, 2.2, 2.3, 2.4, 2.5, 2.6, 2.7, 2.8, 2.9, 3.0, 3.1, 3.2, 3.3, 3.4, 3.5, 3.6, 3.7, 3.8, 3.9, 4.0, 4.1, 4.2, 4.3, 4.4, 4.5, 4.6, 4.7, 4.8, 4.9, 5.0, 5.1, 5.2, 5.3, 5.4, 5.5, 5.6, 5.7, 5.8, 5.9, 6.0, 6.1, 6.2, 6.3, 6.4, 6.5, 6.6, 6.7, 6.8, 6.9, 7.0, 7.1, 7.2, 7.3, 7.4, 7.5, 7.6, 7.7, 7.8, 7.9, 8.0, 8.1, 8.2, 8.3, 8.4, 8.5, 8.6, 8.7, 8.8, 8.9, 9.0, 9.1, 9.2, 9.3, 9.4, 9.5, 9.6, 9.7, 9.8, 9.9, 10.0, 10.1, 10.2, 10.3, 10.4, 10.5, 10.6, 10.7, 10.8, 10.9], \"xaxis\": \"x\", \"y\": [0.0, 2.200005, 4.40001, 6.600014999999999, 8.80002, 11.000024999999999, 13.200029999999998, 15.400034999999997, 17.60004, 19.800044999999997, 22.000049999999995, 24.19976088771474, 26.397697361485722, 28.59069643046054, 30.77447410151888, 32.943636859835046, 35.09019191460549, 37.20185745625524, 39.26155460112413, 41.248105316055835, 43.13810626615557, 44.91283314172402, 46.56399655107818, 48.08669041304166, 49.47084927978541, 50.70363732799634, 51.77599517857771, 52.6852432052282, 53.43299772976044, 54.021939680682266, 54.454250682330105, 54.73190031548241, 54.857511100127795, 54.83479619684718, 54.66844422311907, 54.363809739446125, 53.926706920065584, 53.36335297089821, 52.68036801580789, 51.884752462433866, 50.983829808221344, 49.98517906286788, 48.8965762874779, 47.72594742860842, 46.48132613382241, 45.17081205174445, 43.80252946850412, 42.38458788867133, 40.925045478333374, 39.43187524722982, 37.91293355166128, 36.37593072844964, 34.828403886585015, 33.27769189982598, 31.730912570981772, 30.194941899272166, 28.676395389284824, 27.181611353061356, 25.716636154587167, 24.287211336705777, 22.89876256603882, 21.556390332308425, 20.264862338986134, 19.02860752000856, 17.851711614337905, 16.737914228631894, 15.690607318237708, 14.71283501689352, 13.80729474521923, 12.976339527611628, 12.221981447067384, 11.54589616786413, 10.949428456703695, 10.43359863364868, 9.999109884959843, 9.646356370866119, 9.375432062420897, 9.186140242882821, 9.078003610449676, 9.050274920646672, 9.10194810823248, 9.231769830144048, 9.438251372746254, 9.719680868466643, 10.074135768765416, 10.499495522309598, 10.993454409182947, 11.553534483963656, 12.177098582530839, 12.861363349510153, 13.603412245332091, 14.40020849394679, 15.24860793431239, 16.145371740842652, 17.087178980058898, 18.070638972736443, 19.092303432860415, 20.148678356708178, 21.236235637349104, 22.351424381794583, 23.490681909938402, 24.650444416295457, 25.827157277374333, 27.017284989301885, 28.217320722054225, 29.423795478336572, 30.63328684679074, 31.842427340794384, 33.04791231564669, 34.24650745841099], \"yaxis\": \"y\"}, {\"line\": {\"color\": \"rgb(0, 255, 0)\", \"dash\": \"dash\", \"width\": 2}, \"mode\": \"lines\", \"name\": \"validate - X\", \"type\": \"scatter\", \"x\": [0.0, 0.1, 0.2, 0.3, 0.4, 0.5, 0.6, 0.7, 0.8, 0.9, 1.0, 1.1, 1.2, 1.3, 1.4, 1.5, 1.6, 1.7, 1.8, 1.9, 2.0, 2.1, 2.2, 2.3, 2.4, 2.5, 2.6, 2.7, 2.8, 2.9, 3.0, 3.1, 3.2, 3.3, 3.4, 3.5, 3.6, 3.7, 3.8, 3.9, 4.0, 4.1, 4.2, 4.3, 4.4, 4.5, 4.6, 4.7, 4.8, 4.9, 5.0, 5.1, 5.2, 5.3, 5.4, 5.5, 5.6, 5.7, 5.8, 5.9, 6.0, 6.1, 6.2, 6.3, 6.4, 6.5, 6.6, 6.7, 6.8, 6.9, 7.0, 7.1, 7.2, 7.3, 7.4, 7.5, 7.6, 7.7, 7.8, 7.9, 8.0, 8.1, 8.2, 8.3, 8.4, 8.5, 8.6, 8.7, 8.8, 8.9, 9.0, 9.1, 9.2, 9.3, 9.4, 9.5, 9.6, 9.7, 9.8, 9.9, 10.0, 10.1, 10.2, 10.3, 10.4, 10.5, 10.6, 10.7, 10.8, 10.9], \"xaxis\": \"x\", \"y\": [0.0, 2.200005, 4.40001, 6.600014999999999, 8.80002, 11.000024999999999, 13.200029999999998, 15.400034999999997, 17.60004, 19.800044999999997, 22.000049999999995, 24.200054999999995, 26.398593329999994, 28.591264979999995, 30.77220326999999, 32.932608179999995, 35.060013014999996, 37.13828440499999, 39.14688896999999, 41.06235998999999, 42.859030739999994, 44.514167834999995, 46.014571245, 47.352907619999996, 48.522576945, 49.518445875, 50.336847735, 50.97558252, 51.433916895, 51.713317530000005, 51.81671776500001, 51.74778427500001, 51.511650405000005, 51.11491617000001, 50.565648255000006, 49.87264668, 49.044711465, 48.09064263, 47.0214402, 45.8481042, 44.58090132, 43.23229825500001, 41.814028365000006, 40.33709167500001, 38.813221545000005, 37.25415133500001, 35.671614405000014, 34.07661078, 32.47940715000001, 30.89100354, 29.322399975000007, 27.783129810000013, 26.282726400000005, 24.82998976500001, 23.432986590000002, 22.099783560000006, 20.83771402500001, 19.653378000000004, 18.55190883000001, 17.538439860000004, 16.618837770000006, 15.796769235000008, 15.075167595000005, 14.456966190000008, 13.944365025000005, 13.538830770000006, 13.240363425000007, 13.049696325000006, 12.966829470000008, 12.990296190000008, 13.118629815000007, 13.350363675000006, 13.682564430000008, 14.112298740000007, 14.63663326500001, 15.251167995000007, 15.951502920000005, 16.73323803000001, 17.591239980000008, 18.52037542500001, 19.51624435500001, 20.572980090000005, 21.683982615, 22.84338525000002, 24.045321315000013, 25.28392413000001, 26.552593680000005, 27.84472995, 29.15446626000002, 30.475935930000016, 31.802538945000013, 33.127675290000006, 34.445478285, 35.750814585000015, 37.03781751000001, 38.300620380000005, 39.53408985, 40.732359239999994, 41.89029520500001, 43.00423107, 44.069766825, 45.08250246, 46.0387713, 46.93417333500001, 47.765775225000006, 48.531376965, 49.228045214999995, 49.85284663499999, 50.404314555, 50.880982304999996], \"yaxis\": \"y\"}, {\"line\": {\"color\": \"rgb(0, 0, 255)\", \"width\": 2}, \"mode\": \"lines\", \"name\": \"pycrash - Y\", \"type\": \"scatter\", \"x\": [0.0, 0.1, 0.2, 0.3, 0.4, 0.5, 0.6, 0.7, 0.8, 0.9, 1.0, 1.1, 1.2, 1.3, 1.4, 1.5, 1.6, 1.7, 1.8, 1.9, 2.0, 2.1, 2.2, 2.3, 2.4, 2.5, 2.6, 2.7, 2.8, 2.9, 3.0, 3.1, 3.2, 3.3, 3.4, 3.5, 3.6, 3.7, 3.8, 3.9, 4.0, 4.1, 4.2, 4.3, 4.4, 4.5, 4.6, 4.7, 4.8, 4.9, 5.0, 5.1, 5.2, 5.3, 5.4, 5.5, 5.6, 5.7, 5.8, 5.9, 6.0, 6.1, 6.2, 6.3, 6.4, 6.5, 6.6, 6.7, 6.8, 6.9, 7.0, 7.1, 7.2, 7.3, 7.4, 7.5, 7.6, 7.7, 7.8, 7.9, 8.0, 8.1, 8.2, 8.3, 8.4, 8.5, 8.6, 8.7, 8.8, 8.9, 9.0, 9.1, 9.2, 9.3, 9.4, 9.5, 9.6, 9.7, 9.8, 9.9, 10.0, 10.1, 10.2, 10.3, 10.4, 10.5, 10.6, 10.7, 10.8, 10.9], \"xaxis\": \"x\", \"y\": [0.0, 0.0, 0.0, 0.0, 0.0, 0.0, 0.0, 0.0, 0.0, 0.0, 0.0, -0.007980443550338504, -0.04618802012512788, -0.13728562664367627, -0.29278887089898625, -0.5195813137617704, -0.828824187506404, -1.2375711410824954, -1.7644990820976063, -2.425023820967051, -3.227855032609195, -4.171394473338027, -5.244108507447677, -6.432392430467373, -7.725895371700051, -9.114836353788396, -10.586534934212706, -12.125620928823974, -13.716187188117642, -15.34329675042465, -16.993197898472303, -18.652974774226358, -20.31032264980806, -21.953562184633746, -23.57171254838876, -25.15450693923185, -26.69236951946167, -28.176405492828323, -29.598414166855896, -30.95090286615416, -32.22708545503437, -33.420868628802175, -34.5268367229291, -35.540240065119406, -36.4569845487325, -37.273618551998815, -37.98731607070018, -38.595857397507125, -39.09760885586454, -39.491502005458614, -39.77701198129881, -39.95413468513304, -40.02336293609024, -39.985661890753946, -39.84244397880398, -39.59554346313123, -39.24719067723943, -38.79998601838655, -38.256873810850195, -37.621116157906506, -36.89626688221183, -36.08614563663154, -35.194812261213144, -34.22654146153637, -33.1857978814567, -32.07721163747868, -30.905554375115912, -29.67571590181317, -28.392681446422813, -27.061509590918543, -25.687310915459342, -24.27522739321554, -22.830412566853543, -21.35801253435134, -19.863147767805863, -18.350895785011176, -16.82627468982654, -15.294227593754561, -13.759607927728332, -12.227165649859261, -10.701534351812201, -9.187219263547858, -7.6885861534095135, -6.209851117929928, -4.755071253294204, -3.328136198109595, -1.9327605350038488, -0.5724770365944403, 0.7493692604577502, 2.0296261712806185, 3.2653386880219695, 4.453752535396178, 5.592316978733665, 6.678686907859367, 7.710724221139479, 8.686498534927225, 9.604287244411108, 10.462574962529663, 11.260052364167148, 11.995614463290845, 12.66835835103701, 13.277580423002416, 13.822773124158212, 14.303621239875039, 14.719997761538528, 15.071959355146914, 15.359741461120942, 15.583753053326184, 15.744571085012415, 15.842934649018597], \"yaxis\": \"y\"}, {\"line\": {\"color\": \"rgb(0, 0, 255)\", \"dash\": \"dash\", \"width\": 2}, \"mode\": \"lines\", \"name\": \"validate - Y\", \"type\": \"scatter\", \"x\": [0.0, 0.1, 0.2, 0.3, 0.4, 0.5, 0.6, 0.7, 0.8, 0.9, 1.0, 1.1, 1.2, 1.3, 1.4, 1.5, 1.6, 1.7, 1.8, 1.9, 2.0, 2.1, 2.2, 2.3, 2.4, 2.5, 2.6, 2.7, 2.8, 2.9, 3.0, 3.1, 3.2, 3.3, 3.4, 3.5, 3.6, 3.7, 3.8, 3.9, 4.0, 4.1, 4.2, 4.3, 4.4, 4.5, 4.6, 4.7, 4.8, 4.9, 5.0, 5.1, 5.2, 5.3, 5.4, 5.5, 5.6, 5.7, 5.8, 5.9, 6.0, 6.1, 6.2, 6.3, 6.4, 6.5, 6.6, 6.7, 6.8, 6.9, 7.0, 7.1, 7.2, 7.3, 7.4, 7.5, 7.6, 7.7, 7.8, 7.9, 8.0, 8.1, 8.2, 8.3, 8.4, 8.5, 8.6, 8.7, 8.8, 8.9, 9.0, 9.1, 9.2, 9.3, 9.4, 9.5, 9.6, 9.7, 9.8, 9.9, 10.0, 10.1, 10.2, 10.3, 10.4, 10.5, 10.6, 10.7, 10.8, 10.9], \"xaxis\": \"x\", \"y\": [0.0, 0.0, 0.0, 0.0, 0.0, 0.0, 0.0, 0.0, 0.0, 0.0, 0.0, -0.008800020000000007, -0.047666774999999946, -0.14080032000000003, -0.3109340399999998, -0.58080132, -0.9716688750000002, -1.5011367449999995, -2.18240496, -3.0242735399999985, -4.03040916, -5.195678475, -6.5061481200000015, -7.944218054999997, -9.492288239999999, -11.1320253, -12.844362525000001, -14.610966540000003, -16.413503969999997, -18.23364144, -20.054512245, -21.860716350000004, -23.636853720000005, -25.368257654999997, -27.04246146, -28.64699844, -30.170135235000004, -31.602338490000005, -32.93407485, -34.15727763, -35.26608015000001, -36.253882395000005, -37.11628435500001, -37.85035269000001, -38.45242072500001, -38.92102179000001, -39.25542255000001, -39.455623005000014, -39.52382316000001, -39.46148968500001, -39.27082258500001, -38.956221870000014, -38.52135421500001, -37.97061963000001, -37.309884795, -36.54501639000001, -35.68188109500001, -34.72781226, -33.690143235, -32.57547403499999, -31.391871344999995, -30.147401849999998, -28.85013223499999, -27.508129184999994, -26.129459384999986, -24.722922854999993, -23.29658628, -21.85778300999999, -20.414579729999996, -18.975776459999988, -17.54870654999999, -16.140703349999995, -14.759100209999989, -13.410497144999994, -12.101494169999986, -10.83869129999999, -9.627955214999995, -8.474419259999989, -7.383950114999992, -6.360947789999987, -5.40907895999999, -4.532743634999993, -3.735608489999996, -3.020606864999986, -2.3899387649999886, -1.8458041949999906, -1.3904031599999922, -1.0244689949999937, -0.7487350349999897, -0.5639346149999904, -0.46933439999999077, -0.46493438999999076, -0.5500012499999904, -0.7230683099999928, -0.982668899999992, -1.3266030149999908, -1.7526706499999891, -2.257938464999987, -2.8394731199999956, -3.4943412749999934, -4.218876254999991, -5.0094113849999875, -5.862279989999984, -6.7730820599999975, -7.737417584999994, -8.75015321999999, -9.806888954999987, -10.903224779999983, -12.034027349999999, -13.194896654999994], \"yaxis\": \"y\"}, {\"line\": {\"color\": \"rgb(0, 0, 0)\", \"width\": 2}, \"mode\": \"lines\", \"name\": \"pycrash - heading\", \"type\": \"scatter\", \"x\": [0.0, 0.1, 0.2, 0.3, 0.4, 0.5, 0.6, 0.7, 0.8, 0.9, 1.0, 1.1, 1.2, 1.3, 1.4, 1.5, 1.6, 1.7, 1.8, 1.9, 2.0, 2.1, 2.2, 2.3, 2.4, 2.5, 2.6, 2.7, 2.8, 2.9, 3.0, 3.1, 3.2, 3.3, 3.4, 3.5, 3.6, 3.7, 3.8, 3.9, 4.0, 4.1, 4.2, 4.3, 4.4, 4.5, 4.6, 4.7, 4.8, 4.9, 5.0, 5.1, 5.2, 5.3, 5.4, 5.5, 5.6, 5.7, 5.8, 5.9, 6.0, 6.1, 6.2, 6.3, 6.4, 6.5, 6.6, 6.7, 6.8, 6.9, 7.0, 7.1, 7.2, 7.3, 7.4, 7.5, 7.6, 7.7, 7.8, 7.9, 8.0, 8.1, 8.2, 8.3, 8.4, 8.5, 8.6, 8.7, 8.8, 8.9, 9.0, 9.1, 9.2, 9.3, 9.4, 9.5, 9.6, 9.7, 9.8, 9.9, 10.0, 10.1, 10.2, 10.3, 10.4, 10.5, 10.6, 10.7, 10.8, 10.9], \"xaxis\": \"x2\", \"y\": [0.0, 0.0, 0.0, 0.0, 0.0, 0.0, 0.0, 0.0, 0.0, 0.0, 0.0, -0.0728916891642895, -0.42421588931936927, -1.2675549646135786, -2.7021387363977727, -4.733802988807381, -7.332364110224208, -10.46615353018186, -14.110180645680984, -18.241847102378546, -22.828771962252976, -27.77357611906898, -32.88329977894602, -37.969382826176485, -42.94771924795441, -47.82202998393499, -52.62264166816481, -57.36932447878776, -62.06666787050173, -66.71319330587453, -71.30852365420775, -75.85475345099594, -80.35487295927706, -84.8113782115501, -89.22602756671395, -93.6002185995192, -97.93531425653542, -102.23270589388098, -106.49373629869875, -110.71963777675927, -114.91153209439983, -119.07046077947462, -123.19740867819377, -127.29331084268105, -131.35905148724993, -135.39546429922214, -139.40333630650264, -143.38341299215475, -147.33640243358894, -151.26297808851476, -155.1637809211257, -159.03942146706441, -162.8904819470464, -166.71751827784288, -170.5210618623135, -174.30162116151703, -178.05968311128504, -181.79571443267272, -185.5101628525987, -189.20345823373626, -192.87601361366717, -196.52822616011446, -200.16047805271603, -203.7731373008807, -207.3665585043847, -210.94108356109035, -214.4970423254118, -218.03475322137783, -221.55452381438442, -225.0566513454672, -228.54142323128622, -232.00911753243497, -235.46000339239038, -238.8943414493338, -242.31238422298077, -245.71437647836436, -249.10055556827862, -252.4711517558946, -255.82638851894356, -259.166482836772, -262.49164546147864, -265.80208117423354, -269.0979890277741, -272.379562575993, -275.6469900914648, -278.90045477169735, -282.14013493483435, -285.3662042054737, -288.5788316912183, -291.7781821505278, -294.96441615240326, -298.13769022839415, -301.2981570173855, -304.4459654035875, -307.5812606481217, -310.70418451457067, -313.8148753888334, -316.91346839360517, -320.00009549777957, -323.0748856210511, -326.1379647339775, -329.1894559537455, -332.2294796358681, -335.2581534620262, -338.2755925242548, -341.2819094056618, -344.2772142578547, -347.26161487524286, -350.2352167663685, -353.1981232224147], \"yaxis\": \"y2\"}, {\"line\": {\"color\": \"rgb(0, 0, 0)\", \"dash\": \"dash\", \"width\": 2}, \"mode\": \"lines\", \"name\": \"validate - heading\", \"type\": \"scatter\", \"x\": [0.0, 0.1, 0.2, 0.3, 0.4, 0.5, 0.6, 0.7, 0.8, 0.9, 1.0, 1.1, 1.2, 1.3, 1.4, 1.5, 1.6, 1.7, 1.8, 1.9, 2.0, 2.1, 2.2, 2.3, 2.4, 2.5, 2.6, 2.7, 2.8, 2.9, 3.0, 3.1, 3.2, 3.3, 3.4, 3.5, 3.6, 3.7, 3.8, 3.9, 4.0, 4.1, 4.2, 4.3, 4.4, 4.5, 4.6, 4.7, 4.8, 4.9, 5.0, 5.1, 5.2, 5.3, 5.4, 5.5, 5.6, 5.7, 5.8, 5.9, 6.0, 6.1, 6.2, 6.3, 6.4, 6.5, 6.6, 6.7, 6.8, 6.9, 7.0, 7.1, 7.2, 7.3, 7.4, 7.5, 7.6, 7.7, 7.8, 7.9, 8.0, 8.1, 8.2, 8.3, 8.4, 8.5, 8.6, 8.7, 8.8, 8.9, 9.0, 9.1, 9.2, 9.3, 9.4, 9.5, 9.6, 9.7, 9.8, 9.9, 10.0, 10.1, 10.2, 10.3, 10.4, 10.5, 10.6, 10.7, 10.8, 10.9], \"xaxis\": \"x2\", \"y\": [0.0, 0.0, 0.0, 0.0, 0.0, 0.0, 0.0, 0.0, 0.0, 0.0, 0.0, -0.06, -0.46, -1.39, -2.88, -4.97, -7.66, -10.94, -14.76, -19.09, -23.88, -29.08, -34.55, -40.14, -45.77, -51.37, -56.92, -62.42, -67.86, -73.25, -78.58, -83.86, -89.1, -94.29, -99.43, -104.53, -109.59, -114.61, -119.59, -124.53, -129.44, -134.31, -139.15, -143.96, -148.73, -153.47, -158.19, -162.87, -167.53, -172.15, -176.75, 178.67, 174.12, 169.6, 165.1, 160.63, 156.17, 151.75, 147.34, 142.95, 138.59, 134.25, 129.93, 125.63, 121.35, 117.08, 112.84, 108.62, 104.41, 100.22, 96.05, 91.9, 87.76, 83.64, 79.54, 75.45, 71.38, 67.33, 63.29, 59.26, 55.25, 51.26, 47.28, 43.31, 39.36, 35.42, 31.5, 27.59, 23.69, 19.81, 15.93, 12.08, 8.23, 4.4, 0.57, -3.24, -7.03, -10.82, -14.59, -18.36, -22.11, -25.85, -29.58, -33.3, -37.0, -40.7, -44.39, -48.06, -51.73, -55.38], \"yaxis\": \"y2\"}],\n",
       "                        {\"autosize\": false, \"font\": {\"color\": \"black\", \"family\": \"Arial\", \"size\": 14}, \"height\": 500, \"legend\": {\"orientation\": \"h\", \"x\": 0.01, \"xanchor\": \"left\", \"y\": 1.1, \"yanchor\": \"top\"}, \"template\": {\"data\": {\"bar\": [{\"error_x\": {\"color\": \"#2a3f5f\"}, \"error_y\": {\"color\": \"#2a3f5f\"}, \"marker\": {\"line\": {\"color\": \"white\", \"width\": 0.5}}, \"type\": \"bar\"}], \"barpolar\": [{\"marker\": {\"line\": {\"color\": \"white\", \"width\": 0.5}}, \"type\": \"barpolar\"}], \"carpet\": [{\"aaxis\": {\"endlinecolor\": \"#2a3f5f\", \"gridcolor\": \"#C8D4E3\", \"linecolor\": \"#C8D4E3\", \"minorgridcolor\": \"#C8D4E3\", \"startlinecolor\": \"#2a3f5f\"}, \"baxis\": {\"endlinecolor\": \"#2a3f5f\", \"gridcolor\": \"#C8D4E3\", \"linecolor\": \"#C8D4E3\", \"minorgridcolor\": \"#C8D4E3\", \"startlinecolor\": \"#2a3f5f\"}, \"type\": \"carpet\"}], \"choropleth\": [{\"colorbar\": {\"outlinewidth\": 0, \"ticks\": \"\"}, \"type\": \"choropleth\"}], \"contour\": [{\"colorbar\": {\"outlinewidth\": 0, \"ticks\": \"\"}, \"colorscale\": [[0.0, \"#0d0887\"], [0.1111111111111111, \"#46039f\"], [0.2222222222222222, \"#7201a8\"], [0.3333333333333333, \"#9c179e\"], [0.4444444444444444, \"#bd3786\"], [0.5555555555555556, \"#d8576b\"], [0.6666666666666666, \"#ed7953\"], [0.7777777777777778, \"#fb9f3a\"], [0.8888888888888888, \"#fdca26\"], [1.0, \"#f0f921\"]], \"type\": \"contour\"}], \"contourcarpet\": [{\"colorbar\": {\"outlinewidth\": 0, \"ticks\": \"\"}, \"type\": \"contourcarpet\"}], \"heatmap\": [{\"colorbar\": {\"outlinewidth\": 0, \"ticks\": \"\"}, \"colorscale\": [[0.0, \"#0d0887\"], [0.1111111111111111, \"#46039f\"], [0.2222222222222222, \"#7201a8\"], [0.3333333333333333, \"#9c179e\"], [0.4444444444444444, \"#bd3786\"], [0.5555555555555556, \"#d8576b\"], [0.6666666666666666, \"#ed7953\"], [0.7777777777777778, \"#fb9f3a\"], [0.8888888888888888, \"#fdca26\"], [1.0, \"#f0f921\"]], \"type\": \"heatmap\"}], \"heatmapgl\": [{\"colorbar\": {\"outlinewidth\": 0, \"ticks\": \"\"}, \"colorscale\": [[0.0, \"#0d0887\"], [0.1111111111111111, \"#46039f\"], [0.2222222222222222, \"#7201a8\"], [0.3333333333333333, \"#9c179e\"], [0.4444444444444444, \"#bd3786\"], [0.5555555555555556, \"#d8576b\"], [0.6666666666666666, \"#ed7953\"], [0.7777777777777778, \"#fb9f3a\"], [0.8888888888888888, \"#fdca26\"], [1.0, \"#f0f921\"]], \"type\": \"heatmapgl\"}], \"histogram\": [{\"marker\": {\"colorbar\": {\"outlinewidth\": 0, \"ticks\": \"\"}}, \"type\": \"histogram\"}], \"histogram2d\": [{\"colorbar\": {\"outlinewidth\": 0, \"ticks\": \"\"}, \"colorscale\": [[0.0, \"#0d0887\"], [0.1111111111111111, \"#46039f\"], [0.2222222222222222, \"#7201a8\"], [0.3333333333333333, \"#9c179e\"], [0.4444444444444444, \"#bd3786\"], [0.5555555555555556, \"#d8576b\"], [0.6666666666666666, \"#ed7953\"], [0.7777777777777778, \"#fb9f3a\"], [0.8888888888888888, \"#fdca26\"], [1.0, \"#f0f921\"]], \"type\": \"histogram2d\"}], \"histogram2dcontour\": [{\"colorbar\": {\"outlinewidth\": 0, \"ticks\": \"\"}, \"colorscale\": [[0.0, \"#0d0887\"], [0.1111111111111111, \"#46039f\"], [0.2222222222222222, \"#7201a8\"], [0.3333333333333333, \"#9c179e\"], [0.4444444444444444, \"#bd3786\"], [0.5555555555555556, \"#d8576b\"], [0.6666666666666666, \"#ed7953\"], [0.7777777777777778, \"#fb9f3a\"], [0.8888888888888888, \"#fdca26\"], [1.0, \"#f0f921\"]], \"type\": \"histogram2dcontour\"}], \"mesh3d\": [{\"colorbar\": {\"outlinewidth\": 0, \"ticks\": \"\"}, \"type\": \"mesh3d\"}], \"parcoords\": [{\"line\": {\"colorbar\": {\"outlinewidth\": 0, \"ticks\": \"\"}}, \"type\": \"parcoords\"}], \"pie\": [{\"automargin\": true, \"type\": \"pie\"}], \"scatter\": [{\"marker\": {\"colorbar\": {\"outlinewidth\": 0, \"ticks\": \"\"}}, \"type\": \"scatter\"}], \"scatter3d\": [{\"line\": {\"colorbar\": {\"outlinewidth\": 0, \"ticks\": \"\"}}, \"marker\": {\"colorbar\": {\"outlinewidth\": 0, \"ticks\": \"\"}}, \"type\": \"scatter3d\"}], \"scattercarpet\": [{\"marker\": {\"colorbar\": {\"outlinewidth\": 0, \"ticks\": \"\"}}, \"type\": \"scattercarpet\"}], \"scattergeo\": [{\"marker\": {\"colorbar\": {\"outlinewidth\": 0, \"ticks\": \"\"}}, \"type\": \"scattergeo\"}], \"scattergl\": [{\"marker\": {\"colorbar\": {\"outlinewidth\": 0, \"ticks\": \"\"}}, \"type\": \"scattergl\"}], \"scattermapbox\": [{\"marker\": {\"colorbar\": {\"outlinewidth\": 0, \"ticks\": \"\"}}, \"type\": \"scattermapbox\"}], \"scatterpolar\": [{\"marker\": {\"colorbar\": {\"outlinewidth\": 0, \"ticks\": \"\"}}, \"type\": \"scatterpolar\"}], \"scatterpolargl\": [{\"marker\": {\"colorbar\": {\"outlinewidth\": 0, \"ticks\": \"\"}}, \"type\": \"scatterpolargl\"}], \"scatterternary\": [{\"marker\": {\"colorbar\": {\"outlinewidth\": 0, \"ticks\": \"\"}}, \"type\": \"scatterternary\"}], \"surface\": [{\"colorbar\": {\"outlinewidth\": 0, \"ticks\": \"\"}, \"colorscale\": [[0.0, \"#0d0887\"], [0.1111111111111111, \"#46039f\"], [0.2222222222222222, \"#7201a8\"], [0.3333333333333333, \"#9c179e\"], [0.4444444444444444, \"#bd3786\"], [0.5555555555555556, \"#d8576b\"], [0.6666666666666666, \"#ed7953\"], [0.7777777777777778, \"#fb9f3a\"], [0.8888888888888888, \"#fdca26\"], [1.0, \"#f0f921\"]], \"type\": \"surface\"}], \"table\": [{\"cells\": {\"fill\": {\"color\": \"#EBF0F8\"}, \"line\": {\"color\": \"white\"}}, \"header\": {\"fill\": {\"color\": \"#C8D4E3\"}, \"line\": {\"color\": \"white\"}}, \"type\": \"table\"}]}, \"layout\": {\"annotationdefaults\": {\"arrowcolor\": \"#2a3f5f\", \"arrowhead\": 0, \"arrowwidth\": 1}, \"coloraxis\": {\"colorbar\": {\"outlinewidth\": 0, \"ticks\": \"\"}}, \"colorscale\": {\"diverging\": [[0, \"#8e0152\"], [0.1, \"#c51b7d\"], [0.2, \"#de77ae\"], [0.3, \"#f1b6da\"], [0.4, \"#fde0ef\"], [0.5, \"#f7f7f7\"], [0.6, \"#e6f5d0\"], [0.7, \"#b8e186\"], [0.8, \"#7fbc41\"], [0.9, \"#4d9221\"], [1, \"#276419\"]], \"sequential\": [[0.0, \"#0d0887\"], [0.1111111111111111, \"#46039f\"], [0.2222222222222222, \"#7201a8\"], [0.3333333333333333, \"#9c179e\"], [0.4444444444444444, \"#bd3786\"], [0.5555555555555556, \"#d8576b\"], [0.6666666666666666, \"#ed7953\"], [0.7777777777777778, \"#fb9f3a\"], [0.8888888888888888, \"#fdca26\"], [1.0, \"#f0f921\"]], \"sequentialminus\": [[0.0, \"#0d0887\"], [0.1111111111111111, \"#46039f\"], [0.2222222222222222, \"#7201a8\"], [0.3333333333333333, \"#9c179e\"], [0.4444444444444444, \"#bd3786\"], [0.5555555555555556, \"#d8576b\"], [0.6666666666666666, \"#ed7953\"], [0.7777777777777778, \"#fb9f3a\"], [0.8888888888888888, \"#fdca26\"], [1.0, \"#f0f921\"]]}, \"colorway\": [\"#636efa\", \"#EF553B\", \"#00cc96\", \"#ab63fa\", \"#FFA15A\", \"#19d3f3\", \"#FF6692\", \"#B6E880\", \"#FF97FF\", \"#FECB52\"], \"font\": {\"color\": \"#2a3f5f\"}, \"geo\": {\"bgcolor\": \"white\", \"lakecolor\": \"white\", \"landcolor\": \"white\", \"showlakes\": true, \"showland\": true, \"subunitcolor\": \"#C8D4E3\"}, \"hoverlabel\": {\"align\": \"left\"}, \"hovermode\": \"closest\", \"mapbox\": {\"style\": \"light\"}, \"paper_bgcolor\": \"white\", \"plot_bgcolor\": \"white\", \"polar\": {\"angularaxis\": {\"gridcolor\": \"#EBF0F8\", \"linecolor\": \"#EBF0F8\", \"ticks\": \"\"}, \"bgcolor\": \"white\", \"radialaxis\": {\"gridcolor\": \"#EBF0F8\", \"linecolor\": \"#EBF0F8\", \"ticks\": \"\"}}, \"scene\": {\"xaxis\": {\"backgroundcolor\": \"white\", \"gridcolor\": \"#DFE8F3\", \"gridwidth\": 2, \"linecolor\": \"#EBF0F8\", \"showbackground\": true, \"ticks\": \"\", \"zerolinecolor\": \"#EBF0F8\"}, \"yaxis\": {\"backgroundcolor\": \"white\", \"gridcolor\": \"#DFE8F3\", \"gridwidth\": 2, \"linecolor\": \"#EBF0F8\", \"showbackground\": true, \"ticks\": \"\", \"zerolinecolor\": \"#EBF0F8\"}, \"zaxis\": {\"backgroundcolor\": \"white\", \"gridcolor\": \"#DFE8F3\", \"gridwidth\": 2, \"linecolor\": \"#EBF0F8\", \"showbackground\": true, \"ticks\": \"\", \"zerolinecolor\": \"#EBF0F8\"}}, \"shapedefaults\": {\"line\": {\"color\": \"#2a3f5f\"}}, \"ternary\": {\"aaxis\": {\"gridcolor\": \"#DFE8F3\", \"linecolor\": \"#A2B1C6\", \"ticks\": \"\"}, \"baxis\": {\"gridcolor\": \"#DFE8F3\", \"linecolor\": \"#A2B1C6\", \"ticks\": \"\"}, \"bgcolor\": \"white\", \"caxis\": {\"gridcolor\": \"#DFE8F3\", \"linecolor\": \"#A2B1C6\", \"ticks\": \"\"}}, \"title\": {\"x\": 0.05}, \"xaxis\": {\"automargin\": true, \"gridcolor\": \"#EBF0F8\", \"linecolor\": \"#EBF0F8\", \"ticks\": \"\", \"title\": {\"standoff\": 15}, \"zerolinecolor\": \"#EBF0F8\", \"zerolinewidth\": 2}, \"yaxis\": {\"automargin\": true, \"gridcolor\": \"#EBF0F8\", \"linecolor\": \"#EBF0F8\", \"ticks\": \"\", \"title\": {\"standoff\": 15}, \"zerolinecolor\": \"#EBF0F8\", \"zerolinewidth\": 2}}}, \"width\": 900, \"xaxis\": {\"anchor\": \"y\", \"domain\": [0.0, 1.0], \"linecolor\": \"black\", \"linewidth\": 1, \"matches\": \"x2\", \"showgrid\": false, \"showline\": true, \"showticklabels\": false, \"tickcolor\": \"black\", \"ticklen\": 10, \"ticks\": \"outside\", \"tickwidth\": 1, \"title\": {\"text\": \"\"}, \"zeroline\": false}, \"xaxis2\": {\"anchor\": \"y2\", \"domain\": [0.0, 1.0], \"linecolor\": \"black\", \"linewidth\": 1, \"showgrid\": false, \"showline\": true, \"tickcolor\": \"black\", \"ticklen\": 10, \"ticks\": \"outside\", \"tickwidth\": 1, \"title\": {\"text\": \"Time (s)\"}, \"zeroline\": false}, \"yaxis\": {\"anchor\": \"x\", \"domain\": [0.5349999999999999, 0.9999999999999999], \"linecolor\": \"black\", \"linewidth\": 1, \"showgrid\": false, \"showline\": true, \"tickcolor\": \"black\", \"ticklen\": 10, \"ticks\": \"outside\", \"tickwidth\": 1, \"title\": {\"text\": \"Displacement (ft)\"}, \"zeroline\": false}, \"yaxis2\": {\"anchor\": \"x2\", \"domain\": [0.0, 0.46499999999999997], \"linecolor\": \"black\", \"linewidth\": 1, \"showgrid\": false, \"showline\": true, \"tickcolor\": \"black\", \"ticklen\": 10, \"ticks\": \"outside\", \"tickwidth\": 1, \"title\": {\"text\": \"Heading Angle (deg)\"}, \"zeroline\": false}},\n",
       "                        {\"responsive\": true}\n",
       "                    ).then(function(){\n",
       "                            \n",
       "var gd = document.getElementById('f7bdae43-58a2-47bb-a2a6-a52ebdf6297d');\n",
       "var x = new MutationObserver(function (mutations, observer) {{\n",
       "        var display = window.getComputedStyle(gd).display;\n",
       "        if (!display || display === 'none') {{\n",
       "            console.log([gd, 'removed!']);\n",
       "            Plotly.purge(gd);\n",
       "            observer.disconnect();\n",
       "        }}\n",
       "}});\n",
       "\n",
       "// Listen for the removal of the full notebook cells\n",
       "var notebookContainer = gd.closest('#notebook-container');\n",
       "if (notebookContainer) {{\n",
       "    x.observe(notebookContainer, {childList: true});\n",
       "}}\n",
       "\n",
       "// Listen for the clearing of the current output cell\n",
       "var outputEl = gd.closest('.output');\n",
       "if (outputEl) {{\n",
       "    x.observe(outputEl, {childList: true});\n",
       "}}\n",
       "\n",
       "                        })\n",
       "                };\n",
       "                });\n",
       "            </script>\n",
       "        </div>"
      ]
     },
     "metadata": {},
     "output_type": "display_data"
    },
    {
     "data": {
      "application/vnd.plotly.v1+json": {
       "config": {
        "plotlyServerURL": "https://plot.ly"
       },
       "data": [
        {
         "line": {
          "color": "rgb(0, 255, 0)",
          "width": 2
         },
         "mode": "lines",
         "name": "pycrash - X",
         "type": "scatter",
         "x": [
          0,
          0.1,
          0.2,
          0.3,
          0.4,
          0.5,
          0.6,
          0.7,
          0.8,
          0.9,
          1,
          1.1,
          1.2,
          1.3,
          1.4,
          1.5,
          1.6,
          1.7,
          1.8,
          1.9,
          2,
          2.1,
          2.2,
          2.3,
          2.4,
          2.5,
          2.6,
          2.7,
          2.8,
          2.9,
          3,
          3.1,
          3.2,
          3.3,
          3.4,
          3.5,
          3.6,
          3.7,
          3.8,
          3.9,
          4,
          4.1,
          4.2,
          4.3,
          4.4,
          4.5,
          4.6,
          4.7,
          4.8,
          4.9,
          5,
          5.1,
          5.2,
          5.3,
          5.4,
          5.5,
          5.6,
          5.7,
          5.8,
          5.9,
          6,
          6.1,
          6.2,
          6.3,
          6.4,
          6.5,
          6.6,
          6.7,
          6.8,
          6.9,
          7,
          7.1,
          7.2,
          7.3,
          7.4,
          7.5,
          7.6,
          7.7,
          7.8,
          7.9,
          8,
          8.1,
          8.2,
          8.3,
          8.4,
          8.5,
          8.6,
          8.7,
          8.8,
          8.9,
          9,
          9.1,
          9.2,
          9.3,
          9.4,
          9.5,
          9.6,
          9.7,
          9.8,
          9.9,
          10,
          10.1,
          10.2,
          10.3,
          10.4,
          10.5,
          10.6,
          10.7,
          10.8,
          10.9
         ],
         "xaxis": "x",
         "y": [
          15,
          15,
          15,
          15,
          15,
          15,
          15,
          15,
          15,
          15,
          15,
          14.99598938704336,
          14.975803501213521,
          14.928661292841232,
          14.850057451775415,
          14.729367481115629,
          14.541771285893189,
          14.253602474390318,
          13.83311294037774,
          13.2561534239947,
          12.516528230361551,
          11.684237798376401,
          10.831575702331465,
          9.932384315443226,
          8.94246642458358,
          7.8682414812292585,
          6.754786883452194,
          5.644021664489523,
          4.552607768610504,
          3.478400582577222,
          2.4167360418555206,
          1.3693867144878866,
          0.34348372869812743,
          -0.6532317058247931,
          -1.6151991440338502,
          -2.538898010376342,
          -3.4215814346323397,
          -4.260500412918564,
          -5.052909626017588,
          -5.796368717086556,
          -6.488912282900144,
          -7.129021476615855,
          -7.7155280865438804,
          -8.247556436484212,
          -8.724513555893232,
          -9.14609240288361,
          -9.512264054129007,
          -9.823258999220197,
          -10.079546817193256,
          -10.281819149296062,
          -10.430975079379007,
          -10.52810669377581,
          -10.574484098489906,
          -10.57154038907771,
          -10.520857066985382,
          -10.424149944947926,
          -10.283255401685578,
          -10.100116948242624,
          -9.876772174384747,
          -9.615340132833403,
          -9.318009164104078,
          -8.987025148050678,
          -8.624680188831945,
          -8.23330175635791,
          -7.815242301550822,
          -7.37286934873197,
          -6.90855606249467,
          -6.424672289407033,
          -5.923576078314313,
          -5.407605681830715,
          -4.879072037686943,
          -4.340251725712542,
          -3.7933803954930823,
          -3.240646659741102,
          -2.6841864477586808,
          -2.126077812009716,
          -1.5683361794842634,
          -1.0129100386571588,
          -0.4616770522787317,
          0.08355941432331802,
          0.6210733604086618,
          1.149218824085042,
          1.666432175829148,
          2.1712340438437745,
          2.6622308841737548,
          3.1381162088217063,
          3.597671485388311,
          4.039766721989097,
          4.463360751364482,
          4.867501228212625,
          5.251324353846601,
          5.614054342311384,
          5.955002642090073,
          6.273566927482462,
          6.569229873655479,
          6.841557729248365,
          7.0901987002684965,
          7.314881158837708,
          7.515411690145521,
          7.691672990736792,
          7.843621631009398,
          7.9712856945247355,
          8.074762306441785,
          8.154215063076052,
          8.20987137425947,
          8.242019729838265,
          8.251006901294437,
          8.237235089114435,
          8.20115902615742,
          8.143283046896501
         ],
         "yaxis": "y"
        },
        {
         "line": {
          "color": "rgb(0, 255, 0)",
          "dash": "dash",
          "width": 2
         },
         "mode": "lines",
         "name": "validate - X",
         "type": "scatter",
         "x": [
          0,
          0.1,
          0.2,
          0.3,
          0.4,
          0.5,
          0.6,
          0.7,
          0.8,
          0.9,
          1,
          1.1,
          1.2,
          1.3,
          1.4,
          1.5,
          1.6,
          1.7,
          1.8,
          1.9,
          2,
          2.1,
          2.2,
          2.3,
          2.4,
          2.5,
          2.6,
          2.7,
          2.8,
          2.9,
          3,
          3.1,
          3.2,
          3.3,
          3.4,
          3.5,
          3.6,
          3.7,
          3.8,
          3.9,
          4,
          4.1,
          4.2,
          4.3,
          4.4,
          4.5,
          4.6,
          4.7,
          4.8,
          4.9,
          5,
          5.1,
          5.2,
          5.3,
          5.4,
          5.5,
          5.6,
          5.7,
          5.8,
          5.9,
          6,
          6.1,
          6.2,
          6.3,
          6.4,
          6.5,
          6.6,
          6.7,
          6.8,
          6.9,
          7,
          7.1,
          7.2,
          7.3,
          7.4,
          7.5,
          7.6,
          7.7,
          7.8,
          7.9,
          8,
          8.1,
          8.2,
          8.3,
          8.4,
          8.5,
          8.6,
          8.7,
          8.8,
          8.9,
          9,
          9.1,
          9.2,
          9.3,
          9.4,
          9.5,
          9.6,
          9.7,
          9.8,
          9.9,
          10,
          10.1,
          10.2,
          10.3,
          10.4,
          10.5,
          10.6,
          10.7,
          10.8,
          10.9
         ],
         "xaxis": "x",
         "y": [
          15,
          15,
          15,
          15,
          15,
          15,
          15,
          15,
          15,
          15,
          15,
          15,
          14.98,
          14.92,
          14.82,
          14.64,
          14.37,
          13.97,
          13.42,
          12.7,
          11.799999999999999,
          10.77,
          9.69,
          8.56,
          7.39,
          6.19,
          4.97,
          3.74,
          2.51,
          1.3,
          0.11,
          -1.05,
          -2.17,
          -3.24,
          -4.25,
          -5.2,
          -6.09,
          -6.919999999999999,
          -7.66,
          -8.34,
          -8.94,
          -9.45,
          -9.89,
          -10.25,
          -10.53,
          -10.73,
          -10.85,
          -10.9,
          -10.88,
          -10.78,
          -10.61,
          -10.38,
          -10.08,
          -9.73,
          -9.32,
          -8.86,
          -8.35,
          -7.8,
          -7.22,
          -6.6,
          -5.94,
          -5.27,
          -4.57,
          -3.86,
          -3.13,
          -2.4,
          -1.67,
          -0.9299999999999999,
          -0.2,
          0.52,
          1.23,
          1.93,
          2.6,
          3.26,
          3.8899999999999997,
          4.49,
          5.06,
          5.6,
          6.1,
          6.57,
          7.010000000000001,
          7.4,
          7.75,
          8.06,
          8.33,
          8.56,
          8.74,
          8.88,
          8.98,
          9.04,
          9.05,
          9.02,
          8.95,
          8.85,
          8.7,
          8.52,
          8.3,
          8.04,
          7.75,
          7.4399999999999995,
          7.089999999999999,
          6.72,
          6.319999999999999,
          5.890000000000001,
          5.45,
          4.99,
          4.51,
          4.01,
          3.51,
          2.9899999999999998
         ],
         "yaxis": "y"
        },
        {
         "line": {
          "color": "rgb(0, 0, 255)",
          "width": 2
         },
         "mode": "lines",
         "name": "pycrash - Y",
         "type": "scatter",
         "x": [
          0,
          0.1,
          0.2,
          0.3,
          0.4,
          0.5,
          0.6,
          0.7,
          0.8,
          0.9,
          1,
          1.1,
          1.2,
          1.3,
          1.4,
          1.5,
          1.6,
          1.7,
          1.8,
          1.9,
          2,
          2.1,
          2.2,
          2.3,
          2.4,
          2.5,
          2.6,
          2.7,
          2.8,
          2.9,
          3,
          3.1,
          3.2,
          3.3,
          3.4,
          3.5,
          3.6,
          3.7,
          3.8,
          3.9,
          4,
          4.1,
          4.2,
          4.3,
          4.4,
          4.5,
          4.6,
          4.7,
          4.8,
          4.9,
          5,
          5.1,
          5.2,
          5.3,
          5.4,
          5.5,
          5.6,
          5.7,
          5.8,
          5.9,
          6,
          6.1,
          6.2,
          6.3,
          6.4,
          6.5,
          6.6,
          6.7,
          6.8,
          6.9,
          7,
          7.1,
          7.2,
          7.3,
          7.4,
          7.5,
          7.6,
          7.7,
          7.8,
          7.9,
          8,
          8.1,
          8.2,
          8.3,
          8.4,
          8.5,
          8.6,
          8.7,
          8.8,
          8.9,
          9,
          9.1,
          9.2,
          9.3,
          9.4,
          9.5,
          9.6,
          9.7,
          9.8,
          9.9,
          10,
          10.1,
          10.2,
          10.3,
          10.4,
          10.5,
          10.6,
          10.7,
          10.8,
          10.9
         ],
         "xaxis": "x",
         "y": [
          0,
          0,
          0,
          0,
          0,
          0,
          0,
          0,
          0,
          0,
          0,
          -0.10882398290465473,
          -0.4121872408169654,
          -0.8300500248058172,
          -1.2904439411893993,
          -1.8021732509913084,
          -2.414765443393023,
          -3.1590439830777184,
          -4.026320700390414,
          -4.980814358885985,
          -5.966859100612647,
          -6.89955857655851,
          -7.728326825197162,
          -8.475508025446814,
          -9.163128358097902,
          -9.77693289751303,
          -10.29163849788346,
          -10.69585009343247,
          -10.993640511729884,
          -11.19416672925829,
          -11.304434156389508,
          -11.328835437371263,
          -11.271311502045242,
          -11.136449409757567,
          -10.929187219545728,
          -10.65432360215365,
          -10.316482103694572,
          -9.920326085832027,
          -9.470657216854699,
          -8.972328584972066,
          -8.430121712370982,
          -7.8487027507708005,
          -7.232646075167065,
          -6.586459002189271,
          -5.914573726551157,
          -5.221319190960177,
          -4.51089758174761,
          -3.7873743786380305,
          -3.0546754124863837,
          -2.3165826018463513,
          -1.576726402090476,
          -0.8385777063214871,
          -0.10544175214152061,
          0.6195457474000473,
          1.3334213406288886,
          2.033396221232382,
          2.7168582448956893,
          3.3813732434811037,
          4.024685481881222,
          4.644717355071668,
          5.239568485569728,
          5.807514301700705,
          6.347004102826454,
          6.856658611714321,
          7.33526704408643,
          7.781783744134774,
          8.19532443102083,
          8.575162090183445,
          8.920722538129157,
          9.231579690787546,
          9.507450567678319,
          9.748190063735803,
          9.953785518528655,
          10.124351110736427,
          10.260122104717171,
          10.3614489752762,
          10.428791435786124,
          10.462712393595682,
          10.46387185543422,
          10.433020804387876,
          10.370995068945128,
          10.278709203513557,
          10.157150398692119,
          10.007372438477322,
          9.830489720504977,
          9.627671354373685,
          9.400135352053134,
          9.149142923351878,
          8.87599288841453,
          8.582016218240316,
          8.268570713262415,
          7.937035829098345,
          7.588807657677704,
          7.225294071077736,
          6.8479100345508686,
          6.45807309441132,
          6.057199045659543,
          5.646697783464377,
          5.22796934189407,
          4.802400122589425,
          4.37135931540504,
          3.936195512407712,
          3.498233516014486,
          3.058771341476556,
          2.6190774133693164,
          2.180387955232871,
          1.7439045710208787,
          1.3107920165583766,
          0.8821761587807205,
          0.4591421201256737
         ],
         "yaxis": "y"
        },
        {
         "line": {
          "color": "rgb(0, 0, 255)",
          "dash": "dash",
          "width": 2
         },
         "mode": "lines",
         "name": "validate - Y",
         "type": "scatter",
         "x": [
          0,
          0.1,
          0.2,
          0.3,
          0.4,
          0.5,
          0.6,
          0.7,
          0.8,
          0.9,
          1,
          1.1,
          1.2,
          1.3,
          1.4,
          1.5,
          1.6,
          1.7,
          1.8,
          1.9,
          2,
          2.1,
          2.2,
          2.3,
          2.4,
          2.5,
          2.6,
          2.7,
          2.8,
          2.9,
          3,
          3.1,
          3.2,
          3.3,
          3.4,
          3.5,
          3.6,
          3.7,
          3.8,
          3.9,
          4,
          4.1,
          4.2,
          4.3,
          4.4,
          4.5,
          4.6,
          4.7,
          4.8,
          4.9,
          5,
          5.1,
          5.2,
          5.3,
          5.4,
          5.5,
          5.6,
          5.7,
          5.8,
          5.9,
          6,
          6.1,
          6.2,
          6.3,
          6.4,
          6.5,
          6.6,
          6.7,
          6.8,
          6.9,
          7,
          7.1,
          7.2,
          7.3,
          7.4,
          7.5,
          7.6,
          7.7,
          7.8,
          7.9,
          8,
          8.1,
          8.2,
          8.3,
          8.4,
          8.5,
          8.6,
          8.7,
          8.8,
          8.9,
          9,
          9.1,
          9.2,
          9.3,
          9.4,
          9.5,
          9.6,
          9.7,
          9.8,
          9.9,
          10,
          10.1,
          10.2,
          10.3,
          10.4,
          10.5,
          10.6,
          10.7,
          10.8,
          10.9
         ],
         "xaxis": "x",
         "y": [
          0,
          0,
          0,
          0,
          0,
          0,
          0,
          0,
          0,
          0,
          0,
          -0.12,
          -0.4099999999999999,
          -0.86,
          -1.46,
          -2.22,
          -3.1099999999999994,
          -4.11,
          -5.18,
          -6.3,
          -7.42,
          -8.47,
          -9.4,
          -10.21,
          -10.9,
          -11.459999999999999,
          -11.89,
          -12.2,
          -12.38,
          -12.439999999999998,
          -12.39,
          -12.24,
          -11.980000000000002,
          -11.629999999999999,
          -11.2,
          -10.68,
          -10.09,
          -9.44,
          -8.72,
          -7.960000000000001,
          -7.16,
          -6.309999999999999,
          -5.45,
          -4.56,
          -3.65,
          -2.7400000000000007,
          -1.8200000000000003,
          -0.9100000000000001,
          -0.02,
          0.87,
          1.7299999999999998,
          2.56,
          3.37,
          4.14,
          4.87,
          5.56,
          6.21,
          6.8,
          7.3500000000000005,
          7.85,
          8.29,
          8.68,
          9.01,
          9.29,
          9.51,
          9.67,
          9.78,
          9.84,
          9.84,
          9.78,
          9.68,
          9.52,
          9.32,
          9.07,
          8.78,
          8.44,
          8.07,
          7.66,
          7.21,
          6.74,
          6.239999999999999,
          5.709999999999999,
          5.16,
          4.59,
          4.01,
          3.41,
          2.8,
          2.19,
          1.57,
          0.9499999999999998,
          0.34,
          -0.28,
          -0.88,
          -1.48,
          -2.06,
          -2.63,
          -3.18,
          -3.71,
          -4.22,
          -4.71,
          -5.17,
          -5.61,
          -6.02,
          -6.4,
          -6.749999999999999,
          -7.06,
          -7.3500000000000005,
          -7.599999999999999,
          -7.82,
          -8.01
         ],
         "yaxis": "y"
        },
        {
         "line": {
          "color": "rgb(0, 0, 0)",
          "width": 2
         },
         "mode": "lines",
         "name": "pycrash - slip angle",
         "type": "scatter",
         "x": [
          0,
          0.1,
          0.2,
          0.3,
          0.4,
          0.5,
          0.6,
          0.7,
          0.8,
          0.9,
          1,
          1.1,
          1.2,
          1.3,
          1.4,
          1.5,
          1.6,
          1.7,
          1.8,
          1.9,
          2,
          2.1,
          2.2,
          2.3,
          2.4,
          2.5,
          2.6,
          2.7,
          2.8,
          2.9,
          3,
          3.1,
          3.2,
          3.3,
          3.4,
          3.5,
          3.6,
          3.7,
          3.8,
          3.9,
          4,
          4.1,
          4.2,
          4.3,
          4.4,
          4.5,
          4.6,
          4.7,
          4.8,
          4.9,
          5,
          5.1,
          5.2,
          5.3,
          5.4,
          5.5,
          5.6,
          5.7,
          5.8,
          5.9,
          6,
          6.1,
          6.2,
          6.3,
          6.4,
          6.5,
          6.6,
          6.7,
          6.8,
          6.9,
          7,
          7.1,
          7.2,
          7.3,
          7.4,
          7.5,
          7.6,
          7.7,
          7.8,
          7.9,
          8,
          8.1,
          8.2,
          8.3,
          8.4,
          8.5,
          8.6,
          8.7,
          8.8,
          8.9,
          9,
          9.1,
          9.2,
          9.3,
          9.4,
          9.5,
          9.6,
          9.7,
          9.8,
          9.9,
          10,
          10.1,
          10.2,
          10.3,
          10.4,
          10.5,
          10.6,
          10.7,
          10.8,
          10.9
         ],
         "xaxis": "x2",
         "y": [
          0,
          0,
          0,
          0,
          0,
          0,
          0,
          0,
          0,
          0,
          0,
          0.41579618624937803,
          1.5039367184551615,
          2.759217042184442,
          3.701168804094638,
          4.277335498185657,
          4.6995589966645985,
          5.167258408557792,
          5.754474597626819,
          6.44684492156253,
          7.153434980390131,
          7.537853580817142,
          7.3986875621670665,
          7.083010578349306,
          6.999256486318147,
          7.216067244005919,
          7.558313718313204,
          7.850766365302381,
          8.040664658583234,
          8.168463398156279,
          8.287723494919373,
          8.42024205751723,
          8.559482524278827,
          8.692480293481646,
          8.81368470987387,
          8.925198466416598,
          9.031088743604712,
          9.133474781918904,
          9.232339723656677,
          9.32706572191351,
          9.41751789009794,
          9.504096566408757,
          9.587312680866347,
          9.667498521389348,
          9.74481002452004,
          9.819355134937641,
          9.891274713801165,
          9.9607384036065,
          10.027908025761553,
          10.092918105444037,
          10.15588119106965,
          10.216900668686685,
          10.276076966739085,
          10.333506262183452,
          10.389277527959083,
          10.443471905095137,
          10.496164171307399,
          10.547424350909894,
          10.597318395606669,
          10.645908201282882,
          10.693251623212964,
          10.73940276784582,
          10.784412420672801,
          10.828328398503963,
          10.871195769573516,
          10.913057011226583,
          10.953952175935033,
          10.993919076001594,
          11.03299346062527,
          11.07120916627515,
          11.108598243340392,
          11.145191071354958,
          11.181016469634589,
          11.216101802191337,
          11.250473073691424,
          11.284155015878781,
          11.317171166428166,
          11.34954394227351,
          11.38129470814821,
          11.412443840205718,
          11.443010784701764,
          11.473014112191235,
          11.502471567871417,
          11.531400118525694,
          11.55981599629221,
          11.587734739413525,
          11.615171230180769,
          11.64213973033341,
          11.668653914152141,
          11.694726899424436,
          11.720371276425054,
          11.745599135049009,
          11.77042209023909,
          11.794851305842776,
          11.81889751701582,
          11.842571051273493,
          11.865881848281932,
          11.888839478478165,
          11.911453160602353,
          11.933731778218188,
          11.955683895289734,
          11.977317770877168,
          11.99864137300976,
          12.019662391790737,
          12.040388251784515,
          12.060826123732383,
          12.080982935639339,
          12.100865383271588,
          12.120479940101715,
          12.13983286673582
         ],
         "yaxis": "y2"
        },
        {
         "line": {
          "color": "rgb(0, 0, 0)",
          "dash": "dash",
          "width": 2
         },
         "mode": "lines",
         "name": "validate - slip angle",
         "type": "scatter",
         "x": [
          0,
          0.1,
          0.2,
          0.3,
          0.4,
          0.5,
          0.6,
          0.7,
          0.8,
          0.9,
          1,
          1.1,
          1.2,
          1.3,
          1.4,
          1.5,
          1.6,
          1.7,
          1.8,
          1.9,
          2,
          2.1,
          2.2,
          2.3,
          2.4,
          2.5,
          2.6,
          2.7,
          2.8,
          2.9,
          3,
          3.1,
          3.2,
          3.3,
          3.4,
          3.5,
          3.6,
          3.7,
          3.8,
          3.9,
          4,
          4.1,
          4.2,
          4.3,
          4.4,
          4.5,
          4.6,
          4.7,
          4.8,
          4.9,
          5,
          5.1,
          5.2,
          5.3,
          5.4,
          5.5,
          5.6,
          5.7,
          5.8,
          5.9,
          6,
          6.1,
          6.2,
          6.3,
          6.4,
          6.5,
          6.6,
          6.7,
          6.8,
          6.9,
          7,
          7.1,
          7.2,
          7.3,
          7.4,
          7.5,
          7.6,
          7.7,
          7.8,
          7.9,
          8,
          8.1,
          8.2,
          8.3,
          8.4,
          8.5,
          8.6,
          8.7,
          8.8,
          8.9,
          9,
          9.1,
          9.2,
          9.3,
          9.4,
          9.5,
          9.6,
          9.7,
          9.8,
          9.9,
          10,
          10.1,
          10.2,
          10.3,
          10.4,
          10.5,
          10.6,
          10.7,
          10.8,
          10.9
         ],
         "xaxis": "x2",
         "y": [
          0,
          0,
          0,
          0,
          0,
          0,
          0,
          0,
          0,
          0,
          0,
          0.084587,
          0.531067,
          1.171556,
          1.84823,
          2.545153,
          3.24822,
          3.942141,
          4.562777,
          5.101874,
          5.581144,
          6.021508,
          6.325132,
          6.453797,
          6.454851,
          6.371153,
          6.253842,
          6.125854,
          5.995736,
          5.866808,
          5.740953,
          5.61967,
          5.503944,
          5.394236,
          5.290543,
          5.192439,
          5.099403,
          5.010949,
          4.926594,
          4.84598,
          4.768839,
          4.694902,
          4.623957,
          4.555829,
          4.490318,
          4.427261,
          4.366522,
          4.307944,
          4.251401,
          4.196789,
          4.143989,
          4.0929,
          4.043445,
          3.995526,
          3.949067,
          3.904003,
          3.860259,
          3.81777,
          3.776487,
          3.736345,
          3.697294,
          3.659293,
          3.622289,
          3.586239,
          3.55111,
          3.516858,
          3.483447,
          3.450849,
          3.419028,
          3.387952,
          3.357599,
          3.327937,
          3.298941,
          3.27059,
          3.242857,
          3.215721,
          3.189165,
          3.163164,
          3.1377,
          3.112759,
          3.088321,
          3.064368,
          3.040888,
          3.017863,
          2.99528,
          2.973127,
          2.951388,
          2.93005,
          2.909106,
          2.888539,
          2.86834,
          2.8485,
          2.829007,
          2.80985,
          2.791023,
          2.772515,
          2.754316,
          2.736421,
          2.718819,
          2.701502,
          2.684466,
          2.667701,
          2.651199,
          2.634957,
          2.618965,
          2.603218,
          2.587712,
          2.572438,
          2.557391,
          2.542567
         ],
         "yaxis": "y2"
        }
       ],
       "layout": {
        "autosize": false,
        "font": {
         "color": "black",
         "family": "Arial",
         "size": 14
        },
        "height": 500,
        "legend": {
         "orientation": "h",
         "x": 0.01,
         "xanchor": "left",
         "y": 1.1,
         "yanchor": "top"
        },
        "template": {
         "data": {
          "bar": [
           {
            "error_x": {
             "color": "#2a3f5f"
            },
            "error_y": {
             "color": "#2a3f5f"
            },
            "marker": {
             "line": {
              "color": "white",
              "width": 0.5
             }
            },
            "type": "bar"
           }
          ],
          "barpolar": [
           {
            "marker": {
             "line": {
              "color": "white",
              "width": 0.5
             }
            },
            "type": "barpolar"
           }
          ],
          "carpet": [
           {
            "aaxis": {
             "endlinecolor": "#2a3f5f",
             "gridcolor": "#C8D4E3",
             "linecolor": "#C8D4E3",
             "minorgridcolor": "#C8D4E3",
             "startlinecolor": "#2a3f5f"
            },
            "baxis": {
             "endlinecolor": "#2a3f5f",
             "gridcolor": "#C8D4E3",
             "linecolor": "#C8D4E3",
             "minorgridcolor": "#C8D4E3",
             "startlinecolor": "#2a3f5f"
            },
            "type": "carpet"
           }
          ],
          "choropleth": [
           {
            "colorbar": {
             "outlinewidth": 0,
             "ticks": ""
            },
            "type": "choropleth"
           }
          ],
          "contour": [
           {
            "colorbar": {
             "outlinewidth": 0,
             "ticks": ""
            },
            "colorscale": [
             [
              0,
              "#0d0887"
             ],
             [
              0.1111111111111111,
              "#46039f"
             ],
             [
              0.2222222222222222,
              "#7201a8"
             ],
             [
              0.3333333333333333,
              "#9c179e"
             ],
             [
              0.4444444444444444,
              "#bd3786"
             ],
             [
              0.5555555555555556,
              "#d8576b"
             ],
             [
              0.6666666666666666,
              "#ed7953"
             ],
             [
              0.7777777777777778,
              "#fb9f3a"
             ],
             [
              0.8888888888888888,
              "#fdca26"
             ],
             [
              1,
              "#f0f921"
             ]
            ],
            "type": "contour"
           }
          ],
          "contourcarpet": [
           {
            "colorbar": {
             "outlinewidth": 0,
             "ticks": ""
            },
            "type": "contourcarpet"
           }
          ],
          "heatmap": [
           {
            "colorbar": {
             "outlinewidth": 0,
             "ticks": ""
            },
            "colorscale": [
             [
              0,
              "#0d0887"
             ],
             [
              0.1111111111111111,
              "#46039f"
             ],
             [
              0.2222222222222222,
              "#7201a8"
             ],
             [
              0.3333333333333333,
              "#9c179e"
             ],
             [
              0.4444444444444444,
              "#bd3786"
             ],
             [
              0.5555555555555556,
              "#d8576b"
             ],
             [
              0.6666666666666666,
              "#ed7953"
             ],
             [
              0.7777777777777778,
              "#fb9f3a"
             ],
             [
              0.8888888888888888,
              "#fdca26"
             ],
             [
              1,
              "#f0f921"
             ]
            ],
            "type": "heatmap"
           }
          ],
          "heatmapgl": [
           {
            "colorbar": {
             "outlinewidth": 0,
             "ticks": ""
            },
            "colorscale": [
             [
              0,
              "#0d0887"
             ],
             [
              0.1111111111111111,
              "#46039f"
             ],
             [
              0.2222222222222222,
              "#7201a8"
             ],
             [
              0.3333333333333333,
              "#9c179e"
             ],
             [
              0.4444444444444444,
              "#bd3786"
             ],
             [
              0.5555555555555556,
              "#d8576b"
             ],
             [
              0.6666666666666666,
              "#ed7953"
             ],
             [
              0.7777777777777778,
              "#fb9f3a"
             ],
             [
              0.8888888888888888,
              "#fdca26"
             ],
             [
              1,
              "#f0f921"
             ]
            ],
            "type": "heatmapgl"
           }
          ],
          "histogram": [
           {
            "marker": {
             "colorbar": {
              "outlinewidth": 0,
              "ticks": ""
             }
            },
            "type": "histogram"
           }
          ],
          "histogram2d": [
           {
            "colorbar": {
             "outlinewidth": 0,
             "ticks": ""
            },
            "colorscale": [
             [
              0,
              "#0d0887"
             ],
             [
              0.1111111111111111,
              "#46039f"
             ],
             [
              0.2222222222222222,
              "#7201a8"
             ],
             [
              0.3333333333333333,
              "#9c179e"
             ],
             [
              0.4444444444444444,
              "#bd3786"
             ],
             [
              0.5555555555555556,
              "#d8576b"
             ],
             [
              0.6666666666666666,
              "#ed7953"
             ],
             [
              0.7777777777777778,
              "#fb9f3a"
             ],
             [
              0.8888888888888888,
              "#fdca26"
             ],
             [
              1,
              "#f0f921"
             ]
            ],
            "type": "histogram2d"
           }
          ],
          "histogram2dcontour": [
           {
            "colorbar": {
             "outlinewidth": 0,
             "ticks": ""
            },
            "colorscale": [
             [
              0,
              "#0d0887"
             ],
             [
              0.1111111111111111,
              "#46039f"
             ],
             [
              0.2222222222222222,
              "#7201a8"
             ],
             [
              0.3333333333333333,
              "#9c179e"
             ],
             [
              0.4444444444444444,
              "#bd3786"
             ],
             [
              0.5555555555555556,
              "#d8576b"
             ],
             [
              0.6666666666666666,
              "#ed7953"
             ],
             [
              0.7777777777777778,
              "#fb9f3a"
             ],
             [
              0.8888888888888888,
              "#fdca26"
             ],
             [
              1,
              "#f0f921"
             ]
            ],
            "type": "histogram2dcontour"
           }
          ],
          "mesh3d": [
           {
            "colorbar": {
             "outlinewidth": 0,
             "ticks": ""
            },
            "type": "mesh3d"
           }
          ],
          "parcoords": [
           {
            "line": {
             "colorbar": {
              "outlinewidth": 0,
              "ticks": ""
             }
            },
            "type": "parcoords"
           }
          ],
          "pie": [
           {
            "automargin": true,
            "type": "pie"
           }
          ],
          "scatter": [
           {
            "marker": {
             "colorbar": {
              "outlinewidth": 0,
              "ticks": ""
             }
            },
            "type": "scatter"
           }
          ],
          "scatter3d": [
           {
            "line": {
             "colorbar": {
              "outlinewidth": 0,
              "ticks": ""
             }
            },
            "marker": {
             "colorbar": {
              "outlinewidth": 0,
              "ticks": ""
             }
            },
            "type": "scatter3d"
           }
          ],
          "scattercarpet": [
           {
            "marker": {
             "colorbar": {
              "outlinewidth": 0,
              "ticks": ""
             }
            },
            "type": "scattercarpet"
           }
          ],
          "scattergeo": [
           {
            "marker": {
             "colorbar": {
              "outlinewidth": 0,
              "ticks": ""
             }
            },
            "type": "scattergeo"
           }
          ],
          "scattergl": [
           {
            "marker": {
             "colorbar": {
              "outlinewidth": 0,
              "ticks": ""
             }
            },
            "type": "scattergl"
           }
          ],
          "scattermapbox": [
           {
            "marker": {
             "colorbar": {
              "outlinewidth": 0,
              "ticks": ""
             }
            },
            "type": "scattermapbox"
           }
          ],
          "scatterpolar": [
           {
            "marker": {
             "colorbar": {
              "outlinewidth": 0,
              "ticks": ""
             }
            },
            "type": "scatterpolar"
           }
          ],
          "scatterpolargl": [
           {
            "marker": {
             "colorbar": {
              "outlinewidth": 0,
              "ticks": ""
             }
            },
            "type": "scatterpolargl"
           }
          ],
          "scatterternary": [
           {
            "marker": {
             "colorbar": {
              "outlinewidth": 0,
              "ticks": ""
             }
            },
            "type": "scatterternary"
           }
          ],
          "surface": [
           {
            "colorbar": {
             "outlinewidth": 0,
             "ticks": ""
            },
            "colorscale": [
             [
              0,
              "#0d0887"
             ],
             [
              0.1111111111111111,
              "#46039f"
             ],
             [
              0.2222222222222222,
              "#7201a8"
             ],
             [
              0.3333333333333333,
              "#9c179e"
             ],
             [
              0.4444444444444444,
              "#bd3786"
             ],
             [
              0.5555555555555556,
              "#d8576b"
             ],
             [
              0.6666666666666666,
              "#ed7953"
             ],
             [
              0.7777777777777778,
              "#fb9f3a"
             ],
             [
              0.8888888888888888,
              "#fdca26"
             ],
             [
              1,
              "#f0f921"
             ]
            ],
            "type": "surface"
           }
          ],
          "table": [
           {
            "cells": {
             "fill": {
              "color": "#EBF0F8"
             },
             "line": {
              "color": "white"
             }
            },
            "header": {
             "fill": {
              "color": "#C8D4E3"
             },
             "line": {
              "color": "white"
             }
            },
            "type": "table"
           }
          ]
         },
         "layout": {
          "annotationdefaults": {
           "arrowcolor": "#2a3f5f",
           "arrowhead": 0,
           "arrowwidth": 1
          },
          "coloraxis": {
           "colorbar": {
            "outlinewidth": 0,
            "ticks": ""
           }
          },
          "colorscale": {
           "diverging": [
            [
             0,
             "#8e0152"
            ],
            [
             0.1,
             "#c51b7d"
            ],
            [
             0.2,
             "#de77ae"
            ],
            [
             0.3,
             "#f1b6da"
            ],
            [
             0.4,
             "#fde0ef"
            ],
            [
             0.5,
             "#f7f7f7"
            ],
            [
             0.6,
             "#e6f5d0"
            ],
            [
             0.7,
             "#b8e186"
            ],
            [
             0.8,
             "#7fbc41"
            ],
            [
             0.9,
             "#4d9221"
            ],
            [
             1,
             "#276419"
            ]
           ],
           "sequential": [
            [
             0,
             "#0d0887"
            ],
            [
             0.1111111111111111,
             "#46039f"
            ],
            [
             0.2222222222222222,
             "#7201a8"
            ],
            [
             0.3333333333333333,
             "#9c179e"
            ],
            [
             0.4444444444444444,
             "#bd3786"
            ],
            [
             0.5555555555555556,
             "#d8576b"
            ],
            [
             0.6666666666666666,
             "#ed7953"
            ],
            [
             0.7777777777777778,
             "#fb9f3a"
            ],
            [
             0.8888888888888888,
             "#fdca26"
            ],
            [
             1,
             "#f0f921"
            ]
           ],
           "sequentialminus": [
            [
             0,
             "#0d0887"
            ],
            [
             0.1111111111111111,
             "#46039f"
            ],
            [
             0.2222222222222222,
             "#7201a8"
            ],
            [
             0.3333333333333333,
             "#9c179e"
            ],
            [
             0.4444444444444444,
             "#bd3786"
            ],
            [
             0.5555555555555556,
             "#d8576b"
            ],
            [
             0.6666666666666666,
             "#ed7953"
            ],
            [
             0.7777777777777778,
             "#fb9f3a"
            ],
            [
             0.8888888888888888,
             "#fdca26"
            ],
            [
             1,
             "#f0f921"
            ]
           ]
          },
          "colorway": [
           "#636efa",
           "#EF553B",
           "#00cc96",
           "#ab63fa",
           "#FFA15A",
           "#19d3f3",
           "#FF6692",
           "#B6E880",
           "#FF97FF",
           "#FECB52"
          ],
          "font": {
           "color": "#2a3f5f"
          },
          "geo": {
           "bgcolor": "white",
           "lakecolor": "white",
           "landcolor": "white",
           "showlakes": true,
           "showland": true,
           "subunitcolor": "#C8D4E3"
          },
          "hoverlabel": {
           "align": "left"
          },
          "hovermode": "closest",
          "mapbox": {
           "style": "light"
          },
          "paper_bgcolor": "white",
          "plot_bgcolor": "white",
          "polar": {
           "angularaxis": {
            "gridcolor": "#EBF0F8",
            "linecolor": "#EBF0F8",
            "ticks": ""
           },
           "bgcolor": "white",
           "radialaxis": {
            "gridcolor": "#EBF0F8",
            "linecolor": "#EBF0F8",
            "ticks": ""
           }
          },
          "scene": {
           "xaxis": {
            "backgroundcolor": "white",
            "gridcolor": "#DFE8F3",
            "gridwidth": 2,
            "linecolor": "#EBF0F8",
            "showbackground": true,
            "ticks": "",
            "zerolinecolor": "#EBF0F8"
           },
           "yaxis": {
            "backgroundcolor": "white",
            "gridcolor": "#DFE8F3",
            "gridwidth": 2,
            "linecolor": "#EBF0F8",
            "showbackground": true,
            "ticks": "",
            "zerolinecolor": "#EBF0F8"
           },
           "zaxis": {
            "backgroundcolor": "white",
            "gridcolor": "#DFE8F3",
            "gridwidth": 2,
            "linecolor": "#EBF0F8",
            "showbackground": true,
            "ticks": "",
            "zerolinecolor": "#EBF0F8"
           }
          },
          "shapedefaults": {
           "line": {
            "color": "#2a3f5f"
           }
          },
          "ternary": {
           "aaxis": {
            "gridcolor": "#DFE8F3",
            "linecolor": "#A2B1C6",
            "ticks": ""
           },
           "baxis": {
            "gridcolor": "#DFE8F3",
            "linecolor": "#A2B1C6",
            "ticks": ""
           },
           "bgcolor": "white",
           "caxis": {
            "gridcolor": "#DFE8F3",
            "linecolor": "#A2B1C6",
            "ticks": ""
           }
          },
          "title": {
           "x": 0.05
          },
          "xaxis": {
           "automargin": true,
           "gridcolor": "#EBF0F8",
           "linecolor": "#EBF0F8",
           "ticks": "",
           "title": {
            "standoff": 15
           },
           "zerolinecolor": "#EBF0F8",
           "zerolinewidth": 2
          },
          "yaxis": {
           "automargin": true,
           "gridcolor": "#EBF0F8",
           "linecolor": "#EBF0F8",
           "ticks": "",
           "title": {
            "standoff": 15
           },
           "zerolinecolor": "#EBF0F8",
           "zerolinewidth": 2
          }
         }
        },
        "width": 900,
        "xaxis": {
         "anchor": "y",
         "domain": [
          0,
          1
         ],
         "linecolor": "black",
         "linewidth": 1,
         "matches": "x2",
         "showgrid": false,
         "showline": true,
         "showticklabels": false,
         "tickcolor": "black",
         "ticklen": 10,
         "ticks": "outside",
         "tickwidth": 1,
         "title": {
          "text": ""
         },
         "zeroline": false
        },
        "xaxis2": {
         "anchor": "y2",
         "domain": [
          0,
          1
         ],
         "linecolor": "black",
         "linewidth": 1,
         "showgrid": false,
         "showline": true,
         "tickcolor": "black",
         "ticklen": 10,
         "ticks": "outside",
         "tickwidth": 1,
         "title": {
          "text": "Time (s)"
         },
         "zeroline": false
        },
        "yaxis": {
         "anchor": "x",
         "domain": [
          0.5349999999999999,
          0.9999999999999999
         ],
         "linecolor": "black",
         "linewidth": 1,
         "showgrid": false,
         "showline": true,
         "tickcolor": "black",
         "ticklen": 10,
         "ticks": "outside",
         "tickwidth": 1,
         "title": {
          "text": "Velocity (mph)"
         },
         "zeroline": false
        },
        "yaxis2": {
         "anchor": "x2",
         "domain": [
          0,
          0.46499999999999997
         ],
         "linecolor": "black",
         "linewidth": 1,
         "showgrid": false,
         "showline": true,
         "tickcolor": "black",
         "ticklen": 10,
         "ticks": "outside",
         "tickwidth": 1,
         "title": {
          "text": "Slip Angle (deg)"
         },
         "zeroline": false
        }
       }
      },
      "text/html": [
       "<div>\n",
       "        \n",
       "        \n",
       "            <div id=\"23f03d67-0e5f-4260-b56a-546b63788b01\" class=\"plotly-graph-div\" style=\"height:500px; width:900px;\"></div>\n",
       "            <script type=\"text/javascript\">\n",
       "                require([\"plotly\"], function(Plotly) {\n",
       "                    window.PLOTLYENV=window.PLOTLYENV || {};\n",
       "                    \n",
       "                if (document.getElementById(\"23f03d67-0e5f-4260-b56a-546b63788b01\")) {\n",
       "                    Plotly.newPlot(\n",
       "                        '23f03d67-0e5f-4260-b56a-546b63788b01',\n",
       "                        [{\"line\": {\"color\": \"rgb(0, 255, 0)\", \"width\": 2}, \"mode\": \"lines\", \"name\": \"pycrash - X\", \"type\": \"scatter\", \"x\": [0.0, 0.1, 0.2, 0.3, 0.4, 0.5, 0.6, 0.7, 0.8, 0.9, 1.0, 1.1, 1.2, 1.3, 1.4, 1.5, 1.6, 1.7, 1.8, 1.9, 2.0, 2.1, 2.2, 2.3, 2.4, 2.5, 2.6, 2.7, 2.8, 2.9, 3.0, 3.1, 3.2, 3.3, 3.4, 3.5, 3.6, 3.7, 3.8, 3.9, 4.0, 4.1, 4.2, 4.3, 4.4, 4.5, 4.6, 4.7, 4.8, 4.9, 5.0, 5.1, 5.2, 5.3, 5.4, 5.5, 5.6, 5.7, 5.8, 5.9, 6.0, 6.1, 6.2, 6.3, 6.4, 6.5, 6.6, 6.7, 6.8, 6.9, 7.0, 7.1, 7.2, 7.3, 7.4, 7.5, 7.6, 7.7, 7.8, 7.9, 8.0, 8.1, 8.2, 8.3, 8.4, 8.5, 8.6, 8.7, 8.8, 8.9, 9.0, 9.1, 9.2, 9.3, 9.4, 9.5, 9.6, 9.7, 9.8, 9.9, 10.0, 10.1, 10.2, 10.3, 10.4, 10.5, 10.6, 10.7, 10.8, 10.9], \"xaxis\": \"x\", \"y\": [15.0, 15.0, 15.0, 15.0, 15.0, 15.0, 15.0, 15.0, 15.0, 15.0, 15.0, 14.99598938704336, 14.975803501213521, 14.928661292841232, 14.850057451775415, 14.729367481115629, 14.541771285893189, 14.253602474390318, 13.83311294037774, 13.2561534239947, 12.516528230361551, 11.684237798376401, 10.831575702331465, 9.932384315443226, 8.94246642458358, 7.8682414812292585, 6.754786883452194, 5.644021664489523, 4.552607768610504, 3.478400582577222, 2.4167360418555206, 1.3693867144878866, 0.34348372869812743, -0.6532317058247931, -1.6151991440338502, -2.538898010376342, -3.4215814346323397, -4.260500412918564, -5.052909626017588, -5.796368717086556, -6.488912282900144, -7.129021476615855, -7.7155280865438804, -8.247556436484212, -8.724513555893232, -9.14609240288361, -9.512264054129007, -9.823258999220197, -10.079546817193256, -10.281819149296062, -10.430975079379007, -10.52810669377581, -10.574484098489906, -10.57154038907771, -10.520857066985382, -10.424149944947926, -10.283255401685578, -10.100116948242624, -9.876772174384747, -9.615340132833403, -9.318009164104078, -8.987025148050678, -8.624680188831945, -8.23330175635791, -7.815242301550822, -7.37286934873197, -6.90855606249467, -6.424672289407033, -5.923576078314313, -5.407605681830715, -4.879072037686943, -4.340251725712542, -3.7933803954930823, -3.240646659741102, -2.6841864477586808, -2.126077812009716, -1.5683361794842634, -1.0129100386571588, -0.4616770522787317, 0.08355941432331802, 0.6210733604086618, 1.149218824085042, 1.666432175829148, 2.1712340438437745, 2.6622308841737548, 3.1381162088217063, 3.597671485388311, 4.039766721989097, 4.463360751364482, 4.867501228212625, 5.251324353846601, 5.614054342311384, 5.955002642090073, 6.273566927482462, 6.569229873655479, 6.841557729248365, 7.0901987002684965, 7.314881158837708, 7.515411690145521, 7.691672990736792, 7.843621631009398, 7.9712856945247355, 8.074762306441785, 8.154215063076052, 8.20987137425947, 8.242019729838265, 8.251006901294437, 8.237235089114435, 8.20115902615742, 8.143283046896501], \"yaxis\": \"y\"}, {\"line\": {\"color\": \"rgb(0, 255, 0)\", \"dash\": \"dash\", \"width\": 2}, \"mode\": \"lines\", \"name\": \"validate - X\", \"type\": \"scatter\", \"x\": [0.0, 0.1, 0.2, 0.3, 0.4, 0.5, 0.6, 0.7, 0.8, 0.9, 1.0, 1.1, 1.2, 1.3, 1.4, 1.5, 1.6, 1.7, 1.8, 1.9, 2.0, 2.1, 2.2, 2.3, 2.4, 2.5, 2.6, 2.7, 2.8, 2.9, 3.0, 3.1, 3.2, 3.3, 3.4, 3.5, 3.6, 3.7, 3.8, 3.9, 4.0, 4.1, 4.2, 4.3, 4.4, 4.5, 4.6, 4.7, 4.8, 4.9, 5.0, 5.1, 5.2, 5.3, 5.4, 5.5, 5.6, 5.7, 5.8, 5.9, 6.0, 6.1, 6.2, 6.3, 6.4, 6.5, 6.6, 6.7, 6.8, 6.9, 7.0, 7.1, 7.2, 7.3, 7.4, 7.5, 7.6, 7.7, 7.8, 7.9, 8.0, 8.1, 8.2, 8.3, 8.4, 8.5, 8.6, 8.7, 8.8, 8.9, 9.0, 9.1, 9.2, 9.3, 9.4, 9.5, 9.6, 9.7, 9.8, 9.9, 10.0, 10.1, 10.2, 10.3, 10.4, 10.5, 10.6, 10.7, 10.8, 10.9], \"xaxis\": \"x\", \"y\": [15.0, 15.0, 15.0, 15.0, 15.0, 15.0, 15.0, 15.0, 15.0, 15.0, 15.0, 15.0, 14.98, 14.92, 14.82, 14.64, 14.37, 13.97, 13.42, 12.7, 11.799999999999999, 10.77, 9.69, 8.56, 7.39, 6.19, 4.97, 3.74, 2.51, 1.3, 0.11, -1.05, -2.17, -3.24, -4.25, -5.2, -6.09, -6.919999999999999, -7.66, -8.34, -8.94, -9.45, -9.89, -10.25, -10.53, -10.73, -10.85, -10.9, -10.88, -10.78, -10.61, -10.38, -10.08, -9.73, -9.32, -8.86, -8.35, -7.8, -7.22, -6.6, -5.94, -5.27, -4.57, -3.86, -3.13, -2.4, -1.67, -0.9299999999999999, -0.2, 0.52, 1.23, 1.93, 2.6, 3.26, 3.8899999999999997, 4.49, 5.06, 5.6, 6.1, 6.57, 7.010000000000001, 7.4, 7.75, 8.06, 8.33, 8.56, 8.74, 8.88, 8.98, 9.04, 9.05, 9.02, 8.95, 8.85, 8.7, 8.52, 8.3, 8.04, 7.75, 7.4399999999999995, 7.089999999999999, 6.72, 6.319999999999999, 5.890000000000001, 5.45, 4.99, 4.51, 4.01, 3.51, 2.9899999999999998], \"yaxis\": \"y\"}, {\"line\": {\"color\": \"rgb(0, 0, 255)\", \"width\": 2}, \"mode\": \"lines\", \"name\": \"pycrash - Y\", \"type\": \"scatter\", \"x\": [0.0, 0.1, 0.2, 0.3, 0.4, 0.5, 0.6, 0.7, 0.8, 0.9, 1.0, 1.1, 1.2, 1.3, 1.4, 1.5, 1.6, 1.7, 1.8, 1.9, 2.0, 2.1, 2.2, 2.3, 2.4, 2.5, 2.6, 2.7, 2.8, 2.9, 3.0, 3.1, 3.2, 3.3, 3.4, 3.5, 3.6, 3.7, 3.8, 3.9, 4.0, 4.1, 4.2, 4.3, 4.4, 4.5, 4.6, 4.7, 4.8, 4.9, 5.0, 5.1, 5.2, 5.3, 5.4, 5.5, 5.6, 5.7, 5.8, 5.9, 6.0, 6.1, 6.2, 6.3, 6.4, 6.5, 6.6, 6.7, 6.8, 6.9, 7.0, 7.1, 7.2, 7.3, 7.4, 7.5, 7.6, 7.7, 7.8, 7.9, 8.0, 8.1, 8.2, 8.3, 8.4, 8.5, 8.6, 8.7, 8.8, 8.9, 9.0, 9.1, 9.2, 9.3, 9.4, 9.5, 9.6, 9.7, 9.8, 9.9, 10.0, 10.1, 10.2, 10.3, 10.4, 10.5, 10.6, 10.7, 10.8, 10.9], \"xaxis\": \"x\", \"y\": [0.0, 0.0, 0.0, 0.0, 0.0, 0.0, 0.0, 0.0, 0.0, 0.0, 0.0, -0.10882398290465473, -0.4121872408169654, -0.8300500248058172, -1.2904439411893993, -1.8021732509913084, -2.414765443393023, -3.1590439830777184, -4.026320700390414, -4.980814358885985, -5.966859100612647, -6.89955857655851, -7.728326825197162, -8.475508025446814, -9.163128358097902, -9.77693289751303, -10.29163849788346, -10.69585009343247, -10.993640511729884, -11.19416672925829, -11.304434156389508, -11.328835437371263, -11.271311502045242, -11.136449409757567, -10.929187219545728, -10.65432360215365, -10.316482103694572, -9.920326085832027, -9.470657216854699, -8.972328584972066, -8.430121712370982, -7.8487027507708005, -7.232646075167065, -6.586459002189271, -5.914573726551157, -5.221319190960177, -4.51089758174761, -3.7873743786380305, -3.0546754124863837, -2.3165826018463513, -1.576726402090476, -0.8385777063214871, -0.10544175214152061, 0.6195457474000473, 1.3334213406288886, 2.033396221232382, 2.7168582448956893, 3.3813732434811037, 4.024685481881222, 4.644717355071668, 5.239568485569728, 5.807514301700705, 6.347004102826454, 6.856658611714321, 7.33526704408643, 7.781783744134774, 8.19532443102083, 8.575162090183445, 8.920722538129157, 9.231579690787546, 9.507450567678319, 9.748190063735803, 9.953785518528655, 10.124351110736427, 10.260122104717171, 10.3614489752762, 10.428791435786124, 10.462712393595682, 10.46387185543422, 10.433020804387876, 10.370995068945128, 10.278709203513557, 10.157150398692119, 10.007372438477322, 9.830489720504977, 9.627671354373685, 9.400135352053134, 9.149142923351878, 8.87599288841453, 8.582016218240316, 8.268570713262415, 7.937035829098345, 7.588807657677704, 7.225294071077736, 6.8479100345508686, 6.45807309441132, 6.057199045659543, 5.646697783464377, 5.22796934189407, 4.802400122589425, 4.37135931540504, 3.936195512407712, 3.498233516014486, 3.058771341476556, 2.6190774133693164, 2.180387955232871, 1.7439045710208787, 1.3107920165583766, 0.8821761587807205, 0.4591421201256737], \"yaxis\": \"y\"}, {\"line\": {\"color\": \"rgb(0, 0, 255)\", \"dash\": \"dash\", \"width\": 2}, \"mode\": \"lines\", \"name\": \"validate - Y\", \"type\": \"scatter\", \"x\": [0.0, 0.1, 0.2, 0.3, 0.4, 0.5, 0.6, 0.7, 0.8, 0.9, 1.0, 1.1, 1.2, 1.3, 1.4, 1.5, 1.6, 1.7, 1.8, 1.9, 2.0, 2.1, 2.2, 2.3, 2.4, 2.5, 2.6, 2.7, 2.8, 2.9, 3.0, 3.1, 3.2, 3.3, 3.4, 3.5, 3.6, 3.7, 3.8, 3.9, 4.0, 4.1, 4.2, 4.3, 4.4, 4.5, 4.6, 4.7, 4.8, 4.9, 5.0, 5.1, 5.2, 5.3, 5.4, 5.5, 5.6, 5.7, 5.8, 5.9, 6.0, 6.1, 6.2, 6.3, 6.4, 6.5, 6.6, 6.7, 6.8, 6.9, 7.0, 7.1, 7.2, 7.3, 7.4, 7.5, 7.6, 7.7, 7.8, 7.9, 8.0, 8.1, 8.2, 8.3, 8.4, 8.5, 8.6, 8.7, 8.8, 8.9, 9.0, 9.1, 9.2, 9.3, 9.4, 9.5, 9.6, 9.7, 9.8, 9.9, 10.0, 10.1, 10.2, 10.3, 10.4, 10.5, 10.6, 10.7, 10.8, 10.9], \"xaxis\": \"x\", \"y\": [0.0, 0.0, 0.0, 0.0, 0.0, 0.0, 0.0, 0.0, 0.0, 0.0, 0.0, -0.12, -0.4099999999999999, -0.86, -1.46, -2.22, -3.1099999999999994, -4.11, -5.18, -6.3, -7.42, -8.47, -9.4, -10.21, -10.9, -11.459999999999999, -11.89, -12.2, -12.38, -12.439999999999998, -12.39, -12.24, -11.980000000000002, -11.629999999999999, -11.2, -10.68, -10.09, -9.44, -8.72, -7.960000000000001, -7.16, -6.309999999999999, -5.45, -4.56, -3.65, -2.7400000000000007, -1.8200000000000003, -0.9100000000000001, -0.02, 0.87, 1.7299999999999998, 2.56, 3.37, 4.14, 4.87, 5.56, 6.21, 6.8, 7.3500000000000005, 7.85, 8.29, 8.68, 9.01, 9.29, 9.51, 9.67, 9.78, 9.84, 9.84, 9.78, 9.68, 9.52, 9.32, 9.07, 8.78, 8.44, 8.07, 7.66, 7.21, 6.74, 6.239999999999999, 5.709999999999999, 5.16, 4.59, 4.01, 3.41, 2.8, 2.19, 1.57, 0.9499999999999998, 0.34, -0.28, -0.88, -1.48, -2.06, -2.63, -3.18, -3.71, -4.22, -4.71, -5.17, -5.61, -6.02, -6.4, -6.749999999999999, -7.06, -7.3500000000000005, -7.599999999999999, -7.82, -8.01], \"yaxis\": \"y\"}, {\"line\": {\"color\": \"rgb(0, 0, 0)\", \"width\": 2}, \"mode\": \"lines\", \"name\": \"pycrash - slip angle\", \"type\": \"scatter\", \"x\": [0.0, 0.1, 0.2, 0.3, 0.4, 0.5, 0.6, 0.7, 0.8, 0.9, 1.0, 1.1, 1.2, 1.3, 1.4, 1.5, 1.6, 1.7, 1.8, 1.9, 2.0, 2.1, 2.2, 2.3, 2.4, 2.5, 2.6, 2.7, 2.8, 2.9, 3.0, 3.1, 3.2, 3.3, 3.4, 3.5, 3.6, 3.7, 3.8, 3.9, 4.0, 4.1, 4.2, 4.3, 4.4, 4.5, 4.6, 4.7, 4.8, 4.9, 5.0, 5.1, 5.2, 5.3, 5.4, 5.5, 5.6, 5.7, 5.8, 5.9, 6.0, 6.1, 6.2, 6.3, 6.4, 6.5, 6.6, 6.7, 6.8, 6.9, 7.0, 7.1, 7.2, 7.3, 7.4, 7.5, 7.6, 7.7, 7.8, 7.9, 8.0, 8.1, 8.2, 8.3, 8.4, 8.5, 8.6, 8.7, 8.8, 8.9, 9.0, 9.1, 9.2, 9.3, 9.4, 9.5, 9.6, 9.7, 9.8, 9.9, 10.0, 10.1, 10.2, 10.3, 10.4, 10.5, 10.6, 10.7, 10.8, 10.9], \"xaxis\": \"x2\", \"y\": [-0.0, -0.0, -0.0, -0.0, -0.0, -0.0, -0.0, -0.0, -0.0, -0.0, -0.0, 0.41579618624937803, 1.5039367184551615, 2.759217042184442, 3.701168804094638, 4.277335498185657, 4.6995589966645985, 5.167258408557792, 5.754474597626819, 6.44684492156253, 7.153434980390131, 7.537853580817142, 7.3986875621670665, 7.083010578349306, 6.999256486318147, 7.216067244005919, 7.558313718313204, 7.850766365302381, 8.040664658583234, 8.168463398156279, 8.287723494919373, 8.42024205751723, 8.559482524278827, 8.692480293481646, 8.81368470987387, 8.925198466416598, 9.031088743604712, 9.133474781918904, 9.232339723656677, 9.32706572191351, 9.41751789009794, 9.504096566408757, 9.587312680866347, 9.667498521389348, 9.74481002452004, 9.819355134937641, 9.891274713801165, 9.9607384036065, 10.027908025761553, 10.092918105444037, 10.15588119106965, 10.216900668686685, 10.276076966739085, 10.333506262183452, 10.389277527959083, 10.443471905095137, 10.496164171307399, 10.547424350909894, 10.597318395606669, 10.645908201282882, 10.693251623212964, 10.73940276784582, 10.784412420672801, 10.828328398503963, 10.871195769573516, 10.913057011226583, 10.953952175935033, 10.993919076001594, 11.03299346062527, 11.07120916627515, 11.108598243340392, 11.145191071354958, 11.181016469634589, 11.216101802191337, 11.250473073691424, 11.284155015878781, 11.317171166428166, 11.34954394227351, 11.38129470814821, 11.412443840205718, 11.443010784701764, 11.473014112191235, 11.502471567871417, 11.531400118525694, 11.55981599629221, 11.587734739413525, 11.615171230180769, 11.64213973033341, 11.668653914152141, 11.694726899424436, 11.720371276425054, 11.745599135049009, 11.77042209023909, 11.794851305842776, 11.81889751701582, 11.842571051273493, 11.865881848281932, 11.888839478478165, 11.911453160602353, 11.933731778218188, 11.955683895289734, 11.977317770877168, 11.99864137300976, 12.019662391790737, 12.040388251784515, 12.060826123732383, 12.080982935639339, 12.100865383271588, 12.120479940101715, 12.13983286673582], \"yaxis\": \"y2\"}, {\"line\": {\"color\": \"rgb(0, 0, 0)\", \"dash\": \"dash\", \"width\": 2}, \"mode\": \"lines\", \"name\": \"validate - slip angle\", \"type\": \"scatter\", \"x\": [0.0, 0.1, 0.2, 0.3, 0.4, 0.5, 0.6, 0.7, 0.8, 0.9, 1.0, 1.1, 1.2, 1.3, 1.4, 1.5, 1.6, 1.7, 1.8, 1.9, 2.0, 2.1, 2.2, 2.3, 2.4, 2.5, 2.6, 2.7, 2.8, 2.9, 3.0, 3.1, 3.2, 3.3, 3.4, 3.5, 3.6, 3.7, 3.8, 3.9, 4.0, 4.1, 4.2, 4.3, 4.4, 4.5, 4.6, 4.7, 4.8, 4.9, 5.0, 5.1, 5.2, 5.3, 5.4, 5.5, 5.6, 5.7, 5.8, 5.9, 6.0, 6.1, 6.2, 6.3, 6.4, 6.5, 6.6, 6.7, 6.8, 6.9, 7.0, 7.1, 7.2, 7.3, 7.4, 7.5, 7.6, 7.7, 7.8, 7.9, 8.0, 8.1, 8.2, 8.3, 8.4, 8.5, 8.6, 8.7, 8.8, 8.9, 9.0, 9.1, 9.2, 9.3, 9.4, 9.5, 9.6, 9.7, 9.8, 9.9, 10.0, 10.1, 10.2, 10.3, 10.4, 10.5, 10.6, 10.7, 10.8, 10.9], \"xaxis\": \"x2\", \"y\": [0.0, 0.0, 0.0, 0.0, 0.0, 0.0, 0.0, 0.0, 0.0, 0.0, 0.0, 0.084587, 0.531067, 1.171556, 1.84823, 2.545153, 3.24822, 3.942141, 4.562777, 5.101874, 5.581144, 6.021508, 6.325132, 6.453797, 6.454851, 6.371153, 6.253842, 6.125854, 5.995736, 5.866808, 5.740953, 5.61967, 5.503944, 5.394236, 5.290543, 5.192439, 5.099403, 5.010949, 4.926594, 4.84598, 4.768839, 4.694902, 4.623957, 4.555829, 4.490318, 4.427261, 4.366522, 4.307944, 4.251401, 4.196789, 4.143989, 4.0929, 4.043445, 3.995526, 3.949067, 3.904003, 3.860259, 3.81777, 3.776487, 3.736345, 3.697294, 3.659293, 3.622289, 3.586239, 3.55111, 3.516858, 3.483447, 3.450849, 3.419028, 3.387952, 3.357599, 3.327937, 3.298941, 3.27059, 3.242857, 3.215721, 3.189165, 3.163164, 3.1377, 3.112759, 3.088321, 3.064368, 3.040888, 3.017863, 2.99528, 2.973127, 2.951388, 2.93005, 2.909106, 2.888539, 2.86834, 2.8485, 2.829007, 2.80985, 2.791023, 2.772515, 2.754316, 2.736421, 2.718819, 2.701502, 2.684466, 2.667701, 2.651199, 2.634957, 2.618965, 2.603218, 2.587712, 2.572438, 2.557391, 2.542567], \"yaxis\": \"y2\"}],\n",
       "                        {\"autosize\": false, \"font\": {\"color\": \"black\", \"family\": \"Arial\", \"size\": 14}, \"height\": 500, \"legend\": {\"orientation\": \"h\", \"x\": 0.01, \"xanchor\": \"left\", \"y\": 1.1, \"yanchor\": \"top\"}, \"template\": {\"data\": {\"bar\": [{\"error_x\": {\"color\": \"#2a3f5f\"}, \"error_y\": {\"color\": \"#2a3f5f\"}, \"marker\": {\"line\": {\"color\": \"white\", \"width\": 0.5}}, \"type\": \"bar\"}], \"barpolar\": [{\"marker\": {\"line\": {\"color\": \"white\", \"width\": 0.5}}, \"type\": \"barpolar\"}], \"carpet\": [{\"aaxis\": {\"endlinecolor\": \"#2a3f5f\", \"gridcolor\": \"#C8D4E3\", \"linecolor\": \"#C8D4E3\", \"minorgridcolor\": \"#C8D4E3\", \"startlinecolor\": \"#2a3f5f\"}, \"baxis\": {\"endlinecolor\": \"#2a3f5f\", \"gridcolor\": \"#C8D4E3\", \"linecolor\": \"#C8D4E3\", \"minorgridcolor\": \"#C8D4E3\", \"startlinecolor\": \"#2a3f5f\"}, \"type\": \"carpet\"}], \"choropleth\": [{\"colorbar\": {\"outlinewidth\": 0, \"ticks\": \"\"}, \"type\": \"choropleth\"}], \"contour\": [{\"colorbar\": {\"outlinewidth\": 0, \"ticks\": \"\"}, \"colorscale\": [[0.0, \"#0d0887\"], [0.1111111111111111, \"#46039f\"], [0.2222222222222222, \"#7201a8\"], [0.3333333333333333, \"#9c179e\"], [0.4444444444444444, \"#bd3786\"], [0.5555555555555556, \"#d8576b\"], [0.6666666666666666, \"#ed7953\"], [0.7777777777777778, \"#fb9f3a\"], [0.8888888888888888, \"#fdca26\"], [1.0, \"#f0f921\"]], \"type\": \"contour\"}], \"contourcarpet\": [{\"colorbar\": {\"outlinewidth\": 0, \"ticks\": \"\"}, \"type\": \"contourcarpet\"}], \"heatmap\": [{\"colorbar\": {\"outlinewidth\": 0, \"ticks\": \"\"}, \"colorscale\": [[0.0, \"#0d0887\"], [0.1111111111111111, \"#46039f\"], [0.2222222222222222, \"#7201a8\"], [0.3333333333333333, \"#9c179e\"], [0.4444444444444444, \"#bd3786\"], [0.5555555555555556, \"#d8576b\"], [0.6666666666666666, \"#ed7953\"], [0.7777777777777778, \"#fb9f3a\"], [0.8888888888888888, \"#fdca26\"], [1.0, \"#f0f921\"]], \"type\": \"heatmap\"}], \"heatmapgl\": [{\"colorbar\": {\"outlinewidth\": 0, \"ticks\": \"\"}, \"colorscale\": [[0.0, \"#0d0887\"], [0.1111111111111111, \"#46039f\"], [0.2222222222222222, \"#7201a8\"], [0.3333333333333333, \"#9c179e\"], [0.4444444444444444, \"#bd3786\"], [0.5555555555555556, \"#d8576b\"], [0.6666666666666666, \"#ed7953\"], [0.7777777777777778, \"#fb9f3a\"], [0.8888888888888888, \"#fdca26\"], [1.0, \"#f0f921\"]], \"type\": \"heatmapgl\"}], \"histogram\": [{\"marker\": {\"colorbar\": {\"outlinewidth\": 0, \"ticks\": \"\"}}, \"type\": \"histogram\"}], \"histogram2d\": [{\"colorbar\": {\"outlinewidth\": 0, \"ticks\": \"\"}, \"colorscale\": [[0.0, \"#0d0887\"], [0.1111111111111111, \"#46039f\"], [0.2222222222222222, \"#7201a8\"], [0.3333333333333333, \"#9c179e\"], [0.4444444444444444, \"#bd3786\"], [0.5555555555555556, \"#d8576b\"], [0.6666666666666666, \"#ed7953\"], [0.7777777777777778, \"#fb9f3a\"], [0.8888888888888888, \"#fdca26\"], [1.0, \"#f0f921\"]], \"type\": \"histogram2d\"}], \"histogram2dcontour\": [{\"colorbar\": {\"outlinewidth\": 0, \"ticks\": \"\"}, \"colorscale\": [[0.0, \"#0d0887\"], [0.1111111111111111, \"#46039f\"], [0.2222222222222222, \"#7201a8\"], [0.3333333333333333, \"#9c179e\"], [0.4444444444444444, \"#bd3786\"], [0.5555555555555556, \"#d8576b\"], [0.6666666666666666, \"#ed7953\"], [0.7777777777777778, \"#fb9f3a\"], [0.8888888888888888, \"#fdca26\"], [1.0, \"#f0f921\"]], \"type\": \"histogram2dcontour\"}], \"mesh3d\": [{\"colorbar\": {\"outlinewidth\": 0, \"ticks\": \"\"}, \"type\": \"mesh3d\"}], \"parcoords\": [{\"line\": {\"colorbar\": {\"outlinewidth\": 0, \"ticks\": \"\"}}, \"type\": \"parcoords\"}], \"pie\": [{\"automargin\": true, \"type\": \"pie\"}], \"scatter\": [{\"marker\": {\"colorbar\": {\"outlinewidth\": 0, \"ticks\": \"\"}}, \"type\": \"scatter\"}], \"scatter3d\": [{\"line\": {\"colorbar\": {\"outlinewidth\": 0, \"ticks\": \"\"}}, \"marker\": {\"colorbar\": {\"outlinewidth\": 0, \"ticks\": \"\"}}, \"type\": \"scatter3d\"}], \"scattercarpet\": [{\"marker\": {\"colorbar\": {\"outlinewidth\": 0, \"ticks\": \"\"}}, \"type\": \"scattercarpet\"}], \"scattergeo\": [{\"marker\": {\"colorbar\": {\"outlinewidth\": 0, \"ticks\": \"\"}}, \"type\": \"scattergeo\"}], \"scattergl\": [{\"marker\": {\"colorbar\": {\"outlinewidth\": 0, \"ticks\": \"\"}}, \"type\": \"scattergl\"}], \"scattermapbox\": [{\"marker\": {\"colorbar\": {\"outlinewidth\": 0, \"ticks\": \"\"}}, \"type\": \"scattermapbox\"}], \"scatterpolar\": [{\"marker\": {\"colorbar\": {\"outlinewidth\": 0, \"ticks\": \"\"}}, \"type\": \"scatterpolar\"}], \"scatterpolargl\": [{\"marker\": {\"colorbar\": {\"outlinewidth\": 0, \"ticks\": \"\"}}, \"type\": \"scatterpolargl\"}], \"scatterternary\": [{\"marker\": {\"colorbar\": {\"outlinewidth\": 0, \"ticks\": \"\"}}, \"type\": \"scatterternary\"}], \"surface\": [{\"colorbar\": {\"outlinewidth\": 0, \"ticks\": \"\"}, \"colorscale\": [[0.0, \"#0d0887\"], [0.1111111111111111, \"#46039f\"], [0.2222222222222222, \"#7201a8\"], [0.3333333333333333, \"#9c179e\"], [0.4444444444444444, \"#bd3786\"], [0.5555555555555556, \"#d8576b\"], [0.6666666666666666, \"#ed7953\"], [0.7777777777777778, \"#fb9f3a\"], [0.8888888888888888, \"#fdca26\"], [1.0, \"#f0f921\"]], \"type\": \"surface\"}], \"table\": [{\"cells\": {\"fill\": {\"color\": \"#EBF0F8\"}, \"line\": {\"color\": \"white\"}}, \"header\": {\"fill\": {\"color\": \"#C8D4E3\"}, \"line\": {\"color\": \"white\"}}, \"type\": \"table\"}]}, \"layout\": {\"annotationdefaults\": {\"arrowcolor\": \"#2a3f5f\", \"arrowhead\": 0, \"arrowwidth\": 1}, \"coloraxis\": {\"colorbar\": {\"outlinewidth\": 0, \"ticks\": \"\"}}, \"colorscale\": {\"diverging\": [[0, \"#8e0152\"], [0.1, \"#c51b7d\"], [0.2, \"#de77ae\"], [0.3, \"#f1b6da\"], [0.4, \"#fde0ef\"], [0.5, \"#f7f7f7\"], [0.6, \"#e6f5d0\"], [0.7, \"#b8e186\"], [0.8, \"#7fbc41\"], [0.9, \"#4d9221\"], [1, \"#276419\"]], \"sequential\": [[0.0, \"#0d0887\"], [0.1111111111111111, \"#46039f\"], [0.2222222222222222, \"#7201a8\"], [0.3333333333333333, \"#9c179e\"], [0.4444444444444444, \"#bd3786\"], [0.5555555555555556, \"#d8576b\"], [0.6666666666666666, \"#ed7953\"], [0.7777777777777778, \"#fb9f3a\"], [0.8888888888888888, \"#fdca26\"], [1.0, \"#f0f921\"]], \"sequentialminus\": [[0.0, \"#0d0887\"], [0.1111111111111111, \"#46039f\"], [0.2222222222222222, \"#7201a8\"], [0.3333333333333333, \"#9c179e\"], [0.4444444444444444, \"#bd3786\"], [0.5555555555555556, \"#d8576b\"], [0.6666666666666666, \"#ed7953\"], [0.7777777777777778, \"#fb9f3a\"], [0.8888888888888888, \"#fdca26\"], [1.0, \"#f0f921\"]]}, \"colorway\": [\"#636efa\", \"#EF553B\", \"#00cc96\", \"#ab63fa\", \"#FFA15A\", \"#19d3f3\", \"#FF6692\", \"#B6E880\", \"#FF97FF\", \"#FECB52\"], \"font\": {\"color\": \"#2a3f5f\"}, \"geo\": {\"bgcolor\": \"white\", \"lakecolor\": \"white\", \"landcolor\": \"white\", \"showlakes\": true, \"showland\": true, \"subunitcolor\": \"#C8D4E3\"}, \"hoverlabel\": {\"align\": \"left\"}, \"hovermode\": \"closest\", \"mapbox\": {\"style\": \"light\"}, \"paper_bgcolor\": \"white\", \"plot_bgcolor\": \"white\", \"polar\": {\"angularaxis\": {\"gridcolor\": \"#EBF0F8\", \"linecolor\": \"#EBF0F8\", \"ticks\": \"\"}, \"bgcolor\": \"white\", \"radialaxis\": {\"gridcolor\": \"#EBF0F8\", \"linecolor\": \"#EBF0F8\", \"ticks\": \"\"}}, \"scene\": {\"xaxis\": {\"backgroundcolor\": \"white\", \"gridcolor\": \"#DFE8F3\", \"gridwidth\": 2, \"linecolor\": \"#EBF0F8\", \"showbackground\": true, \"ticks\": \"\", \"zerolinecolor\": \"#EBF0F8\"}, \"yaxis\": {\"backgroundcolor\": \"white\", \"gridcolor\": \"#DFE8F3\", \"gridwidth\": 2, \"linecolor\": \"#EBF0F8\", \"showbackground\": true, \"ticks\": \"\", \"zerolinecolor\": \"#EBF0F8\"}, \"zaxis\": {\"backgroundcolor\": \"white\", \"gridcolor\": \"#DFE8F3\", \"gridwidth\": 2, \"linecolor\": \"#EBF0F8\", \"showbackground\": true, \"ticks\": \"\", \"zerolinecolor\": \"#EBF0F8\"}}, \"shapedefaults\": {\"line\": {\"color\": \"#2a3f5f\"}}, \"ternary\": {\"aaxis\": {\"gridcolor\": \"#DFE8F3\", \"linecolor\": \"#A2B1C6\", \"ticks\": \"\"}, \"baxis\": {\"gridcolor\": \"#DFE8F3\", \"linecolor\": \"#A2B1C6\", \"ticks\": \"\"}, \"bgcolor\": \"white\", \"caxis\": {\"gridcolor\": \"#DFE8F3\", \"linecolor\": \"#A2B1C6\", \"ticks\": \"\"}}, \"title\": {\"x\": 0.05}, \"xaxis\": {\"automargin\": true, \"gridcolor\": \"#EBF0F8\", \"linecolor\": \"#EBF0F8\", \"ticks\": \"\", \"title\": {\"standoff\": 15}, \"zerolinecolor\": \"#EBF0F8\", \"zerolinewidth\": 2}, \"yaxis\": {\"automargin\": true, \"gridcolor\": \"#EBF0F8\", \"linecolor\": \"#EBF0F8\", \"ticks\": \"\", \"title\": {\"standoff\": 15}, \"zerolinecolor\": \"#EBF0F8\", \"zerolinewidth\": 2}}}, \"width\": 900, \"xaxis\": {\"anchor\": \"y\", \"domain\": [0.0, 1.0], \"linecolor\": \"black\", \"linewidth\": 1, \"matches\": \"x2\", \"showgrid\": false, \"showline\": true, \"showticklabels\": false, \"tickcolor\": \"black\", \"ticklen\": 10, \"ticks\": \"outside\", \"tickwidth\": 1, \"title\": {\"text\": \"\"}, \"zeroline\": false}, \"xaxis2\": {\"anchor\": \"y2\", \"domain\": [0.0, 1.0], \"linecolor\": \"black\", \"linewidth\": 1, \"showgrid\": false, \"showline\": true, \"tickcolor\": \"black\", \"ticklen\": 10, \"ticks\": \"outside\", \"tickwidth\": 1, \"title\": {\"text\": \"Time (s)\"}, \"zeroline\": false}, \"yaxis\": {\"anchor\": \"x\", \"domain\": [0.5349999999999999, 0.9999999999999999], \"linecolor\": \"black\", \"linewidth\": 1, \"showgrid\": false, \"showline\": true, \"tickcolor\": \"black\", \"ticklen\": 10, \"ticks\": \"outside\", \"tickwidth\": 1, \"title\": {\"text\": \"Velocity (mph)\"}, \"zeroline\": false}, \"yaxis2\": {\"anchor\": \"x2\", \"domain\": [0.0, 0.46499999999999997], \"linecolor\": \"black\", \"linewidth\": 1, \"showgrid\": false, \"showline\": true, \"tickcolor\": \"black\", \"ticklen\": 10, \"ticks\": \"outside\", \"tickwidth\": 1, \"title\": {\"text\": \"Slip Angle (deg)\"}, \"zeroline\": false}},\n",
       "                        {\"responsive\": true}\n",
       "                    ).then(function(){\n",
       "                            \n",
       "var gd = document.getElementById('23f03d67-0e5f-4260-b56a-546b63788b01');\n",
       "var x = new MutationObserver(function (mutations, observer) {{\n",
       "        var display = window.getComputedStyle(gd).display;\n",
       "        if (!display || display === 'none') {{\n",
       "            console.log([gd, 'removed!']);\n",
       "            Plotly.purge(gd);\n",
       "            observer.disconnect();\n",
       "        }}\n",
       "}});\n",
       "\n",
       "// Listen for the removal of the full notebook cells\n",
       "var notebookContainer = gd.closest('#notebook-container');\n",
       "if (notebookContainer) {{\n",
       "    x.observe(notebookContainer, {childList: true});\n",
       "}}\n",
       "\n",
       "// Listen for the clearing of the current output cell\n",
       "var outputEl = gd.closest('.output');\n",
       "if (outputEl) {{\n",
       "    x.observe(outputEl, {childList: true});\n",
       "}}\n",
       "\n",
       "                        })\n",
       "                };\n",
       "                });\n",
       "            </script>\n",
       "        </div>"
      ]
     },
     "metadata": {},
     "output_type": "display_data"
    },
    {
     "data": {
      "application/vnd.plotly.v1+json": {
       "config": {
        "plotlyServerURL": "https://plot.ly"
       },
       "data": [
        {
         "line": {
          "color": "rgb(0, 0, 255)",
          "width": 2
         },
         "mode": "lines",
         "name": "LF - Pycrash",
         "type": "scatter",
         "x": [
          0,
          0.1,
          0.2,
          0.3,
          0.4,
          0.5,
          0.6,
          0.7,
          0.8,
          0.9,
          1,
          1.1,
          1.2,
          1.3,
          1.4,
          1.5,
          1.6,
          1.7,
          1.8,
          1.9,
          2,
          2.1,
          2.2,
          2.3,
          2.4,
          2.5,
          2.6,
          2.7,
          2.8,
          2.9,
          3,
          3.1,
          3.2,
          3.3,
          3.4,
          3.5,
          3.6,
          3.7,
          3.8,
          3.9,
          4,
          4.1,
          4.2,
          4.3,
          4.4,
          4.5,
          4.6,
          4.7,
          4.8,
          4.9,
          5,
          5.1,
          5.2,
          5.3,
          5.4,
          5.5,
          5.6,
          5.7,
          5.8,
          5.9,
          6,
          6.1,
          6.2,
          6.3,
          6.4,
          6.5,
          6.6,
          6.7,
          6.8,
          6.9,
          7,
          7.1,
          7.2,
          7.3,
          7.4,
          7.5,
          7.6,
          7.7,
          7.8,
          7.9,
          8,
          8.1,
          8.2,
          8.3,
          8.4,
          8.5,
          8.6,
          8.7,
          8.8,
          8.9,
          9,
          9.1,
          9.2,
          9.3,
          9.4,
          9.5,
          9.6,
          9.7,
          9.8,
          9.9,
          10,
          10.1,
          10.2,
          10.3,
          10.4,
          10.5,
          10.6,
          10.7,
          10.8,
          10.9
         ],
         "xaxis": "x",
         "y": [
          0,
          0,
          0,
          0,
          0,
          0,
          0,
          0,
          0,
          0,
          0,
          -163.48270522485265,
          -294.09938274863487,
          -337.5386843779689,
          -344.2489787400807,
          -367.1930335377494,
          -418.2887345471525,
          -481.4536201958664,
          -538.9191561190863,
          -583.2937857599529,
          -615.4025363616674,
          -504.0146034707535,
          -421.7499186757791,
          -416.2177394558809,
          -447.33000409012874,
          -463.42420781583894,
          -450.3812912519188,
          -422.9357493522021,
          -398.4350833644253,
          -382.9437949809194,
          -373.2275561039607,
          -364.3599774275605,
          -354.21120649060083,
          -343.3094260251109,
          -332.8415550324118,
          -323.34232412946744,
          -314.64313345598714,
          -306.3851863224824,
          -298.3804215776318,
          -290.6334038804939,
          -283.203938192839,
          -276.10878997588287,
          -269.31626602665847,
          -262.7840592265808,
          -256.4852522572307,
          -250.40833189641802,
          -244.5458990262814,
          -238.88750768214135,
          -233.41999937905933,
          -228.1307176914865,
          -223.00924330612222,
          -218.04696448690038,
          -213.23598200373095,
          -208.56857528837787,
          -204.03731420914607,
          -199.63531796028585,
          -195.35631816379666,
          -191.19454212830115,
          -187.14458090433942,
          -183.20133385625863,
          -179.36000919118214,
          -175.61612548176748,
          -171.96549035673888,
          -168.40416731866978,
          -164.92844810413777,
          -161.53483562269065,
          -158.2200320801177,
          -154.9809265218116,
          -151.81458078656124,
          -148.71821589662736,
          -145.68920045737497,
          -142.7250409201817,
          -139.82337276826652,
          -136.98195205982384,
          -134.1986473842271,
          -131.4714324806589,
          -128.79837958303955,
          -126.17765335415027,
          -123.60750525042714,
          -121.08626825227213,
          -118.61235196551773,
          -116.18423809789508,
          -113.80047628018607,
          -111.4596801851928,
          -109.16052390826934,
          -106.90173859050434,
          -104.68210927251653,
          -102.50047196351196,
          -100.3557109063382,
          -98.24675602021263,
          -96.17258050690764,
          -94.1321986093163,
          -92.12466351204328,
          -90.1490653733659,
          -88.20452947825856,
          -86.29021450337817,
          -84.40531088618535,
          -82.54903929113885,
          -80.72064916622571,
          -78.91941738343965,
          -77.1446469573486,
          -75.39566583647837,
          -73.67182576272043,
          -71.9725011942897,
          -70.29708828803916,
          -68.64500393724836,
          -67.0156848613245,
          -65.4085867441373,
          -63.82318341793514,
          -62.25896609001379
         ],
         "yaxis": "y"
        },
        {
         "line": {
          "color": "rgb(0, 0, 255)",
          "dash": "dash",
          "width": 2
         },
         "mode": "lines",
         "name": "LF - Validate",
         "type": "scatter",
         "x": [
          0,
          0.1,
          0.2,
          0.3,
          0.4,
          0.5,
          0.6,
          0.7,
          0.8,
          0.9,
          1,
          1.1,
          1.2,
          1.3,
          1.4,
          1.5,
          1.6,
          1.7,
          1.8,
          1.9,
          2,
          2.1,
          2.2,
          2.3,
          2.4,
          2.5,
          2.6,
          2.7,
          2.8,
          2.9,
          3,
          3.1,
          3.2,
          3.3,
          3.4,
          3.5,
          3.6,
          3.7,
          3.8,
          3.9,
          4,
          4.1,
          4.2,
          4.3,
          4.4,
          4.5,
          4.6,
          4.7,
          4.8,
          4.9,
          5,
          5.1,
          5.2,
          5.3,
          5.4,
          5.5,
          5.6,
          5.7,
          5.8,
          5.9,
          6,
          6.1,
          6.2,
          6.3,
          6.4,
          6.5,
          6.6,
          6.7,
          6.8,
          6.9,
          7,
          7.1,
          7.2,
          7.3,
          7.4,
          7.5,
          7.6,
          7.7,
          7.8,
          7.9,
          8,
          8.1,
          8.2,
          8.3,
          8.4,
          8.5,
          8.6,
          8.7,
          8.8,
          8.9,
          9,
          9.1,
          9.2,
          9.3,
          9.4,
          9.5,
          9.6,
          9.7,
          9.8,
          9.9,
          10,
          10.1,
          10.2,
          10.3,
          10.4,
          10.5,
          10.6,
          10.7,
          10.8,
          10.9
         ],
         "xaxis": "x",
         "y": [
          0,
          0,
          0,
          0,
          0,
          0,
          0,
          0,
          0,
          0,
          0,
          -141.514,
          -241.215,
          -341.58,
          -450.384,
          -567.327,
          -692.789,
          -829.8839999999999,
          -987.707,
          -1153.27,
          -1267.636,
          -1188.979,
          -1074.692,
          -993.016,
          -938.7489999999999,
          -902.576,
          -874.752,
          -850.718,
          -828.2199999999999,
          -806.446,
          -785.353,
          -765.1419999999999,
          -745.976,
          -727.915,
          -710.934,
          -694.943,
          -679.847,
          -665.5600000000001,
          -651.9979999999999,
          -639.097,
          -626.807,
          -615.077,
          -603.8670000000001,
          -593.145,
          -582.875,
          -573.028,
          -563.578,
          -554.4989999999999,
          -545.767,
          -537.363,
          -529.266,
          -521.458,
          -513.926,
          -506.65099999999995,
          -499.621,
          -492.824,
          -486.245,
          -479.87600000000003,
          -473.705,
          -467.723,
          -461.91900000000004,
          -456.288,
          -450.82,
          -445.507,
          -440.344,
          -435.32300000000004,
          -430.438,
          -425.684,
          -421.054,
          -416.545,
          -412.15000000000003,
          -407.866,
          -403.688,
          -399.613,
          -395.635,
          -391.75100000000003,
          -387.959,
          -384.25399999999996,
          -380.633,
          -377.094,
          -373.633,
          -370.24800000000005,
          -366.937,
          -363.696,
          -360.52299999999997,
          -357.417,
          -354.375,
          -351.394,
          -348.47299999999996,
          -345.611,
          -342.804,
          -340.053,
          -337.354,
          -334.706,
          -332.108,
          -329.55899999999997,
          -327.05600000000004,
          -324.59900000000005,
          -322.186,
          -319.816,
          -317.488,
          -315.2,
          -312.952,
          -310.742,
          -308.57,
          -306.43399999999997,
          -304.334,
          -302.269,
          -300.23699999999997,
          -298.23699999999997
         ],
         "yaxis": "y"
        },
        {
         "line": {
          "color": "rgb(0, 255, 0)",
          "width": 2
         },
         "mode": "lines",
         "name": "RF - Pycrash",
         "type": "scatter",
         "x": [
          0,
          0.1,
          0.2,
          0.3,
          0.4,
          0.5,
          0.6,
          0.7,
          0.8,
          0.9,
          1,
          1.1,
          1.2,
          1.3,
          1.4,
          1.5,
          1.6,
          1.7,
          1.8,
          1.9,
          2,
          2.1,
          2.2,
          2.3,
          2.4,
          2.5,
          2.6,
          2.7,
          2.8,
          2.9,
          3,
          3.1,
          3.2,
          3.3,
          3.4,
          3.5,
          3.6,
          3.7,
          3.8,
          3.9,
          4,
          4.1,
          4.2,
          4.3,
          4.4,
          4.5,
          4.6,
          4.7,
          4.8,
          4.9,
          5,
          5.1,
          5.2,
          5.3,
          5.4,
          5.5,
          5.6,
          5.7,
          5.8,
          5.9,
          6,
          6.1,
          6.2,
          6.3,
          6.4,
          6.5,
          6.6,
          6.7,
          6.8,
          6.9,
          7,
          7.1,
          7.2,
          7.3,
          7.4,
          7.5,
          7.6,
          7.7,
          7.8,
          7.9,
          8,
          8.1,
          8.2,
          8.3,
          8.4,
          8.5,
          8.6,
          8.7,
          8.8,
          8.9,
          9,
          9.1,
          9.2,
          9.3,
          9.4,
          9.5,
          9.6,
          9.7,
          9.8,
          9.9,
          10,
          10.1,
          10.2,
          10.3,
          10.4,
          10.5,
          10.6,
          10.7,
          10.8,
          10.9
         ],
         "xaxis": "x2",
         "y": [
          0,
          0,
          0,
          0,
          0,
          0,
          0,
          0,
          0,
          0,
          0,
          -163.48270522485265,
          -294.3893276657279,
          -341.6064750295124,
          -359.8658598327647,
          -400.9866168705005,
          -473.38041164856725,
          -559.8947576718002,
          -643.7712048283126,
          -718.5504297366687,
          -742.1291738668782,
          -712.7360862620385,
          -659.1551892895897,
          -659.2919042554847,
          -683.0584808524546,
          -693.6460333779153,
          -681.794853315218,
          -659.336915985434,
          -639.5836685690543,
          -626.9835853833692,
          -618.8806751844629,
          -611.4228737412798,
          -602.9773860047364,
          -593.9762261010259,
          -585.3487550149819,
          -577.5066483650321,
          -570.3119080262735,
          -563.4805497456626,
          -556.8641432319331,
          -550.4656144838489,
          -544.3309643695987,
          -538.47220652556,
          -532.8633277593256,
          -527.4701473603742,
          -522.2707593643985,
          -517.2554798207913,
          -512.4179040578724,
          -507.74925008980705,
          -503.23863392677424,
          -498.87561752298944,
          -494.65157667357335,
          -490.5593503444052,
          -486.59236508107654,
          -482.74420952559876,
          -479.00872389014876,
          -475.3802054011007,
          -471.8534562154303,
          -468.4236876658621,
          -465.08641325806195,
          -461.8374036990464,
          -458.6726868848117,
          -455.5885484027332,
          -452.58151351691714,
          -449.6483197183909,
          -446.7858939707582,
          -443.9913386193993,
          -441.26192148136425,
          -438.59506542322436,
          -435.9883366583899,
          -433.4394334525112,
          -430.9461765123671,
          -428.50650090939996,
          -426.1184487530072,
          -423.780162156225,
          -421.4898765514338,
          -419.24591456412253,
          -417.04668049168896,
          -414.89065526857246,
          -412.7763917862551,
          -410.7025105169707,
          -408.66769544757426,
          -406.67069032614023,
          -404.71029519463303,
          -402.7853631681319,
          -400.8947974309751,
          -399.03754843473973,
          -397.212611288138,
          -395.4190233257527,
          -393.65586183935125,
          -391.92224195659264,
          -390.21731465547623,
          -388.5402649054088,
          -386.8903099262263,
          -385.2666975562415,
          -383.668704720736,
          -382.0956359933842,
          -380.54682224412915,
          -379.02161936764224,
          -377.5194070867429,
          -376.0395878254701,
          -374.5815856469477,
          -373.1448452516715,
          -371.72883103223626,
          -370.3330261807917,
          -368.95693184573014,
          -367.60006633439235,
          -366.2619643588342,
          -364.94217632193,
          -363.64026764128874,
          -362.3558181086138
         ],
         "yaxis": "y2"
        },
        {
         "line": {
          "color": "rgb(0, 255, 0)",
          "dash": "dash",
          "width": 2
         },
         "mode": "lines",
         "name": "RF - Validate",
         "type": "scatter",
         "x": [
          0,
          0.1,
          0.2,
          0.3,
          0.4,
          0.5,
          0.6,
          0.7,
          0.8,
          0.9,
          1,
          1.1,
          1.2,
          1.3,
          1.4,
          1.5,
          1.6,
          1.7,
          1.8,
          1.9,
          2,
          2.1,
          2.2,
          2.3,
          2.4,
          2.5,
          2.6,
          2.7,
          2.8,
          2.9,
          3,
          3.1,
          3.2,
          3.3,
          3.4,
          3.5,
          3.6,
          3.7,
          3.8,
          3.9,
          4,
          4.1,
          4.2,
          4.3,
          4.4,
          4.5,
          4.6,
          4.7,
          4.8,
          4.9,
          5,
          5.1,
          5.2,
          5.3,
          5.4,
          5.5,
          5.6,
          5.7,
          5.8,
          5.9,
          6,
          6.1,
          6.2,
          6.3,
          6.4,
          6.5,
          6.6,
          6.7,
          6.8,
          6.9,
          7,
          7.1,
          7.2,
          7.3,
          7.4,
          7.5,
          7.6,
          7.7,
          7.8,
          7.9,
          8,
          8.1,
          8.2,
          8.3,
          8.4,
          8.5,
          8.6,
          8.7,
          8.8,
          8.9,
          9,
          9.1,
          9.2,
          9.3,
          9.4,
          9.5,
          9.6,
          9.7,
          9.8,
          9.9,
          10,
          10.1,
          10.2,
          10.3,
          10.4,
          10.5,
          10.6,
          10.7,
          10.8,
          10.9
         ],
         "xaxis": "x2",
         "y": [
          0,
          0,
          0,
          0,
          0,
          0,
          0,
          0,
          0,
          0,
          0,
          -185.408,
          -294.30400000000003,
          -369.78499999999997,
          -427.452,
          -472.012,
          -504.997,
          -504.53999999999996,
          -479.558,
          -458.05,
          -440.866,
          -439.827,
          -453.69100000000003,
          -465.039,
          -451.827,
          -444.106,
          -438.554,
          -434.108,
          -430.203,
          -426.497,
          -422.83,
          -419.15599999999995,
          -415.479,
          -411.82,
          -408.196,
          -404.619,
          -401.096,
          -397.632,
          -394.227,
          -390.881,
          -387.594,
          -384.364,
          -381.19199999999995,
          -378.07800000000003,
          -375.019,
          -372.015,
          -369.06600000000003,
          -366.17100000000005,
          -363.328,
          -360.537,
          -357.79699999999997,
          -355.106,
          -352.463,
          -349.86699999999996,
          -347.317,
          -344.813,
          -342.352,
          -339.934,
          -337.55800000000005,
          -335.22200000000004,
          -332.926,
          -330.67,
          -328.45099999999996,
          -326.26899999999995,
          -324.123,
          -322.012,
          -319.935,
          -317.892,
          -315.882,
          -313.90299999999996,
          -311.956,
          -310.03799999999995,
          -308.151,
          -306.29200000000003,
          -304.462,
          -302.65999999999997,
          -300.88399999999996,
          -299.135,
          -297.411,
          -295.713,
          -294.039,
          -292.389,
          -290.762,
          -289.159,
          -287.578,
          -286.019,
          -284.482,
          -282.96500000000003,
          -281.46900000000005,
          -279.994,
          -278.538,
          -277.101,
          -275.683,
          -274.284,
          -272.903,
          -271.539,
          -270.19300000000004,
          -268.864,
          -267.552,
          -266.256,
          -264.976,
          -263.712,
          -262.463,
          -261.229,
          -260.01,
          -258.806,
          -257.616,
          -256.44,
          -255.278,
          -254.129
         ],
         "yaxis": "y2"
        },
        {
         "line": {
          "color": "rgb(153, 0, 204)",
          "width": 2
         },
         "mode": "lines",
         "name": "RR - Pycrash",
         "type": "scatter",
         "x": [
          0,
          0.1,
          0.2,
          0.3,
          0.4,
          0.5,
          0.6,
          0.7,
          0.8,
          0.9,
          1,
          1.1,
          1.2,
          1.3,
          1.4,
          1.5,
          1.6,
          1.7,
          1.8,
          1.9,
          2,
          2.1,
          2.2,
          2.3,
          2.4,
          2.5,
          2.6,
          2.7,
          2.8,
          2.9,
          3,
          3.1,
          3.2,
          3.3,
          3.4,
          3.5,
          3.6,
          3.7,
          3.8,
          3.9,
          4,
          4.1,
          4.2,
          4.3,
          4.4,
          4.5,
          4.6,
          4.7,
          4.8,
          4.9,
          5,
          5.1,
          5.2,
          5.3,
          5.4,
          5.5,
          5.6,
          5.7,
          5.8,
          5.9,
          6,
          6.1,
          6.2,
          6.3,
          6.4,
          6.5,
          6.6,
          6.7,
          6.8,
          6.9,
          7,
          7.1,
          7.2,
          7.3,
          7.4,
          7.5,
          7.6,
          7.7,
          7.8,
          7.9,
          8,
          8.1,
          8.2,
          8.3,
          8.4,
          8.5,
          8.6,
          8.7,
          8.8,
          8.9,
          9,
          9.1,
          9.2,
          9.3,
          9.4,
          9.5,
          9.6,
          9.7,
          9.8,
          9.9,
          10,
          10.1,
          10.2,
          10.3,
          10.4,
          10.5,
          10.6,
          10.7,
          10.8,
          10.9
         ],
         "xaxis": "x3",
         "y": [
          0,
          0,
          0,
          0,
          0,
          0,
          0,
          0,
          0,
          0,
          0,
          0,
          1.830636255029813,
          3.114655763501099,
          -6.888366473425949,
          -34.894764911348176,
          -75.90512794352244,
          -119.60839146444056,
          -158.83383536018476,
          -191.8477714072819,
          -219.87617723938493,
          -245.10429757991275,
          -267.7383615646184,
          -285.16271590484394,
          -293.26820998331607,
          -289.789854522032,
          -278.21681064598044,
          -264.89613025573965,
          -254.28134090938752,
          -247.0903416837056,
          -241.73677378356675,
          -236.59587444524738,
          -231.09889068900995,
          -225.4976603229236,
          -220.18863606580067,
          -215.32169568020507,
          -210.81487877694354,
          -206.5340364848177,
          -202.41014847040375,
          -198.4414945947264,
          -194.64447401060227,
          -191.01988812298993,
          -187.55184889312483,
          -184.22147786582457,
          -181.0160525023709,
          -177.92876267233726,
          -174.95446417915244,
          -172.08703901029347,
          -169.31955529657233,
          -166.64548002394497,
          -164.05930499995688,
          -161.5563421528501,
          -159.13227660608433,
          -156.7829530887767,
          -154.5044200619283,
          -152.29302753589647,
          -150.14544174804934,
          -148.0585873726004,
          -146.02958718058036,
          -144.05573621001435,
          -142.13449963498408,
          -140.26351005215736,
          -138.4405545532853,
          -136.6635572550519,
          -134.93056515027962,
          -133.2397390953438,
          -131.5893470843553,
          -129.977757139945,
          -128.40342955333725,
          -126.86490955564717,
          -125.36082112303166,
          -123.88986173191927,
          -122.45079755402338,
          -121.04245883936082,
          -119.66373555724799,
          -118.31357342756993,
          -116.99097035131736,
          -115.6949731490172,
          -114.42467452367711,
          -113.17921022414825,
          -111.95775641754288,
          -110.75952726953959,
          -109.5837727104517,
          -108.42977635970118,
          -107.29685359093807,
          -106.18434972972237,
          -105.09163837730964,
          -104.01811985088703,
          -102.96321972886084,
          -101.92638749140973,
          -100.90709524918243,
          -99.9048365543469,
          -98.91912528812293,
          -97.9494946187211,
          -96.99549602405855,
          -96.05669837446156,
          -95.1326870712183,
          -94.2230632371194,
          -93.32744295526273,
          -92.44545655264149,
          -91.57674792538461,
          -90.72097390283731,
          -89.87780364789567,
          -89.04691809116326,
          -88.22800939666506,
          -87.42078045703441,
          -86.62494441626797,
          -85.84022421829256,
          -85.06635217970317,
          -84.30306958514275
         ],
         "yaxis": "y3"
        },
        {
         "line": {
          "color": "rgb(153, 0, 204)",
          "dash": "dash",
          "width": 2
         },
         "mode": "lines",
         "name": "RR - Validate",
         "type": "scatter",
         "x": [
          0,
          0.1,
          0.2,
          0.3,
          0.4,
          0.5,
          0.6,
          0.7,
          0.8,
          0.9,
          1,
          1.1,
          1.2,
          1.3,
          1.4,
          1.5,
          1.6,
          1.7,
          1.8,
          1.9,
          2,
          2.1,
          2.2,
          2.3,
          2.4,
          2.5,
          2.6,
          2.7,
          2.8,
          2.9,
          3,
          3.1,
          3.2,
          3.3,
          3.4,
          3.5,
          3.6,
          3.7,
          3.8,
          3.9,
          4,
          4.1,
          4.2,
          4.3,
          4.4,
          4.5,
          4.6,
          4.7,
          4.8,
          4.9,
          5,
          5.1,
          5.2,
          5.3,
          5.4,
          5.5,
          5.6,
          5.7,
          5.8,
          5.9,
          6,
          6.1,
          6.2,
          6.3,
          6.4,
          6.5,
          6.6,
          6.7,
          6.8,
          6.9,
          7,
          7.1,
          7.2,
          7.3,
          7.4,
          7.5,
          7.6,
          7.7,
          7.8,
          7.9,
          8,
          8.1,
          8.2,
          8.3,
          8.4,
          8.5,
          8.6,
          8.7,
          8.8,
          8.9,
          9,
          9.1,
          9.2,
          9.3,
          9.4,
          9.5,
          9.6,
          9.7,
          9.8,
          9.9,
          10,
          10.1,
          10.2,
          10.3,
          10.4,
          10.5,
          10.6,
          10.7,
          10.8,
          10.9
         ],
         "xaxis": "x3",
         "y": [
          0,
          0,
          0,
          0,
          0,
          0,
          0,
          0,
          0,
          0,
          0,
          1.2049999999999998,
          -2.83,
          -35.617000000000004,
          -63.495,
          -88.541,
          -108.7,
          -123.605,
          -133.206,
          -135.905,
          -134.152,
          -143.161,
          -166.136,
          -184.367,
          -195.416,
          -200.251,
          -201.481,
          -201.35500000000002,
          -200.936,
          -200.533,
          -200.13500000000002,
          -199.666,
          -199.08,
          -198.374,
          -197.56699999999998,
          -196.688,
          -195.759,
          -194.793,
          -193.801,
          -192.78699999999998,
          -191.756,
          -190.71099999999998,
          -189.65699999999998,
          -188.595,
          -187.529,
          -186.46099999999998,
          -185.392,
          -184.325,
          -183.261,
          -182.201,
          -181.14600000000002,
          -180.098,
          -179.05599999999998,
          -178.02200000000002,
          -176.99599999999998,
          -175.97899999999998,
          -174.97099999999998,
          -173.97199999999998,
          -172.982,
          -172.00199999999998,
          -171.033,
          -170.073,
          -169.123,
          -168.184,
          -167.255,
          -166.336,
          -165.428,
          -164.529,
          -163.64100000000002,
          -162.76299999999998,
          -161.895,
          -161.037,
          -160.189,
          -159.35,
          -158.522,
          -157.703,
          -156.893,
          -156.09300000000002,
          -155.302,
          -154.51999999999998,
          -153.748,
          -152.984,
          -152.229,
          -151.483,
          -150.74499999999998,
          -150.01600000000002,
          -149.29500000000002,
          -148.582,
          -147.877,
          -147.18,
          -146.491,
          -145.81,
          -145.136,
          -144.47,
          -143.811,
          -143.16,
          -142.51500000000001,
          -141.87800000000001,
          -141.24800000000002,
          -140.624,
          -140.007,
          -139.397,
          -138.793,
          -138.19600000000003,
          -137.60500000000002,
          -137.02,
          -136.441,
          -135.868,
          -135.30100000000002,
          -134.74099999999999
         ],
         "yaxis": "y3"
        },
        {
         "line": {
          "color": "rgb(255, 102, 0)",
          "width": 2
         },
         "mode": "lines",
         "name": "LR - Pycrash",
         "type": "scatter",
         "x": [
          0,
          0.1,
          0.2,
          0.3,
          0.4,
          0.5,
          0.6,
          0.7,
          0.8,
          0.9,
          1,
          1.1,
          1.2,
          1.3,
          1.4,
          1.5,
          1.6,
          1.7,
          1.8,
          1.9,
          2,
          2.1,
          2.2,
          2.3,
          2.4,
          2.5,
          2.6,
          2.7,
          2.8,
          2.9,
          3,
          3.1,
          3.2,
          3.3,
          3.4,
          3.5,
          3.6,
          3.7,
          3.8,
          3.9,
          4,
          4.1,
          4.2,
          4.3,
          4.4,
          4.5,
          4.6,
          4.7,
          4.8,
          4.9,
          5,
          5.1,
          5.2,
          5.3,
          5.4,
          5.5,
          5.6,
          5.7,
          5.8,
          5.9,
          6,
          6.1,
          6.2,
          6.3,
          6.4,
          6.5,
          6.6,
          6.7,
          6.8,
          6.9,
          7,
          7.1,
          7.2,
          7.3,
          7.4,
          7.5,
          7.6,
          7.7,
          7.8,
          7.9,
          8,
          8.1,
          8.2,
          8.3,
          8.4,
          8.5,
          8.6,
          8.7,
          8.8,
          8.9,
          9,
          9.1,
          9.2,
          9.3,
          9.4,
          9.5,
          9.6,
          9.7,
          9.8,
          9.9,
          10,
          10.1,
          10.2,
          10.3,
          10.4,
          10.5,
          10.6,
          10.7,
          10.8,
          10.9
         ],
         "xaxis": "x4",
         "y": [
          0,
          0,
          0,
          0,
          0,
          0,
          0,
          0,
          0,
          0,
          0,
          0,
          1.841255743457207,
          3.1843282037286644,
          -7.205468022873564,
          -37.40784150052905,
          -83.3286059975654,
          -134.31212554640499,
          -182.32607893000608,
          -225.08387048433664,
          -263.66878061812054,
          -300.2224330261814,
          -332.92613315627113,
          -356.18491256950364,
          -365.55932191378,
          -360.2381013558764,
          -345.531068493713,
          -329.139555183915,
          -316.17050997695435,
          -307.3331574599588,
          -300.68301348998165,
          -294.2800906640951,
          -287.4579393736969,
          -280.5253345749438,
          -273.9576107000205,
          -267.932215799475,
          -262.3484674339572,
          -257.0437152458777,
          -251.93425288671577,
          -247.01769539792835,
          -242.3135351574214,
          -237.82238271135478,
          -233.52465382979136,
          -229.39717766372186,
          -225.42429565801206,
          -221.5975609808993,
          -217.91056766811062,
          -214.35573298875062,
          -210.92449186155517,
          -207.6087766373694,
          -204.40178070214813,
          -201.29770658931767,
          -198.29121787197,
          -195.37717718440635,
          -192.5507003246015,
          -189.8072761195034,
          -187.1427840555924,
          -184.55342286917946,
          -182.03563613733476,
          -179.5860804478592,
          -177.20162276080853,
          -174.87933700267155,
          -172.6164880378129,
          -170.41051005202362,
          -168.25898906828974,
          -166.1596518209889,
          -164.1103574491389,
          -162.10908870417865,
          -160.1539423499563,
          -158.24312010093382,
          -156.3749209681943,
          -154.54773478138875,
          -152.76003625189986,
          -151.01037926609914,
          -149.2973914975212,
          -147.6197695028703,
          -145.9762743124691,
          -144.36572740105373,
          -142.7870069354118,
          -141.2390442694476,
          -139.72082069780893,
          -138.23136446669105,
          -136.76974801423566,
          -135.33508540653233,
          -133.92652994729656,
          -132.54327195134405,
          -131.18453667393115,
          -129.8495823839935,
          -128.53769856714635,
          -127.24820424634328,
          -125.98044641141739,
          -124.73379855036488,
          -123.50765927511698,
          -122.30145103427944,
          -121.11461890587896,
          -119.94662946420212,
          -118.7969697156225,
          -117.66514609864456,
          -116.55068354356155,
          -115.45312458742566,
          -114.37202854046312,
          -113.30697070046264,
          -112.2575416119421,
          -111.22334636709031,
          -110.20400394568459,
          -109.19914659141077,
          -108.20841922223286,
          -107.23147887264315,
          -106.26799416576715,
          -105.3176448134331
         ],
         "yaxis": "y4"
        },
        {
         "line": {
          "color": "rgb(255, 102, 0)",
          "dash": "dash",
          "width": 2
         },
         "mode": "lines",
         "name": "LR - Validate",
         "type": "scatter",
         "x": [
          0,
          0.1,
          0.2,
          0.3,
          0.4,
          0.5,
          0.6,
          0.7,
          0.8,
          0.9,
          1,
          1.1,
          1.2,
          1.3,
          1.4,
          1.5,
          1.6,
          1.7,
          1.8,
          1.9,
          2,
          2.1,
          2.2,
          2.3,
          2.4,
          2.5,
          2.6,
          2.7,
          2.8,
          2.9,
          3,
          3.1,
          3.2,
          3.3,
          3.4,
          3.5,
          3.6,
          3.7,
          3.8,
          3.9,
          4,
          4.1,
          4.2,
          4.3,
          4.4,
          4.5,
          4.6,
          4.7,
          4.8,
          4.9,
          5,
          5.1,
          5.2,
          5.3,
          5.4,
          5.5,
          5.6,
          5.7,
          5.8,
          5.9,
          6,
          6.1,
          6.2,
          6.3,
          6.4,
          6.5,
          6.6,
          6.7,
          6.8,
          6.9,
          7,
          7.1,
          7.2,
          7.3,
          7.4,
          7.5,
          7.6,
          7.7,
          7.8,
          7.9,
          8,
          8.1,
          8.2,
          8.3,
          8.4,
          8.5,
          8.6,
          8.7,
          8.8,
          8.9,
          9,
          9.1,
          9.2,
          9.3,
          9.4,
          9.5,
          9.6,
          9.7,
          9.8,
          9.9,
          10,
          10.1,
          10.2,
          10.3,
          10.4,
          10.5,
          10.6,
          10.7,
          10.8,
          10.9
         ],
         "xaxis": "x4",
         "y": [
          0,
          0,
          0,
          0,
          0,
          0,
          0,
          0,
          0,
          0,
          0,
          1.2730000000000001,
          -3.763,
          -50.338,
          -100.22300000000001,
          -155.095,
          -211.581,
          -268.129,
          -319.84299999999996,
          -363.83500000000004,
          -402.092,
          -439.50800000000004,
          -465.912,
          -473.837,
          -470.66400000000004,
          -461.106,
          -449.522,
          -437.739,
          -426.236,
          -415.071,
          -404.27200000000005,
          -393.906,
          -384.038,
          -374.709,
          -365.926,
          -357.65799999999996,
          -349.862,
          -342.49600000000004,
          -335.51300000000003,
          -328.878,
          -322.564,
          -316.542,
          -310.79200000000003,
          -305.29499999999996,
          -300.03400000000005,
          -294.99199999999996,
          -290.156,
          -285.511,
          -281.045,
          -276.75,
          -272.612,
          -268.62399999999997,
          -264.777,
          -261.063,
          -257.474,
          -254.00499999999997,
          -250.64799999999997,
          -247.399,
          -244.251,
          -241.19899999999998,
          -238.24,
          -235.368,
          -232.58,
          -229.87099999999998,
          -227.239,
          -224.679,
          -222.189,
          -219.765,
          -217.405,
          -215.107,
          -212.867,
          -210.68300000000002,
          -208.553,
          -206.476,
          -204.44799999999998,
          -202.46800000000002,
          -200.535,
          -198.646,
          -196.8,
          -194.996,
          -193.232,
          -191.506,
          -189.817,
          -188.165,
          -186.547,
          -184.963,
          -183.411,
          -181.891,
          -180.401,
          -178.941,
          -177.51,
          -176.10600000000002,
          -174.72899999999998,
          -173.37800000000001,
          -172.05200000000002,
          -170.75099999999998,
          -169.47400000000002,
          -168.22,
          -166.988,
          -165.779,
          -164.58999999999997,
          -163.42200000000003,
          -162.274,
          -161.14600000000002,
          -160.037,
          -158.946,
          -157.874,
          -156.818,
          -155.78,
          -154.75900000000001
         ],
         "yaxis": "y4"
        }
       ],
       "layout": {
        "autosize": false,
        "font": {
         "color": "black",
         "family": "Arial",
         "size": 14
        },
        "height": 900,
        "legend": {
         "orientation": "h",
         "x": 0.01,
         "xanchor": "left",
         "y": 1.1,
         "yanchor": "top"
        },
        "template": {
         "data": {
          "bar": [
           {
            "error_x": {
             "color": "#2a3f5f"
            },
            "error_y": {
             "color": "#2a3f5f"
            },
            "marker": {
             "line": {
              "color": "white",
              "width": 0.5
             }
            },
            "type": "bar"
           }
          ],
          "barpolar": [
           {
            "marker": {
             "line": {
              "color": "white",
              "width": 0.5
             }
            },
            "type": "barpolar"
           }
          ],
          "carpet": [
           {
            "aaxis": {
             "endlinecolor": "#2a3f5f",
             "gridcolor": "#C8D4E3",
             "linecolor": "#C8D4E3",
             "minorgridcolor": "#C8D4E3",
             "startlinecolor": "#2a3f5f"
            },
            "baxis": {
             "endlinecolor": "#2a3f5f",
             "gridcolor": "#C8D4E3",
             "linecolor": "#C8D4E3",
             "minorgridcolor": "#C8D4E3",
             "startlinecolor": "#2a3f5f"
            },
            "type": "carpet"
           }
          ],
          "choropleth": [
           {
            "colorbar": {
             "outlinewidth": 0,
             "ticks": ""
            },
            "type": "choropleth"
           }
          ],
          "contour": [
           {
            "colorbar": {
             "outlinewidth": 0,
             "ticks": ""
            },
            "colorscale": [
             [
              0,
              "#0d0887"
             ],
             [
              0.1111111111111111,
              "#46039f"
             ],
             [
              0.2222222222222222,
              "#7201a8"
             ],
             [
              0.3333333333333333,
              "#9c179e"
             ],
             [
              0.4444444444444444,
              "#bd3786"
             ],
             [
              0.5555555555555556,
              "#d8576b"
             ],
             [
              0.6666666666666666,
              "#ed7953"
             ],
             [
              0.7777777777777778,
              "#fb9f3a"
             ],
             [
              0.8888888888888888,
              "#fdca26"
             ],
             [
              1,
              "#f0f921"
             ]
            ],
            "type": "contour"
           }
          ],
          "contourcarpet": [
           {
            "colorbar": {
             "outlinewidth": 0,
             "ticks": ""
            },
            "type": "contourcarpet"
           }
          ],
          "heatmap": [
           {
            "colorbar": {
             "outlinewidth": 0,
             "ticks": ""
            },
            "colorscale": [
             [
              0,
              "#0d0887"
             ],
             [
              0.1111111111111111,
              "#46039f"
             ],
             [
              0.2222222222222222,
              "#7201a8"
             ],
             [
              0.3333333333333333,
              "#9c179e"
             ],
             [
              0.4444444444444444,
              "#bd3786"
             ],
             [
              0.5555555555555556,
              "#d8576b"
             ],
             [
              0.6666666666666666,
              "#ed7953"
             ],
             [
              0.7777777777777778,
              "#fb9f3a"
             ],
             [
              0.8888888888888888,
              "#fdca26"
             ],
             [
              1,
              "#f0f921"
             ]
            ],
            "type": "heatmap"
           }
          ],
          "heatmapgl": [
           {
            "colorbar": {
             "outlinewidth": 0,
             "ticks": ""
            },
            "colorscale": [
             [
              0,
              "#0d0887"
             ],
             [
              0.1111111111111111,
              "#46039f"
             ],
             [
              0.2222222222222222,
              "#7201a8"
             ],
             [
              0.3333333333333333,
              "#9c179e"
             ],
             [
              0.4444444444444444,
              "#bd3786"
             ],
             [
              0.5555555555555556,
              "#d8576b"
             ],
             [
              0.6666666666666666,
              "#ed7953"
             ],
             [
              0.7777777777777778,
              "#fb9f3a"
             ],
             [
              0.8888888888888888,
              "#fdca26"
             ],
             [
              1,
              "#f0f921"
             ]
            ],
            "type": "heatmapgl"
           }
          ],
          "histogram": [
           {
            "marker": {
             "colorbar": {
              "outlinewidth": 0,
              "ticks": ""
             }
            },
            "type": "histogram"
           }
          ],
          "histogram2d": [
           {
            "colorbar": {
             "outlinewidth": 0,
             "ticks": ""
            },
            "colorscale": [
             [
              0,
              "#0d0887"
             ],
             [
              0.1111111111111111,
              "#46039f"
             ],
             [
              0.2222222222222222,
              "#7201a8"
             ],
             [
              0.3333333333333333,
              "#9c179e"
             ],
             [
              0.4444444444444444,
              "#bd3786"
             ],
             [
              0.5555555555555556,
              "#d8576b"
             ],
             [
              0.6666666666666666,
              "#ed7953"
             ],
             [
              0.7777777777777778,
              "#fb9f3a"
             ],
             [
              0.8888888888888888,
              "#fdca26"
             ],
             [
              1,
              "#f0f921"
             ]
            ],
            "type": "histogram2d"
           }
          ],
          "histogram2dcontour": [
           {
            "colorbar": {
             "outlinewidth": 0,
             "ticks": ""
            },
            "colorscale": [
             [
              0,
              "#0d0887"
             ],
             [
              0.1111111111111111,
              "#46039f"
             ],
             [
              0.2222222222222222,
              "#7201a8"
             ],
             [
              0.3333333333333333,
              "#9c179e"
             ],
             [
              0.4444444444444444,
              "#bd3786"
             ],
             [
              0.5555555555555556,
              "#d8576b"
             ],
             [
              0.6666666666666666,
              "#ed7953"
             ],
             [
              0.7777777777777778,
              "#fb9f3a"
             ],
             [
              0.8888888888888888,
              "#fdca26"
             ],
             [
              1,
              "#f0f921"
             ]
            ],
            "type": "histogram2dcontour"
           }
          ],
          "mesh3d": [
           {
            "colorbar": {
             "outlinewidth": 0,
             "ticks": ""
            },
            "type": "mesh3d"
           }
          ],
          "parcoords": [
           {
            "line": {
             "colorbar": {
              "outlinewidth": 0,
              "ticks": ""
             }
            },
            "type": "parcoords"
           }
          ],
          "pie": [
           {
            "automargin": true,
            "type": "pie"
           }
          ],
          "scatter": [
           {
            "marker": {
             "colorbar": {
              "outlinewidth": 0,
              "ticks": ""
             }
            },
            "type": "scatter"
           }
          ],
          "scatter3d": [
           {
            "line": {
             "colorbar": {
              "outlinewidth": 0,
              "ticks": ""
             }
            },
            "marker": {
             "colorbar": {
              "outlinewidth": 0,
              "ticks": ""
             }
            },
            "type": "scatter3d"
           }
          ],
          "scattercarpet": [
           {
            "marker": {
             "colorbar": {
              "outlinewidth": 0,
              "ticks": ""
             }
            },
            "type": "scattercarpet"
           }
          ],
          "scattergeo": [
           {
            "marker": {
             "colorbar": {
              "outlinewidth": 0,
              "ticks": ""
             }
            },
            "type": "scattergeo"
           }
          ],
          "scattergl": [
           {
            "marker": {
             "colorbar": {
              "outlinewidth": 0,
              "ticks": ""
             }
            },
            "type": "scattergl"
           }
          ],
          "scattermapbox": [
           {
            "marker": {
             "colorbar": {
              "outlinewidth": 0,
              "ticks": ""
             }
            },
            "type": "scattermapbox"
           }
          ],
          "scatterpolar": [
           {
            "marker": {
             "colorbar": {
              "outlinewidth": 0,
              "ticks": ""
             }
            },
            "type": "scatterpolar"
           }
          ],
          "scatterpolargl": [
           {
            "marker": {
             "colorbar": {
              "outlinewidth": 0,
              "ticks": ""
             }
            },
            "type": "scatterpolargl"
           }
          ],
          "scatterternary": [
           {
            "marker": {
             "colorbar": {
              "outlinewidth": 0,
              "ticks": ""
             }
            },
            "type": "scatterternary"
           }
          ],
          "surface": [
           {
            "colorbar": {
             "outlinewidth": 0,
             "ticks": ""
            },
            "colorscale": [
             [
              0,
              "#0d0887"
             ],
             [
              0.1111111111111111,
              "#46039f"
             ],
             [
              0.2222222222222222,
              "#7201a8"
             ],
             [
              0.3333333333333333,
              "#9c179e"
             ],
             [
              0.4444444444444444,
              "#bd3786"
             ],
             [
              0.5555555555555556,
              "#d8576b"
             ],
             [
              0.6666666666666666,
              "#ed7953"
             ],
             [
              0.7777777777777778,
              "#fb9f3a"
             ],
             [
              0.8888888888888888,
              "#fdca26"
             ],
             [
              1,
              "#f0f921"
             ]
            ],
            "type": "surface"
           }
          ],
          "table": [
           {
            "cells": {
             "fill": {
              "color": "#EBF0F8"
             },
             "line": {
              "color": "white"
             }
            },
            "header": {
             "fill": {
              "color": "#C8D4E3"
             },
             "line": {
              "color": "white"
             }
            },
            "type": "table"
           }
          ]
         },
         "layout": {
          "annotationdefaults": {
           "arrowcolor": "#2a3f5f",
           "arrowhead": 0,
           "arrowwidth": 1
          },
          "coloraxis": {
           "colorbar": {
            "outlinewidth": 0,
            "ticks": ""
           }
          },
          "colorscale": {
           "diverging": [
            [
             0,
             "#8e0152"
            ],
            [
             0.1,
             "#c51b7d"
            ],
            [
             0.2,
             "#de77ae"
            ],
            [
             0.3,
             "#f1b6da"
            ],
            [
             0.4,
             "#fde0ef"
            ],
            [
             0.5,
             "#f7f7f7"
            ],
            [
             0.6,
             "#e6f5d0"
            ],
            [
             0.7,
             "#b8e186"
            ],
            [
             0.8,
             "#7fbc41"
            ],
            [
             0.9,
             "#4d9221"
            ],
            [
             1,
             "#276419"
            ]
           ],
           "sequential": [
            [
             0,
             "#0d0887"
            ],
            [
             0.1111111111111111,
             "#46039f"
            ],
            [
             0.2222222222222222,
             "#7201a8"
            ],
            [
             0.3333333333333333,
             "#9c179e"
            ],
            [
             0.4444444444444444,
             "#bd3786"
            ],
            [
             0.5555555555555556,
             "#d8576b"
            ],
            [
             0.6666666666666666,
             "#ed7953"
            ],
            [
             0.7777777777777778,
             "#fb9f3a"
            ],
            [
             0.8888888888888888,
             "#fdca26"
            ],
            [
             1,
             "#f0f921"
            ]
           ],
           "sequentialminus": [
            [
             0,
             "#0d0887"
            ],
            [
             0.1111111111111111,
             "#46039f"
            ],
            [
             0.2222222222222222,
             "#7201a8"
            ],
            [
             0.3333333333333333,
             "#9c179e"
            ],
            [
             0.4444444444444444,
             "#bd3786"
            ],
            [
             0.5555555555555556,
             "#d8576b"
            ],
            [
             0.6666666666666666,
             "#ed7953"
            ],
            [
             0.7777777777777778,
             "#fb9f3a"
            ],
            [
             0.8888888888888888,
             "#fdca26"
            ],
            [
             1,
             "#f0f921"
            ]
           ]
          },
          "colorway": [
           "#636efa",
           "#EF553B",
           "#00cc96",
           "#ab63fa",
           "#FFA15A",
           "#19d3f3",
           "#FF6692",
           "#B6E880",
           "#FF97FF",
           "#FECB52"
          ],
          "font": {
           "color": "#2a3f5f"
          },
          "geo": {
           "bgcolor": "white",
           "lakecolor": "white",
           "landcolor": "white",
           "showlakes": true,
           "showland": true,
           "subunitcolor": "#C8D4E3"
          },
          "hoverlabel": {
           "align": "left"
          },
          "hovermode": "closest",
          "mapbox": {
           "style": "light"
          },
          "paper_bgcolor": "white",
          "plot_bgcolor": "white",
          "polar": {
           "angularaxis": {
            "gridcolor": "#EBF0F8",
            "linecolor": "#EBF0F8",
            "ticks": ""
           },
           "bgcolor": "white",
           "radialaxis": {
            "gridcolor": "#EBF0F8",
            "linecolor": "#EBF0F8",
            "ticks": ""
           }
          },
          "scene": {
           "xaxis": {
            "backgroundcolor": "white",
            "gridcolor": "#DFE8F3",
            "gridwidth": 2,
            "linecolor": "#EBF0F8",
            "showbackground": true,
            "ticks": "",
            "zerolinecolor": "#EBF0F8"
           },
           "yaxis": {
            "backgroundcolor": "white",
            "gridcolor": "#DFE8F3",
            "gridwidth": 2,
            "linecolor": "#EBF0F8",
            "showbackground": true,
            "ticks": "",
            "zerolinecolor": "#EBF0F8"
           },
           "zaxis": {
            "backgroundcolor": "white",
            "gridcolor": "#DFE8F3",
            "gridwidth": 2,
            "linecolor": "#EBF0F8",
            "showbackground": true,
            "ticks": "",
            "zerolinecolor": "#EBF0F8"
           }
          },
          "shapedefaults": {
           "line": {
            "color": "#2a3f5f"
           }
          },
          "ternary": {
           "aaxis": {
            "gridcolor": "#DFE8F3",
            "linecolor": "#A2B1C6",
            "ticks": ""
           },
           "baxis": {
            "gridcolor": "#DFE8F3",
            "linecolor": "#A2B1C6",
            "ticks": ""
           },
           "bgcolor": "white",
           "caxis": {
            "gridcolor": "#DFE8F3",
            "linecolor": "#A2B1C6",
            "ticks": ""
           }
          },
          "title": {
           "x": 0.05
          },
          "xaxis": {
           "automargin": true,
           "gridcolor": "#EBF0F8",
           "linecolor": "#EBF0F8",
           "ticks": "",
           "title": {
            "standoff": 15
           },
           "zerolinecolor": "#EBF0F8",
           "zerolinewidth": 2
          },
          "yaxis": {
           "automargin": true,
           "gridcolor": "#EBF0F8",
           "linecolor": "#EBF0F8",
           "ticks": "",
           "title": {
            "standoff": 15
           },
           "zerolinecolor": "#EBF0F8",
           "zerolinewidth": 2
          }
         }
        },
        "title": {
         "text": "Tire Rightward Forces"
        },
        "width": 900,
        "xaxis": {
         "anchor": "y",
         "domain": [
          0,
          1
         ],
         "linecolor": "black",
         "linewidth": 1,
         "matches": "x4",
         "showgrid": false,
         "showline": true,
         "showticklabels": false,
         "tickcolor": "black",
         "ticklen": 10,
         "ticks": "outside",
         "tickwidth": 1,
         "title": {
          "text": ""
         },
         "zeroline": false
        },
        "xaxis2": {
         "anchor": "y2",
         "domain": [
          0,
          1
         ],
         "linecolor": "black",
         "linewidth": 1,
         "matches": "x4",
         "showgrid": false,
         "showline": true,
         "showticklabels": false,
         "tickcolor": "black",
         "ticklen": 10,
         "ticks": "outside",
         "tickwidth": 1,
         "title": {
          "text": ""
         },
         "zeroline": false
        },
        "xaxis3": {
         "anchor": "y3",
         "domain": [
          0,
          1
         ],
         "linecolor": "black",
         "linewidth": 1,
         "matches": "x4",
         "showgrid": false,
         "showline": true,
         "showticklabels": false,
         "tickcolor": "black",
         "ticklen": 10,
         "ticks": "outside",
         "tickwidth": 1,
         "title": {
          "text": ""
         },
         "zeroline": false
        },
        "xaxis4": {
         "anchor": "y4",
         "domain": [
          0,
          1
         ],
         "linecolor": "black",
         "linewidth": 1,
         "showgrid": false,
         "showline": true,
         "tickcolor": "black",
         "ticklen": 10,
         "ticks": "outside",
         "tickwidth": 1,
         "title": {
          "text": "Time (s)"
         },
         "zeroline": false
        },
        "yaxis": {
         "anchor": "x",
         "domain": [
          0.7875,
          1
         ],
         "linecolor": "black",
         "linewidth": 1,
         "showgrid": false,
         "showline": true,
         "tickcolor": "black",
         "ticklen": 10,
         "ticks": "outside",
         "tickwidth": 1,
         "title": {
          "text": "LF - Rightward Force (lb)"
         },
         "zeroline": false
        },
        "yaxis2": {
         "anchor": "x2",
         "domain": [
          0.525,
          0.7375
         ],
         "linecolor": "black",
         "linewidth": 1,
         "showgrid": false,
         "showline": true,
         "tickcolor": "black",
         "ticklen": 10,
         "ticks": "outside",
         "tickwidth": 1,
         "title": {
          "text": "RF - Rightward Force (lb)"
         },
         "zeroline": false
        },
        "yaxis3": {
         "anchor": "x3",
         "domain": [
          0.2625,
          0.475
         ],
         "linecolor": "black",
         "linewidth": 1,
         "showgrid": false,
         "showline": true,
         "tickcolor": "black",
         "ticklen": 10,
         "ticks": "outside",
         "tickwidth": 1,
         "title": {
          "text": "RR - Rightward Force (lb)"
         },
         "zeroline": false
        },
        "yaxis4": {
         "anchor": "x4",
         "domain": [
          0,
          0.2125
         ],
         "linecolor": "black",
         "linewidth": 1,
         "showgrid": false,
         "showline": true,
         "tickcolor": "black",
         "ticklen": 10,
         "ticks": "outside",
         "tickwidth": 1,
         "title": {
          "text": "LR - Rightward Force (lb)"
         },
         "zeroline": false
        }
       }
      },
      "text/html": [
       "<div>\n",
       "        \n",
       "        \n",
       "            <div id=\"49c0a4d7-1d4f-43b5-ac3a-04b705603fe8\" class=\"plotly-graph-div\" style=\"height:900px; width:900px;\"></div>\n",
       "            <script type=\"text/javascript\">\n",
       "                require([\"plotly\"], function(Plotly) {\n",
       "                    window.PLOTLYENV=window.PLOTLYENV || {};\n",
       "                    \n",
       "                if (document.getElementById(\"49c0a4d7-1d4f-43b5-ac3a-04b705603fe8\")) {\n",
       "                    Plotly.newPlot(\n",
       "                        '49c0a4d7-1d4f-43b5-ac3a-04b705603fe8',\n",
       "                        [{\"line\": {\"color\": \"rgb(0, 0, 255)\", \"width\": 2}, \"mode\": \"lines\", \"name\": \"LF - Pycrash\", \"type\": \"scatter\", \"x\": [0.0, 0.1, 0.2, 0.3, 0.4, 0.5, 0.6, 0.7, 0.8, 0.9, 1.0, 1.1, 1.2, 1.3, 1.4, 1.5, 1.6, 1.7, 1.8, 1.9, 2.0, 2.1, 2.2, 2.3, 2.4, 2.5, 2.6, 2.7, 2.8, 2.9, 3.0, 3.1, 3.2, 3.3, 3.4, 3.5, 3.6, 3.7, 3.8, 3.9, 4.0, 4.1, 4.2, 4.3, 4.4, 4.5, 4.6, 4.7, 4.8, 4.9, 5.0, 5.1, 5.2, 5.3, 5.4, 5.5, 5.6, 5.7, 5.8, 5.9, 6.0, 6.1, 6.2, 6.3, 6.4, 6.5, 6.6, 6.7, 6.8, 6.9, 7.0, 7.1, 7.2, 7.3, 7.4, 7.5, 7.6, 7.7, 7.8, 7.9, 8.0, 8.1, 8.2, 8.3, 8.4, 8.5, 8.6, 8.7, 8.8, 8.9, 9.0, 9.1, 9.2, 9.3, 9.4, 9.5, 9.6, 9.7, 9.8, 9.9, 10.0, 10.1, 10.2, 10.3, 10.4, 10.5, 10.6, 10.7, 10.8, 10.9], \"xaxis\": \"x\", \"y\": [0.0, 0.0, 0.0, 0.0, 0.0, 0.0, 0.0, 0.0, 0.0, 0.0, 0.0, -163.48270522485265, -294.09938274863487, -337.5386843779689, -344.2489787400807, -367.1930335377494, -418.2887345471525, -481.4536201958664, -538.9191561190863, -583.2937857599529, -615.4025363616674, -504.0146034707535, -421.7499186757791, -416.2177394558809, -447.33000409012874, -463.42420781583894, -450.3812912519188, -422.9357493522021, -398.4350833644253, -382.9437949809194, -373.2275561039607, -364.3599774275605, -354.21120649060083, -343.3094260251109, -332.8415550324118, -323.34232412946744, -314.64313345598714, -306.3851863224824, -298.3804215776318, -290.6334038804939, -283.203938192839, -276.10878997588287, -269.31626602665847, -262.7840592265808, -256.4852522572307, -250.40833189641802, -244.5458990262814, -238.88750768214135, -233.41999937905933, -228.1307176914865, -223.00924330612222, -218.04696448690038, -213.23598200373095, -208.56857528837787, -204.03731420914607, -199.63531796028585, -195.35631816379666, -191.19454212830115, -187.14458090433942, -183.20133385625863, -179.36000919118214, -175.61612548176748, -171.96549035673888, -168.40416731866978, -164.92844810413777, -161.53483562269065, -158.2200320801177, -154.9809265218116, -151.81458078656124, -148.71821589662736, -145.68920045737497, -142.7250409201817, -139.82337276826652, -136.98195205982384, -134.1986473842271, -131.4714324806589, -128.79837958303955, -126.17765335415027, -123.60750525042714, -121.08626825227213, -118.61235196551773, -116.18423809789508, -113.80047628018607, -111.4596801851928, -109.16052390826934, -106.90173859050434, -104.68210927251653, -102.50047196351196, -100.3557109063382, -98.24675602021263, -96.17258050690764, -94.1321986093163, -92.12466351204328, -90.1490653733659, -88.20452947825856, -86.29021450337817, -84.40531088618535, -82.54903929113885, -80.72064916622571, -78.91941738343965, -77.1446469573486, -75.39566583647837, -73.67182576272043, -71.9725011942897, -70.29708828803916, -68.64500393724836, -67.0156848613245, -65.4085867441373, -63.82318341793514, -62.25896609001379], \"yaxis\": \"y\"}, {\"line\": {\"color\": \"rgb(0, 0, 255)\", \"dash\": \"dash\", \"width\": 2}, \"mode\": \"lines\", \"name\": \"LF - Validate\", \"type\": \"scatter\", \"x\": [0.0, 0.1, 0.2, 0.3, 0.4, 0.5, 0.6, 0.7, 0.8, 0.9, 1.0, 1.1, 1.2, 1.3, 1.4, 1.5, 1.6, 1.7, 1.8, 1.9, 2.0, 2.1, 2.2, 2.3, 2.4, 2.5, 2.6, 2.7, 2.8, 2.9, 3.0, 3.1, 3.2, 3.3, 3.4, 3.5, 3.6, 3.7, 3.8, 3.9, 4.0, 4.1, 4.2, 4.3, 4.4, 4.5, 4.6, 4.7, 4.8, 4.9, 5.0, 5.1, 5.2, 5.3, 5.4, 5.5, 5.6, 5.7, 5.8, 5.9, 6.0, 6.1, 6.2, 6.3, 6.4, 6.5, 6.6, 6.7, 6.8, 6.9, 7.0, 7.1, 7.2, 7.3, 7.4, 7.5, 7.6, 7.7, 7.8, 7.9, 8.0, 8.1, 8.2, 8.3, 8.4, 8.5, 8.6, 8.7, 8.8, 8.9, 9.0, 9.1, 9.2, 9.3, 9.4, 9.5, 9.6, 9.7, 9.8, 9.9, 10.0, 10.1, 10.2, 10.3, 10.4, 10.5, 10.6, 10.7, 10.8, 10.9], \"xaxis\": \"x\", \"y\": [0.0, 0.0, 0.0, 0.0, 0.0, 0.0, 0.0, 0.0, 0.0, 0.0, 0.0, -141.514, -241.215, -341.58, -450.384, -567.327, -692.789, -829.8839999999999, -987.707, -1153.27, -1267.636, -1188.979, -1074.692, -993.016, -938.7489999999999, -902.576, -874.752, -850.718, -828.2199999999999, -806.446, -785.353, -765.1419999999999, -745.976, -727.915, -710.934, -694.943, -679.847, -665.5600000000001, -651.9979999999999, -639.097, -626.807, -615.077, -603.8670000000001, -593.145, -582.875, -573.028, -563.578, -554.4989999999999, -545.767, -537.363, -529.266, -521.458, -513.926, -506.65099999999995, -499.621, -492.824, -486.245, -479.87600000000003, -473.705, -467.723, -461.91900000000004, -456.288, -450.82, -445.507, -440.344, -435.32300000000004, -430.438, -425.684, -421.054, -416.545, -412.15000000000003, -407.866, -403.688, -399.613, -395.635, -391.75100000000003, -387.959, -384.25399999999996, -380.633, -377.094, -373.633, -370.24800000000005, -366.937, -363.696, -360.52299999999997, -357.417, -354.375, -351.394, -348.47299999999996, -345.611, -342.804, -340.053, -337.354, -334.706, -332.108, -329.55899999999997, -327.05600000000004, -324.59900000000005, -322.186, -319.816, -317.488, -315.2, -312.952, -310.742, -308.57, -306.43399999999997, -304.334, -302.269, -300.23699999999997, -298.23699999999997], \"yaxis\": \"y\"}, {\"line\": {\"color\": \"rgb(0, 255, 0)\", \"width\": 2}, \"mode\": \"lines\", \"name\": \"RF - Pycrash\", \"type\": \"scatter\", \"x\": [0.0, 0.1, 0.2, 0.3, 0.4, 0.5, 0.6, 0.7, 0.8, 0.9, 1.0, 1.1, 1.2, 1.3, 1.4, 1.5, 1.6, 1.7, 1.8, 1.9, 2.0, 2.1, 2.2, 2.3, 2.4, 2.5, 2.6, 2.7, 2.8, 2.9, 3.0, 3.1, 3.2, 3.3, 3.4, 3.5, 3.6, 3.7, 3.8, 3.9, 4.0, 4.1, 4.2, 4.3, 4.4, 4.5, 4.6, 4.7, 4.8, 4.9, 5.0, 5.1, 5.2, 5.3, 5.4, 5.5, 5.6, 5.7, 5.8, 5.9, 6.0, 6.1, 6.2, 6.3, 6.4, 6.5, 6.6, 6.7, 6.8, 6.9, 7.0, 7.1, 7.2, 7.3, 7.4, 7.5, 7.6, 7.7, 7.8, 7.9, 8.0, 8.1, 8.2, 8.3, 8.4, 8.5, 8.6, 8.7, 8.8, 8.9, 9.0, 9.1, 9.2, 9.3, 9.4, 9.5, 9.6, 9.7, 9.8, 9.9, 10.0, 10.1, 10.2, 10.3, 10.4, 10.5, 10.6, 10.7, 10.8, 10.9], \"xaxis\": \"x2\", \"y\": [0.0, 0.0, 0.0, 0.0, 0.0, 0.0, 0.0, 0.0, 0.0, 0.0, 0.0, -163.48270522485265, -294.3893276657279, -341.6064750295124, -359.8658598327647, -400.9866168705005, -473.38041164856725, -559.8947576718002, -643.7712048283126, -718.5504297366687, -742.1291738668782, -712.7360862620385, -659.1551892895897, -659.2919042554847, -683.0584808524546, -693.6460333779153, -681.794853315218, -659.336915985434, -639.5836685690543, -626.9835853833692, -618.8806751844629, -611.4228737412798, -602.9773860047364, -593.9762261010259, -585.3487550149819, -577.5066483650321, -570.3119080262735, -563.4805497456626, -556.8641432319331, -550.4656144838489, -544.3309643695987, -538.47220652556, -532.8633277593256, -527.4701473603742, -522.2707593643985, -517.2554798207913, -512.4179040578724, -507.74925008980705, -503.23863392677424, -498.87561752298944, -494.65157667357335, -490.5593503444052, -486.59236508107654, -482.74420952559876, -479.00872389014876, -475.3802054011007, -471.8534562154303, -468.4236876658621, -465.08641325806195, -461.8374036990464, -458.6726868848117, -455.5885484027332, -452.58151351691714, -449.6483197183909, -446.7858939707582, -443.9913386193993, -441.26192148136425, -438.59506542322436, -435.9883366583899, -433.4394334525112, -430.9461765123671, -428.50650090939996, -426.1184487530072, -423.780162156225, -421.4898765514338, -419.24591456412253, -417.04668049168896, -414.89065526857246, -412.7763917862551, -410.7025105169707, -408.66769544757426, -406.67069032614023, -404.71029519463303, -402.7853631681319, -400.8947974309751, -399.03754843473973, -397.212611288138, -395.4190233257527, -393.65586183935125, -391.92224195659264, -390.21731465547623, -388.5402649054088, -386.8903099262263, -385.2666975562415, -383.668704720736, -382.0956359933842, -380.54682224412915, -379.02161936764224, -377.5194070867429, -376.0395878254701, -374.5815856469477, -373.1448452516715, -371.72883103223626, -370.3330261807917, -368.95693184573014, -367.60006633439235, -366.2619643588342, -364.94217632193, -363.64026764128874, -362.3558181086138], \"yaxis\": \"y2\"}, {\"line\": {\"color\": \"rgb(0, 255, 0)\", \"dash\": \"dash\", \"width\": 2}, \"mode\": \"lines\", \"name\": \"RF - Validate\", \"type\": \"scatter\", \"x\": [0.0, 0.1, 0.2, 0.3, 0.4, 0.5, 0.6, 0.7, 0.8, 0.9, 1.0, 1.1, 1.2, 1.3, 1.4, 1.5, 1.6, 1.7, 1.8, 1.9, 2.0, 2.1, 2.2, 2.3, 2.4, 2.5, 2.6, 2.7, 2.8, 2.9, 3.0, 3.1, 3.2, 3.3, 3.4, 3.5, 3.6, 3.7, 3.8, 3.9, 4.0, 4.1, 4.2, 4.3, 4.4, 4.5, 4.6, 4.7, 4.8, 4.9, 5.0, 5.1, 5.2, 5.3, 5.4, 5.5, 5.6, 5.7, 5.8, 5.9, 6.0, 6.1, 6.2, 6.3, 6.4, 6.5, 6.6, 6.7, 6.8, 6.9, 7.0, 7.1, 7.2, 7.3, 7.4, 7.5, 7.6, 7.7, 7.8, 7.9, 8.0, 8.1, 8.2, 8.3, 8.4, 8.5, 8.6, 8.7, 8.8, 8.9, 9.0, 9.1, 9.2, 9.3, 9.4, 9.5, 9.6, 9.7, 9.8, 9.9, 10.0, 10.1, 10.2, 10.3, 10.4, 10.5, 10.6, 10.7, 10.8, 10.9], \"xaxis\": \"x2\", \"y\": [0.0, 0.0, 0.0, 0.0, 0.0, 0.0, 0.0, 0.0, 0.0, 0.0, 0.0, -185.408, -294.30400000000003, -369.78499999999997, -427.452, -472.012, -504.997, -504.53999999999996, -479.558, -458.05, -440.866, -439.827, -453.69100000000003, -465.039, -451.827, -444.106, -438.554, -434.108, -430.203, -426.497, -422.83, -419.15599999999995, -415.479, -411.82, -408.196, -404.619, -401.096, -397.632, -394.227, -390.881, -387.594, -384.364, -381.19199999999995, -378.07800000000003, -375.019, -372.015, -369.06600000000003, -366.17100000000005, -363.328, -360.537, -357.79699999999997, -355.106, -352.463, -349.86699999999996, -347.317, -344.813, -342.352, -339.934, -337.55800000000005, -335.22200000000004, -332.926, -330.67, -328.45099999999996, -326.26899999999995, -324.123, -322.012, -319.935, -317.892, -315.882, -313.90299999999996, -311.956, -310.03799999999995, -308.151, -306.29200000000003, -304.462, -302.65999999999997, -300.88399999999996, -299.135, -297.411, -295.713, -294.039, -292.389, -290.762, -289.159, -287.578, -286.019, -284.482, -282.96500000000003, -281.46900000000005, -279.994, -278.538, -277.101, -275.683, -274.284, -272.903, -271.539, -270.19300000000004, -268.864, -267.552, -266.256, -264.976, -263.712, -262.463, -261.229, -260.01, -258.806, -257.616, -256.44, -255.278, -254.129], \"yaxis\": \"y2\"}, {\"line\": {\"color\": \"rgb(153, 0, 204)\", \"width\": 2}, \"mode\": \"lines\", \"name\": \"RR - Pycrash\", \"type\": \"scatter\", \"x\": [0.0, 0.1, 0.2, 0.3, 0.4, 0.5, 0.6, 0.7, 0.8, 0.9, 1.0, 1.1, 1.2, 1.3, 1.4, 1.5, 1.6, 1.7, 1.8, 1.9, 2.0, 2.1, 2.2, 2.3, 2.4, 2.5, 2.6, 2.7, 2.8, 2.9, 3.0, 3.1, 3.2, 3.3, 3.4, 3.5, 3.6, 3.7, 3.8, 3.9, 4.0, 4.1, 4.2, 4.3, 4.4, 4.5, 4.6, 4.7, 4.8, 4.9, 5.0, 5.1, 5.2, 5.3, 5.4, 5.5, 5.6, 5.7, 5.8, 5.9, 6.0, 6.1, 6.2, 6.3, 6.4, 6.5, 6.6, 6.7, 6.8, 6.9, 7.0, 7.1, 7.2, 7.3, 7.4, 7.5, 7.6, 7.7, 7.8, 7.9, 8.0, 8.1, 8.2, 8.3, 8.4, 8.5, 8.6, 8.7, 8.8, 8.9, 9.0, 9.1, 9.2, 9.3, 9.4, 9.5, 9.6, 9.7, 9.8, 9.9, 10.0, 10.1, 10.2, 10.3, 10.4, 10.5, 10.6, 10.7, 10.8, 10.9], \"xaxis\": \"x3\", \"y\": [-0.0, -0.0, -0.0, -0.0, -0.0, -0.0, -0.0, -0.0, -0.0, -0.0, -0.0, -0.0, 1.830636255029813, 3.114655763501099, -6.888366473425949, -34.894764911348176, -75.90512794352244, -119.60839146444056, -158.83383536018476, -191.8477714072819, -219.87617723938493, -245.10429757991275, -267.7383615646184, -285.16271590484394, -293.26820998331607, -289.789854522032, -278.21681064598044, -264.89613025573965, -254.28134090938752, -247.0903416837056, -241.73677378356675, -236.59587444524738, -231.09889068900995, -225.4976603229236, -220.18863606580067, -215.32169568020507, -210.81487877694354, -206.5340364848177, -202.41014847040375, -198.4414945947264, -194.64447401060227, -191.01988812298993, -187.55184889312483, -184.22147786582457, -181.0160525023709, -177.92876267233726, -174.95446417915244, -172.08703901029347, -169.31955529657233, -166.64548002394497, -164.05930499995688, -161.5563421528501, -159.13227660608433, -156.7829530887767, -154.5044200619283, -152.29302753589647, -150.14544174804934, -148.0585873726004, -146.02958718058036, -144.05573621001435, -142.13449963498408, -140.26351005215736, -138.4405545532853, -136.6635572550519, -134.93056515027962, -133.2397390953438, -131.5893470843553, -129.977757139945, -128.40342955333725, -126.86490955564717, -125.36082112303166, -123.88986173191927, -122.45079755402338, -121.04245883936082, -119.66373555724799, -118.31357342756993, -116.99097035131736, -115.6949731490172, -114.42467452367711, -113.17921022414825, -111.95775641754288, -110.75952726953959, -109.5837727104517, -108.42977635970118, -107.29685359093807, -106.18434972972237, -105.09163837730964, -104.01811985088703, -102.96321972886084, -101.92638749140973, -100.90709524918243, -99.9048365543469, -98.91912528812293, -97.9494946187211, -96.99549602405855, -96.05669837446156, -95.1326870712183, -94.2230632371194, -93.32744295526273, -92.44545655264149, -91.57674792538461, -90.72097390283731, -89.87780364789567, -89.04691809116326, -88.22800939666506, -87.42078045703441, -86.62494441626797, -85.84022421829256, -85.06635217970317, -84.30306958514275], \"yaxis\": \"y3\"}, {\"line\": {\"color\": \"rgb(153, 0, 204)\", \"dash\": \"dash\", \"width\": 2}, \"mode\": \"lines\", \"name\": \"RR - Validate\", \"type\": \"scatter\", \"x\": [0.0, 0.1, 0.2, 0.3, 0.4, 0.5, 0.6, 0.7, 0.8, 0.9, 1.0, 1.1, 1.2, 1.3, 1.4, 1.5, 1.6, 1.7, 1.8, 1.9, 2.0, 2.1, 2.2, 2.3, 2.4, 2.5, 2.6, 2.7, 2.8, 2.9, 3.0, 3.1, 3.2, 3.3, 3.4, 3.5, 3.6, 3.7, 3.8, 3.9, 4.0, 4.1, 4.2, 4.3, 4.4, 4.5, 4.6, 4.7, 4.8, 4.9, 5.0, 5.1, 5.2, 5.3, 5.4, 5.5, 5.6, 5.7, 5.8, 5.9, 6.0, 6.1, 6.2, 6.3, 6.4, 6.5, 6.6, 6.7, 6.8, 6.9, 7.0, 7.1, 7.2, 7.3, 7.4, 7.5, 7.6, 7.7, 7.8, 7.9, 8.0, 8.1, 8.2, 8.3, 8.4, 8.5, 8.6, 8.7, 8.8, 8.9, 9.0, 9.1, 9.2, 9.3, 9.4, 9.5, 9.6, 9.7, 9.8, 9.9, 10.0, 10.1, 10.2, 10.3, 10.4, 10.5, 10.6, 10.7, 10.8, 10.9], \"xaxis\": \"x3\", \"y\": [0.0, 0.0, 0.0, 0.0, 0.0, 0.0, 0.0, 0.0, 0.0, 0.0, 0.0, 1.2049999999999998, -2.83, -35.617000000000004, -63.495, -88.541, -108.7, -123.605, -133.206, -135.905, -134.152, -143.161, -166.136, -184.367, -195.416, -200.251, -201.481, -201.35500000000002, -200.936, -200.533, -200.13500000000002, -199.666, -199.08, -198.374, -197.56699999999998, -196.688, -195.759, -194.793, -193.801, -192.78699999999998, -191.756, -190.71099999999998, -189.65699999999998, -188.595, -187.529, -186.46099999999998, -185.392, -184.325, -183.261, -182.201, -181.14600000000002, -180.098, -179.05599999999998, -178.02200000000002, -176.99599999999998, -175.97899999999998, -174.97099999999998, -173.97199999999998, -172.982, -172.00199999999998, -171.033, -170.073, -169.123, -168.184, -167.255, -166.336, -165.428, -164.529, -163.64100000000002, -162.76299999999998, -161.895, -161.037, -160.189, -159.35, -158.522, -157.703, -156.893, -156.09300000000002, -155.302, -154.51999999999998, -153.748, -152.984, -152.229, -151.483, -150.74499999999998, -150.01600000000002, -149.29500000000002, -148.582, -147.877, -147.18, -146.491, -145.81, -145.136, -144.47, -143.811, -143.16, -142.51500000000001, -141.87800000000001, -141.24800000000002, -140.624, -140.007, -139.397, -138.793, -138.19600000000003, -137.60500000000002, -137.02, -136.441, -135.868, -135.30100000000002, -134.74099999999999], \"yaxis\": \"y3\"}, {\"line\": {\"color\": \"rgb(255, 102, 0)\", \"width\": 2}, \"mode\": \"lines\", \"name\": \"LR - Pycrash\", \"type\": \"scatter\", \"x\": [0.0, 0.1, 0.2, 0.3, 0.4, 0.5, 0.6, 0.7, 0.8, 0.9, 1.0, 1.1, 1.2, 1.3, 1.4, 1.5, 1.6, 1.7, 1.8, 1.9, 2.0, 2.1, 2.2, 2.3, 2.4, 2.5, 2.6, 2.7, 2.8, 2.9, 3.0, 3.1, 3.2, 3.3, 3.4, 3.5, 3.6, 3.7, 3.8, 3.9, 4.0, 4.1, 4.2, 4.3, 4.4, 4.5, 4.6, 4.7, 4.8, 4.9, 5.0, 5.1, 5.2, 5.3, 5.4, 5.5, 5.6, 5.7, 5.8, 5.9, 6.0, 6.1, 6.2, 6.3, 6.4, 6.5, 6.6, 6.7, 6.8, 6.9, 7.0, 7.1, 7.2, 7.3, 7.4, 7.5, 7.6, 7.7, 7.8, 7.9, 8.0, 8.1, 8.2, 8.3, 8.4, 8.5, 8.6, 8.7, 8.8, 8.9, 9.0, 9.1, 9.2, 9.3, 9.4, 9.5, 9.6, 9.7, 9.8, 9.9, 10.0, 10.1, 10.2, 10.3, 10.4, 10.5, 10.6, 10.7, 10.8, 10.9], \"xaxis\": \"x4\", \"y\": [-0.0, -0.0, -0.0, -0.0, -0.0, -0.0, -0.0, -0.0, -0.0, -0.0, -0.0, -0.0, 1.841255743457207, 3.1843282037286644, -7.205468022873564, -37.40784150052905, -83.3286059975654, -134.31212554640499, -182.32607893000608, -225.08387048433664, -263.66878061812054, -300.2224330261814, -332.92613315627113, -356.18491256950364, -365.55932191378, -360.2381013558764, -345.531068493713, -329.139555183915, -316.17050997695435, -307.3331574599588, -300.68301348998165, -294.2800906640951, -287.4579393736969, -280.5253345749438, -273.9576107000205, -267.932215799475, -262.3484674339572, -257.0437152458777, -251.93425288671577, -247.01769539792835, -242.3135351574214, -237.82238271135478, -233.52465382979136, -229.39717766372186, -225.42429565801206, -221.5975609808993, -217.91056766811062, -214.35573298875062, -210.92449186155517, -207.6087766373694, -204.40178070214813, -201.29770658931767, -198.29121787197, -195.37717718440635, -192.5507003246015, -189.8072761195034, -187.1427840555924, -184.55342286917946, -182.03563613733476, -179.5860804478592, -177.20162276080853, -174.87933700267155, -172.6164880378129, -170.41051005202362, -168.25898906828974, -166.1596518209889, -164.1103574491389, -162.10908870417865, -160.1539423499563, -158.24312010093382, -156.3749209681943, -154.54773478138875, -152.76003625189986, -151.01037926609914, -149.2973914975212, -147.6197695028703, -145.9762743124691, -144.36572740105373, -142.7870069354118, -141.2390442694476, -139.72082069780893, -138.23136446669105, -136.76974801423566, -135.33508540653233, -133.92652994729656, -132.54327195134405, -131.18453667393115, -129.8495823839935, -128.53769856714635, -127.24820424634328, -125.98044641141739, -124.73379855036488, -123.50765927511698, -122.30145103427944, -121.11461890587896, -119.94662946420212, -118.7969697156225, -117.66514609864456, -116.55068354356155, -115.45312458742566, -114.37202854046312, -113.30697070046264, -112.2575416119421, -111.22334636709031, -110.20400394568459, -109.19914659141077, -108.20841922223286, -107.23147887264315, -106.26799416576715, -105.3176448134331], \"yaxis\": \"y4\"}, {\"line\": {\"color\": \"rgb(255, 102, 0)\", \"dash\": \"dash\", \"width\": 2}, \"mode\": \"lines\", \"name\": \"LR - Validate\", \"type\": \"scatter\", \"x\": [0.0, 0.1, 0.2, 0.3, 0.4, 0.5, 0.6, 0.7, 0.8, 0.9, 1.0, 1.1, 1.2, 1.3, 1.4, 1.5, 1.6, 1.7, 1.8, 1.9, 2.0, 2.1, 2.2, 2.3, 2.4, 2.5, 2.6, 2.7, 2.8, 2.9, 3.0, 3.1, 3.2, 3.3, 3.4, 3.5, 3.6, 3.7, 3.8, 3.9, 4.0, 4.1, 4.2, 4.3, 4.4, 4.5, 4.6, 4.7, 4.8, 4.9, 5.0, 5.1, 5.2, 5.3, 5.4, 5.5, 5.6, 5.7, 5.8, 5.9, 6.0, 6.1, 6.2, 6.3, 6.4, 6.5, 6.6, 6.7, 6.8, 6.9, 7.0, 7.1, 7.2, 7.3, 7.4, 7.5, 7.6, 7.7, 7.8, 7.9, 8.0, 8.1, 8.2, 8.3, 8.4, 8.5, 8.6, 8.7, 8.8, 8.9, 9.0, 9.1, 9.2, 9.3, 9.4, 9.5, 9.6, 9.7, 9.8, 9.9, 10.0, 10.1, 10.2, 10.3, 10.4, 10.5, 10.6, 10.7, 10.8, 10.9], \"xaxis\": \"x4\", \"y\": [0.0, 0.0, 0.0, 0.0, 0.0, 0.0, 0.0, 0.0, 0.0, 0.0, 0.0, 1.2730000000000001, -3.763, -50.338, -100.22300000000001, -155.095, -211.581, -268.129, -319.84299999999996, -363.83500000000004, -402.092, -439.50800000000004, -465.912, -473.837, -470.66400000000004, -461.106, -449.522, -437.739, -426.236, -415.071, -404.27200000000005, -393.906, -384.038, -374.709, -365.926, -357.65799999999996, -349.862, -342.49600000000004, -335.51300000000003, -328.878, -322.564, -316.542, -310.79200000000003, -305.29499999999996, -300.03400000000005, -294.99199999999996, -290.156, -285.511, -281.045, -276.75, -272.612, -268.62399999999997, -264.777, -261.063, -257.474, -254.00499999999997, -250.64799999999997, -247.399, -244.251, -241.19899999999998, -238.24, -235.368, -232.58, -229.87099999999998, -227.239, -224.679, -222.189, -219.765, -217.405, -215.107, -212.867, -210.68300000000002, -208.553, -206.476, -204.44799999999998, -202.46800000000002, -200.535, -198.646, -196.8, -194.996, -193.232, -191.506, -189.817, -188.165, -186.547, -184.963, -183.411, -181.891, -180.401, -178.941, -177.51, -176.10600000000002, -174.72899999999998, -173.37800000000001, -172.05200000000002, -170.75099999999998, -169.47400000000002, -168.22, -166.988, -165.779, -164.58999999999997, -163.42200000000003, -162.274, -161.14600000000002, -160.037, -158.946, -157.874, -156.818, -155.78, -154.75900000000001], \"yaxis\": \"y4\"}],\n",
       "                        {\"autosize\": false, \"font\": {\"color\": \"black\", \"family\": \"Arial\", \"size\": 14}, \"height\": 900, \"legend\": {\"orientation\": \"h\", \"x\": 0.01, \"xanchor\": \"left\", \"y\": 1.1, \"yanchor\": \"top\"}, \"template\": {\"data\": {\"bar\": [{\"error_x\": {\"color\": \"#2a3f5f\"}, \"error_y\": {\"color\": \"#2a3f5f\"}, \"marker\": {\"line\": {\"color\": \"white\", \"width\": 0.5}}, \"type\": \"bar\"}], \"barpolar\": [{\"marker\": {\"line\": {\"color\": \"white\", \"width\": 0.5}}, \"type\": \"barpolar\"}], \"carpet\": [{\"aaxis\": {\"endlinecolor\": \"#2a3f5f\", \"gridcolor\": \"#C8D4E3\", \"linecolor\": \"#C8D4E3\", \"minorgridcolor\": \"#C8D4E3\", \"startlinecolor\": \"#2a3f5f\"}, \"baxis\": {\"endlinecolor\": \"#2a3f5f\", \"gridcolor\": \"#C8D4E3\", \"linecolor\": \"#C8D4E3\", \"minorgridcolor\": \"#C8D4E3\", \"startlinecolor\": \"#2a3f5f\"}, \"type\": \"carpet\"}], \"choropleth\": [{\"colorbar\": {\"outlinewidth\": 0, \"ticks\": \"\"}, \"type\": \"choropleth\"}], \"contour\": [{\"colorbar\": {\"outlinewidth\": 0, \"ticks\": \"\"}, \"colorscale\": [[0.0, \"#0d0887\"], [0.1111111111111111, \"#46039f\"], [0.2222222222222222, \"#7201a8\"], [0.3333333333333333, \"#9c179e\"], [0.4444444444444444, \"#bd3786\"], [0.5555555555555556, \"#d8576b\"], [0.6666666666666666, \"#ed7953\"], [0.7777777777777778, \"#fb9f3a\"], [0.8888888888888888, \"#fdca26\"], [1.0, \"#f0f921\"]], \"type\": \"contour\"}], \"contourcarpet\": [{\"colorbar\": {\"outlinewidth\": 0, \"ticks\": \"\"}, \"type\": \"contourcarpet\"}], \"heatmap\": [{\"colorbar\": {\"outlinewidth\": 0, \"ticks\": \"\"}, \"colorscale\": [[0.0, \"#0d0887\"], [0.1111111111111111, \"#46039f\"], [0.2222222222222222, \"#7201a8\"], [0.3333333333333333, \"#9c179e\"], [0.4444444444444444, \"#bd3786\"], [0.5555555555555556, \"#d8576b\"], [0.6666666666666666, \"#ed7953\"], [0.7777777777777778, \"#fb9f3a\"], [0.8888888888888888, \"#fdca26\"], [1.0, \"#f0f921\"]], \"type\": \"heatmap\"}], \"heatmapgl\": [{\"colorbar\": {\"outlinewidth\": 0, \"ticks\": \"\"}, \"colorscale\": [[0.0, \"#0d0887\"], [0.1111111111111111, \"#46039f\"], [0.2222222222222222, \"#7201a8\"], [0.3333333333333333, \"#9c179e\"], [0.4444444444444444, \"#bd3786\"], [0.5555555555555556, \"#d8576b\"], [0.6666666666666666, \"#ed7953\"], [0.7777777777777778, \"#fb9f3a\"], [0.8888888888888888, \"#fdca26\"], [1.0, \"#f0f921\"]], \"type\": \"heatmapgl\"}], \"histogram\": [{\"marker\": {\"colorbar\": {\"outlinewidth\": 0, \"ticks\": \"\"}}, \"type\": \"histogram\"}], \"histogram2d\": [{\"colorbar\": {\"outlinewidth\": 0, \"ticks\": \"\"}, \"colorscale\": [[0.0, \"#0d0887\"], [0.1111111111111111, \"#46039f\"], [0.2222222222222222, \"#7201a8\"], [0.3333333333333333, \"#9c179e\"], [0.4444444444444444, \"#bd3786\"], [0.5555555555555556, \"#d8576b\"], [0.6666666666666666, \"#ed7953\"], [0.7777777777777778, \"#fb9f3a\"], [0.8888888888888888, \"#fdca26\"], [1.0, \"#f0f921\"]], \"type\": \"histogram2d\"}], \"histogram2dcontour\": [{\"colorbar\": {\"outlinewidth\": 0, \"ticks\": \"\"}, \"colorscale\": [[0.0, \"#0d0887\"], [0.1111111111111111, \"#46039f\"], [0.2222222222222222, \"#7201a8\"], [0.3333333333333333, \"#9c179e\"], [0.4444444444444444, \"#bd3786\"], [0.5555555555555556, \"#d8576b\"], [0.6666666666666666, \"#ed7953\"], [0.7777777777777778, \"#fb9f3a\"], [0.8888888888888888, \"#fdca26\"], [1.0, \"#f0f921\"]], \"type\": \"histogram2dcontour\"}], \"mesh3d\": [{\"colorbar\": {\"outlinewidth\": 0, \"ticks\": \"\"}, \"type\": \"mesh3d\"}], \"parcoords\": [{\"line\": {\"colorbar\": {\"outlinewidth\": 0, \"ticks\": \"\"}}, \"type\": \"parcoords\"}], \"pie\": [{\"automargin\": true, \"type\": \"pie\"}], \"scatter\": [{\"marker\": {\"colorbar\": {\"outlinewidth\": 0, \"ticks\": \"\"}}, \"type\": \"scatter\"}], \"scatter3d\": [{\"line\": {\"colorbar\": {\"outlinewidth\": 0, \"ticks\": \"\"}}, \"marker\": {\"colorbar\": {\"outlinewidth\": 0, \"ticks\": \"\"}}, \"type\": \"scatter3d\"}], \"scattercarpet\": [{\"marker\": {\"colorbar\": {\"outlinewidth\": 0, \"ticks\": \"\"}}, \"type\": \"scattercarpet\"}], \"scattergeo\": [{\"marker\": {\"colorbar\": {\"outlinewidth\": 0, \"ticks\": \"\"}}, \"type\": \"scattergeo\"}], \"scattergl\": [{\"marker\": {\"colorbar\": {\"outlinewidth\": 0, \"ticks\": \"\"}}, \"type\": \"scattergl\"}], \"scattermapbox\": [{\"marker\": {\"colorbar\": {\"outlinewidth\": 0, \"ticks\": \"\"}}, \"type\": \"scattermapbox\"}], \"scatterpolar\": [{\"marker\": {\"colorbar\": {\"outlinewidth\": 0, \"ticks\": \"\"}}, \"type\": \"scatterpolar\"}], \"scatterpolargl\": [{\"marker\": {\"colorbar\": {\"outlinewidth\": 0, \"ticks\": \"\"}}, \"type\": \"scatterpolargl\"}], \"scatterternary\": [{\"marker\": {\"colorbar\": {\"outlinewidth\": 0, \"ticks\": \"\"}}, \"type\": \"scatterternary\"}], \"surface\": [{\"colorbar\": {\"outlinewidth\": 0, \"ticks\": \"\"}, \"colorscale\": [[0.0, \"#0d0887\"], [0.1111111111111111, \"#46039f\"], [0.2222222222222222, \"#7201a8\"], [0.3333333333333333, \"#9c179e\"], [0.4444444444444444, \"#bd3786\"], [0.5555555555555556, \"#d8576b\"], [0.6666666666666666, \"#ed7953\"], [0.7777777777777778, \"#fb9f3a\"], [0.8888888888888888, \"#fdca26\"], [1.0, \"#f0f921\"]], \"type\": \"surface\"}], \"table\": [{\"cells\": {\"fill\": {\"color\": \"#EBF0F8\"}, \"line\": {\"color\": \"white\"}}, \"header\": {\"fill\": {\"color\": \"#C8D4E3\"}, \"line\": {\"color\": \"white\"}}, \"type\": \"table\"}]}, \"layout\": {\"annotationdefaults\": {\"arrowcolor\": \"#2a3f5f\", \"arrowhead\": 0, \"arrowwidth\": 1}, \"coloraxis\": {\"colorbar\": {\"outlinewidth\": 0, \"ticks\": \"\"}}, \"colorscale\": {\"diverging\": [[0, \"#8e0152\"], [0.1, \"#c51b7d\"], [0.2, \"#de77ae\"], [0.3, \"#f1b6da\"], [0.4, \"#fde0ef\"], [0.5, \"#f7f7f7\"], [0.6, \"#e6f5d0\"], [0.7, \"#b8e186\"], [0.8, \"#7fbc41\"], [0.9, \"#4d9221\"], [1, \"#276419\"]], \"sequential\": [[0.0, \"#0d0887\"], [0.1111111111111111, \"#46039f\"], [0.2222222222222222, \"#7201a8\"], [0.3333333333333333, \"#9c179e\"], [0.4444444444444444, \"#bd3786\"], [0.5555555555555556, \"#d8576b\"], [0.6666666666666666, \"#ed7953\"], [0.7777777777777778, \"#fb9f3a\"], [0.8888888888888888, \"#fdca26\"], [1.0, \"#f0f921\"]], \"sequentialminus\": [[0.0, \"#0d0887\"], [0.1111111111111111, \"#46039f\"], [0.2222222222222222, \"#7201a8\"], [0.3333333333333333, \"#9c179e\"], [0.4444444444444444, \"#bd3786\"], [0.5555555555555556, \"#d8576b\"], [0.6666666666666666, \"#ed7953\"], [0.7777777777777778, \"#fb9f3a\"], [0.8888888888888888, \"#fdca26\"], [1.0, \"#f0f921\"]]}, \"colorway\": [\"#636efa\", \"#EF553B\", \"#00cc96\", \"#ab63fa\", \"#FFA15A\", \"#19d3f3\", \"#FF6692\", \"#B6E880\", \"#FF97FF\", \"#FECB52\"], \"font\": {\"color\": \"#2a3f5f\"}, \"geo\": {\"bgcolor\": \"white\", \"lakecolor\": \"white\", \"landcolor\": \"white\", \"showlakes\": true, \"showland\": true, \"subunitcolor\": \"#C8D4E3\"}, \"hoverlabel\": {\"align\": \"left\"}, \"hovermode\": \"closest\", \"mapbox\": {\"style\": \"light\"}, \"paper_bgcolor\": \"white\", \"plot_bgcolor\": \"white\", \"polar\": {\"angularaxis\": {\"gridcolor\": \"#EBF0F8\", \"linecolor\": \"#EBF0F8\", \"ticks\": \"\"}, \"bgcolor\": \"white\", \"radialaxis\": {\"gridcolor\": \"#EBF0F8\", \"linecolor\": \"#EBF0F8\", \"ticks\": \"\"}}, \"scene\": {\"xaxis\": {\"backgroundcolor\": \"white\", \"gridcolor\": \"#DFE8F3\", \"gridwidth\": 2, \"linecolor\": \"#EBF0F8\", \"showbackground\": true, \"ticks\": \"\", \"zerolinecolor\": \"#EBF0F8\"}, \"yaxis\": {\"backgroundcolor\": \"white\", \"gridcolor\": \"#DFE8F3\", \"gridwidth\": 2, \"linecolor\": \"#EBF0F8\", \"showbackground\": true, \"ticks\": \"\", \"zerolinecolor\": \"#EBF0F8\"}, \"zaxis\": {\"backgroundcolor\": \"white\", \"gridcolor\": \"#DFE8F3\", \"gridwidth\": 2, \"linecolor\": \"#EBF0F8\", \"showbackground\": true, \"ticks\": \"\", \"zerolinecolor\": \"#EBF0F8\"}}, \"shapedefaults\": {\"line\": {\"color\": \"#2a3f5f\"}}, \"ternary\": {\"aaxis\": {\"gridcolor\": \"#DFE8F3\", \"linecolor\": \"#A2B1C6\", \"ticks\": \"\"}, \"baxis\": {\"gridcolor\": \"#DFE8F3\", \"linecolor\": \"#A2B1C6\", \"ticks\": \"\"}, \"bgcolor\": \"white\", \"caxis\": {\"gridcolor\": \"#DFE8F3\", \"linecolor\": \"#A2B1C6\", \"ticks\": \"\"}}, \"title\": {\"x\": 0.05}, \"xaxis\": {\"automargin\": true, \"gridcolor\": \"#EBF0F8\", \"linecolor\": \"#EBF0F8\", \"ticks\": \"\", \"title\": {\"standoff\": 15}, \"zerolinecolor\": \"#EBF0F8\", \"zerolinewidth\": 2}, \"yaxis\": {\"automargin\": true, \"gridcolor\": \"#EBF0F8\", \"linecolor\": \"#EBF0F8\", \"ticks\": \"\", \"title\": {\"standoff\": 15}, \"zerolinecolor\": \"#EBF0F8\", \"zerolinewidth\": 2}}}, \"title\": {\"text\": \"Tire Rightward Forces\"}, \"width\": 900, \"xaxis\": {\"anchor\": \"y\", \"domain\": [0.0, 1.0], \"linecolor\": \"black\", \"linewidth\": 1, \"matches\": \"x4\", \"showgrid\": false, \"showline\": true, \"showticklabels\": false, \"tickcolor\": \"black\", \"ticklen\": 10, \"ticks\": \"outside\", \"tickwidth\": 1, \"title\": {\"text\": \"\"}, \"zeroline\": false}, \"xaxis2\": {\"anchor\": \"y2\", \"domain\": [0.0, 1.0], \"linecolor\": \"black\", \"linewidth\": 1, \"matches\": \"x4\", \"showgrid\": false, \"showline\": true, \"showticklabels\": false, \"tickcolor\": \"black\", \"ticklen\": 10, \"ticks\": \"outside\", \"tickwidth\": 1, \"title\": {\"text\": \"\"}, \"zeroline\": false}, \"xaxis3\": {\"anchor\": \"y3\", \"domain\": [0.0, 1.0], \"linecolor\": \"black\", \"linewidth\": 1, \"matches\": \"x4\", \"showgrid\": false, \"showline\": true, \"showticklabels\": false, \"tickcolor\": \"black\", \"ticklen\": 10, \"ticks\": \"outside\", \"tickwidth\": 1, \"title\": {\"text\": \"\"}, \"zeroline\": false}, \"xaxis4\": {\"anchor\": \"y4\", \"domain\": [0.0, 1.0], \"linecolor\": \"black\", \"linewidth\": 1, \"showgrid\": false, \"showline\": true, \"tickcolor\": \"black\", \"ticklen\": 10, \"ticks\": \"outside\", \"tickwidth\": 1, \"title\": {\"text\": \"Time (s)\"}, \"zeroline\": false}, \"yaxis\": {\"anchor\": \"x\", \"domain\": [0.7875, 1.0], \"linecolor\": \"black\", \"linewidth\": 1, \"showgrid\": false, \"showline\": true, \"tickcolor\": \"black\", \"ticklen\": 10, \"ticks\": \"outside\", \"tickwidth\": 1, \"title\": {\"text\": \"LF - Rightward Force (lb)\"}, \"zeroline\": false}, \"yaxis2\": {\"anchor\": \"x2\", \"domain\": [0.525, 0.7375], \"linecolor\": \"black\", \"linewidth\": 1, \"showgrid\": false, \"showline\": true, \"tickcolor\": \"black\", \"ticklen\": 10, \"ticks\": \"outside\", \"tickwidth\": 1, \"title\": {\"text\": \"RF - Rightward Force (lb)\"}, \"zeroline\": false}, \"yaxis3\": {\"anchor\": \"x3\", \"domain\": [0.2625, 0.475], \"linecolor\": \"black\", \"linewidth\": 1, \"showgrid\": false, \"showline\": true, \"tickcolor\": \"black\", \"ticklen\": 10, \"ticks\": \"outside\", \"tickwidth\": 1, \"title\": {\"text\": \"RR - Rightward Force (lb)\"}, \"zeroline\": false}, \"yaxis4\": {\"anchor\": \"x4\", \"domain\": [0.0, 0.2125], \"linecolor\": \"black\", \"linewidth\": 1, \"showgrid\": false, \"showline\": true, \"tickcolor\": \"black\", \"ticklen\": 10, \"ticks\": \"outside\", \"tickwidth\": 1, \"title\": {\"text\": \"LR - Rightward Force (lb)\"}, \"zeroline\": false}},\n",
       "                        {\"responsive\": true}\n",
       "                    ).then(function(){\n",
       "                            \n",
       "var gd = document.getElementById('49c0a4d7-1d4f-43b5-ac3a-04b705603fe8');\n",
       "var x = new MutationObserver(function (mutations, observer) {{\n",
       "        var display = window.getComputedStyle(gd).display;\n",
       "        if (!display || display === 'none') {{\n",
       "            console.log([gd, 'removed!']);\n",
       "            Plotly.purge(gd);\n",
       "            observer.disconnect();\n",
       "        }}\n",
       "}});\n",
       "\n",
       "// Listen for the removal of the full notebook cells\n",
       "var notebookContainer = gd.closest('#notebook-container');\n",
       "if (notebookContainer) {{\n",
       "    x.observe(notebookContainer, {childList: true});\n",
       "}}\n",
       "\n",
       "// Listen for the clearing of the current output cell\n",
       "var outputEl = gd.closest('.output');\n",
       "if (outputEl) {{\n",
       "    x.observe(outputEl, {childList: true});\n",
       "}}\n",
       "\n",
       "                        })\n",
       "                };\n",
       "                });\n",
       "            </script>\n",
       "        </div>"
      ]
     },
     "metadata": {},
     "output_type": "display_data"
    },
    {
     "data": {
      "application/vnd.plotly.v1+json": {
       "config": {
        "plotlyServerURL": "https://plot.ly"
       },
       "data": [
        {
         "line": {
          "color": "rgb(0, 255, 0)",
          "width": 2
         },
         "mode": "lines",
         "name": "pycrash - ax",
         "type": "scatter",
         "x": [
          0,
          0.1,
          0.2,
          0.3,
          0.4,
          0.5,
          0.6,
          0.7,
          0.8,
          0.9,
          1,
          1.1,
          1.2,
          1.3,
          1.4,
          1.5,
          1.6,
          1.7,
          1.8,
          1.9,
          2,
          2.1,
          2.2,
          2.3,
          2.4,
          2.5,
          2.6,
          2.7,
          2.8,
          2.9,
          3,
          3.1,
          3.2,
          3.3,
          3.4,
          3.5,
          3.6,
          3.7,
          3.8,
          3.9,
          4,
          4.1,
          4.2,
          4.3,
          4.4,
          4.5,
          4.6,
          4.7,
          4.8,
          4.9,
          5,
          5.1,
          5.2,
          5.3,
          5.4,
          5.5,
          5.6,
          5.7,
          5.8,
          5.9,
          6,
          6.1,
          6.2,
          6.3,
          6.4,
          6.5,
          6.6,
          6.7,
          6.8,
          6.9,
          7,
          7.1,
          7.2,
          7.3,
          7.4,
          7.5,
          7.6,
          7.7,
          7.8,
          7.9,
          8,
          8.1,
          8.2,
          8.3,
          8.4,
          8.5,
          8.6,
          8.7,
          8.8,
          8.9,
          9,
          9.1,
          9.2,
          9.3,
          9.4,
          9.5,
          9.6,
          9.7,
          9.8,
          9.9,
          10,
          10.1,
          10.2,
          10.3,
          10.4,
          10.5,
          10.6,
          10.7,
          10.8,
          10.9
         ],
         "xaxis": "x",
         "y": [
          0,
          0,
          0,
          0,
          0,
          0,
          0,
          0,
          0,
          0,
          0,
          -0.003527445092095549,
          -0.013422746017752835,
          -0.02370282024706802,
          -0.03316637702745484,
          -0.045673778380138925,
          -0.06420349078872487,
          -0.08829395240312836,
          -0.11573611023059627,
          -0.14485156832280857,
          -0.16978556166525002,
          -0.15388689753944249,
          -0.13670601134884552,
          -0.13602362730596831,
          -0.1429643545140099,
          -0.14633889354245952,
          -0.14319044634679073,
          -0.13687897131755666,
          -0.13128201748370236,
          -0.12772919926474594,
          -0.1254755464900104,
          -0.12341081612334301,
          -0.12105913241076617,
          -0.11854193495102902,
          -0.11612687739260885,
          -0.1139336551838874,
          -0.11192349175943393,
          -0.11001509226905573,
          -0.1081658994127362,
          -0.10637686056129049,
          -0.10466135736393518,
          -0.10302302961810776,
          -0.10145457898551494,
          -0.09994633177143841,
          -0.09849211311724047,
          -0.0970892421391658,
          -0.09573597302160503,
          -0.09442987393552724,
          -0.09316790414146035,
          -0.09194714279738328,
          -0.0907651814000951,
          -0.0896200251098228,
          -0.08850984351337224,
          -0.0874328492944909,
          -0.08638732368649135,
          -0.08537167519819432,
          -0.0843844536548065,
          -0.08342432332277902,
          -0.08249003268924399,
          -0.08158040176409802,
          -0.08069432214533848,
          -0.07983075727519232,
          -0.07898873746665187,
          -0.07816735223512114,
          -0.07736574392487891,
          -0.0765831037691926,
          -0.07581866913485781,
          -0.07507172062863464,
          -0.07434157884069187,
          -0.07362760119484087,
          -0.07292917926584265,
          -0.0722457365264623,
          -0.07157672630607306,
          -0.07092162983143002,
          -0.07027995436395472,
          -0.06965123149137907,
          -0.06903501558776784,
          -0.0684308824095671,
          -0.06783842779100273,
          -0.06725726642411799,
          -0.06668703072497963,
          -0.0661273697868639,
          -0.0655779484132166,
          -0.06503844621946178,
          -0.06450855679532586,
          -0.0639879869233774,
          -0.06347645585100592,
          -0.06297369461224389,
          -0.062479445394939326,
          -0.061993460949040395,
          -0.06151550403272126,
          -0.06104534689379349,
          -0.060582770783998444,
          -0.0601275655037031,
          -0.05967952897461095,
          -0.05923846683838648,
          -0.05880419207938389,
          -0.05837652466984465,
          -0.0579552912360009,
          -0.05754032474360496,
          -0.0571314642015298,
          -0.05672855438222073,
          -0.056331445557888354,
          -0.055939993251407846,
          -0.05555405800095173,
          -0.05517350513745889,
          -0.05479820457411499,
          -0.05442803060708548,
          -0.054062861726795725,
          -0.05370258043910083
         ],
         "yaxis": "y"
        },
        {
         "line": {
          "color": "rgb(0, 255, 0)",
          "dash": "dash",
          "width": 2
         },
         "mode": "lines",
         "name": "validate - ax",
         "type": "scatter",
         "x": [
          0,
          0.1,
          0.2,
          0.3,
          0.4,
          0.5,
          0.6,
          0.7,
          0.8,
          0.9,
          1,
          1.1,
          1.2,
          1.3,
          1.4,
          1.5,
          1.6,
          1.7,
          1.8,
          1.9,
          2,
          2.1,
          2.2,
          2.3,
          2.4,
          2.5,
          2.6,
          2.7,
          2.8,
          2.9,
          3,
          3.1,
          3.2,
          3.3,
          3.4,
          3.5,
          3.6,
          3.7,
          3.8,
          3.9,
          4,
          4.1,
          4.2,
          4.3,
          4.4,
          4.5,
          4.6,
          4.7,
          4.8,
          4.9,
          5,
          5.1,
          5.2,
          5.3,
          5.4,
          5.5,
          5.6,
          5.7,
          5.8,
          5.9,
          6,
          6.1,
          6.2,
          6.3,
          6.4,
          6.5,
          6.6,
          6.7,
          6.8,
          6.9,
          7,
          7.1,
          7.2,
          7.3,
          7.4,
          7.5,
          7.6,
          7.7,
          7.8,
          7.9,
          8,
          8.1,
          8.2,
          8.3,
          8.4,
          8.5,
          8.6,
          8.7,
          8.8,
          8.9,
          9,
          9.1,
          9.2,
          9.3,
          9.4,
          9.5,
          9.6,
          9.7,
          9.8,
          9.9,
          10,
          10.1,
          10.2,
          10.3,
          10.4,
          10.5,
          10.6,
          10.7,
          10.8,
          10.9
         ],
         "xaxis": "x",
         "y": [
          0,
          0,
          0,
          0,
          0,
          0,
          0,
          0,
          0,
          0,
          0,
          -0.004057,
          -0.013866,
          -0.027818,
          -0.045629,
          -0.067071,
          -0.091975,
          -0.118056,
          -0.146114,
          -0.178055,
          -0.207538,
          -0.200021,
          -0.188624,
          -0.180731,
          -0.172537,
          -0.167271,
          -0.1633,
          -0.159929,
          -0.156809,
          -0.153799,
          -0.15087,
          -0.148039,
          -0.145328,
          -0.142744,
          -0.140289,
          -0.137953,
          -0.135727,
          -0.133601,
          -0.131567,
          -0.129615,
          -0.127742,
          -0.125941,
          -0.124207,
          -0.122537,
          -0.120926,
          -0.119372,
          -0.11787,
          -0.116419,
          -0.115014,
          -0.113654,
          -0.112337,
          -0.111059,
          -0.10982,
          -0.108616,
          -0.107447,
          -0.106312,
          -0.105207,
          -0.104132,
          -0.103086,
          -0.102068,
          -0.101075,
          -0.100107,
          -0.099164,
          -0.098244,
          -0.097345,
          -0.096468,
          -0.095612,
          -0.094775,
          -0.093957,
          -0.093157,
          -0.092375,
          -0.09161,
          -0.090861,
          -0.090128,
          -0.08941,
          -0.088707,
          -0.088018,
          -0.087343,
          -0.086681,
          -0.086033,
          -0.085396,
          -0.084772,
          -0.084159,
          -0.083558,
          -0.082968,
          -0.082388,
          -0.081819,
          -0.08126,
          -0.080711,
          -0.080171,
          -0.079641,
          -0.079119,
          -0.078607,
          -0.078102,
          -0.077606,
          -0.077119,
          -0.076638,
          -0.076166,
          -0.075701,
          -0.075243,
          -0.074793,
          -0.074349,
          -0.073912,
          -0.073482,
          -0.073058,
          -0.07264,
          -0.072228,
          -0.071822,
          -0.071423,
          -0.071028
         ],
         "yaxis": "y"
        },
        {
         "line": {
          "color": "rgb(0, 0, 255)",
          "width": 2
         },
         "mode": "lines",
         "name": "pycrash - ay",
         "type": "scatter",
         "x": [
          0,
          0.1,
          0.2,
          0.3,
          0.4,
          0.5,
          0.6,
          0.7,
          0.8,
          0.9,
          1,
          1.1,
          1.2,
          1.3,
          1.4,
          1.5,
          1.6,
          1.7,
          1.8,
          1.9,
          2,
          2.1,
          2.2,
          2.3,
          2.4,
          2.5,
          2.6,
          2.7,
          2.8,
          2.9,
          3,
          3.1,
          3.2,
          3.3,
          3.4,
          3.5,
          3.6,
          3.7,
          3.8,
          3.9,
          4,
          4.1,
          4.2,
          4.3,
          4.4,
          4.5,
          4.6,
          4.7,
          4.8,
          4.9,
          5,
          5.1,
          5.2,
          5.3,
          5.4,
          5.5,
          5.6,
          5.7,
          5.8,
          5.9,
          6,
          6.1,
          6.2,
          6.3,
          6.4,
          6.5,
          6.6,
          6.7,
          6.8,
          6.9,
          7,
          7.1,
          7.2,
          7.3,
          7.4,
          7.5,
          7.6,
          7.7,
          7.8,
          7.9,
          8,
          8.1,
          8.2,
          8.3,
          8.4,
          8.5,
          8.6,
          8.7,
          8.8,
          8.9,
          9,
          9.1,
          9.2,
          9.3,
          9.4,
          9.5,
          9.6,
          9.7,
          9.8,
          9.9,
          10,
          10.1,
          10.2,
          10.3,
          10.4,
          10.5,
          10.6,
          10.7,
          10.8,
          10.9
         ],
         "xaxis": "x2",
         "y": [
          0,
          0,
          0,
          0,
          0,
          0,
          0,
          0,
          0,
          0,
          0,
          -0.0991405125681338,
          -0.17732468720918,
          -0.2040164267556857,
          -0.21777097424776984,
          -0.25484604512435627,
          -0.31864853854966874,
          -0.39274375223726865,
          -0.46205284270393865,
          -0.5211570216459187,
          -0.5582403481158432,
          -0.5342866647479946,
          -0.5098755617605392,
          -0.5205752796196826,
          -0.5425154690235535,
          -0.5479375976566592,
          -0.5324208683162008,
          -0.5082802761604884,
          -0.4877109165614983,
          -0.47433319572709304,
          -0.4652904847064803,
          -0.45684015047852716,
          -0.4474667745779393,
          -0.4376314878787156,
          -0.4282403143763538,
          -0.41967946754826546,
          -0.4118006026965316,
          -0.4043188258941299,
          -0.3970857993228273,
          -0.3901025495321399,
          -0.3834120411553855,
          -0.3770234285432951,
          -0.37090845861397814,
          -0.365031189240904,
          -0.3593682109708951,
          -0.3539084703973455,
          -0.34864427984579044,
          -0.34356565487295093,
          -0.3386606065688178,
          -0.33391770523826264,
          -0.32932744259605834,
          -0.32488185675363046,
          -0.32057363297842995,
          -0.3163956686134504,
          -0.31234116388290617,
          -0.3084038286891408,
          -0.3045779260712154,
          -0.30085816859792086,
          -0.29723960505770664,
          -0.29371757253280123,
          -0.2902876951096987,
          -0.2869458826377591,
          -0.28368831002569866,
          -0.28051138700549916,
          -0.2774117332606019,
          -0.27438616287399104,
          -0.27143167316403155,
          -0.2685454329257609,
          -0.2657247693596861,
          -0.26296715555055167,
          -0.26027019983655786,
          -0.2576316368535141,
          -0.2550493193836255,
          -0.25252121052805,
          -0.250045376285758,
          -0.24761997876750205,
          -0.24524327008444965,
          -0.24291358677161723,
          -0.24062934460150728,
          -0.23838903373645803,
          -0.2361912142293644,
          -0.23403451187394356,
          -0.2319176143721972,
          -0.2298392677742748,
          -0.2277982731587262,
          -0.22579348353738948,
          -0.22382380097389182,
          -0.2218881739005898,
          -0.21998559461543254,
          -0.21811509694195216,
          -0.21627575403971605,
          -0.21446667635519612,
          -0.2126870097033079,
          -0.2109359334695597,
          -0.20921265892326624,
          -0.20751642763354336,
          -0.20584650998094456,
          -0.20420220375820042,
          -0.20258283285378798,
          -0.20098774601242478,
          -0.19941631566711462,
          -0.19786793683791684,
          -0.1963420260930244,
          -0.19483802056802152,
          -0.19335537703945388,
          -0.1918935710491467,
          -0.19045209607600344,
          -0.18903046275227497,
          -0.1876281981214961,
          -0.18624484493547708
         ],
         "yaxis": "y2"
        },
        {
         "line": {
          "color": "rgb(0, 0, 255)",
          "dash": "dash",
          "width": 2
         },
         "mode": "lines",
         "name": "validate - ay",
         "type": "scatter",
         "x": [
          0,
          0.1,
          0.2,
          0.3,
          0.4,
          0.5,
          0.6,
          0.7,
          0.8,
          0.9,
          1,
          1.1,
          1.2,
          1.3,
          1.4,
          1.5,
          1.6,
          1.7,
          1.8,
          1.9,
          2,
          2.1,
          2.2,
          2.3,
          2.4,
          2.5,
          2.6,
          2.7,
          2.8,
          2.9,
          3,
          3.1,
          3.2,
          3.3,
          3.4,
          3.5,
          3.6,
          3.7,
          3.8,
          3.9,
          4,
          4.1,
          4.2,
          4.3,
          4.4,
          4.5,
          4.6,
          4.7,
          4.8,
          4.9,
          5,
          5.1,
          5.2,
          5.3,
          5.4,
          5.5,
          5.6,
          5.7,
          5.8,
          5.9,
          6,
          6.1,
          6.2,
          6.3,
          6.4,
          6.5,
          6.6,
          6.7,
          6.8,
          6.9,
          7,
          7.1,
          7.2,
          7.3,
          7.4,
          7.5,
          7.6,
          7.7,
          7.8,
          7.9,
          8,
          8.1,
          8.2,
          8.3,
          8.4,
          8.5,
          8.6,
          8.7,
          8.8,
          8.9,
          9,
          9.1,
          9.2,
          9.3,
          9.4,
          9.5,
          9.6,
          9.7,
          9.8,
          9.9,
          10,
          10.1,
          10.2,
          10.3,
          10.4,
          10.5,
          10.6,
          10.7,
          10.8,
          10.9
         ],
         "xaxis": "x2",
         "y": [
          0,
          0,
          0,
          0,
          0,
          0,
          0,
          0,
          0,
          0,
          0,
          -0.098352,
          -0.163871,
          -0.240041,
          -0.311896,
          -0.381689,
          -0.44814,
          -0.505176,
          -0.556628,
          -0.605131,
          -0.635441,
          -0.626268,
          -0.612977,
          -0.601103,
          -0.584816,
          -0.57125,
          -0.558899,
          -0.54743,
          -0.536521,
          -0.525966,
          -0.515717,
          -0.50582,
          -0.496328,
          -0.487276,
          -0.47867,
          -0.470485,
          -0.462691,
          -0.455257,
          -0.448147,
          -0.441336,
          -0.434803,
          -0.428526,
          -0.422488,
          -0.416675,
          -0.411074,
          -0.40567,
          -0.400454,
          -0.395414,
          -0.39054,
          -0.385824,
          -0.381257,
          -0.37683,
          -0.372538,
          -0.368373,
          -0.364329,
          -0.360401,
          -0.356582,
          -0.352868,
          -0.349254,
          -0.345736,
          -0.34231,
          -0.338972,
          -0.335717,
          -0.332543,
          -0.329447,
          -0.326424,
          -0.323473,
          -0.320591,
          -0.317775,
          -0.315022,
          -0.312331,
          -0.309699,
          -0.307123,
          -0.304603,
          -0.302135,
          -0.299719,
          -0.297353,
          -0.295034,
          -0.292761,
          -0.290533,
          -0.288349,
          -0.286206,
          -0.284105,
          -0.282042,
          -0.280018,
          -0.278031,
          -0.27608,
          -0.274164,
          -0.272282,
          -0.270433,
          -0.268616,
          -0.26683,
          -0.265074,
          -0.263348,
          -0.26165,
          -0.259981,
          -0.258338,
          -0.256722,
          -0.255131,
          -0.253566,
          -0.252025,
          -0.250508,
          -0.24901399999999999,
          -0.247543,
          -0.246094,
          -0.244666,
          -0.24326,
          -0.241874,
          -0.240508,
          -0.239162
         ],
         "yaxis": "y2"
        }
       ],
       "layout": {
        "autosize": false,
        "font": {
         "color": "black",
         "family": "Arial",
         "size": 14
        },
        "height": 900,
        "legend": {
         "orientation": "h",
         "x": 0.01,
         "xanchor": "left",
         "y": 1.1,
         "yanchor": "top"
        },
        "template": {
         "data": {
          "bar": [
           {
            "error_x": {
             "color": "#2a3f5f"
            },
            "error_y": {
             "color": "#2a3f5f"
            },
            "marker": {
             "line": {
              "color": "white",
              "width": 0.5
             }
            },
            "type": "bar"
           }
          ],
          "barpolar": [
           {
            "marker": {
             "line": {
              "color": "white",
              "width": 0.5
             }
            },
            "type": "barpolar"
           }
          ],
          "carpet": [
           {
            "aaxis": {
             "endlinecolor": "#2a3f5f",
             "gridcolor": "#C8D4E3",
             "linecolor": "#C8D4E3",
             "minorgridcolor": "#C8D4E3",
             "startlinecolor": "#2a3f5f"
            },
            "baxis": {
             "endlinecolor": "#2a3f5f",
             "gridcolor": "#C8D4E3",
             "linecolor": "#C8D4E3",
             "minorgridcolor": "#C8D4E3",
             "startlinecolor": "#2a3f5f"
            },
            "type": "carpet"
           }
          ],
          "choropleth": [
           {
            "colorbar": {
             "outlinewidth": 0,
             "ticks": ""
            },
            "type": "choropleth"
           }
          ],
          "contour": [
           {
            "colorbar": {
             "outlinewidth": 0,
             "ticks": ""
            },
            "colorscale": [
             [
              0,
              "#0d0887"
             ],
             [
              0.1111111111111111,
              "#46039f"
             ],
             [
              0.2222222222222222,
              "#7201a8"
             ],
             [
              0.3333333333333333,
              "#9c179e"
             ],
             [
              0.4444444444444444,
              "#bd3786"
             ],
             [
              0.5555555555555556,
              "#d8576b"
             ],
             [
              0.6666666666666666,
              "#ed7953"
             ],
             [
              0.7777777777777778,
              "#fb9f3a"
             ],
             [
              0.8888888888888888,
              "#fdca26"
             ],
             [
              1,
              "#f0f921"
             ]
            ],
            "type": "contour"
           }
          ],
          "contourcarpet": [
           {
            "colorbar": {
             "outlinewidth": 0,
             "ticks": ""
            },
            "type": "contourcarpet"
           }
          ],
          "heatmap": [
           {
            "colorbar": {
             "outlinewidth": 0,
             "ticks": ""
            },
            "colorscale": [
             [
              0,
              "#0d0887"
             ],
             [
              0.1111111111111111,
              "#46039f"
             ],
             [
              0.2222222222222222,
              "#7201a8"
             ],
             [
              0.3333333333333333,
              "#9c179e"
             ],
             [
              0.4444444444444444,
              "#bd3786"
             ],
             [
              0.5555555555555556,
              "#d8576b"
             ],
             [
              0.6666666666666666,
              "#ed7953"
             ],
             [
              0.7777777777777778,
              "#fb9f3a"
             ],
             [
              0.8888888888888888,
              "#fdca26"
             ],
             [
              1,
              "#f0f921"
             ]
            ],
            "type": "heatmap"
           }
          ],
          "heatmapgl": [
           {
            "colorbar": {
             "outlinewidth": 0,
             "ticks": ""
            },
            "colorscale": [
             [
              0,
              "#0d0887"
             ],
             [
              0.1111111111111111,
              "#46039f"
             ],
             [
              0.2222222222222222,
              "#7201a8"
             ],
             [
              0.3333333333333333,
              "#9c179e"
             ],
             [
              0.4444444444444444,
              "#bd3786"
             ],
             [
              0.5555555555555556,
              "#d8576b"
             ],
             [
              0.6666666666666666,
              "#ed7953"
             ],
             [
              0.7777777777777778,
              "#fb9f3a"
             ],
             [
              0.8888888888888888,
              "#fdca26"
             ],
             [
              1,
              "#f0f921"
             ]
            ],
            "type": "heatmapgl"
           }
          ],
          "histogram": [
           {
            "marker": {
             "colorbar": {
              "outlinewidth": 0,
              "ticks": ""
             }
            },
            "type": "histogram"
           }
          ],
          "histogram2d": [
           {
            "colorbar": {
             "outlinewidth": 0,
             "ticks": ""
            },
            "colorscale": [
             [
              0,
              "#0d0887"
             ],
             [
              0.1111111111111111,
              "#46039f"
             ],
             [
              0.2222222222222222,
              "#7201a8"
             ],
             [
              0.3333333333333333,
              "#9c179e"
             ],
             [
              0.4444444444444444,
              "#bd3786"
             ],
             [
              0.5555555555555556,
              "#d8576b"
             ],
             [
              0.6666666666666666,
              "#ed7953"
             ],
             [
              0.7777777777777778,
              "#fb9f3a"
             ],
             [
              0.8888888888888888,
              "#fdca26"
             ],
             [
              1,
              "#f0f921"
             ]
            ],
            "type": "histogram2d"
           }
          ],
          "histogram2dcontour": [
           {
            "colorbar": {
             "outlinewidth": 0,
             "ticks": ""
            },
            "colorscale": [
             [
              0,
              "#0d0887"
             ],
             [
              0.1111111111111111,
              "#46039f"
             ],
             [
              0.2222222222222222,
              "#7201a8"
             ],
             [
              0.3333333333333333,
              "#9c179e"
             ],
             [
              0.4444444444444444,
              "#bd3786"
             ],
             [
              0.5555555555555556,
              "#d8576b"
             ],
             [
              0.6666666666666666,
              "#ed7953"
             ],
             [
              0.7777777777777778,
              "#fb9f3a"
             ],
             [
              0.8888888888888888,
              "#fdca26"
             ],
             [
              1,
              "#f0f921"
             ]
            ],
            "type": "histogram2dcontour"
           }
          ],
          "mesh3d": [
           {
            "colorbar": {
             "outlinewidth": 0,
             "ticks": ""
            },
            "type": "mesh3d"
           }
          ],
          "parcoords": [
           {
            "line": {
             "colorbar": {
              "outlinewidth": 0,
              "ticks": ""
             }
            },
            "type": "parcoords"
           }
          ],
          "pie": [
           {
            "automargin": true,
            "type": "pie"
           }
          ],
          "scatter": [
           {
            "marker": {
             "colorbar": {
              "outlinewidth": 0,
              "ticks": ""
             }
            },
            "type": "scatter"
           }
          ],
          "scatter3d": [
           {
            "line": {
             "colorbar": {
              "outlinewidth": 0,
              "ticks": ""
             }
            },
            "marker": {
             "colorbar": {
              "outlinewidth": 0,
              "ticks": ""
             }
            },
            "type": "scatter3d"
           }
          ],
          "scattercarpet": [
           {
            "marker": {
             "colorbar": {
              "outlinewidth": 0,
              "ticks": ""
             }
            },
            "type": "scattercarpet"
           }
          ],
          "scattergeo": [
           {
            "marker": {
             "colorbar": {
              "outlinewidth": 0,
              "ticks": ""
             }
            },
            "type": "scattergeo"
           }
          ],
          "scattergl": [
           {
            "marker": {
             "colorbar": {
              "outlinewidth": 0,
              "ticks": ""
             }
            },
            "type": "scattergl"
           }
          ],
          "scattermapbox": [
           {
            "marker": {
             "colorbar": {
              "outlinewidth": 0,
              "ticks": ""
             }
            },
            "type": "scattermapbox"
           }
          ],
          "scatterpolar": [
           {
            "marker": {
             "colorbar": {
              "outlinewidth": 0,
              "ticks": ""
             }
            },
            "type": "scatterpolar"
           }
          ],
          "scatterpolargl": [
           {
            "marker": {
             "colorbar": {
              "outlinewidth": 0,
              "ticks": ""
             }
            },
            "type": "scatterpolargl"
           }
          ],
          "scatterternary": [
           {
            "marker": {
             "colorbar": {
              "outlinewidth": 0,
              "ticks": ""
             }
            },
            "type": "scatterternary"
           }
          ],
          "surface": [
           {
            "colorbar": {
             "outlinewidth": 0,
             "ticks": ""
            },
            "colorscale": [
             [
              0,
              "#0d0887"
             ],
             [
              0.1111111111111111,
              "#46039f"
             ],
             [
              0.2222222222222222,
              "#7201a8"
             ],
             [
              0.3333333333333333,
              "#9c179e"
             ],
             [
              0.4444444444444444,
              "#bd3786"
             ],
             [
              0.5555555555555556,
              "#d8576b"
             ],
             [
              0.6666666666666666,
              "#ed7953"
             ],
             [
              0.7777777777777778,
              "#fb9f3a"
             ],
             [
              0.8888888888888888,
              "#fdca26"
             ],
             [
              1,
              "#f0f921"
             ]
            ],
            "type": "surface"
           }
          ],
          "table": [
           {
            "cells": {
             "fill": {
              "color": "#EBF0F8"
             },
             "line": {
              "color": "white"
             }
            },
            "header": {
             "fill": {
              "color": "#C8D4E3"
             },
             "line": {
              "color": "white"
             }
            },
            "type": "table"
           }
          ]
         },
         "layout": {
          "annotationdefaults": {
           "arrowcolor": "#2a3f5f",
           "arrowhead": 0,
           "arrowwidth": 1
          },
          "coloraxis": {
           "colorbar": {
            "outlinewidth": 0,
            "ticks": ""
           }
          },
          "colorscale": {
           "diverging": [
            [
             0,
             "#8e0152"
            ],
            [
             0.1,
             "#c51b7d"
            ],
            [
             0.2,
             "#de77ae"
            ],
            [
             0.3,
             "#f1b6da"
            ],
            [
             0.4,
             "#fde0ef"
            ],
            [
             0.5,
             "#f7f7f7"
            ],
            [
             0.6,
             "#e6f5d0"
            ],
            [
             0.7,
             "#b8e186"
            ],
            [
             0.8,
             "#7fbc41"
            ],
            [
             0.9,
             "#4d9221"
            ],
            [
             1,
             "#276419"
            ]
           ],
           "sequential": [
            [
             0,
             "#0d0887"
            ],
            [
             0.1111111111111111,
             "#46039f"
            ],
            [
             0.2222222222222222,
             "#7201a8"
            ],
            [
             0.3333333333333333,
             "#9c179e"
            ],
            [
             0.4444444444444444,
             "#bd3786"
            ],
            [
             0.5555555555555556,
             "#d8576b"
            ],
            [
             0.6666666666666666,
             "#ed7953"
            ],
            [
             0.7777777777777778,
             "#fb9f3a"
            ],
            [
             0.8888888888888888,
             "#fdca26"
            ],
            [
             1,
             "#f0f921"
            ]
           ],
           "sequentialminus": [
            [
             0,
             "#0d0887"
            ],
            [
             0.1111111111111111,
             "#46039f"
            ],
            [
             0.2222222222222222,
             "#7201a8"
            ],
            [
             0.3333333333333333,
             "#9c179e"
            ],
            [
             0.4444444444444444,
             "#bd3786"
            ],
            [
             0.5555555555555556,
             "#d8576b"
            ],
            [
             0.6666666666666666,
             "#ed7953"
            ],
            [
             0.7777777777777778,
             "#fb9f3a"
            ],
            [
             0.8888888888888888,
             "#fdca26"
            ],
            [
             1,
             "#f0f921"
            ]
           ]
          },
          "colorway": [
           "#636efa",
           "#EF553B",
           "#00cc96",
           "#ab63fa",
           "#FFA15A",
           "#19d3f3",
           "#FF6692",
           "#B6E880",
           "#FF97FF",
           "#FECB52"
          ],
          "font": {
           "color": "#2a3f5f"
          },
          "geo": {
           "bgcolor": "white",
           "lakecolor": "white",
           "landcolor": "white",
           "showlakes": true,
           "showland": true,
           "subunitcolor": "#C8D4E3"
          },
          "hoverlabel": {
           "align": "left"
          },
          "hovermode": "closest",
          "mapbox": {
           "style": "light"
          },
          "paper_bgcolor": "white",
          "plot_bgcolor": "white",
          "polar": {
           "angularaxis": {
            "gridcolor": "#EBF0F8",
            "linecolor": "#EBF0F8",
            "ticks": ""
           },
           "bgcolor": "white",
           "radialaxis": {
            "gridcolor": "#EBF0F8",
            "linecolor": "#EBF0F8",
            "ticks": ""
           }
          },
          "scene": {
           "xaxis": {
            "backgroundcolor": "white",
            "gridcolor": "#DFE8F3",
            "gridwidth": 2,
            "linecolor": "#EBF0F8",
            "showbackground": true,
            "ticks": "",
            "zerolinecolor": "#EBF0F8"
           },
           "yaxis": {
            "backgroundcolor": "white",
            "gridcolor": "#DFE8F3",
            "gridwidth": 2,
            "linecolor": "#EBF0F8",
            "showbackground": true,
            "ticks": "",
            "zerolinecolor": "#EBF0F8"
           },
           "zaxis": {
            "backgroundcolor": "white",
            "gridcolor": "#DFE8F3",
            "gridwidth": 2,
            "linecolor": "#EBF0F8",
            "showbackground": true,
            "ticks": "",
            "zerolinecolor": "#EBF0F8"
           }
          },
          "shapedefaults": {
           "line": {
            "color": "#2a3f5f"
           }
          },
          "ternary": {
           "aaxis": {
            "gridcolor": "#DFE8F3",
            "linecolor": "#A2B1C6",
            "ticks": ""
           },
           "baxis": {
            "gridcolor": "#DFE8F3",
            "linecolor": "#A2B1C6",
            "ticks": ""
           },
           "bgcolor": "white",
           "caxis": {
            "gridcolor": "#DFE8F3",
            "linecolor": "#A2B1C6",
            "ticks": ""
           }
          },
          "title": {
           "x": 0.05
          },
          "xaxis": {
           "automargin": true,
           "gridcolor": "#EBF0F8",
           "linecolor": "#EBF0F8",
           "ticks": "",
           "title": {
            "standoff": 15
           },
           "zerolinecolor": "#EBF0F8",
           "zerolinewidth": 2
          },
          "yaxis": {
           "automargin": true,
           "gridcolor": "#EBF0F8",
           "linecolor": "#EBF0F8",
           "ticks": "",
           "title": {
            "standoff": 15
           },
           "zerolinecolor": "#EBF0F8",
           "zerolinewidth": 2
          }
         }
        },
        "title": {
         "text": "Acceleration"
        },
        "width": 900,
        "xaxis": {
         "anchor": "y",
         "domain": [
          0,
          1
         ],
         "linecolor": "black",
         "linewidth": 1,
         "matches": "x2",
         "showgrid": false,
         "showline": true,
         "showticklabels": false,
         "tickcolor": "black",
         "ticklen": 10,
         "ticks": "outside",
         "tickwidth": 1,
         "title": {
          "text": ""
         },
         "zeroline": false
        },
        "xaxis2": {
         "anchor": "y2",
         "domain": [
          0,
          1
         ],
         "linecolor": "black",
         "linewidth": 1,
         "showgrid": false,
         "showline": true,
         "tickcolor": "black",
         "ticklen": 10,
         "ticks": "outside",
         "tickwidth": 1,
         "title": {
          "text": "Time (s)"
         },
         "zeroline": false
        },
        "yaxis": {
         "anchor": "x",
         "domain": [
          0.5349999999999999,
          0.9999999999999999
         ],
         "linecolor": "black",
         "linewidth": 1,
         "showgrid": false,
         "showline": true,
         "tickcolor": "black",
         "ticklen": 10,
         "ticks": "outside",
         "tickwidth": 1,
         "title": {
          "text": "Forward Accel (g)"
         },
         "zeroline": false
        },
        "yaxis2": {
         "anchor": "x2",
         "domain": [
          0,
          0.46499999999999997
         ],
         "linecolor": "black",
         "linewidth": 1,
         "showgrid": false,
         "showline": true,
         "tickcolor": "black",
         "ticklen": 10,
         "ticks": "outside",
         "tickwidth": 1,
         "title": {
          "text": "Rightward Accel (g)"
         },
         "zeroline": false
        }
       }
      },
      "text/html": [
       "<div>\n",
       "        \n",
       "        \n",
       "            <div id=\"056bf636-34ee-4343-8ae9-c384485114a9\" class=\"plotly-graph-div\" style=\"height:900px; width:900px;\"></div>\n",
       "            <script type=\"text/javascript\">\n",
       "                require([\"plotly\"], function(Plotly) {\n",
       "                    window.PLOTLYENV=window.PLOTLYENV || {};\n",
       "                    \n",
       "                if (document.getElementById(\"056bf636-34ee-4343-8ae9-c384485114a9\")) {\n",
       "                    Plotly.newPlot(\n",
       "                        '056bf636-34ee-4343-8ae9-c384485114a9',\n",
       "                        [{\"line\": {\"color\": \"rgb(0, 255, 0)\", \"width\": 2}, \"mode\": \"lines\", \"name\": \"pycrash - ax\", \"type\": \"scatter\", \"x\": [0.0, 0.1, 0.2, 0.3, 0.4, 0.5, 0.6, 0.7, 0.8, 0.9, 1.0, 1.1, 1.2, 1.3, 1.4, 1.5, 1.6, 1.7, 1.8, 1.9, 2.0, 2.1, 2.2, 2.3, 2.4, 2.5, 2.6, 2.7, 2.8, 2.9, 3.0, 3.1, 3.2, 3.3, 3.4, 3.5, 3.6, 3.7, 3.8, 3.9, 4.0, 4.1, 4.2, 4.3, 4.4, 4.5, 4.6, 4.7, 4.8, 4.9, 5.0, 5.1, 5.2, 5.3, 5.4, 5.5, 5.6, 5.7, 5.8, 5.9, 6.0, 6.1, 6.2, 6.3, 6.4, 6.5, 6.6, 6.7, 6.8, 6.9, 7.0, 7.1, 7.2, 7.3, 7.4, 7.5, 7.6, 7.7, 7.8, 7.9, 8.0, 8.1, 8.2, 8.3, 8.4, 8.5, 8.6, 8.7, 8.8, 8.9, 9.0, 9.1, 9.2, 9.3, 9.4, 9.5, 9.6, 9.7, 9.8, 9.9, 10.0, 10.1, 10.2, 10.3, 10.4, 10.5, 10.6, 10.7, 10.8, 10.9], \"xaxis\": \"x\", \"y\": [0.0, 0.0, 0.0, 0.0, 0.0, 0.0, 0.0, 0.0, 0.0, 0.0, 0.0, -0.003527445092095549, -0.013422746017752835, -0.02370282024706802, -0.03316637702745484, -0.045673778380138925, -0.06420349078872487, -0.08829395240312836, -0.11573611023059627, -0.14485156832280857, -0.16978556166525002, -0.15388689753944249, -0.13670601134884552, -0.13602362730596831, -0.1429643545140099, -0.14633889354245952, -0.14319044634679073, -0.13687897131755666, -0.13128201748370236, -0.12772919926474594, -0.1254755464900104, -0.12341081612334301, -0.12105913241076617, -0.11854193495102902, -0.11612687739260885, -0.1139336551838874, -0.11192349175943393, -0.11001509226905573, -0.1081658994127362, -0.10637686056129049, -0.10466135736393518, -0.10302302961810776, -0.10145457898551494, -0.09994633177143841, -0.09849211311724047, -0.0970892421391658, -0.09573597302160503, -0.09442987393552724, -0.09316790414146035, -0.09194714279738328, -0.0907651814000951, -0.0896200251098228, -0.08850984351337224, -0.0874328492944909, -0.08638732368649135, -0.08537167519819432, -0.0843844536548065, -0.08342432332277902, -0.08249003268924399, -0.08158040176409802, -0.08069432214533848, -0.07983075727519232, -0.07898873746665187, -0.07816735223512114, -0.07736574392487891, -0.0765831037691926, -0.07581866913485781, -0.07507172062863464, -0.07434157884069187, -0.07362760119484087, -0.07292917926584265, -0.0722457365264623, -0.07157672630607306, -0.07092162983143002, -0.07027995436395472, -0.06965123149137907, -0.06903501558776784, -0.0684308824095671, -0.06783842779100273, -0.06725726642411799, -0.06668703072497963, -0.0661273697868639, -0.0655779484132166, -0.06503844621946178, -0.06450855679532586, -0.0639879869233774, -0.06347645585100592, -0.06297369461224389, -0.062479445394939326, -0.061993460949040395, -0.06151550403272126, -0.06104534689379349, -0.060582770783998444, -0.0601275655037031, -0.05967952897461095, -0.05923846683838648, -0.05880419207938389, -0.05837652466984465, -0.0579552912360009, -0.05754032474360496, -0.0571314642015298, -0.05672855438222073, -0.056331445557888354, -0.055939993251407846, -0.05555405800095173, -0.05517350513745889, -0.05479820457411499, -0.05442803060708548, -0.054062861726795725, -0.05370258043910083], \"yaxis\": \"y\"}, {\"line\": {\"color\": \"rgb(0, 255, 0)\", \"dash\": \"dash\", \"width\": 2}, \"mode\": \"lines\", \"name\": \"validate - ax\", \"type\": \"scatter\", \"x\": [0.0, 0.1, 0.2, 0.3, 0.4, 0.5, 0.6, 0.7, 0.8, 0.9, 1.0, 1.1, 1.2, 1.3, 1.4, 1.5, 1.6, 1.7, 1.8, 1.9, 2.0, 2.1, 2.2, 2.3, 2.4, 2.5, 2.6, 2.7, 2.8, 2.9, 3.0, 3.1, 3.2, 3.3, 3.4, 3.5, 3.6, 3.7, 3.8, 3.9, 4.0, 4.1, 4.2, 4.3, 4.4, 4.5, 4.6, 4.7, 4.8, 4.9, 5.0, 5.1, 5.2, 5.3, 5.4, 5.5, 5.6, 5.7, 5.8, 5.9, 6.0, 6.1, 6.2, 6.3, 6.4, 6.5, 6.6, 6.7, 6.8, 6.9, 7.0, 7.1, 7.2, 7.3, 7.4, 7.5, 7.6, 7.7, 7.8, 7.9, 8.0, 8.1, 8.2, 8.3, 8.4, 8.5, 8.6, 8.7, 8.8, 8.9, 9.0, 9.1, 9.2, 9.3, 9.4, 9.5, 9.6, 9.7, 9.8, 9.9, 10.0, 10.1, 10.2, 10.3, 10.4, 10.5, 10.6, 10.7, 10.8, 10.9], \"xaxis\": \"x\", \"y\": [0.0, 0.0, 0.0, 0.0, 0.0, 0.0, 0.0, 0.0, 0.0, 0.0, 0.0, -0.004057, -0.013866, -0.027818, -0.045629, -0.067071, -0.091975, -0.118056, -0.146114, -0.178055, -0.207538, -0.200021, -0.188624, -0.180731, -0.172537, -0.167271, -0.1633, -0.159929, -0.156809, -0.153799, -0.15087, -0.148039, -0.145328, -0.142744, -0.140289, -0.137953, -0.135727, -0.133601, -0.131567, -0.129615, -0.127742, -0.125941, -0.124207, -0.122537, -0.120926, -0.119372, -0.11787, -0.116419, -0.115014, -0.113654, -0.112337, -0.111059, -0.10982, -0.108616, -0.107447, -0.106312, -0.105207, -0.104132, -0.103086, -0.102068, -0.101075, -0.100107, -0.099164, -0.098244, -0.097345, -0.096468, -0.095612, -0.094775, -0.093957, -0.093157, -0.092375, -0.09161, -0.090861, -0.090128, -0.08941, -0.088707, -0.088018, -0.087343, -0.086681, -0.086033, -0.085396, -0.084772, -0.084159, -0.083558, -0.082968, -0.082388, -0.081819, -0.08126, -0.080711, -0.080171, -0.079641, -0.079119, -0.078607, -0.078102, -0.077606, -0.077119, -0.076638, -0.076166, -0.075701, -0.075243, -0.074793, -0.074349, -0.073912, -0.073482, -0.073058, -0.07264, -0.072228, -0.071822, -0.071423, -0.071028], \"yaxis\": \"y\"}, {\"line\": {\"color\": \"rgb(0, 0, 255)\", \"width\": 2}, \"mode\": \"lines\", \"name\": \"pycrash - ay\", \"type\": \"scatter\", \"x\": [0.0, 0.1, 0.2, 0.3, 0.4, 0.5, 0.6, 0.7, 0.8, 0.9, 1.0, 1.1, 1.2, 1.3, 1.4, 1.5, 1.6, 1.7, 1.8, 1.9, 2.0, 2.1, 2.2, 2.3, 2.4, 2.5, 2.6, 2.7, 2.8, 2.9, 3.0, 3.1, 3.2, 3.3, 3.4, 3.5, 3.6, 3.7, 3.8, 3.9, 4.0, 4.1, 4.2, 4.3, 4.4, 4.5, 4.6, 4.7, 4.8, 4.9, 5.0, 5.1, 5.2, 5.3, 5.4, 5.5, 5.6, 5.7, 5.8, 5.9, 6.0, 6.1, 6.2, 6.3, 6.4, 6.5, 6.6, 6.7, 6.8, 6.9, 7.0, 7.1, 7.2, 7.3, 7.4, 7.5, 7.6, 7.7, 7.8, 7.9, 8.0, 8.1, 8.2, 8.3, 8.4, 8.5, 8.6, 8.7, 8.8, 8.9, 9.0, 9.1, 9.2, 9.3, 9.4, 9.5, 9.6, 9.7, 9.8, 9.9, 10.0, 10.1, 10.2, 10.3, 10.4, 10.5, 10.6, 10.7, 10.8, 10.9], \"xaxis\": \"x2\", \"y\": [0.0, 0.0, 0.0, 0.0, 0.0, 0.0, 0.0, 0.0, 0.0, 0.0, 0.0, -0.0991405125681338, -0.17732468720918, -0.2040164267556857, -0.21777097424776984, -0.25484604512435627, -0.31864853854966874, -0.39274375223726865, -0.46205284270393865, -0.5211570216459187, -0.5582403481158432, -0.5342866647479946, -0.5098755617605392, -0.5205752796196826, -0.5425154690235535, -0.5479375976566592, -0.5324208683162008, -0.5082802761604884, -0.4877109165614983, -0.47433319572709304, -0.4652904847064803, -0.45684015047852716, -0.4474667745779393, -0.4376314878787156, -0.4282403143763538, -0.41967946754826546, -0.4118006026965316, -0.4043188258941299, -0.3970857993228273, -0.3901025495321399, -0.3834120411553855, -0.3770234285432951, -0.37090845861397814, -0.365031189240904, -0.3593682109708951, -0.3539084703973455, -0.34864427984579044, -0.34356565487295093, -0.3386606065688178, -0.33391770523826264, -0.32932744259605834, -0.32488185675363046, -0.32057363297842995, -0.3163956686134504, -0.31234116388290617, -0.3084038286891408, -0.3045779260712154, -0.30085816859792086, -0.29723960505770664, -0.29371757253280123, -0.2902876951096987, -0.2869458826377591, -0.28368831002569866, -0.28051138700549916, -0.2774117332606019, -0.27438616287399104, -0.27143167316403155, -0.2685454329257609, -0.2657247693596861, -0.26296715555055167, -0.26027019983655786, -0.2576316368535141, -0.2550493193836255, -0.25252121052805, -0.250045376285758, -0.24761997876750205, -0.24524327008444965, -0.24291358677161723, -0.24062934460150728, -0.23838903373645803, -0.2361912142293644, -0.23403451187394356, -0.2319176143721972, -0.2298392677742748, -0.2277982731587262, -0.22579348353738948, -0.22382380097389182, -0.2218881739005898, -0.21998559461543254, -0.21811509694195216, -0.21627575403971605, -0.21446667635519612, -0.2126870097033079, -0.2109359334695597, -0.20921265892326624, -0.20751642763354336, -0.20584650998094456, -0.20420220375820042, -0.20258283285378798, -0.20098774601242478, -0.19941631566711462, -0.19786793683791684, -0.1963420260930244, -0.19483802056802152, -0.19335537703945388, -0.1918935710491467, -0.19045209607600344, -0.18903046275227497, -0.1876281981214961, -0.18624484493547708], \"yaxis\": \"y2\"}, {\"line\": {\"color\": \"rgb(0, 0, 255)\", \"dash\": \"dash\", \"width\": 2}, \"mode\": \"lines\", \"name\": \"validate - ay\", \"type\": \"scatter\", \"x\": [0.0, 0.1, 0.2, 0.3, 0.4, 0.5, 0.6, 0.7, 0.8, 0.9, 1.0, 1.1, 1.2, 1.3, 1.4, 1.5, 1.6, 1.7, 1.8, 1.9, 2.0, 2.1, 2.2, 2.3, 2.4, 2.5, 2.6, 2.7, 2.8, 2.9, 3.0, 3.1, 3.2, 3.3, 3.4, 3.5, 3.6, 3.7, 3.8, 3.9, 4.0, 4.1, 4.2, 4.3, 4.4, 4.5, 4.6, 4.7, 4.8, 4.9, 5.0, 5.1, 5.2, 5.3, 5.4, 5.5, 5.6, 5.7, 5.8, 5.9, 6.0, 6.1, 6.2, 6.3, 6.4, 6.5, 6.6, 6.7, 6.8, 6.9, 7.0, 7.1, 7.2, 7.3, 7.4, 7.5, 7.6, 7.7, 7.8, 7.9, 8.0, 8.1, 8.2, 8.3, 8.4, 8.5, 8.6, 8.7, 8.8, 8.9, 9.0, 9.1, 9.2, 9.3, 9.4, 9.5, 9.6, 9.7, 9.8, 9.9, 10.0, 10.1, 10.2, 10.3, 10.4, 10.5, 10.6, 10.7, 10.8, 10.9], \"xaxis\": \"x2\", \"y\": [0.0, 0.0, 0.0, 0.0, 0.0, 0.0, 0.0, 0.0, 0.0, 0.0, 0.0, -0.098352, -0.163871, -0.240041, -0.311896, -0.381689, -0.44814, -0.505176, -0.556628, -0.605131, -0.635441, -0.626268, -0.612977, -0.601103, -0.584816, -0.57125, -0.558899, -0.54743, -0.536521, -0.525966, -0.515717, -0.50582, -0.496328, -0.487276, -0.47867, -0.470485, -0.462691, -0.455257, -0.448147, -0.441336, -0.434803, -0.428526, -0.422488, -0.416675, -0.411074, -0.40567, -0.400454, -0.395414, -0.39054, -0.385824, -0.381257, -0.37683, -0.372538, -0.368373, -0.364329, -0.360401, -0.356582, -0.352868, -0.349254, -0.345736, -0.34231, -0.338972, -0.335717, -0.332543, -0.329447, -0.326424, -0.323473, -0.320591, -0.317775, -0.315022, -0.312331, -0.309699, -0.307123, -0.304603, -0.302135, -0.299719, -0.297353, -0.295034, -0.292761, -0.290533, -0.288349, -0.286206, -0.284105, -0.282042, -0.280018, -0.278031, -0.27608, -0.274164, -0.272282, -0.270433, -0.268616, -0.26683, -0.265074, -0.263348, -0.26165, -0.259981, -0.258338, -0.256722, -0.255131, -0.253566, -0.252025, -0.250508, -0.24901399999999999, -0.247543, -0.246094, -0.244666, -0.24326, -0.241874, -0.240508, -0.239162], \"yaxis\": \"y2\"}],\n",
       "                        {\"autosize\": false, \"font\": {\"color\": \"black\", \"family\": \"Arial\", \"size\": 14}, \"height\": 900, \"legend\": {\"orientation\": \"h\", \"x\": 0.01, \"xanchor\": \"left\", \"y\": 1.1, \"yanchor\": \"top\"}, \"template\": {\"data\": {\"bar\": [{\"error_x\": {\"color\": \"#2a3f5f\"}, \"error_y\": {\"color\": \"#2a3f5f\"}, \"marker\": {\"line\": {\"color\": \"white\", \"width\": 0.5}}, \"type\": \"bar\"}], \"barpolar\": [{\"marker\": {\"line\": {\"color\": \"white\", \"width\": 0.5}}, \"type\": \"barpolar\"}], \"carpet\": [{\"aaxis\": {\"endlinecolor\": \"#2a3f5f\", \"gridcolor\": \"#C8D4E3\", \"linecolor\": \"#C8D4E3\", \"minorgridcolor\": \"#C8D4E3\", \"startlinecolor\": \"#2a3f5f\"}, \"baxis\": {\"endlinecolor\": \"#2a3f5f\", \"gridcolor\": \"#C8D4E3\", \"linecolor\": \"#C8D4E3\", \"minorgridcolor\": \"#C8D4E3\", \"startlinecolor\": \"#2a3f5f\"}, \"type\": \"carpet\"}], \"choropleth\": [{\"colorbar\": {\"outlinewidth\": 0, \"ticks\": \"\"}, \"type\": \"choropleth\"}], \"contour\": [{\"colorbar\": {\"outlinewidth\": 0, \"ticks\": \"\"}, \"colorscale\": [[0.0, \"#0d0887\"], [0.1111111111111111, \"#46039f\"], [0.2222222222222222, \"#7201a8\"], [0.3333333333333333, \"#9c179e\"], [0.4444444444444444, \"#bd3786\"], [0.5555555555555556, \"#d8576b\"], [0.6666666666666666, \"#ed7953\"], [0.7777777777777778, \"#fb9f3a\"], [0.8888888888888888, \"#fdca26\"], [1.0, \"#f0f921\"]], \"type\": \"contour\"}], \"contourcarpet\": [{\"colorbar\": {\"outlinewidth\": 0, \"ticks\": \"\"}, \"type\": \"contourcarpet\"}], \"heatmap\": [{\"colorbar\": {\"outlinewidth\": 0, \"ticks\": \"\"}, \"colorscale\": [[0.0, \"#0d0887\"], [0.1111111111111111, \"#46039f\"], [0.2222222222222222, \"#7201a8\"], [0.3333333333333333, \"#9c179e\"], [0.4444444444444444, \"#bd3786\"], [0.5555555555555556, \"#d8576b\"], [0.6666666666666666, \"#ed7953\"], [0.7777777777777778, \"#fb9f3a\"], [0.8888888888888888, \"#fdca26\"], [1.0, \"#f0f921\"]], \"type\": \"heatmap\"}], \"heatmapgl\": [{\"colorbar\": {\"outlinewidth\": 0, \"ticks\": \"\"}, \"colorscale\": [[0.0, \"#0d0887\"], [0.1111111111111111, \"#46039f\"], [0.2222222222222222, \"#7201a8\"], [0.3333333333333333, \"#9c179e\"], [0.4444444444444444, \"#bd3786\"], [0.5555555555555556, \"#d8576b\"], [0.6666666666666666, \"#ed7953\"], [0.7777777777777778, \"#fb9f3a\"], [0.8888888888888888, \"#fdca26\"], [1.0, \"#f0f921\"]], \"type\": \"heatmapgl\"}], \"histogram\": [{\"marker\": {\"colorbar\": {\"outlinewidth\": 0, \"ticks\": \"\"}}, \"type\": \"histogram\"}], \"histogram2d\": [{\"colorbar\": {\"outlinewidth\": 0, \"ticks\": \"\"}, \"colorscale\": [[0.0, \"#0d0887\"], [0.1111111111111111, \"#46039f\"], [0.2222222222222222, \"#7201a8\"], [0.3333333333333333, \"#9c179e\"], [0.4444444444444444, \"#bd3786\"], [0.5555555555555556, \"#d8576b\"], [0.6666666666666666, \"#ed7953\"], [0.7777777777777778, \"#fb9f3a\"], [0.8888888888888888, \"#fdca26\"], [1.0, \"#f0f921\"]], \"type\": \"histogram2d\"}], \"histogram2dcontour\": [{\"colorbar\": {\"outlinewidth\": 0, \"ticks\": \"\"}, \"colorscale\": [[0.0, \"#0d0887\"], [0.1111111111111111, \"#46039f\"], [0.2222222222222222, \"#7201a8\"], [0.3333333333333333, \"#9c179e\"], [0.4444444444444444, \"#bd3786\"], [0.5555555555555556, \"#d8576b\"], [0.6666666666666666, \"#ed7953\"], [0.7777777777777778, \"#fb9f3a\"], [0.8888888888888888, \"#fdca26\"], [1.0, \"#f0f921\"]], \"type\": \"histogram2dcontour\"}], \"mesh3d\": [{\"colorbar\": {\"outlinewidth\": 0, \"ticks\": \"\"}, \"type\": \"mesh3d\"}], \"parcoords\": [{\"line\": {\"colorbar\": {\"outlinewidth\": 0, \"ticks\": \"\"}}, \"type\": \"parcoords\"}], \"pie\": [{\"automargin\": true, \"type\": \"pie\"}], \"scatter\": [{\"marker\": {\"colorbar\": {\"outlinewidth\": 0, \"ticks\": \"\"}}, \"type\": \"scatter\"}], \"scatter3d\": [{\"line\": {\"colorbar\": {\"outlinewidth\": 0, \"ticks\": \"\"}}, \"marker\": {\"colorbar\": {\"outlinewidth\": 0, \"ticks\": \"\"}}, \"type\": \"scatter3d\"}], \"scattercarpet\": [{\"marker\": {\"colorbar\": {\"outlinewidth\": 0, \"ticks\": \"\"}}, \"type\": \"scattercarpet\"}], \"scattergeo\": [{\"marker\": {\"colorbar\": {\"outlinewidth\": 0, \"ticks\": \"\"}}, \"type\": \"scattergeo\"}], \"scattergl\": [{\"marker\": {\"colorbar\": {\"outlinewidth\": 0, \"ticks\": \"\"}}, \"type\": \"scattergl\"}], \"scattermapbox\": [{\"marker\": {\"colorbar\": {\"outlinewidth\": 0, \"ticks\": \"\"}}, \"type\": \"scattermapbox\"}], \"scatterpolar\": [{\"marker\": {\"colorbar\": {\"outlinewidth\": 0, \"ticks\": \"\"}}, \"type\": \"scatterpolar\"}], \"scatterpolargl\": [{\"marker\": {\"colorbar\": {\"outlinewidth\": 0, \"ticks\": \"\"}}, \"type\": \"scatterpolargl\"}], \"scatterternary\": [{\"marker\": {\"colorbar\": {\"outlinewidth\": 0, \"ticks\": \"\"}}, \"type\": \"scatterternary\"}], \"surface\": [{\"colorbar\": {\"outlinewidth\": 0, \"ticks\": \"\"}, \"colorscale\": [[0.0, \"#0d0887\"], [0.1111111111111111, \"#46039f\"], [0.2222222222222222, \"#7201a8\"], [0.3333333333333333, \"#9c179e\"], [0.4444444444444444, \"#bd3786\"], [0.5555555555555556, \"#d8576b\"], [0.6666666666666666, \"#ed7953\"], [0.7777777777777778, \"#fb9f3a\"], [0.8888888888888888, \"#fdca26\"], [1.0, \"#f0f921\"]], \"type\": \"surface\"}], \"table\": [{\"cells\": {\"fill\": {\"color\": \"#EBF0F8\"}, \"line\": {\"color\": \"white\"}}, \"header\": {\"fill\": {\"color\": \"#C8D4E3\"}, \"line\": {\"color\": \"white\"}}, \"type\": \"table\"}]}, \"layout\": {\"annotationdefaults\": {\"arrowcolor\": \"#2a3f5f\", \"arrowhead\": 0, \"arrowwidth\": 1}, \"coloraxis\": {\"colorbar\": {\"outlinewidth\": 0, \"ticks\": \"\"}}, \"colorscale\": {\"diverging\": [[0, \"#8e0152\"], [0.1, \"#c51b7d\"], [0.2, \"#de77ae\"], [0.3, \"#f1b6da\"], [0.4, \"#fde0ef\"], [0.5, \"#f7f7f7\"], [0.6, \"#e6f5d0\"], [0.7, \"#b8e186\"], [0.8, \"#7fbc41\"], [0.9, \"#4d9221\"], [1, \"#276419\"]], \"sequential\": [[0.0, \"#0d0887\"], [0.1111111111111111, \"#46039f\"], [0.2222222222222222, \"#7201a8\"], [0.3333333333333333, \"#9c179e\"], [0.4444444444444444, \"#bd3786\"], [0.5555555555555556, \"#d8576b\"], [0.6666666666666666, \"#ed7953\"], [0.7777777777777778, \"#fb9f3a\"], [0.8888888888888888, \"#fdca26\"], [1.0, \"#f0f921\"]], \"sequentialminus\": [[0.0, \"#0d0887\"], [0.1111111111111111, \"#46039f\"], [0.2222222222222222, \"#7201a8\"], [0.3333333333333333, \"#9c179e\"], [0.4444444444444444, \"#bd3786\"], [0.5555555555555556, \"#d8576b\"], [0.6666666666666666, \"#ed7953\"], [0.7777777777777778, \"#fb9f3a\"], [0.8888888888888888, \"#fdca26\"], [1.0, \"#f0f921\"]]}, \"colorway\": [\"#636efa\", \"#EF553B\", \"#00cc96\", \"#ab63fa\", \"#FFA15A\", \"#19d3f3\", \"#FF6692\", \"#B6E880\", \"#FF97FF\", \"#FECB52\"], \"font\": {\"color\": \"#2a3f5f\"}, \"geo\": {\"bgcolor\": \"white\", \"lakecolor\": \"white\", \"landcolor\": \"white\", \"showlakes\": true, \"showland\": true, \"subunitcolor\": \"#C8D4E3\"}, \"hoverlabel\": {\"align\": \"left\"}, \"hovermode\": \"closest\", \"mapbox\": {\"style\": \"light\"}, \"paper_bgcolor\": \"white\", \"plot_bgcolor\": \"white\", \"polar\": {\"angularaxis\": {\"gridcolor\": \"#EBF0F8\", \"linecolor\": \"#EBF0F8\", \"ticks\": \"\"}, \"bgcolor\": \"white\", \"radialaxis\": {\"gridcolor\": \"#EBF0F8\", \"linecolor\": \"#EBF0F8\", \"ticks\": \"\"}}, \"scene\": {\"xaxis\": {\"backgroundcolor\": \"white\", \"gridcolor\": \"#DFE8F3\", \"gridwidth\": 2, \"linecolor\": \"#EBF0F8\", \"showbackground\": true, \"ticks\": \"\", \"zerolinecolor\": \"#EBF0F8\"}, \"yaxis\": {\"backgroundcolor\": \"white\", \"gridcolor\": \"#DFE8F3\", \"gridwidth\": 2, \"linecolor\": \"#EBF0F8\", \"showbackground\": true, \"ticks\": \"\", \"zerolinecolor\": \"#EBF0F8\"}, \"zaxis\": {\"backgroundcolor\": \"white\", \"gridcolor\": \"#DFE8F3\", \"gridwidth\": 2, \"linecolor\": \"#EBF0F8\", \"showbackground\": true, \"ticks\": \"\", \"zerolinecolor\": \"#EBF0F8\"}}, \"shapedefaults\": {\"line\": {\"color\": \"#2a3f5f\"}}, \"ternary\": {\"aaxis\": {\"gridcolor\": \"#DFE8F3\", \"linecolor\": \"#A2B1C6\", \"ticks\": \"\"}, \"baxis\": {\"gridcolor\": \"#DFE8F3\", \"linecolor\": \"#A2B1C6\", \"ticks\": \"\"}, \"bgcolor\": \"white\", \"caxis\": {\"gridcolor\": \"#DFE8F3\", \"linecolor\": \"#A2B1C6\", \"ticks\": \"\"}}, \"title\": {\"x\": 0.05}, \"xaxis\": {\"automargin\": true, \"gridcolor\": \"#EBF0F8\", \"linecolor\": \"#EBF0F8\", \"ticks\": \"\", \"title\": {\"standoff\": 15}, \"zerolinecolor\": \"#EBF0F8\", \"zerolinewidth\": 2}, \"yaxis\": {\"automargin\": true, \"gridcolor\": \"#EBF0F8\", \"linecolor\": \"#EBF0F8\", \"ticks\": \"\", \"title\": {\"standoff\": 15}, \"zerolinecolor\": \"#EBF0F8\", \"zerolinewidth\": 2}}}, \"title\": {\"text\": \"Acceleration\"}, \"width\": 900, \"xaxis\": {\"anchor\": \"y\", \"domain\": [0.0, 1.0], \"linecolor\": \"black\", \"linewidth\": 1, \"matches\": \"x2\", \"showgrid\": false, \"showline\": true, \"showticklabels\": false, \"tickcolor\": \"black\", \"ticklen\": 10, \"ticks\": \"outside\", \"tickwidth\": 1, \"title\": {\"text\": \"\"}, \"zeroline\": false}, \"xaxis2\": {\"anchor\": \"y2\", \"domain\": [0.0, 1.0], \"linecolor\": \"black\", \"linewidth\": 1, \"showgrid\": false, \"showline\": true, \"tickcolor\": \"black\", \"ticklen\": 10, \"ticks\": \"outside\", \"tickwidth\": 1, \"title\": {\"text\": \"Time (s)\"}, \"zeroline\": false}, \"yaxis\": {\"anchor\": \"x\", \"domain\": [0.5349999999999999, 0.9999999999999999], \"linecolor\": \"black\", \"linewidth\": 1, \"showgrid\": false, \"showline\": true, \"tickcolor\": \"black\", \"ticklen\": 10, \"ticks\": \"outside\", \"tickwidth\": 1, \"title\": {\"text\": \"Forward Accel (g)\"}, \"zeroline\": false}, \"yaxis2\": {\"anchor\": \"x2\", \"domain\": [0.0, 0.46499999999999997], \"linecolor\": \"black\", \"linewidth\": 1, \"showgrid\": false, \"showline\": true, \"tickcolor\": \"black\", \"ticklen\": 10, \"ticks\": \"outside\", \"tickwidth\": 1, \"title\": {\"text\": \"Rightward Accel (g)\"}, \"zeroline\": false}},\n",
       "                        {\"responsive\": true}\n",
       "                    ).then(function(){\n",
       "                            \n",
       "var gd = document.getElementById('056bf636-34ee-4343-8ae9-c384485114a9');\n",
       "var x = new MutationObserver(function (mutations, observer) {{\n",
       "        var display = window.getComputedStyle(gd).display;\n",
       "        if (!display || display === 'none') {{\n",
       "            console.log([gd, 'removed!']);\n",
       "            Plotly.purge(gd);\n",
       "            observer.disconnect();\n",
       "        }}\n",
       "}});\n",
       "\n",
       "// Listen for the removal of the full notebook cells\n",
       "var notebookContainer = gd.closest('#notebook-container');\n",
       "if (notebookContainer) {{\n",
       "    x.observe(notebookContainer, {childList: true});\n",
       "}}\n",
       "\n",
       "// Listen for the clearing of the current output cell\n",
       "var outputEl = gd.closest('.output');\n",
       "if (outputEl) {{\n",
       "    x.observe(outputEl, {childList: true});\n",
       "}}\n",
       "\n",
       "                        })\n",
       "                };\n",
       "                });\n",
       "            </script>\n",
       "        </div>"
      ]
     },
     "metadata": {},
     "output_type": "display_data"
    }
   ],
   "source": [
    "compare_kinematics(run.veh.model, df, 'pycrash', 'validate')"
   ]
  },
  {
   "cell_type": "code",
   "execution_count": 46,
   "metadata": {},
   "outputs": [],
   "source": [
    "from pycrash.visualization.tire_details import tire_details, vertical_forces"
   ]
  },
  {
   "cell_type": "code",
   "execution_count": 47,
   "metadata": {},
   "outputs": [
    {
     "data": {
      "application/vnd.plotly.v1+json": {
       "config": {
        "plotlyServerURL": "https://plot.ly"
       },
       "data": [
        {
         "line": {
          "color": "rgb(0, 0, 255)",
          "dash": "solid",
          "width": 1
         },
         "mode": "lines",
         "name": "LF",
         "type": "scatter",
         "x": [
          0,
          0.1,
          0.2,
          0.3,
          0.4,
          0.5,
          0.6,
          0.7,
          0.8,
          0.9,
          1,
          1.1,
          1.2,
          1.3,
          1.4,
          1.5,
          1.6,
          1.7,
          1.8,
          1.9,
          2,
          2.1,
          2.2,
          2.3,
          2.4,
          2.5,
          2.6,
          2.7,
          2.8,
          2.9,
          3,
          3.1,
          3.2,
          3.3,
          3.4,
          3.5,
          3.6,
          3.7,
          3.8,
          3.9,
          4,
          4.1,
          4.2,
          4.3,
          4.4,
          4.5,
          4.6,
          4.7,
          4.8,
          4.9,
          5,
          5.1,
          5.2,
          5.3,
          5.4,
          5.5,
          5.6,
          5.7,
          5.8,
          5.9,
          6,
          6.1,
          6.2,
          6.3,
          6.4,
          6.5,
          6.6,
          6.7,
          6.8,
          6.9,
          7,
          7.1,
          7.2,
          7.3,
          7.4,
          7.5,
          7.6,
          7.7,
          7.8,
          7.9,
          8,
          8.1,
          8.2,
          8.3,
          8.4,
          8.5,
          8.6,
          8.7,
          8.8,
          8.9,
          9,
          9.1,
          9.2,
          9.3,
          9.4,
          9.5,
          9.6,
          9.7,
          9.8,
          9.9,
          10,
          10.1,
          10.2,
          10.3,
          10.4,
          10.5,
          10.6,
          10.7,
          10.8,
          10.9
         ],
         "xaxis": "x",
         "y": [
          0,
          0,
          0,
          0,
          0,
          0,
          0,
          0,
          0,
          0,
          0,
          -2.037739056603774,
          -3.6738500358169257,
          -4.232370014398102,
          -4.339631559208505,
          -4.661111616002605,
          -5.355383530563801,
          -6.227372690052415,
          -7.0540976239287705,
          -7.739657114991977,
          -8.292394663609027,
          -6.802611221401394,
          -5.692296829600614,
          -5.617629817611412,
          -6.037547492747636,
          -6.254768601243531,
          -6.078730268293376,
          -5.708301812413746,
          -5.377619915039061,
          -5.168536266537759,
          -5.037397614683099,
          -4.917713205153405,
          -4.780736731488194,
          -4.6335969985973,
          -4.4923136782554725,
          -4.364103951215684,
          -4.246692249878024,
          -4.13523594791915,
          -4.027196811546867,
          -3.922636449295372,
          -3.822362039967091,
          -3.7265998645344647,
          -3.634922164482837,
          -3.5467579268343106,
          -3.4617438524878947,
          -3.379724549171367,
          -3.3006001520755643,
          -3.2242296735464415,
          -3.150435515441637,
          -3.0790468558407773,
          -3.0099230667995727,
          -2.942947916978701,
          -2.8780147916275562,
          -2.815019487368386,
          -2.7538617208028584,
          -2.694448622704399,
          -2.6366955896939963,
          -2.580524708602326,
          -2.525862975631406,
          -2.4726415482495123,
          -2.4207957523306023,
          -2.3702651027067487,
          -2.3209930155573875,
          -2.272926360553789,
          -2.226015087808122,
          -2.180211997603178,
          -2.1354725800939067,
          -2.0917548471819964,
          -2.0490191429362756,
          -2.0072279599015563,
          -1.9663457825301778,
          -1.9263389557619035,
          -1.8871755660603455,
          -1.8488253272718858,
          -1.8112594720597317,
          -1.7744506522786547,
          -1.7383728491524595,
          -1.7030012914037418,
          -1.6683123791963295,
          -1.634283613011072,
          -1.6008935275310197,
          -1.5681216305879806,
          -1.5359483467612225,
          -1.5043549649957717,
          -1.4733235897509815,
          -1.4428370954241236,
          -1.4128790838865237,
          -1.383433844925063,
          -1.3544863193290084,
          -1.3260220643748963,
          -1.2980272215175637,
          -1.270488486137837,
          -1.2433930792071148,
          -1.2167287207250375,
          -1.1904836047911245,
          -1.1646463761875414,
          -1.139206108367365,
          -1.114152282753035,
          -1.089474769254053,
          -1.0651638079177186,
          -1.0412099916338242,
          -1.017604249822136,
          -0.9943378330379892,
          -0.9714022984356059,
          -0.948789496032546,
          -0.9264915557228794,
          -0.9045008749910143,
          -0.8828101072819291,
          -0.8614121509866098,
          -0.8403001390045092
         ],
         "yaxis": "y"
        },
        {
         "line": {
          "color": "rgb(0, 255, 0)",
          "dash": "solid",
          "width": 1
         },
         "mode": "lines",
         "name": "RF",
         "type": "scatter",
         "x": [
          0,
          0.1,
          0.2,
          0.3,
          0.4,
          0.5,
          0.6,
          0.7,
          0.8,
          0.9,
          1,
          1.1,
          1.2,
          1.3,
          1.4,
          1.5,
          1.6,
          1.7,
          1.8,
          1.9,
          2,
          2.1,
          2.2,
          2.3,
          2.4,
          2.5,
          2.6,
          2.7,
          2.8,
          2.9,
          3,
          3.1,
          3.2,
          3.3,
          3.4,
          3.5,
          3.6,
          3.7,
          3.8,
          3.9,
          4,
          4.1,
          4.2,
          4.3,
          4.4,
          4.5,
          4.6,
          4.7,
          4.8,
          4.9,
          5,
          5.1,
          5.2,
          5.3,
          5.4,
          5.5,
          5.6,
          5.7,
          5.8,
          5.9,
          6,
          6.1,
          6.2,
          6.3,
          6.4,
          6.5,
          6.6,
          6.7,
          6.8,
          6.9,
          7,
          7.1,
          7.2,
          7.3,
          7.4,
          7.5,
          7.6,
          7.7,
          7.8,
          7.9,
          8,
          8.1,
          8.2,
          8.3,
          8.4,
          8.5,
          8.6,
          8.7,
          8.8,
          8.9,
          9,
          9.1,
          9.2,
          9.3,
          9.4,
          9.5,
          9.6,
          9.7,
          9.8,
          9.9,
          10,
          10.1,
          10.2,
          10.3,
          10.4,
          10.5,
          10.6,
          10.7,
          10.8,
          10.9
         ],
         "xaxis": "x",
         "y": [
          0,
          0,
          0,
          0,
          0,
          0,
          0,
          0,
          0,
          0,
          0,
          -2.037739056603774,
          -3.677471988825095,
          -4.283375709375462,
          -4.5364992748202,
          -5.090083980486325,
          -6.060726600678918,
          -7.241971348788333,
          -8.426542042104877,
          -9.53436172604905,
          -10.57770834117903,
          -9.619694478922371,
          -8.896520966711464,
          -8.898366188565607,
          -9.219140189040028,
          -9.362038833485862,
          -9.20208519340045,
          -8.898973705286627,
          -8.632367020463498,
          -8.462305544706066,
          -8.352941753527173,
          -8.252284900660163,
          -8.138297390672962,
          -8.016810054899437,
          -7.900366342320297,
          -7.7945225784114385,
          -7.697416222709688,
          -7.605214381379919,
          -7.515913712538759,
          -7.429553707962615,
          -7.346755234626336,
          -7.267680438819067,
          -7.1919782242960695,
          -7.119187259017863,
          -7.049011881395306,
          -6.981321388566584,
          -6.916029337616872,
          -6.853017199370674,
          -6.792138074212821,
          -6.733251081369434,
          -6.676239821211447,
          -6.621007642311044,
          -6.567465823717646,
          -6.515527832272304,
          -6.465110530221709,
          -6.416136948066183,
          -6.368536931280355,
          -6.3222458479239645,
          -6.277203144440644,
          -6.23335173868295,
          -6.1906380197454,
          -6.1490118547452814,
          -6.1084263456815835,
          -6.068837458948944,
          -6.0302037182255885,
          -5.992486014291869,
          -5.955647471275009,
          -5.919653305982896,
          -5.884470669954691,
          -5.850068497019273,
          -5.816417373575494,
          -5.783489429585303,
          -5.751258239686237,
          -5.719698728250282,
          -5.688787079166941,
          -5.65850065315832,
          -5.628817913260303,
          -5.59971835686769,
          -5.571182452568945,
          -5.543191581080027,
          -5.515727980364426,
          -5.488774694974052,
          -5.462315529251198,
          -5.436335003858204,
          -5.410818315234864,
          -5.3857512977799615,
          -5.361120388623088,
          -5.336912594810223,
          -5.3131154626836095,
          -5.289717049250965,
          -5.266705895386808,
          -5.244071000742689,
          -5.221801800249485,
          -5.199888142091154,
          -5.178320267034215,
          -5.157088789011497,
          -5.136184676872701,
          -5.115599237222627,
          -5.095324098271091,
          -5.075351194622944,
          -5.055672752942594,
          -5.036281278434029,
          -5.017169542082619,
          -4.998330568608561,
          -4.979757625084832,
          -4.961444210176222,
          -4.943384043959551,
          -4.92557105828832,
          -4.9079993876677,
          -4.890663360607911
         ],
         "yaxis": "y"
        },
        {
         "line": {
          "color": "rgb(153, 0, 204)",
          "dash": "solid",
          "width": 1
         },
         "mode": "lines",
         "name": "RR",
         "type": "scatter",
         "x": [
          0,
          0.1,
          0.2,
          0.3,
          0.4,
          0.5,
          0.6,
          0.7,
          0.8,
          0.9,
          1,
          1.1,
          1.2,
          1.3,
          1.4,
          1.5,
          1.6,
          1.7,
          1.8,
          1.9,
          2,
          2.1,
          2.2,
          2.3,
          2.4,
          2.5,
          2.6,
          2.7,
          2.8,
          2.9,
          3,
          3.1,
          3.2,
          3.3,
          3.4,
          3.5,
          3.6,
          3.7,
          3.8,
          3.9,
          4,
          4.1,
          4.2,
          4.3,
          4.4,
          4.5,
          4.6,
          4.7,
          4.8,
          4.9,
          5,
          5.1,
          5.2,
          5.3,
          5.4,
          5.5,
          5.6,
          5.7,
          5.8,
          5.9,
          6,
          6.1,
          6.2,
          6.3,
          6.4,
          6.5,
          6.6,
          6.7,
          6.8,
          6.9,
          7,
          7.1,
          7.2,
          7.3,
          7.4,
          7.5,
          7.6,
          7.7,
          7.8,
          7.9,
          8,
          8.1,
          8.2,
          8.3,
          8.4,
          8.5,
          8.6,
          8.7,
          8.8,
          8.9,
          9,
          9.1,
          9.2,
          9.3,
          9.4,
          9.5,
          9.6,
          9.7,
          9.8,
          9.9,
          10,
          10.1,
          10.2,
          10.3,
          10.4,
          10.5,
          10.6,
          10.7,
          10.8,
          10.9
         ],
         "xaxis": "x",
         "y": [
          0,
          0,
          0,
          0,
          0,
          0,
          0,
          0,
          0,
          0,
          0,
          0,
          0.04063954967771828,
          0.06914437932823148,
          -0.15291957139271448,
          -0.774652817134303,
          -1.6850699910365894,
          -2.65526870968255,
          -3.526061239575764,
          -4.2589602468781,
          -4.881182049855804,
          -5.441238394767229,
          -5.94370750362912,
          -6.330522695268723,
          -6.510462117073277,
          -6.433243718728318,
          -6.176325780917918,
          -5.880610861598034,
          -5.644965873264419,
          -5.485327949858507,
          -5.366480424560704,
          -5.25235407451506,
          -5.130322762272977,
          -5.00597720804642,
          -4.888118537628006,
          -4.780073990255222,
          -4.680024071039841,
          -4.584990717190695,
          -4.493441698991887,
          -4.405338829898631,
          -4.32104616595086,
          -4.240581498086858,
          -4.163592116838051,
          -4.089658926430981,
          -4.0184994905035145,
          -3.9499626262999126,
          -3.8839341342725997,
          -3.8202781964658357,
          -3.7588409275616343,
          -3.6994772967008833,
          -3.6420650237417607,
          -3.586500034964226,
          -3.532686541464815,
          -3.4805322975355093,
          -3.429949580252103,
          -3.3808573609913513,
          -3.3331816312702904,
          -3.2868541198227264,
          -3.2418109530695607,
          -3.197992081704848,
          -3.1553412333896427,
          -3.1138058525138055,
          -3.073336813209504,
          -3.0338880315193633,
          -2.995416151297676,
          -2.9578803441338293,
          -2.9212421600412806,
          -2.8854653696352006,
          -2.8505157918645434,
          -2.816361131317153,
          -2.7829708406960574,
          -2.7503160043872223,
          -2.7183692317903514,
          -2.687104554823352,
          -2.6564973311538203,
          -2.6265241560944577,
          -2.597162783362115,
          -2.5683920526719803,
          -2.540191822315893,
          -2.512542906189896,
          -2.48542701546273,
          -2.458826704859367,
          -2.4327253230684347,
          -2.4071069666661864,
          -2.3819564371627613,
          -2.35725920099129,
          -2.33300135229646,
          -2.309169578308245,
          -2.285751127047748,
          -2.2627337771479077,
          -2.2401058096309887,
          -2.2178559815142442,
          -2.195973501113493,
          -2.174448004909686,
          -2.1532695358535103,
          -2.1324285230016695,
          -2.1119157623930276,
          -2.091722399078863,
          -2.0718399102245746,
          -2.052260089205563,
          -2.0329750306277767,
          -2.013977116210505,
          -1.9952590014739882,
          -1.9768136031778774,
          -1.9586340874602493,
          -1.9407138586309136,
          -1.923046548576727,
          -1.9056260067399162,
          -1.888446290632994,
          -1.8715016568563234
         ],
         "yaxis": "y"
        },
        {
         "line": {
          "color": "rgb(255, 102, 0)",
          "dash": "solid",
          "width": 1
         },
         "mode": "lines",
         "name": "LR",
         "type": "scatter",
         "x": [
          0,
          0.1,
          0.2,
          0.3,
          0.4,
          0.5,
          0.6,
          0.7,
          0.8,
          0.9,
          1,
          1.1,
          1.2,
          1.3,
          1.4,
          1.5,
          1.6,
          1.7,
          1.8,
          1.9,
          2,
          2.1,
          2.2,
          2.3,
          2.4,
          2.5,
          2.6,
          2.7,
          2.8,
          2.9,
          3,
          3.1,
          3.2,
          3.3,
          3.4,
          3.5,
          3.6,
          3.7,
          3.8,
          3.9,
          4,
          4.1,
          4.2,
          4.3,
          4.4,
          4.5,
          4.6,
          4.7,
          4.8,
          4.9,
          5,
          5.1,
          5.2,
          5.3,
          5.4,
          5.5,
          5.6,
          5.7,
          5.8,
          5.9,
          6,
          6.1,
          6.2,
          6.3,
          6.4,
          6.5,
          6.6,
          6.7,
          6.8,
          6.9,
          7,
          7.1,
          7.2,
          7.3,
          7.4,
          7.5,
          7.6,
          7.7,
          7.8,
          7.9,
          8,
          8.1,
          8.2,
          8.3,
          8.4,
          8.5,
          8.6,
          8.7,
          8.8,
          8.9,
          9,
          9.1,
          9.2,
          9.3,
          9.4,
          9.5,
          9.6,
          9.7,
          9.8,
          9.9,
          10,
          10.1,
          10.2,
          10.3,
          10.4,
          10.5,
          10.6,
          10.7,
          10.8,
          10.9
         ],
         "xaxis": "x",
         "y": [
          0,
          0,
          0,
          0,
          0,
          0,
          0,
          0,
          0,
          0,
          0,
          0,
          0.040875298984174586,
          0.0706910856102776,
          -0.15995912615748556,
          -0.8304423278081554,
          -1.8498688713875182,
          -2.9816869864047173,
          -4.047581665588118,
          -4.996791203642112,
          -5.853364085274825,
          -6.664843683615484,
          -7.390855551036045,
          -7.907193146126318,
          -8.115302088139913,
          -7.997172663676232,
          -7.670681155070123,
          -7.306794709788467,
          -7.018885981054007,
          -6.822699531863367,
          -6.675068425197962,
          -6.532925550254749,
          -6.381475935120511,
          -6.22757428680517,
          -6.081772880353653,
          -5.948011006734144,
          -5.824053547427383,
          -5.7062897155994525,
          -5.59286125661364,
          -5.483715225139636,
          -5.379284345842474,
          -5.279582172655066,
          -5.1841739418261525,
          -5.092545267787984,
          -5.004348535536482,
          -4.919396228060501,
          -4.837546134965929,
          -4.758629922009372,
          -4.682457447077907,
          -4.608849610895142,
          -4.5376553087679055,
          -4.468745838759818,
          -4.402002733870224,
          -4.337311946194762,
          -4.274565047983086,
          -4.213661892610844,
          -4.154511005972563,
          -4.097028001208697,
          -4.041133926847629,
          -3.9867545601890364,
          -3.9338203487305528,
          -3.882266334559602,
          -3.832031798524452,
          -3.7830597803558415,
          -3.7352966905225298,
          -3.688692063241958,
          -3.643198372072976,
          -3.598770834731348,
          -3.5553671999724954,
          -3.512947546422493,
          -3.471474112661834,
          -3.430911153414687,
          -3.39122480775299,
          -3.3523829724085576,
          -3.314355182165043,
          -3.2771125009908215,
          -3.2406274241483364,
          -3.2048737887470233,
          -3.169826690442046,
          -3.1354624056258458,
          -3.1017583193596825,
          -3.068692859014412,
          -3.03624543300822,
          -3.004396373886656,
          -2.973126885258233,
          -2.942418992366263,
          -2.9122554961208595,
          -2.8826199303254474,
          -2.8534965217839257,
          -2.8248701530198264,
          -2.796726327412621,
          -2.7690511365926738,
          -2.7418312299338123,
          -2.7150537859765516,
          -2.68870648562744,
          -2.6627774870032406,
          -2.6372554018066308,
          -2.6121292731274846,
          -2.5873885545675783,
          -2.563023090593206,
          -2.5390230980298534,
          -2.515379148621871,
          -2.492082152586207,
          -2.4691233430935315,
          -2.4464942616146175,
          -2.4241867440748397,
          -2.4021929077645643,
          -2.38050513895728,
          -2.3591160811904923,
          -2.3380186241674217
         ],
         "yaxis": "y"
        },
        {
         "line": {
          "color": "rgb(0, 0, 255)",
          "dash": "solid",
          "width": 1
         },
         "mode": "lines",
         "name": "LF",
         "showlegend": false,
         "type": "scatter",
         "x": [
          0,
          0.1,
          0.2,
          0.3,
          0.4,
          0.5,
          0.6,
          0.7,
          0.8,
          0.9,
          1,
          1.1,
          1.2,
          1.3,
          1.4,
          1.5,
          1.6,
          1.7,
          1.8,
          1.9,
          2,
          2.1,
          2.2,
          2.3,
          2.4,
          2.5,
          2.6,
          2.7,
          2.8,
          2.9,
          3,
          3.1,
          3.2,
          3.3,
          3.4,
          3.5,
          3.6,
          3.7,
          3.8,
          3.9,
          4,
          4.1,
          4.2,
          4.3,
          4.4,
          4.5,
          4.6,
          4.7,
          4.8,
          4.9,
          5,
          5.1,
          5.2,
          5.3,
          5.4,
          5.5,
          5.6,
          5.7,
          5.8,
          5.9,
          6,
          6.1,
          6.2,
          6.3,
          6.4,
          6.5,
          6.6,
          6.7,
          6.8,
          6.9,
          7,
          7.1,
          7.2,
          7.3,
          7.4,
          7.5,
          7.6,
          7.7,
          7.8,
          7.9,
          8,
          8.1,
          8.2,
          8.3,
          8.4,
          8.5,
          8.6,
          8.7,
          8.8,
          8.9,
          9,
          9.1,
          9.2,
          9.3,
          9.4,
          9.5,
          9.6,
          9.7,
          9.8,
          9.9,
          10,
          10.1,
          10.2,
          10.3,
          10.4,
          10.5,
          10.6,
          10.7,
          10.8,
          10.9
         ],
         "xaxis": "x2",
         "y": [
          0,
          0,
          0,
          0,
          0,
          0,
          0,
          0,
          0,
          0,
          0,
          0,
          0,
          0,
          0,
          0,
          0,
          0,
          0,
          0,
          0,
          0,
          0,
          0,
          0,
          0,
          0,
          0,
          0,
          0,
          0,
          0,
          0,
          0,
          0,
          0,
          0,
          0,
          0,
          0,
          0,
          0,
          0,
          0,
          0,
          0,
          0,
          0,
          0,
          0,
          0,
          0,
          0,
          0,
          0,
          0,
          0,
          0,
          0,
          0,
          0,
          0,
          0,
          0,
          0,
          0,
          0,
          0,
          0,
          0,
          0,
          0,
          0,
          0,
          0,
          0,
          0,
          0,
          0,
          0,
          0,
          0,
          0,
          0,
          0,
          0,
          0,
          0,
          0,
          0,
          0,
          0,
          0,
          0,
          0,
          0,
          0,
          0,
          0,
          0,
          0,
          0,
          0,
          0,
          0,
          0,
          0,
          0,
          0,
          0
         ],
         "yaxis": "y2"
        },
        {
         "line": {
          "color": "rgb(0, 255, 0)",
          "dash": "solid",
          "width": 1
         },
         "mode": "lines",
         "name": "RF",
         "showlegend": false,
         "type": "scatter",
         "x": [
          0,
          0.1,
          0.2,
          0.3,
          0.4,
          0.5,
          0.6,
          0.7,
          0.8,
          0.9,
          1,
          1.1,
          1.2,
          1.3,
          1.4,
          1.5,
          1.6,
          1.7,
          1.8,
          1.9,
          2,
          2.1,
          2.2,
          2.3,
          2.4,
          2.5,
          2.6,
          2.7,
          2.8,
          2.9,
          3,
          3.1,
          3.2,
          3.3,
          3.4,
          3.5,
          3.6,
          3.7,
          3.8,
          3.9,
          4,
          4.1,
          4.2,
          4.3,
          4.4,
          4.5,
          4.6,
          4.7,
          4.8,
          4.9,
          5,
          5.1,
          5.2,
          5.3,
          5.4,
          5.5,
          5.6,
          5.7,
          5.8,
          5.9,
          6,
          6.1,
          6.2,
          6.3,
          6.4,
          6.5,
          6.6,
          6.7,
          6.8,
          6.9,
          7,
          7.1,
          7.2,
          7.3,
          7.4,
          7.5,
          7.6,
          7.7,
          7.8,
          7.9,
          8,
          8.1,
          8.2,
          8.3,
          8.4,
          8.5,
          8.6,
          8.7,
          8.8,
          8.9,
          9,
          9.1,
          9.2,
          9.3,
          9.4,
          9.5,
          9.6,
          9.7,
          9.8,
          9.9,
          10,
          10.1,
          10.2,
          10.3,
          10.4,
          10.5,
          10.6,
          10.7,
          10.8,
          10.9
         ],
         "xaxis": "x2",
         "y": [
          0,
          0,
          0,
          0,
          0,
          0,
          0,
          0,
          0,
          0,
          0,
          0,
          0,
          0,
          0,
          0,
          0,
          0,
          0,
          0,
          0,
          0,
          0,
          0,
          0,
          0,
          0,
          0,
          0,
          0,
          0,
          0,
          0,
          0,
          0,
          0,
          0,
          0,
          0,
          0,
          0,
          0,
          0,
          0,
          0,
          0,
          0,
          0,
          0,
          0,
          0,
          0,
          0,
          0,
          0,
          0,
          0,
          0,
          0,
          0,
          0,
          0,
          0,
          0,
          0,
          0,
          0,
          0,
          0,
          0,
          0,
          0,
          0,
          0,
          0,
          0,
          0,
          0,
          0,
          0,
          0,
          0,
          0,
          0,
          0,
          0,
          0,
          0,
          0,
          0,
          0,
          0,
          0,
          0,
          0,
          0,
          0,
          0,
          0,
          0,
          0,
          0,
          0,
          0,
          0,
          0,
          0,
          0,
          0,
          0
         ],
         "yaxis": "y2"
        },
        {
         "line": {
          "color": "rgb(153, 0, 204)",
          "dash": "solid",
          "width": 1
         },
         "mode": "lines",
         "name": "RR",
         "showlegend": false,
         "type": "scatter",
         "x": [
          0,
          0.1,
          0.2,
          0.3,
          0.4,
          0.5,
          0.6,
          0.7,
          0.8,
          0.9,
          1,
          1.1,
          1.2,
          1.3,
          1.4,
          1.5,
          1.6,
          1.7,
          1.8,
          1.9,
          2,
          2.1,
          2.2,
          2.3,
          2.4,
          2.5,
          2.6,
          2.7,
          2.8,
          2.9,
          3,
          3.1,
          3.2,
          3.3,
          3.4,
          3.5,
          3.6,
          3.7,
          3.8,
          3.9,
          4,
          4.1,
          4.2,
          4.3,
          4.4,
          4.5,
          4.6,
          4.7,
          4.8,
          4.9,
          5,
          5.1,
          5.2,
          5.3,
          5.4,
          5.5,
          5.6,
          5.7,
          5.8,
          5.9,
          6,
          6.1,
          6.2,
          6.3,
          6.4,
          6.5,
          6.6,
          6.7,
          6.8,
          6.9,
          7,
          7.1,
          7.2,
          7.3,
          7.4,
          7.5,
          7.6,
          7.7,
          7.8,
          7.9,
          8,
          8.1,
          8.2,
          8.3,
          8.4,
          8.5,
          8.6,
          8.7,
          8.8,
          8.9,
          9,
          9.1,
          9.2,
          9.3,
          9.4,
          9.5,
          9.6,
          9.7,
          9.8,
          9.9,
          10,
          10.1,
          10.2,
          10.3,
          10.4,
          10.5,
          10.6,
          10.7,
          10.8,
          10.9
         ],
         "xaxis": "x2",
         "y": [
          0,
          0,
          0,
          0,
          0,
          0,
          0,
          0,
          0,
          0,
          0,
          0,
          0,
          0,
          0,
          0,
          0,
          0,
          0,
          0,
          0,
          0,
          0,
          0,
          0,
          0,
          0,
          0,
          0,
          0,
          0,
          0,
          0,
          0,
          0,
          0,
          0,
          0,
          0,
          0,
          0,
          0,
          0,
          0,
          0,
          0,
          0,
          0,
          0,
          0,
          0,
          0,
          0,
          0,
          0,
          0,
          0,
          0,
          0,
          0,
          0,
          0,
          0,
          0,
          0,
          0,
          0,
          0,
          0,
          0,
          0,
          0,
          0,
          0,
          0,
          0,
          0,
          0,
          0,
          0,
          0,
          0,
          0,
          0,
          0,
          0,
          0,
          0,
          0,
          0,
          0,
          0,
          0,
          0,
          0,
          0,
          0,
          0,
          0,
          0,
          0,
          0,
          0,
          0,
          0,
          0,
          0,
          0,
          0,
          0
         ],
         "yaxis": "y2"
        },
        {
         "line": {
          "color": "rgb(255, 102, 0)",
          "dash": "solid",
          "width": 1
         },
         "mode": "lines",
         "name": "LR",
         "showlegend": false,
         "type": "scatter",
         "x": [
          0,
          0.1,
          0.2,
          0.3,
          0.4,
          0.5,
          0.6,
          0.7,
          0.8,
          0.9,
          1,
          1.1,
          1.2,
          1.3,
          1.4,
          1.5,
          1.6,
          1.7,
          1.8,
          1.9,
          2,
          2.1,
          2.2,
          2.3,
          2.4,
          2.5,
          2.6,
          2.7,
          2.8,
          2.9,
          3,
          3.1,
          3.2,
          3.3,
          3.4,
          3.5,
          3.6,
          3.7,
          3.8,
          3.9,
          4,
          4.1,
          4.2,
          4.3,
          4.4,
          4.5,
          4.6,
          4.7,
          4.8,
          4.9,
          5,
          5.1,
          5.2,
          5.3,
          5.4,
          5.5,
          5.6,
          5.7,
          5.8,
          5.9,
          6,
          6.1,
          6.2,
          6.3,
          6.4,
          6.5,
          6.6,
          6.7,
          6.8,
          6.9,
          7,
          7.1,
          7.2,
          7.3,
          7.4,
          7.5,
          7.6,
          7.7,
          7.8,
          7.9,
          8,
          8.1,
          8.2,
          8.3,
          8.4,
          8.5,
          8.6,
          8.7,
          8.8,
          8.9,
          9,
          9.1,
          9.2,
          9.3,
          9.4,
          9.5,
          9.6,
          9.7,
          9.8,
          9.9,
          10,
          10.1,
          10.2,
          10.3,
          10.4,
          10.5,
          10.6,
          10.7,
          10.8,
          10.9
         ],
         "xaxis": "x2",
         "y": [
          0,
          0,
          0,
          0,
          0,
          0,
          0,
          0,
          0,
          0,
          0,
          0,
          0,
          0,
          0,
          0,
          0,
          0,
          0,
          0,
          0,
          0,
          0,
          0,
          0,
          0,
          0,
          0,
          0,
          0,
          0,
          0,
          0,
          0,
          0,
          0,
          0,
          0,
          0,
          0,
          0,
          0,
          0,
          0,
          0,
          0,
          0,
          0,
          0,
          0,
          0,
          0,
          0,
          0,
          0,
          0,
          0,
          0,
          0,
          0,
          0,
          0,
          0,
          0,
          0,
          0,
          0,
          0,
          0,
          0,
          0,
          0,
          0,
          0,
          0,
          0,
          0,
          0,
          0,
          0,
          0,
          0,
          0,
          0,
          0,
          0,
          0,
          0,
          0,
          0,
          0,
          0,
          0,
          0,
          0,
          0,
          0,
          0,
          0,
          0,
          0,
          0,
          0,
          0,
          0,
          0,
          0,
          0,
          0,
          0
         ],
         "yaxis": "y2"
        }
       ],
       "layout": {
        "autosize": false,
        "font": {
         "color": "black",
         "family": "Arial",
         "size": 16
        },
        "height": 450,
        "legend": {
         "orientation": "h",
         "x": 0.01,
         "xanchor": "left",
         "y": 1.15,
         "yanchor": "top"
        },
        "template": {
         "data": {
          "bar": [
           {
            "error_x": {
             "color": "#2a3f5f"
            },
            "error_y": {
             "color": "#2a3f5f"
            },
            "marker": {
             "line": {
              "color": "white",
              "width": 0.5
             }
            },
            "type": "bar"
           }
          ],
          "barpolar": [
           {
            "marker": {
             "line": {
              "color": "white",
              "width": 0.5
             }
            },
            "type": "barpolar"
           }
          ],
          "carpet": [
           {
            "aaxis": {
             "endlinecolor": "#2a3f5f",
             "gridcolor": "#C8D4E3",
             "linecolor": "#C8D4E3",
             "minorgridcolor": "#C8D4E3",
             "startlinecolor": "#2a3f5f"
            },
            "baxis": {
             "endlinecolor": "#2a3f5f",
             "gridcolor": "#C8D4E3",
             "linecolor": "#C8D4E3",
             "minorgridcolor": "#C8D4E3",
             "startlinecolor": "#2a3f5f"
            },
            "type": "carpet"
           }
          ],
          "choropleth": [
           {
            "colorbar": {
             "outlinewidth": 0,
             "ticks": ""
            },
            "type": "choropleth"
           }
          ],
          "contour": [
           {
            "colorbar": {
             "outlinewidth": 0,
             "ticks": ""
            },
            "colorscale": [
             [
              0,
              "#0d0887"
             ],
             [
              0.1111111111111111,
              "#46039f"
             ],
             [
              0.2222222222222222,
              "#7201a8"
             ],
             [
              0.3333333333333333,
              "#9c179e"
             ],
             [
              0.4444444444444444,
              "#bd3786"
             ],
             [
              0.5555555555555556,
              "#d8576b"
             ],
             [
              0.6666666666666666,
              "#ed7953"
             ],
             [
              0.7777777777777778,
              "#fb9f3a"
             ],
             [
              0.8888888888888888,
              "#fdca26"
             ],
             [
              1,
              "#f0f921"
             ]
            ],
            "type": "contour"
           }
          ],
          "contourcarpet": [
           {
            "colorbar": {
             "outlinewidth": 0,
             "ticks": ""
            },
            "type": "contourcarpet"
           }
          ],
          "heatmap": [
           {
            "colorbar": {
             "outlinewidth": 0,
             "ticks": ""
            },
            "colorscale": [
             [
              0,
              "#0d0887"
             ],
             [
              0.1111111111111111,
              "#46039f"
             ],
             [
              0.2222222222222222,
              "#7201a8"
             ],
             [
              0.3333333333333333,
              "#9c179e"
             ],
             [
              0.4444444444444444,
              "#bd3786"
             ],
             [
              0.5555555555555556,
              "#d8576b"
             ],
             [
              0.6666666666666666,
              "#ed7953"
             ],
             [
              0.7777777777777778,
              "#fb9f3a"
             ],
             [
              0.8888888888888888,
              "#fdca26"
             ],
             [
              1,
              "#f0f921"
             ]
            ],
            "type": "heatmap"
           }
          ],
          "heatmapgl": [
           {
            "colorbar": {
             "outlinewidth": 0,
             "ticks": ""
            },
            "colorscale": [
             [
              0,
              "#0d0887"
             ],
             [
              0.1111111111111111,
              "#46039f"
             ],
             [
              0.2222222222222222,
              "#7201a8"
             ],
             [
              0.3333333333333333,
              "#9c179e"
             ],
             [
              0.4444444444444444,
              "#bd3786"
             ],
             [
              0.5555555555555556,
              "#d8576b"
             ],
             [
              0.6666666666666666,
              "#ed7953"
             ],
             [
              0.7777777777777778,
              "#fb9f3a"
             ],
             [
              0.8888888888888888,
              "#fdca26"
             ],
             [
              1,
              "#f0f921"
             ]
            ],
            "type": "heatmapgl"
           }
          ],
          "histogram": [
           {
            "marker": {
             "colorbar": {
              "outlinewidth": 0,
              "ticks": ""
             }
            },
            "type": "histogram"
           }
          ],
          "histogram2d": [
           {
            "colorbar": {
             "outlinewidth": 0,
             "ticks": ""
            },
            "colorscale": [
             [
              0,
              "#0d0887"
             ],
             [
              0.1111111111111111,
              "#46039f"
             ],
             [
              0.2222222222222222,
              "#7201a8"
             ],
             [
              0.3333333333333333,
              "#9c179e"
             ],
             [
              0.4444444444444444,
              "#bd3786"
             ],
             [
              0.5555555555555556,
              "#d8576b"
             ],
             [
              0.6666666666666666,
              "#ed7953"
             ],
             [
              0.7777777777777778,
              "#fb9f3a"
             ],
             [
              0.8888888888888888,
              "#fdca26"
             ],
             [
              1,
              "#f0f921"
             ]
            ],
            "type": "histogram2d"
           }
          ],
          "histogram2dcontour": [
           {
            "colorbar": {
             "outlinewidth": 0,
             "ticks": ""
            },
            "colorscale": [
             [
              0,
              "#0d0887"
             ],
             [
              0.1111111111111111,
              "#46039f"
             ],
             [
              0.2222222222222222,
              "#7201a8"
             ],
             [
              0.3333333333333333,
              "#9c179e"
             ],
             [
              0.4444444444444444,
              "#bd3786"
             ],
             [
              0.5555555555555556,
              "#d8576b"
             ],
             [
              0.6666666666666666,
              "#ed7953"
             ],
             [
              0.7777777777777778,
              "#fb9f3a"
             ],
             [
              0.8888888888888888,
              "#fdca26"
             ],
             [
              1,
              "#f0f921"
             ]
            ],
            "type": "histogram2dcontour"
           }
          ],
          "mesh3d": [
           {
            "colorbar": {
             "outlinewidth": 0,
             "ticks": ""
            },
            "type": "mesh3d"
           }
          ],
          "parcoords": [
           {
            "line": {
             "colorbar": {
              "outlinewidth": 0,
              "ticks": ""
             }
            },
            "type": "parcoords"
           }
          ],
          "pie": [
           {
            "automargin": true,
            "type": "pie"
           }
          ],
          "scatter": [
           {
            "marker": {
             "colorbar": {
              "outlinewidth": 0,
              "ticks": ""
             }
            },
            "type": "scatter"
           }
          ],
          "scatter3d": [
           {
            "line": {
             "colorbar": {
              "outlinewidth": 0,
              "ticks": ""
             }
            },
            "marker": {
             "colorbar": {
              "outlinewidth": 0,
              "ticks": ""
             }
            },
            "type": "scatter3d"
           }
          ],
          "scattercarpet": [
           {
            "marker": {
             "colorbar": {
              "outlinewidth": 0,
              "ticks": ""
             }
            },
            "type": "scattercarpet"
           }
          ],
          "scattergeo": [
           {
            "marker": {
             "colorbar": {
              "outlinewidth": 0,
              "ticks": ""
             }
            },
            "type": "scattergeo"
           }
          ],
          "scattergl": [
           {
            "marker": {
             "colorbar": {
              "outlinewidth": 0,
              "ticks": ""
             }
            },
            "type": "scattergl"
           }
          ],
          "scattermapbox": [
           {
            "marker": {
             "colorbar": {
              "outlinewidth": 0,
              "ticks": ""
             }
            },
            "type": "scattermapbox"
           }
          ],
          "scatterpolar": [
           {
            "marker": {
             "colorbar": {
              "outlinewidth": 0,
              "ticks": ""
             }
            },
            "type": "scatterpolar"
           }
          ],
          "scatterpolargl": [
           {
            "marker": {
             "colorbar": {
              "outlinewidth": 0,
              "ticks": ""
             }
            },
            "type": "scatterpolargl"
           }
          ],
          "scatterternary": [
           {
            "marker": {
             "colorbar": {
              "outlinewidth": 0,
              "ticks": ""
             }
            },
            "type": "scatterternary"
           }
          ],
          "surface": [
           {
            "colorbar": {
             "outlinewidth": 0,
             "ticks": ""
            },
            "colorscale": [
             [
              0,
              "#0d0887"
             ],
             [
              0.1111111111111111,
              "#46039f"
             ],
             [
              0.2222222222222222,
              "#7201a8"
             ],
             [
              0.3333333333333333,
              "#9c179e"
             ],
             [
              0.4444444444444444,
              "#bd3786"
             ],
             [
              0.5555555555555556,
              "#d8576b"
             ],
             [
              0.6666666666666666,
              "#ed7953"
             ],
             [
              0.7777777777777778,
              "#fb9f3a"
             ],
             [
              0.8888888888888888,
              "#fdca26"
             ],
             [
              1,
              "#f0f921"
             ]
            ],
            "type": "surface"
           }
          ],
          "table": [
           {
            "cells": {
             "fill": {
              "color": "#EBF0F8"
             },
             "line": {
              "color": "white"
             }
            },
            "header": {
             "fill": {
              "color": "#C8D4E3"
             },
             "line": {
              "color": "white"
             }
            },
            "type": "table"
           }
          ]
         },
         "layout": {
          "annotationdefaults": {
           "arrowcolor": "#2a3f5f",
           "arrowhead": 0,
           "arrowwidth": 1
          },
          "coloraxis": {
           "colorbar": {
            "outlinewidth": 0,
            "ticks": ""
           }
          },
          "colorscale": {
           "diverging": [
            [
             0,
             "#8e0152"
            ],
            [
             0.1,
             "#c51b7d"
            ],
            [
             0.2,
             "#de77ae"
            ],
            [
             0.3,
             "#f1b6da"
            ],
            [
             0.4,
             "#fde0ef"
            ],
            [
             0.5,
             "#f7f7f7"
            ],
            [
             0.6,
             "#e6f5d0"
            ],
            [
             0.7,
             "#b8e186"
            ],
            [
             0.8,
             "#7fbc41"
            ],
            [
             0.9,
             "#4d9221"
            ],
            [
             1,
             "#276419"
            ]
           ],
           "sequential": [
            [
             0,
             "#0d0887"
            ],
            [
             0.1111111111111111,
             "#46039f"
            ],
            [
             0.2222222222222222,
             "#7201a8"
            ],
            [
             0.3333333333333333,
             "#9c179e"
            ],
            [
             0.4444444444444444,
             "#bd3786"
            ],
            [
             0.5555555555555556,
             "#d8576b"
            ],
            [
             0.6666666666666666,
             "#ed7953"
            ],
            [
             0.7777777777777778,
             "#fb9f3a"
            ],
            [
             0.8888888888888888,
             "#fdca26"
            ],
            [
             1,
             "#f0f921"
            ]
           ],
           "sequentialminus": [
            [
             0,
             "#0d0887"
            ],
            [
             0.1111111111111111,
             "#46039f"
            ],
            [
             0.2222222222222222,
             "#7201a8"
            ],
            [
             0.3333333333333333,
             "#9c179e"
            ],
            [
             0.4444444444444444,
             "#bd3786"
            ],
            [
             0.5555555555555556,
             "#d8576b"
            ],
            [
             0.6666666666666666,
             "#ed7953"
            ],
            [
             0.7777777777777778,
             "#fb9f3a"
            ],
            [
             0.8888888888888888,
             "#fdca26"
            ],
            [
             1,
             "#f0f921"
            ]
           ]
          },
          "colorway": [
           "#636efa",
           "#EF553B",
           "#00cc96",
           "#ab63fa",
           "#FFA15A",
           "#19d3f3",
           "#FF6692",
           "#B6E880",
           "#FF97FF",
           "#FECB52"
          ],
          "font": {
           "color": "#2a3f5f"
          },
          "geo": {
           "bgcolor": "white",
           "lakecolor": "white",
           "landcolor": "white",
           "showlakes": true,
           "showland": true,
           "subunitcolor": "#C8D4E3"
          },
          "hoverlabel": {
           "align": "left"
          },
          "hovermode": "closest",
          "mapbox": {
           "style": "light"
          },
          "paper_bgcolor": "white",
          "plot_bgcolor": "white",
          "polar": {
           "angularaxis": {
            "gridcolor": "#EBF0F8",
            "linecolor": "#EBF0F8",
            "ticks": ""
           },
           "bgcolor": "white",
           "radialaxis": {
            "gridcolor": "#EBF0F8",
            "linecolor": "#EBF0F8",
            "ticks": ""
           }
          },
          "scene": {
           "xaxis": {
            "backgroundcolor": "white",
            "gridcolor": "#DFE8F3",
            "gridwidth": 2,
            "linecolor": "#EBF0F8",
            "showbackground": true,
            "ticks": "",
            "zerolinecolor": "#EBF0F8"
           },
           "yaxis": {
            "backgroundcolor": "white",
            "gridcolor": "#DFE8F3",
            "gridwidth": 2,
            "linecolor": "#EBF0F8",
            "showbackground": true,
            "ticks": "",
            "zerolinecolor": "#EBF0F8"
           },
           "zaxis": {
            "backgroundcolor": "white",
            "gridcolor": "#DFE8F3",
            "gridwidth": 2,
            "linecolor": "#EBF0F8",
            "showbackground": true,
            "ticks": "",
            "zerolinecolor": "#EBF0F8"
           }
          },
          "shapedefaults": {
           "line": {
            "color": "#2a3f5f"
           }
          },
          "ternary": {
           "aaxis": {
            "gridcolor": "#DFE8F3",
            "linecolor": "#A2B1C6",
            "ticks": ""
           },
           "baxis": {
            "gridcolor": "#DFE8F3",
            "linecolor": "#A2B1C6",
            "ticks": ""
           },
           "bgcolor": "white",
           "caxis": {
            "gridcolor": "#DFE8F3",
            "linecolor": "#A2B1C6",
            "ticks": ""
           }
          },
          "title": {
           "x": 0.05
          },
          "xaxis": {
           "automargin": true,
           "gridcolor": "#EBF0F8",
           "linecolor": "#EBF0F8",
           "ticks": "",
           "title": {
            "standoff": 15
           },
           "zerolinecolor": "#EBF0F8",
           "zerolinewidth": 2
          },
          "yaxis": {
           "automargin": true,
           "gridcolor": "#EBF0F8",
           "linecolor": "#EBF0F8",
           "ticks": "",
           "title": {
            "standoff": 15
           },
           "zerolinecolor": "#EBF0F8",
           "zerolinewidth": 2
          }
         }
        },
        "title": {
         "text": "Tire Slip Angle & Saturation (locked) Status"
        },
        "width": 800,
        "xaxis": {
         "anchor": "y",
         "domain": [
          0,
          1
         ],
         "linecolor": "black",
         "linewidth": 1,
         "matches": "x2",
         "showgrid": false,
         "showline": true,
         "showticklabels": false,
         "tickcolor": "black",
         "ticklen": 10,
         "ticks": "outside",
         "tickwidth": 1,
         "title": {
          "text": ""
         },
         "zeroline": false
        },
        "xaxis2": {
         "anchor": "y2",
         "domain": [
          0,
          1
         ],
         "linecolor": "black",
         "linewidth": 1,
         "showgrid": false,
         "showline": true,
         "tickcolor": "black",
         "ticklen": 10,
         "ticks": "outside",
         "tickwidth": 1,
         "title": {
          "text": "Time (s)"
         },
         "zeroline": false
        },
        "yaxis": {
         "anchor": "x",
         "domain": [
          0.555,
          1
         ],
         "linecolor": "black",
         "linewidth": 1,
         "showgrid": false,
         "showline": true,
         "tickcolor": "black",
         "ticklen": 10,
         "ticks": "outside",
         "tickwidth": 1,
         "title": {
          "text": "Slip Angle (degrees)"
         },
         "zeroline": false
        },
        "yaxis2": {
         "anchor": "x2",
         "domain": [
          0,
          0.445
         ],
         "linecolor": "black",
         "linewidth": 1,
         "showgrid": false,
         "showline": true,
         "tickcolor": "black",
         "ticklen": 10,
         "ticks": "outside",
         "tickwidth": 1,
         "title": {
          "text": "Locked Satus"
         },
         "zeroline": false
        }
       }
      },
      "text/html": [
       "<div>\n",
       "        \n",
       "        \n",
       "            <div id=\"311ce79d-e535-47af-a6e4-93ac38543b7a\" class=\"plotly-graph-div\" style=\"height:450px; width:800px;\"></div>\n",
       "            <script type=\"text/javascript\">\n",
       "                require([\"plotly\"], function(Plotly) {\n",
       "                    window.PLOTLYENV=window.PLOTLYENV || {};\n",
       "                    \n",
       "                if (document.getElementById(\"311ce79d-e535-47af-a6e4-93ac38543b7a\")) {\n",
       "                    Plotly.newPlot(\n",
       "                        '311ce79d-e535-47af-a6e4-93ac38543b7a',\n",
       "                        [{\"line\": {\"color\": \"rgb(0, 0, 255)\", \"dash\": \"solid\", \"width\": 1}, \"mode\": \"lines\", \"name\": \"LF\", \"type\": \"scatter\", \"x\": [0.0, 0.1, 0.2, 0.3, 0.4, 0.5, 0.6, 0.7, 0.8, 0.9, 1.0, 1.1, 1.2, 1.3, 1.4, 1.5, 1.6, 1.7, 1.8, 1.9, 2.0, 2.1, 2.2, 2.3, 2.4, 2.5, 2.6, 2.7, 2.8, 2.9, 3.0, 3.1, 3.2, 3.3, 3.4, 3.5, 3.6, 3.7, 3.8, 3.9, 4.0, 4.1, 4.2, 4.3, 4.4, 4.5, 4.6, 4.7, 4.8, 4.9, 5.0, 5.1, 5.2, 5.3, 5.4, 5.5, 5.6, 5.7, 5.8, 5.9, 6.0, 6.1, 6.2, 6.3, 6.4, 6.5, 6.6, 6.7, 6.8, 6.9, 7.0, 7.1, 7.2, 7.3, 7.4, 7.5, 7.6, 7.7, 7.8, 7.9, 8.0, 8.1, 8.2, 8.3, 8.4, 8.5, 8.6, 8.7, 8.8, 8.9, 9.0, 9.1, 9.2, 9.3, 9.4, 9.5, 9.6, 9.7, 9.8, 9.9, 10.0, 10.1, 10.2, 10.3, 10.4, 10.5, 10.6, 10.7, 10.8, 10.9], \"xaxis\": \"x\", \"y\": [0.0, 0.0, 0.0, 0.0, 0.0, 0.0, 0.0, 0.0, 0.0, 0.0, 0.0, -2.037739056603774, -3.6738500358169257, -4.232370014398102, -4.339631559208505, -4.661111616002605, -5.355383530563801, -6.227372690052415, -7.0540976239287705, -7.739657114991977, -8.292394663609027, -6.802611221401394, -5.692296829600614, -5.617629817611412, -6.037547492747636, -6.254768601243531, -6.078730268293376, -5.708301812413746, -5.377619915039061, -5.168536266537759, -5.037397614683099, -4.917713205153405, -4.780736731488194, -4.6335969985973, -4.4923136782554725, -4.364103951215684, -4.246692249878024, -4.13523594791915, -4.027196811546867, -3.922636449295372, -3.822362039967091, -3.7265998645344647, -3.634922164482837, -3.5467579268343106, -3.4617438524878947, -3.379724549171367, -3.3006001520755643, -3.2242296735464415, -3.150435515441637, -3.0790468558407773, -3.0099230667995727, -2.942947916978701, -2.8780147916275562, -2.815019487368386, -2.7538617208028584, -2.694448622704399, -2.6366955896939963, -2.580524708602326, -2.525862975631406, -2.4726415482495123, -2.4207957523306023, -2.3702651027067487, -2.3209930155573875, -2.272926360553789, -2.226015087808122, -2.180211997603178, -2.1354725800939067, -2.0917548471819964, -2.0490191429362756, -2.0072279599015563, -1.9663457825301778, -1.9263389557619035, -1.8871755660603455, -1.8488253272718858, -1.8112594720597317, -1.7744506522786547, -1.7383728491524595, -1.7030012914037418, -1.6683123791963295, -1.634283613011072, -1.6008935275310197, -1.5681216305879806, -1.5359483467612225, -1.5043549649957717, -1.4733235897509815, -1.4428370954241236, -1.4128790838865237, -1.383433844925063, -1.3544863193290084, -1.3260220643748963, -1.2980272215175637, -1.270488486137837, -1.2433930792071148, -1.2167287207250375, -1.1904836047911245, -1.1646463761875414, -1.139206108367365, -1.114152282753035, -1.089474769254053, -1.0651638079177186, -1.0412099916338242, -1.017604249822136, -0.9943378330379892, -0.9714022984356059, -0.948789496032546, -0.9264915557228794, -0.9045008749910143, -0.8828101072819291, -0.8614121509866098, -0.8403001390045092], \"yaxis\": \"y\"}, {\"line\": {\"color\": \"rgb(0, 255, 0)\", \"dash\": \"solid\", \"width\": 1}, \"mode\": \"lines\", \"name\": \"RF\", \"type\": \"scatter\", \"x\": [0.0, 0.1, 0.2, 0.3, 0.4, 0.5, 0.6, 0.7, 0.8, 0.9, 1.0, 1.1, 1.2, 1.3, 1.4, 1.5, 1.6, 1.7, 1.8, 1.9, 2.0, 2.1, 2.2, 2.3, 2.4, 2.5, 2.6, 2.7, 2.8, 2.9, 3.0, 3.1, 3.2, 3.3, 3.4, 3.5, 3.6, 3.7, 3.8, 3.9, 4.0, 4.1, 4.2, 4.3, 4.4, 4.5, 4.6, 4.7, 4.8, 4.9, 5.0, 5.1, 5.2, 5.3, 5.4, 5.5, 5.6, 5.7, 5.8, 5.9, 6.0, 6.1, 6.2, 6.3, 6.4, 6.5, 6.6, 6.7, 6.8, 6.9, 7.0, 7.1, 7.2, 7.3, 7.4, 7.5, 7.6, 7.7, 7.8, 7.9, 8.0, 8.1, 8.2, 8.3, 8.4, 8.5, 8.6, 8.7, 8.8, 8.9, 9.0, 9.1, 9.2, 9.3, 9.4, 9.5, 9.6, 9.7, 9.8, 9.9, 10.0, 10.1, 10.2, 10.3, 10.4, 10.5, 10.6, 10.7, 10.8, 10.9], \"xaxis\": \"x\", \"y\": [0.0, 0.0, 0.0, 0.0, 0.0, 0.0, 0.0, 0.0, 0.0, 0.0, 0.0, -2.037739056603774, -3.677471988825095, -4.283375709375462, -4.5364992748202, -5.090083980486325, -6.060726600678918, -7.241971348788333, -8.426542042104877, -9.53436172604905, -10.57770834117903, -9.619694478922371, -8.896520966711464, -8.898366188565607, -9.219140189040028, -9.362038833485862, -9.20208519340045, -8.898973705286627, -8.632367020463498, -8.462305544706066, -8.352941753527173, -8.252284900660163, -8.138297390672962, -8.016810054899437, -7.900366342320297, -7.7945225784114385, -7.697416222709688, -7.605214381379919, -7.515913712538759, -7.429553707962615, -7.346755234626336, -7.267680438819067, -7.1919782242960695, -7.119187259017863, -7.049011881395306, -6.981321388566584, -6.916029337616872, -6.853017199370674, -6.792138074212821, -6.733251081369434, -6.676239821211447, -6.621007642311044, -6.567465823717646, -6.515527832272304, -6.465110530221709, -6.416136948066183, -6.368536931280355, -6.3222458479239645, -6.277203144440644, -6.23335173868295, -6.1906380197454, -6.1490118547452814, -6.1084263456815835, -6.068837458948944, -6.0302037182255885, -5.992486014291869, -5.955647471275009, -5.919653305982896, -5.884470669954691, -5.850068497019273, -5.816417373575494, -5.783489429585303, -5.751258239686237, -5.719698728250282, -5.688787079166941, -5.65850065315832, -5.628817913260303, -5.59971835686769, -5.571182452568945, -5.543191581080027, -5.515727980364426, -5.488774694974052, -5.462315529251198, -5.436335003858204, -5.410818315234864, -5.3857512977799615, -5.361120388623088, -5.336912594810223, -5.3131154626836095, -5.289717049250965, -5.266705895386808, -5.244071000742689, -5.221801800249485, -5.199888142091154, -5.178320267034215, -5.157088789011497, -5.136184676872701, -5.115599237222627, -5.095324098271091, -5.075351194622944, -5.055672752942594, -5.036281278434029, -5.017169542082619, -4.998330568608561, -4.979757625084832, -4.961444210176222, -4.943384043959551, -4.92557105828832, -4.9079993876677, -4.890663360607911], \"yaxis\": \"y\"}, {\"line\": {\"color\": \"rgb(153, 0, 204)\", \"dash\": \"solid\", \"width\": 1}, \"mode\": \"lines\", \"name\": \"RR\", \"type\": \"scatter\", \"x\": [0.0, 0.1, 0.2, 0.3, 0.4, 0.5, 0.6, 0.7, 0.8, 0.9, 1.0, 1.1, 1.2, 1.3, 1.4, 1.5, 1.6, 1.7, 1.8, 1.9, 2.0, 2.1, 2.2, 2.3, 2.4, 2.5, 2.6, 2.7, 2.8, 2.9, 3.0, 3.1, 3.2, 3.3, 3.4, 3.5, 3.6, 3.7, 3.8, 3.9, 4.0, 4.1, 4.2, 4.3, 4.4, 4.5, 4.6, 4.7, 4.8, 4.9, 5.0, 5.1, 5.2, 5.3, 5.4, 5.5, 5.6, 5.7, 5.8, 5.9, 6.0, 6.1, 6.2, 6.3, 6.4, 6.5, 6.6, 6.7, 6.8, 6.9, 7.0, 7.1, 7.2, 7.3, 7.4, 7.5, 7.6, 7.7, 7.8, 7.9, 8.0, 8.1, 8.2, 8.3, 8.4, 8.5, 8.6, 8.7, 8.8, 8.9, 9.0, 9.1, 9.2, 9.3, 9.4, 9.5, 9.6, 9.7, 9.8, 9.9, 10.0, 10.1, 10.2, 10.3, 10.4, 10.5, 10.6, 10.7, 10.8, 10.9], \"xaxis\": \"x\", \"y\": [-0.0, -0.0, -0.0, -0.0, -0.0, -0.0, -0.0, -0.0, -0.0, -0.0, -0.0, -0.0, 0.04063954967771828, 0.06914437932823148, -0.15291957139271448, -0.774652817134303, -1.6850699910365894, -2.65526870968255, -3.526061239575764, -4.2589602468781, -4.881182049855804, -5.441238394767229, -5.94370750362912, -6.330522695268723, -6.510462117073277, -6.433243718728318, -6.176325780917918, -5.880610861598034, -5.644965873264419, -5.485327949858507, -5.366480424560704, -5.25235407451506, -5.130322762272977, -5.00597720804642, -4.888118537628006, -4.780073990255222, -4.680024071039841, -4.584990717190695, -4.493441698991887, -4.405338829898631, -4.32104616595086, -4.240581498086858, -4.163592116838051, -4.089658926430981, -4.0184994905035145, -3.9499626262999126, -3.8839341342725997, -3.8202781964658357, -3.7588409275616343, -3.6994772967008833, -3.6420650237417607, -3.586500034964226, -3.532686541464815, -3.4805322975355093, -3.429949580252103, -3.3808573609913513, -3.3331816312702904, -3.2868541198227264, -3.2418109530695607, -3.197992081704848, -3.1553412333896427, -3.1138058525138055, -3.073336813209504, -3.0338880315193633, -2.995416151297676, -2.9578803441338293, -2.9212421600412806, -2.8854653696352006, -2.8505157918645434, -2.816361131317153, -2.7829708406960574, -2.7503160043872223, -2.7183692317903514, -2.687104554823352, -2.6564973311538203, -2.6265241560944577, -2.597162783362115, -2.5683920526719803, -2.540191822315893, -2.512542906189896, -2.48542701546273, -2.458826704859367, -2.4327253230684347, -2.4071069666661864, -2.3819564371627613, -2.35725920099129, -2.33300135229646, -2.309169578308245, -2.285751127047748, -2.2627337771479077, -2.2401058096309887, -2.2178559815142442, -2.195973501113493, -2.174448004909686, -2.1532695358535103, -2.1324285230016695, -2.1119157623930276, -2.091722399078863, -2.0718399102245746, -2.052260089205563, -2.0329750306277767, -2.013977116210505, -1.9952590014739882, -1.9768136031778774, -1.9586340874602493, -1.9407138586309136, -1.923046548576727, -1.9056260067399162, -1.888446290632994, -1.8715016568563234], \"yaxis\": \"y\"}, {\"line\": {\"color\": \"rgb(255, 102, 0)\", \"dash\": \"solid\", \"width\": 1}, \"mode\": \"lines\", \"name\": \"LR\", \"type\": \"scatter\", \"x\": [0.0, 0.1, 0.2, 0.3, 0.4, 0.5, 0.6, 0.7, 0.8, 0.9, 1.0, 1.1, 1.2, 1.3, 1.4, 1.5, 1.6, 1.7, 1.8, 1.9, 2.0, 2.1, 2.2, 2.3, 2.4, 2.5, 2.6, 2.7, 2.8, 2.9, 3.0, 3.1, 3.2, 3.3, 3.4, 3.5, 3.6, 3.7, 3.8, 3.9, 4.0, 4.1, 4.2, 4.3, 4.4, 4.5, 4.6, 4.7, 4.8, 4.9, 5.0, 5.1, 5.2, 5.3, 5.4, 5.5, 5.6, 5.7, 5.8, 5.9, 6.0, 6.1, 6.2, 6.3, 6.4, 6.5, 6.6, 6.7, 6.8, 6.9, 7.0, 7.1, 7.2, 7.3, 7.4, 7.5, 7.6, 7.7, 7.8, 7.9, 8.0, 8.1, 8.2, 8.3, 8.4, 8.5, 8.6, 8.7, 8.8, 8.9, 9.0, 9.1, 9.2, 9.3, 9.4, 9.5, 9.6, 9.7, 9.8, 9.9, 10.0, 10.1, 10.2, 10.3, 10.4, 10.5, 10.6, 10.7, 10.8, 10.9], \"xaxis\": \"x\", \"y\": [-0.0, -0.0, -0.0, -0.0, -0.0, -0.0, -0.0, -0.0, -0.0, -0.0, -0.0, -0.0, 0.040875298984174586, 0.0706910856102776, -0.15995912615748556, -0.8304423278081554, -1.8498688713875182, -2.9816869864047173, -4.047581665588118, -4.996791203642112, -5.853364085274825, -6.664843683615484, -7.390855551036045, -7.907193146126318, -8.115302088139913, -7.997172663676232, -7.670681155070123, -7.306794709788467, -7.018885981054007, -6.822699531863367, -6.675068425197962, -6.532925550254749, -6.381475935120511, -6.22757428680517, -6.081772880353653, -5.948011006734144, -5.824053547427383, -5.7062897155994525, -5.59286125661364, -5.483715225139636, -5.379284345842474, -5.279582172655066, -5.1841739418261525, -5.092545267787984, -5.004348535536482, -4.919396228060501, -4.837546134965929, -4.758629922009372, -4.682457447077907, -4.608849610895142, -4.5376553087679055, -4.468745838759818, -4.402002733870224, -4.337311946194762, -4.274565047983086, -4.213661892610844, -4.154511005972563, -4.097028001208697, -4.041133926847629, -3.9867545601890364, -3.9338203487305528, -3.882266334559602, -3.832031798524452, -3.7830597803558415, -3.7352966905225298, -3.688692063241958, -3.643198372072976, -3.598770834731348, -3.5553671999724954, -3.512947546422493, -3.471474112661834, -3.430911153414687, -3.39122480775299, -3.3523829724085576, -3.314355182165043, -3.2771125009908215, -3.2406274241483364, -3.2048737887470233, -3.169826690442046, -3.1354624056258458, -3.1017583193596825, -3.068692859014412, -3.03624543300822, -3.004396373886656, -2.973126885258233, -2.942418992366263, -2.9122554961208595, -2.8826199303254474, -2.8534965217839257, -2.8248701530198264, -2.796726327412621, -2.7690511365926738, -2.7418312299338123, -2.7150537859765516, -2.68870648562744, -2.6627774870032406, -2.6372554018066308, -2.6121292731274846, -2.5873885545675783, -2.563023090593206, -2.5390230980298534, -2.515379148621871, -2.492082152586207, -2.4691233430935315, -2.4464942616146175, -2.4241867440748397, -2.4021929077645643, -2.38050513895728, -2.3591160811904923, -2.3380186241674217], \"yaxis\": \"y\"}, {\"line\": {\"color\": \"rgb(0, 0, 255)\", \"dash\": \"solid\", \"width\": 1}, \"mode\": \"lines\", \"name\": \"LF\", \"showlegend\": false, \"type\": \"scatter\", \"x\": [0.0, 0.1, 0.2, 0.3, 0.4, 0.5, 0.6, 0.7, 0.8, 0.9, 1.0, 1.1, 1.2, 1.3, 1.4, 1.5, 1.6, 1.7, 1.8, 1.9, 2.0, 2.1, 2.2, 2.3, 2.4, 2.5, 2.6, 2.7, 2.8, 2.9, 3.0, 3.1, 3.2, 3.3, 3.4, 3.5, 3.6, 3.7, 3.8, 3.9, 4.0, 4.1, 4.2, 4.3, 4.4, 4.5, 4.6, 4.7, 4.8, 4.9, 5.0, 5.1, 5.2, 5.3, 5.4, 5.5, 5.6, 5.7, 5.8, 5.9, 6.0, 6.1, 6.2, 6.3, 6.4, 6.5, 6.6, 6.7, 6.8, 6.9, 7.0, 7.1, 7.2, 7.3, 7.4, 7.5, 7.6, 7.7, 7.8, 7.9, 8.0, 8.1, 8.2, 8.3, 8.4, 8.5, 8.6, 8.7, 8.8, 8.9, 9.0, 9.1, 9.2, 9.3, 9.4, 9.5, 9.6, 9.7, 9.8, 9.9, 10.0, 10.1, 10.2, 10.3, 10.4, 10.5, 10.6, 10.7, 10.8, 10.9], \"xaxis\": \"x2\", \"y\": [0.0, 0.0, 0.0, 0.0, 0.0, 0.0, 0.0, 0.0, 0.0, 0.0, 0.0, 0.0, 0.0, 0.0, 0.0, 0.0, 0.0, 0.0, 0.0, 0.0, 0.0, 0.0, 0.0, 0.0, 0.0, 0.0, 0.0, 0.0, 0.0, 0.0, 0.0, 0.0, 0.0, 0.0, 0.0, 0.0, 0.0, 0.0, 0.0, 0.0, 0.0, 0.0, 0.0, 0.0, 0.0, 0.0, 0.0, 0.0, 0.0, 0.0, 0.0, 0.0, 0.0, 0.0, 0.0, 0.0, 0.0, 0.0, 0.0, 0.0, 0.0, 0.0, 0.0, 0.0, 0.0, 0.0, 0.0, 0.0, 0.0, 0.0, 0.0, 0.0, 0.0, 0.0, 0.0, 0.0, 0.0, 0.0, 0.0, 0.0, 0.0, 0.0, 0.0, 0.0, 0.0, 0.0, 0.0, 0.0, 0.0, 0.0, 0.0, 0.0, 0.0, 0.0, 0.0, 0.0, 0.0, 0.0, 0.0, 0.0, 0.0, 0.0, 0.0, 0.0, 0.0, 0.0, 0.0, 0.0, 0.0, 0.0], \"yaxis\": \"y2\"}, {\"line\": {\"color\": \"rgb(0, 255, 0)\", \"dash\": \"solid\", \"width\": 1}, \"mode\": \"lines\", \"name\": \"RF\", \"showlegend\": false, \"type\": \"scatter\", \"x\": [0.0, 0.1, 0.2, 0.3, 0.4, 0.5, 0.6, 0.7, 0.8, 0.9, 1.0, 1.1, 1.2, 1.3, 1.4, 1.5, 1.6, 1.7, 1.8, 1.9, 2.0, 2.1, 2.2, 2.3, 2.4, 2.5, 2.6, 2.7, 2.8, 2.9, 3.0, 3.1, 3.2, 3.3, 3.4, 3.5, 3.6, 3.7, 3.8, 3.9, 4.0, 4.1, 4.2, 4.3, 4.4, 4.5, 4.6, 4.7, 4.8, 4.9, 5.0, 5.1, 5.2, 5.3, 5.4, 5.5, 5.6, 5.7, 5.8, 5.9, 6.0, 6.1, 6.2, 6.3, 6.4, 6.5, 6.6, 6.7, 6.8, 6.9, 7.0, 7.1, 7.2, 7.3, 7.4, 7.5, 7.6, 7.7, 7.8, 7.9, 8.0, 8.1, 8.2, 8.3, 8.4, 8.5, 8.6, 8.7, 8.8, 8.9, 9.0, 9.1, 9.2, 9.3, 9.4, 9.5, 9.6, 9.7, 9.8, 9.9, 10.0, 10.1, 10.2, 10.3, 10.4, 10.5, 10.6, 10.7, 10.8, 10.9], \"xaxis\": \"x2\", \"y\": [0.0, 0.0, 0.0, 0.0, 0.0, 0.0, 0.0, 0.0, 0.0, 0.0, 0.0, 0.0, 0.0, 0.0, 0.0, 0.0, 0.0, 0.0, 0.0, 0.0, 0.0, 0.0, 0.0, 0.0, 0.0, 0.0, 0.0, 0.0, 0.0, 0.0, 0.0, 0.0, 0.0, 0.0, 0.0, 0.0, 0.0, 0.0, 0.0, 0.0, 0.0, 0.0, 0.0, 0.0, 0.0, 0.0, 0.0, 0.0, 0.0, 0.0, 0.0, 0.0, 0.0, 0.0, 0.0, 0.0, 0.0, 0.0, 0.0, 0.0, 0.0, 0.0, 0.0, 0.0, 0.0, 0.0, 0.0, 0.0, 0.0, 0.0, 0.0, 0.0, 0.0, 0.0, 0.0, 0.0, 0.0, 0.0, 0.0, 0.0, 0.0, 0.0, 0.0, 0.0, 0.0, 0.0, 0.0, 0.0, 0.0, 0.0, 0.0, 0.0, 0.0, 0.0, 0.0, 0.0, 0.0, 0.0, 0.0, 0.0, 0.0, 0.0, 0.0, 0.0, 0.0, 0.0, 0.0, 0.0, 0.0, 0.0], \"yaxis\": \"y2\"}, {\"line\": {\"color\": \"rgb(153, 0, 204)\", \"dash\": \"solid\", \"width\": 1}, \"mode\": \"lines\", \"name\": \"RR\", \"showlegend\": false, \"type\": \"scatter\", \"x\": [0.0, 0.1, 0.2, 0.3, 0.4, 0.5, 0.6, 0.7, 0.8, 0.9, 1.0, 1.1, 1.2, 1.3, 1.4, 1.5, 1.6, 1.7, 1.8, 1.9, 2.0, 2.1, 2.2, 2.3, 2.4, 2.5, 2.6, 2.7, 2.8, 2.9, 3.0, 3.1, 3.2, 3.3, 3.4, 3.5, 3.6, 3.7, 3.8, 3.9, 4.0, 4.1, 4.2, 4.3, 4.4, 4.5, 4.6, 4.7, 4.8, 4.9, 5.0, 5.1, 5.2, 5.3, 5.4, 5.5, 5.6, 5.7, 5.8, 5.9, 6.0, 6.1, 6.2, 6.3, 6.4, 6.5, 6.6, 6.7, 6.8, 6.9, 7.0, 7.1, 7.2, 7.3, 7.4, 7.5, 7.6, 7.7, 7.8, 7.9, 8.0, 8.1, 8.2, 8.3, 8.4, 8.5, 8.6, 8.7, 8.8, 8.9, 9.0, 9.1, 9.2, 9.3, 9.4, 9.5, 9.6, 9.7, 9.8, 9.9, 10.0, 10.1, 10.2, 10.3, 10.4, 10.5, 10.6, 10.7, 10.8, 10.9], \"xaxis\": \"x2\", \"y\": [0.0, 0.0, 0.0, 0.0, 0.0, 0.0, 0.0, 0.0, 0.0, 0.0, 0.0, 0.0, 0.0, 0.0, 0.0, 0.0, 0.0, 0.0, 0.0, 0.0, 0.0, 0.0, 0.0, 0.0, 0.0, 0.0, 0.0, 0.0, 0.0, 0.0, 0.0, 0.0, 0.0, 0.0, 0.0, 0.0, 0.0, 0.0, 0.0, 0.0, 0.0, 0.0, 0.0, 0.0, 0.0, 0.0, 0.0, 0.0, 0.0, 0.0, 0.0, 0.0, 0.0, 0.0, 0.0, 0.0, 0.0, 0.0, 0.0, 0.0, 0.0, 0.0, 0.0, 0.0, 0.0, 0.0, 0.0, 0.0, 0.0, 0.0, 0.0, 0.0, 0.0, 0.0, 0.0, 0.0, 0.0, 0.0, 0.0, 0.0, 0.0, 0.0, 0.0, 0.0, 0.0, 0.0, 0.0, 0.0, 0.0, 0.0, 0.0, 0.0, 0.0, 0.0, 0.0, 0.0, 0.0, 0.0, 0.0, 0.0, 0.0, 0.0, 0.0, 0.0, 0.0, 0.0, 0.0, 0.0, 0.0, 0.0], \"yaxis\": \"y2\"}, {\"line\": {\"color\": \"rgb(255, 102, 0)\", \"dash\": \"solid\", \"width\": 1}, \"mode\": \"lines\", \"name\": \"LR\", \"showlegend\": false, \"type\": \"scatter\", \"x\": [0.0, 0.1, 0.2, 0.3, 0.4, 0.5, 0.6, 0.7, 0.8, 0.9, 1.0, 1.1, 1.2, 1.3, 1.4, 1.5, 1.6, 1.7, 1.8, 1.9, 2.0, 2.1, 2.2, 2.3, 2.4, 2.5, 2.6, 2.7, 2.8, 2.9, 3.0, 3.1, 3.2, 3.3, 3.4, 3.5, 3.6, 3.7, 3.8, 3.9, 4.0, 4.1, 4.2, 4.3, 4.4, 4.5, 4.6, 4.7, 4.8, 4.9, 5.0, 5.1, 5.2, 5.3, 5.4, 5.5, 5.6, 5.7, 5.8, 5.9, 6.0, 6.1, 6.2, 6.3, 6.4, 6.5, 6.6, 6.7, 6.8, 6.9, 7.0, 7.1, 7.2, 7.3, 7.4, 7.5, 7.6, 7.7, 7.8, 7.9, 8.0, 8.1, 8.2, 8.3, 8.4, 8.5, 8.6, 8.7, 8.8, 8.9, 9.0, 9.1, 9.2, 9.3, 9.4, 9.5, 9.6, 9.7, 9.8, 9.9, 10.0, 10.1, 10.2, 10.3, 10.4, 10.5, 10.6, 10.7, 10.8, 10.9], \"xaxis\": \"x2\", \"y\": [0.0, 0.0, 0.0, 0.0, 0.0, 0.0, 0.0, 0.0, 0.0, 0.0, 0.0, 0.0, 0.0, 0.0, 0.0, 0.0, 0.0, 0.0, 0.0, 0.0, 0.0, 0.0, 0.0, 0.0, 0.0, 0.0, 0.0, 0.0, 0.0, 0.0, 0.0, 0.0, 0.0, 0.0, 0.0, 0.0, 0.0, 0.0, 0.0, 0.0, 0.0, 0.0, 0.0, 0.0, 0.0, 0.0, 0.0, 0.0, 0.0, 0.0, 0.0, 0.0, 0.0, 0.0, 0.0, 0.0, 0.0, 0.0, 0.0, 0.0, 0.0, 0.0, 0.0, 0.0, 0.0, 0.0, 0.0, 0.0, 0.0, 0.0, 0.0, 0.0, 0.0, 0.0, 0.0, 0.0, 0.0, 0.0, 0.0, 0.0, 0.0, 0.0, 0.0, 0.0, 0.0, 0.0, 0.0, 0.0, 0.0, 0.0, 0.0, 0.0, 0.0, 0.0, 0.0, 0.0, 0.0, 0.0, 0.0, 0.0, 0.0, 0.0, 0.0, 0.0, 0.0, 0.0, 0.0, 0.0, 0.0, 0.0], \"yaxis\": \"y2\"}],\n",
       "                        {\"autosize\": false, \"font\": {\"color\": \"black\", \"family\": \"Arial\", \"size\": 16}, \"height\": 450, \"legend\": {\"orientation\": \"h\", \"x\": 0.01, \"xanchor\": \"left\", \"y\": 1.15, \"yanchor\": \"top\"}, \"template\": {\"data\": {\"bar\": [{\"error_x\": {\"color\": \"#2a3f5f\"}, \"error_y\": {\"color\": \"#2a3f5f\"}, \"marker\": {\"line\": {\"color\": \"white\", \"width\": 0.5}}, \"type\": \"bar\"}], \"barpolar\": [{\"marker\": {\"line\": {\"color\": \"white\", \"width\": 0.5}}, \"type\": \"barpolar\"}], \"carpet\": [{\"aaxis\": {\"endlinecolor\": \"#2a3f5f\", \"gridcolor\": \"#C8D4E3\", \"linecolor\": \"#C8D4E3\", \"minorgridcolor\": \"#C8D4E3\", \"startlinecolor\": \"#2a3f5f\"}, \"baxis\": {\"endlinecolor\": \"#2a3f5f\", \"gridcolor\": \"#C8D4E3\", \"linecolor\": \"#C8D4E3\", \"minorgridcolor\": \"#C8D4E3\", \"startlinecolor\": \"#2a3f5f\"}, \"type\": \"carpet\"}], \"choropleth\": [{\"colorbar\": {\"outlinewidth\": 0, \"ticks\": \"\"}, \"type\": \"choropleth\"}], \"contour\": [{\"colorbar\": {\"outlinewidth\": 0, \"ticks\": \"\"}, \"colorscale\": [[0.0, \"#0d0887\"], [0.1111111111111111, \"#46039f\"], [0.2222222222222222, \"#7201a8\"], [0.3333333333333333, \"#9c179e\"], [0.4444444444444444, \"#bd3786\"], [0.5555555555555556, \"#d8576b\"], [0.6666666666666666, \"#ed7953\"], [0.7777777777777778, \"#fb9f3a\"], [0.8888888888888888, \"#fdca26\"], [1.0, \"#f0f921\"]], \"type\": \"contour\"}], \"contourcarpet\": [{\"colorbar\": {\"outlinewidth\": 0, \"ticks\": \"\"}, \"type\": \"contourcarpet\"}], \"heatmap\": [{\"colorbar\": {\"outlinewidth\": 0, \"ticks\": \"\"}, \"colorscale\": [[0.0, \"#0d0887\"], [0.1111111111111111, \"#46039f\"], [0.2222222222222222, \"#7201a8\"], [0.3333333333333333, \"#9c179e\"], [0.4444444444444444, \"#bd3786\"], [0.5555555555555556, \"#d8576b\"], [0.6666666666666666, \"#ed7953\"], [0.7777777777777778, \"#fb9f3a\"], [0.8888888888888888, \"#fdca26\"], [1.0, \"#f0f921\"]], \"type\": \"heatmap\"}], \"heatmapgl\": [{\"colorbar\": {\"outlinewidth\": 0, \"ticks\": \"\"}, \"colorscale\": [[0.0, \"#0d0887\"], [0.1111111111111111, \"#46039f\"], [0.2222222222222222, \"#7201a8\"], [0.3333333333333333, \"#9c179e\"], [0.4444444444444444, \"#bd3786\"], [0.5555555555555556, \"#d8576b\"], [0.6666666666666666, \"#ed7953\"], [0.7777777777777778, \"#fb9f3a\"], [0.8888888888888888, \"#fdca26\"], [1.0, \"#f0f921\"]], \"type\": \"heatmapgl\"}], \"histogram\": [{\"marker\": {\"colorbar\": {\"outlinewidth\": 0, \"ticks\": \"\"}}, \"type\": \"histogram\"}], \"histogram2d\": [{\"colorbar\": {\"outlinewidth\": 0, \"ticks\": \"\"}, \"colorscale\": [[0.0, \"#0d0887\"], [0.1111111111111111, \"#46039f\"], [0.2222222222222222, \"#7201a8\"], [0.3333333333333333, \"#9c179e\"], [0.4444444444444444, \"#bd3786\"], [0.5555555555555556, \"#d8576b\"], [0.6666666666666666, \"#ed7953\"], [0.7777777777777778, \"#fb9f3a\"], [0.8888888888888888, \"#fdca26\"], [1.0, \"#f0f921\"]], \"type\": \"histogram2d\"}], \"histogram2dcontour\": [{\"colorbar\": {\"outlinewidth\": 0, \"ticks\": \"\"}, \"colorscale\": [[0.0, \"#0d0887\"], [0.1111111111111111, \"#46039f\"], [0.2222222222222222, \"#7201a8\"], [0.3333333333333333, \"#9c179e\"], [0.4444444444444444, \"#bd3786\"], [0.5555555555555556, \"#d8576b\"], [0.6666666666666666, \"#ed7953\"], [0.7777777777777778, \"#fb9f3a\"], [0.8888888888888888, \"#fdca26\"], [1.0, \"#f0f921\"]], \"type\": \"histogram2dcontour\"}], \"mesh3d\": [{\"colorbar\": {\"outlinewidth\": 0, \"ticks\": \"\"}, \"type\": \"mesh3d\"}], \"parcoords\": [{\"line\": {\"colorbar\": {\"outlinewidth\": 0, \"ticks\": \"\"}}, \"type\": \"parcoords\"}], \"pie\": [{\"automargin\": true, \"type\": \"pie\"}], \"scatter\": [{\"marker\": {\"colorbar\": {\"outlinewidth\": 0, \"ticks\": \"\"}}, \"type\": \"scatter\"}], \"scatter3d\": [{\"line\": {\"colorbar\": {\"outlinewidth\": 0, \"ticks\": \"\"}}, \"marker\": {\"colorbar\": {\"outlinewidth\": 0, \"ticks\": \"\"}}, \"type\": \"scatter3d\"}], \"scattercarpet\": [{\"marker\": {\"colorbar\": {\"outlinewidth\": 0, \"ticks\": \"\"}}, \"type\": \"scattercarpet\"}], \"scattergeo\": [{\"marker\": {\"colorbar\": {\"outlinewidth\": 0, \"ticks\": \"\"}}, \"type\": \"scattergeo\"}], \"scattergl\": [{\"marker\": {\"colorbar\": {\"outlinewidth\": 0, \"ticks\": \"\"}}, \"type\": \"scattergl\"}], \"scattermapbox\": [{\"marker\": {\"colorbar\": {\"outlinewidth\": 0, \"ticks\": \"\"}}, \"type\": \"scattermapbox\"}], \"scatterpolar\": [{\"marker\": {\"colorbar\": {\"outlinewidth\": 0, \"ticks\": \"\"}}, \"type\": \"scatterpolar\"}], \"scatterpolargl\": [{\"marker\": {\"colorbar\": {\"outlinewidth\": 0, \"ticks\": \"\"}}, \"type\": \"scatterpolargl\"}], \"scatterternary\": [{\"marker\": {\"colorbar\": {\"outlinewidth\": 0, \"ticks\": \"\"}}, \"type\": \"scatterternary\"}], \"surface\": [{\"colorbar\": {\"outlinewidth\": 0, \"ticks\": \"\"}, \"colorscale\": [[0.0, \"#0d0887\"], [0.1111111111111111, \"#46039f\"], [0.2222222222222222, \"#7201a8\"], [0.3333333333333333, \"#9c179e\"], [0.4444444444444444, \"#bd3786\"], [0.5555555555555556, \"#d8576b\"], [0.6666666666666666, \"#ed7953\"], [0.7777777777777778, \"#fb9f3a\"], [0.8888888888888888, \"#fdca26\"], [1.0, \"#f0f921\"]], \"type\": \"surface\"}], \"table\": [{\"cells\": {\"fill\": {\"color\": \"#EBF0F8\"}, \"line\": {\"color\": \"white\"}}, \"header\": {\"fill\": {\"color\": \"#C8D4E3\"}, \"line\": {\"color\": \"white\"}}, \"type\": \"table\"}]}, \"layout\": {\"annotationdefaults\": {\"arrowcolor\": \"#2a3f5f\", \"arrowhead\": 0, \"arrowwidth\": 1}, \"coloraxis\": {\"colorbar\": {\"outlinewidth\": 0, \"ticks\": \"\"}}, \"colorscale\": {\"diverging\": [[0, \"#8e0152\"], [0.1, \"#c51b7d\"], [0.2, \"#de77ae\"], [0.3, \"#f1b6da\"], [0.4, \"#fde0ef\"], [0.5, \"#f7f7f7\"], [0.6, \"#e6f5d0\"], [0.7, \"#b8e186\"], [0.8, \"#7fbc41\"], [0.9, \"#4d9221\"], [1, \"#276419\"]], \"sequential\": [[0.0, \"#0d0887\"], [0.1111111111111111, \"#46039f\"], [0.2222222222222222, \"#7201a8\"], [0.3333333333333333, \"#9c179e\"], [0.4444444444444444, \"#bd3786\"], [0.5555555555555556, \"#d8576b\"], [0.6666666666666666, \"#ed7953\"], [0.7777777777777778, \"#fb9f3a\"], [0.8888888888888888, \"#fdca26\"], [1.0, \"#f0f921\"]], \"sequentialminus\": [[0.0, \"#0d0887\"], [0.1111111111111111, \"#46039f\"], [0.2222222222222222, \"#7201a8\"], [0.3333333333333333, \"#9c179e\"], [0.4444444444444444, \"#bd3786\"], [0.5555555555555556, \"#d8576b\"], [0.6666666666666666, \"#ed7953\"], [0.7777777777777778, \"#fb9f3a\"], [0.8888888888888888, \"#fdca26\"], [1.0, \"#f0f921\"]]}, \"colorway\": [\"#636efa\", \"#EF553B\", \"#00cc96\", \"#ab63fa\", \"#FFA15A\", \"#19d3f3\", \"#FF6692\", \"#B6E880\", \"#FF97FF\", \"#FECB52\"], \"font\": {\"color\": \"#2a3f5f\"}, \"geo\": {\"bgcolor\": \"white\", \"lakecolor\": \"white\", \"landcolor\": \"white\", \"showlakes\": true, \"showland\": true, \"subunitcolor\": \"#C8D4E3\"}, \"hoverlabel\": {\"align\": \"left\"}, \"hovermode\": \"closest\", \"mapbox\": {\"style\": \"light\"}, \"paper_bgcolor\": \"white\", \"plot_bgcolor\": \"white\", \"polar\": {\"angularaxis\": {\"gridcolor\": \"#EBF0F8\", \"linecolor\": \"#EBF0F8\", \"ticks\": \"\"}, \"bgcolor\": \"white\", \"radialaxis\": {\"gridcolor\": \"#EBF0F8\", \"linecolor\": \"#EBF0F8\", \"ticks\": \"\"}}, \"scene\": {\"xaxis\": {\"backgroundcolor\": \"white\", \"gridcolor\": \"#DFE8F3\", \"gridwidth\": 2, \"linecolor\": \"#EBF0F8\", \"showbackground\": true, \"ticks\": \"\", \"zerolinecolor\": \"#EBF0F8\"}, \"yaxis\": {\"backgroundcolor\": \"white\", \"gridcolor\": \"#DFE8F3\", \"gridwidth\": 2, \"linecolor\": \"#EBF0F8\", \"showbackground\": true, \"ticks\": \"\", \"zerolinecolor\": \"#EBF0F8\"}, \"zaxis\": {\"backgroundcolor\": \"white\", \"gridcolor\": \"#DFE8F3\", \"gridwidth\": 2, \"linecolor\": \"#EBF0F8\", \"showbackground\": true, \"ticks\": \"\", \"zerolinecolor\": \"#EBF0F8\"}}, \"shapedefaults\": {\"line\": {\"color\": \"#2a3f5f\"}}, \"ternary\": {\"aaxis\": {\"gridcolor\": \"#DFE8F3\", \"linecolor\": \"#A2B1C6\", \"ticks\": \"\"}, \"baxis\": {\"gridcolor\": \"#DFE8F3\", \"linecolor\": \"#A2B1C6\", \"ticks\": \"\"}, \"bgcolor\": \"white\", \"caxis\": {\"gridcolor\": \"#DFE8F3\", \"linecolor\": \"#A2B1C6\", \"ticks\": \"\"}}, \"title\": {\"x\": 0.05}, \"xaxis\": {\"automargin\": true, \"gridcolor\": \"#EBF0F8\", \"linecolor\": \"#EBF0F8\", \"ticks\": \"\", \"title\": {\"standoff\": 15}, \"zerolinecolor\": \"#EBF0F8\", \"zerolinewidth\": 2}, \"yaxis\": {\"automargin\": true, \"gridcolor\": \"#EBF0F8\", \"linecolor\": \"#EBF0F8\", \"ticks\": \"\", \"title\": {\"standoff\": 15}, \"zerolinecolor\": \"#EBF0F8\", \"zerolinewidth\": 2}}}, \"title\": {\"text\": \"Tire Slip Angle & Saturation (locked) Status\"}, \"width\": 800, \"xaxis\": {\"anchor\": \"y\", \"domain\": [0.0, 1.0], \"linecolor\": \"black\", \"linewidth\": 1, \"matches\": \"x2\", \"showgrid\": false, \"showline\": true, \"showticklabels\": false, \"tickcolor\": \"black\", \"ticklen\": 10, \"ticks\": \"outside\", \"tickwidth\": 1, \"title\": {\"text\": \"\"}, \"zeroline\": false}, \"xaxis2\": {\"anchor\": \"y2\", \"domain\": [0.0, 1.0], \"linecolor\": \"black\", \"linewidth\": 1, \"showgrid\": false, \"showline\": true, \"tickcolor\": \"black\", \"ticklen\": 10, \"ticks\": \"outside\", \"tickwidth\": 1, \"title\": {\"text\": \"Time (s)\"}, \"zeroline\": false}, \"yaxis\": {\"anchor\": \"x\", \"domain\": [0.555, 1.0], \"linecolor\": \"black\", \"linewidth\": 1, \"showgrid\": false, \"showline\": true, \"tickcolor\": \"black\", \"ticklen\": 10, \"ticks\": \"outside\", \"tickwidth\": 1, \"title\": {\"text\": \"Slip Angle (degrees)\"}, \"zeroline\": false}, \"yaxis2\": {\"anchor\": \"x2\", \"domain\": [0.0, 0.445], \"linecolor\": \"black\", \"linewidth\": 1, \"showgrid\": false, \"showline\": true, \"tickcolor\": \"black\", \"ticklen\": 10, \"ticks\": \"outside\", \"tickwidth\": 1, \"title\": {\"text\": \"Locked Satus\"}, \"zeroline\": false}},\n",
       "                        {\"responsive\": true}\n",
       "                    ).then(function(){\n",
       "                            \n",
       "var gd = document.getElementById('311ce79d-e535-47af-a6e4-93ac38543b7a');\n",
       "var x = new MutationObserver(function (mutations, observer) {{\n",
       "        var display = window.getComputedStyle(gd).display;\n",
       "        if (!display || display === 'none') {{\n",
       "            console.log([gd, 'removed!']);\n",
       "            Plotly.purge(gd);\n",
       "            observer.disconnect();\n",
       "        }}\n",
       "}});\n",
       "\n",
       "// Listen for the removal of the full notebook cells\n",
       "var notebookContainer = gd.closest('#notebook-container');\n",
       "if (notebookContainer) {{\n",
       "    x.observe(notebookContainer, {childList: true});\n",
       "}}\n",
       "\n",
       "// Listen for the clearing of the current output cell\n",
       "var outputEl = gd.closest('.output');\n",
       "if (outputEl) {{\n",
       "    x.observe(outputEl, {childList: true});\n",
       "}}\n",
       "\n",
       "                        })\n",
       "                };\n",
       "                });\n",
       "            </script>\n",
       "        </div>"
      ]
     },
     "metadata": {},
     "output_type": "display_data"
    }
   ],
   "source": [
    "tire_details(run.veh)"
   ]
  },
  {
   "cell_type": "code",
   "execution_count": 48,
   "metadata": {},
   "outputs": [
    {
     "data": {
      "application/vnd.plotly.v1+json": {
       "config": {
        "plotlyServerURL": "https://plot.ly"
       },
       "data": [
        {
         "line": {
          "color": "rgb(0, 0, 255)",
          "dash": "solid",
          "width": 1
         },
         "mode": "lines",
         "name": "LF",
         "type": "scatter",
         "x": [
          0,
          0.1,
          0.2,
          0.3,
          0.4,
          0.5,
          0.6,
          0.7,
          0.8,
          0.9,
          1,
          1.1,
          1.2,
          1.3,
          1.4,
          1.5,
          1.6,
          1.7,
          1.8,
          1.9,
          2,
          2.1,
          2.2,
          2.3,
          2.4,
          2.5,
          2.6,
          2.7,
          2.8,
          2.9,
          3,
          3.1,
          3.2,
          3.3,
          3.4,
          3.5,
          3.6,
          3.7,
          3.8,
          3.9,
          4,
          4.1,
          4.2,
          4.3,
          4.4,
          4.5,
          4.6,
          4.7,
          4.8,
          4.9,
          5,
          5.1,
          5.2,
          5.3,
          5.4,
          5.5,
          5.6,
          5.7,
          5.8,
          5.9,
          6,
          6.1,
          6.2,
          6.3,
          6.4,
          6.5,
          6.6,
          6.7,
          6.8,
          6.9,
          7,
          7.1,
          7.2,
          7.3,
          7.4,
          7.5,
          7.6,
          7.7,
          7.8,
          7.9,
          8,
          8.1,
          8.2,
          8.3,
          8.4,
          8.5,
          8.6,
          8.7,
          8.8,
          8.9,
          9,
          9.1,
          9.2,
          9.3,
          9.4,
          9.5,
          9.6,
          9.7,
          9.8,
          9.9,
          10,
          10.1,
          10.2,
          10.3,
          10.4,
          10.5,
          10.6,
          10.7,
          10.8,
          10.9
         ],
         "y": [
          1056.293396226415,
          1056.293396226415,
          1056.293396226415,
          1056.293396226415,
          1056.293396226415,
          1056.293396226415,
          1056.293396226415,
          1056.293396226415,
          1056.293396226415,
          1056.293396226415,
          1056.293396226415,
          1056.293396226415,
          1056.293396226415,
          1056.293396226415,
          1056.293396226415,
          1056.293396226415,
          1056.293396226415,
          1056.293396226415,
          1056.293396226415,
          1056.293396226415,
          1056.293396226415,
          1056.293396226415,
          1056.293396226415,
          1056.293396226415,
          1056.293396226415,
          1056.293396226415,
          1056.293396226415,
          1056.293396226415,
          1056.293396226415,
          1056.293396226415,
          1056.293396226415,
          1056.293396226415,
          1056.293396226415,
          1056.293396226415,
          1056.293396226415,
          1056.293396226415,
          1056.293396226415,
          1056.293396226415,
          1056.293396226415,
          1056.293396226415,
          1056.293396226415,
          1056.293396226415,
          1056.293396226415,
          1056.293396226415,
          1056.293396226415,
          1056.293396226415,
          1056.293396226415,
          1056.293396226415,
          1056.293396226415,
          1056.293396226415,
          1056.293396226415,
          1056.293396226415,
          1056.293396226415,
          1056.293396226415,
          1056.293396226415,
          1056.293396226415,
          1056.293396226415,
          1056.293396226415,
          1056.293396226415,
          1056.293396226415,
          1056.293396226415,
          1056.293396226415,
          1056.293396226415,
          1056.293396226415,
          1056.293396226415,
          1056.293396226415,
          1056.293396226415,
          1056.293396226415,
          1056.293396226415,
          1056.293396226415,
          1056.293396226415,
          1056.293396226415,
          1056.293396226415,
          1056.293396226415,
          1056.293396226415,
          1056.293396226415,
          1056.293396226415,
          1056.293396226415,
          1056.293396226415,
          1056.293396226415,
          1056.293396226415,
          1056.293396226415,
          1056.293396226415,
          1056.293396226415,
          1056.293396226415,
          1056.293396226415,
          1056.293396226415,
          1056.293396226415,
          1056.293396226415,
          1056.293396226415,
          1056.293396226415,
          1056.293396226415,
          1056.293396226415,
          1056.293396226415,
          1056.293396226415,
          1056.293396226415,
          1056.293396226415,
          1056.293396226415,
          1056.293396226415,
          1056.293396226415,
          1056.293396226415,
          1056.293396226415,
          1056.293396226415,
          1056.293396226415,
          1056.293396226415,
          1056.293396226415,
          1056.293396226415,
          1056.293396226415,
          1056.293396226415,
          1056.293396226415
         ]
        },
        {
         "line": {
          "color": "rgb(0, 255, 0)",
          "dash": "solid",
          "width": 1
         },
         "mode": "lines",
         "name": "RF",
         "type": "scatter",
         "x": [
          0,
          0.1,
          0.2,
          0.3,
          0.4,
          0.5,
          0.6,
          0.7,
          0.8,
          0.9,
          1,
          1.1,
          1.2,
          1.3,
          1.4,
          1.5,
          1.6,
          1.7,
          1.8,
          1.9,
          2,
          2.1,
          2.2,
          2.3,
          2.4,
          2.5,
          2.6,
          2.7,
          2.8,
          2.9,
          3,
          3.1,
          3.2,
          3.3,
          3.4,
          3.5,
          3.6,
          3.7,
          3.8,
          3.9,
          4,
          4.1,
          4.2,
          4.3,
          4.4,
          4.5,
          4.6,
          4.7,
          4.8,
          4.9,
          5,
          5.1,
          5.2,
          5.3,
          5.4,
          5.5,
          5.6,
          5.7,
          5.8,
          5.9,
          6,
          6.1,
          6.2,
          6.3,
          6.4,
          6.5,
          6.6,
          6.7,
          6.8,
          6.9,
          7,
          7.1,
          7.2,
          7.3,
          7.4,
          7.5,
          7.6,
          7.7,
          7.8,
          7.9,
          8,
          8.1,
          8.2,
          8.3,
          8.4,
          8.5,
          8.6,
          8.7,
          8.8,
          8.9,
          9,
          9.1,
          9.2,
          9.3,
          9.4,
          9.5,
          9.6,
          9.7,
          9.8,
          9.9,
          10,
          10.1,
          10.2,
          10.3,
          10.4,
          10.5,
          10.6,
          10.7,
          10.8,
          10.9
         ],
         "y": [
          1056.293396226415,
          1056.293396226415,
          1056.293396226415,
          1056.293396226415,
          1056.293396226415,
          1056.293396226415,
          1056.293396226415,
          1056.293396226415,
          1056.293396226415,
          1056.293396226415,
          1056.293396226415,
          1056.293396226415,
          1056.293396226415,
          1056.293396226415,
          1056.293396226415,
          1056.293396226415,
          1056.293396226415,
          1056.293396226415,
          1056.293396226415,
          1056.293396226415,
          1056.293396226415,
          1056.293396226415,
          1056.293396226415,
          1056.293396226415,
          1056.293396226415,
          1056.293396226415,
          1056.293396226415,
          1056.293396226415,
          1056.293396226415,
          1056.293396226415,
          1056.293396226415,
          1056.293396226415,
          1056.293396226415,
          1056.293396226415,
          1056.293396226415,
          1056.293396226415,
          1056.293396226415,
          1056.293396226415,
          1056.293396226415,
          1056.293396226415,
          1056.293396226415,
          1056.293396226415,
          1056.293396226415,
          1056.293396226415,
          1056.293396226415,
          1056.293396226415,
          1056.293396226415,
          1056.293396226415,
          1056.293396226415,
          1056.293396226415,
          1056.293396226415,
          1056.293396226415,
          1056.293396226415,
          1056.293396226415,
          1056.293396226415,
          1056.293396226415,
          1056.293396226415,
          1056.293396226415,
          1056.293396226415,
          1056.293396226415,
          1056.293396226415,
          1056.293396226415,
          1056.293396226415,
          1056.293396226415,
          1056.293396226415,
          1056.293396226415,
          1056.293396226415,
          1056.293396226415,
          1056.293396226415,
          1056.293396226415,
          1056.293396226415,
          1056.293396226415,
          1056.293396226415,
          1056.293396226415,
          1056.293396226415,
          1056.293396226415,
          1056.293396226415,
          1056.293396226415,
          1056.293396226415,
          1056.293396226415,
          1056.293396226415,
          1056.293396226415,
          1056.293396226415,
          1056.293396226415,
          1056.293396226415,
          1056.293396226415,
          1056.293396226415,
          1056.293396226415,
          1056.293396226415,
          1056.293396226415,
          1056.293396226415,
          1056.293396226415,
          1056.293396226415,
          1056.293396226415,
          1056.293396226415,
          1056.293396226415,
          1056.293396226415,
          1056.293396226415,
          1056.293396226415,
          1056.293396226415,
          1056.293396226415,
          1056.293396226415,
          1056.293396226415,
          1056.293396226415,
          1056.293396226415,
          1056.293396226415,
          1056.293396226415,
          1056.293396226415,
          1056.293396226415,
          1056.293396226415
         ]
        },
        {
         "line": {
          "color": "rgb(153, 0, 204)",
          "dash": "solid",
          "width": 1
         },
         "mode": "lines",
         "name": "RR",
         "type": "scatter",
         "x": [
          0,
          0.1,
          0.2,
          0.3,
          0.4,
          0.5,
          0.6,
          0.7,
          0.8,
          0.9,
          1,
          1.1,
          1.2,
          1.3,
          1.4,
          1.5,
          1.6,
          1.7,
          1.8,
          1.9,
          2,
          2.1,
          2.2,
          2.3,
          2.4,
          2.5,
          2.6,
          2.7,
          2.8,
          2.9,
          3,
          3.1,
          3.2,
          3.3,
          3.4,
          3.5,
          3.6,
          3.7,
          3.8,
          3.9,
          4,
          4.1,
          4.2,
          4.3,
          4.4,
          4.5,
          4.6,
          4.7,
          4.8,
          4.9,
          5,
          5.1,
          5.2,
          5.3,
          5.4,
          5.5,
          5.6,
          5.7,
          5.8,
          5.9,
          6,
          6.1,
          6.2,
          6.3,
          6.4,
          6.5,
          6.6,
          6.7,
          6.8,
          6.9,
          7,
          7.1,
          7.2,
          7.3,
          7.4,
          7.5,
          7.6,
          7.7,
          7.8,
          7.9,
          8,
          8.1,
          8.2,
          8.3,
          8.4,
          8.5,
          8.6,
          8.7,
          8.8,
          8.9,
          9,
          9.1,
          9.2,
          9.3,
          9.4,
          9.5,
          9.6,
          9.7,
          9.8,
          9.9,
          10,
          10.1,
          10.2,
          10.3,
          10.4,
          10.5,
          10.6,
          10.7,
          10.8,
          10.9
         ],
         "y": [
          592.7066037735849,
          592.7066037735849,
          592.7066037735849,
          592.7066037735849,
          592.7066037735849,
          592.7066037735849,
          592.7066037735849,
          592.7066037735849,
          592.7066037735849,
          592.7066037735849,
          592.7066037735849,
          592.7066037735849,
          592.7066037735849,
          592.7066037735849,
          592.7066037735849,
          592.7066037735849,
          592.7066037735849,
          592.7066037735849,
          592.7066037735849,
          592.7066037735849,
          592.7066037735849,
          592.7066037735849,
          592.7066037735849,
          592.7066037735849,
          592.7066037735849,
          592.7066037735849,
          592.7066037735849,
          592.7066037735849,
          592.7066037735849,
          592.7066037735849,
          592.7066037735849,
          592.7066037735849,
          592.7066037735849,
          592.7066037735849,
          592.7066037735849,
          592.7066037735849,
          592.7066037735849,
          592.7066037735849,
          592.7066037735849,
          592.7066037735849,
          592.7066037735849,
          592.7066037735849,
          592.7066037735849,
          592.7066037735849,
          592.7066037735849,
          592.7066037735849,
          592.7066037735849,
          592.7066037735849,
          592.7066037735849,
          592.7066037735849,
          592.7066037735849,
          592.7066037735849,
          592.7066037735849,
          592.7066037735849,
          592.7066037735849,
          592.7066037735849,
          592.7066037735849,
          592.7066037735849,
          592.7066037735849,
          592.7066037735849,
          592.7066037735849,
          592.7066037735849,
          592.7066037735849,
          592.7066037735849,
          592.7066037735849,
          592.7066037735849,
          592.7066037735849,
          592.7066037735849,
          592.7066037735849,
          592.7066037735849,
          592.7066037735849,
          592.7066037735849,
          592.7066037735849,
          592.7066037735849,
          592.7066037735849,
          592.7066037735849,
          592.7066037735849,
          592.7066037735849,
          592.7066037735849,
          592.7066037735849,
          592.7066037735849,
          592.7066037735849,
          592.7066037735849,
          592.7066037735849,
          592.7066037735849,
          592.7066037735849,
          592.7066037735849,
          592.7066037735849,
          592.7066037735849,
          592.7066037735849,
          592.7066037735849,
          592.7066037735849,
          592.7066037735849,
          592.7066037735849,
          592.7066037735849,
          592.7066037735849,
          592.7066037735849,
          592.7066037735849,
          592.7066037735849,
          592.7066037735849,
          592.7066037735849,
          592.7066037735849,
          592.7066037735849,
          592.7066037735849,
          592.7066037735849,
          592.7066037735849,
          592.7066037735849,
          592.7066037735849,
          592.7066037735849,
          592.7066037735849
         ]
        },
        {
         "line": {
          "color": "rgb(255, 102, 0)",
          "dash": "solid",
          "width": 1
         },
         "mode": "lines",
         "name": "LR",
         "type": "scatter",
         "x": [
          0,
          0.1,
          0.2,
          0.3,
          0.4,
          0.5,
          0.6,
          0.7,
          0.8,
          0.9,
          1,
          1.1,
          1.2,
          1.3,
          1.4,
          1.5,
          1.6,
          1.7,
          1.8,
          1.9,
          2,
          2.1,
          2.2,
          2.3,
          2.4,
          2.5,
          2.6,
          2.7,
          2.8,
          2.9,
          3,
          3.1,
          3.2,
          3.3,
          3.4,
          3.5,
          3.6,
          3.7,
          3.8,
          3.9,
          4,
          4.1,
          4.2,
          4.3,
          4.4,
          4.5,
          4.6,
          4.7,
          4.8,
          4.9,
          5,
          5.1,
          5.2,
          5.3,
          5.4,
          5.5,
          5.6,
          5.7,
          5.8,
          5.9,
          6,
          6.1,
          6.2,
          6.3,
          6.4,
          6.5,
          6.6,
          6.7,
          6.8,
          6.9,
          7,
          7.1,
          7.2,
          7.3,
          7.4,
          7.5,
          7.6,
          7.7,
          7.8,
          7.9,
          8,
          8.1,
          8.2,
          8.3,
          8.4,
          8.5,
          8.6,
          8.7,
          8.8,
          8.9,
          9,
          9.1,
          9.2,
          9.3,
          9.4,
          9.5,
          9.6,
          9.7,
          9.8,
          9.9,
          10,
          10.1,
          10.2,
          10.3,
          10.4,
          10.5,
          10.6,
          10.7,
          10.8,
          10.9
         ],
         "y": [
          592.7066037735849,
          592.7066037735849,
          592.7066037735849,
          592.7066037735849,
          592.7066037735849,
          592.7066037735849,
          592.7066037735849,
          592.7066037735849,
          592.7066037735849,
          592.7066037735849,
          592.7066037735849,
          592.7066037735849,
          592.7066037735849,
          592.7066037735849,
          592.7066037735849,
          592.7066037735849,
          592.7066037735849,
          592.7066037735849,
          592.7066037735849,
          592.7066037735849,
          592.7066037735849,
          592.7066037735849,
          592.7066037735849,
          592.7066037735849,
          592.7066037735849,
          592.7066037735849,
          592.7066037735849,
          592.7066037735849,
          592.7066037735849,
          592.7066037735849,
          592.7066037735849,
          592.7066037735849,
          592.7066037735849,
          592.7066037735849,
          592.7066037735849,
          592.7066037735849,
          592.7066037735849,
          592.7066037735849,
          592.7066037735849,
          592.7066037735849,
          592.7066037735849,
          592.7066037735849,
          592.7066037735849,
          592.7066037735849,
          592.7066037735849,
          592.7066037735849,
          592.7066037735849,
          592.7066037735849,
          592.7066037735849,
          592.7066037735849,
          592.7066037735849,
          592.7066037735849,
          592.7066037735849,
          592.7066037735849,
          592.7066037735849,
          592.7066037735849,
          592.7066037735849,
          592.7066037735849,
          592.7066037735849,
          592.7066037735849,
          592.7066037735849,
          592.7066037735849,
          592.7066037735849,
          592.7066037735849,
          592.7066037735849,
          592.7066037735849,
          592.7066037735849,
          592.7066037735849,
          592.7066037735849,
          592.7066037735849,
          592.7066037735849,
          592.7066037735849,
          592.7066037735849,
          592.7066037735849,
          592.7066037735849,
          592.7066037735849,
          592.7066037735849,
          592.7066037735849,
          592.7066037735849,
          592.7066037735849,
          592.7066037735849,
          592.7066037735849,
          592.7066037735849,
          592.7066037735849,
          592.7066037735849,
          592.7066037735849,
          592.7066037735849,
          592.7066037735849,
          592.7066037735849,
          592.7066037735849,
          592.7066037735849,
          592.7066037735849,
          592.7066037735849,
          592.7066037735849,
          592.7066037735849,
          592.7066037735849,
          592.7066037735849,
          592.7066037735849,
          592.7066037735849,
          592.7066037735849,
          592.7066037735849,
          592.7066037735849,
          592.7066037735849,
          592.7066037735849,
          592.7066037735849,
          592.7066037735849,
          592.7066037735849,
          592.7066037735849,
          592.7066037735849,
          592.7066037735849
         ]
        }
       ],
       "layout": {
        "autosize": false,
        "font": {
         "color": "black",
         "family": "Arial",
         "size": 16
        },
        "height": 450,
        "legend": {
         "orientation": "h",
         "x": 0.01,
         "xanchor": "left",
         "y": 1.15,
         "yanchor": "top"
        },
        "template": {
         "data": {
          "bar": [
           {
            "error_x": {
             "color": "#2a3f5f"
            },
            "error_y": {
             "color": "#2a3f5f"
            },
            "marker": {
             "line": {
              "color": "white",
              "width": 0.5
             }
            },
            "type": "bar"
           }
          ],
          "barpolar": [
           {
            "marker": {
             "line": {
              "color": "white",
              "width": 0.5
             }
            },
            "type": "barpolar"
           }
          ],
          "carpet": [
           {
            "aaxis": {
             "endlinecolor": "#2a3f5f",
             "gridcolor": "#C8D4E3",
             "linecolor": "#C8D4E3",
             "minorgridcolor": "#C8D4E3",
             "startlinecolor": "#2a3f5f"
            },
            "baxis": {
             "endlinecolor": "#2a3f5f",
             "gridcolor": "#C8D4E3",
             "linecolor": "#C8D4E3",
             "minorgridcolor": "#C8D4E3",
             "startlinecolor": "#2a3f5f"
            },
            "type": "carpet"
           }
          ],
          "choropleth": [
           {
            "colorbar": {
             "outlinewidth": 0,
             "ticks": ""
            },
            "type": "choropleth"
           }
          ],
          "contour": [
           {
            "colorbar": {
             "outlinewidth": 0,
             "ticks": ""
            },
            "colorscale": [
             [
              0,
              "#0d0887"
             ],
             [
              0.1111111111111111,
              "#46039f"
             ],
             [
              0.2222222222222222,
              "#7201a8"
             ],
             [
              0.3333333333333333,
              "#9c179e"
             ],
             [
              0.4444444444444444,
              "#bd3786"
             ],
             [
              0.5555555555555556,
              "#d8576b"
             ],
             [
              0.6666666666666666,
              "#ed7953"
             ],
             [
              0.7777777777777778,
              "#fb9f3a"
             ],
             [
              0.8888888888888888,
              "#fdca26"
             ],
             [
              1,
              "#f0f921"
             ]
            ],
            "type": "contour"
           }
          ],
          "contourcarpet": [
           {
            "colorbar": {
             "outlinewidth": 0,
             "ticks": ""
            },
            "type": "contourcarpet"
           }
          ],
          "heatmap": [
           {
            "colorbar": {
             "outlinewidth": 0,
             "ticks": ""
            },
            "colorscale": [
             [
              0,
              "#0d0887"
             ],
             [
              0.1111111111111111,
              "#46039f"
             ],
             [
              0.2222222222222222,
              "#7201a8"
             ],
             [
              0.3333333333333333,
              "#9c179e"
             ],
             [
              0.4444444444444444,
              "#bd3786"
             ],
             [
              0.5555555555555556,
              "#d8576b"
             ],
             [
              0.6666666666666666,
              "#ed7953"
             ],
             [
              0.7777777777777778,
              "#fb9f3a"
             ],
             [
              0.8888888888888888,
              "#fdca26"
             ],
             [
              1,
              "#f0f921"
             ]
            ],
            "type": "heatmap"
           }
          ],
          "heatmapgl": [
           {
            "colorbar": {
             "outlinewidth": 0,
             "ticks": ""
            },
            "colorscale": [
             [
              0,
              "#0d0887"
             ],
             [
              0.1111111111111111,
              "#46039f"
             ],
             [
              0.2222222222222222,
              "#7201a8"
             ],
             [
              0.3333333333333333,
              "#9c179e"
             ],
             [
              0.4444444444444444,
              "#bd3786"
             ],
             [
              0.5555555555555556,
              "#d8576b"
             ],
             [
              0.6666666666666666,
              "#ed7953"
             ],
             [
              0.7777777777777778,
              "#fb9f3a"
             ],
             [
              0.8888888888888888,
              "#fdca26"
             ],
             [
              1,
              "#f0f921"
             ]
            ],
            "type": "heatmapgl"
           }
          ],
          "histogram": [
           {
            "marker": {
             "colorbar": {
              "outlinewidth": 0,
              "ticks": ""
             }
            },
            "type": "histogram"
           }
          ],
          "histogram2d": [
           {
            "colorbar": {
             "outlinewidth": 0,
             "ticks": ""
            },
            "colorscale": [
             [
              0,
              "#0d0887"
             ],
             [
              0.1111111111111111,
              "#46039f"
             ],
             [
              0.2222222222222222,
              "#7201a8"
             ],
             [
              0.3333333333333333,
              "#9c179e"
             ],
             [
              0.4444444444444444,
              "#bd3786"
             ],
             [
              0.5555555555555556,
              "#d8576b"
             ],
             [
              0.6666666666666666,
              "#ed7953"
             ],
             [
              0.7777777777777778,
              "#fb9f3a"
             ],
             [
              0.8888888888888888,
              "#fdca26"
             ],
             [
              1,
              "#f0f921"
             ]
            ],
            "type": "histogram2d"
           }
          ],
          "histogram2dcontour": [
           {
            "colorbar": {
             "outlinewidth": 0,
             "ticks": ""
            },
            "colorscale": [
             [
              0,
              "#0d0887"
             ],
             [
              0.1111111111111111,
              "#46039f"
             ],
             [
              0.2222222222222222,
              "#7201a8"
             ],
             [
              0.3333333333333333,
              "#9c179e"
             ],
             [
              0.4444444444444444,
              "#bd3786"
             ],
             [
              0.5555555555555556,
              "#d8576b"
             ],
             [
              0.6666666666666666,
              "#ed7953"
             ],
             [
              0.7777777777777778,
              "#fb9f3a"
             ],
             [
              0.8888888888888888,
              "#fdca26"
             ],
             [
              1,
              "#f0f921"
             ]
            ],
            "type": "histogram2dcontour"
           }
          ],
          "mesh3d": [
           {
            "colorbar": {
             "outlinewidth": 0,
             "ticks": ""
            },
            "type": "mesh3d"
           }
          ],
          "parcoords": [
           {
            "line": {
             "colorbar": {
              "outlinewidth": 0,
              "ticks": ""
             }
            },
            "type": "parcoords"
           }
          ],
          "pie": [
           {
            "automargin": true,
            "type": "pie"
           }
          ],
          "scatter": [
           {
            "marker": {
             "colorbar": {
              "outlinewidth": 0,
              "ticks": ""
             }
            },
            "type": "scatter"
           }
          ],
          "scatter3d": [
           {
            "line": {
             "colorbar": {
              "outlinewidth": 0,
              "ticks": ""
             }
            },
            "marker": {
             "colorbar": {
              "outlinewidth": 0,
              "ticks": ""
             }
            },
            "type": "scatter3d"
           }
          ],
          "scattercarpet": [
           {
            "marker": {
             "colorbar": {
              "outlinewidth": 0,
              "ticks": ""
             }
            },
            "type": "scattercarpet"
           }
          ],
          "scattergeo": [
           {
            "marker": {
             "colorbar": {
              "outlinewidth": 0,
              "ticks": ""
             }
            },
            "type": "scattergeo"
           }
          ],
          "scattergl": [
           {
            "marker": {
             "colorbar": {
              "outlinewidth": 0,
              "ticks": ""
             }
            },
            "type": "scattergl"
           }
          ],
          "scattermapbox": [
           {
            "marker": {
             "colorbar": {
              "outlinewidth": 0,
              "ticks": ""
             }
            },
            "type": "scattermapbox"
           }
          ],
          "scatterpolar": [
           {
            "marker": {
             "colorbar": {
              "outlinewidth": 0,
              "ticks": ""
             }
            },
            "type": "scatterpolar"
           }
          ],
          "scatterpolargl": [
           {
            "marker": {
             "colorbar": {
              "outlinewidth": 0,
              "ticks": ""
             }
            },
            "type": "scatterpolargl"
           }
          ],
          "scatterternary": [
           {
            "marker": {
             "colorbar": {
              "outlinewidth": 0,
              "ticks": ""
             }
            },
            "type": "scatterternary"
           }
          ],
          "surface": [
           {
            "colorbar": {
             "outlinewidth": 0,
             "ticks": ""
            },
            "colorscale": [
             [
              0,
              "#0d0887"
             ],
             [
              0.1111111111111111,
              "#46039f"
             ],
             [
              0.2222222222222222,
              "#7201a8"
             ],
             [
              0.3333333333333333,
              "#9c179e"
             ],
             [
              0.4444444444444444,
              "#bd3786"
             ],
             [
              0.5555555555555556,
              "#d8576b"
             ],
             [
              0.6666666666666666,
              "#ed7953"
             ],
             [
              0.7777777777777778,
              "#fb9f3a"
             ],
             [
              0.8888888888888888,
              "#fdca26"
             ],
             [
              1,
              "#f0f921"
             ]
            ],
            "type": "surface"
           }
          ],
          "table": [
           {
            "cells": {
             "fill": {
              "color": "#EBF0F8"
             },
             "line": {
              "color": "white"
             }
            },
            "header": {
             "fill": {
              "color": "#C8D4E3"
             },
             "line": {
              "color": "white"
             }
            },
            "type": "table"
           }
          ]
         },
         "layout": {
          "annotationdefaults": {
           "arrowcolor": "#2a3f5f",
           "arrowhead": 0,
           "arrowwidth": 1
          },
          "coloraxis": {
           "colorbar": {
            "outlinewidth": 0,
            "ticks": ""
           }
          },
          "colorscale": {
           "diverging": [
            [
             0,
             "#8e0152"
            ],
            [
             0.1,
             "#c51b7d"
            ],
            [
             0.2,
             "#de77ae"
            ],
            [
             0.3,
             "#f1b6da"
            ],
            [
             0.4,
             "#fde0ef"
            ],
            [
             0.5,
             "#f7f7f7"
            ],
            [
             0.6,
             "#e6f5d0"
            ],
            [
             0.7,
             "#b8e186"
            ],
            [
             0.8,
             "#7fbc41"
            ],
            [
             0.9,
             "#4d9221"
            ],
            [
             1,
             "#276419"
            ]
           ],
           "sequential": [
            [
             0,
             "#0d0887"
            ],
            [
             0.1111111111111111,
             "#46039f"
            ],
            [
             0.2222222222222222,
             "#7201a8"
            ],
            [
             0.3333333333333333,
             "#9c179e"
            ],
            [
             0.4444444444444444,
             "#bd3786"
            ],
            [
             0.5555555555555556,
             "#d8576b"
            ],
            [
             0.6666666666666666,
             "#ed7953"
            ],
            [
             0.7777777777777778,
             "#fb9f3a"
            ],
            [
             0.8888888888888888,
             "#fdca26"
            ],
            [
             1,
             "#f0f921"
            ]
           ],
           "sequentialminus": [
            [
             0,
             "#0d0887"
            ],
            [
             0.1111111111111111,
             "#46039f"
            ],
            [
             0.2222222222222222,
             "#7201a8"
            ],
            [
             0.3333333333333333,
             "#9c179e"
            ],
            [
             0.4444444444444444,
             "#bd3786"
            ],
            [
             0.5555555555555556,
             "#d8576b"
            ],
            [
             0.6666666666666666,
             "#ed7953"
            ],
            [
             0.7777777777777778,
             "#fb9f3a"
            ],
            [
             0.8888888888888888,
             "#fdca26"
            ],
            [
             1,
             "#f0f921"
            ]
           ]
          },
          "colorway": [
           "#636efa",
           "#EF553B",
           "#00cc96",
           "#ab63fa",
           "#FFA15A",
           "#19d3f3",
           "#FF6692",
           "#B6E880",
           "#FF97FF",
           "#FECB52"
          ],
          "font": {
           "color": "#2a3f5f"
          },
          "geo": {
           "bgcolor": "white",
           "lakecolor": "white",
           "landcolor": "white",
           "showlakes": true,
           "showland": true,
           "subunitcolor": "#C8D4E3"
          },
          "hoverlabel": {
           "align": "left"
          },
          "hovermode": "closest",
          "mapbox": {
           "style": "light"
          },
          "paper_bgcolor": "white",
          "plot_bgcolor": "white",
          "polar": {
           "angularaxis": {
            "gridcolor": "#EBF0F8",
            "linecolor": "#EBF0F8",
            "ticks": ""
           },
           "bgcolor": "white",
           "radialaxis": {
            "gridcolor": "#EBF0F8",
            "linecolor": "#EBF0F8",
            "ticks": ""
           }
          },
          "scene": {
           "xaxis": {
            "backgroundcolor": "white",
            "gridcolor": "#DFE8F3",
            "gridwidth": 2,
            "linecolor": "#EBF0F8",
            "showbackground": true,
            "ticks": "",
            "zerolinecolor": "#EBF0F8"
           },
           "yaxis": {
            "backgroundcolor": "white",
            "gridcolor": "#DFE8F3",
            "gridwidth": 2,
            "linecolor": "#EBF0F8",
            "showbackground": true,
            "ticks": "",
            "zerolinecolor": "#EBF0F8"
           },
           "zaxis": {
            "backgroundcolor": "white",
            "gridcolor": "#DFE8F3",
            "gridwidth": 2,
            "linecolor": "#EBF0F8",
            "showbackground": true,
            "ticks": "",
            "zerolinecolor": "#EBF0F8"
           }
          },
          "shapedefaults": {
           "line": {
            "color": "#2a3f5f"
           }
          },
          "ternary": {
           "aaxis": {
            "gridcolor": "#DFE8F3",
            "linecolor": "#A2B1C6",
            "ticks": ""
           },
           "baxis": {
            "gridcolor": "#DFE8F3",
            "linecolor": "#A2B1C6",
            "ticks": ""
           },
           "bgcolor": "white",
           "caxis": {
            "gridcolor": "#DFE8F3",
            "linecolor": "#A2B1C6",
            "ticks": ""
           }
          },
          "title": {
           "x": 0.05
          },
          "xaxis": {
           "automargin": true,
           "gridcolor": "#EBF0F8",
           "linecolor": "#EBF0F8",
           "ticks": "",
           "title": {
            "standoff": 15
           },
           "zerolinecolor": "#EBF0F8",
           "zerolinewidth": 2
          },
          "yaxis": {
           "automargin": true,
           "gridcolor": "#EBF0F8",
           "linecolor": "#EBF0F8",
           "ticks": "",
           "title": {
            "standoff": 15
           },
           "zerolinecolor": "#EBF0F8",
           "zerolinewidth": 2
          }
         }
        },
        "title": {
         "text": "Vertical Tire Forces"
        },
        "width": 800,
        "xaxis": {
         "linecolor": "black",
         "linewidth": 1,
         "showline": true,
         "tickcolor": "black",
         "ticklen": 10,
         "ticks": "outside",
         "tickwidth": 1,
         "title": {
          "text": "Time (s)"
         },
         "zeroline": false
        },
        "yaxis": {
         "linecolor": "black",
         "linewidth": 1,
         "showline": true,
         "tickcolor": "black",
         "ticklen": 10,
         "ticks": "outside",
         "tickwidth": 1,
         "title": {
          "text": "Vertical Force (lb)"
         },
         "zeroline": false
        }
       }
      },
      "text/html": [
       "<div>\n",
       "        \n",
       "        \n",
       "            <div id=\"9709dde1-b15c-4121-aad9-e769c6d2ba7f\" class=\"plotly-graph-div\" style=\"height:450px; width:800px;\"></div>\n",
       "            <script type=\"text/javascript\">\n",
       "                require([\"plotly\"], function(Plotly) {\n",
       "                    window.PLOTLYENV=window.PLOTLYENV || {};\n",
       "                    \n",
       "                if (document.getElementById(\"9709dde1-b15c-4121-aad9-e769c6d2ba7f\")) {\n",
       "                    Plotly.newPlot(\n",
       "                        '9709dde1-b15c-4121-aad9-e769c6d2ba7f',\n",
       "                        [{\"line\": {\"color\": \"rgb(0, 0, 255)\", \"dash\": \"solid\", \"width\": 1}, \"mode\": \"lines\", \"name\": \"LF\", \"type\": \"scatter\", \"x\": [0.0, 0.1, 0.2, 0.3, 0.4, 0.5, 0.6, 0.7, 0.8, 0.9, 1.0, 1.1, 1.2, 1.3, 1.4, 1.5, 1.6, 1.7, 1.8, 1.9, 2.0, 2.1, 2.2, 2.3, 2.4, 2.5, 2.6, 2.7, 2.8, 2.9, 3.0, 3.1, 3.2, 3.3, 3.4, 3.5, 3.6, 3.7, 3.8, 3.9, 4.0, 4.1, 4.2, 4.3, 4.4, 4.5, 4.6, 4.7, 4.8, 4.9, 5.0, 5.1, 5.2, 5.3, 5.4, 5.5, 5.6, 5.7, 5.8, 5.9, 6.0, 6.1, 6.2, 6.3, 6.4, 6.5, 6.6, 6.7, 6.8, 6.9, 7.0, 7.1, 7.2, 7.3, 7.4, 7.5, 7.6, 7.7, 7.8, 7.9, 8.0, 8.1, 8.2, 8.3, 8.4, 8.5, 8.6, 8.7, 8.8, 8.9, 9.0, 9.1, 9.2, 9.3, 9.4, 9.5, 9.6, 9.7, 9.8, 9.9, 10.0, 10.1, 10.2, 10.3, 10.4, 10.5, 10.6, 10.7, 10.8, 10.9], \"y\": [1056.293396226415, 1056.293396226415, 1056.293396226415, 1056.293396226415, 1056.293396226415, 1056.293396226415, 1056.293396226415, 1056.293396226415, 1056.293396226415, 1056.293396226415, 1056.293396226415, 1056.293396226415, 1056.293396226415, 1056.293396226415, 1056.293396226415, 1056.293396226415, 1056.293396226415, 1056.293396226415, 1056.293396226415, 1056.293396226415, 1056.293396226415, 1056.293396226415, 1056.293396226415, 1056.293396226415, 1056.293396226415, 1056.293396226415, 1056.293396226415, 1056.293396226415, 1056.293396226415, 1056.293396226415, 1056.293396226415, 1056.293396226415, 1056.293396226415, 1056.293396226415, 1056.293396226415, 1056.293396226415, 1056.293396226415, 1056.293396226415, 1056.293396226415, 1056.293396226415, 1056.293396226415, 1056.293396226415, 1056.293396226415, 1056.293396226415, 1056.293396226415, 1056.293396226415, 1056.293396226415, 1056.293396226415, 1056.293396226415, 1056.293396226415, 1056.293396226415, 1056.293396226415, 1056.293396226415, 1056.293396226415, 1056.293396226415, 1056.293396226415, 1056.293396226415, 1056.293396226415, 1056.293396226415, 1056.293396226415, 1056.293396226415, 1056.293396226415, 1056.293396226415, 1056.293396226415, 1056.293396226415, 1056.293396226415, 1056.293396226415, 1056.293396226415, 1056.293396226415, 1056.293396226415, 1056.293396226415, 1056.293396226415, 1056.293396226415, 1056.293396226415, 1056.293396226415, 1056.293396226415, 1056.293396226415, 1056.293396226415, 1056.293396226415, 1056.293396226415, 1056.293396226415, 1056.293396226415, 1056.293396226415, 1056.293396226415, 1056.293396226415, 1056.293396226415, 1056.293396226415, 1056.293396226415, 1056.293396226415, 1056.293396226415, 1056.293396226415, 1056.293396226415, 1056.293396226415, 1056.293396226415, 1056.293396226415, 1056.293396226415, 1056.293396226415, 1056.293396226415, 1056.293396226415, 1056.293396226415, 1056.293396226415, 1056.293396226415, 1056.293396226415, 1056.293396226415, 1056.293396226415, 1056.293396226415, 1056.293396226415, 1056.293396226415, 1056.293396226415, 1056.293396226415]}, {\"line\": {\"color\": \"rgb(0, 255, 0)\", \"dash\": \"solid\", \"width\": 1}, \"mode\": \"lines\", \"name\": \"RF\", \"type\": \"scatter\", \"x\": [0.0, 0.1, 0.2, 0.3, 0.4, 0.5, 0.6, 0.7, 0.8, 0.9, 1.0, 1.1, 1.2, 1.3, 1.4, 1.5, 1.6, 1.7, 1.8, 1.9, 2.0, 2.1, 2.2, 2.3, 2.4, 2.5, 2.6, 2.7, 2.8, 2.9, 3.0, 3.1, 3.2, 3.3, 3.4, 3.5, 3.6, 3.7, 3.8, 3.9, 4.0, 4.1, 4.2, 4.3, 4.4, 4.5, 4.6, 4.7, 4.8, 4.9, 5.0, 5.1, 5.2, 5.3, 5.4, 5.5, 5.6, 5.7, 5.8, 5.9, 6.0, 6.1, 6.2, 6.3, 6.4, 6.5, 6.6, 6.7, 6.8, 6.9, 7.0, 7.1, 7.2, 7.3, 7.4, 7.5, 7.6, 7.7, 7.8, 7.9, 8.0, 8.1, 8.2, 8.3, 8.4, 8.5, 8.6, 8.7, 8.8, 8.9, 9.0, 9.1, 9.2, 9.3, 9.4, 9.5, 9.6, 9.7, 9.8, 9.9, 10.0, 10.1, 10.2, 10.3, 10.4, 10.5, 10.6, 10.7, 10.8, 10.9], \"y\": [1056.293396226415, 1056.293396226415, 1056.293396226415, 1056.293396226415, 1056.293396226415, 1056.293396226415, 1056.293396226415, 1056.293396226415, 1056.293396226415, 1056.293396226415, 1056.293396226415, 1056.293396226415, 1056.293396226415, 1056.293396226415, 1056.293396226415, 1056.293396226415, 1056.293396226415, 1056.293396226415, 1056.293396226415, 1056.293396226415, 1056.293396226415, 1056.293396226415, 1056.293396226415, 1056.293396226415, 1056.293396226415, 1056.293396226415, 1056.293396226415, 1056.293396226415, 1056.293396226415, 1056.293396226415, 1056.293396226415, 1056.293396226415, 1056.293396226415, 1056.293396226415, 1056.293396226415, 1056.293396226415, 1056.293396226415, 1056.293396226415, 1056.293396226415, 1056.293396226415, 1056.293396226415, 1056.293396226415, 1056.293396226415, 1056.293396226415, 1056.293396226415, 1056.293396226415, 1056.293396226415, 1056.293396226415, 1056.293396226415, 1056.293396226415, 1056.293396226415, 1056.293396226415, 1056.293396226415, 1056.293396226415, 1056.293396226415, 1056.293396226415, 1056.293396226415, 1056.293396226415, 1056.293396226415, 1056.293396226415, 1056.293396226415, 1056.293396226415, 1056.293396226415, 1056.293396226415, 1056.293396226415, 1056.293396226415, 1056.293396226415, 1056.293396226415, 1056.293396226415, 1056.293396226415, 1056.293396226415, 1056.293396226415, 1056.293396226415, 1056.293396226415, 1056.293396226415, 1056.293396226415, 1056.293396226415, 1056.293396226415, 1056.293396226415, 1056.293396226415, 1056.293396226415, 1056.293396226415, 1056.293396226415, 1056.293396226415, 1056.293396226415, 1056.293396226415, 1056.293396226415, 1056.293396226415, 1056.293396226415, 1056.293396226415, 1056.293396226415, 1056.293396226415, 1056.293396226415, 1056.293396226415, 1056.293396226415, 1056.293396226415, 1056.293396226415, 1056.293396226415, 1056.293396226415, 1056.293396226415, 1056.293396226415, 1056.293396226415, 1056.293396226415, 1056.293396226415, 1056.293396226415, 1056.293396226415, 1056.293396226415, 1056.293396226415, 1056.293396226415, 1056.293396226415]}, {\"line\": {\"color\": \"rgb(153, 0, 204)\", \"dash\": \"solid\", \"width\": 1}, \"mode\": \"lines\", \"name\": \"RR\", \"type\": \"scatter\", \"x\": [0.0, 0.1, 0.2, 0.3, 0.4, 0.5, 0.6, 0.7, 0.8, 0.9, 1.0, 1.1, 1.2, 1.3, 1.4, 1.5, 1.6, 1.7, 1.8, 1.9, 2.0, 2.1, 2.2, 2.3, 2.4, 2.5, 2.6, 2.7, 2.8, 2.9, 3.0, 3.1, 3.2, 3.3, 3.4, 3.5, 3.6, 3.7, 3.8, 3.9, 4.0, 4.1, 4.2, 4.3, 4.4, 4.5, 4.6, 4.7, 4.8, 4.9, 5.0, 5.1, 5.2, 5.3, 5.4, 5.5, 5.6, 5.7, 5.8, 5.9, 6.0, 6.1, 6.2, 6.3, 6.4, 6.5, 6.6, 6.7, 6.8, 6.9, 7.0, 7.1, 7.2, 7.3, 7.4, 7.5, 7.6, 7.7, 7.8, 7.9, 8.0, 8.1, 8.2, 8.3, 8.4, 8.5, 8.6, 8.7, 8.8, 8.9, 9.0, 9.1, 9.2, 9.3, 9.4, 9.5, 9.6, 9.7, 9.8, 9.9, 10.0, 10.1, 10.2, 10.3, 10.4, 10.5, 10.6, 10.7, 10.8, 10.9], \"y\": [592.7066037735849, 592.7066037735849, 592.7066037735849, 592.7066037735849, 592.7066037735849, 592.7066037735849, 592.7066037735849, 592.7066037735849, 592.7066037735849, 592.7066037735849, 592.7066037735849, 592.7066037735849, 592.7066037735849, 592.7066037735849, 592.7066037735849, 592.7066037735849, 592.7066037735849, 592.7066037735849, 592.7066037735849, 592.7066037735849, 592.7066037735849, 592.7066037735849, 592.7066037735849, 592.7066037735849, 592.7066037735849, 592.7066037735849, 592.7066037735849, 592.7066037735849, 592.7066037735849, 592.7066037735849, 592.7066037735849, 592.7066037735849, 592.7066037735849, 592.7066037735849, 592.7066037735849, 592.7066037735849, 592.7066037735849, 592.7066037735849, 592.7066037735849, 592.7066037735849, 592.7066037735849, 592.7066037735849, 592.7066037735849, 592.7066037735849, 592.7066037735849, 592.7066037735849, 592.7066037735849, 592.7066037735849, 592.7066037735849, 592.7066037735849, 592.7066037735849, 592.7066037735849, 592.7066037735849, 592.7066037735849, 592.7066037735849, 592.7066037735849, 592.7066037735849, 592.7066037735849, 592.7066037735849, 592.7066037735849, 592.7066037735849, 592.7066037735849, 592.7066037735849, 592.7066037735849, 592.7066037735849, 592.7066037735849, 592.7066037735849, 592.7066037735849, 592.7066037735849, 592.7066037735849, 592.7066037735849, 592.7066037735849, 592.7066037735849, 592.7066037735849, 592.7066037735849, 592.7066037735849, 592.7066037735849, 592.7066037735849, 592.7066037735849, 592.7066037735849, 592.7066037735849, 592.7066037735849, 592.7066037735849, 592.7066037735849, 592.7066037735849, 592.7066037735849, 592.7066037735849, 592.7066037735849, 592.7066037735849, 592.7066037735849, 592.7066037735849, 592.7066037735849, 592.7066037735849, 592.7066037735849, 592.7066037735849, 592.7066037735849, 592.7066037735849, 592.7066037735849, 592.7066037735849, 592.7066037735849, 592.7066037735849, 592.7066037735849, 592.7066037735849, 592.7066037735849, 592.7066037735849, 592.7066037735849, 592.7066037735849, 592.7066037735849, 592.7066037735849, 592.7066037735849]}, {\"line\": {\"color\": \"rgb(255, 102, 0)\", \"dash\": \"solid\", \"width\": 1}, \"mode\": \"lines\", \"name\": \"LR\", \"type\": \"scatter\", \"x\": [0.0, 0.1, 0.2, 0.3, 0.4, 0.5, 0.6, 0.7, 0.8, 0.9, 1.0, 1.1, 1.2, 1.3, 1.4, 1.5, 1.6, 1.7, 1.8, 1.9, 2.0, 2.1, 2.2, 2.3, 2.4, 2.5, 2.6, 2.7, 2.8, 2.9, 3.0, 3.1, 3.2, 3.3, 3.4, 3.5, 3.6, 3.7, 3.8, 3.9, 4.0, 4.1, 4.2, 4.3, 4.4, 4.5, 4.6, 4.7, 4.8, 4.9, 5.0, 5.1, 5.2, 5.3, 5.4, 5.5, 5.6, 5.7, 5.8, 5.9, 6.0, 6.1, 6.2, 6.3, 6.4, 6.5, 6.6, 6.7, 6.8, 6.9, 7.0, 7.1, 7.2, 7.3, 7.4, 7.5, 7.6, 7.7, 7.8, 7.9, 8.0, 8.1, 8.2, 8.3, 8.4, 8.5, 8.6, 8.7, 8.8, 8.9, 9.0, 9.1, 9.2, 9.3, 9.4, 9.5, 9.6, 9.7, 9.8, 9.9, 10.0, 10.1, 10.2, 10.3, 10.4, 10.5, 10.6, 10.7, 10.8, 10.9], \"y\": [592.7066037735849, 592.7066037735849, 592.7066037735849, 592.7066037735849, 592.7066037735849, 592.7066037735849, 592.7066037735849, 592.7066037735849, 592.7066037735849, 592.7066037735849, 592.7066037735849, 592.7066037735849, 592.7066037735849, 592.7066037735849, 592.7066037735849, 592.7066037735849, 592.7066037735849, 592.7066037735849, 592.7066037735849, 592.7066037735849, 592.7066037735849, 592.7066037735849, 592.7066037735849, 592.7066037735849, 592.7066037735849, 592.7066037735849, 592.7066037735849, 592.7066037735849, 592.7066037735849, 592.7066037735849, 592.7066037735849, 592.7066037735849, 592.7066037735849, 592.7066037735849, 592.7066037735849, 592.7066037735849, 592.7066037735849, 592.7066037735849, 592.7066037735849, 592.7066037735849, 592.7066037735849, 592.7066037735849, 592.7066037735849, 592.7066037735849, 592.7066037735849, 592.7066037735849, 592.7066037735849, 592.7066037735849, 592.7066037735849, 592.7066037735849, 592.7066037735849, 592.7066037735849, 592.7066037735849, 592.7066037735849, 592.7066037735849, 592.7066037735849, 592.7066037735849, 592.7066037735849, 592.7066037735849, 592.7066037735849, 592.7066037735849, 592.7066037735849, 592.7066037735849, 592.7066037735849, 592.7066037735849, 592.7066037735849, 592.7066037735849, 592.7066037735849, 592.7066037735849, 592.7066037735849, 592.7066037735849, 592.7066037735849, 592.7066037735849, 592.7066037735849, 592.7066037735849, 592.7066037735849, 592.7066037735849, 592.7066037735849, 592.7066037735849, 592.7066037735849, 592.7066037735849, 592.7066037735849, 592.7066037735849, 592.7066037735849, 592.7066037735849, 592.7066037735849, 592.7066037735849, 592.7066037735849, 592.7066037735849, 592.7066037735849, 592.7066037735849, 592.7066037735849, 592.7066037735849, 592.7066037735849, 592.7066037735849, 592.7066037735849, 592.7066037735849, 592.7066037735849, 592.7066037735849, 592.7066037735849, 592.7066037735849, 592.7066037735849, 592.7066037735849, 592.7066037735849, 592.7066037735849, 592.7066037735849, 592.7066037735849, 592.7066037735849, 592.7066037735849, 592.7066037735849]}],\n",
       "                        {\"autosize\": false, \"font\": {\"color\": \"black\", \"family\": \"Arial\", \"size\": 16}, \"height\": 450, \"legend\": {\"orientation\": \"h\", \"x\": 0.01, \"xanchor\": \"left\", \"y\": 1.15, \"yanchor\": \"top\"}, \"template\": {\"data\": {\"bar\": [{\"error_x\": {\"color\": \"#2a3f5f\"}, \"error_y\": {\"color\": \"#2a3f5f\"}, \"marker\": {\"line\": {\"color\": \"white\", \"width\": 0.5}}, \"type\": \"bar\"}], \"barpolar\": [{\"marker\": {\"line\": {\"color\": \"white\", \"width\": 0.5}}, \"type\": \"barpolar\"}], \"carpet\": [{\"aaxis\": {\"endlinecolor\": \"#2a3f5f\", \"gridcolor\": \"#C8D4E3\", \"linecolor\": \"#C8D4E3\", \"minorgridcolor\": \"#C8D4E3\", \"startlinecolor\": \"#2a3f5f\"}, \"baxis\": {\"endlinecolor\": \"#2a3f5f\", \"gridcolor\": \"#C8D4E3\", \"linecolor\": \"#C8D4E3\", \"minorgridcolor\": \"#C8D4E3\", \"startlinecolor\": \"#2a3f5f\"}, \"type\": \"carpet\"}], \"choropleth\": [{\"colorbar\": {\"outlinewidth\": 0, \"ticks\": \"\"}, \"type\": \"choropleth\"}], \"contour\": [{\"colorbar\": {\"outlinewidth\": 0, \"ticks\": \"\"}, \"colorscale\": [[0.0, \"#0d0887\"], [0.1111111111111111, \"#46039f\"], [0.2222222222222222, \"#7201a8\"], [0.3333333333333333, \"#9c179e\"], [0.4444444444444444, \"#bd3786\"], [0.5555555555555556, \"#d8576b\"], [0.6666666666666666, \"#ed7953\"], [0.7777777777777778, \"#fb9f3a\"], [0.8888888888888888, \"#fdca26\"], [1.0, \"#f0f921\"]], \"type\": \"contour\"}], \"contourcarpet\": [{\"colorbar\": {\"outlinewidth\": 0, \"ticks\": \"\"}, \"type\": \"contourcarpet\"}], \"heatmap\": [{\"colorbar\": {\"outlinewidth\": 0, \"ticks\": \"\"}, \"colorscale\": [[0.0, \"#0d0887\"], [0.1111111111111111, \"#46039f\"], [0.2222222222222222, \"#7201a8\"], [0.3333333333333333, \"#9c179e\"], [0.4444444444444444, \"#bd3786\"], [0.5555555555555556, \"#d8576b\"], [0.6666666666666666, \"#ed7953\"], [0.7777777777777778, \"#fb9f3a\"], [0.8888888888888888, \"#fdca26\"], [1.0, \"#f0f921\"]], \"type\": \"heatmap\"}], \"heatmapgl\": [{\"colorbar\": {\"outlinewidth\": 0, \"ticks\": \"\"}, \"colorscale\": [[0.0, \"#0d0887\"], [0.1111111111111111, \"#46039f\"], [0.2222222222222222, \"#7201a8\"], [0.3333333333333333, \"#9c179e\"], [0.4444444444444444, \"#bd3786\"], [0.5555555555555556, \"#d8576b\"], [0.6666666666666666, \"#ed7953\"], [0.7777777777777778, \"#fb9f3a\"], [0.8888888888888888, \"#fdca26\"], [1.0, \"#f0f921\"]], \"type\": \"heatmapgl\"}], \"histogram\": [{\"marker\": {\"colorbar\": {\"outlinewidth\": 0, \"ticks\": \"\"}}, \"type\": \"histogram\"}], \"histogram2d\": [{\"colorbar\": {\"outlinewidth\": 0, \"ticks\": \"\"}, \"colorscale\": [[0.0, \"#0d0887\"], [0.1111111111111111, \"#46039f\"], [0.2222222222222222, \"#7201a8\"], [0.3333333333333333, \"#9c179e\"], [0.4444444444444444, \"#bd3786\"], [0.5555555555555556, \"#d8576b\"], [0.6666666666666666, \"#ed7953\"], [0.7777777777777778, \"#fb9f3a\"], [0.8888888888888888, \"#fdca26\"], [1.0, \"#f0f921\"]], \"type\": \"histogram2d\"}], \"histogram2dcontour\": [{\"colorbar\": {\"outlinewidth\": 0, \"ticks\": \"\"}, \"colorscale\": [[0.0, \"#0d0887\"], [0.1111111111111111, \"#46039f\"], [0.2222222222222222, \"#7201a8\"], [0.3333333333333333, \"#9c179e\"], [0.4444444444444444, \"#bd3786\"], [0.5555555555555556, \"#d8576b\"], [0.6666666666666666, \"#ed7953\"], [0.7777777777777778, \"#fb9f3a\"], [0.8888888888888888, \"#fdca26\"], [1.0, \"#f0f921\"]], \"type\": \"histogram2dcontour\"}], \"mesh3d\": [{\"colorbar\": {\"outlinewidth\": 0, \"ticks\": \"\"}, \"type\": \"mesh3d\"}], \"parcoords\": [{\"line\": {\"colorbar\": {\"outlinewidth\": 0, \"ticks\": \"\"}}, \"type\": \"parcoords\"}], \"pie\": [{\"automargin\": true, \"type\": \"pie\"}], \"scatter\": [{\"marker\": {\"colorbar\": {\"outlinewidth\": 0, \"ticks\": \"\"}}, \"type\": \"scatter\"}], \"scatter3d\": [{\"line\": {\"colorbar\": {\"outlinewidth\": 0, \"ticks\": \"\"}}, \"marker\": {\"colorbar\": {\"outlinewidth\": 0, \"ticks\": \"\"}}, \"type\": \"scatter3d\"}], \"scattercarpet\": [{\"marker\": {\"colorbar\": {\"outlinewidth\": 0, \"ticks\": \"\"}}, \"type\": \"scattercarpet\"}], \"scattergeo\": [{\"marker\": {\"colorbar\": {\"outlinewidth\": 0, \"ticks\": \"\"}}, \"type\": \"scattergeo\"}], \"scattergl\": [{\"marker\": {\"colorbar\": {\"outlinewidth\": 0, \"ticks\": \"\"}}, \"type\": \"scattergl\"}], \"scattermapbox\": [{\"marker\": {\"colorbar\": {\"outlinewidth\": 0, \"ticks\": \"\"}}, \"type\": \"scattermapbox\"}], \"scatterpolar\": [{\"marker\": {\"colorbar\": {\"outlinewidth\": 0, \"ticks\": \"\"}}, \"type\": \"scatterpolar\"}], \"scatterpolargl\": [{\"marker\": {\"colorbar\": {\"outlinewidth\": 0, \"ticks\": \"\"}}, \"type\": \"scatterpolargl\"}], \"scatterternary\": [{\"marker\": {\"colorbar\": {\"outlinewidth\": 0, \"ticks\": \"\"}}, \"type\": \"scatterternary\"}], \"surface\": [{\"colorbar\": {\"outlinewidth\": 0, \"ticks\": \"\"}, \"colorscale\": [[0.0, \"#0d0887\"], [0.1111111111111111, \"#46039f\"], [0.2222222222222222, \"#7201a8\"], [0.3333333333333333, \"#9c179e\"], [0.4444444444444444, \"#bd3786\"], [0.5555555555555556, \"#d8576b\"], [0.6666666666666666, \"#ed7953\"], [0.7777777777777778, \"#fb9f3a\"], [0.8888888888888888, \"#fdca26\"], [1.0, \"#f0f921\"]], \"type\": \"surface\"}], \"table\": [{\"cells\": {\"fill\": {\"color\": \"#EBF0F8\"}, \"line\": {\"color\": \"white\"}}, \"header\": {\"fill\": {\"color\": \"#C8D4E3\"}, \"line\": {\"color\": \"white\"}}, \"type\": \"table\"}]}, \"layout\": {\"annotationdefaults\": {\"arrowcolor\": \"#2a3f5f\", \"arrowhead\": 0, \"arrowwidth\": 1}, \"coloraxis\": {\"colorbar\": {\"outlinewidth\": 0, \"ticks\": \"\"}}, \"colorscale\": {\"diverging\": [[0, \"#8e0152\"], [0.1, \"#c51b7d\"], [0.2, \"#de77ae\"], [0.3, \"#f1b6da\"], [0.4, \"#fde0ef\"], [0.5, \"#f7f7f7\"], [0.6, \"#e6f5d0\"], [0.7, \"#b8e186\"], [0.8, \"#7fbc41\"], [0.9, \"#4d9221\"], [1, \"#276419\"]], \"sequential\": [[0.0, \"#0d0887\"], [0.1111111111111111, \"#46039f\"], [0.2222222222222222, \"#7201a8\"], [0.3333333333333333, \"#9c179e\"], [0.4444444444444444, \"#bd3786\"], [0.5555555555555556, \"#d8576b\"], [0.6666666666666666, \"#ed7953\"], [0.7777777777777778, \"#fb9f3a\"], [0.8888888888888888, \"#fdca26\"], [1.0, \"#f0f921\"]], \"sequentialminus\": [[0.0, \"#0d0887\"], [0.1111111111111111, \"#46039f\"], [0.2222222222222222, \"#7201a8\"], [0.3333333333333333, \"#9c179e\"], [0.4444444444444444, \"#bd3786\"], [0.5555555555555556, \"#d8576b\"], [0.6666666666666666, \"#ed7953\"], [0.7777777777777778, \"#fb9f3a\"], [0.8888888888888888, \"#fdca26\"], [1.0, \"#f0f921\"]]}, \"colorway\": [\"#636efa\", \"#EF553B\", \"#00cc96\", \"#ab63fa\", \"#FFA15A\", \"#19d3f3\", \"#FF6692\", \"#B6E880\", \"#FF97FF\", \"#FECB52\"], \"font\": {\"color\": \"#2a3f5f\"}, \"geo\": {\"bgcolor\": \"white\", \"lakecolor\": \"white\", \"landcolor\": \"white\", \"showlakes\": true, \"showland\": true, \"subunitcolor\": \"#C8D4E3\"}, \"hoverlabel\": {\"align\": \"left\"}, \"hovermode\": \"closest\", \"mapbox\": {\"style\": \"light\"}, \"paper_bgcolor\": \"white\", \"plot_bgcolor\": \"white\", \"polar\": {\"angularaxis\": {\"gridcolor\": \"#EBF0F8\", \"linecolor\": \"#EBF0F8\", \"ticks\": \"\"}, \"bgcolor\": \"white\", \"radialaxis\": {\"gridcolor\": \"#EBF0F8\", \"linecolor\": \"#EBF0F8\", \"ticks\": \"\"}}, \"scene\": {\"xaxis\": {\"backgroundcolor\": \"white\", \"gridcolor\": \"#DFE8F3\", \"gridwidth\": 2, \"linecolor\": \"#EBF0F8\", \"showbackground\": true, \"ticks\": \"\", \"zerolinecolor\": \"#EBF0F8\"}, \"yaxis\": {\"backgroundcolor\": \"white\", \"gridcolor\": \"#DFE8F3\", \"gridwidth\": 2, \"linecolor\": \"#EBF0F8\", \"showbackground\": true, \"ticks\": \"\", \"zerolinecolor\": \"#EBF0F8\"}, \"zaxis\": {\"backgroundcolor\": \"white\", \"gridcolor\": \"#DFE8F3\", \"gridwidth\": 2, \"linecolor\": \"#EBF0F8\", \"showbackground\": true, \"ticks\": \"\", \"zerolinecolor\": \"#EBF0F8\"}}, \"shapedefaults\": {\"line\": {\"color\": \"#2a3f5f\"}}, \"ternary\": {\"aaxis\": {\"gridcolor\": \"#DFE8F3\", \"linecolor\": \"#A2B1C6\", \"ticks\": \"\"}, \"baxis\": {\"gridcolor\": \"#DFE8F3\", \"linecolor\": \"#A2B1C6\", \"ticks\": \"\"}, \"bgcolor\": \"white\", \"caxis\": {\"gridcolor\": \"#DFE8F3\", \"linecolor\": \"#A2B1C6\", \"ticks\": \"\"}}, \"title\": {\"x\": 0.05}, \"xaxis\": {\"automargin\": true, \"gridcolor\": \"#EBF0F8\", \"linecolor\": \"#EBF0F8\", \"ticks\": \"\", \"title\": {\"standoff\": 15}, \"zerolinecolor\": \"#EBF0F8\", \"zerolinewidth\": 2}, \"yaxis\": {\"automargin\": true, \"gridcolor\": \"#EBF0F8\", \"linecolor\": \"#EBF0F8\", \"ticks\": \"\", \"title\": {\"standoff\": 15}, \"zerolinecolor\": \"#EBF0F8\", \"zerolinewidth\": 2}}}, \"title\": {\"text\": \"Vertical Tire Forces\"}, \"width\": 800, \"xaxis\": {\"linecolor\": \"black\", \"linewidth\": 1, \"showline\": true, \"tickcolor\": \"black\", \"ticklen\": 10, \"ticks\": \"outside\", \"tickwidth\": 1, \"title\": {\"text\": \"Time (s)\"}, \"zeroline\": false}, \"yaxis\": {\"linecolor\": \"black\", \"linewidth\": 1, \"showline\": true, \"tickcolor\": \"black\", \"ticklen\": 10, \"ticks\": \"outside\", \"tickwidth\": 1, \"title\": {\"text\": \"Vertical Force (lb)\"}, \"zeroline\": false}},\n",
       "                        {\"responsive\": true}\n",
       "                    ).then(function(){\n",
       "                            \n",
       "var gd = document.getElementById('9709dde1-b15c-4121-aad9-e769c6d2ba7f');\n",
       "var x = new MutationObserver(function (mutations, observer) {{\n",
       "        var display = window.getComputedStyle(gd).display;\n",
       "        if (!display || display === 'none') {{\n",
       "            console.log([gd, 'removed!']);\n",
       "            Plotly.purge(gd);\n",
       "            observer.disconnect();\n",
       "        }}\n",
       "}});\n",
       "\n",
       "// Listen for the removal of the full notebook cells\n",
       "var notebookContainer = gd.closest('#notebook-container');\n",
       "if (notebookContainer) {{\n",
       "    x.observe(notebookContainer, {childList: true});\n",
       "}}\n",
       "\n",
       "// Listen for the clearing of the current output cell\n",
       "var outputEl = gd.closest('.output');\n",
       "if (outputEl) {{\n",
       "    x.observe(outputEl, {childList: true});\n",
       "}}\n",
       "\n",
       "                        })\n",
       "                };\n",
       "                });\n",
       "            </script>\n",
       "        </div>"
      ]
     },
     "metadata": {},
     "output_type": "display_data"
    }
   ],
   "source": [
    "vertical_forces(run.veh)"
   ]
  },
  {
   "cell_type": "markdown",
   "metadata": {},
   "source": [
    "### Get position data for validation vehicle"
   ]
  },
  {
   "cell_type": "code",
   "execution_count": 49,
   "metadata": {},
   "outputs": [],
   "source": [
    "from pycrash.visualization.cg_motion_compare import cg_motion"
   ]
  },
  {
   "cell_type": "code",
   "execution_count": 50,
   "metadata": {},
   "outputs": [
    {
     "data": {
      "application/vnd.plotly.v1+json": {
       "config": {
        "plotlyServerURL": "https://plot.ly"
       },
       "data": [
        {
         "marker": {
          "color": "rgb(0, 0, 0)",
          "size": 2
         },
         "mode": "markers",
         "name": "pycrash",
         "type": "scatter",
         "x": [
          0,
          2.200005,
          4.40001,
          6.600014999999999,
          8.80002,
          11.000024999999999,
          13.200029999999998,
          15.400034999999997,
          17.60004,
          19.800044999999997,
          22.000049999999995,
          24.19976088771474,
          26.397697361485722,
          28.59069643046054,
          30.77447410151888,
          32.943636859835046,
          35.09019191460549,
          37.20185745625524,
          39.26155460112413,
          41.248105316055835,
          43.13810626615557,
          44.91283314172402,
          46.56399655107818,
          48.08669041304166,
          49.47084927978541,
          50.70363732799634,
          51.77599517857771,
          52.6852432052282,
          53.43299772976044,
          54.021939680682266,
          54.454250682330105,
          54.73190031548241,
          54.857511100127795,
          54.83479619684718,
          54.66844422311907,
          54.363809739446125,
          53.926706920065584,
          53.36335297089821,
          52.68036801580789,
          51.884752462433866,
          50.983829808221344,
          49.98517906286788,
          48.8965762874779,
          47.72594742860842,
          46.48132613382241,
          45.17081205174445,
          43.80252946850412,
          42.38458788867133,
          40.925045478333374,
          39.43187524722982,
          37.91293355166128,
          36.37593072844964,
          34.828403886585015,
          33.27769189982598,
          31.730912570981772,
          30.194941899272166,
          28.676395389284824,
          27.181611353061356,
          25.716636154587167,
          24.287211336705777,
          22.89876256603882,
          21.556390332308425,
          20.264862338986134,
          19.02860752000856,
          17.851711614337905,
          16.737914228631894,
          15.690607318237708,
          14.71283501689352,
          13.80729474521923,
          12.976339527611628,
          12.221981447067384,
          11.54589616786413,
          10.949428456703695,
          10.43359863364868,
          9.999109884959843,
          9.646356370866119,
          9.375432062420897,
          9.186140242882821,
          9.078003610449676,
          9.050274920646672,
          9.10194810823248,
          9.231769830144048,
          9.438251372746254,
          9.719680868466643,
          10.074135768765416,
          10.499495522309598,
          10.993454409182947,
          11.553534483963656,
          12.177098582530839,
          12.861363349510153,
          13.603412245332091,
          14.40020849394679,
          15.24860793431239,
          16.145371740842652,
          17.087178980058898,
          18.070638972736443,
          19.092303432860415,
          20.148678356708178,
          21.236235637349104,
          22.351424381794583,
          23.490681909938402,
          24.650444416295457,
          25.827157277374333,
          27.017284989301885,
          28.217320722054225,
          29.423795478336572,
          30.63328684679074,
          31.842427340794384,
          33.04791231564669,
          34.24650745841099
         ],
         "y": [
          0,
          0,
          0,
          0,
          0,
          0,
          0,
          0,
          0,
          0,
          0,
          -0.007980443550338504,
          -0.04618802012512788,
          -0.13728562664367627,
          -0.29278887089898625,
          -0.5195813137617704,
          -0.828824187506404,
          -1.2375711410824954,
          -1.7644990820976063,
          -2.425023820967051,
          -3.227855032609195,
          -4.171394473338027,
          -5.244108507447677,
          -6.432392430467373,
          -7.725895371700051,
          -9.114836353788396,
          -10.586534934212706,
          -12.125620928823974,
          -13.716187188117642,
          -15.34329675042465,
          -16.993197898472303,
          -18.652974774226358,
          -20.31032264980806,
          -21.953562184633746,
          -23.57171254838876,
          -25.15450693923185,
          -26.69236951946167,
          -28.176405492828323,
          -29.598414166855896,
          -30.95090286615416,
          -32.22708545503437,
          -33.420868628802175,
          -34.5268367229291,
          -35.540240065119406,
          -36.4569845487325,
          -37.273618551998815,
          -37.98731607070018,
          -38.595857397507125,
          -39.09760885586454,
          -39.491502005458614,
          -39.77701198129881,
          -39.95413468513304,
          -40.02336293609024,
          -39.985661890753946,
          -39.84244397880398,
          -39.59554346313123,
          -39.24719067723943,
          -38.79998601838655,
          -38.256873810850195,
          -37.621116157906506,
          -36.89626688221183,
          -36.08614563663154,
          -35.194812261213144,
          -34.22654146153637,
          -33.1857978814567,
          -32.07721163747868,
          -30.905554375115912,
          -29.67571590181317,
          -28.392681446422813,
          -27.061509590918543,
          -25.687310915459342,
          -24.27522739321554,
          -22.830412566853543,
          -21.35801253435134,
          -19.863147767805863,
          -18.350895785011176,
          -16.82627468982654,
          -15.294227593754561,
          -13.759607927728332,
          -12.227165649859261,
          -10.701534351812201,
          -9.187219263547858,
          -7.6885861534095135,
          -6.209851117929928,
          -4.755071253294204,
          -3.328136198109595,
          -1.9327605350038488,
          -0.5724770365944403,
          0.7493692604577502,
          2.0296261712806185,
          3.2653386880219695,
          4.453752535396178,
          5.592316978733665,
          6.678686907859367,
          7.710724221139479,
          8.686498534927225,
          9.604287244411108,
          10.462574962529663,
          11.260052364167148,
          11.995614463290845,
          12.66835835103701,
          13.277580423002416,
          13.822773124158212,
          14.303621239875039,
          14.719997761538528,
          15.071959355146914,
          15.359741461120942,
          15.583753053326184,
          15.744571085012415,
          15.842934649018597
         ]
        },
        {
         "marker": {
          "color": "rgb(0, 0, 256)",
          "size": 2
         },
         "mode": "markers",
         "name": "validate",
         "type": "scatter",
         "x": [
          0,
          2.200005,
          4.40001,
          6.600014999999999,
          8.80002,
          11.000024999999999,
          13.200029999999998,
          15.400034999999997,
          17.60004,
          19.800044999999997,
          22.000049999999995,
          24.200054999999995,
          26.398593329999994,
          28.591264979999995,
          30.77220326999999,
          32.932608179999995,
          35.060013014999996,
          37.13828440499999,
          39.14688896999999,
          41.06235998999999,
          42.859030739999994,
          44.514167834999995,
          46.014571245,
          47.352907619999996,
          48.522576945,
          49.518445875,
          50.336847735,
          50.97558252,
          51.433916895,
          51.713317530000005,
          51.81671776500001,
          51.74778427500001,
          51.511650405000005,
          51.11491617000001,
          50.565648255000006,
          49.87264668,
          49.044711465,
          48.09064263,
          47.0214402,
          45.8481042,
          44.58090132,
          43.23229825500001,
          41.814028365000006,
          40.33709167500001,
          38.813221545000005,
          37.25415133500001,
          35.671614405000014,
          34.07661078,
          32.47940715000001,
          30.89100354,
          29.322399975000007,
          27.783129810000013,
          26.282726400000005,
          24.82998976500001,
          23.432986590000002,
          22.099783560000006,
          20.83771402500001,
          19.653378000000004,
          18.55190883000001,
          17.538439860000004,
          16.618837770000006,
          15.796769235000008,
          15.075167595000005,
          14.456966190000008,
          13.944365025000005,
          13.538830770000006,
          13.240363425000007,
          13.049696325000006,
          12.966829470000008,
          12.990296190000008,
          13.118629815000007,
          13.350363675000006,
          13.682564430000008,
          14.112298740000007,
          14.63663326500001,
          15.251167995000007,
          15.951502920000005,
          16.73323803000001,
          17.591239980000008,
          18.52037542500001,
          19.51624435500001,
          20.572980090000005,
          21.683982615,
          22.84338525000002,
          24.045321315000013,
          25.28392413000001,
          26.552593680000005,
          27.84472995,
          29.15446626000002,
          30.475935930000016,
          31.802538945000013,
          33.127675290000006,
          34.445478285,
          35.750814585000015,
          37.03781751000001,
          38.300620380000005,
          39.53408985,
          40.732359239999994,
          41.89029520500001,
          43.00423107,
          44.069766825,
          45.08250246,
          46.0387713,
          46.93417333500001,
          47.765775225000006,
          48.531376965,
          49.228045214999995,
          49.85284663499999,
          50.404314555,
          50.880982304999996
         ],
         "y": [
          0,
          0,
          0,
          0,
          0,
          0,
          0,
          0,
          0,
          0,
          0,
          -0.008800020000000007,
          -0.047666774999999946,
          -0.14080032000000003,
          -0.3109340399999998,
          -0.58080132,
          -0.9716688750000002,
          -1.5011367449999995,
          -2.18240496,
          -3.0242735399999985,
          -4.03040916,
          -5.195678475,
          -6.5061481200000015,
          -7.944218054999997,
          -9.492288239999999,
          -11.1320253,
          -12.844362525000001,
          -14.610966540000003,
          -16.413503969999997,
          -18.23364144,
          -20.054512245,
          -21.860716350000004,
          -23.636853720000005,
          -25.368257654999997,
          -27.04246146,
          -28.64699844,
          -30.170135235000004,
          -31.602338490000005,
          -32.93407485,
          -34.15727763,
          -35.26608015000001,
          -36.253882395000005,
          -37.11628435500001,
          -37.85035269000001,
          -38.45242072500001,
          -38.92102179000001,
          -39.25542255000001,
          -39.455623005000014,
          -39.52382316000001,
          -39.46148968500001,
          -39.27082258500001,
          -38.956221870000014,
          -38.52135421500001,
          -37.97061963000001,
          -37.309884795,
          -36.54501639000001,
          -35.68188109500001,
          -34.72781226,
          -33.690143235,
          -32.57547403499999,
          -31.391871344999995,
          -30.147401849999998,
          -28.85013223499999,
          -27.508129184999994,
          -26.129459384999986,
          -24.722922854999993,
          -23.29658628,
          -21.85778300999999,
          -20.414579729999996,
          -18.975776459999988,
          -17.54870654999999,
          -16.140703349999995,
          -14.759100209999989,
          -13.410497144999994,
          -12.101494169999986,
          -10.83869129999999,
          -9.627955214999995,
          -8.474419259999989,
          -7.383950114999992,
          -6.360947789999987,
          -5.40907895999999,
          -4.532743634999993,
          -3.735608489999996,
          -3.020606864999986,
          -2.3899387649999886,
          -1.8458041949999906,
          -1.3904031599999922,
          -1.0244689949999937,
          -0.7487350349999897,
          -0.5639346149999904,
          -0.46933439999999077,
          -0.46493438999999076,
          -0.5500012499999904,
          -0.7230683099999928,
          -0.982668899999992,
          -1.3266030149999908,
          -1.7526706499999891,
          -2.257938464999987,
          -2.8394731199999956,
          -3.4943412749999934,
          -4.218876254999991,
          -5.0094113849999875,
          -5.862279989999984,
          -6.7730820599999975,
          -7.737417584999994,
          -8.75015321999999,
          -9.806888954999987,
          -10.903224779999983,
          -12.034027349999999,
          -13.194896654999994
         ]
        }
       ],
       "layout": {
        "autosize": false,
        "font": {
         "color": "black",
         "family": "Arial",
         "size": 16
        },
        "height": 900,
        "showlegend": false,
        "template": {
         "data": {
          "bar": [
           {
            "error_x": {
             "color": "#2a3f5f"
            },
            "error_y": {
             "color": "#2a3f5f"
            },
            "marker": {
             "line": {
              "color": "white",
              "width": 0.5
             }
            },
            "type": "bar"
           }
          ],
          "barpolar": [
           {
            "marker": {
             "line": {
              "color": "white",
              "width": 0.5
             }
            },
            "type": "barpolar"
           }
          ],
          "carpet": [
           {
            "aaxis": {
             "endlinecolor": "#2a3f5f",
             "gridcolor": "#C8D4E3",
             "linecolor": "#C8D4E3",
             "minorgridcolor": "#C8D4E3",
             "startlinecolor": "#2a3f5f"
            },
            "baxis": {
             "endlinecolor": "#2a3f5f",
             "gridcolor": "#C8D4E3",
             "linecolor": "#C8D4E3",
             "minorgridcolor": "#C8D4E3",
             "startlinecolor": "#2a3f5f"
            },
            "type": "carpet"
           }
          ],
          "choropleth": [
           {
            "colorbar": {
             "outlinewidth": 0,
             "ticks": ""
            },
            "type": "choropleth"
           }
          ],
          "contour": [
           {
            "colorbar": {
             "outlinewidth": 0,
             "ticks": ""
            },
            "colorscale": [
             [
              0,
              "#0d0887"
             ],
             [
              0.1111111111111111,
              "#46039f"
             ],
             [
              0.2222222222222222,
              "#7201a8"
             ],
             [
              0.3333333333333333,
              "#9c179e"
             ],
             [
              0.4444444444444444,
              "#bd3786"
             ],
             [
              0.5555555555555556,
              "#d8576b"
             ],
             [
              0.6666666666666666,
              "#ed7953"
             ],
             [
              0.7777777777777778,
              "#fb9f3a"
             ],
             [
              0.8888888888888888,
              "#fdca26"
             ],
             [
              1,
              "#f0f921"
             ]
            ],
            "type": "contour"
           }
          ],
          "contourcarpet": [
           {
            "colorbar": {
             "outlinewidth": 0,
             "ticks": ""
            },
            "type": "contourcarpet"
           }
          ],
          "heatmap": [
           {
            "colorbar": {
             "outlinewidth": 0,
             "ticks": ""
            },
            "colorscale": [
             [
              0,
              "#0d0887"
             ],
             [
              0.1111111111111111,
              "#46039f"
             ],
             [
              0.2222222222222222,
              "#7201a8"
             ],
             [
              0.3333333333333333,
              "#9c179e"
             ],
             [
              0.4444444444444444,
              "#bd3786"
             ],
             [
              0.5555555555555556,
              "#d8576b"
             ],
             [
              0.6666666666666666,
              "#ed7953"
             ],
             [
              0.7777777777777778,
              "#fb9f3a"
             ],
             [
              0.8888888888888888,
              "#fdca26"
             ],
             [
              1,
              "#f0f921"
             ]
            ],
            "type": "heatmap"
           }
          ],
          "heatmapgl": [
           {
            "colorbar": {
             "outlinewidth": 0,
             "ticks": ""
            },
            "colorscale": [
             [
              0,
              "#0d0887"
             ],
             [
              0.1111111111111111,
              "#46039f"
             ],
             [
              0.2222222222222222,
              "#7201a8"
             ],
             [
              0.3333333333333333,
              "#9c179e"
             ],
             [
              0.4444444444444444,
              "#bd3786"
             ],
             [
              0.5555555555555556,
              "#d8576b"
             ],
             [
              0.6666666666666666,
              "#ed7953"
             ],
             [
              0.7777777777777778,
              "#fb9f3a"
             ],
             [
              0.8888888888888888,
              "#fdca26"
             ],
             [
              1,
              "#f0f921"
             ]
            ],
            "type": "heatmapgl"
           }
          ],
          "histogram": [
           {
            "marker": {
             "colorbar": {
              "outlinewidth": 0,
              "ticks": ""
             }
            },
            "type": "histogram"
           }
          ],
          "histogram2d": [
           {
            "colorbar": {
             "outlinewidth": 0,
             "ticks": ""
            },
            "colorscale": [
             [
              0,
              "#0d0887"
             ],
             [
              0.1111111111111111,
              "#46039f"
             ],
             [
              0.2222222222222222,
              "#7201a8"
             ],
             [
              0.3333333333333333,
              "#9c179e"
             ],
             [
              0.4444444444444444,
              "#bd3786"
             ],
             [
              0.5555555555555556,
              "#d8576b"
             ],
             [
              0.6666666666666666,
              "#ed7953"
             ],
             [
              0.7777777777777778,
              "#fb9f3a"
             ],
             [
              0.8888888888888888,
              "#fdca26"
             ],
             [
              1,
              "#f0f921"
             ]
            ],
            "type": "histogram2d"
           }
          ],
          "histogram2dcontour": [
           {
            "colorbar": {
             "outlinewidth": 0,
             "ticks": ""
            },
            "colorscale": [
             [
              0,
              "#0d0887"
             ],
             [
              0.1111111111111111,
              "#46039f"
             ],
             [
              0.2222222222222222,
              "#7201a8"
             ],
             [
              0.3333333333333333,
              "#9c179e"
             ],
             [
              0.4444444444444444,
              "#bd3786"
             ],
             [
              0.5555555555555556,
              "#d8576b"
             ],
             [
              0.6666666666666666,
              "#ed7953"
             ],
             [
              0.7777777777777778,
              "#fb9f3a"
             ],
             [
              0.8888888888888888,
              "#fdca26"
             ],
             [
              1,
              "#f0f921"
             ]
            ],
            "type": "histogram2dcontour"
           }
          ],
          "mesh3d": [
           {
            "colorbar": {
             "outlinewidth": 0,
             "ticks": ""
            },
            "type": "mesh3d"
           }
          ],
          "parcoords": [
           {
            "line": {
             "colorbar": {
              "outlinewidth": 0,
              "ticks": ""
             }
            },
            "type": "parcoords"
           }
          ],
          "pie": [
           {
            "automargin": true,
            "type": "pie"
           }
          ],
          "scatter": [
           {
            "marker": {
             "colorbar": {
              "outlinewidth": 0,
              "ticks": ""
             }
            },
            "type": "scatter"
           }
          ],
          "scatter3d": [
           {
            "line": {
             "colorbar": {
              "outlinewidth": 0,
              "ticks": ""
             }
            },
            "marker": {
             "colorbar": {
              "outlinewidth": 0,
              "ticks": ""
             }
            },
            "type": "scatter3d"
           }
          ],
          "scattercarpet": [
           {
            "marker": {
             "colorbar": {
              "outlinewidth": 0,
              "ticks": ""
             }
            },
            "type": "scattercarpet"
           }
          ],
          "scattergeo": [
           {
            "marker": {
             "colorbar": {
              "outlinewidth": 0,
              "ticks": ""
             }
            },
            "type": "scattergeo"
           }
          ],
          "scattergl": [
           {
            "marker": {
             "colorbar": {
              "outlinewidth": 0,
              "ticks": ""
             }
            },
            "type": "scattergl"
           }
          ],
          "scattermapbox": [
           {
            "marker": {
             "colorbar": {
              "outlinewidth": 0,
              "ticks": ""
             }
            },
            "type": "scattermapbox"
           }
          ],
          "scatterpolar": [
           {
            "marker": {
             "colorbar": {
              "outlinewidth": 0,
              "ticks": ""
             }
            },
            "type": "scatterpolar"
           }
          ],
          "scatterpolargl": [
           {
            "marker": {
             "colorbar": {
              "outlinewidth": 0,
              "ticks": ""
             }
            },
            "type": "scatterpolargl"
           }
          ],
          "scatterternary": [
           {
            "marker": {
             "colorbar": {
              "outlinewidth": 0,
              "ticks": ""
             }
            },
            "type": "scatterternary"
           }
          ],
          "surface": [
           {
            "colorbar": {
             "outlinewidth": 0,
             "ticks": ""
            },
            "colorscale": [
             [
              0,
              "#0d0887"
             ],
             [
              0.1111111111111111,
              "#46039f"
             ],
             [
              0.2222222222222222,
              "#7201a8"
             ],
             [
              0.3333333333333333,
              "#9c179e"
             ],
             [
              0.4444444444444444,
              "#bd3786"
             ],
             [
              0.5555555555555556,
              "#d8576b"
             ],
             [
              0.6666666666666666,
              "#ed7953"
             ],
             [
              0.7777777777777778,
              "#fb9f3a"
             ],
             [
              0.8888888888888888,
              "#fdca26"
             ],
             [
              1,
              "#f0f921"
             ]
            ],
            "type": "surface"
           }
          ],
          "table": [
           {
            "cells": {
             "fill": {
              "color": "#EBF0F8"
             },
             "line": {
              "color": "white"
             }
            },
            "header": {
             "fill": {
              "color": "#C8D4E3"
             },
             "line": {
              "color": "white"
             }
            },
            "type": "table"
           }
          ]
         },
         "layout": {
          "annotationdefaults": {
           "arrowcolor": "#2a3f5f",
           "arrowhead": 0,
           "arrowwidth": 1
          },
          "coloraxis": {
           "colorbar": {
            "outlinewidth": 0,
            "ticks": ""
           }
          },
          "colorscale": {
           "diverging": [
            [
             0,
             "#8e0152"
            ],
            [
             0.1,
             "#c51b7d"
            ],
            [
             0.2,
             "#de77ae"
            ],
            [
             0.3,
             "#f1b6da"
            ],
            [
             0.4,
             "#fde0ef"
            ],
            [
             0.5,
             "#f7f7f7"
            ],
            [
             0.6,
             "#e6f5d0"
            ],
            [
             0.7,
             "#b8e186"
            ],
            [
             0.8,
             "#7fbc41"
            ],
            [
             0.9,
             "#4d9221"
            ],
            [
             1,
             "#276419"
            ]
           ],
           "sequential": [
            [
             0,
             "#0d0887"
            ],
            [
             0.1111111111111111,
             "#46039f"
            ],
            [
             0.2222222222222222,
             "#7201a8"
            ],
            [
             0.3333333333333333,
             "#9c179e"
            ],
            [
             0.4444444444444444,
             "#bd3786"
            ],
            [
             0.5555555555555556,
             "#d8576b"
            ],
            [
             0.6666666666666666,
             "#ed7953"
            ],
            [
             0.7777777777777778,
             "#fb9f3a"
            ],
            [
             0.8888888888888888,
             "#fdca26"
            ],
            [
             1,
             "#f0f921"
            ]
           ],
           "sequentialminus": [
            [
             0,
             "#0d0887"
            ],
            [
             0.1111111111111111,
             "#46039f"
            ],
            [
             0.2222222222222222,
             "#7201a8"
            ],
            [
             0.3333333333333333,
             "#9c179e"
            ],
            [
             0.4444444444444444,
             "#bd3786"
            ],
            [
             0.5555555555555556,
             "#d8576b"
            ],
            [
             0.6666666666666666,
             "#ed7953"
            ],
            [
             0.7777777777777778,
             "#fb9f3a"
            ],
            [
             0.8888888888888888,
             "#fdca26"
            ],
            [
             1,
             "#f0f921"
            ]
           ]
          },
          "colorway": [
           "#636efa",
           "#EF553B",
           "#00cc96",
           "#ab63fa",
           "#FFA15A",
           "#19d3f3",
           "#FF6692",
           "#B6E880",
           "#FF97FF",
           "#FECB52"
          ],
          "font": {
           "color": "#2a3f5f"
          },
          "geo": {
           "bgcolor": "white",
           "lakecolor": "white",
           "landcolor": "white",
           "showlakes": true,
           "showland": true,
           "subunitcolor": "#C8D4E3"
          },
          "hoverlabel": {
           "align": "left"
          },
          "hovermode": "closest",
          "mapbox": {
           "style": "light"
          },
          "paper_bgcolor": "white",
          "plot_bgcolor": "white",
          "polar": {
           "angularaxis": {
            "gridcolor": "#EBF0F8",
            "linecolor": "#EBF0F8",
            "ticks": ""
           },
           "bgcolor": "white",
           "radialaxis": {
            "gridcolor": "#EBF0F8",
            "linecolor": "#EBF0F8",
            "ticks": ""
           }
          },
          "scene": {
           "xaxis": {
            "backgroundcolor": "white",
            "gridcolor": "#DFE8F3",
            "gridwidth": 2,
            "linecolor": "#EBF0F8",
            "showbackground": true,
            "ticks": "",
            "zerolinecolor": "#EBF0F8"
           },
           "yaxis": {
            "backgroundcolor": "white",
            "gridcolor": "#DFE8F3",
            "gridwidth": 2,
            "linecolor": "#EBF0F8",
            "showbackground": true,
            "ticks": "",
            "zerolinecolor": "#EBF0F8"
           },
           "zaxis": {
            "backgroundcolor": "white",
            "gridcolor": "#DFE8F3",
            "gridwidth": 2,
            "linecolor": "#EBF0F8",
            "showbackground": true,
            "ticks": "",
            "zerolinecolor": "#EBF0F8"
           }
          },
          "shapedefaults": {
           "line": {
            "color": "#2a3f5f"
           }
          },
          "ternary": {
           "aaxis": {
            "gridcolor": "#DFE8F3",
            "linecolor": "#A2B1C6",
            "ticks": ""
           },
           "baxis": {
            "gridcolor": "#DFE8F3",
            "linecolor": "#A2B1C6",
            "ticks": ""
           },
           "bgcolor": "white",
           "caxis": {
            "gridcolor": "#DFE8F3",
            "linecolor": "#A2B1C6",
            "ticks": ""
           }
          },
          "title": {
           "x": 0.05
          },
          "xaxis": {
           "automargin": true,
           "gridcolor": "#EBF0F8",
           "linecolor": "#EBF0F8",
           "ticks": "",
           "title": {
            "standoff": 15
           },
           "zerolinecolor": "#EBF0F8",
           "zerolinewidth": 2
          },
          "yaxis": {
           "automargin": true,
           "gridcolor": "#EBF0F8",
           "linecolor": "#EBF0F8",
           "ticks": "",
           "title": {
            "standoff": 15
           },
           "zerolinecolor": "#EBF0F8",
           "zerolinewidth": 2
          }
         }
        },
        "title": {
         "text": "Vehicle Motion in Global Reference Frame"
        },
        "width": 900,
        "xaxis": {
         "linecolor": "black",
         "linewidth": 1,
         "showgrid": false,
         "showline": true,
         "tickcolor": "black",
         "ticklen": 10,
         "ticks": "outside",
         "tickwidth": 1,
         "title": {
          "text": "x-axis - Forward (ft)"
         },
         "zeroline": false
        },
        "yaxis": {
         "autorange": "reversed",
         "linecolor": "black",
         "linewidth": 1,
         "showgrid": false,
         "showline": true,
         "tickcolor": "black",
         "ticklen": 10,
         "ticks": "outside",
         "tickwidth": 1,
         "title": {
          "text": "y-axis - Rightward (ft)"
         },
         "zeroline": false
        }
       }
      },
      "text/html": [
       "<div>\n",
       "        \n",
       "        \n",
       "            <div id=\"e682cdb9-a8e0-41b8-a88e-e9fbee6a918f\" class=\"plotly-graph-div\" style=\"height:900px; width:900px;\"></div>\n",
       "            <script type=\"text/javascript\">\n",
       "                require([\"plotly\"], function(Plotly) {\n",
       "                    window.PLOTLYENV=window.PLOTLYENV || {};\n",
       "                    \n",
       "                if (document.getElementById(\"e682cdb9-a8e0-41b8-a88e-e9fbee6a918f\")) {\n",
       "                    Plotly.newPlot(\n",
       "                        'e682cdb9-a8e0-41b8-a88e-e9fbee6a918f',\n",
       "                        [{\"marker\": {\"color\": \"rgb(0, 0, 0)\", \"size\": 2}, \"mode\": \"markers\", \"name\": \"pycrash\", \"type\": \"scatter\", \"x\": [0.0, 2.200005, 4.40001, 6.600014999999999, 8.80002, 11.000024999999999, 13.200029999999998, 15.400034999999997, 17.60004, 19.800044999999997, 22.000049999999995, 24.19976088771474, 26.397697361485722, 28.59069643046054, 30.77447410151888, 32.943636859835046, 35.09019191460549, 37.20185745625524, 39.26155460112413, 41.248105316055835, 43.13810626615557, 44.91283314172402, 46.56399655107818, 48.08669041304166, 49.47084927978541, 50.70363732799634, 51.77599517857771, 52.6852432052282, 53.43299772976044, 54.021939680682266, 54.454250682330105, 54.73190031548241, 54.857511100127795, 54.83479619684718, 54.66844422311907, 54.363809739446125, 53.926706920065584, 53.36335297089821, 52.68036801580789, 51.884752462433866, 50.983829808221344, 49.98517906286788, 48.8965762874779, 47.72594742860842, 46.48132613382241, 45.17081205174445, 43.80252946850412, 42.38458788867133, 40.925045478333374, 39.43187524722982, 37.91293355166128, 36.37593072844964, 34.828403886585015, 33.27769189982598, 31.730912570981772, 30.194941899272166, 28.676395389284824, 27.181611353061356, 25.716636154587167, 24.287211336705777, 22.89876256603882, 21.556390332308425, 20.264862338986134, 19.02860752000856, 17.851711614337905, 16.737914228631894, 15.690607318237708, 14.71283501689352, 13.80729474521923, 12.976339527611628, 12.221981447067384, 11.54589616786413, 10.949428456703695, 10.43359863364868, 9.999109884959843, 9.646356370866119, 9.375432062420897, 9.186140242882821, 9.078003610449676, 9.050274920646672, 9.10194810823248, 9.231769830144048, 9.438251372746254, 9.719680868466643, 10.074135768765416, 10.499495522309598, 10.993454409182947, 11.553534483963656, 12.177098582530839, 12.861363349510153, 13.603412245332091, 14.40020849394679, 15.24860793431239, 16.145371740842652, 17.087178980058898, 18.070638972736443, 19.092303432860415, 20.148678356708178, 21.236235637349104, 22.351424381794583, 23.490681909938402, 24.650444416295457, 25.827157277374333, 27.017284989301885, 28.217320722054225, 29.423795478336572, 30.63328684679074, 31.842427340794384, 33.04791231564669, 34.24650745841099], \"y\": [0.0, 0.0, 0.0, 0.0, 0.0, 0.0, 0.0, 0.0, 0.0, 0.0, 0.0, -0.007980443550338504, -0.04618802012512788, -0.13728562664367627, -0.29278887089898625, -0.5195813137617704, -0.828824187506404, -1.2375711410824954, -1.7644990820976063, -2.425023820967051, -3.227855032609195, -4.171394473338027, -5.244108507447677, -6.432392430467373, -7.725895371700051, -9.114836353788396, -10.586534934212706, -12.125620928823974, -13.716187188117642, -15.34329675042465, -16.993197898472303, -18.652974774226358, -20.31032264980806, -21.953562184633746, -23.57171254838876, -25.15450693923185, -26.69236951946167, -28.176405492828323, -29.598414166855896, -30.95090286615416, -32.22708545503437, -33.420868628802175, -34.5268367229291, -35.540240065119406, -36.4569845487325, -37.273618551998815, -37.98731607070018, -38.595857397507125, -39.09760885586454, -39.491502005458614, -39.77701198129881, -39.95413468513304, -40.02336293609024, -39.985661890753946, -39.84244397880398, -39.59554346313123, -39.24719067723943, -38.79998601838655, -38.256873810850195, -37.621116157906506, -36.89626688221183, -36.08614563663154, -35.194812261213144, -34.22654146153637, -33.1857978814567, -32.07721163747868, -30.905554375115912, -29.67571590181317, -28.392681446422813, -27.061509590918543, -25.687310915459342, -24.27522739321554, -22.830412566853543, -21.35801253435134, -19.863147767805863, -18.350895785011176, -16.82627468982654, -15.294227593754561, -13.759607927728332, -12.227165649859261, -10.701534351812201, -9.187219263547858, -7.6885861534095135, -6.209851117929928, -4.755071253294204, -3.328136198109595, -1.9327605350038488, -0.5724770365944403, 0.7493692604577502, 2.0296261712806185, 3.2653386880219695, 4.453752535396178, 5.592316978733665, 6.678686907859367, 7.710724221139479, 8.686498534927225, 9.604287244411108, 10.462574962529663, 11.260052364167148, 11.995614463290845, 12.66835835103701, 13.277580423002416, 13.822773124158212, 14.303621239875039, 14.719997761538528, 15.071959355146914, 15.359741461120942, 15.583753053326184, 15.744571085012415, 15.842934649018597]}, {\"marker\": {\"color\": \"rgb(0, 0, 256)\", \"size\": 2}, \"mode\": \"markers\", \"name\": \"validate\", \"type\": \"scatter\", \"x\": [0.0, 2.200005, 4.40001, 6.600014999999999, 8.80002, 11.000024999999999, 13.200029999999998, 15.400034999999997, 17.60004, 19.800044999999997, 22.000049999999995, 24.200054999999995, 26.398593329999994, 28.591264979999995, 30.77220326999999, 32.932608179999995, 35.060013014999996, 37.13828440499999, 39.14688896999999, 41.06235998999999, 42.859030739999994, 44.514167834999995, 46.014571245, 47.352907619999996, 48.522576945, 49.518445875, 50.336847735, 50.97558252, 51.433916895, 51.713317530000005, 51.81671776500001, 51.74778427500001, 51.511650405000005, 51.11491617000001, 50.565648255000006, 49.87264668, 49.044711465, 48.09064263, 47.0214402, 45.8481042, 44.58090132, 43.23229825500001, 41.814028365000006, 40.33709167500001, 38.813221545000005, 37.25415133500001, 35.671614405000014, 34.07661078, 32.47940715000001, 30.89100354, 29.322399975000007, 27.783129810000013, 26.282726400000005, 24.82998976500001, 23.432986590000002, 22.099783560000006, 20.83771402500001, 19.653378000000004, 18.55190883000001, 17.538439860000004, 16.618837770000006, 15.796769235000008, 15.075167595000005, 14.456966190000008, 13.944365025000005, 13.538830770000006, 13.240363425000007, 13.049696325000006, 12.966829470000008, 12.990296190000008, 13.118629815000007, 13.350363675000006, 13.682564430000008, 14.112298740000007, 14.63663326500001, 15.251167995000007, 15.951502920000005, 16.73323803000001, 17.591239980000008, 18.52037542500001, 19.51624435500001, 20.572980090000005, 21.683982615, 22.84338525000002, 24.045321315000013, 25.28392413000001, 26.552593680000005, 27.84472995, 29.15446626000002, 30.475935930000016, 31.802538945000013, 33.127675290000006, 34.445478285, 35.750814585000015, 37.03781751000001, 38.300620380000005, 39.53408985, 40.732359239999994, 41.89029520500001, 43.00423107, 44.069766825, 45.08250246, 46.0387713, 46.93417333500001, 47.765775225000006, 48.531376965, 49.228045214999995, 49.85284663499999, 50.404314555, 50.880982304999996], \"y\": [0.0, 0.0, 0.0, 0.0, 0.0, 0.0, 0.0, 0.0, 0.0, 0.0, 0.0, -0.008800020000000007, -0.047666774999999946, -0.14080032000000003, -0.3109340399999998, -0.58080132, -0.9716688750000002, -1.5011367449999995, -2.18240496, -3.0242735399999985, -4.03040916, -5.195678475, -6.5061481200000015, -7.944218054999997, -9.492288239999999, -11.1320253, -12.844362525000001, -14.610966540000003, -16.413503969999997, -18.23364144, -20.054512245, -21.860716350000004, -23.636853720000005, -25.368257654999997, -27.04246146, -28.64699844, -30.170135235000004, -31.602338490000005, -32.93407485, -34.15727763, -35.26608015000001, -36.253882395000005, -37.11628435500001, -37.85035269000001, -38.45242072500001, -38.92102179000001, -39.25542255000001, -39.455623005000014, -39.52382316000001, -39.46148968500001, -39.27082258500001, -38.956221870000014, -38.52135421500001, -37.97061963000001, -37.309884795, -36.54501639000001, -35.68188109500001, -34.72781226, -33.690143235, -32.57547403499999, -31.391871344999995, -30.147401849999998, -28.85013223499999, -27.508129184999994, -26.129459384999986, -24.722922854999993, -23.29658628, -21.85778300999999, -20.414579729999996, -18.975776459999988, -17.54870654999999, -16.140703349999995, -14.759100209999989, -13.410497144999994, -12.101494169999986, -10.83869129999999, -9.627955214999995, -8.474419259999989, -7.383950114999992, -6.360947789999987, -5.40907895999999, -4.532743634999993, -3.735608489999996, -3.020606864999986, -2.3899387649999886, -1.8458041949999906, -1.3904031599999922, -1.0244689949999937, -0.7487350349999897, -0.5639346149999904, -0.46933439999999077, -0.46493438999999076, -0.5500012499999904, -0.7230683099999928, -0.982668899999992, -1.3266030149999908, -1.7526706499999891, -2.257938464999987, -2.8394731199999956, -3.4943412749999934, -4.218876254999991, -5.0094113849999875, -5.862279989999984, -6.7730820599999975, -7.737417584999994, -8.75015321999999, -9.806888954999987, -10.903224779999983, -12.034027349999999, -13.194896654999994]}],\n",
       "                        {\"autosize\": false, \"font\": {\"color\": \"black\", \"family\": \"Arial\", \"size\": 16}, \"height\": 900, \"showlegend\": false, \"template\": {\"data\": {\"bar\": [{\"error_x\": {\"color\": \"#2a3f5f\"}, \"error_y\": {\"color\": \"#2a3f5f\"}, \"marker\": {\"line\": {\"color\": \"white\", \"width\": 0.5}}, \"type\": \"bar\"}], \"barpolar\": [{\"marker\": {\"line\": {\"color\": \"white\", \"width\": 0.5}}, \"type\": \"barpolar\"}], \"carpet\": [{\"aaxis\": {\"endlinecolor\": \"#2a3f5f\", \"gridcolor\": \"#C8D4E3\", \"linecolor\": \"#C8D4E3\", \"minorgridcolor\": \"#C8D4E3\", \"startlinecolor\": \"#2a3f5f\"}, \"baxis\": {\"endlinecolor\": \"#2a3f5f\", \"gridcolor\": \"#C8D4E3\", \"linecolor\": \"#C8D4E3\", \"minorgridcolor\": \"#C8D4E3\", \"startlinecolor\": \"#2a3f5f\"}, \"type\": \"carpet\"}], \"choropleth\": [{\"colorbar\": {\"outlinewidth\": 0, \"ticks\": \"\"}, \"type\": \"choropleth\"}], \"contour\": [{\"colorbar\": {\"outlinewidth\": 0, \"ticks\": \"\"}, \"colorscale\": [[0.0, \"#0d0887\"], [0.1111111111111111, \"#46039f\"], [0.2222222222222222, \"#7201a8\"], [0.3333333333333333, \"#9c179e\"], [0.4444444444444444, \"#bd3786\"], [0.5555555555555556, \"#d8576b\"], [0.6666666666666666, \"#ed7953\"], [0.7777777777777778, \"#fb9f3a\"], [0.8888888888888888, \"#fdca26\"], [1.0, \"#f0f921\"]], \"type\": \"contour\"}], \"contourcarpet\": [{\"colorbar\": {\"outlinewidth\": 0, \"ticks\": \"\"}, \"type\": \"contourcarpet\"}], \"heatmap\": [{\"colorbar\": {\"outlinewidth\": 0, \"ticks\": \"\"}, \"colorscale\": [[0.0, \"#0d0887\"], [0.1111111111111111, \"#46039f\"], [0.2222222222222222, \"#7201a8\"], [0.3333333333333333, \"#9c179e\"], [0.4444444444444444, \"#bd3786\"], [0.5555555555555556, \"#d8576b\"], [0.6666666666666666, \"#ed7953\"], [0.7777777777777778, \"#fb9f3a\"], [0.8888888888888888, \"#fdca26\"], [1.0, \"#f0f921\"]], \"type\": \"heatmap\"}], \"heatmapgl\": [{\"colorbar\": {\"outlinewidth\": 0, \"ticks\": \"\"}, \"colorscale\": [[0.0, \"#0d0887\"], [0.1111111111111111, \"#46039f\"], [0.2222222222222222, \"#7201a8\"], [0.3333333333333333, \"#9c179e\"], [0.4444444444444444, \"#bd3786\"], [0.5555555555555556, \"#d8576b\"], [0.6666666666666666, \"#ed7953\"], [0.7777777777777778, \"#fb9f3a\"], [0.8888888888888888, \"#fdca26\"], [1.0, \"#f0f921\"]], \"type\": \"heatmapgl\"}], \"histogram\": [{\"marker\": {\"colorbar\": {\"outlinewidth\": 0, \"ticks\": \"\"}}, \"type\": \"histogram\"}], \"histogram2d\": [{\"colorbar\": {\"outlinewidth\": 0, \"ticks\": \"\"}, \"colorscale\": [[0.0, \"#0d0887\"], [0.1111111111111111, \"#46039f\"], [0.2222222222222222, \"#7201a8\"], [0.3333333333333333, \"#9c179e\"], [0.4444444444444444, \"#bd3786\"], [0.5555555555555556, \"#d8576b\"], [0.6666666666666666, \"#ed7953\"], [0.7777777777777778, \"#fb9f3a\"], [0.8888888888888888, \"#fdca26\"], [1.0, \"#f0f921\"]], \"type\": \"histogram2d\"}], \"histogram2dcontour\": [{\"colorbar\": {\"outlinewidth\": 0, \"ticks\": \"\"}, \"colorscale\": [[0.0, \"#0d0887\"], [0.1111111111111111, \"#46039f\"], [0.2222222222222222, \"#7201a8\"], [0.3333333333333333, \"#9c179e\"], [0.4444444444444444, \"#bd3786\"], [0.5555555555555556, \"#d8576b\"], [0.6666666666666666, \"#ed7953\"], [0.7777777777777778, \"#fb9f3a\"], [0.8888888888888888, \"#fdca26\"], [1.0, \"#f0f921\"]], \"type\": \"histogram2dcontour\"}], \"mesh3d\": [{\"colorbar\": {\"outlinewidth\": 0, \"ticks\": \"\"}, \"type\": \"mesh3d\"}], \"parcoords\": [{\"line\": {\"colorbar\": {\"outlinewidth\": 0, \"ticks\": \"\"}}, \"type\": \"parcoords\"}], \"pie\": [{\"automargin\": true, \"type\": \"pie\"}], \"scatter\": [{\"marker\": {\"colorbar\": {\"outlinewidth\": 0, \"ticks\": \"\"}}, \"type\": \"scatter\"}], \"scatter3d\": [{\"line\": {\"colorbar\": {\"outlinewidth\": 0, \"ticks\": \"\"}}, \"marker\": {\"colorbar\": {\"outlinewidth\": 0, \"ticks\": \"\"}}, \"type\": \"scatter3d\"}], \"scattercarpet\": [{\"marker\": {\"colorbar\": {\"outlinewidth\": 0, \"ticks\": \"\"}}, \"type\": \"scattercarpet\"}], \"scattergeo\": [{\"marker\": {\"colorbar\": {\"outlinewidth\": 0, \"ticks\": \"\"}}, \"type\": \"scattergeo\"}], \"scattergl\": [{\"marker\": {\"colorbar\": {\"outlinewidth\": 0, \"ticks\": \"\"}}, \"type\": \"scattergl\"}], \"scattermapbox\": [{\"marker\": {\"colorbar\": {\"outlinewidth\": 0, \"ticks\": \"\"}}, \"type\": \"scattermapbox\"}], \"scatterpolar\": [{\"marker\": {\"colorbar\": {\"outlinewidth\": 0, \"ticks\": \"\"}}, \"type\": \"scatterpolar\"}], \"scatterpolargl\": [{\"marker\": {\"colorbar\": {\"outlinewidth\": 0, \"ticks\": \"\"}}, \"type\": \"scatterpolargl\"}], \"scatterternary\": [{\"marker\": {\"colorbar\": {\"outlinewidth\": 0, \"ticks\": \"\"}}, \"type\": \"scatterternary\"}], \"surface\": [{\"colorbar\": {\"outlinewidth\": 0, \"ticks\": \"\"}, \"colorscale\": [[0.0, \"#0d0887\"], [0.1111111111111111, \"#46039f\"], [0.2222222222222222, \"#7201a8\"], [0.3333333333333333, \"#9c179e\"], [0.4444444444444444, \"#bd3786\"], [0.5555555555555556, \"#d8576b\"], [0.6666666666666666, \"#ed7953\"], [0.7777777777777778, \"#fb9f3a\"], [0.8888888888888888, \"#fdca26\"], [1.0, \"#f0f921\"]], \"type\": \"surface\"}], \"table\": [{\"cells\": {\"fill\": {\"color\": \"#EBF0F8\"}, \"line\": {\"color\": \"white\"}}, \"header\": {\"fill\": {\"color\": \"#C8D4E3\"}, \"line\": {\"color\": \"white\"}}, \"type\": \"table\"}]}, \"layout\": {\"annotationdefaults\": {\"arrowcolor\": \"#2a3f5f\", \"arrowhead\": 0, \"arrowwidth\": 1}, \"coloraxis\": {\"colorbar\": {\"outlinewidth\": 0, \"ticks\": \"\"}}, \"colorscale\": {\"diverging\": [[0, \"#8e0152\"], [0.1, \"#c51b7d\"], [0.2, \"#de77ae\"], [0.3, \"#f1b6da\"], [0.4, \"#fde0ef\"], [0.5, \"#f7f7f7\"], [0.6, \"#e6f5d0\"], [0.7, \"#b8e186\"], [0.8, \"#7fbc41\"], [0.9, \"#4d9221\"], [1, \"#276419\"]], \"sequential\": [[0.0, \"#0d0887\"], [0.1111111111111111, \"#46039f\"], [0.2222222222222222, \"#7201a8\"], [0.3333333333333333, \"#9c179e\"], [0.4444444444444444, \"#bd3786\"], [0.5555555555555556, \"#d8576b\"], [0.6666666666666666, \"#ed7953\"], [0.7777777777777778, \"#fb9f3a\"], [0.8888888888888888, \"#fdca26\"], [1.0, \"#f0f921\"]], \"sequentialminus\": [[0.0, \"#0d0887\"], [0.1111111111111111, \"#46039f\"], [0.2222222222222222, \"#7201a8\"], [0.3333333333333333, \"#9c179e\"], [0.4444444444444444, \"#bd3786\"], [0.5555555555555556, \"#d8576b\"], [0.6666666666666666, \"#ed7953\"], [0.7777777777777778, \"#fb9f3a\"], [0.8888888888888888, \"#fdca26\"], [1.0, \"#f0f921\"]]}, \"colorway\": [\"#636efa\", \"#EF553B\", \"#00cc96\", \"#ab63fa\", \"#FFA15A\", \"#19d3f3\", \"#FF6692\", \"#B6E880\", \"#FF97FF\", \"#FECB52\"], \"font\": {\"color\": \"#2a3f5f\"}, \"geo\": {\"bgcolor\": \"white\", \"lakecolor\": \"white\", \"landcolor\": \"white\", \"showlakes\": true, \"showland\": true, \"subunitcolor\": \"#C8D4E3\"}, \"hoverlabel\": {\"align\": \"left\"}, \"hovermode\": \"closest\", \"mapbox\": {\"style\": \"light\"}, \"paper_bgcolor\": \"white\", \"plot_bgcolor\": \"white\", \"polar\": {\"angularaxis\": {\"gridcolor\": \"#EBF0F8\", \"linecolor\": \"#EBF0F8\", \"ticks\": \"\"}, \"bgcolor\": \"white\", \"radialaxis\": {\"gridcolor\": \"#EBF0F8\", \"linecolor\": \"#EBF0F8\", \"ticks\": \"\"}}, \"scene\": {\"xaxis\": {\"backgroundcolor\": \"white\", \"gridcolor\": \"#DFE8F3\", \"gridwidth\": 2, \"linecolor\": \"#EBF0F8\", \"showbackground\": true, \"ticks\": \"\", \"zerolinecolor\": \"#EBF0F8\"}, \"yaxis\": {\"backgroundcolor\": \"white\", \"gridcolor\": \"#DFE8F3\", \"gridwidth\": 2, \"linecolor\": \"#EBF0F8\", \"showbackground\": true, \"ticks\": \"\", \"zerolinecolor\": \"#EBF0F8\"}, \"zaxis\": {\"backgroundcolor\": \"white\", \"gridcolor\": \"#DFE8F3\", \"gridwidth\": 2, \"linecolor\": \"#EBF0F8\", \"showbackground\": true, \"ticks\": \"\", \"zerolinecolor\": \"#EBF0F8\"}}, \"shapedefaults\": {\"line\": {\"color\": \"#2a3f5f\"}}, \"ternary\": {\"aaxis\": {\"gridcolor\": \"#DFE8F3\", \"linecolor\": \"#A2B1C6\", \"ticks\": \"\"}, \"baxis\": {\"gridcolor\": \"#DFE8F3\", \"linecolor\": \"#A2B1C6\", \"ticks\": \"\"}, \"bgcolor\": \"white\", \"caxis\": {\"gridcolor\": \"#DFE8F3\", \"linecolor\": \"#A2B1C6\", \"ticks\": \"\"}}, \"title\": {\"x\": 0.05}, \"xaxis\": {\"automargin\": true, \"gridcolor\": \"#EBF0F8\", \"linecolor\": \"#EBF0F8\", \"ticks\": \"\", \"title\": {\"standoff\": 15}, \"zerolinecolor\": \"#EBF0F8\", \"zerolinewidth\": 2}, \"yaxis\": {\"automargin\": true, \"gridcolor\": \"#EBF0F8\", \"linecolor\": \"#EBF0F8\", \"ticks\": \"\", \"title\": {\"standoff\": 15}, \"zerolinecolor\": \"#EBF0F8\", \"zerolinewidth\": 2}}}, \"title\": {\"text\": \"Vehicle Motion in Global Reference Frame\"}, \"width\": 900, \"xaxis\": {\"linecolor\": \"black\", \"linewidth\": 1, \"showgrid\": false, \"showline\": true, \"tickcolor\": \"black\", \"ticklen\": 10, \"ticks\": \"outside\", \"tickwidth\": 1, \"title\": {\"text\": \"x-axis - Forward (ft)\"}, \"zeroline\": false}, \"yaxis\": {\"autorange\": \"reversed\", \"linecolor\": \"black\", \"linewidth\": 1, \"showgrid\": false, \"showline\": true, \"tickcolor\": \"black\", \"ticklen\": 10, \"ticks\": \"outside\", \"tickwidth\": 1, \"title\": {\"text\": \"y-axis - Rightward (ft)\"}, \"zeroline\": false}},\n",
       "                        {\"responsive\": true}\n",
       "                    ).then(function(){\n",
       "                            \n",
       "var gd = document.getElementById('e682cdb9-a8e0-41b8-a88e-e9fbee6a918f');\n",
       "var x = new MutationObserver(function (mutations, observer) {{\n",
       "        var display = window.getComputedStyle(gd).display;\n",
       "        if (!display || display === 'none') {{\n",
       "            console.log([gd, 'removed!']);\n",
       "            Plotly.purge(gd);\n",
       "            observer.disconnect();\n",
       "        }}\n",
       "}});\n",
       "\n",
       "// Listen for the removal of the full notebook cells\n",
       "var notebookContainer = gd.closest('#notebook-container');\n",
       "if (notebookContainer) {{\n",
       "    x.observe(notebookContainer, {childList: true});\n",
       "}}\n",
       "\n",
       "// Listen for the clearing of the current output cell\n",
       "var outputEl = gd.closest('.output');\n",
       "if (outputEl) {{\n",
       "    x.observe(outputEl, {childList: true});\n",
       "}}\n",
       "\n",
       "                        })\n",
       "                };\n",
       "                });\n",
       "            </script>\n",
       "        </div>"
      ]
     },
     "metadata": {},
     "output_type": "display_data"
    }
   ],
   "source": [
    "cg_motion(run.veh.model, df, 'pycrash', 'validate')"
   ]
  },
  {
   "cell_type": "code",
   "execution_count": null,
   "metadata": {},
   "outputs": [],
   "source": []
  }
 ],
 "metadata": {
  "kernelspec": {
   "display_name": "Python 3",
   "language": "python",
   "name": "python3"
  },
  "language_info": {
   "codemirror_mode": {
    "name": "ipython",
    "version": 3
   },
   "file_extension": ".py",
   "mimetype": "text/x-python",
   "name": "python",
   "nbconvert_exporter": "python",
   "pygments_lexer": "ipython3",
   "version": "3.7.3"
  }
 },
 "nbformat": 4,
 "nbformat_minor": 4
}
