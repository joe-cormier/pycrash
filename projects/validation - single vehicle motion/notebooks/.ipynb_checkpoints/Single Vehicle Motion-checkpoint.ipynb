{
 "cells": [
  {
   "cell_type": "code",
   "execution_count": 1,
   "id": "700ab385-8c8c-49f2-9f4c-fa53076b86bc",
   "metadata": {},
   "source": [
    "%load_ext autoreload\n",
    "%autoreload 2"
   ],
   "outputs": []
  },
  {
   "cell_type": "code",
   "execution_count": 2,
   "id": "833cfaa1-fb31-4289-8205-b0cab4571159",
   "metadata": {},
   "source": [
    "import sys\n",
    "import os\n",
    "sys.path.insert(0, '/Users/joe/pycrash')"
   ],
   "outputs": []
  },
  {
   "cell_type": "code",
   "execution_count": 3,
   "id": "ee24a9fa-0abf-47d8-9009-c5bd8c89350b",
   "metadata": {},
   "source": [
    "os.chdir('..')"
   ],
   "outputs": []
  },
  {
   "cell_type": "code",
   "execution_count": 4,
   "id": "8addb5f0-a2da-4d2a-8759-40b18bcb6e0b",
   "metadata": {},
   "source": [
    "import pycrash\n",
    "from pycrash.project import Project, project_info, load_project\n",
    "from pycrash.vehicle import Vehicle\n",
    "from pycrash.kinematics import SingleMotion\n",
    "from pycrash.visualization.kinematics_compare import compare_kinematics\n",
    "from pycrash.visualization.tire_details import tire_details, vertical_forces, long_forces\n",
    "from pycrash.visualization.cg_motion_compare import cg_motion\n",
    "from pycrash.visualization.model_interval import plot_motion_interval\n",
    "\n",
    "import pandas as pd\n",
    "import numpy as np\n",
    "import math\n",
    "import matplotlib.pyplot as plt\n",
    "from scipy import integrate\n",
    "import os\n",
    "pd.options.display.max_columns = None\n",
    "pd.options.display.max_rows = None"
   ],
   "outputs": []
  },
  {
   "cell_type": "code",
   "execution_count": 8,
   "id": "a957743e-7ff0-4a6e-87e4-77500a63cc72",
   "metadata": {},
   "source": [
    "vehdict = {\n",
    "        \"year\": 2015,\n",
    "        \"make\": \"Honda\",\n",
    "        \"model\": \"CR-V\",\n",
    "        \"weight\": round(1531*2.2,2),\n",
    "        \"vin\": \"3CZRM3H5*FG******\",\n",
    "        \"brake\": 0,\n",
    "        \"steer_ratio\": 15.9,\n",
    "        \"init_x_pos\": 100,\n",
    "        \"init_y_pos\": -12,\n",
    "        \"head_angle\": 0,\n",
    "        \"width\": round(182/(2.54*12),2),\n",
    "        \"length\": round(456/(2.54*12),2),\n",
    "        \"hcg\": round(25.94/12,2),\n",
    "        \"lcgf\": round((0.4914*262)/(2.54*12),2),\n",
    "        \"lcgr\": round((0.5086*262)/(2.54*12),2),\n",
    "        \"wb\": round(262/(2.54*12),2),\n",
    "        \"track\": round(158/(2.54*12),2),\n",
    "        \"f_hang\": round(92/(2.54*12),2),\n",
    "        \"r_hang\": round(102/(2.54*12),2),\n",
    "        \"tire_d\": round(17/12,2),\n",
    "        \"tire_w\": round(225/(25.4*12),2),\n",
    "        \"izz\": 2199.17,\n",
    "        \"fwd\": 1,\n",
    "        \"rwd\": 0,\n",
    "        \"awd\": 0,\n",
    "        \"A\": 381,\n",
    "        \"B\": 137,\n",
    "        \"k\": 1000,\n",
    "        \"L\": 0,\n",
    "        \"c\": 0,\n",
    "        \"vx_initial\": 0,\n",
    "        \"vy_initial\": 0,\n",
    "        \"omega_z\": 0\n",
    "}"
   ],
   "outputs": []
  },
  {
   "cell_type": "code",
   "execution_count": 9,
   "id": "a674bd32-5bb1-4289-8848-aba327f27f64",
   "metadata": {},
   "source": [
    "veh1 = Vehicle('veh1', vehdict)"
   ],
   "outputs": []
  },
  {
   "cell_type": "code",
   "execution_count": 20,
   "id": "de9d7511-9387-4751-815d-12bc3e532dd2",
   "metadata": {},
   "source": [
    "t = np.linspace(0,5,11)\n",
    "brake = [0,0,0,0,0,0,0,0,0,0,0]\n",
    "throttle = [0,0,0,0,0,0.15,0.29,0.29,0.28,0.29,0]\n",
    "steer = [0, 0, 0, 0, 0, 150, 250, 250, 245, 190, 185]\n",
    "\n",
    "veh1.time_inputs(t,throttle,brake,steer,show_plot = True)"
   ],
   "outputs": []
  },
  {
   "cell_type": "code",
   "execution_count": 25,
   "id": "bb0984d1-579c-4979-910e-be46fc74354f",
   "metadata": {},
   "source": [
    "sim_defaults = {'dt_motion': 0.001,\n",
    "                'mu_max': 0.8,\n",
    "                'alpha_max': 0.174533}"
   ],
   "outputs": []
  },
  {
   "cell_type": "code",
   "execution_count": 26,
   "id": "4de86932-64ce-4e6b-8414-fa350eaaab4c",
   "metadata": {},
   "source": [
    "simulation_name = 'Single Motion Test'\n",
    "print(f'Creating Simulation: {simulation_name}')\n",
    "run = SingleMotion(simulation_name, veh1)"
   ],
   "outputs": []
  },
  {
   "cell_type": "code",
   "execution_count": 29,
   "id": "a4de9eed-f0ba-4a39-babc-08e3a6fd5350",
   "metadata": {},
   "source": [
    "plot_motion_interval(run.veh, num_itter = 5)"
   ],
   "outputs": []
  },
  {
   "cell_type": "code",
   "execution_count": 28,
   "id": "6299841b-2970-4c53-9238-1957c0642e66",
   "metadata": {},
   "source": [
    "run.plot_model()"
   ],
   "outputs": []
  },
  {
   "cell_type": "code",
   "execution_count": 30,
   "id": "db7db89b-496a-407d-bae7-5656ed91244b",
   "metadata": {},
   "source": [
    "run.veh.model.tail()"
   ],
   "outputs": []
  },
  {
   "cell_type": "code",
   "execution_count": null,
   "id": "9eb2aca6-9571-45d2-bbd4-5c315de573f1",
   "metadata": {},
   "source": [],
   "outputs": []
  }
 ],
 "metadata": {
  "kernelspec": {
   "display_name": "Python 3 (ipykernel)",
   "language": "python",
   "name": "python3"
  },
  "language_info": {
   "codemirror_mode": {
    "name": "ipython",
    "version": 3
   },
   "file_extension": ".py",
   "mimetype": "text/x-python",
   "name": "python",
   "nbconvert_exporter": "python",
   "pygments_lexer": "ipython3",
   "version": "3.11.4"
  }
 },
 "nbformat": 4,
 "nbformat_minor": 5
}
