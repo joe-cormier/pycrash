{
 "cells": [
  {
   "cell_type": "code",
   "execution_count": 1,
   "metadata": {},
   "outputs": [],
   "source": [
    "# %% allow reloading of modules\n",
    "%load_ext autoreload\n",
    "%autoreload 2"
   ]
  },
  {
   "cell_type": "markdown",
   "metadata": {},
   "source": [
    "#### Note: ensure the you are in the `notebooks` directory when using the `jupyter notebook` command "
   ]
  },
  {
   "cell_type": "code",
   "execution_count": 2,
   "metadata": {},
   "outputs": [
    {
     "data": {
      "text/plain": [
       "'/home/jmc/Documents/pycrash/projects/validation - single vehicle motion/notebooks'"
      ]
     },
     "execution_count": 2,
     "metadata": {},
     "output_type": "execute_result"
    }
   ],
   "source": [
    "import os\n",
    "path_parent = os.path.dirname(os.getcwd())\n",
    "os.getcwd()"
   ]
  },
  {
   "cell_type": "code",
   "execution_count": 3,
   "metadata": {},
   "outputs": [],
   "source": [
    "import sys\n",
    "sys.path.append(\"/home/jmc/Documents/pycrash\")"
   ]
  },
  {
   "cell_type": "code",
   "execution_count": 38,
   "metadata": {},
   "outputs": [],
   "source": [
    "import pycrash\n",
    "from pycrash.project import Project, project_info, load_project\n",
    "from pycrash.vehicle import Vehicle\n",
    "from pycrash.kinematics import SingleMotion"
   ]
  },
  {
   "cell_type": "code",
   "execution_count": 5,
   "metadata": {},
   "outputs": [
    {
     "data": {
      "text/plain": [
       "'/home/jmc/Documents/pycrash/projects/validation - single vehicle motion'"
      ]
     },
     "execution_count": 5,
     "metadata": {},
     "output_type": "execute_result"
    }
   ],
   "source": [
    "os.getcwd()"
   ]
  },
  {
   "cell_type": "code",
   "execution_count": 6,
   "metadata": {},
   "outputs": [],
   "source": [
    "import pandas as pd\n",
    "import numpy as np\n",
    "import math\n",
    "from scipy import integrate\n",
    "pd.options.display.max_columns = None\n",
    "pd.options.display.max_rows = None\n",
    "from IPython import get_ipython\n",
    "from IPython.display import display\n",
    "get_ipython().run_line_magic('matplotlib', 'inline')"
   ]
  },
  {
   "cell_type": "markdown",
   "metadata": {},
   "source": [
    "### Load Project Datafile that was created when project was instantiated\n",
    "- the project object contains information needed to run other parts of Pycrash"
   ]
  },
  {
   "cell_type": "markdown",
   "metadata": {},
   "source": [
    "#### Get project information - used to import project object"
   ]
  },
  {
   "cell_type": "code",
   "execution_count": 7,
   "metadata": {},
   "outputs": [
    {
     "name": "stdout",
     "output_type": "stream",
     "text": [
      "This saved project contains:\n",
      "Object of type \"project\" with name \"validation - single vehicle motion\"\n",
      "list objects in this order for loading project: ['validation - single vehicle motion']\n",
      "Example: project_name, veh1, veh2 = load_project('project_name')\n"
     ]
    }
   ],
   "source": [
    "project_info('validation - single vehicle motion')"
   ]
  },
  {
   "cell_type": "markdown",
   "metadata": {},
   "source": [
    "#### Load project and print contents"
   ]
  },
  {
   "cell_type": "code",
   "execution_count": 8,
   "metadata": {},
   "outputs": [
    {
     "name": "stdout",
     "output_type": "stream",
     "text": [
      "----------------------------------  ------------------------  -----------  ---------------  --------------------\n",
      "Project                             Description               Impact Type  Simulation Type  Note\n",
      "validation - single vehicle motion  planar motion simulation               SV               pc crash comparisons\n",
      "----------------------------------  ------------------------  -----------  ---------------  --------------------\n"
     ]
    }
   ],
   "source": [
    "proj = load_project('validation - single vehicle motion')\n",
    "proj.show()"
   ]
  },
  {
   "cell_type": "code",
   "execution_count": 9,
   "metadata": {},
   "outputs": [
    {
     "data": {
      "text/plain": [
       "{'name': 'validation - single vehicle motion',\n",
       " 'project_path': '/home/jmc/Documents/pycrash/projects/',\n",
       " 'pdesc': 'planar motion simulation',\n",
       " 'sim_type': 'SV',\n",
       " 'impact_type': None,\n",
       " 'note': 'pc crash comparisons',\n",
       " 'type': 'project'}"
      ]
     },
     "execution_count": 9,
     "metadata": {},
     "output_type": "execute_result"
    }
   ],
   "source": [
    "proj.__dict__"
   ]
  },
  {
   "cell_type": "markdown",
   "metadata": {},
   "source": [
    "### Generate dataframe with driver inputs\n",
    "- use validation steer / brake / throttle inputs\n",
    "- inputs are same dt as pycrash will have to check in future"
   ]
  },
  {
   "cell_type": "code",
   "execution_count": 10,
   "metadata": {},
   "outputs": [],
   "source": [
    "pc_crash_column_names = ['t', 'ax', 'ay', 'az', 'phi_deg', 'lf_fy', 'rf_fy',\n",
    "                         'lr_fy', 'rr_fy', 'delta_deg', 'rf_delta_deg', 'steer', \n",
    "                         'steer_rate', 'X', 'Y', 'Z', 'roll', 'pitch', 'theta_deg',\n",
    "                         'Vx', 'Vy', 'Vz']"
   ]
  },
  {
   "cell_type": "code",
   "execution_count": 11,
   "metadata": {},
   "outputs": [],
   "source": [
    "df = pd.read_excel(os.path.join(path_parent, 'data', 'external', '15-mph-steer-data.xlsx'),\n",
    "                            na_filter = False, header = None, names = pc_crash_column_names, skiprows = 1)"
   ]
  },
  {
   "cell_type": "code",
   "execution_count": 12,
   "metadata": {},
   "outputs": [],
   "source": [
    "# convert velocities to fps\n",
    "df.Vx = [x * 1.46667 for x in df.Vx]\n",
    "df.Vy = [x * 1.46667 for x in df.Vy]\n",
    "df.Vz = [x * 1.46667 for x in df.Vz]\n",
    "\n",
    "# convert acceleration to fps/s\n",
    "df.ax = [x * 32.2 for x in df.ax]\n",
    "df.ay = [x * 32.2 for x in df.ay]\n",
    "df.az = [x * 32.2 for x in df.az]\n",
    "\n",
    "# convert tire forces to lb\n",
    "df.lf_fy = [x * 1000 for x in df.lf_fy]\n",
    "df.rf_fy = [x * 1000 for x in df.rf_fy]\n",
    "df.lr_fy = [x * 1000 for x in df.lr_fy]\n",
    "df.rr_fy = [x * 1000 for x in df.rr_fy]\n",
    "\n",
    "# steer angle in radians\n",
    "df['delta_rad'] = [x / 180 * math.pi for x in df.delta_deg]"
   ]
  },
  {
   "cell_type": "code",
   "execution_count": 13,
   "metadata": {},
   "outputs": [
    {
     "data": {
      "text/html": [
       "<div>\n",
       "<style scoped>\n",
       "    .dataframe tbody tr th:only-of-type {\n",
       "        vertical-align: middle;\n",
       "    }\n",
       "\n",
       "    .dataframe tbody tr th {\n",
       "        vertical-align: top;\n",
       "    }\n",
       "\n",
       "    .dataframe thead th {\n",
       "        text-align: right;\n",
       "    }\n",
       "</style>\n",
       "<table border=\"1\" class=\"dataframe\">\n",
       "  <thead>\n",
       "    <tr style=\"text-align: right;\">\n",
       "      <th></th>\n",
       "      <th>t</th>\n",
       "      <th>ax</th>\n",
       "      <th>ay</th>\n",
       "      <th>az</th>\n",
       "      <th>phi_deg</th>\n",
       "      <th>lf_fy</th>\n",
       "      <th>rf_fy</th>\n",
       "      <th>lr_fy</th>\n",
       "      <th>rr_fy</th>\n",
       "      <th>delta_deg</th>\n",
       "      <th>rf_delta_deg</th>\n",
       "      <th>steer</th>\n",
       "      <th>steer_rate</th>\n",
       "      <th>X</th>\n",
       "      <th>Y</th>\n",
       "      <th>Z</th>\n",
       "      <th>roll</th>\n",
       "      <th>pitch</th>\n",
       "      <th>theta_deg</th>\n",
       "      <th>Vx</th>\n",
       "      <th>Vy</th>\n",
       "      <th>Vz</th>\n",
       "      <th>delta_rad</th>\n",
       "      <th>Dx</th>\n",
       "      <th>Dy</th>\n",
       "    </tr>\n",
       "  </thead>\n",
       "  <tbody>\n",
       "    <tr>\n",
       "      <th>0</th>\n",
       "      <td>0.0</td>\n",
       "      <td>0.0</td>\n",
       "      <td>0.0</td>\n",
       "      <td>0.0</td>\n",
       "      <td>0.0</td>\n",
       "      <td>0.0</td>\n",
       "      <td>0.0</td>\n",
       "      <td>0.0</td>\n",
       "      <td>0.0</td>\n",
       "      <td>0.0</td>\n",
       "      <td>0.0</td>\n",
       "      <td>0.0</td>\n",
       "      <td>0</td>\n",
       "      <td>0.0</td>\n",
       "      <td>0.0</td>\n",
       "      <td>1.79</td>\n",
       "      <td>0.0</td>\n",
       "      <td>0.0</td>\n",
       "      <td>0.0</td>\n",
       "      <td>22.00005</td>\n",
       "      <td>0.0</td>\n",
       "      <td>0.0</td>\n",
       "      <td>0.0</td>\n",
       "      <td>0.000000</td>\n",
       "      <td>0.0</td>\n",
       "    </tr>\n",
       "    <tr>\n",
       "      <th>1</th>\n",
       "      <td>0.1</td>\n",
       "      <td>0.0</td>\n",
       "      <td>0.0</td>\n",
       "      <td>0.0</td>\n",
       "      <td>0.0</td>\n",
       "      <td>0.0</td>\n",
       "      <td>0.0</td>\n",
       "      <td>0.0</td>\n",
       "      <td>0.0</td>\n",
       "      <td>0.0</td>\n",
       "      <td>0.0</td>\n",
       "      <td>0.0</td>\n",
       "      <td>0</td>\n",
       "      <td>2.2</td>\n",
       "      <td>0.0</td>\n",
       "      <td>1.79</td>\n",
       "      <td>0.0</td>\n",
       "      <td>0.0</td>\n",
       "      <td>0.0</td>\n",
       "      <td>22.00005</td>\n",
       "      <td>0.0</td>\n",
       "      <td>0.0</td>\n",
       "      <td>0.0</td>\n",
       "      <td>2.200005</td>\n",
       "      <td>0.0</td>\n",
       "    </tr>\n",
       "    <tr>\n",
       "      <th>2</th>\n",
       "      <td>0.2</td>\n",
       "      <td>0.0</td>\n",
       "      <td>0.0</td>\n",
       "      <td>0.0</td>\n",
       "      <td>0.0</td>\n",
       "      <td>0.0</td>\n",
       "      <td>0.0</td>\n",
       "      <td>0.0</td>\n",
       "      <td>0.0</td>\n",
       "      <td>0.0</td>\n",
       "      <td>0.0</td>\n",
       "      <td>0.0</td>\n",
       "      <td>0</td>\n",
       "      <td>4.4</td>\n",
       "      <td>0.0</td>\n",
       "      <td>1.79</td>\n",
       "      <td>0.0</td>\n",
       "      <td>0.0</td>\n",
       "      <td>0.0</td>\n",
       "      <td>22.00005</td>\n",
       "      <td>0.0</td>\n",
       "      <td>0.0</td>\n",
       "      <td>0.0</td>\n",
       "      <td>4.400010</td>\n",
       "      <td>0.0</td>\n",
       "    </tr>\n",
       "    <tr>\n",
       "      <th>3</th>\n",
       "      <td>0.3</td>\n",
       "      <td>0.0</td>\n",
       "      <td>0.0</td>\n",
       "      <td>0.0</td>\n",
       "      <td>0.0</td>\n",
       "      <td>0.0</td>\n",
       "      <td>0.0</td>\n",
       "      <td>0.0</td>\n",
       "      <td>0.0</td>\n",
       "      <td>0.0</td>\n",
       "      <td>0.0</td>\n",
       "      <td>0.0</td>\n",
       "      <td>0</td>\n",
       "      <td>6.6</td>\n",
       "      <td>0.0</td>\n",
       "      <td>1.79</td>\n",
       "      <td>0.0</td>\n",
       "      <td>0.0</td>\n",
       "      <td>0.0</td>\n",
       "      <td>22.00005</td>\n",
       "      <td>0.0</td>\n",
       "      <td>0.0</td>\n",
       "      <td>0.0</td>\n",
       "      <td>6.600015</td>\n",
       "      <td>0.0</td>\n",
       "    </tr>\n",
       "    <tr>\n",
       "      <th>4</th>\n",
       "      <td>0.4</td>\n",
       "      <td>0.0</td>\n",
       "      <td>0.0</td>\n",
       "      <td>0.0</td>\n",
       "      <td>0.0</td>\n",
       "      <td>0.0</td>\n",
       "      <td>0.0</td>\n",
       "      <td>0.0</td>\n",
       "      <td>0.0</td>\n",
       "      <td>0.0</td>\n",
       "      <td>0.0</td>\n",
       "      <td>0.0</td>\n",
       "      <td>0</td>\n",
       "      <td>8.8</td>\n",
       "      <td>0.0</td>\n",
       "      <td>1.79</td>\n",
       "      <td>0.0</td>\n",
       "      <td>0.0</td>\n",
       "      <td>0.0</td>\n",
       "      <td>22.00005</td>\n",
       "      <td>0.0</td>\n",
       "      <td>0.0</td>\n",
       "      <td>0.0</td>\n",
       "      <td>8.800020</td>\n",
       "      <td>0.0</td>\n",
       "    </tr>\n",
       "  </tbody>\n",
       "</table>\n",
       "</div>"
      ],
      "text/plain": [
       "     t   ax   ay   az  phi_deg  lf_fy  rf_fy  lr_fy  rr_fy  delta_deg  \\\n",
       "0  0.0  0.0  0.0  0.0      0.0    0.0    0.0    0.0    0.0        0.0   \n",
       "1  0.1  0.0  0.0  0.0      0.0    0.0    0.0    0.0    0.0        0.0   \n",
       "2  0.2  0.0  0.0  0.0      0.0    0.0    0.0    0.0    0.0        0.0   \n",
       "3  0.3  0.0  0.0  0.0      0.0    0.0    0.0    0.0    0.0        0.0   \n",
       "4  0.4  0.0  0.0  0.0      0.0    0.0    0.0    0.0    0.0        0.0   \n",
       "\n",
       "   rf_delta_deg  steer  steer_rate    X    Y     Z  roll  pitch  theta_deg  \\\n",
       "0           0.0    0.0           0  0.0  0.0  1.79   0.0    0.0        0.0   \n",
       "1           0.0    0.0           0  2.2  0.0  1.79   0.0    0.0        0.0   \n",
       "2           0.0    0.0           0  4.4  0.0  1.79   0.0    0.0        0.0   \n",
       "3           0.0    0.0           0  6.6  0.0  1.79   0.0    0.0        0.0   \n",
       "4           0.0    0.0           0  8.8  0.0  1.79   0.0    0.0        0.0   \n",
       "\n",
       "         Vx   Vy   Vz  delta_rad        Dx   Dy  \n",
       "0  22.00005  0.0  0.0        0.0  0.000000  0.0  \n",
       "1  22.00005  0.0  0.0        0.0  2.200005  0.0  \n",
       "2  22.00005  0.0  0.0        0.0  4.400010  0.0  \n",
       "3  22.00005  0.0  0.0        0.0  6.600015  0.0  \n",
       "4  22.00005  0.0  0.0        0.0  8.800020  0.0  "
      ]
     },
     "execution_count": 13,
     "metadata": {},
     "output_type": "execute_result"
    }
   ],
   "source": [
    "# integrate velocities to get displacements\n",
    "df['Dx'] = 0 + integrate.cumtrapz(list(df.Vx), list(df.t), initial=0)\n",
    "df['Dy'] = 0 + integrate.cumtrapz(list(df.Vy), list(df.t), initial=0)\n",
    "df.head()"
   ]
  },
  {
   "cell_type": "code",
   "execution_count": 14,
   "metadata": {},
   "outputs": [
    {
     "data": {
      "text/plain": [
       "<AxesSubplot:xlabel='t'>"
      ]
     },
     "execution_count": 14,
     "metadata": {},
     "output_type": "execute_result"
    },
    {
     "data": {
      "image/png": "[encoded data removed]",
      "text/plain": [
       "<Figure size 432x288 with 1 Axes>"
      ]
     },
     "metadata": {
      "needs_background": "light"
     },
     "output_type": "display_data"
    }
   ],
   "source": [
    "df.plot(x = 't', y = 'steer')"
   ]
  },
  {
   "cell_type": "code",
   "execution_count": 15,
   "metadata": {},
   "outputs": [
    {
     "data": {
      "text/plain": [
       "10.9"
      ]
     },
     "execution_count": 15,
     "metadata": {},
     "output_type": "execute_result"
    }
   ],
   "source": [
    "df.t.max()"
   ]
  },
  {
   "cell_type": "code",
   "execution_count": 16,
   "metadata": {},
   "outputs": [
    {
     "data": {
      "text/plain": [
       "22.000049999999998"
      ]
     },
     "execution_count": 16,
     "metadata": {},
     "output_type": "execute_result"
    }
   ],
   "source": [
    "df.Vx[0]"
   ]
  },
  {
   "cell_type": "markdown",
   "metadata": {},
   "source": [
    "### Load Validation Data"
   ]
  },
  {
   "cell_type": "code",
   "execution_count": 17,
   "metadata": {},
   "outputs": [],
   "source": [
    "# validation vehicle data\n",
    "\n",
    "vehicle_input_dict = {\"year\":2004,\n",
    "\"make\":\"Chevrolet\",\n",
    "\"model\":\"Malibu\",\n",
    "\"weight\":3298,\n",
    "\"vin\":\"1G1ZU54854F135916\",\n",
    "\"brake\":0,\n",
    "\"steer_ratio\":15.9,\n",
    "\"init_x_pos\":0,\n",
    "\"init_y_pos\":0,\n",
    "\"head_angle\":0,\n",
    "\"width\":70 / 12,\n",
    "\"length\":187 / 12,\n",
    "\"hcg\":21.5 / 12,\n",
    "\"lcgf\":38.1 / 12,\n",
    "\"lcgr\":67.9 / 12,\n",
    "\"wb\":106 / 12,\n",
    "\"track\":60 / 12,\n",
    "\"f_hang\":38 / 12,\n",
    "\"r_hang\":43 / 12,\n",
    "\"tire_d\":26.2 / 12,\n",
    "\"tire_w\":8.5 / 12,\n",
    "\"izz\":2040,\n",
    "\"fwd\":1,\n",
    "\"rwd\":0,\n",
    "\"awd\":0,\n",
    "\"A\":100,\n",
    "\"B\":41,\n",
    "\"k\":1000,\n",
    "\"L\":0,\n",
    "\"c\":0,\n",
    "\"vx_initial\":df.Vx[0],\n",
    "\"vy_initial\":0,\n",
    "\"omega_z\":0}"
   ]
  },
  {
   "cell_type": "code",
   "execution_count": 18,
   "metadata": {},
   "outputs": [
    {
     "name": "stdout",
     "output_type": "stream",
     "text": [
      "Vehicle Driver Inputs:\n"
     ]
    },
    {
     "data": {
      "text/html": [
       "<div>\n",
       "<style scoped>\n",
       "    .dataframe tbody tr th:only-of-type {\n",
       "        vertical-align: middle;\n",
       "    }\n",
       "\n",
       "    .dataframe tbody tr th {\n",
       "        vertical-align: top;\n",
       "    }\n",
       "\n",
       "    .dataframe thead th {\n",
       "        text-align: right;\n",
       "    }\n",
       "</style>\n",
       "<table border=\"1\" class=\"dataframe\">\n",
       "  <thead>\n",
       "    <tr style=\"text-align: right;\">\n",
       "      <th></th>\n",
       "      <th>t</th>\n",
       "      <th>throttle</th>\n",
       "      <th>brake</th>\n",
       "      <th>steer</th>\n",
       "    </tr>\n",
       "  </thead>\n",
       "  <tbody>\n",
       "    <tr>\n",
       "      <th>0</th>\n",
       "      <td>0.0</td>\n",
       "      <td>0</td>\n",
       "      <td>0</td>\n",
       "      <td>0.0</td>\n",
       "    </tr>\n",
       "    <tr>\n",
       "      <th>1</th>\n",
       "      <td>0.1</td>\n",
       "      <td>0</td>\n",
       "      <td>0</td>\n",
       "      <td>0.0</td>\n",
       "    </tr>\n",
       "    <tr>\n",
       "      <th>2</th>\n",
       "      <td>0.2</td>\n",
       "      <td>0</td>\n",
       "      <td>0</td>\n",
       "      <td>0.0</td>\n",
       "    </tr>\n",
       "    <tr>\n",
       "      <th>3</th>\n",
       "      <td>0.3</td>\n",
       "      <td>0</td>\n",
       "      <td>0</td>\n",
       "      <td>0.0</td>\n",
       "    </tr>\n",
       "    <tr>\n",
       "      <th>4</th>\n",
       "      <td>0.4</td>\n",
       "      <td>0</td>\n",
       "      <td>0</td>\n",
       "      <td>0.0</td>\n",
       "    </tr>\n",
       "  </tbody>\n",
       "</table>\n",
       "</div>"
      ],
      "text/plain": [
       "     t  throttle  brake  steer\n",
       "0  0.0         0      0    0.0\n",
       "1  0.1         0      0    0.0\n",
       "2  0.2         0      0    0.0\n",
       "3  0.3         0      0    0.0\n",
       "4  0.4         0      0    0.0"
      ]
     },
     "execution_count": 18,
     "metadata": {},
     "output_type": "execute_result"
    }
   ],
   "source": [
    "end_time = df.t.max()  \n",
    "t = list(df.t)  \n",
    "throttle = [0] * len(t)                      \n",
    "brake = [0] * len(t)                         \n",
    "steer = list(df.steer)                                   \n",
    "driver_input_dict = {'t':t, 'throttle':throttle, 'brake':brake, 'steer':steer}\n",
    "driver_input_df = pd.DataFrame.from_dict(driver_input_dict)\n",
    "print('Vehicle Driver Inputs:')\n",
    "driver_input_df.head()"
   ]
  },
  {
   "cell_type": "code",
   "execution_count": 19,
   "metadata": {},
   "outputs": [
    {
     "data": {
      "text/plain": [
       "10.9"
      ]
     },
     "execution_count": 19,
     "metadata": {},
     "output_type": "execute_result"
    }
   ],
   "source": [
    "driver_input_df.t.iloc[-1]"
   ]
  },
  {
   "cell_type": "markdown",
   "metadata": {},
   "source": [
    "### Assign validation data to veh2"
   ]
  },
  {
   "cell_type": "code",
   "execution_count": 20,
   "metadata": {},
   "outputs": [
    {
     "name": "stdout",
     "output_type": "stream",
     "text": [
      "Vehicle inputs for Veh2 applied succesfully\n"
     ]
    }
   ],
   "source": [
    "veh2 = Vehicle('Veh2', vehicle_input_dict)\n",
    "veh2.driver_input = driver_input_df\n",
    "# apply validation data as a model result\n",
    "veh2.model = df"
   ]
  },
  {
   "cell_type": "markdown",
   "metadata": {},
   "source": [
    "### Create Pycrash vehicle:\n",
    "- \"Vehicle\" stores information about a single vehicle - all possible inputs do not need to be entered\n",
    "- creating a Vehicle requries a \"name\" which is used to identify the vehicle in outputs / plots etc. "
   ]
  },
  {
   "cell_type": "code",
   "execution_count": 60,
   "metadata": {},
   "outputs": [
    {
     "name": "stdout",
     "output_type": "stream",
     "text": [
      "Vehicle inputs for Veh1 applied succesfully\n"
     ]
    }
   ],
   "source": [
    "veh1 = Vehicle('Veh1', vehicle_input_dict)\n",
    "veh1.driver_input = driver_input_df\n",
    "veh1.vx_initial = 15\n",
    "veh1.hcg = 2   # vary cg height"
   ]
  },
  {
   "cell_type": "markdown",
   "metadata": {},
   "source": [
    "### Create Single Motion Instance\n",
    "- simulation is run when instance is created"
   ]
  },
  {
   "cell_type": "code",
   "execution_count": 61,
   "metadata": {},
   "outputs": [
    {
     "name": "stdout",
     "output_type": "stream",
     "text": [
      "Maximum allowable friction: 0.76\n",
      "Time step for vehicle motion (s) : 0.1\n",
      "Maximum tire slip angle (deg): 10.00\n",
      "Driver input for Veh1 of shape = (110, 4)\n",
      "Vehicle motion will be simulated for 10.9 seconds\n"
     ]
    }
   ],
   "source": [
    "run = SingleMotion('15_mph_steer', veh1)"
   ]
  },
  {
   "cell_type": "code",
   "execution_count": 62,
   "metadata": {},
   "outputs": [
    {
     "data": {
      "text/plain": [
       "2"
      ]
     },
     "execution_count": 62,
     "metadata": {},
     "output_type": "execute_result"
    }
   ],
   "source": [
    "run.veh.hcg"
   ]
  },
  {
   "cell_type": "markdown",
   "metadata": {},
   "source": [
    "### View Driver Inputs"
   ]
  },
  {
   "cell_type": "code",
   "execution_count": 63,
   "metadata": {},
   "outputs": [
    {
     "data": {
      "application/vnd.plotly.v1+json": {
       "config": {
        "plotlyServerURL": "https://plot.ly"
       },
       "data": [
        {
         "line": {
          "color": "rgb(0, 255, 0)",
          "width": 2
         },
         "mode": "lines",
         "name": "throttle",
         "type": "scatter",
         "x": [
          0,
          0.1,
          0.2,
          0.3,
          0.4,
          0.5,
          0.6,
          0.7,
          0.8,
          0.9,
          1,
          1.1,
          1.2,
          1.3,
          1.4,
          1.5,
          1.6,
          1.7,
          1.8,
          1.9,
          2,
          2.1,
          2.2,
          2.3,
          2.4,
          2.5,
          2.6,
          2.7,
          2.8,
          2.9,
          3,
          3.1,
          3.2,
          3.3,
          3.4,
          3.5,
          3.6,
          3.7,
          3.8,
          3.9,
          4,
          4.1,
          4.2,
          4.3,
          4.4,
          4.5,
          4.6,
          4.7,
          4.8,
          4.9,
          5,
          5.1,
          5.2,
          5.3,
          5.4,
          5.5,
          5.6,
          5.7,
          5.8,
          5.9,
          6,
          6.1,
          6.2,
          6.3,
          6.4,
          6.5,
          6.6,
          6.7,
          6.8,
          6.9,
          7,
          7.1,
          7.2,
          7.3,
          7.4,
          7.5,
          7.6,
          7.7,
          7.8,
          7.9,
          8,
          8.1,
          8.2,
          8.3,
          8.4,
          8.5,
          8.6,
          8.7,
          8.8,
          8.9,
          9,
          9.1,
          9.2,
          9.3,
          9.4,
          9.5,
          9.6,
          9.7,
          9.8,
          9.9,
          10,
          10.1,
          10.2,
          10.3,
          10.4,
          10.5,
          10.6,
          10.7,
          10.8,
          10.9
         ],
         "xaxis": "x",
         "y": [
          0,
          0,
          0,
          0,
          0,
          0,
          0,
          0,
          0,
          0,
          0,
          0,
          0,
          0,
          0,
          0,
          0,
          0,
          0,
          0,
          0,
          0,
          0,
          0,
          0,
          0,
          0,
          0,
          0,
          0,
          0,
          0,
          0,
          0,
          0,
          0,
          0,
          0,
          0,
          0,
          0,
          0,
          0,
          0,
          0,
          0,
          0,
          0,
          0,
          0,
          0,
          0,
          0,
          0,
          0,
          0,
          0,
          0,
          0,
          0,
          0,
          0,
          0,
          0,
          0,
          0,
          0,
          0,
          0,
          0,
          0,
          0,
          0,
          0,
          0,
          0,
          0,
          0,
          0,
          0,
          0,
          0,
          0,
          0,
          0,
          0,
          0,
          0,
          0,
          0,
          0,
          0,
          0,
          0,
          0,
          0,
          0,
          0,
          0,
          0,
          0,
          0,
          0,
          0,
          0,
          0,
          0,
          0,
          0,
          0
         ],
         "yaxis": "y"
        },
        {
         "line": {
          "color": "rgb(255, 0, 0)",
          "width": 2
         },
         "mode": "lines",
         "name": "brake",
         "type": "scatter",
         "x": [
          0,
          0.1,
          0.2,
          0.3,
          0.4,
          0.5,
          0.6,
          0.7,
          0.8,
          0.9,
          1,
          1.1,
          1.2,
          1.3,
          1.4,
          1.5,
          1.6,
          1.7,
          1.8,
          1.9,
          2,
          2.1,
          2.2,
          2.3,
          2.4,
          2.5,
          2.6,
          2.7,
          2.8,
          2.9,
          3,
          3.1,
          3.2,
          3.3,
          3.4,
          3.5,
          3.6,
          3.7,
          3.8,
          3.9,
          4,
          4.1,
          4.2,
          4.3,
          4.4,
          4.5,
          4.6,
          4.7,
          4.8,
          4.9,
          5,
          5.1,
          5.2,
          5.3,
          5.4,
          5.5,
          5.6,
          5.7,
          5.8,
          5.9,
          6,
          6.1,
          6.2,
          6.3,
          6.4,
          6.5,
          6.6,
          6.7,
          6.8,
          6.9,
          7,
          7.1,
          7.2,
          7.3,
          7.4,
          7.5,
          7.6,
          7.7,
          7.8,
          7.9,
          8,
          8.1,
          8.2,
          8.3,
          8.4,
          8.5,
          8.6,
          8.7,
          8.8,
          8.9,
          9,
          9.1,
          9.2,
          9.3,
          9.4,
          9.5,
          9.6,
          9.7,
          9.8,
          9.9,
          10,
          10.1,
          10.2,
          10.3,
          10.4,
          10.5,
          10.6,
          10.7,
          10.8,
          10.9
         ],
         "xaxis": "x",
         "y": [
          0,
          0,
          0,
          0,
          0,
          0,
          0,
          0,
          0,
          0,
          0,
          0,
          0,
          0,
          0,
          0,
          0,
          0,
          0,
          0,
          0,
          0,
          0,
          0,
          0,
          0,
          0,
          0,
          0,
          0,
          0,
          0,
          0,
          0,
          0,
          0,
          0,
          0,
          0,
          0,
          0,
          0,
          0,
          0,
          0,
          0,
          0,
          0,
          0,
          0,
          0,
          0,
          0,
          0,
          0,
          0,
          0,
          0,
          0,
          0,
          0,
          0,
          0,
          0,
          0,
          0,
          0,
          0,
          0,
          0,
          0,
          0,
          0,
          0,
          0,
          0,
          0,
          0,
          0,
          0,
          0,
          0,
          0,
          0,
          0,
          0,
          0,
          0,
          0,
          0,
          0,
          0,
          0,
          0,
          0,
          0,
          0,
          0,
          0,
          0,
          0,
          0,
          0,
          0,
          0,
          0,
          0,
          0,
          0,
          0
         ],
         "yaxis": "y"
        },
        {
         "line": {
          "color": "rgb(0, 0, 0)",
          "width": 2
         },
         "mode": "lines",
         "name": "steer",
         "type": "scatter",
         "x": [
          0,
          0.1,
          0.2,
          0.3,
          0.4,
          0.5,
          0.6,
          0.7,
          0.8,
          0.9,
          1,
          1.1,
          1.2,
          1.3,
          1.4,
          1.5,
          1.6,
          1.7,
          1.8,
          1.9,
          2,
          2.1,
          2.2,
          2.3,
          2.4,
          2.5,
          2.6,
          2.7,
          2.8,
          2.9,
          3,
          3.1,
          3.2,
          3.3,
          3.4,
          3.5,
          3.6,
          3.7,
          3.8,
          3.9,
          4,
          4.1,
          4.2,
          4.3,
          4.4,
          4.5,
          4.6,
          4.7,
          4.8,
          4.9,
          5,
          5.1,
          5.2,
          5.3,
          5.4,
          5.5,
          5.6,
          5.7,
          5.8,
          5.9,
          6,
          6.1,
          6.2,
          6.3,
          6.4,
          6.5,
          6.6,
          6.7,
          6.8,
          6.9,
          7,
          7.1,
          7.2,
          7.3,
          7.4,
          7.5,
          7.6,
          7.7,
          7.8,
          7.9,
          8,
          8.1,
          8.2,
          8.3,
          8.4,
          8.5,
          8.6,
          8.7,
          8.8,
          8.9,
          9,
          9.1,
          9.2,
          9.3,
          9.4,
          9.5,
          9.6,
          9.7,
          9.8,
          9.9,
          10,
          10.1,
          10.2,
          10.3,
          10.4,
          10.5,
          10.6,
          10.7,
          10.8,
          10.9
         ],
         "xaxis": "x",
         "y": [
          0,
          0,
          0,
          0,
          0,
          0,
          0,
          0,
          0,
          0,
          0,
          -32.400051,
          -68.40006,
          -104.400069,
          -140.400077,
          -176.400086,
          -212.400094,
          -248.400103,
          -284.400112,
          -320.40012,
          -356.400086,
          -360,
          -360,
          -360,
          -360,
          -360,
          -360,
          -360,
          -360,
          -360,
          -360,
          -360,
          -360,
          -360,
          -360,
          -360,
          -360,
          -360,
          -360,
          -360,
          -360,
          -360,
          -360,
          -360,
          -360,
          -360,
          -360,
          -360,
          -360,
          -360,
          -360,
          -360,
          -360,
          -360,
          -360,
          -360,
          -360,
          -360,
          -360,
          -360,
          -360,
          -360,
          -360,
          -360,
          -360,
          -360,
          -360,
          -360,
          -360,
          -360,
          -360,
          -360,
          -360,
          -360,
          -360,
          -360,
          -360,
          -360,
          -360,
          -360,
          -360,
          -360,
          -360,
          -360,
          -360,
          -360,
          -360,
          -360,
          -360,
          -360,
          -360,
          -360,
          -360,
          -360,
          -360,
          -360,
          -360,
          -360,
          -360,
          -360,
          -360,
          -360,
          -360,
          -360,
          -360,
          -360,
          -360,
          -360,
          -360,
          -360
         ],
         "yaxis": "y2"
        }
       ],
       "layout": {
        "autosize": false,
        "font": {
         "color": "black",
         "family": "Arial",
         "size": 16
        },
        "height": 450,
        "legend": {
         "orientation": "h",
         "x": 0.01,
         "xanchor": "left",
         "y": 1.15,
         "yanchor": "top"
        },
        "template": {
         "data": {
          "bar": [
           {
            "error_x": {
             "color": "#2a3f5f"
            },
            "error_y": {
             "color": "#2a3f5f"
            },
            "marker": {
             "line": {
              "color": "white",
              "width": 0.5
             }
            },
            "type": "bar"
           }
          ],
          "barpolar": [
           {
            "marker": {
             "line": {
              "color": "white",
              "width": 0.5
             }
            },
            "type": "barpolar"
           }
          ],
          "carpet": [
           {
            "aaxis": {
             "endlinecolor": "#2a3f5f",
             "gridcolor": "#C8D4E3",
             "linecolor": "#C8D4E3",
             "minorgridcolor": "#C8D4E3",
             "startlinecolor": "#2a3f5f"
            },
            "baxis": {
             "endlinecolor": "#2a3f5f",
             "gridcolor": "#C8D4E3",
             "linecolor": "#C8D4E3",
             "minorgridcolor": "#C8D4E3",
             "startlinecolor": "#2a3f5f"
            },
            "type": "carpet"
           }
          ],
          "choropleth": [
           {
            "colorbar": {
             "outlinewidth": 0,
             "ticks": ""
            },
            "type": "choropleth"
           }
          ],
          "contour": [
           {
            "colorbar": {
             "outlinewidth": 0,
             "ticks": ""
            },
            "colorscale": [
             [
              0,
              "#0d0887"
             ],
             [
              0.1111111111111111,
              "#46039f"
             ],
             [
              0.2222222222222222,
              "#7201a8"
             ],
             [
              0.3333333333333333,
              "#9c179e"
             ],
             [
              0.4444444444444444,
              "#bd3786"
             ],
             [
              0.5555555555555556,
              "#d8576b"
             ],
             [
              0.6666666666666666,
              "#ed7953"
             ],
             [
              0.7777777777777778,
              "#fb9f3a"
             ],
             [
              0.8888888888888888,
              "#fdca26"
             ],
             [
              1,
              "#f0f921"
             ]
            ],
            "type": "contour"
           }
          ],
          "contourcarpet": [
           {
            "colorbar": {
             "outlinewidth": 0,
             "ticks": ""
            },
            "type": "contourcarpet"
           }
          ],
          "heatmap": [
           {
            "colorbar": {
             "outlinewidth": 0,
             "ticks": ""
            },
            "colorscale": [
             [
              0,
              "#0d0887"
             ],
             [
              0.1111111111111111,
              "#46039f"
             ],
             [
              0.2222222222222222,
              "#7201a8"
             ],
             [
              0.3333333333333333,
              "#9c179e"
             ],
             [
              0.4444444444444444,
              "#bd3786"
             ],
             [
              0.5555555555555556,
              "#d8576b"
             ],
             [
              0.6666666666666666,
              "#ed7953"
             ],
             [
              0.7777777777777778,
              "#fb9f3a"
             ],
             [
              0.8888888888888888,
              "#fdca26"
             ],
             [
              1,
              "#f0f921"
             ]
            ],
            "type": "heatmap"
           }
          ],
          "heatmapgl": [
           {
            "colorbar": {
             "outlinewidth": 0,
             "ticks": ""
            },
            "colorscale": [
             [
              0,
              "#0d0887"
             ],
             [
              0.1111111111111111,
              "#46039f"
             ],
             [
              0.2222222222222222,
              "#7201a8"
             ],
             [
              0.3333333333333333,
              "#9c179e"
             ],
             [
              0.4444444444444444,
              "#bd3786"
             ],
             [
              0.5555555555555556,
              "#d8576b"
             ],
             [
              0.6666666666666666,
              "#ed7953"
             ],
             [
              0.7777777777777778,
              "#fb9f3a"
             ],
             [
              0.8888888888888888,
              "#fdca26"
             ],
             [
              1,
              "#f0f921"
             ]
            ],
            "type": "heatmapgl"
           }
          ],
          "histogram": [
           {
            "marker": {
             "colorbar": {
              "outlinewidth": 0,
              "ticks": ""
             }
            },
            "type": "histogram"
           }
          ],
          "histogram2d": [
           {
            "colorbar": {
             "outlinewidth": 0,
             "ticks": ""
            },
            "colorscale": [
             [
              0,
              "#0d0887"
             ],
             [
              0.1111111111111111,
              "#46039f"
             ],
             [
              0.2222222222222222,
              "#7201a8"
             ],
             [
              0.3333333333333333,
              "#9c179e"
             ],
             [
              0.4444444444444444,
              "#bd3786"
             ],
             [
              0.5555555555555556,
              "#d8576b"
             ],
             [
              0.6666666666666666,
              "#ed7953"
             ],
             [
              0.7777777777777778,
              "#fb9f3a"
             ],
             [
              0.8888888888888888,
              "#fdca26"
             ],
             [
              1,
              "#f0f921"
             ]
            ],
            "type": "histogram2d"
           }
          ],
          "histogram2dcontour": [
           {
            "colorbar": {
             "outlinewidth": 0,
             "ticks": ""
            },
            "colorscale": [
             [
              0,
              "#0d0887"
             ],
             [
              0.1111111111111111,
              "#46039f"
             ],
             [
              0.2222222222222222,
              "#7201a8"
             ],
             [
              0.3333333333333333,
              "#9c179e"
             ],
             [
              0.4444444444444444,
              "#bd3786"
             ],
             [
              0.5555555555555556,
              "#d8576b"
             ],
             [
              0.6666666666666666,
              "#ed7953"
             ],
             [
              0.7777777777777778,
              "#fb9f3a"
             ],
             [
              0.8888888888888888,
              "#fdca26"
             ],
             [
              1,
              "#f0f921"
             ]
            ],
            "type": "histogram2dcontour"
           }
          ],
          "mesh3d": [
           {
            "colorbar": {
             "outlinewidth": 0,
             "ticks": ""
            },
            "type": "mesh3d"
           }
          ],
          "parcoords": [
           {
            "line": {
             "colorbar": {
              "outlinewidth": 0,
              "ticks": ""
             }
            },
            "type": "parcoords"
           }
          ],
          "pie": [
           {
            "automargin": true,
            "type": "pie"
           }
          ],
          "scatter": [
           {
            "marker": {
             "colorbar": {
              "outlinewidth": 0,
              "ticks": ""
             }
            },
            "type": "scatter"
           }
          ],
          "scatter3d": [
           {
            "line": {
             "colorbar": {
              "outlinewidth": 0,
              "ticks": ""
             }
            },
            "marker": {
             "colorbar": {
              "outlinewidth": 0,
              "ticks": ""
             }
            },
            "type": "scatter3d"
           }
          ],
          "scattercarpet": [
           {
            "marker": {
             "colorbar": {
              "outlinewidth": 0,
              "ticks": ""
             }
            },
            "type": "scattercarpet"
           }
          ],
          "scattergeo": [
           {
            "marker": {
             "colorbar": {
              "outlinewidth": 0,
              "ticks": ""
             }
            },
            "type": "scattergeo"
           }
          ],
          "scattergl": [
           {
            "marker": {
             "colorbar": {
              "outlinewidth": 0,
              "ticks": ""
             }
            },
            "type": "scattergl"
           }
          ],
          "scattermapbox": [
           {
            "marker": {
             "colorbar": {
              "outlinewidth": 0,
              "ticks": ""
             }
            },
            "type": "scattermapbox"
           }
          ],
          "scatterpolar": [
           {
            "marker": {
             "colorbar": {
              "outlinewidth": 0,
              "ticks": ""
             }
            },
            "type": "scatterpolar"
           }
          ],
          "scatterpolargl": [
           {
            "marker": {
             "colorbar": {
              "outlinewidth": 0,
              "ticks": ""
             }
            },
            "type": "scatterpolargl"
           }
          ],
          "scatterternary": [
           {
            "marker": {
             "colorbar": {
              "outlinewidth": 0,
              "ticks": ""
             }
            },
            "type": "scatterternary"
           }
          ],
          "surface": [
           {
            "colorbar": {
             "outlinewidth": 0,
             "ticks": ""
            },
            "colorscale": [
             [
              0,
              "#0d0887"
             ],
             [
              0.1111111111111111,
              "#46039f"
             ],
             [
              0.2222222222222222,
              "#7201a8"
             ],
             [
              0.3333333333333333,
              "#9c179e"
             ],
             [
              0.4444444444444444,
              "#bd3786"
             ],
             [
              0.5555555555555556,
              "#d8576b"
             ],
             [
              0.6666666666666666,
              "#ed7953"
             ],
             [
              0.7777777777777778,
              "#fb9f3a"
             ],
             [
              0.8888888888888888,
              "#fdca26"
             ],
             [
              1,
              "#f0f921"
             ]
            ],
            "type": "surface"
           }
          ],
          "table": [
           {
            "cells": {
             "fill": {
              "color": "#EBF0F8"
             },
             "line": {
              "color": "white"
             }
            },
            "header": {
             "fill": {
              "color": "#C8D4E3"
             },
             "line": {
              "color": "white"
             }
            },
            "type": "table"
           }
          ]
         },
         "layout": {
          "annotationdefaults": {
           "arrowcolor": "#2a3f5f",
           "arrowhead": 0,
           "arrowwidth": 1
          },
          "coloraxis": {
           "colorbar": {
            "outlinewidth": 0,
            "ticks": ""
           }
          },
          "colorscale": {
           "diverging": [
            [
             0,
             "#8e0152"
            ],
            [
             0.1,
             "#c51b7d"
            ],
            [
             0.2,
             "#de77ae"
            ],
            [
             0.3,
             "#f1b6da"
            ],
            [
             0.4,
             "#fde0ef"
            ],
            [
             0.5,
             "#f7f7f7"
            ],
            [
             0.6,
             "#e6f5d0"
            ],
            [
             0.7,
             "#b8e186"
            ],
            [
             0.8,
             "#7fbc41"
            ],
            [
             0.9,
             "#4d9221"
            ],
            [
             1,
             "#276419"
            ]
           ],
           "sequential": [
            [
             0,
             "#0d0887"
            ],
            [
             0.1111111111111111,
             "#46039f"
            ],
            [
             0.2222222222222222,
             "#7201a8"
            ],
            [
             0.3333333333333333,
             "#9c179e"
            ],
            [
             0.4444444444444444,
             "#bd3786"
            ],
            [
             0.5555555555555556,
             "#d8576b"
            ],
            [
             0.6666666666666666,
             "#ed7953"
            ],
            [
             0.7777777777777778,
             "#fb9f3a"
            ],
            [
             0.8888888888888888,
             "#fdca26"
            ],
            [
             1,
             "#f0f921"
            ]
           ],
           "sequentialminus": [
            [
             0,
             "#0d0887"
            ],
            [
             0.1111111111111111,
             "#46039f"
            ],
            [
             0.2222222222222222,
             "#7201a8"
            ],
            [
             0.3333333333333333,
             "#9c179e"
            ],
            [
             0.4444444444444444,
             "#bd3786"
            ],
            [
             0.5555555555555556,
             "#d8576b"
            ],
            [
             0.6666666666666666,
             "#ed7953"
            ],
            [
             0.7777777777777778,
             "#fb9f3a"
            ],
            [
             0.8888888888888888,
             "#fdca26"
            ],
            [
             1,
             "#f0f921"
            ]
           ]
          },
          "colorway": [
           "#636efa",
           "#EF553B",
           "#00cc96",
           "#ab63fa",
           "#FFA15A",
           "#19d3f3",
           "#FF6692",
           "#B6E880",
           "#FF97FF",
           "#FECB52"
          ],
          "font": {
           "color": "#2a3f5f"
          },
          "geo": {
           "bgcolor": "white",
           "lakecolor": "white",
           "landcolor": "white",
           "showlakes": true,
           "showland": true,
           "subunitcolor": "#C8D4E3"
          },
          "hoverlabel": {
           "align": "left"
          },
          "hovermode": "closest",
          "mapbox": {
           "style": "light"
          },
          "paper_bgcolor": "white",
          "plot_bgcolor": "white",
          "polar": {
           "angularaxis": {
            "gridcolor": "#EBF0F8",
            "linecolor": "#EBF0F8",
            "ticks": ""
           },
           "bgcolor": "white",
           "radialaxis": {
            "gridcolor": "#EBF0F8",
            "linecolor": "#EBF0F8",
            "ticks": ""
           }
          },
          "scene": {
           "xaxis": {
            "backgroundcolor": "white",
            "gridcolor": "#DFE8F3",
            "gridwidth": 2,
            "linecolor": "#EBF0F8",
            "showbackground": true,
            "ticks": "",
            "zerolinecolor": "#EBF0F8"
           },
           "yaxis": {
            "backgroundcolor": "white",
            "gridcolor": "#DFE8F3",
            "gridwidth": 2,
            "linecolor": "#EBF0F8",
            "showbackground": true,
            "ticks": "",
            "zerolinecolor": "#EBF0F8"
           },
           "zaxis": {
            "backgroundcolor": "white",
            "gridcolor": "#DFE8F3",
            "gridwidth": 2,
            "linecolor": "#EBF0F8",
            "showbackground": true,
            "ticks": "",
            "zerolinecolor": "#EBF0F8"
           }
          },
          "shapedefaults": {
           "line": {
            "color": "#2a3f5f"
           }
          },
          "ternary": {
           "aaxis": {
            "gridcolor": "#DFE8F3",
            "linecolor": "#A2B1C6",
            "ticks": ""
           },
           "baxis": {
            "gridcolor": "#DFE8F3",
            "linecolor": "#A2B1C6",
            "ticks": ""
           },
           "bgcolor": "white",
           "caxis": {
            "gridcolor": "#DFE8F3",
            "linecolor": "#A2B1C6",
            "ticks": ""
           }
          },
          "title": {
           "x": 0.05
          },
          "xaxis": {
           "automargin": true,
           "gridcolor": "#EBF0F8",
           "linecolor": "#EBF0F8",
           "ticks": "",
           "title": {
            "standoff": 15
           },
           "zerolinecolor": "#EBF0F8",
           "zerolinewidth": 2
          },
          "yaxis": {
           "automargin": true,
           "gridcolor": "#EBF0F8",
           "linecolor": "#EBF0F8",
           "ticks": "",
           "title": {
            "standoff": 15
           },
           "zerolinecolor": "#EBF0F8",
           "zerolinewidth": 2
          }
         }
        },
        "title": {
         "text": "Driver Inputs for Veh1"
        },
        "width": 800,
        "xaxis": {
         "anchor": "y",
         "domain": [
          0,
          0.94
         ],
         "linecolor": "black",
         "linewidth": 1,
         "showgrid": false,
         "showline": true,
         "tickcolor": "black",
         "ticklen": 10,
         "ticks": "outside",
         "tickwidth": 1,
         "title": {
          "text": "Time (s)"
         },
         "zeroline": false
        },
        "yaxis": {
         "anchor": "x",
         "autorange": "reversed",
         "domain": [
          0,
          1
         ],
         "linecolor": "black",
         "linewidth": 1,
         "showgrid": false,
         "showline": true,
         "tickcolor": "black",
         "ticklen": 10,
         "ticks": "outside",
         "tickwidth": 1,
         "title": {
          "text": "Brake | Throttle (%)"
         },
         "zeroline": false
        },
        "yaxis2": {
         "anchor": "x",
         "autorange": "reversed",
         "linecolor": "black",
         "linewidth": 1,
         "overlaying": "y",
         "showgrid": false,
         "showline": true,
         "side": "right",
         "tickcolor": "black",
         "ticklen": 10,
         "ticks": "outside",
         "tickwidth": 1,
         "title": {
          "text": "Steer Angle (deg)"
         },
         "zeroline": false
        }
       }
      },
      "text/html": [
       "<div>\n",
       "        \n",
       "        \n",
       "            <div id=\"6848f59e-8bf6-47ea-808a-592f44e2688f\" class=\"plotly-graph-div\" style=\"height:450px; width:800px;\"></div>\n",
       "            <script type=\"text/javascript\">\n",
       "                require([\"plotly\"], function(Plotly) {\n",
       "                    window.PLOTLYENV=window.PLOTLYENV || {};\n",
       "                    \n",
       "                if (document.getElementById(\"6848f59e-8bf6-47ea-808a-592f44e2688f\")) {\n",
       "                    Plotly.newPlot(\n",
       "                        '6848f59e-8bf6-47ea-808a-592f44e2688f',\n",
       "                        [{\"line\": {\"color\": \"rgb(0, 255, 0)\", \"width\": 2}, \"mode\": \"lines\", \"name\": \"throttle\", \"type\": \"scatter\", \"x\": [0.0, 0.1, 0.2, 0.3, 0.4, 0.5, 0.6, 0.7, 0.8, 0.9, 1.0, 1.1, 1.2, 1.3, 1.4, 1.5, 1.6, 1.7, 1.8, 1.9, 2.0, 2.1, 2.2, 2.3, 2.4, 2.5, 2.6, 2.7, 2.8, 2.9, 3.0, 3.1, 3.2, 3.3, 3.4, 3.5, 3.6, 3.7, 3.8, 3.9, 4.0, 4.1, 4.2, 4.3, 4.4, 4.5, 4.6, 4.7, 4.8, 4.9, 5.0, 5.1, 5.2, 5.3, 5.4, 5.5, 5.6, 5.7, 5.8, 5.9, 6.0, 6.1, 6.2, 6.3, 6.4, 6.5, 6.6, 6.7, 6.8, 6.9, 7.0, 7.1, 7.2, 7.3, 7.4, 7.5, 7.6, 7.7, 7.8, 7.9, 8.0, 8.1, 8.2, 8.3, 8.4, 8.5, 8.6, 8.7, 8.8, 8.9, 9.0, 9.1, 9.2, 9.3, 9.4, 9.5, 9.6, 9.7, 9.8, 9.9, 10.0, 10.1, 10.2, 10.3, 10.4, 10.5, 10.6, 10.7, 10.8, 10.9], \"xaxis\": \"x\", \"y\": [0, 0, 0, 0, 0, 0, 0, 0, 0, 0, 0, 0, 0, 0, 0, 0, 0, 0, 0, 0, 0, 0, 0, 0, 0, 0, 0, 0, 0, 0, 0, 0, 0, 0, 0, 0, 0, 0, 0, 0, 0, 0, 0, 0, 0, 0, 0, 0, 0, 0, 0, 0, 0, 0, 0, 0, 0, 0, 0, 0, 0, 0, 0, 0, 0, 0, 0, 0, 0, 0, 0, 0, 0, 0, 0, 0, 0, 0, 0, 0, 0, 0, 0, 0, 0, 0, 0, 0, 0, 0, 0, 0, 0, 0, 0, 0, 0, 0, 0, 0, 0, 0, 0, 0, 0, 0, 0, 0, 0, 0], \"yaxis\": \"y\"}, {\"line\": {\"color\": \"rgb(255, 0, 0)\", \"width\": 2}, \"mode\": \"lines\", \"name\": \"brake\", \"type\": \"scatter\", \"x\": [0.0, 0.1, 0.2, 0.3, 0.4, 0.5, 0.6, 0.7, 0.8, 0.9, 1.0, 1.1, 1.2, 1.3, 1.4, 1.5, 1.6, 1.7, 1.8, 1.9, 2.0, 2.1, 2.2, 2.3, 2.4, 2.5, 2.6, 2.7, 2.8, 2.9, 3.0, 3.1, 3.2, 3.3, 3.4, 3.5, 3.6, 3.7, 3.8, 3.9, 4.0, 4.1, 4.2, 4.3, 4.4, 4.5, 4.6, 4.7, 4.8, 4.9, 5.0, 5.1, 5.2, 5.3, 5.4, 5.5, 5.6, 5.7, 5.8, 5.9, 6.0, 6.1, 6.2, 6.3, 6.4, 6.5, 6.6, 6.7, 6.8, 6.9, 7.0, 7.1, 7.2, 7.3, 7.4, 7.5, 7.6, 7.7, 7.8, 7.9, 8.0, 8.1, 8.2, 8.3, 8.4, 8.5, 8.6, 8.7, 8.8, 8.9, 9.0, 9.1, 9.2, 9.3, 9.4, 9.5, 9.6, 9.7, 9.8, 9.9, 10.0, 10.1, 10.2, 10.3, 10.4, 10.5, 10.6, 10.7, 10.8, 10.9], \"xaxis\": \"x\", \"y\": [0, 0, 0, 0, 0, 0, 0, 0, 0, 0, 0, 0, 0, 0, 0, 0, 0, 0, 0, 0, 0, 0, 0, 0, 0, 0, 0, 0, 0, 0, 0, 0, 0, 0, 0, 0, 0, 0, 0, 0, 0, 0, 0, 0, 0, 0, 0, 0, 0, 0, 0, 0, 0, 0, 0, 0, 0, 0, 0, 0, 0, 0, 0, 0, 0, 0, 0, 0, 0, 0, 0, 0, 0, 0, 0, 0, 0, 0, 0, 0, 0, 0, 0, 0, 0, 0, 0, 0, 0, 0, 0, 0, 0, 0, 0, 0, 0, 0, 0, 0, 0, 0, 0, 0, 0, 0, 0, 0, 0, 0], \"yaxis\": \"y\"}, {\"line\": {\"color\": \"rgb(0, 0, 0)\", \"width\": 2}, \"mode\": \"lines\", \"name\": \"steer\", \"type\": \"scatter\", \"x\": [0.0, 0.1, 0.2, 0.3, 0.4, 0.5, 0.6, 0.7, 0.8, 0.9, 1.0, 1.1, 1.2, 1.3, 1.4, 1.5, 1.6, 1.7, 1.8, 1.9, 2.0, 2.1, 2.2, 2.3, 2.4, 2.5, 2.6, 2.7, 2.8, 2.9, 3.0, 3.1, 3.2, 3.3, 3.4, 3.5, 3.6, 3.7, 3.8, 3.9, 4.0, 4.1, 4.2, 4.3, 4.4, 4.5, 4.6, 4.7, 4.8, 4.9, 5.0, 5.1, 5.2, 5.3, 5.4, 5.5, 5.6, 5.7, 5.8, 5.9, 6.0, 6.1, 6.2, 6.3, 6.4, 6.5, 6.6, 6.7, 6.8, 6.9, 7.0, 7.1, 7.2, 7.3, 7.4, 7.5, 7.6, 7.7, 7.8, 7.9, 8.0, 8.1, 8.2, 8.3, 8.4, 8.5, 8.6, 8.7, 8.8, 8.9, 9.0, 9.1, 9.2, 9.3, 9.4, 9.5, 9.6, 9.7, 9.8, 9.9, 10.0, 10.1, 10.2, 10.3, 10.4, 10.5, 10.6, 10.7, 10.8, 10.9], \"xaxis\": \"x\", \"y\": [0.0, 0.0, 0.0, 0.0, 0.0, 0.0, 0.0, 0.0, 0.0, 0.0, 0.0, -32.400051, -68.40006, -104.400069, -140.400077, -176.400086, -212.400094, -248.400103, -284.400112, -320.40012, -356.400086, -360.0, -360.0, -360.0, -360.0, -360.0, -360.0, -360.0, -360.0, -360.0, -360.0, -360.0, -360.0, -360.0, -360.0, -360.0, -360.0, -360.0, -360.0, -360.0, -360.0, -360.0, -360.0, -360.0, -360.0, -360.0, -360.0, -360.0, -360.0, -360.0, -360.0, -360.0, -360.0, -360.0, -360.0, -360.0, -360.0, -360.0, -360.0, -360.0, -360.0, -360.0, -360.0, -360.0, -360.0, -360.0, -360.0, -360.0, -360.0, -360.0, -360.0, -360.0, -360.0, -360.0, -360.0, -360.0, -360.0, -360.0, -360.0, -360.0, -360.0, -360.0, -360.0, -360.0, -360.0, -360.0, -360.0, -360.0, -360.0, -360.0, -360.0, -360.0, -360.0, -360.0, -360.0, -360.0, -360.0, -360.0, -360.0, -360.0, -360.0, -360.0, -360.0, -360.0, -360.0, -360.0, -360.0, -360.0, -360.0, -360.0], \"yaxis\": \"y2\"}],\n",
       "                        {\"autosize\": false, \"font\": {\"color\": \"black\", \"family\": \"Arial\", \"size\": 16}, \"height\": 450, \"legend\": {\"orientation\": \"h\", \"x\": 0.01, \"xanchor\": \"left\", \"y\": 1.15, \"yanchor\": \"top\"}, \"template\": {\"data\": {\"bar\": [{\"error_x\": {\"color\": \"#2a3f5f\"}, \"error_y\": {\"color\": \"#2a3f5f\"}, \"marker\": {\"line\": {\"color\": \"white\", \"width\": 0.5}}, \"type\": \"bar\"}], \"barpolar\": [{\"marker\": {\"line\": {\"color\": \"white\", \"width\": 0.5}}, \"type\": \"barpolar\"}], \"carpet\": [{\"aaxis\": {\"endlinecolor\": \"#2a3f5f\", \"gridcolor\": \"#C8D4E3\", \"linecolor\": \"#C8D4E3\", \"minorgridcolor\": \"#C8D4E3\", \"startlinecolor\": \"#2a3f5f\"}, \"baxis\": {\"endlinecolor\": \"#2a3f5f\", \"gridcolor\": \"#C8D4E3\", \"linecolor\": \"#C8D4E3\", \"minorgridcolor\": \"#C8D4E3\", \"startlinecolor\": \"#2a3f5f\"}, \"type\": \"carpet\"}], \"choropleth\": [{\"colorbar\": {\"outlinewidth\": 0, \"ticks\": \"\"}, \"type\": \"choropleth\"}], \"contour\": [{\"colorbar\": {\"outlinewidth\": 0, \"ticks\": \"\"}, \"colorscale\": [[0.0, \"#0d0887\"], [0.1111111111111111, \"#46039f\"], [0.2222222222222222, \"#7201a8\"], [0.3333333333333333, \"#9c179e\"], [0.4444444444444444, \"#bd3786\"], [0.5555555555555556, \"#d8576b\"], [0.6666666666666666, \"#ed7953\"], [0.7777777777777778, \"#fb9f3a\"], [0.8888888888888888, \"#fdca26\"], [1.0, \"#f0f921\"]], \"type\": \"contour\"}], \"contourcarpet\": [{\"colorbar\": {\"outlinewidth\": 0, \"ticks\": \"\"}, \"type\": \"contourcarpet\"}], \"heatmap\": [{\"colorbar\": {\"outlinewidth\": 0, \"ticks\": \"\"}, \"colorscale\": [[0.0, \"#0d0887\"], [0.1111111111111111, \"#46039f\"], [0.2222222222222222, \"#7201a8\"], [0.3333333333333333, \"#9c179e\"], [0.4444444444444444, \"#bd3786\"], [0.5555555555555556, \"#d8576b\"], [0.6666666666666666, \"#ed7953\"], [0.7777777777777778, \"#fb9f3a\"], [0.8888888888888888, \"#fdca26\"], [1.0, \"#f0f921\"]], \"type\": \"heatmap\"}], \"heatmapgl\": [{\"colorbar\": {\"outlinewidth\": 0, \"ticks\": \"\"}, \"colorscale\": [[0.0, \"#0d0887\"], [0.1111111111111111, \"#46039f\"], [0.2222222222222222, \"#7201a8\"], [0.3333333333333333, \"#9c179e\"], [0.4444444444444444, \"#bd3786\"], [0.5555555555555556, \"#d8576b\"], [0.6666666666666666, \"#ed7953\"], [0.7777777777777778, \"#fb9f3a\"], [0.8888888888888888, \"#fdca26\"], [1.0, \"#f0f921\"]], \"type\": \"heatmapgl\"}], \"histogram\": [{\"marker\": {\"colorbar\": {\"outlinewidth\": 0, \"ticks\": \"\"}}, \"type\": \"histogram\"}], \"histogram2d\": [{\"colorbar\": {\"outlinewidth\": 0, \"ticks\": \"\"}, \"colorscale\": [[0.0, \"#0d0887\"], [0.1111111111111111, \"#46039f\"], [0.2222222222222222, \"#7201a8\"], [0.3333333333333333, \"#9c179e\"], [0.4444444444444444, \"#bd3786\"], [0.5555555555555556, \"#d8576b\"], [0.6666666666666666, \"#ed7953\"], [0.7777777777777778, \"#fb9f3a\"], [0.8888888888888888, \"#fdca26\"], [1.0, \"#f0f921\"]], \"type\": \"histogram2d\"}], \"histogram2dcontour\": [{\"colorbar\": {\"outlinewidth\": 0, \"ticks\": \"\"}, \"colorscale\": [[0.0, \"#0d0887\"], [0.1111111111111111, \"#46039f\"], [0.2222222222222222, \"#7201a8\"], [0.3333333333333333, \"#9c179e\"], [0.4444444444444444, \"#bd3786\"], [0.5555555555555556, \"#d8576b\"], [0.6666666666666666, \"#ed7953\"], [0.7777777777777778, \"#fb9f3a\"], [0.8888888888888888, \"#fdca26\"], [1.0, \"#f0f921\"]], \"type\": \"histogram2dcontour\"}], \"mesh3d\": [{\"colorbar\": {\"outlinewidth\": 0, \"ticks\": \"\"}, \"type\": \"mesh3d\"}], \"parcoords\": [{\"line\": {\"colorbar\": {\"outlinewidth\": 0, \"ticks\": \"\"}}, \"type\": \"parcoords\"}], \"pie\": [{\"automargin\": true, \"type\": \"pie\"}], \"scatter\": [{\"marker\": {\"colorbar\": {\"outlinewidth\": 0, \"ticks\": \"\"}}, \"type\": \"scatter\"}], \"scatter3d\": [{\"line\": {\"colorbar\": {\"outlinewidth\": 0, \"ticks\": \"\"}}, \"marker\": {\"colorbar\": {\"outlinewidth\": 0, \"ticks\": \"\"}}, \"type\": \"scatter3d\"}], \"scattercarpet\": [{\"marker\": {\"colorbar\": {\"outlinewidth\": 0, \"ticks\": \"\"}}, \"type\": \"scattercarpet\"}], \"scattergeo\": [{\"marker\": {\"colorbar\": {\"outlinewidth\": 0, \"ticks\": \"\"}}, \"type\": \"scattergeo\"}], \"scattergl\": [{\"marker\": {\"colorbar\": {\"outlinewidth\": 0, \"ticks\": \"\"}}, \"type\": \"scattergl\"}], \"scattermapbox\": [{\"marker\": {\"colorbar\": {\"outlinewidth\": 0, \"ticks\": \"\"}}, \"type\": \"scattermapbox\"}], \"scatterpolar\": [{\"marker\": {\"colorbar\": {\"outlinewidth\": 0, \"ticks\": \"\"}}, \"type\": \"scatterpolar\"}], \"scatterpolargl\": [{\"marker\": {\"colorbar\": {\"outlinewidth\": 0, \"ticks\": \"\"}}, \"type\": \"scatterpolargl\"}], \"scatterternary\": [{\"marker\": {\"colorbar\": {\"outlinewidth\": 0, \"ticks\": \"\"}}, \"type\": \"scatterternary\"}], \"surface\": [{\"colorbar\": {\"outlinewidth\": 0, \"ticks\": \"\"}, \"colorscale\": [[0.0, \"#0d0887\"], [0.1111111111111111, \"#46039f\"], [0.2222222222222222, \"#7201a8\"], [0.3333333333333333, \"#9c179e\"], [0.4444444444444444, \"#bd3786\"], [0.5555555555555556, \"#d8576b\"], [0.6666666666666666, \"#ed7953\"], [0.7777777777777778, \"#fb9f3a\"], [0.8888888888888888, \"#fdca26\"], [1.0, \"#f0f921\"]], \"type\": \"surface\"}], \"table\": [{\"cells\": {\"fill\": {\"color\": \"#EBF0F8\"}, \"line\": {\"color\": \"white\"}}, \"header\": {\"fill\": {\"color\": \"#C8D4E3\"}, \"line\": {\"color\": \"white\"}}, \"type\": \"table\"}]}, \"layout\": {\"annotationdefaults\": {\"arrowcolor\": \"#2a3f5f\", \"arrowhead\": 0, \"arrowwidth\": 1}, \"coloraxis\": {\"colorbar\": {\"outlinewidth\": 0, \"ticks\": \"\"}}, \"colorscale\": {\"diverging\": [[0, \"#8e0152\"], [0.1, \"#c51b7d\"], [0.2, \"#de77ae\"], [0.3, \"#f1b6da\"], [0.4, \"#fde0ef\"], [0.5, \"#f7f7f7\"], [0.6, \"#e6f5d0\"], [0.7, \"#b8e186\"], [0.8, \"#7fbc41\"], [0.9, \"#4d9221\"], [1, \"#276419\"]], \"sequential\": [[0.0, \"#0d0887\"], [0.1111111111111111, \"#46039f\"], [0.2222222222222222, \"#7201a8\"], [0.3333333333333333, \"#9c179e\"], [0.4444444444444444, \"#bd3786\"], [0.5555555555555556, \"#d8576b\"], [0.6666666666666666, \"#ed7953\"], [0.7777777777777778, \"#fb9f3a\"], [0.8888888888888888, \"#fdca26\"], [1.0, \"#f0f921\"]], \"sequentialminus\": [[0.0, \"#0d0887\"], [0.1111111111111111, \"#46039f\"], [0.2222222222222222, \"#7201a8\"], [0.3333333333333333, \"#9c179e\"], [0.4444444444444444, \"#bd3786\"], [0.5555555555555556, \"#d8576b\"], [0.6666666666666666, \"#ed7953\"], [0.7777777777777778, \"#fb9f3a\"], [0.8888888888888888, \"#fdca26\"], [1.0, \"#f0f921\"]]}, \"colorway\": [\"#636efa\", \"#EF553B\", \"#00cc96\", \"#ab63fa\", \"#FFA15A\", \"#19d3f3\", \"#FF6692\", \"#B6E880\", \"#FF97FF\", \"#FECB52\"], \"font\": {\"color\": \"#2a3f5f\"}, \"geo\": {\"bgcolor\": \"white\", \"lakecolor\": \"white\", \"landcolor\": \"white\", \"showlakes\": true, \"showland\": true, \"subunitcolor\": \"#C8D4E3\"}, \"hoverlabel\": {\"align\": \"left\"}, \"hovermode\": \"closest\", \"mapbox\": {\"style\": \"light\"}, \"paper_bgcolor\": \"white\", \"plot_bgcolor\": \"white\", \"polar\": {\"angularaxis\": {\"gridcolor\": \"#EBF0F8\", \"linecolor\": \"#EBF0F8\", \"ticks\": \"\"}, \"bgcolor\": \"white\", \"radialaxis\": {\"gridcolor\": \"#EBF0F8\", \"linecolor\": \"#EBF0F8\", \"ticks\": \"\"}}, \"scene\": {\"xaxis\": {\"backgroundcolor\": \"white\", \"gridcolor\": \"#DFE8F3\", \"gridwidth\": 2, \"linecolor\": \"#EBF0F8\", \"showbackground\": true, \"ticks\": \"\", \"zerolinecolor\": \"#EBF0F8\"}, \"yaxis\": {\"backgroundcolor\": \"white\", \"gridcolor\": \"#DFE8F3\", \"gridwidth\": 2, \"linecolor\": \"#EBF0F8\", \"showbackground\": true, \"ticks\": \"\", \"zerolinecolor\": \"#EBF0F8\"}, \"zaxis\": {\"backgroundcolor\": \"white\", \"gridcolor\": \"#DFE8F3\", \"gridwidth\": 2, \"linecolor\": \"#EBF0F8\", \"showbackground\": true, \"ticks\": \"\", \"zerolinecolor\": \"#EBF0F8\"}}, \"shapedefaults\": {\"line\": {\"color\": \"#2a3f5f\"}}, \"ternary\": {\"aaxis\": {\"gridcolor\": \"#DFE8F3\", \"linecolor\": \"#A2B1C6\", \"ticks\": \"\"}, \"baxis\": {\"gridcolor\": \"#DFE8F3\", \"linecolor\": \"#A2B1C6\", \"ticks\": \"\"}, \"bgcolor\": \"white\", \"caxis\": {\"gridcolor\": \"#DFE8F3\", \"linecolor\": \"#A2B1C6\", \"ticks\": \"\"}}, \"title\": {\"x\": 0.05}, \"xaxis\": {\"automargin\": true, \"gridcolor\": \"#EBF0F8\", \"linecolor\": \"#EBF0F8\", \"ticks\": \"\", \"title\": {\"standoff\": 15}, \"zerolinecolor\": \"#EBF0F8\", \"zerolinewidth\": 2}, \"yaxis\": {\"automargin\": true, \"gridcolor\": \"#EBF0F8\", \"linecolor\": \"#EBF0F8\", \"ticks\": \"\", \"title\": {\"standoff\": 15}, \"zerolinecolor\": \"#EBF0F8\", \"zerolinewidth\": 2}}}, \"title\": {\"text\": \"Driver Inputs for Veh1\"}, \"width\": 800, \"xaxis\": {\"anchor\": \"y\", \"domain\": [0.0, 0.94], \"linecolor\": \"black\", \"linewidth\": 1, \"showgrid\": false, \"showline\": true, \"tickcolor\": \"black\", \"ticklen\": 10, \"ticks\": \"outside\", \"tickwidth\": 1, \"title\": {\"text\": \"Time (s)\"}, \"zeroline\": false}, \"yaxis\": {\"anchor\": \"x\", \"autorange\": \"reversed\", \"domain\": [0.0, 1.0], \"linecolor\": \"black\", \"linewidth\": 1, \"showgrid\": false, \"showline\": true, \"tickcolor\": \"black\", \"ticklen\": 10, \"ticks\": \"outside\", \"tickwidth\": 1, \"title\": {\"text\": \"Brake | Throttle (%)\"}, \"zeroline\": false}, \"yaxis2\": {\"anchor\": \"x\", \"autorange\": \"reversed\", \"linecolor\": \"black\", \"linewidth\": 1, \"overlaying\": \"y\", \"showgrid\": false, \"showline\": true, \"side\": \"right\", \"tickcolor\": \"black\", \"ticklen\": 10, \"ticks\": \"outside\", \"tickwidth\": 1, \"title\": {\"text\": \"Steer Angle (deg)\"}, \"zeroline\": false}},\n",
       "                        {\"responsive\": true}\n",
       "                    ).then(function(){\n",
       "                            \n",
       "var gd = document.getElementById('6848f59e-8bf6-47ea-808a-592f44e2688f');\n",
       "var x = new MutationObserver(function (mutations, observer) {{\n",
       "        var display = window.getComputedStyle(gd).display;\n",
       "        if (!display || display === 'none') {{\n",
       "            console.log([gd, 'removed!']);\n",
       "            Plotly.purge(gd);\n",
       "            observer.disconnect();\n",
       "        }}\n",
       "}});\n",
       "\n",
       "// Listen for the removal of the full notebook cells\n",
       "var notebookContainer = gd.closest('#notebook-container');\n",
       "if (notebookContainer) {{\n",
       "    x.observe(notebookContainer, {childList: true});\n",
       "}}\n",
       "\n",
       "// Listen for the clearing of the current output cell\n",
       "var outputEl = gd.closest('.output');\n",
       "if (outputEl) {{\n",
       "    x.observe(outputEl, {childList: true});\n",
       "}}\n",
       "\n",
       "                        })\n",
       "                };\n",
       "                });\n",
       "            </script>\n",
       "        </div>"
      ]
     },
     "metadata": {},
     "output_type": "display_data"
    }
   ],
   "source": [
    "run.plot_inputs()"
   ]
  },
  {
   "cell_type": "markdown",
   "metadata": {},
   "source": [
    "### Plot Motion"
   ]
  },
  {
   "cell_type": "code",
   "execution_count": 64,
   "metadata": {},
   "outputs": [
    {
     "data": {
      "application/vnd.plotly.v1+json": {
       "config": {
        "plotlyServerURL": "https://plot.ly"
       },
       "data": [
        {
         "line": {
          "color": "rgb(0, 255, 0)",
          "width": 2
         },
         "mode": "lines",
         "name": "X",
         "type": "scatter",
         "x": [
          0,
          0.1,
          0.2,
          0.3,
          0.4,
          0.5,
          0.6,
          0.7,
          0.8,
          0.9,
          1,
          1.1,
          1.2,
          1.3,
          1.4,
          1.5,
          1.6,
          1.7,
          1.8,
          1.9,
          2,
          2.1,
          2.2,
          2.3,
          2.4,
          2.5,
          2.6,
          2.7,
          2.8,
          2.9,
          3,
          3.1,
          3.2,
          3.3,
          3.4,
          3.5,
          3.6,
          3.7,
          3.8,
          3.9,
          4,
          4.1,
          4.2,
          4.3,
          4.4,
          4.5,
          4.6,
          4.7,
          4.8,
          4.9,
          5,
          5.1,
          5.2,
          5.3,
          5.4,
          5.5,
          5.6,
          5.7,
          5.8,
          5.9,
          6,
          6.1,
          6.2,
          6.3,
          6.4,
          6.5,
          6.6,
          6.7,
          6.8,
          6.9,
          7,
          7.1,
          7.2,
          7.3,
          7.4,
          7.5,
          7.6,
          7.7,
          7.8,
          7.9,
          8,
          8.1,
          8.2,
          8.3,
          8.4,
          8.5,
          8.6,
          8.7,
          8.8,
          8.9,
          9,
          9.1,
          9.2,
          9.3,
          9.4,
          9.5,
          9.6,
          9.7,
          9.8,
          9.9,
          10,
          10.1,
          10.2,
          10.3,
          10.4,
          10.5,
          10.6,
          10.7,
          10.8,
          10.9
         ],
         "xaxis": "x",
         "y": [
          15,
          15,
          15,
          15,
          15,
          15,
          15,
          15,
          15,
          15,
          15,
          14.99598938704336,
          14.975784201743496,
          14.928459319606533,
          14.849199179583502,
          14.72703246834814,
          14.536620913396185,
          14.242991975125015,
          13.811904666483217,
          13.215949751482215,
          12.444071153579632,
          11.573196155751582,
          10.69074801672706,
          9.77008682891051,
          8.751127206061797,
          7.626113764475937,
          6.442104036288723,
          5.256323327894339,
          4.100635037393592,
          2.978444022306622,
          1.8822887212777824,
          0.8098981245435156,
          -0.2325139291589407,
          -1.2359608718719524,
          -2.1943585582493026,
          -3.105495099553564,
          -3.9686999558314997,
          -4.782676845836242,
          -5.545195280642848,
          -6.253986096880033,
          -6.907497211507724,
          -7.504936839953823,
          -8.045914332237041,
          -8.530176505586331,
          -8.957604453699268,
          -9.328325042738689,
          -9.642764795877007,
          -9.901614489092095,
          -10.10577040959649,
          -10.256305058431408,
          -10.35446425083619,
          -10.401663751240834,
          -10.399473790536572,
          -10.34959918622835,
          -10.253864187354749,
          -10.1142017089076,
          -9.93264179193712,
          -9.711297492069717,
          -9.452350780863998,
          -9.158040870663058,
          -8.830654362612732,
          -8.472515190144208,
          -8.085973655033591,
          -7.6733955999423396,
          -7.237152845063894,
          -6.779614841459606,
          -6.303140724636995,
          -5.810071295756519,
          -5.3027211966825885,
          -4.783371762771922,
          -4.254264667379532,
          -3.717596096154081,
          -3.1755112064084403,
          -2.6300988882281584,
          -2.0833869909654705,
          -1.5373380935776135,
          -0.9938457478014026,
          -0.4547310888025565,
          0.07826021500668524,
          0.6034606335557938,
          1.1192830394815454,
          1.624222587488027,
          2.116858253899012,
          2.5958540622946176,
          3.0599599954554852,
          3.5080125918314105,
          3.9389352402382167,
          4.3517381965557025,
          4.7455183419730185,
          5.119458693610164,
          5.472827676239714,
          5.804978168134241,
          6.115346337579763,
          6.4034502856143645,
          6.668888507675591,
          6.911338185770787,
          7.130553323788504,
          7.326362739464633,
          7.4986679260545515,
          7.647440795690843,
          7.7727213158578445,
          7.874615050457631,
          7.953290616913911,
          8.008977070330355,
          8.04196122515551,
          8.05258492442024,
          8.041242266363405,
          8.008376797939755,
          7.954478684267184,
          7.880081862640146
         ],
         "yaxis": "y"
        },
        {
         "line": {
          "color": "rgb(0, 0, 255)",
          "width": 2
         },
         "mode": "lines",
         "name": "Y",
         "type": "scatter",
         "x": [
          0,
          0.1,
          0.2,
          0.3,
          0.4,
          0.5,
          0.6,
          0.7,
          0.8,
          0.9,
          1,
          1.1,
          1.2,
          1.3,
          1.4,
          1.5,
          1.6,
          1.7,
          1.8,
          1.9,
          2,
          2.1,
          2.2,
          2.3,
          2.4,
          2.5,
          2.6,
          2.7,
          2.8,
          2.9,
          3,
          3.1,
          3.2,
          3.3,
          3.4,
          3.5,
          3.6,
          3.7,
          3.8,
          3.9,
          4,
          4.1,
          4.2,
          4.3,
          4.4,
          4.5,
          4.6,
          4.7,
          4.8,
          4.9,
          5,
          5.1,
          5.2,
          5.3,
          5.4,
          5.5,
          5.6,
          5.7,
          5.8,
          5.9,
          6,
          6.1,
          6.2,
          6.3,
          6.4,
          6.5,
          6.6,
          6.7,
          6.8,
          6.9,
          7,
          7.1,
          7.2,
          7.3,
          7.4,
          7.5,
          7.6,
          7.7,
          7.8,
          7.9,
          8,
          8.1,
          8.2,
          8.3,
          8.4,
          8.5,
          8.6,
          8.7,
          8.8,
          8.9,
          9,
          9.1,
          9.2,
          9.3,
          9.4,
          9.5,
          9.6,
          9.7,
          9.8,
          9.9,
          10,
          10.1,
          10.2,
          10.3,
          10.4,
          10.5,
          10.6,
          10.7,
          10.8,
          10.9
         ],
         "xaxis": "x",
         "y": [
          0,
          0,
          0,
          0,
          0,
          0,
          0,
          0,
          0,
          0,
          0,
          -0.10882398290465473,
          -0.412442092124285,
          -0.8317640399662393,
          -1.2955049748596719,
          -1.8118318700082878,
          -2.4295251864576923,
          -3.1798702087016415,
          -4.055164604752743,
          -5.019496440223645,
          -6.016721455369647,
          -6.952610637738222,
          -7.76892833490736,
          -8.496442238250383,
          -9.167176921961273,
          -9.768208090659478,
          -10.268492730062967,
          -10.650711655025786,
          -10.917027161399018,
          -11.078027885057429,
          -11.14275616386759,
          -11.11699605191791,
          -11.006079803043518,
          -10.816552777814444,
          -10.55532725877179,
          -10.228366643954587,
          -9.840612275313328,
          -9.396864567540183,
          -8.902408208353824,
          -8.36283798834839,
          -7.78352204364295,
          -7.169340008766759,
          -6.524843153337162,
          -5.854529704538344,
          -5.162932036242302,
          -4.454500487456791,
          -3.7334632308452305,
          -3.0037953710775382,
          -2.2692782906177524,
          -1.5335548374951162,
          -0.8001277452209768,
          -0.07232284105058767,
          0.6467368256291559,
          1.3541280782362473,
          2.047111604027124,
          2.7231237392793477,
          3.3797804250612855,
          4.014883891569746,
          4.626423486029874,
          5.212570731809946,
          5.771673690426785,
          6.302253761619549,
          6.803003960309702,
          7.272786316580097,
          7.710627560087151,
          8.115713957230893,
          8.487386313964214,
          8.825135271394695,
          9.12859643011415,
          9.397545001999825,
          9.631890107685539,
          9.831668974201525,
          9.997041127331151,
          10.128282515364456,
          10.22577950837642,
          10.290022805079344,
          10.32160131425477,
          10.321196044140414,
          10.289573999260805,
          10.227582088878773,
          10.136141071122056,
          10.016239559362846,
          9.868928104190559,
          9.695313356687274,
          9.49655232402321,
          9.273846734886888,
          9.028437529781586,
          8.761599483816147,
          8.474635966714816,
          8.168873847876393,
          7.84565855709138,
          7.506349309594107,
          7.1523144999684645,
          6.784927267655096,
          6.405561238040031,
          6.015586444228673,
          5.616365433475532,
          5.209249559982938,
          4.79557546460656,
          4.376661742282751,
          3.9538057983084713,
          3.5282808939175303,
          3.1013333803711656,
          2.674180120023417,
          2.24800609273958,
          1.8239621860224955,
          1.4031631667570885,
          0.9866858318056649,
          0.5755673342177526,
          0.17080368165714183
         ],
         "yaxis": "y"
        },
        {
         "line": {
          "color": "rgb(0, 0, 0)",
          "width": 2
         },
         "mode": "lines",
         "name": "Resultant",
         "type": "scatter",
         "x": [
          0,
          0.1,
          0.2,
          0.3,
          0.4,
          0.5,
          0.6,
          0.7,
          0.8,
          0.9,
          1,
          1.1,
          1.2,
          1.3,
          1.4,
          1.5,
          1.6,
          1.7,
          1.8,
          1.9,
          2,
          2.1,
          2.2,
          2.3,
          2.4,
          2.5,
          2.6,
          2.7,
          2.8,
          2.9,
          3,
          3.1,
          3.2,
          3.3,
          3.4,
          3.5,
          3.6,
          3.7,
          3.8,
          3.9,
          4,
          4.1,
          4.2,
          4.3,
          4.4,
          4.5,
          4.6,
          4.7,
          4.8,
          4.9,
          5,
          5.1,
          5.2,
          5.3,
          5.4,
          5.5,
          5.6,
          5.7,
          5.8,
          5.9,
          6,
          6.1,
          6.2,
          6.3,
          6.4,
          6.5,
          6.6,
          6.7,
          6.8,
          6.9,
          7,
          7.1,
          7.2,
          7.3,
          7.4,
          7.5,
          7.6,
          7.7,
          7.8,
          7.9,
          8,
          8.1,
          8.2,
          8.3,
          8.4,
          8.5,
          8.6,
          8.7,
          8.8,
          8.9,
          9,
          9.1,
          9.2,
          9.3,
          9.4,
          9.5,
          9.6,
          9.7,
          9.8,
          9.9,
          10,
          10.1,
          10.2,
          10.3,
          10.4,
          10.5,
          10.6,
          10.7,
          10.8,
          10.9
         ],
         "xaxis": "x",
         "y": [
          15,
          15,
          15,
          15,
          15,
          15,
          15,
          15,
          15,
          15,
          15,
          14.996384242729057,
          14.981462576682757,
          14.951612925545128,
          14.90560463097118,
          14.838066587293577,
          14.738247528502823,
          14.593642278323252,
          14.39489737676724,
          14.137067317768587,
          13.822295176520365,
          13.501024551473634,
          13.215458396517317,
          12.9477460336684,
          12.673569351023978,
          12.39255826902398,
          12.121990239301608,
          11.87714585604927,
          11.661761863141601,
          11.471435420910673,
          11.30062059170463,
          11.146458459551067,
          11.00853556828588,
          10.886937736206809,
          10.781008441789327,
          10.689414577820154,
          10.610760071383403,
          10.543958531424062,
          10.488186812248783,
          10.442672135010833,
          10.406571631947898,
          10.378993840108002,
          10.359069244741454,
          10.345986143320454,
          10.33898180479055,
          10.337321833808724,
          10.340293061837185,
          10.347210064645704,
          10.35742340216644,
          10.370322265542686,
          10.385332653820823,
          10.401915178812754,
          10.41956446506676,
          10.43780945255499,
          10.456213305592938,
          10.474372492321255,
          10.491915396559548,
          10.508500922694244,
          10.523817252147106,
          10.537580662697517,
          10.549534286436346,
          10.559446771638754,
          10.567110902885744,
          10.572342258924895,
          10.57497795142817,
          10.574875433504248,
          10.571911342659114,
          10.565980362474109,
          10.556994121133139,
          10.5448801551035,
          10.529580946393091,
          10.511053018247836,
          10.489266071731429,
          10.464202161316283,
          10.435854919845102,
          10.404228839419952,
          10.369338602864152,
          10.331208455195515,
          10.289871609865541,
          10.245369691768348,
          10.197752219786398,
          10.147076126857998,
          10.093405312023421,
          10.036810220238806,
          9.97736744921718,
          9.915159383823333,
          9.8502738569016,
          9.782803833572931,
          9.712847116182704,
          9.640506068568161,
          9.565887359167291,
          9.489101721983968,
          9.410263733552283,
          9.329491603924854,
          9.246906980287436,
          9.162634762233033,
          9.076802927558253,
          8.989542367017252,
          8.900986726311622,
          8.811272253764383,
          8.720537652274004,
          8.628923934030091,
          8.536574276212637,
          8.443633875731814,
          8.350249801047811,
          8.256570839097796,
          8.162747335235425,
          8.068931023900616,
          7.975274847594879,
          7.8819327616757695
         ],
         "yaxis": "y"
        },
        {
         "line": {
          "color": "rgb(0, 255, 0)",
          "width": 2
         },
         "mode": "lines",
         "name": "AX",
         "showlegend": false,
         "type": "scatter",
         "x": [
          0,
          0.1,
          0.2,
          0.3,
          0.4,
          0.5,
          0.6,
          0.7,
          0.8,
          0.9,
          1,
          1.1,
          1.2,
          1.3,
          1.4,
          1.5,
          1.6,
          1.7,
          1.8,
          1.9,
          2,
          2.1,
          2.2,
          2.3,
          2.4,
          2.5,
          2.6,
          2.7,
          2.8,
          2.9,
          3,
          3.1,
          3.2,
          3.3,
          3.4,
          3.5,
          3.6,
          3.7,
          3.8,
          3.9,
          4,
          4.1,
          4.2,
          4.3,
          4.4,
          4.5,
          4.6,
          4.7,
          4.8,
          4.9,
          5,
          5.1,
          5.2,
          5.3,
          5.4,
          5.5,
          5.6,
          5.7,
          5.8,
          5.9,
          6,
          6.1,
          6.2,
          6.3,
          6.4,
          6.5,
          6.6,
          6.7,
          6.8,
          6.9,
          7,
          7.1,
          7.2,
          7.3,
          7.4,
          7.5,
          7.6,
          7.7,
          7.8,
          7.9,
          8,
          8.1,
          8.2,
          8.3,
          8.4,
          8.5,
          8.6,
          8.7,
          8.8,
          8.9,
          9,
          9.1,
          9.2,
          9.3,
          9.4,
          9.5,
          9.6,
          9.7,
          9.8,
          9.9,
          10,
          10.1,
          10.2,
          10.3,
          10.4,
          10.5,
          10.6,
          10.7,
          10.8,
          10.9
         ],
         "xaxis": "x2",
         "y": [
          0,
          0,
          0,
          0,
          0,
          0,
          0,
          0,
          0,
          0,
          0,
          -0.003653568760939135,
          -0.014752853055057172,
          -0.02835893879824673,
          -0.0438450795667108,
          -0.06744575917090867,
          -0.10601443666846122,
          -0.16147423096767344,
          -0.2312355969613107,
          -0.3116645242713119,
          -0.3914977013099188,
          -0.40184778506552615,
          -0.40204054540844625,
          -0.43665892312254695,
          -0.4915879775256028,
          -0.5332713171146038,
          -0.5453321288731856,
          -0.534884636083827,
          -0.5179186838097952,
          -0.5043694504123196,
          -0.4942007951528778,
          -0.4827203952273997,
          -0.4668910872594211,
          -0.44722414719330733,
          -0.42585233397381544,
          -0.4041704182216634,
          -0.38218775976415026,
          -0.3593249640018471,
          -0.3353103855495844,
          -0.31038043833277107,
          -0.2849519507920716,
          -0.25930070750174206,
          -0.23351634753367903,
          -0.2076344610291787,
          -0.181741780373804,
          -0.15597546579169183,
          -0.13047133714953446,
          -0.10533430232113272,
          -0.0806466690615872,
          -0.056486656035749774,
          -0.03293392950730486,
          -0.010063642702932616,
          0.012058642495554751,
          0.03337588290863038,
          0.053836322555932355,
          0.07339272543417832,
          0.09200384812053747,
          0.10963530982140439,
          0.1262587106283408,
          0.14185030551725827,
          0.15639066949030167,
          0.1698652187608848,
          0.18226451620848746,
          0.19358384159318015,
          0.20382246977177054,
          0.21298328410791903,
          0.22107279845122305,
          0.22810120108674523,
          0.2340821341981998,
          0.23903229700289175,
          0.24297112138167687,
          0.24592061362405732,
          0.24790525298664962,
          0.24895181825898638,
          0.2490891372430423,
          0.24834784184506226,
          0.24676018224164284,
          0.2443598779532872,
          0.24118195779696153,
          0.23726257504367265,
          0.23263882129118563,
          0.227348561860781,
          0.22143029084418764,
          0.21492299008722987,
          0.20786598444013013,
          0.20029879911681264,
          0.1922610274290324,
          0.1837922098021268,
          0.17493171931539767,
          0.16571865058252344,
          0.15619171323939018,
          0.1463891326903896,
          0.13634855866406007,
          0.12610698013339966,
          0.11570064542594113,
          0.1051649877242952,
          0.09453455667101197,
          0.08384295617973817,
          0.0731227879294768,
          0.06240560008882024,
          0.05172184122381195,
          0.04110081947523742,
          0.03057066689397436,
          0.02015830865403634,
          0.009889436909573633,
          -0.000211510822245658,
          -0.010121368862362201,
          -0.019818256338205827,
          -0.029281586133937113,
          -0.03849207000005624
         ],
         "yaxis": "y2"
        },
        {
         "line": {
          "color": "rgb(0, 0, 255)",
          "width": 2
         },
         "mode": "lines",
         "name": "AY",
         "showlegend": false,
         "type": "scatter",
         "x": [
          0,
          0.1,
          0.2,
          0.3,
          0.4,
          0.5,
          0.6,
          0.7,
          0.8,
          0.9,
          1,
          1.1,
          1.2,
          1.3,
          1.4,
          1.5,
          1.6,
          1.7,
          1.8,
          1.9,
          2,
          2.1,
          2.2,
          2.3,
          2.4,
          2.5,
          2.6,
          2.7,
          2.8,
          2.9,
          3,
          3.1,
          3.2,
          3.3,
          3.4,
          3.5,
          3.6,
          3.7,
          3.8,
          3.9,
          4,
          4.1,
          4.2,
          4.3,
          4.4,
          4.5,
          4.6,
          4.7,
          4.8,
          4.9,
          5,
          5.1,
          5.2,
          5.3,
          5.4,
          5.5,
          5.6,
          5.7,
          5.8,
          5.9,
          6,
          6.1,
          6.2,
          6.3,
          6.4,
          6.5,
          6.6,
          6.7,
          6.8,
          6.9,
          7,
          7.1,
          7.2,
          7.3,
          7.4,
          7.5,
          7.6,
          7.7,
          7.8,
          7.9,
          8,
          8.1,
          8.2,
          8.3,
          8.4,
          8.5,
          8.6,
          8.7,
          8.8,
          8.9,
          9,
          9.1,
          9.2,
          9.3,
          9.4,
          9.5,
          9.6,
          9.7,
          9.8,
          9.9,
          10,
          10.1,
          10.2,
          10.3,
          10.4,
          10.5,
          10.6,
          10.7,
          10.8,
          10.9
         ],
         "xaxis": "x2",
         "y": [
          0,
          0,
          0,
          0,
          0,
          0,
          0,
          0,
          0,
          0,
          0,
          -0.0991359447247018,
          -0.17745260946732,
          -0.2045392670801078,
          -0.21791720309389884,
          -0.2524437703890951,
          -0.31025949447851225,
          -0.3732861786733716,
          -0.42408526968455956,
          -0.4543970738745133,
          -0.4540501391467214,
          -0.3985216540858989,
          -0.3451234868501625,
          -0.31762360421574526,
          -0.29339902842913007,
          -0.25412543380353875,
          -0.20162144326100503,
          -0.14657050125776386,
          -0.09603630851393044,
          -0.05063135072090293,
          -0.008334503119158287,
          0.03180132510253575,
          0.06924062193883317,
          0.10341378929888588,
          0.134556168473964,
          0.16329682837941825,
          0.1899377678038582,
          0.21430536918970716,
          0.23613208939902275,
          0.25540297555462405,
          0.27233945712930596,
          0.28716511746191364,
          0.2999555054902156,
          0.3106833926152269,
          0.31934490065170207,
          0.3260186395080781,
          0.3308283872959452,
          0.33388090455839065,
          0.33524590686891,
          0.3349798800822554,
          0.3331539791883732,
          0.3298582064014309,
          0.3251872851073761,
          0.31922857107973085,
          0.31206220393375045,
          0.3037680559484724,
          0.2944298703470524,
          0.2841336086740425,
          0.2729637683488373,
          0.2610018098923174,
          0.2483270946508866,
          0.23501816809215106,
          0.2211528219158531,
          0.20680723303514084,
          0.19205526175646787,
          0.17696838178316704,
          0.1616159011050685,
          0.14606500783565432,
          0.1303805683501007,
          0.11462489868565155,
          0.09885767035538327,
          0.08313591359058171,
          0.06751400928558489,
          0.05204363455715332,
          0.03677370379120409,
          0.021750343398411108,
          0.007016893901166179,
          -0.007386084906520887,
          -0.0214208123379379,
          -0.03505227784840506,
          -0.04824821750143604,
          -0.06097908079165812,
          -0.0732179949583655,
          -0.08494072660725033,
          -0.09612563598741092,
          -0.10675362265766287,
          -0.11680806607015895,
          -0.12627476428768633,
          -0.13514187026325045,
          -0.14339982342417254,
          -0.15104127628741335,
          -0.1580610181391866,
          -0.1644558975338817,
          -0.17022474347049577,
          -0.17536828426585638,
          -0.17988906408153785,
          -0.18379135818014522,
          -0.18708108789152086,
          -0.18976573537908284,
          -0.19185425786356278,
          -0.19335700135926778,
          -0.19428561449356524,
          -0.19465296295553206,
          -0.1944730447179038,
          -0.19376090596308088,
          -0.1925325578038424,
          -0.19080489411292428,
          -0.1885956107648424,
          -0.18592312641358197,
          -0.1828065048293192
         ],
         "yaxis": "y2"
        },
        {
         "line": {
          "color": "rgb(0, 0, 0)",
          "width": 2
         },
         "mode": "lines",
         "name": "AR",
         "showlegend": false,
         "type": "scatter",
         "x": [
          0,
          0.1,
          0.2,
          0.3,
          0.4,
          0.5,
          0.6,
          0.7,
          0.8,
          0.9,
          1,
          1.1,
          1.2,
          1.3,
          1.4,
          1.5,
          1.6,
          1.7,
          1.8,
          1.9,
          2,
          2.1,
          2.2,
          2.3,
          2.4,
          2.5,
          2.6,
          2.7,
          2.8,
          2.9,
          3,
          3.1,
          3.2,
          3.3,
          3.4,
          3.5,
          3.6,
          3.7,
          3.8,
          3.9,
          4,
          4.1,
          4.2,
          4.3,
          4.4,
          4.5,
          4.6,
          4.7,
          4.8,
          4.9,
          5,
          5.1,
          5.2,
          5.3,
          5.4,
          5.5,
          5.6,
          5.7,
          5.8,
          5.9,
          6,
          6.1,
          6.2,
          6.3,
          6.4,
          6.5,
          6.6,
          6.7,
          6.8,
          6.9,
          7,
          7.1,
          7.2,
          7.3,
          7.4,
          7.5,
          7.6,
          7.7,
          7.8,
          7.9,
          8,
          8.1,
          8.2,
          8.3,
          8.4,
          8.5,
          8.6,
          8.7,
          8.8,
          8.9,
          9,
          9.1,
          9.2,
          9.3,
          9.4,
          9.5,
          9.6,
          9.7,
          9.8,
          9.9,
          10,
          10.1,
          10.2,
          10.3,
          10.4,
          10.5,
          10.6,
          10.7,
          10.8,
          10.9
         ],
         "xaxis": "x2",
         "y": [
          0,
          0,
          0,
          0,
          0,
          0,
          0,
          0,
          0,
          0,
          0,
          0.09920324642444946,
          0.17806480640493028,
          0.20649586239784654,
          0.22228427386227473,
          0.26129827331691724,
          0.3278719486265837,
          0.40671427127059345,
          0.48303024466950234,
          0.5510095066647971,
          0.5995264622934566,
          0.5659515448670762,
          0.5298554721128539,
          0.5399590439075381,
          0.5724873182271115,
          0.5907266997207602,
          0.5814106441784597,
          0.5546029983307701,
          0.5267473166445686,
          0.5069044053715142,
          0.4942710692241454,
          0.48376678704389586,
          0.4719974058072362,
          0.4590248900113537,
          0.44660449261661017,
          0.43591235486534613,
          0.4267831291790389,
          0.41837927890667026,
          0.41011147058008396,
          0.40195359983684553,
          0.39416544010059057,
          0.386911697416631,
          0.38013575185630827,
          0.37367932757082617,
          0.3674387572176967,
          0.3614090469753537,
          0.3556264777240629,
          0.350102518805862,
          0.3448096624270947,
          0.3397090849094609,
          0.33477786301044327,
          0.33001168651249496,
          0.3254107884725728,
          0.32096858125607464,
          0.31667202078860085,
          0.31250843822426766,
          0.3084698633927941,
          0.3045518161787404,
          0.3007498642405825,
          0.2970579976072095,
          0.29346956816912917,
          0.2899788472942015,
          0.2865814448111723,
          0.2832736051269594,
          0.28005146447074636,
          0.27691097388934827,
          0.27384828227516483,
          0.2708600089552637,
          0.26794316217078445,
          0.26509490076041553,
          0.26231241833653846,
          0.25959300517112077,
          0.2569341470264098,
          0.25433353635015166,
          0.2517890060805006,
          0.24929847169015873,
          0.2468599285828889,
          0.24447147932548643,
          0.24213134445583967,
          0.23983784459237492,
          0.23758937615941098,
          0.23538440235997146,
          0.23322145803734434,
          0.23109915340520648,
          0.22901616838391267,
          0.2269712424034638,
          0.22496316802338504,
          0.2229907901234034,
          0.22105300613402726,
          0.2191487634210523,
          0.2172770545344966,
          0.2154369133297281,
          0.21362741323023418,
          0.21184766632644728,
          0.21009682167593483,
          0.2083740627313841,
          0.20667860495631185,
          0.20500969427720353,
          0.20336660600635328,
          0.20174864357121264,
          0.20015513691691525,
          0.19858544095849096,
          0.1970389343802642,
          0.19551501868051777,
          0.19401311719062275,
          0.1925326739837107,
          0.19107315281088613,
          0.1896340361961712,
          0.18821482466033315,
          0.18681503596017407
         ],
         "yaxis": "y2"
        }
       ],
       "layout": {
        "autosize": false,
        "font": {
         "color": "black",
         "family": "Arial",
         "size": 14
        },
        "height": 500,
        "legend": {
         "orientation": "h",
         "x": 0.01,
         "xanchor": "left",
         "y": 1.1,
         "yanchor": "top"
        },
        "template": {
         "data": {
          "bar": [
           {
            "error_x": {
             "color": "#2a3f5f"
            },
            "error_y": {
             "color": "#2a3f5f"
            },
            "marker": {
             "line": {
              "color": "white",
              "width": 0.5
             }
            },
            "type": "bar"
           }
          ],
          "barpolar": [
           {
            "marker": {
             "line": {
              "color": "white",
              "width": 0.5
             }
            },
            "type": "barpolar"
           }
          ],
          "carpet": [
           {
            "aaxis": {
             "endlinecolor": "#2a3f5f",
             "gridcolor": "#C8D4E3",
             "linecolor": "#C8D4E3",
             "minorgridcolor": "#C8D4E3",
             "startlinecolor": "#2a3f5f"
            },
            "baxis": {
             "endlinecolor": "#2a3f5f",
             "gridcolor": "#C8D4E3",
             "linecolor": "#C8D4E3",
             "minorgridcolor": "#C8D4E3",
             "startlinecolor": "#2a3f5f"
            },
            "type": "carpet"
           }
          ],
          "choropleth": [
           {
            "colorbar": {
             "outlinewidth": 0,
             "ticks": ""
            },
            "type": "choropleth"
           }
          ],
          "contour": [
           {
            "colorbar": {
             "outlinewidth": 0,
             "ticks": ""
            },
            "colorscale": [
             [
              0,
              "#0d0887"
             ],
             [
              0.1111111111111111,
              "#46039f"
             ],
             [
              0.2222222222222222,
              "#7201a8"
             ],
             [
              0.3333333333333333,
              "#9c179e"
             ],
             [
              0.4444444444444444,
              "#bd3786"
             ],
             [
              0.5555555555555556,
              "#d8576b"
             ],
             [
              0.6666666666666666,
              "#ed7953"
             ],
             [
              0.7777777777777778,
              "#fb9f3a"
             ],
             [
              0.8888888888888888,
              "#fdca26"
             ],
             [
              1,
              "#f0f921"
             ]
            ],
            "type": "contour"
           }
          ],
          "contourcarpet": [
           {
            "colorbar": {
             "outlinewidth": 0,
             "ticks": ""
            },
            "type": "contourcarpet"
           }
          ],
          "heatmap": [
           {
            "colorbar": {
             "outlinewidth": 0,
             "ticks": ""
            },
            "colorscale": [
             [
              0,
              "#0d0887"
             ],
             [
              0.1111111111111111,
              "#46039f"
             ],
             [
              0.2222222222222222,
              "#7201a8"
             ],
             [
              0.3333333333333333,
              "#9c179e"
             ],
             [
              0.4444444444444444,
              "#bd3786"
             ],
             [
              0.5555555555555556,
              "#d8576b"
             ],
             [
              0.6666666666666666,
              "#ed7953"
             ],
             [
              0.7777777777777778,
              "#fb9f3a"
             ],
             [
              0.8888888888888888,
              "#fdca26"
             ],
             [
              1,
              "#f0f921"
             ]
            ],
            "type": "heatmap"
           }
          ],
          "heatmapgl": [
           {
            "colorbar": {
             "outlinewidth": 0,
             "ticks": ""
            },
            "colorscale": [
             [
              0,
              "#0d0887"
             ],
             [
              0.1111111111111111,
              "#46039f"
             ],
             [
              0.2222222222222222,
              "#7201a8"
             ],
             [
              0.3333333333333333,
              "#9c179e"
             ],
             [
              0.4444444444444444,
              "#bd3786"
             ],
             [
              0.5555555555555556,
              "#d8576b"
             ],
             [
              0.6666666666666666,
              "#ed7953"
             ],
             [
              0.7777777777777778,
              "#fb9f3a"
             ],
             [
              0.8888888888888888,
              "#fdca26"
             ],
             [
              1,
              "#f0f921"
             ]
            ],
            "type": "heatmapgl"
           }
          ],
          "histogram": [
           {
            "marker": {
             "colorbar": {
              "outlinewidth": 0,
              "ticks": ""
             }
            },
            "type": "histogram"
           }
          ],
          "histogram2d": [
           {
            "colorbar": {
             "outlinewidth": 0,
             "ticks": ""
            },
            "colorscale": [
             [
              0,
              "#0d0887"
             ],
             [
              0.1111111111111111,
              "#46039f"
             ],
             [
              0.2222222222222222,
              "#7201a8"
             ],
             [
              0.3333333333333333,
              "#9c179e"
             ],
             [
              0.4444444444444444,
              "#bd3786"
             ],
             [
              0.5555555555555556,
              "#d8576b"
             ],
             [
              0.6666666666666666,
              "#ed7953"
             ],
             [
              0.7777777777777778,
              "#fb9f3a"
             ],
             [
              0.8888888888888888,
              "#fdca26"
             ],
             [
              1,
              "#f0f921"
             ]
            ],
            "type": "histogram2d"
           }
          ],
          "histogram2dcontour": [
           {
            "colorbar": {
             "outlinewidth": 0,
             "ticks": ""
            },
            "colorscale": [
             [
              0,
              "#0d0887"
             ],
             [
              0.1111111111111111,
              "#46039f"
             ],
             [
              0.2222222222222222,
              "#7201a8"
             ],
             [
              0.3333333333333333,
              "#9c179e"
             ],
             [
              0.4444444444444444,
              "#bd3786"
             ],
             [
              0.5555555555555556,
              "#d8576b"
             ],
             [
              0.6666666666666666,
              "#ed7953"
             ],
             [
              0.7777777777777778,
              "#fb9f3a"
             ],
             [
              0.8888888888888888,
              "#fdca26"
             ],
             [
              1,
              "#f0f921"
             ]
            ],
            "type": "histogram2dcontour"
           }
          ],
          "mesh3d": [
           {
            "colorbar": {
             "outlinewidth": 0,
             "ticks": ""
            },
            "type": "mesh3d"
           }
          ],
          "parcoords": [
           {
            "line": {
             "colorbar": {
              "outlinewidth": 0,
              "ticks": ""
             }
            },
            "type": "parcoords"
           }
          ],
          "pie": [
           {
            "automargin": true,
            "type": "pie"
           }
          ],
          "scatter": [
           {
            "marker": {
             "colorbar": {
              "outlinewidth": 0,
              "ticks": ""
             }
            },
            "type": "scatter"
           }
          ],
          "scatter3d": [
           {
            "line": {
             "colorbar": {
              "outlinewidth": 0,
              "ticks": ""
             }
            },
            "marker": {
             "colorbar": {
              "outlinewidth": 0,
              "ticks": ""
             }
            },
            "type": "scatter3d"
           }
          ],
          "scattercarpet": [
           {
            "marker": {
             "colorbar": {
              "outlinewidth": 0,
              "ticks": ""
             }
            },
            "type": "scattercarpet"
           }
          ],
          "scattergeo": [
           {
            "marker": {
             "colorbar": {
              "outlinewidth": 0,
              "ticks": ""
             }
            },
            "type": "scattergeo"
           }
          ],
          "scattergl": [
           {
            "marker": {
             "colorbar": {
              "outlinewidth": 0,
              "ticks": ""
             }
            },
            "type": "scattergl"
           }
          ],
          "scattermapbox": [
           {
            "marker": {
             "colorbar": {
              "outlinewidth": 0,
              "ticks": ""
             }
            },
            "type": "scattermapbox"
           }
          ],
          "scatterpolar": [
           {
            "marker": {
             "colorbar": {
              "outlinewidth": 0,
              "ticks": ""
             }
            },
            "type": "scatterpolar"
           }
          ],
          "scatterpolargl": [
           {
            "marker": {
             "colorbar": {
              "outlinewidth": 0,
              "ticks": ""
             }
            },
            "type": "scatterpolargl"
           }
          ],
          "scatterternary": [
           {
            "marker": {
             "colorbar": {
              "outlinewidth": 0,
              "ticks": ""
             }
            },
            "type": "scatterternary"
           }
          ],
          "surface": [
           {
            "colorbar": {
             "outlinewidth": 0,
             "ticks": ""
            },
            "colorscale": [
             [
              0,
              "#0d0887"
             ],
             [
              0.1111111111111111,
              "#46039f"
             ],
             [
              0.2222222222222222,
              "#7201a8"
             ],
             [
              0.3333333333333333,
              "#9c179e"
             ],
             [
              0.4444444444444444,
              "#bd3786"
             ],
             [
              0.5555555555555556,
              "#d8576b"
             ],
             [
              0.6666666666666666,
              "#ed7953"
             ],
             [
              0.7777777777777778,
              "#fb9f3a"
             ],
             [
              0.8888888888888888,
              "#fdca26"
             ],
             [
              1,
              "#f0f921"
             ]
            ],
            "type": "surface"
           }
          ],
          "table": [
           {
            "cells": {
             "fill": {
              "color": "#EBF0F8"
             },
             "line": {
              "color": "white"
             }
            },
            "header": {
             "fill": {
              "color": "#C8D4E3"
             },
             "line": {
              "color": "white"
             }
            },
            "type": "table"
           }
          ]
         },
         "layout": {
          "annotationdefaults": {
           "arrowcolor": "#2a3f5f",
           "arrowhead": 0,
           "arrowwidth": 1
          },
          "coloraxis": {
           "colorbar": {
            "outlinewidth": 0,
            "ticks": ""
           }
          },
          "colorscale": {
           "diverging": [
            [
             0,
             "#8e0152"
            ],
            [
             0.1,
             "#c51b7d"
            ],
            [
             0.2,
             "#de77ae"
            ],
            [
             0.3,
             "#f1b6da"
            ],
            [
             0.4,
             "#fde0ef"
            ],
            [
             0.5,
             "#f7f7f7"
            ],
            [
             0.6,
             "#e6f5d0"
            ],
            [
             0.7,
             "#b8e186"
            ],
            [
             0.8,
             "#7fbc41"
            ],
            [
             0.9,
             "#4d9221"
            ],
            [
             1,
             "#276419"
            ]
           ],
           "sequential": [
            [
             0,
             "#0d0887"
            ],
            [
             0.1111111111111111,
             "#46039f"
            ],
            [
             0.2222222222222222,
             "#7201a8"
            ],
            [
             0.3333333333333333,
             "#9c179e"
            ],
            [
             0.4444444444444444,
             "#bd3786"
            ],
            [
             0.5555555555555556,
             "#d8576b"
            ],
            [
             0.6666666666666666,
             "#ed7953"
            ],
            [
             0.7777777777777778,
             "#fb9f3a"
            ],
            [
             0.8888888888888888,
             "#fdca26"
            ],
            [
             1,
             "#f0f921"
            ]
           ],
           "sequentialminus": [
            [
             0,
             "#0d0887"
            ],
            [
             0.1111111111111111,
             "#46039f"
            ],
            [
             0.2222222222222222,
             "#7201a8"
            ],
            [
             0.3333333333333333,
             "#9c179e"
            ],
            [
             0.4444444444444444,
             "#bd3786"
            ],
            [
             0.5555555555555556,
             "#d8576b"
            ],
            [
             0.6666666666666666,
             "#ed7953"
            ],
            [
             0.7777777777777778,
             "#fb9f3a"
            ],
            [
             0.8888888888888888,
             "#fdca26"
            ],
            [
             1,
             "#f0f921"
            ]
           ]
          },
          "colorway": [
           "#636efa",
           "#EF553B",
           "#00cc96",
           "#ab63fa",
           "#FFA15A",
           "#19d3f3",
           "#FF6692",
           "#B6E880",
           "#FF97FF",
           "#FECB52"
          ],
          "font": {
           "color": "#2a3f5f"
          },
          "geo": {
           "bgcolor": "white",
           "lakecolor": "white",
           "landcolor": "white",
           "showlakes": true,
           "showland": true,
           "subunitcolor": "#C8D4E3"
          },
          "hoverlabel": {
           "align": "left"
          },
          "hovermode": "closest",
          "mapbox": {
           "style": "light"
          },
          "paper_bgcolor": "white",
          "plot_bgcolor": "white",
          "polar": {
           "angularaxis": {
            "gridcolor": "#EBF0F8",
            "linecolor": "#EBF0F8",
            "ticks": ""
           },
           "bgcolor": "white",
           "radialaxis": {
            "gridcolor": "#EBF0F8",
            "linecolor": "#EBF0F8",
            "ticks": ""
           }
          },
          "scene": {
           "xaxis": {
            "backgroundcolor": "white",
            "gridcolor": "#DFE8F3",
            "gridwidth": 2,
            "linecolor": "#EBF0F8",
            "showbackground": true,
            "ticks": "",
            "zerolinecolor": "#EBF0F8"
           },
           "yaxis": {
            "backgroundcolor": "white",
            "gridcolor": "#DFE8F3",
            "gridwidth": 2,
            "linecolor": "#EBF0F8",
            "showbackground": true,
            "ticks": "",
            "zerolinecolor": "#EBF0F8"
           },
           "zaxis": {
            "backgroundcolor": "white",
            "gridcolor": "#DFE8F3",
            "gridwidth": 2,
            "linecolor": "#EBF0F8",
            "showbackground": true,
            "ticks": "",
            "zerolinecolor": "#EBF0F8"
           }
          },
          "shapedefaults": {
           "line": {
            "color": "#2a3f5f"
           }
          },
          "ternary": {
           "aaxis": {
            "gridcolor": "#DFE8F3",
            "linecolor": "#A2B1C6",
            "ticks": ""
           },
           "baxis": {
            "gridcolor": "#DFE8F3",
            "linecolor": "#A2B1C6",
            "ticks": ""
           },
           "bgcolor": "white",
           "caxis": {
            "gridcolor": "#DFE8F3",
            "linecolor": "#A2B1C6",
            "ticks": ""
           }
          },
          "title": {
           "x": 0.05
          },
          "xaxis": {
           "automargin": true,
           "gridcolor": "#EBF0F8",
           "linecolor": "#EBF0F8",
           "ticks": "",
           "title": {
            "standoff": 15
           },
           "zerolinecolor": "#EBF0F8",
           "zerolinewidth": 2
          },
          "yaxis": {
           "automargin": true,
           "gridcolor": "#EBF0F8",
           "linecolor": "#EBF0F8",
           "ticks": "",
           "title": {
            "standoff": 15
           },
           "zerolinecolor": "#EBF0F8",
           "zerolinewidth": 2
          }
         }
        },
        "title": {
         "text": "Veh1 - Inertial Frame Velocity | Acceleration"
        },
        "width": 900,
        "xaxis": {
         "anchor": "y",
         "domain": [
          0,
          1
         ],
         "linecolor": "black",
         "linewidth": 1,
         "matches": "x2",
         "showgrid": false,
         "showline": true,
         "showticklabels": false,
         "tickcolor": "black",
         "ticklen": 10,
         "ticks": "outside",
         "tickwidth": 1,
         "title": {
          "text": ""
         },
         "zeroline": false
        },
        "xaxis2": {
         "anchor": "y2",
         "domain": [
          0,
          1
         ],
         "linecolor": "black",
         "linewidth": 1,
         "showgrid": false,
         "showline": true,
         "tickcolor": "black",
         "ticklen": 10,
         "ticks": "outside",
         "tickwidth": 1,
         "title": {
          "text": "Time (s)"
         },
         "zeroline": false
        },
        "yaxis": {
         "anchor": "x",
         "domain": [
          0.525,
          1
         ],
         "linecolor": "black",
         "linewidth": 1,
         "showgrid": false,
         "showline": true,
         "tickcolor": "black",
         "ticklen": 10,
         "ticks": "outside",
         "tickwidth": 1,
         "title": {
          "text": "Velocity (mph)"
         },
         "zeroline": false
        },
        "yaxis2": {
         "anchor": "x2",
         "domain": [
          0,
          0.475
         ],
         "linecolor": "black",
         "linewidth": 1,
         "showgrid": false,
         "showline": true,
         "tickcolor": "black",
         "ticklen": 10,
         "ticks": "outside",
         "tickwidth": 1,
         "title": {
          "text": "Acceleration (g)"
         },
         "zeroline": false
        }
       }
      },
      "text/html": [
       "<div>\n",
       "        \n",
       "        \n",
       "            <div id=\"794586d1-264e-4144-9910-2ed2a00576d7\" class=\"plotly-graph-div\" style=\"height:500px; width:900px;\"></div>\n",
       "            <script type=\"text/javascript\">\n",
       "                require([\"plotly\"], function(Plotly) {\n",
       "                    window.PLOTLYENV=window.PLOTLYENV || {};\n",
       "                    \n",
       "                if (document.getElementById(\"794586d1-264e-4144-9910-2ed2a00576d7\")) {\n",
       "                    Plotly.newPlot(\n",
       "                        '794586d1-264e-4144-9910-2ed2a00576d7',\n",
       "                        [{\"line\": {\"color\": \"rgb(0, 255, 0)\", \"width\": 2}, \"mode\": \"lines\", \"name\": \"X\", \"type\": \"scatter\", \"x\": [0.0, 0.1, 0.2, 0.3, 0.4, 0.5, 0.6, 0.7, 0.8, 0.9, 1.0, 1.1, 1.2, 1.3, 1.4, 1.5, 1.6, 1.7, 1.8, 1.9, 2.0, 2.1, 2.2, 2.3, 2.4, 2.5, 2.6, 2.7, 2.8, 2.9, 3.0, 3.1, 3.2, 3.3, 3.4, 3.5, 3.6, 3.7, 3.8, 3.9, 4.0, 4.1, 4.2, 4.3, 4.4, 4.5, 4.6, 4.7, 4.8, 4.9, 5.0, 5.1, 5.2, 5.3, 5.4, 5.5, 5.6, 5.7, 5.8, 5.9, 6.0, 6.1, 6.2, 6.3, 6.4, 6.5, 6.6, 6.7, 6.8, 6.9, 7.0, 7.1, 7.2, 7.3, 7.4, 7.5, 7.6, 7.7, 7.8, 7.9, 8.0, 8.1, 8.2, 8.3, 8.4, 8.5, 8.6, 8.7, 8.8, 8.9, 9.0, 9.1, 9.2, 9.3, 9.4, 9.5, 9.6, 9.7, 9.8, 9.9, 10.0, 10.1, 10.2, 10.3, 10.4, 10.5, 10.6, 10.7, 10.8, 10.9], \"xaxis\": \"x\", \"y\": [15.0, 15.0, 15.0, 15.0, 15.0, 15.0, 15.0, 15.0, 15.0, 15.0, 15.0, 14.99598938704336, 14.975784201743496, 14.928459319606533, 14.849199179583502, 14.72703246834814, 14.536620913396185, 14.242991975125015, 13.811904666483217, 13.215949751482215, 12.444071153579632, 11.573196155751582, 10.69074801672706, 9.77008682891051, 8.751127206061797, 7.626113764475937, 6.442104036288723, 5.256323327894339, 4.100635037393592, 2.978444022306622, 1.8822887212777824, 0.8098981245435156, -0.2325139291589407, -1.2359608718719524, -2.1943585582493026, -3.105495099553564, -3.9686999558314997, -4.782676845836242, -5.545195280642848, -6.253986096880033, -6.907497211507724, -7.504936839953823, -8.045914332237041, -8.530176505586331, -8.957604453699268, -9.328325042738689, -9.642764795877007, -9.901614489092095, -10.10577040959649, -10.256305058431408, -10.35446425083619, -10.401663751240834, -10.399473790536572, -10.34959918622835, -10.253864187354749, -10.1142017089076, -9.93264179193712, -9.711297492069717, -9.452350780863998, -9.158040870663058, -8.830654362612732, -8.472515190144208, -8.085973655033591, -7.6733955999423396, -7.237152845063894, -6.779614841459606, -6.303140724636995, -5.810071295756519, -5.3027211966825885, -4.783371762771922, -4.254264667379532, -3.717596096154081, -3.1755112064084403, -2.6300988882281584, -2.0833869909654705, -1.5373380935776135, -0.9938457478014026, -0.4547310888025565, 0.07826021500668524, 0.6034606335557938, 1.1192830394815454, 1.624222587488027, 2.116858253899012, 2.5958540622946176, 3.0599599954554852, 3.5080125918314105, 3.9389352402382167, 4.3517381965557025, 4.7455183419730185, 5.119458693610164, 5.472827676239714, 5.804978168134241, 6.115346337579763, 6.4034502856143645, 6.668888507675591, 6.911338185770787, 7.130553323788504, 7.326362739464633, 7.4986679260545515, 7.647440795690843, 7.7727213158578445, 7.874615050457631, 7.953290616913911, 8.008977070330355, 8.04196122515551, 8.05258492442024, 8.041242266363405, 8.008376797939755, 7.954478684267184, 7.880081862640146], \"yaxis\": \"y\"}, {\"line\": {\"color\": \"rgb(0, 0, 255)\", \"width\": 2}, \"mode\": \"lines\", \"name\": \"Y\", \"type\": \"scatter\", \"x\": [0.0, 0.1, 0.2, 0.3, 0.4, 0.5, 0.6, 0.7, 0.8, 0.9, 1.0, 1.1, 1.2, 1.3, 1.4, 1.5, 1.6, 1.7, 1.8, 1.9, 2.0, 2.1, 2.2, 2.3, 2.4, 2.5, 2.6, 2.7, 2.8, 2.9, 3.0, 3.1, 3.2, 3.3, 3.4, 3.5, 3.6, 3.7, 3.8, 3.9, 4.0, 4.1, 4.2, 4.3, 4.4, 4.5, 4.6, 4.7, 4.8, 4.9, 5.0, 5.1, 5.2, 5.3, 5.4, 5.5, 5.6, 5.7, 5.8, 5.9, 6.0, 6.1, 6.2, 6.3, 6.4, 6.5, 6.6, 6.7, 6.8, 6.9, 7.0, 7.1, 7.2, 7.3, 7.4, 7.5, 7.6, 7.7, 7.8, 7.9, 8.0, 8.1, 8.2, 8.3, 8.4, 8.5, 8.6, 8.7, 8.8, 8.9, 9.0, 9.1, 9.2, 9.3, 9.4, 9.5, 9.6, 9.7, 9.8, 9.9, 10.0, 10.1, 10.2, 10.3, 10.4, 10.5, 10.6, 10.7, 10.8, 10.9], \"xaxis\": \"x\", \"y\": [0.0, 0.0, 0.0, 0.0, 0.0, 0.0, 0.0, 0.0, 0.0, 0.0, 0.0, -0.10882398290465473, -0.412442092124285, -0.8317640399662393, -1.2955049748596719, -1.8118318700082878, -2.4295251864576923, -3.1798702087016415, -4.055164604752743, -5.019496440223645, -6.016721455369647, -6.952610637738222, -7.76892833490736, -8.496442238250383, -9.167176921961273, -9.768208090659478, -10.268492730062967, -10.650711655025786, -10.917027161399018, -11.078027885057429, -11.14275616386759, -11.11699605191791, -11.006079803043518, -10.816552777814444, -10.55532725877179, -10.228366643954587, -9.840612275313328, -9.396864567540183, -8.902408208353824, -8.36283798834839, -7.78352204364295, -7.169340008766759, -6.524843153337162, -5.854529704538344, -5.162932036242302, -4.454500487456791, -3.7334632308452305, -3.0037953710775382, -2.2692782906177524, -1.5335548374951162, -0.8001277452209768, -0.07232284105058767, 0.6467368256291559, 1.3541280782362473, 2.047111604027124, 2.7231237392793477, 3.3797804250612855, 4.014883891569746, 4.626423486029874, 5.212570731809946, 5.771673690426785, 6.302253761619549, 6.803003960309702, 7.272786316580097, 7.710627560087151, 8.115713957230893, 8.487386313964214, 8.825135271394695, 9.12859643011415, 9.397545001999825, 9.631890107685539, 9.831668974201525, 9.997041127331151, 10.128282515364456, 10.22577950837642, 10.290022805079344, 10.32160131425477, 10.321196044140414, 10.289573999260805, 10.227582088878773, 10.136141071122056, 10.016239559362846, 9.868928104190559, 9.695313356687274, 9.49655232402321, 9.273846734886888, 9.028437529781586, 8.761599483816147, 8.474635966714816, 8.168873847876393, 7.84565855709138, 7.506349309594107, 7.1523144999684645, 6.784927267655096, 6.405561238040031, 6.015586444228673, 5.616365433475532, 5.209249559982938, 4.79557546460656, 4.376661742282751, 3.9538057983084713, 3.5282808939175303, 3.1013333803711656, 2.674180120023417, 2.24800609273958, 1.8239621860224955, 1.4031631667570885, 0.9866858318056649, 0.5755673342177526, 0.17080368165714183], \"yaxis\": \"y\"}, {\"line\": {\"color\": \"rgb(0, 0, 0)\", \"width\": 2}, \"mode\": \"lines\", \"name\": \"Resultant\", \"type\": \"scatter\", \"x\": [0.0, 0.1, 0.2, 0.3, 0.4, 0.5, 0.6, 0.7, 0.8, 0.9, 1.0, 1.1, 1.2, 1.3, 1.4, 1.5, 1.6, 1.7, 1.8, 1.9, 2.0, 2.1, 2.2, 2.3, 2.4, 2.5, 2.6, 2.7, 2.8, 2.9, 3.0, 3.1, 3.2, 3.3, 3.4, 3.5, 3.6, 3.7, 3.8, 3.9, 4.0, 4.1, 4.2, 4.3, 4.4, 4.5, 4.6, 4.7, 4.8, 4.9, 5.0, 5.1, 5.2, 5.3, 5.4, 5.5, 5.6, 5.7, 5.8, 5.9, 6.0, 6.1, 6.2, 6.3, 6.4, 6.5, 6.6, 6.7, 6.8, 6.9, 7.0, 7.1, 7.2, 7.3, 7.4, 7.5, 7.6, 7.7, 7.8, 7.9, 8.0, 8.1, 8.2, 8.3, 8.4, 8.5, 8.6, 8.7, 8.8, 8.9, 9.0, 9.1, 9.2, 9.3, 9.4, 9.5, 9.6, 9.7, 9.8, 9.9, 10.0, 10.1, 10.2, 10.3, 10.4, 10.5, 10.6, 10.7, 10.8, 10.9], \"xaxis\": \"x\", \"y\": [15.0, 15.0, 15.0, 15.0, 15.0, 15.0, 15.0, 15.0, 15.0, 15.0, 15.0, 14.996384242729057, 14.981462576682757, 14.951612925545128, 14.90560463097118, 14.838066587293577, 14.738247528502823, 14.593642278323252, 14.39489737676724, 14.137067317768587, 13.822295176520365, 13.501024551473634, 13.215458396517317, 12.9477460336684, 12.673569351023978, 12.39255826902398, 12.121990239301608, 11.87714585604927, 11.661761863141601, 11.471435420910673, 11.30062059170463, 11.146458459551067, 11.00853556828588, 10.886937736206809, 10.781008441789327, 10.689414577820154, 10.610760071383403, 10.543958531424062, 10.488186812248783, 10.442672135010833, 10.406571631947898, 10.378993840108002, 10.359069244741454, 10.345986143320454, 10.33898180479055, 10.337321833808724, 10.340293061837185, 10.347210064645704, 10.35742340216644, 10.370322265542686, 10.385332653820823, 10.401915178812754, 10.41956446506676, 10.43780945255499, 10.456213305592938, 10.474372492321255, 10.491915396559548, 10.508500922694244, 10.523817252147106, 10.537580662697517, 10.549534286436346, 10.559446771638754, 10.567110902885744, 10.572342258924895, 10.57497795142817, 10.574875433504248, 10.571911342659114, 10.565980362474109, 10.556994121133139, 10.5448801551035, 10.529580946393091, 10.511053018247836, 10.489266071731429, 10.464202161316283, 10.435854919845102, 10.404228839419952, 10.369338602864152, 10.331208455195515, 10.289871609865541, 10.245369691768348, 10.197752219786398, 10.147076126857998, 10.093405312023421, 10.036810220238806, 9.97736744921718, 9.915159383823333, 9.8502738569016, 9.782803833572931, 9.712847116182704, 9.640506068568161, 9.565887359167291, 9.489101721983968, 9.410263733552283, 9.329491603924854, 9.246906980287436, 9.162634762233033, 9.076802927558253, 8.989542367017252, 8.900986726311622, 8.811272253764383, 8.720537652274004, 8.628923934030091, 8.536574276212637, 8.443633875731814, 8.350249801047811, 8.256570839097796, 8.162747335235425, 8.068931023900616, 7.975274847594879, 7.8819327616757695], \"yaxis\": \"y\"}, {\"line\": {\"color\": \"rgb(0, 255, 0)\", \"width\": 2}, \"mode\": \"lines\", \"name\": \"AX\", \"showlegend\": false, \"type\": \"scatter\", \"x\": [0.0, 0.1, 0.2, 0.3, 0.4, 0.5, 0.6, 0.7, 0.8, 0.9, 1.0, 1.1, 1.2, 1.3, 1.4, 1.5, 1.6, 1.7, 1.8, 1.9, 2.0, 2.1, 2.2, 2.3, 2.4, 2.5, 2.6, 2.7, 2.8, 2.9, 3.0, 3.1, 3.2, 3.3, 3.4, 3.5, 3.6, 3.7, 3.8, 3.9, 4.0, 4.1, 4.2, 4.3, 4.4, 4.5, 4.6, 4.7, 4.8, 4.9, 5.0, 5.1, 5.2, 5.3, 5.4, 5.5, 5.6, 5.7, 5.8, 5.9, 6.0, 6.1, 6.2, 6.3, 6.4, 6.5, 6.6, 6.7, 6.8, 6.9, 7.0, 7.1, 7.2, 7.3, 7.4, 7.5, 7.6, 7.7, 7.8, 7.9, 8.0, 8.1, 8.2, 8.3, 8.4, 8.5, 8.6, 8.7, 8.8, 8.9, 9.0, 9.1, 9.2, 9.3, 9.4, 9.5, 9.6, 9.7, 9.8, 9.9, 10.0, 10.1, 10.2, 10.3, 10.4, 10.5, 10.6, 10.7, 10.8, 10.9], \"xaxis\": \"x2\", \"y\": [0.0, 0.0, 0.0, 0.0, 0.0, 0.0, 0.0, 0.0, 0.0, 0.0, 0.0, -0.003653568760939135, -0.014752853055057172, -0.02835893879824673, -0.0438450795667108, -0.06744575917090867, -0.10601443666846122, -0.16147423096767344, -0.2312355969613107, -0.3116645242713119, -0.3914977013099188, -0.40184778506552615, -0.40204054540844625, -0.43665892312254695, -0.4915879775256028, -0.5332713171146038, -0.5453321288731856, -0.534884636083827, -0.5179186838097952, -0.5043694504123196, -0.4942007951528778, -0.4827203952273997, -0.4668910872594211, -0.44722414719330733, -0.42585233397381544, -0.4041704182216634, -0.38218775976415026, -0.3593249640018471, -0.3353103855495844, -0.31038043833277107, -0.2849519507920716, -0.25930070750174206, -0.23351634753367903, -0.2076344610291787, -0.181741780373804, -0.15597546579169183, -0.13047133714953446, -0.10533430232113272, -0.0806466690615872, -0.056486656035749774, -0.03293392950730486, -0.010063642702932616, 0.012058642495554751, 0.03337588290863038, 0.053836322555932355, 0.07339272543417832, 0.09200384812053747, 0.10963530982140439, 0.1262587106283408, 0.14185030551725827, 0.15639066949030167, 0.1698652187608848, 0.18226451620848746, 0.19358384159318015, 0.20382246977177054, 0.21298328410791903, 0.22107279845122305, 0.22810120108674523, 0.2340821341981998, 0.23903229700289175, 0.24297112138167687, 0.24592061362405732, 0.24790525298664962, 0.24895181825898638, 0.2490891372430423, 0.24834784184506226, 0.24676018224164284, 0.2443598779532872, 0.24118195779696153, 0.23726257504367265, 0.23263882129118563, 0.227348561860781, 0.22143029084418764, 0.21492299008722987, 0.20786598444013013, 0.20029879911681264, 0.1922610274290324, 0.1837922098021268, 0.17493171931539767, 0.16571865058252344, 0.15619171323939018, 0.1463891326903896, 0.13634855866406007, 0.12610698013339966, 0.11570064542594113, 0.1051649877242952, 0.09453455667101197, 0.08384295617973817, 0.0731227879294768, 0.06240560008882024, 0.05172184122381195, 0.04110081947523742, 0.03057066689397436, 0.02015830865403634, 0.009889436909573633, -0.000211510822245658, -0.010121368862362201, -0.019818256338205827, -0.029281586133937113, -0.03849207000005624], \"yaxis\": \"y2\"}, {\"line\": {\"color\": \"rgb(0, 0, 255)\", \"width\": 2}, \"mode\": \"lines\", \"name\": \"AY\", \"showlegend\": false, \"type\": \"scatter\", \"x\": [0.0, 0.1, 0.2, 0.3, 0.4, 0.5, 0.6, 0.7, 0.8, 0.9, 1.0, 1.1, 1.2, 1.3, 1.4, 1.5, 1.6, 1.7, 1.8, 1.9, 2.0, 2.1, 2.2, 2.3, 2.4, 2.5, 2.6, 2.7, 2.8, 2.9, 3.0, 3.1, 3.2, 3.3, 3.4, 3.5, 3.6, 3.7, 3.8, 3.9, 4.0, 4.1, 4.2, 4.3, 4.4, 4.5, 4.6, 4.7, 4.8, 4.9, 5.0, 5.1, 5.2, 5.3, 5.4, 5.5, 5.6, 5.7, 5.8, 5.9, 6.0, 6.1, 6.2, 6.3, 6.4, 6.5, 6.6, 6.7, 6.8, 6.9, 7.0, 7.1, 7.2, 7.3, 7.4, 7.5, 7.6, 7.7, 7.8, 7.9, 8.0, 8.1, 8.2, 8.3, 8.4, 8.5, 8.6, 8.7, 8.8, 8.9, 9.0, 9.1, 9.2, 9.3, 9.4, 9.5, 9.6, 9.7, 9.8, 9.9, 10.0, 10.1, 10.2, 10.3, 10.4, 10.5, 10.6, 10.7, 10.8, 10.9], \"xaxis\": \"x2\", \"y\": [0.0, 0.0, 0.0, 0.0, 0.0, 0.0, 0.0, 0.0, 0.0, 0.0, 0.0, -0.0991359447247018, -0.17745260946732, -0.2045392670801078, -0.21791720309389884, -0.2524437703890951, -0.31025949447851225, -0.3732861786733716, -0.42408526968455956, -0.4543970738745133, -0.4540501391467214, -0.3985216540858989, -0.3451234868501625, -0.31762360421574526, -0.29339902842913007, -0.25412543380353875, -0.20162144326100503, -0.14657050125776386, -0.09603630851393044, -0.05063135072090293, -0.008334503119158287, 0.03180132510253575, 0.06924062193883317, 0.10341378929888588, 0.134556168473964, 0.16329682837941825, 0.1899377678038582, 0.21430536918970716, 0.23613208939902275, 0.25540297555462405, 0.27233945712930596, 0.28716511746191364, 0.2999555054902156, 0.3106833926152269, 0.31934490065170207, 0.3260186395080781, 0.3308283872959452, 0.33388090455839065, 0.33524590686891, 0.3349798800822554, 0.3331539791883732, 0.3298582064014309, 0.3251872851073761, 0.31922857107973085, 0.31206220393375045, 0.3037680559484724, 0.2944298703470524, 0.2841336086740425, 0.2729637683488373, 0.2610018098923174, 0.2483270946508866, 0.23501816809215106, 0.2211528219158531, 0.20680723303514084, 0.19205526175646787, 0.17696838178316704, 0.1616159011050685, 0.14606500783565432, 0.1303805683501007, 0.11462489868565155, 0.09885767035538327, 0.08313591359058171, 0.06751400928558489, 0.05204363455715332, 0.03677370379120409, 0.021750343398411108, 0.007016893901166179, -0.007386084906520887, -0.0214208123379379, -0.03505227784840506, -0.04824821750143604, -0.06097908079165812, -0.0732179949583655, -0.08494072660725033, -0.09612563598741092, -0.10675362265766287, -0.11680806607015895, -0.12627476428768633, -0.13514187026325045, -0.14339982342417254, -0.15104127628741335, -0.1580610181391866, -0.1644558975338817, -0.17022474347049577, -0.17536828426585638, -0.17988906408153785, -0.18379135818014522, -0.18708108789152086, -0.18976573537908284, -0.19185425786356278, -0.19335700135926778, -0.19428561449356524, -0.19465296295553206, -0.1944730447179038, -0.19376090596308088, -0.1925325578038424, -0.19080489411292428, -0.1885956107648424, -0.18592312641358197, -0.1828065048293192], \"yaxis\": \"y2\"}, {\"line\": {\"color\": \"rgb(0, 0, 0)\", \"width\": 2}, \"mode\": \"lines\", \"name\": \"AR\", \"showlegend\": false, \"type\": \"scatter\", \"x\": [0.0, 0.1, 0.2, 0.3, 0.4, 0.5, 0.6, 0.7, 0.8, 0.9, 1.0, 1.1, 1.2, 1.3, 1.4, 1.5, 1.6, 1.7, 1.8, 1.9, 2.0, 2.1, 2.2, 2.3, 2.4, 2.5, 2.6, 2.7, 2.8, 2.9, 3.0, 3.1, 3.2, 3.3, 3.4, 3.5, 3.6, 3.7, 3.8, 3.9, 4.0, 4.1, 4.2, 4.3, 4.4, 4.5, 4.6, 4.7, 4.8, 4.9, 5.0, 5.1, 5.2, 5.3, 5.4, 5.5, 5.6, 5.7, 5.8, 5.9, 6.0, 6.1, 6.2, 6.3, 6.4, 6.5, 6.6, 6.7, 6.8, 6.9, 7.0, 7.1, 7.2, 7.3, 7.4, 7.5, 7.6, 7.7, 7.8, 7.9, 8.0, 8.1, 8.2, 8.3, 8.4, 8.5, 8.6, 8.7, 8.8, 8.9, 9.0, 9.1, 9.2, 9.3, 9.4, 9.5, 9.6, 9.7, 9.8, 9.9, 10.0, 10.1, 10.2, 10.3, 10.4, 10.5, 10.6, 10.7, 10.8, 10.9], \"xaxis\": \"x2\", \"y\": [0.0, 0.0, 0.0, 0.0, 0.0, 0.0, 0.0, 0.0, 0.0, 0.0, 0.0, 0.09920324642444946, 0.17806480640493028, 0.20649586239784654, 0.22228427386227473, 0.26129827331691724, 0.3278719486265837, 0.40671427127059345, 0.48303024466950234, 0.5510095066647971, 0.5995264622934566, 0.5659515448670762, 0.5298554721128539, 0.5399590439075381, 0.5724873182271115, 0.5907266997207602, 0.5814106441784597, 0.5546029983307701, 0.5267473166445686, 0.5069044053715142, 0.4942710692241454, 0.48376678704389586, 0.4719974058072362, 0.4590248900113537, 0.44660449261661017, 0.43591235486534613, 0.4267831291790389, 0.41837927890667026, 0.41011147058008396, 0.40195359983684553, 0.39416544010059057, 0.386911697416631, 0.38013575185630827, 0.37367932757082617, 0.3674387572176967, 0.3614090469753537, 0.3556264777240629, 0.350102518805862, 0.3448096624270947, 0.3397090849094609, 0.33477786301044327, 0.33001168651249496, 0.3254107884725728, 0.32096858125607464, 0.31667202078860085, 0.31250843822426766, 0.3084698633927941, 0.3045518161787404, 0.3007498642405825, 0.2970579976072095, 0.29346956816912917, 0.2899788472942015, 0.2865814448111723, 0.2832736051269594, 0.28005146447074636, 0.27691097388934827, 0.27384828227516483, 0.2708600089552637, 0.26794316217078445, 0.26509490076041553, 0.26231241833653846, 0.25959300517112077, 0.2569341470264098, 0.25433353635015166, 0.2517890060805006, 0.24929847169015873, 0.2468599285828889, 0.24447147932548643, 0.24213134445583967, 0.23983784459237492, 0.23758937615941098, 0.23538440235997146, 0.23322145803734434, 0.23109915340520648, 0.22901616838391267, 0.2269712424034638, 0.22496316802338504, 0.2229907901234034, 0.22105300613402726, 0.2191487634210523, 0.2172770545344966, 0.2154369133297281, 0.21362741323023418, 0.21184766632644728, 0.21009682167593483, 0.2083740627313841, 0.20667860495631185, 0.20500969427720353, 0.20336660600635328, 0.20174864357121264, 0.20015513691691525, 0.19858544095849096, 0.1970389343802642, 0.19551501868051777, 0.19401311719062275, 0.1925326739837107, 0.19107315281088613, 0.1896340361961712, 0.18821482466033315, 0.18681503596017407], \"yaxis\": \"y2\"}],\n",
       "                        {\"autosize\": false, \"font\": {\"color\": \"black\", \"family\": \"Arial\", \"size\": 14}, \"height\": 500, \"legend\": {\"orientation\": \"h\", \"x\": 0.01, \"xanchor\": \"left\", \"y\": 1.1, \"yanchor\": \"top\"}, \"template\": {\"data\": {\"bar\": [{\"error_x\": {\"color\": \"#2a3f5f\"}, \"error_y\": {\"color\": \"#2a3f5f\"}, \"marker\": {\"line\": {\"color\": \"white\", \"width\": 0.5}}, \"type\": \"bar\"}], \"barpolar\": [{\"marker\": {\"line\": {\"color\": \"white\", \"width\": 0.5}}, \"type\": \"barpolar\"}], \"carpet\": [{\"aaxis\": {\"endlinecolor\": \"#2a3f5f\", \"gridcolor\": \"#C8D4E3\", \"linecolor\": \"#C8D4E3\", \"minorgridcolor\": \"#C8D4E3\", \"startlinecolor\": \"#2a3f5f\"}, \"baxis\": {\"endlinecolor\": \"#2a3f5f\", \"gridcolor\": \"#C8D4E3\", \"linecolor\": \"#C8D4E3\", \"minorgridcolor\": \"#C8D4E3\", \"startlinecolor\": \"#2a3f5f\"}, \"type\": \"carpet\"}], \"choropleth\": [{\"colorbar\": {\"outlinewidth\": 0, \"ticks\": \"\"}, \"type\": \"choropleth\"}], \"contour\": [{\"colorbar\": {\"outlinewidth\": 0, \"ticks\": \"\"}, \"colorscale\": [[0.0, \"#0d0887\"], [0.1111111111111111, \"#46039f\"], [0.2222222222222222, \"#7201a8\"], [0.3333333333333333, \"#9c179e\"], [0.4444444444444444, \"#bd3786\"], [0.5555555555555556, \"#d8576b\"], [0.6666666666666666, \"#ed7953\"], [0.7777777777777778, \"#fb9f3a\"], [0.8888888888888888, \"#fdca26\"], [1.0, \"#f0f921\"]], \"type\": \"contour\"}], \"contourcarpet\": [{\"colorbar\": {\"outlinewidth\": 0, \"ticks\": \"\"}, \"type\": \"contourcarpet\"}], \"heatmap\": [{\"colorbar\": {\"outlinewidth\": 0, \"ticks\": \"\"}, \"colorscale\": [[0.0, \"#0d0887\"], [0.1111111111111111, \"#46039f\"], [0.2222222222222222, \"#7201a8\"], [0.3333333333333333, \"#9c179e\"], [0.4444444444444444, \"#bd3786\"], [0.5555555555555556, \"#d8576b\"], [0.6666666666666666, \"#ed7953\"], [0.7777777777777778, \"#fb9f3a\"], [0.8888888888888888, \"#fdca26\"], [1.0, \"#f0f921\"]], \"type\": \"heatmap\"}], \"heatmapgl\": [{\"colorbar\": {\"outlinewidth\": 0, \"ticks\": \"\"}, \"colorscale\": [[0.0, \"#0d0887\"], [0.1111111111111111, \"#46039f\"], [0.2222222222222222, \"#7201a8\"], [0.3333333333333333, \"#9c179e\"], [0.4444444444444444, \"#bd3786\"], [0.5555555555555556, \"#d8576b\"], [0.6666666666666666, \"#ed7953\"], [0.7777777777777778, \"#fb9f3a\"], [0.8888888888888888, \"#fdca26\"], [1.0, \"#f0f921\"]], \"type\": \"heatmapgl\"}], \"histogram\": [{\"marker\": {\"colorbar\": {\"outlinewidth\": 0, \"ticks\": \"\"}}, \"type\": \"histogram\"}], \"histogram2d\": [{\"colorbar\": {\"outlinewidth\": 0, \"ticks\": \"\"}, \"colorscale\": [[0.0, \"#0d0887\"], [0.1111111111111111, \"#46039f\"], [0.2222222222222222, \"#7201a8\"], [0.3333333333333333, \"#9c179e\"], [0.4444444444444444, \"#bd3786\"], [0.5555555555555556, \"#d8576b\"], [0.6666666666666666, \"#ed7953\"], [0.7777777777777778, \"#fb9f3a\"], [0.8888888888888888, \"#fdca26\"], [1.0, \"#f0f921\"]], \"type\": \"histogram2d\"}], \"histogram2dcontour\": [{\"colorbar\": {\"outlinewidth\": 0, \"ticks\": \"\"}, \"colorscale\": [[0.0, \"#0d0887\"], [0.1111111111111111, \"#46039f\"], [0.2222222222222222, \"#7201a8\"], [0.3333333333333333, \"#9c179e\"], [0.4444444444444444, \"#bd3786\"], [0.5555555555555556, \"#d8576b\"], [0.6666666666666666, \"#ed7953\"], [0.7777777777777778, \"#fb9f3a\"], [0.8888888888888888, \"#fdca26\"], [1.0, \"#f0f921\"]], \"type\": \"histogram2dcontour\"}], \"mesh3d\": [{\"colorbar\": {\"outlinewidth\": 0, \"ticks\": \"\"}, \"type\": \"mesh3d\"}], \"parcoords\": [{\"line\": {\"colorbar\": {\"outlinewidth\": 0, \"ticks\": \"\"}}, \"type\": \"parcoords\"}], \"pie\": [{\"automargin\": true, \"type\": \"pie\"}], \"scatter\": [{\"marker\": {\"colorbar\": {\"outlinewidth\": 0, \"ticks\": \"\"}}, \"type\": \"scatter\"}], \"scatter3d\": [{\"line\": {\"colorbar\": {\"outlinewidth\": 0, \"ticks\": \"\"}}, \"marker\": {\"colorbar\": {\"outlinewidth\": 0, \"ticks\": \"\"}}, \"type\": \"scatter3d\"}], \"scattercarpet\": [{\"marker\": {\"colorbar\": {\"outlinewidth\": 0, \"ticks\": \"\"}}, \"type\": \"scattercarpet\"}], \"scattergeo\": [{\"marker\": {\"colorbar\": {\"outlinewidth\": 0, \"ticks\": \"\"}}, \"type\": \"scattergeo\"}], \"scattergl\": [{\"marker\": {\"colorbar\": {\"outlinewidth\": 0, \"ticks\": \"\"}}, \"type\": \"scattergl\"}], \"scattermapbox\": [{\"marker\": {\"colorbar\": {\"outlinewidth\": 0, \"ticks\": \"\"}}, \"type\": \"scattermapbox\"}], \"scatterpolar\": [{\"marker\": {\"colorbar\": {\"outlinewidth\": 0, \"ticks\": \"\"}}, \"type\": \"scatterpolar\"}], \"scatterpolargl\": [{\"marker\": {\"colorbar\": {\"outlinewidth\": 0, \"ticks\": \"\"}}, \"type\": \"scatterpolargl\"}], \"scatterternary\": [{\"marker\": {\"colorbar\": {\"outlinewidth\": 0, \"ticks\": \"\"}}, \"type\": \"scatterternary\"}], \"surface\": [{\"colorbar\": {\"outlinewidth\": 0, \"ticks\": \"\"}, \"colorscale\": [[0.0, \"#0d0887\"], [0.1111111111111111, \"#46039f\"], [0.2222222222222222, \"#7201a8\"], [0.3333333333333333, \"#9c179e\"], [0.4444444444444444, \"#bd3786\"], [0.5555555555555556, \"#d8576b\"], [0.6666666666666666, \"#ed7953\"], [0.7777777777777778, \"#fb9f3a\"], [0.8888888888888888, \"#fdca26\"], [1.0, \"#f0f921\"]], \"type\": \"surface\"}], \"table\": [{\"cells\": {\"fill\": {\"color\": \"#EBF0F8\"}, \"line\": {\"color\": \"white\"}}, \"header\": {\"fill\": {\"color\": \"#C8D4E3\"}, \"line\": {\"color\": \"white\"}}, \"type\": \"table\"}]}, \"layout\": {\"annotationdefaults\": {\"arrowcolor\": \"#2a3f5f\", \"arrowhead\": 0, \"arrowwidth\": 1}, \"coloraxis\": {\"colorbar\": {\"outlinewidth\": 0, \"ticks\": \"\"}}, \"colorscale\": {\"diverging\": [[0, \"#8e0152\"], [0.1, \"#c51b7d\"], [0.2, \"#de77ae\"], [0.3, \"#f1b6da\"], [0.4, \"#fde0ef\"], [0.5, \"#f7f7f7\"], [0.6, \"#e6f5d0\"], [0.7, \"#b8e186\"], [0.8, \"#7fbc41\"], [0.9, \"#4d9221\"], [1, \"#276419\"]], \"sequential\": [[0.0, \"#0d0887\"], [0.1111111111111111, \"#46039f\"], [0.2222222222222222, \"#7201a8\"], [0.3333333333333333, \"#9c179e\"], [0.4444444444444444, \"#bd3786\"], [0.5555555555555556, \"#d8576b\"], [0.6666666666666666, \"#ed7953\"], [0.7777777777777778, \"#fb9f3a\"], [0.8888888888888888, \"#fdca26\"], [1.0, \"#f0f921\"]], \"sequentialminus\": [[0.0, \"#0d0887\"], [0.1111111111111111, \"#46039f\"], [0.2222222222222222, \"#7201a8\"], [0.3333333333333333, \"#9c179e\"], [0.4444444444444444, \"#bd3786\"], [0.5555555555555556, \"#d8576b\"], [0.6666666666666666, \"#ed7953\"], [0.7777777777777778, \"#fb9f3a\"], [0.8888888888888888, \"#fdca26\"], [1.0, \"#f0f921\"]]}, \"colorway\": [\"#636efa\", \"#EF553B\", \"#00cc96\", \"#ab63fa\", \"#FFA15A\", \"#19d3f3\", \"#FF6692\", \"#B6E880\", \"#FF97FF\", \"#FECB52\"], \"font\": {\"color\": \"#2a3f5f\"}, \"geo\": {\"bgcolor\": \"white\", \"lakecolor\": \"white\", \"landcolor\": \"white\", \"showlakes\": true, \"showland\": true, \"subunitcolor\": \"#C8D4E3\"}, \"hoverlabel\": {\"align\": \"left\"}, \"hovermode\": \"closest\", \"mapbox\": {\"style\": \"light\"}, \"paper_bgcolor\": \"white\", \"plot_bgcolor\": \"white\", \"polar\": {\"angularaxis\": {\"gridcolor\": \"#EBF0F8\", \"linecolor\": \"#EBF0F8\", \"ticks\": \"\"}, \"bgcolor\": \"white\", \"radialaxis\": {\"gridcolor\": \"#EBF0F8\", \"linecolor\": \"#EBF0F8\", \"ticks\": \"\"}}, \"scene\": {\"xaxis\": {\"backgroundcolor\": \"white\", \"gridcolor\": \"#DFE8F3\", \"gridwidth\": 2, \"linecolor\": \"#EBF0F8\", \"showbackground\": true, \"ticks\": \"\", \"zerolinecolor\": \"#EBF0F8\"}, \"yaxis\": {\"backgroundcolor\": \"white\", \"gridcolor\": \"#DFE8F3\", \"gridwidth\": 2, \"linecolor\": \"#EBF0F8\", \"showbackground\": true, \"ticks\": \"\", \"zerolinecolor\": \"#EBF0F8\"}, \"zaxis\": {\"backgroundcolor\": \"white\", \"gridcolor\": \"#DFE8F3\", \"gridwidth\": 2, \"linecolor\": \"#EBF0F8\", \"showbackground\": true, \"ticks\": \"\", \"zerolinecolor\": \"#EBF0F8\"}}, \"shapedefaults\": {\"line\": {\"color\": \"#2a3f5f\"}}, \"ternary\": {\"aaxis\": {\"gridcolor\": \"#DFE8F3\", \"linecolor\": \"#A2B1C6\", \"ticks\": \"\"}, \"baxis\": {\"gridcolor\": \"#DFE8F3\", \"linecolor\": \"#A2B1C6\", \"ticks\": \"\"}, \"bgcolor\": \"white\", \"caxis\": {\"gridcolor\": \"#DFE8F3\", \"linecolor\": \"#A2B1C6\", \"ticks\": \"\"}}, \"title\": {\"x\": 0.05}, \"xaxis\": {\"automargin\": true, \"gridcolor\": \"#EBF0F8\", \"linecolor\": \"#EBF0F8\", \"ticks\": \"\", \"title\": {\"standoff\": 15}, \"zerolinecolor\": \"#EBF0F8\", \"zerolinewidth\": 2}, \"yaxis\": {\"automargin\": true, \"gridcolor\": \"#EBF0F8\", \"linecolor\": \"#EBF0F8\", \"ticks\": \"\", \"title\": {\"standoff\": 15}, \"zerolinecolor\": \"#EBF0F8\", \"zerolinewidth\": 2}}}, \"title\": {\"text\": \"Veh1 - Inertial Frame Velocity | Acceleration\"}, \"width\": 900, \"xaxis\": {\"anchor\": \"y\", \"domain\": [0.0, 1.0], \"linecolor\": \"black\", \"linewidth\": 1, \"matches\": \"x2\", \"showgrid\": false, \"showline\": true, \"showticklabels\": false, \"tickcolor\": \"black\", \"ticklen\": 10, \"ticks\": \"outside\", \"tickwidth\": 1, \"title\": {\"text\": \"\"}, \"zeroline\": false}, \"xaxis2\": {\"anchor\": \"y2\", \"domain\": [0.0, 1.0], \"linecolor\": \"black\", \"linewidth\": 1, \"showgrid\": false, \"showline\": true, \"tickcolor\": \"black\", \"ticklen\": 10, \"ticks\": \"outside\", \"tickwidth\": 1, \"title\": {\"text\": \"Time (s)\"}, \"zeroline\": false}, \"yaxis\": {\"anchor\": \"x\", \"domain\": [0.525, 1.0], \"linecolor\": \"black\", \"linewidth\": 1, \"showgrid\": false, \"showline\": true, \"tickcolor\": \"black\", \"ticklen\": 10, \"ticks\": \"outside\", \"tickwidth\": 1, \"title\": {\"text\": \"Velocity (mph)\"}, \"zeroline\": false}, \"yaxis2\": {\"anchor\": \"x2\", \"domain\": [0.0, 0.475], \"linecolor\": \"black\", \"linewidth\": 1, \"showgrid\": false, \"showline\": true, \"tickcolor\": \"black\", \"ticklen\": 10, \"ticks\": \"outside\", \"tickwidth\": 1, \"title\": {\"text\": \"Acceleration (g)\"}, \"zeroline\": false}},\n",
       "                        {\"responsive\": true}\n",
       "                    ).then(function(){\n",
       "                            \n",
       "var gd = document.getElementById('794586d1-264e-4144-9910-2ed2a00576d7');\n",
       "var x = new MutationObserver(function (mutations, observer) {{\n",
       "        var display = window.getComputedStyle(gd).display;\n",
       "        if (!display || display === 'none') {{\n",
       "            console.log([gd, 'removed!']);\n",
       "            Plotly.purge(gd);\n",
       "            observer.disconnect();\n",
       "        }}\n",
       "}});\n",
       "\n",
       "// Listen for the removal of the full notebook cells\n",
       "var notebookContainer = gd.closest('#notebook-container');\n",
       "if (notebookContainer) {{\n",
       "    x.observe(notebookContainer, {childList: true});\n",
       "}}\n",
       "\n",
       "// Listen for the clearing of the current output cell\n",
       "var outputEl = gd.closest('.output');\n",
       "if (outputEl) {{\n",
       "    x.observe(outputEl, {childList: true});\n",
       "}}\n",
       "\n",
       "                        })\n",
       "                };\n",
       "                });\n",
       "            </script>\n",
       "        </div>"
      ]
     },
     "metadata": {},
     "output_type": "display_data"
    },
    {
     "data": {
      "application/vnd.plotly.v1+json": {
       "config": {
        "plotlyServerURL": "https://plot.ly"
       },
       "data": [
        {
         "line": {
          "color": "rgb(0, 255, 0)",
          "width": 2
         },
         "mode": "lines",
         "name": "x",
         "type": "scatter",
         "x": [
          0,
          0.1,
          0.2,
          0.3,
          0.4,
          0.5,
          0.6,
          0.7,
          0.8,
          0.9,
          1,
          1.1,
          1.2,
          1.3,
          1.4,
          1.5,
          1.6,
          1.7,
          1.8,
          1.9,
          2,
          2.1,
          2.2,
          2.3,
          2.4,
          2.5,
          2.6,
          2.7,
          2.8,
          2.9,
          3,
          3.1,
          3.2,
          3.3,
          3.4,
          3.5,
          3.6,
          3.7,
          3.8,
          3.9,
          4,
          4.1,
          4.2,
          4.3,
          4.4,
          4.5,
          4.6,
          4.7,
          4.8,
          4.9,
          5,
          5.1,
          5.2,
          5.3,
          5.4,
          5.5,
          5.6,
          5.7,
          5.8,
          5.9,
          6,
          6.1,
          6.2,
          6.3,
          6.4,
          6.5,
          6.6,
          6.7,
          6.8,
          6.9,
          7,
          7.1,
          7.2,
          7.3,
          7.4,
          7.5,
          7.6,
          7.7,
          7.8,
          7.9,
          8,
          8.1,
          8.2,
          8.3,
          8.4,
          8.5,
          8.6,
          8.7,
          8.8,
          8.9,
          9,
          9.1,
          9.2,
          9.3,
          9.4,
          9.5,
          9.6,
          9.7,
          9.8,
          9.9,
          10,
          10.1,
          10.2,
          10.3,
          10.4,
          10.5,
          10.6,
          10.7,
          10.8,
          10.9
         ],
         "xaxis": "x",
         "y": [
          15,
          15,
          15,
          15,
          15,
          15,
          15,
          15,
          15,
          15,
          15,
          14.99612783611973,
          14.977640696660286,
          14.938767923006575,
          14.884769349278729,
          14.81868207796311,
          14.732901811100806,
          14.61427156985725,
          14.452376839437164,
          14.242210895435523,
          13.986944994747354,
          13.742518811979844,
          13.561340817597415,
          13.415083963148344,
          13.25576121703572,
          13.067537075872373,
          12.866394611548628,
          12.67494791463968,
          12.503969055441216,
          12.350779302440731,
          12.207636952935879,
          12.069473112543458,
          11.935772900042616,
          11.808113876441167,
          11.687359709699086,
          11.572837448600492,
          11.463189417648238,
          11.357430009515554,
          11.255259988617123,
          11.156720708440748,
          11.061764756058714,
          10.970125608855144,
          10.881452331184683,
          10.79547349639978,
          10.712036958650598,
          10.6310451825381,
          10.552385744221509,
          10.475917104017515,
          10.401496228553828,
          10.32900452096394,
          10.25834902777901,
          10.18944764359713,
          10.122217565655333,
          10.056575276755277,
          9.992442597594497,
          9.929750242618319,
          9.868436216654166,
          9.808442260366768,
          9.749712070685954,
          9.692191895438574,
          9.635831684023925,
          9.580585222067809,
          9.52640929378622,
          9.473262843017416,
          9.421106740900811,
          9.369903966205573,
          9.319619699814856,
          9.270221127214874,
          9.221677120286795,
          9.17395803388608,
          9.127035660505467,
          9.080883223274911,
          9.035475303456384,
          8.990787710933253,
          8.946797367438624,
          8.903482240096238,
          8.860821303949969,
          8.818794495851852,
          8.777382649551708,
          8.736567429349668,
          8.696331279059649,
          8.656657384959667,
          8.617529640777228,
          8.578932608042294,
          8.540851475298103,
          8.503272022373206,
          8.466180590914172,
          8.429564057614835,
          8.393409807055605,
          8.357705704521942,
          8.322440070914974,
          8.287601660605503,
          8.253179641187955,
          8.219163573840047,
          8.185543394133532,
          8.152309393980751,
          8.119452205123087,
          8.08696278384426,
          8.054832396373747,
          8.023052604822205,
          7.991615253859681,
          7.96051245830252,
          7.9297365914995686,
          7.899280274289288,
          7.8691363644278685,
          7.839297946546619,
          7.809758322698203,
          7.780511003444342,
          7.751549699380677,
          7.722868313041289
         ],
         "yaxis": "y"
        },
        {
         "line": {
          "color": "rgb(0, 0, 255)",
          "width": 2
         },
         "mode": "lines",
         "name": "y",
         "type": "scatter",
         "x": [
          0,
          0.1,
          0.2,
          0.3,
          0.4,
          0.5,
          0.6,
          0.7,
          0.8,
          0.9,
          1,
          1.1,
          1.2,
          1.3,
          1.4,
          1.5,
          1.6,
          1.7,
          1.8,
          1.9,
          2,
          2.1,
          2.2,
          2.3,
          2.4,
          2.5,
          2.6,
          2.7,
          2.8,
          2.9,
          3,
          3.1,
          3.2,
          3.3,
          3.4,
          3.5,
          3.6,
          3.7,
          3.8,
          3.9,
          4,
          4.1,
          4.2,
          4.3,
          4.4,
          4.5,
          4.6,
          4.7,
          4.8,
          4.9,
          5,
          5.1,
          5.2,
          5.3,
          5.4,
          5.5,
          5.6,
          5.7,
          5.8,
          5.9,
          6,
          6.1,
          6.2,
          6.3,
          6.4,
          6.5,
          6.6,
          6.7,
          6.8,
          6.9,
          7,
          7.1,
          7.2,
          7.3,
          7.4,
          7.5,
          7.6,
          7.7,
          7.8,
          7.9,
          8,
          8.1,
          8.2,
          8.3,
          8.4,
          8.5,
          8.6,
          8.7,
          8.8,
          8.9,
          9,
          9.1,
          9.2,
          9.3,
          9.4,
          9.5,
          9.6,
          9.7,
          9.8,
          9.9,
          10,
          10.1,
          10.2,
          10.3,
          10.4,
          10.5,
          10.6,
          10.7,
          10.8,
          10.9
         ],
         "xaxis": "x",
         "y": [
          0,
          0,
          0,
          0,
          0,
          0,
          0,
          0,
          0,
          0,
          0,
          -0.10882899713957157,
          -0.3934884947671663,
          -0.721812377053404,
          -0.9687237112750987,
          -1.1203883462743527,
          -1.23067495453279,
          -1.349847543011684,
          -1.4957314732727554,
          -1.6628263796779075,
          -1.8282806009992194,
          -1.903990009572821,
          -1.833888678034084,
          -1.7044584856765843,
          -1.628457995922251,
          -1.6398292561570913,
          -1.701462651711513,
          -1.762326577796572,
          -1.797879912973308,
          -1.8130036345518943,
          -1.8231270487022986,
          -1.8373391010355244,
          -1.8547420750166794,
          -1.8702979084081117,
          -1.8810927532969162,
          -1.8879285974404971,
          -1.8931727351174097,
          -1.8983111889136837,
          -1.903307589869495,
          -1.907464659388802,
          -1.9104085614298598,
          -1.9123385457323872,
          -1.913671661639521,
          -1.9146538122879855,
          -1.9152814906017637,
          -1.9154640994259056,
          -1.9151830763323279,
          -1.9145131588535935,
          -1.9135483031875902,
          -1.912339035910972,
          -1.9108920293222766,
          -1.9092060939533968,
          -1.9072973507969002,
          -1.9051958719770252,
          -1.902929105324613,
          -1.9005129343126492,
          -1.89795559868283,
          -1.8952657323707114,
          -1.8924555306080202,
          -1.8895382121036122,
          -1.886524587096142,
          -1.8834224338463659,
          -1.8802382422389792,
          -1.8769787986064632,
          -1.8736512241543393,
          -1.870262100371443,
          -1.8668169425820171,
          -1.8633204500384402,
          -1.8597770324412473,
          -1.8561910278977658,
          -1.8525665497972503,
          -1.8489072878608752,
          -1.8452165088285382,
          -1.8414972077407152,
          -1.8377522247466427,
          -1.8339842430924114,
          -1.830195733499722,
          -1.8263889392865933,
          -1.822565918977414,
          -1.8187285963638324,
          -1.8148787767813686,
          -1.811018136932084,
          -1.807148219546749,
          -1.8032704471401906,
          -1.7993861431190703,
          -1.7954965439638089,
          -1.7916028005605307,
          -1.7877059783376457,
          -1.783807063257137,
          -1.7799069714688214,
          -1.776006556700217,
          -1.7721066134260839,
          -1.768207878690683,
          -1.76431103560073,
          -1.7604167183292838,
          -1.7565255165286335,
          -1.7526379780844556,
          -1.7487546110577938,
          -1.7448758860477425,
          -1.7410022391138458,
          -1.7371340745089279,
          -1.73327176672349,
          -1.7294156620964853,
          -1.7255660804946447,
          -1.7217233171749666,
          -1.7178876445557314,
          -1.7140593136760296,
          -1.710238555426197,
          -1.7064255817582927,
          -1.7026205869407498
         ],
         "yaxis": "y"
        },
        {
         "line": {
          "color": "rgb(0, 255, 0)",
          "width": 2
         },
         "mode": "lines",
         "name": "Ax",
         "showlegend": false,
         "type": "scatter",
         "x": [
          0,
          0.1,
          0.2,
          0.3,
          0.4,
          0.5,
          0.6,
          0.7,
          0.8,
          0.9,
          1,
          1.1,
          1.2,
          1.3,
          1.4,
          1.5,
          1.6,
          1.7,
          1.8,
          1.9,
          2,
          2.1,
          2.2,
          2.3,
          2.4,
          2.5,
          2.6,
          2.7,
          2.8,
          2.9,
          3,
          3.1,
          3.2,
          3.3,
          3.4,
          3.5,
          3.6,
          3.7,
          3.8,
          3.9,
          4,
          4.1,
          4.2,
          4.3,
          4.4,
          4.5,
          4.6,
          4.7,
          4.8,
          4.9,
          5,
          5.1,
          5.2,
          5.3,
          5.4,
          5.5,
          5.6,
          5.7,
          5.8,
          5.9,
          6,
          6.1,
          6.2,
          6.3,
          6.4,
          6.5,
          6.6,
          6.7,
          6.8,
          6.9,
          7,
          7.1,
          7.2,
          7.3,
          7.4,
          7.5,
          7.6,
          7.7,
          7.8,
          7.9,
          8,
          8.1,
          8.2,
          8.3,
          8.4,
          8.5,
          8.6,
          8.7,
          8.8,
          8.9,
          9,
          9.1,
          9.2,
          9.3,
          9.4,
          9.5,
          9.6,
          9.7,
          9.8,
          9.9,
          10,
          10.1,
          10.2,
          10.3,
          10.4,
          10.5,
          10.6,
          10.7,
          10.8,
          10.9
         ],
         "xaxis": "x2",
         "y": [
          0,
          0,
          0,
          0,
          0,
          0,
          0,
          0,
          0,
          0,
          0,
          -0.003527445092095549,
          -0.013313879647643892,
          -0.022098251367691994,
          -0.027093107718904517,
          -0.03311075452983785,
          -0.04503293739496721,
          -0.06303626504272651,
          -0.08444581214064471,
          -0.1070101413307146,
          -0.12553075218625243,
          -0.0971354276147557,
          -0.0679132239510063,
          -0.06532313674142703,
          -0.07981592663807693,
          -0.09165158958555558,
          -0.09158419808506876,
          -0.0828189863593078,
          -0.07293850644852527,
          -0.06661355257832094,
          -0.06378557148893495,
          -0.06207825446656333,
          -0.059719317377292774,
          -0.056574881470867505,
          -0.05342916432764754,
          -0.050897770259604506,
          -0.04898886176321625,
          -0.04735533148272352,
          -0.045719019170135475,
          -0.044047816889667475,
          -0.04245469657626996,
          -0.041026289777185324,
          -0.03975286311780507,
          -0.03857171925112233,
          -0.03743689368092266,
          -0.036344602139521204,
          -0.03531219189513583,
          -0.034348839488708885,
          -0.03344672909285939,
          -0.03259141548531578,
          -0.03177398339017543,
          -0.030993465763885873,
          -0.030251464928595557,
          -0.029547029395036065,
          -0.0288762479619458,
          -0.028234929847315387,
          -0.02762062447619126,
          -0.027032379168553278,
          -0.026469364495520398,
          -0.025930086082164953,
          -0.025412666262881127,
          -0.02491548799623601,
          -0.024437436682495452,
          -0.02397765955916945,
          -0.02353525366527865,
          -0.023109201963456154,
          -0.02269851541994265,
          -0.02230235692491277,
          -0.021920027324284302,
          -0.021550874819401936,
          -0.02119424155708557,
          -0.020849482115545645,
          -0.020516004692057013,
          -0.020193281845768785,
          -0.01988082815005128,
          -0.019578176706628547,
          -0.019284876223588866,
          -0.019000501809494988,
          -0.01872466130419061,
          -0.01845699025713,
          -0.018197143001168845,
          -0.017944788837105593,
          -0.01769961399522813,
          -0.017461323893806932,
          -0.01722964192105082,
          -0.01700430604252614,
          -0.01678506649040739,
          -0.016571685617753185,
          -0.016363938399456254,
          -0.016161611950260314,
          -0.015964504100878397,
          -0.01577242214048309,
          -0.015585182343451678,
          -0.015402609890806895,
          -0.015224538537860058,
          -0.015050809911878389,
          -0.014881272809779394,
          -0.014715782784642462,
          -0.014554201930498322,
          -0.01439639861291855,
          -0.014242247061742765,
          -0.014091626950569225,
          -0.013944423089111025,
          -0.013800525210766197,
          -0.013659827755971136,
          -0.013522229606694962,
          -0.013387633815514907,
          -0.013255947383280377,
          -0.013127081083213327,
          -0.013000949290941893
         ],
         "yaxis": "y2"
        },
        {
         "line": {
          "color": "rgb(0, 0, 255)",
          "width": 2
         },
         "mode": "lines",
         "name": "Ay",
         "showlegend": false,
         "type": "scatter",
         "x": [
          0,
          0.1,
          0.2,
          0.3,
          0.4,
          0.5,
          0.6,
          0.7,
          0.8,
          0.9,
          1,
          1.1,
          1.2,
          1.3,
          1.4,
          1.5,
          1.6,
          1.7,
          1.8,
          1.9,
          2,
          2.1,
          2.2,
          2.3,
          2.4,
          2.5,
          2.6,
          2.7,
          2.8,
          2.9,
          3,
          3.1,
          3.2,
          3.3,
          3.4,
          3.5,
          3.6,
          3.7,
          3.8,
          3.9,
          4,
          4.1,
          4.2,
          4.3,
          4.4,
          4.5,
          4.6,
          4.7,
          4.8,
          4.9,
          5,
          5.1,
          5.2,
          5.3,
          5.4,
          5.5,
          5.6,
          5.7,
          5.8,
          5.9,
          6,
          6.1,
          6.2,
          6.3,
          6.4,
          6.5,
          6.6,
          6.7,
          6.8,
          6.9,
          7,
          7.1,
          7.2,
          7.3,
          7.4,
          7.5,
          7.6,
          7.7,
          7.8,
          7.9,
          8,
          8.1,
          8.2,
          8.3,
          8.4,
          8.5,
          8.6,
          8.7,
          8.8,
          8.9,
          9,
          9.1,
          9.2,
          9.3,
          9.4,
          9.5,
          9.6,
          9.7,
          9.8,
          9.9,
          10,
          10.1,
          10.2,
          10.3,
          10.4,
          10.5,
          10.6,
          10.7,
          10.8,
          10.9
         ],
         "xaxis": "x2",
         "y": [
          0,
          0,
          0,
          0,
          0,
          0,
          0,
          0,
          0,
          0,
          0,
          -0.0991405125681338,
          -0.16017721748494965,
          -0.13891768216272485,
          -0.0860124088701528,
          -0.05215030554870174,
          -0.04831805453477787,
          -0.060245212759842834,
          -0.07265142326252085,
          -0.07956788504632681,
          -0.07115679991350457,
          0.00218740968204875,
          0.06167316170175211,
          0.0562345278789772,
          0.013000030076294734,
          -0.023358965634452,
          -0.03278752645114058,
          -0.022657998065116175,
          -0.009730206968215287,
          -0.004047127645241413,
          -0.005175051132381954,
          -0.0077717754487189065,
          -0.00808190147608906,
          -0.006089076263172876,
          -0.0037447592356239117,
          -0.002482524944541245,
          -0.002294754189991156,
          -0.0023862495549661924,
          -0.0021653475815928288,
          -0.0016216394692655323,
          -0.001060182149714485,
          -0.000697985599967196,
          -0.0005164498705398936,
          -0.00037826496895273663,
          -0.00019353438040702818,
          2.718227847888142e-05,
          0.00022882277783035823,
          0.0003814554013838859,
          0.0004975041387761288,
          0.0006041083063155012,
          0.0007140787455117151,
          0.0008217664889449444,
          0.0009170511044330691,
          0.0009973438898191608,
          0.001067624213344567,
          0.0011334475494607704,
          0.0011962216730156876,
          0.0012541797083477212,
          0.001305844278786623,
          0.0013517603987662525,
          0.001393577110367854,
          0.0014324074280479002,
          0.001468312015930881,
          0.001500960153325163,
          0.001530377499902677,
          0.001557030064482644,
          0.0015814230877018592,
          0.0016037947501170078,
          0.0016241706457057654,
          0.0016425904001252565,
          0.001659219100298936,
          0.0016742776103989172,
          0.0016879303916865665,
          0.0017002604943242964,
          0.001711325970220122,
          0.0017212117023333662,
          0.0017300264121447083,
          0.0017378685372773908,
          0.001744807982513887,
          0.0017508975812511502,
          0.0017561924106819528,
          0.0017607545754982565,
          0.001764644015526166,
          0.001767910304677089,
          0.0017705941541157066,
          0.001772734040323647,
          0.0017743694610964482,
          0.0017755387684927544,
          0.0017762760023950861,
          0.0017766107200701121,
          0.0017765702294138736,
          0.0017761812003208206,
          0.0017754692806545241,
          0.0017744579583150284,
          0.00177316832274841,
          0.0017716198418230348,
          0.0017698310960168463,
          0.0017678197841038573,
          0.001765602334214118,
          0.0017631937828903501,
          0.0017606080687214702,
          0.0017578583658551313,
          0.0017549571455044086,
          0.0017519160519935647,
          0.0017487458598526321,
          0.0017454566000563647,
          0.00174205771754141,
          0.0017385581223850817,
          0.0017349661568106067,
          0.0017312895879383206
         ],
         "yaxis": "y2"
        }
       ],
       "layout": {
        "autosize": false,
        "font": {
         "color": "black",
         "family": "Arial",
         "size": 14
        },
        "height": 500,
        "legend": {
         "orientation": "h",
         "x": 0.01,
         "xanchor": "left",
         "y": 1.1,
         "yanchor": "top"
        },
        "template": {
         "data": {
          "bar": [
           {
            "error_x": {
             "color": "#2a3f5f"
            },
            "error_y": {
             "color": "#2a3f5f"
            },
            "marker": {
             "line": {
              "color": "white",
              "width": 0.5
             }
            },
            "type": "bar"
           }
          ],
          "barpolar": [
           {
            "marker": {
             "line": {
              "color": "white",
              "width": 0.5
             }
            },
            "type": "barpolar"
           }
          ],
          "carpet": [
           {
            "aaxis": {
             "endlinecolor": "#2a3f5f",
             "gridcolor": "#C8D4E3",
             "linecolor": "#C8D4E3",
             "minorgridcolor": "#C8D4E3",
             "startlinecolor": "#2a3f5f"
            },
            "baxis": {
             "endlinecolor": "#2a3f5f",
             "gridcolor": "#C8D4E3",
             "linecolor": "#C8D4E3",
             "minorgridcolor": "#C8D4E3",
             "startlinecolor": "#2a3f5f"
            },
            "type": "carpet"
           }
          ],
          "choropleth": [
           {
            "colorbar": {
             "outlinewidth": 0,
             "ticks": ""
            },
            "type": "choropleth"
           }
          ],
          "contour": [
           {
            "colorbar": {
             "outlinewidth": 0,
             "ticks": ""
            },
            "colorscale": [
             [
              0,
              "#0d0887"
             ],
             [
              0.1111111111111111,
              "#46039f"
             ],
             [
              0.2222222222222222,
              "#7201a8"
             ],
             [
              0.3333333333333333,
              "#9c179e"
             ],
             [
              0.4444444444444444,
              "#bd3786"
             ],
             [
              0.5555555555555556,
              "#d8576b"
             ],
             [
              0.6666666666666666,
              "#ed7953"
             ],
             [
              0.7777777777777778,
              "#fb9f3a"
             ],
             [
              0.8888888888888888,
              "#fdca26"
             ],
             [
              1,
              "#f0f921"
             ]
            ],
            "type": "contour"
           }
          ],
          "contourcarpet": [
           {
            "colorbar": {
             "outlinewidth": 0,
             "ticks": ""
            },
            "type": "contourcarpet"
           }
          ],
          "heatmap": [
           {
            "colorbar": {
             "outlinewidth": 0,
             "ticks": ""
            },
            "colorscale": [
             [
              0,
              "#0d0887"
             ],
             [
              0.1111111111111111,
              "#46039f"
             ],
             [
              0.2222222222222222,
              "#7201a8"
             ],
             [
              0.3333333333333333,
              "#9c179e"
             ],
             [
              0.4444444444444444,
              "#bd3786"
             ],
             [
              0.5555555555555556,
              "#d8576b"
             ],
             [
              0.6666666666666666,
              "#ed7953"
             ],
             [
              0.7777777777777778,
              "#fb9f3a"
             ],
             [
              0.8888888888888888,
              "#fdca26"
             ],
             [
              1,
              "#f0f921"
             ]
            ],
            "type": "heatmap"
           }
          ],
          "heatmapgl": [
           {
            "colorbar": {
             "outlinewidth": 0,
             "ticks": ""
            },
            "colorscale": [
             [
              0,
              "#0d0887"
             ],
             [
              0.1111111111111111,
              "#46039f"
             ],
             [
              0.2222222222222222,
              "#7201a8"
             ],
             [
              0.3333333333333333,
              "#9c179e"
             ],
             [
              0.4444444444444444,
              "#bd3786"
             ],
             [
              0.5555555555555556,
              "#d8576b"
             ],
             [
              0.6666666666666666,
              "#ed7953"
             ],
             [
              0.7777777777777778,
              "#fb9f3a"
             ],
             [
              0.8888888888888888,
              "#fdca26"
             ],
             [
              1,
              "#f0f921"
             ]
            ],
            "type": "heatmapgl"
           }
          ],
          "histogram": [
           {
            "marker": {
             "colorbar": {
              "outlinewidth": 0,
              "ticks": ""
             }
            },
            "type": "histogram"
           }
          ],
          "histogram2d": [
           {
            "colorbar": {
             "outlinewidth": 0,
             "ticks": ""
            },
            "colorscale": [
             [
              0,
              "#0d0887"
             ],
             [
              0.1111111111111111,
              "#46039f"
             ],
             [
              0.2222222222222222,
              "#7201a8"
             ],
             [
              0.3333333333333333,
              "#9c179e"
             ],
             [
              0.4444444444444444,
              "#bd3786"
             ],
             [
              0.5555555555555556,
              "#d8576b"
             ],
             [
              0.6666666666666666,
              "#ed7953"
             ],
             [
              0.7777777777777778,
              "#fb9f3a"
             ],
             [
              0.8888888888888888,
              "#fdca26"
             ],
             [
              1,
              "#f0f921"
             ]
            ],
            "type": "histogram2d"
           }
          ],
          "histogram2dcontour": [
           {
            "colorbar": {
             "outlinewidth": 0,
             "ticks": ""
            },
            "colorscale": [
             [
              0,
              "#0d0887"
             ],
             [
              0.1111111111111111,
              "#46039f"
             ],
             [
              0.2222222222222222,
              "#7201a8"
             ],
             [
              0.3333333333333333,
              "#9c179e"
             ],
             [
              0.4444444444444444,
              "#bd3786"
             ],
             [
              0.5555555555555556,
              "#d8576b"
             ],
             [
              0.6666666666666666,
              "#ed7953"
             ],
             [
              0.7777777777777778,
              "#fb9f3a"
             ],
             [
              0.8888888888888888,
              "#fdca26"
             ],
             [
              1,
              "#f0f921"
             ]
            ],
            "type": "histogram2dcontour"
           }
          ],
          "mesh3d": [
           {
            "colorbar": {
             "outlinewidth": 0,
             "ticks": ""
            },
            "type": "mesh3d"
           }
          ],
          "parcoords": [
           {
            "line": {
             "colorbar": {
              "outlinewidth": 0,
              "ticks": ""
             }
            },
            "type": "parcoords"
           }
          ],
          "pie": [
           {
            "automargin": true,
            "type": "pie"
           }
          ],
          "scatter": [
           {
            "marker": {
             "colorbar": {
              "outlinewidth": 0,
              "ticks": ""
             }
            },
            "type": "scatter"
           }
          ],
          "scatter3d": [
           {
            "line": {
             "colorbar": {
              "outlinewidth": 0,
              "ticks": ""
             }
            },
            "marker": {
             "colorbar": {
              "outlinewidth": 0,
              "ticks": ""
             }
            },
            "type": "scatter3d"
           }
          ],
          "scattercarpet": [
           {
            "marker": {
             "colorbar": {
              "outlinewidth": 0,
              "ticks": ""
             }
            },
            "type": "scattercarpet"
           }
          ],
          "scattergeo": [
           {
            "marker": {
             "colorbar": {
              "outlinewidth": 0,
              "ticks": ""
             }
            },
            "type": "scattergeo"
           }
          ],
          "scattergl": [
           {
            "marker": {
             "colorbar": {
              "outlinewidth": 0,
              "ticks": ""
             }
            },
            "type": "scattergl"
           }
          ],
          "scattermapbox": [
           {
            "marker": {
             "colorbar": {
              "outlinewidth": 0,
              "ticks": ""
             }
            },
            "type": "scattermapbox"
           }
          ],
          "scatterpolar": [
           {
            "marker": {
             "colorbar": {
              "outlinewidth": 0,
              "ticks": ""
             }
            },
            "type": "scatterpolar"
           }
          ],
          "scatterpolargl": [
           {
            "marker": {
             "colorbar": {
              "outlinewidth": 0,
              "ticks": ""
             }
            },
            "type": "scatterpolargl"
           }
          ],
          "scatterternary": [
           {
            "marker": {
             "colorbar": {
              "outlinewidth": 0,
              "ticks": ""
             }
            },
            "type": "scatterternary"
           }
          ],
          "surface": [
           {
            "colorbar": {
             "outlinewidth": 0,
             "ticks": ""
            },
            "colorscale": [
             [
              0,
              "#0d0887"
             ],
             [
              0.1111111111111111,
              "#46039f"
             ],
             [
              0.2222222222222222,
              "#7201a8"
             ],
             [
              0.3333333333333333,
              "#9c179e"
             ],
             [
              0.4444444444444444,
              "#bd3786"
             ],
             [
              0.5555555555555556,
              "#d8576b"
             ],
             [
              0.6666666666666666,
              "#ed7953"
             ],
             [
              0.7777777777777778,
              "#fb9f3a"
             ],
             [
              0.8888888888888888,
              "#fdca26"
             ],
             [
              1,
              "#f0f921"
             ]
            ],
            "type": "surface"
           }
          ],
          "table": [
           {
            "cells": {
             "fill": {
              "color": "#EBF0F8"
             },
             "line": {
              "color": "white"
             }
            },
            "header": {
             "fill": {
              "color": "#C8D4E3"
             },
             "line": {
              "color": "white"
             }
            },
            "type": "table"
           }
          ]
         },
         "layout": {
          "annotationdefaults": {
           "arrowcolor": "#2a3f5f",
           "arrowhead": 0,
           "arrowwidth": 1
          },
          "coloraxis": {
           "colorbar": {
            "outlinewidth": 0,
            "ticks": ""
           }
          },
          "colorscale": {
           "diverging": [
            [
             0,
             "#8e0152"
            ],
            [
             0.1,
             "#c51b7d"
            ],
            [
             0.2,
             "#de77ae"
            ],
            [
             0.3,
             "#f1b6da"
            ],
            [
             0.4,
             "#fde0ef"
            ],
            [
             0.5,
             "#f7f7f7"
            ],
            [
             0.6,
             "#e6f5d0"
            ],
            [
             0.7,
             "#b8e186"
            ],
            [
             0.8,
             "#7fbc41"
            ],
            [
             0.9,
             "#4d9221"
            ],
            [
             1,
             "#276419"
            ]
           ],
           "sequential": [
            [
             0,
             "#0d0887"
            ],
            [
             0.1111111111111111,
             "#46039f"
            ],
            [
             0.2222222222222222,
             "#7201a8"
            ],
            [
             0.3333333333333333,
             "#9c179e"
            ],
            [
             0.4444444444444444,
             "#bd3786"
            ],
            [
             0.5555555555555556,
             "#d8576b"
            ],
            [
             0.6666666666666666,
             "#ed7953"
            ],
            [
             0.7777777777777778,
             "#fb9f3a"
            ],
            [
             0.8888888888888888,
             "#fdca26"
            ],
            [
             1,
             "#f0f921"
            ]
           ],
           "sequentialminus": [
            [
             0,
             "#0d0887"
            ],
            [
             0.1111111111111111,
             "#46039f"
            ],
            [
             0.2222222222222222,
             "#7201a8"
            ],
            [
             0.3333333333333333,
             "#9c179e"
            ],
            [
             0.4444444444444444,
             "#bd3786"
            ],
            [
             0.5555555555555556,
             "#d8576b"
            ],
            [
             0.6666666666666666,
             "#ed7953"
            ],
            [
             0.7777777777777778,
             "#fb9f3a"
            ],
            [
             0.8888888888888888,
             "#fdca26"
            ],
            [
             1,
             "#f0f921"
            ]
           ]
          },
          "colorway": [
           "#636efa",
           "#EF553B",
           "#00cc96",
           "#ab63fa",
           "#FFA15A",
           "#19d3f3",
           "#FF6692",
           "#B6E880",
           "#FF97FF",
           "#FECB52"
          ],
          "font": {
           "color": "#2a3f5f"
          },
          "geo": {
           "bgcolor": "white",
           "lakecolor": "white",
           "landcolor": "white",
           "showlakes": true,
           "showland": true,
           "subunitcolor": "#C8D4E3"
          },
          "hoverlabel": {
           "align": "left"
          },
          "hovermode": "closest",
          "mapbox": {
           "style": "light"
          },
          "paper_bgcolor": "white",
          "plot_bgcolor": "white",
          "polar": {
           "angularaxis": {
            "gridcolor": "#EBF0F8",
            "linecolor": "#EBF0F8",
            "ticks": ""
           },
           "bgcolor": "white",
           "radialaxis": {
            "gridcolor": "#EBF0F8",
            "linecolor": "#EBF0F8",
            "ticks": ""
           }
          },
          "scene": {
           "xaxis": {
            "backgroundcolor": "white",
            "gridcolor": "#DFE8F3",
            "gridwidth": 2,
            "linecolor": "#EBF0F8",
            "showbackground": true,
            "ticks": "",
            "zerolinecolor": "#EBF0F8"
           },
           "yaxis": {
            "backgroundcolor": "white",
            "gridcolor": "#DFE8F3",
            "gridwidth": 2,
            "linecolor": "#EBF0F8",
            "showbackground": true,
            "ticks": "",
            "zerolinecolor": "#EBF0F8"
           },
           "zaxis": {
            "backgroundcolor": "white",
            "gridcolor": "#DFE8F3",
            "gridwidth": 2,
            "linecolor": "#EBF0F8",
            "showbackground": true,
            "ticks": "",
            "zerolinecolor": "#EBF0F8"
           }
          },
          "shapedefaults": {
           "line": {
            "color": "#2a3f5f"
           }
          },
          "ternary": {
           "aaxis": {
            "gridcolor": "#DFE8F3",
            "linecolor": "#A2B1C6",
            "ticks": ""
           },
           "baxis": {
            "gridcolor": "#DFE8F3",
            "linecolor": "#A2B1C6",
            "ticks": ""
           },
           "bgcolor": "white",
           "caxis": {
            "gridcolor": "#DFE8F3",
            "linecolor": "#A2B1C6",
            "ticks": ""
           }
          },
          "title": {
           "x": 0.05
          },
          "xaxis": {
           "automargin": true,
           "gridcolor": "#EBF0F8",
           "linecolor": "#EBF0F8",
           "ticks": "",
           "title": {
            "standoff": 15
           },
           "zerolinecolor": "#EBF0F8",
           "zerolinewidth": 2
          },
          "yaxis": {
           "automargin": true,
           "gridcolor": "#EBF0F8",
           "linecolor": "#EBF0F8",
           "ticks": "",
           "title": {
            "standoff": 15
           },
           "zerolinecolor": "#EBF0F8",
           "zerolinewidth": 2
          }
         }
        },
        "title": {
         "text": "Veh1 - Vehicle Frame Velocity | Acceleration"
        },
        "width": 900,
        "xaxis": {
         "anchor": "y",
         "domain": [
          0,
          1
         ],
         "linecolor": "black",
         "linewidth": 1,
         "matches": "x2",
         "showgrid": false,
         "showline": true,
         "showticklabels": false,
         "tickcolor": "black",
         "ticklen": 10,
         "ticks": "outside",
         "tickwidth": 1,
         "title": {
          "text": ""
         },
         "zeroline": false
        },
        "xaxis2": {
         "anchor": "y2",
         "domain": [
          0,
          1
         ],
         "linecolor": "black",
         "linewidth": 1,
         "showgrid": false,
         "showline": true,
         "tickcolor": "black",
         "ticklen": 10,
         "ticks": "outside",
         "tickwidth": 1,
         "title": {
          "text": "Time (s)"
         },
         "zeroline": false
        },
        "yaxis": {
         "anchor": "x",
         "domain": [
          0.525,
          1
         ],
         "linecolor": "black",
         "linewidth": 1,
         "showgrid": false,
         "showline": true,
         "tickcolor": "black",
         "ticklen": 10,
         "ticks": "outside",
         "tickwidth": 1,
         "title": {
          "text": "Velocity (mph)"
         },
         "zeroline": false
        },
        "yaxis2": {
         "anchor": "x2",
         "domain": [
          0,
          0.475
         ],
         "linecolor": "black",
         "linewidth": 1,
         "showgrid": false,
         "showline": true,
         "tickcolor": "black",
         "ticklen": 10,
         "ticks": "outside",
         "tickwidth": 1,
         "title": {
          "text": "Acceleration (g)"
         },
         "zeroline": false
        }
       }
      },
      "text/html": [
       "<div>\n",
       "        \n",
       "        \n",
       "            <div id=\"6e292666-1323-4544-af49-0ad90decd96a\" class=\"plotly-graph-div\" style=\"height:500px; width:900px;\"></div>\n",
       "            <script type=\"text/javascript\">\n",
       "                require([\"plotly\"], function(Plotly) {\n",
       "                    window.PLOTLYENV=window.PLOTLYENV || {};\n",
       "                    \n",
       "                if (document.getElementById(\"6e292666-1323-4544-af49-0ad90decd96a\")) {\n",
       "                    Plotly.newPlot(\n",
       "                        '6e292666-1323-4544-af49-0ad90decd96a',\n",
       "                        [{\"line\": {\"color\": \"rgb(0, 255, 0)\", \"width\": 2}, \"mode\": \"lines\", \"name\": \"x\", \"type\": \"scatter\", \"x\": [0.0, 0.1, 0.2, 0.3, 0.4, 0.5, 0.6, 0.7, 0.8, 0.9, 1.0, 1.1, 1.2, 1.3, 1.4, 1.5, 1.6, 1.7, 1.8, 1.9, 2.0, 2.1, 2.2, 2.3, 2.4, 2.5, 2.6, 2.7, 2.8, 2.9, 3.0, 3.1, 3.2, 3.3, 3.4, 3.5, 3.6, 3.7, 3.8, 3.9, 4.0, 4.1, 4.2, 4.3, 4.4, 4.5, 4.6, 4.7, 4.8, 4.9, 5.0, 5.1, 5.2, 5.3, 5.4, 5.5, 5.6, 5.7, 5.8, 5.9, 6.0, 6.1, 6.2, 6.3, 6.4, 6.5, 6.6, 6.7, 6.8, 6.9, 7.0, 7.1, 7.2, 7.3, 7.4, 7.5, 7.6, 7.7, 7.8, 7.9, 8.0, 8.1, 8.2, 8.3, 8.4, 8.5, 8.6, 8.7, 8.8, 8.9, 9.0, 9.1, 9.2, 9.3, 9.4, 9.5, 9.6, 9.7, 9.8, 9.9, 10.0, 10.1, 10.2, 10.3, 10.4, 10.5, 10.6, 10.7, 10.8, 10.9], \"xaxis\": \"x\", \"y\": [15.0, 15.0, 15.0, 15.0, 15.0, 15.0, 15.0, 15.0, 15.0, 15.0, 15.0, 14.99612783611973, 14.977640696660286, 14.938767923006575, 14.884769349278729, 14.81868207796311, 14.732901811100806, 14.61427156985725, 14.452376839437164, 14.242210895435523, 13.986944994747354, 13.742518811979844, 13.561340817597415, 13.415083963148344, 13.25576121703572, 13.067537075872373, 12.866394611548628, 12.67494791463968, 12.503969055441216, 12.350779302440731, 12.207636952935879, 12.069473112543458, 11.935772900042616, 11.808113876441167, 11.687359709699086, 11.572837448600492, 11.463189417648238, 11.357430009515554, 11.255259988617123, 11.156720708440748, 11.061764756058714, 10.970125608855144, 10.881452331184683, 10.79547349639978, 10.712036958650598, 10.6310451825381, 10.552385744221509, 10.475917104017515, 10.401496228553828, 10.32900452096394, 10.25834902777901, 10.18944764359713, 10.122217565655333, 10.056575276755277, 9.992442597594497, 9.929750242618319, 9.868436216654166, 9.808442260366768, 9.749712070685954, 9.692191895438574, 9.635831684023925, 9.580585222067809, 9.52640929378622, 9.473262843017416, 9.421106740900811, 9.369903966205573, 9.319619699814856, 9.270221127214874, 9.221677120286795, 9.17395803388608, 9.127035660505467, 9.080883223274911, 9.035475303456384, 8.990787710933253, 8.946797367438624, 8.903482240096238, 8.860821303949969, 8.818794495851852, 8.777382649551708, 8.736567429349668, 8.696331279059649, 8.656657384959667, 8.617529640777228, 8.578932608042294, 8.540851475298103, 8.503272022373206, 8.466180590914172, 8.429564057614835, 8.393409807055605, 8.357705704521942, 8.322440070914974, 8.287601660605503, 8.253179641187955, 8.219163573840047, 8.185543394133532, 8.152309393980751, 8.119452205123087, 8.08696278384426, 8.054832396373747, 8.023052604822205, 7.991615253859681, 7.96051245830252, 7.9297365914995686, 7.899280274289288, 7.8691363644278685, 7.839297946546619, 7.809758322698203, 7.780511003444342, 7.751549699380677, 7.722868313041289], \"yaxis\": \"y\"}, {\"line\": {\"color\": \"rgb(0, 0, 255)\", \"width\": 2}, \"mode\": \"lines\", \"name\": \"y\", \"type\": \"scatter\", \"x\": [0.0, 0.1, 0.2, 0.3, 0.4, 0.5, 0.6, 0.7, 0.8, 0.9, 1.0, 1.1, 1.2, 1.3, 1.4, 1.5, 1.6, 1.7, 1.8, 1.9, 2.0, 2.1, 2.2, 2.3, 2.4, 2.5, 2.6, 2.7, 2.8, 2.9, 3.0, 3.1, 3.2, 3.3, 3.4, 3.5, 3.6, 3.7, 3.8, 3.9, 4.0, 4.1, 4.2, 4.3, 4.4, 4.5, 4.6, 4.7, 4.8, 4.9, 5.0, 5.1, 5.2, 5.3, 5.4, 5.5, 5.6, 5.7, 5.8, 5.9, 6.0, 6.1, 6.2, 6.3, 6.4, 6.5, 6.6, 6.7, 6.8, 6.9, 7.0, 7.1, 7.2, 7.3, 7.4, 7.5, 7.6, 7.7, 7.8, 7.9, 8.0, 8.1, 8.2, 8.3, 8.4, 8.5, 8.6, 8.7, 8.8, 8.9, 9.0, 9.1, 9.2, 9.3, 9.4, 9.5, 9.6, 9.7, 9.8, 9.9, 10.0, 10.1, 10.2, 10.3, 10.4, 10.5, 10.6, 10.7, 10.8, 10.9], \"xaxis\": \"x\", \"y\": [0.0, 0.0, 0.0, 0.0, 0.0, 0.0, 0.0, 0.0, 0.0, 0.0, 0.0, -0.10882899713957157, -0.3934884947671663, -0.721812377053404, -0.9687237112750987, -1.1203883462743527, -1.23067495453279, -1.349847543011684, -1.4957314732727554, -1.6628263796779075, -1.8282806009992194, -1.903990009572821, -1.833888678034084, -1.7044584856765843, -1.628457995922251, -1.6398292561570913, -1.701462651711513, -1.762326577796572, -1.797879912973308, -1.8130036345518943, -1.8231270487022986, -1.8373391010355244, -1.8547420750166794, -1.8702979084081117, -1.8810927532969162, -1.8879285974404971, -1.8931727351174097, -1.8983111889136837, -1.903307589869495, -1.907464659388802, -1.9104085614298598, -1.9123385457323872, -1.913671661639521, -1.9146538122879855, -1.9152814906017637, -1.9154640994259056, -1.9151830763323279, -1.9145131588535935, -1.9135483031875902, -1.912339035910972, -1.9108920293222766, -1.9092060939533968, -1.9072973507969002, -1.9051958719770252, -1.902929105324613, -1.9005129343126492, -1.89795559868283, -1.8952657323707114, -1.8924555306080202, -1.8895382121036122, -1.886524587096142, -1.8834224338463659, -1.8802382422389792, -1.8769787986064632, -1.8736512241543393, -1.870262100371443, -1.8668169425820171, -1.8633204500384402, -1.8597770324412473, -1.8561910278977658, -1.8525665497972503, -1.8489072878608752, -1.8452165088285382, -1.8414972077407152, -1.8377522247466427, -1.8339842430924114, -1.830195733499722, -1.8263889392865933, -1.822565918977414, -1.8187285963638324, -1.8148787767813686, -1.811018136932084, -1.807148219546749, -1.8032704471401906, -1.7993861431190703, -1.7954965439638089, -1.7916028005605307, -1.7877059783376457, -1.783807063257137, -1.7799069714688214, -1.776006556700217, -1.7721066134260839, -1.768207878690683, -1.76431103560073, -1.7604167183292838, -1.7565255165286335, -1.7526379780844556, -1.7487546110577938, -1.7448758860477425, -1.7410022391138458, -1.7371340745089279, -1.73327176672349, -1.7294156620964853, -1.7255660804946447, -1.7217233171749666, -1.7178876445557314, -1.7140593136760296, -1.710238555426197, -1.7064255817582927, -1.7026205869407498], \"yaxis\": \"y\"}, {\"line\": {\"color\": \"rgb(0, 255, 0)\", \"width\": 2}, \"mode\": \"lines\", \"name\": \"Ax\", \"showlegend\": false, \"type\": \"scatter\", \"x\": [0.0, 0.1, 0.2, 0.3, 0.4, 0.5, 0.6, 0.7, 0.8, 0.9, 1.0, 1.1, 1.2, 1.3, 1.4, 1.5, 1.6, 1.7, 1.8, 1.9, 2.0, 2.1, 2.2, 2.3, 2.4, 2.5, 2.6, 2.7, 2.8, 2.9, 3.0, 3.1, 3.2, 3.3, 3.4, 3.5, 3.6, 3.7, 3.8, 3.9, 4.0, 4.1, 4.2, 4.3, 4.4, 4.5, 4.6, 4.7, 4.8, 4.9, 5.0, 5.1, 5.2, 5.3, 5.4, 5.5, 5.6, 5.7, 5.8, 5.9, 6.0, 6.1, 6.2, 6.3, 6.4, 6.5, 6.6, 6.7, 6.8, 6.9, 7.0, 7.1, 7.2, 7.3, 7.4, 7.5, 7.6, 7.7, 7.8, 7.9, 8.0, 8.1, 8.2, 8.3, 8.4, 8.5, 8.6, 8.7, 8.8, 8.9, 9.0, 9.1, 9.2, 9.3, 9.4, 9.5, 9.6, 9.7, 9.8, 9.9, 10.0, 10.1, 10.2, 10.3, 10.4, 10.5, 10.6, 10.7, 10.8, 10.9], \"xaxis\": \"x2\", \"y\": [0.0, 0.0, 0.0, 0.0, 0.0, 0.0, 0.0, 0.0, 0.0, 0.0, 0.0, -0.003527445092095549, -0.013313879647643892, -0.022098251367691994, -0.027093107718904517, -0.03311075452983785, -0.04503293739496721, -0.06303626504272651, -0.08444581214064471, -0.1070101413307146, -0.12553075218625243, -0.0971354276147557, -0.0679132239510063, -0.06532313674142703, -0.07981592663807693, -0.09165158958555558, -0.09158419808506876, -0.0828189863593078, -0.07293850644852527, -0.06661355257832094, -0.06378557148893495, -0.06207825446656333, -0.059719317377292774, -0.056574881470867505, -0.05342916432764754, -0.050897770259604506, -0.04898886176321625, -0.04735533148272352, -0.045719019170135475, -0.044047816889667475, -0.04245469657626996, -0.041026289777185324, -0.03975286311780507, -0.03857171925112233, -0.03743689368092266, -0.036344602139521204, -0.03531219189513583, -0.034348839488708885, -0.03344672909285939, -0.03259141548531578, -0.03177398339017543, -0.030993465763885873, -0.030251464928595557, -0.029547029395036065, -0.0288762479619458, -0.028234929847315387, -0.02762062447619126, -0.027032379168553278, -0.026469364495520398, -0.025930086082164953, -0.025412666262881127, -0.02491548799623601, -0.024437436682495452, -0.02397765955916945, -0.02353525366527865, -0.023109201963456154, -0.02269851541994265, -0.02230235692491277, -0.021920027324284302, -0.021550874819401936, -0.02119424155708557, -0.020849482115545645, -0.020516004692057013, -0.020193281845768785, -0.01988082815005128, -0.019578176706628547, -0.019284876223588866, -0.019000501809494988, -0.01872466130419061, -0.01845699025713, -0.018197143001168845, -0.017944788837105593, -0.01769961399522813, -0.017461323893806932, -0.01722964192105082, -0.01700430604252614, -0.01678506649040739, -0.016571685617753185, -0.016363938399456254, -0.016161611950260314, -0.015964504100878397, -0.01577242214048309, -0.015585182343451678, -0.015402609890806895, -0.015224538537860058, -0.015050809911878389, -0.014881272809779394, -0.014715782784642462, -0.014554201930498322, -0.01439639861291855, -0.014242247061742765, -0.014091626950569225, -0.013944423089111025, -0.013800525210766197, -0.013659827755971136, -0.013522229606694962, -0.013387633815514907, -0.013255947383280377, -0.013127081083213327, -0.013000949290941893], \"yaxis\": \"y2\"}, {\"line\": {\"color\": \"rgb(0, 0, 255)\", \"width\": 2}, \"mode\": \"lines\", \"name\": \"Ay\", \"showlegend\": false, \"type\": \"scatter\", \"x\": [0.0, 0.1, 0.2, 0.3, 0.4, 0.5, 0.6, 0.7, 0.8, 0.9, 1.0, 1.1, 1.2, 1.3, 1.4, 1.5, 1.6, 1.7, 1.8, 1.9, 2.0, 2.1, 2.2, 2.3, 2.4, 2.5, 2.6, 2.7, 2.8, 2.9, 3.0, 3.1, 3.2, 3.3, 3.4, 3.5, 3.6, 3.7, 3.8, 3.9, 4.0, 4.1, 4.2, 4.3, 4.4, 4.5, 4.6, 4.7, 4.8, 4.9, 5.0, 5.1, 5.2, 5.3, 5.4, 5.5, 5.6, 5.7, 5.8, 5.9, 6.0, 6.1, 6.2, 6.3, 6.4, 6.5, 6.6, 6.7, 6.8, 6.9, 7.0, 7.1, 7.2, 7.3, 7.4, 7.5, 7.6, 7.7, 7.8, 7.9, 8.0, 8.1, 8.2, 8.3, 8.4, 8.5, 8.6, 8.7, 8.8, 8.9, 9.0, 9.1, 9.2, 9.3, 9.4, 9.5, 9.6, 9.7, 9.8, 9.9, 10.0, 10.1, 10.2, 10.3, 10.4, 10.5, 10.6, 10.7, 10.8, 10.9], \"xaxis\": \"x2\", \"y\": [0.0, 0.0, 0.0, 0.0, 0.0, 0.0, 0.0, 0.0, 0.0, 0.0, 0.0, -0.0991405125681338, -0.16017721748494965, -0.13891768216272485, -0.0860124088701528, -0.05215030554870174, -0.04831805453477787, -0.060245212759842834, -0.07265142326252085, -0.07956788504632681, -0.07115679991350457, 0.00218740968204875, 0.06167316170175211, 0.0562345278789772, 0.013000030076294734, -0.023358965634452, -0.03278752645114058, -0.022657998065116175, -0.009730206968215287, -0.004047127645241413, -0.005175051132381954, -0.0077717754487189065, -0.00808190147608906, -0.006089076263172876, -0.0037447592356239117, -0.002482524944541245, -0.002294754189991156, -0.0023862495549661924, -0.0021653475815928288, -0.0016216394692655323, -0.001060182149714485, -0.000697985599967196, -0.0005164498705398936, -0.00037826496895273663, -0.00019353438040702818, 2.718227847888142e-05, 0.00022882277783035823, 0.0003814554013838859, 0.0004975041387761288, 0.0006041083063155012, 0.0007140787455117151, 0.0008217664889449444, 0.0009170511044330691, 0.0009973438898191608, 0.001067624213344567, 0.0011334475494607704, 0.0011962216730156876, 0.0012541797083477212, 0.001305844278786623, 0.0013517603987662525, 0.001393577110367854, 0.0014324074280479002, 0.001468312015930881, 0.001500960153325163, 0.001530377499902677, 0.001557030064482644, 0.0015814230877018592, 0.0016037947501170078, 0.0016241706457057654, 0.0016425904001252565, 0.001659219100298936, 0.0016742776103989172, 0.0016879303916865665, 0.0017002604943242964, 0.001711325970220122, 0.0017212117023333662, 0.0017300264121447083, 0.0017378685372773908, 0.001744807982513887, 0.0017508975812511502, 0.0017561924106819528, 0.0017607545754982565, 0.001764644015526166, 0.001767910304677089, 0.0017705941541157066, 0.001772734040323647, 0.0017743694610964482, 0.0017755387684927544, 0.0017762760023950861, 0.0017766107200701121, 0.0017765702294138736, 0.0017761812003208206, 0.0017754692806545241, 0.0017744579583150284, 0.00177316832274841, 0.0017716198418230348, 0.0017698310960168463, 0.0017678197841038573, 0.001765602334214118, 0.0017631937828903501, 0.0017606080687214702, 0.0017578583658551313, 0.0017549571455044086, 0.0017519160519935647, 0.0017487458598526321, 0.0017454566000563647, 0.00174205771754141, 0.0017385581223850817, 0.0017349661568106067, 0.0017312895879383206], \"yaxis\": \"y2\"}],\n",
       "                        {\"autosize\": false, \"font\": {\"color\": \"black\", \"family\": \"Arial\", \"size\": 14}, \"height\": 500, \"legend\": {\"orientation\": \"h\", \"x\": 0.01, \"xanchor\": \"left\", \"y\": 1.1, \"yanchor\": \"top\"}, \"template\": {\"data\": {\"bar\": [{\"error_x\": {\"color\": \"#2a3f5f\"}, \"error_y\": {\"color\": \"#2a3f5f\"}, \"marker\": {\"line\": {\"color\": \"white\", \"width\": 0.5}}, \"type\": \"bar\"}], \"barpolar\": [{\"marker\": {\"line\": {\"color\": \"white\", \"width\": 0.5}}, \"type\": \"barpolar\"}], \"carpet\": [{\"aaxis\": {\"endlinecolor\": \"#2a3f5f\", \"gridcolor\": \"#C8D4E3\", \"linecolor\": \"#C8D4E3\", \"minorgridcolor\": \"#C8D4E3\", \"startlinecolor\": \"#2a3f5f\"}, \"baxis\": {\"endlinecolor\": \"#2a3f5f\", \"gridcolor\": \"#C8D4E3\", \"linecolor\": \"#C8D4E3\", \"minorgridcolor\": \"#C8D4E3\", \"startlinecolor\": \"#2a3f5f\"}, \"type\": \"carpet\"}], \"choropleth\": [{\"colorbar\": {\"outlinewidth\": 0, \"ticks\": \"\"}, \"type\": \"choropleth\"}], \"contour\": [{\"colorbar\": {\"outlinewidth\": 0, \"ticks\": \"\"}, \"colorscale\": [[0.0, \"#0d0887\"], [0.1111111111111111, \"#46039f\"], [0.2222222222222222, \"#7201a8\"], [0.3333333333333333, \"#9c179e\"], [0.4444444444444444, \"#bd3786\"], [0.5555555555555556, \"#d8576b\"], [0.6666666666666666, \"#ed7953\"], [0.7777777777777778, \"#fb9f3a\"], [0.8888888888888888, \"#fdca26\"], [1.0, \"#f0f921\"]], \"type\": \"contour\"}], \"contourcarpet\": [{\"colorbar\": {\"outlinewidth\": 0, \"ticks\": \"\"}, \"type\": \"contourcarpet\"}], \"heatmap\": [{\"colorbar\": {\"outlinewidth\": 0, \"ticks\": \"\"}, \"colorscale\": [[0.0, \"#0d0887\"], [0.1111111111111111, \"#46039f\"], [0.2222222222222222, \"#7201a8\"], [0.3333333333333333, \"#9c179e\"], [0.4444444444444444, \"#bd3786\"], [0.5555555555555556, \"#d8576b\"], [0.6666666666666666, \"#ed7953\"], [0.7777777777777778, \"#fb9f3a\"], [0.8888888888888888, \"#fdca26\"], [1.0, \"#f0f921\"]], \"type\": \"heatmap\"}], \"heatmapgl\": [{\"colorbar\": {\"outlinewidth\": 0, \"ticks\": \"\"}, \"colorscale\": [[0.0, \"#0d0887\"], [0.1111111111111111, \"#46039f\"], [0.2222222222222222, \"#7201a8\"], [0.3333333333333333, \"#9c179e\"], [0.4444444444444444, \"#bd3786\"], [0.5555555555555556, \"#d8576b\"], [0.6666666666666666, \"#ed7953\"], [0.7777777777777778, \"#fb9f3a\"], [0.8888888888888888, \"#fdca26\"], [1.0, \"#f0f921\"]], \"type\": \"heatmapgl\"}], \"histogram\": [{\"marker\": {\"colorbar\": {\"outlinewidth\": 0, \"ticks\": \"\"}}, \"type\": \"histogram\"}], \"histogram2d\": [{\"colorbar\": {\"outlinewidth\": 0, \"ticks\": \"\"}, \"colorscale\": [[0.0, \"#0d0887\"], [0.1111111111111111, \"#46039f\"], [0.2222222222222222, \"#7201a8\"], [0.3333333333333333, \"#9c179e\"], [0.4444444444444444, \"#bd3786\"], [0.5555555555555556, \"#d8576b\"], [0.6666666666666666, \"#ed7953\"], [0.7777777777777778, \"#fb9f3a\"], [0.8888888888888888, \"#fdca26\"], [1.0, \"#f0f921\"]], \"type\": \"histogram2d\"}], \"histogram2dcontour\": [{\"colorbar\": {\"outlinewidth\": 0, \"ticks\": \"\"}, \"colorscale\": [[0.0, \"#0d0887\"], [0.1111111111111111, \"#46039f\"], [0.2222222222222222, \"#7201a8\"], [0.3333333333333333, \"#9c179e\"], [0.4444444444444444, \"#bd3786\"], [0.5555555555555556, \"#d8576b\"], [0.6666666666666666, \"#ed7953\"], [0.7777777777777778, \"#fb9f3a\"], [0.8888888888888888, \"#fdca26\"], [1.0, \"#f0f921\"]], \"type\": \"histogram2dcontour\"}], \"mesh3d\": [{\"colorbar\": {\"outlinewidth\": 0, \"ticks\": \"\"}, \"type\": \"mesh3d\"}], \"parcoords\": [{\"line\": {\"colorbar\": {\"outlinewidth\": 0, \"ticks\": \"\"}}, \"type\": \"parcoords\"}], \"pie\": [{\"automargin\": true, \"type\": \"pie\"}], \"scatter\": [{\"marker\": {\"colorbar\": {\"outlinewidth\": 0, \"ticks\": \"\"}}, \"type\": \"scatter\"}], \"scatter3d\": [{\"line\": {\"colorbar\": {\"outlinewidth\": 0, \"ticks\": \"\"}}, \"marker\": {\"colorbar\": {\"outlinewidth\": 0, \"ticks\": \"\"}}, \"type\": \"scatter3d\"}], \"scattercarpet\": [{\"marker\": {\"colorbar\": {\"outlinewidth\": 0, \"ticks\": \"\"}}, \"type\": \"scattercarpet\"}], \"scattergeo\": [{\"marker\": {\"colorbar\": {\"outlinewidth\": 0, \"ticks\": \"\"}}, \"type\": \"scattergeo\"}], \"scattergl\": [{\"marker\": {\"colorbar\": {\"outlinewidth\": 0, \"ticks\": \"\"}}, \"type\": \"scattergl\"}], \"scattermapbox\": [{\"marker\": {\"colorbar\": {\"outlinewidth\": 0, \"ticks\": \"\"}}, \"type\": \"scattermapbox\"}], \"scatterpolar\": [{\"marker\": {\"colorbar\": {\"outlinewidth\": 0, \"ticks\": \"\"}}, \"type\": \"scatterpolar\"}], \"scatterpolargl\": [{\"marker\": {\"colorbar\": {\"outlinewidth\": 0, \"ticks\": \"\"}}, \"type\": \"scatterpolargl\"}], \"scatterternary\": [{\"marker\": {\"colorbar\": {\"outlinewidth\": 0, \"ticks\": \"\"}}, \"type\": \"scatterternary\"}], \"surface\": [{\"colorbar\": {\"outlinewidth\": 0, \"ticks\": \"\"}, \"colorscale\": [[0.0, \"#0d0887\"], [0.1111111111111111, \"#46039f\"], [0.2222222222222222, \"#7201a8\"], [0.3333333333333333, \"#9c179e\"], [0.4444444444444444, \"#bd3786\"], [0.5555555555555556, \"#d8576b\"], [0.6666666666666666, \"#ed7953\"], [0.7777777777777778, \"#fb9f3a\"], [0.8888888888888888, \"#fdca26\"], [1.0, \"#f0f921\"]], \"type\": \"surface\"}], \"table\": [{\"cells\": {\"fill\": {\"color\": \"#EBF0F8\"}, \"line\": {\"color\": \"white\"}}, \"header\": {\"fill\": {\"color\": \"#C8D4E3\"}, \"line\": {\"color\": \"white\"}}, \"type\": \"table\"}]}, \"layout\": {\"annotationdefaults\": {\"arrowcolor\": \"#2a3f5f\", \"arrowhead\": 0, \"arrowwidth\": 1}, \"coloraxis\": {\"colorbar\": {\"outlinewidth\": 0, \"ticks\": \"\"}}, \"colorscale\": {\"diverging\": [[0, \"#8e0152\"], [0.1, \"#c51b7d\"], [0.2, \"#de77ae\"], [0.3, \"#f1b6da\"], [0.4, \"#fde0ef\"], [0.5, \"#f7f7f7\"], [0.6, \"#e6f5d0\"], [0.7, \"#b8e186\"], [0.8, \"#7fbc41\"], [0.9, \"#4d9221\"], [1, \"#276419\"]], \"sequential\": [[0.0, \"#0d0887\"], [0.1111111111111111, \"#46039f\"], [0.2222222222222222, \"#7201a8\"], [0.3333333333333333, \"#9c179e\"], [0.4444444444444444, \"#bd3786\"], [0.5555555555555556, \"#d8576b\"], [0.6666666666666666, \"#ed7953\"], [0.7777777777777778, \"#fb9f3a\"], [0.8888888888888888, \"#fdca26\"], [1.0, \"#f0f921\"]], \"sequentialminus\": [[0.0, \"#0d0887\"], [0.1111111111111111, \"#46039f\"], [0.2222222222222222, \"#7201a8\"], [0.3333333333333333, \"#9c179e\"], [0.4444444444444444, \"#bd3786\"], [0.5555555555555556, \"#d8576b\"], [0.6666666666666666, \"#ed7953\"], [0.7777777777777778, \"#fb9f3a\"], [0.8888888888888888, \"#fdca26\"], [1.0, \"#f0f921\"]]}, \"colorway\": [\"#636efa\", \"#EF553B\", \"#00cc96\", \"#ab63fa\", \"#FFA15A\", \"#19d3f3\", \"#FF6692\", \"#B6E880\", \"#FF97FF\", \"#FECB52\"], \"font\": {\"color\": \"#2a3f5f\"}, \"geo\": {\"bgcolor\": \"white\", \"lakecolor\": \"white\", \"landcolor\": \"white\", \"showlakes\": true, \"showland\": true, \"subunitcolor\": \"#C8D4E3\"}, \"hoverlabel\": {\"align\": \"left\"}, \"hovermode\": \"closest\", \"mapbox\": {\"style\": \"light\"}, \"paper_bgcolor\": \"white\", \"plot_bgcolor\": \"white\", \"polar\": {\"angularaxis\": {\"gridcolor\": \"#EBF0F8\", \"linecolor\": \"#EBF0F8\", \"ticks\": \"\"}, \"bgcolor\": \"white\", \"radialaxis\": {\"gridcolor\": \"#EBF0F8\", \"linecolor\": \"#EBF0F8\", \"ticks\": \"\"}}, \"scene\": {\"xaxis\": {\"backgroundcolor\": \"white\", \"gridcolor\": \"#DFE8F3\", \"gridwidth\": 2, \"linecolor\": \"#EBF0F8\", \"showbackground\": true, \"ticks\": \"\", \"zerolinecolor\": \"#EBF0F8\"}, \"yaxis\": {\"backgroundcolor\": \"white\", \"gridcolor\": \"#DFE8F3\", \"gridwidth\": 2, \"linecolor\": \"#EBF0F8\", \"showbackground\": true, \"ticks\": \"\", \"zerolinecolor\": \"#EBF0F8\"}, \"zaxis\": {\"backgroundcolor\": \"white\", \"gridcolor\": \"#DFE8F3\", \"gridwidth\": 2, \"linecolor\": \"#EBF0F8\", \"showbackground\": true, \"ticks\": \"\", \"zerolinecolor\": \"#EBF0F8\"}}, \"shapedefaults\": {\"line\": {\"color\": \"#2a3f5f\"}}, \"ternary\": {\"aaxis\": {\"gridcolor\": \"#DFE8F3\", \"linecolor\": \"#A2B1C6\", \"ticks\": \"\"}, \"baxis\": {\"gridcolor\": \"#DFE8F3\", \"linecolor\": \"#A2B1C6\", \"ticks\": \"\"}, \"bgcolor\": \"white\", \"caxis\": {\"gridcolor\": \"#DFE8F3\", \"linecolor\": \"#A2B1C6\", \"ticks\": \"\"}}, \"title\": {\"x\": 0.05}, \"xaxis\": {\"automargin\": true, \"gridcolor\": \"#EBF0F8\", \"linecolor\": \"#EBF0F8\", \"ticks\": \"\", \"title\": {\"standoff\": 15}, \"zerolinecolor\": \"#EBF0F8\", \"zerolinewidth\": 2}, \"yaxis\": {\"automargin\": true, \"gridcolor\": \"#EBF0F8\", \"linecolor\": \"#EBF0F8\", \"ticks\": \"\", \"title\": {\"standoff\": 15}, \"zerolinecolor\": \"#EBF0F8\", \"zerolinewidth\": 2}}}, \"title\": {\"text\": \"Veh1 - Vehicle Frame Velocity | Acceleration\"}, \"width\": 900, \"xaxis\": {\"anchor\": \"y\", \"domain\": [0.0, 1.0], \"linecolor\": \"black\", \"linewidth\": 1, \"matches\": \"x2\", \"showgrid\": false, \"showline\": true, \"showticklabels\": false, \"tickcolor\": \"black\", \"ticklen\": 10, \"ticks\": \"outside\", \"tickwidth\": 1, \"title\": {\"text\": \"\"}, \"zeroline\": false}, \"xaxis2\": {\"anchor\": \"y2\", \"domain\": [0.0, 1.0], \"linecolor\": \"black\", \"linewidth\": 1, \"showgrid\": false, \"showline\": true, \"tickcolor\": \"black\", \"ticklen\": 10, \"ticks\": \"outside\", \"tickwidth\": 1, \"title\": {\"text\": \"Time (s)\"}, \"zeroline\": false}, \"yaxis\": {\"anchor\": \"x\", \"domain\": [0.525, 1.0], \"linecolor\": \"black\", \"linewidth\": 1, \"showgrid\": false, \"showline\": true, \"tickcolor\": \"black\", \"ticklen\": 10, \"ticks\": \"outside\", \"tickwidth\": 1, \"title\": {\"text\": \"Velocity (mph)\"}, \"zeroline\": false}, \"yaxis2\": {\"anchor\": \"x2\", \"domain\": [0.0, 0.475], \"linecolor\": \"black\", \"linewidth\": 1, \"showgrid\": false, \"showline\": true, \"tickcolor\": \"black\", \"ticklen\": 10, \"ticks\": \"outside\", \"tickwidth\": 1, \"title\": {\"text\": \"Acceleration (g)\"}, \"zeroline\": false}},\n",
       "                        {\"responsive\": true}\n",
       "                    ).then(function(){\n",
       "                            \n",
       "var gd = document.getElementById('6e292666-1323-4544-af49-0ad90decd96a');\n",
       "var x = new MutationObserver(function (mutations, observer) {{\n",
       "        var display = window.getComputedStyle(gd).display;\n",
       "        if (!display || display === 'none') {{\n",
       "            console.log([gd, 'removed!']);\n",
       "            Plotly.purge(gd);\n",
       "            observer.disconnect();\n",
       "        }}\n",
       "}});\n",
       "\n",
       "// Listen for the removal of the full notebook cells\n",
       "var notebookContainer = gd.closest('#notebook-container');\n",
       "if (notebookContainer) {{\n",
       "    x.observe(notebookContainer, {childList: true});\n",
       "}}\n",
       "\n",
       "// Listen for the clearing of the current output cell\n",
       "var outputEl = gd.closest('.output');\n",
       "if (outputEl) {{\n",
       "    x.observe(outputEl, {childList: true});\n",
       "}}\n",
       "\n",
       "                        })\n",
       "                };\n",
       "                });\n",
       "            </script>\n",
       "        </div>"
      ]
     },
     "metadata": {},
     "output_type": "display_data"
    },
    {
     "data": {
      "application/vnd.plotly.v1+json": {
       "config": {
        "plotlyServerURL": "https://plot.ly"
       },
       "data": [
        {
         "line": {
          "color": "rgb(0, 0, 255)",
          "width": 2
         },
         "mode": "lines",
         "name": "LF",
         "type": "scatter",
         "x": [
          0,
          0.1,
          0.2,
          0.3,
          0.4,
          0.5,
          0.6,
          0.7,
          0.8,
          0.9,
          1,
          1.1,
          1.2,
          1.3,
          1.4,
          1.5,
          1.6,
          1.7,
          1.8,
          1.9,
          2,
          2.1,
          2.2,
          2.3,
          2.4,
          2.5,
          2.6,
          2.7,
          2.8,
          2.9,
          3,
          3.1,
          3.2,
          3.3,
          3.4,
          3.5,
          3.6,
          3.7,
          3.8,
          3.9,
          4,
          4.1,
          4.2,
          4.3,
          4.4,
          4.5,
          4.6,
          4.7,
          4.8,
          4.9,
          5,
          5.1,
          5.2,
          5.3,
          5.4,
          5.5,
          5.6,
          5.7,
          5.8,
          5.9,
          6,
          6.1,
          6.2,
          6.3,
          6.4,
          6.5,
          6.6,
          6.7,
          6.8,
          6.9,
          7,
          7.1,
          7.2,
          7.3,
          7.4,
          7.5,
          7.6,
          7.7,
          7.8,
          7.9,
          8,
          8.1,
          8.2,
          8.3,
          8.4,
          8.5,
          8.6,
          8.7,
          8.8,
          8.9,
          9,
          9.1,
          9.2,
          9.3,
          9.4,
          9.5,
          9.6,
          9.7,
          9.8,
          9.9,
          10,
          10.1,
          10.2,
          10.3,
          10.4,
          10.5,
          10.6,
          10.7,
          10.8,
          10.9
         ],
         "xaxis": "x",
         "y": [
          0,
          0,
          0,
          0,
          0,
          0,
          0,
          0,
          0,
          0,
          0,
          -5.816756956865561,
          -20.396141826249853,
          -33.520622939971744,
          -45.140396410681454,
          -60.046487892360304,
          -79.98320049314668,
          -101.9259651096179,
          -122.12346335332444,
          -139.31953281956828,
          -154.01102038597966,
          -118.73482508738539,
          -96.75531198837089,
          -95.39320929087977,
          -103.05578082612142,
          -106.43052724629149,
          -102.9092333229457,
          -96.47732302597808,
          -91.00894032972256,
          -88.11776792804096,
          -87.04789186565868,
          -86.07590596625981,
          -84.24110040568175,
          -81.75322249407066,
          -79.28823371170344,
          -77.25068886957057,
          -75.5727573867745,
          -73.97222470493995,
          -72.27358217440333,
          -70.50284564032997,
          -68.77572858824242,
          -67.1609210510425,
          -65.64146097823485,
          -64.16432493241169,
          -62.6993148900425,
          -61.25345645808484,
          -59.84745667224172,
          -58.490423461353586,
          -57.17540243610917,
          -55.89092826548997,
          -54.63181271794904,
          -53.39995164082655,
          -52.1985339107443,
          -51.02753059244902,
          -49.884002291572095,
          -48.76499180476917,
          -47.66931767724028,
          -46.59705831504579,
          -45.548120003574624,
          -44.52157966911247,
          -43.51610879238159,
          -42.53065350544246,
          -41.56462518713636,
          -40.61760750927134,
          -39.68904426682634,
          -38.778213602754946,
          -37.88440258712028,
          -37.007034742917085,
          -36.14564189203583,
          -35.29976468845203,
          -34.46890516557119,
          -33.65255781044596,
          -32.85025800845097,
          -32.06159173048199,
          -31.286169659270534,
          -30.523603747713146,
          -29.773508202703386,
          -29.035514245514307,
          -28.30927772776147,
          -27.59447344082043,
          -26.890785908800442,
          -26.197906752182273,
          -25.515538421186175,
          -24.843397537847352,
          -24.18121384233637,
          -23.5287267778103,
          -22.88568360349277,
          -22.25184002675796,
          -21.62696134862121,
          -21.010822255952636,
          -20.403205494264487,
          -19.80390081702142,
          -19.212704876823295,
          -18.6294215013643,
          -18.053861573363935,
          -17.48584243768522,
          -16.925187324427924,
          -16.371725122556978,
          -15.825290359190593,
          -15.285723069241753,
          -14.752868474615813,
          -14.226576645218447,
          -13.706702294965798,
          -13.193104678128027,
          -12.685647458418197,
          -12.184198503083714,
          -11.68862966473174,
          -11.198816618903699,
          -10.714638749993215,
          -10.235979032546998
         ],
         "yaxis": "y"
        },
        {
         "line": {
          "color": "rgb(0, 255, 0)",
          "width": 2
         },
         "mode": "lines",
         "name": "RF",
         "type": "scatter",
         "x": [
          0,
          0.1,
          0.2,
          0.3,
          0.4,
          0.5,
          0.6,
          0.7,
          0.8,
          0.9,
          1,
          1.1,
          1.2,
          1.3,
          1.4,
          1.5,
          1.6,
          1.7,
          1.8,
          1.9,
          2,
          2.1,
          2.2,
          2.3,
          2.4,
          2.5,
          2.6,
          2.7,
          2.8,
          2.9,
          3,
          3.1,
          3.2,
          3.3,
          3.4,
          3.5,
          3.6,
          3.7,
          3.8,
          3.9,
          4,
          4.1,
          4.2,
          4.3,
          4.4,
          4.5,
          4.6,
          4.7,
          4.8,
          4.9,
          5,
          5.1,
          5.2,
          5.3,
          5.4,
          5.5,
          5.6,
          5.7,
          5.8,
          5.9,
          6,
          6.1,
          6.2,
          6.3,
          6.4,
          6.5,
          6.6,
          6.7,
          6.8,
          6.9,
          7,
          7.1,
          7.2,
          7.3,
          7.4,
          7.5,
          7.6,
          7.7,
          7.8,
          7.9,
          8,
          8.1,
          8.2,
          8.3,
          8.4,
          8.5,
          8.6,
          8.7,
          8.8,
          8.9,
          9,
          9.1,
          9.2,
          9.3,
          9.4,
          9.5,
          9.6,
          9.7,
          9.8,
          9.9,
          10,
          10.1,
          10.2,
          10.3,
          10.4,
          10.5,
          10.6,
          10.7,
          10.8,
          10.9
         ],
         "xaxis": "x",
         "y": [
          0,
          0,
          0,
          0,
          0,
          0,
          0,
          0,
          0,
          0,
          0,
          -5.816756956865561,
          -23.928998638109825,
          -45.095054111799115,
          -65.52210325483207,
          -93.15073773133483,
          -136.58574621254203,
          -198.56855100728242,
          -276.7024882810577,
          -367.0641765904524,
          -452.31746118373917,
          -435.5329324436475,
          -388.00702009201893,
          -377.29772984356396,
          -396.94831324800185,
          -416.9120418545272,
          -417.1699015423582,
          -399.59127990245344,
          -377.6664179140063,
          -361.18567521423233,
          -351.2858028771305,
          -344.27039448034714,
          -336.792007325955,
          -328.1666082582252,
          -319.54365585176174,
          -312.0372767216978,
          -305.78602139053174,
          -300.2448416273428,
          -294.89340809359527,
          -289.60423527333637,
          -284.529919757178,
          -279.81845336008286,
          -275.46741425219716,
          -271.3736498399071,
          -267.4479810053127,
          -263.6689144551795,
          -260.0565558957477,
          -256.62394853698686,
          -253.35742799671053,
          -250.23016207858487,
          -247.22246444702932,
          -244.32793152883457,
          -241.5459062148585,
          -238.8727106480278,
          -236.29996232097375,
          -233.8184460654768,
          -231.4216313971387,
          -229.10570223747624,
          -226.86745999632188,
          -224.70287417831412,
          -222.60733275057936,
          -220.5766368834001,
          -218.60747226128237,
          -216.697092449795,
          -214.84280658270353,
          -213.04182031876223,
          -211.29142704560402,
          -209.58921089124053,
          -207.93304403074907,
          -206.32094675928707,
          -204.7509888582083,
          -203.2213035702759,
          -201.730147947276,
          -200.27592279714915,
          -198.85713906190787,
          -197.47237704994956,
          -196.1202758164819,
          -194.79954631617215,
          -193.50898050548201,
          -192.2474432431833,
          -191.01385673928672,
          -189.80719196322255,
          -188.62646944676408,
          -187.47076156311587,
          -186.33918987425457,
          -185.2309188391618,
          -184.14515083901443,
          -183.0811246056683,
          -182.0381149991064,
          -181.01543151512521,
          -180.01241532808285,
          -179.0284364866948,
          -178.06289232683108,
          -177.11520662220363,
          -176.18482846660655,
          -175.27123061962703,
          -174.3739078346873,
          -173.4923756408689,
          -172.62616948589672,
          -171.77484385774682,
          -170.93797122530341,
          -170.1151409656013,
          -169.3059584766287,
          -168.51004446589687,
          -167.727034266397,
          -166.9565771001573,
          -166.1983353451708,
          -165.4519838887682,
          -164.71720957042692,
          -163.9937106539531
         ],
         "yaxis": "y"
        },
        {
         "line": {
          "color": "rgb(153, 0, 204)",
          "width": 2
         },
         "mode": "lines",
         "name": "RR",
         "type": "scatter",
         "x": [
          0,
          0.1,
          0.2,
          0.3,
          0.4,
          0.5,
          0.6,
          0.7,
          0.8,
          0.9,
          1,
          1.1,
          1.2,
          1.3,
          1.4,
          1.5,
          1.6,
          1.7,
          1.8,
          1.9,
          2,
          2.1,
          2.2,
          2.3,
          2.4,
          2.5,
          2.6,
          2.7,
          2.8,
          2.9,
          3,
          3.1,
          3.2,
          3.3,
          3.4,
          3.5,
          3.6,
          3.7,
          3.8,
          3.9,
          4,
          4.1,
          4.2,
          4.3,
          4.4,
          4.5,
          4.6,
          4.7,
          4.8,
          4.9,
          5,
          5.1,
          5.2,
          5.3,
          5.4,
          5.5,
          5.6,
          5.7,
          5.8,
          5.9,
          6,
          6.1,
          6.2,
          6.3,
          6.4,
          6.5,
          6.6,
          6.7,
          6.8,
          6.9,
          7,
          7.1,
          7.2,
          7.3,
          7.4,
          7.5,
          7.6,
          7.7,
          7.8,
          7.9,
          8,
          8.1,
          8.2,
          8.3,
          8.4,
          8.5,
          8.6,
          8.7,
          8.8,
          8.9,
          9,
          9.1,
          9.2,
          9.3,
          9.4,
          9.5,
          9.6,
          9.7,
          9.8,
          9.9,
          10,
          10.1,
          10.2,
          10.3,
          10.4,
          10.5,
          10.6,
          10.7,
          10.8,
          10.9
         ],
         "xaxis": "x",
         "y": [
          0,
          0,
          0,
          0,
          0,
          0,
          0,
          0,
          0,
          0,
          0,
          0,
          0,
          0,
          0,
          0,
          0,
          0,
          0,
          0,
          0,
          0,
          0,
          0,
          0,
          0,
          0,
          0,
          0,
          0,
          0,
          0,
          0,
          0,
          0,
          0,
          0,
          0,
          0,
          0,
          0,
          0,
          0,
          0,
          0,
          0,
          0,
          0,
          0,
          0,
          0,
          0,
          0,
          0,
          0,
          0,
          0,
          0,
          0,
          0,
          0,
          0,
          0,
          0,
          0,
          0,
          0,
          0,
          0,
          0,
          0,
          0,
          0,
          0,
          0,
          0,
          0,
          0,
          0,
          0,
          0,
          0,
          0,
          0,
          0,
          0,
          0,
          0,
          0,
          0,
          0,
          0,
          0,
          0,
          0,
          0,
          0,
          0,
          0,
          0,
          0,
          0,
          0,
          0,
          0,
          0,
          0,
          0,
          0,
          0
         ],
         "yaxis": "y"
        },
        {
         "line": {
          "color": "rgb(255, 102, 0)",
          "width": 2
         },
         "mode": "lines",
         "name": "LR",
         "type": "scatter",
         "x": [
          0,
          0.1,
          0.2,
          0.3,
          0.4,
          0.5,
          0.6,
          0.7,
          0.8,
          0.9,
          1,
          1.1,
          1.2,
          1.3,
          1.4,
          1.5,
          1.6,
          1.7,
          1.8,
          1.9,
          2,
          2.1,
          2.2,
          2.3,
          2.4,
          2.5,
          2.6,
          2.7,
          2.8,
          2.9,
          3,
          3.1,
          3.2,
          3.3,
          3.4,
          3.5,
          3.6,
          3.7,
          3.8,
          3.9,
          4,
          4.1,
          4.2,
          4.3,
          4.4,
          4.5,
          4.6,
          4.7,
          4.8,
          4.9,
          5,
          5.1,
          5.2,
          5.3,
          5.4,
          5.5,
          5.6,
          5.7,
          5.8,
          5.9,
          6,
          6.1,
          6.2,
          6.3,
          6.4,
          6.5,
          6.6,
          6.7,
          6.8,
          6.9,
          7,
          7.1,
          7.2,
          7.3,
          7.4,
          7.5,
          7.6,
          7.7,
          7.8,
          7.9,
          8,
          8.1,
          8.2,
          8.3,
          8.4,
          8.5,
          8.6,
          8.7,
          8.8,
          8.9,
          9,
          9.1,
          9.2,
          9.3,
          9.4,
          9.5,
          9.6,
          9.7,
          9.8,
          9.9,
          10,
          10.1,
          10.2,
          10.3,
          10.4,
          10.5,
          10.6,
          10.7,
          10.8,
          10.9
         ],
         "xaxis": "x",
         "y": [
          0,
          0,
          0,
          0,
          0,
          0,
          0,
          0,
          0,
          0,
          0,
          0,
          0,
          0,
          0,
          0,
          0,
          0,
          0,
          0,
          0,
          0,
          0,
          0,
          0,
          0,
          0,
          0,
          0,
          0,
          0,
          0,
          0,
          0,
          0,
          0,
          0,
          0,
          0,
          0,
          0,
          0,
          0,
          0,
          0,
          0,
          0,
          0,
          0,
          0,
          0,
          0,
          0,
          0,
          0,
          0,
          0,
          0,
          0,
          0,
          0,
          0,
          0,
          0,
          0,
          0,
          0,
          0,
          0,
          0,
          0,
          0,
          0,
          0,
          0,
          0,
          0,
          0,
          0,
          0,
          0,
          0,
          0,
          0,
          0,
          0,
          0,
          0,
          0,
          0,
          0,
          0,
          0,
          0,
          0,
          0,
          0,
          0,
          0,
          0,
          0,
          0,
          0,
          0,
          0,
          0,
          0,
          0,
          0,
          0
         ],
         "yaxis": "y"
        },
        {
         "line": {
          "color": "rgb(0, 0, 255)",
          "width": 2
         },
         "mode": "lines",
         "name": "LF",
         "showlegend": false,
         "type": "scatter",
         "x": [
          0,
          0.1,
          0.2,
          0.3,
          0.4,
          0.5,
          0.6,
          0.7,
          0.8,
          0.9,
          1,
          1.1,
          1.2,
          1.3,
          1.4,
          1.5,
          1.6,
          1.7,
          1.8,
          1.9,
          2,
          2.1,
          2.2,
          2.3,
          2.4,
          2.5,
          2.6,
          2.7,
          2.8,
          2.9,
          3,
          3.1,
          3.2,
          3.3,
          3.4,
          3.5,
          3.6,
          3.7,
          3.8,
          3.9,
          4,
          4.1,
          4.2,
          4.3,
          4.4,
          4.5,
          4.6,
          4.7,
          4.8,
          4.9,
          5,
          5.1,
          5.2,
          5.3,
          5.4,
          5.5,
          5.6,
          5.7,
          5.8,
          5.9,
          6,
          6.1,
          6.2,
          6.3,
          6.4,
          6.5,
          6.6,
          6.7,
          6.8,
          6.9,
          7,
          7.1,
          7.2,
          7.3,
          7.4,
          7.5,
          7.6,
          7.7,
          7.8,
          7.9,
          8,
          8.1,
          8.2,
          8.3,
          8.4,
          8.5,
          8.6,
          8.7,
          8.8,
          8.9,
          9,
          9.1,
          9.2,
          9.3,
          9.4,
          9.5,
          9.6,
          9.7,
          9.8,
          9.9,
          10,
          10.1,
          10.2,
          10.3,
          10.4,
          10.5,
          10.6,
          10.7,
          10.8,
          10.9
         ],
         "xaxis": "x2",
         "y": [
          0,
          0,
          0,
          0,
          0,
          0,
          0,
          0,
          0,
          0,
          0,
          -163.48270522485265,
          -271.1403391853884,
          -291.2218900636786,
          -290.57629413638585,
          -306.2194818824828,
          -336.8163961077983,
          -364.50145632633087,
          -378.399571583896,
          -379.6620375567266,
          -373.3794178376405,
          -284.6606407091892,
          -231.9658877027588,
          -228.7003164914973,
          -247.07093792540735,
          -255.16171902092535,
          -246.71959781842838,
          -231.2994234528087,
          -218.18925698889635,
          -211.2578197491674,
          -208.6928468764401,
          -206.36256063834992,
          -201.96370860764586,
          -195.99914918033178,
          -190.08946526398125,
          -185.20455622563992,
          -181.18180173379372,
          -177.34460688930133,
          -173.27219872495226,
          -169.02694889243242,
          -164.88627452612772,
          -161.01485644956045,
          -157.37202901844134,
          -153.83067126675226,
          -150.31838498512187,
          -146.85201370514616,
          -143.48120148067432,
          -140.22778410299458,
          -137.0750887811576,
          -133.9956279733132,
          -130.97696316097935,
          -128.02363954071612,
          -125.14330228033026,
          -122.33588200903921,
          -119.59433167991595,
          -116.91156154992933,
          -114.28473914191795,
          -111.71405243038181,
          -109.19927673935736,
          -106.7381990470564,
          -104.32763429679045,
          -101.96505589433863,
          -99.64905265072541,
          -97.37862644050794,
          -95.15244379073472,
          -92.96877408623718,
          -90.82590811413301,
          -88.72246380043055,
          -86.65731871217434,
          -84.62937159087905,
          -82.63742858722765,
          -80.68027775990994,
          -78.7568052192407,
          -76.86601835172182,
          -75.00698378921122,
          -73.17877120872227,
          -71.3804556911103,
          -69.61115310833105,
          -67.87003838232052,
          -66.15633184211583,
          -64.469277150483,
          -62.80813498337397,
          -61.17219198048453,
          -59.560768757708445,
          -57.973217380994775,
          -56.40891317870406,
          -54.8672502178147,
          -53.34764281931184,
          -51.84952830444222,
          -50.372366496557014,
          -48.91563653918777,
          -47.478834377071735,
          -46.0614724952682,
          -44.663080580756365,
          -43.28320523457602,
          -41.92140855042391,
          -40.5772667315494,
          -39.250369548040254,
          -37.94032028716696,
          -36.646735440854876,
          -35.36924393657699,
          -34.1074863246379,
          -32.861114289118596,
          -31.629790399365508,
          -30.413187796137763,
          -29.21098969795205,
          -28.022888878020254,
          -26.848587274842643,
          -25.687795718702045,
          -24.54023364708877
         ],
         "yaxis": "y2"
        },
        {
         "line": {
          "color": "rgb(0, 255, 0)",
          "width": 2
         },
         "mode": "lines",
         "name": "RF",
         "showlegend": false,
         "type": "scatter",
         "x": [
          0,
          0.1,
          0.2,
          0.3,
          0.4,
          0.5,
          0.6,
          0.7,
          0.8,
          0.9,
          1,
          1.1,
          1.2,
          1.3,
          1.4,
          1.5,
          1.6,
          1.7,
          1.8,
          1.9,
          2,
          2.1,
          2.2,
          2.3,
          2.4,
          2.5,
          2.6,
          2.7,
          2.8,
          2.9,
          3,
          3.1,
          3.2,
          3.3,
          3.4,
          3.5,
          3.6,
          3.7,
          3.8,
          3.9,
          4,
          4.1,
          4.2,
          4.3,
          4.4,
          4.5,
          4.6,
          4.7,
          4.8,
          4.9,
          5,
          5.1,
          5.2,
          5.3,
          5.4,
          5.5,
          5.6,
          5.7,
          5.8,
          5.9,
          6,
          6.1,
          6.2,
          6.3,
          6.4,
          6.5,
          6.6,
          6.7,
          6.8,
          6.9,
          7,
          7.1,
          7.2,
          7.3,
          7.4,
          7.5,
          7.6,
          7.7,
          7.8,
          7.9,
          8,
          8.1,
          8.2,
          8.3,
          8.4,
          8.5,
          8.6,
          8.7,
          8.8,
          8.9,
          9,
          9.1,
          9.2,
          9.3,
          9.4,
          9.5,
          9.6,
          9.7,
          9.8,
          9.9,
          10,
          10.1,
          10.2,
          10.3,
          10.4,
          10.5,
          10.6,
          10.7,
          10.8,
          10.9
         ],
         "xaxis": "x2",
         "y": [
          0,
          0,
          0,
          0,
          0,
          0,
          0,
          0,
          0,
          0,
          0,
          -163.48270522485265,
          -318.1051035227449,
          -391.77872423432564,
          -421.776755671236,
          -475.0414494881651,
          -575.1747681432756,
          -710.1088122631277,
          -857.3627061232536,
          -1000.2928546917957,
          -1096.5840620452027,
          -1044.167821093059,
          -930.2268888489043,
          -904.5519158877512,
          -951.6631796479818,
          -999.5251929359572,
          -1000.1433982846999,
          -957.9995563653896,
          -905.4358265877223,
          -865.9240930013193,
          -842.1896578821826,
          -825.3705768114418,
          -807.4415279643667,
          -786.762577006336,
          -766.0894917929437,
          -748.0933336228577,
          -733.1062702528918,
          -719.8215765624495,
          -706.9917897049872,
          -694.3112697081925,
          -682.1458590552762,
          -670.8503605164957,
          -660.4189678792477,
          -650.6043781019241,
          -641.1927888327666,
          -632.1326710059043,
          -623.4722270187053,
          -615.2427272967087,
          -607.4114121859109,
          -599.9139528746558,
          -592.7031523851786,
          -585.7636584798248,
          -579.0938957731987,
          -572.6850467919926,
          -566.5170149056129,
          -560.5677072218718,
          -554.8214672400622,
          -549.2691461081498,
          -543.9030753706012,
          -538.7135921219366,
          -533.6896392503793,
          -528.8211502774826,
          -524.1001793021908,
          -519.5201418891094,
          -515.0745868247399,
          -510.75681481956224,
          -506.56033690953404,
          -502.4793611657283,
          -498.5087862372534,
          -494.64386588349726,
          -490.87997250446017,
          -487.21263064560964,
          -483.63766167818284,
          -480.1512316214083,
          -476.74977053529204,
          -473.42987478218265,
          -470.188281566887,
          -467.02190046947095,
          -463.9278352676394,
          -460.90336451863914,
          -457.94590427636416,
          -455.0529874929113,
          -452.2222659435472,
          -449.4515156907057,
          -446.7386307243737,
          -444.0816078779025,
          -441.47853490115773,
          -438.9275866928896,
          -436.42702476717625,
          -433.9751936756786,
          -431.57051391778083,
          -429.21147521765505,
          -426.89663271902384,
          -424.62460494897704,
          -422.3940711382001,
          -420.20376725490115,
          -418.05248199637725,
          -415.9390538685012,
          -413.8623691310693,
          -411.8213596919014,
          -409.81500056712065,
          -407.8423073092721,
          -405.9023338803132,
          -403.9941709459965,
          -402.1169442359102,
          -400.2698127778954,
          -398.45196714054293,
          -396.66262788293733,
          -394.90104421882063,
          -393.16649275117607
         ],
         "yaxis": "y2"
        },
        {
         "line": {
          "color": "rgb(153, 0, 204)",
          "width": 2
         },
         "mode": "lines",
         "name": "RR",
         "showlegend": false,
         "type": "scatter",
         "x": [
          0,
          0.1,
          0.2,
          0.3,
          0.4,
          0.5,
          0.6,
          0.7,
          0.8,
          0.9,
          1,
          1.1,
          1.2,
          1.3,
          1.4,
          1.5,
          1.6,
          1.7,
          1.8,
          1.9,
          2,
          2.1,
          2.2,
          2.3,
          2.4,
          2.5,
          2.6,
          2.7,
          2.8,
          2.9,
          3,
          3.1,
          3.2,
          3.3,
          3.4,
          3.5,
          3.6,
          3.7,
          3.8,
          3.9,
          4,
          4.1,
          4.2,
          4.3,
          4.4,
          4.5,
          4.6,
          4.7,
          4.8,
          4.9,
          5,
          5.1,
          5.2,
          5.3,
          5.4,
          5.5,
          5.6,
          5.7,
          5.8,
          5.9,
          6,
          6.1,
          6.2,
          6.3,
          6.4,
          6.5,
          6.6,
          6.7,
          6.8,
          6.9,
          7,
          7.1,
          7.2,
          7.3,
          7.4,
          7.5,
          7.6,
          7.7,
          7.8,
          7.9,
          8,
          8.1,
          8.2,
          8.3,
          8.4,
          8.5,
          8.6,
          8.7,
          8.8,
          8.9,
          9,
          9.1,
          9.2,
          9.3,
          9.4,
          9.5,
          9.6,
          9.7,
          9.8,
          9.9,
          10,
          10.1,
          10.2,
          10.3,
          10.4,
          10.5,
          10.6,
          10.7,
          10.8,
          10.9
         ],
         "xaxis": "x2",
         "y": [
          0,
          0,
          0,
          0,
          0,
          0,
          0,
          0,
          0,
          0,
          0,
          0,
          1.9717607314213739,
          3.6974122132699483,
          -7.062834614167151,
          -38.257466039773725,
          -86.02570995434958,
          -141.15726832362517,
          -195.22673348101054,
          -243.95325894784227,
          -287.1661079490807,
          -325.7122761147844,
          -359.8083334809566,
          -394.2685384936695,
          -423.2101126970507,
          -434.01983211681915,
          -423.8279921899494,
          -401.5317423555721,
          -378.23374398427643,
          -359.4827220841572,
          -344.9596046672515,
          -332.1711139332727,
          -319.5657269051077,
          -307.24909263721486,
          -295.9981066590974,
          -286.18816025519664,
          -277.5543441079563,
          -269.5977697444541,
          -262.0133163993876,
          -254.7817121598145,
          -247.99892898876638,
          -241.69792091629236,
          -235.81151377198296,
          -230.24231551155648,
          -224.93167816298518,
          -219.86862436746864,
          -215.05681238446303,
          -210.4859023230541,
          -206.12993155268245,
          -201.96211553990594,
          -197.96566468342547,
          -194.1324552472851,
          -190.45569216810412,
          -186.92554672642623,
          -183.5303483894412,
          -180.25981652651382,
          -177.10641737787702,
          -174.06427319085196,
          -171.12756216309296,
          -168.29004912019522,
          -165.54567722346613,
          -162.88918589184746,
          -160.31611193793904,
          -157.82237790699372,
          -155.40399223288298,
          -153.05707780360208,
          -150.7780467735224,
          -148.5636699192289,
          -146.41099097235414,
          -144.31721022704087,
          -142.27964729985564,
          -140.29577473745252,
          -138.3632479656681,
          -136.4798897367696,
          -134.64364985020705,
          -132.85257955161717,
          -131.10483172479042,
          -129.39866843093716,
          -127.73245719704767,
          -126.10465644435682,
          -124.51380224798844,
          -122.95850352554521,
          -121.43744195842167,
          -119.94936972578908,
          -118.49310326961728,
          -117.06751653505596,
          -115.67153687761315,
          -114.30414321711457,
          -112.96436403984784,
          -111.6512740899407,
          -110.36399065030658,
          -109.10167069447591,
          -107.86350902858153,
          -106.64873660944416,
          -105.45661847218793,
          -104.28645148032842,
          -103.13756239292101,
          -102.00930637272782,
          -100.9010656553592,
          -99.81224812566457,
          -98.74228584252808,
          -97.69063370226202,
          -96.6567683104005,
          -95.64018696109835,
          -94.64040661299944,
          -93.65696286486303,
          -92.68940900528914,
          -91.73731516977935,
          -90.80026756597086,
          -89.87786771788834
         ],
         "yaxis": "y2"
        },
        {
         "line": {
          "color": "rgb(255, 102, 0)",
          "width": 2
         },
         "mode": "lines",
         "name": "LR",
         "showlegend": false,
         "type": "scatter",
         "x": [
          0,
          0.1,
          0.2,
          0.3,
          0.4,
          0.5,
          0.6,
          0.7,
          0.8,
          0.9,
          1,
          1.1,
          1.2,
          1.3,
          1.4,
          1.5,
          1.6,
          1.7,
          1.8,
          1.9,
          2,
          2.1,
          2.2,
          2.3,
          2.4,
          2.5,
          2.6,
          2.7,
          2.8,
          2.9,
          3,
          3.1,
          3.2,
          3.3,
          3.4,
          3.5,
          3.6,
          3.7,
          3.8,
          3.9,
          4,
          4.1,
          4.2,
          4.3,
          4.4,
          4.5,
          4.6,
          4.7,
          4.8,
          4.9,
          5,
          5.1,
          5.2,
          5.3,
          5.4,
          5.5,
          5.6,
          5.7,
          5.8,
          5.9,
          6,
          6.1,
          6.2,
          6.3,
          6.4,
          6.5,
          6.6,
          6.7,
          6.8,
          6.9,
          7,
          7.1,
          7.2,
          7.3,
          7.4,
          7.5,
          7.6,
          7.7,
          7.8,
          7.9,
          8,
          8.1,
          8.2,
          8.3,
          8.4,
          8.5,
          8.6,
          8.7,
          8.8,
          8.9,
          9,
          9.1,
          9.2,
          9.3,
          9.4,
          9.5,
          9.6,
          9.7,
          9.8,
          9.9,
          10,
          10.1,
          10.2,
          10.3,
          10.4,
          10.5,
          10.6,
          10.7,
          10.8,
          10.9
         ],
         "xaxis": "x2",
         "y": [
          0,
          0,
          0,
          0,
          0,
          0,
          0,
          0,
          0,
          0,
          0,
          0,
          1.6911300193512118,
          2.832667418737657,
          -5.277114382920099,
          -28.516888974365774,
          -61.395454007912356,
          -91.48373114782592,
          -111.31263866149382,
          -121.34199138437093,
          -124.84728748957589,
          -127.77239250021418,
          -156.87757248227612,
          -189.38290481871138,
          -198.7090757264491,
          -187.90208379434475,
          -174.92393126534023,
          -169.6953657367544,
          -170.9385902144549,
          -173.59738919695351,
          -174.2244810817533,
          -172.42377708105516,
          -169.65587072887308,
          -167.29841639142546,
          -165.69891682535916,
          -164.44336279871052,
          -163.04072362149824,
          -161.33643465261602,
          -159.48054231561548,
          -157.6747941789792,
          -155.99449129262268,
          -154.39047223615444,
          -152.78781111534147,
          -151.16001000398666,
          -149.53037310400202,
          -147.9315505321393,
          -146.37484819435244,
          -144.85054103887964,
          -143.34557270950398,
          -141.85631521889144,
          -140.3876687910633,
          -138.94507015813556,
          -137.5293264212965,
          -136.13762101173734,
          -134.76726346127134,
          -133.41774139994703,
          -132.08994451893017,
          -130.78441432011036,
          -129.5006051000481,
          -128.2374303240886,
          -126.99408438692478,
          -125.77027364290386,
          -124.56587631677048,
          -123.3805753417604,
          -122.21382279171175,
          -121.06504320571896,
          -119.9337911565454,
          -118.81972992751558,
          -117.72252026007466,
          -116.64176166217533,
          -115.57702441241109,
          -114.5279073847066,
          -113.49405515921414,
          -112.47513242063845,
          -111.47079681786008,
          -110.48069808766272,
          -109.50449481186293,
          -108.54186538640933,
          -107.5925039291336,
          -106.6561104795162,
          -105.73238741595756,
          -104.82104344375773,
          -103.92179818012585,
          -103.03438212568929,
          -102.15853341273805,
          -101.29399563670394,
          -100.44051848219927,
          -99.59785931641282,
          -98.7657834996207,
          -97.9440632819806,
          -97.13247672292131,
          -96.33080758072275,
          -95.53884576427511,
          -94.7563874620552,
          -93.98323470452308,
          -93.21919482170202,
          -92.46408023320092,
          -91.71770850786874,
          -90.9799023551989,
          -90.2504893969463,
          -89.52930186624769,
          -88.81617642388721,
          -88.11095409687283,
          -87.41348020943944,
          -86.72360422941229,
          -86.04117957791146,
          -85.36606348353361,
          -84.69811689213527,
          -84.03720438063979,
          -83.38319403830987
         ],
         "yaxis": "y2"
        }
       ],
       "layout": {
        "autosize": false,
        "font": {
         "color": "black",
         "family": "Arial",
         "size": 14
        },
        "height": 500,
        "legend": {
         "orientation": "h",
         "x": 0.01,
         "xanchor": "left",
         "y": 1.1,
         "yanchor": "top"
        },
        "template": {
         "data": {
          "bar": [
           {
            "error_x": {
             "color": "#2a3f5f"
            },
            "error_y": {
             "color": "#2a3f5f"
            },
            "marker": {
             "line": {
              "color": "white",
              "width": 0.5
             }
            },
            "type": "bar"
           }
          ],
          "barpolar": [
           {
            "marker": {
             "line": {
              "color": "white",
              "width": 0.5
             }
            },
            "type": "barpolar"
           }
          ],
          "carpet": [
           {
            "aaxis": {
             "endlinecolor": "#2a3f5f",
             "gridcolor": "#C8D4E3",
             "linecolor": "#C8D4E3",
             "minorgridcolor": "#C8D4E3",
             "startlinecolor": "#2a3f5f"
            },
            "baxis": {
             "endlinecolor": "#2a3f5f",
             "gridcolor": "#C8D4E3",
             "linecolor": "#C8D4E3",
             "minorgridcolor": "#C8D4E3",
             "startlinecolor": "#2a3f5f"
            },
            "type": "carpet"
           }
          ],
          "choropleth": [
           {
            "colorbar": {
             "outlinewidth": 0,
             "ticks": ""
            },
            "type": "choropleth"
           }
          ],
          "contour": [
           {
            "colorbar": {
             "outlinewidth": 0,
             "ticks": ""
            },
            "colorscale": [
             [
              0,
              "#0d0887"
             ],
             [
              0.1111111111111111,
              "#46039f"
             ],
             [
              0.2222222222222222,
              "#7201a8"
             ],
             [
              0.3333333333333333,
              "#9c179e"
             ],
             [
              0.4444444444444444,
              "#bd3786"
             ],
             [
              0.5555555555555556,
              "#d8576b"
             ],
             [
              0.6666666666666666,
              "#ed7953"
             ],
             [
              0.7777777777777778,
              "#fb9f3a"
             ],
             [
              0.8888888888888888,
              "#fdca26"
             ],
             [
              1,
              "#f0f921"
             ]
            ],
            "type": "contour"
           }
          ],
          "contourcarpet": [
           {
            "colorbar": {
             "outlinewidth": 0,
             "ticks": ""
            },
            "type": "contourcarpet"
           }
          ],
          "heatmap": [
           {
            "colorbar": {
             "outlinewidth": 0,
             "ticks": ""
            },
            "colorscale": [
             [
              0,
              "#0d0887"
             ],
             [
              0.1111111111111111,
              "#46039f"
             ],
             [
              0.2222222222222222,
              "#7201a8"
             ],
             [
              0.3333333333333333,
              "#9c179e"
             ],
             [
              0.4444444444444444,
              "#bd3786"
             ],
             [
              0.5555555555555556,
              "#d8576b"
             ],
             [
              0.6666666666666666,
              "#ed7953"
             ],
             [
              0.7777777777777778,
              "#fb9f3a"
             ],
             [
              0.8888888888888888,
              "#fdca26"
             ],
             [
              1,
              "#f0f921"
             ]
            ],
            "type": "heatmap"
           }
          ],
          "heatmapgl": [
           {
            "colorbar": {
             "outlinewidth": 0,
             "ticks": ""
            },
            "colorscale": [
             [
              0,
              "#0d0887"
             ],
             [
              0.1111111111111111,
              "#46039f"
             ],
             [
              0.2222222222222222,
              "#7201a8"
             ],
             [
              0.3333333333333333,
              "#9c179e"
             ],
             [
              0.4444444444444444,
              "#bd3786"
             ],
             [
              0.5555555555555556,
              "#d8576b"
             ],
             [
              0.6666666666666666,
              "#ed7953"
             ],
             [
              0.7777777777777778,
              "#fb9f3a"
             ],
             [
              0.8888888888888888,
              "#fdca26"
             ],
             [
              1,
              "#f0f921"
             ]
            ],
            "type": "heatmapgl"
           }
          ],
          "histogram": [
           {
            "marker": {
             "colorbar": {
              "outlinewidth": 0,
              "ticks": ""
             }
            },
            "type": "histogram"
           }
          ],
          "histogram2d": [
           {
            "colorbar": {
             "outlinewidth": 0,
             "ticks": ""
            },
            "colorscale": [
             [
              0,
              "#0d0887"
             ],
             [
              0.1111111111111111,
              "#46039f"
             ],
             [
              0.2222222222222222,
              "#7201a8"
             ],
             [
              0.3333333333333333,
              "#9c179e"
             ],
             [
              0.4444444444444444,
              "#bd3786"
             ],
             [
              0.5555555555555556,
              "#d8576b"
             ],
             [
              0.6666666666666666,
              "#ed7953"
             ],
             [
              0.7777777777777778,
              "#fb9f3a"
             ],
             [
              0.8888888888888888,
              "#fdca26"
             ],
             [
              1,
              "#f0f921"
             ]
            ],
            "type": "histogram2d"
           }
          ],
          "histogram2dcontour": [
           {
            "colorbar": {
             "outlinewidth": 0,
             "ticks": ""
            },
            "colorscale": [
             [
              0,
              "#0d0887"
             ],
             [
              0.1111111111111111,
              "#46039f"
             ],
             [
              0.2222222222222222,
              "#7201a8"
             ],
             [
              0.3333333333333333,
              "#9c179e"
             ],
             [
              0.4444444444444444,
              "#bd3786"
             ],
             [
              0.5555555555555556,
              "#d8576b"
             ],
             [
              0.6666666666666666,
              "#ed7953"
             ],
             [
              0.7777777777777778,
              "#fb9f3a"
             ],
             [
              0.8888888888888888,
              "#fdca26"
             ],
             [
              1,
              "#f0f921"
             ]
            ],
            "type": "histogram2dcontour"
           }
          ],
          "mesh3d": [
           {
            "colorbar": {
             "outlinewidth": 0,
             "ticks": ""
            },
            "type": "mesh3d"
           }
          ],
          "parcoords": [
           {
            "line": {
             "colorbar": {
              "outlinewidth": 0,
              "ticks": ""
             }
            },
            "type": "parcoords"
           }
          ],
          "pie": [
           {
            "automargin": true,
            "type": "pie"
           }
          ],
          "scatter": [
           {
            "marker": {
             "colorbar": {
              "outlinewidth": 0,
              "ticks": ""
             }
            },
            "type": "scatter"
           }
          ],
          "scatter3d": [
           {
            "line": {
             "colorbar": {
              "outlinewidth": 0,
              "ticks": ""
             }
            },
            "marker": {
             "colorbar": {
              "outlinewidth": 0,
              "ticks": ""
             }
            },
            "type": "scatter3d"
           }
          ],
          "scattercarpet": [
           {
            "marker": {
             "colorbar": {
              "outlinewidth": 0,
              "ticks": ""
             }
            },
            "type": "scattercarpet"
           }
          ],
          "scattergeo": [
           {
            "marker": {
             "colorbar": {
              "outlinewidth": 0,
              "ticks": ""
             }
            },
            "type": "scattergeo"
           }
          ],
          "scattergl": [
           {
            "marker": {
             "colorbar": {
              "outlinewidth": 0,
              "ticks": ""
             }
            },
            "type": "scattergl"
           }
          ],
          "scattermapbox": [
           {
            "marker": {
             "colorbar": {
              "outlinewidth": 0,
              "ticks": ""
             }
            },
            "type": "scattermapbox"
           }
          ],
          "scatterpolar": [
           {
            "marker": {
             "colorbar": {
              "outlinewidth": 0,
              "ticks": ""
             }
            },
            "type": "scatterpolar"
           }
          ],
          "scatterpolargl": [
           {
            "marker": {
             "colorbar": {
              "outlinewidth": 0,
              "ticks": ""
             }
            },
            "type": "scatterpolargl"
           }
          ],
          "scatterternary": [
           {
            "marker": {
             "colorbar": {
              "outlinewidth": 0,
              "ticks": ""
             }
            },
            "type": "scatterternary"
           }
          ],
          "surface": [
           {
            "colorbar": {
             "outlinewidth": 0,
             "ticks": ""
            },
            "colorscale": [
             [
              0,
              "#0d0887"
             ],
             [
              0.1111111111111111,
              "#46039f"
             ],
             [
              0.2222222222222222,
              "#7201a8"
             ],
             [
              0.3333333333333333,
              "#9c179e"
             ],
             [
              0.4444444444444444,
              "#bd3786"
             ],
             [
              0.5555555555555556,
              "#d8576b"
             ],
             [
              0.6666666666666666,
              "#ed7953"
             ],
             [
              0.7777777777777778,
              "#fb9f3a"
             ],
             [
              0.8888888888888888,
              "#fdca26"
             ],
             [
              1,
              "#f0f921"
             ]
            ],
            "type": "surface"
           }
          ],
          "table": [
           {
            "cells": {
             "fill": {
              "color": "#EBF0F8"
             },
             "line": {
              "color": "white"
             }
            },
            "header": {
             "fill": {
              "color": "#C8D4E3"
             },
             "line": {
              "color": "white"
             }
            },
            "type": "table"
           }
          ]
         },
         "layout": {
          "annotationdefaults": {
           "arrowcolor": "#2a3f5f",
           "arrowhead": 0,
           "arrowwidth": 1
          },
          "coloraxis": {
           "colorbar": {
            "outlinewidth": 0,
            "ticks": ""
           }
          },
          "colorscale": {
           "diverging": [
            [
             0,
             "#8e0152"
            ],
            [
             0.1,
             "#c51b7d"
            ],
            [
             0.2,
             "#de77ae"
            ],
            [
             0.3,
             "#f1b6da"
            ],
            [
             0.4,
             "#fde0ef"
            ],
            [
             0.5,
             "#f7f7f7"
            ],
            [
             0.6,
             "#e6f5d0"
            ],
            [
             0.7,
             "#b8e186"
            ],
            [
             0.8,
             "#7fbc41"
            ],
            [
             0.9,
             "#4d9221"
            ],
            [
             1,
             "#276419"
            ]
           ],
           "sequential": [
            [
             0,
             "#0d0887"
            ],
            [
             0.1111111111111111,
             "#46039f"
            ],
            [
             0.2222222222222222,
             "#7201a8"
            ],
            [
             0.3333333333333333,
             "#9c179e"
            ],
            [
             0.4444444444444444,
             "#bd3786"
            ],
            [
             0.5555555555555556,
             "#d8576b"
            ],
            [
             0.6666666666666666,
             "#ed7953"
            ],
            [
             0.7777777777777778,
             "#fb9f3a"
            ],
            [
             0.8888888888888888,
             "#fdca26"
            ],
            [
             1,
             "#f0f921"
            ]
           ],
           "sequentialminus": [
            [
             0,
             "#0d0887"
            ],
            [
             0.1111111111111111,
             "#46039f"
            ],
            [
             0.2222222222222222,
             "#7201a8"
            ],
            [
             0.3333333333333333,
             "#9c179e"
            ],
            [
             0.4444444444444444,
             "#bd3786"
            ],
            [
             0.5555555555555556,
             "#d8576b"
            ],
            [
             0.6666666666666666,
             "#ed7953"
            ],
            [
             0.7777777777777778,
             "#fb9f3a"
            ],
            [
             0.8888888888888888,
             "#fdca26"
            ],
            [
             1,
             "#f0f921"
            ]
           ]
          },
          "colorway": [
           "#636efa",
           "#EF553B",
           "#00cc96",
           "#ab63fa",
           "#FFA15A",
           "#19d3f3",
           "#FF6692",
           "#B6E880",
           "#FF97FF",
           "#FECB52"
          ],
          "font": {
           "color": "#2a3f5f"
          },
          "geo": {
           "bgcolor": "white",
           "lakecolor": "white",
           "landcolor": "white",
           "showlakes": true,
           "showland": true,
           "subunitcolor": "#C8D4E3"
          },
          "hoverlabel": {
           "align": "left"
          },
          "hovermode": "closest",
          "mapbox": {
           "style": "light"
          },
          "paper_bgcolor": "white",
          "plot_bgcolor": "white",
          "polar": {
           "angularaxis": {
            "gridcolor": "#EBF0F8",
            "linecolor": "#EBF0F8",
            "ticks": ""
           },
           "bgcolor": "white",
           "radialaxis": {
            "gridcolor": "#EBF0F8",
            "linecolor": "#EBF0F8",
            "ticks": ""
           }
          },
          "scene": {
           "xaxis": {
            "backgroundcolor": "white",
            "gridcolor": "#DFE8F3",
            "gridwidth": 2,
            "linecolor": "#EBF0F8",
            "showbackground": true,
            "ticks": "",
            "zerolinecolor": "#EBF0F8"
           },
           "yaxis": {
            "backgroundcolor": "white",
            "gridcolor": "#DFE8F3",
            "gridwidth": 2,
            "linecolor": "#EBF0F8",
            "showbackground": true,
            "ticks": "",
            "zerolinecolor": "#EBF0F8"
           },
           "zaxis": {
            "backgroundcolor": "white",
            "gridcolor": "#DFE8F3",
            "gridwidth": 2,
            "linecolor": "#EBF0F8",
            "showbackground": true,
            "ticks": "",
            "zerolinecolor": "#EBF0F8"
           }
          },
          "shapedefaults": {
           "line": {
            "color": "#2a3f5f"
           }
          },
          "ternary": {
           "aaxis": {
            "gridcolor": "#DFE8F3",
            "linecolor": "#A2B1C6",
            "ticks": ""
           },
           "baxis": {
            "gridcolor": "#DFE8F3",
            "linecolor": "#A2B1C6",
            "ticks": ""
           },
           "bgcolor": "white",
           "caxis": {
            "gridcolor": "#DFE8F3",
            "linecolor": "#A2B1C6",
            "ticks": ""
           }
          },
          "title": {
           "x": 0.05
          },
          "xaxis": {
           "automargin": true,
           "gridcolor": "#EBF0F8",
           "linecolor": "#EBF0F8",
           "ticks": "",
           "title": {
            "standoff": 15
           },
           "zerolinecolor": "#EBF0F8",
           "zerolinewidth": 2
          },
          "yaxis": {
           "automargin": true,
           "gridcolor": "#EBF0F8",
           "linecolor": "#EBF0F8",
           "ticks": "",
           "title": {
            "standoff": 15
           },
           "zerolinecolor": "#EBF0F8",
           "zerolinewidth": 2
          }
         }
        },
        "title": {
         "text": "Veh1 - Tire Forces"
        },
        "width": 900,
        "xaxis": {
         "anchor": "y",
         "domain": [
          0,
          1
         ],
         "linecolor": "black",
         "linewidth": 1,
         "matches": "x2",
         "showgrid": false,
         "showline": true,
         "showticklabels": false,
         "tickcolor": "black",
         "ticklen": 10,
         "ticks": "outside",
         "tickwidth": 1,
         "title": {
          "text": ""
         },
         "zeroline": false
        },
        "xaxis2": {
         "anchor": "y2",
         "domain": [
          0,
          1
         ],
         "linecolor": "black",
         "linewidth": 1,
         "showgrid": false,
         "showline": true,
         "tickcolor": "black",
         "ticklen": 10,
         "ticks": "outside",
         "tickwidth": 1,
         "title": {
          "text": "Time (s)"
         },
         "zeroline": false
        },
        "yaxis": {
         "anchor": "x",
         "domain": [
          0.525,
          1
         ],
         "linecolor": "black",
         "linewidth": 1,
         "showgrid": false,
         "showline": true,
         "tickcolor": "black",
         "ticklen": 10,
         "ticks": "outside",
         "tickwidth": 1,
         "title": {
          "text": "Forward (lb)"
         },
         "zeroline": false
        },
        "yaxis2": {
         "anchor": "x2",
         "domain": [
          0,
          0.475
         ],
         "linecolor": "black",
         "linewidth": 1,
         "showgrid": false,
         "showline": true,
         "tickcolor": "black",
         "ticklen": 10,
         "ticks": "outside",
         "tickwidth": 1,
         "title": {
          "text": "Rightward (lb)"
         },
         "zeroline": false
        }
       }
      },
      "text/html": [
       "<div>\n",
       "        \n",
       "        \n",
       "            <div id=\"a743a9cb-ee51-4a7c-8dc2-43ec28797256\" class=\"plotly-graph-div\" style=\"height:500px; width:900px;\"></div>\n",
       "            <script type=\"text/javascript\">\n",
       "                require([\"plotly\"], function(Plotly) {\n",
       "                    window.PLOTLYENV=window.PLOTLYENV || {};\n",
       "                    \n",
       "                if (document.getElementById(\"a743a9cb-ee51-4a7c-8dc2-43ec28797256\")) {\n",
       "                    Plotly.newPlot(\n",
       "                        'a743a9cb-ee51-4a7c-8dc2-43ec28797256',\n",
       "                        [{\"line\": {\"color\": \"rgb(0, 0, 255)\", \"width\": 2}, \"mode\": \"lines\", \"name\": \"LF\", \"type\": \"scatter\", \"x\": [0.0, 0.1, 0.2, 0.3, 0.4, 0.5, 0.6, 0.7, 0.8, 0.9, 1.0, 1.1, 1.2, 1.3, 1.4, 1.5, 1.6, 1.7, 1.8, 1.9, 2.0, 2.1, 2.2, 2.3, 2.4, 2.5, 2.6, 2.7, 2.8, 2.9, 3.0, 3.1, 3.2, 3.3, 3.4, 3.5, 3.6, 3.7, 3.8, 3.9, 4.0, 4.1, 4.2, 4.3, 4.4, 4.5, 4.6, 4.7, 4.8, 4.9, 5.0, 5.1, 5.2, 5.3, 5.4, 5.5, 5.6, 5.7, 5.8, 5.9, 6.0, 6.1, 6.2, 6.3, 6.4, 6.5, 6.6, 6.7, 6.8, 6.9, 7.0, 7.1, 7.2, 7.3, 7.4, 7.5, 7.6, 7.7, 7.8, 7.9, 8.0, 8.1, 8.2, 8.3, 8.4, 8.5, 8.6, 8.7, 8.8, 8.9, 9.0, 9.1, 9.2, 9.3, 9.4, 9.5, 9.6, 9.7, 9.8, 9.9, 10.0, 10.1, 10.2, 10.3, 10.4, 10.5, 10.6, 10.7, 10.8, 10.9], \"xaxis\": \"x\", \"y\": [0.0, 0.0, 0.0, 0.0, 0.0, 0.0, 0.0, 0.0, 0.0, 0.0, 0.0, -5.816756956865561, -20.396141826249853, -33.520622939971744, -45.140396410681454, -60.046487892360304, -79.98320049314668, -101.9259651096179, -122.12346335332444, -139.31953281956828, -154.01102038597966, -118.73482508738539, -96.75531198837089, -95.39320929087977, -103.05578082612142, -106.43052724629149, -102.9092333229457, -96.47732302597808, -91.00894032972256, -88.11776792804096, -87.04789186565868, -86.07590596625981, -84.24110040568175, -81.75322249407066, -79.28823371170344, -77.25068886957057, -75.5727573867745, -73.97222470493995, -72.27358217440333, -70.50284564032997, -68.77572858824242, -67.1609210510425, -65.64146097823485, -64.16432493241169, -62.6993148900425, -61.25345645808484, -59.84745667224172, -58.490423461353586, -57.17540243610917, -55.89092826548997, -54.63181271794904, -53.39995164082655, -52.1985339107443, -51.02753059244902, -49.884002291572095, -48.76499180476917, -47.66931767724028, -46.59705831504579, -45.548120003574624, -44.52157966911247, -43.51610879238159, -42.53065350544246, -41.56462518713636, -40.61760750927134, -39.68904426682634, -38.778213602754946, -37.88440258712028, -37.007034742917085, -36.14564189203583, -35.29976468845203, -34.46890516557119, -33.65255781044596, -32.85025800845097, -32.06159173048199, -31.286169659270534, -30.523603747713146, -29.773508202703386, -29.035514245514307, -28.30927772776147, -27.59447344082043, -26.890785908800442, -26.197906752182273, -25.515538421186175, -24.843397537847352, -24.18121384233637, -23.5287267778103, -22.88568360349277, -22.25184002675796, -21.62696134862121, -21.010822255952636, -20.403205494264487, -19.80390081702142, -19.212704876823295, -18.6294215013643, -18.053861573363935, -17.48584243768522, -16.925187324427924, -16.371725122556978, -15.825290359190593, -15.285723069241753, -14.752868474615813, -14.226576645218447, -13.706702294965798, -13.193104678128027, -12.685647458418197, -12.184198503083714, -11.68862966473174, -11.198816618903699, -10.714638749993215, -10.235979032546998], \"yaxis\": \"y\"}, {\"line\": {\"color\": \"rgb(0, 255, 0)\", \"width\": 2}, \"mode\": \"lines\", \"name\": \"RF\", \"type\": \"scatter\", \"x\": [0.0, 0.1, 0.2, 0.3, 0.4, 0.5, 0.6, 0.7, 0.8, 0.9, 1.0, 1.1, 1.2, 1.3, 1.4, 1.5, 1.6, 1.7, 1.8, 1.9, 2.0, 2.1, 2.2, 2.3, 2.4, 2.5, 2.6, 2.7, 2.8, 2.9, 3.0, 3.1, 3.2, 3.3, 3.4, 3.5, 3.6, 3.7, 3.8, 3.9, 4.0, 4.1, 4.2, 4.3, 4.4, 4.5, 4.6, 4.7, 4.8, 4.9, 5.0, 5.1, 5.2, 5.3, 5.4, 5.5, 5.6, 5.7, 5.8, 5.9, 6.0, 6.1, 6.2, 6.3, 6.4, 6.5, 6.6, 6.7, 6.8, 6.9, 7.0, 7.1, 7.2, 7.3, 7.4, 7.5, 7.6, 7.7, 7.8, 7.9, 8.0, 8.1, 8.2, 8.3, 8.4, 8.5, 8.6, 8.7, 8.8, 8.9, 9.0, 9.1, 9.2, 9.3, 9.4, 9.5, 9.6, 9.7, 9.8, 9.9, 10.0, 10.1, 10.2, 10.3, 10.4, 10.5, 10.6, 10.7, 10.8, 10.9], \"xaxis\": \"x\", \"y\": [0.0, 0.0, 0.0, 0.0, 0.0, 0.0, 0.0, 0.0, 0.0, 0.0, 0.0, -5.816756956865561, -23.928998638109825, -45.095054111799115, -65.52210325483207, -93.15073773133483, -136.58574621254203, -198.56855100728242, -276.7024882810577, -367.0641765904524, -452.31746118373917, -435.5329324436475, -388.00702009201893, -377.29772984356396, -396.94831324800185, -416.9120418545272, -417.1699015423582, -399.59127990245344, -377.6664179140063, -361.18567521423233, -351.2858028771305, -344.27039448034714, -336.792007325955, -328.1666082582252, -319.54365585176174, -312.0372767216978, -305.78602139053174, -300.2448416273428, -294.89340809359527, -289.60423527333637, -284.529919757178, -279.81845336008286, -275.46741425219716, -271.3736498399071, -267.4479810053127, -263.6689144551795, -260.0565558957477, -256.62394853698686, -253.35742799671053, -250.23016207858487, -247.22246444702932, -244.32793152883457, -241.5459062148585, -238.8727106480278, -236.29996232097375, -233.8184460654768, -231.4216313971387, -229.10570223747624, -226.86745999632188, -224.70287417831412, -222.60733275057936, -220.5766368834001, -218.60747226128237, -216.697092449795, -214.84280658270353, -213.04182031876223, -211.29142704560402, -209.58921089124053, -207.93304403074907, -206.32094675928707, -204.7509888582083, -203.2213035702759, -201.730147947276, -200.27592279714915, -198.85713906190787, -197.47237704994956, -196.1202758164819, -194.79954631617215, -193.50898050548201, -192.2474432431833, -191.01385673928672, -189.80719196322255, -188.62646944676408, -187.47076156311587, -186.33918987425457, -185.2309188391618, -184.14515083901443, -183.0811246056683, -182.0381149991064, -181.01543151512521, -180.01241532808285, -179.0284364866948, -178.06289232683108, -177.11520662220363, -176.18482846660655, -175.27123061962703, -174.3739078346873, -173.4923756408689, -172.62616948589672, -171.77484385774682, -170.93797122530341, -170.1151409656013, -169.3059584766287, -168.51004446589687, -167.727034266397, -166.9565771001573, -166.1983353451708, -165.4519838887682, -164.71720957042692, -163.9937106539531], \"yaxis\": \"y\"}, {\"line\": {\"color\": \"rgb(153, 0, 204)\", \"width\": 2}, \"mode\": \"lines\", \"name\": \"RR\", \"type\": \"scatter\", \"x\": [0.0, 0.1, 0.2, 0.3, 0.4, 0.5, 0.6, 0.7, 0.8, 0.9, 1.0, 1.1, 1.2, 1.3, 1.4, 1.5, 1.6, 1.7, 1.8, 1.9, 2.0, 2.1, 2.2, 2.3, 2.4, 2.5, 2.6, 2.7, 2.8, 2.9, 3.0, 3.1, 3.2, 3.3, 3.4, 3.5, 3.6, 3.7, 3.8, 3.9, 4.0, 4.1, 4.2, 4.3, 4.4, 4.5, 4.6, 4.7, 4.8, 4.9, 5.0, 5.1, 5.2, 5.3, 5.4, 5.5, 5.6, 5.7, 5.8, 5.9, 6.0, 6.1, 6.2, 6.3, 6.4, 6.5, 6.6, 6.7, 6.8, 6.9, 7.0, 7.1, 7.2, 7.3, 7.4, 7.5, 7.6, 7.7, 7.8, 7.9, 8.0, 8.1, 8.2, 8.3, 8.4, 8.5, 8.6, 8.7, 8.8, 8.9, 9.0, 9.1, 9.2, 9.3, 9.4, 9.5, 9.6, 9.7, 9.8, 9.9, 10.0, 10.1, 10.2, 10.3, 10.4, 10.5, 10.6, 10.7, 10.8, 10.9], \"xaxis\": \"x\", \"y\": [-0.0, -0.0, -0.0, -0.0, -0.0, -0.0, -0.0, -0.0, -0.0, -0.0, -0.0, -0.0, -0.0, -0.0, -0.0, -0.0, -0.0, -0.0, -0.0, -0.0, -0.0, -0.0, -0.0, -0.0, -0.0, -0.0, -0.0, -0.0, -0.0, -0.0, -0.0, -0.0, -0.0, -0.0, -0.0, -0.0, -0.0, -0.0, -0.0, -0.0, -0.0, -0.0, -0.0, -0.0, -0.0, -0.0, -0.0, -0.0, -0.0, -0.0, -0.0, -0.0, -0.0, -0.0, -0.0, -0.0, -0.0, -0.0, -0.0, -0.0, -0.0, -0.0, -0.0, -0.0, -0.0, -0.0, -0.0, -0.0, -0.0, -0.0, -0.0, -0.0, -0.0, -0.0, -0.0, -0.0, -0.0, -0.0, -0.0, -0.0, -0.0, -0.0, -0.0, -0.0, -0.0, -0.0, -0.0, -0.0, -0.0, -0.0, -0.0, -0.0, -0.0, -0.0, -0.0, -0.0, -0.0, -0.0, -0.0, -0.0, -0.0, -0.0, -0.0, -0.0, -0.0, -0.0, -0.0, -0.0, -0.0, -0.0], \"yaxis\": \"y\"}, {\"line\": {\"color\": \"rgb(255, 102, 0)\", \"width\": 2}, \"mode\": \"lines\", \"name\": \"LR\", \"type\": \"scatter\", \"x\": [0.0, 0.1, 0.2, 0.3, 0.4, 0.5, 0.6, 0.7, 0.8, 0.9, 1.0, 1.1, 1.2, 1.3, 1.4, 1.5, 1.6, 1.7, 1.8, 1.9, 2.0, 2.1, 2.2, 2.3, 2.4, 2.5, 2.6, 2.7, 2.8, 2.9, 3.0, 3.1, 3.2, 3.3, 3.4, 3.5, 3.6, 3.7, 3.8, 3.9, 4.0, 4.1, 4.2, 4.3, 4.4, 4.5, 4.6, 4.7, 4.8, 4.9, 5.0, 5.1, 5.2, 5.3, 5.4, 5.5, 5.6, 5.7, 5.8, 5.9, 6.0, 6.1, 6.2, 6.3, 6.4, 6.5, 6.6, 6.7, 6.8, 6.9, 7.0, 7.1, 7.2, 7.3, 7.4, 7.5, 7.6, 7.7, 7.8, 7.9, 8.0, 8.1, 8.2, 8.3, 8.4, 8.5, 8.6, 8.7, 8.8, 8.9, 9.0, 9.1, 9.2, 9.3, 9.4, 9.5, 9.6, 9.7, 9.8, 9.9, 10.0, 10.1, 10.2, 10.3, 10.4, 10.5, 10.6, 10.7, 10.8, 10.9], \"xaxis\": \"x\", \"y\": [-0.0, -0.0, -0.0, -0.0, -0.0, -0.0, -0.0, -0.0, -0.0, -0.0, -0.0, -0.0, -0.0, -0.0, -0.0, -0.0, -0.0, -0.0, -0.0, -0.0, -0.0, -0.0, -0.0, -0.0, -0.0, -0.0, -0.0, -0.0, -0.0, -0.0, -0.0, -0.0, -0.0, -0.0, -0.0, -0.0, -0.0, -0.0, -0.0, -0.0, -0.0, -0.0, -0.0, -0.0, -0.0, -0.0, -0.0, -0.0, -0.0, -0.0, -0.0, -0.0, -0.0, -0.0, -0.0, -0.0, -0.0, -0.0, -0.0, -0.0, -0.0, -0.0, -0.0, -0.0, -0.0, -0.0, -0.0, -0.0, -0.0, -0.0, -0.0, -0.0, -0.0, -0.0, -0.0, -0.0, -0.0, -0.0, -0.0, -0.0, -0.0, -0.0, -0.0, -0.0, -0.0, -0.0, -0.0, -0.0, -0.0, -0.0, -0.0, -0.0, -0.0, -0.0, -0.0, -0.0, -0.0, -0.0, -0.0, -0.0, -0.0, -0.0, -0.0, -0.0, -0.0, -0.0, -0.0, -0.0, -0.0, -0.0], \"yaxis\": \"y\"}, {\"line\": {\"color\": \"rgb(0, 0, 255)\", \"width\": 2}, \"mode\": \"lines\", \"name\": \"LF\", \"showlegend\": false, \"type\": \"scatter\", \"x\": [0.0, 0.1, 0.2, 0.3, 0.4, 0.5, 0.6, 0.7, 0.8, 0.9, 1.0, 1.1, 1.2, 1.3, 1.4, 1.5, 1.6, 1.7, 1.8, 1.9, 2.0, 2.1, 2.2, 2.3, 2.4, 2.5, 2.6, 2.7, 2.8, 2.9, 3.0, 3.1, 3.2, 3.3, 3.4, 3.5, 3.6, 3.7, 3.8, 3.9, 4.0, 4.1, 4.2, 4.3, 4.4, 4.5, 4.6, 4.7, 4.8, 4.9, 5.0, 5.1, 5.2, 5.3, 5.4, 5.5, 5.6, 5.7, 5.8, 5.9, 6.0, 6.1, 6.2, 6.3, 6.4, 6.5, 6.6, 6.7, 6.8, 6.9, 7.0, 7.1, 7.2, 7.3, 7.4, 7.5, 7.6, 7.7, 7.8, 7.9, 8.0, 8.1, 8.2, 8.3, 8.4, 8.5, 8.6, 8.7, 8.8, 8.9, 9.0, 9.1, 9.2, 9.3, 9.4, 9.5, 9.6, 9.7, 9.8, 9.9, 10.0, 10.1, 10.2, 10.3, 10.4, 10.5, 10.6, 10.7, 10.8, 10.9], \"xaxis\": \"x2\", \"y\": [0.0, 0.0, 0.0, 0.0, 0.0, 0.0, 0.0, 0.0, 0.0, 0.0, 0.0, -163.48270522485265, -271.1403391853884, -291.2218900636786, -290.57629413638585, -306.2194818824828, -336.8163961077983, -364.50145632633087, -378.399571583896, -379.6620375567266, -373.3794178376405, -284.6606407091892, -231.9658877027588, -228.7003164914973, -247.07093792540735, -255.16171902092535, -246.71959781842838, -231.2994234528087, -218.18925698889635, -211.2578197491674, -208.6928468764401, -206.36256063834992, -201.96370860764586, -195.99914918033178, -190.08946526398125, -185.20455622563992, -181.18180173379372, -177.34460688930133, -173.27219872495226, -169.02694889243242, -164.88627452612772, -161.01485644956045, -157.37202901844134, -153.83067126675226, -150.31838498512187, -146.85201370514616, -143.48120148067432, -140.22778410299458, -137.0750887811576, -133.9956279733132, -130.97696316097935, -128.02363954071612, -125.14330228033026, -122.33588200903921, -119.59433167991595, -116.91156154992933, -114.28473914191795, -111.71405243038181, -109.19927673935736, -106.7381990470564, -104.32763429679045, -101.96505589433863, -99.64905265072541, -97.37862644050794, -95.15244379073472, -92.96877408623718, -90.82590811413301, -88.72246380043055, -86.65731871217434, -84.62937159087905, -82.63742858722765, -80.68027775990994, -78.7568052192407, -76.86601835172182, -75.00698378921122, -73.17877120872227, -71.3804556911103, -69.61115310833105, -67.87003838232052, -66.15633184211583, -64.469277150483, -62.80813498337397, -61.17219198048453, -59.560768757708445, -57.973217380994775, -56.40891317870406, -54.8672502178147, -53.34764281931184, -51.84952830444222, -50.372366496557014, -48.91563653918777, -47.478834377071735, -46.0614724952682, -44.663080580756365, -43.28320523457602, -41.92140855042391, -40.5772667315494, -39.250369548040254, -37.94032028716696, -36.646735440854876, -35.36924393657699, -34.1074863246379, -32.861114289118596, -31.629790399365508, -30.413187796137763, -29.21098969795205, -28.022888878020254, -26.848587274842643, -25.687795718702045, -24.54023364708877], \"yaxis\": \"y2\"}, {\"line\": {\"color\": \"rgb(0, 255, 0)\", \"width\": 2}, \"mode\": \"lines\", \"name\": \"RF\", \"showlegend\": false, \"type\": \"scatter\", \"x\": [0.0, 0.1, 0.2, 0.3, 0.4, 0.5, 0.6, 0.7, 0.8, 0.9, 1.0, 1.1, 1.2, 1.3, 1.4, 1.5, 1.6, 1.7, 1.8, 1.9, 2.0, 2.1, 2.2, 2.3, 2.4, 2.5, 2.6, 2.7, 2.8, 2.9, 3.0, 3.1, 3.2, 3.3, 3.4, 3.5, 3.6, 3.7, 3.8, 3.9, 4.0, 4.1, 4.2, 4.3, 4.4, 4.5, 4.6, 4.7, 4.8, 4.9, 5.0, 5.1, 5.2, 5.3, 5.4, 5.5, 5.6, 5.7, 5.8, 5.9, 6.0, 6.1, 6.2, 6.3, 6.4, 6.5, 6.6, 6.7, 6.8, 6.9, 7.0, 7.1, 7.2, 7.3, 7.4, 7.5, 7.6, 7.7, 7.8, 7.9, 8.0, 8.1, 8.2, 8.3, 8.4, 8.5, 8.6, 8.7, 8.8, 8.9, 9.0, 9.1, 9.2, 9.3, 9.4, 9.5, 9.6, 9.7, 9.8, 9.9, 10.0, 10.1, 10.2, 10.3, 10.4, 10.5, 10.6, 10.7, 10.8, 10.9], \"xaxis\": \"x2\", \"y\": [0.0, 0.0, 0.0, 0.0, 0.0, 0.0, 0.0, 0.0, 0.0, 0.0, 0.0, -163.48270522485265, -318.1051035227449, -391.77872423432564, -421.776755671236, -475.0414494881651, -575.1747681432756, -710.1088122631277, -857.3627061232536, -1000.2928546917957, -1096.5840620452027, -1044.167821093059, -930.2268888489043, -904.5519158877512, -951.6631796479818, -999.5251929359572, -1000.1433982846999, -957.9995563653896, -905.4358265877223, -865.9240930013193, -842.1896578821826, -825.3705768114418, -807.4415279643667, -786.762577006336, -766.0894917929437, -748.0933336228577, -733.1062702528918, -719.8215765624495, -706.9917897049872, -694.3112697081925, -682.1458590552762, -670.8503605164957, -660.4189678792477, -650.6043781019241, -641.1927888327666, -632.1326710059043, -623.4722270187053, -615.2427272967087, -607.4114121859109, -599.9139528746558, -592.7031523851786, -585.7636584798248, -579.0938957731987, -572.6850467919926, -566.5170149056129, -560.5677072218718, -554.8214672400622, -549.2691461081498, -543.9030753706012, -538.7135921219366, -533.6896392503793, -528.8211502774826, -524.1001793021908, -519.5201418891094, -515.0745868247399, -510.75681481956224, -506.56033690953404, -502.4793611657283, -498.5087862372534, -494.64386588349726, -490.87997250446017, -487.21263064560964, -483.63766167818284, -480.1512316214083, -476.74977053529204, -473.42987478218265, -470.188281566887, -467.02190046947095, -463.9278352676394, -460.90336451863914, -457.94590427636416, -455.0529874929113, -452.2222659435472, -449.4515156907057, -446.7386307243737, -444.0816078779025, -441.47853490115773, -438.9275866928896, -436.42702476717625, -433.9751936756786, -431.57051391778083, -429.21147521765505, -426.89663271902384, -424.62460494897704, -422.3940711382001, -420.20376725490115, -418.05248199637725, -415.9390538685012, -413.8623691310693, -411.8213596919014, -409.81500056712065, -407.8423073092721, -405.9023338803132, -403.9941709459965, -402.1169442359102, -400.2698127778954, -398.45196714054293, -396.66262788293733, -394.90104421882063, -393.16649275117607], \"yaxis\": \"y2\"}, {\"line\": {\"color\": \"rgb(153, 0, 204)\", \"width\": 2}, \"mode\": \"lines\", \"name\": \"RR\", \"showlegend\": false, \"type\": \"scatter\", \"x\": [0.0, 0.1, 0.2, 0.3, 0.4, 0.5, 0.6, 0.7, 0.8, 0.9, 1.0, 1.1, 1.2, 1.3, 1.4, 1.5, 1.6, 1.7, 1.8, 1.9, 2.0, 2.1, 2.2, 2.3, 2.4, 2.5, 2.6, 2.7, 2.8, 2.9, 3.0, 3.1, 3.2, 3.3, 3.4, 3.5, 3.6, 3.7, 3.8, 3.9, 4.0, 4.1, 4.2, 4.3, 4.4, 4.5, 4.6, 4.7, 4.8, 4.9, 5.0, 5.1, 5.2, 5.3, 5.4, 5.5, 5.6, 5.7, 5.8, 5.9, 6.0, 6.1, 6.2, 6.3, 6.4, 6.5, 6.6, 6.7, 6.8, 6.9, 7.0, 7.1, 7.2, 7.3, 7.4, 7.5, 7.6, 7.7, 7.8, 7.9, 8.0, 8.1, 8.2, 8.3, 8.4, 8.5, 8.6, 8.7, 8.8, 8.9, 9.0, 9.1, 9.2, 9.3, 9.4, 9.5, 9.6, 9.7, 9.8, 9.9, 10.0, 10.1, 10.2, 10.3, 10.4, 10.5, 10.6, 10.7, 10.8, 10.9], \"xaxis\": \"x2\", \"y\": [-0.0, -0.0, -0.0, -0.0, -0.0, -0.0, -0.0, -0.0, -0.0, -0.0, -0.0, -0.0, 1.9717607314213739, 3.6974122132699483, -7.062834614167151, -38.257466039773725, -86.02570995434958, -141.15726832362517, -195.22673348101054, -243.95325894784227, -287.1661079490807, -325.7122761147844, -359.8083334809566, -394.2685384936695, -423.2101126970507, -434.01983211681915, -423.8279921899494, -401.5317423555721, -378.23374398427643, -359.4827220841572, -344.9596046672515, -332.1711139332727, -319.5657269051077, -307.24909263721486, -295.9981066590974, -286.18816025519664, -277.5543441079563, -269.5977697444541, -262.0133163993876, -254.7817121598145, -247.99892898876638, -241.69792091629236, -235.81151377198296, -230.24231551155648, -224.93167816298518, -219.86862436746864, -215.05681238446303, -210.4859023230541, -206.12993155268245, -201.96211553990594, -197.96566468342547, -194.1324552472851, -190.45569216810412, -186.92554672642623, -183.5303483894412, -180.25981652651382, -177.10641737787702, -174.06427319085196, -171.12756216309296, -168.29004912019522, -165.54567722346613, -162.88918589184746, -160.31611193793904, -157.82237790699372, -155.40399223288298, -153.05707780360208, -150.7780467735224, -148.5636699192289, -146.41099097235414, -144.31721022704087, -142.27964729985564, -140.29577473745252, -138.3632479656681, -136.4798897367696, -134.64364985020705, -132.85257955161717, -131.10483172479042, -129.39866843093716, -127.73245719704767, -126.10465644435682, -124.51380224798844, -122.95850352554521, -121.43744195842167, -119.94936972578908, -118.49310326961728, -117.06751653505596, -115.67153687761315, -114.30414321711457, -112.96436403984784, -111.6512740899407, -110.36399065030658, -109.10167069447591, -107.86350902858153, -106.64873660944416, -105.45661847218793, -104.28645148032842, -103.13756239292101, -102.00930637272782, -100.9010656553592, -99.81224812566457, -98.74228584252808, -97.69063370226202, -96.6567683104005, -95.64018696109835, -94.64040661299944, -93.65696286486303, -92.68940900528914, -91.73731516977935, -90.80026756597086, -89.87786771788834], \"yaxis\": \"y2\"}, {\"line\": {\"color\": \"rgb(255, 102, 0)\", \"width\": 2}, \"mode\": \"lines\", \"name\": \"LR\", \"showlegend\": false, \"type\": \"scatter\", \"x\": [0.0, 0.1, 0.2, 0.3, 0.4, 0.5, 0.6, 0.7, 0.8, 0.9, 1.0, 1.1, 1.2, 1.3, 1.4, 1.5, 1.6, 1.7, 1.8, 1.9, 2.0, 2.1, 2.2, 2.3, 2.4, 2.5, 2.6, 2.7, 2.8, 2.9, 3.0, 3.1, 3.2, 3.3, 3.4, 3.5, 3.6, 3.7, 3.8, 3.9, 4.0, 4.1, 4.2, 4.3, 4.4, 4.5, 4.6, 4.7, 4.8, 4.9, 5.0, 5.1, 5.2, 5.3, 5.4, 5.5, 5.6, 5.7, 5.8, 5.9, 6.0, 6.1, 6.2, 6.3, 6.4, 6.5, 6.6, 6.7, 6.8, 6.9, 7.0, 7.1, 7.2, 7.3, 7.4, 7.5, 7.6, 7.7, 7.8, 7.9, 8.0, 8.1, 8.2, 8.3, 8.4, 8.5, 8.6, 8.7, 8.8, 8.9, 9.0, 9.1, 9.2, 9.3, 9.4, 9.5, 9.6, 9.7, 9.8, 9.9, 10.0, 10.1, 10.2, 10.3, 10.4, 10.5, 10.6, 10.7, 10.8, 10.9], \"xaxis\": \"x2\", \"y\": [-0.0, -0.0, -0.0, -0.0, -0.0, -0.0, -0.0, -0.0, -0.0, -0.0, -0.0, -0.0, 1.6911300193512118, 2.832667418737657, -5.277114382920099, -28.516888974365774, -61.395454007912356, -91.48373114782592, -111.31263866149382, -121.34199138437093, -124.84728748957589, -127.77239250021418, -156.87757248227612, -189.38290481871138, -198.7090757264491, -187.90208379434475, -174.92393126534023, -169.6953657367544, -170.9385902144549, -173.59738919695351, -174.2244810817533, -172.42377708105516, -169.65587072887308, -167.29841639142546, -165.69891682535916, -164.44336279871052, -163.04072362149824, -161.33643465261602, -159.48054231561548, -157.6747941789792, -155.99449129262268, -154.39047223615444, -152.78781111534147, -151.16001000398666, -149.53037310400202, -147.9315505321393, -146.37484819435244, -144.85054103887964, -143.34557270950398, -141.85631521889144, -140.3876687910633, -138.94507015813556, -137.5293264212965, -136.13762101173734, -134.76726346127134, -133.41774139994703, -132.08994451893017, -130.78441432011036, -129.5006051000481, -128.2374303240886, -126.99408438692478, -125.77027364290386, -124.56587631677048, -123.3805753417604, -122.21382279171175, -121.06504320571896, -119.9337911565454, -118.81972992751558, -117.72252026007466, -116.64176166217533, -115.57702441241109, -114.5279073847066, -113.49405515921414, -112.47513242063845, -111.47079681786008, -110.48069808766272, -109.50449481186293, -108.54186538640933, -107.5925039291336, -106.6561104795162, -105.73238741595756, -104.82104344375773, -103.92179818012585, -103.03438212568929, -102.15853341273805, -101.29399563670394, -100.44051848219927, -99.59785931641282, -98.7657834996207, -97.9440632819806, -97.13247672292131, -96.33080758072275, -95.53884576427511, -94.7563874620552, -93.98323470452308, -93.21919482170202, -92.46408023320092, -91.71770850786874, -90.9799023551989, -90.2504893969463, -89.52930186624769, -88.81617642388721, -88.11095409687283, -87.41348020943944, -86.72360422941229, -86.04117957791146, -85.36606348353361, -84.69811689213527, -84.03720438063979, -83.38319403830987], \"yaxis\": \"y2\"}],\n",
       "                        {\"autosize\": false, \"font\": {\"color\": \"black\", \"family\": \"Arial\", \"size\": 14}, \"height\": 500, \"legend\": {\"orientation\": \"h\", \"x\": 0.01, \"xanchor\": \"left\", \"y\": 1.1, \"yanchor\": \"top\"}, \"template\": {\"data\": {\"bar\": [{\"error_x\": {\"color\": \"#2a3f5f\"}, \"error_y\": {\"color\": \"#2a3f5f\"}, \"marker\": {\"line\": {\"color\": \"white\", \"width\": 0.5}}, \"type\": \"bar\"}], \"barpolar\": [{\"marker\": {\"line\": {\"color\": \"white\", \"width\": 0.5}}, \"type\": \"barpolar\"}], \"carpet\": [{\"aaxis\": {\"endlinecolor\": \"#2a3f5f\", \"gridcolor\": \"#C8D4E3\", \"linecolor\": \"#C8D4E3\", \"minorgridcolor\": \"#C8D4E3\", \"startlinecolor\": \"#2a3f5f\"}, \"baxis\": {\"endlinecolor\": \"#2a3f5f\", \"gridcolor\": \"#C8D4E3\", \"linecolor\": \"#C8D4E3\", \"minorgridcolor\": \"#C8D4E3\", \"startlinecolor\": \"#2a3f5f\"}, \"type\": \"carpet\"}], \"choropleth\": [{\"colorbar\": {\"outlinewidth\": 0, \"ticks\": \"\"}, \"type\": \"choropleth\"}], \"contour\": [{\"colorbar\": {\"outlinewidth\": 0, \"ticks\": \"\"}, \"colorscale\": [[0.0, \"#0d0887\"], [0.1111111111111111, \"#46039f\"], [0.2222222222222222, \"#7201a8\"], [0.3333333333333333, \"#9c179e\"], [0.4444444444444444, \"#bd3786\"], [0.5555555555555556, \"#d8576b\"], [0.6666666666666666, \"#ed7953\"], [0.7777777777777778, \"#fb9f3a\"], [0.8888888888888888, \"#fdca26\"], [1.0, \"#f0f921\"]], \"type\": \"contour\"}], \"contourcarpet\": [{\"colorbar\": {\"outlinewidth\": 0, \"ticks\": \"\"}, \"type\": \"contourcarpet\"}], \"heatmap\": [{\"colorbar\": {\"outlinewidth\": 0, \"ticks\": \"\"}, \"colorscale\": [[0.0, \"#0d0887\"], [0.1111111111111111, \"#46039f\"], [0.2222222222222222, \"#7201a8\"], [0.3333333333333333, \"#9c179e\"], [0.4444444444444444, \"#bd3786\"], [0.5555555555555556, \"#d8576b\"], [0.6666666666666666, \"#ed7953\"], [0.7777777777777778, \"#fb9f3a\"], [0.8888888888888888, \"#fdca26\"], [1.0, \"#f0f921\"]], \"type\": \"heatmap\"}], \"heatmapgl\": [{\"colorbar\": {\"outlinewidth\": 0, \"ticks\": \"\"}, \"colorscale\": [[0.0, \"#0d0887\"], [0.1111111111111111, \"#46039f\"], [0.2222222222222222, \"#7201a8\"], [0.3333333333333333, \"#9c179e\"], [0.4444444444444444, \"#bd3786\"], [0.5555555555555556, \"#d8576b\"], [0.6666666666666666, \"#ed7953\"], [0.7777777777777778, \"#fb9f3a\"], [0.8888888888888888, \"#fdca26\"], [1.0, \"#f0f921\"]], \"type\": \"heatmapgl\"}], \"histogram\": [{\"marker\": {\"colorbar\": {\"outlinewidth\": 0, \"ticks\": \"\"}}, \"type\": \"histogram\"}], \"histogram2d\": [{\"colorbar\": {\"outlinewidth\": 0, \"ticks\": \"\"}, \"colorscale\": [[0.0, \"#0d0887\"], [0.1111111111111111, \"#46039f\"], [0.2222222222222222, \"#7201a8\"], [0.3333333333333333, \"#9c179e\"], [0.4444444444444444, \"#bd3786\"], [0.5555555555555556, \"#d8576b\"], [0.6666666666666666, \"#ed7953\"], [0.7777777777777778, \"#fb9f3a\"], [0.8888888888888888, \"#fdca26\"], [1.0, \"#f0f921\"]], \"type\": \"histogram2d\"}], \"histogram2dcontour\": [{\"colorbar\": {\"outlinewidth\": 0, \"ticks\": \"\"}, \"colorscale\": [[0.0, \"#0d0887\"], [0.1111111111111111, \"#46039f\"], [0.2222222222222222, \"#7201a8\"], [0.3333333333333333, \"#9c179e\"], [0.4444444444444444, \"#bd3786\"], [0.5555555555555556, \"#d8576b\"], [0.6666666666666666, \"#ed7953\"], [0.7777777777777778, \"#fb9f3a\"], [0.8888888888888888, \"#fdca26\"], [1.0, \"#f0f921\"]], \"type\": \"histogram2dcontour\"}], \"mesh3d\": [{\"colorbar\": {\"outlinewidth\": 0, \"ticks\": \"\"}, \"type\": \"mesh3d\"}], \"parcoords\": [{\"line\": {\"colorbar\": {\"outlinewidth\": 0, \"ticks\": \"\"}}, \"type\": \"parcoords\"}], \"pie\": [{\"automargin\": true, \"type\": \"pie\"}], \"scatter\": [{\"marker\": {\"colorbar\": {\"outlinewidth\": 0, \"ticks\": \"\"}}, \"type\": \"scatter\"}], \"scatter3d\": [{\"line\": {\"colorbar\": {\"outlinewidth\": 0, \"ticks\": \"\"}}, \"marker\": {\"colorbar\": {\"outlinewidth\": 0, \"ticks\": \"\"}}, \"type\": \"scatter3d\"}], \"scattercarpet\": [{\"marker\": {\"colorbar\": {\"outlinewidth\": 0, \"ticks\": \"\"}}, \"type\": \"scattercarpet\"}], \"scattergeo\": [{\"marker\": {\"colorbar\": {\"outlinewidth\": 0, \"ticks\": \"\"}}, \"type\": \"scattergeo\"}], \"scattergl\": [{\"marker\": {\"colorbar\": {\"outlinewidth\": 0, \"ticks\": \"\"}}, \"type\": \"scattergl\"}], \"scattermapbox\": [{\"marker\": {\"colorbar\": {\"outlinewidth\": 0, \"ticks\": \"\"}}, \"type\": \"scattermapbox\"}], \"scatterpolar\": [{\"marker\": {\"colorbar\": {\"outlinewidth\": 0, \"ticks\": \"\"}}, \"type\": \"scatterpolar\"}], \"scatterpolargl\": [{\"marker\": {\"colorbar\": {\"outlinewidth\": 0, \"ticks\": \"\"}}, \"type\": \"scatterpolargl\"}], \"scatterternary\": [{\"marker\": {\"colorbar\": {\"outlinewidth\": 0, \"ticks\": \"\"}}, \"type\": \"scatterternary\"}], \"surface\": [{\"colorbar\": {\"outlinewidth\": 0, \"ticks\": \"\"}, \"colorscale\": [[0.0, \"#0d0887\"], [0.1111111111111111, \"#46039f\"], [0.2222222222222222, \"#7201a8\"], [0.3333333333333333, \"#9c179e\"], [0.4444444444444444, \"#bd3786\"], [0.5555555555555556, \"#d8576b\"], [0.6666666666666666, \"#ed7953\"], [0.7777777777777778, \"#fb9f3a\"], [0.8888888888888888, \"#fdca26\"], [1.0, \"#f0f921\"]], \"type\": \"surface\"}], \"table\": [{\"cells\": {\"fill\": {\"color\": \"#EBF0F8\"}, \"line\": {\"color\": \"white\"}}, \"header\": {\"fill\": {\"color\": \"#C8D4E3\"}, \"line\": {\"color\": \"white\"}}, \"type\": \"table\"}]}, \"layout\": {\"annotationdefaults\": {\"arrowcolor\": \"#2a3f5f\", \"arrowhead\": 0, \"arrowwidth\": 1}, \"coloraxis\": {\"colorbar\": {\"outlinewidth\": 0, \"ticks\": \"\"}}, \"colorscale\": {\"diverging\": [[0, \"#8e0152\"], [0.1, \"#c51b7d\"], [0.2, \"#de77ae\"], [0.3, \"#f1b6da\"], [0.4, \"#fde0ef\"], [0.5, \"#f7f7f7\"], [0.6, \"#e6f5d0\"], [0.7, \"#b8e186\"], [0.8, \"#7fbc41\"], [0.9, \"#4d9221\"], [1, \"#276419\"]], \"sequential\": [[0.0, \"#0d0887\"], [0.1111111111111111, \"#46039f\"], [0.2222222222222222, \"#7201a8\"], [0.3333333333333333, \"#9c179e\"], [0.4444444444444444, \"#bd3786\"], [0.5555555555555556, \"#d8576b\"], [0.6666666666666666, \"#ed7953\"], [0.7777777777777778, \"#fb9f3a\"], [0.8888888888888888, \"#fdca26\"], [1.0, \"#f0f921\"]], \"sequentialminus\": [[0.0, \"#0d0887\"], [0.1111111111111111, \"#46039f\"], [0.2222222222222222, \"#7201a8\"], [0.3333333333333333, \"#9c179e\"], [0.4444444444444444, \"#bd3786\"], [0.5555555555555556, \"#d8576b\"], [0.6666666666666666, \"#ed7953\"], [0.7777777777777778, \"#fb9f3a\"], [0.8888888888888888, \"#fdca26\"], [1.0, \"#f0f921\"]]}, \"colorway\": [\"#636efa\", \"#EF553B\", \"#00cc96\", \"#ab63fa\", \"#FFA15A\", \"#19d3f3\", \"#FF6692\", \"#B6E880\", \"#FF97FF\", \"#FECB52\"], \"font\": {\"color\": \"#2a3f5f\"}, \"geo\": {\"bgcolor\": \"white\", \"lakecolor\": \"white\", \"landcolor\": \"white\", \"showlakes\": true, \"showland\": true, \"subunitcolor\": \"#C8D4E3\"}, \"hoverlabel\": {\"align\": \"left\"}, \"hovermode\": \"closest\", \"mapbox\": {\"style\": \"light\"}, \"paper_bgcolor\": \"white\", \"plot_bgcolor\": \"white\", \"polar\": {\"angularaxis\": {\"gridcolor\": \"#EBF0F8\", \"linecolor\": \"#EBF0F8\", \"ticks\": \"\"}, \"bgcolor\": \"white\", \"radialaxis\": {\"gridcolor\": \"#EBF0F8\", \"linecolor\": \"#EBF0F8\", \"ticks\": \"\"}}, \"scene\": {\"xaxis\": {\"backgroundcolor\": \"white\", \"gridcolor\": \"#DFE8F3\", \"gridwidth\": 2, \"linecolor\": \"#EBF0F8\", \"showbackground\": true, \"ticks\": \"\", \"zerolinecolor\": \"#EBF0F8\"}, \"yaxis\": {\"backgroundcolor\": \"white\", \"gridcolor\": \"#DFE8F3\", \"gridwidth\": 2, \"linecolor\": \"#EBF0F8\", \"showbackground\": true, \"ticks\": \"\", \"zerolinecolor\": \"#EBF0F8\"}, \"zaxis\": {\"backgroundcolor\": \"white\", \"gridcolor\": \"#DFE8F3\", \"gridwidth\": 2, \"linecolor\": \"#EBF0F8\", \"showbackground\": true, \"ticks\": \"\", \"zerolinecolor\": \"#EBF0F8\"}}, \"shapedefaults\": {\"line\": {\"color\": \"#2a3f5f\"}}, \"ternary\": {\"aaxis\": {\"gridcolor\": \"#DFE8F3\", \"linecolor\": \"#A2B1C6\", \"ticks\": \"\"}, \"baxis\": {\"gridcolor\": \"#DFE8F3\", \"linecolor\": \"#A2B1C6\", \"ticks\": \"\"}, \"bgcolor\": \"white\", \"caxis\": {\"gridcolor\": \"#DFE8F3\", \"linecolor\": \"#A2B1C6\", \"ticks\": \"\"}}, \"title\": {\"x\": 0.05}, \"xaxis\": {\"automargin\": true, \"gridcolor\": \"#EBF0F8\", \"linecolor\": \"#EBF0F8\", \"ticks\": \"\", \"title\": {\"standoff\": 15}, \"zerolinecolor\": \"#EBF0F8\", \"zerolinewidth\": 2}, \"yaxis\": {\"automargin\": true, \"gridcolor\": \"#EBF0F8\", \"linecolor\": \"#EBF0F8\", \"ticks\": \"\", \"title\": {\"standoff\": 15}, \"zerolinecolor\": \"#EBF0F8\", \"zerolinewidth\": 2}}}, \"title\": {\"text\": \"Veh1 - Tire Forces\"}, \"width\": 900, \"xaxis\": {\"anchor\": \"y\", \"domain\": [0.0, 1.0], \"linecolor\": \"black\", \"linewidth\": 1, \"matches\": \"x2\", \"showgrid\": false, \"showline\": true, \"showticklabels\": false, \"tickcolor\": \"black\", \"ticklen\": 10, \"ticks\": \"outside\", \"tickwidth\": 1, \"title\": {\"text\": \"\"}, \"zeroline\": false}, \"xaxis2\": {\"anchor\": \"y2\", \"domain\": [0.0, 1.0], \"linecolor\": \"black\", \"linewidth\": 1, \"showgrid\": false, \"showline\": true, \"tickcolor\": \"black\", \"ticklen\": 10, \"ticks\": \"outside\", \"tickwidth\": 1, \"title\": {\"text\": \"Time (s)\"}, \"zeroline\": false}, \"yaxis\": {\"anchor\": \"x\", \"domain\": [0.525, 1.0], \"linecolor\": \"black\", \"linewidth\": 1, \"showgrid\": false, \"showline\": true, \"tickcolor\": \"black\", \"ticklen\": 10, \"ticks\": \"outside\", \"tickwidth\": 1, \"title\": {\"text\": \"Forward (lb)\"}, \"zeroline\": false}, \"yaxis2\": {\"anchor\": \"x2\", \"domain\": [0.0, 0.475], \"linecolor\": \"black\", \"linewidth\": 1, \"showgrid\": false, \"showline\": true, \"tickcolor\": \"black\", \"ticklen\": 10, \"ticks\": \"outside\", \"tickwidth\": 1, \"title\": {\"text\": \"Rightward (lb)\"}, \"zeroline\": false}},\n",
       "                        {\"responsive\": true}\n",
       "                    ).then(function(){\n",
       "                            \n",
       "var gd = document.getElementById('a743a9cb-ee51-4a7c-8dc2-43ec28797256');\n",
       "var x = new MutationObserver(function (mutations, observer) {{\n",
       "        var display = window.getComputedStyle(gd).display;\n",
       "        if (!display || display === 'none') {{\n",
       "            console.log([gd, 'removed!']);\n",
       "            Plotly.purge(gd);\n",
       "            observer.disconnect();\n",
       "        }}\n",
       "}});\n",
       "\n",
       "// Listen for the removal of the full notebook cells\n",
       "var notebookContainer = gd.closest('#notebook-container');\n",
       "if (notebookContainer) {{\n",
       "    x.observe(notebookContainer, {childList: true});\n",
       "}}\n",
       "\n",
       "// Listen for the clearing of the current output cell\n",
       "var outputEl = gd.closest('.output');\n",
       "if (outputEl) {{\n",
       "    x.observe(outputEl, {childList: true});\n",
       "}}\n",
       "\n",
       "                        })\n",
       "                };\n",
       "                });\n",
       "            </script>\n",
       "        </div>"
      ]
     },
     "metadata": {},
     "output_type": "display_data"
    },
    {
     "data": {
      "application/vnd.plotly.v1+json": {
       "config": {
        "plotlyServerURL": "https://plot.ly"
       },
       "data": [
        {
         "line": {
          "color": "rgb(0, 0, 0)",
          "width": 2
         },
         "mode": "lines",
         "name": "heading",
         "type": "scatter",
         "x": [
          0,
          0.1,
          0.2,
          0.3,
          0.4,
          0.5,
          0.6,
          0.7,
          0.8,
          0.9,
          1,
          1.1,
          1.2,
          1.3,
          1.4,
          1.5,
          1.6,
          1.7,
          1.8,
          1.9,
          2,
          2.1,
          2.2,
          2.3,
          2.4,
          2.5,
          2.6,
          2.7,
          2.8,
          2.9,
          3,
          3.1,
          3.2,
          3.3,
          3.4,
          3.5,
          3.6,
          3.7,
          3.8,
          3.9,
          4,
          4.1,
          4.2,
          4.3,
          4.4,
          4.5,
          4.6,
          4.7,
          4.8,
          4.9,
          5,
          5.1,
          5.2,
          5.3,
          5.4,
          5.5,
          5.6,
          5.7,
          5.8,
          5.9,
          6,
          6.1,
          6.2,
          6.3,
          6.4,
          6.5,
          6.6,
          6.7,
          6.8,
          6.9,
          7,
          7.1,
          7.2,
          7.3,
          7.4,
          7.5,
          7.6,
          7.7,
          7.8,
          7.9,
          8,
          8.1,
          8.2,
          8.3,
          8.4,
          8.5,
          8.6,
          8.7,
          8.8,
          8.9,
          9,
          9.1,
          9.2,
          9.3,
          9.4,
          9.5,
          9.6,
          9.7,
          9.8,
          9.9,
          10,
          10.1,
          10.2,
          10.3,
          10.4,
          10.5,
          10.6,
          10.7,
          10.8,
          10.9
         ],
         "xaxis": "x",
         "y": [
          0,
          0,
          0,
          0,
          0,
          0,
          0,
          0,
          0,
          0,
          0,
          -0.0728916891642895,
          -0.4237646905090495,
          -1.2647519272466579,
          -2.6939176669289795,
          -4.718393419730979,
          -7.311661309248314,
          -10.446546138042152,
          -14.10315572203435,
          -18.26560735460551,
          -22.911332056977837,
          -27.96333847760388,
          -33.25059785046273,
          -38.574958432847694,
          -43.81310258489834,
          -48.93775423220646,
          -53.97212255317876,
          -58.93942338257074,
          -63.8435835721226,
          -68.6771081391991,
          -73.43506561598689,
          -78.12088513320654,
          -82.7430717076626,
          -87.30942287071716,
          -91.82425512343362,
          -96.28931208486071,
          -100.70591715198498,
          -105.07614339909547,
          -109.4025929317018,
          -113.68766117626592,
          -117.93315642666664,
          -122.14044615379107,
          -126.31078609101354,
          -130.44549020127295,
          -134.54588391209282,
          -138.61318851165507,
          -142.6484750400451,
          -146.65270401954268,
          -150.62678532866332,
          -154.57160295389244,
          -158.4880032464989,
          -162.37677729690782,
          -166.23865954621522,
          -170.07434039932093,
          -173.884478608822,
          -177.66970505893187,
          -181.43062059380432,
          -185.1677946180705,
          -188.88176748098974,
          -192.57305471976406,
          -196.2421501162378,
          -199.8895267106686,
          -203.51563704626977,
          -207.12091401325665,
          -210.70577243484163,
          -214.27061067089625,
          -217.81581169250273,
          -221.34174372526093,
          -224.84876086781605,
          -228.33720389321064,
          -231.8074011207551,
          -235.25966916385394,
          -238.69431350563949,
          -242.11162899827386,
          -245.51190038040411,
          -248.89540281509616,
          -252.26240239323207,
          -255.61315656976853,
          -258.94791455047806,
          -262.26691766330646,
          -265.57039972615775,
          -268.85858739834254,
          -272.13170050214705,
          -275.3899523162931,
          -278.6335498527116,
          -281.862694123735,
          -285.07758039775575,
          -288.2783984387056,
          -291.4653327289808,
          -294.6385626796758,
          -297.79826283157195,
          -300.94460304717967,
          -304.0777486924948,
          -307.1978608082242,
          -310.30509627191833,
          -313.39960795263613,
          -316.4815448586829,
          -319.5510522781711,
          -322.6082719123965,
          -325.65334200267046,
          -328.6863974514109,
          -331.7075699379157,
          -334.71698802888113,
          -337.71477728376686,
          -340.70106035535383,
          -343.6759570859299,
          -346.63958459939505,
          -349.59205738941483,
          -352.5334874037495,
          -355.4639841249757
         ],
         "yaxis": "y"
        },
        {
         "line": {
          "color": "rgb(0, 255, 0)",
          "width": 2
         },
         "mode": "lines",
         "name": "omega",
         "type": "scatter",
         "x": [
          0,
          0.1,
          0.2,
          0.3,
          0.4,
          0.5,
          0.6,
          0.7,
          0.8,
          0.9,
          1,
          1.1,
          1.2,
          1.3,
          1.4,
          1.5,
          1.6,
          1.7,
          1.8,
          1.9,
          2,
          2.1,
          2.2,
          2.3,
          2.4,
          2.5,
          2.6,
          2.7,
          2.8,
          2.9,
          3,
          3.1,
          3.2,
          3.3,
          3.4,
          3.5,
          3.6,
          3.7,
          3.8,
          3.9,
          4,
          4.1,
          4.2,
          4.3,
          4.4,
          4.5,
          4.6,
          4.7,
          4.8,
          4.9,
          5,
          5.1,
          5.2,
          5.3,
          5.4,
          5.5,
          5.6,
          5.7,
          5.8,
          5.9,
          6,
          6.1,
          6.2,
          6.3,
          6.4,
          6.5,
          6.6,
          6.7,
          6.8,
          6.9,
          7,
          7.1,
          7.2,
          7.3,
          7.4,
          7.5,
          7.6,
          7.7,
          7.8,
          7.9,
          8,
          8.1,
          8.2,
          8.3,
          8.4,
          8.5,
          8.6,
          8.7,
          8.8,
          8.9,
          9,
          9.1,
          9.2,
          9.3,
          9.4,
          9.5,
          9.6,
          9.7,
          9.8,
          9.9,
          10,
          10.1,
          10.2,
          10.3,
          10.4,
          10.5,
          10.6,
          10.7,
          10.8,
          10.9
         ],
         "xaxis": "x2",
         "y": [
          0,
          0,
          0,
          0,
          0,
          0,
          0,
          0,
          0,
          0,
          0,
          -1.45783378328579,
          -5.559626243609411,
          -11.260118491142755,
          -17.323196302503675,
          -23.166318753536316,
          -28.699039036810376,
          -33.998657539066365,
          -39.13353414077763,
          -44.11549851064557,
          -48.79899553680092,
          -52.24113287571988,
          -53.504054581457126,
          -52.98315706624226,
          -51.779725974770564,
          -50.71330697139184,
          -49.97405944805422,
          -49.371957139785444,
          -48.71124665125162,
          -47.95924469027851,
          -47.19990484547697,
          -46.51648549891615,
          -45.92724599020489,
          -45.39977727088622,
          -44.896867783443426,
          -44.40427144509859,
          -43.927829897386665,
          -43.47669504482297,
          -43.05229560730391,
          -42.64906928397839,
          -42.260835724036106,
          -41.88495881845275,
          -41.52183992599664,
          -41.17224227919146,
          -40.835631937206216,
          -40.51046005403885,
          -40.19527051376183,
          -39.889309076190024,
          -39.59231710622222,
          -39.30403539836075,
          -39.02397045376844,
          -38.75151055440969,
          -38.486134431738236,
          -38.22748263037591,
          -37.975281559646284,
          -37.72924744255032,
          -37.48906325489911,
          -37.2544172304237,
          -37.02504002796097,
          -36.800704747525344,
          -36.581203181949846,
          -36.36632870666624,
          -36.1558780053574,
          -35.949661334380586,
          -35.747507097318675,
          -35.54925762377314,
          -35.35476280835641,
          -35.163877846807964,
          -34.97646500429436,
          -34.79239550359744,
          -34.611549047291646,
          -34.433811814685924,
          -34.25907502102522,
          -34.08723483166224,
          -33.918192810943765,
          -33.75185588289594,
          -33.58813567982186,
          -33.426947850908,
          -33.268211763282984,
          -33.111850493285594,
          -32.9577907637397,
          -32.80596267995621,
          -32.6562993961344,
          -32.50873688678561,
          -32.3632138415853,
          -32.21967157888282,
          -32.07805390153218,
          -31.938306917464462,
          -31.80037888803852,
          -31.664220125861004,
          -31.52978291206203,
          -31.397021400091827,
          -31.26589150621092,
          -31.13635080837657,
          -31.008358465506195,
          -30.881875148849467,
          -30.756862972086143,
          -30.633285417676937,
          -30.511107266832166,
          -30.390294538647325,
          -30.270814436161423,
          -30.152635293933855,
          -30.03572652537456,
          -29.92005857234026,
          -29.805602859398764,
          -29.692331752123568,
          -29.580218517178547,
          -29.46923728321821,
          -29.359363003475668,
          -29.250571421046065
         ],
         "yaxis": "y2"
        },
        {
         "line": {
          "color": "rgb(204, 0, 0)",
          "width": 2
         },
         "mode": "lines",
         "name": "alpha",
         "type": "scatter",
         "x": [
          0,
          0.1,
          0.2,
          0.3,
          0.4,
          0.5,
          0.6,
          0.7,
          0.8,
          0.9,
          1,
          1.1,
          1.2,
          1.3,
          1.4,
          1.5,
          1.6,
          1.7,
          1.8,
          1.9,
          2,
          2.1,
          2.2,
          2.3,
          2.4,
          2.5,
          2.6,
          2.7,
          2.8,
          2.9,
          3,
          3.1,
          3.2,
          3.3,
          3.4,
          3.5,
          3.6,
          3.7,
          3.8,
          3.9,
          4,
          4.1,
          4.2,
          4.3,
          4.4,
          4.5,
          4.6,
          4.7,
          4.8,
          4.9,
          5,
          5.1,
          5.2,
          5.3,
          5.4,
          5.5,
          5.6,
          5.7,
          5.8,
          5.9,
          6,
          6.1,
          6.2,
          6.3,
          6.4,
          6.5,
          6.6,
          6.7,
          6.8,
          6.9,
          7,
          7.1,
          7.2,
          7.3,
          7.4,
          7.5,
          7.6,
          7.7,
          7.8,
          7.9,
          8,
          8.1,
          8.2,
          8.3,
          8.4,
          8.5,
          8.6,
          8.7,
          8.8,
          8.9,
          9,
          9.1,
          9.2,
          9.3,
          9.4,
          9.5,
          9.6,
          9.7,
          9.8,
          9.9,
          10,
          10.1,
          10.2,
          10.3,
          10.4,
          10.5,
          10.6,
          10.7,
          10.8,
          10.9
         ],
         "xaxis": "x2",
         "y": [
          0,
          0,
          0,
          0,
          0,
          0,
          0,
          0,
          0,
          0,
          0,
          -29.156675665715795,
          -52.87917354075662,
          -61.13067140991028,
          -60.130884817308115,
          -56.73156420334462,
          -53.92284146213673,
          -52.06952858298299,
          -50.62800345124209,
          -49.01128394611693,
          -44.65865657699006,
          -24.18409020138903,
          -1.0743439133560044,
          11.492294217653347,
          12.576327611780549,
          8.75205245579402,
          6.03289801095842,
          6.0091481544169865,
          7.205061616259594,
          7.834977603202617,
          7.351819292827979,
          6.3165676383886655,
          5.468222535836475,
          5.081151850536977,
          4.977037898318829,
          4.874888868577857,
          4.6539420856606455,
          4.368754965613322,
          4.119233784767797,
          3.945292681742588,
          3.819378517103018,
          3.6981595945641677,
          3.5642182545581673,
          3.4277346815452847,
          3.3044721581595597,
          3.1989655051878416,
          3.104825300352631,
          3.0144034510834357,
          2.9254359482727295,
          2.840198208956575,
          2.761100682889716,
          2.688097304285276,
          2.6194251491437983,
          2.5536108781027913,
          2.4904105364897093,
          2.4302718054295736,
          2.373411947594551,
          2.319508541913659,
          2.268035507340966,
          2.2186701013714942,
          2.171361210138553,
          2.126128295533661,
          2.082885730642916,
          2.041447688893418,
          2.001637052344755,
          1.963352418566008,
          1.9265438897683993,
          1.891155341200707,
          1.8571015090711696,
          1.8242885048674282,
          1.7926406212483887,
          1.7621040308659615,
          1.7326318423483094,
          1.704171944911093,
          1.6766684694585627,
          1.6500700914979638,
          1.6243339699835373,
          1.5994226082936596,
          1.575299144206666,
          1.5519262557410785,
          1.5292683351768686,
          1.507293340492836,
          1.485972335943427,
          1.465277851032334,
          1.445183052974033,
          1.4256622010755178,
          1.4066913459373684,
          1.3882483354169128,
          1.3703122531019518,
          1.3528629904484282,
          1.3358812855311675,
          1.3193489538727745,
          1.303248923745382,
          1.2875650329415977,
          1.2722818244659762,
          1.2573845086685846,
          1.2428590265979076,
          1.2286920615861578,
          1.21487095530933,
          1.201383608387401,
          1.1882184413306505,
          1.1753644032206365,
          1.162810967965319,
          1.1505480927207694,
          1.13856616610909,
          1.1268559793948683,
          1.1154087195054703,
          1.1042159597013634,
          1.0932696351494755,
          1.0825620134425222
         ],
         "yaxis": "y2"
        }
       ],
       "layout": {
        "autosize": false,
        "font": {
         "color": "black",
         "family": "Arial",
         "size": 14
        },
        "height": 500,
        "legend": {
         "orientation": "h",
         "x": 0.01,
         "xanchor": "left",
         "y": 1.1,
         "yanchor": "top"
        },
        "template": {
         "data": {
          "bar": [
           {
            "error_x": {
             "color": "#2a3f5f"
            },
            "error_y": {
             "color": "#2a3f5f"
            },
            "marker": {
             "line": {
              "color": "white",
              "width": 0.5
             }
            },
            "type": "bar"
           }
          ],
          "barpolar": [
           {
            "marker": {
             "line": {
              "color": "white",
              "width": 0.5
             }
            },
            "type": "barpolar"
           }
          ],
          "carpet": [
           {
            "aaxis": {
             "endlinecolor": "#2a3f5f",
             "gridcolor": "#C8D4E3",
             "linecolor": "#C8D4E3",
             "minorgridcolor": "#C8D4E3",
             "startlinecolor": "#2a3f5f"
            },
            "baxis": {
             "endlinecolor": "#2a3f5f",
             "gridcolor": "#C8D4E3",
             "linecolor": "#C8D4E3",
             "minorgridcolor": "#C8D4E3",
             "startlinecolor": "#2a3f5f"
            },
            "type": "carpet"
           }
          ],
          "choropleth": [
           {
            "colorbar": {
             "outlinewidth": 0,
             "ticks": ""
            },
            "type": "choropleth"
           }
          ],
          "contour": [
           {
            "colorbar": {
             "outlinewidth": 0,
             "ticks": ""
            },
            "colorscale": [
             [
              0,
              "#0d0887"
             ],
             [
              0.1111111111111111,
              "#46039f"
             ],
             [
              0.2222222222222222,
              "#7201a8"
             ],
             [
              0.3333333333333333,
              "#9c179e"
             ],
             [
              0.4444444444444444,
              "#bd3786"
             ],
             [
              0.5555555555555556,
              "#d8576b"
             ],
             [
              0.6666666666666666,
              "#ed7953"
             ],
             [
              0.7777777777777778,
              "#fb9f3a"
             ],
             [
              0.8888888888888888,
              "#fdca26"
             ],
             [
              1,
              "#f0f921"
             ]
            ],
            "type": "contour"
           }
          ],
          "contourcarpet": [
           {
            "colorbar": {
             "outlinewidth": 0,
             "ticks": ""
            },
            "type": "contourcarpet"
           }
          ],
          "heatmap": [
           {
            "colorbar": {
             "outlinewidth": 0,
             "ticks": ""
            },
            "colorscale": [
             [
              0,
              "#0d0887"
             ],
             [
              0.1111111111111111,
              "#46039f"
             ],
             [
              0.2222222222222222,
              "#7201a8"
             ],
             [
              0.3333333333333333,
              "#9c179e"
             ],
             [
              0.4444444444444444,
              "#bd3786"
             ],
             [
              0.5555555555555556,
              "#d8576b"
             ],
             [
              0.6666666666666666,
              "#ed7953"
             ],
             [
              0.7777777777777778,
              "#fb9f3a"
             ],
             [
              0.8888888888888888,
              "#fdca26"
             ],
             [
              1,
              "#f0f921"
             ]
            ],
            "type": "heatmap"
           }
          ],
          "heatmapgl": [
           {
            "colorbar": {
             "outlinewidth": 0,
             "ticks": ""
            },
            "colorscale": [
             [
              0,
              "#0d0887"
             ],
             [
              0.1111111111111111,
              "#46039f"
             ],
             [
              0.2222222222222222,
              "#7201a8"
             ],
             [
              0.3333333333333333,
              "#9c179e"
             ],
             [
              0.4444444444444444,
              "#bd3786"
             ],
             [
              0.5555555555555556,
              "#d8576b"
             ],
             [
              0.6666666666666666,
              "#ed7953"
             ],
             [
              0.7777777777777778,
              "#fb9f3a"
             ],
             [
              0.8888888888888888,
              "#fdca26"
             ],
             [
              1,
              "#f0f921"
             ]
            ],
            "type": "heatmapgl"
           }
          ],
          "histogram": [
           {
            "marker": {
             "colorbar": {
              "outlinewidth": 0,
              "ticks": ""
             }
            },
            "type": "histogram"
           }
          ],
          "histogram2d": [
           {
            "colorbar": {
             "outlinewidth": 0,
             "ticks": ""
            },
            "colorscale": [
             [
              0,
              "#0d0887"
             ],
             [
              0.1111111111111111,
              "#46039f"
             ],
             [
              0.2222222222222222,
              "#7201a8"
             ],
             [
              0.3333333333333333,
              "#9c179e"
             ],
             [
              0.4444444444444444,
              "#bd3786"
             ],
             [
              0.5555555555555556,
              "#d8576b"
             ],
             [
              0.6666666666666666,
              "#ed7953"
             ],
             [
              0.7777777777777778,
              "#fb9f3a"
             ],
             [
              0.8888888888888888,
              "#fdca26"
             ],
             [
              1,
              "#f0f921"
             ]
            ],
            "type": "histogram2d"
           }
          ],
          "histogram2dcontour": [
           {
            "colorbar": {
             "outlinewidth": 0,
             "ticks": ""
            },
            "colorscale": [
             [
              0,
              "#0d0887"
             ],
             [
              0.1111111111111111,
              "#46039f"
             ],
             [
              0.2222222222222222,
              "#7201a8"
             ],
             [
              0.3333333333333333,
              "#9c179e"
             ],
             [
              0.4444444444444444,
              "#bd3786"
             ],
             [
              0.5555555555555556,
              "#d8576b"
             ],
             [
              0.6666666666666666,
              "#ed7953"
             ],
             [
              0.7777777777777778,
              "#fb9f3a"
             ],
             [
              0.8888888888888888,
              "#fdca26"
             ],
             [
              1,
              "#f0f921"
             ]
            ],
            "type": "histogram2dcontour"
           }
          ],
          "mesh3d": [
           {
            "colorbar": {
             "outlinewidth": 0,
             "ticks": ""
            },
            "type": "mesh3d"
           }
          ],
          "parcoords": [
           {
            "line": {
             "colorbar": {
              "outlinewidth": 0,
              "ticks": ""
             }
            },
            "type": "parcoords"
           }
          ],
          "pie": [
           {
            "automargin": true,
            "type": "pie"
           }
          ],
          "scatter": [
           {
            "marker": {
             "colorbar": {
              "outlinewidth": 0,
              "ticks": ""
             }
            },
            "type": "scatter"
           }
          ],
          "scatter3d": [
           {
            "line": {
             "colorbar": {
              "outlinewidth": 0,
              "ticks": ""
             }
            },
            "marker": {
             "colorbar": {
              "outlinewidth": 0,
              "ticks": ""
             }
            },
            "type": "scatter3d"
           }
          ],
          "scattercarpet": [
           {
            "marker": {
             "colorbar": {
              "outlinewidth": 0,
              "ticks": ""
             }
            },
            "type": "scattercarpet"
           }
          ],
          "scattergeo": [
           {
            "marker": {
             "colorbar": {
              "outlinewidth": 0,
              "ticks": ""
             }
            },
            "type": "scattergeo"
           }
          ],
          "scattergl": [
           {
            "marker": {
             "colorbar": {
              "outlinewidth": 0,
              "ticks": ""
             }
            },
            "type": "scattergl"
           }
          ],
          "scattermapbox": [
           {
            "marker": {
             "colorbar": {
              "outlinewidth": 0,
              "ticks": ""
             }
            },
            "type": "scattermapbox"
           }
          ],
          "scatterpolar": [
           {
            "marker": {
             "colorbar": {
              "outlinewidth": 0,
              "ticks": ""
             }
            },
            "type": "scatterpolar"
           }
          ],
          "scatterpolargl": [
           {
            "marker": {
             "colorbar": {
              "outlinewidth": 0,
              "ticks": ""
             }
            },
            "type": "scatterpolargl"
           }
          ],
          "scatterternary": [
           {
            "marker": {
             "colorbar": {
              "outlinewidth": 0,
              "ticks": ""
             }
            },
            "type": "scatterternary"
           }
          ],
          "surface": [
           {
            "colorbar": {
             "outlinewidth": 0,
             "ticks": ""
            },
            "colorscale": [
             [
              0,
              "#0d0887"
             ],
             [
              0.1111111111111111,
              "#46039f"
             ],
             [
              0.2222222222222222,
              "#7201a8"
             ],
             [
              0.3333333333333333,
              "#9c179e"
             ],
             [
              0.4444444444444444,
              "#bd3786"
             ],
             [
              0.5555555555555556,
              "#d8576b"
             ],
             [
              0.6666666666666666,
              "#ed7953"
             ],
             [
              0.7777777777777778,
              "#fb9f3a"
             ],
             [
              0.8888888888888888,
              "#fdca26"
             ],
             [
              1,
              "#f0f921"
             ]
            ],
            "type": "surface"
           }
          ],
          "table": [
           {
            "cells": {
             "fill": {
              "color": "#EBF0F8"
             },
             "line": {
              "color": "white"
             }
            },
            "header": {
             "fill": {
              "color": "#C8D4E3"
             },
             "line": {
              "color": "white"
             }
            },
            "type": "table"
           }
          ]
         },
         "layout": {
          "annotationdefaults": {
           "arrowcolor": "#2a3f5f",
           "arrowhead": 0,
           "arrowwidth": 1
          },
          "coloraxis": {
           "colorbar": {
            "outlinewidth": 0,
            "ticks": ""
           }
          },
          "colorscale": {
           "diverging": [
            [
             0,
             "#8e0152"
            ],
            [
             0.1,
             "#c51b7d"
            ],
            [
             0.2,
             "#de77ae"
            ],
            [
             0.3,
             "#f1b6da"
            ],
            [
             0.4,
             "#fde0ef"
            ],
            [
             0.5,
             "#f7f7f7"
            ],
            [
             0.6,
             "#e6f5d0"
            ],
            [
             0.7,
             "#b8e186"
            ],
            [
             0.8,
             "#7fbc41"
            ],
            [
             0.9,
             "#4d9221"
            ],
            [
             1,
             "#276419"
            ]
           ],
           "sequential": [
            [
             0,
             "#0d0887"
            ],
            [
             0.1111111111111111,
             "#46039f"
            ],
            [
             0.2222222222222222,
             "#7201a8"
            ],
            [
             0.3333333333333333,
             "#9c179e"
            ],
            [
             0.4444444444444444,
             "#bd3786"
            ],
            [
             0.5555555555555556,
             "#d8576b"
            ],
            [
             0.6666666666666666,
             "#ed7953"
            ],
            [
             0.7777777777777778,
             "#fb9f3a"
            ],
            [
             0.8888888888888888,
             "#fdca26"
            ],
            [
             1,
             "#f0f921"
            ]
           ],
           "sequentialminus": [
            [
             0,
             "#0d0887"
            ],
            [
             0.1111111111111111,
             "#46039f"
            ],
            [
             0.2222222222222222,
             "#7201a8"
            ],
            [
             0.3333333333333333,
             "#9c179e"
            ],
            [
             0.4444444444444444,
             "#bd3786"
            ],
            [
             0.5555555555555556,
             "#d8576b"
            ],
            [
             0.6666666666666666,
             "#ed7953"
            ],
            [
             0.7777777777777778,
             "#fb9f3a"
            ],
            [
             0.8888888888888888,
             "#fdca26"
            ],
            [
             1,
             "#f0f921"
            ]
           ]
          },
          "colorway": [
           "#636efa",
           "#EF553B",
           "#00cc96",
           "#ab63fa",
           "#FFA15A",
           "#19d3f3",
           "#FF6692",
           "#B6E880",
           "#FF97FF",
           "#FECB52"
          ],
          "font": {
           "color": "#2a3f5f"
          },
          "geo": {
           "bgcolor": "white",
           "lakecolor": "white",
           "landcolor": "white",
           "showlakes": true,
           "showland": true,
           "subunitcolor": "#C8D4E3"
          },
          "hoverlabel": {
           "align": "left"
          },
          "hovermode": "closest",
          "mapbox": {
           "style": "light"
          },
          "paper_bgcolor": "white",
          "plot_bgcolor": "white",
          "polar": {
           "angularaxis": {
            "gridcolor": "#EBF0F8",
            "linecolor": "#EBF0F8",
            "ticks": ""
           },
           "bgcolor": "white",
           "radialaxis": {
            "gridcolor": "#EBF0F8",
            "linecolor": "#EBF0F8",
            "ticks": ""
           }
          },
          "scene": {
           "xaxis": {
            "backgroundcolor": "white",
            "gridcolor": "#DFE8F3",
            "gridwidth": 2,
            "linecolor": "#EBF0F8",
            "showbackground": true,
            "ticks": "",
            "zerolinecolor": "#EBF0F8"
           },
           "yaxis": {
            "backgroundcolor": "white",
            "gridcolor": "#DFE8F3",
            "gridwidth": 2,
            "linecolor": "#EBF0F8",
            "showbackground": true,
            "ticks": "",
            "zerolinecolor": "#EBF0F8"
           },
           "zaxis": {
            "backgroundcolor": "white",
            "gridcolor": "#DFE8F3",
            "gridwidth": 2,
            "linecolor": "#EBF0F8",
            "showbackground": true,
            "ticks": "",
            "zerolinecolor": "#EBF0F8"
           }
          },
          "shapedefaults": {
           "line": {
            "color": "#2a3f5f"
           }
          },
          "ternary": {
           "aaxis": {
            "gridcolor": "#DFE8F3",
            "linecolor": "#A2B1C6",
            "ticks": ""
           },
           "baxis": {
            "gridcolor": "#DFE8F3",
            "linecolor": "#A2B1C6",
            "ticks": ""
           },
           "bgcolor": "white",
           "caxis": {
            "gridcolor": "#DFE8F3",
            "linecolor": "#A2B1C6",
            "ticks": ""
           }
          },
          "title": {
           "x": 0.05
          },
          "xaxis": {
           "automargin": true,
           "gridcolor": "#EBF0F8",
           "linecolor": "#EBF0F8",
           "ticks": "",
           "title": {
            "standoff": 15
           },
           "zerolinecolor": "#EBF0F8",
           "zerolinewidth": 2
          },
          "yaxis": {
           "automargin": true,
           "gridcolor": "#EBF0F8",
           "linecolor": "#EBF0F8",
           "ticks": "",
           "title": {
            "standoff": 15
           },
           "zerolinecolor": "#EBF0F8",
           "zerolinewidth": 2
          }
         }
        },
        "title": {
         "text": "Veh1 Heading and Rotation"
        },
        "width": 900,
        "xaxis": {
         "anchor": "y",
         "domain": [
          0,
          1
         ],
         "linecolor": "black",
         "linewidth": 1,
         "matches": "x2",
         "showgrid": false,
         "showline": true,
         "showticklabels": false,
         "tickcolor": "black",
         "ticklen": 10,
         "ticks": "outside",
         "tickwidth": 1,
         "title": {
          "text": ""
         },
         "zeroline": false
        },
        "xaxis2": {
         "anchor": "y2",
         "domain": [
          0,
          1
         ],
         "linecolor": "black",
         "linewidth": 1,
         "showgrid": false,
         "showline": true,
         "tickcolor": "black",
         "ticklen": 10,
         "ticks": "outside",
         "tickwidth": 1,
         "title": {
          "text": "Time (s)"
         },
         "zeroline": false
        },
        "yaxis": {
         "anchor": "x",
         "domain": [
          0.5349999999999999,
          0.9999999999999999
         ],
         "linecolor": "black",
         "linewidth": 1,
         "showgrid": false,
         "showline": true,
         "tickcolor": "black",
         "ticklen": 10,
         "ticks": "outside",
         "tickwidth": 1,
         "title": {
          "text": "Heading (deg)"
         },
         "zeroline": false
        },
        "yaxis2": {
         "anchor": "x2",
         "domain": [
          0,
          0.46499999999999997
         ],
         "linecolor": "black",
         "linewidth": 1,
         "showgrid": false,
         "showline": true,
         "tickcolor": "black",
         "ticklen": 10,
         "ticks": "outside",
         "tickwidth": 1,
         "title": {
          "text": "Omega (deg/s), Alpha (deg/s/s)"
         },
         "zeroline": false
        }
       }
      },
      "text/html": [
       "<div>\n",
       "        \n",
       "        \n",
       "            <div id=\"0d7add07-5a66-42e8-998e-729a190fee5c\" class=\"plotly-graph-div\" style=\"height:500px; width:900px;\"></div>\n",
       "            <script type=\"text/javascript\">\n",
       "                require([\"plotly\"], function(Plotly) {\n",
       "                    window.PLOTLYENV=window.PLOTLYENV || {};\n",
       "                    \n",
       "                if (document.getElementById(\"0d7add07-5a66-42e8-998e-729a190fee5c\")) {\n",
       "                    Plotly.newPlot(\n",
       "                        '0d7add07-5a66-42e8-998e-729a190fee5c',\n",
       "                        [{\"line\": {\"color\": \"rgb(0, 0, 0)\", \"width\": 2}, \"mode\": \"lines\", \"name\": \"heading\", \"type\": \"scatter\", \"x\": [0.0, 0.1, 0.2, 0.3, 0.4, 0.5, 0.6, 0.7, 0.8, 0.9, 1.0, 1.1, 1.2, 1.3, 1.4, 1.5, 1.6, 1.7, 1.8, 1.9, 2.0, 2.1, 2.2, 2.3, 2.4, 2.5, 2.6, 2.7, 2.8, 2.9, 3.0, 3.1, 3.2, 3.3, 3.4, 3.5, 3.6, 3.7, 3.8, 3.9, 4.0, 4.1, 4.2, 4.3, 4.4, 4.5, 4.6, 4.7, 4.8, 4.9, 5.0, 5.1, 5.2, 5.3, 5.4, 5.5, 5.6, 5.7, 5.8, 5.9, 6.0, 6.1, 6.2, 6.3, 6.4, 6.5, 6.6, 6.7, 6.8, 6.9, 7.0, 7.1, 7.2, 7.3, 7.4, 7.5, 7.6, 7.7, 7.8, 7.9, 8.0, 8.1, 8.2, 8.3, 8.4, 8.5, 8.6, 8.7, 8.8, 8.9, 9.0, 9.1, 9.2, 9.3, 9.4, 9.5, 9.6, 9.7, 9.8, 9.9, 10.0, 10.1, 10.2, 10.3, 10.4, 10.5, 10.6, 10.7, 10.8, 10.9], \"xaxis\": \"x\", \"y\": [0.0, 0.0, 0.0, 0.0, 0.0, 0.0, 0.0, 0.0, 0.0, 0.0, 0.0, -0.0728916891642895, -0.4237646905090495, -1.2647519272466579, -2.6939176669289795, -4.718393419730979, -7.311661309248314, -10.446546138042152, -14.10315572203435, -18.26560735460551, -22.911332056977837, -27.96333847760388, -33.25059785046273, -38.574958432847694, -43.81310258489834, -48.93775423220646, -53.97212255317876, -58.93942338257074, -63.8435835721226, -68.6771081391991, -73.43506561598689, -78.12088513320654, -82.7430717076626, -87.30942287071716, -91.82425512343362, -96.28931208486071, -100.70591715198498, -105.07614339909547, -109.4025929317018, -113.68766117626592, -117.93315642666664, -122.14044615379107, -126.31078609101354, -130.44549020127295, -134.54588391209282, -138.61318851165507, -142.6484750400451, -146.65270401954268, -150.62678532866332, -154.57160295389244, -158.4880032464989, -162.37677729690782, -166.23865954621522, -170.07434039932093, -173.884478608822, -177.66970505893187, -181.43062059380432, -185.1677946180705, -188.88176748098974, -192.57305471976406, -196.2421501162378, -199.8895267106686, -203.51563704626977, -207.12091401325665, -210.70577243484163, -214.27061067089625, -217.81581169250273, -221.34174372526093, -224.84876086781605, -228.33720389321064, -231.8074011207551, -235.25966916385394, -238.69431350563949, -242.11162899827386, -245.51190038040411, -248.89540281509616, -252.26240239323207, -255.61315656976853, -258.94791455047806, -262.26691766330646, -265.57039972615775, -268.85858739834254, -272.13170050214705, -275.3899523162931, -278.6335498527116, -281.862694123735, -285.07758039775575, -288.2783984387056, -291.4653327289808, -294.6385626796758, -297.79826283157195, -300.94460304717967, -304.0777486924948, -307.1978608082242, -310.30509627191833, -313.39960795263613, -316.4815448586829, -319.5510522781711, -322.6082719123965, -325.65334200267046, -328.6863974514109, -331.7075699379157, -334.71698802888113, -337.71477728376686, -340.70106035535383, -343.6759570859299, -346.63958459939505, -349.59205738941483, -352.5334874037495, -355.4639841249757], \"yaxis\": \"y\"}, {\"line\": {\"color\": \"rgb(0, 255, 0)\", \"width\": 2}, \"mode\": \"lines\", \"name\": \"omega\", \"type\": \"scatter\", \"x\": [0.0, 0.1, 0.2, 0.3, 0.4, 0.5, 0.6, 0.7, 0.8, 0.9, 1.0, 1.1, 1.2, 1.3, 1.4, 1.5, 1.6, 1.7, 1.8, 1.9, 2.0, 2.1, 2.2, 2.3, 2.4, 2.5, 2.6, 2.7, 2.8, 2.9, 3.0, 3.1, 3.2, 3.3, 3.4, 3.5, 3.6, 3.7, 3.8, 3.9, 4.0, 4.1, 4.2, 4.3, 4.4, 4.5, 4.6, 4.7, 4.8, 4.9, 5.0, 5.1, 5.2, 5.3, 5.4, 5.5, 5.6, 5.7, 5.8, 5.9, 6.0, 6.1, 6.2, 6.3, 6.4, 6.5, 6.6, 6.7, 6.8, 6.9, 7.0, 7.1, 7.2, 7.3, 7.4, 7.5, 7.6, 7.7, 7.8, 7.9, 8.0, 8.1, 8.2, 8.3, 8.4, 8.5, 8.6, 8.7, 8.8, 8.9, 9.0, 9.1, 9.2, 9.3, 9.4, 9.5, 9.6, 9.7, 9.8, 9.9, 10.0, 10.1, 10.2, 10.3, 10.4, 10.5, 10.6, 10.7, 10.8, 10.9], \"xaxis\": \"x2\", \"y\": [0.0, 0.0, 0.0, 0.0, 0.0, 0.0, 0.0, 0.0, 0.0, 0.0, 0.0, -1.45783378328579, -5.559626243609411, -11.260118491142755, -17.323196302503675, -23.166318753536316, -28.699039036810376, -33.998657539066365, -39.13353414077763, -44.11549851064557, -48.79899553680092, -52.24113287571988, -53.504054581457126, -52.98315706624226, -51.779725974770564, -50.71330697139184, -49.97405944805422, -49.371957139785444, -48.71124665125162, -47.95924469027851, -47.19990484547697, -46.51648549891615, -45.92724599020489, -45.39977727088622, -44.896867783443426, -44.40427144509859, -43.927829897386665, -43.47669504482297, -43.05229560730391, -42.64906928397839, -42.260835724036106, -41.88495881845275, -41.52183992599664, -41.17224227919146, -40.835631937206216, -40.51046005403885, -40.19527051376183, -39.889309076190024, -39.59231710622222, -39.30403539836075, -39.02397045376844, -38.75151055440969, -38.486134431738236, -38.22748263037591, -37.975281559646284, -37.72924744255032, -37.48906325489911, -37.2544172304237, -37.02504002796097, -36.800704747525344, -36.581203181949846, -36.36632870666624, -36.1558780053574, -35.949661334380586, -35.747507097318675, -35.54925762377314, -35.35476280835641, -35.163877846807964, -34.97646500429436, -34.79239550359744, -34.611549047291646, -34.433811814685924, -34.25907502102522, -34.08723483166224, -33.918192810943765, -33.75185588289594, -33.58813567982186, -33.426947850908, -33.268211763282984, -33.111850493285594, -32.9577907637397, -32.80596267995621, -32.6562993961344, -32.50873688678561, -32.3632138415853, -32.21967157888282, -32.07805390153218, -31.938306917464462, -31.80037888803852, -31.664220125861004, -31.52978291206203, -31.397021400091827, -31.26589150621092, -31.13635080837657, -31.008358465506195, -30.881875148849467, -30.756862972086143, -30.633285417676937, -30.511107266832166, -30.390294538647325, -30.270814436161423, -30.152635293933855, -30.03572652537456, -29.92005857234026, -29.805602859398764, -29.692331752123568, -29.580218517178547, -29.46923728321821, -29.359363003475668, -29.250571421046065], \"yaxis\": \"y2\"}, {\"line\": {\"color\": \"rgb(204, 0, 0)\", \"width\": 2}, \"mode\": \"lines\", \"name\": \"alpha\", \"type\": \"scatter\", \"x\": [0.0, 0.1, 0.2, 0.3, 0.4, 0.5, 0.6, 0.7, 0.8, 0.9, 1.0, 1.1, 1.2, 1.3, 1.4, 1.5, 1.6, 1.7, 1.8, 1.9, 2.0, 2.1, 2.2, 2.3, 2.4, 2.5, 2.6, 2.7, 2.8, 2.9, 3.0, 3.1, 3.2, 3.3, 3.4, 3.5, 3.6, 3.7, 3.8, 3.9, 4.0, 4.1, 4.2, 4.3, 4.4, 4.5, 4.6, 4.7, 4.8, 4.9, 5.0, 5.1, 5.2, 5.3, 5.4, 5.5, 5.6, 5.7, 5.8, 5.9, 6.0, 6.1, 6.2, 6.3, 6.4, 6.5, 6.6, 6.7, 6.8, 6.9, 7.0, 7.1, 7.2, 7.3, 7.4, 7.5, 7.6, 7.7, 7.8, 7.9, 8.0, 8.1, 8.2, 8.3, 8.4, 8.5, 8.6, 8.7, 8.8, 8.9, 9.0, 9.1, 9.2, 9.3, 9.4, 9.5, 9.6, 9.7, 9.8, 9.9, 10.0, 10.1, 10.2, 10.3, 10.4, 10.5, 10.6, 10.7, 10.8, 10.9], \"xaxis\": \"x2\", \"y\": [0.0, 0.0, 0.0, 0.0, 0.0, 0.0, 0.0, 0.0, 0.0, 0.0, 0.0, -29.156675665715795, -52.87917354075662, -61.13067140991028, -60.130884817308115, -56.73156420334462, -53.92284146213673, -52.06952858298299, -50.62800345124209, -49.01128394611693, -44.65865657699006, -24.18409020138903, -1.0743439133560044, 11.492294217653347, 12.576327611780549, 8.75205245579402, 6.03289801095842, 6.0091481544169865, 7.205061616259594, 7.834977603202617, 7.351819292827979, 6.3165676383886655, 5.468222535836475, 5.081151850536977, 4.977037898318829, 4.874888868577857, 4.6539420856606455, 4.368754965613322, 4.119233784767797, 3.945292681742588, 3.819378517103018, 3.6981595945641677, 3.5642182545581673, 3.4277346815452847, 3.3044721581595597, 3.1989655051878416, 3.104825300352631, 3.0144034510834357, 2.9254359482727295, 2.840198208956575, 2.761100682889716, 2.688097304285276, 2.6194251491437983, 2.5536108781027913, 2.4904105364897093, 2.4302718054295736, 2.373411947594551, 2.319508541913659, 2.268035507340966, 2.2186701013714942, 2.171361210138553, 2.126128295533661, 2.082885730642916, 2.041447688893418, 2.001637052344755, 1.963352418566008, 1.9265438897683993, 1.891155341200707, 1.8571015090711696, 1.8242885048674282, 1.7926406212483887, 1.7621040308659615, 1.7326318423483094, 1.704171944911093, 1.6766684694585627, 1.6500700914979638, 1.6243339699835373, 1.5994226082936596, 1.575299144206666, 1.5519262557410785, 1.5292683351768686, 1.507293340492836, 1.485972335943427, 1.465277851032334, 1.445183052974033, 1.4256622010755178, 1.4066913459373684, 1.3882483354169128, 1.3703122531019518, 1.3528629904484282, 1.3358812855311675, 1.3193489538727745, 1.303248923745382, 1.2875650329415977, 1.2722818244659762, 1.2573845086685846, 1.2428590265979076, 1.2286920615861578, 1.21487095530933, 1.201383608387401, 1.1882184413306505, 1.1753644032206365, 1.162810967965319, 1.1505480927207694, 1.13856616610909, 1.1268559793948683, 1.1154087195054703, 1.1042159597013634, 1.0932696351494755, 1.0825620134425222], \"yaxis\": \"y2\"}],\n",
       "                        {\"autosize\": false, \"font\": {\"color\": \"black\", \"family\": \"Arial\", \"size\": 14}, \"height\": 500, \"legend\": {\"orientation\": \"h\", \"x\": 0.01, \"xanchor\": \"left\", \"y\": 1.1, \"yanchor\": \"top\"}, \"template\": {\"data\": {\"bar\": [{\"error_x\": {\"color\": \"#2a3f5f\"}, \"error_y\": {\"color\": \"#2a3f5f\"}, \"marker\": {\"line\": {\"color\": \"white\", \"width\": 0.5}}, \"type\": \"bar\"}], \"barpolar\": [{\"marker\": {\"line\": {\"color\": \"white\", \"width\": 0.5}}, \"type\": \"barpolar\"}], \"carpet\": [{\"aaxis\": {\"endlinecolor\": \"#2a3f5f\", \"gridcolor\": \"#C8D4E3\", \"linecolor\": \"#C8D4E3\", \"minorgridcolor\": \"#C8D4E3\", \"startlinecolor\": \"#2a3f5f\"}, \"baxis\": {\"endlinecolor\": \"#2a3f5f\", \"gridcolor\": \"#C8D4E3\", \"linecolor\": \"#C8D4E3\", \"minorgridcolor\": \"#C8D4E3\", \"startlinecolor\": \"#2a3f5f\"}, \"type\": \"carpet\"}], \"choropleth\": [{\"colorbar\": {\"outlinewidth\": 0, \"ticks\": \"\"}, \"type\": \"choropleth\"}], \"contour\": [{\"colorbar\": {\"outlinewidth\": 0, \"ticks\": \"\"}, \"colorscale\": [[0.0, \"#0d0887\"], [0.1111111111111111, \"#46039f\"], [0.2222222222222222, \"#7201a8\"], [0.3333333333333333, \"#9c179e\"], [0.4444444444444444, \"#bd3786\"], [0.5555555555555556, \"#d8576b\"], [0.6666666666666666, \"#ed7953\"], [0.7777777777777778, \"#fb9f3a\"], [0.8888888888888888, \"#fdca26\"], [1.0, \"#f0f921\"]], \"type\": \"contour\"}], \"contourcarpet\": [{\"colorbar\": {\"outlinewidth\": 0, \"ticks\": \"\"}, \"type\": \"contourcarpet\"}], \"heatmap\": [{\"colorbar\": {\"outlinewidth\": 0, \"ticks\": \"\"}, \"colorscale\": [[0.0, \"#0d0887\"], [0.1111111111111111, \"#46039f\"], [0.2222222222222222, \"#7201a8\"], [0.3333333333333333, \"#9c179e\"], [0.4444444444444444, \"#bd3786\"], [0.5555555555555556, \"#d8576b\"], [0.6666666666666666, \"#ed7953\"], [0.7777777777777778, \"#fb9f3a\"], [0.8888888888888888, \"#fdca26\"], [1.0, \"#f0f921\"]], \"type\": \"heatmap\"}], \"heatmapgl\": [{\"colorbar\": {\"outlinewidth\": 0, \"ticks\": \"\"}, \"colorscale\": [[0.0, \"#0d0887\"], [0.1111111111111111, \"#46039f\"], [0.2222222222222222, \"#7201a8\"], [0.3333333333333333, \"#9c179e\"], [0.4444444444444444, \"#bd3786\"], [0.5555555555555556, \"#d8576b\"], [0.6666666666666666, \"#ed7953\"], [0.7777777777777778, \"#fb9f3a\"], [0.8888888888888888, \"#fdca26\"], [1.0, \"#f0f921\"]], \"type\": \"heatmapgl\"}], \"histogram\": [{\"marker\": {\"colorbar\": {\"outlinewidth\": 0, \"ticks\": \"\"}}, \"type\": \"histogram\"}], \"histogram2d\": [{\"colorbar\": {\"outlinewidth\": 0, \"ticks\": \"\"}, \"colorscale\": [[0.0, \"#0d0887\"], [0.1111111111111111, \"#46039f\"], [0.2222222222222222, \"#7201a8\"], [0.3333333333333333, \"#9c179e\"], [0.4444444444444444, \"#bd3786\"], [0.5555555555555556, \"#d8576b\"], [0.6666666666666666, \"#ed7953\"], [0.7777777777777778, \"#fb9f3a\"], [0.8888888888888888, \"#fdca26\"], [1.0, \"#f0f921\"]], \"type\": \"histogram2d\"}], \"histogram2dcontour\": [{\"colorbar\": {\"outlinewidth\": 0, \"ticks\": \"\"}, \"colorscale\": [[0.0, \"#0d0887\"], [0.1111111111111111, \"#46039f\"], [0.2222222222222222, \"#7201a8\"], [0.3333333333333333, \"#9c179e\"], [0.4444444444444444, \"#bd3786\"], [0.5555555555555556, \"#d8576b\"], [0.6666666666666666, \"#ed7953\"], [0.7777777777777778, \"#fb9f3a\"], [0.8888888888888888, \"#fdca26\"], [1.0, \"#f0f921\"]], \"type\": \"histogram2dcontour\"}], \"mesh3d\": [{\"colorbar\": {\"outlinewidth\": 0, \"ticks\": \"\"}, \"type\": \"mesh3d\"}], \"parcoords\": [{\"line\": {\"colorbar\": {\"outlinewidth\": 0, \"ticks\": \"\"}}, \"type\": \"parcoords\"}], \"pie\": [{\"automargin\": true, \"type\": \"pie\"}], \"scatter\": [{\"marker\": {\"colorbar\": {\"outlinewidth\": 0, \"ticks\": \"\"}}, \"type\": \"scatter\"}], \"scatter3d\": [{\"line\": {\"colorbar\": {\"outlinewidth\": 0, \"ticks\": \"\"}}, \"marker\": {\"colorbar\": {\"outlinewidth\": 0, \"ticks\": \"\"}}, \"type\": \"scatter3d\"}], \"scattercarpet\": [{\"marker\": {\"colorbar\": {\"outlinewidth\": 0, \"ticks\": \"\"}}, \"type\": \"scattercarpet\"}], \"scattergeo\": [{\"marker\": {\"colorbar\": {\"outlinewidth\": 0, \"ticks\": \"\"}}, \"type\": \"scattergeo\"}], \"scattergl\": [{\"marker\": {\"colorbar\": {\"outlinewidth\": 0, \"ticks\": \"\"}}, \"type\": \"scattergl\"}], \"scattermapbox\": [{\"marker\": {\"colorbar\": {\"outlinewidth\": 0, \"ticks\": \"\"}}, \"type\": \"scattermapbox\"}], \"scatterpolar\": [{\"marker\": {\"colorbar\": {\"outlinewidth\": 0, \"ticks\": \"\"}}, \"type\": \"scatterpolar\"}], \"scatterpolargl\": [{\"marker\": {\"colorbar\": {\"outlinewidth\": 0, \"ticks\": \"\"}}, \"type\": \"scatterpolargl\"}], \"scatterternary\": [{\"marker\": {\"colorbar\": {\"outlinewidth\": 0, \"ticks\": \"\"}}, \"type\": \"scatterternary\"}], \"surface\": [{\"colorbar\": {\"outlinewidth\": 0, \"ticks\": \"\"}, \"colorscale\": [[0.0, \"#0d0887\"], [0.1111111111111111, \"#46039f\"], [0.2222222222222222, \"#7201a8\"], [0.3333333333333333, \"#9c179e\"], [0.4444444444444444, \"#bd3786\"], [0.5555555555555556, \"#d8576b\"], [0.6666666666666666, \"#ed7953\"], [0.7777777777777778, \"#fb9f3a\"], [0.8888888888888888, \"#fdca26\"], [1.0, \"#f0f921\"]], \"type\": \"surface\"}], \"table\": [{\"cells\": {\"fill\": {\"color\": \"#EBF0F8\"}, \"line\": {\"color\": \"white\"}}, \"header\": {\"fill\": {\"color\": \"#C8D4E3\"}, \"line\": {\"color\": \"white\"}}, \"type\": \"table\"}]}, \"layout\": {\"annotationdefaults\": {\"arrowcolor\": \"#2a3f5f\", \"arrowhead\": 0, \"arrowwidth\": 1}, \"coloraxis\": {\"colorbar\": {\"outlinewidth\": 0, \"ticks\": \"\"}}, \"colorscale\": {\"diverging\": [[0, \"#8e0152\"], [0.1, \"#c51b7d\"], [0.2, \"#de77ae\"], [0.3, \"#f1b6da\"], [0.4, \"#fde0ef\"], [0.5, \"#f7f7f7\"], [0.6, \"#e6f5d0\"], [0.7, \"#b8e186\"], [0.8, \"#7fbc41\"], [0.9, \"#4d9221\"], [1, \"#276419\"]], \"sequential\": [[0.0, \"#0d0887\"], [0.1111111111111111, \"#46039f\"], [0.2222222222222222, \"#7201a8\"], [0.3333333333333333, \"#9c179e\"], [0.4444444444444444, \"#bd3786\"], [0.5555555555555556, \"#d8576b\"], [0.6666666666666666, \"#ed7953\"], [0.7777777777777778, \"#fb9f3a\"], [0.8888888888888888, \"#fdca26\"], [1.0, \"#f0f921\"]], \"sequentialminus\": [[0.0, \"#0d0887\"], [0.1111111111111111, \"#46039f\"], [0.2222222222222222, \"#7201a8\"], [0.3333333333333333, \"#9c179e\"], [0.4444444444444444, \"#bd3786\"], [0.5555555555555556, \"#d8576b\"], [0.6666666666666666, \"#ed7953\"], [0.7777777777777778, \"#fb9f3a\"], [0.8888888888888888, \"#fdca26\"], [1.0, \"#f0f921\"]]}, \"colorway\": [\"#636efa\", \"#EF553B\", \"#00cc96\", \"#ab63fa\", \"#FFA15A\", \"#19d3f3\", \"#FF6692\", \"#B6E880\", \"#FF97FF\", \"#FECB52\"], \"font\": {\"color\": \"#2a3f5f\"}, \"geo\": {\"bgcolor\": \"white\", \"lakecolor\": \"white\", \"landcolor\": \"white\", \"showlakes\": true, \"showland\": true, \"subunitcolor\": \"#C8D4E3\"}, \"hoverlabel\": {\"align\": \"left\"}, \"hovermode\": \"closest\", \"mapbox\": {\"style\": \"light\"}, \"paper_bgcolor\": \"white\", \"plot_bgcolor\": \"white\", \"polar\": {\"angularaxis\": {\"gridcolor\": \"#EBF0F8\", \"linecolor\": \"#EBF0F8\", \"ticks\": \"\"}, \"bgcolor\": \"white\", \"radialaxis\": {\"gridcolor\": \"#EBF0F8\", \"linecolor\": \"#EBF0F8\", \"ticks\": \"\"}}, \"scene\": {\"xaxis\": {\"backgroundcolor\": \"white\", \"gridcolor\": \"#DFE8F3\", \"gridwidth\": 2, \"linecolor\": \"#EBF0F8\", \"showbackground\": true, \"ticks\": \"\", \"zerolinecolor\": \"#EBF0F8\"}, \"yaxis\": {\"backgroundcolor\": \"white\", \"gridcolor\": \"#DFE8F3\", \"gridwidth\": 2, \"linecolor\": \"#EBF0F8\", \"showbackground\": true, \"ticks\": \"\", \"zerolinecolor\": \"#EBF0F8\"}, \"zaxis\": {\"backgroundcolor\": \"white\", \"gridcolor\": \"#DFE8F3\", \"gridwidth\": 2, \"linecolor\": \"#EBF0F8\", \"showbackground\": true, \"ticks\": \"\", \"zerolinecolor\": \"#EBF0F8\"}}, \"shapedefaults\": {\"line\": {\"color\": \"#2a3f5f\"}}, \"ternary\": {\"aaxis\": {\"gridcolor\": \"#DFE8F3\", \"linecolor\": \"#A2B1C6\", \"ticks\": \"\"}, \"baxis\": {\"gridcolor\": \"#DFE8F3\", \"linecolor\": \"#A2B1C6\", \"ticks\": \"\"}, \"bgcolor\": \"white\", \"caxis\": {\"gridcolor\": \"#DFE8F3\", \"linecolor\": \"#A2B1C6\", \"ticks\": \"\"}}, \"title\": {\"x\": 0.05}, \"xaxis\": {\"automargin\": true, \"gridcolor\": \"#EBF0F8\", \"linecolor\": \"#EBF0F8\", \"ticks\": \"\", \"title\": {\"standoff\": 15}, \"zerolinecolor\": \"#EBF0F8\", \"zerolinewidth\": 2}, \"yaxis\": {\"automargin\": true, \"gridcolor\": \"#EBF0F8\", \"linecolor\": \"#EBF0F8\", \"ticks\": \"\", \"title\": {\"standoff\": 15}, \"zerolinecolor\": \"#EBF0F8\", \"zerolinewidth\": 2}}}, \"title\": {\"text\": \"Veh1 Heading and Rotation\"}, \"width\": 900, \"xaxis\": {\"anchor\": \"y\", \"domain\": [0.0, 1.0], \"linecolor\": \"black\", \"linewidth\": 1, \"matches\": \"x2\", \"showgrid\": false, \"showline\": true, \"showticklabels\": false, \"tickcolor\": \"black\", \"ticklen\": 10, \"ticks\": \"outside\", \"tickwidth\": 1, \"title\": {\"text\": \"\"}, \"zeroline\": false}, \"xaxis2\": {\"anchor\": \"y2\", \"domain\": [0.0, 1.0], \"linecolor\": \"black\", \"linewidth\": 1, \"showgrid\": false, \"showline\": true, \"tickcolor\": \"black\", \"ticklen\": 10, \"ticks\": \"outside\", \"tickwidth\": 1, \"title\": {\"text\": \"Time (s)\"}, \"zeroline\": false}, \"yaxis\": {\"anchor\": \"x\", \"domain\": [0.5349999999999999, 0.9999999999999999], \"linecolor\": \"black\", \"linewidth\": 1, \"showgrid\": false, \"showline\": true, \"tickcolor\": \"black\", \"ticklen\": 10, \"ticks\": \"outside\", \"tickwidth\": 1, \"title\": {\"text\": \"Heading (deg)\"}, \"zeroline\": false}, \"yaxis2\": {\"anchor\": \"x2\", \"domain\": [0.0, 0.46499999999999997], \"linecolor\": \"black\", \"linewidth\": 1, \"showgrid\": false, \"showline\": true, \"tickcolor\": \"black\", \"ticklen\": 10, \"ticks\": \"outside\", \"tickwidth\": 1, \"title\": {\"text\": \"Omega (deg/s), Alpha (deg/s/s)\"}, \"zeroline\": false}},\n",
       "                        {\"responsive\": true}\n",
       "                    ).then(function(){\n",
       "                            \n",
       "var gd = document.getElementById('0d7add07-5a66-42e8-998e-729a190fee5c');\n",
       "var x = new MutationObserver(function (mutations, observer) {{\n",
       "        var display = window.getComputedStyle(gd).display;\n",
       "        if (!display || display === 'none') {{\n",
       "            console.log([gd, 'removed!']);\n",
       "            Plotly.purge(gd);\n",
       "            observer.disconnect();\n",
       "        }}\n",
       "}});\n",
       "\n",
       "// Listen for the removal of the full notebook cells\n",
       "var notebookContainer = gd.closest('#notebook-container');\n",
       "if (notebookContainer) {{\n",
       "    x.observe(notebookContainer, {childList: true});\n",
       "}}\n",
       "\n",
       "// Listen for the clearing of the current output cell\n",
       "var outputEl = gd.closest('.output');\n",
       "if (outputEl) {{\n",
       "    x.observe(outputEl, {childList: true});\n",
       "}}\n",
       "\n",
       "                        })\n",
       "                };\n",
       "                });\n",
       "            </script>\n",
       "        </div>"
      ]
     },
     "metadata": {},
     "output_type": "display_data"
    }
   ],
   "source": [
    "run.plot_model()"
   ]
  },
  {
   "cell_type": "code",
   "execution_count": 65,
   "metadata": {},
   "outputs": [
    {
     "data": {
      "text/plain": [
       "<AxesSubplot:xlabel='t'>"
      ]
     },
     "execution_count": 65,
     "metadata": {},
     "output_type": "execute_result"
    },
    {
     "data": {
      "image/png": "[encoded data removed]",
      "text/plain": [
       "<Figure size 432x288 with 1 Axes>"
      ]
     },
     "metadata": {
      "needs_background": "light"
     },
     "output_type": "display_data"
    }
   ],
   "source": [
    "run.veh.model.plot(x = 't', y = 'ay')"
   ]
  },
  {
   "cell_type": "markdown",
   "metadata": {},
   "source": [
    "### Plot Vehicle Motion"
   ]
  },
  {
   "cell_type": "code",
   "execution_count": 66,
   "metadata": {},
   "outputs": [
    {
     "data": {
      "text/plain": [
       "110"
      ]
     },
     "execution_count": 66,
     "metadata": {},
     "output_type": "execute_result"
    }
   ],
   "source": [
    "len(run.veh.model.t)"
   ]
  },
  {
   "cell_type": "code",
   "execution_count": 67,
   "metadata": {},
   "outputs": [
    {
     "data": {
      "text/plain": [
       "10.9"
      ]
     },
     "execution_count": 67,
     "metadata": {},
     "output_type": "execute_result"
    }
   ],
   "source": [
    "run.veh.model.t.iloc[-1]"
   ]
  },
  {
   "cell_type": "code",
   "execution_count": 68,
   "metadata": {},
   "outputs": [
    {
     "data": {
      "application/vnd.plotly.v1+json": {
       "config": {
        "plotlyServerURL": "https://plot.ly"
       },
       "data": [
        {
         "line": {
          "color": "rgb(0, 0, 0)",
          "width": 2
         },
         "mode": "lines",
         "name": "body",
         "type": "scatter",
         "x": [
          41.87661504304246,
          41.41528157115755,
          25.880758078094388,
          26.3420915499793,
          41.87661504304246
         ],
         "y": [
          14.920296409868115,
          20.73535867999871,
          19.502939262249015,
          13.687876992118419,
          14.920296409868115
         ]
        },
        {
         "line": {
          "color": "rgb(0, 0, 255)",
          "width": 1
         },
         "mode": "lines",
         "name": "LF",
         "type": "scatter",
         "x": [
          39.61940772612757,
          39.83953475084561,
          37.76430711651526,
          37.54418009179722,
          39.61940772612757
         ],
         "y": [
          14.347030563628778,
          15.020291437361909,
          15.698800619433978,
          15.02553974570085,
          14.347030563628778
         ]
        },
        {
         "line": {
          "color": "rgb(0, 255, 0)",
          "width": 1
         },
         "mode": "lines",
         "name": "RF",
         "type": "scatter",
         "x": [
          39.214093318685826,
          39.434220343403865,
          37.35899270907352,
          37.13886568435548,
          39.214093318685826
         ],
         "y": [
          19.45597812952923,
          20.12923900326236,
          20.80774818533443,
          20.1344873116013,
          19.45597812952923
         ]
        },
        {
         "line": {
          "color": "rgb(153, 0, 204)",
          "width": 1
         },
         "mode": "lines",
         "name": "RR",
         "type": "scatter",
         "x": [
          30.597134190456504,
          30.541115126013338,
          28.364620390621603,
          28.42063945506477,
          30.597134190456504
         ],
         "y": [
          19.16655038334378,
          19.872665087573925,
          19.69999455952557,
          18.993879855295425,
          19.16655038334378
         ]
        },
        {
         "line": {
          "color": "rgb(255, 102, 0)",
          "width": 1
         },
         "mode": "lines",
         "name": "LR",
         "type": "scatter",
         "x": [
          31.00244859789825,
          30.946429533455085,
          28.76993479806335,
          28.825953862506516,
          31.00244859789825
         ],
         "y": [
          14.057602817443328,
          14.763717521673474,
          14.59104699362512,
          13.884932289394975,
          14.057602817443328
         ]
        },
        {
         "customdata": [
          10.9,
          10.9
         ],
         "hovertemplate": "<b>x</b>:%{x:.1f}<br><b>Y</b>: %{y:.1f}<br><b>time</b>: %{customdata:.3f}",
         "marker": {
          "color": "rgb(0, 0, 0)",
          "size": 10
         },
         "mode": "markers",
         "name": "CG",
         "type": "scatter",
         "x": [
          35.324144896286604,
          35.324144896286604
         ],
         "y": [
          17.326292156212816,
          17.326292156212816
         ]
        },
        {
         "marker": {
          "color": "rgb(0, 0, 255)",
          "size": 5,
          "symbol": [
           "circle",
           "circle",
           "circle",
           "circle",
           "circle",
           "circle",
           "circle",
           "circle",
           "circle",
           "circle",
           "circle",
           "circle",
           "circle",
           "circle",
           "circle",
           "circle",
           "circle",
           "circle",
           "circle",
           "circle",
           "circle",
           "circle",
           "circle",
           "circle",
           "circle",
           "circle",
           "circle",
           "circle",
           "circle",
           "circle",
           "circle",
           "circle",
           "circle",
           "circle",
           "circle",
           "circle",
           "circle",
           "circle",
           "circle",
           "circle",
           "circle",
           "circle",
           "circle",
           "circle",
           "circle",
           "circle",
           "circle",
           "circle",
           "circle",
           "circle",
           "circle",
           "circle",
           "circle",
           "circle",
           "circle",
           "circle",
           "circle",
           "circle",
           "circle",
           "circle",
           "circle",
           "circle",
           "circle",
           "circle",
           "circle",
           "circle",
           "circle",
           "circle",
           "circle",
           "circle",
           "circle",
           "circle",
           "circle",
           "circle",
           "circle",
           "circle",
           "circle",
           "circle",
           "circle",
           "circle",
           "circle",
           "circle",
           "circle",
           "circle",
           "circle",
           "circle",
           "circle",
           "circle",
           "circle",
           "circle",
           "circle",
           "circle",
           "circle",
           "circle",
           "circle",
           "circle",
           "circle",
           "circle",
           "circle",
           "circle",
           "circle",
           "circle",
           "circle",
           "circle",
           "circle",
           "circle",
           "circle",
           "circle",
           "circle"
          ]
         },
         "mode": "markers",
         "name": "LF",
         "type": "scatter",
         "x": [
          3.1750000000000003,
          5.375005,
          7.575010000000001,
          9.775015,
          11.97502,
          14.175025,
          16.37503,
          18.575034999999996,
          20.77504,
          22.975044999999998,
          25.175049999999995,
          27.371498306805723,
          29.553656801409197,
          31.708345036150636,
          33.82543136565816,
          35.89676003548957,
          37.91237573087556,
          39.857568242459884,
          41.71208761262147,
          43.45111271414088,
          45.047895504976076,
          46.48498238948053,
          47.76510306726825,
          48.89977803379246,
          49.89067286188309,
          50.728100571320596,
          51.40139335447594,
          51.90721289818058,
          52.249892869712575,
          52.43691512420744,
          52.47500097210538,
          52.369323451315,
          52.124810006865104,
          51.74739886622161,
          51.24420143686254,
          50.62292333845778,
          49.891333122335595,
          49.057147123682135,
          48.1281781991421,
          47.11245435700642,
          46.018186108034,
          44.85365087796534,
          43.62710026159538,
          42.346724200494876,
          41.02064136560269,
          39.65688017235744,
          38.26334401264529,
          36.84777406919139,
          35.41772025648768,
          33.98051960854789,
          32.543276746698986,
          31.112844093496914,
          29.695803275996397,
          28.298449402194624,
          26.926778058519908,
          25.58647396435754,
          24.282900876865924,
          23.021093169552785,
          21.805749463851345,
          20.641228119745705,
          19.531544125894616,
          18.48036718133578,
          17.491021087555595,
          16.56648458509774,
          15.709393551892571,
          14.92204433935341,
          14.206398085651932,
          13.564085981354921,
          12.996415504106158,
          12.504377574335543,
          12.088654517779371,
          11.749628724556992,
          11.487391942392696,
          11.301755169723585,
          11.192259101804424,
          11.158185058731247,
          11.19856631997975,
          11.312199805212057,
          11.497658054958366,
          11.753301465264997,
          12.077290723930869,
          12.467599394098873,
          12.922026596289669,
          13.438209746466908,
          14.013637310312633,
          14.64566153352041,
          15.331511108372286,
          16.06830373966133,
          16.853058576565942,
          17.682708479541542,
          18.554112092674004,
          19.46406569339278,
          20.40931479357958,
          21.3865654685173,
          22.39249539220778,
          23.42376455929398,
          24.47702567549306,
          25.54893420028144,
          26.63615802745078,
          27.73538679089737,
          28.843340784603253,
          29.956779487317036,
          31.072509683997637,
          32.18739317760076,
          33.298354086217415,
          34.40238572192401,
          35.49655704900376,
          36.57801872046029,
          37.64400869294174
         ],
         "y": [
          -2.5625,
          -2.5625,
          -2.5625,
          -2.5625,
          -2.5625,
          -2.5625,
          -2.5625,
          -2.5625,
          -2.5625,
          -2.5625,
          -2.5625,
          -2.574517603682267,
          -2.6321189912853757,
          -2.7694039458543434,
          -3.002343193008756,
          -3.336307016458992,
          -3.778088501525642,
          -4.339421132688467,
          -5.033191165778924,
          -5.868259643411038,
          -6.845469713425038,
          -7.952269556067655,
          -9.163578206064793,
          -10.455625222600208,
          -11.815065958766796,
          -13.233670360692658,
          -14.700770753800787,
          -16.201802753721957,
          -17.721028412867273,
          -19.24397622650196,
          -20.7578625176293,
          -22.25093459699023,
          -23.71206799715304,
          -25.13092776664781,
          -26.498229817977705,
          -27.80572624692247,
          -29.04598678558873,
          -30.212241399326313,
          -31.298395945022435,
          -32.29912259370395,
          -33.20988922839306,
          -34.02689927022663,
          -34.747008014256174,
          -35.36767837679234,
          -35.8869781214504,
          -36.30358116787984,
          -36.616746040914094,
          -36.82627577350761,
          -36.93247852054354,
          -36.93613941945138,
          -36.83849938472355,
          -36.641231773795674,
          -36.34641352486754,
          -35.95649392788262,
          -35.474265162551994,
          -34.90283551784897,
          -34.24560355259012,
          -33.5062316256659,
          -32.688618869091066,
          -31.796874611657866,
          -30.83529289269154,
          -29.80832793740128,
          -28.720570202233866,
          -27.576722872537516,
          -26.381579003115558,
          -25.139999515103952,
          -23.856892098718305,
          -22.537190960930758,
          -21.185837382082628,
          -19.80776111625483,
          -18.407862690901943,
          -16.990996629862146,
          -15.561955593096286,
          -14.125455424819853,
          -12.686121114050353,
          -11.248473674829635,
          -9.816917944969694,
          -8.395731293994865,
          -6.98905322960652,
          -5.600875893348421,
          -4.235035434613563,
          -2.8952042480399176,
          -1.5848840563902655,
          -0.3073998204392846,
          0.9341055428305299,
          2.136675654052392,
          3.297544400003913,
          4.414138921010783,
          5.484081881728854,
          6.505193050056524,
          7.475490209849322,
          8.39318943430831,
          9.256704747630971,
          10.064647202628747,
          10.815823402038673,
          11.509233491554726,
          12.144068653008677,
          12.719708126289188,
          13.235715788433186,
          13.691836318082897,
          14.087990973351253,
          14.424273011013618,
          14.700942774691775,
          14.918422479281162,
          15.077290718394002,
          15.178276721129748,
          15.222254384018155,
          15.210236103444796,
          15.143366433249803
         ]
        },
        {
         "marker": {
          "color": "rgb(0, 255, 0)",
          "size": 5,
          "symbol": [
           "circle",
           "circle",
           "circle",
           "circle",
           "circle",
           "circle",
           "circle",
           "circle",
           "circle",
           "circle",
           "circle",
           "circle",
           "circle",
           "circle",
           "circle",
           "circle",
           "circle",
           "circle",
           "circle",
           "circle",
           "circle",
           "circle",
           "circle",
           "circle",
           "circle",
           "circle",
           "circle",
           "circle",
           "circle",
           "circle",
           "circle",
           "circle",
           "circle",
           "circle",
           "circle",
           "circle",
           "circle",
           "circle",
           "circle",
           "circle",
           "circle",
           "circle",
           "circle",
           "circle",
           "circle",
           "circle",
           "circle",
           "circle",
           "circle",
           "circle",
           "circle",
           "circle",
           "circle",
           "circle",
           "circle",
           "circle",
           "circle",
           "circle",
           "circle",
           "circle",
           "circle",
           "circle",
           "circle",
           "circle",
           "circle",
           "circle",
           "circle",
           "circle",
           "circle",
           "circle",
           "circle",
           "circle",
           "circle",
           "circle",
           "circle",
           "circle",
           "circle",
           "circle",
           "circle",
           "circle",
           "circle",
           "circle",
           "circle",
           "circle",
           "circle",
           "circle",
           "circle",
           "circle",
           "circle",
           "circle",
           "circle",
           "circle",
           "circle",
           "circle",
           "circle",
           "circle",
           "circle",
           "circle",
           "circle",
           "circle",
           "circle",
           "circle",
           "circle",
           "circle",
           "circle",
           "circle",
           "circle",
           "circle",
           "circle"
          ]
         },
         "mode": "markers",
         "name": "RF",
         "type": "scatter",
         "x": [
          3.1750000000000003,
          5.375005,
          7.575010000000001,
          9.775015,
          11.97502,
          14.175025,
          16.37503,
          18.575034999999996,
          20.77504,
          22.975044999999998,
          25.175049999999995,
          27.378018329909896,
          29.59156141248308,
          31.821465536439586,
          34.06630847486922,
          36.31833459508105,
          38.56461646393725,
          40.78682362126404,
          42.960888315218135,
          45.05740298893679,
          47.04308945273774,
          48.88812820247471,
          50.575150590147096,
          52.09541011732193,
          53.43875243938008,
          54.59233210422168,
          55.546139267251434,
          56.29740214387923,
          56.85006188050823,
          57.211088478918306,
          57.38729932325302,
          57.384566884248855,
          57.208757128431884,
          56.8667491102242,
          56.366603951733666,
          55.7170780540697,
          54.927125408484855,
          54.00574982591987,
          52.96211727708659,
          51.80566866263616,
          50.54609642696478,
          49.19322713238095,
          47.75691146321892,
          46.24696958836745,
          44.67317205294395,
          43.04521849561282,
          41.372699494660665,
          39.66505096612957,
          37.931514380011215,
          36.18110642525743,
          34.42259391156664,
          32.6644696498623,
          30.914928762521484,
          29.181846978714642,
          27.47276190247519,
          25.79485701481156,
          24.154947844774938,
          22.5594701244085,
          21.014470002979653,
          19.52559629036916,
          18.098094548531417,
          16.736802892674405,
          15.446149489424435,
          14.230151752862426,
          13.092417140369708,
          12.036145382405367,
          11.064132018342173,
          10.17877318744825,
          9.38207164503673,
          8.675643931112507,
          8.060728577377954,
          7.53819524388419,
          7.108554710979027,
          6.771969671926001,
          6.528266262008079,
          6.376946242272565,
          6.317199753609182,
          6.347918569459792,
          6.467709787155416,
          6.674909898919651,
          6.967599178795204,
          7.343616320616654,
          7.800573267150736,
          8.335870176817798,
          8.946710477447338,
          9.630115956804858,
          10.382941840441188,
          11.201891810348446,
          12.083532921719899,
          13.024310378044571,
          14.020562126612681,
          15.068533238281855,
          16.16439003776181,
          17.304233953448215,
          18.48411505836962,
          19.700045275937896,
          20.948011226201324,
          22.22398669045189,
          23.523944674283495,
          24.843869051346072,
          26.179765772019355,
          27.527673623116073,
          28.88367452660171,
          30.243903367176497,
          31.60455734034981,
          32.96190481432661,
          34.31229370063705,
          35.65215933000006,
          36.97803183141174
         ],
         "y": [
          2.5625,
          2.5625,
          2.5625,
          2.5625,
          2.5625,
          2.5625,
          2.5625,
          2.5625,
          2.5625,
          2.5625,
          2.5625,
          2.550478248930564,
          2.492740835135181,
          2.354347487657471,
          2.116993015745083,
          1.7713245178928405,
          1.3052378726249652,
          0.7006294068362653,
          -0.06266586102550686,
          -1.0014889940896539,
          -2.1247890304286545,
          -3.4256245289544704,
          -4.877640978437395,
          -6.448935742902901,
          -8.116856079413166,
          -9.86716777490234,
          -11.686354339545632,
          -13.55758956508684,
          -15.461809505342952,
          -17.380406056326233,
          -19.296715738790105,
          -21.195966204850567,
          -23.064683517023294,
          -24.890349132453967,
          -26.661378448501818,
          -28.36716434093535,
          -29.998048259843223,
          -31.54526664117485,
          -33.00094050852766,
          -34.35809429856838,
          -35.61065017936678,
          -36.75338105672591,
          -37.7818530579025,
          -38.69239053190873,
          -39.48206429260547,
          -40.14868043931081,
          -40.690753096192836,
          -41.10746438018898,
          -41.39862496961331,
          -41.56464270476124,
          -41.60649602837104,
          -41.52570545402303,
          -41.324300430785044,
          -41.004784105932856,
          -40.57009940653402,
          -40.02359732682656,
          -39.369006037421734,
          -38.61039944855258,
          -37.75216523649036,
          -36.798973233364755,
          -35.75574483424704,
          -34.62762338085614,
          -33.41994517632952,
          -32.138210995619644,
          -30.788058262289812,
          -29.375234126112673,
          -27.905569532428437,
          -26.38495424463362,
          -24.819312780156363,
          -23.21458128897485,
          -21.57668544054279,
          -19.911519363529557,
          -18.22492564564766,
          -16.522676387506166,
          -14.810455313353378,
          -13.093840949923889,
          -11.378290880792397,
          -9.669127073930527,
          -7.971522274017633,
          -6.2904874498586505,
          -4.630860286750359,
          -2.997294711197442,
          -1.3942514320791322,
          0.17401052011535242,
          1.7034412760378586,
          3.190206654018251,
          4.630693754160406,
          6.021515645441375,
          7.359515172402081,
          8.64176790902342,
          9.865584288588774,
          11.028510939564645,
          12.128331258416354,
          13.163065250774237,
          14.130968672772235,
          15.030531504896123,
          15.860475791185298,
          16.619752876914273,
          17.307540077909252,
          17.923236814592315,
          18.466460243808534,
          18.937040421428705,
          19.335015028525063,
          19.660623693567317,
          19.91430194266135,
          20.096674809414935,
          20.208550135547064,
          20.25091159281094,
          20.224911456164257
         ]
        },
        {
         "marker": {
          "color": "rgb(153, 0, 204)",
          "size": 5,
          "symbol": [
           "circle",
           "circle",
           "circle",
           "circle",
           "circle",
           "circle",
           "circle",
           "circle",
           "circle",
           "circle",
           "circle",
           "circle",
           "circle",
           "circle",
           "circle",
           "circle",
           "circle",
           "circle",
           "circle",
           "circle",
           "circle",
           "circle",
           "circle",
           "circle",
           "circle",
           "circle",
           "circle",
           "circle",
           "circle",
           "circle",
           "circle",
           "circle",
           "circle",
           "circle",
           "circle",
           "circle",
           "circle",
           "circle",
           "circle",
           "circle",
           "circle",
           "circle",
           "circle",
           "circle",
           "circle",
           "circle",
           "circle",
           "circle",
           "circle",
           "circle",
           "circle",
           "circle",
           "circle",
           "circle",
           "circle",
           "circle",
           "circle",
           "circle",
           "circle",
           "circle",
           "circle",
           "circle",
           "circle",
           "circle",
           "circle",
           "circle",
           "circle",
           "circle",
           "circle",
           "circle",
           "circle",
           "circle",
           "circle",
           "circle",
           "circle",
           "circle",
           "circle",
           "circle",
           "circle",
           "circle",
           "circle",
           "circle",
           "circle",
           "circle",
           "circle",
           "circle",
           "circle",
           "circle",
           "circle",
           "circle",
           "circle",
           "circle",
           "circle",
           "circle",
           "circle",
           "circle",
           "circle",
           "circle",
           "circle",
           "circle",
           "circle",
           "circle",
           "circle",
           "circle",
           "circle",
           "circle",
           "circle",
           "circle",
           "circle"
          ]
         },
         "mode": "markers",
         "name": "RR",
         "type": "scatter",
         "x": [
          -5.658333333333334,
          -3.458328333333334,
          -1.2583233333333341,
          0.941681666666665,
          3.141686666666666,
          5.341691666666665,
          7.541696666666664,
          9.741701666666664,
          11.941706666666665,
          14.141711666666662,
          16.34171666666666,
          18.544692144918674,
          20.758469679140333,
          22.990284203882638,
          25.24273712319593,
          27.51493715375919,
          29.803110843450025,
          32.09990724419702,
          34.39380405011468,
          36.6691478860414,
          38.90663169017486,
          41.08610587932028,
          43.18800675065922,
          45.189571339307065,
          47.064602078217725,
          48.78990488318471,
          50.35055975650271,
          51.73989648541871,
          52.956123600872814,
          53.999081356339005,
          54.868899997123684,
          55.56624737909756,
          56.09293997568794,
          56.45209325291449,
          56.64780321735246,
          56.684759972205725,
          56.56807689256577,
          56.30332178747996,
          55.89658432963219,
          55.35446542223989,
          54.68399335059427,
          53.89252907333905,
          52.98770129454431,
          51.977367774421715,
          50.86958073818683,
          49.67254406913611,
          48.39456531351508,
          47.04401019065355,
          45.62926273125342,
          44.15868932351508,
          42.640604386796475,
          41.08323729383141,
          39.49470131581019,
          37.88296500917523,
          36.25582580267184,
          34.62088549857782,
          32.98552773733024,
          31.35689759149773,
          29.741883254106895,
          28.147099605831436,
          26.578873504708373,
          25.04323081147465,
          23.545885217134018,
          22.092228843052762,
          20.687324481385502,
          19.3358993460952,
          18.042340278070203,
          16.810690391879195,
          15.644647127895528,
          14.547561627182786,
          13.522439332856488,
          12.571941744188997,
          11.698389273100092,
          10.903765152328429,
          10.189720329099472,
          9.557579269264288,
          9.008346602344247,
          8.542714547885488,
          8.161071066953433,
          7.863508679246227,
          7.649833883291148,
          7.5195771189044205,
          7.4720032154925216,
          7.506122272772407,
          7.620700921024952,
          7.814273908083215,
          8.085155961732433,
          8.431453878809538,
          8.851078794705879,
          9.341758588605693,
          9.901050381143055,
          10.52635308288069,
          11.21491995413172,
          11.963871138758423,
          12.770206136454863,
          13.630816179772237,
          14.542496483978207,
          15.501958339781016,
          16.505841020877597,
          17.550723480126585,
          18.633135809930383,
          19.749570444189253,
          20.896493080970348,
          22.07035330678085,
          23.26759490502723,
          24.484665832891977,
          25.7180278524734,
          26.964165803612886,
          28.219596507364066
         ],
         "y": [
          2.5625,
          2.5625,
          2.5625,
          2.5625,
          2.5625,
          2.5625,
          2.5625,
          2.5625,
          2.5625,
          2.5625,
          2.5625,
          2.5617160123296285,
          2.5580723599129285,
          2.5493194068546905,
          2.5321633177998994,
          2.4979408319854564,
          2.429425152373563,
          2.3022728239621255,
          2.0897386019866437,
          1.7670763575910964,
          1.3140818388841424,
          0.7163828885639614,
          -0.03430703656490275,
          -0.9410170298277079,
          -2.0014668889305516,
          -3.206866271040298,
          -4.542564636225283,
          -5.990759320468021,
          -7.533062917630126,
          -9.151749542515635,
          -10.82999012542994,
          -12.551806791988948,
          -14.302107990420389,
          -16.066753589945428,
          -17.832522081406854,
          -19.58699523760423,
          -21.318471311358326,
          -23.01596767471631,
          -24.669273154672126,
          -26.26897695878378,
          -27.806447028038935,
          -29.273786211716903,
          -30.663804482746478,
          -31.970016367445425,
          -33.18664554694412,
          -34.308617638252755,
          -35.33153876946716,
          -36.25167005375894,
          -37.0659066428898,
          -37.77176136213992,
          -38.3673477442089,
          -38.851358966629036,
          -39.2230434946605,
          -39.48218015290649,
          -39.62905408199321,
          -39.66443304474321,
          -39.58954297078181,
          -39.406042420671184,
          -39.115996502383034,
          -38.721850857981245,
          -38.22640589441776,
          -37.63279109789851,
          -36.944439312945825,
          -36.16506108044799,
          -35.29861923174386,
          -34.34930387304751,
          -33.32150779478347,
          -32.21980231218007,
          -31.048913577902045,
          -29.813699438269836,
          -28.519126898795637,
          -27.170250240786743,
          -25.772189816864717,
          -24.33011155444184,
          -22.849207199831636,
          -21.334675332763243,
          -19.791703174048987,
          -18.225449203845002,
          -16.641026605515403,
          -15.04348754794982,
          -13.437808315764675,
          -11.828875293134274,
          -10.22147180425355,
          -8.620265811312384,
          -7.0297984684128965,
          -5.4544735269874165,
          -3.8985475856883163,
          -2.3661211758133587,
          -0.8611306717228097,
          0.6126589861180689,
          2.0516607698489366,
          3.4524712608368704,
          4.811875581722306,
          6.126851582525076,
          7.394573300628412,
          8.612413715697022,
          9.77794682167433,
          10.888949038834072,
          11.94339998952336,
          12.939482661869755,
          13.87558298634686,
          14.750288850610787,
          15.562388578379242,
          16.31086889836452,
          16.994912429458644,
          17.613894708515346,
          18.167380787142644,
          18.655121423887604,
          19.077048898080037
         ]
        },
        {
         "marker": {
          "color": "rgb(255, 102, 0)",
          "size": 5,
          "symbol": [
           "circle",
           "circle",
           "circle",
           "circle",
           "circle",
           "circle",
           "circle",
           "circle",
           "circle",
           "circle",
           "circle",
           "circle",
           "circle",
           "circle",
           "circle",
           "circle",
           "circle",
           "circle",
           "circle",
           "circle",
           "circle",
           "circle",
           "circle",
           "circle",
           "circle",
           "circle",
           "circle",
           "circle",
           "circle",
           "circle",
           "circle",
           "circle",
           "circle",
           "circle",
           "circle",
           "circle",
           "circle",
           "circle",
           "circle",
           "circle",
           "circle",
           "circle",
           "circle",
           "circle",
           "circle",
           "circle",
           "circle",
           "circle",
           "circle",
           "circle",
           "circle",
           "circle",
           "circle",
           "circle",
           "circle",
           "circle",
           "circle",
           "circle",
           "circle",
           "circle",
           "circle",
           "circle",
           "circle",
           "circle",
           "circle",
           "circle",
           "circle",
           "circle",
           "circle",
           "circle",
           "circle",
           "circle",
           "circle",
           "circle",
           "circle",
           "circle",
           "circle",
           "circle",
           "circle",
           "circle",
           "circle",
           "circle",
           "circle",
           "circle",
           "circle",
           "circle",
           "circle",
           "circle",
           "circle",
           "circle",
           "circle",
           "circle",
           "circle",
           "circle",
           "circle",
           "circle",
           "circle",
           "circle",
           "circle",
           "circle",
           "circle",
           "circle",
           "circle",
           "circle",
           "circle",
           "circle",
           "circle",
           "circle",
           "circle"
          ]
         },
         "mode": "markers",
         "name": "LR",
         "type": "scatter",
         "x": [
          -5.658333333333334,
          -3.458328333333334,
          -1.2583233333333341,
          0.941681666666665,
          3.141686666666666,
          5.341691666666665,
          7.541696666666664,
          9.741701666666664,
          11.941706666666665,
          14.141711666666662,
          16.34171666666666,
          18.5381721218145,
          20.72056506806645,
          22.877163703593688,
          25.00186001398488,
          27.09336259416772,
          29.150870110388336,
          31.170651865392866,
          33.14500334751801,
          35.06285761124549,
          36.9114377424132,
          38.682960066326096,
          40.37795922778037,
          41.99393925577759,
          43.51652250072073,
          44.925673350283624,
          46.20581384372722,
          47.34970723972006,
          48.35595459007716,
          49.22490800162814,
          49.95660164597604,
          50.5510039461637,
          51.00899285412116,
          51.3327430089119,
          51.525400702481335,
          51.590605256593804,
          51.53228460641651,
          51.35471908524222,
          51.0626452516877,
          50.66125111661015,
          50.15608303166349,
          49.552952818923444,
          48.85789009292077,
          48.07712238654914,
          47.21705005084558,
          46.284205745880726,
          45.28520983149971,
          44.22673329371537,
          43.11546860772988,
          41.95810250680553,
          40.76128722192882,
          39.53161173746603,
          38.2755758292851,
          36.999567432655205,
          35.70984195871656,
          34.4125024481238,
          33.11348076942122,
          31.818520636642017,
          30.533162714978587,
          29.262731435207982,
          28.01232308207157,
          26.786795100136025,
          25.590756815265177,
          24.428561675288076,
          23.304300892908365,
          22.22179830304324,
          21.184606345379965,
          20.196003185785866,
          19.258990986964957,
          18.37629527040582,
          17.550365273257903,
          16.7833752248618,
          16.077226504513764,
          15.433550650126012,
          14.853713168895815,
          14.33881808572297,
          13.889713168714813,
          13.506995783637752,
          13.191019334756383,
          12.941900245591572,
          12.759525428426812,
          12.643560192386639,
          12.593456544631454,
          12.608461842421518,
          12.687627753890247,
          12.829819484798765,
          13.033725229663531,
          13.297865808122424,
          13.620604449551925,
          14.000156690102664,
          14.434600347204377,
          14.921885537991617,
          15.459844709949493,
          16.04620265382751,
          16.678586470293023,
          17.354535463128318,
          18.071510933269945,
          18.826905849610565,
          19.61805437404488,
          20.442241219677882,
          21.29671082251428,
          22.178676308390216,
          23.085328238366277,
          24.01384311720511,
          24.96139165089484,
          25.92514674048938,
          26.902291200840114,
          27.890025194073125,
          28.885573368894065
         ],
         "y": [
          -2.5625,
          -2.5625,
          -2.5625,
          -2.5625,
          -2.5625,
          -2.5625,
          -2.5625,
          -2.5625,
          -2.5625,
          -2.5625,
          -2.5625,
          -2.5632798402832027,
          -2.5667874665076282,
          -2.574432026657124,
          -2.5871728909539393,
          -2.6096907023663762,
          -2.653901221777044,
          -2.737777715562607,
          -2.8807867027667737,
          -3.0996942917302874,
          -3.4065988441122412,
          -3.8102621385492235,
          -4.3202442641923025,
          -4.947706509525014,
          -5.699676768284183,
          -6.573368856830616,
          -7.556981050480436,
          -8.634972509103136,
          -9.792281825154447,
          -11.015319712691358,
          -12.29113690426913,
          -13.606775184128612,
          -14.94949247055013,
          -16.307332224139273,
          -17.66937345088274,
          -19.025557143591353,
          -20.366409837103834,
          -21.682942432867772,
          -22.9667285911669,
          -24.210005253919356,
          -25.405686077065223,
          -26.547304425217625,
          -27.628959439100143,
          -28.64530421232903,
          -29.59155937578905,
          -30.46351836682179,
          -31.257531714188417,
          -31.970481447077574,
          -32.59976019382003,
          -33.14325807683006,
          -33.59935110056141,
          -33.96688528640168,
          -34.245156588743,
          -34.43388997485625,
          -34.533219838011185,
          -34.54367123576562,
          -34.46614048595019,
          -34.301874597784504,
          -34.05245013498374,
          -33.71975223627435,
          -33.30595395286226,
          -32.81349565444365,
          -32.24506433885018,
          -31.603572957365863,
          -30.8921399725696,
          -30.11406926203879,
          -29.27283036107334,
          -28.372039028477214,
          -27.41543817982831,
          -26.40687926554982,
          -25.35030414915479,
          -24.24972750711933,
          -23.109219764313345,
          -21.932890591755527,
          -20.724873000528607,
          -19.48930805766899,
          -18.230330238226284,
          -16.95205342390934,
          -15.65855756110429,
          -14.35387599143959,
          -13.041983463627878,
          -11.72678482997675,
          -10.412104428564685,
          -9.10167615186702,
          -7.799134201620226,
          -6.508004526953276,
          -5.231696939844809,
          -3.973497900243951,
          -2.7365639623960374,
          -1.523915872848827,
          -0.3384333088905167,
          0.8171497555805349,
          1.9402490709369242,
          3.0284335343795843,
          4.079428029894849,
          5.0911157023556255,
          6.0615396834977116,
          6.988904288208988,
          7.8715757000472975,
          8.708082165360336,
          9.49711371588958,
          10.2375214401957,
          10.92831632454595,
          11.568667684078367,
          12.157901205191296,
          12.695496620230163,
          13.181085035613735,
          13.61444593452146,
          13.995503875165582
         ]
        }
       ],
       "layout": {
        "annotations": [
         {
          "arrowcolor": "rgb(255, 0, 0)",
          "arrowhead": 1,
          "arrowsize": 2.5,
          "arrowwidth": 1.7,
          "ax": 35.324144896286604,
          "axref": "x",
          "ay": 17.326292156212816,
          "ayref": "y",
          "showarrow": true,
          "text": "",
          "x": 46.813057775880345,
          "xref": "x",
          "y": 15.732727439152404,
          "yref": "y"
         },
         {
          "arrowcolor": "rgb(0, 0, 0)",
          "arrowhead": 1,
          "arrowsize": 2,
          "arrowwidth": 1.5,
          "ax": 35.324144896286604,
          "axref": "x",
          "ay": 17.326292156212816,
          "ayref": "y",
          "showarrow": true,
          "text": "",
          "x": 43.14125003370502,
          "xref": "x",
          "y": 17.946456151989533,
          "yref": "y"
         },
         {
          "arrowcolor": "rgb(0, 0, 255)",
          "arrowhead": 1,
          "arrowsize": 2,
          "arrowwidth": 1.5,
          "ax": 35.324144896286604,
          "axref": "x",
          "ay": 17.326292156212816,
          "ayref": "y",
          "showarrow": true,
          "text": "",
          "x": 34.974849553288024,
          "xref": "x",
          "y": 21.72912501788312,
          "yref": "y"
         }
        ],
        "autosize": false,
        "font": {
         "color": "black",
         "family": "Arial",
         "size": 16
        },
        "height": 700,
        "showlegend": false,
        "template": {
         "data": {
          "bar": [
           {
            "error_x": {
             "color": "#2a3f5f"
            },
            "error_y": {
             "color": "#2a3f5f"
            },
            "marker": {
             "line": {
              "color": "white",
              "width": 0.5
             }
            },
            "type": "bar"
           }
          ],
          "barpolar": [
           {
            "marker": {
             "line": {
              "color": "white",
              "width": 0.5
             }
            },
            "type": "barpolar"
           }
          ],
          "carpet": [
           {
            "aaxis": {
             "endlinecolor": "#2a3f5f",
             "gridcolor": "#C8D4E3",
             "linecolor": "#C8D4E3",
             "minorgridcolor": "#C8D4E3",
             "startlinecolor": "#2a3f5f"
            },
            "baxis": {
             "endlinecolor": "#2a3f5f",
             "gridcolor": "#C8D4E3",
             "linecolor": "#C8D4E3",
             "minorgridcolor": "#C8D4E3",
             "startlinecolor": "#2a3f5f"
            },
            "type": "carpet"
           }
          ],
          "choropleth": [
           {
            "colorbar": {
             "outlinewidth": 0,
             "ticks": ""
            },
            "type": "choropleth"
           }
          ],
          "contour": [
           {
            "colorbar": {
             "outlinewidth": 0,
             "ticks": ""
            },
            "colorscale": [
             [
              0,
              "#0d0887"
             ],
             [
              0.1111111111111111,
              "#46039f"
             ],
             [
              0.2222222222222222,
              "#7201a8"
             ],
             [
              0.3333333333333333,
              "#9c179e"
             ],
             [
              0.4444444444444444,
              "#bd3786"
             ],
             [
              0.5555555555555556,
              "#d8576b"
             ],
             [
              0.6666666666666666,
              "#ed7953"
             ],
             [
              0.7777777777777778,
              "#fb9f3a"
             ],
             [
              0.8888888888888888,
              "#fdca26"
             ],
             [
              1,
              "#f0f921"
             ]
            ],
            "type": "contour"
           }
          ],
          "contourcarpet": [
           {
            "colorbar": {
             "outlinewidth": 0,
             "ticks": ""
            },
            "type": "contourcarpet"
           }
          ],
          "heatmap": [
           {
            "colorbar": {
             "outlinewidth": 0,
             "ticks": ""
            },
            "colorscale": [
             [
              0,
              "#0d0887"
             ],
             [
              0.1111111111111111,
              "#46039f"
             ],
             [
              0.2222222222222222,
              "#7201a8"
             ],
             [
              0.3333333333333333,
              "#9c179e"
             ],
             [
              0.4444444444444444,
              "#bd3786"
             ],
             [
              0.5555555555555556,
              "#d8576b"
             ],
             [
              0.6666666666666666,
              "#ed7953"
             ],
             [
              0.7777777777777778,
              "#fb9f3a"
             ],
             [
              0.8888888888888888,
              "#fdca26"
             ],
             [
              1,
              "#f0f921"
             ]
            ],
            "type": "heatmap"
           }
          ],
          "heatmapgl": [
           {
            "colorbar": {
             "outlinewidth": 0,
             "ticks": ""
            },
            "colorscale": [
             [
              0,
              "#0d0887"
             ],
             [
              0.1111111111111111,
              "#46039f"
             ],
             [
              0.2222222222222222,
              "#7201a8"
             ],
             [
              0.3333333333333333,
              "#9c179e"
             ],
             [
              0.4444444444444444,
              "#bd3786"
             ],
             [
              0.5555555555555556,
              "#d8576b"
             ],
             [
              0.6666666666666666,
              "#ed7953"
             ],
             [
              0.7777777777777778,
              "#fb9f3a"
             ],
             [
              0.8888888888888888,
              "#fdca26"
             ],
             [
              1,
              "#f0f921"
             ]
            ],
            "type": "heatmapgl"
           }
          ],
          "histogram": [
           {
            "marker": {
             "colorbar": {
              "outlinewidth": 0,
              "ticks": ""
             }
            },
            "type": "histogram"
           }
          ],
          "histogram2d": [
           {
            "colorbar": {
             "outlinewidth": 0,
             "ticks": ""
            },
            "colorscale": [
             [
              0,
              "#0d0887"
             ],
             [
              0.1111111111111111,
              "#46039f"
             ],
             [
              0.2222222222222222,
              "#7201a8"
             ],
             [
              0.3333333333333333,
              "#9c179e"
             ],
             [
              0.4444444444444444,
              "#bd3786"
             ],
             [
              0.5555555555555556,
              "#d8576b"
             ],
             [
              0.6666666666666666,
              "#ed7953"
             ],
             [
              0.7777777777777778,
              "#fb9f3a"
             ],
             [
              0.8888888888888888,
              "#fdca26"
             ],
             [
              1,
              "#f0f921"
             ]
            ],
            "type": "histogram2d"
           }
          ],
          "histogram2dcontour": [
           {
            "colorbar": {
             "outlinewidth": 0,
             "ticks": ""
            },
            "colorscale": [
             [
              0,
              "#0d0887"
             ],
             [
              0.1111111111111111,
              "#46039f"
             ],
             [
              0.2222222222222222,
              "#7201a8"
             ],
             [
              0.3333333333333333,
              "#9c179e"
             ],
             [
              0.4444444444444444,
              "#bd3786"
             ],
             [
              0.5555555555555556,
              "#d8576b"
             ],
             [
              0.6666666666666666,
              "#ed7953"
             ],
             [
              0.7777777777777778,
              "#fb9f3a"
             ],
             [
              0.8888888888888888,
              "#fdca26"
             ],
             [
              1,
              "#f0f921"
             ]
            ],
            "type": "histogram2dcontour"
           }
          ],
          "mesh3d": [
           {
            "colorbar": {
             "outlinewidth": 0,
             "ticks": ""
            },
            "type": "mesh3d"
           }
          ],
          "parcoords": [
           {
            "line": {
             "colorbar": {
              "outlinewidth": 0,
              "ticks": ""
             }
            },
            "type": "parcoords"
           }
          ],
          "pie": [
           {
            "automargin": true,
            "type": "pie"
           }
          ],
          "scatter": [
           {
            "marker": {
             "colorbar": {
              "outlinewidth": 0,
              "ticks": ""
             }
            },
            "type": "scatter"
           }
          ],
          "scatter3d": [
           {
            "line": {
             "colorbar": {
              "outlinewidth": 0,
              "ticks": ""
             }
            },
            "marker": {
             "colorbar": {
              "outlinewidth": 0,
              "ticks": ""
             }
            },
            "type": "scatter3d"
           }
          ],
          "scattercarpet": [
           {
            "marker": {
             "colorbar": {
              "outlinewidth": 0,
              "ticks": ""
             }
            },
            "type": "scattercarpet"
           }
          ],
          "scattergeo": [
           {
            "marker": {
             "colorbar": {
              "outlinewidth": 0,
              "ticks": ""
             }
            },
            "type": "scattergeo"
           }
          ],
          "scattergl": [
           {
            "marker": {
             "colorbar": {
              "outlinewidth": 0,
              "ticks": ""
             }
            },
            "type": "scattergl"
           }
          ],
          "scattermapbox": [
           {
            "marker": {
             "colorbar": {
              "outlinewidth": 0,
              "ticks": ""
             }
            },
            "type": "scattermapbox"
           }
          ],
          "scatterpolar": [
           {
            "marker": {
             "colorbar": {
              "outlinewidth": 0,
              "ticks": ""
             }
            },
            "type": "scatterpolar"
           }
          ],
          "scatterpolargl": [
           {
            "marker": {
             "colorbar": {
              "outlinewidth": 0,
              "ticks": ""
             }
            },
            "type": "scatterpolargl"
           }
          ],
          "scatterternary": [
           {
            "marker": {
             "colorbar": {
              "outlinewidth": 0,
              "ticks": ""
             }
            },
            "type": "scatterternary"
           }
          ],
          "surface": [
           {
            "colorbar": {
             "outlinewidth": 0,
             "ticks": ""
            },
            "colorscale": [
             [
              0,
              "#0d0887"
             ],
             [
              0.1111111111111111,
              "#46039f"
             ],
             [
              0.2222222222222222,
              "#7201a8"
             ],
             [
              0.3333333333333333,
              "#9c179e"
             ],
             [
              0.4444444444444444,
              "#bd3786"
             ],
             [
              0.5555555555555556,
              "#d8576b"
             ],
             [
              0.6666666666666666,
              "#ed7953"
             ],
             [
              0.7777777777777778,
              "#fb9f3a"
             ],
             [
              0.8888888888888888,
              "#fdca26"
             ],
             [
              1,
              "#f0f921"
             ]
            ],
            "type": "surface"
           }
          ],
          "table": [
           {
            "cells": {
             "fill": {
              "color": "#EBF0F8"
             },
             "line": {
              "color": "white"
             }
            },
            "header": {
             "fill": {
              "color": "#C8D4E3"
             },
             "line": {
              "color": "white"
             }
            },
            "type": "table"
           }
          ]
         },
         "layout": {
          "annotationdefaults": {
           "arrowcolor": "#2a3f5f",
           "arrowhead": 0,
           "arrowwidth": 1
          },
          "coloraxis": {
           "colorbar": {
            "outlinewidth": 0,
            "ticks": ""
           }
          },
          "colorscale": {
           "diverging": [
            [
             0,
             "#8e0152"
            ],
            [
             0.1,
             "#c51b7d"
            ],
            [
             0.2,
             "#de77ae"
            ],
            [
             0.3,
             "#f1b6da"
            ],
            [
             0.4,
             "#fde0ef"
            ],
            [
             0.5,
             "#f7f7f7"
            ],
            [
             0.6,
             "#e6f5d0"
            ],
            [
             0.7,
             "#b8e186"
            ],
            [
             0.8,
             "#7fbc41"
            ],
            [
             0.9,
             "#4d9221"
            ],
            [
             1,
             "#276419"
            ]
           ],
           "sequential": [
            [
             0,
             "#0d0887"
            ],
            [
             0.1111111111111111,
             "#46039f"
            ],
            [
             0.2222222222222222,
             "#7201a8"
            ],
            [
             0.3333333333333333,
             "#9c179e"
            ],
            [
             0.4444444444444444,
             "#bd3786"
            ],
            [
             0.5555555555555556,
             "#d8576b"
            ],
            [
             0.6666666666666666,
             "#ed7953"
            ],
            [
             0.7777777777777778,
             "#fb9f3a"
            ],
            [
             0.8888888888888888,
             "#fdca26"
            ],
            [
             1,
             "#f0f921"
            ]
           ],
           "sequentialminus": [
            [
             0,
             "#0d0887"
            ],
            [
             0.1111111111111111,
             "#46039f"
            ],
            [
             0.2222222222222222,
             "#7201a8"
            ],
            [
             0.3333333333333333,
             "#9c179e"
            ],
            [
             0.4444444444444444,
             "#bd3786"
            ],
            [
             0.5555555555555556,
             "#d8576b"
            ],
            [
             0.6666666666666666,
             "#ed7953"
            ],
            [
             0.7777777777777778,
             "#fb9f3a"
            ],
            [
             0.8888888888888888,
             "#fdca26"
            ],
            [
             1,
             "#f0f921"
            ]
           ]
          },
          "colorway": [
           "#636efa",
           "#EF553B",
           "#00cc96",
           "#ab63fa",
           "#FFA15A",
           "#19d3f3",
           "#FF6692",
           "#B6E880",
           "#FF97FF",
           "#FECB52"
          ],
          "font": {
           "color": "#2a3f5f"
          },
          "geo": {
           "bgcolor": "white",
           "lakecolor": "white",
           "landcolor": "white",
           "showlakes": true,
           "showland": true,
           "subunitcolor": "#C8D4E3"
          },
          "hoverlabel": {
           "align": "left"
          },
          "hovermode": "closest",
          "mapbox": {
           "style": "light"
          },
          "paper_bgcolor": "white",
          "plot_bgcolor": "white",
          "polar": {
           "angularaxis": {
            "gridcolor": "#EBF0F8",
            "linecolor": "#EBF0F8",
            "ticks": ""
           },
           "bgcolor": "white",
           "radialaxis": {
            "gridcolor": "#EBF0F8",
            "linecolor": "#EBF0F8",
            "ticks": ""
           }
          },
          "scene": {
           "xaxis": {
            "backgroundcolor": "white",
            "gridcolor": "#DFE8F3",
            "gridwidth": 2,
            "linecolor": "#EBF0F8",
            "showbackground": true,
            "ticks": "",
            "zerolinecolor": "#EBF0F8"
           },
           "yaxis": {
            "backgroundcolor": "white",
            "gridcolor": "#DFE8F3",
            "gridwidth": 2,
            "linecolor": "#EBF0F8",
            "showbackground": true,
            "ticks": "",
            "zerolinecolor": "#EBF0F8"
           },
           "zaxis": {
            "backgroundcolor": "white",
            "gridcolor": "#DFE8F3",
            "gridwidth": 2,
            "linecolor": "#EBF0F8",
            "showbackground": true,
            "ticks": "",
            "zerolinecolor": "#EBF0F8"
           }
          },
          "shapedefaults": {
           "line": {
            "color": "#2a3f5f"
           }
          },
          "ternary": {
           "aaxis": {
            "gridcolor": "#DFE8F3",
            "linecolor": "#A2B1C6",
            "ticks": ""
           },
           "baxis": {
            "gridcolor": "#DFE8F3",
            "linecolor": "#A2B1C6",
            "ticks": ""
           },
           "bgcolor": "white",
           "caxis": {
            "gridcolor": "#DFE8F3",
            "linecolor": "#A2B1C6",
            "ticks": ""
           }
          },
          "title": {
           "x": 0.05
          },
          "xaxis": {
           "automargin": true,
           "gridcolor": "#EBF0F8",
           "linecolor": "#EBF0F8",
           "ticks": "",
           "title": {
            "standoff": 15
           },
           "zerolinecolor": "#EBF0F8",
           "zerolinewidth": 2
          },
          "yaxis": {
           "automargin": true,
           "gridcolor": "#EBF0F8",
           "linecolor": "#EBF0F8",
           "ticks": "",
           "title": {
            "standoff": 15
           },
           "zerolinecolor": "#EBF0F8",
           "zerolinewidth": 2
          }
         }
        },
        "title": {
         "text": "Vehicle Motion in Global Reference Frame"
        },
        "width": 1200,
        "xaxis": {
         "linecolor": "black",
         "linewidth": 1,
         "showgrid": false,
         "showline": true,
         "tickcolor": "black",
         "ticklen": 10,
         "ticks": "outside",
         "tickwidth": 1,
         "title": {
          "text": "x-axis - Forward (ft)"
         },
         "zeroline": false
        },
        "yaxis": {
         "autorange": "reversed",
         "linecolor": "black",
         "linewidth": 1,
         "scaleanchor": "x",
         "scaleratio": 1.7142857142857142,
         "showgrid": false,
         "showline": true,
         "tickcolor": "black",
         "ticklen": 10,
         "ticks": "outside",
         "tickwidth": 1,
         "title": {
          "text": "y-axis - Rightward (ft)"
         },
         "zeroline": false
        }
       }
      },
      "text/html": [
       "<div>\n",
       "        \n",
       "        \n",
       "            <div id=\"b4d77fc4-a964-48ad-a83f-60d94b70a1ee\" class=\"plotly-graph-div\" style=\"height:700px; width:1200px;\"></div>\n",
       "            <script type=\"text/javascript\">\n",
       "                require([\"plotly\"], function(Plotly) {\n",
       "                    window.PLOTLYENV=window.PLOTLYENV || {};\n",
       "                    \n",
       "                if (document.getElementById(\"b4d77fc4-a964-48ad-a83f-60d94b70a1ee\")) {\n",
       "                    Plotly.newPlot(\n",
       "                        'b4d77fc4-a964-48ad-a83f-60d94b70a1ee',\n",
       "                        [{\"line\": {\"color\": \"rgb(0, 0, 0)\", \"width\": 2}, \"mode\": \"lines\", \"name\": \"body\", \"type\": \"scatter\", \"x\": [41.87661504304246, 41.41528157115755, 25.880758078094388, 26.3420915499793, 41.87661504304246], \"y\": [14.920296409868115, 20.73535867999871, 19.502939262249015, 13.687876992118419, 14.920296409868115]}, {\"line\": {\"color\": \"rgb(0, 0, 255)\", \"width\": 1}, \"mode\": \"lines\", \"name\": \"LF\", \"type\": \"scatter\", \"x\": [39.61940772612757, 39.83953475084561, 37.76430711651526, 37.54418009179722, 39.61940772612757], \"y\": [14.347030563628778, 15.020291437361909, 15.698800619433978, 15.02553974570085, 14.347030563628778]}, {\"line\": {\"color\": \"rgb(0, 255, 0)\", \"width\": 1}, \"mode\": \"lines\", \"name\": \"RF\", \"type\": \"scatter\", \"x\": [39.214093318685826, 39.434220343403865, 37.35899270907352, 37.13886568435548, 39.214093318685826], \"y\": [19.45597812952923, 20.12923900326236, 20.80774818533443, 20.1344873116013, 19.45597812952923]}, {\"line\": {\"color\": \"rgb(153, 0, 204)\", \"width\": 1}, \"mode\": \"lines\", \"name\": \"RR\", \"type\": \"scatter\", \"x\": [30.597134190456504, 30.541115126013338, 28.364620390621603, 28.42063945506477, 30.597134190456504], \"y\": [19.16655038334378, 19.872665087573925, 19.69999455952557, 18.993879855295425, 19.16655038334378]}, {\"line\": {\"color\": \"rgb(255, 102, 0)\", \"width\": 1}, \"mode\": \"lines\", \"name\": \"LR\", \"type\": \"scatter\", \"x\": [31.00244859789825, 30.946429533455085, 28.76993479806335, 28.825953862506516, 31.00244859789825], \"y\": [14.057602817443328, 14.763717521673474, 14.59104699362512, 13.884932289394975, 14.057602817443328]}, {\"customdata\": [10.9, 10.9], \"hovertemplate\": \"<b>x</b>:%{x:.1f}<br><b>Y</b>: %{y:.1f}<br><b>time</b>: %{customdata:.3f}\", \"marker\": {\"color\": \"rgb(0, 0, 0)\", \"size\": 10}, \"mode\": \"markers\", \"name\": \"CG\", \"type\": \"scatter\", \"x\": [35.324144896286604, 35.324144896286604], \"y\": [17.326292156212816, 17.326292156212816]}, {\"marker\": {\"color\": \"rgb(0, 0, 255)\", \"size\": 5, \"symbol\": [\"circle\", \"circle\", \"circle\", \"circle\", \"circle\", \"circle\", \"circle\", \"circle\", \"circle\", \"circle\", \"circle\", \"circle\", \"circle\", \"circle\", \"circle\", \"circle\", \"circle\", \"circle\", \"circle\", \"circle\", \"circle\", \"circle\", \"circle\", \"circle\", \"circle\", \"circle\", \"circle\", \"circle\", \"circle\", \"circle\", \"circle\", \"circle\", \"circle\", \"circle\", \"circle\", \"circle\", \"circle\", \"circle\", \"circle\", \"circle\", \"circle\", \"circle\", \"circle\", \"circle\", \"circle\", \"circle\", \"circle\", \"circle\", \"circle\", \"circle\", \"circle\", \"circle\", \"circle\", \"circle\", \"circle\", \"circle\", \"circle\", \"circle\", \"circle\", \"circle\", \"circle\", \"circle\", \"circle\", \"circle\", \"circle\", \"circle\", \"circle\", \"circle\", \"circle\", \"circle\", \"circle\", \"circle\", \"circle\", \"circle\", \"circle\", \"circle\", \"circle\", \"circle\", \"circle\", \"circle\", \"circle\", \"circle\", \"circle\", \"circle\", \"circle\", \"circle\", \"circle\", \"circle\", \"circle\", \"circle\", \"circle\", \"circle\", \"circle\", \"circle\", \"circle\", \"circle\", \"circle\", \"circle\", \"circle\", \"circle\", \"circle\", \"circle\", \"circle\", \"circle\", \"circle\", \"circle\", \"circle\", \"circle\", \"circle\"]}, \"mode\": \"markers\", \"name\": \"LF\", \"type\": \"scatter\", \"x\": [3.1750000000000003, 5.375005, 7.575010000000001, 9.775015, 11.97502, 14.175025, 16.37503, 18.575034999999996, 20.77504, 22.975044999999998, 25.175049999999995, 27.371498306805723, 29.553656801409197, 31.708345036150636, 33.82543136565816, 35.89676003548957, 37.91237573087556, 39.857568242459884, 41.71208761262147, 43.45111271414088, 45.047895504976076, 46.48498238948053, 47.76510306726825, 48.89977803379246, 49.89067286188309, 50.728100571320596, 51.40139335447594, 51.90721289818058, 52.249892869712575, 52.43691512420744, 52.47500097210538, 52.369323451315, 52.124810006865104, 51.74739886622161, 51.24420143686254, 50.62292333845778, 49.891333122335595, 49.057147123682135, 48.1281781991421, 47.11245435700642, 46.018186108034, 44.85365087796534, 43.62710026159538, 42.346724200494876, 41.02064136560269, 39.65688017235744, 38.26334401264529, 36.84777406919139, 35.41772025648768, 33.98051960854789, 32.543276746698986, 31.112844093496914, 29.695803275996397, 28.298449402194624, 26.926778058519908, 25.58647396435754, 24.282900876865924, 23.021093169552785, 21.805749463851345, 20.641228119745705, 19.531544125894616, 18.48036718133578, 17.491021087555595, 16.56648458509774, 15.709393551892571, 14.92204433935341, 14.206398085651932, 13.564085981354921, 12.996415504106158, 12.504377574335543, 12.088654517779371, 11.749628724556992, 11.487391942392696, 11.301755169723585, 11.192259101804424, 11.158185058731247, 11.19856631997975, 11.312199805212057, 11.497658054958366, 11.753301465264997, 12.077290723930869, 12.467599394098873, 12.922026596289669, 13.438209746466908, 14.013637310312633, 14.64566153352041, 15.331511108372286, 16.06830373966133, 16.853058576565942, 17.682708479541542, 18.554112092674004, 19.46406569339278, 20.40931479357958, 21.3865654685173, 22.39249539220778, 23.42376455929398, 24.47702567549306, 25.54893420028144, 26.63615802745078, 27.73538679089737, 28.843340784603253, 29.956779487317036, 31.072509683997637, 32.18739317760076, 33.298354086217415, 34.40238572192401, 35.49655704900376, 36.57801872046029, 37.64400869294174], \"y\": [-2.5625, -2.5625, -2.5625, -2.5625, -2.5625, -2.5625, -2.5625, -2.5625, -2.5625, -2.5625, -2.5625, -2.574517603682267, -2.6321189912853757, -2.7694039458543434, -3.002343193008756, -3.336307016458992, -3.778088501525642, -4.339421132688467, -5.033191165778924, -5.868259643411038, -6.845469713425038, -7.952269556067655, -9.163578206064793, -10.455625222600208, -11.815065958766796, -13.233670360692658, -14.700770753800787, -16.201802753721957, -17.721028412867273, -19.24397622650196, -20.7578625176293, -22.25093459699023, -23.71206799715304, -25.13092776664781, -26.498229817977705, -27.80572624692247, -29.04598678558873, -30.212241399326313, -31.298395945022435, -32.29912259370395, -33.20988922839306, -34.02689927022663, -34.747008014256174, -35.36767837679234, -35.8869781214504, -36.30358116787984, -36.616746040914094, -36.82627577350761, -36.93247852054354, -36.93613941945138, -36.83849938472355, -36.641231773795674, -36.34641352486754, -35.95649392788262, -35.474265162551994, -34.90283551784897, -34.24560355259012, -33.5062316256659, -32.688618869091066, -31.796874611657866, -30.83529289269154, -29.80832793740128, -28.720570202233866, -27.576722872537516, -26.381579003115558, -25.139999515103952, -23.856892098718305, -22.537190960930758, -21.185837382082628, -19.80776111625483, -18.407862690901943, -16.990996629862146, -15.561955593096286, -14.125455424819853, -12.686121114050353, -11.248473674829635, -9.816917944969694, -8.395731293994865, -6.98905322960652, -5.600875893348421, -4.235035434613563, -2.8952042480399176, -1.5848840563902655, -0.3073998204392846, 0.9341055428305299, 2.136675654052392, 3.297544400003913, 4.414138921010783, 5.484081881728854, 6.505193050056524, 7.475490209849322, 8.39318943430831, 9.256704747630971, 10.064647202628747, 10.815823402038673, 11.509233491554726, 12.144068653008677, 12.719708126289188, 13.235715788433186, 13.691836318082897, 14.087990973351253, 14.424273011013618, 14.700942774691775, 14.918422479281162, 15.077290718394002, 15.178276721129748, 15.222254384018155, 15.210236103444796, 15.143366433249803]}, {\"marker\": {\"color\": \"rgb(0, 255, 0)\", \"size\": 5, \"symbol\": [\"circle\", \"circle\", \"circle\", \"circle\", \"circle\", \"circle\", \"circle\", \"circle\", \"circle\", \"circle\", \"circle\", \"circle\", \"circle\", \"circle\", \"circle\", \"circle\", \"circle\", \"circle\", \"circle\", \"circle\", \"circle\", \"circle\", \"circle\", \"circle\", \"circle\", \"circle\", \"circle\", \"circle\", \"circle\", \"circle\", \"circle\", \"circle\", \"circle\", \"circle\", \"circle\", \"circle\", \"circle\", \"circle\", \"circle\", \"circle\", \"circle\", \"circle\", \"circle\", \"circle\", \"circle\", \"circle\", \"circle\", \"circle\", \"circle\", \"circle\", \"circle\", \"circle\", \"circle\", \"circle\", \"circle\", \"circle\", \"circle\", \"circle\", \"circle\", \"circle\", \"circle\", \"circle\", \"circle\", \"circle\", \"circle\", \"circle\", \"circle\", \"circle\", \"circle\", \"circle\", \"circle\", \"circle\", \"circle\", \"circle\", \"circle\", \"circle\", \"circle\", \"circle\", \"circle\", \"circle\", \"circle\", \"circle\", \"circle\", \"circle\", \"circle\", \"circle\", \"circle\", \"circle\", \"circle\", \"circle\", \"circle\", \"circle\", \"circle\", \"circle\", \"circle\", \"circle\", \"circle\", \"circle\", \"circle\", \"circle\", \"circle\", \"circle\", \"circle\", \"circle\", \"circle\", \"circle\", \"circle\", \"circle\", \"circle\"]}, \"mode\": \"markers\", \"name\": \"RF\", \"type\": \"scatter\", \"x\": [3.1750000000000003, 5.375005, 7.575010000000001, 9.775015, 11.97502, 14.175025, 16.37503, 18.575034999999996, 20.77504, 22.975044999999998, 25.175049999999995, 27.378018329909896, 29.59156141248308, 31.821465536439586, 34.06630847486922, 36.31833459508105, 38.56461646393725, 40.78682362126404, 42.960888315218135, 45.05740298893679, 47.04308945273774, 48.88812820247471, 50.575150590147096, 52.09541011732193, 53.43875243938008, 54.59233210422168, 55.546139267251434, 56.29740214387923, 56.85006188050823, 57.211088478918306, 57.38729932325302, 57.384566884248855, 57.208757128431884, 56.8667491102242, 56.366603951733666, 55.7170780540697, 54.927125408484855, 54.00574982591987, 52.96211727708659, 51.80566866263616, 50.54609642696478, 49.19322713238095, 47.75691146321892, 46.24696958836745, 44.67317205294395, 43.04521849561282, 41.372699494660665, 39.66505096612957, 37.931514380011215, 36.18110642525743, 34.42259391156664, 32.6644696498623, 30.914928762521484, 29.181846978714642, 27.47276190247519, 25.79485701481156, 24.154947844774938, 22.5594701244085, 21.014470002979653, 19.52559629036916, 18.098094548531417, 16.736802892674405, 15.446149489424435, 14.230151752862426, 13.092417140369708, 12.036145382405367, 11.064132018342173, 10.17877318744825, 9.38207164503673, 8.675643931112507, 8.060728577377954, 7.53819524388419, 7.108554710979027, 6.771969671926001, 6.528266262008079, 6.376946242272565, 6.317199753609182, 6.347918569459792, 6.467709787155416, 6.674909898919651, 6.967599178795204, 7.343616320616654, 7.800573267150736, 8.335870176817798, 8.946710477447338, 9.630115956804858, 10.382941840441188, 11.201891810348446, 12.083532921719899, 13.024310378044571, 14.020562126612681, 15.068533238281855, 16.16439003776181, 17.304233953448215, 18.48411505836962, 19.700045275937896, 20.948011226201324, 22.22398669045189, 23.523944674283495, 24.843869051346072, 26.179765772019355, 27.527673623116073, 28.88367452660171, 30.243903367176497, 31.60455734034981, 32.96190481432661, 34.31229370063705, 35.65215933000006, 36.97803183141174], \"y\": [2.5625, 2.5625, 2.5625, 2.5625, 2.5625, 2.5625, 2.5625, 2.5625, 2.5625, 2.5625, 2.5625, 2.550478248930564, 2.492740835135181, 2.354347487657471, 2.116993015745083, 1.7713245178928405, 1.3052378726249652, 0.7006294068362653, -0.06266586102550686, -1.0014889940896539, -2.1247890304286545, -3.4256245289544704, -4.877640978437395, -6.448935742902901, -8.116856079413166, -9.86716777490234, -11.686354339545632, -13.55758956508684, -15.461809505342952, -17.380406056326233, -19.296715738790105, -21.195966204850567, -23.064683517023294, -24.890349132453967, -26.661378448501818, -28.36716434093535, -29.998048259843223, -31.54526664117485, -33.00094050852766, -34.35809429856838, -35.61065017936678, -36.75338105672591, -37.7818530579025, -38.69239053190873, -39.48206429260547, -40.14868043931081, -40.690753096192836, -41.10746438018898, -41.39862496961331, -41.56464270476124, -41.60649602837104, -41.52570545402303, -41.324300430785044, -41.004784105932856, -40.57009940653402, -40.02359732682656, -39.369006037421734, -38.61039944855258, -37.75216523649036, -36.798973233364755, -35.75574483424704, -34.62762338085614, -33.41994517632952, -32.138210995619644, -30.788058262289812, -29.375234126112673, -27.905569532428437, -26.38495424463362, -24.819312780156363, -23.21458128897485, -21.57668544054279, -19.911519363529557, -18.22492564564766, -16.522676387506166, -14.810455313353378, -13.093840949923889, -11.378290880792397, -9.669127073930527, -7.971522274017633, -6.2904874498586505, -4.630860286750359, -2.997294711197442, -1.3942514320791322, 0.17401052011535242, 1.7034412760378586, 3.190206654018251, 4.630693754160406, 6.021515645441375, 7.359515172402081, 8.64176790902342, 9.865584288588774, 11.028510939564645, 12.128331258416354, 13.163065250774237, 14.130968672772235, 15.030531504896123, 15.860475791185298, 16.619752876914273, 17.307540077909252, 17.923236814592315, 18.466460243808534, 18.937040421428705, 19.335015028525063, 19.660623693567317, 19.91430194266135, 20.096674809414935, 20.208550135547064, 20.25091159281094, 20.224911456164257]}, {\"marker\": {\"color\": \"rgb(153, 0, 204)\", \"size\": 5, \"symbol\": [\"circle\", \"circle\", \"circle\", \"circle\", \"circle\", \"circle\", \"circle\", \"circle\", \"circle\", \"circle\", \"circle\", \"circle\", \"circle\", \"circle\", \"circle\", \"circle\", \"circle\", \"circle\", \"circle\", \"circle\", \"circle\", \"circle\", \"circle\", \"circle\", \"circle\", \"circle\", \"circle\", \"circle\", \"circle\", \"circle\", \"circle\", \"circle\", \"circle\", \"circle\", \"circle\", \"circle\", \"circle\", \"circle\", \"circle\", \"circle\", \"circle\", \"circle\", \"circle\", \"circle\", \"circle\", \"circle\", \"circle\", \"circle\", \"circle\", \"circle\", \"circle\", \"circle\", \"circle\", \"circle\", \"circle\", \"circle\", \"circle\", \"circle\", \"circle\", \"circle\", \"circle\", \"circle\", \"circle\", \"circle\", \"circle\", \"circle\", \"circle\", \"circle\", \"circle\", \"circle\", \"circle\", \"circle\", \"circle\", \"circle\", \"circle\", \"circle\", \"circle\", \"circle\", \"circle\", \"circle\", \"circle\", \"circle\", \"circle\", \"circle\", \"circle\", \"circle\", \"circle\", \"circle\", \"circle\", \"circle\", \"circle\", \"circle\", \"circle\", \"circle\", \"circle\", \"circle\", \"circle\", \"circle\", \"circle\", \"circle\", \"circle\", \"circle\", \"circle\", \"circle\", \"circle\", \"circle\", \"circle\", \"circle\", \"circle\"]}, \"mode\": \"markers\", \"name\": \"RR\", \"type\": \"scatter\", \"x\": [-5.658333333333334, -3.458328333333334, -1.2583233333333341, 0.941681666666665, 3.141686666666666, 5.341691666666665, 7.541696666666664, 9.741701666666664, 11.941706666666665, 14.141711666666662, 16.34171666666666, 18.544692144918674, 20.758469679140333, 22.990284203882638, 25.24273712319593, 27.51493715375919, 29.803110843450025, 32.09990724419702, 34.39380405011468, 36.6691478860414, 38.90663169017486, 41.08610587932028, 43.18800675065922, 45.189571339307065, 47.064602078217725, 48.78990488318471, 50.35055975650271, 51.73989648541871, 52.956123600872814, 53.999081356339005, 54.868899997123684, 55.56624737909756, 56.09293997568794, 56.45209325291449, 56.64780321735246, 56.684759972205725, 56.56807689256577, 56.30332178747996, 55.89658432963219, 55.35446542223989, 54.68399335059427, 53.89252907333905, 52.98770129454431, 51.977367774421715, 50.86958073818683, 49.67254406913611, 48.39456531351508, 47.04401019065355, 45.62926273125342, 44.15868932351508, 42.640604386796475, 41.08323729383141, 39.49470131581019, 37.88296500917523, 36.25582580267184, 34.62088549857782, 32.98552773733024, 31.35689759149773, 29.741883254106895, 28.147099605831436, 26.578873504708373, 25.04323081147465, 23.545885217134018, 22.092228843052762, 20.687324481385502, 19.3358993460952, 18.042340278070203, 16.810690391879195, 15.644647127895528, 14.547561627182786, 13.522439332856488, 12.571941744188997, 11.698389273100092, 10.903765152328429, 10.189720329099472, 9.557579269264288, 9.008346602344247, 8.542714547885488, 8.161071066953433, 7.863508679246227, 7.649833883291148, 7.5195771189044205, 7.4720032154925216, 7.506122272772407, 7.620700921024952, 7.814273908083215, 8.085155961732433, 8.431453878809538, 8.851078794705879, 9.341758588605693, 9.901050381143055, 10.52635308288069, 11.21491995413172, 11.963871138758423, 12.770206136454863, 13.630816179772237, 14.542496483978207, 15.501958339781016, 16.505841020877597, 17.550723480126585, 18.633135809930383, 19.749570444189253, 20.896493080970348, 22.07035330678085, 23.26759490502723, 24.484665832891977, 25.7180278524734, 26.964165803612886, 28.219596507364066], \"y\": [2.5625, 2.5625, 2.5625, 2.5625, 2.5625, 2.5625, 2.5625, 2.5625, 2.5625, 2.5625, 2.5625, 2.5617160123296285, 2.5580723599129285, 2.5493194068546905, 2.5321633177998994, 2.4979408319854564, 2.429425152373563, 2.3022728239621255, 2.0897386019866437, 1.7670763575910964, 1.3140818388841424, 0.7163828885639614, -0.03430703656490275, -0.9410170298277079, -2.0014668889305516, -3.206866271040298, -4.542564636225283, -5.990759320468021, -7.533062917630126, -9.151749542515635, -10.82999012542994, -12.551806791988948, -14.302107990420389, -16.066753589945428, -17.832522081406854, -19.58699523760423, -21.318471311358326, -23.01596767471631, -24.669273154672126, -26.26897695878378, -27.806447028038935, -29.273786211716903, -30.663804482746478, -31.970016367445425, -33.18664554694412, -34.308617638252755, -35.33153876946716, -36.25167005375894, -37.0659066428898, -37.77176136213992, -38.3673477442089, -38.851358966629036, -39.2230434946605, -39.48218015290649, -39.62905408199321, -39.66443304474321, -39.58954297078181, -39.406042420671184, -39.115996502383034, -38.721850857981245, -38.22640589441776, -37.63279109789851, -36.944439312945825, -36.16506108044799, -35.29861923174386, -34.34930387304751, -33.32150779478347, -32.21980231218007, -31.048913577902045, -29.813699438269836, -28.519126898795637, -27.170250240786743, -25.772189816864717, -24.33011155444184, -22.849207199831636, -21.334675332763243, -19.791703174048987, -18.225449203845002, -16.641026605515403, -15.04348754794982, -13.437808315764675, -11.828875293134274, -10.22147180425355, -8.620265811312384, -7.0297984684128965, -5.4544735269874165, -3.8985475856883163, -2.3661211758133587, -0.8611306717228097, 0.6126589861180689, 2.0516607698489366, 3.4524712608368704, 4.811875581722306, 6.126851582525076, 7.394573300628412, 8.612413715697022, 9.77794682167433, 10.888949038834072, 11.94339998952336, 12.939482661869755, 13.87558298634686, 14.750288850610787, 15.562388578379242, 16.31086889836452, 16.994912429458644, 17.613894708515346, 18.167380787142644, 18.655121423887604, 19.077048898080037]}, {\"marker\": {\"color\": \"rgb(255, 102, 0)\", \"size\": 5, \"symbol\": [\"circle\", \"circle\", \"circle\", \"circle\", \"circle\", \"circle\", \"circle\", \"circle\", \"circle\", \"circle\", \"circle\", \"circle\", \"circle\", \"circle\", \"circle\", \"circle\", \"circle\", \"circle\", \"circle\", \"circle\", \"circle\", \"circle\", \"circle\", \"circle\", \"circle\", \"circle\", \"circle\", \"circle\", \"circle\", \"circle\", \"circle\", \"circle\", \"circle\", \"circle\", \"circle\", \"circle\", \"circle\", \"circle\", \"circle\", \"circle\", \"circle\", \"circle\", \"circle\", \"circle\", \"circle\", \"circle\", \"circle\", \"circle\", \"circle\", \"circle\", \"circle\", \"circle\", \"circle\", \"circle\", \"circle\", \"circle\", \"circle\", \"circle\", \"circle\", \"circle\", \"circle\", \"circle\", \"circle\", \"circle\", \"circle\", \"circle\", \"circle\", \"circle\", \"circle\", \"circle\", \"circle\", \"circle\", \"circle\", \"circle\", \"circle\", \"circle\", \"circle\", \"circle\", \"circle\", \"circle\", \"circle\", \"circle\", \"circle\", \"circle\", \"circle\", \"circle\", \"circle\", \"circle\", \"circle\", \"circle\", \"circle\", \"circle\", \"circle\", \"circle\", \"circle\", \"circle\", \"circle\", \"circle\", \"circle\", \"circle\", \"circle\", \"circle\", \"circle\", \"circle\", \"circle\", \"circle\", \"circle\", \"circle\", \"circle\"]}, \"mode\": \"markers\", \"name\": \"LR\", \"type\": \"scatter\", \"x\": [-5.658333333333334, -3.458328333333334, -1.2583233333333341, 0.941681666666665, 3.141686666666666, 5.341691666666665, 7.541696666666664, 9.741701666666664, 11.941706666666665, 14.141711666666662, 16.34171666666666, 18.5381721218145, 20.72056506806645, 22.877163703593688, 25.00186001398488, 27.09336259416772, 29.150870110388336, 31.170651865392866, 33.14500334751801, 35.06285761124549, 36.9114377424132, 38.682960066326096, 40.37795922778037, 41.99393925577759, 43.51652250072073, 44.925673350283624, 46.20581384372722, 47.34970723972006, 48.35595459007716, 49.22490800162814, 49.95660164597604, 50.5510039461637, 51.00899285412116, 51.3327430089119, 51.525400702481335, 51.590605256593804, 51.53228460641651, 51.35471908524222, 51.0626452516877, 50.66125111661015, 50.15608303166349, 49.552952818923444, 48.85789009292077, 48.07712238654914, 47.21705005084558, 46.284205745880726, 45.28520983149971, 44.22673329371537, 43.11546860772988, 41.95810250680553, 40.76128722192882, 39.53161173746603, 38.2755758292851, 36.999567432655205, 35.70984195871656, 34.4125024481238, 33.11348076942122, 31.818520636642017, 30.533162714978587, 29.262731435207982, 28.01232308207157, 26.786795100136025, 25.590756815265177, 24.428561675288076, 23.304300892908365, 22.22179830304324, 21.184606345379965, 20.196003185785866, 19.258990986964957, 18.37629527040582, 17.550365273257903, 16.7833752248618, 16.077226504513764, 15.433550650126012, 14.853713168895815, 14.33881808572297, 13.889713168714813, 13.506995783637752, 13.191019334756383, 12.941900245591572, 12.759525428426812, 12.643560192386639, 12.593456544631454, 12.608461842421518, 12.687627753890247, 12.829819484798765, 13.033725229663531, 13.297865808122424, 13.620604449551925, 14.000156690102664, 14.434600347204377, 14.921885537991617, 15.459844709949493, 16.04620265382751, 16.678586470293023, 17.354535463128318, 18.071510933269945, 18.826905849610565, 19.61805437404488, 20.442241219677882, 21.29671082251428, 22.178676308390216, 23.085328238366277, 24.01384311720511, 24.96139165089484, 25.92514674048938, 26.902291200840114, 27.890025194073125, 28.885573368894065], \"y\": [-2.5625, -2.5625, -2.5625, -2.5625, -2.5625, -2.5625, -2.5625, -2.5625, -2.5625, -2.5625, -2.5625, -2.5632798402832027, -2.5667874665076282, -2.574432026657124, -2.5871728909539393, -2.6096907023663762, -2.653901221777044, -2.737777715562607, -2.8807867027667737, -3.0996942917302874, -3.4065988441122412, -3.8102621385492235, -4.3202442641923025, -4.947706509525014, -5.699676768284183, -6.573368856830616, -7.556981050480436, -8.634972509103136, -9.792281825154447, -11.015319712691358, -12.29113690426913, -13.606775184128612, -14.94949247055013, -16.307332224139273, -17.66937345088274, -19.025557143591353, -20.366409837103834, -21.682942432867772, -22.9667285911669, -24.210005253919356, -25.405686077065223, -26.547304425217625, -27.628959439100143, -28.64530421232903, -29.59155937578905, -30.46351836682179, -31.257531714188417, -31.970481447077574, -32.59976019382003, -33.14325807683006, -33.59935110056141, -33.96688528640168, -34.245156588743, -34.43388997485625, -34.533219838011185, -34.54367123576562, -34.46614048595019, -34.301874597784504, -34.05245013498374, -33.71975223627435, -33.30595395286226, -32.81349565444365, -32.24506433885018, -31.603572957365863, -30.8921399725696, -30.11406926203879, -29.27283036107334, -28.372039028477214, -27.41543817982831, -26.40687926554982, -25.35030414915479, -24.24972750711933, -23.109219764313345, -21.932890591755527, -20.724873000528607, -19.48930805766899, -18.230330238226284, -16.95205342390934, -15.65855756110429, -14.35387599143959, -13.041983463627878, -11.72678482997675, -10.412104428564685, -9.10167615186702, -7.799134201620226, -6.508004526953276, -5.231696939844809, -3.973497900243951, -2.7365639623960374, -1.523915872848827, -0.3384333088905167, 0.8171497555805349, 1.9402490709369242, 3.0284335343795843, 4.079428029894849, 5.0911157023556255, 6.0615396834977116, 6.988904288208988, 7.8715757000472975, 8.708082165360336, 9.49711371588958, 10.2375214401957, 10.92831632454595, 11.568667684078367, 12.157901205191296, 12.695496620230163, 13.181085035613735, 13.61444593452146, 13.995503875165582]}],\n",
       "                        {\"annotations\": [{\"arrowcolor\": \"rgb(255, 0, 0)\", \"arrowhead\": 1, \"arrowsize\": 2.5, \"arrowwidth\": 1.7, \"ax\": 35.324144896286604, \"axref\": \"x\", \"ay\": 17.326292156212816, \"ayref\": \"y\", \"showarrow\": true, \"text\": \"\", \"x\": 46.813057775880345, \"xref\": \"x\", \"y\": 15.732727439152404, \"yref\": \"y\"}, {\"arrowcolor\": \"rgb(0, 0, 0)\", \"arrowhead\": 1, \"arrowsize\": 2, \"arrowwidth\": 1.5, \"ax\": 35.324144896286604, \"axref\": \"x\", \"ay\": 17.326292156212816, \"ayref\": \"y\", \"showarrow\": true, \"text\": \"\", \"x\": 43.14125003370502, \"xref\": \"x\", \"y\": 17.946456151989533, \"yref\": \"y\"}, {\"arrowcolor\": \"rgb(0, 0, 255)\", \"arrowhead\": 1, \"arrowsize\": 2, \"arrowwidth\": 1.5, \"ax\": 35.324144896286604, \"axref\": \"x\", \"ay\": 17.326292156212816, \"ayref\": \"y\", \"showarrow\": true, \"text\": \"\", \"x\": 34.974849553288024, \"xref\": \"x\", \"y\": 21.72912501788312, \"yref\": \"y\"}], \"autosize\": false, \"font\": {\"color\": \"black\", \"family\": \"Arial\", \"size\": 16}, \"height\": 700, \"showlegend\": false, \"template\": {\"data\": {\"bar\": [{\"error_x\": {\"color\": \"#2a3f5f\"}, \"error_y\": {\"color\": \"#2a3f5f\"}, \"marker\": {\"line\": {\"color\": \"white\", \"width\": 0.5}}, \"type\": \"bar\"}], \"barpolar\": [{\"marker\": {\"line\": {\"color\": \"white\", \"width\": 0.5}}, \"type\": \"barpolar\"}], \"carpet\": [{\"aaxis\": {\"endlinecolor\": \"#2a3f5f\", \"gridcolor\": \"#C8D4E3\", \"linecolor\": \"#C8D4E3\", \"minorgridcolor\": \"#C8D4E3\", \"startlinecolor\": \"#2a3f5f\"}, \"baxis\": {\"endlinecolor\": \"#2a3f5f\", \"gridcolor\": \"#C8D4E3\", \"linecolor\": \"#C8D4E3\", \"minorgridcolor\": \"#C8D4E3\", \"startlinecolor\": \"#2a3f5f\"}, \"type\": \"carpet\"}], \"choropleth\": [{\"colorbar\": {\"outlinewidth\": 0, \"ticks\": \"\"}, \"type\": \"choropleth\"}], \"contour\": [{\"colorbar\": {\"outlinewidth\": 0, \"ticks\": \"\"}, \"colorscale\": [[0.0, \"#0d0887\"], [0.1111111111111111, \"#46039f\"], [0.2222222222222222, \"#7201a8\"], [0.3333333333333333, \"#9c179e\"], [0.4444444444444444, \"#bd3786\"], [0.5555555555555556, \"#d8576b\"], [0.6666666666666666, \"#ed7953\"], [0.7777777777777778, \"#fb9f3a\"], [0.8888888888888888, \"#fdca26\"], [1.0, \"#f0f921\"]], \"type\": \"contour\"}], \"contourcarpet\": [{\"colorbar\": {\"outlinewidth\": 0, \"ticks\": \"\"}, \"type\": \"contourcarpet\"}], \"heatmap\": [{\"colorbar\": {\"outlinewidth\": 0, \"ticks\": \"\"}, \"colorscale\": [[0.0, \"#0d0887\"], [0.1111111111111111, \"#46039f\"], [0.2222222222222222, \"#7201a8\"], [0.3333333333333333, \"#9c179e\"], [0.4444444444444444, \"#bd3786\"], [0.5555555555555556, \"#d8576b\"], [0.6666666666666666, \"#ed7953\"], [0.7777777777777778, \"#fb9f3a\"], [0.8888888888888888, \"#fdca26\"], [1.0, \"#f0f921\"]], \"type\": \"heatmap\"}], \"heatmapgl\": [{\"colorbar\": {\"outlinewidth\": 0, \"ticks\": \"\"}, \"colorscale\": [[0.0, \"#0d0887\"], [0.1111111111111111, \"#46039f\"], [0.2222222222222222, \"#7201a8\"], [0.3333333333333333, \"#9c179e\"], [0.4444444444444444, \"#bd3786\"], [0.5555555555555556, \"#d8576b\"], [0.6666666666666666, \"#ed7953\"], [0.7777777777777778, \"#fb9f3a\"], [0.8888888888888888, \"#fdca26\"], [1.0, \"#f0f921\"]], \"type\": \"heatmapgl\"}], \"histogram\": [{\"marker\": {\"colorbar\": {\"outlinewidth\": 0, \"ticks\": \"\"}}, \"type\": \"histogram\"}], \"histogram2d\": [{\"colorbar\": {\"outlinewidth\": 0, \"ticks\": \"\"}, \"colorscale\": [[0.0, \"#0d0887\"], [0.1111111111111111, \"#46039f\"], [0.2222222222222222, \"#7201a8\"], [0.3333333333333333, \"#9c179e\"], [0.4444444444444444, \"#bd3786\"], [0.5555555555555556, \"#d8576b\"], [0.6666666666666666, \"#ed7953\"], [0.7777777777777778, \"#fb9f3a\"], [0.8888888888888888, \"#fdca26\"], [1.0, \"#f0f921\"]], \"type\": \"histogram2d\"}], \"histogram2dcontour\": [{\"colorbar\": {\"outlinewidth\": 0, \"ticks\": \"\"}, \"colorscale\": [[0.0, \"#0d0887\"], [0.1111111111111111, \"#46039f\"], [0.2222222222222222, \"#7201a8\"], [0.3333333333333333, \"#9c179e\"], [0.4444444444444444, \"#bd3786\"], [0.5555555555555556, \"#d8576b\"], [0.6666666666666666, \"#ed7953\"], [0.7777777777777778, \"#fb9f3a\"], [0.8888888888888888, \"#fdca26\"], [1.0, \"#f0f921\"]], \"type\": \"histogram2dcontour\"}], \"mesh3d\": [{\"colorbar\": {\"outlinewidth\": 0, \"ticks\": \"\"}, \"type\": \"mesh3d\"}], \"parcoords\": [{\"line\": {\"colorbar\": {\"outlinewidth\": 0, \"ticks\": \"\"}}, \"type\": \"parcoords\"}], \"pie\": [{\"automargin\": true, \"type\": \"pie\"}], \"scatter\": [{\"marker\": {\"colorbar\": {\"outlinewidth\": 0, \"ticks\": \"\"}}, \"type\": \"scatter\"}], \"scatter3d\": [{\"line\": {\"colorbar\": {\"outlinewidth\": 0, \"ticks\": \"\"}}, \"marker\": {\"colorbar\": {\"outlinewidth\": 0, \"ticks\": \"\"}}, \"type\": \"scatter3d\"}], \"scattercarpet\": [{\"marker\": {\"colorbar\": {\"outlinewidth\": 0, \"ticks\": \"\"}}, \"type\": \"scattercarpet\"}], \"scattergeo\": [{\"marker\": {\"colorbar\": {\"outlinewidth\": 0, \"ticks\": \"\"}}, \"type\": \"scattergeo\"}], \"scattergl\": [{\"marker\": {\"colorbar\": {\"outlinewidth\": 0, \"ticks\": \"\"}}, \"type\": \"scattergl\"}], \"scattermapbox\": [{\"marker\": {\"colorbar\": {\"outlinewidth\": 0, \"ticks\": \"\"}}, \"type\": \"scattermapbox\"}], \"scatterpolar\": [{\"marker\": {\"colorbar\": {\"outlinewidth\": 0, \"ticks\": \"\"}}, \"type\": \"scatterpolar\"}], \"scatterpolargl\": [{\"marker\": {\"colorbar\": {\"outlinewidth\": 0, \"ticks\": \"\"}}, \"type\": \"scatterpolargl\"}], \"scatterternary\": [{\"marker\": {\"colorbar\": {\"outlinewidth\": 0, \"ticks\": \"\"}}, \"type\": \"scatterternary\"}], \"surface\": [{\"colorbar\": {\"outlinewidth\": 0, \"ticks\": \"\"}, \"colorscale\": [[0.0, \"#0d0887\"], [0.1111111111111111, \"#46039f\"], [0.2222222222222222, \"#7201a8\"], [0.3333333333333333, \"#9c179e\"], [0.4444444444444444, \"#bd3786\"], [0.5555555555555556, \"#d8576b\"], [0.6666666666666666, \"#ed7953\"], [0.7777777777777778, \"#fb9f3a\"], [0.8888888888888888, \"#fdca26\"], [1.0, \"#f0f921\"]], \"type\": \"surface\"}], \"table\": [{\"cells\": {\"fill\": {\"color\": \"#EBF0F8\"}, \"line\": {\"color\": \"white\"}}, \"header\": {\"fill\": {\"color\": \"#C8D4E3\"}, \"line\": {\"color\": \"white\"}}, \"type\": \"table\"}]}, \"layout\": {\"annotationdefaults\": {\"arrowcolor\": \"#2a3f5f\", \"arrowhead\": 0, \"arrowwidth\": 1}, \"coloraxis\": {\"colorbar\": {\"outlinewidth\": 0, \"ticks\": \"\"}}, \"colorscale\": {\"diverging\": [[0, \"#8e0152\"], [0.1, \"#c51b7d\"], [0.2, \"#de77ae\"], [0.3, \"#f1b6da\"], [0.4, \"#fde0ef\"], [0.5, \"#f7f7f7\"], [0.6, \"#e6f5d0\"], [0.7, \"#b8e186\"], [0.8, \"#7fbc41\"], [0.9, \"#4d9221\"], [1, \"#276419\"]], \"sequential\": [[0.0, \"#0d0887\"], [0.1111111111111111, \"#46039f\"], [0.2222222222222222, \"#7201a8\"], [0.3333333333333333, \"#9c179e\"], [0.4444444444444444, \"#bd3786\"], [0.5555555555555556, \"#d8576b\"], [0.6666666666666666, \"#ed7953\"], [0.7777777777777778, \"#fb9f3a\"], [0.8888888888888888, \"#fdca26\"], [1.0, \"#f0f921\"]], \"sequentialminus\": [[0.0, \"#0d0887\"], [0.1111111111111111, \"#46039f\"], [0.2222222222222222, \"#7201a8\"], [0.3333333333333333, \"#9c179e\"], [0.4444444444444444, \"#bd3786\"], [0.5555555555555556, \"#d8576b\"], [0.6666666666666666, \"#ed7953\"], [0.7777777777777778, \"#fb9f3a\"], [0.8888888888888888, \"#fdca26\"], [1.0, \"#f0f921\"]]}, \"colorway\": [\"#636efa\", \"#EF553B\", \"#00cc96\", \"#ab63fa\", \"#FFA15A\", \"#19d3f3\", \"#FF6692\", \"#B6E880\", \"#FF97FF\", \"#FECB52\"], \"font\": {\"color\": \"#2a3f5f\"}, \"geo\": {\"bgcolor\": \"white\", \"lakecolor\": \"white\", \"landcolor\": \"white\", \"showlakes\": true, \"showland\": true, \"subunitcolor\": \"#C8D4E3\"}, \"hoverlabel\": {\"align\": \"left\"}, \"hovermode\": \"closest\", \"mapbox\": {\"style\": \"light\"}, \"paper_bgcolor\": \"white\", \"plot_bgcolor\": \"white\", \"polar\": {\"angularaxis\": {\"gridcolor\": \"#EBF0F8\", \"linecolor\": \"#EBF0F8\", \"ticks\": \"\"}, \"bgcolor\": \"white\", \"radialaxis\": {\"gridcolor\": \"#EBF0F8\", \"linecolor\": \"#EBF0F8\", \"ticks\": \"\"}}, \"scene\": {\"xaxis\": {\"backgroundcolor\": \"white\", \"gridcolor\": \"#DFE8F3\", \"gridwidth\": 2, \"linecolor\": \"#EBF0F8\", \"showbackground\": true, \"ticks\": \"\", \"zerolinecolor\": \"#EBF0F8\"}, \"yaxis\": {\"backgroundcolor\": \"white\", \"gridcolor\": \"#DFE8F3\", \"gridwidth\": 2, \"linecolor\": \"#EBF0F8\", \"showbackground\": true, \"ticks\": \"\", \"zerolinecolor\": \"#EBF0F8\"}, \"zaxis\": {\"backgroundcolor\": \"white\", \"gridcolor\": \"#DFE8F3\", \"gridwidth\": 2, \"linecolor\": \"#EBF0F8\", \"showbackground\": true, \"ticks\": \"\", \"zerolinecolor\": \"#EBF0F8\"}}, \"shapedefaults\": {\"line\": {\"color\": \"#2a3f5f\"}}, \"ternary\": {\"aaxis\": {\"gridcolor\": \"#DFE8F3\", \"linecolor\": \"#A2B1C6\", \"ticks\": \"\"}, \"baxis\": {\"gridcolor\": \"#DFE8F3\", \"linecolor\": \"#A2B1C6\", \"ticks\": \"\"}, \"bgcolor\": \"white\", \"caxis\": {\"gridcolor\": \"#DFE8F3\", \"linecolor\": \"#A2B1C6\", \"ticks\": \"\"}}, \"title\": {\"x\": 0.05}, \"xaxis\": {\"automargin\": true, \"gridcolor\": \"#EBF0F8\", \"linecolor\": \"#EBF0F8\", \"ticks\": \"\", \"title\": {\"standoff\": 15}, \"zerolinecolor\": \"#EBF0F8\", \"zerolinewidth\": 2}, \"yaxis\": {\"automargin\": true, \"gridcolor\": \"#EBF0F8\", \"linecolor\": \"#EBF0F8\", \"ticks\": \"\", \"title\": {\"standoff\": 15}, \"zerolinecolor\": \"#EBF0F8\", \"zerolinewidth\": 2}}}, \"title\": {\"text\": \"Vehicle Motion in Global Reference Frame\"}, \"width\": 1200, \"xaxis\": {\"linecolor\": \"black\", \"linewidth\": 1, \"showgrid\": false, \"showline\": true, \"tickcolor\": \"black\", \"ticklen\": 10, \"ticks\": \"outside\", \"tickwidth\": 1, \"title\": {\"text\": \"x-axis - Forward (ft)\"}, \"zeroline\": false}, \"yaxis\": {\"autorange\": \"reversed\", \"linecolor\": \"black\", \"linewidth\": 1, \"scaleanchor\": \"x\", \"scaleratio\": 1.7142857142857142, \"showgrid\": false, \"showline\": true, \"tickcolor\": \"black\", \"ticklen\": 10, \"ticks\": \"outside\", \"tickwidth\": 1, \"title\": {\"text\": \"y-axis - Rightward (ft)\"}, \"zeroline\": false}},\n",
       "                        {\"responsive\": true}\n",
       "                    ).then(function(){\n",
       "                            \n",
       "var gd = document.getElementById('b4d77fc4-a964-48ad-a83f-60d94b70a1ee');\n",
       "var x = new MutationObserver(function (mutations, observer) {{\n",
       "        var display = window.getComputedStyle(gd).display;\n",
       "        if (!display || display === 'none') {{\n",
       "            console.log([gd, 'removed!']);\n",
       "            Plotly.purge(gd);\n",
       "            observer.disconnect();\n",
       "        }}\n",
       "}});\n",
       "\n",
       "// Listen for the removal of the full notebook cells\n",
       "var notebookContainer = gd.closest('#notebook-container');\n",
       "if (notebookContainer) {{\n",
       "    x.observe(notebookContainer, {childList: true});\n",
       "}}\n",
       "\n",
       "// Listen for the clearing of the current output cell\n",
       "var outputEl = gd.closest('.output');\n",
       "if (outputEl) {{\n",
       "    x.observe(outputEl, {childList: true});\n",
       "}}\n",
       "\n",
       "                        })\n",
       "                };\n",
       "                });\n",
       "            </script>\n",
       "        </div>"
      ]
     },
     "metadata": {},
     "output_type": "display_data"
    }
   ],
   "source": [
    "run.global_motion(109)"
   ]
  },
  {
   "cell_type": "markdown",
   "metadata": {},
   "source": [
    "### Compare to PC Crash Model"
   ]
  },
  {
   "cell_type": "code",
   "execution_count": 69,
   "metadata": {},
   "outputs": [],
   "source": [
    "from pycrash.visualization.kinematics_compare import compare_kinematics"
   ]
  },
  {
   "cell_type": "code",
   "execution_count": 70,
   "metadata": {},
   "outputs": [],
   "source": [
    "# calculate vehicle slip angle for pycrash model - need to add\n",
    "phi_rad = []\n",
    "phi_deg = []\n",
    "for i in range(len(run.veh.model.t)):\n",
    "    phi_rad.append(math.atan2(run.veh.model.vy[i], run.veh.model.vx[i]) * -1) \n",
    "    phi_deg.append(math.atan2(run.veh.model.vy[i], run.veh.model.vx[i]) * (180 / math.pi)  * -1 )\n",
    "    \n",
    "run.veh.model['phi_rad'] = phi_rad\n",
    "run.veh.model['phi_deg'] = phi_deg"
   ]
  },
  {
   "cell_type": "code",
   "execution_count": 71,
   "metadata": {},
   "outputs": [
    {
     "data": {
      "application/vnd.plotly.v1+json": {
       "config": {
        "plotlyServerURL": "https://plot.ly"
       },
       "data": [
        {
         "line": {
          "color": "rgb(0, 255, 0)",
          "width": 2
         },
         "mode": "lines",
         "name": "pycrash - X",
         "type": "scatter",
         "x": [
          0,
          0.1,
          0.2,
          0.3,
          0.4,
          0.5,
          0.6,
          0.7,
          0.8,
          0.9,
          1,
          1.1,
          1.2,
          1.3,
          1.4,
          1.5,
          1.6,
          1.7,
          1.8,
          1.9,
          2,
          2.1,
          2.2,
          2.3,
          2.4,
          2.5,
          2.6,
          2.7,
          2.8,
          2.9,
          3,
          3.1,
          3.2,
          3.3,
          3.4,
          3.5,
          3.6,
          3.7,
          3.8,
          3.9,
          4,
          4.1,
          4.2,
          4.3,
          4.4,
          4.5,
          4.6,
          4.7,
          4.8,
          4.9,
          5,
          5.1,
          5.2,
          5.3,
          5.4,
          5.5,
          5.6,
          5.7,
          5.8,
          5.9,
          6,
          6.1,
          6.2,
          6.3,
          6.4,
          6.5,
          6.6,
          6.7,
          6.8,
          6.9,
          7,
          7.1,
          7.2,
          7.3,
          7.4,
          7.5,
          7.6,
          7.7,
          7.8,
          7.9,
          8,
          8.1,
          8.2,
          8.3,
          8.4,
          8.5,
          8.6,
          8.7,
          8.8,
          8.9,
          9,
          9.1,
          9.2,
          9.3,
          9.4,
          9.5,
          9.6,
          9.7,
          9.8,
          9.9,
          10,
          10.1,
          10.2,
          10.3,
          10.4,
          10.5,
          10.6,
          10.7,
          10.8,
          10.9
         ],
         "xaxis": "x",
         "y": [
          0,
          2.200005,
          4.40001,
          6.600014999999999,
          8.80002,
          11.000024999999999,
          13.200029999999998,
          15.400034999999997,
          17.60004,
          19.800044999999997,
          22.000049999999995,
          24.19976088771474,
          26.397695946188037,
          28.590678788460963,
          30.774378708011312,
          32.943307291564906,
          35.089313416835054,
          37.19982315859542,
          39.257186921462804,
          41.239234083422666,
          43.120973226464024,
          44.882243498692866,
          46.51493644866533,
          48.01540108081789,
          49.37362653025153,
          50.574626930964456,
          51.60629858105683,
          52.46418520416815,
          53.15036371044899,
          53.66949735467352,
          54.025951899325165,
          54.223379383383204,
          54.26572098727544,
          54.158032590454035,
          53.906475260525234,
          53.51781844231075,
          52.999042959216666,
          52.357273868531564,
          51.59989485794441,
          50.73461959039584,
          49.76944195420018,
          48.71252772168733,
          47.572129377251464,
          46.35654661979595,
          45.07410643481817,
          43.73313522409114,
          42.34191880741103,
          40.90866106911674,
          39.441449508648766,
          37.948227247314136,
          36.43676739617297,
          34.914647883332655,
          33.38922766341271,
          31.867625520271126,
          30.35670143896446,
          28.86303987856091,
          27.39293468069172,
          25.952375859207997,
          24.54703845858482,
          23.182273302407552,
          21.863099320518128,
          20.59419733612103,
          19.379905394393177,
          18.224215689133402,
          17.130772984741533,
          16.102874351601866,
          15.143470096295523,
          14.255165862597991,
          13.440225894353711,
          12.70057739631155,
          12.037815885161042,
          11.453211433858451,
          10.94771574948598,
          10.521970041610949,
          10.1763136248891,
          9.910793181901761,
          9.725172611669993,
          9.618943402222897,
          9.591335475399386,
          9.641328451247443,
          9.767663274394126,
          9.968854144289498,
          10.243200696171353,
          10.588800384810943,
          11.003561025014958,
          11.48521344274476,
          12.031324191587835,
          12.63930829206496,
          13.306441954433165,
          14.029875247872102,
          14.806644680375486,
          15.63368565526388,
          16.507844772403654,
          17.425891944570672,
          18.384532301468397,
          19.380417855692244,
          20.410158906708507,
          21.470335160833077,
          22.557506547142943,
          23.668223711089055,
          24.799038169296306,
          25.9465121107155,
          27.107227830973684,
          28.27779678841623,
          29.454868271908236,
          30.635137671968145,
          31.815354348263472,
          32.99232908791554,
          34.16294115041998,
          35.324144896286604
         ],
         "yaxis": "y"
        },
        {
         "line": {
          "color": "rgb(0, 255, 0)",
          "dash": "dash",
          "width": 2
         },
         "mode": "lines",
         "name": "validate - X",
         "type": "scatter",
         "x": [
          0,
          0.1,
          0.2,
          0.3,
          0.4,
          0.5,
          0.6,
          0.7,
          0.8,
          0.9,
          1,
          1.1,
          1.2,
          1.3,
          1.4,
          1.5,
          1.6,
          1.7,
          1.8,
          1.9,
          2,
          2.1,
          2.2,
          2.3,
          2.4,
          2.5,
          2.6,
          2.7,
          2.8,
          2.9,
          3,
          3.1,
          3.2,
          3.3,
          3.4,
          3.5,
          3.6,
          3.7,
          3.8,
          3.9,
          4,
          4.1,
          4.2,
          4.3,
          4.4,
          4.5,
          4.6,
          4.7,
          4.8,
          4.9,
          5,
          5.1,
          5.2,
          5.3,
          5.4,
          5.5,
          5.6,
          5.7,
          5.8,
          5.9,
          6,
          6.1,
          6.2,
          6.3,
          6.4,
          6.5,
          6.6,
          6.7,
          6.8,
          6.9,
          7,
          7.1,
          7.2,
          7.3,
          7.4,
          7.5,
          7.6,
          7.7,
          7.8,
          7.9,
          8,
          8.1,
          8.2,
          8.3,
          8.4,
          8.5,
          8.6,
          8.7,
          8.8,
          8.9,
          9,
          9.1,
          9.2,
          9.3,
          9.4,
          9.5,
          9.6,
          9.7,
          9.8,
          9.9,
          10,
          10.1,
          10.2,
          10.3,
          10.4,
          10.5,
          10.6,
          10.7,
          10.8,
          10.9
         ],
         "xaxis": "x",
         "y": [
          0,
          2.200005,
          4.40001,
          6.600014999999999,
          8.80002,
          11.000024999999999,
          13.200029999999998,
          15.400034999999997,
          17.60004,
          19.800044999999997,
          22.000049999999995,
          24.200054999999995,
          26.398593329999994,
          28.591264979999995,
          30.77220326999999,
          32.932608179999995,
          35.060013014999996,
          37.13828440499999,
          39.14688896999999,
          41.06235998999999,
          42.859030739999994,
          44.514167834999995,
          46.014571245,
          47.352907619999996,
          48.522576945,
          49.518445875,
          50.336847735,
          50.97558252,
          51.433916895,
          51.713317530000005,
          51.81671776500001,
          51.74778427500001,
          51.511650405000005,
          51.11491617000001,
          50.565648255000006,
          49.87264668,
          49.044711465,
          48.09064263,
          47.0214402,
          45.8481042,
          44.58090132,
          43.23229825500001,
          41.814028365000006,
          40.33709167500001,
          38.813221545000005,
          37.25415133500001,
          35.671614405000014,
          34.07661078,
          32.47940715000001,
          30.89100354,
          29.322399975000007,
          27.783129810000013,
          26.282726400000005,
          24.82998976500001,
          23.432986590000002,
          22.099783560000006,
          20.83771402500001,
          19.653378000000004,
          18.55190883000001,
          17.538439860000004,
          16.618837770000006,
          15.796769235000008,
          15.075167595000005,
          14.456966190000008,
          13.944365025000005,
          13.538830770000006,
          13.240363425000007,
          13.049696325000006,
          12.966829470000008,
          12.990296190000008,
          13.118629815000007,
          13.350363675000006,
          13.682564430000008,
          14.112298740000007,
          14.63663326500001,
          15.251167995000007,
          15.951502920000005,
          16.73323803000001,
          17.591239980000008,
          18.52037542500001,
          19.51624435500001,
          20.572980090000005,
          21.683982615,
          22.84338525000002,
          24.045321315000013,
          25.28392413000001,
          26.552593680000005,
          27.84472995,
          29.15446626000002,
          30.475935930000016,
          31.802538945000013,
          33.127675290000006,
          34.445478285,
          35.750814585000015,
          37.03781751000001,
          38.300620380000005,
          39.53408985,
          40.732359239999994,
          41.89029520500001,
          43.00423107,
          44.069766825,
          45.08250246,
          46.0387713,
          46.93417333500001,
          47.765775225000006,
          48.531376965,
          49.228045214999995,
          49.85284663499999,
          50.404314555,
          50.880982304999996
         ],
         "yaxis": "y"
        },
        {
         "line": {
          "color": "rgb(0, 0, 255)",
          "width": 2
         },
         "mode": "lines",
         "name": "pycrash - Y",
         "type": "scatter",
         "x": [
          0,
          0.1,
          0.2,
          0.3,
          0.4,
          0.5,
          0.6,
          0.7,
          0.8,
          0.9,
          1,
          1.1,
          1.2,
          1.3,
          1.4,
          1.5,
          1.6,
          1.7,
          1.8,
          1.9,
          2,
          2.1,
          2.2,
          2.3,
          2.4,
          2.5,
          2.6,
          2.7,
          2.8,
          2.9,
          3,
          3.1,
          3.2,
          3.3,
          3.4,
          3.5,
          3.6,
          3.7,
          3.8,
          3.9,
          4,
          4.1,
          4.2,
          4.3,
          4.4,
          4.5,
          4.6,
          4.7,
          4.8,
          4.9,
          5,
          5.1,
          5.2,
          5.3,
          5.4,
          5.5,
          5.6,
          5.7,
          5.8,
          5.9,
          6,
          6.1,
          6.2,
          6.3,
          6.4,
          6.5,
          6.6,
          6.7,
          6.8,
          6.9,
          7,
          7.1,
          7.2,
          7.3,
          7.4,
          7.5,
          7.6,
          7.7,
          7.8,
          7.9,
          8,
          8.1,
          8.2,
          8.3,
          8.4,
          8.5,
          8.6,
          8.7,
          8.8,
          8.9,
          9,
          9.1,
          9.2,
          9.3,
          9.4,
          9.5,
          9.6,
          9.7,
          9.8,
          9.9,
          10,
          10.1,
          10.2,
          10.3,
          10.4,
          10.5,
          10.6,
          10.7,
          10.8,
          10.9
         ],
         "xaxis": "x",
         "y": [
          0,
          0,
          0,
          0,
          0,
          0,
          0,
          0,
          0,
          0,
          0,
          -0.007980443550338504,
          -0.0462067092634732,
          -0.13744869965113374,
          -0.29344878194986945,
          -0.5213206684629942,
          -0.8323542261633423,
          -1.2437108233742586,
          -1.7742812488667163,
          -2.4397579046084914,
          -3.2490823896549825,
          -4.20016890470491,
          -5.279750882955415,
          -6.472547435882074,
          -7.7678824515674565,
          -9.156480508390482,
          -10.625841908026933,
          -12.159920382800841,
          -13.741558157295124,
          -15.354532526544439,
          -16.984060393596284,
          -18.61644593271259,
          -20.238808515922404,
          -21.839138542290744,
          -23.40641330695374,
          -24.93055432376933,
          -26.402282789345463,
          -27.81303429740086,
          -29.15498401751188,
          -30.42110494947774,
          -31.605174042883778,
          -32.70171975220416,
          -33.70596213312231,
          -34.613784872595325,
          -35.42173390316287,
          -36.127013891139555,
          -36.72746592847565,
          -37.22153268215976,
          -37.60822562952969,
          -37.88710069273016,
          -38.05823780440977,
          -38.12221765947812,
          -38.08009387154002,
          -37.93336344511241,
          -37.68393863487315,
          -37.33412058132479,
          -36.88657325878912,
          -36.34429664312545,
          -35.71059932855025,
          -34.989071446076295,
          -34.1835583577382,
          -33.29813499893356,
          -32.33708058178246,
          -31.304853615512165,
          -30.20606743398758,
          -29.045466418327344,
          -27.82790296458966,
          -26.558315162909736,
          -25.241705179177142,
          -23.883118386465206,
          -22.4876233068491,
          -21.06029239691754,
          -19.606183684686783,
          -18.13032326333517,
          -16.637688655917163,
          -15.13319306696336,
          -13.621670529608178,
          -12.107861949526296,
          -10.596402044548539,
          -9.091807178558946,
          -7.5984640862050306,
          -6.1206194812393715,
          -4.662370538384184,
          -3.2276562372128788,
          -1.8202495553165017,
          -0.443750495929923,
          0.8984200671931377,
          2.203025746529802,
          3.4670192189413322,
          4.687546045929652,
          5.861947758049352,
          6.987764226940929,
          8.062735349419482,
          9.08480206858552,
          10.05210675741791,
          10.96299299097556,
          11.816004733999177,
          12.60988497112196,
          13.343573807062706,
          14.01620606427412,
          14.627108405662065,
          15.175796010106419,
          15.661968828489968,
          16.08550744777116,
          16.446468590404816,
          16.745080276175415,
          16.981736673233474,
          17.156992664769575,
          17.271558157320154,
          17.326292156212816
         ],
         "yaxis": "y"
        },
        {
         "line": {
          "color": "rgb(0, 0, 255)",
          "dash": "dash",
          "width": 2
         },
         "mode": "lines",
         "name": "validate - Y",
         "type": "scatter",
         "x": [
          0,
          0.1,
          0.2,
          0.3,
          0.4,
          0.5,
          0.6,
          0.7,
          0.8,
          0.9,
          1,
          1.1,
          1.2,
          1.3,
          1.4,
          1.5,
          1.6,
          1.7,
          1.8,
          1.9,
          2,
          2.1,
          2.2,
          2.3,
          2.4,
          2.5,
          2.6,
          2.7,
          2.8,
          2.9,
          3,
          3.1,
          3.2,
          3.3,
          3.4,
          3.5,
          3.6,
          3.7,
          3.8,
          3.9,
          4,
          4.1,
          4.2,
          4.3,
          4.4,
          4.5,
          4.6,
          4.7,
          4.8,
          4.9,
          5,
          5.1,
          5.2,
          5.3,
          5.4,
          5.5,
          5.6,
          5.7,
          5.8,
          5.9,
          6,
          6.1,
          6.2,
          6.3,
          6.4,
          6.5,
          6.6,
          6.7,
          6.8,
          6.9,
          7,
          7.1,
          7.2,
          7.3,
          7.4,
          7.5,
          7.6,
          7.7,
          7.8,
          7.9,
          8,
          8.1,
          8.2,
          8.3,
          8.4,
          8.5,
          8.6,
          8.7,
          8.8,
          8.9,
          9,
          9.1,
          9.2,
          9.3,
          9.4,
          9.5,
          9.6,
          9.7,
          9.8,
          9.9,
          10,
          10.1,
          10.2,
          10.3,
          10.4,
          10.5,
          10.6,
          10.7,
          10.8,
          10.9
         ],
         "xaxis": "x",
         "y": [
          0,
          0,
          0,
          0,
          0,
          0,
          0,
          0,
          0,
          0,
          0,
          -0.008800020000000007,
          -0.047666774999999946,
          -0.14080032000000003,
          -0.3109340399999998,
          -0.58080132,
          -0.9716688750000002,
          -1.5011367449999995,
          -2.18240496,
          -3.0242735399999985,
          -4.03040916,
          -5.195678475,
          -6.5061481200000015,
          -7.944218054999997,
          -9.492288239999999,
          -11.1320253,
          -12.844362525000001,
          -14.610966540000003,
          -16.413503969999997,
          -18.23364144,
          -20.054512245,
          -21.860716350000004,
          -23.636853720000005,
          -25.368257654999997,
          -27.04246146,
          -28.64699844,
          -30.170135235000004,
          -31.602338490000005,
          -32.93407485,
          -34.15727763,
          -35.26608015000001,
          -36.253882395000005,
          -37.11628435500001,
          -37.85035269000001,
          -38.45242072500001,
          -38.92102179000001,
          -39.25542255000001,
          -39.455623005000014,
          -39.52382316000001,
          -39.46148968500001,
          -39.27082258500001,
          -38.956221870000014,
          -38.52135421500001,
          -37.97061963000001,
          -37.309884795,
          -36.54501639000001,
          -35.68188109500001,
          -34.72781226,
          -33.690143235,
          -32.57547403499999,
          -31.391871344999995,
          -30.147401849999998,
          -28.85013223499999,
          -27.508129184999994,
          -26.129459384999986,
          -24.722922854999993,
          -23.29658628,
          -21.85778300999999,
          -20.414579729999996,
          -18.975776459999988,
          -17.54870654999999,
          -16.140703349999995,
          -14.759100209999989,
          -13.410497144999994,
          -12.101494169999986,
          -10.83869129999999,
          -9.627955214999995,
          -8.474419259999989,
          -7.383950114999992,
          -6.360947789999987,
          -5.40907895999999,
          -4.532743634999993,
          -3.735608489999996,
          -3.020606864999986,
          -2.3899387649999886,
          -1.8458041949999906,
          -1.3904031599999922,
          -1.0244689949999937,
          -0.7487350349999897,
          -0.5639346149999904,
          -0.46933439999999077,
          -0.46493438999999076,
          -0.5500012499999904,
          -0.7230683099999928,
          -0.982668899999992,
          -1.3266030149999908,
          -1.7526706499999891,
          -2.257938464999987,
          -2.8394731199999956,
          -3.4943412749999934,
          -4.218876254999991,
          -5.0094113849999875,
          -5.862279989999984,
          -6.7730820599999975,
          -7.737417584999994,
          -8.75015321999999,
          -9.806888954999987,
          -10.903224779999983,
          -12.034027349999999,
          -13.194896654999994
         ],
         "yaxis": "y"
        },
        {
         "line": {
          "color": "rgb(0, 0, 0)",
          "width": 2
         },
         "mode": "lines",
         "name": "pycrash - heading",
         "type": "scatter",
         "x": [
          0,
          0.1,
          0.2,
          0.3,
          0.4,
          0.5,
          0.6,
          0.7,
          0.8,
          0.9,
          1,
          1.1,
          1.2,
          1.3,
          1.4,
          1.5,
          1.6,
          1.7,
          1.8,
          1.9,
          2,
          2.1,
          2.2,
          2.3,
          2.4,
          2.5,
          2.6,
          2.7,
          2.8,
          2.9,
          3,
          3.1,
          3.2,
          3.3,
          3.4,
          3.5,
          3.6,
          3.7,
          3.8,
          3.9,
          4,
          4.1,
          4.2,
          4.3,
          4.4,
          4.5,
          4.6,
          4.7,
          4.8,
          4.9,
          5,
          5.1,
          5.2,
          5.3,
          5.4,
          5.5,
          5.6,
          5.7,
          5.8,
          5.9,
          6,
          6.1,
          6.2,
          6.3,
          6.4,
          6.5,
          6.6,
          6.7,
          6.8,
          6.9,
          7,
          7.1,
          7.2,
          7.3,
          7.4,
          7.5,
          7.6,
          7.7,
          7.8,
          7.9,
          8,
          8.1,
          8.2,
          8.3,
          8.4,
          8.5,
          8.6,
          8.7,
          8.8,
          8.9,
          9,
          9.1,
          9.2,
          9.3,
          9.4,
          9.5,
          9.6,
          9.7,
          9.8,
          9.9,
          10,
          10.1,
          10.2,
          10.3,
          10.4,
          10.5,
          10.6,
          10.7,
          10.8,
          10.9
         ],
         "xaxis": "x2",
         "y": [
          0,
          0,
          0,
          0,
          0,
          0,
          0,
          0,
          0,
          0,
          0,
          -0.0728916891642895,
          -0.4237646905090495,
          -1.2647519272466579,
          -2.6939176669289795,
          -4.718393419730979,
          -7.311661309248314,
          -10.446546138042152,
          -14.10315572203435,
          -18.26560735460551,
          -22.911332056977837,
          -27.96333847760388,
          -33.25059785046273,
          -38.574958432847694,
          -43.81310258489834,
          -48.93775423220646,
          -53.97212255317876,
          -58.93942338257074,
          -63.8435835721226,
          -68.6771081391991,
          -73.43506561598689,
          -78.12088513320654,
          -82.7430717076626,
          -87.30942287071716,
          -91.82425512343362,
          -96.28931208486071,
          -100.70591715198498,
          -105.07614339909547,
          -109.4025929317018,
          -113.68766117626592,
          -117.93315642666664,
          -122.14044615379107,
          -126.31078609101354,
          -130.44549020127295,
          -134.54588391209282,
          -138.61318851165507,
          -142.6484750400451,
          -146.65270401954268,
          -150.62678532866332,
          -154.57160295389244,
          -158.4880032464989,
          -162.37677729690782,
          -166.23865954621522,
          -170.07434039932093,
          -173.884478608822,
          -177.66970505893187,
          -181.43062059380432,
          -185.1677946180705,
          -188.88176748098974,
          -192.57305471976406,
          -196.2421501162378,
          -199.8895267106686,
          -203.51563704626977,
          -207.12091401325665,
          -210.70577243484163,
          -214.27061067089625,
          -217.81581169250273,
          -221.34174372526093,
          -224.84876086781605,
          -228.33720389321064,
          -231.8074011207551,
          -235.25966916385394,
          -238.69431350563949,
          -242.11162899827386,
          -245.51190038040411,
          -248.89540281509616,
          -252.26240239323207,
          -255.61315656976853,
          -258.94791455047806,
          -262.26691766330646,
          -265.57039972615775,
          -268.85858739834254,
          -272.13170050214705,
          -275.3899523162931,
          -278.6335498527116,
          -281.862694123735,
          -285.07758039775575,
          -288.2783984387056,
          -291.4653327289808,
          -294.6385626796758,
          -297.79826283157195,
          -300.94460304717967,
          -304.0777486924948,
          -307.1978608082242,
          -310.30509627191833,
          -313.39960795263613,
          -316.4815448586829,
          -319.5510522781711,
          -322.6082719123965,
          -325.65334200267046,
          -328.6863974514109,
          -331.7075699379157,
          -334.71698802888113,
          -337.71477728376686,
          -340.70106035535383,
          -343.6759570859299,
          -346.63958459939505,
          -349.59205738941483,
          -352.5334874037495,
          -355.4639841249757
         ],
         "yaxis": "y2"
        },
        {
         "line": {
          "color": "rgb(0, 0, 0)",
          "dash": "dash",
          "width": 2
         },
         "mode": "lines",
         "name": "validate - heading",
         "type": "scatter",
         "x": [
          0,
          0.1,
          0.2,
          0.3,
          0.4,
          0.5,
          0.6,
          0.7,
          0.8,
          0.9,
          1,
          1.1,
          1.2,
          1.3,
          1.4,
          1.5,
          1.6,
          1.7,
          1.8,
          1.9,
          2,
          2.1,
          2.2,
          2.3,
          2.4,
          2.5,
          2.6,
          2.7,
          2.8,
          2.9,
          3,
          3.1,
          3.2,
          3.3,
          3.4,
          3.5,
          3.6,
          3.7,
          3.8,
          3.9,
          4,
          4.1,
          4.2,
          4.3,
          4.4,
          4.5,
          4.6,
          4.7,
          4.8,
          4.9,
          5,
          5.1,
          5.2,
          5.3,
          5.4,
          5.5,
          5.6,
          5.7,
          5.8,
          5.9,
          6,
          6.1,
          6.2,
          6.3,
          6.4,
          6.5,
          6.6,
          6.7,
          6.8,
          6.9,
          7,
          7.1,
          7.2,
          7.3,
          7.4,
          7.5,
          7.6,
          7.7,
          7.8,
          7.9,
          8,
          8.1,
          8.2,
          8.3,
          8.4,
          8.5,
          8.6,
          8.7,
          8.8,
          8.9,
          9,
          9.1,
          9.2,
          9.3,
          9.4,
          9.5,
          9.6,
          9.7,
          9.8,
          9.9,
          10,
          10.1,
          10.2,
          10.3,
          10.4,
          10.5,
          10.6,
          10.7,
          10.8,
          10.9
         ],
         "xaxis": "x2",
         "y": [
          0,
          0,
          0,
          0,
          0,
          0,
          0,
          0,
          0,
          0,
          0,
          -0.06,
          -0.46,
          -1.39,
          -2.88,
          -4.97,
          -7.66,
          -10.94,
          -14.76,
          -19.09,
          -23.88,
          -29.08,
          -34.55,
          -40.14,
          -45.77,
          -51.37,
          -56.92,
          -62.42,
          -67.86,
          -73.25,
          -78.58,
          -83.86,
          -89.1,
          -94.29,
          -99.43,
          -104.53,
          -109.59,
          -114.61,
          -119.59,
          -124.53,
          -129.44,
          -134.31,
          -139.15,
          -143.96,
          -148.73,
          -153.47,
          -158.19,
          -162.87,
          -167.53,
          -172.15,
          -176.75,
          178.67,
          174.12,
          169.6,
          165.1,
          160.63,
          156.17,
          151.75,
          147.34,
          142.95,
          138.59,
          134.25,
          129.93,
          125.63,
          121.35,
          117.08,
          112.84,
          108.62,
          104.41,
          100.22,
          96.05,
          91.9,
          87.76,
          83.64,
          79.54,
          75.45,
          71.38,
          67.33,
          63.29,
          59.26,
          55.25,
          51.26,
          47.28,
          43.31,
          39.36,
          35.42,
          31.5,
          27.59,
          23.69,
          19.81,
          15.93,
          12.08,
          8.23,
          4.4,
          0.57,
          -3.24,
          -7.03,
          -10.82,
          -14.59,
          -18.36,
          -22.11,
          -25.85,
          -29.58,
          -33.3,
          -37,
          -40.7,
          -44.39,
          -48.06,
          -51.73,
          -55.38
         ],
         "yaxis": "y2"
        }
       ],
       "layout": {
        "autosize": false,
        "font": {
         "color": "black",
         "family": "Arial",
         "size": 14
        },
        "height": 500,
        "legend": {
         "orientation": "h",
         "x": 0.01,
         "xanchor": "left",
         "y": 1.1,
         "yanchor": "top"
        },
        "template": {
         "data": {
          "bar": [
           {
            "error_x": {
             "color": "#2a3f5f"
            },
            "error_y": {
             "color": "#2a3f5f"
            },
            "marker": {
             "line": {
              "color": "white",
              "width": 0.5
             }
            },
            "type": "bar"
           }
          ],
          "barpolar": [
           {
            "marker": {
             "line": {
              "color": "white",
              "width": 0.5
             }
            },
            "type": "barpolar"
           }
          ],
          "carpet": [
           {
            "aaxis": {
             "endlinecolor": "#2a3f5f",
             "gridcolor": "#C8D4E3",
             "linecolor": "#C8D4E3",
             "minorgridcolor": "#C8D4E3",
             "startlinecolor": "#2a3f5f"
            },
            "baxis": {
             "endlinecolor": "#2a3f5f",
             "gridcolor": "#C8D4E3",
             "linecolor": "#C8D4E3",
             "minorgridcolor": "#C8D4E3",
             "startlinecolor": "#2a3f5f"
            },
            "type": "carpet"
           }
          ],
          "choropleth": [
           {
            "colorbar": {
             "outlinewidth": 0,
             "ticks": ""
            },
            "type": "choropleth"
           }
          ],
          "contour": [
           {
            "colorbar": {
             "outlinewidth": 0,
             "ticks": ""
            },
            "colorscale": [
             [
              0,
              "#0d0887"
             ],
             [
              0.1111111111111111,
              "#46039f"
             ],
             [
              0.2222222222222222,
              "#7201a8"
             ],
             [
              0.3333333333333333,
              "#9c179e"
             ],
             [
              0.4444444444444444,
              "#bd3786"
             ],
             [
              0.5555555555555556,
              "#d8576b"
             ],
             [
              0.6666666666666666,
              "#ed7953"
             ],
             [
              0.7777777777777778,
              "#fb9f3a"
             ],
             [
              0.8888888888888888,
              "#fdca26"
             ],
             [
              1,
              "#f0f921"
             ]
            ],
            "type": "contour"
           }
          ],
          "contourcarpet": [
           {
            "colorbar": {
             "outlinewidth": 0,
             "ticks": ""
            },
            "type": "contourcarpet"
           }
          ],
          "heatmap": [
           {
            "colorbar": {
             "outlinewidth": 0,
             "ticks": ""
            },
            "colorscale": [
             [
              0,
              "#0d0887"
             ],
             [
              0.1111111111111111,
              "#46039f"
             ],
             [
              0.2222222222222222,
              "#7201a8"
             ],
             [
              0.3333333333333333,
              "#9c179e"
             ],
             [
              0.4444444444444444,
              "#bd3786"
             ],
             [
              0.5555555555555556,
              "#d8576b"
             ],
             [
              0.6666666666666666,
              "#ed7953"
             ],
             [
              0.7777777777777778,
              "#fb9f3a"
             ],
             [
              0.8888888888888888,
              "#fdca26"
             ],
             [
              1,
              "#f0f921"
             ]
            ],
            "type": "heatmap"
           }
          ],
          "heatmapgl": [
           {
            "colorbar": {
             "outlinewidth": 0,
             "ticks": ""
            },
            "colorscale": [
             [
              0,
              "#0d0887"
             ],
             [
              0.1111111111111111,
              "#46039f"
             ],
             [
              0.2222222222222222,
              "#7201a8"
             ],
             [
              0.3333333333333333,
              "#9c179e"
             ],
             [
              0.4444444444444444,
              "#bd3786"
             ],
             [
              0.5555555555555556,
              "#d8576b"
             ],
             [
              0.6666666666666666,
              "#ed7953"
             ],
             [
              0.7777777777777778,
              "#fb9f3a"
             ],
             [
              0.8888888888888888,
              "#fdca26"
             ],
             [
              1,
              "#f0f921"
             ]
            ],
            "type": "heatmapgl"
           }
          ],
          "histogram": [
           {
            "marker": {
             "colorbar": {
              "outlinewidth": 0,
              "ticks": ""
             }
            },
            "type": "histogram"
           }
          ],
          "histogram2d": [
           {
            "colorbar": {
             "outlinewidth": 0,
             "ticks": ""
            },
            "colorscale": [
             [
              0,
              "#0d0887"
             ],
             [
              0.1111111111111111,
              "#46039f"
             ],
             [
              0.2222222222222222,
              "#7201a8"
             ],
             [
              0.3333333333333333,
              "#9c179e"
             ],
             [
              0.4444444444444444,
              "#bd3786"
             ],
             [
              0.5555555555555556,
              "#d8576b"
             ],
             [
              0.6666666666666666,
              "#ed7953"
             ],
             [
              0.7777777777777778,
              "#fb9f3a"
             ],
             [
              0.8888888888888888,
              "#fdca26"
             ],
             [
              1,
              "#f0f921"
             ]
            ],
            "type": "histogram2d"
           }
          ],
          "histogram2dcontour": [
           {
            "colorbar": {
             "outlinewidth": 0,
             "ticks": ""
            },
            "colorscale": [
             [
              0,
              "#0d0887"
             ],
             [
              0.1111111111111111,
              "#46039f"
             ],
             [
              0.2222222222222222,
              "#7201a8"
             ],
             [
              0.3333333333333333,
              "#9c179e"
             ],
             [
              0.4444444444444444,
              "#bd3786"
             ],
             [
              0.5555555555555556,
              "#d8576b"
             ],
             [
              0.6666666666666666,
              "#ed7953"
             ],
             [
              0.7777777777777778,
              "#fb9f3a"
             ],
             [
              0.8888888888888888,
              "#fdca26"
             ],
             [
              1,
              "#f0f921"
             ]
            ],
            "type": "histogram2dcontour"
           }
          ],
          "mesh3d": [
           {
            "colorbar": {
             "outlinewidth": 0,
             "ticks": ""
            },
            "type": "mesh3d"
           }
          ],
          "parcoords": [
           {
            "line": {
             "colorbar": {
              "outlinewidth": 0,
              "ticks": ""
             }
            },
            "type": "parcoords"
           }
          ],
          "pie": [
           {
            "automargin": true,
            "type": "pie"
           }
          ],
          "scatter": [
           {
            "marker": {
             "colorbar": {
              "outlinewidth": 0,
              "ticks": ""
             }
            },
            "type": "scatter"
           }
          ],
          "scatter3d": [
           {
            "line": {
             "colorbar": {
              "outlinewidth": 0,
              "ticks": ""
             }
            },
            "marker": {
             "colorbar": {
              "outlinewidth": 0,
              "ticks": ""
             }
            },
            "type": "scatter3d"
           }
          ],
          "scattercarpet": [
           {
            "marker": {
             "colorbar": {
              "outlinewidth": 0,
              "ticks": ""
             }
            },
            "type": "scattercarpet"
           }
          ],
          "scattergeo": [
           {
            "marker": {
             "colorbar": {
              "outlinewidth": 0,
              "ticks": ""
             }
            },
            "type": "scattergeo"
           }
          ],
          "scattergl": [
           {
            "marker": {
             "colorbar": {
              "outlinewidth": 0,
              "ticks": ""
             }
            },
            "type": "scattergl"
           }
          ],
          "scattermapbox": [
           {
            "marker": {
             "colorbar": {
              "outlinewidth": 0,
              "ticks": ""
             }
            },
            "type": "scattermapbox"
           }
          ],
          "scatterpolar": [
           {
            "marker": {
             "colorbar": {
              "outlinewidth": 0,
              "ticks": ""
             }
            },
            "type": "scatterpolar"
           }
          ],
          "scatterpolargl": [
           {
            "marker": {
             "colorbar": {
              "outlinewidth": 0,
              "ticks": ""
             }
            },
            "type": "scatterpolargl"
           }
          ],
          "scatterternary": [
           {
            "marker": {
             "colorbar": {
              "outlinewidth": 0,
              "ticks": ""
             }
            },
            "type": "scatterternary"
           }
          ],
          "surface": [
           {
            "colorbar": {
             "outlinewidth": 0,
             "ticks": ""
            },
            "colorscale": [
             [
              0,
              "#0d0887"
             ],
             [
              0.1111111111111111,
              "#46039f"
             ],
             [
              0.2222222222222222,
              "#7201a8"
             ],
             [
              0.3333333333333333,
              "#9c179e"
             ],
             [
              0.4444444444444444,
              "#bd3786"
             ],
             [
              0.5555555555555556,
              "#d8576b"
             ],
             [
              0.6666666666666666,
              "#ed7953"
             ],
             [
              0.7777777777777778,
              "#fb9f3a"
             ],
             [
              0.8888888888888888,
              "#fdca26"
             ],
             [
              1,
              "#f0f921"
             ]
            ],
            "type": "surface"
           }
          ],
          "table": [
           {
            "cells": {
             "fill": {
              "color": "#EBF0F8"
             },
             "line": {
              "color": "white"
             }
            },
            "header": {
             "fill": {
              "color": "#C8D4E3"
             },
             "line": {
              "color": "white"
             }
            },
            "type": "table"
           }
          ]
         },
         "layout": {
          "annotationdefaults": {
           "arrowcolor": "#2a3f5f",
           "arrowhead": 0,
           "arrowwidth": 1
          },
          "coloraxis": {
           "colorbar": {
            "outlinewidth": 0,
            "ticks": ""
           }
          },
          "colorscale": {
           "diverging": [
            [
             0,
             "#8e0152"
            ],
            [
             0.1,
             "#c51b7d"
            ],
            [
             0.2,
             "#de77ae"
            ],
            [
             0.3,
             "#f1b6da"
            ],
            [
             0.4,
             "#fde0ef"
            ],
            [
             0.5,
             "#f7f7f7"
            ],
            [
             0.6,
             "#e6f5d0"
            ],
            [
             0.7,
             "#b8e186"
            ],
            [
             0.8,
             "#7fbc41"
            ],
            [
             0.9,
             "#4d9221"
            ],
            [
             1,
             "#276419"
            ]
           ],
           "sequential": [
            [
             0,
             "#0d0887"
            ],
            [
             0.1111111111111111,
             "#46039f"
            ],
            [
             0.2222222222222222,
             "#7201a8"
            ],
            [
             0.3333333333333333,
             "#9c179e"
            ],
            [
             0.4444444444444444,
             "#bd3786"
            ],
            [
             0.5555555555555556,
             "#d8576b"
            ],
            [
             0.6666666666666666,
             "#ed7953"
            ],
            [
             0.7777777777777778,
             "#fb9f3a"
            ],
            [
             0.8888888888888888,
             "#fdca26"
            ],
            [
             1,
             "#f0f921"
            ]
           ],
           "sequentialminus": [
            [
             0,
             "#0d0887"
            ],
            [
             0.1111111111111111,
             "#46039f"
            ],
            [
             0.2222222222222222,
             "#7201a8"
            ],
            [
             0.3333333333333333,
             "#9c179e"
            ],
            [
             0.4444444444444444,
             "#bd3786"
            ],
            [
             0.5555555555555556,
             "#d8576b"
            ],
            [
             0.6666666666666666,
             "#ed7953"
            ],
            [
             0.7777777777777778,
             "#fb9f3a"
            ],
            [
             0.8888888888888888,
             "#fdca26"
            ],
            [
             1,
             "#f0f921"
            ]
           ]
          },
          "colorway": [
           "#636efa",
           "#EF553B",
           "#00cc96",
           "#ab63fa",
           "#FFA15A",
           "#19d3f3",
           "#FF6692",
           "#B6E880",
           "#FF97FF",
           "#FECB52"
          ],
          "font": {
           "color": "#2a3f5f"
          },
          "geo": {
           "bgcolor": "white",
           "lakecolor": "white",
           "landcolor": "white",
           "showlakes": true,
           "showland": true,
           "subunitcolor": "#C8D4E3"
          },
          "hoverlabel": {
           "align": "left"
          },
          "hovermode": "closest",
          "mapbox": {
           "style": "light"
          },
          "paper_bgcolor": "white",
          "plot_bgcolor": "white",
          "polar": {
           "angularaxis": {
            "gridcolor": "#EBF0F8",
            "linecolor": "#EBF0F8",
            "ticks": ""
           },
           "bgcolor": "white",
           "radialaxis": {
            "gridcolor": "#EBF0F8",
            "linecolor": "#EBF0F8",
            "ticks": ""
           }
          },
          "scene": {
           "xaxis": {
            "backgroundcolor": "white",
            "gridcolor": "#DFE8F3",
            "gridwidth": 2,
            "linecolor": "#EBF0F8",
            "showbackground": true,
            "ticks": "",
            "zerolinecolor": "#EBF0F8"
           },
           "yaxis": {
            "backgroundcolor": "white",
            "gridcolor": "#DFE8F3",
            "gridwidth": 2,
            "linecolor": "#EBF0F8",
            "showbackground": true,
            "ticks": "",
            "zerolinecolor": "#EBF0F8"
           },
           "zaxis": {
            "backgroundcolor": "white",
            "gridcolor": "#DFE8F3",
            "gridwidth": 2,
            "linecolor": "#EBF0F8",
            "showbackground": true,
            "ticks": "",
            "zerolinecolor": "#EBF0F8"
           }
          },
          "shapedefaults": {
           "line": {
            "color": "#2a3f5f"
           }
          },
          "ternary": {
           "aaxis": {
            "gridcolor": "#DFE8F3",
            "linecolor": "#A2B1C6",
            "ticks": ""
           },
           "baxis": {
            "gridcolor": "#DFE8F3",
            "linecolor": "#A2B1C6",
            "ticks": ""
           },
           "bgcolor": "white",
           "caxis": {
            "gridcolor": "#DFE8F3",
            "linecolor": "#A2B1C6",
            "ticks": ""
           }
          },
          "title": {
           "x": 0.05
          },
          "xaxis": {
           "automargin": true,
           "gridcolor": "#EBF0F8",
           "linecolor": "#EBF0F8",
           "ticks": "",
           "title": {
            "standoff": 15
           },
           "zerolinecolor": "#EBF0F8",
           "zerolinewidth": 2
          },
          "yaxis": {
           "automargin": true,
           "gridcolor": "#EBF0F8",
           "linecolor": "#EBF0F8",
           "ticks": "",
           "title": {
            "standoff": 15
           },
           "zerolinecolor": "#EBF0F8",
           "zerolinewidth": 2
          }
         }
        },
        "width": 900,
        "xaxis": {
         "anchor": "y",
         "domain": [
          0,
          1
         ],
         "linecolor": "black",
         "linewidth": 1,
         "matches": "x2",
         "showgrid": false,
         "showline": true,
         "showticklabels": false,
         "tickcolor": "black",
         "ticklen": 10,
         "ticks": "outside",
         "tickwidth": 1,
         "title": {
          "text": ""
         },
         "zeroline": false
        },
        "xaxis2": {
         "anchor": "y2",
         "domain": [
          0,
          1
         ],
         "linecolor": "black",
         "linewidth": 1,
         "showgrid": false,
         "showline": true,
         "tickcolor": "black",
         "ticklen": 10,
         "ticks": "outside",
         "tickwidth": 1,
         "title": {
          "text": "Time (s)"
         },
         "zeroline": false
        },
        "yaxis": {
         "anchor": "x",
         "domain": [
          0.5349999999999999,
          0.9999999999999999
         ],
         "linecolor": "black",
         "linewidth": 1,
         "showgrid": false,
         "showline": true,
         "tickcolor": "black",
         "ticklen": 10,
         "ticks": "outside",
         "tickwidth": 1,
         "title": {
          "text": "Displacement (ft)"
         },
         "zeroline": false
        },
        "yaxis2": {
         "anchor": "x2",
         "domain": [
          0,
          0.46499999999999997
         ],
         "linecolor": "black",
         "linewidth": 1,
         "showgrid": false,
         "showline": true,
         "tickcolor": "black",
         "ticklen": 10,
         "ticks": "outside",
         "tickwidth": 1,
         "title": {
          "text": "Heading Angle (deg)"
         },
         "zeroline": false
        }
       }
      },
      "text/html": [
       "<div>\n",
       "        \n",
       "        \n",
       "            <div id=\"cda34346-2990-4e11-9613-688dc89915ad\" class=\"plotly-graph-div\" style=\"height:500px; width:900px;\"></div>\n",
       "            <script type=\"text/javascript\">\n",
       "                require([\"plotly\"], function(Plotly) {\n",
       "                    window.PLOTLYENV=window.PLOTLYENV || {};\n",
       "                    \n",
       "                if (document.getElementById(\"cda34346-2990-4e11-9613-688dc89915ad\")) {\n",
       "                    Plotly.newPlot(\n",
       "                        'cda34346-2990-4e11-9613-688dc89915ad',\n",
       "                        [{\"line\": {\"color\": \"rgb(0, 255, 0)\", \"width\": 2}, \"mode\": \"lines\", \"name\": \"pycrash - X\", \"type\": \"scatter\", \"x\": [0.0, 0.1, 0.2, 0.3, 0.4, 0.5, 0.6, 0.7, 0.8, 0.9, 1.0, 1.1, 1.2, 1.3, 1.4, 1.5, 1.6, 1.7, 1.8, 1.9, 2.0, 2.1, 2.2, 2.3, 2.4, 2.5, 2.6, 2.7, 2.8, 2.9, 3.0, 3.1, 3.2, 3.3, 3.4, 3.5, 3.6, 3.7, 3.8, 3.9, 4.0, 4.1, 4.2, 4.3, 4.4, 4.5, 4.6, 4.7, 4.8, 4.9, 5.0, 5.1, 5.2, 5.3, 5.4, 5.5, 5.6, 5.7, 5.8, 5.9, 6.0, 6.1, 6.2, 6.3, 6.4, 6.5, 6.6, 6.7, 6.8, 6.9, 7.0, 7.1, 7.2, 7.3, 7.4, 7.5, 7.6, 7.7, 7.8, 7.9, 8.0, 8.1, 8.2, 8.3, 8.4, 8.5, 8.6, 8.7, 8.8, 8.9, 9.0, 9.1, 9.2, 9.3, 9.4, 9.5, 9.6, 9.7, 9.8, 9.9, 10.0, 10.1, 10.2, 10.3, 10.4, 10.5, 10.6, 10.7, 10.8, 10.9], \"xaxis\": \"x\", \"y\": [0.0, 2.200005, 4.40001, 6.600014999999999, 8.80002, 11.000024999999999, 13.200029999999998, 15.400034999999997, 17.60004, 19.800044999999997, 22.000049999999995, 24.19976088771474, 26.397695946188037, 28.590678788460963, 30.774378708011312, 32.943307291564906, 35.089313416835054, 37.19982315859542, 39.257186921462804, 41.239234083422666, 43.120973226464024, 44.882243498692866, 46.51493644866533, 48.01540108081789, 49.37362653025153, 50.574626930964456, 51.60629858105683, 52.46418520416815, 53.15036371044899, 53.66949735467352, 54.025951899325165, 54.223379383383204, 54.26572098727544, 54.158032590454035, 53.906475260525234, 53.51781844231075, 52.999042959216666, 52.357273868531564, 51.59989485794441, 50.73461959039584, 49.76944195420018, 48.71252772168733, 47.572129377251464, 46.35654661979595, 45.07410643481817, 43.73313522409114, 42.34191880741103, 40.90866106911674, 39.441449508648766, 37.948227247314136, 36.43676739617297, 34.914647883332655, 33.38922766341271, 31.867625520271126, 30.35670143896446, 28.86303987856091, 27.39293468069172, 25.952375859207997, 24.54703845858482, 23.182273302407552, 21.863099320518128, 20.59419733612103, 19.379905394393177, 18.224215689133402, 17.130772984741533, 16.102874351601866, 15.143470096295523, 14.255165862597991, 13.440225894353711, 12.70057739631155, 12.037815885161042, 11.453211433858451, 10.94771574948598, 10.521970041610949, 10.1763136248891, 9.910793181901761, 9.725172611669993, 9.618943402222897, 9.591335475399386, 9.641328451247443, 9.767663274394126, 9.968854144289498, 10.243200696171353, 10.588800384810943, 11.003561025014958, 11.48521344274476, 12.031324191587835, 12.63930829206496, 13.306441954433165, 14.029875247872102, 14.806644680375486, 15.63368565526388, 16.507844772403654, 17.425891944570672, 18.384532301468397, 19.380417855692244, 20.410158906708507, 21.470335160833077, 22.557506547142943, 23.668223711089055, 24.799038169296306, 25.9465121107155, 27.107227830973684, 28.27779678841623, 29.454868271908236, 30.635137671968145, 31.815354348263472, 32.99232908791554, 34.16294115041998, 35.324144896286604], \"yaxis\": \"y\"}, {\"line\": {\"color\": \"rgb(0, 255, 0)\", \"dash\": \"dash\", \"width\": 2}, \"mode\": \"lines\", \"name\": \"validate - X\", \"type\": \"scatter\", \"x\": [0.0, 0.1, 0.2, 0.3, 0.4, 0.5, 0.6, 0.7, 0.8, 0.9, 1.0, 1.1, 1.2, 1.3, 1.4, 1.5, 1.6, 1.7, 1.8, 1.9, 2.0, 2.1, 2.2, 2.3, 2.4, 2.5, 2.6, 2.7, 2.8, 2.9, 3.0, 3.1, 3.2, 3.3, 3.4, 3.5, 3.6, 3.7, 3.8, 3.9, 4.0, 4.1, 4.2, 4.3, 4.4, 4.5, 4.6, 4.7, 4.8, 4.9, 5.0, 5.1, 5.2, 5.3, 5.4, 5.5, 5.6, 5.7, 5.8, 5.9, 6.0, 6.1, 6.2, 6.3, 6.4, 6.5, 6.6, 6.7, 6.8, 6.9, 7.0, 7.1, 7.2, 7.3, 7.4, 7.5, 7.6, 7.7, 7.8, 7.9, 8.0, 8.1, 8.2, 8.3, 8.4, 8.5, 8.6, 8.7, 8.8, 8.9, 9.0, 9.1, 9.2, 9.3, 9.4, 9.5, 9.6, 9.7, 9.8, 9.9, 10.0, 10.1, 10.2, 10.3, 10.4, 10.5, 10.6, 10.7, 10.8, 10.9], \"xaxis\": \"x\", \"y\": [0.0, 2.200005, 4.40001, 6.600014999999999, 8.80002, 11.000024999999999, 13.200029999999998, 15.400034999999997, 17.60004, 19.800044999999997, 22.000049999999995, 24.200054999999995, 26.398593329999994, 28.591264979999995, 30.77220326999999, 32.932608179999995, 35.060013014999996, 37.13828440499999, 39.14688896999999, 41.06235998999999, 42.859030739999994, 44.514167834999995, 46.014571245, 47.352907619999996, 48.522576945, 49.518445875, 50.336847735, 50.97558252, 51.433916895, 51.713317530000005, 51.81671776500001, 51.74778427500001, 51.511650405000005, 51.11491617000001, 50.565648255000006, 49.87264668, 49.044711465, 48.09064263, 47.0214402, 45.8481042, 44.58090132, 43.23229825500001, 41.814028365000006, 40.33709167500001, 38.813221545000005, 37.25415133500001, 35.671614405000014, 34.07661078, 32.47940715000001, 30.89100354, 29.322399975000007, 27.783129810000013, 26.282726400000005, 24.82998976500001, 23.432986590000002, 22.099783560000006, 20.83771402500001, 19.653378000000004, 18.55190883000001, 17.538439860000004, 16.618837770000006, 15.796769235000008, 15.075167595000005, 14.456966190000008, 13.944365025000005, 13.538830770000006, 13.240363425000007, 13.049696325000006, 12.966829470000008, 12.990296190000008, 13.118629815000007, 13.350363675000006, 13.682564430000008, 14.112298740000007, 14.63663326500001, 15.251167995000007, 15.951502920000005, 16.73323803000001, 17.591239980000008, 18.52037542500001, 19.51624435500001, 20.572980090000005, 21.683982615, 22.84338525000002, 24.045321315000013, 25.28392413000001, 26.552593680000005, 27.84472995, 29.15446626000002, 30.475935930000016, 31.802538945000013, 33.127675290000006, 34.445478285, 35.750814585000015, 37.03781751000001, 38.300620380000005, 39.53408985, 40.732359239999994, 41.89029520500001, 43.00423107, 44.069766825, 45.08250246, 46.0387713, 46.93417333500001, 47.765775225000006, 48.531376965, 49.228045214999995, 49.85284663499999, 50.404314555, 50.880982304999996], \"yaxis\": \"y\"}, {\"line\": {\"color\": \"rgb(0, 0, 255)\", \"width\": 2}, \"mode\": \"lines\", \"name\": \"pycrash - Y\", \"type\": \"scatter\", \"x\": [0.0, 0.1, 0.2, 0.3, 0.4, 0.5, 0.6, 0.7, 0.8, 0.9, 1.0, 1.1, 1.2, 1.3, 1.4, 1.5, 1.6, 1.7, 1.8, 1.9, 2.0, 2.1, 2.2, 2.3, 2.4, 2.5, 2.6, 2.7, 2.8, 2.9, 3.0, 3.1, 3.2, 3.3, 3.4, 3.5, 3.6, 3.7, 3.8, 3.9, 4.0, 4.1, 4.2, 4.3, 4.4, 4.5, 4.6, 4.7, 4.8, 4.9, 5.0, 5.1, 5.2, 5.3, 5.4, 5.5, 5.6, 5.7, 5.8, 5.9, 6.0, 6.1, 6.2, 6.3, 6.4, 6.5, 6.6, 6.7, 6.8, 6.9, 7.0, 7.1, 7.2, 7.3, 7.4, 7.5, 7.6, 7.7, 7.8, 7.9, 8.0, 8.1, 8.2, 8.3, 8.4, 8.5, 8.6, 8.7, 8.8, 8.9, 9.0, 9.1, 9.2, 9.3, 9.4, 9.5, 9.6, 9.7, 9.8, 9.9, 10.0, 10.1, 10.2, 10.3, 10.4, 10.5, 10.6, 10.7, 10.8, 10.9], \"xaxis\": \"x\", \"y\": [0.0, 0.0, 0.0, 0.0, 0.0, 0.0, 0.0, 0.0, 0.0, 0.0, 0.0, -0.007980443550338504, -0.0462067092634732, -0.13744869965113374, -0.29344878194986945, -0.5213206684629942, -0.8323542261633423, -1.2437108233742586, -1.7742812488667163, -2.4397579046084914, -3.2490823896549825, -4.20016890470491, -5.279750882955415, -6.472547435882074, -7.7678824515674565, -9.156480508390482, -10.625841908026933, -12.159920382800841, -13.741558157295124, -15.354532526544439, -16.984060393596284, -18.61644593271259, -20.238808515922404, -21.839138542290744, -23.40641330695374, -24.93055432376933, -26.402282789345463, -27.81303429740086, -29.15498401751188, -30.42110494947774, -31.605174042883778, -32.70171975220416, -33.70596213312231, -34.613784872595325, -35.42173390316287, -36.127013891139555, -36.72746592847565, -37.22153268215976, -37.60822562952969, -37.88710069273016, -38.05823780440977, -38.12221765947812, -38.08009387154002, -37.93336344511241, -37.68393863487315, -37.33412058132479, -36.88657325878912, -36.34429664312545, -35.71059932855025, -34.989071446076295, -34.1835583577382, -33.29813499893356, -32.33708058178246, -31.304853615512165, -30.20606743398758, -29.045466418327344, -27.82790296458966, -26.558315162909736, -25.241705179177142, -23.883118386465206, -22.4876233068491, -21.06029239691754, -19.606183684686783, -18.13032326333517, -16.637688655917163, -15.13319306696336, -13.621670529608178, -12.107861949526296, -10.596402044548539, -9.091807178558946, -7.5984640862050306, -6.1206194812393715, -4.662370538384184, -3.2276562372128788, -1.8202495553165017, -0.443750495929923, 0.8984200671931377, 2.203025746529802, 3.4670192189413322, 4.687546045929652, 5.861947758049352, 6.987764226940929, 8.062735349419482, 9.08480206858552, 10.05210675741791, 10.96299299097556, 11.816004733999177, 12.60988497112196, 13.343573807062706, 14.01620606427412, 14.627108405662065, 15.175796010106419, 15.661968828489968, 16.08550744777116, 16.446468590404816, 16.745080276175415, 16.981736673233474, 17.156992664769575, 17.271558157320154, 17.326292156212816], \"yaxis\": \"y\"}, {\"line\": {\"color\": \"rgb(0, 0, 255)\", \"dash\": \"dash\", \"width\": 2}, \"mode\": \"lines\", \"name\": \"validate - Y\", \"type\": \"scatter\", \"x\": [0.0, 0.1, 0.2, 0.3, 0.4, 0.5, 0.6, 0.7, 0.8, 0.9, 1.0, 1.1, 1.2, 1.3, 1.4, 1.5, 1.6, 1.7, 1.8, 1.9, 2.0, 2.1, 2.2, 2.3, 2.4, 2.5, 2.6, 2.7, 2.8, 2.9, 3.0, 3.1, 3.2, 3.3, 3.4, 3.5, 3.6, 3.7, 3.8, 3.9, 4.0, 4.1, 4.2, 4.3, 4.4, 4.5, 4.6, 4.7, 4.8, 4.9, 5.0, 5.1, 5.2, 5.3, 5.4, 5.5, 5.6, 5.7, 5.8, 5.9, 6.0, 6.1, 6.2, 6.3, 6.4, 6.5, 6.6, 6.7, 6.8, 6.9, 7.0, 7.1, 7.2, 7.3, 7.4, 7.5, 7.6, 7.7, 7.8, 7.9, 8.0, 8.1, 8.2, 8.3, 8.4, 8.5, 8.6, 8.7, 8.8, 8.9, 9.0, 9.1, 9.2, 9.3, 9.4, 9.5, 9.6, 9.7, 9.8, 9.9, 10.0, 10.1, 10.2, 10.3, 10.4, 10.5, 10.6, 10.7, 10.8, 10.9], \"xaxis\": \"x\", \"y\": [0.0, 0.0, 0.0, 0.0, 0.0, 0.0, 0.0, 0.0, 0.0, 0.0, 0.0, -0.008800020000000007, -0.047666774999999946, -0.14080032000000003, -0.3109340399999998, -0.58080132, -0.9716688750000002, -1.5011367449999995, -2.18240496, -3.0242735399999985, -4.03040916, -5.195678475, -6.5061481200000015, -7.944218054999997, -9.492288239999999, -11.1320253, -12.844362525000001, -14.610966540000003, -16.413503969999997, -18.23364144, -20.054512245, -21.860716350000004, -23.636853720000005, -25.368257654999997, -27.04246146, -28.64699844, -30.170135235000004, -31.602338490000005, -32.93407485, -34.15727763, -35.26608015000001, -36.253882395000005, -37.11628435500001, -37.85035269000001, -38.45242072500001, -38.92102179000001, -39.25542255000001, -39.455623005000014, -39.52382316000001, -39.46148968500001, -39.27082258500001, -38.956221870000014, -38.52135421500001, -37.97061963000001, -37.309884795, -36.54501639000001, -35.68188109500001, -34.72781226, -33.690143235, -32.57547403499999, -31.391871344999995, -30.147401849999998, -28.85013223499999, -27.508129184999994, -26.129459384999986, -24.722922854999993, -23.29658628, -21.85778300999999, -20.414579729999996, -18.975776459999988, -17.54870654999999, -16.140703349999995, -14.759100209999989, -13.410497144999994, -12.101494169999986, -10.83869129999999, -9.627955214999995, -8.474419259999989, -7.383950114999992, -6.360947789999987, -5.40907895999999, -4.532743634999993, -3.735608489999996, -3.020606864999986, -2.3899387649999886, -1.8458041949999906, -1.3904031599999922, -1.0244689949999937, -0.7487350349999897, -0.5639346149999904, -0.46933439999999077, -0.46493438999999076, -0.5500012499999904, -0.7230683099999928, -0.982668899999992, -1.3266030149999908, -1.7526706499999891, -2.257938464999987, -2.8394731199999956, -3.4943412749999934, -4.218876254999991, -5.0094113849999875, -5.862279989999984, -6.7730820599999975, -7.737417584999994, -8.75015321999999, -9.806888954999987, -10.903224779999983, -12.034027349999999, -13.194896654999994], \"yaxis\": \"y\"}, {\"line\": {\"color\": \"rgb(0, 0, 0)\", \"width\": 2}, \"mode\": \"lines\", \"name\": \"pycrash - heading\", \"type\": \"scatter\", \"x\": [0.0, 0.1, 0.2, 0.3, 0.4, 0.5, 0.6, 0.7, 0.8, 0.9, 1.0, 1.1, 1.2, 1.3, 1.4, 1.5, 1.6, 1.7, 1.8, 1.9, 2.0, 2.1, 2.2, 2.3, 2.4, 2.5, 2.6, 2.7, 2.8, 2.9, 3.0, 3.1, 3.2, 3.3, 3.4, 3.5, 3.6, 3.7, 3.8, 3.9, 4.0, 4.1, 4.2, 4.3, 4.4, 4.5, 4.6, 4.7, 4.8, 4.9, 5.0, 5.1, 5.2, 5.3, 5.4, 5.5, 5.6, 5.7, 5.8, 5.9, 6.0, 6.1, 6.2, 6.3, 6.4, 6.5, 6.6, 6.7, 6.8, 6.9, 7.0, 7.1, 7.2, 7.3, 7.4, 7.5, 7.6, 7.7, 7.8, 7.9, 8.0, 8.1, 8.2, 8.3, 8.4, 8.5, 8.6, 8.7, 8.8, 8.9, 9.0, 9.1, 9.2, 9.3, 9.4, 9.5, 9.6, 9.7, 9.8, 9.9, 10.0, 10.1, 10.2, 10.3, 10.4, 10.5, 10.6, 10.7, 10.8, 10.9], \"xaxis\": \"x2\", \"y\": [0.0, 0.0, 0.0, 0.0, 0.0, 0.0, 0.0, 0.0, 0.0, 0.0, 0.0, -0.0728916891642895, -0.4237646905090495, -1.2647519272466579, -2.6939176669289795, -4.718393419730979, -7.311661309248314, -10.446546138042152, -14.10315572203435, -18.26560735460551, -22.911332056977837, -27.96333847760388, -33.25059785046273, -38.574958432847694, -43.81310258489834, -48.93775423220646, -53.97212255317876, -58.93942338257074, -63.8435835721226, -68.6771081391991, -73.43506561598689, -78.12088513320654, -82.7430717076626, -87.30942287071716, -91.82425512343362, -96.28931208486071, -100.70591715198498, -105.07614339909547, -109.4025929317018, -113.68766117626592, -117.93315642666664, -122.14044615379107, -126.31078609101354, -130.44549020127295, -134.54588391209282, -138.61318851165507, -142.6484750400451, -146.65270401954268, -150.62678532866332, -154.57160295389244, -158.4880032464989, -162.37677729690782, -166.23865954621522, -170.07434039932093, -173.884478608822, -177.66970505893187, -181.43062059380432, -185.1677946180705, -188.88176748098974, -192.57305471976406, -196.2421501162378, -199.8895267106686, -203.51563704626977, -207.12091401325665, -210.70577243484163, -214.27061067089625, -217.81581169250273, -221.34174372526093, -224.84876086781605, -228.33720389321064, -231.8074011207551, -235.25966916385394, -238.69431350563949, -242.11162899827386, -245.51190038040411, -248.89540281509616, -252.26240239323207, -255.61315656976853, -258.94791455047806, -262.26691766330646, -265.57039972615775, -268.85858739834254, -272.13170050214705, -275.3899523162931, -278.6335498527116, -281.862694123735, -285.07758039775575, -288.2783984387056, -291.4653327289808, -294.6385626796758, -297.79826283157195, -300.94460304717967, -304.0777486924948, -307.1978608082242, -310.30509627191833, -313.39960795263613, -316.4815448586829, -319.5510522781711, -322.6082719123965, -325.65334200267046, -328.6863974514109, -331.7075699379157, -334.71698802888113, -337.71477728376686, -340.70106035535383, -343.6759570859299, -346.63958459939505, -349.59205738941483, -352.5334874037495, -355.4639841249757], \"yaxis\": \"y2\"}, {\"line\": {\"color\": \"rgb(0, 0, 0)\", \"dash\": \"dash\", \"width\": 2}, \"mode\": \"lines\", \"name\": \"validate - heading\", \"type\": \"scatter\", \"x\": [0.0, 0.1, 0.2, 0.3, 0.4, 0.5, 0.6, 0.7, 0.8, 0.9, 1.0, 1.1, 1.2, 1.3, 1.4, 1.5, 1.6, 1.7, 1.8, 1.9, 2.0, 2.1, 2.2, 2.3, 2.4, 2.5, 2.6, 2.7, 2.8, 2.9, 3.0, 3.1, 3.2, 3.3, 3.4, 3.5, 3.6, 3.7, 3.8, 3.9, 4.0, 4.1, 4.2, 4.3, 4.4, 4.5, 4.6, 4.7, 4.8, 4.9, 5.0, 5.1, 5.2, 5.3, 5.4, 5.5, 5.6, 5.7, 5.8, 5.9, 6.0, 6.1, 6.2, 6.3, 6.4, 6.5, 6.6, 6.7, 6.8, 6.9, 7.0, 7.1, 7.2, 7.3, 7.4, 7.5, 7.6, 7.7, 7.8, 7.9, 8.0, 8.1, 8.2, 8.3, 8.4, 8.5, 8.6, 8.7, 8.8, 8.9, 9.0, 9.1, 9.2, 9.3, 9.4, 9.5, 9.6, 9.7, 9.8, 9.9, 10.0, 10.1, 10.2, 10.3, 10.4, 10.5, 10.6, 10.7, 10.8, 10.9], \"xaxis\": \"x2\", \"y\": [0.0, 0.0, 0.0, 0.0, 0.0, 0.0, 0.0, 0.0, 0.0, 0.0, 0.0, -0.06, -0.46, -1.39, -2.88, -4.97, -7.66, -10.94, -14.76, -19.09, -23.88, -29.08, -34.55, -40.14, -45.77, -51.37, -56.92, -62.42, -67.86, -73.25, -78.58, -83.86, -89.1, -94.29, -99.43, -104.53, -109.59, -114.61, -119.59, -124.53, -129.44, -134.31, -139.15, -143.96, -148.73, -153.47, -158.19, -162.87, -167.53, -172.15, -176.75, 178.67, 174.12, 169.6, 165.1, 160.63, 156.17, 151.75, 147.34, 142.95, 138.59, 134.25, 129.93, 125.63, 121.35, 117.08, 112.84, 108.62, 104.41, 100.22, 96.05, 91.9, 87.76, 83.64, 79.54, 75.45, 71.38, 67.33, 63.29, 59.26, 55.25, 51.26, 47.28, 43.31, 39.36, 35.42, 31.5, 27.59, 23.69, 19.81, 15.93, 12.08, 8.23, 4.4, 0.57, -3.24, -7.03, -10.82, -14.59, -18.36, -22.11, -25.85, -29.58, -33.3, -37.0, -40.7, -44.39, -48.06, -51.73, -55.38], \"yaxis\": \"y2\"}],\n",
       "                        {\"autosize\": false, \"font\": {\"color\": \"black\", \"family\": \"Arial\", \"size\": 14}, \"height\": 500, \"legend\": {\"orientation\": \"h\", \"x\": 0.01, \"xanchor\": \"left\", \"y\": 1.1, \"yanchor\": \"top\"}, \"template\": {\"data\": {\"bar\": [{\"error_x\": {\"color\": \"#2a3f5f\"}, \"error_y\": {\"color\": \"#2a3f5f\"}, \"marker\": {\"line\": {\"color\": \"white\", \"width\": 0.5}}, \"type\": \"bar\"}], \"barpolar\": [{\"marker\": {\"line\": {\"color\": \"white\", \"width\": 0.5}}, \"type\": \"barpolar\"}], \"carpet\": [{\"aaxis\": {\"endlinecolor\": \"#2a3f5f\", \"gridcolor\": \"#C8D4E3\", \"linecolor\": \"#C8D4E3\", \"minorgridcolor\": \"#C8D4E3\", \"startlinecolor\": \"#2a3f5f\"}, \"baxis\": {\"endlinecolor\": \"#2a3f5f\", \"gridcolor\": \"#C8D4E3\", \"linecolor\": \"#C8D4E3\", \"minorgridcolor\": \"#C8D4E3\", \"startlinecolor\": \"#2a3f5f\"}, \"type\": \"carpet\"}], \"choropleth\": [{\"colorbar\": {\"outlinewidth\": 0, \"ticks\": \"\"}, \"type\": \"choropleth\"}], \"contour\": [{\"colorbar\": {\"outlinewidth\": 0, \"ticks\": \"\"}, \"colorscale\": [[0.0, \"#0d0887\"], [0.1111111111111111, \"#46039f\"], [0.2222222222222222, \"#7201a8\"], [0.3333333333333333, \"#9c179e\"], [0.4444444444444444, \"#bd3786\"], [0.5555555555555556, \"#d8576b\"], [0.6666666666666666, \"#ed7953\"], [0.7777777777777778, \"#fb9f3a\"], [0.8888888888888888, \"#fdca26\"], [1.0, \"#f0f921\"]], \"type\": \"contour\"}], \"contourcarpet\": [{\"colorbar\": {\"outlinewidth\": 0, \"ticks\": \"\"}, \"type\": \"contourcarpet\"}], \"heatmap\": [{\"colorbar\": {\"outlinewidth\": 0, \"ticks\": \"\"}, \"colorscale\": [[0.0, \"#0d0887\"], [0.1111111111111111, \"#46039f\"], [0.2222222222222222, \"#7201a8\"], [0.3333333333333333, \"#9c179e\"], [0.4444444444444444, \"#bd3786\"], [0.5555555555555556, \"#d8576b\"], [0.6666666666666666, \"#ed7953\"], [0.7777777777777778, \"#fb9f3a\"], [0.8888888888888888, \"#fdca26\"], [1.0, \"#f0f921\"]], \"type\": \"heatmap\"}], \"heatmapgl\": [{\"colorbar\": {\"outlinewidth\": 0, \"ticks\": \"\"}, \"colorscale\": [[0.0, \"#0d0887\"], [0.1111111111111111, \"#46039f\"], [0.2222222222222222, \"#7201a8\"], [0.3333333333333333, \"#9c179e\"], [0.4444444444444444, \"#bd3786\"], [0.5555555555555556, \"#d8576b\"], [0.6666666666666666, \"#ed7953\"], [0.7777777777777778, \"#fb9f3a\"], [0.8888888888888888, \"#fdca26\"], [1.0, \"#f0f921\"]], \"type\": \"heatmapgl\"}], \"histogram\": [{\"marker\": {\"colorbar\": {\"outlinewidth\": 0, \"ticks\": \"\"}}, \"type\": \"histogram\"}], \"histogram2d\": [{\"colorbar\": {\"outlinewidth\": 0, \"ticks\": \"\"}, \"colorscale\": [[0.0, \"#0d0887\"], [0.1111111111111111, \"#46039f\"], [0.2222222222222222, \"#7201a8\"], [0.3333333333333333, \"#9c179e\"], [0.4444444444444444, \"#bd3786\"], [0.5555555555555556, \"#d8576b\"], [0.6666666666666666, \"#ed7953\"], [0.7777777777777778, \"#fb9f3a\"], [0.8888888888888888, \"#fdca26\"], [1.0, \"#f0f921\"]], \"type\": \"histogram2d\"}], \"histogram2dcontour\": [{\"colorbar\": {\"outlinewidth\": 0, \"ticks\": \"\"}, \"colorscale\": [[0.0, \"#0d0887\"], [0.1111111111111111, \"#46039f\"], [0.2222222222222222, \"#7201a8\"], [0.3333333333333333, \"#9c179e\"], [0.4444444444444444, \"#bd3786\"], [0.5555555555555556, \"#d8576b\"], [0.6666666666666666, \"#ed7953\"], [0.7777777777777778, \"#fb9f3a\"], [0.8888888888888888, \"#fdca26\"], [1.0, \"#f0f921\"]], \"type\": \"histogram2dcontour\"}], \"mesh3d\": [{\"colorbar\": {\"outlinewidth\": 0, \"ticks\": \"\"}, \"type\": \"mesh3d\"}], \"parcoords\": [{\"line\": {\"colorbar\": {\"outlinewidth\": 0, \"ticks\": \"\"}}, \"type\": \"parcoords\"}], \"pie\": [{\"automargin\": true, \"type\": \"pie\"}], \"scatter\": [{\"marker\": {\"colorbar\": {\"outlinewidth\": 0, \"ticks\": \"\"}}, \"type\": \"scatter\"}], \"scatter3d\": [{\"line\": {\"colorbar\": {\"outlinewidth\": 0, \"ticks\": \"\"}}, \"marker\": {\"colorbar\": {\"outlinewidth\": 0, \"ticks\": \"\"}}, \"type\": \"scatter3d\"}], \"scattercarpet\": [{\"marker\": {\"colorbar\": {\"outlinewidth\": 0, \"ticks\": \"\"}}, \"type\": \"scattercarpet\"}], \"scattergeo\": [{\"marker\": {\"colorbar\": {\"outlinewidth\": 0, \"ticks\": \"\"}}, \"type\": \"scattergeo\"}], \"scattergl\": [{\"marker\": {\"colorbar\": {\"outlinewidth\": 0, \"ticks\": \"\"}}, \"type\": \"scattergl\"}], \"scattermapbox\": [{\"marker\": {\"colorbar\": {\"outlinewidth\": 0, \"ticks\": \"\"}}, \"type\": \"scattermapbox\"}], \"scatterpolar\": [{\"marker\": {\"colorbar\": {\"outlinewidth\": 0, \"ticks\": \"\"}}, \"type\": \"scatterpolar\"}], \"scatterpolargl\": [{\"marker\": {\"colorbar\": {\"outlinewidth\": 0, \"ticks\": \"\"}}, \"type\": \"scatterpolargl\"}], \"scatterternary\": [{\"marker\": {\"colorbar\": {\"outlinewidth\": 0, \"ticks\": \"\"}}, \"type\": \"scatterternary\"}], \"surface\": [{\"colorbar\": {\"outlinewidth\": 0, \"ticks\": \"\"}, \"colorscale\": [[0.0, \"#0d0887\"], [0.1111111111111111, \"#46039f\"], [0.2222222222222222, \"#7201a8\"], [0.3333333333333333, \"#9c179e\"], [0.4444444444444444, \"#bd3786\"], [0.5555555555555556, \"#d8576b\"], [0.6666666666666666, \"#ed7953\"], [0.7777777777777778, \"#fb9f3a\"], [0.8888888888888888, \"#fdca26\"], [1.0, \"#f0f921\"]], \"type\": \"surface\"}], \"table\": [{\"cells\": {\"fill\": {\"color\": \"#EBF0F8\"}, \"line\": {\"color\": \"white\"}}, \"header\": {\"fill\": {\"color\": \"#C8D4E3\"}, \"line\": {\"color\": \"white\"}}, \"type\": \"table\"}]}, \"layout\": {\"annotationdefaults\": {\"arrowcolor\": \"#2a3f5f\", \"arrowhead\": 0, \"arrowwidth\": 1}, \"coloraxis\": {\"colorbar\": {\"outlinewidth\": 0, \"ticks\": \"\"}}, \"colorscale\": {\"diverging\": [[0, \"#8e0152\"], [0.1, \"#c51b7d\"], [0.2, \"#de77ae\"], [0.3, \"#f1b6da\"], [0.4, \"#fde0ef\"], [0.5, \"#f7f7f7\"], [0.6, \"#e6f5d0\"], [0.7, \"#b8e186\"], [0.8, \"#7fbc41\"], [0.9, \"#4d9221\"], [1, \"#276419\"]], \"sequential\": [[0.0, \"#0d0887\"], [0.1111111111111111, \"#46039f\"], [0.2222222222222222, \"#7201a8\"], [0.3333333333333333, \"#9c179e\"], [0.4444444444444444, \"#bd3786\"], [0.5555555555555556, \"#d8576b\"], [0.6666666666666666, \"#ed7953\"], [0.7777777777777778, \"#fb9f3a\"], [0.8888888888888888, \"#fdca26\"], [1.0, \"#f0f921\"]], \"sequentialminus\": [[0.0, \"#0d0887\"], [0.1111111111111111, \"#46039f\"], [0.2222222222222222, \"#7201a8\"], [0.3333333333333333, \"#9c179e\"], [0.4444444444444444, \"#bd3786\"], [0.5555555555555556, \"#d8576b\"], [0.6666666666666666, \"#ed7953\"], [0.7777777777777778, \"#fb9f3a\"], [0.8888888888888888, \"#fdca26\"], [1.0, \"#f0f921\"]]}, \"colorway\": [\"#636efa\", \"#EF553B\", \"#00cc96\", \"#ab63fa\", \"#FFA15A\", \"#19d3f3\", \"#FF6692\", \"#B6E880\", \"#FF97FF\", \"#FECB52\"], \"font\": {\"color\": \"#2a3f5f\"}, \"geo\": {\"bgcolor\": \"white\", \"lakecolor\": \"white\", \"landcolor\": \"white\", \"showlakes\": true, \"showland\": true, \"subunitcolor\": \"#C8D4E3\"}, \"hoverlabel\": {\"align\": \"left\"}, \"hovermode\": \"closest\", \"mapbox\": {\"style\": \"light\"}, \"paper_bgcolor\": \"white\", \"plot_bgcolor\": \"white\", \"polar\": {\"angularaxis\": {\"gridcolor\": \"#EBF0F8\", \"linecolor\": \"#EBF0F8\", \"ticks\": \"\"}, \"bgcolor\": \"white\", \"radialaxis\": {\"gridcolor\": \"#EBF0F8\", \"linecolor\": \"#EBF0F8\", \"ticks\": \"\"}}, \"scene\": {\"xaxis\": {\"backgroundcolor\": \"white\", \"gridcolor\": \"#DFE8F3\", \"gridwidth\": 2, \"linecolor\": \"#EBF0F8\", \"showbackground\": true, \"ticks\": \"\", \"zerolinecolor\": \"#EBF0F8\"}, \"yaxis\": {\"backgroundcolor\": \"white\", \"gridcolor\": \"#DFE8F3\", \"gridwidth\": 2, \"linecolor\": \"#EBF0F8\", \"showbackground\": true, \"ticks\": \"\", \"zerolinecolor\": \"#EBF0F8\"}, \"zaxis\": {\"backgroundcolor\": \"white\", \"gridcolor\": \"#DFE8F3\", \"gridwidth\": 2, \"linecolor\": \"#EBF0F8\", \"showbackground\": true, \"ticks\": \"\", \"zerolinecolor\": \"#EBF0F8\"}}, \"shapedefaults\": {\"line\": {\"color\": \"#2a3f5f\"}}, \"ternary\": {\"aaxis\": {\"gridcolor\": \"#DFE8F3\", \"linecolor\": \"#A2B1C6\", \"ticks\": \"\"}, \"baxis\": {\"gridcolor\": \"#DFE8F3\", \"linecolor\": \"#A2B1C6\", \"ticks\": \"\"}, \"bgcolor\": \"white\", \"caxis\": {\"gridcolor\": \"#DFE8F3\", \"linecolor\": \"#A2B1C6\", \"ticks\": \"\"}}, \"title\": {\"x\": 0.05}, \"xaxis\": {\"automargin\": true, \"gridcolor\": \"#EBF0F8\", \"linecolor\": \"#EBF0F8\", \"ticks\": \"\", \"title\": {\"standoff\": 15}, \"zerolinecolor\": \"#EBF0F8\", \"zerolinewidth\": 2}, \"yaxis\": {\"automargin\": true, \"gridcolor\": \"#EBF0F8\", \"linecolor\": \"#EBF0F8\", \"ticks\": \"\", \"title\": {\"standoff\": 15}, \"zerolinecolor\": \"#EBF0F8\", \"zerolinewidth\": 2}}}, \"width\": 900, \"xaxis\": {\"anchor\": \"y\", \"domain\": [0.0, 1.0], \"linecolor\": \"black\", \"linewidth\": 1, \"matches\": \"x2\", \"showgrid\": false, \"showline\": true, \"showticklabels\": false, \"tickcolor\": \"black\", \"ticklen\": 10, \"ticks\": \"outside\", \"tickwidth\": 1, \"title\": {\"text\": \"\"}, \"zeroline\": false}, \"xaxis2\": {\"anchor\": \"y2\", \"domain\": [0.0, 1.0], \"linecolor\": \"black\", \"linewidth\": 1, \"showgrid\": false, \"showline\": true, \"tickcolor\": \"black\", \"ticklen\": 10, \"ticks\": \"outside\", \"tickwidth\": 1, \"title\": {\"text\": \"Time (s)\"}, \"zeroline\": false}, \"yaxis\": {\"anchor\": \"x\", \"domain\": [0.5349999999999999, 0.9999999999999999], \"linecolor\": \"black\", \"linewidth\": 1, \"showgrid\": false, \"showline\": true, \"tickcolor\": \"black\", \"ticklen\": 10, \"ticks\": \"outside\", \"tickwidth\": 1, \"title\": {\"text\": \"Displacement (ft)\"}, \"zeroline\": false}, \"yaxis2\": {\"anchor\": \"x2\", \"domain\": [0.0, 0.46499999999999997], \"linecolor\": \"black\", \"linewidth\": 1, \"showgrid\": false, \"showline\": true, \"tickcolor\": \"black\", \"ticklen\": 10, \"ticks\": \"outside\", \"tickwidth\": 1, \"title\": {\"text\": \"Heading Angle (deg)\"}, \"zeroline\": false}},\n",
       "                        {\"responsive\": true}\n",
       "                    ).then(function(){\n",
       "                            \n",
       "var gd = document.getElementById('cda34346-2990-4e11-9613-688dc89915ad');\n",
       "var x = new MutationObserver(function (mutations, observer) {{\n",
       "        var display = window.getComputedStyle(gd).display;\n",
       "        if (!display || display === 'none') {{\n",
       "            console.log([gd, 'removed!']);\n",
       "            Plotly.purge(gd);\n",
       "            observer.disconnect();\n",
       "        }}\n",
       "}});\n",
       "\n",
       "// Listen for the removal of the full notebook cells\n",
       "var notebookContainer = gd.closest('#notebook-container');\n",
       "if (notebookContainer) {{\n",
       "    x.observe(notebookContainer, {childList: true});\n",
       "}}\n",
       "\n",
       "// Listen for the clearing of the current output cell\n",
       "var outputEl = gd.closest('.output');\n",
       "if (outputEl) {{\n",
       "    x.observe(outputEl, {childList: true});\n",
       "}}\n",
       "\n",
       "                        })\n",
       "                };\n",
       "                });\n",
       "            </script>\n",
       "        </div>"
      ]
     },
     "metadata": {},
     "output_type": "display_data"
    },
    {
     "data": {
      "application/vnd.plotly.v1+json": {
       "config": {
        "plotlyServerURL": "https://plot.ly"
       },
       "data": [
        {
         "line": {
          "color": "rgb(0, 255, 0)",
          "width": 2
         },
         "mode": "lines",
         "name": "pycrash - X",
         "type": "scatter",
         "x": [
          0,
          0.1,
          0.2,
          0.3,
          0.4,
          0.5,
          0.6,
          0.7,
          0.8,
          0.9,
          1,
          1.1,
          1.2,
          1.3,
          1.4,
          1.5,
          1.6,
          1.7,
          1.8,
          1.9,
          2,
          2.1,
          2.2,
          2.3,
          2.4,
          2.5,
          2.6,
          2.7,
          2.8,
          2.9,
          3,
          3.1,
          3.2,
          3.3,
          3.4,
          3.5,
          3.6,
          3.7,
          3.8,
          3.9,
          4,
          4.1,
          4.2,
          4.3,
          4.4,
          4.5,
          4.6,
          4.7,
          4.8,
          4.9,
          5,
          5.1,
          5.2,
          5.3,
          5.4,
          5.5,
          5.6,
          5.7,
          5.8,
          5.9,
          6,
          6.1,
          6.2,
          6.3,
          6.4,
          6.5,
          6.6,
          6.7,
          6.8,
          6.9,
          7,
          7.1,
          7.2,
          7.3,
          7.4,
          7.5,
          7.6,
          7.7,
          7.8,
          7.9,
          8,
          8.1,
          8.2,
          8.3,
          8.4,
          8.5,
          8.6,
          8.7,
          8.8,
          8.9,
          9,
          9.1,
          9.2,
          9.3,
          9.4,
          9.5,
          9.6,
          9.7,
          9.8,
          9.9,
          10,
          10.1,
          10.2,
          10.3,
          10.4,
          10.5,
          10.6,
          10.7,
          10.8,
          10.9
         ],
         "xaxis": "x",
         "y": [
          15,
          15,
          15,
          15,
          15,
          15,
          15,
          15,
          15,
          15,
          15,
          14.99598938704336,
          14.975784201743496,
          14.928459319606533,
          14.849199179583502,
          14.72703246834814,
          14.536620913396185,
          14.242991975125015,
          13.811904666483217,
          13.215949751482215,
          12.444071153579632,
          11.573196155751582,
          10.69074801672706,
          9.77008682891051,
          8.751127206061797,
          7.626113764475937,
          6.442104036288723,
          5.256323327894339,
          4.100635037393592,
          2.978444022306622,
          1.8822887212777824,
          0.8098981245435156,
          -0.2325139291589407,
          -1.2359608718719524,
          -2.1943585582493026,
          -3.105495099553564,
          -3.9686999558314997,
          -4.782676845836242,
          -5.545195280642848,
          -6.253986096880033,
          -6.907497211507724,
          -7.504936839953823,
          -8.045914332237041,
          -8.530176505586331,
          -8.957604453699268,
          -9.328325042738689,
          -9.642764795877007,
          -9.901614489092095,
          -10.10577040959649,
          -10.256305058431408,
          -10.35446425083619,
          -10.401663751240834,
          -10.399473790536572,
          -10.34959918622835,
          -10.253864187354749,
          -10.1142017089076,
          -9.93264179193712,
          -9.711297492069717,
          -9.452350780863998,
          -9.158040870663058,
          -8.830654362612732,
          -8.472515190144208,
          -8.085973655033591,
          -7.6733955999423396,
          -7.237152845063894,
          -6.779614841459606,
          -6.303140724636995,
          -5.810071295756519,
          -5.3027211966825885,
          -4.783371762771922,
          -4.254264667379532,
          -3.717596096154081,
          -3.1755112064084403,
          -2.6300988882281584,
          -2.0833869909654705,
          -1.5373380935776135,
          -0.9938457478014026,
          -0.4547310888025565,
          0.07826021500668524,
          0.6034606335557938,
          1.1192830394815454,
          1.624222587488027,
          2.116858253899012,
          2.5958540622946176,
          3.0599599954554852,
          3.5080125918314105,
          3.9389352402382167,
          4.3517381965557025,
          4.7455183419730185,
          5.119458693610164,
          5.472827676239714,
          5.804978168134241,
          6.115346337579763,
          6.4034502856143645,
          6.668888507675591,
          6.911338185770787,
          7.130553323788504,
          7.326362739464633,
          7.4986679260545515,
          7.647440795690843,
          7.7727213158578445,
          7.874615050457631,
          7.953290616913911,
          8.008977070330355,
          8.04196122515551,
          8.05258492442024,
          8.041242266363405,
          8.008376797939755,
          7.954478684267184,
          7.880081862640146
         ],
         "yaxis": "y"
        },
        {
         "line": {
          "color": "rgb(0, 255, 0)",
          "dash": "dash",
          "width": 2
         },
         "mode": "lines",
         "name": "validate - X",
         "type": "scatter",
         "x": [
          0,
          0.1,
          0.2,
          0.3,
          0.4,
          0.5,
          0.6,
          0.7,
          0.8,
          0.9,
          1,
          1.1,
          1.2,
          1.3,
          1.4,
          1.5,
          1.6,
          1.7,
          1.8,
          1.9,
          2,
          2.1,
          2.2,
          2.3,
          2.4,
          2.5,
          2.6,
          2.7,
          2.8,
          2.9,
          3,
          3.1,
          3.2,
          3.3,
          3.4,
          3.5,
          3.6,
          3.7,
          3.8,
          3.9,
          4,
          4.1,
          4.2,
          4.3,
          4.4,
          4.5,
          4.6,
          4.7,
          4.8,
          4.9,
          5,
          5.1,
          5.2,
          5.3,
          5.4,
          5.5,
          5.6,
          5.7,
          5.8,
          5.9,
          6,
          6.1,
          6.2,
          6.3,
          6.4,
          6.5,
          6.6,
          6.7,
          6.8,
          6.9,
          7,
          7.1,
          7.2,
          7.3,
          7.4,
          7.5,
          7.6,
          7.7,
          7.8,
          7.9,
          8,
          8.1,
          8.2,
          8.3,
          8.4,
          8.5,
          8.6,
          8.7,
          8.8,
          8.9,
          9,
          9.1,
          9.2,
          9.3,
          9.4,
          9.5,
          9.6,
          9.7,
          9.8,
          9.9,
          10,
          10.1,
          10.2,
          10.3,
          10.4,
          10.5,
          10.6,
          10.7,
          10.8,
          10.9
         ],
         "xaxis": "x",
         "y": [
          15,
          15,
          15,
          15,
          15,
          15,
          15,
          15,
          15,
          15,
          15,
          15,
          14.98,
          14.92,
          14.82,
          14.64,
          14.37,
          13.97,
          13.42,
          12.7,
          11.799999999999999,
          10.77,
          9.69,
          8.56,
          7.39,
          6.19,
          4.97,
          3.74,
          2.51,
          1.3,
          0.11,
          -1.05,
          -2.17,
          -3.24,
          -4.25,
          -5.2,
          -6.09,
          -6.919999999999999,
          -7.66,
          -8.34,
          -8.94,
          -9.45,
          -9.89,
          -10.25,
          -10.53,
          -10.73,
          -10.85,
          -10.9,
          -10.88,
          -10.78,
          -10.61,
          -10.38,
          -10.08,
          -9.73,
          -9.32,
          -8.86,
          -8.35,
          -7.8,
          -7.22,
          -6.6,
          -5.94,
          -5.27,
          -4.57,
          -3.86,
          -3.13,
          -2.4,
          -1.67,
          -0.9299999999999999,
          -0.2,
          0.52,
          1.23,
          1.93,
          2.6,
          3.26,
          3.8899999999999997,
          4.49,
          5.06,
          5.6,
          6.1,
          6.57,
          7.010000000000001,
          7.4,
          7.75,
          8.06,
          8.33,
          8.56,
          8.74,
          8.88,
          8.98,
          9.04,
          9.05,
          9.02,
          8.95,
          8.85,
          8.7,
          8.52,
          8.3,
          8.04,
          7.75,
          7.4399999999999995,
          7.089999999999999,
          6.72,
          6.319999999999999,
          5.890000000000001,
          5.45,
          4.99,
          4.51,
          4.01,
          3.51,
          2.9899999999999998
         ],
         "yaxis": "y"
        },
        {
         "line": {
          "color": "rgb(0, 0, 255)",
          "width": 2
         },
         "mode": "lines",
         "name": "pycrash - Y",
         "type": "scatter",
         "x": [
          0,
          0.1,
          0.2,
          0.3,
          0.4,
          0.5,
          0.6,
          0.7,
          0.8,
          0.9,
          1,
          1.1,
          1.2,
          1.3,
          1.4,
          1.5,
          1.6,
          1.7,
          1.8,
          1.9,
          2,
          2.1,
          2.2,
          2.3,
          2.4,
          2.5,
          2.6,
          2.7,
          2.8,
          2.9,
          3,
          3.1,
          3.2,
          3.3,
          3.4,
          3.5,
          3.6,
          3.7,
          3.8,
          3.9,
          4,
          4.1,
          4.2,
          4.3,
          4.4,
          4.5,
          4.6,
          4.7,
          4.8,
          4.9,
          5,
          5.1,
          5.2,
          5.3,
          5.4,
          5.5,
          5.6,
          5.7,
          5.8,
          5.9,
          6,
          6.1,
          6.2,
          6.3,
          6.4,
          6.5,
          6.6,
          6.7,
          6.8,
          6.9,
          7,
          7.1,
          7.2,
          7.3,
          7.4,
          7.5,
          7.6,
          7.7,
          7.8,
          7.9,
          8,
          8.1,
          8.2,
          8.3,
          8.4,
          8.5,
          8.6,
          8.7,
          8.8,
          8.9,
          9,
          9.1,
          9.2,
          9.3,
          9.4,
          9.5,
          9.6,
          9.7,
          9.8,
          9.9,
          10,
          10.1,
          10.2,
          10.3,
          10.4,
          10.5,
          10.6,
          10.7,
          10.8,
          10.9
         ],
         "xaxis": "x",
         "y": [
          0,
          0,
          0,
          0,
          0,
          0,
          0,
          0,
          0,
          0,
          0,
          -0.10882398290465473,
          -0.412442092124285,
          -0.8317640399662393,
          -1.2955049748596719,
          -1.8118318700082878,
          -2.4295251864576923,
          -3.1798702087016415,
          -4.055164604752743,
          -5.019496440223645,
          -6.016721455369647,
          -6.952610637738222,
          -7.76892833490736,
          -8.496442238250383,
          -9.167176921961273,
          -9.768208090659478,
          -10.268492730062967,
          -10.650711655025786,
          -10.917027161399018,
          -11.078027885057429,
          -11.14275616386759,
          -11.11699605191791,
          -11.006079803043518,
          -10.816552777814444,
          -10.55532725877179,
          -10.228366643954587,
          -9.840612275313328,
          -9.396864567540183,
          -8.902408208353824,
          -8.36283798834839,
          -7.78352204364295,
          -7.169340008766759,
          -6.524843153337162,
          -5.854529704538344,
          -5.162932036242302,
          -4.454500487456791,
          -3.7334632308452305,
          -3.0037953710775382,
          -2.2692782906177524,
          -1.5335548374951162,
          -0.8001277452209768,
          -0.07232284105058767,
          0.6467368256291559,
          1.3541280782362473,
          2.047111604027124,
          2.7231237392793477,
          3.3797804250612855,
          4.014883891569746,
          4.626423486029874,
          5.212570731809946,
          5.771673690426785,
          6.302253761619549,
          6.803003960309702,
          7.272786316580097,
          7.710627560087151,
          8.115713957230893,
          8.487386313964214,
          8.825135271394695,
          9.12859643011415,
          9.397545001999825,
          9.631890107685539,
          9.831668974201525,
          9.997041127331151,
          10.128282515364456,
          10.22577950837642,
          10.290022805079344,
          10.32160131425477,
          10.321196044140414,
          10.289573999260805,
          10.227582088878773,
          10.136141071122056,
          10.016239559362846,
          9.868928104190559,
          9.695313356687274,
          9.49655232402321,
          9.273846734886888,
          9.028437529781586,
          8.761599483816147,
          8.474635966714816,
          8.168873847876393,
          7.84565855709138,
          7.506349309594107,
          7.1523144999684645,
          6.784927267655096,
          6.405561238040031,
          6.015586444228673,
          5.616365433475532,
          5.209249559982938,
          4.79557546460656,
          4.376661742282751,
          3.9538057983084713,
          3.5282808939175303,
          3.1013333803711656,
          2.674180120023417,
          2.24800609273958,
          1.8239621860224955,
          1.4031631667570885,
          0.9866858318056649,
          0.5755673342177526,
          0.17080368165714183
         ],
         "yaxis": "y"
        },
        {
         "line": {
          "color": "rgb(0, 0, 255)",
          "dash": "dash",
          "width": 2
         },
         "mode": "lines",
         "name": "validate - Y",
         "type": "scatter",
         "x": [
          0,
          0.1,
          0.2,
          0.3,
          0.4,
          0.5,
          0.6,
          0.7,
          0.8,
          0.9,
          1,
          1.1,
          1.2,
          1.3,
          1.4,
          1.5,
          1.6,
          1.7,
          1.8,
          1.9,
          2,
          2.1,
          2.2,
          2.3,
          2.4,
          2.5,
          2.6,
          2.7,
          2.8,
          2.9,
          3,
          3.1,
          3.2,
          3.3,
          3.4,
          3.5,
          3.6,
          3.7,
          3.8,
          3.9,
          4,
          4.1,
          4.2,
          4.3,
          4.4,
          4.5,
          4.6,
          4.7,
          4.8,
          4.9,
          5,
          5.1,
          5.2,
          5.3,
          5.4,
          5.5,
          5.6,
          5.7,
          5.8,
          5.9,
          6,
          6.1,
          6.2,
          6.3,
          6.4,
          6.5,
          6.6,
          6.7,
          6.8,
          6.9,
          7,
          7.1,
          7.2,
          7.3,
          7.4,
          7.5,
          7.6,
          7.7,
          7.8,
          7.9,
          8,
          8.1,
          8.2,
          8.3,
          8.4,
          8.5,
          8.6,
          8.7,
          8.8,
          8.9,
          9,
          9.1,
          9.2,
          9.3,
          9.4,
          9.5,
          9.6,
          9.7,
          9.8,
          9.9,
          10,
          10.1,
          10.2,
          10.3,
          10.4,
          10.5,
          10.6,
          10.7,
          10.8,
          10.9
         ],
         "xaxis": "x",
         "y": [
          0,
          0,
          0,
          0,
          0,
          0,
          0,
          0,
          0,
          0,
          0,
          -0.12,
          -0.4099999999999999,
          -0.86,
          -1.46,
          -2.22,
          -3.1099999999999994,
          -4.11,
          -5.18,
          -6.3,
          -7.42,
          -8.47,
          -9.4,
          -10.21,
          -10.9,
          -11.459999999999999,
          -11.89,
          -12.2,
          -12.38,
          -12.439999999999998,
          -12.39,
          -12.24,
          -11.980000000000002,
          -11.629999999999999,
          -11.2,
          -10.68,
          -10.09,
          -9.44,
          -8.72,
          -7.960000000000001,
          -7.16,
          -6.309999999999999,
          -5.45,
          -4.56,
          -3.65,
          -2.7400000000000007,
          -1.8200000000000003,
          -0.9100000000000001,
          -0.02,
          0.87,
          1.7299999999999998,
          2.56,
          3.37,
          4.14,
          4.87,
          5.56,
          6.21,
          6.8,
          7.3500000000000005,
          7.85,
          8.29,
          8.68,
          9.01,
          9.29,
          9.51,
          9.67,
          9.78,
          9.84,
          9.84,
          9.78,
          9.68,
          9.52,
          9.32,
          9.07,
          8.78,
          8.44,
          8.07,
          7.66,
          7.21,
          6.74,
          6.239999999999999,
          5.709999999999999,
          5.16,
          4.59,
          4.01,
          3.41,
          2.8,
          2.19,
          1.57,
          0.9499999999999998,
          0.34,
          -0.28,
          -0.88,
          -1.48,
          -2.06,
          -2.63,
          -3.18,
          -3.71,
          -4.22,
          -4.71,
          -5.17,
          -5.61,
          -6.02,
          -6.4,
          -6.749999999999999,
          -7.06,
          -7.3500000000000005,
          -7.599999999999999,
          -7.82,
          -8.01
         ],
         "yaxis": "y"
        },
        {
         "line": {
          "color": "rgb(0, 0, 0)",
          "width": 2
         },
         "mode": "lines",
         "name": "pycrash - slip angle",
         "type": "scatter",
         "x": [
          0,
          0.1,
          0.2,
          0.3,
          0.4,
          0.5,
          0.6,
          0.7,
          0.8,
          0.9,
          1,
          1.1,
          1.2,
          1.3,
          1.4,
          1.5,
          1.6,
          1.7,
          1.8,
          1.9,
          2,
          2.1,
          2.2,
          2.3,
          2.4,
          2.5,
          2.6,
          2.7,
          2.8,
          2.9,
          3,
          3.1,
          3.2,
          3.3,
          3.4,
          3.5,
          3.6,
          3.7,
          3.8,
          3.9,
          4,
          4.1,
          4.2,
          4.3,
          4.4,
          4.5,
          4.6,
          4.7,
          4.8,
          4.9,
          5,
          5.1,
          5.2,
          5.3,
          5.4,
          5.5,
          5.6,
          5.7,
          5.8,
          5.9,
          6,
          6.1,
          6.2,
          6.3,
          6.4,
          6.5,
          6.6,
          6.7,
          6.8,
          6.9,
          7,
          7.1,
          7.2,
          7.3,
          7.4,
          7.5,
          7.6,
          7.7,
          7.8,
          7.9,
          8,
          8.1,
          8.2,
          8.3,
          8.4,
          8.5,
          8.6,
          8.7,
          8.8,
          8.9,
          9,
          9.1,
          9.2,
          9.3,
          9.4,
          9.5,
          9.6,
          9.7,
          9.8,
          9.9,
          10,
          10.1,
          10.2,
          10.3,
          10.4,
          10.5,
          10.6,
          10.7,
          10.8,
          10.9
         ],
         "xaxis": "x2",
         "y": [
          0,
          0,
          0,
          0,
          0,
          0,
          0,
          0,
          0,
          0,
          0,
          0.41579618624937803,
          1.5049129370314422,
          2.7662698606107603,
          3.723646188736704,
          4.323705969052408,
          4.774969710704896,
          5.277153046380525,
          5.90872211966818,
          6.659327061135884,
          7.447101807197175,
          7.887965236594466,
          7.701342065202412,
          7.240939260498841,
          7.003641423724535,
          7.152588746947302,
          7.533131912956489,
          7.915664773174611,
          8.182179910606338,
          8.350957816086316,
          8.493955906200169,
          8.655697468430024,
          8.832751178713362,
          9.000361642467144,
          9.143399716877134,
          9.265299387456059,
          9.377882864452065,
          9.488856095146817,
          9.598133509949609,
          9.7020530906793,
          9.79854149691233,
          9.888570801319853,
          9.97435236266425,
          10.057231361606245,
          10.137203418359043,
          10.213766601030837,
          10.286804478751671,
          10.356726812661101,
          10.424066234644158,
          10.48911946362265,
          10.551934160537684,
          10.612510082491552,
          10.670946489167724,
          10.727426588617009,
          10.782121691332817,
          10.835136753132831,
          10.886531512298252,
          10.936367880970984,
          10.984729634372215,
          11.031707700467525,
          11.077379175702106,
          11.121802944434004,
          11.165030003912857,
          11.207113259470374,
          11.248107919217727,
          11.288066058783249,
          11.327033178082026,
          11.365049624459827,
          11.402153874286311,
          11.438383941051452,
          11.473776405879425,
          11.508365100922063,
          11.542181057504202,
          11.575253453708344,
          11.607610369919943,
          11.639278775340392,
          11.67028414972145,
          11.700650364076449,
          11.730399947003978,
          11.759554411744345,
          11.788134362850396,
          11.816159422951964,
          11.843648188771017,
          11.870618317280192,
          11.89708666574753,
          11.923069373582079,
          11.948581869759636,
          11.973638871035751,
          11.998254420841919,
          12.0224419550545,
          12.046214353270251,
          12.069583960852668,
          12.092562601301143,
          12.11516160051133,
          12.137391822323265,
          12.159263700469227,
          12.180787258926275,
          12.201972126448632,
          12.222827554203226,
          12.243362437707608,
          12.263585337678773,
          12.283504496021774,
          12.303127848688339,
          12.322463039090184,
          12.341517432982501,
          12.360298132807458,
          12.378811989808906,
          12.39706561447167,
          12.415065386841695,
          12.432817467234294
         ],
         "yaxis": "y2"
        },
        {
         "line": {
          "color": "rgb(0, 0, 0)",
          "dash": "dash",
          "width": 2
         },
         "mode": "lines",
         "name": "validate - slip angle",
         "type": "scatter",
         "x": [
          0,
          0.1,
          0.2,
          0.3,
          0.4,
          0.5,
          0.6,
          0.7,
          0.8,
          0.9,
          1,
          1.1,
          1.2,
          1.3,
          1.4,
          1.5,
          1.6,
          1.7,
          1.8,
          1.9,
          2,
          2.1,
          2.2,
          2.3,
          2.4,
          2.5,
          2.6,
          2.7,
          2.8,
          2.9,
          3,
          3.1,
          3.2,
          3.3,
          3.4,
          3.5,
          3.6,
          3.7,
          3.8,
          3.9,
          4,
          4.1,
          4.2,
          4.3,
          4.4,
          4.5,
          4.6,
          4.7,
          4.8,
          4.9,
          5,
          5.1,
          5.2,
          5.3,
          5.4,
          5.5,
          5.6,
          5.7,
          5.8,
          5.9,
          6,
          6.1,
          6.2,
          6.3,
          6.4,
          6.5,
          6.6,
          6.7,
          6.8,
          6.9,
          7,
          7.1,
          7.2,
          7.3,
          7.4,
          7.5,
          7.6,
          7.7,
          7.8,
          7.9,
          8,
          8.1,
          8.2,
          8.3,
          8.4,
          8.5,
          8.6,
          8.7,
          8.8,
          8.9,
          9,
          9.1,
          9.2,
          9.3,
          9.4,
          9.5,
          9.6,
          9.7,
          9.8,
          9.9,
          10,
          10.1,
          10.2,
          10.3,
          10.4,
          10.5,
          10.6,
          10.7,
          10.8,
          10.9
         ],
         "xaxis": "x2",
         "y": [
          0,
          0,
          0,
          0,
          0,
          0,
          0,
          0,
          0,
          0,
          0,
          0.084587,
          0.531067,
          1.171556,
          1.84823,
          2.545153,
          3.24822,
          3.942141,
          4.562777,
          5.101874,
          5.581144,
          6.021508,
          6.325132,
          6.453797,
          6.454851,
          6.371153,
          6.253842,
          6.125854,
          5.995736,
          5.866808,
          5.740953,
          5.61967,
          5.503944,
          5.394236,
          5.290543,
          5.192439,
          5.099403,
          5.010949,
          4.926594,
          4.84598,
          4.768839,
          4.694902,
          4.623957,
          4.555829,
          4.490318,
          4.427261,
          4.366522,
          4.307944,
          4.251401,
          4.196789,
          4.143989,
          4.0929,
          4.043445,
          3.995526,
          3.949067,
          3.904003,
          3.860259,
          3.81777,
          3.776487,
          3.736345,
          3.697294,
          3.659293,
          3.622289,
          3.586239,
          3.55111,
          3.516858,
          3.483447,
          3.450849,
          3.419028,
          3.387952,
          3.357599,
          3.327937,
          3.298941,
          3.27059,
          3.242857,
          3.215721,
          3.189165,
          3.163164,
          3.1377,
          3.112759,
          3.088321,
          3.064368,
          3.040888,
          3.017863,
          2.99528,
          2.973127,
          2.951388,
          2.93005,
          2.909106,
          2.888539,
          2.86834,
          2.8485,
          2.829007,
          2.80985,
          2.791023,
          2.772515,
          2.754316,
          2.736421,
          2.718819,
          2.701502,
          2.684466,
          2.667701,
          2.651199,
          2.634957,
          2.618965,
          2.603218,
          2.587712,
          2.572438,
          2.557391,
          2.542567
         ],
         "yaxis": "y2"
        }
       ],
       "layout": {
        "autosize": false,
        "font": {
         "color": "black",
         "family": "Arial",
         "size": 14
        },
        "height": 500,
        "legend": {
         "orientation": "h",
         "x": 0.01,
         "xanchor": "left",
         "y": 1.1,
         "yanchor": "top"
        },
        "template": {
         "data": {
          "bar": [
           {
            "error_x": {
             "color": "#2a3f5f"
            },
            "error_y": {
             "color": "#2a3f5f"
            },
            "marker": {
             "line": {
              "color": "white",
              "width": 0.5
             }
            },
            "type": "bar"
           }
          ],
          "barpolar": [
           {
            "marker": {
             "line": {
              "color": "white",
              "width": 0.5
             }
            },
            "type": "barpolar"
           }
          ],
          "carpet": [
           {
            "aaxis": {
             "endlinecolor": "#2a3f5f",
             "gridcolor": "#C8D4E3",
             "linecolor": "#C8D4E3",
             "minorgridcolor": "#C8D4E3",
             "startlinecolor": "#2a3f5f"
            },
            "baxis": {
             "endlinecolor": "#2a3f5f",
             "gridcolor": "#C8D4E3",
             "linecolor": "#C8D4E3",
             "minorgridcolor": "#C8D4E3",
             "startlinecolor": "#2a3f5f"
            },
            "type": "carpet"
           }
          ],
          "choropleth": [
           {
            "colorbar": {
             "outlinewidth": 0,
             "ticks": ""
            },
            "type": "choropleth"
           }
          ],
          "contour": [
           {
            "colorbar": {
             "outlinewidth": 0,
             "ticks": ""
            },
            "colorscale": [
             [
              0,
              "#0d0887"
             ],
             [
              0.1111111111111111,
              "#46039f"
             ],
             [
              0.2222222222222222,
              "#7201a8"
             ],
             [
              0.3333333333333333,
              "#9c179e"
             ],
             [
              0.4444444444444444,
              "#bd3786"
             ],
             [
              0.5555555555555556,
              "#d8576b"
             ],
             [
              0.6666666666666666,
              "#ed7953"
             ],
             [
              0.7777777777777778,
              "#fb9f3a"
             ],
             [
              0.8888888888888888,
              "#fdca26"
             ],
             [
              1,
              "#f0f921"
             ]
            ],
            "type": "contour"
           }
          ],
          "contourcarpet": [
           {
            "colorbar": {
             "outlinewidth": 0,
             "ticks": ""
            },
            "type": "contourcarpet"
           }
          ],
          "heatmap": [
           {
            "colorbar": {
             "outlinewidth": 0,
             "ticks": ""
            },
            "colorscale": [
             [
              0,
              "#0d0887"
             ],
             [
              0.1111111111111111,
              "#46039f"
             ],
             [
              0.2222222222222222,
              "#7201a8"
             ],
             [
              0.3333333333333333,
              "#9c179e"
             ],
             [
              0.4444444444444444,
              "#bd3786"
             ],
             [
              0.5555555555555556,
              "#d8576b"
             ],
             [
              0.6666666666666666,
              "#ed7953"
             ],
             [
              0.7777777777777778,
              "#fb9f3a"
             ],
             [
              0.8888888888888888,
              "#fdca26"
             ],
             [
              1,
              "#f0f921"
             ]
            ],
            "type": "heatmap"
           }
          ],
          "heatmapgl": [
           {
            "colorbar": {
             "outlinewidth": 0,
             "ticks": ""
            },
            "colorscale": [
             [
              0,
              "#0d0887"
             ],
             [
              0.1111111111111111,
              "#46039f"
             ],
             [
              0.2222222222222222,
              "#7201a8"
             ],
             [
              0.3333333333333333,
              "#9c179e"
             ],
             [
              0.4444444444444444,
              "#bd3786"
             ],
             [
              0.5555555555555556,
              "#d8576b"
             ],
             [
              0.6666666666666666,
              "#ed7953"
             ],
             [
              0.7777777777777778,
              "#fb9f3a"
             ],
             [
              0.8888888888888888,
              "#fdca26"
             ],
             [
              1,
              "#f0f921"
             ]
            ],
            "type": "heatmapgl"
           }
          ],
          "histogram": [
           {
            "marker": {
             "colorbar": {
              "outlinewidth": 0,
              "ticks": ""
             }
            },
            "type": "histogram"
           }
          ],
          "histogram2d": [
           {
            "colorbar": {
             "outlinewidth": 0,
             "ticks": ""
            },
            "colorscale": [
             [
              0,
              "#0d0887"
             ],
             [
              0.1111111111111111,
              "#46039f"
             ],
             [
              0.2222222222222222,
              "#7201a8"
             ],
             [
              0.3333333333333333,
              "#9c179e"
             ],
             [
              0.4444444444444444,
              "#bd3786"
             ],
             [
              0.5555555555555556,
              "#d8576b"
             ],
             [
              0.6666666666666666,
              "#ed7953"
             ],
             [
              0.7777777777777778,
              "#fb9f3a"
             ],
             [
              0.8888888888888888,
              "#fdca26"
             ],
             [
              1,
              "#f0f921"
             ]
            ],
            "type": "histogram2d"
           }
          ],
          "histogram2dcontour": [
           {
            "colorbar": {
             "outlinewidth": 0,
             "ticks": ""
            },
            "colorscale": [
             [
              0,
              "#0d0887"
             ],
             [
              0.1111111111111111,
              "#46039f"
             ],
             [
              0.2222222222222222,
              "#7201a8"
             ],
             [
              0.3333333333333333,
              "#9c179e"
             ],
             [
              0.4444444444444444,
              "#bd3786"
             ],
             [
              0.5555555555555556,
              "#d8576b"
             ],
             [
              0.6666666666666666,
              "#ed7953"
             ],
             [
              0.7777777777777778,
              "#fb9f3a"
             ],
             [
              0.8888888888888888,
              "#fdca26"
             ],
             [
              1,
              "#f0f921"
             ]
            ],
            "type": "histogram2dcontour"
           }
          ],
          "mesh3d": [
           {
            "colorbar": {
             "outlinewidth": 0,
             "ticks": ""
            },
            "type": "mesh3d"
           }
          ],
          "parcoords": [
           {
            "line": {
             "colorbar": {
              "outlinewidth": 0,
              "ticks": ""
             }
            },
            "type": "parcoords"
           }
          ],
          "pie": [
           {
            "automargin": true,
            "type": "pie"
           }
          ],
          "scatter": [
           {
            "marker": {
             "colorbar": {
              "outlinewidth": 0,
              "ticks": ""
             }
            },
            "type": "scatter"
           }
          ],
          "scatter3d": [
           {
            "line": {
             "colorbar": {
              "outlinewidth": 0,
              "ticks": ""
             }
            },
            "marker": {
             "colorbar": {
              "outlinewidth": 0,
              "ticks": ""
             }
            },
            "type": "scatter3d"
           }
          ],
          "scattercarpet": [
           {
            "marker": {
             "colorbar": {
              "outlinewidth": 0,
              "ticks": ""
             }
            },
            "type": "scattercarpet"
           }
          ],
          "scattergeo": [
           {
            "marker": {
             "colorbar": {
              "outlinewidth": 0,
              "ticks": ""
             }
            },
            "type": "scattergeo"
           }
          ],
          "scattergl": [
           {
            "marker": {
             "colorbar": {
              "outlinewidth": 0,
              "ticks": ""
             }
            },
            "type": "scattergl"
           }
          ],
          "scattermapbox": [
           {
            "marker": {
             "colorbar": {
              "outlinewidth": 0,
              "ticks": ""
             }
            },
            "type": "scattermapbox"
           }
          ],
          "scatterpolar": [
           {
            "marker": {
             "colorbar": {
              "outlinewidth": 0,
              "ticks": ""
             }
            },
            "type": "scatterpolar"
           }
          ],
          "scatterpolargl": [
           {
            "marker": {
             "colorbar": {
              "outlinewidth": 0,
              "ticks": ""
             }
            },
            "type": "scatterpolargl"
           }
          ],
          "scatterternary": [
           {
            "marker": {
             "colorbar": {
              "outlinewidth": 0,
              "ticks": ""
             }
            },
            "type": "scatterternary"
           }
          ],
          "surface": [
           {
            "colorbar": {
             "outlinewidth": 0,
             "ticks": ""
            },
            "colorscale": [
             [
              0,
              "#0d0887"
             ],
             [
              0.1111111111111111,
              "#46039f"
             ],
             [
              0.2222222222222222,
              "#7201a8"
             ],
             [
              0.3333333333333333,
              "#9c179e"
             ],
             [
              0.4444444444444444,
              "#bd3786"
             ],
             [
              0.5555555555555556,
              "#d8576b"
             ],
             [
              0.6666666666666666,
              "#ed7953"
             ],
             [
              0.7777777777777778,
              "#fb9f3a"
             ],
             [
              0.8888888888888888,
              "#fdca26"
             ],
             [
              1,
              "#f0f921"
             ]
            ],
            "type": "surface"
           }
          ],
          "table": [
           {
            "cells": {
             "fill": {
              "color": "#EBF0F8"
             },
             "line": {
              "color": "white"
             }
            },
            "header": {
             "fill": {
              "color": "#C8D4E3"
             },
             "line": {
              "color": "white"
             }
            },
            "type": "table"
           }
          ]
         },
         "layout": {
          "annotationdefaults": {
           "arrowcolor": "#2a3f5f",
           "arrowhead": 0,
           "arrowwidth": 1
          },
          "coloraxis": {
           "colorbar": {
            "outlinewidth": 0,
            "ticks": ""
           }
          },
          "colorscale": {
           "diverging": [
            [
             0,
             "#8e0152"
            ],
            [
             0.1,
             "#c51b7d"
            ],
            [
             0.2,
             "#de77ae"
            ],
            [
             0.3,
             "#f1b6da"
            ],
            [
             0.4,
             "#fde0ef"
            ],
            [
             0.5,
             "#f7f7f7"
            ],
            [
             0.6,
             "#e6f5d0"
            ],
            [
             0.7,
             "#b8e186"
            ],
            [
             0.8,
             "#7fbc41"
            ],
            [
             0.9,
             "#4d9221"
            ],
            [
             1,
             "#276419"
            ]
           ],
           "sequential": [
            [
             0,
             "#0d0887"
            ],
            [
             0.1111111111111111,
             "#46039f"
            ],
            [
             0.2222222222222222,
             "#7201a8"
            ],
            [
             0.3333333333333333,
             "#9c179e"
            ],
            [
             0.4444444444444444,
             "#bd3786"
            ],
            [
             0.5555555555555556,
             "#d8576b"
            ],
            [
             0.6666666666666666,
             "#ed7953"
            ],
            [
             0.7777777777777778,
             "#fb9f3a"
            ],
            [
             0.8888888888888888,
             "#fdca26"
            ],
            [
             1,
             "#f0f921"
            ]
           ],
           "sequentialminus": [
            [
             0,
             "#0d0887"
            ],
            [
             0.1111111111111111,
             "#46039f"
            ],
            [
             0.2222222222222222,
             "#7201a8"
            ],
            [
             0.3333333333333333,
             "#9c179e"
            ],
            [
             0.4444444444444444,
             "#bd3786"
            ],
            [
             0.5555555555555556,
             "#d8576b"
            ],
            [
             0.6666666666666666,
             "#ed7953"
            ],
            [
             0.7777777777777778,
             "#fb9f3a"
            ],
            [
             0.8888888888888888,
             "#fdca26"
            ],
            [
             1,
             "#f0f921"
            ]
           ]
          },
          "colorway": [
           "#636efa",
           "#EF553B",
           "#00cc96",
           "#ab63fa",
           "#FFA15A",
           "#19d3f3",
           "#FF6692",
           "#B6E880",
           "#FF97FF",
           "#FECB52"
          ],
          "font": {
           "color": "#2a3f5f"
          },
          "geo": {
           "bgcolor": "white",
           "lakecolor": "white",
           "landcolor": "white",
           "showlakes": true,
           "showland": true,
           "subunitcolor": "#C8D4E3"
          },
          "hoverlabel": {
           "align": "left"
          },
          "hovermode": "closest",
          "mapbox": {
           "style": "light"
          },
          "paper_bgcolor": "white",
          "plot_bgcolor": "white",
          "polar": {
           "angularaxis": {
            "gridcolor": "#EBF0F8",
            "linecolor": "#EBF0F8",
            "ticks": ""
           },
           "bgcolor": "white",
           "radialaxis": {
            "gridcolor": "#EBF0F8",
            "linecolor": "#EBF0F8",
            "ticks": ""
           }
          },
          "scene": {
           "xaxis": {
            "backgroundcolor": "white",
            "gridcolor": "#DFE8F3",
            "gridwidth": 2,
            "linecolor": "#EBF0F8",
            "showbackground": true,
            "ticks": "",
            "zerolinecolor": "#EBF0F8"
           },
           "yaxis": {
            "backgroundcolor": "white",
            "gridcolor": "#DFE8F3",
            "gridwidth": 2,
            "linecolor": "#EBF0F8",
            "showbackground": true,
            "ticks": "",
            "zerolinecolor": "#EBF0F8"
           },
           "zaxis": {
            "backgroundcolor": "white",
            "gridcolor": "#DFE8F3",
            "gridwidth": 2,
            "linecolor": "#EBF0F8",
            "showbackground": true,
            "ticks": "",
            "zerolinecolor": "#EBF0F8"
           }
          },
          "shapedefaults": {
           "line": {
            "color": "#2a3f5f"
           }
          },
          "ternary": {
           "aaxis": {
            "gridcolor": "#DFE8F3",
            "linecolor": "#A2B1C6",
            "ticks": ""
           },
           "baxis": {
            "gridcolor": "#DFE8F3",
            "linecolor": "#A2B1C6",
            "ticks": ""
           },
           "bgcolor": "white",
           "caxis": {
            "gridcolor": "#DFE8F3",
            "linecolor": "#A2B1C6",
            "ticks": ""
           }
          },
          "title": {
           "x": 0.05
          },
          "xaxis": {
           "automargin": true,
           "gridcolor": "#EBF0F8",
           "linecolor": "#EBF0F8",
           "ticks": "",
           "title": {
            "standoff": 15
           },
           "zerolinecolor": "#EBF0F8",
           "zerolinewidth": 2
          },
          "yaxis": {
           "automargin": true,
           "gridcolor": "#EBF0F8",
           "linecolor": "#EBF0F8",
           "ticks": "",
           "title": {
            "standoff": 15
           },
           "zerolinecolor": "#EBF0F8",
           "zerolinewidth": 2
          }
         }
        },
        "width": 900,
        "xaxis": {
         "anchor": "y",
         "domain": [
          0,
          1
         ],
         "linecolor": "black",
         "linewidth": 1,
         "matches": "x2",
         "showgrid": false,
         "showline": true,
         "showticklabels": false,
         "tickcolor": "black",
         "ticklen": 10,
         "ticks": "outside",
         "tickwidth": 1,
         "title": {
          "text": ""
         },
         "zeroline": false
        },
        "xaxis2": {
         "anchor": "y2",
         "domain": [
          0,
          1
         ],
         "linecolor": "black",
         "linewidth": 1,
         "showgrid": false,
         "showline": true,
         "tickcolor": "black",
         "ticklen": 10,
         "ticks": "outside",
         "tickwidth": 1,
         "title": {
          "text": "Time (s)"
         },
         "zeroline": false
        },
        "yaxis": {
         "anchor": "x",
         "domain": [
          0.5349999999999999,
          0.9999999999999999
         ],
         "linecolor": "black",
         "linewidth": 1,
         "showgrid": false,
         "showline": true,
         "tickcolor": "black",
         "ticklen": 10,
         "ticks": "outside",
         "tickwidth": 1,
         "title": {
          "text": "Velocity (mph)"
         },
         "zeroline": false
        },
        "yaxis2": {
         "anchor": "x2",
         "domain": [
          0,
          0.46499999999999997
         ],
         "linecolor": "black",
         "linewidth": 1,
         "showgrid": false,
         "showline": true,
         "tickcolor": "black",
         "ticklen": 10,
         "ticks": "outside",
         "tickwidth": 1,
         "title": {
          "text": "Slip Angle (deg)"
         },
         "zeroline": false
        }
       }
      },
      "text/html": [
       "<div>\n",
       "        \n",
       "        \n",
       "            <div id=\"f163b5cd-f0cc-48f8-b4e3-dc548226a157\" class=\"plotly-graph-div\" style=\"height:500px; width:900px;\"></div>\n",
       "            <script type=\"text/javascript\">\n",
       "                require([\"plotly\"], function(Plotly) {\n",
       "                    window.PLOTLYENV=window.PLOTLYENV || {};\n",
       "                    \n",
       "                if (document.getElementById(\"f163b5cd-f0cc-48f8-b4e3-dc548226a157\")) {\n",
       "                    Plotly.newPlot(\n",
       "                        'f163b5cd-f0cc-48f8-b4e3-dc548226a157',\n",
       "                        [{\"line\": {\"color\": \"rgb(0, 255, 0)\", \"width\": 2}, \"mode\": \"lines\", \"name\": \"pycrash - X\", \"type\": \"scatter\", \"x\": [0.0, 0.1, 0.2, 0.3, 0.4, 0.5, 0.6, 0.7, 0.8, 0.9, 1.0, 1.1, 1.2, 1.3, 1.4, 1.5, 1.6, 1.7, 1.8, 1.9, 2.0, 2.1, 2.2, 2.3, 2.4, 2.5, 2.6, 2.7, 2.8, 2.9, 3.0, 3.1, 3.2, 3.3, 3.4, 3.5, 3.6, 3.7, 3.8, 3.9, 4.0, 4.1, 4.2, 4.3, 4.4, 4.5, 4.6, 4.7, 4.8, 4.9, 5.0, 5.1, 5.2, 5.3, 5.4, 5.5, 5.6, 5.7, 5.8, 5.9, 6.0, 6.1, 6.2, 6.3, 6.4, 6.5, 6.6, 6.7, 6.8, 6.9, 7.0, 7.1, 7.2, 7.3, 7.4, 7.5, 7.6, 7.7, 7.8, 7.9, 8.0, 8.1, 8.2, 8.3, 8.4, 8.5, 8.6, 8.7, 8.8, 8.9, 9.0, 9.1, 9.2, 9.3, 9.4, 9.5, 9.6, 9.7, 9.8, 9.9, 10.0, 10.1, 10.2, 10.3, 10.4, 10.5, 10.6, 10.7, 10.8, 10.9], \"xaxis\": \"x\", \"y\": [15.0, 15.0, 15.0, 15.0, 15.0, 15.0, 15.0, 15.0, 15.0, 15.0, 15.0, 14.99598938704336, 14.975784201743496, 14.928459319606533, 14.849199179583502, 14.72703246834814, 14.536620913396185, 14.242991975125015, 13.811904666483217, 13.215949751482215, 12.444071153579632, 11.573196155751582, 10.69074801672706, 9.77008682891051, 8.751127206061797, 7.626113764475937, 6.442104036288723, 5.256323327894339, 4.100635037393592, 2.978444022306622, 1.8822887212777824, 0.8098981245435156, -0.2325139291589407, -1.2359608718719524, -2.1943585582493026, -3.105495099553564, -3.9686999558314997, -4.782676845836242, -5.545195280642848, -6.253986096880033, -6.907497211507724, -7.504936839953823, -8.045914332237041, -8.530176505586331, -8.957604453699268, -9.328325042738689, -9.642764795877007, -9.901614489092095, -10.10577040959649, -10.256305058431408, -10.35446425083619, -10.401663751240834, -10.399473790536572, -10.34959918622835, -10.253864187354749, -10.1142017089076, -9.93264179193712, -9.711297492069717, -9.452350780863998, -9.158040870663058, -8.830654362612732, -8.472515190144208, -8.085973655033591, -7.6733955999423396, -7.237152845063894, -6.779614841459606, -6.303140724636995, -5.810071295756519, -5.3027211966825885, -4.783371762771922, -4.254264667379532, -3.717596096154081, -3.1755112064084403, -2.6300988882281584, -2.0833869909654705, -1.5373380935776135, -0.9938457478014026, -0.4547310888025565, 0.07826021500668524, 0.6034606335557938, 1.1192830394815454, 1.624222587488027, 2.116858253899012, 2.5958540622946176, 3.0599599954554852, 3.5080125918314105, 3.9389352402382167, 4.3517381965557025, 4.7455183419730185, 5.119458693610164, 5.472827676239714, 5.804978168134241, 6.115346337579763, 6.4034502856143645, 6.668888507675591, 6.911338185770787, 7.130553323788504, 7.326362739464633, 7.4986679260545515, 7.647440795690843, 7.7727213158578445, 7.874615050457631, 7.953290616913911, 8.008977070330355, 8.04196122515551, 8.05258492442024, 8.041242266363405, 8.008376797939755, 7.954478684267184, 7.880081862640146], \"yaxis\": \"y\"}, {\"line\": {\"color\": \"rgb(0, 255, 0)\", \"dash\": \"dash\", \"width\": 2}, \"mode\": \"lines\", \"name\": \"validate - X\", \"type\": \"scatter\", \"x\": [0.0, 0.1, 0.2, 0.3, 0.4, 0.5, 0.6, 0.7, 0.8, 0.9, 1.0, 1.1, 1.2, 1.3, 1.4, 1.5, 1.6, 1.7, 1.8, 1.9, 2.0, 2.1, 2.2, 2.3, 2.4, 2.5, 2.6, 2.7, 2.8, 2.9, 3.0, 3.1, 3.2, 3.3, 3.4, 3.5, 3.6, 3.7, 3.8, 3.9, 4.0, 4.1, 4.2, 4.3, 4.4, 4.5, 4.6, 4.7, 4.8, 4.9, 5.0, 5.1, 5.2, 5.3, 5.4, 5.5, 5.6, 5.7, 5.8, 5.9, 6.0, 6.1, 6.2, 6.3, 6.4, 6.5, 6.6, 6.7, 6.8, 6.9, 7.0, 7.1, 7.2, 7.3, 7.4, 7.5, 7.6, 7.7, 7.8, 7.9, 8.0, 8.1, 8.2, 8.3, 8.4, 8.5, 8.6, 8.7, 8.8, 8.9, 9.0, 9.1, 9.2, 9.3, 9.4, 9.5, 9.6, 9.7, 9.8, 9.9, 10.0, 10.1, 10.2, 10.3, 10.4, 10.5, 10.6, 10.7, 10.8, 10.9], \"xaxis\": \"x\", \"y\": [15.0, 15.0, 15.0, 15.0, 15.0, 15.0, 15.0, 15.0, 15.0, 15.0, 15.0, 15.0, 14.98, 14.92, 14.82, 14.64, 14.37, 13.97, 13.42, 12.7, 11.799999999999999, 10.77, 9.69, 8.56, 7.39, 6.19, 4.97, 3.74, 2.51, 1.3, 0.11, -1.05, -2.17, -3.24, -4.25, -5.2, -6.09, -6.919999999999999, -7.66, -8.34, -8.94, -9.45, -9.89, -10.25, -10.53, -10.73, -10.85, -10.9, -10.88, -10.78, -10.61, -10.38, -10.08, -9.73, -9.32, -8.86, -8.35, -7.8, -7.22, -6.6, -5.94, -5.27, -4.57, -3.86, -3.13, -2.4, -1.67, -0.9299999999999999, -0.2, 0.52, 1.23, 1.93, 2.6, 3.26, 3.8899999999999997, 4.49, 5.06, 5.6, 6.1, 6.57, 7.010000000000001, 7.4, 7.75, 8.06, 8.33, 8.56, 8.74, 8.88, 8.98, 9.04, 9.05, 9.02, 8.95, 8.85, 8.7, 8.52, 8.3, 8.04, 7.75, 7.4399999999999995, 7.089999999999999, 6.72, 6.319999999999999, 5.890000000000001, 5.45, 4.99, 4.51, 4.01, 3.51, 2.9899999999999998], \"yaxis\": \"y\"}, {\"line\": {\"color\": \"rgb(0, 0, 255)\", \"width\": 2}, \"mode\": \"lines\", \"name\": \"pycrash - Y\", \"type\": \"scatter\", \"x\": [0.0, 0.1, 0.2, 0.3, 0.4, 0.5, 0.6, 0.7, 0.8, 0.9, 1.0, 1.1, 1.2, 1.3, 1.4, 1.5, 1.6, 1.7, 1.8, 1.9, 2.0, 2.1, 2.2, 2.3, 2.4, 2.5, 2.6, 2.7, 2.8, 2.9, 3.0, 3.1, 3.2, 3.3, 3.4, 3.5, 3.6, 3.7, 3.8, 3.9, 4.0, 4.1, 4.2, 4.3, 4.4, 4.5, 4.6, 4.7, 4.8, 4.9, 5.0, 5.1, 5.2, 5.3, 5.4, 5.5, 5.6, 5.7, 5.8, 5.9, 6.0, 6.1, 6.2, 6.3, 6.4, 6.5, 6.6, 6.7, 6.8, 6.9, 7.0, 7.1, 7.2, 7.3, 7.4, 7.5, 7.6, 7.7, 7.8, 7.9, 8.0, 8.1, 8.2, 8.3, 8.4, 8.5, 8.6, 8.7, 8.8, 8.9, 9.0, 9.1, 9.2, 9.3, 9.4, 9.5, 9.6, 9.7, 9.8, 9.9, 10.0, 10.1, 10.2, 10.3, 10.4, 10.5, 10.6, 10.7, 10.8, 10.9], \"xaxis\": \"x\", \"y\": [0.0, 0.0, 0.0, 0.0, 0.0, 0.0, 0.0, 0.0, 0.0, 0.0, 0.0, -0.10882398290465473, -0.412442092124285, -0.8317640399662393, -1.2955049748596719, -1.8118318700082878, -2.4295251864576923, -3.1798702087016415, -4.055164604752743, -5.019496440223645, -6.016721455369647, -6.952610637738222, -7.76892833490736, -8.496442238250383, -9.167176921961273, -9.768208090659478, -10.268492730062967, -10.650711655025786, -10.917027161399018, -11.078027885057429, -11.14275616386759, -11.11699605191791, -11.006079803043518, -10.816552777814444, -10.55532725877179, -10.228366643954587, -9.840612275313328, -9.396864567540183, -8.902408208353824, -8.36283798834839, -7.78352204364295, -7.169340008766759, -6.524843153337162, -5.854529704538344, -5.162932036242302, -4.454500487456791, -3.7334632308452305, -3.0037953710775382, -2.2692782906177524, -1.5335548374951162, -0.8001277452209768, -0.07232284105058767, 0.6467368256291559, 1.3541280782362473, 2.047111604027124, 2.7231237392793477, 3.3797804250612855, 4.014883891569746, 4.626423486029874, 5.212570731809946, 5.771673690426785, 6.302253761619549, 6.803003960309702, 7.272786316580097, 7.710627560087151, 8.115713957230893, 8.487386313964214, 8.825135271394695, 9.12859643011415, 9.397545001999825, 9.631890107685539, 9.831668974201525, 9.997041127331151, 10.128282515364456, 10.22577950837642, 10.290022805079344, 10.32160131425477, 10.321196044140414, 10.289573999260805, 10.227582088878773, 10.136141071122056, 10.016239559362846, 9.868928104190559, 9.695313356687274, 9.49655232402321, 9.273846734886888, 9.028437529781586, 8.761599483816147, 8.474635966714816, 8.168873847876393, 7.84565855709138, 7.506349309594107, 7.1523144999684645, 6.784927267655096, 6.405561238040031, 6.015586444228673, 5.616365433475532, 5.209249559982938, 4.79557546460656, 4.376661742282751, 3.9538057983084713, 3.5282808939175303, 3.1013333803711656, 2.674180120023417, 2.24800609273958, 1.8239621860224955, 1.4031631667570885, 0.9866858318056649, 0.5755673342177526, 0.17080368165714183], \"yaxis\": \"y\"}, {\"line\": {\"color\": \"rgb(0, 0, 255)\", \"dash\": \"dash\", \"width\": 2}, \"mode\": \"lines\", \"name\": \"validate - Y\", \"type\": \"scatter\", \"x\": [0.0, 0.1, 0.2, 0.3, 0.4, 0.5, 0.6, 0.7, 0.8, 0.9, 1.0, 1.1, 1.2, 1.3, 1.4, 1.5, 1.6, 1.7, 1.8, 1.9, 2.0, 2.1, 2.2, 2.3, 2.4, 2.5, 2.6, 2.7, 2.8, 2.9, 3.0, 3.1, 3.2, 3.3, 3.4, 3.5, 3.6, 3.7, 3.8, 3.9, 4.0, 4.1, 4.2, 4.3, 4.4, 4.5, 4.6, 4.7, 4.8, 4.9, 5.0, 5.1, 5.2, 5.3, 5.4, 5.5, 5.6, 5.7, 5.8, 5.9, 6.0, 6.1, 6.2, 6.3, 6.4, 6.5, 6.6, 6.7, 6.8, 6.9, 7.0, 7.1, 7.2, 7.3, 7.4, 7.5, 7.6, 7.7, 7.8, 7.9, 8.0, 8.1, 8.2, 8.3, 8.4, 8.5, 8.6, 8.7, 8.8, 8.9, 9.0, 9.1, 9.2, 9.3, 9.4, 9.5, 9.6, 9.7, 9.8, 9.9, 10.0, 10.1, 10.2, 10.3, 10.4, 10.5, 10.6, 10.7, 10.8, 10.9], \"xaxis\": \"x\", \"y\": [0.0, 0.0, 0.0, 0.0, 0.0, 0.0, 0.0, 0.0, 0.0, 0.0, 0.0, -0.12, -0.4099999999999999, -0.86, -1.46, -2.22, -3.1099999999999994, -4.11, -5.18, -6.3, -7.42, -8.47, -9.4, -10.21, -10.9, -11.459999999999999, -11.89, -12.2, -12.38, -12.439999999999998, -12.39, -12.24, -11.980000000000002, -11.629999999999999, -11.2, -10.68, -10.09, -9.44, -8.72, -7.960000000000001, -7.16, -6.309999999999999, -5.45, -4.56, -3.65, -2.7400000000000007, -1.8200000000000003, -0.9100000000000001, -0.02, 0.87, 1.7299999999999998, 2.56, 3.37, 4.14, 4.87, 5.56, 6.21, 6.8, 7.3500000000000005, 7.85, 8.29, 8.68, 9.01, 9.29, 9.51, 9.67, 9.78, 9.84, 9.84, 9.78, 9.68, 9.52, 9.32, 9.07, 8.78, 8.44, 8.07, 7.66, 7.21, 6.74, 6.239999999999999, 5.709999999999999, 5.16, 4.59, 4.01, 3.41, 2.8, 2.19, 1.57, 0.9499999999999998, 0.34, -0.28, -0.88, -1.48, -2.06, -2.63, -3.18, -3.71, -4.22, -4.71, -5.17, -5.61, -6.02, -6.4, -6.749999999999999, -7.06, -7.3500000000000005, -7.599999999999999, -7.82, -8.01], \"yaxis\": \"y\"}, {\"line\": {\"color\": \"rgb(0, 0, 0)\", \"width\": 2}, \"mode\": \"lines\", \"name\": \"pycrash - slip angle\", \"type\": \"scatter\", \"x\": [0.0, 0.1, 0.2, 0.3, 0.4, 0.5, 0.6, 0.7, 0.8, 0.9, 1.0, 1.1, 1.2, 1.3, 1.4, 1.5, 1.6, 1.7, 1.8, 1.9, 2.0, 2.1, 2.2, 2.3, 2.4, 2.5, 2.6, 2.7, 2.8, 2.9, 3.0, 3.1, 3.2, 3.3, 3.4, 3.5, 3.6, 3.7, 3.8, 3.9, 4.0, 4.1, 4.2, 4.3, 4.4, 4.5, 4.6, 4.7, 4.8, 4.9, 5.0, 5.1, 5.2, 5.3, 5.4, 5.5, 5.6, 5.7, 5.8, 5.9, 6.0, 6.1, 6.2, 6.3, 6.4, 6.5, 6.6, 6.7, 6.8, 6.9, 7.0, 7.1, 7.2, 7.3, 7.4, 7.5, 7.6, 7.7, 7.8, 7.9, 8.0, 8.1, 8.2, 8.3, 8.4, 8.5, 8.6, 8.7, 8.8, 8.9, 9.0, 9.1, 9.2, 9.3, 9.4, 9.5, 9.6, 9.7, 9.8, 9.9, 10.0, 10.1, 10.2, 10.3, 10.4, 10.5, 10.6, 10.7, 10.8, 10.9], \"xaxis\": \"x2\", \"y\": [-0.0, -0.0, -0.0, -0.0, -0.0, -0.0, -0.0, -0.0, -0.0, -0.0, -0.0, 0.41579618624937803, 1.5049129370314422, 2.7662698606107603, 3.723646188736704, 4.323705969052408, 4.774969710704896, 5.277153046380525, 5.90872211966818, 6.659327061135884, 7.447101807197175, 7.887965236594466, 7.701342065202412, 7.240939260498841, 7.003641423724535, 7.152588746947302, 7.533131912956489, 7.915664773174611, 8.182179910606338, 8.350957816086316, 8.493955906200169, 8.655697468430024, 8.832751178713362, 9.000361642467144, 9.143399716877134, 9.265299387456059, 9.377882864452065, 9.488856095146817, 9.598133509949609, 9.7020530906793, 9.79854149691233, 9.888570801319853, 9.97435236266425, 10.057231361606245, 10.137203418359043, 10.213766601030837, 10.286804478751671, 10.356726812661101, 10.424066234644158, 10.48911946362265, 10.551934160537684, 10.612510082491552, 10.670946489167724, 10.727426588617009, 10.782121691332817, 10.835136753132831, 10.886531512298252, 10.936367880970984, 10.984729634372215, 11.031707700467525, 11.077379175702106, 11.121802944434004, 11.165030003912857, 11.207113259470374, 11.248107919217727, 11.288066058783249, 11.327033178082026, 11.365049624459827, 11.402153874286311, 11.438383941051452, 11.473776405879425, 11.508365100922063, 11.542181057504202, 11.575253453708344, 11.607610369919943, 11.639278775340392, 11.67028414972145, 11.700650364076449, 11.730399947003978, 11.759554411744345, 11.788134362850396, 11.816159422951964, 11.843648188771017, 11.870618317280192, 11.89708666574753, 11.923069373582079, 11.948581869759636, 11.973638871035751, 11.998254420841919, 12.0224419550545, 12.046214353270251, 12.069583960852668, 12.092562601301143, 12.11516160051133, 12.137391822323265, 12.159263700469227, 12.180787258926275, 12.201972126448632, 12.222827554203226, 12.243362437707608, 12.263585337678773, 12.283504496021774, 12.303127848688339, 12.322463039090184, 12.341517432982501, 12.360298132807458, 12.378811989808906, 12.39706561447167, 12.415065386841695, 12.432817467234294], \"yaxis\": \"y2\"}, {\"line\": {\"color\": \"rgb(0, 0, 0)\", \"dash\": \"dash\", \"width\": 2}, \"mode\": \"lines\", \"name\": \"validate - slip angle\", \"type\": \"scatter\", \"x\": [0.0, 0.1, 0.2, 0.3, 0.4, 0.5, 0.6, 0.7, 0.8, 0.9, 1.0, 1.1, 1.2, 1.3, 1.4, 1.5, 1.6, 1.7, 1.8, 1.9, 2.0, 2.1, 2.2, 2.3, 2.4, 2.5, 2.6, 2.7, 2.8, 2.9, 3.0, 3.1, 3.2, 3.3, 3.4, 3.5, 3.6, 3.7, 3.8, 3.9, 4.0, 4.1, 4.2, 4.3, 4.4, 4.5, 4.6, 4.7, 4.8, 4.9, 5.0, 5.1, 5.2, 5.3, 5.4, 5.5, 5.6, 5.7, 5.8, 5.9, 6.0, 6.1, 6.2, 6.3, 6.4, 6.5, 6.6, 6.7, 6.8, 6.9, 7.0, 7.1, 7.2, 7.3, 7.4, 7.5, 7.6, 7.7, 7.8, 7.9, 8.0, 8.1, 8.2, 8.3, 8.4, 8.5, 8.6, 8.7, 8.8, 8.9, 9.0, 9.1, 9.2, 9.3, 9.4, 9.5, 9.6, 9.7, 9.8, 9.9, 10.0, 10.1, 10.2, 10.3, 10.4, 10.5, 10.6, 10.7, 10.8, 10.9], \"xaxis\": \"x2\", \"y\": [0.0, 0.0, 0.0, 0.0, 0.0, 0.0, 0.0, 0.0, 0.0, 0.0, 0.0, 0.084587, 0.531067, 1.171556, 1.84823, 2.545153, 3.24822, 3.942141, 4.562777, 5.101874, 5.581144, 6.021508, 6.325132, 6.453797, 6.454851, 6.371153, 6.253842, 6.125854, 5.995736, 5.866808, 5.740953, 5.61967, 5.503944, 5.394236, 5.290543, 5.192439, 5.099403, 5.010949, 4.926594, 4.84598, 4.768839, 4.694902, 4.623957, 4.555829, 4.490318, 4.427261, 4.366522, 4.307944, 4.251401, 4.196789, 4.143989, 4.0929, 4.043445, 3.995526, 3.949067, 3.904003, 3.860259, 3.81777, 3.776487, 3.736345, 3.697294, 3.659293, 3.622289, 3.586239, 3.55111, 3.516858, 3.483447, 3.450849, 3.419028, 3.387952, 3.357599, 3.327937, 3.298941, 3.27059, 3.242857, 3.215721, 3.189165, 3.163164, 3.1377, 3.112759, 3.088321, 3.064368, 3.040888, 3.017863, 2.99528, 2.973127, 2.951388, 2.93005, 2.909106, 2.888539, 2.86834, 2.8485, 2.829007, 2.80985, 2.791023, 2.772515, 2.754316, 2.736421, 2.718819, 2.701502, 2.684466, 2.667701, 2.651199, 2.634957, 2.618965, 2.603218, 2.587712, 2.572438, 2.557391, 2.542567], \"yaxis\": \"y2\"}],\n",
       "                        {\"autosize\": false, \"font\": {\"color\": \"black\", \"family\": \"Arial\", \"size\": 14}, \"height\": 500, \"legend\": {\"orientation\": \"h\", \"x\": 0.01, \"xanchor\": \"left\", \"y\": 1.1, \"yanchor\": \"top\"}, \"template\": {\"data\": {\"bar\": [{\"error_x\": {\"color\": \"#2a3f5f\"}, \"error_y\": {\"color\": \"#2a3f5f\"}, \"marker\": {\"line\": {\"color\": \"white\", \"width\": 0.5}}, \"type\": \"bar\"}], \"barpolar\": [{\"marker\": {\"line\": {\"color\": \"white\", \"width\": 0.5}}, \"type\": \"barpolar\"}], \"carpet\": [{\"aaxis\": {\"endlinecolor\": \"#2a3f5f\", \"gridcolor\": \"#C8D4E3\", \"linecolor\": \"#C8D4E3\", \"minorgridcolor\": \"#C8D4E3\", \"startlinecolor\": \"#2a3f5f\"}, \"baxis\": {\"endlinecolor\": \"#2a3f5f\", \"gridcolor\": \"#C8D4E3\", \"linecolor\": \"#C8D4E3\", \"minorgridcolor\": \"#C8D4E3\", \"startlinecolor\": \"#2a3f5f\"}, \"type\": \"carpet\"}], \"choropleth\": [{\"colorbar\": {\"outlinewidth\": 0, \"ticks\": \"\"}, \"type\": \"choropleth\"}], \"contour\": [{\"colorbar\": {\"outlinewidth\": 0, \"ticks\": \"\"}, \"colorscale\": [[0.0, \"#0d0887\"], [0.1111111111111111, \"#46039f\"], [0.2222222222222222, \"#7201a8\"], [0.3333333333333333, \"#9c179e\"], [0.4444444444444444, \"#bd3786\"], [0.5555555555555556, \"#d8576b\"], [0.6666666666666666, \"#ed7953\"], [0.7777777777777778, \"#fb9f3a\"], [0.8888888888888888, \"#fdca26\"], [1.0, \"#f0f921\"]], \"type\": \"contour\"}], \"contourcarpet\": [{\"colorbar\": {\"outlinewidth\": 0, \"ticks\": \"\"}, \"type\": \"contourcarpet\"}], \"heatmap\": [{\"colorbar\": {\"outlinewidth\": 0, \"ticks\": \"\"}, \"colorscale\": [[0.0, \"#0d0887\"], [0.1111111111111111, \"#46039f\"], [0.2222222222222222, \"#7201a8\"], [0.3333333333333333, \"#9c179e\"], [0.4444444444444444, \"#bd3786\"], [0.5555555555555556, \"#d8576b\"], [0.6666666666666666, \"#ed7953\"], [0.7777777777777778, \"#fb9f3a\"], [0.8888888888888888, \"#fdca26\"], [1.0, \"#f0f921\"]], \"type\": \"heatmap\"}], \"heatmapgl\": [{\"colorbar\": {\"outlinewidth\": 0, \"ticks\": \"\"}, \"colorscale\": [[0.0, \"#0d0887\"], [0.1111111111111111, \"#46039f\"], [0.2222222222222222, \"#7201a8\"], [0.3333333333333333, \"#9c179e\"], [0.4444444444444444, \"#bd3786\"], [0.5555555555555556, \"#d8576b\"], [0.6666666666666666, \"#ed7953\"], [0.7777777777777778, \"#fb9f3a\"], [0.8888888888888888, \"#fdca26\"], [1.0, \"#f0f921\"]], \"type\": \"heatmapgl\"}], \"histogram\": [{\"marker\": {\"colorbar\": {\"outlinewidth\": 0, \"ticks\": \"\"}}, \"type\": \"histogram\"}], \"histogram2d\": [{\"colorbar\": {\"outlinewidth\": 0, \"ticks\": \"\"}, \"colorscale\": [[0.0, \"#0d0887\"], [0.1111111111111111, \"#46039f\"], [0.2222222222222222, \"#7201a8\"], [0.3333333333333333, \"#9c179e\"], [0.4444444444444444, \"#bd3786\"], [0.5555555555555556, \"#d8576b\"], [0.6666666666666666, \"#ed7953\"], [0.7777777777777778, \"#fb9f3a\"], [0.8888888888888888, \"#fdca26\"], [1.0, \"#f0f921\"]], \"type\": \"histogram2d\"}], \"histogram2dcontour\": [{\"colorbar\": {\"outlinewidth\": 0, \"ticks\": \"\"}, \"colorscale\": [[0.0, \"#0d0887\"], [0.1111111111111111, \"#46039f\"], [0.2222222222222222, \"#7201a8\"], [0.3333333333333333, \"#9c179e\"], [0.4444444444444444, \"#bd3786\"], [0.5555555555555556, \"#d8576b\"], [0.6666666666666666, \"#ed7953\"], [0.7777777777777778, \"#fb9f3a\"], [0.8888888888888888, \"#fdca26\"], [1.0, \"#f0f921\"]], \"type\": \"histogram2dcontour\"}], \"mesh3d\": [{\"colorbar\": {\"outlinewidth\": 0, \"ticks\": \"\"}, \"type\": \"mesh3d\"}], \"parcoords\": [{\"line\": {\"colorbar\": {\"outlinewidth\": 0, \"ticks\": \"\"}}, \"type\": \"parcoords\"}], \"pie\": [{\"automargin\": true, \"type\": \"pie\"}], \"scatter\": [{\"marker\": {\"colorbar\": {\"outlinewidth\": 0, \"ticks\": \"\"}}, \"type\": \"scatter\"}], \"scatter3d\": [{\"line\": {\"colorbar\": {\"outlinewidth\": 0, \"ticks\": \"\"}}, \"marker\": {\"colorbar\": {\"outlinewidth\": 0, \"ticks\": \"\"}}, \"type\": \"scatter3d\"}], \"scattercarpet\": [{\"marker\": {\"colorbar\": {\"outlinewidth\": 0, \"ticks\": \"\"}}, \"type\": \"scattercarpet\"}], \"scattergeo\": [{\"marker\": {\"colorbar\": {\"outlinewidth\": 0, \"ticks\": \"\"}}, \"type\": \"scattergeo\"}], \"scattergl\": [{\"marker\": {\"colorbar\": {\"outlinewidth\": 0, \"ticks\": \"\"}}, \"type\": \"scattergl\"}], \"scattermapbox\": [{\"marker\": {\"colorbar\": {\"outlinewidth\": 0, \"ticks\": \"\"}}, \"type\": \"scattermapbox\"}], \"scatterpolar\": [{\"marker\": {\"colorbar\": {\"outlinewidth\": 0, \"ticks\": \"\"}}, \"type\": \"scatterpolar\"}], \"scatterpolargl\": [{\"marker\": {\"colorbar\": {\"outlinewidth\": 0, \"ticks\": \"\"}}, \"type\": \"scatterpolargl\"}], \"scatterternary\": [{\"marker\": {\"colorbar\": {\"outlinewidth\": 0, \"ticks\": \"\"}}, \"type\": \"scatterternary\"}], \"surface\": [{\"colorbar\": {\"outlinewidth\": 0, \"ticks\": \"\"}, \"colorscale\": [[0.0, \"#0d0887\"], [0.1111111111111111, \"#46039f\"], [0.2222222222222222, \"#7201a8\"], [0.3333333333333333, \"#9c179e\"], [0.4444444444444444, \"#bd3786\"], [0.5555555555555556, \"#d8576b\"], [0.6666666666666666, \"#ed7953\"], [0.7777777777777778, \"#fb9f3a\"], [0.8888888888888888, \"#fdca26\"], [1.0, \"#f0f921\"]], \"type\": \"surface\"}], \"table\": [{\"cells\": {\"fill\": {\"color\": \"#EBF0F8\"}, \"line\": {\"color\": \"white\"}}, \"header\": {\"fill\": {\"color\": \"#C8D4E3\"}, \"line\": {\"color\": \"white\"}}, \"type\": \"table\"}]}, \"layout\": {\"annotationdefaults\": {\"arrowcolor\": \"#2a3f5f\", \"arrowhead\": 0, \"arrowwidth\": 1}, \"coloraxis\": {\"colorbar\": {\"outlinewidth\": 0, \"ticks\": \"\"}}, \"colorscale\": {\"diverging\": [[0, \"#8e0152\"], [0.1, \"#c51b7d\"], [0.2, \"#de77ae\"], [0.3, \"#f1b6da\"], [0.4, \"#fde0ef\"], [0.5, \"#f7f7f7\"], [0.6, \"#e6f5d0\"], [0.7, \"#b8e186\"], [0.8, \"#7fbc41\"], [0.9, \"#4d9221\"], [1, \"#276419\"]], \"sequential\": [[0.0, \"#0d0887\"], [0.1111111111111111, \"#46039f\"], [0.2222222222222222, \"#7201a8\"], [0.3333333333333333, \"#9c179e\"], [0.4444444444444444, \"#bd3786\"], [0.5555555555555556, \"#d8576b\"], [0.6666666666666666, \"#ed7953\"], [0.7777777777777778, \"#fb9f3a\"], [0.8888888888888888, \"#fdca26\"], [1.0, \"#f0f921\"]], \"sequentialminus\": [[0.0, \"#0d0887\"], [0.1111111111111111, \"#46039f\"], [0.2222222222222222, \"#7201a8\"], [0.3333333333333333, \"#9c179e\"], [0.4444444444444444, \"#bd3786\"], [0.5555555555555556, \"#d8576b\"], [0.6666666666666666, \"#ed7953\"], [0.7777777777777778, \"#fb9f3a\"], [0.8888888888888888, \"#fdca26\"], [1.0, \"#f0f921\"]]}, \"colorway\": [\"#636efa\", \"#EF553B\", \"#00cc96\", \"#ab63fa\", \"#FFA15A\", \"#19d3f3\", \"#FF6692\", \"#B6E880\", \"#FF97FF\", \"#FECB52\"], \"font\": {\"color\": \"#2a3f5f\"}, \"geo\": {\"bgcolor\": \"white\", \"lakecolor\": \"white\", \"landcolor\": \"white\", \"showlakes\": true, \"showland\": true, \"subunitcolor\": \"#C8D4E3\"}, \"hoverlabel\": {\"align\": \"left\"}, \"hovermode\": \"closest\", \"mapbox\": {\"style\": \"light\"}, \"paper_bgcolor\": \"white\", \"plot_bgcolor\": \"white\", \"polar\": {\"angularaxis\": {\"gridcolor\": \"#EBF0F8\", \"linecolor\": \"#EBF0F8\", \"ticks\": \"\"}, \"bgcolor\": \"white\", \"radialaxis\": {\"gridcolor\": \"#EBF0F8\", \"linecolor\": \"#EBF0F8\", \"ticks\": \"\"}}, \"scene\": {\"xaxis\": {\"backgroundcolor\": \"white\", \"gridcolor\": \"#DFE8F3\", \"gridwidth\": 2, \"linecolor\": \"#EBF0F8\", \"showbackground\": true, \"ticks\": \"\", \"zerolinecolor\": \"#EBF0F8\"}, \"yaxis\": {\"backgroundcolor\": \"white\", \"gridcolor\": \"#DFE8F3\", \"gridwidth\": 2, \"linecolor\": \"#EBF0F8\", \"showbackground\": true, \"ticks\": \"\", \"zerolinecolor\": \"#EBF0F8\"}, \"zaxis\": {\"backgroundcolor\": \"white\", \"gridcolor\": \"#DFE8F3\", \"gridwidth\": 2, \"linecolor\": \"#EBF0F8\", \"showbackground\": true, \"ticks\": \"\", \"zerolinecolor\": \"#EBF0F8\"}}, \"shapedefaults\": {\"line\": {\"color\": \"#2a3f5f\"}}, \"ternary\": {\"aaxis\": {\"gridcolor\": \"#DFE8F3\", \"linecolor\": \"#A2B1C6\", \"ticks\": \"\"}, \"baxis\": {\"gridcolor\": \"#DFE8F3\", \"linecolor\": \"#A2B1C6\", \"ticks\": \"\"}, \"bgcolor\": \"white\", \"caxis\": {\"gridcolor\": \"#DFE8F3\", \"linecolor\": \"#A2B1C6\", \"ticks\": \"\"}}, \"title\": {\"x\": 0.05}, \"xaxis\": {\"automargin\": true, \"gridcolor\": \"#EBF0F8\", \"linecolor\": \"#EBF0F8\", \"ticks\": \"\", \"title\": {\"standoff\": 15}, \"zerolinecolor\": \"#EBF0F8\", \"zerolinewidth\": 2}, \"yaxis\": {\"automargin\": true, \"gridcolor\": \"#EBF0F8\", \"linecolor\": \"#EBF0F8\", \"ticks\": \"\", \"title\": {\"standoff\": 15}, \"zerolinecolor\": \"#EBF0F8\", \"zerolinewidth\": 2}}}, \"width\": 900, \"xaxis\": {\"anchor\": \"y\", \"domain\": [0.0, 1.0], \"linecolor\": \"black\", \"linewidth\": 1, \"matches\": \"x2\", \"showgrid\": false, \"showline\": true, \"showticklabels\": false, \"tickcolor\": \"black\", \"ticklen\": 10, \"ticks\": \"outside\", \"tickwidth\": 1, \"title\": {\"text\": \"\"}, \"zeroline\": false}, \"xaxis2\": {\"anchor\": \"y2\", \"domain\": [0.0, 1.0], \"linecolor\": \"black\", \"linewidth\": 1, \"showgrid\": false, \"showline\": true, \"tickcolor\": \"black\", \"ticklen\": 10, \"ticks\": \"outside\", \"tickwidth\": 1, \"title\": {\"text\": \"Time (s)\"}, \"zeroline\": false}, \"yaxis\": {\"anchor\": \"x\", \"domain\": [0.5349999999999999, 0.9999999999999999], \"linecolor\": \"black\", \"linewidth\": 1, \"showgrid\": false, \"showline\": true, \"tickcolor\": \"black\", \"ticklen\": 10, \"ticks\": \"outside\", \"tickwidth\": 1, \"title\": {\"text\": \"Velocity (mph)\"}, \"zeroline\": false}, \"yaxis2\": {\"anchor\": \"x2\", \"domain\": [0.0, 0.46499999999999997], \"linecolor\": \"black\", \"linewidth\": 1, \"showgrid\": false, \"showline\": true, \"tickcolor\": \"black\", \"ticklen\": 10, \"ticks\": \"outside\", \"tickwidth\": 1, \"title\": {\"text\": \"Slip Angle (deg)\"}, \"zeroline\": false}},\n",
       "                        {\"responsive\": true}\n",
       "                    ).then(function(){\n",
       "                            \n",
       "var gd = document.getElementById('f163b5cd-f0cc-48f8-b4e3-dc548226a157');\n",
       "var x = new MutationObserver(function (mutations, observer) {{\n",
       "        var display = window.getComputedStyle(gd).display;\n",
       "        if (!display || display === 'none') {{\n",
       "            console.log([gd, 'removed!']);\n",
       "            Plotly.purge(gd);\n",
       "            observer.disconnect();\n",
       "        }}\n",
       "}});\n",
       "\n",
       "// Listen for the removal of the full notebook cells\n",
       "var notebookContainer = gd.closest('#notebook-container');\n",
       "if (notebookContainer) {{\n",
       "    x.observe(notebookContainer, {childList: true});\n",
       "}}\n",
       "\n",
       "// Listen for the clearing of the current output cell\n",
       "var outputEl = gd.closest('.output');\n",
       "if (outputEl) {{\n",
       "    x.observe(outputEl, {childList: true});\n",
       "}}\n",
       "\n",
       "                        })\n",
       "                };\n",
       "                });\n",
       "            </script>\n",
       "        </div>"
      ]
     },
     "metadata": {},
     "output_type": "display_data"
    },
    {
     "data": {
      "application/vnd.plotly.v1+json": {
       "config": {
        "plotlyServerURL": "https://plot.ly"
       },
       "data": [
        {
         "line": {
          "color": "rgb(0, 0, 255)",
          "width": 2
         },
         "mode": "lines",
         "name": "LF - Pycrash",
         "type": "scatter",
         "x": [
          0,
          0.1,
          0.2,
          0.3,
          0.4,
          0.5,
          0.6,
          0.7,
          0.8,
          0.9,
          1,
          1.1,
          1.2,
          1.3,
          1.4,
          1.5,
          1.6,
          1.7,
          1.8,
          1.9,
          2,
          2.1,
          2.2,
          2.3,
          2.4,
          2.5,
          2.6,
          2.7,
          2.8,
          2.9,
          3,
          3.1,
          3.2,
          3.3,
          3.4,
          3.5,
          3.6,
          3.7,
          3.8,
          3.9,
          4,
          4.1,
          4.2,
          4.3,
          4.4,
          4.5,
          4.6,
          4.7,
          4.8,
          4.9,
          5,
          5.1,
          5.2,
          5.3,
          5.4,
          5.5,
          5.6,
          5.7,
          5.8,
          5.9,
          6,
          6.1,
          6.2,
          6.3,
          6.4,
          6.5,
          6.6,
          6.7,
          6.8,
          6.9,
          7,
          7.1,
          7.2,
          7.3,
          7.4,
          7.5,
          7.6,
          7.7,
          7.8,
          7.9,
          8,
          8.1,
          8.2,
          8.3,
          8.4,
          8.5,
          8.6,
          8.7,
          8.8,
          8.9,
          9,
          9.1,
          9.2,
          9.3,
          9.4,
          9.5,
          9.6,
          9.7,
          9.8,
          9.9,
          10,
          10.1,
          10.2,
          10.3,
          10.4,
          10.5,
          10.6,
          10.7,
          10.8,
          10.9
         ],
         "xaxis": "x",
         "y": [
          0,
          0,
          0,
          0,
          0,
          0,
          0,
          0,
          0,
          0,
          0,
          -163.48270522485265,
          -271.1403391853884,
          -291.2218900636786,
          -290.57629413638585,
          -306.2194818824828,
          -336.8163961077983,
          -364.50145632633087,
          -378.399571583896,
          -379.6620375567266,
          -373.3794178376405,
          -284.6606407091892,
          -231.9658877027588,
          -228.7003164914973,
          -247.07093792540735,
          -255.16171902092535,
          -246.71959781842838,
          -231.2994234528087,
          -218.18925698889635,
          -211.2578197491674,
          -208.6928468764401,
          -206.36256063834992,
          -201.96370860764586,
          -195.99914918033178,
          -190.08946526398125,
          -185.20455622563992,
          -181.18180173379372,
          -177.34460688930133,
          -173.27219872495226,
          -169.02694889243242,
          -164.88627452612772,
          -161.01485644956045,
          -157.37202901844134,
          -153.83067126675226,
          -150.31838498512187,
          -146.85201370514616,
          -143.48120148067432,
          -140.22778410299458,
          -137.0750887811576,
          -133.9956279733132,
          -130.97696316097935,
          -128.02363954071612,
          -125.14330228033026,
          -122.33588200903921,
          -119.59433167991595,
          -116.91156154992933,
          -114.28473914191795,
          -111.71405243038181,
          -109.19927673935736,
          -106.7381990470564,
          -104.32763429679045,
          -101.96505589433863,
          -99.64905265072541,
          -97.37862644050794,
          -95.15244379073472,
          -92.96877408623718,
          -90.82590811413301,
          -88.72246380043055,
          -86.65731871217434,
          -84.62937159087905,
          -82.63742858722765,
          -80.68027775990994,
          -78.7568052192407,
          -76.86601835172182,
          -75.00698378921122,
          -73.17877120872227,
          -71.3804556911103,
          -69.61115310833105,
          -67.87003838232052,
          -66.15633184211583,
          -64.469277150483,
          -62.80813498337397,
          -61.17219198048453,
          -59.560768757708445,
          -57.973217380994775,
          -56.40891317870406,
          -54.8672502178147,
          -53.34764281931184,
          -51.84952830444222,
          -50.372366496557014,
          -48.91563653918777,
          -47.478834377071735,
          -46.0614724952682,
          -44.663080580756365,
          -43.28320523457602,
          -41.92140855042391,
          -40.5772667315494,
          -39.250369548040254,
          -37.94032028716696,
          -36.646735440854876,
          -35.36924393657699,
          -34.1074863246379,
          -32.861114289118596,
          -31.629790399365508,
          -30.413187796137763,
          -29.21098969795205,
          -28.022888878020254,
          -26.848587274842643,
          -25.687795718702045,
          -24.54023364708877
         ],
         "yaxis": "y"
        },
        {
         "line": {
          "color": "rgb(0, 0, 255)",
          "dash": "dash",
          "width": 2
         },
         "mode": "lines",
         "name": "LF - Validate",
         "type": "scatter",
         "x": [
          0,
          0.1,
          0.2,
          0.3,
          0.4,
          0.5,
          0.6,
          0.7,
          0.8,
          0.9,
          1,
          1.1,
          1.2,
          1.3,
          1.4,
          1.5,
          1.6,
          1.7,
          1.8,
          1.9,
          2,
          2.1,
          2.2,
          2.3,
          2.4,
          2.5,
          2.6,
          2.7,
          2.8,
          2.9,
          3,
          3.1,
          3.2,
          3.3,
          3.4,
          3.5,
          3.6,
          3.7,
          3.8,
          3.9,
          4,
          4.1,
          4.2,
          4.3,
          4.4,
          4.5,
          4.6,
          4.7,
          4.8,
          4.9,
          5,
          5.1,
          5.2,
          5.3,
          5.4,
          5.5,
          5.6,
          5.7,
          5.8,
          5.9,
          6,
          6.1,
          6.2,
          6.3,
          6.4,
          6.5,
          6.6,
          6.7,
          6.8,
          6.9,
          7,
          7.1,
          7.2,
          7.3,
          7.4,
          7.5,
          7.6,
          7.7,
          7.8,
          7.9,
          8,
          8.1,
          8.2,
          8.3,
          8.4,
          8.5,
          8.6,
          8.7,
          8.8,
          8.9,
          9,
          9.1,
          9.2,
          9.3,
          9.4,
          9.5,
          9.6,
          9.7,
          9.8,
          9.9,
          10,
          10.1,
          10.2,
          10.3,
          10.4,
          10.5,
          10.6,
          10.7,
          10.8,
          10.9
         ],
         "xaxis": "x",
         "y": [
          0,
          0,
          0,
          0,
          0,
          0,
          0,
          0,
          0,
          0,
          0,
          -141.514,
          -241.215,
          -341.58,
          -450.384,
          -567.327,
          -692.789,
          -829.8839999999999,
          -987.707,
          -1153.27,
          -1267.636,
          -1188.979,
          -1074.692,
          -993.016,
          -938.7489999999999,
          -902.576,
          -874.752,
          -850.718,
          -828.2199999999999,
          -806.446,
          -785.353,
          -765.1419999999999,
          -745.976,
          -727.915,
          -710.934,
          -694.943,
          -679.847,
          -665.5600000000001,
          -651.9979999999999,
          -639.097,
          -626.807,
          -615.077,
          -603.8670000000001,
          -593.145,
          -582.875,
          -573.028,
          -563.578,
          -554.4989999999999,
          -545.767,
          -537.363,
          -529.266,
          -521.458,
          -513.926,
          -506.65099999999995,
          -499.621,
          -492.824,
          -486.245,
          -479.87600000000003,
          -473.705,
          -467.723,
          -461.91900000000004,
          -456.288,
          -450.82,
          -445.507,
          -440.344,
          -435.32300000000004,
          -430.438,
          -425.684,
          -421.054,
          -416.545,
          -412.15000000000003,
          -407.866,
          -403.688,
          -399.613,
          -395.635,
          -391.75100000000003,
          -387.959,
          -384.25399999999996,
          -380.633,
          -377.094,
          -373.633,
          -370.24800000000005,
          -366.937,
          -363.696,
          -360.52299999999997,
          -357.417,
          -354.375,
          -351.394,
          -348.47299999999996,
          -345.611,
          -342.804,
          -340.053,
          -337.354,
          -334.706,
          -332.108,
          -329.55899999999997,
          -327.05600000000004,
          -324.59900000000005,
          -322.186,
          -319.816,
          -317.488,
          -315.2,
          -312.952,
          -310.742,
          -308.57,
          -306.43399999999997,
          -304.334,
          -302.269,
          -300.23699999999997,
          -298.23699999999997
         ],
         "yaxis": "y"
        },
        {
         "line": {
          "color": "rgb(0, 255, 0)",
          "width": 2
         },
         "mode": "lines",
         "name": "RF - Pycrash",
         "type": "scatter",
         "x": [
          0,
          0.1,
          0.2,
          0.3,
          0.4,
          0.5,
          0.6,
          0.7,
          0.8,
          0.9,
          1,
          1.1,
          1.2,
          1.3,
          1.4,
          1.5,
          1.6,
          1.7,
          1.8,
          1.9,
          2,
          2.1,
          2.2,
          2.3,
          2.4,
          2.5,
          2.6,
          2.7,
          2.8,
          2.9,
          3,
          3.1,
          3.2,
          3.3,
          3.4,
          3.5,
          3.6,
          3.7,
          3.8,
          3.9,
          4,
          4.1,
          4.2,
          4.3,
          4.4,
          4.5,
          4.6,
          4.7,
          4.8,
          4.9,
          5,
          5.1,
          5.2,
          5.3,
          5.4,
          5.5,
          5.6,
          5.7,
          5.8,
          5.9,
          6,
          6.1,
          6.2,
          6.3,
          6.4,
          6.5,
          6.6,
          6.7,
          6.8,
          6.9,
          7,
          7.1,
          7.2,
          7.3,
          7.4,
          7.5,
          7.6,
          7.7,
          7.8,
          7.9,
          8,
          8.1,
          8.2,
          8.3,
          8.4,
          8.5,
          8.6,
          8.7,
          8.8,
          8.9,
          9,
          9.1,
          9.2,
          9.3,
          9.4,
          9.5,
          9.6,
          9.7,
          9.8,
          9.9,
          10,
          10.1,
          10.2,
          10.3,
          10.4,
          10.5,
          10.6,
          10.7,
          10.8,
          10.9
         ],
         "xaxis": "x2",
         "y": [
          0,
          0,
          0,
          0,
          0,
          0,
          0,
          0,
          0,
          0,
          0,
          -163.48270522485265,
          -318.1051035227449,
          -391.77872423432564,
          -421.776755671236,
          -475.0414494881651,
          -575.1747681432756,
          -710.1088122631277,
          -857.3627061232536,
          -1000.2928546917957,
          -1096.5840620452027,
          -1044.167821093059,
          -930.2268888489043,
          -904.5519158877512,
          -951.6631796479818,
          -999.5251929359572,
          -1000.1433982846999,
          -957.9995563653896,
          -905.4358265877223,
          -865.9240930013193,
          -842.1896578821826,
          -825.3705768114418,
          -807.4415279643667,
          -786.762577006336,
          -766.0894917929437,
          -748.0933336228577,
          -733.1062702528918,
          -719.8215765624495,
          -706.9917897049872,
          -694.3112697081925,
          -682.1458590552762,
          -670.8503605164957,
          -660.4189678792477,
          -650.6043781019241,
          -641.1927888327666,
          -632.1326710059043,
          -623.4722270187053,
          -615.2427272967087,
          -607.4114121859109,
          -599.9139528746558,
          -592.7031523851786,
          -585.7636584798248,
          -579.0938957731987,
          -572.6850467919926,
          -566.5170149056129,
          -560.5677072218718,
          -554.8214672400622,
          -549.2691461081498,
          -543.9030753706012,
          -538.7135921219366,
          -533.6896392503793,
          -528.8211502774826,
          -524.1001793021908,
          -519.5201418891094,
          -515.0745868247399,
          -510.75681481956224,
          -506.56033690953404,
          -502.4793611657283,
          -498.5087862372534,
          -494.64386588349726,
          -490.87997250446017,
          -487.21263064560964,
          -483.63766167818284,
          -480.1512316214083,
          -476.74977053529204,
          -473.42987478218265,
          -470.188281566887,
          -467.02190046947095,
          -463.9278352676394,
          -460.90336451863914,
          -457.94590427636416,
          -455.0529874929113,
          -452.2222659435472,
          -449.4515156907057,
          -446.7386307243737,
          -444.0816078779025,
          -441.47853490115773,
          -438.9275866928896,
          -436.42702476717625,
          -433.9751936756786,
          -431.57051391778083,
          -429.21147521765505,
          -426.89663271902384,
          -424.62460494897704,
          -422.3940711382001,
          -420.20376725490115,
          -418.05248199637725,
          -415.9390538685012,
          -413.8623691310693,
          -411.8213596919014,
          -409.81500056712065,
          -407.8423073092721,
          -405.9023338803132,
          -403.9941709459965,
          -402.1169442359102,
          -400.2698127778954,
          -398.45196714054293,
          -396.66262788293733,
          -394.90104421882063,
          -393.16649275117607
         ],
         "yaxis": "y2"
        },
        {
         "line": {
          "color": "rgb(0, 255, 0)",
          "dash": "dash",
          "width": 2
         },
         "mode": "lines",
         "name": "RF - Validate",
         "type": "scatter",
         "x": [
          0,
          0.1,
          0.2,
          0.3,
          0.4,
          0.5,
          0.6,
          0.7,
          0.8,
          0.9,
          1,
          1.1,
          1.2,
          1.3,
          1.4,
          1.5,
          1.6,
          1.7,
          1.8,
          1.9,
          2,
          2.1,
          2.2,
          2.3,
          2.4,
          2.5,
          2.6,
          2.7,
          2.8,
          2.9,
          3,
          3.1,
          3.2,
          3.3,
          3.4,
          3.5,
          3.6,
          3.7,
          3.8,
          3.9,
          4,
          4.1,
          4.2,
          4.3,
          4.4,
          4.5,
          4.6,
          4.7,
          4.8,
          4.9,
          5,
          5.1,
          5.2,
          5.3,
          5.4,
          5.5,
          5.6,
          5.7,
          5.8,
          5.9,
          6,
          6.1,
          6.2,
          6.3,
          6.4,
          6.5,
          6.6,
          6.7,
          6.8,
          6.9,
          7,
          7.1,
          7.2,
          7.3,
          7.4,
          7.5,
          7.6,
          7.7,
          7.8,
          7.9,
          8,
          8.1,
          8.2,
          8.3,
          8.4,
          8.5,
          8.6,
          8.7,
          8.8,
          8.9,
          9,
          9.1,
          9.2,
          9.3,
          9.4,
          9.5,
          9.6,
          9.7,
          9.8,
          9.9,
          10,
          10.1,
          10.2,
          10.3,
          10.4,
          10.5,
          10.6,
          10.7,
          10.8,
          10.9
         ],
         "xaxis": "x2",
         "y": [
          0,
          0,
          0,
          0,
          0,
          0,
          0,
          0,
          0,
          0,
          0,
          -185.408,
          -294.30400000000003,
          -369.78499999999997,
          -427.452,
          -472.012,
          -504.997,
          -504.53999999999996,
          -479.558,
          -458.05,
          -440.866,
          -439.827,
          -453.69100000000003,
          -465.039,
          -451.827,
          -444.106,
          -438.554,
          -434.108,
          -430.203,
          -426.497,
          -422.83,
          -419.15599999999995,
          -415.479,
          -411.82,
          -408.196,
          -404.619,
          -401.096,
          -397.632,
          -394.227,
          -390.881,
          -387.594,
          -384.364,
          -381.19199999999995,
          -378.07800000000003,
          -375.019,
          -372.015,
          -369.06600000000003,
          -366.17100000000005,
          -363.328,
          -360.537,
          -357.79699999999997,
          -355.106,
          -352.463,
          -349.86699999999996,
          -347.317,
          -344.813,
          -342.352,
          -339.934,
          -337.55800000000005,
          -335.22200000000004,
          -332.926,
          -330.67,
          -328.45099999999996,
          -326.26899999999995,
          -324.123,
          -322.012,
          -319.935,
          -317.892,
          -315.882,
          -313.90299999999996,
          -311.956,
          -310.03799999999995,
          -308.151,
          -306.29200000000003,
          -304.462,
          -302.65999999999997,
          -300.88399999999996,
          -299.135,
          -297.411,
          -295.713,
          -294.039,
          -292.389,
          -290.762,
          -289.159,
          -287.578,
          -286.019,
          -284.482,
          -282.96500000000003,
          -281.46900000000005,
          -279.994,
          -278.538,
          -277.101,
          -275.683,
          -274.284,
          -272.903,
          -271.539,
          -270.19300000000004,
          -268.864,
          -267.552,
          -266.256,
          -264.976,
          -263.712,
          -262.463,
          -261.229,
          -260.01,
          -258.806,
          -257.616,
          -256.44,
          -255.278,
          -254.129
         ],
         "yaxis": "y2"
        },
        {
         "line": {
          "color": "rgb(153, 0, 204)",
          "width": 2
         },
         "mode": "lines",
         "name": "RR - Pycrash",
         "type": "scatter",
         "x": [
          0,
          0.1,
          0.2,
          0.3,
          0.4,
          0.5,
          0.6,
          0.7,
          0.8,
          0.9,
          1,
          1.1,
          1.2,
          1.3,
          1.4,
          1.5,
          1.6,
          1.7,
          1.8,
          1.9,
          2,
          2.1,
          2.2,
          2.3,
          2.4,
          2.5,
          2.6,
          2.7,
          2.8,
          2.9,
          3,
          3.1,
          3.2,
          3.3,
          3.4,
          3.5,
          3.6,
          3.7,
          3.8,
          3.9,
          4,
          4.1,
          4.2,
          4.3,
          4.4,
          4.5,
          4.6,
          4.7,
          4.8,
          4.9,
          5,
          5.1,
          5.2,
          5.3,
          5.4,
          5.5,
          5.6,
          5.7,
          5.8,
          5.9,
          6,
          6.1,
          6.2,
          6.3,
          6.4,
          6.5,
          6.6,
          6.7,
          6.8,
          6.9,
          7,
          7.1,
          7.2,
          7.3,
          7.4,
          7.5,
          7.6,
          7.7,
          7.8,
          7.9,
          8,
          8.1,
          8.2,
          8.3,
          8.4,
          8.5,
          8.6,
          8.7,
          8.8,
          8.9,
          9,
          9.1,
          9.2,
          9.3,
          9.4,
          9.5,
          9.6,
          9.7,
          9.8,
          9.9,
          10,
          10.1,
          10.2,
          10.3,
          10.4,
          10.5,
          10.6,
          10.7,
          10.8,
          10.9
         ],
         "xaxis": "x3",
         "y": [
          0,
          0,
          0,
          0,
          0,
          0,
          0,
          0,
          0,
          0,
          0,
          0,
          1.9717607314213739,
          3.6974122132699483,
          -7.062834614167151,
          -38.257466039773725,
          -86.02570995434958,
          -141.15726832362517,
          -195.22673348101054,
          -243.95325894784227,
          -287.1661079490807,
          -325.7122761147844,
          -359.8083334809566,
          -394.2685384936695,
          -423.2101126970507,
          -434.01983211681915,
          -423.8279921899494,
          -401.5317423555721,
          -378.23374398427643,
          -359.4827220841572,
          -344.9596046672515,
          -332.1711139332727,
          -319.5657269051077,
          -307.24909263721486,
          -295.9981066590974,
          -286.18816025519664,
          -277.5543441079563,
          -269.5977697444541,
          -262.0133163993876,
          -254.7817121598145,
          -247.99892898876638,
          -241.69792091629236,
          -235.81151377198296,
          -230.24231551155648,
          -224.93167816298518,
          -219.86862436746864,
          -215.05681238446303,
          -210.4859023230541,
          -206.12993155268245,
          -201.96211553990594,
          -197.96566468342547,
          -194.1324552472851,
          -190.45569216810412,
          -186.92554672642623,
          -183.5303483894412,
          -180.25981652651382,
          -177.10641737787702,
          -174.06427319085196,
          -171.12756216309296,
          -168.29004912019522,
          -165.54567722346613,
          -162.88918589184746,
          -160.31611193793904,
          -157.82237790699372,
          -155.40399223288298,
          -153.05707780360208,
          -150.7780467735224,
          -148.5636699192289,
          -146.41099097235414,
          -144.31721022704087,
          -142.27964729985564,
          -140.29577473745252,
          -138.3632479656681,
          -136.4798897367696,
          -134.64364985020705,
          -132.85257955161717,
          -131.10483172479042,
          -129.39866843093716,
          -127.73245719704767,
          -126.10465644435682,
          -124.51380224798844,
          -122.95850352554521,
          -121.43744195842167,
          -119.94936972578908,
          -118.49310326961728,
          -117.06751653505596,
          -115.67153687761315,
          -114.30414321711457,
          -112.96436403984784,
          -111.6512740899407,
          -110.36399065030658,
          -109.10167069447591,
          -107.86350902858153,
          -106.64873660944416,
          -105.45661847218793,
          -104.28645148032842,
          -103.13756239292101,
          -102.00930637272782,
          -100.9010656553592,
          -99.81224812566457,
          -98.74228584252808,
          -97.69063370226202,
          -96.6567683104005,
          -95.64018696109835,
          -94.64040661299944,
          -93.65696286486303,
          -92.68940900528914,
          -91.73731516977935,
          -90.80026756597086,
          -89.87786771788834
         ],
         "yaxis": "y3"
        },
        {
         "line": {
          "color": "rgb(153, 0, 204)",
          "dash": "dash",
          "width": 2
         },
         "mode": "lines",
         "name": "RR - Validate",
         "type": "scatter",
         "x": [
          0,
          0.1,
          0.2,
          0.3,
          0.4,
          0.5,
          0.6,
          0.7,
          0.8,
          0.9,
          1,
          1.1,
          1.2,
          1.3,
          1.4,
          1.5,
          1.6,
          1.7,
          1.8,
          1.9,
          2,
          2.1,
          2.2,
          2.3,
          2.4,
          2.5,
          2.6,
          2.7,
          2.8,
          2.9,
          3,
          3.1,
          3.2,
          3.3,
          3.4,
          3.5,
          3.6,
          3.7,
          3.8,
          3.9,
          4,
          4.1,
          4.2,
          4.3,
          4.4,
          4.5,
          4.6,
          4.7,
          4.8,
          4.9,
          5,
          5.1,
          5.2,
          5.3,
          5.4,
          5.5,
          5.6,
          5.7,
          5.8,
          5.9,
          6,
          6.1,
          6.2,
          6.3,
          6.4,
          6.5,
          6.6,
          6.7,
          6.8,
          6.9,
          7,
          7.1,
          7.2,
          7.3,
          7.4,
          7.5,
          7.6,
          7.7,
          7.8,
          7.9,
          8,
          8.1,
          8.2,
          8.3,
          8.4,
          8.5,
          8.6,
          8.7,
          8.8,
          8.9,
          9,
          9.1,
          9.2,
          9.3,
          9.4,
          9.5,
          9.6,
          9.7,
          9.8,
          9.9,
          10,
          10.1,
          10.2,
          10.3,
          10.4,
          10.5,
          10.6,
          10.7,
          10.8,
          10.9
         ],
         "xaxis": "x3",
         "y": [
          0,
          0,
          0,
          0,
          0,
          0,
          0,
          0,
          0,
          0,
          0,
          1.2049999999999998,
          -2.83,
          -35.617000000000004,
          -63.495,
          -88.541,
          -108.7,
          -123.605,
          -133.206,
          -135.905,
          -134.152,
          -143.161,
          -166.136,
          -184.367,
          -195.416,
          -200.251,
          -201.481,
          -201.35500000000002,
          -200.936,
          -200.533,
          -200.13500000000002,
          -199.666,
          -199.08,
          -198.374,
          -197.56699999999998,
          -196.688,
          -195.759,
          -194.793,
          -193.801,
          -192.78699999999998,
          -191.756,
          -190.71099999999998,
          -189.65699999999998,
          -188.595,
          -187.529,
          -186.46099999999998,
          -185.392,
          -184.325,
          -183.261,
          -182.201,
          -181.14600000000002,
          -180.098,
          -179.05599999999998,
          -178.02200000000002,
          -176.99599999999998,
          -175.97899999999998,
          -174.97099999999998,
          -173.97199999999998,
          -172.982,
          -172.00199999999998,
          -171.033,
          -170.073,
          -169.123,
          -168.184,
          -167.255,
          -166.336,
          -165.428,
          -164.529,
          -163.64100000000002,
          -162.76299999999998,
          -161.895,
          -161.037,
          -160.189,
          -159.35,
          -158.522,
          -157.703,
          -156.893,
          -156.09300000000002,
          -155.302,
          -154.51999999999998,
          -153.748,
          -152.984,
          -152.229,
          -151.483,
          -150.74499999999998,
          -150.01600000000002,
          -149.29500000000002,
          -148.582,
          -147.877,
          -147.18,
          -146.491,
          -145.81,
          -145.136,
          -144.47,
          -143.811,
          -143.16,
          -142.51500000000001,
          -141.87800000000001,
          -141.24800000000002,
          -140.624,
          -140.007,
          -139.397,
          -138.793,
          -138.19600000000003,
          -137.60500000000002,
          -137.02,
          -136.441,
          -135.868,
          -135.30100000000002,
          -134.74099999999999
         ],
         "yaxis": "y3"
        },
        {
         "line": {
          "color": "rgb(255, 102, 0)",
          "width": 2
         },
         "mode": "lines",
         "name": "LR - Pycrash",
         "type": "scatter",
         "x": [
          0,
          0.1,
          0.2,
          0.3,
          0.4,
          0.5,
          0.6,
          0.7,
          0.8,
          0.9,
          1,
          1.1,
          1.2,
          1.3,
          1.4,
          1.5,
          1.6,
          1.7,
          1.8,
          1.9,
          2,
          2.1,
          2.2,
          2.3,
          2.4,
          2.5,
          2.6,
          2.7,
          2.8,
          2.9,
          3,
          3.1,
          3.2,
          3.3,
          3.4,
          3.5,
          3.6,
          3.7,
          3.8,
          3.9,
          4,
          4.1,
          4.2,
          4.3,
          4.4,
          4.5,
          4.6,
          4.7,
          4.8,
          4.9,
          5,
          5.1,
          5.2,
          5.3,
          5.4,
          5.5,
          5.6,
          5.7,
          5.8,
          5.9,
          6,
          6.1,
          6.2,
          6.3,
          6.4,
          6.5,
          6.6,
          6.7,
          6.8,
          6.9,
          7,
          7.1,
          7.2,
          7.3,
          7.4,
          7.5,
          7.6,
          7.7,
          7.8,
          7.9,
          8,
          8.1,
          8.2,
          8.3,
          8.4,
          8.5,
          8.6,
          8.7,
          8.8,
          8.9,
          9,
          9.1,
          9.2,
          9.3,
          9.4,
          9.5,
          9.6,
          9.7,
          9.8,
          9.9,
          10,
          10.1,
          10.2,
          10.3,
          10.4,
          10.5,
          10.6,
          10.7,
          10.8,
          10.9
         ],
         "xaxis": "x4",
         "y": [
          0,
          0,
          0,
          0,
          0,
          0,
          0,
          0,
          0,
          0,
          0,
          0,
          1.6911300193512118,
          2.832667418737657,
          -5.277114382920099,
          -28.516888974365774,
          -61.395454007912356,
          -91.48373114782592,
          -111.31263866149382,
          -121.34199138437093,
          -124.84728748957589,
          -127.77239250021418,
          -156.87757248227612,
          -189.38290481871138,
          -198.7090757264491,
          -187.90208379434475,
          -174.92393126534023,
          -169.6953657367544,
          -170.9385902144549,
          -173.59738919695351,
          -174.2244810817533,
          -172.42377708105516,
          -169.65587072887308,
          -167.29841639142546,
          -165.69891682535916,
          -164.44336279871052,
          -163.04072362149824,
          -161.33643465261602,
          -159.48054231561548,
          -157.6747941789792,
          -155.99449129262268,
          -154.39047223615444,
          -152.78781111534147,
          -151.16001000398666,
          -149.53037310400202,
          -147.9315505321393,
          -146.37484819435244,
          -144.85054103887964,
          -143.34557270950398,
          -141.85631521889144,
          -140.3876687910633,
          -138.94507015813556,
          -137.5293264212965,
          -136.13762101173734,
          -134.76726346127134,
          -133.41774139994703,
          -132.08994451893017,
          -130.78441432011036,
          -129.5006051000481,
          -128.2374303240886,
          -126.99408438692478,
          -125.77027364290386,
          -124.56587631677048,
          -123.3805753417604,
          -122.21382279171175,
          -121.06504320571896,
          -119.9337911565454,
          -118.81972992751558,
          -117.72252026007466,
          -116.64176166217533,
          -115.57702441241109,
          -114.5279073847066,
          -113.49405515921414,
          -112.47513242063845,
          -111.47079681786008,
          -110.48069808766272,
          -109.50449481186293,
          -108.54186538640933,
          -107.5925039291336,
          -106.6561104795162,
          -105.73238741595756,
          -104.82104344375773,
          -103.92179818012585,
          -103.03438212568929,
          -102.15853341273805,
          -101.29399563670394,
          -100.44051848219927,
          -99.59785931641282,
          -98.7657834996207,
          -97.9440632819806,
          -97.13247672292131,
          -96.33080758072275,
          -95.53884576427511,
          -94.7563874620552,
          -93.98323470452308,
          -93.21919482170202,
          -92.46408023320092,
          -91.71770850786874,
          -90.9799023551989,
          -90.2504893969463,
          -89.52930186624769,
          -88.81617642388721,
          -88.11095409687283,
          -87.41348020943944,
          -86.72360422941229,
          -86.04117957791146,
          -85.36606348353361,
          -84.69811689213527,
          -84.03720438063979,
          -83.38319403830987
         ],
         "yaxis": "y4"
        },
        {
         "line": {
          "color": "rgb(255, 102, 0)",
          "dash": "dash",
          "width": 2
         },
         "mode": "lines",
         "name": "LR - Validate",
         "type": "scatter",
         "x": [
          0,
          0.1,
          0.2,
          0.3,
          0.4,
          0.5,
          0.6,
          0.7,
          0.8,
          0.9,
          1,
          1.1,
          1.2,
          1.3,
          1.4,
          1.5,
          1.6,
          1.7,
          1.8,
          1.9,
          2,
          2.1,
          2.2,
          2.3,
          2.4,
          2.5,
          2.6,
          2.7,
          2.8,
          2.9,
          3,
          3.1,
          3.2,
          3.3,
          3.4,
          3.5,
          3.6,
          3.7,
          3.8,
          3.9,
          4,
          4.1,
          4.2,
          4.3,
          4.4,
          4.5,
          4.6,
          4.7,
          4.8,
          4.9,
          5,
          5.1,
          5.2,
          5.3,
          5.4,
          5.5,
          5.6,
          5.7,
          5.8,
          5.9,
          6,
          6.1,
          6.2,
          6.3,
          6.4,
          6.5,
          6.6,
          6.7,
          6.8,
          6.9,
          7,
          7.1,
          7.2,
          7.3,
          7.4,
          7.5,
          7.6,
          7.7,
          7.8,
          7.9,
          8,
          8.1,
          8.2,
          8.3,
          8.4,
          8.5,
          8.6,
          8.7,
          8.8,
          8.9,
          9,
          9.1,
          9.2,
          9.3,
          9.4,
          9.5,
          9.6,
          9.7,
          9.8,
          9.9,
          10,
          10.1,
          10.2,
          10.3,
          10.4,
          10.5,
          10.6,
          10.7,
          10.8,
          10.9
         ],
         "xaxis": "x4",
         "y": [
          0,
          0,
          0,
          0,
          0,
          0,
          0,
          0,
          0,
          0,
          0,
          1.2730000000000001,
          -3.763,
          -50.338,
          -100.22300000000001,
          -155.095,
          -211.581,
          -268.129,
          -319.84299999999996,
          -363.83500000000004,
          -402.092,
          -439.50800000000004,
          -465.912,
          -473.837,
          -470.66400000000004,
          -461.106,
          -449.522,
          -437.739,
          -426.236,
          -415.071,
          -404.27200000000005,
          -393.906,
          -384.038,
          -374.709,
          -365.926,
          -357.65799999999996,
          -349.862,
          -342.49600000000004,
          -335.51300000000003,
          -328.878,
          -322.564,
          -316.542,
          -310.79200000000003,
          -305.29499999999996,
          -300.03400000000005,
          -294.99199999999996,
          -290.156,
          -285.511,
          -281.045,
          -276.75,
          -272.612,
          -268.62399999999997,
          -264.777,
          -261.063,
          -257.474,
          -254.00499999999997,
          -250.64799999999997,
          -247.399,
          -244.251,
          -241.19899999999998,
          -238.24,
          -235.368,
          -232.58,
          -229.87099999999998,
          -227.239,
          -224.679,
          -222.189,
          -219.765,
          -217.405,
          -215.107,
          -212.867,
          -210.68300000000002,
          -208.553,
          -206.476,
          -204.44799999999998,
          -202.46800000000002,
          -200.535,
          -198.646,
          -196.8,
          -194.996,
          -193.232,
          -191.506,
          -189.817,
          -188.165,
          -186.547,
          -184.963,
          -183.411,
          -181.891,
          -180.401,
          -178.941,
          -177.51,
          -176.10600000000002,
          -174.72899999999998,
          -173.37800000000001,
          -172.05200000000002,
          -170.75099999999998,
          -169.47400000000002,
          -168.22,
          -166.988,
          -165.779,
          -164.58999999999997,
          -163.42200000000003,
          -162.274,
          -161.14600000000002,
          -160.037,
          -158.946,
          -157.874,
          -156.818,
          -155.78,
          -154.75900000000001
         ],
         "yaxis": "y4"
        }
       ],
       "layout": {
        "autosize": false,
        "font": {
         "color": "black",
         "family": "Arial",
         "size": 14
        },
        "height": 900,
        "legend": {
         "orientation": "h",
         "x": 0.01,
         "xanchor": "left",
         "y": 1.1,
         "yanchor": "top"
        },
        "template": {
         "data": {
          "bar": [
           {
            "error_x": {
             "color": "#2a3f5f"
            },
            "error_y": {
             "color": "#2a3f5f"
            },
            "marker": {
             "line": {
              "color": "white",
              "width": 0.5
             }
            },
            "type": "bar"
           }
          ],
          "barpolar": [
           {
            "marker": {
             "line": {
              "color": "white",
              "width": 0.5
             }
            },
            "type": "barpolar"
           }
          ],
          "carpet": [
           {
            "aaxis": {
             "endlinecolor": "#2a3f5f",
             "gridcolor": "#C8D4E3",
             "linecolor": "#C8D4E3",
             "minorgridcolor": "#C8D4E3",
             "startlinecolor": "#2a3f5f"
            },
            "baxis": {
             "endlinecolor": "#2a3f5f",
             "gridcolor": "#C8D4E3",
             "linecolor": "#C8D4E3",
             "minorgridcolor": "#C8D4E3",
             "startlinecolor": "#2a3f5f"
            },
            "type": "carpet"
           }
          ],
          "choropleth": [
           {
            "colorbar": {
             "outlinewidth": 0,
             "ticks": ""
            },
            "type": "choropleth"
           }
          ],
          "contour": [
           {
            "colorbar": {
             "outlinewidth": 0,
             "ticks": ""
            },
            "colorscale": [
             [
              0,
              "#0d0887"
             ],
             [
              0.1111111111111111,
              "#46039f"
             ],
             [
              0.2222222222222222,
              "#7201a8"
             ],
             [
              0.3333333333333333,
              "#9c179e"
             ],
             [
              0.4444444444444444,
              "#bd3786"
             ],
             [
              0.5555555555555556,
              "#d8576b"
             ],
             [
              0.6666666666666666,
              "#ed7953"
             ],
             [
              0.7777777777777778,
              "#fb9f3a"
             ],
             [
              0.8888888888888888,
              "#fdca26"
             ],
             [
              1,
              "#f0f921"
             ]
            ],
            "type": "contour"
           }
          ],
          "contourcarpet": [
           {
            "colorbar": {
             "outlinewidth": 0,
             "ticks": ""
            },
            "type": "contourcarpet"
           }
          ],
          "heatmap": [
           {
            "colorbar": {
             "outlinewidth": 0,
             "ticks": ""
            },
            "colorscale": [
             [
              0,
              "#0d0887"
             ],
             [
              0.1111111111111111,
              "#46039f"
             ],
             [
              0.2222222222222222,
              "#7201a8"
             ],
             [
              0.3333333333333333,
              "#9c179e"
             ],
             [
              0.4444444444444444,
              "#bd3786"
             ],
             [
              0.5555555555555556,
              "#d8576b"
             ],
             [
              0.6666666666666666,
              "#ed7953"
             ],
             [
              0.7777777777777778,
              "#fb9f3a"
             ],
             [
              0.8888888888888888,
              "#fdca26"
             ],
             [
              1,
              "#f0f921"
             ]
            ],
            "type": "heatmap"
           }
          ],
          "heatmapgl": [
           {
            "colorbar": {
             "outlinewidth": 0,
             "ticks": ""
            },
            "colorscale": [
             [
              0,
              "#0d0887"
             ],
             [
              0.1111111111111111,
              "#46039f"
             ],
             [
              0.2222222222222222,
              "#7201a8"
             ],
             [
              0.3333333333333333,
              "#9c179e"
             ],
             [
              0.4444444444444444,
              "#bd3786"
             ],
             [
              0.5555555555555556,
              "#d8576b"
             ],
             [
              0.6666666666666666,
              "#ed7953"
             ],
             [
              0.7777777777777778,
              "#fb9f3a"
             ],
             [
              0.8888888888888888,
              "#fdca26"
             ],
             [
              1,
              "#f0f921"
             ]
            ],
            "type": "heatmapgl"
           }
          ],
          "histogram": [
           {
            "marker": {
             "colorbar": {
              "outlinewidth": 0,
              "ticks": ""
             }
            },
            "type": "histogram"
           }
          ],
          "histogram2d": [
           {
            "colorbar": {
             "outlinewidth": 0,
             "ticks": ""
            },
            "colorscale": [
             [
              0,
              "#0d0887"
             ],
             [
              0.1111111111111111,
              "#46039f"
             ],
             [
              0.2222222222222222,
              "#7201a8"
             ],
             [
              0.3333333333333333,
              "#9c179e"
             ],
             [
              0.4444444444444444,
              "#bd3786"
             ],
             [
              0.5555555555555556,
              "#d8576b"
             ],
             [
              0.6666666666666666,
              "#ed7953"
             ],
             [
              0.7777777777777778,
              "#fb9f3a"
             ],
             [
              0.8888888888888888,
              "#fdca26"
             ],
             [
              1,
              "#f0f921"
             ]
            ],
            "type": "histogram2d"
           }
          ],
          "histogram2dcontour": [
           {
            "colorbar": {
             "outlinewidth": 0,
             "ticks": ""
            },
            "colorscale": [
             [
              0,
              "#0d0887"
             ],
             [
              0.1111111111111111,
              "#46039f"
             ],
             [
              0.2222222222222222,
              "#7201a8"
             ],
             [
              0.3333333333333333,
              "#9c179e"
             ],
             [
              0.4444444444444444,
              "#bd3786"
             ],
             [
              0.5555555555555556,
              "#d8576b"
             ],
             [
              0.6666666666666666,
              "#ed7953"
             ],
             [
              0.7777777777777778,
              "#fb9f3a"
             ],
             [
              0.8888888888888888,
              "#fdca26"
             ],
             [
              1,
              "#f0f921"
             ]
            ],
            "type": "histogram2dcontour"
           }
          ],
          "mesh3d": [
           {
            "colorbar": {
             "outlinewidth": 0,
             "ticks": ""
            },
            "type": "mesh3d"
           }
          ],
          "parcoords": [
           {
            "line": {
             "colorbar": {
              "outlinewidth": 0,
              "ticks": ""
             }
            },
            "type": "parcoords"
           }
          ],
          "pie": [
           {
            "automargin": true,
            "type": "pie"
           }
          ],
          "scatter": [
           {
            "marker": {
             "colorbar": {
              "outlinewidth": 0,
              "ticks": ""
             }
            },
            "type": "scatter"
           }
          ],
          "scatter3d": [
           {
            "line": {
             "colorbar": {
              "outlinewidth": 0,
              "ticks": ""
             }
            },
            "marker": {
             "colorbar": {
              "outlinewidth": 0,
              "ticks": ""
             }
            },
            "type": "scatter3d"
           }
          ],
          "scattercarpet": [
           {
            "marker": {
             "colorbar": {
              "outlinewidth": 0,
              "ticks": ""
             }
            },
            "type": "scattercarpet"
           }
          ],
          "scattergeo": [
           {
            "marker": {
             "colorbar": {
              "outlinewidth": 0,
              "ticks": ""
             }
            },
            "type": "scattergeo"
           }
          ],
          "scattergl": [
           {
            "marker": {
             "colorbar": {
              "outlinewidth": 0,
              "ticks": ""
             }
            },
            "type": "scattergl"
           }
          ],
          "scattermapbox": [
           {
            "marker": {
             "colorbar": {
              "outlinewidth": 0,
              "ticks": ""
             }
            },
            "type": "scattermapbox"
           }
          ],
          "scatterpolar": [
           {
            "marker": {
             "colorbar": {
              "outlinewidth": 0,
              "ticks": ""
             }
            },
            "type": "scatterpolar"
           }
          ],
          "scatterpolargl": [
           {
            "marker": {
             "colorbar": {
              "outlinewidth": 0,
              "ticks": ""
             }
            },
            "type": "scatterpolargl"
           }
          ],
          "scatterternary": [
           {
            "marker": {
             "colorbar": {
              "outlinewidth": 0,
              "ticks": ""
             }
            },
            "type": "scatterternary"
           }
          ],
          "surface": [
           {
            "colorbar": {
             "outlinewidth": 0,
             "ticks": ""
            },
            "colorscale": [
             [
              0,
              "#0d0887"
             ],
             [
              0.1111111111111111,
              "#46039f"
             ],
             [
              0.2222222222222222,
              "#7201a8"
             ],
             [
              0.3333333333333333,
              "#9c179e"
             ],
             [
              0.4444444444444444,
              "#bd3786"
             ],
             [
              0.5555555555555556,
              "#d8576b"
             ],
             [
              0.6666666666666666,
              "#ed7953"
             ],
             [
              0.7777777777777778,
              "#fb9f3a"
             ],
             [
              0.8888888888888888,
              "#fdca26"
             ],
             [
              1,
              "#f0f921"
             ]
            ],
            "type": "surface"
           }
          ],
          "table": [
           {
            "cells": {
             "fill": {
              "color": "#EBF0F8"
             },
             "line": {
              "color": "white"
             }
            },
            "header": {
             "fill": {
              "color": "#C8D4E3"
             },
             "line": {
              "color": "white"
             }
            },
            "type": "table"
           }
          ]
         },
         "layout": {
          "annotationdefaults": {
           "arrowcolor": "#2a3f5f",
           "arrowhead": 0,
           "arrowwidth": 1
          },
          "coloraxis": {
           "colorbar": {
            "outlinewidth": 0,
            "ticks": ""
           }
          },
          "colorscale": {
           "diverging": [
            [
             0,
             "#8e0152"
            ],
            [
             0.1,
             "#c51b7d"
            ],
            [
             0.2,
             "#de77ae"
            ],
            [
             0.3,
             "#f1b6da"
            ],
            [
             0.4,
             "#fde0ef"
            ],
            [
             0.5,
             "#f7f7f7"
            ],
            [
             0.6,
             "#e6f5d0"
            ],
            [
             0.7,
             "#b8e186"
            ],
            [
             0.8,
             "#7fbc41"
            ],
            [
             0.9,
             "#4d9221"
            ],
            [
             1,
             "#276419"
            ]
           ],
           "sequential": [
            [
             0,
             "#0d0887"
            ],
            [
             0.1111111111111111,
             "#46039f"
            ],
            [
             0.2222222222222222,
             "#7201a8"
            ],
            [
             0.3333333333333333,
             "#9c179e"
            ],
            [
             0.4444444444444444,
             "#bd3786"
            ],
            [
             0.5555555555555556,
             "#d8576b"
            ],
            [
             0.6666666666666666,
             "#ed7953"
            ],
            [
             0.7777777777777778,
             "#fb9f3a"
            ],
            [
             0.8888888888888888,
             "#fdca26"
            ],
            [
             1,
             "#f0f921"
            ]
           ],
           "sequentialminus": [
            [
             0,
             "#0d0887"
            ],
            [
             0.1111111111111111,
             "#46039f"
            ],
            [
             0.2222222222222222,
             "#7201a8"
            ],
            [
             0.3333333333333333,
             "#9c179e"
            ],
            [
             0.4444444444444444,
             "#bd3786"
            ],
            [
             0.5555555555555556,
             "#d8576b"
            ],
            [
             0.6666666666666666,
             "#ed7953"
            ],
            [
             0.7777777777777778,
             "#fb9f3a"
            ],
            [
             0.8888888888888888,
             "#fdca26"
            ],
            [
             1,
             "#f0f921"
            ]
           ]
          },
          "colorway": [
           "#636efa",
           "#EF553B",
           "#00cc96",
           "#ab63fa",
           "#FFA15A",
           "#19d3f3",
           "#FF6692",
           "#B6E880",
           "#FF97FF",
           "#FECB52"
          ],
          "font": {
           "color": "#2a3f5f"
          },
          "geo": {
           "bgcolor": "white",
           "lakecolor": "white",
           "landcolor": "white",
           "showlakes": true,
           "showland": true,
           "subunitcolor": "#C8D4E3"
          },
          "hoverlabel": {
           "align": "left"
          },
          "hovermode": "closest",
          "mapbox": {
           "style": "light"
          },
          "paper_bgcolor": "white",
          "plot_bgcolor": "white",
          "polar": {
           "angularaxis": {
            "gridcolor": "#EBF0F8",
            "linecolor": "#EBF0F8",
            "ticks": ""
           },
           "bgcolor": "white",
           "radialaxis": {
            "gridcolor": "#EBF0F8",
            "linecolor": "#EBF0F8",
            "ticks": ""
           }
          },
          "scene": {
           "xaxis": {
            "backgroundcolor": "white",
            "gridcolor": "#DFE8F3",
            "gridwidth": 2,
            "linecolor": "#EBF0F8",
            "showbackground": true,
            "ticks": "",
            "zerolinecolor": "#EBF0F8"
           },
           "yaxis": {
            "backgroundcolor": "white",
            "gridcolor": "#DFE8F3",
            "gridwidth": 2,
            "linecolor": "#EBF0F8",
            "showbackground": true,
            "ticks": "",
            "zerolinecolor": "#EBF0F8"
           },
           "zaxis": {
            "backgroundcolor": "white",
            "gridcolor": "#DFE8F3",
            "gridwidth": 2,
            "linecolor": "#EBF0F8",
            "showbackground": true,
            "ticks": "",
            "zerolinecolor": "#EBF0F8"
           }
          },
          "shapedefaults": {
           "line": {
            "color": "#2a3f5f"
           }
          },
          "ternary": {
           "aaxis": {
            "gridcolor": "#DFE8F3",
            "linecolor": "#A2B1C6",
            "ticks": ""
           },
           "baxis": {
            "gridcolor": "#DFE8F3",
            "linecolor": "#A2B1C6",
            "ticks": ""
           },
           "bgcolor": "white",
           "caxis": {
            "gridcolor": "#DFE8F3",
            "linecolor": "#A2B1C6",
            "ticks": ""
           }
          },
          "title": {
           "x": 0.05
          },
          "xaxis": {
           "automargin": true,
           "gridcolor": "#EBF0F8",
           "linecolor": "#EBF0F8",
           "ticks": "",
           "title": {
            "standoff": 15
           },
           "zerolinecolor": "#EBF0F8",
           "zerolinewidth": 2
          },
          "yaxis": {
           "automargin": true,
           "gridcolor": "#EBF0F8",
           "linecolor": "#EBF0F8",
           "ticks": "",
           "title": {
            "standoff": 15
           },
           "zerolinecolor": "#EBF0F8",
           "zerolinewidth": 2
          }
         }
        },
        "title": {
         "text": "Tire Rightward Forces"
        },
        "width": 900,
        "xaxis": {
         "anchor": "y",
         "domain": [
          0,
          1
         ],
         "linecolor": "black",
         "linewidth": 1,
         "matches": "x4",
         "showgrid": false,
         "showline": true,
         "showticklabels": false,
         "tickcolor": "black",
         "ticklen": 10,
         "ticks": "outside",
         "tickwidth": 1,
         "title": {
          "text": ""
         },
         "zeroline": false
        },
        "xaxis2": {
         "anchor": "y2",
         "domain": [
          0,
          1
         ],
         "linecolor": "black",
         "linewidth": 1,
         "matches": "x4",
         "showgrid": false,
         "showline": true,
         "showticklabels": false,
         "tickcolor": "black",
         "ticklen": 10,
         "ticks": "outside",
         "tickwidth": 1,
         "title": {
          "text": ""
         },
         "zeroline": false
        },
        "xaxis3": {
         "anchor": "y3",
         "domain": [
          0,
          1
         ],
         "linecolor": "black",
         "linewidth": 1,
         "matches": "x4",
         "showgrid": false,
         "showline": true,
         "showticklabels": false,
         "tickcolor": "black",
         "ticklen": 10,
         "ticks": "outside",
         "tickwidth": 1,
         "title": {
          "text": ""
         },
         "zeroline": false
        },
        "xaxis4": {
         "anchor": "y4",
         "domain": [
          0,
          1
         ],
         "linecolor": "black",
         "linewidth": 1,
         "showgrid": false,
         "showline": true,
         "tickcolor": "black",
         "ticklen": 10,
         "ticks": "outside",
         "tickwidth": 1,
         "title": {
          "text": "Time (s)"
         },
         "zeroline": false
        },
        "yaxis": {
         "anchor": "x",
         "domain": [
          0.7875,
          1
         ],
         "linecolor": "black",
         "linewidth": 1,
         "showgrid": false,
         "showline": true,
         "tickcolor": "black",
         "ticklen": 10,
         "ticks": "outside",
         "tickwidth": 1,
         "title": {
          "text": "LF - Rightward Force (lb)"
         },
         "zeroline": false
        },
        "yaxis2": {
         "anchor": "x2",
         "domain": [
          0.525,
          0.7375
         ],
         "linecolor": "black",
         "linewidth": 1,
         "showgrid": false,
         "showline": true,
         "tickcolor": "black",
         "ticklen": 10,
         "ticks": "outside",
         "tickwidth": 1,
         "title": {
          "text": "RF - Rightward Force (lb)"
         },
         "zeroline": false
        },
        "yaxis3": {
         "anchor": "x3",
         "domain": [
          0.2625,
          0.475
         ],
         "linecolor": "black",
         "linewidth": 1,
         "showgrid": false,
         "showline": true,
         "tickcolor": "black",
         "ticklen": 10,
         "ticks": "outside",
         "tickwidth": 1,
         "title": {
          "text": "RR - Rightward Force (lb)"
         },
         "zeroline": false
        },
        "yaxis4": {
         "anchor": "x4",
         "domain": [
          0,
          0.2125
         ],
         "linecolor": "black",
         "linewidth": 1,
         "showgrid": false,
         "showline": true,
         "tickcolor": "black",
         "ticklen": 10,
         "ticks": "outside",
         "tickwidth": 1,
         "title": {
          "text": "LR - Rightward Force (lb)"
         },
         "zeroline": false
        }
       }
      },
      "text/html": [
       "<div>\n",
       "        \n",
       "        \n",
       "            <div id=\"1a454ce9-c5a8-475a-8cd3-e9c76f8de7c6\" class=\"plotly-graph-div\" style=\"height:900px; width:900px;\"></div>\n",
       "            <script type=\"text/javascript\">\n",
       "                require([\"plotly\"], function(Plotly) {\n",
       "                    window.PLOTLYENV=window.PLOTLYENV || {};\n",
       "                    \n",
       "                if (document.getElementById(\"1a454ce9-c5a8-475a-8cd3-e9c76f8de7c6\")) {\n",
       "                    Plotly.newPlot(\n",
       "                        '1a454ce9-c5a8-475a-8cd3-e9c76f8de7c6',\n",
       "                        [{\"line\": {\"color\": \"rgb(0, 0, 255)\", \"width\": 2}, \"mode\": \"lines\", \"name\": \"LF - Pycrash\", \"type\": \"scatter\", \"x\": [0.0, 0.1, 0.2, 0.3, 0.4, 0.5, 0.6, 0.7, 0.8, 0.9, 1.0, 1.1, 1.2, 1.3, 1.4, 1.5, 1.6, 1.7, 1.8, 1.9, 2.0, 2.1, 2.2, 2.3, 2.4, 2.5, 2.6, 2.7, 2.8, 2.9, 3.0, 3.1, 3.2, 3.3, 3.4, 3.5, 3.6, 3.7, 3.8, 3.9, 4.0, 4.1, 4.2, 4.3, 4.4, 4.5, 4.6, 4.7, 4.8, 4.9, 5.0, 5.1, 5.2, 5.3, 5.4, 5.5, 5.6, 5.7, 5.8, 5.9, 6.0, 6.1, 6.2, 6.3, 6.4, 6.5, 6.6, 6.7, 6.8, 6.9, 7.0, 7.1, 7.2, 7.3, 7.4, 7.5, 7.6, 7.7, 7.8, 7.9, 8.0, 8.1, 8.2, 8.3, 8.4, 8.5, 8.6, 8.7, 8.8, 8.9, 9.0, 9.1, 9.2, 9.3, 9.4, 9.5, 9.6, 9.7, 9.8, 9.9, 10.0, 10.1, 10.2, 10.3, 10.4, 10.5, 10.6, 10.7, 10.8, 10.9], \"xaxis\": \"x\", \"y\": [0.0, 0.0, 0.0, 0.0, 0.0, 0.0, 0.0, 0.0, 0.0, 0.0, 0.0, -163.48270522485265, -271.1403391853884, -291.2218900636786, -290.57629413638585, -306.2194818824828, -336.8163961077983, -364.50145632633087, -378.399571583896, -379.6620375567266, -373.3794178376405, -284.6606407091892, -231.9658877027588, -228.7003164914973, -247.07093792540735, -255.16171902092535, -246.71959781842838, -231.2994234528087, -218.18925698889635, -211.2578197491674, -208.6928468764401, -206.36256063834992, -201.96370860764586, -195.99914918033178, -190.08946526398125, -185.20455622563992, -181.18180173379372, -177.34460688930133, -173.27219872495226, -169.02694889243242, -164.88627452612772, -161.01485644956045, -157.37202901844134, -153.83067126675226, -150.31838498512187, -146.85201370514616, -143.48120148067432, -140.22778410299458, -137.0750887811576, -133.9956279733132, -130.97696316097935, -128.02363954071612, -125.14330228033026, -122.33588200903921, -119.59433167991595, -116.91156154992933, -114.28473914191795, -111.71405243038181, -109.19927673935736, -106.7381990470564, -104.32763429679045, -101.96505589433863, -99.64905265072541, -97.37862644050794, -95.15244379073472, -92.96877408623718, -90.82590811413301, -88.72246380043055, -86.65731871217434, -84.62937159087905, -82.63742858722765, -80.68027775990994, -78.7568052192407, -76.86601835172182, -75.00698378921122, -73.17877120872227, -71.3804556911103, -69.61115310833105, -67.87003838232052, -66.15633184211583, -64.469277150483, -62.80813498337397, -61.17219198048453, -59.560768757708445, -57.973217380994775, -56.40891317870406, -54.8672502178147, -53.34764281931184, -51.84952830444222, -50.372366496557014, -48.91563653918777, -47.478834377071735, -46.0614724952682, -44.663080580756365, -43.28320523457602, -41.92140855042391, -40.5772667315494, -39.250369548040254, -37.94032028716696, -36.646735440854876, -35.36924393657699, -34.1074863246379, -32.861114289118596, -31.629790399365508, -30.413187796137763, -29.21098969795205, -28.022888878020254, -26.848587274842643, -25.687795718702045, -24.54023364708877], \"yaxis\": \"y\"}, {\"line\": {\"color\": \"rgb(0, 0, 255)\", \"dash\": \"dash\", \"width\": 2}, \"mode\": \"lines\", \"name\": \"LF - Validate\", \"type\": \"scatter\", \"x\": [0.0, 0.1, 0.2, 0.3, 0.4, 0.5, 0.6, 0.7, 0.8, 0.9, 1.0, 1.1, 1.2, 1.3, 1.4, 1.5, 1.6, 1.7, 1.8, 1.9, 2.0, 2.1, 2.2, 2.3, 2.4, 2.5, 2.6, 2.7, 2.8, 2.9, 3.0, 3.1, 3.2, 3.3, 3.4, 3.5, 3.6, 3.7, 3.8, 3.9, 4.0, 4.1, 4.2, 4.3, 4.4, 4.5, 4.6, 4.7, 4.8, 4.9, 5.0, 5.1, 5.2, 5.3, 5.4, 5.5, 5.6, 5.7, 5.8, 5.9, 6.0, 6.1, 6.2, 6.3, 6.4, 6.5, 6.6, 6.7, 6.8, 6.9, 7.0, 7.1, 7.2, 7.3, 7.4, 7.5, 7.6, 7.7, 7.8, 7.9, 8.0, 8.1, 8.2, 8.3, 8.4, 8.5, 8.6, 8.7, 8.8, 8.9, 9.0, 9.1, 9.2, 9.3, 9.4, 9.5, 9.6, 9.7, 9.8, 9.9, 10.0, 10.1, 10.2, 10.3, 10.4, 10.5, 10.6, 10.7, 10.8, 10.9], \"xaxis\": \"x\", \"y\": [0.0, 0.0, 0.0, 0.0, 0.0, 0.0, 0.0, 0.0, 0.0, 0.0, 0.0, -141.514, -241.215, -341.58, -450.384, -567.327, -692.789, -829.8839999999999, -987.707, -1153.27, -1267.636, -1188.979, -1074.692, -993.016, -938.7489999999999, -902.576, -874.752, -850.718, -828.2199999999999, -806.446, -785.353, -765.1419999999999, -745.976, -727.915, -710.934, -694.943, -679.847, -665.5600000000001, -651.9979999999999, -639.097, -626.807, -615.077, -603.8670000000001, -593.145, -582.875, -573.028, -563.578, -554.4989999999999, -545.767, -537.363, -529.266, -521.458, -513.926, -506.65099999999995, -499.621, -492.824, -486.245, -479.87600000000003, -473.705, -467.723, -461.91900000000004, -456.288, -450.82, -445.507, -440.344, -435.32300000000004, -430.438, -425.684, -421.054, -416.545, -412.15000000000003, -407.866, -403.688, -399.613, -395.635, -391.75100000000003, -387.959, -384.25399999999996, -380.633, -377.094, -373.633, -370.24800000000005, -366.937, -363.696, -360.52299999999997, -357.417, -354.375, -351.394, -348.47299999999996, -345.611, -342.804, -340.053, -337.354, -334.706, -332.108, -329.55899999999997, -327.05600000000004, -324.59900000000005, -322.186, -319.816, -317.488, -315.2, -312.952, -310.742, -308.57, -306.43399999999997, -304.334, -302.269, -300.23699999999997, -298.23699999999997], \"yaxis\": \"y\"}, {\"line\": {\"color\": \"rgb(0, 255, 0)\", \"width\": 2}, \"mode\": \"lines\", \"name\": \"RF - Pycrash\", \"type\": \"scatter\", \"x\": [0.0, 0.1, 0.2, 0.3, 0.4, 0.5, 0.6, 0.7, 0.8, 0.9, 1.0, 1.1, 1.2, 1.3, 1.4, 1.5, 1.6, 1.7, 1.8, 1.9, 2.0, 2.1, 2.2, 2.3, 2.4, 2.5, 2.6, 2.7, 2.8, 2.9, 3.0, 3.1, 3.2, 3.3, 3.4, 3.5, 3.6, 3.7, 3.8, 3.9, 4.0, 4.1, 4.2, 4.3, 4.4, 4.5, 4.6, 4.7, 4.8, 4.9, 5.0, 5.1, 5.2, 5.3, 5.4, 5.5, 5.6, 5.7, 5.8, 5.9, 6.0, 6.1, 6.2, 6.3, 6.4, 6.5, 6.6, 6.7, 6.8, 6.9, 7.0, 7.1, 7.2, 7.3, 7.4, 7.5, 7.6, 7.7, 7.8, 7.9, 8.0, 8.1, 8.2, 8.3, 8.4, 8.5, 8.6, 8.7, 8.8, 8.9, 9.0, 9.1, 9.2, 9.3, 9.4, 9.5, 9.6, 9.7, 9.8, 9.9, 10.0, 10.1, 10.2, 10.3, 10.4, 10.5, 10.6, 10.7, 10.8, 10.9], \"xaxis\": \"x2\", \"y\": [0.0, 0.0, 0.0, 0.0, 0.0, 0.0, 0.0, 0.0, 0.0, 0.0, 0.0, -163.48270522485265, -318.1051035227449, -391.77872423432564, -421.776755671236, -475.0414494881651, -575.1747681432756, -710.1088122631277, -857.3627061232536, -1000.2928546917957, -1096.5840620452027, -1044.167821093059, -930.2268888489043, -904.5519158877512, -951.6631796479818, -999.5251929359572, -1000.1433982846999, -957.9995563653896, -905.4358265877223, -865.9240930013193, -842.1896578821826, -825.3705768114418, -807.4415279643667, -786.762577006336, -766.0894917929437, -748.0933336228577, -733.1062702528918, -719.8215765624495, -706.9917897049872, -694.3112697081925, -682.1458590552762, -670.8503605164957, -660.4189678792477, -650.6043781019241, -641.1927888327666, -632.1326710059043, -623.4722270187053, -615.2427272967087, -607.4114121859109, -599.9139528746558, -592.7031523851786, -585.7636584798248, -579.0938957731987, -572.6850467919926, -566.5170149056129, -560.5677072218718, -554.8214672400622, -549.2691461081498, -543.9030753706012, -538.7135921219366, -533.6896392503793, -528.8211502774826, -524.1001793021908, -519.5201418891094, -515.0745868247399, -510.75681481956224, -506.56033690953404, -502.4793611657283, -498.5087862372534, -494.64386588349726, -490.87997250446017, -487.21263064560964, -483.63766167818284, -480.1512316214083, -476.74977053529204, -473.42987478218265, -470.188281566887, -467.02190046947095, -463.9278352676394, -460.90336451863914, -457.94590427636416, -455.0529874929113, -452.2222659435472, -449.4515156907057, -446.7386307243737, -444.0816078779025, -441.47853490115773, -438.9275866928896, -436.42702476717625, -433.9751936756786, -431.57051391778083, -429.21147521765505, -426.89663271902384, -424.62460494897704, -422.3940711382001, -420.20376725490115, -418.05248199637725, -415.9390538685012, -413.8623691310693, -411.8213596919014, -409.81500056712065, -407.8423073092721, -405.9023338803132, -403.9941709459965, -402.1169442359102, -400.2698127778954, -398.45196714054293, -396.66262788293733, -394.90104421882063, -393.16649275117607], \"yaxis\": \"y2\"}, {\"line\": {\"color\": \"rgb(0, 255, 0)\", \"dash\": \"dash\", \"width\": 2}, \"mode\": \"lines\", \"name\": \"RF - Validate\", \"type\": \"scatter\", \"x\": [0.0, 0.1, 0.2, 0.3, 0.4, 0.5, 0.6, 0.7, 0.8, 0.9, 1.0, 1.1, 1.2, 1.3, 1.4, 1.5, 1.6, 1.7, 1.8, 1.9, 2.0, 2.1, 2.2, 2.3, 2.4, 2.5, 2.6, 2.7, 2.8, 2.9, 3.0, 3.1, 3.2, 3.3, 3.4, 3.5, 3.6, 3.7, 3.8, 3.9, 4.0, 4.1, 4.2, 4.3, 4.4, 4.5, 4.6, 4.7, 4.8, 4.9, 5.0, 5.1, 5.2, 5.3, 5.4, 5.5, 5.6, 5.7, 5.8, 5.9, 6.0, 6.1, 6.2, 6.3, 6.4, 6.5, 6.6, 6.7, 6.8, 6.9, 7.0, 7.1, 7.2, 7.3, 7.4, 7.5, 7.6, 7.7, 7.8, 7.9, 8.0, 8.1, 8.2, 8.3, 8.4, 8.5, 8.6, 8.7, 8.8, 8.9, 9.0, 9.1, 9.2, 9.3, 9.4, 9.5, 9.6, 9.7, 9.8, 9.9, 10.0, 10.1, 10.2, 10.3, 10.4, 10.5, 10.6, 10.7, 10.8, 10.9], \"xaxis\": \"x2\", \"y\": [0.0, 0.0, 0.0, 0.0, 0.0, 0.0, 0.0, 0.0, 0.0, 0.0, 0.0, -185.408, -294.30400000000003, -369.78499999999997, -427.452, -472.012, -504.997, -504.53999999999996, -479.558, -458.05, -440.866, -439.827, -453.69100000000003, -465.039, -451.827, -444.106, -438.554, -434.108, -430.203, -426.497, -422.83, -419.15599999999995, -415.479, -411.82, -408.196, -404.619, -401.096, -397.632, -394.227, -390.881, -387.594, -384.364, -381.19199999999995, -378.07800000000003, -375.019, -372.015, -369.06600000000003, -366.17100000000005, -363.328, -360.537, -357.79699999999997, -355.106, -352.463, -349.86699999999996, -347.317, -344.813, -342.352, -339.934, -337.55800000000005, -335.22200000000004, -332.926, -330.67, -328.45099999999996, -326.26899999999995, -324.123, -322.012, -319.935, -317.892, -315.882, -313.90299999999996, -311.956, -310.03799999999995, -308.151, -306.29200000000003, -304.462, -302.65999999999997, -300.88399999999996, -299.135, -297.411, -295.713, -294.039, -292.389, -290.762, -289.159, -287.578, -286.019, -284.482, -282.96500000000003, -281.46900000000005, -279.994, -278.538, -277.101, -275.683, -274.284, -272.903, -271.539, -270.19300000000004, -268.864, -267.552, -266.256, -264.976, -263.712, -262.463, -261.229, -260.01, -258.806, -257.616, -256.44, -255.278, -254.129], \"yaxis\": \"y2\"}, {\"line\": {\"color\": \"rgb(153, 0, 204)\", \"width\": 2}, \"mode\": \"lines\", \"name\": \"RR - Pycrash\", \"type\": \"scatter\", \"x\": [0.0, 0.1, 0.2, 0.3, 0.4, 0.5, 0.6, 0.7, 0.8, 0.9, 1.0, 1.1, 1.2, 1.3, 1.4, 1.5, 1.6, 1.7, 1.8, 1.9, 2.0, 2.1, 2.2, 2.3, 2.4, 2.5, 2.6, 2.7, 2.8, 2.9, 3.0, 3.1, 3.2, 3.3, 3.4, 3.5, 3.6, 3.7, 3.8, 3.9, 4.0, 4.1, 4.2, 4.3, 4.4, 4.5, 4.6, 4.7, 4.8, 4.9, 5.0, 5.1, 5.2, 5.3, 5.4, 5.5, 5.6, 5.7, 5.8, 5.9, 6.0, 6.1, 6.2, 6.3, 6.4, 6.5, 6.6, 6.7, 6.8, 6.9, 7.0, 7.1, 7.2, 7.3, 7.4, 7.5, 7.6, 7.7, 7.8, 7.9, 8.0, 8.1, 8.2, 8.3, 8.4, 8.5, 8.6, 8.7, 8.8, 8.9, 9.0, 9.1, 9.2, 9.3, 9.4, 9.5, 9.6, 9.7, 9.8, 9.9, 10.0, 10.1, 10.2, 10.3, 10.4, 10.5, 10.6, 10.7, 10.8, 10.9], \"xaxis\": \"x3\", \"y\": [-0.0, -0.0, -0.0, -0.0, -0.0, -0.0, -0.0, -0.0, -0.0, -0.0, -0.0, -0.0, 1.9717607314213739, 3.6974122132699483, -7.062834614167151, -38.257466039773725, -86.02570995434958, -141.15726832362517, -195.22673348101054, -243.95325894784227, -287.1661079490807, -325.7122761147844, -359.8083334809566, -394.2685384936695, -423.2101126970507, -434.01983211681915, -423.8279921899494, -401.5317423555721, -378.23374398427643, -359.4827220841572, -344.9596046672515, -332.1711139332727, -319.5657269051077, -307.24909263721486, -295.9981066590974, -286.18816025519664, -277.5543441079563, -269.5977697444541, -262.0133163993876, -254.7817121598145, -247.99892898876638, -241.69792091629236, -235.81151377198296, -230.24231551155648, -224.93167816298518, -219.86862436746864, -215.05681238446303, -210.4859023230541, -206.12993155268245, -201.96211553990594, -197.96566468342547, -194.1324552472851, -190.45569216810412, -186.92554672642623, -183.5303483894412, -180.25981652651382, -177.10641737787702, -174.06427319085196, -171.12756216309296, -168.29004912019522, -165.54567722346613, -162.88918589184746, -160.31611193793904, -157.82237790699372, -155.40399223288298, -153.05707780360208, -150.7780467735224, -148.5636699192289, -146.41099097235414, -144.31721022704087, -142.27964729985564, -140.29577473745252, -138.3632479656681, -136.4798897367696, -134.64364985020705, -132.85257955161717, -131.10483172479042, -129.39866843093716, -127.73245719704767, -126.10465644435682, -124.51380224798844, -122.95850352554521, -121.43744195842167, -119.94936972578908, -118.49310326961728, -117.06751653505596, -115.67153687761315, -114.30414321711457, -112.96436403984784, -111.6512740899407, -110.36399065030658, -109.10167069447591, -107.86350902858153, -106.64873660944416, -105.45661847218793, -104.28645148032842, -103.13756239292101, -102.00930637272782, -100.9010656553592, -99.81224812566457, -98.74228584252808, -97.69063370226202, -96.6567683104005, -95.64018696109835, -94.64040661299944, -93.65696286486303, -92.68940900528914, -91.73731516977935, -90.80026756597086, -89.87786771788834], \"yaxis\": \"y3\"}, {\"line\": {\"color\": \"rgb(153, 0, 204)\", \"dash\": \"dash\", \"width\": 2}, \"mode\": \"lines\", \"name\": \"RR - Validate\", \"type\": \"scatter\", \"x\": [0.0, 0.1, 0.2, 0.3, 0.4, 0.5, 0.6, 0.7, 0.8, 0.9, 1.0, 1.1, 1.2, 1.3, 1.4, 1.5, 1.6, 1.7, 1.8, 1.9, 2.0, 2.1, 2.2, 2.3, 2.4, 2.5, 2.6, 2.7, 2.8, 2.9, 3.0, 3.1, 3.2, 3.3, 3.4, 3.5, 3.6, 3.7, 3.8, 3.9, 4.0, 4.1, 4.2, 4.3, 4.4, 4.5, 4.6, 4.7, 4.8, 4.9, 5.0, 5.1, 5.2, 5.3, 5.4, 5.5, 5.6, 5.7, 5.8, 5.9, 6.0, 6.1, 6.2, 6.3, 6.4, 6.5, 6.6, 6.7, 6.8, 6.9, 7.0, 7.1, 7.2, 7.3, 7.4, 7.5, 7.6, 7.7, 7.8, 7.9, 8.0, 8.1, 8.2, 8.3, 8.4, 8.5, 8.6, 8.7, 8.8, 8.9, 9.0, 9.1, 9.2, 9.3, 9.4, 9.5, 9.6, 9.7, 9.8, 9.9, 10.0, 10.1, 10.2, 10.3, 10.4, 10.5, 10.6, 10.7, 10.8, 10.9], \"xaxis\": \"x3\", \"y\": [0.0, 0.0, 0.0, 0.0, 0.0, 0.0, 0.0, 0.0, 0.0, 0.0, 0.0, 1.2049999999999998, -2.83, -35.617000000000004, -63.495, -88.541, -108.7, -123.605, -133.206, -135.905, -134.152, -143.161, -166.136, -184.367, -195.416, -200.251, -201.481, -201.35500000000002, -200.936, -200.533, -200.13500000000002, -199.666, -199.08, -198.374, -197.56699999999998, -196.688, -195.759, -194.793, -193.801, -192.78699999999998, -191.756, -190.71099999999998, -189.65699999999998, -188.595, -187.529, -186.46099999999998, -185.392, -184.325, -183.261, -182.201, -181.14600000000002, -180.098, -179.05599999999998, -178.02200000000002, -176.99599999999998, -175.97899999999998, -174.97099999999998, -173.97199999999998, -172.982, -172.00199999999998, -171.033, -170.073, -169.123, -168.184, -167.255, -166.336, -165.428, -164.529, -163.64100000000002, -162.76299999999998, -161.895, -161.037, -160.189, -159.35, -158.522, -157.703, -156.893, -156.09300000000002, -155.302, -154.51999999999998, -153.748, -152.984, -152.229, -151.483, -150.74499999999998, -150.01600000000002, -149.29500000000002, -148.582, -147.877, -147.18, -146.491, -145.81, -145.136, -144.47, -143.811, -143.16, -142.51500000000001, -141.87800000000001, -141.24800000000002, -140.624, -140.007, -139.397, -138.793, -138.19600000000003, -137.60500000000002, -137.02, -136.441, -135.868, -135.30100000000002, -134.74099999999999], \"yaxis\": \"y3\"}, {\"line\": {\"color\": \"rgb(255, 102, 0)\", \"width\": 2}, \"mode\": \"lines\", \"name\": \"LR - Pycrash\", \"type\": \"scatter\", \"x\": [0.0, 0.1, 0.2, 0.3, 0.4, 0.5, 0.6, 0.7, 0.8, 0.9, 1.0, 1.1, 1.2, 1.3, 1.4, 1.5, 1.6, 1.7, 1.8, 1.9, 2.0, 2.1, 2.2, 2.3, 2.4, 2.5, 2.6, 2.7, 2.8, 2.9, 3.0, 3.1, 3.2, 3.3, 3.4, 3.5, 3.6, 3.7, 3.8, 3.9, 4.0, 4.1, 4.2, 4.3, 4.4, 4.5, 4.6, 4.7, 4.8, 4.9, 5.0, 5.1, 5.2, 5.3, 5.4, 5.5, 5.6, 5.7, 5.8, 5.9, 6.0, 6.1, 6.2, 6.3, 6.4, 6.5, 6.6, 6.7, 6.8, 6.9, 7.0, 7.1, 7.2, 7.3, 7.4, 7.5, 7.6, 7.7, 7.8, 7.9, 8.0, 8.1, 8.2, 8.3, 8.4, 8.5, 8.6, 8.7, 8.8, 8.9, 9.0, 9.1, 9.2, 9.3, 9.4, 9.5, 9.6, 9.7, 9.8, 9.9, 10.0, 10.1, 10.2, 10.3, 10.4, 10.5, 10.6, 10.7, 10.8, 10.9], \"xaxis\": \"x4\", \"y\": [-0.0, -0.0, -0.0, -0.0, -0.0, -0.0, -0.0, -0.0, -0.0, -0.0, -0.0, -0.0, 1.6911300193512118, 2.832667418737657, -5.277114382920099, -28.516888974365774, -61.395454007912356, -91.48373114782592, -111.31263866149382, -121.34199138437093, -124.84728748957589, -127.77239250021418, -156.87757248227612, -189.38290481871138, -198.7090757264491, -187.90208379434475, -174.92393126534023, -169.6953657367544, -170.9385902144549, -173.59738919695351, -174.2244810817533, -172.42377708105516, -169.65587072887308, -167.29841639142546, -165.69891682535916, -164.44336279871052, -163.04072362149824, -161.33643465261602, -159.48054231561548, -157.6747941789792, -155.99449129262268, -154.39047223615444, -152.78781111534147, -151.16001000398666, -149.53037310400202, -147.9315505321393, -146.37484819435244, -144.85054103887964, -143.34557270950398, -141.85631521889144, -140.3876687910633, -138.94507015813556, -137.5293264212965, -136.13762101173734, -134.76726346127134, -133.41774139994703, -132.08994451893017, -130.78441432011036, -129.5006051000481, -128.2374303240886, -126.99408438692478, -125.77027364290386, -124.56587631677048, -123.3805753417604, -122.21382279171175, -121.06504320571896, -119.9337911565454, -118.81972992751558, -117.72252026007466, -116.64176166217533, -115.57702441241109, -114.5279073847066, -113.49405515921414, -112.47513242063845, -111.47079681786008, -110.48069808766272, -109.50449481186293, -108.54186538640933, -107.5925039291336, -106.6561104795162, -105.73238741595756, -104.82104344375773, -103.92179818012585, -103.03438212568929, -102.15853341273805, -101.29399563670394, -100.44051848219927, -99.59785931641282, -98.7657834996207, -97.9440632819806, -97.13247672292131, -96.33080758072275, -95.53884576427511, -94.7563874620552, -93.98323470452308, -93.21919482170202, -92.46408023320092, -91.71770850786874, -90.9799023551989, -90.2504893969463, -89.52930186624769, -88.81617642388721, -88.11095409687283, -87.41348020943944, -86.72360422941229, -86.04117957791146, -85.36606348353361, -84.69811689213527, -84.03720438063979, -83.38319403830987], \"yaxis\": \"y4\"}, {\"line\": {\"color\": \"rgb(255, 102, 0)\", \"dash\": \"dash\", \"width\": 2}, \"mode\": \"lines\", \"name\": \"LR - Validate\", \"type\": \"scatter\", \"x\": [0.0, 0.1, 0.2, 0.3, 0.4, 0.5, 0.6, 0.7, 0.8, 0.9, 1.0, 1.1, 1.2, 1.3, 1.4, 1.5, 1.6, 1.7, 1.8, 1.9, 2.0, 2.1, 2.2, 2.3, 2.4, 2.5, 2.6, 2.7, 2.8, 2.9, 3.0, 3.1, 3.2, 3.3, 3.4, 3.5, 3.6, 3.7, 3.8, 3.9, 4.0, 4.1, 4.2, 4.3, 4.4, 4.5, 4.6, 4.7, 4.8, 4.9, 5.0, 5.1, 5.2, 5.3, 5.4, 5.5, 5.6, 5.7, 5.8, 5.9, 6.0, 6.1, 6.2, 6.3, 6.4, 6.5, 6.6, 6.7, 6.8, 6.9, 7.0, 7.1, 7.2, 7.3, 7.4, 7.5, 7.6, 7.7, 7.8, 7.9, 8.0, 8.1, 8.2, 8.3, 8.4, 8.5, 8.6, 8.7, 8.8, 8.9, 9.0, 9.1, 9.2, 9.3, 9.4, 9.5, 9.6, 9.7, 9.8, 9.9, 10.0, 10.1, 10.2, 10.3, 10.4, 10.5, 10.6, 10.7, 10.8, 10.9], \"xaxis\": \"x4\", \"y\": [0.0, 0.0, 0.0, 0.0, 0.0, 0.0, 0.0, 0.0, 0.0, 0.0, 0.0, 1.2730000000000001, -3.763, -50.338, -100.22300000000001, -155.095, -211.581, -268.129, -319.84299999999996, -363.83500000000004, -402.092, -439.50800000000004, -465.912, -473.837, -470.66400000000004, -461.106, -449.522, -437.739, -426.236, -415.071, -404.27200000000005, -393.906, -384.038, -374.709, -365.926, -357.65799999999996, -349.862, -342.49600000000004, -335.51300000000003, -328.878, -322.564, -316.542, -310.79200000000003, -305.29499999999996, -300.03400000000005, -294.99199999999996, -290.156, -285.511, -281.045, -276.75, -272.612, -268.62399999999997, -264.777, -261.063, -257.474, -254.00499999999997, -250.64799999999997, -247.399, -244.251, -241.19899999999998, -238.24, -235.368, -232.58, -229.87099999999998, -227.239, -224.679, -222.189, -219.765, -217.405, -215.107, -212.867, -210.68300000000002, -208.553, -206.476, -204.44799999999998, -202.46800000000002, -200.535, -198.646, -196.8, -194.996, -193.232, -191.506, -189.817, -188.165, -186.547, -184.963, -183.411, -181.891, -180.401, -178.941, -177.51, -176.10600000000002, -174.72899999999998, -173.37800000000001, -172.05200000000002, -170.75099999999998, -169.47400000000002, -168.22, -166.988, -165.779, -164.58999999999997, -163.42200000000003, -162.274, -161.14600000000002, -160.037, -158.946, -157.874, -156.818, -155.78, -154.75900000000001], \"yaxis\": \"y4\"}],\n",
       "                        {\"autosize\": false, \"font\": {\"color\": \"black\", \"family\": \"Arial\", \"size\": 14}, \"height\": 900, \"legend\": {\"orientation\": \"h\", \"x\": 0.01, \"xanchor\": \"left\", \"y\": 1.1, \"yanchor\": \"top\"}, \"template\": {\"data\": {\"bar\": [{\"error_x\": {\"color\": \"#2a3f5f\"}, \"error_y\": {\"color\": \"#2a3f5f\"}, \"marker\": {\"line\": {\"color\": \"white\", \"width\": 0.5}}, \"type\": \"bar\"}], \"barpolar\": [{\"marker\": {\"line\": {\"color\": \"white\", \"width\": 0.5}}, \"type\": \"barpolar\"}], \"carpet\": [{\"aaxis\": {\"endlinecolor\": \"#2a3f5f\", \"gridcolor\": \"#C8D4E3\", \"linecolor\": \"#C8D4E3\", \"minorgridcolor\": \"#C8D4E3\", \"startlinecolor\": \"#2a3f5f\"}, \"baxis\": {\"endlinecolor\": \"#2a3f5f\", \"gridcolor\": \"#C8D4E3\", \"linecolor\": \"#C8D4E3\", \"minorgridcolor\": \"#C8D4E3\", \"startlinecolor\": \"#2a3f5f\"}, \"type\": \"carpet\"}], \"choropleth\": [{\"colorbar\": {\"outlinewidth\": 0, \"ticks\": \"\"}, \"type\": \"choropleth\"}], \"contour\": [{\"colorbar\": {\"outlinewidth\": 0, \"ticks\": \"\"}, \"colorscale\": [[0.0, \"#0d0887\"], [0.1111111111111111, \"#46039f\"], [0.2222222222222222, \"#7201a8\"], [0.3333333333333333, \"#9c179e\"], [0.4444444444444444, \"#bd3786\"], [0.5555555555555556, \"#d8576b\"], [0.6666666666666666, \"#ed7953\"], [0.7777777777777778, \"#fb9f3a\"], [0.8888888888888888, \"#fdca26\"], [1.0, \"#f0f921\"]], \"type\": \"contour\"}], \"contourcarpet\": [{\"colorbar\": {\"outlinewidth\": 0, \"ticks\": \"\"}, \"type\": \"contourcarpet\"}], \"heatmap\": [{\"colorbar\": {\"outlinewidth\": 0, \"ticks\": \"\"}, \"colorscale\": [[0.0, \"#0d0887\"], [0.1111111111111111, \"#46039f\"], [0.2222222222222222, \"#7201a8\"], [0.3333333333333333, \"#9c179e\"], [0.4444444444444444, \"#bd3786\"], [0.5555555555555556, \"#d8576b\"], [0.6666666666666666, \"#ed7953\"], [0.7777777777777778, \"#fb9f3a\"], [0.8888888888888888, \"#fdca26\"], [1.0, \"#f0f921\"]], \"type\": \"heatmap\"}], \"heatmapgl\": [{\"colorbar\": {\"outlinewidth\": 0, \"ticks\": \"\"}, \"colorscale\": [[0.0, \"#0d0887\"], [0.1111111111111111, \"#46039f\"], [0.2222222222222222, \"#7201a8\"], [0.3333333333333333, \"#9c179e\"], [0.4444444444444444, \"#bd3786\"], [0.5555555555555556, \"#d8576b\"], [0.6666666666666666, \"#ed7953\"], [0.7777777777777778, \"#fb9f3a\"], [0.8888888888888888, \"#fdca26\"], [1.0, \"#f0f921\"]], \"type\": \"heatmapgl\"}], \"histogram\": [{\"marker\": {\"colorbar\": {\"outlinewidth\": 0, \"ticks\": \"\"}}, \"type\": \"histogram\"}], \"histogram2d\": [{\"colorbar\": {\"outlinewidth\": 0, \"ticks\": \"\"}, \"colorscale\": [[0.0, \"#0d0887\"], [0.1111111111111111, \"#46039f\"], [0.2222222222222222, \"#7201a8\"], [0.3333333333333333, \"#9c179e\"], [0.4444444444444444, \"#bd3786\"], [0.5555555555555556, \"#d8576b\"], [0.6666666666666666, \"#ed7953\"], [0.7777777777777778, \"#fb9f3a\"], [0.8888888888888888, \"#fdca26\"], [1.0, \"#f0f921\"]], \"type\": \"histogram2d\"}], \"histogram2dcontour\": [{\"colorbar\": {\"outlinewidth\": 0, \"ticks\": \"\"}, \"colorscale\": [[0.0, \"#0d0887\"], [0.1111111111111111, \"#46039f\"], [0.2222222222222222, \"#7201a8\"], [0.3333333333333333, \"#9c179e\"], [0.4444444444444444, \"#bd3786\"], [0.5555555555555556, \"#d8576b\"], [0.6666666666666666, \"#ed7953\"], [0.7777777777777778, \"#fb9f3a\"], [0.8888888888888888, \"#fdca26\"], [1.0, \"#f0f921\"]], \"type\": \"histogram2dcontour\"}], \"mesh3d\": [{\"colorbar\": {\"outlinewidth\": 0, \"ticks\": \"\"}, \"type\": \"mesh3d\"}], \"parcoords\": [{\"line\": {\"colorbar\": {\"outlinewidth\": 0, \"ticks\": \"\"}}, \"type\": \"parcoords\"}], \"pie\": [{\"automargin\": true, \"type\": \"pie\"}], \"scatter\": [{\"marker\": {\"colorbar\": {\"outlinewidth\": 0, \"ticks\": \"\"}}, \"type\": \"scatter\"}], \"scatter3d\": [{\"line\": {\"colorbar\": {\"outlinewidth\": 0, \"ticks\": \"\"}}, \"marker\": {\"colorbar\": {\"outlinewidth\": 0, \"ticks\": \"\"}}, \"type\": \"scatter3d\"}], \"scattercarpet\": [{\"marker\": {\"colorbar\": {\"outlinewidth\": 0, \"ticks\": \"\"}}, \"type\": \"scattercarpet\"}], \"scattergeo\": [{\"marker\": {\"colorbar\": {\"outlinewidth\": 0, \"ticks\": \"\"}}, \"type\": \"scattergeo\"}], \"scattergl\": [{\"marker\": {\"colorbar\": {\"outlinewidth\": 0, \"ticks\": \"\"}}, \"type\": \"scattergl\"}], \"scattermapbox\": [{\"marker\": {\"colorbar\": {\"outlinewidth\": 0, \"ticks\": \"\"}}, \"type\": \"scattermapbox\"}], \"scatterpolar\": [{\"marker\": {\"colorbar\": {\"outlinewidth\": 0, \"ticks\": \"\"}}, \"type\": \"scatterpolar\"}], \"scatterpolargl\": [{\"marker\": {\"colorbar\": {\"outlinewidth\": 0, \"ticks\": \"\"}}, \"type\": \"scatterpolargl\"}], \"scatterternary\": [{\"marker\": {\"colorbar\": {\"outlinewidth\": 0, \"ticks\": \"\"}}, \"type\": \"scatterternary\"}], \"surface\": [{\"colorbar\": {\"outlinewidth\": 0, \"ticks\": \"\"}, \"colorscale\": [[0.0, \"#0d0887\"], [0.1111111111111111, \"#46039f\"], [0.2222222222222222, \"#7201a8\"], [0.3333333333333333, \"#9c179e\"], [0.4444444444444444, \"#bd3786\"], [0.5555555555555556, \"#d8576b\"], [0.6666666666666666, \"#ed7953\"], [0.7777777777777778, \"#fb9f3a\"], [0.8888888888888888, \"#fdca26\"], [1.0, \"#f0f921\"]], \"type\": \"surface\"}], \"table\": [{\"cells\": {\"fill\": {\"color\": \"#EBF0F8\"}, \"line\": {\"color\": \"white\"}}, \"header\": {\"fill\": {\"color\": \"#C8D4E3\"}, \"line\": {\"color\": \"white\"}}, \"type\": \"table\"}]}, \"layout\": {\"annotationdefaults\": {\"arrowcolor\": \"#2a3f5f\", \"arrowhead\": 0, \"arrowwidth\": 1}, \"coloraxis\": {\"colorbar\": {\"outlinewidth\": 0, \"ticks\": \"\"}}, \"colorscale\": {\"diverging\": [[0, \"#8e0152\"], [0.1, \"#c51b7d\"], [0.2, \"#de77ae\"], [0.3, \"#f1b6da\"], [0.4, \"#fde0ef\"], [0.5, \"#f7f7f7\"], [0.6, \"#e6f5d0\"], [0.7, \"#b8e186\"], [0.8, \"#7fbc41\"], [0.9, \"#4d9221\"], [1, \"#276419\"]], \"sequential\": [[0.0, \"#0d0887\"], [0.1111111111111111, \"#46039f\"], [0.2222222222222222, \"#7201a8\"], [0.3333333333333333, \"#9c179e\"], [0.4444444444444444, \"#bd3786\"], [0.5555555555555556, \"#d8576b\"], [0.6666666666666666, \"#ed7953\"], [0.7777777777777778, \"#fb9f3a\"], [0.8888888888888888, \"#fdca26\"], [1.0, \"#f0f921\"]], \"sequentialminus\": [[0.0, \"#0d0887\"], [0.1111111111111111, \"#46039f\"], [0.2222222222222222, \"#7201a8\"], [0.3333333333333333, \"#9c179e\"], [0.4444444444444444, \"#bd3786\"], [0.5555555555555556, \"#d8576b\"], [0.6666666666666666, \"#ed7953\"], [0.7777777777777778, \"#fb9f3a\"], [0.8888888888888888, \"#fdca26\"], [1.0, \"#f0f921\"]]}, \"colorway\": [\"#636efa\", \"#EF553B\", \"#00cc96\", \"#ab63fa\", \"#FFA15A\", \"#19d3f3\", \"#FF6692\", \"#B6E880\", \"#FF97FF\", \"#FECB52\"], \"font\": {\"color\": \"#2a3f5f\"}, \"geo\": {\"bgcolor\": \"white\", \"lakecolor\": \"white\", \"landcolor\": \"white\", \"showlakes\": true, \"showland\": true, \"subunitcolor\": \"#C8D4E3\"}, \"hoverlabel\": {\"align\": \"left\"}, \"hovermode\": \"closest\", \"mapbox\": {\"style\": \"light\"}, \"paper_bgcolor\": \"white\", \"plot_bgcolor\": \"white\", \"polar\": {\"angularaxis\": {\"gridcolor\": \"#EBF0F8\", \"linecolor\": \"#EBF0F8\", \"ticks\": \"\"}, \"bgcolor\": \"white\", \"radialaxis\": {\"gridcolor\": \"#EBF0F8\", \"linecolor\": \"#EBF0F8\", \"ticks\": \"\"}}, \"scene\": {\"xaxis\": {\"backgroundcolor\": \"white\", \"gridcolor\": \"#DFE8F3\", \"gridwidth\": 2, \"linecolor\": \"#EBF0F8\", \"showbackground\": true, \"ticks\": \"\", \"zerolinecolor\": \"#EBF0F8\"}, \"yaxis\": {\"backgroundcolor\": \"white\", \"gridcolor\": \"#DFE8F3\", \"gridwidth\": 2, \"linecolor\": \"#EBF0F8\", \"showbackground\": true, \"ticks\": \"\", \"zerolinecolor\": \"#EBF0F8\"}, \"zaxis\": {\"backgroundcolor\": \"white\", \"gridcolor\": \"#DFE8F3\", \"gridwidth\": 2, \"linecolor\": \"#EBF0F8\", \"showbackground\": true, \"ticks\": \"\", \"zerolinecolor\": \"#EBF0F8\"}}, \"shapedefaults\": {\"line\": {\"color\": \"#2a3f5f\"}}, \"ternary\": {\"aaxis\": {\"gridcolor\": \"#DFE8F3\", \"linecolor\": \"#A2B1C6\", \"ticks\": \"\"}, \"baxis\": {\"gridcolor\": \"#DFE8F3\", \"linecolor\": \"#A2B1C6\", \"ticks\": \"\"}, \"bgcolor\": \"white\", \"caxis\": {\"gridcolor\": \"#DFE8F3\", \"linecolor\": \"#A2B1C6\", \"ticks\": \"\"}}, \"title\": {\"x\": 0.05}, \"xaxis\": {\"automargin\": true, \"gridcolor\": \"#EBF0F8\", \"linecolor\": \"#EBF0F8\", \"ticks\": \"\", \"title\": {\"standoff\": 15}, \"zerolinecolor\": \"#EBF0F8\", \"zerolinewidth\": 2}, \"yaxis\": {\"automargin\": true, \"gridcolor\": \"#EBF0F8\", \"linecolor\": \"#EBF0F8\", \"ticks\": \"\", \"title\": {\"standoff\": 15}, \"zerolinecolor\": \"#EBF0F8\", \"zerolinewidth\": 2}}}, \"title\": {\"text\": \"Tire Rightward Forces\"}, \"width\": 900, \"xaxis\": {\"anchor\": \"y\", \"domain\": [0.0, 1.0], \"linecolor\": \"black\", \"linewidth\": 1, \"matches\": \"x4\", \"showgrid\": false, \"showline\": true, \"showticklabels\": false, \"tickcolor\": \"black\", \"ticklen\": 10, \"ticks\": \"outside\", \"tickwidth\": 1, \"title\": {\"text\": \"\"}, \"zeroline\": false}, \"xaxis2\": {\"anchor\": \"y2\", \"domain\": [0.0, 1.0], \"linecolor\": \"black\", \"linewidth\": 1, \"matches\": \"x4\", \"showgrid\": false, \"showline\": true, \"showticklabels\": false, \"tickcolor\": \"black\", \"ticklen\": 10, \"ticks\": \"outside\", \"tickwidth\": 1, \"title\": {\"text\": \"\"}, \"zeroline\": false}, \"xaxis3\": {\"anchor\": \"y3\", \"domain\": [0.0, 1.0], \"linecolor\": \"black\", \"linewidth\": 1, \"matches\": \"x4\", \"showgrid\": false, \"showline\": true, \"showticklabels\": false, \"tickcolor\": \"black\", \"ticklen\": 10, \"ticks\": \"outside\", \"tickwidth\": 1, \"title\": {\"text\": \"\"}, \"zeroline\": false}, \"xaxis4\": {\"anchor\": \"y4\", \"domain\": [0.0, 1.0], \"linecolor\": \"black\", \"linewidth\": 1, \"showgrid\": false, \"showline\": true, \"tickcolor\": \"black\", \"ticklen\": 10, \"ticks\": \"outside\", \"tickwidth\": 1, \"title\": {\"text\": \"Time (s)\"}, \"zeroline\": false}, \"yaxis\": {\"anchor\": \"x\", \"domain\": [0.7875, 1.0], \"linecolor\": \"black\", \"linewidth\": 1, \"showgrid\": false, \"showline\": true, \"tickcolor\": \"black\", \"ticklen\": 10, \"ticks\": \"outside\", \"tickwidth\": 1, \"title\": {\"text\": \"LF - Rightward Force (lb)\"}, \"zeroline\": false}, \"yaxis2\": {\"anchor\": \"x2\", \"domain\": [0.525, 0.7375], \"linecolor\": \"black\", \"linewidth\": 1, \"showgrid\": false, \"showline\": true, \"tickcolor\": \"black\", \"ticklen\": 10, \"ticks\": \"outside\", \"tickwidth\": 1, \"title\": {\"text\": \"RF - Rightward Force (lb)\"}, \"zeroline\": false}, \"yaxis3\": {\"anchor\": \"x3\", \"domain\": [0.2625, 0.475], \"linecolor\": \"black\", \"linewidth\": 1, \"showgrid\": false, \"showline\": true, \"tickcolor\": \"black\", \"ticklen\": 10, \"ticks\": \"outside\", \"tickwidth\": 1, \"title\": {\"text\": \"RR - Rightward Force (lb)\"}, \"zeroline\": false}, \"yaxis4\": {\"anchor\": \"x4\", \"domain\": [0.0, 0.2125], \"linecolor\": \"black\", \"linewidth\": 1, \"showgrid\": false, \"showline\": true, \"tickcolor\": \"black\", \"ticklen\": 10, \"ticks\": \"outside\", \"tickwidth\": 1, \"title\": {\"text\": \"LR - Rightward Force (lb)\"}, \"zeroline\": false}},\n",
       "                        {\"responsive\": true}\n",
       "                    ).then(function(){\n",
       "                            \n",
       "var gd = document.getElementById('1a454ce9-c5a8-475a-8cd3-e9c76f8de7c6');\n",
       "var x = new MutationObserver(function (mutations, observer) {{\n",
       "        var display = window.getComputedStyle(gd).display;\n",
       "        if (!display || display === 'none') {{\n",
       "            console.log([gd, 'removed!']);\n",
       "            Plotly.purge(gd);\n",
       "            observer.disconnect();\n",
       "        }}\n",
       "}});\n",
       "\n",
       "// Listen for the removal of the full notebook cells\n",
       "var notebookContainer = gd.closest('#notebook-container');\n",
       "if (notebookContainer) {{\n",
       "    x.observe(notebookContainer, {childList: true});\n",
       "}}\n",
       "\n",
       "// Listen for the clearing of the current output cell\n",
       "var outputEl = gd.closest('.output');\n",
       "if (outputEl) {{\n",
       "    x.observe(outputEl, {childList: true});\n",
       "}}\n",
       "\n",
       "                        })\n",
       "                };\n",
       "                });\n",
       "            </script>\n",
       "        </div>"
      ]
     },
     "metadata": {},
     "output_type": "display_data"
    },
    {
     "data": {
      "application/vnd.plotly.v1+json": {
       "config": {
        "plotlyServerURL": "https://plot.ly"
       },
       "data": [
        {
         "line": {
          "color": "rgb(0, 255, 0)",
          "width": 2
         },
         "mode": "lines",
         "name": "pycrash - ax",
         "type": "scatter",
         "x": [
          0,
          0.1,
          0.2,
          0.3,
          0.4,
          0.5,
          0.6,
          0.7,
          0.8,
          0.9,
          1,
          1.1,
          1.2,
          1.3,
          1.4,
          1.5,
          1.6,
          1.7,
          1.8,
          1.9,
          2,
          2.1,
          2.2,
          2.3,
          2.4,
          2.5,
          2.6,
          2.7,
          2.8,
          2.9,
          3,
          3.1,
          3.2,
          3.3,
          3.4,
          3.5,
          3.6,
          3.7,
          3.8,
          3.9,
          4,
          4.1,
          4.2,
          4.3,
          4.4,
          4.5,
          4.6,
          4.7,
          4.8,
          4.9,
          5,
          5.1,
          5.2,
          5.3,
          5.4,
          5.5,
          5.6,
          5.7,
          5.8,
          5.9,
          6,
          6.1,
          6.2,
          6.3,
          6.4,
          6.5,
          6.6,
          6.7,
          6.8,
          6.9,
          7,
          7.1,
          7.2,
          7.3,
          7.4,
          7.5,
          7.6,
          7.7,
          7.8,
          7.9,
          8,
          8.1,
          8.2,
          8.3,
          8.4,
          8.5,
          8.6,
          8.7,
          8.8,
          8.9,
          9,
          9.1,
          9.2,
          9.3,
          9.4,
          9.5,
          9.6,
          9.7,
          9.8,
          9.9,
          10,
          10.1,
          10.2,
          10.3,
          10.4,
          10.5,
          10.6,
          10.7,
          10.8,
          10.9
         ],
         "xaxis": "x",
         "y": [
          0,
          0,
          0,
          0,
          0,
          0,
          0,
          0,
          0,
          0,
          0,
          -0.003527445092095549,
          -0.01344000620508177,
          -0.023837379336498137,
          -0.033554426823988334,
          -0.04645155416121745,
          -0.06566675157843806,
          -0.09111416498389943,
          -0.12092963967082537,
          -0.15354266507277764,
          -0.18384732612787108,
          -0.16806178215010092,
          -0.14698675927240443,
          -0.14332654309716303,
          -0.1516082759472781,
          -0.15868482992747687,
          -0.1576953107535791,
          -0.15041497966295678,
          -0.14210896247535743,
          -0.13623512527054982,
          -0.13290894322097913,
          -0.13048705289466553,
          -0.1276631618349414,
          -0.12429345990063548,
          -0.12093144013446488,
          -0.11803758811136095,
          -0.11563334711258527,
          -0.11346787942155329,
          -0.11133019717040588,
          -0.10918953332737001,
          -0.10712724328241977,
          -0.10520902802035335,
          -0.1034290100759345,
          -0.10173983467929616,
          -0.10010530500162378,
          -0.09852103423689033,
          -0.09699939738265294,
          -0.0955471109758461,
          -0.09415792311486347,
          -0.09282022145059879,
          -0.09152646366433546,
          -0.09027528295017014,
          -0.08906744697562244,
          -0.08790183178910758,
          -0.08677500443072947,
          -0.08568327406617524,
          -0.08462430232697966,
          -0.08359695589827836,
          -0.08260023650694254,
          -0.08163264216113601,
          -0.08069237160186808,
          -0.07977783213730823,
          -0.07888784034215243,
          -0.07802143722227602,
          -0.07717763821999085,
          -0.0763553771745049,
          -0.07555361723248159,
          -0.0747714510716063,
          -0.07400809154723617,
          -0.07326279910483295,
          -0.07253483748446922,
          -0.0718234873804493,
          -0.0711280794286619,
          -0.07044800319212587,
          -0.0697826891210365,
          -0.0691315890835848,
          -0.06849417344426478,
          -0.06786993952749741,
          -0.06725841668685369,
          -0.06665916212371246,
          -0.06607175338025688,
          -0.06549578493493172,
          -0.06493086957791092,
          -0.06437664011551342,
          -0.063832748246389,
          -0.06329886161824502,
          -0.06277466174727325,
          -0.06225984373330085,
          -0.06175411653963845,
          -0.06125720247758575,
          -0.06076883590732181,
          -0.060288762069046764,
          -0.05981673656872479,
          -0.05935252520423527,
          -0.05889590359004563,
          -0.05844665647583755,
          -0.05800457706461953,
          -0.05756946657471978,
          -0.057141133973646854,
          -0.05671939567222212,
          -0.05630407510610042,
          -0.05589500230770762,
          -0.05549201357537734,
          -0.055094951226205245,
          -0.05470366334894335,
          -0.05431800351826591,
          -0.053937830506337936,
          -0.05356300803749906,
          -0.05319340458472411,
          -0.052828893173590075
         ],
         "yaxis": "y"
        },
        {
         "line": {
          "color": "rgb(0, 255, 0)",
          "dash": "dash",
          "width": 2
         },
         "mode": "lines",
         "name": "validate - ax",
         "type": "scatter",
         "x": [
          0,
          0.1,
          0.2,
          0.3,
          0.4,
          0.5,
          0.6,
          0.7,
          0.8,
          0.9,
          1,
          1.1,
          1.2,
          1.3,
          1.4,
          1.5,
          1.6,
          1.7,
          1.8,
          1.9,
          2,
          2.1,
          2.2,
          2.3,
          2.4,
          2.5,
          2.6,
          2.7,
          2.8,
          2.9,
          3,
          3.1,
          3.2,
          3.3,
          3.4,
          3.5,
          3.6,
          3.7,
          3.8,
          3.9,
          4,
          4.1,
          4.2,
          4.3,
          4.4,
          4.5,
          4.6,
          4.7,
          4.8,
          4.9,
          5,
          5.1,
          5.2,
          5.3,
          5.4,
          5.5,
          5.6,
          5.7,
          5.8,
          5.9,
          6,
          6.1,
          6.2,
          6.3,
          6.4,
          6.5,
          6.6,
          6.7,
          6.8,
          6.9,
          7,
          7.1,
          7.2,
          7.3,
          7.4,
          7.5,
          7.6,
          7.7,
          7.8,
          7.9,
          8,
          8.1,
          8.2,
          8.3,
          8.4,
          8.5,
          8.6,
          8.7,
          8.8,
          8.9,
          9,
          9.1,
          9.2,
          9.3,
          9.4,
          9.5,
          9.6,
          9.7,
          9.8,
          9.9,
          10,
          10.1,
          10.2,
          10.3,
          10.4,
          10.5,
          10.6,
          10.7,
          10.8,
          10.9
         ],
         "xaxis": "x",
         "y": [
          0,
          0,
          0,
          0,
          0,
          0,
          0,
          0,
          0,
          0,
          0,
          -0.004057,
          -0.013866,
          -0.027818,
          -0.045629,
          -0.067071,
          -0.091975,
          -0.118056,
          -0.146114,
          -0.178055,
          -0.207538,
          -0.200021,
          -0.188624,
          -0.180731,
          -0.172537,
          -0.167271,
          -0.1633,
          -0.159929,
          -0.156809,
          -0.153799,
          -0.15087,
          -0.148039,
          -0.145328,
          -0.142744,
          -0.140289,
          -0.137953,
          -0.135727,
          -0.133601,
          -0.131567,
          -0.129615,
          -0.127742,
          -0.125941,
          -0.124207,
          -0.122537,
          -0.120926,
          -0.119372,
          -0.11787,
          -0.116419,
          -0.115014,
          -0.113654,
          -0.112337,
          -0.111059,
          -0.10982,
          -0.108616,
          -0.107447,
          -0.106312,
          -0.105207,
          -0.104132,
          -0.103086,
          -0.102068,
          -0.101075,
          -0.100107,
          -0.099164,
          -0.098244,
          -0.097345,
          -0.096468,
          -0.095612,
          -0.094775,
          -0.093957,
          -0.093157,
          -0.092375,
          -0.09161,
          -0.090861,
          -0.090128,
          -0.08941,
          -0.088707,
          -0.088018,
          -0.087343,
          -0.086681,
          -0.086033,
          -0.085396,
          -0.084772,
          -0.084159,
          -0.083558,
          -0.082968,
          -0.082388,
          -0.081819,
          -0.08126,
          -0.080711,
          -0.080171,
          -0.079641,
          -0.079119,
          -0.078607,
          -0.078102,
          -0.077606,
          -0.077119,
          -0.076638,
          -0.076166,
          -0.075701,
          -0.075243,
          -0.074793,
          -0.074349,
          -0.073912,
          -0.073482,
          -0.073058,
          -0.07264,
          -0.072228,
          -0.071822,
          -0.071423,
          -0.071028
         ],
         "yaxis": "y"
        },
        {
         "line": {
          "color": "rgb(0, 0, 255)",
          "width": 2
         },
         "mode": "lines",
         "name": "pycrash - ay",
         "type": "scatter",
         "x": [
          0,
          0.1,
          0.2,
          0.3,
          0.4,
          0.5,
          0.6,
          0.7,
          0.8,
          0.9,
          1,
          1.1,
          1.2,
          1.3,
          1.4,
          1.5,
          1.6,
          1.7,
          1.8,
          1.9,
          2,
          2.1,
          2.2,
          2.3,
          2.4,
          2.5,
          2.6,
          2.7,
          2.8,
          2.9,
          3,
          3.1,
          3.2,
          3.3,
          3.4,
          3.5,
          3.6,
          3.7,
          3.8,
          3.9,
          4,
          4.1,
          4.2,
          4.3,
          4.4,
          4.5,
          4.6,
          4.7,
          4.8,
          4.9,
          5,
          5.1,
          5.2,
          5.3,
          5.4,
          5.5,
          5.6,
          5.7,
          5.8,
          5.9,
          6,
          6.1,
          6.2,
          6.3,
          6.4,
          6.5,
          6.6,
          6.7,
          6.8,
          6.9,
          7,
          7.1,
          7.2,
          7.3,
          7.4,
          7.5,
          7.6,
          7.7,
          7.8,
          7.9,
          8,
          8.1,
          8.2,
          8.3,
          8.4,
          8.5,
          8.6,
          8.7,
          8.8,
          8.9,
          9,
          9.1,
          9.2,
          9.3,
          9.4,
          9.5,
          9.6,
          9.7,
          9.8,
          9.9,
          10,
          10.1,
          10.2,
          10.3,
          10.4,
          10.5,
          10.6,
          10.7,
          10.8,
          10.9
         ],
         "xaxis": "x2",
         "y": [
          0,
          0,
          0,
          0,
          0,
          0,
          0,
          0,
          0,
          0,
          0,
          -0.0991405125681338,
          -0.17755686839216517,
          -0.2051153834645229,
          -0.2197371130396328,
          -0.25713622995293733,
          -0.32122872292702725,
          -0.3963769763677712,
          -0.46764755908115646,
          -0.5291843973865177,
          -0.5706418663800787,
          -0.540422416742646,
          -0.5090596369056688,
          -0.5205893498155334,
          -0.5520476973914157,
          -0.5690141988684191,
          -0.5596164098115275,
          -0.5338162789298134,
          -0.5072157118785172,
          -0.4882541006766517,
          -0.47606627971729154,
          -0.46583627303338976,
          -0.4544047405112169,
          -0.44187666319445357,
          -0.429919945585622,
          -0.4196268686787158,
          -0.4108196299927653,
          -0.40269872281650115,
          -0.39471129385838155,
          -0.38683890992705233,
          -0.379328548775862,
          -0.3723328108303526,
          -0.3657945184308712,
          -0.35956257576841094,
          -0.35353948607788827,
          -0.3477213037024434,
          -0.34214223440818525,
          -0.3368122967742987,
          -0.33170467108224827,
          -0.32678229581769747,
          -0.3220234836327006,
          -0.31742414294298404,
          -0.3129842985575893,
          -0.3086974216310477,
          -0.30455092736089795,
          -0.3005326945719411,
          -0.2966351025708876,
          -0.29285381626728135,
          -0.28918451163526365,
          -0.2856213676814059,
          -0.2821579851902852,
          -0.2787888616454131,
          -0.27550976962026247,
          -0.272317077494958,
          -0.269207048405115,
          -0.26617577620228033,
          -0.26321955213879156,
          -0.2603351197128269,
          -0.25751959253543255,
          -0.2547702272175841,
          -0.2520843155864022,
          -0.24945924515696746,
          -0.24689259248705447,
          -0.24438213224091515,
          -0.24192577349683755,
          -0.23952150504250602,
          -0.23716739350959692,
          -0.23486160927687946,
          -0.23260243625716834,
          -0.23038825448290717,
          -0.2282175170075176,
          -0.2260887414935076,
          -0.22400051487646427,
          -0.22195149675557682,
          -0.21994041382283921,
          -0.2179660500995653,
          -0.21602724089714517,
          -0.21412287205752842,
          -0.21225188011251878,
          -0.2104132497101749,
          -0.20860600904493526,
          -0.2068292261582551,
          -0.20508200727930526,
          -0.20336349593730524,
          -0.20167287130063283,
          -0.20000934569659048,
          -0.1983721623268795,
          -0.1967605937832438,
          -0.19517394100327295,
          -0.19361153203619383,
          -0.19207272050105317,
          -0.19055688409947216,
          -0.1890634234617056,
          -0.18759176122374158,
          -0.18614134107776217,
          -0.18471162671880592,
          -0.1833021008209175,
          -0.18191226416606873,
          -0.1805416348951283,
          -0.17918974777272983
         ],
         "yaxis": "y2"
        },
        {
         "line": {
          "color": "rgb(0, 0, 255)",
          "dash": "dash",
          "width": 2
         },
         "mode": "lines",
         "name": "validate - ay",
         "type": "scatter",
         "x": [
          0,
          0.1,
          0.2,
          0.3,
          0.4,
          0.5,
          0.6,
          0.7,
          0.8,
          0.9,
          1,
          1.1,
          1.2,
          1.3,
          1.4,
          1.5,
          1.6,
          1.7,
          1.8,
          1.9,
          2,
          2.1,
          2.2,
          2.3,
          2.4,
          2.5,
          2.6,
          2.7,
          2.8,
          2.9,
          3,
          3.1,
          3.2,
          3.3,
          3.4,
          3.5,
          3.6,
          3.7,
          3.8,
          3.9,
          4,
          4.1,
          4.2,
          4.3,
          4.4,
          4.5,
          4.6,
          4.7,
          4.8,
          4.9,
          5,
          5.1,
          5.2,
          5.3,
          5.4,
          5.5,
          5.6,
          5.7,
          5.8,
          5.9,
          6,
          6.1,
          6.2,
          6.3,
          6.4,
          6.5,
          6.6,
          6.7,
          6.8,
          6.9,
          7,
          7.1,
          7.2,
          7.3,
          7.4,
          7.5,
          7.6,
          7.7,
          7.8,
          7.9,
          8,
          8.1,
          8.2,
          8.3,
          8.4,
          8.5,
          8.6,
          8.7,
          8.8,
          8.9,
          9,
          9.1,
          9.2,
          9.3,
          9.4,
          9.5,
          9.6,
          9.7,
          9.8,
          9.9,
          10,
          10.1,
          10.2,
          10.3,
          10.4,
          10.5,
          10.6,
          10.7,
          10.8,
          10.9
         ],
         "xaxis": "x2",
         "y": [
          0,
          0,
          0,
          0,
          0,
          0,
          0,
          0,
          0,
          0,
          0,
          -0.098352,
          -0.163871,
          -0.240041,
          -0.311896,
          -0.381689,
          -0.44814,
          -0.505176,
          -0.556628,
          -0.605131,
          -0.635441,
          -0.626268,
          -0.612977,
          -0.601103,
          -0.584816,
          -0.57125,
          -0.558899,
          -0.54743,
          -0.536521,
          -0.525966,
          -0.515717,
          -0.50582,
          -0.496328,
          -0.487276,
          -0.47867,
          -0.470485,
          -0.462691,
          -0.455257,
          -0.448147,
          -0.441336,
          -0.434803,
          -0.428526,
          -0.422488,
          -0.416675,
          -0.411074,
          -0.40567,
          -0.400454,
          -0.395414,
          -0.39054,
          -0.385824,
          -0.381257,
          -0.37683,
          -0.372538,
          -0.368373,
          -0.364329,
          -0.360401,
          -0.356582,
          -0.352868,
          -0.349254,
          -0.345736,
          -0.34231,
          -0.338972,
          -0.335717,
          -0.332543,
          -0.329447,
          -0.326424,
          -0.323473,
          -0.320591,
          -0.317775,
          -0.315022,
          -0.312331,
          -0.309699,
          -0.307123,
          -0.304603,
          -0.302135,
          -0.299719,
          -0.297353,
          -0.295034,
          -0.292761,
          -0.290533,
          -0.288349,
          -0.286206,
          -0.284105,
          -0.282042,
          -0.280018,
          -0.278031,
          -0.27608,
          -0.274164,
          -0.272282,
          -0.270433,
          -0.268616,
          -0.26683,
          -0.265074,
          -0.263348,
          -0.26165,
          -0.259981,
          -0.258338,
          -0.256722,
          -0.255131,
          -0.253566,
          -0.252025,
          -0.250508,
          -0.24901399999999999,
          -0.247543,
          -0.246094,
          -0.244666,
          -0.24326,
          -0.241874,
          -0.240508,
          -0.239162
         ],
         "yaxis": "y2"
        }
       ],
       "layout": {
        "autosize": false,
        "font": {
         "color": "black",
         "family": "Arial",
         "size": 14
        },
        "height": 900,
        "legend": {
         "orientation": "h",
         "x": 0.01,
         "xanchor": "left",
         "y": 1.1,
         "yanchor": "top"
        },
        "template": {
         "data": {
          "bar": [
           {
            "error_x": {
             "color": "#2a3f5f"
            },
            "error_y": {
             "color": "#2a3f5f"
            },
            "marker": {
             "line": {
              "color": "white",
              "width": 0.5
             }
            },
            "type": "bar"
           }
          ],
          "barpolar": [
           {
            "marker": {
             "line": {
              "color": "white",
              "width": 0.5
             }
            },
            "type": "barpolar"
           }
          ],
          "carpet": [
           {
            "aaxis": {
             "endlinecolor": "#2a3f5f",
             "gridcolor": "#C8D4E3",
             "linecolor": "#C8D4E3",
             "minorgridcolor": "#C8D4E3",
             "startlinecolor": "#2a3f5f"
            },
            "baxis": {
             "endlinecolor": "#2a3f5f",
             "gridcolor": "#C8D4E3",
             "linecolor": "#C8D4E3",
             "minorgridcolor": "#C8D4E3",
             "startlinecolor": "#2a3f5f"
            },
            "type": "carpet"
           }
          ],
          "choropleth": [
           {
            "colorbar": {
             "outlinewidth": 0,
             "ticks": ""
            },
            "type": "choropleth"
           }
          ],
          "contour": [
           {
            "colorbar": {
             "outlinewidth": 0,
             "ticks": ""
            },
            "colorscale": [
             [
              0,
              "#0d0887"
             ],
             [
              0.1111111111111111,
              "#46039f"
             ],
             [
              0.2222222222222222,
              "#7201a8"
             ],
             [
              0.3333333333333333,
              "#9c179e"
             ],
             [
              0.4444444444444444,
              "#bd3786"
             ],
             [
              0.5555555555555556,
              "#d8576b"
             ],
             [
              0.6666666666666666,
              "#ed7953"
             ],
             [
              0.7777777777777778,
              "#fb9f3a"
             ],
             [
              0.8888888888888888,
              "#fdca26"
             ],
             [
              1,
              "#f0f921"
             ]
            ],
            "type": "contour"
           }
          ],
          "contourcarpet": [
           {
            "colorbar": {
             "outlinewidth": 0,
             "ticks": ""
            },
            "type": "contourcarpet"
           }
          ],
          "heatmap": [
           {
            "colorbar": {
             "outlinewidth": 0,
             "ticks": ""
            },
            "colorscale": [
             [
              0,
              "#0d0887"
             ],
             [
              0.1111111111111111,
              "#46039f"
             ],
             [
              0.2222222222222222,
              "#7201a8"
             ],
             [
              0.3333333333333333,
              "#9c179e"
             ],
             [
              0.4444444444444444,
              "#bd3786"
             ],
             [
              0.5555555555555556,
              "#d8576b"
             ],
             [
              0.6666666666666666,
              "#ed7953"
             ],
             [
              0.7777777777777778,
              "#fb9f3a"
             ],
             [
              0.8888888888888888,
              "#fdca26"
             ],
             [
              1,
              "#f0f921"
             ]
            ],
            "type": "heatmap"
           }
          ],
          "heatmapgl": [
           {
            "colorbar": {
             "outlinewidth": 0,
             "ticks": ""
            },
            "colorscale": [
             [
              0,
              "#0d0887"
             ],
             [
              0.1111111111111111,
              "#46039f"
             ],
             [
              0.2222222222222222,
              "#7201a8"
             ],
             [
              0.3333333333333333,
              "#9c179e"
             ],
             [
              0.4444444444444444,
              "#bd3786"
             ],
             [
              0.5555555555555556,
              "#d8576b"
             ],
             [
              0.6666666666666666,
              "#ed7953"
             ],
             [
              0.7777777777777778,
              "#fb9f3a"
             ],
             [
              0.8888888888888888,
              "#fdca26"
             ],
             [
              1,
              "#f0f921"
             ]
            ],
            "type": "heatmapgl"
           }
          ],
          "histogram": [
           {
            "marker": {
             "colorbar": {
              "outlinewidth": 0,
              "ticks": ""
             }
            },
            "type": "histogram"
           }
          ],
          "histogram2d": [
           {
            "colorbar": {
             "outlinewidth": 0,
             "ticks": ""
            },
            "colorscale": [
             [
              0,
              "#0d0887"
             ],
             [
              0.1111111111111111,
              "#46039f"
             ],
             [
              0.2222222222222222,
              "#7201a8"
             ],
             [
              0.3333333333333333,
              "#9c179e"
             ],
             [
              0.4444444444444444,
              "#bd3786"
             ],
             [
              0.5555555555555556,
              "#d8576b"
             ],
             [
              0.6666666666666666,
              "#ed7953"
             ],
             [
              0.7777777777777778,
              "#fb9f3a"
             ],
             [
              0.8888888888888888,
              "#fdca26"
             ],
             [
              1,
              "#f0f921"
             ]
            ],
            "type": "histogram2d"
           }
          ],
          "histogram2dcontour": [
           {
            "colorbar": {
             "outlinewidth": 0,
             "ticks": ""
            },
            "colorscale": [
             [
              0,
              "#0d0887"
             ],
             [
              0.1111111111111111,
              "#46039f"
             ],
             [
              0.2222222222222222,
              "#7201a8"
             ],
             [
              0.3333333333333333,
              "#9c179e"
             ],
             [
              0.4444444444444444,
              "#bd3786"
             ],
             [
              0.5555555555555556,
              "#d8576b"
             ],
             [
              0.6666666666666666,
              "#ed7953"
             ],
             [
              0.7777777777777778,
              "#fb9f3a"
             ],
             [
              0.8888888888888888,
              "#fdca26"
             ],
             [
              1,
              "#f0f921"
             ]
            ],
            "type": "histogram2dcontour"
           }
          ],
          "mesh3d": [
           {
            "colorbar": {
             "outlinewidth": 0,
             "ticks": ""
            },
            "type": "mesh3d"
           }
          ],
          "parcoords": [
           {
            "line": {
             "colorbar": {
              "outlinewidth": 0,
              "ticks": ""
             }
            },
            "type": "parcoords"
           }
          ],
          "pie": [
           {
            "automargin": true,
            "type": "pie"
           }
          ],
          "scatter": [
           {
            "marker": {
             "colorbar": {
              "outlinewidth": 0,
              "ticks": ""
             }
            },
            "type": "scatter"
           }
          ],
          "scatter3d": [
           {
            "line": {
             "colorbar": {
              "outlinewidth": 0,
              "ticks": ""
             }
            },
            "marker": {
             "colorbar": {
              "outlinewidth": 0,
              "ticks": ""
             }
            },
            "type": "scatter3d"
           }
          ],
          "scattercarpet": [
           {
            "marker": {
             "colorbar": {
              "outlinewidth": 0,
              "ticks": ""
             }
            },
            "type": "scattercarpet"
           }
          ],
          "scattergeo": [
           {
            "marker": {
             "colorbar": {
              "outlinewidth": 0,
              "ticks": ""
             }
            },
            "type": "scattergeo"
           }
          ],
          "scattergl": [
           {
            "marker": {
             "colorbar": {
              "outlinewidth": 0,
              "ticks": ""
             }
            },
            "type": "scattergl"
           }
          ],
          "scattermapbox": [
           {
            "marker": {
             "colorbar": {
              "outlinewidth": 0,
              "ticks": ""
             }
            },
            "type": "scattermapbox"
           }
          ],
          "scatterpolar": [
           {
            "marker": {
             "colorbar": {
              "outlinewidth": 0,
              "ticks": ""
             }
            },
            "type": "scatterpolar"
           }
          ],
          "scatterpolargl": [
           {
            "marker": {
             "colorbar": {
              "outlinewidth": 0,
              "ticks": ""
             }
            },
            "type": "scatterpolargl"
           }
          ],
          "scatterternary": [
           {
            "marker": {
             "colorbar": {
              "outlinewidth": 0,
              "ticks": ""
             }
            },
            "type": "scatterternary"
           }
          ],
          "surface": [
           {
            "colorbar": {
             "outlinewidth": 0,
             "ticks": ""
            },
            "colorscale": [
             [
              0,
              "#0d0887"
             ],
             [
              0.1111111111111111,
              "#46039f"
             ],
             [
              0.2222222222222222,
              "#7201a8"
             ],
             [
              0.3333333333333333,
              "#9c179e"
             ],
             [
              0.4444444444444444,
              "#bd3786"
             ],
             [
              0.5555555555555556,
              "#d8576b"
             ],
             [
              0.6666666666666666,
              "#ed7953"
             ],
             [
              0.7777777777777778,
              "#fb9f3a"
             ],
             [
              0.8888888888888888,
              "#fdca26"
             ],
             [
              1,
              "#f0f921"
             ]
            ],
            "type": "surface"
           }
          ],
          "table": [
           {
            "cells": {
             "fill": {
              "color": "#EBF0F8"
             },
             "line": {
              "color": "white"
             }
            },
            "header": {
             "fill": {
              "color": "#C8D4E3"
             },
             "line": {
              "color": "white"
             }
            },
            "type": "table"
           }
          ]
         },
         "layout": {
          "annotationdefaults": {
           "arrowcolor": "#2a3f5f",
           "arrowhead": 0,
           "arrowwidth": 1
          },
          "coloraxis": {
           "colorbar": {
            "outlinewidth": 0,
            "ticks": ""
           }
          },
          "colorscale": {
           "diverging": [
            [
             0,
             "#8e0152"
            ],
            [
             0.1,
             "#c51b7d"
            ],
            [
             0.2,
             "#de77ae"
            ],
            [
             0.3,
             "#f1b6da"
            ],
            [
             0.4,
             "#fde0ef"
            ],
            [
             0.5,
             "#f7f7f7"
            ],
            [
             0.6,
             "#e6f5d0"
            ],
            [
             0.7,
             "#b8e186"
            ],
            [
             0.8,
             "#7fbc41"
            ],
            [
             0.9,
             "#4d9221"
            ],
            [
             1,
             "#276419"
            ]
           ],
           "sequential": [
            [
             0,
             "#0d0887"
            ],
            [
             0.1111111111111111,
             "#46039f"
            ],
            [
             0.2222222222222222,
             "#7201a8"
            ],
            [
             0.3333333333333333,
             "#9c179e"
            ],
            [
             0.4444444444444444,
             "#bd3786"
            ],
            [
             0.5555555555555556,
             "#d8576b"
            ],
            [
             0.6666666666666666,
             "#ed7953"
            ],
            [
             0.7777777777777778,
             "#fb9f3a"
            ],
            [
             0.8888888888888888,
             "#fdca26"
            ],
            [
             1,
             "#f0f921"
            ]
           ],
           "sequentialminus": [
            [
             0,
             "#0d0887"
            ],
            [
             0.1111111111111111,
             "#46039f"
            ],
            [
             0.2222222222222222,
             "#7201a8"
            ],
            [
             0.3333333333333333,
             "#9c179e"
            ],
            [
             0.4444444444444444,
             "#bd3786"
            ],
            [
             0.5555555555555556,
             "#d8576b"
            ],
            [
             0.6666666666666666,
             "#ed7953"
            ],
            [
             0.7777777777777778,
             "#fb9f3a"
            ],
            [
             0.8888888888888888,
             "#fdca26"
            ],
            [
             1,
             "#f0f921"
            ]
           ]
          },
          "colorway": [
           "#636efa",
           "#EF553B",
           "#00cc96",
           "#ab63fa",
           "#FFA15A",
           "#19d3f3",
           "#FF6692",
           "#B6E880",
           "#FF97FF",
           "#FECB52"
          ],
          "font": {
           "color": "#2a3f5f"
          },
          "geo": {
           "bgcolor": "white",
           "lakecolor": "white",
           "landcolor": "white",
           "showlakes": true,
           "showland": true,
           "subunitcolor": "#C8D4E3"
          },
          "hoverlabel": {
           "align": "left"
          },
          "hovermode": "closest",
          "mapbox": {
           "style": "light"
          },
          "paper_bgcolor": "white",
          "plot_bgcolor": "white",
          "polar": {
           "angularaxis": {
            "gridcolor": "#EBF0F8",
            "linecolor": "#EBF0F8",
            "ticks": ""
           },
           "bgcolor": "white",
           "radialaxis": {
            "gridcolor": "#EBF0F8",
            "linecolor": "#EBF0F8",
            "ticks": ""
           }
          },
          "scene": {
           "xaxis": {
            "backgroundcolor": "white",
            "gridcolor": "#DFE8F3",
            "gridwidth": 2,
            "linecolor": "#EBF0F8",
            "showbackground": true,
            "ticks": "",
            "zerolinecolor": "#EBF0F8"
           },
           "yaxis": {
            "backgroundcolor": "white",
            "gridcolor": "#DFE8F3",
            "gridwidth": 2,
            "linecolor": "#EBF0F8",
            "showbackground": true,
            "ticks": "",
            "zerolinecolor": "#EBF0F8"
           },
           "zaxis": {
            "backgroundcolor": "white",
            "gridcolor": "#DFE8F3",
            "gridwidth": 2,
            "linecolor": "#EBF0F8",
            "showbackground": true,
            "ticks": "",
            "zerolinecolor": "#EBF0F8"
           }
          },
          "shapedefaults": {
           "line": {
            "color": "#2a3f5f"
           }
          },
          "ternary": {
           "aaxis": {
            "gridcolor": "#DFE8F3",
            "linecolor": "#A2B1C6",
            "ticks": ""
           },
           "baxis": {
            "gridcolor": "#DFE8F3",
            "linecolor": "#A2B1C6",
            "ticks": ""
           },
           "bgcolor": "white",
           "caxis": {
            "gridcolor": "#DFE8F3",
            "linecolor": "#A2B1C6",
            "ticks": ""
           }
          },
          "title": {
           "x": 0.05
          },
          "xaxis": {
           "automargin": true,
           "gridcolor": "#EBF0F8",
           "linecolor": "#EBF0F8",
           "ticks": "",
           "title": {
            "standoff": 15
           },
           "zerolinecolor": "#EBF0F8",
           "zerolinewidth": 2
          },
          "yaxis": {
           "automargin": true,
           "gridcolor": "#EBF0F8",
           "linecolor": "#EBF0F8",
           "ticks": "",
           "title": {
            "standoff": 15
           },
           "zerolinecolor": "#EBF0F8",
           "zerolinewidth": 2
          }
         }
        },
        "title": {
         "text": "Acceleration"
        },
        "width": 900,
        "xaxis": {
         "anchor": "y",
         "domain": [
          0,
          1
         ],
         "linecolor": "black",
         "linewidth": 1,
         "matches": "x2",
         "showgrid": false,
         "showline": true,
         "showticklabels": false,
         "tickcolor": "black",
         "ticklen": 10,
         "ticks": "outside",
         "tickwidth": 1,
         "title": {
          "text": ""
         },
         "zeroline": false
        },
        "xaxis2": {
         "anchor": "y2",
         "domain": [
          0,
          1
         ],
         "linecolor": "black",
         "linewidth": 1,
         "showgrid": false,
         "showline": true,
         "tickcolor": "black",
         "ticklen": 10,
         "ticks": "outside",
         "tickwidth": 1,
         "title": {
          "text": "Time (s)"
         },
         "zeroline": false
        },
        "yaxis": {
         "anchor": "x",
         "domain": [
          0.5349999999999999,
          0.9999999999999999
         ],
         "linecolor": "black",
         "linewidth": 1,
         "showgrid": false,
         "showline": true,
         "tickcolor": "black",
         "ticklen": 10,
         "ticks": "outside",
         "tickwidth": 1,
         "title": {
          "text": "Forward Accel (g)"
         },
         "zeroline": false
        },
        "yaxis2": {
         "anchor": "x2",
         "domain": [
          0,
          0.46499999999999997
         ],
         "linecolor": "black",
         "linewidth": 1,
         "showgrid": false,
         "showline": true,
         "tickcolor": "black",
         "ticklen": 10,
         "ticks": "outside",
         "tickwidth": 1,
         "title": {
          "text": "Rightward Accel (g)"
         },
         "zeroline": false
        }
       }
      },
      "text/html": [
       "<div>\n",
       "        \n",
       "        \n",
       "            <div id=\"4ab43cf5-0dd0-45a9-b61f-d9d780ab74a0\" class=\"plotly-graph-div\" style=\"height:900px; width:900px;\"></div>\n",
       "            <script type=\"text/javascript\">\n",
       "                require([\"plotly\"], function(Plotly) {\n",
       "                    window.PLOTLYENV=window.PLOTLYENV || {};\n",
       "                    \n",
       "                if (document.getElementById(\"4ab43cf5-0dd0-45a9-b61f-d9d780ab74a0\")) {\n",
       "                    Plotly.newPlot(\n",
       "                        '4ab43cf5-0dd0-45a9-b61f-d9d780ab74a0',\n",
       "                        [{\"line\": {\"color\": \"rgb(0, 255, 0)\", \"width\": 2}, \"mode\": \"lines\", \"name\": \"pycrash - ax\", \"type\": \"scatter\", \"x\": [0.0, 0.1, 0.2, 0.3, 0.4, 0.5, 0.6, 0.7, 0.8, 0.9, 1.0, 1.1, 1.2, 1.3, 1.4, 1.5, 1.6, 1.7, 1.8, 1.9, 2.0, 2.1, 2.2, 2.3, 2.4, 2.5, 2.6, 2.7, 2.8, 2.9, 3.0, 3.1, 3.2, 3.3, 3.4, 3.5, 3.6, 3.7, 3.8, 3.9, 4.0, 4.1, 4.2, 4.3, 4.4, 4.5, 4.6, 4.7, 4.8, 4.9, 5.0, 5.1, 5.2, 5.3, 5.4, 5.5, 5.6, 5.7, 5.8, 5.9, 6.0, 6.1, 6.2, 6.3, 6.4, 6.5, 6.6, 6.7, 6.8, 6.9, 7.0, 7.1, 7.2, 7.3, 7.4, 7.5, 7.6, 7.7, 7.8, 7.9, 8.0, 8.1, 8.2, 8.3, 8.4, 8.5, 8.6, 8.7, 8.8, 8.9, 9.0, 9.1, 9.2, 9.3, 9.4, 9.5, 9.6, 9.7, 9.8, 9.9, 10.0, 10.1, 10.2, 10.3, 10.4, 10.5, 10.6, 10.7, 10.8, 10.9], \"xaxis\": \"x\", \"y\": [0.0, 0.0, 0.0, 0.0, 0.0, 0.0, 0.0, 0.0, 0.0, 0.0, 0.0, -0.003527445092095549, -0.01344000620508177, -0.023837379336498137, -0.033554426823988334, -0.04645155416121745, -0.06566675157843806, -0.09111416498389943, -0.12092963967082537, -0.15354266507277764, -0.18384732612787108, -0.16806178215010092, -0.14698675927240443, -0.14332654309716303, -0.1516082759472781, -0.15868482992747687, -0.1576953107535791, -0.15041497966295678, -0.14210896247535743, -0.13623512527054982, -0.13290894322097913, -0.13048705289466553, -0.1276631618349414, -0.12429345990063548, -0.12093144013446488, -0.11803758811136095, -0.11563334711258527, -0.11346787942155329, -0.11133019717040588, -0.10918953332737001, -0.10712724328241977, -0.10520902802035335, -0.1034290100759345, -0.10173983467929616, -0.10010530500162378, -0.09852103423689033, -0.09699939738265294, -0.0955471109758461, -0.09415792311486347, -0.09282022145059879, -0.09152646366433546, -0.09027528295017014, -0.08906744697562244, -0.08790183178910758, -0.08677500443072947, -0.08568327406617524, -0.08462430232697966, -0.08359695589827836, -0.08260023650694254, -0.08163264216113601, -0.08069237160186808, -0.07977783213730823, -0.07888784034215243, -0.07802143722227602, -0.07717763821999085, -0.0763553771745049, -0.07555361723248159, -0.0747714510716063, -0.07400809154723617, -0.07326279910483295, -0.07253483748446922, -0.0718234873804493, -0.0711280794286619, -0.07044800319212587, -0.0697826891210365, -0.0691315890835848, -0.06849417344426478, -0.06786993952749741, -0.06725841668685369, -0.06665916212371246, -0.06607175338025688, -0.06549578493493172, -0.06493086957791092, -0.06437664011551342, -0.063832748246389, -0.06329886161824502, -0.06277466174727325, -0.06225984373330085, -0.06175411653963845, -0.06125720247758575, -0.06076883590732181, -0.060288762069046764, -0.05981673656872479, -0.05935252520423527, -0.05889590359004563, -0.05844665647583755, -0.05800457706461953, -0.05756946657471978, -0.057141133973646854, -0.05671939567222212, -0.05630407510610042, -0.05589500230770762, -0.05549201357537734, -0.055094951226205245, -0.05470366334894335, -0.05431800351826591, -0.053937830506337936, -0.05356300803749906, -0.05319340458472411, -0.052828893173590075], \"yaxis\": \"y\"}, {\"line\": {\"color\": \"rgb(0, 255, 0)\", \"dash\": \"dash\", \"width\": 2}, \"mode\": \"lines\", \"name\": \"validate - ax\", \"type\": \"scatter\", \"x\": [0.0, 0.1, 0.2, 0.3, 0.4, 0.5, 0.6, 0.7, 0.8, 0.9, 1.0, 1.1, 1.2, 1.3, 1.4, 1.5, 1.6, 1.7, 1.8, 1.9, 2.0, 2.1, 2.2, 2.3, 2.4, 2.5, 2.6, 2.7, 2.8, 2.9, 3.0, 3.1, 3.2, 3.3, 3.4, 3.5, 3.6, 3.7, 3.8, 3.9, 4.0, 4.1, 4.2, 4.3, 4.4, 4.5, 4.6, 4.7, 4.8, 4.9, 5.0, 5.1, 5.2, 5.3, 5.4, 5.5, 5.6, 5.7, 5.8, 5.9, 6.0, 6.1, 6.2, 6.3, 6.4, 6.5, 6.6, 6.7, 6.8, 6.9, 7.0, 7.1, 7.2, 7.3, 7.4, 7.5, 7.6, 7.7, 7.8, 7.9, 8.0, 8.1, 8.2, 8.3, 8.4, 8.5, 8.6, 8.7, 8.8, 8.9, 9.0, 9.1, 9.2, 9.3, 9.4, 9.5, 9.6, 9.7, 9.8, 9.9, 10.0, 10.1, 10.2, 10.3, 10.4, 10.5, 10.6, 10.7, 10.8, 10.9], \"xaxis\": \"x\", \"y\": [0.0, 0.0, 0.0, 0.0, 0.0, 0.0, 0.0, 0.0, 0.0, 0.0, 0.0, -0.004057, -0.013866, -0.027818, -0.045629, -0.067071, -0.091975, -0.118056, -0.146114, -0.178055, -0.207538, -0.200021, -0.188624, -0.180731, -0.172537, -0.167271, -0.1633, -0.159929, -0.156809, -0.153799, -0.15087, -0.148039, -0.145328, -0.142744, -0.140289, -0.137953, -0.135727, -0.133601, -0.131567, -0.129615, -0.127742, -0.125941, -0.124207, -0.122537, -0.120926, -0.119372, -0.11787, -0.116419, -0.115014, -0.113654, -0.112337, -0.111059, -0.10982, -0.108616, -0.107447, -0.106312, -0.105207, -0.104132, -0.103086, -0.102068, -0.101075, -0.100107, -0.099164, -0.098244, -0.097345, -0.096468, -0.095612, -0.094775, -0.093957, -0.093157, -0.092375, -0.09161, -0.090861, -0.090128, -0.08941, -0.088707, -0.088018, -0.087343, -0.086681, -0.086033, -0.085396, -0.084772, -0.084159, -0.083558, -0.082968, -0.082388, -0.081819, -0.08126, -0.080711, -0.080171, -0.079641, -0.079119, -0.078607, -0.078102, -0.077606, -0.077119, -0.076638, -0.076166, -0.075701, -0.075243, -0.074793, -0.074349, -0.073912, -0.073482, -0.073058, -0.07264, -0.072228, -0.071822, -0.071423, -0.071028], \"yaxis\": \"y\"}, {\"line\": {\"color\": \"rgb(0, 0, 255)\", \"width\": 2}, \"mode\": \"lines\", \"name\": \"pycrash - ay\", \"type\": \"scatter\", \"x\": [0.0, 0.1, 0.2, 0.3, 0.4, 0.5, 0.6, 0.7, 0.8, 0.9, 1.0, 1.1, 1.2, 1.3, 1.4, 1.5, 1.6, 1.7, 1.8, 1.9, 2.0, 2.1, 2.2, 2.3, 2.4, 2.5, 2.6, 2.7, 2.8, 2.9, 3.0, 3.1, 3.2, 3.3, 3.4, 3.5, 3.6, 3.7, 3.8, 3.9, 4.0, 4.1, 4.2, 4.3, 4.4, 4.5, 4.6, 4.7, 4.8, 4.9, 5.0, 5.1, 5.2, 5.3, 5.4, 5.5, 5.6, 5.7, 5.8, 5.9, 6.0, 6.1, 6.2, 6.3, 6.4, 6.5, 6.6, 6.7, 6.8, 6.9, 7.0, 7.1, 7.2, 7.3, 7.4, 7.5, 7.6, 7.7, 7.8, 7.9, 8.0, 8.1, 8.2, 8.3, 8.4, 8.5, 8.6, 8.7, 8.8, 8.9, 9.0, 9.1, 9.2, 9.3, 9.4, 9.5, 9.6, 9.7, 9.8, 9.9, 10.0, 10.1, 10.2, 10.3, 10.4, 10.5, 10.6, 10.7, 10.8, 10.9], \"xaxis\": \"x2\", \"y\": [0.0, 0.0, 0.0, 0.0, 0.0, 0.0, 0.0, 0.0, 0.0, 0.0, 0.0, -0.0991405125681338, -0.17755686839216517, -0.2051153834645229, -0.2197371130396328, -0.25713622995293733, -0.32122872292702725, -0.3963769763677712, -0.46764755908115646, -0.5291843973865177, -0.5706418663800787, -0.540422416742646, -0.5090596369056688, -0.5205893498155334, -0.5520476973914157, -0.5690141988684191, -0.5596164098115275, -0.5338162789298134, -0.5072157118785172, -0.4882541006766517, -0.47606627971729154, -0.46583627303338976, -0.4544047405112169, -0.44187666319445357, -0.429919945585622, -0.4196268686787158, -0.4108196299927653, -0.40269872281650115, -0.39471129385838155, -0.38683890992705233, -0.379328548775862, -0.3723328108303526, -0.3657945184308712, -0.35956257576841094, -0.35353948607788827, -0.3477213037024434, -0.34214223440818525, -0.3368122967742987, -0.33170467108224827, -0.32678229581769747, -0.3220234836327006, -0.31742414294298404, -0.3129842985575893, -0.3086974216310477, -0.30455092736089795, -0.3005326945719411, -0.2966351025708876, -0.29285381626728135, -0.28918451163526365, -0.2856213676814059, -0.2821579851902852, -0.2787888616454131, -0.27550976962026247, -0.272317077494958, -0.269207048405115, -0.26617577620228033, -0.26321955213879156, -0.2603351197128269, -0.25751959253543255, -0.2547702272175841, -0.2520843155864022, -0.24945924515696746, -0.24689259248705447, -0.24438213224091515, -0.24192577349683755, -0.23952150504250602, -0.23716739350959692, -0.23486160927687946, -0.23260243625716834, -0.23038825448290717, -0.2282175170075176, -0.2260887414935076, -0.22400051487646427, -0.22195149675557682, -0.21994041382283921, -0.2179660500995653, -0.21602724089714517, -0.21412287205752842, -0.21225188011251878, -0.2104132497101749, -0.20860600904493526, -0.2068292261582551, -0.20508200727930526, -0.20336349593730524, -0.20167287130063283, -0.20000934569659048, -0.1983721623268795, -0.1967605937832438, -0.19517394100327295, -0.19361153203619383, -0.19207272050105317, -0.19055688409947216, -0.1890634234617056, -0.18759176122374158, -0.18614134107776217, -0.18471162671880592, -0.1833021008209175, -0.18191226416606873, -0.1805416348951283, -0.17918974777272983], \"yaxis\": \"y2\"}, {\"line\": {\"color\": \"rgb(0, 0, 255)\", \"dash\": \"dash\", \"width\": 2}, \"mode\": \"lines\", \"name\": \"validate - ay\", \"type\": \"scatter\", \"x\": [0.0, 0.1, 0.2, 0.3, 0.4, 0.5, 0.6, 0.7, 0.8, 0.9, 1.0, 1.1, 1.2, 1.3, 1.4, 1.5, 1.6, 1.7, 1.8, 1.9, 2.0, 2.1, 2.2, 2.3, 2.4, 2.5, 2.6, 2.7, 2.8, 2.9, 3.0, 3.1, 3.2, 3.3, 3.4, 3.5, 3.6, 3.7, 3.8, 3.9, 4.0, 4.1, 4.2, 4.3, 4.4, 4.5, 4.6, 4.7, 4.8, 4.9, 5.0, 5.1, 5.2, 5.3, 5.4, 5.5, 5.6, 5.7, 5.8, 5.9, 6.0, 6.1, 6.2, 6.3, 6.4, 6.5, 6.6, 6.7, 6.8, 6.9, 7.0, 7.1, 7.2, 7.3, 7.4, 7.5, 7.6, 7.7, 7.8, 7.9, 8.0, 8.1, 8.2, 8.3, 8.4, 8.5, 8.6, 8.7, 8.8, 8.9, 9.0, 9.1, 9.2, 9.3, 9.4, 9.5, 9.6, 9.7, 9.8, 9.9, 10.0, 10.1, 10.2, 10.3, 10.4, 10.5, 10.6, 10.7, 10.8, 10.9], \"xaxis\": \"x2\", \"y\": [0.0, 0.0, 0.0, 0.0, 0.0, 0.0, 0.0, 0.0, 0.0, 0.0, 0.0, -0.098352, -0.163871, -0.240041, -0.311896, -0.381689, -0.44814, -0.505176, -0.556628, -0.605131, -0.635441, -0.626268, -0.612977, -0.601103, -0.584816, -0.57125, -0.558899, -0.54743, -0.536521, -0.525966, -0.515717, -0.50582, -0.496328, -0.487276, -0.47867, -0.470485, -0.462691, -0.455257, -0.448147, -0.441336, -0.434803, -0.428526, -0.422488, -0.416675, -0.411074, -0.40567, -0.400454, -0.395414, -0.39054, -0.385824, -0.381257, -0.37683, -0.372538, -0.368373, -0.364329, -0.360401, -0.356582, -0.352868, -0.349254, -0.345736, -0.34231, -0.338972, -0.335717, -0.332543, -0.329447, -0.326424, -0.323473, -0.320591, -0.317775, -0.315022, -0.312331, -0.309699, -0.307123, -0.304603, -0.302135, -0.299719, -0.297353, -0.295034, -0.292761, -0.290533, -0.288349, -0.286206, -0.284105, -0.282042, -0.280018, -0.278031, -0.27608, -0.274164, -0.272282, -0.270433, -0.268616, -0.26683, -0.265074, -0.263348, -0.26165, -0.259981, -0.258338, -0.256722, -0.255131, -0.253566, -0.252025, -0.250508, -0.24901399999999999, -0.247543, -0.246094, -0.244666, -0.24326, -0.241874, -0.240508, -0.239162], \"yaxis\": \"y2\"}],\n",
       "                        {\"autosize\": false, \"font\": {\"color\": \"black\", \"family\": \"Arial\", \"size\": 14}, \"height\": 900, \"legend\": {\"orientation\": \"h\", \"x\": 0.01, \"xanchor\": \"left\", \"y\": 1.1, \"yanchor\": \"top\"}, \"template\": {\"data\": {\"bar\": [{\"error_x\": {\"color\": \"#2a3f5f\"}, \"error_y\": {\"color\": \"#2a3f5f\"}, \"marker\": {\"line\": {\"color\": \"white\", \"width\": 0.5}}, \"type\": \"bar\"}], \"barpolar\": [{\"marker\": {\"line\": {\"color\": \"white\", \"width\": 0.5}}, \"type\": \"barpolar\"}], \"carpet\": [{\"aaxis\": {\"endlinecolor\": \"#2a3f5f\", \"gridcolor\": \"#C8D4E3\", \"linecolor\": \"#C8D4E3\", \"minorgridcolor\": \"#C8D4E3\", \"startlinecolor\": \"#2a3f5f\"}, \"baxis\": {\"endlinecolor\": \"#2a3f5f\", \"gridcolor\": \"#C8D4E3\", \"linecolor\": \"#C8D4E3\", \"minorgridcolor\": \"#C8D4E3\", \"startlinecolor\": \"#2a3f5f\"}, \"type\": \"carpet\"}], \"choropleth\": [{\"colorbar\": {\"outlinewidth\": 0, \"ticks\": \"\"}, \"type\": \"choropleth\"}], \"contour\": [{\"colorbar\": {\"outlinewidth\": 0, \"ticks\": \"\"}, \"colorscale\": [[0.0, \"#0d0887\"], [0.1111111111111111, \"#46039f\"], [0.2222222222222222, \"#7201a8\"], [0.3333333333333333, \"#9c179e\"], [0.4444444444444444, \"#bd3786\"], [0.5555555555555556, \"#d8576b\"], [0.6666666666666666, \"#ed7953\"], [0.7777777777777778, \"#fb9f3a\"], [0.8888888888888888, \"#fdca26\"], [1.0, \"#f0f921\"]], \"type\": \"contour\"}], \"contourcarpet\": [{\"colorbar\": {\"outlinewidth\": 0, \"ticks\": \"\"}, \"type\": \"contourcarpet\"}], \"heatmap\": [{\"colorbar\": {\"outlinewidth\": 0, \"ticks\": \"\"}, \"colorscale\": [[0.0, \"#0d0887\"], [0.1111111111111111, \"#46039f\"], [0.2222222222222222, \"#7201a8\"], [0.3333333333333333, \"#9c179e\"], [0.4444444444444444, \"#bd3786\"], [0.5555555555555556, \"#d8576b\"], [0.6666666666666666, \"#ed7953\"], [0.7777777777777778, \"#fb9f3a\"], [0.8888888888888888, \"#fdca26\"], [1.0, \"#f0f921\"]], \"type\": \"heatmap\"}], \"heatmapgl\": [{\"colorbar\": {\"outlinewidth\": 0, \"ticks\": \"\"}, \"colorscale\": [[0.0, \"#0d0887\"], [0.1111111111111111, \"#46039f\"], [0.2222222222222222, \"#7201a8\"], [0.3333333333333333, \"#9c179e\"], [0.4444444444444444, \"#bd3786\"], [0.5555555555555556, \"#d8576b\"], [0.6666666666666666, \"#ed7953\"], [0.7777777777777778, \"#fb9f3a\"], [0.8888888888888888, \"#fdca26\"], [1.0, \"#f0f921\"]], \"type\": \"heatmapgl\"}], \"histogram\": [{\"marker\": {\"colorbar\": {\"outlinewidth\": 0, \"ticks\": \"\"}}, \"type\": \"histogram\"}], \"histogram2d\": [{\"colorbar\": {\"outlinewidth\": 0, \"ticks\": \"\"}, \"colorscale\": [[0.0, \"#0d0887\"], [0.1111111111111111, \"#46039f\"], [0.2222222222222222, \"#7201a8\"], [0.3333333333333333, \"#9c179e\"], [0.4444444444444444, \"#bd3786\"], [0.5555555555555556, \"#d8576b\"], [0.6666666666666666, \"#ed7953\"], [0.7777777777777778, \"#fb9f3a\"], [0.8888888888888888, \"#fdca26\"], [1.0, \"#f0f921\"]], \"type\": \"histogram2d\"}], \"histogram2dcontour\": [{\"colorbar\": {\"outlinewidth\": 0, \"ticks\": \"\"}, \"colorscale\": [[0.0, \"#0d0887\"], [0.1111111111111111, \"#46039f\"], [0.2222222222222222, \"#7201a8\"], [0.3333333333333333, \"#9c179e\"], [0.4444444444444444, \"#bd3786\"], [0.5555555555555556, \"#d8576b\"], [0.6666666666666666, \"#ed7953\"], [0.7777777777777778, \"#fb9f3a\"], [0.8888888888888888, \"#fdca26\"], [1.0, \"#f0f921\"]], \"type\": \"histogram2dcontour\"}], \"mesh3d\": [{\"colorbar\": {\"outlinewidth\": 0, \"ticks\": \"\"}, \"type\": \"mesh3d\"}], \"parcoords\": [{\"line\": {\"colorbar\": {\"outlinewidth\": 0, \"ticks\": \"\"}}, \"type\": \"parcoords\"}], \"pie\": [{\"automargin\": true, \"type\": \"pie\"}], \"scatter\": [{\"marker\": {\"colorbar\": {\"outlinewidth\": 0, \"ticks\": \"\"}}, \"type\": \"scatter\"}], \"scatter3d\": [{\"line\": {\"colorbar\": {\"outlinewidth\": 0, \"ticks\": \"\"}}, \"marker\": {\"colorbar\": {\"outlinewidth\": 0, \"ticks\": \"\"}}, \"type\": \"scatter3d\"}], \"scattercarpet\": [{\"marker\": {\"colorbar\": {\"outlinewidth\": 0, \"ticks\": \"\"}}, \"type\": \"scattercarpet\"}], \"scattergeo\": [{\"marker\": {\"colorbar\": {\"outlinewidth\": 0, \"ticks\": \"\"}}, \"type\": \"scattergeo\"}], \"scattergl\": [{\"marker\": {\"colorbar\": {\"outlinewidth\": 0, \"ticks\": \"\"}}, \"type\": \"scattergl\"}], \"scattermapbox\": [{\"marker\": {\"colorbar\": {\"outlinewidth\": 0, \"ticks\": \"\"}}, \"type\": \"scattermapbox\"}], \"scatterpolar\": [{\"marker\": {\"colorbar\": {\"outlinewidth\": 0, \"ticks\": \"\"}}, \"type\": \"scatterpolar\"}], \"scatterpolargl\": [{\"marker\": {\"colorbar\": {\"outlinewidth\": 0, \"ticks\": \"\"}}, \"type\": \"scatterpolargl\"}], \"scatterternary\": [{\"marker\": {\"colorbar\": {\"outlinewidth\": 0, \"ticks\": \"\"}}, \"type\": \"scatterternary\"}], \"surface\": [{\"colorbar\": {\"outlinewidth\": 0, \"ticks\": \"\"}, \"colorscale\": [[0.0, \"#0d0887\"], [0.1111111111111111, \"#46039f\"], [0.2222222222222222, \"#7201a8\"], [0.3333333333333333, \"#9c179e\"], [0.4444444444444444, \"#bd3786\"], [0.5555555555555556, \"#d8576b\"], [0.6666666666666666, \"#ed7953\"], [0.7777777777777778, \"#fb9f3a\"], [0.8888888888888888, \"#fdca26\"], [1.0, \"#f0f921\"]], \"type\": \"surface\"}], \"table\": [{\"cells\": {\"fill\": {\"color\": \"#EBF0F8\"}, \"line\": {\"color\": \"white\"}}, \"header\": {\"fill\": {\"color\": \"#C8D4E3\"}, \"line\": {\"color\": \"white\"}}, \"type\": \"table\"}]}, \"layout\": {\"annotationdefaults\": {\"arrowcolor\": \"#2a3f5f\", \"arrowhead\": 0, \"arrowwidth\": 1}, \"coloraxis\": {\"colorbar\": {\"outlinewidth\": 0, \"ticks\": \"\"}}, \"colorscale\": {\"diverging\": [[0, \"#8e0152\"], [0.1, \"#c51b7d\"], [0.2, \"#de77ae\"], [0.3, \"#f1b6da\"], [0.4, \"#fde0ef\"], [0.5, \"#f7f7f7\"], [0.6, \"#e6f5d0\"], [0.7, \"#b8e186\"], [0.8, \"#7fbc41\"], [0.9, \"#4d9221\"], [1, \"#276419\"]], \"sequential\": [[0.0, \"#0d0887\"], [0.1111111111111111, \"#46039f\"], [0.2222222222222222, \"#7201a8\"], [0.3333333333333333, \"#9c179e\"], [0.4444444444444444, \"#bd3786\"], [0.5555555555555556, \"#d8576b\"], [0.6666666666666666, \"#ed7953\"], [0.7777777777777778, \"#fb9f3a\"], [0.8888888888888888, \"#fdca26\"], [1.0, \"#f0f921\"]], \"sequentialminus\": [[0.0, \"#0d0887\"], [0.1111111111111111, \"#46039f\"], [0.2222222222222222, \"#7201a8\"], [0.3333333333333333, \"#9c179e\"], [0.4444444444444444, \"#bd3786\"], [0.5555555555555556, \"#d8576b\"], [0.6666666666666666, \"#ed7953\"], [0.7777777777777778, \"#fb9f3a\"], [0.8888888888888888, \"#fdca26\"], [1.0, \"#f0f921\"]]}, \"colorway\": [\"#636efa\", \"#EF553B\", \"#00cc96\", \"#ab63fa\", \"#FFA15A\", \"#19d3f3\", \"#FF6692\", \"#B6E880\", \"#FF97FF\", \"#FECB52\"], \"font\": {\"color\": \"#2a3f5f\"}, \"geo\": {\"bgcolor\": \"white\", \"lakecolor\": \"white\", \"landcolor\": \"white\", \"showlakes\": true, \"showland\": true, \"subunitcolor\": \"#C8D4E3\"}, \"hoverlabel\": {\"align\": \"left\"}, \"hovermode\": \"closest\", \"mapbox\": {\"style\": \"light\"}, \"paper_bgcolor\": \"white\", \"plot_bgcolor\": \"white\", \"polar\": {\"angularaxis\": {\"gridcolor\": \"#EBF0F8\", \"linecolor\": \"#EBF0F8\", \"ticks\": \"\"}, \"bgcolor\": \"white\", \"radialaxis\": {\"gridcolor\": \"#EBF0F8\", \"linecolor\": \"#EBF0F8\", \"ticks\": \"\"}}, \"scene\": {\"xaxis\": {\"backgroundcolor\": \"white\", \"gridcolor\": \"#DFE8F3\", \"gridwidth\": 2, \"linecolor\": \"#EBF0F8\", \"showbackground\": true, \"ticks\": \"\", \"zerolinecolor\": \"#EBF0F8\"}, \"yaxis\": {\"backgroundcolor\": \"white\", \"gridcolor\": \"#DFE8F3\", \"gridwidth\": 2, \"linecolor\": \"#EBF0F8\", \"showbackground\": true, \"ticks\": \"\", \"zerolinecolor\": \"#EBF0F8\"}, \"zaxis\": {\"backgroundcolor\": \"white\", \"gridcolor\": \"#DFE8F3\", \"gridwidth\": 2, \"linecolor\": \"#EBF0F8\", \"showbackground\": true, \"ticks\": \"\", \"zerolinecolor\": \"#EBF0F8\"}}, \"shapedefaults\": {\"line\": {\"color\": \"#2a3f5f\"}}, \"ternary\": {\"aaxis\": {\"gridcolor\": \"#DFE8F3\", \"linecolor\": \"#A2B1C6\", \"ticks\": \"\"}, \"baxis\": {\"gridcolor\": \"#DFE8F3\", \"linecolor\": \"#A2B1C6\", \"ticks\": \"\"}, \"bgcolor\": \"white\", \"caxis\": {\"gridcolor\": \"#DFE8F3\", \"linecolor\": \"#A2B1C6\", \"ticks\": \"\"}}, \"title\": {\"x\": 0.05}, \"xaxis\": {\"automargin\": true, \"gridcolor\": \"#EBF0F8\", \"linecolor\": \"#EBF0F8\", \"ticks\": \"\", \"title\": {\"standoff\": 15}, \"zerolinecolor\": \"#EBF0F8\", \"zerolinewidth\": 2}, \"yaxis\": {\"automargin\": true, \"gridcolor\": \"#EBF0F8\", \"linecolor\": \"#EBF0F8\", \"ticks\": \"\", \"title\": {\"standoff\": 15}, \"zerolinecolor\": \"#EBF0F8\", \"zerolinewidth\": 2}}}, \"title\": {\"text\": \"Acceleration\"}, \"width\": 900, \"xaxis\": {\"anchor\": \"y\", \"domain\": [0.0, 1.0], \"linecolor\": \"black\", \"linewidth\": 1, \"matches\": \"x2\", \"showgrid\": false, \"showline\": true, \"showticklabels\": false, \"tickcolor\": \"black\", \"ticklen\": 10, \"ticks\": \"outside\", \"tickwidth\": 1, \"title\": {\"text\": \"\"}, \"zeroline\": false}, \"xaxis2\": {\"anchor\": \"y2\", \"domain\": [0.0, 1.0], \"linecolor\": \"black\", \"linewidth\": 1, \"showgrid\": false, \"showline\": true, \"tickcolor\": \"black\", \"ticklen\": 10, \"ticks\": \"outside\", \"tickwidth\": 1, \"title\": {\"text\": \"Time (s)\"}, \"zeroline\": false}, \"yaxis\": {\"anchor\": \"x\", \"domain\": [0.5349999999999999, 0.9999999999999999], \"linecolor\": \"black\", \"linewidth\": 1, \"showgrid\": false, \"showline\": true, \"tickcolor\": \"black\", \"ticklen\": 10, \"ticks\": \"outside\", \"tickwidth\": 1, \"title\": {\"text\": \"Forward Accel (g)\"}, \"zeroline\": false}, \"yaxis2\": {\"anchor\": \"x2\", \"domain\": [0.0, 0.46499999999999997], \"linecolor\": \"black\", \"linewidth\": 1, \"showgrid\": false, \"showline\": true, \"tickcolor\": \"black\", \"ticklen\": 10, \"ticks\": \"outside\", \"tickwidth\": 1, \"title\": {\"text\": \"Rightward Accel (g)\"}, \"zeroline\": false}},\n",
       "                        {\"responsive\": true}\n",
       "                    ).then(function(){\n",
       "                            \n",
       "var gd = document.getElementById('4ab43cf5-0dd0-45a9-b61f-d9d780ab74a0');\n",
       "var x = new MutationObserver(function (mutations, observer) {{\n",
       "        var display = window.getComputedStyle(gd).display;\n",
       "        if (!display || display === 'none') {{\n",
       "            console.log([gd, 'removed!']);\n",
       "            Plotly.purge(gd);\n",
       "            observer.disconnect();\n",
       "        }}\n",
       "}});\n",
       "\n",
       "// Listen for the removal of the full notebook cells\n",
       "var notebookContainer = gd.closest('#notebook-container');\n",
       "if (notebookContainer) {{\n",
       "    x.observe(notebookContainer, {childList: true});\n",
       "}}\n",
       "\n",
       "// Listen for the clearing of the current output cell\n",
       "var outputEl = gd.closest('.output');\n",
       "if (outputEl) {{\n",
       "    x.observe(outputEl, {childList: true});\n",
       "}}\n",
       "\n",
       "                        })\n",
       "                };\n",
       "                });\n",
       "            </script>\n",
       "        </div>"
      ]
     },
     "metadata": {},
     "output_type": "display_data"
    }
   ],
   "source": [
    "compare_kinematics(run.veh.model, df, 'pycrash', 'validate')"
   ]
  },
  {
   "cell_type": "code",
   "execution_count": 72,
   "metadata": {},
   "outputs": [],
   "source": [
    "from pycrash.visualization.tire_details import tire_details, vertical_forces"
   ]
  },
  {
   "cell_type": "code",
   "execution_count": 73,
   "metadata": {},
   "outputs": [
    {
     "data": {
      "application/vnd.plotly.v1+json": {
       "config": {
        "plotlyServerURL": "https://plot.ly"
       },
       "data": [
        {
         "line": {
          "color": "rgb(0, 0, 255)",
          "dash": "solid",
          "width": 1
         },
         "mode": "lines",
         "name": "LF",
         "type": "scatter",
         "x": [
          0,
          0.1,
          0.2,
          0.3,
          0.4,
          0.5,
          0.6,
          0.7,
          0.8,
          0.9,
          1,
          1.1,
          1.2,
          1.3,
          1.4,
          1.5,
          1.6,
          1.7,
          1.8,
          1.9,
          2,
          2.1,
          2.2,
          2.3,
          2.4,
          2.5,
          2.6,
          2.7,
          2.8,
          2.9,
          3,
          3.1,
          3.2,
          3.3,
          3.4,
          3.5,
          3.6,
          3.7,
          3.8,
          3.9,
          4,
          4.1,
          4.2,
          4.3,
          4.4,
          4.5,
          4.6,
          4.7,
          4.8,
          4.9,
          5,
          5.1,
          5.2,
          5.3,
          5.4,
          5.5,
          5.6,
          5.7,
          5.8,
          5.9,
          6,
          6.1,
          6.2,
          6.3,
          6.4,
          6.5,
          6.6,
          6.7,
          6.8,
          6.9,
          7,
          7.1,
          7.2,
          7.3,
          7.4,
          7.5,
          7.6,
          7.7,
          7.8,
          7.9,
          8,
          8.1,
          8.2,
          8.3,
          8.4,
          8.5,
          8.6,
          8.7,
          8.8,
          8.9,
          9,
          9.1,
          9.2,
          9.3,
          9.4,
          9.5,
          9.6,
          9.7,
          9.8,
          9.9,
          10,
          10.1,
          10.2,
          10.3,
          10.4,
          10.5,
          10.6,
          10.7,
          10.8,
          10.9
         ],
         "xaxis": "x",
         "y": [
          0,
          0,
          0,
          0,
          0,
          0,
          0,
          0,
          0,
          0,
          0,
          -2.037739056603774,
          -3.6738500358169257,
          -4.232741682999597,
          -4.338368850315258,
          -4.6492724011174165,
          -5.3191495087223,
          -6.153069860545303,
          -6.92627041567466,
          -7.534394835843822,
          -7.974328650780382,
          -6.314242233786621,
          -4.992796358247114,
          -4.787814694055778,
          -5.258181664033223,
          -5.627720254742845,
          -5.541791881578005,
          -5.134174654240911,
          -4.703415118932111,
          -4.424366629293269,
          -4.283620315511071,
          -4.181264493670449,
          -4.047608843532174,
          -3.881119707174659,
          -3.7159507320342087,
          -3.5770578527146526,
          -3.4636179939446032,
          -3.3607691869890663,
          -3.257382334594469,
          -3.1528319417155597,
          -3.052222381549561,
          -2.9591321268014763,
          -2.872943013653887,
          -2.7909224553811156,
          -2.7112059115324048,
          -2.633759281470412,
          -2.559379131622987,
          -2.4884357547479947,
          -2.420552546565243,
          -2.3550961541940456,
          -2.291699510248536,
          -2.230339972937198,
          -2.171088790836462,
          -2.113892262573504,
          -2.058567282112208,
          -2.0049255218233353,
          -1.9528590819467118,
          -1.9023238715978459,
          -1.8532768888848405,
          -1.8056436729336494,
          -1.7593336915147084,
          -1.714269573838925,
          -1.6703966019961627,
          -1.627670812051513,
          -1.5860451096044337,
          -1.545467211571564,
          -1.5058865454190578,
          -1.4672596961768332,
          -1.4295493983661354,
          -1.392720303529249,
          -1.3567367295081334,
          -1.3215637089256052,
          -1.2871689025720765,
          -1.253522993834731,
          -1.2205985933223922,
          -1.188369186490905,
          -1.1568090680648953,
          -1.1258938714407183,
          -1.0956008414060578,
          -1.0659085733458733,
          -1.0367965981279332,
          -1.0082452251077603,
          -0.9802356484082424,
          -0.9527500494862858,
          -0.9257715298403331,
          -0.8992839485382254,
          -0.8732718188765858,
          -0.847720306983006,
          -0.8226152550889009,
          -0.7979431546352835,
          -0.7736910762585487,
          -0.7498466107924102,
          -0.726397848161696,
          -0.7033333731543727,
          -0.6806422474300677,
          -0.6583139740795227,
          -0.6363384633382124,
          -0.6147060125549867,
          -0.5934072950487286,
          -0.5724333456576305,
          -0.5517755396373877,
          -0.5314255713555242,
          -0.5113754386532451,
          -0.491617431603874,
          -0.4721441207799012,
          -0.4529483431221673,
          -0.43402318772130183,
          -0.4153619840719536,
          -0.3969582925224377,
          -0.37880589490134786
         ],
         "yaxis": "y"
        },
        {
         "line": {
          "color": "rgb(0, 255, 0)",
          "dash": "solid",
          "width": 1
         },
         "mode": "lines",
         "name": "RF",
         "type": "scatter",
         "x": [
          0,
          0.1,
          0.2,
          0.3,
          0.4,
          0.5,
          0.6,
          0.7,
          0.8,
          0.9,
          1,
          1.1,
          1.2,
          1.3,
          1.4,
          1.5,
          1.6,
          1.7,
          1.8,
          1.9,
          2,
          2.1,
          2.2,
          2.3,
          2.4,
          2.5,
          2.6,
          2.7,
          2.8,
          2.9,
          3,
          3.1,
          3.2,
          3.3,
          3.4,
          3.5,
          3.6,
          3.7,
          3.8,
          3.9,
          4,
          4.1,
          4.2,
          4.3,
          4.4,
          4.5,
          4.6,
          4.7,
          4.8,
          4.9,
          5,
          5.1,
          5.2,
          5.3,
          5.4,
          5.5,
          5.6,
          5.7,
          5.8,
          5.9,
          6,
          6.1,
          6.2,
          6.3,
          6.4,
          6.5,
          6.6,
          6.7,
          6.8,
          6.9,
          7,
          7.1,
          7.2,
          7.3,
          7.4,
          7.5,
          7.6,
          7.7,
          7.8,
          7.9,
          8,
          8.1,
          8.2,
          8.3,
          8.4,
          8.5,
          8.6,
          8.7,
          8.8,
          8.9,
          9,
          9.1,
          9.2,
          9.3,
          9.4,
          9.5,
          9.6,
          9.7,
          9.8,
          9.9,
          10,
          10.1,
          10.2,
          10.3,
          10.4,
          10.5,
          10.6,
          10.7,
          10.8,
          10.9
         ],
         "xaxis": "x",
         "y": [
          0,
          0,
          0,
          0,
          0,
          0,
          0,
          0,
          0,
          0,
          0,
          -2.037739056603774,
          -3.677471988825095,
          -4.283657594057909,
          -4.53464571957576,
          -5.07736224472671,
          -6.0255627697965775,
          -7.174632284102796,
          -8.317095678536242,
          -9.367722103283056,
          -10.33275697951444,
          -9.262578935456068,
          -8.4164303031541,
          -8.366632139551458,
          -8.7548087143691,
          -9.02234653430421,
          -8.931904040650885,
          -8.600307361948136,
          -8.255897189092718,
          -8.026943784371493,
          -7.900506982215731,
          -7.801976937207925,
          -7.681130753429906,
          -7.538307050917824,
          -7.3991300924751515,
          -7.281349999155029,
          -7.18343356038847,
          -7.093925270277808,
          -7.004629372274701,
          -6.915268035264053,
          -6.829655961082745,
          -6.750301226158977,
          -6.6765697211817505,
          -6.6063446601789995,
          -6.5382384148861155,
          -6.472239049566051,
          -6.408919114878015,
          -6.348505672132869,
          -6.290672437784009,
          -6.234922847853906,
          -6.180973890412901,
          -6.128799381750353,
          -6.078436015915419,
          -6.029823865217563,
          -5.982809670763828,
          -5.9372416465105555,
          -5.8930307606948364,
          -5.850135137548483,
          -5.808512573195769,
          -5.768097638612593,
          -5.728814435278587,
          -5.6905983437377605,
          -5.653402222911779,
          -5.617186934174034,
          -5.581911086861665,
          -5.547529900952582,
          -5.514000512398523,
          -5.481285857688462,
          -5.449353677042198,
          -5.418173285305102,
          -5.387713977431393,
          -5.35794588809232,
          -5.328841394599787,
          -5.300375328224886,
          -5.272524104137235,
          -5.2452649415221115,
          -5.218575838324539,
          -5.192435964971924,
          -5.166825840201905,
          -5.141727109737821,
          -5.117122228547303,
          -5.092994347404824,
          -5.06932739145097,
          -5.046106126196825,
          -5.02331609440498,
          -5.000943487573637,
          -4.978975067015039,
          -4.957398160970822,
          -4.936200676861797,
          -4.915371074565306,
          -4.89489830917338,
          -4.874771784313627,
          -4.854981334289367,
          -4.835517217808615,
          -4.816370100738902,
          -4.797531026358309,
          -4.778991387466275,
          -4.760742909547953,
          -4.742777640302423,
          -4.7250879364327885,
          -4.707666445666572,
          -4.69050608906994,
          -4.673600047844222,
          -4.65694175335954,
          -4.640524876738612,
          -4.62434331674741,
          -4.608391187836431,
          -4.592662810174999,
          -4.577152701341584,
          -4.561855568135164
         ],
         "yaxis": "y"
        },
        {
         "line": {
          "color": "rgb(153, 0, 204)",
          "dash": "solid",
          "width": 1
         },
         "mode": "lines",
         "name": "RR",
         "type": "scatter",
         "x": [
          0,
          0.1,
          0.2,
          0.3,
          0.4,
          0.5,
          0.6,
          0.7,
          0.8,
          0.9,
          1,
          1.1,
          1.2,
          1.3,
          1.4,
          1.5,
          1.6,
          1.7,
          1.8,
          1.9,
          2,
          2.1,
          2.2,
          2.3,
          2.4,
          2.5,
          2.6,
          2.7,
          2.8,
          2.9,
          3,
          3.1,
          3.2,
          3.3,
          3.4,
          3.5,
          3.6,
          3.7,
          3.8,
          3.9,
          4,
          4.1,
          4.2,
          4.3,
          4.4,
          4.5,
          4.6,
          4.7,
          4.8,
          4.9,
          5,
          5.1,
          5.2,
          5.3,
          5.4,
          5.5,
          5.6,
          5.7,
          5.8,
          5.9,
          6,
          6.1,
          6.2,
          6.3,
          6.4,
          6.5,
          6.6,
          6.7,
          6.8,
          6.9,
          7,
          7.1,
          7.2,
          7.3,
          7.4,
          7.5,
          7.6,
          7.7,
          7.8,
          7.9,
          8,
          8.1,
          8.2,
          8.3,
          8.4,
          8.5,
          8.6,
          8.7,
          8.8,
          8.9,
          9,
          9.1,
          9.2,
          9.3,
          9.4,
          9.5,
          9.6,
          9.7,
          9.8,
          9.9,
          10,
          10.1,
          10.2,
          10.3,
          10.4,
          10.5,
          10.6,
          10.7,
          10.8,
          10.9
         ],
         "xaxis": "x",
         "y": [
          0,
          0,
          0,
          0,
          0,
          0,
          0,
          0,
          0,
          0,
          0,
          0,
          0.04063954967771828,
          0.07240903733716757,
          -0.13645104648200157,
          -0.7355488562784231,
          -1.6233131155005092,
          -2.577821946738115,
          -3.4404609349419895,
          -4.172517825540184,
          -4.805415438237235,
          -5.393218310503528,
          -6.0217105852871375,
          -6.657731647952584,
          -7.084318594040087,
          -7.157595958648411,
          -6.942506195298779,
          -6.610916263585298,
          -6.302370833036964,
          -6.06296105019717,
          -5.869158275028172,
          -5.684927109809007,
          -5.497411999672478,
          -5.315876505309802,
          -5.15294292895886,
          -5.011432681360043,
          -4.8849513264581175,
          -4.765815002137846,
          -4.650748917363391,
          -4.5406979305919934,
          -4.437447617521764,
          -4.34118115195881,
          -4.2505455715110685,
          -4.164053639580539,
          -4.081045897780751,
          -4.001575590043404,
          -3.925769835481908,
          -3.853435104421644,
          -3.784140358374286,
          -3.7174987274257756,
          -3.653312401109366,
          -3.5915063745509985,
          -3.53199558004196,
          -3.474630399679712,
          -3.4192359256773384,
          -3.3656693738578918,
          -3.313834324537051,
          -3.263654975456373,
          -3.2150494135993366,
          -3.167926431188362,
          -3.122198800625855,
          -3.0777933206509447,
          -3.0346487796368797,
          -2.992707991161992,
          -2.9519134104971485,
          -2.9122087925913687,
          -2.873542610608717,
          -2.8358689051543537,
          -2.7991454155411875,
          -2.7633316028334263,
          -2.728388334708041,
          -2.6942787183551706,
          -2.660968631095855,
          -2.628426351175208,
          -2.5966218326208512,
          -2.565526346738192,
          -2.535112592734577,
          -2.5053548749929546,
          -2.4762290294703835,
          -2.4477121624572655,
          -2.4197824461110486,
          -2.392419078578405,
          -2.3656023138380644,
          -2.3393134320988125,
          -2.3135346344165186,
          -2.2882489364957483,
          -2.263440117032344,
          -2.2390927033955363,
          -2.215191947076006,
          -2.1917237718508047,
          -2.168674716222202,
          -2.1460318939986673,
          -2.1237829721640513,
          -2.101916149120584,
          -2.080420123847949,
          -2.0592840618473405,
          -2.0384975675397485,
          -2.0180506644724443,
          -1.9979337773026713,
          -1.97813771105706,
          -1.9586536291673415,
          -1.939473034139574,
          -1.9205877518726815,
          -1.901989917403255,
          -1.8836719600374887,
          -1.865626588218895,
          -1.847846775685476,
          -1.830325749455003,
          -1.813056978767766,
          -1.7960341640693764
         ],
         "yaxis": "y"
        },
        {
         "line": {
          "color": "rgb(255, 102, 0)",
          "dash": "solid",
          "width": 1
         },
         "mode": "lines",
         "name": "LR",
         "type": "scatter",
         "x": [
          0,
          0.1,
          0.2,
          0.3,
          0.4,
          0.5,
          0.6,
          0.7,
          0.8,
          0.9,
          1,
          1.1,
          1.2,
          1.3,
          1.4,
          1.5,
          1.6,
          1.7,
          1.8,
          1.9,
          2,
          2.1,
          2.2,
          2.3,
          2.4,
          2.5,
          2.6,
          2.7,
          2.8,
          2.9,
          3,
          3.1,
          3.2,
          3.3,
          3.4,
          3.5,
          3.6,
          3.7,
          3.8,
          3.9,
          4,
          4.1,
          4.2,
          4.3,
          4.4,
          4.5,
          4.6,
          4.7,
          4.8,
          4.9,
          5,
          5.1,
          5.2,
          5.3,
          5.4,
          5.5,
          5.6,
          5.7,
          5.8,
          5.9,
          6,
          6.1,
          6.2,
          6.3,
          6.4,
          6.5,
          6.6,
          6.7,
          6.8,
          6.9,
          7,
          7.1,
          7.2,
          7.3,
          7.4,
          7.5,
          7.6,
          7.7,
          7.8,
          7.9,
          8,
          8.1,
          8.2,
          8.3,
          8.4,
          8.5,
          8.6,
          8.7,
          8.8,
          8.9,
          9,
          9.1,
          9.2,
          9.3,
          9.4,
          9.5,
          9.6,
          9.7,
          9.8,
          9.9,
          10,
          10.1,
          10.2,
          10.3,
          10.4,
          10.5,
          10.6,
          10.7,
          10.8,
          10.9
         ],
         "xaxis": "x",
         "y": [
          0,
          0,
          0,
          0,
          0,
          0,
          0,
          0,
          0,
          0,
          0,
          0,
          0.040875298984174586,
          0.07402611932337372,
          -0.14271095127120015,
          -0.7883037442508024,
          -1.7815764637202882,
          -2.8944686051116864,
          -3.950585304641184,
          -4.9003559259855844,
          -5.774915098332561,
          -6.632355389593337,
          -7.541490127087869,
          -8.405755040111375,
          -8.943399817777312,
          -9.012146484102239,
          -8.729759669803647,
          -8.31660697390689,
          -7.935599662455481,
          -7.635687218329604,
          -7.387092285770944,
          -7.149003228603814,
          -6.908951142894077,
          -6.6791038957657625,
          -6.473848533572521,
          -6.295351520406038,
          -6.135246918407228,
          -5.984280489092423,
          -5.838755219450044,
          -5.699920469947921,
          -5.569826262090068,
          -5.448518198741653,
          -5.334255253403953,
          -5.2252268817626115,
          -5.120658075649534,
          -5.02061455475783,
          -4.925220547056447,
          -4.834204352388641,
          -4.747020116500399,
          -4.6631909444289175,
          -4.582473828701665,
          -4.504770568783574,
          -4.429966330306774,
          -4.3578681276159585,
          -4.2882556875736295,
          -4.220950641405153,
          -4.155831536582537,
          -4.09280122531486,
          -4.031754742241158,
          -3.9725763989117997,
          -3.9151563173439192,
          -3.859402303401682,
          -3.8052368727024217,
          -3.752587405123374,
          -3.701380977944976,
          -3.6515465644886325,
          -3.603019193078986,
          -3.5557408520560414,
          -3.5096581158692848,
          -3.4647197382531876,
          -3.420876316726213,
          -3.3780813265955167,
          -3.3362917398587086,
          -3.2954675366421027,
          -3.2555708059988255,
          -3.216565316058112,
          -3.1784166564659797,
          -3.141092448771459,
          -3.10456224284049,
          -3.0687971883816063,
          -3.0337697837902233,
          -2.99945382864992,
          -2.965824458236204,
          -2.932858102066655,
          -2.900532350156554,
          -2.86882582088493,
          -2.8377180971370812,
          -2.807189707565752,
          -2.7772220941518144,
          -2.7477975462118627,
          -2.7188991282314254,
          -2.6905106306482605,
          -2.662616541809268,
          -2.6352020200083284,
          -2.6082528542786982,
          -2.5817554215263354,
          -2.5556966519001496,
          -2.5300640038105535,
          -2.504845441021509,
          -2.4800294063557344,
          -2.455604794005632,
          -2.4315609252222297,
          -2.407887528542505,
          -2.3845747217465116,
          -2.361612993052224,
          -2.3389931820345695,
          -2.3167064621983644,
          -2.2947443258352593,
          -2.273098570060089,
          -2.251761282899954
         ],
         "yaxis": "y"
        },
        {
         "line": {
          "color": "rgb(0, 0, 255)",
          "dash": "solid",
          "width": 1
         },
         "mode": "lines",
         "name": "LF",
         "showlegend": false,
         "type": "scatter",
         "x": [
          0,
          0.1,
          0.2,
          0.3,
          0.4,
          0.5,
          0.6,
          0.7,
          0.8,
          0.9,
          1,
          1.1,
          1.2,
          1.3,
          1.4,
          1.5,
          1.6,
          1.7,
          1.8,
          1.9,
          2,
          2.1,
          2.2,
          2.3,
          2.4,
          2.5,
          2.6,
          2.7,
          2.8,
          2.9,
          3,
          3.1,
          3.2,
          3.3,
          3.4,
          3.5,
          3.6,
          3.7,
          3.8,
          3.9,
          4,
          4.1,
          4.2,
          4.3,
          4.4,
          4.5,
          4.6,
          4.7,
          4.8,
          4.9,
          5,
          5.1,
          5.2,
          5.3,
          5.4,
          5.5,
          5.6,
          5.7,
          5.8,
          5.9,
          6,
          6.1,
          6.2,
          6.3,
          6.4,
          6.5,
          6.6,
          6.7,
          6.8,
          6.9,
          7,
          7.1,
          7.2,
          7.3,
          7.4,
          7.5,
          7.6,
          7.7,
          7.8,
          7.9,
          8,
          8.1,
          8.2,
          8.3,
          8.4,
          8.5,
          8.6,
          8.7,
          8.8,
          8.9,
          9,
          9.1,
          9.2,
          9.3,
          9.4,
          9.5,
          9.6,
          9.7,
          9.8,
          9.9,
          10,
          10.1,
          10.2,
          10.3,
          10.4,
          10.5,
          10.6,
          10.7,
          10.8,
          10.9
         ],
         "xaxis": "x2",
         "y": [
          0,
          0,
          0,
          0,
          0,
          0,
          0,
          0,
          0,
          0,
          0,
          0,
          0,
          0,
          0,
          0,
          0,
          0,
          0,
          0,
          0,
          0,
          0,
          0,
          0,
          0,
          0,
          0,
          0,
          0,
          0,
          0,
          0,
          0,
          0,
          0,
          0,
          0,
          0,
          0,
          0,
          0,
          0,
          0,
          0,
          0,
          0,
          0,
          0,
          0,
          0,
          0,
          0,
          0,
          0,
          0,
          0,
          0,
          0,
          0,
          0,
          0,
          0,
          0,
          0,
          0,
          0,
          0,
          0,
          0,
          0,
          0,
          0,
          0,
          0,
          0,
          0,
          0,
          0,
          0,
          0,
          0,
          0,
          0,
          0,
          0,
          0,
          0,
          0,
          0,
          0,
          0,
          0,
          0,
          0,
          0,
          0,
          0,
          0,
          0,
          0,
          0,
          0,
          0,
          0,
          0,
          0,
          0,
          0,
          0
         ],
         "yaxis": "y2"
        },
        {
         "line": {
          "color": "rgb(0, 255, 0)",
          "dash": "solid",
          "width": 1
         },
         "mode": "lines",
         "name": "RF",
         "showlegend": false,
         "type": "scatter",
         "x": [
          0,
          0.1,
          0.2,
          0.3,
          0.4,
          0.5,
          0.6,
          0.7,
          0.8,
          0.9,
          1,
          1.1,
          1.2,
          1.3,
          1.4,
          1.5,
          1.6,
          1.7,
          1.8,
          1.9,
          2,
          2.1,
          2.2,
          2.3,
          2.4,
          2.5,
          2.6,
          2.7,
          2.8,
          2.9,
          3,
          3.1,
          3.2,
          3.3,
          3.4,
          3.5,
          3.6,
          3.7,
          3.8,
          3.9,
          4,
          4.1,
          4.2,
          4.3,
          4.4,
          4.5,
          4.6,
          4.7,
          4.8,
          4.9,
          5,
          5.1,
          5.2,
          5.3,
          5.4,
          5.5,
          5.6,
          5.7,
          5.8,
          5.9,
          6,
          6.1,
          6.2,
          6.3,
          6.4,
          6.5,
          6.6,
          6.7,
          6.8,
          6.9,
          7,
          7.1,
          7.2,
          7.3,
          7.4,
          7.5,
          7.6,
          7.7,
          7.8,
          7.9,
          8,
          8.1,
          8.2,
          8.3,
          8.4,
          8.5,
          8.6,
          8.7,
          8.8,
          8.9,
          9,
          9.1,
          9.2,
          9.3,
          9.4,
          9.5,
          9.6,
          9.7,
          9.8,
          9.9,
          10,
          10.1,
          10.2,
          10.3,
          10.4,
          10.5,
          10.6,
          10.7,
          10.8,
          10.9
         ],
         "xaxis": "x2",
         "y": [
          0,
          0,
          0,
          0,
          0,
          0,
          0,
          0,
          0,
          0,
          0,
          0,
          0,
          0,
          0,
          0,
          0,
          0,
          0,
          0,
          0,
          0,
          0,
          0,
          0,
          0,
          0,
          0,
          0,
          0,
          0,
          0,
          0,
          0,
          0,
          0,
          0,
          0,
          0,
          0,
          0,
          0,
          0,
          0,
          0,
          0,
          0,
          0,
          0,
          0,
          0,
          0,
          0,
          0,
          0,
          0,
          0,
          0,
          0,
          0,
          0,
          0,
          0,
          0,
          0,
          0,
          0,
          0,
          0,
          0,
          0,
          0,
          0,
          0,
          0,
          0,
          0,
          0,
          0,
          0,
          0,
          0,
          0,
          0,
          0,
          0,
          0,
          0,
          0,
          0,
          0,
          0,
          0,
          0,
          0,
          0,
          0,
          0,
          0,
          0,
          0,
          0,
          0,
          0,
          0,
          0,
          0,
          0,
          0,
          0
         ],
         "yaxis": "y2"
        },
        {
         "line": {
          "color": "rgb(153, 0, 204)",
          "dash": "solid",
          "width": 1
         },
         "mode": "lines",
         "name": "RR",
         "showlegend": false,
         "type": "scatter",
         "x": [
          0,
          0.1,
          0.2,
          0.3,
          0.4,
          0.5,
          0.6,
          0.7,
          0.8,
          0.9,
          1,
          1.1,
          1.2,
          1.3,
          1.4,
          1.5,
          1.6,
          1.7,
          1.8,
          1.9,
          2,
          2.1,
          2.2,
          2.3,
          2.4,
          2.5,
          2.6,
          2.7,
          2.8,
          2.9,
          3,
          3.1,
          3.2,
          3.3,
          3.4,
          3.5,
          3.6,
          3.7,
          3.8,
          3.9,
          4,
          4.1,
          4.2,
          4.3,
          4.4,
          4.5,
          4.6,
          4.7,
          4.8,
          4.9,
          5,
          5.1,
          5.2,
          5.3,
          5.4,
          5.5,
          5.6,
          5.7,
          5.8,
          5.9,
          6,
          6.1,
          6.2,
          6.3,
          6.4,
          6.5,
          6.6,
          6.7,
          6.8,
          6.9,
          7,
          7.1,
          7.2,
          7.3,
          7.4,
          7.5,
          7.6,
          7.7,
          7.8,
          7.9,
          8,
          8.1,
          8.2,
          8.3,
          8.4,
          8.5,
          8.6,
          8.7,
          8.8,
          8.9,
          9,
          9.1,
          9.2,
          9.3,
          9.4,
          9.5,
          9.6,
          9.7,
          9.8,
          9.9,
          10,
          10.1,
          10.2,
          10.3,
          10.4,
          10.5,
          10.6,
          10.7,
          10.8,
          10.9
         ],
         "xaxis": "x2",
         "y": [
          0,
          0,
          0,
          0,
          0,
          0,
          0,
          0,
          0,
          0,
          0,
          0,
          0,
          0,
          0,
          0,
          0,
          0,
          0,
          0,
          0,
          0,
          0,
          0,
          0,
          0,
          0,
          0,
          0,
          0,
          0,
          0,
          0,
          0,
          0,
          0,
          0,
          0,
          0,
          0,
          0,
          0,
          0,
          0,
          0,
          0,
          0,
          0,
          0,
          0,
          0,
          0,
          0,
          0,
          0,
          0,
          0,
          0,
          0,
          0,
          0,
          0,
          0,
          0,
          0,
          0,
          0,
          0,
          0,
          0,
          0,
          0,
          0,
          0,
          0,
          0,
          0,
          0,
          0,
          0,
          0,
          0,
          0,
          0,
          0,
          0,
          0,
          0,
          0,
          0,
          0,
          0,
          0,
          0,
          0,
          0,
          0,
          0,
          0,
          0,
          0,
          0,
          0,
          0,
          0,
          0,
          0,
          0,
          0,
          0
         ],
         "yaxis": "y2"
        },
        {
         "line": {
          "color": "rgb(255, 102, 0)",
          "dash": "solid",
          "width": 1
         },
         "mode": "lines",
         "name": "LR",
         "showlegend": false,
         "type": "scatter",
         "x": [
          0,
          0.1,
          0.2,
          0.3,
          0.4,
          0.5,
          0.6,
          0.7,
          0.8,
          0.9,
          1,
          1.1,
          1.2,
          1.3,
          1.4,
          1.5,
          1.6,
          1.7,
          1.8,
          1.9,
          2,
          2.1,
          2.2,
          2.3,
          2.4,
          2.5,
          2.6,
          2.7,
          2.8,
          2.9,
          3,
          3.1,
          3.2,
          3.3,
          3.4,
          3.5,
          3.6,
          3.7,
          3.8,
          3.9,
          4,
          4.1,
          4.2,
          4.3,
          4.4,
          4.5,
          4.6,
          4.7,
          4.8,
          4.9,
          5,
          5.1,
          5.2,
          5.3,
          5.4,
          5.5,
          5.6,
          5.7,
          5.8,
          5.9,
          6,
          6.1,
          6.2,
          6.3,
          6.4,
          6.5,
          6.6,
          6.7,
          6.8,
          6.9,
          7,
          7.1,
          7.2,
          7.3,
          7.4,
          7.5,
          7.6,
          7.7,
          7.8,
          7.9,
          8,
          8.1,
          8.2,
          8.3,
          8.4,
          8.5,
          8.6,
          8.7,
          8.8,
          8.9,
          9,
          9.1,
          9.2,
          9.3,
          9.4,
          9.5,
          9.6,
          9.7,
          9.8,
          9.9,
          10,
          10.1,
          10.2,
          10.3,
          10.4,
          10.5,
          10.6,
          10.7,
          10.8,
          10.9
         ],
         "xaxis": "x2",
         "y": [
          0,
          0,
          0,
          0,
          0,
          0,
          0,
          0,
          0,
          0,
          0,
          0,
          0,
          0,
          0,
          0,
          0,
          0,
          0,
          0,
          0,
          0,
          0,
          0,
          0,
          0,
          0,
          0,
          0,
          0,
          0,
          0,
          0,
          0,
          0,
          0,
          0,
          0,
          0,
          0,
          0,
          0,
          0,
          0,
          0,
          0,
          0,
          0,
          0,
          0,
          0,
          0,
          0,
          0,
          0,
          0,
          0,
          0,
          0,
          0,
          0,
          0,
          0,
          0,
          0,
          0,
          0,
          0,
          0,
          0,
          0,
          0,
          0,
          0,
          0,
          0,
          0,
          0,
          0,
          0,
          0,
          0,
          0,
          0,
          0,
          0,
          0,
          0,
          0,
          0,
          0,
          0,
          0,
          0,
          0,
          0,
          0,
          0,
          0,
          0,
          0,
          0,
          0,
          0,
          0,
          0,
          0,
          0,
          0,
          0
         ],
         "yaxis": "y2"
        }
       ],
       "layout": {
        "autosize": false,
        "font": {
         "color": "black",
         "family": "Arial",
         "size": 16
        },
        "height": 450,
        "legend": {
         "orientation": "h",
         "x": 0.01,
         "xanchor": "left",
         "y": 1.15,
         "yanchor": "top"
        },
        "template": {
         "data": {
          "bar": [
           {
            "error_x": {
             "color": "#2a3f5f"
            },
            "error_y": {
             "color": "#2a3f5f"
            },
            "marker": {
             "line": {
              "color": "white",
              "width": 0.5
             }
            },
            "type": "bar"
           }
          ],
          "barpolar": [
           {
            "marker": {
             "line": {
              "color": "white",
              "width": 0.5
             }
            },
            "type": "barpolar"
           }
          ],
          "carpet": [
           {
            "aaxis": {
             "endlinecolor": "#2a3f5f",
             "gridcolor": "#C8D4E3",
             "linecolor": "#C8D4E3",
             "minorgridcolor": "#C8D4E3",
             "startlinecolor": "#2a3f5f"
            },
            "baxis": {
             "endlinecolor": "#2a3f5f",
             "gridcolor": "#C8D4E3",
             "linecolor": "#C8D4E3",
             "minorgridcolor": "#C8D4E3",
             "startlinecolor": "#2a3f5f"
            },
            "type": "carpet"
           }
          ],
          "choropleth": [
           {
            "colorbar": {
             "outlinewidth": 0,
             "ticks": ""
            },
            "type": "choropleth"
           }
          ],
          "contour": [
           {
            "colorbar": {
             "outlinewidth": 0,
             "ticks": ""
            },
            "colorscale": [
             [
              0,
              "#0d0887"
             ],
             [
              0.1111111111111111,
              "#46039f"
             ],
             [
              0.2222222222222222,
              "#7201a8"
             ],
             [
              0.3333333333333333,
              "#9c179e"
             ],
             [
              0.4444444444444444,
              "#bd3786"
             ],
             [
              0.5555555555555556,
              "#d8576b"
             ],
             [
              0.6666666666666666,
              "#ed7953"
             ],
             [
              0.7777777777777778,
              "#fb9f3a"
             ],
             [
              0.8888888888888888,
              "#fdca26"
             ],
             [
              1,
              "#f0f921"
             ]
            ],
            "type": "contour"
           }
          ],
          "contourcarpet": [
           {
            "colorbar": {
             "outlinewidth": 0,
             "ticks": ""
            },
            "type": "contourcarpet"
           }
          ],
          "heatmap": [
           {
            "colorbar": {
             "outlinewidth": 0,
             "ticks": ""
            },
            "colorscale": [
             [
              0,
              "#0d0887"
             ],
             [
              0.1111111111111111,
              "#46039f"
             ],
             [
              0.2222222222222222,
              "#7201a8"
             ],
             [
              0.3333333333333333,
              "#9c179e"
             ],
             [
              0.4444444444444444,
              "#bd3786"
             ],
             [
              0.5555555555555556,
              "#d8576b"
             ],
             [
              0.6666666666666666,
              "#ed7953"
             ],
             [
              0.7777777777777778,
              "#fb9f3a"
             ],
             [
              0.8888888888888888,
              "#fdca26"
             ],
             [
              1,
              "#f0f921"
             ]
            ],
            "type": "heatmap"
           }
          ],
          "heatmapgl": [
           {
            "colorbar": {
             "outlinewidth": 0,
             "ticks": ""
            },
            "colorscale": [
             [
              0,
              "#0d0887"
             ],
             [
              0.1111111111111111,
              "#46039f"
             ],
             [
              0.2222222222222222,
              "#7201a8"
             ],
             [
              0.3333333333333333,
              "#9c179e"
             ],
             [
              0.4444444444444444,
              "#bd3786"
             ],
             [
              0.5555555555555556,
              "#d8576b"
             ],
             [
              0.6666666666666666,
              "#ed7953"
             ],
             [
              0.7777777777777778,
              "#fb9f3a"
             ],
             [
              0.8888888888888888,
              "#fdca26"
             ],
             [
              1,
              "#f0f921"
             ]
            ],
            "type": "heatmapgl"
           }
          ],
          "histogram": [
           {
            "marker": {
             "colorbar": {
              "outlinewidth": 0,
              "ticks": ""
             }
            },
            "type": "histogram"
           }
          ],
          "histogram2d": [
           {
            "colorbar": {
             "outlinewidth": 0,
             "ticks": ""
            },
            "colorscale": [
             [
              0,
              "#0d0887"
             ],
             [
              0.1111111111111111,
              "#46039f"
             ],
             [
              0.2222222222222222,
              "#7201a8"
             ],
             [
              0.3333333333333333,
              "#9c179e"
             ],
             [
              0.4444444444444444,
              "#bd3786"
             ],
             [
              0.5555555555555556,
              "#d8576b"
             ],
             [
              0.6666666666666666,
              "#ed7953"
             ],
             [
              0.7777777777777778,
              "#fb9f3a"
             ],
             [
              0.8888888888888888,
              "#fdca26"
             ],
             [
              1,
              "#f0f921"
             ]
            ],
            "type": "histogram2d"
           }
          ],
          "histogram2dcontour": [
           {
            "colorbar": {
             "outlinewidth": 0,
             "ticks": ""
            },
            "colorscale": [
             [
              0,
              "#0d0887"
             ],
             [
              0.1111111111111111,
              "#46039f"
             ],
             [
              0.2222222222222222,
              "#7201a8"
             ],
             [
              0.3333333333333333,
              "#9c179e"
             ],
             [
              0.4444444444444444,
              "#bd3786"
             ],
             [
              0.5555555555555556,
              "#d8576b"
             ],
             [
              0.6666666666666666,
              "#ed7953"
             ],
             [
              0.7777777777777778,
              "#fb9f3a"
             ],
             [
              0.8888888888888888,
              "#fdca26"
             ],
             [
              1,
              "#f0f921"
             ]
            ],
            "type": "histogram2dcontour"
           }
          ],
          "mesh3d": [
           {
            "colorbar": {
             "outlinewidth": 0,
             "ticks": ""
            },
            "type": "mesh3d"
           }
          ],
          "parcoords": [
           {
            "line": {
             "colorbar": {
              "outlinewidth": 0,
              "ticks": ""
             }
            },
            "type": "parcoords"
           }
          ],
          "pie": [
           {
            "automargin": true,
            "type": "pie"
           }
          ],
          "scatter": [
           {
            "marker": {
             "colorbar": {
              "outlinewidth": 0,
              "ticks": ""
             }
            },
            "type": "scatter"
           }
          ],
          "scatter3d": [
           {
            "line": {
             "colorbar": {
              "outlinewidth": 0,
              "ticks": ""
             }
            },
            "marker": {
             "colorbar": {
              "outlinewidth": 0,
              "ticks": ""
             }
            },
            "type": "scatter3d"
           }
          ],
          "scattercarpet": [
           {
            "marker": {
             "colorbar": {
              "outlinewidth": 0,
              "ticks": ""
             }
            },
            "type": "scattercarpet"
           }
          ],
          "scattergeo": [
           {
            "marker": {
             "colorbar": {
              "outlinewidth": 0,
              "ticks": ""
             }
            },
            "type": "scattergeo"
           }
          ],
          "scattergl": [
           {
            "marker": {
             "colorbar": {
              "outlinewidth": 0,
              "ticks": ""
             }
            },
            "type": "scattergl"
           }
          ],
          "scattermapbox": [
           {
            "marker": {
             "colorbar": {
              "outlinewidth": 0,
              "ticks": ""
             }
            },
            "type": "scattermapbox"
           }
          ],
          "scatterpolar": [
           {
            "marker": {
             "colorbar": {
              "outlinewidth": 0,
              "ticks": ""
             }
            },
            "type": "scatterpolar"
           }
          ],
          "scatterpolargl": [
           {
            "marker": {
             "colorbar": {
              "outlinewidth": 0,
              "ticks": ""
             }
            },
            "type": "scatterpolargl"
           }
          ],
          "scatterternary": [
           {
            "marker": {
             "colorbar": {
              "outlinewidth": 0,
              "ticks": ""
             }
            },
            "type": "scatterternary"
           }
          ],
          "surface": [
           {
            "colorbar": {
             "outlinewidth": 0,
             "ticks": ""
            },
            "colorscale": [
             [
              0,
              "#0d0887"
             ],
             [
              0.1111111111111111,
              "#46039f"
             ],
             [
              0.2222222222222222,
              "#7201a8"
             ],
             [
              0.3333333333333333,
              "#9c179e"
             ],
             [
              0.4444444444444444,
              "#bd3786"
             ],
             [
              0.5555555555555556,
              "#d8576b"
             ],
             [
              0.6666666666666666,
              "#ed7953"
             ],
             [
              0.7777777777777778,
              "#fb9f3a"
             ],
             [
              0.8888888888888888,
              "#fdca26"
             ],
             [
              1,
              "#f0f921"
             ]
            ],
            "type": "surface"
           }
          ],
          "table": [
           {
            "cells": {
             "fill": {
              "color": "#EBF0F8"
             },
             "line": {
              "color": "white"
             }
            },
            "header": {
             "fill": {
              "color": "#C8D4E3"
             },
             "line": {
              "color": "white"
             }
            },
            "type": "table"
           }
          ]
         },
         "layout": {
          "annotationdefaults": {
           "arrowcolor": "#2a3f5f",
           "arrowhead": 0,
           "arrowwidth": 1
          },
          "coloraxis": {
           "colorbar": {
            "outlinewidth": 0,
            "ticks": ""
           }
          },
          "colorscale": {
           "diverging": [
            [
             0,
             "#8e0152"
            ],
            [
             0.1,
             "#c51b7d"
            ],
            [
             0.2,
             "#de77ae"
            ],
            [
             0.3,
             "#f1b6da"
            ],
            [
             0.4,
             "#fde0ef"
            ],
            [
             0.5,
             "#f7f7f7"
            ],
            [
             0.6,
             "#e6f5d0"
            ],
            [
             0.7,
             "#b8e186"
            ],
            [
             0.8,
             "#7fbc41"
            ],
            [
             0.9,
             "#4d9221"
            ],
            [
             1,
             "#276419"
            ]
           ],
           "sequential": [
            [
             0,
             "#0d0887"
            ],
            [
             0.1111111111111111,
             "#46039f"
            ],
            [
             0.2222222222222222,
             "#7201a8"
            ],
            [
             0.3333333333333333,
             "#9c179e"
            ],
            [
             0.4444444444444444,
             "#bd3786"
            ],
            [
             0.5555555555555556,
             "#d8576b"
            ],
            [
             0.6666666666666666,
             "#ed7953"
            ],
            [
             0.7777777777777778,
             "#fb9f3a"
            ],
            [
             0.8888888888888888,
             "#fdca26"
            ],
            [
             1,
             "#f0f921"
            ]
           ],
           "sequentialminus": [
            [
             0,
             "#0d0887"
            ],
            [
             0.1111111111111111,
             "#46039f"
            ],
            [
             0.2222222222222222,
             "#7201a8"
            ],
            [
             0.3333333333333333,
             "#9c179e"
            ],
            [
             0.4444444444444444,
             "#bd3786"
            ],
            [
             0.5555555555555556,
             "#d8576b"
            ],
            [
             0.6666666666666666,
             "#ed7953"
            ],
            [
             0.7777777777777778,
             "#fb9f3a"
            ],
            [
             0.8888888888888888,
             "#fdca26"
            ],
            [
             1,
             "#f0f921"
            ]
           ]
          },
          "colorway": [
           "#636efa",
           "#EF553B",
           "#00cc96",
           "#ab63fa",
           "#FFA15A",
           "#19d3f3",
           "#FF6692",
           "#B6E880",
           "#FF97FF",
           "#FECB52"
          ],
          "font": {
           "color": "#2a3f5f"
          },
          "geo": {
           "bgcolor": "white",
           "lakecolor": "white",
           "landcolor": "white",
           "showlakes": true,
           "showland": true,
           "subunitcolor": "#C8D4E3"
          },
          "hoverlabel": {
           "align": "left"
          },
          "hovermode": "closest",
          "mapbox": {
           "style": "light"
          },
          "paper_bgcolor": "white",
          "plot_bgcolor": "white",
          "polar": {
           "angularaxis": {
            "gridcolor": "#EBF0F8",
            "linecolor": "#EBF0F8",
            "ticks": ""
           },
           "bgcolor": "white",
           "radialaxis": {
            "gridcolor": "#EBF0F8",
            "linecolor": "#EBF0F8",
            "ticks": ""
           }
          },
          "scene": {
           "xaxis": {
            "backgroundcolor": "white",
            "gridcolor": "#DFE8F3",
            "gridwidth": 2,
            "linecolor": "#EBF0F8",
            "showbackground": true,
            "ticks": "",
            "zerolinecolor": "#EBF0F8"
           },
           "yaxis": {
            "backgroundcolor": "white",
            "gridcolor": "#DFE8F3",
            "gridwidth": 2,
            "linecolor": "#EBF0F8",
            "showbackground": true,
            "ticks": "",
            "zerolinecolor": "#EBF0F8"
           },
           "zaxis": {
            "backgroundcolor": "white",
            "gridcolor": "#DFE8F3",
            "gridwidth": 2,
            "linecolor": "#EBF0F8",
            "showbackground": true,
            "ticks": "",
            "zerolinecolor": "#EBF0F8"
           }
          },
          "shapedefaults": {
           "line": {
            "color": "#2a3f5f"
           }
          },
          "ternary": {
           "aaxis": {
            "gridcolor": "#DFE8F3",
            "linecolor": "#A2B1C6",
            "ticks": ""
           },
           "baxis": {
            "gridcolor": "#DFE8F3",
            "linecolor": "#A2B1C6",
            "ticks": ""
           },
           "bgcolor": "white",
           "caxis": {
            "gridcolor": "#DFE8F3",
            "linecolor": "#A2B1C6",
            "ticks": ""
           }
          },
          "title": {
           "x": 0.05
          },
          "xaxis": {
           "automargin": true,
           "gridcolor": "#EBF0F8",
           "linecolor": "#EBF0F8",
           "ticks": "",
           "title": {
            "standoff": 15
           },
           "zerolinecolor": "#EBF0F8",
           "zerolinewidth": 2
          },
          "yaxis": {
           "automargin": true,
           "gridcolor": "#EBF0F8",
           "linecolor": "#EBF0F8",
           "ticks": "",
           "title": {
            "standoff": 15
           },
           "zerolinecolor": "#EBF0F8",
           "zerolinewidth": 2
          }
         }
        },
        "title": {
         "text": "Tire Slip Angle & Saturation (locked) Status"
        },
        "width": 800,
        "xaxis": {
         "anchor": "y",
         "domain": [
          0,
          1
         ],
         "linecolor": "black",
         "linewidth": 1,
         "matches": "x2",
         "showgrid": false,
         "showline": true,
         "showticklabels": false,
         "tickcolor": "black",
         "ticklen": 10,
         "ticks": "outside",
         "tickwidth": 1,
         "title": {
          "text": ""
         },
         "zeroline": false
        },
        "xaxis2": {
         "anchor": "y2",
         "domain": [
          0,
          1
         ],
         "linecolor": "black",
         "linewidth": 1,
         "showgrid": false,
         "showline": true,
         "tickcolor": "black",
         "ticklen": 10,
         "ticks": "outside",
         "tickwidth": 1,
         "title": {
          "text": "Time (s)"
         },
         "zeroline": false
        },
        "yaxis": {
         "anchor": "x",
         "domain": [
          0.555,
          1
         ],
         "linecolor": "black",
         "linewidth": 1,
         "showgrid": false,
         "showline": true,
         "tickcolor": "black",
         "ticklen": 10,
         "ticks": "outside",
         "tickwidth": 1,
         "title": {
          "text": "Slip Angle (degrees)"
         },
         "zeroline": false
        },
        "yaxis2": {
         "anchor": "x2",
         "domain": [
          0,
          0.445
         ],
         "linecolor": "black",
         "linewidth": 1,
         "showgrid": false,
         "showline": true,
         "tickcolor": "black",
         "ticklen": 10,
         "ticks": "outside",
         "tickwidth": 1,
         "title": {
          "text": "Locked Satus"
         },
         "zeroline": false
        }
       }
      },
      "text/html": [
       "<div>\n",
       "        \n",
       "        \n",
       "            <div id=\"2bf44071-6878-4aa3-90ab-213b7faf2ff2\" class=\"plotly-graph-div\" style=\"height:450px; width:800px;\"></div>\n",
       "            <script type=\"text/javascript\">\n",
       "                require([\"plotly\"], function(Plotly) {\n",
       "                    window.PLOTLYENV=window.PLOTLYENV || {};\n",
       "                    \n",
       "                if (document.getElementById(\"2bf44071-6878-4aa3-90ab-213b7faf2ff2\")) {\n",
       "                    Plotly.newPlot(\n",
       "                        '2bf44071-6878-4aa3-90ab-213b7faf2ff2',\n",
       "                        [{\"line\": {\"color\": \"rgb(0, 0, 255)\", \"dash\": \"solid\", \"width\": 1}, \"mode\": \"lines\", \"name\": \"LF\", \"type\": \"scatter\", \"x\": [0.0, 0.1, 0.2, 0.3, 0.4, 0.5, 0.6, 0.7, 0.8, 0.9, 1.0, 1.1, 1.2, 1.3, 1.4, 1.5, 1.6, 1.7, 1.8, 1.9, 2.0, 2.1, 2.2, 2.3, 2.4, 2.5, 2.6, 2.7, 2.8, 2.9, 3.0, 3.1, 3.2, 3.3, 3.4, 3.5, 3.6, 3.7, 3.8, 3.9, 4.0, 4.1, 4.2, 4.3, 4.4, 4.5, 4.6, 4.7, 4.8, 4.9, 5.0, 5.1, 5.2, 5.3, 5.4, 5.5, 5.6, 5.7, 5.8, 5.9, 6.0, 6.1, 6.2, 6.3, 6.4, 6.5, 6.6, 6.7, 6.8, 6.9, 7.0, 7.1, 7.2, 7.3, 7.4, 7.5, 7.6, 7.7, 7.8, 7.9, 8.0, 8.1, 8.2, 8.3, 8.4, 8.5, 8.6, 8.7, 8.8, 8.9, 9.0, 9.1, 9.2, 9.3, 9.4, 9.5, 9.6, 9.7, 9.8, 9.9, 10.0, 10.1, 10.2, 10.3, 10.4, 10.5, 10.6, 10.7, 10.8, 10.9], \"xaxis\": \"x\", \"y\": [0.0, 0.0, 0.0, 0.0, 0.0, 0.0, 0.0, 0.0, 0.0, 0.0, 0.0, -2.037739056603774, -3.6738500358169257, -4.232741682999597, -4.338368850315258, -4.6492724011174165, -5.3191495087223, -6.153069860545303, -6.92627041567466, -7.534394835843822, -7.974328650780382, -6.314242233786621, -4.992796358247114, -4.787814694055778, -5.258181664033223, -5.627720254742845, -5.541791881578005, -5.134174654240911, -4.703415118932111, -4.424366629293269, -4.283620315511071, -4.181264493670449, -4.047608843532174, -3.881119707174659, -3.7159507320342087, -3.5770578527146526, -3.4636179939446032, -3.3607691869890663, -3.257382334594469, -3.1528319417155597, -3.052222381549561, -2.9591321268014763, -2.872943013653887, -2.7909224553811156, -2.7112059115324048, -2.633759281470412, -2.559379131622987, -2.4884357547479947, -2.420552546565243, -2.3550961541940456, -2.291699510248536, -2.230339972937198, -2.171088790836462, -2.113892262573504, -2.058567282112208, -2.0049255218233353, -1.9528590819467118, -1.9023238715978459, -1.8532768888848405, -1.8056436729336494, -1.7593336915147084, -1.714269573838925, -1.6703966019961627, -1.627670812051513, -1.5860451096044337, -1.545467211571564, -1.5058865454190578, -1.4672596961768332, -1.4295493983661354, -1.392720303529249, -1.3567367295081334, -1.3215637089256052, -1.2871689025720765, -1.253522993834731, -1.2205985933223922, -1.188369186490905, -1.1568090680648953, -1.1258938714407183, -1.0956008414060578, -1.0659085733458733, -1.0367965981279332, -1.0082452251077603, -0.9802356484082424, -0.9527500494862858, -0.9257715298403331, -0.8992839485382254, -0.8732718188765858, -0.847720306983006, -0.8226152550889009, -0.7979431546352835, -0.7736910762585487, -0.7498466107924102, -0.726397848161696, -0.7033333731543727, -0.6806422474300677, -0.6583139740795227, -0.6363384633382124, -0.6147060125549867, -0.5934072950487286, -0.5724333456576305, -0.5517755396373877, -0.5314255713555242, -0.5113754386532451, -0.491617431603874, -0.4721441207799012, -0.4529483431221673, -0.43402318772130183, -0.4153619840719536, -0.3969582925224377, -0.37880589490134786], \"yaxis\": \"y\"}, {\"line\": {\"color\": \"rgb(0, 255, 0)\", \"dash\": \"solid\", \"width\": 1}, \"mode\": \"lines\", \"name\": \"RF\", \"type\": \"scatter\", \"x\": [0.0, 0.1, 0.2, 0.3, 0.4, 0.5, 0.6, 0.7, 0.8, 0.9, 1.0, 1.1, 1.2, 1.3, 1.4, 1.5, 1.6, 1.7, 1.8, 1.9, 2.0, 2.1, 2.2, 2.3, 2.4, 2.5, 2.6, 2.7, 2.8, 2.9, 3.0, 3.1, 3.2, 3.3, 3.4, 3.5, 3.6, 3.7, 3.8, 3.9, 4.0, 4.1, 4.2, 4.3, 4.4, 4.5, 4.6, 4.7, 4.8, 4.9, 5.0, 5.1, 5.2, 5.3, 5.4, 5.5, 5.6, 5.7, 5.8, 5.9, 6.0, 6.1, 6.2, 6.3, 6.4, 6.5, 6.6, 6.7, 6.8, 6.9, 7.0, 7.1, 7.2, 7.3, 7.4, 7.5, 7.6, 7.7, 7.8, 7.9, 8.0, 8.1, 8.2, 8.3, 8.4, 8.5, 8.6, 8.7, 8.8, 8.9, 9.0, 9.1, 9.2, 9.3, 9.4, 9.5, 9.6, 9.7, 9.8, 9.9, 10.0, 10.1, 10.2, 10.3, 10.4, 10.5, 10.6, 10.7, 10.8, 10.9], \"xaxis\": \"x\", \"y\": [0.0, 0.0, 0.0, 0.0, 0.0, 0.0, 0.0, 0.0, 0.0, 0.0, 0.0, -2.037739056603774, -3.677471988825095, -4.283657594057909, -4.53464571957576, -5.07736224472671, -6.0255627697965775, -7.174632284102796, -8.317095678536242, -9.367722103283056, -10.33275697951444, -9.262578935456068, -8.4164303031541, -8.366632139551458, -8.7548087143691, -9.02234653430421, -8.931904040650885, -8.600307361948136, -8.255897189092718, -8.026943784371493, -7.900506982215731, -7.801976937207925, -7.681130753429906, -7.538307050917824, -7.3991300924751515, -7.281349999155029, -7.18343356038847, -7.093925270277808, -7.004629372274701, -6.915268035264053, -6.829655961082745, -6.750301226158977, -6.6765697211817505, -6.6063446601789995, -6.5382384148861155, -6.472239049566051, -6.408919114878015, -6.348505672132869, -6.290672437784009, -6.234922847853906, -6.180973890412901, -6.128799381750353, -6.078436015915419, -6.029823865217563, -5.982809670763828, -5.9372416465105555, -5.8930307606948364, -5.850135137548483, -5.808512573195769, -5.768097638612593, -5.728814435278587, -5.6905983437377605, -5.653402222911779, -5.617186934174034, -5.581911086861665, -5.547529900952582, -5.514000512398523, -5.481285857688462, -5.449353677042198, -5.418173285305102, -5.387713977431393, -5.35794588809232, -5.328841394599787, -5.300375328224886, -5.272524104137235, -5.2452649415221115, -5.218575838324539, -5.192435964971924, -5.166825840201905, -5.141727109737821, -5.117122228547303, -5.092994347404824, -5.06932739145097, -5.046106126196825, -5.02331609440498, -5.000943487573637, -4.978975067015039, -4.957398160970822, -4.936200676861797, -4.915371074565306, -4.89489830917338, -4.874771784313627, -4.854981334289367, -4.835517217808615, -4.816370100738902, -4.797531026358309, -4.778991387466275, -4.760742909547953, -4.742777640302423, -4.7250879364327885, -4.707666445666572, -4.69050608906994, -4.673600047844222, -4.65694175335954, -4.640524876738612, -4.62434331674741, -4.608391187836431, -4.592662810174999, -4.577152701341584, -4.561855568135164], \"yaxis\": \"y\"}, {\"line\": {\"color\": \"rgb(153, 0, 204)\", \"dash\": \"solid\", \"width\": 1}, \"mode\": \"lines\", \"name\": \"RR\", \"type\": \"scatter\", \"x\": [0.0, 0.1, 0.2, 0.3, 0.4, 0.5, 0.6, 0.7, 0.8, 0.9, 1.0, 1.1, 1.2, 1.3, 1.4, 1.5, 1.6, 1.7, 1.8, 1.9, 2.0, 2.1, 2.2, 2.3, 2.4, 2.5, 2.6, 2.7, 2.8, 2.9, 3.0, 3.1, 3.2, 3.3, 3.4, 3.5, 3.6, 3.7, 3.8, 3.9, 4.0, 4.1, 4.2, 4.3, 4.4, 4.5, 4.6, 4.7, 4.8, 4.9, 5.0, 5.1, 5.2, 5.3, 5.4, 5.5, 5.6, 5.7, 5.8, 5.9, 6.0, 6.1, 6.2, 6.3, 6.4, 6.5, 6.6, 6.7, 6.8, 6.9, 7.0, 7.1, 7.2, 7.3, 7.4, 7.5, 7.6, 7.7, 7.8, 7.9, 8.0, 8.1, 8.2, 8.3, 8.4, 8.5, 8.6, 8.7, 8.8, 8.9, 9.0, 9.1, 9.2, 9.3, 9.4, 9.5, 9.6, 9.7, 9.8, 9.9, 10.0, 10.1, 10.2, 10.3, 10.4, 10.5, 10.6, 10.7, 10.8, 10.9], \"xaxis\": \"x\", \"y\": [-0.0, -0.0, -0.0, -0.0, -0.0, -0.0, -0.0, -0.0, -0.0, -0.0, -0.0, -0.0, 0.04063954967771828, 0.07240903733716757, -0.13645104648200157, -0.7355488562784231, -1.6233131155005092, -2.577821946738115, -3.4404609349419895, -4.172517825540184, -4.805415438237235, -5.393218310503528, -6.0217105852871375, -6.657731647952584, -7.084318594040087, -7.157595958648411, -6.942506195298779, -6.610916263585298, -6.302370833036964, -6.06296105019717, -5.869158275028172, -5.684927109809007, -5.497411999672478, -5.315876505309802, -5.15294292895886, -5.011432681360043, -4.8849513264581175, -4.765815002137846, -4.650748917363391, -4.5406979305919934, -4.437447617521764, -4.34118115195881, -4.2505455715110685, -4.164053639580539, -4.081045897780751, -4.001575590043404, -3.925769835481908, -3.853435104421644, -3.784140358374286, -3.7174987274257756, -3.653312401109366, -3.5915063745509985, -3.53199558004196, -3.474630399679712, -3.4192359256773384, -3.3656693738578918, -3.313834324537051, -3.263654975456373, -3.2150494135993366, -3.167926431188362, -3.122198800625855, -3.0777933206509447, -3.0346487796368797, -2.992707991161992, -2.9519134104971485, -2.9122087925913687, -2.873542610608717, -2.8358689051543537, -2.7991454155411875, -2.7633316028334263, -2.728388334708041, -2.6942787183551706, -2.660968631095855, -2.628426351175208, -2.5966218326208512, -2.565526346738192, -2.535112592734577, -2.5053548749929546, -2.4762290294703835, -2.4477121624572655, -2.4197824461110486, -2.392419078578405, -2.3656023138380644, -2.3393134320988125, -2.3135346344165186, -2.2882489364957483, -2.263440117032344, -2.2390927033955363, -2.215191947076006, -2.1917237718508047, -2.168674716222202, -2.1460318939986673, -2.1237829721640513, -2.101916149120584, -2.080420123847949, -2.0592840618473405, -2.0384975675397485, -2.0180506644724443, -1.9979337773026713, -1.97813771105706, -1.9586536291673415, -1.939473034139574, -1.9205877518726815, -1.901989917403255, -1.8836719600374887, -1.865626588218895, -1.847846775685476, -1.830325749455003, -1.813056978767766, -1.7960341640693764], \"yaxis\": \"y\"}, {\"line\": {\"color\": \"rgb(255, 102, 0)\", \"dash\": \"solid\", \"width\": 1}, \"mode\": \"lines\", \"name\": \"LR\", \"type\": \"scatter\", \"x\": [0.0, 0.1, 0.2, 0.3, 0.4, 0.5, 0.6, 0.7, 0.8, 0.9, 1.0, 1.1, 1.2, 1.3, 1.4, 1.5, 1.6, 1.7, 1.8, 1.9, 2.0, 2.1, 2.2, 2.3, 2.4, 2.5, 2.6, 2.7, 2.8, 2.9, 3.0, 3.1, 3.2, 3.3, 3.4, 3.5, 3.6, 3.7, 3.8, 3.9, 4.0, 4.1, 4.2, 4.3, 4.4, 4.5, 4.6, 4.7, 4.8, 4.9, 5.0, 5.1, 5.2, 5.3, 5.4, 5.5, 5.6, 5.7, 5.8, 5.9, 6.0, 6.1, 6.2, 6.3, 6.4, 6.5, 6.6, 6.7, 6.8, 6.9, 7.0, 7.1, 7.2, 7.3, 7.4, 7.5, 7.6, 7.7, 7.8, 7.9, 8.0, 8.1, 8.2, 8.3, 8.4, 8.5, 8.6, 8.7, 8.8, 8.9, 9.0, 9.1, 9.2, 9.3, 9.4, 9.5, 9.6, 9.7, 9.8, 9.9, 10.0, 10.1, 10.2, 10.3, 10.4, 10.5, 10.6, 10.7, 10.8, 10.9], \"xaxis\": \"x\", \"y\": [-0.0, -0.0, -0.0, -0.0, -0.0, -0.0, -0.0, -0.0, -0.0, -0.0, -0.0, -0.0, 0.040875298984174586, 0.07402611932337372, -0.14271095127120015, -0.7883037442508024, -1.7815764637202882, -2.8944686051116864, -3.950585304641184, -4.9003559259855844, -5.774915098332561, -6.632355389593337, -7.541490127087869, -8.405755040111375, -8.943399817777312, -9.012146484102239, -8.729759669803647, -8.31660697390689, -7.935599662455481, -7.635687218329604, -7.387092285770944, -7.149003228603814, -6.908951142894077, -6.6791038957657625, -6.473848533572521, -6.295351520406038, -6.135246918407228, -5.984280489092423, -5.838755219450044, -5.699920469947921, -5.569826262090068, -5.448518198741653, -5.334255253403953, -5.2252268817626115, -5.120658075649534, -5.02061455475783, -4.925220547056447, -4.834204352388641, -4.747020116500399, -4.6631909444289175, -4.582473828701665, -4.504770568783574, -4.429966330306774, -4.3578681276159585, -4.2882556875736295, -4.220950641405153, -4.155831536582537, -4.09280122531486, -4.031754742241158, -3.9725763989117997, -3.9151563173439192, -3.859402303401682, -3.8052368727024217, -3.752587405123374, -3.701380977944976, -3.6515465644886325, -3.603019193078986, -3.5557408520560414, -3.5096581158692848, -3.4647197382531876, -3.420876316726213, -3.3780813265955167, -3.3362917398587086, -3.2954675366421027, -3.2555708059988255, -3.216565316058112, -3.1784166564659797, -3.141092448771459, -3.10456224284049, -3.0687971883816063, -3.0337697837902233, -2.99945382864992, -2.965824458236204, -2.932858102066655, -2.900532350156554, -2.86882582088493, -2.8377180971370812, -2.807189707565752, -2.7772220941518144, -2.7477975462118627, -2.7188991282314254, -2.6905106306482605, -2.662616541809268, -2.6352020200083284, -2.6082528542786982, -2.5817554215263354, -2.5556966519001496, -2.5300640038105535, -2.504845441021509, -2.4800294063557344, -2.455604794005632, -2.4315609252222297, -2.407887528542505, -2.3845747217465116, -2.361612993052224, -2.3389931820345695, -2.3167064621983644, -2.2947443258352593, -2.273098570060089, -2.251761282899954], \"yaxis\": \"y\"}, {\"line\": {\"color\": \"rgb(0, 0, 255)\", \"dash\": \"solid\", \"width\": 1}, \"mode\": \"lines\", \"name\": \"LF\", \"showlegend\": false, \"type\": \"scatter\", \"x\": [0.0, 0.1, 0.2, 0.3, 0.4, 0.5, 0.6, 0.7, 0.8, 0.9, 1.0, 1.1, 1.2, 1.3, 1.4, 1.5, 1.6, 1.7, 1.8, 1.9, 2.0, 2.1, 2.2, 2.3, 2.4, 2.5, 2.6, 2.7, 2.8, 2.9, 3.0, 3.1, 3.2, 3.3, 3.4, 3.5, 3.6, 3.7, 3.8, 3.9, 4.0, 4.1, 4.2, 4.3, 4.4, 4.5, 4.6, 4.7, 4.8, 4.9, 5.0, 5.1, 5.2, 5.3, 5.4, 5.5, 5.6, 5.7, 5.8, 5.9, 6.0, 6.1, 6.2, 6.3, 6.4, 6.5, 6.6, 6.7, 6.8, 6.9, 7.0, 7.1, 7.2, 7.3, 7.4, 7.5, 7.6, 7.7, 7.8, 7.9, 8.0, 8.1, 8.2, 8.3, 8.4, 8.5, 8.6, 8.7, 8.8, 8.9, 9.0, 9.1, 9.2, 9.3, 9.4, 9.5, 9.6, 9.7, 9.8, 9.9, 10.0, 10.1, 10.2, 10.3, 10.4, 10.5, 10.6, 10.7, 10.8, 10.9], \"xaxis\": \"x2\", \"y\": [0.0, 0.0, 0.0, 0.0, 0.0, 0.0, 0.0, 0.0, 0.0, 0.0, 0.0, 0.0, 0.0, 0.0, 0.0, 0.0, 0.0, 0.0, 0.0, 0.0, 0.0, 0.0, 0.0, 0.0, 0.0, 0.0, 0.0, 0.0, 0.0, 0.0, 0.0, 0.0, 0.0, 0.0, 0.0, 0.0, 0.0, 0.0, 0.0, 0.0, 0.0, 0.0, 0.0, 0.0, 0.0, 0.0, 0.0, 0.0, 0.0, 0.0, 0.0, 0.0, 0.0, 0.0, 0.0, 0.0, 0.0, 0.0, 0.0, 0.0, 0.0, 0.0, 0.0, 0.0, 0.0, 0.0, 0.0, 0.0, 0.0, 0.0, 0.0, 0.0, 0.0, 0.0, 0.0, 0.0, 0.0, 0.0, 0.0, 0.0, 0.0, 0.0, 0.0, 0.0, 0.0, 0.0, 0.0, 0.0, 0.0, 0.0, 0.0, 0.0, 0.0, 0.0, 0.0, 0.0, 0.0, 0.0, 0.0, 0.0, 0.0, 0.0, 0.0, 0.0, 0.0, 0.0, 0.0, 0.0, 0.0, 0.0], \"yaxis\": \"y2\"}, {\"line\": {\"color\": \"rgb(0, 255, 0)\", \"dash\": \"solid\", \"width\": 1}, \"mode\": \"lines\", \"name\": \"RF\", \"showlegend\": false, \"type\": \"scatter\", \"x\": [0.0, 0.1, 0.2, 0.3, 0.4, 0.5, 0.6, 0.7, 0.8, 0.9, 1.0, 1.1, 1.2, 1.3, 1.4, 1.5, 1.6, 1.7, 1.8, 1.9, 2.0, 2.1, 2.2, 2.3, 2.4, 2.5, 2.6, 2.7, 2.8, 2.9, 3.0, 3.1, 3.2, 3.3, 3.4, 3.5, 3.6, 3.7, 3.8, 3.9, 4.0, 4.1, 4.2, 4.3, 4.4, 4.5, 4.6, 4.7, 4.8, 4.9, 5.0, 5.1, 5.2, 5.3, 5.4, 5.5, 5.6, 5.7, 5.8, 5.9, 6.0, 6.1, 6.2, 6.3, 6.4, 6.5, 6.6, 6.7, 6.8, 6.9, 7.0, 7.1, 7.2, 7.3, 7.4, 7.5, 7.6, 7.7, 7.8, 7.9, 8.0, 8.1, 8.2, 8.3, 8.4, 8.5, 8.6, 8.7, 8.8, 8.9, 9.0, 9.1, 9.2, 9.3, 9.4, 9.5, 9.6, 9.7, 9.8, 9.9, 10.0, 10.1, 10.2, 10.3, 10.4, 10.5, 10.6, 10.7, 10.8, 10.9], \"xaxis\": \"x2\", \"y\": [0.0, 0.0, 0.0, 0.0, 0.0, 0.0, 0.0, 0.0, 0.0, 0.0, 0.0, 0.0, 0.0, 0.0, 0.0, 0.0, 0.0, 0.0, 0.0, 0.0, 0.0, 0.0, 0.0, 0.0, 0.0, 0.0, 0.0, 0.0, 0.0, 0.0, 0.0, 0.0, 0.0, 0.0, 0.0, 0.0, 0.0, 0.0, 0.0, 0.0, 0.0, 0.0, 0.0, 0.0, 0.0, 0.0, 0.0, 0.0, 0.0, 0.0, 0.0, 0.0, 0.0, 0.0, 0.0, 0.0, 0.0, 0.0, 0.0, 0.0, 0.0, 0.0, 0.0, 0.0, 0.0, 0.0, 0.0, 0.0, 0.0, 0.0, 0.0, 0.0, 0.0, 0.0, 0.0, 0.0, 0.0, 0.0, 0.0, 0.0, 0.0, 0.0, 0.0, 0.0, 0.0, 0.0, 0.0, 0.0, 0.0, 0.0, 0.0, 0.0, 0.0, 0.0, 0.0, 0.0, 0.0, 0.0, 0.0, 0.0, 0.0, 0.0, 0.0, 0.0, 0.0, 0.0, 0.0, 0.0, 0.0, 0.0], \"yaxis\": \"y2\"}, {\"line\": {\"color\": \"rgb(153, 0, 204)\", \"dash\": \"solid\", \"width\": 1}, \"mode\": \"lines\", \"name\": \"RR\", \"showlegend\": false, \"type\": \"scatter\", \"x\": [0.0, 0.1, 0.2, 0.3, 0.4, 0.5, 0.6, 0.7, 0.8, 0.9, 1.0, 1.1, 1.2, 1.3, 1.4, 1.5, 1.6, 1.7, 1.8, 1.9, 2.0, 2.1, 2.2, 2.3, 2.4, 2.5, 2.6, 2.7, 2.8, 2.9, 3.0, 3.1, 3.2, 3.3, 3.4, 3.5, 3.6, 3.7, 3.8, 3.9, 4.0, 4.1, 4.2, 4.3, 4.4, 4.5, 4.6, 4.7, 4.8, 4.9, 5.0, 5.1, 5.2, 5.3, 5.4, 5.5, 5.6, 5.7, 5.8, 5.9, 6.0, 6.1, 6.2, 6.3, 6.4, 6.5, 6.6, 6.7, 6.8, 6.9, 7.0, 7.1, 7.2, 7.3, 7.4, 7.5, 7.6, 7.7, 7.8, 7.9, 8.0, 8.1, 8.2, 8.3, 8.4, 8.5, 8.6, 8.7, 8.8, 8.9, 9.0, 9.1, 9.2, 9.3, 9.4, 9.5, 9.6, 9.7, 9.8, 9.9, 10.0, 10.1, 10.2, 10.3, 10.4, 10.5, 10.6, 10.7, 10.8, 10.9], \"xaxis\": \"x2\", \"y\": [0.0, 0.0, 0.0, 0.0, 0.0, 0.0, 0.0, 0.0, 0.0, 0.0, 0.0, 0.0, 0.0, 0.0, 0.0, 0.0, 0.0, 0.0, 0.0, 0.0, 0.0, 0.0, 0.0, 0.0, 0.0, 0.0, 0.0, 0.0, 0.0, 0.0, 0.0, 0.0, 0.0, 0.0, 0.0, 0.0, 0.0, 0.0, 0.0, 0.0, 0.0, 0.0, 0.0, 0.0, 0.0, 0.0, 0.0, 0.0, 0.0, 0.0, 0.0, 0.0, 0.0, 0.0, 0.0, 0.0, 0.0, 0.0, 0.0, 0.0, 0.0, 0.0, 0.0, 0.0, 0.0, 0.0, 0.0, 0.0, 0.0, 0.0, 0.0, 0.0, 0.0, 0.0, 0.0, 0.0, 0.0, 0.0, 0.0, 0.0, 0.0, 0.0, 0.0, 0.0, 0.0, 0.0, 0.0, 0.0, 0.0, 0.0, 0.0, 0.0, 0.0, 0.0, 0.0, 0.0, 0.0, 0.0, 0.0, 0.0, 0.0, 0.0, 0.0, 0.0, 0.0, 0.0, 0.0, 0.0, 0.0, 0.0], \"yaxis\": \"y2\"}, {\"line\": {\"color\": \"rgb(255, 102, 0)\", \"dash\": \"solid\", \"width\": 1}, \"mode\": \"lines\", \"name\": \"LR\", \"showlegend\": false, \"type\": \"scatter\", \"x\": [0.0, 0.1, 0.2, 0.3, 0.4, 0.5, 0.6, 0.7, 0.8, 0.9, 1.0, 1.1, 1.2, 1.3, 1.4, 1.5, 1.6, 1.7, 1.8, 1.9, 2.0, 2.1, 2.2, 2.3, 2.4, 2.5, 2.6, 2.7, 2.8, 2.9, 3.0, 3.1, 3.2, 3.3, 3.4, 3.5, 3.6, 3.7, 3.8, 3.9, 4.0, 4.1, 4.2, 4.3, 4.4, 4.5, 4.6, 4.7, 4.8, 4.9, 5.0, 5.1, 5.2, 5.3, 5.4, 5.5, 5.6, 5.7, 5.8, 5.9, 6.0, 6.1, 6.2, 6.3, 6.4, 6.5, 6.6, 6.7, 6.8, 6.9, 7.0, 7.1, 7.2, 7.3, 7.4, 7.5, 7.6, 7.7, 7.8, 7.9, 8.0, 8.1, 8.2, 8.3, 8.4, 8.5, 8.6, 8.7, 8.8, 8.9, 9.0, 9.1, 9.2, 9.3, 9.4, 9.5, 9.6, 9.7, 9.8, 9.9, 10.0, 10.1, 10.2, 10.3, 10.4, 10.5, 10.6, 10.7, 10.8, 10.9], \"xaxis\": \"x2\", \"y\": [0.0, 0.0, 0.0, 0.0, 0.0, 0.0, 0.0, 0.0, 0.0, 0.0, 0.0, 0.0, 0.0, 0.0, 0.0, 0.0, 0.0, 0.0, 0.0, 0.0, 0.0, 0.0, 0.0, 0.0, 0.0, 0.0, 0.0, 0.0, 0.0, 0.0, 0.0, 0.0, 0.0, 0.0, 0.0, 0.0, 0.0, 0.0, 0.0, 0.0, 0.0, 0.0, 0.0, 0.0, 0.0, 0.0, 0.0, 0.0, 0.0, 0.0, 0.0, 0.0, 0.0, 0.0, 0.0, 0.0, 0.0, 0.0, 0.0, 0.0, 0.0, 0.0, 0.0, 0.0, 0.0, 0.0, 0.0, 0.0, 0.0, 0.0, 0.0, 0.0, 0.0, 0.0, 0.0, 0.0, 0.0, 0.0, 0.0, 0.0, 0.0, 0.0, 0.0, 0.0, 0.0, 0.0, 0.0, 0.0, 0.0, 0.0, 0.0, 0.0, 0.0, 0.0, 0.0, 0.0, 0.0, 0.0, 0.0, 0.0, 0.0, 0.0, 0.0, 0.0, 0.0, 0.0, 0.0, 0.0, 0.0, 0.0], \"yaxis\": \"y2\"}],\n",
       "                        {\"autosize\": false, \"font\": {\"color\": \"black\", \"family\": \"Arial\", \"size\": 16}, \"height\": 450, \"legend\": {\"orientation\": \"h\", \"x\": 0.01, \"xanchor\": \"left\", \"y\": 1.15, \"yanchor\": \"top\"}, \"template\": {\"data\": {\"bar\": [{\"error_x\": {\"color\": \"#2a3f5f\"}, \"error_y\": {\"color\": \"#2a3f5f\"}, \"marker\": {\"line\": {\"color\": \"white\", \"width\": 0.5}}, \"type\": \"bar\"}], \"barpolar\": [{\"marker\": {\"line\": {\"color\": \"white\", \"width\": 0.5}}, \"type\": \"barpolar\"}], \"carpet\": [{\"aaxis\": {\"endlinecolor\": \"#2a3f5f\", \"gridcolor\": \"#C8D4E3\", \"linecolor\": \"#C8D4E3\", \"minorgridcolor\": \"#C8D4E3\", \"startlinecolor\": \"#2a3f5f\"}, \"baxis\": {\"endlinecolor\": \"#2a3f5f\", \"gridcolor\": \"#C8D4E3\", \"linecolor\": \"#C8D4E3\", \"minorgridcolor\": \"#C8D4E3\", \"startlinecolor\": \"#2a3f5f\"}, \"type\": \"carpet\"}], \"choropleth\": [{\"colorbar\": {\"outlinewidth\": 0, \"ticks\": \"\"}, \"type\": \"choropleth\"}], \"contour\": [{\"colorbar\": {\"outlinewidth\": 0, \"ticks\": \"\"}, \"colorscale\": [[0.0, \"#0d0887\"], [0.1111111111111111, \"#46039f\"], [0.2222222222222222, \"#7201a8\"], [0.3333333333333333, \"#9c179e\"], [0.4444444444444444, \"#bd3786\"], [0.5555555555555556, \"#d8576b\"], [0.6666666666666666, \"#ed7953\"], [0.7777777777777778, \"#fb9f3a\"], [0.8888888888888888, \"#fdca26\"], [1.0, \"#f0f921\"]], \"type\": \"contour\"}], \"contourcarpet\": [{\"colorbar\": {\"outlinewidth\": 0, \"ticks\": \"\"}, \"type\": \"contourcarpet\"}], \"heatmap\": [{\"colorbar\": {\"outlinewidth\": 0, \"ticks\": \"\"}, \"colorscale\": [[0.0, \"#0d0887\"], [0.1111111111111111, \"#46039f\"], [0.2222222222222222, \"#7201a8\"], [0.3333333333333333, \"#9c179e\"], [0.4444444444444444, \"#bd3786\"], [0.5555555555555556, \"#d8576b\"], [0.6666666666666666, \"#ed7953\"], [0.7777777777777778, \"#fb9f3a\"], [0.8888888888888888, \"#fdca26\"], [1.0, \"#f0f921\"]], \"type\": \"heatmap\"}], \"heatmapgl\": [{\"colorbar\": {\"outlinewidth\": 0, \"ticks\": \"\"}, \"colorscale\": [[0.0, \"#0d0887\"], [0.1111111111111111, \"#46039f\"], [0.2222222222222222, \"#7201a8\"], [0.3333333333333333, \"#9c179e\"], [0.4444444444444444, \"#bd3786\"], [0.5555555555555556, \"#d8576b\"], [0.6666666666666666, \"#ed7953\"], [0.7777777777777778, \"#fb9f3a\"], [0.8888888888888888, \"#fdca26\"], [1.0, \"#f0f921\"]], \"type\": \"heatmapgl\"}], \"histogram\": [{\"marker\": {\"colorbar\": {\"outlinewidth\": 0, \"ticks\": \"\"}}, \"type\": \"histogram\"}], \"histogram2d\": [{\"colorbar\": {\"outlinewidth\": 0, \"ticks\": \"\"}, \"colorscale\": [[0.0, \"#0d0887\"], [0.1111111111111111, \"#46039f\"], [0.2222222222222222, \"#7201a8\"], [0.3333333333333333, \"#9c179e\"], [0.4444444444444444, \"#bd3786\"], [0.5555555555555556, \"#d8576b\"], [0.6666666666666666, \"#ed7953\"], [0.7777777777777778, \"#fb9f3a\"], [0.8888888888888888, \"#fdca26\"], [1.0, \"#f0f921\"]], \"type\": \"histogram2d\"}], \"histogram2dcontour\": [{\"colorbar\": {\"outlinewidth\": 0, \"ticks\": \"\"}, \"colorscale\": [[0.0, \"#0d0887\"], [0.1111111111111111, \"#46039f\"], [0.2222222222222222, \"#7201a8\"], [0.3333333333333333, \"#9c179e\"], [0.4444444444444444, \"#bd3786\"], [0.5555555555555556, \"#d8576b\"], [0.6666666666666666, \"#ed7953\"], [0.7777777777777778, \"#fb9f3a\"], [0.8888888888888888, \"#fdca26\"], [1.0, \"#f0f921\"]], \"type\": \"histogram2dcontour\"}], \"mesh3d\": [{\"colorbar\": {\"outlinewidth\": 0, \"ticks\": \"\"}, \"type\": \"mesh3d\"}], \"parcoords\": [{\"line\": {\"colorbar\": {\"outlinewidth\": 0, \"ticks\": \"\"}}, \"type\": \"parcoords\"}], \"pie\": [{\"automargin\": true, \"type\": \"pie\"}], \"scatter\": [{\"marker\": {\"colorbar\": {\"outlinewidth\": 0, \"ticks\": \"\"}}, \"type\": \"scatter\"}], \"scatter3d\": [{\"line\": {\"colorbar\": {\"outlinewidth\": 0, \"ticks\": \"\"}}, \"marker\": {\"colorbar\": {\"outlinewidth\": 0, \"ticks\": \"\"}}, \"type\": \"scatter3d\"}], \"scattercarpet\": [{\"marker\": {\"colorbar\": {\"outlinewidth\": 0, \"ticks\": \"\"}}, \"type\": \"scattercarpet\"}], \"scattergeo\": [{\"marker\": {\"colorbar\": {\"outlinewidth\": 0, \"ticks\": \"\"}}, \"type\": \"scattergeo\"}], \"scattergl\": [{\"marker\": {\"colorbar\": {\"outlinewidth\": 0, \"ticks\": \"\"}}, \"type\": \"scattergl\"}], \"scattermapbox\": [{\"marker\": {\"colorbar\": {\"outlinewidth\": 0, \"ticks\": \"\"}}, \"type\": \"scattermapbox\"}], \"scatterpolar\": [{\"marker\": {\"colorbar\": {\"outlinewidth\": 0, \"ticks\": \"\"}}, \"type\": \"scatterpolar\"}], \"scatterpolargl\": [{\"marker\": {\"colorbar\": {\"outlinewidth\": 0, \"ticks\": \"\"}}, \"type\": \"scatterpolargl\"}], \"scatterternary\": [{\"marker\": {\"colorbar\": {\"outlinewidth\": 0, \"ticks\": \"\"}}, \"type\": \"scatterternary\"}], \"surface\": [{\"colorbar\": {\"outlinewidth\": 0, \"ticks\": \"\"}, \"colorscale\": [[0.0, \"#0d0887\"], [0.1111111111111111, \"#46039f\"], [0.2222222222222222, \"#7201a8\"], [0.3333333333333333, \"#9c179e\"], [0.4444444444444444, \"#bd3786\"], [0.5555555555555556, \"#d8576b\"], [0.6666666666666666, \"#ed7953\"], [0.7777777777777778, \"#fb9f3a\"], [0.8888888888888888, \"#fdca26\"], [1.0, \"#f0f921\"]], \"type\": \"surface\"}], \"table\": [{\"cells\": {\"fill\": {\"color\": \"#EBF0F8\"}, \"line\": {\"color\": \"white\"}}, \"header\": {\"fill\": {\"color\": \"#C8D4E3\"}, \"line\": {\"color\": \"white\"}}, \"type\": \"table\"}]}, \"layout\": {\"annotationdefaults\": {\"arrowcolor\": \"#2a3f5f\", \"arrowhead\": 0, \"arrowwidth\": 1}, \"coloraxis\": {\"colorbar\": {\"outlinewidth\": 0, \"ticks\": \"\"}}, \"colorscale\": {\"diverging\": [[0, \"#8e0152\"], [0.1, \"#c51b7d\"], [0.2, \"#de77ae\"], [0.3, \"#f1b6da\"], [0.4, \"#fde0ef\"], [0.5, \"#f7f7f7\"], [0.6, \"#e6f5d0\"], [0.7, \"#b8e186\"], [0.8, \"#7fbc41\"], [0.9, \"#4d9221\"], [1, \"#276419\"]], \"sequential\": [[0.0, \"#0d0887\"], [0.1111111111111111, \"#46039f\"], [0.2222222222222222, \"#7201a8\"], [0.3333333333333333, \"#9c179e\"], [0.4444444444444444, \"#bd3786\"], [0.5555555555555556, \"#d8576b\"], [0.6666666666666666, \"#ed7953\"], [0.7777777777777778, \"#fb9f3a\"], [0.8888888888888888, \"#fdca26\"], [1.0, \"#f0f921\"]], \"sequentialminus\": [[0.0, \"#0d0887\"], [0.1111111111111111, \"#46039f\"], [0.2222222222222222, \"#7201a8\"], [0.3333333333333333, \"#9c179e\"], [0.4444444444444444, \"#bd3786\"], [0.5555555555555556, \"#d8576b\"], [0.6666666666666666, \"#ed7953\"], [0.7777777777777778, \"#fb9f3a\"], [0.8888888888888888, \"#fdca26\"], [1.0, \"#f0f921\"]]}, \"colorway\": [\"#636efa\", \"#EF553B\", \"#00cc96\", \"#ab63fa\", \"#FFA15A\", \"#19d3f3\", \"#FF6692\", \"#B6E880\", \"#FF97FF\", \"#FECB52\"], \"font\": {\"color\": \"#2a3f5f\"}, \"geo\": {\"bgcolor\": \"white\", \"lakecolor\": \"white\", \"landcolor\": \"white\", \"showlakes\": true, \"showland\": true, \"subunitcolor\": \"#C8D4E3\"}, \"hoverlabel\": {\"align\": \"left\"}, \"hovermode\": \"closest\", \"mapbox\": {\"style\": \"light\"}, \"paper_bgcolor\": \"white\", \"plot_bgcolor\": \"white\", \"polar\": {\"angularaxis\": {\"gridcolor\": \"#EBF0F8\", \"linecolor\": \"#EBF0F8\", \"ticks\": \"\"}, \"bgcolor\": \"white\", \"radialaxis\": {\"gridcolor\": \"#EBF0F8\", \"linecolor\": \"#EBF0F8\", \"ticks\": \"\"}}, \"scene\": {\"xaxis\": {\"backgroundcolor\": \"white\", \"gridcolor\": \"#DFE8F3\", \"gridwidth\": 2, \"linecolor\": \"#EBF0F8\", \"showbackground\": true, \"ticks\": \"\", \"zerolinecolor\": \"#EBF0F8\"}, \"yaxis\": {\"backgroundcolor\": \"white\", \"gridcolor\": \"#DFE8F3\", \"gridwidth\": 2, \"linecolor\": \"#EBF0F8\", \"showbackground\": true, \"ticks\": \"\", \"zerolinecolor\": \"#EBF0F8\"}, \"zaxis\": {\"backgroundcolor\": \"white\", \"gridcolor\": \"#DFE8F3\", \"gridwidth\": 2, \"linecolor\": \"#EBF0F8\", \"showbackground\": true, \"ticks\": \"\", \"zerolinecolor\": \"#EBF0F8\"}}, \"shapedefaults\": {\"line\": {\"color\": \"#2a3f5f\"}}, \"ternary\": {\"aaxis\": {\"gridcolor\": \"#DFE8F3\", \"linecolor\": \"#A2B1C6\", \"ticks\": \"\"}, \"baxis\": {\"gridcolor\": \"#DFE8F3\", \"linecolor\": \"#A2B1C6\", \"ticks\": \"\"}, \"bgcolor\": \"white\", \"caxis\": {\"gridcolor\": \"#DFE8F3\", \"linecolor\": \"#A2B1C6\", \"ticks\": \"\"}}, \"title\": {\"x\": 0.05}, \"xaxis\": {\"automargin\": true, \"gridcolor\": \"#EBF0F8\", \"linecolor\": \"#EBF0F8\", \"ticks\": \"\", \"title\": {\"standoff\": 15}, \"zerolinecolor\": \"#EBF0F8\", \"zerolinewidth\": 2}, \"yaxis\": {\"automargin\": true, \"gridcolor\": \"#EBF0F8\", \"linecolor\": \"#EBF0F8\", \"ticks\": \"\", \"title\": {\"standoff\": 15}, \"zerolinecolor\": \"#EBF0F8\", \"zerolinewidth\": 2}}}, \"title\": {\"text\": \"Tire Slip Angle & Saturation (locked) Status\"}, \"width\": 800, \"xaxis\": {\"anchor\": \"y\", \"domain\": [0.0, 1.0], \"linecolor\": \"black\", \"linewidth\": 1, \"matches\": \"x2\", \"showgrid\": false, \"showline\": true, \"showticklabels\": false, \"tickcolor\": \"black\", \"ticklen\": 10, \"ticks\": \"outside\", \"tickwidth\": 1, \"title\": {\"text\": \"\"}, \"zeroline\": false}, \"xaxis2\": {\"anchor\": \"y2\", \"domain\": [0.0, 1.0], \"linecolor\": \"black\", \"linewidth\": 1, \"showgrid\": false, \"showline\": true, \"tickcolor\": \"black\", \"ticklen\": 10, \"ticks\": \"outside\", \"tickwidth\": 1, \"title\": {\"text\": \"Time (s)\"}, \"zeroline\": false}, \"yaxis\": {\"anchor\": \"x\", \"domain\": [0.555, 1.0], \"linecolor\": \"black\", \"linewidth\": 1, \"showgrid\": false, \"showline\": true, \"tickcolor\": \"black\", \"ticklen\": 10, \"ticks\": \"outside\", \"tickwidth\": 1, \"title\": {\"text\": \"Slip Angle (degrees)\"}, \"zeroline\": false}, \"yaxis2\": {\"anchor\": \"x2\", \"domain\": [0.0, 0.445], \"linecolor\": \"black\", \"linewidth\": 1, \"showgrid\": false, \"showline\": true, \"tickcolor\": \"black\", \"ticklen\": 10, \"ticks\": \"outside\", \"tickwidth\": 1, \"title\": {\"text\": \"Locked Satus\"}, \"zeroline\": false}},\n",
       "                        {\"responsive\": true}\n",
       "                    ).then(function(){\n",
       "                            \n",
       "var gd = document.getElementById('2bf44071-6878-4aa3-90ab-213b7faf2ff2');\n",
       "var x = new MutationObserver(function (mutations, observer) {{\n",
       "        var display = window.getComputedStyle(gd).display;\n",
       "        if (!display || display === 'none') {{\n",
       "            console.log([gd, 'removed!']);\n",
       "            Plotly.purge(gd);\n",
       "            observer.disconnect();\n",
       "        }}\n",
       "}});\n",
       "\n",
       "// Listen for the removal of the full notebook cells\n",
       "var notebookContainer = gd.closest('#notebook-container');\n",
       "if (notebookContainer) {{\n",
       "    x.observe(notebookContainer, {childList: true});\n",
       "}}\n",
       "\n",
       "// Listen for the clearing of the current output cell\n",
       "var outputEl = gd.closest('.output');\n",
       "if (outputEl) {{\n",
       "    x.observe(outputEl, {childList: true});\n",
       "}}\n",
       "\n",
       "                        })\n",
       "                };\n",
       "                });\n",
       "            </script>\n",
       "        </div>"
      ]
     },
     "metadata": {},
     "output_type": "display_data"
    }
   ],
   "source": [
    "tire_details(run.veh)"
   ]
  },
  {
   "cell_type": "code",
   "execution_count": 74,
   "metadata": {},
   "outputs": [
    {
     "data": {
      "application/vnd.plotly.v1+json": {
       "config": {
        "plotlyServerURL": "https://plot.ly"
       },
       "data": [
        {
         "line": {
          "color": "rgb(0, 0, 255)",
          "dash": "solid",
          "width": 1
         },
         "mode": "lines",
         "name": "LF",
         "type": "scatter",
         "x": [
          0,
          0.1,
          0.2,
          0.3,
          0.4,
          0.5,
          0.6,
          0.7,
          0.8,
          0.9,
          1,
          1.1,
          1.2,
          1.3,
          1.4,
          1.5,
          1.6,
          1.7,
          1.8,
          1.9,
          2,
          2.1,
          2.2,
          2.3,
          2.4,
          2.5,
          2.6,
          2.7,
          2.8,
          2.9,
          3,
          3.1,
          3.2,
          3.3,
          3.4,
          3.5,
          3.6,
          3.7,
          3.8,
          3.9,
          4,
          4.1,
          4.2,
          4.3,
          4.4,
          4.5,
          4.6,
          4.7,
          4.8,
          4.9,
          5,
          5.1,
          5.2,
          5.3,
          5.4,
          5.5,
          5.6,
          5.7,
          5.8,
          5.9,
          6,
          6.1,
          6.2,
          6.3,
          6.4,
          6.5,
          6.6,
          6.7,
          6.8,
          6.9,
          7,
          7.1,
          7.2,
          7.3,
          7.4,
          7.5,
          7.6,
          7.7,
          7.8,
          7.9,
          8,
          8.1,
          8.2,
          8.3,
          8.4,
          8.5,
          8.6,
          8.7,
          8.8,
          8.9,
          9,
          9.1,
          9.2,
          9.3,
          9.4,
          9.5,
          9.6,
          9.7,
          9.8,
          9.9,
          10,
          10.1,
          10.2,
          10.3,
          10.4,
          10.5,
          10.6,
          10.7,
          10.8,
          10.9
         ],
         "y": [
          1056.293396226415,
          1056.293396226415,
          1056.293396226415,
          1056.293396226415,
          1056.293396226415,
          1056.293396226415,
          1056.293396226415,
          1056.293396226415,
          1056.293396226415,
          1056.293396226415,
          1056.293396226415,
          1056.293396226415,
          973.8332228221772,
          911.2696186265131,
          891.8636641801206,
          883.1357372495308,
          856.347437068618,
          809.3612125112647,
          755.3593372912123,
          706.2650812235469,
          666.4406664191272,
          642.7221683500444,
          662.3649855494339,
          680.9990846024538,
          669.8895041304594,
          646.3981635661695,
          634.7029723048461,
          642.2749849356321,
          661.358817806522,
          680.7360984164741,
          694.5662711793311,
          703.6235447049651,
          711.3640221912622,
          719.9697403372156,
          729.2982937790547,
          738.1468966345062,
          745.7644597421313,
          752.3092384022389,
          758.3631911510699,
          764.3147241015033,
          770.1679268076357,
          775.7444692191659,
          780.9399286991979,
          785.8004279536248,
          790.4359678812493,
          794.915422239991,
          799.2404873956009,
          803.3868785986047,
          807.3486374778681,
          811.1460934261064,
          814.8062291404633,
          818.3445551941412,
          821.7640188093095,
          825.0648856366536,
          828.2522531403885,
          831.3354741907757,
          834.3234135973412,
          837.2216380607613,
          840.0333877502454,
          842.7619439040129,
          845.4116646821935,
          847.9872851286432,
          850.4928604158076,
          852.9315210239804,
          855.3059777494362,
          857.6190207793403,
          859.8735528845616,
          862.0723209676346,
          864.2177381291644,
          866.3119495808887,
          868.3569974628085,
          870.3548953861316,
          872.3075824324237,
          874.2168565817256,
          876.0843704081714,
          877.9116781669428,
          879.7002747526051,
          881.4515961845991,
          883.1670008781889,
          884.8477632667824,
          886.4950869565807,
          888.110121442935,
          889.6939679475726,
          891.2476759909034,
          892.7722411632686,
          894.2686094128727,
          895.7376841973702,
          897.1803308104368,
          898.597376917237,
          899.9896125242982,
          901.3577919618267,
          902.7026372603775,
          904.0248408405417,
          905.3250667231104,
          906.6039512142768,
          907.8621041690149,
          909.1001108325659,
          910.3185335163532,
          911.5179126887815,
          912.6987677582547,
          913.8615980019254,
          915.006883712342,
          916.1350872944022,
          917.2466541169417,
          918.342013200344,
          919.4215779266741,
          920.4857468231049,
          921.5349043194174,
          922.5694213925015,
          923.5896561233205
         ]
        },
        {
         "line": {
          "color": "rgb(0, 255, 0)",
          "dash": "solid",
          "width": 1
         },
         "mode": "lines",
         "name": "RF",
         "type": "scatter",
         "x": [
          0,
          0.1,
          0.2,
          0.3,
          0.4,
          0.5,
          0.6,
          0.7,
          0.8,
          0.9,
          1,
          1.1,
          1.2,
          1.3,
          1.4,
          1.5,
          1.6,
          1.7,
          1.8,
          1.9,
          2,
          2.1,
          2.2,
          2.3,
          2.4,
          2.5,
          2.6,
          2.7,
          2.8,
          2.9,
          3,
          3.1,
          3.2,
          3.3,
          3.4,
          3.5,
          3.6,
          3.7,
          3.8,
          3.9,
          4,
          4.1,
          4.2,
          4.3,
          4.4,
          4.5,
          4.6,
          4.7,
          4.8,
          4.9,
          5,
          5.1,
          5.2,
          5.3,
          5.4,
          5.5,
          5.6,
          5.7,
          5.8,
          5.9,
          6,
          6.1,
          6.2,
          6.3,
          6.4,
          6.5,
          6.6,
          6.7,
          6.8,
          6.9,
          7,
          7.1,
          7.2,
          7.3,
          7.4,
          7.5,
          7.6,
          7.7,
          7.8,
          7.9,
          8,
          8.1,
          8.2,
          8.3,
          8.4,
          8.5,
          8.6,
          8.7,
          8.8,
          8.9,
          9,
          9.1,
          9.2,
          9.3,
          9.4,
          9.5,
          9.6,
          9.7,
          9.8,
          9.9,
          10,
          10.1,
          10.2,
          10.3,
          10.4,
          10.5,
          10.6,
          10.7,
          10.8,
          10.9
         ],
         "y": [
          1056.293396226415,
          1056.293396226415,
          1056.293396226415,
          1056.293396226415,
          1056.293396226415,
          1056.293396226415,
          1056.293396226415,
          1056.293396226415,
          1056.293396226415,
          1056.293396226415,
          1056.293396226415,
          1056.293396226415,
          1141.3875727809318,
          1211.3530546861718,
          1238.5229042089597,
          1254.506715504925,
          1290.9255196763695,
          1352.2600584409668,
          1425.2639493767651,
          1496.6219266936714,
          1560.799041371821,
          1607.146544458194,
          1575.7163935141964,
          1541.345217000653,
          1549.7216518999808,
          1579.3971030166508,
          1596.3764773028863,
          1588.065573901795,
          1563.545394177274,
          1537.9658694877664,
          1519.7496027396742,
          1508.208612595289,
          1498.659668475894,
          1487.9453029227775,
          1476.1005358252387,
          1464.7414557194859,
          1454.9630041653259,
          1446.6229379246984,
          1438.9519936788809,
          1431.404217091251,
          1423.9525443426285,
          1416.836054934514,
          1410.2082315448306,
          1404.0185626645862,
          1398.1216867841813,
          1392.4217013589573,
          1386.9136343206098,
          1381.6310110394306,
          1376.5848052387373,
          1371.750019124721,
          1367.0909988619685,
          1362.5866018998158,
          1358.2328603989154,
          1354.0300819389547,
          1349.9723297819837,
          1346.0476876082912,
          1342.2445345996957,
          1338.5555579560794,
          1334.9766712427786,
          1331.5038477940768,
          1328.131607887035,
          1324.8538714471215,
          1321.665394011855,
          1318.5621614171712,
          1315.540746769598,
          1312.597624696025,
          1309.7290963052158,
          1306.9316404586427,
          1304.20216654272,
          1301.5379415714401,
          1298.9363711668684,
          1296.394891940007,
          1293.9110276915135,
          1291.4824806157976,
          1289.107142315066,
          1286.783033241626,
          1284.5082492015829,
          1282.2809586876692,
          1280.0994279282309,
          1277.9620310501784,
          1275.8672338020617,
          1273.8135712321036,
          1271.7996393087456,
          1269.824099375425,
          1267.8856816520438,
          1265.9831801078647,
          1264.115443112133,
          1262.2813675539046,
          1260.4798980938785,
          1258.7100274034892,
          1256.9707937976625,
          1255.2612768880783,
          1253.5805940206772,
          1251.9278986814907,
          1250.3023796816253,
          1248.70325961362,
          1247.1297925011654,
          1245.5812616140126,
          1244.0569780501073,
          1242.5562797538405,
          1241.0785303589023,
          1239.623117729149,
          1238.1894525420098,
          1236.7769671898343,
          1235.385114907737,
          1234.0133688789442,
          1232.6612212380062,
          1231.3281820979191,
          1230.0137787224432,
          1228.717554817152
         ]
        },
        {
         "line": {
          "color": "rgb(153, 0, 204)",
          "dash": "solid",
          "width": 1
         },
         "mode": "lines",
         "name": "RR",
         "type": "scatter",
         "x": [
          0,
          0.1,
          0.2,
          0.3,
          0.4,
          0.5,
          0.6,
          0.7,
          0.8,
          0.9,
          1,
          1.1,
          1.2,
          1.3,
          1.4,
          1.5,
          1.6,
          1.7,
          1.8,
          1.9,
          2,
          2.1,
          2.2,
          2.3,
          2.4,
          2.5,
          2.6,
          2.7,
          2.8,
          2.9,
          3,
          3.1,
          3.2,
          3.3,
          3.4,
          3.5,
          3.6,
          3.7,
          3.8,
          3.9,
          4,
          4.1,
          4.2,
          4.3,
          4.4,
          4.5,
          4.6,
          4.7,
          4.8,
          4.9,
          5,
          5.1,
          5.2,
          5.3,
          5.4,
          5.5,
          5.6,
          5.7,
          5.8,
          5.9,
          6,
          6.1,
          6.2,
          6.3,
          6.4,
          6.5,
          6.6,
          6.7,
          6.8,
          6.9,
          7,
          7.1,
          7.2,
          7.3,
          7.4,
          7.5,
          7.6,
          7.7,
          7.8,
          7.9,
          8,
          8.1,
          8.2,
          8.3,
          8.4,
          8.5,
          8.6,
          8.7,
          8.8,
          8.9,
          9,
          9.1,
          9.2,
          9.3,
          9.4,
          9.5,
          9.6,
          9.7,
          9.8,
          9.9,
          10,
          10.1,
          10.2,
          10.3,
          10.4,
          10.5,
          10.6,
          10.7,
          10.8,
          10.9
         ],
         "y": [
          592.7066037735849,
          592.7066037735849,
          592.7066037735849,
          592.7066037735849,
          592.7066037735849,
          592.7066037735849,
          592.7066037735849,
          592.7066037735849,
          592.7066037735849,
          592.7066037735849,
          592.7066037735849,
          592.7066037735849,
          638.3985913989503,
          671.8799660967723,
          681.065309657439,
          684.3704840169585,
          697.2885948775454,
          720.5048728443676,
          746.6365578475986,
          769.2987332461901,
          786.3010156604731,
          794.6442056704059,
          786.2088586527022,
          779.206256005305,
          786.0398183766708,
          797.8642193821047,
          803.267053844332,
          799.180393921572,
          789.665040986936,
          780.1530976223735,
          773.3552068729648,
          768.818023607762,
          764.8715429097538,
          760.5054307596198,
          755.8231582608843,
          751.4089364970666,
          747.6087609956361,
          744.3303179617576,
          741.2881614606475,
          738.2989217667259,
          735.365345633139,
          732.574166610603,
          729.9732125025706,
          727.537566049419,
          725.2132631695064,
          722.9675886749928,
          720.8003095236534,
          718.7230245918474,
          716.7379766659176,
          714.8347829669812,
          713.0002057807379,
          711.2267777084426,
          709.513068971469,
          707.858804718217,
          706.2613088336946,
          704.7158957662053,
          703.218196079609,
          701.7654693554356,
          700.3560831770191,
          698.9883599551631,
          697.6601003582756,
          696.3689426159028,
          695.112872270774,
          693.8903266658792,
          692.6999418617509,
          691.5403135600028,
          690.4099876608324,
          689.3075927228513,
          688.2319233824411,
          687.1819049013026,
          686.1565125785687,
          685.1547371815745,
          684.1756085195582,
          683.2182273931246,
          682.2817665371492,
          681.3654471554021,
          680.4685202504912,
          679.5902668301911,
          678.7300070298286,
          677.887102860278,
          677.0609515117894,
          676.2509772042135,
          675.4566284694897,
          674.6773798496066,
          673.9127328679132,
          673.1622138072247,
          672.4253701792135,
          671.7017686376093,
          670.9909947244131,
          670.2926528409456,
          669.6063652200002,
          668.9317702440002,
          668.2685211272931,
          667.6162853213689,
          666.9747441588677,
          666.3435922061749,
          665.722536341777,
          665.1112949276068,
          664.5095972687478,
          663.9171832176771,
          663.3338027032446,
          662.7592151558401,
          662.1931889620139,
          661.6355010408477,
          661.0859364986227,
          660.5442882708395,
          660.0103567294425,
          659.4839493050351,
          658.9648801654347,
          658.4529699365014
         ]
        },
        {
         "line": {
          "color": "rgb(255, 102, 0)",
          "dash": "solid",
          "width": 1
         },
         "mode": "lines",
         "name": "LR",
         "type": "scatter",
         "x": [
          0,
          0.1,
          0.2,
          0.3,
          0.4,
          0.5,
          0.6,
          0.7,
          0.8,
          0.9,
          1,
          1.1,
          1.2,
          1.3,
          1.4,
          1.5,
          1.6,
          1.7,
          1.8,
          1.9,
          2,
          2.1,
          2.2,
          2.3,
          2.4,
          2.5,
          2.6,
          2.7,
          2.8,
          2.9,
          3,
          3.1,
          3.2,
          3.3,
          3.4,
          3.5,
          3.6,
          3.7,
          3.8,
          3.9,
          4,
          4.1,
          4.2,
          4.3,
          4.4,
          4.5,
          4.6,
          4.7,
          4.8,
          4.9,
          5,
          5.1,
          5.2,
          5.3,
          5.4,
          5.5,
          5.6,
          5.7,
          5.8,
          5.9,
          6,
          6.1,
          6.2,
          6.3,
          6.4,
          6.5,
          6.6,
          6.7,
          6.8,
          6.9,
          7,
          7.1,
          7.2,
          7.3,
          7.4,
          7.5,
          7.6,
          7.7,
          7.8,
          7.9,
          8,
          8.1,
          8.2,
          8.3,
          8.4,
          8.5,
          8.6,
          8.7,
          8.8,
          8.9,
          9,
          9.1,
          9.2,
          9.3,
          9.4,
          9.5,
          9.6,
          9.7,
          9.8,
          9.9,
          10,
          10.1,
          10.2,
          10.3,
          10.4,
          10.5,
          10.6,
          10.7,
          10.8,
          10.9
         ],
         "y": [
          592.7066037735849,
          592.7066037735849,
          592.7066037735849,
          592.7066037735849,
          592.7066037735849,
          592.7066037735849,
          592.7066037735849,
          592.7066037735849,
          592.7066037735849,
          592.7066037735849,
          592.7066037735849,
          592.7066037735849,
          544.3806129979408,
          503.4973605905425,
          486.5481219534808,
          475.9870632285856,
          453.43844837746695,
          415.87385620340086,
          370.7401554844239,
          325.81425883659136,
          284.4592765485787,
          253.48708152135578,
          273.70976228366766,
          296.4494423915878,
          292.3490255928891,
          274.3405140350748,
          263.65349654793533,
          268.4790472410006,
          283.43074702926816,
          299.14493447338606,
          310.32891920802996,
          317.34981909198393,
          323.10476642309,
          329.5795259803871,
          336.77801213482223,
          343.7027111489412,
          349.663775096907,
          354.73750571130523,
          359.3966537094017,
          363.9821370405198,
          368.5141832165968,
          372.84530923571697,
          376.8786272534011,
          380.64344333236994,
          384.229082165063,
          387.6952877260588,
          391.04556876013584,
          394.25908577011734,
          397.328580617477,
          400.26910448219166,
          403.10256621683004,
          405.84206519760005,
          408.4900518203058,
          411.04622770617465,
          413.51410824393344,
          415.90094243472765,
          418.2138557233541,
          420.457334627724,
          422.63385782995704,
          424.7458483467472,
          426.79662707249565,
          428.78990080833256,
          430.7288733015634,
          432.6159908929695,
          434.45333361921536,
          436.2430409646319,
          437.98736314939026,
          439.6884458508717,
          441.34817194567415,
          442.96820394636876,
          444.5501187917546,
          446.09547549228654,
          447.60578135650485,
          449.08243540935223,
          450.5267207396134,
          451.9398414360291,
          453.3229557953211,
          454.6771782975406,
          456.0035641637519,
          457.3031028227612,
          458.5767277295681,
          459.82533012074776,
          461.0497642741923,
          462.25084478406495,
          463.4293443167743,
          464.58599667203777,
          465.7215025112833,
          466.8365329980493,
          467.9317302644714,
          469.0077072312671,
          470.06504902051057,
          471.1043156075437,
          472.12604401148815,
          473.1307492740302,
          474.1189249452302,
          475.09104401119026,
          476.04756032449205,
          476.9889099420276,
          477.9155119923633,
          478.8277692702277,
          479.72606893592774,
          480.61078340266863,
          481.4822712015742,
          482.34087765237626,
          483.1869353932961,
          484.02076492354206,
          484.84267520944627,
          485.65296427762837,
          486.4519197196206,
          487.2398191230261
         ]
        }
       ],
       "layout": {
        "autosize": false,
        "font": {
         "color": "black",
         "family": "Arial",
         "size": 16
        },
        "height": 450,
        "legend": {
         "orientation": "h",
         "x": 0.01,
         "xanchor": "left",
         "y": 1.15,
         "yanchor": "top"
        },
        "template": {
         "data": {
          "bar": [
           {
            "error_x": {
             "color": "#2a3f5f"
            },
            "error_y": {
             "color": "#2a3f5f"
            },
            "marker": {
             "line": {
              "color": "white",
              "width": 0.5
             }
            },
            "type": "bar"
           }
          ],
          "barpolar": [
           {
            "marker": {
             "line": {
              "color": "white",
              "width": 0.5
             }
            },
            "type": "barpolar"
           }
          ],
          "carpet": [
           {
            "aaxis": {
             "endlinecolor": "#2a3f5f",
             "gridcolor": "#C8D4E3",
             "linecolor": "#C8D4E3",
             "minorgridcolor": "#C8D4E3",
             "startlinecolor": "#2a3f5f"
            },
            "baxis": {
             "endlinecolor": "#2a3f5f",
             "gridcolor": "#C8D4E3",
             "linecolor": "#C8D4E3",
             "minorgridcolor": "#C8D4E3",
             "startlinecolor": "#2a3f5f"
            },
            "type": "carpet"
           }
          ],
          "choropleth": [
           {
            "colorbar": {
             "outlinewidth": 0,
             "ticks": ""
            },
            "type": "choropleth"
           }
          ],
          "contour": [
           {
            "colorbar": {
             "outlinewidth": 0,
             "ticks": ""
            },
            "colorscale": [
             [
              0,
              "#0d0887"
             ],
             [
              0.1111111111111111,
              "#46039f"
             ],
             [
              0.2222222222222222,
              "#7201a8"
             ],
             [
              0.3333333333333333,
              "#9c179e"
             ],
             [
              0.4444444444444444,
              "#bd3786"
             ],
             [
              0.5555555555555556,
              "#d8576b"
             ],
             [
              0.6666666666666666,
              "#ed7953"
             ],
             [
              0.7777777777777778,
              "#fb9f3a"
             ],
             [
              0.8888888888888888,
              "#fdca26"
             ],
             [
              1,
              "#f0f921"
             ]
            ],
            "type": "contour"
           }
          ],
          "contourcarpet": [
           {
            "colorbar": {
             "outlinewidth": 0,
             "ticks": ""
            },
            "type": "contourcarpet"
           }
          ],
          "heatmap": [
           {
            "colorbar": {
             "outlinewidth": 0,
             "ticks": ""
            },
            "colorscale": [
             [
              0,
              "#0d0887"
             ],
             [
              0.1111111111111111,
              "#46039f"
             ],
             [
              0.2222222222222222,
              "#7201a8"
             ],
             [
              0.3333333333333333,
              "#9c179e"
             ],
             [
              0.4444444444444444,
              "#bd3786"
             ],
             [
              0.5555555555555556,
              "#d8576b"
             ],
             [
              0.6666666666666666,
              "#ed7953"
             ],
             [
              0.7777777777777778,
              "#fb9f3a"
             ],
             [
              0.8888888888888888,
              "#fdca26"
             ],
             [
              1,
              "#f0f921"
             ]
            ],
            "type": "heatmap"
           }
          ],
          "heatmapgl": [
           {
            "colorbar": {
             "outlinewidth": 0,
             "ticks": ""
            },
            "colorscale": [
             [
              0,
              "#0d0887"
             ],
             [
              0.1111111111111111,
              "#46039f"
             ],
             [
              0.2222222222222222,
              "#7201a8"
             ],
             [
              0.3333333333333333,
              "#9c179e"
             ],
             [
              0.4444444444444444,
              "#bd3786"
             ],
             [
              0.5555555555555556,
              "#d8576b"
             ],
             [
              0.6666666666666666,
              "#ed7953"
             ],
             [
              0.7777777777777778,
              "#fb9f3a"
             ],
             [
              0.8888888888888888,
              "#fdca26"
             ],
             [
              1,
              "#f0f921"
             ]
            ],
            "type": "heatmapgl"
           }
          ],
          "histogram": [
           {
            "marker": {
             "colorbar": {
              "outlinewidth": 0,
              "ticks": ""
             }
            },
            "type": "histogram"
           }
          ],
          "histogram2d": [
           {
            "colorbar": {
             "outlinewidth": 0,
             "ticks": ""
            },
            "colorscale": [
             [
              0,
              "#0d0887"
             ],
             [
              0.1111111111111111,
              "#46039f"
             ],
             [
              0.2222222222222222,
              "#7201a8"
             ],
             [
              0.3333333333333333,
              "#9c179e"
             ],
             [
              0.4444444444444444,
              "#bd3786"
             ],
             [
              0.5555555555555556,
              "#d8576b"
             ],
             [
              0.6666666666666666,
              "#ed7953"
             ],
             [
              0.7777777777777778,
              "#fb9f3a"
             ],
             [
              0.8888888888888888,
              "#fdca26"
             ],
             [
              1,
              "#f0f921"
             ]
            ],
            "type": "histogram2d"
           }
          ],
          "histogram2dcontour": [
           {
            "colorbar": {
             "outlinewidth": 0,
             "ticks": ""
            },
            "colorscale": [
             [
              0,
              "#0d0887"
             ],
             [
              0.1111111111111111,
              "#46039f"
             ],
             [
              0.2222222222222222,
              "#7201a8"
             ],
             [
              0.3333333333333333,
              "#9c179e"
             ],
             [
              0.4444444444444444,
              "#bd3786"
             ],
             [
              0.5555555555555556,
              "#d8576b"
             ],
             [
              0.6666666666666666,
              "#ed7953"
             ],
             [
              0.7777777777777778,
              "#fb9f3a"
             ],
             [
              0.8888888888888888,
              "#fdca26"
             ],
             [
              1,
              "#f0f921"
             ]
            ],
            "type": "histogram2dcontour"
           }
          ],
          "mesh3d": [
           {
            "colorbar": {
             "outlinewidth": 0,
             "ticks": ""
            },
            "type": "mesh3d"
           }
          ],
          "parcoords": [
           {
            "line": {
             "colorbar": {
              "outlinewidth": 0,
              "ticks": ""
             }
            },
            "type": "parcoords"
           }
          ],
          "pie": [
           {
            "automargin": true,
            "type": "pie"
           }
          ],
          "scatter": [
           {
            "marker": {
             "colorbar": {
              "outlinewidth": 0,
              "ticks": ""
             }
            },
            "type": "scatter"
           }
          ],
          "scatter3d": [
           {
            "line": {
             "colorbar": {
              "outlinewidth": 0,
              "ticks": ""
             }
            },
            "marker": {
             "colorbar": {
              "outlinewidth": 0,
              "ticks": ""
             }
            },
            "type": "scatter3d"
           }
          ],
          "scattercarpet": [
           {
            "marker": {
             "colorbar": {
              "outlinewidth": 0,
              "ticks": ""
             }
            },
            "type": "scattercarpet"
           }
          ],
          "scattergeo": [
           {
            "marker": {
             "colorbar": {
              "outlinewidth": 0,
              "ticks": ""
             }
            },
            "type": "scattergeo"
           }
          ],
          "scattergl": [
           {
            "marker": {
             "colorbar": {
              "outlinewidth": 0,
              "ticks": ""
             }
            },
            "type": "scattergl"
           }
          ],
          "scattermapbox": [
           {
            "marker": {
             "colorbar": {
              "outlinewidth": 0,
              "ticks": ""
             }
            },
            "type": "scattermapbox"
           }
          ],
          "scatterpolar": [
           {
            "marker": {
             "colorbar": {
              "outlinewidth": 0,
              "ticks": ""
             }
            },
            "type": "scatterpolar"
           }
          ],
          "scatterpolargl": [
           {
            "marker": {
             "colorbar": {
              "outlinewidth": 0,
              "ticks": ""
             }
            },
            "type": "scatterpolargl"
           }
          ],
          "scatterternary": [
           {
            "marker": {
             "colorbar": {
              "outlinewidth": 0,
              "ticks": ""
             }
            },
            "type": "scatterternary"
           }
          ],
          "surface": [
           {
            "colorbar": {
             "outlinewidth": 0,
             "ticks": ""
            },
            "colorscale": [
             [
              0,
              "#0d0887"
             ],
             [
              0.1111111111111111,
              "#46039f"
             ],
             [
              0.2222222222222222,
              "#7201a8"
             ],
             [
              0.3333333333333333,
              "#9c179e"
             ],
             [
              0.4444444444444444,
              "#bd3786"
             ],
             [
              0.5555555555555556,
              "#d8576b"
             ],
             [
              0.6666666666666666,
              "#ed7953"
             ],
             [
              0.7777777777777778,
              "#fb9f3a"
             ],
             [
              0.8888888888888888,
              "#fdca26"
             ],
             [
              1,
              "#f0f921"
             ]
            ],
            "type": "surface"
           }
          ],
          "table": [
           {
            "cells": {
             "fill": {
              "color": "#EBF0F8"
             },
             "line": {
              "color": "white"
             }
            },
            "header": {
             "fill": {
              "color": "#C8D4E3"
             },
             "line": {
              "color": "white"
             }
            },
            "type": "table"
           }
          ]
         },
         "layout": {
          "annotationdefaults": {
           "arrowcolor": "#2a3f5f",
           "arrowhead": 0,
           "arrowwidth": 1
          },
          "coloraxis": {
           "colorbar": {
            "outlinewidth": 0,
            "ticks": ""
           }
          },
          "colorscale": {
           "diverging": [
            [
             0,
             "#8e0152"
            ],
            [
             0.1,
             "#c51b7d"
            ],
            [
             0.2,
             "#de77ae"
            ],
            [
             0.3,
             "#f1b6da"
            ],
            [
             0.4,
             "#fde0ef"
            ],
            [
             0.5,
             "#f7f7f7"
            ],
            [
             0.6,
             "#e6f5d0"
            ],
            [
             0.7,
             "#b8e186"
            ],
            [
             0.8,
             "#7fbc41"
            ],
            [
             0.9,
             "#4d9221"
            ],
            [
             1,
             "#276419"
            ]
           ],
           "sequential": [
            [
             0,
             "#0d0887"
            ],
            [
             0.1111111111111111,
             "#46039f"
            ],
            [
             0.2222222222222222,
             "#7201a8"
            ],
            [
             0.3333333333333333,
             "#9c179e"
            ],
            [
             0.4444444444444444,
             "#bd3786"
            ],
            [
             0.5555555555555556,
             "#d8576b"
            ],
            [
             0.6666666666666666,
             "#ed7953"
            ],
            [
             0.7777777777777778,
             "#fb9f3a"
            ],
            [
             0.8888888888888888,
             "#fdca26"
            ],
            [
             1,
             "#f0f921"
            ]
           ],
           "sequentialminus": [
            [
             0,
             "#0d0887"
            ],
            [
             0.1111111111111111,
             "#46039f"
            ],
            [
             0.2222222222222222,
             "#7201a8"
            ],
            [
             0.3333333333333333,
             "#9c179e"
            ],
            [
             0.4444444444444444,
             "#bd3786"
            ],
            [
             0.5555555555555556,
             "#d8576b"
            ],
            [
             0.6666666666666666,
             "#ed7953"
            ],
            [
             0.7777777777777778,
             "#fb9f3a"
            ],
            [
             0.8888888888888888,
             "#fdca26"
            ],
            [
             1,
             "#f0f921"
            ]
           ]
          },
          "colorway": [
           "#636efa",
           "#EF553B",
           "#00cc96",
           "#ab63fa",
           "#FFA15A",
           "#19d3f3",
           "#FF6692",
           "#B6E880",
           "#FF97FF",
           "#FECB52"
          ],
          "font": {
           "color": "#2a3f5f"
          },
          "geo": {
           "bgcolor": "white",
           "lakecolor": "white",
           "landcolor": "white",
           "showlakes": true,
           "showland": true,
           "subunitcolor": "#C8D4E3"
          },
          "hoverlabel": {
           "align": "left"
          },
          "hovermode": "closest",
          "mapbox": {
           "style": "light"
          },
          "paper_bgcolor": "white",
          "plot_bgcolor": "white",
          "polar": {
           "angularaxis": {
            "gridcolor": "#EBF0F8",
            "linecolor": "#EBF0F8",
            "ticks": ""
           },
           "bgcolor": "white",
           "radialaxis": {
            "gridcolor": "#EBF0F8",
            "linecolor": "#EBF0F8",
            "ticks": ""
           }
          },
          "scene": {
           "xaxis": {
            "backgroundcolor": "white",
            "gridcolor": "#DFE8F3",
            "gridwidth": 2,
            "linecolor": "#EBF0F8",
            "showbackground": true,
            "ticks": "",
            "zerolinecolor": "#EBF0F8"
           },
           "yaxis": {
            "backgroundcolor": "white",
            "gridcolor": "#DFE8F3",
            "gridwidth": 2,
            "linecolor": "#EBF0F8",
            "showbackground": true,
            "ticks": "",
            "zerolinecolor": "#EBF0F8"
           },
           "zaxis": {
            "backgroundcolor": "white",
            "gridcolor": "#DFE8F3",
            "gridwidth": 2,
            "linecolor": "#EBF0F8",
            "showbackground": true,
            "ticks": "",
            "zerolinecolor": "#EBF0F8"
           }
          },
          "shapedefaults": {
           "line": {
            "color": "#2a3f5f"
           }
          },
          "ternary": {
           "aaxis": {
            "gridcolor": "#DFE8F3",
            "linecolor": "#A2B1C6",
            "ticks": ""
           },
           "baxis": {
            "gridcolor": "#DFE8F3",
            "linecolor": "#A2B1C6",
            "ticks": ""
           },
           "bgcolor": "white",
           "caxis": {
            "gridcolor": "#DFE8F3",
            "linecolor": "#A2B1C6",
            "ticks": ""
           }
          },
          "title": {
           "x": 0.05
          },
          "xaxis": {
           "automargin": true,
           "gridcolor": "#EBF0F8",
           "linecolor": "#EBF0F8",
           "ticks": "",
           "title": {
            "standoff": 15
           },
           "zerolinecolor": "#EBF0F8",
           "zerolinewidth": 2
          },
          "yaxis": {
           "automargin": true,
           "gridcolor": "#EBF0F8",
           "linecolor": "#EBF0F8",
           "ticks": "",
           "title": {
            "standoff": 15
           },
           "zerolinecolor": "#EBF0F8",
           "zerolinewidth": 2
          }
         }
        },
        "title": {
         "text": "Vertical Tire Forces"
        },
        "width": 800,
        "xaxis": {
         "linecolor": "black",
         "linewidth": 1,
         "showline": true,
         "tickcolor": "black",
         "ticklen": 10,
         "ticks": "outside",
         "tickwidth": 1,
         "title": {
          "text": "Time (s)"
         },
         "zeroline": false
        },
        "yaxis": {
         "linecolor": "black",
         "linewidth": 1,
         "showline": true,
         "tickcolor": "black",
         "ticklen": 10,
         "ticks": "outside",
         "tickwidth": 1,
         "title": {
          "text": "Vertical Force (lb)"
         },
         "zeroline": false
        }
       }
      },
      "text/html": [
       "<div>\n",
       "        \n",
       "        \n",
       "            <div id=\"b955737e-6826-4daa-ad57-7a77118da39a\" class=\"plotly-graph-div\" style=\"height:450px; width:800px;\"></div>\n",
       "            <script type=\"text/javascript\">\n",
       "                require([\"plotly\"], function(Plotly) {\n",
       "                    window.PLOTLYENV=window.PLOTLYENV || {};\n",
       "                    \n",
       "                if (document.getElementById(\"b955737e-6826-4daa-ad57-7a77118da39a\")) {\n",
       "                    Plotly.newPlot(\n",
       "                        'b955737e-6826-4daa-ad57-7a77118da39a',\n",
       "                        [{\"line\": {\"color\": \"rgb(0, 0, 255)\", \"dash\": \"solid\", \"width\": 1}, \"mode\": \"lines\", \"name\": \"LF\", \"type\": \"scatter\", \"x\": [0.0, 0.1, 0.2, 0.3, 0.4, 0.5, 0.6, 0.7, 0.8, 0.9, 1.0, 1.1, 1.2, 1.3, 1.4, 1.5, 1.6, 1.7, 1.8, 1.9, 2.0, 2.1, 2.2, 2.3, 2.4, 2.5, 2.6, 2.7, 2.8, 2.9, 3.0, 3.1, 3.2, 3.3, 3.4, 3.5, 3.6, 3.7, 3.8, 3.9, 4.0, 4.1, 4.2, 4.3, 4.4, 4.5, 4.6, 4.7, 4.8, 4.9, 5.0, 5.1, 5.2, 5.3, 5.4, 5.5, 5.6, 5.7, 5.8, 5.9, 6.0, 6.1, 6.2, 6.3, 6.4, 6.5, 6.6, 6.7, 6.8, 6.9, 7.0, 7.1, 7.2, 7.3, 7.4, 7.5, 7.6, 7.7, 7.8, 7.9, 8.0, 8.1, 8.2, 8.3, 8.4, 8.5, 8.6, 8.7, 8.8, 8.9, 9.0, 9.1, 9.2, 9.3, 9.4, 9.5, 9.6, 9.7, 9.8, 9.9, 10.0, 10.1, 10.2, 10.3, 10.4, 10.5, 10.6, 10.7, 10.8, 10.9], \"y\": [1056.293396226415, 1056.293396226415, 1056.293396226415, 1056.293396226415, 1056.293396226415, 1056.293396226415, 1056.293396226415, 1056.293396226415, 1056.293396226415, 1056.293396226415, 1056.293396226415, 1056.293396226415, 973.8332228221772, 911.2696186265131, 891.8636641801206, 883.1357372495308, 856.347437068618, 809.3612125112647, 755.3593372912123, 706.2650812235469, 666.4406664191272, 642.7221683500444, 662.3649855494339, 680.9990846024538, 669.8895041304594, 646.3981635661695, 634.7029723048461, 642.2749849356321, 661.358817806522, 680.7360984164741, 694.5662711793311, 703.6235447049651, 711.3640221912622, 719.9697403372156, 729.2982937790547, 738.1468966345062, 745.7644597421313, 752.3092384022389, 758.3631911510699, 764.3147241015033, 770.1679268076357, 775.7444692191659, 780.9399286991979, 785.8004279536248, 790.4359678812493, 794.915422239991, 799.2404873956009, 803.3868785986047, 807.3486374778681, 811.1460934261064, 814.8062291404633, 818.3445551941412, 821.7640188093095, 825.0648856366536, 828.2522531403885, 831.3354741907757, 834.3234135973412, 837.2216380607613, 840.0333877502454, 842.7619439040129, 845.4116646821935, 847.9872851286432, 850.4928604158076, 852.9315210239804, 855.3059777494362, 857.6190207793403, 859.8735528845616, 862.0723209676346, 864.2177381291644, 866.3119495808887, 868.3569974628085, 870.3548953861316, 872.3075824324237, 874.2168565817256, 876.0843704081714, 877.9116781669428, 879.7002747526051, 881.4515961845991, 883.1670008781889, 884.8477632667824, 886.4950869565807, 888.110121442935, 889.6939679475726, 891.2476759909034, 892.7722411632686, 894.2686094128727, 895.7376841973702, 897.1803308104368, 898.597376917237, 899.9896125242982, 901.3577919618267, 902.7026372603775, 904.0248408405417, 905.3250667231104, 906.6039512142768, 907.8621041690149, 909.1001108325659, 910.3185335163532, 911.5179126887815, 912.6987677582547, 913.8615980019254, 915.006883712342, 916.1350872944022, 917.2466541169417, 918.342013200344, 919.4215779266741, 920.4857468231049, 921.5349043194174, 922.5694213925015, 923.5896561233205]}, {\"line\": {\"color\": \"rgb(0, 255, 0)\", \"dash\": \"solid\", \"width\": 1}, \"mode\": \"lines\", \"name\": \"RF\", \"type\": \"scatter\", \"x\": [0.0, 0.1, 0.2, 0.3, 0.4, 0.5, 0.6, 0.7, 0.8, 0.9, 1.0, 1.1, 1.2, 1.3, 1.4, 1.5, 1.6, 1.7, 1.8, 1.9, 2.0, 2.1, 2.2, 2.3, 2.4, 2.5, 2.6, 2.7, 2.8, 2.9, 3.0, 3.1, 3.2, 3.3, 3.4, 3.5, 3.6, 3.7, 3.8, 3.9, 4.0, 4.1, 4.2, 4.3, 4.4, 4.5, 4.6, 4.7, 4.8, 4.9, 5.0, 5.1, 5.2, 5.3, 5.4, 5.5, 5.6, 5.7, 5.8, 5.9, 6.0, 6.1, 6.2, 6.3, 6.4, 6.5, 6.6, 6.7, 6.8, 6.9, 7.0, 7.1, 7.2, 7.3, 7.4, 7.5, 7.6, 7.7, 7.8, 7.9, 8.0, 8.1, 8.2, 8.3, 8.4, 8.5, 8.6, 8.7, 8.8, 8.9, 9.0, 9.1, 9.2, 9.3, 9.4, 9.5, 9.6, 9.7, 9.8, 9.9, 10.0, 10.1, 10.2, 10.3, 10.4, 10.5, 10.6, 10.7, 10.8, 10.9], \"y\": [1056.293396226415, 1056.293396226415, 1056.293396226415, 1056.293396226415, 1056.293396226415, 1056.293396226415, 1056.293396226415, 1056.293396226415, 1056.293396226415, 1056.293396226415, 1056.293396226415, 1056.293396226415, 1141.3875727809318, 1211.3530546861718, 1238.5229042089597, 1254.506715504925, 1290.9255196763695, 1352.2600584409668, 1425.2639493767651, 1496.6219266936714, 1560.799041371821, 1607.146544458194, 1575.7163935141964, 1541.345217000653, 1549.7216518999808, 1579.3971030166508, 1596.3764773028863, 1588.065573901795, 1563.545394177274, 1537.9658694877664, 1519.7496027396742, 1508.208612595289, 1498.659668475894, 1487.9453029227775, 1476.1005358252387, 1464.7414557194859, 1454.9630041653259, 1446.6229379246984, 1438.9519936788809, 1431.404217091251, 1423.9525443426285, 1416.836054934514, 1410.2082315448306, 1404.0185626645862, 1398.1216867841813, 1392.4217013589573, 1386.9136343206098, 1381.6310110394306, 1376.5848052387373, 1371.750019124721, 1367.0909988619685, 1362.5866018998158, 1358.2328603989154, 1354.0300819389547, 1349.9723297819837, 1346.0476876082912, 1342.2445345996957, 1338.5555579560794, 1334.9766712427786, 1331.5038477940768, 1328.131607887035, 1324.8538714471215, 1321.665394011855, 1318.5621614171712, 1315.540746769598, 1312.597624696025, 1309.7290963052158, 1306.9316404586427, 1304.20216654272, 1301.5379415714401, 1298.9363711668684, 1296.394891940007, 1293.9110276915135, 1291.4824806157976, 1289.107142315066, 1286.783033241626, 1284.5082492015829, 1282.2809586876692, 1280.0994279282309, 1277.9620310501784, 1275.8672338020617, 1273.8135712321036, 1271.7996393087456, 1269.824099375425, 1267.8856816520438, 1265.9831801078647, 1264.115443112133, 1262.2813675539046, 1260.4798980938785, 1258.7100274034892, 1256.9707937976625, 1255.2612768880783, 1253.5805940206772, 1251.9278986814907, 1250.3023796816253, 1248.70325961362, 1247.1297925011654, 1245.5812616140126, 1244.0569780501073, 1242.5562797538405, 1241.0785303589023, 1239.623117729149, 1238.1894525420098, 1236.7769671898343, 1235.385114907737, 1234.0133688789442, 1232.6612212380062, 1231.3281820979191, 1230.0137787224432, 1228.717554817152]}, {\"line\": {\"color\": \"rgb(153, 0, 204)\", \"dash\": \"solid\", \"width\": 1}, \"mode\": \"lines\", \"name\": \"RR\", \"type\": \"scatter\", \"x\": [0.0, 0.1, 0.2, 0.3, 0.4, 0.5, 0.6, 0.7, 0.8, 0.9, 1.0, 1.1, 1.2, 1.3, 1.4, 1.5, 1.6, 1.7, 1.8, 1.9, 2.0, 2.1, 2.2, 2.3, 2.4, 2.5, 2.6, 2.7, 2.8, 2.9, 3.0, 3.1, 3.2, 3.3, 3.4, 3.5, 3.6, 3.7, 3.8, 3.9, 4.0, 4.1, 4.2, 4.3, 4.4, 4.5, 4.6, 4.7, 4.8, 4.9, 5.0, 5.1, 5.2, 5.3, 5.4, 5.5, 5.6, 5.7, 5.8, 5.9, 6.0, 6.1, 6.2, 6.3, 6.4, 6.5, 6.6, 6.7, 6.8, 6.9, 7.0, 7.1, 7.2, 7.3, 7.4, 7.5, 7.6, 7.7, 7.8, 7.9, 8.0, 8.1, 8.2, 8.3, 8.4, 8.5, 8.6, 8.7, 8.8, 8.9, 9.0, 9.1, 9.2, 9.3, 9.4, 9.5, 9.6, 9.7, 9.8, 9.9, 10.0, 10.1, 10.2, 10.3, 10.4, 10.5, 10.6, 10.7, 10.8, 10.9], \"y\": [592.7066037735849, 592.7066037735849, 592.7066037735849, 592.7066037735849, 592.7066037735849, 592.7066037735849, 592.7066037735849, 592.7066037735849, 592.7066037735849, 592.7066037735849, 592.7066037735849, 592.7066037735849, 638.3985913989503, 671.8799660967723, 681.065309657439, 684.3704840169585, 697.2885948775454, 720.5048728443676, 746.6365578475986, 769.2987332461901, 786.3010156604731, 794.6442056704059, 786.2088586527022, 779.206256005305, 786.0398183766708, 797.8642193821047, 803.267053844332, 799.180393921572, 789.665040986936, 780.1530976223735, 773.3552068729648, 768.818023607762, 764.8715429097538, 760.5054307596198, 755.8231582608843, 751.4089364970666, 747.6087609956361, 744.3303179617576, 741.2881614606475, 738.2989217667259, 735.365345633139, 732.574166610603, 729.9732125025706, 727.537566049419, 725.2132631695064, 722.9675886749928, 720.8003095236534, 718.7230245918474, 716.7379766659176, 714.8347829669812, 713.0002057807379, 711.2267777084426, 709.513068971469, 707.858804718217, 706.2613088336946, 704.7158957662053, 703.218196079609, 701.7654693554356, 700.3560831770191, 698.9883599551631, 697.6601003582756, 696.3689426159028, 695.112872270774, 693.8903266658792, 692.6999418617509, 691.5403135600028, 690.4099876608324, 689.3075927228513, 688.2319233824411, 687.1819049013026, 686.1565125785687, 685.1547371815745, 684.1756085195582, 683.2182273931246, 682.2817665371492, 681.3654471554021, 680.4685202504912, 679.5902668301911, 678.7300070298286, 677.887102860278, 677.0609515117894, 676.2509772042135, 675.4566284694897, 674.6773798496066, 673.9127328679132, 673.1622138072247, 672.4253701792135, 671.7017686376093, 670.9909947244131, 670.2926528409456, 669.6063652200002, 668.9317702440002, 668.2685211272931, 667.6162853213689, 666.9747441588677, 666.3435922061749, 665.722536341777, 665.1112949276068, 664.5095972687478, 663.9171832176771, 663.3338027032446, 662.7592151558401, 662.1931889620139, 661.6355010408477, 661.0859364986227, 660.5442882708395, 660.0103567294425, 659.4839493050351, 658.9648801654347, 658.4529699365014]}, {\"line\": {\"color\": \"rgb(255, 102, 0)\", \"dash\": \"solid\", \"width\": 1}, \"mode\": \"lines\", \"name\": \"LR\", \"type\": \"scatter\", \"x\": [0.0, 0.1, 0.2, 0.3, 0.4, 0.5, 0.6, 0.7, 0.8, 0.9, 1.0, 1.1, 1.2, 1.3, 1.4, 1.5, 1.6, 1.7, 1.8, 1.9, 2.0, 2.1, 2.2, 2.3, 2.4, 2.5, 2.6, 2.7, 2.8, 2.9, 3.0, 3.1, 3.2, 3.3, 3.4, 3.5, 3.6, 3.7, 3.8, 3.9, 4.0, 4.1, 4.2, 4.3, 4.4, 4.5, 4.6, 4.7, 4.8, 4.9, 5.0, 5.1, 5.2, 5.3, 5.4, 5.5, 5.6, 5.7, 5.8, 5.9, 6.0, 6.1, 6.2, 6.3, 6.4, 6.5, 6.6, 6.7, 6.8, 6.9, 7.0, 7.1, 7.2, 7.3, 7.4, 7.5, 7.6, 7.7, 7.8, 7.9, 8.0, 8.1, 8.2, 8.3, 8.4, 8.5, 8.6, 8.7, 8.8, 8.9, 9.0, 9.1, 9.2, 9.3, 9.4, 9.5, 9.6, 9.7, 9.8, 9.9, 10.0, 10.1, 10.2, 10.3, 10.4, 10.5, 10.6, 10.7, 10.8, 10.9], \"y\": [592.7066037735849, 592.7066037735849, 592.7066037735849, 592.7066037735849, 592.7066037735849, 592.7066037735849, 592.7066037735849, 592.7066037735849, 592.7066037735849, 592.7066037735849, 592.7066037735849, 592.7066037735849, 544.3806129979408, 503.4973605905425, 486.5481219534808, 475.9870632285856, 453.43844837746695, 415.87385620340086, 370.7401554844239, 325.81425883659136, 284.4592765485787, 253.48708152135578, 273.70976228366766, 296.4494423915878, 292.3490255928891, 274.3405140350748, 263.65349654793533, 268.4790472410006, 283.43074702926816, 299.14493447338606, 310.32891920802996, 317.34981909198393, 323.10476642309, 329.5795259803871, 336.77801213482223, 343.7027111489412, 349.663775096907, 354.73750571130523, 359.3966537094017, 363.9821370405198, 368.5141832165968, 372.84530923571697, 376.8786272534011, 380.64344333236994, 384.229082165063, 387.6952877260588, 391.04556876013584, 394.25908577011734, 397.328580617477, 400.26910448219166, 403.10256621683004, 405.84206519760005, 408.4900518203058, 411.04622770617465, 413.51410824393344, 415.90094243472765, 418.2138557233541, 420.457334627724, 422.63385782995704, 424.7458483467472, 426.79662707249565, 428.78990080833256, 430.7288733015634, 432.6159908929695, 434.45333361921536, 436.2430409646319, 437.98736314939026, 439.6884458508717, 441.34817194567415, 442.96820394636876, 444.5501187917546, 446.09547549228654, 447.60578135650485, 449.08243540935223, 450.5267207396134, 451.9398414360291, 453.3229557953211, 454.6771782975406, 456.0035641637519, 457.3031028227612, 458.5767277295681, 459.82533012074776, 461.0497642741923, 462.25084478406495, 463.4293443167743, 464.58599667203777, 465.7215025112833, 466.8365329980493, 467.9317302644714, 469.0077072312671, 470.06504902051057, 471.1043156075437, 472.12604401148815, 473.1307492740302, 474.1189249452302, 475.09104401119026, 476.04756032449205, 476.9889099420276, 477.9155119923633, 478.8277692702277, 479.72606893592774, 480.61078340266863, 481.4822712015742, 482.34087765237626, 483.1869353932961, 484.02076492354206, 484.84267520944627, 485.65296427762837, 486.4519197196206, 487.2398191230261]}],\n",
       "                        {\"autosize\": false, \"font\": {\"color\": \"black\", \"family\": \"Arial\", \"size\": 16}, \"height\": 450, \"legend\": {\"orientation\": \"h\", \"x\": 0.01, \"xanchor\": \"left\", \"y\": 1.15, \"yanchor\": \"top\"}, \"template\": {\"data\": {\"bar\": [{\"error_x\": {\"color\": \"#2a3f5f\"}, \"error_y\": {\"color\": \"#2a3f5f\"}, \"marker\": {\"line\": {\"color\": \"white\", \"width\": 0.5}}, \"type\": \"bar\"}], \"barpolar\": [{\"marker\": {\"line\": {\"color\": \"white\", \"width\": 0.5}}, \"type\": \"barpolar\"}], \"carpet\": [{\"aaxis\": {\"endlinecolor\": \"#2a3f5f\", \"gridcolor\": \"#C8D4E3\", \"linecolor\": \"#C8D4E3\", \"minorgridcolor\": \"#C8D4E3\", \"startlinecolor\": \"#2a3f5f\"}, \"baxis\": {\"endlinecolor\": \"#2a3f5f\", \"gridcolor\": \"#C8D4E3\", \"linecolor\": \"#C8D4E3\", \"minorgridcolor\": \"#C8D4E3\", \"startlinecolor\": \"#2a3f5f\"}, \"type\": \"carpet\"}], \"choropleth\": [{\"colorbar\": {\"outlinewidth\": 0, \"ticks\": \"\"}, \"type\": \"choropleth\"}], \"contour\": [{\"colorbar\": {\"outlinewidth\": 0, \"ticks\": \"\"}, \"colorscale\": [[0.0, \"#0d0887\"], [0.1111111111111111, \"#46039f\"], [0.2222222222222222, \"#7201a8\"], [0.3333333333333333, \"#9c179e\"], [0.4444444444444444, \"#bd3786\"], [0.5555555555555556, \"#d8576b\"], [0.6666666666666666, \"#ed7953\"], [0.7777777777777778, \"#fb9f3a\"], [0.8888888888888888, \"#fdca26\"], [1.0, \"#f0f921\"]], \"type\": \"contour\"}], \"contourcarpet\": [{\"colorbar\": {\"outlinewidth\": 0, \"ticks\": \"\"}, \"type\": \"contourcarpet\"}], \"heatmap\": [{\"colorbar\": {\"outlinewidth\": 0, \"ticks\": \"\"}, \"colorscale\": [[0.0, \"#0d0887\"], [0.1111111111111111, \"#46039f\"], [0.2222222222222222, \"#7201a8\"], [0.3333333333333333, \"#9c179e\"], [0.4444444444444444, \"#bd3786\"], [0.5555555555555556, \"#d8576b\"], [0.6666666666666666, \"#ed7953\"], [0.7777777777777778, \"#fb9f3a\"], [0.8888888888888888, \"#fdca26\"], [1.0, \"#f0f921\"]], \"type\": \"heatmap\"}], \"heatmapgl\": [{\"colorbar\": {\"outlinewidth\": 0, \"ticks\": \"\"}, \"colorscale\": [[0.0, \"#0d0887\"], [0.1111111111111111, \"#46039f\"], [0.2222222222222222, \"#7201a8\"], [0.3333333333333333, \"#9c179e\"], [0.4444444444444444, \"#bd3786\"], [0.5555555555555556, \"#d8576b\"], [0.6666666666666666, \"#ed7953\"], [0.7777777777777778, \"#fb9f3a\"], [0.8888888888888888, \"#fdca26\"], [1.0, \"#f0f921\"]], \"type\": \"heatmapgl\"}], \"histogram\": [{\"marker\": {\"colorbar\": {\"outlinewidth\": 0, \"ticks\": \"\"}}, \"type\": \"histogram\"}], \"histogram2d\": [{\"colorbar\": {\"outlinewidth\": 0, \"ticks\": \"\"}, \"colorscale\": [[0.0, \"#0d0887\"], [0.1111111111111111, \"#46039f\"], [0.2222222222222222, \"#7201a8\"], [0.3333333333333333, \"#9c179e\"], [0.4444444444444444, \"#bd3786\"], [0.5555555555555556, \"#d8576b\"], [0.6666666666666666, \"#ed7953\"], [0.7777777777777778, \"#fb9f3a\"], [0.8888888888888888, \"#fdca26\"], [1.0, \"#f0f921\"]], \"type\": \"histogram2d\"}], \"histogram2dcontour\": [{\"colorbar\": {\"outlinewidth\": 0, \"ticks\": \"\"}, \"colorscale\": [[0.0, \"#0d0887\"], [0.1111111111111111, \"#46039f\"], [0.2222222222222222, \"#7201a8\"], [0.3333333333333333, \"#9c179e\"], [0.4444444444444444, \"#bd3786\"], [0.5555555555555556, \"#d8576b\"], [0.6666666666666666, \"#ed7953\"], [0.7777777777777778, \"#fb9f3a\"], [0.8888888888888888, \"#fdca26\"], [1.0, \"#f0f921\"]], \"type\": \"histogram2dcontour\"}], \"mesh3d\": [{\"colorbar\": {\"outlinewidth\": 0, \"ticks\": \"\"}, \"type\": \"mesh3d\"}], \"parcoords\": [{\"line\": {\"colorbar\": {\"outlinewidth\": 0, \"ticks\": \"\"}}, \"type\": \"parcoords\"}], \"pie\": [{\"automargin\": true, \"type\": \"pie\"}], \"scatter\": [{\"marker\": {\"colorbar\": {\"outlinewidth\": 0, \"ticks\": \"\"}}, \"type\": \"scatter\"}], \"scatter3d\": [{\"line\": {\"colorbar\": {\"outlinewidth\": 0, \"ticks\": \"\"}}, \"marker\": {\"colorbar\": {\"outlinewidth\": 0, \"ticks\": \"\"}}, \"type\": \"scatter3d\"}], \"scattercarpet\": [{\"marker\": {\"colorbar\": {\"outlinewidth\": 0, \"ticks\": \"\"}}, \"type\": \"scattercarpet\"}], \"scattergeo\": [{\"marker\": {\"colorbar\": {\"outlinewidth\": 0, \"ticks\": \"\"}}, \"type\": \"scattergeo\"}], \"scattergl\": [{\"marker\": {\"colorbar\": {\"outlinewidth\": 0, \"ticks\": \"\"}}, \"type\": \"scattergl\"}], \"scattermapbox\": [{\"marker\": {\"colorbar\": {\"outlinewidth\": 0, \"ticks\": \"\"}}, \"type\": \"scattermapbox\"}], \"scatterpolar\": [{\"marker\": {\"colorbar\": {\"outlinewidth\": 0, \"ticks\": \"\"}}, \"type\": \"scatterpolar\"}], \"scatterpolargl\": [{\"marker\": {\"colorbar\": {\"outlinewidth\": 0, \"ticks\": \"\"}}, \"type\": \"scatterpolargl\"}], \"scatterternary\": [{\"marker\": {\"colorbar\": {\"outlinewidth\": 0, \"ticks\": \"\"}}, \"type\": \"scatterternary\"}], \"surface\": [{\"colorbar\": {\"outlinewidth\": 0, \"ticks\": \"\"}, \"colorscale\": [[0.0, \"#0d0887\"], [0.1111111111111111, \"#46039f\"], [0.2222222222222222, \"#7201a8\"], [0.3333333333333333, \"#9c179e\"], [0.4444444444444444, \"#bd3786\"], [0.5555555555555556, \"#d8576b\"], [0.6666666666666666, \"#ed7953\"], [0.7777777777777778, \"#fb9f3a\"], [0.8888888888888888, \"#fdca26\"], [1.0, \"#f0f921\"]], \"type\": \"surface\"}], \"table\": [{\"cells\": {\"fill\": {\"color\": \"#EBF0F8\"}, \"line\": {\"color\": \"white\"}}, \"header\": {\"fill\": {\"color\": \"#C8D4E3\"}, \"line\": {\"color\": \"white\"}}, \"type\": \"table\"}]}, \"layout\": {\"annotationdefaults\": {\"arrowcolor\": \"#2a3f5f\", \"arrowhead\": 0, \"arrowwidth\": 1}, \"coloraxis\": {\"colorbar\": {\"outlinewidth\": 0, \"ticks\": \"\"}}, \"colorscale\": {\"diverging\": [[0, \"#8e0152\"], [0.1, \"#c51b7d\"], [0.2, \"#de77ae\"], [0.3, \"#f1b6da\"], [0.4, \"#fde0ef\"], [0.5, \"#f7f7f7\"], [0.6, \"#e6f5d0\"], [0.7, \"#b8e186\"], [0.8, \"#7fbc41\"], [0.9, \"#4d9221\"], [1, \"#276419\"]], \"sequential\": [[0.0, \"#0d0887\"], [0.1111111111111111, \"#46039f\"], [0.2222222222222222, \"#7201a8\"], [0.3333333333333333, \"#9c179e\"], [0.4444444444444444, \"#bd3786\"], [0.5555555555555556, \"#d8576b\"], [0.6666666666666666, \"#ed7953\"], [0.7777777777777778, \"#fb9f3a\"], [0.8888888888888888, \"#fdca26\"], [1.0, \"#f0f921\"]], \"sequentialminus\": [[0.0, \"#0d0887\"], [0.1111111111111111, \"#46039f\"], [0.2222222222222222, \"#7201a8\"], [0.3333333333333333, \"#9c179e\"], [0.4444444444444444, \"#bd3786\"], [0.5555555555555556, \"#d8576b\"], [0.6666666666666666, \"#ed7953\"], [0.7777777777777778, \"#fb9f3a\"], [0.8888888888888888, \"#fdca26\"], [1.0, \"#f0f921\"]]}, \"colorway\": [\"#636efa\", \"#EF553B\", \"#00cc96\", \"#ab63fa\", \"#FFA15A\", \"#19d3f3\", \"#FF6692\", \"#B6E880\", \"#FF97FF\", \"#FECB52\"], \"font\": {\"color\": \"#2a3f5f\"}, \"geo\": {\"bgcolor\": \"white\", \"lakecolor\": \"white\", \"landcolor\": \"white\", \"showlakes\": true, \"showland\": true, \"subunitcolor\": \"#C8D4E3\"}, \"hoverlabel\": {\"align\": \"left\"}, \"hovermode\": \"closest\", \"mapbox\": {\"style\": \"light\"}, \"paper_bgcolor\": \"white\", \"plot_bgcolor\": \"white\", \"polar\": {\"angularaxis\": {\"gridcolor\": \"#EBF0F8\", \"linecolor\": \"#EBF0F8\", \"ticks\": \"\"}, \"bgcolor\": \"white\", \"radialaxis\": {\"gridcolor\": \"#EBF0F8\", \"linecolor\": \"#EBF0F8\", \"ticks\": \"\"}}, \"scene\": {\"xaxis\": {\"backgroundcolor\": \"white\", \"gridcolor\": \"#DFE8F3\", \"gridwidth\": 2, \"linecolor\": \"#EBF0F8\", \"showbackground\": true, \"ticks\": \"\", \"zerolinecolor\": \"#EBF0F8\"}, \"yaxis\": {\"backgroundcolor\": \"white\", \"gridcolor\": \"#DFE8F3\", \"gridwidth\": 2, \"linecolor\": \"#EBF0F8\", \"showbackground\": true, \"ticks\": \"\", \"zerolinecolor\": \"#EBF0F8\"}, \"zaxis\": {\"backgroundcolor\": \"white\", \"gridcolor\": \"#DFE8F3\", \"gridwidth\": 2, \"linecolor\": \"#EBF0F8\", \"showbackground\": true, \"ticks\": \"\", \"zerolinecolor\": \"#EBF0F8\"}}, \"shapedefaults\": {\"line\": {\"color\": \"#2a3f5f\"}}, \"ternary\": {\"aaxis\": {\"gridcolor\": \"#DFE8F3\", \"linecolor\": \"#A2B1C6\", \"ticks\": \"\"}, \"baxis\": {\"gridcolor\": \"#DFE8F3\", \"linecolor\": \"#A2B1C6\", \"ticks\": \"\"}, \"bgcolor\": \"white\", \"caxis\": {\"gridcolor\": \"#DFE8F3\", \"linecolor\": \"#A2B1C6\", \"ticks\": \"\"}}, \"title\": {\"x\": 0.05}, \"xaxis\": {\"automargin\": true, \"gridcolor\": \"#EBF0F8\", \"linecolor\": \"#EBF0F8\", \"ticks\": \"\", \"title\": {\"standoff\": 15}, \"zerolinecolor\": \"#EBF0F8\", \"zerolinewidth\": 2}, \"yaxis\": {\"automargin\": true, \"gridcolor\": \"#EBF0F8\", \"linecolor\": \"#EBF0F8\", \"ticks\": \"\", \"title\": {\"standoff\": 15}, \"zerolinecolor\": \"#EBF0F8\", \"zerolinewidth\": 2}}}, \"title\": {\"text\": \"Vertical Tire Forces\"}, \"width\": 800, \"xaxis\": {\"linecolor\": \"black\", \"linewidth\": 1, \"showline\": true, \"tickcolor\": \"black\", \"ticklen\": 10, \"ticks\": \"outside\", \"tickwidth\": 1, \"title\": {\"text\": \"Time (s)\"}, \"zeroline\": false}, \"yaxis\": {\"linecolor\": \"black\", \"linewidth\": 1, \"showline\": true, \"tickcolor\": \"black\", \"ticklen\": 10, \"ticks\": \"outside\", \"tickwidth\": 1, \"title\": {\"text\": \"Vertical Force (lb)\"}, \"zeroline\": false}},\n",
       "                        {\"responsive\": true}\n",
       "                    ).then(function(){\n",
       "                            \n",
       "var gd = document.getElementById('b955737e-6826-4daa-ad57-7a77118da39a');\n",
       "var x = new MutationObserver(function (mutations, observer) {{\n",
       "        var display = window.getComputedStyle(gd).display;\n",
       "        if (!display || display === 'none') {{\n",
       "            console.log([gd, 'removed!']);\n",
       "            Plotly.purge(gd);\n",
       "            observer.disconnect();\n",
       "        }}\n",
       "}});\n",
       "\n",
       "// Listen for the removal of the full notebook cells\n",
       "var notebookContainer = gd.closest('#notebook-container');\n",
       "if (notebookContainer) {{\n",
       "    x.observe(notebookContainer, {childList: true});\n",
       "}}\n",
       "\n",
       "// Listen for the clearing of the current output cell\n",
       "var outputEl = gd.closest('.output');\n",
       "if (outputEl) {{\n",
       "    x.observe(outputEl, {childList: true});\n",
       "}}\n",
       "\n",
       "                        })\n",
       "                };\n",
       "                });\n",
       "            </script>\n",
       "        </div>"
      ]
     },
     "metadata": {},
     "output_type": "display_data"
    }
   ],
   "source": [
    "vertical_forces(run.veh)"
   ]
  },
  {
   "cell_type": "markdown",
   "metadata": {},
   "source": [
    "### Get position data for validation vehicle"
   ]
  },
  {
   "cell_type": "code",
   "execution_count": 75,
   "metadata": {},
   "outputs": [],
   "source": [
    "from pycrash.visualization.cg_motion_compare import cg_motion"
   ]
  },
  {
   "cell_type": "code",
   "execution_count": 76,
   "metadata": {},
   "outputs": [
    {
     "data": {
      "application/vnd.plotly.v1+json": {
       "config": {
        "plotlyServerURL": "https://plot.ly"
       },
       "data": [
        {
         "marker": {
          "color": "rgb(0, 0, 0)",
          "size": 2
         },
         "mode": "markers",
         "name": "pycrash",
         "type": "scatter",
         "x": [
          0,
          2.200005,
          4.40001,
          6.600014999999999,
          8.80002,
          11.000024999999999,
          13.200029999999998,
          15.400034999999997,
          17.60004,
          19.800044999999997,
          22.000049999999995,
          24.19976088771474,
          26.397695946188037,
          28.590678788460963,
          30.774378708011312,
          32.943307291564906,
          35.089313416835054,
          37.19982315859542,
          39.257186921462804,
          41.239234083422666,
          43.120973226464024,
          44.882243498692866,
          46.51493644866533,
          48.01540108081789,
          49.37362653025153,
          50.574626930964456,
          51.60629858105683,
          52.46418520416815,
          53.15036371044899,
          53.66949735467352,
          54.025951899325165,
          54.223379383383204,
          54.26572098727544,
          54.158032590454035,
          53.906475260525234,
          53.51781844231075,
          52.999042959216666,
          52.357273868531564,
          51.59989485794441,
          50.73461959039584,
          49.76944195420018,
          48.71252772168733,
          47.572129377251464,
          46.35654661979595,
          45.07410643481817,
          43.73313522409114,
          42.34191880741103,
          40.90866106911674,
          39.441449508648766,
          37.948227247314136,
          36.43676739617297,
          34.914647883332655,
          33.38922766341271,
          31.867625520271126,
          30.35670143896446,
          28.86303987856091,
          27.39293468069172,
          25.952375859207997,
          24.54703845858482,
          23.182273302407552,
          21.863099320518128,
          20.59419733612103,
          19.379905394393177,
          18.224215689133402,
          17.130772984741533,
          16.102874351601866,
          15.143470096295523,
          14.255165862597991,
          13.440225894353711,
          12.70057739631155,
          12.037815885161042,
          11.453211433858451,
          10.94771574948598,
          10.521970041610949,
          10.1763136248891,
          9.910793181901761,
          9.725172611669993,
          9.618943402222897,
          9.591335475399386,
          9.641328451247443,
          9.767663274394126,
          9.968854144289498,
          10.243200696171353,
          10.588800384810943,
          11.003561025014958,
          11.48521344274476,
          12.031324191587835,
          12.63930829206496,
          13.306441954433165,
          14.029875247872102,
          14.806644680375486,
          15.63368565526388,
          16.507844772403654,
          17.425891944570672,
          18.384532301468397,
          19.380417855692244,
          20.410158906708507,
          21.470335160833077,
          22.557506547142943,
          23.668223711089055,
          24.799038169296306,
          25.9465121107155,
          27.107227830973684,
          28.27779678841623,
          29.454868271908236,
          30.635137671968145,
          31.815354348263472,
          32.99232908791554,
          34.16294115041998,
          35.324144896286604
         ],
         "y": [
          0,
          0,
          0,
          0,
          0,
          0,
          0,
          0,
          0,
          0,
          0,
          -0.007980443550338504,
          -0.0462067092634732,
          -0.13744869965113374,
          -0.29344878194986945,
          -0.5213206684629942,
          -0.8323542261633423,
          -1.2437108233742586,
          -1.7742812488667163,
          -2.4397579046084914,
          -3.2490823896549825,
          -4.20016890470491,
          -5.279750882955415,
          -6.472547435882074,
          -7.7678824515674565,
          -9.156480508390482,
          -10.625841908026933,
          -12.159920382800841,
          -13.741558157295124,
          -15.354532526544439,
          -16.984060393596284,
          -18.61644593271259,
          -20.238808515922404,
          -21.839138542290744,
          -23.40641330695374,
          -24.93055432376933,
          -26.402282789345463,
          -27.81303429740086,
          -29.15498401751188,
          -30.42110494947774,
          -31.605174042883778,
          -32.70171975220416,
          -33.70596213312231,
          -34.613784872595325,
          -35.42173390316287,
          -36.127013891139555,
          -36.72746592847565,
          -37.22153268215976,
          -37.60822562952969,
          -37.88710069273016,
          -38.05823780440977,
          -38.12221765947812,
          -38.08009387154002,
          -37.93336344511241,
          -37.68393863487315,
          -37.33412058132479,
          -36.88657325878912,
          -36.34429664312545,
          -35.71059932855025,
          -34.989071446076295,
          -34.1835583577382,
          -33.29813499893356,
          -32.33708058178246,
          -31.304853615512165,
          -30.20606743398758,
          -29.045466418327344,
          -27.82790296458966,
          -26.558315162909736,
          -25.241705179177142,
          -23.883118386465206,
          -22.4876233068491,
          -21.06029239691754,
          -19.606183684686783,
          -18.13032326333517,
          -16.637688655917163,
          -15.13319306696336,
          -13.621670529608178,
          -12.107861949526296,
          -10.596402044548539,
          -9.091807178558946,
          -7.5984640862050306,
          -6.1206194812393715,
          -4.662370538384184,
          -3.2276562372128788,
          -1.8202495553165017,
          -0.443750495929923,
          0.8984200671931377,
          2.203025746529802,
          3.4670192189413322,
          4.687546045929652,
          5.861947758049352,
          6.987764226940929,
          8.062735349419482,
          9.08480206858552,
          10.05210675741791,
          10.96299299097556,
          11.816004733999177,
          12.60988497112196,
          13.343573807062706,
          14.01620606427412,
          14.627108405662065,
          15.175796010106419,
          15.661968828489968,
          16.08550744777116,
          16.446468590404816,
          16.745080276175415,
          16.981736673233474,
          17.156992664769575,
          17.271558157320154,
          17.326292156212816
         ]
        },
        {
         "marker": {
          "color": "rgb(0, 0, 256)",
          "size": 2
         },
         "mode": "markers",
         "name": "validate",
         "type": "scatter",
         "x": [
          0,
          2.200005,
          4.40001,
          6.600014999999999,
          8.80002,
          11.000024999999999,
          13.200029999999998,
          15.400034999999997,
          17.60004,
          19.800044999999997,
          22.000049999999995,
          24.200054999999995,
          26.398593329999994,
          28.591264979999995,
          30.77220326999999,
          32.932608179999995,
          35.060013014999996,
          37.13828440499999,
          39.14688896999999,
          41.06235998999999,
          42.859030739999994,
          44.514167834999995,
          46.014571245,
          47.352907619999996,
          48.522576945,
          49.518445875,
          50.336847735,
          50.97558252,
          51.433916895,
          51.713317530000005,
          51.81671776500001,
          51.74778427500001,
          51.511650405000005,
          51.11491617000001,
          50.565648255000006,
          49.87264668,
          49.044711465,
          48.09064263,
          47.0214402,
          45.8481042,
          44.58090132,
          43.23229825500001,
          41.814028365000006,
          40.33709167500001,
          38.813221545000005,
          37.25415133500001,
          35.671614405000014,
          34.07661078,
          32.47940715000001,
          30.89100354,
          29.322399975000007,
          27.783129810000013,
          26.282726400000005,
          24.82998976500001,
          23.432986590000002,
          22.099783560000006,
          20.83771402500001,
          19.653378000000004,
          18.55190883000001,
          17.538439860000004,
          16.618837770000006,
          15.796769235000008,
          15.075167595000005,
          14.456966190000008,
          13.944365025000005,
          13.538830770000006,
          13.240363425000007,
          13.049696325000006,
          12.966829470000008,
          12.990296190000008,
          13.118629815000007,
          13.350363675000006,
          13.682564430000008,
          14.112298740000007,
          14.63663326500001,
          15.251167995000007,
          15.951502920000005,
          16.73323803000001,
          17.591239980000008,
          18.52037542500001,
          19.51624435500001,
          20.572980090000005,
          21.683982615,
          22.84338525000002,
          24.045321315000013,
          25.28392413000001,
          26.552593680000005,
          27.84472995,
          29.15446626000002,
          30.475935930000016,
          31.802538945000013,
          33.127675290000006,
          34.445478285,
          35.750814585000015,
          37.03781751000001,
          38.300620380000005,
          39.53408985,
          40.732359239999994,
          41.89029520500001,
          43.00423107,
          44.069766825,
          45.08250246,
          46.0387713,
          46.93417333500001,
          47.765775225000006,
          48.531376965,
          49.228045214999995,
          49.85284663499999,
          50.404314555,
          50.880982304999996
         ],
         "y": [
          0,
          0,
          0,
          0,
          0,
          0,
          0,
          0,
          0,
          0,
          0,
          -0.008800020000000007,
          -0.047666774999999946,
          -0.14080032000000003,
          -0.3109340399999998,
          -0.58080132,
          -0.9716688750000002,
          -1.5011367449999995,
          -2.18240496,
          -3.0242735399999985,
          -4.03040916,
          -5.195678475,
          -6.5061481200000015,
          -7.944218054999997,
          -9.492288239999999,
          -11.1320253,
          -12.844362525000001,
          -14.610966540000003,
          -16.413503969999997,
          -18.23364144,
          -20.054512245,
          -21.860716350000004,
          -23.636853720000005,
          -25.368257654999997,
          -27.04246146,
          -28.64699844,
          -30.170135235000004,
          -31.602338490000005,
          -32.93407485,
          -34.15727763,
          -35.26608015000001,
          -36.253882395000005,
          -37.11628435500001,
          -37.85035269000001,
          -38.45242072500001,
          -38.92102179000001,
          -39.25542255000001,
          -39.455623005000014,
          -39.52382316000001,
          -39.46148968500001,
          -39.27082258500001,
          -38.956221870000014,
          -38.52135421500001,
          -37.97061963000001,
          -37.309884795,
          -36.54501639000001,
          -35.68188109500001,
          -34.72781226,
          -33.690143235,
          -32.57547403499999,
          -31.391871344999995,
          -30.147401849999998,
          -28.85013223499999,
          -27.508129184999994,
          -26.129459384999986,
          -24.722922854999993,
          -23.29658628,
          -21.85778300999999,
          -20.414579729999996,
          -18.975776459999988,
          -17.54870654999999,
          -16.140703349999995,
          -14.759100209999989,
          -13.410497144999994,
          -12.101494169999986,
          -10.83869129999999,
          -9.627955214999995,
          -8.474419259999989,
          -7.383950114999992,
          -6.360947789999987,
          -5.40907895999999,
          -4.532743634999993,
          -3.735608489999996,
          -3.020606864999986,
          -2.3899387649999886,
          -1.8458041949999906,
          -1.3904031599999922,
          -1.0244689949999937,
          -0.7487350349999897,
          -0.5639346149999904,
          -0.46933439999999077,
          -0.46493438999999076,
          -0.5500012499999904,
          -0.7230683099999928,
          -0.982668899999992,
          -1.3266030149999908,
          -1.7526706499999891,
          -2.257938464999987,
          -2.8394731199999956,
          -3.4943412749999934,
          -4.218876254999991,
          -5.0094113849999875,
          -5.862279989999984,
          -6.7730820599999975,
          -7.737417584999994,
          -8.75015321999999,
          -9.806888954999987,
          -10.903224779999983,
          -12.034027349999999,
          -13.194896654999994
         ]
        }
       ],
       "layout": {
        "autosize": false,
        "font": {
         "color": "black",
         "family": "Arial",
         "size": 16
        },
        "height": 900,
        "showlegend": false,
        "template": {
         "data": {
          "bar": [
           {
            "error_x": {
             "color": "#2a3f5f"
            },
            "error_y": {
             "color": "#2a3f5f"
            },
            "marker": {
             "line": {
              "color": "white",
              "width": 0.5
             }
            },
            "type": "bar"
           }
          ],
          "barpolar": [
           {
            "marker": {
             "line": {
              "color": "white",
              "width": 0.5
             }
            },
            "type": "barpolar"
           }
          ],
          "carpet": [
           {
            "aaxis": {
             "endlinecolor": "#2a3f5f",
             "gridcolor": "#C8D4E3",
             "linecolor": "#C8D4E3",
             "minorgridcolor": "#C8D4E3",
             "startlinecolor": "#2a3f5f"
            },
            "baxis": {
             "endlinecolor": "#2a3f5f",
             "gridcolor": "#C8D4E3",
             "linecolor": "#C8D4E3",
             "minorgridcolor": "#C8D4E3",
             "startlinecolor": "#2a3f5f"
            },
            "type": "carpet"
           }
          ],
          "choropleth": [
           {
            "colorbar": {
             "outlinewidth": 0,
             "ticks": ""
            },
            "type": "choropleth"
           }
          ],
          "contour": [
           {
            "colorbar": {
             "outlinewidth": 0,
             "ticks": ""
            },
            "colorscale": [
             [
              0,
              "#0d0887"
             ],
             [
              0.1111111111111111,
              "#46039f"
             ],
             [
              0.2222222222222222,
              "#7201a8"
             ],
             [
              0.3333333333333333,
              "#9c179e"
             ],
             [
              0.4444444444444444,
              "#bd3786"
             ],
             [
              0.5555555555555556,
              "#d8576b"
             ],
             [
              0.6666666666666666,
              "#ed7953"
             ],
             [
              0.7777777777777778,
              "#fb9f3a"
             ],
             [
              0.8888888888888888,
              "#fdca26"
             ],
             [
              1,
              "#f0f921"
             ]
            ],
            "type": "contour"
           }
          ],
          "contourcarpet": [
           {
            "colorbar": {
             "outlinewidth": 0,
             "ticks": ""
            },
            "type": "contourcarpet"
           }
          ],
          "heatmap": [
           {
            "colorbar": {
             "outlinewidth": 0,
             "ticks": ""
            },
            "colorscale": [
             [
              0,
              "#0d0887"
             ],
             [
              0.1111111111111111,
              "#46039f"
             ],
             [
              0.2222222222222222,
              "#7201a8"
             ],
             [
              0.3333333333333333,
              "#9c179e"
             ],
             [
              0.4444444444444444,
              "#bd3786"
             ],
             [
              0.5555555555555556,
              "#d8576b"
             ],
             [
              0.6666666666666666,
              "#ed7953"
             ],
             [
              0.7777777777777778,
              "#fb9f3a"
             ],
             [
              0.8888888888888888,
              "#fdca26"
             ],
             [
              1,
              "#f0f921"
             ]
            ],
            "type": "heatmap"
           }
          ],
          "heatmapgl": [
           {
            "colorbar": {
             "outlinewidth": 0,
             "ticks": ""
            },
            "colorscale": [
             [
              0,
              "#0d0887"
             ],
             [
              0.1111111111111111,
              "#46039f"
             ],
             [
              0.2222222222222222,
              "#7201a8"
             ],
             [
              0.3333333333333333,
              "#9c179e"
             ],
             [
              0.4444444444444444,
              "#bd3786"
             ],
             [
              0.5555555555555556,
              "#d8576b"
             ],
             [
              0.6666666666666666,
              "#ed7953"
             ],
             [
              0.7777777777777778,
              "#fb9f3a"
             ],
             [
              0.8888888888888888,
              "#fdca26"
             ],
             [
              1,
              "#f0f921"
             ]
            ],
            "type": "heatmapgl"
           }
          ],
          "histogram": [
           {
            "marker": {
             "colorbar": {
              "outlinewidth": 0,
              "ticks": ""
             }
            },
            "type": "histogram"
           }
          ],
          "histogram2d": [
           {
            "colorbar": {
             "outlinewidth": 0,
             "ticks": ""
            },
            "colorscale": [
             [
              0,
              "#0d0887"
             ],
             [
              0.1111111111111111,
              "#46039f"
             ],
             [
              0.2222222222222222,
              "#7201a8"
             ],
             [
              0.3333333333333333,
              "#9c179e"
             ],
             [
              0.4444444444444444,
              "#bd3786"
             ],
             [
              0.5555555555555556,
              "#d8576b"
             ],
             [
              0.6666666666666666,
              "#ed7953"
             ],
             [
              0.7777777777777778,
              "#fb9f3a"
             ],
             [
              0.8888888888888888,
              "#fdca26"
             ],
             [
              1,
              "#f0f921"
             ]
            ],
            "type": "histogram2d"
           }
          ],
          "histogram2dcontour": [
           {
            "colorbar": {
             "outlinewidth": 0,
             "ticks": ""
            },
            "colorscale": [
             [
              0,
              "#0d0887"
             ],
             [
              0.1111111111111111,
              "#46039f"
             ],
             [
              0.2222222222222222,
              "#7201a8"
             ],
             [
              0.3333333333333333,
              "#9c179e"
             ],
             [
              0.4444444444444444,
              "#bd3786"
             ],
             [
              0.5555555555555556,
              "#d8576b"
             ],
             [
              0.6666666666666666,
              "#ed7953"
             ],
             [
              0.7777777777777778,
              "#fb9f3a"
             ],
             [
              0.8888888888888888,
              "#fdca26"
             ],
             [
              1,
              "#f0f921"
             ]
            ],
            "type": "histogram2dcontour"
           }
          ],
          "mesh3d": [
           {
            "colorbar": {
             "outlinewidth": 0,
             "ticks": ""
            },
            "type": "mesh3d"
           }
          ],
          "parcoords": [
           {
            "line": {
             "colorbar": {
              "outlinewidth": 0,
              "ticks": ""
             }
            },
            "type": "parcoords"
           }
          ],
          "pie": [
           {
            "automargin": true,
            "type": "pie"
           }
          ],
          "scatter": [
           {
            "marker": {
             "colorbar": {
              "outlinewidth": 0,
              "ticks": ""
             }
            },
            "type": "scatter"
           }
          ],
          "scatter3d": [
           {
            "line": {
             "colorbar": {
              "outlinewidth": 0,
              "ticks": ""
             }
            },
            "marker": {
             "colorbar": {
              "outlinewidth": 0,
              "ticks": ""
             }
            },
            "type": "scatter3d"
           }
          ],
          "scattercarpet": [
           {
            "marker": {
             "colorbar": {
              "outlinewidth": 0,
              "ticks": ""
             }
            },
            "type": "scattercarpet"
           }
          ],
          "scattergeo": [
           {
            "marker": {
             "colorbar": {
              "outlinewidth": 0,
              "ticks": ""
             }
            },
            "type": "scattergeo"
           }
          ],
          "scattergl": [
           {
            "marker": {
             "colorbar": {
              "outlinewidth": 0,
              "ticks": ""
             }
            },
            "type": "scattergl"
           }
          ],
          "scattermapbox": [
           {
            "marker": {
             "colorbar": {
              "outlinewidth": 0,
              "ticks": ""
             }
            },
            "type": "scattermapbox"
           }
          ],
          "scatterpolar": [
           {
            "marker": {
             "colorbar": {
              "outlinewidth": 0,
              "ticks": ""
             }
            },
            "type": "scatterpolar"
           }
          ],
          "scatterpolargl": [
           {
            "marker": {
             "colorbar": {
              "outlinewidth": 0,
              "ticks": ""
             }
            },
            "type": "scatterpolargl"
           }
          ],
          "scatterternary": [
           {
            "marker": {
             "colorbar": {
              "outlinewidth": 0,
              "ticks": ""
             }
            },
            "type": "scatterternary"
           }
          ],
          "surface": [
           {
            "colorbar": {
             "outlinewidth": 0,
             "ticks": ""
            },
            "colorscale": [
             [
              0,
              "#0d0887"
             ],
             [
              0.1111111111111111,
              "#46039f"
             ],
             [
              0.2222222222222222,
              "#7201a8"
             ],
             [
              0.3333333333333333,
              "#9c179e"
             ],
             [
              0.4444444444444444,
              "#bd3786"
             ],
             [
              0.5555555555555556,
              "#d8576b"
             ],
             [
              0.6666666666666666,
              "#ed7953"
             ],
             [
              0.7777777777777778,
              "#fb9f3a"
             ],
             [
              0.8888888888888888,
              "#fdca26"
             ],
             [
              1,
              "#f0f921"
             ]
            ],
            "type": "surface"
           }
          ],
          "table": [
           {
            "cells": {
             "fill": {
              "color": "#EBF0F8"
             },
             "line": {
              "color": "white"
             }
            },
            "header": {
             "fill": {
              "color": "#C8D4E3"
             },
             "line": {
              "color": "white"
             }
            },
            "type": "table"
           }
          ]
         },
         "layout": {
          "annotationdefaults": {
           "arrowcolor": "#2a3f5f",
           "arrowhead": 0,
           "arrowwidth": 1
          },
          "coloraxis": {
           "colorbar": {
            "outlinewidth": 0,
            "ticks": ""
           }
          },
          "colorscale": {
           "diverging": [
            [
             0,
             "#8e0152"
            ],
            [
             0.1,
             "#c51b7d"
            ],
            [
             0.2,
             "#de77ae"
            ],
            [
             0.3,
             "#f1b6da"
            ],
            [
             0.4,
             "#fde0ef"
            ],
            [
             0.5,
             "#f7f7f7"
            ],
            [
             0.6,
             "#e6f5d0"
            ],
            [
             0.7,
             "#b8e186"
            ],
            [
             0.8,
             "#7fbc41"
            ],
            [
             0.9,
             "#4d9221"
            ],
            [
             1,
             "#276419"
            ]
           ],
           "sequential": [
            [
             0,
             "#0d0887"
            ],
            [
             0.1111111111111111,
             "#46039f"
            ],
            [
             0.2222222222222222,
             "#7201a8"
            ],
            [
             0.3333333333333333,
             "#9c179e"
            ],
            [
             0.4444444444444444,
             "#bd3786"
            ],
            [
             0.5555555555555556,
             "#d8576b"
            ],
            [
             0.6666666666666666,
             "#ed7953"
            ],
            [
             0.7777777777777778,
             "#fb9f3a"
            ],
            [
             0.8888888888888888,
             "#fdca26"
            ],
            [
             1,
             "#f0f921"
            ]
           ],
           "sequentialminus": [
            [
             0,
             "#0d0887"
            ],
            [
             0.1111111111111111,
             "#46039f"
            ],
            [
             0.2222222222222222,
             "#7201a8"
            ],
            [
             0.3333333333333333,
             "#9c179e"
            ],
            [
             0.4444444444444444,
             "#bd3786"
            ],
            [
             0.5555555555555556,
             "#d8576b"
            ],
            [
             0.6666666666666666,
             "#ed7953"
            ],
            [
             0.7777777777777778,
             "#fb9f3a"
            ],
            [
             0.8888888888888888,
             "#fdca26"
            ],
            [
             1,
             "#f0f921"
            ]
           ]
          },
          "colorway": [
           "#636efa",
           "#EF553B",
           "#00cc96",
           "#ab63fa",
           "#FFA15A",
           "#19d3f3",
           "#FF6692",
           "#B6E880",
           "#FF97FF",
           "#FECB52"
          ],
          "font": {
           "color": "#2a3f5f"
          },
          "geo": {
           "bgcolor": "white",
           "lakecolor": "white",
           "landcolor": "white",
           "showlakes": true,
           "showland": true,
           "subunitcolor": "#C8D4E3"
          },
          "hoverlabel": {
           "align": "left"
          },
          "hovermode": "closest",
          "mapbox": {
           "style": "light"
          },
          "paper_bgcolor": "white",
          "plot_bgcolor": "white",
          "polar": {
           "angularaxis": {
            "gridcolor": "#EBF0F8",
            "linecolor": "#EBF0F8",
            "ticks": ""
           },
           "bgcolor": "white",
           "radialaxis": {
            "gridcolor": "#EBF0F8",
            "linecolor": "#EBF0F8",
            "ticks": ""
           }
          },
          "scene": {
           "xaxis": {
            "backgroundcolor": "white",
            "gridcolor": "#DFE8F3",
            "gridwidth": 2,
            "linecolor": "#EBF0F8",
            "showbackground": true,
            "ticks": "",
            "zerolinecolor": "#EBF0F8"
           },
           "yaxis": {
            "backgroundcolor": "white",
            "gridcolor": "#DFE8F3",
            "gridwidth": 2,
            "linecolor": "#EBF0F8",
            "showbackground": true,
            "ticks": "",
            "zerolinecolor": "#EBF0F8"
           },
           "zaxis": {
            "backgroundcolor": "white",
            "gridcolor": "#DFE8F3",
            "gridwidth": 2,
            "linecolor": "#EBF0F8",
            "showbackground": true,
            "ticks": "",
            "zerolinecolor": "#EBF0F8"
           }
          },
          "shapedefaults": {
           "line": {
            "color": "#2a3f5f"
           }
          },
          "ternary": {
           "aaxis": {
            "gridcolor": "#DFE8F3",
            "linecolor": "#A2B1C6",
            "ticks": ""
           },
           "baxis": {
            "gridcolor": "#DFE8F3",
            "linecolor": "#A2B1C6",
            "ticks": ""
           },
           "bgcolor": "white",
           "caxis": {
            "gridcolor": "#DFE8F3",
            "linecolor": "#A2B1C6",
            "ticks": ""
           }
          },
          "title": {
           "x": 0.05
          },
          "xaxis": {
           "automargin": true,
           "gridcolor": "#EBF0F8",
           "linecolor": "#EBF0F8",
           "ticks": "",
           "title": {
            "standoff": 15
           },
           "zerolinecolor": "#EBF0F8",
           "zerolinewidth": 2
          },
          "yaxis": {
           "automargin": true,
           "gridcolor": "#EBF0F8",
           "linecolor": "#EBF0F8",
           "ticks": "",
           "title": {
            "standoff": 15
           },
           "zerolinecolor": "#EBF0F8",
           "zerolinewidth": 2
          }
         }
        },
        "title": {
         "text": "Vehicle Motion in Global Reference Frame"
        },
        "width": 900,
        "xaxis": {
         "linecolor": "black",
         "linewidth": 1,
         "showgrid": false,
         "showline": true,
         "tickcolor": "black",
         "ticklen": 10,
         "ticks": "outside",
         "tickwidth": 1,
         "title": {
          "text": "x-axis - Forward (ft)"
         },
         "zeroline": false
        },
        "yaxis": {
         "autorange": "reversed",
         "linecolor": "black",
         "linewidth": 1,
         "showgrid": false,
         "showline": true,
         "tickcolor": "black",
         "ticklen": 10,
         "ticks": "outside",
         "tickwidth": 1,
         "title": {
          "text": "y-axis - Rightward (ft)"
         },
         "zeroline": false
        }
       }
      },
      "text/html": [
       "<div>\n",
       "        \n",
       "        \n",
       "            <div id=\"241273dc-4d1c-4865-ab00-98e42f42e281\" class=\"plotly-graph-div\" style=\"height:900px; width:900px;\"></div>\n",
       "            <script type=\"text/javascript\">\n",
       "                require([\"plotly\"], function(Plotly) {\n",
       "                    window.PLOTLYENV=window.PLOTLYENV || {};\n",
       "                    \n",
       "                if (document.getElementById(\"241273dc-4d1c-4865-ab00-98e42f42e281\")) {\n",
       "                    Plotly.newPlot(\n",
       "                        '241273dc-4d1c-4865-ab00-98e42f42e281',\n",
       "                        [{\"marker\": {\"color\": \"rgb(0, 0, 0)\", \"size\": 2}, \"mode\": \"markers\", \"name\": \"pycrash\", \"type\": \"scatter\", \"x\": [0.0, 2.200005, 4.40001, 6.600014999999999, 8.80002, 11.000024999999999, 13.200029999999998, 15.400034999999997, 17.60004, 19.800044999999997, 22.000049999999995, 24.19976088771474, 26.397695946188037, 28.590678788460963, 30.774378708011312, 32.943307291564906, 35.089313416835054, 37.19982315859542, 39.257186921462804, 41.239234083422666, 43.120973226464024, 44.882243498692866, 46.51493644866533, 48.01540108081789, 49.37362653025153, 50.574626930964456, 51.60629858105683, 52.46418520416815, 53.15036371044899, 53.66949735467352, 54.025951899325165, 54.223379383383204, 54.26572098727544, 54.158032590454035, 53.906475260525234, 53.51781844231075, 52.999042959216666, 52.357273868531564, 51.59989485794441, 50.73461959039584, 49.76944195420018, 48.71252772168733, 47.572129377251464, 46.35654661979595, 45.07410643481817, 43.73313522409114, 42.34191880741103, 40.90866106911674, 39.441449508648766, 37.948227247314136, 36.43676739617297, 34.914647883332655, 33.38922766341271, 31.867625520271126, 30.35670143896446, 28.86303987856091, 27.39293468069172, 25.952375859207997, 24.54703845858482, 23.182273302407552, 21.863099320518128, 20.59419733612103, 19.379905394393177, 18.224215689133402, 17.130772984741533, 16.102874351601866, 15.143470096295523, 14.255165862597991, 13.440225894353711, 12.70057739631155, 12.037815885161042, 11.453211433858451, 10.94771574948598, 10.521970041610949, 10.1763136248891, 9.910793181901761, 9.725172611669993, 9.618943402222897, 9.591335475399386, 9.641328451247443, 9.767663274394126, 9.968854144289498, 10.243200696171353, 10.588800384810943, 11.003561025014958, 11.48521344274476, 12.031324191587835, 12.63930829206496, 13.306441954433165, 14.029875247872102, 14.806644680375486, 15.63368565526388, 16.507844772403654, 17.425891944570672, 18.384532301468397, 19.380417855692244, 20.410158906708507, 21.470335160833077, 22.557506547142943, 23.668223711089055, 24.799038169296306, 25.9465121107155, 27.107227830973684, 28.27779678841623, 29.454868271908236, 30.635137671968145, 31.815354348263472, 32.99232908791554, 34.16294115041998, 35.324144896286604], \"y\": [0.0, 0.0, 0.0, 0.0, 0.0, 0.0, 0.0, 0.0, 0.0, 0.0, 0.0, -0.007980443550338504, -0.0462067092634732, -0.13744869965113374, -0.29344878194986945, -0.5213206684629942, -0.8323542261633423, -1.2437108233742586, -1.7742812488667163, -2.4397579046084914, -3.2490823896549825, -4.20016890470491, -5.279750882955415, -6.472547435882074, -7.7678824515674565, -9.156480508390482, -10.625841908026933, -12.159920382800841, -13.741558157295124, -15.354532526544439, -16.984060393596284, -18.61644593271259, -20.238808515922404, -21.839138542290744, -23.40641330695374, -24.93055432376933, -26.402282789345463, -27.81303429740086, -29.15498401751188, -30.42110494947774, -31.605174042883778, -32.70171975220416, -33.70596213312231, -34.613784872595325, -35.42173390316287, -36.127013891139555, -36.72746592847565, -37.22153268215976, -37.60822562952969, -37.88710069273016, -38.05823780440977, -38.12221765947812, -38.08009387154002, -37.93336344511241, -37.68393863487315, -37.33412058132479, -36.88657325878912, -36.34429664312545, -35.71059932855025, -34.989071446076295, -34.1835583577382, -33.29813499893356, -32.33708058178246, -31.304853615512165, -30.20606743398758, -29.045466418327344, -27.82790296458966, -26.558315162909736, -25.241705179177142, -23.883118386465206, -22.4876233068491, -21.06029239691754, -19.606183684686783, -18.13032326333517, -16.637688655917163, -15.13319306696336, -13.621670529608178, -12.107861949526296, -10.596402044548539, -9.091807178558946, -7.5984640862050306, -6.1206194812393715, -4.662370538384184, -3.2276562372128788, -1.8202495553165017, -0.443750495929923, 0.8984200671931377, 2.203025746529802, 3.4670192189413322, 4.687546045929652, 5.861947758049352, 6.987764226940929, 8.062735349419482, 9.08480206858552, 10.05210675741791, 10.96299299097556, 11.816004733999177, 12.60988497112196, 13.343573807062706, 14.01620606427412, 14.627108405662065, 15.175796010106419, 15.661968828489968, 16.08550744777116, 16.446468590404816, 16.745080276175415, 16.981736673233474, 17.156992664769575, 17.271558157320154, 17.326292156212816]}, {\"marker\": {\"color\": \"rgb(0, 0, 256)\", \"size\": 2}, \"mode\": \"markers\", \"name\": \"validate\", \"type\": \"scatter\", \"x\": [0.0, 2.200005, 4.40001, 6.600014999999999, 8.80002, 11.000024999999999, 13.200029999999998, 15.400034999999997, 17.60004, 19.800044999999997, 22.000049999999995, 24.200054999999995, 26.398593329999994, 28.591264979999995, 30.77220326999999, 32.932608179999995, 35.060013014999996, 37.13828440499999, 39.14688896999999, 41.06235998999999, 42.859030739999994, 44.514167834999995, 46.014571245, 47.352907619999996, 48.522576945, 49.518445875, 50.336847735, 50.97558252, 51.433916895, 51.713317530000005, 51.81671776500001, 51.74778427500001, 51.511650405000005, 51.11491617000001, 50.565648255000006, 49.87264668, 49.044711465, 48.09064263, 47.0214402, 45.8481042, 44.58090132, 43.23229825500001, 41.814028365000006, 40.33709167500001, 38.813221545000005, 37.25415133500001, 35.671614405000014, 34.07661078, 32.47940715000001, 30.89100354, 29.322399975000007, 27.783129810000013, 26.282726400000005, 24.82998976500001, 23.432986590000002, 22.099783560000006, 20.83771402500001, 19.653378000000004, 18.55190883000001, 17.538439860000004, 16.618837770000006, 15.796769235000008, 15.075167595000005, 14.456966190000008, 13.944365025000005, 13.538830770000006, 13.240363425000007, 13.049696325000006, 12.966829470000008, 12.990296190000008, 13.118629815000007, 13.350363675000006, 13.682564430000008, 14.112298740000007, 14.63663326500001, 15.251167995000007, 15.951502920000005, 16.73323803000001, 17.591239980000008, 18.52037542500001, 19.51624435500001, 20.572980090000005, 21.683982615, 22.84338525000002, 24.045321315000013, 25.28392413000001, 26.552593680000005, 27.84472995, 29.15446626000002, 30.475935930000016, 31.802538945000013, 33.127675290000006, 34.445478285, 35.750814585000015, 37.03781751000001, 38.300620380000005, 39.53408985, 40.732359239999994, 41.89029520500001, 43.00423107, 44.069766825, 45.08250246, 46.0387713, 46.93417333500001, 47.765775225000006, 48.531376965, 49.228045214999995, 49.85284663499999, 50.404314555, 50.880982304999996], \"y\": [0.0, 0.0, 0.0, 0.0, 0.0, 0.0, 0.0, 0.0, 0.0, 0.0, 0.0, -0.008800020000000007, -0.047666774999999946, -0.14080032000000003, -0.3109340399999998, -0.58080132, -0.9716688750000002, -1.5011367449999995, -2.18240496, -3.0242735399999985, -4.03040916, -5.195678475, -6.5061481200000015, -7.944218054999997, -9.492288239999999, -11.1320253, -12.844362525000001, -14.610966540000003, -16.413503969999997, -18.23364144, -20.054512245, -21.860716350000004, -23.636853720000005, -25.368257654999997, -27.04246146, -28.64699844, -30.170135235000004, -31.602338490000005, -32.93407485, -34.15727763, -35.26608015000001, -36.253882395000005, -37.11628435500001, -37.85035269000001, -38.45242072500001, -38.92102179000001, -39.25542255000001, -39.455623005000014, -39.52382316000001, -39.46148968500001, -39.27082258500001, -38.956221870000014, -38.52135421500001, -37.97061963000001, -37.309884795, -36.54501639000001, -35.68188109500001, -34.72781226, -33.690143235, -32.57547403499999, -31.391871344999995, -30.147401849999998, -28.85013223499999, -27.508129184999994, -26.129459384999986, -24.722922854999993, -23.29658628, -21.85778300999999, -20.414579729999996, -18.975776459999988, -17.54870654999999, -16.140703349999995, -14.759100209999989, -13.410497144999994, -12.101494169999986, -10.83869129999999, -9.627955214999995, -8.474419259999989, -7.383950114999992, -6.360947789999987, -5.40907895999999, -4.532743634999993, -3.735608489999996, -3.020606864999986, -2.3899387649999886, -1.8458041949999906, -1.3904031599999922, -1.0244689949999937, -0.7487350349999897, -0.5639346149999904, -0.46933439999999077, -0.46493438999999076, -0.5500012499999904, -0.7230683099999928, -0.982668899999992, -1.3266030149999908, -1.7526706499999891, -2.257938464999987, -2.8394731199999956, -3.4943412749999934, -4.218876254999991, -5.0094113849999875, -5.862279989999984, -6.7730820599999975, -7.737417584999994, -8.75015321999999, -9.806888954999987, -10.903224779999983, -12.034027349999999, -13.194896654999994]}],\n",
       "                        {\"autosize\": false, \"font\": {\"color\": \"black\", \"family\": \"Arial\", \"size\": 16}, \"height\": 900, \"showlegend\": false, \"template\": {\"data\": {\"bar\": [{\"error_x\": {\"color\": \"#2a3f5f\"}, \"error_y\": {\"color\": \"#2a3f5f\"}, \"marker\": {\"line\": {\"color\": \"white\", \"width\": 0.5}}, \"type\": \"bar\"}], \"barpolar\": [{\"marker\": {\"line\": {\"color\": \"white\", \"width\": 0.5}}, \"type\": \"barpolar\"}], \"carpet\": [{\"aaxis\": {\"endlinecolor\": \"#2a3f5f\", \"gridcolor\": \"#C8D4E3\", \"linecolor\": \"#C8D4E3\", \"minorgridcolor\": \"#C8D4E3\", \"startlinecolor\": \"#2a3f5f\"}, \"baxis\": {\"endlinecolor\": \"#2a3f5f\", \"gridcolor\": \"#C8D4E3\", \"linecolor\": \"#C8D4E3\", \"minorgridcolor\": \"#C8D4E3\", \"startlinecolor\": \"#2a3f5f\"}, \"type\": \"carpet\"}], \"choropleth\": [{\"colorbar\": {\"outlinewidth\": 0, \"ticks\": \"\"}, \"type\": \"choropleth\"}], \"contour\": [{\"colorbar\": {\"outlinewidth\": 0, \"ticks\": \"\"}, \"colorscale\": [[0.0, \"#0d0887\"], [0.1111111111111111, \"#46039f\"], [0.2222222222222222, \"#7201a8\"], [0.3333333333333333, \"#9c179e\"], [0.4444444444444444, \"#bd3786\"], [0.5555555555555556, \"#d8576b\"], [0.6666666666666666, \"#ed7953\"], [0.7777777777777778, \"#fb9f3a\"], [0.8888888888888888, \"#fdca26\"], [1.0, \"#f0f921\"]], \"type\": \"contour\"}], \"contourcarpet\": [{\"colorbar\": {\"outlinewidth\": 0, \"ticks\": \"\"}, \"type\": \"contourcarpet\"}], \"heatmap\": [{\"colorbar\": {\"outlinewidth\": 0, \"ticks\": \"\"}, \"colorscale\": [[0.0, \"#0d0887\"], [0.1111111111111111, \"#46039f\"], [0.2222222222222222, \"#7201a8\"], [0.3333333333333333, \"#9c179e\"], [0.4444444444444444, \"#bd3786\"], [0.5555555555555556, \"#d8576b\"], [0.6666666666666666, \"#ed7953\"], [0.7777777777777778, \"#fb9f3a\"], [0.8888888888888888, \"#fdca26\"], [1.0, \"#f0f921\"]], \"type\": \"heatmap\"}], \"heatmapgl\": [{\"colorbar\": {\"outlinewidth\": 0, \"ticks\": \"\"}, \"colorscale\": [[0.0, \"#0d0887\"], [0.1111111111111111, \"#46039f\"], [0.2222222222222222, \"#7201a8\"], [0.3333333333333333, \"#9c179e\"], [0.4444444444444444, \"#bd3786\"], [0.5555555555555556, \"#d8576b\"], [0.6666666666666666, \"#ed7953\"], [0.7777777777777778, \"#fb9f3a\"], [0.8888888888888888, \"#fdca26\"], [1.0, \"#f0f921\"]], \"type\": \"heatmapgl\"}], \"histogram\": [{\"marker\": {\"colorbar\": {\"outlinewidth\": 0, \"ticks\": \"\"}}, \"type\": \"histogram\"}], \"histogram2d\": [{\"colorbar\": {\"outlinewidth\": 0, \"ticks\": \"\"}, \"colorscale\": [[0.0, \"#0d0887\"], [0.1111111111111111, \"#46039f\"], [0.2222222222222222, \"#7201a8\"], [0.3333333333333333, \"#9c179e\"], [0.4444444444444444, \"#bd3786\"], [0.5555555555555556, \"#d8576b\"], [0.6666666666666666, \"#ed7953\"], [0.7777777777777778, \"#fb9f3a\"], [0.8888888888888888, \"#fdca26\"], [1.0, \"#f0f921\"]], \"type\": \"histogram2d\"}], \"histogram2dcontour\": [{\"colorbar\": {\"outlinewidth\": 0, \"ticks\": \"\"}, \"colorscale\": [[0.0, \"#0d0887\"], [0.1111111111111111, \"#46039f\"], [0.2222222222222222, \"#7201a8\"], [0.3333333333333333, \"#9c179e\"], [0.4444444444444444, \"#bd3786\"], [0.5555555555555556, \"#d8576b\"], [0.6666666666666666, \"#ed7953\"], [0.7777777777777778, \"#fb9f3a\"], [0.8888888888888888, \"#fdca26\"], [1.0, \"#f0f921\"]], \"type\": \"histogram2dcontour\"}], \"mesh3d\": [{\"colorbar\": {\"outlinewidth\": 0, \"ticks\": \"\"}, \"type\": \"mesh3d\"}], \"parcoords\": [{\"line\": {\"colorbar\": {\"outlinewidth\": 0, \"ticks\": \"\"}}, \"type\": \"parcoords\"}], \"pie\": [{\"automargin\": true, \"type\": \"pie\"}], \"scatter\": [{\"marker\": {\"colorbar\": {\"outlinewidth\": 0, \"ticks\": \"\"}}, \"type\": \"scatter\"}], \"scatter3d\": [{\"line\": {\"colorbar\": {\"outlinewidth\": 0, \"ticks\": \"\"}}, \"marker\": {\"colorbar\": {\"outlinewidth\": 0, \"ticks\": \"\"}}, \"type\": \"scatter3d\"}], \"scattercarpet\": [{\"marker\": {\"colorbar\": {\"outlinewidth\": 0, \"ticks\": \"\"}}, \"type\": \"scattercarpet\"}], \"scattergeo\": [{\"marker\": {\"colorbar\": {\"outlinewidth\": 0, \"ticks\": \"\"}}, \"type\": \"scattergeo\"}], \"scattergl\": [{\"marker\": {\"colorbar\": {\"outlinewidth\": 0, \"ticks\": \"\"}}, \"type\": \"scattergl\"}], \"scattermapbox\": [{\"marker\": {\"colorbar\": {\"outlinewidth\": 0, \"ticks\": \"\"}}, \"type\": \"scattermapbox\"}], \"scatterpolar\": [{\"marker\": {\"colorbar\": {\"outlinewidth\": 0, \"ticks\": \"\"}}, \"type\": \"scatterpolar\"}], \"scatterpolargl\": [{\"marker\": {\"colorbar\": {\"outlinewidth\": 0, \"ticks\": \"\"}}, \"type\": \"scatterpolargl\"}], \"scatterternary\": [{\"marker\": {\"colorbar\": {\"outlinewidth\": 0, \"ticks\": \"\"}}, \"type\": \"scatterternary\"}], \"surface\": [{\"colorbar\": {\"outlinewidth\": 0, \"ticks\": \"\"}, \"colorscale\": [[0.0, \"#0d0887\"], [0.1111111111111111, \"#46039f\"], [0.2222222222222222, \"#7201a8\"], [0.3333333333333333, \"#9c179e\"], [0.4444444444444444, \"#bd3786\"], [0.5555555555555556, \"#d8576b\"], [0.6666666666666666, \"#ed7953\"], [0.7777777777777778, \"#fb9f3a\"], [0.8888888888888888, \"#fdca26\"], [1.0, \"#f0f921\"]], \"type\": \"surface\"}], \"table\": [{\"cells\": {\"fill\": {\"color\": \"#EBF0F8\"}, \"line\": {\"color\": \"white\"}}, \"header\": {\"fill\": {\"color\": \"#C8D4E3\"}, \"line\": {\"color\": \"white\"}}, \"type\": \"table\"}]}, \"layout\": {\"annotationdefaults\": {\"arrowcolor\": \"#2a3f5f\", \"arrowhead\": 0, \"arrowwidth\": 1}, \"coloraxis\": {\"colorbar\": {\"outlinewidth\": 0, \"ticks\": \"\"}}, \"colorscale\": {\"diverging\": [[0, \"#8e0152\"], [0.1, \"#c51b7d\"], [0.2, \"#de77ae\"], [0.3, \"#f1b6da\"], [0.4, \"#fde0ef\"], [0.5, \"#f7f7f7\"], [0.6, \"#e6f5d0\"], [0.7, \"#b8e186\"], [0.8, \"#7fbc41\"], [0.9, \"#4d9221\"], [1, \"#276419\"]], \"sequential\": [[0.0, \"#0d0887\"], [0.1111111111111111, \"#46039f\"], [0.2222222222222222, \"#7201a8\"], [0.3333333333333333, \"#9c179e\"], [0.4444444444444444, \"#bd3786\"], [0.5555555555555556, \"#d8576b\"], [0.6666666666666666, \"#ed7953\"], [0.7777777777777778, \"#fb9f3a\"], [0.8888888888888888, \"#fdca26\"], [1.0, \"#f0f921\"]], \"sequentialminus\": [[0.0, \"#0d0887\"], [0.1111111111111111, \"#46039f\"], [0.2222222222222222, \"#7201a8\"], [0.3333333333333333, \"#9c179e\"], [0.4444444444444444, \"#bd3786\"], [0.5555555555555556, \"#d8576b\"], [0.6666666666666666, \"#ed7953\"], [0.7777777777777778, \"#fb9f3a\"], [0.8888888888888888, \"#fdca26\"], [1.0, \"#f0f921\"]]}, \"colorway\": [\"#636efa\", \"#EF553B\", \"#00cc96\", \"#ab63fa\", \"#FFA15A\", \"#19d3f3\", \"#FF6692\", \"#B6E880\", \"#FF97FF\", \"#FECB52\"], \"font\": {\"color\": \"#2a3f5f\"}, \"geo\": {\"bgcolor\": \"white\", \"lakecolor\": \"white\", \"landcolor\": \"white\", \"showlakes\": true, \"showland\": true, \"subunitcolor\": \"#C8D4E3\"}, \"hoverlabel\": {\"align\": \"left\"}, \"hovermode\": \"closest\", \"mapbox\": {\"style\": \"light\"}, \"paper_bgcolor\": \"white\", \"plot_bgcolor\": \"white\", \"polar\": {\"angularaxis\": {\"gridcolor\": \"#EBF0F8\", \"linecolor\": \"#EBF0F8\", \"ticks\": \"\"}, \"bgcolor\": \"white\", \"radialaxis\": {\"gridcolor\": \"#EBF0F8\", \"linecolor\": \"#EBF0F8\", \"ticks\": \"\"}}, \"scene\": {\"xaxis\": {\"backgroundcolor\": \"white\", \"gridcolor\": \"#DFE8F3\", \"gridwidth\": 2, \"linecolor\": \"#EBF0F8\", \"showbackground\": true, \"ticks\": \"\", \"zerolinecolor\": \"#EBF0F8\"}, \"yaxis\": {\"backgroundcolor\": \"white\", \"gridcolor\": \"#DFE8F3\", \"gridwidth\": 2, \"linecolor\": \"#EBF0F8\", \"showbackground\": true, \"ticks\": \"\", \"zerolinecolor\": \"#EBF0F8\"}, \"zaxis\": {\"backgroundcolor\": \"white\", \"gridcolor\": \"#DFE8F3\", \"gridwidth\": 2, \"linecolor\": \"#EBF0F8\", \"showbackground\": true, \"ticks\": \"\", \"zerolinecolor\": \"#EBF0F8\"}}, \"shapedefaults\": {\"line\": {\"color\": \"#2a3f5f\"}}, \"ternary\": {\"aaxis\": {\"gridcolor\": \"#DFE8F3\", \"linecolor\": \"#A2B1C6\", \"ticks\": \"\"}, \"baxis\": {\"gridcolor\": \"#DFE8F3\", \"linecolor\": \"#A2B1C6\", \"ticks\": \"\"}, \"bgcolor\": \"white\", \"caxis\": {\"gridcolor\": \"#DFE8F3\", \"linecolor\": \"#A2B1C6\", \"ticks\": \"\"}}, \"title\": {\"x\": 0.05}, \"xaxis\": {\"automargin\": true, \"gridcolor\": \"#EBF0F8\", \"linecolor\": \"#EBF0F8\", \"ticks\": \"\", \"title\": {\"standoff\": 15}, \"zerolinecolor\": \"#EBF0F8\", \"zerolinewidth\": 2}, \"yaxis\": {\"automargin\": true, \"gridcolor\": \"#EBF0F8\", \"linecolor\": \"#EBF0F8\", \"ticks\": \"\", \"title\": {\"standoff\": 15}, \"zerolinecolor\": \"#EBF0F8\", \"zerolinewidth\": 2}}}, \"title\": {\"text\": \"Vehicle Motion in Global Reference Frame\"}, \"width\": 900, \"xaxis\": {\"linecolor\": \"black\", \"linewidth\": 1, \"showgrid\": false, \"showline\": true, \"tickcolor\": \"black\", \"ticklen\": 10, \"ticks\": \"outside\", \"tickwidth\": 1, \"title\": {\"text\": \"x-axis - Forward (ft)\"}, \"zeroline\": false}, \"yaxis\": {\"autorange\": \"reversed\", \"linecolor\": \"black\", \"linewidth\": 1, \"showgrid\": false, \"showline\": true, \"tickcolor\": \"black\", \"ticklen\": 10, \"ticks\": \"outside\", \"tickwidth\": 1, \"title\": {\"text\": \"y-axis - Rightward (ft)\"}, \"zeroline\": false}},\n",
       "                        {\"responsive\": true}\n",
       "                    ).then(function(){\n",
       "                            \n",
       "var gd = document.getElementById('241273dc-4d1c-4865-ab00-98e42f42e281');\n",
       "var x = new MutationObserver(function (mutations, observer) {{\n",
       "        var display = window.getComputedStyle(gd).display;\n",
       "        if (!display || display === 'none') {{\n",
       "            console.log([gd, 'removed!']);\n",
       "            Plotly.purge(gd);\n",
       "            observer.disconnect();\n",
       "        }}\n",
       "}});\n",
       "\n",
       "// Listen for the removal of the full notebook cells\n",
       "var notebookContainer = gd.closest('#notebook-container');\n",
       "if (notebookContainer) {{\n",
       "    x.observe(notebookContainer, {childList: true});\n",
       "}}\n",
       "\n",
       "// Listen for the clearing of the current output cell\n",
       "var outputEl = gd.closest('.output');\n",
       "if (outputEl) {{\n",
       "    x.observe(outputEl, {childList: true});\n",
       "}}\n",
       "\n",
       "                        })\n",
       "                };\n",
       "                });\n",
       "            </script>\n",
       "        </div>"
      ]
     },
     "metadata": {},
     "output_type": "display_data"
    }
   ],
   "source": [
    "cg_motion(run.veh.model, df, 'pycrash', 'validate')"
   ]
  },
  {
   "cell_type": "code",
   "execution_count": null,
   "metadata": {},
   "outputs": [],
   "source": []
  }
 ],
 "metadata": {
  "kernelspec": {
   "display_name": "Python 3",
   "language": "python",
   "name": "python3"
  },
  "language_info": {
   "codemirror_mode": {
    "name": "ipython",
    "version": 3
   },
   "file_extension": ".py",
   "mimetype": "text/x-python",
   "name": "python",
   "nbconvert_exporter": "python",
   "pygments_lexer": "ipython3",
   "version": "3.6.9"
  }
 },
 "nbformat": 4,
 "nbformat_minor": 4
}
