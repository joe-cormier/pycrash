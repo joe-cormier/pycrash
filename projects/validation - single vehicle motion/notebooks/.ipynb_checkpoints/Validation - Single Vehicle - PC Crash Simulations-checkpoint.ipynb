{
 "cells": [
  {
   "cell_type": "code",
   "execution_count": 1,
   "metadata": {},
   "outputs": [],
   "source": [
    "# %% allow reloading of modules\n",
    "%load_ext autoreload\n",
    "%autoreload 2"
   ]
  },
  {
   "cell_type": "markdown",
   "metadata": {},
   "source": [
    "#### Note: ensure the you are in the `notebooks` directory when using the `jupyter notebook` command "
   ]
  },
  {
   "cell_type": "code",
   "execution_count": 2,
   "metadata": {},
   "outputs": [
    {
     "data": {
      "text/plain": [
       "'/home/jmc/Documents/pycrash/projects/validation - single vehicle motion/notebooks'"
      ]
     },
     "execution_count": 2,
     "metadata": {},
     "output_type": "execute_result"
    }
   ],
   "source": [
    "import os\n",
    "path_parent = os.path.dirname(os.getcwd())\n",
    "os.getcwd()"
   ]
  },
  {
   "cell_type": "code",
   "execution_count": 3,
   "metadata": {},
   "outputs": [],
   "source": [
    "import sys\n",
    "sys.path.append(\"/home/jmc/Documents/pycrash\")"
   ]
  },
  {
   "cell_type": "code",
   "execution_count": 161,
   "metadata": {},
   "outputs": [
    {
     "name": "stdout",
     "output_type": "stream",
     "text": [
      "No Environment File Provided\n"
     ]
    }
   ],
   "source": [
    "import pycrash\n",
    "from pycrash.project import Project, project_info, load_project\n",
    "from pycrash.vehicle import Vehicle\n",
    "from pycrash.kinematics import SingleMotion"
   ]
  },
  {
   "cell_type": "code",
   "execution_count": 5,
   "metadata": {},
   "outputs": [
    {
     "data": {
      "text/plain": [
       "'/home/jmc/Documents/pycrash/projects/validation - single vehicle motion'"
      ]
     },
     "execution_count": 5,
     "metadata": {},
     "output_type": "execute_result"
    }
   ],
   "source": [
    "os.getcwd()"
   ]
  },
  {
   "cell_type": "code",
   "execution_count": 57,
   "metadata": {},
   "outputs": [],
   "source": [
    "import pandas as pd\n",
    "import numpy as np\n",
    "import math\n",
    "from scipy import integrate\n",
    "pd.options.display.max_columns = None\n",
    "pd.options.display.max_rows = None\n",
    "from IPython import get_ipython\n",
    "from IPython.display import display\n",
    "get_ipython().run_line_magic('matplotlib', 'inline')"
   ]
  },
  {
   "cell_type": "markdown",
   "metadata": {},
   "source": [
    "### Load Project Datafile that was created when project was instantiated\n",
    "- the project object contains information needed to run other parts of Pycrash"
   ]
  },
  {
   "cell_type": "markdown",
   "metadata": {},
   "source": [
    "#### Get project information - used to import project object"
   ]
  },
  {
   "cell_type": "code",
   "execution_count": 7,
   "metadata": {},
   "outputs": [
    {
     "name": "stdout",
     "output_type": "stream",
     "text": [
      "This saved project contains:\n",
      "Object of type \"project\" with name \"validation - single vehicle motion\"\n",
      "list objects in this order for loading project: ['validation - single vehicle motion']\n",
      "Example: project_name, veh1, veh2 = load_project('project_name')\n"
     ]
    }
   ],
   "source": [
    "project_info('validation - single vehicle motion')"
   ]
  },
  {
   "cell_type": "markdown",
   "metadata": {},
   "source": [
    "#### Load project and print contents"
   ]
  },
  {
   "cell_type": "code",
   "execution_count": 8,
   "metadata": {},
   "outputs": [
    {
     "name": "stdout",
     "output_type": "stream",
     "text": [
      "----------------------------------  ------------------------  -----------  ---------------  --------------------\n",
      "Project                             Description               Impact Type  Simulation Type  Note\n",
      "validation - single vehicle motion  planar motion simulation               SV               pc crash comparisons\n",
      "----------------------------------  ------------------------  -----------  ---------------  --------------------\n"
     ]
    }
   ],
   "source": [
    "proj = load_project('validation - single vehicle motion')\n",
    "proj.show()"
   ]
  },
  {
   "cell_type": "code",
   "execution_count": 9,
   "metadata": {},
   "outputs": [
    {
     "data": {
      "text/plain": [
       "{'name': 'validation - single vehicle motion',\n",
       " 'project_path': '/home/jmc/Documents/pycrash/projects/',\n",
       " 'pdesc': 'planar motion simulation',\n",
       " 'sim_type': 'SV',\n",
       " 'impact_type': None,\n",
       " 'note': 'pc crash comparisons',\n",
       " 'type': 'project'}"
      ]
     },
     "execution_count": 9,
     "metadata": {},
     "output_type": "execute_result"
    }
   ],
   "source": [
    "proj.__dict__"
   ]
  },
  {
   "cell_type": "markdown",
   "metadata": {},
   "source": [
    "### Generate dataframe with driver inputs\n",
    "- use validation steer / brake / throttle inputs\n",
    "- inputs are same dt as pycrash will have to check in future"
   ]
  },
  {
   "cell_type": "code",
   "execution_count": 163,
   "metadata": {},
   "outputs": [
    {
     "name": "stdout",
     "output_type": "stream",
     "text": [
      "Vehicle Driver Inputs:\n"
     ]
    },
    {
     "data": {
      "text/html": [
       "<div>\n",
       "<style scoped>\n",
       "    .dataframe tbody tr th:only-of-type {\n",
       "        vertical-align: middle;\n",
       "    }\n",
       "\n",
       "    .dataframe tbody tr th {\n",
       "        vertical-align: top;\n",
       "    }\n",
       "\n",
       "    .dataframe thead th {\n",
       "        text-align: right;\n",
       "    }\n",
       "</style>\n",
       "<table border=\"1\" class=\"dataframe\">\n",
       "  <thead>\n",
       "    <tr style=\"text-align: right;\">\n",
       "      <th></th>\n",
       "      <th>t</th>\n",
       "      <th>throttle</th>\n",
       "      <th>brake</th>\n",
       "      <th>steer</th>\n",
       "    </tr>\n",
       "  </thead>\n",
       "  <tbody>\n",
       "    <tr>\n",
       "      <th>0</th>\n",
       "      <td>0.0</td>\n",
       "      <td>0</td>\n",
       "      <td>0</td>\n",
       "      <td>0.0</td>\n",
       "    </tr>\n",
       "    <tr>\n",
       "      <th>1</th>\n",
       "      <td>0.1</td>\n",
       "      <td>0</td>\n",
       "      <td>0</td>\n",
       "      <td>0.0</td>\n",
       "    </tr>\n",
       "    <tr>\n",
       "      <th>2</th>\n",
       "      <td>0.2</td>\n",
       "      <td>0</td>\n",
       "      <td>0</td>\n",
       "      <td>0.0</td>\n",
       "    </tr>\n",
       "    <tr>\n",
       "      <th>3</th>\n",
       "      <td>0.3</td>\n",
       "      <td>0</td>\n",
       "      <td>0</td>\n",
       "      <td>0.0</td>\n",
       "    </tr>\n",
       "    <tr>\n",
       "      <th>4</th>\n",
       "      <td>0.4</td>\n",
       "      <td>0</td>\n",
       "      <td>0</td>\n",
       "      <td>0.0</td>\n",
       "    </tr>\n",
       "  </tbody>\n",
       "</table>\n",
       "</div>"
      ],
      "text/plain": [
       "     t  throttle  brake  steer\n",
       "0  0.0         0      0    0.0\n",
       "1  0.1         0      0    0.0\n",
       "2  0.2         0      0    0.0\n",
       "3  0.3         0      0    0.0\n",
       "4  0.4         0      0    0.0"
      ]
     },
     "execution_count": 163,
     "metadata": {},
     "output_type": "execute_result"
    }
   ],
   "source": [
    "end_time = df.t.max()  \n",
    "t = list(df.t)  \n",
    "throttle = [0] * len(t)                      \n",
    "brake = [0] * len(t)                         \n",
    "steer = list(df.steer)                                   \n",
    "driver_input_dict = {'t':t, 'throttle':throttle, 'brake':brake, 'steer':steer}\n",
    "driver_input_df = pd.DataFrame.from_dict(driver_input_dict)\n",
    "print('Vehicle Driver Inputs:')\n",
    "driver_input_df.head() "
   ]
  },
  {
   "cell_type": "code",
   "execution_count": 28,
   "metadata": {},
   "outputs": [
    {
     "data": {
      "text/html": [
       "<div>\n",
       "<style scoped>\n",
       "    .dataframe tbody tr th:only-of-type {\n",
       "        vertical-align: middle;\n",
       "    }\n",
       "\n",
       "    .dataframe tbody tr th {\n",
       "        vertical-align: top;\n",
       "    }\n",
       "\n",
       "    .dataframe thead th {\n",
       "        text-align: right;\n",
       "    }\n",
       "</style>\n",
       "<table border=\"1\" class=\"dataframe\">\n",
       "  <thead>\n",
       "    <tr style=\"text-align: right;\">\n",
       "      <th></th>\n",
       "      <th>t</th>\n",
       "      <th>vx</th>\n",
       "      <th>vy</th>\n",
       "      <th>Vx</th>\n",
       "      <th>Vy</th>\n",
       "      <th>Vr</th>\n",
       "      <th>oz_deg</th>\n",
       "      <th>oz_rad</th>\n",
       "      <th>delta_deg</th>\n",
       "      <th>delta_rad</th>\n",
       "      <th>turn_rX</th>\n",
       "      <th>turn_rY</th>\n",
       "      <th>turn_rR</th>\n",
       "      <th>au</th>\n",
       "      <th>av</th>\n",
       "      <th>ax</th>\n",
       "      <th>ay</th>\n",
       "      <th>ar</th>\n",
       "      <th>Ax</th>\n",
       "      <th>Ay</th>\n",
       "      <th>Ar</th>\n",
       "      <th>alphaz</th>\n",
       "      <th>alphaz_deg</th>\n",
       "      <th>beta_deg</th>\n",
       "      <th>beta_rad</th>\n",
       "      <th>lf_fx</th>\n",
       "      <th>lf_fy</th>\n",
       "      <th>rf_fx</th>\n",
       "      <th>rf_fy</th>\n",
       "      <th>rr_fx</th>\n",
       "      <th>rr_fy</th>\n",
       "      <th>lr_fx</th>\n",
       "      <th>lr_fy</th>\n",
       "      <th>lf_alpha</th>\n",
       "      <th>rf_alpha</th>\n",
       "      <th>rr_alpha</th>\n",
       "      <th>lr_alpha</th>\n",
       "      <th>lf_lock</th>\n",
       "      <th>rf_lock</th>\n",
       "      <th>rr_lock</th>\n",
       "      <th>lr_lock</th>\n",
       "      <th>lf_fz</th>\n",
       "      <th>rf_fz</th>\n",
       "      <th>rr_fz</th>\n",
       "      <th>lr_fz</th>\n",
       "      <th>theta_rad</th>\n",
       "      <th>theta_deg</th>\n",
       "      <th>Fx</th>\n",
       "      <th>Fy</th>\n",
       "      <th>Mz</th>\n",
       "      <th>Dx</th>\n",
       "      <th>Dy</th>\n",
       "    </tr>\n",
       "  </thead>\n",
       "  <tbody>\n",
       "    <tr>\n",
       "      <th>0</th>\n",
       "      <td>0.0</td>\n",
       "      <td>22.00005</td>\n",
       "      <td>0.0</td>\n",
       "      <td>22.00005</td>\n",
       "      <td>0.0</td>\n",
       "      <td>22.00005</td>\n",
       "      <td>0.0</td>\n",
       "      <td>0.0</td>\n",
       "      <td>0.0</td>\n",
       "      <td>0.0</td>\n",
       "      <td>0.0</td>\n",
       "      <td>0.0</td>\n",
       "      <td>0.0</td>\n",
       "      <td>0.0</td>\n",
       "      <td>0.0</td>\n",
       "      <td>0.0</td>\n",
       "      <td>0.0</td>\n",
       "      <td>0.0</td>\n",
       "      <td>0.0</td>\n",
       "      <td>0.0</td>\n",
       "      <td>0.0</td>\n",
       "      <td>0.0</td>\n",
       "      <td>0.0</td>\n",
       "      <td>0.0</td>\n",
       "      <td>0.0</td>\n",
       "      <td>0.0</td>\n",
       "      <td>0.0</td>\n",
       "      <td>0.0</td>\n",
       "      <td>0.0</td>\n",
       "      <td>-0.0</td>\n",
       "      <td>-0.0</td>\n",
       "      <td>-0.0</td>\n",
       "      <td>-0.0</td>\n",
       "      <td>0.0</td>\n",
       "      <td>0.0</td>\n",
       "      <td>-0.0</td>\n",
       "      <td>-0.0</td>\n",
       "      <td>0.0</td>\n",
       "      <td>0.0</td>\n",
       "      <td>0.0</td>\n",
       "      <td>0.0</td>\n",
       "      <td>1056.293396</td>\n",
       "      <td>1056.293396</td>\n",
       "      <td>592.706604</td>\n",
       "      <td>592.706604</td>\n",
       "      <td>0.0</td>\n",
       "      <td>0.0</td>\n",
       "      <td>NaN</td>\n",
       "      <td>NaN</td>\n",
       "      <td>NaN</td>\n",
       "      <td>0.000000</td>\n",
       "      <td>0.0</td>\n",
       "    </tr>\n",
       "    <tr>\n",
       "      <th>1</th>\n",
       "      <td>0.1</td>\n",
       "      <td>22.00005</td>\n",
       "      <td>0.0</td>\n",
       "      <td>22.00005</td>\n",
       "      <td>0.0</td>\n",
       "      <td>22.00005</td>\n",
       "      <td>0.0</td>\n",
       "      <td>0.0</td>\n",
       "      <td>0.0</td>\n",
       "      <td>0.0</td>\n",
       "      <td>0.0</td>\n",
       "      <td>0.0</td>\n",
       "      <td>0.0</td>\n",
       "      <td>0.0</td>\n",
       "      <td>0.0</td>\n",
       "      <td>0.0</td>\n",
       "      <td>0.0</td>\n",
       "      <td>0.0</td>\n",
       "      <td>0.0</td>\n",
       "      <td>0.0</td>\n",
       "      <td>0.0</td>\n",
       "      <td>0.0</td>\n",
       "      <td>0.0</td>\n",
       "      <td>0.0</td>\n",
       "      <td>0.0</td>\n",
       "      <td>0.0</td>\n",
       "      <td>0.0</td>\n",
       "      <td>0.0</td>\n",
       "      <td>0.0</td>\n",
       "      <td>-0.0</td>\n",
       "      <td>-0.0</td>\n",
       "      <td>-0.0</td>\n",
       "      <td>-0.0</td>\n",
       "      <td>0.0</td>\n",
       "      <td>0.0</td>\n",
       "      <td>-0.0</td>\n",
       "      <td>-0.0</td>\n",
       "      <td>0.0</td>\n",
       "      <td>0.0</td>\n",
       "      <td>0.0</td>\n",
       "      <td>0.0</td>\n",
       "      <td>1056.293396</td>\n",
       "      <td>1056.293396</td>\n",
       "      <td>592.706604</td>\n",
       "      <td>592.706604</td>\n",
       "      <td>0.0</td>\n",
       "      <td>0.0</td>\n",
       "      <td>NaN</td>\n",
       "      <td>NaN</td>\n",
       "      <td>NaN</td>\n",
       "      <td>2.200005</td>\n",
       "      <td>0.0</td>\n",
       "    </tr>\n",
       "    <tr>\n",
       "      <th>2</th>\n",
       "      <td>0.2</td>\n",
       "      <td>22.00005</td>\n",
       "      <td>0.0</td>\n",
       "      <td>22.00005</td>\n",
       "      <td>0.0</td>\n",
       "      <td>22.00005</td>\n",
       "      <td>0.0</td>\n",
       "      <td>0.0</td>\n",
       "      <td>0.0</td>\n",
       "      <td>0.0</td>\n",
       "      <td>0.0</td>\n",
       "      <td>0.0</td>\n",
       "      <td>0.0</td>\n",
       "      <td>0.0</td>\n",
       "      <td>0.0</td>\n",
       "      <td>0.0</td>\n",
       "      <td>0.0</td>\n",
       "      <td>0.0</td>\n",
       "      <td>0.0</td>\n",
       "      <td>0.0</td>\n",
       "      <td>0.0</td>\n",
       "      <td>0.0</td>\n",
       "      <td>0.0</td>\n",
       "      <td>0.0</td>\n",
       "      <td>0.0</td>\n",
       "      <td>0.0</td>\n",
       "      <td>0.0</td>\n",
       "      <td>0.0</td>\n",
       "      <td>0.0</td>\n",
       "      <td>-0.0</td>\n",
       "      <td>-0.0</td>\n",
       "      <td>-0.0</td>\n",
       "      <td>-0.0</td>\n",
       "      <td>0.0</td>\n",
       "      <td>0.0</td>\n",
       "      <td>-0.0</td>\n",
       "      <td>-0.0</td>\n",
       "      <td>0.0</td>\n",
       "      <td>0.0</td>\n",
       "      <td>0.0</td>\n",
       "      <td>0.0</td>\n",
       "      <td>1056.293396</td>\n",
       "      <td>1056.293396</td>\n",
       "      <td>592.706604</td>\n",
       "      <td>592.706604</td>\n",
       "      <td>0.0</td>\n",
       "      <td>0.0</td>\n",
       "      <td>NaN</td>\n",
       "      <td>NaN</td>\n",
       "      <td>NaN</td>\n",
       "      <td>4.400010</td>\n",
       "      <td>0.0</td>\n",
       "    </tr>\n",
       "    <tr>\n",
       "      <th>3</th>\n",
       "      <td>0.3</td>\n",
       "      <td>22.00005</td>\n",
       "      <td>0.0</td>\n",
       "      <td>22.00005</td>\n",
       "      <td>0.0</td>\n",
       "      <td>22.00005</td>\n",
       "      <td>0.0</td>\n",
       "      <td>0.0</td>\n",
       "      <td>0.0</td>\n",
       "      <td>0.0</td>\n",
       "      <td>0.0</td>\n",
       "      <td>0.0</td>\n",
       "      <td>0.0</td>\n",
       "      <td>0.0</td>\n",
       "      <td>0.0</td>\n",
       "      <td>0.0</td>\n",
       "      <td>0.0</td>\n",
       "      <td>0.0</td>\n",
       "      <td>0.0</td>\n",
       "      <td>0.0</td>\n",
       "      <td>0.0</td>\n",
       "      <td>0.0</td>\n",
       "      <td>0.0</td>\n",
       "      <td>0.0</td>\n",
       "      <td>0.0</td>\n",
       "      <td>0.0</td>\n",
       "      <td>0.0</td>\n",
       "      <td>0.0</td>\n",
       "      <td>0.0</td>\n",
       "      <td>-0.0</td>\n",
       "      <td>-0.0</td>\n",
       "      <td>-0.0</td>\n",
       "      <td>-0.0</td>\n",
       "      <td>0.0</td>\n",
       "      <td>0.0</td>\n",
       "      <td>-0.0</td>\n",
       "      <td>-0.0</td>\n",
       "      <td>0.0</td>\n",
       "      <td>0.0</td>\n",
       "      <td>0.0</td>\n",
       "      <td>0.0</td>\n",
       "      <td>1056.293396</td>\n",
       "      <td>1056.293396</td>\n",
       "      <td>592.706604</td>\n",
       "      <td>592.706604</td>\n",
       "      <td>0.0</td>\n",
       "      <td>0.0</td>\n",
       "      <td>NaN</td>\n",
       "      <td>NaN</td>\n",
       "      <td>NaN</td>\n",
       "      <td>6.600015</td>\n",
       "      <td>0.0</td>\n",
       "    </tr>\n",
       "    <tr>\n",
       "      <th>4</th>\n",
       "      <td>0.4</td>\n",
       "      <td>22.00005</td>\n",
       "      <td>0.0</td>\n",
       "      <td>22.00005</td>\n",
       "      <td>0.0</td>\n",
       "      <td>22.00005</td>\n",
       "      <td>0.0</td>\n",
       "      <td>0.0</td>\n",
       "      <td>0.0</td>\n",
       "      <td>0.0</td>\n",
       "      <td>0.0</td>\n",
       "      <td>0.0</td>\n",
       "      <td>0.0</td>\n",
       "      <td>0.0</td>\n",
       "      <td>0.0</td>\n",
       "      <td>0.0</td>\n",
       "      <td>0.0</td>\n",
       "      <td>0.0</td>\n",
       "      <td>0.0</td>\n",
       "      <td>0.0</td>\n",
       "      <td>0.0</td>\n",
       "      <td>0.0</td>\n",
       "      <td>0.0</td>\n",
       "      <td>0.0</td>\n",
       "      <td>0.0</td>\n",
       "      <td>0.0</td>\n",
       "      <td>0.0</td>\n",
       "      <td>0.0</td>\n",
       "      <td>0.0</td>\n",
       "      <td>-0.0</td>\n",
       "      <td>-0.0</td>\n",
       "      <td>-0.0</td>\n",
       "      <td>-0.0</td>\n",
       "      <td>0.0</td>\n",
       "      <td>0.0</td>\n",
       "      <td>-0.0</td>\n",
       "      <td>-0.0</td>\n",
       "      <td>0.0</td>\n",
       "      <td>0.0</td>\n",
       "      <td>0.0</td>\n",
       "      <td>0.0</td>\n",
       "      <td>1056.293396</td>\n",
       "      <td>1056.293396</td>\n",
       "      <td>592.706604</td>\n",
       "      <td>592.706604</td>\n",
       "      <td>0.0</td>\n",
       "      <td>0.0</td>\n",
       "      <td>NaN</td>\n",
       "      <td>NaN</td>\n",
       "      <td>NaN</td>\n",
       "      <td>8.800020</td>\n",
       "      <td>0.0</td>\n",
       "    </tr>\n",
       "  </tbody>\n",
       "</table>\n",
       "</div>"
      ],
      "text/plain": [
       "     t        vx   vy        Vx   Vy        Vr  oz_deg  oz_rad  delta_deg  \\\n",
       "0  0.0  22.00005  0.0  22.00005  0.0  22.00005     0.0     0.0        0.0   \n",
       "1  0.1  22.00005  0.0  22.00005  0.0  22.00005     0.0     0.0        0.0   \n",
       "2  0.2  22.00005  0.0  22.00005  0.0  22.00005     0.0     0.0        0.0   \n",
       "3  0.3  22.00005  0.0  22.00005  0.0  22.00005     0.0     0.0        0.0   \n",
       "4  0.4  22.00005  0.0  22.00005  0.0  22.00005     0.0     0.0        0.0   \n",
       "\n",
       "   delta_rad  turn_rX  turn_rY  turn_rR   au   av   ax   ay   ar   Ax   Ay  \\\n",
       "0        0.0      0.0      0.0      0.0  0.0  0.0  0.0  0.0  0.0  0.0  0.0   \n",
       "1        0.0      0.0      0.0      0.0  0.0  0.0  0.0  0.0  0.0  0.0  0.0   \n",
       "2        0.0      0.0      0.0      0.0  0.0  0.0  0.0  0.0  0.0  0.0  0.0   \n",
       "3        0.0      0.0      0.0      0.0  0.0  0.0  0.0  0.0  0.0  0.0  0.0   \n",
       "4        0.0      0.0      0.0      0.0  0.0  0.0  0.0  0.0  0.0  0.0  0.0   \n",
       "\n",
       "    Ar  alphaz  alphaz_deg  beta_deg  beta_rad  lf_fx  lf_fy  rf_fx  rf_fy  \\\n",
       "0  0.0     0.0         0.0       0.0       0.0    0.0    0.0    0.0    0.0   \n",
       "1  0.0     0.0         0.0       0.0       0.0    0.0    0.0    0.0    0.0   \n",
       "2  0.0     0.0         0.0       0.0       0.0    0.0    0.0    0.0    0.0   \n",
       "3  0.0     0.0         0.0       0.0       0.0    0.0    0.0    0.0    0.0   \n",
       "4  0.0     0.0         0.0       0.0       0.0    0.0    0.0    0.0    0.0   \n",
       "\n",
       "   rr_fx  rr_fy  lr_fx  lr_fy  lf_alpha  rf_alpha  rr_alpha  lr_alpha  \\\n",
       "0   -0.0   -0.0   -0.0   -0.0       0.0       0.0      -0.0      -0.0   \n",
       "1   -0.0   -0.0   -0.0   -0.0       0.0       0.0      -0.0      -0.0   \n",
       "2   -0.0   -0.0   -0.0   -0.0       0.0       0.0      -0.0      -0.0   \n",
       "3   -0.0   -0.0   -0.0   -0.0       0.0       0.0      -0.0      -0.0   \n",
       "4   -0.0   -0.0   -0.0   -0.0       0.0       0.0      -0.0      -0.0   \n",
       "\n",
       "   lf_lock  rf_lock  rr_lock  lr_lock        lf_fz        rf_fz       rr_fz  \\\n",
       "0      0.0      0.0      0.0      0.0  1056.293396  1056.293396  592.706604   \n",
       "1      0.0      0.0      0.0      0.0  1056.293396  1056.293396  592.706604   \n",
       "2      0.0      0.0      0.0      0.0  1056.293396  1056.293396  592.706604   \n",
       "3      0.0      0.0      0.0      0.0  1056.293396  1056.293396  592.706604   \n",
       "4      0.0      0.0      0.0      0.0  1056.293396  1056.293396  592.706604   \n",
       "\n",
       "        lr_fz  theta_rad  theta_deg  Fx  Fy  Mz        Dx   Dy  \n",
       "0  592.706604        0.0        0.0 NaN NaN NaN  0.000000  0.0  \n",
       "1  592.706604        0.0        0.0 NaN NaN NaN  2.200005  0.0  \n",
       "2  592.706604        0.0        0.0 NaN NaN NaN  4.400010  0.0  \n",
       "3  592.706604        0.0        0.0 NaN NaN NaN  6.600015  0.0  \n",
       "4  592.706604        0.0        0.0 NaN NaN NaN  8.800020  0.0  "
      ]
     },
     "execution_count": 28,
     "metadata": {},
     "output_type": "execute_result"
    }
   ],
   "source": [
    "run.veh.model.head()"
   ]
  },
  {
   "cell_type": "code",
   "execution_count": 143,
   "metadata": {},
   "outputs": [],
   "source": [
    "pc_crash_column_names = ['t', 'ax', 'ay', 'az', 'phi_deg', 'lf_fy', 'rf_fy',\n",
    "                         'lr_fy', 'rr_fy', 'delta_deg', 'rf_delta_deg', 'steer', \n",
    "                         'steer_rate', 'X', 'Y', 'Z', 'roll', 'pitch', 'theta_deg',\n",
    "                         'Vx', 'Vy', 'Vz']"
   ]
  },
  {
   "cell_type": "code",
   "execution_count": 144,
   "metadata": {},
   "outputs": [],
   "source": [
    "df = pd.read_excel(os.path.join(path_parent, 'data', 'external', '15-mph-steer-data.xlsx'),\n",
    "                            na_filter = False, header = None, names = pc_crash_column_names, skiprows = 1)"
   ]
  },
  {
   "cell_type": "code",
   "execution_count": 145,
   "metadata": {},
   "outputs": [],
   "source": [
    "# convert velocities to fps\n",
    "df.Vx = [x * 1.46667 for x in df.Vx]\n",
    "df.Vy = [x * 1.46667 for x in df.Vy]\n",
    "df.Vz = [x * 1.46667 for x in df.Vz]\n",
    "\n",
    "# convert acceleration to fps/s\n",
    "df.ax = [x * 32.2 for x in df.ax]\n",
    "df.ay = [x * 32.2 for x in df.ay]\n",
    "df.az = [x * 32.2 for x in df.az]\n",
    "\n",
    "# convert tire forces to lb\n",
    "df.lf_fy = [x * 1000 for x in df.lf_fy]\n",
    "df.rf_fy = [x * 1000 for x in df.rf_fy]\n",
    "df.lr_fy = [x * 1000 for x in df.lr_fy]\n",
    "df.rr_fy = [x * 1000 for x in df.rr_fy]\n",
    "\n",
    "# steer angle in radians\n",
    "df['delta_rad'] = [x / 180 * math.pi for x in df.delta_deg]"
   ]
  },
  {
   "cell_type": "code",
   "execution_count": 146,
   "metadata": {},
   "outputs": [
    {
     "data": {
      "text/html": [
       "<div>\n",
       "<style scoped>\n",
       "    .dataframe tbody tr th:only-of-type {\n",
       "        vertical-align: middle;\n",
       "    }\n",
       "\n",
       "    .dataframe tbody tr th {\n",
       "        vertical-align: top;\n",
       "    }\n",
       "\n",
       "    .dataframe thead th {\n",
       "        text-align: right;\n",
       "    }\n",
       "</style>\n",
       "<table border=\"1\" class=\"dataframe\">\n",
       "  <thead>\n",
       "    <tr style=\"text-align: right;\">\n",
       "      <th></th>\n",
       "      <th>t</th>\n",
       "      <th>ax</th>\n",
       "      <th>ay</th>\n",
       "      <th>az</th>\n",
       "      <th>phi_deg</th>\n",
       "      <th>lf_fy</th>\n",
       "      <th>rf_fy</th>\n",
       "      <th>lr_fy</th>\n",
       "      <th>rr_fy</th>\n",
       "      <th>delta_deg</th>\n",
       "      <th>rf_delta_deg</th>\n",
       "      <th>steer</th>\n",
       "      <th>steer_rate</th>\n",
       "      <th>X</th>\n",
       "      <th>Y</th>\n",
       "      <th>Z</th>\n",
       "      <th>roll</th>\n",
       "      <th>pitch</th>\n",
       "      <th>theta_deg</th>\n",
       "      <th>Vx</th>\n",
       "      <th>Vy</th>\n",
       "      <th>Vz</th>\n",
       "      <th>delta_rad</th>\n",
       "      <th>Dx</th>\n",
       "      <th>Dy</th>\n",
       "    </tr>\n",
       "  </thead>\n",
       "  <tbody>\n",
       "    <tr>\n",
       "      <th>0</th>\n",
       "      <td>0.0</td>\n",
       "      <td>0.0</td>\n",
       "      <td>0.0</td>\n",
       "      <td>0.0</td>\n",
       "      <td>0.0</td>\n",
       "      <td>0.0</td>\n",
       "      <td>0.0</td>\n",
       "      <td>0.0</td>\n",
       "      <td>0.0</td>\n",
       "      <td>0.0</td>\n",
       "      <td>0.0</td>\n",
       "      <td>0.0</td>\n",
       "      <td>0</td>\n",
       "      <td>0.0</td>\n",
       "      <td>0.0</td>\n",
       "      <td>1.79</td>\n",
       "      <td>0.0</td>\n",
       "      <td>0.0</td>\n",
       "      <td>0.0</td>\n",
       "      <td>22.00005</td>\n",
       "      <td>0.0</td>\n",
       "      <td>0.0</td>\n",
       "      <td>0.0</td>\n",
       "      <td>0.000000</td>\n",
       "      <td>0.0</td>\n",
       "    </tr>\n",
       "    <tr>\n",
       "      <th>1</th>\n",
       "      <td>0.1</td>\n",
       "      <td>0.0</td>\n",
       "      <td>0.0</td>\n",
       "      <td>0.0</td>\n",
       "      <td>0.0</td>\n",
       "      <td>0.0</td>\n",
       "      <td>0.0</td>\n",
       "      <td>0.0</td>\n",
       "      <td>0.0</td>\n",
       "      <td>0.0</td>\n",
       "      <td>0.0</td>\n",
       "      <td>0.0</td>\n",
       "      <td>0</td>\n",
       "      <td>2.2</td>\n",
       "      <td>0.0</td>\n",
       "      <td>1.79</td>\n",
       "      <td>0.0</td>\n",
       "      <td>0.0</td>\n",
       "      <td>0.0</td>\n",
       "      <td>22.00005</td>\n",
       "      <td>0.0</td>\n",
       "      <td>0.0</td>\n",
       "      <td>0.0</td>\n",
       "      <td>2.200005</td>\n",
       "      <td>0.0</td>\n",
       "    </tr>\n",
       "    <tr>\n",
       "      <th>2</th>\n",
       "      <td>0.2</td>\n",
       "      <td>0.0</td>\n",
       "      <td>0.0</td>\n",
       "      <td>0.0</td>\n",
       "      <td>0.0</td>\n",
       "      <td>0.0</td>\n",
       "      <td>0.0</td>\n",
       "      <td>0.0</td>\n",
       "      <td>0.0</td>\n",
       "      <td>0.0</td>\n",
       "      <td>0.0</td>\n",
       "      <td>0.0</td>\n",
       "      <td>0</td>\n",
       "      <td>4.4</td>\n",
       "      <td>0.0</td>\n",
       "      <td>1.79</td>\n",
       "      <td>0.0</td>\n",
       "      <td>0.0</td>\n",
       "      <td>0.0</td>\n",
       "      <td>22.00005</td>\n",
       "      <td>0.0</td>\n",
       "      <td>0.0</td>\n",
       "      <td>0.0</td>\n",
       "      <td>4.400010</td>\n",
       "      <td>0.0</td>\n",
       "    </tr>\n",
       "    <tr>\n",
       "      <th>3</th>\n",
       "      <td>0.3</td>\n",
       "      <td>0.0</td>\n",
       "      <td>0.0</td>\n",
       "      <td>0.0</td>\n",
       "      <td>0.0</td>\n",
       "      <td>0.0</td>\n",
       "      <td>0.0</td>\n",
       "      <td>0.0</td>\n",
       "      <td>0.0</td>\n",
       "      <td>0.0</td>\n",
       "      <td>0.0</td>\n",
       "      <td>0.0</td>\n",
       "      <td>0</td>\n",
       "      <td>6.6</td>\n",
       "      <td>0.0</td>\n",
       "      <td>1.79</td>\n",
       "      <td>0.0</td>\n",
       "      <td>0.0</td>\n",
       "      <td>0.0</td>\n",
       "      <td>22.00005</td>\n",
       "      <td>0.0</td>\n",
       "      <td>0.0</td>\n",
       "      <td>0.0</td>\n",
       "      <td>6.600015</td>\n",
       "      <td>0.0</td>\n",
       "    </tr>\n",
       "    <tr>\n",
       "      <th>4</th>\n",
       "      <td>0.4</td>\n",
       "      <td>0.0</td>\n",
       "      <td>0.0</td>\n",
       "      <td>0.0</td>\n",
       "      <td>0.0</td>\n",
       "      <td>0.0</td>\n",
       "      <td>0.0</td>\n",
       "      <td>0.0</td>\n",
       "      <td>0.0</td>\n",
       "      <td>0.0</td>\n",
       "      <td>0.0</td>\n",
       "      <td>0.0</td>\n",
       "      <td>0</td>\n",
       "      <td>8.8</td>\n",
       "      <td>0.0</td>\n",
       "      <td>1.79</td>\n",
       "      <td>0.0</td>\n",
       "      <td>0.0</td>\n",
       "      <td>0.0</td>\n",
       "      <td>22.00005</td>\n",
       "      <td>0.0</td>\n",
       "      <td>0.0</td>\n",
       "      <td>0.0</td>\n",
       "      <td>8.800020</td>\n",
       "      <td>0.0</td>\n",
       "    </tr>\n",
       "  </tbody>\n",
       "</table>\n",
       "</div>"
      ],
      "text/plain": [
       "     t   ax   ay   az  phi_deg  lf_fy  rf_fy  lr_fy  rr_fy  delta_deg  \\\n",
       "0  0.0  0.0  0.0  0.0      0.0    0.0    0.0    0.0    0.0        0.0   \n",
       "1  0.1  0.0  0.0  0.0      0.0    0.0    0.0    0.0    0.0        0.0   \n",
       "2  0.2  0.0  0.0  0.0      0.0    0.0    0.0    0.0    0.0        0.0   \n",
       "3  0.3  0.0  0.0  0.0      0.0    0.0    0.0    0.0    0.0        0.0   \n",
       "4  0.4  0.0  0.0  0.0      0.0    0.0    0.0    0.0    0.0        0.0   \n",
       "\n",
       "   rf_delta_deg  steer  steer_rate    X    Y     Z  roll  pitch  theta_deg  \\\n",
       "0           0.0    0.0           0  0.0  0.0  1.79   0.0    0.0        0.0   \n",
       "1           0.0    0.0           0  2.2  0.0  1.79   0.0    0.0        0.0   \n",
       "2           0.0    0.0           0  4.4  0.0  1.79   0.0    0.0        0.0   \n",
       "3           0.0    0.0           0  6.6  0.0  1.79   0.0    0.0        0.0   \n",
       "4           0.0    0.0           0  8.8  0.0  1.79   0.0    0.0        0.0   \n",
       "\n",
       "         Vx   Vy   Vz  delta_rad        Dx   Dy  \n",
       "0  22.00005  0.0  0.0        0.0  0.000000  0.0  \n",
       "1  22.00005  0.0  0.0        0.0  2.200005  0.0  \n",
       "2  22.00005  0.0  0.0        0.0  4.400010  0.0  \n",
       "3  22.00005  0.0  0.0        0.0  6.600015  0.0  \n",
       "4  22.00005  0.0  0.0        0.0  8.800020  0.0  "
      ]
     },
     "execution_count": 146,
     "metadata": {},
     "output_type": "execute_result"
    }
   ],
   "source": [
    "# integrate velocities to get displacements\n",
    "df['Dx'] = 0 + integrate.cumtrapz(list(df.Vx), list(df.t), initial=0)\n",
    "df['Dy'] = 0 + integrate.cumtrapz(list(df.Vy), list(df.t), initial=0)\n",
    "df.head()"
   ]
  },
  {
   "cell_type": "code",
   "execution_count": 86,
   "metadata": {},
   "outputs": [
    {
     "data": {
      "text/plain": [
       "<AxesSubplot:xlabel='t'>"
      ]
     },
     "execution_count": 86,
     "metadata": {},
     "output_type": "execute_result"
    },
    {
     "data": {
      "image/png": "[encoded data removed]",
      "text/plain": [
       "<Figure size 432x288 with 1 Axes>"
      ]
     },
     "metadata": {
      "needs_background": "light"
     },
     "output_type": "display_data"
    }
   ],
   "source": [
    "df.plot(x = 't', y = 'steer')"
   ]
  },
  {
   "cell_type": "code",
   "execution_count": 54,
   "metadata": {},
   "outputs": [
    {
     "data": {
      "text/plain": [
       "10.9"
      ]
     },
     "execution_count": 54,
     "metadata": {},
     "output_type": "execute_result"
    }
   ],
   "source": [
    "df.t.max()"
   ]
  },
  {
   "cell_type": "code",
   "execution_count": 55,
   "metadata": {},
   "outputs": [
    {
     "data": {
      "text/plain": [
       "22.000049999999998"
      ]
     },
     "execution_count": 55,
     "metadata": {},
     "output_type": "execute_result"
    }
   ],
   "source": [
    "df.Vx[0]"
   ]
  },
  {
   "cell_type": "markdown",
   "metadata": {},
   "source": [
    "### Load Validation Data"
   ]
  },
  {
   "cell_type": "code",
   "execution_count": null,
   "metadata": {},
   "outputs": [],
   "source": [
    "# validation vehicle data\n",
    "\n",
    "vehicle_input_dict = {\"year\":2004,\n",
    "\"make\":\"Chevrolet\",\n",
    "\"model\":\"Malibu\",\n",
    "\"weight\":3298,\n",
    "\"vin\":\"1G1ZU54854F135916\",\n",
    "\"brake\":0,\n",
    "\"steer_ratio\":15.9,\n",
    "\"init_x_pos\":0,\n",
    "\"init_y_pos\":0,\n",
    "\"head_angle\":0,\n",
    "\"width\":70 / 12,\n",
    "\"length\":187 / 12,\n",
    "\"hcg\":21.5 / 12,\n",
    "\"lcgf\":38.1 / 12,\n",
    "\"lcgr\":67.9 / 12,\n",
    "\"wb\":106 / 12,\n",
    "\"track\":60 / 12,\n",
    "\"f_hang\":38 / 12,\n",
    "\"r_hang\":43 / 12,\n",
    "\"tire_d\":26.2 / 12,\n",
    "\"tire_w\":8.5 / 12,\n",
    "\"izz\":2040,\n",
    "\"fwd\":1,\n",
    "\"rwd\":0,\n",
    "\"awd\":0,\n",
    "\"A\":100,\n",
    "\"B\":41,\n",
    "\"k\":1000,\n",
    "\"L\":0,\n",
    "\"c\":0,\n",
    "\"vx_initial\":df.Vx[0],\n",
    "\"vy_initial\":0,\n",
    "\"omega_z\":0}"
   ]
  },
  {
   "cell_type": "markdown",
   "metadata": {},
   "source": [
    "### Assign validation data to veh2"
   ]
  },
  {
   "cell_type": "code",
   "execution_count": 126,
   "metadata": {},
   "outputs": [
    {
     "name": "stdout",
     "output_type": "stream",
     "text": [
      "Vehicle inputs for Veh2 applied succesfully\n"
     ]
    },
    {
     "ename": "AttributeError",
     "evalue": "'Vehicle' object has no attribute 'p_gx'",
     "output_type": "error",
     "traceback": [
      "\u001b[0;31m---------------------------------------------------------------------------\u001b[0m",
      "\u001b[0;31mAttributeError\u001b[0m                            Traceback (most recent call last)",
      "\u001b[0;32m<ipython-input-126-49e18d4153d1>\u001b[0m in \u001b[0;36m<module>\u001b[0;34m\u001b[0m\n\u001b[1;32m      4\u001b[0m \u001b[0;31m# apply validation data as a model result\u001b[0m\u001b[0;34m\u001b[0m\u001b[0;34m\u001b[0m\u001b[0;34m\u001b[0m\u001b[0m\n\u001b[1;32m      5\u001b[0m \u001b[0mveh2\u001b[0m\u001b[0;34m.\u001b[0m\u001b[0mmodel\u001b[0m \u001b[0;34m=\u001b[0m \u001b[0mdf\u001b[0m\u001b[0;34m\u001b[0m\u001b[0;34m\u001b[0m\u001b[0m\n\u001b[0;32m----> 6\u001b[0;31m \u001b[0mveh2\u001b[0m\u001b[0;34m.\u001b[0m\u001b[0mp_gx\u001b[0m\u001b[0;34m.\u001b[0m\u001b[0mcg\u001b[0m \u001b[0;34m=\u001b[0m \u001b[0mdf\u001b[0m\u001b[0;34m.\u001b[0m\u001b[0mDx\u001b[0m\u001b[0;34m\u001b[0m\u001b[0;34m\u001b[0m\u001b[0m\n\u001b[0m\u001b[1;32m      7\u001b[0m \u001b[0mveh2\u001b[0m\u001b[0;34m.\u001b[0m\u001b[0mp_gy\u001b[0m\u001b[0;34m.\u001b[0m\u001b[0mcg\u001b[0m \u001b[0;34m=\u001b[0m \u001b[0mdf\u001b[0m\u001b[0;34m.\u001b[0m\u001b[0mDy\u001b[0m\u001b[0;34m\u001b[0m\u001b[0;34m\u001b[0m\u001b[0m\n",
      "\u001b[0;31mAttributeError\u001b[0m: 'Vehicle' object has no attribute 'p_gx'"
     ]
    }
   ],
   "source": [
    "veh2 = Vehicle('Veh2', vehicle_input_dict)\n",
    "veh2.driver_input = driver_input_df\n",
    "\n",
    "# apply validation data as a model result\n",
    "veh2.model = df"
   ]
  },
  {
   "cell_type": "markdown",
   "metadata": {},
   "source": [
    "### Create Pycrash vehicle:\n",
    "- \"Vehicle\" stores information about a single vehicle - all possible inputs do not need to be entered\n",
    "- creating a Vehicle requries a \"name\" which is used to identify the vehicle in outputs / plots etc. "
   ]
  },
  {
   "cell_type": "code",
   "execution_count": 164,
   "metadata": {},
   "outputs": [
    {
     "name": "stdout",
     "output_type": "stream",
     "text": [
      "Vehicle inputs for Veh1 applied succesfully\n"
     ]
    }
   ],
   "source": [
    "veh1 = Vehicle('Veh1', vehicle_input_dict)\n",
    "veh1.driver_input = driver_input_df"
   ]
  },
  {
   "cell_type": "markdown",
   "metadata": {},
   "source": [
    "### Create Single Motion Instance\n",
    "- simulation is run when instance is created"
   ]
  },
  {
   "cell_type": "code",
   "execution_count": 165,
   "metadata": {},
   "outputs": [
    {
     "name": "stdout",
     "output_type": "stream",
     "text": [
      "Maximum allowable friction: 0.76\n",
      "Time step for vehicle motion: 0.01\n",
      "Maximum tire slip angle: 0.174533\n",
      "Driver input for Veh1 of shape = (110, 4)\n",
      "Vehicle motion will be simulated for 10.9 seconds\n"
     ]
    }
   ],
   "source": [
    "run = SingleMotion('15_mph_steer', veh1)"
   ]
  },
  {
   "cell_type": "markdown",
   "metadata": {},
   "source": [
    "### View Driver Inputs"
   ]
  },
  {
   "cell_type": "code",
   "execution_count": 166,
   "metadata": {},
   "outputs": [
    {
     "data": {
      "application/vnd.plotly.v1+json": {
       "config": {
        "plotlyServerURL": "https://plot.ly"
       },
       "data": [
        {
         "line": {
          "color": "rgb(0, 255, 0)",
          "width": 2
         },
         "mode": "lines",
         "name": "throttle",
         "type": "scatter",
         "x": [
          0,
          0.1,
          0.2,
          0.3,
          0.4,
          0.5,
          0.6,
          0.7,
          0.8,
          0.9,
          1,
          1.1,
          1.2,
          1.3,
          1.4,
          1.5,
          1.6,
          1.7,
          1.8,
          1.9,
          2,
          2.1,
          2.2,
          2.3,
          2.4,
          2.5,
          2.6,
          2.7,
          2.8,
          2.9,
          3,
          3.1,
          3.2,
          3.3,
          3.4,
          3.5,
          3.6,
          3.7,
          3.8,
          3.9,
          4,
          4.1,
          4.2,
          4.3,
          4.4,
          4.5,
          4.6,
          4.7,
          4.8,
          4.9,
          5,
          5.1,
          5.2,
          5.3,
          5.4,
          5.5,
          5.6,
          5.7,
          5.8,
          5.9,
          6,
          6.1,
          6.2,
          6.3,
          6.4,
          6.5,
          6.6,
          6.7,
          6.8,
          6.9,
          7,
          7.1,
          7.2,
          7.3,
          7.4,
          7.5,
          7.6,
          7.7,
          7.8,
          7.9,
          8,
          8.1,
          8.2,
          8.3,
          8.4,
          8.5,
          8.6,
          8.7,
          8.8,
          8.9,
          9,
          9.1,
          9.2,
          9.3,
          9.4,
          9.5,
          9.6,
          9.7,
          9.8,
          9.9,
          10,
          10.1,
          10.2,
          10.3,
          10.4,
          10.5,
          10.6,
          10.7,
          10.8,
          10.9
         ],
         "xaxis": "x",
         "y": [
          0,
          0,
          0,
          0,
          0,
          0,
          0,
          0,
          0,
          0,
          0,
          0,
          0,
          0,
          0,
          0,
          0,
          0,
          0,
          0,
          0,
          0,
          0,
          0,
          0,
          0,
          0,
          0,
          0,
          0,
          0,
          0,
          0,
          0,
          0,
          0,
          0,
          0,
          0,
          0,
          0,
          0,
          0,
          0,
          0,
          0,
          0,
          0,
          0,
          0,
          0,
          0,
          0,
          0,
          0,
          0,
          0,
          0,
          0,
          0,
          0,
          0,
          0,
          0,
          0,
          0,
          0,
          0,
          0,
          0,
          0,
          0,
          0,
          0,
          0,
          0,
          0,
          0,
          0,
          0,
          0,
          0,
          0,
          0,
          0,
          0,
          0,
          0,
          0,
          0,
          0,
          0,
          0,
          0,
          0,
          0,
          0,
          0,
          0,
          0,
          0,
          0,
          0,
          0,
          0,
          0,
          0,
          0,
          0,
          0
         ],
         "yaxis": "y"
        },
        {
         "line": {
          "color": "rgb(255, 0, 0)",
          "width": 2
         },
         "mode": "lines",
         "name": "brake",
         "type": "scatter",
         "x": [
          0,
          0.1,
          0.2,
          0.3,
          0.4,
          0.5,
          0.6,
          0.7,
          0.8,
          0.9,
          1,
          1.1,
          1.2,
          1.3,
          1.4,
          1.5,
          1.6,
          1.7,
          1.8,
          1.9,
          2,
          2.1,
          2.2,
          2.3,
          2.4,
          2.5,
          2.6,
          2.7,
          2.8,
          2.9,
          3,
          3.1,
          3.2,
          3.3,
          3.4,
          3.5,
          3.6,
          3.7,
          3.8,
          3.9,
          4,
          4.1,
          4.2,
          4.3,
          4.4,
          4.5,
          4.6,
          4.7,
          4.8,
          4.9,
          5,
          5.1,
          5.2,
          5.3,
          5.4,
          5.5,
          5.6,
          5.7,
          5.8,
          5.9,
          6,
          6.1,
          6.2,
          6.3,
          6.4,
          6.5,
          6.6,
          6.7,
          6.8,
          6.9,
          7,
          7.1,
          7.2,
          7.3,
          7.4,
          7.5,
          7.6,
          7.7,
          7.8,
          7.9,
          8,
          8.1,
          8.2,
          8.3,
          8.4,
          8.5,
          8.6,
          8.7,
          8.8,
          8.9,
          9,
          9.1,
          9.2,
          9.3,
          9.4,
          9.5,
          9.6,
          9.7,
          9.8,
          9.9,
          10,
          10.1,
          10.2,
          10.3,
          10.4,
          10.5,
          10.6,
          10.7,
          10.8,
          10.9
         ],
         "xaxis": "x",
         "y": [
          0,
          0,
          0,
          0,
          0,
          0,
          0,
          0,
          0,
          0,
          0,
          0,
          0,
          0,
          0,
          0,
          0,
          0,
          0,
          0,
          0,
          0,
          0,
          0,
          0,
          0,
          0,
          0,
          0,
          0,
          0,
          0,
          0,
          0,
          0,
          0,
          0,
          0,
          0,
          0,
          0,
          0,
          0,
          0,
          0,
          0,
          0,
          0,
          0,
          0,
          0,
          0,
          0,
          0,
          0,
          0,
          0,
          0,
          0,
          0,
          0,
          0,
          0,
          0,
          0,
          0,
          0,
          0,
          0,
          0,
          0,
          0,
          0,
          0,
          0,
          0,
          0,
          0,
          0,
          0,
          0,
          0,
          0,
          0,
          0,
          0,
          0,
          0,
          0,
          0,
          0,
          0,
          0,
          0,
          0,
          0,
          0,
          0,
          0,
          0,
          0,
          0,
          0,
          0,
          0,
          0,
          0,
          0,
          0,
          0
         ],
         "yaxis": "y"
        },
        {
         "line": {
          "color": "rgb(0, 0, 0)",
          "width": 2
         },
         "mode": "lines",
         "name": "steer",
         "type": "scatter",
         "x": [
          0,
          0.1,
          0.2,
          0.3,
          0.4,
          0.5,
          0.6,
          0.7,
          0.8,
          0.9,
          1,
          1.1,
          1.2,
          1.3,
          1.4,
          1.5,
          1.6,
          1.7,
          1.8,
          1.9,
          2,
          2.1,
          2.2,
          2.3,
          2.4,
          2.5,
          2.6,
          2.7,
          2.8,
          2.9,
          3,
          3.1,
          3.2,
          3.3,
          3.4,
          3.5,
          3.6,
          3.7,
          3.8,
          3.9,
          4,
          4.1,
          4.2,
          4.3,
          4.4,
          4.5,
          4.6,
          4.7,
          4.8,
          4.9,
          5,
          5.1,
          5.2,
          5.3,
          5.4,
          5.5,
          5.6,
          5.7,
          5.8,
          5.9,
          6,
          6.1,
          6.2,
          6.3,
          6.4,
          6.5,
          6.6,
          6.7,
          6.8,
          6.9,
          7,
          7.1,
          7.2,
          7.3,
          7.4,
          7.5,
          7.6,
          7.7,
          7.8,
          7.9,
          8,
          8.1,
          8.2,
          8.3,
          8.4,
          8.5,
          8.6,
          8.7,
          8.8,
          8.9,
          9,
          9.1,
          9.2,
          9.3,
          9.4,
          9.5,
          9.6,
          9.7,
          9.8,
          9.9,
          10,
          10.1,
          10.2,
          10.3,
          10.4,
          10.5,
          10.6,
          10.7,
          10.8,
          10.9
         ],
         "xaxis": "x",
         "y": [
          0,
          0,
          0,
          0,
          0,
          0,
          0,
          0,
          0,
          0,
          0,
          -32.400051,
          -68.40006,
          -104.400069,
          -140.400077,
          -176.400086,
          -212.400094,
          -248.400103,
          -284.400112,
          -320.40012,
          -356.400086,
          -360,
          -360,
          -360,
          -360,
          -360,
          -360,
          -360,
          -360,
          -360,
          -360,
          -360,
          -360,
          -360,
          -360,
          -360,
          -360,
          -360,
          -360,
          -360,
          -360,
          -360,
          -360,
          -360,
          -360,
          -360,
          -360,
          -360,
          -360,
          -360,
          -360,
          -360,
          -360,
          -360,
          -360,
          -360,
          -360,
          -360,
          -360,
          -360,
          -360,
          -360,
          -360,
          -360,
          -360,
          -360,
          -360,
          -360,
          -360,
          -360,
          -360,
          -360,
          -360,
          -360,
          -360,
          -360,
          -360,
          -360,
          -360,
          -360,
          -360,
          -360,
          -360,
          -360,
          -360,
          -360,
          -360,
          -360,
          -360,
          -360,
          -360,
          -360,
          -360,
          -360,
          -360,
          -360,
          -360,
          -360,
          -360,
          -360,
          -360,
          -360,
          -360,
          -360,
          -360,
          -360,
          -360,
          -360,
          -360,
          -360
         ],
         "yaxis": "y2"
        }
       ],
       "layout": {
        "autosize": false,
        "font": {
         "color": "black",
         "family": "Arial",
         "size": 16
        },
        "height": 450,
        "legend": {
         "orientation": "h",
         "x": 0.01,
         "xanchor": "left",
         "y": 1.15,
         "yanchor": "top"
        },
        "template": {
         "data": {
          "bar": [
           {
            "error_x": {
             "color": "#2a3f5f"
            },
            "error_y": {
             "color": "#2a3f5f"
            },
            "marker": {
             "line": {
              "color": "white",
              "width": 0.5
             }
            },
            "type": "bar"
           }
          ],
          "barpolar": [
           {
            "marker": {
             "line": {
              "color": "white",
              "width": 0.5
             }
            },
            "type": "barpolar"
           }
          ],
          "carpet": [
           {
            "aaxis": {
             "endlinecolor": "#2a3f5f",
             "gridcolor": "#C8D4E3",
             "linecolor": "#C8D4E3",
             "minorgridcolor": "#C8D4E3",
             "startlinecolor": "#2a3f5f"
            },
            "baxis": {
             "endlinecolor": "#2a3f5f",
             "gridcolor": "#C8D4E3",
             "linecolor": "#C8D4E3",
             "minorgridcolor": "#C8D4E3",
             "startlinecolor": "#2a3f5f"
            },
            "type": "carpet"
           }
          ],
          "choropleth": [
           {
            "colorbar": {
             "outlinewidth": 0,
             "ticks": ""
            },
            "type": "choropleth"
           }
          ],
          "contour": [
           {
            "colorbar": {
             "outlinewidth": 0,
             "ticks": ""
            },
            "colorscale": [
             [
              0,
              "#0d0887"
             ],
             [
              0.1111111111111111,
              "#46039f"
             ],
             [
              0.2222222222222222,
              "#7201a8"
             ],
             [
              0.3333333333333333,
              "#9c179e"
             ],
             [
              0.4444444444444444,
              "#bd3786"
             ],
             [
              0.5555555555555556,
              "#d8576b"
             ],
             [
              0.6666666666666666,
              "#ed7953"
             ],
             [
              0.7777777777777778,
              "#fb9f3a"
             ],
             [
              0.8888888888888888,
              "#fdca26"
             ],
             [
              1,
              "#f0f921"
             ]
            ],
            "type": "contour"
           }
          ],
          "contourcarpet": [
           {
            "colorbar": {
             "outlinewidth": 0,
             "ticks": ""
            },
            "type": "contourcarpet"
           }
          ],
          "heatmap": [
           {
            "colorbar": {
             "outlinewidth": 0,
             "ticks": ""
            },
            "colorscale": [
             [
              0,
              "#0d0887"
             ],
             [
              0.1111111111111111,
              "#46039f"
             ],
             [
              0.2222222222222222,
              "#7201a8"
             ],
             [
              0.3333333333333333,
              "#9c179e"
             ],
             [
              0.4444444444444444,
              "#bd3786"
             ],
             [
              0.5555555555555556,
              "#d8576b"
             ],
             [
              0.6666666666666666,
              "#ed7953"
             ],
             [
              0.7777777777777778,
              "#fb9f3a"
             ],
             [
              0.8888888888888888,
              "#fdca26"
             ],
             [
              1,
              "#f0f921"
             ]
            ],
            "type": "heatmap"
           }
          ],
          "heatmapgl": [
           {
            "colorbar": {
             "outlinewidth": 0,
             "ticks": ""
            },
            "colorscale": [
             [
              0,
              "#0d0887"
             ],
             [
              0.1111111111111111,
              "#46039f"
             ],
             [
              0.2222222222222222,
              "#7201a8"
             ],
             [
              0.3333333333333333,
              "#9c179e"
             ],
             [
              0.4444444444444444,
              "#bd3786"
             ],
             [
              0.5555555555555556,
              "#d8576b"
             ],
             [
              0.6666666666666666,
              "#ed7953"
             ],
             [
              0.7777777777777778,
              "#fb9f3a"
             ],
             [
              0.8888888888888888,
              "#fdca26"
             ],
             [
              1,
              "#f0f921"
             ]
            ],
            "type": "heatmapgl"
           }
          ],
          "histogram": [
           {
            "marker": {
             "colorbar": {
              "outlinewidth": 0,
              "ticks": ""
             }
            },
            "type": "histogram"
           }
          ],
          "histogram2d": [
           {
            "colorbar": {
             "outlinewidth": 0,
             "ticks": ""
            },
            "colorscale": [
             [
              0,
              "#0d0887"
             ],
             [
              0.1111111111111111,
              "#46039f"
             ],
             [
              0.2222222222222222,
              "#7201a8"
             ],
             [
              0.3333333333333333,
              "#9c179e"
             ],
             [
              0.4444444444444444,
              "#bd3786"
             ],
             [
              0.5555555555555556,
              "#d8576b"
             ],
             [
              0.6666666666666666,
              "#ed7953"
             ],
             [
              0.7777777777777778,
              "#fb9f3a"
             ],
             [
              0.8888888888888888,
              "#fdca26"
             ],
             [
              1,
              "#f0f921"
             ]
            ],
            "type": "histogram2d"
           }
          ],
          "histogram2dcontour": [
           {
            "colorbar": {
             "outlinewidth": 0,
             "ticks": ""
            },
            "colorscale": [
             [
              0,
              "#0d0887"
             ],
             [
              0.1111111111111111,
              "#46039f"
             ],
             [
              0.2222222222222222,
              "#7201a8"
             ],
             [
              0.3333333333333333,
              "#9c179e"
             ],
             [
              0.4444444444444444,
              "#bd3786"
             ],
             [
              0.5555555555555556,
              "#d8576b"
             ],
             [
              0.6666666666666666,
              "#ed7953"
             ],
             [
              0.7777777777777778,
              "#fb9f3a"
             ],
             [
              0.8888888888888888,
              "#fdca26"
             ],
             [
              1,
              "#f0f921"
             ]
            ],
            "type": "histogram2dcontour"
           }
          ],
          "mesh3d": [
           {
            "colorbar": {
             "outlinewidth": 0,
             "ticks": ""
            },
            "type": "mesh3d"
           }
          ],
          "parcoords": [
           {
            "line": {
             "colorbar": {
              "outlinewidth": 0,
              "ticks": ""
             }
            },
            "type": "parcoords"
           }
          ],
          "pie": [
           {
            "automargin": true,
            "type": "pie"
           }
          ],
          "scatter": [
           {
            "marker": {
             "colorbar": {
              "outlinewidth": 0,
              "ticks": ""
             }
            },
            "type": "scatter"
           }
          ],
          "scatter3d": [
           {
            "line": {
             "colorbar": {
              "outlinewidth": 0,
              "ticks": ""
             }
            },
            "marker": {
             "colorbar": {
              "outlinewidth": 0,
              "ticks": ""
             }
            },
            "type": "scatter3d"
           }
          ],
          "scattercarpet": [
           {
            "marker": {
             "colorbar": {
              "outlinewidth": 0,
              "ticks": ""
             }
            },
            "type": "scattercarpet"
           }
          ],
          "scattergeo": [
           {
            "marker": {
             "colorbar": {
              "outlinewidth": 0,
              "ticks": ""
             }
            },
            "type": "scattergeo"
           }
          ],
          "scattergl": [
           {
            "marker": {
             "colorbar": {
              "outlinewidth": 0,
              "ticks": ""
             }
            },
            "type": "scattergl"
           }
          ],
          "scattermapbox": [
           {
            "marker": {
             "colorbar": {
              "outlinewidth": 0,
              "ticks": ""
             }
            },
            "type": "scattermapbox"
           }
          ],
          "scatterpolar": [
           {
            "marker": {
             "colorbar": {
              "outlinewidth": 0,
              "ticks": ""
             }
            },
            "type": "scatterpolar"
           }
          ],
          "scatterpolargl": [
           {
            "marker": {
             "colorbar": {
              "outlinewidth": 0,
              "ticks": ""
             }
            },
            "type": "scatterpolargl"
           }
          ],
          "scatterternary": [
           {
            "marker": {
             "colorbar": {
              "outlinewidth": 0,
              "ticks": ""
             }
            },
            "type": "scatterternary"
           }
          ],
          "surface": [
           {
            "colorbar": {
             "outlinewidth": 0,
             "ticks": ""
            },
            "colorscale": [
             [
              0,
              "#0d0887"
             ],
             [
              0.1111111111111111,
              "#46039f"
             ],
             [
              0.2222222222222222,
              "#7201a8"
             ],
             [
              0.3333333333333333,
              "#9c179e"
             ],
             [
              0.4444444444444444,
              "#bd3786"
             ],
             [
              0.5555555555555556,
              "#d8576b"
             ],
             [
              0.6666666666666666,
              "#ed7953"
             ],
             [
              0.7777777777777778,
              "#fb9f3a"
             ],
             [
              0.8888888888888888,
              "#fdca26"
             ],
             [
              1,
              "#f0f921"
             ]
            ],
            "type": "surface"
           }
          ],
          "table": [
           {
            "cells": {
             "fill": {
              "color": "#EBF0F8"
             },
             "line": {
              "color": "white"
             }
            },
            "header": {
             "fill": {
              "color": "#C8D4E3"
             },
             "line": {
              "color": "white"
             }
            },
            "type": "table"
           }
          ]
         },
         "layout": {
          "annotationdefaults": {
           "arrowcolor": "#2a3f5f",
           "arrowhead": 0,
           "arrowwidth": 1
          },
          "coloraxis": {
           "colorbar": {
            "outlinewidth": 0,
            "ticks": ""
           }
          },
          "colorscale": {
           "diverging": [
            [
             0,
             "#8e0152"
            ],
            [
             0.1,
             "#c51b7d"
            ],
            [
             0.2,
             "#de77ae"
            ],
            [
             0.3,
             "#f1b6da"
            ],
            [
             0.4,
             "#fde0ef"
            ],
            [
             0.5,
             "#f7f7f7"
            ],
            [
             0.6,
             "#e6f5d0"
            ],
            [
             0.7,
             "#b8e186"
            ],
            [
             0.8,
             "#7fbc41"
            ],
            [
             0.9,
             "#4d9221"
            ],
            [
             1,
             "#276419"
            ]
           ],
           "sequential": [
            [
             0,
             "#0d0887"
            ],
            [
             0.1111111111111111,
             "#46039f"
            ],
            [
             0.2222222222222222,
             "#7201a8"
            ],
            [
             0.3333333333333333,
             "#9c179e"
            ],
            [
             0.4444444444444444,
             "#bd3786"
            ],
            [
             0.5555555555555556,
             "#d8576b"
            ],
            [
             0.6666666666666666,
             "#ed7953"
            ],
            [
             0.7777777777777778,
             "#fb9f3a"
            ],
            [
             0.8888888888888888,
             "#fdca26"
            ],
            [
             1,
             "#f0f921"
            ]
           ],
           "sequentialminus": [
            [
             0,
             "#0d0887"
            ],
            [
             0.1111111111111111,
             "#46039f"
            ],
            [
             0.2222222222222222,
             "#7201a8"
            ],
            [
             0.3333333333333333,
             "#9c179e"
            ],
            [
             0.4444444444444444,
             "#bd3786"
            ],
            [
             0.5555555555555556,
             "#d8576b"
            ],
            [
             0.6666666666666666,
             "#ed7953"
            ],
            [
             0.7777777777777778,
             "#fb9f3a"
            ],
            [
             0.8888888888888888,
             "#fdca26"
            ],
            [
             1,
             "#f0f921"
            ]
           ]
          },
          "colorway": [
           "#636efa",
           "#EF553B",
           "#00cc96",
           "#ab63fa",
           "#FFA15A",
           "#19d3f3",
           "#FF6692",
           "#B6E880",
           "#FF97FF",
           "#FECB52"
          ],
          "font": {
           "color": "#2a3f5f"
          },
          "geo": {
           "bgcolor": "white",
           "lakecolor": "white",
           "landcolor": "white",
           "showlakes": true,
           "showland": true,
           "subunitcolor": "#C8D4E3"
          },
          "hoverlabel": {
           "align": "left"
          },
          "hovermode": "closest",
          "mapbox": {
           "style": "light"
          },
          "paper_bgcolor": "white",
          "plot_bgcolor": "white",
          "polar": {
           "angularaxis": {
            "gridcolor": "#EBF0F8",
            "linecolor": "#EBF0F8",
            "ticks": ""
           },
           "bgcolor": "white",
           "radialaxis": {
            "gridcolor": "#EBF0F8",
            "linecolor": "#EBF0F8",
            "ticks": ""
           }
          },
          "scene": {
           "xaxis": {
            "backgroundcolor": "white",
            "gridcolor": "#DFE8F3",
            "gridwidth": 2,
            "linecolor": "#EBF0F8",
            "showbackground": true,
            "ticks": "",
            "zerolinecolor": "#EBF0F8"
           },
           "yaxis": {
            "backgroundcolor": "white",
            "gridcolor": "#DFE8F3",
            "gridwidth": 2,
            "linecolor": "#EBF0F8",
            "showbackground": true,
            "ticks": "",
            "zerolinecolor": "#EBF0F8"
           },
           "zaxis": {
            "backgroundcolor": "white",
            "gridcolor": "#DFE8F3",
            "gridwidth": 2,
            "linecolor": "#EBF0F8",
            "showbackground": true,
            "ticks": "",
            "zerolinecolor": "#EBF0F8"
           }
          },
          "shapedefaults": {
           "line": {
            "color": "#2a3f5f"
           }
          },
          "ternary": {
           "aaxis": {
            "gridcolor": "#DFE8F3",
            "linecolor": "#A2B1C6",
            "ticks": ""
           },
           "baxis": {
            "gridcolor": "#DFE8F3",
            "linecolor": "#A2B1C6",
            "ticks": ""
           },
           "bgcolor": "white",
           "caxis": {
            "gridcolor": "#DFE8F3",
            "linecolor": "#A2B1C6",
            "ticks": ""
           }
          },
          "title": {
           "x": 0.05
          },
          "xaxis": {
           "automargin": true,
           "gridcolor": "#EBF0F8",
           "linecolor": "#EBF0F8",
           "ticks": "",
           "title": {
            "standoff": 15
           },
           "zerolinecolor": "#EBF0F8",
           "zerolinewidth": 2
          },
          "yaxis": {
           "automargin": true,
           "gridcolor": "#EBF0F8",
           "linecolor": "#EBF0F8",
           "ticks": "",
           "title": {
            "standoff": 15
           },
           "zerolinecolor": "#EBF0F8",
           "zerolinewidth": 2
          }
         }
        },
        "title": {
         "text": "Driver Inputs for Veh1"
        },
        "width": 800,
        "xaxis": {
         "anchor": "y",
         "domain": [
          0,
          0.94
         ],
         "linecolor": "black",
         "linewidth": 1,
         "showgrid": false,
         "showline": true,
         "tickcolor": "black",
         "ticklen": 10,
         "ticks": "outside",
         "tickwidth": 1,
         "title": {
          "text": "Time (s)"
         },
         "zeroline": false
        },
        "yaxis": {
         "anchor": "x",
         "autorange": "reversed",
         "domain": [
          0,
          1
         ],
         "linecolor": "black",
         "linewidth": 1,
         "showgrid": false,
         "showline": true,
         "tickcolor": "black",
         "ticklen": 10,
         "ticks": "outside",
         "tickwidth": 1,
         "title": {
          "text": "Brake | Throttle (%)"
         },
         "zeroline": false
        },
        "yaxis2": {
         "anchor": "x",
         "autorange": "reversed",
         "linecolor": "black",
         "linewidth": 1,
         "overlaying": "y",
         "showgrid": false,
         "showline": true,
         "side": "right",
         "tickcolor": "black",
         "ticklen": 10,
         "ticks": "outside",
         "tickwidth": 1,
         "title": {
          "text": "Steer Angle (deg)"
         },
         "zeroline": false
        }
       }
      },
      "text/html": [
       "<div>\n",
       "        \n",
       "        \n",
       "            <div id=\"b9257fa7-9a01-4b9b-aaeb-ebdb40af7a5a\" class=\"plotly-graph-div\" style=\"height:450px; width:800px;\"></div>\n",
       "            <script type=\"text/javascript\">\n",
       "                require([\"plotly\"], function(Plotly) {\n",
       "                    window.PLOTLYENV=window.PLOTLYENV || {};\n",
       "                    \n",
       "                if (document.getElementById(\"b9257fa7-9a01-4b9b-aaeb-ebdb40af7a5a\")) {\n",
       "                    Plotly.newPlot(\n",
       "                        'b9257fa7-9a01-4b9b-aaeb-ebdb40af7a5a',\n",
       "                        [{\"line\": {\"color\": \"rgb(0, 255, 0)\", \"width\": 2}, \"mode\": \"lines\", \"name\": \"throttle\", \"type\": \"scatter\", \"x\": [0.0, 0.1, 0.2, 0.3, 0.4, 0.5, 0.6, 0.7, 0.8, 0.9, 1.0, 1.1, 1.2, 1.3, 1.4, 1.5, 1.6, 1.7, 1.8, 1.9, 2.0, 2.1, 2.2, 2.3, 2.4, 2.5, 2.6, 2.7, 2.8, 2.9, 3.0, 3.1, 3.2, 3.3, 3.4, 3.5, 3.6, 3.7, 3.8, 3.9, 4.0, 4.1, 4.2, 4.3, 4.4, 4.5, 4.6, 4.7, 4.8, 4.9, 5.0, 5.1, 5.2, 5.3, 5.4, 5.5, 5.6, 5.7, 5.8, 5.9, 6.0, 6.1, 6.2, 6.3, 6.4, 6.5, 6.6, 6.7, 6.8, 6.9, 7.0, 7.1, 7.2, 7.3, 7.4, 7.5, 7.6, 7.7, 7.8, 7.9, 8.0, 8.1, 8.2, 8.3, 8.4, 8.5, 8.6, 8.7, 8.8, 8.9, 9.0, 9.1, 9.2, 9.3, 9.4, 9.5, 9.6, 9.7, 9.8, 9.9, 10.0, 10.1, 10.2, 10.3, 10.4, 10.5, 10.6, 10.7, 10.8, 10.9], \"xaxis\": \"x\", \"y\": [0, 0, 0, 0, 0, 0, 0, 0, 0, 0, 0, 0, 0, 0, 0, 0, 0, 0, 0, 0, 0, 0, 0, 0, 0, 0, 0, 0, 0, 0, 0, 0, 0, 0, 0, 0, 0, 0, 0, 0, 0, 0, 0, 0, 0, 0, 0, 0, 0, 0, 0, 0, 0, 0, 0, 0, 0, 0, 0, 0, 0, 0, 0, 0, 0, 0, 0, 0, 0, 0, 0, 0, 0, 0, 0, 0, 0, 0, 0, 0, 0, 0, 0, 0, 0, 0, 0, 0, 0, 0, 0, 0, 0, 0, 0, 0, 0, 0, 0, 0, 0, 0, 0, 0, 0, 0, 0, 0, 0, 0], \"yaxis\": \"y\"}, {\"line\": {\"color\": \"rgb(255, 0, 0)\", \"width\": 2}, \"mode\": \"lines\", \"name\": \"brake\", \"type\": \"scatter\", \"x\": [0.0, 0.1, 0.2, 0.3, 0.4, 0.5, 0.6, 0.7, 0.8, 0.9, 1.0, 1.1, 1.2, 1.3, 1.4, 1.5, 1.6, 1.7, 1.8, 1.9, 2.0, 2.1, 2.2, 2.3, 2.4, 2.5, 2.6, 2.7, 2.8, 2.9, 3.0, 3.1, 3.2, 3.3, 3.4, 3.5, 3.6, 3.7, 3.8, 3.9, 4.0, 4.1, 4.2, 4.3, 4.4, 4.5, 4.6, 4.7, 4.8, 4.9, 5.0, 5.1, 5.2, 5.3, 5.4, 5.5, 5.6, 5.7, 5.8, 5.9, 6.0, 6.1, 6.2, 6.3, 6.4, 6.5, 6.6, 6.7, 6.8, 6.9, 7.0, 7.1, 7.2, 7.3, 7.4, 7.5, 7.6, 7.7, 7.8, 7.9, 8.0, 8.1, 8.2, 8.3, 8.4, 8.5, 8.6, 8.7, 8.8, 8.9, 9.0, 9.1, 9.2, 9.3, 9.4, 9.5, 9.6, 9.7, 9.8, 9.9, 10.0, 10.1, 10.2, 10.3, 10.4, 10.5, 10.6, 10.7, 10.8, 10.9], \"xaxis\": \"x\", \"y\": [0, 0, 0, 0, 0, 0, 0, 0, 0, 0, 0, 0, 0, 0, 0, 0, 0, 0, 0, 0, 0, 0, 0, 0, 0, 0, 0, 0, 0, 0, 0, 0, 0, 0, 0, 0, 0, 0, 0, 0, 0, 0, 0, 0, 0, 0, 0, 0, 0, 0, 0, 0, 0, 0, 0, 0, 0, 0, 0, 0, 0, 0, 0, 0, 0, 0, 0, 0, 0, 0, 0, 0, 0, 0, 0, 0, 0, 0, 0, 0, 0, 0, 0, 0, 0, 0, 0, 0, 0, 0, 0, 0, 0, 0, 0, 0, 0, 0, 0, 0, 0, 0, 0, 0, 0, 0, 0, 0, 0, 0], \"yaxis\": \"y\"}, {\"line\": {\"color\": \"rgb(0, 0, 0)\", \"width\": 2}, \"mode\": \"lines\", \"name\": \"steer\", \"type\": \"scatter\", \"x\": [0.0, 0.1, 0.2, 0.3, 0.4, 0.5, 0.6, 0.7, 0.8, 0.9, 1.0, 1.1, 1.2, 1.3, 1.4, 1.5, 1.6, 1.7, 1.8, 1.9, 2.0, 2.1, 2.2, 2.3, 2.4, 2.5, 2.6, 2.7, 2.8, 2.9, 3.0, 3.1, 3.2, 3.3, 3.4, 3.5, 3.6, 3.7, 3.8, 3.9, 4.0, 4.1, 4.2, 4.3, 4.4, 4.5, 4.6, 4.7, 4.8, 4.9, 5.0, 5.1, 5.2, 5.3, 5.4, 5.5, 5.6, 5.7, 5.8, 5.9, 6.0, 6.1, 6.2, 6.3, 6.4, 6.5, 6.6, 6.7, 6.8, 6.9, 7.0, 7.1, 7.2, 7.3, 7.4, 7.5, 7.6, 7.7, 7.8, 7.9, 8.0, 8.1, 8.2, 8.3, 8.4, 8.5, 8.6, 8.7, 8.8, 8.9, 9.0, 9.1, 9.2, 9.3, 9.4, 9.5, 9.6, 9.7, 9.8, 9.9, 10.0, 10.1, 10.2, 10.3, 10.4, 10.5, 10.6, 10.7, 10.8, 10.9], \"xaxis\": \"x\", \"y\": [0.0, 0.0, 0.0, 0.0, 0.0, 0.0, 0.0, 0.0, 0.0, 0.0, 0.0, -32.400051, -68.40006, -104.400069, -140.400077, -176.400086, -212.400094, -248.400103, -284.400112, -320.40012, -356.400086, -360.0, -360.0, -360.0, -360.0, -360.0, -360.0, -360.0, -360.0, -360.0, -360.0, -360.0, -360.0, -360.0, -360.0, -360.0, -360.0, -360.0, -360.0, -360.0, -360.0, -360.0, -360.0, -360.0, -360.0, -360.0, -360.0, -360.0, -360.0, -360.0, -360.0, -360.0, -360.0, -360.0, -360.0, -360.0, -360.0, -360.0, -360.0, -360.0, -360.0, -360.0, -360.0, -360.0, -360.0, -360.0, -360.0, -360.0, -360.0, -360.0, -360.0, -360.0, -360.0, -360.0, -360.0, -360.0, -360.0, -360.0, -360.0, -360.0, -360.0, -360.0, -360.0, -360.0, -360.0, -360.0, -360.0, -360.0, -360.0, -360.0, -360.0, -360.0, -360.0, -360.0, -360.0, -360.0, -360.0, -360.0, -360.0, -360.0, -360.0, -360.0, -360.0, -360.0, -360.0, -360.0, -360.0, -360.0, -360.0, -360.0], \"yaxis\": \"y2\"}],\n",
       "                        {\"autosize\": false, \"font\": {\"color\": \"black\", \"family\": \"Arial\", \"size\": 16}, \"height\": 450, \"legend\": {\"orientation\": \"h\", \"x\": 0.01, \"xanchor\": \"left\", \"y\": 1.15, \"yanchor\": \"top\"}, \"template\": {\"data\": {\"bar\": [{\"error_x\": {\"color\": \"#2a3f5f\"}, \"error_y\": {\"color\": \"#2a3f5f\"}, \"marker\": {\"line\": {\"color\": \"white\", \"width\": 0.5}}, \"type\": \"bar\"}], \"barpolar\": [{\"marker\": {\"line\": {\"color\": \"white\", \"width\": 0.5}}, \"type\": \"barpolar\"}], \"carpet\": [{\"aaxis\": {\"endlinecolor\": \"#2a3f5f\", \"gridcolor\": \"#C8D4E3\", \"linecolor\": \"#C8D4E3\", \"minorgridcolor\": \"#C8D4E3\", \"startlinecolor\": \"#2a3f5f\"}, \"baxis\": {\"endlinecolor\": \"#2a3f5f\", \"gridcolor\": \"#C8D4E3\", \"linecolor\": \"#C8D4E3\", \"minorgridcolor\": \"#C8D4E3\", \"startlinecolor\": \"#2a3f5f\"}, \"type\": \"carpet\"}], \"choropleth\": [{\"colorbar\": {\"outlinewidth\": 0, \"ticks\": \"\"}, \"type\": \"choropleth\"}], \"contour\": [{\"colorbar\": {\"outlinewidth\": 0, \"ticks\": \"\"}, \"colorscale\": [[0.0, \"#0d0887\"], [0.1111111111111111, \"#46039f\"], [0.2222222222222222, \"#7201a8\"], [0.3333333333333333, \"#9c179e\"], [0.4444444444444444, \"#bd3786\"], [0.5555555555555556, \"#d8576b\"], [0.6666666666666666, \"#ed7953\"], [0.7777777777777778, \"#fb9f3a\"], [0.8888888888888888, \"#fdca26\"], [1.0, \"#f0f921\"]], \"type\": \"contour\"}], \"contourcarpet\": [{\"colorbar\": {\"outlinewidth\": 0, \"ticks\": \"\"}, \"type\": \"contourcarpet\"}], \"heatmap\": [{\"colorbar\": {\"outlinewidth\": 0, \"ticks\": \"\"}, \"colorscale\": [[0.0, \"#0d0887\"], [0.1111111111111111, \"#46039f\"], [0.2222222222222222, \"#7201a8\"], [0.3333333333333333, \"#9c179e\"], [0.4444444444444444, \"#bd3786\"], [0.5555555555555556, \"#d8576b\"], [0.6666666666666666, \"#ed7953\"], [0.7777777777777778, \"#fb9f3a\"], [0.8888888888888888, \"#fdca26\"], [1.0, \"#f0f921\"]], \"type\": \"heatmap\"}], \"heatmapgl\": [{\"colorbar\": {\"outlinewidth\": 0, \"ticks\": \"\"}, \"colorscale\": [[0.0, \"#0d0887\"], [0.1111111111111111, \"#46039f\"], [0.2222222222222222, \"#7201a8\"], [0.3333333333333333, \"#9c179e\"], [0.4444444444444444, \"#bd3786\"], [0.5555555555555556, \"#d8576b\"], [0.6666666666666666, \"#ed7953\"], [0.7777777777777778, \"#fb9f3a\"], [0.8888888888888888, \"#fdca26\"], [1.0, \"#f0f921\"]], \"type\": \"heatmapgl\"}], \"histogram\": [{\"marker\": {\"colorbar\": {\"outlinewidth\": 0, \"ticks\": \"\"}}, \"type\": \"histogram\"}], \"histogram2d\": [{\"colorbar\": {\"outlinewidth\": 0, \"ticks\": \"\"}, \"colorscale\": [[0.0, \"#0d0887\"], [0.1111111111111111, \"#46039f\"], [0.2222222222222222, \"#7201a8\"], [0.3333333333333333, \"#9c179e\"], [0.4444444444444444, \"#bd3786\"], [0.5555555555555556, \"#d8576b\"], [0.6666666666666666, \"#ed7953\"], [0.7777777777777778, \"#fb9f3a\"], [0.8888888888888888, \"#fdca26\"], [1.0, \"#f0f921\"]], \"type\": \"histogram2d\"}], \"histogram2dcontour\": [{\"colorbar\": {\"outlinewidth\": 0, \"ticks\": \"\"}, \"colorscale\": [[0.0, \"#0d0887\"], [0.1111111111111111, \"#46039f\"], [0.2222222222222222, \"#7201a8\"], [0.3333333333333333, \"#9c179e\"], [0.4444444444444444, \"#bd3786\"], [0.5555555555555556, \"#d8576b\"], [0.6666666666666666, \"#ed7953\"], [0.7777777777777778, \"#fb9f3a\"], [0.8888888888888888, \"#fdca26\"], [1.0, \"#f0f921\"]], \"type\": \"histogram2dcontour\"}], \"mesh3d\": [{\"colorbar\": {\"outlinewidth\": 0, \"ticks\": \"\"}, \"type\": \"mesh3d\"}], \"parcoords\": [{\"line\": {\"colorbar\": {\"outlinewidth\": 0, \"ticks\": \"\"}}, \"type\": \"parcoords\"}], \"pie\": [{\"automargin\": true, \"type\": \"pie\"}], \"scatter\": [{\"marker\": {\"colorbar\": {\"outlinewidth\": 0, \"ticks\": \"\"}}, \"type\": \"scatter\"}], \"scatter3d\": [{\"line\": {\"colorbar\": {\"outlinewidth\": 0, \"ticks\": \"\"}}, \"marker\": {\"colorbar\": {\"outlinewidth\": 0, \"ticks\": \"\"}}, \"type\": \"scatter3d\"}], \"scattercarpet\": [{\"marker\": {\"colorbar\": {\"outlinewidth\": 0, \"ticks\": \"\"}}, \"type\": \"scattercarpet\"}], \"scattergeo\": [{\"marker\": {\"colorbar\": {\"outlinewidth\": 0, \"ticks\": \"\"}}, \"type\": \"scattergeo\"}], \"scattergl\": [{\"marker\": {\"colorbar\": {\"outlinewidth\": 0, \"ticks\": \"\"}}, \"type\": \"scattergl\"}], \"scattermapbox\": [{\"marker\": {\"colorbar\": {\"outlinewidth\": 0, \"ticks\": \"\"}}, \"type\": \"scattermapbox\"}], \"scatterpolar\": [{\"marker\": {\"colorbar\": {\"outlinewidth\": 0, \"ticks\": \"\"}}, \"type\": \"scatterpolar\"}], \"scatterpolargl\": [{\"marker\": {\"colorbar\": {\"outlinewidth\": 0, \"ticks\": \"\"}}, \"type\": \"scatterpolargl\"}], \"scatterternary\": [{\"marker\": {\"colorbar\": {\"outlinewidth\": 0, \"ticks\": \"\"}}, \"type\": \"scatterternary\"}], \"surface\": [{\"colorbar\": {\"outlinewidth\": 0, \"ticks\": \"\"}, \"colorscale\": [[0.0, \"#0d0887\"], [0.1111111111111111, \"#46039f\"], [0.2222222222222222, \"#7201a8\"], [0.3333333333333333, \"#9c179e\"], [0.4444444444444444, \"#bd3786\"], [0.5555555555555556, \"#d8576b\"], [0.6666666666666666, \"#ed7953\"], [0.7777777777777778, \"#fb9f3a\"], [0.8888888888888888, \"#fdca26\"], [1.0, \"#f0f921\"]], \"type\": \"surface\"}], \"table\": [{\"cells\": {\"fill\": {\"color\": \"#EBF0F8\"}, \"line\": {\"color\": \"white\"}}, \"header\": {\"fill\": {\"color\": \"#C8D4E3\"}, \"line\": {\"color\": \"white\"}}, \"type\": \"table\"}]}, \"layout\": {\"annotationdefaults\": {\"arrowcolor\": \"#2a3f5f\", \"arrowhead\": 0, \"arrowwidth\": 1}, \"coloraxis\": {\"colorbar\": {\"outlinewidth\": 0, \"ticks\": \"\"}}, \"colorscale\": {\"diverging\": [[0, \"#8e0152\"], [0.1, \"#c51b7d\"], [0.2, \"#de77ae\"], [0.3, \"#f1b6da\"], [0.4, \"#fde0ef\"], [0.5, \"#f7f7f7\"], [0.6, \"#e6f5d0\"], [0.7, \"#b8e186\"], [0.8, \"#7fbc41\"], [0.9, \"#4d9221\"], [1, \"#276419\"]], \"sequential\": [[0.0, \"#0d0887\"], [0.1111111111111111, \"#46039f\"], [0.2222222222222222, \"#7201a8\"], [0.3333333333333333, \"#9c179e\"], [0.4444444444444444, \"#bd3786\"], [0.5555555555555556, \"#d8576b\"], [0.6666666666666666, \"#ed7953\"], [0.7777777777777778, \"#fb9f3a\"], [0.8888888888888888, \"#fdca26\"], [1.0, \"#f0f921\"]], \"sequentialminus\": [[0.0, \"#0d0887\"], [0.1111111111111111, \"#46039f\"], [0.2222222222222222, \"#7201a8\"], [0.3333333333333333, \"#9c179e\"], [0.4444444444444444, \"#bd3786\"], [0.5555555555555556, \"#d8576b\"], [0.6666666666666666, \"#ed7953\"], [0.7777777777777778, \"#fb9f3a\"], [0.8888888888888888, \"#fdca26\"], [1.0, \"#f0f921\"]]}, \"colorway\": [\"#636efa\", \"#EF553B\", \"#00cc96\", \"#ab63fa\", \"#FFA15A\", \"#19d3f3\", \"#FF6692\", \"#B6E880\", \"#FF97FF\", \"#FECB52\"], \"font\": {\"color\": \"#2a3f5f\"}, \"geo\": {\"bgcolor\": \"white\", \"lakecolor\": \"white\", \"landcolor\": \"white\", \"showlakes\": true, \"showland\": true, \"subunitcolor\": \"#C8D4E3\"}, \"hoverlabel\": {\"align\": \"left\"}, \"hovermode\": \"closest\", \"mapbox\": {\"style\": \"light\"}, \"paper_bgcolor\": \"white\", \"plot_bgcolor\": \"white\", \"polar\": {\"angularaxis\": {\"gridcolor\": \"#EBF0F8\", \"linecolor\": \"#EBF0F8\", \"ticks\": \"\"}, \"bgcolor\": \"white\", \"radialaxis\": {\"gridcolor\": \"#EBF0F8\", \"linecolor\": \"#EBF0F8\", \"ticks\": \"\"}}, \"scene\": {\"xaxis\": {\"backgroundcolor\": \"white\", \"gridcolor\": \"#DFE8F3\", \"gridwidth\": 2, \"linecolor\": \"#EBF0F8\", \"showbackground\": true, \"ticks\": \"\", \"zerolinecolor\": \"#EBF0F8\"}, \"yaxis\": {\"backgroundcolor\": \"white\", \"gridcolor\": \"#DFE8F3\", \"gridwidth\": 2, \"linecolor\": \"#EBF0F8\", \"showbackground\": true, \"ticks\": \"\", \"zerolinecolor\": \"#EBF0F8\"}, \"zaxis\": {\"backgroundcolor\": \"white\", \"gridcolor\": \"#DFE8F3\", \"gridwidth\": 2, \"linecolor\": \"#EBF0F8\", \"showbackground\": true, \"ticks\": \"\", \"zerolinecolor\": \"#EBF0F8\"}}, \"shapedefaults\": {\"line\": {\"color\": \"#2a3f5f\"}}, \"ternary\": {\"aaxis\": {\"gridcolor\": \"#DFE8F3\", \"linecolor\": \"#A2B1C6\", \"ticks\": \"\"}, \"baxis\": {\"gridcolor\": \"#DFE8F3\", \"linecolor\": \"#A2B1C6\", \"ticks\": \"\"}, \"bgcolor\": \"white\", \"caxis\": {\"gridcolor\": \"#DFE8F3\", \"linecolor\": \"#A2B1C6\", \"ticks\": \"\"}}, \"title\": {\"x\": 0.05}, \"xaxis\": {\"automargin\": true, \"gridcolor\": \"#EBF0F8\", \"linecolor\": \"#EBF0F8\", \"ticks\": \"\", \"title\": {\"standoff\": 15}, \"zerolinecolor\": \"#EBF0F8\", \"zerolinewidth\": 2}, \"yaxis\": {\"automargin\": true, \"gridcolor\": \"#EBF0F8\", \"linecolor\": \"#EBF0F8\", \"ticks\": \"\", \"title\": {\"standoff\": 15}, \"zerolinecolor\": \"#EBF0F8\", \"zerolinewidth\": 2}}}, \"title\": {\"text\": \"Driver Inputs for Veh1\"}, \"width\": 800, \"xaxis\": {\"anchor\": \"y\", \"domain\": [0.0, 0.94], \"linecolor\": \"black\", \"linewidth\": 1, \"showgrid\": false, \"showline\": true, \"tickcolor\": \"black\", \"ticklen\": 10, \"ticks\": \"outside\", \"tickwidth\": 1, \"title\": {\"text\": \"Time (s)\"}, \"zeroline\": false}, \"yaxis\": {\"anchor\": \"x\", \"autorange\": \"reversed\", \"domain\": [0.0, 1.0], \"linecolor\": \"black\", \"linewidth\": 1, \"showgrid\": false, \"showline\": true, \"tickcolor\": \"black\", \"ticklen\": 10, \"ticks\": \"outside\", \"tickwidth\": 1, \"title\": {\"text\": \"Brake | Throttle (%)\"}, \"zeroline\": false}, \"yaxis2\": {\"anchor\": \"x\", \"autorange\": \"reversed\", \"linecolor\": \"black\", \"linewidth\": 1, \"overlaying\": \"y\", \"showgrid\": false, \"showline\": true, \"side\": \"right\", \"tickcolor\": \"black\", \"ticklen\": 10, \"ticks\": \"outside\", \"tickwidth\": 1, \"title\": {\"text\": \"Steer Angle (deg)\"}, \"zeroline\": false}},\n",
       "                        {\"responsive\": true}\n",
       "                    ).then(function(){\n",
       "                            \n",
       "var gd = document.getElementById('b9257fa7-9a01-4b9b-aaeb-ebdb40af7a5a');\n",
       "var x = new MutationObserver(function (mutations, observer) {{\n",
       "        var display = window.getComputedStyle(gd).display;\n",
       "        if (!display || display === 'none') {{\n",
       "            console.log([gd, 'removed!']);\n",
       "            Plotly.purge(gd);\n",
       "            observer.disconnect();\n",
       "        }}\n",
       "}});\n",
       "\n",
       "// Listen for the removal of the full notebook cells\n",
       "var notebookContainer = gd.closest('#notebook-container');\n",
       "if (notebookContainer) {{\n",
       "    x.observe(notebookContainer, {childList: true});\n",
       "}}\n",
       "\n",
       "// Listen for the clearing of the current output cell\n",
       "var outputEl = gd.closest('.output');\n",
       "if (outputEl) {{\n",
       "    x.observe(outputEl, {childList: true});\n",
       "}}\n",
       "\n",
       "                        })\n",
       "                };\n",
       "                });\n",
       "            </script>\n",
       "        </div>"
      ]
     },
     "metadata": {},
     "output_type": "display_data"
    }
   ],
   "source": [
    "run.plot_inputs()"
   ]
  },
  {
   "cell_type": "markdown",
   "metadata": {},
   "source": [
    "### Plot Motion"
   ]
  },
  {
   "cell_type": "code",
   "execution_count": 167,
   "metadata": {},
   "outputs": [
    {
     "data": {
      "application/vnd.plotly.v1+json": {
       "config": {
        "plotlyServerURL": "https://plot.ly"
       },
       "data": [
        {
         "line": {
          "color": "rgb(0, 255, 0)",
          "width": 2
         },
         "mode": "lines",
         "name": "X",
         "type": "scatter",
         "x": [
          0,
          0.1,
          0.2,
          0.3,
          0.4,
          0.5,
          0.6,
          0.7,
          0.8,
          0.9,
          1,
          1.1,
          1.2,
          1.3,
          1.4,
          1.5,
          1.6,
          1.7,
          1.8,
          1.9,
          2,
          2.1,
          2.2,
          2.3,
          2.4,
          2.5,
          2.6,
          2.7,
          2.8,
          2.9,
          3,
          3.1,
          3.2,
          3.3,
          3.4,
          3.5,
          3.6,
          3.7,
          3.8,
          3.9,
          4,
          4.1,
          4.2,
          4.3,
          4.4,
          4.5,
          4.6,
          4.7,
          4.8,
          4.9,
          5,
          5.1,
          5.2,
          5.3,
          5.4,
          5.5,
          5.6,
          5.7,
          5.8,
          5.9,
          6,
          6.1,
          6.2,
          6.3,
          6.4,
          6.5,
          6.6,
          6.7,
          6.8,
          6.9,
          7,
          7.1,
          7.2,
          7.3,
          7.4,
          7.5,
          7.6,
          7.7,
          7.8,
          7.9,
          8,
          8.1,
          8.2,
          8.3,
          8.4,
          8.5,
          8.6,
          8.7,
          8.8,
          8.9,
          9,
          9.1,
          9.2,
          9.3,
          9.4,
          9.5,
          9.6,
          9.7,
          9.8,
          9.9,
          10,
          10.1,
          10.2,
          10.3,
          10.4,
          10.5,
          10.6,
          10.7,
          10.8,
          10.9
         ],
         "xaxis": "x",
         "y": [
          15,
          15,
          15,
          15,
          15,
          15,
          15,
          15,
          15,
          15,
          15,
          14.997658732256314,
          14.985427757064166,
          14.954617917738753,
          14.898725776492071,
          14.810080278918331,
          14.676636001066987,
          14.480846939473853,
          14.200347590374996,
          13.809662438023972,
          13.282421077170609,
          12.653607936940494,
          11.972900937620832,
          11.226649353300925,
          10.389099914813338,
          9.450067596995714,
          8.418983278545426,
          7.318380551193123,
          6.175860687997754,
          5.018408995468512,
          3.869458476530358,
          2.7478395774240725,
          1.6677182121548504,
          0.6389629012795872,
          -0.33230890688549025,
          -1.2430881000121128,
          -2.092770435844692,
          -2.8824395206620275,
          -3.614200673496558,
          -4.290627191627673,
          -4.914356583692631,
          -5.487841938276451,
          -6.013236322578252,
          -6.492373371995159,
          -6.9268053042336355,
          -7.317866324668992,
          -7.6667396256881934,
          -7.974515985550653,
          -8.24223933313227,
          -8.470939159194781,
          -8.661651828338593,
          -8.815433476891341,
          -8.933366990162709,
          -9.01656503803108,
          -9.066170594173563,
          -9.083355897976057,
          -9.069320473516889,
          -9.025288586790651,
          -8.95250637464667,
          -8.852238789886508,
          -8.725766454809824,
          -8.574382484941337,
          -8.399389326152676,
          -8.20209563647948,
          -7.983813235761291,
          -7.745854140336414,
          -7.489527695630716,
          -7.216137816138201,
          -6.926980339713554,
          -6.62334050108656,
          -6.306490527926993,
          -5.977687361535057,
          -5.638170503230679,
          -5.289159986707038,
          -4.931854475956424,
          -4.567429487837597,
          -4.197035737909594,
          -3.8217976077893714,
          -3.442811731985638,
          -3.0611457019077926,
          -2.677836884537895,
          -2.2938913530783114,
          -1.9102829267423114,
          -1.5279523167350817,
          -1.1478063753747174,
          -0.7707174452237546,
          -0.3975228050392806,
          -0.029024209301534966,
          0.3340124819545111,
          0.690857586304276,
          1.0408177984091975,
          1.3832363091218298,
          1.7174928475364388,
          2.0430036492909234,
          2.359221354409093,
          2.6656348379495576,
          2.9617689766993016,
          3.247184355116871,
          3.5214769136924797,
          3.7842775428506434,
          4.03525162547549,
          4.274098531090106,
          4.50055106466938,
          4.714374873011162,
          4.915367811533352,
          5.103359274305165,
          5.278209490059318,
          5.439808786868712,
          5.588076828106302,
          5.722961822240685
         ],
         "yaxis": "y"
        },
        {
         "line": {
          "color": "rgb(0, 0, 255)",
          "width": 2
         },
         "mode": "lines",
         "name": "Y",
         "type": "scatter",
         "x": [
          0,
          0.1,
          0.2,
          0.3,
          0.4,
          0.5,
          0.6,
          0.7,
          0.8,
          0.9,
          1,
          1.1,
          1.2,
          1.3,
          1.4,
          1.5,
          1.6,
          1.7,
          1.8,
          1.9,
          2,
          2.1,
          2.2,
          2.3,
          2.4,
          2.5,
          2.6,
          2.7,
          2.8,
          2.9,
          3,
          3.1,
          3.2,
          3.3,
          3.4,
          3.5,
          3.6,
          3.7,
          3.8,
          3.9,
          4,
          4.1,
          4.2,
          4.3,
          4.4,
          4.5,
          4.6,
          4.7,
          4.8,
          4.9,
          5,
          5.1,
          5.2,
          5.3,
          5.4,
          5.5,
          5.6,
          5.7,
          5.8,
          5.9,
          6,
          6.1,
          6.2,
          6.3,
          6.4,
          6.5,
          6.6,
          6.7,
          6.8,
          6.9,
          7,
          7.1,
          7.2,
          7.3,
          7.4,
          7.5,
          7.6,
          7.7,
          7.8,
          7.9,
          8,
          8.1,
          8.2,
          8.3,
          8.4,
          8.5,
          8.6,
          8.7,
          8.8,
          8.9,
          9,
          9.1,
          9.2,
          9.3,
          9.4,
          9.5,
          9.6,
          9.7,
          9.8,
          9.9,
          10,
          10.1,
          10.2,
          10.3,
          10.4,
          10.5,
          10.6,
          10.7,
          10.8,
          10.9
         ],
         "xaxis": "x",
         "y": [
          0,
          0,
          0,
          0,
          0,
          0,
          0,
          0,
          0,
          0,
          0,
          -0.06443647665063838,
          -0.252525632606964,
          -0.5375120334529975,
          -0.8871147540532909,
          -1.2922749937732962,
          -1.7616513460734937,
          -2.308098089610743,
          -2.9389510243102213,
          -3.651551205691516,
          -4.432023998042429,
          -5.220357408912524,
          -5.963851251507424,
          -6.668169202990539,
          -7.340814802177303,
          -7.972273061166805,
          -8.54245923232244,
          -9.031150424883542,
          -9.424048123258057,
          -9.714310969260913,
          -9.901623936454193,
          -9.990462713197767,
          -9.988377245857938,
          -9.90456524470161,
          -9.748768837055792,
          -9.530469046116064,
          -9.25835402122005,
          -8.94003714879619,
          -8.58198713508542,
          -8.189614019882239,
          -7.767445778661877,
          -7.319335029355874,
          -6.848651349270104,
          -6.358434736388785,
          -5.851503314302099,
          -5.33052001753175,
          -4.798028364307739,
          -4.256468099273081,
          -3.7081795828970856,
          -3.155403069494313,
          -2.600276511974215,
          -2.0448336917433956,
          -1.4910033267169707,
          -0.9406092067787967,
          -0.3953711553011439,
          0.14309343904801997,
          0.6732677403242048,
          1.1937333898629976,
          1.7031683340706223,
          2.2003446073016737,
          2.684126093222526,
          3.1534662725573623,
          3.6074059580631435,
          4.045071015205286,
          4.465670066809286,
          4.868492180578463,
          5.252904539172049,
          5.6183500932987736,
          5.964345198931971,
          6.290477240284568,
          6.59640224060573,
          6.881842463190698,
          7.146584005247117,
          7.390474387448319,
          7.6134201421368,
          7.81538440322741,
          7.996384500905908,
          8.15648956423048,
          8.295818134726817,
          8.414535794026376,
          8.512852808536419,
          8.591021794053063,
          8.649335403137687,
          8.688124037975193,
          8.707753591322032,
          8.708623218034399,
          8.691163139544216,
          8.655832483523774,
          8.603117160850516,
          8.533527781852188,
          8.447597613680639,
          8.345880580530334,
          8.228949308286078,
          8.097393215053941,
          7.951816648900387,
          7.792837073997638,
          7.621083306248591,
          7.437193799342558,
          7.241814982073794,
          7.035599647638671,
          6.8192053955143175,
          6.593293126412016,
          6.358525590692509,
          6.115565990527863,
          5.865076635995654,
          5.6077176551960495,
          5.344145758390974,
          5.075013056076765,
          4.80096593081793,
          4.522643962589348
         ],
         "yaxis": "y"
        },
        {
         "line": {
          "color": "rgb(0, 0, 0)",
          "width": 2
         },
         "mode": "lines",
         "name": "Resultant",
         "type": "scatter",
         "x": [
          0,
          0.1,
          0.2,
          0.3,
          0.4,
          0.5,
          0.6,
          0.7,
          0.8,
          0.9,
          1,
          1.1,
          1.2,
          1.3,
          1.4,
          1.5,
          1.6,
          1.7,
          1.8,
          1.9,
          2,
          2.1,
          2.2,
          2.3,
          2.4,
          2.5,
          2.6,
          2.7,
          2.8,
          2.9,
          3,
          3.1,
          3.2,
          3.3,
          3.4,
          3.5,
          3.6,
          3.7,
          3.8,
          3.9,
          4,
          4.1,
          4.2,
          4.3,
          4.4,
          4.5,
          4.6,
          4.7,
          4.8,
          4.9,
          5,
          5.1,
          5.2,
          5.3,
          5.4,
          5.5,
          5.6,
          5.7,
          5.8,
          5.9,
          6,
          6.1,
          6.2,
          6.3,
          6.4,
          6.5,
          6.6,
          6.7,
          6.8,
          6.9,
          7,
          7.1,
          7.2,
          7.3,
          7.4,
          7.5,
          7.6,
          7.7,
          7.8,
          7.9,
          8,
          8.1,
          8.2,
          8.3,
          8.4,
          8.5,
          8.6,
          8.7,
          8.8,
          8.9,
          9,
          9.1,
          9.2,
          9.3,
          9.4,
          9.5,
          9.6,
          9.7,
          9.8,
          9.9,
          10,
          10.1,
          10.2,
          10.3,
          10.4,
          10.5,
          10.6,
          10.7,
          10.8,
          10.9
         ],
         "xaxis": "x",
         "y": [
          15,
          15,
          15,
          15,
          15,
          15,
          15,
          15,
          15,
          15,
          15,
          14.997797155207401,
          14.987555312902526,
          14.964274665070128,
          14.92511314362368,
          14.866353033866021,
          14.781984297547407,
          14.663636822962236,
          14.501286315729478,
          14.284278170770735,
          14.00234074683551,
          13.68816734623709,
          13.376018787822797,
          13.057646657100335,
          12.72088672223127,
          12.363693434795051,
          11.99386881620432,
          11.624128865809942,
          11.267383825318094,
          10.933995905125544,
          10.630845003129116,
          10.361465512515737,
          10.126646238549345,
          9.92515421924328,
          9.754430944342452,
          9.611197025520191,
          9.491933800832529,
          9.393227443862425,
          9.311978828104937,
          9.245499418213518,
          9.191524060575336,
          9.148173282763166,
          9.113892493058804,
          9.087387099618201,
          9.067564323457963,
          9.053486135353118,
          9.044333732940151,
          9.039381941478759,
          9.037981248246064,
          9.03954527450102,
          9.043541913104956,
          9.049486848014393,
          9.056938594315952,
          9.065494512982811,
          9.07478746820561,
          9.0844829297872,
          9.09427640340417,
          9.103891117589631,
          9.113075922117085,
          9.121603366955444,
          9.12926793933678,
          9.135884441597627,
          9.141286495814304,
          9.145325163601875,
          9.147867671163244,
          9.148796230965056,
          9.148006952406293,
          9.145408834621346,
          9.140922835184693,
          9.134481009004931,
          9.126025712143331,
          9.115508865687673,
          9.102891275169357,
          9.08814200133957,
          9.071237778423942,
          9.05216247625829,
          9.030906602972847,
          9.007466845140497,
          8.981845642536964,
          8.954050794878238,
          8.924095098103672,
          8.891996007962563,
          8.85777532883817,
          8.82145892590667,
          8.78307645888003,
          8.742661135721779,
          8.700249484853773,
          8.655881144490776,
          8.609598667848697,
          8.561447343072157,
          8.511475026818102,
          8.459731990515204,
          8.406270778393992,
          8.351146076450682,
          8.29441459156879,
          8.236134940077319,
          8.176367545072775,
          8.115174541874941,
          8.052619691023386,
          7.98876829825331,
          7.923687140915785,
          7.8574444003288075,
          7.790109599562013,
          7.721753546169423,
          7.652448279391391,
          7.582267021348827,
          7.511284131750076,
          7.439575065623282,
          7.367216333574918,
          7.29428546405817
         ],
         "yaxis": "y"
        },
        {
         "line": {
          "color": "rgb(0, 255, 0)",
          "width": 2
         },
         "mode": "lines",
         "name": "AX",
         "showlegend": false,
         "type": "scatter",
         "x": [
          0,
          0.1,
          0.2,
          0.3,
          0.4,
          0.5,
          0.6,
          0.7,
          0.8,
          0.9,
          1,
          1.1,
          1.2,
          1.3,
          1.4,
          1.5,
          1.6,
          1.7,
          1.8,
          1.9,
          2,
          2.1,
          2.2,
          2.3,
          2.4,
          2.5,
          2.6,
          2.7,
          2.8,
          2.9,
          3,
          3.1,
          3.2,
          3.3,
          3.4,
          3.5,
          3.6,
          3.7,
          3.8,
          3.9,
          4,
          4.1,
          4.2,
          4.3,
          4.4,
          4.5,
          4.6,
          4.7,
          4.8,
          4.9,
          5,
          5.1,
          5.2,
          5.3,
          5.4,
          5.5,
          5.6,
          5.7,
          5.8,
          5.9,
          6,
          6.1,
          6.2,
          6.3,
          6.4,
          6.5,
          6.6,
          6.7,
          6.8,
          6.9,
          7,
          7.1,
          7.2,
          7.3,
          7.4,
          7.5,
          7.6,
          7.7,
          7.8,
          7.9,
          8,
          8.1,
          8.2,
          8.3,
          8.4,
          8.5,
          8.6,
          8.7,
          8.8,
          8.9,
          9,
          9.1,
          9.2,
          9.3,
          9.4,
          9.5,
          9.6,
          9.7,
          9.8,
          9.9,
          10,
          10.1,
          10.2,
          10.3,
          10.4,
          10.5,
          10.6,
          10.7,
          10.8,
          10.9
         ],
         "xaxis": "x2",
         "y": [
          0,
          0,
          0,
          0,
          0,
          0,
          0,
          0,
          0,
          0,
          0,
          -0.0021328367463564805,
          -0.009009277778530582,
          -0.0190577203850737,
          -0.031858631666024886,
          -0.04889521425104278,
          -0.072669207485748,
          -0.10568976330108532,
          -0.14983817480004655,
          -0.20606629252832329,
          -0.2742374880448461,
          -0.2985956600180746,
          -0.3215115043869984,
          -0.3583051485164033,
          -0.40468158126408654,
          -0.4507535302722947,
          -0.4885386668342167,
          -0.5140830736165917,
          -0.5267241361677252,
          -0.5276855991626246,
          -0.5189797782355253,
          -0.5027871725422484,
          -0.4811765559045896,
          -0.4559939731646167,
          -0.4288105130971683,
          -0.400886703786697,
          -0.37315279403663765,
          -0.34621612312425726,
          -0.3204001067066873,
          -0.2958076456829785,
          -0.27239433410578656,
          -0.25003657583673006,
          -0.22858465498558325,
          -0.20789729300714604,
          -0.1878594039221752,
          -0.16838746989268438,
          -0.1494274396761552,
          -0.13094917754090935,
          -0.11294014059420222,
          -0.09539971896548963,
          -0.0783347844215618,
          -0.061756476747916865,
          -0.04567802381712507,
          -0.03011333075871577,
          -0.015076098450908772,
          -0.0005792863490946908,
          0.013365209325200739,
          0.026746745522482206,
          0.039556041486966995,
          0.05178523710942299,
          0.06342791797561921,
          0.0744791174821543,
          0.08493530251819542,
          0.09479434706751069,
          0.10405549682152448,
          0.11271932708332229,
          0.12078769568469355,
          0.12826369223784514,
          0.13515158474832734,
          0.14145676439394167,
          0.14718568910540128,
          0.1523458264548842,
          0.15694559625895632,
          0.16099431322534793,
          0.1645021299129147,
          0.16747998022636493,
          0.1699395236288539,
          0.17189309022420685,
          0.17335362683483765,
          0.17433464418023906,
          0.17485016524330613,
          0.17491467489695936,
          0.1745430708510042,
          0.17375061596843902,
          0.17255289199119167,
          0.17096575470726336,
          0.16900529058426617,
          0.16668777488820546,
          0.16402963130092807,
          0.16104739304482937,
          0.15775766551909942,
          0.15417709044791697,
          0.15032231153752046,
          0.14620994163592682,
          0.14185653138622578,
          0.13727853936178241,
          0.1324923036693277,
          0.12751401500377532,
          0.12235969113665243,
          0.11704515281825718,
          0.11158600107204314,
          0.10599759585825981,
          0.10029503608255697,
          0.09449314092405262,
          0.08860643245628362,
          0.08264911953348891,
          0.07663508291380543,
          0.07057786159019094,
          0.06449064029920999,
          0.05838623817723464
         ],
         "yaxis": "y2"
        },
        {
         "line": {
          "color": "rgb(0, 0, 255)",
          "width": 2
         },
         "mode": "lines",
         "name": "AY",
         "showlegend": false,
         "type": "scatter",
         "x": [
          0,
          0.1,
          0.2,
          0.3,
          0.4,
          0.5,
          0.6,
          0.7,
          0.8,
          0.9,
          1,
          1.1,
          1.2,
          1.3,
          1.4,
          1.5,
          1.6,
          1.7,
          1.8,
          1.9,
          2,
          2.1,
          2.2,
          2.3,
          2.4,
          2.5,
          2.6,
          2.7,
          2.8,
          2.9,
          3,
          3.1,
          3.2,
          3.3,
          3.4,
          3.5,
          3.6,
          3.7,
          3.8,
          3.9,
          4,
          4.1,
          4.2,
          4.3,
          4.4,
          4.5,
          4.6,
          4.7,
          4.8,
          4.9,
          5,
          5.1,
          5.2,
          5.3,
          5.4,
          5.5,
          5.6,
          5.7,
          5.8,
          5.9,
          6,
          6.1,
          6.2,
          6.3,
          6.4,
          6.5,
          6.6,
          6.7,
          6.8,
          6.9,
          7,
          7.1,
          7.2,
          7.3,
          7.4,
          7.5,
          7.6,
          7.7,
          7.8,
          7.9,
          8,
          8.1,
          8.2,
          8.3,
          8.4,
          8.5,
          8.6,
          8.7,
          8.8,
          8.9,
          9,
          9.1,
          9.2,
          9.3,
          9.4,
          9.5,
          9.6,
          9.7,
          9.8,
          9.9,
          10,
          10.1,
          10.2,
          10.3,
          10.4,
          10.5,
          10.6,
          10.7,
          10.8,
          10.9
         ],
         "xaxis": "x2",
         "y": [
          0,
          0,
          0,
          0,
          0,
          0,
          0,
          0,
          0,
          0,
          0,
          -0.05870002932247936,
          -0.11264451873122498,
          -0.14697101203203705,
          -0.17150838065295188,
          -0.1975825316390607,
          -0.2300076637821384,
          -0.267791743263686,
          -0.3068996068827015,
          -0.342261454003325,
          -0.36872986919997514,
          -0.3494222821794303,
          -0.3278821365278123,
          -0.3137340186906592,
          -0.2990294104765782,
          -0.2762133750589076,
          -0.24321206074782237,
          -0.2019734742792534,
          -0.15594656750642863,
          -0.10847567370289316,
          -0.062161785671871105,
          -0.018768132766946912,
          0.02066794170067866,
          0.055682709066993276,
          0.08624394758014345,
          0.11262173836865792,
          0.13526828868987492,
          0.15471047359453763,
          0.17146419324345885,
          0.18597796630626143,
          0.19860681279353193,
          0.2096109466379194,
          0.21917019191574266,
          0.2274049631244085,
          0.23439696782707034,
          0.24020587184632536,
          0.24488079463445758,
          0.24846715189869878,
          0.2510100644448922,
          0.2525556056870608,
          0.25315089624958653,
          0.2528437131590693,
          0.25168198961938204,
          0.24971337925622128,
          0.24698493935292706,
          0.24354292809681713,
          0.2394326883334572,
          0.23469858757279216,
          0.22938398983155384,
          0.22353124287638787,
          0.21718167138170927,
          0.21037557136675267,
          0.20315220412440504,
          0.19554978926607025,
          0.1876054970792956,
          0.17935544056159797,
          0.17083466749955434,
          0.162077152917243,
          0.15311579216290705,
          0.1439823948498962,
          0.13470767982155626,
          0.12532127127080053,
          0.11585169611298127,
          0.10632638268393597,
          0.09677166081230902,
          0.08721276329561917,
          0.07767382879265637,
          0.06817790613047937,
          0.05874696001229249,
          0.04940187810254287,
          0.04016247945736059,
          0.031047524261705758,
          0.02207472482906815,
          0.013260757815108349,
          0.004621277593094378,
          -0.003829069263760169,
          -0.012076628450026518,
          -0.020108721404321,
          -0.027913627853560247,
          -0.03548056748524611,
          -0.0427996808080239,
          -0.049862009260645906,
          -0.05665947462909562,
          -0.06318485783101577,
          -0.06943177712577457,
          -0.07539466580752667,
          -0.08106874943749975,
          -0.08645002267049537,
          -0.09153522572924255,
          -0.09632182057880861,
          -0.10080796685176599,
          -0.10499249757324777,
          -0.10887489473341619,
          -0.11245526475321789,
          -0.11573431388762523,
          -0.118713323608868,
          -0.12139412601044931,
          -0.12377907927102906,
          -0.1258710432155398,
          -0.12767335500918978
         ],
         "yaxis": "y2"
        },
        {
         "line": {
          "color": "rgb(0, 0, 0)",
          "width": 2
         },
         "mode": "lines",
         "name": "AR",
         "showlegend": false,
         "type": "scatter",
         "x": [
          0,
          0.1,
          0.2,
          0.3,
          0.4,
          0.5,
          0.6,
          0.7,
          0.8,
          0.9,
          1,
          1.1,
          1.2,
          1.3,
          1.4,
          1.5,
          1.6,
          1.7,
          1.8,
          1.9,
          2,
          2.1,
          2.2,
          2.3,
          2.4,
          2.5,
          2.6,
          2.7,
          2.8,
          2.9,
          3,
          3.1,
          3.2,
          3.3,
          3.4,
          3.5,
          3.6,
          3.7,
          3.8,
          3.9,
          4,
          4.1,
          4.2,
          4.3,
          4.4,
          4.5,
          4.6,
          4.7,
          4.8,
          4.9,
          5,
          5.1,
          5.2,
          5.3,
          5.4,
          5.5,
          5.6,
          5.7,
          5.8,
          5.9,
          6,
          6.1,
          6.2,
          6.3,
          6.4,
          6.5,
          6.6,
          6.7,
          6.8,
          6.9,
          7,
          7.1,
          7.2,
          7.3,
          7.4,
          7.5,
          7.6,
          7.7,
          7.8,
          7.9,
          8,
          8.1,
          8.2,
          8.3,
          8.4,
          8.5,
          8.6,
          8.7,
          8.8,
          8.9,
          9,
          9.1,
          9.2,
          9.3,
          9.4,
          9.5,
          9.6,
          9.7,
          9.8,
          9.9,
          10,
          10.1,
          10.2,
          10.3,
          10.4,
          10.5,
          10.6,
          10.7,
          10.8,
          10.9
         ],
         "xaxis": "x2",
         "y": [
          0,
          0,
          0,
          0,
          0,
          0,
          0,
          0,
          0,
          0,
          0,
          0.05873876433026614,
          0.11300422419662028,
          0.1482014678874566,
          0.17444224558812949,
          0.20354262154535546,
          0.2412143012242929,
          0.2878936328348429,
          0.3415242997682098,
          0.39950747153568816,
          0.4595301037901411,
          0.45962517279312604,
          0.45921274253578137,
          0.47624742932340614,
          0.5031756855655601,
          0.5286516562107503,
          0.5457308269516724,
          0.5523356686757739,
          0.5493247195772947,
          0.5387198375305244,
          0.5226892937638102,
          0.5031373407734576,
          0.48162022566161533,
          0.45938117903489756,
          0.4373973875514842,
          0.4164058179542421,
          0.3969137407831035,
          0.379210936750296,
          0.3633953741344086,
          0.3494137478633597,
          0.3371102777147857,
          0.32627448292289357,
          0.3166804659578194,
          0.30811410498922753,
          0.3003882390649135,
          0.29334825870680226,
          0.28687133580923413,
          0.28086226637142203,
          0.2752481204478372,
          0.26997303632520886,
          0.26499380129041034,
          0.26027640251160244,
          0.25579348263513,
          0.25152253272608643,
          0.2474446382762628,
          0.2435436170353181,
          0.2398054233391999,
          0.23621772881117117,
          0.23276961831210072,
          0.22945136156567444,
          0.2262542356794114,
          0.22317038326984204,
          0.220192696641967,
          0.2173147218159878,
          0.21453057813082002,
          0.2118348903206502,
          0.20922273071657732,
          0.20668956975194475,
          0.2042312333353027,
          0.20184386594473103,
          0.19952389851929708,
          0.19726802039649322,
          0.19507315468134995,
          0.1929364365420701,
          0.19085519401435752,
          0.1888269309666428,
          0.18684931193481202,
          0.18492014858085037,
          0.18303738756734383,
          0.18119909967080153,
          0.1794034699825351,
          0.17764878906733417,
          0.17593344496819743,
          0.17425591596052895,
          0.17261476397202036,
          0.17100862859531624,
          0.16943622162982816,
          0.16789632209699426,
          0.16638777168008909,
          0.16490947054554164,
          0.16346037350778558,
          0.16203948650404293,
          0.16064586334925804,
          0.15927860274470892,
          0.157936845516727,
          0.15661977206449088,
          0.15532659999808618,
          0.1540565819499842,
          0.15280900354481852,
          0.1515831815138651,
          0.1503784619419841,
          0.149194218635976,
          0.14802985160437693,
          0.14688478563966112,
          0.14575846899466705,
          0.14465037214582185,
          0.14355998663641162,
          0.14248682399375687,
          0.14143041471469414,
          0.14039030731425647
         ],
         "yaxis": "y2"
        }
       ],
       "layout": {
        "autosize": false,
        "font": {
         "color": "black",
         "family": "Arial",
         "size": 14
        },
        "height": 500,
        "legend": {
         "orientation": "h",
         "x": 0.01,
         "xanchor": "left",
         "y": 1.1,
         "yanchor": "top"
        },
        "template": {
         "data": {
          "bar": [
           {
            "error_x": {
             "color": "#2a3f5f"
            },
            "error_y": {
             "color": "#2a3f5f"
            },
            "marker": {
             "line": {
              "color": "white",
              "width": 0.5
             }
            },
            "type": "bar"
           }
          ],
          "barpolar": [
           {
            "marker": {
             "line": {
              "color": "white",
              "width": 0.5
             }
            },
            "type": "barpolar"
           }
          ],
          "carpet": [
           {
            "aaxis": {
             "endlinecolor": "#2a3f5f",
             "gridcolor": "#C8D4E3",
             "linecolor": "#C8D4E3",
             "minorgridcolor": "#C8D4E3",
             "startlinecolor": "#2a3f5f"
            },
            "baxis": {
             "endlinecolor": "#2a3f5f",
             "gridcolor": "#C8D4E3",
             "linecolor": "#C8D4E3",
             "minorgridcolor": "#C8D4E3",
             "startlinecolor": "#2a3f5f"
            },
            "type": "carpet"
           }
          ],
          "choropleth": [
           {
            "colorbar": {
             "outlinewidth": 0,
             "ticks": ""
            },
            "type": "choropleth"
           }
          ],
          "contour": [
           {
            "colorbar": {
             "outlinewidth": 0,
             "ticks": ""
            },
            "colorscale": [
             [
              0,
              "#0d0887"
             ],
             [
              0.1111111111111111,
              "#46039f"
             ],
             [
              0.2222222222222222,
              "#7201a8"
             ],
             [
              0.3333333333333333,
              "#9c179e"
             ],
             [
              0.4444444444444444,
              "#bd3786"
             ],
             [
              0.5555555555555556,
              "#d8576b"
             ],
             [
              0.6666666666666666,
              "#ed7953"
             ],
             [
              0.7777777777777778,
              "#fb9f3a"
             ],
             [
              0.8888888888888888,
              "#fdca26"
             ],
             [
              1,
              "#f0f921"
             ]
            ],
            "type": "contour"
           }
          ],
          "contourcarpet": [
           {
            "colorbar": {
             "outlinewidth": 0,
             "ticks": ""
            },
            "type": "contourcarpet"
           }
          ],
          "heatmap": [
           {
            "colorbar": {
             "outlinewidth": 0,
             "ticks": ""
            },
            "colorscale": [
             [
              0,
              "#0d0887"
             ],
             [
              0.1111111111111111,
              "#46039f"
             ],
             [
              0.2222222222222222,
              "#7201a8"
             ],
             [
              0.3333333333333333,
              "#9c179e"
             ],
             [
              0.4444444444444444,
              "#bd3786"
             ],
             [
              0.5555555555555556,
              "#d8576b"
             ],
             [
              0.6666666666666666,
              "#ed7953"
             ],
             [
              0.7777777777777778,
              "#fb9f3a"
             ],
             [
              0.8888888888888888,
              "#fdca26"
             ],
             [
              1,
              "#f0f921"
             ]
            ],
            "type": "heatmap"
           }
          ],
          "heatmapgl": [
           {
            "colorbar": {
             "outlinewidth": 0,
             "ticks": ""
            },
            "colorscale": [
             [
              0,
              "#0d0887"
             ],
             [
              0.1111111111111111,
              "#46039f"
             ],
             [
              0.2222222222222222,
              "#7201a8"
             ],
             [
              0.3333333333333333,
              "#9c179e"
             ],
             [
              0.4444444444444444,
              "#bd3786"
             ],
             [
              0.5555555555555556,
              "#d8576b"
             ],
             [
              0.6666666666666666,
              "#ed7953"
             ],
             [
              0.7777777777777778,
              "#fb9f3a"
             ],
             [
              0.8888888888888888,
              "#fdca26"
             ],
             [
              1,
              "#f0f921"
             ]
            ],
            "type": "heatmapgl"
           }
          ],
          "histogram": [
           {
            "marker": {
             "colorbar": {
              "outlinewidth": 0,
              "ticks": ""
             }
            },
            "type": "histogram"
           }
          ],
          "histogram2d": [
           {
            "colorbar": {
             "outlinewidth": 0,
             "ticks": ""
            },
            "colorscale": [
             [
              0,
              "#0d0887"
             ],
             [
              0.1111111111111111,
              "#46039f"
             ],
             [
              0.2222222222222222,
              "#7201a8"
             ],
             [
              0.3333333333333333,
              "#9c179e"
             ],
             [
              0.4444444444444444,
              "#bd3786"
             ],
             [
              0.5555555555555556,
              "#d8576b"
             ],
             [
              0.6666666666666666,
              "#ed7953"
             ],
             [
              0.7777777777777778,
              "#fb9f3a"
             ],
             [
              0.8888888888888888,
              "#fdca26"
             ],
             [
              1,
              "#f0f921"
             ]
            ],
            "type": "histogram2d"
           }
          ],
          "histogram2dcontour": [
           {
            "colorbar": {
             "outlinewidth": 0,
             "ticks": ""
            },
            "colorscale": [
             [
              0,
              "#0d0887"
             ],
             [
              0.1111111111111111,
              "#46039f"
             ],
             [
              0.2222222222222222,
              "#7201a8"
             ],
             [
              0.3333333333333333,
              "#9c179e"
             ],
             [
              0.4444444444444444,
              "#bd3786"
             ],
             [
              0.5555555555555556,
              "#d8576b"
             ],
             [
              0.6666666666666666,
              "#ed7953"
             ],
             [
              0.7777777777777778,
              "#fb9f3a"
             ],
             [
              0.8888888888888888,
              "#fdca26"
             ],
             [
              1,
              "#f0f921"
             ]
            ],
            "type": "histogram2dcontour"
           }
          ],
          "mesh3d": [
           {
            "colorbar": {
             "outlinewidth": 0,
             "ticks": ""
            },
            "type": "mesh3d"
           }
          ],
          "parcoords": [
           {
            "line": {
             "colorbar": {
              "outlinewidth": 0,
              "ticks": ""
             }
            },
            "type": "parcoords"
           }
          ],
          "pie": [
           {
            "automargin": true,
            "type": "pie"
           }
          ],
          "scatter": [
           {
            "marker": {
             "colorbar": {
              "outlinewidth": 0,
              "ticks": ""
             }
            },
            "type": "scatter"
           }
          ],
          "scatter3d": [
           {
            "line": {
             "colorbar": {
              "outlinewidth": 0,
              "ticks": ""
             }
            },
            "marker": {
             "colorbar": {
              "outlinewidth": 0,
              "ticks": ""
             }
            },
            "type": "scatter3d"
           }
          ],
          "scattercarpet": [
           {
            "marker": {
             "colorbar": {
              "outlinewidth": 0,
              "ticks": ""
             }
            },
            "type": "scattercarpet"
           }
          ],
          "scattergeo": [
           {
            "marker": {
             "colorbar": {
              "outlinewidth": 0,
              "ticks": ""
             }
            },
            "type": "scattergeo"
           }
          ],
          "scattergl": [
           {
            "marker": {
             "colorbar": {
              "outlinewidth": 0,
              "ticks": ""
             }
            },
            "type": "scattergl"
           }
          ],
          "scattermapbox": [
           {
            "marker": {
             "colorbar": {
              "outlinewidth": 0,
              "ticks": ""
             }
            },
            "type": "scattermapbox"
           }
          ],
          "scatterpolar": [
           {
            "marker": {
             "colorbar": {
              "outlinewidth": 0,
              "ticks": ""
             }
            },
            "type": "scatterpolar"
           }
          ],
          "scatterpolargl": [
           {
            "marker": {
             "colorbar": {
              "outlinewidth": 0,
              "ticks": ""
             }
            },
            "type": "scatterpolargl"
           }
          ],
          "scatterternary": [
           {
            "marker": {
             "colorbar": {
              "outlinewidth": 0,
              "ticks": ""
             }
            },
            "type": "scatterternary"
           }
          ],
          "surface": [
           {
            "colorbar": {
             "outlinewidth": 0,
             "ticks": ""
            },
            "colorscale": [
             [
              0,
              "#0d0887"
             ],
             [
              0.1111111111111111,
              "#46039f"
             ],
             [
              0.2222222222222222,
              "#7201a8"
             ],
             [
              0.3333333333333333,
              "#9c179e"
             ],
             [
              0.4444444444444444,
              "#bd3786"
             ],
             [
              0.5555555555555556,
              "#d8576b"
             ],
             [
              0.6666666666666666,
              "#ed7953"
             ],
             [
              0.7777777777777778,
              "#fb9f3a"
             ],
             [
              0.8888888888888888,
              "#fdca26"
             ],
             [
              1,
              "#f0f921"
             ]
            ],
            "type": "surface"
           }
          ],
          "table": [
           {
            "cells": {
             "fill": {
              "color": "#EBF0F8"
             },
             "line": {
              "color": "white"
             }
            },
            "header": {
             "fill": {
              "color": "#C8D4E3"
             },
             "line": {
              "color": "white"
             }
            },
            "type": "table"
           }
          ]
         },
         "layout": {
          "annotationdefaults": {
           "arrowcolor": "#2a3f5f",
           "arrowhead": 0,
           "arrowwidth": 1
          },
          "coloraxis": {
           "colorbar": {
            "outlinewidth": 0,
            "ticks": ""
           }
          },
          "colorscale": {
           "diverging": [
            [
             0,
             "#8e0152"
            ],
            [
             0.1,
             "#c51b7d"
            ],
            [
             0.2,
             "#de77ae"
            ],
            [
             0.3,
             "#f1b6da"
            ],
            [
             0.4,
             "#fde0ef"
            ],
            [
             0.5,
             "#f7f7f7"
            ],
            [
             0.6,
             "#e6f5d0"
            ],
            [
             0.7,
             "#b8e186"
            ],
            [
             0.8,
             "#7fbc41"
            ],
            [
             0.9,
             "#4d9221"
            ],
            [
             1,
             "#276419"
            ]
           ],
           "sequential": [
            [
             0,
             "#0d0887"
            ],
            [
             0.1111111111111111,
             "#46039f"
            ],
            [
             0.2222222222222222,
             "#7201a8"
            ],
            [
             0.3333333333333333,
             "#9c179e"
            ],
            [
             0.4444444444444444,
             "#bd3786"
            ],
            [
             0.5555555555555556,
             "#d8576b"
            ],
            [
             0.6666666666666666,
             "#ed7953"
            ],
            [
             0.7777777777777778,
             "#fb9f3a"
            ],
            [
             0.8888888888888888,
             "#fdca26"
            ],
            [
             1,
             "#f0f921"
            ]
           ],
           "sequentialminus": [
            [
             0,
             "#0d0887"
            ],
            [
             0.1111111111111111,
             "#46039f"
            ],
            [
             0.2222222222222222,
             "#7201a8"
            ],
            [
             0.3333333333333333,
             "#9c179e"
            ],
            [
             0.4444444444444444,
             "#bd3786"
            ],
            [
             0.5555555555555556,
             "#d8576b"
            ],
            [
             0.6666666666666666,
             "#ed7953"
            ],
            [
             0.7777777777777778,
             "#fb9f3a"
            ],
            [
             0.8888888888888888,
             "#fdca26"
            ],
            [
             1,
             "#f0f921"
            ]
           ]
          },
          "colorway": [
           "#636efa",
           "#EF553B",
           "#00cc96",
           "#ab63fa",
           "#FFA15A",
           "#19d3f3",
           "#FF6692",
           "#B6E880",
           "#FF97FF",
           "#FECB52"
          ],
          "font": {
           "color": "#2a3f5f"
          },
          "geo": {
           "bgcolor": "white",
           "lakecolor": "white",
           "landcolor": "white",
           "showlakes": true,
           "showland": true,
           "subunitcolor": "#C8D4E3"
          },
          "hoverlabel": {
           "align": "left"
          },
          "hovermode": "closest",
          "mapbox": {
           "style": "light"
          },
          "paper_bgcolor": "white",
          "plot_bgcolor": "white",
          "polar": {
           "angularaxis": {
            "gridcolor": "#EBF0F8",
            "linecolor": "#EBF0F8",
            "ticks": ""
           },
           "bgcolor": "white",
           "radialaxis": {
            "gridcolor": "#EBF0F8",
            "linecolor": "#EBF0F8",
            "ticks": ""
           }
          },
          "scene": {
           "xaxis": {
            "backgroundcolor": "white",
            "gridcolor": "#DFE8F3",
            "gridwidth": 2,
            "linecolor": "#EBF0F8",
            "showbackground": true,
            "ticks": "",
            "zerolinecolor": "#EBF0F8"
           },
           "yaxis": {
            "backgroundcolor": "white",
            "gridcolor": "#DFE8F3",
            "gridwidth": 2,
            "linecolor": "#EBF0F8",
            "showbackground": true,
            "ticks": "",
            "zerolinecolor": "#EBF0F8"
           },
           "zaxis": {
            "backgroundcolor": "white",
            "gridcolor": "#DFE8F3",
            "gridwidth": 2,
            "linecolor": "#EBF0F8",
            "showbackground": true,
            "ticks": "",
            "zerolinecolor": "#EBF0F8"
           }
          },
          "shapedefaults": {
           "line": {
            "color": "#2a3f5f"
           }
          },
          "ternary": {
           "aaxis": {
            "gridcolor": "#DFE8F3",
            "linecolor": "#A2B1C6",
            "ticks": ""
           },
           "baxis": {
            "gridcolor": "#DFE8F3",
            "linecolor": "#A2B1C6",
            "ticks": ""
           },
           "bgcolor": "white",
           "caxis": {
            "gridcolor": "#DFE8F3",
            "linecolor": "#A2B1C6",
            "ticks": ""
           }
          },
          "title": {
           "x": 0.05
          },
          "xaxis": {
           "automargin": true,
           "gridcolor": "#EBF0F8",
           "linecolor": "#EBF0F8",
           "ticks": "",
           "title": {
            "standoff": 15
           },
           "zerolinecolor": "#EBF0F8",
           "zerolinewidth": 2
          },
          "yaxis": {
           "automargin": true,
           "gridcolor": "#EBF0F8",
           "linecolor": "#EBF0F8",
           "ticks": "",
           "title": {
            "standoff": 15
           },
           "zerolinecolor": "#EBF0F8",
           "zerolinewidth": 2
          }
         }
        },
        "title": {
         "text": "Veh1 - Inertial Frame Velocity | Acceleration"
        },
        "width": 900,
        "xaxis": {
         "anchor": "y",
         "domain": [
          0,
          1
         ],
         "linecolor": "black",
         "linewidth": 1,
         "matches": "x2",
         "showgrid": false,
         "showline": true,
         "showticklabels": false,
         "tickcolor": "black",
         "ticklen": 10,
         "ticks": "outside",
         "tickwidth": 1,
         "title": {
          "text": ""
         },
         "zeroline": false
        },
        "xaxis2": {
         "anchor": "y2",
         "domain": [
          0,
          1
         ],
         "linecolor": "black",
         "linewidth": 1,
         "showgrid": false,
         "showline": true,
         "tickcolor": "black",
         "ticklen": 10,
         "ticks": "outside",
         "tickwidth": 1,
         "title": {
          "text": "Time (s)"
         },
         "zeroline": false
        },
        "yaxis": {
         "anchor": "x",
         "domain": [
          0.525,
          1
         ],
         "linecolor": "black",
         "linewidth": 1,
         "showgrid": false,
         "showline": true,
         "tickcolor": "black",
         "ticklen": 10,
         "ticks": "outside",
         "tickwidth": 1,
         "title": {
          "text": "Velocity (mph)"
         },
         "zeroline": false
        },
        "yaxis2": {
         "anchor": "x2",
         "domain": [
          0,
          0.475
         ],
         "linecolor": "black",
         "linewidth": 1,
         "showgrid": false,
         "showline": true,
         "tickcolor": "black",
         "ticklen": 10,
         "ticks": "outside",
         "tickwidth": 1,
         "title": {
          "text": "Acceleration (g)"
         },
         "zeroline": false
        }
       }
      },
      "text/html": [
       "<div>\n",
       "        \n",
       "        \n",
       "            <div id=\"afaff6e9-c920-42b5-8f1f-b66855f41727\" class=\"plotly-graph-div\" style=\"height:500px; width:900px;\"></div>\n",
       "            <script type=\"text/javascript\">\n",
       "                require([\"plotly\"], function(Plotly) {\n",
       "                    window.PLOTLYENV=window.PLOTLYENV || {};\n",
       "                    \n",
       "                if (document.getElementById(\"afaff6e9-c920-42b5-8f1f-b66855f41727\")) {\n",
       "                    Plotly.newPlot(\n",
       "                        'afaff6e9-c920-42b5-8f1f-b66855f41727',\n",
       "                        [{\"line\": {\"color\": \"rgb(0, 255, 0)\", \"width\": 2}, \"mode\": \"lines\", \"name\": \"X\", \"type\": \"scatter\", \"x\": [0.0, 0.1, 0.2, 0.3, 0.4, 0.5, 0.6, 0.7, 0.8, 0.9, 1.0, 1.1, 1.2, 1.3, 1.4, 1.5, 1.6, 1.7, 1.8, 1.9, 2.0, 2.1, 2.2, 2.3, 2.4, 2.5, 2.6, 2.7, 2.8, 2.9, 3.0, 3.1, 3.2, 3.3, 3.4, 3.5, 3.6, 3.7, 3.8, 3.9, 4.0, 4.1, 4.2, 4.3, 4.4, 4.5, 4.6, 4.7, 4.8, 4.9, 5.0, 5.1, 5.2, 5.3, 5.4, 5.5, 5.6, 5.7, 5.8, 5.9, 6.0, 6.1, 6.2, 6.3, 6.4, 6.5, 6.6, 6.7, 6.8, 6.9, 7.0, 7.1, 7.2, 7.3, 7.4, 7.5, 7.6, 7.7, 7.8, 7.9, 8.0, 8.1, 8.2, 8.3, 8.4, 8.5, 8.6, 8.7, 8.8, 8.9, 9.0, 9.1, 9.2, 9.3, 9.4, 9.5, 9.6, 9.7, 9.8, 9.9, 10.0, 10.1, 10.2, 10.3, 10.4, 10.5, 10.6, 10.7, 10.8, 10.9], \"xaxis\": \"x\", \"y\": [15.0, 15.0, 15.0, 15.0, 15.0, 15.0, 15.0, 15.0, 15.0, 15.0, 15.0, 14.997658732256314, 14.985427757064166, 14.954617917738753, 14.898725776492071, 14.810080278918331, 14.676636001066987, 14.480846939473853, 14.200347590374996, 13.809662438023972, 13.282421077170609, 12.653607936940494, 11.972900937620832, 11.226649353300925, 10.389099914813338, 9.450067596995714, 8.418983278545426, 7.318380551193123, 6.175860687997754, 5.018408995468512, 3.869458476530358, 2.7478395774240725, 1.6677182121548504, 0.6389629012795872, -0.33230890688549025, -1.2430881000121128, -2.092770435844692, -2.8824395206620275, -3.614200673496558, -4.290627191627673, -4.914356583692631, -5.487841938276451, -6.013236322578252, -6.492373371995159, -6.9268053042336355, -7.317866324668992, -7.6667396256881934, -7.974515985550653, -8.24223933313227, -8.470939159194781, -8.661651828338593, -8.815433476891341, -8.933366990162709, -9.01656503803108, -9.066170594173563, -9.083355897976057, -9.069320473516889, -9.025288586790651, -8.95250637464667, -8.852238789886508, -8.725766454809824, -8.574382484941337, -8.399389326152676, -8.20209563647948, -7.983813235761291, -7.745854140336414, -7.489527695630716, -7.216137816138201, -6.926980339713554, -6.62334050108656, -6.306490527926993, -5.977687361535057, -5.638170503230679, -5.289159986707038, -4.931854475956424, -4.567429487837597, -4.197035737909594, -3.8217976077893714, -3.442811731985638, -3.0611457019077926, -2.677836884537895, -2.2938913530783114, -1.9102829267423114, -1.5279523167350817, -1.1478063753747174, -0.7707174452237546, -0.3975228050392806, -0.029024209301534966, 0.3340124819545111, 0.690857586304276, 1.0408177984091975, 1.3832363091218298, 1.7174928475364388, 2.0430036492909234, 2.359221354409093, 2.6656348379495576, 2.9617689766993016, 3.247184355116871, 3.5214769136924797, 3.7842775428506434, 4.03525162547549, 4.274098531090106, 4.50055106466938, 4.714374873011162, 4.915367811533352, 5.103359274305165, 5.278209490059318, 5.439808786868712, 5.588076828106302, 5.722961822240685], \"yaxis\": \"y\"}, {\"line\": {\"color\": \"rgb(0, 0, 255)\", \"width\": 2}, \"mode\": \"lines\", \"name\": \"Y\", \"type\": \"scatter\", \"x\": [0.0, 0.1, 0.2, 0.3, 0.4, 0.5, 0.6, 0.7, 0.8, 0.9, 1.0, 1.1, 1.2, 1.3, 1.4, 1.5, 1.6, 1.7, 1.8, 1.9, 2.0, 2.1, 2.2, 2.3, 2.4, 2.5, 2.6, 2.7, 2.8, 2.9, 3.0, 3.1, 3.2, 3.3, 3.4, 3.5, 3.6, 3.7, 3.8, 3.9, 4.0, 4.1, 4.2, 4.3, 4.4, 4.5, 4.6, 4.7, 4.8, 4.9, 5.0, 5.1, 5.2, 5.3, 5.4, 5.5, 5.6, 5.7, 5.8, 5.9, 6.0, 6.1, 6.2, 6.3, 6.4, 6.5, 6.6, 6.7, 6.8, 6.9, 7.0, 7.1, 7.2, 7.3, 7.4, 7.5, 7.6, 7.7, 7.8, 7.9, 8.0, 8.1, 8.2, 8.3, 8.4, 8.5, 8.6, 8.7, 8.8, 8.9, 9.0, 9.1, 9.2, 9.3, 9.4, 9.5, 9.6, 9.7, 9.8, 9.9, 10.0, 10.1, 10.2, 10.3, 10.4, 10.5, 10.6, 10.7, 10.8, 10.9], \"xaxis\": \"x\", \"y\": [0.0, 0.0, 0.0, 0.0, 0.0, 0.0, 0.0, 0.0, 0.0, 0.0, 0.0, -0.06443647665063838, -0.252525632606964, -0.5375120334529975, -0.8871147540532909, -1.2922749937732962, -1.7616513460734937, -2.308098089610743, -2.9389510243102213, -3.651551205691516, -4.432023998042429, -5.220357408912524, -5.963851251507424, -6.668169202990539, -7.340814802177303, -7.972273061166805, -8.54245923232244, -9.031150424883542, -9.424048123258057, -9.714310969260913, -9.901623936454193, -9.990462713197767, -9.988377245857938, -9.90456524470161, -9.748768837055792, -9.530469046116064, -9.25835402122005, -8.94003714879619, -8.58198713508542, -8.189614019882239, -7.767445778661877, -7.319335029355874, -6.848651349270104, -6.358434736388785, -5.851503314302099, -5.33052001753175, -4.798028364307739, -4.256468099273081, -3.7081795828970856, -3.155403069494313, -2.600276511974215, -2.0448336917433956, -1.4910033267169707, -0.9406092067787967, -0.3953711553011439, 0.14309343904801997, 0.6732677403242048, 1.1937333898629976, 1.7031683340706223, 2.2003446073016737, 2.684126093222526, 3.1534662725573623, 3.6074059580631435, 4.045071015205286, 4.465670066809286, 4.868492180578463, 5.252904539172049, 5.6183500932987736, 5.964345198931971, 6.290477240284568, 6.59640224060573, 6.881842463190698, 7.146584005247117, 7.390474387448319, 7.6134201421368, 7.81538440322741, 7.996384500905908, 8.15648956423048, 8.295818134726817, 8.414535794026376, 8.512852808536419, 8.591021794053063, 8.649335403137687, 8.688124037975193, 8.707753591322032, 8.708623218034399, 8.691163139544216, 8.655832483523774, 8.603117160850516, 8.533527781852188, 8.447597613680639, 8.345880580530334, 8.228949308286078, 8.097393215053941, 7.951816648900387, 7.792837073997638, 7.621083306248591, 7.437193799342558, 7.241814982073794, 7.035599647638671, 6.8192053955143175, 6.593293126412016, 6.358525590692509, 6.115565990527863, 5.865076635995654, 5.6077176551960495, 5.344145758390974, 5.075013056076765, 4.80096593081793, 4.522643962589348], \"yaxis\": \"y\"}, {\"line\": {\"color\": \"rgb(0, 0, 0)\", \"width\": 2}, \"mode\": \"lines\", \"name\": \"Resultant\", \"type\": \"scatter\", \"x\": [0.0, 0.1, 0.2, 0.3, 0.4, 0.5, 0.6, 0.7, 0.8, 0.9, 1.0, 1.1, 1.2, 1.3, 1.4, 1.5, 1.6, 1.7, 1.8, 1.9, 2.0, 2.1, 2.2, 2.3, 2.4, 2.5, 2.6, 2.7, 2.8, 2.9, 3.0, 3.1, 3.2, 3.3, 3.4, 3.5, 3.6, 3.7, 3.8, 3.9, 4.0, 4.1, 4.2, 4.3, 4.4, 4.5, 4.6, 4.7, 4.8, 4.9, 5.0, 5.1, 5.2, 5.3, 5.4, 5.5, 5.6, 5.7, 5.8, 5.9, 6.0, 6.1, 6.2, 6.3, 6.4, 6.5, 6.6, 6.7, 6.8, 6.9, 7.0, 7.1, 7.2, 7.3, 7.4, 7.5, 7.6, 7.7, 7.8, 7.9, 8.0, 8.1, 8.2, 8.3, 8.4, 8.5, 8.6, 8.7, 8.8, 8.9, 9.0, 9.1, 9.2, 9.3, 9.4, 9.5, 9.6, 9.7, 9.8, 9.9, 10.0, 10.1, 10.2, 10.3, 10.4, 10.5, 10.6, 10.7, 10.8, 10.9], \"xaxis\": \"x\", \"y\": [15.0, 15.0, 15.0, 15.0, 15.0, 15.0, 15.0, 15.0, 15.0, 15.0, 15.0, 14.997797155207401, 14.987555312902526, 14.964274665070128, 14.92511314362368, 14.866353033866021, 14.781984297547407, 14.663636822962236, 14.501286315729478, 14.284278170770735, 14.00234074683551, 13.68816734623709, 13.376018787822797, 13.057646657100335, 12.72088672223127, 12.363693434795051, 11.99386881620432, 11.624128865809942, 11.267383825318094, 10.933995905125544, 10.630845003129116, 10.361465512515737, 10.126646238549345, 9.92515421924328, 9.754430944342452, 9.611197025520191, 9.491933800832529, 9.393227443862425, 9.311978828104937, 9.245499418213518, 9.191524060575336, 9.148173282763166, 9.113892493058804, 9.087387099618201, 9.067564323457963, 9.053486135353118, 9.044333732940151, 9.039381941478759, 9.037981248246064, 9.03954527450102, 9.043541913104956, 9.049486848014393, 9.056938594315952, 9.065494512982811, 9.07478746820561, 9.0844829297872, 9.09427640340417, 9.103891117589631, 9.113075922117085, 9.121603366955444, 9.12926793933678, 9.135884441597627, 9.141286495814304, 9.145325163601875, 9.147867671163244, 9.148796230965056, 9.148006952406293, 9.145408834621346, 9.140922835184693, 9.134481009004931, 9.126025712143331, 9.115508865687673, 9.102891275169357, 9.08814200133957, 9.071237778423942, 9.05216247625829, 9.030906602972847, 9.007466845140497, 8.981845642536964, 8.954050794878238, 8.924095098103672, 8.891996007962563, 8.85777532883817, 8.82145892590667, 8.78307645888003, 8.742661135721779, 8.700249484853773, 8.655881144490776, 8.609598667848697, 8.561447343072157, 8.511475026818102, 8.459731990515204, 8.406270778393992, 8.351146076450682, 8.29441459156879, 8.236134940077319, 8.176367545072775, 8.115174541874941, 8.052619691023386, 7.98876829825331, 7.923687140915785, 7.8574444003288075, 7.790109599562013, 7.721753546169423, 7.652448279391391, 7.582267021348827, 7.511284131750076, 7.439575065623282, 7.367216333574918, 7.29428546405817], \"yaxis\": \"y\"}, {\"line\": {\"color\": \"rgb(0, 255, 0)\", \"width\": 2}, \"mode\": \"lines\", \"name\": \"AX\", \"showlegend\": false, \"type\": \"scatter\", \"x\": [0.0, 0.1, 0.2, 0.3, 0.4, 0.5, 0.6, 0.7, 0.8, 0.9, 1.0, 1.1, 1.2, 1.3, 1.4, 1.5, 1.6, 1.7, 1.8, 1.9, 2.0, 2.1, 2.2, 2.3, 2.4, 2.5, 2.6, 2.7, 2.8, 2.9, 3.0, 3.1, 3.2, 3.3, 3.4, 3.5, 3.6, 3.7, 3.8, 3.9, 4.0, 4.1, 4.2, 4.3, 4.4, 4.5, 4.6, 4.7, 4.8, 4.9, 5.0, 5.1, 5.2, 5.3, 5.4, 5.5, 5.6, 5.7, 5.8, 5.9, 6.0, 6.1, 6.2, 6.3, 6.4, 6.5, 6.6, 6.7, 6.8, 6.9, 7.0, 7.1, 7.2, 7.3, 7.4, 7.5, 7.6, 7.7, 7.8, 7.9, 8.0, 8.1, 8.2, 8.3, 8.4, 8.5, 8.6, 8.7, 8.8, 8.9, 9.0, 9.1, 9.2, 9.3, 9.4, 9.5, 9.6, 9.7, 9.8, 9.9, 10.0, 10.1, 10.2, 10.3, 10.4, 10.5, 10.6, 10.7, 10.8, 10.9], \"xaxis\": \"x2\", \"y\": [0.0, 0.0, 0.0, 0.0, 0.0, 0.0, 0.0, 0.0, 0.0, 0.0, 0.0, -0.0021328367463564805, -0.009009277778530582, -0.0190577203850737, -0.031858631666024886, -0.04889521425104278, -0.072669207485748, -0.10568976330108532, -0.14983817480004655, -0.20606629252832329, -0.2742374880448461, -0.2985956600180746, -0.3215115043869984, -0.3583051485164033, -0.40468158126408654, -0.4507535302722947, -0.4885386668342167, -0.5140830736165917, -0.5267241361677252, -0.5276855991626246, -0.5189797782355253, -0.5027871725422484, -0.4811765559045896, -0.4559939731646167, -0.4288105130971683, -0.400886703786697, -0.37315279403663765, -0.34621612312425726, -0.3204001067066873, -0.2958076456829785, -0.27239433410578656, -0.25003657583673006, -0.22858465498558325, -0.20789729300714604, -0.1878594039221752, -0.16838746989268438, -0.1494274396761552, -0.13094917754090935, -0.11294014059420222, -0.09539971896548963, -0.0783347844215618, -0.061756476747916865, -0.04567802381712507, -0.03011333075871577, -0.015076098450908772, -0.0005792863490946908, 0.013365209325200739, 0.026746745522482206, 0.039556041486966995, 0.05178523710942299, 0.06342791797561921, 0.0744791174821543, 0.08493530251819542, 0.09479434706751069, 0.10405549682152448, 0.11271932708332229, 0.12078769568469355, 0.12826369223784514, 0.13515158474832734, 0.14145676439394167, 0.14718568910540128, 0.1523458264548842, 0.15694559625895632, 0.16099431322534793, 0.1645021299129147, 0.16747998022636493, 0.1699395236288539, 0.17189309022420685, 0.17335362683483765, 0.17433464418023906, 0.17485016524330613, 0.17491467489695936, 0.1745430708510042, 0.17375061596843902, 0.17255289199119167, 0.17096575470726336, 0.16900529058426617, 0.16668777488820546, 0.16402963130092807, 0.16104739304482937, 0.15775766551909942, 0.15417709044791697, 0.15032231153752046, 0.14620994163592682, 0.14185653138622578, 0.13727853936178241, 0.1324923036693277, 0.12751401500377532, 0.12235969113665243, 0.11704515281825718, 0.11158600107204314, 0.10599759585825981, 0.10029503608255697, 0.09449314092405262, 0.08860643245628362, 0.08264911953348891, 0.07663508291380543, 0.07057786159019094, 0.06449064029920999, 0.05838623817723464], \"yaxis\": \"y2\"}, {\"line\": {\"color\": \"rgb(0, 0, 255)\", \"width\": 2}, \"mode\": \"lines\", \"name\": \"AY\", \"showlegend\": false, \"type\": \"scatter\", \"x\": [0.0, 0.1, 0.2, 0.3, 0.4, 0.5, 0.6, 0.7, 0.8, 0.9, 1.0, 1.1, 1.2, 1.3, 1.4, 1.5, 1.6, 1.7, 1.8, 1.9, 2.0, 2.1, 2.2, 2.3, 2.4, 2.5, 2.6, 2.7, 2.8, 2.9, 3.0, 3.1, 3.2, 3.3, 3.4, 3.5, 3.6, 3.7, 3.8, 3.9, 4.0, 4.1, 4.2, 4.3, 4.4, 4.5, 4.6, 4.7, 4.8, 4.9, 5.0, 5.1, 5.2, 5.3, 5.4, 5.5, 5.6, 5.7, 5.8, 5.9, 6.0, 6.1, 6.2, 6.3, 6.4, 6.5, 6.6, 6.7, 6.8, 6.9, 7.0, 7.1, 7.2, 7.3, 7.4, 7.5, 7.6, 7.7, 7.8, 7.9, 8.0, 8.1, 8.2, 8.3, 8.4, 8.5, 8.6, 8.7, 8.8, 8.9, 9.0, 9.1, 9.2, 9.3, 9.4, 9.5, 9.6, 9.7, 9.8, 9.9, 10.0, 10.1, 10.2, 10.3, 10.4, 10.5, 10.6, 10.7, 10.8, 10.9], \"xaxis\": \"x2\", \"y\": [0.0, 0.0, 0.0, 0.0, 0.0, 0.0, 0.0, 0.0, 0.0, 0.0, 0.0, -0.05870002932247936, -0.11264451873122498, -0.14697101203203705, -0.17150838065295188, -0.1975825316390607, -0.2300076637821384, -0.267791743263686, -0.3068996068827015, -0.342261454003325, -0.36872986919997514, -0.3494222821794303, -0.3278821365278123, -0.3137340186906592, -0.2990294104765782, -0.2762133750589076, -0.24321206074782237, -0.2019734742792534, -0.15594656750642863, -0.10847567370289316, -0.062161785671871105, -0.018768132766946912, 0.02066794170067866, 0.055682709066993276, 0.08624394758014345, 0.11262173836865792, 0.13526828868987492, 0.15471047359453763, 0.17146419324345885, 0.18597796630626143, 0.19860681279353193, 0.2096109466379194, 0.21917019191574266, 0.2274049631244085, 0.23439696782707034, 0.24020587184632536, 0.24488079463445758, 0.24846715189869878, 0.2510100644448922, 0.2525556056870608, 0.25315089624958653, 0.2528437131590693, 0.25168198961938204, 0.24971337925622128, 0.24698493935292706, 0.24354292809681713, 0.2394326883334572, 0.23469858757279216, 0.22938398983155384, 0.22353124287638787, 0.21718167138170927, 0.21037557136675267, 0.20315220412440504, 0.19554978926607025, 0.1876054970792956, 0.17935544056159797, 0.17083466749955434, 0.162077152917243, 0.15311579216290705, 0.1439823948498962, 0.13470767982155626, 0.12532127127080053, 0.11585169611298127, 0.10632638268393597, 0.09677166081230902, 0.08721276329561917, 0.07767382879265637, 0.06817790613047937, 0.05874696001229249, 0.04940187810254287, 0.04016247945736059, 0.031047524261705758, 0.02207472482906815, 0.013260757815108349, 0.004621277593094378, -0.003829069263760169, -0.012076628450026518, -0.020108721404321, -0.027913627853560247, -0.03548056748524611, -0.0427996808080239, -0.049862009260645906, -0.05665947462909562, -0.06318485783101577, -0.06943177712577457, -0.07539466580752667, -0.08106874943749975, -0.08645002267049537, -0.09153522572924255, -0.09632182057880861, -0.10080796685176599, -0.10499249757324777, -0.10887489473341619, -0.11245526475321789, -0.11573431388762523, -0.118713323608868, -0.12139412601044931, -0.12377907927102906, -0.1258710432155398, -0.12767335500918978], \"yaxis\": \"y2\"}, {\"line\": {\"color\": \"rgb(0, 0, 0)\", \"width\": 2}, \"mode\": \"lines\", \"name\": \"AR\", \"showlegend\": false, \"type\": \"scatter\", \"x\": [0.0, 0.1, 0.2, 0.3, 0.4, 0.5, 0.6, 0.7, 0.8, 0.9, 1.0, 1.1, 1.2, 1.3, 1.4, 1.5, 1.6, 1.7, 1.8, 1.9, 2.0, 2.1, 2.2, 2.3, 2.4, 2.5, 2.6, 2.7, 2.8, 2.9, 3.0, 3.1, 3.2, 3.3, 3.4, 3.5, 3.6, 3.7, 3.8, 3.9, 4.0, 4.1, 4.2, 4.3, 4.4, 4.5, 4.6, 4.7, 4.8, 4.9, 5.0, 5.1, 5.2, 5.3, 5.4, 5.5, 5.6, 5.7, 5.8, 5.9, 6.0, 6.1, 6.2, 6.3, 6.4, 6.5, 6.6, 6.7, 6.8, 6.9, 7.0, 7.1, 7.2, 7.3, 7.4, 7.5, 7.6, 7.7, 7.8, 7.9, 8.0, 8.1, 8.2, 8.3, 8.4, 8.5, 8.6, 8.7, 8.8, 8.9, 9.0, 9.1, 9.2, 9.3, 9.4, 9.5, 9.6, 9.7, 9.8, 9.9, 10.0, 10.1, 10.2, 10.3, 10.4, 10.5, 10.6, 10.7, 10.8, 10.9], \"xaxis\": \"x2\", \"y\": [0.0, 0.0, 0.0, 0.0, 0.0, 0.0, 0.0, 0.0, 0.0, 0.0, 0.0, 0.05873876433026614, 0.11300422419662028, 0.1482014678874566, 0.17444224558812949, 0.20354262154535546, 0.2412143012242929, 0.2878936328348429, 0.3415242997682098, 0.39950747153568816, 0.4595301037901411, 0.45962517279312604, 0.45921274253578137, 0.47624742932340614, 0.5031756855655601, 0.5286516562107503, 0.5457308269516724, 0.5523356686757739, 0.5493247195772947, 0.5387198375305244, 0.5226892937638102, 0.5031373407734576, 0.48162022566161533, 0.45938117903489756, 0.4373973875514842, 0.4164058179542421, 0.3969137407831035, 0.379210936750296, 0.3633953741344086, 0.3494137478633597, 0.3371102777147857, 0.32627448292289357, 0.3166804659578194, 0.30811410498922753, 0.3003882390649135, 0.29334825870680226, 0.28687133580923413, 0.28086226637142203, 0.2752481204478372, 0.26997303632520886, 0.26499380129041034, 0.26027640251160244, 0.25579348263513, 0.25152253272608643, 0.2474446382762628, 0.2435436170353181, 0.2398054233391999, 0.23621772881117117, 0.23276961831210072, 0.22945136156567444, 0.2262542356794114, 0.22317038326984204, 0.220192696641967, 0.2173147218159878, 0.21453057813082002, 0.2118348903206502, 0.20922273071657732, 0.20668956975194475, 0.2042312333353027, 0.20184386594473103, 0.19952389851929708, 0.19726802039649322, 0.19507315468134995, 0.1929364365420701, 0.19085519401435752, 0.1888269309666428, 0.18684931193481202, 0.18492014858085037, 0.18303738756734383, 0.18119909967080153, 0.1794034699825351, 0.17764878906733417, 0.17593344496819743, 0.17425591596052895, 0.17261476397202036, 0.17100862859531624, 0.16943622162982816, 0.16789632209699426, 0.16638777168008909, 0.16490947054554164, 0.16346037350778558, 0.16203948650404293, 0.16064586334925804, 0.15927860274470892, 0.157936845516727, 0.15661977206449088, 0.15532659999808618, 0.1540565819499842, 0.15280900354481852, 0.1515831815138651, 0.1503784619419841, 0.149194218635976, 0.14802985160437693, 0.14688478563966112, 0.14575846899466705, 0.14465037214582185, 0.14355998663641162, 0.14248682399375687, 0.14143041471469414, 0.14039030731425647], \"yaxis\": \"y2\"}],\n",
       "                        {\"autosize\": false, \"font\": {\"color\": \"black\", \"family\": \"Arial\", \"size\": 14}, \"height\": 500, \"legend\": {\"orientation\": \"h\", \"x\": 0.01, \"xanchor\": \"left\", \"y\": 1.1, \"yanchor\": \"top\"}, \"template\": {\"data\": {\"bar\": [{\"error_x\": {\"color\": \"#2a3f5f\"}, \"error_y\": {\"color\": \"#2a3f5f\"}, \"marker\": {\"line\": {\"color\": \"white\", \"width\": 0.5}}, \"type\": \"bar\"}], \"barpolar\": [{\"marker\": {\"line\": {\"color\": \"white\", \"width\": 0.5}}, \"type\": \"barpolar\"}], \"carpet\": [{\"aaxis\": {\"endlinecolor\": \"#2a3f5f\", \"gridcolor\": \"#C8D4E3\", \"linecolor\": \"#C8D4E3\", \"minorgridcolor\": \"#C8D4E3\", \"startlinecolor\": \"#2a3f5f\"}, \"baxis\": {\"endlinecolor\": \"#2a3f5f\", \"gridcolor\": \"#C8D4E3\", \"linecolor\": \"#C8D4E3\", \"minorgridcolor\": \"#C8D4E3\", \"startlinecolor\": \"#2a3f5f\"}, \"type\": \"carpet\"}], \"choropleth\": [{\"colorbar\": {\"outlinewidth\": 0, \"ticks\": \"\"}, \"type\": \"choropleth\"}], \"contour\": [{\"colorbar\": {\"outlinewidth\": 0, \"ticks\": \"\"}, \"colorscale\": [[0.0, \"#0d0887\"], [0.1111111111111111, \"#46039f\"], [0.2222222222222222, \"#7201a8\"], [0.3333333333333333, \"#9c179e\"], [0.4444444444444444, \"#bd3786\"], [0.5555555555555556, \"#d8576b\"], [0.6666666666666666, \"#ed7953\"], [0.7777777777777778, \"#fb9f3a\"], [0.8888888888888888, \"#fdca26\"], [1.0, \"#f0f921\"]], \"type\": \"contour\"}], \"contourcarpet\": [{\"colorbar\": {\"outlinewidth\": 0, \"ticks\": \"\"}, \"type\": \"contourcarpet\"}], \"heatmap\": [{\"colorbar\": {\"outlinewidth\": 0, \"ticks\": \"\"}, \"colorscale\": [[0.0, \"#0d0887\"], [0.1111111111111111, \"#46039f\"], [0.2222222222222222, \"#7201a8\"], [0.3333333333333333, \"#9c179e\"], [0.4444444444444444, \"#bd3786\"], [0.5555555555555556, \"#d8576b\"], [0.6666666666666666, \"#ed7953\"], [0.7777777777777778, \"#fb9f3a\"], [0.8888888888888888, \"#fdca26\"], [1.0, \"#f0f921\"]], \"type\": \"heatmap\"}], \"heatmapgl\": [{\"colorbar\": {\"outlinewidth\": 0, \"ticks\": \"\"}, \"colorscale\": [[0.0, \"#0d0887\"], [0.1111111111111111, \"#46039f\"], [0.2222222222222222, \"#7201a8\"], [0.3333333333333333, \"#9c179e\"], [0.4444444444444444, \"#bd3786\"], [0.5555555555555556, \"#d8576b\"], [0.6666666666666666, \"#ed7953\"], [0.7777777777777778, \"#fb9f3a\"], [0.8888888888888888, \"#fdca26\"], [1.0, \"#f0f921\"]], \"type\": \"heatmapgl\"}], \"histogram\": [{\"marker\": {\"colorbar\": {\"outlinewidth\": 0, \"ticks\": \"\"}}, \"type\": \"histogram\"}], \"histogram2d\": [{\"colorbar\": {\"outlinewidth\": 0, \"ticks\": \"\"}, \"colorscale\": [[0.0, \"#0d0887\"], [0.1111111111111111, \"#46039f\"], [0.2222222222222222, \"#7201a8\"], [0.3333333333333333, \"#9c179e\"], [0.4444444444444444, \"#bd3786\"], [0.5555555555555556, \"#d8576b\"], [0.6666666666666666, \"#ed7953\"], [0.7777777777777778, \"#fb9f3a\"], [0.8888888888888888, \"#fdca26\"], [1.0, \"#f0f921\"]], \"type\": \"histogram2d\"}], \"histogram2dcontour\": [{\"colorbar\": {\"outlinewidth\": 0, \"ticks\": \"\"}, \"colorscale\": [[0.0, \"#0d0887\"], [0.1111111111111111, \"#46039f\"], [0.2222222222222222, \"#7201a8\"], [0.3333333333333333, \"#9c179e\"], [0.4444444444444444, \"#bd3786\"], [0.5555555555555556, \"#d8576b\"], [0.6666666666666666, \"#ed7953\"], [0.7777777777777778, \"#fb9f3a\"], [0.8888888888888888, \"#fdca26\"], [1.0, \"#f0f921\"]], \"type\": \"histogram2dcontour\"}], \"mesh3d\": [{\"colorbar\": {\"outlinewidth\": 0, \"ticks\": \"\"}, \"type\": \"mesh3d\"}], \"parcoords\": [{\"line\": {\"colorbar\": {\"outlinewidth\": 0, \"ticks\": \"\"}}, \"type\": \"parcoords\"}], \"pie\": [{\"automargin\": true, \"type\": \"pie\"}], \"scatter\": [{\"marker\": {\"colorbar\": {\"outlinewidth\": 0, \"ticks\": \"\"}}, \"type\": \"scatter\"}], \"scatter3d\": [{\"line\": {\"colorbar\": {\"outlinewidth\": 0, \"ticks\": \"\"}}, \"marker\": {\"colorbar\": {\"outlinewidth\": 0, \"ticks\": \"\"}}, \"type\": \"scatter3d\"}], \"scattercarpet\": [{\"marker\": {\"colorbar\": {\"outlinewidth\": 0, \"ticks\": \"\"}}, \"type\": \"scattercarpet\"}], \"scattergeo\": [{\"marker\": {\"colorbar\": {\"outlinewidth\": 0, \"ticks\": \"\"}}, \"type\": \"scattergeo\"}], \"scattergl\": [{\"marker\": {\"colorbar\": {\"outlinewidth\": 0, \"ticks\": \"\"}}, \"type\": \"scattergl\"}], \"scattermapbox\": [{\"marker\": {\"colorbar\": {\"outlinewidth\": 0, \"ticks\": \"\"}}, \"type\": \"scattermapbox\"}], \"scatterpolar\": [{\"marker\": {\"colorbar\": {\"outlinewidth\": 0, \"ticks\": \"\"}}, \"type\": \"scatterpolar\"}], \"scatterpolargl\": [{\"marker\": {\"colorbar\": {\"outlinewidth\": 0, \"ticks\": \"\"}}, \"type\": \"scatterpolargl\"}], \"scatterternary\": [{\"marker\": {\"colorbar\": {\"outlinewidth\": 0, \"ticks\": \"\"}}, \"type\": \"scatterternary\"}], \"surface\": [{\"colorbar\": {\"outlinewidth\": 0, \"ticks\": \"\"}, \"colorscale\": [[0.0, \"#0d0887\"], [0.1111111111111111, \"#46039f\"], [0.2222222222222222, \"#7201a8\"], [0.3333333333333333, \"#9c179e\"], [0.4444444444444444, \"#bd3786\"], [0.5555555555555556, \"#d8576b\"], [0.6666666666666666, \"#ed7953\"], [0.7777777777777778, \"#fb9f3a\"], [0.8888888888888888, \"#fdca26\"], [1.0, \"#f0f921\"]], \"type\": \"surface\"}], \"table\": [{\"cells\": {\"fill\": {\"color\": \"#EBF0F8\"}, \"line\": {\"color\": \"white\"}}, \"header\": {\"fill\": {\"color\": \"#C8D4E3\"}, \"line\": {\"color\": \"white\"}}, \"type\": \"table\"}]}, \"layout\": {\"annotationdefaults\": {\"arrowcolor\": \"#2a3f5f\", \"arrowhead\": 0, \"arrowwidth\": 1}, \"coloraxis\": {\"colorbar\": {\"outlinewidth\": 0, \"ticks\": \"\"}}, \"colorscale\": {\"diverging\": [[0, \"#8e0152\"], [0.1, \"#c51b7d\"], [0.2, \"#de77ae\"], [0.3, \"#f1b6da\"], [0.4, \"#fde0ef\"], [0.5, \"#f7f7f7\"], [0.6, \"#e6f5d0\"], [0.7, \"#b8e186\"], [0.8, \"#7fbc41\"], [0.9, \"#4d9221\"], [1, \"#276419\"]], \"sequential\": [[0.0, \"#0d0887\"], [0.1111111111111111, \"#46039f\"], [0.2222222222222222, \"#7201a8\"], [0.3333333333333333, \"#9c179e\"], [0.4444444444444444, \"#bd3786\"], [0.5555555555555556, \"#d8576b\"], [0.6666666666666666, \"#ed7953\"], [0.7777777777777778, \"#fb9f3a\"], [0.8888888888888888, \"#fdca26\"], [1.0, \"#f0f921\"]], \"sequentialminus\": [[0.0, \"#0d0887\"], [0.1111111111111111, \"#46039f\"], [0.2222222222222222, \"#7201a8\"], [0.3333333333333333, \"#9c179e\"], [0.4444444444444444, \"#bd3786\"], [0.5555555555555556, \"#d8576b\"], [0.6666666666666666, \"#ed7953\"], [0.7777777777777778, \"#fb9f3a\"], [0.8888888888888888, \"#fdca26\"], [1.0, \"#f0f921\"]]}, \"colorway\": [\"#636efa\", \"#EF553B\", \"#00cc96\", \"#ab63fa\", \"#FFA15A\", \"#19d3f3\", \"#FF6692\", \"#B6E880\", \"#FF97FF\", \"#FECB52\"], \"font\": {\"color\": \"#2a3f5f\"}, \"geo\": {\"bgcolor\": \"white\", \"lakecolor\": \"white\", \"landcolor\": \"white\", \"showlakes\": true, \"showland\": true, \"subunitcolor\": \"#C8D4E3\"}, \"hoverlabel\": {\"align\": \"left\"}, \"hovermode\": \"closest\", \"mapbox\": {\"style\": \"light\"}, \"paper_bgcolor\": \"white\", \"plot_bgcolor\": \"white\", \"polar\": {\"angularaxis\": {\"gridcolor\": \"#EBF0F8\", \"linecolor\": \"#EBF0F8\", \"ticks\": \"\"}, \"bgcolor\": \"white\", \"radialaxis\": {\"gridcolor\": \"#EBF0F8\", \"linecolor\": \"#EBF0F8\", \"ticks\": \"\"}}, \"scene\": {\"xaxis\": {\"backgroundcolor\": \"white\", \"gridcolor\": \"#DFE8F3\", \"gridwidth\": 2, \"linecolor\": \"#EBF0F8\", \"showbackground\": true, \"ticks\": \"\", \"zerolinecolor\": \"#EBF0F8\"}, \"yaxis\": {\"backgroundcolor\": \"white\", \"gridcolor\": \"#DFE8F3\", \"gridwidth\": 2, \"linecolor\": \"#EBF0F8\", \"showbackground\": true, \"ticks\": \"\", \"zerolinecolor\": \"#EBF0F8\"}, \"zaxis\": {\"backgroundcolor\": \"white\", \"gridcolor\": \"#DFE8F3\", \"gridwidth\": 2, \"linecolor\": \"#EBF0F8\", \"showbackground\": true, \"ticks\": \"\", \"zerolinecolor\": \"#EBF0F8\"}}, \"shapedefaults\": {\"line\": {\"color\": \"#2a3f5f\"}}, \"ternary\": {\"aaxis\": {\"gridcolor\": \"#DFE8F3\", \"linecolor\": \"#A2B1C6\", \"ticks\": \"\"}, \"baxis\": {\"gridcolor\": \"#DFE8F3\", \"linecolor\": \"#A2B1C6\", \"ticks\": \"\"}, \"bgcolor\": \"white\", \"caxis\": {\"gridcolor\": \"#DFE8F3\", \"linecolor\": \"#A2B1C6\", \"ticks\": \"\"}}, \"title\": {\"x\": 0.05}, \"xaxis\": {\"automargin\": true, \"gridcolor\": \"#EBF0F8\", \"linecolor\": \"#EBF0F8\", \"ticks\": \"\", \"title\": {\"standoff\": 15}, \"zerolinecolor\": \"#EBF0F8\", \"zerolinewidth\": 2}, \"yaxis\": {\"automargin\": true, \"gridcolor\": \"#EBF0F8\", \"linecolor\": \"#EBF0F8\", \"ticks\": \"\", \"title\": {\"standoff\": 15}, \"zerolinecolor\": \"#EBF0F8\", \"zerolinewidth\": 2}}}, \"title\": {\"text\": \"Veh1 - Inertial Frame Velocity | Acceleration\"}, \"width\": 900, \"xaxis\": {\"anchor\": \"y\", \"domain\": [0.0, 1.0], \"linecolor\": \"black\", \"linewidth\": 1, \"matches\": \"x2\", \"showgrid\": false, \"showline\": true, \"showticklabels\": false, \"tickcolor\": \"black\", \"ticklen\": 10, \"ticks\": \"outside\", \"tickwidth\": 1, \"title\": {\"text\": \"\"}, \"zeroline\": false}, \"xaxis2\": {\"anchor\": \"y2\", \"domain\": [0.0, 1.0], \"linecolor\": \"black\", \"linewidth\": 1, \"showgrid\": false, \"showline\": true, \"tickcolor\": \"black\", \"ticklen\": 10, \"ticks\": \"outside\", \"tickwidth\": 1, \"title\": {\"text\": \"Time (s)\"}, \"zeroline\": false}, \"yaxis\": {\"anchor\": \"x\", \"domain\": [0.525, 1.0], \"linecolor\": \"black\", \"linewidth\": 1, \"showgrid\": false, \"showline\": true, \"tickcolor\": \"black\", \"ticklen\": 10, \"ticks\": \"outside\", \"tickwidth\": 1, \"title\": {\"text\": \"Velocity (mph)\"}, \"zeroline\": false}, \"yaxis2\": {\"anchor\": \"x2\", \"domain\": [0.0, 0.475], \"linecolor\": \"black\", \"linewidth\": 1, \"showgrid\": false, \"showline\": true, \"tickcolor\": \"black\", \"ticklen\": 10, \"ticks\": \"outside\", \"tickwidth\": 1, \"title\": {\"text\": \"Acceleration (g)\"}, \"zeroline\": false}},\n",
       "                        {\"responsive\": true}\n",
       "                    ).then(function(){\n",
       "                            \n",
       "var gd = document.getElementById('afaff6e9-c920-42b5-8f1f-b66855f41727');\n",
       "var x = new MutationObserver(function (mutations, observer) {{\n",
       "        var display = window.getComputedStyle(gd).display;\n",
       "        if (!display || display === 'none') {{\n",
       "            console.log([gd, 'removed!']);\n",
       "            Plotly.purge(gd);\n",
       "            observer.disconnect();\n",
       "        }}\n",
       "}});\n",
       "\n",
       "// Listen for the removal of the full notebook cells\n",
       "var notebookContainer = gd.closest('#notebook-container');\n",
       "if (notebookContainer) {{\n",
       "    x.observe(notebookContainer, {childList: true});\n",
       "}}\n",
       "\n",
       "// Listen for the clearing of the current output cell\n",
       "var outputEl = gd.closest('.output');\n",
       "if (outputEl) {{\n",
       "    x.observe(outputEl, {childList: true});\n",
       "}}\n",
       "\n",
       "                        })\n",
       "                };\n",
       "                });\n",
       "            </script>\n",
       "        </div>"
      ]
     },
     "metadata": {},
     "output_type": "display_data"
    },
    {
     "data": {
      "application/vnd.plotly.v1+json": {
       "config": {
        "plotlyServerURL": "https://plot.ly"
       },
       "data": [
        {
         "line": {
          "color": "rgb(0, 255, 0)",
          "width": 2
         },
         "mode": "lines",
         "name": "x",
         "type": "scatter",
         "x": [
          0,
          0.1,
          0.2,
          0.3,
          0.4,
          0.5,
          0.6,
          0.7,
          0.8,
          0.9,
          1,
          1.1,
          1.2,
          1.3,
          1.4,
          1.5,
          1.6,
          1.7,
          1.8,
          1.9,
          2,
          2.1,
          2.2,
          2.3,
          2.4,
          2.5,
          2.6,
          2.7,
          2.8,
          2.9,
          3,
          3.1,
          3.2,
          3.3,
          3.4,
          3.5,
          3.6,
          3.7,
          3.8,
          3.9,
          4,
          4.1,
          4.2,
          4.3,
          4.4,
          4.5,
          4.6,
          4.7,
          4.8,
          4.9,
          5,
          5.1,
          5.2,
          5.3,
          5.4,
          5.5,
          5.6,
          5.7,
          5.8,
          5.9,
          6,
          6.1,
          6.2,
          6.3,
          6.4,
          6.5,
          6.6,
          6.7,
          6.8,
          6.9,
          7,
          7.1,
          7.2,
          7.3,
          7.4,
          7.5,
          7.6,
          7.7,
          7.8,
          7.9,
          8,
          8.1,
          8.2,
          8.3,
          8.4,
          8.5,
          8.6,
          8.7,
          8.8,
          8.9,
          9,
          9.1,
          9.2,
          9.3,
          9.4,
          9.5,
          9.6,
          9.7,
          9.8,
          9.9,
          10,
          10.1,
          10.2,
          10.3,
          10.4,
          10.5,
          10.6,
          10.7,
          10.8,
          10.9
         ],
         "xaxis": "x",
         "y": [
          15,
          15,
          15,
          15,
          15,
          15,
          15,
          15,
          15,
          15,
          15,
          14.997707271386682,
          14.986126120558449,
          14.958853287850387,
          14.914620900345003,
          14.853914464465975,
          14.775078455206604,
          14.673012817182613,
          14.539940422219589,
          14.366757194397307,
          14.144149981301283,
          13.904590016150669,
          13.68493779383649,
          13.472153505155289,
          13.244858734527487,
          12.993475749395435,
          12.720815772119927,
          12.436183076921292,
          12.150063968252603,
          11.871252680843575,
          11.605928524794882,
          11.357775754492252,
          11.128487062010068,
          10.918310287307325,
          10.726512721735462,
          10.5517435591071,
          10.392310815028265,
          10.246391347375008,
          10.112185538082148,
          9.988022965180885,
          9.87242446488037,
          9.764127685143915,
          9.662085158762551,
          9.565444581903995,
          9.473520068674796,
          9.385761140521746,
          9.301723828312559,
          9.22104611753944,
          9.14342837884254,
          9.068618459374594,
          8.996400659868057,
          8.926587718376695,
          8.859015005439183,
          8.793536292028266,
          8.730020614363706,
          8.66834989831557,
          8.608417112478335,
          8.550124795306882,
          8.49338385387491,
          8.438112566142362,
          8.384235740553136,
          8.331684000585556,
          8.28039317061498,
          8.230303745158512,
          8.181360427498982,
          8.133511726532456,
          8.086709602831004,
          8.040909156572278,
          7.996068351289734,
          7.95214776843067,
          7.909110388538317,
          7.866921395545538,
          7.825548001215337,
          7.784959287212731,
          7.745126062663134,
          7.706020735359746,
          7.667617195038816,
          7.629890707356871,
          7.592817817385472,
          7.5563762615929315,
          7.520544887413312,
          7.485303579614801,
          7.450633192775424,
          7.4165154892565,
          7.382933082135453,
          7.349869382621261,
          7.317308551529416,
          7.285235454439932,
          7.253635620202754,
          7.222495202490614,
          7.191800944130806,
          7.161540143974924,
          7.131700626090023,
          7.1022707110762076,
          7.073239189334746,
          7.044595296127782,
          7.016328688285817,
          6.988429422432592,
          6.960887934609003,
          6.933695021188469,
          6.906841820985773,
          6.880319798470094,
          6.854120728000689,
          6.828236679010717,
          6.8026600020710095,
          6.777383315771288,
          6.752399494361532,
          6.727701656100831,
          6.703283152265319,
          6.6791375567706455
         ],
         "yaxis": "y"
        },
        {
         "line": {
          "color": "rgb(0, 0, 255)",
          "width": 2
         },
         "mode": "lines",
         "name": "y",
         "type": "scatter",
         "x": [
          0,
          0.1,
          0.2,
          0.3,
          0.4,
          0.5,
          0.6,
          0.7,
          0.8,
          0.9,
          1,
          1.1,
          1.2,
          1.3,
          1.4,
          1.5,
          1.6,
          1.7,
          1.8,
          1.9,
          2,
          2.1,
          2.2,
          2.3,
          2.4,
          2.5,
          2.6,
          2.7,
          2.8,
          2.9,
          3,
          3.1,
          3.2,
          3.3,
          3.4,
          3.5,
          3.6,
          3.7,
          3.8,
          3.9,
          4,
          4.1,
          4.2,
          4.3,
          4.4,
          4.5,
          4.6,
          4.7,
          4.8,
          4.9,
          5,
          5.1,
          5.2,
          5.3,
          5.4,
          5.5,
          5.6,
          5.7,
          5.8,
          5.9,
          6,
          6.1,
          6.2,
          6.3,
          6.4,
          6.5,
          6.6,
          6.7,
          6.8,
          6.9,
          7,
          7.1,
          7.2,
          7.3,
          7.4,
          7.5,
          7.6,
          7.7,
          7.8,
          7.9,
          8,
          8.1,
          8.2,
          8.3,
          8.4,
          8.5,
          8.6,
          8.7,
          8.8,
          8.9,
          9,
          9.1,
          9.2,
          9.3,
          9.4,
          9.5,
          9.6,
          9.7,
          9.8,
          9.9,
          10,
          10.1,
          10.2,
          10.3,
          10.4,
          10.5,
          10.6,
          10.7,
          10.8,
          10.9
         ],
         "xaxis": "x",
         "y": [
          0,
          0,
          0,
          0,
          0,
          0,
          0,
          0,
          0,
          0,
          0,
          -0.06443822199053582,
          -0.2412746713843692,
          -0.4708780579056503,
          -0.6827642684257149,
          -0.8423184959638487,
          -0.9462816413378787,
          -1.0062209457009963,
          -1.0368535388381757,
          -1.0510874489928927,
          -1.0591618639029532,
          -1.0138341613805257,
          -0.8761738342738987,
          -0.6952010561921776,
          -0.5326814104645586,
          -0.4234486447184147,
          -0.3751147214453824,
          -0.3796653812418135,
          -0.4236310579329464,
          -0.4937364461743607,
          -0.5790080872654054,
          -0.671035037348394,
          -0.7635930378654608,
          -0.8522194351829036,
          -0.9339064733253267,
          -1.006885784191451,
          -1.0704330671772644,
          -1.1246496705151738,
          -1.1702199586169117,
          -1.2081703845106102,
          -1.239661286113158,
          -1.2658321285366507,
          -1.2877055240632962,
          -1.306142697835869,
          -1.321836427238962,
          -1.3353265166632706,
          -1.3470254835540723,
          -1.3572460865208742,
          -1.3662260565872155,
          -1.374148161441822,
          -1.3811554253546063,
          -1.3873621560810576,
          -1.3928616967294813,
          -1.3977317864436203,
          -1.4020382556926443,
          -1.405837599038438,
          -1.4091788059774915,
          -1.4121047038535954,
          -1.4146529760913407,
          -1.4168569582062023,
          -1.4187462756196847,
          -1.4203473641216544,
          -1.4216839001820645,
          -1.422777160223604,
          -1.4236463229390577,
          -1.424308725389142,
          -1.4247800812416702,
          -1.4250746677570842,
          -1.4252054867961323,
          -1.425184404102275,
          -1.425022270312216,
          -1.4247290265162351,
          -1.4243137966868438,
          -1.4237849688919024,
          -1.4231502668853995,
          -1.4224168134084885,
          -1.4215911863215183,
          -1.420679468514125,
          -1.4196872923971056,
          -1.4186198796608562,
          -1.4174820768860472,
          -1.4162783875092935,
          -1.415013000576935,
          -1.413689816661277,
          -1.4123124712638369,
          -1.4108843559878108,
          -1.4094086377258301,
          -1.4078882760781497,
          -1.4063260391898487,
          -1.4047245181727572,
          -1.403086140258052,
          -1.4014131808083603,
          -1.3997077743033426,
          -1.3979719243997848,
          -1.3962075131559433,
          -1.3944163095000028,
          -1.392599977013857,
          -1.3907600810958027,
          -1.388898095559052,
          -1.387015408717056,
          -1.385113329001409,
          -1.3831930901534866,
          -1.3812558560268613,
          -1.3793027250339078,
          -1.3773347342667543,
          -1.3753528633198548,
          -1.3733580378388714,
          -1.3713511328182504,
          -1.3693329756678014,
          -1.3673043490667496
         ],
         "yaxis": "y"
        },
        {
         "line": {
          "color": "rgb(0, 255, 0)",
          "width": 2
         },
         "mode": "lines",
         "name": "Ax",
         "showlegend": false,
         "type": "scatter",
         "x": [
          0,
          0.1,
          0.2,
          0.3,
          0.4,
          0.5,
          0.6,
          0.7,
          0.8,
          0.9,
          1,
          1.1,
          1.2,
          1.3,
          1.4,
          1.5,
          1.6,
          1.7,
          1.8,
          1.9,
          2,
          2.1,
          2.2,
          2.3,
          2.4,
          2.5,
          2.6,
          2.7,
          2.8,
          2.9,
          3,
          3.1,
          3.2,
          3.3,
          3.4,
          3.5,
          3.6,
          3.7,
          3.8,
          3.9,
          4,
          4.1,
          4.2,
          4.3,
          4.4,
          4.5,
          4.6,
          4.7,
          4.8,
          4.9,
          5,
          5.1,
          5.2,
          5.3,
          5.4,
          5.5,
          5.6,
          5.7,
          5.8,
          5.9,
          6,
          6.1,
          6.2,
          6.3,
          6.4,
          6.5,
          6.6,
          6.7,
          6.8,
          6.9,
          7,
          7.1,
          7.2,
          7.3,
          7.4,
          7.5,
          7.6,
          7.7,
          7.8,
          7.9,
          8,
          8.1,
          8.2,
          8.3,
          8.4,
          8.5,
          8.6,
          8.7,
          8.8,
          8.9,
          9,
          9.1,
          9.2,
          9.3,
          9.4,
          9.5,
          9.6,
          9.7,
          9.8,
          9.9,
          10,
          10.1,
          10.2,
          10.3,
          10.4,
          10.5,
          10.6,
          10.7,
          10.8,
          10.9
         ],
         "xaxis": "x2",
         "y": [
          0,
          0,
          0,
          0,
          0,
          0,
          0,
          0,
          0,
          0,
          0,
          -0.0020886188045302597,
          -0.008461521869535988,
          -0.016383351141602123,
          -0.023911254934497615,
          -0.03139079991686474,
          -0.04042684585980695,
          -0.05255241458779973,
          -0.06867323107705554,
          -0.08909238678015341,
          -0.11369725373633432,
          -0.10453592271549902,
          -0.09556179461464741,
          -0.09827940580774958,
          -0.1087804831591319,
          -0.12022317075616219,
          -0.1281632943809014,
          -0.1311300193252982,
          -0.12951738012259312,
          -0.1244727757185235,
          -0.11723093853733917,
          -0.10883006992213727,
          -0.10004623231565611,
          -0.091419587655321,
          -0.08330322942373738,
          -0.07590713563970243,
          -0.06933213315415068,
          -0.06359687654957927,
          -0.05866128141039345,
          -0.05444773771823756,
          -0.05085962404310257,
          -0.04779605169358391,
          -0.045162154621793446,
          -0.04287500988822986,
          -0.04086593782473233,
          -0.03908026537665624,
          -0.037475638162379234,
          -0.03601975193675745,
          -0.03468807962509586,
          -0.03346189837866173,
          -0.0323267227407511,
          -0.0312711324748611,
          -0.030285930186046108,
          -0.02936355093096494,
          -0.02849765339218997,
          -0.027682836735958494,
          -0.026914442148451397,
          -0.026188410538413944,
          -0.025501177393282136,
          -0.02484959253137465,
          -0.024230857025736297,
          -0.023642472451438818,
          -0.023082199345419392,
          -0.022548022787647632,
          -0.022038123617137678,
          -0.021550854175763978,
          -0.021084717730577813,
          -0.020638350911836276,
          -0.020210508643286607,
          -0.019800051146715222,
          -0.019405932683544107,
          -0.019027191759138702,
          -0.018662942565256465,
          -0.0183123674758632,
          -0.017974710443488483,
          -0.017649271168971612,
          -0.017335399938169786,
          -0.017032493036039674,
          -0.016739988662315502,
          -0.01645736328442064,
          -0.016184128372736792,
          -0.01591982747126511,
          -0.015664033563336975,
          -0.015416346697594712,
          -0.01517639184416077,
          -0.014943816954894858,
          -0.014718291205028416,
          -0.014499503396358294,
          -0.014287160504661897,
          -0.014080986356122812,
          -0.013880720419392074,
          -0.01368611670149502,
          -0.013496942737168172,
          -0.013312978662404279,
          -0.013134016364023914,
          -0.01295985869800036,
          -0.012790318770058645,
          -0.012625219272767376,
          -0.012464391873954619,
          -0.012307676651819026,
          -0.012154921572584063,
          -0.012005982006963414,
          -0.011860720282081173,
          -0.011719005265819895,
          -0.01158071198086486,
          -0.011445721245975975,
          -0.01131391934225136,
          -0.011185197702358098,
          -0.011059452620890434,
          -0.01093658498418538
         ],
         "yaxis": "y2"
        },
        {
         "line": {
          "color": "rgb(0, 0, 255)",
          "width": 2
         },
         "mode": "lines",
         "name": "Ay",
         "showlegend": false,
         "type": "scatter",
         "x": [
          0,
          0.1,
          0.2,
          0.3,
          0.4,
          0.5,
          0.6,
          0.7,
          0.8,
          0.9,
          1,
          1.1,
          1.2,
          1.3,
          1.4,
          1.5,
          1.6,
          1.7,
          1.8,
          1.9,
          2,
          2.1,
          2.2,
          2.3,
          2.4,
          2.5,
          2.6,
          2.7,
          2.8,
          2.9,
          3,
          3.1,
          3.2,
          3.3,
          3.4,
          3.5,
          3.6,
          3.7,
          3.8,
          3.9,
          4,
          4.1,
          4.2,
          4.3,
          4.4,
          4.5,
          4.6,
          4.7,
          4.8,
          4.9,
          5,
          5.1,
          5.2,
          5.3,
          5.4,
          5.5,
          5.6,
          5.7,
          5.8,
          5.9,
          6,
          6.1,
          6.2,
          6.3,
          6.4,
          6.5,
          6.6,
          6.7,
          6.8,
          6.9,
          7,
          7.1,
          7.2,
          7.3,
          7.4,
          7.5,
          7.6,
          7.7,
          7.8,
          7.9,
          8,
          8.1,
          8.2,
          8.3,
          8.4,
          8.5,
          8.6,
          8.7,
          8.8,
          8.9,
          9,
          9.1,
          9.2,
          9.3,
          9.4,
          9.5,
          9.6,
          9.7,
          9.8,
          9.9,
          10,
          10.1,
          10.2,
          10.3,
          10.4,
          10.5,
          10.6,
          10.7,
          10.8,
          10.9
         ],
         "xaxis": "x2",
         "y": [
          0,
          0,
          0,
          0,
          0,
          0,
          0,
          0,
          0,
          0,
          0,
          -0.05870161928376345,
          -0.10239199266185986,
          -0.10677098802706396,
          -0.08625208550303734,
          -0.059097851704015235,
          -0.03560999079643739,
          -0.018993226303099183,
          -0.008912304986656574,
          -0.004054433526771254,
          -0.0033011578497121677,
          0.04459356869354358,
          0.08081156916824327,
          0.08405013544611555,
          0.06400122405657205,
          0.035507111680630955,
          0.0085238915782872,
          -0.012669429592965194,
          -0.02738220955770804,
          -0.03648205738144419,
          -0.04119828910240826,
          -0.04263597603934133,
          -0.04168206285405402,
          -0.03905438320406626,
          -0.035360479052050225,
          -0.031121859996408506,
          -0.026768135989183414,
          -0.022621842655295675,
          -0.01889155762431671,
          -0.01568033749711852,
          -0.013007091480153948,
          -0.010833895760382862,
          -0.009092224125993097,
          -0.007703583114391577,
          -0.006593014465505394,
          -0.005696121842538656,
          -0.004961346337419102,
          -0.004349369037313447,
          -0.0038311605882770917,
          -0.003385680111788516,
          -0.0029977632192446984,
          -0.002656414268062446,
          -0.0023535306281012827,
          -0.0020830001054616826,
          -0.0018400863873743612,
          -0.001621021007020058,
          -0.0014227355031051613,
          -0.0012426847689106994,
          -0.0010787279285638738,
          -0.0009290450207554083,
          -0.0007920762033639961,
          -0.0006664756433341478,
          -0.0005510755018342889,
          -0.00044485723426801113,
          -0.0003469284054056096,
          -0.00025650376941764797,
          -0.00017288970153104898,
          -9.547129509154971e-05,
          -2.370159931902421e-05,
          4.290740962945206e-05,
          0.0001047924449455892,
          0.0001623453676327709,
          0.00021591869067388685,
          0.0002658302919389399,
          0.00031236746699136314,
          0.00035579042802803953,
          0.0003963353357273664,
          0.0004342169354337767,
          0.0004696308568328062,
          0.0005027556263193094,
          0.0005337544331397499,
          0.0005627766837569263,
          0.0005899593734369016,
          0.0006154282995929901,
          0.0006392991377135655,
          0.0006616783976213146,
          0.0006826642752351836,
          0.0007023474128415338,
          0.0007208115790616664,
          0.0007381342781666842,
          0.0007543872970884869,
          0.0007696371973705699,
          0.0007839457583525896,
          0.0007973703770827922,
          0.0008099644297527603,
          0.0008217775988547619,
          0.0008328561697511442,
          0.0008432432998967155,
          0.0008529792635729147,
          0.0008621016746570826,
          0.0008706456896583377,
          0.0008786441930016631,
          0.0008861279663135541,
          0.0008931258432734438,
          0.0008996648514228899,
          0.0009057703421728831,
          0.0009114661101212135,
          0.0009167745026703464,
          0.0009217165208382113,
          0.0009263119120592205
         ],
         "yaxis": "y2"
        }
       ],
       "layout": {
        "autosize": false,
        "font": {
         "color": "black",
         "family": "Arial",
         "size": 14
        },
        "height": 500,
        "legend": {
         "orientation": "h",
         "x": 0.01,
         "xanchor": "left",
         "y": 1.1,
         "yanchor": "top"
        },
        "template": {
         "data": {
          "bar": [
           {
            "error_x": {
             "color": "#2a3f5f"
            },
            "error_y": {
             "color": "#2a3f5f"
            },
            "marker": {
             "line": {
              "color": "white",
              "width": 0.5
             }
            },
            "type": "bar"
           }
          ],
          "barpolar": [
           {
            "marker": {
             "line": {
              "color": "white",
              "width": 0.5
             }
            },
            "type": "barpolar"
           }
          ],
          "carpet": [
           {
            "aaxis": {
             "endlinecolor": "#2a3f5f",
             "gridcolor": "#C8D4E3",
             "linecolor": "#C8D4E3",
             "minorgridcolor": "#C8D4E3",
             "startlinecolor": "#2a3f5f"
            },
            "baxis": {
             "endlinecolor": "#2a3f5f",
             "gridcolor": "#C8D4E3",
             "linecolor": "#C8D4E3",
             "minorgridcolor": "#C8D4E3",
             "startlinecolor": "#2a3f5f"
            },
            "type": "carpet"
           }
          ],
          "choropleth": [
           {
            "colorbar": {
             "outlinewidth": 0,
             "ticks": ""
            },
            "type": "choropleth"
           }
          ],
          "contour": [
           {
            "colorbar": {
             "outlinewidth": 0,
             "ticks": ""
            },
            "colorscale": [
             [
              0,
              "#0d0887"
             ],
             [
              0.1111111111111111,
              "#46039f"
             ],
             [
              0.2222222222222222,
              "#7201a8"
             ],
             [
              0.3333333333333333,
              "#9c179e"
             ],
             [
              0.4444444444444444,
              "#bd3786"
             ],
             [
              0.5555555555555556,
              "#d8576b"
             ],
             [
              0.6666666666666666,
              "#ed7953"
             ],
             [
              0.7777777777777778,
              "#fb9f3a"
             ],
             [
              0.8888888888888888,
              "#fdca26"
             ],
             [
              1,
              "#f0f921"
             ]
            ],
            "type": "contour"
           }
          ],
          "contourcarpet": [
           {
            "colorbar": {
             "outlinewidth": 0,
             "ticks": ""
            },
            "type": "contourcarpet"
           }
          ],
          "heatmap": [
           {
            "colorbar": {
             "outlinewidth": 0,
             "ticks": ""
            },
            "colorscale": [
             [
              0,
              "#0d0887"
             ],
             [
              0.1111111111111111,
              "#46039f"
             ],
             [
              0.2222222222222222,
              "#7201a8"
             ],
             [
              0.3333333333333333,
              "#9c179e"
             ],
             [
              0.4444444444444444,
              "#bd3786"
             ],
             [
              0.5555555555555556,
              "#d8576b"
             ],
             [
              0.6666666666666666,
              "#ed7953"
             ],
             [
              0.7777777777777778,
              "#fb9f3a"
             ],
             [
              0.8888888888888888,
              "#fdca26"
             ],
             [
              1,
              "#f0f921"
             ]
            ],
            "type": "heatmap"
           }
          ],
          "heatmapgl": [
           {
            "colorbar": {
             "outlinewidth": 0,
             "ticks": ""
            },
            "colorscale": [
             [
              0,
              "#0d0887"
             ],
             [
              0.1111111111111111,
              "#46039f"
             ],
             [
              0.2222222222222222,
              "#7201a8"
             ],
             [
              0.3333333333333333,
              "#9c179e"
             ],
             [
              0.4444444444444444,
              "#bd3786"
             ],
             [
              0.5555555555555556,
              "#d8576b"
             ],
             [
              0.6666666666666666,
              "#ed7953"
             ],
             [
              0.7777777777777778,
              "#fb9f3a"
             ],
             [
              0.8888888888888888,
              "#fdca26"
             ],
             [
              1,
              "#f0f921"
             ]
            ],
            "type": "heatmapgl"
           }
          ],
          "histogram": [
           {
            "marker": {
             "colorbar": {
              "outlinewidth": 0,
              "ticks": ""
             }
            },
            "type": "histogram"
           }
          ],
          "histogram2d": [
           {
            "colorbar": {
             "outlinewidth": 0,
             "ticks": ""
            },
            "colorscale": [
             [
              0,
              "#0d0887"
             ],
             [
              0.1111111111111111,
              "#46039f"
             ],
             [
              0.2222222222222222,
              "#7201a8"
             ],
             [
              0.3333333333333333,
              "#9c179e"
             ],
             [
              0.4444444444444444,
              "#bd3786"
             ],
             [
              0.5555555555555556,
              "#d8576b"
             ],
             [
              0.6666666666666666,
              "#ed7953"
             ],
             [
              0.7777777777777778,
              "#fb9f3a"
             ],
             [
              0.8888888888888888,
              "#fdca26"
             ],
             [
              1,
              "#f0f921"
             ]
            ],
            "type": "histogram2d"
           }
          ],
          "histogram2dcontour": [
           {
            "colorbar": {
             "outlinewidth": 0,
             "ticks": ""
            },
            "colorscale": [
             [
              0,
              "#0d0887"
             ],
             [
              0.1111111111111111,
              "#46039f"
             ],
             [
              0.2222222222222222,
              "#7201a8"
             ],
             [
              0.3333333333333333,
              "#9c179e"
             ],
             [
              0.4444444444444444,
              "#bd3786"
             ],
             [
              0.5555555555555556,
              "#d8576b"
             ],
             [
              0.6666666666666666,
              "#ed7953"
             ],
             [
              0.7777777777777778,
              "#fb9f3a"
             ],
             [
              0.8888888888888888,
              "#fdca26"
             ],
             [
              1,
              "#f0f921"
             ]
            ],
            "type": "histogram2dcontour"
           }
          ],
          "mesh3d": [
           {
            "colorbar": {
             "outlinewidth": 0,
             "ticks": ""
            },
            "type": "mesh3d"
           }
          ],
          "parcoords": [
           {
            "line": {
             "colorbar": {
              "outlinewidth": 0,
              "ticks": ""
             }
            },
            "type": "parcoords"
           }
          ],
          "pie": [
           {
            "automargin": true,
            "type": "pie"
           }
          ],
          "scatter": [
           {
            "marker": {
             "colorbar": {
              "outlinewidth": 0,
              "ticks": ""
             }
            },
            "type": "scatter"
           }
          ],
          "scatter3d": [
           {
            "line": {
             "colorbar": {
              "outlinewidth": 0,
              "ticks": ""
             }
            },
            "marker": {
             "colorbar": {
              "outlinewidth": 0,
              "ticks": ""
             }
            },
            "type": "scatter3d"
           }
          ],
          "scattercarpet": [
           {
            "marker": {
             "colorbar": {
              "outlinewidth": 0,
              "ticks": ""
             }
            },
            "type": "scattercarpet"
           }
          ],
          "scattergeo": [
           {
            "marker": {
             "colorbar": {
              "outlinewidth": 0,
              "ticks": ""
             }
            },
            "type": "scattergeo"
           }
          ],
          "scattergl": [
           {
            "marker": {
             "colorbar": {
              "outlinewidth": 0,
              "ticks": ""
             }
            },
            "type": "scattergl"
           }
          ],
          "scattermapbox": [
           {
            "marker": {
             "colorbar": {
              "outlinewidth": 0,
              "ticks": ""
             }
            },
            "type": "scattermapbox"
           }
          ],
          "scatterpolar": [
           {
            "marker": {
             "colorbar": {
              "outlinewidth": 0,
              "ticks": ""
             }
            },
            "type": "scatterpolar"
           }
          ],
          "scatterpolargl": [
           {
            "marker": {
             "colorbar": {
              "outlinewidth": 0,
              "ticks": ""
             }
            },
            "type": "scatterpolargl"
           }
          ],
          "scatterternary": [
           {
            "marker": {
             "colorbar": {
              "outlinewidth": 0,
              "ticks": ""
             }
            },
            "type": "scatterternary"
           }
          ],
          "surface": [
           {
            "colorbar": {
             "outlinewidth": 0,
             "ticks": ""
            },
            "colorscale": [
             [
              0,
              "#0d0887"
             ],
             [
              0.1111111111111111,
              "#46039f"
             ],
             [
              0.2222222222222222,
              "#7201a8"
             ],
             [
              0.3333333333333333,
              "#9c179e"
             ],
             [
              0.4444444444444444,
              "#bd3786"
             ],
             [
              0.5555555555555556,
              "#d8576b"
             ],
             [
              0.6666666666666666,
              "#ed7953"
             ],
             [
              0.7777777777777778,
              "#fb9f3a"
             ],
             [
              0.8888888888888888,
              "#fdca26"
             ],
             [
              1,
              "#f0f921"
             ]
            ],
            "type": "surface"
           }
          ],
          "table": [
           {
            "cells": {
             "fill": {
              "color": "#EBF0F8"
             },
             "line": {
              "color": "white"
             }
            },
            "header": {
             "fill": {
              "color": "#C8D4E3"
             },
             "line": {
              "color": "white"
             }
            },
            "type": "table"
           }
          ]
         },
         "layout": {
          "annotationdefaults": {
           "arrowcolor": "#2a3f5f",
           "arrowhead": 0,
           "arrowwidth": 1
          },
          "coloraxis": {
           "colorbar": {
            "outlinewidth": 0,
            "ticks": ""
           }
          },
          "colorscale": {
           "diverging": [
            [
             0,
             "#8e0152"
            ],
            [
             0.1,
             "#c51b7d"
            ],
            [
             0.2,
             "#de77ae"
            ],
            [
             0.3,
             "#f1b6da"
            ],
            [
             0.4,
             "#fde0ef"
            ],
            [
             0.5,
             "#f7f7f7"
            ],
            [
             0.6,
             "#e6f5d0"
            ],
            [
             0.7,
             "#b8e186"
            ],
            [
             0.8,
             "#7fbc41"
            ],
            [
             0.9,
             "#4d9221"
            ],
            [
             1,
             "#276419"
            ]
           ],
           "sequential": [
            [
             0,
             "#0d0887"
            ],
            [
             0.1111111111111111,
             "#46039f"
            ],
            [
             0.2222222222222222,
             "#7201a8"
            ],
            [
             0.3333333333333333,
             "#9c179e"
            ],
            [
             0.4444444444444444,
             "#bd3786"
            ],
            [
             0.5555555555555556,
             "#d8576b"
            ],
            [
             0.6666666666666666,
             "#ed7953"
            ],
            [
             0.7777777777777778,
             "#fb9f3a"
            ],
            [
             0.8888888888888888,
             "#fdca26"
            ],
            [
             1,
             "#f0f921"
            ]
           ],
           "sequentialminus": [
            [
             0,
             "#0d0887"
            ],
            [
             0.1111111111111111,
             "#46039f"
            ],
            [
             0.2222222222222222,
             "#7201a8"
            ],
            [
             0.3333333333333333,
             "#9c179e"
            ],
            [
             0.4444444444444444,
             "#bd3786"
            ],
            [
             0.5555555555555556,
             "#d8576b"
            ],
            [
             0.6666666666666666,
             "#ed7953"
            ],
            [
             0.7777777777777778,
             "#fb9f3a"
            ],
            [
             0.8888888888888888,
             "#fdca26"
            ],
            [
             1,
             "#f0f921"
            ]
           ]
          },
          "colorway": [
           "#636efa",
           "#EF553B",
           "#00cc96",
           "#ab63fa",
           "#FFA15A",
           "#19d3f3",
           "#FF6692",
           "#B6E880",
           "#FF97FF",
           "#FECB52"
          ],
          "font": {
           "color": "#2a3f5f"
          },
          "geo": {
           "bgcolor": "white",
           "lakecolor": "white",
           "landcolor": "white",
           "showlakes": true,
           "showland": true,
           "subunitcolor": "#C8D4E3"
          },
          "hoverlabel": {
           "align": "left"
          },
          "hovermode": "closest",
          "mapbox": {
           "style": "light"
          },
          "paper_bgcolor": "white",
          "plot_bgcolor": "white",
          "polar": {
           "angularaxis": {
            "gridcolor": "#EBF0F8",
            "linecolor": "#EBF0F8",
            "ticks": ""
           },
           "bgcolor": "white",
           "radialaxis": {
            "gridcolor": "#EBF0F8",
            "linecolor": "#EBF0F8",
            "ticks": ""
           }
          },
          "scene": {
           "xaxis": {
            "backgroundcolor": "white",
            "gridcolor": "#DFE8F3",
            "gridwidth": 2,
            "linecolor": "#EBF0F8",
            "showbackground": true,
            "ticks": "",
            "zerolinecolor": "#EBF0F8"
           },
           "yaxis": {
            "backgroundcolor": "white",
            "gridcolor": "#DFE8F3",
            "gridwidth": 2,
            "linecolor": "#EBF0F8",
            "showbackground": true,
            "ticks": "",
            "zerolinecolor": "#EBF0F8"
           },
           "zaxis": {
            "backgroundcolor": "white",
            "gridcolor": "#DFE8F3",
            "gridwidth": 2,
            "linecolor": "#EBF0F8",
            "showbackground": true,
            "ticks": "",
            "zerolinecolor": "#EBF0F8"
           }
          },
          "shapedefaults": {
           "line": {
            "color": "#2a3f5f"
           }
          },
          "ternary": {
           "aaxis": {
            "gridcolor": "#DFE8F3",
            "linecolor": "#A2B1C6",
            "ticks": ""
           },
           "baxis": {
            "gridcolor": "#DFE8F3",
            "linecolor": "#A2B1C6",
            "ticks": ""
           },
           "bgcolor": "white",
           "caxis": {
            "gridcolor": "#DFE8F3",
            "linecolor": "#A2B1C6",
            "ticks": ""
           }
          },
          "title": {
           "x": 0.05
          },
          "xaxis": {
           "automargin": true,
           "gridcolor": "#EBF0F8",
           "linecolor": "#EBF0F8",
           "ticks": "",
           "title": {
            "standoff": 15
           },
           "zerolinecolor": "#EBF0F8",
           "zerolinewidth": 2
          },
          "yaxis": {
           "automargin": true,
           "gridcolor": "#EBF0F8",
           "linecolor": "#EBF0F8",
           "ticks": "",
           "title": {
            "standoff": 15
           },
           "zerolinecolor": "#EBF0F8",
           "zerolinewidth": 2
          }
         }
        },
        "title": {
         "text": "Veh1 - Vehicle Frame Velocity | Acceleration"
        },
        "width": 900,
        "xaxis": {
         "anchor": "y",
         "domain": [
          0,
          1
         ],
         "linecolor": "black",
         "linewidth": 1,
         "matches": "x2",
         "showgrid": false,
         "showline": true,
         "showticklabels": false,
         "tickcolor": "black",
         "ticklen": 10,
         "ticks": "outside",
         "tickwidth": 1,
         "title": {
          "text": ""
         },
         "zeroline": false
        },
        "xaxis2": {
         "anchor": "y2",
         "domain": [
          0,
          1
         ],
         "linecolor": "black",
         "linewidth": 1,
         "showgrid": false,
         "showline": true,
         "tickcolor": "black",
         "ticklen": 10,
         "ticks": "outside",
         "tickwidth": 1,
         "title": {
          "text": "Time (s)"
         },
         "zeroline": false
        },
        "yaxis": {
         "anchor": "x",
         "domain": [
          0.525,
          1
         ],
         "linecolor": "black",
         "linewidth": 1,
         "showgrid": false,
         "showline": true,
         "tickcolor": "black",
         "ticklen": 10,
         "ticks": "outside",
         "tickwidth": 1,
         "title": {
          "text": "Velocity (mph)"
         },
         "zeroline": false
        },
        "yaxis2": {
         "anchor": "x2",
         "domain": [
          0,
          0.475
         ],
         "linecolor": "black",
         "linewidth": 1,
         "showgrid": false,
         "showline": true,
         "tickcolor": "black",
         "ticklen": 10,
         "ticks": "outside",
         "tickwidth": 1,
         "title": {
          "text": "Acceleration (g)"
         },
         "zeroline": false
        }
       }
      },
      "text/html": [
       "<div>\n",
       "        \n",
       "        \n",
       "            <div id=\"523a6906-4fd1-4e81-a6bc-436e9a4c9eaa\" class=\"plotly-graph-div\" style=\"height:500px; width:900px;\"></div>\n",
       "            <script type=\"text/javascript\">\n",
       "                require([\"plotly\"], function(Plotly) {\n",
       "                    window.PLOTLYENV=window.PLOTLYENV || {};\n",
       "                    \n",
       "                if (document.getElementById(\"523a6906-4fd1-4e81-a6bc-436e9a4c9eaa\")) {\n",
       "                    Plotly.newPlot(\n",
       "                        '523a6906-4fd1-4e81-a6bc-436e9a4c9eaa',\n",
       "                        [{\"line\": {\"color\": \"rgb(0, 255, 0)\", \"width\": 2}, \"mode\": \"lines\", \"name\": \"x\", \"type\": \"scatter\", \"x\": [0.0, 0.1, 0.2, 0.3, 0.4, 0.5, 0.6, 0.7, 0.8, 0.9, 1.0, 1.1, 1.2, 1.3, 1.4, 1.5, 1.6, 1.7, 1.8, 1.9, 2.0, 2.1, 2.2, 2.3, 2.4, 2.5, 2.6, 2.7, 2.8, 2.9, 3.0, 3.1, 3.2, 3.3, 3.4, 3.5, 3.6, 3.7, 3.8, 3.9, 4.0, 4.1, 4.2, 4.3, 4.4, 4.5, 4.6, 4.7, 4.8, 4.9, 5.0, 5.1, 5.2, 5.3, 5.4, 5.5, 5.6, 5.7, 5.8, 5.9, 6.0, 6.1, 6.2, 6.3, 6.4, 6.5, 6.6, 6.7, 6.8, 6.9, 7.0, 7.1, 7.2, 7.3, 7.4, 7.5, 7.6, 7.7, 7.8, 7.9, 8.0, 8.1, 8.2, 8.3, 8.4, 8.5, 8.6, 8.7, 8.8, 8.9, 9.0, 9.1, 9.2, 9.3, 9.4, 9.5, 9.6, 9.7, 9.8, 9.9, 10.0, 10.1, 10.2, 10.3, 10.4, 10.5, 10.6, 10.7, 10.8, 10.9], \"xaxis\": \"x\", \"y\": [15.0, 15.0, 15.0, 15.0, 15.0, 15.0, 15.0, 15.0, 15.0, 15.0, 15.0, 14.997707271386682, 14.986126120558449, 14.958853287850387, 14.914620900345003, 14.853914464465975, 14.775078455206604, 14.673012817182613, 14.539940422219589, 14.366757194397307, 14.144149981301283, 13.904590016150669, 13.68493779383649, 13.472153505155289, 13.244858734527487, 12.993475749395435, 12.720815772119927, 12.436183076921292, 12.150063968252603, 11.871252680843575, 11.605928524794882, 11.357775754492252, 11.128487062010068, 10.918310287307325, 10.726512721735462, 10.5517435591071, 10.392310815028265, 10.246391347375008, 10.112185538082148, 9.988022965180885, 9.87242446488037, 9.764127685143915, 9.662085158762551, 9.565444581903995, 9.473520068674796, 9.385761140521746, 9.301723828312559, 9.22104611753944, 9.14342837884254, 9.068618459374594, 8.996400659868057, 8.926587718376695, 8.859015005439183, 8.793536292028266, 8.730020614363706, 8.66834989831557, 8.608417112478335, 8.550124795306882, 8.49338385387491, 8.438112566142362, 8.384235740553136, 8.331684000585556, 8.28039317061498, 8.230303745158512, 8.181360427498982, 8.133511726532456, 8.086709602831004, 8.040909156572278, 7.996068351289734, 7.95214776843067, 7.909110388538317, 7.866921395545538, 7.825548001215337, 7.784959287212731, 7.745126062663134, 7.706020735359746, 7.667617195038816, 7.629890707356871, 7.592817817385472, 7.5563762615929315, 7.520544887413312, 7.485303579614801, 7.450633192775424, 7.4165154892565, 7.382933082135453, 7.349869382621261, 7.317308551529416, 7.285235454439932, 7.253635620202754, 7.222495202490614, 7.191800944130806, 7.161540143974924, 7.131700626090023, 7.1022707110762076, 7.073239189334746, 7.044595296127782, 7.016328688285817, 6.988429422432592, 6.960887934609003, 6.933695021188469, 6.906841820985773, 6.880319798470094, 6.854120728000689, 6.828236679010717, 6.8026600020710095, 6.777383315771288, 6.752399494361532, 6.727701656100831, 6.703283152265319, 6.6791375567706455], \"yaxis\": \"y\"}, {\"line\": {\"color\": \"rgb(0, 0, 255)\", \"width\": 2}, \"mode\": \"lines\", \"name\": \"y\", \"type\": \"scatter\", \"x\": [0.0, 0.1, 0.2, 0.3, 0.4, 0.5, 0.6, 0.7, 0.8, 0.9, 1.0, 1.1, 1.2, 1.3, 1.4, 1.5, 1.6, 1.7, 1.8, 1.9, 2.0, 2.1, 2.2, 2.3, 2.4, 2.5, 2.6, 2.7, 2.8, 2.9, 3.0, 3.1, 3.2, 3.3, 3.4, 3.5, 3.6, 3.7, 3.8, 3.9, 4.0, 4.1, 4.2, 4.3, 4.4, 4.5, 4.6, 4.7, 4.8, 4.9, 5.0, 5.1, 5.2, 5.3, 5.4, 5.5, 5.6, 5.7, 5.8, 5.9, 6.0, 6.1, 6.2, 6.3, 6.4, 6.5, 6.6, 6.7, 6.8, 6.9, 7.0, 7.1, 7.2, 7.3, 7.4, 7.5, 7.6, 7.7, 7.8, 7.9, 8.0, 8.1, 8.2, 8.3, 8.4, 8.5, 8.6, 8.7, 8.8, 8.9, 9.0, 9.1, 9.2, 9.3, 9.4, 9.5, 9.6, 9.7, 9.8, 9.9, 10.0, 10.1, 10.2, 10.3, 10.4, 10.5, 10.6, 10.7, 10.8, 10.9], \"xaxis\": \"x\", \"y\": [0.0, 0.0, 0.0, 0.0, 0.0, 0.0, 0.0, 0.0, 0.0, 0.0, 0.0, -0.06443822199053582, -0.2412746713843692, -0.4708780579056503, -0.6827642684257149, -0.8423184959638487, -0.9462816413378787, -1.0062209457009963, -1.0368535388381757, -1.0510874489928927, -1.0591618639029532, -1.0138341613805257, -0.8761738342738987, -0.6952010561921776, -0.5326814104645586, -0.4234486447184147, -0.3751147214453824, -0.3796653812418135, -0.4236310579329464, -0.4937364461743607, -0.5790080872654054, -0.671035037348394, -0.7635930378654608, -0.8522194351829036, -0.9339064733253267, -1.006885784191451, -1.0704330671772644, -1.1246496705151738, -1.1702199586169117, -1.2081703845106102, -1.239661286113158, -1.2658321285366507, -1.2877055240632962, -1.306142697835869, -1.321836427238962, -1.3353265166632706, -1.3470254835540723, -1.3572460865208742, -1.3662260565872155, -1.374148161441822, -1.3811554253546063, -1.3873621560810576, -1.3928616967294813, -1.3977317864436203, -1.4020382556926443, -1.405837599038438, -1.4091788059774915, -1.4121047038535954, -1.4146529760913407, -1.4168569582062023, -1.4187462756196847, -1.4203473641216544, -1.4216839001820645, -1.422777160223604, -1.4236463229390577, -1.424308725389142, -1.4247800812416702, -1.4250746677570842, -1.4252054867961323, -1.425184404102275, -1.425022270312216, -1.4247290265162351, -1.4243137966868438, -1.4237849688919024, -1.4231502668853995, -1.4224168134084885, -1.4215911863215183, -1.420679468514125, -1.4196872923971056, -1.4186198796608562, -1.4174820768860472, -1.4162783875092935, -1.415013000576935, -1.413689816661277, -1.4123124712638369, -1.4108843559878108, -1.4094086377258301, -1.4078882760781497, -1.4063260391898487, -1.4047245181727572, -1.403086140258052, -1.4014131808083603, -1.3997077743033426, -1.3979719243997848, -1.3962075131559433, -1.3944163095000028, -1.392599977013857, -1.3907600810958027, -1.388898095559052, -1.387015408717056, -1.385113329001409, -1.3831930901534866, -1.3812558560268613, -1.3793027250339078, -1.3773347342667543, -1.3753528633198548, -1.3733580378388714, -1.3713511328182504, -1.3693329756678014, -1.3673043490667496], \"yaxis\": \"y\"}, {\"line\": {\"color\": \"rgb(0, 255, 0)\", \"width\": 2}, \"mode\": \"lines\", \"name\": \"Ax\", \"showlegend\": false, \"type\": \"scatter\", \"x\": [0.0, 0.1, 0.2, 0.3, 0.4, 0.5, 0.6, 0.7, 0.8, 0.9, 1.0, 1.1, 1.2, 1.3, 1.4, 1.5, 1.6, 1.7, 1.8, 1.9, 2.0, 2.1, 2.2, 2.3, 2.4, 2.5, 2.6, 2.7, 2.8, 2.9, 3.0, 3.1, 3.2, 3.3, 3.4, 3.5, 3.6, 3.7, 3.8, 3.9, 4.0, 4.1, 4.2, 4.3, 4.4, 4.5, 4.6, 4.7, 4.8, 4.9, 5.0, 5.1, 5.2, 5.3, 5.4, 5.5, 5.6, 5.7, 5.8, 5.9, 6.0, 6.1, 6.2, 6.3, 6.4, 6.5, 6.6, 6.7, 6.8, 6.9, 7.0, 7.1, 7.2, 7.3, 7.4, 7.5, 7.6, 7.7, 7.8, 7.9, 8.0, 8.1, 8.2, 8.3, 8.4, 8.5, 8.6, 8.7, 8.8, 8.9, 9.0, 9.1, 9.2, 9.3, 9.4, 9.5, 9.6, 9.7, 9.8, 9.9, 10.0, 10.1, 10.2, 10.3, 10.4, 10.5, 10.6, 10.7, 10.8, 10.9], \"xaxis\": \"x2\", \"y\": [0.0, 0.0, 0.0, 0.0, 0.0, 0.0, 0.0, 0.0, 0.0, 0.0, 0.0, -0.0020886188045302597, -0.008461521869535988, -0.016383351141602123, -0.023911254934497615, -0.03139079991686474, -0.04042684585980695, -0.05255241458779973, -0.06867323107705554, -0.08909238678015341, -0.11369725373633432, -0.10453592271549902, -0.09556179461464741, -0.09827940580774958, -0.1087804831591319, -0.12022317075616219, -0.1281632943809014, -0.1311300193252982, -0.12951738012259312, -0.1244727757185235, -0.11723093853733917, -0.10883006992213727, -0.10004623231565611, -0.091419587655321, -0.08330322942373738, -0.07590713563970243, -0.06933213315415068, -0.06359687654957927, -0.05866128141039345, -0.05444773771823756, -0.05085962404310257, -0.04779605169358391, -0.045162154621793446, -0.04287500988822986, -0.04086593782473233, -0.03908026537665624, -0.037475638162379234, -0.03601975193675745, -0.03468807962509586, -0.03346189837866173, -0.0323267227407511, -0.0312711324748611, -0.030285930186046108, -0.02936355093096494, -0.02849765339218997, -0.027682836735958494, -0.026914442148451397, -0.026188410538413944, -0.025501177393282136, -0.02484959253137465, -0.024230857025736297, -0.023642472451438818, -0.023082199345419392, -0.022548022787647632, -0.022038123617137678, -0.021550854175763978, -0.021084717730577813, -0.020638350911836276, -0.020210508643286607, -0.019800051146715222, -0.019405932683544107, -0.019027191759138702, -0.018662942565256465, -0.0183123674758632, -0.017974710443488483, -0.017649271168971612, -0.017335399938169786, -0.017032493036039674, -0.016739988662315502, -0.01645736328442064, -0.016184128372736792, -0.01591982747126511, -0.015664033563336975, -0.015416346697594712, -0.01517639184416077, -0.014943816954894858, -0.014718291205028416, -0.014499503396358294, -0.014287160504661897, -0.014080986356122812, -0.013880720419392074, -0.01368611670149502, -0.013496942737168172, -0.013312978662404279, -0.013134016364023914, -0.01295985869800036, -0.012790318770058645, -0.012625219272767376, -0.012464391873954619, -0.012307676651819026, -0.012154921572584063, -0.012005982006963414, -0.011860720282081173, -0.011719005265819895, -0.01158071198086486, -0.011445721245975975, -0.01131391934225136, -0.011185197702358098, -0.011059452620890434, -0.01093658498418538], \"yaxis\": \"y2\"}, {\"line\": {\"color\": \"rgb(0, 0, 255)\", \"width\": 2}, \"mode\": \"lines\", \"name\": \"Ay\", \"showlegend\": false, \"type\": \"scatter\", \"x\": [0.0, 0.1, 0.2, 0.3, 0.4, 0.5, 0.6, 0.7, 0.8, 0.9, 1.0, 1.1, 1.2, 1.3, 1.4, 1.5, 1.6, 1.7, 1.8, 1.9, 2.0, 2.1, 2.2, 2.3, 2.4, 2.5, 2.6, 2.7, 2.8, 2.9, 3.0, 3.1, 3.2, 3.3, 3.4, 3.5, 3.6, 3.7, 3.8, 3.9, 4.0, 4.1, 4.2, 4.3, 4.4, 4.5, 4.6, 4.7, 4.8, 4.9, 5.0, 5.1, 5.2, 5.3, 5.4, 5.5, 5.6, 5.7, 5.8, 5.9, 6.0, 6.1, 6.2, 6.3, 6.4, 6.5, 6.6, 6.7, 6.8, 6.9, 7.0, 7.1, 7.2, 7.3, 7.4, 7.5, 7.6, 7.7, 7.8, 7.9, 8.0, 8.1, 8.2, 8.3, 8.4, 8.5, 8.6, 8.7, 8.8, 8.9, 9.0, 9.1, 9.2, 9.3, 9.4, 9.5, 9.6, 9.7, 9.8, 9.9, 10.0, 10.1, 10.2, 10.3, 10.4, 10.5, 10.6, 10.7, 10.8, 10.9], \"xaxis\": \"x2\", \"y\": [0.0, 0.0, 0.0, 0.0, 0.0, 0.0, 0.0, 0.0, 0.0, 0.0, 0.0, -0.05870161928376345, -0.10239199266185986, -0.10677098802706396, -0.08625208550303734, -0.059097851704015235, -0.03560999079643739, -0.018993226303099183, -0.008912304986656574, -0.004054433526771254, -0.0033011578497121677, 0.04459356869354358, 0.08081156916824327, 0.08405013544611555, 0.06400122405657205, 0.035507111680630955, 0.0085238915782872, -0.012669429592965194, -0.02738220955770804, -0.03648205738144419, -0.04119828910240826, -0.04263597603934133, -0.04168206285405402, -0.03905438320406626, -0.035360479052050225, -0.031121859996408506, -0.026768135989183414, -0.022621842655295675, -0.01889155762431671, -0.01568033749711852, -0.013007091480153948, -0.010833895760382862, -0.009092224125993097, -0.007703583114391577, -0.006593014465505394, -0.005696121842538656, -0.004961346337419102, -0.004349369037313447, -0.0038311605882770917, -0.003385680111788516, -0.0029977632192446984, -0.002656414268062446, -0.0023535306281012827, -0.0020830001054616826, -0.0018400863873743612, -0.001621021007020058, -0.0014227355031051613, -0.0012426847689106994, -0.0010787279285638738, -0.0009290450207554083, -0.0007920762033639961, -0.0006664756433341478, -0.0005510755018342889, -0.00044485723426801113, -0.0003469284054056096, -0.00025650376941764797, -0.00017288970153104898, -9.547129509154971e-05, -2.370159931902421e-05, 4.290740962945206e-05, 0.0001047924449455892, 0.0001623453676327709, 0.00021591869067388685, 0.0002658302919389399, 0.00031236746699136314, 0.00035579042802803953, 0.0003963353357273664, 0.0004342169354337767, 0.0004696308568328062, 0.0005027556263193094, 0.0005337544331397499, 0.0005627766837569263, 0.0005899593734369016, 0.0006154282995929901, 0.0006392991377135655, 0.0006616783976213146, 0.0006826642752351836, 0.0007023474128415338, 0.0007208115790616664, 0.0007381342781666842, 0.0007543872970884869, 0.0007696371973705699, 0.0007839457583525896, 0.0007973703770827922, 0.0008099644297527603, 0.0008217775988547619, 0.0008328561697511442, 0.0008432432998967155, 0.0008529792635729147, 0.0008621016746570826, 0.0008706456896583377, 0.0008786441930016631, 0.0008861279663135541, 0.0008931258432734438, 0.0008996648514228899, 0.0009057703421728831, 0.0009114661101212135, 0.0009167745026703464, 0.0009217165208382113, 0.0009263119120592205], \"yaxis\": \"y2\"}],\n",
       "                        {\"autosize\": false, \"font\": {\"color\": \"black\", \"family\": \"Arial\", \"size\": 14}, \"height\": 500, \"legend\": {\"orientation\": \"h\", \"x\": 0.01, \"xanchor\": \"left\", \"y\": 1.1, \"yanchor\": \"top\"}, \"template\": {\"data\": {\"bar\": [{\"error_x\": {\"color\": \"#2a3f5f\"}, \"error_y\": {\"color\": \"#2a3f5f\"}, \"marker\": {\"line\": {\"color\": \"white\", \"width\": 0.5}}, \"type\": \"bar\"}], \"barpolar\": [{\"marker\": {\"line\": {\"color\": \"white\", \"width\": 0.5}}, \"type\": \"barpolar\"}], \"carpet\": [{\"aaxis\": {\"endlinecolor\": \"#2a3f5f\", \"gridcolor\": \"#C8D4E3\", \"linecolor\": \"#C8D4E3\", \"minorgridcolor\": \"#C8D4E3\", \"startlinecolor\": \"#2a3f5f\"}, \"baxis\": {\"endlinecolor\": \"#2a3f5f\", \"gridcolor\": \"#C8D4E3\", \"linecolor\": \"#C8D4E3\", \"minorgridcolor\": \"#C8D4E3\", \"startlinecolor\": \"#2a3f5f\"}, \"type\": \"carpet\"}], \"choropleth\": [{\"colorbar\": {\"outlinewidth\": 0, \"ticks\": \"\"}, \"type\": \"choropleth\"}], \"contour\": [{\"colorbar\": {\"outlinewidth\": 0, \"ticks\": \"\"}, \"colorscale\": [[0.0, \"#0d0887\"], [0.1111111111111111, \"#46039f\"], [0.2222222222222222, \"#7201a8\"], [0.3333333333333333, \"#9c179e\"], [0.4444444444444444, \"#bd3786\"], [0.5555555555555556, \"#d8576b\"], [0.6666666666666666, \"#ed7953\"], [0.7777777777777778, \"#fb9f3a\"], [0.8888888888888888, \"#fdca26\"], [1.0, \"#f0f921\"]], \"type\": \"contour\"}], \"contourcarpet\": [{\"colorbar\": {\"outlinewidth\": 0, \"ticks\": \"\"}, \"type\": \"contourcarpet\"}], \"heatmap\": [{\"colorbar\": {\"outlinewidth\": 0, \"ticks\": \"\"}, \"colorscale\": [[0.0, \"#0d0887\"], [0.1111111111111111, \"#46039f\"], [0.2222222222222222, \"#7201a8\"], [0.3333333333333333, \"#9c179e\"], [0.4444444444444444, \"#bd3786\"], [0.5555555555555556, \"#d8576b\"], [0.6666666666666666, \"#ed7953\"], [0.7777777777777778, \"#fb9f3a\"], [0.8888888888888888, \"#fdca26\"], [1.0, \"#f0f921\"]], \"type\": \"heatmap\"}], \"heatmapgl\": [{\"colorbar\": {\"outlinewidth\": 0, \"ticks\": \"\"}, \"colorscale\": [[0.0, \"#0d0887\"], [0.1111111111111111, \"#46039f\"], [0.2222222222222222, \"#7201a8\"], [0.3333333333333333, \"#9c179e\"], [0.4444444444444444, \"#bd3786\"], [0.5555555555555556, \"#d8576b\"], [0.6666666666666666, \"#ed7953\"], [0.7777777777777778, \"#fb9f3a\"], [0.8888888888888888, \"#fdca26\"], [1.0, \"#f0f921\"]], \"type\": \"heatmapgl\"}], \"histogram\": [{\"marker\": {\"colorbar\": {\"outlinewidth\": 0, \"ticks\": \"\"}}, \"type\": \"histogram\"}], \"histogram2d\": [{\"colorbar\": {\"outlinewidth\": 0, \"ticks\": \"\"}, \"colorscale\": [[0.0, \"#0d0887\"], [0.1111111111111111, \"#46039f\"], [0.2222222222222222, \"#7201a8\"], [0.3333333333333333, \"#9c179e\"], [0.4444444444444444, \"#bd3786\"], [0.5555555555555556, \"#d8576b\"], [0.6666666666666666, \"#ed7953\"], [0.7777777777777778, \"#fb9f3a\"], [0.8888888888888888, \"#fdca26\"], [1.0, \"#f0f921\"]], \"type\": \"histogram2d\"}], \"histogram2dcontour\": [{\"colorbar\": {\"outlinewidth\": 0, \"ticks\": \"\"}, \"colorscale\": [[0.0, \"#0d0887\"], [0.1111111111111111, \"#46039f\"], [0.2222222222222222, \"#7201a8\"], [0.3333333333333333, \"#9c179e\"], [0.4444444444444444, \"#bd3786\"], [0.5555555555555556, \"#d8576b\"], [0.6666666666666666, \"#ed7953\"], [0.7777777777777778, \"#fb9f3a\"], [0.8888888888888888, \"#fdca26\"], [1.0, \"#f0f921\"]], \"type\": \"histogram2dcontour\"}], \"mesh3d\": [{\"colorbar\": {\"outlinewidth\": 0, \"ticks\": \"\"}, \"type\": \"mesh3d\"}], \"parcoords\": [{\"line\": {\"colorbar\": {\"outlinewidth\": 0, \"ticks\": \"\"}}, \"type\": \"parcoords\"}], \"pie\": [{\"automargin\": true, \"type\": \"pie\"}], \"scatter\": [{\"marker\": {\"colorbar\": {\"outlinewidth\": 0, \"ticks\": \"\"}}, \"type\": \"scatter\"}], \"scatter3d\": [{\"line\": {\"colorbar\": {\"outlinewidth\": 0, \"ticks\": \"\"}}, \"marker\": {\"colorbar\": {\"outlinewidth\": 0, \"ticks\": \"\"}}, \"type\": \"scatter3d\"}], \"scattercarpet\": [{\"marker\": {\"colorbar\": {\"outlinewidth\": 0, \"ticks\": \"\"}}, \"type\": \"scattercarpet\"}], \"scattergeo\": [{\"marker\": {\"colorbar\": {\"outlinewidth\": 0, \"ticks\": \"\"}}, \"type\": \"scattergeo\"}], \"scattergl\": [{\"marker\": {\"colorbar\": {\"outlinewidth\": 0, \"ticks\": \"\"}}, \"type\": \"scattergl\"}], \"scattermapbox\": [{\"marker\": {\"colorbar\": {\"outlinewidth\": 0, \"ticks\": \"\"}}, \"type\": \"scattermapbox\"}], \"scatterpolar\": [{\"marker\": {\"colorbar\": {\"outlinewidth\": 0, \"ticks\": \"\"}}, \"type\": \"scatterpolar\"}], \"scatterpolargl\": [{\"marker\": {\"colorbar\": {\"outlinewidth\": 0, \"ticks\": \"\"}}, \"type\": \"scatterpolargl\"}], \"scatterternary\": [{\"marker\": {\"colorbar\": {\"outlinewidth\": 0, \"ticks\": \"\"}}, \"type\": \"scatterternary\"}], \"surface\": [{\"colorbar\": {\"outlinewidth\": 0, \"ticks\": \"\"}, \"colorscale\": [[0.0, \"#0d0887\"], [0.1111111111111111, \"#46039f\"], [0.2222222222222222, \"#7201a8\"], [0.3333333333333333, \"#9c179e\"], [0.4444444444444444, \"#bd3786\"], [0.5555555555555556, \"#d8576b\"], [0.6666666666666666, \"#ed7953\"], [0.7777777777777778, \"#fb9f3a\"], [0.8888888888888888, \"#fdca26\"], [1.0, \"#f0f921\"]], \"type\": \"surface\"}], \"table\": [{\"cells\": {\"fill\": {\"color\": \"#EBF0F8\"}, \"line\": {\"color\": \"white\"}}, \"header\": {\"fill\": {\"color\": \"#C8D4E3\"}, \"line\": {\"color\": \"white\"}}, \"type\": \"table\"}]}, \"layout\": {\"annotationdefaults\": {\"arrowcolor\": \"#2a3f5f\", \"arrowhead\": 0, \"arrowwidth\": 1}, \"coloraxis\": {\"colorbar\": {\"outlinewidth\": 0, \"ticks\": \"\"}}, \"colorscale\": {\"diverging\": [[0, \"#8e0152\"], [0.1, \"#c51b7d\"], [0.2, \"#de77ae\"], [0.3, \"#f1b6da\"], [0.4, \"#fde0ef\"], [0.5, \"#f7f7f7\"], [0.6, \"#e6f5d0\"], [0.7, \"#b8e186\"], [0.8, \"#7fbc41\"], [0.9, \"#4d9221\"], [1, \"#276419\"]], \"sequential\": [[0.0, \"#0d0887\"], [0.1111111111111111, \"#46039f\"], [0.2222222222222222, \"#7201a8\"], [0.3333333333333333, \"#9c179e\"], [0.4444444444444444, \"#bd3786\"], [0.5555555555555556, \"#d8576b\"], [0.6666666666666666, \"#ed7953\"], [0.7777777777777778, \"#fb9f3a\"], [0.8888888888888888, \"#fdca26\"], [1.0, \"#f0f921\"]], \"sequentialminus\": [[0.0, \"#0d0887\"], [0.1111111111111111, \"#46039f\"], [0.2222222222222222, \"#7201a8\"], [0.3333333333333333, \"#9c179e\"], [0.4444444444444444, \"#bd3786\"], [0.5555555555555556, \"#d8576b\"], [0.6666666666666666, \"#ed7953\"], [0.7777777777777778, \"#fb9f3a\"], [0.8888888888888888, \"#fdca26\"], [1.0, \"#f0f921\"]]}, \"colorway\": [\"#636efa\", \"#EF553B\", \"#00cc96\", \"#ab63fa\", \"#FFA15A\", \"#19d3f3\", \"#FF6692\", \"#B6E880\", \"#FF97FF\", \"#FECB52\"], \"font\": {\"color\": \"#2a3f5f\"}, \"geo\": {\"bgcolor\": \"white\", \"lakecolor\": \"white\", \"landcolor\": \"white\", \"showlakes\": true, \"showland\": true, \"subunitcolor\": \"#C8D4E3\"}, \"hoverlabel\": {\"align\": \"left\"}, \"hovermode\": \"closest\", \"mapbox\": {\"style\": \"light\"}, \"paper_bgcolor\": \"white\", \"plot_bgcolor\": \"white\", \"polar\": {\"angularaxis\": {\"gridcolor\": \"#EBF0F8\", \"linecolor\": \"#EBF0F8\", \"ticks\": \"\"}, \"bgcolor\": \"white\", \"radialaxis\": {\"gridcolor\": \"#EBF0F8\", \"linecolor\": \"#EBF0F8\", \"ticks\": \"\"}}, \"scene\": {\"xaxis\": {\"backgroundcolor\": \"white\", \"gridcolor\": \"#DFE8F3\", \"gridwidth\": 2, \"linecolor\": \"#EBF0F8\", \"showbackground\": true, \"ticks\": \"\", \"zerolinecolor\": \"#EBF0F8\"}, \"yaxis\": {\"backgroundcolor\": \"white\", \"gridcolor\": \"#DFE8F3\", \"gridwidth\": 2, \"linecolor\": \"#EBF0F8\", \"showbackground\": true, \"ticks\": \"\", \"zerolinecolor\": \"#EBF0F8\"}, \"zaxis\": {\"backgroundcolor\": \"white\", \"gridcolor\": \"#DFE8F3\", \"gridwidth\": 2, \"linecolor\": \"#EBF0F8\", \"showbackground\": true, \"ticks\": \"\", \"zerolinecolor\": \"#EBF0F8\"}}, \"shapedefaults\": {\"line\": {\"color\": \"#2a3f5f\"}}, \"ternary\": {\"aaxis\": {\"gridcolor\": \"#DFE8F3\", \"linecolor\": \"#A2B1C6\", \"ticks\": \"\"}, \"baxis\": {\"gridcolor\": \"#DFE8F3\", \"linecolor\": \"#A2B1C6\", \"ticks\": \"\"}, \"bgcolor\": \"white\", \"caxis\": {\"gridcolor\": \"#DFE8F3\", \"linecolor\": \"#A2B1C6\", \"ticks\": \"\"}}, \"title\": {\"x\": 0.05}, \"xaxis\": {\"automargin\": true, \"gridcolor\": \"#EBF0F8\", \"linecolor\": \"#EBF0F8\", \"ticks\": \"\", \"title\": {\"standoff\": 15}, \"zerolinecolor\": \"#EBF0F8\", \"zerolinewidth\": 2}, \"yaxis\": {\"automargin\": true, \"gridcolor\": \"#EBF0F8\", \"linecolor\": \"#EBF0F8\", \"ticks\": \"\", \"title\": {\"standoff\": 15}, \"zerolinecolor\": \"#EBF0F8\", \"zerolinewidth\": 2}}}, \"title\": {\"text\": \"Veh1 - Vehicle Frame Velocity | Acceleration\"}, \"width\": 900, \"xaxis\": {\"anchor\": \"y\", \"domain\": [0.0, 1.0], \"linecolor\": \"black\", \"linewidth\": 1, \"matches\": \"x2\", \"showgrid\": false, \"showline\": true, \"showticklabels\": false, \"tickcolor\": \"black\", \"ticklen\": 10, \"ticks\": \"outside\", \"tickwidth\": 1, \"title\": {\"text\": \"\"}, \"zeroline\": false}, \"xaxis2\": {\"anchor\": \"y2\", \"domain\": [0.0, 1.0], \"linecolor\": \"black\", \"linewidth\": 1, \"showgrid\": false, \"showline\": true, \"tickcolor\": \"black\", \"ticklen\": 10, \"ticks\": \"outside\", \"tickwidth\": 1, \"title\": {\"text\": \"Time (s)\"}, \"zeroline\": false}, \"yaxis\": {\"anchor\": \"x\", \"domain\": [0.525, 1.0], \"linecolor\": \"black\", \"linewidth\": 1, \"showgrid\": false, \"showline\": true, \"tickcolor\": \"black\", \"ticklen\": 10, \"ticks\": \"outside\", \"tickwidth\": 1, \"title\": {\"text\": \"Velocity (mph)\"}, \"zeroline\": false}, \"yaxis2\": {\"anchor\": \"x2\", \"domain\": [0.0, 0.475], \"linecolor\": \"black\", \"linewidth\": 1, \"showgrid\": false, \"showline\": true, \"tickcolor\": \"black\", \"ticklen\": 10, \"ticks\": \"outside\", \"tickwidth\": 1, \"title\": {\"text\": \"Acceleration (g)\"}, \"zeroline\": false}},\n",
       "                        {\"responsive\": true}\n",
       "                    ).then(function(){\n",
       "                            \n",
       "var gd = document.getElementById('523a6906-4fd1-4e81-a6bc-436e9a4c9eaa');\n",
       "var x = new MutationObserver(function (mutations, observer) {{\n",
       "        var display = window.getComputedStyle(gd).display;\n",
       "        if (!display || display === 'none') {{\n",
       "            console.log([gd, 'removed!']);\n",
       "            Plotly.purge(gd);\n",
       "            observer.disconnect();\n",
       "        }}\n",
       "}});\n",
       "\n",
       "// Listen for the removal of the full notebook cells\n",
       "var notebookContainer = gd.closest('#notebook-container');\n",
       "if (notebookContainer) {{\n",
       "    x.observe(notebookContainer, {childList: true});\n",
       "}}\n",
       "\n",
       "// Listen for the clearing of the current output cell\n",
       "var outputEl = gd.closest('.output');\n",
       "if (outputEl) {{\n",
       "    x.observe(outputEl, {childList: true});\n",
       "}}\n",
       "\n",
       "                        })\n",
       "                };\n",
       "                });\n",
       "            </script>\n",
       "        </div>"
      ]
     },
     "metadata": {},
     "output_type": "display_data"
    },
    {
     "data": {
      "application/vnd.plotly.v1+json": {
       "config": {
        "plotlyServerURL": "https://plot.ly"
       },
       "data": [
        {
         "line": {
          "color": "rgb(0, 0, 255)",
          "width": 2
         },
         "mode": "lines",
         "name": "LF",
         "type": "scatter",
         "x": [
          0,
          0.1,
          0.2,
          0.3,
          0.4,
          0.5,
          0.6,
          0.7,
          0.8,
          0.9,
          1,
          1.1,
          1.2,
          1.3,
          1.4,
          1.5,
          1.6,
          1.7,
          1.8,
          1.9,
          2,
          2.1,
          2.2,
          2.3,
          2.4,
          2.5,
          2.6,
          2.7,
          2.8,
          2.9,
          3,
          3.1,
          3.2,
          3.3,
          3.4,
          3.5,
          3.6,
          3.7,
          3.8,
          3.9,
          4,
          4.1,
          4.2,
          4.3,
          4.4,
          4.5,
          4.6,
          4.7,
          4.8,
          4.9,
          5,
          5.1,
          5.2,
          5.3,
          5.4,
          5.5,
          5.6,
          5.7,
          5.8,
          5.9,
          6,
          6.1,
          6.2,
          6.3,
          6.4,
          6.5,
          6.6,
          6.7,
          6.8,
          6.9,
          7,
          7.1,
          7.2,
          7.3,
          7.4,
          7.5,
          7.6,
          7.7,
          7.8,
          7.9,
          8,
          8.1,
          8.2,
          8.3,
          8.4,
          8.5,
          8.6,
          8.7,
          8.8,
          8.9,
          9,
          9.1,
          9.2,
          9.3,
          9.4,
          9.5,
          9.6,
          9.7,
          9.8,
          9.9,
          10,
          10.1,
          10.2,
          10.3,
          10.4,
          10.5,
          10.6,
          10.7,
          10.8,
          10.9
         ],
         "xaxis": "x",
         "y": [
          0,
          0,
          0,
          0,
          0,
          0,
          0,
          0,
          0,
          0,
          0,
          -3.4441324086703986,
          -13.434029654245892,
          -25.776100797118985,
          -38.99684839328835,
          -53.82286902214402,
          -71.18043758517007,
          -91.34133080538695,
          -113.90460305493512,
          -138.10309022994056,
          -163.0891452910997,
          -146.05186410414436,
          -134.49419736645424,
          -131.97204866134604,
          -133.7738396406819,
          -135.66871944124546,
          -135.78205827884676,
          -133.9834088712538,
          -130.77530414502903,
          -126.68775997243591,
          -122.11218894123277,
          -117.31086139719659,
          -112.46002488023905,
          -107.6843081949691,
          -103.07689360478747,
          -98.70834352760244,
          -94.62841902637254,
          -90.8653312335897,
          -87.42589909517646,
          -84.29824727445019,
          -81.45681609906526,
          -78.86835323724249,
          -76.49741770095748,
          -74.31043627322903,
          -72.2780355079887,
          -70.3758894673356,
          -68.58455976307636,
          -66.88880857121909,
          -65.27674570025789,
          -63.73902341077528,
          -62.268172546923786,
          -60.858097763902244,
          -59.503712629586,
          -58.20068360321332,
          -56.94525289514344,
          -55.73411588613887,
          -54.56433509207727,
          -53.433278092892394,
          -52.33857106085379,
          -51.27806258059764,
          -50.24979452145742,
          -49.25197801371265,
          -48.282973322276455,
          -47.3412728128622,
          -46.42548642480516,
          -45.53432919832315,
          -44.666610498864856,
          -43.82122465453208,
          -42.997142779620305,
          -42.19340560094723,
          -41.409117136977684,
          -40.64343910585678,
          -39.89558595949742,
          -39.164820458059395,
          -38.45044971317509,
          -37.75182163962651,
          -37.06832176437445,
          -36.39937034935417,
          -35.74441979068518,
          -35.10295226216259,
          -34.47447757529682,
          -33.85853123187554,
          -33.25467264815898,
          -32.6624835324792,
          -32.081566400281844,
          -31.511543212596038,
          -30.95205412559104,
          -30.402756340323045,
          -29.86332304303032,
          -29.333442427415747,
          -28.812816791306364,
          -28.301161700901044,
          -27.79820521654536,
          -27.303687174603926,
          -26.817358520561818,
          -26.33898068898012,
          -25.868325026363973,
          -25.40517225339133,
          -24.949311963291127,
          -24.500542153465133,
          -24.058668787722645,
          -23.623505386733196,
          -23.1948726445289,
          -22.77259806907634,
          -22.35651564511308,
          -21.946465517606185,
          -21.542293694324453,
          -21.143851766150433,
          -20.7509966438687,
          -20.36359031027433
         ],
         "yaxis": "y"
        },
        {
         "line": {
          "color": "rgb(0, 255, 0)",
          "width": 2
         },
         "mode": "lines",
         "name": "RF",
         "type": "scatter",
         "x": [
          0,
          0.1,
          0.2,
          0.3,
          0.4,
          0.5,
          0.6,
          0.7,
          0.8,
          0.9,
          1,
          1.1,
          1.2,
          1.3,
          1.4,
          1.5,
          1.6,
          1.7,
          1.8,
          1.9,
          2,
          2.1,
          2.2,
          2.3,
          2.4,
          2.5,
          2.6,
          2.7,
          2.8,
          2.9,
          3,
          3.1,
          3.2,
          3.3,
          3.4,
          3.5,
          3.6,
          3.7,
          3.8,
          3.9,
          4,
          4.1,
          4.2,
          4.3,
          4.4,
          4.5,
          4.6,
          4.7,
          4.8,
          4.9,
          5,
          5.1,
          5.2,
          5.3,
          5.4,
          5.5,
          5.6,
          5.7,
          5.8,
          5.9,
          6,
          6.1,
          6.2,
          6.3,
          6.4,
          6.5,
          6.6,
          6.7,
          6.8,
          6.9,
          7,
          7.1,
          7.2,
          7.3,
          7.4,
          7.5,
          7.6,
          7.7,
          7.8,
          7.9,
          8,
          8.1,
          8.2,
          8.3,
          8.4,
          8.5,
          8.6,
          8.7,
          8.8,
          8.9,
          9,
          9.1,
          9.2,
          9.3,
          9.4,
          9.5,
          9.6,
          9.7,
          9.8,
          9.9,
          10,
          10.1,
          10.2,
          10.3,
          10.4,
          10.5,
          10.6,
          10.7,
          10.8,
          10.9
         ],
         "xaxis": "x",
         "y": [
          0,
          0,
          0,
          0,
          0,
          0,
          0,
          0,
          0,
          0,
          0,
          -3.4441324086703986,
          -14.617902211705575,
          -30.4038859657481,
          -48.80579584716671,
          -70.97601780084669,
          -99.54811998972772,
          -136.9899426277101,
          -185.0346815976602,
          -244.67493832901792,
          -316.2731503907126,
          -317.78743665113234,
          -305.7590991107505,
          -306.4648725603298,
          -318.2714355535509,
          -333.07495984850465,
          -344.34601267433965,
          -349.0442833197544,
          -346.9670672319386,
          -339.4061236486755,
          -328.072033495193,
          -314.52629782442597,
          -299.9957233703137,
          -285.37616757271053,
          -271.2926933749403,
          -258.15675746747354,
          -246.2079287869922,
          -235.5463016429435,
          -226.16316310302437,
          -217.97260853792568,
          -210.84242446265858,
          -204.62097328827832,
          -199.1575544215146,
          -194.31542114150682,
          -189.97819362744139,
          -186.05131121977882,
          -182.4603812533333,
          -179.1480229060755,
          -176.07033655306955,
          -173.19365564453437,
          -170.49186874555303,
          -167.944363362007,
          -165.53452160572036,
          -163.24865403816813,
          -161.07525758185463,
          -159.00450168146403,
          -157.02786983784733,
          -155.1379046287018,
          -153.32802107347914,
          -151.59236546463413,
          -149.9257051854428,
          -148.32334044837174,
          -146.7810322000608,
          -145.29494239632703,
          -143.86158400484928,
          -142.47777880159816,
          -141.14062149323885,
          -139.84744902594954,
          -138.59581418247998,
          -137.38346275093076,
          -136.2083136876571,
          -135.06844180470853,
          -133.9620625975029,
          -132.88751889648552,
          -131.8432690810725,
          -130.82787663801653,
          -129.8400008817045,
          -128.87838868263782,
          -127.94186707390917,
          -127.02933662495136,
          -126.13976548801351,
          -125.2721840363139,
          -124.42568002413178,
          -123.599394208604,
          -122.79251638103486,
          -122.00428176234074,
          -121.23396772306549,
          -120.48089079336643,
          -119.74440393263433,
          -119.02389403207282,
          -118.31877962672709,
          -117.62850879619074,
          -116.95255723559455,
          -116.29042648055194,
          -115.64164227153982,
          -115.0057530447743,
          -114.38232853802454,
          -113.77095850102494,
          -113.1712515012196,
          -112.5828338165177,
          -112.00534840757555,
          -111.43845396286339,
          -110.88182401043362,
          -110.33514609089141,
          -109.79812098659349,
          -109.2704620025636,
          -108.75189429503153,
          -108.24215424387673,
          -107.74098886558919,
          -107.24815526366359
         ],
         "yaxis": "y"
        },
        {
         "line": {
          "color": "rgb(153, 0, 204)",
          "width": 2
         },
         "mode": "lines",
         "name": "RR",
         "type": "scatter",
         "x": [
          0,
          0.1,
          0.2,
          0.3,
          0.4,
          0.5,
          0.6,
          0.7,
          0.8,
          0.9,
          1,
          1.1,
          1.2,
          1.3,
          1.4,
          1.5,
          1.6,
          1.7,
          1.8,
          1.9,
          2,
          2.1,
          2.2,
          2.3,
          2.4,
          2.5,
          2.6,
          2.7,
          2.8,
          2.9,
          3,
          3.1,
          3.2,
          3.3,
          3.4,
          3.5,
          3.6,
          3.7,
          3.8,
          3.9,
          4,
          4.1,
          4.2,
          4.3,
          4.4,
          4.5,
          4.6,
          4.7,
          4.8,
          4.9,
          5,
          5.1,
          5.2,
          5.3,
          5.4,
          5.5,
          5.6,
          5.7,
          5.8,
          5.9,
          6,
          6.1,
          6.2,
          6.3,
          6.4,
          6.5,
          6.6,
          6.7,
          6.8,
          6.9,
          7,
          7.1,
          7.2,
          7.3,
          7.4,
          7.5,
          7.6,
          7.7,
          7.8,
          7.9,
          8,
          8.1,
          8.2,
          8.3,
          8.4,
          8.5,
          8.6,
          8.7,
          8.8,
          8.9,
          9,
          9.1,
          9.2,
          9.3,
          9.4,
          9.5,
          9.6,
          9.7,
          9.8,
          9.9,
          10,
          10.1,
          10.2,
          10.3,
          10.4,
          10.5,
          10.6,
          10.7,
          10.8,
          10.9
         ],
         "xaxis": "x",
         "y": [
          0,
          0,
          0,
          0,
          0,
          0,
          0,
          0,
          0,
          0,
          0,
          0,
          0,
          0,
          0,
          0,
          0,
          0,
          0,
          0,
          0,
          0,
          0,
          0,
          0,
          0,
          0,
          0,
          0,
          0,
          0,
          0,
          0,
          0,
          0,
          0,
          0,
          0,
          0,
          0,
          0,
          0,
          0,
          0,
          0,
          0,
          0,
          0,
          0,
          0,
          0,
          0,
          0,
          0,
          0,
          0,
          0,
          0,
          0,
          0,
          0,
          0,
          0,
          0,
          0,
          0,
          0,
          0,
          0,
          0,
          0,
          0,
          0,
          0,
          0,
          0,
          0,
          0,
          0,
          0,
          0,
          0,
          0,
          0,
          0,
          0,
          0,
          0,
          0,
          0,
          0,
          0,
          0,
          0,
          0,
          0,
          0,
          0,
          0,
          0,
          0,
          0,
          0,
          0,
          0,
          0,
          0,
          0,
          0,
          0
         ],
         "yaxis": "y"
        },
        {
         "line": {
          "color": "rgb(255, 102, 0)",
          "width": 2
         },
         "mode": "lines",
         "name": "LR",
         "type": "scatter",
         "x": [
          0,
          0.1,
          0.2,
          0.3,
          0.4,
          0.5,
          0.6,
          0.7,
          0.8,
          0.9,
          1,
          1.1,
          1.2,
          1.3,
          1.4,
          1.5,
          1.6,
          1.7,
          1.8,
          1.9,
          2,
          2.1,
          2.2,
          2.3,
          2.4,
          2.5,
          2.6,
          2.7,
          2.8,
          2.9,
          3,
          3.1,
          3.2,
          3.3,
          3.4,
          3.5,
          3.6,
          3.7,
          3.8,
          3.9,
          4,
          4.1,
          4.2,
          4.3,
          4.4,
          4.5,
          4.6,
          4.7,
          4.8,
          4.9,
          5,
          5.1,
          5.2,
          5.3,
          5.4,
          5.5,
          5.6,
          5.7,
          5.8,
          5.9,
          6,
          6.1,
          6.2,
          6.3,
          6.4,
          6.5,
          6.6,
          6.7,
          6.8,
          6.9,
          7,
          7.1,
          7.2,
          7.3,
          7.4,
          7.5,
          7.6,
          7.7,
          7.8,
          7.9,
          8,
          8.1,
          8.2,
          8.3,
          8.4,
          8.5,
          8.6,
          8.7,
          8.8,
          8.9,
          9,
          9.1,
          9.2,
          9.3,
          9.4,
          9.5,
          9.6,
          9.7,
          9.8,
          9.9,
          10,
          10.1,
          10.2,
          10.3,
          10.4,
          10.5,
          10.6,
          10.7,
          10.8,
          10.9
         ],
         "xaxis": "x",
         "y": [
          0,
          0,
          0,
          0,
          0,
          0,
          0,
          0,
          0,
          0,
          0,
          0,
          0,
          0,
          0,
          0,
          0,
          0,
          0,
          0,
          0,
          0,
          0,
          0,
          0,
          0,
          0,
          0,
          0,
          0,
          0,
          0,
          0,
          0,
          0,
          0,
          0,
          0,
          0,
          0,
          0,
          0,
          0,
          0,
          0,
          0,
          0,
          0,
          0,
          0,
          0,
          0,
          0,
          0,
          0,
          0,
          0,
          0,
          0,
          0,
          0,
          0,
          0,
          0,
          0,
          0,
          0,
          0,
          0,
          0,
          0,
          0,
          0,
          0,
          0,
          0,
          0,
          0,
          0,
          0,
          0,
          0,
          0,
          0,
          0,
          0,
          0,
          0,
          0,
          0,
          0,
          0,
          0,
          0,
          0,
          0,
          0,
          0,
          0,
          0,
          0,
          0,
          0,
          0,
          0,
          0,
          0,
          0,
          0,
          0
         ],
         "yaxis": "y"
        },
        {
         "line": {
          "color": "rgb(0, 0, 255)",
          "width": 2
         },
         "mode": "lines",
         "name": "LF",
         "showlegend": false,
         "type": "scatter",
         "x": [
          0,
          0.1,
          0.2,
          0.3,
          0.4,
          0.5,
          0.6,
          0.7,
          0.8,
          0.9,
          1,
          1.1,
          1.2,
          1.3,
          1.4,
          1.5,
          1.6,
          1.7,
          1.8,
          1.9,
          2,
          2.1,
          2.2,
          2.3,
          2.4,
          2.5,
          2.6,
          2.7,
          2.8,
          2.9,
          3,
          3.1,
          3.2,
          3.3,
          3.4,
          3.5,
          3.6,
          3.7,
          3.8,
          3.9,
          4,
          4.1,
          4.2,
          4.3,
          4.4,
          4.5,
          4.6,
          4.7,
          4.8,
          4.9,
          5,
          5.1,
          5.2,
          5.3,
          5.4,
          5.5,
          5.6,
          5.7,
          5.8,
          5.9,
          6,
          6.1,
          6.2,
          6.3,
          6.4,
          6.5,
          6.6,
          6.7,
          6.8,
          6.9,
          7,
          7.1,
          7.2,
          7.3,
          7.4,
          7.5,
          7.6,
          7.7,
          7.8,
          7.9,
          8,
          8.1,
          8.2,
          8.3,
          8.4,
          8.5,
          8.6,
          8.7,
          8.8,
          8.9,
          9,
          9.1,
          9.2,
          9.3,
          9.4,
          9.5,
          9.6,
          9.7,
          9.8,
          9.9,
          10,
          10.1,
          10.2,
          10.3,
          10.4,
          10.5,
          10.6,
          10.7,
          10.8,
          10.9
         ],
         "xaxis": "x2",
         "y": [
          0,
          0,
          0,
          0,
          0,
          0,
          0,
          0,
          0,
          0,
          0,
          -96.79897019892593,
          -178.58805788410865,
          -223.93870203580443,
          -251.02924631027042,
          -274.48085048595533,
          -299.74717581934374,
          -326.64932890791937,
          -352.9334315775272,
          -376.3470890868163,
          -395.3881350296712,
          -350.15183777850353,
          -322.4429257871581,
          -316.3962038937999,
          -320.71590516277723,
          -325.25878209629985,
          -325.5305061343407,
          -321.21833662215425,
          -313.5270704232339,
          -303.72739335089125,
          -292.7576969674242,
          -281.24676094731274,
          -269.61712970916165,
          -258.16759440665885,
          -247.12155472715705,
          -236.64818044099917,
          -226.86677113913288,
          -217.8449615617817,
          -209.5990997813317,
          -202.1007152884253,
          -195.28853008226648,
          -189.0828234064355,
          -183.3986273136518,
          -178.15545174171572,
          -173.28287536334176,
          -168.72257799265668,
          -164.42795709301285,
          -160.36248076454564,
          -156.49764288422216,
          -152.81103272722092,
          -149.28474337627873,
          -145.9041615555082,
          -142.65709280531027,
          -139.53314768443332,
          -136.52331708534712,
          -133.61967835327238,
          -130.81518902099933,
          -128.10353799671373,
          -125.47903415043591,
          -122.93651957440429,
          -120.47129975098494,
          -118.07908595696296,
          -115.75594701174255,
          -113.49826843960717,
          -111.30271764155603,
          -109.16621399255253,
          -107.08590300745314,
          -105.05913389470852,
          -103.08343995372223,
          -101.156521376342,
          -99.27623009288673,
          -97.44055636569325,
          -95.64761688359638,
          -93.89564415197007,
          -92.18297700656429,
          -90.50805210658316,
          -88.86939628449636,
          -87.26561964808961,
          -85.6954093452038,
          -84.15752391412667,
          -82.65078815314794,
          -81.1740884516767,
          -79.72636853284084,
          -78.30662556386481,
          -76.91390659595845,
          -75.54730530011864,
          -74.20595896925549,
          -72.88904576051958,
          -71.5957821547139,
          -70.32542061226658,
          -69.07724740751848,
          -67.85058062505004,
          -66.64476830351624,
          -65.45918671397249,
          -64.29323876101952,
          -63.146352496278766,
          -62.01797973474805,
          -60.90759476552273,
          -59.81469314918315,
          -58.73879059488208,
          -57.67942191082491,
          -56.63614002240103,
          -55.60851505276796,
          -54.596133461140916,
          -53.59859723446063,
          -52.615523128501486,
          -51.646541954803666,
          -50.691297910135674,
          -49.749447945457646,
          -48.82066117161426
         ],
         "yaxis": "y2"
        },
        {
         "line": {
          "color": "rgb(0, 255, 0)",
          "width": 2
         },
         "mode": "lines",
         "name": "RF",
         "showlegend": false,
         "type": "scatter",
         "x": [
          0,
          0.1,
          0.2,
          0.3,
          0.4,
          0.5,
          0.6,
          0.7,
          0.8,
          0.9,
          1,
          1.1,
          1.2,
          1.3,
          1.4,
          1.5,
          1.6,
          1.7,
          1.8,
          1.9,
          2,
          2.1,
          2.2,
          2.3,
          2.4,
          2.5,
          2.6,
          2.7,
          2.8,
          2.9,
          3,
          3.1,
          3.2,
          3.3,
          3.4,
          3.5,
          3.6,
          3.7,
          3.8,
          3.9,
          4,
          4.1,
          4.2,
          4.3,
          4.4,
          4.5,
          4.6,
          4.7,
          4.8,
          4.9,
          5,
          5.1,
          5.2,
          5.3,
          5.4,
          5.5,
          5.6,
          5.7,
          5.8,
          5.9,
          6,
          6.1,
          6.2,
          6.3,
          6.4,
          6.5,
          6.6,
          6.7,
          6.8,
          6.9,
          7,
          7.1,
          7.2,
          7.3,
          7.4,
          7.5,
          7.6,
          7.7,
          7.8,
          7.9,
          8,
          8.1,
          8.2,
          8.3,
          8.4,
          8.5,
          8.6,
          8.7,
          8.8,
          8.9,
          9,
          9.1,
          9.2,
          9.3,
          9.4,
          9.5,
          9.6,
          9.7,
          9.8,
          9.9,
          10,
          10.1,
          10.2,
          10.3,
          10.4,
          10.5,
          10.6,
          10.7,
          10.8,
          10.9
         ],
         "xaxis": "x2",
         "y": [
          0,
          0,
          0,
          0,
          0,
          0,
          0,
          0,
          0,
          0,
          0,
          -96.79897019892593,
          -194.3261131259471,
          -264.14417035392887,
          -314.1710843791108,
          -361.9568797432096,
          -419.20601835781406,
          -489.895126684938,
          -573.3299918144781,
          -666.76785189459,
          -766.7625633192094,
          -761.87904652123,
          -733.0417254708008,
          -734.7337810425753,
          -763.0394090144042,
          -798.5300976767593,
          -825.5518675451025,
          -836.8157299474318,
          -831.8357111364897,
          -813.708737494227,
          -786.5358388726851,
          -754.0606337921201,
          -719.2243283447841,
          -684.1746946996708,
          -650.4102891379656,
          -618.917557928042,
          -590.2708552828251,
          -564.7101521648161,
          -542.214559766624,
          -522.5781261545928,
          -505.4838762936426,
          -490.5682668577706,
          -477.4700009199462,
          -465.8612352450748,
          -455.46295519415685,
          -446.04845644594053,
          -437.4393864090925,
          -429.4981775119144,
          -422.1195826598663,
          -415.2228880301581,
          -408.745492799587,
          -402.63797957289376,
          -396.8605078172614,
          -391.3802578074022,
          -386.1696515062269,
          -381.2051206626122,
          -376.4662474075582,
          -371.9351529543724,
          -367.59605015062857,
          -363.4349050333414,
          -359.4391726728483,
          -355.59758557008576,
          -351.8999808124913,
          -348.3371568863946,
          -344.9007538110234,
          -341.58315195761384,
          -338.3773860347147,
          -335.2770715076571,
          -332.27634129885973,
          -329.36979105115006,
          -326.5524315693461,
          -323.8196473142825,
          -321.16716002793925,
          -318.59099673148,
          -316.0874614687873,
          -313.653110273181,
          -311.2847289198089,
          -308.97931309510346,
          -306.73405067118955,
          -304.54630581978813,
          -302.41360473894883,
          -300.333622798297,
          -298.30417293560237,
          -296.3231951602619,
          -294.3887470385686,
          -292.4989950519759,
          -290.65220673350234,
          -288.8467434993276,
          -287.081054102846,
          -285.3536686472292,
          -283.6631931001328,
          -282.0083042607487,
          -280.38774513509975,
          -278.8003206804381,
          -277.2448938839319,
          -275.72038214461764,
          -274.22575393091046,
          -272.7600256888835,
          -271.322258979102,
          -269.9115578220608,
          -268.5270662342836,
          -267.16796593891974,
          -265.833474236254,
          -264.5228420209463,
          -263.23535193407537,
          -261.9703166391704,
          -260.7270772124181,
          -259.50500163812836,
          -258.3034834013381,
          -257.12194017015963
         ],
         "yaxis": "y2"
        },
        {
         "line": {
          "color": "rgb(153, 0, 204)",
          "width": 2
         },
         "mode": "lines",
         "name": "RR",
         "showlegend": false,
         "type": "scatter",
         "x": [
          0,
          0.1,
          0.2,
          0.3,
          0.4,
          0.5,
          0.6,
          0.7,
          0.8,
          0.9,
          1,
          1.1,
          1.2,
          1.3,
          1.4,
          1.5,
          1.6,
          1.7,
          1.8,
          1.9,
          2,
          2.1,
          2.2,
          2.3,
          2.4,
          2.5,
          2.6,
          2.7,
          2.8,
          2.9,
          3,
          3.1,
          3.2,
          3.3,
          3.4,
          3.5,
          3.6,
          3.7,
          3.8,
          3.9,
          4,
          4.1,
          4.2,
          4.3,
          4.4,
          4.5,
          4.6,
          4.7,
          4.8,
          4.9,
          5,
          5.1,
          5.2,
          5.3,
          5.4,
          5.5,
          5.6,
          5.7,
          5.8,
          5.9,
          6,
          6.1,
          6.2,
          6.3,
          6.4,
          6.5,
          6.6,
          6.7,
          6.8,
          6.9,
          7,
          7.1,
          7.2,
          7.3,
          7.4,
          7.5,
          7.6,
          7.7,
          7.8,
          7.9,
          8,
          8.1,
          8.2,
          8.3,
          8.4,
          8.5,
          8.6,
          8.7,
          8.8,
          8.9,
          9,
          9.1,
          9.2,
          9.3,
          9.4,
          9.5,
          9.6,
          9.7,
          9.8,
          9.9,
          10,
          10.1,
          10.2,
          10.3,
          10.4,
          10.5,
          10.6,
          10.7,
          10.8,
          10.9
         ],
         "xaxis": "x2",
         "y": [
          0,
          0,
          0,
          0,
          0,
          0,
          0,
          0,
          0,
          0,
          0,
          0,
          0.6687605403575789,
          1.3805611379866325,
          -1.8648338985612047,
          -13.023045992052742,
          -33.26758286219068,
          -61.669175143728935,
          -96.48513652854885,
          -135.87971197776332,
          -178.17954422449816,
          -221.89479503381392,
          -263.8344387197299,
          -306.38137831693524,
          -347.35871241560545,
          -382.20798398090983,
          -407.50909645972615,
          -422.0451104320622,
          -426.36369523790717,
          -421.9706959869583,
          -410.71710955327757,
          -394.4718933184222,
          -374.980946361077,
          -353.8018240768534,
          -332.25529709292744,
          -311.3826069596099,
          -291.920282764914,
          -274.30509467569277,
          -258.7111030628541,
          -245.10967618918926,
          -233.33795724447538,
          -223.1623072850076,
          -214.3281669672377,
          -206.59341232248886,
          -199.74655424386754,
          -193.61337732794817,
          -188.05612023033916,
          -182.96873253380713,
          -178.2707408079873,
          -173.90125429175166,
          -169.8138535713726,
          -165.97258672924886,
          -162.3490103736196,
          -158.920089668458,
          -155.66674617948675,
          -152.57286563135273,
          -149.6246182727852,
          -146.80998561741188,
          -144.11842152378512,
          -141.54060099493552,
          -139.0682274813866,
          -136.6938806339514,
          -134.41089325189253,
          -132.21325017593415,
          -130.09550421530295,
          -128.0527056006886,
          -126.08034234423326,
          -124.17428949087768,
          -122.33076567924012,
          -120.54629575494405,
          -118.81767842839243,
          -117.14195816291344,
          -115.51640063160298,
          -113.93847120168984,
          -112.40581600094126,
          -110.91624519700186,
          -109.4677181818942,
          -108.0583304035642,
          -106.68630162686358,
          -105.34996543965727,
          -104.0477598472623,
          -102.77821882128343,
          -101.53996468798601,
          -100.33170125733186,
          -99.15220760726595,
          -98.00033244922518,
          -96.8749890105013,
          -95.77515037732863,
          -94.69984524960164,
          -93.64815406417176,
          -92.61920544886678,
          -91.61217297386375,
          -90.62627217093332,
          -89.66075779444098,
          -88.71492130093094,
          -87.78808852667932,
          -86.87961754484297,
          -85.98889668579857,
          -85.11534270599181,
          -84.25839909214085,
          -83.41753448897967,
          -82.59224123991518,
          -81.78203403102651,
          -80.98644862976768,
          -80.2050407105686,
          -79.43738476026876,
          -78.68307305698102,
          -77.94171471657268,
          -77.21293480148265,
          -76.49637348706744
         ],
         "yaxis": "y2"
        },
        {
         "line": {
          "color": "rgb(255, 102, 0)",
          "width": 2
         },
         "mode": "lines",
         "name": "LR",
         "showlegend": false,
         "type": "scatter",
         "x": [
          0,
          0.1,
          0.2,
          0.3,
          0.4,
          0.5,
          0.6,
          0.7,
          0.8,
          0.9,
          1,
          1.1,
          1.2,
          1.3,
          1.4,
          1.5,
          1.6,
          1.7,
          1.8,
          1.9,
          2,
          2.1,
          2.2,
          2.3,
          2.4,
          2.5,
          2.6,
          2.7,
          2.8,
          2.9,
          3,
          3.1,
          3.2,
          3.3,
          3.4,
          3.5,
          3.6,
          3.7,
          3.8,
          3.9,
          4,
          4.1,
          4.2,
          4.3,
          4.4,
          4.5,
          4.6,
          4.7,
          4.8,
          4.9,
          5,
          5.1,
          5.2,
          5.3,
          5.4,
          5.5,
          5.6,
          5.7,
          5.8,
          5.9,
          6,
          6.1,
          6.2,
          6.3,
          6.4,
          6.5,
          6.6,
          6.7,
          6.8,
          6.9,
          7,
          7.1,
          7.2,
          7.3,
          7.4,
          7.5,
          7.6,
          7.7,
          7.8,
          7.9,
          8,
          8.1,
          8.2,
          8.3,
          8.4,
          8.5,
          8.6,
          8.7,
          8.8,
          8.9,
          9,
          9.1,
          9.2,
          9.3,
          9.4,
          9.5,
          9.6,
          9.7,
          9.8,
          9.9,
          10,
          10.1,
          10.2,
          10.3,
          10.4,
          10.5,
          10.6,
          10.7,
          10.8,
          10.9
         ],
         "xaxis": "x2",
         "y": [
          0,
          0,
          0,
          0,
          0,
          0,
          0,
          0,
          0,
          0,
          0,
          0,
          0.6147021985202646,
          1.1733233471714204,
          -1.5057605681441821,
          -10.120047967047247,
          -24.76790502309398,
          -43.39593364477646,
          -63.204102633982664,
          -81.75375609700717,
          -97.39150590461982,
          -109.20826778230246,
          -129.76257955640864,
          -150.71890292879257,
          -165.6035661501101,
          -173.30292178313866,
          -176.00647463605617,
          -176.3153876575045,
          -175.8206654478496,
          -175.064625470562,
          -173.99704383262002,
          -172.39079278909938,
          -170.0753797451307,
          -167.01924855921354,
          -163.32420022784396,
          -159.1805073665499,
          -154.81230418435743,
          -150.43015685841704,
          -146.19961340670545,
          -142.2281069210858,
          -138.56735213767675,
          -135.22532385371323,
          -132.18155042891536,
          -129.40109507741187,
          -126.84491158363099,
          -124.4761835856343,
          -122.26335871664855,
          -120.18095145580598,
          -118.20909947459869,
          -116.3325889129082,
          -114.53978400412174,
          -112.82167932105449,
          -111.17115228956935,
          -109.5824162802748,
          -108.05064048685644,
          -106.5716941632508,
          -105.14197682444664,
          -103.75830469886604,
          -102.41783268858461,
          -101.11799842778039,
          -99.8564802576352,
          -98.63116430477737,
          -97.44011785566215,
          -96.28156734522592,
          -95.15387989171613,
          -94.05554764729877,
          -92.98517443045507,
          -91.94146423077311,
          -90.92321126321735,
          -89.9292913132932,
          -88.9586541644935,
          -88.01031693902081,
          -87.08335821429618,
          -86.17691280276824,
          -85.29016710228831,
          -84.42235493996098,
          -83.57275384486624,
          -82.74068169514841,
          -81.92549369322248,
          -81.12657962966315,
          -80.343361401993,
          -79.57529075929615,
          -78.8218472475312,
          -78.08253633373533,
          -77.3568876901248,
          -76.64445362148932,
          -75.94480762131907,
          -75.25754304385784,
          -74.58227188077993,
          -73.9186236324934,
          -73.2662442651989,
          -72.62479524581444,
          -71.99395264773483,
          -71.37340632113876,
          -70.76285912221715,
          -70.16202619627289,
          -69.57063431014866,
          -68.98842122989383,
          -68.41513513997583,
          -67.85053410069875,
          -67.2943855408045,
          -66.74646578251314,
          -66.2065595965108,
          -65.6744597846161,
          -65.14996678805896,
          -64.63288831948499,
          -64.12303901696261,
          -63.62024011841463,
          -63.124319155030136,
          -62.63510966233121
         ],
         "yaxis": "y2"
        }
       ],
       "layout": {
        "autosize": false,
        "font": {
         "color": "black",
         "family": "Arial",
         "size": 14
        },
        "height": 500,
        "legend": {
         "orientation": "h",
         "x": 0.01,
         "xanchor": "left",
         "y": 1.1,
         "yanchor": "top"
        },
        "template": {
         "data": {
          "bar": [
           {
            "error_x": {
             "color": "#2a3f5f"
            },
            "error_y": {
             "color": "#2a3f5f"
            },
            "marker": {
             "line": {
              "color": "white",
              "width": 0.5
             }
            },
            "type": "bar"
           }
          ],
          "barpolar": [
           {
            "marker": {
             "line": {
              "color": "white",
              "width": 0.5
             }
            },
            "type": "barpolar"
           }
          ],
          "carpet": [
           {
            "aaxis": {
             "endlinecolor": "#2a3f5f",
             "gridcolor": "#C8D4E3",
             "linecolor": "#C8D4E3",
             "minorgridcolor": "#C8D4E3",
             "startlinecolor": "#2a3f5f"
            },
            "baxis": {
             "endlinecolor": "#2a3f5f",
             "gridcolor": "#C8D4E3",
             "linecolor": "#C8D4E3",
             "minorgridcolor": "#C8D4E3",
             "startlinecolor": "#2a3f5f"
            },
            "type": "carpet"
           }
          ],
          "choropleth": [
           {
            "colorbar": {
             "outlinewidth": 0,
             "ticks": ""
            },
            "type": "choropleth"
           }
          ],
          "contour": [
           {
            "colorbar": {
             "outlinewidth": 0,
             "ticks": ""
            },
            "colorscale": [
             [
              0,
              "#0d0887"
             ],
             [
              0.1111111111111111,
              "#46039f"
             ],
             [
              0.2222222222222222,
              "#7201a8"
             ],
             [
              0.3333333333333333,
              "#9c179e"
             ],
             [
              0.4444444444444444,
              "#bd3786"
             ],
             [
              0.5555555555555556,
              "#d8576b"
             ],
             [
              0.6666666666666666,
              "#ed7953"
             ],
             [
              0.7777777777777778,
              "#fb9f3a"
             ],
             [
              0.8888888888888888,
              "#fdca26"
             ],
             [
              1,
              "#f0f921"
             ]
            ],
            "type": "contour"
           }
          ],
          "contourcarpet": [
           {
            "colorbar": {
             "outlinewidth": 0,
             "ticks": ""
            },
            "type": "contourcarpet"
           }
          ],
          "heatmap": [
           {
            "colorbar": {
             "outlinewidth": 0,
             "ticks": ""
            },
            "colorscale": [
             [
              0,
              "#0d0887"
             ],
             [
              0.1111111111111111,
              "#46039f"
             ],
             [
              0.2222222222222222,
              "#7201a8"
             ],
             [
              0.3333333333333333,
              "#9c179e"
             ],
             [
              0.4444444444444444,
              "#bd3786"
             ],
             [
              0.5555555555555556,
              "#d8576b"
             ],
             [
              0.6666666666666666,
              "#ed7953"
             ],
             [
              0.7777777777777778,
              "#fb9f3a"
             ],
             [
              0.8888888888888888,
              "#fdca26"
             ],
             [
              1,
              "#f0f921"
             ]
            ],
            "type": "heatmap"
           }
          ],
          "heatmapgl": [
           {
            "colorbar": {
             "outlinewidth": 0,
             "ticks": ""
            },
            "colorscale": [
             [
              0,
              "#0d0887"
             ],
             [
              0.1111111111111111,
              "#46039f"
             ],
             [
              0.2222222222222222,
              "#7201a8"
             ],
             [
              0.3333333333333333,
              "#9c179e"
             ],
             [
              0.4444444444444444,
              "#bd3786"
             ],
             [
              0.5555555555555556,
              "#d8576b"
             ],
             [
              0.6666666666666666,
              "#ed7953"
             ],
             [
              0.7777777777777778,
              "#fb9f3a"
             ],
             [
              0.8888888888888888,
              "#fdca26"
             ],
             [
              1,
              "#f0f921"
             ]
            ],
            "type": "heatmapgl"
           }
          ],
          "histogram": [
           {
            "marker": {
             "colorbar": {
              "outlinewidth": 0,
              "ticks": ""
             }
            },
            "type": "histogram"
           }
          ],
          "histogram2d": [
           {
            "colorbar": {
             "outlinewidth": 0,
             "ticks": ""
            },
            "colorscale": [
             [
              0,
              "#0d0887"
             ],
             [
              0.1111111111111111,
              "#46039f"
             ],
             [
              0.2222222222222222,
              "#7201a8"
             ],
             [
              0.3333333333333333,
              "#9c179e"
             ],
             [
              0.4444444444444444,
              "#bd3786"
             ],
             [
              0.5555555555555556,
              "#d8576b"
             ],
             [
              0.6666666666666666,
              "#ed7953"
             ],
             [
              0.7777777777777778,
              "#fb9f3a"
             ],
             [
              0.8888888888888888,
              "#fdca26"
             ],
             [
              1,
              "#f0f921"
             ]
            ],
            "type": "histogram2d"
           }
          ],
          "histogram2dcontour": [
           {
            "colorbar": {
             "outlinewidth": 0,
             "ticks": ""
            },
            "colorscale": [
             [
              0,
              "#0d0887"
             ],
             [
              0.1111111111111111,
              "#46039f"
             ],
             [
              0.2222222222222222,
              "#7201a8"
             ],
             [
              0.3333333333333333,
              "#9c179e"
             ],
             [
              0.4444444444444444,
              "#bd3786"
             ],
             [
              0.5555555555555556,
              "#d8576b"
             ],
             [
              0.6666666666666666,
              "#ed7953"
             ],
             [
              0.7777777777777778,
              "#fb9f3a"
             ],
             [
              0.8888888888888888,
              "#fdca26"
             ],
             [
              1,
              "#f0f921"
             ]
            ],
            "type": "histogram2dcontour"
           }
          ],
          "mesh3d": [
           {
            "colorbar": {
             "outlinewidth": 0,
             "ticks": ""
            },
            "type": "mesh3d"
           }
          ],
          "parcoords": [
           {
            "line": {
             "colorbar": {
              "outlinewidth": 0,
              "ticks": ""
             }
            },
            "type": "parcoords"
           }
          ],
          "pie": [
           {
            "automargin": true,
            "type": "pie"
           }
          ],
          "scatter": [
           {
            "marker": {
             "colorbar": {
              "outlinewidth": 0,
              "ticks": ""
             }
            },
            "type": "scatter"
           }
          ],
          "scatter3d": [
           {
            "line": {
             "colorbar": {
              "outlinewidth": 0,
              "ticks": ""
             }
            },
            "marker": {
             "colorbar": {
              "outlinewidth": 0,
              "ticks": ""
             }
            },
            "type": "scatter3d"
           }
          ],
          "scattercarpet": [
           {
            "marker": {
             "colorbar": {
              "outlinewidth": 0,
              "ticks": ""
             }
            },
            "type": "scattercarpet"
           }
          ],
          "scattergeo": [
           {
            "marker": {
             "colorbar": {
              "outlinewidth": 0,
              "ticks": ""
             }
            },
            "type": "scattergeo"
           }
          ],
          "scattergl": [
           {
            "marker": {
             "colorbar": {
              "outlinewidth": 0,
              "ticks": ""
             }
            },
            "type": "scattergl"
           }
          ],
          "scattermapbox": [
           {
            "marker": {
             "colorbar": {
              "outlinewidth": 0,
              "ticks": ""
             }
            },
            "type": "scattermapbox"
           }
          ],
          "scatterpolar": [
           {
            "marker": {
             "colorbar": {
              "outlinewidth": 0,
              "ticks": ""
             }
            },
            "type": "scatterpolar"
           }
          ],
          "scatterpolargl": [
           {
            "marker": {
             "colorbar": {
              "outlinewidth": 0,
              "ticks": ""
             }
            },
            "type": "scatterpolargl"
           }
          ],
          "scatterternary": [
           {
            "marker": {
             "colorbar": {
              "outlinewidth": 0,
              "ticks": ""
             }
            },
            "type": "scatterternary"
           }
          ],
          "surface": [
           {
            "colorbar": {
             "outlinewidth": 0,
             "ticks": ""
            },
            "colorscale": [
             [
              0,
              "#0d0887"
             ],
             [
              0.1111111111111111,
              "#46039f"
             ],
             [
              0.2222222222222222,
              "#7201a8"
             ],
             [
              0.3333333333333333,
              "#9c179e"
             ],
             [
              0.4444444444444444,
              "#bd3786"
             ],
             [
              0.5555555555555556,
              "#d8576b"
             ],
             [
              0.6666666666666666,
              "#ed7953"
             ],
             [
              0.7777777777777778,
              "#fb9f3a"
             ],
             [
              0.8888888888888888,
              "#fdca26"
             ],
             [
              1,
              "#f0f921"
             ]
            ],
            "type": "surface"
           }
          ],
          "table": [
           {
            "cells": {
             "fill": {
              "color": "#EBF0F8"
             },
             "line": {
              "color": "white"
             }
            },
            "header": {
             "fill": {
              "color": "#C8D4E3"
             },
             "line": {
              "color": "white"
             }
            },
            "type": "table"
           }
          ]
         },
         "layout": {
          "annotationdefaults": {
           "arrowcolor": "#2a3f5f",
           "arrowhead": 0,
           "arrowwidth": 1
          },
          "coloraxis": {
           "colorbar": {
            "outlinewidth": 0,
            "ticks": ""
           }
          },
          "colorscale": {
           "diverging": [
            [
             0,
             "#8e0152"
            ],
            [
             0.1,
             "#c51b7d"
            ],
            [
             0.2,
             "#de77ae"
            ],
            [
             0.3,
             "#f1b6da"
            ],
            [
             0.4,
             "#fde0ef"
            ],
            [
             0.5,
             "#f7f7f7"
            ],
            [
             0.6,
             "#e6f5d0"
            ],
            [
             0.7,
             "#b8e186"
            ],
            [
             0.8,
             "#7fbc41"
            ],
            [
             0.9,
             "#4d9221"
            ],
            [
             1,
             "#276419"
            ]
           ],
           "sequential": [
            [
             0,
             "#0d0887"
            ],
            [
             0.1111111111111111,
             "#46039f"
            ],
            [
             0.2222222222222222,
             "#7201a8"
            ],
            [
             0.3333333333333333,
             "#9c179e"
            ],
            [
             0.4444444444444444,
             "#bd3786"
            ],
            [
             0.5555555555555556,
             "#d8576b"
            ],
            [
             0.6666666666666666,
             "#ed7953"
            ],
            [
             0.7777777777777778,
             "#fb9f3a"
            ],
            [
             0.8888888888888888,
             "#fdca26"
            ],
            [
             1,
             "#f0f921"
            ]
           ],
           "sequentialminus": [
            [
             0,
             "#0d0887"
            ],
            [
             0.1111111111111111,
             "#46039f"
            ],
            [
             0.2222222222222222,
             "#7201a8"
            ],
            [
             0.3333333333333333,
             "#9c179e"
            ],
            [
             0.4444444444444444,
             "#bd3786"
            ],
            [
             0.5555555555555556,
             "#d8576b"
            ],
            [
             0.6666666666666666,
             "#ed7953"
            ],
            [
             0.7777777777777778,
             "#fb9f3a"
            ],
            [
             0.8888888888888888,
             "#fdca26"
            ],
            [
             1,
             "#f0f921"
            ]
           ]
          },
          "colorway": [
           "#636efa",
           "#EF553B",
           "#00cc96",
           "#ab63fa",
           "#FFA15A",
           "#19d3f3",
           "#FF6692",
           "#B6E880",
           "#FF97FF",
           "#FECB52"
          ],
          "font": {
           "color": "#2a3f5f"
          },
          "geo": {
           "bgcolor": "white",
           "lakecolor": "white",
           "landcolor": "white",
           "showlakes": true,
           "showland": true,
           "subunitcolor": "#C8D4E3"
          },
          "hoverlabel": {
           "align": "left"
          },
          "hovermode": "closest",
          "mapbox": {
           "style": "light"
          },
          "paper_bgcolor": "white",
          "plot_bgcolor": "white",
          "polar": {
           "angularaxis": {
            "gridcolor": "#EBF0F8",
            "linecolor": "#EBF0F8",
            "ticks": ""
           },
           "bgcolor": "white",
           "radialaxis": {
            "gridcolor": "#EBF0F8",
            "linecolor": "#EBF0F8",
            "ticks": ""
           }
          },
          "scene": {
           "xaxis": {
            "backgroundcolor": "white",
            "gridcolor": "#DFE8F3",
            "gridwidth": 2,
            "linecolor": "#EBF0F8",
            "showbackground": true,
            "ticks": "",
            "zerolinecolor": "#EBF0F8"
           },
           "yaxis": {
            "backgroundcolor": "white",
            "gridcolor": "#DFE8F3",
            "gridwidth": 2,
            "linecolor": "#EBF0F8",
            "showbackground": true,
            "ticks": "",
            "zerolinecolor": "#EBF0F8"
           },
           "zaxis": {
            "backgroundcolor": "white",
            "gridcolor": "#DFE8F3",
            "gridwidth": 2,
            "linecolor": "#EBF0F8",
            "showbackground": true,
            "ticks": "",
            "zerolinecolor": "#EBF0F8"
           }
          },
          "shapedefaults": {
           "line": {
            "color": "#2a3f5f"
           }
          },
          "ternary": {
           "aaxis": {
            "gridcolor": "#DFE8F3",
            "linecolor": "#A2B1C6",
            "ticks": ""
           },
           "baxis": {
            "gridcolor": "#DFE8F3",
            "linecolor": "#A2B1C6",
            "ticks": ""
           },
           "bgcolor": "white",
           "caxis": {
            "gridcolor": "#DFE8F3",
            "linecolor": "#A2B1C6",
            "ticks": ""
           }
          },
          "title": {
           "x": 0.05
          },
          "xaxis": {
           "automargin": true,
           "gridcolor": "#EBF0F8",
           "linecolor": "#EBF0F8",
           "ticks": "",
           "title": {
            "standoff": 15
           },
           "zerolinecolor": "#EBF0F8",
           "zerolinewidth": 2
          },
          "yaxis": {
           "automargin": true,
           "gridcolor": "#EBF0F8",
           "linecolor": "#EBF0F8",
           "ticks": "",
           "title": {
            "standoff": 15
           },
           "zerolinecolor": "#EBF0F8",
           "zerolinewidth": 2
          }
         }
        },
        "title": {
         "text": "Veh1 - Tire Forces"
        },
        "width": 900,
        "xaxis": {
         "anchor": "y",
         "domain": [
          0,
          1
         ],
         "linecolor": "black",
         "linewidth": 1,
         "matches": "x2",
         "showgrid": false,
         "showline": true,
         "showticklabels": false,
         "tickcolor": "black",
         "ticklen": 10,
         "ticks": "outside",
         "tickwidth": 1,
         "title": {
          "text": ""
         },
         "zeroline": false
        },
        "xaxis2": {
         "anchor": "y2",
         "domain": [
          0,
          1
         ],
         "linecolor": "black",
         "linewidth": 1,
         "showgrid": false,
         "showline": true,
         "tickcolor": "black",
         "ticklen": 10,
         "ticks": "outside",
         "tickwidth": 1,
         "title": {
          "text": "Time (s)"
         },
         "zeroline": false
        },
        "yaxis": {
         "anchor": "x",
         "domain": [
          0.525,
          1
         ],
         "linecolor": "black",
         "linewidth": 1,
         "showgrid": false,
         "showline": true,
         "tickcolor": "black",
         "ticklen": 10,
         "ticks": "outside",
         "tickwidth": 1,
         "title": {
          "text": "Forward (lb)"
         },
         "zeroline": false
        },
        "yaxis2": {
         "anchor": "x2",
         "domain": [
          0,
          0.475
         ],
         "linecolor": "black",
         "linewidth": 1,
         "showgrid": false,
         "showline": true,
         "tickcolor": "black",
         "ticklen": 10,
         "ticks": "outside",
         "tickwidth": 1,
         "title": {
          "text": "Rightward (lb)"
         },
         "zeroline": false
        }
       }
      },
      "text/html": [
       "<div>\n",
       "        \n",
       "        \n",
       "            <div id=\"cc80c372-208d-4225-be76-f57cac970158\" class=\"plotly-graph-div\" style=\"height:500px; width:900px;\"></div>\n",
       "            <script type=\"text/javascript\">\n",
       "                require([\"plotly\"], function(Plotly) {\n",
       "                    window.PLOTLYENV=window.PLOTLYENV || {};\n",
       "                    \n",
       "                if (document.getElementById(\"cc80c372-208d-4225-be76-f57cac970158\")) {\n",
       "                    Plotly.newPlot(\n",
       "                        'cc80c372-208d-4225-be76-f57cac970158',\n",
       "                        [{\"line\": {\"color\": \"rgb(0, 0, 255)\", \"width\": 2}, \"mode\": \"lines\", \"name\": \"LF\", \"type\": \"scatter\", \"x\": [0.0, 0.1, 0.2, 0.3, 0.4, 0.5, 0.6, 0.7, 0.8, 0.9, 1.0, 1.1, 1.2, 1.3, 1.4, 1.5, 1.6, 1.7, 1.8, 1.9, 2.0, 2.1, 2.2, 2.3, 2.4, 2.5, 2.6, 2.7, 2.8, 2.9, 3.0, 3.1, 3.2, 3.3, 3.4, 3.5, 3.6, 3.7, 3.8, 3.9, 4.0, 4.1, 4.2, 4.3, 4.4, 4.5, 4.6, 4.7, 4.8, 4.9, 5.0, 5.1, 5.2, 5.3, 5.4, 5.5, 5.6, 5.7, 5.8, 5.9, 6.0, 6.1, 6.2, 6.3, 6.4, 6.5, 6.6, 6.7, 6.8, 6.9, 7.0, 7.1, 7.2, 7.3, 7.4, 7.5, 7.6, 7.7, 7.8, 7.9, 8.0, 8.1, 8.2, 8.3, 8.4, 8.5, 8.6, 8.7, 8.8, 8.9, 9.0, 9.1, 9.2, 9.3, 9.4, 9.5, 9.6, 9.7, 9.8, 9.9, 10.0, 10.1, 10.2, 10.3, 10.4, 10.5, 10.6, 10.7, 10.8, 10.9], \"xaxis\": \"x\", \"y\": [0.0, 0.0, 0.0, 0.0, 0.0, 0.0, 0.0, 0.0, 0.0, 0.0, 0.0, -3.4441324086703986, -13.434029654245892, -25.776100797118985, -38.99684839328835, -53.82286902214402, -71.18043758517007, -91.34133080538695, -113.90460305493512, -138.10309022994056, -163.0891452910997, -146.05186410414436, -134.49419736645424, -131.97204866134604, -133.7738396406819, -135.66871944124546, -135.78205827884676, -133.9834088712538, -130.77530414502903, -126.68775997243591, -122.11218894123277, -117.31086139719659, -112.46002488023905, -107.6843081949691, -103.07689360478747, -98.70834352760244, -94.62841902637254, -90.8653312335897, -87.42589909517646, -84.29824727445019, -81.45681609906526, -78.86835323724249, -76.49741770095748, -74.31043627322903, -72.2780355079887, -70.3758894673356, -68.58455976307636, -66.88880857121909, -65.27674570025789, -63.73902341077528, -62.268172546923786, -60.858097763902244, -59.503712629586, -58.20068360321332, -56.94525289514344, -55.73411588613887, -54.56433509207727, -53.433278092892394, -52.33857106085379, -51.27806258059764, -50.24979452145742, -49.25197801371265, -48.282973322276455, -47.3412728128622, -46.42548642480516, -45.53432919832315, -44.666610498864856, -43.82122465453208, -42.997142779620305, -42.19340560094723, -41.409117136977684, -40.64343910585678, -39.89558595949742, -39.164820458059395, -38.45044971317509, -37.75182163962651, -37.06832176437445, -36.39937034935417, -35.74441979068518, -35.10295226216259, -34.47447757529682, -33.85853123187554, -33.25467264815898, -32.6624835324792, -32.081566400281844, -31.511543212596038, -30.95205412559104, -30.402756340323045, -29.86332304303032, -29.333442427415747, -28.812816791306364, -28.301161700901044, -27.79820521654536, -27.303687174603926, -26.817358520561818, -26.33898068898012, -25.868325026363973, -25.40517225339133, -24.949311963291127, -24.500542153465133, -24.058668787722645, -23.623505386733196, -23.1948726445289, -22.77259806907634, -22.35651564511308, -21.946465517606185, -21.542293694324453, -21.143851766150433, -20.7509966438687, -20.36359031027433], \"yaxis\": \"y\"}, {\"line\": {\"color\": \"rgb(0, 255, 0)\", \"width\": 2}, \"mode\": \"lines\", \"name\": \"RF\", \"type\": \"scatter\", \"x\": [0.0, 0.1, 0.2, 0.3, 0.4, 0.5, 0.6, 0.7, 0.8, 0.9, 1.0, 1.1, 1.2, 1.3, 1.4, 1.5, 1.6, 1.7, 1.8, 1.9, 2.0, 2.1, 2.2, 2.3, 2.4, 2.5, 2.6, 2.7, 2.8, 2.9, 3.0, 3.1, 3.2, 3.3, 3.4, 3.5, 3.6, 3.7, 3.8, 3.9, 4.0, 4.1, 4.2, 4.3, 4.4, 4.5, 4.6, 4.7, 4.8, 4.9, 5.0, 5.1, 5.2, 5.3, 5.4, 5.5, 5.6, 5.7, 5.8, 5.9, 6.0, 6.1, 6.2, 6.3, 6.4, 6.5, 6.6, 6.7, 6.8, 6.9, 7.0, 7.1, 7.2, 7.3, 7.4, 7.5, 7.6, 7.7, 7.8, 7.9, 8.0, 8.1, 8.2, 8.3, 8.4, 8.5, 8.6, 8.7, 8.8, 8.9, 9.0, 9.1, 9.2, 9.3, 9.4, 9.5, 9.6, 9.7, 9.8, 9.9, 10.0, 10.1, 10.2, 10.3, 10.4, 10.5, 10.6, 10.7, 10.8, 10.9], \"xaxis\": \"x\", \"y\": [0.0, 0.0, 0.0, 0.0, 0.0, 0.0, 0.0, 0.0, 0.0, 0.0, 0.0, -3.4441324086703986, -14.617902211705575, -30.4038859657481, -48.80579584716671, -70.97601780084669, -99.54811998972772, -136.9899426277101, -185.0346815976602, -244.67493832901792, -316.2731503907126, -317.78743665113234, -305.7590991107505, -306.4648725603298, -318.2714355535509, -333.07495984850465, -344.34601267433965, -349.0442833197544, -346.9670672319386, -339.4061236486755, -328.072033495193, -314.52629782442597, -299.9957233703137, -285.37616757271053, -271.2926933749403, -258.15675746747354, -246.2079287869922, -235.5463016429435, -226.16316310302437, -217.97260853792568, -210.84242446265858, -204.62097328827832, -199.1575544215146, -194.31542114150682, -189.97819362744139, -186.05131121977882, -182.4603812533333, -179.1480229060755, -176.07033655306955, -173.19365564453437, -170.49186874555303, -167.944363362007, -165.53452160572036, -163.24865403816813, -161.07525758185463, -159.00450168146403, -157.02786983784733, -155.1379046287018, -153.32802107347914, -151.59236546463413, -149.9257051854428, -148.32334044837174, -146.7810322000608, -145.29494239632703, -143.86158400484928, -142.47777880159816, -141.14062149323885, -139.84744902594954, -138.59581418247998, -137.38346275093076, -136.2083136876571, -135.06844180470853, -133.9620625975029, -132.88751889648552, -131.8432690810725, -130.82787663801653, -129.8400008817045, -128.87838868263782, -127.94186707390917, -127.02933662495136, -126.13976548801351, -125.2721840363139, -124.42568002413178, -123.599394208604, -122.79251638103486, -122.00428176234074, -121.23396772306549, -120.48089079336643, -119.74440393263433, -119.02389403207282, -118.31877962672709, -117.62850879619074, -116.95255723559455, -116.29042648055194, -115.64164227153982, -115.0057530447743, -114.38232853802454, -113.77095850102494, -113.1712515012196, -112.5828338165177, -112.00534840757555, -111.43845396286339, -110.88182401043362, -110.33514609089141, -109.79812098659349, -109.2704620025636, -108.75189429503153, -108.24215424387673, -107.74098886558919, -107.24815526366359], \"yaxis\": \"y\"}, {\"line\": {\"color\": \"rgb(153, 0, 204)\", \"width\": 2}, \"mode\": \"lines\", \"name\": \"RR\", \"type\": \"scatter\", \"x\": [0.0, 0.1, 0.2, 0.3, 0.4, 0.5, 0.6, 0.7, 0.8, 0.9, 1.0, 1.1, 1.2, 1.3, 1.4, 1.5, 1.6, 1.7, 1.8, 1.9, 2.0, 2.1, 2.2, 2.3, 2.4, 2.5, 2.6, 2.7, 2.8, 2.9, 3.0, 3.1, 3.2, 3.3, 3.4, 3.5, 3.6, 3.7, 3.8, 3.9, 4.0, 4.1, 4.2, 4.3, 4.4, 4.5, 4.6, 4.7, 4.8, 4.9, 5.0, 5.1, 5.2, 5.3, 5.4, 5.5, 5.6, 5.7, 5.8, 5.9, 6.0, 6.1, 6.2, 6.3, 6.4, 6.5, 6.6, 6.7, 6.8, 6.9, 7.0, 7.1, 7.2, 7.3, 7.4, 7.5, 7.6, 7.7, 7.8, 7.9, 8.0, 8.1, 8.2, 8.3, 8.4, 8.5, 8.6, 8.7, 8.8, 8.9, 9.0, 9.1, 9.2, 9.3, 9.4, 9.5, 9.6, 9.7, 9.8, 9.9, 10.0, 10.1, 10.2, 10.3, 10.4, 10.5, 10.6, 10.7, 10.8, 10.9], \"xaxis\": \"x\", \"y\": [-0.0, -0.0, -0.0, -0.0, -0.0, -0.0, -0.0, -0.0, -0.0, -0.0, -0.0, -0.0, -0.0, -0.0, -0.0, -0.0, -0.0, -0.0, -0.0, -0.0, -0.0, -0.0, -0.0, -0.0, -0.0, -0.0, -0.0, -0.0, -0.0, -0.0, -0.0, -0.0, -0.0, -0.0, -0.0, -0.0, -0.0, -0.0, -0.0, -0.0, -0.0, -0.0, -0.0, -0.0, -0.0, -0.0, -0.0, -0.0, -0.0, -0.0, -0.0, -0.0, -0.0, -0.0, -0.0, -0.0, -0.0, -0.0, -0.0, -0.0, -0.0, -0.0, -0.0, -0.0, -0.0, -0.0, -0.0, -0.0, -0.0, -0.0, -0.0, -0.0, -0.0, -0.0, -0.0, -0.0, -0.0, -0.0, -0.0, -0.0, -0.0, -0.0, -0.0, -0.0, -0.0, -0.0, -0.0, -0.0, -0.0, -0.0, -0.0, -0.0, -0.0, -0.0, -0.0, -0.0, -0.0, -0.0, -0.0, -0.0, -0.0, -0.0, -0.0, -0.0, -0.0, -0.0, -0.0, -0.0, -0.0, -0.0], \"yaxis\": \"y\"}, {\"line\": {\"color\": \"rgb(255, 102, 0)\", \"width\": 2}, \"mode\": \"lines\", \"name\": \"LR\", \"type\": \"scatter\", \"x\": [0.0, 0.1, 0.2, 0.3, 0.4, 0.5, 0.6, 0.7, 0.8, 0.9, 1.0, 1.1, 1.2, 1.3, 1.4, 1.5, 1.6, 1.7, 1.8, 1.9, 2.0, 2.1, 2.2, 2.3, 2.4, 2.5, 2.6, 2.7, 2.8, 2.9, 3.0, 3.1, 3.2, 3.3, 3.4, 3.5, 3.6, 3.7, 3.8, 3.9, 4.0, 4.1, 4.2, 4.3, 4.4, 4.5, 4.6, 4.7, 4.8, 4.9, 5.0, 5.1, 5.2, 5.3, 5.4, 5.5, 5.6, 5.7, 5.8, 5.9, 6.0, 6.1, 6.2, 6.3, 6.4, 6.5, 6.6, 6.7, 6.8, 6.9, 7.0, 7.1, 7.2, 7.3, 7.4, 7.5, 7.6, 7.7, 7.8, 7.9, 8.0, 8.1, 8.2, 8.3, 8.4, 8.5, 8.6, 8.7, 8.8, 8.9, 9.0, 9.1, 9.2, 9.3, 9.4, 9.5, 9.6, 9.7, 9.8, 9.9, 10.0, 10.1, 10.2, 10.3, 10.4, 10.5, 10.6, 10.7, 10.8, 10.9], \"xaxis\": \"x\", \"y\": [-0.0, -0.0, -0.0, -0.0, -0.0, -0.0, -0.0, -0.0, -0.0, -0.0, -0.0, -0.0, -0.0, -0.0, -0.0, -0.0, -0.0, -0.0, -0.0, -0.0, -0.0, -0.0, -0.0, -0.0, -0.0, -0.0, -0.0, -0.0, -0.0, -0.0, -0.0, -0.0, -0.0, -0.0, -0.0, -0.0, -0.0, -0.0, -0.0, -0.0, -0.0, -0.0, -0.0, -0.0, -0.0, -0.0, -0.0, -0.0, -0.0, -0.0, -0.0, -0.0, -0.0, -0.0, -0.0, -0.0, -0.0, -0.0, -0.0, -0.0, -0.0, -0.0, -0.0, -0.0, -0.0, -0.0, -0.0, -0.0, -0.0, -0.0, -0.0, -0.0, -0.0, -0.0, -0.0, -0.0, -0.0, -0.0, -0.0, -0.0, -0.0, -0.0, -0.0, -0.0, -0.0, -0.0, -0.0, -0.0, -0.0, -0.0, -0.0, -0.0, -0.0, -0.0, -0.0, -0.0, -0.0, -0.0, -0.0, -0.0, -0.0, -0.0, -0.0, -0.0, -0.0, -0.0, -0.0, -0.0, -0.0, -0.0], \"yaxis\": \"y\"}, {\"line\": {\"color\": \"rgb(0, 0, 255)\", \"width\": 2}, \"mode\": \"lines\", \"name\": \"LF\", \"showlegend\": false, \"type\": \"scatter\", \"x\": [0.0, 0.1, 0.2, 0.3, 0.4, 0.5, 0.6, 0.7, 0.8, 0.9, 1.0, 1.1, 1.2, 1.3, 1.4, 1.5, 1.6, 1.7, 1.8, 1.9, 2.0, 2.1, 2.2, 2.3, 2.4, 2.5, 2.6, 2.7, 2.8, 2.9, 3.0, 3.1, 3.2, 3.3, 3.4, 3.5, 3.6, 3.7, 3.8, 3.9, 4.0, 4.1, 4.2, 4.3, 4.4, 4.5, 4.6, 4.7, 4.8, 4.9, 5.0, 5.1, 5.2, 5.3, 5.4, 5.5, 5.6, 5.7, 5.8, 5.9, 6.0, 6.1, 6.2, 6.3, 6.4, 6.5, 6.6, 6.7, 6.8, 6.9, 7.0, 7.1, 7.2, 7.3, 7.4, 7.5, 7.6, 7.7, 7.8, 7.9, 8.0, 8.1, 8.2, 8.3, 8.4, 8.5, 8.6, 8.7, 8.8, 8.9, 9.0, 9.1, 9.2, 9.3, 9.4, 9.5, 9.6, 9.7, 9.8, 9.9, 10.0, 10.1, 10.2, 10.3, 10.4, 10.5, 10.6, 10.7, 10.8, 10.9], \"xaxis\": \"x2\", \"y\": [0.0, 0.0, 0.0, 0.0, 0.0, 0.0, 0.0, 0.0, 0.0, 0.0, 0.0, -96.79897019892593, -178.58805788410865, -223.93870203580443, -251.02924631027042, -274.48085048595533, -299.74717581934374, -326.64932890791937, -352.9334315775272, -376.3470890868163, -395.3881350296712, -350.15183777850353, -322.4429257871581, -316.3962038937999, -320.71590516277723, -325.25878209629985, -325.5305061343407, -321.21833662215425, -313.5270704232339, -303.72739335089125, -292.7576969674242, -281.24676094731274, -269.61712970916165, -258.16759440665885, -247.12155472715705, -236.64818044099917, -226.86677113913288, -217.8449615617817, -209.5990997813317, -202.1007152884253, -195.28853008226648, -189.0828234064355, -183.3986273136518, -178.15545174171572, -173.28287536334176, -168.72257799265668, -164.42795709301285, -160.36248076454564, -156.49764288422216, -152.81103272722092, -149.28474337627873, -145.9041615555082, -142.65709280531027, -139.53314768443332, -136.52331708534712, -133.61967835327238, -130.81518902099933, -128.10353799671373, -125.47903415043591, -122.93651957440429, -120.47129975098494, -118.07908595696296, -115.75594701174255, -113.49826843960717, -111.30271764155603, -109.16621399255253, -107.08590300745314, -105.05913389470852, -103.08343995372223, -101.156521376342, -99.27623009288673, -97.44055636569325, -95.64761688359638, -93.89564415197007, -92.18297700656429, -90.50805210658316, -88.86939628449636, -87.26561964808961, -85.6954093452038, -84.15752391412667, -82.65078815314794, -81.1740884516767, -79.72636853284084, -78.30662556386481, -76.91390659595845, -75.54730530011864, -74.20595896925549, -72.88904576051958, -71.5957821547139, -70.32542061226658, -69.07724740751848, -67.85058062505004, -66.64476830351624, -65.45918671397249, -64.29323876101952, -63.146352496278766, -62.01797973474805, -60.90759476552273, -59.81469314918315, -58.73879059488208, -57.67942191082491, -56.63614002240103, -55.60851505276796, -54.596133461140916, -53.59859723446063, -52.615523128501486, -51.646541954803666, -50.691297910135674, -49.749447945457646, -48.82066117161426], \"yaxis\": \"y2\"}, {\"line\": {\"color\": \"rgb(0, 255, 0)\", \"width\": 2}, \"mode\": \"lines\", \"name\": \"RF\", \"showlegend\": false, \"type\": \"scatter\", \"x\": [0.0, 0.1, 0.2, 0.3, 0.4, 0.5, 0.6, 0.7, 0.8, 0.9, 1.0, 1.1, 1.2, 1.3, 1.4, 1.5, 1.6, 1.7, 1.8, 1.9, 2.0, 2.1, 2.2, 2.3, 2.4, 2.5, 2.6, 2.7, 2.8, 2.9, 3.0, 3.1, 3.2, 3.3, 3.4, 3.5, 3.6, 3.7, 3.8, 3.9, 4.0, 4.1, 4.2, 4.3, 4.4, 4.5, 4.6, 4.7, 4.8, 4.9, 5.0, 5.1, 5.2, 5.3, 5.4, 5.5, 5.6, 5.7, 5.8, 5.9, 6.0, 6.1, 6.2, 6.3, 6.4, 6.5, 6.6, 6.7, 6.8, 6.9, 7.0, 7.1, 7.2, 7.3, 7.4, 7.5, 7.6, 7.7, 7.8, 7.9, 8.0, 8.1, 8.2, 8.3, 8.4, 8.5, 8.6, 8.7, 8.8, 8.9, 9.0, 9.1, 9.2, 9.3, 9.4, 9.5, 9.6, 9.7, 9.8, 9.9, 10.0, 10.1, 10.2, 10.3, 10.4, 10.5, 10.6, 10.7, 10.8, 10.9], \"xaxis\": \"x2\", \"y\": [0.0, 0.0, 0.0, 0.0, 0.0, 0.0, 0.0, 0.0, 0.0, 0.0, 0.0, -96.79897019892593, -194.3261131259471, -264.14417035392887, -314.1710843791108, -361.9568797432096, -419.20601835781406, -489.895126684938, -573.3299918144781, -666.76785189459, -766.7625633192094, -761.87904652123, -733.0417254708008, -734.7337810425753, -763.0394090144042, -798.5300976767593, -825.5518675451025, -836.8157299474318, -831.8357111364897, -813.708737494227, -786.5358388726851, -754.0606337921201, -719.2243283447841, -684.1746946996708, -650.4102891379656, -618.917557928042, -590.2708552828251, -564.7101521648161, -542.214559766624, -522.5781261545928, -505.4838762936426, -490.5682668577706, -477.4700009199462, -465.8612352450748, -455.46295519415685, -446.04845644594053, -437.4393864090925, -429.4981775119144, -422.1195826598663, -415.2228880301581, -408.745492799587, -402.63797957289376, -396.8605078172614, -391.3802578074022, -386.1696515062269, -381.2051206626122, -376.4662474075582, -371.9351529543724, -367.59605015062857, -363.4349050333414, -359.4391726728483, -355.59758557008576, -351.8999808124913, -348.3371568863946, -344.9007538110234, -341.58315195761384, -338.3773860347147, -335.2770715076571, -332.27634129885973, -329.36979105115006, -326.5524315693461, -323.8196473142825, -321.16716002793925, -318.59099673148, -316.0874614687873, -313.653110273181, -311.2847289198089, -308.97931309510346, -306.73405067118955, -304.54630581978813, -302.41360473894883, -300.333622798297, -298.30417293560237, -296.3231951602619, -294.3887470385686, -292.4989950519759, -290.65220673350234, -288.8467434993276, -287.081054102846, -285.3536686472292, -283.6631931001328, -282.0083042607487, -280.38774513509975, -278.8003206804381, -277.2448938839319, -275.72038214461764, -274.22575393091046, -272.7600256888835, -271.322258979102, -269.9115578220608, -268.5270662342836, -267.16796593891974, -265.833474236254, -264.5228420209463, -263.23535193407537, -261.9703166391704, -260.7270772124181, -259.50500163812836, -258.3034834013381, -257.12194017015963], \"yaxis\": \"y2\"}, {\"line\": {\"color\": \"rgb(153, 0, 204)\", \"width\": 2}, \"mode\": \"lines\", \"name\": \"RR\", \"showlegend\": false, \"type\": \"scatter\", \"x\": [0.0, 0.1, 0.2, 0.3, 0.4, 0.5, 0.6, 0.7, 0.8, 0.9, 1.0, 1.1, 1.2, 1.3, 1.4, 1.5, 1.6, 1.7, 1.8, 1.9, 2.0, 2.1, 2.2, 2.3, 2.4, 2.5, 2.6, 2.7, 2.8, 2.9, 3.0, 3.1, 3.2, 3.3, 3.4, 3.5, 3.6, 3.7, 3.8, 3.9, 4.0, 4.1, 4.2, 4.3, 4.4, 4.5, 4.6, 4.7, 4.8, 4.9, 5.0, 5.1, 5.2, 5.3, 5.4, 5.5, 5.6, 5.7, 5.8, 5.9, 6.0, 6.1, 6.2, 6.3, 6.4, 6.5, 6.6, 6.7, 6.8, 6.9, 7.0, 7.1, 7.2, 7.3, 7.4, 7.5, 7.6, 7.7, 7.8, 7.9, 8.0, 8.1, 8.2, 8.3, 8.4, 8.5, 8.6, 8.7, 8.8, 8.9, 9.0, 9.1, 9.2, 9.3, 9.4, 9.5, 9.6, 9.7, 9.8, 9.9, 10.0, 10.1, 10.2, 10.3, 10.4, 10.5, 10.6, 10.7, 10.8, 10.9], \"xaxis\": \"x2\", \"y\": [-0.0, -0.0, -0.0, -0.0, -0.0, -0.0, -0.0, -0.0, -0.0, -0.0, -0.0, -0.0, 0.6687605403575789, 1.3805611379866325, -1.8648338985612047, -13.023045992052742, -33.26758286219068, -61.669175143728935, -96.48513652854885, -135.87971197776332, -178.17954422449816, -221.89479503381392, -263.8344387197299, -306.38137831693524, -347.35871241560545, -382.20798398090983, -407.50909645972615, -422.0451104320622, -426.36369523790717, -421.9706959869583, -410.71710955327757, -394.4718933184222, -374.980946361077, -353.8018240768534, -332.25529709292744, -311.3826069596099, -291.920282764914, -274.30509467569277, -258.7111030628541, -245.10967618918926, -233.33795724447538, -223.1623072850076, -214.3281669672377, -206.59341232248886, -199.74655424386754, -193.61337732794817, -188.05612023033916, -182.96873253380713, -178.2707408079873, -173.90125429175166, -169.8138535713726, -165.97258672924886, -162.3490103736196, -158.920089668458, -155.66674617948675, -152.57286563135273, -149.6246182727852, -146.80998561741188, -144.11842152378512, -141.54060099493552, -139.0682274813866, -136.6938806339514, -134.41089325189253, -132.21325017593415, -130.09550421530295, -128.0527056006886, -126.08034234423326, -124.17428949087768, -122.33076567924012, -120.54629575494405, -118.81767842839243, -117.14195816291344, -115.51640063160298, -113.93847120168984, -112.40581600094126, -110.91624519700186, -109.4677181818942, -108.0583304035642, -106.68630162686358, -105.34996543965727, -104.0477598472623, -102.77821882128343, -101.53996468798601, -100.33170125733186, -99.15220760726595, -98.00033244922518, -96.8749890105013, -95.77515037732863, -94.69984524960164, -93.64815406417176, -92.61920544886678, -91.61217297386375, -90.62627217093332, -89.66075779444098, -88.71492130093094, -87.78808852667932, -86.87961754484297, -85.98889668579857, -85.11534270599181, -84.25839909214085, -83.41753448897967, -82.59224123991518, -81.78203403102651, -80.98644862976768, -80.2050407105686, -79.43738476026876, -78.68307305698102, -77.94171471657268, -77.21293480148265, -76.49637348706744], \"yaxis\": \"y2\"}, {\"line\": {\"color\": \"rgb(255, 102, 0)\", \"width\": 2}, \"mode\": \"lines\", \"name\": \"LR\", \"showlegend\": false, \"type\": \"scatter\", \"x\": [0.0, 0.1, 0.2, 0.3, 0.4, 0.5, 0.6, 0.7, 0.8, 0.9, 1.0, 1.1, 1.2, 1.3, 1.4, 1.5, 1.6, 1.7, 1.8, 1.9, 2.0, 2.1, 2.2, 2.3, 2.4, 2.5, 2.6, 2.7, 2.8, 2.9, 3.0, 3.1, 3.2, 3.3, 3.4, 3.5, 3.6, 3.7, 3.8, 3.9, 4.0, 4.1, 4.2, 4.3, 4.4, 4.5, 4.6, 4.7, 4.8, 4.9, 5.0, 5.1, 5.2, 5.3, 5.4, 5.5, 5.6, 5.7, 5.8, 5.9, 6.0, 6.1, 6.2, 6.3, 6.4, 6.5, 6.6, 6.7, 6.8, 6.9, 7.0, 7.1, 7.2, 7.3, 7.4, 7.5, 7.6, 7.7, 7.8, 7.9, 8.0, 8.1, 8.2, 8.3, 8.4, 8.5, 8.6, 8.7, 8.8, 8.9, 9.0, 9.1, 9.2, 9.3, 9.4, 9.5, 9.6, 9.7, 9.8, 9.9, 10.0, 10.1, 10.2, 10.3, 10.4, 10.5, 10.6, 10.7, 10.8, 10.9], \"xaxis\": \"x2\", \"y\": [-0.0, -0.0, -0.0, -0.0, -0.0, -0.0, -0.0, -0.0, -0.0, -0.0, -0.0, -0.0, 0.6147021985202646, 1.1733233471714204, -1.5057605681441821, -10.120047967047247, -24.76790502309398, -43.39593364477646, -63.204102633982664, -81.75375609700717, -97.39150590461982, -109.20826778230246, -129.76257955640864, -150.71890292879257, -165.6035661501101, -173.30292178313866, -176.00647463605617, -176.3153876575045, -175.8206654478496, -175.064625470562, -173.99704383262002, -172.39079278909938, -170.0753797451307, -167.01924855921354, -163.32420022784396, -159.1805073665499, -154.81230418435743, -150.43015685841704, -146.19961340670545, -142.2281069210858, -138.56735213767675, -135.22532385371323, -132.18155042891536, -129.40109507741187, -126.84491158363099, -124.4761835856343, -122.26335871664855, -120.18095145580598, -118.20909947459869, -116.3325889129082, -114.53978400412174, -112.82167932105449, -111.17115228956935, -109.5824162802748, -108.05064048685644, -106.5716941632508, -105.14197682444664, -103.75830469886604, -102.41783268858461, -101.11799842778039, -99.8564802576352, -98.63116430477737, -97.44011785566215, -96.28156734522592, -95.15387989171613, -94.05554764729877, -92.98517443045507, -91.94146423077311, -90.92321126321735, -89.9292913132932, -88.9586541644935, -88.01031693902081, -87.08335821429618, -86.17691280276824, -85.29016710228831, -84.42235493996098, -83.57275384486624, -82.74068169514841, -81.92549369322248, -81.12657962966315, -80.343361401993, -79.57529075929615, -78.8218472475312, -78.08253633373533, -77.3568876901248, -76.64445362148932, -75.94480762131907, -75.25754304385784, -74.58227188077993, -73.9186236324934, -73.2662442651989, -72.62479524581444, -71.99395264773483, -71.37340632113876, -70.76285912221715, -70.16202619627289, -69.57063431014866, -68.98842122989383, -68.41513513997583, -67.85053410069875, -67.2943855408045, -66.74646578251314, -66.2065595965108, -65.6744597846161, -65.14996678805896, -64.63288831948499, -64.12303901696261, -63.62024011841463, -63.124319155030136, -62.63510966233121], \"yaxis\": \"y2\"}],\n",
       "                        {\"autosize\": false, \"font\": {\"color\": \"black\", \"family\": \"Arial\", \"size\": 14}, \"height\": 500, \"legend\": {\"orientation\": \"h\", \"x\": 0.01, \"xanchor\": \"left\", \"y\": 1.1, \"yanchor\": \"top\"}, \"template\": {\"data\": {\"bar\": [{\"error_x\": {\"color\": \"#2a3f5f\"}, \"error_y\": {\"color\": \"#2a3f5f\"}, \"marker\": {\"line\": {\"color\": \"white\", \"width\": 0.5}}, \"type\": \"bar\"}], \"barpolar\": [{\"marker\": {\"line\": {\"color\": \"white\", \"width\": 0.5}}, \"type\": \"barpolar\"}], \"carpet\": [{\"aaxis\": {\"endlinecolor\": \"#2a3f5f\", \"gridcolor\": \"#C8D4E3\", \"linecolor\": \"#C8D4E3\", \"minorgridcolor\": \"#C8D4E3\", \"startlinecolor\": \"#2a3f5f\"}, \"baxis\": {\"endlinecolor\": \"#2a3f5f\", \"gridcolor\": \"#C8D4E3\", \"linecolor\": \"#C8D4E3\", \"minorgridcolor\": \"#C8D4E3\", \"startlinecolor\": \"#2a3f5f\"}, \"type\": \"carpet\"}], \"choropleth\": [{\"colorbar\": {\"outlinewidth\": 0, \"ticks\": \"\"}, \"type\": \"choropleth\"}], \"contour\": [{\"colorbar\": {\"outlinewidth\": 0, \"ticks\": \"\"}, \"colorscale\": [[0.0, \"#0d0887\"], [0.1111111111111111, \"#46039f\"], [0.2222222222222222, \"#7201a8\"], [0.3333333333333333, \"#9c179e\"], [0.4444444444444444, \"#bd3786\"], [0.5555555555555556, \"#d8576b\"], [0.6666666666666666, \"#ed7953\"], [0.7777777777777778, \"#fb9f3a\"], [0.8888888888888888, \"#fdca26\"], [1.0, \"#f0f921\"]], \"type\": \"contour\"}], \"contourcarpet\": [{\"colorbar\": {\"outlinewidth\": 0, \"ticks\": \"\"}, \"type\": \"contourcarpet\"}], \"heatmap\": [{\"colorbar\": {\"outlinewidth\": 0, \"ticks\": \"\"}, \"colorscale\": [[0.0, \"#0d0887\"], [0.1111111111111111, \"#46039f\"], [0.2222222222222222, \"#7201a8\"], [0.3333333333333333, \"#9c179e\"], [0.4444444444444444, \"#bd3786\"], [0.5555555555555556, \"#d8576b\"], [0.6666666666666666, \"#ed7953\"], [0.7777777777777778, \"#fb9f3a\"], [0.8888888888888888, \"#fdca26\"], [1.0, \"#f0f921\"]], \"type\": \"heatmap\"}], \"heatmapgl\": [{\"colorbar\": {\"outlinewidth\": 0, \"ticks\": \"\"}, \"colorscale\": [[0.0, \"#0d0887\"], [0.1111111111111111, \"#46039f\"], [0.2222222222222222, \"#7201a8\"], [0.3333333333333333, \"#9c179e\"], [0.4444444444444444, \"#bd3786\"], [0.5555555555555556, \"#d8576b\"], [0.6666666666666666, \"#ed7953\"], [0.7777777777777778, \"#fb9f3a\"], [0.8888888888888888, \"#fdca26\"], [1.0, \"#f0f921\"]], \"type\": \"heatmapgl\"}], \"histogram\": [{\"marker\": {\"colorbar\": {\"outlinewidth\": 0, \"ticks\": \"\"}}, \"type\": \"histogram\"}], \"histogram2d\": [{\"colorbar\": {\"outlinewidth\": 0, \"ticks\": \"\"}, \"colorscale\": [[0.0, \"#0d0887\"], [0.1111111111111111, \"#46039f\"], [0.2222222222222222, \"#7201a8\"], [0.3333333333333333, \"#9c179e\"], [0.4444444444444444, \"#bd3786\"], [0.5555555555555556, \"#d8576b\"], [0.6666666666666666, \"#ed7953\"], [0.7777777777777778, \"#fb9f3a\"], [0.8888888888888888, \"#fdca26\"], [1.0, \"#f0f921\"]], \"type\": \"histogram2d\"}], \"histogram2dcontour\": [{\"colorbar\": {\"outlinewidth\": 0, \"ticks\": \"\"}, \"colorscale\": [[0.0, \"#0d0887\"], [0.1111111111111111, \"#46039f\"], [0.2222222222222222, \"#7201a8\"], [0.3333333333333333, \"#9c179e\"], [0.4444444444444444, \"#bd3786\"], [0.5555555555555556, \"#d8576b\"], [0.6666666666666666, \"#ed7953\"], [0.7777777777777778, \"#fb9f3a\"], [0.8888888888888888, \"#fdca26\"], [1.0, \"#f0f921\"]], \"type\": \"histogram2dcontour\"}], \"mesh3d\": [{\"colorbar\": {\"outlinewidth\": 0, \"ticks\": \"\"}, \"type\": \"mesh3d\"}], \"parcoords\": [{\"line\": {\"colorbar\": {\"outlinewidth\": 0, \"ticks\": \"\"}}, \"type\": \"parcoords\"}], \"pie\": [{\"automargin\": true, \"type\": \"pie\"}], \"scatter\": [{\"marker\": {\"colorbar\": {\"outlinewidth\": 0, \"ticks\": \"\"}}, \"type\": \"scatter\"}], \"scatter3d\": [{\"line\": {\"colorbar\": {\"outlinewidth\": 0, \"ticks\": \"\"}}, \"marker\": {\"colorbar\": {\"outlinewidth\": 0, \"ticks\": \"\"}}, \"type\": \"scatter3d\"}], \"scattercarpet\": [{\"marker\": {\"colorbar\": {\"outlinewidth\": 0, \"ticks\": \"\"}}, \"type\": \"scattercarpet\"}], \"scattergeo\": [{\"marker\": {\"colorbar\": {\"outlinewidth\": 0, \"ticks\": \"\"}}, \"type\": \"scattergeo\"}], \"scattergl\": [{\"marker\": {\"colorbar\": {\"outlinewidth\": 0, \"ticks\": \"\"}}, \"type\": \"scattergl\"}], \"scattermapbox\": [{\"marker\": {\"colorbar\": {\"outlinewidth\": 0, \"ticks\": \"\"}}, \"type\": \"scattermapbox\"}], \"scatterpolar\": [{\"marker\": {\"colorbar\": {\"outlinewidth\": 0, \"ticks\": \"\"}}, \"type\": \"scatterpolar\"}], \"scatterpolargl\": [{\"marker\": {\"colorbar\": {\"outlinewidth\": 0, \"ticks\": \"\"}}, \"type\": \"scatterpolargl\"}], \"scatterternary\": [{\"marker\": {\"colorbar\": {\"outlinewidth\": 0, \"ticks\": \"\"}}, \"type\": \"scatterternary\"}], \"surface\": [{\"colorbar\": {\"outlinewidth\": 0, \"ticks\": \"\"}, \"colorscale\": [[0.0, \"#0d0887\"], [0.1111111111111111, \"#46039f\"], [0.2222222222222222, \"#7201a8\"], [0.3333333333333333, \"#9c179e\"], [0.4444444444444444, \"#bd3786\"], [0.5555555555555556, \"#d8576b\"], [0.6666666666666666, \"#ed7953\"], [0.7777777777777778, \"#fb9f3a\"], [0.8888888888888888, \"#fdca26\"], [1.0, \"#f0f921\"]], \"type\": \"surface\"}], \"table\": [{\"cells\": {\"fill\": {\"color\": \"#EBF0F8\"}, \"line\": {\"color\": \"white\"}}, \"header\": {\"fill\": {\"color\": \"#C8D4E3\"}, \"line\": {\"color\": \"white\"}}, \"type\": \"table\"}]}, \"layout\": {\"annotationdefaults\": {\"arrowcolor\": \"#2a3f5f\", \"arrowhead\": 0, \"arrowwidth\": 1}, \"coloraxis\": {\"colorbar\": {\"outlinewidth\": 0, \"ticks\": \"\"}}, \"colorscale\": {\"diverging\": [[0, \"#8e0152\"], [0.1, \"#c51b7d\"], [0.2, \"#de77ae\"], [0.3, \"#f1b6da\"], [0.4, \"#fde0ef\"], [0.5, \"#f7f7f7\"], [0.6, \"#e6f5d0\"], [0.7, \"#b8e186\"], [0.8, \"#7fbc41\"], [0.9, \"#4d9221\"], [1, \"#276419\"]], \"sequential\": [[0.0, \"#0d0887\"], [0.1111111111111111, \"#46039f\"], [0.2222222222222222, \"#7201a8\"], [0.3333333333333333, \"#9c179e\"], [0.4444444444444444, \"#bd3786\"], [0.5555555555555556, \"#d8576b\"], [0.6666666666666666, \"#ed7953\"], [0.7777777777777778, \"#fb9f3a\"], [0.8888888888888888, \"#fdca26\"], [1.0, \"#f0f921\"]], \"sequentialminus\": [[0.0, \"#0d0887\"], [0.1111111111111111, \"#46039f\"], [0.2222222222222222, \"#7201a8\"], [0.3333333333333333, \"#9c179e\"], [0.4444444444444444, \"#bd3786\"], [0.5555555555555556, \"#d8576b\"], [0.6666666666666666, \"#ed7953\"], [0.7777777777777778, \"#fb9f3a\"], [0.8888888888888888, \"#fdca26\"], [1.0, \"#f0f921\"]]}, \"colorway\": [\"#636efa\", \"#EF553B\", \"#00cc96\", \"#ab63fa\", \"#FFA15A\", \"#19d3f3\", \"#FF6692\", \"#B6E880\", \"#FF97FF\", \"#FECB52\"], \"font\": {\"color\": \"#2a3f5f\"}, \"geo\": {\"bgcolor\": \"white\", \"lakecolor\": \"white\", \"landcolor\": \"white\", \"showlakes\": true, \"showland\": true, \"subunitcolor\": \"#C8D4E3\"}, \"hoverlabel\": {\"align\": \"left\"}, \"hovermode\": \"closest\", \"mapbox\": {\"style\": \"light\"}, \"paper_bgcolor\": \"white\", \"plot_bgcolor\": \"white\", \"polar\": {\"angularaxis\": {\"gridcolor\": \"#EBF0F8\", \"linecolor\": \"#EBF0F8\", \"ticks\": \"\"}, \"bgcolor\": \"white\", \"radialaxis\": {\"gridcolor\": \"#EBF0F8\", \"linecolor\": \"#EBF0F8\", \"ticks\": \"\"}}, \"scene\": {\"xaxis\": {\"backgroundcolor\": \"white\", \"gridcolor\": \"#DFE8F3\", \"gridwidth\": 2, \"linecolor\": \"#EBF0F8\", \"showbackground\": true, \"ticks\": \"\", \"zerolinecolor\": \"#EBF0F8\"}, \"yaxis\": {\"backgroundcolor\": \"white\", \"gridcolor\": \"#DFE8F3\", \"gridwidth\": 2, \"linecolor\": \"#EBF0F8\", \"showbackground\": true, \"ticks\": \"\", \"zerolinecolor\": \"#EBF0F8\"}, \"zaxis\": {\"backgroundcolor\": \"white\", \"gridcolor\": \"#DFE8F3\", \"gridwidth\": 2, \"linecolor\": \"#EBF0F8\", \"showbackground\": true, \"ticks\": \"\", \"zerolinecolor\": \"#EBF0F8\"}}, \"shapedefaults\": {\"line\": {\"color\": \"#2a3f5f\"}}, \"ternary\": {\"aaxis\": {\"gridcolor\": \"#DFE8F3\", \"linecolor\": \"#A2B1C6\", \"ticks\": \"\"}, \"baxis\": {\"gridcolor\": \"#DFE8F3\", \"linecolor\": \"#A2B1C6\", \"ticks\": \"\"}, \"bgcolor\": \"white\", \"caxis\": {\"gridcolor\": \"#DFE8F3\", \"linecolor\": \"#A2B1C6\", \"ticks\": \"\"}}, \"title\": {\"x\": 0.05}, \"xaxis\": {\"automargin\": true, \"gridcolor\": \"#EBF0F8\", \"linecolor\": \"#EBF0F8\", \"ticks\": \"\", \"title\": {\"standoff\": 15}, \"zerolinecolor\": \"#EBF0F8\", \"zerolinewidth\": 2}, \"yaxis\": {\"automargin\": true, \"gridcolor\": \"#EBF0F8\", \"linecolor\": \"#EBF0F8\", \"ticks\": \"\", \"title\": {\"standoff\": 15}, \"zerolinecolor\": \"#EBF0F8\", \"zerolinewidth\": 2}}}, \"title\": {\"text\": \"Veh1 - Tire Forces\"}, \"width\": 900, \"xaxis\": {\"anchor\": \"y\", \"domain\": [0.0, 1.0], \"linecolor\": \"black\", \"linewidth\": 1, \"matches\": \"x2\", \"showgrid\": false, \"showline\": true, \"showticklabels\": false, \"tickcolor\": \"black\", \"ticklen\": 10, \"ticks\": \"outside\", \"tickwidth\": 1, \"title\": {\"text\": \"\"}, \"zeroline\": false}, \"xaxis2\": {\"anchor\": \"y2\", \"domain\": [0.0, 1.0], \"linecolor\": \"black\", \"linewidth\": 1, \"showgrid\": false, \"showline\": true, \"tickcolor\": \"black\", \"ticklen\": 10, \"ticks\": \"outside\", \"tickwidth\": 1, \"title\": {\"text\": \"Time (s)\"}, \"zeroline\": false}, \"yaxis\": {\"anchor\": \"x\", \"domain\": [0.525, 1.0], \"linecolor\": \"black\", \"linewidth\": 1, \"showgrid\": false, \"showline\": true, \"tickcolor\": \"black\", \"ticklen\": 10, \"ticks\": \"outside\", \"tickwidth\": 1, \"title\": {\"text\": \"Forward (lb)\"}, \"zeroline\": false}, \"yaxis2\": {\"anchor\": \"x2\", \"domain\": [0.0, 0.475], \"linecolor\": \"black\", \"linewidth\": 1, \"showgrid\": false, \"showline\": true, \"tickcolor\": \"black\", \"ticklen\": 10, \"ticks\": \"outside\", \"tickwidth\": 1, \"title\": {\"text\": \"Rightward (lb)\"}, \"zeroline\": false}},\n",
       "                        {\"responsive\": true}\n",
       "                    ).then(function(){\n",
       "                            \n",
       "var gd = document.getElementById('cc80c372-208d-4225-be76-f57cac970158');\n",
       "var x = new MutationObserver(function (mutations, observer) {{\n",
       "        var display = window.getComputedStyle(gd).display;\n",
       "        if (!display || display === 'none') {{\n",
       "            console.log([gd, 'removed!']);\n",
       "            Plotly.purge(gd);\n",
       "            observer.disconnect();\n",
       "        }}\n",
       "}});\n",
       "\n",
       "// Listen for the removal of the full notebook cells\n",
       "var notebookContainer = gd.closest('#notebook-container');\n",
       "if (notebookContainer) {{\n",
       "    x.observe(notebookContainer, {childList: true});\n",
       "}}\n",
       "\n",
       "// Listen for the clearing of the current output cell\n",
       "var outputEl = gd.closest('.output');\n",
       "if (outputEl) {{\n",
       "    x.observe(outputEl, {childList: true});\n",
       "}}\n",
       "\n",
       "                        })\n",
       "                };\n",
       "                });\n",
       "            </script>\n",
       "        </div>"
      ]
     },
     "metadata": {},
     "output_type": "display_data"
    },
    {
     "data": {
      "application/vnd.plotly.v1+json": {
       "config": {
        "plotlyServerURL": "https://plot.ly"
       },
       "data": [
        {
         "line": {
          "color": "rgb(0, 0, 0)",
          "width": 2
         },
         "mode": "lines",
         "name": "heading",
         "type": "scatter",
         "x": [
          0,
          0.1,
          0.2,
          0.3,
          0.4,
          0.5,
          0.6,
          0.7,
          0.8,
          0.9,
          1,
          1.1,
          1.2,
          1.3,
          1.4,
          1.5,
          1.6,
          1.7,
          1.8,
          1.9,
          2,
          2.1,
          2.2,
          2.3,
          2.4,
          2.5,
          2.6,
          2.7,
          2.8,
          2.9,
          3,
          3.1,
          3.2,
          3.3,
          3.4,
          3.5,
          3.6,
          3.7,
          3.8,
          3.9,
          4,
          4.1,
          4.2,
          4.3,
          4.4,
          4.5,
          4.6,
          4.7,
          4.8,
          4.9,
          5,
          5.1,
          5.2,
          5.3,
          5.4,
          5.5,
          5.6,
          5.7,
          5.8,
          5.9,
          6,
          6.1,
          6.2,
          6.3,
          6.4,
          6.5,
          6.6,
          6.7,
          6.8,
          6.9,
          7,
          7.1,
          7.2,
          7.3,
          7.4,
          7.5,
          7.6,
          7.7,
          7.8,
          7.9,
          8,
          8.1,
          8.2,
          8.3,
          8.4,
          8.5,
          8.6,
          8.7,
          8.8,
          8.9,
          9,
          9.1,
          9.2,
          9.3,
          9.4,
          9.5,
          9.6,
          9.7,
          9.8,
          9.9,
          10,
          10.1,
          10.2,
          10.3,
          10.4,
          10.5,
          10.6,
          10.7,
          10.8,
          10.9
         ],
         "xaxis": "x",
         "y": [
          0,
          0,
          0,
          0,
          0,
          0,
          0,
          0,
          0,
          0,
          0,
          -0.04315955279464511,
          -0.25607554619625555,
          -0.7880383125019954,
          -1.7444048609749925,
          -3.1853443866040916,
          -5.140822547705694,
          -7.622741871479762,
          -10.632027186676854,
          -14.162093486470972,
          -18.200176539885447,
          -22.697263134813007,
          -27.538351149192945,
          -32.58547536833142,
          -37.73107149339165,
          -42.904772268939425,
          -48.0624088141353,
          -53.17424616957278,
          -58.21776422527081,
          -63.17481880240431,
          -68.03130491020268,
          -72.77763025263845,
          -77.40902001525798,
          -81.92529414836862,
          -86.33013977860453,
          -90.6300741223324,
          -94.8333264636422,
          -98.94882471972333,
          -102.9853994131923,
          -106.95124544170363,
          -110.85362627098546,
          -114.69877208740482,
          -118.49191160557599,
          -122.23738087489447,
          -125.93876451780547,
          -129.5990393370362,
          -133.2207032521517,
          -136.80588230511586,
          -140.3564147789621,
          -143.87391488656922,
          -147.35981985594526,
          -150.81542436101705,
          -154.24190573662395,
          -157.6403426828158,
          -161.01172944214017,
          -164.35698683310795,
          -167.67697107213797,
          -170.9724810013555,
          -174.2442641307456,
          -177.49302176922484,
          -180.7194134346731,
          -183.92406067947724,
          -187.10755043357574,
          -190.2704379438177,
          -193.4132493721819,
          -196.53648410343888,
          -199.64061680369542,
          -202.72609926408458,
          -205.79336205813837,
          -208.8428160367687,
          -211.87485368104223,
          -214.88985032988373,
          -217.88816529733555,
          -220.87014289192606,
          -223.83611334897097,
          -226.78639368518407,
          -229.72128848375198,
          -232.6410906169935,
          -235.54608191284441,
          -238.43653377065462,
          -241.3127077311398,
          -244.1748560047701,
          -247.02322196239913,
          -249.858040591515,
          -252.67953892113218,
          -255.48793641802354,
          -258.28344535671255,
          -261.0662711653999,
          -263.836612749782,
          -266.59466279652867,
          -269.3406080580167,
          -272.07462961976455,
          -274.79690315188265,
          -277.50759914573035,
          -280.20688313686713,
          -282.8949159152876,
          -285.5718537238452,
          -288.2378484456926,
          -290.89304778149574,
          -293.53759541711804,
          -296.1716311824126,
          -298.7952912017101,
          -301.4087080365431,
          -304.01201082110595,
          -306.6053253909101,
          -309.1887744050605,
          -311.76247746254677,
          -314.32655121291367,
          -316.88110946164846,
          -319.42626327059935
         ],
         "yaxis": "y"
        },
        {
         "line": {
          "color": "rgb(0, 255, 0)",
          "width": 2
         },
         "mode": "lines",
         "name": "omega",
         "type": "scatter",
         "x": [
          0,
          0.1,
          0.2,
          0.3,
          0.4,
          0.5,
          0.6,
          0.7,
          0.8,
          0.9,
          1,
          1.1,
          1.2,
          1.3,
          1.4,
          1.5,
          1.6,
          1.7,
          1.8,
          1.9,
          2,
          2.1,
          2.2,
          2.3,
          2.4,
          2.5,
          2.6,
          2.7,
          2.8,
          2.9,
          3,
          3.1,
          3.2,
          3.3,
          3.4,
          3.5,
          3.6,
          3.7,
          3.8,
          3.9,
          4,
          4.1,
          4.2,
          4.3,
          4.4,
          4.5,
          4.6,
          4.7,
          4.8,
          4.9,
          5,
          5.1,
          5.2,
          5.3,
          5.4,
          5.5,
          5.6,
          5.7,
          5.8,
          5.9,
          6,
          6.1,
          6.2,
          6.3,
          6.4,
          6.5,
          6.6,
          6.7,
          6.8,
          6.9,
          7,
          7.1,
          7.2,
          7.3,
          7.4,
          7.5,
          7.6,
          7.7,
          7.8,
          7.9,
          8,
          8.1,
          8.2,
          8.3,
          8.4,
          8.5,
          8.6,
          8.7,
          8.8,
          8.9,
          9,
          9.1,
          9.2,
          9.3,
          9.4,
          9.5,
          9.6,
          9.7,
          9.8,
          9.9,
          10,
          10.1,
          10.2,
          10.3,
          10.4,
          10.5,
          10.6,
          10.7,
          10.8,
          10.9
         ],
         "xaxis": "x2",
         "y": [
          0,
          0,
          0,
          0,
          0,
          0,
          0,
          0,
          0,
          0,
          0,
          -0.8631910558929022,
          -3.395128812139307,
          -7.24412651397549,
          -11.883204455484446,
          -16.935586057097538,
          -22.17397716493453,
          -27.46440931054683,
          -32.72129699339501,
          -37.88002900248733,
          -42.88163206580216,
          -47.06009983274894,
          -49.76166045484984,
          -51.180823927919725,
          -51.73109857328491,
          -51.74291693767055,
          -51.409813966246894,
          -50.82693314250273,
          -50.043427971457774,
          -49.09766357121239,
          -48.03205858475492,
          -46.89444826396064,
          -45.73334698843002,
          -44.592135673782614,
          -43.504776930936075,
          -42.49390994362115,
          -41.57113688257457,
          -40.738828239048,
          -39.99266563033116,
          -39.32425493989589,
          -38.723361645740525,
          -38.17955468264652,
          -37.683235680777074,
          -37.22614970559255,
          -36.80152315262745,
          -36.40397323198692,
          -36.0293050703228,
          -35.67427598896063,
          -35.33637348796394,
          -35.01362866417866,
          -34.704470723342226,
          -34.407619378093514,
          -34.12200813404398,
          -33.8467307897931,
          -33.58100439669405,
          -33.32414342266201,
          -33.07554135793803,
          -32.83465722641365,
          -32.60100536138797,
          -32.37414740819701,
          -32.15368590076762,
          -31.939258995315384,
          -31.73053608665531,
          -31.527214118183515,
          -31.329014449100132,
          -31.135680176039696,
          -30.946973829091633,
          -30.7626753786915,
          -30.58258050238432,
          -30.406499070222395,
          -30.234253815247772,
          -30.06567916158163,
          -29.90062018745521,
          -29.738931704355007,
          -29.580477436543053,
          -29.42512928771889,
          -29.27276668363872,
          -29.123275981191675,
          -28.976549935826316,
          -28.83248722037907,
          -28.690991989324495,
          -28.551973483281756,
          -28.415345669298716,
          -28.28102691301794,
          -28.148939679324947,
          -28.019010258502554,
          -27.89116851527871,
          -27.76534765846757,
          -27.64148402917345,
          -27.519516905761215,
          -27.399388323999265,
          -27.281042910958277,
          -27.164427731403165,
          -27.04949214555086,
          -26.936187677185135,
          -26.824467891224195,
          -26.714288279928663,
          -26.605606157019015,
          -26.498380559043675,
          -26.392572153402703,
          -26.288143152489194,
          -26.185057233460842,
          -26.08327946319964,
          -25.982776228057883,
          -25.883515168025067,
          -25.785465114982713,
          -25.68859603474314,
          -25.592878972594885,
          -25.49828600210079,
          -25.404790176916432
         ],
         "yaxis": "y2"
        },
        {
         "line": {
          "color": "rgb(204, 0, 0)",
          "width": 2
         },
         "mode": "lines",
         "name": "alpha",
         "type": "scatter",
         "x": [
          0,
          0.1,
          0.2,
          0.3,
          0.4,
          0.5,
          0.6,
          0.7,
          0.8,
          0.9,
          1,
          1.1,
          1.2,
          1.3,
          1.4,
          1.5,
          1.6,
          1.7,
          1.8,
          1.9,
          2,
          2.1,
          2.2,
          2.3,
          2.4,
          2.5,
          2.6,
          2.7,
          2.8,
          2.9,
          3,
          3.1,
          3.2,
          3.3,
          3.4,
          3.5,
          3.6,
          3.7,
          3.8,
          3.9,
          4,
          4.1,
          4.2,
          4.3,
          4.4,
          4.5,
          4.6,
          4.7,
          4.8,
          4.9,
          5,
          5.1,
          5.2,
          5.3,
          5.4,
          5.5,
          5.6,
          5.7,
          5.8,
          5.9,
          6,
          6.1,
          6.2,
          6.3,
          6.4,
          6.5,
          6.6,
          6.7,
          6.8,
          6.9,
          7,
          7.1,
          7.2,
          7.3,
          7.4,
          7.5,
          7.6,
          7.7,
          7.8,
          7.9,
          8,
          8.1,
          8.2,
          8.3,
          8.4,
          8.5,
          8.6,
          8.7,
          8.8,
          8.9,
          9,
          9.1,
          9.2,
          9.3,
          9.4,
          9.5,
          9.6,
          9.7,
          9.8,
          9.9,
          10,
          10.1,
          10.2,
          10.3,
          10.4,
          10.5,
          10.6,
          10.7,
          10.8,
          10.9
         ],
         "xaxis": "x2",
         "y": [
          0,
          0,
          0,
          0,
          0,
          0,
          0,
          0,
          0,
          0,
          0,
          -17.263821117858043,
          -33.37493400707005,
          -43.605020029653616,
          -49.176538800525485,
          -51.87109323173637,
          -52.89672892500351,
          -52.911913987242485,
          -52.22583966972108,
          -50.94880051212553,
          -49.08326075417097,
          -34.486094584764615,
          -19.545117857253302,
          -8.83815160414446,
          -2.1673413031592625,
          1.9309740154464694,
          4.731085413026763,
          6.9265310618563625,
          8.74357235904269,
          10.171715645865202,
          11.14038408328407,
          11.611822332601646,
          11.61020317801078,
          11.21402311493749,
          10.533151741993276,
          9.684188004305385,
          8.771273216626192,
          7.874899653905213,
          7.048352520431487,
          6.319861288274016,
          5.698004594833081,
          5.178134667047123,
          4.748245370341797,
          4.393474133348757,
          4.099056925953175,
          3.8519414868574358,
          3.641421746424995,
          3.459159880818298,
          3.2988901391155894,
          3.156006336589851,
          3.027152480138878,
          2.9098744248351935,
          2.8023504561556223,
          2.7031964288618546,
          2.6113314331192403,
          2.52588804752135,
          2.446153246958389,
          2.371529383529126,
          2.3015079169845123,
          2.2356511468346296,
          2.1735790017532746,
          2.1149591072914222,
          2.059499065910069,
          2.006940303525933,
          1.9570530781417197,
          1.9096323830669844,
          1.8644945558942803,
          1.821474452108231,
          1.7804230740353448,
          1.741205569203161,
          1.7036995302893359,
          1.6677935430335262,
          1.633385939494944,
          1.6003837225090507,
          1.5687016337301185,
          1.5382613427531868,
          1.5089907388501462,
          1.4808233100908363,
          1.4536975972162525,
          1.427556711728718,
          1.4023479093628186,
          1.3780222114919571,
          1.3545340681688753,
          1.3318410574465593,
          1.3099036164133444,
          1.288684800034522,
          1.2681500644422485,
          1.2482670717806568,
          1.2290055141017795,
          1.2103369541429019,
          1.1922346810961209,
          1.1746735797236325,
          1.1576300113785314,
          1.1410817056676013,
          1.1250076616468914,
          1.1093880575718573,
          1.0942041683388282,
          1.0794382898540915,
          1.0650736696528067,
          1.0510944431666311,
          1.03748557510356,
          1.0242328054633472,
          1.0113225997607036,
          0.9987421030745776,
          0.9864790975816426,
          0.9745219632654504,
          0.9628596415259845,
          0.9514816014391605,
          0.9403778084426561,
          0.9295386952445784
         ],
         "yaxis": "y2"
        }
       ],
       "layout": {
        "autosize": false,
        "font": {
         "color": "black",
         "family": "Arial",
         "size": 14
        },
        "height": 500,
        "legend": {
         "orientation": "h",
         "x": 0.01,
         "xanchor": "left",
         "y": 1.1,
         "yanchor": "top"
        },
        "template": {
         "data": {
          "bar": [
           {
            "error_x": {
             "color": "#2a3f5f"
            },
            "error_y": {
             "color": "#2a3f5f"
            },
            "marker": {
             "line": {
              "color": "white",
              "width": 0.5
             }
            },
            "type": "bar"
           }
          ],
          "barpolar": [
           {
            "marker": {
             "line": {
              "color": "white",
              "width": 0.5
             }
            },
            "type": "barpolar"
           }
          ],
          "carpet": [
           {
            "aaxis": {
             "endlinecolor": "#2a3f5f",
             "gridcolor": "#C8D4E3",
             "linecolor": "#C8D4E3",
             "minorgridcolor": "#C8D4E3",
             "startlinecolor": "#2a3f5f"
            },
            "baxis": {
             "endlinecolor": "#2a3f5f",
             "gridcolor": "#C8D4E3",
             "linecolor": "#C8D4E3",
             "minorgridcolor": "#C8D4E3",
             "startlinecolor": "#2a3f5f"
            },
            "type": "carpet"
           }
          ],
          "choropleth": [
           {
            "colorbar": {
             "outlinewidth": 0,
             "ticks": ""
            },
            "type": "choropleth"
           }
          ],
          "contour": [
           {
            "colorbar": {
             "outlinewidth": 0,
             "ticks": ""
            },
            "colorscale": [
             [
              0,
              "#0d0887"
             ],
             [
              0.1111111111111111,
              "#46039f"
             ],
             [
              0.2222222222222222,
              "#7201a8"
             ],
             [
              0.3333333333333333,
              "#9c179e"
             ],
             [
              0.4444444444444444,
              "#bd3786"
             ],
             [
              0.5555555555555556,
              "#d8576b"
             ],
             [
              0.6666666666666666,
              "#ed7953"
             ],
             [
              0.7777777777777778,
              "#fb9f3a"
             ],
             [
              0.8888888888888888,
              "#fdca26"
             ],
             [
              1,
              "#f0f921"
             ]
            ],
            "type": "contour"
           }
          ],
          "contourcarpet": [
           {
            "colorbar": {
             "outlinewidth": 0,
             "ticks": ""
            },
            "type": "contourcarpet"
           }
          ],
          "heatmap": [
           {
            "colorbar": {
             "outlinewidth": 0,
             "ticks": ""
            },
            "colorscale": [
             [
              0,
              "#0d0887"
             ],
             [
              0.1111111111111111,
              "#46039f"
             ],
             [
              0.2222222222222222,
              "#7201a8"
             ],
             [
              0.3333333333333333,
              "#9c179e"
             ],
             [
              0.4444444444444444,
              "#bd3786"
             ],
             [
              0.5555555555555556,
              "#d8576b"
             ],
             [
              0.6666666666666666,
              "#ed7953"
             ],
             [
              0.7777777777777778,
              "#fb9f3a"
             ],
             [
              0.8888888888888888,
              "#fdca26"
             ],
             [
              1,
              "#f0f921"
             ]
            ],
            "type": "heatmap"
           }
          ],
          "heatmapgl": [
           {
            "colorbar": {
             "outlinewidth": 0,
             "ticks": ""
            },
            "colorscale": [
             [
              0,
              "#0d0887"
             ],
             [
              0.1111111111111111,
              "#46039f"
             ],
             [
              0.2222222222222222,
              "#7201a8"
             ],
             [
              0.3333333333333333,
              "#9c179e"
             ],
             [
              0.4444444444444444,
              "#bd3786"
             ],
             [
              0.5555555555555556,
              "#d8576b"
             ],
             [
              0.6666666666666666,
              "#ed7953"
             ],
             [
              0.7777777777777778,
              "#fb9f3a"
             ],
             [
              0.8888888888888888,
              "#fdca26"
             ],
             [
              1,
              "#f0f921"
             ]
            ],
            "type": "heatmapgl"
           }
          ],
          "histogram": [
           {
            "marker": {
             "colorbar": {
              "outlinewidth": 0,
              "ticks": ""
             }
            },
            "type": "histogram"
           }
          ],
          "histogram2d": [
           {
            "colorbar": {
             "outlinewidth": 0,
             "ticks": ""
            },
            "colorscale": [
             [
              0,
              "#0d0887"
             ],
             [
              0.1111111111111111,
              "#46039f"
             ],
             [
              0.2222222222222222,
              "#7201a8"
             ],
             [
              0.3333333333333333,
              "#9c179e"
             ],
             [
              0.4444444444444444,
              "#bd3786"
             ],
             [
              0.5555555555555556,
              "#d8576b"
             ],
             [
              0.6666666666666666,
              "#ed7953"
             ],
             [
              0.7777777777777778,
              "#fb9f3a"
             ],
             [
              0.8888888888888888,
              "#fdca26"
             ],
             [
              1,
              "#f0f921"
             ]
            ],
            "type": "histogram2d"
           }
          ],
          "histogram2dcontour": [
           {
            "colorbar": {
             "outlinewidth": 0,
             "ticks": ""
            },
            "colorscale": [
             [
              0,
              "#0d0887"
             ],
             [
              0.1111111111111111,
              "#46039f"
             ],
             [
              0.2222222222222222,
              "#7201a8"
             ],
             [
              0.3333333333333333,
              "#9c179e"
             ],
             [
              0.4444444444444444,
              "#bd3786"
             ],
             [
              0.5555555555555556,
              "#d8576b"
             ],
             [
              0.6666666666666666,
              "#ed7953"
             ],
             [
              0.7777777777777778,
              "#fb9f3a"
             ],
             [
              0.8888888888888888,
              "#fdca26"
             ],
             [
              1,
              "#f0f921"
             ]
            ],
            "type": "histogram2dcontour"
           }
          ],
          "mesh3d": [
           {
            "colorbar": {
             "outlinewidth": 0,
             "ticks": ""
            },
            "type": "mesh3d"
           }
          ],
          "parcoords": [
           {
            "line": {
             "colorbar": {
              "outlinewidth": 0,
              "ticks": ""
             }
            },
            "type": "parcoords"
           }
          ],
          "pie": [
           {
            "automargin": true,
            "type": "pie"
           }
          ],
          "scatter": [
           {
            "marker": {
             "colorbar": {
              "outlinewidth": 0,
              "ticks": ""
             }
            },
            "type": "scatter"
           }
          ],
          "scatter3d": [
           {
            "line": {
             "colorbar": {
              "outlinewidth": 0,
              "ticks": ""
             }
            },
            "marker": {
             "colorbar": {
              "outlinewidth": 0,
              "ticks": ""
             }
            },
            "type": "scatter3d"
           }
          ],
          "scattercarpet": [
           {
            "marker": {
             "colorbar": {
              "outlinewidth": 0,
              "ticks": ""
             }
            },
            "type": "scattercarpet"
           }
          ],
          "scattergeo": [
           {
            "marker": {
             "colorbar": {
              "outlinewidth": 0,
              "ticks": ""
             }
            },
            "type": "scattergeo"
           }
          ],
          "scattergl": [
           {
            "marker": {
             "colorbar": {
              "outlinewidth": 0,
              "ticks": ""
             }
            },
            "type": "scattergl"
           }
          ],
          "scattermapbox": [
           {
            "marker": {
             "colorbar": {
              "outlinewidth": 0,
              "ticks": ""
             }
            },
            "type": "scattermapbox"
           }
          ],
          "scatterpolar": [
           {
            "marker": {
             "colorbar": {
              "outlinewidth": 0,
              "ticks": ""
             }
            },
            "type": "scatterpolar"
           }
          ],
          "scatterpolargl": [
           {
            "marker": {
             "colorbar": {
              "outlinewidth": 0,
              "ticks": ""
             }
            },
            "type": "scatterpolargl"
           }
          ],
          "scatterternary": [
           {
            "marker": {
             "colorbar": {
              "outlinewidth": 0,
              "ticks": ""
             }
            },
            "type": "scatterternary"
           }
          ],
          "surface": [
           {
            "colorbar": {
             "outlinewidth": 0,
             "ticks": ""
            },
            "colorscale": [
             [
              0,
              "#0d0887"
             ],
             [
              0.1111111111111111,
              "#46039f"
             ],
             [
              0.2222222222222222,
              "#7201a8"
             ],
             [
              0.3333333333333333,
              "#9c179e"
             ],
             [
              0.4444444444444444,
              "#bd3786"
             ],
             [
              0.5555555555555556,
              "#d8576b"
             ],
             [
              0.6666666666666666,
              "#ed7953"
             ],
             [
              0.7777777777777778,
              "#fb9f3a"
             ],
             [
              0.8888888888888888,
              "#fdca26"
             ],
             [
              1,
              "#f0f921"
             ]
            ],
            "type": "surface"
           }
          ],
          "table": [
           {
            "cells": {
             "fill": {
              "color": "#EBF0F8"
             },
             "line": {
              "color": "white"
             }
            },
            "header": {
             "fill": {
              "color": "#C8D4E3"
             },
             "line": {
              "color": "white"
             }
            },
            "type": "table"
           }
          ]
         },
         "layout": {
          "annotationdefaults": {
           "arrowcolor": "#2a3f5f",
           "arrowhead": 0,
           "arrowwidth": 1
          },
          "coloraxis": {
           "colorbar": {
            "outlinewidth": 0,
            "ticks": ""
           }
          },
          "colorscale": {
           "diverging": [
            [
             0,
             "#8e0152"
            ],
            [
             0.1,
             "#c51b7d"
            ],
            [
             0.2,
             "#de77ae"
            ],
            [
             0.3,
             "#f1b6da"
            ],
            [
             0.4,
             "#fde0ef"
            ],
            [
             0.5,
             "#f7f7f7"
            ],
            [
             0.6,
             "#e6f5d0"
            ],
            [
             0.7,
             "#b8e186"
            ],
            [
             0.8,
             "#7fbc41"
            ],
            [
             0.9,
             "#4d9221"
            ],
            [
             1,
             "#276419"
            ]
           ],
           "sequential": [
            [
             0,
             "#0d0887"
            ],
            [
             0.1111111111111111,
             "#46039f"
            ],
            [
             0.2222222222222222,
             "#7201a8"
            ],
            [
             0.3333333333333333,
             "#9c179e"
            ],
            [
             0.4444444444444444,
             "#bd3786"
            ],
            [
             0.5555555555555556,
             "#d8576b"
            ],
            [
             0.6666666666666666,
             "#ed7953"
            ],
            [
             0.7777777777777778,
             "#fb9f3a"
            ],
            [
             0.8888888888888888,
             "#fdca26"
            ],
            [
             1,
             "#f0f921"
            ]
           ],
           "sequentialminus": [
            [
             0,
             "#0d0887"
            ],
            [
             0.1111111111111111,
             "#46039f"
            ],
            [
             0.2222222222222222,
             "#7201a8"
            ],
            [
             0.3333333333333333,
             "#9c179e"
            ],
            [
             0.4444444444444444,
             "#bd3786"
            ],
            [
             0.5555555555555556,
             "#d8576b"
            ],
            [
             0.6666666666666666,
             "#ed7953"
            ],
            [
             0.7777777777777778,
             "#fb9f3a"
            ],
            [
             0.8888888888888888,
             "#fdca26"
            ],
            [
             1,
             "#f0f921"
            ]
           ]
          },
          "colorway": [
           "#636efa",
           "#EF553B",
           "#00cc96",
           "#ab63fa",
           "#FFA15A",
           "#19d3f3",
           "#FF6692",
           "#B6E880",
           "#FF97FF",
           "#FECB52"
          ],
          "font": {
           "color": "#2a3f5f"
          },
          "geo": {
           "bgcolor": "white",
           "lakecolor": "white",
           "landcolor": "white",
           "showlakes": true,
           "showland": true,
           "subunitcolor": "#C8D4E3"
          },
          "hoverlabel": {
           "align": "left"
          },
          "hovermode": "closest",
          "mapbox": {
           "style": "light"
          },
          "paper_bgcolor": "white",
          "plot_bgcolor": "white",
          "polar": {
           "angularaxis": {
            "gridcolor": "#EBF0F8",
            "linecolor": "#EBF0F8",
            "ticks": ""
           },
           "bgcolor": "white",
           "radialaxis": {
            "gridcolor": "#EBF0F8",
            "linecolor": "#EBF0F8",
            "ticks": ""
           }
          },
          "scene": {
           "xaxis": {
            "backgroundcolor": "white",
            "gridcolor": "#DFE8F3",
            "gridwidth": 2,
            "linecolor": "#EBF0F8",
            "showbackground": true,
            "ticks": "",
            "zerolinecolor": "#EBF0F8"
           },
           "yaxis": {
            "backgroundcolor": "white",
            "gridcolor": "#DFE8F3",
            "gridwidth": 2,
            "linecolor": "#EBF0F8",
            "showbackground": true,
            "ticks": "",
            "zerolinecolor": "#EBF0F8"
           },
           "zaxis": {
            "backgroundcolor": "white",
            "gridcolor": "#DFE8F3",
            "gridwidth": 2,
            "linecolor": "#EBF0F8",
            "showbackground": true,
            "ticks": "",
            "zerolinecolor": "#EBF0F8"
           }
          },
          "shapedefaults": {
           "line": {
            "color": "#2a3f5f"
           }
          },
          "ternary": {
           "aaxis": {
            "gridcolor": "#DFE8F3",
            "linecolor": "#A2B1C6",
            "ticks": ""
           },
           "baxis": {
            "gridcolor": "#DFE8F3",
            "linecolor": "#A2B1C6",
            "ticks": ""
           },
           "bgcolor": "white",
           "caxis": {
            "gridcolor": "#DFE8F3",
            "linecolor": "#A2B1C6",
            "ticks": ""
           }
          },
          "title": {
           "x": 0.05
          },
          "xaxis": {
           "automargin": true,
           "gridcolor": "#EBF0F8",
           "linecolor": "#EBF0F8",
           "ticks": "",
           "title": {
            "standoff": 15
           },
           "zerolinecolor": "#EBF0F8",
           "zerolinewidth": 2
          },
          "yaxis": {
           "automargin": true,
           "gridcolor": "#EBF0F8",
           "linecolor": "#EBF0F8",
           "ticks": "",
           "title": {
            "standoff": 15
           },
           "zerolinecolor": "#EBF0F8",
           "zerolinewidth": 2
          }
         }
        },
        "title": {
         "text": "Veh1 Heading and Rotation"
        },
        "width": 900,
        "xaxis": {
         "anchor": "y",
         "domain": [
          0,
          1
         ],
         "linecolor": "black",
         "linewidth": 1,
         "matches": "x2",
         "showgrid": false,
         "showline": true,
         "showticklabels": false,
         "tickcolor": "black",
         "ticklen": 10,
         "ticks": "outside",
         "tickwidth": 1,
         "title": {
          "text": ""
         },
         "zeroline": false
        },
        "xaxis2": {
         "anchor": "y2",
         "domain": [
          0,
          1
         ],
         "linecolor": "black",
         "linewidth": 1,
         "showgrid": false,
         "showline": true,
         "tickcolor": "black",
         "ticklen": 10,
         "ticks": "outside",
         "tickwidth": 1,
         "title": {
          "text": "Time (s)"
         },
         "zeroline": false
        },
        "yaxis": {
         "anchor": "x",
         "domain": [
          0.5349999999999999,
          0.9999999999999999
         ],
         "linecolor": "black",
         "linewidth": 1,
         "showgrid": false,
         "showline": true,
         "tickcolor": "black",
         "ticklen": 10,
         "ticks": "outside",
         "tickwidth": 1,
         "title": {
          "text": "Heading (deg)"
         },
         "zeroline": false
        },
        "yaxis2": {
         "anchor": "x2",
         "domain": [
          0,
          0.46499999999999997
         ],
         "linecolor": "black",
         "linewidth": 1,
         "showgrid": false,
         "showline": true,
         "tickcolor": "black",
         "ticklen": 10,
         "ticks": "outside",
         "tickwidth": 1,
         "title": {
          "text": "Omega (deg/s), Alpha (deg/s/s)"
         },
         "zeroline": false
        }
       }
      },
      "text/html": [
       "<div>\n",
       "        \n",
       "        \n",
       "            <div id=\"4477b9ee-e9a8-4ec3-b232-e99c6cb8ef01\" class=\"plotly-graph-div\" style=\"height:500px; width:900px;\"></div>\n",
       "            <script type=\"text/javascript\">\n",
       "                require([\"plotly\"], function(Plotly) {\n",
       "                    window.PLOTLYENV=window.PLOTLYENV || {};\n",
       "                    \n",
       "                if (document.getElementById(\"4477b9ee-e9a8-4ec3-b232-e99c6cb8ef01\")) {\n",
       "                    Plotly.newPlot(\n",
       "                        '4477b9ee-e9a8-4ec3-b232-e99c6cb8ef01',\n",
       "                        [{\"line\": {\"color\": \"rgb(0, 0, 0)\", \"width\": 2}, \"mode\": \"lines\", \"name\": \"heading\", \"type\": \"scatter\", \"x\": [0.0, 0.1, 0.2, 0.3, 0.4, 0.5, 0.6, 0.7, 0.8, 0.9, 1.0, 1.1, 1.2, 1.3, 1.4, 1.5, 1.6, 1.7, 1.8, 1.9, 2.0, 2.1, 2.2, 2.3, 2.4, 2.5, 2.6, 2.7, 2.8, 2.9, 3.0, 3.1, 3.2, 3.3, 3.4, 3.5, 3.6, 3.7, 3.8, 3.9, 4.0, 4.1, 4.2, 4.3, 4.4, 4.5, 4.6, 4.7, 4.8, 4.9, 5.0, 5.1, 5.2, 5.3, 5.4, 5.5, 5.6, 5.7, 5.8, 5.9, 6.0, 6.1, 6.2, 6.3, 6.4, 6.5, 6.6, 6.7, 6.8, 6.9, 7.0, 7.1, 7.2, 7.3, 7.4, 7.5, 7.6, 7.7, 7.8, 7.9, 8.0, 8.1, 8.2, 8.3, 8.4, 8.5, 8.6, 8.7, 8.8, 8.9, 9.0, 9.1, 9.2, 9.3, 9.4, 9.5, 9.6, 9.7, 9.8, 9.9, 10.0, 10.1, 10.2, 10.3, 10.4, 10.5, 10.6, 10.7, 10.8, 10.9], \"xaxis\": \"x\", \"y\": [0.0, 0.0, 0.0, 0.0, 0.0, 0.0, 0.0, 0.0, 0.0, 0.0, 0.0, -0.04315955279464511, -0.25607554619625555, -0.7880383125019954, -1.7444048609749925, -3.1853443866040916, -5.140822547705694, -7.622741871479762, -10.632027186676854, -14.162093486470972, -18.200176539885447, -22.697263134813007, -27.538351149192945, -32.58547536833142, -37.73107149339165, -42.904772268939425, -48.0624088141353, -53.17424616957278, -58.21776422527081, -63.17481880240431, -68.03130491020268, -72.77763025263845, -77.40902001525798, -81.92529414836862, -86.33013977860453, -90.6300741223324, -94.8333264636422, -98.94882471972333, -102.9853994131923, -106.95124544170363, -110.85362627098546, -114.69877208740482, -118.49191160557599, -122.23738087489447, -125.93876451780547, -129.5990393370362, -133.2207032521517, -136.80588230511586, -140.3564147789621, -143.87391488656922, -147.35981985594526, -150.81542436101705, -154.24190573662395, -157.6403426828158, -161.01172944214017, -164.35698683310795, -167.67697107213797, -170.9724810013555, -174.2442641307456, -177.49302176922484, -180.7194134346731, -183.92406067947724, -187.10755043357574, -190.2704379438177, -193.4132493721819, -196.53648410343888, -199.64061680369542, -202.72609926408458, -205.79336205813837, -208.8428160367687, -211.87485368104223, -214.88985032988373, -217.88816529733555, -220.87014289192606, -223.83611334897097, -226.78639368518407, -229.72128848375198, -232.6410906169935, -235.54608191284441, -238.43653377065462, -241.3127077311398, -244.1748560047701, -247.02322196239913, -249.858040591515, -252.67953892113218, -255.48793641802354, -258.28344535671255, -261.0662711653999, -263.836612749782, -266.59466279652867, -269.3406080580167, -272.07462961976455, -274.79690315188265, -277.50759914573035, -280.20688313686713, -282.8949159152876, -285.5718537238452, -288.2378484456926, -290.89304778149574, -293.53759541711804, -296.1716311824126, -298.7952912017101, -301.4087080365431, -304.01201082110595, -306.6053253909101, -309.1887744050605, -311.76247746254677, -314.32655121291367, -316.88110946164846, -319.42626327059935], \"yaxis\": \"y\"}, {\"line\": {\"color\": \"rgb(0, 255, 0)\", \"width\": 2}, \"mode\": \"lines\", \"name\": \"omega\", \"type\": \"scatter\", \"x\": [0.0, 0.1, 0.2, 0.3, 0.4, 0.5, 0.6, 0.7, 0.8, 0.9, 1.0, 1.1, 1.2, 1.3, 1.4, 1.5, 1.6, 1.7, 1.8, 1.9, 2.0, 2.1, 2.2, 2.3, 2.4, 2.5, 2.6, 2.7, 2.8, 2.9, 3.0, 3.1, 3.2, 3.3, 3.4, 3.5, 3.6, 3.7, 3.8, 3.9, 4.0, 4.1, 4.2, 4.3, 4.4, 4.5, 4.6, 4.7, 4.8, 4.9, 5.0, 5.1, 5.2, 5.3, 5.4, 5.5, 5.6, 5.7, 5.8, 5.9, 6.0, 6.1, 6.2, 6.3, 6.4, 6.5, 6.6, 6.7, 6.8, 6.9, 7.0, 7.1, 7.2, 7.3, 7.4, 7.5, 7.6, 7.7, 7.8, 7.9, 8.0, 8.1, 8.2, 8.3, 8.4, 8.5, 8.6, 8.7, 8.8, 8.9, 9.0, 9.1, 9.2, 9.3, 9.4, 9.5, 9.6, 9.7, 9.8, 9.9, 10.0, 10.1, 10.2, 10.3, 10.4, 10.5, 10.6, 10.7, 10.8, 10.9], \"xaxis\": \"x2\", \"y\": [0.0, 0.0, 0.0, 0.0, 0.0, 0.0, 0.0, 0.0, 0.0, 0.0, 0.0, -0.8631910558929022, -3.395128812139307, -7.24412651397549, -11.883204455484446, -16.935586057097538, -22.17397716493453, -27.46440931054683, -32.72129699339501, -37.88002900248733, -42.88163206580216, -47.06009983274894, -49.76166045484984, -51.180823927919725, -51.73109857328491, -51.74291693767055, -51.409813966246894, -50.82693314250273, -50.043427971457774, -49.09766357121239, -48.03205858475492, -46.89444826396064, -45.73334698843002, -44.592135673782614, -43.504776930936075, -42.49390994362115, -41.57113688257457, -40.738828239048, -39.99266563033116, -39.32425493989589, -38.723361645740525, -38.17955468264652, -37.683235680777074, -37.22614970559255, -36.80152315262745, -36.40397323198692, -36.0293050703228, -35.67427598896063, -35.33637348796394, -35.01362866417866, -34.704470723342226, -34.407619378093514, -34.12200813404398, -33.8467307897931, -33.58100439669405, -33.32414342266201, -33.07554135793803, -32.83465722641365, -32.60100536138797, -32.37414740819701, -32.15368590076762, -31.939258995315384, -31.73053608665531, -31.527214118183515, -31.329014449100132, -31.135680176039696, -30.946973829091633, -30.7626753786915, -30.58258050238432, -30.406499070222395, -30.234253815247772, -30.06567916158163, -29.90062018745521, -29.738931704355007, -29.580477436543053, -29.42512928771889, -29.27276668363872, -29.123275981191675, -28.976549935826316, -28.83248722037907, -28.690991989324495, -28.551973483281756, -28.415345669298716, -28.28102691301794, -28.148939679324947, -28.019010258502554, -27.89116851527871, -27.76534765846757, -27.64148402917345, -27.519516905761215, -27.399388323999265, -27.281042910958277, -27.164427731403165, -27.04949214555086, -26.936187677185135, -26.824467891224195, -26.714288279928663, -26.605606157019015, -26.498380559043675, -26.392572153402703, -26.288143152489194, -26.185057233460842, -26.08327946319964, -25.982776228057883, -25.883515168025067, -25.785465114982713, -25.68859603474314, -25.592878972594885, -25.49828600210079, -25.404790176916432], \"yaxis\": \"y2\"}, {\"line\": {\"color\": \"rgb(204, 0, 0)\", \"width\": 2}, \"mode\": \"lines\", \"name\": \"alpha\", \"type\": \"scatter\", \"x\": [0.0, 0.1, 0.2, 0.3, 0.4, 0.5, 0.6, 0.7, 0.8, 0.9, 1.0, 1.1, 1.2, 1.3, 1.4, 1.5, 1.6, 1.7, 1.8, 1.9, 2.0, 2.1, 2.2, 2.3, 2.4, 2.5, 2.6, 2.7, 2.8, 2.9, 3.0, 3.1, 3.2, 3.3, 3.4, 3.5, 3.6, 3.7, 3.8, 3.9, 4.0, 4.1, 4.2, 4.3, 4.4, 4.5, 4.6, 4.7, 4.8, 4.9, 5.0, 5.1, 5.2, 5.3, 5.4, 5.5, 5.6, 5.7, 5.8, 5.9, 6.0, 6.1, 6.2, 6.3, 6.4, 6.5, 6.6, 6.7, 6.8, 6.9, 7.0, 7.1, 7.2, 7.3, 7.4, 7.5, 7.6, 7.7, 7.8, 7.9, 8.0, 8.1, 8.2, 8.3, 8.4, 8.5, 8.6, 8.7, 8.8, 8.9, 9.0, 9.1, 9.2, 9.3, 9.4, 9.5, 9.6, 9.7, 9.8, 9.9, 10.0, 10.1, 10.2, 10.3, 10.4, 10.5, 10.6, 10.7, 10.8, 10.9], \"xaxis\": \"x2\", \"y\": [0.0, 0.0, 0.0, 0.0, 0.0, 0.0, 0.0, 0.0, 0.0, 0.0, 0.0, -17.263821117858043, -33.37493400707005, -43.605020029653616, -49.176538800525485, -51.87109323173637, -52.89672892500351, -52.911913987242485, -52.22583966972108, -50.94880051212553, -49.08326075417097, -34.486094584764615, -19.545117857253302, -8.83815160414446, -2.1673413031592625, 1.9309740154464694, 4.731085413026763, 6.9265310618563625, 8.74357235904269, 10.171715645865202, 11.14038408328407, 11.611822332601646, 11.61020317801078, 11.21402311493749, 10.533151741993276, 9.684188004305385, 8.771273216626192, 7.874899653905213, 7.048352520431487, 6.319861288274016, 5.698004594833081, 5.178134667047123, 4.748245370341797, 4.393474133348757, 4.099056925953175, 3.8519414868574358, 3.641421746424995, 3.459159880818298, 3.2988901391155894, 3.156006336589851, 3.027152480138878, 2.9098744248351935, 2.8023504561556223, 2.7031964288618546, 2.6113314331192403, 2.52588804752135, 2.446153246958389, 2.371529383529126, 2.3015079169845123, 2.2356511468346296, 2.1735790017532746, 2.1149591072914222, 2.059499065910069, 2.006940303525933, 1.9570530781417197, 1.9096323830669844, 1.8644945558942803, 1.821474452108231, 1.7804230740353448, 1.741205569203161, 1.7036995302893359, 1.6677935430335262, 1.633385939494944, 1.6003837225090507, 1.5687016337301185, 1.5382613427531868, 1.5089907388501462, 1.4808233100908363, 1.4536975972162525, 1.427556711728718, 1.4023479093628186, 1.3780222114919571, 1.3545340681688753, 1.3318410574465593, 1.3099036164133444, 1.288684800034522, 1.2681500644422485, 1.2482670717806568, 1.2290055141017795, 1.2103369541429019, 1.1922346810961209, 1.1746735797236325, 1.1576300113785314, 1.1410817056676013, 1.1250076616468914, 1.1093880575718573, 1.0942041683388282, 1.0794382898540915, 1.0650736696528067, 1.0510944431666311, 1.03748557510356, 1.0242328054633472, 1.0113225997607036, 0.9987421030745776, 0.9864790975816426, 0.9745219632654504, 0.9628596415259845, 0.9514816014391605, 0.9403778084426561, 0.9295386952445784], \"yaxis\": \"y2\"}],\n",
       "                        {\"autosize\": false, \"font\": {\"color\": \"black\", \"family\": \"Arial\", \"size\": 14}, \"height\": 500, \"legend\": {\"orientation\": \"h\", \"x\": 0.01, \"xanchor\": \"left\", \"y\": 1.1, \"yanchor\": \"top\"}, \"template\": {\"data\": {\"bar\": [{\"error_x\": {\"color\": \"#2a3f5f\"}, \"error_y\": {\"color\": \"#2a3f5f\"}, \"marker\": {\"line\": {\"color\": \"white\", \"width\": 0.5}}, \"type\": \"bar\"}], \"barpolar\": [{\"marker\": {\"line\": {\"color\": \"white\", \"width\": 0.5}}, \"type\": \"barpolar\"}], \"carpet\": [{\"aaxis\": {\"endlinecolor\": \"#2a3f5f\", \"gridcolor\": \"#C8D4E3\", \"linecolor\": \"#C8D4E3\", \"minorgridcolor\": \"#C8D4E3\", \"startlinecolor\": \"#2a3f5f\"}, \"baxis\": {\"endlinecolor\": \"#2a3f5f\", \"gridcolor\": \"#C8D4E3\", \"linecolor\": \"#C8D4E3\", \"minorgridcolor\": \"#C8D4E3\", \"startlinecolor\": \"#2a3f5f\"}, \"type\": \"carpet\"}], \"choropleth\": [{\"colorbar\": {\"outlinewidth\": 0, \"ticks\": \"\"}, \"type\": \"choropleth\"}], \"contour\": [{\"colorbar\": {\"outlinewidth\": 0, \"ticks\": \"\"}, \"colorscale\": [[0.0, \"#0d0887\"], [0.1111111111111111, \"#46039f\"], [0.2222222222222222, \"#7201a8\"], [0.3333333333333333, \"#9c179e\"], [0.4444444444444444, \"#bd3786\"], [0.5555555555555556, \"#d8576b\"], [0.6666666666666666, \"#ed7953\"], [0.7777777777777778, \"#fb9f3a\"], [0.8888888888888888, \"#fdca26\"], [1.0, \"#f0f921\"]], \"type\": \"contour\"}], \"contourcarpet\": [{\"colorbar\": {\"outlinewidth\": 0, \"ticks\": \"\"}, \"type\": \"contourcarpet\"}], \"heatmap\": [{\"colorbar\": {\"outlinewidth\": 0, \"ticks\": \"\"}, \"colorscale\": [[0.0, \"#0d0887\"], [0.1111111111111111, \"#46039f\"], [0.2222222222222222, \"#7201a8\"], [0.3333333333333333, \"#9c179e\"], [0.4444444444444444, \"#bd3786\"], [0.5555555555555556, \"#d8576b\"], [0.6666666666666666, \"#ed7953\"], [0.7777777777777778, \"#fb9f3a\"], [0.8888888888888888, \"#fdca26\"], [1.0, \"#f0f921\"]], \"type\": \"heatmap\"}], \"heatmapgl\": [{\"colorbar\": {\"outlinewidth\": 0, \"ticks\": \"\"}, \"colorscale\": [[0.0, \"#0d0887\"], [0.1111111111111111, \"#46039f\"], [0.2222222222222222, \"#7201a8\"], [0.3333333333333333, \"#9c179e\"], [0.4444444444444444, \"#bd3786\"], [0.5555555555555556, \"#d8576b\"], [0.6666666666666666, \"#ed7953\"], [0.7777777777777778, \"#fb9f3a\"], [0.8888888888888888, \"#fdca26\"], [1.0, \"#f0f921\"]], \"type\": \"heatmapgl\"}], \"histogram\": [{\"marker\": {\"colorbar\": {\"outlinewidth\": 0, \"ticks\": \"\"}}, \"type\": \"histogram\"}], \"histogram2d\": [{\"colorbar\": {\"outlinewidth\": 0, \"ticks\": \"\"}, \"colorscale\": [[0.0, \"#0d0887\"], [0.1111111111111111, \"#46039f\"], [0.2222222222222222, \"#7201a8\"], [0.3333333333333333, \"#9c179e\"], [0.4444444444444444, \"#bd3786\"], [0.5555555555555556, \"#d8576b\"], [0.6666666666666666, \"#ed7953\"], [0.7777777777777778, \"#fb9f3a\"], [0.8888888888888888, \"#fdca26\"], [1.0, \"#f0f921\"]], \"type\": \"histogram2d\"}], \"histogram2dcontour\": [{\"colorbar\": {\"outlinewidth\": 0, \"ticks\": \"\"}, \"colorscale\": [[0.0, \"#0d0887\"], [0.1111111111111111, \"#46039f\"], [0.2222222222222222, \"#7201a8\"], [0.3333333333333333, \"#9c179e\"], [0.4444444444444444, \"#bd3786\"], [0.5555555555555556, \"#d8576b\"], [0.6666666666666666, \"#ed7953\"], [0.7777777777777778, \"#fb9f3a\"], [0.8888888888888888, \"#fdca26\"], [1.0, \"#f0f921\"]], \"type\": \"histogram2dcontour\"}], \"mesh3d\": [{\"colorbar\": {\"outlinewidth\": 0, \"ticks\": \"\"}, \"type\": \"mesh3d\"}], \"parcoords\": [{\"line\": {\"colorbar\": {\"outlinewidth\": 0, \"ticks\": \"\"}}, \"type\": \"parcoords\"}], \"pie\": [{\"automargin\": true, \"type\": \"pie\"}], \"scatter\": [{\"marker\": {\"colorbar\": {\"outlinewidth\": 0, \"ticks\": \"\"}}, \"type\": \"scatter\"}], \"scatter3d\": [{\"line\": {\"colorbar\": {\"outlinewidth\": 0, \"ticks\": \"\"}}, \"marker\": {\"colorbar\": {\"outlinewidth\": 0, \"ticks\": \"\"}}, \"type\": \"scatter3d\"}], \"scattercarpet\": [{\"marker\": {\"colorbar\": {\"outlinewidth\": 0, \"ticks\": \"\"}}, \"type\": \"scattercarpet\"}], \"scattergeo\": [{\"marker\": {\"colorbar\": {\"outlinewidth\": 0, \"ticks\": \"\"}}, \"type\": \"scattergeo\"}], \"scattergl\": [{\"marker\": {\"colorbar\": {\"outlinewidth\": 0, \"ticks\": \"\"}}, \"type\": \"scattergl\"}], \"scattermapbox\": [{\"marker\": {\"colorbar\": {\"outlinewidth\": 0, \"ticks\": \"\"}}, \"type\": \"scattermapbox\"}], \"scatterpolar\": [{\"marker\": {\"colorbar\": {\"outlinewidth\": 0, \"ticks\": \"\"}}, \"type\": \"scatterpolar\"}], \"scatterpolargl\": [{\"marker\": {\"colorbar\": {\"outlinewidth\": 0, \"ticks\": \"\"}}, \"type\": \"scatterpolargl\"}], \"scatterternary\": [{\"marker\": {\"colorbar\": {\"outlinewidth\": 0, \"ticks\": \"\"}}, \"type\": \"scatterternary\"}], \"surface\": [{\"colorbar\": {\"outlinewidth\": 0, \"ticks\": \"\"}, \"colorscale\": [[0.0, \"#0d0887\"], [0.1111111111111111, \"#46039f\"], [0.2222222222222222, \"#7201a8\"], [0.3333333333333333, \"#9c179e\"], [0.4444444444444444, \"#bd3786\"], [0.5555555555555556, \"#d8576b\"], [0.6666666666666666, \"#ed7953\"], [0.7777777777777778, \"#fb9f3a\"], [0.8888888888888888, \"#fdca26\"], [1.0, \"#f0f921\"]], \"type\": \"surface\"}], \"table\": [{\"cells\": {\"fill\": {\"color\": \"#EBF0F8\"}, \"line\": {\"color\": \"white\"}}, \"header\": {\"fill\": {\"color\": \"#C8D4E3\"}, \"line\": {\"color\": \"white\"}}, \"type\": \"table\"}]}, \"layout\": {\"annotationdefaults\": {\"arrowcolor\": \"#2a3f5f\", \"arrowhead\": 0, \"arrowwidth\": 1}, \"coloraxis\": {\"colorbar\": {\"outlinewidth\": 0, \"ticks\": \"\"}}, \"colorscale\": {\"diverging\": [[0, \"#8e0152\"], [0.1, \"#c51b7d\"], [0.2, \"#de77ae\"], [0.3, \"#f1b6da\"], [0.4, \"#fde0ef\"], [0.5, \"#f7f7f7\"], [0.6, \"#e6f5d0\"], [0.7, \"#b8e186\"], [0.8, \"#7fbc41\"], [0.9, \"#4d9221\"], [1, \"#276419\"]], \"sequential\": [[0.0, \"#0d0887\"], [0.1111111111111111, \"#46039f\"], [0.2222222222222222, \"#7201a8\"], [0.3333333333333333, \"#9c179e\"], [0.4444444444444444, \"#bd3786\"], [0.5555555555555556, \"#d8576b\"], [0.6666666666666666, \"#ed7953\"], [0.7777777777777778, \"#fb9f3a\"], [0.8888888888888888, \"#fdca26\"], [1.0, \"#f0f921\"]], \"sequentialminus\": [[0.0, \"#0d0887\"], [0.1111111111111111, \"#46039f\"], [0.2222222222222222, \"#7201a8\"], [0.3333333333333333, \"#9c179e\"], [0.4444444444444444, \"#bd3786\"], [0.5555555555555556, \"#d8576b\"], [0.6666666666666666, \"#ed7953\"], [0.7777777777777778, \"#fb9f3a\"], [0.8888888888888888, \"#fdca26\"], [1.0, \"#f0f921\"]]}, \"colorway\": [\"#636efa\", \"#EF553B\", \"#00cc96\", \"#ab63fa\", \"#FFA15A\", \"#19d3f3\", \"#FF6692\", \"#B6E880\", \"#FF97FF\", \"#FECB52\"], \"font\": {\"color\": \"#2a3f5f\"}, \"geo\": {\"bgcolor\": \"white\", \"lakecolor\": \"white\", \"landcolor\": \"white\", \"showlakes\": true, \"showland\": true, \"subunitcolor\": \"#C8D4E3\"}, \"hoverlabel\": {\"align\": \"left\"}, \"hovermode\": \"closest\", \"mapbox\": {\"style\": \"light\"}, \"paper_bgcolor\": \"white\", \"plot_bgcolor\": \"white\", \"polar\": {\"angularaxis\": {\"gridcolor\": \"#EBF0F8\", \"linecolor\": \"#EBF0F8\", \"ticks\": \"\"}, \"bgcolor\": \"white\", \"radialaxis\": {\"gridcolor\": \"#EBF0F8\", \"linecolor\": \"#EBF0F8\", \"ticks\": \"\"}}, \"scene\": {\"xaxis\": {\"backgroundcolor\": \"white\", \"gridcolor\": \"#DFE8F3\", \"gridwidth\": 2, \"linecolor\": \"#EBF0F8\", \"showbackground\": true, \"ticks\": \"\", \"zerolinecolor\": \"#EBF0F8\"}, \"yaxis\": {\"backgroundcolor\": \"white\", \"gridcolor\": \"#DFE8F3\", \"gridwidth\": 2, \"linecolor\": \"#EBF0F8\", \"showbackground\": true, \"ticks\": \"\", \"zerolinecolor\": \"#EBF0F8\"}, \"zaxis\": {\"backgroundcolor\": \"white\", \"gridcolor\": \"#DFE8F3\", \"gridwidth\": 2, \"linecolor\": \"#EBF0F8\", \"showbackground\": true, \"ticks\": \"\", \"zerolinecolor\": \"#EBF0F8\"}}, \"shapedefaults\": {\"line\": {\"color\": \"#2a3f5f\"}}, \"ternary\": {\"aaxis\": {\"gridcolor\": \"#DFE8F3\", \"linecolor\": \"#A2B1C6\", \"ticks\": \"\"}, \"baxis\": {\"gridcolor\": \"#DFE8F3\", \"linecolor\": \"#A2B1C6\", \"ticks\": \"\"}, \"bgcolor\": \"white\", \"caxis\": {\"gridcolor\": \"#DFE8F3\", \"linecolor\": \"#A2B1C6\", \"ticks\": \"\"}}, \"title\": {\"x\": 0.05}, \"xaxis\": {\"automargin\": true, \"gridcolor\": \"#EBF0F8\", \"linecolor\": \"#EBF0F8\", \"ticks\": \"\", \"title\": {\"standoff\": 15}, \"zerolinecolor\": \"#EBF0F8\", \"zerolinewidth\": 2}, \"yaxis\": {\"automargin\": true, \"gridcolor\": \"#EBF0F8\", \"linecolor\": \"#EBF0F8\", \"ticks\": \"\", \"title\": {\"standoff\": 15}, \"zerolinecolor\": \"#EBF0F8\", \"zerolinewidth\": 2}}}, \"title\": {\"text\": \"Veh1 Heading and Rotation\"}, \"width\": 900, \"xaxis\": {\"anchor\": \"y\", \"domain\": [0.0, 1.0], \"linecolor\": \"black\", \"linewidth\": 1, \"matches\": \"x2\", \"showgrid\": false, \"showline\": true, \"showticklabels\": false, \"tickcolor\": \"black\", \"ticklen\": 10, \"ticks\": \"outside\", \"tickwidth\": 1, \"title\": {\"text\": \"\"}, \"zeroline\": false}, \"xaxis2\": {\"anchor\": \"y2\", \"domain\": [0.0, 1.0], \"linecolor\": \"black\", \"linewidth\": 1, \"showgrid\": false, \"showline\": true, \"tickcolor\": \"black\", \"ticklen\": 10, \"ticks\": \"outside\", \"tickwidth\": 1, \"title\": {\"text\": \"Time (s)\"}, \"zeroline\": false}, \"yaxis\": {\"anchor\": \"x\", \"domain\": [0.5349999999999999, 0.9999999999999999], \"linecolor\": \"black\", \"linewidth\": 1, \"showgrid\": false, \"showline\": true, \"tickcolor\": \"black\", \"ticklen\": 10, \"ticks\": \"outside\", \"tickwidth\": 1, \"title\": {\"text\": \"Heading (deg)\"}, \"zeroline\": false}, \"yaxis2\": {\"anchor\": \"x2\", \"domain\": [0.0, 0.46499999999999997], \"linecolor\": \"black\", \"linewidth\": 1, \"showgrid\": false, \"showline\": true, \"tickcolor\": \"black\", \"ticklen\": 10, \"ticks\": \"outside\", \"tickwidth\": 1, \"title\": {\"text\": \"Omega (deg/s), Alpha (deg/s/s)\"}, \"zeroline\": false}},\n",
       "                        {\"responsive\": true}\n",
       "                    ).then(function(){\n",
       "                            \n",
       "var gd = document.getElementById('4477b9ee-e9a8-4ec3-b232-e99c6cb8ef01');\n",
       "var x = new MutationObserver(function (mutations, observer) {{\n",
       "        var display = window.getComputedStyle(gd).display;\n",
       "        if (!display || display === 'none') {{\n",
       "            console.log([gd, 'removed!']);\n",
       "            Plotly.purge(gd);\n",
       "            observer.disconnect();\n",
       "        }}\n",
       "}});\n",
       "\n",
       "// Listen for the removal of the full notebook cells\n",
       "var notebookContainer = gd.closest('#notebook-container');\n",
       "if (notebookContainer) {{\n",
       "    x.observe(notebookContainer, {childList: true});\n",
       "}}\n",
       "\n",
       "// Listen for the clearing of the current output cell\n",
       "var outputEl = gd.closest('.output');\n",
       "if (outputEl) {{\n",
       "    x.observe(outputEl, {childList: true});\n",
       "}}\n",
       "\n",
       "                        })\n",
       "                };\n",
       "                });\n",
       "            </script>\n",
       "        </div>"
      ]
     },
     "metadata": {},
     "output_type": "display_data"
    }
   ],
   "source": [
    "run.plot_model()"
   ]
  },
  {
   "cell_type": "markdown",
   "metadata": {},
   "source": [
    "### Plot Vehicle Motion"
   ]
  },
  {
   "cell_type": "code",
   "execution_count": 152,
   "metadata": {},
   "outputs": [
    {
     "data": {
      "text/plain": [
       "110"
      ]
     },
     "execution_count": 152,
     "metadata": {},
     "output_type": "execute_result"
    }
   ],
   "source": [
    "len(run.veh.model.t)"
   ]
  },
  {
   "cell_type": "code",
   "execution_count": 160,
   "metadata": {},
   "outputs": [
    {
     "data": {
      "application/vnd.plotly.v1+json": {
       "config": {
        "plotlyServerURL": "https://plot.ly"
       },
       "data": [
        {
         "line": {
          "color": "rgb(0, 0, 0)",
          "width": 2
         },
         "mode": "lines",
         "name": "body",
         "type": "scatter",
         "x": [
          48.52027797481324,
          50.34224874061948,
          35.53853260131723,
          33.71656183551099,
          48.52027797481324
         ],
         "y": [
          -7.084982192144215,
          -1.5434841720845491,
          3.323780587997836,
          -2.21771743206183,
          -7.084982192144215
         ]
        },
        {
         "line": {
          "color": "rgb(0, 0, 255)",
          "width": 1
         },
         "mode": "lines",
         "name": "LF",
         "type": "scatter",
         "x": [
          46.220783354403046,
          46.68189180221789,
          45.0245283378637,
          44.563419890048856,
          46.220783354403046
         ],
         "y": [
          -6.738960870787395,
          -6.2012666170847,
          -4.779967636761301,
          -5.317661890463995,
          -6.738960870787395
         ]
        },
        {
         "line": {
          "color": "rgb(0, 255, 0)",
          "width": 1
         },
         "mode": "lines",
         "name": "RF",
         "type": "scatter",
         "x": [
          47.82151481293281,
          48.282623260747656,
          46.625259796393465,
          46.16415134857862,
          47.82151481293281
         ],
         "y": [
          -1.8703590388778313,
          -1.3326647851751368,
          0.08863419514826232,
          -0.44906005855443176,
          -1.8703590388778313
         ]
        },
        {
         "line": {
          "color": "rgb(153, 0, 204)",
          "width": 1
         },
         "mode": "lines",
         "name": "RR",
         "type": "scatter",
         "x": [
          39.75840813583144,
          39.97964744310791,
          37.905543898457,
          37.68430459118053,
          39.75840813583144
         ],
         "y": [
          1.190704971823018,
          1.8636011599731204,
          2.5455387894605987,
          1.8726426013104964,
          1.190704971823018
         ]
        },
        {
         "line": {
          "color": "rgb(255, 102, 0)",
          "width": 1
         },
         "mode": "lines",
         "name": "LR",
         "type": "scatter",
         "x": [
          38.157676677301666,
          38.378915984578136,
          36.304812439927225,
          36.083573132650756,
          38.157676677301666
         ],
         "y": [
          -3.6778968600865456,
          -3.0050006719364433,
          -2.3230630424489647,
          -2.995959230599067,
          -3.6778968600865456
         ]
        },
        {
         "customdata": [
          2,
          2
         ],
         "hovertemplate": "<b>x</b>:%{x:.1f}<br><b>Y</b>: %{y:.1f}<br><b>time</b>: %{customdata:.3f}",
         "marker": {
          "color": "rgb(0, 0, 0)",
          "size": 10
         },
         "mode": "markers",
         "name": "CG",
         "type": "scatter",
         "x": [
          43.40686336733721,
          43.40686336733721
         ],
         "y": [
          -2.3334906781450266,
          -2.3334906781450266
         ]
        },
        {
         "marker": {
          "color": "rgb(0, 0, 255)",
          "size": 5,
          "symbol": [
           "circle",
           "circle",
           "circle",
           "circle",
           "circle",
           "circle",
           "circle",
           "circle",
           "circle",
           "circle",
           "circle",
           "circle",
           "circle",
           "circle",
           "circle",
           "circle",
           "circle",
           "circle",
           "circle",
           "circle"
          ]
         },
         "mode": "markers",
         "name": "LF",
         "type": "scatter",
         "x": [
          3.1750000000000003,
          5.375005,
          7.575010000000001,
          9.775015,
          11.97502,
          14.175025,
          16.37503,
          18.575034999999996,
          20.77504,
          22.975044999999998,
          25.175049999999995,
          27.372952135518393,
          29.562163568645392,
          31.73371285530283,
          33.8790302841514,
          35.98986371938498,
          38.057139724169495,
          40.06976888386347,
          42.013743561820434,
          43.87165314991654
         ],
         "y": [
          -2.5625,
          -2.5625,
          -2.5625,
          -2.5625,
          -2.5625,
          -2.5625,
          -2.5625,
          -2.5625,
          -2.5625,
          -2.5625,
          -2.5625,
          -2.569616277373153,
          -2.60463387527875,
          -2.6918302905793277,
          -2.8483407185039074,
          -3.08516403989638,
          -3.4108405717343597,
          -3.8336230054101206,
          -4.361687092273634,
          -5.002127261563014
         ]
        },
        {
         "marker": {
          "color": "rgb(0, 255, 0)",
          "size": 5,
          "symbol": [
           "circle",
           "circle",
           "circle",
           "circle",
           "circle",
           "circle",
           "circle",
           "circle",
           "circle",
           "circle",
           "circle",
           "circle",
           "circle",
           "circle",
           "circle",
           "circle",
           "circle",
           "circle",
           "circle",
           "circle"
          ]
         },
         "mode": "markers",
         "name": "RF",
         "type": "scatter",
         "x": [
          3.1750000000000003,
          5.375005,
          7.575010000000001,
          9.775015,
          11.97502,
          14.175025,
          16.37503,
          18.575034999999996,
          20.77504,
          22.975044999999998,
          25.175049999999995,
          27.376812676190564,
          29.585068969640293,
          31.80419918177527,
          34.03503992234204,
          36.27464005003244,
          38.51635992393138,
          40.74959917872483,
          42.95930997171925,
          45.125566161743805
         ],
         "y": [
          2.5625,
          2.5625,
          2.5625,
          2.5625,
          2.5625,
          2.5625,
          2.5625,
          2.5625,
          2.5625,
          2.5625,
          2.5625,
          2.5553822685998817,
          2.520314938378345,
          2.432684972133861,
          2.2742841938619813,
          2.0319178865049325,
          1.6935439952953084,
          1.246087199925289,
          0.6753288064972902,
          -0.03288917521916446
         ]
        },
        {
         "marker": {
          "color": "rgb(153, 0, 204)",
          "size": 5,
          "symbol": [
           "circle",
           "circle",
           "circle",
           "circle",
           "circle",
           "circle",
           "circle",
           "circle",
           "circle",
           "circle",
           "circle",
           "circle",
           "circle",
           "circle",
           "circle",
           "circle",
           "circle",
           "circle",
           "circle",
           "circle"
          ]
         },
         "mode": "markers",
         "name": "RR",
         "type": "scatter",
         "x": [
          -5.658333333333334,
          -3.458328333333334,
          -1.2583233333333341,
          0.941681666666665,
          3.141686666666666,
          5.341691666666665,
          7.541696666666664,
          9.741701666666664,
          11.941706666666665,
          14.141711666666662,
          16.34171666666666,
          18.543481848985007,
          20.75182385992237,
          22.97170133059481,
          25.205800235987816,
          27.45495412810497,
          29.718558881571305,
          31.994326304488187,
          34.27762403237424,
          36.560700516988554
         ],
         "y": [
          2.5625,
          2.5625,
          2.5625,
          2.5625,
          2.5625,
          2.5625,
          2.5625,
          2.5625,
          2.5625,
          2.5625,
          2.5625,
          2.562036208620214,
          2.5597941661093966,
          2.554173599874975,
          2.543178854808439,
          2.5227518872956707,
          2.485045477811731,
          2.4178272203367484,
          2.3050855455098898,
          2.128326747605064
         ]
        },
        {
         "marker": {
          "color": "rgb(255, 102, 0)",
          "size": 5,
          "symbol": [
           "circle",
           "circle",
           "circle",
           "circle",
           "circle",
           "circle",
           "circle",
           "circle",
           "circle",
           "circle",
           "circle",
           "circle",
           "circle",
           "circle",
           "circle",
           "circle",
           "circle",
           "circle",
           "circle",
           "circle"
          ]
         },
         "mode": "markers",
         "name": "LR",
         "type": "scatter",
         "x": [
          -5.658333333333334,
          -3.458328333333334,
          -1.2583233333333341,
          0.941681666666665,
          3.141686666666666,
          5.341691666666665,
          7.541696666666664,
          9.741701666666664,
          11.941706666666665,
          14.141711666666662,
          16.34171666666666,
          18.539621308312835,
          20.72891845892747,
          22.90121500412237,
          25.049790597797184,
          27.170177797457516,
          29.259338681809417,
          31.31449600962682,
          33.332057622475425,
          35.30678750516129
         ],
         "y": [
          -2.5625,
          -2.5625,
          -2.5625,
          -2.5625,
          -2.5625,
          -2.5625,
          -2.5625,
          -2.5625,
          -2.5625,
          -2.5625,
          -2.5625,
          -2.5629623373528205,
          -2.5651546475476987,
          -2.5703416628382136,
          -2.57944605755745,
          -2.594330039105642,
          -2.619339089217937,
          -2.661882984998661,
          -2.731930353261034,
          -2.840911338738785
         ]
        }
       ],
       "layout": {
        "annotations": [
         {
          "arrowcolor": "rgb(255, 0, 0)",
          "arrowhead": 1,
          "arrowsize": 2.5,
          "arrowwidth": 1.7,
          "ax": 43.40686336733721,
          "axref": "x",
          "ay": -2.3334906781450266,
          "ayref": "y",
          "showarrow": true,
          "text": "",
          "x": 62.62862565442633,
          "xref": "x",
          "y": -10.288600931462438,
          "yref": "y"
         },
         {
          "arrowcolor": "rgb(0, 0, 0)",
          "arrowhead": 1,
          "arrowsize": 2,
          "arrowwidth": 1.5,
          "ax": 43.40686336733721,
          "axref": "x",
          "ay": -2.3334906781450266,
          "ayref": "y",
          "showarrow": true,
          "text": "",
          "x": 50.85621999144599,
          "xref": "x",
          "y": -4.782739950464558,
          "yref": "y"
         },
         {
          "arrowcolor": "rgb(0, 0, 255)",
          "arrowhead": 1,
          "arrowsize": 2,
          "arrowwidth": 1.5,
          "ax": 43.40686336733721,
          "axref": "x",
          "ay": -2.3334906781450266,
          "ayref": "y",
          "showarrow": true,
          "text": "",
          "x": 44.786355518590504,
          "xref": "x",
          "y": 1.8622149656144344,
          "yref": "y"
         }
        ],
        "autosize": false,
        "font": {
         "color": "black",
         "family": "Arial",
         "size": 16
        },
        "height": 700,
        "showlegend": false,
        "template": {
         "data": {
          "bar": [
           {
            "error_x": {
             "color": "#2a3f5f"
            },
            "error_y": {
             "color": "#2a3f5f"
            },
            "marker": {
             "line": {
              "color": "white",
              "width": 0.5
             }
            },
            "type": "bar"
           }
          ],
          "barpolar": [
           {
            "marker": {
             "line": {
              "color": "white",
              "width": 0.5
             }
            },
            "type": "barpolar"
           }
          ],
          "carpet": [
           {
            "aaxis": {
             "endlinecolor": "#2a3f5f",
             "gridcolor": "#C8D4E3",
             "linecolor": "#C8D4E3",
             "minorgridcolor": "#C8D4E3",
             "startlinecolor": "#2a3f5f"
            },
            "baxis": {
             "endlinecolor": "#2a3f5f",
             "gridcolor": "#C8D4E3",
             "linecolor": "#C8D4E3",
             "minorgridcolor": "#C8D4E3",
             "startlinecolor": "#2a3f5f"
            },
            "type": "carpet"
           }
          ],
          "choropleth": [
           {
            "colorbar": {
             "outlinewidth": 0,
             "ticks": ""
            },
            "type": "choropleth"
           }
          ],
          "contour": [
           {
            "colorbar": {
             "outlinewidth": 0,
             "ticks": ""
            },
            "colorscale": [
             [
              0,
              "#0d0887"
             ],
             [
              0.1111111111111111,
              "#46039f"
             ],
             [
              0.2222222222222222,
              "#7201a8"
             ],
             [
              0.3333333333333333,
              "#9c179e"
             ],
             [
              0.4444444444444444,
              "#bd3786"
             ],
             [
              0.5555555555555556,
              "#d8576b"
             ],
             [
              0.6666666666666666,
              "#ed7953"
             ],
             [
              0.7777777777777778,
              "#fb9f3a"
             ],
             [
              0.8888888888888888,
              "#fdca26"
             ],
             [
              1,
              "#f0f921"
             ]
            ],
            "type": "contour"
           }
          ],
          "contourcarpet": [
           {
            "colorbar": {
             "outlinewidth": 0,
             "ticks": ""
            },
            "type": "contourcarpet"
           }
          ],
          "heatmap": [
           {
            "colorbar": {
             "outlinewidth": 0,
             "ticks": ""
            },
            "colorscale": [
             [
              0,
              "#0d0887"
             ],
             [
              0.1111111111111111,
              "#46039f"
             ],
             [
              0.2222222222222222,
              "#7201a8"
             ],
             [
              0.3333333333333333,
              "#9c179e"
             ],
             [
              0.4444444444444444,
              "#bd3786"
             ],
             [
              0.5555555555555556,
              "#d8576b"
             ],
             [
              0.6666666666666666,
              "#ed7953"
             ],
             [
              0.7777777777777778,
              "#fb9f3a"
             ],
             [
              0.8888888888888888,
              "#fdca26"
             ],
             [
              1,
              "#f0f921"
             ]
            ],
            "type": "heatmap"
           }
          ],
          "heatmapgl": [
           {
            "colorbar": {
             "outlinewidth": 0,
             "ticks": ""
            },
            "colorscale": [
             [
              0,
              "#0d0887"
             ],
             [
              0.1111111111111111,
              "#46039f"
             ],
             [
              0.2222222222222222,
              "#7201a8"
             ],
             [
              0.3333333333333333,
              "#9c179e"
             ],
             [
              0.4444444444444444,
              "#bd3786"
             ],
             [
              0.5555555555555556,
              "#d8576b"
             ],
             [
              0.6666666666666666,
              "#ed7953"
             ],
             [
              0.7777777777777778,
              "#fb9f3a"
             ],
             [
              0.8888888888888888,
              "#fdca26"
             ],
             [
              1,
              "#f0f921"
             ]
            ],
            "type": "heatmapgl"
           }
          ],
          "histogram": [
           {
            "marker": {
             "colorbar": {
              "outlinewidth": 0,
              "ticks": ""
             }
            },
            "type": "histogram"
           }
          ],
          "histogram2d": [
           {
            "colorbar": {
             "outlinewidth": 0,
             "ticks": ""
            },
            "colorscale": [
             [
              0,
              "#0d0887"
             ],
             [
              0.1111111111111111,
              "#46039f"
             ],
             [
              0.2222222222222222,
              "#7201a8"
             ],
             [
              0.3333333333333333,
              "#9c179e"
             ],
             [
              0.4444444444444444,
              "#bd3786"
             ],
             [
              0.5555555555555556,
              "#d8576b"
             ],
             [
              0.6666666666666666,
              "#ed7953"
             ],
             [
              0.7777777777777778,
              "#fb9f3a"
             ],
             [
              0.8888888888888888,
              "#fdca26"
             ],
             [
              1,
              "#f0f921"
             ]
            ],
            "type": "histogram2d"
           }
          ],
          "histogram2dcontour": [
           {
            "colorbar": {
             "outlinewidth": 0,
             "ticks": ""
            },
            "colorscale": [
             [
              0,
              "#0d0887"
             ],
             [
              0.1111111111111111,
              "#46039f"
             ],
             [
              0.2222222222222222,
              "#7201a8"
             ],
             [
              0.3333333333333333,
              "#9c179e"
             ],
             [
              0.4444444444444444,
              "#bd3786"
             ],
             [
              0.5555555555555556,
              "#d8576b"
             ],
             [
              0.6666666666666666,
              "#ed7953"
             ],
             [
              0.7777777777777778,
              "#fb9f3a"
             ],
             [
              0.8888888888888888,
              "#fdca26"
             ],
             [
              1,
              "#f0f921"
             ]
            ],
            "type": "histogram2dcontour"
           }
          ],
          "mesh3d": [
           {
            "colorbar": {
             "outlinewidth": 0,
             "ticks": ""
            },
            "type": "mesh3d"
           }
          ],
          "parcoords": [
           {
            "line": {
             "colorbar": {
              "outlinewidth": 0,
              "ticks": ""
             }
            },
            "type": "parcoords"
           }
          ],
          "pie": [
           {
            "automargin": true,
            "type": "pie"
           }
          ],
          "scatter": [
           {
            "marker": {
             "colorbar": {
              "outlinewidth": 0,
              "ticks": ""
             }
            },
            "type": "scatter"
           }
          ],
          "scatter3d": [
           {
            "line": {
             "colorbar": {
              "outlinewidth": 0,
              "ticks": ""
             }
            },
            "marker": {
             "colorbar": {
              "outlinewidth": 0,
              "ticks": ""
             }
            },
            "type": "scatter3d"
           }
          ],
          "scattercarpet": [
           {
            "marker": {
             "colorbar": {
              "outlinewidth": 0,
              "ticks": ""
             }
            },
            "type": "scattercarpet"
           }
          ],
          "scattergeo": [
           {
            "marker": {
             "colorbar": {
              "outlinewidth": 0,
              "ticks": ""
             }
            },
            "type": "scattergeo"
           }
          ],
          "scattergl": [
           {
            "marker": {
             "colorbar": {
              "outlinewidth": 0,
              "ticks": ""
             }
            },
            "type": "scattergl"
           }
          ],
          "scattermapbox": [
           {
            "marker": {
             "colorbar": {
              "outlinewidth": 0,
              "ticks": ""
             }
            },
            "type": "scattermapbox"
           }
          ],
          "scatterpolar": [
           {
            "marker": {
             "colorbar": {
              "outlinewidth": 0,
              "ticks": ""
             }
            },
            "type": "scatterpolar"
           }
          ],
          "scatterpolargl": [
           {
            "marker": {
             "colorbar": {
              "outlinewidth": 0,
              "ticks": ""
             }
            },
            "type": "scatterpolargl"
           }
          ],
          "scatterternary": [
           {
            "marker": {
             "colorbar": {
              "outlinewidth": 0,
              "ticks": ""
             }
            },
            "type": "scatterternary"
           }
          ],
          "surface": [
           {
            "colorbar": {
             "outlinewidth": 0,
             "ticks": ""
            },
            "colorscale": [
             [
              0,
              "#0d0887"
             ],
             [
              0.1111111111111111,
              "#46039f"
             ],
             [
              0.2222222222222222,
              "#7201a8"
             ],
             [
              0.3333333333333333,
              "#9c179e"
             ],
             [
              0.4444444444444444,
              "#bd3786"
             ],
             [
              0.5555555555555556,
              "#d8576b"
             ],
             [
              0.6666666666666666,
              "#ed7953"
             ],
             [
              0.7777777777777778,
              "#fb9f3a"
             ],
             [
              0.8888888888888888,
              "#fdca26"
             ],
             [
              1,
              "#f0f921"
             ]
            ],
            "type": "surface"
           }
          ],
          "table": [
           {
            "cells": {
             "fill": {
              "color": "#EBF0F8"
             },
             "line": {
              "color": "white"
             }
            },
            "header": {
             "fill": {
              "color": "#C8D4E3"
             },
             "line": {
              "color": "white"
             }
            },
            "type": "table"
           }
          ]
         },
         "layout": {
          "annotationdefaults": {
           "arrowcolor": "#2a3f5f",
           "arrowhead": 0,
           "arrowwidth": 1
          },
          "coloraxis": {
           "colorbar": {
            "outlinewidth": 0,
            "ticks": ""
           }
          },
          "colorscale": {
           "diverging": [
            [
             0,
             "#8e0152"
            ],
            [
             0.1,
             "#c51b7d"
            ],
            [
             0.2,
             "#de77ae"
            ],
            [
             0.3,
             "#f1b6da"
            ],
            [
             0.4,
             "#fde0ef"
            ],
            [
             0.5,
             "#f7f7f7"
            ],
            [
             0.6,
             "#e6f5d0"
            ],
            [
             0.7,
             "#b8e186"
            ],
            [
             0.8,
             "#7fbc41"
            ],
            [
             0.9,
             "#4d9221"
            ],
            [
             1,
             "#276419"
            ]
           ],
           "sequential": [
            [
             0,
             "#0d0887"
            ],
            [
             0.1111111111111111,
             "#46039f"
            ],
            [
             0.2222222222222222,
             "#7201a8"
            ],
            [
             0.3333333333333333,
             "#9c179e"
            ],
            [
             0.4444444444444444,
             "#bd3786"
            ],
            [
             0.5555555555555556,
             "#d8576b"
            ],
            [
             0.6666666666666666,
             "#ed7953"
            ],
            [
             0.7777777777777778,
             "#fb9f3a"
            ],
            [
             0.8888888888888888,
             "#fdca26"
            ],
            [
             1,
             "#f0f921"
            ]
           ],
           "sequentialminus": [
            [
             0,
             "#0d0887"
            ],
            [
             0.1111111111111111,
             "#46039f"
            ],
            [
             0.2222222222222222,
             "#7201a8"
            ],
            [
             0.3333333333333333,
             "#9c179e"
            ],
            [
             0.4444444444444444,
             "#bd3786"
            ],
            [
             0.5555555555555556,
             "#d8576b"
            ],
            [
             0.6666666666666666,
             "#ed7953"
            ],
            [
             0.7777777777777778,
             "#fb9f3a"
            ],
            [
             0.8888888888888888,
             "#fdca26"
            ],
            [
             1,
             "#f0f921"
            ]
           ]
          },
          "colorway": [
           "#636efa",
           "#EF553B",
           "#00cc96",
           "#ab63fa",
           "#FFA15A",
           "#19d3f3",
           "#FF6692",
           "#B6E880",
           "#FF97FF",
           "#FECB52"
          ],
          "font": {
           "color": "#2a3f5f"
          },
          "geo": {
           "bgcolor": "white",
           "lakecolor": "white",
           "landcolor": "white",
           "showlakes": true,
           "showland": true,
           "subunitcolor": "#C8D4E3"
          },
          "hoverlabel": {
           "align": "left"
          },
          "hovermode": "closest",
          "mapbox": {
           "style": "light"
          },
          "paper_bgcolor": "white",
          "plot_bgcolor": "white",
          "polar": {
           "angularaxis": {
            "gridcolor": "#EBF0F8",
            "linecolor": "#EBF0F8",
            "ticks": ""
           },
           "bgcolor": "white",
           "radialaxis": {
            "gridcolor": "#EBF0F8",
            "linecolor": "#EBF0F8",
            "ticks": ""
           }
          },
          "scene": {
           "xaxis": {
            "backgroundcolor": "white",
            "gridcolor": "#DFE8F3",
            "gridwidth": 2,
            "linecolor": "#EBF0F8",
            "showbackground": true,
            "ticks": "",
            "zerolinecolor": "#EBF0F8"
           },
           "yaxis": {
            "backgroundcolor": "white",
            "gridcolor": "#DFE8F3",
            "gridwidth": 2,
            "linecolor": "#EBF0F8",
            "showbackground": true,
            "ticks": "",
            "zerolinecolor": "#EBF0F8"
           },
           "zaxis": {
            "backgroundcolor": "white",
            "gridcolor": "#DFE8F3",
            "gridwidth": 2,
            "linecolor": "#EBF0F8",
            "showbackground": true,
            "ticks": "",
            "zerolinecolor": "#EBF0F8"
           }
          },
          "shapedefaults": {
           "line": {
            "color": "#2a3f5f"
           }
          },
          "ternary": {
           "aaxis": {
            "gridcolor": "#DFE8F3",
            "linecolor": "#A2B1C6",
            "ticks": ""
           },
           "baxis": {
            "gridcolor": "#DFE8F3",
            "linecolor": "#A2B1C6",
            "ticks": ""
           },
           "bgcolor": "white",
           "caxis": {
            "gridcolor": "#DFE8F3",
            "linecolor": "#A2B1C6",
            "ticks": ""
           }
          },
          "title": {
           "x": 0.05
          },
          "xaxis": {
           "automargin": true,
           "gridcolor": "#EBF0F8",
           "linecolor": "#EBF0F8",
           "ticks": "",
           "title": {
            "standoff": 15
           },
           "zerolinecolor": "#EBF0F8",
           "zerolinewidth": 2
          },
          "yaxis": {
           "automargin": true,
           "gridcolor": "#EBF0F8",
           "linecolor": "#EBF0F8",
           "ticks": "",
           "title": {
            "standoff": 15
           },
           "zerolinecolor": "#EBF0F8",
           "zerolinewidth": 2
          }
         }
        },
        "title": {
         "text": "Vehicle Motion in Global Reference Frame"
        },
        "width": 1200,
        "xaxis": {
         "linecolor": "black",
         "linewidth": 1,
         "showgrid": false,
         "showline": true,
         "tickcolor": "black",
         "ticklen": 10,
         "ticks": "outside",
         "tickwidth": 1,
         "title": {
          "text": "x-axis - Forward (ft)"
         },
         "zeroline": false
        },
        "yaxis": {
         "autorange": "reversed",
         "linecolor": "black",
         "linewidth": 1,
         "scaleanchor": "x",
         "scaleratio": 1.7142857142857142,
         "showgrid": false,
         "showline": true,
         "tickcolor": "black",
         "ticklen": 10,
         "ticks": "outside",
         "tickwidth": 1,
         "title": {
          "text": "y-axis - Rightward (ft)"
         },
         "zeroline": false
        }
       }
      },
      "text/html": [
       "<div>\n",
       "        \n",
       "        \n",
       "            <div id=\"e59d9a37-d2e0-4567-8a83-22351578064b\" class=\"plotly-graph-div\" style=\"height:700px; width:1200px;\"></div>\n",
       "            <script type=\"text/javascript\">\n",
       "                require([\"plotly\"], function(Plotly) {\n",
       "                    window.PLOTLYENV=window.PLOTLYENV || {};\n",
       "                    \n",
       "                if (document.getElementById(\"e59d9a37-d2e0-4567-8a83-22351578064b\")) {\n",
       "                    Plotly.newPlot(\n",
       "                        'e59d9a37-d2e0-4567-8a83-22351578064b',\n",
       "                        [{\"line\": {\"color\": \"rgb(0, 0, 0)\", \"width\": 2}, \"mode\": \"lines\", \"name\": \"body\", \"type\": \"scatter\", \"x\": [48.52027797481324, 50.34224874061948, 35.53853260131723, 33.71656183551099, 48.52027797481324], \"y\": [-7.084982192144215, -1.5434841720845491, 3.323780587997836, -2.21771743206183, -7.084982192144215]}, {\"line\": {\"color\": \"rgb(0, 0, 255)\", \"width\": 1}, \"mode\": \"lines\", \"name\": \"LF\", \"type\": \"scatter\", \"x\": [46.220783354403046, 46.68189180221789, 45.0245283378637, 44.563419890048856, 46.220783354403046], \"y\": [-6.738960870787395, -6.2012666170847, -4.779967636761301, -5.317661890463995, -6.738960870787395]}, {\"line\": {\"color\": \"rgb(0, 255, 0)\", \"width\": 1}, \"mode\": \"lines\", \"name\": \"RF\", \"type\": \"scatter\", \"x\": [47.82151481293281, 48.282623260747656, 46.625259796393465, 46.16415134857862, 47.82151481293281], \"y\": [-1.8703590388778313, -1.3326647851751368, 0.08863419514826232, -0.44906005855443176, -1.8703590388778313]}, {\"line\": {\"color\": \"rgb(153, 0, 204)\", \"width\": 1}, \"mode\": \"lines\", \"name\": \"RR\", \"type\": \"scatter\", \"x\": [39.75840813583144, 39.97964744310791, 37.905543898457, 37.68430459118053, 39.75840813583144], \"y\": [1.190704971823018, 1.8636011599731204, 2.5455387894605987, 1.8726426013104964, 1.190704971823018]}, {\"line\": {\"color\": \"rgb(255, 102, 0)\", \"width\": 1}, \"mode\": \"lines\", \"name\": \"LR\", \"type\": \"scatter\", \"x\": [38.157676677301666, 38.378915984578136, 36.304812439927225, 36.083573132650756, 38.157676677301666], \"y\": [-3.6778968600865456, -3.0050006719364433, -2.3230630424489647, -2.995959230599067, -3.6778968600865456]}, {\"customdata\": [2.0, 2.0], \"hovertemplate\": \"<b>x</b>:%{x:.1f}<br><b>Y</b>: %{y:.1f}<br><b>time</b>: %{customdata:.3f}\", \"marker\": {\"color\": \"rgb(0, 0, 0)\", \"size\": 10}, \"mode\": \"markers\", \"name\": \"CG\", \"type\": \"scatter\", \"x\": [43.40686336733721, 43.40686336733721], \"y\": [-2.3334906781450266, -2.3334906781450266]}, {\"marker\": {\"color\": \"rgb(0, 0, 255)\", \"size\": 5, \"symbol\": [\"circle\", \"circle\", \"circle\", \"circle\", \"circle\", \"circle\", \"circle\", \"circle\", \"circle\", \"circle\", \"circle\", \"circle\", \"circle\", \"circle\", \"circle\", \"circle\", \"circle\", \"circle\", \"circle\", \"circle\"]}, \"mode\": \"markers\", \"name\": \"LF\", \"type\": \"scatter\", \"x\": [3.1750000000000003, 5.375005, 7.575010000000001, 9.775015, 11.97502, 14.175025, 16.37503, 18.575034999999996, 20.77504, 22.975044999999998, 25.175049999999995, 27.372952135518393, 29.562163568645392, 31.73371285530283, 33.8790302841514, 35.98986371938498, 38.057139724169495, 40.06976888386347, 42.013743561820434, 43.87165314991654], \"y\": [-2.5625, -2.5625, -2.5625, -2.5625, -2.5625, -2.5625, -2.5625, -2.5625, -2.5625, -2.5625, -2.5625, -2.569616277373153, -2.60463387527875, -2.6918302905793277, -2.8483407185039074, -3.08516403989638, -3.4108405717343597, -3.8336230054101206, -4.361687092273634, -5.002127261563014]}, {\"marker\": {\"color\": \"rgb(0, 255, 0)\", \"size\": 5, \"symbol\": [\"circle\", \"circle\", \"circle\", \"circle\", \"circle\", \"circle\", \"circle\", \"circle\", \"circle\", \"circle\", \"circle\", \"circle\", \"circle\", \"circle\", \"circle\", \"circle\", \"circle\", \"circle\", \"circle\", \"circle\"]}, \"mode\": \"markers\", \"name\": \"RF\", \"type\": \"scatter\", \"x\": [3.1750000000000003, 5.375005, 7.575010000000001, 9.775015, 11.97502, 14.175025, 16.37503, 18.575034999999996, 20.77504, 22.975044999999998, 25.175049999999995, 27.376812676190564, 29.585068969640293, 31.80419918177527, 34.03503992234204, 36.27464005003244, 38.51635992393138, 40.74959917872483, 42.95930997171925, 45.125566161743805], \"y\": [2.5625, 2.5625, 2.5625, 2.5625, 2.5625, 2.5625, 2.5625, 2.5625, 2.5625, 2.5625, 2.5625, 2.5553822685998817, 2.520314938378345, 2.432684972133861, 2.2742841938619813, 2.0319178865049325, 1.6935439952953084, 1.246087199925289, 0.6753288064972902, -0.03288917521916446]}, {\"marker\": {\"color\": \"rgb(153, 0, 204)\", \"size\": 5, \"symbol\": [\"circle\", \"circle\", \"circle\", \"circle\", \"circle\", \"circle\", \"circle\", \"circle\", \"circle\", \"circle\", \"circle\", \"circle\", \"circle\", \"circle\", \"circle\", \"circle\", \"circle\", \"circle\", \"circle\", \"circle\"]}, \"mode\": \"markers\", \"name\": \"RR\", \"type\": \"scatter\", \"x\": [-5.658333333333334, -3.458328333333334, -1.2583233333333341, 0.941681666666665, 3.141686666666666, 5.341691666666665, 7.541696666666664, 9.741701666666664, 11.941706666666665, 14.141711666666662, 16.34171666666666, 18.543481848985007, 20.75182385992237, 22.97170133059481, 25.205800235987816, 27.45495412810497, 29.718558881571305, 31.994326304488187, 34.27762403237424, 36.560700516988554], \"y\": [2.5625, 2.5625, 2.5625, 2.5625, 2.5625, 2.5625, 2.5625, 2.5625, 2.5625, 2.5625, 2.5625, 2.562036208620214, 2.5597941661093966, 2.554173599874975, 2.543178854808439, 2.5227518872956707, 2.485045477811731, 2.4178272203367484, 2.3050855455098898, 2.128326747605064]}, {\"marker\": {\"color\": \"rgb(255, 102, 0)\", \"size\": 5, \"symbol\": [\"circle\", \"circle\", \"circle\", \"circle\", \"circle\", \"circle\", \"circle\", \"circle\", \"circle\", \"circle\", \"circle\", \"circle\", \"circle\", \"circle\", \"circle\", \"circle\", \"circle\", \"circle\", \"circle\", \"circle\"]}, \"mode\": \"markers\", \"name\": \"LR\", \"type\": \"scatter\", \"x\": [-5.658333333333334, -3.458328333333334, -1.2583233333333341, 0.941681666666665, 3.141686666666666, 5.341691666666665, 7.541696666666664, 9.741701666666664, 11.941706666666665, 14.141711666666662, 16.34171666666666, 18.539621308312835, 20.72891845892747, 22.90121500412237, 25.049790597797184, 27.170177797457516, 29.259338681809417, 31.31449600962682, 33.332057622475425, 35.30678750516129], \"y\": [-2.5625, -2.5625, -2.5625, -2.5625, -2.5625, -2.5625, -2.5625, -2.5625, -2.5625, -2.5625, -2.5625, -2.5629623373528205, -2.5651546475476987, -2.5703416628382136, -2.57944605755745, -2.594330039105642, -2.619339089217937, -2.661882984998661, -2.731930353261034, -2.840911338738785]}],\n",
       "                        {\"annotations\": [{\"arrowcolor\": \"rgb(255, 0, 0)\", \"arrowhead\": 1, \"arrowsize\": 2.5, \"arrowwidth\": 1.7, \"ax\": 43.40686336733721, \"axref\": \"x\", \"ay\": -2.3334906781450266, \"ayref\": \"y\", \"showarrow\": true, \"text\": \"\", \"x\": 62.62862565442633, \"xref\": \"x\", \"y\": -10.288600931462438, \"yref\": \"y\"}, {\"arrowcolor\": \"rgb(0, 0, 0)\", \"arrowhead\": 1, \"arrowsize\": 2, \"arrowwidth\": 1.5, \"ax\": 43.40686336733721, \"axref\": \"x\", \"ay\": -2.3334906781450266, \"ayref\": \"y\", \"showarrow\": true, \"text\": \"\", \"x\": 50.85621999144599, \"xref\": \"x\", \"y\": -4.782739950464558, \"yref\": \"y\"}, {\"arrowcolor\": \"rgb(0, 0, 255)\", \"arrowhead\": 1, \"arrowsize\": 2, \"arrowwidth\": 1.5, \"ax\": 43.40686336733721, \"axref\": \"x\", \"ay\": -2.3334906781450266, \"ayref\": \"y\", \"showarrow\": true, \"text\": \"\", \"x\": 44.786355518590504, \"xref\": \"x\", \"y\": 1.8622149656144344, \"yref\": \"y\"}], \"autosize\": false, \"font\": {\"color\": \"black\", \"family\": \"Arial\", \"size\": 16}, \"height\": 700, \"showlegend\": false, \"template\": {\"data\": {\"bar\": [{\"error_x\": {\"color\": \"#2a3f5f\"}, \"error_y\": {\"color\": \"#2a3f5f\"}, \"marker\": {\"line\": {\"color\": \"white\", \"width\": 0.5}}, \"type\": \"bar\"}], \"barpolar\": [{\"marker\": {\"line\": {\"color\": \"white\", \"width\": 0.5}}, \"type\": \"barpolar\"}], \"carpet\": [{\"aaxis\": {\"endlinecolor\": \"#2a3f5f\", \"gridcolor\": \"#C8D4E3\", \"linecolor\": \"#C8D4E3\", \"minorgridcolor\": \"#C8D4E3\", \"startlinecolor\": \"#2a3f5f\"}, \"baxis\": {\"endlinecolor\": \"#2a3f5f\", \"gridcolor\": \"#C8D4E3\", \"linecolor\": \"#C8D4E3\", \"minorgridcolor\": \"#C8D4E3\", \"startlinecolor\": \"#2a3f5f\"}, \"type\": \"carpet\"}], \"choropleth\": [{\"colorbar\": {\"outlinewidth\": 0, \"ticks\": \"\"}, \"type\": \"choropleth\"}], \"contour\": [{\"colorbar\": {\"outlinewidth\": 0, \"ticks\": \"\"}, \"colorscale\": [[0.0, \"#0d0887\"], [0.1111111111111111, \"#46039f\"], [0.2222222222222222, \"#7201a8\"], [0.3333333333333333, \"#9c179e\"], [0.4444444444444444, \"#bd3786\"], [0.5555555555555556, \"#d8576b\"], [0.6666666666666666, \"#ed7953\"], [0.7777777777777778, \"#fb9f3a\"], [0.8888888888888888, \"#fdca26\"], [1.0, \"#f0f921\"]], \"type\": \"contour\"}], \"contourcarpet\": [{\"colorbar\": {\"outlinewidth\": 0, \"ticks\": \"\"}, \"type\": \"contourcarpet\"}], \"heatmap\": [{\"colorbar\": {\"outlinewidth\": 0, \"ticks\": \"\"}, \"colorscale\": [[0.0, \"#0d0887\"], [0.1111111111111111, \"#46039f\"], [0.2222222222222222, \"#7201a8\"], [0.3333333333333333, \"#9c179e\"], [0.4444444444444444, \"#bd3786\"], [0.5555555555555556, \"#d8576b\"], [0.6666666666666666, \"#ed7953\"], [0.7777777777777778, \"#fb9f3a\"], [0.8888888888888888, \"#fdca26\"], [1.0, \"#f0f921\"]], \"type\": \"heatmap\"}], \"heatmapgl\": [{\"colorbar\": {\"outlinewidth\": 0, \"ticks\": \"\"}, \"colorscale\": [[0.0, \"#0d0887\"], [0.1111111111111111, \"#46039f\"], [0.2222222222222222, \"#7201a8\"], [0.3333333333333333, \"#9c179e\"], [0.4444444444444444, \"#bd3786\"], [0.5555555555555556, \"#d8576b\"], [0.6666666666666666, \"#ed7953\"], [0.7777777777777778, \"#fb9f3a\"], [0.8888888888888888, \"#fdca26\"], [1.0, \"#f0f921\"]], \"type\": \"heatmapgl\"}], \"histogram\": [{\"marker\": {\"colorbar\": {\"outlinewidth\": 0, \"ticks\": \"\"}}, \"type\": \"histogram\"}], \"histogram2d\": [{\"colorbar\": {\"outlinewidth\": 0, \"ticks\": \"\"}, \"colorscale\": [[0.0, \"#0d0887\"], [0.1111111111111111, \"#46039f\"], [0.2222222222222222, \"#7201a8\"], [0.3333333333333333, \"#9c179e\"], [0.4444444444444444, \"#bd3786\"], [0.5555555555555556, \"#d8576b\"], [0.6666666666666666, \"#ed7953\"], [0.7777777777777778, \"#fb9f3a\"], [0.8888888888888888, \"#fdca26\"], [1.0, \"#f0f921\"]], \"type\": \"histogram2d\"}], \"histogram2dcontour\": [{\"colorbar\": {\"outlinewidth\": 0, \"ticks\": \"\"}, \"colorscale\": [[0.0, \"#0d0887\"], [0.1111111111111111, \"#46039f\"], [0.2222222222222222, \"#7201a8\"], [0.3333333333333333, \"#9c179e\"], [0.4444444444444444, \"#bd3786\"], [0.5555555555555556, \"#d8576b\"], [0.6666666666666666, \"#ed7953\"], [0.7777777777777778, \"#fb9f3a\"], [0.8888888888888888, \"#fdca26\"], [1.0, \"#f0f921\"]], \"type\": \"histogram2dcontour\"}], \"mesh3d\": [{\"colorbar\": {\"outlinewidth\": 0, \"ticks\": \"\"}, \"type\": \"mesh3d\"}], \"parcoords\": [{\"line\": {\"colorbar\": {\"outlinewidth\": 0, \"ticks\": \"\"}}, \"type\": \"parcoords\"}], \"pie\": [{\"automargin\": true, \"type\": \"pie\"}], \"scatter\": [{\"marker\": {\"colorbar\": {\"outlinewidth\": 0, \"ticks\": \"\"}}, \"type\": \"scatter\"}], \"scatter3d\": [{\"line\": {\"colorbar\": {\"outlinewidth\": 0, \"ticks\": \"\"}}, \"marker\": {\"colorbar\": {\"outlinewidth\": 0, \"ticks\": \"\"}}, \"type\": \"scatter3d\"}], \"scattercarpet\": [{\"marker\": {\"colorbar\": {\"outlinewidth\": 0, \"ticks\": \"\"}}, \"type\": \"scattercarpet\"}], \"scattergeo\": [{\"marker\": {\"colorbar\": {\"outlinewidth\": 0, \"ticks\": \"\"}}, \"type\": \"scattergeo\"}], \"scattergl\": [{\"marker\": {\"colorbar\": {\"outlinewidth\": 0, \"ticks\": \"\"}}, \"type\": \"scattergl\"}], \"scattermapbox\": [{\"marker\": {\"colorbar\": {\"outlinewidth\": 0, \"ticks\": \"\"}}, \"type\": \"scattermapbox\"}], \"scatterpolar\": [{\"marker\": {\"colorbar\": {\"outlinewidth\": 0, \"ticks\": \"\"}}, \"type\": \"scatterpolar\"}], \"scatterpolargl\": [{\"marker\": {\"colorbar\": {\"outlinewidth\": 0, \"ticks\": \"\"}}, \"type\": \"scatterpolargl\"}], \"scatterternary\": [{\"marker\": {\"colorbar\": {\"outlinewidth\": 0, \"ticks\": \"\"}}, \"type\": \"scatterternary\"}], \"surface\": [{\"colorbar\": {\"outlinewidth\": 0, \"ticks\": \"\"}, \"colorscale\": [[0.0, \"#0d0887\"], [0.1111111111111111, \"#46039f\"], [0.2222222222222222, \"#7201a8\"], [0.3333333333333333, \"#9c179e\"], [0.4444444444444444, \"#bd3786\"], [0.5555555555555556, \"#d8576b\"], [0.6666666666666666, \"#ed7953\"], [0.7777777777777778, \"#fb9f3a\"], [0.8888888888888888, \"#fdca26\"], [1.0, \"#f0f921\"]], \"type\": \"surface\"}], \"table\": [{\"cells\": {\"fill\": {\"color\": \"#EBF0F8\"}, \"line\": {\"color\": \"white\"}}, \"header\": {\"fill\": {\"color\": \"#C8D4E3\"}, \"line\": {\"color\": \"white\"}}, \"type\": \"table\"}]}, \"layout\": {\"annotationdefaults\": {\"arrowcolor\": \"#2a3f5f\", \"arrowhead\": 0, \"arrowwidth\": 1}, \"coloraxis\": {\"colorbar\": {\"outlinewidth\": 0, \"ticks\": \"\"}}, \"colorscale\": {\"diverging\": [[0, \"#8e0152\"], [0.1, \"#c51b7d\"], [0.2, \"#de77ae\"], [0.3, \"#f1b6da\"], [0.4, \"#fde0ef\"], [0.5, \"#f7f7f7\"], [0.6, \"#e6f5d0\"], [0.7, \"#b8e186\"], [0.8, \"#7fbc41\"], [0.9, \"#4d9221\"], [1, \"#276419\"]], \"sequential\": [[0.0, \"#0d0887\"], [0.1111111111111111, \"#46039f\"], [0.2222222222222222, \"#7201a8\"], [0.3333333333333333, \"#9c179e\"], [0.4444444444444444, \"#bd3786\"], [0.5555555555555556, \"#d8576b\"], [0.6666666666666666, \"#ed7953\"], [0.7777777777777778, \"#fb9f3a\"], [0.8888888888888888, \"#fdca26\"], [1.0, \"#f0f921\"]], \"sequentialminus\": [[0.0, \"#0d0887\"], [0.1111111111111111, \"#46039f\"], [0.2222222222222222, \"#7201a8\"], [0.3333333333333333, \"#9c179e\"], [0.4444444444444444, \"#bd3786\"], [0.5555555555555556, \"#d8576b\"], [0.6666666666666666, \"#ed7953\"], [0.7777777777777778, \"#fb9f3a\"], [0.8888888888888888, \"#fdca26\"], [1.0, \"#f0f921\"]]}, \"colorway\": [\"#636efa\", \"#EF553B\", \"#00cc96\", \"#ab63fa\", \"#FFA15A\", \"#19d3f3\", \"#FF6692\", \"#B6E880\", \"#FF97FF\", \"#FECB52\"], \"font\": {\"color\": \"#2a3f5f\"}, \"geo\": {\"bgcolor\": \"white\", \"lakecolor\": \"white\", \"landcolor\": \"white\", \"showlakes\": true, \"showland\": true, \"subunitcolor\": \"#C8D4E3\"}, \"hoverlabel\": {\"align\": \"left\"}, \"hovermode\": \"closest\", \"mapbox\": {\"style\": \"light\"}, \"paper_bgcolor\": \"white\", \"plot_bgcolor\": \"white\", \"polar\": {\"angularaxis\": {\"gridcolor\": \"#EBF0F8\", \"linecolor\": \"#EBF0F8\", \"ticks\": \"\"}, \"bgcolor\": \"white\", \"radialaxis\": {\"gridcolor\": \"#EBF0F8\", \"linecolor\": \"#EBF0F8\", \"ticks\": \"\"}}, \"scene\": {\"xaxis\": {\"backgroundcolor\": \"white\", \"gridcolor\": \"#DFE8F3\", \"gridwidth\": 2, \"linecolor\": \"#EBF0F8\", \"showbackground\": true, \"ticks\": \"\", \"zerolinecolor\": \"#EBF0F8\"}, \"yaxis\": {\"backgroundcolor\": \"white\", \"gridcolor\": \"#DFE8F3\", \"gridwidth\": 2, \"linecolor\": \"#EBF0F8\", \"showbackground\": true, \"ticks\": \"\", \"zerolinecolor\": \"#EBF0F8\"}, \"zaxis\": {\"backgroundcolor\": \"white\", \"gridcolor\": \"#DFE8F3\", \"gridwidth\": 2, \"linecolor\": \"#EBF0F8\", \"showbackground\": true, \"ticks\": \"\", \"zerolinecolor\": \"#EBF0F8\"}}, \"shapedefaults\": {\"line\": {\"color\": \"#2a3f5f\"}}, \"ternary\": {\"aaxis\": {\"gridcolor\": \"#DFE8F3\", \"linecolor\": \"#A2B1C6\", \"ticks\": \"\"}, \"baxis\": {\"gridcolor\": \"#DFE8F3\", \"linecolor\": \"#A2B1C6\", \"ticks\": \"\"}, \"bgcolor\": \"white\", \"caxis\": {\"gridcolor\": \"#DFE8F3\", \"linecolor\": \"#A2B1C6\", \"ticks\": \"\"}}, \"title\": {\"x\": 0.05}, \"xaxis\": {\"automargin\": true, \"gridcolor\": \"#EBF0F8\", \"linecolor\": \"#EBF0F8\", \"ticks\": \"\", \"title\": {\"standoff\": 15}, \"zerolinecolor\": \"#EBF0F8\", \"zerolinewidth\": 2}, \"yaxis\": {\"automargin\": true, \"gridcolor\": \"#EBF0F8\", \"linecolor\": \"#EBF0F8\", \"ticks\": \"\", \"title\": {\"standoff\": 15}, \"zerolinecolor\": \"#EBF0F8\", \"zerolinewidth\": 2}}}, \"title\": {\"text\": \"Vehicle Motion in Global Reference Frame\"}, \"width\": 1200, \"xaxis\": {\"linecolor\": \"black\", \"linewidth\": 1, \"showgrid\": false, \"showline\": true, \"tickcolor\": \"black\", \"ticklen\": 10, \"ticks\": \"outside\", \"tickwidth\": 1, \"title\": {\"text\": \"x-axis - Forward (ft)\"}, \"zeroline\": false}, \"yaxis\": {\"autorange\": \"reversed\", \"linecolor\": \"black\", \"linewidth\": 1, \"scaleanchor\": \"x\", \"scaleratio\": 1.7142857142857142, \"showgrid\": false, \"showline\": true, \"tickcolor\": \"black\", \"ticklen\": 10, \"ticks\": \"outside\", \"tickwidth\": 1, \"title\": {\"text\": \"y-axis - Rightward (ft)\"}, \"zeroline\": false}},\n",
       "                        {\"responsive\": true}\n",
       "                    ).then(function(){\n",
       "                            \n",
       "var gd = document.getElementById('e59d9a37-d2e0-4567-8a83-22351578064b');\n",
       "var x = new MutationObserver(function (mutations, observer) {{\n",
       "        var display = window.getComputedStyle(gd).display;\n",
       "        if (!display || display === 'none') {{\n",
       "            console.log([gd, 'removed!']);\n",
       "            Plotly.purge(gd);\n",
       "            observer.disconnect();\n",
       "        }}\n",
       "}});\n",
       "\n",
       "// Listen for the removal of the full notebook cells\n",
       "var notebookContainer = gd.closest('#notebook-container');\n",
       "if (notebookContainer) {{\n",
       "    x.observe(notebookContainer, {childList: true});\n",
       "}}\n",
       "\n",
       "// Listen for the clearing of the current output cell\n",
       "var outputEl = gd.closest('.output');\n",
       "if (outputEl) {{\n",
       "    x.observe(outputEl, {childList: true});\n",
       "}}\n",
       "\n",
       "                        })\n",
       "                };\n",
       "                });\n",
       "            </script>\n",
       "        </div>"
      ]
     },
     "metadata": {},
     "output_type": "display_data"
    }
   ],
   "source": [
    "run.global_motion(20)"
   ]
  },
  {
   "cell_type": "markdown",
   "metadata": {},
   "source": [
    "### Compare to PC Crash Model"
   ]
  },
  {
   "cell_type": "code",
   "execution_count": 148,
   "metadata": {},
   "outputs": [],
   "source": [
    "from pycrash.visualization.kinematics_compare import compare_kinematics"
   ]
  },
  {
   "cell_type": "code",
   "execution_count": 168,
   "metadata": {},
   "outputs": [],
   "source": [
    "# calculate vehicle slip angle for pycrash model - need to add\n",
    "phi_rad = []\n",
    "phi_deg = []\n",
    "for i in range(len(run.veh.model.t)):\n",
    "    phi_rad.append(math.atan2(run.veh.model.vy[i], run.veh.model.vx[i]) * -1) \n",
    "    phi_deg.append(math.atan2(run.veh.model.vy[i], run.veh.model.vx[i]) * (180 / math.pi)  * -1 )\n",
    "    \n",
    "run.veh.model['phi_rad'] = phi_rad\n",
    "run.veh.model['phi_deg'] = phi_deg"
   ]
  },
  {
   "cell_type": "code",
   "execution_count": 169,
   "metadata": {},
   "outputs": [
    {
     "data": {
      "application/vnd.plotly.v1+json": {
       "config": {
        "plotlyServerURL": "https://plot.ly"
       },
       "data": [
        {
         "line": {
          "color": "rgb(0, 255, 0)",
          "width": 2
         },
         "mode": "lines",
         "name": "pycrash - X",
         "type": "scatter",
         "x": [
          0,
          0.1,
          0.2,
          0.3,
          0.4,
          0.5,
          0.6,
          0.7,
          0.8,
          0.9,
          1,
          1.1,
          1.2,
          1.3,
          1.4,
          1.5,
          1.6,
          1.7,
          1.8,
          1.9,
          2,
          2.1,
          2.2,
          2.3,
          2.4,
          2.5,
          2.6,
          2.7,
          2.8,
          2.9,
          3,
          3.1,
          3.2,
          3.3,
          3.4,
          3.5,
          3.6,
          3.7,
          3.8,
          3.9,
          4,
          4.1,
          4.2,
          4.3,
          4.4,
          4.5,
          4.6,
          4.7,
          4.8,
          4.9,
          5,
          5.1,
          5.2,
          5.3,
          5.4,
          5.5,
          5.6,
          5.7,
          5.8,
          5.9,
          6,
          6.1,
          6.2,
          6.3,
          6.4,
          6.5,
          6.6,
          6.7,
          6.8,
          6.9,
          7,
          7.1,
          7.2,
          7.3,
          7.4,
          7.5,
          7.6,
          7.7,
          7.8,
          7.9,
          8,
          8.1,
          8.2,
          8.3,
          8.4,
          8.5,
          8.6,
          8.7,
          8.8,
          8.9,
          9,
          9.1,
          9.2,
          9.3,
          9.4,
          9.5,
          9.6,
          9.7,
          9.8,
          9.9,
          10,
          10.1,
          10.2,
          10.3,
          10.4,
          10.5,
          10.6,
          10.7,
          10.8,
          10.9
         ],
         "xaxis": "x",
         "y": [
          0,
          2.200005,
          4.40001,
          6.600014999999999,
          8.80002,
          11.000024999999999,
          13.200029999999998,
          15.400034999999997,
          17.60004,
          19.800044999999997,
          22.000049999999995,
          24.199883306641915,
          26.398647979706496,
          28.59425631919966,
          30.78350649900053,
          32.96215722786497,
          35.12452133618328,
          37.26274161140343,
          39.3660339904581,
          41.42010606087569,
          43.40686336733721,
          45.308843151043526,
          47.11479123959617,
          48.81609546085548,
          50.40125400980874,
          51.856129600535986,
          53.16652964291748,
          54.32060561332561,
          55.31018555323981,
          56.131100529072285,
          56.782878958330116,
          57.26814858516978,
          57.59195689233187,
          57.76111389176391,
          57.78360190246181,
          57.668072526056484,
          57.42344234411723,
          57.05859278477174,
          56.58217142109341,
          56.002482726846324,
          55.32744904915887,
          54.56461942384806,
          53.72120510120566,
          52.80412497266867,
          51.82004963321544,
          50.775438006317316,
          49.6765644058568,
          48.52953638749001,
          47.340304961327384,
          46.11466908636031,
          44.858276225176034,
          43.57662038994496,
          42.27503873089424,
          40.95870739050469,
          39.63263709702041,
          38.30166879600836,
          36.970469503319485,
          35.643528489795415,
          34.32515386299085,
          33.019469583467554,
          31.73041293585562,
          30.461732463582386,
          29.216986368473517,
          27.999541370966337,
          26.812572022683863,
          25.659060460158805,
          24.541796586290914,
          23.463378664483603,
          22.426214309201452,
          21.432521855822632,
          20.48433209205647,
          19.583490332799606,
          18.731658820073804,
          17.93031942958996,
          17.180776665492225,
          16.484160924933338,
          15.84143201430101,
          15.25338289914419,
          14.720643670125801,
          14.243685707647375,
          13.822826028144261,
          13.458231795431034,
          13.14992498088181,
          12.897787156654257,
          12.701564406606424,
          12.560872340008567,
          12.475201193615902,
          12.443921008139741,
          12.466286865632338,
          12.541444174782994,
          12.668433991607879,
          12.846198363502504,
          13.073585685112302,
          13.349356054962396,
          13.67218662227123,
          14.040676913853561,
          14.453354131495113,
          14.908678410653852,
          15.40504803181009,
          15.940804576248993,
          16.514238018514437,
          17.12359174822094,
          17.767067514351563,
          18.44283028560247,
          19.14901302075951,
          19.88372134350885,
          20.64503811649037,
          21.431027909801468,
          22.23974135954725,
          23.069219412412465
         ],
         "yaxis": "y"
        },
        {
         "line": {
          "color": "rgb(0, 255, 0)",
          "dash": "dash",
          "width": 2
         },
         "mode": "lines",
         "name": "validate - X",
         "type": "scatter",
         "x": [
          0,
          0.1,
          0.2,
          0.3,
          0.4,
          0.5,
          0.6,
          0.7,
          0.8,
          0.9,
          1,
          1.1,
          1.2,
          1.3,
          1.4,
          1.5,
          1.6,
          1.7,
          1.8,
          1.9,
          2,
          2.1,
          2.2,
          2.3,
          2.4,
          2.5,
          2.6,
          2.7,
          2.8,
          2.9,
          3,
          3.1,
          3.2,
          3.3,
          3.4,
          3.5,
          3.6,
          3.7,
          3.8,
          3.9,
          4,
          4.1,
          4.2,
          4.3,
          4.4,
          4.5,
          4.6,
          4.7,
          4.8,
          4.9,
          5,
          5.1,
          5.2,
          5.3,
          5.4,
          5.5,
          5.6,
          5.7,
          5.8,
          5.9,
          6,
          6.1,
          6.2,
          6.3,
          6.4,
          6.5,
          6.6,
          6.7,
          6.8,
          6.9,
          7,
          7.1,
          7.2,
          7.3,
          7.4,
          7.5,
          7.6,
          7.7,
          7.8,
          7.9,
          8,
          8.1,
          8.2,
          8.3,
          8.4,
          8.5,
          8.6,
          8.7,
          8.8,
          8.9,
          9,
          9.1,
          9.2,
          9.3,
          9.4,
          9.5,
          9.6,
          9.7,
          9.8,
          9.9,
          10,
          10.1,
          10.2,
          10.3,
          10.4,
          10.5,
          10.6,
          10.7,
          10.8,
          10.9
         ],
         "xaxis": "x",
         "y": [
          0,
          2.200005,
          4.40001,
          6.600014999999999,
          8.80002,
          11.000024999999999,
          13.200029999999998,
          15.400034999999997,
          17.60004,
          19.800044999999997,
          22.000049999999995,
          24.200054999999995,
          26.398593329999994,
          28.591264979999995,
          30.77220326999999,
          32.932608179999995,
          35.060013014999996,
          37.13828440499999,
          39.14688896999999,
          41.06235998999999,
          42.859030739999994,
          44.514167834999995,
          46.014571245,
          47.352907619999996,
          48.522576945,
          49.518445875,
          50.336847735,
          50.97558252,
          51.433916895,
          51.713317530000005,
          51.81671776500001,
          51.74778427500001,
          51.511650405000005,
          51.11491617000001,
          50.565648255000006,
          49.87264668,
          49.044711465,
          48.09064263,
          47.0214402,
          45.8481042,
          44.58090132,
          43.23229825500001,
          41.814028365000006,
          40.33709167500001,
          38.813221545000005,
          37.25415133500001,
          35.671614405000014,
          34.07661078,
          32.47940715000001,
          30.89100354,
          29.322399975000007,
          27.783129810000013,
          26.282726400000005,
          24.82998976500001,
          23.432986590000002,
          22.099783560000006,
          20.83771402500001,
          19.653378000000004,
          18.55190883000001,
          17.538439860000004,
          16.618837770000006,
          15.796769235000008,
          15.075167595000005,
          14.456966190000008,
          13.944365025000005,
          13.538830770000006,
          13.240363425000007,
          13.049696325000006,
          12.966829470000008,
          12.990296190000008,
          13.118629815000007,
          13.350363675000006,
          13.682564430000008,
          14.112298740000007,
          14.63663326500001,
          15.251167995000007,
          15.951502920000005,
          16.73323803000001,
          17.591239980000008,
          18.52037542500001,
          19.51624435500001,
          20.572980090000005,
          21.683982615,
          22.84338525000002,
          24.045321315000013,
          25.28392413000001,
          26.552593680000005,
          27.84472995,
          29.15446626000002,
          30.475935930000016,
          31.802538945000013,
          33.127675290000006,
          34.445478285,
          35.750814585000015,
          37.03781751000001,
          38.300620380000005,
          39.53408985,
          40.732359239999994,
          41.89029520500001,
          43.00423107,
          44.069766825,
          45.08250246,
          46.0387713,
          46.93417333500001,
          47.765775225000006,
          48.531376965,
          49.228045214999995,
          49.85284663499999,
          50.404314555,
          50.880982304999996
         ],
         "yaxis": "y"
        },
        {
         "line": {
          "color": "rgb(0, 0, 255)",
          "width": 2
         },
         "mode": "lines",
         "name": "pycrash - Y",
         "type": "scatter",
         "x": [
          0,
          0.1,
          0.2,
          0.3,
          0.4,
          0.5,
          0.6,
          0.7,
          0.8,
          0.9,
          1,
          1.1,
          1.2,
          1.3,
          1.4,
          1.5,
          1.6,
          1.7,
          1.8,
          1.9,
          2,
          2.1,
          2.2,
          2.3,
          2.4,
          2.5,
          2.6,
          2.7,
          2.8,
          2.9,
          3,
          3.1,
          3.2,
          3.3,
          3.4,
          3.5,
          3.6,
          3.7,
          3.8,
          3.9,
          4,
          4.1,
          4.2,
          4.3,
          4.4,
          4.5,
          4.6,
          4.7,
          4.8,
          4.9,
          5,
          5.1,
          5.2,
          5.3,
          5.4,
          5.5,
          5.6,
          5.7,
          5.8,
          5.9,
          6,
          6.1,
          6.2,
          6.3,
          6.4,
          6.5,
          6.6,
          6.7,
          6.8,
          6.9,
          7,
          7.1,
          7.2,
          7.3,
          7.4,
          7.5,
          7.6,
          7.7,
          7.8,
          7.9,
          8,
          8.1,
          8.2,
          8.3,
          8.4,
          8.5,
          8.6,
          8.7,
          8.8,
          8.9,
          9,
          9.1,
          9.2,
          9.3,
          9.4,
          9.5,
          9.6,
          9.7,
          9.8,
          9.9,
          10,
          10.1,
          10.2,
          10.3,
          10.4,
          10.5,
          10.6,
          10.7,
          10.8,
          10.9
         ],
         "xaxis": "x",
         "y": [
          0,
          0,
          0,
          0,
          0,
          0,
          0,
          0,
          0,
          0,
          0,
          -0.004725352360459593,
          -0.02796929319970194,
          -0.08590552038371017,
          -0.19037838890530243,
          -0.3502006669775436,
          -0.5741557742206984,
          -0.872604744462448,
          -1.2573892206581714,
          -1.7406938159420031,
          -2.3334906781450266,
          -3.0413335900519582,
          -3.8615107558508655,
          -4.787861027850789,
          -5.815188856393766,
          -6.9381511852203115,
          -8.149234305864907,
          -9.437968609661622,
          -10.791352912391758,
          -12.194835768903,
          -13.63334093131126,
          -15.092097267633513,
          -16.557215527770925,
          -18.016034625902368,
          -19.457282400786927,
          -20.87109639209251,
          -22.248946548501007,
          -23.583498267367393,
          -24.86844963518942,
          -26.09836984848724,
          -27.268556893223778,
          -28.374923333608542,
          -29.413911362705516,
          -30.38243321016818,
          -31.277830702208526,
          -32.09784761021356,
          -32.84060951297319,
          -33.504607429385196,
          -34.08868292018562,
          -34.59201345862476,
          -35.01409758721238,
          -35.35473977633671,
          -35.61403508032997,
          -35.792353738055084,
          -35.890325853937675,
          -35.90882626184252,
          -35.848959639295025,
          -35.712045911914444,
          -35.49960596934236,
          -35.213347703056236,
          -34.855152370939344,
          -34.42706129118343,
          -33.93126286745922,
          -33.37007994734004,
          -32.74595751620212,
          -32.06145072903331,
          -31.31921328268549,
          -30.521986131095186,
          -29.672586545882385,
          -28.773897524536096,
          -27.82885754812423,
          -26.84045069013838,
          -25.811697077715188,
          -24.74564370607446,
          -23.645355606589124,
          -22.513907368461663,
          -21.354375013530404,
          -20.16982822327472,
          -18.96332291663324,
          -17.73789417679901,
          -16.496549524712975,
          -15.242262536543985,
          -13.9779668020238,
          -12.706550220098931,
          -11.430849627970868,
          -10.153645759221934,
          -8.877658526368448,
          -7.605542622844196,
          -6.339883439098456,
          -5.083193287192771,
          -3.8379079279994697,
          -2.6063833948443036,
          -1.3908931071927895,
          -0.19362526775741729,
          0.9833194638008731,
          2.137930027589011,
          3.2682867577937937,
          4.372562921916659,
          5.44902601238867,
          6.496038798136684,
          7.51206014376874,
          8.495645604126421,
          9.445447802017203,
          10.36021659698864,
          11.238799053040799,
          12.080139213193902,
          12.883277688834184,
          13.64735107175495,
          14.371591176790403,
          15.055324122908583
         ],
         "yaxis": "y"
        },
        {
         "line": {
          "color": "rgb(0, 0, 255)",
          "dash": "dash",
          "width": 2
         },
         "mode": "lines",
         "name": "validate - Y",
         "type": "scatter",
         "x": [
          0,
          0.1,
          0.2,
          0.3,
          0.4,
          0.5,
          0.6,
          0.7,
          0.8,
          0.9,
          1,
          1.1,
          1.2,
          1.3,
          1.4,
          1.5,
          1.6,
          1.7,
          1.8,
          1.9,
          2,
          2.1,
          2.2,
          2.3,
          2.4,
          2.5,
          2.6,
          2.7,
          2.8,
          2.9,
          3,
          3.1,
          3.2,
          3.3,
          3.4,
          3.5,
          3.6,
          3.7,
          3.8,
          3.9,
          4,
          4.1,
          4.2,
          4.3,
          4.4,
          4.5,
          4.6,
          4.7,
          4.8,
          4.9,
          5,
          5.1,
          5.2,
          5.3,
          5.4,
          5.5,
          5.6,
          5.7,
          5.8,
          5.9,
          6,
          6.1,
          6.2,
          6.3,
          6.4,
          6.5,
          6.6,
          6.7,
          6.8,
          6.9,
          7,
          7.1,
          7.2,
          7.3,
          7.4,
          7.5,
          7.6,
          7.7,
          7.8,
          7.9,
          8,
          8.1,
          8.2,
          8.3,
          8.4,
          8.5,
          8.6,
          8.7,
          8.8,
          8.9,
          9,
          9.1,
          9.2,
          9.3,
          9.4,
          9.5,
          9.6,
          9.7,
          9.8,
          9.9,
          10,
          10.1,
          10.2,
          10.3,
          10.4,
          10.5,
          10.6,
          10.7,
          10.8,
          10.9
         ],
         "xaxis": "x",
         "y": [
          0,
          0,
          0,
          0,
          0,
          0,
          0,
          0,
          0,
          0,
          0,
          -0.008800020000000007,
          -0.047666774999999946,
          -0.14080032000000003,
          -0.3109340399999998,
          -0.58080132,
          -0.9716688750000002,
          -1.5011367449999995,
          -2.18240496,
          -3.0242735399999985,
          -4.03040916,
          -5.195678475,
          -6.5061481200000015,
          -7.944218054999997,
          -9.492288239999999,
          -11.1320253,
          -12.844362525000001,
          -14.610966540000003,
          -16.413503969999997,
          -18.23364144,
          -20.054512245,
          -21.860716350000004,
          -23.636853720000005,
          -25.368257654999997,
          -27.04246146,
          -28.64699844,
          -30.170135235000004,
          -31.602338490000005,
          -32.93407485,
          -34.15727763,
          -35.26608015000001,
          -36.253882395000005,
          -37.11628435500001,
          -37.85035269000001,
          -38.45242072500001,
          -38.92102179000001,
          -39.25542255000001,
          -39.455623005000014,
          -39.52382316000001,
          -39.46148968500001,
          -39.27082258500001,
          -38.956221870000014,
          -38.52135421500001,
          -37.97061963000001,
          -37.309884795,
          -36.54501639000001,
          -35.68188109500001,
          -34.72781226,
          -33.690143235,
          -32.57547403499999,
          -31.391871344999995,
          -30.147401849999998,
          -28.85013223499999,
          -27.508129184999994,
          -26.129459384999986,
          -24.722922854999993,
          -23.29658628,
          -21.85778300999999,
          -20.414579729999996,
          -18.975776459999988,
          -17.54870654999999,
          -16.140703349999995,
          -14.759100209999989,
          -13.410497144999994,
          -12.101494169999986,
          -10.83869129999999,
          -9.627955214999995,
          -8.474419259999989,
          -7.383950114999992,
          -6.360947789999987,
          -5.40907895999999,
          -4.532743634999993,
          -3.735608489999996,
          -3.020606864999986,
          -2.3899387649999886,
          -1.8458041949999906,
          -1.3904031599999922,
          -1.0244689949999937,
          -0.7487350349999897,
          -0.5639346149999904,
          -0.46933439999999077,
          -0.46493438999999076,
          -0.5500012499999904,
          -0.7230683099999928,
          -0.982668899999992,
          -1.3266030149999908,
          -1.7526706499999891,
          -2.257938464999987,
          -2.8394731199999956,
          -3.4943412749999934,
          -4.218876254999991,
          -5.0094113849999875,
          -5.862279989999984,
          -6.7730820599999975,
          -7.737417584999994,
          -8.75015321999999,
          -9.806888954999987,
          -10.903224779999983,
          -12.034027349999999,
          -13.194896654999994
         ],
         "yaxis": "y"
        },
        {
         "line": {
          "color": "rgb(0, 0, 0)",
          "width": 2
         },
         "mode": "lines",
         "name": "pycrash - heading",
         "type": "scatter",
         "x": [
          0,
          0.1,
          0.2,
          0.3,
          0.4,
          0.5,
          0.6,
          0.7,
          0.8,
          0.9,
          1,
          1.1,
          1.2,
          1.3,
          1.4,
          1.5,
          1.6,
          1.7,
          1.8,
          1.9,
          2,
          2.1,
          2.2,
          2.3,
          2.4,
          2.5,
          2.6,
          2.7,
          2.8,
          2.9,
          3,
          3.1,
          3.2,
          3.3,
          3.4,
          3.5,
          3.6,
          3.7,
          3.8,
          3.9,
          4,
          4.1,
          4.2,
          4.3,
          4.4,
          4.5,
          4.6,
          4.7,
          4.8,
          4.9,
          5,
          5.1,
          5.2,
          5.3,
          5.4,
          5.5,
          5.6,
          5.7,
          5.8,
          5.9,
          6,
          6.1,
          6.2,
          6.3,
          6.4,
          6.5,
          6.6,
          6.7,
          6.8,
          6.9,
          7,
          7.1,
          7.2,
          7.3,
          7.4,
          7.5,
          7.6,
          7.7,
          7.8,
          7.9,
          8,
          8.1,
          8.2,
          8.3,
          8.4,
          8.5,
          8.6,
          8.7,
          8.8,
          8.9,
          9,
          9.1,
          9.2,
          9.3,
          9.4,
          9.5,
          9.6,
          9.7,
          9.8,
          9.9,
          10,
          10.1,
          10.2,
          10.3,
          10.4,
          10.5,
          10.6,
          10.7,
          10.8,
          10.9
         ],
         "xaxis": "x2",
         "y": [
          0,
          0,
          0,
          0,
          0,
          0,
          0,
          0,
          0,
          0,
          0,
          -0.04315955279464511,
          -0.25607554619625555,
          -0.7880383125019954,
          -1.7444048609749925,
          -3.1853443866040916,
          -5.140822547705694,
          -7.622741871479762,
          -10.632027186676854,
          -14.162093486470972,
          -18.200176539885447,
          -22.697263134813007,
          -27.538351149192945,
          -32.58547536833142,
          -37.73107149339165,
          -42.904772268939425,
          -48.0624088141353,
          -53.17424616957278,
          -58.21776422527081,
          -63.17481880240431,
          -68.03130491020268,
          -72.77763025263845,
          -77.40902001525798,
          -81.92529414836862,
          -86.33013977860453,
          -90.6300741223324,
          -94.8333264636422,
          -98.94882471972333,
          -102.9853994131923,
          -106.95124544170363,
          -110.85362627098546,
          -114.69877208740482,
          -118.49191160557599,
          -122.23738087489447,
          -125.93876451780547,
          -129.5990393370362,
          -133.2207032521517,
          -136.80588230511586,
          -140.3564147789621,
          -143.87391488656922,
          -147.35981985594526,
          -150.81542436101705,
          -154.24190573662395,
          -157.6403426828158,
          -161.01172944214017,
          -164.35698683310795,
          -167.67697107213797,
          -170.9724810013555,
          -174.2442641307456,
          -177.49302176922484,
          -180.7194134346731,
          -183.92406067947724,
          -187.10755043357574,
          -190.2704379438177,
          -193.4132493721819,
          -196.53648410343888,
          -199.64061680369542,
          -202.72609926408458,
          -205.79336205813837,
          -208.8428160367687,
          -211.87485368104223,
          -214.88985032988373,
          -217.88816529733555,
          -220.87014289192606,
          -223.83611334897097,
          -226.78639368518407,
          -229.72128848375198,
          -232.6410906169935,
          -235.54608191284441,
          -238.43653377065462,
          -241.3127077311398,
          -244.1748560047701,
          -247.02322196239913,
          -249.858040591515,
          -252.67953892113218,
          -255.48793641802354,
          -258.28344535671255,
          -261.0662711653999,
          -263.836612749782,
          -266.59466279652867,
          -269.3406080580167,
          -272.07462961976455,
          -274.79690315188265,
          -277.50759914573035,
          -280.20688313686713,
          -282.8949159152876,
          -285.5718537238452,
          -288.2378484456926,
          -290.89304778149574,
          -293.53759541711804,
          -296.1716311824126,
          -298.7952912017101,
          -301.4087080365431,
          -304.01201082110595,
          -306.6053253909101,
          -309.1887744050605,
          -311.76247746254677,
          -314.32655121291367,
          -316.88110946164846,
          -319.42626327059935
         ],
         "yaxis": "y2"
        },
        {
         "line": {
          "color": "rgb(0, 0, 0)",
          "dash": "dash",
          "width": 2
         },
         "mode": "lines",
         "name": "validate - heading",
         "type": "scatter",
         "x": [
          0,
          0.1,
          0.2,
          0.3,
          0.4,
          0.5,
          0.6,
          0.7,
          0.8,
          0.9,
          1,
          1.1,
          1.2,
          1.3,
          1.4,
          1.5,
          1.6,
          1.7,
          1.8,
          1.9,
          2,
          2.1,
          2.2,
          2.3,
          2.4,
          2.5,
          2.6,
          2.7,
          2.8,
          2.9,
          3,
          3.1,
          3.2,
          3.3,
          3.4,
          3.5,
          3.6,
          3.7,
          3.8,
          3.9,
          4,
          4.1,
          4.2,
          4.3,
          4.4,
          4.5,
          4.6,
          4.7,
          4.8,
          4.9,
          5,
          5.1,
          5.2,
          5.3,
          5.4,
          5.5,
          5.6,
          5.7,
          5.8,
          5.9,
          6,
          6.1,
          6.2,
          6.3,
          6.4,
          6.5,
          6.6,
          6.7,
          6.8,
          6.9,
          7,
          7.1,
          7.2,
          7.3,
          7.4,
          7.5,
          7.6,
          7.7,
          7.8,
          7.9,
          8,
          8.1,
          8.2,
          8.3,
          8.4,
          8.5,
          8.6,
          8.7,
          8.8,
          8.9,
          9,
          9.1,
          9.2,
          9.3,
          9.4,
          9.5,
          9.6,
          9.7,
          9.8,
          9.9,
          10,
          10.1,
          10.2,
          10.3,
          10.4,
          10.5,
          10.6,
          10.7,
          10.8,
          10.9
         ],
         "xaxis": "x2",
         "y": [
          0,
          0,
          0,
          0,
          0,
          0,
          0,
          0,
          0,
          0,
          0,
          -0.06,
          -0.46,
          -1.39,
          -2.88,
          -4.97,
          -7.66,
          -10.94,
          -14.76,
          -19.09,
          -23.88,
          -29.08,
          -34.55,
          -40.14,
          -45.77,
          -51.37,
          -56.92,
          -62.42,
          -67.86,
          -73.25,
          -78.58,
          -83.86,
          -89.1,
          -94.29,
          -99.43,
          -104.53,
          -109.59,
          -114.61,
          -119.59,
          -124.53,
          -129.44,
          -134.31,
          -139.15,
          -143.96,
          -148.73,
          -153.47,
          -158.19,
          -162.87,
          -167.53,
          -172.15,
          -176.75,
          178.67,
          174.12,
          169.6,
          165.1,
          160.63,
          156.17,
          151.75,
          147.34,
          142.95,
          138.59,
          134.25,
          129.93,
          125.63,
          121.35,
          117.08,
          112.84,
          108.62,
          104.41,
          100.22,
          96.05,
          91.9,
          87.76,
          83.64,
          79.54,
          75.45,
          71.38,
          67.33,
          63.29,
          59.26,
          55.25,
          51.26,
          47.28,
          43.31,
          39.36,
          35.42,
          31.5,
          27.59,
          23.69,
          19.81,
          15.93,
          12.08,
          8.23,
          4.4,
          0.57,
          -3.24,
          -7.03,
          -10.82,
          -14.59,
          -18.36,
          -22.11,
          -25.85,
          -29.58,
          -33.3,
          -37,
          -40.7,
          -44.39,
          -48.06,
          -51.73,
          -55.38
         ],
         "yaxis": "y2"
        }
       ],
       "layout": {
        "autosize": false,
        "font": {
         "color": "black",
         "family": "Arial",
         "size": 14
        },
        "height": 500,
        "legend": {
         "orientation": "h",
         "x": 0.01,
         "xanchor": "left",
         "y": 1.1,
         "yanchor": "top"
        },
        "template": {
         "data": {
          "bar": [
           {
            "error_x": {
             "color": "#2a3f5f"
            },
            "error_y": {
             "color": "#2a3f5f"
            },
            "marker": {
             "line": {
              "color": "white",
              "width": 0.5
             }
            },
            "type": "bar"
           }
          ],
          "barpolar": [
           {
            "marker": {
             "line": {
              "color": "white",
              "width": 0.5
             }
            },
            "type": "barpolar"
           }
          ],
          "carpet": [
           {
            "aaxis": {
             "endlinecolor": "#2a3f5f",
             "gridcolor": "#C8D4E3",
             "linecolor": "#C8D4E3",
             "minorgridcolor": "#C8D4E3",
             "startlinecolor": "#2a3f5f"
            },
            "baxis": {
             "endlinecolor": "#2a3f5f",
             "gridcolor": "#C8D4E3",
             "linecolor": "#C8D4E3",
             "minorgridcolor": "#C8D4E3",
             "startlinecolor": "#2a3f5f"
            },
            "type": "carpet"
           }
          ],
          "choropleth": [
           {
            "colorbar": {
             "outlinewidth": 0,
             "ticks": ""
            },
            "type": "choropleth"
           }
          ],
          "contour": [
           {
            "colorbar": {
             "outlinewidth": 0,
             "ticks": ""
            },
            "colorscale": [
             [
              0,
              "#0d0887"
             ],
             [
              0.1111111111111111,
              "#46039f"
             ],
             [
              0.2222222222222222,
              "#7201a8"
             ],
             [
              0.3333333333333333,
              "#9c179e"
             ],
             [
              0.4444444444444444,
              "#bd3786"
             ],
             [
              0.5555555555555556,
              "#d8576b"
             ],
             [
              0.6666666666666666,
              "#ed7953"
             ],
             [
              0.7777777777777778,
              "#fb9f3a"
             ],
             [
              0.8888888888888888,
              "#fdca26"
             ],
             [
              1,
              "#f0f921"
             ]
            ],
            "type": "contour"
           }
          ],
          "contourcarpet": [
           {
            "colorbar": {
             "outlinewidth": 0,
             "ticks": ""
            },
            "type": "contourcarpet"
           }
          ],
          "heatmap": [
           {
            "colorbar": {
             "outlinewidth": 0,
             "ticks": ""
            },
            "colorscale": [
             [
              0,
              "#0d0887"
             ],
             [
              0.1111111111111111,
              "#46039f"
             ],
             [
              0.2222222222222222,
              "#7201a8"
             ],
             [
              0.3333333333333333,
              "#9c179e"
             ],
             [
              0.4444444444444444,
              "#bd3786"
             ],
             [
              0.5555555555555556,
              "#d8576b"
             ],
             [
              0.6666666666666666,
              "#ed7953"
             ],
             [
              0.7777777777777778,
              "#fb9f3a"
             ],
             [
              0.8888888888888888,
              "#fdca26"
             ],
             [
              1,
              "#f0f921"
             ]
            ],
            "type": "heatmap"
           }
          ],
          "heatmapgl": [
           {
            "colorbar": {
             "outlinewidth": 0,
             "ticks": ""
            },
            "colorscale": [
             [
              0,
              "#0d0887"
             ],
             [
              0.1111111111111111,
              "#46039f"
             ],
             [
              0.2222222222222222,
              "#7201a8"
             ],
             [
              0.3333333333333333,
              "#9c179e"
             ],
             [
              0.4444444444444444,
              "#bd3786"
             ],
             [
              0.5555555555555556,
              "#d8576b"
             ],
             [
              0.6666666666666666,
              "#ed7953"
             ],
             [
              0.7777777777777778,
              "#fb9f3a"
             ],
             [
              0.8888888888888888,
              "#fdca26"
             ],
             [
              1,
              "#f0f921"
             ]
            ],
            "type": "heatmapgl"
           }
          ],
          "histogram": [
           {
            "marker": {
             "colorbar": {
              "outlinewidth": 0,
              "ticks": ""
             }
            },
            "type": "histogram"
           }
          ],
          "histogram2d": [
           {
            "colorbar": {
             "outlinewidth": 0,
             "ticks": ""
            },
            "colorscale": [
             [
              0,
              "#0d0887"
             ],
             [
              0.1111111111111111,
              "#46039f"
             ],
             [
              0.2222222222222222,
              "#7201a8"
             ],
             [
              0.3333333333333333,
              "#9c179e"
             ],
             [
              0.4444444444444444,
              "#bd3786"
             ],
             [
              0.5555555555555556,
              "#d8576b"
             ],
             [
              0.6666666666666666,
              "#ed7953"
             ],
             [
              0.7777777777777778,
              "#fb9f3a"
             ],
             [
              0.8888888888888888,
              "#fdca26"
             ],
             [
              1,
              "#f0f921"
             ]
            ],
            "type": "histogram2d"
           }
          ],
          "histogram2dcontour": [
           {
            "colorbar": {
             "outlinewidth": 0,
             "ticks": ""
            },
            "colorscale": [
             [
              0,
              "#0d0887"
             ],
             [
              0.1111111111111111,
              "#46039f"
             ],
             [
              0.2222222222222222,
              "#7201a8"
             ],
             [
              0.3333333333333333,
              "#9c179e"
             ],
             [
              0.4444444444444444,
              "#bd3786"
             ],
             [
              0.5555555555555556,
              "#d8576b"
             ],
             [
              0.6666666666666666,
              "#ed7953"
             ],
             [
              0.7777777777777778,
              "#fb9f3a"
             ],
             [
              0.8888888888888888,
              "#fdca26"
             ],
             [
              1,
              "#f0f921"
             ]
            ],
            "type": "histogram2dcontour"
           }
          ],
          "mesh3d": [
           {
            "colorbar": {
             "outlinewidth": 0,
             "ticks": ""
            },
            "type": "mesh3d"
           }
          ],
          "parcoords": [
           {
            "line": {
             "colorbar": {
              "outlinewidth": 0,
              "ticks": ""
             }
            },
            "type": "parcoords"
           }
          ],
          "pie": [
           {
            "automargin": true,
            "type": "pie"
           }
          ],
          "scatter": [
           {
            "marker": {
             "colorbar": {
              "outlinewidth": 0,
              "ticks": ""
             }
            },
            "type": "scatter"
           }
          ],
          "scatter3d": [
           {
            "line": {
             "colorbar": {
              "outlinewidth": 0,
              "ticks": ""
             }
            },
            "marker": {
             "colorbar": {
              "outlinewidth": 0,
              "ticks": ""
             }
            },
            "type": "scatter3d"
           }
          ],
          "scattercarpet": [
           {
            "marker": {
             "colorbar": {
              "outlinewidth": 0,
              "ticks": ""
             }
            },
            "type": "scattercarpet"
           }
          ],
          "scattergeo": [
           {
            "marker": {
             "colorbar": {
              "outlinewidth": 0,
              "ticks": ""
             }
            },
            "type": "scattergeo"
           }
          ],
          "scattergl": [
           {
            "marker": {
             "colorbar": {
              "outlinewidth": 0,
              "ticks": ""
             }
            },
            "type": "scattergl"
           }
          ],
          "scattermapbox": [
           {
            "marker": {
             "colorbar": {
              "outlinewidth": 0,
              "ticks": ""
             }
            },
            "type": "scattermapbox"
           }
          ],
          "scatterpolar": [
           {
            "marker": {
             "colorbar": {
              "outlinewidth": 0,
              "ticks": ""
             }
            },
            "type": "scatterpolar"
           }
          ],
          "scatterpolargl": [
           {
            "marker": {
             "colorbar": {
              "outlinewidth": 0,
              "ticks": ""
             }
            },
            "type": "scatterpolargl"
           }
          ],
          "scatterternary": [
           {
            "marker": {
             "colorbar": {
              "outlinewidth": 0,
              "ticks": ""
             }
            },
            "type": "scatterternary"
           }
          ],
          "surface": [
           {
            "colorbar": {
             "outlinewidth": 0,
             "ticks": ""
            },
            "colorscale": [
             [
              0,
              "#0d0887"
             ],
             [
              0.1111111111111111,
              "#46039f"
             ],
             [
              0.2222222222222222,
              "#7201a8"
             ],
             [
              0.3333333333333333,
              "#9c179e"
             ],
             [
              0.4444444444444444,
              "#bd3786"
             ],
             [
              0.5555555555555556,
              "#d8576b"
             ],
             [
              0.6666666666666666,
              "#ed7953"
             ],
             [
              0.7777777777777778,
              "#fb9f3a"
             ],
             [
              0.8888888888888888,
              "#fdca26"
             ],
             [
              1,
              "#f0f921"
             ]
            ],
            "type": "surface"
           }
          ],
          "table": [
           {
            "cells": {
             "fill": {
              "color": "#EBF0F8"
             },
             "line": {
              "color": "white"
             }
            },
            "header": {
             "fill": {
              "color": "#C8D4E3"
             },
             "line": {
              "color": "white"
             }
            },
            "type": "table"
           }
          ]
         },
         "layout": {
          "annotationdefaults": {
           "arrowcolor": "#2a3f5f",
           "arrowhead": 0,
           "arrowwidth": 1
          },
          "coloraxis": {
           "colorbar": {
            "outlinewidth": 0,
            "ticks": ""
           }
          },
          "colorscale": {
           "diverging": [
            [
             0,
             "#8e0152"
            ],
            [
             0.1,
             "#c51b7d"
            ],
            [
             0.2,
             "#de77ae"
            ],
            [
             0.3,
             "#f1b6da"
            ],
            [
             0.4,
             "#fde0ef"
            ],
            [
             0.5,
             "#f7f7f7"
            ],
            [
             0.6,
             "#e6f5d0"
            ],
            [
             0.7,
             "#b8e186"
            ],
            [
             0.8,
             "#7fbc41"
            ],
            [
             0.9,
             "#4d9221"
            ],
            [
             1,
             "#276419"
            ]
           ],
           "sequential": [
            [
             0,
             "#0d0887"
            ],
            [
             0.1111111111111111,
             "#46039f"
            ],
            [
             0.2222222222222222,
             "#7201a8"
            ],
            [
             0.3333333333333333,
             "#9c179e"
            ],
            [
             0.4444444444444444,
             "#bd3786"
            ],
            [
             0.5555555555555556,
             "#d8576b"
            ],
            [
             0.6666666666666666,
             "#ed7953"
            ],
            [
             0.7777777777777778,
             "#fb9f3a"
            ],
            [
             0.8888888888888888,
             "#fdca26"
            ],
            [
             1,
             "#f0f921"
            ]
           ],
           "sequentialminus": [
            [
             0,
             "#0d0887"
            ],
            [
             0.1111111111111111,
             "#46039f"
            ],
            [
             0.2222222222222222,
             "#7201a8"
            ],
            [
             0.3333333333333333,
             "#9c179e"
            ],
            [
             0.4444444444444444,
             "#bd3786"
            ],
            [
             0.5555555555555556,
             "#d8576b"
            ],
            [
             0.6666666666666666,
             "#ed7953"
            ],
            [
             0.7777777777777778,
             "#fb9f3a"
            ],
            [
             0.8888888888888888,
             "#fdca26"
            ],
            [
             1,
             "#f0f921"
            ]
           ]
          },
          "colorway": [
           "#636efa",
           "#EF553B",
           "#00cc96",
           "#ab63fa",
           "#FFA15A",
           "#19d3f3",
           "#FF6692",
           "#B6E880",
           "#FF97FF",
           "#FECB52"
          ],
          "font": {
           "color": "#2a3f5f"
          },
          "geo": {
           "bgcolor": "white",
           "lakecolor": "white",
           "landcolor": "white",
           "showlakes": true,
           "showland": true,
           "subunitcolor": "#C8D4E3"
          },
          "hoverlabel": {
           "align": "left"
          },
          "hovermode": "closest",
          "mapbox": {
           "style": "light"
          },
          "paper_bgcolor": "white",
          "plot_bgcolor": "white",
          "polar": {
           "angularaxis": {
            "gridcolor": "#EBF0F8",
            "linecolor": "#EBF0F8",
            "ticks": ""
           },
           "bgcolor": "white",
           "radialaxis": {
            "gridcolor": "#EBF0F8",
            "linecolor": "#EBF0F8",
            "ticks": ""
           }
          },
          "scene": {
           "xaxis": {
            "backgroundcolor": "white",
            "gridcolor": "#DFE8F3",
            "gridwidth": 2,
            "linecolor": "#EBF0F8",
            "showbackground": true,
            "ticks": "",
            "zerolinecolor": "#EBF0F8"
           },
           "yaxis": {
            "backgroundcolor": "white",
            "gridcolor": "#DFE8F3",
            "gridwidth": 2,
            "linecolor": "#EBF0F8",
            "showbackground": true,
            "ticks": "",
            "zerolinecolor": "#EBF0F8"
           },
           "zaxis": {
            "backgroundcolor": "white",
            "gridcolor": "#DFE8F3",
            "gridwidth": 2,
            "linecolor": "#EBF0F8",
            "showbackground": true,
            "ticks": "",
            "zerolinecolor": "#EBF0F8"
           }
          },
          "shapedefaults": {
           "line": {
            "color": "#2a3f5f"
           }
          },
          "ternary": {
           "aaxis": {
            "gridcolor": "#DFE8F3",
            "linecolor": "#A2B1C6",
            "ticks": ""
           },
           "baxis": {
            "gridcolor": "#DFE8F3",
            "linecolor": "#A2B1C6",
            "ticks": ""
           },
           "bgcolor": "white",
           "caxis": {
            "gridcolor": "#DFE8F3",
            "linecolor": "#A2B1C6",
            "ticks": ""
           }
          },
          "title": {
           "x": 0.05
          },
          "xaxis": {
           "automargin": true,
           "gridcolor": "#EBF0F8",
           "linecolor": "#EBF0F8",
           "ticks": "",
           "title": {
            "standoff": 15
           },
           "zerolinecolor": "#EBF0F8",
           "zerolinewidth": 2
          },
          "yaxis": {
           "automargin": true,
           "gridcolor": "#EBF0F8",
           "linecolor": "#EBF0F8",
           "ticks": "",
           "title": {
            "standoff": 15
           },
           "zerolinecolor": "#EBF0F8",
           "zerolinewidth": 2
          }
         }
        },
        "width": 900,
        "xaxis": {
         "anchor": "y",
         "domain": [
          0,
          1
         ],
         "linecolor": "black",
         "linewidth": 1,
         "matches": "x2",
         "showgrid": false,
         "showline": true,
         "showticklabels": false,
         "tickcolor": "black",
         "ticklen": 10,
         "ticks": "outside",
         "tickwidth": 1,
         "title": {
          "text": ""
         },
         "zeroline": false
        },
        "xaxis2": {
         "anchor": "y2",
         "domain": [
          0,
          1
         ],
         "linecolor": "black",
         "linewidth": 1,
         "showgrid": false,
         "showline": true,
         "tickcolor": "black",
         "ticklen": 10,
         "ticks": "outside",
         "tickwidth": 1,
         "title": {
          "text": "Time (s)"
         },
         "zeroline": false
        },
        "yaxis": {
         "anchor": "x",
         "domain": [
          0.5349999999999999,
          0.9999999999999999
         ],
         "linecolor": "black",
         "linewidth": 1,
         "showgrid": false,
         "showline": true,
         "tickcolor": "black",
         "ticklen": 10,
         "ticks": "outside",
         "tickwidth": 1,
         "title": {
          "text": "Displacement (ft)"
         },
         "zeroline": false
        },
        "yaxis2": {
         "anchor": "x2",
         "domain": [
          0,
          0.46499999999999997
         ],
         "linecolor": "black",
         "linewidth": 1,
         "showgrid": false,
         "showline": true,
         "tickcolor": "black",
         "ticklen": 10,
         "ticks": "outside",
         "tickwidth": 1,
         "title": {
          "text": "Heading Angle (deg)"
         },
         "zeroline": false
        }
       }
      },
      "text/html": [
       "<div>\n",
       "        \n",
       "        \n",
       "            <div id=\"a1607657-c2df-4ec2-ac17-6b7d6d6d11a8\" class=\"plotly-graph-div\" style=\"height:500px; width:900px;\"></div>\n",
       "            <script type=\"text/javascript\">\n",
       "                require([\"plotly\"], function(Plotly) {\n",
       "                    window.PLOTLYENV=window.PLOTLYENV || {};\n",
       "                    \n",
       "                if (document.getElementById(\"a1607657-c2df-4ec2-ac17-6b7d6d6d11a8\")) {\n",
       "                    Plotly.newPlot(\n",
       "                        'a1607657-c2df-4ec2-ac17-6b7d6d6d11a8',\n",
       "                        [{\"line\": {\"color\": \"rgb(0, 255, 0)\", \"width\": 2}, \"mode\": \"lines\", \"name\": \"pycrash - X\", \"type\": \"scatter\", \"x\": [0.0, 0.1, 0.2, 0.3, 0.4, 0.5, 0.6, 0.7, 0.8, 0.9, 1.0, 1.1, 1.2, 1.3, 1.4, 1.5, 1.6, 1.7, 1.8, 1.9, 2.0, 2.1, 2.2, 2.3, 2.4, 2.5, 2.6, 2.7, 2.8, 2.9, 3.0, 3.1, 3.2, 3.3, 3.4, 3.5, 3.6, 3.7, 3.8, 3.9, 4.0, 4.1, 4.2, 4.3, 4.4, 4.5, 4.6, 4.7, 4.8, 4.9, 5.0, 5.1, 5.2, 5.3, 5.4, 5.5, 5.6, 5.7, 5.8, 5.9, 6.0, 6.1, 6.2, 6.3, 6.4, 6.5, 6.6, 6.7, 6.8, 6.9, 7.0, 7.1, 7.2, 7.3, 7.4, 7.5, 7.6, 7.7, 7.8, 7.9, 8.0, 8.1, 8.2, 8.3, 8.4, 8.5, 8.6, 8.7, 8.8, 8.9, 9.0, 9.1, 9.2, 9.3, 9.4, 9.5, 9.6, 9.7, 9.8, 9.9, 10.0, 10.1, 10.2, 10.3, 10.4, 10.5, 10.6, 10.7, 10.8, 10.9], \"xaxis\": \"x\", \"y\": [0.0, 2.200005, 4.40001, 6.600014999999999, 8.80002, 11.000024999999999, 13.200029999999998, 15.400034999999997, 17.60004, 19.800044999999997, 22.000049999999995, 24.199883306641915, 26.398647979706496, 28.59425631919966, 30.78350649900053, 32.96215722786497, 35.12452133618328, 37.26274161140343, 39.3660339904581, 41.42010606087569, 43.40686336733721, 45.308843151043526, 47.11479123959617, 48.81609546085548, 50.40125400980874, 51.856129600535986, 53.16652964291748, 54.32060561332561, 55.31018555323981, 56.131100529072285, 56.782878958330116, 57.26814858516978, 57.59195689233187, 57.76111389176391, 57.78360190246181, 57.668072526056484, 57.42344234411723, 57.05859278477174, 56.58217142109341, 56.002482726846324, 55.32744904915887, 54.56461942384806, 53.72120510120566, 52.80412497266867, 51.82004963321544, 50.775438006317316, 49.6765644058568, 48.52953638749001, 47.340304961327384, 46.11466908636031, 44.858276225176034, 43.57662038994496, 42.27503873089424, 40.95870739050469, 39.63263709702041, 38.30166879600836, 36.970469503319485, 35.643528489795415, 34.32515386299085, 33.019469583467554, 31.73041293585562, 30.461732463582386, 29.216986368473517, 27.999541370966337, 26.812572022683863, 25.659060460158805, 24.541796586290914, 23.463378664483603, 22.426214309201452, 21.432521855822632, 20.48433209205647, 19.583490332799606, 18.731658820073804, 17.93031942958996, 17.180776665492225, 16.484160924933338, 15.84143201430101, 15.25338289914419, 14.720643670125801, 14.243685707647375, 13.822826028144261, 13.458231795431034, 13.14992498088181, 12.897787156654257, 12.701564406606424, 12.560872340008567, 12.475201193615902, 12.443921008139741, 12.466286865632338, 12.541444174782994, 12.668433991607879, 12.846198363502504, 13.073585685112302, 13.349356054962396, 13.67218662227123, 14.040676913853561, 14.453354131495113, 14.908678410653852, 15.40504803181009, 15.940804576248993, 16.514238018514437, 17.12359174822094, 17.767067514351563, 18.44283028560247, 19.14901302075951, 19.88372134350885, 20.64503811649037, 21.431027909801468, 22.23974135954725, 23.069219412412465], \"yaxis\": \"y\"}, {\"line\": {\"color\": \"rgb(0, 255, 0)\", \"dash\": \"dash\", \"width\": 2}, \"mode\": \"lines\", \"name\": \"validate - X\", \"type\": \"scatter\", \"x\": [0.0, 0.1, 0.2, 0.3, 0.4, 0.5, 0.6, 0.7, 0.8, 0.9, 1.0, 1.1, 1.2, 1.3, 1.4, 1.5, 1.6, 1.7, 1.8, 1.9, 2.0, 2.1, 2.2, 2.3, 2.4, 2.5, 2.6, 2.7, 2.8, 2.9, 3.0, 3.1, 3.2, 3.3, 3.4, 3.5, 3.6, 3.7, 3.8, 3.9, 4.0, 4.1, 4.2, 4.3, 4.4, 4.5, 4.6, 4.7, 4.8, 4.9, 5.0, 5.1, 5.2, 5.3, 5.4, 5.5, 5.6, 5.7, 5.8, 5.9, 6.0, 6.1, 6.2, 6.3, 6.4, 6.5, 6.6, 6.7, 6.8, 6.9, 7.0, 7.1, 7.2, 7.3, 7.4, 7.5, 7.6, 7.7, 7.8, 7.9, 8.0, 8.1, 8.2, 8.3, 8.4, 8.5, 8.6, 8.7, 8.8, 8.9, 9.0, 9.1, 9.2, 9.3, 9.4, 9.5, 9.6, 9.7, 9.8, 9.9, 10.0, 10.1, 10.2, 10.3, 10.4, 10.5, 10.6, 10.7, 10.8, 10.9], \"xaxis\": \"x\", \"y\": [0.0, 2.200005, 4.40001, 6.600014999999999, 8.80002, 11.000024999999999, 13.200029999999998, 15.400034999999997, 17.60004, 19.800044999999997, 22.000049999999995, 24.200054999999995, 26.398593329999994, 28.591264979999995, 30.77220326999999, 32.932608179999995, 35.060013014999996, 37.13828440499999, 39.14688896999999, 41.06235998999999, 42.859030739999994, 44.514167834999995, 46.014571245, 47.352907619999996, 48.522576945, 49.518445875, 50.336847735, 50.97558252, 51.433916895, 51.713317530000005, 51.81671776500001, 51.74778427500001, 51.511650405000005, 51.11491617000001, 50.565648255000006, 49.87264668, 49.044711465, 48.09064263, 47.0214402, 45.8481042, 44.58090132, 43.23229825500001, 41.814028365000006, 40.33709167500001, 38.813221545000005, 37.25415133500001, 35.671614405000014, 34.07661078, 32.47940715000001, 30.89100354, 29.322399975000007, 27.783129810000013, 26.282726400000005, 24.82998976500001, 23.432986590000002, 22.099783560000006, 20.83771402500001, 19.653378000000004, 18.55190883000001, 17.538439860000004, 16.618837770000006, 15.796769235000008, 15.075167595000005, 14.456966190000008, 13.944365025000005, 13.538830770000006, 13.240363425000007, 13.049696325000006, 12.966829470000008, 12.990296190000008, 13.118629815000007, 13.350363675000006, 13.682564430000008, 14.112298740000007, 14.63663326500001, 15.251167995000007, 15.951502920000005, 16.73323803000001, 17.591239980000008, 18.52037542500001, 19.51624435500001, 20.572980090000005, 21.683982615, 22.84338525000002, 24.045321315000013, 25.28392413000001, 26.552593680000005, 27.84472995, 29.15446626000002, 30.475935930000016, 31.802538945000013, 33.127675290000006, 34.445478285, 35.750814585000015, 37.03781751000001, 38.300620380000005, 39.53408985, 40.732359239999994, 41.89029520500001, 43.00423107, 44.069766825, 45.08250246, 46.0387713, 46.93417333500001, 47.765775225000006, 48.531376965, 49.228045214999995, 49.85284663499999, 50.404314555, 50.880982304999996], \"yaxis\": \"y\"}, {\"line\": {\"color\": \"rgb(0, 0, 255)\", \"width\": 2}, \"mode\": \"lines\", \"name\": \"pycrash - Y\", \"type\": \"scatter\", \"x\": [0.0, 0.1, 0.2, 0.3, 0.4, 0.5, 0.6, 0.7, 0.8, 0.9, 1.0, 1.1, 1.2, 1.3, 1.4, 1.5, 1.6, 1.7, 1.8, 1.9, 2.0, 2.1, 2.2, 2.3, 2.4, 2.5, 2.6, 2.7, 2.8, 2.9, 3.0, 3.1, 3.2, 3.3, 3.4, 3.5, 3.6, 3.7, 3.8, 3.9, 4.0, 4.1, 4.2, 4.3, 4.4, 4.5, 4.6, 4.7, 4.8, 4.9, 5.0, 5.1, 5.2, 5.3, 5.4, 5.5, 5.6, 5.7, 5.8, 5.9, 6.0, 6.1, 6.2, 6.3, 6.4, 6.5, 6.6, 6.7, 6.8, 6.9, 7.0, 7.1, 7.2, 7.3, 7.4, 7.5, 7.6, 7.7, 7.8, 7.9, 8.0, 8.1, 8.2, 8.3, 8.4, 8.5, 8.6, 8.7, 8.8, 8.9, 9.0, 9.1, 9.2, 9.3, 9.4, 9.5, 9.6, 9.7, 9.8, 9.9, 10.0, 10.1, 10.2, 10.3, 10.4, 10.5, 10.6, 10.7, 10.8, 10.9], \"xaxis\": \"x\", \"y\": [0.0, 0.0, 0.0, 0.0, 0.0, 0.0, 0.0, 0.0, 0.0, 0.0, 0.0, -0.004725352360459593, -0.02796929319970194, -0.08590552038371017, -0.19037838890530243, -0.3502006669775436, -0.5741557742206984, -0.872604744462448, -1.2573892206581714, -1.7406938159420031, -2.3334906781450266, -3.0413335900519582, -3.8615107558508655, -4.787861027850789, -5.815188856393766, -6.9381511852203115, -8.149234305864907, -9.437968609661622, -10.791352912391758, -12.194835768903, -13.63334093131126, -15.092097267633513, -16.557215527770925, -18.016034625902368, -19.457282400786927, -20.87109639209251, -22.248946548501007, -23.583498267367393, -24.86844963518942, -26.09836984848724, -27.268556893223778, -28.374923333608542, -29.413911362705516, -30.38243321016818, -31.277830702208526, -32.09784761021356, -32.84060951297319, -33.504607429385196, -34.08868292018562, -34.59201345862476, -35.01409758721238, -35.35473977633671, -35.61403508032997, -35.792353738055084, -35.890325853937675, -35.90882626184252, -35.848959639295025, -35.712045911914444, -35.49960596934236, -35.213347703056236, -34.855152370939344, -34.42706129118343, -33.93126286745922, -33.37007994734004, -32.74595751620212, -32.06145072903331, -31.31921328268549, -30.521986131095186, -29.672586545882385, -28.773897524536096, -27.82885754812423, -26.84045069013838, -25.811697077715188, -24.74564370607446, -23.645355606589124, -22.513907368461663, -21.354375013530404, -20.16982822327472, -18.96332291663324, -17.73789417679901, -16.496549524712975, -15.242262536543985, -13.9779668020238, -12.706550220098931, -11.430849627970868, -10.153645759221934, -8.877658526368448, -7.605542622844196, -6.339883439098456, -5.083193287192771, -3.8379079279994697, -2.6063833948443036, -1.3908931071927895, -0.19362526775741729, 0.9833194638008731, 2.137930027589011, 3.2682867577937937, 4.372562921916659, 5.44902601238867, 6.496038798136684, 7.51206014376874, 8.495645604126421, 9.445447802017203, 10.36021659698864, 11.238799053040799, 12.080139213193902, 12.883277688834184, 13.64735107175495, 14.371591176790403, 15.055324122908583], \"yaxis\": \"y\"}, {\"line\": {\"color\": \"rgb(0, 0, 255)\", \"dash\": \"dash\", \"width\": 2}, \"mode\": \"lines\", \"name\": \"validate - Y\", \"type\": \"scatter\", \"x\": [0.0, 0.1, 0.2, 0.3, 0.4, 0.5, 0.6, 0.7, 0.8, 0.9, 1.0, 1.1, 1.2, 1.3, 1.4, 1.5, 1.6, 1.7, 1.8, 1.9, 2.0, 2.1, 2.2, 2.3, 2.4, 2.5, 2.6, 2.7, 2.8, 2.9, 3.0, 3.1, 3.2, 3.3, 3.4, 3.5, 3.6, 3.7, 3.8, 3.9, 4.0, 4.1, 4.2, 4.3, 4.4, 4.5, 4.6, 4.7, 4.8, 4.9, 5.0, 5.1, 5.2, 5.3, 5.4, 5.5, 5.6, 5.7, 5.8, 5.9, 6.0, 6.1, 6.2, 6.3, 6.4, 6.5, 6.6, 6.7, 6.8, 6.9, 7.0, 7.1, 7.2, 7.3, 7.4, 7.5, 7.6, 7.7, 7.8, 7.9, 8.0, 8.1, 8.2, 8.3, 8.4, 8.5, 8.6, 8.7, 8.8, 8.9, 9.0, 9.1, 9.2, 9.3, 9.4, 9.5, 9.6, 9.7, 9.8, 9.9, 10.0, 10.1, 10.2, 10.3, 10.4, 10.5, 10.6, 10.7, 10.8, 10.9], \"xaxis\": \"x\", \"y\": [0.0, 0.0, 0.0, 0.0, 0.0, 0.0, 0.0, 0.0, 0.0, 0.0, 0.0, -0.008800020000000007, -0.047666774999999946, -0.14080032000000003, -0.3109340399999998, -0.58080132, -0.9716688750000002, -1.5011367449999995, -2.18240496, -3.0242735399999985, -4.03040916, -5.195678475, -6.5061481200000015, -7.944218054999997, -9.492288239999999, -11.1320253, -12.844362525000001, -14.610966540000003, -16.413503969999997, -18.23364144, -20.054512245, -21.860716350000004, -23.636853720000005, -25.368257654999997, -27.04246146, -28.64699844, -30.170135235000004, -31.602338490000005, -32.93407485, -34.15727763, -35.26608015000001, -36.253882395000005, -37.11628435500001, -37.85035269000001, -38.45242072500001, -38.92102179000001, -39.25542255000001, -39.455623005000014, -39.52382316000001, -39.46148968500001, -39.27082258500001, -38.956221870000014, -38.52135421500001, -37.97061963000001, -37.309884795, -36.54501639000001, -35.68188109500001, -34.72781226, -33.690143235, -32.57547403499999, -31.391871344999995, -30.147401849999998, -28.85013223499999, -27.508129184999994, -26.129459384999986, -24.722922854999993, -23.29658628, -21.85778300999999, -20.414579729999996, -18.975776459999988, -17.54870654999999, -16.140703349999995, -14.759100209999989, -13.410497144999994, -12.101494169999986, -10.83869129999999, -9.627955214999995, -8.474419259999989, -7.383950114999992, -6.360947789999987, -5.40907895999999, -4.532743634999993, -3.735608489999996, -3.020606864999986, -2.3899387649999886, -1.8458041949999906, -1.3904031599999922, -1.0244689949999937, -0.7487350349999897, -0.5639346149999904, -0.46933439999999077, -0.46493438999999076, -0.5500012499999904, -0.7230683099999928, -0.982668899999992, -1.3266030149999908, -1.7526706499999891, -2.257938464999987, -2.8394731199999956, -3.4943412749999934, -4.218876254999991, -5.0094113849999875, -5.862279989999984, -6.7730820599999975, -7.737417584999994, -8.75015321999999, -9.806888954999987, -10.903224779999983, -12.034027349999999, -13.194896654999994], \"yaxis\": \"y\"}, {\"line\": {\"color\": \"rgb(0, 0, 0)\", \"width\": 2}, \"mode\": \"lines\", \"name\": \"pycrash - heading\", \"type\": \"scatter\", \"x\": [0.0, 0.1, 0.2, 0.3, 0.4, 0.5, 0.6, 0.7, 0.8, 0.9, 1.0, 1.1, 1.2, 1.3, 1.4, 1.5, 1.6, 1.7, 1.8, 1.9, 2.0, 2.1, 2.2, 2.3, 2.4, 2.5, 2.6, 2.7, 2.8, 2.9, 3.0, 3.1, 3.2, 3.3, 3.4, 3.5, 3.6, 3.7, 3.8, 3.9, 4.0, 4.1, 4.2, 4.3, 4.4, 4.5, 4.6, 4.7, 4.8, 4.9, 5.0, 5.1, 5.2, 5.3, 5.4, 5.5, 5.6, 5.7, 5.8, 5.9, 6.0, 6.1, 6.2, 6.3, 6.4, 6.5, 6.6, 6.7, 6.8, 6.9, 7.0, 7.1, 7.2, 7.3, 7.4, 7.5, 7.6, 7.7, 7.8, 7.9, 8.0, 8.1, 8.2, 8.3, 8.4, 8.5, 8.6, 8.7, 8.8, 8.9, 9.0, 9.1, 9.2, 9.3, 9.4, 9.5, 9.6, 9.7, 9.8, 9.9, 10.0, 10.1, 10.2, 10.3, 10.4, 10.5, 10.6, 10.7, 10.8, 10.9], \"xaxis\": \"x2\", \"y\": [0.0, 0.0, 0.0, 0.0, 0.0, 0.0, 0.0, 0.0, 0.0, 0.0, 0.0, -0.04315955279464511, -0.25607554619625555, -0.7880383125019954, -1.7444048609749925, -3.1853443866040916, -5.140822547705694, -7.622741871479762, -10.632027186676854, -14.162093486470972, -18.200176539885447, -22.697263134813007, -27.538351149192945, -32.58547536833142, -37.73107149339165, -42.904772268939425, -48.0624088141353, -53.17424616957278, -58.21776422527081, -63.17481880240431, -68.03130491020268, -72.77763025263845, -77.40902001525798, -81.92529414836862, -86.33013977860453, -90.6300741223324, -94.8333264636422, -98.94882471972333, -102.9853994131923, -106.95124544170363, -110.85362627098546, -114.69877208740482, -118.49191160557599, -122.23738087489447, -125.93876451780547, -129.5990393370362, -133.2207032521517, -136.80588230511586, -140.3564147789621, -143.87391488656922, -147.35981985594526, -150.81542436101705, -154.24190573662395, -157.6403426828158, -161.01172944214017, -164.35698683310795, -167.67697107213797, -170.9724810013555, -174.2442641307456, -177.49302176922484, -180.7194134346731, -183.92406067947724, -187.10755043357574, -190.2704379438177, -193.4132493721819, -196.53648410343888, -199.64061680369542, -202.72609926408458, -205.79336205813837, -208.8428160367687, -211.87485368104223, -214.88985032988373, -217.88816529733555, -220.87014289192606, -223.83611334897097, -226.78639368518407, -229.72128848375198, -232.6410906169935, -235.54608191284441, -238.43653377065462, -241.3127077311398, -244.1748560047701, -247.02322196239913, -249.858040591515, -252.67953892113218, -255.48793641802354, -258.28344535671255, -261.0662711653999, -263.836612749782, -266.59466279652867, -269.3406080580167, -272.07462961976455, -274.79690315188265, -277.50759914573035, -280.20688313686713, -282.8949159152876, -285.5718537238452, -288.2378484456926, -290.89304778149574, -293.53759541711804, -296.1716311824126, -298.7952912017101, -301.4087080365431, -304.01201082110595, -306.6053253909101, -309.1887744050605, -311.76247746254677, -314.32655121291367, -316.88110946164846, -319.42626327059935], \"yaxis\": \"y2\"}, {\"line\": {\"color\": \"rgb(0, 0, 0)\", \"dash\": \"dash\", \"width\": 2}, \"mode\": \"lines\", \"name\": \"validate - heading\", \"type\": \"scatter\", \"x\": [0.0, 0.1, 0.2, 0.3, 0.4, 0.5, 0.6, 0.7, 0.8, 0.9, 1.0, 1.1, 1.2, 1.3, 1.4, 1.5, 1.6, 1.7, 1.8, 1.9, 2.0, 2.1, 2.2, 2.3, 2.4, 2.5, 2.6, 2.7, 2.8, 2.9, 3.0, 3.1, 3.2, 3.3, 3.4, 3.5, 3.6, 3.7, 3.8, 3.9, 4.0, 4.1, 4.2, 4.3, 4.4, 4.5, 4.6, 4.7, 4.8, 4.9, 5.0, 5.1, 5.2, 5.3, 5.4, 5.5, 5.6, 5.7, 5.8, 5.9, 6.0, 6.1, 6.2, 6.3, 6.4, 6.5, 6.6, 6.7, 6.8, 6.9, 7.0, 7.1, 7.2, 7.3, 7.4, 7.5, 7.6, 7.7, 7.8, 7.9, 8.0, 8.1, 8.2, 8.3, 8.4, 8.5, 8.6, 8.7, 8.8, 8.9, 9.0, 9.1, 9.2, 9.3, 9.4, 9.5, 9.6, 9.7, 9.8, 9.9, 10.0, 10.1, 10.2, 10.3, 10.4, 10.5, 10.6, 10.7, 10.8, 10.9], \"xaxis\": \"x2\", \"y\": [0.0, 0.0, 0.0, 0.0, 0.0, 0.0, 0.0, 0.0, 0.0, 0.0, 0.0, -0.06, -0.46, -1.39, -2.88, -4.97, -7.66, -10.94, -14.76, -19.09, -23.88, -29.08, -34.55, -40.14, -45.77, -51.37, -56.92, -62.42, -67.86, -73.25, -78.58, -83.86, -89.1, -94.29, -99.43, -104.53, -109.59, -114.61, -119.59, -124.53, -129.44, -134.31, -139.15, -143.96, -148.73, -153.47, -158.19, -162.87, -167.53, -172.15, -176.75, 178.67, 174.12, 169.6, 165.1, 160.63, 156.17, 151.75, 147.34, 142.95, 138.59, 134.25, 129.93, 125.63, 121.35, 117.08, 112.84, 108.62, 104.41, 100.22, 96.05, 91.9, 87.76, 83.64, 79.54, 75.45, 71.38, 67.33, 63.29, 59.26, 55.25, 51.26, 47.28, 43.31, 39.36, 35.42, 31.5, 27.59, 23.69, 19.81, 15.93, 12.08, 8.23, 4.4, 0.57, -3.24, -7.03, -10.82, -14.59, -18.36, -22.11, -25.85, -29.58, -33.3, -37.0, -40.7, -44.39, -48.06, -51.73, -55.38], \"yaxis\": \"y2\"}],\n",
       "                        {\"autosize\": false, \"font\": {\"color\": \"black\", \"family\": \"Arial\", \"size\": 14}, \"height\": 500, \"legend\": {\"orientation\": \"h\", \"x\": 0.01, \"xanchor\": \"left\", \"y\": 1.1, \"yanchor\": \"top\"}, \"template\": {\"data\": {\"bar\": [{\"error_x\": {\"color\": \"#2a3f5f\"}, \"error_y\": {\"color\": \"#2a3f5f\"}, \"marker\": {\"line\": {\"color\": \"white\", \"width\": 0.5}}, \"type\": \"bar\"}], \"barpolar\": [{\"marker\": {\"line\": {\"color\": \"white\", \"width\": 0.5}}, \"type\": \"barpolar\"}], \"carpet\": [{\"aaxis\": {\"endlinecolor\": \"#2a3f5f\", \"gridcolor\": \"#C8D4E3\", \"linecolor\": \"#C8D4E3\", \"minorgridcolor\": \"#C8D4E3\", \"startlinecolor\": \"#2a3f5f\"}, \"baxis\": {\"endlinecolor\": \"#2a3f5f\", \"gridcolor\": \"#C8D4E3\", \"linecolor\": \"#C8D4E3\", \"minorgridcolor\": \"#C8D4E3\", \"startlinecolor\": \"#2a3f5f\"}, \"type\": \"carpet\"}], \"choropleth\": [{\"colorbar\": {\"outlinewidth\": 0, \"ticks\": \"\"}, \"type\": \"choropleth\"}], \"contour\": [{\"colorbar\": {\"outlinewidth\": 0, \"ticks\": \"\"}, \"colorscale\": [[0.0, \"#0d0887\"], [0.1111111111111111, \"#46039f\"], [0.2222222222222222, \"#7201a8\"], [0.3333333333333333, \"#9c179e\"], [0.4444444444444444, \"#bd3786\"], [0.5555555555555556, \"#d8576b\"], [0.6666666666666666, \"#ed7953\"], [0.7777777777777778, \"#fb9f3a\"], [0.8888888888888888, \"#fdca26\"], [1.0, \"#f0f921\"]], \"type\": \"contour\"}], \"contourcarpet\": [{\"colorbar\": {\"outlinewidth\": 0, \"ticks\": \"\"}, \"type\": \"contourcarpet\"}], \"heatmap\": [{\"colorbar\": {\"outlinewidth\": 0, \"ticks\": \"\"}, \"colorscale\": [[0.0, \"#0d0887\"], [0.1111111111111111, \"#46039f\"], [0.2222222222222222, \"#7201a8\"], [0.3333333333333333, \"#9c179e\"], [0.4444444444444444, \"#bd3786\"], [0.5555555555555556, \"#d8576b\"], [0.6666666666666666, \"#ed7953\"], [0.7777777777777778, \"#fb9f3a\"], [0.8888888888888888, \"#fdca26\"], [1.0, \"#f0f921\"]], \"type\": \"heatmap\"}], \"heatmapgl\": [{\"colorbar\": {\"outlinewidth\": 0, \"ticks\": \"\"}, \"colorscale\": [[0.0, \"#0d0887\"], [0.1111111111111111, \"#46039f\"], [0.2222222222222222, \"#7201a8\"], [0.3333333333333333, \"#9c179e\"], [0.4444444444444444, \"#bd3786\"], [0.5555555555555556, \"#d8576b\"], [0.6666666666666666, \"#ed7953\"], [0.7777777777777778, \"#fb9f3a\"], [0.8888888888888888, \"#fdca26\"], [1.0, \"#f0f921\"]], \"type\": \"heatmapgl\"}], \"histogram\": [{\"marker\": {\"colorbar\": {\"outlinewidth\": 0, \"ticks\": \"\"}}, \"type\": \"histogram\"}], \"histogram2d\": [{\"colorbar\": {\"outlinewidth\": 0, \"ticks\": \"\"}, \"colorscale\": [[0.0, \"#0d0887\"], [0.1111111111111111, \"#46039f\"], [0.2222222222222222, \"#7201a8\"], [0.3333333333333333, \"#9c179e\"], [0.4444444444444444, \"#bd3786\"], [0.5555555555555556, \"#d8576b\"], [0.6666666666666666, \"#ed7953\"], [0.7777777777777778, \"#fb9f3a\"], [0.8888888888888888, \"#fdca26\"], [1.0, \"#f0f921\"]], \"type\": \"histogram2d\"}], \"histogram2dcontour\": [{\"colorbar\": {\"outlinewidth\": 0, \"ticks\": \"\"}, \"colorscale\": [[0.0, \"#0d0887\"], [0.1111111111111111, \"#46039f\"], [0.2222222222222222, \"#7201a8\"], [0.3333333333333333, \"#9c179e\"], [0.4444444444444444, \"#bd3786\"], [0.5555555555555556, \"#d8576b\"], [0.6666666666666666, \"#ed7953\"], [0.7777777777777778, \"#fb9f3a\"], [0.8888888888888888, \"#fdca26\"], [1.0, \"#f0f921\"]], \"type\": \"histogram2dcontour\"}], \"mesh3d\": [{\"colorbar\": {\"outlinewidth\": 0, \"ticks\": \"\"}, \"type\": \"mesh3d\"}], \"parcoords\": [{\"line\": {\"colorbar\": {\"outlinewidth\": 0, \"ticks\": \"\"}}, \"type\": \"parcoords\"}], \"pie\": [{\"automargin\": true, \"type\": \"pie\"}], \"scatter\": [{\"marker\": {\"colorbar\": {\"outlinewidth\": 0, \"ticks\": \"\"}}, \"type\": \"scatter\"}], \"scatter3d\": [{\"line\": {\"colorbar\": {\"outlinewidth\": 0, \"ticks\": \"\"}}, \"marker\": {\"colorbar\": {\"outlinewidth\": 0, \"ticks\": \"\"}}, \"type\": \"scatter3d\"}], \"scattercarpet\": [{\"marker\": {\"colorbar\": {\"outlinewidth\": 0, \"ticks\": \"\"}}, \"type\": \"scattercarpet\"}], \"scattergeo\": [{\"marker\": {\"colorbar\": {\"outlinewidth\": 0, \"ticks\": \"\"}}, \"type\": \"scattergeo\"}], \"scattergl\": [{\"marker\": {\"colorbar\": {\"outlinewidth\": 0, \"ticks\": \"\"}}, \"type\": \"scattergl\"}], \"scattermapbox\": [{\"marker\": {\"colorbar\": {\"outlinewidth\": 0, \"ticks\": \"\"}}, \"type\": \"scattermapbox\"}], \"scatterpolar\": [{\"marker\": {\"colorbar\": {\"outlinewidth\": 0, \"ticks\": \"\"}}, \"type\": \"scatterpolar\"}], \"scatterpolargl\": [{\"marker\": {\"colorbar\": {\"outlinewidth\": 0, \"ticks\": \"\"}}, \"type\": \"scatterpolargl\"}], \"scatterternary\": [{\"marker\": {\"colorbar\": {\"outlinewidth\": 0, \"ticks\": \"\"}}, \"type\": \"scatterternary\"}], \"surface\": [{\"colorbar\": {\"outlinewidth\": 0, \"ticks\": \"\"}, \"colorscale\": [[0.0, \"#0d0887\"], [0.1111111111111111, \"#46039f\"], [0.2222222222222222, \"#7201a8\"], [0.3333333333333333, \"#9c179e\"], [0.4444444444444444, \"#bd3786\"], [0.5555555555555556, \"#d8576b\"], [0.6666666666666666, \"#ed7953\"], [0.7777777777777778, \"#fb9f3a\"], [0.8888888888888888, \"#fdca26\"], [1.0, \"#f0f921\"]], \"type\": \"surface\"}], \"table\": [{\"cells\": {\"fill\": {\"color\": \"#EBF0F8\"}, \"line\": {\"color\": \"white\"}}, \"header\": {\"fill\": {\"color\": \"#C8D4E3\"}, \"line\": {\"color\": \"white\"}}, \"type\": \"table\"}]}, \"layout\": {\"annotationdefaults\": {\"arrowcolor\": \"#2a3f5f\", \"arrowhead\": 0, \"arrowwidth\": 1}, \"coloraxis\": {\"colorbar\": {\"outlinewidth\": 0, \"ticks\": \"\"}}, \"colorscale\": {\"diverging\": [[0, \"#8e0152\"], [0.1, \"#c51b7d\"], [0.2, \"#de77ae\"], [0.3, \"#f1b6da\"], [0.4, \"#fde0ef\"], [0.5, \"#f7f7f7\"], [0.6, \"#e6f5d0\"], [0.7, \"#b8e186\"], [0.8, \"#7fbc41\"], [0.9, \"#4d9221\"], [1, \"#276419\"]], \"sequential\": [[0.0, \"#0d0887\"], [0.1111111111111111, \"#46039f\"], [0.2222222222222222, \"#7201a8\"], [0.3333333333333333, \"#9c179e\"], [0.4444444444444444, \"#bd3786\"], [0.5555555555555556, \"#d8576b\"], [0.6666666666666666, \"#ed7953\"], [0.7777777777777778, \"#fb9f3a\"], [0.8888888888888888, \"#fdca26\"], [1.0, \"#f0f921\"]], \"sequentialminus\": [[0.0, \"#0d0887\"], [0.1111111111111111, \"#46039f\"], [0.2222222222222222, \"#7201a8\"], [0.3333333333333333, \"#9c179e\"], [0.4444444444444444, \"#bd3786\"], [0.5555555555555556, \"#d8576b\"], [0.6666666666666666, \"#ed7953\"], [0.7777777777777778, \"#fb9f3a\"], [0.8888888888888888, \"#fdca26\"], [1.0, \"#f0f921\"]]}, \"colorway\": [\"#636efa\", \"#EF553B\", \"#00cc96\", \"#ab63fa\", \"#FFA15A\", \"#19d3f3\", \"#FF6692\", \"#B6E880\", \"#FF97FF\", \"#FECB52\"], \"font\": {\"color\": \"#2a3f5f\"}, \"geo\": {\"bgcolor\": \"white\", \"lakecolor\": \"white\", \"landcolor\": \"white\", \"showlakes\": true, \"showland\": true, \"subunitcolor\": \"#C8D4E3\"}, \"hoverlabel\": {\"align\": \"left\"}, \"hovermode\": \"closest\", \"mapbox\": {\"style\": \"light\"}, \"paper_bgcolor\": \"white\", \"plot_bgcolor\": \"white\", \"polar\": {\"angularaxis\": {\"gridcolor\": \"#EBF0F8\", \"linecolor\": \"#EBF0F8\", \"ticks\": \"\"}, \"bgcolor\": \"white\", \"radialaxis\": {\"gridcolor\": \"#EBF0F8\", \"linecolor\": \"#EBF0F8\", \"ticks\": \"\"}}, \"scene\": {\"xaxis\": {\"backgroundcolor\": \"white\", \"gridcolor\": \"#DFE8F3\", \"gridwidth\": 2, \"linecolor\": \"#EBF0F8\", \"showbackground\": true, \"ticks\": \"\", \"zerolinecolor\": \"#EBF0F8\"}, \"yaxis\": {\"backgroundcolor\": \"white\", \"gridcolor\": \"#DFE8F3\", \"gridwidth\": 2, \"linecolor\": \"#EBF0F8\", \"showbackground\": true, \"ticks\": \"\", \"zerolinecolor\": \"#EBF0F8\"}, \"zaxis\": {\"backgroundcolor\": \"white\", \"gridcolor\": \"#DFE8F3\", \"gridwidth\": 2, \"linecolor\": \"#EBF0F8\", \"showbackground\": true, \"ticks\": \"\", \"zerolinecolor\": \"#EBF0F8\"}}, \"shapedefaults\": {\"line\": {\"color\": \"#2a3f5f\"}}, \"ternary\": {\"aaxis\": {\"gridcolor\": \"#DFE8F3\", \"linecolor\": \"#A2B1C6\", \"ticks\": \"\"}, \"baxis\": {\"gridcolor\": \"#DFE8F3\", \"linecolor\": \"#A2B1C6\", \"ticks\": \"\"}, \"bgcolor\": \"white\", \"caxis\": {\"gridcolor\": \"#DFE8F3\", \"linecolor\": \"#A2B1C6\", \"ticks\": \"\"}}, \"title\": {\"x\": 0.05}, \"xaxis\": {\"automargin\": true, \"gridcolor\": \"#EBF0F8\", \"linecolor\": \"#EBF0F8\", \"ticks\": \"\", \"title\": {\"standoff\": 15}, \"zerolinecolor\": \"#EBF0F8\", \"zerolinewidth\": 2}, \"yaxis\": {\"automargin\": true, \"gridcolor\": \"#EBF0F8\", \"linecolor\": \"#EBF0F8\", \"ticks\": \"\", \"title\": {\"standoff\": 15}, \"zerolinecolor\": \"#EBF0F8\", \"zerolinewidth\": 2}}}, \"width\": 900, \"xaxis\": {\"anchor\": \"y\", \"domain\": [0.0, 1.0], \"linecolor\": \"black\", \"linewidth\": 1, \"matches\": \"x2\", \"showgrid\": false, \"showline\": true, \"showticklabels\": false, \"tickcolor\": \"black\", \"ticklen\": 10, \"ticks\": \"outside\", \"tickwidth\": 1, \"title\": {\"text\": \"\"}, \"zeroline\": false}, \"xaxis2\": {\"anchor\": \"y2\", \"domain\": [0.0, 1.0], \"linecolor\": \"black\", \"linewidth\": 1, \"showgrid\": false, \"showline\": true, \"tickcolor\": \"black\", \"ticklen\": 10, \"ticks\": \"outside\", \"tickwidth\": 1, \"title\": {\"text\": \"Time (s)\"}, \"zeroline\": false}, \"yaxis\": {\"anchor\": \"x\", \"domain\": [0.5349999999999999, 0.9999999999999999], \"linecolor\": \"black\", \"linewidth\": 1, \"showgrid\": false, \"showline\": true, \"tickcolor\": \"black\", \"ticklen\": 10, \"ticks\": \"outside\", \"tickwidth\": 1, \"title\": {\"text\": \"Displacement (ft)\"}, \"zeroline\": false}, \"yaxis2\": {\"anchor\": \"x2\", \"domain\": [0.0, 0.46499999999999997], \"linecolor\": \"black\", \"linewidth\": 1, \"showgrid\": false, \"showline\": true, \"tickcolor\": \"black\", \"ticklen\": 10, \"ticks\": \"outside\", \"tickwidth\": 1, \"title\": {\"text\": \"Heading Angle (deg)\"}, \"zeroline\": false}},\n",
       "                        {\"responsive\": true}\n",
       "                    ).then(function(){\n",
       "                            \n",
       "var gd = document.getElementById('a1607657-c2df-4ec2-ac17-6b7d6d6d11a8');\n",
       "var x = new MutationObserver(function (mutations, observer) {{\n",
       "        var display = window.getComputedStyle(gd).display;\n",
       "        if (!display || display === 'none') {{\n",
       "            console.log([gd, 'removed!']);\n",
       "            Plotly.purge(gd);\n",
       "            observer.disconnect();\n",
       "        }}\n",
       "}});\n",
       "\n",
       "// Listen for the removal of the full notebook cells\n",
       "var notebookContainer = gd.closest('#notebook-container');\n",
       "if (notebookContainer) {{\n",
       "    x.observe(notebookContainer, {childList: true});\n",
       "}}\n",
       "\n",
       "// Listen for the clearing of the current output cell\n",
       "var outputEl = gd.closest('.output');\n",
       "if (outputEl) {{\n",
       "    x.observe(outputEl, {childList: true});\n",
       "}}\n",
       "\n",
       "                        })\n",
       "                };\n",
       "                });\n",
       "            </script>\n",
       "        </div>"
      ]
     },
     "metadata": {},
     "output_type": "display_data"
    },
    {
     "data": {
      "application/vnd.plotly.v1+json": {
       "config": {
        "plotlyServerURL": "https://plot.ly"
       },
       "data": [
        {
         "line": {
          "color": "rgb(0, 255, 0)",
          "width": 2
         },
         "mode": "lines",
         "name": "pycrash - X",
         "type": "scatter",
         "x": [
          0,
          0.1,
          0.2,
          0.3,
          0.4,
          0.5,
          0.6,
          0.7,
          0.8,
          0.9,
          1,
          1.1,
          1.2,
          1.3,
          1.4,
          1.5,
          1.6,
          1.7,
          1.8,
          1.9,
          2,
          2.1,
          2.2,
          2.3,
          2.4,
          2.5,
          2.6,
          2.7,
          2.8,
          2.9,
          3,
          3.1,
          3.2,
          3.3,
          3.4,
          3.5,
          3.6,
          3.7,
          3.8,
          3.9,
          4,
          4.1,
          4.2,
          4.3,
          4.4,
          4.5,
          4.6,
          4.7,
          4.8,
          4.9,
          5,
          5.1,
          5.2,
          5.3,
          5.4,
          5.5,
          5.6,
          5.7,
          5.8,
          5.9,
          6,
          6.1,
          6.2,
          6.3,
          6.4,
          6.5,
          6.6,
          6.7,
          6.8,
          6.9,
          7,
          7.1,
          7.2,
          7.3,
          7.4,
          7.5,
          7.6,
          7.7,
          7.8,
          7.9,
          8,
          8.1,
          8.2,
          8.3,
          8.4,
          8.5,
          8.6,
          8.7,
          8.8,
          8.9,
          9,
          9.1,
          9.2,
          9.3,
          9.4,
          9.5,
          9.6,
          9.7,
          9.8,
          9.9,
          10,
          10.1,
          10.2,
          10.3,
          10.4,
          10.5,
          10.6,
          10.7,
          10.8,
          10.9
         ],
         "xaxis": "x",
         "y": [
          15,
          15,
          15,
          15,
          15,
          15,
          15,
          15,
          15,
          15,
          15,
          14.997658732256314,
          14.985427757064166,
          14.954617917738753,
          14.898725776492071,
          14.810080278918331,
          14.676636001066987,
          14.480846939473853,
          14.200347590374996,
          13.809662438023972,
          13.282421077170609,
          12.653607936940494,
          11.972900937620832,
          11.226649353300925,
          10.389099914813338,
          9.450067596995714,
          8.418983278545426,
          7.318380551193123,
          6.175860687997754,
          5.018408995468512,
          3.869458476530358,
          2.7478395774240725,
          1.6677182121548504,
          0.6389629012795872,
          -0.33230890688549025,
          -1.2430881000121128,
          -2.092770435844692,
          -2.8824395206620275,
          -3.614200673496558,
          -4.290627191627673,
          -4.914356583692631,
          -5.487841938276451,
          -6.013236322578252,
          -6.492373371995159,
          -6.9268053042336355,
          -7.317866324668992,
          -7.6667396256881934,
          -7.974515985550653,
          -8.24223933313227,
          -8.470939159194781,
          -8.661651828338593,
          -8.815433476891341,
          -8.933366990162709,
          -9.01656503803108,
          -9.066170594173563,
          -9.083355897976057,
          -9.069320473516889,
          -9.025288586790651,
          -8.95250637464667,
          -8.852238789886508,
          -8.725766454809824,
          -8.574382484941337,
          -8.399389326152676,
          -8.20209563647948,
          -7.983813235761291,
          -7.745854140336414,
          -7.489527695630716,
          -7.216137816138201,
          -6.926980339713554,
          -6.62334050108656,
          -6.306490527926993,
          -5.977687361535057,
          -5.638170503230679,
          -5.289159986707038,
          -4.931854475956424,
          -4.567429487837597,
          -4.197035737909594,
          -3.8217976077893714,
          -3.442811731985638,
          -3.0611457019077926,
          -2.677836884537895,
          -2.2938913530783114,
          -1.9102829267423114,
          -1.5279523167350817,
          -1.1478063753747174,
          -0.7707174452237546,
          -0.3975228050392806,
          -0.029024209301534966,
          0.3340124819545111,
          0.690857586304276,
          1.0408177984091975,
          1.3832363091218298,
          1.7174928475364388,
          2.0430036492909234,
          2.359221354409093,
          2.6656348379495576,
          2.9617689766993016,
          3.247184355116871,
          3.5214769136924797,
          3.7842775428506434,
          4.03525162547549,
          4.274098531090106,
          4.50055106466938,
          4.714374873011162,
          4.915367811533352,
          5.103359274305165,
          5.278209490059318,
          5.439808786868712,
          5.588076828106302,
          5.722961822240685
         ],
         "yaxis": "y"
        },
        {
         "line": {
          "color": "rgb(0, 255, 0)",
          "dash": "dash",
          "width": 2
         },
         "mode": "lines",
         "name": "validate - X",
         "type": "scatter",
         "x": [
          0,
          0.1,
          0.2,
          0.3,
          0.4,
          0.5,
          0.6,
          0.7,
          0.8,
          0.9,
          1,
          1.1,
          1.2,
          1.3,
          1.4,
          1.5,
          1.6,
          1.7,
          1.8,
          1.9,
          2,
          2.1,
          2.2,
          2.3,
          2.4,
          2.5,
          2.6,
          2.7,
          2.8,
          2.9,
          3,
          3.1,
          3.2,
          3.3,
          3.4,
          3.5,
          3.6,
          3.7,
          3.8,
          3.9,
          4,
          4.1,
          4.2,
          4.3,
          4.4,
          4.5,
          4.6,
          4.7,
          4.8,
          4.9,
          5,
          5.1,
          5.2,
          5.3,
          5.4,
          5.5,
          5.6,
          5.7,
          5.8,
          5.9,
          6,
          6.1,
          6.2,
          6.3,
          6.4,
          6.5,
          6.6,
          6.7,
          6.8,
          6.9,
          7,
          7.1,
          7.2,
          7.3,
          7.4,
          7.5,
          7.6,
          7.7,
          7.8,
          7.9,
          8,
          8.1,
          8.2,
          8.3,
          8.4,
          8.5,
          8.6,
          8.7,
          8.8,
          8.9,
          9,
          9.1,
          9.2,
          9.3,
          9.4,
          9.5,
          9.6,
          9.7,
          9.8,
          9.9,
          10,
          10.1,
          10.2,
          10.3,
          10.4,
          10.5,
          10.6,
          10.7,
          10.8,
          10.9
         ],
         "xaxis": "x",
         "y": [
          15,
          15,
          15,
          15,
          15,
          15,
          15,
          15,
          15,
          15,
          15,
          15,
          14.98,
          14.92,
          14.82,
          14.64,
          14.37,
          13.97,
          13.42,
          12.7,
          11.799999999999999,
          10.77,
          9.69,
          8.56,
          7.39,
          6.19,
          4.97,
          3.74,
          2.51,
          1.3,
          0.11,
          -1.05,
          -2.17,
          -3.24,
          -4.25,
          -5.2,
          -6.09,
          -6.919999999999999,
          -7.66,
          -8.34,
          -8.94,
          -9.45,
          -9.89,
          -10.25,
          -10.53,
          -10.73,
          -10.85,
          -10.9,
          -10.88,
          -10.78,
          -10.61,
          -10.38,
          -10.08,
          -9.73,
          -9.32,
          -8.86,
          -8.35,
          -7.8,
          -7.22,
          -6.6,
          -5.94,
          -5.27,
          -4.57,
          -3.86,
          -3.13,
          -2.4,
          -1.67,
          -0.9299999999999999,
          -0.2,
          0.52,
          1.23,
          1.93,
          2.6,
          3.26,
          3.8899999999999997,
          4.49,
          5.06,
          5.6,
          6.1,
          6.57,
          7.010000000000001,
          7.4,
          7.75,
          8.06,
          8.33,
          8.56,
          8.74,
          8.88,
          8.98,
          9.04,
          9.05,
          9.02,
          8.95,
          8.85,
          8.7,
          8.52,
          8.3,
          8.04,
          7.75,
          7.4399999999999995,
          7.089999999999999,
          6.72,
          6.319999999999999,
          5.890000000000001,
          5.45,
          4.99,
          4.51,
          4.01,
          3.51,
          2.9899999999999998
         ],
         "yaxis": "y"
        },
        {
         "line": {
          "color": "rgb(0, 0, 255)",
          "width": 2
         },
         "mode": "lines",
         "name": "pycrash - Y",
         "type": "scatter",
         "x": [
          0,
          0.1,
          0.2,
          0.3,
          0.4,
          0.5,
          0.6,
          0.7,
          0.8,
          0.9,
          1,
          1.1,
          1.2,
          1.3,
          1.4,
          1.5,
          1.6,
          1.7,
          1.8,
          1.9,
          2,
          2.1,
          2.2,
          2.3,
          2.4,
          2.5,
          2.6,
          2.7,
          2.8,
          2.9,
          3,
          3.1,
          3.2,
          3.3,
          3.4,
          3.5,
          3.6,
          3.7,
          3.8,
          3.9,
          4,
          4.1,
          4.2,
          4.3,
          4.4,
          4.5,
          4.6,
          4.7,
          4.8,
          4.9,
          5,
          5.1,
          5.2,
          5.3,
          5.4,
          5.5,
          5.6,
          5.7,
          5.8,
          5.9,
          6,
          6.1,
          6.2,
          6.3,
          6.4,
          6.5,
          6.6,
          6.7,
          6.8,
          6.9,
          7,
          7.1,
          7.2,
          7.3,
          7.4,
          7.5,
          7.6,
          7.7,
          7.8,
          7.9,
          8,
          8.1,
          8.2,
          8.3,
          8.4,
          8.5,
          8.6,
          8.7,
          8.8,
          8.9,
          9,
          9.1,
          9.2,
          9.3,
          9.4,
          9.5,
          9.6,
          9.7,
          9.8,
          9.9,
          10,
          10.1,
          10.2,
          10.3,
          10.4,
          10.5,
          10.6,
          10.7,
          10.8,
          10.9
         ],
         "xaxis": "x",
         "y": [
          0,
          0,
          0,
          0,
          0,
          0,
          0,
          0,
          0,
          0,
          0,
          -0.06443647665063838,
          -0.252525632606964,
          -0.5375120334529975,
          -0.8871147540532909,
          -1.2922749937732962,
          -1.7616513460734937,
          -2.308098089610743,
          -2.9389510243102213,
          -3.651551205691516,
          -4.432023998042429,
          -5.220357408912524,
          -5.963851251507424,
          -6.668169202990539,
          -7.340814802177303,
          -7.972273061166805,
          -8.54245923232244,
          -9.031150424883542,
          -9.424048123258057,
          -9.714310969260913,
          -9.901623936454193,
          -9.990462713197767,
          -9.988377245857938,
          -9.90456524470161,
          -9.748768837055792,
          -9.530469046116064,
          -9.25835402122005,
          -8.94003714879619,
          -8.58198713508542,
          -8.189614019882239,
          -7.767445778661877,
          -7.319335029355874,
          -6.848651349270104,
          -6.358434736388785,
          -5.851503314302099,
          -5.33052001753175,
          -4.798028364307739,
          -4.256468099273081,
          -3.7081795828970856,
          -3.155403069494313,
          -2.600276511974215,
          -2.0448336917433956,
          -1.4910033267169707,
          -0.9406092067787967,
          -0.3953711553011439,
          0.14309343904801997,
          0.6732677403242048,
          1.1937333898629976,
          1.7031683340706223,
          2.2003446073016737,
          2.684126093222526,
          3.1534662725573623,
          3.6074059580631435,
          4.045071015205286,
          4.465670066809286,
          4.868492180578463,
          5.252904539172049,
          5.6183500932987736,
          5.964345198931971,
          6.290477240284568,
          6.59640224060573,
          6.881842463190698,
          7.146584005247117,
          7.390474387448319,
          7.6134201421368,
          7.81538440322741,
          7.996384500905908,
          8.15648956423048,
          8.295818134726817,
          8.414535794026376,
          8.512852808536419,
          8.591021794053063,
          8.649335403137687,
          8.688124037975193,
          8.707753591322032,
          8.708623218034399,
          8.691163139544216,
          8.655832483523774,
          8.603117160850516,
          8.533527781852188,
          8.447597613680639,
          8.345880580530334,
          8.228949308286078,
          8.097393215053941,
          7.951816648900387,
          7.792837073997638,
          7.621083306248591,
          7.437193799342558,
          7.241814982073794,
          7.035599647638671,
          6.8192053955143175,
          6.593293126412016,
          6.358525590692509,
          6.115565990527863,
          5.865076635995654,
          5.6077176551960495,
          5.344145758390974,
          5.075013056076765,
          4.80096593081793,
          4.522643962589348
         ],
         "yaxis": "y"
        },
        {
         "line": {
          "color": "rgb(0, 0, 255)",
          "dash": "dash",
          "width": 2
         },
         "mode": "lines",
         "name": "validate - Y",
         "type": "scatter",
         "x": [
          0,
          0.1,
          0.2,
          0.3,
          0.4,
          0.5,
          0.6,
          0.7,
          0.8,
          0.9,
          1,
          1.1,
          1.2,
          1.3,
          1.4,
          1.5,
          1.6,
          1.7,
          1.8,
          1.9,
          2,
          2.1,
          2.2,
          2.3,
          2.4,
          2.5,
          2.6,
          2.7,
          2.8,
          2.9,
          3,
          3.1,
          3.2,
          3.3,
          3.4,
          3.5,
          3.6,
          3.7,
          3.8,
          3.9,
          4,
          4.1,
          4.2,
          4.3,
          4.4,
          4.5,
          4.6,
          4.7,
          4.8,
          4.9,
          5,
          5.1,
          5.2,
          5.3,
          5.4,
          5.5,
          5.6,
          5.7,
          5.8,
          5.9,
          6,
          6.1,
          6.2,
          6.3,
          6.4,
          6.5,
          6.6,
          6.7,
          6.8,
          6.9,
          7,
          7.1,
          7.2,
          7.3,
          7.4,
          7.5,
          7.6,
          7.7,
          7.8,
          7.9,
          8,
          8.1,
          8.2,
          8.3,
          8.4,
          8.5,
          8.6,
          8.7,
          8.8,
          8.9,
          9,
          9.1,
          9.2,
          9.3,
          9.4,
          9.5,
          9.6,
          9.7,
          9.8,
          9.9,
          10,
          10.1,
          10.2,
          10.3,
          10.4,
          10.5,
          10.6,
          10.7,
          10.8,
          10.9
         ],
         "xaxis": "x",
         "y": [
          0,
          0,
          0,
          0,
          0,
          0,
          0,
          0,
          0,
          0,
          0,
          -0.12,
          -0.4099999999999999,
          -0.86,
          -1.46,
          -2.22,
          -3.1099999999999994,
          -4.11,
          -5.18,
          -6.3,
          -7.42,
          -8.47,
          -9.4,
          -10.21,
          -10.9,
          -11.459999999999999,
          -11.89,
          -12.2,
          -12.38,
          -12.439999999999998,
          -12.39,
          -12.24,
          -11.980000000000002,
          -11.629999999999999,
          -11.2,
          -10.68,
          -10.09,
          -9.44,
          -8.72,
          -7.960000000000001,
          -7.16,
          -6.309999999999999,
          -5.45,
          -4.56,
          -3.65,
          -2.7400000000000007,
          -1.8200000000000003,
          -0.9100000000000001,
          -0.02,
          0.87,
          1.7299999999999998,
          2.56,
          3.37,
          4.14,
          4.87,
          5.56,
          6.21,
          6.8,
          7.3500000000000005,
          7.85,
          8.29,
          8.68,
          9.01,
          9.29,
          9.51,
          9.67,
          9.78,
          9.84,
          9.84,
          9.78,
          9.68,
          9.52,
          9.32,
          9.07,
          8.78,
          8.44,
          8.07,
          7.66,
          7.21,
          6.74,
          6.239999999999999,
          5.709999999999999,
          5.16,
          4.59,
          4.01,
          3.41,
          2.8,
          2.19,
          1.57,
          0.9499999999999998,
          0.34,
          -0.28,
          -0.88,
          -1.48,
          -2.06,
          -2.63,
          -3.18,
          -3.71,
          -4.22,
          -4.71,
          -5.17,
          -5.61,
          -6.02,
          -6.4,
          -6.749999999999999,
          -7.06,
          -7.3500000000000005,
          -7.599999999999999,
          -7.82,
          -8.01
         ],
         "yaxis": "y"
        },
        {
         "line": {
          "color": "rgb(0, 0, 0)",
          "width": 2
         },
         "mode": "lines",
         "name": "pycrash - slip angle",
         "type": "scatter",
         "x": [
          0,
          0.1,
          0.2,
          0.3,
          0.4,
          0.5,
          0.6,
          0.7,
          0.8,
          0.9,
          1,
          1.1,
          1.2,
          1.3,
          1.4,
          1.5,
          1.6,
          1.7,
          1.8,
          1.9,
          2,
          2.1,
          2.2,
          2.3,
          2.4,
          2.5,
          2.6,
          2.7,
          2.8,
          2.9,
          3,
          3.1,
          3.2,
          3.3,
          3.4,
          3.5,
          3.6,
          3.7,
          3.8,
          3.9,
          4,
          4.1,
          4.2,
          4.3,
          4.4,
          4.5,
          4.6,
          4.7,
          4.8,
          4.9,
          5,
          5.1,
          5.2,
          5.3,
          5.4,
          5.5,
          5.6,
          5.7,
          5.8,
          5.9,
          6,
          6.1,
          6.2,
          6.3,
          6.4,
          6.5,
          6.6,
          6.7,
          6.8,
          6.9,
          7,
          7.1,
          7.2,
          7.3,
          7.4,
          7.5,
          7.6,
          7.7,
          7.8,
          7.9,
          8,
          8.1,
          8.2,
          8.3,
          8.4,
          8.5,
          8.6,
          8.7,
          8.8,
          8.9,
          9,
          9.1,
          9.2,
          9.3,
          9.4,
          9.5,
          9.6,
          9.7,
          9.8,
          9.9,
          10,
          10.1,
          10.2,
          10.3,
          10.4,
          10.5,
          10.6,
          10.7,
          10.8,
          10.9
         ],
         "xaxis": "x2",
         "y": [
          0,
          0,
          0,
          0,
          0,
          0,
          0,
          0,
          0,
          0,
          0,
          0.2461719897709242,
          0.9223748703443174,
          1.8029737362053315,
          2.6210668525118814,
          3.245586461196364,
          3.66454870719314,
          3.9229907619332907,
          4.078898291113731,
          4.1843659746086335,
          4.282509239633333,
          4.17026357828999,
          3.663344161677266,
          2.954003394237047,
          2.3030790870316227,
          1.8665703400287081,
          1.6890633708795266,
          1.7486450165873388,
          1.9968983841064476,
          2.3816121793131,
          2.8560608209864706,
          3.3811931606724914,
          3.925258629724504,
          4.463124292268489,
          4.975923385100781,
          5.450867248469368,
          5.88086426160859,
          6.263743350610574,
          6.601119192946965,
          6.897098511291218,
          7.157061378959953,
          7.3866887711073295,
          7.591307757011933,
          7.775538364188127,
          7.943174628530959,
          8.097217094704513,
          8.239983470004,
          8.373244619888922,
          8.498354422480979,
          8.616358830537827,
          8.728080398488101,
          8.83418033055331,
          8.935202391061916,
          9.031603300728447,
          9.123773605653508,
          9.212052089914362,
          9.296735925629756,
          9.378088040812699,
          9.456342659786413,
          9.53170961264261,
          9.604377781729308,
          9.67451791537995,
          9.742284958976997,
          9.807820006949152,
          9.87125195117413,
          9.93269888295792,
          9.992269292969993,
          10.050063104136044,
          10.106172565427714,
          10.160683029071969,
          10.213673629478196,
          10.265217878840899,
          10.315384191713504,
          10.364236348720075,
          10.41183390786549,
          10.458232570530383,
          10.503484508121282,
          10.547638654431877,
          10.590740968015941,
          10.632834668244936,
          10.673960448199892,
          10.714156667108906,
          10.753459524672913,
          10.791903219311038,
          10.82952009209237,
          10.866340757895774,
          10.902394225146761,
          10.937708005315072,
          10.972308213214543,
          11.006219659023998,
          11.039465932841486,
          11.072069482491997,
          11.104051685228177,
          11.13543291389353,
          11.16623259805591,
          11.19646928056539,
          11.226160669943022,
          11.255323688965241,
          11.283974519771771,
          11.312128645792134,
          11.339800890756992,
          11.367005455034661,
          11.39375594951033,
          11.420065427204978,
          11.445946412812807,
          11.471410930319554,
          11.496470528849514,
          11.521136306875844,
          11.545418934916988,
          11.569328676831349
         ],
         "yaxis": "y2"
        },
        {
         "line": {
          "color": "rgb(0, 0, 0)",
          "dash": "dash",
          "width": 2
         },
         "mode": "lines",
         "name": "validate - slip angle",
         "type": "scatter",
         "x": [
          0,
          0.1,
          0.2,
          0.3,
          0.4,
          0.5,
          0.6,
          0.7,
          0.8,
          0.9,
          1,
          1.1,
          1.2,
          1.3,
          1.4,
          1.5,
          1.6,
          1.7,
          1.8,
          1.9,
          2,
          2.1,
          2.2,
          2.3,
          2.4,
          2.5,
          2.6,
          2.7,
          2.8,
          2.9,
          3,
          3.1,
          3.2,
          3.3,
          3.4,
          3.5,
          3.6,
          3.7,
          3.8,
          3.9,
          4,
          4.1,
          4.2,
          4.3,
          4.4,
          4.5,
          4.6,
          4.7,
          4.8,
          4.9,
          5,
          5.1,
          5.2,
          5.3,
          5.4,
          5.5,
          5.6,
          5.7,
          5.8,
          5.9,
          6,
          6.1,
          6.2,
          6.3,
          6.4,
          6.5,
          6.6,
          6.7,
          6.8,
          6.9,
          7,
          7.1,
          7.2,
          7.3,
          7.4,
          7.5,
          7.6,
          7.7,
          7.8,
          7.9,
          8,
          8.1,
          8.2,
          8.3,
          8.4,
          8.5,
          8.6,
          8.7,
          8.8,
          8.9,
          9,
          9.1,
          9.2,
          9.3,
          9.4,
          9.5,
          9.6,
          9.7,
          9.8,
          9.9,
          10,
          10.1,
          10.2,
          10.3,
          10.4,
          10.5,
          10.6,
          10.7,
          10.8,
          10.9
         ],
         "xaxis": "x2",
         "y": [
          0,
          0,
          0,
          0,
          0,
          0,
          0,
          0,
          0,
          0,
          0,
          0.084587,
          0.531067,
          1.171556,
          1.84823,
          2.545153,
          3.24822,
          3.942141,
          4.562777,
          5.101874,
          5.581144,
          6.021508,
          6.325132,
          6.453797,
          6.454851,
          6.371153,
          6.253842,
          6.125854,
          5.995736,
          5.866808,
          5.740953,
          5.61967,
          5.503944,
          5.394236,
          5.290543,
          5.192439,
          5.099403,
          5.010949,
          4.926594,
          4.84598,
          4.768839,
          4.694902,
          4.623957,
          4.555829,
          4.490318,
          4.427261,
          4.366522,
          4.307944,
          4.251401,
          4.196789,
          4.143989,
          4.0929,
          4.043445,
          3.995526,
          3.949067,
          3.904003,
          3.860259,
          3.81777,
          3.776487,
          3.736345,
          3.697294,
          3.659293,
          3.622289,
          3.586239,
          3.55111,
          3.516858,
          3.483447,
          3.450849,
          3.419028,
          3.387952,
          3.357599,
          3.327937,
          3.298941,
          3.27059,
          3.242857,
          3.215721,
          3.189165,
          3.163164,
          3.1377,
          3.112759,
          3.088321,
          3.064368,
          3.040888,
          3.017863,
          2.99528,
          2.973127,
          2.951388,
          2.93005,
          2.909106,
          2.888539,
          2.86834,
          2.8485,
          2.829007,
          2.80985,
          2.791023,
          2.772515,
          2.754316,
          2.736421,
          2.718819,
          2.701502,
          2.684466,
          2.667701,
          2.651199,
          2.634957,
          2.618965,
          2.603218,
          2.587712,
          2.572438,
          2.557391,
          2.542567
         ],
         "yaxis": "y2"
        }
       ],
       "layout": {
        "autosize": false,
        "font": {
         "color": "black",
         "family": "Arial",
         "size": 14
        },
        "height": 500,
        "legend": {
         "orientation": "h",
         "x": 0.01,
         "xanchor": "left",
         "y": 1.1,
         "yanchor": "top"
        },
        "template": {
         "data": {
          "bar": [
           {
            "error_x": {
             "color": "#2a3f5f"
            },
            "error_y": {
             "color": "#2a3f5f"
            },
            "marker": {
             "line": {
              "color": "white",
              "width": 0.5
             }
            },
            "type": "bar"
           }
          ],
          "barpolar": [
           {
            "marker": {
             "line": {
              "color": "white",
              "width": 0.5
             }
            },
            "type": "barpolar"
           }
          ],
          "carpet": [
           {
            "aaxis": {
             "endlinecolor": "#2a3f5f",
             "gridcolor": "#C8D4E3",
             "linecolor": "#C8D4E3",
             "minorgridcolor": "#C8D4E3",
             "startlinecolor": "#2a3f5f"
            },
            "baxis": {
             "endlinecolor": "#2a3f5f",
             "gridcolor": "#C8D4E3",
             "linecolor": "#C8D4E3",
             "minorgridcolor": "#C8D4E3",
             "startlinecolor": "#2a3f5f"
            },
            "type": "carpet"
           }
          ],
          "choropleth": [
           {
            "colorbar": {
             "outlinewidth": 0,
             "ticks": ""
            },
            "type": "choropleth"
           }
          ],
          "contour": [
           {
            "colorbar": {
             "outlinewidth": 0,
             "ticks": ""
            },
            "colorscale": [
             [
              0,
              "#0d0887"
             ],
             [
              0.1111111111111111,
              "#46039f"
             ],
             [
              0.2222222222222222,
              "#7201a8"
             ],
             [
              0.3333333333333333,
              "#9c179e"
             ],
             [
              0.4444444444444444,
              "#bd3786"
             ],
             [
              0.5555555555555556,
              "#d8576b"
             ],
             [
              0.6666666666666666,
              "#ed7953"
             ],
             [
              0.7777777777777778,
              "#fb9f3a"
             ],
             [
              0.8888888888888888,
              "#fdca26"
             ],
             [
              1,
              "#f0f921"
             ]
            ],
            "type": "contour"
           }
          ],
          "contourcarpet": [
           {
            "colorbar": {
             "outlinewidth": 0,
             "ticks": ""
            },
            "type": "contourcarpet"
           }
          ],
          "heatmap": [
           {
            "colorbar": {
             "outlinewidth": 0,
             "ticks": ""
            },
            "colorscale": [
             [
              0,
              "#0d0887"
             ],
             [
              0.1111111111111111,
              "#46039f"
             ],
             [
              0.2222222222222222,
              "#7201a8"
             ],
             [
              0.3333333333333333,
              "#9c179e"
             ],
             [
              0.4444444444444444,
              "#bd3786"
             ],
             [
              0.5555555555555556,
              "#d8576b"
             ],
             [
              0.6666666666666666,
              "#ed7953"
             ],
             [
              0.7777777777777778,
              "#fb9f3a"
             ],
             [
              0.8888888888888888,
              "#fdca26"
             ],
             [
              1,
              "#f0f921"
             ]
            ],
            "type": "heatmap"
           }
          ],
          "heatmapgl": [
           {
            "colorbar": {
             "outlinewidth": 0,
             "ticks": ""
            },
            "colorscale": [
             [
              0,
              "#0d0887"
             ],
             [
              0.1111111111111111,
              "#46039f"
             ],
             [
              0.2222222222222222,
              "#7201a8"
             ],
             [
              0.3333333333333333,
              "#9c179e"
             ],
             [
              0.4444444444444444,
              "#bd3786"
             ],
             [
              0.5555555555555556,
              "#d8576b"
             ],
             [
              0.6666666666666666,
              "#ed7953"
             ],
             [
              0.7777777777777778,
              "#fb9f3a"
             ],
             [
              0.8888888888888888,
              "#fdca26"
             ],
             [
              1,
              "#f0f921"
             ]
            ],
            "type": "heatmapgl"
           }
          ],
          "histogram": [
           {
            "marker": {
             "colorbar": {
              "outlinewidth": 0,
              "ticks": ""
             }
            },
            "type": "histogram"
           }
          ],
          "histogram2d": [
           {
            "colorbar": {
             "outlinewidth": 0,
             "ticks": ""
            },
            "colorscale": [
             [
              0,
              "#0d0887"
             ],
             [
              0.1111111111111111,
              "#46039f"
             ],
             [
              0.2222222222222222,
              "#7201a8"
             ],
             [
              0.3333333333333333,
              "#9c179e"
             ],
             [
              0.4444444444444444,
              "#bd3786"
             ],
             [
              0.5555555555555556,
              "#d8576b"
             ],
             [
              0.6666666666666666,
              "#ed7953"
             ],
             [
              0.7777777777777778,
              "#fb9f3a"
             ],
             [
              0.8888888888888888,
              "#fdca26"
             ],
             [
              1,
              "#f0f921"
             ]
            ],
            "type": "histogram2d"
           }
          ],
          "histogram2dcontour": [
           {
            "colorbar": {
             "outlinewidth": 0,
             "ticks": ""
            },
            "colorscale": [
             [
              0,
              "#0d0887"
             ],
             [
              0.1111111111111111,
              "#46039f"
             ],
             [
              0.2222222222222222,
              "#7201a8"
             ],
             [
              0.3333333333333333,
              "#9c179e"
             ],
             [
              0.4444444444444444,
              "#bd3786"
             ],
             [
              0.5555555555555556,
              "#d8576b"
             ],
             [
              0.6666666666666666,
              "#ed7953"
             ],
             [
              0.7777777777777778,
              "#fb9f3a"
             ],
             [
              0.8888888888888888,
              "#fdca26"
             ],
             [
              1,
              "#f0f921"
             ]
            ],
            "type": "histogram2dcontour"
           }
          ],
          "mesh3d": [
           {
            "colorbar": {
             "outlinewidth": 0,
             "ticks": ""
            },
            "type": "mesh3d"
           }
          ],
          "parcoords": [
           {
            "line": {
             "colorbar": {
              "outlinewidth": 0,
              "ticks": ""
             }
            },
            "type": "parcoords"
           }
          ],
          "pie": [
           {
            "automargin": true,
            "type": "pie"
           }
          ],
          "scatter": [
           {
            "marker": {
             "colorbar": {
              "outlinewidth": 0,
              "ticks": ""
             }
            },
            "type": "scatter"
           }
          ],
          "scatter3d": [
           {
            "line": {
             "colorbar": {
              "outlinewidth": 0,
              "ticks": ""
             }
            },
            "marker": {
             "colorbar": {
              "outlinewidth": 0,
              "ticks": ""
             }
            },
            "type": "scatter3d"
           }
          ],
          "scattercarpet": [
           {
            "marker": {
             "colorbar": {
              "outlinewidth": 0,
              "ticks": ""
             }
            },
            "type": "scattercarpet"
           }
          ],
          "scattergeo": [
           {
            "marker": {
             "colorbar": {
              "outlinewidth": 0,
              "ticks": ""
             }
            },
            "type": "scattergeo"
           }
          ],
          "scattergl": [
           {
            "marker": {
             "colorbar": {
              "outlinewidth": 0,
              "ticks": ""
             }
            },
            "type": "scattergl"
           }
          ],
          "scattermapbox": [
           {
            "marker": {
             "colorbar": {
              "outlinewidth": 0,
              "ticks": ""
             }
            },
            "type": "scattermapbox"
           }
          ],
          "scatterpolar": [
           {
            "marker": {
             "colorbar": {
              "outlinewidth": 0,
              "ticks": ""
             }
            },
            "type": "scatterpolar"
           }
          ],
          "scatterpolargl": [
           {
            "marker": {
             "colorbar": {
              "outlinewidth": 0,
              "ticks": ""
             }
            },
            "type": "scatterpolargl"
           }
          ],
          "scatterternary": [
           {
            "marker": {
             "colorbar": {
              "outlinewidth": 0,
              "ticks": ""
             }
            },
            "type": "scatterternary"
           }
          ],
          "surface": [
           {
            "colorbar": {
             "outlinewidth": 0,
             "ticks": ""
            },
            "colorscale": [
             [
              0,
              "#0d0887"
             ],
             [
              0.1111111111111111,
              "#46039f"
             ],
             [
              0.2222222222222222,
              "#7201a8"
             ],
             [
              0.3333333333333333,
              "#9c179e"
             ],
             [
              0.4444444444444444,
              "#bd3786"
             ],
             [
              0.5555555555555556,
              "#d8576b"
             ],
             [
              0.6666666666666666,
              "#ed7953"
             ],
             [
              0.7777777777777778,
              "#fb9f3a"
             ],
             [
              0.8888888888888888,
              "#fdca26"
             ],
             [
              1,
              "#f0f921"
             ]
            ],
            "type": "surface"
           }
          ],
          "table": [
           {
            "cells": {
             "fill": {
              "color": "#EBF0F8"
             },
             "line": {
              "color": "white"
             }
            },
            "header": {
             "fill": {
              "color": "#C8D4E3"
             },
             "line": {
              "color": "white"
             }
            },
            "type": "table"
           }
          ]
         },
         "layout": {
          "annotationdefaults": {
           "arrowcolor": "#2a3f5f",
           "arrowhead": 0,
           "arrowwidth": 1
          },
          "coloraxis": {
           "colorbar": {
            "outlinewidth": 0,
            "ticks": ""
           }
          },
          "colorscale": {
           "diverging": [
            [
             0,
             "#8e0152"
            ],
            [
             0.1,
             "#c51b7d"
            ],
            [
             0.2,
             "#de77ae"
            ],
            [
             0.3,
             "#f1b6da"
            ],
            [
             0.4,
             "#fde0ef"
            ],
            [
             0.5,
             "#f7f7f7"
            ],
            [
             0.6,
             "#e6f5d0"
            ],
            [
             0.7,
             "#b8e186"
            ],
            [
             0.8,
             "#7fbc41"
            ],
            [
             0.9,
             "#4d9221"
            ],
            [
             1,
             "#276419"
            ]
           ],
           "sequential": [
            [
             0,
             "#0d0887"
            ],
            [
             0.1111111111111111,
             "#46039f"
            ],
            [
             0.2222222222222222,
             "#7201a8"
            ],
            [
             0.3333333333333333,
             "#9c179e"
            ],
            [
             0.4444444444444444,
             "#bd3786"
            ],
            [
             0.5555555555555556,
             "#d8576b"
            ],
            [
             0.6666666666666666,
             "#ed7953"
            ],
            [
             0.7777777777777778,
             "#fb9f3a"
            ],
            [
             0.8888888888888888,
             "#fdca26"
            ],
            [
             1,
             "#f0f921"
            ]
           ],
           "sequentialminus": [
            [
             0,
             "#0d0887"
            ],
            [
             0.1111111111111111,
             "#46039f"
            ],
            [
             0.2222222222222222,
             "#7201a8"
            ],
            [
             0.3333333333333333,
             "#9c179e"
            ],
            [
             0.4444444444444444,
             "#bd3786"
            ],
            [
             0.5555555555555556,
             "#d8576b"
            ],
            [
             0.6666666666666666,
             "#ed7953"
            ],
            [
             0.7777777777777778,
             "#fb9f3a"
            ],
            [
             0.8888888888888888,
             "#fdca26"
            ],
            [
             1,
             "#f0f921"
            ]
           ]
          },
          "colorway": [
           "#636efa",
           "#EF553B",
           "#00cc96",
           "#ab63fa",
           "#FFA15A",
           "#19d3f3",
           "#FF6692",
           "#B6E880",
           "#FF97FF",
           "#FECB52"
          ],
          "font": {
           "color": "#2a3f5f"
          },
          "geo": {
           "bgcolor": "white",
           "lakecolor": "white",
           "landcolor": "white",
           "showlakes": true,
           "showland": true,
           "subunitcolor": "#C8D4E3"
          },
          "hoverlabel": {
           "align": "left"
          },
          "hovermode": "closest",
          "mapbox": {
           "style": "light"
          },
          "paper_bgcolor": "white",
          "plot_bgcolor": "white",
          "polar": {
           "angularaxis": {
            "gridcolor": "#EBF0F8",
            "linecolor": "#EBF0F8",
            "ticks": ""
           },
           "bgcolor": "white",
           "radialaxis": {
            "gridcolor": "#EBF0F8",
            "linecolor": "#EBF0F8",
            "ticks": ""
           }
          },
          "scene": {
           "xaxis": {
            "backgroundcolor": "white",
            "gridcolor": "#DFE8F3",
            "gridwidth": 2,
            "linecolor": "#EBF0F8",
            "showbackground": true,
            "ticks": "",
            "zerolinecolor": "#EBF0F8"
           },
           "yaxis": {
            "backgroundcolor": "white",
            "gridcolor": "#DFE8F3",
            "gridwidth": 2,
            "linecolor": "#EBF0F8",
            "showbackground": true,
            "ticks": "",
            "zerolinecolor": "#EBF0F8"
           },
           "zaxis": {
            "backgroundcolor": "white",
            "gridcolor": "#DFE8F3",
            "gridwidth": 2,
            "linecolor": "#EBF0F8",
            "showbackground": true,
            "ticks": "",
            "zerolinecolor": "#EBF0F8"
           }
          },
          "shapedefaults": {
           "line": {
            "color": "#2a3f5f"
           }
          },
          "ternary": {
           "aaxis": {
            "gridcolor": "#DFE8F3",
            "linecolor": "#A2B1C6",
            "ticks": ""
           },
           "baxis": {
            "gridcolor": "#DFE8F3",
            "linecolor": "#A2B1C6",
            "ticks": ""
           },
           "bgcolor": "white",
           "caxis": {
            "gridcolor": "#DFE8F3",
            "linecolor": "#A2B1C6",
            "ticks": ""
           }
          },
          "title": {
           "x": 0.05
          },
          "xaxis": {
           "automargin": true,
           "gridcolor": "#EBF0F8",
           "linecolor": "#EBF0F8",
           "ticks": "",
           "title": {
            "standoff": 15
           },
           "zerolinecolor": "#EBF0F8",
           "zerolinewidth": 2
          },
          "yaxis": {
           "automargin": true,
           "gridcolor": "#EBF0F8",
           "linecolor": "#EBF0F8",
           "ticks": "",
           "title": {
            "standoff": 15
           },
           "zerolinecolor": "#EBF0F8",
           "zerolinewidth": 2
          }
         }
        },
        "width": 900,
        "xaxis": {
         "anchor": "y",
         "domain": [
          0,
          1
         ],
         "linecolor": "black",
         "linewidth": 1,
         "matches": "x2",
         "showgrid": false,
         "showline": true,
         "showticklabels": false,
         "tickcolor": "black",
         "ticklen": 10,
         "ticks": "outside",
         "tickwidth": 1,
         "title": {
          "text": ""
         },
         "zeroline": false
        },
        "xaxis2": {
         "anchor": "y2",
         "domain": [
          0,
          1
         ],
         "linecolor": "black",
         "linewidth": 1,
         "showgrid": false,
         "showline": true,
         "tickcolor": "black",
         "ticklen": 10,
         "ticks": "outside",
         "tickwidth": 1,
         "title": {
          "text": "Time (s)"
         },
         "zeroline": false
        },
        "yaxis": {
         "anchor": "x",
         "domain": [
          0.5349999999999999,
          0.9999999999999999
         ],
         "linecolor": "black",
         "linewidth": 1,
         "showgrid": false,
         "showline": true,
         "tickcolor": "black",
         "ticklen": 10,
         "ticks": "outside",
         "tickwidth": 1,
         "title": {
          "text": "Velocity (mph)"
         },
         "zeroline": false
        },
        "yaxis2": {
         "anchor": "x2",
         "domain": [
          0,
          0.46499999999999997
         ],
         "linecolor": "black",
         "linewidth": 1,
         "showgrid": false,
         "showline": true,
         "tickcolor": "black",
         "ticklen": 10,
         "ticks": "outside",
         "tickwidth": 1,
         "title": {
          "text": "Slip Angle (deg)"
         },
         "zeroline": false
        }
       }
      },
      "text/html": [
       "<div>\n",
       "        \n",
       "        \n",
       "            <div id=\"a7592e4c-e311-4f03-9ec0-5fbc47f3e902\" class=\"plotly-graph-div\" style=\"height:500px; width:900px;\"></div>\n",
       "            <script type=\"text/javascript\">\n",
       "                require([\"plotly\"], function(Plotly) {\n",
       "                    window.PLOTLYENV=window.PLOTLYENV || {};\n",
       "                    \n",
       "                if (document.getElementById(\"a7592e4c-e311-4f03-9ec0-5fbc47f3e902\")) {\n",
       "                    Plotly.newPlot(\n",
       "                        'a7592e4c-e311-4f03-9ec0-5fbc47f3e902',\n",
       "                        [{\"line\": {\"color\": \"rgb(0, 255, 0)\", \"width\": 2}, \"mode\": \"lines\", \"name\": \"pycrash - X\", \"type\": \"scatter\", \"x\": [0.0, 0.1, 0.2, 0.3, 0.4, 0.5, 0.6, 0.7, 0.8, 0.9, 1.0, 1.1, 1.2, 1.3, 1.4, 1.5, 1.6, 1.7, 1.8, 1.9, 2.0, 2.1, 2.2, 2.3, 2.4, 2.5, 2.6, 2.7, 2.8, 2.9, 3.0, 3.1, 3.2, 3.3, 3.4, 3.5, 3.6, 3.7, 3.8, 3.9, 4.0, 4.1, 4.2, 4.3, 4.4, 4.5, 4.6, 4.7, 4.8, 4.9, 5.0, 5.1, 5.2, 5.3, 5.4, 5.5, 5.6, 5.7, 5.8, 5.9, 6.0, 6.1, 6.2, 6.3, 6.4, 6.5, 6.6, 6.7, 6.8, 6.9, 7.0, 7.1, 7.2, 7.3, 7.4, 7.5, 7.6, 7.7, 7.8, 7.9, 8.0, 8.1, 8.2, 8.3, 8.4, 8.5, 8.6, 8.7, 8.8, 8.9, 9.0, 9.1, 9.2, 9.3, 9.4, 9.5, 9.6, 9.7, 9.8, 9.9, 10.0, 10.1, 10.2, 10.3, 10.4, 10.5, 10.6, 10.7, 10.8, 10.9], \"xaxis\": \"x\", \"y\": [15.0, 15.0, 15.0, 15.0, 15.0, 15.0, 15.0, 15.0, 15.0, 15.0, 15.0, 14.997658732256314, 14.985427757064166, 14.954617917738753, 14.898725776492071, 14.810080278918331, 14.676636001066987, 14.480846939473853, 14.200347590374996, 13.809662438023972, 13.282421077170609, 12.653607936940494, 11.972900937620832, 11.226649353300925, 10.389099914813338, 9.450067596995714, 8.418983278545426, 7.318380551193123, 6.175860687997754, 5.018408995468512, 3.869458476530358, 2.7478395774240725, 1.6677182121548504, 0.6389629012795872, -0.33230890688549025, -1.2430881000121128, -2.092770435844692, -2.8824395206620275, -3.614200673496558, -4.290627191627673, -4.914356583692631, -5.487841938276451, -6.013236322578252, -6.492373371995159, -6.9268053042336355, -7.317866324668992, -7.6667396256881934, -7.974515985550653, -8.24223933313227, -8.470939159194781, -8.661651828338593, -8.815433476891341, -8.933366990162709, -9.01656503803108, -9.066170594173563, -9.083355897976057, -9.069320473516889, -9.025288586790651, -8.95250637464667, -8.852238789886508, -8.725766454809824, -8.574382484941337, -8.399389326152676, -8.20209563647948, -7.983813235761291, -7.745854140336414, -7.489527695630716, -7.216137816138201, -6.926980339713554, -6.62334050108656, -6.306490527926993, -5.977687361535057, -5.638170503230679, -5.289159986707038, -4.931854475956424, -4.567429487837597, -4.197035737909594, -3.8217976077893714, -3.442811731985638, -3.0611457019077926, -2.677836884537895, -2.2938913530783114, -1.9102829267423114, -1.5279523167350817, -1.1478063753747174, -0.7707174452237546, -0.3975228050392806, -0.029024209301534966, 0.3340124819545111, 0.690857586304276, 1.0408177984091975, 1.3832363091218298, 1.7174928475364388, 2.0430036492909234, 2.359221354409093, 2.6656348379495576, 2.9617689766993016, 3.247184355116871, 3.5214769136924797, 3.7842775428506434, 4.03525162547549, 4.274098531090106, 4.50055106466938, 4.714374873011162, 4.915367811533352, 5.103359274305165, 5.278209490059318, 5.439808786868712, 5.588076828106302, 5.722961822240685], \"yaxis\": \"y\"}, {\"line\": {\"color\": \"rgb(0, 255, 0)\", \"dash\": \"dash\", \"width\": 2}, \"mode\": \"lines\", \"name\": \"validate - X\", \"type\": \"scatter\", \"x\": [0.0, 0.1, 0.2, 0.3, 0.4, 0.5, 0.6, 0.7, 0.8, 0.9, 1.0, 1.1, 1.2, 1.3, 1.4, 1.5, 1.6, 1.7, 1.8, 1.9, 2.0, 2.1, 2.2, 2.3, 2.4, 2.5, 2.6, 2.7, 2.8, 2.9, 3.0, 3.1, 3.2, 3.3, 3.4, 3.5, 3.6, 3.7, 3.8, 3.9, 4.0, 4.1, 4.2, 4.3, 4.4, 4.5, 4.6, 4.7, 4.8, 4.9, 5.0, 5.1, 5.2, 5.3, 5.4, 5.5, 5.6, 5.7, 5.8, 5.9, 6.0, 6.1, 6.2, 6.3, 6.4, 6.5, 6.6, 6.7, 6.8, 6.9, 7.0, 7.1, 7.2, 7.3, 7.4, 7.5, 7.6, 7.7, 7.8, 7.9, 8.0, 8.1, 8.2, 8.3, 8.4, 8.5, 8.6, 8.7, 8.8, 8.9, 9.0, 9.1, 9.2, 9.3, 9.4, 9.5, 9.6, 9.7, 9.8, 9.9, 10.0, 10.1, 10.2, 10.3, 10.4, 10.5, 10.6, 10.7, 10.8, 10.9], \"xaxis\": \"x\", \"y\": [15.0, 15.0, 15.0, 15.0, 15.0, 15.0, 15.0, 15.0, 15.0, 15.0, 15.0, 15.0, 14.98, 14.92, 14.82, 14.64, 14.37, 13.97, 13.42, 12.7, 11.799999999999999, 10.77, 9.69, 8.56, 7.39, 6.19, 4.97, 3.74, 2.51, 1.3, 0.11, -1.05, -2.17, -3.24, -4.25, -5.2, -6.09, -6.919999999999999, -7.66, -8.34, -8.94, -9.45, -9.89, -10.25, -10.53, -10.73, -10.85, -10.9, -10.88, -10.78, -10.61, -10.38, -10.08, -9.73, -9.32, -8.86, -8.35, -7.8, -7.22, -6.6, -5.94, -5.27, -4.57, -3.86, -3.13, -2.4, -1.67, -0.9299999999999999, -0.2, 0.52, 1.23, 1.93, 2.6, 3.26, 3.8899999999999997, 4.49, 5.06, 5.6, 6.1, 6.57, 7.010000000000001, 7.4, 7.75, 8.06, 8.33, 8.56, 8.74, 8.88, 8.98, 9.04, 9.05, 9.02, 8.95, 8.85, 8.7, 8.52, 8.3, 8.04, 7.75, 7.4399999999999995, 7.089999999999999, 6.72, 6.319999999999999, 5.890000000000001, 5.45, 4.99, 4.51, 4.01, 3.51, 2.9899999999999998], \"yaxis\": \"y\"}, {\"line\": {\"color\": \"rgb(0, 0, 255)\", \"width\": 2}, \"mode\": \"lines\", \"name\": \"pycrash - Y\", \"type\": \"scatter\", \"x\": [0.0, 0.1, 0.2, 0.3, 0.4, 0.5, 0.6, 0.7, 0.8, 0.9, 1.0, 1.1, 1.2, 1.3, 1.4, 1.5, 1.6, 1.7, 1.8, 1.9, 2.0, 2.1, 2.2, 2.3, 2.4, 2.5, 2.6, 2.7, 2.8, 2.9, 3.0, 3.1, 3.2, 3.3, 3.4, 3.5, 3.6, 3.7, 3.8, 3.9, 4.0, 4.1, 4.2, 4.3, 4.4, 4.5, 4.6, 4.7, 4.8, 4.9, 5.0, 5.1, 5.2, 5.3, 5.4, 5.5, 5.6, 5.7, 5.8, 5.9, 6.0, 6.1, 6.2, 6.3, 6.4, 6.5, 6.6, 6.7, 6.8, 6.9, 7.0, 7.1, 7.2, 7.3, 7.4, 7.5, 7.6, 7.7, 7.8, 7.9, 8.0, 8.1, 8.2, 8.3, 8.4, 8.5, 8.6, 8.7, 8.8, 8.9, 9.0, 9.1, 9.2, 9.3, 9.4, 9.5, 9.6, 9.7, 9.8, 9.9, 10.0, 10.1, 10.2, 10.3, 10.4, 10.5, 10.6, 10.7, 10.8, 10.9], \"xaxis\": \"x\", \"y\": [0.0, 0.0, 0.0, 0.0, 0.0, 0.0, 0.0, 0.0, 0.0, 0.0, 0.0, -0.06443647665063838, -0.252525632606964, -0.5375120334529975, -0.8871147540532909, -1.2922749937732962, -1.7616513460734937, -2.308098089610743, -2.9389510243102213, -3.651551205691516, -4.432023998042429, -5.220357408912524, -5.963851251507424, -6.668169202990539, -7.340814802177303, -7.972273061166805, -8.54245923232244, -9.031150424883542, -9.424048123258057, -9.714310969260913, -9.901623936454193, -9.990462713197767, -9.988377245857938, -9.90456524470161, -9.748768837055792, -9.530469046116064, -9.25835402122005, -8.94003714879619, -8.58198713508542, -8.189614019882239, -7.767445778661877, -7.319335029355874, -6.848651349270104, -6.358434736388785, -5.851503314302099, -5.33052001753175, -4.798028364307739, -4.256468099273081, -3.7081795828970856, -3.155403069494313, -2.600276511974215, -2.0448336917433956, -1.4910033267169707, -0.9406092067787967, -0.3953711553011439, 0.14309343904801997, 0.6732677403242048, 1.1937333898629976, 1.7031683340706223, 2.2003446073016737, 2.684126093222526, 3.1534662725573623, 3.6074059580631435, 4.045071015205286, 4.465670066809286, 4.868492180578463, 5.252904539172049, 5.6183500932987736, 5.964345198931971, 6.290477240284568, 6.59640224060573, 6.881842463190698, 7.146584005247117, 7.390474387448319, 7.6134201421368, 7.81538440322741, 7.996384500905908, 8.15648956423048, 8.295818134726817, 8.414535794026376, 8.512852808536419, 8.591021794053063, 8.649335403137687, 8.688124037975193, 8.707753591322032, 8.708623218034399, 8.691163139544216, 8.655832483523774, 8.603117160850516, 8.533527781852188, 8.447597613680639, 8.345880580530334, 8.228949308286078, 8.097393215053941, 7.951816648900387, 7.792837073997638, 7.621083306248591, 7.437193799342558, 7.241814982073794, 7.035599647638671, 6.8192053955143175, 6.593293126412016, 6.358525590692509, 6.115565990527863, 5.865076635995654, 5.6077176551960495, 5.344145758390974, 5.075013056076765, 4.80096593081793, 4.522643962589348], \"yaxis\": \"y\"}, {\"line\": {\"color\": \"rgb(0, 0, 255)\", \"dash\": \"dash\", \"width\": 2}, \"mode\": \"lines\", \"name\": \"validate - Y\", \"type\": \"scatter\", \"x\": [0.0, 0.1, 0.2, 0.3, 0.4, 0.5, 0.6, 0.7, 0.8, 0.9, 1.0, 1.1, 1.2, 1.3, 1.4, 1.5, 1.6, 1.7, 1.8, 1.9, 2.0, 2.1, 2.2, 2.3, 2.4, 2.5, 2.6, 2.7, 2.8, 2.9, 3.0, 3.1, 3.2, 3.3, 3.4, 3.5, 3.6, 3.7, 3.8, 3.9, 4.0, 4.1, 4.2, 4.3, 4.4, 4.5, 4.6, 4.7, 4.8, 4.9, 5.0, 5.1, 5.2, 5.3, 5.4, 5.5, 5.6, 5.7, 5.8, 5.9, 6.0, 6.1, 6.2, 6.3, 6.4, 6.5, 6.6, 6.7, 6.8, 6.9, 7.0, 7.1, 7.2, 7.3, 7.4, 7.5, 7.6, 7.7, 7.8, 7.9, 8.0, 8.1, 8.2, 8.3, 8.4, 8.5, 8.6, 8.7, 8.8, 8.9, 9.0, 9.1, 9.2, 9.3, 9.4, 9.5, 9.6, 9.7, 9.8, 9.9, 10.0, 10.1, 10.2, 10.3, 10.4, 10.5, 10.6, 10.7, 10.8, 10.9], \"xaxis\": \"x\", \"y\": [0.0, 0.0, 0.0, 0.0, 0.0, 0.0, 0.0, 0.0, 0.0, 0.0, 0.0, -0.12, -0.4099999999999999, -0.86, -1.46, -2.22, -3.1099999999999994, -4.11, -5.18, -6.3, -7.42, -8.47, -9.4, -10.21, -10.9, -11.459999999999999, -11.89, -12.2, -12.38, -12.439999999999998, -12.39, -12.24, -11.980000000000002, -11.629999999999999, -11.2, -10.68, -10.09, -9.44, -8.72, -7.960000000000001, -7.16, -6.309999999999999, -5.45, -4.56, -3.65, -2.7400000000000007, -1.8200000000000003, -0.9100000000000001, -0.02, 0.87, 1.7299999999999998, 2.56, 3.37, 4.14, 4.87, 5.56, 6.21, 6.8, 7.3500000000000005, 7.85, 8.29, 8.68, 9.01, 9.29, 9.51, 9.67, 9.78, 9.84, 9.84, 9.78, 9.68, 9.52, 9.32, 9.07, 8.78, 8.44, 8.07, 7.66, 7.21, 6.74, 6.239999999999999, 5.709999999999999, 5.16, 4.59, 4.01, 3.41, 2.8, 2.19, 1.57, 0.9499999999999998, 0.34, -0.28, -0.88, -1.48, -2.06, -2.63, -3.18, -3.71, -4.22, -4.71, -5.17, -5.61, -6.02, -6.4, -6.749999999999999, -7.06, -7.3500000000000005, -7.599999999999999, -7.82, -8.01], \"yaxis\": \"y\"}, {\"line\": {\"color\": \"rgb(0, 0, 0)\", \"width\": 2}, \"mode\": \"lines\", \"name\": \"pycrash - slip angle\", \"type\": \"scatter\", \"x\": [0.0, 0.1, 0.2, 0.3, 0.4, 0.5, 0.6, 0.7, 0.8, 0.9, 1.0, 1.1, 1.2, 1.3, 1.4, 1.5, 1.6, 1.7, 1.8, 1.9, 2.0, 2.1, 2.2, 2.3, 2.4, 2.5, 2.6, 2.7, 2.8, 2.9, 3.0, 3.1, 3.2, 3.3, 3.4, 3.5, 3.6, 3.7, 3.8, 3.9, 4.0, 4.1, 4.2, 4.3, 4.4, 4.5, 4.6, 4.7, 4.8, 4.9, 5.0, 5.1, 5.2, 5.3, 5.4, 5.5, 5.6, 5.7, 5.8, 5.9, 6.0, 6.1, 6.2, 6.3, 6.4, 6.5, 6.6, 6.7, 6.8, 6.9, 7.0, 7.1, 7.2, 7.3, 7.4, 7.5, 7.6, 7.7, 7.8, 7.9, 8.0, 8.1, 8.2, 8.3, 8.4, 8.5, 8.6, 8.7, 8.8, 8.9, 9.0, 9.1, 9.2, 9.3, 9.4, 9.5, 9.6, 9.7, 9.8, 9.9, 10.0, 10.1, 10.2, 10.3, 10.4, 10.5, 10.6, 10.7, 10.8, 10.9], \"xaxis\": \"x2\", \"y\": [-0.0, -0.0, -0.0, -0.0, -0.0, -0.0, -0.0, -0.0, -0.0, -0.0, -0.0, 0.2461719897709242, 0.9223748703443174, 1.8029737362053315, 2.6210668525118814, 3.245586461196364, 3.66454870719314, 3.9229907619332907, 4.078898291113731, 4.1843659746086335, 4.282509239633333, 4.17026357828999, 3.663344161677266, 2.954003394237047, 2.3030790870316227, 1.8665703400287081, 1.6890633708795266, 1.7486450165873388, 1.9968983841064476, 2.3816121793131, 2.8560608209864706, 3.3811931606724914, 3.925258629724504, 4.463124292268489, 4.975923385100781, 5.450867248469368, 5.88086426160859, 6.263743350610574, 6.601119192946965, 6.897098511291218, 7.157061378959953, 7.3866887711073295, 7.591307757011933, 7.775538364188127, 7.943174628530959, 8.097217094704513, 8.239983470004, 8.373244619888922, 8.498354422480979, 8.616358830537827, 8.728080398488101, 8.83418033055331, 8.935202391061916, 9.031603300728447, 9.123773605653508, 9.212052089914362, 9.296735925629756, 9.378088040812699, 9.456342659786413, 9.53170961264261, 9.604377781729308, 9.67451791537995, 9.742284958976997, 9.807820006949152, 9.87125195117413, 9.93269888295792, 9.992269292969993, 10.050063104136044, 10.106172565427714, 10.160683029071969, 10.213673629478196, 10.265217878840899, 10.315384191713504, 10.364236348720075, 10.41183390786549, 10.458232570530383, 10.503484508121282, 10.547638654431877, 10.590740968015941, 10.632834668244936, 10.673960448199892, 10.714156667108906, 10.753459524672913, 10.791903219311038, 10.82952009209237, 10.866340757895774, 10.902394225146761, 10.937708005315072, 10.972308213214543, 11.006219659023998, 11.039465932841486, 11.072069482491997, 11.104051685228177, 11.13543291389353, 11.16623259805591, 11.19646928056539, 11.226160669943022, 11.255323688965241, 11.283974519771771, 11.312128645792134, 11.339800890756992, 11.367005455034661, 11.39375594951033, 11.420065427204978, 11.445946412812807, 11.471410930319554, 11.496470528849514, 11.521136306875844, 11.545418934916988, 11.569328676831349], \"yaxis\": \"y2\"}, {\"line\": {\"color\": \"rgb(0, 0, 0)\", \"dash\": \"dash\", \"width\": 2}, \"mode\": \"lines\", \"name\": \"validate - slip angle\", \"type\": \"scatter\", \"x\": [0.0, 0.1, 0.2, 0.3, 0.4, 0.5, 0.6, 0.7, 0.8, 0.9, 1.0, 1.1, 1.2, 1.3, 1.4, 1.5, 1.6, 1.7, 1.8, 1.9, 2.0, 2.1, 2.2, 2.3, 2.4, 2.5, 2.6, 2.7, 2.8, 2.9, 3.0, 3.1, 3.2, 3.3, 3.4, 3.5, 3.6, 3.7, 3.8, 3.9, 4.0, 4.1, 4.2, 4.3, 4.4, 4.5, 4.6, 4.7, 4.8, 4.9, 5.0, 5.1, 5.2, 5.3, 5.4, 5.5, 5.6, 5.7, 5.8, 5.9, 6.0, 6.1, 6.2, 6.3, 6.4, 6.5, 6.6, 6.7, 6.8, 6.9, 7.0, 7.1, 7.2, 7.3, 7.4, 7.5, 7.6, 7.7, 7.8, 7.9, 8.0, 8.1, 8.2, 8.3, 8.4, 8.5, 8.6, 8.7, 8.8, 8.9, 9.0, 9.1, 9.2, 9.3, 9.4, 9.5, 9.6, 9.7, 9.8, 9.9, 10.0, 10.1, 10.2, 10.3, 10.4, 10.5, 10.6, 10.7, 10.8, 10.9], \"xaxis\": \"x2\", \"y\": [0.0, 0.0, 0.0, 0.0, 0.0, 0.0, 0.0, 0.0, 0.0, 0.0, 0.0, 0.084587, 0.531067, 1.171556, 1.84823, 2.545153, 3.24822, 3.942141, 4.562777, 5.101874, 5.581144, 6.021508, 6.325132, 6.453797, 6.454851, 6.371153, 6.253842, 6.125854, 5.995736, 5.866808, 5.740953, 5.61967, 5.503944, 5.394236, 5.290543, 5.192439, 5.099403, 5.010949, 4.926594, 4.84598, 4.768839, 4.694902, 4.623957, 4.555829, 4.490318, 4.427261, 4.366522, 4.307944, 4.251401, 4.196789, 4.143989, 4.0929, 4.043445, 3.995526, 3.949067, 3.904003, 3.860259, 3.81777, 3.776487, 3.736345, 3.697294, 3.659293, 3.622289, 3.586239, 3.55111, 3.516858, 3.483447, 3.450849, 3.419028, 3.387952, 3.357599, 3.327937, 3.298941, 3.27059, 3.242857, 3.215721, 3.189165, 3.163164, 3.1377, 3.112759, 3.088321, 3.064368, 3.040888, 3.017863, 2.99528, 2.973127, 2.951388, 2.93005, 2.909106, 2.888539, 2.86834, 2.8485, 2.829007, 2.80985, 2.791023, 2.772515, 2.754316, 2.736421, 2.718819, 2.701502, 2.684466, 2.667701, 2.651199, 2.634957, 2.618965, 2.603218, 2.587712, 2.572438, 2.557391, 2.542567], \"yaxis\": \"y2\"}],\n",
       "                        {\"autosize\": false, \"font\": {\"color\": \"black\", \"family\": \"Arial\", \"size\": 14}, \"height\": 500, \"legend\": {\"orientation\": \"h\", \"x\": 0.01, \"xanchor\": \"left\", \"y\": 1.1, \"yanchor\": \"top\"}, \"template\": {\"data\": {\"bar\": [{\"error_x\": {\"color\": \"#2a3f5f\"}, \"error_y\": {\"color\": \"#2a3f5f\"}, \"marker\": {\"line\": {\"color\": \"white\", \"width\": 0.5}}, \"type\": \"bar\"}], \"barpolar\": [{\"marker\": {\"line\": {\"color\": \"white\", \"width\": 0.5}}, \"type\": \"barpolar\"}], \"carpet\": [{\"aaxis\": {\"endlinecolor\": \"#2a3f5f\", \"gridcolor\": \"#C8D4E3\", \"linecolor\": \"#C8D4E3\", \"minorgridcolor\": \"#C8D4E3\", \"startlinecolor\": \"#2a3f5f\"}, \"baxis\": {\"endlinecolor\": \"#2a3f5f\", \"gridcolor\": \"#C8D4E3\", \"linecolor\": \"#C8D4E3\", \"minorgridcolor\": \"#C8D4E3\", \"startlinecolor\": \"#2a3f5f\"}, \"type\": \"carpet\"}], \"choropleth\": [{\"colorbar\": {\"outlinewidth\": 0, \"ticks\": \"\"}, \"type\": \"choropleth\"}], \"contour\": [{\"colorbar\": {\"outlinewidth\": 0, \"ticks\": \"\"}, \"colorscale\": [[0.0, \"#0d0887\"], [0.1111111111111111, \"#46039f\"], [0.2222222222222222, \"#7201a8\"], [0.3333333333333333, \"#9c179e\"], [0.4444444444444444, \"#bd3786\"], [0.5555555555555556, \"#d8576b\"], [0.6666666666666666, \"#ed7953\"], [0.7777777777777778, \"#fb9f3a\"], [0.8888888888888888, \"#fdca26\"], [1.0, \"#f0f921\"]], \"type\": \"contour\"}], \"contourcarpet\": [{\"colorbar\": {\"outlinewidth\": 0, \"ticks\": \"\"}, \"type\": \"contourcarpet\"}], \"heatmap\": [{\"colorbar\": {\"outlinewidth\": 0, \"ticks\": \"\"}, \"colorscale\": [[0.0, \"#0d0887\"], [0.1111111111111111, \"#46039f\"], [0.2222222222222222, \"#7201a8\"], [0.3333333333333333, \"#9c179e\"], [0.4444444444444444, \"#bd3786\"], [0.5555555555555556, \"#d8576b\"], [0.6666666666666666, \"#ed7953\"], [0.7777777777777778, \"#fb9f3a\"], [0.8888888888888888, \"#fdca26\"], [1.0, \"#f0f921\"]], \"type\": \"heatmap\"}], \"heatmapgl\": [{\"colorbar\": {\"outlinewidth\": 0, \"ticks\": \"\"}, \"colorscale\": [[0.0, \"#0d0887\"], [0.1111111111111111, \"#46039f\"], [0.2222222222222222, \"#7201a8\"], [0.3333333333333333, \"#9c179e\"], [0.4444444444444444, \"#bd3786\"], [0.5555555555555556, \"#d8576b\"], [0.6666666666666666, \"#ed7953\"], [0.7777777777777778, \"#fb9f3a\"], [0.8888888888888888, \"#fdca26\"], [1.0, \"#f0f921\"]], \"type\": \"heatmapgl\"}], \"histogram\": [{\"marker\": {\"colorbar\": {\"outlinewidth\": 0, \"ticks\": \"\"}}, \"type\": \"histogram\"}], \"histogram2d\": [{\"colorbar\": {\"outlinewidth\": 0, \"ticks\": \"\"}, \"colorscale\": [[0.0, \"#0d0887\"], [0.1111111111111111, \"#46039f\"], [0.2222222222222222, \"#7201a8\"], [0.3333333333333333, \"#9c179e\"], [0.4444444444444444, \"#bd3786\"], [0.5555555555555556, \"#d8576b\"], [0.6666666666666666, \"#ed7953\"], [0.7777777777777778, \"#fb9f3a\"], [0.8888888888888888, \"#fdca26\"], [1.0, \"#f0f921\"]], \"type\": \"histogram2d\"}], \"histogram2dcontour\": [{\"colorbar\": {\"outlinewidth\": 0, \"ticks\": \"\"}, \"colorscale\": [[0.0, \"#0d0887\"], [0.1111111111111111, \"#46039f\"], [0.2222222222222222, \"#7201a8\"], [0.3333333333333333, \"#9c179e\"], [0.4444444444444444, \"#bd3786\"], [0.5555555555555556, \"#d8576b\"], [0.6666666666666666, \"#ed7953\"], [0.7777777777777778, \"#fb9f3a\"], [0.8888888888888888, \"#fdca26\"], [1.0, \"#f0f921\"]], \"type\": \"histogram2dcontour\"}], \"mesh3d\": [{\"colorbar\": {\"outlinewidth\": 0, \"ticks\": \"\"}, \"type\": \"mesh3d\"}], \"parcoords\": [{\"line\": {\"colorbar\": {\"outlinewidth\": 0, \"ticks\": \"\"}}, \"type\": \"parcoords\"}], \"pie\": [{\"automargin\": true, \"type\": \"pie\"}], \"scatter\": [{\"marker\": {\"colorbar\": {\"outlinewidth\": 0, \"ticks\": \"\"}}, \"type\": \"scatter\"}], \"scatter3d\": [{\"line\": {\"colorbar\": {\"outlinewidth\": 0, \"ticks\": \"\"}}, \"marker\": {\"colorbar\": {\"outlinewidth\": 0, \"ticks\": \"\"}}, \"type\": \"scatter3d\"}], \"scattercarpet\": [{\"marker\": {\"colorbar\": {\"outlinewidth\": 0, \"ticks\": \"\"}}, \"type\": \"scattercarpet\"}], \"scattergeo\": [{\"marker\": {\"colorbar\": {\"outlinewidth\": 0, \"ticks\": \"\"}}, \"type\": \"scattergeo\"}], \"scattergl\": [{\"marker\": {\"colorbar\": {\"outlinewidth\": 0, \"ticks\": \"\"}}, \"type\": \"scattergl\"}], \"scattermapbox\": [{\"marker\": {\"colorbar\": {\"outlinewidth\": 0, \"ticks\": \"\"}}, \"type\": \"scattermapbox\"}], \"scatterpolar\": [{\"marker\": {\"colorbar\": {\"outlinewidth\": 0, \"ticks\": \"\"}}, \"type\": \"scatterpolar\"}], \"scatterpolargl\": [{\"marker\": {\"colorbar\": {\"outlinewidth\": 0, \"ticks\": \"\"}}, \"type\": \"scatterpolargl\"}], \"scatterternary\": [{\"marker\": {\"colorbar\": {\"outlinewidth\": 0, \"ticks\": \"\"}}, \"type\": \"scatterternary\"}], \"surface\": [{\"colorbar\": {\"outlinewidth\": 0, \"ticks\": \"\"}, \"colorscale\": [[0.0, \"#0d0887\"], [0.1111111111111111, \"#46039f\"], [0.2222222222222222, \"#7201a8\"], [0.3333333333333333, \"#9c179e\"], [0.4444444444444444, \"#bd3786\"], [0.5555555555555556, \"#d8576b\"], [0.6666666666666666, \"#ed7953\"], [0.7777777777777778, \"#fb9f3a\"], [0.8888888888888888, \"#fdca26\"], [1.0, \"#f0f921\"]], \"type\": \"surface\"}], \"table\": [{\"cells\": {\"fill\": {\"color\": \"#EBF0F8\"}, \"line\": {\"color\": \"white\"}}, \"header\": {\"fill\": {\"color\": \"#C8D4E3\"}, \"line\": {\"color\": \"white\"}}, \"type\": \"table\"}]}, \"layout\": {\"annotationdefaults\": {\"arrowcolor\": \"#2a3f5f\", \"arrowhead\": 0, \"arrowwidth\": 1}, \"coloraxis\": {\"colorbar\": {\"outlinewidth\": 0, \"ticks\": \"\"}}, \"colorscale\": {\"diverging\": [[0, \"#8e0152\"], [0.1, \"#c51b7d\"], [0.2, \"#de77ae\"], [0.3, \"#f1b6da\"], [0.4, \"#fde0ef\"], [0.5, \"#f7f7f7\"], [0.6, \"#e6f5d0\"], [0.7, \"#b8e186\"], [0.8, \"#7fbc41\"], [0.9, \"#4d9221\"], [1, \"#276419\"]], \"sequential\": [[0.0, \"#0d0887\"], [0.1111111111111111, \"#46039f\"], [0.2222222222222222, \"#7201a8\"], [0.3333333333333333, \"#9c179e\"], [0.4444444444444444, \"#bd3786\"], [0.5555555555555556, \"#d8576b\"], [0.6666666666666666, \"#ed7953\"], [0.7777777777777778, \"#fb9f3a\"], [0.8888888888888888, \"#fdca26\"], [1.0, \"#f0f921\"]], \"sequentialminus\": [[0.0, \"#0d0887\"], [0.1111111111111111, \"#46039f\"], [0.2222222222222222, \"#7201a8\"], [0.3333333333333333, \"#9c179e\"], [0.4444444444444444, \"#bd3786\"], [0.5555555555555556, \"#d8576b\"], [0.6666666666666666, \"#ed7953\"], [0.7777777777777778, \"#fb9f3a\"], [0.8888888888888888, \"#fdca26\"], [1.0, \"#f0f921\"]]}, \"colorway\": [\"#636efa\", \"#EF553B\", \"#00cc96\", \"#ab63fa\", \"#FFA15A\", \"#19d3f3\", \"#FF6692\", \"#B6E880\", \"#FF97FF\", \"#FECB52\"], \"font\": {\"color\": \"#2a3f5f\"}, \"geo\": {\"bgcolor\": \"white\", \"lakecolor\": \"white\", \"landcolor\": \"white\", \"showlakes\": true, \"showland\": true, \"subunitcolor\": \"#C8D4E3\"}, \"hoverlabel\": {\"align\": \"left\"}, \"hovermode\": \"closest\", \"mapbox\": {\"style\": \"light\"}, \"paper_bgcolor\": \"white\", \"plot_bgcolor\": \"white\", \"polar\": {\"angularaxis\": {\"gridcolor\": \"#EBF0F8\", \"linecolor\": \"#EBF0F8\", \"ticks\": \"\"}, \"bgcolor\": \"white\", \"radialaxis\": {\"gridcolor\": \"#EBF0F8\", \"linecolor\": \"#EBF0F8\", \"ticks\": \"\"}}, \"scene\": {\"xaxis\": {\"backgroundcolor\": \"white\", \"gridcolor\": \"#DFE8F3\", \"gridwidth\": 2, \"linecolor\": \"#EBF0F8\", \"showbackground\": true, \"ticks\": \"\", \"zerolinecolor\": \"#EBF0F8\"}, \"yaxis\": {\"backgroundcolor\": \"white\", \"gridcolor\": \"#DFE8F3\", \"gridwidth\": 2, \"linecolor\": \"#EBF0F8\", \"showbackground\": true, \"ticks\": \"\", \"zerolinecolor\": \"#EBF0F8\"}, \"zaxis\": {\"backgroundcolor\": \"white\", \"gridcolor\": \"#DFE8F3\", \"gridwidth\": 2, \"linecolor\": \"#EBF0F8\", \"showbackground\": true, \"ticks\": \"\", \"zerolinecolor\": \"#EBF0F8\"}}, \"shapedefaults\": {\"line\": {\"color\": \"#2a3f5f\"}}, \"ternary\": {\"aaxis\": {\"gridcolor\": \"#DFE8F3\", \"linecolor\": \"#A2B1C6\", \"ticks\": \"\"}, \"baxis\": {\"gridcolor\": \"#DFE8F3\", \"linecolor\": \"#A2B1C6\", \"ticks\": \"\"}, \"bgcolor\": \"white\", \"caxis\": {\"gridcolor\": \"#DFE8F3\", \"linecolor\": \"#A2B1C6\", \"ticks\": \"\"}}, \"title\": {\"x\": 0.05}, \"xaxis\": {\"automargin\": true, \"gridcolor\": \"#EBF0F8\", \"linecolor\": \"#EBF0F8\", \"ticks\": \"\", \"title\": {\"standoff\": 15}, \"zerolinecolor\": \"#EBF0F8\", \"zerolinewidth\": 2}, \"yaxis\": {\"automargin\": true, \"gridcolor\": \"#EBF0F8\", \"linecolor\": \"#EBF0F8\", \"ticks\": \"\", \"title\": {\"standoff\": 15}, \"zerolinecolor\": \"#EBF0F8\", \"zerolinewidth\": 2}}}, \"width\": 900, \"xaxis\": {\"anchor\": \"y\", \"domain\": [0.0, 1.0], \"linecolor\": \"black\", \"linewidth\": 1, \"matches\": \"x2\", \"showgrid\": false, \"showline\": true, \"showticklabels\": false, \"tickcolor\": \"black\", \"ticklen\": 10, \"ticks\": \"outside\", \"tickwidth\": 1, \"title\": {\"text\": \"\"}, \"zeroline\": false}, \"xaxis2\": {\"anchor\": \"y2\", \"domain\": [0.0, 1.0], \"linecolor\": \"black\", \"linewidth\": 1, \"showgrid\": false, \"showline\": true, \"tickcolor\": \"black\", \"ticklen\": 10, \"ticks\": \"outside\", \"tickwidth\": 1, \"title\": {\"text\": \"Time (s)\"}, \"zeroline\": false}, \"yaxis\": {\"anchor\": \"x\", \"domain\": [0.5349999999999999, 0.9999999999999999], \"linecolor\": \"black\", \"linewidth\": 1, \"showgrid\": false, \"showline\": true, \"tickcolor\": \"black\", \"ticklen\": 10, \"ticks\": \"outside\", \"tickwidth\": 1, \"title\": {\"text\": \"Velocity (mph)\"}, \"zeroline\": false}, \"yaxis2\": {\"anchor\": \"x2\", \"domain\": [0.0, 0.46499999999999997], \"linecolor\": \"black\", \"linewidth\": 1, \"showgrid\": false, \"showline\": true, \"tickcolor\": \"black\", \"ticklen\": 10, \"ticks\": \"outside\", \"tickwidth\": 1, \"title\": {\"text\": \"Slip Angle (deg)\"}, \"zeroline\": false}},\n",
       "                        {\"responsive\": true}\n",
       "                    ).then(function(){\n",
       "                            \n",
       "var gd = document.getElementById('a7592e4c-e311-4f03-9ec0-5fbc47f3e902');\n",
       "var x = new MutationObserver(function (mutations, observer) {{\n",
       "        var display = window.getComputedStyle(gd).display;\n",
       "        if (!display || display === 'none') {{\n",
       "            console.log([gd, 'removed!']);\n",
       "            Plotly.purge(gd);\n",
       "            observer.disconnect();\n",
       "        }}\n",
       "}});\n",
       "\n",
       "// Listen for the removal of the full notebook cells\n",
       "var notebookContainer = gd.closest('#notebook-container');\n",
       "if (notebookContainer) {{\n",
       "    x.observe(notebookContainer, {childList: true});\n",
       "}}\n",
       "\n",
       "// Listen for the clearing of the current output cell\n",
       "var outputEl = gd.closest('.output');\n",
       "if (outputEl) {{\n",
       "    x.observe(outputEl, {childList: true});\n",
       "}}\n",
       "\n",
       "                        })\n",
       "                };\n",
       "                });\n",
       "            </script>\n",
       "        </div>"
      ]
     },
     "metadata": {},
     "output_type": "display_data"
    },
    {
     "data": {
      "application/vnd.plotly.v1+json": {
       "config": {
        "plotlyServerURL": "https://plot.ly"
       },
       "data": [
        {
         "line": {
          "color": "rgb(0, 0, 255)",
          "width": 2
         },
         "mode": "lines",
         "name": "LF - Pycrash",
         "type": "scatter",
         "x": [
          0,
          0.1,
          0.2,
          0.3,
          0.4,
          0.5,
          0.6,
          0.7,
          0.8,
          0.9,
          1,
          1.1,
          1.2,
          1.3,
          1.4,
          1.5,
          1.6,
          1.7,
          1.8,
          1.9,
          2,
          2.1,
          2.2,
          2.3,
          2.4,
          2.5,
          2.6,
          2.7,
          2.8,
          2.9,
          3,
          3.1,
          3.2,
          3.3,
          3.4,
          3.5,
          3.6,
          3.7,
          3.8,
          3.9,
          4,
          4.1,
          4.2,
          4.3,
          4.4,
          4.5,
          4.6,
          4.7,
          4.8,
          4.9,
          5,
          5.1,
          5.2,
          5.3,
          5.4,
          5.5,
          5.6,
          5.7,
          5.8,
          5.9,
          6,
          6.1,
          6.2,
          6.3,
          6.4,
          6.5,
          6.6,
          6.7,
          6.8,
          6.9,
          7,
          7.1,
          7.2,
          7.3,
          7.4,
          7.5,
          7.6,
          7.7,
          7.8,
          7.9,
          8,
          8.1,
          8.2,
          8.3,
          8.4,
          8.5,
          8.6,
          8.7,
          8.8,
          8.9,
          9,
          9.1,
          9.2,
          9.3,
          9.4,
          9.5,
          9.6,
          9.7,
          9.8,
          9.9,
          10,
          10.1,
          10.2,
          10.3,
          10.4,
          10.5,
          10.6,
          10.7,
          10.8,
          10.9
         ],
         "xaxis": "x",
         "y": [
          0,
          0,
          0,
          0,
          0,
          0,
          0,
          0,
          0,
          0,
          0,
          -96.79897019892593,
          -178.58805788410865,
          -223.93870203580443,
          -251.02924631027042,
          -274.48085048595533,
          -299.74717581934374,
          -326.64932890791937,
          -352.9334315775272,
          -376.3470890868163,
          -395.3881350296712,
          -350.15183777850353,
          -322.4429257871581,
          -316.3962038937999,
          -320.71590516277723,
          -325.25878209629985,
          -325.5305061343407,
          -321.21833662215425,
          -313.5270704232339,
          -303.72739335089125,
          -292.7576969674242,
          -281.24676094731274,
          -269.61712970916165,
          -258.16759440665885,
          -247.12155472715705,
          -236.64818044099917,
          -226.86677113913288,
          -217.8449615617817,
          -209.5990997813317,
          -202.1007152884253,
          -195.28853008226648,
          -189.0828234064355,
          -183.3986273136518,
          -178.15545174171572,
          -173.28287536334176,
          -168.72257799265668,
          -164.42795709301285,
          -160.36248076454564,
          -156.49764288422216,
          -152.81103272722092,
          -149.28474337627873,
          -145.9041615555082,
          -142.65709280531027,
          -139.53314768443332,
          -136.52331708534712,
          -133.61967835327238,
          -130.81518902099933,
          -128.10353799671373,
          -125.47903415043591,
          -122.93651957440429,
          -120.47129975098494,
          -118.07908595696296,
          -115.75594701174255,
          -113.49826843960717,
          -111.30271764155603,
          -109.16621399255253,
          -107.08590300745314,
          -105.05913389470852,
          -103.08343995372223,
          -101.156521376342,
          -99.27623009288673,
          -97.44055636569325,
          -95.64761688359638,
          -93.89564415197007,
          -92.18297700656429,
          -90.50805210658316,
          -88.86939628449636,
          -87.26561964808961,
          -85.6954093452038,
          -84.15752391412667,
          -82.65078815314794,
          -81.1740884516767,
          -79.72636853284084,
          -78.30662556386481,
          -76.91390659595845,
          -75.54730530011864,
          -74.20595896925549,
          -72.88904576051958,
          -71.5957821547139,
          -70.32542061226658,
          -69.07724740751848,
          -67.85058062505004,
          -66.64476830351624,
          -65.45918671397249,
          -64.29323876101952,
          -63.146352496278766,
          -62.01797973474805,
          -60.90759476552273,
          -59.81469314918315,
          -58.73879059488208,
          -57.67942191082491,
          -56.63614002240103,
          -55.60851505276796,
          -54.596133461140916,
          -53.59859723446063,
          -52.615523128501486,
          -51.646541954803666,
          -50.691297910135674,
          -49.749447945457646,
          -48.82066117161426
         ],
         "yaxis": "y"
        },
        {
         "line": {
          "color": "rgb(0, 0, 255)",
          "dash": "dash",
          "width": 2
         },
         "mode": "lines",
         "name": "LF - Validate",
         "type": "scatter",
         "x": [
          0,
          0.1,
          0.2,
          0.3,
          0.4,
          0.5,
          0.6,
          0.7,
          0.8,
          0.9,
          1,
          1.1,
          1.2,
          1.3,
          1.4,
          1.5,
          1.6,
          1.7,
          1.8,
          1.9,
          2,
          2.1,
          2.2,
          2.3,
          2.4,
          2.5,
          2.6,
          2.7,
          2.8,
          2.9,
          3,
          3.1,
          3.2,
          3.3,
          3.4,
          3.5,
          3.6,
          3.7,
          3.8,
          3.9,
          4,
          4.1,
          4.2,
          4.3,
          4.4,
          4.5,
          4.6,
          4.7,
          4.8,
          4.9,
          5,
          5.1,
          5.2,
          5.3,
          5.4,
          5.5,
          5.6,
          5.7,
          5.8,
          5.9,
          6,
          6.1,
          6.2,
          6.3,
          6.4,
          6.5,
          6.6,
          6.7,
          6.8,
          6.9,
          7,
          7.1,
          7.2,
          7.3,
          7.4,
          7.5,
          7.6,
          7.7,
          7.8,
          7.9,
          8,
          8.1,
          8.2,
          8.3,
          8.4,
          8.5,
          8.6,
          8.7,
          8.8,
          8.9,
          9,
          9.1,
          9.2,
          9.3,
          9.4,
          9.5,
          9.6,
          9.7,
          9.8,
          9.9,
          10,
          10.1,
          10.2,
          10.3,
          10.4,
          10.5,
          10.6,
          10.7,
          10.8,
          10.9
         ],
         "xaxis": "x",
         "y": [
          0,
          0,
          0,
          0,
          0,
          0,
          0,
          0,
          0,
          0,
          0,
          -141.514,
          -241.215,
          -341.58,
          -450.384,
          -567.327,
          -692.789,
          -829.8839999999999,
          -987.707,
          -1153.27,
          -1267.636,
          -1188.979,
          -1074.692,
          -993.016,
          -938.7489999999999,
          -902.576,
          -874.752,
          -850.718,
          -828.2199999999999,
          -806.446,
          -785.353,
          -765.1419999999999,
          -745.976,
          -727.915,
          -710.934,
          -694.943,
          -679.847,
          -665.5600000000001,
          -651.9979999999999,
          -639.097,
          -626.807,
          -615.077,
          -603.8670000000001,
          -593.145,
          -582.875,
          -573.028,
          -563.578,
          -554.4989999999999,
          -545.767,
          -537.363,
          -529.266,
          -521.458,
          -513.926,
          -506.65099999999995,
          -499.621,
          -492.824,
          -486.245,
          -479.87600000000003,
          -473.705,
          -467.723,
          -461.91900000000004,
          -456.288,
          -450.82,
          -445.507,
          -440.344,
          -435.32300000000004,
          -430.438,
          -425.684,
          -421.054,
          -416.545,
          -412.15000000000003,
          -407.866,
          -403.688,
          -399.613,
          -395.635,
          -391.75100000000003,
          -387.959,
          -384.25399999999996,
          -380.633,
          -377.094,
          -373.633,
          -370.24800000000005,
          -366.937,
          -363.696,
          -360.52299999999997,
          -357.417,
          -354.375,
          -351.394,
          -348.47299999999996,
          -345.611,
          -342.804,
          -340.053,
          -337.354,
          -334.706,
          -332.108,
          -329.55899999999997,
          -327.05600000000004,
          -324.59900000000005,
          -322.186,
          -319.816,
          -317.488,
          -315.2,
          -312.952,
          -310.742,
          -308.57,
          -306.43399999999997,
          -304.334,
          -302.269,
          -300.23699999999997,
          -298.23699999999997
         ],
         "yaxis": "y"
        },
        {
         "line": {
          "color": "rgb(0, 255, 0)",
          "width": 2
         },
         "mode": "lines",
         "name": "RF - Pycrash",
         "type": "scatter",
         "x": [
          0,
          0.1,
          0.2,
          0.3,
          0.4,
          0.5,
          0.6,
          0.7,
          0.8,
          0.9,
          1,
          1.1,
          1.2,
          1.3,
          1.4,
          1.5,
          1.6,
          1.7,
          1.8,
          1.9,
          2,
          2.1,
          2.2,
          2.3,
          2.4,
          2.5,
          2.6,
          2.7,
          2.8,
          2.9,
          3,
          3.1,
          3.2,
          3.3,
          3.4,
          3.5,
          3.6,
          3.7,
          3.8,
          3.9,
          4,
          4.1,
          4.2,
          4.3,
          4.4,
          4.5,
          4.6,
          4.7,
          4.8,
          4.9,
          5,
          5.1,
          5.2,
          5.3,
          5.4,
          5.5,
          5.6,
          5.7,
          5.8,
          5.9,
          6,
          6.1,
          6.2,
          6.3,
          6.4,
          6.5,
          6.6,
          6.7,
          6.8,
          6.9,
          7,
          7.1,
          7.2,
          7.3,
          7.4,
          7.5,
          7.6,
          7.7,
          7.8,
          7.9,
          8,
          8.1,
          8.2,
          8.3,
          8.4,
          8.5,
          8.6,
          8.7,
          8.8,
          8.9,
          9,
          9.1,
          9.2,
          9.3,
          9.4,
          9.5,
          9.6,
          9.7,
          9.8,
          9.9,
          10,
          10.1,
          10.2,
          10.3,
          10.4,
          10.5,
          10.6,
          10.7,
          10.8,
          10.9
         ],
         "xaxis": "x2",
         "y": [
          0,
          0,
          0,
          0,
          0,
          0,
          0,
          0,
          0,
          0,
          0,
          -96.79897019892593,
          -194.3261131259471,
          -264.14417035392887,
          -314.1710843791108,
          -361.9568797432096,
          -419.20601835781406,
          -489.895126684938,
          -573.3299918144781,
          -666.76785189459,
          -766.7625633192094,
          -761.87904652123,
          -733.0417254708008,
          -734.7337810425753,
          -763.0394090144042,
          -798.5300976767593,
          -825.5518675451025,
          -836.8157299474318,
          -831.8357111364897,
          -813.708737494227,
          -786.5358388726851,
          -754.0606337921201,
          -719.2243283447841,
          -684.1746946996708,
          -650.4102891379656,
          -618.917557928042,
          -590.2708552828251,
          -564.7101521648161,
          -542.214559766624,
          -522.5781261545928,
          -505.4838762936426,
          -490.5682668577706,
          -477.4700009199462,
          -465.8612352450748,
          -455.46295519415685,
          -446.04845644594053,
          -437.4393864090925,
          -429.4981775119144,
          -422.1195826598663,
          -415.2228880301581,
          -408.745492799587,
          -402.63797957289376,
          -396.8605078172614,
          -391.3802578074022,
          -386.1696515062269,
          -381.2051206626122,
          -376.4662474075582,
          -371.9351529543724,
          -367.59605015062857,
          -363.4349050333414,
          -359.4391726728483,
          -355.59758557008576,
          -351.8999808124913,
          -348.3371568863946,
          -344.9007538110234,
          -341.58315195761384,
          -338.3773860347147,
          -335.2770715076571,
          -332.27634129885973,
          -329.36979105115006,
          -326.5524315693461,
          -323.8196473142825,
          -321.16716002793925,
          -318.59099673148,
          -316.0874614687873,
          -313.653110273181,
          -311.2847289198089,
          -308.97931309510346,
          -306.73405067118955,
          -304.54630581978813,
          -302.41360473894883,
          -300.333622798297,
          -298.30417293560237,
          -296.3231951602619,
          -294.3887470385686,
          -292.4989950519759,
          -290.65220673350234,
          -288.8467434993276,
          -287.081054102846,
          -285.3536686472292,
          -283.6631931001328,
          -282.0083042607487,
          -280.38774513509975,
          -278.8003206804381,
          -277.2448938839319,
          -275.72038214461764,
          -274.22575393091046,
          -272.7600256888835,
          -271.322258979102,
          -269.9115578220608,
          -268.5270662342836,
          -267.16796593891974,
          -265.833474236254,
          -264.5228420209463,
          -263.23535193407537,
          -261.9703166391704,
          -260.7270772124181,
          -259.50500163812836,
          -258.3034834013381,
          -257.12194017015963
         ],
         "yaxis": "y2"
        },
        {
         "line": {
          "color": "rgb(0, 255, 0)",
          "dash": "dash",
          "width": 2
         },
         "mode": "lines",
         "name": "RF - Validate",
         "type": "scatter",
         "x": [
          0,
          0.1,
          0.2,
          0.3,
          0.4,
          0.5,
          0.6,
          0.7,
          0.8,
          0.9,
          1,
          1.1,
          1.2,
          1.3,
          1.4,
          1.5,
          1.6,
          1.7,
          1.8,
          1.9,
          2,
          2.1,
          2.2,
          2.3,
          2.4,
          2.5,
          2.6,
          2.7,
          2.8,
          2.9,
          3,
          3.1,
          3.2,
          3.3,
          3.4,
          3.5,
          3.6,
          3.7,
          3.8,
          3.9,
          4,
          4.1,
          4.2,
          4.3,
          4.4,
          4.5,
          4.6,
          4.7,
          4.8,
          4.9,
          5,
          5.1,
          5.2,
          5.3,
          5.4,
          5.5,
          5.6,
          5.7,
          5.8,
          5.9,
          6,
          6.1,
          6.2,
          6.3,
          6.4,
          6.5,
          6.6,
          6.7,
          6.8,
          6.9,
          7,
          7.1,
          7.2,
          7.3,
          7.4,
          7.5,
          7.6,
          7.7,
          7.8,
          7.9,
          8,
          8.1,
          8.2,
          8.3,
          8.4,
          8.5,
          8.6,
          8.7,
          8.8,
          8.9,
          9,
          9.1,
          9.2,
          9.3,
          9.4,
          9.5,
          9.6,
          9.7,
          9.8,
          9.9,
          10,
          10.1,
          10.2,
          10.3,
          10.4,
          10.5,
          10.6,
          10.7,
          10.8,
          10.9
         ],
         "xaxis": "x2",
         "y": [
          0,
          0,
          0,
          0,
          0,
          0,
          0,
          0,
          0,
          0,
          0,
          -185.408,
          -294.30400000000003,
          -369.78499999999997,
          -427.452,
          -472.012,
          -504.997,
          -504.53999999999996,
          -479.558,
          -458.05,
          -440.866,
          -439.827,
          -453.69100000000003,
          -465.039,
          -451.827,
          -444.106,
          -438.554,
          -434.108,
          -430.203,
          -426.497,
          -422.83,
          -419.15599999999995,
          -415.479,
          -411.82,
          -408.196,
          -404.619,
          -401.096,
          -397.632,
          -394.227,
          -390.881,
          -387.594,
          -384.364,
          -381.19199999999995,
          -378.07800000000003,
          -375.019,
          -372.015,
          -369.06600000000003,
          -366.17100000000005,
          -363.328,
          -360.537,
          -357.79699999999997,
          -355.106,
          -352.463,
          -349.86699999999996,
          -347.317,
          -344.813,
          -342.352,
          -339.934,
          -337.55800000000005,
          -335.22200000000004,
          -332.926,
          -330.67,
          -328.45099999999996,
          -326.26899999999995,
          -324.123,
          -322.012,
          -319.935,
          -317.892,
          -315.882,
          -313.90299999999996,
          -311.956,
          -310.03799999999995,
          -308.151,
          -306.29200000000003,
          -304.462,
          -302.65999999999997,
          -300.88399999999996,
          -299.135,
          -297.411,
          -295.713,
          -294.039,
          -292.389,
          -290.762,
          -289.159,
          -287.578,
          -286.019,
          -284.482,
          -282.96500000000003,
          -281.46900000000005,
          -279.994,
          -278.538,
          -277.101,
          -275.683,
          -274.284,
          -272.903,
          -271.539,
          -270.19300000000004,
          -268.864,
          -267.552,
          -266.256,
          -264.976,
          -263.712,
          -262.463,
          -261.229,
          -260.01,
          -258.806,
          -257.616,
          -256.44,
          -255.278,
          -254.129
         ],
         "yaxis": "y2"
        },
        {
         "line": {
          "color": "rgb(153, 0, 204)",
          "width": 2
         },
         "mode": "lines",
         "name": "RR - Pycrash",
         "type": "scatter",
         "x": [
          0,
          0.1,
          0.2,
          0.3,
          0.4,
          0.5,
          0.6,
          0.7,
          0.8,
          0.9,
          1,
          1.1,
          1.2,
          1.3,
          1.4,
          1.5,
          1.6,
          1.7,
          1.8,
          1.9,
          2,
          2.1,
          2.2,
          2.3,
          2.4,
          2.5,
          2.6,
          2.7,
          2.8,
          2.9,
          3,
          3.1,
          3.2,
          3.3,
          3.4,
          3.5,
          3.6,
          3.7,
          3.8,
          3.9,
          4,
          4.1,
          4.2,
          4.3,
          4.4,
          4.5,
          4.6,
          4.7,
          4.8,
          4.9,
          5,
          5.1,
          5.2,
          5.3,
          5.4,
          5.5,
          5.6,
          5.7,
          5.8,
          5.9,
          6,
          6.1,
          6.2,
          6.3,
          6.4,
          6.5,
          6.6,
          6.7,
          6.8,
          6.9,
          7,
          7.1,
          7.2,
          7.3,
          7.4,
          7.5,
          7.6,
          7.7,
          7.8,
          7.9,
          8,
          8.1,
          8.2,
          8.3,
          8.4,
          8.5,
          8.6,
          8.7,
          8.8,
          8.9,
          9,
          9.1,
          9.2,
          9.3,
          9.4,
          9.5,
          9.6,
          9.7,
          9.8,
          9.9,
          10,
          10.1,
          10.2,
          10.3,
          10.4,
          10.5,
          10.6,
          10.7,
          10.8,
          10.9
         ],
         "xaxis": "x3",
         "y": [
          0,
          0,
          0,
          0,
          0,
          0,
          0,
          0,
          0,
          0,
          0,
          0,
          0.6687605403575789,
          1.3805611379866325,
          -1.8648338985612047,
          -13.023045992052742,
          -33.26758286219068,
          -61.669175143728935,
          -96.48513652854885,
          -135.87971197776332,
          -178.17954422449816,
          -221.89479503381392,
          -263.8344387197299,
          -306.38137831693524,
          -347.35871241560545,
          -382.20798398090983,
          -407.50909645972615,
          -422.0451104320622,
          -426.36369523790717,
          -421.9706959869583,
          -410.71710955327757,
          -394.4718933184222,
          -374.980946361077,
          -353.8018240768534,
          -332.25529709292744,
          -311.3826069596099,
          -291.920282764914,
          -274.30509467569277,
          -258.7111030628541,
          -245.10967618918926,
          -233.33795724447538,
          -223.1623072850076,
          -214.3281669672377,
          -206.59341232248886,
          -199.74655424386754,
          -193.61337732794817,
          -188.05612023033916,
          -182.96873253380713,
          -178.2707408079873,
          -173.90125429175166,
          -169.8138535713726,
          -165.97258672924886,
          -162.3490103736196,
          -158.920089668458,
          -155.66674617948675,
          -152.57286563135273,
          -149.6246182727852,
          -146.80998561741188,
          -144.11842152378512,
          -141.54060099493552,
          -139.0682274813866,
          -136.6938806339514,
          -134.41089325189253,
          -132.21325017593415,
          -130.09550421530295,
          -128.0527056006886,
          -126.08034234423326,
          -124.17428949087768,
          -122.33076567924012,
          -120.54629575494405,
          -118.81767842839243,
          -117.14195816291344,
          -115.51640063160298,
          -113.93847120168984,
          -112.40581600094126,
          -110.91624519700186,
          -109.4677181818942,
          -108.0583304035642,
          -106.68630162686358,
          -105.34996543965727,
          -104.0477598472623,
          -102.77821882128343,
          -101.53996468798601,
          -100.33170125733186,
          -99.15220760726595,
          -98.00033244922518,
          -96.8749890105013,
          -95.77515037732863,
          -94.69984524960164,
          -93.64815406417176,
          -92.61920544886678,
          -91.61217297386375,
          -90.62627217093332,
          -89.66075779444098,
          -88.71492130093094,
          -87.78808852667932,
          -86.87961754484297,
          -85.98889668579857,
          -85.11534270599181,
          -84.25839909214085,
          -83.41753448897967,
          -82.59224123991518,
          -81.78203403102651,
          -80.98644862976768,
          -80.2050407105686,
          -79.43738476026876,
          -78.68307305698102,
          -77.94171471657268,
          -77.21293480148265,
          -76.49637348706744
         ],
         "yaxis": "y3"
        },
        {
         "line": {
          "color": "rgb(153, 0, 204)",
          "dash": "dash",
          "width": 2
         },
         "mode": "lines",
         "name": "RR - Validate",
         "type": "scatter",
         "x": [
          0,
          0.1,
          0.2,
          0.3,
          0.4,
          0.5,
          0.6,
          0.7,
          0.8,
          0.9,
          1,
          1.1,
          1.2,
          1.3,
          1.4,
          1.5,
          1.6,
          1.7,
          1.8,
          1.9,
          2,
          2.1,
          2.2,
          2.3,
          2.4,
          2.5,
          2.6,
          2.7,
          2.8,
          2.9,
          3,
          3.1,
          3.2,
          3.3,
          3.4,
          3.5,
          3.6,
          3.7,
          3.8,
          3.9,
          4,
          4.1,
          4.2,
          4.3,
          4.4,
          4.5,
          4.6,
          4.7,
          4.8,
          4.9,
          5,
          5.1,
          5.2,
          5.3,
          5.4,
          5.5,
          5.6,
          5.7,
          5.8,
          5.9,
          6,
          6.1,
          6.2,
          6.3,
          6.4,
          6.5,
          6.6,
          6.7,
          6.8,
          6.9,
          7,
          7.1,
          7.2,
          7.3,
          7.4,
          7.5,
          7.6,
          7.7,
          7.8,
          7.9,
          8,
          8.1,
          8.2,
          8.3,
          8.4,
          8.5,
          8.6,
          8.7,
          8.8,
          8.9,
          9,
          9.1,
          9.2,
          9.3,
          9.4,
          9.5,
          9.6,
          9.7,
          9.8,
          9.9,
          10,
          10.1,
          10.2,
          10.3,
          10.4,
          10.5,
          10.6,
          10.7,
          10.8,
          10.9
         ],
         "xaxis": "x3",
         "y": [
          0,
          0,
          0,
          0,
          0,
          0,
          0,
          0,
          0,
          0,
          0,
          1.2049999999999998,
          -2.83,
          -35.617000000000004,
          -63.495,
          -88.541,
          -108.7,
          -123.605,
          -133.206,
          -135.905,
          -134.152,
          -143.161,
          -166.136,
          -184.367,
          -195.416,
          -200.251,
          -201.481,
          -201.35500000000002,
          -200.936,
          -200.533,
          -200.13500000000002,
          -199.666,
          -199.08,
          -198.374,
          -197.56699999999998,
          -196.688,
          -195.759,
          -194.793,
          -193.801,
          -192.78699999999998,
          -191.756,
          -190.71099999999998,
          -189.65699999999998,
          -188.595,
          -187.529,
          -186.46099999999998,
          -185.392,
          -184.325,
          -183.261,
          -182.201,
          -181.14600000000002,
          -180.098,
          -179.05599999999998,
          -178.02200000000002,
          -176.99599999999998,
          -175.97899999999998,
          -174.97099999999998,
          -173.97199999999998,
          -172.982,
          -172.00199999999998,
          -171.033,
          -170.073,
          -169.123,
          -168.184,
          -167.255,
          -166.336,
          -165.428,
          -164.529,
          -163.64100000000002,
          -162.76299999999998,
          -161.895,
          -161.037,
          -160.189,
          -159.35,
          -158.522,
          -157.703,
          -156.893,
          -156.09300000000002,
          -155.302,
          -154.51999999999998,
          -153.748,
          -152.984,
          -152.229,
          -151.483,
          -150.74499999999998,
          -150.01600000000002,
          -149.29500000000002,
          -148.582,
          -147.877,
          -147.18,
          -146.491,
          -145.81,
          -145.136,
          -144.47,
          -143.811,
          -143.16,
          -142.51500000000001,
          -141.87800000000001,
          -141.24800000000002,
          -140.624,
          -140.007,
          -139.397,
          -138.793,
          -138.19600000000003,
          -137.60500000000002,
          -137.02,
          -136.441,
          -135.868,
          -135.30100000000002,
          -134.74099999999999
         ],
         "yaxis": "y3"
        },
        {
         "line": {
          "color": "rgb(255, 102, 0)",
          "width": 2
         },
         "mode": "lines",
         "name": "LR - Pycrash",
         "type": "scatter",
         "x": [
          0,
          0.1,
          0.2,
          0.3,
          0.4,
          0.5,
          0.6,
          0.7,
          0.8,
          0.9,
          1,
          1.1,
          1.2,
          1.3,
          1.4,
          1.5,
          1.6,
          1.7,
          1.8,
          1.9,
          2,
          2.1,
          2.2,
          2.3,
          2.4,
          2.5,
          2.6,
          2.7,
          2.8,
          2.9,
          3,
          3.1,
          3.2,
          3.3,
          3.4,
          3.5,
          3.6,
          3.7,
          3.8,
          3.9,
          4,
          4.1,
          4.2,
          4.3,
          4.4,
          4.5,
          4.6,
          4.7,
          4.8,
          4.9,
          5,
          5.1,
          5.2,
          5.3,
          5.4,
          5.5,
          5.6,
          5.7,
          5.8,
          5.9,
          6,
          6.1,
          6.2,
          6.3,
          6.4,
          6.5,
          6.6,
          6.7,
          6.8,
          6.9,
          7,
          7.1,
          7.2,
          7.3,
          7.4,
          7.5,
          7.6,
          7.7,
          7.8,
          7.9,
          8,
          8.1,
          8.2,
          8.3,
          8.4,
          8.5,
          8.6,
          8.7,
          8.8,
          8.9,
          9,
          9.1,
          9.2,
          9.3,
          9.4,
          9.5,
          9.6,
          9.7,
          9.8,
          9.9,
          10,
          10.1,
          10.2,
          10.3,
          10.4,
          10.5,
          10.6,
          10.7,
          10.8,
          10.9
         ],
         "xaxis": "x4",
         "y": [
          0,
          0,
          0,
          0,
          0,
          0,
          0,
          0,
          0,
          0,
          0,
          0,
          0.6147021985202646,
          1.1733233471714204,
          -1.5057605681441821,
          -10.120047967047247,
          -24.76790502309398,
          -43.39593364477646,
          -63.204102633982664,
          -81.75375609700717,
          -97.39150590461982,
          -109.20826778230246,
          -129.76257955640864,
          -150.71890292879257,
          -165.6035661501101,
          -173.30292178313866,
          -176.00647463605617,
          -176.3153876575045,
          -175.8206654478496,
          -175.064625470562,
          -173.99704383262002,
          -172.39079278909938,
          -170.0753797451307,
          -167.01924855921354,
          -163.32420022784396,
          -159.1805073665499,
          -154.81230418435743,
          -150.43015685841704,
          -146.19961340670545,
          -142.2281069210858,
          -138.56735213767675,
          -135.22532385371323,
          -132.18155042891536,
          -129.40109507741187,
          -126.84491158363099,
          -124.4761835856343,
          -122.26335871664855,
          -120.18095145580598,
          -118.20909947459869,
          -116.3325889129082,
          -114.53978400412174,
          -112.82167932105449,
          -111.17115228956935,
          -109.5824162802748,
          -108.05064048685644,
          -106.5716941632508,
          -105.14197682444664,
          -103.75830469886604,
          -102.41783268858461,
          -101.11799842778039,
          -99.8564802576352,
          -98.63116430477737,
          -97.44011785566215,
          -96.28156734522592,
          -95.15387989171613,
          -94.05554764729877,
          -92.98517443045507,
          -91.94146423077311,
          -90.92321126321735,
          -89.9292913132932,
          -88.9586541644935,
          -88.01031693902081,
          -87.08335821429618,
          -86.17691280276824,
          -85.29016710228831,
          -84.42235493996098,
          -83.57275384486624,
          -82.74068169514841,
          -81.92549369322248,
          -81.12657962966315,
          -80.343361401993,
          -79.57529075929615,
          -78.8218472475312,
          -78.08253633373533,
          -77.3568876901248,
          -76.64445362148932,
          -75.94480762131907,
          -75.25754304385784,
          -74.58227188077993,
          -73.9186236324934,
          -73.2662442651989,
          -72.62479524581444,
          -71.99395264773483,
          -71.37340632113876,
          -70.76285912221715,
          -70.16202619627289,
          -69.57063431014866,
          -68.98842122989383,
          -68.41513513997583,
          -67.85053410069875,
          -67.2943855408045,
          -66.74646578251314,
          -66.2065595965108,
          -65.6744597846161,
          -65.14996678805896,
          -64.63288831948499,
          -64.12303901696261,
          -63.62024011841463,
          -63.124319155030136,
          -62.63510966233121
         ],
         "yaxis": "y4"
        },
        {
         "line": {
          "color": "rgb(255, 102, 0)",
          "dash": "dash",
          "width": 2
         },
         "mode": "lines",
         "name": "LR - Validate",
         "type": "scatter",
         "x": [
          0,
          0.1,
          0.2,
          0.3,
          0.4,
          0.5,
          0.6,
          0.7,
          0.8,
          0.9,
          1,
          1.1,
          1.2,
          1.3,
          1.4,
          1.5,
          1.6,
          1.7,
          1.8,
          1.9,
          2,
          2.1,
          2.2,
          2.3,
          2.4,
          2.5,
          2.6,
          2.7,
          2.8,
          2.9,
          3,
          3.1,
          3.2,
          3.3,
          3.4,
          3.5,
          3.6,
          3.7,
          3.8,
          3.9,
          4,
          4.1,
          4.2,
          4.3,
          4.4,
          4.5,
          4.6,
          4.7,
          4.8,
          4.9,
          5,
          5.1,
          5.2,
          5.3,
          5.4,
          5.5,
          5.6,
          5.7,
          5.8,
          5.9,
          6,
          6.1,
          6.2,
          6.3,
          6.4,
          6.5,
          6.6,
          6.7,
          6.8,
          6.9,
          7,
          7.1,
          7.2,
          7.3,
          7.4,
          7.5,
          7.6,
          7.7,
          7.8,
          7.9,
          8,
          8.1,
          8.2,
          8.3,
          8.4,
          8.5,
          8.6,
          8.7,
          8.8,
          8.9,
          9,
          9.1,
          9.2,
          9.3,
          9.4,
          9.5,
          9.6,
          9.7,
          9.8,
          9.9,
          10,
          10.1,
          10.2,
          10.3,
          10.4,
          10.5,
          10.6,
          10.7,
          10.8,
          10.9
         ],
         "xaxis": "x4",
         "y": [
          0,
          0,
          0,
          0,
          0,
          0,
          0,
          0,
          0,
          0,
          0,
          1.2730000000000001,
          -3.763,
          -50.338,
          -100.22300000000001,
          -155.095,
          -211.581,
          -268.129,
          -319.84299999999996,
          -363.83500000000004,
          -402.092,
          -439.50800000000004,
          -465.912,
          -473.837,
          -470.66400000000004,
          -461.106,
          -449.522,
          -437.739,
          -426.236,
          -415.071,
          -404.27200000000005,
          -393.906,
          -384.038,
          -374.709,
          -365.926,
          -357.65799999999996,
          -349.862,
          -342.49600000000004,
          -335.51300000000003,
          -328.878,
          -322.564,
          -316.542,
          -310.79200000000003,
          -305.29499999999996,
          -300.03400000000005,
          -294.99199999999996,
          -290.156,
          -285.511,
          -281.045,
          -276.75,
          -272.612,
          -268.62399999999997,
          -264.777,
          -261.063,
          -257.474,
          -254.00499999999997,
          -250.64799999999997,
          -247.399,
          -244.251,
          -241.19899999999998,
          -238.24,
          -235.368,
          -232.58,
          -229.87099999999998,
          -227.239,
          -224.679,
          -222.189,
          -219.765,
          -217.405,
          -215.107,
          -212.867,
          -210.68300000000002,
          -208.553,
          -206.476,
          -204.44799999999998,
          -202.46800000000002,
          -200.535,
          -198.646,
          -196.8,
          -194.996,
          -193.232,
          -191.506,
          -189.817,
          -188.165,
          -186.547,
          -184.963,
          -183.411,
          -181.891,
          -180.401,
          -178.941,
          -177.51,
          -176.10600000000002,
          -174.72899999999998,
          -173.37800000000001,
          -172.05200000000002,
          -170.75099999999998,
          -169.47400000000002,
          -168.22,
          -166.988,
          -165.779,
          -164.58999999999997,
          -163.42200000000003,
          -162.274,
          -161.14600000000002,
          -160.037,
          -158.946,
          -157.874,
          -156.818,
          -155.78,
          -154.75900000000001
         ],
         "yaxis": "y4"
        }
       ],
       "layout": {
        "autosize": false,
        "font": {
         "color": "black",
         "family": "Arial",
         "size": 14
        },
        "height": 900,
        "legend": {
         "orientation": "h",
         "x": 0.01,
         "xanchor": "left",
         "y": 1.1,
         "yanchor": "top"
        },
        "template": {
         "data": {
          "bar": [
           {
            "error_x": {
             "color": "#2a3f5f"
            },
            "error_y": {
             "color": "#2a3f5f"
            },
            "marker": {
             "line": {
              "color": "white",
              "width": 0.5
             }
            },
            "type": "bar"
           }
          ],
          "barpolar": [
           {
            "marker": {
             "line": {
              "color": "white",
              "width": 0.5
             }
            },
            "type": "barpolar"
           }
          ],
          "carpet": [
           {
            "aaxis": {
             "endlinecolor": "#2a3f5f",
             "gridcolor": "#C8D4E3",
             "linecolor": "#C8D4E3",
             "minorgridcolor": "#C8D4E3",
             "startlinecolor": "#2a3f5f"
            },
            "baxis": {
             "endlinecolor": "#2a3f5f",
             "gridcolor": "#C8D4E3",
             "linecolor": "#C8D4E3",
             "minorgridcolor": "#C8D4E3",
             "startlinecolor": "#2a3f5f"
            },
            "type": "carpet"
           }
          ],
          "choropleth": [
           {
            "colorbar": {
             "outlinewidth": 0,
             "ticks": ""
            },
            "type": "choropleth"
           }
          ],
          "contour": [
           {
            "colorbar": {
             "outlinewidth": 0,
             "ticks": ""
            },
            "colorscale": [
             [
              0,
              "#0d0887"
             ],
             [
              0.1111111111111111,
              "#46039f"
             ],
             [
              0.2222222222222222,
              "#7201a8"
             ],
             [
              0.3333333333333333,
              "#9c179e"
             ],
             [
              0.4444444444444444,
              "#bd3786"
             ],
             [
              0.5555555555555556,
              "#d8576b"
             ],
             [
              0.6666666666666666,
              "#ed7953"
             ],
             [
              0.7777777777777778,
              "#fb9f3a"
             ],
             [
              0.8888888888888888,
              "#fdca26"
             ],
             [
              1,
              "#f0f921"
             ]
            ],
            "type": "contour"
           }
          ],
          "contourcarpet": [
           {
            "colorbar": {
             "outlinewidth": 0,
             "ticks": ""
            },
            "type": "contourcarpet"
           }
          ],
          "heatmap": [
           {
            "colorbar": {
             "outlinewidth": 0,
             "ticks": ""
            },
            "colorscale": [
             [
              0,
              "#0d0887"
             ],
             [
              0.1111111111111111,
              "#46039f"
             ],
             [
              0.2222222222222222,
              "#7201a8"
             ],
             [
              0.3333333333333333,
              "#9c179e"
             ],
             [
              0.4444444444444444,
              "#bd3786"
             ],
             [
              0.5555555555555556,
              "#d8576b"
             ],
             [
              0.6666666666666666,
              "#ed7953"
             ],
             [
              0.7777777777777778,
              "#fb9f3a"
             ],
             [
              0.8888888888888888,
              "#fdca26"
             ],
             [
              1,
              "#f0f921"
             ]
            ],
            "type": "heatmap"
           }
          ],
          "heatmapgl": [
           {
            "colorbar": {
             "outlinewidth": 0,
             "ticks": ""
            },
            "colorscale": [
             [
              0,
              "#0d0887"
             ],
             [
              0.1111111111111111,
              "#46039f"
             ],
             [
              0.2222222222222222,
              "#7201a8"
             ],
             [
              0.3333333333333333,
              "#9c179e"
             ],
             [
              0.4444444444444444,
              "#bd3786"
             ],
             [
              0.5555555555555556,
              "#d8576b"
             ],
             [
              0.6666666666666666,
              "#ed7953"
             ],
             [
              0.7777777777777778,
              "#fb9f3a"
             ],
             [
              0.8888888888888888,
              "#fdca26"
             ],
             [
              1,
              "#f0f921"
             ]
            ],
            "type": "heatmapgl"
           }
          ],
          "histogram": [
           {
            "marker": {
             "colorbar": {
              "outlinewidth": 0,
              "ticks": ""
             }
            },
            "type": "histogram"
           }
          ],
          "histogram2d": [
           {
            "colorbar": {
             "outlinewidth": 0,
             "ticks": ""
            },
            "colorscale": [
             [
              0,
              "#0d0887"
             ],
             [
              0.1111111111111111,
              "#46039f"
             ],
             [
              0.2222222222222222,
              "#7201a8"
             ],
             [
              0.3333333333333333,
              "#9c179e"
             ],
             [
              0.4444444444444444,
              "#bd3786"
             ],
             [
              0.5555555555555556,
              "#d8576b"
             ],
             [
              0.6666666666666666,
              "#ed7953"
             ],
             [
              0.7777777777777778,
              "#fb9f3a"
             ],
             [
              0.8888888888888888,
              "#fdca26"
             ],
             [
              1,
              "#f0f921"
             ]
            ],
            "type": "histogram2d"
           }
          ],
          "histogram2dcontour": [
           {
            "colorbar": {
             "outlinewidth": 0,
             "ticks": ""
            },
            "colorscale": [
             [
              0,
              "#0d0887"
             ],
             [
              0.1111111111111111,
              "#46039f"
             ],
             [
              0.2222222222222222,
              "#7201a8"
             ],
             [
              0.3333333333333333,
              "#9c179e"
             ],
             [
              0.4444444444444444,
              "#bd3786"
             ],
             [
              0.5555555555555556,
              "#d8576b"
             ],
             [
              0.6666666666666666,
              "#ed7953"
             ],
             [
              0.7777777777777778,
              "#fb9f3a"
             ],
             [
              0.8888888888888888,
              "#fdca26"
             ],
             [
              1,
              "#f0f921"
             ]
            ],
            "type": "histogram2dcontour"
           }
          ],
          "mesh3d": [
           {
            "colorbar": {
             "outlinewidth": 0,
             "ticks": ""
            },
            "type": "mesh3d"
           }
          ],
          "parcoords": [
           {
            "line": {
             "colorbar": {
              "outlinewidth": 0,
              "ticks": ""
             }
            },
            "type": "parcoords"
           }
          ],
          "pie": [
           {
            "automargin": true,
            "type": "pie"
           }
          ],
          "scatter": [
           {
            "marker": {
             "colorbar": {
              "outlinewidth": 0,
              "ticks": ""
             }
            },
            "type": "scatter"
           }
          ],
          "scatter3d": [
           {
            "line": {
             "colorbar": {
              "outlinewidth": 0,
              "ticks": ""
             }
            },
            "marker": {
             "colorbar": {
              "outlinewidth": 0,
              "ticks": ""
             }
            },
            "type": "scatter3d"
           }
          ],
          "scattercarpet": [
           {
            "marker": {
             "colorbar": {
              "outlinewidth": 0,
              "ticks": ""
             }
            },
            "type": "scattercarpet"
           }
          ],
          "scattergeo": [
           {
            "marker": {
             "colorbar": {
              "outlinewidth": 0,
              "ticks": ""
             }
            },
            "type": "scattergeo"
           }
          ],
          "scattergl": [
           {
            "marker": {
             "colorbar": {
              "outlinewidth": 0,
              "ticks": ""
             }
            },
            "type": "scattergl"
           }
          ],
          "scattermapbox": [
           {
            "marker": {
             "colorbar": {
              "outlinewidth": 0,
              "ticks": ""
             }
            },
            "type": "scattermapbox"
           }
          ],
          "scatterpolar": [
           {
            "marker": {
             "colorbar": {
              "outlinewidth": 0,
              "ticks": ""
             }
            },
            "type": "scatterpolar"
           }
          ],
          "scatterpolargl": [
           {
            "marker": {
             "colorbar": {
              "outlinewidth": 0,
              "ticks": ""
             }
            },
            "type": "scatterpolargl"
           }
          ],
          "scatterternary": [
           {
            "marker": {
             "colorbar": {
              "outlinewidth": 0,
              "ticks": ""
             }
            },
            "type": "scatterternary"
           }
          ],
          "surface": [
           {
            "colorbar": {
             "outlinewidth": 0,
             "ticks": ""
            },
            "colorscale": [
             [
              0,
              "#0d0887"
             ],
             [
              0.1111111111111111,
              "#46039f"
             ],
             [
              0.2222222222222222,
              "#7201a8"
             ],
             [
              0.3333333333333333,
              "#9c179e"
             ],
             [
              0.4444444444444444,
              "#bd3786"
             ],
             [
              0.5555555555555556,
              "#d8576b"
             ],
             [
              0.6666666666666666,
              "#ed7953"
             ],
             [
              0.7777777777777778,
              "#fb9f3a"
             ],
             [
              0.8888888888888888,
              "#fdca26"
             ],
             [
              1,
              "#f0f921"
             ]
            ],
            "type": "surface"
           }
          ],
          "table": [
           {
            "cells": {
             "fill": {
              "color": "#EBF0F8"
             },
             "line": {
              "color": "white"
             }
            },
            "header": {
             "fill": {
              "color": "#C8D4E3"
             },
             "line": {
              "color": "white"
             }
            },
            "type": "table"
           }
          ]
         },
         "layout": {
          "annotationdefaults": {
           "arrowcolor": "#2a3f5f",
           "arrowhead": 0,
           "arrowwidth": 1
          },
          "coloraxis": {
           "colorbar": {
            "outlinewidth": 0,
            "ticks": ""
           }
          },
          "colorscale": {
           "diverging": [
            [
             0,
             "#8e0152"
            ],
            [
             0.1,
             "#c51b7d"
            ],
            [
             0.2,
             "#de77ae"
            ],
            [
             0.3,
             "#f1b6da"
            ],
            [
             0.4,
             "#fde0ef"
            ],
            [
             0.5,
             "#f7f7f7"
            ],
            [
             0.6,
             "#e6f5d0"
            ],
            [
             0.7,
             "#b8e186"
            ],
            [
             0.8,
             "#7fbc41"
            ],
            [
             0.9,
             "#4d9221"
            ],
            [
             1,
             "#276419"
            ]
           ],
           "sequential": [
            [
             0,
             "#0d0887"
            ],
            [
             0.1111111111111111,
             "#46039f"
            ],
            [
             0.2222222222222222,
             "#7201a8"
            ],
            [
             0.3333333333333333,
             "#9c179e"
            ],
            [
             0.4444444444444444,
             "#bd3786"
            ],
            [
             0.5555555555555556,
             "#d8576b"
            ],
            [
             0.6666666666666666,
             "#ed7953"
            ],
            [
             0.7777777777777778,
             "#fb9f3a"
            ],
            [
             0.8888888888888888,
             "#fdca26"
            ],
            [
             1,
             "#f0f921"
            ]
           ],
           "sequentialminus": [
            [
             0,
             "#0d0887"
            ],
            [
             0.1111111111111111,
             "#46039f"
            ],
            [
             0.2222222222222222,
             "#7201a8"
            ],
            [
             0.3333333333333333,
             "#9c179e"
            ],
            [
             0.4444444444444444,
             "#bd3786"
            ],
            [
             0.5555555555555556,
             "#d8576b"
            ],
            [
             0.6666666666666666,
             "#ed7953"
            ],
            [
             0.7777777777777778,
             "#fb9f3a"
            ],
            [
             0.8888888888888888,
             "#fdca26"
            ],
            [
             1,
             "#f0f921"
            ]
           ]
          },
          "colorway": [
           "#636efa",
           "#EF553B",
           "#00cc96",
           "#ab63fa",
           "#FFA15A",
           "#19d3f3",
           "#FF6692",
           "#B6E880",
           "#FF97FF",
           "#FECB52"
          ],
          "font": {
           "color": "#2a3f5f"
          },
          "geo": {
           "bgcolor": "white",
           "lakecolor": "white",
           "landcolor": "white",
           "showlakes": true,
           "showland": true,
           "subunitcolor": "#C8D4E3"
          },
          "hoverlabel": {
           "align": "left"
          },
          "hovermode": "closest",
          "mapbox": {
           "style": "light"
          },
          "paper_bgcolor": "white",
          "plot_bgcolor": "white",
          "polar": {
           "angularaxis": {
            "gridcolor": "#EBF0F8",
            "linecolor": "#EBF0F8",
            "ticks": ""
           },
           "bgcolor": "white",
           "radialaxis": {
            "gridcolor": "#EBF0F8",
            "linecolor": "#EBF0F8",
            "ticks": ""
           }
          },
          "scene": {
           "xaxis": {
            "backgroundcolor": "white",
            "gridcolor": "#DFE8F3",
            "gridwidth": 2,
            "linecolor": "#EBF0F8",
            "showbackground": true,
            "ticks": "",
            "zerolinecolor": "#EBF0F8"
           },
           "yaxis": {
            "backgroundcolor": "white",
            "gridcolor": "#DFE8F3",
            "gridwidth": 2,
            "linecolor": "#EBF0F8",
            "showbackground": true,
            "ticks": "",
            "zerolinecolor": "#EBF0F8"
           },
           "zaxis": {
            "backgroundcolor": "white",
            "gridcolor": "#DFE8F3",
            "gridwidth": 2,
            "linecolor": "#EBF0F8",
            "showbackground": true,
            "ticks": "",
            "zerolinecolor": "#EBF0F8"
           }
          },
          "shapedefaults": {
           "line": {
            "color": "#2a3f5f"
           }
          },
          "ternary": {
           "aaxis": {
            "gridcolor": "#DFE8F3",
            "linecolor": "#A2B1C6",
            "ticks": ""
           },
           "baxis": {
            "gridcolor": "#DFE8F3",
            "linecolor": "#A2B1C6",
            "ticks": ""
           },
           "bgcolor": "white",
           "caxis": {
            "gridcolor": "#DFE8F3",
            "linecolor": "#A2B1C6",
            "ticks": ""
           }
          },
          "title": {
           "x": 0.05
          },
          "xaxis": {
           "automargin": true,
           "gridcolor": "#EBF0F8",
           "linecolor": "#EBF0F8",
           "ticks": "",
           "title": {
            "standoff": 15
           },
           "zerolinecolor": "#EBF0F8",
           "zerolinewidth": 2
          },
          "yaxis": {
           "automargin": true,
           "gridcolor": "#EBF0F8",
           "linecolor": "#EBF0F8",
           "ticks": "",
           "title": {
            "standoff": 15
           },
           "zerolinecolor": "#EBF0F8",
           "zerolinewidth": 2
          }
         }
        },
        "title": {
         "text": "Tire Rightward Forces"
        },
        "width": 900,
        "xaxis": {
         "anchor": "y",
         "domain": [
          0,
          1
         ],
         "linecolor": "black",
         "linewidth": 1,
         "matches": "x4",
         "showgrid": false,
         "showline": true,
         "showticklabels": false,
         "tickcolor": "black",
         "ticklen": 10,
         "ticks": "outside",
         "tickwidth": 1,
         "title": {
          "text": ""
         },
         "zeroline": false
        },
        "xaxis2": {
         "anchor": "y2",
         "domain": [
          0,
          1
         ],
         "linecolor": "black",
         "linewidth": 1,
         "matches": "x4",
         "showgrid": false,
         "showline": true,
         "showticklabels": false,
         "tickcolor": "black",
         "ticklen": 10,
         "ticks": "outside",
         "tickwidth": 1,
         "title": {
          "text": ""
         },
         "zeroline": false
        },
        "xaxis3": {
         "anchor": "y3",
         "domain": [
          0,
          1
         ],
         "linecolor": "black",
         "linewidth": 1,
         "matches": "x4",
         "showgrid": false,
         "showline": true,
         "showticklabels": false,
         "tickcolor": "black",
         "ticklen": 10,
         "ticks": "outside",
         "tickwidth": 1,
         "title": {
          "text": ""
         },
         "zeroline": false
        },
        "xaxis4": {
         "anchor": "y4",
         "domain": [
          0,
          1
         ],
         "linecolor": "black",
         "linewidth": 1,
         "showgrid": false,
         "showline": true,
         "tickcolor": "black",
         "ticklen": 10,
         "ticks": "outside",
         "tickwidth": 1,
         "title": {
          "text": "Time (s)"
         },
         "zeroline": false
        },
        "yaxis": {
         "anchor": "x",
         "domain": [
          0.7875,
          1
         ],
         "linecolor": "black",
         "linewidth": 1,
         "showgrid": false,
         "showline": true,
         "tickcolor": "black",
         "ticklen": 10,
         "ticks": "outside",
         "tickwidth": 1,
         "title": {
          "text": "LF - Rightward Force (lb)"
         },
         "zeroline": false
        },
        "yaxis2": {
         "anchor": "x2",
         "domain": [
          0.525,
          0.7375
         ],
         "linecolor": "black",
         "linewidth": 1,
         "showgrid": false,
         "showline": true,
         "tickcolor": "black",
         "ticklen": 10,
         "ticks": "outside",
         "tickwidth": 1,
         "title": {
          "text": "RF - Rightward Force (lb)"
         },
         "zeroline": false
        },
        "yaxis3": {
         "anchor": "x3",
         "domain": [
          0.2625,
          0.475
         ],
         "linecolor": "black",
         "linewidth": 1,
         "showgrid": false,
         "showline": true,
         "tickcolor": "black",
         "ticklen": 10,
         "ticks": "outside",
         "tickwidth": 1,
         "title": {
          "text": "RR - Rightward Force (lb)"
         },
         "zeroline": false
        },
        "yaxis4": {
         "anchor": "x4",
         "domain": [
          0,
          0.2125
         ],
         "linecolor": "black",
         "linewidth": 1,
         "showgrid": false,
         "showline": true,
         "tickcolor": "black",
         "ticklen": 10,
         "ticks": "outside",
         "tickwidth": 1,
         "title": {
          "text": "LR - Rightward Force (lb)"
         },
         "zeroline": false
        }
       }
      },
      "text/html": [
       "<div>\n",
       "        \n",
       "        \n",
       "            <div id=\"e8211baa-147c-4ddc-a7e2-c5a5ef5c87a2\" class=\"plotly-graph-div\" style=\"height:900px; width:900px;\"></div>\n",
       "            <script type=\"text/javascript\">\n",
       "                require([\"plotly\"], function(Plotly) {\n",
       "                    window.PLOTLYENV=window.PLOTLYENV || {};\n",
       "                    \n",
       "                if (document.getElementById(\"e8211baa-147c-4ddc-a7e2-c5a5ef5c87a2\")) {\n",
       "                    Plotly.newPlot(\n",
       "                        'e8211baa-147c-4ddc-a7e2-c5a5ef5c87a2',\n",
       "                        [{\"line\": {\"color\": \"rgb(0, 0, 255)\", \"width\": 2}, \"mode\": \"lines\", \"name\": \"LF - Pycrash\", \"type\": \"scatter\", \"x\": [0.0, 0.1, 0.2, 0.3, 0.4, 0.5, 0.6, 0.7, 0.8, 0.9, 1.0, 1.1, 1.2, 1.3, 1.4, 1.5, 1.6, 1.7, 1.8, 1.9, 2.0, 2.1, 2.2, 2.3, 2.4, 2.5, 2.6, 2.7, 2.8, 2.9, 3.0, 3.1, 3.2, 3.3, 3.4, 3.5, 3.6, 3.7, 3.8, 3.9, 4.0, 4.1, 4.2, 4.3, 4.4, 4.5, 4.6, 4.7, 4.8, 4.9, 5.0, 5.1, 5.2, 5.3, 5.4, 5.5, 5.6, 5.7, 5.8, 5.9, 6.0, 6.1, 6.2, 6.3, 6.4, 6.5, 6.6, 6.7, 6.8, 6.9, 7.0, 7.1, 7.2, 7.3, 7.4, 7.5, 7.6, 7.7, 7.8, 7.9, 8.0, 8.1, 8.2, 8.3, 8.4, 8.5, 8.6, 8.7, 8.8, 8.9, 9.0, 9.1, 9.2, 9.3, 9.4, 9.5, 9.6, 9.7, 9.8, 9.9, 10.0, 10.1, 10.2, 10.3, 10.4, 10.5, 10.6, 10.7, 10.8, 10.9], \"xaxis\": \"x\", \"y\": [0.0, 0.0, 0.0, 0.0, 0.0, 0.0, 0.0, 0.0, 0.0, 0.0, 0.0, -96.79897019892593, -178.58805788410865, -223.93870203580443, -251.02924631027042, -274.48085048595533, -299.74717581934374, -326.64932890791937, -352.9334315775272, -376.3470890868163, -395.3881350296712, -350.15183777850353, -322.4429257871581, -316.3962038937999, -320.71590516277723, -325.25878209629985, -325.5305061343407, -321.21833662215425, -313.5270704232339, -303.72739335089125, -292.7576969674242, -281.24676094731274, -269.61712970916165, -258.16759440665885, -247.12155472715705, -236.64818044099917, -226.86677113913288, -217.8449615617817, -209.5990997813317, -202.1007152884253, -195.28853008226648, -189.0828234064355, -183.3986273136518, -178.15545174171572, -173.28287536334176, -168.72257799265668, -164.42795709301285, -160.36248076454564, -156.49764288422216, -152.81103272722092, -149.28474337627873, -145.9041615555082, -142.65709280531027, -139.53314768443332, -136.52331708534712, -133.61967835327238, -130.81518902099933, -128.10353799671373, -125.47903415043591, -122.93651957440429, -120.47129975098494, -118.07908595696296, -115.75594701174255, -113.49826843960717, -111.30271764155603, -109.16621399255253, -107.08590300745314, -105.05913389470852, -103.08343995372223, -101.156521376342, -99.27623009288673, -97.44055636569325, -95.64761688359638, -93.89564415197007, -92.18297700656429, -90.50805210658316, -88.86939628449636, -87.26561964808961, -85.6954093452038, -84.15752391412667, -82.65078815314794, -81.1740884516767, -79.72636853284084, -78.30662556386481, -76.91390659595845, -75.54730530011864, -74.20595896925549, -72.88904576051958, -71.5957821547139, -70.32542061226658, -69.07724740751848, -67.85058062505004, -66.64476830351624, -65.45918671397249, -64.29323876101952, -63.146352496278766, -62.01797973474805, -60.90759476552273, -59.81469314918315, -58.73879059488208, -57.67942191082491, -56.63614002240103, -55.60851505276796, -54.596133461140916, -53.59859723446063, -52.615523128501486, -51.646541954803666, -50.691297910135674, -49.749447945457646, -48.82066117161426], \"yaxis\": \"y\"}, {\"line\": {\"color\": \"rgb(0, 0, 255)\", \"dash\": \"dash\", \"width\": 2}, \"mode\": \"lines\", \"name\": \"LF - Validate\", \"type\": \"scatter\", \"x\": [0.0, 0.1, 0.2, 0.3, 0.4, 0.5, 0.6, 0.7, 0.8, 0.9, 1.0, 1.1, 1.2, 1.3, 1.4, 1.5, 1.6, 1.7, 1.8, 1.9, 2.0, 2.1, 2.2, 2.3, 2.4, 2.5, 2.6, 2.7, 2.8, 2.9, 3.0, 3.1, 3.2, 3.3, 3.4, 3.5, 3.6, 3.7, 3.8, 3.9, 4.0, 4.1, 4.2, 4.3, 4.4, 4.5, 4.6, 4.7, 4.8, 4.9, 5.0, 5.1, 5.2, 5.3, 5.4, 5.5, 5.6, 5.7, 5.8, 5.9, 6.0, 6.1, 6.2, 6.3, 6.4, 6.5, 6.6, 6.7, 6.8, 6.9, 7.0, 7.1, 7.2, 7.3, 7.4, 7.5, 7.6, 7.7, 7.8, 7.9, 8.0, 8.1, 8.2, 8.3, 8.4, 8.5, 8.6, 8.7, 8.8, 8.9, 9.0, 9.1, 9.2, 9.3, 9.4, 9.5, 9.6, 9.7, 9.8, 9.9, 10.0, 10.1, 10.2, 10.3, 10.4, 10.5, 10.6, 10.7, 10.8, 10.9], \"xaxis\": \"x\", \"y\": [0.0, 0.0, 0.0, 0.0, 0.0, 0.0, 0.0, 0.0, 0.0, 0.0, 0.0, -141.514, -241.215, -341.58, -450.384, -567.327, -692.789, -829.8839999999999, -987.707, -1153.27, -1267.636, -1188.979, -1074.692, -993.016, -938.7489999999999, -902.576, -874.752, -850.718, -828.2199999999999, -806.446, -785.353, -765.1419999999999, -745.976, -727.915, -710.934, -694.943, -679.847, -665.5600000000001, -651.9979999999999, -639.097, -626.807, -615.077, -603.8670000000001, -593.145, -582.875, -573.028, -563.578, -554.4989999999999, -545.767, -537.363, -529.266, -521.458, -513.926, -506.65099999999995, -499.621, -492.824, -486.245, -479.87600000000003, -473.705, -467.723, -461.91900000000004, -456.288, -450.82, -445.507, -440.344, -435.32300000000004, -430.438, -425.684, -421.054, -416.545, -412.15000000000003, -407.866, -403.688, -399.613, -395.635, -391.75100000000003, -387.959, -384.25399999999996, -380.633, -377.094, -373.633, -370.24800000000005, -366.937, -363.696, -360.52299999999997, -357.417, -354.375, -351.394, -348.47299999999996, -345.611, -342.804, -340.053, -337.354, -334.706, -332.108, -329.55899999999997, -327.05600000000004, -324.59900000000005, -322.186, -319.816, -317.488, -315.2, -312.952, -310.742, -308.57, -306.43399999999997, -304.334, -302.269, -300.23699999999997, -298.23699999999997], \"yaxis\": \"y\"}, {\"line\": {\"color\": \"rgb(0, 255, 0)\", \"width\": 2}, \"mode\": \"lines\", \"name\": \"RF - Pycrash\", \"type\": \"scatter\", \"x\": [0.0, 0.1, 0.2, 0.3, 0.4, 0.5, 0.6, 0.7, 0.8, 0.9, 1.0, 1.1, 1.2, 1.3, 1.4, 1.5, 1.6, 1.7, 1.8, 1.9, 2.0, 2.1, 2.2, 2.3, 2.4, 2.5, 2.6, 2.7, 2.8, 2.9, 3.0, 3.1, 3.2, 3.3, 3.4, 3.5, 3.6, 3.7, 3.8, 3.9, 4.0, 4.1, 4.2, 4.3, 4.4, 4.5, 4.6, 4.7, 4.8, 4.9, 5.0, 5.1, 5.2, 5.3, 5.4, 5.5, 5.6, 5.7, 5.8, 5.9, 6.0, 6.1, 6.2, 6.3, 6.4, 6.5, 6.6, 6.7, 6.8, 6.9, 7.0, 7.1, 7.2, 7.3, 7.4, 7.5, 7.6, 7.7, 7.8, 7.9, 8.0, 8.1, 8.2, 8.3, 8.4, 8.5, 8.6, 8.7, 8.8, 8.9, 9.0, 9.1, 9.2, 9.3, 9.4, 9.5, 9.6, 9.7, 9.8, 9.9, 10.0, 10.1, 10.2, 10.3, 10.4, 10.5, 10.6, 10.7, 10.8, 10.9], \"xaxis\": \"x2\", \"y\": [0.0, 0.0, 0.0, 0.0, 0.0, 0.0, 0.0, 0.0, 0.0, 0.0, 0.0, -96.79897019892593, -194.3261131259471, -264.14417035392887, -314.1710843791108, -361.9568797432096, -419.20601835781406, -489.895126684938, -573.3299918144781, -666.76785189459, -766.7625633192094, -761.87904652123, -733.0417254708008, -734.7337810425753, -763.0394090144042, -798.5300976767593, -825.5518675451025, -836.8157299474318, -831.8357111364897, -813.708737494227, -786.5358388726851, -754.0606337921201, -719.2243283447841, -684.1746946996708, -650.4102891379656, -618.917557928042, -590.2708552828251, -564.7101521648161, -542.214559766624, -522.5781261545928, -505.4838762936426, -490.5682668577706, -477.4700009199462, -465.8612352450748, -455.46295519415685, -446.04845644594053, -437.4393864090925, -429.4981775119144, -422.1195826598663, -415.2228880301581, -408.745492799587, -402.63797957289376, -396.8605078172614, -391.3802578074022, -386.1696515062269, -381.2051206626122, -376.4662474075582, -371.9351529543724, -367.59605015062857, -363.4349050333414, -359.4391726728483, -355.59758557008576, -351.8999808124913, -348.3371568863946, -344.9007538110234, -341.58315195761384, -338.3773860347147, -335.2770715076571, -332.27634129885973, -329.36979105115006, -326.5524315693461, -323.8196473142825, -321.16716002793925, -318.59099673148, -316.0874614687873, -313.653110273181, -311.2847289198089, -308.97931309510346, -306.73405067118955, -304.54630581978813, -302.41360473894883, -300.333622798297, -298.30417293560237, -296.3231951602619, -294.3887470385686, -292.4989950519759, -290.65220673350234, -288.8467434993276, -287.081054102846, -285.3536686472292, -283.6631931001328, -282.0083042607487, -280.38774513509975, -278.8003206804381, -277.2448938839319, -275.72038214461764, -274.22575393091046, -272.7600256888835, -271.322258979102, -269.9115578220608, -268.5270662342836, -267.16796593891974, -265.833474236254, -264.5228420209463, -263.23535193407537, -261.9703166391704, -260.7270772124181, -259.50500163812836, -258.3034834013381, -257.12194017015963], \"yaxis\": \"y2\"}, {\"line\": {\"color\": \"rgb(0, 255, 0)\", \"dash\": \"dash\", \"width\": 2}, \"mode\": \"lines\", \"name\": \"RF - Validate\", \"type\": \"scatter\", \"x\": [0.0, 0.1, 0.2, 0.3, 0.4, 0.5, 0.6, 0.7, 0.8, 0.9, 1.0, 1.1, 1.2, 1.3, 1.4, 1.5, 1.6, 1.7, 1.8, 1.9, 2.0, 2.1, 2.2, 2.3, 2.4, 2.5, 2.6, 2.7, 2.8, 2.9, 3.0, 3.1, 3.2, 3.3, 3.4, 3.5, 3.6, 3.7, 3.8, 3.9, 4.0, 4.1, 4.2, 4.3, 4.4, 4.5, 4.6, 4.7, 4.8, 4.9, 5.0, 5.1, 5.2, 5.3, 5.4, 5.5, 5.6, 5.7, 5.8, 5.9, 6.0, 6.1, 6.2, 6.3, 6.4, 6.5, 6.6, 6.7, 6.8, 6.9, 7.0, 7.1, 7.2, 7.3, 7.4, 7.5, 7.6, 7.7, 7.8, 7.9, 8.0, 8.1, 8.2, 8.3, 8.4, 8.5, 8.6, 8.7, 8.8, 8.9, 9.0, 9.1, 9.2, 9.3, 9.4, 9.5, 9.6, 9.7, 9.8, 9.9, 10.0, 10.1, 10.2, 10.3, 10.4, 10.5, 10.6, 10.7, 10.8, 10.9], \"xaxis\": \"x2\", \"y\": [0.0, 0.0, 0.0, 0.0, 0.0, 0.0, 0.0, 0.0, 0.0, 0.0, 0.0, -185.408, -294.30400000000003, -369.78499999999997, -427.452, -472.012, -504.997, -504.53999999999996, -479.558, -458.05, -440.866, -439.827, -453.69100000000003, -465.039, -451.827, -444.106, -438.554, -434.108, -430.203, -426.497, -422.83, -419.15599999999995, -415.479, -411.82, -408.196, -404.619, -401.096, -397.632, -394.227, -390.881, -387.594, -384.364, -381.19199999999995, -378.07800000000003, -375.019, -372.015, -369.06600000000003, -366.17100000000005, -363.328, -360.537, -357.79699999999997, -355.106, -352.463, -349.86699999999996, -347.317, -344.813, -342.352, -339.934, -337.55800000000005, -335.22200000000004, -332.926, -330.67, -328.45099999999996, -326.26899999999995, -324.123, -322.012, -319.935, -317.892, -315.882, -313.90299999999996, -311.956, -310.03799999999995, -308.151, -306.29200000000003, -304.462, -302.65999999999997, -300.88399999999996, -299.135, -297.411, -295.713, -294.039, -292.389, -290.762, -289.159, -287.578, -286.019, -284.482, -282.96500000000003, -281.46900000000005, -279.994, -278.538, -277.101, -275.683, -274.284, -272.903, -271.539, -270.19300000000004, -268.864, -267.552, -266.256, -264.976, -263.712, -262.463, -261.229, -260.01, -258.806, -257.616, -256.44, -255.278, -254.129], \"yaxis\": \"y2\"}, {\"line\": {\"color\": \"rgb(153, 0, 204)\", \"width\": 2}, \"mode\": \"lines\", \"name\": \"RR - Pycrash\", \"type\": \"scatter\", \"x\": [0.0, 0.1, 0.2, 0.3, 0.4, 0.5, 0.6, 0.7, 0.8, 0.9, 1.0, 1.1, 1.2, 1.3, 1.4, 1.5, 1.6, 1.7, 1.8, 1.9, 2.0, 2.1, 2.2, 2.3, 2.4, 2.5, 2.6, 2.7, 2.8, 2.9, 3.0, 3.1, 3.2, 3.3, 3.4, 3.5, 3.6, 3.7, 3.8, 3.9, 4.0, 4.1, 4.2, 4.3, 4.4, 4.5, 4.6, 4.7, 4.8, 4.9, 5.0, 5.1, 5.2, 5.3, 5.4, 5.5, 5.6, 5.7, 5.8, 5.9, 6.0, 6.1, 6.2, 6.3, 6.4, 6.5, 6.6, 6.7, 6.8, 6.9, 7.0, 7.1, 7.2, 7.3, 7.4, 7.5, 7.6, 7.7, 7.8, 7.9, 8.0, 8.1, 8.2, 8.3, 8.4, 8.5, 8.6, 8.7, 8.8, 8.9, 9.0, 9.1, 9.2, 9.3, 9.4, 9.5, 9.6, 9.7, 9.8, 9.9, 10.0, 10.1, 10.2, 10.3, 10.4, 10.5, 10.6, 10.7, 10.8, 10.9], \"xaxis\": \"x3\", \"y\": [-0.0, -0.0, -0.0, -0.0, -0.0, -0.0, -0.0, -0.0, -0.0, -0.0, -0.0, -0.0, 0.6687605403575789, 1.3805611379866325, -1.8648338985612047, -13.023045992052742, -33.26758286219068, -61.669175143728935, -96.48513652854885, -135.87971197776332, -178.17954422449816, -221.89479503381392, -263.8344387197299, -306.38137831693524, -347.35871241560545, -382.20798398090983, -407.50909645972615, -422.0451104320622, -426.36369523790717, -421.9706959869583, -410.71710955327757, -394.4718933184222, -374.980946361077, -353.8018240768534, -332.25529709292744, -311.3826069596099, -291.920282764914, -274.30509467569277, -258.7111030628541, -245.10967618918926, -233.33795724447538, -223.1623072850076, -214.3281669672377, -206.59341232248886, -199.74655424386754, -193.61337732794817, -188.05612023033916, -182.96873253380713, -178.2707408079873, -173.90125429175166, -169.8138535713726, -165.97258672924886, -162.3490103736196, -158.920089668458, -155.66674617948675, -152.57286563135273, -149.6246182727852, -146.80998561741188, -144.11842152378512, -141.54060099493552, -139.0682274813866, -136.6938806339514, -134.41089325189253, -132.21325017593415, -130.09550421530295, -128.0527056006886, -126.08034234423326, -124.17428949087768, -122.33076567924012, -120.54629575494405, -118.81767842839243, -117.14195816291344, -115.51640063160298, -113.93847120168984, -112.40581600094126, -110.91624519700186, -109.4677181818942, -108.0583304035642, -106.68630162686358, -105.34996543965727, -104.0477598472623, -102.77821882128343, -101.53996468798601, -100.33170125733186, -99.15220760726595, -98.00033244922518, -96.8749890105013, -95.77515037732863, -94.69984524960164, -93.64815406417176, -92.61920544886678, -91.61217297386375, -90.62627217093332, -89.66075779444098, -88.71492130093094, -87.78808852667932, -86.87961754484297, -85.98889668579857, -85.11534270599181, -84.25839909214085, -83.41753448897967, -82.59224123991518, -81.78203403102651, -80.98644862976768, -80.2050407105686, -79.43738476026876, -78.68307305698102, -77.94171471657268, -77.21293480148265, -76.49637348706744], \"yaxis\": \"y3\"}, {\"line\": {\"color\": \"rgb(153, 0, 204)\", \"dash\": \"dash\", \"width\": 2}, \"mode\": \"lines\", \"name\": \"RR - Validate\", \"type\": \"scatter\", \"x\": [0.0, 0.1, 0.2, 0.3, 0.4, 0.5, 0.6, 0.7, 0.8, 0.9, 1.0, 1.1, 1.2, 1.3, 1.4, 1.5, 1.6, 1.7, 1.8, 1.9, 2.0, 2.1, 2.2, 2.3, 2.4, 2.5, 2.6, 2.7, 2.8, 2.9, 3.0, 3.1, 3.2, 3.3, 3.4, 3.5, 3.6, 3.7, 3.8, 3.9, 4.0, 4.1, 4.2, 4.3, 4.4, 4.5, 4.6, 4.7, 4.8, 4.9, 5.0, 5.1, 5.2, 5.3, 5.4, 5.5, 5.6, 5.7, 5.8, 5.9, 6.0, 6.1, 6.2, 6.3, 6.4, 6.5, 6.6, 6.7, 6.8, 6.9, 7.0, 7.1, 7.2, 7.3, 7.4, 7.5, 7.6, 7.7, 7.8, 7.9, 8.0, 8.1, 8.2, 8.3, 8.4, 8.5, 8.6, 8.7, 8.8, 8.9, 9.0, 9.1, 9.2, 9.3, 9.4, 9.5, 9.6, 9.7, 9.8, 9.9, 10.0, 10.1, 10.2, 10.3, 10.4, 10.5, 10.6, 10.7, 10.8, 10.9], \"xaxis\": \"x3\", \"y\": [0.0, 0.0, 0.0, 0.0, 0.0, 0.0, 0.0, 0.0, 0.0, 0.0, 0.0, 1.2049999999999998, -2.83, -35.617000000000004, -63.495, -88.541, -108.7, -123.605, -133.206, -135.905, -134.152, -143.161, -166.136, -184.367, -195.416, -200.251, -201.481, -201.35500000000002, -200.936, -200.533, -200.13500000000002, -199.666, -199.08, -198.374, -197.56699999999998, -196.688, -195.759, -194.793, -193.801, -192.78699999999998, -191.756, -190.71099999999998, -189.65699999999998, -188.595, -187.529, -186.46099999999998, -185.392, -184.325, -183.261, -182.201, -181.14600000000002, -180.098, -179.05599999999998, -178.02200000000002, -176.99599999999998, -175.97899999999998, -174.97099999999998, -173.97199999999998, -172.982, -172.00199999999998, -171.033, -170.073, -169.123, -168.184, -167.255, -166.336, -165.428, -164.529, -163.64100000000002, -162.76299999999998, -161.895, -161.037, -160.189, -159.35, -158.522, -157.703, -156.893, -156.09300000000002, -155.302, -154.51999999999998, -153.748, -152.984, -152.229, -151.483, -150.74499999999998, -150.01600000000002, -149.29500000000002, -148.582, -147.877, -147.18, -146.491, -145.81, -145.136, -144.47, -143.811, -143.16, -142.51500000000001, -141.87800000000001, -141.24800000000002, -140.624, -140.007, -139.397, -138.793, -138.19600000000003, -137.60500000000002, -137.02, -136.441, -135.868, -135.30100000000002, -134.74099999999999], \"yaxis\": \"y3\"}, {\"line\": {\"color\": \"rgb(255, 102, 0)\", \"width\": 2}, \"mode\": \"lines\", \"name\": \"LR - Pycrash\", \"type\": \"scatter\", \"x\": [0.0, 0.1, 0.2, 0.3, 0.4, 0.5, 0.6, 0.7, 0.8, 0.9, 1.0, 1.1, 1.2, 1.3, 1.4, 1.5, 1.6, 1.7, 1.8, 1.9, 2.0, 2.1, 2.2, 2.3, 2.4, 2.5, 2.6, 2.7, 2.8, 2.9, 3.0, 3.1, 3.2, 3.3, 3.4, 3.5, 3.6, 3.7, 3.8, 3.9, 4.0, 4.1, 4.2, 4.3, 4.4, 4.5, 4.6, 4.7, 4.8, 4.9, 5.0, 5.1, 5.2, 5.3, 5.4, 5.5, 5.6, 5.7, 5.8, 5.9, 6.0, 6.1, 6.2, 6.3, 6.4, 6.5, 6.6, 6.7, 6.8, 6.9, 7.0, 7.1, 7.2, 7.3, 7.4, 7.5, 7.6, 7.7, 7.8, 7.9, 8.0, 8.1, 8.2, 8.3, 8.4, 8.5, 8.6, 8.7, 8.8, 8.9, 9.0, 9.1, 9.2, 9.3, 9.4, 9.5, 9.6, 9.7, 9.8, 9.9, 10.0, 10.1, 10.2, 10.3, 10.4, 10.5, 10.6, 10.7, 10.8, 10.9], \"xaxis\": \"x4\", \"y\": [-0.0, -0.0, -0.0, -0.0, -0.0, -0.0, -0.0, -0.0, -0.0, -0.0, -0.0, -0.0, 0.6147021985202646, 1.1733233471714204, -1.5057605681441821, -10.120047967047247, -24.76790502309398, -43.39593364477646, -63.204102633982664, -81.75375609700717, -97.39150590461982, -109.20826778230246, -129.76257955640864, -150.71890292879257, -165.6035661501101, -173.30292178313866, -176.00647463605617, -176.3153876575045, -175.8206654478496, -175.064625470562, -173.99704383262002, -172.39079278909938, -170.0753797451307, -167.01924855921354, -163.32420022784396, -159.1805073665499, -154.81230418435743, -150.43015685841704, -146.19961340670545, -142.2281069210858, -138.56735213767675, -135.22532385371323, -132.18155042891536, -129.40109507741187, -126.84491158363099, -124.4761835856343, -122.26335871664855, -120.18095145580598, -118.20909947459869, -116.3325889129082, -114.53978400412174, -112.82167932105449, -111.17115228956935, -109.5824162802748, -108.05064048685644, -106.5716941632508, -105.14197682444664, -103.75830469886604, -102.41783268858461, -101.11799842778039, -99.8564802576352, -98.63116430477737, -97.44011785566215, -96.28156734522592, -95.15387989171613, -94.05554764729877, -92.98517443045507, -91.94146423077311, -90.92321126321735, -89.9292913132932, -88.9586541644935, -88.01031693902081, -87.08335821429618, -86.17691280276824, -85.29016710228831, -84.42235493996098, -83.57275384486624, -82.74068169514841, -81.92549369322248, -81.12657962966315, -80.343361401993, -79.57529075929615, -78.8218472475312, -78.08253633373533, -77.3568876901248, -76.64445362148932, -75.94480762131907, -75.25754304385784, -74.58227188077993, -73.9186236324934, -73.2662442651989, -72.62479524581444, -71.99395264773483, -71.37340632113876, -70.76285912221715, -70.16202619627289, -69.57063431014866, -68.98842122989383, -68.41513513997583, -67.85053410069875, -67.2943855408045, -66.74646578251314, -66.2065595965108, -65.6744597846161, -65.14996678805896, -64.63288831948499, -64.12303901696261, -63.62024011841463, -63.124319155030136, -62.63510966233121], \"yaxis\": \"y4\"}, {\"line\": {\"color\": \"rgb(255, 102, 0)\", \"dash\": \"dash\", \"width\": 2}, \"mode\": \"lines\", \"name\": \"LR - Validate\", \"type\": \"scatter\", \"x\": [0.0, 0.1, 0.2, 0.3, 0.4, 0.5, 0.6, 0.7, 0.8, 0.9, 1.0, 1.1, 1.2, 1.3, 1.4, 1.5, 1.6, 1.7, 1.8, 1.9, 2.0, 2.1, 2.2, 2.3, 2.4, 2.5, 2.6, 2.7, 2.8, 2.9, 3.0, 3.1, 3.2, 3.3, 3.4, 3.5, 3.6, 3.7, 3.8, 3.9, 4.0, 4.1, 4.2, 4.3, 4.4, 4.5, 4.6, 4.7, 4.8, 4.9, 5.0, 5.1, 5.2, 5.3, 5.4, 5.5, 5.6, 5.7, 5.8, 5.9, 6.0, 6.1, 6.2, 6.3, 6.4, 6.5, 6.6, 6.7, 6.8, 6.9, 7.0, 7.1, 7.2, 7.3, 7.4, 7.5, 7.6, 7.7, 7.8, 7.9, 8.0, 8.1, 8.2, 8.3, 8.4, 8.5, 8.6, 8.7, 8.8, 8.9, 9.0, 9.1, 9.2, 9.3, 9.4, 9.5, 9.6, 9.7, 9.8, 9.9, 10.0, 10.1, 10.2, 10.3, 10.4, 10.5, 10.6, 10.7, 10.8, 10.9], \"xaxis\": \"x4\", \"y\": [0.0, 0.0, 0.0, 0.0, 0.0, 0.0, 0.0, 0.0, 0.0, 0.0, 0.0, 1.2730000000000001, -3.763, -50.338, -100.22300000000001, -155.095, -211.581, -268.129, -319.84299999999996, -363.83500000000004, -402.092, -439.50800000000004, -465.912, -473.837, -470.66400000000004, -461.106, -449.522, -437.739, -426.236, -415.071, -404.27200000000005, -393.906, -384.038, -374.709, -365.926, -357.65799999999996, -349.862, -342.49600000000004, -335.51300000000003, -328.878, -322.564, -316.542, -310.79200000000003, -305.29499999999996, -300.03400000000005, -294.99199999999996, -290.156, -285.511, -281.045, -276.75, -272.612, -268.62399999999997, -264.777, -261.063, -257.474, -254.00499999999997, -250.64799999999997, -247.399, -244.251, -241.19899999999998, -238.24, -235.368, -232.58, -229.87099999999998, -227.239, -224.679, -222.189, -219.765, -217.405, -215.107, -212.867, -210.68300000000002, -208.553, -206.476, -204.44799999999998, -202.46800000000002, -200.535, -198.646, -196.8, -194.996, -193.232, -191.506, -189.817, -188.165, -186.547, -184.963, -183.411, -181.891, -180.401, -178.941, -177.51, -176.10600000000002, -174.72899999999998, -173.37800000000001, -172.05200000000002, -170.75099999999998, -169.47400000000002, -168.22, -166.988, -165.779, -164.58999999999997, -163.42200000000003, -162.274, -161.14600000000002, -160.037, -158.946, -157.874, -156.818, -155.78, -154.75900000000001], \"yaxis\": \"y4\"}],\n",
       "                        {\"autosize\": false, \"font\": {\"color\": \"black\", \"family\": \"Arial\", \"size\": 14}, \"height\": 900, \"legend\": {\"orientation\": \"h\", \"x\": 0.01, \"xanchor\": \"left\", \"y\": 1.1, \"yanchor\": \"top\"}, \"template\": {\"data\": {\"bar\": [{\"error_x\": {\"color\": \"#2a3f5f\"}, \"error_y\": {\"color\": \"#2a3f5f\"}, \"marker\": {\"line\": {\"color\": \"white\", \"width\": 0.5}}, \"type\": \"bar\"}], \"barpolar\": [{\"marker\": {\"line\": {\"color\": \"white\", \"width\": 0.5}}, \"type\": \"barpolar\"}], \"carpet\": [{\"aaxis\": {\"endlinecolor\": \"#2a3f5f\", \"gridcolor\": \"#C8D4E3\", \"linecolor\": \"#C8D4E3\", \"minorgridcolor\": \"#C8D4E3\", \"startlinecolor\": \"#2a3f5f\"}, \"baxis\": {\"endlinecolor\": \"#2a3f5f\", \"gridcolor\": \"#C8D4E3\", \"linecolor\": \"#C8D4E3\", \"minorgridcolor\": \"#C8D4E3\", \"startlinecolor\": \"#2a3f5f\"}, \"type\": \"carpet\"}], \"choropleth\": [{\"colorbar\": {\"outlinewidth\": 0, \"ticks\": \"\"}, \"type\": \"choropleth\"}], \"contour\": [{\"colorbar\": {\"outlinewidth\": 0, \"ticks\": \"\"}, \"colorscale\": [[0.0, \"#0d0887\"], [0.1111111111111111, \"#46039f\"], [0.2222222222222222, \"#7201a8\"], [0.3333333333333333, \"#9c179e\"], [0.4444444444444444, \"#bd3786\"], [0.5555555555555556, \"#d8576b\"], [0.6666666666666666, \"#ed7953\"], [0.7777777777777778, \"#fb9f3a\"], [0.8888888888888888, \"#fdca26\"], [1.0, \"#f0f921\"]], \"type\": \"contour\"}], \"contourcarpet\": [{\"colorbar\": {\"outlinewidth\": 0, \"ticks\": \"\"}, \"type\": \"contourcarpet\"}], \"heatmap\": [{\"colorbar\": {\"outlinewidth\": 0, \"ticks\": \"\"}, \"colorscale\": [[0.0, \"#0d0887\"], [0.1111111111111111, \"#46039f\"], [0.2222222222222222, \"#7201a8\"], [0.3333333333333333, \"#9c179e\"], [0.4444444444444444, \"#bd3786\"], [0.5555555555555556, \"#d8576b\"], [0.6666666666666666, \"#ed7953\"], [0.7777777777777778, \"#fb9f3a\"], [0.8888888888888888, \"#fdca26\"], [1.0, \"#f0f921\"]], \"type\": \"heatmap\"}], \"heatmapgl\": [{\"colorbar\": {\"outlinewidth\": 0, \"ticks\": \"\"}, \"colorscale\": [[0.0, \"#0d0887\"], [0.1111111111111111, \"#46039f\"], [0.2222222222222222, \"#7201a8\"], [0.3333333333333333, \"#9c179e\"], [0.4444444444444444, \"#bd3786\"], [0.5555555555555556, \"#d8576b\"], [0.6666666666666666, \"#ed7953\"], [0.7777777777777778, \"#fb9f3a\"], [0.8888888888888888, \"#fdca26\"], [1.0, \"#f0f921\"]], \"type\": \"heatmapgl\"}], \"histogram\": [{\"marker\": {\"colorbar\": {\"outlinewidth\": 0, \"ticks\": \"\"}}, \"type\": \"histogram\"}], \"histogram2d\": [{\"colorbar\": {\"outlinewidth\": 0, \"ticks\": \"\"}, \"colorscale\": [[0.0, \"#0d0887\"], [0.1111111111111111, \"#46039f\"], [0.2222222222222222, \"#7201a8\"], [0.3333333333333333, \"#9c179e\"], [0.4444444444444444, \"#bd3786\"], [0.5555555555555556, \"#d8576b\"], [0.6666666666666666, \"#ed7953\"], [0.7777777777777778, \"#fb9f3a\"], [0.8888888888888888, \"#fdca26\"], [1.0, \"#f0f921\"]], \"type\": \"histogram2d\"}], \"histogram2dcontour\": [{\"colorbar\": {\"outlinewidth\": 0, \"ticks\": \"\"}, \"colorscale\": [[0.0, \"#0d0887\"], [0.1111111111111111, \"#46039f\"], [0.2222222222222222, \"#7201a8\"], [0.3333333333333333, \"#9c179e\"], [0.4444444444444444, \"#bd3786\"], [0.5555555555555556, \"#d8576b\"], [0.6666666666666666, \"#ed7953\"], [0.7777777777777778, \"#fb9f3a\"], [0.8888888888888888, \"#fdca26\"], [1.0, \"#f0f921\"]], \"type\": \"histogram2dcontour\"}], \"mesh3d\": [{\"colorbar\": {\"outlinewidth\": 0, \"ticks\": \"\"}, \"type\": \"mesh3d\"}], \"parcoords\": [{\"line\": {\"colorbar\": {\"outlinewidth\": 0, \"ticks\": \"\"}}, \"type\": \"parcoords\"}], \"pie\": [{\"automargin\": true, \"type\": \"pie\"}], \"scatter\": [{\"marker\": {\"colorbar\": {\"outlinewidth\": 0, \"ticks\": \"\"}}, \"type\": \"scatter\"}], \"scatter3d\": [{\"line\": {\"colorbar\": {\"outlinewidth\": 0, \"ticks\": \"\"}}, \"marker\": {\"colorbar\": {\"outlinewidth\": 0, \"ticks\": \"\"}}, \"type\": \"scatter3d\"}], \"scattercarpet\": [{\"marker\": {\"colorbar\": {\"outlinewidth\": 0, \"ticks\": \"\"}}, \"type\": \"scattercarpet\"}], \"scattergeo\": [{\"marker\": {\"colorbar\": {\"outlinewidth\": 0, \"ticks\": \"\"}}, \"type\": \"scattergeo\"}], \"scattergl\": [{\"marker\": {\"colorbar\": {\"outlinewidth\": 0, \"ticks\": \"\"}}, \"type\": \"scattergl\"}], \"scattermapbox\": [{\"marker\": {\"colorbar\": {\"outlinewidth\": 0, \"ticks\": \"\"}}, \"type\": \"scattermapbox\"}], \"scatterpolar\": [{\"marker\": {\"colorbar\": {\"outlinewidth\": 0, \"ticks\": \"\"}}, \"type\": \"scatterpolar\"}], \"scatterpolargl\": [{\"marker\": {\"colorbar\": {\"outlinewidth\": 0, \"ticks\": \"\"}}, \"type\": \"scatterpolargl\"}], \"scatterternary\": [{\"marker\": {\"colorbar\": {\"outlinewidth\": 0, \"ticks\": \"\"}}, \"type\": \"scatterternary\"}], \"surface\": [{\"colorbar\": {\"outlinewidth\": 0, \"ticks\": \"\"}, \"colorscale\": [[0.0, \"#0d0887\"], [0.1111111111111111, \"#46039f\"], [0.2222222222222222, \"#7201a8\"], [0.3333333333333333, \"#9c179e\"], [0.4444444444444444, \"#bd3786\"], [0.5555555555555556, \"#d8576b\"], [0.6666666666666666, \"#ed7953\"], [0.7777777777777778, \"#fb9f3a\"], [0.8888888888888888, \"#fdca26\"], [1.0, \"#f0f921\"]], \"type\": \"surface\"}], \"table\": [{\"cells\": {\"fill\": {\"color\": \"#EBF0F8\"}, \"line\": {\"color\": \"white\"}}, \"header\": {\"fill\": {\"color\": \"#C8D4E3\"}, \"line\": {\"color\": \"white\"}}, \"type\": \"table\"}]}, \"layout\": {\"annotationdefaults\": {\"arrowcolor\": \"#2a3f5f\", \"arrowhead\": 0, \"arrowwidth\": 1}, \"coloraxis\": {\"colorbar\": {\"outlinewidth\": 0, \"ticks\": \"\"}}, \"colorscale\": {\"diverging\": [[0, \"#8e0152\"], [0.1, \"#c51b7d\"], [0.2, \"#de77ae\"], [0.3, \"#f1b6da\"], [0.4, \"#fde0ef\"], [0.5, \"#f7f7f7\"], [0.6, \"#e6f5d0\"], [0.7, \"#b8e186\"], [0.8, \"#7fbc41\"], [0.9, \"#4d9221\"], [1, \"#276419\"]], \"sequential\": [[0.0, \"#0d0887\"], [0.1111111111111111, \"#46039f\"], [0.2222222222222222, \"#7201a8\"], [0.3333333333333333, \"#9c179e\"], [0.4444444444444444, \"#bd3786\"], [0.5555555555555556, \"#d8576b\"], [0.6666666666666666, \"#ed7953\"], [0.7777777777777778, \"#fb9f3a\"], [0.8888888888888888, \"#fdca26\"], [1.0, \"#f0f921\"]], \"sequentialminus\": [[0.0, \"#0d0887\"], [0.1111111111111111, \"#46039f\"], [0.2222222222222222, \"#7201a8\"], [0.3333333333333333, \"#9c179e\"], [0.4444444444444444, \"#bd3786\"], [0.5555555555555556, \"#d8576b\"], [0.6666666666666666, \"#ed7953\"], [0.7777777777777778, \"#fb9f3a\"], [0.8888888888888888, \"#fdca26\"], [1.0, \"#f0f921\"]]}, \"colorway\": [\"#636efa\", \"#EF553B\", \"#00cc96\", \"#ab63fa\", \"#FFA15A\", \"#19d3f3\", \"#FF6692\", \"#B6E880\", \"#FF97FF\", \"#FECB52\"], \"font\": {\"color\": \"#2a3f5f\"}, \"geo\": {\"bgcolor\": \"white\", \"lakecolor\": \"white\", \"landcolor\": \"white\", \"showlakes\": true, \"showland\": true, \"subunitcolor\": \"#C8D4E3\"}, \"hoverlabel\": {\"align\": \"left\"}, \"hovermode\": \"closest\", \"mapbox\": {\"style\": \"light\"}, \"paper_bgcolor\": \"white\", \"plot_bgcolor\": \"white\", \"polar\": {\"angularaxis\": {\"gridcolor\": \"#EBF0F8\", \"linecolor\": \"#EBF0F8\", \"ticks\": \"\"}, \"bgcolor\": \"white\", \"radialaxis\": {\"gridcolor\": \"#EBF0F8\", \"linecolor\": \"#EBF0F8\", \"ticks\": \"\"}}, \"scene\": {\"xaxis\": {\"backgroundcolor\": \"white\", \"gridcolor\": \"#DFE8F3\", \"gridwidth\": 2, \"linecolor\": \"#EBF0F8\", \"showbackground\": true, \"ticks\": \"\", \"zerolinecolor\": \"#EBF0F8\"}, \"yaxis\": {\"backgroundcolor\": \"white\", \"gridcolor\": \"#DFE8F3\", \"gridwidth\": 2, \"linecolor\": \"#EBF0F8\", \"showbackground\": true, \"ticks\": \"\", \"zerolinecolor\": \"#EBF0F8\"}, \"zaxis\": {\"backgroundcolor\": \"white\", \"gridcolor\": \"#DFE8F3\", \"gridwidth\": 2, \"linecolor\": \"#EBF0F8\", \"showbackground\": true, \"ticks\": \"\", \"zerolinecolor\": \"#EBF0F8\"}}, \"shapedefaults\": {\"line\": {\"color\": \"#2a3f5f\"}}, \"ternary\": {\"aaxis\": {\"gridcolor\": \"#DFE8F3\", \"linecolor\": \"#A2B1C6\", \"ticks\": \"\"}, \"baxis\": {\"gridcolor\": \"#DFE8F3\", \"linecolor\": \"#A2B1C6\", \"ticks\": \"\"}, \"bgcolor\": \"white\", \"caxis\": {\"gridcolor\": \"#DFE8F3\", \"linecolor\": \"#A2B1C6\", \"ticks\": \"\"}}, \"title\": {\"x\": 0.05}, \"xaxis\": {\"automargin\": true, \"gridcolor\": \"#EBF0F8\", \"linecolor\": \"#EBF0F8\", \"ticks\": \"\", \"title\": {\"standoff\": 15}, \"zerolinecolor\": \"#EBF0F8\", \"zerolinewidth\": 2}, \"yaxis\": {\"automargin\": true, \"gridcolor\": \"#EBF0F8\", \"linecolor\": \"#EBF0F8\", \"ticks\": \"\", \"title\": {\"standoff\": 15}, \"zerolinecolor\": \"#EBF0F8\", \"zerolinewidth\": 2}}}, \"title\": {\"text\": \"Tire Rightward Forces\"}, \"width\": 900, \"xaxis\": {\"anchor\": \"y\", \"domain\": [0.0, 1.0], \"linecolor\": \"black\", \"linewidth\": 1, \"matches\": \"x4\", \"showgrid\": false, \"showline\": true, \"showticklabels\": false, \"tickcolor\": \"black\", \"ticklen\": 10, \"ticks\": \"outside\", \"tickwidth\": 1, \"title\": {\"text\": \"\"}, \"zeroline\": false}, \"xaxis2\": {\"anchor\": \"y2\", \"domain\": [0.0, 1.0], \"linecolor\": \"black\", \"linewidth\": 1, \"matches\": \"x4\", \"showgrid\": false, \"showline\": true, \"showticklabels\": false, \"tickcolor\": \"black\", \"ticklen\": 10, \"ticks\": \"outside\", \"tickwidth\": 1, \"title\": {\"text\": \"\"}, \"zeroline\": false}, \"xaxis3\": {\"anchor\": \"y3\", \"domain\": [0.0, 1.0], \"linecolor\": \"black\", \"linewidth\": 1, \"matches\": \"x4\", \"showgrid\": false, \"showline\": true, \"showticklabels\": false, \"tickcolor\": \"black\", \"ticklen\": 10, \"ticks\": \"outside\", \"tickwidth\": 1, \"title\": {\"text\": \"\"}, \"zeroline\": false}, \"xaxis4\": {\"anchor\": \"y4\", \"domain\": [0.0, 1.0], \"linecolor\": \"black\", \"linewidth\": 1, \"showgrid\": false, \"showline\": true, \"tickcolor\": \"black\", \"ticklen\": 10, \"ticks\": \"outside\", \"tickwidth\": 1, \"title\": {\"text\": \"Time (s)\"}, \"zeroline\": false}, \"yaxis\": {\"anchor\": \"x\", \"domain\": [0.7875, 1.0], \"linecolor\": \"black\", \"linewidth\": 1, \"showgrid\": false, \"showline\": true, \"tickcolor\": \"black\", \"ticklen\": 10, \"ticks\": \"outside\", \"tickwidth\": 1, \"title\": {\"text\": \"LF - Rightward Force (lb)\"}, \"zeroline\": false}, \"yaxis2\": {\"anchor\": \"x2\", \"domain\": [0.525, 0.7375], \"linecolor\": \"black\", \"linewidth\": 1, \"showgrid\": false, \"showline\": true, \"tickcolor\": \"black\", \"ticklen\": 10, \"ticks\": \"outside\", \"tickwidth\": 1, \"title\": {\"text\": \"RF - Rightward Force (lb)\"}, \"zeroline\": false}, \"yaxis3\": {\"anchor\": \"x3\", \"domain\": [0.2625, 0.475], \"linecolor\": \"black\", \"linewidth\": 1, \"showgrid\": false, \"showline\": true, \"tickcolor\": \"black\", \"ticklen\": 10, \"ticks\": \"outside\", \"tickwidth\": 1, \"title\": {\"text\": \"RR - Rightward Force (lb)\"}, \"zeroline\": false}, \"yaxis4\": {\"anchor\": \"x4\", \"domain\": [0.0, 0.2125], \"linecolor\": \"black\", \"linewidth\": 1, \"showgrid\": false, \"showline\": true, \"tickcolor\": \"black\", \"ticklen\": 10, \"ticks\": \"outside\", \"tickwidth\": 1, \"title\": {\"text\": \"LR - Rightward Force (lb)\"}, \"zeroline\": false}},\n",
       "                        {\"responsive\": true}\n",
       "                    ).then(function(){\n",
       "                            \n",
       "var gd = document.getElementById('e8211baa-147c-4ddc-a7e2-c5a5ef5c87a2');\n",
       "var x = new MutationObserver(function (mutations, observer) {{\n",
       "        var display = window.getComputedStyle(gd).display;\n",
       "        if (!display || display === 'none') {{\n",
       "            console.log([gd, 'removed!']);\n",
       "            Plotly.purge(gd);\n",
       "            observer.disconnect();\n",
       "        }}\n",
       "}});\n",
       "\n",
       "// Listen for the removal of the full notebook cells\n",
       "var notebookContainer = gd.closest('#notebook-container');\n",
       "if (notebookContainer) {{\n",
       "    x.observe(notebookContainer, {childList: true});\n",
       "}}\n",
       "\n",
       "// Listen for the clearing of the current output cell\n",
       "var outputEl = gd.closest('.output');\n",
       "if (outputEl) {{\n",
       "    x.observe(outputEl, {childList: true});\n",
       "}}\n",
       "\n",
       "                        })\n",
       "                };\n",
       "                });\n",
       "            </script>\n",
       "        </div>"
      ]
     },
     "metadata": {},
     "output_type": "display_data"
    },
    {
     "data": {
      "application/vnd.plotly.v1+json": {
       "config": {
        "plotlyServerURL": "https://plot.ly"
       },
       "data": [
        {
         "line": {
          "color": "rgb(0, 255, 0)",
          "width": 2
         },
         "mode": "lines",
         "name": "pycrash - ax",
         "type": "scatter",
         "x": [
          0,
          0.1,
          0.2,
          0.3,
          0.4,
          0.5,
          0.6,
          0.7,
          0.8,
          0.9,
          1,
          1.1,
          1.2,
          1.3,
          1.4,
          1.5,
          1.6,
          1.7,
          1.8,
          1.9,
          2,
          2.1,
          2.2,
          2.3,
          2.4,
          2.5,
          2.6,
          2.7,
          2.8,
          2.9,
          3,
          3.1,
          3.2,
          3.3,
          3.4,
          3.5,
          3.6,
          3.7,
          3.8,
          3.9,
          4,
          4.1,
          4.2,
          4.3,
          4.4,
          4.5,
          4.6,
          4.7,
          4.8,
          4.9,
          5,
          5.1,
          5.2,
          5.3,
          5.4,
          5.5,
          5.6,
          5.7,
          5.8,
          5.9,
          6,
          6.1,
          6.2,
          6.3,
          6.4,
          6.5,
          6.6,
          6.7,
          6.8,
          6.9,
          7,
          7.1,
          7.2,
          7.3,
          7.4,
          7.5,
          7.6,
          7.7,
          7.8,
          7.9,
          8,
          8.1,
          8.2,
          8.3,
          8.4,
          8.5,
          8.6,
          8.7,
          8.8,
          8.9,
          9,
          9.1,
          9.2,
          9.3,
          9.4,
          9.5,
          9.6,
          9.7,
          9.8,
          9.9,
          10,
          10.1,
          10.2,
          10.3,
          10.4,
          10.5,
          10.6,
          10.7,
          10.8,
          10.9
         ],
         "xaxis": "x",
         "y": [
          0,
          0,
          0,
          0,
          0,
          0,
          0,
          0,
          0,
          0,
          0,
          -0.0020886188045302597,
          -0.008505740408111421,
          -0.017034562390196205,
          -0.026622997040768665,
          -0.037840778296843756,
          -0.05176730065945961,
          -0.06923325452792511,
          -0.09064259692316413,
          -0.11606368361399588,
          -0.14534939226252644,
          -0.14064260180572366,
          -0.1334909934739857,
          -0.1329402429416846,
          -0.1370664873239032,
          -0.14212967837772894,
          -0.14558158609860108,
          -0.14646079205306495,
          -0.14485820842236738,
          -0.14132622305067052,
          -0.13650218994433772,
          -0.13093910225034036,
          -0.12506238576426706,
          -0.11918146627279551,
          -0.11351412582769185,
          -0.10820651940420739,
          -0.10334637592885527,
          -0.09897259941677779,
          -0.09508461558465761,
          -0.0916527761711267,
          -0.08862924213514974,
          -0.08595795225152238,
          -0.08358246577394544,
          -0.08145113930101147,
          -0.07951977839157977,
          -0.07775233495667508,
          -0.07612035810079128,
          -0.07460182882877336,
          -0.07317983088336186,
          -0.071841321726898,
          -0.07057611925181224,
          -0.06937612526558799,
          -0.06823475871294916,
          -0.06714655477300831,
          -0.06610688613614253,
          -0.0651117700326267,
          -0.06415773345358537,
          -0.06324171701685694,
          -0.06236100428572859,
          -0.0615131679943092,
          -0.06069602780682237,
          -0.05990761627109896,
          -0.05914615085577236,
          -0.05841001067592153,
          -0.05769771692833669,
          -0.05700791631289306,
          -0.05633936688662938,
          -0.05569092591888466,
          -0.055061539406337255,
          -0.05445023297509944,
          -0.0538561039492525,
          -0.05327831440587183,
          -0.05271608506882969,
          -0.052168689919510285,
          -0.05163545142336191,
          -0.05111573628794513,
          -0.05060895168164916,
          -0.05011454185324196,
          -0.0496319851014537,
          -0.04916079105127772,
          -0.04870049819991216,
          -0.04825067170048194,
          -0.047810901356061475,
          -0.04738079980020715,
          -0.046960000843334355,
          -0.046548157966930494,
          -0.046144942949865535,
          -0.045750044613004685,
          -0.04536316767000141,
          -0.04498403167358659,
          -0.04461237004791797,
          -0.04424792919863304,
          -0.043890467693189786,
          -0.043539755504898685,
          -0.043195573314767026,
          -0.04285771186590492,
          -0.04252597136579396,
          -0.04220016093220627,
          -0.04188009807899051,
          -0.041565608238321054,
          -0.041256524316342684,
          -0.04095268627944104,
          -0.0406539407686363,
          -0.040360140739832545,
          -0.040071145127867365,
          -0.03978681853249539,
          -0.03950703092460763,
          -0.03923165737114225,
          -0.038960577777276496,
          -0.03869367664461429
         ],
         "yaxis": "y"
        },
        {
         "line": {
          "color": "rgb(0, 255, 0)",
          "dash": "dash",
          "width": 2
         },
         "mode": "lines",
         "name": "validate - ax",
         "type": "scatter",
         "x": [
          0,
          0.1,
          0.2,
          0.3,
          0.4,
          0.5,
          0.6,
          0.7,
          0.8,
          0.9,
          1,
          1.1,
          1.2,
          1.3,
          1.4,
          1.5,
          1.6,
          1.7,
          1.8,
          1.9,
          2,
          2.1,
          2.2,
          2.3,
          2.4,
          2.5,
          2.6,
          2.7,
          2.8,
          2.9,
          3,
          3.1,
          3.2,
          3.3,
          3.4,
          3.5,
          3.6,
          3.7,
          3.8,
          3.9,
          4,
          4.1,
          4.2,
          4.3,
          4.4,
          4.5,
          4.6,
          4.7,
          4.8,
          4.9,
          5,
          5.1,
          5.2,
          5.3,
          5.4,
          5.5,
          5.6,
          5.7,
          5.8,
          5.9,
          6,
          6.1,
          6.2,
          6.3,
          6.4,
          6.5,
          6.6,
          6.7,
          6.8,
          6.9,
          7,
          7.1,
          7.2,
          7.3,
          7.4,
          7.5,
          7.6,
          7.7,
          7.8,
          7.9,
          8,
          8.1,
          8.2,
          8.3,
          8.4,
          8.5,
          8.6,
          8.7,
          8.8,
          8.9,
          9,
          9.1,
          9.2,
          9.3,
          9.4,
          9.5,
          9.6,
          9.7,
          9.8,
          9.9,
          10,
          10.1,
          10.2,
          10.3,
          10.4,
          10.5,
          10.6,
          10.7,
          10.8,
          10.9
         ],
         "xaxis": "x",
         "y": [
          0,
          0,
          0,
          0,
          0,
          0,
          0,
          0,
          0,
          0,
          0,
          -0.004057,
          -0.013866,
          -0.027818,
          -0.045629,
          -0.067071,
          -0.091975,
          -0.118056,
          -0.146114,
          -0.178055,
          -0.207538,
          -0.200021,
          -0.188624,
          -0.180731,
          -0.172537,
          -0.167271,
          -0.1633,
          -0.159929,
          -0.156809,
          -0.153799,
          -0.15087,
          -0.148039,
          -0.145328,
          -0.142744,
          -0.140289,
          -0.137953,
          -0.135727,
          -0.133601,
          -0.131567,
          -0.129615,
          -0.127742,
          -0.125941,
          -0.124207,
          -0.122537,
          -0.120926,
          -0.119372,
          -0.11787,
          -0.116419,
          -0.115014,
          -0.113654,
          -0.112337,
          -0.111059,
          -0.10982,
          -0.108616,
          -0.107447,
          -0.106312,
          -0.105207,
          -0.104132,
          -0.103086,
          -0.102068,
          -0.101075,
          -0.100107,
          -0.099164,
          -0.098244,
          -0.097345,
          -0.096468,
          -0.095612,
          -0.094775,
          -0.093957,
          -0.093157,
          -0.092375,
          -0.09161,
          -0.090861,
          -0.090128,
          -0.08941,
          -0.088707,
          -0.088018,
          -0.087343,
          -0.086681,
          -0.086033,
          -0.085396,
          -0.084772,
          -0.084159,
          -0.083558,
          -0.082968,
          -0.082388,
          -0.081819,
          -0.08126,
          -0.080711,
          -0.080171,
          -0.079641,
          -0.079119,
          -0.078607,
          -0.078102,
          -0.077606,
          -0.077119,
          -0.076638,
          -0.076166,
          -0.075701,
          -0.075243,
          -0.074793,
          -0.074349,
          -0.073912,
          -0.073482,
          -0.073058,
          -0.07264,
          -0.072228,
          -0.071822,
          -0.071423,
          -0.071028
         ],
         "yaxis": "y"
        },
        {
         "line": {
          "color": "rgb(0, 0, 255)",
          "width": 2
         },
         "mode": "lines",
         "name": "pycrash - ay",
         "type": "scatter",
         "x": [
          0,
          0.1,
          0.2,
          0.3,
          0.4,
          0.5,
          0.6,
          0.7,
          0.8,
          0.9,
          1,
          1.1,
          1.2,
          1.3,
          1.4,
          1.5,
          1.6,
          1.7,
          1.8,
          1.9,
          2,
          2.1,
          2.2,
          2.3,
          2.4,
          2.5,
          2.6,
          2.7,
          2.8,
          2.9,
          3,
          3.1,
          3.2,
          3.3,
          3.4,
          3.5,
          3.6,
          3.7,
          3.8,
          3.9,
          4,
          4.1,
          4.2,
          4.3,
          4.4,
          4.5,
          4.6,
          4.7,
          4.8,
          4.9,
          5,
          5.1,
          5.2,
          5.3,
          5.4,
          5.5,
          5.6,
          5.7,
          5.8,
          5.9,
          6,
          6.1,
          6.2,
          6.3,
          6.4,
          6.5,
          6.6,
          6.7,
          6.8,
          6.9,
          7,
          7.1,
          7.2,
          7.3,
          7.4,
          7.5,
          7.6,
          7.7,
          7.8,
          7.9,
          8,
          8.1,
          8.2,
          8.3,
          8.4,
          8.5,
          8.6,
          8.7,
          8.8,
          8.9,
          9,
          9.1,
          9.2,
          9.3,
          9.4,
          9.5,
          9.6,
          9.7,
          9.8,
          9.9,
          10,
          10.1,
          10.2,
          10.3,
          10.4,
          10.5,
          10.6,
          10.7,
          10.8,
          10.9
         ],
         "xaxis": "x2",
         "y": [
          0,
          0,
          0,
          0,
          0,
          0,
          0,
          0,
          0,
          0,
          0,
          -0.05870161928376345,
          -0.11268365926961123,
          -0.14721922010448005,
          -0.17239870380718209,
          -0.19999418562409488,
          -0.23559389995829058,
          -0.2794449861677874,
          -0.32927612569876796,
          -0.38227665526263693,
          -0.4359374616367491,
          -0.43757851640868706,
          -0.4393819495251962,
          -0.45731663619833324,
          -0.4841472385515151,
          -0.5091873212665576,
          -0.5259545011447015,
          -0.5325635429530481,
          -0.5298808800016618,
          -0.5198518654647175,
          -0.5045505425184981,
          -0.48580050965644456,
          -0.46509938876899737,
          -0.4436517167199504,
          -0.4224109585160382,
          -0.40210092562013366,
          -0.38322323025204036,
          -0.36606742427553285,
          -0.35073510491737875,
          -0.3371790856741338,
          -0.3252509750630871,
          -0.31474794463399847,
          -0.3054512873346728,
          -0.29715318204569163,
          -0.28967170903123013,
          -0.282856457050388,
          -0.2765878782441155,
          -0.2707732996561774,
          -0.26534174221548645,
          -0.260238861116446,
          -0.25542264213200727,
          -0.2508600385623727,
          -0.24652448856451195,
          -0.24239415143740703,
          -0.23845068382593,
          -0.23467839866903817,
          -0.23106368451358072,
          -0.22759459710957064,
          -0.22426056352742094,
          -0.22105216010626486,
          -0.21796094001299424,
          -0.2149792954717336,
          -0.21210034534014205,
          -0.20931784197912728,
          -0.20662609325639733,
          -0.2040198966640854,
          -0.2014944832676944,
          -0.1990454697161966,
          -0.1966688169178409,
          -0.19436079426795913,
          -0.19211794853096384,
          -0.18993707664703155,
          -0.18781520186702086,
          -0.1857495527252602,
          -0.18373754444468798,
          -0.1817767624368487,
          -0.1798649476140284,
          -0.17799998327528976,
          -0.17617988336460869,
          -0.17440278192942243,
          -0.1726669236329145,
          -0.17097065519422475,
          -0.16931241764825966,
          -0.16769073933147177,
          -0.16610422951240686,
          -0.16455157259636416,
          -0.16303152284250397,
          -0.16154289953942805,
          -0.1600845825918561,
          -0.15865550847670126,
          -0.15725466653175166,
          -0.15588109554441382,
          -0.15453388061166892,
          -0.15321215024560048,
          -0.15191507370166754,
          -0.15064185850935372,
          -0.14939174818697698,
          -0.14816402012434765,
          -0.14695798361863333,
          -0.14577297805026757,
          -0.14460837118705053,
          -0.1434635576057456,
          -0.14233795722151585,
          -0.1412310139164557,
          -0.1401421942592976,
          -0.13907098630910417,
          -0.13801689849641158,
          -0.1369794585758797,
          -0.13595821264502989,
          -0.1349527242241275
         ],
         "yaxis": "y2"
        },
        {
         "line": {
          "color": "rgb(0, 0, 255)",
          "dash": "dash",
          "width": 2
         },
         "mode": "lines",
         "name": "validate - ay",
         "type": "scatter",
         "x": [
          0,
          0.1,
          0.2,
          0.3,
          0.4,
          0.5,
          0.6,
          0.7,
          0.8,
          0.9,
          1,
          1.1,
          1.2,
          1.3,
          1.4,
          1.5,
          1.6,
          1.7,
          1.8,
          1.9,
          2,
          2.1,
          2.2,
          2.3,
          2.4,
          2.5,
          2.6,
          2.7,
          2.8,
          2.9,
          3,
          3.1,
          3.2,
          3.3,
          3.4,
          3.5,
          3.6,
          3.7,
          3.8,
          3.9,
          4,
          4.1,
          4.2,
          4.3,
          4.4,
          4.5,
          4.6,
          4.7,
          4.8,
          4.9,
          5,
          5.1,
          5.2,
          5.3,
          5.4,
          5.5,
          5.6,
          5.7,
          5.8,
          5.9,
          6,
          6.1,
          6.2,
          6.3,
          6.4,
          6.5,
          6.6,
          6.7,
          6.8,
          6.9,
          7,
          7.1,
          7.2,
          7.3,
          7.4,
          7.5,
          7.6,
          7.7,
          7.8,
          7.9,
          8,
          8.1,
          8.2,
          8.3,
          8.4,
          8.5,
          8.6,
          8.7,
          8.8,
          8.9,
          9,
          9.1,
          9.2,
          9.3,
          9.4,
          9.5,
          9.6,
          9.7,
          9.8,
          9.9,
          10,
          10.1,
          10.2,
          10.3,
          10.4,
          10.5,
          10.6,
          10.7,
          10.8,
          10.9
         ],
         "xaxis": "x2",
         "y": [
          0,
          0,
          0,
          0,
          0,
          0,
          0,
          0,
          0,
          0,
          0,
          -0.098352,
          -0.163871,
          -0.240041,
          -0.311896,
          -0.381689,
          -0.44814,
          -0.505176,
          -0.556628,
          -0.605131,
          -0.635441,
          -0.626268,
          -0.612977,
          -0.601103,
          -0.584816,
          -0.57125,
          -0.558899,
          -0.54743,
          -0.536521,
          -0.525966,
          -0.515717,
          -0.50582,
          -0.496328,
          -0.487276,
          -0.47867,
          -0.470485,
          -0.462691,
          -0.455257,
          -0.448147,
          -0.441336,
          -0.434803,
          -0.428526,
          -0.422488,
          -0.416675,
          -0.411074,
          -0.40567,
          -0.400454,
          -0.395414,
          -0.39054,
          -0.385824,
          -0.381257,
          -0.37683,
          -0.372538,
          -0.368373,
          -0.364329,
          -0.360401,
          -0.356582,
          -0.352868,
          -0.349254,
          -0.345736,
          -0.34231,
          -0.338972,
          -0.335717,
          -0.332543,
          -0.329447,
          -0.326424,
          -0.323473,
          -0.320591,
          -0.317775,
          -0.315022,
          -0.312331,
          -0.309699,
          -0.307123,
          -0.304603,
          -0.302135,
          -0.299719,
          -0.297353,
          -0.295034,
          -0.292761,
          -0.290533,
          -0.288349,
          -0.286206,
          -0.284105,
          -0.282042,
          -0.280018,
          -0.278031,
          -0.27608,
          -0.274164,
          -0.272282,
          -0.270433,
          -0.268616,
          -0.26683,
          -0.265074,
          -0.263348,
          -0.26165,
          -0.259981,
          -0.258338,
          -0.256722,
          -0.255131,
          -0.253566,
          -0.252025,
          -0.250508,
          -0.24901399999999999,
          -0.247543,
          -0.246094,
          -0.244666,
          -0.24326,
          -0.241874,
          -0.240508,
          -0.239162
         ],
         "yaxis": "y2"
        }
       ],
       "layout": {
        "autosize": false,
        "font": {
         "color": "black",
         "family": "Arial",
         "size": 14
        },
        "height": 900,
        "legend": {
         "orientation": "h",
         "x": 0.01,
         "xanchor": "left",
         "y": 1.1,
         "yanchor": "top"
        },
        "template": {
         "data": {
          "bar": [
           {
            "error_x": {
             "color": "#2a3f5f"
            },
            "error_y": {
             "color": "#2a3f5f"
            },
            "marker": {
             "line": {
              "color": "white",
              "width": 0.5
             }
            },
            "type": "bar"
           }
          ],
          "barpolar": [
           {
            "marker": {
             "line": {
              "color": "white",
              "width": 0.5
             }
            },
            "type": "barpolar"
           }
          ],
          "carpet": [
           {
            "aaxis": {
             "endlinecolor": "#2a3f5f",
             "gridcolor": "#C8D4E3",
             "linecolor": "#C8D4E3",
             "minorgridcolor": "#C8D4E3",
             "startlinecolor": "#2a3f5f"
            },
            "baxis": {
             "endlinecolor": "#2a3f5f",
             "gridcolor": "#C8D4E3",
             "linecolor": "#C8D4E3",
             "minorgridcolor": "#C8D4E3",
             "startlinecolor": "#2a3f5f"
            },
            "type": "carpet"
           }
          ],
          "choropleth": [
           {
            "colorbar": {
             "outlinewidth": 0,
             "ticks": ""
            },
            "type": "choropleth"
           }
          ],
          "contour": [
           {
            "colorbar": {
             "outlinewidth": 0,
             "ticks": ""
            },
            "colorscale": [
             [
              0,
              "#0d0887"
             ],
             [
              0.1111111111111111,
              "#46039f"
             ],
             [
              0.2222222222222222,
              "#7201a8"
             ],
             [
              0.3333333333333333,
              "#9c179e"
             ],
             [
              0.4444444444444444,
              "#bd3786"
             ],
             [
              0.5555555555555556,
              "#d8576b"
             ],
             [
              0.6666666666666666,
              "#ed7953"
             ],
             [
              0.7777777777777778,
              "#fb9f3a"
             ],
             [
              0.8888888888888888,
              "#fdca26"
             ],
             [
              1,
              "#f0f921"
             ]
            ],
            "type": "contour"
           }
          ],
          "contourcarpet": [
           {
            "colorbar": {
             "outlinewidth": 0,
             "ticks": ""
            },
            "type": "contourcarpet"
           }
          ],
          "heatmap": [
           {
            "colorbar": {
             "outlinewidth": 0,
             "ticks": ""
            },
            "colorscale": [
             [
              0,
              "#0d0887"
             ],
             [
              0.1111111111111111,
              "#46039f"
             ],
             [
              0.2222222222222222,
              "#7201a8"
             ],
             [
              0.3333333333333333,
              "#9c179e"
             ],
             [
              0.4444444444444444,
              "#bd3786"
             ],
             [
              0.5555555555555556,
              "#d8576b"
             ],
             [
              0.6666666666666666,
              "#ed7953"
             ],
             [
              0.7777777777777778,
              "#fb9f3a"
             ],
             [
              0.8888888888888888,
              "#fdca26"
             ],
             [
              1,
              "#f0f921"
             ]
            ],
            "type": "heatmap"
           }
          ],
          "heatmapgl": [
           {
            "colorbar": {
             "outlinewidth": 0,
             "ticks": ""
            },
            "colorscale": [
             [
              0,
              "#0d0887"
             ],
             [
              0.1111111111111111,
              "#46039f"
             ],
             [
              0.2222222222222222,
              "#7201a8"
             ],
             [
              0.3333333333333333,
              "#9c179e"
             ],
             [
              0.4444444444444444,
              "#bd3786"
             ],
             [
              0.5555555555555556,
              "#d8576b"
             ],
             [
              0.6666666666666666,
              "#ed7953"
             ],
             [
              0.7777777777777778,
              "#fb9f3a"
             ],
             [
              0.8888888888888888,
              "#fdca26"
             ],
             [
              1,
              "#f0f921"
             ]
            ],
            "type": "heatmapgl"
           }
          ],
          "histogram": [
           {
            "marker": {
             "colorbar": {
              "outlinewidth": 0,
              "ticks": ""
             }
            },
            "type": "histogram"
           }
          ],
          "histogram2d": [
           {
            "colorbar": {
             "outlinewidth": 0,
             "ticks": ""
            },
            "colorscale": [
             [
              0,
              "#0d0887"
             ],
             [
              0.1111111111111111,
              "#46039f"
             ],
             [
              0.2222222222222222,
              "#7201a8"
             ],
             [
              0.3333333333333333,
              "#9c179e"
             ],
             [
              0.4444444444444444,
              "#bd3786"
             ],
             [
              0.5555555555555556,
              "#d8576b"
             ],
             [
              0.6666666666666666,
              "#ed7953"
             ],
             [
              0.7777777777777778,
              "#fb9f3a"
             ],
             [
              0.8888888888888888,
              "#fdca26"
             ],
             [
              1,
              "#f0f921"
             ]
            ],
            "type": "histogram2d"
           }
          ],
          "histogram2dcontour": [
           {
            "colorbar": {
             "outlinewidth": 0,
             "ticks": ""
            },
            "colorscale": [
             [
              0,
              "#0d0887"
             ],
             [
              0.1111111111111111,
              "#46039f"
             ],
             [
              0.2222222222222222,
              "#7201a8"
             ],
             [
              0.3333333333333333,
              "#9c179e"
             ],
             [
              0.4444444444444444,
              "#bd3786"
             ],
             [
              0.5555555555555556,
              "#d8576b"
             ],
             [
              0.6666666666666666,
              "#ed7953"
             ],
             [
              0.7777777777777778,
              "#fb9f3a"
             ],
             [
              0.8888888888888888,
              "#fdca26"
             ],
             [
              1,
              "#f0f921"
             ]
            ],
            "type": "histogram2dcontour"
           }
          ],
          "mesh3d": [
           {
            "colorbar": {
             "outlinewidth": 0,
             "ticks": ""
            },
            "type": "mesh3d"
           }
          ],
          "parcoords": [
           {
            "line": {
             "colorbar": {
              "outlinewidth": 0,
              "ticks": ""
             }
            },
            "type": "parcoords"
           }
          ],
          "pie": [
           {
            "automargin": true,
            "type": "pie"
           }
          ],
          "scatter": [
           {
            "marker": {
             "colorbar": {
              "outlinewidth": 0,
              "ticks": ""
             }
            },
            "type": "scatter"
           }
          ],
          "scatter3d": [
           {
            "line": {
             "colorbar": {
              "outlinewidth": 0,
              "ticks": ""
             }
            },
            "marker": {
             "colorbar": {
              "outlinewidth": 0,
              "ticks": ""
             }
            },
            "type": "scatter3d"
           }
          ],
          "scattercarpet": [
           {
            "marker": {
             "colorbar": {
              "outlinewidth": 0,
              "ticks": ""
             }
            },
            "type": "scattercarpet"
           }
          ],
          "scattergeo": [
           {
            "marker": {
             "colorbar": {
              "outlinewidth": 0,
              "ticks": ""
             }
            },
            "type": "scattergeo"
           }
          ],
          "scattergl": [
           {
            "marker": {
             "colorbar": {
              "outlinewidth": 0,
              "ticks": ""
             }
            },
            "type": "scattergl"
           }
          ],
          "scattermapbox": [
           {
            "marker": {
             "colorbar": {
              "outlinewidth": 0,
              "ticks": ""
             }
            },
            "type": "scattermapbox"
           }
          ],
          "scatterpolar": [
           {
            "marker": {
             "colorbar": {
              "outlinewidth": 0,
              "ticks": ""
             }
            },
            "type": "scatterpolar"
           }
          ],
          "scatterpolargl": [
           {
            "marker": {
             "colorbar": {
              "outlinewidth": 0,
              "ticks": ""
             }
            },
            "type": "scatterpolargl"
           }
          ],
          "scatterternary": [
           {
            "marker": {
             "colorbar": {
              "outlinewidth": 0,
              "ticks": ""
             }
            },
            "type": "scatterternary"
           }
          ],
          "surface": [
           {
            "colorbar": {
             "outlinewidth": 0,
             "ticks": ""
            },
            "colorscale": [
             [
              0,
              "#0d0887"
             ],
             [
              0.1111111111111111,
              "#46039f"
             ],
             [
              0.2222222222222222,
              "#7201a8"
             ],
             [
              0.3333333333333333,
              "#9c179e"
             ],
             [
              0.4444444444444444,
              "#bd3786"
             ],
             [
              0.5555555555555556,
              "#d8576b"
             ],
             [
              0.6666666666666666,
              "#ed7953"
             ],
             [
              0.7777777777777778,
              "#fb9f3a"
             ],
             [
              0.8888888888888888,
              "#fdca26"
             ],
             [
              1,
              "#f0f921"
             ]
            ],
            "type": "surface"
           }
          ],
          "table": [
           {
            "cells": {
             "fill": {
              "color": "#EBF0F8"
             },
             "line": {
              "color": "white"
             }
            },
            "header": {
             "fill": {
              "color": "#C8D4E3"
             },
             "line": {
              "color": "white"
             }
            },
            "type": "table"
           }
          ]
         },
         "layout": {
          "annotationdefaults": {
           "arrowcolor": "#2a3f5f",
           "arrowhead": 0,
           "arrowwidth": 1
          },
          "coloraxis": {
           "colorbar": {
            "outlinewidth": 0,
            "ticks": ""
           }
          },
          "colorscale": {
           "diverging": [
            [
             0,
             "#8e0152"
            ],
            [
             0.1,
             "#c51b7d"
            ],
            [
             0.2,
             "#de77ae"
            ],
            [
             0.3,
             "#f1b6da"
            ],
            [
             0.4,
             "#fde0ef"
            ],
            [
             0.5,
             "#f7f7f7"
            ],
            [
             0.6,
             "#e6f5d0"
            ],
            [
             0.7,
             "#b8e186"
            ],
            [
             0.8,
             "#7fbc41"
            ],
            [
             0.9,
             "#4d9221"
            ],
            [
             1,
             "#276419"
            ]
           ],
           "sequential": [
            [
             0,
             "#0d0887"
            ],
            [
             0.1111111111111111,
             "#46039f"
            ],
            [
             0.2222222222222222,
             "#7201a8"
            ],
            [
             0.3333333333333333,
             "#9c179e"
            ],
            [
             0.4444444444444444,
             "#bd3786"
            ],
            [
             0.5555555555555556,
             "#d8576b"
            ],
            [
             0.6666666666666666,
             "#ed7953"
            ],
            [
             0.7777777777777778,
             "#fb9f3a"
            ],
            [
             0.8888888888888888,
             "#fdca26"
            ],
            [
             1,
             "#f0f921"
            ]
           ],
           "sequentialminus": [
            [
             0,
             "#0d0887"
            ],
            [
             0.1111111111111111,
             "#46039f"
            ],
            [
             0.2222222222222222,
             "#7201a8"
            ],
            [
             0.3333333333333333,
             "#9c179e"
            ],
            [
             0.4444444444444444,
             "#bd3786"
            ],
            [
             0.5555555555555556,
             "#d8576b"
            ],
            [
             0.6666666666666666,
             "#ed7953"
            ],
            [
             0.7777777777777778,
             "#fb9f3a"
            ],
            [
             0.8888888888888888,
             "#fdca26"
            ],
            [
             1,
             "#f0f921"
            ]
           ]
          },
          "colorway": [
           "#636efa",
           "#EF553B",
           "#00cc96",
           "#ab63fa",
           "#FFA15A",
           "#19d3f3",
           "#FF6692",
           "#B6E880",
           "#FF97FF",
           "#FECB52"
          ],
          "font": {
           "color": "#2a3f5f"
          },
          "geo": {
           "bgcolor": "white",
           "lakecolor": "white",
           "landcolor": "white",
           "showlakes": true,
           "showland": true,
           "subunitcolor": "#C8D4E3"
          },
          "hoverlabel": {
           "align": "left"
          },
          "hovermode": "closest",
          "mapbox": {
           "style": "light"
          },
          "paper_bgcolor": "white",
          "plot_bgcolor": "white",
          "polar": {
           "angularaxis": {
            "gridcolor": "#EBF0F8",
            "linecolor": "#EBF0F8",
            "ticks": ""
           },
           "bgcolor": "white",
           "radialaxis": {
            "gridcolor": "#EBF0F8",
            "linecolor": "#EBF0F8",
            "ticks": ""
           }
          },
          "scene": {
           "xaxis": {
            "backgroundcolor": "white",
            "gridcolor": "#DFE8F3",
            "gridwidth": 2,
            "linecolor": "#EBF0F8",
            "showbackground": true,
            "ticks": "",
            "zerolinecolor": "#EBF0F8"
           },
           "yaxis": {
            "backgroundcolor": "white",
            "gridcolor": "#DFE8F3",
            "gridwidth": 2,
            "linecolor": "#EBF0F8",
            "showbackground": true,
            "ticks": "",
            "zerolinecolor": "#EBF0F8"
           },
           "zaxis": {
            "backgroundcolor": "white",
            "gridcolor": "#DFE8F3",
            "gridwidth": 2,
            "linecolor": "#EBF0F8",
            "showbackground": true,
            "ticks": "",
            "zerolinecolor": "#EBF0F8"
           }
          },
          "shapedefaults": {
           "line": {
            "color": "#2a3f5f"
           }
          },
          "ternary": {
           "aaxis": {
            "gridcolor": "#DFE8F3",
            "linecolor": "#A2B1C6",
            "ticks": ""
           },
           "baxis": {
            "gridcolor": "#DFE8F3",
            "linecolor": "#A2B1C6",
            "ticks": ""
           },
           "bgcolor": "white",
           "caxis": {
            "gridcolor": "#DFE8F3",
            "linecolor": "#A2B1C6",
            "ticks": ""
           }
          },
          "title": {
           "x": 0.05
          },
          "xaxis": {
           "automargin": true,
           "gridcolor": "#EBF0F8",
           "linecolor": "#EBF0F8",
           "ticks": "",
           "title": {
            "standoff": 15
           },
           "zerolinecolor": "#EBF0F8",
           "zerolinewidth": 2
          },
          "yaxis": {
           "automargin": true,
           "gridcolor": "#EBF0F8",
           "linecolor": "#EBF0F8",
           "ticks": "",
           "title": {
            "standoff": 15
           },
           "zerolinecolor": "#EBF0F8",
           "zerolinewidth": 2
          }
         }
        },
        "title": {
         "text": "Acceleration"
        },
        "width": 900,
        "xaxis": {
         "anchor": "y",
         "domain": [
          0,
          1
         ],
         "linecolor": "black",
         "linewidth": 1,
         "matches": "x2",
         "showgrid": false,
         "showline": true,
         "showticklabels": false,
         "tickcolor": "black",
         "ticklen": 10,
         "ticks": "outside",
         "tickwidth": 1,
         "title": {
          "text": ""
         },
         "zeroline": false
        },
        "xaxis2": {
         "anchor": "y2",
         "domain": [
          0,
          1
         ],
         "linecolor": "black",
         "linewidth": 1,
         "showgrid": false,
         "showline": true,
         "tickcolor": "black",
         "ticklen": 10,
         "ticks": "outside",
         "tickwidth": 1,
         "title": {
          "text": "Time (s)"
         },
         "zeroline": false
        },
        "yaxis": {
         "anchor": "x",
         "domain": [
          0.5349999999999999,
          0.9999999999999999
         ],
         "linecolor": "black",
         "linewidth": 1,
         "showgrid": false,
         "showline": true,
         "tickcolor": "black",
         "ticklen": 10,
         "ticks": "outside",
         "tickwidth": 1,
         "title": {
          "text": "Forward Accel (g)"
         },
         "zeroline": false
        },
        "yaxis2": {
         "anchor": "x2",
         "domain": [
          0,
          0.46499999999999997
         ],
         "linecolor": "black",
         "linewidth": 1,
         "showgrid": false,
         "showline": true,
         "tickcolor": "black",
         "ticklen": 10,
         "ticks": "outside",
         "tickwidth": 1,
         "title": {
          "text": "Rightward Accel (g)"
         },
         "zeroline": false
        }
       }
      },
      "text/html": [
       "<div>\n",
       "        \n",
       "        \n",
       "            <div id=\"3bf6fc14-a385-48c2-b21c-fdb0eb6806be\" class=\"plotly-graph-div\" style=\"height:900px; width:900px;\"></div>\n",
       "            <script type=\"text/javascript\">\n",
       "                require([\"plotly\"], function(Plotly) {\n",
       "                    window.PLOTLYENV=window.PLOTLYENV || {};\n",
       "                    \n",
       "                if (document.getElementById(\"3bf6fc14-a385-48c2-b21c-fdb0eb6806be\")) {\n",
       "                    Plotly.newPlot(\n",
       "                        '3bf6fc14-a385-48c2-b21c-fdb0eb6806be',\n",
       "                        [{\"line\": {\"color\": \"rgb(0, 255, 0)\", \"width\": 2}, \"mode\": \"lines\", \"name\": \"pycrash - ax\", \"type\": \"scatter\", \"x\": [0.0, 0.1, 0.2, 0.3, 0.4, 0.5, 0.6, 0.7, 0.8, 0.9, 1.0, 1.1, 1.2, 1.3, 1.4, 1.5, 1.6, 1.7, 1.8, 1.9, 2.0, 2.1, 2.2, 2.3, 2.4, 2.5, 2.6, 2.7, 2.8, 2.9, 3.0, 3.1, 3.2, 3.3, 3.4, 3.5, 3.6, 3.7, 3.8, 3.9, 4.0, 4.1, 4.2, 4.3, 4.4, 4.5, 4.6, 4.7, 4.8, 4.9, 5.0, 5.1, 5.2, 5.3, 5.4, 5.5, 5.6, 5.7, 5.8, 5.9, 6.0, 6.1, 6.2, 6.3, 6.4, 6.5, 6.6, 6.7, 6.8, 6.9, 7.0, 7.1, 7.2, 7.3, 7.4, 7.5, 7.6, 7.7, 7.8, 7.9, 8.0, 8.1, 8.2, 8.3, 8.4, 8.5, 8.6, 8.7, 8.8, 8.9, 9.0, 9.1, 9.2, 9.3, 9.4, 9.5, 9.6, 9.7, 9.8, 9.9, 10.0, 10.1, 10.2, 10.3, 10.4, 10.5, 10.6, 10.7, 10.8, 10.9], \"xaxis\": \"x\", \"y\": [0.0, 0.0, 0.0, 0.0, 0.0, 0.0, 0.0, 0.0, 0.0, 0.0, 0.0, -0.0020886188045302597, -0.008505740408111421, -0.017034562390196205, -0.026622997040768665, -0.037840778296843756, -0.05176730065945961, -0.06923325452792511, -0.09064259692316413, -0.11606368361399588, -0.14534939226252644, -0.14064260180572366, -0.1334909934739857, -0.1329402429416846, -0.1370664873239032, -0.14212967837772894, -0.14558158609860108, -0.14646079205306495, -0.14485820842236738, -0.14132622305067052, -0.13650218994433772, -0.13093910225034036, -0.12506238576426706, -0.11918146627279551, -0.11351412582769185, -0.10820651940420739, -0.10334637592885527, -0.09897259941677779, -0.09508461558465761, -0.0916527761711267, -0.08862924213514974, -0.08595795225152238, -0.08358246577394544, -0.08145113930101147, -0.07951977839157977, -0.07775233495667508, -0.07612035810079128, -0.07460182882877336, -0.07317983088336186, -0.071841321726898, -0.07057611925181224, -0.06937612526558799, -0.06823475871294916, -0.06714655477300831, -0.06610688613614253, -0.0651117700326267, -0.06415773345358537, -0.06324171701685694, -0.06236100428572859, -0.0615131679943092, -0.06069602780682237, -0.05990761627109896, -0.05914615085577236, -0.05841001067592153, -0.05769771692833669, -0.05700791631289306, -0.05633936688662938, -0.05569092591888466, -0.055061539406337255, -0.05445023297509944, -0.0538561039492525, -0.05327831440587183, -0.05271608506882969, -0.052168689919510285, -0.05163545142336191, -0.05111573628794513, -0.05060895168164916, -0.05011454185324196, -0.0496319851014537, -0.04916079105127772, -0.04870049819991216, -0.04825067170048194, -0.047810901356061475, -0.04738079980020715, -0.046960000843334355, -0.046548157966930494, -0.046144942949865535, -0.045750044613004685, -0.04536316767000141, -0.04498403167358659, -0.04461237004791797, -0.04424792919863304, -0.043890467693189786, -0.043539755504898685, -0.043195573314767026, -0.04285771186590492, -0.04252597136579396, -0.04220016093220627, -0.04188009807899051, -0.041565608238321054, -0.041256524316342684, -0.04095268627944104, -0.0406539407686363, -0.040360140739832545, -0.040071145127867365, -0.03978681853249539, -0.03950703092460763, -0.03923165737114225, -0.038960577777276496, -0.03869367664461429], \"yaxis\": \"y\"}, {\"line\": {\"color\": \"rgb(0, 255, 0)\", \"dash\": \"dash\", \"width\": 2}, \"mode\": \"lines\", \"name\": \"validate - ax\", \"type\": \"scatter\", \"x\": [0.0, 0.1, 0.2, 0.3, 0.4, 0.5, 0.6, 0.7, 0.8, 0.9, 1.0, 1.1, 1.2, 1.3, 1.4, 1.5, 1.6, 1.7, 1.8, 1.9, 2.0, 2.1, 2.2, 2.3, 2.4, 2.5, 2.6, 2.7, 2.8, 2.9, 3.0, 3.1, 3.2, 3.3, 3.4, 3.5, 3.6, 3.7, 3.8, 3.9, 4.0, 4.1, 4.2, 4.3, 4.4, 4.5, 4.6, 4.7, 4.8, 4.9, 5.0, 5.1, 5.2, 5.3, 5.4, 5.5, 5.6, 5.7, 5.8, 5.9, 6.0, 6.1, 6.2, 6.3, 6.4, 6.5, 6.6, 6.7, 6.8, 6.9, 7.0, 7.1, 7.2, 7.3, 7.4, 7.5, 7.6, 7.7, 7.8, 7.9, 8.0, 8.1, 8.2, 8.3, 8.4, 8.5, 8.6, 8.7, 8.8, 8.9, 9.0, 9.1, 9.2, 9.3, 9.4, 9.5, 9.6, 9.7, 9.8, 9.9, 10.0, 10.1, 10.2, 10.3, 10.4, 10.5, 10.6, 10.7, 10.8, 10.9], \"xaxis\": \"x\", \"y\": [0.0, 0.0, 0.0, 0.0, 0.0, 0.0, 0.0, 0.0, 0.0, 0.0, 0.0, -0.004057, -0.013866, -0.027818, -0.045629, -0.067071, -0.091975, -0.118056, -0.146114, -0.178055, -0.207538, -0.200021, -0.188624, -0.180731, -0.172537, -0.167271, -0.1633, -0.159929, -0.156809, -0.153799, -0.15087, -0.148039, -0.145328, -0.142744, -0.140289, -0.137953, -0.135727, -0.133601, -0.131567, -0.129615, -0.127742, -0.125941, -0.124207, -0.122537, -0.120926, -0.119372, -0.11787, -0.116419, -0.115014, -0.113654, -0.112337, -0.111059, -0.10982, -0.108616, -0.107447, -0.106312, -0.105207, -0.104132, -0.103086, -0.102068, -0.101075, -0.100107, -0.099164, -0.098244, -0.097345, -0.096468, -0.095612, -0.094775, -0.093957, -0.093157, -0.092375, -0.09161, -0.090861, -0.090128, -0.08941, -0.088707, -0.088018, -0.087343, -0.086681, -0.086033, -0.085396, -0.084772, -0.084159, -0.083558, -0.082968, -0.082388, -0.081819, -0.08126, -0.080711, -0.080171, -0.079641, -0.079119, -0.078607, -0.078102, -0.077606, -0.077119, -0.076638, -0.076166, -0.075701, -0.075243, -0.074793, -0.074349, -0.073912, -0.073482, -0.073058, -0.07264, -0.072228, -0.071822, -0.071423, -0.071028], \"yaxis\": \"y\"}, {\"line\": {\"color\": \"rgb(0, 0, 255)\", \"width\": 2}, \"mode\": \"lines\", \"name\": \"pycrash - ay\", \"type\": \"scatter\", \"x\": [0.0, 0.1, 0.2, 0.3, 0.4, 0.5, 0.6, 0.7, 0.8, 0.9, 1.0, 1.1, 1.2, 1.3, 1.4, 1.5, 1.6, 1.7, 1.8, 1.9, 2.0, 2.1, 2.2, 2.3, 2.4, 2.5, 2.6, 2.7, 2.8, 2.9, 3.0, 3.1, 3.2, 3.3, 3.4, 3.5, 3.6, 3.7, 3.8, 3.9, 4.0, 4.1, 4.2, 4.3, 4.4, 4.5, 4.6, 4.7, 4.8, 4.9, 5.0, 5.1, 5.2, 5.3, 5.4, 5.5, 5.6, 5.7, 5.8, 5.9, 6.0, 6.1, 6.2, 6.3, 6.4, 6.5, 6.6, 6.7, 6.8, 6.9, 7.0, 7.1, 7.2, 7.3, 7.4, 7.5, 7.6, 7.7, 7.8, 7.9, 8.0, 8.1, 8.2, 8.3, 8.4, 8.5, 8.6, 8.7, 8.8, 8.9, 9.0, 9.1, 9.2, 9.3, 9.4, 9.5, 9.6, 9.7, 9.8, 9.9, 10.0, 10.1, 10.2, 10.3, 10.4, 10.5, 10.6, 10.7, 10.8, 10.9], \"xaxis\": \"x2\", \"y\": [0.0, 0.0, 0.0, 0.0, 0.0, 0.0, 0.0, 0.0, 0.0, 0.0, 0.0, -0.05870161928376345, -0.11268365926961123, -0.14721922010448005, -0.17239870380718209, -0.19999418562409488, -0.23559389995829058, -0.2794449861677874, -0.32927612569876796, -0.38227665526263693, -0.4359374616367491, -0.43757851640868706, -0.4393819495251962, -0.45731663619833324, -0.4841472385515151, -0.5091873212665576, -0.5259545011447015, -0.5325635429530481, -0.5298808800016618, -0.5198518654647175, -0.5045505425184981, -0.48580050965644456, -0.46509938876899737, -0.4436517167199504, -0.4224109585160382, -0.40210092562013366, -0.38322323025204036, -0.36606742427553285, -0.35073510491737875, -0.3371790856741338, -0.3252509750630871, -0.31474794463399847, -0.3054512873346728, -0.29715318204569163, -0.28967170903123013, -0.282856457050388, -0.2765878782441155, -0.2707732996561774, -0.26534174221548645, -0.260238861116446, -0.25542264213200727, -0.2508600385623727, -0.24652448856451195, -0.24239415143740703, -0.23845068382593, -0.23467839866903817, -0.23106368451358072, -0.22759459710957064, -0.22426056352742094, -0.22105216010626486, -0.21796094001299424, -0.2149792954717336, -0.21210034534014205, -0.20931784197912728, -0.20662609325639733, -0.2040198966640854, -0.2014944832676944, -0.1990454697161966, -0.1966688169178409, -0.19436079426795913, -0.19211794853096384, -0.18993707664703155, -0.18781520186702086, -0.1857495527252602, -0.18373754444468798, -0.1817767624368487, -0.1798649476140284, -0.17799998327528976, -0.17617988336460869, -0.17440278192942243, -0.1726669236329145, -0.17097065519422475, -0.16931241764825966, -0.16769073933147177, -0.16610422951240686, -0.16455157259636416, -0.16303152284250397, -0.16154289953942805, -0.1600845825918561, -0.15865550847670126, -0.15725466653175166, -0.15588109554441382, -0.15453388061166892, -0.15321215024560048, -0.15191507370166754, -0.15064185850935372, -0.14939174818697698, -0.14816402012434765, -0.14695798361863333, -0.14577297805026757, -0.14460837118705053, -0.1434635576057456, -0.14233795722151585, -0.1412310139164557, -0.1401421942592976, -0.13907098630910417, -0.13801689849641158, -0.1369794585758797, -0.13595821264502989, -0.1349527242241275], \"yaxis\": \"y2\"}, {\"line\": {\"color\": \"rgb(0, 0, 255)\", \"dash\": \"dash\", \"width\": 2}, \"mode\": \"lines\", \"name\": \"validate - ay\", \"type\": \"scatter\", \"x\": [0.0, 0.1, 0.2, 0.3, 0.4, 0.5, 0.6, 0.7, 0.8, 0.9, 1.0, 1.1, 1.2, 1.3, 1.4, 1.5, 1.6, 1.7, 1.8, 1.9, 2.0, 2.1, 2.2, 2.3, 2.4, 2.5, 2.6, 2.7, 2.8, 2.9, 3.0, 3.1, 3.2, 3.3, 3.4, 3.5, 3.6, 3.7, 3.8, 3.9, 4.0, 4.1, 4.2, 4.3, 4.4, 4.5, 4.6, 4.7, 4.8, 4.9, 5.0, 5.1, 5.2, 5.3, 5.4, 5.5, 5.6, 5.7, 5.8, 5.9, 6.0, 6.1, 6.2, 6.3, 6.4, 6.5, 6.6, 6.7, 6.8, 6.9, 7.0, 7.1, 7.2, 7.3, 7.4, 7.5, 7.6, 7.7, 7.8, 7.9, 8.0, 8.1, 8.2, 8.3, 8.4, 8.5, 8.6, 8.7, 8.8, 8.9, 9.0, 9.1, 9.2, 9.3, 9.4, 9.5, 9.6, 9.7, 9.8, 9.9, 10.0, 10.1, 10.2, 10.3, 10.4, 10.5, 10.6, 10.7, 10.8, 10.9], \"xaxis\": \"x2\", \"y\": [0.0, 0.0, 0.0, 0.0, 0.0, 0.0, 0.0, 0.0, 0.0, 0.0, 0.0, -0.098352, -0.163871, -0.240041, -0.311896, -0.381689, -0.44814, -0.505176, -0.556628, -0.605131, -0.635441, -0.626268, -0.612977, -0.601103, -0.584816, -0.57125, -0.558899, -0.54743, -0.536521, -0.525966, -0.515717, -0.50582, -0.496328, -0.487276, -0.47867, -0.470485, -0.462691, -0.455257, -0.448147, -0.441336, -0.434803, -0.428526, -0.422488, -0.416675, -0.411074, -0.40567, -0.400454, -0.395414, -0.39054, -0.385824, -0.381257, -0.37683, -0.372538, -0.368373, -0.364329, -0.360401, -0.356582, -0.352868, -0.349254, -0.345736, -0.34231, -0.338972, -0.335717, -0.332543, -0.329447, -0.326424, -0.323473, -0.320591, -0.317775, -0.315022, -0.312331, -0.309699, -0.307123, -0.304603, -0.302135, -0.299719, -0.297353, -0.295034, -0.292761, -0.290533, -0.288349, -0.286206, -0.284105, -0.282042, -0.280018, -0.278031, -0.27608, -0.274164, -0.272282, -0.270433, -0.268616, -0.26683, -0.265074, -0.263348, -0.26165, -0.259981, -0.258338, -0.256722, -0.255131, -0.253566, -0.252025, -0.250508, -0.24901399999999999, -0.247543, -0.246094, -0.244666, -0.24326, -0.241874, -0.240508, -0.239162], \"yaxis\": \"y2\"}],\n",
       "                        {\"autosize\": false, \"font\": {\"color\": \"black\", \"family\": \"Arial\", \"size\": 14}, \"height\": 900, \"legend\": {\"orientation\": \"h\", \"x\": 0.01, \"xanchor\": \"left\", \"y\": 1.1, \"yanchor\": \"top\"}, \"template\": {\"data\": {\"bar\": [{\"error_x\": {\"color\": \"#2a3f5f\"}, \"error_y\": {\"color\": \"#2a3f5f\"}, \"marker\": {\"line\": {\"color\": \"white\", \"width\": 0.5}}, \"type\": \"bar\"}], \"barpolar\": [{\"marker\": {\"line\": {\"color\": \"white\", \"width\": 0.5}}, \"type\": \"barpolar\"}], \"carpet\": [{\"aaxis\": {\"endlinecolor\": \"#2a3f5f\", \"gridcolor\": \"#C8D4E3\", \"linecolor\": \"#C8D4E3\", \"minorgridcolor\": \"#C8D4E3\", \"startlinecolor\": \"#2a3f5f\"}, \"baxis\": {\"endlinecolor\": \"#2a3f5f\", \"gridcolor\": \"#C8D4E3\", \"linecolor\": \"#C8D4E3\", \"minorgridcolor\": \"#C8D4E3\", \"startlinecolor\": \"#2a3f5f\"}, \"type\": \"carpet\"}], \"choropleth\": [{\"colorbar\": {\"outlinewidth\": 0, \"ticks\": \"\"}, \"type\": \"choropleth\"}], \"contour\": [{\"colorbar\": {\"outlinewidth\": 0, \"ticks\": \"\"}, \"colorscale\": [[0.0, \"#0d0887\"], [0.1111111111111111, \"#46039f\"], [0.2222222222222222, \"#7201a8\"], [0.3333333333333333, \"#9c179e\"], [0.4444444444444444, \"#bd3786\"], [0.5555555555555556, \"#d8576b\"], [0.6666666666666666, \"#ed7953\"], [0.7777777777777778, \"#fb9f3a\"], [0.8888888888888888, \"#fdca26\"], [1.0, \"#f0f921\"]], \"type\": \"contour\"}], \"contourcarpet\": [{\"colorbar\": {\"outlinewidth\": 0, \"ticks\": \"\"}, \"type\": \"contourcarpet\"}], \"heatmap\": [{\"colorbar\": {\"outlinewidth\": 0, \"ticks\": \"\"}, \"colorscale\": [[0.0, \"#0d0887\"], [0.1111111111111111, \"#46039f\"], [0.2222222222222222, \"#7201a8\"], [0.3333333333333333, \"#9c179e\"], [0.4444444444444444, \"#bd3786\"], [0.5555555555555556, \"#d8576b\"], [0.6666666666666666, \"#ed7953\"], [0.7777777777777778, \"#fb9f3a\"], [0.8888888888888888, \"#fdca26\"], [1.0, \"#f0f921\"]], \"type\": \"heatmap\"}], \"heatmapgl\": [{\"colorbar\": {\"outlinewidth\": 0, \"ticks\": \"\"}, \"colorscale\": [[0.0, \"#0d0887\"], [0.1111111111111111, \"#46039f\"], [0.2222222222222222, \"#7201a8\"], [0.3333333333333333, \"#9c179e\"], [0.4444444444444444, \"#bd3786\"], [0.5555555555555556, \"#d8576b\"], [0.6666666666666666, \"#ed7953\"], [0.7777777777777778, \"#fb9f3a\"], [0.8888888888888888, \"#fdca26\"], [1.0, \"#f0f921\"]], \"type\": \"heatmapgl\"}], \"histogram\": [{\"marker\": {\"colorbar\": {\"outlinewidth\": 0, \"ticks\": \"\"}}, \"type\": \"histogram\"}], \"histogram2d\": [{\"colorbar\": {\"outlinewidth\": 0, \"ticks\": \"\"}, \"colorscale\": [[0.0, \"#0d0887\"], [0.1111111111111111, \"#46039f\"], [0.2222222222222222, \"#7201a8\"], [0.3333333333333333, \"#9c179e\"], [0.4444444444444444, \"#bd3786\"], [0.5555555555555556, \"#d8576b\"], [0.6666666666666666, \"#ed7953\"], [0.7777777777777778, \"#fb9f3a\"], [0.8888888888888888, \"#fdca26\"], [1.0, \"#f0f921\"]], \"type\": \"histogram2d\"}], \"histogram2dcontour\": [{\"colorbar\": {\"outlinewidth\": 0, \"ticks\": \"\"}, \"colorscale\": [[0.0, \"#0d0887\"], [0.1111111111111111, \"#46039f\"], [0.2222222222222222, \"#7201a8\"], [0.3333333333333333, \"#9c179e\"], [0.4444444444444444, \"#bd3786\"], [0.5555555555555556, \"#d8576b\"], [0.6666666666666666, \"#ed7953\"], [0.7777777777777778, \"#fb9f3a\"], [0.8888888888888888, \"#fdca26\"], [1.0, \"#f0f921\"]], \"type\": \"histogram2dcontour\"}], \"mesh3d\": [{\"colorbar\": {\"outlinewidth\": 0, \"ticks\": \"\"}, \"type\": \"mesh3d\"}], \"parcoords\": [{\"line\": {\"colorbar\": {\"outlinewidth\": 0, \"ticks\": \"\"}}, \"type\": \"parcoords\"}], \"pie\": [{\"automargin\": true, \"type\": \"pie\"}], \"scatter\": [{\"marker\": {\"colorbar\": {\"outlinewidth\": 0, \"ticks\": \"\"}}, \"type\": \"scatter\"}], \"scatter3d\": [{\"line\": {\"colorbar\": {\"outlinewidth\": 0, \"ticks\": \"\"}}, \"marker\": {\"colorbar\": {\"outlinewidth\": 0, \"ticks\": \"\"}}, \"type\": \"scatter3d\"}], \"scattercarpet\": [{\"marker\": {\"colorbar\": {\"outlinewidth\": 0, \"ticks\": \"\"}}, \"type\": \"scattercarpet\"}], \"scattergeo\": [{\"marker\": {\"colorbar\": {\"outlinewidth\": 0, \"ticks\": \"\"}}, \"type\": \"scattergeo\"}], \"scattergl\": [{\"marker\": {\"colorbar\": {\"outlinewidth\": 0, \"ticks\": \"\"}}, \"type\": \"scattergl\"}], \"scattermapbox\": [{\"marker\": {\"colorbar\": {\"outlinewidth\": 0, \"ticks\": \"\"}}, \"type\": \"scattermapbox\"}], \"scatterpolar\": [{\"marker\": {\"colorbar\": {\"outlinewidth\": 0, \"ticks\": \"\"}}, \"type\": \"scatterpolar\"}], \"scatterpolargl\": [{\"marker\": {\"colorbar\": {\"outlinewidth\": 0, \"ticks\": \"\"}}, \"type\": \"scatterpolargl\"}], \"scatterternary\": [{\"marker\": {\"colorbar\": {\"outlinewidth\": 0, \"ticks\": \"\"}}, \"type\": \"scatterternary\"}], \"surface\": [{\"colorbar\": {\"outlinewidth\": 0, \"ticks\": \"\"}, \"colorscale\": [[0.0, \"#0d0887\"], [0.1111111111111111, \"#46039f\"], [0.2222222222222222, \"#7201a8\"], [0.3333333333333333, \"#9c179e\"], [0.4444444444444444, \"#bd3786\"], [0.5555555555555556, \"#d8576b\"], [0.6666666666666666, \"#ed7953\"], [0.7777777777777778, \"#fb9f3a\"], [0.8888888888888888, \"#fdca26\"], [1.0, \"#f0f921\"]], \"type\": \"surface\"}], \"table\": [{\"cells\": {\"fill\": {\"color\": \"#EBF0F8\"}, \"line\": {\"color\": \"white\"}}, \"header\": {\"fill\": {\"color\": \"#C8D4E3\"}, \"line\": {\"color\": \"white\"}}, \"type\": \"table\"}]}, \"layout\": {\"annotationdefaults\": {\"arrowcolor\": \"#2a3f5f\", \"arrowhead\": 0, \"arrowwidth\": 1}, \"coloraxis\": {\"colorbar\": {\"outlinewidth\": 0, \"ticks\": \"\"}}, \"colorscale\": {\"diverging\": [[0, \"#8e0152\"], [0.1, \"#c51b7d\"], [0.2, \"#de77ae\"], [0.3, \"#f1b6da\"], [0.4, \"#fde0ef\"], [0.5, \"#f7f7f7\"], [0.6, \"#e6f5d0\"], [0.7, \"#b8e186\"], [0.8, \"#7fbc41\"], [0.9, \"#4d9221\"], [1, \"#276419\"]], \"sequential\": [[0.0, \"#0d0887\"], [0.1111111111111111, \"#46039f\"], [0.2222222222222222, \"#7201a8\"], [0.3333333333333333, \"#9c179e\"], [0.4444444444444444, \"#bd3786\"], [0.5555555555555556, \"#d8576b\"], [0.6666666666666666, \"#ed7953\"], [0.7777777777777778, \"#fb9f3a\"], [0.8888888888888888, \"#fdca26\"], [1.0, \"#f0f921\"]], \"sequentialminus\": [[0.0, \"#0d0887\"], [0.1111111111111111, \"#46039f\"], [0.2222222222222222, \"#7201a8\"], [0.3333333333333333, \"#9c179e\"], [0.4444444444444444, \"#bd3786\"], [0.5555555555555556, \"#d8576b\"], [0.6666666666666666, \"#ed7953\"], [0.7777777777777778, \"#fb9f3a\"], [0.8888888888888888, \"#fdca26\"], [1.0, \"#f0f921\"]]}, \"colorway\": [\"#636efa\", \"#EF553B\", \"#00cc96\", \"#ab63fa\", \"#FFA15A\", \"#19d3f3\", \"#FF6692\", \"#B6E880\", \"#FF97FF\", \"#FECB52\"], \"font\": {\"color\": \"#2a3f5f\"}, \"geo\": {\"bgcolor\": \"white\", \"lakecolor\": \"white\", \"landcolor\": \"white\", \"showlakes\": true, \"showland\": true, \"subunitcolor\": \"#C8D4E3\"}, \"hoverlabel\": {\"align\": \"left\"}, \"hovermode\": \"closest\", \"mapbox\": {\"style\": \"light\"}, \"paper_bgcolor\": \"white\", \"plot_bgcolor\": \"white\", \"polar\": {\"angularaxis\": {\"gridcolor\": \"#EBF0F8\", \"linecolor\": \"#EBF0F8\", \"ticks\": \"\"}, \"bgcolor\": \"white\", \"radialaxis\": {\"gridcolor\": \"#EBF0F8\", \"linecolor\": \"#EBF0F8\", \"ticks\": \"\"}}, \"scene\": {\"xaxis\": {\"backgroundcolor\": \"white\", \"gridcolor\": \"#DFE8F3\", \"gridwidth\": 2, \"linecolor\": \"#EBF0F8\", \"showbackground\": true, \"ticks\": \"\", \"zerolinecolor\": \"#EBF0F8\"}, \"yaxis\": {\"backgroundcolor\": \"white\", \"gridcolor\": \"#DFE8F3\", \"gridwidth\": 2, \"linecolor\": \"#EBF0F8\", \"showbackground\": true, \"ticks\": \"\", \"zerolinecolor\": \"#EBF0F8\"}, \"zaxis\": {\"backgroundcolor\": \"white\", \"gridcolor\": \"#DFE8F3\", \"gridwidth\": 2, \"linecolor\": \"#EBF0F8\", \"showbackground\": true, \"ticks\": \"\", \"zerolinecolor\": \"#EBF0F8\"}}, \"shapedefaults\": {\"line\": {\"color\": \"#2a3f5f\"}}, \"ternary\": {\"aaxis\": {\"gridcolor\": \"#DFE8F3\", \"linecolor\": \"#A2B1C6\", \"ticks\": \"\"}, \"baxis\": {\"gridcolor\": \"#DFE8F3\", \"linecolor\": \"#A2B1C6\", \"ticks\": \"\"}, \"bgcolor\": \"white\", \"caxis\": {\"gridcolor\": \"#DFE8F3\", \"linecolor\": \"#A2B1C6\", \"ticks\": \"\"}}, \"title\": {\"x\": 0.05}, \"xaxis\": {\"automargin\": true, \"gridcolor\": \"#EBF0F8\", \"linecolor\": \"#EBF0F8\", \"ticks\": \"\", \"title\": {\"standoff\": 15}, \"zerolinecolor\": \"#EBF0F8\", \"zerolinewidth\": 2}, \"yaxis\": {\"automargin\": true, \"gridcolor\": \"#EBF0F8\", \"linecolor\": \"#EBF0F8\", \"ticks\": \"\", \"title\": {\"standoff\": 15}, \"zerolinecolor\": \"#EBF0F8\", \"zerolinewidth\": 2}}}, \"title\": {\"text\": \"Acceleration\"}, \"width\": 900, \"xaxis\": {\"anchor\": \"y\", \"domain\": [0.0, 1.0], \"linecolor\": \"black\", \"linewidth\": 1, \"matches\": \"x2\", \"showgrid\": false, \"showline\": true, \"showticklabels\": false, \"tickcolor\": \"black\", \"ticklen\": 10, \"ticks\": \"outside\", \"tickwidth\": 1, \"title\": {\"text\": \"\"}, \"zeroline\": false}, \"xaxis2\": {\"anchor\": \"y2\", \"domain\": [0.0, 1.0], \"linecolor\": \"black\", \"linewidth\": 1, \"showgrid\": false, \"showline\": true, \"tickcolor\": \"black\", \"ticklen\": 10, \"ticks\": \"outside\", \"tickwidth\": 1, \"title\": {\"text\": \"Time (s)\"}, \"zeroline\": false}, \"yaxis\": {\"anchor\": \"x\", \"domain\": [0.5349999999999999, 0.9999999999999999], \"linecolor\": \"black\", \"linewidth\": 1, \"showgrid\": false, \"showline\": true, \"tickcolor\": \"black\", \"ticklen\": 10, \"ticks\": \"outside\", \"tickwidth\": 1, \"title\": {\"text\": \"Forward Accel (g)\"}, \"zeroline\": false}, \"yaxis2\": {\"anchor\": \"x2\", \"domain\": [0.0, 0.46499999999999997], \"linecolor\": \"black\", \"linewidth\": 1, \"showgrid\": false, \"showline\": true, \"tickcolor\": \"black\", \"ticklen\": 10, \"ticks\": \"outside\", \"tickwidth\": 1, \"title\": {\"text\": \"Rightward Accel (g)\"}, \"zeroline\": false}},\n",
       "                        {\"responsive\": true}\n",
       "                    ).then(function(){\n",
       "                            \n",
       "var gd = document.getElementById('3bf6fc14-a385-48c2-b21c-fdb0eb6806be');\n",
       "var x = new MutationObserver(function (mutations, observer) {{\n",
       "        var display = window.getComputedStyle(gd).display;\n",
       "        if (!display || display === 'none') {{\n",
       "            console.log([gd, 'removed!']);\n",
       "            Plotly.purge(gd);\n",
       "            observer.disconnect();\n",
       "        }}\n",
       "}});\n",
       "\n",
       "// Listen for the removal of the full notebook cells\n",
       "var notebookContainer = gd.closest('#notebook-container');\n",
       "if (notebookContainer) {{\n",
       "    x.observe(notebookContainer, {childList: true});\n",
       "}}\n",
       "\n",
       "// Listen for the clearing of the current output cell\n",
       "var outputEl = gd.closest('.output');\n",
       "if (outputEl) {{\n",
       "    x.observe(outputEl, {childList: true});\n",
       "}}\n",
       "\n",
       "                        })\n",
       "                };\n",
       "                });\n",
       "            </script>\n",
       "        </div>"
      ]
     },
     "metadata": {},
     "output_type": "display_data"
    }
   ],
   "source": [
    "compare_kinematics(run.veh.model, df, 'pycrash', 'validate')"
   ]
  },
  {
   "cell_type": "code",
   "execution_count": 130,
   "metadata": {},
   "outputs": [],
   "source": [
    "from pycrash.visualization.tire_details import tire_details, vertical_forces"
   ]
  },
  {
   "cell_type": "code",
   "execution_count": 135,
   "metadata": {},
   "outputs": [
    {
     "data": {
      "application/vnd.plotly.v1+json": {
       "config": {
        "plotlyServerURL": "https://plot.ly"
       },
       "data": [
        {
         "line": {
          "color": "rgb(0, 0, 255)",
          "dash": "solid",
          "width": 1
         },
         "mode": "lines",
         "name": "LF",
         "type": "scatter",
         "x": [
          0,
          0.1,
          0.2,
          0.3,
          0.4,
          0.5,
          0.6,
          0.7,
          0.8,
          0.9,
          1,
          1.1,
          1.2,
          1.3,
          1.4,
          1.5,
          1.6,
          1.7,
          1.8,
          1.9,
          2,
          2.1,
          2.2,
          2.3,
          2.4,
          2.5,
          2.6,
          2.7,
          2.8,
          2.9,
          3,
          3.1,
          3.2,
          3.3,
          3.4,
          3.5,
          3.6,
          3.7,
          3.8,
          3.9,
          4,
          4.1,
          4.2,
          4.3,
          4.4,
          4.5,
          4.6,
          4.7,
          4.8,
          4.9,
          5,
          5.1,
          5.2,
          5.3,
          5.4,
          5.5,
          5.6,
          5.7,
          5.8,
          5.9,
          6,
          6.1,
          6.2,
          6.3,
          6.4,
          6.5,
          6.6,
          6.7,
          6.8,
          6.9,
          7,
          7.1,
          7.2,
          7.3,
          7.4,
          7.5,
          7.6,
          7.7,
          7.8,
          7.9,
          8,
          8.1,
          8.2,
          8.3,
          8.4,
          8.5,
          8.6,
          8.7,
          8.8,
          8.9,
          9,
          9.1,
          9.2,
          9.3,
          9.4,
          9.5,
          9.6,
          9.7,
          9.8,
          9.9,
          10,
          10.1,
          10.2,
          10.3,
          10.4,
          10.5,
          10.6,
          10.7,
          10.8,
          10.9
         ],
         "xaxis": "x",
         "y": [
          0,
          0,
          0,
          0,
          0,
          0,
          0,
          0,
          0,
          0,
          0,
          -2.037739056603774,
          -3.930493405356109,
          -5.143861057920929,
          -5.939060380742237,
          -6.650051646530648,
          -7.461469293040788,
          -8.419149521427626,
          -9.495615931665535,
          -10.639082419019905,
          -11.796219408436015,
          -10.880017071881081,
          -10.055587428339901,
          -9.915267363196316,
          -10.233931767070706,
          -10.645986138519099,
          -10.910911804390569,
          -10.942130428566301,
          -10.751761750879009,
          -10.39357462554928,
          -9.927738207063733,
          -9.405325980584161,
          -8.864566617300056,
          -8.332190161957566,
          -7.826001951282902,
          -7.357074298842802,
          -6.931273579208599,
          -6.550369571848725,
          -6.213009344557018,
          -5.915680621201815,
          -5.653639442338391,
          -5.421712291800118,
          -5.214896340747316,
          -5.028731862451281,
          -4.859470540250023,
          -4.704092874094952,
          -4.560234632342328,
          -4.426073135096742,
          -4.300208174372837,
          -4.1815566321320965,
          -4.0692680199717985,
          -3.962661020085243,
          -3.861177784984551,
          -3.764351865266856,
          -3.671785969897562,
          -3.5831365336432404,
          -3.4981028677146853,
          -3.416419345722205,
          -3.3378495931162893,
          -3.26218201692959,
          -3.1892262605752038,
          -3.1188103252533925,
          -3.050778193180449,
          -2.984987841872947,
          -2.921309570228861,
          -2.8596245768286397,
          -2.7998237443890983,
          -2.741806594228717,
          -2.685480382089605,
          -2.6307593123427027,
          -2.5775638519527115,
          -2.5258201289717084,
          -2.4754594030285957,
          -2.4264175974525735,
          -2.378634884420432,
          -2.3320553159298054,
          -2.2866264945430377,
          -2.242299278777371,
          -2.1990275187840505,
          -2.1567678185957684,
          -2.115479321753735,
          -2.0751235175710567,
          -2.035664065663549,
          -1.9970666366949954,
          -1.959298767551563,
          -1.9223297293882524,
          -1.8861304071852143,
          -1.8506731896189055,
          -1.8159318681972418,
          -1.781881544731697,
          -1.7484985463271139,
          -1.7157603471630118,
          -1.683645496421689,
          -1.6521335517891151,
          -1.6212050180167812,
          -1.5908412900871347,
          -1.5610246005729467,
          -1.5317379708233048,
          -1.5029651656460539,
          -1.474690651189465,
          -1.4468995557553117,
          -1.4195776333010988,
          -1.3927112294127988,
          -1.3662872495497274,
          -1.3402931293815488,
          -1.3147168070542183,
          -1.289546697235979,
          -1.26477166680816,
          -1.240381012077156,
          -1.2163644373948668
         ],
         "yaxis": "y"
        },
        {
         "line": {
          "color": "rgb(0, 255, 0)",
          "dash": "solid",
          "width": 1
         },
         "mode": "lines",
         "name": "RF",
         "type": "scatter",
         "x": [
          0,
          0.1,
          0.2,
          0.3,
          0.4,
          0.5,
          0.6,
          0.7,
          0.8,
          0.9,
          1,
          1.1,
          1.2,
          1.3,
          1.4,
          1.5,
          1.6,
          1.7,
          1.8,
          1.9,
          2,
          2.1,
          2.2,
          2.3,
          2.4,
          2.5,
          2.6,
          2.7,
          2.8,
          2.9,
          3,
          3.1,
          3.2,
          3.3,
          3.4,
          3.5,
          3.6,
          3.7,
          3.8,
          3.9,
          4,
          4.1,
          4.2,
          4.3,
          4.4,
          4.5,
          4.6,
          4.7,
          4.8,
          4.9,
          5,
          5.1,
          5.2,
          5.3,
          5.4,
          5.5,
          5.6,
          5.7,
          5.8,
          5.9,
          6,
          6.1,
          6.2,
          6.3,
          6.4,
          6.5,
          6.6,
          6.7,
          6.8,
          6.9,
          7,
          7.1,
          7.2,
          7.3,
          7.4,
          7.5,
          7.6,
          7.7,
          7.8,
          7.9,
          8,
          8.1,
          8.2,
          8.3,
          8.4,
          8.5,
          8.6,
          8.7,
          8.8,
          8.9,
          9,
          9.1,
          9.2,
          9.3,
          9.4,
          9.5,
          9.6,
          9.7,
          9.8,
          9.9,
          10,
          10.1,
          10.2,
          10.3,
          10.4,
          10.5,
          10.6,
          10.7,
          10.8,
          10.9
         ],
         "xaxis": "x",
         "y": [
          0,
          0,
          0,
          0,
          0,
          0,
          0,
          0,
          0,
          0,
          0,
          -2.037739056603774,
          -3.931763045114277,
          -5.162895695398677,
          -6.021048739620974,
          -6.855092544446952,
          -7.845922842712461,
          -9.029225439913505,
          -10.370136608756226,
          -11.81486047176121,
          -13.312946801729678,
          -12.784312907851177,
          -12.303269706569846,
          -12.340501258438643,
          -12.697299001484671,
          -13.091623535694625,
          -13.346977893627969,
          -13.404449587196417,
          -13.27788534515026,
          -13.010679388828077,
          -12.649902284894694,
          -12.235455891130018,
          -11.797842377637496,
          -11.35938947750458,
          -10.936067306962148,
          -10.53883221835844,
          -10.174441792567759,
          -9.846041073847328,
          -9.553785775004066,
          -9.295592720045848,
          -9.067957152076895,
          -8.866715545489232,
          -8.687651052955765,
          -8.526895040907013,
          -8.381133853567201,
          -8.247664706604128,
          -8.124355517148018,
          -8.009557364586588,
          -7.902004338150521,
          -7.800720943495579,
          -7.7049458431448326,
          -7.614073501933578,
          -7.52761166917476,
          -7.445151365590799,
          -7.366346063123817,
          -7.29089730059883,
          -7.218544653321814,
          -7.149058584250828,
          -7.082235187159461,
          -7.0178921838680735,
          -6.955865776481633,
          -6.89600810752694,
          -6.838185172101543,
          -6.782275078913116,
          -6.728166587720541,
          -6.675757869480992,
          -6.624955448062446,
          -6.575673291389128,
          -6.527832026593721,
          -6.481358258821519,
          -6.436183977218241,
          -6.392246034665311,
          -6.349485690233352,
          -6.307848205254397,
          -6.267282485464703,
          -6.227740762918291,
          -6.18917831237903,
          -6.151553197719453,
          -6.114826044528904,
          -6.0789598356924435,
          -6.043919727168034,
          -6.009672881579003,
          -5.9761883175661845,
          -5.943436773119539,
          -5.911390581342835,
          -5.880023557303349,
          -5.849310894788428,
          -5.819229071935931,
          -5.789755764830727,
          -5.760869768267022,
          -5.732550922969539,
          -5.704780048647474,
          -5.677538882325391,
          -5.650810021456701,
          -5.624576871378961,
          -5.598823596717283,
          -5.573535076383545,
          -5.548696861855382,
          -5.5242951384512295,
          -5.500316689345986,
          -5.476748862097122,
          -5.4535795374734075,
          -5.430797100398357,
          -5.408390412838201,
          -5.386348788480066,
          -5.364661969060194,
          -5.343320102214662,
          -5.3223137207366396,
          -5.3016337231341994,
          -5.281271355392101
         ],
         "yaxis": "y"
        },
        {
         "line": {
          "color": "rgb(153, 0, 204)",
          "dash": "solid",
          "width": 1
         },
         "mode": "lines",
         "name": "RR",
         "type": "scatter",
         "x": [
          0,
          0.1,
          0.2,
          0.3,
          0.4,
          0.5,
          0.6,
          0.7,
          0.8,
          0.9,
          1,
          1.1,
          1.2,
          1.3,
          1.4,
          1.5,
          1.6,
          1.7,
          1.8,
          1.9,
          2,
          2.1,
          2.2,
          2.3,
          2.4,
          2.5,
          2.6,
          2.7,
          2.8,
          2.9,
          3,
          3.1,
          3.2,
          3.3,
          3.4,
          3.5,
          3.6,
          3.7,
          3.8,
          3.9,
          4,
          4.1,
          4.2,
          4.3,
          4.4,
          4.5,
          4.6,
          4.7,
          4.8,
          4.9,
          5,
          5.1,
          5.2,
          5.3,
          5.4,
          5.5,
          5.6,
          5.7,
          5.8,
          5.9,
          6,
          6.1,
          6.2,
          6.3,
          6.4,
          6.5,
          6.6,
          6.7,
          6.8,
          6.9,
          7,
          7.1,
          7.2,
          7.3,
          7.4,
          7.5,
          7.6,
          7.7,
          7.8,
          7.9,
          8,
          8.1,
          8.2,
          8.3,
          8.4,
          8.5,
          8.6,
          8.7,
          8.8,
          8.9,
          9,
          9.1,
          9.2,
          9.3,
          9.4,
          9.5,
          9.6,
          9.7,
          9.8,
          9.9,
          10,
          10.1,
          10.2,
          10.3,
          10.4,
          10.5,
          10.6,
          10.7,
          10.8,
          10.9
         ],
         "xaxis": "x",
         "y": [
          0,
          0,
          0,
          0,
          0,
          0,
          0,
          0,
          0,
          0,
          0,
          0,
          0.02408869895990755,
          0.048107049068495354,
          -0.06379980370707575,
          -0.44046707420615777,
          -1.1116953799509963,
          -2.0288608315821945,
          -3.1153094537511983,
          -4.299778081183408,
          -5.528024902308769,
          -6.761584961748022,
          -8.01460910956902,
          -9.267069634425953,
          -10.39609935805158,
          -11.28683588542557,
          -11.892660961488405,
          -12.221097810610676,
          -12.30584944031107,
          -12.188611212517225,
          -11.911217950622992,
          -11.513506988004863,
          -11.033073116563198,
          -10.50488484960048,
          -9.960201878096761,
          -9.42510446355817,
          -8.919250483100697,
          -8.45536437163911,
          -8.03963804659476,
          -7.672891358897707,
          -7.352139357530413,
          -7.072185798963803,
          -6.826961961570979,
          -6.610477386043878,
          -6.417378196442683,
          -6.243187403819748,
          -6.084329473273546,
          -5.938034246938323,
          -5.80219157772849,
          -5.675201557946279,
          -5.5558434074512215,
          -5.44317122129225,
          -5.336436259521982,
          -5.235031564575343,
          -5.138453634494984,
          -5.046276287496655,
          -4.958132832722798,
          -4.873703717240635,
          -4.792707722174976,
          -4.714895461209851,
          -4.640044403379419,
          -4.567954942841329,
          -4.4984472208172335,
          -4.431358511528499,
          -4.3665410456204405,
          -4.303860181108519,
          -4.243192854803215,
          -4.184426262611134,
          -4.127456728180133,
          -4.07218872764192,
          -4.018534044571613,
          -3.9664110342512084,
          -3.9157439802337968,
          -3.8664625292987753,
          -3.818501193343808,
          -3.771798908717835,
          -3.7262986450714313,
          -3.681947057073467,
          -3.6386941733817677,
          -3.5964931181096635,
          -3.555299860736825,
          -3.5150729909998777,
          -3.4757735157885654,
          -3.437364675484289,
          -3.3998117775243,
          -3.3630820452680665,
          -3.3271444804913552,
          -3.2919697380461392,
          -3.257530011406102,
          -3.2237989279737502,
          -3.1907514531595034,
          -3.1583638023593794,
          -3.126613360058633,
          -3.095478605376101,
          -3.0649390434404045,
          -3.03497514205573,
          -3.005568273173223,
          -2.9767006587353206,
          -2.9483553205053643,
          -2.920516033534618,
          -2.893167282953941,
          -2.8662942238083837,
          -2.8398826436806996,
          -2.813918927874166,
          -2.7883900269470323,
          -2.7632834264103314,
          -2.738587118418293,
          -2.714289575296057,
          -2.6903797247634795,
          -2.666846926726313
         ],
         "yaxis": "y"
        },
        {
         "line": {
          "color": "rgb(255, 102, 0)",
          "dash": "solid",
          "width": 1
         },
         "mode": "lines",
         "name": "LR",
         "type": "scatter",
         "x": [
          0,
          0.1,
          0.2,
          0.3,
          0.4,
          0.5,
          0.6,
          0.7,
          0.8,
          0.9,
          1,
          1.1,
          1.2,
          1.3,
          1.4,
          1.5,
          1.6,
          1.7,
          1.8,
          1.9,
          2,
          2.1,
          2.2,
          2.3,
          2.4,
          2.5,
          2.6,
          2.7,
          2.8,
          2.9,
          3,
          3.1,
          3.2,
          3.3,
          3.4,
          3.5,
          3.6,
          3.7,
          3.8,
          3.9,
          4,
          4.1,
          4.2,
          4.3,
          4.4,
          4.5,
          4.6,
          4.7,
          4.8,
          4.9,
          5,
          5.1,
          5.2,
          5.3,
          5.4,
          5.5,
          5.6,
          5.7,
          5.8,
          5.9,
          6,
          6.1,
          6.2,
          6.3,
          6.4,
          6.5,
          6.6,
          6.7,
          6.8,
          6.9,
          7,
          7.1,
          7.2,
          7.3,
          7.4,
          7.5,
          7.6,
          7.7,
          7.8,
          7.9,
          8,
          8.1,
          8.2,
          8.3,
          8.4,
          8.5,
          8.6,
          8.7,
          8.8,
          8.9,
          9,
          9.1,
          9.2,
          9.3,
          9.4,
          9.5,
          9.6,
          9.7,
          9.8,
          9.9,
          10,
          10.1,
          10.2,
          10.3,
          10.4,
          10.5,
          10.6,
          10.7,
          10.8,
          10.9
         ],
         "xaxis": "x",
         "y": [
          0,
          0,
          0,
          0,
          0,
          0,
          0,
          0,
          0,
          0,
          0,
          0,
          0.024171332160180654,
          0.04875992001834482,
          -0.06566499780014919,
          -0.4618540561953424,
          -1.1897369191632232,
          -2.218314010255993,
          -3.481862333265758,
          -4.914000262414839,
          -6.461688193184416,
          -8.085927085720058,
          -9.777714606250814,
          -11.461360435789867,
          -12.964645321814677,
          -14.14724114866283,
          -14.960211618074949,
          -15.418492300941649,
          -15.56422006721962,
          -15.446846826543903,
          -15.116425604635044,
          -14.622512966264363,
          -14.013945700274578,
          -13.337601418309639,
          -12.636075748799891,
          -11.945072190574914,
          -11.291435412434385,
          -10.692434812659164,
          -10.156406381462256,
          -9.684432939801006,
          -9.272528098815219,
          -8.913801960745616,
          -8.600247746795553,
          -8.323992318202022,
          -8.07802062320611,
          -7.856481136950598,
          -7.654710451352009,
          -7.469102506326154,
          -7.296915477208534,
          -7.136074351439876,
          -6.984998774992385,
          -6.842466495327459,
          -6.707511747103662,
          -6.57935293505087,
          -6.457342649555433,
          -6.340933620320492,
          -6.229655515319256,
          -6.123098882950183,
          -6.020903720201423,
          -5.922751039977852,
          -5.828356422850395,
          -5.737464930825478,
          -5.649846998705585,
          -5.565295057736032,
          -5.483620726734737,
          -5.404652453614149,
          -5.328233520117863,
          -5.2542203427217675,
          -5.1824810170671975,
          -5.112894064080498,
          -5.045347344218989,
          -4.979737112745179,
          -4.915967194013316,
          -4.853948256769519,
          -4.793597175653052,
          -4.734836466626404,
          -4.677593786099483,
          -4.6218014851622975,
          -4.567396211685469,
          -4.514318554153492,
          -4.462512722009339,
          -4.411926258047889,
          -4.362509779029218,
          -4.314216741213429,
          -4.267003227966059,
          -4.220827756961242,
          -4.175651104831048,
          -4.131436147383276,
          -4.088147713744096,
          -4.045752452983052,
          -4.004218711950928,
          -3.9635164232105224,
          -3.9236170020699435,
          -3.88449325184038,
          -3.846119276538481,
          -3.8084704003389995,
          -3.7715230931582253,
          -3.735254901814576,
          -3.699644386270461,
          -3.6646710605105897,
          -3.630315337656917,
          -3.5965584789601817,
          -3.5633825463435325,
          -3.530770358204964,
          -3.4987054482134097,
          -3.4671720268581554,
          -3.436154945533645,
          -3.4056396629615664,
          -3.3756122137700872,
          -3.3460591790660974
         ],
         "yaxis": "y"
        },
        {
         "line": {
          "color": "rgb(0, 0, 255)",
          "dash": "solid",
          "width": 1
         },
         "mode": "lines",
         "name": "LF",
         "showlegend": false,
         "type": "scatter",
         "x": [
          0,
          0.1,
          0.2,
          0.3,
          0.4,
          0.5,
          0.6,
          0.7,
          0.8,
          0.9,
          1,
          1.1,
          1.2,
          1.3,
          1.4,
          1.5,
          1.6,
          1.7,
          1.8,
          1.9,
          2,
          2.1,
          2.2,
          2.3,
          2.4,
          2.5,
          2.6,
          2.7,
          2.8,
          2.9,
          3,
          3.1,
          3.2,
          3.3,
          3.4,
          3.5,
          3.6,
          3.7,
          3.8,
          3.9,
          4,
          4.1,
          4.2,
          4.3,
          4.4,
          4.5,
          4.6,
          4.7,
          4.8,
          4.9,
          5,
          5.1,
          5.2,
          5.3,
          5.4,
          5.5,
          5.6,
          5.7,
          5.8,
          5.9,
          6,
          6.1,
          6.2,
          6.3,
          6.4,
          6.5,
          6.6,
          6.7,
          6.8,
          6.9,
          7,
          7.1,
          7.2,
          7.3,
          7.4,
          7.5,
          7.6,
          7.7,
          7.8,
          7.9,
          8,
          8.1,
          8.2,
          8.3,
          8.4,
          8.5,
          8.6,
          8.7,
          8.8,
          8.9,
          9,
          9.1,
          9.2,
          9.3,
          9.4,
          9.5,
          9.6,
          9.7,
          9.8,
          9.9,
          10,
          10.1,
          10.2,
          10.3,
          10.4,
          10.5,
          10.6,
          10.7,
          10.8,
          10.9
         ],
         "xaxis": "x2",
         "y": [
          0,
          0,
          0,
          0,
          0,
          0,
          0,
          0,
          0,
          0,
          0,
          0,
          0,
          0,
          0,
          0,
          0,
          0,
          0,
          0,
          0,
          0,
          0,
          0,
          0,
          0,
          0,
          0,
          0,
          0,
          0,
          0,
          0,
          0,
          0,
          0,
          0,
          0,
          0,
          0,
          0,
          0,
          0,
          0,
          0,
          0,
          0,
          0,
          0,
          0,
          0,
          0,
          0,
          0,
          0,
          0,
          0,
          0,
          0,
          0,
          0,
          0,
          0,
          0,
          0,
          0,
          0,
          0,
          0,
          0,
          0,
          0,
          0,
          0,
          0,
          0,
          0,
          0,
          0,
          0,
          0,
          0,
          0,
          0,
          0,
          0,
          0,
          0,
          0,
          0,
          0,
          0,
          0,
          0,
          0,
          0,
          0,
          0,
          0,
          0,
          0,
          0,
          0,
          0,
          0,
          0,
          0,
          0,
          0,
          0
         ],
         "yaxis": "y2"
        },
        {
         "line": {
          "color": "rgb(0, 255, 0)",
          "dash": "solid",
          "width": 1
         },
         "mode": "lines",
         "name": "RF",
         "showlegend": false,
         "type": "scatter",
         "x": [
          0,
          0.1,
          0.2,
          0.3,
          0.4,
          0.5,
          0.6,
          0.7,
          0.8,
          0.9,
          1,
          1.1,
          1.2,
          1.3,
          1.4,
          1.5,
          1.6,
          1.7,
          1.8,
          1.9,
          2,
          2.1,
          2.2,
          2.3,
          2.4,
          2.5,
          2.6,
          2.7,
          2.8,
          2.9,
          3,
          3.1,
          3.2,
          3.3,
          3.4,
          3.5,
          3.6,
          3.7,
          3.8,
          3.9,
          4,
          4.1,
          4.2,
          4.3,
          4.4,
          4.5,
          4.6,
          4.7,
          4.8,
          4.9,
          5,
          5.1,
          5.2,
          5.3,
          5.4,
          5.5,
          5.6,
          5.7,
          5.8,
          5.9,
          6,
          6.1,
          6.2,
          6.3,
          6.4,
          6.5,
          6.6,
          6.7,
          6.8,
          6.9,
          7,
          7.1,
          7.2,
          7.3,
          7.4,
          7.5,
          7.6,
          7.7,
          7.8,
          7.9,
          8,
          8.1,
          8.2,
          8.3,
          8.4,
          8.5,
          8.6,
          8.7,
          8.8,
          8.9,
          9,
          9.1,
          9.2,
          9.3,
          9.4,
          9.5,
          9.6,
          9.7,
          9.8,
          9.9,
          10,
          10.1,
          10.2,
          10.3,
          10.4,
          10.5,
          10.6,
          10.7,
          10.8,
          10.9
         ],
         "xaxis": "x2",
         "y": [
          0,
          0,
          0,
          0,
          0,
          0,
          0,
          0,
          0,
          0,
          0,
          0,
          0,
          0,
          0,
          0,
          0,
          0,
          0,
          0,
          0,
          0,
          0,
          0,
          0,
          0,
          0,
          0,
          0,
          0,
          0,
          0,
          0,
          0,
          0,
          0,
          0,
          0,
          0,
          0,
          0,
          0,
          0,
          0,
          0,
          0,
          0,
          0,
          0,
          0,
          0,
          0,
          0,
          0,
          0,
          0,
          0,
          0,
          0,
          0,
          0,
          0,
          0,
          0,
          0,
          0,
          0,
          0,
          0,
          0,
          0,
          0,
          0,
          0,
          0,
          0,
          0,
          0,
          0,
          0,
          0,
          0,
          0,
          0,
          0,
          0,
          0,
          0,
          0,
          0,
          0,
          0,
          0,
          0,
          0,
          0,
          0,
          0,
          0,
          0,
          0,
          0,
          0,
          0,
          0,
          0,
          0,
          0,
          0,
          0
         ],
         "yaxis": "y2"
        },
        {
         "line": {
          "color": "rgb(153, 0, 204)",
          "dash": "solid",
          "width": 1
         },
         "mode": "lines",
         "name": "RR",
         "showlegend": false,
         "type": "scatter",
         "x": [
          0,
          0.1,
          0.2,
          0.3,
          0.4,
          0.5,
          0.6,
          0.7,
          0.8,
          0.9,
          1,
          1.1,
          1.2,
          1.3,
          1.4,
          1.5,
          1.6,
          1.7,
          1.8,
          1.9,
          2,
          2.1,
          2.2,
          2.3,
          2.4,
          2.5,
          2.6,
          2.7,
          2.8,
          2.9,
          3,
          3.1,
          3.2,
          3.3,
          3.4,
          3.5,
          3.6,
          3.7,
          3.8,
          3.9,
          4,
          4.1,
          4.2,
          4.3,
          4.4,
          4.5,
          4.6,
          4.7,
          4.8,
          4.9,
          5,
          5.1,
          5.2,
          5.3,
          5.4,
          5.5,
          5.6,
          5.7,
          5.8,
          5.9,
          6,
          6.1,
          6.2,
          6.3,
          6.4,
          6.5,
          6.6,
          6.7,
          6.8,
          6.9,
          7,
          7.1,
          7.2,
          7.3,
          7.4,
          7.5,
          7.6,
          7.7,
          7.8,
          7.9,
          8,
          8.1,
          8.2,
          8.3,
          8.4,
          8.5,
          8.6,
          8.7,
          8.8,
          8.9,
          9,
          9.1,
          9.2,
          9.3,
          9.4,
          9.5,
          9.6,
          9.7,
          9.8,
          9.9,
          10,
          10.1,
          10.2,
          10.3,
          10.4,
          10.5,
          10.6,
          10.7,
          10.8,
          10.9
         ],
         "xaxis": "x2",
         "y": [
          0,
          0,
          0,
          0,
          0,
          0,
          0,
          0,
          0,
          0,
          0,
          0,
          0,
          0,
          0,
          0,
          0,
          0,
          0,
          0,
          0,
          0,
          0,
          0,
          0,
          0,
          0,
          0,
          0,
          0,
          0,
          0,
          0,
          0,
          0,
          0,
          0,
          0,
          0,
          0,
          0,
          0,
          0,
          0,
          0,
          0,
          0,
          0,
          0,
          0,
          0,
          0,
          0,
          0,
          0,
          0,
          0,
          0,
          0,
          0,
          0,
          0,
          0,
          0,
          0,
          0,
          0,
          0,
          0,
          0,
          0,
          0,
          0,
          0,
          0,
          0,
          0,
          0,
          0,
          0,
          0,
          0,
          0,
          0,
          0,
          0,
          0,
          0,
          0,
          0,
          0,
          0,
          0,
          0,
          0,
          0,
          0,
          0,
          0,
          0,
          0,
          0,
          0,
          0,
          0,
          0,
          0,
          0,
          0,
          0
         ],
         "yaxis": "y2"
        },
        {
         "line": {
          "color": "rgb(255, 102, 0)",
          "dash": "solid",
          "width": 1
         },
         "mode": "lines",
         "name": "LR",
         "showlegend": false,
         "type": "scatter",
         "x": [
          0,
          0.1,
          0.2,
          0.3,
          0.4,
          0.5,
          0.6,
          0.7,
          0.8,
          0.9,
          1,
          1.1,
          1.2,
          1.3,
          1.4,
          1.5,
          1.6,
          1.7,
          1.8,
          1.9,
          2,
          2.1,
          2.2,
          2.3,
          2.4,
          2.5,
          2.6,
          2.7,
          2.8,
          2.9,
          3,
          3.1,
          3.2,
          3.3,
          3.4,
          3.5,
          3.6,
          3.7,
          3.8,
          3.9,
          4,
          4.1,
          4.2,
          4.3,
          4.4,
          4.5,
          4.6,
          4.7,
          4.8,
          4.9,
          5,
          5.1,
          5.2,
          5.3,
          5.4,
          5.5,
          5.6,
          5.7,
          5.8,
          5.9,
          6,
          6.1,
          6.2,
          6.3,
          6.4,
          6.5,
          6.6,
          6.7,
          6.8,
          6.9,
          7,
          7.1,
          7.2,
          7.3,
          7.4,
          7.5,
          7.6,
          7.7,
          7.8,
          7.9,
          8,
          8.1,
          8.2,
          8.3,
          8.4,
          8.5,
          8.6,
          8.7,
          8.8,
          8.9,
          9,
          9.1,
          9.2,
          9.3,
          9.4,
          9.5,
          9.6,
          9.7,
          9.8,
          9.9,
          10,
          10.1,
          10.2,
          10.3,
          10.4,
          10.5,
          10.6,
          10.7,
          10.8,
          10.9
         ],
         "xaxis": "x2",
         "y": [
          0,
          0,
          0,
          0,
          0,
          0,
          0,
          0,
          0,
          0,
          0,
          0,
          0,
          0,
          0,
          0,
          0,
          0,
          0,
          0,
          0,
          0,
          0,
          0,
          0,
          0,
          0,
          0,
          0,
          0,
          0,
          0,
          0,
          0,
          0,
          0,
          0,
          0,
          0,
          0,
          0,
          0,
          0,
          0,
          0,
          0,
          0,
          0,
          0,
          0,
          0,
          0,
          0,
          0,
          0,
          0,
          0,
          0,
          0,
          0,
          0,
          0,
          0,
          0,
          0,
          0,
          0,
          0,
          0,
          0,
          0,
          0,
          0,
          0,
          0,
          0,
          0,
          0,
          0,
          0,
          0,
          0,
          0,
          0,
          0,
          0,
          0,
          0,
          0,
          0,
          0,
          0,
          0,
          0,
          0,
          0,
          0,
          0,
          0,
          0,
          0,
          0,
          0,
          0,
          0,
          0,
          0,
          0,
          0,
          0
         ],
         "yaxis": "y2"
        }
       ],
       "layout": {
        "autosize": false,
        "font": {
         "color": "black",
         "family": "Arial",
         "size": 16
        },
        "height": 450,
        "legend": {
         "orientation": "h",
         "x": 0.01,
         "xanchor": "left",
         "y": 1.15,
         "yanchor": "top"
        },
        "template": {
         "data": {
          "bar": [
           {
            "error_x": {
             "color": "#2a3f5f"
            },
            "error_y": {
             "color": "#2a3f5f"
            },
            "marker": {
             "line": {
              "color": "white",
              "width": 0.5
             }
            },
            "type": "bar"
           }
          ],
          "barpolar": [
           {
            "marker": {
             "line": {
              "color": "white",
              "width": 0.5
             }
            },
            "type": "barpolar"
           }
          ],
          "carpet": [
           {
            "aaxis": {
             "endlinecolor": "#2a3f5f",
             "gridcolor": "#C8D4E3",
             "linecolor": "#C8D4E3",
             "minorgridcolor": "#C8D4E3",
             "startlinecolor": "#2a3f5f"
            },
            "baxis": {
             "endlinecolor": "#2a3f5f",
             "gridcolor": "#C8D4E3",
             "linecolor": "#C8D4E3",
             "minorgridcolor": "#C8D4E3",
             "startlinecolor": "#2a3f5f"
            },
            "type": "carpet"
           }
          ],
          "choropleth": [
           {
            "colorbar": {
             "outlinewidth": 0,
             "ticks": ""
            },
            "type": "choropleth"
           }
          ],
          "contour": [
           {
            "colorbar": {
             "outlinewidth": 0,
             "ticks": ""
            },
            "colorscale": [
             [
              0,
              "#0d0887"
             ],
             [
              0.1111111111111111,
              "#46039f"
             ],
             [
              0.2222222222222222,
              "#7201a8"
             ],
             [
              0.3333333333333333,
              "#9c179e"
             ],
             [
              0.4444444444444444,
              "#bd3786"
             ],
             [
              0.5555555555555556,
              "#d8576b"
             ],
             [
              0.6666666666666666,
              "#ed7953"
             ],
             [
              0.7777777777777778,
              "#fb9f3a"
             ],
             [
              0.8888888888888888,
              "#fdca26"
             ],
             [
              1,
              "#f0f921"
             ]
            ],
            "type": "contour"
           }
          ],
          "contourcarpet": [
           {
            "colorbar": {
             "outlinewidth": 0,
             "ticks": ""
            },
            "type": "contourcarpet"
           }
          ],
          "heatmap": [
           {
            "colorbar": {
             "outlinewidth": 0,
             "ticks": ""
            },
            "colorscale": [
             [
              0,
              "#0d0887"
             ],
             [
              0.1111111111111111,
              "#46039f"
             ],
             [
              0.2222222222222222,
              "#7201a8"
             ],
             [
              0.3333333333333333,
              "#9c179e"
             ],
             [
              0.4444444444444444,
              "#bd3786"
             ],
             [
              0.5555555555555556,
              "#d8576b"
             ],
             [
              0.6666666666666666,
              "#ed7953"
             ],
             [
              0.7777777777777778,
              "#fb9f3a"
             ],
             [
              0.8888888888888888,
              "#fdca26"
             ],
             [
              1,
              "#f0f921"
             ]
            ],
            "type": "heatmap"
           }
          ],
          "heatmapgl": [
           {
            "colorbar": {
             "outlinewidth": 0,
             "ticks": ""
            },
            "colorscale": [
             [
              0,
              "#0d0887"
             ],
             [
              0.1111111111111111,
              "#46039f"
             ],
             [
              0.2222222222222222,
              "#7201a8"
             ],
             [
              0.3333333333333333,
              "#9c179e"
             ],
             [
              0.4444444444444444,
              "#bd3786"
             ],
             [
              0.5555555555555556,
              "#d8576b"
             ],
             [
              0.6666666666666666,
              "#ed7953"
             ],
             [
              0.7777777777777778,
              "#fb9f3a"
             ],
             [
              0.8888888888888888,
              "#fdca26"
             ],
             [
              1,
              "#f0f921"
             ]
            ],
            "type": "heatmapgl"
           }
          ],
          "histogram": [
           {
            "marker": {
             "colorbar": {
              "outlinewidth": 0,
              "ticks": ""
             }
            },
            "type": "histogram"
           }
          ],
          "histogram2d": [
           {
            "colorbar": {
             "outlinewidth": 0,
             "ticks": ""
            },
            "colorscale": [
             [
              0,
              "#0d0887"
             ],
             [
              0.1111111111111111,
              "#46039f"
             ],
             [
              0.2222222222222222,
              "#7201a8"
             ],
             [
              0.3333333333333333,
              "#9c179e"
             ],
             [
              0.4444444444444444,
              "#bd3786"
             ],
             [
              0.5555555555555556,
              "#d8576b"
             ],
             [
              0.6666666666666666,
              "#ed7953"
             ],
             [
              0.7777777777777778,
              "#fb9f3a"
             ],
             [
              0.8888888888888888,
              "#fdca26"
             ],
             [
              1,
              "#f0f921"
             ]
            ],
            "type": "histogram2d"
           }
          ],
          "histogram2dcontour": [
           {
            "colorbar": {
             "outlinewidth": 0,
             "ticks": ""
            },
            "colorscale": [
             [
              0,
              "#0d0887"
             ],
             [
              0.1111111111111111,
              "#46039f"
             ],
             [
              0.2222222222222222,
              "#7201a8"
             ],
             [
              0.3333333333333333,
              "#9c179e"
             ],
             [
              0.4444444444444444,
              "#bd3786"
             ],
             [
              0.5555555555555556,
              "#d8576b"
             ],
             [
              0.6666666666666666,
              "#ed7953"
             ],
             [
              0.7777777777777778,
              "#fb9f3a"
             ],
             [
              0.8888888888888888,
              "#fdca26"
             ],
             [
              1,
              "#f0f921"
             ]
            ],
            "type": "histogram2dcontour"
           }
          ],
          "mesh3d": [
           {
            "colorbar": {
             "outlinewidth": 0,
             "ticks": ""
            },
            "type": "mesh3d"
           }
          ],
          "parcoords": [
           {
            "line": {
             "colorbar": {
              "outlinewidth": 0,
              "ticks": ""
             }
            },
            "type": "parcoords"
           }
          ],
          "pie": [
           {
            "automargin": true,
            "type": "pie"
           }
          ],
          "scatter": [
           {
            "marker": {
             "colorbar": {
              "outlinewidth": 0,
              "ticks": ""
             }
            },
            "type": "scatter"
           }
          ],
          "scatter3d": [
           {
            "line": {
             "colorbar": {
              "outlinewidth": 0,
              "ticks": ""
             }
            },
            "marker": {
             "colorbar": {
              "outlinewidth": 0,
              "ticks": ""
             }
            },
            "type": "scatter3d"
           }
          ],
          "scattercarpet": [
           {
            "marker": {
             "colorbar": {
              "outlinewidth": 0,
              "ticks": ""
             }
            },
            "type": "scattercarpet"
           }
          ],
          "scattergeo": [
           {
            "marker": {
             "colorbar": {
              "outlinewidth": 0,
              "ticks": ""
             }
            },
            "type": "scattergeo"
           }
          ],
          "scattergl": [
           {
            "marker": {
             "colorbar": {
              "outlinewidth": 0,
              "ticks": ""
             }
            },
            "type": "scattergl"
           }
          ],
          "scattermapbox": [
           {
            "marker": {
             "colorbar": {
              "outlinewidth": 0,
              "ticks": ""
             }
            },
            "type": "scattermapbox"
           }
          ],
          "scatterpolar": [
           {
            "marker": {
             "colorbar": {
              "outlinewidth": 0,
              "ticks": ""
             }
            },
            "type": "scatterpolar"
           }
          ],
          "scatterpolargl": [
           {
            "marker": {
             "colorbar": {
              "outlinewidth": 0,
              "ticks": ""
             }
            },
            "type": "scatterpolargl"
           }
          ],
          "scatterternary": [
           {
            "marker": {
             "colorbar": {
              "outlinewidth": 0,
              "ticks": ""
             }
            },
            "type": "scatterternary"
           }
          ],
          "surface": [
           {
            "colorbar": {
             "outlinewidth": 0,
             "ticks": ""
            },
            "colorscale": [
             [
              0,
              "#0d0887"
             ],
             [
              0.1111111111111111,
              "#46039f"
             ],
             [
              0.2222222222222222,
              "#7201a8"
             ],
             [
              0.3333333333333333,
              "#9c179e"
             ],
             [
              0.4444444444444444,
              "#bd3786"
             ],
             [
              0.5555555555555556,
              "#d8576b"
             ],
             [
              0.6666666666666666,
              "#ed7953"
             ],
             [
              0.7777777777777778,
              "#fb9f3a"
             ],
             [
              0.8888888888888888,
              "#fdca26"
             ],
             [
              1,
              "#f0f921"
             ]
            ],
            "type": "surface"
           }
          ],
          "table": [
           {
            "cells": {
             "fill": {
              "color": "#EBF0F8"
             },
             "line": {
              "color": "white"
             }
            },
            "header": {
             "fill": {
              "color": "#C8D4E3"
             },
             "line": {
              "color": "white"
             }
            },
            "type": "table"
           }
          ]
         },
         "layout": {
          "annotationdefaults": {
           "arrowcolor": "#2a3f5f",
           "arrowhead": 0,
           "arrowwidth": 1
          },
          "coloraxis": {
           "colorbar": {
            "outlinewidth": 0,
            "ticks": ""
           }
          },
          "colorscale": {
           "diverging": [
            [
             0,
             "#8e0152"
            ],
            [
             0.1,
             "#c51b7d"
            ],
            [
             0.2,
             "#de77ae"
            ],
            [
             0.3,
             "#f1b6da"
            ],
            [
             0.4,
             "#fde0ef"
            ],
            [
             0.5,
             "#f7f7f7"
            ],
            [
             0.6,
             "#e6f5d0"
            ],
            [
             0.7,
             "#b8e186"
            ],
            [
             0.8,
             "#7fbc41"
            ],
            [
             0.9,
             "#4d9221"
            ],
            [
             1,
             "#276419"
            ]
           ],
           "sequential": [
            [
             0,
             "#0d0887"
            ],
            [
             0.1111111111111111,
             "#46039f"
            ],
            [
             0.2222222222222222,
             "#7201a8"
            ],
            [
             0.3333333333333333,
             "#9c179e"
            ],
            [
             0.4444444444444444,
             "#bd3786"
            ],
            [
             0.5555555555555556,
             "#d8576b"
            ],
            [
             0.6666666666666666,
             "#ed7953"
            ],
            [
             0.7777777777777778,
             "#fb9f3a"
            ],
            [
             0.8888888888888888,
             "#fdca26"
            ],
            [
             1,
             "#f0f921"
            ]
           ],
           "sequentialminus": [
            [
             0,
             "#0d0887"
            ],
            [
             0.1111111111111111,
             "#46039f"
            ],
            [
             0.2222222222222222,
             "#7201a8"
            ],
            [
             0.3333333333333333,
             "#9c179e"
            ],
            [
             0.4444444444444444,
             "#bd3786"
            ],
            [
             0.5555555555555556,
             "#d8576b"
            ],
            [
             0.6666666666666666,
             "#ed7953"
            ],
            [
             0.7777777777777778,
             "#fb9f3a"
            ],
            [
             0.8888888888888888,
             "#fdca26"
            ],
            [
             1,
             "#f0f921"
            ]
           ]
          },
          "colorway": [
           "#636efa",
           "#EF553B",
           "#00cc96",
           "#ab63fa",
           "#FFA15A",
           "#19d3f3",
           "#FF6692",
           "#B6E880",
           "#FF97FF",
           "#FECB52"
          ],
          "font": {
           "color": "#2a3f5f"
          },
          "geo": {
           "bgcolor": "white",
           "lakecolor": "white",
           "landcolor": "white",
           "showlakes": true,
           "showland": true,
           "subunitcolor": "#C8D4E3"
          },
          "hoverlabel": {
           "align": "left"
          },
          "hovermode": "closest",
          "mapbox": {
           "style": "light"
          },
          "paper_bgcolor": "white",
          "plot_bgcolor": "white",
          "polar": {
           "angularaxis": {
            "gridcolor": "#EBF0F8",
            "linecolor": "#EBF0F8",
            "ticks": ""
           },
           "bgcolor": "white",
           "radialaxis": {
            "gridcolor": "#EBF0F8",
            "linecolor": "#EBF0F8",
            "ticks": ""
           }
          },
          "scene": {
           "xaxis": {
            "backgroundcolor": "white",
            "gridcolor": "#DFE8F3",
            "gridwidth": 2,
            "linecolor": "#EBF0F8",
            "showbackground": true,
            "ticks": "",
            "zerolinecolor": "#EBF0F8"
           },
           "yaxis": {
            "backgroundcolor": "white",
            "gridcolor": "#DFE8F3",
            "gridwidth": 2,
            "linecolor": "#EBF0F8",
            "showbackground": true,
            "ticks": "",
            "zerolinecolor": "#EBF0F8"
           },
           "zaxis": {
            "backgroundcolor": "white",
            "gridcolor": "#DFE8F3",
            "gridwidth": 2,
            "linecolor": "#EBF0F8",
            "showbackground": true,
            "ticks": "",
            "zerolinecolor": "#EBF0F8"
           }
          },
          "shapedefaults": {
           "line": {
            "color": "#2a3f5f"
           }
          },
          "ternary": {
           "aaxis": {
            "gridcolor": "#DFE8F3",
            "linecolor": "#A2B1C6",
            "ticks": ""
           },
           "baxis": {
            "gridcolor": "#DFE8F3",
            "linecolor": "#A2B1C6",
            "ticks": ""
           },
           "bgcolor": "white",
           "caxis": {
            "gridcolor": "#DFE8F3",
            "linecolor": "#A2B1C6",
            "ticks": ""
           }
          },
          "title": {
           "x": 0.05
          },
          "xaxis": {
           "automargin": true,
           "gridcolor": "#EBF0F8",
           "linecolor": "#EBF0F8",
           "ticks": "",
           "title": {
            "standoff": 15
           },
           "zerolinecolor": "#EBF0F8",
           "zerolinewidth": 2
          },
          "yaxis": {
           "automargin": true,
           "gridcolor": "#EBF0F8",
           "linecolor": "#EBF0F8",
           "ticks": "",
           "title": {
            "standoff": 15
           },
           "zerolinecolor": "#EBF0F8",
           "zerolinewidth": 2
          }
         }
        },
        "title": {
         "text": "Tire Slip Angle & Saturation (locked) Status"
        },
        "width": 800,
        "xaxis": {
         "anchor": "y",
         "domain": [
          0,
          1
         ],
         "linecolor": "black",
         "linewidth": 1,
         "matches": "x2",
         "showgrid": false,
         "showline": true,
         "showticklabels": false,
         "tickcolor": "black",
         "ticklen": 10,
         "ticks": "outside",
         "tickwidth": 1,
         "title": {
          "text": ""
         },
         "zeroline": false
        },
        "xaxis2": {
         "anchor": "y2",
         "domain": [
          0,
          1
         ],
         "linecolor": "black",
         "linewidth": 1,
         "showgrid": false,
         "showline": true,
         "tickcolor": "black",
         "ticklen": 10,
         "ticks": "outside",
         "tickwidth": 1,
         "title": {
          "text": "Time (s)"
         },
         "zeroline": false
        },
        "yaxis": {
         "anchor": "x",
         "domain": [
          0.555,
          1
         ],
         "linecolor": "black",
         "linewidth": 1,
         "showgrid": false,
         "showline": true,
         "tickcolor": "black",
         "ticklen": 10,
         "ticks": "outside",
         "tickwidth": 1,
         "title": {
          "text": "Slip Angle (degrees)"
         },
         "zeroline": false
        },
        "yaxis2": {
         "anchor": "x2",
         "domain": [
          0,
          0.445
         ],
         "linecolor": "black",
         "linewidth": 1,
         "showgrid": false,
         "showline": true,
         "tickcolor": "black",
         "ticklen": 10,
         "ticks": "outside",
         "tickwidth": 1,
         "title": {
          "text": "Locked Satus"
         },
         "zeroline": false
        }
       }
      },
      "text/html": [
       "<div>\n",
       "        \n",
       "        \n",
       "            <div id=\"5c19529b-f8ea-4f65-ba2e-0ba1dc68e57e\" class=\"plotly-graph-div\" style=\"height:450px; width:800px;\"></div>\n",
       "            <script type=\"text/javascript\">\n",
       "                require([\"plotly\"], function(Plotly) {\n",
       "                    window.PLOTLYENV=window.PLOTLYENV || {};\n",
       "                    \n",
       "                if (document.getElementById(\"5c19529b-f8ea-4f65-ba2e-0ba1dc68e57e\")) {\n",
       "                    Plotly.newPlot(\n",
       "                        '5c19529b-f8ea-4f65-ba2e-0ba1dc68e57e',\n",
       "                        [{\"line\": {\"color\": \"rgb(0, 0, 255)\", \"dash\": \"solid\", \"width\": 1}, \"mode\": \"lines\", \"name\": \"LF\", \"type\": \"scatter\", \"x\": [0.0, 0.1, 0.2, 0.3, 0.4, 0.5, 0.6, 0.7, 0.8, 0.9, 1.0, 1.1, 1.2, 1.3, 1.4, 1.5, 1.6, 1.7, 1.8, 1.9, 2.0, 2.1, 2.2, 2.3, 2.4, 2.5, 2.6, 2.7, 2.8, 2.9, 3.0, 3.1, 3.2, 3.3, 3.4, 3.5, 3.6, 3.7, 3.8, 3.9, 4.0, 4.1, 4.2, 4.3, 4.4, 4.5, 4.6, 4.7, 4.8, 4.9, 5.0, 5.1, 5.2, 5.3, 5.4, 5.5, 5.6, 5.7, 5.8, 5.9, 6.0, 6.1, 6.2, 6.3, 6.4, 6.5, 6.6, 6.7, 6.8, 6.9, 7.0, 7.1, 7.2, 7.3, 7.4, 7.5, 7.6, 7.7, 7.8, 7.9, 8.0, 8.1, 8.2, 8.3, 8.4, 8.5, 8.6, 8.7, 8.8, 8.9, 9.0, 9.1, 9.2, 9.3, 9.4, 9.5, 9.6, 9.7, 9.8, 9.9, 10.0, 10.1, 10.2, 10.3, 10.4, 10.5, 10.6, 10.7, 10.8, 10.9], \"xaxis\": \"x\", \"y\": [0.0, 0.0, 0.0, 0.0, 0.0, 0.0, 0.0, 0.0, 0.0, 0.0, 0.0, -2.037739056603774, -3.930493405356109, -5.143861057920929, -5.939060380742237, -6.650051646530648, -7.461469293040788, -8.419149521427626, -9.495615931665535, -10.639082419019905, -11.796219408436015, -10.880017071881081, -10.055587428339901, -9.915267363196316, -10.233931767070706, -10.645986138519099, -10.910911804390569, -10.942130428566301, -10.751761750879009, -10.39357462554928, -9.927738207063733, -9.405325980584161, -8.864566617300056, -8.332190161957566, -7.826001951282902, -7.357074298842802, -6.931273579208599, -6.550369571848725, -6.213009344557018, -5.915680621201815, -5.653639442338391, -5.421712291800118, -5.214896340747316, -5.028731862451281, -4.859470540250023, -4.704092874094952, -4.560234632342328, -4.426073135096742, -4.300208174372837, -4.1815566321320965, -4.0692680199717985, -3.962661020085243, -3.861177784984551, -3.764351865266856, -3.671785969897562, -3.5831365336432404, -3.4981028677146853, -3.416419345722205, -3.3378495931162893, -3.26218201692959, -3.1892262605752038, -3.1188103252533925, -3.050778193180449, -2.984987841872947, -2.921309570228861, -2.8596245768286397, -2.7998237443890983, -2.741806594228717, -2.685480382089605, -2.6307593123427027, -2.5775638519527115, -2.5258201289717084, -2.4754594030285957, -2.4264175974525735, -2.378634884420432, -2.3320553159298054, -2.2866264945430377, -2.242299278777371, -2.1990275187840505, -2.1567678185957684, -2.115479321753735, -2.0751235175710567, -2.035664065663549, -1.9970666366949954, -1.959298767551563, -1.9223297293882524, -1.8861304071852143, -1.8506731896189055, -1.8159318681972418, -1.781881544731697, -1.7484985463271139, -1.7157603471630118, -1.683645496421689, -1.6521335517891151, -1.6212050180167812, -1.5908412900871347, -1.5610246005729467, -1.5317379708233048, -1.5029651656460539, -1.474690651189465, -1.4468995557553117, -1.4195776333010988, -1.3927112294127988, -1.3662872495497274, -1.3402931293815488, -1.3147168070542183, -1.289546697235979, -1.26477166680816, -1.240381012077156, -1.2163644373948668], \"yaxis\": \"y\"}, {\"line\": {\"color\": \"rgb(0, 255, 0)\", \"dash\": \"solid\", \"width\": 1}, \"mode\": \"lines\", \"name\": \"RF\", \"type\": \"scatter\", \"x\": [0.0, 0.1, 0.2, 0.3, 0.4, 0.5, 0.6, 0.7, 0.8, 0.9, 1.0, 1.1, 1.2, 1.3, 1.4, 1.5, 1.6, 1.7, 1.8, 1.9, 2.0, 2.1, 2.2, 2.3, 2.4, 2.5, 2.6, 2.7, 2.8, 2.9, 3.0, 3.1, 3.2, 3.3, 3.4, 3.5, 3.6, 3.7, 3.8, 3.9, 4.0, 4.1, 4.2, 4.3, 4.4, 4.5, 4.6, 4.7, 4.8, 4.9, 5.0, 5.1, 5.2, 5.3, 5.4, 5.5, 5.6, 5.7, 5.8, 5.9, 6.0, 6.1, 6.2, 6.3, 6.4, 6.5, 6.6, 6.7, 6.8, 6.9, 7.0, 7.1, 7.2, 7.3, 7.4, 7.5, 7.6, 7.7, 7.8, 7.9, 8.0, 8.1, 8.2, 8.3, 8.4, 8.5, 8.6, 8.7, 8.8, 8.9, 9.0, 9.1, 9.2, 9.3, 9.4, 9.5, 9.6, 9.7, 9.8, 9.9, 10.0, 10.1, 10.2, 10.3, 10.4, 10.5, 10.6, 10.7, 10.8, 10.9], \"xaxis\": \"x\", \"y\": [0.0, 0.0, 0.0, 0.0, 0.0, 0.0, 0.0, 0.0, 0.0, 0.0, 0.0, -2.037739056603774, -3.931763045114277, -5.162895695398677, -6.021048739620974, -6.855092544446952, -7.845922842712461, -9.029225439913505, -10.370136608756226, -11.81486047176121, -13.312946801729678, -12.784312907851177, -12.303269706569846, -12.340501258438643, -12.697299001484671, -13.091623535694625, -13.346977893627969, -13.404449587196417, -13.27788534515026, -13.010679388828077, -12.649902284894694, -12.235455891130018, -11.797842377637496, -11.35938947750458, -10.936067306962148, -10.53883221835844, -10.174441792567759, -9.846041073847328, -9.553785775004066, -9.295592720045848, -9.067957152076895, -8.866715545489232, -8.687651052955765, -8.526895040907013, -8.381133853567201, -8.247664706604128, -8.124355517148018, -8.009557364586588, -7.902004338150521, -7.800720943495579, -7.7049458431448326, -7.614073501933578, -7.52761166917476, -7.445151365590799, -7.366346063123817, -7.29089730059883, -7.218544653321814, -7.149058584250828, -7.082235187159461, -7.0178921838680735, -6.955865776481633, -6.89600810752694, -6.838185172101543, -6.782275078913116, -6.728166587720541, -6.675757869480992, -6.624955448062446, -6.575673291389128, -6.527832026593721, -6.481358258821519, -6.436183977218241, -6.392246034665311, -6.349485690233352, -6.307848205254397, -6.267282485464703, -6.227740762918291, -6.18917831237903, -6.151553197719453, -6.114826044528904, -6.0789598356924435, -6.043919727168034, -6.009672881579003, -5.9761883175661845, -5.943436773119539, -5.911390581342835, -5.880023557303349, -5.849310894788428, -5.819229071935931, -5.789755764830727, -5.760869768267022, -5.732550922969539, -5.704780048647474, -5.677538882325391, -5.650810021456701, -5.624576871378961, -5.598823596717283, -5.573535076383545, -5.548696861855382, -5.5242951384512295, -5.500316689345986, -5.476748862097122, -5.4535795374734075, -5.430797100398357, -5.408390412838201, -5.386348788480066, -5.364661969060194, -5.343320102214662, -5.3223137207366396, -5.3016337231341994, -5.281271355392101], \"yaxis\": \"y\"}, {\"line\": {\"color\": \"rgb(153, 0, 204)\", \"dash\": \"solid\", \"width\": 1}, \"mode\": \"lines\", \"name\": \"RR\", \"type\": \"scatter\", \"x\": [0.0, 0.1, 0.2, 0.3, 0.4, 0.5, 0.6, 0.7, 0.8, 0.9, 1.0, 1.1, 1.2, 1.3, 1.4, 1.5, 1.6, 1.7, 1.8, 1.9, 2.0, 2.1, 2.2, 2.3, 2.4, 2.5, 2.6, 2.7, 2.8, 2.9, 3.0, 3.1, 3.2, 3.3, 3.4, 3.5, 3.6, 3.7, 3.8, 3.9, 4.0, 4.1, 4.2, 4.3, 4.4, 4.5, 4.6, 4.7, 4.8, 4.9, 5.0, 5.1, 5.2, 5.3, 5.4, 5.5, 5.6, 5.7, 5.8, 5.9, 6.0, 6.1, 6.2, 6.3, 6.4, 6.5, 6.6, 6.7, 6.8, 6.9, 7.0, 7.1, 7.2, 7.3, 7.4, 7.5, 7.6, 7.7, 7.8, 7.9, 8.0, 8.1, 8.2, 8.3, 8.4, 8.5, 8.6, 8.7, 8.8, 8.9, 9.0, 9.1, 9.2, 9.3, 9.4, 9.5, 9.6, 9.7, 9.8, 9.9, 10.0, 10.1, 10.2, 10.3, 10.4, 10.5, 10.6, 10.7, 10.8, 10.9], \"xaxis\": \"x\", \"y\": [-0.0, -0.0, -0.0, -0.0, -0.0, -0.0, -0.0, -0.0, -0.0, -0.0, -0.0, -0.0, 0.02408869895990755, 0.048107049068495354, -0.06379980370707575, -0.44046707420615777, -1.1116953799509963, -2.0288608315821945, -3.1153094537511983, -4.299778081183408, -5.528024902308769, -6.761584961748022, -8.01460910956902, -9.267069634425953, -10.39609935805158, -11.28683588542557, -11.892660961488405, -12.221097810610676, -12.30584944031107, -12.188611212517225, -11.911217950622992, -11.513506988004863, -11.033073116563198, -10.50488484960048, -9.960201878096761, -9.42510446355817, -8.919250483100697, -8.45536437163911, -8.03963804659476, -7.672891358897707, -7.352139357530413, -7.072185798963803, -6.826961961570979, -6.610477386043878, -6.417378196442683, -6.243187403819748, -6.084329473273546, -5.938034246938323, -5.80219157772849, -5.675201557946279, -5.5558434074512215, -5.44317122129225, -5.336436259521982, -5.235031564575343, -5.138453634494984, -5.046276287496655, -4.958132832722798, -4.873703717240635, -4.792707722174976, -4.714895461209851, -4.640044403379419, -4.567954942841329, -4.4984472208172335, -4.431358511528499, -4.3665410456204405, -4.303860181108519, -4.243192854803215, -4.184426262611134, -4.127456728180133, -4.07218872764192, -4.018534044571613, -3.9664110342512084, -3.9157439802337968, -3.8664625292987753, -3.818501193343808, -3.771798908717835, -3.7262986450714313, -3.681947057073467, -3.6386941733817677, -3.5964931181096635, -3.555299860736825, -3.5150729909998777, -3.4757735157885654, -3.437364675484289, -3.3998117775243, -3.3630820452680665, -3.3271444804913552, -3.2919697380461392, -3.257530011406102, -3.2237989279737502, -3.1907514531595034, -3.1583638023593794, -3.126613360058633, -3.095478605376101, -3.0649390434404045, -3.03497514205573, -3.005568273173223, -2.9767006587353206, -2.9483553205053643, -2.920516033534618, -2.893167282953941, -2.8662942238083837, -2.8398826436806996, -2.813918927874166, -2.7883900269470323, -2.7632834264103314, -2.738587118418293, -2.714289575296057, -2.6903797247634795, -2.666846926726313], \"yaxis\": \"y\"}, {\"line\": {\"color\": \"rgb(255, 102, 0)\", \"dash\": \"solid\", \"width\": 1}, \"mode\": \"lines\", \"name\": \"LR\", \"type\": \"scatter\", \"x\": [0.0, 0.1, 0.2, 0.3, 0.4, 0.5, 0.6, 0.7, 0.8, 0.9, 1.0, 1.1, 1.2, 1.3, 1.4, 1.5, 1.6, 1.7, 1.8, 1.9, 2.0, 2.1, 2.2, 2.3, 2.4, 2.5, 2.6, 2.7, 2.8, 2.9, 3.0, 3.1, 3.2, 3.3, 3.4, 3.5, 3.6, 3.7, 3.8, 3.9, 4.0, 4.1, 4.2, 4.3, 4.4, 4.5, 4.6, 4.7, 4.8, 4.9, 5.0, 5.1, 5.2, 5.3, 5.4, 5.5, 5.6, 5.7, 5.8, 5.9, 6.0, 6.1, 6.2, 6.3, 6.4, 6.5, 6.6, 6.7, 6.8, 6.9, 7.0, 7.1, 7.2, 7.3, 7.4, 7.5, 7.6, 7.7, 7.8, 7.9, 8.0, 8.1, 8.2, 8.3, 8.4, 8.5, 8.6, 8.7, 8.8, 8.9, 9.0, 9.1, 9.2, 9.3, 9.4, 9.5, 9.6, 9.7, 9.8, 9.9, 10.0, 10.1, 10.2, 10.3, 10.4, 10.5, 10.6, 10.7, 10.8, 10.9], \"xaxis\": \"x\", \"y\": [-0.0, -0.0, -0.0, -0.0, -0.0, -0.0, -0.0, -0.0, -0.0, -0.0, -0.0, -0.0, 0.024171332160180654, 0.04875992001834482, -0.06566499780014919, -0.4618540561953424, -1.1897369191632232, -2.218314010255993, -3.481862333265758, -4.914000262414839, -6.461688193184416, -8.085927085720058, -9.777714606250814, -11.461360435789867, -12.964645321814677, -14.14724114866283, -14.960211618074949, -15.418492300941649, -15.56422006721962, -15.446846826543903, -15.116425604635044, -14.622512966264363, -14.013945700274578, -13.337601418309639, -12.636075748799891, -11.945072190574914, -11.291435412434385, -10.692434812659164, -10.156406381462256, -9.684432939801006, -9.272528098815219, -8.913801960745616, -8.600247746795553, -8.323992318202022, -8.07802062320611, -7.856481136950598, -7.654710451352009, -7.469102506326154, -7.296915477208534, -7.136074351439876, -6.984998774992385, -6.842466495327459, -6.707511747103662, -6.57935293505087, -6.457342649555433, -6.340933620320492, -6.229655515319256, -6.123098882950183, -6.020903720201423, -5.922751039977852, -5.828356422850395, -5.737464930825478, -5.649846998705585, -5.565295057736032, -5.483620726734737, -5.404652453614149, -5.328233520117863, -5.2542203427217675, -5.1824810170671975, -5.112894064080498, -5.045347344218989, -4.979737112745179, -4.915967194013316, -4.853948256769519, -4.793597175653052, -4.734836466626404, -4.677593786099483, -4.6218014851622975, -4.567396211685469, -4.514318554153492, -4.462512722009339, -4.411926258047889, -4.362509779029218, -4.314216741213429, -4.267003227966059, -4.220827756961242, -4.175651104831048, -4.131436147383276, -4.088147713744096, -4.045752452983052, -4.004218711950928, -3.9635164232105224, -3.9236170020699435, -3.88449325184038, -3.846119276538481, -3.8084704003389995, -3.7715230931582253, -3.735254901814576, -3.699644386270461, -3.6646710605105897, -3.630315337656917, -3.5965584789601817, -3.5633825463435325, -3.530770358204964, -3.4987054482134097, -3.4671720268581554, -3.436154945533645, -3.4056396629615664, -3.3756122137700872, -3.3460591790660974], \"yaxis\": \"y\"}, {\"line\": {\"color\": \"rgb(0, 0, 255)\", \"dash\": \"solid\", \"width\": 1}, \"mode\": \"lines\", \"name\": \"LF\", \"showlegend\": false, \"type\": \"scatter\", \"x\": [0.0, 0.1, 0.2, 0.3, 0.4, 0.5, 0.6, 0.7, 0.8, 0.9, 1.0, 1.1, 1.2, 1.3, 1.4, 1.5, 1.6, 1.7, 1.8, 1.9, 2.0, 2.1, 2.2, 2.3, 2.4, 2.5, 2.6, 2.7, 2.8, 2.9, 3.0, 3.1, 3.2, 3.3, 3.4, 3.5, 3.6, 3.7, 3.8, 3.9, 4.0, 4.1, 4.2, 4.3, 4.4, 4.5, 4.6, 4.7, 4.8, 4.9, 5.0, 5.1, 5.2, 5.3, 5.4, 5.5, 5.6, 5.7, 5.8, 5.9, 6.0, 6.1, 6.2, 6.3, 6.4, 6.5, 6.6, 6.7, 6.8, 6.9, 7.0, 7.1, 7.2, 7.3, 7.4, 7.5, 7.6, 7.7, 7.8, 7.9, 8.0, 8.1, 8.2, 8.3, 8.4, 8.5, 8.6, 8.7, 8.8, 8.9, 9.0, 9.1, 9.2, 9.3, 9.4, 9.5, 9.6, 9.7, 9.8, 9.9, 10.0, 10.1, 10.2, 10.3, 10.4, 10.5, 10.6, 10.7, 10.8, 10.9], \"xaxis\": \"x2\", \"y\": [0.0, 0.0, 0.0, 0.0, 0.0, 0.0, 0.0, 0.0, 0.0, 0.0, 0.0, 0.0, 0.0, 0.0, 0.0, 0.0, 0.0, 0.0, 0.0, 0.0, 0.0, 0.0, 0.0, 0.0, 0.0, 0.0, 0.0, 0.0, 0.0, 0.0, 0.0, 0.0, 0.0, 0.0, 0.0, 0.0, 0.0, 0.0, 0.0, 0.0, 0.0, 0.0, 0.0, 0.0, 0.0, 0.0, 0.0, 0.0, 0.0, 0.0, 0.0, 0.0, 0.0, 0.0, 0.0, 0.0, 0.0, 0.0, 0.0, 0.0, 0.0, 0.0, 0.0, 0.0, 0.0, 0.0, 0.0, 0.0, 0.0, 0.0, 0.0, 0.0, 0.0, 0.0, 0.0, 0.0, 0.0, 0.0, 0.0, 0.0, 0.0, 0.0, 0.0, 0.0, 0.0, 0.0, 0.0, 0.0, 0.0, 0.0, 0.0, 0.0, 0.0, 0.0, 0.0, 0.0, 0.0, 0.0, 0.0, 0.0, 0.0, 0.0, 0.0, 0.0, 0.0, 0.0, 0.0, 0.0, 0.0, 0.0], \"yaxis\": \"y2\"}, {\"line\": {\"color\": \"rgb(0, 255, 0)\", \"dash\": \"solid\", \"width\": 1}, \"mode\": \"lines\", \"name\": \"RF\", \"showlegend\": false, \"type\": \"scatter\", \"x\": [0.0, 0.1, 0.2, 0.3, 0.4, 0.5, 0.6, 0.7, 0.8, 0.9, 1.0, 1.1, 1.2, 1.3, 1.4, 1.5, 1.6, 1.7, 1.8, 1.9, 2.0, 2.1, 2.2, 2.3, 2.4, 2.5, 2.6, 2.7, 2.8, 2.9, 3.0, 3.1, 3.2, 3.3, 3.4, 3.5, 3.6, 3.7, 3.8, 3.9, 4.0, 4.1, 4.2, 4.3, 4.4, 4.5, 4.6, 4.7, 4.8, 4.9, 5.0, 5.1, 5.2, 5.3, 5.4, 5.5, 5.6, 5.7, 5.8, 5.9, 6.0, 6.1, 6.2, 6.3, 6.4, 6.5, 6.6, 6.7, 6.8, 6.9, 7.0, 7.1, 7.2, 7.3, 7.4, 7.5, 7.6, 7.7, 7.8, 7.9, 8.0, 8.1, 8.2, 8.3, 8.4, 8.5, 8.6, 8.7, 8.8, 8.9, 9.0, 9.1, 9.2, 9.3, 9.4, 9.5, 9.6, 9.7, 9.8, 9.9, 10.0, 10.1, 10.2, 10.3, 10.4, 10.5, 10.6, 10.7, 10.8, 10.9], \"xaxis\": \"x2\", \"y\": [0.0, 0.0, 0.0, 0.0, 0.0, 0.0, 0.0, 0.0, 0.0, 0.0, 0.0, 0.0, 0.0, 0.0, 0.0, 0.0, 0.0, 0.0, 0.0, 0.0, 0.0, 0.0, 0.0, 0.0, 0.0, 0.0, 0.0, 0.0, 0.0, 0.0, 0.0, 0.0, 0.0, 0.0, 0.0, 0.0, 0.0, 0.0, 0.0, 0.0, 0.0, 0.0, 0.0, 0.0, 0.0, 0.0, 0.0, 0.0, 0.0, 0.0, 0.0, 0.0, 0.0, 0.0, 0.0, 0.0, 0.0, 0.0, 0.0, 0.0, 0.0, 0.0, 0.0, 0.0, 0.0, 0.0, 0.0, 0.0, 0.0, 0.0, 0.0, 0.0, 0.0, 0.0, 0.0, 0.0, 0.0, 0.0, 0.0, 0.0, 0.0, 0.0, 0.0, 0.0, 0.0, 0.0, 0.0, 0.0, 0.0, 0.0, 0.0, 0.0, 0.0, 0.0, 0.0, 0.0, 0.0, 0.0, 0.0, 0.0, 0.0, 0.0, 0.0, 0.0, 0.0, 0.0, 0.0, 0.0, 0.0, 0.0], \"yaxis\": \"y2\"}, {\"line\": {\"color\": \"rgb(153, 0, 204)\", \"dash\": \"solid\", \"width\": 1}, \"mode\": \"lines\", \"name\": \"RR\", \"showlegend\": false, \"type\": \"scatter\", \"x\": [0.0, 0.1, 0.2, 0.3, 0.4, 0.5, 0.6, 0.7, 0.8, 0.9, 1.0, 1.1, 1.2, 1.3, 1.4, 1.5, 1.6, 1.7, 1.8, 1.9, 2.0, 2.1, 2.2, 2.3, 2.4, 2.5, 2.6, 2.7, 2.8, 2.9, 3.0, 3.1, 3.2, 3.3, 3.4, 3.5, 3.6, 3.7, 3.8, 3.9, 4.0, 4.1, 4.2, 4.3, 4.4, 4.5, 4.6, 4.7, 4.8, 4.9, 5.0, 5.1, 5.2, 5.3, 5.4, 5.5, 5.6, 5.7, 5.8, 5.9, 6.0, 6.1, 6.2, 6.3, 6.4, 6.5, 6.6, 6.7, 6.8, 6.9, 7.0, 7.1, 7.2, 7.3, 7.4, 7.5, 7.6, 7.7, 7.8, 7.9, 8.0, 8.1, 8.2, 8.3, 8.4, 8.5, 8.6, 8.7, 8.8, 8.9, 9.0, 9.1, 9.2, 9.3, 9.4, 9.5, 9.6, 9.7, 9.8, 9.9, 10.0, 10.1, 10.2, 10.3, 10.4, 10.5, 10.6, 10.7, 10.8, 10.9], \"xaxis\": \"x2\", \"y\": [0.0, 0.0, 0.0, 0.0, 0.0, 0.0, 0.0, 0.0, 0.0, 0.0, 0.0, 0.0, 0.0, 0.0, 0.0, 0.0, 0.0, 0.0, 0.0, 0.0, 0.0, 0.0, 0.0, 0.0, 0.0, 0.0, 0.0, 0.0, 0.0, 0.0, 0.0, 0.0, 0.0, 0.0, 0.0, 0.0, 0.0, 0.0, 0.0, 0.0, 0.0, 0.0, 0.0, 0.0, 0.0, 0.0, 0.0, 0.0, 0.0, 0.0, 0.0, 0.0, 0.0, 0.0, 0.0, 0.0, 0.0, 0.0, 0.0, 0.0, 0.0, 0.0, 0.0, 0.0, 0.0, 0.0, 0.0, 0.0, 0.0, 0.0, 0.0, 0.0, 0.0, 0.0, 0.0, 0.0, 0.0, 0.0, 0.0, 0.0, 0.0, 0.0, 0.0, 0.0, 0.0, 0.0, 0.0, 0.0, 0.0, 0.0, 0.0, 0.0, 0.0, 0.0, 0.0, 0.0, 0.0, 0.0, 0.0, 0.0, 0.0, 0.0, 0.0, 0.0, 0.0, 0.0, 0.0, 0.0, 0.0, 0.0], \"yaxis\": \"y2\"}, {\"line\": {\"color\": \"rgb(255, 102, 0)\", \"dash\": \"solid\", \"width\": 1}, \"mode\": \"lines\", \"name\": \"LR\", \"showlegend\": false, \"type\": \"scatter\", \"x\": [0.0, 0.1, 0.2, 0.3, 0.4, 0.5, 0.6, 0.7, 0.8, 0.9, 1.0, 1.1, 1.2, 1.3, 1.4, 1.5, 1.6, 1.7, 1.8, 1.9, 2.0, 2.1, 2.2, 2.3, 2.4, 2.5, 2.6, 2.7, 2.8, 2.9, 3.0, 3.1, 3.2, 3.3, 3.4, 3.5, 3.6, 3.7, 3.8, 3.9, 4.0, 4.1, 4.2, 4.3, 4.4, 4.5, 4.6, 4.7, 4.8, 4.9, 5.0, 5.1, 5.2, 5.3, 5.4, 5.5, 5.6, 5.7, 5.8, 5.9, 6.0, 6.1, 6.2, 6.3, 6.4, 6.5, 6.6, 6.7, 6.8, 6.9, 7.0, 7.1, 7.2, 7.3, 7.4, 7.5, 7.6, 7.7, 7.8, 7.9, 8.0, 8.1, 8.2, 8.3, 8.4, 8.5, 8.6, 8.7, 8.8, 8.9, 9.0, 9.1, 9.2, 9.3, 9.4, 9.5, 9.6, 9.7, 9.8, 9.9, 10.0, 10.1, 10.2, 10.3, 10.4, 10.5, 10.6, 10.7, 10.8, 10.9], \"xaxis\": \"x2\", \"y\": [0.0, 0.0, 0.0, 0.0, 0.0, 0.0, 0.0, 0.0, 0.0, 0.0, 0.0, 0.0, 0.0, 0.0, 0.0, 0.0, 0.0, 0.0, 0.0, 0.0, 0.0, 0.0, 0.0, 0.0, 0.0, 0.0, 0.0, 0.0, 0.0, 0.0, 0.0, 0.0, 0.0, 0.0, 0.0, 0.0, 0.0, 0.0, 0.0, 0.0, 0.0, 0.0, 0.0, 0.0, 0.0, 0.0, 0.0, 0.0, 0.0, 0.0, 0.0, 0.0, 0.0, 0.0, 0.0, 0.0, 0.0, 0.0, 0.0, 0.0, 0.0, 0.0, 0.0, 0.0, 0.0, 0.0, 0.0, 0.0, 0.0, 0.0, 0.0, 0.0, 0.0, 0.0, 0.0, 0.0, 0.0, 0.0, 0.0, 0.0, 0.0, 0.0, 0.0, 0.0, 0.0, 0.0, 0.0, 0.0, 0.0, 0.0, 0.0, 0.0, 0.0, 0.0, 0.0, 0.0, 0.0, 0.0, 0.0, 0.0, 0.0, 0.0, 0.0, 0.0, 0.0, 0.0, 0.0, 0.0, 0.0, 0.0], \"yaxis\": \"y2\"}],\n",
       "                        {\"autosize\": false, \"font\": {\"color\": \"black\", \"family\": \"Arial\", \"size\": 16}, \"height\": 450, \"legend\": {\"orientation\": \"h\", \"x\": 0.01, \"xanchor\": \"left\", \"y\": 1.15, \"yanchor\": \"top\"}, \"template\": {\"data\": {\"bar\": [{\"error_x\": {\"color\": \"#2a3f5f\"}, \"error_y\": {\"color\": \"#2a3f5f\"}, \"marker\": {\"line\": {\"color\": \"white\", \"width\": 0.5}}, \"type\": \"bar\"}], \"barpolar\": [{\"marker\": {\"line\": {\"color\": \"white\", \"width\": 0.5}}, \"type\": \"barpolar\"}], \"carpet\": [{\"aaxis\": {\"endlinecolor\": \"#2a3f5f\", \"gridcolor\": \"#C8D4E3\", \"linecolor\": \"#C8D4E3\", \"minorgridcolor\": \"#C8D4E3\", \"startlinecolor\": \"#2a3f5f\"}, \"baxis\": {\"endlinecolor\": \"#2a3f5f\", \"gridcolor\": \"#C8D4E3\", \"linecolor\": \"#C8D4E3\", \"minorgridcolor\": \"#C8D4E3\", \"startlinecolor\": \"#2a3f5f\"}, \"type\": \"carpet\"}], \"choropleth\": [{\"colorbar\": {\"outlinewidth\": 0, \"ticks\": \"\"}, \"type\": \"choropleth\"}], \"contour\": [{\"colorbar\": {\"outlinewidth\": 0, \"ticks\": \"\"}, \"colorscale\": [[0.0, \"#0d0887\"], [0.1111111111111111, \"#46039f\"], [0.2222222222222222, \"#7201a8\"], [0.3333333333333333, \"#9c179e\"], [0.4444444444444444, \"#bd3786\"], [0.5555555555555556, \"#d8576b\"], [0.6666666666666666, \"#ed7953\"], [0.7777777777777778, \"#fb9f3a\"], [0.8888888888888888, \"#fdca26\"], [1.0, \"#f0f921\"]], \"type\": \"contour\"}], \"contourcarpet\": [{\"colorbar\": {\"outlinewidth\": 0, \"ticks\": \"\"}, \"type\": \"contourcarpet\"}], \"heatmap\": [{\"colorbar\": {\"outlinewidth\": 0, \"ticks\": \"\"}, \"colorscale\": [[0.0, \"#0d0887\"], [0.1111111111111111, \"#46039f\"], [0.2222222222222222, \"#7201a8\"], [0.3333333333333333, \"#9c179e\"], [0.4444444444444444, \"#bd3786\"], [0.5555555555555556, \"#d8576b\"], [0.6666666666666666, \"#ed7953\"], [0.7777777777777778, \"#fb9f3a\"], [0.8888888888888888, \"#fdca26\"], [1.0, \"#f0f921\"]], \"type\": \"heatmap\"}], \"heatmapgl\": [{\"colorbar\": {\"outlinewidth\": 0, \"ticks\": \"\"}, \"colorscale\": [[0.0, \"#0d0887\"], [0.1111111111111111, \"#46039f\"], [0.2222222222222222, \"#7201a8\"], [0.3333333333333333, \"#9c179e\"], [0.4444444444444444, \"#bd3786\"], [0.5555555555555556, \"#d8576b\"], [0.6666666666666666, \"#ed7953\"], [0.7777777777777778, \"#fb9f3a\"], [0.8888888888888888, \"#fdca26\"], [1.0, \"#f0f921\"]], \"type\": \"heatmapgl\"}], \"histogram\": [{\"marker\": {\"colorbar\": {\"outlinewidth\": 0, \"ticks\": \"\"}}, \"type\": \"histogram\"}], \"histogram2d\": [{\"colorbar\": {\"outlinewidth\": 0, \"ticks\": \"\"}, \"colorscale\": [[0.0, \"#0d0887\"], [0.1111111111111111, \"#46039f\"], [0.2222222222222222, \"#7201a8\"], [0.3333333333333333, \"#9c179e\"], [0.4444444444444444, \"#bd3786\"], [0.5555555555555556, \"#d8576b\"], [0.6666666666666666, \"#ed7953\"], [0.7777777777777778, \"#fb9f3a\"], [0.8888888888888888, \"#fdca26\"], [1.0, \"#f0f921\"]], \"type\": \"histogram2d\"}], \"histogram2dcontour\": [{\"colorbar\": {\"outlinewidth\": 0, \"ticks\": \"\"}, \"colorscale\": [[0.0, \"#0d0887\"], [0.1111111111111111, \"#46039f\"], [0.2222222222222222, \"#7201a8\"], [0.3333333333333333, \"#9c179e\"], [0.4444444444444444, \"#bd3786\"], [0.5555555555555556, \"#d8576b\"], [0.6666666666666666, \"#ed7953\"], [0.7777777777777778, \"#fb9f3a\"], [0.8888888888888888, \"#fdca26\"], [1.0, \"#f0f921\"]], \"type\": \"histogram2dcontour\"}], \"mesh3d\": [{\"colorbar\": {\"outlinewidth\": 0, \"ticks\": \"\"}, \"type\": \"mesh3d\"}], \"parcoords\": [{\"line\": {\"colorbar\": {\"outlinewidth\": 0, \"ticks\": \"\"}}, \"type\": \"parcoords\"}], \"pie\": [{\"automargin\": true, \"type\": \"pie\"}], \"scatter\": [{\"marker\": {\"colorbar\": {\"outlinewidth\": 0, \"ticks\": \"\"}}, \"type\": \"scatter\"}], \"scatter3d\": [{\"line\": {\"colorbar\": {\"outlinewidth\": 0, \"ticks\": \"\"}}, \"marker\": {\"colorbar\": {\"outlinewidth\": 0, \"ticks\": \"\"}}, \"type\": \"scatter3d\"}], \"scattercarpet\": [{\"marker\": {\"colorbar\": {\"outlinewidth\": 0, \"ticks\": \"\"}}, \"type\": \"scattercarpet\"}], \"scattergeo\": [{\"marker\": {\"colorbar\": {\"outlinewidth\": 0, \"ticks\": \"\"}}, \"type\": \"scattergeo\"}], \"scattergl\": [{\"marker\": {\"colorbar\": {\"outlinewidth\": 0, \"ticks\": \"\"}}, \"type\": \"scattergl\"}], \"scattermapbox\": [{\"marker\": {\"colorbar\": {\"outlinewidth\": 0, \"ticks\": \"\"}}, \"type\": \"scattermapbox\"}], \"scatterpolar\": [{\"marker\": {\"colorbar\": {\"outlinewidth\": 0, \"ticks\": \"\"}}, \"type\": \"scatterpolar\"}], \"scatterpolargl\": [{\"marker\": {\"colorbar\": {\"outlinewidth\": 0, \"ticks\": \"\"}}, \"type\": \"scatterpolargl\"}], \"scatterternary\": [{\"marker\": {\"colorbar\": {\"outlinewidth\": 0, \"ticks\": \"\"}}, \"type\": \"scatterternary\"}], \"surface\": [{\"colorbar\": {\"outlinewidth\": 0, \"ticks\": \"\"}, \"colorscale\": [[0.0, \"#0d0887\"], [0.1111111111111111, \"#46039f\"], [0.2222222222222222, \"#7201a8\"], [0.3333333333333333, \"#9c179e\"], [0.4444444444444444, \"#bd3786\"], [0.5555555555555556, \"#d8576b\"], [0.6666666666666666, \"#ed7953\"], [0.7777777777777778, \"#fb9f3a\"], [0.8888888888888888, \"#fdca26\"], [1.0, \"#f0f921\"]], \"type\": \"surface\"}], \"table\": [{\"cells\": {\"fill\": {\"color\": \"#EBF0F8\"}, \"line\": {\"color\": \"white\"}}, \"header\": {\"fill\": {\"color\": \"#C8D4E3\"}, \"line\": {\"color\": \"white\"}}, \"type\": \"table\"}]}, \"layout\": {\"annotationdefaults\": {\"arrowcolor\": \"#2a3f5f\", \"arrowhead\": 0, \"arrowwidth\": 1}, \"coloraxis\": {\"colorbar\": {\"outlinewidth\": 0, \"ticks\": \"\"}}, \"colorscale\": {\"diverging\": [[0, \"#8e0152\"], [0.1, \"#c51b7d\"], [0.2, \"#de77ae\"], [0.3, \"#f1b6da\"], [0.4, \"#fde0ef\"], [0.5, \"#f7f7f7\"], [0.6, \"#e6f5d0\"], [0.7, \"#b8e186\"], [0.8, \"#7fbc41\"], [0.9, \"#4d9221\"], [1, \"#276419\"]], \"sequential\": [[0.0, \"#0d0887\"], [0.1111111111111111, \"#46039f\"], [0.2222222222222222, \"#7201a8\"], [0.3333333333333333, \"#9c179e\"], [0.4444444444444444, \"#bd3786\"], [0.5555555555555556, \"#d8576b\"], [0.6666666666666666, \"#ed7953\"], [0.7777777777777778, \"#fb9f3a\"], [0.8888888888888888, \"#fdca26\"], [1.0, \"#f0f921\"]], \"sequentialminus\": [[0.0, \"#0d0887\"], [0.1111111111111111, \"#46039f\"], [0.2222222222222222, \"#7201a8\"], [0.3333333333333333, \"#9c179e\"], [0.4444444444444444, \"#bd3786\"], [0.5555555555555556, \"#d8576b\"], [0.6666666666666666, \"#ed7953\"], [0.7777777777777778, \"#fb9f3a\"], [0.8888888888888888, \"#fdca26\"], [1.0, \"#f0f921\"]]}, \"colorway\": [\"#636efa\", \"#EF553B\", \"#00cc96\", \"#ab63fa\", \"#FFA15A\", \"#19d3f3\", \"#FF6692\", \"#B6E880\", \"#FF97FF\", \"#FECB52\"], \"font\": {\"color\": \"#2a3f5f\"}, \"geo\": {\"bgcolor\": \"white\", \"lakecolor\": \"white\", \"landcolor\": \"white\", \"showlakes\": true, \"showland\": true, \"subunitcolor\": \"#C8D4E3\"}, \"hoverlabel\": {\"align\": \"left\"}, \"hovermode\": \"closest\", \"mapbox\": {\"style\": \"light\"}, \"paper_bgcolor\": \"white\", \"plot_bgcolor\": \"white\", \"polar\": {\"angularaxis\": {\"gridcolor\": \"#EBF0F8\", \"linecolor\": \"#EBF0F8\", \"ticks\": \"\"}, \"bgcolor\": \"white\", \"radialaxis\": {\"gridcolor\": \"#EBF0F8\", \"linecolor\": \"#EBF0F8\", \"ticks\": \"\"}}, \"scene\": {\"xaxis\": {\"backgroundcolor\": \"white\", \"gridcolor\": \"#DFE8F3\", \"gridwidth\": 2, \"linecolor\": \"#EBF0F8\", \"showbackground\": true, \"ticks\": \"\", \"zerolinecolor\": \"#EBF0F8\"}, \"yaxis\": {\"backgroundcolor\": \"white\", \"gridcolor\": \"#DFE8F3\", \"gridwidth\": 2, \"linecolor\": \"#EBF0F8\", \"showbackground\": true, \"ticks\": \"\", \"zerolinecolor\": \"#EBF0F8\"}, \"zaxis\": {\"backgroundcolor\": \"white\", \"gridcolor\": \"#DFE8F3\", \"gridwidth\": 2, \"linecolor\": \"#EBF0F8\", \"showbackground\": true, \"ticks\": \"\", \"zerolinecolor\": \"#EBF0F8\"}}, \"shapedefaults\": {\"line\": {\"color\": \"#2a3f5f\"}}, \"ternary\": {\"aaxis\": {\"gridcolor\": \"#DFE8F3\", \"linecolor\": \"#A2B1C6\", \"ticks\": \"\"}, \"baxis\": {\"gridcolor\": \"#DFE8F3\", \"linecolor\": \"#A2B1C6\", \"ticks\": \"\"}, \"bgcolor\": \"white\", \"caxis\": {\"gridcolor\": \"#DFE8F3\", \"linecolor\": \"#A2B1C6\", \"ticks\": \"\"}}, \"title\": {\"x\": 0.05}, \"xaxis\": {\"automargin\": true, \"gridcolor\": \"#EBF0F8\", \"linecolor\": \"#EBF0F8\", \"ticks\": \"\", \"title\": {\"standoff\": 15}, \"zerolinecolor\": \"#EBF0F8\", \"zerolinewidth\": 2}, \"yaxis\": {\"automargin\": true, \"gridcolor\": \"#EBF0F8\", \"linecolor\": \"#EBF0F8\", \"ticks\": \"\", \"title\": {\"standoff\": 15}, \"zerolinecolor\": \"#EBF0F8\", \"zerolinewidth\": 2}}}, \"title\": {\"text\": \"Tire Slip Angle & Saturation (locked) Status\"}, \"width\": 800, \"xaxis\": {\"anchor\": \"y\", \"domain\": [0.0, 1.0], \"linecolor\": \"black\", \"linewidth\": 1, \"matches\": \"x2\", \"showgrid\": false, \"showline\": true, \"showticklabels\": false, \"tickcolor\": \"black\", \"ticklen\": 10, \"ticks\": \"outside\", \"tickwidth\": 1, \"title\": {\"text\": \"\"}, \"zeroline\": false}, \"xaxis2\": {\"anchor\": \"y2\", \"domain\": [0.0, 1.0], \"linecolor\": \"black\", \"linewidth\": 1, \"showgrid\": false, \"showline\": true, \"tickcolor\": \"black\", \"ticklen\": 10, \"ticks\": \"outside\", \"tickwidth\": 1, \"title\": {\"text\": \"Time (s)\"}, \"zeroline\": false}, \"yaxis\": {\"anchor\": \"x\", \"domain\": [0.555, 1.0], \"linecolor\": \"black\", \"linewidth\": 1, \"showgrid\": false, \"showline\": true, \"tickcolor\": \"black\", \"ticklen\": 10, \"ticks\": \"outside\", \"tickwidth\": 1, \"title\": {\"text\": \"Slip Angle (degrees)\"}, \"zeroline\": false}, \"yaxis2\": {\"anchor\": \"x2\", \"domain\": [0.0, 0.445], \"linecolor\": \"black\", \"linewidth\": 1, \"showgrid\": false, \"showline\": true, \"tickcolor\": \"black\", \"ticklen\": 10, \"ticks\": \"outside\", \"tickwidth\": 1, \"title\": {\"text\": \"Locked Satus\"}, \"zeroline\": false}},\n",
       "                        {\"responsive\": true}\n",
       "                    ).then(function(){\n",
       "                            \n",
       "var gd = document.getElementById('5c19529b-f8ea-4f65-ba2e-0ba1dc68e57e');\n",
       "var x = new MutationObserver(function (mutations, observer) {{\n",
       "        var display = window.getComputedStyle(gd).display;\n",
       "        if (!display || display === 'none') {{\n",
       "            console.log([gd, 'removed!']);\n",
       "            Plotly.purge(gd);\n",
       "            observer.disconnect();\n",
       "        }}\n",
       "}});\n",
       "\n",
       "// Listen for the removal of the full notebook cells\n",
       "var notebookContainer = gd.closest('#notebook-container');\n",
       "if (notebookContainer) {{\n",
       "    x.observe(notebookContainer, {childList: true});\n",
       "}}\n",
       "\n",
       "// Listen for the clearing of the current output cell\n",
       "var outputEl = gd.closest('.output');\n",
       "if (outputEl) {{\n",
       "    x.observe(outputEl, {childList: true});\n",
       "}}\n",
       "\n",
       "                        })\n",
       "                };\n",
       "                });\n",
       "            </script>\n",
       "        </div>"
      ]
     },
     "metadata": {},
     "output_type": "display_data"
    }
   ],
   "source": [
    "tire_details(run.veh)"
   ]
  },
  {
   "cell_type": "code",
   "execution_count": 136,
   "metadata": {},
   "outputs": [
    {
     "data": {
      "application/vnd.plotly.v1+json": {
       "config": {
        "plotlyServerURL": "https://plot.ly"
       },
       "data": [
        {
         "line": {
          "color": "rgb(0, 0, 255)",
          "dash": "solid",
          "width": 1
         },
         "mode": "lines",
         "name": "LF",
         "type": "scatter",
         "x": [
          0,
          0.1,
          0.2,
          0.3,
          0.4,
          0.5,
          0.6,
          0.7,
          0.8,
          0.9,
          1,
          1.1,
          1.2,
          1.3,
          1.4,
          1.5,
          1.6,
          1.7,
          1.8,
          1.9,
          2,
          2.1,
          2.2,
          2.3,
          2.4,
          2.5,
          2.6,
          2.7,
          2.8,
          2.9,
          3,
          3.1,
          3.2,
          3.3,
          3.4,
          3.5,
          3.6,
          3.7,
          3.8,
          3.9,
          4,
          4.1,
          4.2,
          4.3,
          4.4,
          4.5,
          4.6,
          4.7,
          4.8,
          4.9,
          5,
          5.1,
          5.2,
          5.3,
          5.4,
          5.5,
          5.6,
          5.7,
          5.8,
          5.9,
          6,
          6.1,
          6.2,
          6.3,
          6.4,
          6.5,
          6.6,
          6.7,
          6.8,
          6.9,
          7,
          7.1,
          7.2,
          7.3,
          7.4,
          7.5,
          7.6,
          7.7,
          7.8,
          7.9,
          8,
          8.1,
          8.2,
          8.3,
          8.4,
          8.5,
          8.6,
          8.7,
          8.8,
          8.9,
          9,
          9.1,
          9.2,
          9.3,
          9.4,
          9.5,
          9.6,
          9.7,
          9.8,
          9.9,
          10,
          10.1,
          10.2,
          10.3,
          10.4,
          10.5,
          10.6,
          10.7,
          10.8,
          10.9
         ],
         "y": [
          1056.293396226415,
          1056.293396226415,
          1056.293396226415,
          1056.293396226415,
          1056.293396226415,
          1056.293396226415,
          1056.293396226415,
          1056.293396226415,
          1056.293396226415,
          1056.293396226415,
          1056.293396226415,
          1056.293396226415,
          1012.5542417480158,
          973.8355985194748,
          950.5444337216281,
          934.6903208248397,
          917.5522351901873,
          895.2608478187033,
          867.9069101890275,
          837.3449440519942,
          805.7255131226209,
          774.8988343080445,
          772.0822730015848,
          768.3250787670512,
          754.5641289468612,
          735.6331799897109,
          718.3710505071608,
          706.8326723403604,
          702.1236251958389,
          703.618417284761,
          710.0291517754104,
          719.9989305589479,
          732.3322288008678,
          746.037622235127,
          760.306756797251,
          774.4906905930342,
          788.090374926845,
          800.7554266273005,
          812.2796640691068,
          822.5859850296652,
          831.7001938120844,
          839.718623712721,
          846.7760673221537,
          853.0192105583966,
          858.5881031300463,
          863.6056785636343,
          868.1737428173443,
          872.3732789627793,
          876.2670767524729,
          879.9032101425039,
          883.3184564104861,
          886.5412151788875,
          889.5937945607512,
          892.494100998279,
          895.2568403242417,
          897.8943509645272,
          900.4171760804423,
          902.8344580749808,
          905.1542156057023,
          907.383543930473,
          909.528765017029,
          911.595543954435,
          913.5889818593521,
          915.5136916292981,
          917.373860658726,
          919.1733033393785,
          920.915505388919,
          922.6036615508128,
          924.2407078611188,
          925.829349424454,
          927.3720844509625,
          928.87122516015,
          930.3289160436389,
          931.7471498889581,
          933.1277818948221,
          934.4725421510689,
          935.7830467105402,
          937.0608074432309,
          938.307240833047,
          939.5236758529408,
          940.7113610339129,
          941.8714708265067,
          943.0051113393865,
          944.1133255278077,
          945.1970978948997,
          946.2573587603283,
          947.2949881437886,
          948.3108193047564,
          949.3056419747363,
          950.2802053138236,
          951.2352206195628,
          952.1713638128078,
          953.0892777224203,
          953.9895741881659,
          954.872835999012,
          955.7396186821447,
          956.5904521563612,
          957.4258422620612,
          958.2462721787753,
          959.0522037400466,
          959.8440786544966,
          960.6223196410142,
          961.3873314852458,
          962.1395020238541,
          962.8792030624082,
          963.6067912322159,
          964.3226087909112,
          965.0269843711823,
          965.720233681616,
          966.4026601632964
         ]
        },
        {
         "line": {
          "color": "rgb(0, 255, 0)",
          "dash": "solid",
          "width": 1
         },
         "mode": "lines",
         "name": "RF",
         "type": "scatter",
         "x": [
          0,
          0.1,
          0.2,
          0.3,
          0.4,
          0.5,
          0.6,
          0.7,
          0.8,
          0.9,
          1,
          1.1,
          1.2,
          1.3,
          1.4,
          1.5,
          1.6,
          1.7,
          1.8,
          1.9,
          2,
          2.1,
          2.2,
          2.3,
          2.4,
          2.5,
          2.6,
          2.7,
          2.8,
          2.9,
          3,
          3.1,
          3.2,
          3.3,
          3.4,
          3.5,
          3.6,
          3.7,
          3.8,
          3.9,
          4,
          4.1,
          4.2,
          4.3,
          4.4,
          4.5,
          4.6,
          4.7,
          4.8,
          4.9,
          5,
          5.1,
          5.2,
          5.3,
          5.4,
          5.5,
          5.6,
          5.7,
          5.8,
          5.9,
          6,
          6.1,
          6.2,
          6.3,
          6.4,
          6.5,
          6.6,
          6.7,
          6.8,
          6.9,
          7,
          7.1,
          7.2,
          7.3,
          7.4,
          7.5,
          7.6,
          7.7,
          7.8,
          7.9,
          8,
          8.1,
          8.2,
          8.3,
          8.4,
          8.5,
          8.6,
          8.7,
          8.8,
          8.9,
          9,
          9.1,
          9.2,
          9.3,
          9.4,
          9.5,
          9.6,
          9.7,
          9.8,
          9.9,
          10,
          10.1,
          10.2,
          10.3,
          10.4,
          10.5,
          10.6,
          10.7,
          10.8,
          10.9
         ],
         "y": [
          1056.293396226415,
          1056.293396226415,
          1056.293396226415,
          1056.293396226415,
          1056.293396226415,
          1056.293396226415,
          1056.293396226415,
          1056.293396226415,
          1056.293396226415,
          1056.293396226415,
          1056.293396226415,
          1056.293396226415,
          1101.4296987573882,
          1144.4409725665437,
          1173.4373560463118,
          1195.7054985258187,
          1220.34753902391,
          1251.9548501799788,
          1290.99235753561,
          1335.8757599105604,
          1384.5002190850926,
          1434.917103023644,
          1434.5851323402871,
          1433.5583728769102,
          1446.9509069613086,
          1468.6420409223267,
          1489.291110858213,
          1503.1385873341067,
          1508.4357652013937,
          1505.8689504945296,
          1497.095551034532,
          1483.898812671082,
          1467.8441761355932,
          1450.2076474572023,
          1432.0045661178917,
          1414.0295558226653,
          1396.8794332938542,
          1380.9632665612594,
          1366.513261467171,
          1353.6061360765739,
          1342.1962533574067,
          1332.1552788540437,
          1323.3109187184,
          1315.4787319004067,
          1308.484122666339,
          1302.1745943270425,
          1296.4242271333442,
          1291.1330062433794,
          1286.2234126509404,
          1281.6360565409539,
          1277.3254360394114,
          1273.2563403662846,
          1269.4010442525228,
          1265.7372389645425,
          1262.2465630652837,
          1258.9135827642976,
          1255.725090690345,
          1252.6696212268434,
          1249.7371091916023,
          1246.9186422099815,
          1244.2062746336546,
          1241.592882872908,
          1239.0720497155046,
          1236.6379698681571,
          1234.2853716714396,
          1232.0094515119195,
          1229.805818403518,
          1227.670446824944,
          1225.5996363287902,
          1223.5899767518213,
          1221.638318092107,
          1219.7417442995634,
          1217.8975503674665,
          1216.1032222240183,
          1214.356419011996,
          1212.6549574156888,
          1210.9967977514345,
          1209.3800315840397,
          1207.8028706687248,
          1206.2636370488399,
          1204.7607541648886,
          1203.292738851429,
          1201.8581941159537,
          1200.4558026085535,
          1199.0843207035273,
          1197.7425731245612,
          1196.4294480539577,
          1195.1438926739809,
          1193.884909094833,
          1192.6515506293538,
          1191.4429183792959,
          1190.2581581021707,
          1189.096457331235,
          1187.9570427242968,
          1186.8391776197225,
          1185.742159780404,
          1184.665319308504,
          1183.6080167156213,
          1182.5696411346207,
          1181.5496086607739,
          1180.5473608111133,
          1179.5623630919945,
          1178.5941036658514,
          1177.642092108992,
          1176.7058582530572,
          1175.7849511034608,
          1174.8789378287458,
          1173.987402815338,
          1173.1099467826818,
          1172.246185954188
         ]
        },
        {
         "line": {
          "color": "rgb(153, 0, 204)",
          "dash": "solid",
          "width": 1
         },
         "mode": "lines",
         "name": "RR",
         "type": "scatter",
         "x": [
          0,
          0.1,
          0.2,
          0.3,
          0.4,
          0.5,
          0.6,
          0.7,
          0.8,
          0.9,
          1,
          1.1,
          1.2,
          1.3,
          1.4,
          1.5,
          1.6,
          1.7,
          1.8,
          1.9,
          2,
          2.1,
          2.2,
          2.3,
          2.4,
          2.5,
          2.6,
          2.7,
          2.8,
          2.9,
          3,
          3.1,
          3.2,
          3.3,
          3.4,
          3.5,
          3.6,
          3.7,
          3.8,
          3.9,
          4,
          4.1,
          4.2,
          4.3,
          4.4,
          4.5,
          4.6,
          4.7,
          4.8,
          4.9,
          5,
          5.1,
          5.2,
          5.3,
          5.4,
          5.5,
          5.6,
          5.7,
          5.8,
          5.9,
          6,
          6.1,
          6.2,
          6.3,
          6.4,
          6.5,
          6.6,
          6.7,
          6.8,
          6.9,
          7,
          7.1,
          7.2,
          7.3,
          7.4,
          7.5,
          7.6,
          7.7,
          7.8,
          7.9,
          8,
          8.1,
          8.2,
          8.3,
          8.4,
          8.5,
          8.6,
          8.7,
          8.8,
          8.9,
          9,
          9.1,
          9.2,
          9.3,
          9.4,
          9.5,
          9.6,
          9.7,
          9.8,
          9.9,
          10,
          10.1,
          10.2,
          10.3,
          10.4,
          10.5,
          10.6,
          10.7,
          10.8,
          10.9
         ],
         "y": [
          592.7066037735849,
          592.7066037735849,
          592.7066037735849,
          592.7066037735849,
          592.7066037735849,
          592.7066037735849,
          592.7066037735849,
          592.7066037735849,
          592.7066037735849,
          592.7066037735849,
          592.7066037735849,
          592.7066037735849,
          616.9428965518421,
          637.726697897295,
          649.5438646194943,
          657.0324163217791,
          665.0022563102183,
          675.4660942257296,
          688.2510697010449,
          702.2572775048152,
          716.2679608267042,
          729.2665235143056,
          731.5378653762257,
          734.6958920394746,
          742.4982717539448,
          752.5150964772113,
          761.4579789592505,
          767.4256762103491,
          769.9389538014693,
          769.3354421434341,
          766.2567193739135,
          761.3706093015705,
          755.266769501232,
          748.4390585335193,
          741.295638506467,
          734.1686747689466,
          727.3167389219261,
          720.9235598967645,
          715.0991194179159,
          709.8867653297025,
          705.2763704408567,
          701.2209026259284,
          697.6529564509822,
          694.4985086169208,
          691.6865553222254,
          689.1546035442482,
          686.8508195345203,
          684.7339384675456,
          682.7719599944023,
          680.9403920469377,
          679.2205127136524,
          677.597881061286,
          676.0611683198466,
          674.6012928795218,
          673.2108052009199,
          671.8834612031226,
          670.6139295500797,
          669.3975900698977,
          668.2303924292033,
          667.1087540906659,
          666.0294839772607,
          664.9897233521151,
          663.9868986847323,
          663.0186832490671,
          662.0829653487933,
          661.1778217302701,
          660.3014951424872,
          659.4523752594293,
          658.6289823573156,
          657.8299532680679,
          657.0540292271958,
          656.3000453085206,
          655.5669211960513,
          654.8536530890625,
          654.1593065728377,
          653.4830103166361,
          652.823950483726,
          652.1813657570922,
          651.5545428996245,
          650.9428127800651,
          650.3455468062707,
          649.7621537158889,
          649.1920766816612,
          648.6347906945325,
          648.0898001927503,
          647.5566369093759,
          647.0348579142153,
          646.5240438292432,
          646.0237971992043,
          645.5337410013252,
          645.0535172799952,
          644.5827858939447,
          644.1212233648941,
          643.6685218178968,
          643.2243880046907,
          642.7885424023315,
          642.3607183802083,
          641.9406614292783,
          641.528128447998,
          641.1228870799999,
          640.7247150990589,
          640.3333998373421,
          639.9487376533252,
          639.5705334361083,
          639.1986001431785,
          638.8327583689397,
          638.4728359415816,
          638.1186675460796,
          637.7700943713165,
          637.4269637794976
         ]
        },
        {
         "line": {
          "color": "rgb(255, 102, 0)",
          "dash": "solid",
          "width": 1
         },
         "mode": "lines",
         "name": "LR",
         "type": "scatter",
         "x": [
          0,
          0.1,
          0.2,
          0.3,
          0.4,
          0.5,
          0.6,
          0.7,
          0.8,
          0.9,
          1,
          1.1,
          1.2,
          1.3,
          1.4,
          1.5,
          1.6,
          1.7,
          1.8,
          1.9,
          2,
          2.1,
          2.2,
          2.3,
          2.4,
          2.5,
          2.6,
          2.7,
          2.8,
          2.9,
          3,
          3.1,
          3.2,
          3.3,
          3.4,
          3.5,
          3.6,
          3.7,
          3.8,
          3.9,
          4,
          4.1,
          4.2,
          4.3,
          4.4,
          4.5,
          4.6,
          4.7,
          4.8,
          4.9,
          5,
          5.1,
          5.2,
          5.3,
          5.4,
          5.5,
          5.6,
          5.7,
          5.8,
          5.9,
          6,
          6.1,
          6.2,
          6.3,
          6.4,
          6.5,
          6.6,
          6.7,
          6.8,
          6.9,
          7,
          7.1,
          7.2,
          7.3,
          7.4,
          7.5,
          7.6,
          7.7,
          7.8,
          7.9,
          8,
          8.1,
          8.2,
          8.3,
          8.4,
          8.5,
          8.6,
          8.7,
          8.8,
          8.9,
          9,
          9.1,
          9.2,
          9.3,
          9.4,
          9.5,
          9.6,
          9.7,
          9.8,
          9.9,
          10,
          10.1,
          10.2,
          10.3,
          10.4,
          10.5,
          10.6,
          10.7,
          10.8,
          10.9
         ],
         "y": [
          592.7066037735849,
          592.7066037735849,
          592.7066037735849,
          592.7066037735849,
          592.7066037735849,
          592.7066037735849,
          592.7066037735849,
          592.7066037735849,
          592.7066037735849,
          592.7066037735849,
          592.7066037735849,
          592.7066037735849,
          567.0731629427539,
          541.9967310166865,
          524.4743456125657,
          510.5717643275626,
          495.0979694756846,
          475.31820777558823,
          450.84966257431745,
          422.52201853263,
          391.5063069655825,
          358.9175391540061,
          359.7947292819022,
          361.4206563165641,
          353.9866923378851,
          341.20968261075086,
          328.87985967537577,
          320.6030641151837,
          317.5016558012979,
          319.1771900772752,
          324.6185778161442,
          332.7316474683996,
          342.5568255623067,
          353.3156717741515,
          364.3930385783903,
          375.31107881535377,
          385.71345285737453,
          395.35774691467566,
          404.1079550458063,
          411.92111356405866,
          418.82718238965214,
          424.905194807307,
          430.26005750846406,
          435.003548924276,
          439.24121888138956,
          443.0651235650751,
          446.55121051479136,
          449.7597763262958,
          452.7375506021842,
          455.5203412696043,
          458.13559483644985,
          460.6045633935418,
          462.9439928668792,
          465.16736715765677,
          467.2857914095547,
          469.3086050680525,
          471.2438036791328,
          473.09833062827806,
          474.8782827734923,
          476.5890597688798,
          478.2354763720555,
          479.82184982054196,
          481.352069740411,
          482.8296552534776,
          484.257802321041,
          485.63942341843205,
          486.977181065076,
          488.27351636481376,
          489.5306734527753,
          490.75072055565704,
          491.9355682297346,
          493.0869852317657,
          494.20661239284334,
          495.2959747979611,
          496.3564925203441,
          497.3894901166063,
          498.39620505429923,
          499.377795215637,
          500.33534559860345,
          501.269874318154,
          502.1823379949278,
          503.07363660617557,
          503.94461786299837,
          504.7960811691066,
          505.6287812088223,
          506.4434312057343,
          507.240705888038,
          508.02124419201994,
          508.7856517312267,
          509.5345030554975,
          510.2683437211464,
          510.98769219107686,
          511.69304158145036,
          512.3848612696409,
          513.0635983765748,
          513.7296791351197,
          514.3835101549264,
          515.0254795930392,
          515.6559582386061,
          516.2753005191795,
          516.8838454353314,
          517.4819174296492,
          518.0698271955773,
          518.6478724310456,
          519.2163385413564,
          519.775499295384,
          520.3256174387612,
          520.8669452674002,
          521.3997251643856,
          521.924190103018
         ]
        }
       ],
       "layout": {
        "autosize": false,
        "font": {
         "color": "black",
         "family": "Arial",
         "size": 16
        },
        "height": 450,
        "legend": {
         "orientation": "h",
         "x": 0.01,
         "xanchor": "left",
         "y": 1.15,
         "yanchor": "top"
        },
        "template": {
         "data": {
          "bar": [
           {
            "error_x": {
             "color": "#2a3f5f"
            },
            "error_y": {
             "color": "#2a3f5f"
            },
            "marker": {
             "line": {
              "color": "white",
              "width": 0.5
             }
            },
            "type": "bar"
           }
          ],
          "barpolar": [
           {
            "marker": {
             "line": {
              "color": "white",
              "width": 0.5
             }
            },
            "type": "barpolar"
           }
          ],
          "carpet": [
           {
            "aaxis": {
             "endlinecolor": "#2a3f5f",
             "gridcolor": "#C8D4E3",
             "linecolor": "#C8D4E3",
             "minorgridcolor": "#C8D4E3",
             "startlinecolor": "#2a3f5f"
            },
            "baxis": {
             "endlinecolor": "#2a3f5f",
             "gridcolor": "#C8D4E3",
             "linecolor": "#C8D4E3",
             "minorgridcolor": "#C8D4E3",
             "startlinecolor": "#2a3f5f"
            },
            "type": "carpet"
           }
          ],
          "choropleth": [
           {
            "colorbar": {
             "outlinewidth": 0,
             "ticks": ""
            },
            "type": "choropleth"
           }
          ],
          "contour": [
           {
            "colorbar": {
             "outlinewidth": 0,
             "ticks": ""
            },
            "colorscale": [
             [
              0,
              "#0d0887"
             ],
             [
              0.1111111111111111,
              "#46039f"
             ],
             [
              0.2222222222222222,
              "#7201a8"
             ],
             [
              0.3333333333333333,
              "#9c179e"
             ],
             [
              0.4444444444444444,
              "#bd3786"
             ],
             [
              0.5555555555555556,
              "#d8576b"
             ],
             [
              0.6666666666666666,
              "#ed7953"
             ],
             [
              0.7777777777777778,
              "#fb9f3a"
             ],
             [
              0.8888888888888888,
              "#fdca26"
             ],
             [
              1,
              "#f0f921"
             ]
            ],
            "type": "contour"
           }
          ],
          "contourcarpet": [
           {
            "colorbar": {
             "outlinewidth": 0,
             "ticks": ""
            },
            "type": "contourcarpet"
           }
          ],
          "heatmap": [
           {
            "colorbar": {
             "outlinewidth": 0,
             "ticks": ""
            },
            "colorscale": [
             [
              0,
              "#0d0887"
             ],
             [
              0.1111111111111111,
              "#46039f"
             ],
             [
              0.2222222222222222,
              "#7201a8"
             ],
             [
              0.3333333333333333,
              "#9c179e"
             ],
             [
              0.4444444444444444,
              "#bd3786"
             ],
             [
              0.5555555555555556,
              "#d8576b"
             ],
             [
              0.6666666666666666,
              "#ed7953"
             ],
             [
              0.7777777777777778,
              "#fb9f3a"
             ],
             [
              0.8888888888888888,
              "#fdca26"
             ],
             [
              1,
              "#f0f921"
             ]
            ],
            "type": "heatmap"
           }
          ],
          "heatmapgl": [
           {
            "colorbar": {
             "outlinewidth": 0,
             "ticks": ""
            },
            "colorscale": [
             [
              0,
              "#0d0887"
             ],
             [
              0.1111111111111111,
              "#46039f"
             ],
             [
              0.2222222222222222,
              "#7201a8"
             ],
             [
              0.3333333333333333,
              "#9c179e"
             ],
             [
              0.4444444444444444,
              "#bd3786"
             ],
             [
              0.5555555555555556,
              "#d8576b"
             ],
             [
              0.6666666666666666,
              "#ed7953"
             ],
             [
              0.7777777777777778,
              "#fb9f3a"
             ],
             [
              0.8888888888888888,
              "#fdca26"
             ],
             [
              1,
              "#f0f921"
             ]
            ],
            "type": "heatmapgl"
           }
          ],
          "histogram": [
           {
            "marker": {
             "colorbar": {
              "outlinewidth": 0,
              "ticks": ""
             }
            },
            "type": "histogram"
           }
          ],
          "histogram2d": [
           {
            "colorbar": {
             "outlinewidth": 0,
             "ticks": ""
            },
            "colorscale": [
             [
              0,
              "#0d0887"
             ],
             [
              0.1111111111111111,
              "#46039f"
             ],
             [
              0.2222222222222222,
              "#7201a8"
             ],
             [
              0.3333333333333333,
              "#9c179e"
             ],
             [
              0.4444444444444444,
              "#bd3786"
             ],
             [
              0.5555555555555556,
              "#d8576b"
             ],
             [
              0.6666666666666666,
              "#ed7953"
             ],
             [
              0.7777777777777778,
              "#fb9f3a"
             ],
             [
              0.8888888888888888,
              "#fdca26"
             ],
             [
              1,
              "#f0f921"
             ]
            ],
            "type": "histogram2d"
           }
          ],
          "histogram2dcontour": [
           {
            "colorbar": {
             "outlinewidth": 0,
             "ticks": ""
            },
            "colorscale": [
             [
              0,
              "#0d0887"
             ],
             [
              0.1111111111111111,
              "#46039f"
             ],
             [
              0.2222222222222222,
              "#7201a8"
             ],
             [
              0.3333333333333333,
              "#9c179e"
             ],
             [
              0.4444444444444444,
              "#bd3786"
             ],
             [
              0.5555555555555556,
              "#d8576b"
             ],
             [
              0.6666666666666666,
              "#ed7953"
             ],
             [
              0.7777777777777778,
              "#fb9f3a"
             ],
             [
              0.8888888888888888,
              "#fdca26"
             ],
             [
              1,
              "#f0f921"
             ]
            ],
            "type": "histogram2dcontour"
           }
          ],
          "mesh3d": [
           {
            "colorbar": {
             "outlinewidth": 0,
             "ticks": ""
            },
            "type": "mesh3d"
           }
          ],
          "parcoords": [
           {
            "line": {
             "colorbar": {
              "outlinewidth": 0,
              "ticks": ""
             }
            },
            "type": "parcoords"
           }
          ],
          "pie": [
           {
            "automargin": true,
            "type": "pie"
           }
          ],
          "scatter": [
           {
            "marker": {
             "colorbar": {
              "outlinewidth": 0,
              "ticks": ""
             }
            },
            "type": "scatter"
           }
          ],
          "scatter3d": [
           {
            "line": {
             "colorbar": {
              "outlinewidth": 0,
              "ticks": ""
             }
            },
            "marker": {
             "colorbar": {
              "outlinewidth": 0,
              "ticks": ""
             }
            },
            "type": "scatter3d"
           }
          ],
          "scattercarpet": [
           {
            "marker": {
             "colorbar": {
              "outlinewidth": 0,
              "ticks": ""
             }
            },
            "type": "scattercarpet"
           }
          ],
          "scattergeo": [
           {
            "marker": {
             "colorbar": {
              "outlinewidth": 0,
              "ticks": ""
             }
            },
            "type": "scattergeo"
           }
          ],
          "scattergl": [
           {
            "marker": {
             "colorbar": {
              "outlinewidth": 0,
              "ticks": ""
             }
            },
            "type": "scattergl"
           }
          ],
          "scattermapbox": [
           {
            "marker": {
             "colorbar": {
              "outlinewidth": 0,
              "ticks": ""
             }
            },
            "type": "scattermapbox"
           }
          ],
          "scatterpolar": [
           {
            "marker": {
             "colorbar": {
              "outlinewidth": 0,
              "ticks": ""
             }
            },
            "type": "scatterpolar"
           }
          ],
          "scatterpolargl": [
           {
            "marker": {
             "colorbar": {
              "outlinewidth": 0,
              "ticks": ""
             }
            },
            "type": "scatterpolargl"
           }
          ],
          "scatterternary": [
           {
            "marker": {
             "colorbar": {
              "outlinewidth": 0,
              "ticks": ""
             }
            },
            "type": "scatterternary"
           }
          ],
          "surface": [
           {
            "colorbar": {
             "outlinewidth": 0,
             "ticks": ""
            },
            "colorscale": [
             [
              0,
              "#0d0887"
             ],
             [
              0.1111111111111111,
              "#46039f"
             ],
             [
              0.2222222222222222,
              "#7201a8"
             ],
             [
              0.3333333333333333,
              "#9c179e"
             ],
             [
              0.4444444444444444,
              "#bd3786"
             ],
             [
              0.5555555555555556,
              "#d8576b"
             ],
             [
              0.6666666666666666,
              "#ed7953"
             ],
             [
              0.7777777777777778,
              "#fb9f3a"
             ],
             [
              0.8888888888888888,
              "#fdca26"
             ],
             [
              1,
              "#f0f921"
             ]
            ],
            "type": "surface"
           }
          ],
          "table": [
           {
            "cells": {
             "fill": {
              "color": "#EBF0F8"
             },
             "line": {
              "color": "white"
             }
            },
            "header": {
             "fill": {
              "color": "#C8D4E3"
             },
             "line": {
              "color": "white"
             }
            },
            "type": "table"
           }
          ]
         },
         "layout": {
          "annotationdefaults": {
           "arrowcolor": "#2a3f5f",
           "arrowhead": 0,
           "arrowwidth": 1
          },
          "coloraxis": {
           "colorbar": {
            "outlinewidth": 0,
            "ticks": ""
           }
          },
          "colorscale": {
           "diverging": [
            [
             0,
             "#8e0152"
            ],
            [
             0.1,
             "#c51b7d"
            ],
            [
             0.2,
             "#de77ae"
            ],
            [
             0.3,
             "#f1b6da"
            ],
            [
             0.4,
             "#fde0ef"
            ],
            [
             0.5,
             "#f7f7f7"
            ],
            [
             0.6,
             "#e6f5d0"
            ],
            [
             0.7,
             "#b8e186"
            ],
            [
             0.8,
             "#7fbc41"
            ],
            [
             0.9,
             "#4d9221"
            ],
            [
             1,
             "#276419"
            ]
           ],
           "sequential": [
            [
             0,
             "#0d0887"
            ],
            [
             0.1111111111111111,
             "#46039f"
            ],
            [
             0.2222222222222222,
             "#7201a8"
            ],
            [
             0.3333333333333333,
             "#9c179e"
            ],
            [
             0.4444444444444444,
             "#bd3786"
            ],
            [
             0.5555555555555556,
             "#d8576b"
            ],
            [
             0.6666666666666666,
             "#ed7953"
            ],
            [
             0.7777777777777778,
             "#fb9f3a"
            ],
            [
             0.8888888888888888,
             "#fdca26"
            ],
            [
             1,
             "#f0f921"
            ]
           ],
           "sequentialminus": [
            [
             0,
             "#0d0887"
            ],
            [
             0.1111111111111111,
             "#46039f"
            ],
            [
             0.2222222222222222,
             "#7201a8"
            ],
            [
             0.3333333333333333,
             "#9c179e"
            ],
            [
             0.4444444444444444,
             "#bd3786"
            ],
            [
             0.5555555555555556,
             "#d8576b"
            ],
            [
             0.6666666666666666,
             "#ed7953"
            ],
            [
             0.7777777777777778,
             "#fb9f3a"
            ],
            [
             0.8888888888888888,
             "#fdca26"
            ],
            [
             1,
             "#f0f921"
            ]
           ]
          },
          "colorway": [
           "#636efa",
           "#EF553B",
           "#00cc96",
           "#ab63fa",
           "#FFA15A",
           "#19d3f3",
           "#FF6692",
           "#B6E880",
           "#FF97FF",
           "#FECB52"
          ],
          "font": {
           "color": "#2a3f5f"
          },
          "geo": {
           "bgcolor": "white",
           "lakecolor": "white",
           "landcolor": "white",
           "showlakes": true,
           "showland": true,
           "subunitcolor": "#C8D4E3"
          },
          "hoverlabel": {
           "align": "left"
          },
          "hovermode": "closest",
          "mapbox": {
           "style": "light"
          },
          "paper_bgcolor": "white",
          "plot_bgcolor": "white",
          "polar": {
           "angularaxis": {
            "gridcolor": "#EBF0F8",
            "linecolor": "#EBF0F8",
            "ticks": ""
           },
           "bgcolor": "white",
           "radialaxis": {
            "gridcolor": "#EBF0F8",
            "linecolor": "#EBF0F8",
            "ticks": ""
           }
          },
          "scene": {
           "xaxis": {
            "backgroundcolor": "white",
            "gridcolor": "#DFE8F3",
            "gridwidth": 2,
            "linecolor": "#EBF0F8",
            "showbackground": true,
            "ticks": "",
            "zerolinecolor": "#EBF0F8"
           },
           "yaxis": {
            "backgroundcolor": "white",
            "gridcolor": "#DFE8F3",
            "gridwidth": 2,
            "linecolor": "#EBF0F8",
            "showbackground": true,
            "ticks": "",
            "zerolinecolor": "#EBF0F8"
           },
           "zaxis": {
            "backgroundcolor": "white",
            "gridcolor": "#DFE8F3",
            "gridwidth": 2,
            "linecolor": "#EBF0F8",
            "showbackground": true,
            "ticks": "",
            "zerolinecolor": "#EBF0F8"
           }
          },
          "shapedefaults": {
           "line": {
            "color": "#2a3f5f"
           }
          },
          "ternary": {
           "aaxis": {
            "gridcolor": "#DFE8F3",
            "linecolor": "#A2B1C6",
            "ticks": ""
           },
           "baxis": {
            "gridcolor": "#DFE8F3",
            "linecolor": "#A2B1C6",
            "ticks": ""
           },
           "bgcolor": "white",
           "caxis": {
            "gridcolor": "#DFE8F3",
            "linecolor": "#A2B1C6",
            "ticks": ""
           }
          },
          "title": {
           "x": 0.05
          },
          "xaxis": {
           "automargin": true,
           "gridcolor": "#EBF0F8",
           "linecolor": "#EBF0F8",
           "ticks": "",
           "title": {
            "standoff": 15
           },
           "zerolinecolor": "#EBF0F8",
           "zerolinewidth": 2
          },
          "yaxis": {
           "automargin": true,
           "gridcolor": "#EBF0F8",
           "linecolor": "#EBF0F8",
           "ticks": "",
           "title": {
            "standoff": 15
           },
           "zerolinecolor": "#EBF0F8",
           "zerolinewidth": 2
          }
         }
        },
        "title": {
         "text": "Vertical Tire Forces"
        },
        "width": 800,
        "xaxis": {
         "linecolor": "black",
         "linewidth": 1,
         "showline": true,
         "tickcolor": "black",
         "ticklen": 10,
         "ticks": "outside",
         "tickwidth": 1,
         "title": {
          "text": "Time (s)"
         },
         "zeroline": false
        },
        "yaxis": {
         "linecolor": "black",
         "linewidth": 1,
         "showline": true,
         "tickcolor": "black",
         "ticklen": 10,
         "ticks": "outside",
         "tickwidth": 1,
         "title": {
          "text": "Vertical Force (lb)"
         },
         "zeroline": false
        }
       }
      },
      "text/html": [
       "<div>\n",
       "        \n",
       "        \n",
       "            <div id=\"be86b63b-faea-4932-896a-c4c40fc4bf88\" class=\"plotly-graph-div\" style=\"height:450px; width:800px;\"></div>\n",
       "            <script type=\"text/javascript\">\n",
       "                require([\"plotly\"], function(Plotly) {\n",
       "                    window.PLOTLYENV=window.PLOTLYENV || {};\n",
       "                    \n",
       "                if (document.getElementById(\"be86b63b-faea-4932-896a-c4c40fc4bf88\")) {\n",
       "                    Plotly.newPlot(\n",
       "                        'be86b63b-faea-4932-896a-c4c40fc4bf88',\n",
       "                        [{\"line\": {\"color\": \"rgb(0, 0, 255)\", \"dash\": \"solid\", \"width\": 1}, \"mode\": \"lines\", \"name\": \"LF\", \"type\": \"scatter\", \"x\": [0.0, 0.1, 0.2, 0.3, 0.4, 0.5, 0.6, 0.7, 0.8, 0.9, 1.0, 1.1, 1.2, 1.3, 1.4, 1.5, 1.6, 1.7, 1.8, 1.9, 2.0, 2.1, 2.2, 2.3, 2.4, 2.5, 2.6, 2.7, 2.8, 2.9, 3.0, 3.1, 3.2, 3.3, 3.4, 3.5, 3.6, 3.7, 3.8, 3.9, 4.0, 4.1, 4.2, 4.3, 4.4, 4.5, 4.6, 4.7, 4.8, 4.9, 5.0, 5.1, 5.2, 5.3, 5.4, 5.5, 5.6, 5.7, 5.8, 5.9, 6.0, 6.1, 6.2, 6.3, 6.4, 6.5, 6.6, 6.7, 6.8, 6.9, 7.0, 7.1, 7.2, 7.3, 7.4, 7.5, 7.6, 7.7, 7.8, 7.9, 8.0, 8.1, 8.2, 8.3, 8.4, 8.5, 8.6, 8.7, 8.8, 8.9, 9.0, 9.1, 9.2, 9.3, 9.4, 9.5, 9.6, 9.7, 9.8, 9.9, 10.0, 10.1, 10.2, 10.3, 10.4, 10.5, 10.6, 10.7, 10.8, 10.9], \"y\": [1056.293396226415, 1056.293396226415, 1056.293396226415, 1056.293396226415, 1056.293396226415, 1056.293396226415, 1056.293396226415, 1056.293396226415, 1056.293396226415, 1056.293396226415, 1056.293396226415, 1056.293396226415, 1012.5542417480158, 973.8355985194748, 950.5444337216281, 934.6903208248397, 917.5522351901873, 895.2608478187033, 867.9069101890275, 837.3449440519942, 805.7255131226209, 774.8988343080445, 772.0822730015848, 768.3250787670512, 754.5641289468612, 735.6331799897109, 718.3710505071608, 706.8326723403604, 702.1236251958389, 703.618417284761, 710.0291517754104, 719.9989305589479, 732.3322288008678, 746.037622235127, 760.306756797251, 774.4906905930342, 788.090374926845, 800.7554266273005, 812.2796640691068, 822.5859850296652, 831.7001938120844, 839.718623712721, 846.7760673221537, 853.0192105583966, 858.5881031300463, 863.6056785636343, 868.1737428173443, 872.3732789627793, 876.2670767524729, 879.9032101425039, 883.3184564104861, 886.5412151788875, 889.5937945607512, 892.494100998279, 895.2568403242417, 897.8943509645272, 900.4171760804423, 902.8344580749808, 905.1542156057023, 907.383543930473, 909.528765017029, 911.595543954435, 913.5889818593521, 915.5136916292981, 917.373860658726, 919.1733033393785, 920.915505388919, 922.6036615508128, 924.2407078611188, 925.829349424454, 927.3720844509625, 928.87122516015, 930.3289160436389, 931.7471498889581, 933.1277818948221, 934.4725421510689, 935.7830467105402, 937.0608074432309, 938.307240833047, 939.5236758529408, 940.7113610339129, 941.8714708265067, 943.0051113393865, 944.1133255278077, 945.1970978948997, 946.2573587603283, 947.2949881437886, 948.3108193047564, 949.3056419747363, 950.2802053138236, 951.2352206195628, 952.1713638128078, 953.0892777224203, 953.9895741881659, 954.872835999012, 955.7396186821447, 956.5904521563612, 957.4258422620612, 958.2462721787753, 959.0522037400466, 959.8440786544966, 960.6223196410142, 961.3873314852458, 962.1395020238541, 962.8792030624082, 963.6067912322159, 964.3226087909112, 965.0269843711823, 965.720233681616, 966.4026601632964]}, {\"line\": {\"color\": \"rgb(0, 255, 0)\", \"dash\": \"solid\", \"width\": 1}, \"mode\": \"lines\", \"name\": \"RF\", \"type\": \"scatter\", \"x\": [0.0, 0.1, 0.2, 0.3, 0.4, 0.5, 0.6, 0.7, 0.8, 0.9, 1.0, 1.1, 1.2, 1.3, 1.4, 1.5, 1.6, 1.7, 1.8, 1.9, 2.0, 2.1, 2.2, 2.3, 2.4, 2.5, 2.6, 2.7, 2.8, 2.9, 3.0, 3.1, 3.2, 3.3, 3.4, 3.5, 3.6, 3.7, 3.8, 3.9, 4.0, 4.1, 4.2, 4.3, 4.4, 4.5, 4.6, 4.7, 4.8, 4.9, 5.0, 5.1, 5.2, 5.3, 5.4, 5.5, 5.6, 5.7, 5.8, 5.9, 6.0, 6.1, 6.2, 6.3, 6.4, 6.5, 6.6, 6.7, 6.8, 6.9, 7.0, 7.1, 7.2, 7.3, 7.4, 7.5, 7.6, 7.7, 7.8, 7.9, 8.0, 8.1, 8.2, 8.3, 8.4, 8.5, 8.6, 8.7, 8.8, 8.9, 9.0, 9.1, 9.2, 9.3, 9.4, 9.5, 9.6, 9.7, 9.8, 9.9, 10.0, 10.1, 10.2, 10.3, 10.4, 10.5, 10.6, 10.7, 10.8, 10.9], \"y\": [1056.293396226415, 1056.293396226415, 1056.293396226415, 1056.293396226415, 1056.293396226415, 1056.293396226415, 1056.293396226415, 1056.293396226415, 1056.293396226415, 1056.293396226415, 1056.293396226415, 1056.293396226415, 1101.4296987573882, 1144.4409725665437, 1173.4373560463118, 1195.7054985258187, 1220.34753902391, 1251.9548501799788, 1290.99235753561, 1335.8757599105604, 1384.5002190850926, 1434.917103023644, 1434.5851323402871, 1433.5583728769102, 1446.9509069613086, 1468.6420409223267, 1489.291110858213, 1503.1385873341067, 1508.4357652013937, 1505.8689504945296, 1497.095551034532, 1483.898812671082, 1467.8441761355932, 1450.2076474572023, 1432.0045661178917, 1414.0295558226653, 1396.8794332938542, 1380.9632665612594, 1366.513261467171, 1353.6061360765739, 1342.1962533574067, 1332.1552788540437, 1323.3109187184, 1315.4787319004067, 1308.484122666339, 1302.1745943270425, 1296.4242271333442, 1291.1330062433794, 1286.2234126509404, 1281.6360565409539, 1277.3254360394114, 1273.2563403662846, 1269.4010442525228, 1265.7372389645425, 1262.2465630652837, 1258.9135827642976, 1255.725090690345, 1252.6696212268434, 1249.7371091916023, 1246.9186422099815, 1244.2062746336546, 1241.592882872908, 1239.0720497155046, 1236.6379698681571, 1234.2853716714396, 1232.0094515119195, 1229.805818403518, 1227.670446824944, 1225.5996363287902, 1223.5899767518213, 1221.638318092107, 1219.7417442995634, 1217.8975503674665, 1216.1032222240183, 1214.356419011996, 1212.6549574156888, 1210.9967977514345, 1209.3800315840397, 1207.8028706687248, 1206.2636370488399, 1204.7607541648886, 1203.292738851429, 1201.8581941159537, 1200.4558026085535, 1199.0843207035273, 1197.7425731245612, 1196.4294480539577, 1195.1438926739809, 1193.884909094833, 1192.6515506293538, 1191.4429183792959, 1190.2581581021707, 1189.096457331235, 1187.9570427242968, 1186.8391776197225, 1185.742159780404, 1184.665319308504, 1183.6080167156213, 1182.5696411346207, 1181.5496086607739, 1180.5473608111133, 1179.5623630919945, 1178.5941036658514, 1177.642092108992, 1176.7058582530572, 1175.7849511034608, 1174.8789378287458, 1173.987402815338, 1173.1099467826818, 1172.246185954188]}, {\"line\": {\"color\": \"rgb(153, 0, 204)\", \"dash\": \"solid\", \"width\": 1}, \"mode\": \"lines\", \"name\": \"RR\", \"type\": \"scatter\", \"x\": [0.0, 0.1, 0.2, 0.3, 0.4, 0.5, 0.6, 0.7, 0.8, 0.9, 1.0, 1.1, 1.2, 1.3, 1.4, 1.5, 1.6, 1.7, 1.8, 1.9, 2.0, 2.1, 2.2, 2.3, 2.4, 2.5, 2.6, 2.7, 2.8, 2.9, 3.0, 3.1, 3.2, 3.3, 3.4, 3.5, 3.6, 3.7, 3.8, 3.9, 4.0, 4.1, 4.2, 4.3, 4.4, 4.5, 4.6, 4.7, 4.8, 4.9, 5.0, 5.1, 5.2, 5.3, 5.4, 5.5, 5.6, 5.7, 5.8, 5.9, 6.0, 6.1, 6.2, 6.3, 6.4, 6.5, 6.6, 6.7, 6.8, 6.9, 7.0, 7.1, 7.2, 7.3, 7.4, 7.5, 7.6, 7.7, 7.8, 7.9, 8.0, 8.1, 8.2, 8.3, 8.4, 8.5, 8.6, 8.7, 8.8, 8.9, 9.0, 9.1, 9.2, 9.3, 9.4, 9.5, 9.6, 9.7, 9.8, 9.9, 10.0, 10.1, 10.2, 10.3, 10.4, 10.5, 10.6, 10.7, 10.8, 10.9], \"y\": [592.7066037735849, 592.7066037735849, 592.7066037735849, 592.7066037735849, 592.7066037735849, 592.7066037735849, 592.7066037735849, 592.7066037735849, 592.7066037735849, 592.7066037735849, 592.7066037735849, 592.7066037735849, 616.9428965518421, 637.726697897295, 649.5438646194943, 657.0324163217791, 665.0022563102183, 675.4660942257296, 688.2510697010449, 702.2572775048152, 716.2679608267042, 729.2665235143056, 731.5378653762257, 734.6958920394746, 742.4982717539448, 752.5150964772113, 761.4579789592505, 767.4256762103491, 769.9389538014693, 769.3354421434341, 766.2567193739135, 761.3706093015705, 755.266769501232, 748.4390585335193, 741.295638506467, 734.1686747689466, 727.3167389219261, 720.9235598967645, 715.0991194179159, 709.8867653297025, 705.2763704408567, 701.2209026259284, 697.6529564509822, 694.4985086169208, 691.6865553222254, 689.1546035442482, 686.8508195345203, 684.7339384675456, 682.7719599944023, 680.9403920469377, 679.2205127136524, 677.597881061286, 676.0611683198466, 674.6012928795218, 673.2108052009199, 671.8834612031226, 670.6139295500797, 669.3975900698977, 668.2303924292033, 667.1087540906659, 666.0294839772607, 664.9897233521151, 663.9868986847323, 663.0186832490671, 662.0829653487933, 661.1778217302701, 660.3014951424872, 659.4523752594293, 658.6289823573156, 657.8299532680679, 657.0540292271958, 656.3000453085206, 655.5669211960513, 654.8536530890625, 654.1593065728377, 653.4830103166361, 652.823950483726, 652.1813657570922, 651.5545428996245, 650.9428127800651, 650.3455468062707, 649.7621537158889, 649.1920766816612, 648.6347906945325, 648.0898001927503, 647.5566369093759, 647.0348579142153, 646.5240438292432, 646.0237971992043, 645.5337410013252, 645.0535172799952, 644.5827858939447, 644.1212233648941, 643.6685218178968, 643.2243880046907, 642.7885424023315, 642.3607183802083, 641.9406614292783, 641.528128447998, 641.1228870799999, 640.7247150990589, 640.3333998373421, 639.9487376533252, 639.5705334361083, 639.1986001431785, 638.8327583689397, 638.4728359415816, 638.1186675460796, 637.7700943713165, 637.4269637794976]}, {\"line\": {\"color\": \"rgb(255, 102, 0)\", \"dash\": \"solid\", \"width\": 1}, \"mode\": \"lines\", \"name\": \"LR\", \"type\": \"scatter\", \"x\": [0.0, 0.1, 0.2, 0.3, 0.4, 0.5, 0.6, 0.7, 0.8, 0.9, 1.0, 1.1, 1.2, 1.3, 1.4, 1.5, 1.6, 1.7, 1.8, 1.9, 2.0, 2.1, 2.2, 2.3, 2.4, 2.5, 2.6, 2.7, 2.8, 2.9, 3.0, 3.1, 3.2, 3.3, 3.4, 3.5, 3.6, 3.7, 3.8, 3.9, 4.0, 4.1, 4.2, 4.3, 4.4, 4.5, 4.6, 4.7, 4.8, 4.9, 5.0, 5.1, 5.2, 5.3, 5.4, 5.5, 5.6, 5.7, 5.8, 5.9, 6.0, 6.1, 6.2, 6.3, 6.4, 6.5, 6.6, 6.7, 6.8, 6.9, 7.0, 7.1, 7.2, 7.3, 7.4, 7.5, 7.6, 7.7, 7.8, 7.9, 8.0, 8.1, 8.2, 8.3, 8.4, 8.5, 8.6, 8.7, 8.8, 8.9, 9.0, 9.1, 9.2, 9.3, 9.4, 9.5, 9.6, 9.7, 9.8, 9.9, 10.0, 10.1, 10.2, 10.3, 10.4, 10.5, 10.6, 10.7, 10.8, 10.9], \"y\": [592.7066037735849, 592.7066037735849, 592.7066037735849, 592.7066037735849, 592.7066037735849, 592.7066037735849, 592.7066037735849, 592.7066037735849, 592.7066037735849, 592.7066037735849, 592.7066037735849, 592.7066037735849, 567.0731629427539, 541.9967310166865, 524.4743456125657, 510.5717643275626, 495.0979694756846, 475.31820777558823, 450.84966257431745, 422.52201853263, 391.5063069655825, 358.9175391540061, 359.7947292819022, 361.4206563165641, 353.9866923378851, 341.20968261075086, 328.87985967537577, 320.6030641151837, 317.5016558012979, 319.1771900772752, 324.6185778161442, 332.7316474683996, 342.5568255623067, 353.3156717741515, 364.3930385783903, 375.31107881535377, 385.71345285737453, 395.35774691467566, 404.1079550458063, 411.92111356405866, 418.82718238965214, 424.905194807307, 430.26005750846406, 435.003548924276, 439.24121888138956, 443.0651235650751, 446.55121051479136, 449.7597763262958, 452.7375506021842, 455.5203412696043, 458.13559483644985, 460.6045633935418, 462.9439928668792, 465.16736715765677, 467.2857914095547, 469.3086050680525, 471.2438036791328, 473.09833062827806, 474.8782827734923, 476.5890597688798, 478.2354763720555, 479.82184982054196, 481.352069740411, 482.8296552534776, 484.257802321041, 485.63942341843205, 486.977181065076, 488.27351636481376, 489.5306734527753, 490.75072055565704, 491.9355682297346, 493.0869852317657, 494.20661239284334, 495.2959747979611, 496.3564925203441, 497.3894901166063, 498.39620505429923, 499.377795215637, 500.33534559860345, 501.269874318154, 502.1823379949278, 503.07363660617557, 503.94461786299837, 504.7960811691066, 505.6287812088223, 506.4434312057343, 507.240705888038, 508.02124419201994, 508.7856517312267, 509.5345030554975, 510.2683437211464, 510.98769219107686, 511.69304158145036, 512.3848612696409, 513.0635983765748, 513.7296791351197, 514.3835101549264, 515.0254795930392, 515.6559582386061, 516.2753005191795, 516.8838454353314, 517.4819174296492, 518.0698271955773, 518.6478724310456, 519.2163385413564, 519.775499295384, 520.3256174387612, 520.8669452674002, 521.3997251643856, 521.924190103018]}],\n",
       "                        {\"autosize\": false, \"font\": {\"color\": \"black\", \"family\": \"Arial\", \"size\": 16}, \"height\": 450, \"legend\": {\"orientation\": \"h\", \"x\": 0.01, \"xanchor\": \"left\", \"y\": 1.15, \"yanchor\": \"top\"}, \"template\": {\"data\": {\"bar\": [{\"error_x\": {\"color\": \"#2a3f5f\"}, \"error_y\": {\"color\": \"#2a3f5f\"}, \"marker\": {\"line\": {\"color\": \"white\", \"width\": 0.5}}, \"type\": \"bar\"}], \"barpolar\": [{\"marker\": {\"line\": {\"color\": \"white\", \"width\": 0.5}}, \"type\": \"barpolar\"}], \"carpet\": [{\"aaxis\": {\"endlinecolor\": \"#2a3f5f\", \"gridcolor\": \"#C8D4E3\", \"linecolor\": \"#C8D4E3\", \"minorgridcolor\": \"#C8D4E3\", \"startlinecolor\": \"#2a3f5f\"}, \"baxis\": {\"endlinecolor\": \"#2a3f5f\", \"gridcolor\": \"#C8D4E3\", \"linecolor\": \"#C8D4E3\", \"minorgridcolor\": \"#C8D4E3\", \"startlinecolor\": \"#2a3f5f\"}, \"type\": \"carpet\"}], \"choropleth\": [{\"colorbar\": {\"outlinewidth\": 0, \"ticks\": \"\"}, \"type\": \"choropleth\"}], \"contour\": [{\"colorbar\": {\"outlinewidth\": 0, \"ticks\": \"\"}, \"colorscale\": [[0.0, \"#0d0887\"], [0.1111111111111111, \"#46039f\"], [0.2222222222222222, \"#7201a8\"], [0.3333333333333333, \"#9c179e\"], [0.4444444444444444, \"#bd3786\"], [0.5555555555555556, \"#d8576b\"], [0.6666666666666666, \"#ed7953\"], [0.7777777777777778, \"#fb9f3a\"], [0.8888888888888888, \"#fdca26\"], [1.0, \"#f0f921\"]], \"type\": \"contour\"}], \"contourcarpet\": [{\"colorbar\": {\"outlinewidth\": 0, \"ticks\": \"\"}, \"type\": \"contourcarpet\"}], \"heatmap\": [{\"colorbar\": {\"outlinewidth\": 0, \"ticks\": \"\"}, \"colorscale\": [[0.0, \"#0d0887\"], [0.1111111111111111, \"#46039f\"], [0.2222222222222222, \"#7201a8\"], [0.3333333333333333, \"#9c179e\"], [0.4444444444444444, \"#bd3786\"], [0.5555555555555556, \"#d8576b\"], [0.6666666666666666, \"#ed7953\"], [0.7777777777777778, \"#fb9f3a\"], [0.8888888888888888, \"#fdca26\"], [1.0, \"#f0f921\"]], \"type\": \"heatmap\"}], \"heatmapgl\": [{\"colorbar\": {\"outlinewidth\": 0, \"ticks\": \"\"}, \"colorscale\": [[0.0, \"#0d0887\"], [0.1111111111111111, \"#46039f\"], [0.2222222222222222, \"#7201a8\"], [0.3333333333333333, \"#9c179e\"], [0.4444444444444444, \"#bd3786\"], [0.5555555555555556, \"#d8576b\"], [0.6666666666666666, \"#ed7953\"], [0.7777777777777778, \"#fb9f3a\"], [0.8888888888888888, \"#fdca26\"], [1.0, \"#f0f921\"]], \"type\": \"heatmapgl\"}], \"histogram\": [{\"marker\": {\"colorbar\": {\"outlinewidth\": 0, \"ticks\": \"\"}}, \"type\": \"histogram\"}], \"histogram2d\": [{\"colorbar\": {\"outlinewidth\": 0, \"ticks\": \"\"}, \"colorscale\": [[0.0, \"#0d0887\"], [0.1111111111111111, \"#46039f\"], [0.2222222222222222, \"#7201a8\"], [0.3333333333333333, \"#9c179e\"], [0.4444444444444444, \"#bd3786\"], [0.5555555555555556, \"#d8576b\"], [0.6666666666666666, \"#ed7953\"], [0.7777777777777778, \"#fb9f3a\"], [0.8888888888888888, \"#fdca26\"], [1.0, \"#f0f921\"]], \"type\": \"histogram2d\"}], \"histogram2dcontour\": [{\"colorbar\": {\"outlinewidth\": 0, \"ticks\": \"\"}, \"colorscale\": [[0.0, \"#0d0887\"], [0.1111111111111111, \"#46039f\"], [0.2222222222222222, \"#7201a8\"], [0.3333333333333333, \"#9c179e\"], [0.4444444444444444, \"#bd3786\"], [0.5555555555555556, \"#d8576b\"], [0.6666666666666666, \"#ed7953\"], [0.7777777777777778, \"#fb9f3a\"], [0.8888888888888888, \"#fdca26\"], [1.0, \"#f0f921\"]], \"type\": \"histogram2dcontour\"}], \"mesh3d\": [{\"colorbar\": {\"outlinewidth\": 0, \"ticks\": \"\"}, \"type\": \"mesh3d\"}], \"parcoords\": [{\"line\": {\"colorbar\": {\"outlinewidth\": 0, \"ticks\": \"\"}}, \"type\": \"parcoords\"}], \"pie\": [{\"automargin\": true, \"type\": \"pie\"}], \"scatter\": [{\"marker\": {\"colorbar\": {\"outlinewidth\": 0, \"ticks\": \"\"}}, \"type\": \"scatter\"}], \"scatter3d\": [{\"line\": {\"colorbar\": {\"outlinewidth\": 0, \"ticks\": \"\"}}, \"marker\": {\"colorbar\": {\"outlinewidth\": 0, \"ticks\": \"\"}}, \"type\": \"scatter3d\"}], \"scattercarpet\": [{\"marker\": {\"colorbar\": {\"outlinewidth\": 0, \"ticks\": \"\"}}, \"type\": \"scattercarpet\"}], \"scattergeo\": [{\"marker\": {\"colorbar\": {\"outlinewidth\": 0, \"ticks\": \"\"}}, \"type\": \"scattergeo\"}], \"scattergl\": [{\"marker\": {\"colorbar\": {\"outlinewidth\": 0, \"ticks\": \"\"}}, \"type\": \"scattergl\"}], \"scattermapbox\": [{\"marker\": {\"colorbar\": {\"outlinewidth\": 0, \"ticks\": \"\"}}, \"type\": \"scattermapbox\"}], \"scatterpolar\": [{\"marker\": {\"colorbar\": {\"outlinewidth\": 0, \"ticks\": \"\"}}, \"type\": \"scatterpolar\"}], \"scatterpolargl\": [{\"marker\": {\"colorbar\": {\"outlinewidth\": 0, \"ticks\": \"\"}}, \"type\": \"scatterpolargl\"}], \"scatterternary\": [{\"marker\": {\"colorbar\": {\"outlinewidth\": 0, \"ticks\": \"\"}}, \"type\": \"scatterternary\"}], \"surface\": [{\"colorbar\": {\"outlinewidth\": 0, \"ticks\": \"\"}, \"colorscale\": [[0.0, \"#0d0887\"], [0.1111111111111111, \"#46039f\"], [0.2222222222222222, \"#7201a8\"], [0.3333333333333333, \"#9c179e\"], [0.4444444444444444, \"#bd3786\"], [0.5555555555555556, \"#d8576b\"], [0.6666666666666666, \"#ed7953\"], [0.7777777777777778, \"#fb9f3a\"], [0.8888888888888888, \"#fdca26\"], [1.0, \"#f0f921\"]], \"type\": \"surface\"}], \"table\": [{\"cells\": {\"fill\": {\"color\": \"#EBF0F8\"}, \"line\": {\"color\": \"white\"}}, \"header\": {\"fill\": {\"color\": \"#C8D4E3\"}, \"line\": {\"color\": \"white\"}}, \"type\": \"table\"}]}, \"layout\": {\"annotationdefaults\": {\"arrowcolor\": \"#2a3f5f\", \"arrowhead\": 0, \"arrowwidth\": 1}, \"coloraxis\": {\"colorbar\": {\"outlinewidth\": 0, \"ticks\": \"\"}}, \"colorscale\": {\"diverging\": [[0, \"#8e0152\"], [0.1, \"#c51b7d\"], [0.2, \"#de77ae\"], [0.3, \"#f1b6da\"], [0.4, \"#fde0ef\"], [0.5, \"#f7f7f7\"], [0.6, \"#e6f5d0\"], [0.7, \"#b8e186\"], [0.8, \"#7fbc41\"], [0.9, \"#4d9221\"], [1, \"#276419\"]], \"sequential\": [[0.0, \"#0d0887\"], [0.1111111111111111, \"#46039f\"], [0.2222222222222222, \"#7201a8\"], [0.3333333333333333, \"#9c179e\"], [0.4444444444444444, \"#bd3786\"], [0.5555555555555556, \"#d8576b\"], [0.6666666666666666, \"#ed7953\"], [0.7777777777777778, \"#fb9f3a\"], [0.8888888888888888, \"#fdca26\"], [1.0, \"#f0f921\"]], \"sequentialminus\": [[0.0, \"#0d0887\"], [0.1111111111111111, \"#46039f\"], [0.2222222222222222, \"#7201a8\"], [0.3333333333333333, \"#9c179e\"], [0.4444444444444444, \"#bd3786\"], [0.5555555555555556, \"#d8576b\"], [0.6666666666666666, \"#ed7953\"], [0.7777777777777778, \"#fb9f3a\"], [0.8888888888888888, \"#fdca26\"], [1.0, \"#f0f921\"]]}, \"colorway\": [\"#636efa\", \"#EF553B\", \"#00cc96\", \"#ab63fa\", \"#FFA15A\", \"#19d3f3\", \"#FF6692\", \"#B6E880\", \"#FF97FF\", \"#FECB52\"], \"font\": {\"color\": \"#2a3f5f\"}, \"geo\": {\"bgcolor\": \"white\", \"lakecolor\": \"white\", \"landcolor\": \"white\", \"showlakes\": true, \"showland\": true, \"subunitcolor\": \"#C8D4E3\"}, \"hoverlabel\": {\"align\": \"left\"}, \"hovermode\": \"closest\", \"mapbox\": {\"style\": \"light\"}, \"paper_bgcolor\": \"white\", \"plot_bgcolor\": \"white\", \"polar\": {\"angularaxis\": {\"gridcolor\": \"#EBF0F8\", \"linecolor\": \"#EBF0F8\", \"ticks\": \"\"}, \"bgcolor\": \"white\", \"radialaxis\": {\"gridcolor\": \"#EBF0F8\", \"linecolor\": \"#EBF0F8\", \"ticks\": \"\"}}, \"scene\": {\"xaxis\": {\"backgroundcolor\": \"white\", \"gridcolor\": \"#DFE8F3\", \"gridwidth\": 2, \"linecolor\": \"#EBF0F8\", \"showbackground\": true, \"ticks\": \"\", \"zerolinecolor\": \"#EBF0F8\"}, \"yaxis\": {\"backgroundcolor\": \"white\", \"gridcolor\": \"#DFE8F3\", \"gridwidth\": 2, \"linecolor\": \"#EBF0F8\", \"showbackground\": true, \"ticks\": \"\", \"zerolinecolor\": \"#EBF0F8\"}, \"zaxis\": {\"backgroundcolor\": \"white\", \"gridcolor\": \"#DFE8F3\", \"gridwidth\": 2, \"linecolor\": \"#EBF0F8\", \"showbackground\": true, \"ticks\": \"\", \"zerolinecolor\": \"#EBF0F8\"}}, \"shapedefaults\": {\"line\": {\"color\": \"#2a3f5f\"}}, \"ternary\": {\"aaxis\": {\"gridcolor\": \"#DFE8F3\", \"linecolor\": \"#A2B1C6\", \"ticks\": \"\"}, \"baxis\": {\"gridcolor\": \"#DFE8F3\", \"linecolor\": \"#A2B1C6\", \"ticks\": \"\"}, \"bgcolor\": \"white\", \"caxis\": {\"gridcolor\": \"#DFE8F3\", \"linecolor\": \"#A2B1C6\", \"ticks\": \"\"}}, \"title\": {\"x\": 0.05}, \"xaxis\": {\"automargin\": true, \"gridcolor\": \"#EBF0F8\", \"linecolor\": \"#EBF0F8\", \"ticks\": \"\", \"title\": {\"standoff\": 15}, \"zerolinecolor\": \"#EBF0F8\", \"zerolinewidth\": 2}, \"yaxis\": {\"automargin\": true, \"gridcolor\": \"#EBF0F8\", \"linecolor\": \"#EBF0F8\", \"ticks\": \"\", \"title\": {\"standoff\": 15}, \"zerolinecolor\": \"#EBF0F8\", \"zerolinewidth\": 2}}}, \"title\": {\"text\": \"Vertical Tire Forces\"}, \"width\": 800, \"xaxis\": {\"linecolor\": \"black\", \"linewidth\": 1, \"showline\": true, \"tickcolor\": \"black\", \"ticklen\": 10, \"ticks\": \"outside\", \"tickwidth\": 1, \"title\": {\"text\": \"Time (s)\"}, \"zeroline\": false}, \"yaxis\": {\"linecolor\": \"black\", \"linewidth\": 1, \"showline\": true, \"tickcolor\": \"black\", \"ticklen\": 10, \"ticks\": \"outside\", \"tickwidth\": 1, \"title\": {\"text\": \"Vertical Force (lb)\"}, \"zeroline\": false}},\n",
       "                        {\"responsive\": true}\n",
       "                    ).then(function(){\n",
       "                            \n",
       "var gd = document.getElementById('be86b63b-faea-4932-896a-c4c40fc4bf88');\n",
       "var x = new MutationObserver(function (mutations, observer) {{\n",
       "        var display = window.getComputedStyle(gd).display;\n",
       "        if (!display || display === 'none') {{\n",
       "            console.log([gd, 'removed!']);\n",
       "            Plotly.purge(gd);\n",
       "            observer.disconnect();\n",
       "        }}\n",
       "}});\n",
       "\n",
       "// Listen for the removal of the full notebook cells\n",
       "var notebookContainer = gd.closest('#notebook-container');\n",
       "if (notebookContainer) {{\n",
       "    x.observe(notebookContainer, {childList: true});\n",
       "}}\n",
       "\n",
       "// Listen for the clearing of the current output cell\n",
       "var outputEl = gd.closest('.output');\n",
       "if (outputEl) {{\n",
       "    x.observe(outputEl, {childList: true});\n",
       "}}\n",
       "\n",
       "                        })\n",
       "                };\n",
       "                });\n",
       "            </script>\n",
       "        </div>"
      ]
     },
     "metadata": {},
     "output_type": "display_data"
    }
   ],
   "source": [
    "vertical_forces(run.veh)"
   ]
  },
  {
   "cell_type": "markdown",
   "metadata": {},
   "source": [
    "### Get position data for validation vehicle"
   ]
  },
  {
   "cell_type": "code",
   "execution_count": 127,
   "metadata": {},
   "outputs": [],
   "source": [
    "from pycrash.visualization.cg_motion_compare import cg_motion"
   ]
  },
  {
   "cell_type": "code",
   "execution_count": 129,
   "metadata": {},
   "outputs": [
    {
     "data": {
      "application/vnd.plotly.v1+json": {
       "config": {
        "plotlyServerURL": "https://plot.ly"
       },
       "data": [
        {
         "marker": {
          "color": "rgb(0, 0, 0)",
          "size": 2
         },
         "mode": "markers",
         "name": "pycrash",
         "type": "scatter",
         "x": [
          0,
          2.200005,
          4.40001,
          6.600014999999999,
          8.80002,
          11.000024999999999,
          13.200029999999998,
          15.400034999999997,
          17.60004,
          19.800044999999997,
          22.000049999999995,
          24.199883306641915,
          26.398647979706496,
          28.59425631919966,
          30.78350649900053,
          32.96215722786497,
          35.12452133618328,
          37.26274161140343,
          39.3660339904581,
          41.42010606087569,
          43.40686336733721,
          45.308843151043526,
          47.11479123959617,
          48.81609546085548,
          50.40125400980874,
          51.856129600535986,
          53.16652964291748,
          54.32060561332561,
          55.31018555323981,
          56.131100529072285,
          56.782878958330116,
          57.26814858516978,
          57.59195689233187,
          57.76111389176391,
          57.78360190246181,
          57.668072526056484,
          57.42344234411723,
          57.05859278477174,
          56.58217142109341,
          56.002482726846324,
          55.32744904915887,
          54.56461942384806,
          53.72120510120566,
          52.80412497266867,
          51.82004963321544,
          50.775438006317316,
          49.6765644058568,
          48.52953638749001,
          47.340304961327384,
          46.11466908636031,
          44.858276225176034,
          43.57662038994496,
          42.27503873089424,
          40.95870739050469,
          39.63263709702041,
          38.30166879600836,
          36.970469503319485,
          35.643528489795415,
          34.32515386299085,
          33.019469583467554,
          31.73041293585562,
          30.461732463582386,
          29.216986368473517,
          27.999541370966337,
          26.812572022683863,
          25.659060460158805,
          24.541796586290914,
          23.463378664483603,
          22.426214309201452,
          21.432521855822632,
          20.48433209205647,
          19.583490332799606,
          18.731658820073804,
          17.93031942958996,
          17.180776665492225,
          16.484160924933338,
          15.84143201430101,
          15.25338289914419,
          14.720643670125801,
          14.243685707647375,
          13.822826028144261,
          13.458231795431034,
          13.14992498088181,
          12.897787156654257,
          12.701564406606424,
          12.560872340008567,
          12.475201193615902,
          12.443921008139741,
          12.466286865632338,
          12.541444174782994,
          12.668433991607879,
          12.846198363502504,
          13.073585685112302,
          13.349356054962396,
          13.67218662227123,
          14.040676913853561,
          14.453354131495113,
          14.908678410653852,
          15.40504803181009,
          15.940804576248993,
          16.514238018514437,
          17.12359174822094,
          17.767067514351563,
          18.44283028560247,
          19.14901302075951,
          19.88372134350885,
          20.64503811649037,
          21.431027909801468,
          22.23974135954725,
          23.069219412412465
         ],
         "y": [
          0,
          0,
          0,
          0,
          0,
          0,
          0,
          0,
          0,
          0,
          0,
          -0.004725352360459593,
          -0.02796929319970194,
          -0.08590552038371017,
          -0.19037838890530243,
          -0.3502006669775436,
          -0.5741557742206984,
          -0.872604744462448,
          -1.2573892206581714,
          -1.7406938159420031,
          -2.3334906781450266,
          -3.0413335900519582,
          -3.8615107558508655,
          -4.787861027850789,
          -5.815188856393766,
          -6.9381511852203115,
          -8.149234305864907,
          -9.437968609661622,
          -10.791352912391758,
          -12.194835768903,
          -13.63334093131126,
          -15.092097267633513,
          -16.557215527770925,
          -18.016034625902368,
          -19.457282400786927,
          -20.87109639209251,
          -22.248946548501007,
          -23.583498267367393,
          -24.86844963518942,
          -26.09836984848724,
          -27.268556893223778,
          -28.374923333608542,
          -29.413911362705516,
          -30.38243321016818,
          -31.277830702208526,
          -32.09784761021356,
          -32.84060951297319,
          -33.504607429385196,
          -34.08868292018562,
          -34.59201345862476,
          -35.01409758721238,
          -35.35473977633671,
          -35.61403508032997,
          -35.792353738055084,
          -35.890325853937675,
          -35.90882626184252,
          -35.848959639295025,
          -35.712045911914444,
          -35.49960596934236,
          -35.213347703056236,
          -34.855152370939344,
          -34.42706129118343,
          -33.93126286745922,
          -33.37007994734004,
          -32.74595751620212,
          -32.06145072903331,
          -31.31921328268549,
          -30.521986131095186,
          -29.672586545882385,
          -28.773897524536096,
          -27.82885754812423,
          -26.84045069013838,
          -25.811697077715188,
          -24.74564370607446,
          -23.645355606589124,
          -22.513907368461663,
          -21.354375013530404,
          -20.16982822327472,
          -18.96332291663324,
          -17.73789417679901,
          -16.496549524712975,
          -15.242262536543985,
          -13.9779668020238,
          -12.706550220098931,
          -11.430849627970868,
          -10.153645759221934,
          -8.877658526368448,
          -7.605542622844196,
          -6.339883439098456,
          -5.083193287192771,
          -3.8379079279994697,
          -2.6063833948443036,
          -1.3908931071927895,
          -0.19362526775741729,
          0.9833194638008731,
          2.137930027589011,
          3.2682867577937937,
          4.372562921916659,
          5.44902601238867,
          6.496038798136684,
          7.51206014376874,
          8.495645604126421,
          9.445447802017203,
          10.36021659698864,
          11.238799053040799,
          12.080139213193902,
          12.883277688834184,
          13.64735107175495,
          14.371591176790403,
          15.055324122908583
         ]
        },
        {
         "marker": {
          "color": "rgb(0, 0, 256)",
          "size": 2
         },
         "mode": "markers",
         "name": "validate",
         "type": "scatter",
         "x": [
          0,
          2.200005,
          4.40001,
          6.600014999999999,
          8.80002,
          11.000024999999999,
          13.200029999999998,
          15.400034999999997,
          17.60004,
          19.800044999999997,
          22.000049999999995,
          24.200054999999995,
          26.398593329999994,
          28.591264979999995,
          30.77220326999999,
          32.932608179999995,
          35.060013014999996,
          37.13828440499999,
          39.14688896999999,
          41.06235998999999,
          42.859030739999994,
          44.514167834999995,
          46.014571245,
          47.352907619999996,
          48.522576945,
          49.518445875,
          50.336847735,
          50.97558252,
          51.433916895,
          51.713317530000005,
          51.81671776500001,
          51.74778427500001,
          51.511650405000005,
          51.11491617000001,
          50.565648255000006,
          49.87264668,
          49.044711465,
          48.09064263,
          47.0214402,
          45.8481042,
          44.58090132,
          43.23229825500001,
          41.814028365000006,
          40.33709167500001,
          38.813221545000005,
          37.25415133500001,
          35.671614405000014,
          34.07661078,
          32.47940715000001,
          30.89100354,
          29.322399975000007,
          27.783129810000013,
          26.282726400000005,
          24.82998976500001,
          23.432986590000002,
          22.099783560000006,
          20.83771402500001,
          19.653378000000004,
          18.55190883000001,
          17.538439860000004,
          16.618837770000006,
          15.796769235000008,
          15.075167595000005,
          14.456966190000008,
          13.944365025000005,
          13.538830770000006,
          13.240363425000007,
          13.049696325000006,
          12.966829470000008,
          12.990296190000008,
          13.118629815000007,
          13.350363675000006,
          13.682564430000008,
          14.112298740000007,
          14.63663326500001,
          15.251167995000007,
          15.951502920000005,
          16.73323803000001,
          17.591239980000008,
          18.52037542500001,
          19.51624435500001,
          20.572980090000005,
          21.683982615,
          22.84338525000002,
          24.045321315000013,
          25.28392413000001,
          26.552593680000005,
          27.84472995,
          29.15446626000002,
          30.475935930000016,
          31.802538945000013,
          33.127675290000006,
          34.445478285,
          35.750814585000015,
          37.03781751000001,
          38.300620380000005,
          39.53408985,
          40.732359239999994,
          41.89029520500001,
          43.00423107,
          44.069766825,
          45.08250246,
          46.0387713,
          46.93417333500001,
          47.765775225000006,
          48.531376965,
          49.228045214999995,
          49.85284663499999,
          50.404314555,
          50.880982304999996
         ],
         "y": [
          0,
          0,
          0,
          0,
          0,
          0,
          0,
          0,
          0,
          0,
          0,
          -0.008800020000000007,
          -0.047666774999999946,
          -0.14080032000000003,
          -0.3109340399999998,
          -0.58080132,
          -0.9716688750000002,
          -1.5011367449999995,
          -2.18240496,
          -3.0242735399999985,
          -4.03040916,
          -5.195678475,
          -6.5061481200000015,
          -7.944218054999997,
          -9.492288239999999,
          -11.1320253,
          -12.844362525000001,
          -14.610966540000003,
          -16.413503969999997,
          -18.23364144,
          -20.054512245,
          -21.860716350000004,
          -23.636853720000005,
          -25.368257654999997,
          -27.04246146,
          -28.64699844,
          -30.170135235000004,
          -31.602338490000005,
          -32.93407485,
          -34.15727763,
          -35.26608015000001,
          -36.253882395000005,
          -37.11628435500001,
          -37.85035269000001,
          -38.45242072500001,
          -38.92102179000001,
          -39.25542255000001,
          -39.455623005000014,
          -39.52382316000001,
          -39.46148968500001,
          -39.27082258500001,
          -38.956221870000014,
          -38.52135421500001,
          -37.97061963000001,
          -37.309884795,
          -36.54501639000001,
          -35.68188109500001,
          -34.72781226,
          -33.690143235,
          -32.57547403499999,
          -31.391871344999995,
          -30.147401849999998,
          -28.85013223499999,
          -27.508129184999994,
          -26.129459384999986,
          -24.722922854999993,
          -23.29658628,
          -21.85778300999999,
          -20.414579729999996,
          -18.975776459999988,
          -17.54870654999999,
          -16.140703349999995,
          -14.759100209999989,
          -13.410497144999994,
          -12.101494169999986,
          -10.83869129999999,
          -9.627955214999995,
          -8.474419259999989,
          -7.383950114999992,
          -6.360947789999987,
          -5.40907895999999,
          -4.532743634999993,
          -3.735608489999996,
          -3.020606864999986,
          -2.3899387649999886,
          -1.8458041949999906,
          -1.3904031599999922,
          -1.0244689949999937,
          -0.7487350349999897,
          -0.5639346149999904,
          -0.46933439999999077,
          -0.46493438999999076,
          -0.5500012499999904,
          -0.7230683099999928,
          -0.982668899999992,
          -1.3266030149999908,
          -1.7526706499999891,
          -2.257938464999987,
          -2.8394731199999956,
          -3.4943412749999934,
          -4.218876254999991,
          -5.0094113849999875,
          -5.862279989999984,
          -6.7730820599999975,
          -7.737417584999994,
          -8.75015321999999,
          -9.806888954999987,
          -10.903224779999983,
          -12.034027349999999,
          -13.194896654999994
         ]
        }
       ],
       "layout": {
        "autosize": false,
        "font": {
         "color": "black",
         "family": "Arial",
         "size": 16
        },
        "height": 900,
        "showlegend": false,
        "template": {
         "data": {
          "bar": [
           {
            "error_x": {
             "color": "#2a3f5f"
            },
            "error_y": {
             "color": "#2a3f5f"
            },
            "marker": {
             "line": {
              "color": "white",
              "width": 0.5
             }
            },
            "type": "bar"
           }
          ],
          "barpolar": [
           {
            "marker": {
             "line": {
              "color": "white",
              "width": 0.5
             }
            },
            "type": "barpolar"
           }
          ],
          "carpet": [
           {
            "aaxis": {
             "endlinecolor": "#2a3f5f",
             "gridcolor": "#C8D4E3",
             "linecolor": "#C8D4E3",
             "minorgridcolor": "#C8D4E3",
             "startlinecolor": "#2a3f5f"
            },
            "baxis": {
             "endlinecolor": "#2a3f5f",
             "gridcolor": "#C8D4E3",
             "linecolor": "#C8D4E3",
             "minorgridcolor": "#C8D4E3",
             "startlinecolor": "#2a3f5f"
            },
            "type": "carpet"
           }
          ],
          "choropleth": [
           {
            "colorbar": {
             "outlinewidth": 0,
             "ticks": ""
            },
            "type": "choropleth"
           }
          ],
          "contour": [
           {
            "colorbar": {
             "outlinewidth": 0,
             "ticks": ""
            },
            "colorscale": [
             [
              0,
              "#0d0887"
             ],
             [
              0.1111111111111111,
              "#46039f"
             ],
             [
              0.2222222222222222,
              "#7201a8"
             ],
             [
              0.3333333333333333,
              "#9c179e"
             ],
             [
              0.4444444444444444,
              "#bd3786"
             ],
             [
              0.5555555555555556,
              "#d8576b"
             ],
             [
              0.6666666666666666,
              "#ed7953"
             ],
             [
              0.7777777777777778,
              "#fb9f3a"
             ],
             [
              0.8888888888888888,
              "#fdca26"
             ],
             [
              1,
              "#f0f921"
             ]
            ],
            "type": "contour"
           }
          ],
          "contourcarpet": [
           {
            "colorbar": {
             "outlinewidth": 0,
             "ticks": ""
            },
            "type": "contourcarpet"
           }
          ],
          "heatmap": [
           {
            "colorbar": {
             "outlinewidth": 0,
             "ticks": ""
            },
            "colorscale": [
             [
              0,
              "#0d0887"
             ],
             [
              0.1111111111111111,
              "#46039f"
             ],
             [
              0.2222222222222222,
              "#7201a8"
             ],
             [
              0.3333333333333333,
              "#9c179e"
             ],
             [
              0.4444444444444444,
              "#bd3786"
             ],
             [
              0.5555555555555556,
              "#d8576b"
             ],
             [
              0.6666666666666666,
              "#ed7953"
             ],
             [
              0.7777777777777778,
              "#fb9f3a"
             ],
             [
              0.8888888888888888,
              "#fdca26"
             ],
             [
              1,
              "#f0f921"
             ]
            ],
            "type": "heatmap"
           }
          ],
          "heatmapgl": [
           {
            "colorbar": {
             "outlinewidth": 0,
             "ticks": ""
            },
            "colorscale": [
             [
              0,
              "#0d0887"
             ],
             [
              0.1111111111111111,
              "#46039f"
             ],
             [
              0.2222222222222222,
              "#7201a8"
             ],
             [
              0.3333333333333333,
              "#9c179e"
             ],
             [
              0.4444444444444444,
              "#bd3786"
             ],
             [
              0.5555555555555556,
              "#d8576b"
             ],
             [
              0.6666666666666666,
              "#ed7953"
             ],
             [
              0.7777777777777778,
              "#fb9f3a"
             ],
             [
              0.8888888888888888,
              "#fdca26"
             ],
             [
              1,
              "#f0f921"
             ]
            ],
            "type": "heatmapgl"
           }
          ],
          "histogram": [
           {
            "marker": {
             "colorbar": {
              "outlinewidth": 0,
              "ticks": ""
             }
            },
            "type": "histogram"
           }
          ],
          "histogram2d": [
           {
            "colorbar": {
             "outlinewidth": 0,
             "ticks": ""
            },
            "colorscale": [
             [
              0,
              "#0d0887"
             ],
             [
              0.1111111111111111,
              "#46039f"
             ],
             [
              0.2222222222222222,
              "#7201a8"
             ],
             [
              0.3333333333333333,
              "#9c179e"
             ],
             [
              0.4444444444444444,
              "#bd3786"
             ],
             [
              0.5555555555555556,
              "#d8576b"
             ],
             [
              0.6666666666666666,
              "#ed7953"
             ],
             [
              0.7777777777777778,
              "#fb9f3a"
             ],
             [
              0.8888888888888888,
              "#fdca26"
             ],
             [
              1,
              "#f0f921"
             ]
            ],
            "type": "histogram2d"
           }
          ],
          "histogram2dcontour": [
           {
            "colorbar": {
             "outlinewidth": 0,
             "ticks": ""
            },
            "colorscale": [
             [
              0,
              "#0d0887"
             ],
             [
              0.1111111111111111,
              "#46039f"
             ],
             [
              0.2222222222222222,
              "#7201a8"
             ],
             [
              0.3333333333333333,
              "#9c179e"
             ],
             [
              0.4444444444444444,
              "#bd3786"
             ],
             [
              0.5555555555555556,
              "#d8576b"
             ],
             [
              0.6666666666666666,
              "#ed7953"
             ],
             [
              0.7777777777777778,
              "#fb9f3a"
             ],
             [
              0.8888888888888888,
              "#fdca26"
             ],
             [
              1,
              "#f0f921"
             ]
            ],
            "type": "histogram2dcontour"
           }
          ],
          "mesh3d": [
           {
            "colorbar": {
             "outlinewidth": 0,
             "ticks": ""
            },
            "type": "mesh3d"
           }
          ],
          "parcoords": [
           {
            "line": {
             "colorbar": {
              "outlinewidth": 0,
              "ticks": ""
             }
            },
            "type": "parcoords"
           }
          ],
          "pie": [
           {
            "automargin": true,
            "type": "pie"
           }
          ],
          "scatter": [
           {
            "marker": {
             "colorbar": {
              "outlinewidth": 0,
              "ticks": ""
             }
            },
            "type": "scatter"
           }
          ],
          "scatter3d": [
           {
            "line": {
             "colorbar": {
              "outlinewidth": 0,
              "ticks": ""
             }
            },
            "marker": {
             "colorbar": {
              "outlinewidth": 0,
              "ticks": ""
             }
            },
            "type": "scatter3d"
           }
          ],
          "scattercarpet": [
           {
            "marker": {
             "colorbar": {
              "outlinewidth": 0,
              "ticks": ""
             }
            },
            "type": "scattercarpet"
           }
          ],
          "scattergeo": [
           {
            "marker": {
             "colorbar": {
              "outlinewidth": 0,
              "ticks": ""
             }
            },
            "type": "scattergeo"
           }
          ],
          "scattergl": [
           {
            "marker": {
             "colorbar": {
              "outlinewidth": 0,
              "ticks": ""
             }
            },
            "type": "scattergl"
           }
          ],
          "scattermapbox": [
           {
            "marker": {
             "colorbar": {
              "outlinewidth": 0,
              "ticks": ""
             }
            },
            "type": "scattermapbox"
           }
          ],
          "scatterpolar": [
           {
            "marker": {
             "colorbar": {
              "outlinewidth": 0,
              "ticks": ""
             }
            },
            "type": "scatterpolar"
           }
          ],
          "scatterpolargl": [
           {
            "marker": {
             "colorbar": {
              "outlinewidth": 0,
              "ticks": ""
             }
            },
            "type": "scatterpolargl"
           }
          ],
          "scatterternary": [
           {
            "marker": {
             "colorbar": {
              "outlinewidth": 0,
              "ticks": ""
             }
            },
            "type": "scatterternary"
           }
          ],
          "surface": [
           {
            "colorbar": {
             "outlinewidth": 0,
             "ticks": ""
            },
            "colorscale": [
             [
              0,
              "#0d0887"
             ],
             [
              0.1111111111111111,
              "#46039f"
             ],
             [
              0.2222222222222222,
              "#7201a8"
             ],
             [
              0.3333333333333333,
              "#9c179e"
             ],
             [
              0.4444444444444444,
              "#bd3786"
             ],
             [
              0.5555555555555556,
              "#d8576b"
             ],
             [
              0.6666666666666666,
              "#ed7953"
             ],
             [
              0.7777777777777778,
              "#fb9f3a"
             ],
             [
              0.8888888888888888,
              "#fdca26"
             ],
             [
              1,
              "#f0f921"
             ]
            ],
            "type": "surface"
           }
          ],
          "table": [
           {
            "cells": {
             "fill": {
              "color": "#EBF0F8"
             },
             "line": {
              "color": "white"
             }
            },
            "header": {
             "fill": {
              "color": "#C8D4E3"
             },
             "line": {
              "color": "white"
             }
            },
            "type": "table"
           }
          ]
         },
         "layout": {
          "annotationdefaults": {
           "arrowcolor": "#2a3f5f",
           "arrowhead": 0,
           "arrowwidth": 1
          },
          "coloraxis": {
           "colorbar": {
            "outlinewidth": 0,
            "ticks": ""
           }
          },
          "colorscale": {
           "diverging": [
            [
             0,
             "#8e0152"
            ],
            [
             0.1,
             "#c51b7d"
            ],
            [
             0.2,
             "#de77ae"
            ],
            [
             0.3,
             "#f1b6da"
            ],
            [
             0.4,
             "#fde0ef"
            ],
            [
             0.5,
             "#f7f7f7"
            ],
            [
             0.6,
             "#e6f5d0"
            ],
            [
             0.7,
             "#b8e186"
            ],
            [
             0.8,
             "#7fbc41"
            ],
            [
             0.9,
             "#4d9221"
            ],
            [
             1,
             "#276419"
            ]
           ],
           "sequential": [
            [
             0,
             "#0d0887"
            ],
            [
             0.1111111111111111,
             "#46039f"
            ],
            [
             0.2222222222222222,
             "#7201a8"
            ],
            [
             0.3333333333333333,
             "#9c179e"
            ],
            [
             0.4444444444444444,
             "#bd3786"
            ],
            [
             0.5555555555555556,
             "#d8576b"
            ],
            [
             0.6666666666666666,
             "#ed7953"
            ],
            [
             0.7777777777777778,
             "#fb9f3a"
            ],
            [
             0.8888888888888888,
             "#fdca26"
            ],
            [
             1,
             "#f0f921"
            ]
           ],
           "sequentialminus": [
            [
             0,
             "#0d0887"
            ],
            [
             0.1111111111111111,
             "#46039f"
            ],
            [
             0.2222222222222222,
             "#7201a8"
            ],
            [
             0.3333333333333333,
             "#9c179e"
            ],
            [
             0.4444444444444444,
             "#bd3786"
            ],
            [
             0.5555555555555556,
             "#d8576b"
            ],
            [
             0.6666666666666666,
             "#ed7953"
            ],
            [
             0.7777777777777778,
             "#fb9f3a"
            ],
            [
             0.8888888888888888,
             "#fdca26"
            ],
            [
             1,
             "#f0f921"
            ]
           ]
          },
          "colorway": [
           "#636efa",
           "#EF553B",
           "#00cc96",
           "#ab63fa",
           "#FFA15A",
           "#19d3f3",
           "#FF6692",
           "#B6E880",
           "#FF97FF",
           "#FECB52"
          ],
          "font": {
           "color": "#2a3f5f"
          },
          "geo": {
           "bgcolor": "white",
           "lakecolor": "white",
           "landcolor": "white",
           "showlakes": true,
           "showland": true,
           "subunitcolor": "#C8D4E3"
          },
          "hoverlabel": {
           "align": "left"
          },
          "hovermode": "closest",
          "mapbox": {
           "style": "light"
          },
          "paper_bgcolor": "white",
          "plot_bgcolor": "white",
          "polar": {
           "angularaxis": {
            "gridcolor": "#EBF0F8",
            "linecolor": "#EBF0F8",
            "ticks": ""
           },
           "bgcolor": "white",
           "radialaxis": {
            "gridcolor": "#EBF0F8",
            "linecolor": "#EBF0F8",
            "ticks": ""
           }
          },
          "scene": {
           "xaxis": {
            "backgroundcolor": "white",
            "gridcolor": "#DFE8F3",
            "gridwidth": 2,
            "linecolor": "#EBF0F8",
            "showbackground": true,
            "ticks": "",
            "zerolinecolor": "#EBF0F8"
           },
           "yaxis": {
            "backgroundcolor": "white",
            "gridcolor": "#DFE8F3",
            "gridwidth": 2,
            "linecolor": "#EBF0F8",
            "showbackground": true,
            "ticks": "",
            "zerolinecolor": "#EBF0F8"
           },
           "zaxis": {
            "backgroundcolor": "white",
            "gridcolor": "#DFE8F3",
            "gridwidth": 2,
            "linecolor": "#EBF0F8",
            "showbackground": true,
            "ticks": "",
            "zerolinecolor": "#EBF0F8"
           }
          },
          "shapedefaults": {
           "line": {
            "color": "#2a3f5f"
           }
          },
          "ternary": {
           "aaxis": {
            "gridcolor": "#DFE8F3",
            "linecolor": "#A2B1C6",
            "ticks": ""
           },
           "baxis": {
            "gridcolor": "#DFE8F3",
            "linecolor": "#A2B1C6",
            "ticks": ""
           },
           "bgcolor": "white",
           "caxis": {
            "gridcolor": "#DFE8F3",
            "linecolor": "#A2B1C6",
            "ticks": ""
           }
          },
          "title": {
           "x": 0.05
          },
          "xaxis": {
           "automargin": true,
           "gridcolor": "#EBF0F8",
           "linecolor": "#EBF0F8",
           "ticks": "",
           "title": {
            "standoff": 15
           },
           "zerolinecolor": "#EBF0F8",
           "zerolinewidth": 2
          },
          "yaxis": {
           "automargin": true,
           "gridcolor": "#EBF0F8",
           "linecolor": "#EBF0F8",
           "ticks": "",
           "title": {
            "standoff": 15
           },
           "zerolinecolor": "#EBF0F8",
           "zerolinewidth": 2
          }
         }
        },
        "title": {
         "text": "Vehicle Motion in Global Reference Frame"
        },
        "width": 900,
        "xaxis": {
         "linecolor": "black",
         "linewidth": 1,
         "showgrid": false,
         "showline": true,
         "tickcolor": "black",
         "ticklen": 10,
         "ticks": "outside",
         "tickwidth": 1,
         "title": {
          "text": "x-axis - Forward (ft)"
         },
         "zeroline": false
        },
        "yaxis": {
         "autorange": "reversed",
         "linecolor": "black",
         "linewidth": 1,
         "showgrid": false,
         "showline": true,
         "tickcolor": "black",
         "ticklen": 10,
         "ticks": "outside",
         "tickwidth": 1,
         "title": {
          "text": "y-axis - Rightward (ft)"
         },
         "zeroline": false
        }
       }
      },
      "text/html": [
       "<div>\n",
       "        \n",
       "        \n",
       "            <div id=\"6dd6b4af-717f-45a0-a156-f2d5b522e3f7\" class=\"plotly-graph-div\" style=\"height:900px; width:900px;\"></div>\n",
       "            <script type=\"text/javascript\">\n",
       "                require([\"plotly\"], function(Plotly) {\n",
       "                    window.PLOTLYENV=window.PLOTLYENV || {};\n",
       "                    \n",
       "                if (document.getElementById(\"6dd6b4af-717f-45a0-a156-f2d5b522e3f7\")) {\n",
       "                    Plotly.newPlot(\n",
       "                        '6dd6b4af-717f-45a0-a156-f2d5b522e3f7',\n",
       "                        [{\"marker\": {\"color\": \"rgb(0, 0, 0)\", \"size\": 2}, \"mode\": \"markers\", \"name\": \"pycrash\", \"type\": \"scatter\", \"x\": [0.0, 2.200005, 4.40001, 6.600014999999999, 8.80002, 11.000024999999999, 13.200029999999998, 15.400034999999997, 17.60004, 19.800044999999997, 22.000049999999995, 24.199883306641915, 26.398647979706496, 28.59425631919966, 30.78350649900053, 32.96215722786497, 35.12452133618328, 37.26274161140343, 39.3660339904581, 41.42010606087569, 43.40686336733721, 45.308843151043526, 47.11479123959617, 48.81609546085548, 50.40125400980874, 51.856129600535986, 53.16652964291748, 54.32060561332561, 55.31018555323981, 56.131100529072285, 56.782878958330116, 57.26814858516978, 57.59195689233187, 57.76111389176391, 57.78360190246181, 57.668072526056484, 57.42344234411723, 57.05859278477174, 56.58217142109341, 56.002482726846324, 55.32744904915887, 54.56461942384806, 53.72120510120566, 52.80412497266867, 51.82004963321544, 50.775438006317316, 49.6765644058568, 48.52953638749001, 47.340304961327384, 46.11466908636031, 44.858276225176034, 43.57662038994496, 42.27503873089424, 40.95870739050469, 39.63263709702041, 38.30166879600836, 36.970469503319485, 35.643528489795415, 34.32515386299085, 33.019469583467554, 31.73041293585562, 30.461732463582386, 29.216986368473517, 27.999541370966337, 26.812572022683863, 25.659060460158805, 24.541796586290914, 23.463378664483603, 22.426214309201452, 21.432521855822632, 20.48433209205647, 19.583490332799606, 18.731658820073804, 17.93031942958996, 17.180776665492225, 16.484160924933338, 15.84143201430101, 15.25338289914419, 14.720643670125801, 14.243685707647375, 13.822826028144261, 13.458231795431034, 13.14992498088181, 12.897787156654257, 12.701564406606424, 12.560872340008567, 12.475201193615902, 12.443921008139741, 12.466286865632338, 12.541444174782994, 12.668433991607879, 12.846198363502504, 13.073585685112302, 13.349356054962396, 13.67218662227123, 14.040676913853561, 14.453354131495113, 14.908678410653852, 15.40504803181009, 15.940804576248993, 16.514238018514437, 17.12359174822094, 17.767067514351563, 18.44283028560247, 19.14901302075951, 19.88372134350885, 20.64503811649037, 21.431027909801468, 22.23974135954725, 23.069219412412465], \"y\": [0.0, 0.0, 0.0, 0.0, 0.0, 0.0, 0.0, 0.0, 0.0, 0.0, 0.0, -0.004725352360459593, -0.02796929319970194, -0.08590552038371017, -0.19037838890530243, -0.3502006669775436, -0.5741557742206984, -0.872604744462448, -1.2573892206581714, -1.7406938159420031, -2.3334906781450266, -3.0413335900519582, -3.8615107558508655, -4.787861027850789, -5.815188856393766, -6.9381511852203115, -8.149234305864907, -9.437968609661622, -10.791352912391758, -12.194835768903, -13.63334093131126, -15.092097267633513, -16.557215527770925, -18.016034625902368, -19.457282400786927, -20.87109639209251, -22.248946548501007, -23.583498267367393, -24.86844963518942, -26.09836984848724, -27.268556893223778, -28.374923333608542, -29.413911362705516, -30.38243321016818, -31.277830702208526, -32.09784761021356, -32.84060951297319, -33.504607429385196, -34.08868292018562, -34.59201345862476, -35.01409758721238, -35.35473977633671, -35.61403508032997, -35.792353738055084, -35.890325853937675, -35.90882626184252, -35.848959639295025, -35.712045911914444, -35.49960596934236, -35.213347703056236, -34.855152370939344, -34.42706129118343, -33.93126286745922, -33.37007994734004, -32.74595751620212, -32.06145072903331, -31.31921328268549, -30.521986131095186, -29.672586545882385, -28.773897524536096, -27.82885754812423, -26.84045069013838, -25.811697077715188, -24.74564370607446, -23.645355606589124, -22.513907368461663, -21.354375013530404, -20.16982822327472, -18.96332291663324, -17.73789417679901, -16.496549524712975, -15.242262536543985, -13.9779668020238, -12.706550220098931, -11.430849627970868, -10.153645759221934, -8.877658526368448, -7.605542622844196, -6.339883439098456, -5.083193287192771, -3.8379079279994697, -2.6063833948443036, -1.3908931071927895, -0.19362526775741729, 0.9833194638008731, 2.137930027589011, 3.2682867577937937, 4.372562921916659, 5.44902601238867, 6.496038798136684, 7.51206014376874, 8.495645604126421, 9.445447802017203, 10.36021659698864, 11.238799053040799, 12.080139213193902, 12.883277688834184, 13.64735107175495, 14.371591176790403, 15.055324122908583]}, {\"marker\": {\"color\": \"rgb(0, 0, 256)\", \"size\": 2}, \"mode\": \"markers\", \"name\": \"validate\", \"type\": \"scatter\", \"x\": [0.0, 2.200005, 4.40001, 6.600014999999999, 8.80002, 11.000024999999999, 13.200029999999998, 15.400034999999997, 17.60004, 19.800044999999997, 22.000049999999995, 24.200054999999995, 26.398593329999994, 28.591264979999995, 30.77220326999999, 32.932608179999995, 35.060013014999996, 37.13828440499999, 39.14688896999999, 41.06235998999999, 42.859030739999994, 44.514167834999995, 46.014571245, 47.352907619999996, 48.522576945, 49.518445875, 50.336847735, 50.97558252, 51.433916895, 51.713317530000005, 51.81671776500001, 51.74778427500001, 51.511650405000005, 51.11491617000001, 50.565648255000006, 49.87264668, 49.044711465, 48.09064263, 47.0214402, 45.8481042, 44.58090132, 43.23229825500001, 41.814028365000006, 40.33709167500001, 38.813221545000005, 37.25415133500001, 35.671614405000014, 34.07661078, 32.47940715000001, 30.89100354, 29.322399975000007, 27.783129810000013, 26.282726400000005, 24.82998976500001, 23.432986590000002, 22.099783560000006, 20.83771402500001, 19.653378000000004, 18.55190883000001, 17.538439860000004, 16.618837770000006, 15.796769235000008, 15.075167595000005, 14.456966190000008, 13.944365025000005, 13.538830770000006, 13.240363425000007, 13.049696325000006, 12.966829470000008, 12.990296190000008, 13.118629815000007, 13.350363675000006, 13.682564430000008, 14.112298740000007, 14.63663326500001, 15.251167995000007, 15.951502920000005, 16.73323803000001, 17.591239980000008, 18.52037542500001, 19.51624435500001, 20.572980090000005, 21.683982615, 22.84338525000002, 24.045321315000013, 25.28392413000001, 26.552593680000005, 27.84472995, 29.15446626000002, 30.475935930000016, 31.802538945000013, 33.127675290000006, 34.445478285, 35.750814585000015, 37.03781751000001, 38.300620380000005, 39.53408985, 40.732359239999994, 41.89029520500001, 43.00423107, 44.069766825, 45.08250246, 46.0387713, 46.93417333500001, 47.765775225000006, 48.531376965, 49.228045214999995, 49.85284663499999, 50.404314555, 50.880982304999996], \"y\": [0.0, 0.0, 0.0, 0.0, 0.0, 0.0, 0.0, 0.0, 0.0, 0.0, 0.0, -0.008800020000000007, -0.047666774999999946, -0.14080032000000003, -0.3109340399999998, -0.58080132, -0.9716688750000002, -1.5011367449999995, -2.18240496, -3.0242735399999985, -4.03040916, -5.195678475, -6.5061481200000015, -7.944218054999997, -9.492288239999999, -11.1320253, -12.844362525000001, -14.610966540000003, -16.413503969999997, -18.23364144, -20.054512245, -21.860716350000004, -23.636853720000005, -25.368257654999997, -27.04246146, -28.64699844, -30.170135235000004, -31.602338490000005, -32.93407485, -34.15727763, -35.26608015000001, -36.253882395000005, -37.11628435500001, -37.85035269000001, -38.45242072500001, -38.92102179000001, -39.25542255000001, -39.455623005000014, -39.52382316000001, -39.46148968500001, -39.27082258500001, -38.956221870000014, -38.52135421500001, -37.97061963000001, -37.309884795, -36.54501639000001, -35.68188109500001, -34.72781226, -33.690143235, -32.57547403499999, -31.391871344999995, -30.147401849999998, -28.85013223499999, -27.508129184999994, -26.129459384999986, -24.722922854999993, -23.29658628, -21.85778300999999, -20.414579729999996, -18.975776459999988, -17.54870654999999, -16.140703349999995, -14.759100209999989, -13.410497144999994, -12.101494169999986, -10.83869129999999, -9.627955214999995, -8.474419259999989, -7.383950114999992, -6.360947789999987, -5.40907895999999, -4.532743634999993, -3.735608489999996, -3.020606864999986, -2.3899387649999886, -1.8458041949999906, -1.3904031599999922, -1.0244689949999937, -0.7487350349999897, -0.5639346149999904, -0.46933439999999077, -0.46493438999999076, -0.5500012499999904, -0.7230683099999928, -0.982668899999992, -1.3266030149999908, -1.7526706499999891, -2.257938464999987, -2.8394731199999956, -3.4943412749999934, -4.218876254999991, -5.0094113849999875, -5.862279989999984, -6.7730820599999975, -7.737417584999994, -8.75015321999999, -9.806888954999987, -10.903224779999983, -12.034027349999999, -13.194896654999994]}],\n",
       "                        {\"autosize\": false, \"font\": {\"color\": \"black\", \"family\": \"Arial\", \"size\": 16}, \"height\": 900, \"showlegend\": false, \"template\": {\"data\": {\"bar\": [{\"error_x\": {\"color\": \"#2a3f5f\"}, \"error_y\": {\"color\": \"#2a3f5f\"}, \"marker\": {\"line\": {\"color\": \"white\", \"width\": 0.5}}, \"type\": \"bar\"}], \"barpolar\": [{\"marker\": {\"line\": {\"color\": \"white\", \"width\": 0.5}}, \"type\": \"barpolar\"}], \"carpet\": [{\"aaxis\": {\"endlinecolor\": \"#2a3f5f\", \"gridcolor\": \"#C8D4E3\", \"linecolor\": \"#C8D4E3\", \"minorgridcolor\": \"#C8D4E3\", \"startlinecolor\": \"#2a3f5f\"}, \"baxis\": {\"endlinecolor\": \"#2a3f5f\", \"gridcolor\": \"#C8D4E3\", \"linecolor\": \"#C8D4E3\", \"minorgridcolor\": \"#C8D4E3\", \"startlinecolor\": \"#2a3f5f\"}, \"type\": \"carpet\"}], \"choropleth\": [{\"colorbar\": {\"outlinewidth\": 0, \"ticks\": \"\"}, \"type\": \"choropleth\"}], \"contour\": [{\"colorbar\": {\"outlinewidth\": 0, \"ticks\": \"\"}, \"colorscale\": [[0.0, \"#0d0887\"], [0.1111111111111111, \"#46039f\"], [0.2222222222222222, \"#7201a8\"], [0.3333333333333333, \"#9c179e\"], [0.4444444444444444, \"#bd3786\"], [0.5555555555555556, \"#d8576b\"], [0.6666666666666666, \"#ed7953\"], [0.7777777777777778, \"#fb9f3a\"], [0.8888888888888888, \"#fdca26\"], [1.0, \"#f0f921\"]], \"type\": \"contour\"}], \"contourcarpet\": [{\"colorbar\": {\"outlinewidth\": 0, \"ticks\": \"\"}, \"type\": \"contourcarpet\"}], \"heatmap\": [{\"colorbar\": {\"outlinewidth\": 0, \"ticks\": \"\"}, \"colorscale\": [[0.0, \"#0d0887\"], [0.1111111111111111, \"#46039f\"], [0.2222222222222222, \"#7201a8\"], [0.3333333333333333, \"#9c179e\"], [0.4444444444444444, \"#bd3786\"], [0.5555555555555556, \"#d8576b\"], [0.6666666666666666, \"#ed7953\"], [0.7777777777777778, \"#fb9f3a\"], [0.8888888888888888, \"#fdca26\"], [1.0, \"#f0f921\"]], \"type\": \"heatmap\"}], \"heatmapgl\": [{\"colorbar\": {\"outlinewidth\": 0, \"ticks\": \"\"}, \"colorscale\": [[0.0, \"#0d0887\"], [0.1111111111111111, \"#46039f\"], [0.2222222222222222, \"#7201a8\"], [0.3333333333333333, \"#9c179e\"], [0.4444444444444444, \"#bd3786\"], [0.5555555555555556, \"#d8576b\"], [0.6666666666666666, \"#ed7953\"], [0.7777777777777778, \"#fb9f3a\"], [0.8888888888888888, \"#fdca26\"], [1.0, \"#f0f921\"]], \"type\": \"heatmapgl\"}], \"histogram\": [{\"marker\": {\"colorbar\": {\"outlinewidth\": 0, \"ticks\": \"\"}}, \"type\": \"histogram\"}], \"histogram2d\": [{\"colorbar\": {\"outlinewidth\": 0, \"ticks\": \"\"}, \"colorscale\": [[0.0, \"#0d0887\"], [0.1111111111111111, \"#46039f\"], [0.2222222222222222, \"#7201a8\"], [0.3333333333333333, \"#9c179e\"], [0.4444444444444444, \"#bd3786\"], [0.5555555555555556, \"#d8576b\"], [0.6666666666666666, \"#ed7953\"], [0.7777777777777778, \"#fb9f3a\"], [0.8888888888888888, \"#fdca26\"], [1.0, \"#f0f921\"]], \"type\": \"histogram2d\"}], \"histogram2dcontour\": [{\"colorbar\": {\"outlinewidth\": 0, \"ticks\": \"\"}, \"colorscale\": [[0.0, \"#0d0887\"], [0.1111111111111111, \"#46039f\"], [0.2222222222222222, \"#7201a8\"], [0.3333333333333333, \"#9c179e\"], [0.4444444444444444, \"#bd3786\"], [0.5555555555555556, \"#d8576b\"], [0.6666666666666666, \"#ed7953\"], [0.7777777777777778, \"#fb9f3a\"], [0.8888888888888888, \"#fdca26\"], [1.0, \"#f0f921\"]], \"type\": \"histogram2dcontour\"}], \"mesh3d\": [{\"colorbar\": {\"outlinewidth\": 0, \"ticks\": \"\"}, \"type\": \"mesh3d\"}], \"parcoords\": [{\"line\": {\"colorbar\": {\"outlinewidth\": 0, \"ticks\": \"\"}}, \"type\": \"parcoords\"}], \"pie\": [{\"automargin\": true, \"type\": \"pie\"}], \"scatter\": [{\"marker\": {\"colorbar\": {\"outlinewidth\": 0, \"ticks\": \"\"}}, \"type\": \"scatter\"}], \"scatter3d\": [{\"line\": {\"colorbar\": {\"outlinewidth\": 0, \"ticks\": \"\"}}, \"marker\": {\"colorbar\": {\"outlinewidth\": 0, \"ticks\": \"\"}}, \"type\": \"scatter3d\"}], \"scattercarpet\": [{\"marker\": {\"colorbar\": {\"outlinewidth\": 0, \"ticks\": \"\"}}, \"type\": \"scattercarpet\"}], \"scattergeo\": [{\"marker\": {\"colorbar\": {\"outlinewidth\": 0, \"ticks\": \"\"}}, \"type\": \"scattergeo\"}], \"scattergl\": [{\"marker\": {\"colorbar\": {\"outlinewidth\": 0, \"ticks\": \"\"}}, \"type\": \"scattergl\"}], \"scattermapbox\": [{\"marker\": {\"colorbar\": {\"outlinewidth\": 0, \"ticks\": \"\"}}, \"type\": \"scattermapbox\"}], \"scatterpolar\": [{\"marker\": {\"colorbar\": {\"outlinewidth\": 0, \"ticks\": \"\"}}, \"type\": \"scatterpolar\"}], \"scatterpolargl\": [{\"marker\": {\"colorbar\": {\"outlinewidth\": 0, \"ticks\": \"\"}}, \"type\": \"scatterpolargl\"}], \"scatterternary\": [{\"marker\": {\"colorbar\": {\"outlinewidth\": 0, \"ticks\": \"\"}}, \"type\": \"scatterternary\"}], \"surface\": [{\"colorbar\": {\"outlinewidth\": 0, \"ticks\": \"\"}, \"colorscale\": [[0.0, \"#0d0887\"], [0.1111111111111111, \"#46039f\"], [0.2222222222222222, \"#7201a8\"], [0.3333333333333333, \"#9c179e\"], [0.4444444444444444, \"#bd3786\"], [0.5555555555555556, \"#d8576b\"], [0.6666666666666666, \"#ed7953\"], [0.7777777777777778, \"#fb9f3a\"], [0.8888888888888888, \"#fdca26\"], [1.0, \"#f0f921\"]], \"type\": \"surface\"}], \"table\": [{\"cells\": {\"fill\": {\"color\": \"#EBF0F8\"}, \"line\": {\"color\": \"white\"}}, \"header\": {\"fill\": {\"color\": \"#C8D4E3\"}, \"line\": {\"color\": \"white\"}}, \"type\": \"table\"}]}, \"layout\": {\"annotationdefaults\": {\"arrowcolor\": \"#2a3f5f\", \"arrowhead\": 0, \"arrowwidth\": 1}, \"coloraxis\": {\"colorbar\": {\"outlinewidth\": 0, \"ticks\": \"\"}}, \"colorscale\": {\"diverging\": [[0, \"#8e0152\"], [0.1, \"#c51b7d\"], [0.2, \"#de77ae\"], [0.3, \"#f1b6da\"], [0.4, \"#fde0ef\"], [0.5, \"#f7f7f7\"], [0.6, \"#e6f5d0\"], [0.7, \"#b8e186\"], [0.8, \"#7fbc41\"], [0.9, \"#4d9221\"], [1, \"#276419\"]], \"sequential\": [[0.0, \"#0d0887\"], [0.1111111111111111, \"#46039f\"], [0.2222222222222222, \"#7201a8\"], [0.3333333333333333, \"#9c179e\"], [0.4444444444444444, \"#bd3786\"], [0.5555555555555556, \"#d8576b\"], [0.6666666666666666, \"#ed7953\"], [0.7777777777777778, \"#fb9f3a\"], [0.8888888888888888, \"#fdca26\"], [1.0, \"#f0f921\"]], \"sequentialminus\": [[0.0, \"#0d0887\"], [0.1111111111111111, \"#46039f\"], [0.2222222222222222, \"#7201a8\"], [0.3333333333333333, \"#9c179e\"], [0.4444444444444444, \"#bd3786\"], [0.5555555555555556, \"#d8576b\"], [0.6666666666666666, \"#ed7953\"], [0.7777777777777778, \"#fb9f3a\"], [0.8888888888888888, \"#fdca26\"], [1.0, \"#f0f921\"]]}, \"colorway\": [\"#636efa\", \"#EF553B\", \"#00cc96\", \"#ab63fa\", \"#FFA15A\", \"#19d3f3\", \"#FF6692\", \"#B6E880\", \"#FF97FF\", \"#FECB52\"], \"font\": {\"color\": \"#2a3f5f\"}, \"geo\": {\"bgcolor\": \"white\", \"lakecolor\": \"white\", \"landcolor\": \"white\", \"showlakes\": true, \"showland\": true, \"subunitcolor\": \"#C8D4E3\"}, \"hoverlabel\": {\"align\": \"left\"}, \"hovermode\": \"closest\", \"mapbox\": {\"style\": \"light\"}, \"paper_bgcolor\": \"white\", \"plot_bgcolor\": \"white\", \"polar\": {\"angularaxis\": {\"gridcolor\": \"#EBF0F8\", \"linecolor\": \"#EBF0F8\", \"ticks\": \"\"}, \"bgcolor\": \"white\", \"radialaxis\": {\"gridcolor\": \"#EBF0F8\", \"linecolor\": \"#EBF0F8\", \"ticks\": \"\"}}, \"scene\": {\"xaxis\": {\"backgroundcolor\": \"white\", \"gridcolor\": \"#DFE8F3\", \"gridwidth\": 2, \"linecolor\": \"#EBF0F8\", \"showbackground\": true, \"ticks\": \"\", \"zerolinecolor\": \"#EBF0F8\"}, \"yaxis\": {\"backgroundcolor\": \"white\", \"gridcolor\": \"#DFE8F3\", \"gridwidth\": 2, \"linecolor\": \"#EBF0F8\", \"showbackground\": true, \"ticks\": \"\", \"zerolinecolor\": \"#EBF0F8\"}, \"zaxis\": {\"backgroundcolor\": \"white\", \"gridcolor\": \"#DFE8F3\", \"gridwidth\": 2, \"linecolor\": \"#EBF0F8\", \"showbackground\": true, \"ticks\": \"\", \"zerolinecolor\": \"#EBF0F8\"}}, \"shapedefaults\": {\"line\": {\"color\": \"#2a3f5f\"}}, \"ternary\": {\"aaxis\": {\"gridcolor\": \"#DFE8F3\", \"linecolor\": \"#A2B1C6\", \"ticks\": \"\"}, \"baxis\": {\"gridcolor\": \"#DFE8F3\", \"linecolor\": \"#A2B1C6\", \"ticks\": \"\"}, \"bgcolor\": \"white\", \"caxis\": {\"gridcolor\": \"#DFE8F3\", \"linecolor\": \"#A2B1C6\", \"ticks\": \"\"}}, \"title\": {\"x\": 0.05}, \"xaxis\": {\"automargin\": true, \"gridcolor\": \"#EBF0F8\", \"linecolor\": \"#EBF0F8\", \"ticks\": \"\", \"title\": {\"standoff\": 15}, \"zerolinecolor\": \"#EBF0F8\", \"zerolinewidth\": 2}, \"yaxis\": {\"automargin\": true, \"gridcolor\": \"#EBF0F8\", \"linecolor\": \"#EBF0F8\", \"ticks\": \"\", \"title\": {\"standoff\": 15}, \"zerolinecolor\": \"#EBF0F8\", \"zerolinewidth\": 2}}}, \"title\": {\"text\": \"Vehicle Motion in Global Reference Frame\"}, \"width\": 900, \"xaxis\": {\"linecolor\": \"black\", \"linewidth\": 1, \"showgrid\": false, \"showline\": true, \"tickcolor\": \"black\", \"ticklen\": 10, \"ticks\": \"outside\", \"tickwidth\": 1, \"title\": {\"text\": \"x-axis - Forward (ft)\"}, \"zeroline\": false}, \"yaxis\": {\"autorange\": \"reversed\", \"linecolor\": \"black\", \"linewidth\": 1, \"showgrid\": false, \"showline\": true, \"tickcolor\": \"black\", \"ticklen\": 10, \"ticks\": \"outside\", \"tickwidth\": 1, \"title\": {\"text\": \"y-axis - Rightward (ft)\"}, \"zeroline\": false}},\n",
       "                        {\"responsive\": true}\n",
       "                    ).then(function(){\n",
       "                            \n",
       "var gd = document.getElementById('6dd6b4af-717f-45a0-a156-f2d5b522e3f7');\n",
       "var x = new MutationObserver(function (mutations, observer) {{\n",
       "        var display = window.getComputedStyle(gd).display;\n",
       "        if (!display || display === 'none') {{\n",
       "            console.log([gd, 'removed!']);\n",
       "            Plotly.purge(gd);\n",
       "            observer.disconnect();\n",
       "        }}\n",
       "}});\n",
       "\n",
       "// Listen for the removal of the full notebook cells\n",
       "var notebookContainer = gd.closest('#notebook-container');\n",
       "if (notebookContainer) {{\n",
       "    x.observe(notebookContainer, {childList: true});\n",
       "}}\n",
       "\n",
       "// Listen for the clearing of the current output cell\n",
       "var outputEl = gd.closest('.output');\n",
       "if (outputEl) {{\n",
       "    x.observe(outputEl, {childList: true});\n",
       "}}\n",
       "\n",
       "                        })\n",
       "                };\n",
       "                });\n",
       "            </script>\n",
       "        </div>"
      ]
     },
     "metadata": {},
     "output_type": "display_data"
    }
   ],
   "source": [
    "cg_motion(run.veh.model, df, 'pycrash', 'validate')"
   ]
  },
  {
   "cell_type": "code",
   "execution_count": null,
   "metadata": {},
   "outputs": [],
   "source": []
  }
 ],
 "metadata": {
  "kernelspec": {
   "display_name": "Python 3",
   "language": "python",
   "name": "python3"
  },
  "language_info": {
   "codemirror_mode": {
    "name": "ipython",
    "version": 3
   },
   "file_extension": ".py",
   "mimetype": "text/x-python",
   "name": "python",
   "nbconvert_exporter": "python",
   "pygments_lexer": "ipython3",
   "version": "3.6.9"
  }
 },
 "nbformat": 4,
 "nbformat_minor": 4
}
