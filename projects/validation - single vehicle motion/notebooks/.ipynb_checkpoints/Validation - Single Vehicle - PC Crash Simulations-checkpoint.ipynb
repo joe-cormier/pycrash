{
 "cells": [
  {
   "cell_type": "code",
   "execution_count": 1,
   "metadata": {},
   "outputs": [],
   "source": [
    "# %% allow reloading of modules\n",
    "%load_ext autoreload\n",
    "%autoreload 2"
   ]
  },
  {
   "cell_type": "markdown",
   "metadata": {},
   "source": [
    "#### Note: ensure the you are in the `notebooks` directory when using the `jupyter notebook` command "
   ]
  },
  {
   "cell_type": "code",
   "execution_count": 2,
   "metadata": {},
   "outputs": [
    {
     "data": {
      "text/plain": [
       "'/home/jmc/Documents/pycrash/projects/validation - single vehicle motion/notebooks'"
      ]
     },
     "execution_count": 2,
     "metadata": {},
     "output_type": "execute_result"
    }
   ],
   "source": [
    "import os\n",
    "path_parent = os.path.dirname(os.getcwd())\n",
    "os.getcwd()"
   ]
  },
  {
   "cell_type": "code",
   "execution_count": 3,
   "metadata": {},
   "outputs": [],
   "source": [
    "import sys\n",
    "sys.path.append(\"/home/jmc/Documents/pycrash\")"
   ]
  },
  {
   "cell_type": "code",
   "execution_count": 36,
   "metadata": {},
   "outputs": [
    {
     "name": "stdout",
     "output_type": "stream",
     "text": [
      "No Environment File Provided\n"
     ]
    }
   ],
   "source": [
    "import pycrash\n",
    "from pycrash.project import Project, project_info, load_project\n",
    "from pycrash.vehicle import Vehicle\n",
    "from pycrash.kinematics import SingleMotion"
   ]
  },
  {
   "cell_type": "code",
   "execution_count": 5,
   "metadata": {},
   "outputs": [
    {
     "data": {
      "text/plain": [
       "'/home/jmc/Documents/pycrash/projects/validation - single vehicle motion'"
      ]
     },
     "execution_count": 5,
     "metadata": {},
     "output_type": "execute_result"
    }
   ],
   "source": [
    "os.getcwd()"
   ]
  },
  {
   "cell_type": "code",
   "execution_count": 7,
   "metadata": {},
   "outputs": [],
   "source": [
    "import pandas as pd\n",
    "import numpy as np\n",
    "import math\n",
    "from scipy import integrate\n",
    "pd.options.display.max_columns = None\n",
    "pd.options.display.max_rows = None\n",
    "from IPython import get_ipython\n",
    "from IPython.display import display\n",
    "get_ipython().run_line_magic('matplotlib', 'inline')"
   ]
  },
  {
   "cell_type": "markdown",
   "metadata": {},
   "source": [
    "### Load Project Datafile that was created when project was instantiated\n",
    "- the project object contains information needed to run other parts of Pycrash"
   ]
  },
  {
   "cell_type": "markdown",
   "metadata": {},
   "source": [
    "#### Get project information - used to import project object"
   ]
  },
  {
   "cell_type": "code",
   "execution_count": 8,
   "metadata": {},
   "outputs": [
    {
     "name": "stdout",
     "output_type": "stream",
     "text": [
      "This saved project contains:\n",
      "Object of type \"project\" with name \"validation - single vehicle motion\"\n",
      "list objects in this order for loading project: ['validation - single vehicle motion']\n",
      "Example: project_name, veh1, veh2 = load_project('project_name')\n"
     ]
    }
   ],
   "source": [
    "project_info('validation - single vehicle motion')"
   ]
  },
  {
   "cell_type": "markdown",
   "metadata": {},
   "source": [
    "#### Load project and print contents"
   ]
  },
  {
   "cell_type": "code",
   "execution_count": 9,
   "metadata": {},
   "outputs": [
    {
     "name": "stdout",
     "output_type": "stream",
     "text": [
      "----------------------------------  ------------------------  -----------  ---------------  --------------------\n",
      "Project                             Description               Impact Type  Simulation Type  Note\n",
      "validation - single vehicle motion  planar motion simulation               SV               pc crash comparisons\n",
      "----------------------------------  ------------------------  -----------  ---------------  --------------------\n"
     ]
    }
   ],
   "source": [
    "proj = load_project('validation - single vehicle motion')\n",
    "proj.show()"
   ]
  },
  {
   "cell_type": "code",
   "execution_count": 10,
   "metadata": {},
   "outputs": [
    {
     "data": {
      "text/plain": [
       "{'name': 'validation - single vehicle motion',\n",
       " 'project_path': '/home/jmc/Documents/pycrash/projects/',\n",
       " 'pdesc': 'planar motion simulation',\n",
       " 'sim_type': 'SV',\n",
       " 'impact_type': None,\n",
       " 'note': 'pc crash comparisons',\n",
       " 'type': 'project'}"
      ]
     },
     "execution_count": 10,
     "metadata": {},
     "output_type": "execute_result"
    }
   ],
   "source": [
    "proj.__dict__"
   ]
  },
  {
   "cell_type": "markdown",
   "metadata": {},
   "source": [
    "### Generate dataframe with driver inputs\n",
    "- use validation steer / brake / throttle inputs\n",
    "- inputs are same dt as pycrash will have to check in future"
   ]
  },
  {
   "cell_type": "code",
   "execution_count": 11,
   "metadata": {},
   "outputs": [],
   "source": [
    "pc_crash_column_names = ['t', 'ax', 'ay', 'az', 'phi_deg', 'lf_fy', 'rf_fy',\n",
    "                         'lr_fy', 'rr_fy', 'delta_deg', 'rf_delta_deg', 'steer', \n",
    "                         'steer_rate', 'X', 'Y', 'Z', 'roll', 'pitch', 'theta_deg',\n",
    "                         'Vx', 'Vy', 'Vz']"
   ]
  },
  {
   "cell_type": "code",
   "execution_count": 12,
   "metadata": {},
   "outputs": [],
   "source": [
    "df = pd.read_excel(os.path.join(path_parent, 'data', 'external', '15-mph-steer-data.xlsx'),\n",
    "                            na_filter = False, header = None, names = pc_crash_column_names, skiprows = 1)"
   ]
  },
  {
   "cell_type": "code",
   "execution_count": 13,
   "metadata": {},
   "outputs": [],
   "source": [
    "# convert velocities to fps\n",
    "df.Vx = [x * 1.46667 for x in df.Vx]\n",
    "df.Vy = [x * 1.46667 for x in df.Vy]\n",
    "df.Vz = [x * 1.46667 for x in df.Vz]\n",
    "\n",
    "# convert acceleration to fps/s\n",
    "df.ax = [x * 32.2 for x in df.ax]\n",
    "df.ay = [x * 32.2 for x in df.ay]\n",
    "df.az = [x * 32.2 for x in df.az]\n",
    "\n",
    "# convert tire forces to lb\n",
    "df.lf_fy = [x * 1000 for x in df.lf_fy]\n",
    "df.rf_fy = [x * 1000 for x in df.rf_fy]\n",
    "df.lr_fy = [x * 1000 for x in df.lr_fy]\n",
    "df.rr_fy = [x * 1000 for x in df.rr_fy]\n",
    "\n",
    "# steer angle in radians\n",
    "df['delta_rad'] = [x / 180 * math.pi for x in df.delta_deg]"
   ]
  },
  {
   "cell_type": "code",
   "execution_count": 14,
   "metadata": {},
   "outputs": [
    {
     "data": {
      "text/html": [
       "<div>\n",
       "<style scoped>\n",
       "    .dataframe tbody tr th:only-of-type {\n",
       "        vertical-align: middle;\n",
       "    }\n",
       "\n",
       "    .dataframe tbody tr th {\n",
       "        vertical-align: top;\n",
       "    }\n",
       "\n",
       "    .dataframe thead th {\n",
       "        text-align: right;\n",
       "    }\n",
       "</style>\n",
       "<table border=\"1\" class=\"dataframe\">\n",
       "  <thead>\n",
       "    <tr style=\"text-align: right;\">\n",
       "      <th></th>\n",
       "      <th>t</th>\n",
       "      <th>ax</th>\n",
       "      <th>ay</th>\n",
       "      <th>az</th>\n",
       "      <th>phi_deg</th>\n",
       "      <th>lf_fy</th>\n",
       "      <th>rf_fy</th>\n",
       "      <th>lr_fy</th>\n",
       "      <th>rr_fy</th>\n",
       "      <th>delta_deg</th>\n",
       "      <th>rf_delta_deg</th>\n",
       "      <th>steer</th>\n",
       "      <th>steer_rate</th>\n",
       "      <th>X</th>\n",
       "      <th>Y</th>\n",
       "      <th>Z</th>\n",
       "      <th>roll</th>\n",
       "      <th>pitch</th>\n",
       "      <th>theta_deg</th>\n",
       "      <th>Vx</th>\n",
       "      <th>Vy</th>\n",
       "      <th>Vz</th>\n",
       "      <th>delta_rad</th>\n",
       "      <th>Dx</th>\n",
       "      <th>Dy</th>\n",
       "    </tr>\n",
       "  </thead>\n",
       "  <tbody>\n",
       "    <tr>\n",
       "      <th>0</th>\n",
       "      <td>0.0</td>\n",
       "      <td>0.0</td>\n",
       "      <td>0.0</td>\n",
       "      <td>0.0</td>\n",
       "      <td>0.0</td>\n",
       "      <td>0.0</td>\n",
       "      <td>0.0</td>\n",
       "      <td>0.0</td>\n",
       "      <td>0.0</td>\n",
       "      <td>0.0</td>\n",
       "      <td>0.0</td>\n",
       "      <td>0.0</td>\n",
       "      <td>0</td>\n",
       "      <td>0.0</td>\n",
       "      <td>0.0</td>\n",
       "      <td>1.79</td>\n",
       "      <td>0.0</td>\n",
       "      <td>0.0</td>\n",
       "      <td>0.0</td>\n",
       "      <td>22.00005</td>\n",
       "      <td>0.0</td>\n",
       "      <td>0.0</td>\n",
       "      <td>0.0</td>\n",
       "      <td>0.000000</td>\n",
       "      <td>0.0</td>\n",
       "    </tr>\n",
       "    <tr>\n",
       "      <th>1</th>\n",
       "      <td>0.1</td>\n",
       "      <td>0.0</td>\n",
       "      <td>0.0</td>\n",
       "      <td>0.0</td>\n",
       "      <td>0.0</td>\n",
       "      <td>0.0</td>\n",
       "      <td>0.0</td>\n",
       "      <td>0.0</td>\n",
       "      <td>0.0</td>\n",
       "      <td>0.0</td>\n",
       "      <td>0.0</td>\n",
       "      <td>0.0</td>\n",
       "      <td>0</td>\n",
       "      <td>2.2</td>\n",
       "      <td>0.0</td>\n",
       "      <td>1.79</td>\n",
       "      <td>0.0</td>\n",
       "      <td>0.0</td>\n",
       "      <td>0.0</td>\n",
       "      <td>22.00005</td>\n",
       "      <td>0.0</td>\n",
       "      <td>0.0</td>\n",
       "      <td>0.0</td>\n",
       "      <td>2.200005</td>\n",
       "      <td>0.0</td>\n",
       "    </tr>\n",
       "    <tr>\n",
       "      <th>2</th>\n",
       "      <td>0.2</td>\n",
       "      <td>0.0</td>\n",
       "      <td>0.0</td>\n",
       "      <td>0.0</td>\n",
       "      <td>0.0</td>\n",
       "      <td>0.0</td>\n",
       "      <td>0.0</td>\n",
       "      <td>0.0</td>\n",
       "      <td>0.0</td>\n",
       "      <td>0.0</td>\n",
       "      <td>0.0</td>\n",
       "      <td>0.0</td>\n",
       "      <td>0</td>\n",
       "      <td>4.4</td>\n",
       "      <td>0.0</td>\n",
       "      <td>1.79</td>\n",
       "      <td>0.0</td>\n",
       "      <td>0.0</td>\n",
       "      <td>0.0</td>\n",
       "      <td>22.00005</td>\n",
       "      <td>0.0</td>\n",
       "      <td>0.0</td>\n",
       "      <td>0.0</td>\n",
       "      <td>4.400010</td>\n",
       "      <td>0.0</td>\n",
       "    </tr>\n",
       "    <tr>\n",
       "      <th>3</th>\n",
       "      <td>0.3</td>\n",
       "      <td>0.0</td>\n",
       "      <td>0.0</td>\n",
       "      <td>0.0</td>\n",
       "      <td>0.0</td>\n",
       "      <td>0.0</td>\n",
       "      <td>0.0</td>\n",
       "      <td>0.0</td>\n",
       "      <td>0.0</td>\n",
       "      <td>0.0</td>\n",
       "      <td>0.0</td>\n",
       "      <td>0.0</td>\n",
       "      <td>0</td>\n",
       "      <td>6.6</td>\n",
       "      <td>0.0</td>\n",
       "      <td>1.79</td>\n",
       "      <td>0.0</td>\n",
       "      <td>0.0</td>\n",
       "      <td>0.0</td>\n",
       "      <td>22.00005</td>\n",
       "      <td>0.0</td>\n",
       "      <td>0.0</td>\n",
       "      <td>0.0</td>\n",
       "      <td>6.600015</td>\n",
       "      <td>0.0</td>\n",
       "    </tr>\n",
       "    <tr>\n",
       "      <th>4</th>\n",
       "      <td>0.4</td>\n",
       "      <td>0.0</td>\n",
       "      <td>0.0</td>\n",
       "      <td>0.0</td>\n",
       "      <td>0.0</td>\n",
       "      <td>0.0</td>\n",
       "      <td>0.0</td>\n",
       "      <td>0.0</td>\n",
       "      <td>0.0</td>\n",
       "      <td>0.0</td>\n",
       "      <td>0.0</td>\n",
       "      <td>0.0</td>\n",
       "      <td>0</td>\n",
       "      <td>8.8</td>\n",
       "      <td>0.0</td>\n",
       "      <td>1.79</td>\n",
       "      <td>0.0</td>\n",
       "      <td>0.0</td>\n",
       "      <td>0.0</td>\n",
       "      <td>22.00005</td>\n",
       "      <td>0.0</td>\n",
       "      <td>0.0</td>\n",
       "      <td>0.0</td>\n",
       "      <td>8.800020</td>\n",
       "      <td>0.0</td>\n",
       "    </tr>\n",
       "  </tbody>\n",
       "</table>\n",
       "</div>"
      ],
      "text/plain": [
       "     t   ax   ay   az  phi_deg  lf_fy  rf_fy  lr_fy  rr_fy  delta_deg  \\\n",
       "0  0.0  0.0  0.0  0.0      0.0    0.0    0.0    0.0    0.0        0.0   \n",
       "1  0.1  0.0  0.0  0.0      0.0    0.0    0.0    0.0    0.0        0.0   \n",
       "2  0.2  0.0  0.0  0.0      0.0    0.0    0.0    0.0    0.0        0.0   \n",
       "3  0.3  0.0  0.0  0.0      0.0    0.0    0.0    0.0    0.0        0.0   \n",
       "4  0.4  0.0  0.0  0.0      0.0    0.0    0.0    0.0    0.0        0.0   \n",
       "\n",
       "   rf_delta_deg  steer  steer_rate    X    Y     Z  roll  pitch  theta_deg  \\\n",
       "0           0.0    0.0           0  0.0  0.0  1.79   0.0    0.0        0.0   \n",
       "1           0.0    0.0           0  2.2  0.0  1.79   0.0    0.0        0.0   \n",
       "2           0.0    0.0           0  4.4  0.0  1.79   0.0    0.0        0.0   \n",
       "3           0.0    0.0           0  6.6  0.0  1.79   0.0    0.0        0.0   \n",
       "4           0.0    0.0           0  8.8  0.0  1.79   0.0    0.0        0.0   \n",
       "\n",
       "         Vx   Vy   Vz  delta_rad        Dx   Dy  \n",
       "0  22.00005  0.0  0.0        0.0  0.000000  0.0  \n",
       "1  22.00005  0.0  0.0        0.0  2.200005  0.0  \n",
       "2  22.00005  0.0  0.0        0.0  4.400010  0.0  \n",
       "3  22.00005  0.0  0.0        0.0  6.600015  0.0  \n",
       "4  22.00005  0.0  0.0        0.0  8.800020  0.0  "
      ]
     },
     "execution_count": 14,
     "metadata": {},
     "output_type": "execute_result"
    }
   ],
   "source": [
    "# integrate velocities to get displacements\n",
    "df['Dx'] = 0 + integrate.cumtrapz(list(df.Vx), list(df.t), initial=0)\n",
    "df['Dy'] = 0 + integrate.cumtrapz(list(df.Vy), list(df.t), initial=0)\n",
    "df.head()"
   ]
  },
  {
   "cell_type": "code",
   "execution_count": 15,
   "metadata": {},
   "outputs": [
    {
     "data": {
      "text/plain": [
       "<AxesSubplot:xlabel='t'>"
      ]
     },
     "execution_count": 15,
     "metadata": {},
     "output_type": "execute_result"
    },
    {
     "data": {
      "image/png": "[encoded data removed]",
      "text/plain": [
       "<Figure size 432x288 with 1 Axes>"
      ]
     },
     "metadata": {
      "needs_background": "light"
     },
     "output_type": "display_data"
    }
   ],
   "source": [
    "df.plot(x = 't', y = 'steer')"
   ]
  },
  {
   "cell_type": "code",
   "execution_count": 16,
   "metadata": {},
   "outputs": [
    {
     "data": {
      "text/plain": [
       "10.9"
      ]
     },
     "execution_count": 16,
     "metadata": {},
     "output_type": "execute_result"
    }
   ],
   "source": [
    "df.t.max()"
   ]
  },
  {
   "cell_type": "code",
   "execution_count": 17,
   "metadata": {},
   "outputs": [
    {
     "data": {
      "text/plain": [
       "22.000049999999998"
      ]
     },
     "execution_count": 17,
     "metadata": {},
     "output_type": "execute_result"
    }
   ],
   "source": [
    "df.Vx[0]"
   ]
  },
  {
   "cell_type": "markdown",
   "metadata": {},
   "source": [
    "### Load Validation Data"
   ]
  },
  {
   "cell_type": "code",
   "execution_count": 18,
   "metadata": {},
   "outputs": [],
   "source": [
    "# validation vehicle data\n",
    "\n",
    "vehicle_input_dict = {\"year\":2004,\n",
    "\"make\":\"Chevrolet\",\n",
    "\"model\":\"Malibu\",\n",
    "\"weight\":3298,\n",
    "\"vin\":\"1G1ZU54854F135916\",\n",
    "\"brake\":0,\n",
    "\"steer_ratio\":15.9,\n",
    "\"init_x_pos\":0,\n",
    "\"init_y_pos\":0,\n",
    "\"head_angle\":0,\n",
    "\"width\":70 / 12,\n",
    "\"length\":187 / 12,\n",
    "\"hcg\":21.5 / 12,\n",
    "\"lcgf\":38.1 / 12,\n",
    "\"lcgr\":67.9 / 12,\n",
    "\"wb\":106 / 12,\n",
    "\"track\":60 / 12,\n",
    "\"f_hang\":38 / 12,\n",
    "\"r_hang\":43 / 12,\n",
    "\"tire_d\":26.2 / 12,\n",
    "\"tire_w\":8.5 / 12,\n",
    "\"izz\":2040,\n",
    "\"fwd\":1,\n",
    "\"rwd\":0,\n",
    "\"awd\":0,\n",
    "\"A\":100,\n",
    "\"B\":41,\n",
    "\"k\":1000,\n",
    "\"L\":0,\n",
    "\"c\":0,\n",
    "\"vx_initial\":df.Vx[0],\n",
    "\"vy_initial\":0,\n",
    "\"omega_z\":0}"
   ]
  },
  {
   "cell_type": "code",
   "execution_count": 19,
   "metadata": {},
   "outputs": [
    {
     "name": "stdout",
     "output_type": "stream",
     "text": [
      "Vehicle Driver Inputs:\n"
     ]
    },
    {
     "data": {
      "text/html": [
       "<div>\n",
       "<style scoped>\n",
       "    .dataframe tbody tr th:only-of-type {\n",
       "        vertical-align: middle;\n",
       "    }\n",
       "\n",
       "    .dataframe tbody tr th {\n",
       "        vertical-align: top;\n",
       "    }\n",
       "\n",
       "    .dataframe thead th {\n",
       "        text-align: right;\n",
       "    }\n",
       "</style>\n",
       "<table border=\"1\" class=\"dataframe\">\n",
       "  <thead>\n",
       "    <tr style=\"text-align: right;\">\n",
       "      <th></th>\n",
       "      <th>t</th>\n",
       "      <th>throttle</th>\n",
       "      <th>brake</th>\n",
       "      <th>steer</th>\n",
       "    </tr>\n",
       "  </thead>\n",
       "  <tbody>\n",
       "    <tr>\n",
       "      <th>0</th>\n",
       "      <td>0.0</td>\n",
       "      <td>0</td>\n",
       "      <td>0</td>\n",
       "      <td>0.0</td>\n",
       "    </tr>\n",
       "    <tr>\n",
       "      <th>1</th>\n",
       "      <td>0.1</td>\n",
       "      <td>0</td>\n",
       "      <td>0</td>\n",
       "      <td>0.0</td>\n",
       "    </tr>\n",
       "    <tr>\n",
       "      <th>2</th>\n",
       "      <td>0.2</td>\n",
       "      <td>0</td>\n",
       "      <td>0</td>\n",
       "      <td>0.0</td>\n",
       "    </tr>\n",
       "    <tr>\n",
       "      <th>3</th>\n",
       "      <td>0.3</td>\n",
       "      <td>0</td>\n",
       "      <td>0</td>\n",
       "      <td>0.0</td>\n",
       "    </tr>\n",
       "    <tr>\n",
       "      <th>4</th>\n",
       "      <td>0.4</td>\n",
       "      <td>0</td>\n",
       "      <td>0</td>\n",
       "      <td>0.0</td>\n",
       "    </tr>\n",
       "  </tbody>\n",
       "</table>\n",
       "</div>"
      ],
      "text/plain": [
       "     t  throttle  brake  steer\n",
       "0  0.0         0      0    0.0\n",
       "1  0.1         0      0    0.0\n",
       "2  0.2         0      0    0.0\n",
       "3  0.3         0      0    0.0\n",
       "4  0.4         0      0    0.0"
      ]
     },
     "execution_count": 19,
     "metadata": {},
     "output_type": "execute_result"
    }
   ],
   "source": [
    "end_time = df.t.max()  \n",
    "t = list(df.t)  \n",
    "throttle = [0] * len(t)                      \n",
    "brake = [0] * len(t)                         \n",
    "steer = list(df.steer)                                   \n",
    "driver_input_dict = {'t':t, 'throttle':throttle, 'brake':brake, 'steer':steer}\n",
    "driver_input_df = pd.DataFrame.from_dict(driver_input_dict)\n",
    "print('Vehicle Driver Inputs:')\n",
    "driver_input_df.head()"
   ]
  },
  {
   "cell_type": "code",
   "execution_count": 28,
   "metadata": {},
   "outputs": [
    {
     "data": {
      "text/plain": [
       "10.9"
      ]
     },
     "execution_count": 28,
     "metadata": {},
     "output_type": "execute_result"
    }
   ],
   "source": [
    "driver_input_df.t.iloc[-1]"
   ]
  },
  {
   "cell_type": "markdown",
   "metadata": {},
   "source": [
    "### Assign validation data to veh2"
   ]
  },
  {
   "cell_type": "code",
   "execution_count": 20,
   "metadata": {},
   "outputs": [
    {
     "name": "stdout",
     "output_type": "stream",
     "text": [
      "Vehicle inputs for Veh2 applied succesfully\n"
     ]
    }
   ],
   "source": [
    "veh2 = Vehicle('Veh2', vehicle_input_dict)\n",
    "veh2.driver_input = driver_input_df\n",
    "# apply validation data as a model result\n",
    "veh2.model = df"
   ]
  },
  {
   "cell_type": "markdown",
   "metadata": {},
   "source": [
    "### Create Pycrash vehicle:\n",
    "- \"Vehicle\" stores information about a single vehicle - all possible inputs do not need to be entered\n",
    "- creating a Vehicle requries a \"name\" which is used to identify the vehicle in outputs / plots etc. "
   ]
  },
  {
   "cell_type": "code",
   "execution_count": 29,
   "metadata": {},
   "outputs": [
    {
     "name": "stdout",
     "output_type": "stream",
     "text": [
      "Vehicle inputs for Veh1 applied succesfully\n"
     ]
    }
   ],
   "source": [
    "veh1 = Vehicle('Veh1', vehicle_input_dict)\n",
    "veh1.driver_input = driver_input_df\n",
    "veh1.vx_initial = 15\n",
    "#veh1.hcg = 1   # vary cg height"
   ]
  },
  {
   "cell_type": "markdown",
   "metadata": {},
   "source": [
    "### Create Single Motion Instance\n",
    "- simulation is run when instance is created"
   ]
  },
  {
   "cell_type": "code",
   "execution_count": 37,
   "metadata": {},
   "outputs": [
    {
     "name": "stdout",
     "output_type": "stream",
     "text": [
      "Maximum allowable friction: 0.76\n",
      "Time step for vehicle motion: 0.1\n",
      "Maximum tire slip angle: 0.174533\n",
      "Driver input for Veh1 of shape = (110, 4)\n",
      "Vehicle motion will be simulated for 10.9 seconds\n"
     ]
    }
   ],
   "source": [
    "run = SingleMotion('15_mph_steer', veh1)"
   ]
  },
  {
   "cell_type": "markdown",
   "metadata": {},
   "source": [
    "### View Driver Inputs"
   ]
  },
  {
   "cell_type": "code",
   "execution_count": 31,
   "metadata": {},
   "outputs": [
    {
     "data": {
      "application/vnd.plotly.v1+json": {
       "config": {
        "plotlyServerURL": "https://plot.ly"
       },
       "data": [
        {
         "line": {
          "color": "rgb(0, 255, 0)",
          "width": 2
         },
         "mode": "lines",
         "name": "throttle",
         "type": "scatter",
         "x": [
          0,
          0.1,
          0.2,
          0.3,
          0.4,
          0.5,
          0.6,
          0.7,
          0.8,
          0.9,
          1,
          1.1,
          1.2,
          1.3,
          1.4,
          1.5,
          1.6,
          1.7,
          1.8,
          1.9,
          2,
          2.1,
          2.2,
          2.3,
          2.4,
          2.5,
          2.6,
          2.7,
          2.8,
          2.9,
          3,
          3.1,
          3.2,
          3.3,
          3.4,
          3.5,
          3.6,
          3.7,
          3.8,
          3.9,
          4,
          4.1,
          4.2,
          4.3,
          4.4,
          4.5,
          4.6,
          4.7,
          4.8,
          4.9,
          5,
          5.1,
          5.2,
          5.3,
          5.4,
          5.5,
          5.6,
          5.7,
          5.8,
          5.9,
          6,
          6.1,
          6.2,
          6.3,
          6.4,
          6.5,
          6.6,
          6.7,
          6.8,
          6.9,
          7,
          7.1,
          7.2,
          7.3,
          7.4,
          7.5,
          7.6,
          7.7,
          7.8,
          7.9,
          8,
          8.1,
          8.2,
          8.3,
          8.4,
          8.5,
          8.6,
          8.7,
          8.8,
          8.9,
          9,
          9.1,
          9.2,
          9.3,
          9.4,
          9.5,
          9.6,
          9.7,
          9.8,
          9.9,
          10,
          10.1,
          10.2,
          10.3,
          10.4,
          10.5,
          10.6,
          10.7,
          10.8,
          10.9
         ],
         "xaxis": "x",
         "y": [
          0,
          0,
          0,
          0,
          0,
          0,
          0,
          0,
          0,
          0,
          0,
          0,
          0,
          0,
          0,
          0,
          0,
          0,
          0,
          0,
          0,
          0,
          0,
          0,
          0,
          0,
          0,
          0,
          0,
          0,
          0,
          0,
          0,
          0,
          0,
          0,
          0,
          0,
          0,
          0,
          0,
          0,
          0,
          0,
          0,
          0,
          0,
          0,
          0,
          0,
          0,
          0,
          0,
          0,
          0,
          0,
          0,
          0,
          0,
          0,
          0,
          0,
          0,
          0,
          0,
          0,
          0,
          0,
          0,
          0,
          0,
          0,
          0,
          0,
          0,
          0,
          0,
          0,
          0,
          0,
          0,
          0,
          0,
          0,
          0,
          0,
          0,
          0,
          0,
          0,
          0,
          0,
          0,
          0,
          0,
          0,
          0,
          0,
          0,
          0,
          0,
          0,
          0,
          0,
          0,
          0,
          0,
          0,
          0,
          0
         ],
         "yaxis": "y"
        },
        {
         "line": {
          "color": "rgb(255, 0, 0)",
          "width": 2
         },
         "mode": "lines",
         "name": "brake",
         "type": "scatter",
         "x": [
          0,
          0.1,
          0.2,
          0.3,
          0.4,
          0.5,
          0.6,
          0.7,
          0.8,
          0.9,
          1,
          1.1,
          1.2,
          1.3,
          1.4,
          1.5,
          1.6,
          1.7,
          1.8,
          1.9,
          2,
          2.1,
          2.2,
          2.3,
          2.4,
          2.5,
          2.6,
          2.7,
          2.8,
          2.9,
          3,
          3.1,
          3.2,
          3.3,
          3.4,
          3.5,
          3.6,
          3.7,
          3.8,
          3.9,
          4,
          4.1,
          4.2,
          4.3,
          4.4,
          4.5,
          4.6,
          4.7,
          4.8,
          4.9,
          5,
          5.1,
          5.2,
          5.3,
          5.4,
          5.5,
          5.6,
          5.7,
          5.8,
          5.9,
          6,
          6.1,
          6.2,
          6.3,
          6.4,
          6.5,
          6.6,
          6.7,
          6.8,
          6.9,
          7,
          7.1,
          7.2,
          7.3,
          7.4,
          7.5,
          7.6,
          7.7,
          7.8,
          7.9,
          8,
          8.1,
          8.2,
          8.3,
          8.4,
          8.5,
          8.6,
          8.7,
          8.8,
          8.9,
          9,
          9.1,
          9.2,
          9.3,
          9.4,
          9.5,
          9.6,
          9.7,
          9.8,
          9.9,
          10,
          10.1,
          10.2,
          10.3,
          10.4,
          10.5,
          10.6,
          10.7,
          10.8,
          10.9
         ],
         "xaxis": "x",
         "y": [
          0,
          0,
          0,
          0,
          0,
          0,
          0,
          0,
          0,
          0,
          0,
          0,
          0,
          0,
          0,
          0,
          0,
          0,
          0,
          0,
          0,
          0,
          0,
          0,
          0,
          0,
          0,
          0,
          0,
          0,
          0,
          0,
          0,
          0,
          0,
          0,
          0,
          0,
          0,
          0,
          0,
          0,
          0,
          0,
          0,
          0,
          0,
          0,
          0,
          0,
          0,
          0,
          0,
          0,
          0,
          0,
          0,
          0,
          0,
          0,
          0,
          0,
          0,
          0,
          0,
          0,
          0,
          0,
          0,
          0,
          0,
          0,
          0,
          0,
          0,
          0,
          0,
          0,
          0,
          0,
          0,
          0,
          0,
          0,
          0,
          0,
          0,
          0,
          0,
          0,
          0,
          0,
          0,
          0,
          0,
          0,
          0,
          0,
          0,
          0,
          0,
          0,
          0,
          0,
          0,
          0,
          0,
          0,
          0,
          0
         ],
         "yaxis": "y"
        },
        {
         "line": {
          "color": "rgb(0, 0, 0)",
          "width": 2
         },
         "mode": "lines",
         "name": "steer",
         "type": "scatter",
         "x": [
          0,
          0.1,
          0.2,
          0.3,
          0.4,
          0.5,
          0.6,
          0.7,
          0.8,
          0.9,
          1,
          1.1,
          1.2,
          1.3,
          1.4,
          1.5,
          1.6,
          1.7,
          1.8,
          1.9,
          2,
          2.1,
          2.2,
          2.3,
          2.4,
          2.5,
          2.6,
          2.7,
          2.8,
          2.9,
          3,
          3.1,
          3.2,
          3.3,
          3.4,
          3.5,
          3.6,
          3.7,
          3.8,
          3.9,
          4,
          4.1,
          4.2,
          4.3,
          4.4,
          4.5,
          4.6,
          4.7,
          4.8,
          4.9,
          5,
          5.1,
          5.2,
          5.3,
          5.4,
          5.5,
          5.6,
          5.7,
          5.8,
          5.9,
          6,
          6.1,
          6.2,
          6.3,
          6.4,
          6.5,
          6.6,
          6.7,
          6.8,
          6.9,
          7,
          7.1,
          7.2,
          7.3,
          7.4,
          7.5,
          7.6,
          7.7,
          7.8,
          7.9,
          8,
          8.1,
          8.2,
          8.3,
          8.4,
          8.5,
          8.6,
          8.7,
          8.8,
          8.9,
          9,
          9.1,
          9.2,
          9.3,
          9.4,
          9.5,
          9.6,
          9.7,
          9.8,
          9.9,
          10,
          10.1,
          10.2,
          10.3,
          10.4,
          10.5,
          10.6,
          10.7,
          10.8,
          10.9
         ],
         "xaxis": "x",
         "y": [
          0,
          0,
          0,
          0,
          0,
          0,
          0,
          0,
          0,
          0,
          0,
          -32.400051,
          -68.40006,
          -104.400069,
          -140.400077,
          -176.400086,
          -212.400094,
          -248.400103,
          -284.400112,
          -320.40012,
          -356.400086,
          -360,
          -360,
          -360,
          -360,
          -360,
          -360,
          -360,
          -360,
          -360,
          -360,
          -360,
          -360,
          -360,
          -360,
          -360,
          -360,
          -360,
          -360,
          -360,
          -360,
          -360,
          -360,
          -360,
          -360,
          -360,
          -360,
          -360,
          -360,
          -360,
          -360,
          -360,
          -360,
          -360,
          -360,
          -360,
          -360,
          -360,
          -360,
          -360,
          -360,
          -360,
          -360,
          -360,
          -360,
          -360,
          -360,
          -360,
          -360,
          -360,
          -360,
          -360,
          -360,
          -360,
          -360,
          -360,
          -360,
          -360,
          -360,
          -360,
          -360,
          -360,
          -360,
          -360,
          -360,
          -360,
          -360,
          -360,
          -360,
          -360,
          -360,
          -360,
          -360,
          -360,
          -360,
          -360,
          -360,
          -360,
          -360,
          -360,
          -360,
          -360,
          -360,
          -360,
          -360,
          -360,
          -360,
          -360,
          -360,
          -360
         ],
         "yaxis": "y2"
        }
       ],
       "layout": {
        "autosize": false,
        "font": {
         "color": "black",
         "family": "Arial",
         "size": 16
        },
        "height": 450,
        "legend": {
         "orientation": "h",
         "x": 0.01,
         "xanchor": "left",
         "y": 1.15,
         "yanchor": "top"
        },
        "template": {
         "data": {
          "bar": [
           {
            "error_x": {
             "color": "#2a3f5f"
            },
            "error_y": {
             "color": "#2a3f5f"
            },
            "marker": {
             "line": {
              "color": "white",
              "width": 0.5
             }
            },
            "type": "bar"
           }
          ],
          "barpolar": [
           {
            "marker": {
             "line": {
              "color": "white",
              "width": 0.5
             }
            },
            "type": "barpolar"
           }
          ],
          "carpet": [
           {
            "aaxis": {
             "endlinecolor": "#2a3f5f",
             "gridcolor": "#C8D4E3",
             "linecolor": "#C8D4E3",
             "minorgridcolor": "#C8D4E3",
             "startlinecolor": "#2a3f5f"
            },
            "baxis": {
             "endlinecolor": "#2a3f5f",
             "gridcolor": "#C8D4E3",
             "linecolor": "#C8D4E3",
             "minorgridcolor": "#C8D4E3",
             "startlinecolor": "#2a3f5f"
            },
            "type": "carpet"
           }
          ],
          "choropleth": [
           {
            "colorbar": {
             "outlinewidth": 0,
             "ticks": ""
            },
            "type": "choropleth"
           }
          ],
          "contour": [
           {
            "colorbar": {
             "outlinewidth": 0,
             "ticks": ""
            },
            "colorscale": [
             [
              0,
              "#0d0887"
             ],
             [
              0.1111111111111111,
              "#46039f"
             ],
             [
              0.2222222222222222,
              "#7201a8"
             ],
             [
              0.3333333333333333,
              "#9c179e"
             ],
             [
              0.4444444444444444,
              "#bd3786"
             ],
             [
              0.5555555555555556,
              "#d8576b"
             ],
             [
              0.6666666666666666,
              "#ed7953"
             ],
             [
              0.7777777777777778,
              "#fb9f3a"
             ],
             [
              0.8888888888888888,
              "#fdca26"
             ],
             [
              1,
              "#f0f921"
             ]
            ],
            "type": "contour"
           }
          ],
          "contourcarpet": [
           {
            "colorbar": {
             "outlinewidth": 0,
             "ticks": ""
            },
            "type": "contourcarpet"
           }
          ],
          "heatmap": [
           {
            "colorbar": {
             "outlinewidth": 0,
             "ticks": ""
            },
            "colorscale": [
             [
              0,
              "#0d0887"
             ],
             [
              0.1111111111111111,
              "#46039f"
             ],
             [
              0.2222222222222222,
              "#7201a8"
             ],
             [
              0.3333333333333333,
              "#9c179e"
             ],
             [
              0.4444444444444444,
              "#bd3786"
             ],
             [
              0.5555555555555556,
              "#d8576b"
             ],
             [
              0.6666666666666666,
              "#ed7953"
             ],
             [
              0.7777777777777778,
              "#fb9f3a"
             ],
             [
              0.8888888888888888,
              "#fdca26"
             ],
             [
              1,
              "#f0f921"
             ]
            ],
            "type": "heatmap"
           }
          ],
          "heatmapgl": [
           {
            "colorbar": {
             "outlinewidth": 0,
             "ticks": ""
            },
            "colorscale": [
             [
              0,
              "#0d0887"
             ],
             [
              0.1111111111111111,
              "#46039f"
             ],
             [
              0.2222222222222222,
              "#7201a8"
             ],
             [
              0.3333333333333333,
              "#9c179e"
             ],
             [
              0.4444444444444444,
              "#bd3786"
             ],
             [
              0.5555555555555556,
              "#d8576b"
             ],
             [
              0.6666666666666666,
              "#ed7953"
             ],
             [
              0.7777777777777778,
              "#fb9f3a"
             ],
             [
              0.8888888888888888,
              "#fdca26"
             ],
             [
              1,
              "#f0f921"
             ]
            ],
            "type": "heatmapgl"
           }
          ],
          "histogram": [
           {
            "marker": {
             "colorbar": {
              "outlinewidth": 0,
              "ticks": ""
             }
            },
            "type": "histogram"
           }
          ],
          "histogram2d": [
           {
            "colorbar": {
             "outlinewidth": 0,
             "ticks": ""
            },
            "colorscale": [
             [
              0,
              "#0d0887"
             ],
             [
              0.1111111111111111,
              "#46039f"
             ],
             [
              0.2222222222222222,
              "#7201a8"
             ],
             [
              0.3333333333333333,
              "#9c179e"
             ],
             [
              0.4444444444444444,
              "#bd3786"
             ],
             [
              0.5555555555555556,
              "#d8576b"
             ],
             [
              0.6666666666666666,
              "#ed7953"
             ],
             [
              0.7777777777777778,
              "#fb9f3a"
             ],
             [
              0.8888888888888888,
              "#fdca26"
             ],
             [
              1,
              "#f0f921"
             ]
            ],
            "type": "histogram2d"
           }
          ],
          "histogram2dcontour": [
           {
            "colorbar": {
             "outlinewidth": 0,
             "ticks": ""
            },
            "colorscale": [
             [
              0,
              "#0d0887"
             ],
             [
              0.1111111111111111,
              "#46039f"
             ],
             [
              0.2222222222222222,
              "#7201a8"
             ],
             [
              0.3333333333333333,
              "#9c179e"
             ],
             [
              0.4444444444444444,
              "#bd3786"
             ],
             [
              0.5555555555555556,
              "#d8576b"
             ],
             [
              0.6666666666666666,
              "#ed7953"
             ],
             [
              0.7777777777777778,
              "#fb9f3a"
             ],
             [
              0.8888888888888888,
              "#fdca26"
             ],
             [
              1,
              "#f0f921"
             ]
            ],
            "type": "histogram2dcontour"
           }
          ],
          "mesh3d": [
           {
            "colorbar": {
             "outlinewidth": 0,
             "ticks": ""
            },
            "type": "mesh3d"
           }
          ],
          "parcoords": [
           {
            "line": {
             "colorbar": {
              "outlinewidth": 0,
              "ticks": ""
             }
            },
            "type": "parcoords"
           }
          ],
          "pie": [
           {
            "automargin": true,
            "type": "pie"
           }
          ],
          "scatter": [
           {
            "marker": {
             "colorbar": {
              "outlinewidth": 0,
              "ticks": ""
             }
            },
            "type": "scatter"
           }
          ],
          "scatter3d": [
           {
            "line": {
             "colorbar": {
              "outlinewidth": 0,
              "ticks": ""
             }
            },
            "marker": {
             "colorbar": {
              "outlinewidth": 0,
              "ticks": ""
             }
            },
            "type": "scatter3d"
           }
          ],
          "scattercarpet": [
           {
            "marker": {
             "colorbar": {
              "outlinewidth": 0,
              "ticks": ""
             }
            },
            "type": "scattercarpet"
           }
          ],
          "scattergeo": [
           {
            "marker": {
             "colorbar": {
              "outlinewidth": 0,
              "ticks": ""
             }
            },
            "type": "scattergeo"
           }
          ],
          "scattergl": [
           {
            "marker": {
             "colorbar": {
              "outlinewidth": 0,
              "ticks": ""
             }
            },
            "type": "scattergl"
           }
          ],
          "scattermapbox": [
           {
            "marker": {
             "colorbar": {
              "outlinewidth": 0,
              "ticks": ""
             }
            },
            "type": "scattermapbox"
           }
          ],
          "scatterpolar": [
           {
            "marker": {
             "colorbar": {
              "outlinewidth": 0,
              "ticks": ""
             }
            },
            "type": "scatterpolar"
           }
          ],
          "scatterpolargl": [
           {
            "marker": {
             "colorbar": {
              "outlinewidth": 0,
              "ticks": ""
             }
            },
            "type": "scatterpolargl"
           }
          ],
          "scatterternary": [
           {
            "marker": {
             "colorbar": {
              "outlinewidth": 0,
              "ticks": ""
             }
            },
            "type": "scatterternary"
           }
          ],
          "surface": [
           {
            "colorbar": {
             "outlinewidth": 0,
             "ticks": ""
            },
            "colorscale": [
             [
              0,
              "#0d0887"
             ],
             [
              0.1111111111111111,
              "#46039f"
             ],
             [
              0.2222222222222222,
              "#7201a8"
             ],
             [
              0.3333333333333333,
              "#9c179e"
             ],
             [
              0.4444444444444444,
              "#bd3786"
             ],
             [
              0.5555555555555556,
              "#d8576b"
             ],
             [
              0.6666666666666666,
              "#ed7953"
             ],
             [
              0.7777777777777778,
              "#fb9f3a"
             ],
             [
              0.8888888888888888,
              "#fdca26"
             ],
             [
              1,
              "#f0f921"
             ]
            ],
            "type": "surface"
           }
          ],
          "table": [
           {
            "cells": {
             "fill": {
              "color": "#EBF0F8"
             },
             "line": {
              "color": "white"
             }
            },
            "header": {
             "fill": {
              "color": "#C8D4E3"
             },
             "line": {
              "color": "white"
             }
            },
            "type": "table"
           }
          ]
         },
         "layout": {
          "annotationdefaults": {
           "arrowcolor": "#2a3f5f",
           "arrowhead": 0,
           "arrowwidth": 1
          },
          "coloraxis": {
           "colorbar": {
            "outlinewidth": 0,
            "ticks": ""
           }
          },
          "colorscale": {
           "diverging": [
            [
             0,
             "#8e0152"
            ],
            [
             0.1,
             "#c51b7d"
            ],
            [
             0.2,
             "#de77ae"
            ],
            [
             0.3,
             "#f1b6da"
            ],
            [
             0.4,
             "#fde0ef"
            ],
            [
             0.5,
             "#f7f7f7"
            ],
            [
             0.6,
             "#e6f5d0"
            ],
            [
             0.7,
             "#b8e186"
            ],
            [
             0.8,
             "#7fbc41"
            ],
            [
             0.9,
             "#4d9221"
            ],
            [
             1,
             "#276419"
            ]
           ],
           "sequential": [
            [
             0,
             "#0d0887"
            ],
            [
             0.1111111111111111,
             "#46039f"
            ],
            [
             0.2222222222222222,
             "#7201a8"
            ],
            [
             0.3333333333333333,
             "#9c179e"
            ],
            [
             0.4444444444444444,
             "#bd3786"
            ],
            [
             0.5555555555555556,
             "#d8576b"
            ],
            [
             0.6666666666666666,
             "#ed7953"
            ],
            [
             0.7777777777777778,
             "#fb9f3a"
            ],
            [
             0.8888888888888888,
             "#fdca26"
            ],
            [
             1,
             "#f0f921"
            ]
           ],
           "sequentialminus": [
            [
             0,
             "#0d0887"
            ],
            [
             0.1111111111111111,
             "#46039f"
            ],
            [
             0.2222222222222222,
             "#7201a8"
            ],
            [
             0.3333333333333333,
             "#9c179e"
            ],
            [
             0.4444444444444444,
             "#bd3786"
            ],
            [
             0.5555555555555556,
             "#d8576b"
            ],
            [
             0.6666666666666666,
             "#ed7953"
            ],
            [
             0.7777777777777778,
             "#fb9f3a"
            ],
            [
             0.8888888888888888,
             "#fdca26"
            ],
            [
             1,
             "#f0f921"
            ]
           ]
          },
          "colorway": [
           "#636efa",
           "#EF553B",
           "#00cc96",
           "#ab63fa",
           "#FFA15A",
           "#19d3f3",
           "#FF6692",
           "#B6E880",
           "#FF97FF",
           "#FECB52"
          ],
          "font": {
           "color": "#2a3f5f"
          },
          "geo": {
           "bgcolor": "white",
           "lakecolor": "white",
           "landcolor": "white",
           "showlakes": true,
           "showland": true,
           "subunitcolor": "#C8D4E3"
          },
          "hoverlabel": {
           "align": "left"
          },
          "hovermode": "closest",
          "mapbox": {
           "style": "light"
          },
          "paper_bgcolor": "white",
          "plot_bgcolor": "white",
          "polar": {
           "angularaxis": {
            "gridcolor": "#EBF0F8",
            "linecolor": "#EBF0F8",
            "ticks": ""
           },
           "bgcolor": "white",
           "radialaxis": {
            "gridcolor": "#EBF0F8",
            "linecolor": "#EBF0F8",
            "ticks": ""
           }
          },
          "scene": {
           "xaxis": {
            "backgroundcolor": "white",
            "gridcolor": "#DFE8F3",
            "gridwidth": 2,
            "linecolor": "#EBF0F8",
            "showbackground": true,
            "ticks": "",
            "zerolinecolor": "#EBF0F8"
           },
           "yaxis": {
            "backgroundcolor": "white",
            "gridcolor": "#DFE8F3",
            "gridwidth": 2,
            "linecolor": "#EBF0F8",
            "showbackground": true,
            "ticks": "",
            "zerolinecolor": "#EBF0F8"
           },
           "zaxis": {
            "backgroundcolor": "white",
            "gridcolor": "#DFE8F3",
            "gridwidth": 2,
            "linecolor": "#EBF0F8",
            "showbackground": true,
            "ticks": "",
            "zerolinecolor": "#EBF0F8"
           }
          },
          "shapedefaults": {
           "line": {
            "color": "#2a3f5f"
           }
          },
          "ternary": {
           "aaxis": {
            "gridcolor": "#DFE8F3",
            "linecolor": "#A2B1C6",
            "ticks": ""
           },
           "baxis": {
            "gridcolor": "#DFE8F3",
            "linecolor": "#A2B1C6",
            "ticks": ""
           },
           "bgcolor": "white",
           "caxis": {
            "gridcolor": "#DFE8F3",
            "linecolor": "#A2B1C6",
            "ticks": ""
           }
          },
          "title": {
           "x": 0.05
          },
          "xaxis": {
           "automargin": true,
           "gridcolor": "#EBF0F8",
           "linecolor": "#EBF0F8",
           "ticks": "",
           "title": {
            "standoff": 15
           },
           "zerolinecolor": "#EBF0F8",
           "zerolinewidth": 2
          },
          "yaxis": {
           "automargin": true,
           "gridcolor": "#EBF0F8",
           "linecolor": "#EBF0F8",
           "ticks": "",
           "title": {
            "standoff": 15
           },
           "zerolinecolor": "#EBF0F8",
           "zerolinewidth": 2
          }
         }
        },
        "title": {
         "text": "Driver Inputs for Veh1"
        },
        "width": 800,
        "xaxis": {
         "anchor": "y",
         "domain": [
          0,
          0.94
         ],
         "linecolor": "black",
         "linewidth": 1,
         "showgrid": false,
         "showline": true,
         "tickcolor": "black",
         "ticklen": 10,
         "ticks": "outside",
         "tickwidth": 1,
         "title": {
          "text": "Time (s)"
         },
         "zeroline": false
        },
        "yaxis": {
         "anchor": "x",
         "autorange": "reversed",
         "domain": [
          0,
          1
         ],
         "linecolor": "black",
         "linewidth": 1,
         "showgrid": false,
         "showline": true,
         "tickcolor": "black",
         "ticklen": 10,
         "ticks": "outside",
         "tickwidth": 1,
         "title": {
          "text": "Brake | Throttle (%)"
         },
         "zeroline": false
        },
        "yaxis2": {
         "anchor": "x",
         "autorange": "reversed",
         "linecolor": "black",
         "linewidth": 1,
         "overlaying": "y",
         "showgrid": false,
         "showline": true,
         "side": "right",
         "tickcolor": "black",
         "ticklen": 10,
         "ticks": "outside",
         "tickwidth": 1,
         "title": {
          "text": "Steer Angle (deg)"
         },
         "zeroline": false
        }
       }
      },
      "text/html": [
       "<div>\n",
       "        \n",
       "        \n",
       "            <div id=\"a295b4bf-d356-400a-9e21-e3483438ad4b\" class=\"plotly-graph-div\" style=\"height:450px; width:800px;\"></div>\n",
       "            <script type=\"text/javascript\">\n",
       "                require([\"plotly\"], function(Plotly) {\n",
       "                    window.PLOTLYENV=window.PLOTLYENV || {};\n",
       "                    \n",
       "                if (document.getElementById(\"a295b4bf-d356-400a-9e21-e3483438ad4b\")) {\n",
       "                    Plotly.newPlot(\n",
       "                        'a295b4bf-d356-400a-9e21-e3483438ad4b',\n",
       "                        [{\"line\": {\"color\": \"rgb(0, 255, 0)\", \"width\": 2}, \"mode\": \"lines\", \"name\": \"throttle\", \"type\": \"scatter\", \"x\": [0.0, 0.1, 0.2, 0.3, 0.4, 0.5, 0.6, 0.7, 0.8, 0.9, 1.0, 1.1, 1.2, 1.3, 1.4, 1.5, 1.6, 1.7, 1.8, 1.9, 2.0, 2.1, 2.2, 2.3, 2.4, 2.5, 2.6, 2.7, 2.8, 2.9, 3.0, 3.1, 3.2, 3.3, 3.4, 3.5, 3.6, 3.7, 3.8, 3.9, 4.0, 4.1, 4.2, 4.3, 4.4, 4.5, 4.6, 4.7, 4.8, 4.9, 5.0, 5.1, 5.2, 5.3, 5.4, 5.5, 5.6, 5.7, 5.8, 5.9, 6.0, 6.1, 6.2, 6.3, 6.4, 6.5, 6.6, 6.7, 6.8, 6.9, 7.0, 7.1, 7.2, 7.3, 7.4, 7.5, 7.6, 7.7, 7.8, 7.9, 8.0, 8.1, 8.2, 8.3, 8.4, 8.5, 8.6, 8.7, 8.8, 8.9, 9.0, 9.1, 9.2, 9.3, 9.4, 9.5, 9.6, 9.7, 9.8, 9.9, 10.0, 10.1, 10.2, 10.3, 10.4, 10.5, 10.6, 10.7, 10.8, 10.9], \"xaxis\": \"x\", \"y\": [0, 0, 0, 0, 0, 0, 0, 0, 0, 0, 0, 0, 0, 0, 0, 0, 0, 0, 0, 0, 0, 0, 0, 0, 0, 0, 0, 0, 0, 0, 0, 0, 0, 0, 0, 0, 0, 0, 0, 0, 0, 0, 0, 0, 0, 0, 0, 0, 0, 0, 0, 0, 0, 0, 0, 0, 0, 0, 0, 0, 0, 0, 0, 0, 0, 0, 0, 0, 0, 0, 0, 0, 0, 0, 0, 0, 0, 0, 0, 0, 0, 0, 0, 0, 0, 0, 0, 0, 0, 0, 0, 0, 0, 0, 0, 0, 0, 0, 0, 0, 0, 0, 0, 0, 0, 0, 0, 0, 0, 0], \"yaxis\": \"y\"}, {\"line\": {\"color\": \"rgb(255, 0, 0)\", \"width\": 2}, \"mode\": \"lines\", \"name\": \"brake\", \"type\": \"scatter\", \"x\": [0.0, 0.1, 0.2, 0.3, 0.4, 0.5, 0.6, 0.7, 0.8, 0.9, 1.0, 1.1, 1.2, 1.3, 1.4, 1.5, 1.6, 1.7, 1.8, 1.9, 2.0, 2.1, 2.2, 2.3, 2.4, 2.5, 2.6, 2.7, 2.8, 2.9, 3.0, 3.1, 3.2, 3.3, 3.4, 3.5, 3.6, 3.7, 3.8, 3.9, 4.0, 4.1, 4.2, 4.3, 4.4, 4.5, 4.6, 4.7, 4.8, 4.9, 5.0, 5.1, 5.2, 5.3, 5.4, 5.5, 5.6, 5.7, 5.8, 5.9, 6.0, 6.1, 6.2, 6.3, 6.4, 6.5, 6.6, 6.7, 6.8, 6.9, 7.0, 7.1, 7.2, 7.3, 7.4, 7.5, 7.6, 7.7, 7.8, 7.9, 8.0, 8.1, 8.2, 8.3, 8.4, 8.5, 8.6, 8.7, 8.8, 8.9, 9.0, 9.1, 9.2, 9.3, 9.4, 9.5, 9.6, 9.7, 9.8, 9.9, 10.0, 10.1, 10.2, 10.3, 10.4, 10.5, 10.6, 10.7, 10.8, 10.9], \"xaxis\": \"x\", \"y\": [0, 0, 0, 0, 0, 0, 0, 0, 0, 0, 0, 0, 0, 0, 0, 0, 0, 0, 0, 0, 0, 0, 0, 0, 0, 0, 0, 0, 0, 0, 0, 0, 0, 0, 0, 0, 0, 0, 0, 0, 0, 0, 0, 0, 0, 0, 0, 0, 0, 0, 0, 0, 0, 0, 0, 0, 0, 0, 0, 0, 0, 0, 0, 0, 0, 0, 0, 0, 0, 0, 0, 0, 0, 0, 0, 0, 0, 0, 0, 0, 0, 0, 0, 0, 0, 0, 0, 0, 0, 0, 0, 0, 0, 0, 0, 0, 0, 0, 0, 0, 0, 0, 0, 0, 0, 0, 0, 0, 0, 0], \"yaxis\": \"y\"}, {\"line\": {\"color\": \"rgb(0, 0, 0)\", \"width\": 2}, \"mode\": \"lines\", \"name\": \"steer\", \"type\": \"scatter\", \"x\": [0.0, 0.1, 0.2, 0.3, 0.4, 0.5, 0.6, 0.7, 0.8, 0.9, 1.0, 1.1, 1.2, 1.3, 1.4, 1.5, 1.6, 1.7, 1.8, 1.9, 2.0, 2.1, 2.2, 2.3, 2.4, 2.5, 2.6, 2.7, 2.8, 2.9, 3.0, 3.1, 3.2, 3.3, 3.4, 3.5, 3.6, 3.7, 3.8, 3.9, 4.0, 4.1, 4.2, 4.3, 4.4, 4.5, 4.6, 4.7, 4.8, 4.9, 5.0, 5.1, 5.2, 5.3, 5.4, 5.5, 5.6, 5.7, 5.8, 5.9, 6.0, 6.1, 6.2, 6.3, 6.4, 6.5, 6.6, 6.7, 6.8, 6.9, 7.0, 7.1, 7.2, 7.3, 7.4, 7.5, 7.6, 7.7, 7.8, 7.9, 8.0, 8.1, 8.2, 8.3, 8.4, 8.5, 8.6, 8.7, 8.8, 8.9, 9.0, 9.1, 9.2, 9.3, 9.4, 9.5, 9.6, 9.7, 9.8, 9.9, 10.0, 10.1, 10.2, 10.3, 10.4, 10.5, 10.6, 10.7, 10.8, 10.9], \"xaxis\": \"x\", \"y\": [0.0, 0.0, 0.0, 0.0, 0.0, 0.0, 0.0, 0.0, 0.0, 0.0, 0.0, -32.400051, -68.40006, -104.400069, -140.400077, -176.400086, -212.400094, -248.400103, -284.400112, -320.40012, -356.400086, -360.0, -360.0, -360.0, -360.0, -360.0, -360.0, -360.0, -360.0, -360.0, -360.0, -360.0, -360.0, -360.0, -360.0, -360.0, -360.0, -360.0, -360.0, -360.0, -360.0, -360.0, -360.0, -360.0, -360.0, -360.0, -360.0, -360.0, -360.0, -360.0, -360.0, -360.0, -360.0, -360.0, -360.0, -360.0, -360.0, -360.0, -360.0, -360.0, -360.0, -360.0, -360.0, -360.0, -360.0, -360.0, -360.0, -360.0, -360.0, -360.0, -360.0, -360.0, -360.0, -360.0, -360.0, -360.0, -360.0, -360.0, -360.0, -360.0, -360.0, -360.0, -360.0, -360.0, -360.0, -360.0, -360.0, -360.0, -360.0, -360.0, -360.0, -360.0, -360.0, -360.0, -360.0, -360.0, -360.0, -360.0, -360.0, -360.0, -360.0, -360.0, -360.0, -360.0, -360.0, -360.0, -360.0, -360.0, -360.0, -360.0], \"yaxis\": \"y2\"}],\n",
       "                        {\"autosize\": false, \"font\": {\"color\": \"black\", \"family\": \"Arial\", \"size\": 16}, \"height\": 450, \"legend\": {\"orientation\": \"h\", \"x\": 0.01, \"xanchor\": \"left\", \"y\": 1.15, \"yanchor\": \"top\"}, \"template\": {\"data\": {\"bar\": [{\"error_x\": {\"color\": \"#2a3f5f\"}, \"error_y\": {\"color\": \"#2a3f5f\"}, \"marker\": {\"line\": {\"color\": \"white\", \"width\": 0.5}}, \"type\": \"bar\"}], \"barpolar\": [{\"marker\": {\"line\": {\"color\": \"white\", \"width\": 0.5}}, \"type\": \"barpolar\"}], \"carpet\": [{\"aaxis\": {\"endlinecolor\": \"#2a3f5f\", \"gridcolor\": \"#C8D4E3\", \"linecolor\": \"#C8D4E3\", \"minorgridcolor\": \"#C8D4E3\", \"startlinecolor\": \"#2a3f5f\"}, \"baxis\": {\"endlinecolor\": \"#2a3f5f\", \"gridcolor\": \"#C8D4E3\", \"linecolor\": \"#C8D4E3\", \"minorgridcolor\": \"#C8D4E3\", \"startlinecolor\": \"#2a3f5f\"}, \"type\": \"carpet\"}], \"choropleth\": [{\"colorbar\": {\"outlinewidth\": 0, \"ticks\": \"\"}, \"type\": \"choropleth\"}], \"contour\": [{\"colorbar\": {\"outlinewidth\": 0, \"ticks\": \"\"}, \"colorscale\": [[0.0, \"#0d0887\"], [0.1111111111111111, \"#46039f\"], [0.2222222222222222, \"#7201a8\"], [0.3333333333333333, \"#9c179e\"], [0.4444444444444444, \"#bd3786\"], [0.5555555555555556, \"#d8576b\"], [0.6666666666666666, \"#ed7953\"], [0.7777777777777778, \"#fb9f3a\"], [0.8888888888888888, \"#fdca26\"], [1.0, \"#f0f921\"]], \"type\": \"contour\"}], \"contourcarpet\": [{\"colorbar\": {\"outlinewidth\": 0, \"ticks\": \"\"}, \"type\": \"contourcarpet\"}], \"heatmap\": [{\"colorbar\": {\"outlinewidth\": 0, \"ticks\": \"\"}, \"colorscale\": [[0.0, \"#0d0887\"], [0.1111111111111111, \"#46039f\"], [0.2222222222222222, \"#7201a8\"], [0.3333333333333333, \"#9c179e\"], [0.4444444444444444, \"#bd3786\"], [0.5555555555555556, \"#d8576b\"], [0.6666666666666666, \"#ed7953\"], [0.7777777777777778, \"#fb9f3a\"], [0.8888888888888888, \"#fdca26\"], [1.0, \"#f0f921\"]], \"type\": \"heatmap\"}], \"heatmapgl\": [{\"colorbar\": {\"outlinewidth\": 0, \"ticks\": \"\"}, \"colorscale\": [[0.0, \"#0d0887\"], [0.1111111111111111, \"#46039f\"], [0.2222222222222222, \"#7201a8\"], [0.3333333333333333, \"#9c179e\"], [0.4444444444444444, \"#bd3786\"], [0.5555555555555556, \"#d8576b\"], [0.6666666666666666, \"#ed7953\"], [0.7777777777777778, \"#fb9f3a\"], [0.8888888888888888, \"#fdca26\"], [1.0, \"#f0f921\"]], \"type\": \"heatmapgl\"}], \"histogram\": [{\"marker\": {\"colorbar\": {\"outlinewidth\": 0, \"ticks\": \"\"}}, \"type\": \"histogram\"}], \"histogram2d\": [{\"colorbar\": {\"outlinewidth\": 0, \"ticks\": \"\"}, \"colorscale\": [[0.0, \"#0d0887\"], [0.1111111111111111, \"#46039f\"], [0.2222222222222222, \"#7201a8\"], [0.3333333333333333, \"#9c179e\"], [0.4444444444444444, \"#bd3786\"], [0.5555555555555556, \"#d8576b\"], [0.6666666666666666, \"#ed7953\"], [0.7777777777777778, \"#fb9f3a\"], [0.8888888888888888, \"#fdca26\"], [1.0, \"#f0f921\"]], \"type\": \"histogram2d\"}], \"histogram2dcontour\": [{\"colorbar\": {\"outlinewidth\": 0, \"ticks\": \"\"}, \"colorscale\": [[0.0, \"#0d0887\"], [0.1111111111111111, \"#46039f\"], [0.2222222222222222, \"#7201a8\"], [0.3333333333333333, \"#9c179e\"], [0.4444444444444444, \"#bd3786\"], [0.5555555555555556, \"#d8576b\"], [0.6666666666666666, \"#ed7953\"], [0.7777777777777778, \"#fb9f3a\"], [0.8888888888888888, \"#fdca26\"], [1.0, \"#f0f921\"]], \"type\": \"histogram2dcontour\"}], \"mesh3d\": [{\"colorbar\": {\"outlinewidth\": 0, \"ticks\": \"\"}, \"type\": \"mesh3d\"}], \"parcoords\": [{\"line\": {\"colorbar\": {\"outlinewidth\": 0, \"ticks\": \"\"}}, \"type\": \"parcoords\"}], \"pie\": [{\"automargin\": true, \"type\": \"pie\"}], \"scatter\": [{\"marker\": {\"colorbar\": {\"outlinewidth\": 0, \"ticks\": \"\"}}, \"type\": \"scatter\"}], \"scatter3d\": [{\"line\": {\"colorbar\": {\"outlinewidth\": 0, \"ticks\": \"\"}}, \"marker\": {\"colorbar\": {\"outlinewidth\": 0, \"ticks\": \"\"}}, \"type\": \"scatter3d\"}], \"scattercarpet\": [{\"marker\": {\"colorbar\": {\"outlinewidth\": 0, \"ticks\": \"\"}}, \"type\": \"scattercarpet\"}], \"scattergeo\": [{\"marker\": {\"colorbar\": {\"outlinewidth\": 0, \"ticks\": \"\"}}, \"type\": \"scattergeo\"}], \"scattergl\": [{\"marker\": {\"colorbar\": {\"outlinewidth\": 0, \"ticks\": \"\"}}, \"type\": \"scattergl\"}], \"scattermapbox\": [{\"marker\": {\"colorbar\": {\"outlinewidth\": 0, \"ticks\": \"\"}}, \"type\": \"scattermapbox\"}], \"scatterpolar\": [{\"marker\": {\"colorbar\": {\"outlinewidth\": 0, \"ticks\": \"\"}}, \"type\": \"scatterpolar\"}], \"scatterpolargl\": [{\"marker\": {\"colorbar\": {\"outlinewidth\": 0, \"ticks\": \"\"}}, \"type\": \"scatterpolargl\"}], \"scatterternary\": [{\"marker\": {\"colorbar\": {\"outlinewidth\": 0, \"ticks\": \"\"}}, \"type\": \"scatterternary\"}], \"surface\": [{\"colorbar\": {\"outlinewidth\": 0, \"ticks\": \"\"}, \"colorscale\": [[0.0, \"#0d0887\"], [0.1111111111111111, \"#46039f\"], [0.2222222222222222, \"#7201a8\"], [0.3333333333333333, \"#9c179e\"], [0.4444444444444444, \"#bd3786\"], [0.5555555555555556, \"#d8576b\"], [0.6666666666666666, \"#ed7953\"], [0.7777777777777778, \"#fb9f3a\"], [0.8888888888888888, \"#fdca26\"], [1.0, \"#f0f921\"]], \"type\": \"surface\"}], \"table\": [{\"cells\": {\"fill\": {\"color\": \"#EBF0F8\"}, \"line\": {\"color\": \"white\"}}, \"header\": {\"fill\": {\"color\": \"#C8D4E3\"}, \"line\": {\"color\": \"white\"}}, \"type\": \"table\"}]}, \"layout\": {\"annotationdefaults\": {\"arrowcolor\": \"#2a3f5f\", \"arrowhead\": 0, \"arrowwidth\": 1}, \"coloraxis\": {\"colorbar\": {\"outlinewidth\": 0, \"ticks\": \"\"}}, \"colorscale\": {\"diverging\": [[0, \"#8e0152\"], [0.1, \"#c51b7d\"], [0.2, \"#de77ae\"], [0.3, \"#f1b6da\"], [0.4, \"#fde0ef\"], [0.5, \"#f7f7f7\"], [0.6, \"#e6f5d0\"], [0.7, \"#b8e186\"], [0.8, \"#7fbc41\"], [0.9, \"#4d9221\"], [1, \"#276419\"]], \"sequential\": [[0.0, \"#0d0887\"], [0.1111111111111111, \"#46039f\"], [0.2222222222222222, \"#7201a8\"], [0.3333333333333333, \"#9c179e\"], [0.4444444444444444, \"#bd3786\"], [0.5555555555555556, \"#d8576b\"], [0.6666666666666666, \"#ed7953\"], [0.7777777777777778, \"#fb9f3a\"], [0.8888888888888888, \"#fdca26\"], [1.0, \"#f0f921\"]], \"sequentialminus\": [[0.0, \"#0d0887\"], [0.1111111111111111, \"#46039f\"], [0.2222222222222222, \"#7201a8\"], [0.3333333333333333, \"#9c179e\"], [0.4444444444444444, \"#bd3786\"], [0.5555555555555556, \"#d8576b\"], [0.6666666666666666, \"#ed7953\"], [0.7777777777777778, \"#fb9f3a\"], [0.8888888888888888, \"#fdca26\"], [1.0, \"#f0f921\"]]}, \"colorway\": [\"#636efa\", \"#EF553B\", \"#00cc96\", \"#ab63fa\", \"#FFA15A\", \"#19d3f3\", \"#FF6692\", \"#B6E880\", \"#FF97FF\", \"#FECB52\"], \"font\": {\"color\": \"#2a3f5f\"}, \"geo\": {\"bgcolor\": \"white\", \"lakecolor\": \"white\", \"landcolor\": \"white\", \"showlakes\": true, \"showland\": true, \"subunitcolor\": \"#C8D4E3\"}, \"hoverlabel\": {\"align\": \"left\"}, \"hovermode\": \"closest\", \"mapbox\": {\"style\": \"light\"}, \"paper_bgcolor\": \"white\", \"plot_bgcolor\": \"white\", \"polar\": {\"angularaxis\": {\"gridcolor\": \"#EBF0F8\", \"linecolor\": \"#EBF0F8\", \"ticks\": \"\"}, \"bgcolor\": \"white\", \"radialaxis\": {\"gridcolor\": \"#EBF0F8\", \"linecolor\": \"#EBF0F8\", \"ticks\": \"\"}}, \"scene\": {\"xaxis\": {\"backgroundcolor\": \"white\", \"gridcolor\": \"#DFE8F3\", \"gridwidth\": 2, \"linecolor\": \"#EBF0F8\", \"showbackground\": true, \"ticks\": \"\", \"zerolinecolor\": \"#EBF0F8\"}, \"yaxis\": {\"backgroundcolor\": \"white\", \"gridcolor\": \"#DFE8F3\", \"gridwidth\": 2, \"linecolor\": \"#EBF0F8\", \"showbackground\": true, \"ticks\": \"\", \"zerolinecolor\": \"#EBF0F8\"}, \"zaxis\": {\"backgroundcolor\": \"white\", \"gridcolor\": \"#DFE8F3\", \"gridwidth\": 2, \"linecolor\": \"#EBF0F8\", \"showbackground\": true, \"ticks\": \"\", \"zerolinecolor\": \"#EBF0F8\"}}, \"shapedefaults\": {\"line\": {\"color\": \"#2a3f5f\"}}, \"ternary\": {\"aaxis\": {\"gridcolor\": \"#DFE8F3\", \"linecolor\": \"#A2B1C6\", \"ticks\": \"\"}, \"baxis\": {\"gridcolor\": \"#DFE8F3\", \"linecolor\": \"#A2B1C6\", \"ticks\": \"\"}, \"bgcolor\": \"white\", \"caxis\": {\"gridcolor\": \"#DFE8F3\", \"linecolor\": \"#A2B1C6\", \"ticks\": \"\"}}, \"title\": {\"x\": 0.05}, \"xaxis\": {\"automargin\": true, \"gridcolor\": \"#EBF0F8\", \"linecolor\": \"#EBF0F8\", \"ticks\": \"\", \"title\": {\"standoff\": 15}, \"zerolinecolor\": \"#EBF0F8\", \"zerolinewidth\": 2}, \"yaxis\": {\"automargin\": true, \"gridcolor\": \"#EBF0F8\", \"linecolor\": \"#EBF0F8\", \"ticks\": \"\", \"title\": {\"standoff\": 15}, \"zerolinecolor\": \"#EBF0F8\", \"zerolinewidth\": 2}}}, \"title\": {\"text\": \"Driver Inputs for Veh1\"}, \"width\": 800, \"xaxis\": {\"anchor\": \"y\", \"domain\": [0.0, 0.94], \"linecolor\": \"black\", \"linewidth\": 1, \"showgrid\": false, \"showline\": true, \"tickcolor\": \"black\", \"ticklen\": 10, \"ticks\": \"outside\", \"tickwidth\": 1, \"title\": {\"text\": \"Time (s)\"}, \"zeroline\": false}, \"yaxis\": {\"anchor\": \"x\", \"autorange\": \"reversed\", \"domain\": [0.0, 1.0], \"linecolor\": \"black\", \"linewidth\": 1, \"showgrid\": false, \"showline\": true, \"tickcolor\": \"black\", \"ticklen\": 10, \"ticks\": \"outside\", \"tickwidth\": 1, \"title\": {\"text\": \"Brake | Throttle (%)\"}, \"zeroline\": false}, \"yaxis2\": {\"anchor\": \"x\", \"autorange\": \"reversed\", \"linecolor\": \"black\", \"linewidth\": 1, \"overlaying\": \"y\", \"showgrid\": false, \"showline\": true, \"side\": \"right\", \"tickcolor\": \"black\", \"ticklen\": 10, \"ticks\": \"outside\", \"tickwidth\": 1, \"title\": {\"text\": \"Steer Angle (deg)\"}, \"zeroline\": false}},\n",
       "                        {\"responsive\": true}\n",
       "                    ).then(function(){\n",
       "                            \n",
       "var gd = document.getElementById('a295b4bf-d356-400a-9e21-e3483438ad4b');\n",
       "var x = new MutationObserver(function (mutations, observer) {{\n",
       "        var display = window.getComputedStyle(gd).display;\n",
       "        if (!display || display === 'none') {{\n",
       "            console.log([gd, 'removed!']);\n",
       "            Plotly.purge(gd);\n",
       "            observer.disconnect();\n",
       "        }}\n",
       "}});\n",
       "\n",
       "// Listen for the removal of the full notebook cells\n",
       "var notebookContainer = gd.closest('#notebook-container');\n",
       "if (notebookContainer) {{\n",
       "    x.observe(notebookContainer, {childList: true});\n",
       "}}\n",
       "\n",
       "// Listen for the clearing of the current output cell\n",
       "var outputEl = gd.closest('.output');\n",
       "if (outputEl) {{\n",
       "    x.observe(outputEl, {childList: true});\n",
       "}}\n",
       "\n",
       "                        })\n",
       "                };\n",
       "                });\n",
       "            </script>\n",
       "        </div>"
      ]
     },
     "metadata": {},
     "output_type": "display_data"
    }
   ],
   "source": [
    "run.plot_inputs()"
   ]
  },
  {
   "cell_type": "markdown",
   "metadata": {},
   "source": [
    "### Plot Motion"
   ]
  },
  {
   "cell_type": "code",
   "execution_count": 38,
   "metadata": {},
   "outputs": [
    {
     "data": {
      "application/vnd.plotly.v1+json": {
       "config": {
        "plotlyServerURL": "https://plot.ly"
       },
       "data": [
        {
         "line": {
          "color": "rgb(0, 255, 0)",
          "width": 2
         },
         "mode": "lines",
         "name": "X",
         "type": "scatter",
         "x": [
          0,
          0.1,
          0.2,
          0.3,
          0.4,
          0.5,
          0.6,
          0.7,
          0.8,
          0.9,
          1,
          1.1,
          1.2,
          1.3,
          1.4,
          1.5,
          1.6,
          1.7,
          1.8,
          1.9,
          2,
          2.1,
          2.2,
          2.3,
          2.4,
          2.5,
          2.6,
          2.7,
          2.8,
          2.9,
          3,
          3.1,
          3.2,
          3.3,
          3.4,
          3.5,
          3.6,
          3.7,
          3.8,
          3.9,
          4,
          4.1,
          4.2,
          4.3,
          4.4,
          4.5,
          4.6,
          4.7,
          4.8,
          4.9,
          5,
          5.1,
          5.2,
          5.3,
          5.4,
          5.5,
          5.6,
          5.7,
          5.8,
          5.9,
          6,
          6.1,
          6.2,
          6.3,
          6.4,
          6.5,
          6.6,
          6.7,
          6.8,
          6.9,
          7,
          7.1,
          7.2,
          7.3,
          7.4,
          7.5,
          7.6,
          7.7,
          7.8,
          7.9,
          8,
          8.1,
          8.2,
          8.3,
          8.4,
          8.5,
          8.6,
          8.7,
          8.8,
          8.9,
          9,
          9.1,
          9.2,
          9.3,
          9.4,
          9.5,
          9.6,
          9.7,
          9.8,
          9.9,
          10,
          10.1,
          10.2,
          10.3,
          10.4,
          10.5,
          10.6,
          10.7,
          10.8,
          10.9
         ],
         "xaxis": "x",
         "y": [
          15,
          15,
          15,
          15,
          15,
          15,
          15,
          15,
          15,
          15,
          15,
          14.99598938704336,
          14.975786200977097,
          14.928480073072551,
          14.849292614530958,
          14.727334305469212,
          14.537444968966534,
          14.244877582894931,
          13.815403221122926,
          13.221136776930141,
          12.4113985547287,
          11.428134738179946,
          10.375197997584896,
          9.271046426675149,
          8.114710792054325,
          6.926680072201492,
          5.7448472440467615,
          4.603943815831732,
          3.5157504947618117,
          2.4592819388778047,
          1.386783510200411,
          0.262946610901003,
          -0.7959954699361673,
          -1.6256527986482314,
          -2.5356345837058165,
          -3.7114992753928777,
          -4.93357523668375,
          -6.167589051811747,
          -7.446013833252894,
          -8.786039503440337,
          -10.194100348708696,
          -11.67063079509524,
          -13.210090051011269,
          -14.800284697775233,
          -16.42155682219262,
          -18.04605475851359,
          -19.637294189185916,
          -21.150217907396726,
          -22.53198616367065,
          -23.723750037795078,
          -24.66366157337584,
          -25.29134276291115,
          -25.553957139235575,
          -25.413890302939,
          -24.85784023977026,
          -23.906838053311215,
          -22.62633952687587,
          -21.136244267122393,
          -19.65430828594621,
          -18.24900456655144,
          -16.83642022655122,
          -15.411030118211755,
          -13.977474024032922,
          -12.729915350248525,
          -11.46311727267802,
          -9.981848600534331,
          -8.485840937427911,
          -7.61469883620457,
          -6.857218031020912,
          -5.436606722145357,
          -3.874494256405956,
          -2.3064527845337617,
          -0.7250354624731176,
          0.8495747006692829,
          2.4006512247439553,
          3.9260404780041602,
          5.360178935714036,
          6.552963152312036,
          7.32008212820829,
          7.499129373727748,
          7.036049720012475,
          6.025830503710776,
          4.644262248147366,
          3.065667067487885,
          1.437520487747685,
          -0.1128039234854986,
          -1.4696783136926033,
          -2.5272050221655427,
          -3.193086208601647,
          -3.397018885295717,
          -3.1024447634214125,
          -2.3204015943851575,
          -1.0931301677829883,
          0.40884857343299646,
          1.9377260600973587,
          3.4273001600630773,
          4.916959077739098,
          6.409987508554677,
          7.706547347129455,
          8.830538401396794,
          10.165837977526163,
          11.691535573953978,
          12.647692456912472,
          13.625033197643086,
          15.192737933816787,
          16.76103750735087,
          18.33712765864086,
          19.896547838565326,
          21.440391671526093,
          22.947963266217574
         ],
         "yaxis": "y"
        },
        {
         "line": {
          "color": "rgb(0, 0, 255)",
          "width": 2
         },
         "mode": "lines",
         "name": "Y",
         "type": "scatter",
         "x": [
          0,
          0.1,
          0.2,
          0.3,
          0.4,
          0.5,
          0.6,
          0.7,
          0.8,
          0.9,
          1,
          1.1,
          1.2,
          1.3,
          1.4,
          1.5,
          1.6,
          1.7,
          1.8,
          1.9,
          2,
          2.1,
          2.2,
          2.3,
          2.4,
          2.5,
          2.6,
          2.7,
          2.8,
          2.9,
          3,
          3.1,
          3.2,
          3.3,
          3.4,
          3.5,
          3.6,
          3.7,
          3.8,
          3.9,
          4,
          4.1,
          4.2,
          4.3,
          4.4,
          4.5,
          4.6,
          4.7,
          4.8,
          4.9,
          5,
          5.1,
          5.2,
          5.3,
          5.4,
          5.5,
          5.6,
          5.7,
          5.8,
          5.9,
          6,
          6.1,
          6.2,
          6.3,
          6.4,
          6.5,
          6.6,
          6.7,
          6.8,
          6.9,
          7,
          7.1,
          7.2,
          7.3,
          7.4,
          7.5,
          7.6,
          7.7,
          7.8,
          7.9,
          8,
          8.1,
          8.2,
          8.3,
          8.4,
          8.5,
          8.6,
          8.7,
          8.8,
          8.9,
          9,
          9.1,
          9.2,
          9.3,
          9.4,
          9.5,
          9.6,
          9.7,
          9.8,
          9.9,
          10,
          10.1,
          10.2,
          10.3,
          10.4,
          10.5,
          10.6,
          10.7,
          10.8,
          10.9
         ],
         "xaxis": "x",
         "y": [
          0,
          0,
          0,
          0,
          0,
          0,
          0,
          0,
          0,
          0,
          0,
          -0.10882398290465473,
          -0.4124188225887193,
          -0.8316116999385534,
          -1.2949335519549932,
          -1.8100404254482536,
          -2.4248854328172214,
          -3.170363073778946,
          -4.039470674643945,
          -4.997751215781111,
          -5.506064277942147,
          -5.598436958216581,
          -5.425560040646679,
          -4.905331574784579,
          -4.3933481169335264,
          -3.912178397368054,
          -3.4187413838885736,
          -2.863097589761308,
          -2.2243208915130017,
          -1.532935643438258,
          -0.8662707679932051,
          -0.2831040869272789,
          0.40664065840436797,
          1.5519902404072894,
          2.857409358885976,
          3.979991800905307,
          5.064331806696732,
          6.133832234284441,
          7.150088399530712,
          8.08350937293822,
          8.909552501695092,
          9.603827037596085,
          10.14129483611755,
          10.496589326327316,
          10.64501689154399,
          10.564137620660023,
          10.235874218834965,
          9.649114070335783,
          8.802727510652668,
          7.708847855724026,
          6.39615315053959,
          4.912759924578,
          3.3281922302977436,
          1.7337352089040956,
          0.24033227818482542,
          -1.0269607051097847,
          -1.9391284689225097,
          -2.2878948043354397,
          -1.8460213117489608,
          -0.9683530695267678,
          -0.11018416983133607,
          0.7152744645236218,
          1.5147606467101686,
          2.292757872359604,
          3.0305784026544047,
          3.7346230699298757,
          4.419339841856658,
          4.898585370270874,
          5.012094064470786,
          5.251509748653867,
          5.799185153345857,
          6.333145305449599,
          6.827729528782784,
          7.214984939356789,
          7.280829377507754,
          7.391498192424464,
          7.993461526671204,
          9.020723951044134,
          10.418383600835806,
          12.019472395488085,
          13.575835602748864,
          14.857582472529403,
          15.731129373083968,
          16.148047498823555,
          16.10468916865755,
          15.621294073426212,
          14.738479234449553,
          13.520214342923163,
          12.057596594231947,
          10.470744965323105,
          8.907025527934872,
          7.5338946126773285,
          6.692074129181588,
          6.448303739583333,
          6.791818935034889,
          7.517934064858092,
          8.233948580888395,
          8.931999747942292,
          9.749553135314247,
          10.373069245507168,
          10.83933873336454,
          11.46834073972698,
          11.77215638047349,
          12.021800044519258,
          12.561706702263413,
          13.109579588737681,
          13.637522057765601,
          14.044002808718275,
          14.137043401458719,
          14.346716334803201
         ],
         "yaxis": "y"
        },
        {
         "line": {
          "color": "rgb(0, 0, 0)",
          "width": 2
         },
         "mode": "lines",
         "name": "Resultant",
         "type": "scatter",
         "x": [
          0,
          0.1,
          0.2,
          0.3,
          0.4,
          0.5,
          0.6,
          0.7,
          0.8,
          0.9,
          1,
          1.1,
          1.2,
          1.3,
          1.4,
          1.5,
          1.6,
          1.7,
          1.8,
          1.9,
          2,
          2.1,
          2.2,
          2.3,
          2.4,
          2.5,
          2.6,
          2.7,
          2.8,
          2.9,
          3,
          3.1,
          3.2,
          3.3,
          3.4,
          3.5,
          3.6,
          3.7,
          3.8,
          3.9,
          4,
          4.1,
          4.2,
          4.3,
          4.4,
          4.5,
          4.6,
          4.7,
          4.8,
          4.9,
          5,
          5.1,
          5.2,
          5.3,
          5.4,
          5.5,
          5.6,
          5.7,
          5.8,
          5.9,
          6,
          6.1,
          6.2,
          6.3,
          6.4,
          6.5,
          6.6,
          6.7,
          6.8,
          6.9,
          7,
          7.1,
          7.2,
          7.3,
          7.4,
          7.5,
          7.6,
          7.7,
          7.8,
          7.9,
          8,
          8.1,
          8.2,
          8.3,
          8.4,
          8.5,
          8.6,
          8.7,
          8.8,
          8.9,
          9,
          9.1,
          9.2,
          9.3,
          9.4,
          9.5,
          9.6,
          9.7,
          9.8,
          9.9,
          10,
          10.1,
          10.2,
          10.3,
          10.4,
          10.5,
          10.6,
          10.7,
          10.8,
          10.9
         ],
         "xaxis": "x",
         "y": [
          15,
          15,
          15,
          15,
          15,
          15,
          15,
          15,
          15,
          15,
          15,
          14.996384242729057,
          14.981463934562655,
          14.951625172923473,
          14.905648058905134,
          14.83814752881259,
          14.738296224055873,
          14.59341424654435,
          14.393842068520904,
          14.134212920751416,
          13.57790697851301,
          12.72575184298046,
          11.708178135122116,
          10.488783518794952,
          9.227677872316864,
          7.9551264374280395,
          6.6851374336915494,
          5.421588924644902,
          4.160301067211257,
          2.897923280870983,
          1.6351127018170064,
          0.3863791456836817,
          0.8938486523044256,
          2.247536591041913,
          3.8202396503798206,
          5.44201815565837,
          7.070192448889869,
          8.698451160429364,
          10.323123855020684,
          11.93891175687274,
          13.538825935065569,
          15.11413632740842,
          16.65389864592947,
          18.144608417399596,
          19.569974785005673,
          20.91078898596405,
          22.144896570010104,
          23.247303496808335,
          24.19046118011492,
          24.94479206404581,
          25.479540367345198,
          25.764068561226853,
          25.769780538369027,
          25.472959351131752,
          24.859002011140333,
          23.92888534798662,
          22.709281353764837,
          21.25971035445143,
          19.74081125188236,
          18.274678528972192,
          16.836780767008413,
          15.427620259263234,
          14.059312924511529,
          12.93473940540589,
          11.85695842371915,
          10.657612817063756,
          9.567657030493361,
          9.054268440681835,
          8.493675649332367,
          7.558772869420188,
          6.974399915814246,
          6.740063345935396,
          6.866117311847794,
          7.2648320591162046,
          7.6663943759269655,
          8.36947067403556,
          9.624289345257925,
          11.14965410568869,
          12.732883381931952,
          14.167027141563837,
          15.290824306601367,
          16.033040578363924,
          16.402365780041368,
          16.43647628273595,
          16.168719132070116,
          15.62170135592198,
          14.81157400447498,
          13.754379706211544,
          12.473228738574303,
          11.0080078777177,
          9.431875066250846,
          7.883135898495829,
          6.780766159821378,
          6.461252067047268,
          7.062831353662558,
          8.262307122754642,
          9.590328242811866,
          10.994023801914755,
          12.427576527700962,
          13.622737391237859,
          14.860535857159729,
          16.37726605387825,
          17.27853553779843,
          18.170448699668356,
          19.713339676455764,
          21.278943942692983,
          22.852401594697547,
          24.353780626087715,
          25.681635289894857,
          27.06357861885564
         ],
         "yaxis": "y"
        },
        {
         "line": {
          "color": "rgb(0, 255, 0)",
          "width": 2
         },
         "mode": "lines",
         "name": "AX",
         "showlegend": false,
         "type": "scatter",
         "x": [
          0,
          0.1,
          0.2,
          0.3,
          0.4,
          0.5,
          0.6,
          0.7,
          0.8,
          0.9,
          1,
          1.1,
          1.2,
          1.3,
          1.4,
          1.5,
          1.6,
          1.7,
          1.8,
          1.9,
          2,
          2.1,
          2.2,
          2.3,
          2.4,
          2.5,
          2.6,
          2.7,
          2.8,
          2.9,
          3,
          3.1,
          3.2,
          3.3,
          3.4,
          3.5,
          3.6,
          3.7,
          3.8,
          3.9,
          4,
          4.1,
          4.2,
          4.3,
          4.4,
          4.5,
          4.6,
          4.7,
          4.8,
          4.9,
          5,
          5.1,
          5.2,
          5.3,
          5.4,
          5.5,
          5.6,
          5.7,
          5.8,
          5.9,
          6,
          6.1,
          6.2,
          6.3,
          6.4,
          6.5,
          6.6,
          6.7,
          6.8,
          6.9,
          7,
          7.1,
          7.2,
          7.3,
          7.4,
          7.5,
          7.6,
          7.7,
          7.8,
          7.9,
          8,
          8.1,
          8.2,
          8.3,
          8.4,
          8.5,
          8.6,
          8.7,
          8.8,
          8.9,
          9,
          9.1,
          9.2,
          9.3,
          9.4,
          9.5,
          9.6,
          9.7,
          9.8,
          9.9,
          10,
          10.1,
          10.2,
          10.3,
          10.4,
          10.5,
          10.6,
          10.7,
          10.8,
          10.9
         ],
         "xaxis": "x2",
         "y": [
          0,
          0,
          0,
          0,
          0,
          0,
          0,
          0,
          0,
          0,
          0,
          -0.003653568760939135,
          -0.0147510318029155,
          -0.028343675410601264,
          -0.043794131930515214,
          -0.06730685760463527,
          -0.10567761020181171,
          -0.16084400975448662,
          -0.2303964636493307,
          -0.3109655026265899,
          -0.42668590007911594,
          -0.4690430078821023,
          -0.4901562028809674,
          -0.5156984458806467,
          -0.5376945884232802,
          -0.5445718810714743,
          -0.5320484630711949,
          -0.5072862146059093,
          -0.48403086502987946,
          -0.47838574171446596,
          -0.4986336808869458,
          -0.5251538129611674,
          -0.4395161135614738,
          -0.31628110029077633,
          -0.5126896976535763,
          -0.5584938224437297,
          -0.5547870161565712,
          -0.569368910696708,
          -0.595244303089805,
          -0.6254857898877205,
          -0.6572226572736121,
          -0.6878598953982834,
          -0.714549239306289,
          -0.734078575954148,
          -0.7428600493373108,
          -0.7370172104539174,
          -0.7125623769896728,
          -0.6656735421334615,
          -0.5930830096859614,
          -0.49258427060104154,
          -0.3636517864736412,
          -0.20815018262930746,
          -0.03108498962146361,
          0.15868239756624378,
          0.3478653950720775,
          0.5184739694085964,
          0.6480283745460163,
          0.7094113860891605,
          0.6405954744770935,
          0.6396012995134188,
          0.6472279389636794,
          0.6512670363147303,
          0.65466694918171,
          0.4818280073893229,
          0.672193568033243,
          0.6772053905835166,
          0.6856204226141809,
          0.10796838831826455,
          0.5820778058051621,
          0.712063801889564,
          0.7109818441514342,
          0.7174649791720388,
          0.7231669113538521,
          0.7112638265194795,
          0.7017283508498369,
          0.6878633610005633,
          0.6186011432039975,
          0.46799564372630553,
          0.23083068445863786,
          -0.06772309216918278,
          -0.35413096728086646,
          -0.5661536401559114,
          -0.6924207159851983,
          -0.7456402738395471,
          -0.7375608094570734,
          -0.6747462117996802,
          -0.5613326465140179,
          -0.4020479109493398,
          -0.20455330626199017,
          0.018775704444045218,
          0.24957400197172272,
          0.4628478953763541,
          0.6551658830426541,
          0.71309943396309,
          0.6796699718543139,
          0.6772950251622829,
          0.6797472386811266,
          0.680364567917808,
          0.5007692323570181,
          0.5231586928369427,
          0.6932660458721633,
          0.6966065589432293,
          0.17442860598145,
          0.7159045270666067,
          0.7122355384016417,
          0.71644640912335,
          0.7193325611825417,
          0.7012604793701389,
          0.7051428960885995,
          0.6682173714804375
         ],
         "yaxis": "y2"
        },
        {
         "line": {
          "color": "rgb(0, 0, 255)",
          "width": 2
         },
         "mode": "lines",
         "name": "AY",
         "showlegend": false,
         "type": "scatter",
         "x": [
          0,
          0.1,
          0.2,
          0.3,
          0.4,
          0.5,
          0.6,
          0.7,
          0.8,
          0.9,
          1,
          1.1,
          1.2,
          1.3,
          1.4,
          1.5,
          1.6,
          1.7,
          1.8,
          1.9,
          2,
          2.1,
          2.2,
          2.3,
          2.4,
          2.5,
          2.6,
          2.7,
          2.8,
          2.9,
          3,
          3.1,
          3.2,
          3.3,
          3.4,
          3.5,
          3.6,
          3.7,
          3.8,
          3.9,
          4,
          4.1,
          4.2,
          4.3,
          4.4,
          4.5,
          4.6,
          4.7,
          4.8,
          4.9,
          5,
          5.1,
          5.2,
          5.3,
          5.4,
          5.5,
          5.6,
          5.7,
          5.8,
          5.9,
          6,
          6.1,
          6.2,
          6.3,
          6.4,
          6.5,
          6.6,
          6.7,
          6.8,
          6.9,
          7,
          7.1,
          7.2,
          7.3,
          7.4,
          7.5,
          7.6,
          7.7,
          7.8,
          7.9,
          8,
          8.1,
          8.2,
          8.3,
          8.4,
          8.5,
          8.6,
          8.7,
          8.8,
          8.9,
          9,
          9.1,
          9.2,
          9.3,
          9.4,
          9.5,
          9.6,
          9.7,
          9.8,
          9.9,
          10,
          10.1,
          10.2,
          10.3,
          10.4,
          10.5,
          10.6,
          10.7,
          10.8,
          10.9
         ],
         "xaxis": "x2",
         "y": [
          0,
          0,
          0,
          0,
          0,
          0,
          0,
          0,
          0,
          0,
          0,
          -0.0991359447247018,
          -0.1774314114985447,
          -0.2044428850372821,
          -0.21763181104778098,
          -0.2516177530182813,
          -0.308490773042491,
          -0.37062083669001383,
          -0.4211145949625746,
          -0.4518551698011811,
          -0.0112054009315679,
          -0.07294381582501844,
          0.23043039265250162,
          0.24348481481704226,
          0.22291939519935747,
          0.21541426479759396,
          0.23409459517752992,
          0.27208309645764805,
          0.30982660541803103,
          0.3200081783048163,
          0.28730696012313095,
          0.2439433977147335,
          0.3843969287669847,
          0.6589880845474402,
          0.5302162996135132,
          0.4924284148190904,
          0.49537839033253045,
          0.4789099277606778,
          0.4468741901782963,
          0.4034491260127535,
          0.3490556414741048,
          0.28341121167490685,
          0.2062085995409189,
          0.11745585384787365,
          0.017757970423145662,
          -0.09143697677556051,
          -0.20760282667460025,
          -0.326921090716267,
          -0.4441160369175432,
          -0.5523811515881647,
          -0.6434511113018094,
          -0.7078832630591125,
          -0.7356185382887278,
          -0.7168921943618446,
          -0.6435607723450073,
          -0.5109116498964246,
          -0.3200505203838297,
          0.0023330538247723904,
          0.40020271969809157,
          0.39933124354415916,
          0.382439303111927,
          0.36953300449638715,
          0.3587790444648195,
          0.3499570989781971,
          0.3221790731755144,
          0.31918812691946324,
          0.3045718407090174,
          0.13200892895513083,
          -0.02860532863079239,
          0.24670706870582373,
          0.25221161812622533,
          0.23421281434954827,
          0.2163411253001921,
          0.1364389324802897,
          -0.07645628521142275,
          0.1772728260647723,
          0.37110081582321847,
          0.5647097307327106,
          0.7085234857641539,
          0.7500286275604772,
          0.6677795868452165,
          0.49985996688212714,
          0.29591955649449697,
          0.08388249783996343,
          -0.12338085939559808,
          -0.3169800625441215,
          -0.4872423224756911,
          -0.6225667262541286,
          -0.7098417044744085,
          -0.7357407045763554,
          -0.6887688527119682,
          -0.5621192960338581,
          -0.20475824963613964,
          -0.017310518880675196,
          0.33024432739802506,
          0.3312285157434639,
          0.3210429191796196,
          0.3148643511203425,
          0.4299064728901083,
          0.1381012124121582,
          0.2866587066908073,
          0.2863464937263338,
          -0.009577993220940405,
          0.23699716883957883,
          0.2548443825353402,
          0.24425420529398617,
          0.23668826740736756,
          0.13360559780987463,
          -0.0488479293908523,
          0.23985476240225137
         ],
         "yaxis": "y2"
        },
        {
         "line": {
          "color": "rgb(0, 0, 0)",
          "width": 2
         },
         "mode": "lines",
         "name": "AR",
         "showlegend": false,
         "type": "scatter",
         "x": [
          0,
          0.1,
          0.2,
          0.3,
          0.4,
          0.5,
          0.6,
          0.7,
          0.8,
          0.9,
          1,
          1.1,
          1.2,
          1.3,
          1.4,
          1.5,
          1.6,
          1.7,
          1.8,
          1.9,
          2,
          2.1,
          2.2,
          2.3,
          2.4,
          2.5,
          2.6,
          2.7,
          2.8,
          2.9,
          3,
          3.1,
          3.2,
          3.3,
          3.4,
          3.5,
          3.6,
          3.7,
          3.8,
          3.9,
          4,
          4.1,
          4.2,
          4.3,
          4.4,
          4.5,
          4.6,
          4.7,
          4.8,
          4.9,
          5,
          5.1,
          5.2,
          5.3,
          5.4,
          5.5,
          5.6,
          5.7,
          5.8,
          5.9,
          6,
          6.1,
          6.2,
          6.3,
          6.4,
          6.5,
          6.6,
          6.7,
          6.8,
          6.9,
          7,
          7.1,
          7.2,
          7.3,
          7.4,
          7.5,
          7.6,
          7.7,
          7.8,
          7.9,
          8,
          8.1,
          8.2,
          8.3,
          8.4,
          8.5,
          8.6,
          8.7,
          8.8,
          8.9,
          9,
          9.1,
          9.2,
          9.3,
          9.4,
          9.5,
          9.6,
          9.7,
          9.8,
          9.9,
          10,
          10.1,
          10.2,
          10.3,
          10.4,
          10.5,
          10.6,
          10.7,
          10.8,
          10.9
         ],
         "xaxis": "x2",
         "y": [
          0,
          0,
          0,
          0,
          0,
          0,
          0,
          0,
          0,
          0,
          0,
          0.09920324642444946,
          0.1780435304233673,
          0.20639829742066398,
          0.22199443950577774,
          0.2604644058495891,
          0.3260894269220021,
          0.40401806898046944,
          0.48002086678873723,
          0.5485185851909322,
          0.42683300989539513,
          0.4746810966430031,
          0.5416191180900782,
          0.570289174130286,
          0.5820726133187577,
          0.5856294384096584,
          0.581270889128083,
          0.5756461716255693,
          0.5746985329078488,
          0.5755503036726388,
          0.575483133593035,
          0.5790465512860442,
          0.5838967485143864,
          0.7309576116141403,
          0.737550032510312,
          0.7445811530176213,
          0.7437663496719654,
          0.7439997818384717,
          0.7443200401765195,
          0.7443142284223246,
          0.7441649427907006,
          0.7439577613012558,
          0.7437086808138139,
          0.7434159221310793,
          0.7430722699811783,
          0.7426675495988284,
          0.742188705616339,
          0.7416189481476475,
          0.740936239244311,
          0.7401109378150191,
          0.7391021272063857,
          0.737851755197364,
          0.7362750236520392,
          0.7342441839295101,
          0.7315605243518507,
          0.7279051936579329,
          0.7227538376340259,
          0.7094152224565619,
          0.7553309068046149,
          0.7540260369574637,
          0.7517737861484056,
          0.7488013047546719,
          0.7465327970678693,
          0.595506674882827,
          0.7454150173544235,
          0.7486575995752187,
          0.7502262125909271,
          0.1705389404210204,
          0.5827802646255513,
          0.7535908941268069,
          0.7543910677034976,
          0.7547262011775331,
          0.7548336665605367,
          0.7242318780690983,
          0.7058811811734056,
          0.7103391149781788,
          0.7213759005386519,
          0.7334282531584189,
          0.7451767137847441,
          0.7530799156618165,
          0.7558692470225589,
          0.7552416373275447,
          0.7530038723946606,
          0.7503437155166865,
          0.7478093233653681,
          0.7454923275181938,
          0.7433030477900227,
          0.741101782036389,
          0.7387268104745116,
          0.7359802384900576,
          0.7325910966742241,
          0.7281526469277722,
          0.6864169833979317,
          0.7133095098079076,
          0.7556537477039453,
          0.753950184528922,
          0.7517478729268132,
          0.7496902726355864,
          0.6599919692755742,
          0.5410794421899308,
          0.7501939912321818,
          0.7531633371534306,
          0.1746913751127179,
          0.7541133534903341,
          0.7564556308681264,
          0.7569382893932235,
          0.7572718597080818,
          0.7138744397249217,
          0.7068328119930422,
          0.7099610993535247
         ],
         "yaxis": "y2"
        }
       ],
       "layout": {
        "autosize": false,
        "font": {
         "color": "black",
         "family": "Arial",
         "size": 14
        },
        "height": 500,
        "legend": {
         "orientation": "h",
         "x": 0.01,
         "xanchor": "left",
         "y": 1.1,
         "yanchor": "top"
        },
        "template": {
         "data": {
          "bar": [
           {
            "error_x": {
             "color": "#2a3f5f"
            },
            "error_y": {
             "color": "#2a3f5f"
            },
            "marker": {
             "line": {
              "color": "white",
              "width": 0.5
             }
            },
            "type": "bar"
           }
          ],
          "barpolar": [
           {
            "marker": {
             "line": {
              "color": "white",
              "width": 0.5
             }
            },
            "type": "barpolar"
           }
          ],
          "carpet": [
           {
            "aaxis": {
             "endlinecolor": "#2a3f5f",
             "gridcolor": "#C8D4E3",
             "linecolor": "#C8D4E3",
             "minorgridcolor": "#C8D4E3",
             "startlinecolor": "#2a3f5f"
            },
            "baxis": {
             "endlinecolor": "#2a3f5f",
             "gridcolor": "#C8D4E3",
             "linecolor": "#C8D4E3",
             "minorgridcolor": "#C8D4E3",
             "startlinecolor": "#2a3f5f"
            },
            "type": "carpet"
           }
          ],
          "choropleth": [
           {
            "colorbar": {
             "outlinewidth": 0,
             "ticks": ""
            },
            "type": "choropleth"
           }
          ],
          "contour": [
           {
            "colorbar": {
             "outlinewidth": 0,
             "ticks": ""
            },
            "colorscale": [
             [
              0,
              "#0d0887"
             ],
             [
              0.1111111111111111,
              "#46039f"
             ],
             [
              0.2222222222222222,
              "#7201a8"
             ],
             [
              0.3333333333333333,
              "#9c179e"
             ],
             [
              0.4444444444444444,
              "#bd3786"
             ],
             [
              0.5555555555555556,
              "#d8576b"
             ],
             [
              0.6666666666666666,
              "#ed7953"
             ],
             [
              0.7777777777777778,
              "#fb9f3a"
             ],
             [
              0.8888888888888888,
              "#fdca26"
             ],
             [
              1,
              "#f0f921"
             ]
            ],
            "type": "contour"
           }
          ],
          "contourcarpet": [
           {
            "colorbar": {
             "outlinewidth": 0,
             "ticks": ""
            },
            "type": "contourcarpet"
           }
          ],
          "heatmap": [
           {
            "colorbar": {
             "outlinewidth": 0,
             "ticks": ""
            },
            "colorscale": [
             [
              0,
              "#0d0887"
             ],
             [
              0.1111111111111111,
              "#46039f"
             ],
             [
              0.2222222222222222,
              "#7201a8"
             ],
             [
              0.3333333333333333,
              "#9c179e"
             ],
             [
              0.4444444444444444,
              "#bd3786"
             ],
             [
              0.5555555555555556,
              "#d8576b"
             ],
             [
              0.6666666666666666,
              "#ed7953"
             ],
             [
              0.7777777777777778,
              "#fb9f3a"
             ],
             [
              0.8888888888888888,
              "#fdca26"
             ],
             [
              1,
              "#f0f921"
             ]
            ],
            "type": "heatmap"
           }
          ],
          "heatmapgl": [
           {
            "colorbar": {
             "outlinewidth": 0,
             "ticks": ""
            },
            "colorscale": [
             [
              0,
              "#0d0887"
             ],
             [
              0.1111111111111111,
              "#46039f"
             ],
             [
              0.2222222222222222,
              "#7201a8"
             ],
             [
              0.3333333333333333,
              "#9c179e"
             ],
             [
              0.4444444444444444,
              "#bd3786"
             ],
             [
              0.5555555555555556,
              "#d8576b"
             ],
             [
              0.6666666666666666,
              "#ed7953"
             ],
             [
              0.7777777777777778,
              "#fb9f3a"
             ],
             [
              0.8888888888888888,
              "#fdca26"
             ],
             [
              1,
              "#f0f921"
             ]
            ],
            "type": "heatmapgl"
           }
          ],
          "histogram": [
           {
            "marker": {
             "colorbar": {
              "outlinewidth": 0,
              "ticks": ""
             }
            },
            "type": "histogram"
           }
          ],
          "histogram2d": [
           {
            "colorbar": {
             "outlinewidth": 0,
             "ticks": ""
            },
            "colorscale": [
             [
              0,
              "#0d0887"
             ],
             [
              0.1111111111111111,
              "#46039f"
             ],
             [
              0.2222222222222222,
              "#7201a8"
             ],
             [
              0.3333333333333333,
              "#9c179e"
             ],
             [
              0.4444444444444444,
              "#bd3786"
             ],
             [
              0.5555555555555556,
              "#d8576b"
             ],
             [
              0.6666666666666666,
              "#ed7953"
             ],
             [
              0.7777777777777778,
              "#fb9f3a"
             ],
             [
              0.8888888888888888,
              "#fdca26"
             ],
             [
              1,
              "#f0f921"
             ]
            ],
            "type": "histogram2d"
           }
          ],
          "histogram2dcontour": [
           {
            "colorbar": {
             "outlinewidth": 0,
             "ticks": ""
            },
            "colorscale": [
             [
              0,
              "#0d0887"
             ],
             [
              0.1111111111111111,
              "#46039f"
             ],
             [
              0.2222222222222222,
              "#7201a8"
             ],
             [
              0.3333333333333333,
              "#9c179e"
             ],
             [
              0.4444444444444444,
              "#bd3786"
             ],
             [
              0.5555555555555556,
              "#d8576b"
             ],
             [
              0.6666666666666666,
              "#ed7953"
             ],
             [
              0.7777777777777778,
              "#fb9f3a"
             ],
             [
              0.8888888888888888,
              "#fdca26"
             ],
             [
              1,
              "#f0f921"
             ]
            ],
            "type": "histogram2dcontour"
           }
          ],
          "mesh3d": [
           {
            "colorbar": {
             "outlinewidth": 0,
             "ticks": ""
            },
            "type": "mesh3d"
           }
          ],
          "parcoords": [
           {
            "line": {
             "colorbar": {
              "outlinewidth": 0,
              "ticks": ""
             }
            },
            "type": "parcoords"
           }
          ],
          "pie": [
           {
            "automargin": true,
            "type": "pie"
           }
          ],
          "scatter": [
           {
            "marker": {
             "colorbar": {
              "outlinewidth": 0,
              "ticks": ""
             }
            },
            "type": "scatter"
           }
          ],
          "scatter3d": [
           {
            "line": {
             "colorbar": {
              "outlinewidth": 0,
              "ticks": ""
             }
            },
            "marker": {
             "colorbar": {
              "outlinewidth": 0,
              "ticks": ""
             }
            },
            "type": "scatter3d"
           }
          ],
          "scattercarpet": [
           {
            "marker": {
             "colorbar": {
              "outlinewidth": 0,
              "ticks": ""
             }
            },
            "type": "scattercarpet"
           }
          ],
          "scattergeo": [
           {
            "marker": {
             "colorbar": {
              "outlinewidth": 0,
              "ticks": ""
             }
            },
            "type": "scattergeo"
           }
          ],
          "scattergl": [
           {
            "marker": {
             "colorbar": {
              "outlinewidth": 0,
              "ticks": ""
             }
            },
            "type": "scattergl"
           }
          ],
          "scattermapbox": [
           {
            "marker": {
             "colorbar": {
              "outlinewidth": 0,
              "ticks": ""
             }
            },
            "type": "scattermapbox"
           }
          ],
          "scatterpolar": [
           {
            "marker": {
             "colorbar": {
              "outlinewidth": 0,
              "ticks": ""
             }
            },
            "type": "scatterpolar"
           }
          ],
          "scatterpolargl": [
           {
            "marker": {
             "colorbar": {
              "outlinewidth": 0,
              "ticks": ""
             }
            },
            "type": "scatterpolargl"
           }
          ],
          "scatterternary": [
           {
            "marker": {
             "colorbar": {
              "outlinewidth": 0,
              "ticks": ""
             }
            },
            "type": "scatterternary"
           }
          ],
          "surface": [
           {
            "colorbar": {
             "outlinewidth": 0,
             "ticks": ""
            },
            "colorscale": [
             [
              0,
              "#0d0887"
             ],
             [
              0.1111111111111111,
              "#46039f"
             ],
             [
              0.2222222222222222,
              "#7201a8"
             ],
             [
              0.3333333333333333,
              "#9c179e"
             ],
             [
              0.4444444444444444,
              "#bd3786"
             ],
             [
              0.5555555555555556,
              "#d8576b"
             ],
             [
              0.6666666666666666,
              "#ed7953"
             ],
             [
              0.7777777777777778,
              "#fb9f3a"
             ],
             [
              0.8888888888888888,
              "#fdca26"
             ],
             [
              1,
              "#f0f921"
             ]
            ],
            "type": "surface"
           }
          ],
          "table": [
           {
            "cells": {
             "fill": {
              "color": "#EBF0F8"
             },
             "line": {
              "color": "white"
             }
            },
            "header": {
             "fill": {
              "color": "#C8D4E3"
             },
             "line": {
              "color": "white"
             }
            },
            "type": "table"
           }
          ]
         },
         "layout": {
          "annotationdefaults": {
           "arrowcolor": "#2a3f5f",
           "arrowhead": 0,
           "arrowwidth": 1
          },
          "coloraxis": {
           "colorbar": {
            "outlinewidth": 0,
            "ticks": ""
           }
          },
          "colorscale": {
           "diverging": [
            [
             0,
             "#8e0152"
            ],
            [
             0.1,
             "#c51b7d"
            ],
            [
             0.2,
             "#de77ae"
            ],
            [
             0.3,
             "#f1b6da"
            ],
            [
             0.4,
             "#fde0ef"
            ],
            [
             0.5,
             "#f7f7f7"
            ],
            [
             0.6,
             "#e6f5d0"
            ],
            [
             0.7,
             "#b8e186"
            ],
            [
             0.8,
             "#7fbc41"
            ],
            [
             0.9,
             "#4d9221"
            ],
            [
             1,
             "#276419"
            ]
           ],
           "sequential": [
            [
             0,
             "#0d0887"
            ],
            [
             0.1111111111111111,
             "#46039f"
            ],
            [
             0.2222222222222222,
             "#7201a8"
            ],
            [
             0.3333333333333333,
             "#9c179e"
            ],
            [
             0.4444444444444444,
             "#bd3786"
            ],
            [
             0.5555555555555556,
             "#d8576b"
            ],
            [
             0.6666666666666666,
             "#ed7953"
            ],
            [
             0.7777777777777778,
             "#fb9f3a"
            ],
            [
             0.8888888888888888,
             "#fdca26"
            ],
            [
             1,
             "#f0f921"
            ]
           ],
           "sequentialminus": [
            [
             0,
             "#0d0887"
            ],
            [
             0.1111111111111111,
             "#46039f"
            ],
            [
             0.2222222222222222,
             "#7201a8"
            ],
            [
             0.3333333333333333,
             "#9c179e"
            ],
            [
             0.4444444444444444,
             "#bd3786"
            ],
            [
             0.5555555555555556,
             "#d8576b"
            ],
            [
             0.6666666666666666,
             "#ed7953"
            ],
            [
             0.7777777777777778,
             "#fb9f3a"
            ],
            [
             0.8888888888888888,
             "#fdca26"
            ],
            [
             1,
             "#f0f921"
            ]
           ]
          },
          "colorway": [
           "#636efa",
           "#EF553B",
           "#00cc96",
           "#ab63fa",
           "#FFA15A",
           "#19d3f3",
           "#FF6692",
           "#B6E880",
           "#FF97FF",
           "#FECB52"
          ],
          "font": {
           "color": "#2a3f5f"
          },
          "geo": {
           "bgcolor": "white",
           "lakecolor": "white",
           "landcolor": "white",
           "showlakes": true,
           "showland": true,
           "subunitcolor": "#C8D4E3"
          },
          "hoverlabel": {
           "align": "left"
          },
          "hovermode": "closest",
          "mapbox": {
           "style": "light"
          },
          "paper_bgcolor": "white",
          "plot_bgcolor": "white",
          "polar": {
           "angularaxis": {
            "gridcolor": "#EBF0F8",
            "linecolor": "#EBF0F8",
            "ticks": ""
           },
           "bgcolor": "white",
           "radialaxis": {
            "gridcolor": "#EBF0F8",
            "linecolor": "#EBF0F8",
            "ticks": ""
           }
          },
          "scene": {
           "xaxis": {
            "backgroundcolor": "white",
            "gridcolor": "#DFE8F3",
            "gridwidth": 2,
            "linecolor": "#EBF0F8",
            "showbackground": true,
            "ticks": "",
            "zerolinecolor": "#EBF0F8"
           },
           "yaxis": {
            "backgroundcolor": "white",
            "gridcolor": "#DFE8F3",
            "gridwidth": 2,
            "linecolor": "#EBF0F8",
            "showbackground": true,
            "ticks": "",
            "zerolinecolor": "#EBF0F8"
           },
           "zaxis": {
            "backgroundcolor": "white",
            "gridcolor": "#DFE8F3",
            "gridwidth": 2,
            "linecolor": "#EBF0F8",
            "showbackground": true,
            "ticks": "",
            "zerolinecolor": "#EBF0F8"
           }
          },
          "shapedefaults": {
           "line": {
            "color": "#2a3f5f"
           }
          },
          "ternary": {
           "aaxis": {
            "gridcolor": "#DFE8F3",
            "linecolor": "#A2B1C6",
            "ticks": ""
           },
           "baxis": {
            "gridcolor": "#DFE8F3",
            "linecolor": "#A2B1C6",
            "ticks": ""
           },
           "bgcolor": "white",
           "caxis": {
            "gridcolor": "#DFE8F3",
            "linecolor": "#A2B1C6",
            "ticks": ""
           }
          },
          "title": {
           "x": 0.05
          },
          "xaxis": {
           "automargin": true,
           "gridcolor": "#EBF0F8",
           "linecolor": "#EBF0F8",
           "ticks": "",
           "title": {
            "standoff": 15
           },
           "zerolinecolor": "#EBF0F8",
           "zerolinewidth": 2
          },
          "yaxis": {
           "automargin": true,
           "gridcolor": "#EBF0F8",
           "linecolor": "#EBF0F8",
           "ticks": "",
           "title": {
            "standoff": 15
           },
           "zerolinecolor": "#EBF0F8",
           "zerolinewidth": 2
          }
         }
        },
        "title": {
         "text": "Veh1 - Inertial Frame Velocity | Acceleration"
        },
        "width": 900,
        "xaxis": {
         "anchor": "y",
         "domain": [
          0,
          1
         ],
         "linecolor": "black",
         "linewidth": 1,
         "matches": "x2",
         "showgrid": false,
         "showline": true,
         "showticklabels": false,
         "tickcolor": "black",
         "ticklen": 10,
         "ticks": "outside",
         "tickwidth": 1,
         "title": {
          "text": ""
         },
         "zeroline": false
        },
        "xaxis2": {
         "anchor": "y2",
         "domain": [
          0,
          1
         ],
         "linecolor": "black",
         "linewidth": 1,
         "showgrid": false,
         "showline": true,
         "tickcolor": "black",
         "ticklen": 10,
         "ticks": "outside",
         "tickwidth": 1,
         "title": {
          "text": "Time (s)"
         },
         "zeroline": false
        },
        "yaxis": {
         "anchor": "x",
         "domain": [
          0.525,
          1
         ],
         "linecolor": "black",
         "linewidth": 1,
         "showgrid": false,
         "showline": true,
         "tickcolor": "black",
         "ticklen": 10,
         "ticks": "outside",
         "tickwidth": 1,
         "title": {
          "text": "Velocity (mph)"
         },
         "zeroline": false
        },
        "yaxis2": {
         "anchor": "x2",
         "domain": [
          0,
          0.475
         ],
         "linecolor": "black",
         "linewidth": 1,
         "showgrid": false,
         "showline": true,
         "tickcolor": "black",
         "ticklen": 10,
         "ticks": "outside",
         "tickwidth": 1,
         "title": {
          "text": "Acceleration (g)"
         },
         "zeroline": false
        }
       }
      },
      "text/html": [
       "<div>\n",
       "        \n",
       "        \n",
       "            <div id=\"50459e8f-dde0-48ca-901f-64119004a073\" class=\"plotly-graph-div\" style=\"height:500px; width:900px;\"></div>\n",
       "            <script type=\"text/javascript\">\n",
       "                require([\"plotly\"], function(Plotly) {\n",
       "                    window.PLOTLYENV=window.PLOTLYENV || {};\n",
       "                    \n",
       "                if (document.getElementById(\"50459e8f-dde0-48ca-901f-64119004a073\")) {\n",
       "                    Plotly.newPlot(\n",
       "                        '50459e8f-dde0-48ca-901f-64119004a073',\n",
       "                        [{\"line\": {\"color\": \"rgb(0, 255, 0)\", \"width\": 2}, \"mode\": \"lines\", \"name\": \"X\", \"type\": \"scatter\", \"x\": [0.0, 0.1, 0.2, 0.3, 0.4, 0.5, 0.6, 0.7, 0.8, 0.9, 1.0, 1.1, 1.2, 1.3, 1.4, 1.5, 1.6, 1.7, 1.8, 1.9, 2.0, 2.1, 2.2, 2.3, 2.4, 2.5, 2.6, 2.7, 2.8, 2.9, 3.0, 3.1, 3.2, 3.3, 3.4, 3.5, 3.6, 3.7, 3.8, 3.9, 4.0, 4.1, 4.2, 4.3, 4.4, 4.5, 4.6, 4.7, 4.8, 4.9, 5.0, 5.1, 5.2, 5.3, 5.4, 5.5, 5.6, 5.7, 5.8, 5.9, 6.0, 6.1, 6.2, 6.3, 6.4, 6.5, 6.6, 6.7, 6.8, 6.9, 7.0, 7.1, 7.2, 7.3, 7.4, 7.5, 7.6, 7.7, 7.8, 7.9, 8.0, 8.1, 8.2, 8.3, 8.4, 8.5, 8.6, 8.7, 8.8, 8.9, 9.0, 9.1, 9.2, 9.3, 9.4, 9.5, 9.6, 9.7, 9.8, 9.9, 10.0, 10.1, 10.2, 10.3, 10.4, 10.5, 10.6, 10.7, 10.8, 10.9], \"xaxis\": \"x\", \"y\": [15.0, 15.0, 15.0, 15.0, 15.0, 15.0, 15.0, 15.0, 15.0, 15.0, 15.0, 14.99598938704336, 14.975786200977097, 14.928480073072551, 14.849292614530958, 14.727334305469212, 14.537444968966534, 14.244877582894931, 13.815403221122926, 13.221136776930141, 12.4113985547287, 11.428134738179946, 10.375197997584896, 9.271046426675149, 8.114710792054325, 6.926680072201492, 5.7448472440467615, 4.603943815831732, 3.5157504947618117, 2.4592819388778047, 1.386783510200411, 0.262946610901003, -0.7959954699361673, -1.6256527986482314, -2.5356345837058165, -3.7114992753928777, -4.93357523668375, -6.167589051811747, -7.446013833252894, -8.786039503440337, -10.194100348708696, -11.67063079509524, -13.210090051011269, -14.800284697775233, -16.42155682219262, -18.04605475851359, -19.637294189185916, -21.150217907396726, -22.53198616367065, -23.723750037795078, -24.66366157337584, -25.29134276291115, -25.553957139235575, -25.413890302939, -24.85784023977026, -23.906838053311215, -22.62633952687587, -21.136244267122393, -19.65430828594621, -18.24900456655144, -16.83642022655122, -15.411030118211755, -13.977474024032922, -12.729915350248525, -11.46311727267802, -9.981848600534331, -8.485840937427911, -7.61469883620457, -6.857218031020912, -5.436606722145357, -3.874494256405956, -2.3064527845337617, -0.7250354624731176, 0.8495747006692829, 2.4006512247439553, 3.9260404780041602, 5.360178935714036, 6.552963152312036, 7.32008212820829, 7.499129373727748, 7.036049720012475, 6.025830503710776, 4.644262248147366, 3.065667067487885, 1.437520487747685, -0.1128039234854986, -1.4696783136926033, -2.5272050221655427, -3.193086208601647, -3.397018885295717, -3.1024447634214125, -2.3204015943851575, -1.0931301677829883, 0.40884857343299646, 1.9377260600973587, 3.4273001600630773, 4.916959077739098, 6.409987508554677, 7.706547347129455, 8.830538401396794, 10.165837977526163, 11.691535573953978, 12.647692456912472, 13.625033197643086, 15.192737933816787, 16.76103750735087, 18.33712765864086, 19.896547838565326, 21.440391671526093, 22.947963266217574], \"yaxis\": \"y\"}, {\"line\": {\"color\": \"rgb(0, 0, 255)\", \"width\": 2}, \"mode\": \"lines\", \"name\": \"Y\", \"type\": \"scatter\", \"x\": [0.0, 0.1, 0.2, 0.3, 0.4, 0.5, 0.6, 0.7, 0.8, 0.9, 1.0, 1.1, 1.2, 1.3, 1.4, 1.5, 1.6, 1.7, 1.8, 1.9, 2.0, 2.1, 2.2, 2.3, 2.4, 2.5, 2.6, 2.7, 2.8, 2.9, 3.0, 3.1, 3.2, 3.3, 3.4, 3.5, 3.6, 3.7, 3.8, 3.9, 4.0, 4.1, 4.2, 4.3, 4.4, 4.5, 4.6, 4.7, 4.8, 4.9, 5.0, 5.1, 5.2, 5.3, 5.4, 5.5, 5.6, 5.7, 5.8, 5.9, 6.0, 6.1, 6.2, 6.3, 6.4, 6.5, 6.6, 6.7, 6.8, 6.9, 7.0, 7.1, 7.2, 7.3, 7.4, 7.5, 7.6, 7.7, 7.8, 7.9, 8.0, 8.1, 8.2, 8.3, 8.4, 8.5, 8.6, 8.7, 8.8, 8.9, 9.0, 9.1, 9.2, 9.3, 9.4, 9.5, 9.6, 9.7, 9.8, 9.9, 10.0, 10.1, 10.2, 10.3, 10.4, 10.5, 10.6, 10.7, 10.8, 10.9], \"xaxis\": \"x\", \"y\": [0.0, 0.0, 0.0, 0.0, 0.0, 0.0, 0.0, 0.0, 0.0, 0.0, 0.0, -0.10882398290465473, -0.4124188225887193, -0.8316116999385534, -1.2949335519549932, -1.8100404254482536, -2.4248854328172214, -3.170363073778946, -4.039470674643945, -4.997751215781111, -5.506064277942147, -5.598436958216581, -5.425560040646679, -4.905331574784579, -4.3933481169335264, -3.912178397368054, -3.4187413838885736, -2.863097589761308, -2.2243208915130017, -1.532935643438258, -0.8662707679932051, -0.2831040869272789, 0.40664065840436797, 1.5519902404072894, 2.857409358885976, 3.979991800905307, 5.064331806696732, 6.133832234284441, 7.150088399530712, 8.08350937293822, 8.909552501695092, 9.603827037596085, 10.14129483611755, 10.496589326327316, 10.64501689154399, 10.564137620660023, 10.235874218834965, 9.649114070335783, 8.802727510652668, 7.708847855724026, 6.39615315053959, 4.912759924578, 3.3281922302977436, 1.7337352089040956, 0.24033227818482542, -1.0269607051097847, -1.9391284689225097, -2.2878948043354397, -1.8460213117489608, -0.9683530695267678, -0.11018416983133607, 0.7152744645236218, 1.5147606467101686, 2.292757872359604, 3.0305784026544047, 3.7346230699298757, 4.419339841856658, 4.898585370270874, 5.012094064470786, 5.251509748653867, 5.799185153345857, 6.333145305449599, 6.827729528782784, 7.214984939356789, 7.280829377507754, 7.391498192424464, 7.993461526671204, 9.020723951044134, 10.418383600835806, 12.019472395488085, 13.575835602748864, 14.857582472529403, 15.731129373083968, 16.148047498823555, 16.10468916865755, 15.621294073426212, 14.738479234449553, 13.520214342923163, 12.057596594231947, 10.470744965323105, 8.907025527934872, 7.5338946126773285, 6.692074129181588, 6.448303739583333, 6.791818935034889, 7.517934064858092, 8.233948580888395, 8.931999747942292, 9.749553135314247, 10.373069245507168, 10.83933873336454, 11.46834073972698, 11.77215638047349, 12.021800044519258, 12.561706702263413, 13.109579588737681, 13.637522057765601, 14.044002808718275, 14.137043401458719, 14.346716334803201], \"yaxis\": \"y\"}, {\"line\": {\"color\": \"rgb(0, 0, 0)\", \"width\": 2}, \"mode\": \"lines\", \"name\": \"Resultant\", \"type\": \"scatter\", \"x\": [0.0, 0.1, 0.2, 0.3, 0.4, 0.5, 0.6, 0.7, 0.8, 0.9, 1.0, 1.1, 1.2, 1.3, 1.4, 1.5, 1.6, 1.7, 1.8, 1.9, 2.0, 2.1, 2.2, 2.3, 2.4, 2.5, 2.6, 2.7, 2.8, 2.9, 3.0, 3.1, 3.2, 3.3, 3.4, 3.5, 3.6, 3.7, 3.8, 3.9, 4.0, 4.1, 4.2, 4.3, 4.4, 4.5, 4.6, 4.7, 4.8, 4.9, 5.0, 5.1, 5.2, 5.3, 5.4, 5.5, 5.6, 5.7, 5.8, 5.9, 6.0, 6.1, 6.2, 6.3, 6.4, 6.5, 6.6, 6.7, 6.8, 6.9, 7.0, 7.1, 7.2, 7.3, 7.4, 7.5, 7.6, 7.7, 7.8, 7.9, 8.0, 8.1, 8.2, 8.3, 8.4, 8.5, 8.6, 8.7, 8.8, 8.9, 9.0, 9.1, 9.2, 9.3, 9.4, 9.5, 9.6, 9.7, 9.8, 9.9, 10.0, 10.1, 10.2, 10.3, 10.4, 10.5, 10.6, 10.7, 10.8, 10.9], \"xaxis\": \"x\", \"y\": [15.0, 15.0, 15.0, 15.0, 15.0, 15.0, 15.0, 15.0, 15.0, 15.0, 15.0, 14.996384242729057, 14.981463934562655, 14.951625172923473, 14.905648058905134, 14.83814752881259, 14.738296224055873, 14.59341424654435, 14.393842068520904, 14.134212920751416, 13.57790697851301, 12.72575184298046, 11.708178135122116, 10.488783518794952, 9.227677872316864, 7.9551264374280395, 6.6851374336915494, 5.421588924644902, 4.160301067211257, 2.897923280870983, 1.6351127018170064, 0.3863791456836817, 0.8938486523044256, 2.247536591041913, 3.8202396503798206, 5.44201815565837, 7.070192448889869, 8.698451160429364, 10.323123855020684, 11.93891175687274, 13.538825935065569, 15.11413632740842, 16.65389864592947, 18.144608417399596, 19.569974785005673, 20.91078898596405, 22.144896570010104, 23.247303496808335, 24.19046118011492, 24.94479206404581, 25.479540367345198, 25.764068561226853, 25.769780538369027, 25.472959351131752, 24.859002011140333, 23.92888534798662, 22.709281353764837, 21.25971035445143, 19.74081125188236, 18.274678528972192, 16.836780767008413, 15.427620259263234, 14.059312924511529, 12.93473940540589, 11.85695842371915, 10.657612817063756, 9.567657030493361, 9.054268440681835, 8.493675649332367, 7.558772869420188, 6.974399915814246, 6.740063345935396, 6.866117311847794, 7.2648320591162046, 7.6663943759269655, 8.36947067403556, 9.624289345257925, 11.14965410568869, 12.732883381931952, 14.167027141563837, 15.290824306601367, 16.033040578363924, 16.402365780041368, 16.43647628273595, 16.168719132070116, 15.62170135592198, 14.81157400447498, 13.754379706211544, 12.473228738574303, 11.0080078777177, 9.431875066250846, 7.883135898495829, 6.780766159821378, 6.461252067047268, 7.062831353662558, 8.262307122754642, 9.590328242811866, 10.994023801914755, 12.427576527700962, 13.622737391237859, 14.860535857159729, 16.37726605387825, 17.27853553779843, 18.170448699668356, 19.713339676455764, 21.278943942692983, 22.852401594697547, 24.353780626087715, 25.681635289894857, 27.06357861885564], \"yaxis\": \"y\"}, {\"line\": {\"color\": \"rgb(0, 255, 0)\", \"width\": 2}, \"mode\": \"lines\", \"name\": \"AX\", \"showlegend\": false, \"type\": \"scatter\", \"x\": [0.0, 0.1, 0.2, 0.3, 0.4, 0.5, 0.6, 0.7, 0.8, 0.9, 1.0, 1.1, 1.2, 1.3, 1.4, 1.5, 1.6, 1.7, 1.8, 1.9, 2.0, 2.1, 2.2, 2.3, 2.4, 2.5, 2.6, 2.7, 2.8, 2.9, 3.0, 3.1, 3.2, 3.3, 3.4, 3.5, 3.6, 3.7, 3.8, 3.9, 4.0, 4.1, 4.2, 4.3, 4.4, 4.5, 4.6, 4.7, 4.8, 4.9, 5.0, 5.1, 5.2, 5.3, 5.4, 5.5, 5.6, 5.7, 5.8, 5.9, 6.0, 6.1, 6.2, 6.3, 6.4, 6.5, 6.6, 6.7, 6.8, 6.9, 7.0, 7.1, 7.2, 7.3, 7.4, 7.5, 7.6, 7.7, 7.8, 7.9, 8.0, 8.1, 8.2, 8.3, 8.4, 8.5, 8.6, 8.7, 8.8, 8.9, 9.0, 9.1, 9.2, 9.3, 9.4, 9.5, 9.6, 9.7, 9.8, 9.9, 10.0, 10.1, 10.2, 10.3, 10.4, 10.5, 10.6, 10.7, 10.8, 10.9], \"xaxis\": \"x2\", \"y\": [0.0, 0.0, 0.0, 0.0, 0.0, 0.0, 0.0, 0.0, 0.0, 0.0, 0.0, -0.003653568760939135, -0.0147510318029155, -0.028343675410601264, -0.043794131930515214, -0.06730685760463527, -0.10567761020181171, -0.16084400975448662, -0.2303964636493307, -0.3109655026265899, -0.42668590007911594, -0.4690430078821023, -0.4901562028809674, -0.5156984458806467, -0.5376945884232802, -0.5445718810714743, -0.5320484630711949, -0.5072862146059093, -0.48403086502987946, -0.47838574171446596, -0.4986336808869458, -0.5251538129611674, -0.4395161135614738, -0.31628110029077633, -0.5126896976535763, -0.5584938224437297, -0.5547870161565712, -0.569368910696708, -0.595244303089805, -0.6254857898877205, -0.6572226572736121, -0.6878598953982834, -0.714549239306289, -0.734078575954148, -0.7428600493373108, -0.7370172104539174, -0.7125623769896728, -0.6656735421334615, -0.5930830096859614, -0.49258427060104154, -0.3636517864736412, -0.20815018262930746, -0.03108498962146361, 0.15868239756624378, 0.3478653950720775, 0.5184739694085964, 0.6480283745460163, 0.7094113860891605, 0.6405954744770935, 0.6396012995134188, 0.6472279389636794, 0.6512670363147303, 0.65466694918171, 0.4818280073893229, 0.672193568033243, 0.6772053905835166, 0.6856204226141809, 0.10796838831826455, 0.5820778058051621, 0.712063801889564, 0.7109818441514342, 0.7174649791720388, 0.7231669113538521, 0.7112638265194795, 0.7017283508498369, 0.6878633610005633, 0.6186011432039975, 0.46799564372630553, 0.23083068445863786, -0.06772309216918278, -0.35413096728086646, -0.5661536401559114, -0.6924207159851983, -0.7456402738395471, -0.7375608094570734, -0.6747462117996802, -0.5613326465140179, -0.4020479109493398, -0.20455330626199017, 0.018775704444045218, 0.24957400197172272, 0.4628478953763541, 0.6551658830426541, 0.71309943396309, 0.6796699718543139, 0.6772950251622829, 0.6797472386811266, 0.680364567917808, 0.5007692323570181, 0.5231586928369427, 0.6932660458721633, 0.6966065589432293, 0.17442860598145, 0.7159045270666067, 0.7122355384016417, 0.71644640912335, 0.7193325611825417, 0.7012604793701389, 0.7051428960885995, 0.6682173714804375], \"yaxis\": \"y2\"}, {\"line\": {\"color\": \"rgb(0, 0, 255)\", \"width\": 2}, \"mode\": \"lines\", \"name\": \"AY\", \"showlegend\": false, \"type\": \"scatter\", \"x\": [0.0, 0.1, 0.2, 0.3, 0.4, 0.5, 0.6, 0.7, 0.8, 0.9, 1.0, 1.1, 1.2, 1.3, 1.4, 1.5, 1.6, 1.7, 1.8, 1.9, 2.0, 2.1, 2.2, 2.3, 2.4, 2.5, 2.6, 2.7, 2.8, 2.9, 3.0, 3.1, 3.2, 3.3, 3.4, 3.5, 3.6, 3.7, 3.8, 3.9, 4.0, 4.1, 4.2, 4.3, 4.4, 4.5, 4.6, 4.7, 4.8, 4.9, 5.0, 5.1, 5.2, 5.3, 5.4, 5.5, 5.6, 5.7, 5.8, 5.9, 6.0, 6.1, 6.2, 6.3, 6.4, 6.5, 6.6, 6.7, 6.8, 6.9, 7.0, 7.1, 7.2, 7.3, 7.4, 7.5, 7.6, 7.7, 7.8, 7.9, 8.0, 8.1, 8.2, 8.3, 8.4, 8.5, 8.6, 8.7, 8.8, 8.9, 9.0, 9.1, 9.2, 9.3, 9.4, 9.5, 9.6, 9.7, 9.8, 9.9, 10.0, 10.1, 10.2, 10.3, 10.4, 10.5, 10.6, 10.7, 10.8, 10.9], \"xaxis\": \"x2\", \"y\": [0.0, 0.0, 0.0, 0.0, 0.0, 0.0, 0.0, 0.0, 0.0, 0.0, 0.0, -0.0991359447247018, -0.1774314114985447, -0.2044428850372821, -0.21763181104778098, -0.2516177530182813, -0.308490773042491, -0.37062083669001383, -0.4211145949625746, -0.4518551698011811, -0.0112054009315679, -0.07294381582501844, 0.23043039265250162, 0.24348481481704226, 0.22291939519935747, 0.21541426479759396, 0.23409459517752992, 0.27208309645764805, 0.30982660541803103, 0.3200081783048163, 0.28730696012313095, 0.2439433977147335, 0.3843969287669847, 0.6589880845474402, 0.5302162996135132, 0.4924284148190904, 0.49537839033253045, 0.4789099277606778, 0.4468741901782963, 0.4034491260127535, 0.3490556414741048, 0.28341121167490685, 0.2062085995409189, 0.11745585384787365, 0.017757970423145662, -0.09143697677556051, -0.20760282667460025, -0.326921090716267, -0.4441160369175432, -0.5523811515881647, -0.6434511113018094, -0.7078832630591125, -0.7356185382887278, -0.7168921943618446, -0.6435607723450073, -0.5109116498964246, -0.3200505203838297, 0.0023330538247723904, 0.40020271969809157, 0.39933124354415916, 0.382439303111927, 0.36953300449638715, 0.3587790444648195, 0.3499570989781971, 0.3221790731755144, 0.31918812691946324, 0.3045718407090174, 0.13200892895513083, -0.02860532863079239, 0.24670706870582373, 0.25221161812622533, 0.23421281434954827, 0.2163411253001921, 0.1364389324802897, -0.07645628521142275, 0.1772728260647723, 0.37110081582321847, 0.5647097307327106, 0.7085234857641539, 0.7500286275604772, 0.6677795868452165, 0.49985996688212714, 0.29591955649449697, 0.08388249783996343, -0.12338085939559808, -0.3169800625441215, -0.4872423224756911, -0.6225667262541286, -0.7098417044744085, -0.7357407045763554, -0.6887688527119682, -0.5621192960338581, -0.20475824963613964, -0.017310518880675196, 0.33024432739802506, 0.3312285157434639, 0.3210429191796196, 0.3148643511203425, 0.4299064728901083, 0.1381012124121582, 0.2866587066908073, 0.2863464937263338, -0.009577993220940405, 0.23699716883957883, 0.2548443825353402, 0.24425420529398617, 0.23668826740736756, 0.13360559780987463, -0.0488479293908523, 0.23985476240225137], \"yaxis\": \"y2\"}, {\"line\": {\"color\": \"rgb(0, 0, 0)\", \"width\": 2}, \"mode\": \"lines\", \"name\": \"AR\", \"showlegend\": false, \"type\": \"scatter\", \"x\": [0.0, 0.1, 0.2, 0.3, 0.4, 0.5, 0.6, 0.7, 0.8, 0.9, 1.0, 1.1, 1.2, 1.3, 1.4, 1.5, 1.6, 1.7, 1.8, 1.9, 2.0, 2.1, 2.2, 2.3, 2.4, 2.5, 2.6, 2.7, 2.8, 2.9, 3.0, 3.1, 3.2, 3.3, 3.4, 3.5, 3.6, 3.7, 3.8, 3.9, 4.0, 4.1, 4.2, 4.3, 4.4, 4.5, 4.6, 4.7, 4.8, 4.9, 5.0, 5.1, 5.2, 5.3, 5.4, 5.5, 5.6, 5.7, 5.8, 5.9, 6.0, 6.1, 6.2, 6.3, 6.4, 6.5, 6.6, 6.7, 6.8, 6.9, 7.0, 7.1, 7.2, 7.3, 7.4, 7.5, 7.6, 7.7, 7.8, 7.9, 8.0, 8.1, 8.2, 8.3, 8.4, 8.5, 8.6, 8.7, 8.8, 8.9, 9.0, 9.1, 9.2, 9.3, 9.4, 9.5, 9.6, 9.7, 9.8, 9.9, 10.0, 10.1, 10.2, 10.3, 10.4, 10.5, 10.6, 10.7, 10.8, 10.9], \"xaxis\": \"x2\", \"y\": [0.0, 0.0, 0.0, 0.0, 0.0, 0.0, 0.0, 0.0, 0.0, 0.0, 0.0, 0.09920324642444946, 0.1780435304233673, 0.20639829742066398, 0.22199443950577774, 0.2604644058495891, 0.3260894269220021, 0.40401806898046944, 0.48002086678873723, 0.5485185851909322, 0.42683300989539513, 0.4746810966430031, 0.5416191180900782, 0.570289174130286, 0.5820726133187577, 0.5856294384096584, 0.581270889128083, 0.5756461716255693, 0.5746985329078488, 0.5755503036726388, 0.575483133593035, 0.5790465512860442, 0.5838967485143864, 0.7309576116141403, 0.737550032510312, 0.7445811530176213, 0.7437663496719654, 0.7439997818384717, 0.7443200401765195, 0.7443142284223246, 0.7441649427907006, 0.7439577613012558, 0.7437086808138139, 0.7434159221310793, 0.7430722699811783, 0.7426675495988284, 0.742188705616339, 0.7416189481476475, 0.740936239244311, 0.7401109378150191, 0.7391021272063857, 0.737851755197364, 0.7362750236520392, 0.7342441839295101, 0.7315605243518507, 0.7279051936579329, 0.7227538376340259, 0.7094152224565619, 0.7553309068046149, 0.7540260369574637, 0.7517737861484056, 0.7488013047546719, 0.7465327970678693, 0.595506674882827, 0.7454150173544235, 0.7486575995752187, 0.7502262125909271, 0.1705389404210204, 0.5827802646255513, 0.7535908941268069, 0.7543910677034976, 0.7547262011775331, 0.7548336665605367, 0.7242318780690983, 0.7058811811734056, 0.7103391149781788, 0.7213759005386519, 0.7334282531584189, 0.7451767137847441, 0.7530799156618165, 0.7558692470225589, 0.7552416373275447, 0.7530038723946606, 0.7503437155166865, 0.7478093233653681, 0.7454923275181938, 0.7433030477900227, 0.741101782036389, 0.7387268104745116, 0.7359802384900576, 0.7325910966742241, 0.7281526469277722, 0.6864169833979317, 0.7133095098079076, 0.7556537477039453, 0.753950184528922, 0.7517478729268132, 0.7496902726355864, 0.6599919692755742, 0.5410794421899308, 0.7501939912321818, 0.7531633371534306, 0.1746913751127179, 0.7541133534903341, 0.7564556308681264, 0.7569382893932235, 0.7572718597080818, 0.7138744397249217, 0.7068328119930422, 0.7099610993535247], \"yaxis\": \"y2\"}],\n",
       "                        {\"autosize\": false, \"font\": {\"color\": \"black\", \"family\": \"Arial\", \"size\": 14}, \"height\": 500, \"legend\": {\"orientation\": \"h\", \"x\": 0.01, \"xanchor\": \"left\", \"y\": 1.1, \"yanchor\": \"top\"}, \"template\": {\"data\": {\"bar\": [{\"error_x\": {\"color\": \"#2a3f5f\"}, \"error_y\": {\"color\": \"#2a3f5f\"}, \"marker\": {\"line\": {\"color\": \"white\", \"width\": 0.5}}, \"type\": \"bar\"}], \"barpolar\": [{\"marker\": {\"line\": {\"color\": \"white\", \"width\": 0.5}}, \"type\": \"barpolar\"}], \"carpet\": [{\"aaxis\": {\"endlinecolor\": \"#2a3f5f\", \"gridcolor\": \"#C8D4E3\", \"linecolor\": \"#C8D4E3\", \"minorgridcolor\": \"#C8D4E3\", \"startlinecolor\": \"#2a3f5f\"}, \"baxis\": {\"endlinecolor\": \"#2a3f5f\", \"gridcolor\": \"#C8D4E3\", \"linecolor\": \"#C8D4E3\", \"minorgridcolor\": \"#C8D4E3\", \"startlinecolor\": \"#2a3f5f\"}, \"type\": \"carpet\"}], \"choropleth\": [{\"colorbar\": {\"outlinewidth\": 0, \"ticks\": \"\"}, \"type\": \"choropleth\"}], \"contour\": [{\"colorbar\": {\"outlinewidth\": 0, \"ticks\": \"\"}, \"colorscale\": [[0.0, \"#0d0887\"], [0.1111111111111111, \"#46039f\"], [0.2222222222222222, \"#7201a8\"], [0.3333333333333333, \"#9c179e\"], [0.4444444444444444, \"#bd3786\"], [0.5555555555555556, \"#d8576b\"], [0.6666666666666666, \"#ed7953\"], [0.7777777777777778, \"#fb9f3a\"], [0.8888888888888888, \"#fdca26\"], [1.0, \"#f0f921\"]], \"type\": \"contour\"}], \"contourcarpet\": [{\"colorbar\": {\"outlinewidth\": 0, \"ticks\": \"\"}, \"type\": \"contourcarpet\"}], \"heatmap\": [{\"colorbar\": {\"outlinewidth\": 0, \"ticks\": \"\"}, \"colorscale\": [[0.0, \"#0d0887\"], [0.1111111111111111, \"#46039f\"], [0.2222222222222222, \"#7201a8\"], [0.3333333333333333, \"#9c179e\"], [0.4444444444444444, \"#bd3786\"], [0.5555555555555556, \"#d8576b\"], [0.6666666666666666, \"#ed7953\"], [0.7777777777777778, \"#fb9f3a\"], [0.8888888888888888, \"#fdca26\"], [1.0, \"#f0f921\"]], \"type\": \"heatmap\"}], \"heatmapgl\": [{\"colorbar\": {\"outlinewidth\": 0, \"ticks\": \"\"}, \"colorscale\": [[0.0, \"#0d0887\"], [0.1111111111111111, \"#46039f\"], [0.2222222222222222, \"#7201a8\"], [0.3333333333333333, \"#9c179e\"], [0.4444444444444444, \"#bd3786\"], [0.5555555555555556, \"#d8576b\"], [0.6666666666666666, \"#ed7953\"], [0.7777777777777778, \"#fb9f3a\"], [0.8888888888888888, \"#fdca26\"], [1.0, \"#f0f921\"]], \"type\": \"heatmapgl\"}], \"histogram\": [{\"marker\": {\"colorbar\": {\"outlinewidth\": 0, \"ticks\": \"\"}}, \"type\": \"histogram\"}], \"histogram2d\": [{\"colorbar\": {\"outlinewidth\": 0, \"ticks\": \"\"}, \"colorscale\": [[0.0, \"#0d0887\"], [0.1111111111111111, \"#46039f\"], [0.2222222222222222, \"#7201a8\"], [0.3333333333333333, \"#9c179e\"], [0.4444444444444444, \"#bd3786\"], [0.5555555555555556, \"#d8576b\"], [0.6666666666666666, \"#ed7953\"], [0.7777777777777778, \"#fb9f3a\"], [0.8888888888888888, \"#fdca26\"], [1.0, \"#f0f921\"]], \"type\": \"histogram2d\"}], \"histogram2dcontour\": [{\"colorbar\": {\"outlinewidth\": 0, \"ticks\": \"\"}, \"colorscale\": [[0.0, \"#0d0887\"], [0.1111111111111111, \"#46039f\"], [0.2222222222222222, \"#7201a8\"], [0.3333333333333333, \"#9c179e\"], [0.4444444444444444, \"#bd3786\"], [0.5555555555555556, \"#d8576b\"], [0.6666666666666666, \"#ed7953\"], [0.7777777777777778, \"#fb9f3a\"], [0.8888888888888888, \"#fdca26\"], [1.0, \"#f0f921\"]], \"type\": \"histogram2dcontour\"}], \"mesh3d\": [{\"colorbar\": {\"outlinewidth\": 0, \"ticks\": \"\"}, \"type\": \"mesh3d\"}], \"parcoords\": [{\"line\": {\"colorbar\": {\"outlinewidth\": 0, \"ticks\": \"\"}}, \"type\": \"parcoords\"}], \"pie\": [{\"automargin\": true, \"type\": \"pie\"}], \"scatter\": [{\"marker\": {\"colorbar\": {\"outlinewidth\": 0, \"ticks\": \"\"}}, \"type\": \"scatter\"}], \"scatter3d\": [{\"line\": {\"colorbar\": {\"outlinewidth\": 0, \"ticks\": \"\"}}, \"marker\": {\"colorbar\": {\"outlinewidth\": 0, \"ticks\": \"\"}}, \"type\": \"scatter3d\"}], \"scattercarpet\": [{\"marker\": {\"colorbar\": {\"outlinewidth\": 0, \"ticks\": \"\"}}, \"type\": \"scattercarpet\"}], \"scattergeo\": [{\"marker\": {\"colorbar\": {\"outlinewidth\": 0, \"ticks\": \"\"}}, \"type\": \"scattergeo\"}], \"scattergl\": [{\"marker\": {\"colorbar\": {\"outlinewidth\": 0, \"ticks\": \"\"}}, \"type\": \"scattergl\"}], \"scattermapbox\": [{\"marker\": {\"colorbar\": {\"outlinewidth\": 0, \"ticks\": \"\"}}, \"type\": \"scattermapbox\"}], \"scatterpolar\": [{\"marker\": {\"colorbar\": {\"outlinewidth\": 0, \"ticks\": \"\"}}, \"type\": \"scatterpolar\"}], \"scatterpolargl\": [{\"marker\": {\"colorbar\": {\"outlinewidth\": 0, \"ticks\": \"\"}}, \"type\": \"scatterpolargl\"}], \"scatterternary\": [{\"marker\": {\"colorbar\": {\"outlinewidth\": 0, \"ticks\": \"\"}}, \"type\": \"scatterternary\"}], \"surface\": [{\"colorbar\": {\"outlinewidth\": 0, \"ticks\": \"\"}, \"colorscale\": [[0.0, \"#0d0887\"], [0.1111111111111111, \"#46039f\"], [0.2222222222222222, \"#7201a8\"], [0.3333333333333333, \"#9c179e\"], [0.4444444444444444, \"#bd3786\"], [0.5555555555555556, \"#d8576b\"], [0.6666666666666666, \"#ed7953\"], [0.7777777777777778, \"#fb9f3a\"], [0.8888888888888888, \"#fdca26\"], [1.0, \"#f0f921\"]], \"type\": \"surface\"}], \"table\": [{\"cells\": {\"fill\": {\"color\": \"#EBF0F8\"}, \"line\": {\"color\": \"white\"}}, \"header\": {\"fill\": {\"color\": \"#C8D4E3\"}, \"line\": {\"color\": \"white\"}}, \"type\": \"table\"}]}, \"layout\": {\"annotationdefaults\": {\"arrowcolor\": \"#2a3f5f\", \"arrowhead\": 0, \"arrowwidth\": 1}, \"coloraxis\": {\"colorbar\": {\"outlinewidth\": 0, \"ticks\": \"\"}}, \"colorscale\": {\"diverging\": [[0, \"#8e0152\"], [0.1, \"#c51b7d\"], [0.2, \"#de77ae\"], [0.3, \"#f1b6da\"], [0.4, \"#fde0ef\"], [0.5, \"#f7f7f7\"], [0.6, \"#e6f5d0\"], [0.7, \"#b8e186\"], [0.8, \"#7fbc41\"], [0.9, \"#4d9221\"], [1, \"#276419\"]], \"sequential\": [[0.0, \"#0d0887\"], [0.1111111111111111, \"#46039f\"], [0.2222222222222222, \"#7201a8\"], [0.3333333333333333, \"#9c179e\"], [0.4444444444444444, \"#bd3786\"], [0.5555555555555556, \"#d8576b\"], [0.6666666666666666, \"#ed7953\"], [0.7777777777777778, \"#fb9f3a\"], [0.8888888888888888, \"#fdca26\"], [1.0, \"#f0f921\"]], \"sequentialminus\": [[0.0, \"#0d0887\"], [0.1111111111111111, \"#46039f\"], [0.2222222222222222, \"#7201a8\"], [0.3333333333333333, \"#9c179e\"], [0.4444444444444444, \"#bd3786\"], [0.5555555555555556, \"#d8576b\"], [0.6666666666666666, \"#ed7953\"], [0.7777777777777778, \"#fb9f3a\"], [0.8888888888888888, \"#fdca26\"], [1.0, \"#f0f921\"]]}, \"colorway\": [\"#636efa\", \"#EF553B\", \"#00cc96\", \"#ab63fa\", \"#FFA15A\", \"#19d3f3\", \"#FF6692\", \"#B6E880\", \"#FF97FF\", \"#FECB52\"], \"font\": {\"color\": \"#2a3f5f\"}, \"geo\": {\"bgcolor\": \"white\", \"lakecolor\": \"white\", \"landcolor\": \"white\", \"showlakes\": true, \"showland\": true, \"subunitcolor\": \"#C8D4E3\"}, \"hoverlabel\": {\"align\": \"left\"}, \"hovermode\": \"closest\", \"mapbox\": {\"style\": \"light\"}, \"paper_bgcolor\": \"white\", \"plot_bgcolor\": \"white\", \"polar\": {\"angularaxis\": {\"gridcolor\": \"#EBF0F8\", \"linecolor\": \"#EBF0F8\", \"ticks\": \"\"}, \"bgcolor\": \"white\", \"radialaxis\": {\"gridcolor\": \"#EBF0F8\", \"linecolor\": \"#EBF0F8\", \"ticks\": \"\"}}, \"scene\": {\"xaxis\": {\"backgroundcolor\": \"white\", \"gridcolor\": \"#DFE8F3\", \"gridwidth\": 2, \"linecolor\": \"#EBF0F8\", \"showbackground\": true, \"ticks\": \"\", \"zerolinecolor\": \"#EBF0F8\"}, \"yaxis\": {\"backgroundcolor\": \"white\", \"gridcolor\": \"#DFE8F3\", \"gridwidth\": 2, \"linecolor\": \"#EBF0F8\", \"showbackground\": true, \"ticks\": \"\", \"zerolinecolor\": \"#EBF0F8\"}, \"zaxis\": {\"backgroundcolor\": \"white\", \"gridcolor\": \"#DFE8F3\", \"gridwidth\": 2, \"linecolor\": \"#EBF0F8\", \"showbackground\": true, \"ticks\": \"\", \"zerolinecolor\": \"#EBF0F8\"}}, \"shapedefaults\": {\"line\": {\"color\": \"#2a3f5f\"}}, \"ternary\": {\"aaxis\": {\"gridcolor\": \"#DFE8F3\", \"linecolor\": \"#A2B1C6\", \"ticks\": \"\"}, \"baxis\": {\"gridcolor\": \"#DFE8F3\", \"linecolor\": \"#A2B1C6\", \"ticks\": \"\"}, \"bgcolor\": \"white\", \"caxis\": {\"gridcolor\": \"#DFE8F3\", \"linecolor\": \"#A2B1C6\", \"ticks\": \"\"}}, \"title\": {\"x\": 0.05}, \"xaxis\": {\"automargin\": true, \"gridcolor\": \"#EBF0F8\", \"linecolor\": \"#EBF0F8\", \"ticks\": \"\", \"title\": {\"standoff\": 15}, \"zerolinecolor\": \"#EBF0F8\", \"zerolinewidth\": 2}, \"yaxis\": {\"automargin\": true, \"gridcolor\": \"#EBF0F8\", \"linecolor\": \"#EBF0F8\", \"ticks\": \"\", \"title\": {\"standoff\": 15}, \"zerolinecolor\": \"#EBF0F8\", \"zerolinewidth\": 2}}}, \"title\": {\"text\": \"Veh1 - Inertial Frame Velocity | Acceleration\"}, \"width\": 900, \"xaxis\": {\"anchor\": \"y\", \"domain\": [0.0, 1.0], \"linecolor\": \"black\", \"linewidth\": 1, \"matches\": \"x2\", \"showgrid\": false, \"showline\": true, \"showticklabels\": false, \"tickcolor\": \"black\", \"ticklen\": 10, \"ticks\": \"outside\", \"tickwidth\": 1, \"title\": {\"text\": \"\"}, \"zeroline\": false}, \"xaxis2\": {\"anchor\": \"y2\", \"domain\": [0.0, 1.0], \"linecolor\": \"black\", \"linewidth\": 1, \"showgrid\": false, \"showline\": true, \"tickcolor\": \"black\", \"ticklen\": 10, \"ticks\": \"outside\", \"tickwidth\": 1, \"title\": {\"text\": \"Time (s)\"}, \"zeroline\": false}, \"yaxis\": {\"anchor\": \"x\", \"domain\": [0.525, 1.0], \"linecolor\": \"black\", \"linewidth\": 1, \"showgrid\": false, \"showline\": true, \"tickcolor\": \"black\", \"ticklen\": 10, \"ticks\": \"outside\", \"tickwidth\": 1, \"title\": {\"text\": \"Velocity (mph)\"}, \"zeroline\": false}, \"yaxis2\": {\"anchor\": \"x2\", \"domain\": [0.0, 0.475], \"linecolor\": \"black\", \"linewidth\": 1, \"showgrid\": false, \"showline\": true, \"tickcolor\": \"black\", \"ticklen\": 10, \"ticks\": \"outside\", \"tickwidth\": 1, \"title\": {\"text\": \"Acceleration (g)\"}, \"zeroline\": false}},\n",
       "                        {\"responsive\": true}\n",
       "                    ).then(function(){\n",
       "                            \n",
       "var gd = document.getElementById('50459e8f-dde0-48ca-901f-64119004a073');\n",
       "var x = new MutationObserver(function (mutations, observer) {{\n",
       "        var display = window.getComputedStyle(gd).display;\n",
       "        if (!display || display === 'none') {{\n",
       "            console.log([gd, 'removed!']);\n",
       "            Plotly.purge(gd);\n",
       "            observer.disconnect();\n",
       "        }}\n",
       "}});\n",
       "\n",
       "// Listen for the removal of the full notebook cells\n",
       "var notebookContainer = gd.closest('#notebook-container');\n",
       "if (notebookContainer) {{\n",
       "    x.observe(notebookContainer, {childList: true});\n",
       "}}\n",
       "\n",
       "// Listen for the clearing of the current output cell\n",
       "var outputEl = gd.closest('.output');\n",
       "if (outputEl) {{\n",
       "    x.observe(outputEl, {childList: true});\n",
       "}}\n",
       "\n",
       "                        })\n",
       "                };\n",
       "                });\n",
       "            </script>\n",
       "        </div>"
      ]
     },
     "metadata": {},
     "output_type": "display_data"
    },
    {
     "data": {
      "application/vnd.plotly.v1+json": {
       "config": {
        "plotlyServerURL": "https://plot.ly"
       },
       "data": [
        {
         "line": {
          "color": "rgb(0, 255, 0)",
          "width": 2
         },
         "mode": "lines",
         "name": "x",
         "type": "scatter",
         "x": [
          0,
          0.1,
          0.2,
          0.3,
          0.4,
          0.5,
          0.6,
          0.7,
          0.8,
          0.9,
          1,
          1.1,
          1.2,
          1.3,
          1.4,
          1.5,
          1.6,
          1.7,
          1.8,
          1.9,
          2,
          2.1,
          2.2,
          2.3,
          2.4,
          2.5,
          2.6,
          2.7,
          2.8,
          2.9,
          3,
          3.1,
          3.2,
          3.3,
          3.4,
          3.5,
          3.6,
          3.7,
          3.8,
          3.9,
          4,
          4.1,
          4.2,
          4.3,
          4.4,
          4.5,
          4.6,
          4.7,
          4.8,
          4.9,
          5,
          5.1,
          5.2,
          5.3,
          5.4,
          5.5,
          5.6,
          5.7,
          5.8,
          5.9,
          6,
          6.1,
          6.2,
          6.3,
          6.4,
          6.5,
          6.6,
          6.7,
          6.8,
          6.9,
          7,
          7.1,
          7.2,
          7.3,
          7.4,
          7.5,
          7.6,
          7.7,
          7.8,
          7.9,
          8,
          8.1,
          8.2,
          8.3,
          8.4,
          8.5,
          8.6,
          8.7,
          8.8,
          8.9,
          9,
          9.1,
          9.2,
          9.3,
          9.4,
          9.5,
          9.6,
          9.7,
          9.8,
          9.9,
          10,
          10.1,
          10.2,
          10.3,
          10.4,
          10.5,
          10.6,
          10.7,
          10.8,
          10.9
         ],
         "xaxis": "x",
         "y": [
          15,
          15,
          15,
          15,
          15,
          15,
          15,
          15,
          15,
          15,
          15,
          14.99612783611973,
          14.977642670299382,
          14.938787461789333,
          14.884849624334201,
          14.818894835949878,
          14.73335372731784,
          14.61512706270951,
          14.453830301257321,
          14.244336455490133,
          13.762951986286252,
          13.020965295474694,
          12.072232531596082,
          10.883922062434516,
          9.633472730950068,
          8.36617516690777,
          7.100679682885402,
          5.839561392787825,
          4.579589353804345,
          3.3184120188569364,
          2.055862244151436,
          0.7925041926841263,
          -0.47058955328386615,
          -1.771861609792823,
          -3.2193764726067253,
          -4.784248178472961,
          -6.341918134113892,
          -7.866457047819028,
          -9.35534201805721,
          -10.79897994888338,
          -12.18305913052748,
          -13.489106872084246,
          -14.694109861582904,
          -15.770224216118796,
          -16.68453781128646,
          -17.399002406674906,
          -17.870629576296402,
          -18.052043323223764,
          -17.892494000894338,
          -17.339448053515063,
          -16.34087289150379,
          -14.84833084775893,
          -12.820974395538451,
          -10.230488545431603,
          -7.066944998701681,
          -3.3454037039341262,
          0.88708732645568,
          5.625657019603521,
          10.8729023436899,
          15.965116340573589,
          20.109728911842478,
          23.140029155898027,
          24.998582306529972,
          25.82788386693658,
          25.4631092575004,
          23.82808944417968,
          21.29634647576061,
          18.631887768946928,
          15.853696756714683,
          12.269770173423346,
          8.22107413455056,
          4.2343329142835735,
          0.484583404639426,
          -2.8726562410545733,
          -5.522286821722986,
          -7.747768805911413,
          -9.95464068297931,
          -12.074955505033111,
          -14.12923031943723,
          -16.116163403432996,
          -17.95895382356627,
          -19.532025217829048,
          -20.721342202563083,
          -21.446913474638386,
          -21.644900212725403,
          -21.251409837888865,
          -20.199866338834124,
          -18.425492459978788,
          -15.872554175080438,
          -12.503256109307236,
          -8.308104759664655,
          -3.317548197417785,
          2.5422427251049626,
          9.049595366554064,
          15.889675317976138,
          22.411924219148222,
          27.728752084328807,
          31.53781877227395,
          33.879004853699094,
          34.65270012898161,
          33.44928363717417,
          30.42251020807465,
          26.663105800075375,
          21.85675040176144,
          15.729373440028946,
          9.197114607708615,
          2.4866327382467692,
          -4.092539642293197,
          -10.087722597131132,
          -15.675876372168059
         ],
         "yaxis": "y"
        },
        {
         "line": {
          "color": "rgb(0, 0, 255)",
          "width": 2
         },
         "mode": "lines",
         "name": "y",
         "type": "scatter",
         "x": [
          0,
          0.1,
          0.2,
          0.3,
          0.4,
          0.5,
          0.6,
          0.7,
          0.8,
          0.9,
          1,
          1.1,
          1.2,
          1.3,
          1.4,
          1.5,
          1.6,
          1.7,
          1.8,
          1.9,
          2,
          2.1,
          2.2,
          2.3,
          2.4,
          2.5,
          2.6,
          2.7,
          2.8,
          2.9,
          3,
          3.1,
          3.2,
          3.3,
          3.4,
          3.5,
          3.6,
          3.7,
          3.8,
          3.9,
          4,
          4.1,
          4.2,
          4.3,
          4.4,
          4.5,
          4.6,
          4.7,
          4.8,
          4.9,
          5,
          5.1,
          5.2,
          5.3,
          5.4,
          5.5,
          5.6,
          5.7,
          5.8,
          5.9,
          6,
          6.1,
          6.2,
          6.3,
          6.4,
          6.5,
          6.6,
          6.7,
          6.8,
          6.9,
          7,
          7.1,
          7.2,
          7.3,
          7.4,
          7.5,
          7.6,
          7.7,
          7.8,
          7.9,
          8,
          8.1,
          8.2,
          8.3,
          8.4,
          8.5,
          8.6,
          8.7,
          8.8,
          8.9,
          9,
          9.1,
          9.2,
          9.3,
          9.4,
          9.5,
          9.6,
          9.7,
          9.8,
          9.9,
          10,
          10.1,
          10.2,
          10.3,
          10.4,
          10.5,
          10.6,
          10.7,
          10.8,
          10.9
         ],
         "xaxis": "x",
         "y": [
          0,
          0,
          0,
          0,
          0,
          0,
          0,
          0,
          0,
          0,
          0,
          -0.10882899713957157,
          -0.3934652221754552,
          -0.7216485288318988,
          -0.9680839049105704,
          -1.1183664198648873,
          -1.2253230035978169,
          -1.3382128118590086,
          -1.4746024833471143,
          -1.6297065088395015,
          -1.3484659137123274,
          -0.7921432495433884,
          -0.27359490631144495,
          0.23663394433994042,
          0.45209529643321655,
          0.4193928771996096,
          0.2681681711855892,
          0.11678843196363338,
          0.0416421509109206,
          0.04304506714491239,
          0.04178155496787679,
          -0.041301933217593526,
          0.0017998885747209444,
          0.554387597292574,
          1.2213046426507854,
          1.6505950791003285,
          2.1171099976915393,
          2.6943036733310137,
          3.377762609194626,
          4.173620365990858,
          5.092576528101544,
          6.1463781430301605,
          7.345780621235226,
          8.698736801921639,
          10.208949441526212,
          11.874427375604506,
          13.685886133018853,
          15.624958473590755,
          17.6622366669292,
          19.755214213824438,
          21.846243957350225,
          23.860689584394688,
          25.705523527998242,
          27.268722535299897,
          28.419945019681485,
          29.013170255343617,
          28.892305136400918,
          27.859102449349752,
          25.686034157327665,
          22.396100079937224,
          18.21174747872152,
          13.33372325375131,
          8.0247954021215,
          2.5699418086341463,
          -2.6981742110373723,
          -7.515604753252181,
          -11.711258356565894,
          -15.47926929459525,
          -18.287377052446704,
          -19.887618484248037,
          -20.822544137981687,
          -20.991161693175084,
          -20.390683619062376,
          -19.153533850322784,
          -17.477379154207046,
          -15.389309188862587,
          -12.854722920715448,
          -9.956080988464144,
          -6.75115740069644,
          -3.329243366757313,
          0.20229936945589627,
          3.765072744676906,
          7.327364264993243,
          10.885754809977488,
          14.438320375169885,
          17.964557811820303,
          21.414660198796238,
          24.705467049262765,
          27.71940816654539,
          30.304988725449295,
          32.27916962403963,
          33.432895026308536,
          33.47585860936971,
          32.195564130208304,
          29.37091004572213,
          24.95319152561414,
          19.207657356106107,
          12.411622622285917,
          4.805245005647549,
          -2.9753256846471126,
          -10.494543963581233,
          -17.45633533162135,
          -23.60921645710849,
          -28.581417665439222,
          -32.04246129855915,
          -34.15662687573743,
          -34.91796853724091,
          -34.41185443536021,
          -32.78211134543726,
          -30.036232595532194
         ],
         "yaxis": "y"
        },
        {
         "line": {
          "color": "rgb(0, 255, 0)",
          "width": 2
         },
         "mode": "lines",
         "name": "Ax",
         "showlegend": false,
         "type": "scatter",
         "x": [
          0,
          0.1,
          0.2,
          0.3,
          0.4,
          0.5,
          0.6,
          0.7,
          0.8,
          0.9,
          1,
          1.1,
          1.2,
          1.3,
          1.4,
          1.5,
          1.6,
          1.7,
          1.8,
          1.9,
          2,
          2.1,
          2.2,
          2.3,
          2.4,
          2.5,
          2.6,
          2.7,
          2.8,
          2.9,
          3,
          3.1,
          3.2,
          3.3,
          3.4,
          3.5,
          3.6,
          3.7,
          3.8,
          3.9,
          4,
          4.1,
          4.2,
          4.3,
          4.4,
          4.5,
          4.6,
          4.7,
          4.8,
          4.9,
          5,
          5.1,
          5.2,
          5.3,
          5.4,
          5.5,
          5.6,
          5.7,
          5.8,
          5.9,
          6,
          6.1,
          6.2,
          6.3,
          6.4,
          6.5,
          6.6,
          6.7,
          6.8,
          6.9,
          7,
          7.1,
          7.2,
          7.3,
          7.4,
          7.5,
          7.6,
          7.7,
          7.8,
          7.9,
          8,
          8.1,
          8.2,
          8.3,
          8.4,
          8.5,
          8.6,
          8.7,
          8.8,
          8.9,
          9,
          9.1,
          9.2,
          9.3,
          9.4,
          9.5,
          9.6,
          9.7,
          9.8,
          9.9,
          10,
          10.1,
          10.2,
          10.3,
          10.4,
          10.5,
          10.6,
          10.7,
          10.8,
          10.9
         ],
         "xaxis": "x2",
         "y": [
          0,
          0,
          0,
          0,
          0,
          0,
          0,
          0,
          0,
          0,
          0,
          -0.003527445092095549,
          -0.013312081711463792,
          -0.02208404789439489,
          -0.027051981956735086,
          -0.03303119163310026,
          -0.0448946330857514,
          -0.0628069210639991,
          -0.08413042124599011,
          -0.10671326743187509,
          -0.3318160241502727,
          -0.34411541672711027,
          -0.5201565601659612,
          -0.5623647539987557,
          -0.5767635199194396,
          -0.5777130752693282,
          -0.5751218697934581,
          -0.5737255603540031,
          -0.5740776635068044,
          -0.5748235550319006,
          -0.5753279220285442,
          -0.5755598750804981,
          -0.5750871462852629,
          -0.6103393674538622,
          -0.7083107094674211,
          -0.7172485357765727,
          -0.7017500939376418,
          -0.68706697970454,
          -0.669270237251505,
          -0.6458480509502471,
          -0.6150136964671153,
          -0.5747633477000034,
          -0.5229644377708023,
          -0.4573490034510357,
          -0.37556796588098873,
          -0.275291529844707,
          -0.15434910423526874,
          -0.010914312041719424,
          0.15625978072550717,
          0.3475513370650268,
          0.5621258262064511,
          0.7975428938552067,
          1.0493284650132448,
          1.3105397845371969,
          1.5713697891785632,
          1.8188618697013925,
          2.0368323039270644,
          2.2798869580910366,
          2.5002231658081975,
          2.13865727071938,
          1.636981809965675,
          1.1235464254063443,
          0.5695493195858037,
          0.185923798179144,
          -0.5182244046522948,
          -0.9712380236726098,
          -1.335116920110738,
          -1.0921387640646811,
          -1.4387242246997054,
          -1.8261438510244599,
          -1.862117651667185,
          -1.7697045505247282,
          -1.6462240912825894,
          -1.412137816264005,
          -1.0016098133937215,
          -1.025748982724067,
          -0.9846564681698287,
          -0.9468976560920643,
          -0.9244956619464996,
          -0.8855510127765248,
          -0.7931852763519619,
          -0.6398436813023207,
          -0.4435945435423148,
          -0.21738285870283255,
          0.03702185923072998,
          0.32143809608697493,
          0.6364919062475706,
          0.9799186135665617,
          1.3457447369377002,
          1.7236020917129724,
          2.098076560448694,
          2.448196478775291,
          2.889927466775291,
          3.038109116227287,
          3.193033779643653,
          2.748572925873155,
          2.094925164204115,
          1.3750399533166946,
          0.757722400747786,
          -0.05290522720828061,
          -1.043377298281915,
          -1.7139380962878932,
          -1.7107859180476954,
          -2.6676844372598203,
          -2.914203741910485,
          -3.0365217621884315,
          -3.0765605008448635,
          -2.916902080128149,
          -2.544560643084368,
          -2.546108609855637
         ],
         "yaxis": "y2"
        },
        {
         "line": {
          "color": "rgb(0, 0, 255)",
          "width": 2
         },
         "mode": "lines",
         "name": "Ay",
         "showlegend": false,
         "type": "scatter",
         "x": [
          0,
          0.1,
          0.2,
          0.3,
          0.4,
          0.5,
          0.6,
          0.7,
          0.8,
          0.9,
          1,
          1.1,
          1.2,
          1.3,
          1.4,
          1.5,
          1.6,
          1.7,
          1.8,
          1.9,
          2,
          2.1,
          2.2,
          2.3,
          2.4,
          2.5,
          2.6,
          2.7,
          2.8,
          2.9,
          3,
          3.1,
          3.2,
          3.3,
          3.4,
          3.5,
          3.6,
          3.7,
          3.8,
          3.9,
          4,
          4.1,
          4.2,
          4.3,
          4.4,
          4.5,
          4.6,
          4.7,
          4.8,
          4.9,
          5,
          5.1,
          5.2,
          5.3,
          5.4,
          5.5,
          5.6,
          5.7,
          5.8,
          5.9,
          6,
          6.1,
          6.2,
          6.3,
          6.4,
          6.5,
          6.6,
          6.7,
          6.8,
          6.9,
          7,
          7.1,
          7.2,
          7.3,
          7.4,
          7.5,
          7.6,
          7.7,
          7.8,
          7.9,
          8,
          8.1,
          8.2,
          8.3,
          8.4,
          8.5,
          8.6,
          8.7,
          8.8,
          8.9,
          9,
          9.1,
          9.2,
          9.3,
          9.4,
          9.5,
          9.6,
          9.7,
          9.8,
          9.9,
          10,
          10.1,
          10.2,
          10.3,
          10.4,
          10.5,
          10.6,
          10.7,
          10.8,
          10.9
         ],
         "xaxis": "x2",
         "y": [
          0,
          0,
          0,
          0,
          0,
          0,
          0,
          0,
          0,
          0,
          0,
          -0.0991405125681338,
          -0.16015601673210184,
          -0.13881082200939257,
          -0.08568568298023797,
          -0.051217954416065116,
          -0.04621683605820556,
          -0.05662297455200695,
          -0.06762462761039052,
          -0.07367128609701282,
          0.3298744809138901,
          0.17692164446291572,
          0.29546301303273304,
          0.16934279341749503,
          0.02693714526240884,
          -0.05672823670175935,
          -0.08103371334146008,
          -0.05686946810243179,
          -0.011586926948240399,
          0.012864948782345209,
          -0.014015976984017756,
          -0.06167101656690381,
          0.10093570536698694,
          0.402457968387804,
          0.2050868905659399,
          0.18598603143868805,
          0.23899746896514487,
          0.28681162932687226,
          0.33580248089864584,
          0.38920416267919844,
          0.4479420697946401,
          0.512045019998748,
          0.580580838826733,
          0.6519286279604346,
          0.7238375659084089,
          0.7933714537031519,
          0.8568224691147969,
          0.9096242574358797,
          0.946285561088154,
          0.9603649846912479,
          0.9445111606112193,
          0.8905987572877275,
          0.7899991309514163,
          0.6340363274579734,
          0.41469875401280054,
          0.12571469716023376,
          -0.23581981765693544,
          -0.7054021606147014,
          -1.274209064143082,
          -1.722839142867005,
          -2.0890021177696645,
          -2.354756758029747,
          -2.4815446159763974,
          -2.4876914833776995,
          -2.3114313256729986,
          -2.0771282105693563,
          -1.7450079822083593,
          -1.6875563671577998,
          -0.8705600335925053,
          -0.5872201532274065,
          -0.2644738893573969,
          0.11086748583224337,
          0.4361531209745177,
          0.6908595817070339,
          0.8360757028594674,
          1.066104158054667,
          1.2428409611399682,
          1.3977498231923409,
          1.5218559398332858,
          1.5954227285875213,
          1.6217249639105071,
          1.6238730648071305,
          1.621286006063901,
          1.6203193731982364,
          1.6159795941935224,
          1.5963351022114889,
          1.5466224554940948,
          1.4512208261045025,
          1.2944046512153131,
          1.0609949999198385,
          0.7374347507233247,
          0.31358042675849546,
          -0.2744416700079764,
          -0.8918747919495738,
          -1.6813149012761006,
          -2.343116913560411,
          -2.8909219686708587,
          -3.300096828255888,
          -3.6291242021757837,
          -3.4587823905785453,
          -3.3910386486539417,
          -2.9509803238699064,
          -2.654141514837066,
          -1.8754102530029548,
          -1.2775145081075998,
          -0.6484378068489677,
          -0.04512553145992364,
          0.5061829040098416,
          0.9784725603984197,
          1.5229547601750335
         ],
         "yaxis": "y2"
        }
       ],
       "layout": {
        "autosize": false,
        "font": {
         "color": "black",
         "family": "Arial",
         "size": 14
        },
        "height": 500,
        "legend": {
         "orientation": "h",
         "x": 0.01,
         "xanchor": "left",
         "y": 1.1,
         "yanchor": "top"
        },
        "template": {
         "data": {
          "bar": [
           {
            "error_x": {
             "color": "#2a3f5f"
            },
            "error_y": {
             "color": "#2a3f5f"
            },
            "marker": {
             "line": {
              "color": "white",
              "width": 0.5
             }
            },
            "type": "bar"
           }
          ],
          "barpolar": [
           {
            "marker": {
             "line": {
              "color": "white",
              "width": 0.5
             }
            },
            "type": "barpolar"
           }
          ],
          "carpet": [
           {
            "aaxis": {
             "endlinecolor": "#2a3f5f",
             "gridcolor": "#C8D4E3",
             "linecolor": "#C8D4E3",
             "minorgridcolor": "#C8D4E3",
             "startlinecolor": "#2a3f5f"
            },
            "baxis": {
             "endlinecolor": "#2a3f5f",
             "gridcolor": "#C8D4E3",
             "linecolor": "#C8D4E3",
             "minorgridcolor": "#C8D4E3",
             "startlinecolor": "#2a3f5f"
            },
            "type": "carpet"
           }
          ],
          "choropleth": [
           {
            "colorbar": {
             "outlinewidth": 0,
             "ticks": ""
            },
            "type": "choropleth"
           }
          ],
          "contour": [
           {
            "colorbar": {
             "outlinewidth": 0,
             "ticks": ""
            },
            "colorscale": [
             [
              0,
              "#0d0887"
             ],
             [
              0.1111111111111111,
              "#46039f"
             ],
             [
              0.2222222222222222,
              "#7201a8"
             ],
             [
              0.3333333333333333,
              "#9c179e"
             ],
             [
              0.4444444444444444,
              "#bd3786"
             ],
             [
              0.5555555555555556,
              "#d8576b"
             ],
             [
              0.6666666666666666,
              "#ed7953"
             ],
             [
              0.7777777777777778,
              "#fb9f3a"
             ],
             [
              0.8888888888888888,
              "#fdca26"
             ],
             [
              1,
              "#f0f921"
             ]
            ],
            "type": "contour"
           }
          ],
          "contourcarpet": [
           {
            "colorbar": {
             "outlinewidth": 0,
             "ticks": ""
            },
            "type": "contourcarpet"
           }
          ],
          "heatmap": [
           {
            "colorbar": {
             "outlinewidth": 0,
             "ticks": ""
            },
            "colorscale": [
             [
              0,
              "#0d0887"
             ],
             [
              0.1111111111111111,
              "#46039f"
             ],
             [
              0.2222222222222222,
              "#7201a8"
             ],
             [
              0.3333333333333333,
              "#9c179e"
             ],
             [
              0.4444444444444444,
              "#bd3786"
             ],
             [
              0.5555555555555556,
              "#d8576b"
             ],
             [
              0.6666666666666666,
              "#ed7953"
             ],
             [
              0.7777777777777778,
              "#fb9f3a"
             ],
             [
              0.8888888888888888,
              "#fdca26"
             ],
             [
              1,
              "#f0f921"
             ]
            ],
            "type": "heatmap"
           }
          ],
          "heatmapgl": [
           {
            "colorbar": {
             "outlinewidth": 0,
             "ticks": ""
            },
            "colorscale": [
             [
              0,
              "#0d0887"
             ],
             [
              0.1111111111111111,
              "#46039f"
             ],
             [
              0.2222222222222222,
              "#7201a8"
             ],
             [
              0.3333333333333333,
              "#9c179e"
             ],
             [
              0.4444444444444444,
              "#bd3786"
             ],
             [
              0.5555555555555556,
              "#d8576b"
             ],
             [
              0.6666666666666666,
              "#ed7953"
             ],
             [
              0.7777777777777778,
              "#fb9f3a"
             ],
             [
              0.8888888888888888,
              "#fdca26"
             ],
             [
              1,
              "#f0f921"
             ]
            ],
            "type": "heatmapgl"
           }
          ],
          "histogram": [
           {
            "marker": {
             "colorbar": {
              "outlinewidth": 0,
              "ticks": ""
             }
            },
            "type": "histogram"
           }
          ],
          "histogram2d": [
           {
            "colorbar": {
             "outlinewidth": 0,
             "ticks": ""
            },
            "colorscale": [
             [
              0,
              "#0d0887"
             ],
             [
              0.1111111111111111,
              "#46039f"
             ],
             [
              0.2222222222222222,
              "#7201a8"
             ],
             [
              0.3333333333333333,
              "#9c179e"
             ],
             [
              0.4444444444444444,
              "#bd3786"
             ],
             [
              0.5555555555555556,
              "#d8576b"
             ],
             [
              0.6666666666666666,
              "#ed7953"
             ],
             [
              0.7777777777777778,
              "#fb9f3a"
             ],
             [
              0.8888888888888888,
              "#fdca26"
             ],
             [
              1,
              "#f0f921"
             ]
            ],
            "type": "histogram2d"
           }
          ],
          "histogram2dcontour": [
           {
            "colorbar": {
             "outlinewidth": 0,
             "ticks": ""
            },
            "colorscale": [
             [
              0,
              "#0d0887"
             ],
             [
              0.1111111111111111,
              "#46039f"
             ],
             [
              0.2222222222222222,
              "#7201a8"
             ],
             [
              0.3333333333333333,
              "#9c179e"
             ],
             [
              0.4444444444444444,
              "#bd3786"
             ],
             [
              0.5555555555555556,
              "#d8576b"
             ],
             [
              0.6666666666666666,
              "#ed7953"
             ],
             [
              0.7777777777777778,
              "#fb9f3a"
             ],
             [
              0.8888888888888888,
              "#fdca26"
             ],
             [
              1,
              "#f0f921"
             ]
            ],
            "type": "histogram2dcontour"
           }
          ],
          "mesh3d": [
           {
            "colorbar": {
             "outlinewidth": 0,
             "ticks": ""
            },
            "type": "mesh3d"
           }
          ],
          "parcoords": [
           {
            "line": {
             "colorbar": {
              "outlinewidth": 0,
              "ticks": ""
             }
            },
            "type": "parcoords"
           }
          ],
          "pie": [
           {
            "automargin": true,
            "type": "pie"
           }
          ],
          "scatter": [
           {
            "marker": {
             "colorbar": {
              "outlinewidth": 0,
              "ticks": ""
             }
            },
            "type": "scatter"
           }
          ],
          "scatter3d": [
           {
            "line": {
             "colorbar": {
              "outlinewidth": 0,
              "ticks": ""
             }
            },
            "marker": {
             "colorbar": {
              "outlinewidth": 0,
              "ticks": ""
             }
            },
            "type": "scatter3d"
           }
          ],
          "scattercarpet": [
           {
            "marker": {
             "colorbar": {
              "outlinewidth": 0,
              "ticks": ""
             }
            },
            "type": "scattercarpet"
           }
          ],
          "scattergeo": [
           {
            "marker": {
             "colorbar": {
              "outlinewidth": 0,
              "ticks": ""
             }
            },
            "type": "scattergeo"
           }
          ],
          "scattergl": [
           {
            "marker": {
             "colorbar": {
              "outlinewidth": 0,
              "ticks": ""
             }
            },
            "type": "scattergl"
           }
          ],
          "scattermapbox": [
           {
            "marker": {
             "colorbar": {
              "outlinewidth": 0,
              "ticks": ""
             }
            },
            "type": "scattermapbox"
           }
          ],
          "scatterpolar": [
           {
            "marker": {
             "colorbar": {
              "outlinewidth": 0,
              "ticks": ""
             }
            },
            "type": "scatterpolar"
           }
          ],
          "scatterpolargl": [
           {
            "marker": {
             "colorbar": {
              "outlinewidth": 0,
              "ticks": ""
             }
            },
            "type": "scatterpolargl"
           }
          ],
          "scatterternary": [
           {
            "marker": {
             "colorbar": {
              "outlinewidth": 0,
              "ticks": ""
             }
            },
            "type": "scatterternary"
           }
          ],
          "surface": [
           {
            "colorbar": {
             "outlinewidth": 0,
             "ticks": ""
            },
            "colorscale": [
             [
              0,
              "#0d0887"
             ],
             [
              0.1111111111111111,
              "#46039f"
             ],
             [
              0.2222222222222222,
              "#7201a8"
             ],
             [
              0.3333333333333333,
              "#9c179e"
             ],
             [
              0.4444444444444444,
              "#bd3786"
             ],
             [
              0.5555555555555556,
              "#d8576b"
             ],
             [
              0.6666666666666666,
              "#ed7953"
             ],
             [
              0.7777777777777778,
              "#fb9f3a"
             ],
             [
              0.8888888888888888,
              "#fdca26"
             ],
             [
              1,
              "#f0f921"
             ]
            ],
            "type": "surface"
           }
          ],
          "table": [
           {
            "cells": {
             "fill": {
              "color": "#EBF0F8"
             },
             "line": {
              "color": "white"
             }
            },
            "header": {
             "fill": {
              "color": "#C8D4E3"
             },
             "line": {
              "color": "white"
             }
            },
            "type": "table"
           }
          ]
         },
         "layout": {
          "annotationdefaults": {
           "arrowcolor": "#2a3f5f",
           "arrowhead": 0,
           "arrowwidth": 1
          },
          "coloraxis": {
           "colorbar": {
            "outlinewidth": 0,
            "ticks": ""
           }
          },
          "colorscale": {
           "diverging": [
            [
             0,
             "#8e0152"
            ],
            [
             0.1,
             "#c51b7d"
            ],
            [
             0.2,
             "#de77ae"
            ],
            [
             0.3,
             "#f1b6da"
            ],
            [
             0.4,
             "#fde0ef"
            ],
            [
             0.5,
             "#f7f7f7"
            ],
            [
             0.6,
             "#e6f5d0"
            ],
            [
             0.7,
             "#b8e186"
            ],
            [
             0.8,
             "#7fbc41"
            ],
            [
             0.9,
             "#4d9221"
            ],
            [
             1,
             "#276419"
            ]
           ],
           "sequential": [
            [
             0,
             "#0d0887"
            ],
            [
             0.1111111111111111,
             "#46039f"
            ],
            [
             0.2222222222222222,
             "#7201a8"
            ],
            [
             0.3333333333333333,
             "#9c179e"
            ],
            [
             0.4444444444444444,
             "#bd3786"
            ],
            [
             0.5555555555555556,
             "#d8576b"
            ],
            [
             0.6666666666666666,
             "#ed7953"
            ],
            [
             0.7777777777777778,
             "#fb9f3a"
            ],
            [
             0.8888888888888888,
             "#fdca26"
            ],
            [
             1,
             "#f0f921"
            ]
           ],
           "sequentialminus": [
            [
             0,
             "#0d0887"
            ],
            [
             0.1111111111111111,
             "#46039f"
            ],
            [
             0.2222222222222222,
             "#7201a8"
            ],
            [
             0.3333333333333333,
             "#9c179e"
            ],
            [
             0.4444444444444444,
             "#bd3786"
            ],
            [
             0.5555555555555556,
             "#d8576b"
            ],
            [
             0.6666666666666666,
             "#ed7953"
            ],
            [
             0.7777777777777778,
             "#fb9f3a"
            ],
            [
             0.8888888888888888,
             "#fdca26"
            ],
            [
             1,
             "#f0f921"
            ]
           ]
          },
          "colorway": [
           "#636efa",
           "#EF553B",
           "#00cc96",
           "#ab63fa",
           "#FFA15A",
           "#19d3f3",
           "#FF6692",
           "#B6E880",
           "#FF97FF",
           "#FECB52"
          ],
          "font": {
           "color": "#2a3f5f"
          },
          "geo": {
           "bgcolor": "white",
           "lakecolor": "white",
           "landcolor": "white",
           "showlakes": true,
           "showland": true,
           "subunitcolor": "#C8D4E3"
          },
          "hoverlabel": {
           "align": "left"
          },
          "hovermode": "closest",
          "mapbox": {
           "style": "light"
          },
          "paper_bgcolor": "white",
          "plot_bgcolor": "white",
          "polar": {
           "angularaxis": {
            "gridcolor": "#EBF0F8",
            "linecolor": "#EBF0F8",
            "ticks": ""
           },
           "bgcolor": "white",
           "radialaxis": {
            "gridcolor": "#EBF0F8",
            "linecolor": "#EBF0F8",
            "ticks": ""
           }
          },
          "scene": {
           "xaxis": {
            "backgroundcolor": "white",
            "gridcolor": "#DFE8F3",
            "gridwidth": 2,
            "linecolor": "#EBF0F8",
            "showbackground": true,
            "ticks": "",
            "zerolinecolor": "#EBF0F8"
           },
           "yaxis": {
            "backgroundcolor": "white",
            "gridcolor": "#DFE8F3",
            "gridwidth": 2,
            "linecolor": "#EBF0F8",
            "showbackground": true,
            "ticks": "",
            "zerolinecolor": "#EBF0F8"
           },
           "zaxis": {
            "backgroundcolor": "white",
            "gridcolor": "#DFE8F3",
            "gridwidth": 2,
            "linecolor": "#EBF0F8",
            "showbackground": true,
            "ticks": "",
            "zerolinecolor": "#EBF0F8"
           }
          },
          "shapedefaults": {
           "line": {
            "color": "#2a3f5f"
           }
          },
          "ternary": {
           "aaxis": {
            "gridcolor": "#DFE8F3",
            "linecolor": "#A2B1C6",
            "ticks": ""
           },
           "baxis": {
            "gridcolor": "#DFE8F3",
            "linecolor": "#A2B1C6",
            "ticks": ""
           },
           "bgcolor": "white",
           "caxis": {
            "gridcolor": "#DFE8F3",
            "linecolor": "#A2B1C6",
            "ticks": ""
           }
          },
          "title": {
           "x": 0.05
          },
          "xaxis": {
           "automargin": true,
           "gridcolor": "#EBF0F8",
           "linecolor": "#EBF0F8",
           "ticks": "",
           "title": {
            "standoff": 15
           },
           "zerolinecolor": "#EBF0F8",
           "zerolinewidth": 2
          },
          "yaxis": {
           "automargin": true,
           "gridcolor": "#EBF0F8",
           "linecolor": "#EBF0F8",
           "ticks": "",
           "title": {
            "standoff": 15
           },
           "zerolinecolor": "#EBF0F8",
           "zerolinewidth": 2
          }
         }
        },
        "title": {
         "text": "Veh1 - Vehicle Frame Velocity | Acceleration"
        },
        "width": 900,
        "xaxis": {
         "anchor": "y",
         "domain": [
          0,
          1
         ],
         "linecolor": "black",
         "linewidth": 1,
         "matches": "x2",
         "showgrid": false,
         "showline": true,
         "showticklabels": false,
         "tickcolor": "black",
         "ticklen": 10,
         "ticks": "outside",
         "tickwidth": 1,
         "title": {
          "text": ""
         },
         "zeroline": false
        },
        "xaxis2": {
         "anchor": "y2",
         "domain": [
          0,
          1
         ],
         "linecolor": "black",
         "linewidth": 1,
         "showgrid": false,
         "showline": true,
         "tickcolor": "black",
         "ticklen": 10,
         "ticks": "outside",
         "tickwidth": 1,
         "title": {
          "text": "Time (s)"
         },
         "zeroline": false
        },
        "yaxis": {
         "anchor": "x",
         "domain": [
          0.525,
          1
         ],
         "linecolor": "black",
         "linewidth": 1,
         "showgrid": false,
         "showline": true,
         "tickcolor": "black",
         "ticklen": 10,
         "ticks": "outside",
         "tickwidth": 1,
         "title": {
          "text": "Velocity (mph)"
         },
         "zeroline": false
        },
        "yaxis2": {
         "anchor": "x2",
         "domain": [
          0,
          0.475
         ],
         "linecolor": "black",
         "linewidth": 1,
         "showgrid": false,
         "showline": true,
         "tickcolor": "black",
         "ticklen": 10,
         "ticks": "outside",
         "tickwidth": 1,
         "title": {
          "text": "Acceleration (g)"
         },
         "zeroline": false
        }
       }
      },
      "text/html": [
       "<div>\n",
       "        \n",
       "        \n",
       "            <div id=\"c203108b-0717-45ec-b9e9-c948c263f6ff\" class=\"plotly-graph-div\" style=\"height:500px; width:900px;\"></div>\n",
       "            <script type=\"text/javascript\">\n",
       "                require([\"plotly\"], function(Plotly) {\n",
       "                    window.PLOTLYENV=window.PLOTLYENV || {};\n",
       "                    \n",
       "                if (document.getElementById(\"c203108b-0717-45ec-b9e9-c948c263f6ff\")) {\n",
       "                    Plotly.newPlot(\n",
       "                        'c203108b-0717-45ec-b9e9-c948c263f6ff',\n",
       "                        [{\"line\": {\"color\": \"rgb(0, 255, 0)\", \"width\": 2}, \"mode\": \"lines\", \"name\": \"x\", \"type\": \"scatter\", \"x\": [0.0, 0.1, 0.2, 0.3, 0.4, 0.5, 0.6, 0.7, 0.8, 0.9, 1.0, 1.1, 1.2, 1.3, 1.4, 1.5, 1.6, 1.7, 1.8, 1.9, 2.0, 2.1, 2.2, 2.3, 2.4, 2.5, 2.6, 2.7, 2.8, 2.9, 3.0, 3.1, 3.2, 3.3, 3.4, 3.5, 3.6, 3.7, 3.8, 3.9, 4.0, 4.1, 4.2, 4.3, 4.4, 4.5, 4.6, 4.7, 4.8, 4.9, 5.0, 5.1, 5.2, 5.3, 5.4, 5.5, 5.6, 5.7, 5.8, 5.9, 6.0, 6.1, 6.2, 6.3, 6.4, 6.5, 6.6, 6.7, 6.8, 6.9, 7.0, 7.1, 7.2, 7.3, 7.4, 7.5, 7.6, 7.7, 7.8, 7.9, 8.0, 8.1, 8.2, 8.3, 8.4, 8.5, 8.6, 8.7, 8.8, 8.9, 9.0, 9.1, 9.2, 9.3, 9.4, 9.5, 9.6, 9.7, 9.8, 9.9, 10.0, 10.1, 10.2, 10.3, 10.4, 10.5, 10.6, 10.7, 10.8, 10.9], \"xaxis\": \"x\", \"y\": [15.0, 15.0, 15.0, 15.0, 15.0, 15.0, 15.0, 15.0, 15.0, 15.0, 15.0, 14.99612783611973, 14.977642670299382, 14.938787461789333, 14.884849624334201, 14.818894835949878, 14.73335372731784, 14.61512706270951, 14.453830301257321, 14.244336455490133, 13.762951986286252, 13.020965295474694, 12.072232531596082, 10.883922062434516, 9.633472730950068, 8.36617516690777, 7.100679682885402, 5.839561392787825, 4.579589353804345, 3.3184120188569364, 2.055862244151436, 0.7925041926841263, -0.47058955328386615, -1.771861609792823, -3.2193764726067253, -4.784248178472961, -6.341918134113892, -7.866457047819028, -9.35534201805721, -10.79897994888338, -12.18305913052748, -13.489106872084246, -14.694109861582904, -15.770224216118796, -16.68453781128646, -17.399002406674906, -17.870629576296402, -18.052043323223764, -17.892494000894338, -17.339448053515063, -16.34087289150379, -14.84833084775893, -12.820974395538451, -10.230488545431603, -7.066944998701681, -3.3454037039341262, 0.88708732645568, 5.625657019603521, 10.8729023436899, 15.965116340573589, 20.109728911842478, 23.140029155898027, 24.998582306529972, 25.82788386693658, 25.4631092575004, 23.82808944417968, 21.29634647576061, 18.631887768946928, 15.853696756714683, 12.269770173423346, 8.22107413455056, 4.2343329142835735, 0.484583404639426, -2.8726562410545733, -5.522286821722986, -7.747768805911413, -9.95464068297931, -12.074955505033111, -14.12923031943723, -16.116163403432996, -17.95895382356627, -19.532025217829048, -20.721342202563083, -21.446913474638386, -21.644900212725403, -21.251409837888865, -20.199866338834124, -18.425492459978788, -15.872554175080438, -12.503256109307236, -8.308104759664655, -3.317548197417785, 2.5422427251049626, 9.049595366554064, 15.889675317976138, 22.411924219148222, 27.728752084328807, 31.53781877227395, 33.879004853699094, 34.65270012898161, 33.44928363717417, 30.42251020807465, 26.663105800075375, 21.85675040176144, 15.729373440028946, 9.197114607708615, 2.4866327382467692, -4.092539642293197, -10.087722597131132, -15.675876372168059], \"yaxis\": \"y\"}, {\"line\": {\"color\": \"rgb(0, 0, 255)\", \"width\": 2}, \"mode\": \"lines\", \"name\": \"y\", \"type\": \"scatter\", \"x\": [0.0, 0.1, 0.2, 0.3, 0.4, 0.5, 0.6, 0.7, 0.8, 0.9, 1.0, 1.1, 1.2, 1.3, 1.4, 1.5, 1.6, 1.7, 1.8, 1.9, 2.0, 2.1, 2.2, 2.3, 2.4, 2.5, 2.6, 2.7, 2.8, 2.9, 3.0, 3.1, 3.2, 3.3, 3.4, 3.5, 3.6, 3.7, 3.8, 3.9, 4.0, 4.1, 4.2, 4.3, 4.4, 4.5, 4.6, 4.7, 4.8, 4.9, 5.0, 5.1, 5.2, 5.3, 5.4, 5.5, 5.6, 5.7, 5.8, 5.9, 6.0, 6.1, 6.2, 6.3, 6.4, 6.5, 6.6, 6.7, 6.8, 6.9, 7.0, 7.1, 7.2, 7.3, 7.4, 7.5, 7.6, 7.7, 7.8, 7.9, 8.0, 8.1, 8.2, 8.3, 8.4, 8.5, 8.6, 8.7, 8.8, 8.9, 9.0, 9.1, 9.2, 9.3, 9.4, 9.5, 9.6, 9.7, 9.8, 9.9, 10.0, 10.1, 10.2, 10.3, 10.4, 10.5, 10.6, 10.7, 10.8, 10.9], \"xaxis\": \"x\", \"y\": [0.0, 0.0, 0.0, 0.0, 0.0, 0.0, 0.0, 0.0, 0.0, 0.0, 0.0, -0.10882899713957157, -0.3934652221754552, -0.7216485288318988, -0.9680839049105704, -1.1183664198648873, -1.2253230035978169, -1.3382128118590086, -1.4746024833471143, -1.6297065088395015, -1.3484659137123274, -0.7921432495433884, -0.27359490631144495, 0.23663394433994042, 0.45209529643321655, 0.4193928771996096, 0.2681681711855892, 0.11678843196363338, 0.0416421509109206, 0.04304506714491239, 0.04178155496787679, -0.041301933217593526, 0.0017998885747209444, 0.554387597292574, 1.2213046426507854, 1.6505950791003285, 2.1171099976915393, 2.6943036733310137, 3.377762609194626, 4.173620365990858, 5.092576528101544, 6.1463781430301605, 7.345780621235226, 8.698736801921639, 10.208949441526212, 11.874427375604506, 13.685886133018853, 15.624958473590755, 17.6622366669292, 19.755214213824438, 21.846243957350225, 23.860689584394688, 25.705523527998242, 27.268722535299897, 28.419945019681485, 29.013170255343617, 28.892305136400918, 27.859102449349752, 25.686034157327665, 22.396100079937224, 18.21174747872152, 13.33372325375131, 8.0247954021215, 2.5699418086341463, -2.6981742110373723, -7.515604753252181, -11.711258356565894, -15.47926929459525, -18.287377052446704, -19.887618484248037, -20.822544137981687, -20.991161693175084, -20.390683619062376, -19.153533850322784, -17.477379154207046, -15.389309188862587, -12.854722920715448, -9.956080988464144, -6.75115740069644, -3.329243366757313, 0.20229936945589627, 3.765072744676906, 7.327364264993243, 10.885754809977488, 14.438320375169885, 17.964557811820303, 21.414660198796238, 24.705467049262765, 27.71940816654539, 30.304988725449295, 32.27916962403963, 33.432895026308536, 33.47585860936971, 32.195564130208304, 29.37091004572213, 24.95319152561414, 19.207657356106107, 12.411622622285917, 4.805245005647549, -2.9753256846471126, -10.494543963581233, -17.45633533162135, -23.60921645710849, -28.581417665439222, -32.04246129855915, -34.15662687573743, -34.91796853724091, -34.41185443536021, -32.78211134543726, -30.036232595532194], \"yaxis\": \"y\"}, {\"line\": {\"color\": \"rgb(0, 255, 0)\", \"width\": 2}, \"mode\": \"lines\", \"name\": \"Ax\", \"showlegend\": false, \"type\": \"scatter\", \"x\": [0.0, 0.1, 0.2, 0.3, 0.4, 0.5, 0.6, 0.7, 0.8, 0.9, 1.0, 1.1, 1.2, 1.3, 1.4, 1.5, 1.6, 1.7, 1.8, 1.9, 2.0, 2.1, 2.2, 2.3, 2.4, 2.5, 2.6, 2.7, 2.8, 2.9, 3.0, 3.1, 3.2, 3.3, 3.4, 3.5, 3.6, 3.7, 3.8, 3.9, 4.0, 4.1, 4.2, 4.3, 4.4, 4.5, 4.6, 4.7, 4.8, 4.9, 5.0, 5.1, 5.2, 5.3, 5.4, 5.5, 5.6, 5.7, 5.8, 5.9, 6.0, 6.1, 6.2, 6.3, 6.4, 6.5, 6.6, 6.7, 6.8, 6.9, 7.0, 7.1, 7.2, 7.3, 7.4, 7.5, 7.6, 7.7, 7.8, 7.9, 8.0, 8.1, 8.2, 8.3, 8.4, 8.5, 8.6, 8.7, 8.8, 8.9, 9.0, 9.1, 9.2, 9.3, 9.4, 9.5, 9.6, 9.7, 9.8, 9.9, 10.0, 10.1, 10.2, 10.3, 10.4, 10.5, 10.6, 10.7, 10.8, 10.9], \"xaxis\": \"x2\", \"y\": [0.0, 0.0, 0.0, 0.0, 0.0, 0.0, 0.0, 0.0, 0.0, 0.0, 0.0, -0.003527445092095549, -0.013312081711463792, -0.02208404789439489, -0.027051981956735086, -0.03303119163310026, -0.0448946330857514, -0.0628069210639991, -0.08413042124599011, -0.10671326743187509, -0.3318160241502727, -0.34411541672711027, -0.5201565601659612, -0.5623647539987557, -0.5767635199194396, -0.5777130752693282, -0.5751218697934581, -0.5737255603540031, -0.5740776635068044, -0.5748235550319006, -0.5753279220285442, -0.5755598750804981, -0.5750871462852629, -0.6103393674538622, -0.7083107094674211, -0.7172485357765727, -0.7017500939376418, -0.68706697970454, -0.669270237251505, -0.6458480509502471, -0.6150136964671153, -0.5747633477000034, -0.5229644377708023, -0.4573490034510357, -0.37556796588098873, -0.275291529844707, -0.15434910423526874, -0.010914312041719424, 0.15625978072550717, 0.3475513370650268, 0.5621258262064511, 0.7975428938552067, 1.0493284650132448, 1.3105397845371969, 1.5713697891785632, 1.8188618697013925, 2.0368323039270644, 2.2798869580910366, 2.5002231658081975, 2.13865727071938, 1.636981809965675, 1.1235464254063443, 0.5695493195858037, 0.185923798179144, -0.5182244046522948, -0.9712380236726098, -1.335116920110738, -1.0921387640646811, -1.4387242246997054, -1.8261438510244599, -1.862117651667185, -1.7697045505247282, -1.6462240912825894, -1.412137816264005, -1.0016098133937215, -1.025748982724067, -0.9846564681698287, -0.9468976560920643, -0.9244956619464996, -0.8855510127765248, -0.7931852763519619, -0.6398436813023207, -0.4435945435423148, -0.21738285870283255, 0.03702185923072998, 0.32143809608697493, 0.6364919062475706, 0.9799186135665617, 1.3457447369377002, 1.7236020917129724, 2.098076560448694, 2.448196478775291, 2.889927466775291, 3.038109116227287, 3.193033779643653, 2.748572925873155, 2.094925164204115, 1.3750399533166946, 0.757722400747786, -0.05290522720828061, -1.043377298281915, -1.7139380962878932, -1.7107859180476954, -2.6676844372598203, -2.914203741910485, -3.0365217621884315, -3.0765605008448635, -2.916902080128149, -2.544560643084368, -2.546108609855637], \"yaxis\": \"y2\"}, {\"line\": {\"color\": \"rgb(0, 0, 255)\", \"width\": 2}, \"mode\": \"lines\", \"name\": \"Ay\", \"showlegend\": false, \"type\": \"scatter\", \"x\": [0.0, 0.1, 0.2, 0.3, 0.4, 0.5, 0.6, 0.7, 0.8, 0.9, 1.0, 1.1, 1.2, 1.3, 1.4, 1.5, 1.6, 1.7, 1.8, 1.9, 2.0, 2.1, 2.2, 2.3, 2.4, 2.5, 2.6, 2.7, 2.8, 2.9, 3.0, 3.1, 3.2, 3.3, 3.4, 3.5, 3.6, 3.7, 3.8, 3.9, 4.0, 4.1, 4.2, 4.3, 4.4, 4.5, 4.6, 4.7, 4.8, 4.9, 5.0, 5.1, 5.2, 5.3, 5.4, 5.5, 5.6, 5.7, 5.8, 5.9, 6.0, 6.1, 6.2, 6.3, 6.4, 6.5, 6.6, 6.7, 6.8, 6.9, 7.0, 7.1, 7.2, 7.3, 7.4, 7.5, 7.6, 7.7, 7.8, 7.9, 8.0, 8.1, 8.2, 8.3, 8.4, 8.5, 8.6, 8.7, 8.8, 8.9, 9.0, 9.1, 9.2, 9.3, 9.4, 9.5, 9.6, 9.7, 9.8, 9.9, 10.0, 10.1, 10.2, 10.3, 10.4, 10.5, 10.6, 10.7, 10.8, 10.9], \"xaxis\": \"x2\", \"y\": [0.0, 0.0, 0.0, 0.0, 0.0, 0.0, 0.0, 0.0, 0.0, 0.0, 0.0, -0.0991405125681338, -0.16015601673210184, -0.13881082200939257, -0.08568568298023797, -0.051217954416065116, -0.04621683605820556, -0.05662297455200695, -0.06762462761039052, -0.07367128609701282, 0.3298744809138901, 0.17692164446291572, 0.29546301303273304, 0.16934279341749503, 0.02693714526240884, -0.05672823670175935, -0.08103371334146008, -0.05686946810243179, -0.011586926948240399, 0.012864948782345209, -0.014015976984017756, -0.06167101656690381, 0.10093570536698694, 0.402457968387804, 0.2050868905659399, 0.18598603143868805, 0.23899746896514487, 0.28681162932687226, 0.33580248089864584, 0.38920416267919844, 0.4479420697946401, 0.512045019998748, 0.580580838826733, 0.6519286279604346, 0.7238375659084089, 0.7933714537031519, 0.8568224691147969, 0.9096242574358797, 0.946285561088154, 0.9603649846912479, 0.9445111606112193, 0.8905987572877275, 0.7899991309514163, 0.6340363274579734, 0.41469875401280054, 0.12571469716023376, -0.23581981765693544, -0.7054021606147014, -1.274209064143082, -1.722839142867005, -2.0890021177696645, -2.354756758029747, -2.4815446159763974, -2.4876914833776995, -2.3114313256729986, -2.0771282105693563, -1.7450079822083593, -1.6875563671577998, -0.8705600335925053, -0.5872201532274065, -0.2644738893573969, 0.11086748583224337, 0.4361531209745177, 0.6908595817070339, 0.8360757028594674, 1.066104158054667, 1.2428409611399682, 1.3977498231923409, 1.5218559398332858, 1.5954227285875213, 1.6217249639105071, 1.6238730648071305, 1.621286006063901, 1.6203193731982364, 1.6159795941935224, 1.5963351022114889, 1.5466224554940948, 1.4512208261045025, 1.2944046512153131, 1.0609949999198385, 0.7374347507233247, 0.31358042675849546, -0.2744416700079764, -0.8918747919495738, -1.6813149012761006, -2.343116913560411, -2.8909219686708587, -3.300096828255888, -3.6291242021757837, -3.4587823905785453, -3.3910386486539417, -2.9509803238699064, -2.654141514837066, -1.8754102530029548, -1.2775145081075998, -0.6484378068489677, -0.04512553145992364, 0.5061829040098416, 0.9784725603984197, 1.5229547601750335], \"yaxis\": \"y2\"}],\n",
       "                        {\"autosize\": false, \"font\": {\"color\": \"black\", \"family\": \"Arial\", \"size\": 14}, \"height\": 500, \"legend\": {\"orientation\": \"h\", \"x\": 0.01, \"xanchor\": \"left\", \"y\": 1.1, \"yanchor\": \"top\"}, \"template\": {\"data\": {\"bar\": [{\"error_x\": {\"color\": \"#2a3f5f\"}, \"error_y\": {\"color\": \"#2a3f5f\"}, \"marker\": {\"line\": {\"color\": \"white\", \"width\": 0.5}}, \"type\": \"bar\"}], \"barpolar\": [{\"marker\": {\"line\": {\"color\": \"white\", \"width\": 0.5}}, \"type\": \"barpolar\"}], \"carpet\": [{\"aaxis\": {\"endlinecolor\": \"#2a3f5f\", \"gridcolor\": \"#C8D4E3\", \"linecolor\": \"#C8D4E3\", \"minorgridcolor\": \"#C8D4E3\", \"startlinecolor\": \"#2a3f5f\"}, \"baxis\": {\"endlinecolor\": \"#2a3f5f\", \"gridcolor\": \"#C8D4E3\", \"linecolor\": \"#C8D4E3\", \"minorgridcolor\": \"#C8D4E3\", \"startlinecolor\": \"#2a3f5f\"}, \"type\": \"carpet\"}], \"choropleth\": [{\"colorbar\": {\"outlinewidth\": 0, \"ticks\": \"\"}, \"type\": \"choropleth\"}], \"contour\": [{\"colorbar\": {\"outlinewidth\": 0, \"ticks\": \"\"}, \"colorscale\": [[0.0, \"#0d0887\"], [0.1111111111111111, \"#46039f\"], [0.2222222222222222, \"#7201a8\"], [0.3333333333333333, \"#9c179e\"], [0.4444444444444444, \"#bd3786\"], [0.5555555555555556, \"#d8576b\"], [0.6666666666666666, \"#ed7953\"], [0.7777777777777778, \"#fb9f3a\"], [0.8888888888888888, \"#fdca26\"], [1.0, \"#f0f921\"]], \"type\": \"contour\"}], \"contourcarpet\": [{\"colorbar\": {\"outlinewidth\": 0, \"ticks\": \"\"}, \"type\": \"contourcarpet\"}], \"heatmap\": [{\"colorbar\": {\"outlinewidth\": 0, \"ticks\": \"\"}, \"colorscale\": [[0.0, \"#0d0887\"], [0.1111111111111111, \"#46039f\"], [0.2222222222222222, \"#7201a8\"], [0.3333333333333333, \"#9c179e\"], [0.4444444444444444, \"#bd3786\"], [0.5555555555555556, \"#d8576b\"], [0.6666666666666666, \"#ed7953\"], [0.7777777777777778, \"#fb9f3a\"], [0.8888888888888888, \"#fdca26\"], [1.0, \"#f0f921\"]], \"type\": \"heatmap\"}], \"heatmapgl\": [{\"colorbar\": {\"outlinewidth\": 0, \"ticks\": \"\"}, \"colorscale\": [[0.0, \"#0d0887\"], [0.1111111111111111, \"#46039f\"], [0.2222222222222222, \"#7201a8\"], [0.3333333333333333, \"#9c179e\"], [0.4444444444444444, \"#bd3786\"], [0.5555555555555556, \"#d8576b\"], [0.6666666666666666, \"#ed7953\"], [0.7777777777777778, \"#fb9f3a\"], [0.8888888888888888, \"#fdca26\"], [1.0, \"#f0f921\"]], \"type\": \"heatmapgl\"}], \"histogram\": [{\"marker\": {\"colorbar\": {\"outlinewidth\": 0, \"ticks\": \"\"}}, \"type\": \"histogram\"}], \"histogram2d\": [{\"colorbar\": {\"outlinewidth\": 0, \"ticks\": \"\"}, \"colorscale\": [[0.0, \"#0d0887\"], [0.1111111111111111, \"#46039f\"], [0.2222222222222222, \"#7201a8\"], [0.3333333333333333, \"#9c179e\"], [0.4444444444444444, \"#bd3786\"], [0.5555555555555556, \"#d8576b\"], [0.6666666666666666, \"#ed7953\"], [0.7777777777777778, \"#fb9f3a\"], [0.8888888888888888, \"#fdca26\"], [1.0, \"#f0f921\"]], \"type\": \"histogram2d\"}], \"histogram2dcontour\": [{\"colorbar\": {\"outlinewidth\": 0, \"ticks\": \"\"}, \"colorscale\": [[0.0, \"#0d0887\"], [0.1111111111111111, \"#46039f\"], [0.2222222222222222, \"#7201a8\"], [0.3333333333333333, \"#9c179e\"], [0.4444444444444444, \"#bd3786\"], [0.5555555555555556, \"#d8576b\"], [0.6666666666666666, \"#ed7953\"], [0.7777777777777778, \"#fb9f3a\"], [0.8888888888888888, \"#fdca26\"], [1.0, \"#f0f921\"]], \"type\": \"histogram2dcontour\"}], \"mesh3d\": [{\"colorbar\": {\"outlinewidth\": 0, \"ticks\": \"\"}, \"type\": \"mesh3d\"}], \"parcoords\": [{\"line\": {\"colorbar\": {\"outlinewidth\": 0, \"ticks\": \"\"}}, \"type\": \"parcoords\"}], \"pie\": [{\"automargin\": true, \"type\": \"pie\"}], \"scatter\": [{\"marker\": {\"colorbar\": {\"outlinewidth\": 0, \"ticks\": \"\"}}, \"type\": \"scatter\"}], \"scatter3d\": [{\"line\": {\"colorbar\": {\"outlinewidth\": 0, \"ticks\": \"\"}}, \"marker\": {\"colorbar\": {\"outlinewidth\": 0, \"ticks\": \"\"}}, \"type\": \"scatter3d\"}], \"scattercarpet\": [{\"marker\": {\"colorbar\": {\"outlinewidth\": 0, \"ticks\": \"\"}}, \"type\": \"scattercarpet\"}], \"scattergeo\": [{\"marker\": {\"colorbar\": {\"outlinewidth\": 0, \"ticks\": \"\"}}, \"type\": \"scattergeo\"}], \"scattergl\": [{\"marker\": {\"colorbar\": {\"outlinewidth\": 0, \"ticks\": \"\"}}, \"type\": \"scattergl\"}], \"scattermapbox\": [{\"marker\": {\"colorbar\": {\"outlinewidth\": 0, \"ticks\": \"\"}}, \"type\": \"scattermapbox\"}], \"scatterpolar\": [{\"marker\": {\"colorbar\": {\"outlinewidth\": 0, \"ticks\": \"\"}}, \"type\": \"scatterpolar\"}], \"scatterpolargl\": [{\"marker\": {\"colorbar\": {\"outlinewidth\": 0, \"ticks\": \"\"}}, \"type\": \"scatterpolargl\"}], \"scatterternary\": [{\"marker\": {\"colorbar\": {\"outlinewidth\": 0, \"ticks\": \"\"}}, \"type\": \"scatterternary\"}], \"surface\": [{\"colorbar\": {\"outlinewidth\": 0, \"ticks\": \"\"}, \"colorscale\": [[0.0, \"#0d0887\"], [0.1111111111111111, \"#46039f\"], [0.2222222222222222, \"#7201a8\"], [0.3333333333333333, \"#9c179e\"], [0.4444444444444444, \"#bd3786\"], [0.5555555555555556, \"#d8576b\"], [0.6666666666666666, \"#ed7953\"], [0.7777777777777778, \"#fb9f3a\"], [0.8888888888888888, \"#fdca26\"], [1.0, \"#f0f921\"]], \"type\": \"surface\"}], \"table\": [{\"cells\": {\"fill\": {\"color\": \"#EBF0F8\"}, \"line\": {\"color\": \"white\"}}, \"header\": {\"fill\": {\"color\": \"#C8D4E3\"}, \"line\": {\"color\": \"white\"}}, \"type\": \"table\"}]}, \"layout\": {\"annotationdefaults\": {\"arrowcolor\": \"#2a3f5f\", \"arrowhead\": 0, \"arrowwidth\": 1}, \"coloraxis\": {\"colorbar\": {\"outlinewidth\": 0, \"ticks\": \"\"}}, \"colorscale\": {\"diverging\": [[0, \"#8e0152\"], [0.1, \"#c51b7d\"], [0.2, \"#de77ae\"], [0.3, \"#f1b6da\"], [0.4, \"#fde0ef\"], [0.5, \"#f7f7f7\"], [0.6, \"#e6f5d0\"], [0.7, \"#b8e186\"], [0.8, \"#7fbc41\"], [0.9, \"#4d9221\"], [1, \"#276419\"]], \"sequential\": [[0.0, \"#0d0887\"], [0.1111111111111111, \"#46039f\"], [0.2222222222222222, \"#7201a8\"], [0.3333333333333333, \"#9c179e\"], [0.4444444444444444, \"#bd3786\"], [0.5555555555555556, \"#d8576b\"], [0.6666666666666666, \"#ed7953\"], [0.7777777777777778, \"#fb9f3a\"], [0.8888888888888888, \"#fdca26\"], [1.0, \"#f0f921\"]], \"sequentialminus\": [[0.0, \"#0d0887\"], [0.1111111111111111, \"#46039f\"], [0.2222222222222222, \"#7201a8\"], [0.3333333333333333, \"#9c179e\"], [0.4444444444444444, \"#bd3786\"], [0.5555555555555556, \"#d8576b\"], [0.6666666666666666, \"#ed7953\"], [0.7777777777777778, \"#fb9f3a\"], [0.8888888888888888, \"#fdca26\"], [1.0, \"#f0f921\"]]}, \"colorway\": [\"#636efa\", \"#EF553B\", \"#00cc96\", \"#ab63fa\", \"#FFA15A\", \"#19d3f3\", \"#FF6692\", \"#B6E880\", \"#FF97FF\", \"#FECB52\"], \"font\": {\"color\": \"#2a3f5f\"}, \"geo\": {\"bgcolor\": \"white\", \"lakecolor\": \"white\", \"landcolor\": \"white\", \"showlakes\": true, \"showland\": true, \"subunitcolor\": \"#C8D4E3\"}, \"hoverlabel\": {\"align\": \"left\"}, \"hovermode\": \"closest\", \"mapbox\": {\"style\": \"light\"}, \"paper_bgcolor\": \"white\", \"plot_bgcolor\": \"white\", \"polar\": {\"angularaxis\": {\"gridcolor\": \"#EBF0F8\", \"linecolor\": \"#EBF0F8\", \"ticks\": \"\"}, \"bgcolor\": \"white\", \"radialaxis\": {\"gridcolor\": \"#EBF0F8\", \"linecolor\": \"#EBF0F8\", \"ticks\": \"\"}}, \"scene\": {\"xaxis\": {\"backgroundcolor\": \"white\", \"gridcolor\": \"#DFE8F3\", \"gridwidth\": 2, \"linecolor\": \"#EBF0F8\", \"showbackground\": true, \"ticks\": \"\", \"zerolinecolor\": \"#EBF0F8\"}, \"yaxis\": {\"backgroundcolor\": \"white\", \"gridcolor\": \"#DFE8F3\", \"gridwidth\": 2, \"linecolor\": \"#EBF0F8\", \"showbackground\": true, \"ticks\": \"\", \"zerolinecolor\": \"#EBF0F8\"}, \"zaxis\": {\"backgroundcolor\": \"white\", \"gridcolor\": \"#DFE8F3\", \"gridwidth\": 2, \"linecolor\": \"#EBF0F8\", \"showbackground\": true, \"ticks\": \"\", \"zerolinecolor\": \"#EBF0F8\"}}, \"shapedefaults\": {\"line\": {\"color\": \"#2a3f5f\"}}, \"ternary\": {\"aaxis\": {\"gridcolor\": \"#DFE8F3\", \"linecolor\": \"#A2B1C6\", \"ticks\": \"\"}, \"baxis\": {\"gridcolor\": \"#DFE8F3\", \"linecolor\": \"#A2B1C6\", \"ticks\": \"\"}, \"bgcolor\": \"white\", \"caxis\": {\"gridcolor\": \"#DFE8F3\", \"linecolor\": \"#A2B1C6\", \"ticks\": \"\"}}, \"title\": {\"x\": 0.05}, \"xaxis\": {\"automargin\": true, \"gridcolor\": \"#EBF0F8\", \"linecolor\": \"#EBF0F8\", \"ticks\": \"\", \"title\": {\"standoff\": 15}, \"zerolinecolor\": \"#EBF0F8\", \"zerolinewidth\": 2}, \"yaxis\": {\"automargin\": true, \"gridcolor\": \"#EBF0F8\", \"linecolor\": \"#EBF0F8\", \"ticks\": \"\", \"title\": {\"standoff\": 15}, \"zerolinecolor\": \"#EBF0F8\", \"zerolinewidth\": 2}}}, \"title\": {\"text\": \"Veh1 - Vehicle Frame Velocity | Acceleration\"}, \"width\": 900, \"xaxis\": {\"anchor\": \"y\", \"domain\": [0.0, 1.0], \"linecolor\": \"black\", \"linewidth\": 1, \"matches\": \"x2\", \"showgrid\": false, \"showline\": true, \"showticklabels\": false, \"tickcolor\": \"black\", \"ticklen\": 10, \"ticks\": \"outside\", \"tickwidth\": 1, \"title\": {\"text\": \"\"}, \"zeroline\": false}, \"xaxis2\": {\"anchor\": \"y2\", \"domain\": [0.0, 1.0], \"linecolor\": \"black\", \"linewidth\": 1, \"showgrid\": false, \"showline\": true, \"tickcolor\": \"black\", \"ticklen\": 10, \"ticks\": \"outside\", \"tickwidth\": 1, \"title\": {\"text\": \"Time (s)\"}, \"zeroline\": false}, \"yaxis\": {\"anchor\": \"x\", \"domain\": [0.525, 1.0], \"linecolor\": \"black\", \"linewidth\": 1, \"showgrid\": false, \"showline\": true, \"tickcolor\": \"black\", \"ticklen\": 10, \"ticks\": \"outside\", \"tickwidth\": 1, \"title\": {\"text\": \"Velocity (mph)\"}, \"zeroline\": false}, \"yaxis2\": {\"anchor\": \"x2\", \"domain\": [0.0, 0.475], \"linecolor\": \"black\", \"linewidth\": 1, \"showgrid\": false, \"showline\": true, \"tickcolor\": \"black\", \"ticklen\": 10, \"ticks\": \"outside\", \"tickwidth\": 1, \"title\": {\"text\": \"Acceleration (g)\"}, \"zeroline\": false}},\n",
       "                        {\"responsive\": true}\n",
       "                    ).then(function(){\n",
       "                            \n",
       "var gd = document.getElementById('c203108b-0717-45ec-b9e9-c948c263f6ff');\n",
       "var x = new MutationObserver(function (mutations, observer) {{\n",
       "        var display = window.getComputedStyle(gd).display;\n",
       "        if (!display || display === 'none') {{\n",
       "            console.log([gd, 'removed!']);\n",
       "            Plotly.purge(gd);\n",
       "            observer.disconnect();\n",
       "        }}\n",
       "}});\n",
       "\n",
       "// Listen for the removal of the full notebook cells\n",
       "var notebookContainer = gd.closest('#notebook-container');\n",
       "if (notebookContainer) {{\n",
       "    x.observe(notebookContainer, {childList: true});\n",
       "}}\n",
       "\n",
       "// Listen for the clearing of the current output cell\n",
       "var outputEl = gd.closest('.output');\n",
       "if (outputEl) {{\n",
       "    x.observe(outputEl, {childList: true});\n",
       "}}\n",
       "\n",
       "                        })\n",
       "                };\n",
       "                });\n",
       "            </script>\n",
       "        </div>"
      ]
     },
     "metadata": {},
     "output_type": "display_data"
    },
    {
     "data": {
      "application/vnd.plotly.v1+json": {
       "config": {
        "plotlyServerURL": "https://plot.ly"
       },
       "data": [
        {
         "line": {
          "color": "rgb(0, 0, 255)",
          "width": 2
         },
         "mode": "lines",
         "name": "LF",
         "type": "scatter",
         "x": [
          0,
          0.1,
          0.2,
          0.3,
          0.4,
          0.5,
          0.6,
          0.7,
          0.8,
          0.9,
          1,
          1.1,
          1.2,
          1.3,
          1.4,
          1.5,
          1.6,
          1.7,
          1.8,
          1.9,
          2,
          2.1,
          2.2,
          2.3,
          2.4,
          2.5,
          2.6,
          2.7,
          2.8,
          2.9,
          3,
          3.1,
          3.2,
          3.3,
          3.4,
          3.5,
          3.6,
          3.7,
          3.8,
          3.9,
          4,
          4.1,
          4.2,
          4.3,
          4.4,
          4.5,
          4.6,
          4.7,
          4.8,
          4.9,
          5,
          5.1,
          5.2,
          5.3,
          5.4,
          5.5,
          5.6,
          5.7,
          5.8,
          5.9,
          6,
          6.1,
          6.2,
          6.3,
          6.4,
          6.5,
          6.6,
          6.7,
          6.8,
          6.9,
          7,
          7.1,
          7.2,
          7.3,
          7.4,
          7.5,
          7.6,
          7.7,
          7.8,
          7.9,
          8,
          8.1,
          8.2,
          8.3,
          8.4,
          8.5,
          8.6,
          8.7,
          8.8,
          8.9,
          9,
          9.1,
          9.2,
          9.3,
          9.4,
          9.5,
          9.6,
          9.7,
          9.8,
          9.9,
          10,
          10.1,
          10.2,
          10.3,
          10.4,
          10.5,
          10.6,
          10.7,
          10.8,
          10.9
         ],
         "xaxis": "x",
         "y": [
          0,
          0,
          0,
          0,
          0,
          0,
          0,
          0,
          0,
          0,
          0,
          -5.816756956865561,
          -20.57604401504729,
          -34.0765632122691,
          -46.012085036628534,
          -61.30259948202702,
          -82.0430946242164,
          -105.4744990859042,
          -127.82642789689483,
          -147.5847292739599,
          -164.9908283643891,
          -296.4066694858581,
          -734.245666426389,
          -914.2156459949886,
          -914.1492351224741,
          -893.2587110931029,
          -884.7706632400534,
          -898.0042745664083,
          -926.7119124283358,
          -955.3520649975284,
          -963.9142147547852,
          -941.8481888377464,
          -911.6153374501006,
          -747.7694499923488,
          -1100.3689904281716,
          -1053.928215159913,
          -1022.8290858606326,
          -1031.9858329336314,
          -1038.783963057389,
          -1041.8059003909862,
          -1043.2749711375645,
          -1043.3831577321916,
          -1041.8292987300144,
          -1038.1245821080201,
          -1031.6683785211753,
          -1021.7902474165076,
          -1007.7680668482911,
          -988.8408448191487,
          -964.2227678450945,
          -933.1211229352658,
          -894.7601978856051,
          -848.4136003271459,
          -793.4484343456975,
          -729.3866239149338,
          -655.9918851165701,
          -573.3961393845827,
          -482.28666774760586,
          -79.79565491740604,
          -143.67302351213937,
          -172.1123452094364,
          -269.6302812697561,
          -390.95038461274316,
          -526.916397697983,
          -668.3366156829298,
          -747.2469762145079,
          -926.271097426698,
          -999.9811724523481,
          -186.24368706278815,
          214.29799645661666,
          -908.7421875987518,
          -838.0863924200921,
          -665.8602741619485,
          -458.5025387268217,
          -223.3357024347075,
          850.0734872553567,
          604.3243208037893,
          437.2708209123134,
          160.77386512889638,
          -205.16733018876243,
          -595.1345252035395,
          -890.4690934775962,
          -1043.2292681790116,
          -1095.1267377652275,
          -1096.4212614898508,
          -1073.3903675516574,
          -1036.0707970970846,
          -987.6765638033668,
          -928.9158014273048,
          -859.6850576800887,
          -779.7747028696664,
          -689.2430879341418,
          -588.7156888701866,
          -5.368612576806015,
          -88.92930093493631,
          -170.58892991328355,
          -210.09260143013628,
          -326.3848524586844,
          -468.11907528597163,
          -621.6732440276455,
          -662.3908584606447,
          -928.1409561072695,
          -997.9542783281472,
          -62.79394734806343,
          -763.0926044561177,
          -878.2196829960405,
          -701.5525052228111,
          -482.086580699934,
          -227.77775682364904,
          833.9288588458479,
          574.1961239060226
         ],
         "yaxis": "y"
        },
        {
         "line": {
          "color": "rgb(0, 255, 0)",
          "width": 2
         },
         "mode": "lines",
         "name": "RF",
         "type": "scatter",
         "x": [
          0,
          0.1,
          0.2,
          0.3,
          0.4,
          0.5,
          0.6,
          0.7,
          0.8,
          0.9,
          1,
          1.1,
          1.2,
          1.3,
          1.4,
          1.5,
          1.6,
          1.7,
          1.8,
          1.9,
          2,
          2.1,
          2.2,
          2.3,
          2.4,
          2.5,
          2.6,
          2.7,
          2.8,
          2.9,
          3,
          3.1,
          3.2,
          3.3,
          3.4,
          3.5,
          3.6,
          3.7,
          3.8,
          3.9,
          4,
          4.1,
          4.2,
          4.3,
          4.4,
          4.5,
          4.6,
          4.7,
          4.8,
          4.9,
          5,
          5.1,
          5.2,
          5.3,
          5.4,
          5.5,
          5.6,
          5.7,
          5.8,
          5.9,
          6,
          6.1,
          6.2,
          6.3,
          6.4,
          6.5,
          6.6,
          6.7,
          6.8,
          6.9,
          7,
          7.1,
          7.2,
          7.3,
          7.4,
          7.5,
          7.6,
          7.7,
          7.8,
          7.9,
          8,
          8.1,
          8.2,
          8.3,
          8.4,
          8.5,
          8.6,
          8.7,
          8.8,
          8.9,
          9,
          9.1,
          9.2,
          9.3,
          9.4,
          9.5,
          9.6,
          9.7,
          9.8,
          9.9,
          10,
          10.1,
          10.2,
          10.3,
          10.4,
          10.5,
          10.6,
          10.7,
          10.8,
          10.9
         ],
         "xaxis": "x",
         "y": [
          0,
          0,
          0,
          0,
          0,
          0,
          0,
          0,
          0,
          0,
          0,
          -5.816756956865561,
          -23.743166855790424,
          -44.49282056340196,
          -64.51624871483637,
          -91.62433461877521,
          -134.02381662569087,
          -194.1101745616886,
          -269.52937429999173,
          -356.80710230665943,
          -1119.6601114126624,
          -983.9193858005218,
          -1047.8908820441125,
          -957.3437512752013,
          -979.1964572137256,
          -1003.8015931588243,
          -1011.1587811801396,
          -996.713958212168,
          -968.1899814272942,
          -940.8207630002764,
          -933.583226281939,
          -956.2023018794092,
          -984.9952518930504,
          -658.8414635561942,
          -659.0580597902149,
          -812.2892980860391,
          -827.7575310308863,
          -809.8709133781621,
          -809.2063121988192,
          -817.9710514569534,
          -831.2258170623934,
          -847.735851894472,
          -866.9109777575642,
          -888.3483390628116,
          -911.6826520082404,
          -936.5030458584289,
          -962.3099799975456,
          -988.4812019727162,
          -1014.2359319168886,
          -1038.5926982667613,
          -1060.3172252563813,
          -1077.8561031542072,
          -1089.2501154140718,
          -1092.0179206617786,
          -1082.9959835132356,
          -1058.114623037608,
          -1012.0872227409673,
          -938.0110082550872,
          -81.81885874588278,
          -300.1569159777789,
          -542.3380912260271,
          -756.8287268785848,
          -928.1520949119758,
          -1042.6611144253243,
          -1058.5115012558695,
          -1051.6801669409558,
          -961.5697611818568,
          28.511808137229504,
          -680.3673557978387,
          -392.36153683347527,
          -313.81928297152,
          -171.4803416397029,
          -45.85483687259284,
          269.6757713835973,
          174.02081619661072,
          98.13064604879725,
          32.566687906426736,
          -45.37293214358881,
          -138.31125509977042,
          -251.13693436427803,
          -386.82610344093916,
          -532.6543857240035,
          -666.2036419267686,
          -776.4653874856033,
          -864.7582592915336,
          -935.6031945128879,
          -992.2971632425813,
          -1036.2053061783627,
          -1066.975887579004,
          -1082.7683250495827,
          -1080.319446339901,
          -1054.8453689475152,
          -999.8215695521633,
          -902.5878953870575,
          -171.6192926935263,
          -417.75080628468106,
          -674.1116292512504,
          -886.4004619302251,
          -1033.230673982972,
          -1120.941612459384,
          -949.9344091083145,
          -956.1750100361295,
          110.22515120232224,
          -578.9144988295357,
          -404.0622344329837,
          -244.01240832843519,
          -101.72355349901909,
          311.3740225621177,
          207.94052362262477,
          127.18053813168208
         ],
         "yaxis": "y"
        },
        {
         "line": {
          "color": "rgb(153, 0, 204)",
          "width": 2
         },
         "mode": "lines",
         "name": "RR",
         "type": "scatter",
         "x": [
          0,
          0.1,
          0.2,
          0.3,
          0.4,
          0.5,
          0.6,
          0.7,
          0.8,
          0.9,
          1,
          1.1,
          1.2,
          1.3,
          1.4,
          1.5,
          1.6,
          1.7,
          1.8,
          1.9,
          2,
          2.1,
          2.2,
          2.3,
          2.4,
          2.5,
          2.6,
          2.7,
          2.8,
          2.9,
          3,
          3.1,
          3.2,
          3.3,
          3.4,
          3.5,
          3.6,
          3.7,
          3.8,
          3.9,
          4,
          4.1,
          4.2,
          4.3,
          4.4,
          4.5,
          4.6,
          4.7,
          4.8,
          4.9,
          5,
          5.1,
          5.2,
          5.3,
          5.4,
          5.5,
          5.6,
          5.7,
          5.8,
          5.9,
          6,
          6.1,
          6.2,
          6.3,
          6.4,
          6.5,
          6.6,
          6.7,
          6.8,
          6.9,
          7,
          7.1,
          7.2,
          7.3,
          7.4,
          7.5,
          7.6,
          7.7,
          7.8,
          7.9,
          8,
          8.1,
          8.2,
          8.3,
          8.4,
          8.5,
          8.6,
          8.7,
          8.8,
          8.9,
          9,
          9.1,
          9.2,
          9.3,
          9.4,
          9.5,
          9.6,
          9.7,
          9.8,
          9.9,
          10,
          10.1,
          10.2,
          10.3,
          10.4,
          10.5,
          10.6,
          10.7,
          10.8,
          10.9
         ],
         "xaxis": "x",
         "y": [
          0,
          0,
          0,
          0,
          0,
          0,
          0,
          0,
          0,
          0,
          0,
          0,
          0,
          0,
          0,
          0,
          0,
          0,
          0,
          0,
          0,
          0,
          0,
          0,
          0,
          0,
          0,
          0,
          0,
          0,
          0,
          0,
          0,
          -270.71863123395246,
          -163.52985239813188,
          -203.3057700477567,
          -212.22476220949883,
          -206.1481538144907,
          -204.49672819364778,
          -205.622370154686,
          -207.97552791398883,
          -211.13674584203687,
          -214.92061677663528,
          -219.21595463430955,
          -223.9230240246864,
          -228.91713257385527,
          -234.0259298248616,
          -239.00677508428984,
          -243.51835328295948,
          -247.08220575664677,
          -249.02857094965307,
          -248.41790604293982,
          -243.924080435209,
          -233.65641241432962,
          -214.88499209193847,
          -183.62275513071592,
          -134.04414422707006,
          -57.93858362674858,
          -60.05705949971443,
          -254.77741148577385,
          -399.5933909090806,
          -466.99505673684575,
          -467.6745310289578,
          0,
          -404.51603849086774,
          -273.78152809732035,
          -206.75314639425332,
          -147.33463073761192,
          -242.53880032772022,
          -101.46841690790234,
          -49.36708582555932,
          -29.012954712703582,
          -9.118173066163264,
          -13.06184780783927,
          -45.330073255770735,
          -104.23828141653213,
          -116.14673100988901,
          -129.62912866765723,
          -132.24385206663,
          -128.18447843933663,
          -127.29462703328099,
          -139.2639671074928,
          -161.49749195129593,
          -185.67417630268082,
          -206.99545713730032,
          -224.07027897006827,
          -236.53540945604485,
          -243.8401000949864,
          -244.7806144200926,
          -237.22771340131337,
          -217.80424668228477,
          -181.43478676043352,
          -120.8670246455171,
          -26.965103443178705,
          -123.54672353716987,
          -325.97673372349743,
          -442.1907017010895,
          -473.5821803261031,
          0,
          0,
          -299.78911387601386,
          -212.79891064356192,
          -150.03747475151897,
          -227.2343851201314,
          -67.89630985263857,
          -42.932736042325274,
          -20.942291990608688,
          -2.413646540833608,
          -37.59090214571144,
          -100.57524924170534
         ],
         "yaxis": "y"
        },
        {
         "line": {
          "color": "rgb(255, 102, 0)",
          "width": 2
         },
         "mode": "lines",
         "name": "LR",
         "type": "scatter",
         "x": [
          0,
          0.1,
          0.2,
          0.3,
          0.4,
          0.5,
          0.6,
          0.7,
          0.8,
          0.9,
          1,
          1.1,
          1.2,
          1.3,
          1.4,
          1.5,
          1.6,
          1.7,
          1.8,
          1.9,
          2,
          2.1,
          2.2,
          2.3,
          2.4,
          2.5,
          2.6,
          2.7,
          2.8,
          2.9,
          3,
          3.1,
          3.2,
          3.3,
          3.4,
          3.5,
          3.6,
          3.7,
          3.8,
          3.9,
          4,
          4.1,
          4.2,
          4.3,
          4.4,
          4.5,
          4.6,
          4.7,
          4.8,
          4.9,
          5,
          5.1,
          5.2,
          5.3,
          5.4,
          5.5,
          5.6,
          5.7,
          5.8,
          5.9,
          6,
          6.1,
          6.2,
          6.3,
          6.4,
          6.5,
          6.6,
          6.7,
          6.8,
          6.9,
          7,
          7.1,
          7.2,
          7.3,
          7.4,
          7.5,
          7.6,
          7.7,
          7.8,
          7.9,
          8,
          8.1,
          8.2,
          8.3,
          8.4,
          8.5,
          8.6,
          8.7,
          8.8,
          8.9,
          9,
          9.1,
          9.2,
          9.3,
          9.4,
          9.5,
          9.6,
          9.7,
          9.8,
          9.9,
          10,
          10.1,
          10.2,
          10.3,
          10.4,
          10.5,
          10.6,
          10.7,
          10.8,
          10.9
         ],
         "xaxis": "x",
         "y": [
          0,
          0,
          0,
          0,
          0,
          0,
          0,
          0,
          0,
          0,
          0,
          0,
          0,
          0,
          0,
          0,
          0,
          0,
          0,
          0,
          0,
          0,
          0,
          0,
          0,
          0,
          0,
          0,
          0,
          0,
          0,
          0,
          0,
          -335.57264591742506,
          -418.73383239389517,
          -329.10497266201975,
          -313.14959283868035,
          -323.6455360399637,
          -325.65850910652995,
          -322.25772751371676,
          -316.35881956102463,
          -308.54730061084473,
          -298.9895716012584,
          -287.72455029706316,
          -274.7432963850782,
          -260.0319852594584,
          -243.58959223507415,
          -225.4371888702177,
          -205.62391891050797,
          -184.23047774534564,
          -161.36950239439187,
          -137.1813488590616,
          -111.82275571293542,
          -85.44455259169828,
          -58.152543109628006,
          -29.942325668676578,
          -0.5923123257231883,
          -30.5150733448033,
          -68.03290552787053,
          -114.20018568767665,
          -124.80564432232231,
          -130.54451638855434,
          -141.62968631021266,
          0,
          -221.37321742517113,
          -215.54618347832957,
          -237.7075316728433,
          -256.19460754517144,
          -283.2683022381215,
          -324.2115245721123,
          -245.74953463721027,
          -201.6673054884086,
          -144.7876688533636,
          -73.47023783202361,
          -9.34436621930092,
          -93.91684401253237,
          -171.15443529463184,
          -259.37730259708337,
          -344.94153815447027,
          -415.4655425696521,
          -450.46964426848285,
          -441.34411517218155,
          -403.10002309903615,
          -355.34067231141535,
          -307.7845884470944,
          -262.86787812142995,
          -220.50081877696732,
          -180.12957217331402,
          -141.32333245147169,
          -103.85450143358186,
          -67.62294533315789,
          -32.50667735723174,
          -1.881325758110926,
          -41.90701863756267,
          -79.12546337206669,
          -118.3888134780823,
          -126.08943274326121,
          -134.35524669862716,
          0,
          0,
          -294.151540106322,
          -241.5752401988465,
          -260.042146706307,
          -323.5410049940824,
          -265.1861226067554,
          -222.34452308678198,
          -163.41819040486325,
          -82.6448620411786,
          -16.428920629723365,
          -127.53915655244347
         ],
         "yaxis": "y"
        },
        {
         "line": {
          "color": "rgb(0, 0, 255)",
          "width": 2
         },
         "mode": "lines",
         "name": "LF",
         "showlegend": false,
         "type": "scatter",
         "x": [
          0,
          0.1,
          0.2,
          0.3,
          0.4,
          0.5,
          0.6,
          0.7,
          0.8,
          0.9,
          1,
          1.1,
          1.2,
          1.3,
          1.4,
          1.5,
          1.6,
          1.7,
          1.8,
          1.9,
          2,
          2.1,
          2.2,
          2.3,
          2.4,
          2.5,
          2.6,
          2.7,
          2.8,
          2.9,
          3,
          3.1,
          3.2,
          3.3,
          3.4,
          3.5,
          3.6,
          3.7,
          3.8,
          3.9,
          4,
          4.1,
          4.2,
          4.3,
          4.4,
          4.5,
          4.6,
          4.7,
          4.8,
          4.9,
          5,
          5.1,
          5.2,
          5.3,
          5.4,
          5.5,
          5.6,
          5.7,
          5.8,
          5.9,
          6,
          6.1,
          6.2,
          6.3,
          6.4,
          6.5,
          6.6,
          6.7,
          6.8,
          6.9,
          7,
          7.1,
          7.2,
          7.3,
          7.4,
          7.5,
          7.6,
          7.7,
          7.8,
          7.9,
          8,
          8.1,
          8.2,
          8.3,
          8.4,
          8.5,
          8.6,
          8.7,
          8.8,
          8.9,
          9,
          9.1,
          9.2,
          9.3,
          9.4,
          9.5,
          9.6,
          9.7,
          9.8,
          9.9,
          10,
          10.1,
          10.2,
          10.3,
          10.4,
          10.5,
          10.6,
          10.7,
          10.8,
          10.9
         ],
         "xaxis": "x2",
         "y": [
          0,
          0,
          0,
          0,
          0,
          0,
          0,
          0,
          0,
          0,
          0,
          -163.48270522485265,
          -273.5319062232266,
          -296.05181154666786,
          -296.1874998569587,
          -312.6252826824204,
          -345.4907941477962,
          -377.1915083733118,
          -396.0702081740303,
          -402.18566553030684,
          -399.99851496895724,
          -710.6197561180846,
          121.99757563855499,
          93.47152544053012,
          26.261053287151867,
          -17.959052722040383,
          -41.474726162675154,
          -50.61385994299877,
          -48.45726650245314,
          -37.01476199618611,
          -18.81863827413008,
          4.001838318507282,
          36.4071508353199,
          674.6433744867074,
          451.3477379230755,
          308.2952720403947,
          344.9202752135103,
          357.8578721032224,
          347.4552821300417,
          328.0547758005059,
          302.49976101105426,
          271.5684850181182,
          235.7343004607938,
          195.31307601200908,
          150.5939342487407,
          101.9042814100826,
          49.64458849560077,
          -5.684761529619323,
          -63.458146866868105,
          -122.89855857534002,
          -183.04974137552864,
          -242.74637674545755,
          -300.5826054553635,
          -354.8802331475248,
          -403.6605997745122,
          -444.63100531747943,
          -475.2146069006086,
          -619.6606336218504,
          -508.5020405546471,
          -360.9366398547595,
          -371.9350640739251,
          -374.6340259075757,
          -349.9130401874427,
          -288.2341390683497,
          -170.51131296641157,
          -39.959938273818636,
          137.31583759443905,
          -446.50966764229935,
          513.7684325482452,
          731.2558272486388,
          924.3195626521622,
          1078.3672410239724,
          1192.1842384345791,
          1252.5839352971395,
          878.5573837137296,
          915.8826288533862,
          1077.677014959233,
          1191.7221302430314,
          1226.0773104554637,
          1122.0915317058138,
          904.0882926602037,
          663.3390156676032,
          456.4149516510647,
          289.00596087508984,
          150.48685459354255,
          31.26322197958342,
          -74.5489736903616,
          -169.9091649820549,
          -255.78059026315742,
          -331.74830394993523,
          -396.3926297894455,
          -447.5448389928681,
          -680.4120095727703,
          -540.041859931327,
          -489.2967424227404,
          -364.3118577199261,
          -370.8953812989106,
          -357.12516554388384,
          -303.2157633546002,
          -169.29968910955986,
          -41.58363978344727,
          163.0976100116513,
          -150.54526143954286,
          493.6215885442534,
          861.3415738371014,
          1045.358732938645,
          1182.4416288501843,
          1256.063314945669,
          881.7060868901151,
          932.359080363433
         ],
         "yaxis": "y2"
        },
        {
         "line": {
          "color": "rgb(0, 255, 0)",
          "width": 2
         },
         "mode": "lines",
         "name": "RF",
         "showlegend": false,
         "type": "scatter",
         "x": [
          0,
          0.1,
          0.2,
          0.3,
          0.4,
          0.5,
          0.6,
          0.7,
          0.8,
          0.9,
          1,
          1.1,
          1.2,
          1.3,
          1.4,
          1.5,
          1.6,
          1.7,
          1.8,
          1.9,
          2,
          2.1,
          2.2,
          2.3,
          2.4,
          2.5,
          2.6,
          2.7,
          2.8,
          2.9,
          3,
          3.1,
          3.2,
          3.3,
          3.4,
          3.5,
          3.6,
          3.7,
          3.8,
          3.9,
          4,
          4.1,
          4.2,
          4.3,
          4.4,
          4.5,
          4.6,
          4.7,
          4.8,
          4.9,
          5,
          5.1,
          5.2,
          5.3,
          5.4,
          5.5,
          5.6,
          5.7,
          5.8,
          5.9,
          6,
          6.1,
          6.2,
          6.3,
          6.4,
          6.5,
          6.6,
          6.7,
          6.8,
          6.9,
          7,
          7.1,
          7.2,
          7.3,
          7.4,
          7.5,
          7.6,
          7.7,
          7.8,
          7.9,
          8,
          8.1,
          8.2,
          8.3,
          8.4,
          8.5,
          8.6,
          8.7,
          8.8,
          8.9,
          9,
          9.1,
          9.2,
          9.3,
          9.4,
          9.5,
          9.6,
          9.7,
          9.8,
          9.9,
          10,
          10.1,
          10.2,
          10.3,
          10.4,
          10.5,
          10.6,
          10.7,
          10.8,
          10.9
         ],
         "xaxis": "x2",
         "y": [
          0,
          0,
          0,
          0,
          0,
          0,
          0,
          0,
          0,
          0,
          0,
          -163.48270522485265,
          -315.63471020430563,
          -386.5466140632811,
          -415.3019014849079,
          -467.2572411742716,
          -564.3862539902431,
          -694.1650367440807,
          -835.1368112556567,
          -972.3411264370151,
          238.22352780711768,
          190.5681416918774,
          150.3193795881751,
          87.15067245116069,
          26.025210346962353,
          -19.333479486034207,
          -47.14784420915572,
          -57.92574928668313,
          -53.38416572569781,
          -38.2507716207366,
          -18.418474015673894,
          3.9091006779513577,
          40.07604868684007,
          599.5499421888529,
          305.730002462728,
          307.21982843367215,
          342.70541401679316,
          343.1023613069919,
          334.9932268319149,
          324.3276815156777,
          310.656423431005,
          293.7981017728696,
          273.4887740736204,
          249.35731920335095,
          220.96099510110633,
          187.79250998122836,
          149.28497194012928,
          104.81763599586651,
          53.72388751662703,
          -4.6966581763331305,
          -71.15957274932896,
          -146.36699638852025,
          -230.9630957121455,
          -325.4630931799246,
          -430.13595607811055,
          -544.801090809633,
          -668.4572180853946,
          -798.5726607845048,
          -1245.0022701372643,
          -1223.930651450195,
          -1154.8521897364326,
          -1019.9767664101014,
          -825.4213982144046,
          -585.7932548356428,
          -309.61513449530895,
          -57.92386907852858,
          170.30163624188822,
          68.35559462986485,
          513.4784341513475,
          443.35458932042945,
          539.4046643099798,
          534.4100725539658,
          490.752013412799,
          340.9376465470773,
          348.2056235932792,
          345.1588507369062,
          363.3606269415944,
          372.153948766776,
          380.2440098858877,
          387.69140409002955,
          392.1658459351954,
          381.63843589965234,
          347.87395123392395,
          293.9349840389826,
          225.92365959201953,
          147.41115884289627,
          59.46493473799529,
          -38.119624675568616,
          -145.99079574602735,
          -264.7668294143862,
          -394.6795752241419,
          -535.1512466574836,
          -684.1146474298982,
          -838.7277301044408,
          -1239.0153996189993,
          -1198.2783208808023,
          -1084.330920135896,
          -893.5204235860912,
          -641.9278527462586,
          -358.87021141078714,
          -52.72162918279571,
          192.88243095707816,
          264.259134928846,
          480.9597518843642,
          530.9662847533123,
          543.3508946026124,
          505.13781229454383,
          321.31097480303924,
          332.5191565740144,
          334.97066965899114
         ],
         "yaxis": "y2"
        },
        {
         "line": {
          "color": "rgb(153, 0, 204)",
          "width": 2
         },
         "mode": "lines",
         "name": "RR",
         "showlegend": false,
         "type": "scatter",
         "x": [
          0,
          0.1,
          0.2,
          0.3,
          0.4,
          0.5,
          0.6,
          0.7,
          0.8,
          0.9,
          1,
          1.1,
          1.2,
          1.3,
          1.4,
          1.5,
          1.6,
          1.7,
          1.8,
          1.9,
          2,
          2.1,
          2.2,
          2.3,
          2.4,
          2.5,
          2.6,
          2.7,
          2.8,
          2.9,
          3,
          3.1,
          3.2,
          3.3,
          3.4,
          3.5,
          3.6,
          3.7,
          3.8,
          3.9,
          4,
          4.1,
          4.2,
          4.3,
          4.4,
          4.5,
          4.6,
          4.7,
          4.8,
          4.9,
          5,
          5.1,
          5.2,
          5.3,
          5.4,
          5.5,
          5.6,
          5.7,
          5.8,
          5.9,
          6,
          6.1,
          6.2,
          6.3,
          6.4,
          6.5,
          6.6,
          6.7,
          6.8,
          6.9,
          7,
          7.1,
          7.2,
          7.3,
          7.4,
          7.5,
          7.6,
          7.7,
          7.8,
          7.9,
          8,
          8.1,
          8.2,
          8.3,
          8.4,
          8.5,
          8.6,
          8.7,
          8.8,
          8.9,
          9,
          9.1,
          9.2,
          9.3,
          9.4,
          9.5,
          9.6,
          9.7,
          9.8,
          9.9,
          10,
          10.1,
          10.2,
          10.3,
          10.4,
          10.5,
          10.6,
          10.7,
          10.8,
          10.9
         ],
         "xaxis": "x2",
         "y": [
          0,
          0,
          0,
          0,
          0,
          0,
          0,
          0,
          0,
          0,
          0,
          0,
          1.9570602651305862,
          3.6364598591511705,
          -7.0413068994176,
          -37.94598317039323,
          -85.3651004758944,
          -140.46857771452878,
          -195.39984796583704,
          -246.1775391757157,
          -292.38043859750115,
          -220.9284272418669,
          -246.14329466065425,
          -190.44334950725926,
          -195.5647164417547,
          -179.22894035844183,
          -108.89395157312305,
          -5.96411130392087,
          74.41162697435527,
          80.02118482137492,
          -1.896957750582867,
          -110.68851851559221,
          137.16390923970215,
          22.350185240162336,
          -25.217529210434062,
          -30.22359700354368,
          -28.213593132996472,
          -24.912008416507504,
          -25.37379631115104,
          -28.542890649574854,
          -33.3579282022372,
          -39.50361832101798,
          -46.97941927947289,
          -55.90258466035848,
          -66.45195642510502,
          -78.85342726035704,
          -93.37818098764178,
          -110.34451037379159,
          -130.11992142439223,
          -153.12160536893248,
          -179.8128571915909,
          -210.69099720710003,
          -246.2576243567734,
          -286.951263778812,
          -332.9975442067188,
          -384.07384790446235,
          -438.55340766149726,
          -491.834166542361,
          -563.8023922089592,
          -613.8008744674614,
          -467.08090915590657,
          -294.0831384787267,
          -135.67391776132303,
          -65.42031150259795,
          83.1023136706029,
          118.75287792845448,
          142.45682718288992,
          147.56591981807549,
          331.50524058950083,
          187.1170995733016,
          133.5621352113442,
          137.79446772992762,
          147.78030809204452,
          164.19458664741944,
          208.724716218622,
          300.4250875304018,
          238.61956441582007,
          192.80743117317922,
          142.10267462743698,
          96.50235077409633,
          62.585306070373186,
          38.44129460780366,
          15.478134195872203,
          -10.970392722640902,
          -41.2658260129056,
          -75.08204359449543,
          -112.59278874518202,
          -154.37099356657316,
          -201.13086064399621,
          -253.49174229902883,
          -311.6624768957819,
          -374.8425013270931,
          -439.97631384809074,
          -554.9956865308926,
          -560.8359063956312,
          -558.3067401859361,
          -386.69159156647214,
          -208.54394470004675,
          -349.70072600494933,
          331.56960419899,
          109.81465970262813,
          131.00771015771386,
          140.21461402778368,
          302.92984942394435,
          129.98199496882958,
          133.09805370261432,
          141.90227055055175,
          158.61445286336476,
          216.6490105936965,
          303.6912587349445
         ],
         "yaxis": "y2"
        },
        {
         "line": {
          "color": "rgb(255, 102, 0)",
          "width": 2
         },
         "mode": "lines",
         "name": "LR",
         "showlegend": false,
         "type": "scatter",
         "x": [
          0,
          0.1,
          0.2,
          0.3,
          0.4,
          0.5,
          0.6,
          0.7,
          0.8,
          0.9,
          1,
          1.1,
          1.2,
          1.3,
          1.4,
          1.5,
          1.6,
          1.7,
          1.8,
          1.9,
          2,
          2.1,
          2.2,
          2.3,
          2.4,
          2.5,
          2.6,
          2.7,
          2.8,
          2.9,
          3,
          3.1,
          3.2,
          3.3,
          3.4,
          3.5,
          3.6,
          3.7,
          3.8,
          3.9,
          4,
          4.1,
          4.2,
          4.3,
          4.4,
          4.5,
          4.6,
          4.7,
          4.8,
          4.9,
          5,
          5.1,
          5.2,
          5.3,
          5.4,
          5.5,
          5.6,
          5.7,
          5.8,
          5.9,
          6,
          6.1,
          6.2,
          6.3,
          6.4,
          6.5,
          6.6,
          6.7,
          6.8,
          6.9,
          7,
          7.1,
          7.2,
          7.3,
          7.4,
          7.5,
          7.6,
          7.7,
          7.8,
          7.9,
          8,
          8.1,
          8.2,
          8.3,
          8.4,
          8.5,
          8.6,
          8.7,
          8.8,
          8.9,
          9,
          9.1,
          9.2,
          9.3,
          9.4,
          9.5,
          9.6,
          9.7,
          9.8,
          9.9,
          10,
          10.1,
          10.2,
          10.3,
          10.4,
          10.5,
          10.6,
          10.7,
          10.8,
          10.9
         ],
         "xaxis": "x2",
         "y": [
          0,
          0,
          0,
          0,
          0,
          0,
          0,
          0,
          0,
          0,
          0,
          0,
          1.69692428793302,
          2.809986082447182,
          -5.215823916384382,
          -27.460969889842836,
          -58.27224878447873,
          -86.51083792704998,
          -105.82319567712193,
          -116.56985446648783,
          -121.41205650191371,
          -159.88064899124174,
          -147.47320527833443,
          -176.5268631589727,
          -173.5748775062846,
          -146.09527518516947,
          -86.13978596043341,
          -4.966806345806843,
          68.90600840253288,
          82.18455638816029,
          -2.006109936280664,
          -107.79624898940432,
          119.75345428960354,
          29.989798503679246,
          -73.64376479469492,
          -59.273898875155425,
          -49.71456801715557,
          -46.78416539591605,
          -48.54586094919724,
          -53.85434349071848,
          -61.18239289340661,
          -69.74061302101445,
          -79.15969835084495,
          -89.18097631048873,
          -99.55935074773024,
          -110.04067567937521,
          -120.35773936973635,
          -130.23241695597284,
          -139.3808379434047,
          -147.52080149599973,
          -154.3813081735175,
          -159.71406254402362,
          -163.3064478471483,
          -164.99474960161928,
          -164.67518200937738,
          -162.30846826524063,
          -157.9113193383677,
          -151.52337981749943,
          -148.55340528477493,
          -141.49590912738654,
          -94.50400450109203,
          -58.45334628859243,
          -30.680948330768143,
          -24.76606237945233,
          35.47846967973714,
          73.23069471206367,
          126.98863832845214,
          194.23136672055526,
          287.5470400577836,
          425.769854405428,
          426.61571556483784,
          497.7354839826615,
          570.118332633656,
          630.4623821574426,
          681.0639848613883,
          726.3090925356528,
          692.4276245565638,
          646.638739559765,
          568.0977554251298,
          452.0327555166404,
          306.4200781737189,
          163.00127618971143,
          50.50224279226757,
          -27.093607932852123,
          -78.91425303852797,
          -113.8857393066488,
          -137.6727315879812,
          -153.48047718168914,
          -163.112551393217,
          -167.6574199669466,
          -167.88959887325768,
          -164.51073481916154,
          -158.29086602504117,
          -166.18855744731465,
          -142.70254798880472,
          -122.57984786709657,
          -77.89780512096605,
          -44.77612108739167,
          -119.05577638985329,
          132.61459647952728,
          86.98191165804218,
          120.49292475633591,
          193.7481651853449,
          335.8303500063678,
          378.914634978941,
          461.2605062883842,
          546.9301229250616,
          618.3687055163302,
          680.6043358843781,
          722.1032632328115
         ],
         "yaxis": "y2"
        }
       ],
       "layout": {
        "autosize": false,
        "font": {
         "color": "black",
         "family": "Arial",
         "size": 14
        },
        "height": 500,
        "legend": {
         "orientation": "h",
         "x": 0.01,
         "xanchor": "left",
         "y": 1.1,
         "yanchor": "top"
        },
        "template": {
         "data": {
          "bar": [
           {
            "error_x": {
             "color": "#2a3f5f"
            },
            "error_y": {
             "color": "#2a3f5f"
            },
            "marker": {
             "line": {
              "color": "white",
              "width": 0.5
             }
            },
            "type": "bar"
           }
          ],
          "barpolar": [
           {
            "marker": {
             "line": {
              "color": "white",
              "width": 0.5
             }
            },
            "type": "barpolar"
           }
          ],
          "carpet": [
           {
            "aaxis": {
             "endlinecolor": "#2a3f5f",
             "gridcolor": "#C8D4E3",
             "linecolor": "#C8D4E3",
             "minorgridcolor": "#C8D4E3",
             "startlinecolor": "#2a3f5f"
            },
            "baxis": {
             "endlinecolor": "#2a3f5f",
             "gridcolor": "#C8D4E3",
             "linecolor": "#C8D4E3",
             "minorgridcolor": "#C8D4E3",
             "startlinecolor": "#2a3f5f"
            },
            "type": "carpet"
           }
          ],
          "choropleth": [
           {
            "colorbar": {
             "outlinewidth": 0,
             "ticks": ""
            },
            "type": "choropleth"
           }
          ],
          "contour": [
           {
            "colorbar": {
             "outlinewidth": 0,
             "ticks": ""
            },
            "colorscale": [
             [
              0,
              "#0d0887"
             ],
             [
              0.1111111111111111,
              "#46039f"
             ],
             [
              0.2222222222222222,
              "#7201a8"
             ],
             [
              0.3333333333333333,
              "#9c179e"
             ],
             [
              0.4444444444444444,
              "#bd3786"
             ],
             [
              0.5555555555555556,
              "#d8576b"
             ],
             [
              0.6666666666666666,
              "#ed7953"
             ],
             [
              0.7777777777777778,
              "#fb9f3a"
             ],
             [
              0.8888888888888888,
              "#fdca26"
             ],
             [
              1,
              "#f0f921"
             ]
            ],
            "type": "contour"
           }
          ],
          "contourcarpet": [
           {
            "colorbar": {
             "outlinewidth": 0,
             "ticks": ""
            },
            "type": "contourcarpet"
           }
          ],
          "heatmap": [
           {
            "colorbar": {
             "outlinewidth": 0,
             "ticks": ""
            },
            "colorscale": [
             [
              0,
              "#0d0887"
             ],
             [
              0.1111111111111111,
              "#46039f"
             ],
             [
              0.2222222222222222,
              "#7201a8"
             ],
             [
              0.3333333333333333,
              "#9c179e"
             ],
             [
              0.4444444444444444,
              "#bd3786"
             ],
             [
              0.5555555555555556,
              "#d8576b"
             ],
             [
              0.6666666666666666,
              "#ed7953"
             ],
             [
              0.7777777777777778,
              "#fb9f3a"
             ],
             [
              0.8888888888888888,
              "#fdca26"
             ],
             [
              1,
              "#f0f921"
             ]
            ],
            "type": "heatmap"
           }
          ],
          "heatmapgl": [
           {
            "colorbar": {
             "outlinewidth": 0,
             "ticks": ""
            },
            "colorscale": [
             [
              0,
              "#0d0887"
             ],
             [
              0.1111111111111111,
              "#46039f"
             ],
             [
              0.2222222222222222,
              "#7201a8"
             ],
             [
              0.3333333333333333,
              "#9c179e"
             ],
             [
              0.4444444444444444,
              "#bd3786"
             ],
             [
              0.5555555555555556,
              "#d8576b"
             ],
             [
              0.6666666666666666,
              "#ed7953"
             ],
             [
              0.7777777777777778,
              "#fb9f3a"
             ],
             [
              0.8888888888888888,
              "#fdca26"
             ],
             [
              1,
              "#f0f921"
             ]
            ],
            "type": "heatmapgl"
           }
          ],
          "histogram": [
           {
            "marker": {
             "colorbar": {
              "outlinewidth": 0,
              "ticks": ""
             }
            },
            "type": "histogram"
           }
          ],
          "histogram2d": [
           {
            "colorbar": {
             "outlinewidth": 0,
             "ticks": ""
            },
            "colorscale": [
             [
              0,
              "#0d0887"
             ],
             [
              0.1111111111111111,
              "#46039f"
             ],
             [
              0.2222222222222222,
              "#7201a8"
             ],
             [
              0.3333333333333333,
              "#9c179e"
             ],
             [
              0.4444444444444444,
              "#bd3786"
             ],
             [
              0.5555555555555556,
              "#d8576b"
             ],
             [
              0.6666666666666666,
              "#ed7953"
             ],
             [
              0.7777777777777778,
              "#fb9f3a"
             ],
             [
              0.8888888888888888,
              "#fdca26"
             ],
             [
              1,
              "#f0f921"
             ]
            ],
            "type": "histogram2d"
           }
          ],
          "histogram2dcontour": [
           {
            "colorbar": {
             "outlinewidth": 0,
             "ticks": ""
            },
            "colorscale": [
             [
              0,
              "#0d0887"
             ],
             [
              0.1111111111111111,
              "#46039f"
             ],
             [
              0.2222222222222222,
              "#7201a8"
             ],
             [
              0.3333333333333333,
              "#9c179e"
             ],
             [
              0.4444444444444444,
              "#bd3786"
             ],
             [
              0.5555555555555556,
              "#d8576b"
             ],
             [
              0.6666666666666666,
              "#ed7953"
             ],
             [
              0.7777777777777778,
              "#fb9f3a"
             ],
             [
              0.8888888888888888,
              "#fdca26"
             ],
             [
              1,
              "#f0f921"
             ]
            ],
            "type": "histogram2dcontour"
           }
          ],
          "mesh3d": [
           {
            "colorbar": {
             "outlinewidth": 0,
             "ticks": ""
            },
            "type": "mesh3d"
           }
          ],
          "parcoords": [
           {
            "line": {
             "colorbar": {
              "outlinewidth": 0,
              "ticks": ""
             }
            },
            "type": "parcoords"
           }
          ],
          "pie": [
           {
            "automargin": true,
            "type": "pie"
           }
          ],
          "scatter": [
           {
            "marker": {
             "colorbar": {
              "outlinewidth": 0,
              "ticks": ""
             }
            },
            "type": "scatter"
           }
          ],
          "scatter3d": [
           {
            "line": {
             "colorbar": {
              "outlinewidth": 0,
              "ticks": ""
             }
            },
            "marker": {
             "colorbar": {
              "outlinewidth": 0,
              "ticks": ""
             }
            },
            "type": "scatter3d"
           }
          ],
          "scattercarpet": [
           {
            "marker": {
             "colorbar": {
              "outlinewidth": 0,
              "ticks": ""
             }
            },
            "type": "scattercarpet"
           }
          ],
          "scattergeo": [
           {
            "marker": {
             "colorbar": {
              "outlinewidth": 0,
              "ticks": ""
             }
            },
            "type": "scattergeo"
           }
          ],
          "scattergl": [
           {
            "marker": {
             "colorbar": {
              "outlinewidth": 0,
              "ticks": ""
             }
            },
            "type": "scattergl"
           }
          ],
          "scattermapbox": [
           {
            "marker": {
             "colorbar": {
              "outlinewidth": 0,
              "ticks": ""
             }
            },
            "type": "scattermapbox"
           }
          ],
          "scatterpolar": [
           {
            "marker": {
             "colorbar": {
              "outlinewidth": 0,
              "ticks": ""
             }
            },
            "type": "scatterpolar"
           }
          ],
          "scatterpolargl": [
           {
            "marker": {
             "colorbar": {
              "outlinewidth": 0,
              "ticks": ""
             }
            },
            "type": "scatterpolargl"
           }
          ],
          "scatterternary": [
           {
            "marker": {
             "colorbar": {
              "outlinewidth": 0,
              "ticks": ""
             }
            },
            "type": "scatterternary"
           }
          ],
          "surface": [
           {
            "colorbar": {
             "outlinewidth": 0,
             "ticks": ""
            },
            "colorscale": [
             [
              0,
              "#0d0887"
             ],
             [
              0.1111111111111111,
              "#46039f"
             ],
             [
              0.2222222222222222,
              "#7201a8"
             ],
             [
              0.3333333333333333,
              "#9c179e"
             ],
             [
              0.4444444444444444,
              "#bd3786"
             ],
             [
              0.5555555555555556,
              "#d8576b"
             ],
             [
              0.6666666666666666,
              "#ed7953"
             ],
             [
              0.7777777777777778,
              "#fb9f3a"
             ],
             [
              0.8888888888888888,
              "#fdca26"
             ],
             [
              1,
              "#f0f921"
             ]
            ],
            "type": "surface"
           }
          ],
          "table": [
           {
            "cells": {
             "fill": {
              "color": "#EBF0F8"
             },
             "line": {
              "color": "white"
             }
            },
            "header": {
             "fill": {
              "color": "#C8D4E3"
             },
             "line": {
              "color": "white"
             }
            },
            "type": "table"
           }
          ]
         },
         "layout": {
          "annotationdefaults": {
           "arrowcolor": "#2a3f5f",
           "arrowhead": 0,
           "arrowwidth": 1
          },
          "coloraxis": {
           "colorbar": {
            "outlinewidth": 0,
            "ticks": ""
           }
          },
          "colorscale": {
           "diverging": [
            [
             0,
             "#8e0152"
            ],
            [
             0.1,
             "#c51b7d"
            ],
            [
             0.2,
             "#de77ae"
            ],
            [
             0.3,
             "#f1b6da"
            ],
            [
             0.4,
             "#fde0ef"
            ],
            [
             0.5,
             "#f7f7f7"
            ],
            [
             0.6,
             "#e6f5d0"
            ],
            [
             0.7,
             "#b8e186"
            ],
            [
             0.8,
             "#7fbc41"
            ],
            [
             0.9,
             "#4d9221"
            ],
            [
             1,
             "#276419"
            ]
           ],
           "sequential": [
            [
             0,
             "#0d0887"
            ],
            [
             0.1111111111111111,
             "#46039f"
            ],
            [
             0.2222222222222222,
             "#7201a8"
            ],
            [
             0.3333333333333333,
             "#9c179e"
            ],
            [
             0.4444444444444444,
             "#bd3786"
            ],
            [
             0.5555555555555556,
             "#d8576b"
            ],
            [
             0.6666666666666666,
             "#ed7953"
            ],
            [
             0.7777777777777778,
             "#fb9f3a"
            ],
            [
             0.8888888888888888,
             "#fdca26"
            ],
            [
             1,
             "#f0f921"
            ]
           ],
           "sequentialminus": [
            [
             0,
             "#0d0887"
            ],
            [
             0.1111111111111111,
             "#46039f"
            ],
            [
             0.2222222222222222,
             "#7201a8"
            ],
            [
             0.3333333333333333,
             "#9c179e"
            ],
            [
             0.4444444444444444,
             "#bd3786"
            ],
            [
             0.5555555555555556,
             "#d8576b"
            ],
            [
             0.6666666666666666,
             "#ed7953"
            ],
            [
             0.7777777777777778,
             "#fb9f3a"
            ],
            [
             0.8888888888888888,
             "#fdca26"
            ],
            [
             1,
             "#f0f921"
            ]
           ]
          },
          "colorway": [
           "#636efa",
           "#EF553B",
           "#00cc96",
           "#ab63fa",
           "#FFA15A",
           "#19d3f3",
           "#FF6692",
           "#B6E880",
           "#FF97FF",
           "#FECB52"
          ],
          "font": {
           "color": "#2a3f5f"
          },
          "geo": {
           "bgcolor": "white",
           "lakecolor": "white",
           "landcolor": "white",
           "showlakes": true,
           "showland": true,
           "subunitcolor": "#C8D4E3"
          },
          "hoverlabel": {
           "align": "left"
          },
          "hovermode": "closest",
          "mapbox": {
           "style": "light"
          },
          "paper_bgcolor": "white",
          "plot_bgcolor": "white",
          "polar": {
           "angularaxis": {
            "gridcolor": "#EBF0F8",
            "linecolor": "#EBF0F8",
            "ticks": ""
           },
           "bgcolor": "white",
           "radialaxis": {
            "gridcolor": "#EBF0F8",
            "linecolor": "#EBF0F8",
            "ticks": ""
           }
          },
          "scene": {
           "xaxis": {
            "backgroundcolor": "white",
            "gridcolor": "#DFE8F3",
            "gridwidth": 2,
            "linecolor": "#EBF0F8",
            "showbackground": true,
            "ticks": "",
            "zerolinecolor": "#EBF0F8"
           },
           "yaxis": {
            "backgroundcolor": "white",
            "gridcolor": "#DFE8F3",
            "gridwidth": 2,
            "linecolor": "#EBF0F8",
            "showbackground": true,
            "ticks": "",
            "zerolinecolor": "#EBF0F8"
           },
           "zaxis": {
            "backgroundcolor": "white",
            "gridcolor": "#DFE8F3",
            "gridwidth": 2,
            "linecolor": "#EBF0F8",
            "showbackground": true,
            "ticks": "",
            "zerolinecolor": "#EBF0F8"
           }
          },
          "shapedefaults": {
           "line": {
            "color": "#2a3f5f"
           }
          },
          "ternary": {
           "aaxis": {
            "gridcolor": "#DFE8F3",
            "linecolor": "#A2B1C6",
            "ticks": ""
           },
           "baxis": {
            "gridcolor": "#DFE8F3",
            "linecolor": "#A2B1C6",
            "ticks": ""
           },
           "bgcolor": "white",
           "caxis": {
            "gridcolor": "#DFE8F3",
            "linecolor": "#A2B1C6",
            "ticks": ""
           }
          },
          "title": {
           "x": 0.05
          },
          "xaxis": {
           "automargin": true,
           "gridcolor": "#EBF0F8",
           "linecolor": "#EBF0F8",
           "ticks": "",
           "title": {
            "standoff": 15
           },
           "zerolinecolor": "#EBF0F8",
           "zerolinewidth": 2
          },
          "yaxis": {
           "automargin": true,
           "gridcolor": "#EBF0F8",
           "linecolor": "#EBF0F8",
           "ticks": "",
           "title": {
            "standoff": 15
           },
           "zerolinecolor": "#EBF0F8",
           "zerolinewidth": 2
          }
         }
        },
        "title": {
         "text": "Veh1 - Tire Forces"
        },
        "width": 900,
        "xaxis": {
         "anchor": "y",
         "domain": [
          0,
          1
         ],
         "linecolor": "black",
         "linewidth": 1,
         "matches": "x2",
         "showgrid": false,
         "showline": true,
         "showticklabels": false,
         "tickcolor": "black",
         "ticklen": 10,
         "ticks": "outside",
         "tickwidth": 1,
         "title": {
          "text": ""
         },
         "zeroline": false
        },
        "xaxis2": {
         "anchor": "y2",
         "domain": [
          0,
          1
         ],
         "linecolor": "black",
         "linewidth": 1,
         "showgrid": false,
         "showline": true,
         "tickcolor": "black",
         "ticklen": 10,
         "ticks": "outside",
         "tickwidth": 1,
         "title": {
          "text": "Time (s)"
         },
         "zeroline": false
        },
        "yaxis": {
         "anchor": "x",
         "domain": [
          0.525,
          1
         ],
         "linecolor": "black",
         "linewidth": 1,
         "showgrid": false,
         "showline": true,
         "tickcolor": "black",
         "ticklen": 10,
         "ticks": "outside",
         "tickwidth": 1,
         "title": {
          "text": "Forward (lb)"
         },
         "zeroline": false
        },
        "yaxis2": {
         "anchor": "x2",
         "domain": [
          0,
          0.475
         ],
         "linecolor": "black",
         "linewidth": 1,
         "showgrid": false,
         "showline": true,
         "tickcolor": "black",
         "ticklen": 10,
         "ticks": "outside",
         "tickwidth": 1,
         "title": {
          "text": "Rightward (lb)"
         },
         "zeroline": false
        }
       }
      },
      "text/html": [
       "<div>\n",
       "        \n",
       "        \n",
       "            <div id=\"1c29f250-7900-4f5c-8e4d-89687951c253\" class=\"plotly-graph-div\" style=\"height:500px; width:900px;\"></div>\n",
       "            <script type=\"text/javascript\">\n",
       "                require([\"plotly\"], function(Plotly) {\n",
       "                    window.PLOTLYENV=window.PLOTLYENV || {};\n",
       "                    \n",
       "                if (document.getElementById(\"1c29f250-7900-4f5c-8e4d-89687951c253\")) {\n",
       "                    Plotly.newPlot(\n",
       "                        '1c29f250-7900-4f5c-8e4d-89687951c253',\n",
       "                        [{\"line\": {\"color\": \"rgb(0, 0, 255)\", \"width\": 2}, \"mode\": \"lines\", \"name\": \"LF\", \"type\": \"scatter\", \"x\": [0.0, 0.1, 0.2, 0.3, 0.4, 0.5, 0.6, 0.7, 0.8, 0.9, 1.0, 1.1, 1.2, 1.3, 1.4, 1.5, 1.6, 1.7, 1.8, 1.9, 2.0, 2.1, 2.2, 2.3, 2.4, 2.5, 2.6, 2.7, 2.8, 2.9, 3.0, 3.1, 3.2, 3.3, 3.4, 3.5, 3.6, 3.7, 3.8, 3.9, 4.0, 4.1, 4.2, 4.3, 4.4, 4.5, 4.6, 4.7, 4.8, 4.9, 5.0, 5.1, 5.2, 5.3, 5.4, 5.5, 5.6, 5.7, 5.8, 5.9, 6.0, 6.1, 6.2, 6.3, 6.4, 6.5, 6.6, 6.7, 6.8, 6.9, 7.0, 7.1, 7.2, 7.3, 7.4, 7.5, 7.6, 7.7, 7.8, 7.9, 8.0, 8.1, 8.2, 8.3, 8.4, 8.5, 8.6, 8.7, 8.8, 8.9, 9.0, 9.1, 9.2, 9.3, 9.4, 9.5, 9.6, 9.7, 9.8, 9.9, 10.0, 10.1, 10.2, 10.3, 10.4, 10.5, 10.6, 10.7, 10.8, 10.9], \"xaxis\": \"x\", \"y\": [0.0, 0.0, 0.0, 0.0, 0.0, 0.0, 0.0, 0.0, 0.0, 0.0, 0.0, -5.816756956865561, -20.57604401504729, -34.0765632122691, -46.012085036628534, -61.30259948202702, -82.0430946242164, -105.4744990859042, -127.82642789689483, -147.5847292739599, -164.9908283643891, -296.4066694858581, -734.245666426389, -914.2156459949886, -914.1492351224741, -893.2587110931029, -884.7706632400534, -898.0042745664083, -926.7119124283358, -955.3520649975284, -963.9142147547852, -941.8481888377464, -911.6153374501006, -747.7694499923488, -1100.3689904281716, -1053.928215159913, -1022.8290858606326, -1031.9858329336314, -1038.783963057389, -1041.8059003909862, -1043.2749711375645, -1043.3831577321916, -1041.8292987300144, -1038.1245821080201, -1031.6683785211753, -1021.7902474165076, -1007.7680668482911, -988.8408448191487, -964.2227678450945, -933.1211229352658, -894.7601978856051, -848.4136003271459, -793.4484343456975, -729.3866239149338, -655.9918851165701, -573.3961393845827, -482.28666774760586, -79.79565491740604, -143.67302351213937, -172.1123452094364, -269.6302812697561, -390.95038461274316, -526.916397697983, -668.3366156829298, -747.2469762145079, -926.271097426698, -999.9811724523481, -186.24368706278815, 214.29799645661666, -908.7421875987518, -838.0863924200921, -665.8602741619485, -458.5025387268217, -223.3357024347075, 850.0734872553567, 604.3243208037893, 437.2708209123134, 160.77386512889638, -205.16733018876243, -595.1345252035395, -890.4690934775962, -1043.2292681790116, -1095.1267377652275, -1096.4212614898508, -1073.3903675516574, -1036.0707970970846, -987.6765638033668, -928.9158014273048, -859.6850576800887, -779.7747028696664, -689.2430879341418, -588.7156888701866, -5.368612576806015, -88.92930093493631, -170.58892991328355, -210.09260143013628, -326.3848524586844, -468.11907528597163, -621.6732440276455, -662.3908584606447, -928.1409561072695, -997.9542783281472, -62.79394734806343, -763.0926044561177, -878.2196829960405, -701.5525052228111, -482.086580699934, -227.77775682364904, 833.9288588458479, 574.1961239060226], \"yaxis\": \"y\"}, {\"line\": {\"color\": \"rgb(0, 255, 0)\", \"width\": 2}, \"mode\": \"lines\", \"name\": \"RF\", \"type\": \"scatter\", \"x\": [0.0, 0.1, 0.2, 0.3, 0.4, 0.5, 0.6, 0.7, 0.8, 0.9, 1.0, 1.1, 1.2, 1.3, 1.4, 1.5, 1.6, 1.7, 1.8, 1.9, 2.0, 2.1, 2.2, 2.3, 2.4, 2.5, 2.6, 2.7, 2.8, 2.9, 3.0, 3.1, 3.2, 3.3, 3.4, 3.5, 3.6, 3.7, 3.8, 3.9, 4.0, 4.1, 4.2, 4.3, 4.4, 4.5, 4.6, 4.7, 4.8, 4.9, 5.0, 5.1, 5.2, 5.3, 5.4, 5.5, 5.6, 5.7, 5.8, 5.9, 6.0, 6.1, 6.2, 6.3, 6.4, 6.5, 6.6, 6.7, 6.8, 6.9, 7.0, 7.1, 7.2, 7.3, 7.4, 7.5, 7.6, 7.7, 7.8, 7.9, 8.0, 8.1, 8.2, 8.3, 8.4, 8.5, 8.6, 8.7, 8.8, 8.9, 9.0, 9.1, 9.2, 9.3, 9.4, 9.5, 9.6, 9.7, 9.8, 9.9, 10.0, 10.1, 10.2, 10.3, 10.4, 10.5, 10.6, 10.7, 10.8, 10.9], \"xaxis\": \"x\", \"y\": [0.0, 0.0, 0.0, 0.0, 0.0, 0.0, 0.0, 0.0, 0.0, 0.0, 0.0, -5.816756956865561, -23.743166855790424, -44.49282056340196, -64.51624871483637, -91.62433461877521, -134.02381662569087, -194.1101745616886, -269.52937429999173, -356.80710230665943, -1119.6601114126624, -983.9193858005218, -1047.8908820441125, -957.3437512752013, -979.1964572137256, -1003.8015931588243, -1011.1587811801396, -996.713958212168, -968.1899814272942, -940.8207630002764, -933.583226281939, -956.2023018794092, -984.9952518930504, -658.8414635561942, -659.0580597902149, -812.2892980860391, -827.7575310308863, -809.8709133781621, -809.2063121988192, -817.9710514569534, -831.2258170623934, -847.735851894472, -866.9109777575642, -888.3483390628116, -911.6826520082404, -936.5030458584289, -962.3099799975456, -988.4812019727162, -1014.2359319168886, -1038.5926982667613, -1060.3172252563813, -1077.8561031542072, -1089.2501154140718, -1092.0179206617786, -1082.9959835132356, -1058.114623037608, -1012.0872227409673, -938.0110082550872, -81.81885874588278, -300.1569159777789, -542.3380912260271, -756.8287268785848, -928.1520949119758, -1042.6611144253243, -1058.5115012558695, -1051.6801669409558, -961.5697611818568, 28.511808137229504, -680.3673557978387, -392.36153683347527, -313.81928297152, -171.4803416397029, -45.85483687259284, 269.6757713835973, 174.02081619661072, 98.13064604879725, 32.566687906426736, -45.37293214358881, -138.31125509977042, -251.13693436427803, -386.82610344093916, -532.6543857240035, -666.2036419267686, -776.4653874856033, -864.7582592915336, -935.6031945128879, -992.2971632425813, -1036.2053061783627, -1066.975887579004, -1082.7683250495827, -1080.319446339901, -1054.8453689475152, -999.8215695521633, -902.5878953870575, -171.6192926935263, -417.75080628468106, -674.1116292512504, -886.4004619302251, -1033.230673982972, -1120.941612459384, -949.9344091083145, -956.1750100361295, 110.22515120232224, -578.9144988295357, -404.0622344329837, -244.01240832843519, -101.72355349901909, 311.3740225621177, 207.94052362262477, 127.18053813168208], \"yaxis\": \"y\"}, {\"line\": {\"color\": \"rgb(153, 0, 204)\", \"width\": 2}, \"mode\": \"lines\", \"name\": \"RR\", \"type\": \"scatter\", \"x\": [0.0, 0.1, 0.2, 0.3, 0.4, 0.5, 0.6, 0.7, 0.8, 0.9, 1.0, 1.1, 1.2, 1.3, 1.4, 1.5, 1.6, 1.7, 1.8, 1.9, 2.0, 2.1, 2.2, 2.3, 2.4, 2.5, 2.6, 2.7, 2.8, 2.9, 3.0, 3.1, 3.2, 3.3, 3.4, 3.5, 3.6, 3.7, 3.8, 3.9, 4.0, 4.1, 4.2, 4.3, 4.4, 4.5, 4.6, 4.7, 4.8, 4.9, 5.0, 5.1, 5.2, 5.3, 5.4, 5.5, 5.6, 5.7, 5.8, 5.9, 6.0, 6.1, 6.2, 6.3, 6.4, 6.5, 6.6, 6.7, 6.8, 6.9, 7.0, 7.1, 7.2, 7.3, 7.4, 7.5, 7.6, 7.7, 7.8, 7.9, 8.0, 8.1, 8.2, 8.3, 8.4, 8.5, 8.6, 8.7, 8.8, 8.9, 9.0, 9.1, 9.2, 9.3, 9.4, 9.5, 9.6, 9.7, 9.8, 9.9, 10.0, 10.1, 10.2, 10.3, 10.4, 10.5, 10.6, 10.7, 10.8, 10.9], \"xaxis\": \"x\", \"y\": [-0.0, -0.0, -0.0, -0.0, -0.0, -0.0, -0.0, -0.0, -0.0, -0.0, -0.0, -0.0, -0.0, -0.0, -0.0, -0.0, -0.0, -0.0, -0.0, -0.0, -0.0, -0.0, -0.0, -0.0, -0.0, -0.0, -0.0, -0.0, -0.0, -0.0, -0.0, -0.0, -0.0, -270.71863123395246, -163.52985239813188, -203.3057700477567, -212.22476220949883, -206.1481538144907, -204.49672819364778, -205.622370154686, -207.97552791398883, -211.13674584203687, -214.92061677663528, -219.21595463430955, -223.9230240246864, -228.91713257385527, -234.0259298248616, -239.00677508428984, -243.51835328295948, -247.08220575664677, -249.02857094965307, -248.41790604293982, -243.924080435209, -233.65641241432962, -214.88499209193847, -183.62275513071592, -134.04414422707006, -57.93858362674858, -60.05705949971443, -254.77741148577385, -399.5933909090806, -466.99505673684575, -467.6745310289578, -0.0, -404.51603849086774, -273.78152809732035, -206.75314639425332, -147.33463073761192, -242.53880032772022, -101.46841690790234, -49.36708582555932, -29.012954712703582, -9.118173066163264, -13.06184780783927, -45.330073255770735, -104.23828141653213, -116.14673100988901, -129.62912866765723, -132.24385206663, -128.18447843933663, -127.29462703328099, -139.2639671074928, -161.49749195129593, -185.67417630268082, -206.99545713730032, -224.07027897006827, -236.53540945604485, -243.8401000949864, -244.7806144200926, -237.22771340131337, -217.80424668228477, -181.43478676043352, -120.8670246455171, -26.965103443178705, -123.54672353716987, -325.97673372349743, -442.1907017010895, -473.5821803261031, -0.0, -0.0, -299.78911387601386, -212.79891064356192, -150.03747475151897, -227.2343851201314, -67.89630985263857, -42.932736042325274, -20.942291990608688, -2.413646540833608, -37.59090214571144, -100.57524924170534], \"yaxis\": \"y\"}, {\"line\": {\"color\": \"rgb(255, 102, 0)\", \"width\": 2}, \"mode\": \"lines\", \"name\": \"LR\", \"type\": \"scatter\", \"x\": [0.0, 0.1, 0.2, 0.3, 0.4, 0.5, 0.6, 0.7, 0.8, 0.9, 1.0, 1.1, 1.2, 1.3, 1.4, 1.5, 1.6, 1.7, 1.8, 1.9, 2.0, 2.1, 2.2, 2.3, 2.4, 2.5, 2.6, 2.7, 2.8, 2.9, 3.0, 3.1, 3.2, 3.3, 3.4, 3.5, 3.6, 3.7, 3.8, 3.9, 4.0, 4.1, 4.2, 4.3, 4.4, 4.5, 4.6, 4.7, 4.8, 4.9, 5.0, 5.1, 5.2, 5.3, 5.4, 5.5, 5.6, 5.7, 5.8, 5.9, 6.0, 6.1, 6.2, 6.3, 6.4, 6.5, 6.6, 6.7, 6.8, 6.9, 7.0, 7.1, 7.2, 7.3, 7.4, 7.5, 7.6, 7.7, 7.8, 7.9, 8.0, 8.1, 8.2, 8.3, 8.4, 8.5, 8.6, 8.7, 8.8, 8.9, 9.0, 9.1, 9.2, 9.3, 9.4, 9.5, 9.6, 9.7, 9.8, 9.9, 10.0, 10.1, 10.2, 10.3, 10.4, 10.5, 10.6, 10.7, 10.8, 10.9], \"xaxis\": \"x\", \"y\": [-0.0, -0.0, -0.0, -0.0, -0.0, -0.0, -0.0, -0.0, -0.0, -0.0, -0.0, -0.0, -0.0, -0.0, -0.0, -0.0, -0.0, -0.0, -0.0, -0.0, -0.0, -0.0, -0.0, -0.0, -0.0, -0.0, -0.0, -0.0, -0.0, -0.0, -0.0, -0.0, -0.0, -335.57264591742506, -418.73383239389517, -329.10497266201975, -313.14959283868035, -323.6455360399637, -325.65850910652995, -322.25772751371676, -316.35881956102463, -308.54730061084473, -298.9895716012584, -287.72455029706316, -274.7432963850782, -260.0319852594584, -243.58959223507415, -225.4371888702177, -205.62391891050797, -184.23047774534564, -161.36950239439187, -137.1813488590616, -111.82275571293542, -85.44455259169828, -58.152543109628006, -29.942325668676578, -0.5923123257231883, -30.5150733448033, -68.03290552787053, -114.20018568767665, -124.80564432232231, -130.54451638855434, -141.62968631021266, -0.0, -221.37321742517113, -215.54618347832957, -237.7075316728433, -256.19460754517144, -283.2683022381215, -324.2115245721123, -245.74953463721027, -201.6673054884086, -144.7876688533636, -73.47023783202361, -9.34436621930092, -93.91684401253237, -171.15443529463184, -259.37730259708337, -344.94153815447027, -415.4655425696521, -450.46964426848285, -441.34411517218155, -403.10002309903615, -355.34067231141535, -307.7845884470944, -262.86787812142995, -220.50081877696732, -180.12957217331402, -141.32333245147169, -103.85450143358186, -67.62294533315789, -32.50667735723174, -1.881325758110926, -41.90701863756267, -79.12546337206669, -118.3888134780823, -126.08943274326121, -134.35524669862716, -0.0, -0.0, -294.151540106322, -241.5752401988465, -260.042146706307, -323.5410049940824, -265.1861226067554, -222.34452308678198, -163.41819040486325, -82.6448620411786, -16.428920629723365, -127.53915655244347], \"yaxis\": \"y\"}, {\"line\": {\"color\": \"rgb(0, 0, 255)\", \"width\": 2}, \"mode\": \"lines\", \"name\": \"LF\", \"showlegend\": false, \"type\": \"scatter\", \"x\": [0.0, 0.1, 0.2, 0.3, 0.4, 0.5, 0.6, 0.7, 0.8, 0.9, 1.0, 1.1, 1.2, 1.3, 1.4, 1.5, 1.6, 1.7, 1.8, 1.9, 2.0, 2.1, 2.2, 2.3, 2.4, 2.5, 2.6, 2.7, 2.8, 2.9, 3.0, 3.1, 3.2, 3.3, 3.4, 3.5, 3.6, 3.7, 3.8, 3.9, 4.0, 4.1, 4.2, 4.3, 4.4, 4.5, 4.6, 4.7, 4.8, 4.9, 5.0, 5.1, 5.2, 5.3, 5.4, 5.5, 5.6, 5.7, 5.8, 5.9, 6.0, 6.1, 6.2, 6.3, 6.4, 6.5, 6.6, 6.7, 6.8, 6.9, 7.0, 7.1, 7.2, 7.3, 7.4, 7.5, 7.6, 7.7, 7.8, 7.9, 8.0, 8.1, 8.2, 8.3, 8.4, 8.5, 8.6, 8.7, 8.8, 8.9, 9.0, 9.1, 9.2, 9.3, 9.4, 9.5, 9.6, 9.7, 9.8, 9.9, 10.0, 10.1, 10.2, 10.3, 10.4, 10.5, 10.6, 10.7, 10.8, 10.9], \"xaxis\": \"x2\", \"y\": [0.0, 0.0, 0.0, 0.0, 0.0, 0.0, 0.0, 0.0, 0.0, 0.0, 0.0, -163.48270522485265, -273.5319062232266, -296.05181154666786, -296.1874998569587, -312.6252826824204, -345.4907941477962, -377.1915083733118, -396.0702081740303, -402.18566553030684, -399.99851496895724, -710.6197561180846, 121.99757563855499, 93.47152544053012, 26.261053287151867, -17.959052722040383, -41.474726162675154, -50.61385994299877, -48.45726650245314, -37.01476199618611, -18.81863827413008, 4.001838318507282, 36.4071508353199, 674.6433744867074, 451.3477379230755, 308.2952720403947, 344.9202752135103, 357.8578721032224, 347.4552821300417, 328.0547758005059, 302.49976101105426, 271.5684850181182, 235.7343004607938, 195.31307601200908, 150.5939342487407, 101.9042814100826, 49.64458849560077, -5.684761529619323, -63.458146866868105, -122.89855857534002, -183.04974137552864, -242.74637674545755, -300.5826054553635, -354.8802331475248, -403.6605997745122, -444.63100531747943, -475.2146069006086, -619.6606336218504, -508.5020405546471, -360.9366398547595, -371.9350640739251, -374.6340259075757, -349.9130401874427, -288.2341390683497, -170.51131296641157, -39.959938273818636, 137.31583759443905, -446.50966764229935, 513.7684325482452, 731.2558272486388, 924.3195626521622, 1078.3672410239724, 1192.1842384345791, 1252.5839352971395, 878.5573837137296, 915.8826288533862, 1077.677014959233, 1191.7221302430314, 1226.0773104554637, 1122.0915317058138, 904.0882926602037, 663.3390156676032, 456.4149516510647, 289.00596087508984, 150.48685459354255, 31.26322197958342, -74.5489736903616, -169.9091649820549, -255.78059026315742, -331.74830394993523, -396.3926297894455, -447.5448389928681, -680.4120095727703, -540.041859931327, -489.2967424227404, -364.3118577199261, -370.8953812989106, -357.12516554388384, -303.2157633546002, -169.29968910955986, -41.58363978344727, 163.0976100116513, -150.54526143954286, 493.6215885442534, 861.3415738371014, 1045.358732938645, 1182.4416288501843, 1256.063314945669, 881.7060868901151, 932.359080363433], \"yaxis\": \"y2\"}, {\"line\": {\"color\": \"rgb(0, 255, 0)\", \"width\": 2}, \"mode\": \"lines\", \"name\": \"RF\", \"showlegend\": false, \"type\": \"scatter\", \"x\": [0.0, 0.1, 0.2, 0.3, 0.4, 0.5, 0.6, 0.7, 0.8, 0.9, 1.0, 1.1, 1.2, 1.3, 1.4, 1.5, 1.6, 1.7, 1.8, 1.9, 2.0, 2.1, 2.2, 2.3, 2.4, 2.5, 2.6, 2.7, 2.8, 2.9, 3.0, 3.1, 3.2, 3.3, 3.4, 3.5, 3.6, 3.7, 3.8, 3.9, 4.0, 4.1, 4.2, 4.3, 4.4, 4.5, 4.6, 4.7, 4.8, 4.9, 5.0, 5.1, 5.2, 5.3, 5.4, 5.5, 5.6, 5.7, 5.8, 5.9, 6.0, 6.1, 6.2, 6.3, 6.4, 6.5, 6.6, 6.7, 6.8, 6.9, 7.0, 7.1, 7.2, 7.3, 7.4, 7.5, 7.6, 7.7, 7.8, 7.9, 8.0, 8.1, 8.2, 8.3, 8.4, 8.5, 8.6, 8.7, 8.8, 8.9, 9.0, 9.1, 9.2, 9.3, 9.4, 9.5, 9.6, 9.7, 9.8, 9.9, 10.0, 10.1, 10.2, 10.3, 10.4, 10.5, 10.6, 10.7, 10.8, 10.9], \"xaxis\": \"x2\", \"y\": [0.0, 0.0, 0.0, 0.0, 0.0, 0.0, 0.0, 0.0, 0.0, 0.0, 0.0, -163.48270522485265, -315.63471020430563, -386.5466140632811, -415.3019014849079, -467.2572411742716, -564.3862539902431, -694.1650367440807, -835.1368112556567, -972.3411264370151, 238.22352780711768, 190.5681416918774, 150.3193795881751, 87.15067245116069, 26.025210346962353, -19.333479486034207, -47.14784420915572, -57.92574928668313, -53.38416572569781, -38.2507716207366, -18.418474015673894, 3.9091006779513577, 40.07604868684007, 599.5499421888529, 305.730002462728, 307.21982843367215, 342.70541401679316, 343.1023613069919, 334.9932268319149, 324.3276815156777, 310.656423431005, 293.7981017728696, 273.4887740736204, 249.35731920335095, 220.96099510110633, 187.79250998122836, 149.28497194012928, 104.81763599586651, 53.72388751662703, -4.6966581763331305, -71.15957274932896, -146.36699638852025, -230.9630957121455, -325.4630931799246, -430.13595607811055, -544.801090809633, -668.4572180853946, -798.5726607845048, -1245.0022701372643, -1223.930651450195, -1154.8521897364326, -1019.9767664101014, -825.4213982144046, -585.7932548356428, -309.61513449530895, -57.92386907852858, 170.30163624188822, 68.35559462986485, 513.4784341513475, 443.35458932042945, 539.4046643099798, 534.4100725539658, 490.752013412799, 340.9376465470773, 348.2056235932792, 345.1588507369062, 363.3606269415944, 372.153948766776, 380.2440098858877, 387.69140409002955, 392.1658459351954, 381.63843589965234, 347.87395123392395, 293.9349840389826, 225.92365959201953, 147.41115884289627, 59.46493473799529, -38.119624675568616, -145.99079574602735, -264.7668294143862, -394.6795752241419, -535.1512466574836, -684.1146474298982, -838.7277301044408, -1239.0153996189993, -1198.2783208808023, -1084.330920135896, -893.5204235860912, -641.9278527462586, -358.87021141078714, -52.72162918279571, 192.88243095707816, 264.259134928846, 480.9597518843642, 530.9662847533123, 543.3508946026124, 505.13781229454383, 321.31097480303924, 332.5191565740144, 334.97066965899114], \"yaxis\": \"y2\"}, {\"line\": {\"color\": \"rgb(153, 0, 204)\", \"width\": 2}, \"mode\": \"lines\", \"name\": \"RR\", \"showlegend\": false, \"type\": \"scatter\", \"x\": [0.0, 0.1, 0.2, 0.3, 0.4, 0.5, 0.6, 0.7, 0.8, 0.9, 1.0, 1.1, 1.2, 1.3, 1.4, 1.5, 1.6, 1.7, 1.8, 1.9, 2.0, 2.1, 2.2, 2.3, 2.4, 2.5, 2.6, 2.7, 2.8, 2.9, 3.0, 3.1, 3.2, 3.3, 3.4, 3.5, 3.6, 3.7, 3.8, 3.9, 4.0, 4.1, 4.2, 4.3, 4.4, 4.5, 4.6, 4.7, 4.8, 4.9, 5.0, 5.1, 5.2, 5.3, 5.4, 5.5, 5.6, 5.7, 5.8, 5.9, 6.0, 6.1, 6.2, 6.3, 6.4, 6.5, 6.6, 6.7, 6.8, 6.9, 7.0, 7.1, 7.2, 7.3, 7.4, 7.5, 7.6, 7.7, 7.8, 7.9, 8.0, 8.1, 8.2, 8.3, 8.4, 8.5, 8.6, 8.7, 8.8, 8.9, 9.0, 9.1, 9.2, 9.3, 9.4, 9.5, 9.6, 9.7, 9.8, 9.9, 10.0, 10.1, 10.2, 10.3, 10.4, 10.5, 10.6, 10.7, 10.8, 10.9], \"xaxis\": \"x2\", \"y\": [-0.0, -0.0, -0.0, -0.0, -0.0, -0.0, -0.0, -0.0, -0.0, -0.0, -0.0, -0.0, 1.9570602651305862, 3.6364598591511705, -7.0413068994176, -37.94598317039323, -85.3651004758944, -140.46857771452878, -195.39984796583704, -246.1775391757157, -292.38043859750115, -220.9284272418669, -246.14329466065425, -190.44334950725926, -195.5647164417547, -179.22894035844183, -108.89395157312305, -5.96411130392087, 74.41162697435527, 80.02118482137492, -1.896957750582867, -110.68851851559221, 137.16390923970215, 22.350185240162336, -25.217529210434062, -30.22359700354368, -28.213593132996472, -24.912008416507504, -25.37379631115104, -28.542890649574854, -33.3579282022372, -39.50361832101798, -46.97941927947289, -55.90258466035848, -66.45195642510502, -78.85342726035704, -93.37818098764178, -110.34451037379159, -130.11992142439223, -153.12160536893248, -179.8128571915909, -210.69099720710003, -246.2576243567734, -286.951263778812, -332.9975442067188, -384.07384790446235, -438.55340766149726, -491.834166542361, -563.8023922089592, -613.8008744674614, -467.08090915590657, -294.0831384787267, -135.67391776132303, -65.42031150259795, 83.1023136706029, 118.75287792845448, 142.45682718288992, 147.56591981807549, 331.50524058950083, 187.1170995733016, 133.5621352113442, 137.79446772992762, 147.78030809204452, 164.19458664741944, 208.724716218622, 300.4250875304018, 238.61956441582007, 192.80743117317922, 142.10267462743698, 96.50235077409633, 62.585306070373186, 38.44129460780366, 15.478134195872203, -10.970392722640902, -41.2658260129056, -75.08204359449543, -112.59278874518202, -154.37099356657316, -201.13086064399621, -253.49174229902883, -311.6624768957819, -374.8425013270931, -439.97631384809074, -554.9956865308926, -560.8359063956312, -558.3067401859361, -386.69159156647214, -208.54394470004675, -349.70072600494933, 331.56960419899, 109.81465970262813, 131.00771015771386, 140.21461402778368, 302.92984942394435, 129.98199496882958, 133.09805370261432, 141.90227055055175, 158.61445286336476, 216.6490105936965, 303.6912587349445], \"yaxis\": \"y2\"}, {\"line\": {\"color\": \"rgb(255, 102, 0)\", \"width\": 2}, \"mode\": \"lines\", \"name\": \"LR\", \"showlegend\": false, \"type\": \"scatter\", \"x\": [0.0, 0.1, 0.2, 0.3, 0.4, 0.5, 0.6, 0.7, 0.8, 0.9, 1.0, 1.1, 1.2, 1.3, 1.4, 1.5, 1.6, 1.7, 1.8, 1.9, 2.0, 2.1, 2.2, 2.3, 2.4, 2.5, 2.6, 2.7, 2.8, 2.9, 3.0, 3.1, 3.2, 3.3, 3.4, 3.5, 3.6, 3.7, 3.8, 3.9, 4.0, 4.1, 4.2, 4.3, 4.4, 4.5, 4.6, 4.7, 4.8, 4.9, 5.0, 5.1, 5.2, 5.3, 5.4, 5.5, 5.6, 5.7, 5.8, 5.9, 6.0, 6.1, 6.2, 6.3, 6.4, 6.5, 6.6, 6.7, 6.8, 6.9, 7.0, 7.1, 7.2, 7.3, 7.4, 7.5, 7.6, 7.7, 7.8, 7.9, 8.0, 8.1, 8.2, 8.3, 8.4, 8.5, 8.6, 8.7, 8.8, 8.9, 9.0, 9.1, 9.2, 9.3, 9.4, 9.5, 9.6, 9.7, 9.8, 9.9, 10.0, 10.1, 10.2, 10.3, 10.4, 10.5, 10.6, 10.7, 10.8, 10.9], \"xaxis\": \"x2\", \"y\": [-0.0, -0.0, -0.0, -0.0, -0.0, -0.0, -0.0, -0.0, -0.0, -0.0, -0.0, -0.0, 1.69692428793302, 2.809986082447182, -5.215823916384382, -27.460969889842836, -58.27224878447873, -86.51083792704998, -105.82319567712193, -116.56985446648783, -121.41205650191371, -159.88064899124174, -147.47320527833443, -176.5268631589727, -173.5748775062846, -146.09527518516947, -86.13978596043341, -4.966806345806843, 68.90600840253288, 82.18455638816029, -2.006109936280664, -107.79624898940432, 119.75345428960354, 29.989798503679246, -73.64376479469492, -59.273898875155425, -49.71456801715557, -46.78416539591605, -48.54586094919724, -53.85434349071848, -61.18239289340661, -69.74061302101445, -79.15969835084495, -89.18097631048873, -99.55935074773024, -110.04067567937521, -120.35773936973635, -130.23241695597284, -139.3808379434047, -147.52080149599973, -154.3813081735175, -159.71406254402362, -163.3064478471483, -164.99474960161928, -164.67518200937738, -162.30846826524063, -157.9113193383677, -151.52337981749943, -148.55340528477493, -141.49590912738654, -94.50400450109203, -58.45334628859243, -30.680948330768143, -24.76606237945233, 35.47846967973714, 73.23069471206367, 126.98863832845214, 194.23136672055526, 287.5470400577836, 425.769854405428, 426.61571556483784, 497.7354839826615, 570.118332633656, 630.4623821574426, 681.0639848613883, 726.3090925356528, 692.4276245565638, 646.638739559765, 568.0977554251298, 452.0327555166404, 306.4200781737189, 163.00127618971143, 50.50224279226757, -27.093607932852123, -78.91425303852797, -113.8857393066488, -137.6727315879812, -153.48047718168914, -163.112551393217, -167.6574199669466, -167.88959887325768, -164.51073481916154, -158.29086602504117, -166.18855744731465, -142.70254798880472, -122.57984786709657, -77.89780512096605, -44.77612108739167, -119.05577638985329, 132.61459647952728, 86.98191165804218, 120.49292475633591, 193.7481651853449, 335.8303500063678, 378.914634978941, 461.2605062883842, 546.9301229250616, 618.3687055163302, 680.6043358843781, 722.1032632328115], \"yaxis\": \"y2\"}],\n",
       "                        {\"autosize\": false, \"font\": {\"color\": \"black\", \"family\": \"Arial\", \"size\": 14}, \"height\": 500, \"legend\": {\"orientation\": \"h\", \"x\": 0.01, \"xanchor\": \"left\", \"y\": 1.1, \"yanchor\": \"top\"}, \"template\": {\"data\": {\"bar\": [{\"error_x\": {\"color\": \"#2a3f5f\"}, \"error_y\": {\"color\": \"#2a3f5f\"}, \"marker\": {\"line\": {\"color\": \"white\", \"width\": 0.5}}, \"type\": \"bar\"}], \"barpolar\": [{\"marker\": {\"line\": {\"color\": \"white\", \"width\": 0.5}}, \"type\": \"barpolar\"}], \"carpet\": [{\"aaxis\": {\"endlinecolor\": \"#2a3f5f\", \"gridcolor\": \"#C8D4E3\", \"linecolor\": \"#C8D4E3\", \"minorgridcolor\": \"#C8D4E3\", \"startlinecolor\": \"#2a3f5f\"}, \"baxis\": {\"endlinecolor\": \"#2a3f5f\", \"gridcolor\": \"#C8D4E3\", \"linecolor\": \"#C8D4E3\", \"minorgridcolor\": \"#C8D4E3\", \"startlinecolor\": \"#2a3f5f\"}, \"type\": \"carpet\"}], \"choropleth\": [{\"colorbar\": {\"outlinewidth\": 0, \"ticks\": \"\"}, \"type\": \"choropleth\"}], \"contour\": [{\"colorbar\": {\"outlinewidth\": 0, \"ticks\": \"\"}, \"colorscale\": [[0.0, \"#0d0887\"], [0.1111111111111111, \"#46039f\"], [0.2222222222222222, \"#7201a8\"], [0.3333333333333333, \"#9c179e\"], [0.4444444444444444, \"#bd3786\"], [0.5555555555555556, \"#d8576b\"], [0.6666666666666666, \"#ed7953\"], [0.7777777777777778, \"#fb9f3a\"], [0.8888888888888888, \"#fdca26\"], [1.0, \"#f0f921\"]], \"type\": \"contour\"}], \"contourcarpet\": [{\"colorbar\": {\"outlinewidth\": 0, \"ticks\": \"\"}, \"type\": \"contourcarpet\"}], \"heatmap\": [{\"colorbar\": {\"outlinewidth\": 0, \"ticks\": \"\"}, \"colorscale\": [[0.0, \"#0d0887\"], [0.1111111111111111, \"#46039f\"], [0.2222222222222222, \"#7201a8\"], [0.3333333333333333, \"#9c179e\"], [0.4444444444444444, \"#bd3786\"], [0.5555555555555556, \"#d8576b\"], [0.6666666666666666, \"#ed7953\"], [0.7777777777777778, \"#fb9f3a\"], [0.8888888888888888, \"#fdca26\"], [1.0, \"#f0f921\"]], \"type\": \"heatmap\"}], \"heatmapgl\": [{\"colorbar\": {\"outlinewidth\": 0, \"ticks\": \"\"}, \"colorscale\": [[0.0, \"#0d0887\"], [0.1111111111111111, \"#46039f\"], [0.2222222222222222, \"#7201a8\"], [0.3333333333333333, \"#9c179e\"], [0.4444444444444444, \"#bd3786\"], [0.5555555555555556, \"#d8576b\"], [0.6666666666666666, \"#ed7953\"], [0.7777777777777778, \"#fb9f3a\"], [0.8888888888888888, \"#fdca26\"], [1.0, \"#f0f921\"]], \"type\": \"heatmapgl\"}], \"histogram\": [{\"marker\": {\"colorbar\": {\"outlinewidth\": 0, \"ticks\": \"\"}}, \"type\": \"histogram\"}], \"histogram2d\": [{\"colorbar\": {\"outlinewidth\": 0, \"ticks\": \"\"}, \"colorscale\": [[0.0, \"#0d0887\"], [0.1111111111111111, \"#46039f\"], [0.2222222222222222, \"#7201a8\"], [0.3333333333333333, \"#9c179e\"], [0.4444444444444444, \"#bd3786\"], [0.5555555555555556, \"#d8576b\"], [0.6666666666666666, \"#ed7953\"], [0.7777777777777778, \"#fb9f3a\"], [0.8888888888888888, \"#fdca26\"], [1.0, \"#f0f921\"]], \"type\": \"histogram2d\"}], \"histogram2dcontour\": [{\"colorbar\": {\"outlinewidth\": 0, \"ticks\": \"\"}, \"colorscale\": [[0.0, \"#0d0887\"], [0.1111111111111111, \"#46039f\"], [0.2222222222222222, \"#7201a8\"], [0.3333333333333333, \"#9c179e\"], [0.4444444444444444, \"#bd3786\"], [0.5555555555555556, \"#d8576b\"], [0.6666666666666666, \"#ed7953\"], [0.7777777777777778, \"#fb9f3a\"], [0.8888888888888888, \"#fdca26\"], [1.0, \"#f0f921\"]], \"type\": \"histogram2dcontour\"}], \"mesh3d\": [{\"colorbar\": {\"outlinewidth\": 0, \"ticks\": \"\"}, \"type\": \"mesh3d\"}], \"parcoords\": [{\"line\": {\"colorbar\": {\"outlinewidth\": 0, \"ticks\": \"\"}}, \"type\": \"parcoords\"}], \"pie\": [{\"automargin\": true, \"type\": \"pie\"}], \"scatter\": [{\"marker\": {\"colorbar\": {\"outlinewidth\": 0, \"ticks\": \"\"}}, \"type\": \"scatter\"}], \"scatter3d\": [{\"line\": {\"colorbar\": {\"outlinewidth\": 0, \"ticks\": \"\"}}, \"marker\": {\"colorbar\": {\"outlinewidth\": 0, \"ticks\": \"\"}}, \"type\": \"scatter3d\"}], \"scattercarpet\": [{\"marker\": {\"colorbar\": {\"outlinewidth\": 0, \"ticks\": \"\"}}, \"type\": \"scattercarpet\"}], \"scattergeo\": [{\"marker\": {\"colorbar\": {\"outlinewidth\": 0, \"ticks\": \"\"}}, \"type\": \"scattergeo\"}], \"scattergl\": [{\"marker\": {\"colorbar\": {\"outlinewidth\": 0, \"ticks\": \"\"}}, \"type\": \"scattergl\"}], \"scattermapbox\": [{\"marker\": {\"colorbar\": {\"outlinewidth\": 0, \"ticks\": \"\"}}, \"type\": \"scattermapbox\"}], \"scatterpolar\": [{\"marker\": {\"colorbar\": {\"outlinewidth\": 0, \"ticks\": \"\"}}, \"type\": \"scatterpolar\"}], \"scatterpolargl\": [{\"marker\": {\"colorbar\": {\"outlinewidth\": 0, \"ticks\": \"\"}}, \"type\": \"scatterpolargl\"}], \"scatterternary\": [{\"marker\": {\"colorbar\": {\"outlinewidth\": 0, \"ticks\": \"\"}}, \"type\": \"scatterternary\"}], \"surface\": [{\"colorbar\": {\"outlinewidth\": 0, \"ticks\": \"\"}, \"colorscale\": [[0.0, \"#0d0887\"], [0.1111111111111111, \"#46039f\"], [0.2222222222222222, \"#7201a8\"], [0.3333333333333333, \"#9c179e\"], [0.4444444444444444, \"#bd3786\"], [0.5555555555555556, \"#d8576b\"], [0.6666666666666666, \"#ed7953\"], [0.7777777777777778, \"#fb9f3a\"], [0.8888888888888888, \"#fdca26\"], [1.0, \"#f0f921\"]], \"type\": \"surface\"}], \"table\": [{\"cells\": {\"fill\": {\"color\": \"#EBF0F8\"}, \"line\": {\"color\": \"white\"}}, \"header\": {\"fill\": {\"color\": \"#C8D4E3\"}, \"line\": {\"color\": \"white\"}}, \"type\": \"table\"}]}, \"layout\": {\"annotationdefaults\": {\"arrowcolor\": \"#2a3f5f\", \"arrowhead\": 0, \"arrowwidth\": 1}, \"coloraxis\": {\"colorbar\": {\"outlinewidth\": 0, \"ticks\": \"\"}}, \"colorscale\": {\"diverging\": [[0, \"#8e0152\"], [0.1, \"#c51b7d\"], [0.2, \"#de77ae\"], [0.3, \"#f1b6da\"], [0.4, \"#fde0ef\"], [0.5, \"#f7f7f7\"], [0.6, \"#e6f5d0\"], [0.7, \"#b8e186\"], [0.8, \"#7fbc41\"], [0.9, \"#4d9221\"], [1, \"#276419\"]], \"sequential\": [[0.0, \"#0d0887\"], [0.1111111111111111, \"#46039f\"], [0.2222222222222222, \"#7201a8\"], [0.3333333333333333, \"#9c179e\"], [0.4444444444444444, \"#bd3786\"], [0.5555555555555556, \"#d8576b\"], [0.6666666666666666, \"#ed7953\"], [0.7777777777777778, \"#fb9f3a\"], [0.8888888888888888, \"#fdca26\"], [1.0, \"#f0f921\"]], \"sequentialminus\": [[0.0, \"#0d0887\"], [0.1111111111111111, \"#46039f\"], [0.2222222222222222, \"#7201a8\"], [0.3333333333333333, \"#9c179e\"], [0.4444444444444444, \"#bd3786\"], [0.5555555555555556, \"#d8576b\"], [0.6666666666666666, \"#ed7953\"], [0.7777777777777778, \"#fb9f3a\"], [0.8888888888888888, \"#fdca26\"], [1.0, \"#f0f921\"]]}, \"colorway\": [\"#636efa\", \"#EF553B\", \"#00cc96\", \"#ab63fa\", \"#FFA15A\", \"#19d3f3\", \"#FF6692\", \"#B6E880\", \"#FF97FF\", \"#FECB52\"], \"font\": {\"color\": \"#2a3f5f\"}, \"geo\": {\"bgcolor\": \"white\", \"lakecolor\": \"white\", \"landcolor\": \"white\", \"showlakes\": true, \"showland\": true, \"subunitcolor\": \"#C8D4E3\"}, \"hoverlabel\": {\"align\": \"left\"}, \"hovermode\": \"closest\", \"mapbox\": {\"style\": \"light\"}, \"paper_bgcolor\": \"white\", \"plot_bgcolor\": \"white\", \"polar\": {\"angularaxis\": {\"gridcolor\": \"#EBF0F8\", \"linecolor\": \"#EBF0F8\", \"ticks\": \"\"}, \"bgcolor\": \"white\", \"radialaxis\": {\"gridcolor\": \"#EBF0F8\", \"linecolor\": \"#EBF0F8\", \"ticks\": \"\"}}, \"scene\": {\"xaxis\": {\"backgroundcolor\": \"white\", \"gridcolor\": \"#DFE8F3\", \"gridwidth\": 2, \"linecolor\": \"#EBF0F8\", \"showbackground\": true, \"ticks\": \"\", \"zerolinecolor\": \"#EBF0F8\"}, \"yaxis\": {\"backgroundcolor\": \"white\", \"gridcolor\": \"#DFE8F3\", \"gridwidth\": 2, \"linecolor\": \"#EBF0F8\", \"showbackground\": true, \"ticks\": \"\", \"zerolinecolor\": \"#EBF0F8\"}, \"zaxis\": {\"backgroundcolor\": \"white\", \"gridcolor\": \"#DFE8F3\", \"gridwidth\": 2, \"linecolor\": \"#EBF0F8\", \"showbackground\": true, \"ticks\": \"\", \"zerolinecolor\": \"#EBF0F8\"}}, \"shapedefaults\": {\"line\": {\"color\": \"#2a3f5f\"}}, \"ternary\": {\"aaxis\": {\"gridcolor\": \"#DFE8F3\", \"linecolor\": \"#A2B1C6\", \"ticks\": \"\"}, \"baxis\": {\"gridcolor\": \"#DFE8F3\", \"linecolor\": \"#A2B1C6\", \"ticks\": \"\"}, \"bgcolor\": \"white\", \"caxis\": {\"gridcolor\": \"#DFE8F3\", \"linecolor\": \"#A2B1C6\", \"ticks\": \"\"}}, \"title\": {\"x\": 0.05}, \"xaxis\": {\"automargin\": true, \"gridcolor\": \"#EBF0F8\", \"linecolor\": \"#EBF0F8\", \"ticks\": \"\", \"title\": {\"standoff\": 15}, \"zerolinecolor\": \"#EBF0F8\", \"zerolinewidth\": 2}, \"yaxis\": {\"automargin\": true, \"gridcolor\": \"#EBF0F8\", \"linecolor\": \"#EBF0F8\", \"ticks\": \"\", \"title\": {\"standoff\": 15}, \"zerolinecolor\": \"#EBF0F8\", \"zerolinewidth\": 2}}}, \"title\": {\"text\": \"Veh1 - Tire Forces\"}, \"width\": 900, \"xaxis\": {\"anchor\": \"y\", \"domain\": [0.0, 1.0], \"linecolor\": \"black\", \"linewidth\": 1, \"matches\": \"x2\", \"showgrid\": false, \"showline\": true, \"showticklabels\": false, \"tickcolor\": \"black\", \"ticklen\": 10, \"ticks\": \"outside\", \"tickwidth\": 1, \"title\": {\"text\": \"\"}, \"zeroline\": false}, \"xaxis2\": {\"anchor\": \"y2\", \"domain\": [0.0, 1.0], \"linecolor\": \"black\", \"linewidth\": 1, \"showgrid\": false, \"showline\": true, \"tickcolor\": \"black\", \"ticklen\": 10, \"ticks\": \"outside\", \"tickwidth\": 1, \"title\": {\"text\": \"Time (s)\"}, \"zeroline\": false}, \"yaxis\": {\"anchor\": \"x\", \"domain\": [0.525, 1.0], \"linecolor\": \"black\", \"linewidth\": 1, \"showgrid\": false, \"showline\": true, \"tickcolor\": \"black\", \"ticklen\": 10, \"ticks\": \"outside\", \"tickwidth\": 1, \"title\": {\"text\": \"Forward (lb)\"}, \"zeroline\": false}, \"yaxis2\": {\"anchor\": \"x2\", \"domain\": [0.0, 0.475], \"linecolor\": \"black\", \"linewidth\": 1, \"showgrid\": false, \"showline\": true, \"tickcolor\": \"black\", \"ticklen\": 10, \"ticks\": \"outside\", \"tickwidth\": 1, \"title\": {\"text\": \"Rightward (lb)\"}, \"zeroline\": false}},\n",
       "                        {\"responsive\": true}\n",
       "                    ).then(function(){\n",
       "                            \n",
       "var gd = document.getElementById('1c29f250-7900-4f5c-8e4d-89687951c253');\n",
       "var x = new MutationObserver(function (mutations, observer) {{\n",
       "        var display = window.getComputedStyle(gd).display;\n",
       "        if (!display || display === 'none') {{\n",
       "            console.log([gd, 'removed!']);\n",
       "            Plotly.purge(gd);\n",
       "            observer.disconnect();\n",
       "        }}\n",
       "}});\n",
       "\n",
       "// Listen for the removal of the full notebook cells\n",
       "var notebookContainer = gd.closest('#notebook-container');\n",
       "if (notebookContainer) {{\n",
       "    x.observe(notebookContainer, {childList: true});\n",
       "}}\n",
       "\n",
       "// Listen for the clearing of the current output cell\n",
       "var outputEl = gd.closest('.output');\n",
       "if (outputEl) {{\n",
       "    x.observe(outputEl, {childList: true});\n",
       "}}\n",
       "\n",
       "                        })\n",
       "                };\n",
       "                });\n",
       "            </script>\n",
       "        </div>"
      ]
     },
     "metadata": {},
     "output_type": "display_data"
    },
    {
     "data": {
      "application/vnd.plotly.v1+json": {
       "config": {
        "plotlyServerURL": "https://plot.ly"
       },
       "data": [
        {
         "line": {
          "color": "rgb(0, 0, 0)",
          "width": 2
         },
         "mode": "lines",
         "name": "heading",
         "type": "scatter",
         "x": [
          0,
          0.1,
          0.2,
          0.3,
          0.4,
          0.5,
          0.6,
          0.7,
          0.8,
          0.9,
          1,
          1.1,
          1.2,
          1.3,
          1.4,
          1.5,
          1.6,
          1.7,
          1.8,
          1.9,
          2,
          2.1,
          2.2,
          2.3,
          2.4,
          2.5,
          2.6,
          2.7,
          2.8,
          2.9,
          3,
          3.1,
          3.2,
          3.3,
          3.4,
          3.5,
          3.6,
          3.7,
          3.8,
          3.9,
          4,
          4.1,
          4.2,
          4.3,
          4.4,
          4.5,
          4.6,
          4.7,
          4.8,
          4.9,
          5,
          5.1,
          5.2,
          5.3,
          5.4,
          5.5,
          5.6,
          5.7,
          5.8,
          5.9,
          6,
          6.1,
          6.2,
          6.3,
          6.4,
          6.5,
          6.6,
          6.7,
          6.8,
          6.9,
          7,
          7.1,
          7.2,
          7.3,
          7.4,
          7.5,
          7.6,
          7.7,
          7.8,
          7.9,
          8,
          8.1,
          8.2,
          8.3,
          8.4,
          8.5,
          8.6,
          8.7,
          8.8,
          8.9,
          9,
          9.1,
          9.2,
          9.3,
          9.4,
          9.5,
          9.6,
          9.7,
          9.8,
          9.9,
          10,
          10.1,
          10.2,
          10.3,
          10.4,
          10.5,
          10.6,
          10.7,
          10.8,
          10.9
         ],
         "xaxis": "x",
         "y": [
          0,
          0,
          0,
          0,
          0,
          0,
          0,
          0,
          0,
          0,
          0,
          -0.0728916891642895,
          -0.423807779410443,
          -1.2650046976310705,
          -2.694753985729549,
          -4.720958015261792,
          -7.319416281114804,
          -10.46683205457635,
          -14.147031848343486,
          -18.345770571191636,
          -22.629682908479353,
          -26.29129928078997,
          -29.072760396834724,
          -30.96024139125243,
          -32.018566399978845,
          -32.40344373819739,
          -32.257984468544194,
          -31.81487663950204,
          -31.369269657392735,
          -31.15469101288348,
          -31.192100170462457,
          -31.246346227139306,
          -31.202633792704734,
          -30.975846345771878,
          -30.262867137831535,
          -29.033757372370122,
          -27.37000488254015,
          -25.208242612123904,
          -22.543966213146042,
          -19.396260632294457,
          -15.773789476600143,
          -11.678897403195945,
          -7.1118240882586194,
          -2.071942167959989,
          3.441835291672723,
          9.430879414418234,
          15.896733343175592,
          22.841001152855416,
          30.265212134843445,
          38.1706402779438,
          46.558051773882816,
          55.42733634161186,
          64.77694586401215,
          74.60300328018435,
          84.89782888854992,
          95.64740559623625,
          106.82686438904867,
          118.40666619892959,
          130.15455250209953,
          141.7509455616601,
          153.19386618519107,
          164.54084949770169,
          175.70330905332446,
          186.58837504657484,
          197.1511951652424,
          207.4201213804453,
          217.4393160639749,
          227.0144445489854,
          236.11806537323454,
          245.0993054808371,
          253.9679826779653,
          262.66973374623524,
          271.3223572800461,
          279.8947406651295,
          288.39056550815803,
          296.8825729105607,
          305.3600238253122,
          313.85535492609114,
          322.44736345535927,
          331.12947778586977,
          339.8513607829283,
          348.5858207048337,
          357.373450820658,
          366.30126078106036,
          375.46006922441427,
          384.92316808888404,
          394.74423517389386,
          404.9611044210812,
          415.59926324953454,
          426.6737008143313,
          438.1888931791615,
          450.13656472287164,
          462.52871562182656,
          475.4012918533755,
          488.5437277601047,
          501.6049707767064,
          514.5352108494857,
          527.3686920956405,
          540.1362517576861,
          552.7324967030592,
          564.838772710797,
          576.501633956637,
          587.8471898803282,
          598.760019275892,
          609.3346767321789,
          619.8104965383602,
          630.2998795519454,
          640.7512492678103,
          651.109650886665,
          661.4066178667889
         ],
         "yaxis": "y"
        },
        {
         "line": {
          "color": "rgb(0, 255, 0)",
          "width": 2
         },
         "mode": "lines",
         "name": "omega",
         "type": "scatter",
         "x": [
          0,
          0.1,
          0.2,
          0.3,
          0.4,
          0.5,
          0.6,
          0.7,
          0.8,
          0.9,
          1,
          1.1,
          1.2,
          1.3,
          1.4,
          1.5,
          1.6,
          1.7,
          1.8,
          1.9,
          2,
          2.1,
          2.2,
          2.3,
          2.4,
          2.5,
          2.6,
          2.7,
          2.8,
          2.9,
          3,
          3.1,
          3.2,
          3.3,
          3.4,
          3.5,
          3.6,
          3.7,
          3.8,
          3.9,
          4,
          4.1,
          4.2,
          4.3,
          4.4,
          4.5,
          4.6,
          4.7,
          4.8,
          4.9,
          5,
          5.1,
          5.2,
          5.3,
          5.4,
          5.5,
          5.6,
          5.7,
          5.8,
          5.9,
          6,
          6.1,
          6.2,
          6.3,
          6.4,
          6.5,
          6.6,
          6.7,
          6.8,
          6.9,
          7,
          7.1,
          7.2,
          7.3,
          7.4,
          7.5,
          7.6,
          7.7,
          7.8,
          7.9,
          8,
          8.1,
          8.2,
          8.3,
          8.4,
          8.5,
          8.6,
          8.7,
          8.8,
          8.9,
          9,
          9.1,
          9.2,
          9.3,
          9.4,
          9.5,
          9.6,
          9.7,
          9.8,
          9.9,
          10,
          10.1,
          10.2,
          10.3,
          10.4,
          10.5,
          10.6,
          10.7,
          10.8,
          10.9
         ],
         "xaxis": "x2",
         "y": [
          0,
          0,
          0,
          0,
          0,
          0,
          0,
          0,
          0,
          0,
          0,
          -1.45783378328579,
          -5.56048802163728,
          -11.263450342775274,
          -17.331535419194292,
          -23.192545171450554,
          -28.77662014560969,
          -34.17169532362124,
          -39.43230055172147,
          -44.54247390524149,
          -41.13577284051287,
          -32.096554605699524,
          -23.532667715195547,
          -14.216952173158532,
          -6.949548001369702,
          -0.7479987630011666,
          3.6571841560648957,
          5.204972424778295,
          3.707167217407745,
          0.5844056727773291,
          -1.3325888243567945,
          0.24766769081971488,
          0.6265809978717356,
          3.90916794078537,
          10.350416218021477,
          14.2317790912068,
          19.04327070539264,
          24.191974702932256,
          29.09355327662501,
          33.86055834040671,
          38.58886477347952,
          43.30897669460445,
          48.03248960414204,
          52.765148801830556,
          57.51040039082367,
          62.27048206408652,
          67.04659651106064,
          71.83875968253578,
          76.64545995722474,
          81.46310290478235,
          86.28512701399791,
          91.10056434058308,
          95.89162610742284,
          100.62952221602107,
          105.26698995129021,
          109.72454420243626,
          113.86463165381228,
          117.73140454380584,
          117.22632151959323,
          114.70153967161775,
          114.15687279900146,
          112.78279345121109,
          110.46639766124495,
          107.23492220376232,
          104.02148016958863,
          101.35704413446895,
          99.02684953612307,
          92.47572016408682,
          89.59669632089692,
          90.02810583115411,
          87.34543811140969,
          86.68958325398852,
          86.36288742222919,
          85.0847802794386,
          84.83171658113133,
          85.0084314669232,
          84.54058682810621,
          85.36603518747224,
          86.47413539788973,
          87.16815121232018,
          87.26950872885098,
          87.41968970925684,
          88.33291260722787,
          90.22328660081874,
          92.95288226625962,
          96.30909502313705,
          100.11224667705915,
          104.2251382666866,
          108.53803830238189,
          112.95071299355385,
          117.35313430304907,
          121.60029657115298,
          126.24272140794498,
          131.2088032230343,
          131.6399149115494,
          129.584945420486,
          129.01985603509942,
          127.64976888799957,
          127.70142435290911,
          124.22347455455291,
          117.90204560020554,
          115.3551793165937,
          111.55593915722952,
          106.70064875404587,
          104.79250037169423,
          104.72389575193093,
          105.06376451977391,
          103.96362979752142,
          103.20440257957401,
          102.73493702290264
         ],
         "yaxis": "y2"
        },
        {
         "line": {
          "color": "rgb(204, 0, 0)",
          "width": 2
         },
         "mode": "lines",
         "name": "alpha",
         "type": "scatter",
         "x": [
          0,
          0.1,
          0.2,
          0.3,
          0.4,
          0.5,
          0.6,
          0.7,
          0.8,
          0.9,
          1,
          1.1,
          1.2,
          1.3,
          1.4,
          1.5,
          1.6,
          1.7,
          1.8,
          1.9,
          2,
          2.1,
          2.2,
          2.3,
          2.4,
          2.5,
          2.6,
          2.7,
          2.8,
          2.9,
          3,
          3.1,
          3.2,
          3.3,
          3.4,
          3.5,
          3.6,
          3.7,
          3.8,
          3.9,
          4,
          4.1,
          4.2,
          4.3,
          4.4,
          4.5,
          4.6,
          4.7,
          4.8,
          4.9,
          5,
          5.1,
          5.2,
          5.3,
          5.4,
          5.5,
          5.6,
          5.7,
          5.8,
          5.9,
          6,
          6.1,
          6.2,
          6.3,
          6.4,
          6.5,
          6.6,
          6.7,
          6.8,
          6.9,
          7,
          7.1,
          7.2,
          7.3,
          7.4,
          7.5,
          7.6,
          7.7,
          7.8,
          7.9,
          8,
          8.1,
          8.2,
          8.3,
          8.4,
          8.5,
          8.6,
          8.7,
          8.8,
          8.9,
          9,
          9.1,
          9.2,
          9.3,
          9.4,
          9.5,
          9.6,
          9.7,
          9.8,
          9.9,
          10,
          10.1,
          10.2,
          10.3,
          10.4,
          10.5,
          10.6,
          10.7,
          10.8,
          10.9
         ],
         "xaxis": "x2",
         "y": [
          0,
          0,
          0,
          0,
          0,
          0,
          0,
          0,
          0,
          0,
          0,
          -29.156675665715795,
          -52.89640910131403,
          -61.162837321445814,
          -60.19886420693463,
          -57.021330838190615,
          -54.66016864499207,
          -53.24133491523908,
          -51.97076964676543,
          -50.232697423635074,
          118.36671871820742,
          62.417645978059554,
          108.86009183201999,
          77.45421900872029,
          67.89386442705633,
          56.13712034031436,
          31.96653804100688,
          -1.0107726667389145,
          -28.94533148067209,
          -33.509899411936225,
          -4.829990530746247,
          36.43512083427644,
          -28.856854693236023,
          94.50859355150872,
          34.31637199321336,
          43.310885470493076,
          52.918946813223755,
          50.0551331375686,
          47.97643833628644,
          47.36366293934755,
          47.202465722108634,
          47.19977270038992,
          47.27048549036191,
          47.38269846340818,
          47.5223333164543,
          47.679300148802845,
          47.84298879067951,
          48.000274638823136,
          48.13373085495612,
          48.21912809619616,
          48.22135408811504,
          48.087392443588065,
          47.73384289320718,
          47.024079278757554,
          45.725275426625494,
          43.42580959629521,
          39.37593943122512,
          37.95951836864564,
          -48.06117885289812,
          -2.4344581066110726,
          -8.458879345714653,
          -19.022707610092716,
          -27.305208189229706,
          -37.32430096042328,
          -26.94453972305036,
          -26.344180979343413,
          -20.259710987574167,
          -110.76287645315064,
          53.18239958935272,
          -44.554209384209074,
          -9.099145010679464,
          -4.0179521377436425,
          -2.5159644974428255,
          -23.04617835836886,
          17.984904392223335,
          -14.450606676386045,
          5.093713900046647,
          11.415253287273647,
          10.746750921076103,
          3.133565367533292,
          -1.1064150369173291,
          4.110034645034561,
          14.154423314385964,
          23.653056557431178,
          30.938856751386542,
          36.185398386162134,
          39.87763469228,
          42.380197100269186,
          43.87780361363671,
          44.37569020980251,
          43.672735980102004,
          41.27050938197621,
          51.57798735386348,
          47.74364894792302,
          -39.12141517762066,
          -1.9779746436478236,
          -9.323813064083078,
          -18.07792987791427,
          19.111039176105216,
          -88.67003514322913,
          -37.75854394371833,
          -13.178781728518416,
          -62.80602145876541,
          -34.29978660490762,
          -3.863181042124935,
          2.4910886468588562,
          4.306286710000552,
          -26.30898115505043,
          11.124436796102254,
          -20.513747929529103
         ],
         "yaxis": "y2"
        }
       ],
       "layout": {
        "autosize": false,
        "font": {
         "color": "black",
         "family": "Arial",
         "size": 14
        },
        "height": 500,
        "legend": {
         "orientation": "h",
         "x": 0.01,
         "xanchor": "left",
         "y": 1.1,
         "yanchor": "top"
        },
        "template": {
         "data": {
          "bar": [
           {
            "error_x": {
             "color": "#2a3f5f"
            },
            "error_y": {
             "color": "#2a3f5f"
            },
            "marker": {
             "line": {
              "color": "white",
              "width": 0.5
             }
            },
            "type": "bar"
           }
          ],
          "barpolar": [
           {
            "marker": {
             "line": {
              "color": "white",
              "width": 0.5
             }
            },
            "type": "barpolar"
           }
          ],
          "carpet": [
           {
            "aaxis": {
             "endlinecolor": "#2a3f5f",
             "gridcolor": "#C8D4E3",
             "linecolor": "#C8D4E3",
             "minorgridcolor": "#C8D4E3",
             "startlinecolor": "#2a3f5f"
            },
            "baxis": {
             "endlinecolor": "#2a3f5f",
             "gridcolor": "#C8D4E3",
             "linecolor": "#C8D4E3",
             "minorgridcolor": "#C8D4E3",
             "startlinecolor": "#2a3f5f"
            },
            "type": "carpet"
           }
          ],
          "choropleth": [
           {
            "colorbar": {
             "outlinewidth": 0,
             "ticks": ""
            },
            "type": "choropleth"
           }
          ],
          "contour": [
           {
            "colorbar": {
             "outlinewidth": 0,
             "ticks": ""
            },
            "colorscale": [
             [
              0,
              "#0d0887"
             ],
             [
              0.1111111111111111,
              "#46039f"
             ],
             [
              0.2222222222222222,
              "#7201a8"
             ],
             [
              0.3333333333333333,
              "#9c179e"
             ],
             [
              0.4444444444444444,
              "#bd3786"
             ],
             [
              0.5555555555555556,
              "#d8576b"
             ],
             [
              0.6666666666666666,
              "#ed7953"
             ],
             [
              0.7777777777777778,
              "#fb9f3a"
             ],
             [
              0.8888888888888888,
              "#fdca26"
             ],
             [
              1,
              "#f0f921"
             ]
            ],
            "type": "contour"
           }
          ],
          "contourcarpet": [
           {
            "colorbar": {
             "outlinewidth": 0,
             "ticks": ""
            },
            "type": "contourcarpet"
           }
          ],
          "heatmap": [
           {
            "colorbar": {
             "outlinewidth": 0,
             "ticks": ""
            },
            "colorscale": [
             [
              0,
              "#0d0887"
             ],
             [
              0.1111111111111111,
              "#46039f"
             ],
             [
              0.2222222222222222,
              "#7201a8"
             ],
             [
              0.3333333333333333,
              "#9c179e"
             ],
             [
              0.4444444444444444,
              "#bd3786"
             ],
             [
              0.5555555555555556,
              "#d8576b"
             ],
             [
              0.6666666666666666,
              "#ed7953"
             ],
             [
              0.7777777777777778,
              "#fb9f3a"
             ],
             [
              0.8888888888888888,
              "#fdca26"
             ],
             [
              1,
              "#f0f921"
             ]
            ],
            "type": "heatmap"
           }
          ],
          "heatmapgl": [
           {
            "colorbar": {
             "outlinewidth": 0,
             "ticks": ""
            },
            "colorscale": [
             [
              0,
              "#0d0887"
             ],
             [
              0.1111111111111111,
              "#46039f"
             ],
             [
              0.2222222222222222,
              "#7201a8"
             ],
             [
              0.3333333333333333,
              "#9c179e"
             ],
             [
              0.4444444444444444,
              "#bd3786"
             ],
             [
              0.5555555555555556,
              "#d8576b"
             ],
             [
              0.6666666666666666,
              "#ed7953"
             ],
             [
              0.7777777777777778,
              "#fb9f3a"
             ],
             [
              0.8888888888888888,
              "#fdca26"
             ],
             [
              1,
              "#f0f921"
             ]
            ],
            "type": "heatmapgl"
           }
          ],
          "histogram": [
           {
            "marker": {
             "colorbar": {
              "outlinewidth": 0,
              "ticks": ""
             }
            },
            "type": "histogram"
           }
          ],
          "histogram2d": [
           {
            "colorbar": {
             "outlinewidth": 0,
             "ticks": ""
            },
            "colorscale": [
             [
              0,
              "#0d0887"
             ],
             [
              0.1111111111111111,
              "#46039f"
             ],
             [
              0.2222222222222222,
              "#7201a8"
             ],
             [
              0.3333333333333333,
              "#9c179e"
             ],
             [
              0.4444444444444444,
              "#bd3786"
             ],
             [
              0.5555555555555556,
              "#d8576b"
             ],
             [
              0.6666666666666666,
              "#ed7953"
             ],
             [
              0.7777777777777778,
              "#fb9f3a"
             ],
             [
              0.8888888888888888,
              "#fdca26"
             ],
             [
              1,
              "#f0f921"
             ]
            ],
            "type": "histogram2d"
           }
          ],
          "histogram2dcontour": [
           {
            "colorbar": {
             "outlinewidth": 0,
             "ticks": ""
            },
            "colorscale": [
             [
              0,
              "#0d0887"
             ],
             [
              0.1111111111111111,
              "#46039f"
             ],
             [
              0.2222222222222222,
              "#7201a8"
             ],
             [
              0.3333333333333333,
              "#9c179e"
             ],
             [
              0.4444444444444444,
              "#bd3786"
             ],
             [
              0.5555555555555556,
              "#d8576b"
             ],
             [
              0.6666666666666666,
              "#ed7953"
             ],
             [
              0.7777777777777778,
              "#fb9f3a"
             ],
             [
              0.8888888888888888,
              "#fdca26"
             ],
             [
              1,
              "#f0f921"
             ]
            ],
            "type": "histogram2dcontour"
           }
          ],
          "mesh3d": [
           {
            "colorbar": {
             "outlinewidth": 0,
             "ticks": ""
            },
            "type": "mesh3d"
           }
          ],
          "parcoords": [
           {
            "line": {
             "colorbar": {
              "outlinewidth": 0,
              "ticks": ""
             }
            },
            "type": "parcoords"
           }
          ],
          "pie": [
           {
            "automargin": true,
            "type": "pie"
           }
          ],
          "scatter": [
           {
            "marker": {
             "colorbar": {
              "outlinewidth": 0,
              "ticks": ""
             }
            },
            "type": "scatter"
           }
          ],
          "scatter3d": [
           {
            "line": {
             "colorbar": {
              "outlinewidth": 0,
              "ticks": ""
             }
            },
            "marker": {
             "colorbar": {
              "outlinewidth": 0,
              "ticks": ""
             }
            },
            "type": "scatter3d"
           }
          ],
          "scattercarpet": [
           {
            "marker": {
             "colorbar": {
              "outlinewidth": 0,
              "ticks": ""
             }
            },
            "type": "scattercarpet"
           }
          ],
          "scattergeo": [
           {
            "marker": {
             "colorbar": {
              "outlinewidth": 0,
              "ticks": ""
             }
            },
            "type": "scattergeo"
           }
          ],
          "scattergl": [
           {
            "marker": {
             "colorbar": {
              "outlinewidth": 0,
              "ticks": ""
             }
            },
            "type": "scattergl"
           }
          ],
          "scattermapbox": [
           {
            "marker": {
             "colorbar": {
              "outlinewidth": 0,
              "ticks": ""
             }
            },
            "type": "scattermapbox"
           }
          ],
          "scatterpolar": [
           {
            "marker": {
             "colorbar": {
              "outlinewidth": 0,
              "ticks": ""
             }
            },
            "type": "scatterpolar"
           }
          ],
          "scatterpolargl": [
           {
            "marker": {
             "colorbar": {
              "outlinewidth": 0,
              "ticks": ""
             }
            },
            "type": "scatterpolargl"
           }
          ],
          "scatterternary": [
           {
            "marker": {
             "colorbar": {
              "outlinewidth": 0,
              "ticks": ""
             }
            },
            "type": "scatterternary"
           }
          ],
          "surface": [
           {
            "colorbar": {
             "outlinewidth": 0,
             "ticks": ""
            },
            "colorscale": [
             [
              0,
              "#0d0887"
             ],
             [
              0.1111111111111111,
              "#46039f"
             ],
             [
              0.2222222222222222,
              "#7201a8"
             ],
             [
              0.3333333333333333,
              "#9c179e"
             ],
             [
              0.4444444444444444,
              "#bd3786"
             ],
             [
              0.5555555555555556,
              "#d8576b"
             ],
             [
              0.6666666666666666,
              "#ed7953"
             ],
             [
              0.7777777777777778,
              "#fb9f3a"
             ],
             [
              0.8888888888888888,
              "#fdca26"
             ],
             [
              1,
              "#f0f921"
             ]
            ],
            "type": "surface"
           }
          ],
          "table": [
           {
            "cells": {
             "fill": {
              "color": "#EBF0F8"
             },
             "line": {
              "color": "white"
             }
            },
            "header": {
             "fill": {
              "color": "#C8D4E3"
             },
             "line": {
              "color": "white"
             }
            },
            "type": "table"
           }
          ]
         },
         "layout": {
          "annotationdefaults": {
           "arrowcolor": "#2a3f5f",
           "arrowhead": 0,
           "arrowwidth": 1
          },
          "coloraxis": {
           "colorbar": {
            "outlinewidth": 0,
            "ticks": ""
           }
          },
          "colorscale": {
           "diverging": [
            [
             0,
             "#8e0152"
            ],
            [
             0.1,
             "#c51b7d"
            ],
            [
             0.2,
             "#de77ae"
            ],
            [
             0.3,
             "#f1b6da"
            ],
            [
             0.4,
             "#fde0ef"
            ],
            [
             0.5,
             "#f7f7f7"
            ],
            [
             0.6,
             "#e6f5d0"
            ],
            [
             0.7,
             "#b8e186"
            ],
            [
             0.8,
             "#7fbc41"
            ],
            [
             0.9,
             "#4d9221"
            ],
            [
             1,
             "#276419"
            ]
           ],
           "sequential": [
            [
             0,
             "#0d0887"
            ],
            [
             0.1111111111111111,
             "#46039f"
            ],
            [
             0.2222222222222222,
             "#7201a8"
            ],
            [
             0.3333333333333333,
             "#9c179e"
            ],
            [
             0.4444444444444444,
             "#bd3786"
            ],
            [
             0.5555555555555556,
             "#d8576b"
            ],
            [
             0.6666666666666666,
             "#ed7953"
            ],
            [
             0.7777777777777778,
             "#fb9f3a"
            ],
            [
             0.8888888888888888,
             "#fdca26"
            ],
            [
             1,
             "#f0f921"
            ]
           ],
           "sequentialminus": [
            [
             0,
             "#0d0887"
            ],
            [
             0.1111111111111111,
             "#46039f"
            ],
            [
             0.2222222222222222,
             "#7201a8"
            ],
            [
             0.3333333333333333,
             "#9c179e"
            ],
            [
             0.4444444444444444,
             "#bd3786"
            ],
            [
             0.5555555555555556,
             "#d8576b"
            ],
            [
             0.6666666666666666,
             "#ed7953"
            ],
            [
             0.7777777777777778,
             "#fb9f3a"
            ],
            [
             0.8888888888888888,
             "#fdca26"
            ],
            [
             1,
             "#f0f921"
            ]
           ]
          },
          "colorway": [
           "#636efa",
           "#EF553B",
           "#00cc96",
           "#ab63fa",
           "#FFA15A",
           "#19d3f3",
           "#FF6692",
           "#B6E880",
           "#FF97FF",
           "#FECB52"
          ],
          "font": {
           "color": "#2a3f5f"
          },
          "geo": {
           "bgcolor": "white",
           "lakecolor": "white",
           "landcolor": "white",
           "showlakes": true,
           "showland": true,
           "subunitcolor": "#C8D4E3"
          },
          "hoverlabel": {
           "align": "left"
          },
          "hovermode": "closest",
          "mapbox": {
           "style": "light"
          },
          "paper_bgcolor": "white",
          "plot_bgcolor": "white",
          "polar": {
           "angularaxis": {
            "gridcolor": "#EBF0F8",
            "linecolor": "#EBF0F8",
            "ticks": ""
           },
           "bgcolor": "white",
           "radialaxis": {
            "gridcolor": "#EBF0F8",
            "linecolor": "#EBF0F8",
            "ticks": ""
           }
          },
          "scene": {
           "xaxis": {
            "backgroundcolor": "white",
            "gridcolor": "#DFE8F3",
            "gridwidth": 2,
            "linecolor": "#EBF0F8",
            "showbackground": true,
            "ticks": "",
            "zerolinecolor": "#EBF0F8"
           },
           "yaxis": {
            "backgroundcolor": "white",
            "gridcolor": "#DFE8F3",
            "gridwidth": 2,
            "linecolor": "#EBF0F8",
            "showbackground": true,
            "ticks": "",
            "zerolinecolor": "#EBF0F8"
           },
           "zaxis": {
            "backgroundcolor": "white",
            "gridcolor": "#DFE8F3",
            "gridwidth": 2,
            "linecolor": "#EBF0F8",
            "showbackground": true,
            "ticks": "",
            "zerolinecolor": "#EBF0F8"
           }
          },
          "shapedefaults": {
           "line": {
            "color": "#2a3f5f"
           }
          },
          "ternary": {
           "aaxis": {
            "gridcolor": "#DFE8F3",
            "linecolor": "#A2B1C6",
            "ticks": ""
           },
           "baxis": {
            "gridcolor": "#DFE8F3",
            "linecolor": "#A2B1C6",
            "ticks": ""
           },
           "bgcolor": "white",
           "caxis": {
            "gridcolor": "#DFE8F3",
            "linecolor": "#A2B1C6",
            "ticks": ""
           }
          },
          "title": {
           "x": 0.05
          },
          "xaxis": {
           "automargin": true,
           "gridcolor": "#EBF0F8",
           "linecolor": "#EBF0F8",
           "ticks": "",
           "title": {
            "standoff": 15
           },
           "zerolinecolor": "#EBF0F8",
           "zerolinewidth": 2
          },
          "yaxis": {
           "automargin": true,
           "gridcolor": "#EBF0F8",
           "linecolor": "#EBF0F8",
           "ticks": "",
           "title": {
            "standoff": 15
           },
           "zerolinecolor": "#EBF0F8",
           "zerolinewidth": 2
          }
         }
        },
        "title": {
         "text": "Veh1 Heading and Rotation"
        },
        "width": 900,
        "xaxis": {
         "anchor": "y",
         "domain": [
          0,
          1
         ],
         "linecolor": "black",
         "linewidth": 1,
         "matches": "x2",
         "showgrid": false,
         "showline": true,
         "showticklabels": false,
         "tickcolor": "black",
         "ticklen": 10,
         "ticks": "outside",
         "tickwidth": 1,
         "title": {
          "text": ""
         },
         "zeroline": false
        },
        "xaxis2": {
         "anchor": "y2",
         "domain": [
          0,
          1
         ],
         "linecolor": "black",
         "linewidth": 1,
         "showgrid": false,
         "showline": true,
         "tickcolor": "black",
         "ticklen": 10,
         "ticks": "outside",
         "tickwidth": 1,
         "title": {
          "text": "Time (s)"
         },
         "zeroline": false
        },
        "yaxis": {
         "anchor": "x",
         "domain": [
          0.5349999999999999,
          0.9999999999999999
         ],
         "linecolor": "black",
         "linewidth": 1,
         "showgrid": false,
         "showline": true,
         "tickcolor": "black",
         "ticklen": 10,
         "ticks": "outside",
         "tickwidth": 1,
         "title": {
          "text": "Heading (deg)"
         },
         "zeroline": false
        },
        "yaxis2": {
         "anchor": "x2",
         "domain": [
          0,
          0.46499999999999997
         ],
         "linecolor": "black",
         "linewidth": 1,
         "showgrid": false,
         "showline": true,
         "tickcolor": "black",
         "ticklen": 10,
         "ticks": "outside",
         "tickwidth": 1,
         "title": {
          "text": "Omega (deg/s), Alpha (deg/s/s)"
         },
         "zeroline": false
        }
       }
      },
      "text/html": [
       "<div>\n",
       "        \n",
       "        \n",
       "            <div id=\"56f01af1-7cb9-41af-bdc4-1be2e7959e05\" class=\"plotly-graph-div\" style=\"height:500px; width:900px;\"></div>\n",
       "            <script type=\"text/javascript\">\n",
       "                require([\"plotly\"], function(Plotly) {\n",
       "                    window.PLOTLYENV=window.PLOTLYENV || {};\n",
       "                    \n",
       "                if (document.getElementById(\"56f01af1-7cb9-41af-bdc4-1be2e7959e05\")) {\n",
       "                    Plotly.newPlot(\n",
       "                        '56f01af1-7cb9-41af-bdc4-1be2e7959e05',\n",
       "                        [{\"line\": {\"color\": \"rgb(0, 0, 0)\", \"width\": 2}, \"mode\": \"lines\", \"name\": \"heading\", \"type\": \"scatter\", \"x\": [0.0, 0.1, 0.2, 0.3, 0.4, 0.5, 0.6, 0.7, 0.8, 0.9, 1.0, 1.1, 1.2, 1.3, 1.4, 1.5, 1.6, 1.7, 1.8, 1.9, 2.0, 2.1, 2.2, 2.3, 2.4, 2.5, 2.6, 2.7, 2.8, 2.9, 3.0, 3.1, 3.2, 3.3, 3.4, 3.5, 3.6, 3.7, 3.8, 3.9, 4.0, 4.1, 4.2, 4.3, 4.4, 4.5, 4.6, 4.7, 4.8, 4.9, 5.0, 5.1, 5.2, 5.3, 5.4, 5.5, 5.6, 5.7, 5.8, 5.9, 6.0, 6.1, 6.2, 6.3, 6.4, 6.5, 6.6, 6.7, 6.8, 6.9, 7.0, 7.1, 7.2, 7.3, 7.4, 7.5, 7.6, 7.7, 7.8, 7.9, 8.0, 8.1, 8.2, 8.3, 8.4, 8.5, 8.6, 8.7, 8.8, 8.9, 9.0, 9.1, 9.2, 9.3, 9.4, 9.5, 9.6, 9.7, 9.8, 9.9, 10.0, 10.1, 10.2, 10.3, 10.4, 10.5, 10.6, 10.7, 10.8, 10.9], \"xaxis\": \"x\", \"y\": [0.0, 0.0, 0.0, 0.0, 0.0, 0.0, 0.0, 0.0, 0.0, 0.0, 0.0, -0.0728916891642895, -0.423807779410443, -1.2650046976310705, -2.694753985729549, -4.720958015261792, -7.319416281114804, -10.46683205457635, -14.147031848343486, -18.345770571191636, -22.629682908479353, -26.29129928078997, -29.072760396834724, -30.96024139125243, -32.018566399978845, -32.40344373819739, -32.257984468544194, -31.81487663950204, -31.369269657392735, -31.15469101288348, -31.192100170462457, -31.246346227139306, -31.202633792704734, -30.975846345771878, -30.262867137831535, -29.033757372370122, -27.37000488254015, -25.208242612123904, -22.543966213146042, -19.396260632294457, -15.773789476600143, -11.678897403195945, -7.1118240882586194, -2.071942167959989, 3.441835291672723, 9.430879414418234, 15.896733343175592, 22.841001152855416, 30.265212134843445, 38.1706402779438, 46.558051773882816, 55.42733634161186, 64.77694586401215, 74.60300328018435, 84.89782888854992, 95.64740559623625, 106.82686438904867, 118.40666619892959, 130.15455250209953, 141.7509455616601, 153.19386618519107, 164.54084949770169, 175.70330905332446, 186.58837504657484, 197.1511951652424, 207.4201213804453, 217.4393160639749, 227.0144445489854, 236.11806537323454, 245.0993054808371, 253.9679826779653, 262.66973374623524, 271.3223572800461, 279.8947406651295, 288.39056550815803, 296.8825729105607, 305.3600238253122, 313.85535492609114, 322.44736345535927, 331.12947778586977, 339.8513607829283, 348.5858207048337, 357.373450820658, 366.30126078106036, 375.46006922441427, 384.92316808888404, 394.74423517389386, 404.9611044210812, 415.59926324953454, 426.6737008143313, 438.1888931791615, 450.13656472287164, 462.52871562182656, 475.4012918533755, 488.5437277601047, 501.6049707767064, 514.5352108494857, 527.3686920956405, 540.1362517576861, 552.7324967030592, 564.838772710797, 576.501633956637, 587.8471898803282, 598.760019275892, 609.3346767321789, 619.8104965383602, 630.2998795519454, 640.7512492678103, 651.109650886665, 661.4066178667889], \"yaxis\": \"y\"}, {\"line\": {\"color\": \"rgb(0, 255, 0)\", \"width\": 2}, \"mode\": \"lines\", \"name\": \"omega\", \"type\": \"scatter\", \"x\": [0.0, 0.1, 0.2, 0.3, 0.4, 0.5, 0.6, 0.7, 0.8, 0.9, 1.0, 1.1, 1.2, 1.3, 1.4, 1.5, 1.6, 1.7, 1.8, 1.9, 2.0, 2.1, 2.2, 2.3, 2.4, 2.5, 2.6, 2.7, 2.8, 2.9, 3.0, 3.1, 3.2, 3.3, 3.4, 3.5, 3.6, 3.7, 3.8, 3.9, 4.0, 4.1, 4.2, 4.3, 4.4, 4.5, 4.6, 4.7, 4.8, 4.9, 5.0, 5.1, 5.2, 5.3, 5.4, 5.5, 5.6, 5.7, 5.8, 5.9, 6.0, 6.1, 6.2, 6.3, 6.4, 6.5, 6.6, 6.7, 6.8, 6.9, 7.0, 7.1, 7.2, 7.3, 7.4, 7.5, 7.6, 7.7, 7.8, 7.9, 8.0, 8.1, 8.2, 8.3, 8.4, 8.5, 8.6, 8.7, 8.8, 8.9, 9.0, 9.1, 9.2, 9.3, 9.4, 9.5, 9.6, 9.7, 9.8, 9.9, 10.0, 10.1, 10.2, 10.3, 10.4, 10.5, 10.6, 10.7, 10.8, 10.9], \"xaxis\": \"x2\", \"y\": [0.0, 0.0, 0.0, 0.0, 0.0, 0.0, 0.0, 0.0, 0.0, 0.0, 0.0, -1.45783378328579, -5.56048802163728, -11.263450342775274, -17.331535419194292, -23.192545171450554, -28.77662014560969, -34.17169532362124, -39.43230055172147, -44.54247390524149, -41.13577284051287, -32.096554605699524, -23.532667715195547, -14.216952173158532, -6.949548001369702, -0.7479987630011666, 3.6571841560648957, 5.204972424778295, 3.707167217407745, 0.5844056727773291, -1.3325888243567945, 0.24766769081971488, 0.6265809978717356, 3.90916794078537, 10.350416218021477, 14.2317790912068, 19.04327070539264, 24.191974702932256, 29.09355327662501, 33.86055834040671, 38.58886477347952, 43.30897669460445, 48.03248960414204, 52.765148801830556, 57.51040039082367, 62.27048206408652, 67.04659651106064, 71.83875968253578, 76.64545995722474, 81.46310290478235, 86.28512701399791, 91.10056434058308, 95.89162610742284, 100.62952221602107, 105.26698995129021, 109.72454420243626, 113.86463165381228, 117.73140454380584, 117.22632151959323, 114.70153967161775, 114.15687279900146, 112.78279345121109, 110.46639766124495, 107.23492220376232, 104.02148016958863, 101.35704413446895, 99.02684953612307, 92.47572016408682, 89.59669632089692, 90.02810583115411, 87.34543811140969, 86.68958325398852, 86.36288742222919, 85.0847802794386, 84.83171658113133, 85.0084314669232, 84.54058682810621, 85.36603518747224, 86.47413539788973, 87.16815121232018, 87.26950872885098, 87.41968970925684, 88.33291260722787, 90.22328660081874, 92.95288226625962, 96.30909502313705, 100.11224667705915, 104.2251382666866, 108.53803830238189, 112.95071299355385, 117.35313430304907, 121.60029657115298, 126.24272140794498, 131.2088032230343, 131.6399149115494, 129.584945420486, 129.01985603509942, 127.64976888799957, 127.70142435290911, 124.22347455455291, 117.90204560020554, 115.3551793165937, 111.55593915722952, 106.70064875404587, 104.79250037169423, 104.72389575193093, 105.06376451977391, 103.96362979752142, 103.20440257957401, 102.73493702290264], \"yaxis\": \"y2\"}, {\"line\": {\"color\": \"rgb(204, 0, 0)\", \"width\": 2}, \"mode\": \"lines\", \"name\": \"alpha\", \"type\": \"scatter\", \"x\": [0.0, 0.1, 0.2, 0.3, 0.4, 0.5, 0.6, 0.7, 0.8, 0.9, 1.0, 1.1, 1.2, 1.3, 1.4, 1.5, 1.6, 1.7, 1.8, 1.9, 2.0, 2.1, 2.2, 2.3, 2.4, 2.5, 2.6, 2.7, 2.8, 2.9, 3.0, 3.1, 3.2, 3.3, 3.4, 3.5, 3.6, 3.7, 3.8, 3.9, 4.0, 4.1, 4.2, 4.3, 4.4, 4.5, 4.6, 4.7, 4.8, 4.9, 5.0, 5.1, 5.2, 5.3, 5.4, 5.5, 5.6, 5.7, 5.8, 5.9, 6.0, 6.1, 6.2, 6.3, 6.4, 6.5, 6.6, 6.7, 6.8, 6.9, 7.0, 7.1, 7.2, 7.3, 7.4, 7.5, 7.6, 7.7, 7.8, 7.9, 8.0, 8.1, 8.2, 8.3, 8.4, 8.5, 8.6, 8.7, 8.8, 8.9, 9.0, 9.1, 9.2, 9.3, 9.4, 9.5, 9.6, 9.7, 9.8, 9.9, 10.0, 10.1, 10.2, 10.3, 10.4, 10.5, 10.6, 10.7, 10.8, 10.9], \"xaxis\": \"x2\", \"y\": [0.0, 0.0, 0.0, 0.0, 0.0, 0.0, 0.0, 0.0, 0.0, 0.0, 0.0, -29.156675665715795, -52.89640910131403, -61.162837321445814, -60.19886420693463, -57.021330838190615, -54.66016864499207, -53.24133491523908, -51.97076964676543, -50.232697423635074, 118.36671871820742, 62.417645978059554, 108.86009183201999, 77.45421900872029, 67.89386442705633, 56.13712034031436, 31.96653804100688, -1.0107726667389145, -28.94533148067209, -33.509899411936225, -4.829990530746247, 36.43512083427644, -28.856854693236023, 94.50859355150872, 34.31637199321336, 43.310885470493076, 52.918946813223755, 50.0551331375686, 47.97643833628644, 47.36366293934755, 47.202465722108634, 47.19977270038992, 47.27048549036191, 47.38269846340818, 47.5223333164543, 47.679300148802845, 47.84298879067951, 48.000274638823136, 48.13373085495612, 48.21912809619616, 48.22135408811504, 48.087392443588065, 47.73384289320718, 47.024079278757554, 45.725275426625494, 43.42580959629521, 39.37593943122512, 37.95951836864564, -48.06117885289812, -2.4344581066110726, -8.458879345714653, -19.022707610092716, -27.305208189229706, -37.32430096042328, -26.94453972305036, -26.344180979343413, -20.259710987574167, -110.76287645315064, 53.18239958935272, -44.554209384209074, -9.099145010679464, -4.0179521377436425, -2.5159644974428255, -23.04617835836886, 17.984904392223335, -14.450606676386045, 5.093713900046647, 11.415253287273647, 10.746750921076103, 3.133565367533292, -1.1064150369173291, 4.110034645034561, 14.154423314385964, 23.653056557431178, 30.938856751386542, 36.185398386162134, 39.87763469228, 42.380197100269186, 43.87780361363671, 44.37569020980251, 43.672735980102004, 41.27050938197621, 51.57798735386348, 47.74364894792302, -39.12141517762066, -1.9779746436478236, -9.323813064083078, -18.07792987791427, 19.111039176105216, -88.67003514322913, -37.75854394371833, -13.178781728518416, -62.80602145876541, -34.29978660490762, -3.863181042124935, 2.4910886468588562, 4.306286710000552, -26.30898115505043, 11.124436796102254, -20.513747929529103], \"yaxis\": \"y2\"}],\n",
       "                        {\"autosize\": false, \"font\": {\"color\": \"black\", \"family\": \"Arial\", \"size\": 14}, \"height\": 500, \"legend\": {\"orientation\": \"h\", \"x\": 0.01, \"xanchor\": \"left\", \"y\": 1.1, \"yanchor\": \"top\"}, \"template\": {\"data\": {\"bar\": [{\"error_x\": {\"color\": \"#2a3f5f\"}, \"error_y\": {\"color\": \"#2a3f5f\"}, \"marker\": {\"line\": {\"color\": \"white\", \"width\": 0.5}}, \"type\": \"bar\"}], \"barpolar\": [{\"marker\": {\"line\": {\"color\": \"white\", \"width\": 0.5}}, \"type\": \"barpolar\"}], \"carpet\": [{\"aaxis\": {\"endlinecolor\": \"#2a3f5f\", \"gridcolor\": \"#C8D4E3\", \"linecolor\": \"#C8D4E3\", \"minorgridcolor\": \"#C8D4E3\", \"startlinecolor\": \"#2a3f5f\"}, \"baxis\": {\"endlinecolor\": \"#2a3f5f\", \"gridcolor\": \"#C8D4E3\", \"linecolor\": \"#C8D4E3\", \"minorgridcolor\": \"#C8D4E3\", \"startlinecolor\": \"#2a3f5f\"}, \"type\": \"carpet\"}], \"choropleth\": [{\"colorbar\": {\"outlinewidth\": 0, \"ticks\": \"\"}, \"type\": \"choropleth\"}], \"contour\": [{\"colorbar\": {\"outlinewidth\": 0, \"ticks\": \"\"}, \"colorscale\": [[0.0, \"#0d0887\"], [0.1111111111111111, \"#46039f\"], [0.2222222222222222, \"#7201a8\"], [0.3333333333333333, \"#9c179e\"], [0.4444444444444444, \"#bd3786\"], [0.5555555555555556, \"#d8576b\"], [0.6666666666666666, \"#ed7953\"], [0.7777777777777778, \"#fb9f3a\"], [0.8888888888888888, \"#fdca26\"], [1.0, \"#f0f921\"]], \"type\": \"contour\"}], \"contourcarpet\": [{\"colorbar\": {\"outlinewidth\": 0, \"ticks\": \"\"}, \"type\": \"contourcarpet\"}], \"heatmap\": [{\"colorbar\": {\"outlinewidth\": 0, \"ticks\": \"\"}, \"colorscale\": [[0.0, \"#0d0887\"], [0.1111111111111111, \"#46039f\"], [0.2222222222222222, \"#7201a8\"], [0.3333333333333333, \"#9c179e\"], [0.4444444444444444, \"#bd3786\"], [0.5555555555555556, \"#d8576b\"], [0.6666666666666666, \"#ed7953\"], [0.7777777777777778, \"#fb9f3a\"], [0.8888888888888888, \"#fdca26\"], [1.0, \"#f0f921\"]], \"type\": \"heatmap\"}], \"heatmapgl\": [{\"colorbar\": {\"outlinewidth\": 0, \"ticks\": \"\"}, \"colorscale\": [[0.0, \"#0d0887\"], [0.1111111111111111, \"#46039f\"], [0.2222222222222222, \"#7201a8\"], [0.3333333333333333, \"#9c179e\"], [0.4444444444444444, \"#bd3786\"], [0.5555555555555556, \"#d8576b\"], [0.6666666666666666, \"#ed7953\"], [0.7777777777777778, \"#fb9f3a\"], [0.8888888888888888, \"#fdca26\"], [1.0, \"#f0f921\"]], \"type\": \"heatmapgl\"}], \"histogram\": [{\"marker\": {\"colorbar\": {\"outlinewidth\": 0, \"ticks\": \"\"}}, \"type\": \"histogram\"}], \"histogram2d\": [{\"colorbar\": {\"outlinewidth\": 0, \"ticks\": \"\"}, \"colorscale\": [[0.0, \"#0d0887\"], [0.1111111111111111, \"#46039f\"], [0.2222222222222222, \"#7201a8\"], [0.3333333333333333, \"#9c179e\"], [0.4444444444444444, \"#bd3786\"], [0.5555555555555556, \"#d8576b\"], [0.6666666666666666, \"#ed7953\"], [0.7777777777777778, \"#fb9f3a\"], [0.8888888888888888, \"#fdca26\"], [1.0, \"#f0f921\"]], \"type\": \"histogram2d\"}], \"histogram2dcontour\": [{\"colorbar\": {\"outlinewidth\": 0, \"ticks\": \"\"}, \"colorscale\": [[0.0, \"#0d0887\"], [0.1111111111111111, \"#46039f\"], [0.2222222222222222, \"#7201a8\"], [0.3333333333333333, \"#9c179e\"], [0.4444444444444444, \"#bd3786\"], [0.5555555555555556, \"#d8576b\"], [0.6666666666666666, \"#ed7953\"], [0.7777777777777778, \"#fb9f3a\"], [0.8888888888888888, \"#fdca26\"], [1.0, \"#f0f921\"]], \"type\": \"histogram2dcontour\"}], \"mesh3d\": [{\"colorbar\": {\"outlinewidth\": 0, \"ticks\": \"\"}, \"type\": \"mesh3d\"}], \"parcoords\": [{\"line\": {\"colorbar\": {\"outlinewidth\": 0, \"ticks\": \"\"}}, \"type\": \"parcoords\"}], \"pie\": [{\"automargin\": true, \"type\": \"pie\"}], \"scatter\": [{\"marker\": {\"colorbar\": {\"outlinewidth\": 0, \"ticks\": \"\"}}, \"type\": \"scatter\"}], \"scatter3d\": [{\"line\": {\"colorbar\": {\"outlinewidth\": 0, \"ticks\": \"\"}}, \"marker\": {\"colorbar\": {\"outlinewidth\": 0, \"ticks\": \"\"}}, \"type\": \"scatter3d\"}], \"scattercarpet\": [{\"marker\": {\"colorbar\": {\"outlinewidth\": 0, \"ticks\": \"\"}}, \"type\": \"scattercarpet\"}], \"scattergeo\": [{\"marker\": {\"colorbar\": {\"outlinewidth\": 0, \"ticks\": \"\"}}, \"type\": \"scattergeo\"}], \"scattergl\": [{\"marker\": {\"colorbar\": {\"outlinewidth\": 0, \"ticks\": \"\"}}, \"type\": \"scattergl\"}], \"scattermapbox\": [{\"marker\": {\"colorbar\": {\"outlinewidth\": 0, \"ticks\": \"\"}}, \"type\": \"scattermapbox\"}], \"scatterpolar\": [{\"marker\": {\"colorbar\": {\"outlinewidth\": 0, \"ticks\": \"\"}}, \"type\": \"scatterpolar\"}], \"scatterpolargl\": [{\"marker\": {\"colorbar\": {\"outlinewidth\": 0, \"ticks\": \"\"}}, \"type\": \"scatterpolargl\"}], \"scatterternary\": [{\"marker\": {\"colorbar\": {\"outlinewidth\": 0, \"ticks\": \"\"}}, \"type\": \"scatterternary\"}], \"surface\": [{\"colorbar\": {\"outlinewidth\": 0, \"ticks\": \"\"}, \"colorscale\": [[0.0, \"#0d0887\"], [0.1111111111111111, \"#46039f\"], [0.2222222222222222, \"#7201a8\"], [0.3333333333333333, \"#9c179e\"], [0.4444444444444444, \"#bd3786\"], [0.5555555555555556, \"#d8576b\"], [0.6666666666666666, \"#ed7953\"], [0.7777777777777778, \"#fb9f3a\"], [0.8888888888888888, \"#fdca26\"], [1.0, \"#f0f921\"]], \"type\": \"surface\"}], \"table\": [{\"cells\": {\"fill\": {\"color\": \"#EBF0F8\"}, \"line\": {\"color\": \"white\"}}, \"header\": {\"fill\": {\"color\": \"#C8D4E3\"}, \"line\": {\"color\": \"white\"}}, \"type\": \"table\"}]}, \"layout\": {\"annotationdefaults\": {\"arrowcolor\": \"#2a3f5f\", \"arrowhead\": 0, \"arrowwidth\": 1}, \"coloraxis\": {\"colorbar\": {\"outlinewidth\": 0, \"ticks\": \"\"}}, \"colorscale\": {\"diverging\": [[0, \"#8e0152\"], [0.1, \"#c51b7d\"], [0.2, \"#de77ae\"], [0.3, \"#f1b6da\"], [0.4, \"#fde0ef\"], [0.5, \"#f7f7f7\"], [0.6, \"#e6f5d0\"], [0.7, \"#b8e186\"], [0.8, \"#7fbc41\"], [0.9, \"#4d9221\"], [1, \"#276419\"]], \"sequential\": [[0.0, \"#0d0887\"], [0.1111111111111111, \"#46039f\"], [0.2222222222222222, \"#7201a8\"], [0.3333333333333333, \"#9c179e\"], [0.4444444444444444, \"#bd3786\"], [0.5555555555555556, \"#d8576b\"], [0.6666666666666666, \"#ed7953\"], [0.7777777777777778, \"#fb9f3a\"], [0.8888888888888888, \"#fdca26\"], [1.0, \"#f0f921\"]], \"sequentialminus\": [[0.0, \"#0d0887\"], [0.1111111111111111, \"#46039f\"], [0.2222222222222222, \"#7201a8\"], [0.3333333333333333, \"#9c179e\"], [0.4444444444444444, \"#bd3786\"], [0.5555555555555556, \"#d8576b\"], [0.6666666666666666, \"#ed7953\"], [0.7777777777777778, \"#fb9f3a\"], [0.8888888888888888, \"#fdca26\"], [1.0, \"#f0f921\"]]}, \"colorway\": [\"#636efa\", \"#EF553B\", \"#00cc96\", \"#ab63fa\", \"#FFA15A\", \"#19d3f3\", \"#FF6692\", \"#B6E880\", \"#FF97FF\", \"#FECB52\"], \"font\": {\"color\": \"#2a3f5f\"}, \"geo\": {\"bgcolor\": \"white\", \"lakecolor\": \"white\", \"landcolor\": \"white\", \"showlakes\": true, \"showland\": true, \"subunitcolor\": \"#C8D4E3\"}, \"hoverlabel\": {\"align\": \"left\"}, \"hovermode\": \"closest\", \"mapbox\": {\"style\": \"light\"}, \"paper_bgcolor\": \"white\", \"plot_bgcolor\": \"white\", \"polar\": {\"angularaxis\": {\"gridcolor\": \"#EBF0F8\", \"linecolor\": \"#EBF0F8\", \"ticks\": \"\"}, \"bgcolor\": \"white\", \"radialaxis\": {\"gridcolor\": \"#EBF0F8\", \"linecolor\": \"#EBF0F8\", \"ticks\": \"\"}}, \"scene\": {\"xaxis\": {\"backgroundcolor\": \"white\", \"gridcolor\": \"#DFE8F3\", \"gridwidth\": 2, \"linecolor\": \"#EBF0F8\", \"showbackground\": true, \"ticks\": \"\", \"zerolinecolor\": \"#EBF0F8\"}, \"yaxis\": {\"backgroundcolor\": \"white\", \"gridcolor\": \"#DFE8F3\", \"gridwidth\": 2, \"linecolor\": \"#EBF0F8\", \"showbackground\": true, \"ticks\": \"\", \"zerolinecolor\": \"#EBF0F8\"}, \"zaxis\": {\"backgroundcolor\": \"white\", \"gridcolor\": \"#DFE8F3\", \"gridwidth\": 2, \"linecolor\": \"#EBF0F8\", \"showbackground\": true, \"ticks\": \"\", \"zerolinecolor\": \"#EBF0F8\"}}, \"shapedefaults\": {\"line\": {\"color\": \"#2a3f5f\"}}, \"ternary\": {\"aaxis\": {\"gridcolor\": \"#DFE8F3\", \"linecolor\": \"#A2B1C6\", \"ticks\": \"\"}, \"baxis\": {\"gridcolor\": \"#DFE8F3\", \"linecolor\": \"#A2B1C6\", \"ticks\": \"\"}, \"bgcolor\": \"white\", \"caxis\": {\"gridcolor\": \"#DFE8F3\", \"linecolor\": \"#A2B1C6\", \"ticks\": \"\"}}, \"title\": {\"x\": 0.05}, \"xaxis\": {\"automargin\": true, \"gridcolor\": \"#EBF0F8\", \"linecolor\": \"#EBF0F8\", \"ticks\": \"\", \"title\": {\"standoff\": 15}, \"zerolinecolor\": \"#EBF0F8\", \"zerolinewidth\": 2}, \"yaxis\": {\"automargin\": true, \"gridcolor\": \"#EBF0F8\", \"linecolor\": \"#EBF0F8\", \"ticks\": \"\", \"title\": {\"standoff\": 15}, \"zerolinecolor\": \"#EBF0F8\", \"zerolinewidth\": 2}}}, \"title\": {\"text\": \"Veh1 Heading and Rotation\"}, \"width\": 900, \"xaxis\": {\"anchor\": \"y\", \"domain\": [0.0, 1.0], \"linecolor\": \"black\", \"linewidth\": 1, \"matches\": \"x2\", \"showgrid\": false, \"showline\": true, \"showticklabels\": false, \"tickcolor\": \"black\", \"ticklen\": 10, \"ticks\": \"outside\", \"tickwidth\": 1, \"title\": {\"text\": \"\"}, \"zeroline\": false}, \"xaxis2\": {\"anchor\": \"y2\", \"domain\": [0.0, 1.0], \"linecolor\": \"black\", \"linewidth\": 1, \"showgrid\": false, \"showline\": true, \"tickcolor\": \"black\", \"ticklen\": 10, \"ticks\": \"outside\", \"tickwidth\": 1, \"title\": {\"text\": \"Time (s)\"}, \"zeroline\": false}, \"yaxis\": {\"anchor\": \"x\", \"domain\": [0.5349999999999999, 0.9999999999999999], \"linecolor\": \"black\", \"linewidth\": 1, \"showgrid\": false, \"showline\": true, \"tickcolor\": \"black\", \"ticklen\": 10, \"ticks\": \"outside\", \"tickwidth\": 1, \"title\": {\"text\": \"Heading (deg)\"}, \"zeroline\": false}, \"yaxis2\": {\"anchor\": \"x2\", \"domain\": [0.0, 0.46499999999999997], \"linecolor\": \"black\", \"linewidth\": 1, \"showgrid\": false, \"showline\": true, \"tickcolor\": \"black\", \"ticklen\": 10, \"ticks\": \"outside\", \"tickwidth\": 1, \"title\": {\"text\": \"Omega (deg/s), Alpha (deg/s/s)\"}, \"zeroline\": false}},\n",
       "                        {\"responsive\": true}\n",
       "                    ).then(function(){\n",
       "                            \n",
       "var gd = document.getElementById('56f01af1-7cb9-41af-bdc4-1be2e7959e05');\n",
       "var x = new MutationObserver(function (mutations, observer) {{\n",
       "        var display = window.getComputedStyle(gd).display;\n",
       "        if (!display || display === 'none') {{\n",
       "            console.log([gd, 'removed!']);\n",
       "            Plotly.purge(gd);\n",
       "            observer.disconnect();\n",
       "        }}\n",
       "}});\n",
       "\n",
       "// Listen for the removal of the full notebook cells\n",
       "var notebookContainer = gd.closest('#notebook-container');\n",
       "if (notebookContainer) {{\n",
       "    x.observe(notebookContainer, {childList: true});\n",
       "}}\n",
       "\n",
       "// Listen for the clearing of the current output cell\n",
       "var outputEl = gd.closest('.output');\n",
       "if (outputEl) {{\n",
       "    x.observe(outputEl, {childList: true});\n",
       "}}\n",
       "\n",
       "                        })\n",
       "                };\n",
       "                });\n",
       "            </script>\n",
       "        </div>"
      ]
     },
     "metadata": {},
     "output_type": "display_data"
    }
   ],
   "source": [
    "run.plot_model()"
   ]
  },
  {
   "cell_type": "markdown",
   "metadata": {},
   "source": [
    "### Plot Vehicle Motion"
   ]
  },
  {
   "cell_type": "code",
   "execution_count": 33,
   "metadata": {},
   "outputs": [
    {
     "data": {
      "text/plain": [
       "110"
      ]
     },
     "execution_count": 33,
     "metadata": {},
     "output_type": "execute_result"
    }
   ],
   "source": [
    "len(run.veh.model.t)"
   ]
  },
  {
   "cell_type": "code",
   "execution_count": 34,
   "metadata": {},
   "outputs": [
    {
     "data": {
      "text/plain": [
       "1.09"
      ]
     },
     "execution_count": 34,
     "metadata": {},
     "output_type": "execute_result"
    }
   ],
   "source": [
    "run.veh.model.t.iloc[-1]"
   ]
  },
  {
   "cell_type": "code",
   "execution_count": 39,
   "metadata": {},
   "outputs": [
    {
     "data": {
      "application/vnd.plotly.v1+json": {
       "config": {
        "plotlyServerURL": "https://plot.ly"
       },
       "data": [
        {
         "line": {
          "color": "rgb(0, 0, 0)",
          "width": 2
         },
         "mode": "lines",
         "name": "body",
         "type": "scatter",
         "x": [
          5.7473085404746325,
          10.726003783627862,
          2.605400742781943,
          -2.373294500371286,
          5.7473085404746325
         ],
         "y": [
          71.7304484917507,
          74.77024642147913,
          88.07047514247418,
          85.03067721274576,
          71.7304484917507
         ]
        },
        {
         "line": {
          "color": "rgb(0, 0, 255)",
          "width": 1
         },
         "mode": "lines",
         "name": "LF",
         "type": "scatter",
         "x": [
          4.2157325019429175,
          4.915793466977503,
          4.583088391969812,
          3.8830274269352256,
          4.2157325019429175
         ],
         "y": [
          73.48484110464959,
          73.5927797740223,
          75.75061474859952,
          75.64267607922679,
          73.48484110464959
         ]
        },
        {
         "line": {
          "color": "rgb(0, 255, 0)",
          "width": 1
         },
         "mode": "lines",
         "name": "RF",
         "type": "scatter",
         "x": [
          8.589871894141826,
          9.289932859176412,
          8.957227784168722,
          8.257166819134135,
          8.589871894141826
         ],
         "y": [
          76.15552071433954,
          76.26345938371227,
          78.42129435828947,
          78.31335568891676,
          76.15552071433954
         ]
        },
        {
         "line": {
          "color": "rgb(153, 0, 204)",
          "width": 1
         },
         "mode": "lines",
         "name": "RR",
         "type": "scatter",
         "x": [
          4.437025804081397,
          5.041581655035719,
          3.9038287156230815,
          3.299272864668761,
          4.437025804081397
         ],
         "y": [
          83.71128820613721,
          84.08040652617566,
          85.94386103147016,
          85.57474271143171,
          83.71128820613721
         ]
        },
        {
         "line": {
          "color": "rgb(255, 102, 0)",
          "width": 1
         },
         "mode": "lines",
         "name": "LR",
         "type": "scatter",
         "x": [
          0.06288641188248922,
          0.66744226283681,
          -0.4703106765758269,
          -1.0748665275301477,
          0.06288641188248922
         ],
         "y": [
          81.04060859644724,
          81.4097269164857,
          83.2731814217802,
          82.90406310174174,
          81.04060859644724
         ]
        },
        {
         "customdata": [
          10.9,
          10.9
         ],
         "hovertemplate": "<b>x</b>:%{x:.1f}<br><b>Y</b>: %{y:.1f}<br><b>time</b>: %{customdata:.3f}",
         "marker": {
          "color": "rgb(0, 0, 0)",
          "size": 10
         },
         "mode": "markers",
         "name": "CG",
         "type": "scatter",
         "x": [
          4.931961555589352,
          4.931961555589352
         ],
         "y": [
          78.66290042810007,
          78.66290042810007
         ]
        },
        {
         "marker": {
          "color": "rgb(0, 0, 255)",
          "size": 5,
          "symbol": [
           "circle",
           "circle",
           "circle",
           "circle",
           "circle",
           "circle",
           "circle",
           "circle",
           "circle",
           "circle",
           "circle",
           "circle",
           "circle",
           "circle",
           "circle",
           "circle",
           "circle",
           "circle",
           "circle",
           "circle",
           "circle",
           "circle",
           "square-x",
           "square-x",
           "square-x",
           "square-x",
           "square-x",
           "square-x",
           "square-x",
           "square-x",
           "square-x",
           "square-x",
           "square-x",
           "square-x",
           "square-x",
           "square-x",
           "square-x",
           "square-x",
           "square-x",
           "square-x",
           "square-x",
           "square-x",
           "square-x",
           "square-x",
           "square-x",
           "square-x",
           "square-x",
           "square-x",
           "square-x",
           "square-x",
           "square-x",
           "square-x",
           "square-x",
           "square-x",
           "square-x",
           "square-x",
           "square-x",
           "square-x",
           "square-x",
           "square-x",
           "square-x",
           "square-x",
           "square-x",
           "square-x",
           "square-x",
           "square-x",
           "square-x",
           "circle",
           "circle",
           "square-x",
           "square-x",
           "square-x",
           "square-x",
           "square-x",
           "square-x",
           "square-x",
           "square-x",
           "square-x",
           "square-x",
           "square-x",
           "square-x",
           "square-x",
           "square-x",
           "square-x",
           "square-x",
           "square-x",
           "square-x",
           "square-x",
           "square-x",
           "square-x",
           "square-x",
           "square-x",
           "square-x",
           "square-x",
           "square-x",
           "square-x",
           "square-x",
           "square-x",
           "square-x",
           "square-x",
           "square-x",
           "square-x",
           "circle",
           "square-x",
           "square-x",
           "square-x",
           "square-x",
           "square-x",
           "square-x"
          ]
         },
         "mode": "markers",
         "name": "LF",
         "type": "scatter",
         "x": [
          3.1750000000000003,
          5.375005,
          7.575010000000001,
          9.775015,
          11.97502,
          14.175025,
          16.37503,
          18.575034999999996,
          20.77504,
          22.975044999999998,
          25.175049999999995,
          27.371498306805723,
          29.553655003301355,
          31.708335239933817,
          33.825402013892635,
          35.89667320761787,
          37.91209874181314,
          39.85679247139691,
          41.71030656556844,
          43.44766592653038,
          45.06488755224394,
          46.58008320700597,
          47.99725177699124,
          49.31256851727214,
          50.516532383443185,
          51.593637796789984,
          52.53269305798818,
          53.32143075776712,
          53.94678794868059,
          54.39933208784556,
          54.678872979415175,
          54.79622062968184,
          54.76005779019071,
          54.5976451946573,
          54.340047690321335,
          53.96338821424456,
          53.43855697112253,
          52.764200536420816,
          51.93457061249095,
          50.938071310345734,
          49.76124278837677,
          48.38952948076803,
          46.80770731989155,
          45.000567966269415,
          42.95379569561918,
          40.65502359600981,
          38.09505805147462,
          35.26924199537727,
          32.17890133472312,
          28.832785689741595,
          25.248375866744055,
          21.45288902369391,
          17.483772702972985,
          13.38844721869654,
          9.22304072792541,
          5.04987281003601,
          0.9334922807803712,
          -3.065927994696416,
          -6.88963311231439,
          -10.487369086026584,
          -13.831475575410497,
          -16.89519901361249,
          -19.647358826547826,
          -22.079856511756983,
          -24.195447695560315,
          -25.976969571096387,
          -27.411648162506225,
          -28.552911148508972,
          -29.472260489352536,
          -30.137553776731526,
          -30.498950542102296,
          -30.559179873660508,
          -30.323385384663638,
          -29.80450109050359,
          -29.017293690873036,
          -27.973361688794537,
          -26.69479453919278,
          -25.21680220615572,
          -23.596112571620857,
          -21.921537741559924,
          -20.300727959794052,
          -18.83579395889916,
          -17.604170055193038,
          -16.655941039806407,
          -16.01958059022517,
          -15.706461014988099,
          -15.712362022692728,
          -16.01746518666321,
          -16.586133754901905,
          -17.367299176400273,
          -18.296052813508368,
          -19.29692749018273,
          -20.289447811548833,
          -21.199521399332475,
          -21.954441445166538,
          -22.48372176599227,
          -22.7397118034937,
          -22.68208086720097,
          -22.290152375396588,
          -21.558044668039344,
          -20.46098596613115,
          -18.976880585816655,
          -17.14601976687182,
          -15.026419585160284,
          -12.593645031682382,
          -9.816010773730099,
          -6.7042309582362964,
          -3.27981122038305,
          0.42975890354507795
         ],
         "y": [
          -2.5625,
          -2.5625,
          -2.5625,
          -2.5625,
          -2.5625,
          -2.5625,
          -2.5625,
          -2.5625,
          -2.5625,
          -2.5625,
          -2.5625,
          -2.574517603682267,
          -2.6321196582670603,
          -2.7694031154600136,
          -3.0023200668917513,
          -3.336198274151596,
          -3.7777580152566688,
          -4.338611928287328,
          -5.031472047595688,
          -5.865007325237907,
          -6.790567559278369,
          -7.721765415877817,
          -8.60888534340354,
          -9.414819989176038,
          -10.122010412625484,
          -10.739953525966783,
          -11.274223793556812,
          -11.724590368124602,
          -12.087075504640456,
          -12.357424358663238,
          -12.534274188505803,
          -12.619875089914625,
          -12.60975777348192,
          -12.460599872281625,
          -12.119484111791525,
          -11.586073798967469,
          -10.876737260281699,
          -9.990959156957803,
          -8.930036454926901,
          -7.700424608865227,
          -6.311878820123411,
          -4.777287442037215,
          -3.113024395705053,
          -1.3393207532331848,
          0.5194158763250751,
          2.434406247103407,
          4.372505412439731,
          6.296489971916085,
          8.1657098725684,
          9.937184443539813,
          11.567208142259025,
          13.013502692083827,
          14.237905197520229,
          15.209513674549484,
          15.90812124070022,
          16.32765940708467,
          16.479242891908363,
          16.400165368703803,
          16.164362530005793,
          15.85684807498174,
          15.518739239693911,
          15.160236552341328,
          14.80085447869103,
          14.468192426377342,
          14.189535602353393,
          13.985883815180255,
          13.875824347427924,
          13.879224477807172,
          13.974158773195935,
          14.13320473245076,
          14.400687681285987,
          14.81210758417131,
          15.366055858262241,
          16.061038827858017,
          16.87087984502559,
          17.777586808631888,
          18.82411885927771,
          20.079224825435166,
          21.60296531175457,
          23.438070587905358,
          25.592739249714544,
          28.037040439397703,
          30.71506436549187,
          33.55963820917045,
          36.499956846208896,
          39.46405381199178,
          42.38021298700761,
          45.179010554579584,
          47.79632944176767,
          50.17727940028553,
          52.28076482371045,
          54.08426307456837,
          55.60167974944604,
          56.87729166803432,
          57.96097444544821,
          58.910644048471056,
          59.764167521096326,
          60.53912160446518,
          61.26926905190462,
          61.989707938603814,
          62.73731044743053,
          63.55267383915782,
          64.45168583372907,
          65.44501052289536,
          66.56707979619792,
          67.84442380429884,
          69.28912049413886,
          70.91018204777038,
          72.68925723183597
         ]
        },
        {
         "marker": {
          "color": "rgb(0, 255, 0)",
          "size": 5,
          "symbol": [
           "circle",
           "circle",
           "circle",
           "circle",
           "circle",
           "circle",
           "circle",
           "circle",
           "circle",
           "circle",
           "circle",
           "circle",
           "circle",
           "circle",
           "circle",
           "circle",
           "circle",
           "circle",
           "circle",
           "circle",
           "square-x",
           "square-x",
           "square-x",
           "square-x",
           "square-x",
           "square-x",
           "square-x",
           "square-x",
           "square-x",
           "square-x",
           "square-x",
           "square-x",
           "square-x",
           "square-x",
           "square-x",
           "square-x",
           "square-x",
           "square-x",
           "square-x",
           "square-x",
           "square-x",
           "square-x",
           "square-x",
           "square-x",
           "square-x",
           "square-x",
           "square-x",
           "square-x",
           "square-x",
           "square-x",
           "square-x",
           "square-x",
           "square-x",
           "square-x",
           "square-x",
           "square-x",
           "square-x",
           "square-x",
           "square-x",
           "square-x",
           "square-x",
           "square-x",
           "square-x",
           "square-x",
           "square-x",
           "square-x",
           "square-x",
           "circle",
           "square-x",
           "square-x",
           "square-x",
           "square-x",
           "square-x",
           "square-x",
           "square-x",
           "square-x",
           "square-x",
           "square-x",
           "square-x",
           "square-x",
           "square-x",
           "square-x",
           "square-x",
           "square-x",
           "square-x",
           "square-x",
           "square-x",
           "square-x",
           "square-x",
           "square-x",
           "square-x",
           "square-x",
           "square-x",
           "square-x",
           "square-x",
           "square-x",
           "square-x",
           "square-x",
           "square-x",
           "square-x",
           "square-x",
           "square-x",
           "circle",
           "square-x",
           "square-x",
           "square-x",
           "square-x",
           "square-x",
           "square-x"
          ]
         },
         "mode": "markers",
         "name": "RF",
         "type": "scatter",
         "x": [
          3.1750000000000003,
          5.375005,
          7.575010000000001,
          9.775015,
          11.97502,
          14.175025,
          16.37503,
          18.575034999999996,
          20.77504,
          22.975044999999998,
          25.175049999999995,
          27.378018329909896,
          29.591563468491213,
          31.82147834455013,
          34.06635384755432,
          36.31847638762286,
          38.56502749606814,
          40.78783225223183,
          42.96291324474907,
          45.0607637844864,
          47.036852013895505,
          48.850125331570865,
          50.4875913465986,
          51.94908964359,
          53.23377684864389,
          54.34001019942783,
          55.26807144070139,
          56.02321006022176,
          56.61461571180961,
          57.05075305751232,
          57.33315695550587,
          57.45465416737649,
          57.41514772382161,
          57.23536318493304,
          56.92288348156169,
          56.450678030229994,
          55.794698530167516,
          54.94698649960161,
          53.8994559622678,
          52.64008161905048,
          51.154423005615534,
          49.426965930089324,
          47.44221440713639,
          45.1858589160727,
          42.64611511075222,
          39.815253144633246,
          36.691298075234215,
          33.27984421243056,
          29.595884375060454,
          25.665506874963047,
          21.527259758759286,
          17.232927132439475,
          12.847412454883525,
          8.44738694037902,
          4.118347534796694,
          -0.050252084260407504,
          -3.9720750702901673,
          -7.57384329540271,
          -10.806710437698992,
          -13.66015915470914,
          -16.14271268275541,
          -18.261274323364916,
          -20.031329645447844,
          -21.491836566676785,
          -22.684114756951647,
          -23.616847911898407,
          -24.296053960830797,
          -24.80384237916331,
          -25.217546471708935,
          -25.488979360020824,
          -25.57327451446201,
          -25.47606556150856,
          -25.19975027246558,
          -24.755734933310418,
          -24.154037821659468,
          -23.402194296511414,
          -22.51519421303227,
          -21.52120983671685,
          -20.472476266961763,
          -19.447024220979216,
          -18.53538695526428,
          -17.8215568314274,
          -17.369312436448375,
          -17.21844147746244,
          -17.38573510463357,
          -17.866149087526704,
          -18.633171731602076,
          -19.63892648433623,
          -20.814803201367955,
          -22.073405898645476,
          -23.312544923039695,
          -24.421912932392434,
          -25.29240828184966,
          -25.829065208969283,
          -25.96287219852251,
          -25.66675567694076,
          -24.94323802571895,
          -23.802797802131874,
          -22.27796492274428,
          -20.42849739840952,
          -18.308146230990392,
          -15.928296317773773,
          -13.346562135247188,
          -10.644531387541225,
          -7.798398854595643,
          -4.771842103436597,
          -1.5793011540680566,
          1.7552262236979406,
          5.210834933118814
         ],
         "y": [
          2.5625,
          2.5625,
          2.5625,
          2.5625,
          2.5625,
          2.5625,
          2.5625,
          2.5625,
          2.5625,
          2.5625,
          2.5625,
          2.550478248930564,
          2.4927401396461426,
          2.3543478189510045,
          2.11701262534999,
          1.7714143851382298,
          1.3054800316841804,
          0.7011092868696038,
          -0.06190451034739519,
          -1.0004888186786323,
          -2.060136166478843,
          -3.126927687219615,
          -4.129618235042192,
          -5.020006983998271,
          -5.776644200631823,
          -6.41293796948571,
          -6.940249854619788,
          -7.369591676870179,
          -7.71119616143663,
          -7.971584434360096,
          -8.150166346051632,
          -8.238282214525547,
          -8.22613798564312,
          -8.066505107284437,
          -7.692907073549919,
          -7.10511247674038,
          -6.325449315782793,
          -5.3540344822471075,
          -4.196660222021647,
          -2.866297396113912,
          -1.3798737631212847,
          0.2416119008087474,
          1.972545951486702,
          3.782328616249365,
          5.63517170100005,
          7.490136717470158,
          9.301509665745414,
          11.019616210034933,
          12.592181197009012,
          13.966324539075707,
          15.091256937451321,
          15.921688834056225,
          16.42188977849507,
          16.570229782351845,
          16.36389794482776,
          15.823327113276365,
          14.995654686202084,
          13.962066797755924,
          12.859497899350279,
          11.832046442594207,
          10.944484324012898,
          10.220655269673248,
          9.690258485048677,
          9.377037592335476,
          9.292444858996019,
          9.4366585235746,
          9.80658636342079,
          10.384927930186032,
          11.117056460000438,
          11.975339840409841,
          12.985293506248574,
          14.158216240295284,
          15.484327735947398,
          16.941712030573374,
          18.487780383265275,
          20.09492443438424,
          21.790019416201183,
          23.630030654954037,
          25.666033270356255,
          27.926099981354476,
          30.404100402000434,
          33.06067936444575,
          35.83468025918131,
          38.65367572941279,
          41.43951622359891,
          44.11178147498307,
          46.59144744311914,
          48.805392094001,
          50.691839709842114,
          52.20661045234148,
          53.32977955907402,
          54.072047627846615,
          54.48991919401724,
          54.678894726020985,
          54.76752679509443,
          54.89393891593369,
          55.137062898552585,
          55.538159841788016,
          56.14428354304727,
          56.990733247162396,
          58.08640665625198,
          59.43299436611123,
          61.01224595120615,
          62.787063792133665,
          64.75842308439907,
          66.93778858237688,
          69.31594403506996,
          71.86622751567572,
          74.53504622287352
         ]
        },
        {
         "marker": {
          "color": "rgb(153, 0, 204)",
          "size": 5,
          "symbol": [
           "circle",
           "circle",
           "circle",
           "circle",
           "circle",
           "circle",
           "circle",
           "circle",
           "circle",
           "circle",
           "circle",
           "circle",
           "circle",
           "circle",
           "circle",
           "circle",
           "circle",
           "circle",
           "circle",
           "circle",
           "circle",
           "circle",
           "circle",
           "circle",
           "circle",
           "circle",
           "circle",
           "circle",
           "circle",
           "circle",
           "circle",
           "circle",
           "circle",
           "square-x",
           "square-x",
           "square-x",
           "square-x",
           "square-x",
           "square-x",
           "square-x",
           "square-x",
           "square-x",
           "square-x",
           "square-x",
           "square-x",
           "square-x",
           "square-x",
           "square-x",
           "square-x",
           "square-x",
           "square-x",
           "square-x",
           "square-x",
           "square-x",
           "square-x",
           "square-x",
           "square-x",
           "square-x",
           "square-x",
           "square-x",
           "square-x",
           "square-x",
           "square-x",
           "circle",
           "square-x",
           "square-x",
           "square-x",
           "square-x",
           "square-x",
           "square-x",
           "square-x",
           "square-x",
           "square-x",
           "square-x",
           "square-x",
           "square-x",
           "square-x",
           "square-x",
           "square-x",
           "square-x",
           "square-x",
           "square-x",
           "square-x",
           "square-x",
           "square-x",
           "square-x",
           "square-x",
           "square-x",
           "square-x",
           "square-x",
           "square-x",
           "square-x",
           "square-x",
           "square-x",
           "square-x",
           "square-x",
           "square-x",
           "square-x",
           "circle",
           "circle",
           "square-x",
           "square-x",
           "square-x",
           "square-x",
           "square-x",
           "square-x",
           "square-x",
           "square-x",
           "square-x"
          ]
         },
         "mode": "markers",
         "name": "RR",
         "type": "scatter",
         "x": [
          -5.658333333333334,
          -3.458328333333334,
          -1.2583233333333341,
          0.941681666666665,
          3.141686666666666,
          5.341691666666665,
          7.541696666666664,
          9.741701666666664,
          11.941706666666665,
          14.141711666666662,
          16.34171666666666,
          18.544692144918674,
          20.75847178428309,
          22.990297872231952,
          25.242788556861232,
          27.515111478928198,
          29.803674114348954,
          32.101483491148336,
          34.39747976591461,
          36.676390423587485,
          38.883588149883316,
          40.93056762038762,
          42.7672285256831,
          44.37428999238929,
          45.744202564557256,
          46.88206468744419,
          47.798132619118874,
          48.51703345415722,
          49.072449689376995,
          49.49141920424186,
          49.7768084790808,
          49.90264043093352,
          49.8596404472214,
          49.66180147615741,
          49.29333606605583,
          48.72739510086298,
          47.95020223558404,
          46.95488868627911,
          45.74111643888639,
          44.30809000032463,
          42.65373136265252,
          40.776505274127175,
          38.67684112579775,
          36.35830065322473,
          33.82871482757259,
          31.101311195708444,
          28.195778549211408,
          25.139171346729775,
          21.966519165455495,
          18.720972726559715,
          15.453289477614835,
          12.220443700747213,
          9.083146347837456,
          6.102087632622105,
          3.3327811829671146,
          0.8190035766124462,
          -1.4149962116744634,
          -3.3715920999478324,
          -5.110520992991926,
          -6.723102682626562,
          -8.258631039467808,
          -9.747524470310992,
          -11.222822729576473,
          -12.716837990929825,
          -14.24360063018934,
          -15.775906758887029,
          -17.2824080046559,
          -18.78115239464557,
          -20.293109964412633,
          -21.769732554226717,
          -23.133733334722727,
          -24.349033326535245,
          -25.403600988475763,
          -26.273643217665345,
          -26.940890781877453,
          -27.39630467585693,
          -27.627152896510122,
          -27.641297933123354,
          -27.47548770780369,
          -27.18248951700534,
          -26.8281395104237,
          -26.48018652338012,
          -26.19336584670986,
          -25.998408585522416,
          -25.89944720224887,
          -25.876866685527954,
          -25.891559574656082,
          -25.889275153908105,
          -25.805438785366174,
          -25.571114703815073,
          -25.120602840902105,
          -24.40085866649803,
          -23.37620309688295,
          -22.03995828452355,
          -20.458718524742025,
          -18.74365414768937,
          -16.9680658307655,
          -15.18325395101351,
          -13.444656566014535,
          -11.812378418038946,
          -10.291954330747679,
          -8.827710559352004,
          -7.418421849923116,
          -6.063354908504804,
          -4.68103931881226,
          -3.2091862737824877,
          -1.6255335985997275,
          0.10740801885294138,
          2.0294750461272564
         ],
         "y": [
          2.5625,
          2.5625,
          2.5625,
          2.5625,
          2.5625,
          2.5625,
          2.5625,
          2.5625,
          2.5625,
          2.5625,
          2.5625,
          2.5617160123296285,
          2.5580783072904483,
          2.54935869845229,
          2.532311720766865,
          2.4984247441712077,
          2.4308531690993016,
          2.3058282587151635,
          2.097059847264757,
          1.7798099283675288,
          1.3386968893758846,
          0.7856652429247681,
          0.16267435647618367,
          -0.4757591890439201,
          -1.093263496383452,
          -1.6793530153456802,
          -2.2256139429515014,
          -2.712866375078445,
          -3.112988959945942,
          -3.401655608592998,
          -3.575302907586368,
          -3.6562666861412803,
          -3.649885417108564,
          -3.5201944248579484,
          -3.2411901000299617,
          -2.81807637113947,
          -2.264457360355664,
          -1.5918342855452456,
          -0.810028562243668,
          0.06724882701946244,
          1.0213799446398413,
          2.029713748419428,
          3.066167922998128,
          4.101691879324943,
          5.104860449034236,
          6.0427274842032315,
          6.882020926209089,
          7.590735478451976,
          8.140151965720506,
          8.507274874579345,
          8.677625922062939,
          8.648258582463214,
          8.430764798048196,
          8.05393076606474,
          7.565564961548997,
          7.032867945871155,
          6.540530471348796,
          6.192326604668652,
          6.108112590557306,
          6.363497706328339,
          6.960888659320853,
          7.8661189634332995,
          9.028455122391733,
          10.390535383855813,
          11.897343907654864,
          13.504510489021524,
          15.176553605332911,
          16.8467375163753,
          18.450384685532498,
          19.98751688384617,
          21.475076578278983,
          22.919356355549056,
          24.315308579735923,
          25.643650447849403,
          26.869977491178094,
          27.973684492628315,
          28.99388339299816,
          29.999669535612906,
          31.049861697898766,
          32.191115155038304,
          33.44680197078346,
          34.80879538903122,
          36.23947550449732,
          37.684162779956864,
          39.08484340201695,
          40.389392276786445,
          41.55720631882009,
          42.56352384110116,
          43.40340131430713,
          44.09527203676438,
          44.683467955654166,
          45.23873938598924,
          45.866930415937766,
          46.69951840372015,
          47.85868679744023,
          49.40773412633142,
          51.339115263497675,
          53.60651764499654,
          56.16528955900085,
          58.93759520782518,
          61.79699221600679,
          64.68746481184368,
          67.56090463335593,
          70.33958653924944,
          73.02340023515019,
          75.63180287589088,
          78.14915638046564,
          80.54450343555514,
          82.7756000299437
         ]
        },
        {
         "marker": {
          "color": "rgb(255, 102, 0)",
          "size": 5,
          "symbol": [
           "circle",
           "circle",
           "circle",
           "circle",
           "circle",
           "circle",
           "circle",
           "circle",
           "circle",
           "circle",
           "circle",
           "circle",
           "circle",
           "circle",
           "circle",
           "circle",
           "circle",
           "circle",
           "circle",
           "circle",
           "circle",
           "circle",
           "circle",
           "circle",
           "circle",
           "circle",
           "circle",
           "circle",
           "circle",
           "circle",
           "circle",
           "circle",
           "circle",
           "square-x",
           "square-x",
           "square-x",
           "square-x",
           "square-x",
           "square-x",
           "square-x",
           "square-x",
           "square-x",
           "square-x",
           "square-x",
           "square-x",
           "square-x",
           "square-x",
           "square-x",
           "square-x",
           "square-x",
           "square-x",
           "square-x",
           "square-x",
           "square-x",
           "square-x",
           "square-x",
           "square-x",
           "square-x",
           "square-x",
           "square-x",
           "square-x",
           "square-x",
           "square-x",
           "circle",
           "square-x",
           "square-x",
           "square-x",
           "square-x",
           "square-x",
           "square-x",
           "square-x",
           "square-x",
           "square-x",
           "square-x",
           "square-x",
           "square-x",
           "square-x",
           "square-x",
           "square-x",
           "square-x",
           "square-x",
           "square-x",
           "square-x",
           "square-x",
           "square-x",
           "square-x",
           "square-x",
           "square-x",
           "square-x",
           "square-x",
           "square-x",
           "square-x",
           "square-x",
           "square-x",
           "square-x",
           "square-x",
           "square-x",
           "square-x",
           "circle",
           "circle",
           "square-x",
           "square-x",
           "square-x",
           "square-x",
           "square-x",
           "square-x",
           "square-x",
           "square-x",
           "square-x"
          ]
         },
         "mode": "markers",
         "name": "LR",
         "type": "scatter",
         "x": [
          -5.658333333333334,
          -3.458328333333334,
          -1.2583233333333341,
          0.941681666666665,
          3.141686666666666,
          5.341691666666665,
          7.541696666666664,
          9.741701666666664,
          11.941706666666665,
          14.141711666666662,
          16.34171666666666,
          18.5381721218145,
          20.72056331909323,
          22.87715476761564,
          25.001836723199556,
          27.093308298923212,
          29.150745360093953,
          31.170443710313414,
          33.14487308673398,
          35.063292565631464,
          36.91162368823175,
          38.660525495822725,
          40.276888956075744,
          41.737768866071434,
          43.02695809935655,
          44.135692284806346,
          45.06275423640567,
          45.81525415170258,
          46.40462192624797,
          46.8399982345751,
          47.1225245029901,
          47.244206893238875,
          47.2045505135905,
          47.02408348588166,
          46.71050027481547,
          46.240105284877544,
          45.59406067653905,
          44.77210272309832,
          43.77623108910954,
          42.60607969161989,
          41.26055114541376,
          39.739068824805884,
          38.04233403855291,
          36.17300970342144,
          34.13639541243955,
          31.94108164708501,
          29.599538525451823,
          27.128569129676492,
          24.549536125118166,
          21.888251541338263,
          19.174405585599605,
          16.440405592001646,
          13.719506595926916,
          11.043147910939624,
          8.43747437609583,
          5.9191284709088645,
          3.490571139396075,
          1.1363232007584618,
          -1.193443667607324,
          -3.550312613944007,
          -5.947393932122895,
          -8.381449160558567,
          -10.838851910676455,
          -13.304857936010023,
          -15.75493356879801,
          -18.136028418085008,
          -20.398002206331327,
          -22.530221163991232,
          -24.547823982056233,
          -26.41830697093742,
          -28.059409362363013,
          -29.432147638687194,
          -30.52723610067382,
          -31.322409374858516,
          -31.80414665109102,
          -31.96747206814005,
          -31.806753222670633,
          -31.336890302562225,
          -30.599124012462784,
          -29.657003037586048,
          -28.593480514953473,
          -27.49442365085188,
          -26.428223465454522,
          -25.43590814786638,
          -24.53329268784047,
          -23.717178612989347,
          -22.970749865746736,
          -22.267813856235083,
          -21.576769338900124,
          -20.86500798156987,
          -20.104110731370778,
          -19.275873224288326,
          -18.373242626582122,
          -17.410414474886743,
          -16.45028777138605,
          -15.560620236740883,
          -14.76453960854025,
          -14.06253701608261,
          -13.456844018666844,
          -12.941925687668771,
          -12.444794065888438,
          -11.876294827394888,
          -11.21787948154775,
          -10.445243106123863,
          -9.476285495898999,
          -8.25335494407599,
          -6.750463402767968,
          -4.92762942522805,
          -2.7516009834464805
         ],
         "y": [
          -2.5625,
          -2.5625,
          -2.5625,
          -2.5625,
          -2.5625,
          -2.5625,
          -2.5625,
          -2.5625,
          -2.5625,
          -2.5625,
          -2.5625,
          -2.5632798402832027,
          -2.5667814906227546,
          -2.574392235958728,
          -2.5870209714748764,
          -2.609187915118618,
          -2.6523848778415475,
          -2.733892956441768,
          -2.872507689983536,
          -3.084708578191746,
          -3.391734503423641,
          -3.809172485733434,
          -4.316592751885165,
          -4.870572194221687,
          -5.438629708377112,
          -6.006368571826754,
          -6.559587881888525,
          -7.0678650663328675,
          -7.488868303149768,
          -7.7874955328961395,
          -7.95941075004054,
          -8.037859561530357,
          -8.033505204947362,
          -7.914289189855136,
          -7.667767138271567,
          -7.29903769336656,
          -6.81574530485457,
          -6.228758960255941,
          -5.543404795148922,
          -4.766878385731852,
          -3.9106251123622844,
          -2.9891855944265346,
          -2.0194024241936273,
          -1.0199574901576065,
          -0.010895375640738614,
          0.9869970138364805,
          1.9530166729034057,
          2.8676092403331284,
          3.713680641279896,
          4.478134779043452,
          5.153577126870641,
          5.740072440490817,
          6.246780217073355,
          6.693214658262379,
          7.109788257421458,
          7.537200239679462,
          8.024118677055077,
          8.63042517561653,
          9.412977221212822,
          10.388299338715871,
          11.535143575001866,
          12.80570024610138,
          14.139051116034086,
          15.481690217897683,
          16.79443465101224,
          18.05373578062718,
          19.245791589340044,
          20.34103406399644,
          21.307486998727995,
          22.14538177588709,
          22.890470753316396,
          23.57324769942508,
          24.19703670205077,
          24.762977245134046,
          25.25307695293841,
          25.65634686687597,
          26.02798283607469,
          26.448863706094034,
          26.98679373929708,
          27.703085761589183,
          28.635440818497575,
          29.785156463983174,
          31.11985961080788,
          32.590125259714526,
          34.14528402462694,
          35.74166461379516,
          37.345971862708566,
          38.93714230167974,
          40.507891046232686,
          42.065940984708426,
          43.634453220290595,
          45.250954832710995,
          46.97869097136657,
          48.89791534573348,
          51.052134447794,
          53.42443925886879,
          55.96621988604143,
          58.60747940767371,
          61.2902750678582,
          63.9365698992666,
          66.44789600718535,
          68.80714428489028,
          71.00034451587885,
          72.99753327001113,
          74.83205694694904,
          76.53843809781284,
          78.12233283953454,
          79.5884579676498,
          80.92981103890615
         ]
        }
       ],
       "layout": {
        "annotations": [
         {
          "arrowcolor": "rgb(255, 0, 0)",
          "arrowhead": 1,
          "arrowsize": 2.5,
          "arrowwidth": 1.7,
          "ax": 4.931961555589352,
          "axref": "x",
          "ay": 78.66290042810007,
          "ayref": "y",
          "showarrow": true,
          "text": "",
          "x": -44.64804126935213,
          "xref": "x",
          "y": 75.32928526593504,
          "yref": "y"
         },
         {
          "arrowcolor": "rgb(0, 0, 0)",
          "arrowhead": 1,
          "arrowsize": 2,
          "arrowwidth": 1.5,
          "ax": 4.931961555589352,
          "axref": "x",
          "ay": 78.66290042810007,
          "ayref": "y",
          "showarrow": true,
          "text": "",
          "x": 9.018318486838554,
          "xref": "x",
          "y": 71.97011153694694,
          "yref": "y"
         },
         {
          "arrowcolor": "rgb(0, 0, 255)",
          "arrowhead": 1,
          "arrowsize": 2,
          "arrowwidth": 1.5,
          "ax": 4.931961555589352,
          "axref": "x",
          "ay": 78.66290042810007,
          "ayref": "y",
          "showarrow": true,
          "text": "",
          "x": 8.70154509683394,
          "xref": "x",
          "y": 80.96446171775159,
          "yref": "y"
         }
        ],
        "autosize": false,
        "font": {
         "color": "black",
         "family": "Arial",
         "size": 16
        },
        "height": 700,
        "showlegend": false,
        "template": {
         "data": {
          "bar": [
           {
            "error_x": {
             "color": "#2a3f5f"
            },
            "error_y": {
             "color": "#2a3f5f"
            },
            "marker": {
             "line": {
              "color": "white",
              "width": 0.5
             }
            },
            "type": "bar"
           }
          ],
          "barpolar": [
           {
            "marker": {
             "line": {
              "color": "white",
              "width": 0.5
             }
            },
            "type": "barpolar"
           }
          ],
          "carpet": [
           {
            "aaxis": {
             "endlinecolor": "#2a3f5f",
             "gridcolor": "#C8D4E3",
             "linecolor": "#C8D4E3",
             "minorgridcolor": "#C8D4E3",
             "startlinecolor": "#2a3f5f"
            },
            "baxis": {
             "endlinecolor": "#2a3f5f",
             "gridcolor": "#C8D4E3",
             "linecolor": "#C8D4E3",
             "minorgridcolor": "#C8D4E3",
             "startlinecolor": "#2a3f5f"
            },
            "type": "carpet"
           }
          ],
          "choropleth": [
           {
            "colorbar": {
             "outlinewidth": 0,
             "ticks": ""
            },
            "type": "choropleth"
           }
          ],
          "contour": [
           {
            "colorbar": {
             "outlinewidth": 0,
             "ticks": ""
            },
            "colorscale": [
             [
              0,
              "#0d0887"
             ],
             [
              0.1111111111111111,
              "#46039f"
             ],
             [
              0.2222222222222222,
              "#7201a8"
             ],
             [
              0.3333333333333333,
              "#9c179e"
             ],
             [
              0.4444444444444444,
              "#bd3786"
             ],
             [
              0.5555555555555556,
              "#d8576b"
             ],
             [
              0.6666666666666666,
              "#ed7953"
             ],
             [
              0.7777777777777778,
              "#fb9f3a"
             ],
             [
              0.8888888888888888,
              "#fdca26"
             ],
             [
              1,
              "#f0f921"
             ]
            ],
            "type": "contour"
           }
          ],
          "contourcarpet": [
           {
            "colorbar": {
             "outlinewidth": 0,
             "ticks": ""
            },
            "type": "contourcarpet"
           }
          ],
          "heatmap": [
           {
            "colorbar": {
             "outlinewidth": 0,
             "ticks": ""
            },
            "colorscale": [
             [
              0,
              "#0d0887"
             ],
             [
              0.1111111111111111,
              "#46039f"
             ],
             [
              0.2222222222222222,
              "#7201a8"
             ],
             [
              0.3333333333333333,
              "#9c179e"
             ],
             [
              0.4444444444444444,
              "#bd3786"
             ],
             [
              0.5555555555555556,
              "#d8576b"
             ],
             [
              0.6666666666666666,
              "#ed7953"
             ],
             [
              0.7777777777777778,
              "#fb9f3a"
             ],
             [
              0.8888888888888888,
              "#fdca26"
             ],
             [
              1,
              "#f0f921"
             ]
            ],
            "type": "heatmap"
           }
          ],
          "heatmapgl": [
           {
            "colorbar": {
             "outlinewidth": 0,
             "ticks": ""
            },
            "colorscale": [
             [
              0,
              "#0d0887"
             ],
             [
              0.1111111111111111,
              "#46039f"
             ],
             [
              0.2222222222222222,
              "#7201a8"
             ],
             [
              0.3333333333333333,
              "#9c179e"
             ],
             [
              0.4444444444444444,
              "#bd3786"
             ],
             [
              0.5555555555555556,
              "#d8576b"
             ],
             [
              0.6666666666666666,
              "#ed7953"
             ],
             [
              0.7777777777777778,
              "#fb9f3a"
             ],
             [
              0.8888888888888888,
              "#fdca26"
             ],
             [
              1,
              "#f0f921"
             ]
            ],
            "type": "heatmapgl"
           }
          ],
          "histogram": [
           {
            "marker": {
             "colorbar": {
              "outlinewidth": 0,
              "ticks": ""
             }
            },
            "type": "histogram"
           }
          ],
          "histogram2d": [
           {
            "colorbar": {
             "outlinewidth": 0,
             "ticks": ""
            },
            "colorscale": [
             [
              0,
              "#0d0887"
             ],
             [
              0.1111111111111111,
              "#46039f"
             ],
             [
              0.2222222222222222,
              "#7201a8"
             ],
             [
              0.3333333333333333,
              "#9c179e"
             ],
             [
              0.4444444444444444,
              "#bd3786"
             ],
             [
              0.5555555555555556,
              "#d8576b"
             ],
             [
              0.6666666666666666,
              "#ed7953"
             ],
             [
              0.7777777777777778,
              "#fb9f3a"
             ],
             [
              0.8888888888888888,
              "#fdca26"
             ],
             [
              1,
              "#f0f921"
             ]
            ],
            "type": "histogram2d"
           }
          ],
          "histogram2dcontour": [
           {
            "colorbar": {
             "outlinewidth": 0,
             "ticks": ""
            },
            "colorscale": [
             [
              0,
              "#0d0887"
             ],
             [
              0.1111111111111111,
              "#46039f"
             ],
             [
              0.2222222222222222,
              "#7201a8"
             ],
             [
              0.3333333333333333,
              "#9c179e"
             ],
             [
              0.4444444444444444,
              "#bd3786"
             ],
             [
              0.5555555555555556,
              "#d8576b"
             ],
             [
              0.6666666666666666,
              "#ed7953"
             ],
             [
              0.7777777777777778,
              "#fb9f3a"
             ],
             [
              0.8888888888888888,
              "#fdca26"
             ],
             [
              1,
              "#f0f921"
             ]
            ],
            "type": "histogram2dcontour"
           }
          ],
          "mesh3d": [
           {
            "colorbar": {
             "outlinewidth": 0,
             "ticks": ""
            },
            "type": "mesh3d"
           }
          ],
          "parcoords": [
           {
            "line": {
             "colorbar": {
              "outlinewidth": 0,
              "ticks": ""
             }
            },
            "type": "parcoords"
           }
          ],
          "pie": [
           {
            "automargin": true,
            "type": "pie"
           }
          ],
          "scatter": [
           {
            "marker": {
             "colorbar": {
              "outlinewidth": 0,
              "ticks": ""
             }
            },
            "type": "scatter"
           }
          ],
          "scatter3d": [
           {
            "line": {
             "colorbar": {
              "outlinewidth": 0,
              "ticks": ""
             }
            },
            "marker": {
             "colorbar": {
              "outlinewidth": 0,
              "ticks": ""
             }
            },
            "type": "scatter3d"
           }
          ],
          "scattercarpet": [
           {
            "marker": {
             "colorbar": {
              "outlinewidth": 0,
              "ticks": ""
             }
            },
            "type": "scattercarpet"
           }
          ],
          "scattergeo": [
           {
            "marker": {
             "colorbar": {
              "outlinewidth": 0,
              "ticks": ""
             }
            },
            "type": "scattergeo"
           }
          ],
          "scattergl": [
           {
            "marker": {
             "colorbar": {
              "outlinewidth": 0,
              "ticks": ""
             }
            },
            "type": "scattergl"
           }
          ],
          "scattermapbox": [
           {
            "marker": {
             "colorbar": {
              "outlinewidth": 0,
              "ticks": ""
             }
            },
            "type": "scattermapbox"
           }
          ],
          "scatterpolar": [
           {
            "marker": {
             "colorbar": {
              "outlinewidth": 0,
              "ticks": ""
             }
            },
            "type": "scatterpolar"
           }
          ],
          "scatterpolargl": [
           {
            "marker": {
             "colorbar": {
              "outlinewidth": 0,
              "ticks": ""
             }
            },
            "type": "scatterpolargl"
           }
          ],
          "scatterternary": [
           {
            "marker": {
             "colorbar": {
              "outlinewidth": 0,
              "ticks": ""
             }
            },
            "type": "scatterternary"
           }
          ],
          "surface": [
           {
            "colorbar": {
             "outlinewidth": 0,
             "ticks": ""
            },
            "colorscale": [
             [
              0,
              "#0d0887"
             ],
             [
              0.1111111111111111,
              "#46039f"
             ],
             [
              0.2222222222222222,
              "#7201a8"
             ],
             [
              0.3333333333333333,
              "#9c179e"
             ],
             [
              0.4444444444444444,
              "#bd3786"
             ],
             [
              0.5555555555555556,
              "#d8576b"
             ],
             [
              0.6666666666666666,
              "#ed7953"
             ],
             [
              0.7777777777777778,
              "#fb9f3a"
             ],
             [
              0.8888888888888888,
              "#fdca26"
             ],
             [
              1,
              "#f0f921"
             ]
            ],
            "type": "surface"
           }
          ],
          "table": [
           {
            "cells": {
             "fill": {
              "color": "#EBF0F8"
             },
             "line": {
              "color": "white"
             }
            },
            "header": {
             "fill": {
              "color": "#C8D4E3"
             },
             "line": {
              "color": "white"
             }
            },
            "type": "table"
           }
          ]
         },
         "layout": {
          "annotationdefaults": {
           "arrowcolor": "#2a3f5f",
           "arrowhead": 0,
           "arrowwidth": 1
          },
          "coloraxis": {
           "colorbar": {
            "outlinewidth": 0,
            "ticks": ""
           }
          },
          "colorscale": {
           "diverging": [
            [
             0,
             "#8e0152"
            ],
            [
             0.1,
             "#c51b7d"
            ],
            [
             0.2,
             "#de77ae"
            ],
            [
             0.3,
             "#f1b6da"
            ],
            [
             0.4,
             "#fde0ef"
            ],
            [
             0.5,
             "#f7f7f7"
            ],
            [
             0.6,
             "#e6f5d0"
            ],
            [
             0.7,
             "#b8e186"
            ],
            [
             0.8,
             "#7fbc41"
            ],
            [
             0.9,
             "#4d9221"
            ],
            [
             1,
             "#276419"
            ]
           ],
           "sequential": [
            [
             0,
             "#0d0887"
            ],
            [
             0.1111111111111111,
             "#46039f"
            ],
            [
             0.2222222222222222,
             "#7201a8"
            ],
            [
             0.3333333333333333,
             "#9c179e"
            ],
            [
             0.4444444444444444,
             "#bd3786"
            ],
            [
             0.5555555555555556,
             "#d8576b"
            ],
            [
             0.6666666666666666,
             "#ed7953"
            ],
            [
             0.7777777777777778,
             "#fb9f3a"
            ],
            [
             0.8888888888888888,
             "#fdca26"
            ],
            [
             1,
             "#f0f921"
            ]
           ],
           "sequentialminus": [
            [
             0,
             "#0d0887"
            ],
            [
             0.1111111111111111,
             "#46039f"
            ],
            [
             0.2222222222222222,
             "#7201a8"
            ],
            [
             0.3333333333333333,
             "#9c179e"
            ],
            [
             0.4444444444444444,
             "#bd3786"
            ],
            [
             0.5555555555555556,
             "#d8576b"
            ],
            [
             0.6666666666666666,
             "#ed7953"
            ],
            [
             0.7777777777777778,
             "#fb9f3a"
            ],
            [
             0.8888888888888888,
             "#fdca26"
            ],
            [
             1,
             "#f0f921"
            ]
           ]
          },
          "colorway": [
           "#636efa",
           "#EF553B",
           "#00cc96",
           "#ab63fa",
           "#FFA15A",
           "#19d3f3",
           "#FF6692",
           "#B6E880",
           "#FF97FF",
           "#FECB52"
          ],
          "font": {
           "color": "#2a3f5f"
          },
          "geo": {
           "bgcolor": "white",
           "lakecolor": "white",
           "landcolor": "white",
           "showlakes": true,
           "showland": true,
           "subunitcolor": "#C8D4E3"
          },
          "hoverlabel": {
           "align": "left"
          },
          "hovermode": "closest",
          "mapbox": {
           "style": "light"
          },
          "paper_bgcolor": "white",
          "plot_bgcolor": "white",
          "polar": {
           "angularaxis": {
            "gridcolor": "#EBF0F8",
            "linecolor": "#EBF0F8",
            "ticks": ""
           },
           "bgcolor": "white",
           "radialaxis": {
            "gridcolor": "#EBF0F8",
            "linecolor": "#EBF0F8",
            "ticks": ""
           }
          },
          "scene": {
           "xaxis": {
            "backgroundcolor": "white",
            "gridcolor": "#DFE8F3",
            "gridwidth": 2,
            "linecolor": "#EBF0F8",
            "showbackground": true,
            "ticks": "",
            "zerolinecolor": "#EBF0F8"
           },
           "yaxis": {
            "backgroundcolor": "white",
            "gridcolor": "#DFE8F3",
            "gridwidth": 2,
            "linecolor": "#EBF0F8",
            "showbackground": true,
            "ticks": "",
            "zerolinecolor": "#EBF0F8"
           },
           "zaxis": {
            "backgroundcolor": "white",
            "gridcolor": "#DFE8F3",
            "gridwidth": 2,
            "linecolor": "#EBF0F8",
            "showbackground": true,
            "ticks": "",
            "zerolinecolor": "#EBF0F8"
           }
          },
          "shapedefaults": {
           "line": {
            "color": "#2a3f5f"
           }
          },
          "ternary": {
           "aaxis": {
            "gridcolor": "#DFE8F3",
            "linecolor": "#A2B1C6",
            "ticks": ""
           },
           "baxis": {
            "gridcolor": "#DFE8F3",
            "linecolor": "#A2B1C6",
            "ticks": ""
           },
           "bgcolor": "white",
           "caxis": {
            "gridcolor": "#DFE8F3",
            "linecolor": "#A2B1C6",
            "ticks": ""
           }
          },
          "title": {
           "x": 0.05
          },
          "xaxis": {
           "automargin": true,
           "gridcolor": "#EBF0F8",
           "linecolor": "#EBF0F8",
           "ticks": "",
           "title": {
            "standoff": 15
           },
           "zerolinecolor": "#EBF0F8",
           "zerolinewidth": 2
          },
          "yaxis": {
           "automargin": true,
           "gridcolor": "#EBF0F8",
           "linecolor": "#EBF0F8",
           "ticks": "",
           "title": {
            "standoff": 15
           },
           "zerolinecolor": "#EBF0F8",
           "zerolinewidth": 2
          }
         }
        },
        "title": {
         "text": "Vehicle Motion in Global Reference Frame"
        },
        "width": 1200,
        "xaxis": {
         "linecolor": "black",
         "linewidth": 1,
         "showgrid": false,
         "showline": true,
         "tickcolor": "black",
         "ticklen": 10,
         "ticks": "outside",
         "tickwidth": 1,
         "title": {
          "text": "x-axis - Forward (ft)"
         },
         "zeroline": false
        },
        "yaxis": {
         "autorange": "reversed",
         "linecolor": "black",
         "linewidth": 1,
         "scaleanchor": "x",
         "scaleratio": 1.7142857142857142,
         "showgrid": false,
         "showline": true,
         "tickcolor": "black",
         "ticklen": 10,
         "ticks": "outside",
         "tickwidth": 1,
         "title": {
          "text": "y-axis - Rightward (ft)"
         },
         "zeroline": false
        }
       }
      },
      "text/html": [
       "<div>\n",
       "        \n",
       "        \n",
       "            <div id=\"454bd530-ebac-40be-b17a-1cdc30d96fad\" class=\"plotly-graph-div\" style=\"height:700px; width:1200px;\"></div>\n",
       "            <script type=\"text/javascript\">\n",
       "                require([\"plotly\"], function(Plotly) {\n",
       "                    window.PLOTLYENV=window.PLOTLYENV || {};\n",
       "                    \n",
       "                if (document.getElementById(\"454bd530-ebac-40be-b17a-1cdc30d96fad\")) {\n",
       "                    Plotly.newPlot(\n",
       "                        '454bd530-ebac-40be-b17a-1cdc30d96fad',\n",
       "                        [{\"line\": {\"color\": \"rgb(0, 0, 0)\", \"width\": 2}, \"mode\": \"lines\", \"name\": \"body\", \"type\": \"scatter\", \"x\": [5.7473085404746325, 10.726003783627862, 2.605400742781943, -2.373294500371286, 5.7473085404746325], \"y\": [71.7304484917507, 74.77024642147913, 88.07047514247418, 85.03067721274576, 71.7304484917507]}, {\"line\": {\"color\": \"rgb(0, 0, 255)\", \"width\": 1}, \"mode\": \"lines\", \"name\": \"LF\", \"type\": \"scatter\", \"x\": [4.2157325019429175, 4.915793466977503, 4.583088391969812, 3.8830274269352256, 4.2157325019429175], \"y\": [73.48484110464959, 73.5927797740223, 75.75061474859952, 75.64267607922679, 73.48484110464959]}, {\"line\": {\"color\": \"rgb(0, 255, 0)\", \"width\": 1}, \"mode\": \"lines\", \"name\": \"RF\", \"type\": \"scatter\", \"x\": [8.589871894141826, 9.289932859176412, 8.957227784168722, 8.257166819134135, 8.589871894141826], \"y\": [76.15552071433954, 76.26345938371227, 78.42129435828947, 78.31335568891676, 76.15552071433954]}, {\"line\": {\"color\": \"rgb(153, 0, 204)\", \"width\": 1}, \"mode\": \"lines\", \"name\": \"RR\", \"type\": \"scatter\", \"x\": [4.437025804081397, 5.041581655035719, 3.9038287156230815, 3.299272864668761, 4.437025804081397], \"y\": [83.71128820613721, 84.08040652617566, 85.94386103147016, 85.57474271143171, 83.71128820613721]}, {\"line\": {\"color\": \"rgb(255, 102, 0)\", \"width\": 1}, \"mode\": \"lines\", \"name\": \"LR\", \"type\": \"scatter\", \"x\": [0.06288641188248922, 0.66744226283681, -0.4703106765758269, -1.0748665275301477, 0.06288641188248922], \"y\": [81.04060859644724, 81.4097269164857, 83.2731814217802, 82.90406310174174, 81.04060859644724]}, {\"customdata\": [10.9, 10.9], \"hovertemplate\": \"<b>x</b>:%{x:.1f}<br><b>Y</b>: %{y:.1f}<br><b>time</b>: %{customdata:.3f}\", \"marker\": {\"color\": \"rgb(0, 0, 0)\", \"size\": 10}, \"mode\": \"markers\", \"name\": \"CG\", \"type\": \"scatter\", \"x\": [4.931961555589352, 4.931961555589352], \"y\": [78.66290042810007, 78.66290042810007]}, {\"marker\": {\"color\": \"rgb(0, 0, 255)\", \"size\": 5, \"symbol\": [\"circle\", \"circle\", \"circle\", \"circle\", \"circle\", \"circle\", \"circle\", \"circle\", \"circle\", \"circle\", \"circle\", \"circle\", \"circle\", \"circle\", \"circle\", \"circle\", \"circle\", \"circle\", \"circle\", \"circle\", \"circle\", \"circle\", \"square-x\", \"square-x\", \"square-x\", \"square-x\", \"square-x\", \"square-x\", \"square-x\", \"square-x\", \"square-x\", \"square-x\", \"square-x\", \"square-x\", \"square-x\", \"square-x\", \"square-x\", \"square-x\", \"square-x\", \"square-x\", \"square-x\", \"square-x\", \"square-x\", \"square-x\", \"square-x\", \"square-x\", \"square-x\", \"square-x\", \"square-x\", \"square-x\", \"square-x\", \"square-x\", \"square-x\", \"square-x\", \"square-x\", \"square-x\", \"square-x\", \"square-x\", \"square-x\", \"square-x\", \"square-x\", \"square-x\", \"square-x\", \"square-x\", \"square-x\", \"square-x\", \"square-x\", \"circle\", \"circle\", \"square-x\", \"square-x\", \"square-x\", \"square-x\", \"square-x\", \"square-x\", \"square-x\", \"square-x\", \"square-x\", \"square-x\", \"square-x\", \"square-x\", \"square-x\", \"square-x\", \"square-x\", \"square-x\", \"square-x\", \"square-x\", \"square-x\", \"square-x\", \"square-x\", \"square-x\", \"square-x\", \"square-x\", \"square-x\", \"square-x\", \"square-x\", \"square-x\", \"square-x\", \"square-x\", \"square-x\", \"square-x\", \"square-x\", \"circle\", \"square-x\", \"square-x\", \"square-x\", \"square-x\", \"square-x\", \"square-x\"]}, \"mode\": \"markers\", \"name\": \"LF\", \"type\": \"scatter\", \"x\": [3.1750000000000003, 5.375005, 7.575010000000001, 9.775015, 11.97502, 14.175025, 16.37503, 18.575034999999996, 20.77504, 22.975044999999998, 25.175049999999995, 27.371498306805723, 29.553655003301355, 31.708335239933817, 33.825402013892635, 35.89667320761787, 37.91209874181314, 39.85679247139691, 41.71030656556844, 43.44766592653038, 45.06488755224394, 46.58008320700597, 47.99725177699124, 49.31256851727214, 50.516532383443185, 51.593637796789984, 52.53269305798818, 53.32143075776712, 53.94678794868059, 54.39933208784556, 54.678872979415175, 54.79622062968184, 54.76005779019071, 54.5976451946573, 54.340047690321335, 53.96338821424456, 53.43855697112253, 52.764200536420816, 51.93457061249095, 50.938071310345734, 49.76124278837677, 48.38952948076803, 46.80770731989155, 45.000567966269415, 42.95379569561918, 40.65502359600981, 38.09505805147462, 35.26924199537727, 32.17890133472312, 28.832785689741595, 25.248375866744055, 21.45288902369391, 17.483772702972985, 13.38844721869654, 9.22304072792541, 5.04987281003601, 0.9334922807803712, -3.065927994696416, -6.88963311231439, -10.487369086026584, -13.831475575410497, -16.89519901361249, -19.647358826547826, -22.079856511756983, -24.195447695560315, -25.976969571096387, -27.411648162506225, -28.552911148508972, -29.472260489352536, -30.137553776731526, -30.498950542102296, -30.559179873660508, -30.323385384663638, -29.80450109050359, -29.017293690873036, -27.973361688794537, -26.69479453919278, -25.21680220615572, -23.596112571620857, -21.921537741559924, -20.300727959794052, -18.83579395889916, -17.604170055193038, -16.655941039806407, -16.01958059022517, -15.706461014988099, -15.712362022692728, -16.01746518666321, -16.586133754901905, -17.367299176400273, -18.296052813508368, -19.29692749018273, -20.289447811548833, -21.199521399332475, -21.954441445166538, -22.48372176599227, -22.7397118034937, -22.68208086720097, -22.290152375396588, -21.558044668039344, -20.46098596613115, -18.976880585816655, -17.14601976687182, -15.026419585160284, -12.593645031682382, -9.816010773730099, -6.7042309582362964, -3.27981122038305, 0.42975890354507795], \"y\": [-2.5625, -2.5625, -2.5625, -2.5625, -2.5625, -2.5625, -2.5625, -2.5625, -2.5625, -2.5625, -2.5625, -2.574517603682267, -2.6321196582670603, -2.7694031154600136, -3.0023200668917513, -3.336198274151596, -3.7777580152566688, -4.338611928287328, -5.031472047595688, -5.865007325237907, -6.790567559278369, -7.721765415877817, -8.60888534340354, -9.414819989176038, -10.122010412625484, -10.739953525966783, -11.274223793556812, -11.724590368124602, -12.087075504640456, -12.357424358663238, -12.534274188505803, -12.619875089914625, -12.60975777348192, -12.460599872281625, -12.119484111791525, -11.586073798967469, -10.876737260281699, -9.990959156957803, -8.930036454926901, -7.700424608865227, -6.311878820123411, -4.777287442037215, -3.113024395705053, -1.3393207532331848, 0.5194158763250751, 2.434406247103407, 4.372505412439731, 6.296489971916085, 8.1657098725684, 9.937184443539813, 11.567208142259025, 13.013502692083827, 14.237905197520229, 15.209513674549484, 15.90812124070022, 16.32765940708467, 16.479242891908363, 16.400165368703803, 16.164362530005793, 15.85684807498174, 15.518739239693911, 15.160236552341328, 14.80085447869103, 14.468192426377342, 14.189535602353393, 13.985883815180255, 13.875824347427924, 13.879224477807172, 13.974158773195935, 14.13320473245076, 14.400687681285987, 14.81210758417131, 15.366055858262241, 16.061038827858017, 16.87087984502559, 17.777586808631888, 18.82411885927771, 20.079224825435166, 21.60296531175457, 23.438070587905358, 25.592739249714544, 28.037040439397703, 30.71506436549187, 33.55963820917045, 36.499956846208896, 39.46405381199178, 42.38021298700761, 45.179010554579584, 47.79632944176767, 50.17727940028553, 52.28076482371045, 54.08426307456837, 55.60167974944604, 56.87729166803432, 57.96097444544821, 58.910644048471056, 59.764167521096326, 60.53912160446518, 61.26926905190462, 61.989707938603814, 62.73731044743053, 63.55267383915782, 64.45168583372907, 65.44501052289536, 66.56707979619792, 67.84442380429884, 69.28912049413886, 70.91018204777038, 72.68925723183597]}, {\"marker\": {\"color\": \"rgb(0, 255, 0)\", \"size\": 5, \"symbol\": [\"circle\", \"circle\", \"circle\", \"circle\", \"circle\", \"circle\", \"circle\", \"circle\", \"circle\", \"circle\", \"circle\", \"circle\", \"circle\", \"circle\", \"circle\", \"circle\", \"circle\", \"circle\", \"circle\", \"circle\", \"square-x\", \"square-x\", \"square-x\", \"square-x\", \"square-x\", \"square-x\", \"square-x\", \"square-x\", \"square-x\", \"square-x\", \"square-x\", \"square-x\", \"square-x\", \"square-x\", \"square-x\", \"square-x\", \"square-x\", \"square-x\", \"square-x\", \"square-x\", \"square-x\", \"square-x\", \"square-x\", \"square-x\", \"square-x\", \"square-x\", \"square-x\", \"square-x\", \"square-x\", \"square-x\", \"square-x\", \"square-x\", \"square-x\", \"square-x\", \"square-x\", \"square-x\", \"square-x\", \"square-x\", \"square-x\", \"square-x\", \"square-x\", \"square-x\", \"square-x\", \"square-x\", \"square-x\", \"square-x\", \"square-x\", \"circle\", \"square-x\", \"square-x\", \"square-x\", \"square-x\", \"square-x\", \"square-x\", \"square-x\", \"square-x\", \"square-x\", \"square-x\", \"square-x\", \"square-x\", \"square-x\", \"square-x\", \"square-x\", \"square-x\", \"square-x\", \"square-x\", \"square-x\", \"square-x\", \"square-x\", \"square-x\", \"square-x\", \"square-x\", \"square-x\", \"square-x\", \"square-x\", \"square-x\", \"square-x\", \"square-x\", \"square-x\", \"square-x\", \"square-x\", \"square-x\", \"circle\", \"square-x\", \"square-x\", \"square-x\", \"square-x\", \"square-x\", \"square-x\"]}, \"mode\": \"markers\", \"name\": \"RF\", \"type\": \"scatter\", \"x\": [3.1750000000000003, 5.375005, 7.575010000000001, 9.775015, 11.97502, 14.175025, 16.37503, 18.575034999999996, 20.77504, 22.975044999999998, 25.175049999999995, 27.378018329909896, 29.591563468491213, 31.82147834455013, 34.06635384755432, 36.31847638762286, 38.56502749606814, 40.78783225223183, 42.96291324474907, 45.0607637844864, 47.036852013895505, 48.850125331570865, 50.4875913465986, 51.94908964359, 53.23377684864389, 54.34001019942783, 55.26807144070139, 56.02321006022176, 56.61461571180961, 57.05075305751232, 57.33315695550587, 57.45465416737649, 57.41514772382161, 57.23536318493304, 56.92288348156169, 56.450678030229994, 55.794698530167516, 54.94698649960161, 53.8994559622678, 52.64008161905048, 51.154423005615534, 49.426965930089324, 47.44221440713639, 45.1858589160727, 42.64611511075222, 39.815253144633246, 36.691298075234215, 33.27984421243056, 29.595884375060454, 25.665506874963047, 21.527259758759286, 17.232927132439475, 12.847412454883525, 8.44738694037902, 4.118347534796694, -0.050252084260407504, -3.9720750702901673, -7.57384329540271, -10.806710437698992, -13.66015915470914, -16.14271268275541, -18.261274323364916, -20.031329645447844, -21.491836566676785, -22.684114756951647, -23.616847911898407, -24.296053960830797, -24.80384237916331, -25.217546471708935, -25.488979360020824, -25.57327451446201, -25.47606556150856, -25.19975027246558, -24.755734933310418, -24.154037821659468, -23.402194296511414, -22.51519421303227, -21.52120983671685, -20.472476266961763, -19.447024220979216, -18.53538695526428, -17.8215568314274, -17.369312436448375, -17.21844147746244, -17.38573510463357, -17.866149087526704, -18.633171731602076, -19.63892648433623, -20.814803201367955, -22.073405898645476, -23.312544923039695, -24.421912932392434, -25.29240828184966, -25.829065208969283, -25.96287219852251, -25.66675567694076, -24.94323802571895, -23.802797802131874, -22.27796492274428, -20.42849739840952, -18.308146230990392, -15.928296317773773, -13.346562135247188, -10.644531387541225, -7.798398854595643, -4.771842103436597, -1.5793011540680566, 1.7552262236979406, 5.210834933118814], \"y\": [2.5625, 2.5625, 2.5625, 2.5625, 2.5625, 2.5625, 2.5625, 2.5625, 2.5625, 2.5625, 2.5625, 2.550478248930564, 2.4927401396461426, 2.3543478189510045, 2.11701262534999, 1.7714143851382298, 1.3054800316841804, 0.7011092868696038, -0.06190451034739519, -1.0004888186786323, -2.060136166478843, -3.126927687219615, -4.129618235042192, -5.020006983998271, -5.776644200631823, -6.41293796948571, -6.940249854619788, -7.369591676870179, -7.71119616143663, -7.971584434360096, -8.150166346051632, -8.238282214525547, -8.22613798564312, -8.066505107284437, -7.692907073549919, -7.10511247674038, -6.325449315782793, -5.3540344822471075, -4.196660222021647, -2.866297396113912, -1.3798737631212847, 0.2416119008087474, 1.972545951486702, 3.782328616249365, 5.63517170100005, 7.490136717470158, 9.301509665745414, 11.019616210034933, 12.592181197009012, 13.966324539075707, 15.091256937451321, 15.921688834056225, 16.42188977849507, 16.570229782351845, 16.36389794482776, 15.823327113276365, 14.995654686202084, 13.962066797755924, 12.859497899350279, 11.832046442594207, 10.944484324012898, 10.220655269673248, 9.690258485048677, 9.377037592335476, 9.292444858996019, 9.4366585235746, 9.80658636342079, 10.384927930186032, 11.117056460000438, 11.975339840409841, 12.985293506248574, 14.158216240295284, 15.484327735947398, 16.941712030573374, 18.487780383265275, 20.09492443438424, 21.790019416201183, 23.630030654954037, 25.666033270356255, 27.926099981354476, 30.404100402000434, 33.06067936444575, 35.83468025918131, 38.65367572941279, 41.43951622359891, 44.11178147498307, 46.59144744311914, 48.805392094001, 50.691839709842114, 52.20661045234148, 53.32977955907402, 54.072047627846615, 54.48991919401724, 54.678894726020985, 54.76752679509443, 54.89393891593369, 55.137062898552585, 55.538159841788016, 56.14428354304727, 56.990733247162396, 58.08640665625198, 59.43299436611123, 61.01224595120615, 62.787063792133665, 64.75842308439907, 66.93778858237688, 69.31594403506996, 71.86622751567572, 74.53504622287352]}, {\"marker\": {\"color\": \"rgb(153, 0, 204)\", \"size\": 5, \"symbol\": [\"circle\", \"circle\", \"circle\", \"circle\", \"circle\", \"circle\", \"circle\", \"circle\", \"circle\", \"circle\", \"circle\", \"circle\", \"circle\", \"circle\", \"circle\", \"circle\", \"circle\", \"circle\", \"circle\", \"circle\", \"circle\", \"circle\", \"circle\", \"circle\", \"circle\", \"circle\", \"circle\", \"circle\", \"circle\", \"circle\", \"circle\", \"circle\", \"circle\", \"square-x\", \"square-x\", \"square-x\", \"square-x\", \"square-x\", \"square-x\", \"square-x\", \"square-x\", \"square-x\", \"square-x\", \"square-x\", \"square-x\", \"square-x\", \"square-x\", \"square-x\", \"square-x\", \"square-x\", \"square-x\", \"square-x\", \"square-x\", \"square-x\", \"square-x\", \"square-x\", \"square-x\", \"square-x\", \"square-x\", \"square-x\", \"square-x\", \"square-x\", \"square-x\", \"circle\", \"square-x\", \"square-x\", \"square-x\", \"square-x\", \"square-x\", \"square-x\", \"square-x\", \"square-x\", \"square-x\", \"square-x\", \"square-x\", \"square-x\", \"square-x\", \"square-x\", \"square-x\", \"square-x\", \"square-x\", \"square-x\", \"square-x\", \"square-x\", \"square-x\", \"square-x\", \"square-x\", \"square-x\", \"square-x\", \"square-x\", \"square-x\", \"square-x\", \"square-x\", \"square-x\", \"square-x\", \"square-x\", \"square-x\", \"square-x\", \"circle\", \"circle\", \"square-x\", \"square-x\", \"square-x\", \"square-x\", \"square-x\", \"square-x\", \"square-x\", \"square-x\", \"square-x\"]}, \"mode\": \"markers\", \"name\": \"RR\", \"type\": \"scatter\", \"x\": [-5.658333333333334, -3.458328333333334, -1.2583233333333341, 0.941681666666665, 3.141686666666666, 5.341691666666665, 7.541696666666664, 9.741701666666664, 11.941706666666665, 14.141711666666662, 16.34171666666666, 18.544692144918674, 20.75847178428309, 22.990297872231952, 25.242788556861232, 27.515111478928198, 29.803674114348954, 32.101483491148336, 34.39747976591461, 36.676390423587485, 38.883588149883316, 40.93056762038762, 42.7672285256831, 44.37428999238929, 45.744202564557256, 46.88206468744419, 47.798132619118874, 48.51703345415722, 49.072449689376995, 49.49141920424186, 49.7768084790808, 49.90264043093352, 49.8596404472214, 49.66180147615741, 49.29333606605583, 48.72739510086298, 47.95020223558404, 46.95488868627911, 45.74111643888639, 44.30809000032463, 42.65373136265252, 40.776505274127175, 38.67684112579775, 36.35830065322473, 33.82871482757259, 31.101311195708444, 28.195778549211408, 25.139171346729775, 21.966519165455495, 18.720972726559715, 15.453289477614835, 12.220443700747213, 9.083146347837456, 6.102087632622105, 3.3327811829671146, 0.8190035766124462, -1.4149962116744634, -3.3715920999478324, -5.110520992991926, -6.723102682626562, -8.258631039467808, -9.747524470310992, -11.222822729576473, -12.716837990929825, -14.24360063018934, -15.775906758887029, -17.2824080046559, -18.78115239464557, -20.293109964412633, -21.769732554226717, -23.133733334722727, -24.349033326535245, -25.403600988475763, -26.273643217665345, -26.940890781877453, -27.39630467585693, -27.627152896510122, -27.641297933123354, -27.47548770780369, -27.18248951700534, -26.8281395104237, -26.48018652338012, -26.19336584670986, -25.998408585522416, -25.89944720224887, -25.876866685527954, -25.891559574656082, -25.889275153908105, -25.805438785366174, -25.571114703815073, -25.120602840902105, -24.40085866649803, -23.37620309688295, -22.03995828452355, -20.458718524742025, -18.74365414768937, -16.9680658307655, -15.18325395101351, -13.444656566014535, -11.812378418038946, -10.291954330747679, -8.827710559352004, -7.418421849923116, -6.063354908504804, -4.68103931881226, -3.2091862737824877, -1.6255335985997275, 0.10740801885294138, 2.0294750461272564], \"y\": [2.5625, 2.5625, 2.5625, 2.5625, 2.5625, 2.5625, 2.5625, 2.5625, 2.5625, 2.5625, 2.5625, 2.5617160123296285, 2.5580783072904483, 2.54935869845229, 2.532311720766865, 2.4984247441712077, 2.4308531690993016, 2.3058282587151635, 2.097059847264757, 1.7798099283675288, 1.3386968893758846, 0.7856652429247681, 0.16267435647618367, -0.4757591890439201, -1.093263496383452, -1.6793530153456802, -2.2256139429515014, -2.712866375078445, -3.112988959945942, -3.401655608592998, -3.575302907586368, -3.6562666861412803, -3.649885417108564, -3.5201944248579484, -3.2411901000299617, -2.81807637113947, -2.264457360355664, -1.5918342855452456, -0.810028562243668, 0.06724882701946244, 1.0213799446398413, 2.029713748419428, 3.066167922998128, 4.101691879324943, 5.104860449034236, 6.0427274842032315, 6.882020926209089, 7.590735478451976, 8.140151965720506, 8.507274874579345, 8.677625922062939, 8.648258582463214, 8.430764798048196, 8.05393076606474, 7.565564961548997, 7.032867945871155, 6.540530471348796, 6.192326604668652, 6.108112590557306, 6.363497706328339, 6.960888659320853, 7.8661189634332995, 9.028455122391733, 10.390535383855813, 11.897343907654864, 13.504510489021524, 15.176553605332911, 16.8467375163753, 18.450384685532498, 19.98751688384617, 21.475076578278983, 22.919356355549056, 24.315308579735923, 25.643650447849403, 26.869977491178094, 27.973684492628315, 28.99388339299816, 29.999669535612906, 31.049861697898766, 32.191115155038304, 33.44680197078346, 34.80879538903122, 36.23947550449732, 37.684162779956864, 39.08484340201695, 40.389392276786445, 41.55720631882009, 42.56352384110116, 43.40340131430713, 44.09527203676438, 44.683467955654166, 45.23873938598924, 45.866930415937766, 46.69951840372015, 47.85868679744023, 49.40773412633142, 51.339115263497675, 53.60651764499654, 56.16528955900085, 58.93759520782518, 61.79699221600679, 64.68746481184368, 67.56090463335593, 70.33958653924944, 73.02340023515019, 75.63180287589088, 78.14915638046564, 80.54450343555514, 82.7756000299437]}, {\"marker\": {\"color\": \"rgb(255, 102, 0)\", \"size\": 5, \"symbol\": [\"circle\", \"circle\", \"circle\", \"circle\", \"circle\", \"circle\", \"circle\", \"circle\", \"circle\", \"circle\", \"circle\", \"circle\", \"circle\", \"circle\", \"circle\", \"circle\", \"circle\", \"circle\", \"circle\", \"circle\", \"circle\", \"circle\", \"circle\", \"circle\", \"circle\", \"circle\", \"circle\", \"circle\", \"circle\", \"circle\", \"circle\", \"circle\", \"circle\", \"square-x\", \"square-x\", \"square-x\", \"square-x\", \"square-x\", \"square-x\", \"square-x\", \"square-x\", \"square-x\", \"square-x\", \"square-x\", \"square-x\", \"square-x\", \"square-x\", \"square-x\", \"square-x\", \"square-x\", \"square-x\", \"square-x\", \"square-x\", \"square-x\", \"square-x\", \"square-x\", \"square-x\", \"square-x\", \"square-x\", \"square-x\", \"square-x\", \"square-x\", \"square-x\", \"circle\", \"square-x\", \"square-x\", \"square-x\", \"square-x\", \"square-x\", \"square-x\", \"square-x\", \"square-x\", \"square-x\", \"square-x\", \"square-x\", \"square-x\", \"square-x\", \"square-x\", \"square-x\", \"square-x\", \"square-x\", \"square-x\", \"square-x\", \"square-x\", \"square-x\", \"square-x\", \"square-x\", \"square-x\", \"square-x\", \"square-x\", \"square-x\", \"square-x\", \"square-x\", \"square-x\", \"square-x\", \"square-x\", \"square-x\", \"square-x\", \"circle\", \"circle\", \"square-x\", \"square-x\", \"square-x\", \"square-x\", \"square-x\", \"square-x\", \"square-x\", \"square-x\", \"square-x\"]}, \"mode\": \"markers\", \"name\": \"LR\", \"type\": \"scatter\", \"x\": [-5.658333333333334, -3.458328333333334, -1.2583233333333341, 0.941681666666665, 3.141686666666666, 5.341691666666665, 7.541696666666664, 9.741701666666664, 11.941706666666665, 14.141711666666662, 16.34171666666666, 18.5381721218145, 20.72056331909323, 22.87715476761564, 25.001836723199556, 27.093308298923212, 29.150745360093953, 31.170443710313414, 33.14487308673398, 35.063292565631464, 36.91162368823175, 38.660525495822725, 40.276888956075744, 41.737768866071434, 43.02695809935655, 44.135692284806346, 45.06275423640567, 45.81525415170258, 46.40462192624797, 46.8399982345751, 47.1225245029901, 47.244206893238875, 47.2045505135905, 47.02408348588166, 46.71050027481547, 46.240105284877544, 45.59406067653905, 44.77210272309832, 43.77623108910954, 42.60607969161989, 41.26055114541376, 39.739068824805884, 38.04233403855291, 36.17300970342144, 34.13639541243955, 31.94108164708501, 29.599538525451823, 27.128569129676492, 24.549536125118166, 21.888251541338263, 19.174405585599605, 16.440405592001646, 13.719506595926916, 11.043147910939624, 8.43747437609583, 5.9191284709088645, 3.490571139396075, 1.1363232007584618, -1.193443667607324, -3.550312613944007, -5.947393932122895, -8.381449160558567, -10.838851910676455, -13.304857936010023, -15.75493356879801, -18.136028418085008, -20.398002206331327, -22.530221163991232, -24.547823982056233, -26.41830697093742, -28.059409362363013, -29.432147638687194, -30.52723610067382, -31.322409374858516, -31.80414665109102, -31.96747206814005, -31.806753222670633, -31.336890302562225, -30.599124012462784, -29.657003037586048, -28.593480514953473, -27.49442365085188, -26.428223465454522, -25.43590814786638, -24.53329268784047, -23.717178612989347, -22.970749865746736, -22.267813856235083, -21.576769338900124, -20.86500798156987, -20.104110731370778, -19.275873224288326, -18.373242626582122, -17.410414474886743, -16.45028777138605, -15.560620236740883, -14.76453960854025, -14.06253701608261, -13.456844018666844, -12.941925687668771, -12.444794065888438, -11.876294827394888, -11.21787948154775, -10.445243106123863, -9.476285495898999, -8.25335494407599, -6.750463402767968, -4.92762942522805, -2.7516009834464805], \"y\": [-2.5625, -2.5625, -2.5625, -2.5625, -2.5625, -2.5625, -2.5625, -2.5625, -2.5625, -2.5625, -2.5625, -2.5632798402832027, -2.5667814906227546, -2.574392235958728, -2.5870209714748764, -2.609187915118618, -2.6523848778415475, -2.733892956441768, -2.872507689983536, -3.084708578191746, -3.391734503423641, -3.809172485733434, -4.316592751885165, -4.870572194221687, -5.438629708377112, -6.006368571826754, -6.559587881888525, -7.0678650663328675, -7.488868303149768, -7.7874955328961395, -7.95941075004054, -8.037859561530357, -8.033505204947362, -7.914289189855136, -7.667767138271567, -7.29903769336656, -6.81574530485457, -6.228758960255941, -5.543404795148922, -4.766878385731852, -3.9106251123622844, -2.9891855944265346, -2.0194024241936273, -1.0199574901576065, -0.010895375640738614, 0.9869970138364805, 1.9530166729034057, 2.8676092403331284, 3.713680641279896, 4.478134779043452, 5.153577126870641, 5.740072440490817, 6.246780217073355, 6.693214658262379, 7.109788257421458, 7.537200239679462, 8.024118677055077, 8.63042517561653, 9.412977221212822, 10.388299338715871, 11.535143575001866, 12.80570024610138, 14.139051116034086, 15.481690217897683, 16.79443465101224, 18.05373578062718, 19.245791589340044, 20.34103406399644, 21.307486998727995, 22.14538177588709, 22.890470753316396, 23.57324769942508, 24.19703670205077, 24.762977245134046, 25.25307695293841, 25.65634686687597, 26.02798283607469, 26.448863706094034, 26.98679373929708, 27.703085761589183, 28.635440818497575, 29.785156463983174, 31.11985961080788, 32.590125259714526, 34.14528402462694, 35.74166461379516, 37.345971862708566, 38.93714230167974, 40.507891046232686, 42.065940984708426, 43.634453220290595, 45.250954832710995, 46.97869097136657, 48.89791534573348, 51.052134447794, 53.42443925886879, 55.96621988604143, 58.60747940767371, 61.2902750678582, 63.9365698992666, 66.44789600718535, 68.80714428489028, 71.00034451587885, 72.99753327001113, 74.83205694694904, 76.53843809781284, 78.12233283953454, 79.5884579676498, 80.92981103890615]}],\n",
       "                        {\"annotations\": [{\"arrowcolor\": \"rgb(255, 0, 0)\", \"arrowhead\": 1, \"arrowsize\": 2.5, \"arrowwidth\": 1.7, \"ax\": 4.931961555589352, \"axref\": \"x\", \"ay\": 78.66290042810007, \"ayref\": \"y\", \"showarrow\": true, \"text\": \"\", \"x\": -44.64804126935213, \"xref\": \"x\", \"y\": 75.32928526593504, \"yref\": \"y\"}, {\"arrowcolor\": \"rgb(0, 0, 0)\", \"arrowhead\": 1, \"arrowsize\": 2, \"arrowwidth\": 1.5, \"ax\": 4.931961555589352, \"axref\": \"x\", \"ay\": 78.66290042810007, \"ayref\": \"y\", \"showarrow\": true, \"text\": \"\", \"x\": 9.018318486838554, \"xref\": \"x\", \"y\": 71.97011153694694, \"yref\": \"y\"}, {\"arrowcolor\": \"rgb(0, 0, 255)\", \"arrowhead\": 1, \"arrowsize\": 2, \"arrowwidth\": 1.5, \"ax\": 4.931961555589352, \"axref\": \"x\", \"ay\": 78.66290042810007, \"ayref\": \"y\", \"showarrow\": true, \"text\": \"\", \"x\": 8.70154509683394, \"xref\": \"x\", \"y\": 80.96446171775159, \"yref\": \"y\"}], \"autosize\": false, \"font\": {\"color\": \"black\", \"family\": \"Arial\", \"size\": 16}, \"height\": 700, \"showlegend\": false, \"template\": {\"data\": {\"bar\": [{\"error_x\": {\"color\": \"#2a3f5f\"}, \"error_y\": {\"color\": \"#2a3f5f\"}, \"marker\": {\"line\": {\"color\": \"white\", \"width\": 0.5}}, \"type\": \"bar\"}], \"barpolar\": [{\"marker\": {\"line\": {\"color\": \"white\", \"width\": 0.5}}, \"type\": \"barpolar\"}], \"carpet\": [{\"aaxis\": {\"endlinecolor\": \"#2a3f5f\", \"gridcolor\": \"#C8D4E3\", \"linecolor\": \"#C8D4E3\", \"minorgridcolor\": \"#C8D4E3\", \"startlinecolor\": \"#2a3f5f\"}, \"baxis\": {\"endlinecolor\": \"#2a3f5f\", \"gridcolor\": \"#C8D4E3\", \"linecolor\": \"#C8D4E3\", \"minorgridcolor\": \"#C8D4E3\", \"startlinecolor\": \"#2a3f5f\"}, \"type\": \"carpet\"}], \"choropleth\": [{\"colorbar\": {\"outlinewidth\": 0, \"ticks\": \"\"}, \"type\": \"choropleth\"}], \"contour\": [{\"colorbar\": {\"outlinewidth\": 0, \"ticks\": \"\"}, \"colorscale\": [[0.0, \"#0d0887\"], [0.1111111111111111, \"#46039f\"], [0.2222222222222222, \"#7201a8\"], [0.3333333333333333, \"#9c179e\"], [0.4444444444444444, \"#bd3786\"], [0.5555555555555556, \"#d8576b\"], [0.6666666666666666, \"#ed7953\"], [0.7777777777777778, \"#fb9f3a\"], [0.8888888888888888, \"#fdca26\"], [1.0, \"#f0f921\"]], \"type\": \"contour\"}], \"contourcarpet\": [{\"colorbar\": {\"outlinewidth\": 0, \"ticks\": \"\"}, \"type\": \"contourcarpet\"}], \"heatmap\": [{\"colorbar\": {\"outlinewidth\": 0, \"ticks\": \"\"}, \"colorscale\": [[0.0, \"#0d0887\"], [0.1111111111111111, \"#46039f\"], [0.2222222222222222, \"#7201a8\"], [0.3333333333333333, \"#9c179e\"], [0.4444444444444444, \"#bd3786\"], [0.5555555555555556, \"#d8576b\"], [0.6666666666666666, \"#ed7953\"], [0.7777777777777778, \"#fb9f3a\"], [0.8888888888888888, \"#fdca26\"], [1.0, \"#f0f921\"]], \"type\": \"heatmap\"}], \"heatmapgl\": [{\"colorbar\": {\"outlinewidth\": 0, \"ticks\": \"\"}, \"colorscale\": [[0.0, \"#0d0887\"], [0.1111111111111111, \"#46039f\"], [0.2222222222222222, \"#7201a8\"], [0.3333333333333333, \"#9c179e\"], [0.4444444444444444, \"#bd3786\"], [0.5555555555555556, \"#d8576b\"], [0.6666666666666666, \"#ed7953\"], [0.7777777777777778, \"#fb9f3a\"], [0.8888888888888888, \"#fdca26\"], [1.0, \"#f0f921\"]], \"type\": \"heatmapgl\"}], \"histogram\": [{\"marker\": {\"colorbar\": {\"outlinewidth\": 0, \"ticks\": \"\"}}, \"type\": \"histogram\"}], \"histogram2d\": [{\"colorbar\": {\"outlinewidth\": 0, \"ticks\": \"\"}, \"colorscale\": [[0.0, \"#0d0887\"], [0.1111111111111111, \"#46039f\"], [0.2222222222222222, \"#7201a8\"], [0.3333333333333333, \"#9c179e\"], [0.4444444444444444, \"#bd3786\"], [0.5555555555555556, \"#d8576b\"], [0.6666666666666666, \"#ed7953\"], [0.7777777777777778, \"#fb9f3a\"], [0.8888888888888888, \"#fdca26\"], [1.0, \"#f0f921\"]], \"type\": \"histogram2d\"}], \"histogram2dcontour\": [{\"colorbar\": {\"outlinewidth\": 0, \"ticks\": \"\"}, \"colorscale\": [[0.0, \"#0d0887\"], [0.1111111111111111, \"#46039f\"], [0.2222222222222222, \"#7201a8\"], [0.3333333333333333, \"#9c179e\"], [0.4444444444444444, \"#bd3786\"], [0.5555555555555556, \"#d8576b\"], [0.6666666666666666, \"#ed7953\"], [0.7777777777777778, \"#fb9f3a\"], [0.8888888888888888, \"#fdca26\"], [1.0, \"#f0f921\"]], \"type\": \"histogram2dcontour\"}], \"mesh3d\": [{\"colorbar\": {\"outlinewidth\": 0, \"ticks\": \"\"}, \"type\": \"mesh3d\"}], \"parcoords\": [{\"line\": {\"colorbar\": {\"outlinewidth\": 0, \"ticks\": \"\"}}, \"type\": \"parcoords\"}], \"pie\": [{\"automargin\": true, \"type\": \"pie\"}], \"scatter\": [{\"marker\": {\"colorbar\": {\"outlinewidth\": 0, \"ticks\": \"\"}}, \"type\": \"scatter\"}], \"scatter3d\": [{\"line\": {\"colorbar\": {\"outlinewidth\": 0, \"ticks\": \"\"}}, \"marker\": {\"colorbar\": {\"outlinewidth\": 0, \"ticks\": \"\"}}, \"type\": \"scatter3d\"}], \"scattercarpet\": [{\"marker\": {\"colorbar\": {\"outlinewidth\": 0, \"ticks\": \"\"}}, \"type\": \"scattercarpet\"}], \"scattergeo\": [{\"marker\": {\"colorbar\": {\"outlinewidth\": 0, \"ticks\": \"\"}}, \"type\": \"scattergeo\"}], \"scattergl\": [{\"marker\": {\"colorbar\": {\"outlinewidth\": 0, \"ticks\": \"\"}}, \"type\": \"scattergl\"}], \"scattermapbox\": [{\"marker\": {\"colorbar\": {\"outlinewidth\": 0, \"ticks\": \"\"}}, \"type\": \"scattermapbox\"}], \"scatterpolar\": [{\"marker\": {\"colorbar\": {\"outlinewidth\": 0, \"ticks\": \"\"}}, \"type\": \"scatterpolar\"}], \"scatterpolargl\": [{\"marker\": {\"colorbar\": {\"outlinewidth\": 0, \"ticks\": \"\"}}, \"type\": \"scatterpolargl\"}], \"scatterternary\": [{\"marker\": {\"colorbar\": {\"outlinewidth\": 0, \"ticks\": \"\"}}, \"type\": \"scatterternary\"}], \"surface\": [{\"colorbar\": {\"outlinewidth\": 0, \"ticks\": \"\"}, \"colorscale\": [[0.0, \"#0d0887\"], [0.1111111111111111, \"#46039f\"], [0.2222222222222222, \"#7201a8\"], [0.3333333333333333, \"#9c179e\"], [0.4444444444444444, \"#bd3786\"], [0.5555555555555556, \"#d8576b\"], [0.6666666666666666, \"#ed7953\"], [0.7777777777777778, \"#fb9f3a\"], [0.8888888888888888, \"#fdca26\"], [1.0, \"#f0f921\"]], \"type\": \"surface\"}], \"table\": [{\"cells\": {\"fill\": {\"color\": \"#EBF0F8\"}, \"line\": {\"color\": \"white\"}}, \"header\": {\"fill\": {\"color\": \"#C8D4E3\"}, \"line\": {\"color\": \"white\"}}, \"type\": \"table\"}]}, \"layout\": {\"annotationdefaults\": {\"arrowcolor\": \"#2a3f5f\", \"arrowhead\": 0, \"arrowwidth\": 1}, \"coloraxis\": {\"colorbar\": {\"outlinewidth\": 0, \"ticks\": \"\"}}, \"colorscale\": {\"diverging\": [[0, \"#8e0152\"], [0.1, \"#c51b7d\"], [0.2, \"#de77ae\"], [0.3, \"#f1b6da\"], [0.4, \"#fde0ef\"], [0.5, \"#f7f7f7\"], [0.6, \"#e6f5d0\"], [0.7, \"#b8e186\"], [0.8, \"#7fbc41\"], [0.9, \"#4d9221\"], [1, \"#276419\"]], \"sequential\": [[0.0, \"#0d0887\"], [0.1111111111111111, \"#46039f\"], [0.2222222222222222, \"#7201a8\"], [0.3333333333333333, \"#9c179e\"], [0.4444444444444444, \"#bd3786\"], [0.5555555555555556, \"#d8576b\"], [0.6666666666666666, \"#ed7953\"], [0.7777777777777778, \"#fb9f3a\"], [0.8888888888888888, \"#fdca26\"], [1.0, \"#f0f921\"]], \"sequentialminus\": [[0.0, \"#0d0887\"], [0.1111111111111111, \"#46039f\"], [0.2222222222222222, \"#7201a8\"], [0.3333333333333333, \"#9c179e\"], [0.4444444444444444, \"#bd3786\"], [0.5555555555555556, \"#d8576b\"], [0.6666666666666666, \"#ed7953\"], [0.7777777777777778, \"#fb9f3a\"], [0.8888888888888888, \"#fdca26\"], [1.0, \"#f0f921\"]]}, \"colorway\": [\"#636efa\", \"#EF553B\", \"#00cc96\", \"#ab63fa\", \"#FFA15A\", \"#19d3f3\", \"#FF6692\", \"#B6E880\", \"#FF97FF\", \"#FECB52\"], \"font\": {\"color\": \"#2a3f5f\"}, \"geo\": {\"bgcolor\": \"white\", \"lakecolor\": \"white\", \"landcolor\": \"white\", \"showlakes\": true, \"showland\": true, \"subunitcolor\": \"#C8D4E3\"}, \"hoverlabel\": {\"align\": \"left\"}, \"hovermode\": \"closest\", \"mapbox\": {\"style\": \"light\"}, \"paper_bgcolor\": \"white\", \"plot_bgcolor\": \"white\", \"polar\": {\"angularaxis\": {\"gridcolor\": \"#EBF0F8\", \"linecolor\": \"#EBF0F8\", \"ticks\": \"\"}, \"bgcolor\": \"white\", \"radialaxis\": {\"gridcolor\": \"#EBF0F8\", \"linecolor\": \"#EBF0F8\", \"ticks\": \"\"}}, \"scene\": {\"xaxis\": {\"backgroundcolor\": \"white\", \"gridcolor\": \"#DFE8F3\", \"gridwidth\": 2, \"linecolor\": \"#EBF0F8\", \"showbackground\": true, \"ticks\": \"\", \"zerolinecolor\": \"#EBF0F8\"}, \"yaxis\": {\"backgroundcolor\": \"white\", \"gridcolor\": \"#DFE8F3\", \"gridwidth\": 2, \"linecolor\": \"#EBF0F8\", \"showbackground\": true, \"ticks\": \"\", \"zerolinecolor\": \"#EBF0F8\"}, \"zaxis\": {\"backgroundcolor\": \"white\", \"gridcolor\": \"#DFE8F3\", \"gridwidth\": 2, \"linecolor\": \"#EBF0F8\", \"showbackground\": true, \"ticks\": \"\", \"zerolinecolor\": \"#EBF0F8\"}}, \"shapedefaults\": {\"line\": {\"color\": \"#2a3f5f\"}}, \"ternary\": {\"aaxis\": {\"gridcolor\": \"#DFE8F3\", \"linecolor\": \"#A2B1C6\", \"ticks\": \"\"}, \"baxis\": {\"gridcolor\": \"#DFE8F3\", \"linecolor\": \"#A2B1C6\", \"ticks\": \"\"}, \"bgcolor\": \"white\", \"caxis\": {\"gridcolor\": \"#DFE8F3\", \"linecolor\": \"#A2B1C6\", \"ticks\": \"\"}}, \"title\": {\"x\": 0.05}, \"xaxis\": {\"automargin\": true, \"gridcolor\": \"#EBF0F8\", \"linecolor\": \"#EBF0F8\", \"ticks\": \"\", \"title\": {\"standoff\": 15}, \"zerolinecolor\": \"#EBF0F8\", \"zerolinewidth\": 2}, \"yaxis\": {\"automargin\": true, \"gridcolor\": \"#EBF0F8\", \"linecolor\": \"#EBF0F8\", \"ticks\": \"\", \"title\": {\"standoff\": 15}, \"zerolinecolor\": \"#EBF0F8\", \"zerolinewidth\": 2}}}, \"title\": {\"text\": \"Vehicle Motion in Global Reference Frame\"}, \"width\": 1200, \"xaxis\": {\"linecolor\": \"black\", \"linewidth\": 1, \"showgrid\": false, \"showline\": true, \"tickcolor\": \"black\", \"ticklen\": 10, \"ticks\": \"outside\", \"tickwidth\": 1, \"title\": {\"text\": \"x-axis - Forward (ft)\"}, \"zeroline\": false}, \"yaxis\": {\"autorange\": \"reversed\", \"linecolor\": \"black\", \"linewidth\": 1, \"scaleanchor\": \"x\", \"scaleratio\": 1.7142857142857142, \"showgrid\": false, \"showline\": true, \"tickcolor\": \"black\", \"ticklen\": 10, \"ticks\": \"outside\", \"tickwidth\": 1, \"title\": {\"text\": \"y-axis - Rightward (ft)\"}, \"zeroline\": false}},\n",
       "                        {\"responsive\": true}\n",
       "                    ).then(function(){\n",
       "                            \n",
       "var gd = document.getElementById('454bd530-ebac-40be-b17a-1cdc30d96fad');\n",
       "var x = new MutationObserver(function (mutations, observer) {{\n",
       "        var display = window.getComputedStyle(gd).display;\n",
       "        if (!display || display === 'none') {{\n",
       "            console.log([gd, 'removed!']);\n",
       "            Plotly.purge(gd);\n",
       "            observer.disconnect();\n",
       "        }}\n",
       "}});\n",
       "\n",
       "// Listen for the removal of the full notebook cells\n",
       "var notebookContainer = gd.closest('#notebook-container');\n",
       "if (notebookContainer) {{\n",
       "    x.observe(notebookContainer, {childList: true});\n",
       "}}\n",
       "\n",
       "// Listen for the clearing of the current output cell\n",
       "var outputEl = gd.closest('.output');\n",
       "if (outputEl) {{\n",
       "    x.observe(outputEl, {childList: true});\n",
       "}}\n",
       "\n",
       "                        })\n",
       "                };\n",
       "                });\n",
       "            </script>\n",
       "        </div>"
      ]
     },
     "metadata": {},
     "output_type": "display_data"
    }
   ],
   "source": [
    "run.global_motion(109)"
   ]
  },
  {
   "cell_type": "markdown",
   "metadata": {},
   "source": [
    "### Compare to PC Crash Model"
   ]
  },
  {
   "cell_type": "code",
   "execution_count": 148,
   "metadata": {},
   "outputs": [],
   "source": [
    "from pycrash.visualization.kinematics_compare import compare_kinematics"
   ]
  },
  {
   "cell_type": "code",
   "execution_count": 168,
   "metadata": {},
   "outputs": [],
   "source": [
    "# calculate vehicle slip angle for pycrash model - need to add\n",
    "phi_rad = []\n",
    "phi_deg = []\n",
    "for i in range(len(run.veh.model.t)):\n",
    "    phi_rad.append(math.atan2(run.veh.model.vy[i], run.veh.model.vx[i]) * -1) \n",
    "    phi_deg.append(math.atan2(run.veh.model.vy[i], run.veh.model.vx[i]) * (180 / math.pi)  * -1 )\n",
    "    \n",
    "run.veh.model['phi_rad'] = phi_rad\n",
    "run.veh.model['phi_deg'] = phi_deg"
   ]
  },
  {
   "cell_type": "code",
   "execution_count": 169,
   "metadata": {},
   "outputs": [
    {
     "data": {
      "application/vnd.plotly.v1+json": {
       "config": {
        "plotlyServerURL": "https://plot.ly"
       },
       "data": [
        {
         "line": {
          "color": "rgb(0, 255, 0)",
          "width": 2
         },
         "mode": "lines",
         "name": "pycrash - X",
         "type": "scatter",
         "x": [
          0,
          0.1,
          0.2,
          0.3,
          0.4,
          0.5,
          0.6,
          0.7,
          0.8,
          0.9,
          1,
          1.1,
          1.2,
          1.3,
          1.4,
          1.5,
          1.6,
          1.7,
          1.8,
          1.9,
          2,
          2.1,
          2.2,
          2.3,
          2.4,
          2.5,
          2.6,
          2.7,
          2.8,
          2.9,
          3,
          3.1,
          3.2,
          3.3,
          3.4,
          3.5,
          3.6,
          3.7,
          3.8,
          3.9,
          4,
          4.1,
          4.2,
          4.3,
          4.4,
          4.5,
          4.6,
          4.7,
          4.8,
          4.9,
          5,
          5.1,
          5.2,
          5.3,
          5.4,
          5.5,
          5.6,
          5.7,
          5.8,
          5.9,
          6,
          6.1,
          6.2,
          6.3,
          6.4,
          6.5,
          6.6,
          6.7,
          6.8,
          6.9,
          7,
          7.1,
          7.2,
          7.3,
          7.4,
          7.5,
          7.6,
          7.7,
          7.8,
          7.9,
          8,
          8.1,
          8.2,
          8.3,
          8.4,
          8.5,
          8.6,
          8.7,
          8.8,
          8.9,
          9,
          9.1,
          9.2,
          9.3,
          9.4,
          9.5,
          9.6,
          9.7,
          9.8,
          9.9,
          10,
          10.1,
          10.2,
          10.3,
          10.4,
          10.5,
          10.6,
          10.7,
          10.8,
          10.9
         ],
         "xaxis": "x",
         "y": [
          0,
          2.200005,
          4.40001,
          6.600014999999999,
          8.80002,
          11.000024999999999,
          13.200029999999998,
          15.400034999999997,
          17.60004,
          19.800044999999997,
          22.000049999999995,
          24.199883306641915,
          26.398647979706496,
          28.59425631919966,
          30.78350649900053,
          32.96215722786497,
          35.12452133618328,
          37.26274161140343,
          39.3660339904581,
          41.42010606087569,
          43.40686336733721,
          45.308843151043526,
          47.11479123959617,
          48.81609546085548,
          50.40125400980874,
          51.856129600535986,
          53.16652964291748,
          54.32060561332561,
          55.31018555323981,
          56.131100529072285,
          56.782878958330116,
          57.26814858516978,
          57.59195689233187,
          57.76111389176391,
          57.78360190246181,
          57.668072526056484,
          57.42344234411723,
          57.05859278477174,
          56.58217142109341,
          56.002482726846324,
          55.32744904915887,
          54.56461942384806,
          53.72120510120566,
          52.80412497266867,
          51.82004963321544,
          50.775438006317316,
          49.6765644058568,
          48.52953638749001,
          47.340304961327384,
          46.11466908636031,
          44.858276225176034,
          43.57662038994496,
          42.27503873089424,
          40.95870739050469,
          39.63263709702041,
          38.30166879600836,
          36.970469503319485,
          35.643528489795415,
          34.32515386299085,
          33.019469583467554,
          31.73041293585562,
          30.461732463582386,
          29.216986368473517,
          27.999541370966337,
          26.812572022683863,
          25.659060460158805,
          24.541796586290914,
          23.463378664483603,
          22.426214309201452,
          21.432521855822632,
          20.48433209205647,
          19.583490332799606,
          18.731658820073804,
          17.93031942958996,
          17.180776665492225,
          16.484160924933338,
          15.84143201430101,
          15.25338289914419,
          14.720643670125801,
          14.243685707647375,
          13.822826028144261,
          13.458231795431034,
          13.14992498088181,
          12.897787156654257,
          12.701564406606424,
          12.560872340008567,
          12.475201193615902,
          12.443921008139741,
          12.466286865632338,
          12.541444174782994,
          12.668433991607879,
          12.846198363502504,
          13.073585685112302,
          13.349356054962396,
          13.67218662227123,
          14.040676913853561,
          14.453354131495113,
          14.908678410653852,
          15.40504803181009,
          15.940804576248993,
          16.514238018514437,
          17.12359174822094,
          17.767067514351563,
          18.44283028560247,
          19.14901302075951,
          19.88372134350885,
          20.64503811649037,
          21.431027909801468,
          22.23974135954725,
          23.069219412412465
         ],
         "yaxis": "y"
        },
        {
         "line": {
          "color": "rgb(0, 255, 0)",
          "dash": "dash",
          "width": 2
         },
         "mode": "lines",
         "name": "validate - X",
         "type": "scatter",
         "x": [
          0,
          0.1,
          0.2,
          0.3,
          0.4,
          0.5,
          0.6,
          0.7,
          0.8,
          0.9,
          1,
          1.1,
          1.2,
          1.3,
          1.4,
          1.5,
          1.6,
          1.7,
          1.8,
          1.9,
          2,
          2.1,
          2.2,
          2.3,
          2.4,
          2.5,
          2.6,
          2.7,
          2.8,
          2.9,
          3,
          3.1,
          3.2,
          3.3,
          3.4,
          3.5,
          3.6,
          3.7,
          3.8,
          3.9,
          4,
          4.1,
          4.2,
          4.3,
          4.4,
          4.5,
          4.6,
          4.7,
          4.8,
          4.9,
          5,
          5.1,
          5.2,
          5.3,
          5.4,
          5.5,
          5.6,
          5.7,
          5.8,
          5.9,
          6,
          6.1,
          6.2,
          6.3,
          6.4,
          6.5,
          6.6,
          6.7,
          6.8,
          6.9,
          7,
          7.1,
          7.2,
          7.3,
          7.4,
          7.5,
          7.6,
          7.7,
          7.8,
          7.9,
          8,
          8.1,
          8.2,
          8.3,
          8.4,
          8.5,
          8.6,
          8.7,
          8.8,
          8.9,
          9,
          9.1,
          9.2,
          9.3,
          9.4,
          9.5,
          9.6,
          9.7,
          9.8,
          9.9,
          10,
          10.1,
          10.2,
          10.3,
          10.4,
          10.5,
          10.6,
          10.7,
          10.8,
          10.9
         ],
         "xaxis": "x",
         "y": [
          0,
          2.200005,
          4.40001,
          6.600014999999999,
          8.80002,
          11.000024999999999,
          13.200029999999998,
          15.400034999999997,
          17.60004,
          19.800044999999997,
          22.000049999999995,
          24.200054999999995,
          26.398593329999994,
          28.591264979999995,
          30.77220326999999,
          32.932608179999995,
          35.060013014999996,
          37.13828440499999,
          39.14688896999999,
          41.06235998999999,
          42.859030739999994,
          44.514167834999995,
          46.014571245,
          47.352907619999996,
          48.522576945,
          49.518445875,
          50.336847735,
          50.97558252,
          51.433916895,
          51.713317530000005,
          51.81671776500001,
          51.74778427500001,
          51.511650405000005,
          51.11491617000001,
          50.565648255000006,
          49.87264668,
          49.044711465,
          48.09064263,
          47.0214402,
          45.8481042,
          44.58090132,
          43.23229825500001,
          41.814028365000006,
          40.33709167500001,
          38.813221545000005,
          37.25415133500001,
          35.671614405000014,
          34.07661078,
          32.47940715000001,
          30.89100354,
          29.322399975000007,
          27.783129810000013,
          26.282726400000005,
          24.82998976500001,
          23.432986590000002,
          22.099783560000006,
          20.83771402500001,
          19.653378000000004,
          18.55190883000001,
          17.538439860000004,
          16.618837770000006,
          15.796769235000008,
          15.075167595000005,
          14.456966190000008,
          13.944365025000005,
          13.538830770000006,
          13.240363425000007,
          13.049696325000006,
          12.966829470000008,
          12.990296190000008,
          13.118629815000007,
          13.350363675000006,
          13.682564430000008,
          14.112298740000007,
          14.63663326500001,
          15.251167995000007,
          15.951502920000005,
          16.73323803000001,
          17.591239980000008,
          18.52037542500001,
          19.51624435500001,
          20.572980090000005,
          21.683982615,
          22.84338525000002,
          24.045321315000013,
          25.28392413000001,
          26.552593680000005,
          27.84472995,
          29.15446626000002,
          30.475935930000016,
          31.802538945000013,
          33.127675290000006,
          34.445478285,
          35.750814585000015,
          37.03781751000001,
          38.300620380000005,
          39.53408985,
          40.732359239999994,
          41.89029520500001,
          43.00423107,
          44.069766825,
          45.08250246,
          46.0387713,
          46.93417333500001,
          47.765775225000006,
          48.531376965,
          49.228045214999995,
          49.85284663499999,
          50.404314555,
          50.880982304999996
         ],
         "yaxis": "y"
        },
        {
         "line": {
          "color": "rgb(0, 0, 255)",
          "width": 2
         },
         "mode": "lines",
         "name": "pycrash - Y",
         "type": "scatter",
         "x": [
          0,
          0.1,
          0.2,
          0.3,
          0.4,
          0.5,
          0.6,
          0.7,
          0.8,
          0.9,
          1,
          1.1,
          1.2,
          1.3,
          1.4,
          1.5,
          1.6,
          1.7,
          1.8,
          1.9,
          2,
          2.1,
          2.2,
          2.3,
          2.4,
          2.5,
          2.6,
          2.7,
          2.8,
          2.9,
          3,
          3.1,
          3.2,
          3.3,
          3.4,
          3.5,
          3.6,
          3.7,
          3.8,
          3.9,
          4,
          4.1,
          4.2,
          4.3,
          4.4,
          4.5,
          4.6,
          4.7,
          4.8,
          4.9,
          5,
          5.1,
          5.2,
          5.3,
          5.4,
          5.5,
          5.6,
          5.7,
          5.8,
          5.9,
          6,
          6.1,
          6.2,
          6.3,
          6.4,
          6.5,
          6.6,
          6.7,
          6.8,
          6.9,
          7,
          7.1,
          7.2,
          7.3,
          7.4,
          7.5,
          7.6,
          7.7,
          7.8,
          7.9,
          8,
          8.1,
          8.2,
          8.3,
          8.4,
          8.5,
          8.6,
          8.7,
          8.8,
          8.9,
          9,
          9.1,
          9.2,
          9.3,
          9.4,
          9.5,
          9.6,
          9.7,
          9.8,
          9.9,
          10,
          10.1,
          10.2,
          10.3,
          10.4,
          10.5,
          10.6,
          10.7,
          10.8,
          10.9
         ],
         "xaxis": "x",
         "y": [
          0,
          0,
          0,
          0,
          0,
          0,
          0,
          0,
          0,
          0,
          0,
          -0.004725352360459593,
          -0.02796929319970194,
          -0.08590552038371017,
          -0.19037838890530243,
          -0.3502006669775436,
          -0.5741557742206984,
          -0.872604744462448,
          -1.2573892206581714,
          -1.7406938159420031,
          -2.3334906781450266,
          -3.0413335900519582,
          -3.8615107558508655,
          -4.787861027850789,
          -5.815188856393766,
          -6.9381511852203115,
          -8.149234305864907,
          -9.437968609661622,
          -10.791352912391758,
          -12.194835768903,
          -13.63334093131126,
          -15.092097267633513,
          -16.557215527770925,
          -18.016034625902368,
          -19.457282400786927,
          -20.87109639209251,
          -22.248946548501007,
          -23.583498267367393,
          -24.86844963518942,
          -26.09836984848724,
          -27.268556893223778,
          -28.374923333608542,
          -29.413911362705516,
          -30.38243321016818,
          -31.277830702208526,
          -32.09784761021356,
          -32.84060951297319,
          -33.504607429385196,
          -34.08868292018562,
          -34.59201345862476,
          -35.01409758721238,
          -35.35473977633671,
          -35.61403508032997,
          -35.792353738055084,
          -35.890325853937675,
          -35.90882626184252,
          -35.848959639295025,
          -35.712045911914444,
          -35.49960596934236,
          -35.213347703056236,
          -34.855152370939344,
          -34.42706129118343,
          -33.93126286745922,
          -33.37007994734004,
          -32.74595751620212,
          -32.06145072903331,
          -31.31921328268549,
          -30.521986131095186,
          -29.672586545882385,
          -28.773897524536096,
          -27.82885754812423,
          -26.84045069013838,
          -25.811697077715188,
          -24.74564370607446,
          -23.645355606589124,
          -22.513907368461663,
          -21.354375013530404,
          -20.16982822327472,
          -18.96332291663324,
          -17.73789417679901,
          -16.496549524712975,
          -15.242262536543985,
          -13.9779668020238,
          -12.706550220098931,
          -11.430849627970868,
          -10.153645759221934,
          -8.877658526368448,
          -7.605542622844196,
          -6.339883439098456,
          -5.083193287192771,
          -3.8379079279994697,
          -2.6063833948443036,
          -1.3908931071927895,
          -0.19362526775741729,
          0.9833194638008731,
          2.137930027589011,
          3.2682867577937937,
          4.372562921916659,
          5.44902601238867,
          6.496038798136684,
          7.51206014376874,
          8.495645604126421,
          9.445447802017203,
          10.36021659698864,
          11.238799053040799,
          12.080139213193902,
          12.883277688834184,
          13.64735107175495,
          14.371591176790403,
          15.055324122908583
         ],
         "yaxis": "y"
        },
        {
         "line": {
          "color": "rgb(0, 0, 255)",
          "dash": "dash",
          "width": 2
         },
         "mode": "lines",
         "name": "validate - Y",
         "type": "scatter",
         "x": [
          0,
          0.1,
          0.2,
          0.3,
          0.4,
          0.5,
          0.6,
          0.7,
          0.8,
          0.9,
          1,
          1.1,
          1.2,
          1.3,
          1.4,
          1.5,
          1.6,
          1.7,
          1.8,
          1.9,
          2,
          2.1,
          2.2,
          2.3,
          2.4,
          2.5,
          2.6,
          2.7,
          2.8,
          2.9,
          3,
          3.1,
          3.2,
          3.3,
          3.4,
          3.5,
          3.6,
          3.7,
          3.8,
          3.9,
          4,
          4.1,
          4.2,
          4.3,
          4.4,
          4.5,
          4.6,
          4.7,
          4.8,
          4.9,
          5,
          5.1,
          5.2,
          5.3,
          5.4,
          5.5,
          5.6,
          5.7,
          5.8,
          5.9,
          6,
          6.1,
          6.2,
          6.3,
          6.4,
          6.5,
          6.6,
          6.7,
          6.8,
          6.9,
          7,
          7.1,
          7.2,
          7.3,
          7.4,
          7.5,
          7.6,
          7.7,
          7.8,
          7.9,
          8,
          8.1,
          8.2,
          8.3,
          8.4,
          8.5,
          8.6,
          8.7,
          8.8,
          8.9,
          9,
          9.1,
          9.2,
          9.3,
          9.4,
          9.5,
          9.6,
          9.7,
          9.8,
          9.9,
          10,
          10.1,
          10.2,
          10.3,
          10.4,
          10.5,
          10.6,
          10.7,
          10.8,
          10.9
         ],
         "xaxis": "x",
         "y": [
          0,
          0,
          0,
          0,
          0,
          0,
          0,
          0,
          0,
          0,
          0,
          -0.008800020000000007,
          -0.047666774999999946,
          -0.14080032000000003,
          -0.3109340399999998,
          -0.58080132,
          -0.9716688750000002,
          -1.5011367449999995,
          -2.18240496,
          -3.0242735399999985,
          -4.03040916,
          -5.195678475,
          -6.5061481200000015,
          -7.944218054999997,
          -9.492288239999999,
          -11.1320253,
          -12.844362525000001,
          -14.610966540000003,
          -16.413503969999997,
          -18.23364144,
          -20.054512245,
          -21.860716350000004,
          -23.636853720000005,
          -25.368257654999997,
          -27.04246146,
          -28.64699844,
          -30.170135235000004,
          -31.602338490000005,
          -32.93407485,
          -34.15727763,
          -35.26608015000001,
          -36.253882395000005,
          -37.11628435500001,
          -37.85035269000001,
          -38.45242072500001,
          -38.92102179000001,
          -39.25542255000001,
          -39.455623005000014,
          -39.52382316000001,
          -39.46148968500001,
          -39.27082258500001,
          -38.956221870000014,
          -38.52135421500001,
          -37.97061963000001,
          -37.309884795,
          -36.54501639000001,
          -35.68188109500001,
          -34.72781226,
          -33.690143235,
          -32.57547403499999,
          -31.391871344999995,
          -30.147401849999998,
          -28.85013223499999,
          -27.508129184999994,
          -26.129459384999986,
          -24.722922854999993,
          -23.29658628,
          -21.85778300999999,
          -20.414579729999996,
          -18.975776459999988,
          -17.54870654999999,
          -16.140703349999995,
          -14.759100209999989,
          -13.410497144999994,
          -12.101494169999986,
          -10.83869129999999,
          -9.627955214999995,
          -8.474419259999989,
          -7.383950114999992,
          -6.360947789999987,
          -5.40907895999999,
          -4.532743634999993,
          -3.735608489999996,
          -3.020606864999986,
          -2.3899387649999886,
          -1.8458041949999906,
          -1.3904031599999922,
          -1.0244689949999937,
          -0.7487350349999897,
          -0.5639346149999904,
          -0.46933439999999077,
          -0.46493438999999076,
          -0.5500012499999904,
          -0.7230683099999928,
          -0.982668899999992,
          -1.3266030149999908,
          -1.7526706499999891,
          -2.257938464999987,
          -2.8394731199999956,
          -3.4943412749999934,
          -4.218876254999991,
          -5.0094113849999875,
          -5.862279989999984,
          -6.7730820599999975,
          -7.737417584999994,
          -8.75015321999999,
          -9.806888954999987,
          -10.903224779999983,
          -12.034027349999999,
          -13.194896654999994
         ],
         "yaxis": "y"
        },
        {
         "line": {
          "color": "rgb(0, 0, 0)",
          "width": 2
         },
         "mode": "lines",
         "name": "pycrash - heading",
         "type": "scatter",
         "x": [
          0,
          0.1,
          0.2,
          0.3,
          0.4,
          0.5,
          0.6,
          0.7,
          0.8,
          0.9,
          1,
          1.1,
          1.2,
          1.3,
          1.4,
          1.5,
          1.6,
          1.7,
          1.8,
          1.9,
          2,
          2.1,
          2.2,
          2.3,
          2.4,
          2.5,
          2.6,
          2.7,
          2.8,
          2.9,
          3,
          3.1,
          3.2,
          3.3,
          3.4,
          3.5,
          3.6,
          3.7,
          3.8,
          3.9,
          4,
          4.1,
          4.2,
          4.3,
          4.4,
          4.5,
          4.6,
          4.7,
          4.8,
          4.9,
          5,
          5.1,
          5.2,
          5.3,
          5.4,
          5.5,
          5.6,
          5.7,
          5.8,
          5.9,
          6,
          6.1,
          6.2,
          6.3,
          6.4,
          6.5,
          6.6,
          6.7,
          6.8,
          6.9,
          7,
          7.1,
          7.2,
          7.3,
          7.4,
          7.5,
          7.6,
          7.7,
          7.8,
          7.9,
          8,
          8.1,
          8.2,
          8.3,
          8.4,
          8.5,
          8.6,
          8.7,
          8.8,
          8.9,
          9,
          9.1,
          9.2,
          9.3,
          9.4,
          9.5,
          9.6,
          9.7,
          9.8,
          9.9,
          10,
          10.1,
          10.2,
          10.3,
          10.4,
          10.5,
          10.6,
          10.7,
          10.8,
          10.9
         ],
         "xaxis": "x2",
         "y": [
          0,
          0,
          0,
          0,
          0,
          0,
          0,
          0,
          0,
          0,
          0,
          -0.04315955279464511,
          -0.25607554619625555,
          -0.7880383125019954,
          -1.7444048609749925,
          -3.1853443866040916,
          -5.140822547705694,
          -7.622741871479762,
          -10.632027186676854,
          -14.162093486470972,
          -18.200176539885447,
          -22.697263134813007,
          -27.538351149192945,
          -32.58547536833142,
          -37.73107149339165,
          -42.904772268939425,
          -48.0624088141353,
          -53.17424616957278,
          -58.21776422527081,
          -63.17481880240431,
          -68.03130491020268,
          -72.77763025263845,
          -77.40902001525798,
          -81.92529414836862,
          -86.33013977860453,
          -90.6300741223324,
          -94.8333264636422,
          -98.94882471972333,
          -102.9853994131923,
          -106.95124544170363,
          -110.85362627098546,
          -114.69877208740482,
          -118.49191160557599,
          -122.23738087489447,
          -125.93876451780547,
          -129.5990393370362,
          -133.2207032521517,
          -136.80588230511586,
          -140.3564147789621,
          -143.87391488656922,
          -147.35981985594526,
          -150.81542436101705,
          -154.24190573662395,
          -157.6403426828158,
          -161.01172944214017,
          -164.35698683310795,
          -167.67697107213797,
          -170.9724810013555,
          -174.2442641307456,
          -177.49302176922484,
          -180.7194134346731,
          -183.92406067947724,
          -187.10755043357574,
          -190.2704379438177,
          -193.4132493721819,
          -196.53648410343888,
          -199.64061680369542,
          -202.72609926408458,
          -205.79336205813837,
          -208.8428160367687,
          -211.87485368104223,
          -214.88985032988373,
          -217.88816529733555,
          -220.87014289192606,
          -223.83611334897097,
          -226.78639368518407,
          -229.72128848375198,
          -232.6410906169935,
          -235.54608191284441,
          -238.43653377065462,
          -241.3127077311398,
          -244.1748560047701,
          -247.02322196239913,
          -249.858040591515,
          -252.67953892113218,
          -255.48793641802354,
          -258.28344535671255,
          -261.0662711653999,
          -263.836612749782,
          -266.59466279652867,
          -269.3406080580167,
          -272.07462961976455,
          -274.79690315188265,
          -277.50759914573035,
          -280.20688313686713,
          -282.8949159152876,
          -285.5718537238452,
          -288.2378484456926,
          -290.89304778149574,
          -293.53759541711804,
          -296.1716311824126,
          -298.7952912017101,
          -301.4087080365431,
          -304.01201082110595,
          -306.6053253909101,
          -309.1887744050605,
          -311.76247746254677,
          -314.32655121291367,
          -316.88110946164846,
          -319.42626327059935
         ],
         "yaxis": "y2"
        },
        {
         "line": {
          "color": "rgb(0, 0, 0)",
          "dash": "dash",
          "width": 2
         },
         "mode": "lines",
         "name": "validate - heading",
         "type": "scatter",
         "x": [
          0,
          0.1,
          0.2,
          0.3,
          0.4,
          0.5,
          0.6,
          0.7,
          0.8,
          0.9,
          1,
          1.1,
          1.2,
          1.3,
          1.4,
          1.5,
          1.6,
          1.7,
          1.8,
          1.9,
          2,
          2.1,
          2.2,
          2.3,
          2.4,
          2.5,
          2.6,
          2.7,
          2.8,
          2.9,
          3,
          3.1,
          3.2,
          3.3,
          3.4,
          3.5,
          3.6,
          3.7,
          3.8,
          3.9,
          4,
          4.1,
          4.2,
          4.3,
          4.4,
          4.5,
          4.6,
          4.7,
          4.8,
          4.9,
          5,
          5.1,
          5.2,
          5.3,
          5.4,
          5.5,
          5.6,
          5.7,
          5.8,
          5.9,
          6,
          6.1,
          6.2,
          6.3,
          6.4,
          6.5,
          6.6,
          6.7,
          6.8,
          6.9,
          7,
          7.1,
          7.2,
          7.3,
          7.4,
          7.5,
          7.6,
          7.7,
          7.8,
          7.9,
          8,
          8.1,
          8.2,
          8.3,
          8.4,
          8.5,
          8.6,
          8.7,
          8.8,
          8.9,
          9,
          9.1,
          9.2,
          9.3,
          9.4,
          9.5,
          9.6,
          9.7,
          9.8,
          9.9,
          10,
          10.1,
          10.2,
          10.3,
          10.4,
          10.5,
          10.6,
          10.7,
          10.8,
          10.9
         ],
         "xaxis": "x2",
         "y": [
          0,
          0,
          0,
          0,
          0,
          0,
          0,
          0,
          0,
          0,
          0,
          -0.06,
          -0.46,
          -1.39,
          -2.88,
          -4.97,
          -7.66,
          -10.94,
          -14.76,
          -19.09,
          -23.88,
          -29.08,
          -34.55,
          -40.14,
          -45.77,
          -51.37,
          -56.92,
          -62.42,
          -67.86,
          -73.25,
          -78.58,
          -83.86,
          -89.1,
          -94.29,
          -99.43,
          -104.53,
          -109.59,
          -114.61,
          -119.59,
          -124.53,
          -129.44,
          -134.31,
          -139.15,
          -143.96,
          -148.73,
          -153.47,
          -158.19,
          -162.87,
          -167.53,
          -172.15,
          -176.75,
          178.67,
          174.12,
          169.6,
          165.1,
          160.63,
          156.17,
          151.75,
          147.34,
          142.95,
          138.59,
          134.25,
          129.93,
          125.63,
          121.35,
          117.08,
          112.84,
          108.62,
          104.41,
          100.22,
          96.05,
          91.9,
          87.76,
          83.64,
          79.54,
          75.45,
          71.38,
          67.33,
          63.29,
          59.26,
          55.25,
          51.26,
          47.28,
          43.31,
          39.36,
          35.42,
          31.5,
          27.59,
          23.69,
          19.81,
          15.93,
          12.08,
          8.23,
          4.4,
          0.57,
          -3.24,
          -7.03,
          -10.82,
          -14.59,
          -18.36,
          -22.11,
          -25.85,
          -29.58,
          -33.3,
          -37,
          -40.7,
          -44.39,
          -48.06,
          -51.73,
          -55.38
         ],
         "yaxis": "y2"
        }
       ],
       "layout": {
        "autosize": false,
        "font": {
         "color": "black",
         "family": "Arial",
         "size": 14
        },
        "height": 500,
        "legend": {
         "orientation": "h",
         "x": 0.01,
         "xanchor": "left",
         "y": 1.1,
         "yanchor": "top"
        },
        "template": {
         "data": {
          "bar": [
           {
            "error_x": {
             "color": "#2a3f5f"
            },
            "error_y": {
             "color": "#2a3f5f"
            },
            "marker": {
             "line": {
              "color": "white",
              "width": 0.5
             }
            },
            "type": "bar"
           }
          ],
          "barpolar": [
           {
            "marker": {
             "line": {
              "color": "white",
              "width": 0.5
             }
            },
            "type": "barpolar"
           }
          ],
          "carpet": [
           {
            "aaxis": {
             "endlinecolor": "#2a3f5f",
             "gridcolor": "#C8D4E3",
             "linecolor": "#C8D4E3",
             "minorgridcolor": "#C8D4E3",
             "startlinecolor": "#2a3f5f"
            },
            "baxis": {
             "endlinecolor": "#2a3f5f",
             "gridcolor": "#C8D4E3",
             "linecolor": "#C8D4E3",
             "minorgridcolor": "#C8D4E3",
             "startlinecolor": "#2a3f5f"
            },
            "type": "carpet"
           }
          ],
          "choropleth": [
           {
            "colorbar": {
             "outlinewidth": 0,
             "ticks": ""
            },
            "type": "choropleth"
           }
          ],
          "contour": [
           {
            "colorbar": {
             "outlinewidth": 0,
             "ticks": ""
            },
            "colorscale": [
             [
              0,
              "#0d0887"
             ],
             [
              0.1111111111111111,
              "#46039f"
             ],
             [
              0.2222222222222222,
              "#7201a8"
             ],
             [
              0.3333333333333333,
              "#9c179e"
             ],
             [
              0.4444444444444444,
              "#bd3786"
             ],
             [
              0.5555555555555556,
              "#d8576b"
             ],
             [
              0.6666666666666666,
              "#ed7953"
             ],
             [
              0.7777777777777778,
              "#fb9f3a"
             ],
             [
              0.8888888888888888,
              "#fdca26"
             ],
             [
              1,
              "#f0f921"
             ]
            ],
            "type": "contour"
           }
          ],
          "contourcarpet": [
           {
            "colorbar": {
             "outlinewidth": 0,
             "ticks": ""
            },
            "type": "contourcarpet"
           }
          ],
          "heatmap": [
           {
            "colorbar": {
             "outlinewidth": 0,
             "ticks": ""
            },
            "colorscale": [
             [
              0,
              "#0d0887"
             ],
             [
              0.1111111111111111,
              "#46039f"
             ],
             [
              0.2222222222222222,
              "#7201a8"
             ],
             [
              0.3333333333333333,
              "#9c179e"
             ],
             [
              0.4444444444444444,
              "#bd3786"
             ],
             [
              0.5555555555555556,
              "#d8576b"
             ],
             [
              0.6666666666666666,
              "#ed7953"
             ],
             [
              0.7777777777777778,
              "#fb9f3a"
             ],
             [
              0.8888888888888888,
              "#fdca26"
             ],
             [
              1,
              "#f0f921"
             ]
            ],
            "type": "heatmap"
           }
          ],
          "heatmapgl": [
           {
            "colorbar": {
             "outlinewidth": 0,
             "ticks": ""
            },
            "colorscale": [
             [
              0,
              "#0d0887"
             ],
             [
              0.1111111111111111,
              "#46039f"
             ],
             [
              0.2222222222222222,
              "#7201a8"
             ],
             [
              0.3333333333333333,
              "#9c179e"
             ],
             [
              0.4444444444444444,
              "#bd3786"
             ],
             [
              0.5555555555555556,
              "#d8576b"
             ],
             [
              0.6666666666666666,
              "#ed7953"
             ],
             [
              0.7777777777777778,
              "#fb9f3a"
             ],
             [
              0.8888888888888888,
              "#fdca26"
             ],
             [
              1,
              "#f0f921"
             ]
            ],
            "type": "heatmapgl"
           }
          ],
          "histogram": [
           {
            "marker": {
             "colorbar": {
              "outlinewidth": 0,
              "ticks": ""
             }
            },
            "type": "histogram"
           }
          ],
          "histogram2d": [
           {
            "colorbar": {
             "outlinewidth": 0,
             "ticks": ""
            },
            "colorscale": [
             [
              0,
              "#0d0887"
             ],
             [
              0.1111111111111111,
              "#46039f"
             ],
             [
              0.2222222222222222,
              "#7201a8"
             ],
             [
              0.3333333333333333,
              "#9c179e"
             ],
             [
              0.4444444444444444,
              "#bd3786"
             ],
             [
              0.5555555555555556,
              "#d8576b"
             ],
             [
              0.6666666666666666,
              "#ed7953"
             ],
             [
              0.7777777777777778,
              "#fb9f3a"
             ],
             [
              0.8888888888888888,
              "#fdca26"
             ],
             [
              1,
              "#f0f921"
             ]
            ],
            "type": "histogram2d"
           }
          ],
          "histogram2dcontour": [
           {
            "colorbar": {
             "outlinewidth": 0,
             "ticks": ""
            },
            "colorscale": [
             [
              0,
              "#0d0887"
             ],
             [
              0.1111111111111111,
              "#46039f"
             ],
             [
              0.2222222222222222,
              "#7201a8"
             ],
             [
              0.3333333333333333,
              "#9c179e"
             ],
             [
              0.4444444444444444,
              "#bd3786"
             ],
             [
              0.5555555555555556,
              "#d8576b"
             ],
             [
              0.6666666666666666,
              "#ed7953"
             ],
             [
              0.7777777777777778,
              "#fb9f3a"
             ],
             [
              0.8888888888888888,
              "#fdca26"
             ],
             [
              1,
              "#f0f921"
             ]
            ],
            "type": "histogram2dcontour"
           }
          ],
          "mesh3d": [
           {
            "colorbar": {
             "outlinewidth": 0,
             "ticks": ""
            },
            "type": "mesh3d"
           }
          ],
          "parcoords": [
           {
            "line": {
             "colorbar": {
              "outlinewidth": 0,
              "ticks": ""
             }
            },
            "type": "parcoords"
           }
          ],
          "pie": [
           {
            "automargin": true,
            "type": "pie"
           }
          ],
          "scatter": [
           {
            "marker": {
             "colorbar": {
              "outlinewidth": 0,
              "ticks": ""
             }
            },
            "type": "scatter"
           }
          ],
          "scatter3d": [
           {
            "line": {
             "colorbar": {
              "outlinewidth": 0,
              "ticks": ""
             }
            },
            "marker": {
             "colorbar": {
              "outlinewidth": 0,
              "ticks": ""
             }
            },
            "type": "scatter3d"
           }
          ],
          "scattercarpet": [
           {
            "marker": {
             "colorbar": {
              "outlinewidth": 0,
              "ticks": ""
             }
            },
            "type": "scattercarpet"
           }
          ],
          "scattergeo": [
           {
            "marker": {
             "colorbar": {
              "outlinewidth": 0,
              "ticks": ""
             }
            },
            "type": "scattergeo"
           }
          ],
          "scattergl": [
           {
            "marker": {
             "colorbar": {
              "outlinewidth": 0,
              "ticks": ""
             }
            },
            "type": "scattergl"
           }
          ],
          "scattermapbox": [
           {
            "marker": {
             "colorbar": {
              "outlinewidth": 0,
              "ticks": ""
             }
            },
            "type": "scattermapbox"
           }
          ],
          "scatterpolar": [
           {
            "marker": {
             "colorbar": {
              "outlinewidth": 0,
              "ticks": ""
             }
            },
            "type": "scatterpolar"
           }
          ],
          "scatterpolargl": [
           {
            "marker": {
             "colorbar": {
              "outlinewidth": 0,
              "ticks": ""
             }
            },
            "type": "scatterpolargl"
           }
          ],
          "scatterternary": [
           {
            "marker": {
             "colorbar": {
              "outlinewidth": 0,
              "ticks": ""
             }
            },
            "type": "scatterternary"
           }
          ],
          "surface": [
           {
            "colorbar": {
             "outlinewidth": 0,
             "ticks": ""
            },
            "colorscale": [
             [
              0,
              "#0d0887"
             ],
             [
              0.1111111111111111,
              "#46039f"
             ],
             [
              0.2222222222222222,
              "#7201a8"
             ],
             [
              0.3333333333333333,
              "#9c179e"
             ],
             [
              0.4444444444444444,
              "#bd3786"
             ],
             [
              0.5555555555555556,
              "#d8576b"
             ],
             [
              0.6666666666666666,
              "#ed7953"
             ],
             [
              0.7777777777777778,
              "#fb9f3a"
             ],
             [
              0.8888888888888888,
              "#fdca26"
             ],
             [
              1,
              "#f0f921"
             ]
            ],
            "type": "surface"
           }
          ],
          "table": [
           {
            "cells": {
             "fill": {
              "color": "#EBF0F8"
             },
             "line": {
              "color": "white"
             }
            },
            "header": {
             "fill": {
              "color": "#C8D4E3"
             },
             "line": {
              "color": "white"
             }
            },
            "type": "table"
           }
          ]
         },
         "layout": {
          "annotationdefaults": {
           "arrowcolor": "#2a3f5f",
           "arrowhead": 0,
           "arrowwidth": 1
          },
          "coloraxis": {
           "colorbar": {
            "outlinewidth": 0,
            "ticks": ""
           }
          },
          "colorscale": {
           "diverging": [
            [
             0,
             "#8e0152"
            ],
            [
             0.1,
             "#c51b7d"
            ],
            [
             0.2,
             "#de77ae"
            ],
            [
             0.3,
             "#f1b6da"
            ],
            [
             0.4,
             "#fde0ef"
            ],
            [
             0.5,
             "#f7f7f7"
            ],
            [
             0.6,
             "#e6f5d0"
            ],
            [
             0.7,
             "#b8e186"
            ],
            [
             0.8,
             "#7fbc41"
            ],
            [
             0.9,
             "#4d9221"
            ],
            [
             1,
             "#276419"
            ]
           ],
           "sequential": [
            [
             0,
             "#0d0887"
            ],
            [
             0.1111111111111111,
             "#46039f"
            ],
            [
             0.2222222222222222,
             "#7201a8"
            ],
            [
             0.3333333333333333,
             "#9c179e"
            ],
            [
             0.4444444444444444,
             "#bd3786"
            ],
            [
             0.5555555555555556,
             "#d8576b"
            ],
            [
             0.6666666666666666,
             "#ed7953"
            ],
            [
             0.7777777777777778,
             "#fb9f3a"
            ],
            [
             0.8888888888888888,
             "#fdca26"
            ],
            [
             1,
             "#f0f921"
            ]
           ],
           "sequentialminus": [
            [
             0,
             "#0d0887"
            ],
            [
             0.1111111111111111,
             "#46039f"
            ],
            [
             0.2222222222222222,
             "#7201a8"
            ],
            [
             0.3333333333333333,
             "#9c179e"
            ],
            [
             0.4444444444444444,
             "#bd3786"
            ],
            [
             0.5555555555555556,
             "#d8576b"
            ],
            [
             0.6666666666666666,
             "#ed7953"
            ],
            [
             0.7777777777777778,
             "#fb9f3a"
            ],
            [
             0.8888888888888888,
             "#fdca26"
            ],
            [
             1,
             "#f0f921"
            ]
           ]
          },
          "colorway": [
           "#636efa",
           "#EF553B",
           "#00cc96",
           "#ab63fa",
           "#FFA15A",
           "#19d3f3",
           "#FF6692",
           "#B6E880",
           "#FF97FF",
           "#FECB52"
          ],
          "font": {
           "color": "#2a3f5f"
          },
          "geo": {
           "bgcolor": "white",
           "lakecolor": "white",
           "landcolor": "white",
           "showlakes": true,
           "showland": true,
           "subunitcolor": "#C8D4E3"
          },
          "hoverlabel": {
           "align": "left"
          },
          "hovermode": "closest",
          "mapbox": {
           "style": "light"
          },
          "paper_bgcolor": "white",
          "plot_bgcolor": "white",
          "polar": {
           "angularaxis": {
            "gridcolor": "#EBF0F8",
            "linecolor": "#EBF0F8",
            "ticks": ""
           },
           "bgcolor": "white",
           "radialaxis": {
            "gridcolor": "#EBF0F8",
            "linecolor": "#EBF0F8",
            "ticks": ""
           }
          },
          "scene": {
           "xaxis": {
            "backgroundcolor": "white",
            "gridcolor": "#DFE8F3",
            "gridwidth": 2,
            "linecolor": "#EBF0F8",
            "showbackground": true,
            "ticks": "",
            "zerolinecolor": "#EBF0F8"
           },
           "yaxis": {
            "backgroundcolor": "white",
            "gridcolor": "#DFE8F3",
            "gridwidth": 2,
            "linecolor": "#EBF0F8",
            "showbackground": true,
            "ticks": "",
            "zerolinecolor": "#EBF0F8"
           },
           "zaxis": {
            "backgroundcolor": "white",
            "gridcolor": "#DFE8F3",
            "gridwidth": 2,
            "linecolor": "#EBF0F8",
            "showbackground": true,
            "ticks": "",
            "zerolinecolor": "#EBF0F8"
           }
          },
          "shapedefaults": {
           "line": {
            "color": "#2a3f5f"
           }
          },
          "ternary": {
           "aaxis": {
            "gridcolor": "#DFE8F3",
            "linecolor": "#A2B1C6",
            "ticks": ""
           },
           "baxis": {
            "gridcolor": "#DFE8F3",
            "linecolor": "#A2B1C6",
            "ticks": ""
           },
           "bgcolor": "white",
           "caxis": {
            "gridcolor": "#DFE8F3",
            "linecolor": "#A2B1C6",
            "ticks": ""
           }
          },
          "title": {
           "x": 0.05
          },
          "xaxis": {
           "automargin": true,
           "gridcolor": "#EBF0F8",
           "linecolor": "#EBF0F8",
           "ticks": "",
           "title": {
            "standoff": 15
           },
           "zerolinecolor": "#EBF0F8",
           "zerolinewidth": 2
          },
          "yaxis": {
           "automargin": true,
           "gridcolor": "#EBF0F8",
           "linecolor": "#EBF0F8",
           "ticks": "",
           "title": {
            "standoff": 15
           },
           "zerolinecolor": "#EBF0F8",
           "zerolinewidth": 2
          }
         }
        },
        "width": 900,
        "xaxis": {
         "anchor": "y",
         "domain": [
          0,
          1
         ],
         "linecolor": "black",
         "linewidth": 1,
         "matches": "x2",
         "showgrid": false,
         "showline": true,
         "showticklabels": false,
         "tickcolor": "black",
         "ticklen": 10,
         "ticks": "outside",
         "tickwidth": 1,
         "title": {
          "text": ""
         },
         "zeroline": false
        },
        "xaxis2": {
         "anchor": "y2",
         "domain": [
          0,
          1
         ],
         "linecolor": "black",
         "linewidth": 1,
         "showgrid": false,
         "showline": true,
         "tickcolor": "black",
         "ticklen": 10,
         "ticks": "outside",
         "tickwidth": 1,
         "title": {
          "text": "Time (s)"
         },
         "zeroline": false
        },
        "yaxis": {
         "anchor": "x",
         "domain": [
          0.5349999999999999,
          0.9999999999999999
         ],
         "linecolor": "black",
         "linewidth": 1,
         "showgrid": false,
         "showline": true,
         "tickcolor": "black",
         "ticklen": 10,
         "ticks": "outside",
         "tickwidth": 1,
         "title": {
          "text": "Displacement (ft)"
         },
         "zeroline": false
        },
        "yaxis2": {
         "anchor": "x2",
         "domain": [
          0,
          0.46499999999999997
         ],
         "linecolor": "black",
         "linewidth": 1,
         "showgrid": false,
         "showline": true,
         "tickcolor": "black",
         "ticklen": 10,
         "ticks": "outside",
         "tickwidth": 1,
         "title": {
          "text": "Heading Angle (deg)"
         },
         "zeroline": false
        }
       }
      },
      "text/html": [
       "<div>\n",
       "        \n",
       "        \n",
       "            <div id=\"a1607657-c2df-4ec2-ac17-6b7d6d6d11a8\" class=\"plotly-graph-div\" style=\"height:500px; width:900px;\"></div>\n",
       "            <script type=\"text/javascript\">\n",
       "                require([\"plotly\"], function(Plotly) {\n",
       "                    window.PLOTLYENV=window.PLOTLYENV || {};\n",
       "                    \n",
       "                if (document.getElementById(\"a1607657-c2df-4ec2-ac17-6b7d6d6d11a8\")) {\n",
       "                    Plotly.newPlot(\n",
       "                        'a1607657-c2df-4ec2-ac17-6b7d6d6d11a8',\n",
       "                        [{\"line\": {\"color\": \"rgb(0, 255, 0)\", \"width\": 2}, \"mode\": \"lines\", \"name\": \"pycrash - X\", \"type\": \"scatter\", \"x\": [0.0, 0.1, 0.2, 0.3, 0.4, 0.5, 0.6, 0.7, 0.8, 0.9, 1.0, 1.1, 1.2, 1.3, 1.4, 1.5, 1.6, 1.7, 1.8, 1.9, 2.0, 2.1, 2.2, 2.3, 2.4, 2.5, 2.6, 2.7, 2.8, 2.9, 3.0, 3.1, 3.2, 3.3, 3.4, 3.5, 3.6, 3.7, 3.8, 3.9, 4.0, 4.1, 4.2, 4.3, 4.4, 4.5, 4.6, 4.7, 4.8, 4.9, 5.0, 5.1, 5.2, 5.3, 5.4, 5.5, 5.6, 5.7, 5.8, 5.9, 6.0, 6.1, 6.2, 6.3, 6.4, 6.5, 6.6, 6.7, 6.8, 6.9, 7.0, 7.1, 7.2, 7.3, 7.4, 7.5, 7.6, 7.7, 7.8, 7.9, 8.0, 8.1, 8.2, 8.3, 8.4, 8.5, 8.6, 8.7, 8.8, 8.9, 9.0, 9.1, 9.2, 9.3, 9.4, 9.5, 9.6, 9.7, 9.8, 9.9, 10.0, 10.1, 10.2, 10.3, 10.4, 10.5, 10.6, 10.7, 10.8, 10.9], \"xaxis\": \"x\", \"y\": [0.0, 2.200005, 4.40001, 6.600014999999999, 8.80002, 11.000024999999999, 13.200029999999998, 15.400034999999997, 17.60004, 19.800044999999997, 22.000049999999995, 24.199883306641915, 26.398647979706496, 28.59425631919966, 30.78350649900053, 32.96215722786497, 35.12452133618328, 37.26274161140343, 39.3660339904581, 41.42010606087569, 43.40686336733721, 45.308843151043526, 47.11479123959617, 48.81609546085548, 50.40125400980874, 51.856129600535986, 53.16652964291748, 54.32060561332561, 55.31018555323981, 56.131100529072285, 56.782878958330116, 57.26814858516978, 57.59195689233187, 57.76111389176391, 57.78360190246181, 57.668072526056484, 57.42344234411723, 57.05859278477174, 56.58217142109341, 56.002482726846324, 55.32744904915887, 54.56461942384806, 53.72120510120566, 52.80412497266867, 51.82004963321544, 50.775438006317316, 49.6765644058568, 48.52953638749001, 47.340304961327384, 46.11466908636031, 44.858276225176034, 43.57662038994496, 42.27503873089424, 40.95870739050469, 39.63263709702041, 38.30166879600836, 36.970469503319485, 35.643528489795415, 34.32515386299085, 33.019469583467554, 31.73041293585562, 30.461732463582386, 29.216986368473517, 27.999541370966337, 26.812572022683863, 25.659060460158805, 24.541796586290914, 23.463378664483603, 22.426214309201452, 21.432521855822632, 20.48433209205647, 19.583490332799606, 18.731658820073804, 17.93031942958996, 17.180776665492225, 16.484160924933338, 15.84143201430101, 15.25338289914419, 14.720643670125801, 14.243685707647375, 13.822826028144261, 13.458231795431034, 13.14992498088181, 12.897787156654257, 12.701564406606424, 12.560872340008567, 12.475201193615902, 12.443921008139741, 12.466286865632338, 12.541444174782994, 12.668433991607879, 12.846198363502504, 13.073585685112302, 13.349356054962396, 13.67218662227123, 14.040676913853561, 14.453354131495113, 14.908678410653852, 15.40504803181009, 15.940804576248993, 16.514238018514437, 17.12359174822094, 17.767067514351563, 18.44283028560247, 19.14901302075951, 19.88372134350885, 20.64503811649037, 21.431027909801468, 22.23974135954725, 23.069219412412465], \"yaxis\": \"y\"}, {\"line\": {\"color\": \"rgb(0, 255, 0)\", \"dash\": \"dash\", \"width\": 2}, \"mode\": \"lines\", \"name\": \"validate - X\", \"type\": \"scatter\", \"x\": [0.0, 0.1, 0.2, 0.3, 0.4, 0.5, 0.6, 0.7, 0.8, 0.9, 1.0, 1.1, 1.2, 1.3, 1.4, 1.5, 1.6, 1.7, 1.8, 1.9, 2.0, 2.1, 2.2, 2.3, 2.4, 2.5, 2.6, 2.7, 2.8, 2.9, 3.0, 3.1, 3.2, 3.3, 3.4, 3.5, 3.6, 3.7, 3.8, 3.9, 4.0, 4.1, 4.2, 4.3, 4.4, 4.5, 4.6, 4.7, 4.8, 4.9, 5.0, 5.1, 5.2, 5.3, 5.4, 5.5, 5.6, 5.7, 5.8, 5.9, 6.0, 6.1, 6.2, 6.3, 6.4, 6.5, 6.6, 6.7, 6.8, 6.9, 7.0, 7.1, 7.2, 7.3, 7.4, 7.5, 7.6, 7.7, 7.8, 7.9, 8.0, 8.1, 8.2, 8.3, 8.4, 8.5, 8.6, 8.7, 8.8, 8.9, 9.0, 9.1, 9.2, 9.3, 9.4, 9.5, 9.6, 9.7, 9.8, 9.9, 10.0, 10.1, 10.2, 10.3, 10.4, 10.5, 10.6, 10.7, 10.8, 10.9], \"xaxis\": \"x\", \"y\": [0.0, 2.200005, 4.40001, 6.600014999999999, 8.80002, 11.000024999999999, 13.200029999999998, 15.400034999999997, 17.60004, 19.800044999999997, 22.000049999999995, 24.200054999999995, 26.398593329999994, 28.591264979999995, 30.77220326999999, 32.932608179999995, 35.060013014999996, 37.13828440499999, 39.14688896999999, 41.06235998999999, 42.859030739999994, 44.514167834999995, 46.014571245, 47.352907619999996, 48.522576945, 49.518445875, 50.336847735, 50.97558252, 51.433916895, 51.713317530000005, 51.81671776500001, 51.74778427500001, 51.511650405000005, 51.11491617000001, 50.565648255000006, 49.87264668, 49.044711465, 48.09064263, 47.0214402, 45.8481042, 44.58090132, 43.23229825500001, 41.814028365000006, 40.33709167500001, 38.813221545000005, 37.25415133500001, 35.671614405000014, 34.07661078, 32.47940715000001, 30.89100354, 29.322399975000007, 27.783129810000013, 26.282726400000005, 24.82998976500001, 23.432986590000002, 22.099783560000006, 20.83771402500001, 19.653378000000004, 18.55190883000001, 17.538439860000004, 16.618837770000006, 15.796769235000008, 15.075167595000005, 14.456966190000008, 13.944365025000005, 13.538830770000006, 13.240363425000007, 13.049696325000006, 12.966829470000008, 12.990296190000008, 13.118629815000007, 13.350363675000006, 13.682564430000008, 14.112298740000007, 14.63663326500001, 15.251167995000007, 15.951502920000005, 16.73323803000001, 17.591239980000008, 18.52037542500001, 19.51624435500001, 20.572980090000005, 21.683982615, 22.84338525000002, 24.045321315000013, 25.28392413000001, 26.552593680000005, 27.84472995, 29.15446626000002, 30.475935930000016, 31.802538945000013, 33.127675290000006, 34.445478285, 35.750814585000015, 37.03781751000001, 38.300620380000005, 39.53408985, 40.732359239999994, 41.89029520500001, 43.00423107, 44.069766825, 45.08250246, 46.0387713, 46.93417333500001, 47.765775225000006, 48.531376965, 49.228045214999995, 49.85284663499999, 50.404314555, 50.880982304999996], \"yaxis\": \"y\"}, {\"line\": {\"color\": \"rgb(0, 0, 255)\", \"width\": 2}, \"mode\": \"lines\", \"name\": \"pycrash - Y\", \"type\": \"scatter\", \"x\": [0.0, 0.1, 0.2, 0.3, 0.4, 0.5, 0.6, 0.7, 0.8, 0.9, 1.0, 1.1, 1.2, 1.3, 1.4, 1.5, 1.6, 1.7, 1.8, 1.9, 2.0, 2.1, 2.2, 2.3, 2.4, 2.5, 2.6, 2.7, 2.8, 2.9, 3.0, 3.1, 3.2, 3.3, 3.4, 3.5, 3.6, 3.7, 3.8, 3.9, 4.0, 4.1, 4.2, 4.3, 4.4, 4.5, 4.6, 4.7, 4.8, 4.9, 5.0, 5.1, 5.2, 5.3, 5.4, 5.5, 5.6, 5.7, 5.8, 5.9, 6.0, 6.1, 6.2, 6.3, 6.4, 6.5, 6.6, 6.7, 6.8, 6.9, 7.0, 7.1, 7.2, 7.3, 7.4, 7.5, 7.6, 7.7, 7.8, 7.9, 8.0, 8.1, 8.2, 8.3, 8.4, 8.5, 8.6, 8.7, 8.8, 8.9, 9.0, 9.1, 9.2, 9.3, 9.4, 9.5, 9.6, 9.7, 9.8, 9.9, 10.0, 10.1, 10.2, 10.3, 10.4, 10.5, 10.6, 10.7, 10.8, 10.9], \"xaxis\": \"x\", \"y\": [0.0, 0.0, 0.0, 0.0, 0.0, 0.0, 0.0, 0.0, 0.0, 0.0, 0.0, -0.004725352360459593, -0.02796929319970194, -0.08590552038371017, -0.19037838890530243, -0.3502006669775436, -0.5741557742206984, -0.872604744462448, -1.2573892206581714, -1.7406938159420031, -2.3334906781450266, -3.0413335900519582, -3.8615107558508655, -4.787861027850789, -5.815188856393766, -6.9381511852203115, -8.149234305864907, -9.437968609661622, -10.791352912391758, -12.194835768903, -13.63334093131126, -15.092097267633513, -16.557215527770925, -18.016034625902368, -19.457282400786927, -20.87109639209251, -22.248946548501007, -23.583498267367393, -24.86844963518942, -26.09836984848724, -27.268556893223778, -28.374923333608542, -29.413911362705516, -30.38243321016818, -31.277830702208526, -32.09784761021356, -32.84060951297319, -33.504607429385196, -34.08868292018562, -34.59201345862476, -35.01409758721238, -35.35473977633671, -35.61403508032997, -35.792353738055084, -35.890325853937675, -35.90882626184252, -35.848959639295025, -35.712045911914444, -35.49960596934236, -35.213347703056236, -34.855152370939344, -34.42706129118343, -33.93126286745922, -33.37007994734004, -32.74595751620212, -32.06145072903331, -31.31921328268549, -30.521986131095186, -29.672586545882385, -28.773897524536096, -27.82885754812423, -26.84045069013838, -25.811697077715188, -24.74564370607446, -23.645355606589124, -22.513907368461663, -21.354375013530404, -20.16982822327472, -18.96332291663324, -17.73789417679901, -16.496549524712975, -15.242262536543985, -13.9779668020238, -12.706550220098931, -11.430849627970868, -10.153645759221934, -8.877658526368448, -7.605542622844196, -6.339883439098456, -5.083193287192771, -3.8379079279994697, -2.6063833948443036, -1.3908931071927895, -0.19362526775741729, 0.9833194638008731, 2.137930027589011, 3.2682867577937937, 4.372562921916659, 5.44902601238867, 6.496038798136684, 7.51206014376874, 8.495645604126421, 9.445447802017203, 10.36021659698864, 11.238799053040799, 12.080139213193902, 12.883277688834184, 13.64735107175495, 14.371591176790403, 15.055324122908583], \"yaxis\": \"y\"}, {\"line\": {\"color\": \"rgb(0, 0, 255)\", \"dash\": \"dash\", \"width\": 2}, \"mode\": \"lines\", \"name\": \"validate - Y\", \"type\": \"scatter\", \"x\": [0.0, 0.1, 0.2, 0.3, 0.4, 0.5, 0.6, 0.7, 0.8, 0.9, 1.0, 1.1, 1.2, 1.3, 1.4, 1.5, 1.6, 1.7, 1.8, 1.9, 2.0, 2.1, 2.2, 2.3, 2.4, 2.5, 2.6, 2.7, 2.8, 2.9, 3.0, 3.1, 3.2, 3.3, 3.4, 3.5, 3.6, 3.7, 3.8, 3.9, 4.0, 4.1, 4.2, 4.3, 4.4, 4.5, 4.6, 4.7, 4.8, 4.9, 5.0, 5.1, 5.2, 5.3, 5.4, 5.5, 5.6, 5.7, 5.8, 5.9, 6.0, 6.1, 6.2, 6.3, 6.4, 6.5, 6.6, 6.7, 6.8, 6.9, 7.0, 7.1, 7.2, 7.3, 7.4, 7.5, 7.6, 7.7, 7.8, 7.9, 8.0, 8.1, 8.2, 8.3, 8.4, 8.5, 8.6, 8.7, 8.8, 8.9, 9.0, 9.1, 9.2, 9.3, 9.4, 9.5, 9.6, 9.7, 9.8, 9.9, 10.0, 10.1, 10.2, 10.3, 10.4, 10.5, 10.6, 10.7, 10.8, 10.9], \"xaxis\": \"x\", \"y\": [0.0, 0.0, 0.0, 0.0, 0.0, 0.0, 0.0, 0.0, 0.0, 0.0, 0.0, -0.008800020000000007, -0.047666774999999946, -0.14080032000000003, -0.3109340399999998, -0.58080132, -0.9716688750000002, -1.5011367449999995, -2.18240496, -3.0242735399999985, -4.03040916, -5.195678475, -6.5061481200000015, -7.944218054999997, -9.492288239999999, -11.1320253, -12.844362525000001, -14.610966540000003, -16.413503969999997, -18.23364144, -20.054512245, -21.860716350000004, -23.636853720000005, -25.368257654999997, -27.04246146, -28.64699844, -30.170135235000004, -31.602338490000005, -32.93407485, -34.15727763, -35.26608015000001, -36.253882395000005, -37.11628435500001, -37.85035269000001, -38.45242072500001, -38.92102179000001, -39.25542255000001, -39.455623005000014, -39.52382316000001, -39.46148968500001, -39.27082258500001, -38.956221870000014, -38.52135421500001, -37.97061963000001, -37.309884795, -36.54501639000001, -35.68188109500001, -34.72781226, -33.690143235, -32.57547403499999, -31.391871344999995, -30.147401849999998, -28.85013223499999, -27.508129184999994, -26.129459384999986, -24.722922854999993, -23.29658628, -21.85778300999999, -20.414579729999996, -18.975776459999988, -17.54870654999999, -16.140703349999995, -14.759100209999989, -13.410497144999994, -12.101494169999986, -10.83869129999999, -9.627955214999995, -8.474419259999989, -7.383950114999992, -6.360947789999987, -5.40907895999999, -4.532743634999993, -3.735608489999996, -3.020606864999986, -2.3899387649999886, -1.8458041949999906, -1.3904031599999922, -1.0244689949999937, -0.7487350349999897, -0.5639346149999904, -0.46933439999999077, -0.46493438999999076, -0.5500012499999904, -0.7230683099999928, -0.982668899999992, -1.3266030149999908, -1.7526706499999891, -2.257938464999987, -2.8394731199999956, -3.4943412749999934, -4.218876254999991, -5.0094113849999875, -5.862279989999984, -6.7730820599999975, -7.737417584999994, -8.75015321999999, -9.806888954999987, -10.903224779999983, -12.034027349999999, -13.194896654999994], \"yaxis\": \"y\"}, {\"line\": {\"color\": \"rgb(0, 0, 0)\", \"width\": 2}, \"mode\": \"lines\", \"name\": \"pycrash - heading\", \"type\": \"scatter\", \"x\": [0.0, 0.1, 0.2, 0.3, 0.4, 0.5, 0.6, 0.7, 0.8, 0.9, 1.0, 1.1, 1.2, 1.3, 1.4, 1.5, 1.6, 1.7, 1.8, 1.9, 2.0, 2.1, 2.2, 2.3, 2.4, 2.5, 2.6, 2.7, 2.8, 2.9, 3.0, 3.1, 3.2, 3.3, 3.4, 3.5, 3.6, 3.7, 3.8, 3.9, 4.0, 4.1, 4.2, 4.3, 4.4, 4.5, 4.6, 4.7, 4.8, 4.9, 5.0, 5.1, 5.2, 5.3, 5.4, 5.5, 5.6, 5.7, 5.8, 5.9, 6.0, 6.1, 6.2, 6.3, 6.4, 6.5, 6.6, 6.7, 6.8, 6.9, 7.0, 7.1, 7.2, 7.3, 7.4, 7.5, 7.6, 7.7, 7.8, 7.9, 8.0, 8.1, 8.2, 8.3, 8.4, 8.5, 8.6, 8.7, 8.8, 8.9, 9.0, 9.1, 9.2, 9.3, 9.4, 9.5, 9.6, 9.7, 9.8, 9.9, 10.0, 10.1, 10.2, 10.3, 10.4, 10.5, 10.6, 10.7, 10.8, 10.9], \"xaxis\": \"x2\", \"y\": [0.0, 0.0, 0.0, 0.0, 0.0, 0.0, 0.0, 0.0, 0.0, 0.0, 0.0, -0.04315955279464511, -0.25607554619625555, -0.7880383125019954, -1.7444048609749925, -3.1853443866040916, -5.140822547705694, -7.622741871479762, -10.632027186676854, -14.162093486470972, -18.200176539885447, -22.697263134813007, -27.538351149192945, -32.58547536833142, -37.73107149339165, -42.904772268939425, -48.0624088141353, -53.17424616957278, -58.21776422527081, -63.17481880240431, -68.03130491020268, -72.77763025263845, -77.40902001525798, -81.92529414836862, -86.33013977860453, -90.6300741223324, -94.8333264636422, -98.94882471972333, -102.9853994131923, -106.95124544170363, -110.85362627098546, -114.69877208740482, -118.49191160557599, -122.23738087489447, -125.93876451780547, -129.5990393370362, -133.2207032521517, -136.80588230511586, -140.3564147789621, -143.87391488656922, -147.35981985594526, -150.81542436101705, -154.24190573662395, -157.6403426828158, -161.01172944214017, -164.35698683310795, -167.67697107213797, -170.9724810013555, -174.2442641307456, -177.49302176922484, -180.7194134346731, -183.92406067947724, -187.10755043357574, -190.2704379438177, -193.4132493721819, -196.53648410343888, -199.64061680369542, -202.72609926408458, -205.79336205813837, -208.8428160367687, -211.87485368104223, -214.88985032988373, -217.88816529733555, -220.87014289192606, -223.83611334897097, -226.78639368518407, -229.72128848375198, -232.6410906169935, -235.54608191284441, -238.43653377065462, -241.3127077311398, -244.1748560047701, -247.02322196239913, -249.858040591515, -252.67953892113218, -255.48793641802354, -258.28344535671255, -261.0662711653999, -263.836612749782, -266.59466279652867, -269.3406080580167, -272.07462961976455, -274.79690315188265, -277.50759914573035, -280.20688313686713, -282.8949159152876, -285.5718537238452, -288.2378484456926, -290.89304778149574, -293.53759541711804, -296.1716311824126, -298.7952912017101, -301.4087080365431, -304.01201082110595, -306.6053253909101, -309.1887744050605, -311.76247746254677, -314.32655121291367, -316.88110946164846, -319.42626327059935], \"yaxis\": \"y2\"}, {\"line\": {\"color\": \"rgb(0, 0, 0)\", \"dash\": \"dash\", \"width\": 2}, \"mode\": \"lines\", \"name\": \"validate - heading\", \"type\": \"scatter\", \"x\": [0.0, 0.1, 0.2, 0.3, 0.4, 0.5, 0.6, 0.7, 0.8, 0.9, 1.0, 1.1, 1.2, 1.3, 1.4, 1.5, 1.6, 1.7, 1.8, 1.9, 2.0, 2.1, 2.2, 2.3, 2.4, 2.5, 2.6, 2.7, 2.8, 2.9, 3.0, 3.1, 3.2, 3.3, 3.4, 3.5, 3.6, 3.7, 3.8, 3.9, 4.0, 4.1, 4.2, 4.3, 4.4, 4.5, 4.6, 4.7, 4.8, 4.9, 5.0, 5.1, 5.2, 5.3, 5.4, 5.5, 5.6, 5.7, 5.8, 5.9, 6.0, 6.1, 6.2, 6.3, 6.4, 6.5, 6.6, 6.7, 6.8, 6.9, 7.0, 7.1, 7.2, 7.3, 7.4, 7.5, 7.6, 7.7, 7.8, 7.9, 8.0, 8.1, 8.2, 8.3, 8.4, 8.5, 8.6, 8.7, 8.8, 8.9, 9.0, 9.1, 9.2, 9.3, 9.4, 9.5, 9.6, 9.7, 9.8, 9.9, 10.0, 10.1, 10.2, 10.3, 10.4, 10.5, 10.6, 10.7, 10.8, 10.9], \"xaxis\": \"x2\", \"y\": [0.0, 0.0, 0.0, 0.0, 0.0, 0.0, 0.0, 0.0, 0.0, 0.0, 0.0, -0.06, -0.46, -1.39, -2.88, -4.97, -7.66, -10.94, -14.76, -19.09, -23.88, -29.08, -34.55, -40.14, -45.77, -51.37, -56.92, -62.42, -67.86, -73.25, -78.58, -83.86, -89.1, -94.29, -99.43, -104.53, -109.59, -114.61, -119.59, -124.53, -129.44, -134.31, -139.15, -143.96, -148.73, -153.47, -158.19, -162.87, -167.53, -172.15, -176.75, 178.67, 174.12, 169.6, 165.1, 160.63, 156.17, 151.75, 147.34, 142.95, 138.59, 134.25, 129.93, 125.63, 121.35, 117.08, 112.84, 108.62, 104.41, 100.22, 96.05, 91.9, 87.76, 83.64, 79.54, 75.45, 71.38, 67.33, 63.29, 59.26, 55.25, 51.26, 47.28, 43.31, 39.36, 35.42, 31.5, 27.59, 23.69, 19.81, 15.93, 12.08, 8.23, 4.4, 0.57, -3.24, -7.03, -10.82, -14.59, -18.36, -22.11, -25.85, -29.58, -33.3, -37.0, -40.7, -44.39, -48.06, -51.73, -55.38], \"yaxis\": \"y2\"}],\n",
       "                        {\"autosize\": false, \"font\": {\"color\": \"black\", \"family\": \"Arial\", \"size\": 14}, \"height\": 500, \"legend\": {\"orientation\": \"h\", \"x\": 0.01, \"xanchor\": \"left\", \"y\": 1.1, \"yanchor\": \"top\"}, \"template\": {\"data\": {\"bar\": [{\"error_x\": {\"color\": \"#2a3f5f\"}, \"error_y\": {\"color\": \"#2a3f5f\"}, \"marker\": {\"line\": {\"color\": \"white\", \"width\": 0.5}}, \"type\": \"bar\"}], \"barpolar\": [{\"marker\": {\"line\": {\"color\": \"white\", \"width\": 0.5}}, \"type\": \"barpolar\"}], \"carpet\": [{\"aaxis\": {\"endlinecolor\": \"#2a3f5f\", \"gridcolor\": \"#C8D4E3\", \"linecolor\": \"#C8D4E3\", \"minorgridcolor\": \"#C8D4E3\", \"startlinecolor\": \"#2a3f5f\"}, \"baxis\": {\"endlinecolor\": \"#2a3f5f\", \"gridcolor\": \"#C8D4E3\", \"linecolor\": \"#C8D4E3\", \"minorgridcolor\": \"#C8D4E3\", \"startlinecolor\": \"#2a3f5f\"}, \"type\": \"carpet\"}], \"choropleth\": [{\"colorbar\": {\"outlinewidth\": 0, \"ticks\": \"\"}, \"type\": \"choropleth\"}], \"contour\": [{\"colorbar\": {\"outlinewidth\": 0, \"ticks\": \"\"}, \"colorscale\": [[0.0, \"#0d0887\"], [0.1111111111111111, \"#46039f\"], [0.2222222222222222, \"#7201a8\"], [0.3333333333333333, \"#9c179e\"], [0.4444444444444444, \"#bd3786\"], [0.5555555555555556, \"#d8576b\"], [0.6666666666666666, \"#ed7953\"], [0.7777777777777778, \"#fb9f3a\"], [0.8888888888888888, \"#fdca26\"], [1.0, \"#f0f921\"]], \"type\": \"contour\"}], \"contourcarpet\": [{\"colorbar\": {\"outlinewidth\": 0, \"ticks\": \"\"}, \"type\": \"contourcarpet\"}], \"heatmap\": [{\"colorbar\": {\"outlinewidth\": 0, \"ticks\": \"\"}, \"colorscale\": [[0.0, \"#0d0887\"], [0.1111111111111111, \"#46039f\"], [0.2222222222222222, \"#7201a8\"], [0.3333333333333333, \"#9c179e\"], [0.4444444444444444, \"#bd3786\"], [0.5555555555555556, \"#d8576b\"], [0.6666666666666666, \"#ed7953\"], [0.7777777777777778, \"#fb9f3a\"], [0.8888888888888888, \"#fdca26\"], [1.0, \"#f0f921\"]], \"type\": \"heatmap\"}], \"heatmapgl\": [{\"colorbar\": {\"outlinewidth\": 0, \"ticks\": \"\"}, \"colorscale\": [[0.0, \"#0d0887\"], [0.1111111111111111, \"#46039f\"], [0.2222222222222222, \"#7201a8\"], [0.3333333333333333, \"#9c179e\"], [0.4444444444444444, \"#bd3786\"], [0.5555555555555556, \"#d8576b\"], [0.6666666666666666, \"#ed7953\"], [0.7777777777777778, \"#fb9f3a\"], [0.8888888888888888, \"#fdca26\"], [1.0, \"#f0f921\"]], \"type\": \"heatmapgl\"}], \"histogram\": [{\"marker\": {\"colorbar\": {\"outlinewidth\": 0, \"ticks\": \"\"}}, \"type\": \"histogram\"}], \"histogram2d\": [{\"colorbar\": {\"outlinewidth\": 0, \"ticks\": \"\"}, \"colorscale\": [[0.0, \"#0d0887\"], [0.1111111111111111, \"#46039f\"], [0.2222222222222222, \"#7201a8\"], [0.3333333333333333, \"#9c179e\"], [0.4444444444444444, \"#bd3786\"], [0.5555555555555556, \"#d8576b\"], [0.6666666666666666, \"#ed7953\"], [0.7777777777777778, \"#fb9f3a\"], [0.8888888888888888, \"#fdca26\"], [1.0, \"#f0f921\"]], \"type\": \"histogram2d\"}], \"histogram2dcontour\": [{\"colorbar\": {\"outlinewidth\": 0, \"ticks\": \"\"}, \"colorscale\": [[0.0, \"#0d0887\"], [0.1111111111111111, \"#46039f\"], [0.2222222222222222, \"#7201a8\"], [0.3333333333333333, \"#9c179e\"], [0.4444444444444444, \"#bd3786\"], [0.5555555555555556, \"#d8576b\"], [0.6666666666666666, \"#ed7953\"], [0.7777777777777778, \"#fb9f3a\"], [0.8888888888888888, \"#fdca26\"], [1.0, \"#f0f921\"]], \"type\": \"histogram2dcontour\"}], \"mesh3d\": [{\"colorbar\": {\"outlinewidth\": 0, \"ticks\": \"\"}, \"type\": \"mesh3d\"}], \"parcoords\": [{\"line\": {\"colorbar\": {\"outlinewidth\": 0, \"ticks\": \"\"}}, \"type\": \"parcoords\"}], \"pie\": [{\"automargin\": true, \"type\": \"pie\"}], \"scatter\": [{\"marker\": {\"colorbar\": {\"outlinewidth\": 0, \"ticks\": \"\"}}, \"type\": \"scatter\"}], \"scatter3d\": [{\"line\": {\"colorbar\": {\"outlinewidth\": 0, \"ticks\": \"\"}}, \"marker\": {\"colorbar\": {\"outlinewidth\": 0, \"ticks\": \"\"}}, \"type\": \"scatter3d\"}], \"scattercarpet\": [{\"marker\": {\"colorbar\": {\"outlinewidth\": 0, \"ticks\": \"\"}}, \"type\": \"scattercarpet\"}], \"scattergeo\": [{\"marker\": {\"colorbar\": {\"outlinewidth\": 0, \"ticks\": \"\"}}, \"type\": \"scattergeo\"}], \"scattergl\": [{\"marker\": {\"colorbar\": {\"outlinewidth\": 0, \"ticks\": \"\"}}, \"type\": \"scattergl\"}], \"scattermapbox\": [{\"marker\": {\"colorbar\": {\"outlinewidth\": 0, \"ticks\": \"\"}}, \"type\": \"scattermapbox\"}], \"scatterpolar\": [{\"marker\": {\"colorbar\": {\"outlinewidth\": 0, \"ticks\": \"\"}}, \"type\": \"scatterpolar\"}], \"scatterpolargl\": [{\"marker\": {\"colorbar\": {\"outlinewidth\": 0, \"ticks\": \"\"}}, \"type\": \"scatterpolargl\"}], \"scatterternary\": [{\"marker\": {\"colorbar\": {\"outlinewidth\": 0, \"ticks\": \"\"}}, \"type\": \"scatterternary\"}], \"surface\": [{\"colorbar\": {\"outlinewidth\": 0, \"ticks\": \"\"}, \"colorscale\": [[0.0, \"#0d0887\"], [0.1111111111111111, \"#46039f\"], [0.2222222222222222, \"#7201a8\"], [0.3333333333333333, \"#9c179e\"], [0.4444444444444444, \"#bd3786\"], [0.5555555555555556, \"#d8576b\"], [0.6666666666666666, \"#ed7953\"], [0.7777777777777778, \"#fb9f3a\"], [0.8888888888888888, \"#fdca26\"], [1.0, \"#f0f921\"]], \"type\": \"surface\"}], \"table\": [{\"cells\": {\"fill\": {\"color\": \"#EBF0F8\"}, \"line\": {\"color\": \"white\"}}, \"header\": {\"fill\": {\"color\": \"#C8D4E3\"}, \"line\": {\"color\": \"white\"}}, \"type\": \"table\"}]}, \"layout\": {\"annotationdefaults\": {\"arrowcolor\": \"#2a3f5f\", \"arrowhead\": 0, \"arrowwidth\": 1}, \"coloraxis\": {\"colorbar\": {\"outlinewidth\": 0, \"ticks\": \"\"}}, \"colorscale\": {\"diverging\": [[0, \"#8e0152\"], [0.1, \"#c51b7d\"], [0.2, \"#de77ae\"], [0.3, \"#f1b6da\"], [0.4, \"#fde0ef\"], [0.5, \"#f7f7f7\"], [0.6, \"#e6f5d0\"], [0.7, \"#b8e186\"], [0.8, \"#7fbc41\"], [0.9, \"#4d9221\"], [1, \"#276419\"]], \"sequential\": [[0.0, \"#0d0887\"], [0.1111111111111111, \"#46039f\"], [0.2222222222222222, \"#7201a8\"], [0.3333333333333333, \"#9c179e\"], [0.4444444444444444, \"#bd3786\"], [0.5555555555555556, \"#d8576b\"], [0.6666666666666666, \"#ed7953\"], [0.7777777777777778, \"#fb9f3a\"], [0.8888888888888888, \"#fdca26\"], [1.0, \"#f0f921\"]], \"sequentialminus\": [[0.0, \"#0d0887\"], [0.1111111111111111, \"#46039f\"], [0.2222222222222222, \"#7201a8\"], [0.3333333333333333, \"#9c179e\"], [0.4444444444444444, \"#bd3786\"], [0.5555555555555556, \"#d8576b\"], [0.6666666666666666, \"#ed7953\"], [0.7777777777777778, \"#fb9f3a\"], [0.8888888888888888, \"#fdca26\"], [1.0, \"#f0f921\"]]}, \"colorway\": [\"#636efa\", \"#EF553B\", \"#00cc96\", \"#ab63fa\", \"#FFA15A\", \"#19d3f3\", \"#FF6692\", \"#B6E880\", \"#FF97FF\", \"#FECB52\"], \"font\": {\"color\": \"#2a3f5f\"}, \"geo\": {\"bgcolor\": \"white\", \"lakecolor\": \"white\", \"landcolor\": \"white\", \"showlakes\": true, \"showland\": true, \"subunitcolor\": \"#C8D4E3\"}, \"hoverlabel\": {\"align\": \"left\"}, \"hovermode\": \"closest\", \"mapbox\": {\"style\": \"light\"}, \"paper_bgcolor\": \"white\", \"plot_bgcolor\": \"white\", \"polar\": {\"angularaxis\": {\"gridcolor\": \"#EBF0F8\", \"linecolor\": \"#EBF0F8\", \"ticks\": \"\"}, \"bgcolor\": \"white\", \"radialaxis\": {\"gridcolor\": \"#EBF0F8\", \"linecolor\": \"#EBF0F8\", \"ticks\": \"\"}}, \"scene\": {\"xaxis\": {\"backgroundcolor\": \"white\", \"gridcolor\": \"#DFE8F3\", \"gridwidth\": 2, \"linecolor\": \"#EBF0F8\", \"showbackground\": true, \"ticks\": \"\", \"zerolinecolor\": \"#EBF0F8\"}, \"yaxis\": {\"backgroundcolor\": \"white\", \"gridcolor\": \"#DFE8F3\", \"gridwidth\": 2, \"linecolor\": \"#EBF0F8\", \"showbackground\": true, \"ticks\": \"\", \"zerolinecolor\": \"#EBF0F8\"}, \"zaxis\": {\"backgroundcolor\": \"white\", \"gridcolor\": \"#DFE8F3\", \"gridwidth\": 2, \"linecolor\": \"#EBF0F8\", \"showbackground\": true, \"ticks\": \"\", \"zerolinecolor\": \"#EBF0F8\"}}, \"shapedefaults\": {\"line\": {\"color\": \"#2a3f5f\"}}, \"ternary\": {\"aaxis\": {\"gridcolor\": \"#DFE8F3\", \"linecolor\": \"#A2B1C6\", \"ticks\": \"\"}, \"baxis\": {\"gridcolor\": \"#DFE8F3\", \"linecolor\": \"#A2B1C6\", \"ticks\": \"\"}, \"bgcolor\": \"white\", \"caxis\": {\"gridcolor\": \"#DFE8F3\", \"linecolor\": \"#A2B1C6\", \"ticks\": \"\"}}, \"title\": {\"x\": 0.05}, \"xaxis\": {\"automargin\": true, \"gridcolor\": \"#EBF0F8\", \"linecolor\": \"#EBF0F8\", \"ticks\": \"\", \"title\": {\"standoff\": 15}, \"zerolinecolor\": \"#EBF0F8\", \"zerolinewidth\": 2}, \"yaxis\": {\"automargin\": true, \"gridcolor\": \"#EBF0F8\", \"linecolor\": \"#EBF0F8\", \"ticks\": \"\", \"title\": {\"standoff\": 15}, \"zerolinecolor\": \"#EBF0F8\", \"zerolinewidth\": 2}}}, \"width\": 900, \"xaxis\": {\"anchor\": \"y\", \"domain\": [0.0, 1.0], \"linecolor\": \"black\", \"linewidth\": 1, \"matches\": \"x2\", \"showgrid\": false, \"showline\": true, \"showticklabels\": false, \"tickcolor\": \"black\", \"ticklen\": 10, \"ticks\": \"outside\", \"tickwidth\": 1, \"title\": {\"text\": \"\"}, \"zeroline\": false}, \"xaxis2\": {\"anchor\": \"y2\", \"domain\": [0.0, 1.0], \"linecolor\": \"black\", \"linewidth\": 1, \"showgrid\": false, \"showline\": true, \"tickcolor\": \"black\", \"ticklen\": 10, \"ticks\": \"outside\", \"tickwidth\": 1, \"title\": {\"text\": \"Time (s)\"}, \"zeroline\": false}, \"yaxis\": {\"anchor\": \"x\", \"domain\": [0.5349999999999999, 0.9999999999999999], \"linecolor\": \"black\", \"linewidth\": 1, \"showgrid\": false, \"showline\": true, \"tickcolor\": \"black\", \"ticklen\": 10, \"ticks\": \"outside\", \"tickwidth\": 1, \"title\": {\"text\": \"Displacement (ft)\"}, \"zeroline\": false}, \"yaxis2\": {\"anchor\": \"x2\", \"domain\": [0.0, 0.46499999999999997], \"linecolor\": \"black\", \"linewidth\": 1, \"showgrid\": false, \"showline\": true, \"tickcolor\": \"black\", \"ticklen\": 10, \"ticks\": \"outside\", \"tickwidth\": 1, \"title\": {\"text\": \"Heading Angle (deg)\"}, \"zeroline\": false}},\n",
       "                        {\"responsive\": true}\n",
       "                    ).then(function(){\n",
       "                            \n",
       "var gd = document.getElementById('a1607657-c2df-4ec2-ac17-6b7d6d6d11a8');\n",
       "var x = new MutationObserver(function (mutations, observer) {{\n",
       "        var display = window.getComputedStyle(gd).display;\n",
       "        if (!display || display === 'none') {{\n",
       "            console.log([gd, 'removed!']);\n",
       "            Plotly.purge(gd);\n",
       "            observer.disconnect();\n",
       "        }}\n",
       "}});\n",
       "\n",
       "// Listen for the removal of the full notebook cells\n",
       "var notebookContainer = gd.closest('#notebook-container');\n",
       "if (notebookContainer) {{\n",
       "    x.observe(notebookContainer, {childList: true});\n",
       "}}\n",
       "\n",
       "// Listen for the clearing of the current output cell\n",
       "var outputEl = gd.closest('.output');\n",
       "if (outputEl) {{\n",
       "    x.observe(outputEl, {childList: true});\n",
       "}}\n",
       "\n",
       "                        })\n",
       "                };\n",
       "                });\n",
       "            </script>\n",
       "        </div>"
      ]
     },
     "metadata": {},
     "output_type": "display_data"
    },
    {
     "data": {
      "application/vnd.plotly.v1+json": {
       "config": {
        "plotlyServerURL": "https://plot.ly"
       },
       "data": [
        {
         "line": {
          "color": "rgb(0, 255, 0)",
          "width": 2
         },
         "mode": "lines",
         "name": "pycrash - X",
         "type": "scatter",
         "x": [
          0,
          0.1,
          0.2,
          0.3,
          0.4,
          0.5,
          0.6,
          0.7,
          0.8,
          0.9,
          1,
          1.1,
          1.2,
          1.3,
          1.4,
          1.5,
          1.6,
          1.7,
          1.8,
          1.9,
          2,
          2.1,
          2.2,
          2.3,
          2.4,
          2.5,
          2.6,
          2.7,
          2.8,
          2.9,
          3,
          3.1,
          3.2,
          3.3,
          3.4,
          3.5,
          3.6,
          3.7,
          3.8,
          3.9,
          4,
          4.1,
          4.2,
          4.3,
          4.4,
          4.5,
          4.6,
          4.7,
          4.8,
          4.9,
          5,
          5.1,
          5.2,
          5.3,
          5.4,
          5.5,
          5.6,
          5.7,
          5.8,
          5.9,
          6,
          6.1,
          6.2,
          6.3,
          6.4,
          6.5,
          6.6,
          6.7,
          6.8,
          6.9,
          7,
          7.1,
          7.2,
          7.3,
          7.4,
          7.5,
          7.6,
          7.7,
          7.8,
          7.9,
          8,
          8.1,
          8.2,
          8.3,
          8.4,
          8.5,
          8.6,
          8.7,
          8.8,
          8.9,
          9,
          9.1,
          9.2,
          9.3,
          9.4,
          9.5,
          9.6,
          9.7,
          9.8,
          9.9,
          10,
          10.1,
          10.2,
          10.3,
          10.4,
          10.5,
          10.6,
          10.7,
          10.8,
          10.9
         ],
         "xaxis": "x",
         "y": [
          15,
          15,
          15,
          15,
          15,
          15,
          15,
          15,
          15,
          15,
          15,
          14.997658732256314,
          14.985427757064166,
          14.954617917738753,
          14.898725776492071,
          14.810080278918331,
          14.676636001066987,
          14.480846939473853,
          14.200347590374996,
          13.809662438023972,
          13.282421077170609,
          12.653607936940494,
          11.972900937620832,
          11.226649353300925,
          10.389099914813338,
          9.450067596995714,
          8.418983278545426,
          7.318380551193123,
          6.175860687997754,
          5.018408995468512,
          3.869458476530358,
          2.7478395774240725,
          1.6677182121548504,
          0.6389629012795872,
          -0.33230890688549025,
          -1.2430881000121128,
          -2.092770435844692,
          -2.8824395206620275,
          -3.614200673496558,
          -4.290627191627673,
          -4.914356583692631,
          -5.487841938276451,
          -6.013236322578252,
          -6.492373371995159,
          -6.9268053042336355,
          -7.317866324668992,
          -7.6667396256881934,
          -7.974515985550653,
          -8.24223933313227,
          -8.470939159194781,
          -8.661651828338593,
          -8.815433476891341,
          -8.933366990162709,
          -9.01656503803108,
          -9.066170594173563,
          -9.083355897976057,
          -9.069320473516889,
          -9.025288586790651,
          -8.95250637464667,
          -8.852238789886508,
          -8.725766454809824,
          -8.574382484941337,
          -8.399389326152676,
          -8.20209563647948,
          -7.983813235761291,
          -7.745854140336414,
          -7.489527695630716,
          -7.216137816138201,
          -6.926980339713554,
          -6.62334050108656,
          -6.306490527926993,
          -5.977687361535057,
          -5.638170503230679,
          -5.289159986707038,
          -4.931854475956424,
          -4.567429487837597,
          -4.197035737909594,
          -3.8217976077893714,
          -3.442811731985638,
          -3.0611457019077926,
          -2.677836884537895,
          -2.2938913530783114,
          -1.9102829267423114,
          -1.5279523167350817,
          -1.1478063753747174,
          -0.7707174452237546,
          -0.3975228050392806,
          -0.029024209301534966,
          0.3340124819545111,
          0.690857586304276,
          1.0408177984091975,
          1.3832363091218298,
          1.7174928475364388,
          2.0430036492909234,
          2.359221354409093,
          2.6656348379495576,
          2.9617689766993016,
          3.247184355116871,
          3.5214769136924797,
          3.7842775428506434,
          4.03525162547549,
          4.274098531090106,
          4.50055106466938,
          4.714374873011162,
          4.915367811533352,
          5.103359274305165,
          5.278209490059318,
          5.439808786868712,
          5.588076828106302,
          5.722961822240685
         ],
         "yaxis": "y"
        },
        {
         "line": {
          "color": "rgb(0, 255, 0)",
          "dash": "dash",
          "width": 2
         },
         "mode": "lines",
         "name": "validate - X",
         "type": "scatter",
         "x": [
          0,
          0.1,
          0.2,
          0.3,
          0.4,
          0.5,
          0.6,
          0.7,
          0.8,
          0.9,
          1,
          1.1,
          1.2,
          1.3,
          1.4,
          1.5,
          1.6,
          1.7,
          1.8,
          1.9,
          2,
          2.1,
          2.2,
          2.3,
          2.4,
          2.5,
          2.6,
          2.7,
          2.8,
          2.9,
          3,
          3.1,
          3.2,
          3.3,
          3.4,
          3.5,
          3.6,
          3.7,
          3.8,
          3.9,
          4,
          4.1,
          4.2,
          4.3,
          4.4,
          4.5,
          4.6,
          4.7,
          4.8,
          4.9,
          5,
          5.1,
          5.2,
          5.3,
          5.4,
          5.5,
          5.6,
          5.7,
          5.8,
          5.9,
          6,
          6.1,
          6.2,
          6.3,
          6.4,
          6.5,
          6.6,
          6.7,
          6.8,
          6.9,
          7,
          7.1,
          7.2,
          7.3,
          7.4,
          7.5,
          7.6,
          7.7,
          7.8,
          7.9,
          8,
          8.1,
          8.2,
          8.3,
          8.4,
          8.5,
          8.6,
          8.7,
          8.8,
          8.9,
          9,
          9.1,
          9.2,
          9.3,
          9.4,
          9.5,
          9.6,
          9.7,
          9.8,
          9.9,
          10,
          10.1,
          10.2,
          10.3,
          10.4,
          10.5,
          10.6,
          10.7,
          10.8,
          10.9
         ],
         "xaxis": "x",
         "y": [
          15,
          15,
          15,
          15,
          15,
          15,
          15,
          15,
          15,
          15,
          15,
          15,
          14.98,
          14.92,
          14.82,
          14.64,
          14.37,
          13.97,
          13.42,
          12.7,
          11.799999999999999,
          10.77,
          9.69,
          8.56,
          7.39,
          6.19,
          4.97,
          3.74,
          2.51,
          1.3,
          0.11,
          -1.05,
          -2.17,
          -3.24,
          -4.25,
          -5.2,
          -6.09,
          -6.919999999999999,
          -7.66,
          -8.34,
          -8.94,
          -9.45,
          -9.89,
          -10.25,
          -10.53,
          -10.73,
          -10.85,
          -10.9,
          -10.88,
          -10.78,
          -10.61,
          -10.38,
          -10.08,
          -9.73,
          -9.32,
          -8.86,
          -8.35,
          -7.8,
          -7.22,
          -6.6,
          -5.94,
          -5.27,
          -4.57,
          -3.86,
          -3.13,
          -2.4,
          -1.67,
          -0.9299999999999999,
          -0.2,
          0.52,
          1.23,
          1.93,
          2.6,
          3.26,
          3.8899999999999997,
          4.49,
          5.06,
          5.6,
          6.1,
          6.57,
          7.010000000000001,
          7.4,
          7.75,
          8.06,
          8.33,
          8.56,
          8.74,
          8.88,
          8.98,
          9.04,
          9.05,
          9.02,
          8.95,
          8.85,
          8.7,
          8.52,
          8.3,
          8.04,
          7.75,
          7.4399999999999995,
          7.089999999999999,
          6.72,
          6.319999999999999,
          5.890000000000001,
          5.45,
          4.99,
          4.51,
          4.01,
          3.51,
          2.9899999999999998
         ],
         "yaxis": "y"
        },
        {
         "line": {
          "color": "rgb(0, 0, 255)",
          "width": 2
         },
         "mode": "lines",
         "name": "pycrash - Y",
         "type": "scatter",
         "x": [
          0,
          0.1,
          0.2,
          0.3,
          0.4,
          0.5,
          0.6,
          0.7,
          0.8,
          0.9,
          1,
          1.1,
          1.2,
          1.3,
          1.4,
          1.5,
          1.6,
          1.7,
          1.8,
          1.9,
          2,
          2.1,
          2.2,
          2.3,
          2.4,
          2.5,
          2.6,
          2.7,
          2.8,
          2.9,
          3,
          3.1,
          3.2,
          3.3,
          3.4,
          3.5,
          3.6,
          3.7,
          3.8,
          3.9,
          4,
          4.1,
          4.2,
          4.3,
          4.4,
          4.5,
          4.6,
          4.7,
          4.8,
          4.9,
          5,
          5.1,
          5.2,
          5.3,
          5.4,
          5.5,
          5.6,
          5.7,
          5.8,
          5.9,
          6,
          6.1,
          6.2,
          6.3,
          6.4,
          6.5,
          6.6,
          6.7,
          6.8,
          6.9,
          7,
          7.1,
          7.2,
          7.3,
          7.4,
          7.5,
          7.6,
          7.7,
          7.8,
          7.9,
          8,
          8.1,
          8.2,
          8.3,
          8.4,
          8.5,
          8.6,
          8.7,
          8.8,
          8.9,
          9,
          9.1,
          9.2,
          9.3,
          9.4,
          9.5,
          9.6,
          9.7,
          9.8,
          9.9,
          10,
          10.1,
          10.2,
          10.3,
          10.4,
          10.5,
          10.6,
          10.7,
          10.8,
          10.9
         ],
         "xaxis": "x",
         "y": [
          0,
          0,
          0,
          0,
          0,
          0,
          0,
          0,
          0,
          0,
          0,
          -0.06443647665063838,
          -0.252525632606964,
          -0.5375120334529975,
          -0.8871147540532909,
          -1.2922749937732962,
          -1.7616513460734937,
          -2.308098089610743,
          -2.9389510243102213,
          -3.651551205691516,
          -4.432023998042429,
          -5.220357408912524,
          -5.963851251507424,
          -6.668169202990539,
          -7.340814802177303,
          -7.972273061166805,
          -8.54245923232244,
          -9.031150424883542,
          -9.424048123258057,
          -9.714310969260913,
          -9.901623936454193,
          -9.990462713197767,
          -9.988377245857938,
          -9.90456524470161,
          -9.748768837055792,
          -9.530469046116064,
          -9.25835402122005,
          -8.94003714879619,
          -8.58198713508542,
          -8.189614019882239,
          -7.767445778661877,
          -7.319335029355874,
          -6.848651349270104,
          -6.358434736388785,
          -5.851503314302099,
          -5.33052001753175,
          -4.798028364307739,
          -4.256468099273081,
          -3.7081795828970856,
          -3.155403069494313,
          -2.600276511974215,
          -2.0448336917433956,
          -1.4910033267169707,
          -0.9406092067787967,
          -0.3953711553011439,
          0.14309343904801997,
          0.6732677403242048,
          1.1937333898629976,
          1.7031683340706223,
          2.2003446073016737,
          2.684126093222526,
          3.1534662725573623,
          3.6074059580631435,
          4.045071015205286,
          4.465670066809286,
          4.868492180578463,
          5.252904539172049,
          5.6183500932987736,
          5.964345198931971,
          6.290477240284568,
          6.59640224060573,
          6.881842463190698,
          7.146584005247117,
          7.390474387448319,
          7.6134201421368,
          7.81538440322741,
          7.996384500905908,
          8.15648956423048,
          8.295818134726817,
          8.414535794026376,
          8.512852808536419,
          8.591021794053063,
          8.649335403137687,
          8.688124037975193,
          8.707753591322032,
          8.708623218034399,
          8.691163139544216,
          8.655832483523774,
          8.603117160850516,
          8.533527781852188,
          8.447597613680639,
          8.345880580530334,
          8.228949308286078,
          8.097393215053941,
          7.951816648900387,
          7.792837073997638,
          7.621083306248591,
          7.437193799342558,
          7.241814982073794,
          7.035599647638671,
          6.8192053955143175,
          6.593293126412016,
          6.358525590692509,
          6.115565990527863,
          5.865076635995654,
          5.6077176551960495,
          5.344145758390974,
          5.075013056076765,
          4.80096593081793,
          4.522643962589348
         ],
         "yaxis": "y"
        },
        {
         "line": {
          "color": "rgb(0, 0, 255)",
          "dash": "dash",
          "width": 2
         },
         "mode": "lines",
         "name": "validate - Y",
         "type": "scatter",
         "x": [
          0,
          0.1,
          0.2,
          0.3,
          0.4,
          0.5,
          0.6,
          0.7,
          0.8,
          0.9,
          1,
          1.1,
          1.2,
          1.3,
          1.4,
          1.5,
          1.6,
          1.7,
          1.8,
          1.9,
          2,
          2.1,
          2.2,
          2.3,
          2.4,
          2.5,
          2.6,
          2.7,
          2.8,
          2.9,
          3,
          3.1,
          3.2,
          3.3,
          3.4,
          3.5,
          3.6,
          3.7,
          3.8,
          3.9,
          4,
          4.1,
          4.2,
          4.3,
          4.4,
          4.5,
          4.6,
          4.7,
          4.8,
          4.9,
          5,
          5.1,
          5.2,
          5.3,
          5.4,
          5.5,
          5.6,
          5.7,
          5.8,
          5.9,
          6,
          6.1,
          6.2,
          6.3,
          6.4,
          6.5,
          6.6,
          6.7,
          6.8,
          6.9,
          7,
          7.1,
          7.2,
          7.3,
          7.4,
          7.5,
          7.6,
          7.7,
          7.8,
          7.9,
          8,
          8.1,
          8.2,
          8.3,
          8.4,
          8.5,
          8.6,
          8.7,
          8.8,
          8.9,
          9,
          9.1,
          9.2,
          9.3,
          9.4,
          9.5,
          9.6,
          9.7,
          9.8,
          9.9,
          10,
          10.1,
          10.2,
          10.3,
          10.4,
          10.5,
          10.6,
          10.7,
          10.8,
          10.9
         ],
         "xaxis": "x",
         "y": [
          0,
          0,
          0,
          0,
          0,
          0,
          0,
          0,
          0,
          0,
          0,
          -0.12,
          -0.4099999999999999,
          -0.86,
          -1.46,
          -2.22,
          -3.1099999999999994,
          -4.11,
          -5.18,
          -6.3,
          -7.42,
          -8.47,
          -9.4,
          -10.21,
          -10.9,
          -11.459999999999999,
          -11.89,
          -12.2,
          -12.38,
          -12.439999999999998,
          -12.39,
          -12.24,
          -11.980000000000002,
          -11.629999999999999,
          -11.2,
          -10.68,
          -10.09,
          -9.44,
          -8.72,
          -7.960000000000001,
          -7.16,
          -6.309999999999999,
          -5.45,
          -4.56,
          -3.65,
          -2.7400000000000007,
          -1.8200000000000003,
          -0.9100000000000001,
          -0.02,
          0.87,
          1.7299999999999998,
          2.56,
          3.37,
          4.14,
          4.87,
          5.56,
          6.21,
          6.8,
          7.3500000000000005,
          7.85,
          8.29,
          8.68,
          9.01,
          9.29,
          9.51,
          9.67,
          9.78,
          9.84,
          9.84,
          9.78,
          9.68,
          9.52,
          9.32,
          9.07,
          8.78,
          8.44,
          8.07,
          7.66,
          7.21,
          6.74,
          6.239999999999999,
          5.709999999999999,
          5.16,
          4.59,
          4.01,
          3.41,
          2.8,
          2.19,
          1.57,
          0.9499999999999998,
          0.34,
          -0.28,
          -0.88,
          -1.48,
          -2.06,
          -2.63,
          -3.18,
          -3.71,
          -4.22,
          -4.71,
          -5.17,
          -5.61,
          -6.02,
          -6.4,
          -6.749999999999999,
          -7.06,
          -7.3500000000000005,
          -7.599999999999999,
          -7.82,
          -8.01
         ],
         "yaxis": "y"
        },
        {
         "line": {
          "color": "rgb(0, 0, 0)",
          "width": 2
         },
         "mode": "lines",
         "name": "pycrash - slip angle",
         "type": "scatter",
         "x": [
          0,
          0.1,
          0.2,
          0.3,
          0.4,
          0.5,
          0.6,
          0.7,
          0.8,
          0.9,
          1,
          1.1,
          1.2,
          1.3,
          1.4,
          1.5,
          1.6,
          1.7,
          1.8,
          1.9,
          2,
          2.1,
          2.2,
          2.3,
          2.4,
          2.5,
          2.6,
          2.7,
          2.8,
          2.9,
          3,
          3.1,
          3.2,
          3.3,
          3.4,
          3.5,
          3.6,
          3.7,
          3.8,
          3.9,
          4,
          4.1,
          4.2,
          4.3,
          4.4,
          4.5,
          4.6,
          4.7,
          4.8,
          4.9,
          5,
          5.1,
          5.2,
          5.3,
          5.4,
          5.5,
          5.6,
          5.7,
          5.8,
          5.9,
          6,
          6.1,
          6.2,
          6.3,
          6.4,
          6.5,
          6.6,
          6.7,
          6.8,
          6.9,
          7,
          7.1,
          7.2,
          7.3,
          7.4,
          7.5,
          7.6,
          7.7,
          7.8,
          7.9,
          8,
          8.1,
          8.2,
          8.3,
          8.4,
          8.5,
          8.6,
          8.7,
          8.8,
          8.9,
          9,
          9.1,
          9.2,
          9.3,
          9.4,
          9.5,
          9.6,
          9.7,
          9.8,
          9.9,
          10,
          10.1,
          10.2,
          10.3,
          10.4,
          10.5,
          10.6,
          10.7,
          10.8,
          10.9
         ],
         "xaxis": "x2",
         "y": [
          0,
          0,
          0,
          0,
          0,
          0,
          0,
          0,
          0,
          0,
          0,
          0.2461719897709242,
          0.9223748703443174,
          1.8029737362053315,
          2.6210668525118814,
          3.245586461196364,
          3.66454870719314,
          3.9229907619332907,
          4.078898291113731,
          4.1843659746086335,
          4.282509239633333,
          4.17026357828999,
          3.663344161677266,
          2.954003394237047,
          2.3030790870316227,
          1.8665703400287081,
          1.6890633708795266,
          1.7486450165873388,
          1.9968983841064476,
          2.3816121793131,
          2.8560608209864706,
          3.3811931606724914,
          3.925258629724504,
          4.463124292268489,
          4.975923385100781,
          5.450867248469368,
          5.88086426160859,
          6.263743350610574,
          6.601119192946965,
          6.897098511291218,
          7.157061378959953,
          7.3866887711073295,
          7.591307757011933,
          7.775538364188127,
          7.943174628530959,
          8.097217094704513,
          8.239983470004,
          8.373244619888922,
          8.498354422480979,
          8.616358830537827,
          8.728080398488101,
          8.83418033055331,
          8.935202391061916,
          9.031603300728447,
          9.123773605653508,
          9.212052089914362,
          9.296735925629756,
          9.378088040812699,
          9.456342659786413,
          9.53170961264261,
          9.604377781729308,
          9.67451791537995,
          9.742284958976997,
          9.807820006949152,
          9.87125195117413,
          9.93269888295792,
          9.992269292969993,
          10.050063104136044,
          10.106172565427714,
          10.160683029071969,
          10.213673629478196,
          10.265217878840899,
          10.315384191713504,
          10.364236348720075,
          10.41183390786549,
          10.458232570530383,
          10.503484508121282,
          10.547638654431877,
          10.590740968015941,
          10.632834668244936,
          10.673960448199892,
          10.714156667108906,
          10.753459524672913,
          10.791903219311038,
          10.82952009209237,
          10.866340757895774,
          10.902394225146761,
          10.937708005315072,
          10.972308213214543,
          11.006219659023998,
          11.039465932841486,
          11.072069482491997,
          11.104051685228177,
          11.13543291389353,
          11.16623259805591,
          11.19646928056539,
          11.226160669943022,
          11.255323688965241,
          11.283974519771771,
          11.312128645792134,
          11.339800890756992,
          11.367005455034661,
          11.39375594951033,
          11.420065427204978,
          11.445946412812807,
          11.471410930319554,
          11.496470528849514,
          11.521136306875844,
          11.545418934916988,
          11.569328676831349
         ],
         "yaxis": "y2"
        },
        {
         "line": {
          "color": "rgb(0, 0, 0)",
          "dash": "dash",
          "width": 2
         },
         "mode": "lines",
         "name": "validate - slip angle",
         "type": "scatter",
         "x": [
          0,
          0.1,
          0.2,
          0.3,
          0.4,
          0.5,
          0.6,
          0.7,
          0.8,
          0.9,
          1,
          1.1,
          1.2,
          1.3,
          1.4,
          1.5,
          1.6,
          1.7,
          1.8,
          1.9,
          2,
          2.1,
          2.2,
          2.3,
          2.4,
          2.5,
          2.6,
          2.7,
          2.8,
          2.9,
          3,
          3.1,
          3.2,
          3.3,
          3.4,
          3.5,
          3.6,
          3.7,
          3.8,
          3.9,
          4,
          4.1,
          4.2,
          4.3,
          4.4,
          4.5,
          4.6,
          4.7,
          4.8,
          4.9,
          5,
          5.1,
          5.2,
          5.3,
          5.4,
          5.5,
          5.6,
          5.7,
          5.8,
          5.9,
          6,
          6.1,
          6.2,
          6.3,
          6.4,
          6.5,
          6.6,
          6.7,
          6.8,
          6.9,
          7,
          7.1,
          7.2,
          7.3,
          7.4,
          7.5,
          7.6,
          7.7,
          7.8,
          7.9,
          8,
          8.1,
          8.2,
          8.3,
          8.4,
          8.5,
          8.6,
          8.7,
          8.8,
          8.9,
          9,
          9.1,
          9.2,
          9.3,
          9.4,
          9.5,
          9.6,
          9.7,
          9.8,
          9.9,
          10,
          10.1,
          10.2,
          10.3,
          10.4,
          10.5,
          10.6,
          10.7,
          10.8,
          10.9
         ],
         "xaxis": "x2",
         "y": [
          0,
          0,
          0,
          0,
          0,
          0,
          0,
          0,
          0,
          0,
          0,
          0.084587,
          0.531067,
          1.171556,
          1.84823,
          2.545153,
          3.24822,
          3.942141,
          4.562777,
          5.101874,
          5.581144,
          6.021508,
          6.325132,
          6.453797,
          6.454851,
          6.371153,
          6.253842,
          6.125854,
          5.995736,
          5.866808,
          5.740953,
          5.61967,
          5.503944,
          5.394236,
          5.290543,
          5.192439,
          5.099403,
          5.010949,
          4.926594,
          4.84598,
          4.768839,
          4.694902,
          4.623957,
          4.555829,
          4.490318,
          4.427261,
          4.366522,
          4.307944,
          4.251401,
          4.196789,
          4.143989,
          4.0929,
          4.043445,
          3.995526,
          3.949067,
          3.904003,
          3.860259,
          3.81777,
          3.776487,
          3.736345,
          3.697294,
          3.659293,
          3.622289,
          3.586239,
          3.55111,
          3.516858,
          3.483447,
          3.450849,
          3.419028,
          3.387952,
          3.357599,
          3.327937,
          3.298941,
          3.27059,
          3.242857,
          3.215721,
          3.189165,
          3.163164,
          3.1377,
          3.112759,
          3.088321,
          3.064368,
          3.040888,
          3.017863,
          2.99528,
          2.973127,
          2.951388,
          2.93005,
          2.909106,
          2.888539,
          2.86834,
          2.8485,
          2.829007,
          2.80985,
          2.791023,
          2.772515,
          2.754316,
          2.736421,
          2.718819,
          2.701502,
          2.684466,
          2.667701,
          2.651199,
          2.634957,
          2.618965,
          2.603218,
          2.587712,
          2.572438,
          2.557391,
          2.542567
         ],
         "yaxis": "y2"
        }
       ],
       "layout": {
        "autosize": false,
        "font": {
         "color": "black",
         "family": "Arial",
         "size": 14
        },
        "height": 500,
        "legend": {
         "orientation": "h",
         "x": 0.01,
         "xanchor": "left",
         "y": 1.1,
         "yanchor": "top"
        },
        "template": {
         "data": {
          "bar": [
           {
            "error_x": {
             "color": "#2a3f5f"
            },
            "error_y": {
             "color": "#2a3f5f"
            },
            "marker": {
             "line": {
              "color": "white",
              "width": 0.5
             }
            },
            "type": "bar"
           }
          ],
          "barpolar": [
           {
            "marker": {
             "line": {
              "color": "white",
              "width": 0.5
             }
            },
            "type": "barpolar"
           }
          ],
          "carpet": [
           {
            "aaxis": {
             "endlinecolor": "#2a3f5f",
             "gridcolor": "#C8D4E3",
             "linecolor": "#C8D4E3",
             "minorgridcolor": "#C8D4E3",
             "startlinecolor": "#2a3f5f"
            },
            "baxis": {
             "endlinecolor": "#2a3f5f",
             "gridcolor": "#C8D4E3",
             "linecolor": "#C8D4E3",
             "minorgridcolor": "#C8D4E3",
             "startlinecolor": "#2a3f5f"
            },
            "type": "carpet"
           }
          ],
          "choropleth": [
           {
            "colorbar": {
             "outlinewidth": 0,
             "ticks": ""
            },
            "type": "choropleth"
           }
          ],
          "contour": [
           {
            "colorbar": {
             "outlinewidth": 0,
             "ticks": ""
            },
            "colorscale": [
             [
              0,
              "#0d0887"
             ],
             [
              0.1111111111111111,
              "#46039f"
             ],
             [
              0.2222222222222222,
              "#7201a8"
             ],
             [
              0.3333333333333333,
              "#9c179e"
             ],
             [
              0.4444444444444444,
              "#bd3786"
             ],
             [
              0.5555555555555556,
              "#d8576b"
             ],
             [
              0.6666666666666666,
              "#ed7953"
             ],
             [
              0.7777777777777778,
              "#fb9f3a"
             ],
             [
              0.8888888888888888,
              "#fdca26"
             ],
             [
              1,
              "#f0f921"
             ]
            ],
            "type": "contour"
           }
          ],
          "contourcarpet": [
           {
            "colorbar": {
             "outlinewidth": 0,
             "ticks": ""
            },
            "type": "contourcarpet"
           }
          ],
          "heatmap": [
           {
            "colorbar": {
             "outlinewidth": 0,
             "ticks": ""
            },
            "colorscale": [
             [
              0,
              "#0d0887"
             ],
             [
              0.1111111111111111,
              "#46039f"
             ],
             [
              0.2222222222222222,
              "#7201a8"
             ],
             [
              0.3333333333333333,
              "#9c179e"
             ],
             [
              0.4444444444444444,
              "#bd3786"
             ],
             [
              0.5555555555555556,
              "#d8576b"
             ],
             [
              0.6666666666666666,
              "#ed7953"
             ],
             [
              0.7777777777777778,
              "#fb9f3a"
             ],
             [
              0.8888888888888888,
              "#fdca26"
             ],
             [
              1,
              "#f0f921"
             ]
            ],
            "type": "heatmap"
           }
          ],
          "heatmapgl": [
           {
            "colorbar": {
             "outlinewidth": 0,
             "ticks": ""
            },
            "colorscale": [
             [
              0,
              "#0d0887"
             ],
             [
              0.1111111111111111,
              "#46039f"
             ],
             [
              0.2222222222222222,
              "#7201a8"
             ],
             [
              0.3333333333333333,
              "#9c179e"
             ],
             [
              0.4444444444444444,
              "#bd3786"
             ],
             [
              0.5555555555555556,
              "#d8576b"
             ],
             [
              0.6666666666666666,
              "#ed7953"
             ],
             [
              0.7777777777777778,
              "#fb9f3a"
             ],
             [
              0.8888888888888888,
              "#fdca26"
             ],
             [
              1,
              "#f0f921"
             ]
            ],
            "type": "heatmapgl"
           }
          ],
          "histogram": [
           {
            "marker": {
             "colorbar": {
              "outlinewidth": 0,
              "ticks": ""
             }
            },
            "type": "histogram"
           }
          ],
          "histogram2d": [
           {
            "colorbar": {
             "outlinewidth": 0,
             "ticks": ""
            },
            "colorscale": [
             [
              0,
              "#0d0887"
             ],
             [
              0.1111111111111111,
              "#46039f"
             ],
             [
              0.2222222222222222,
              "#7201a8"
             ],
             [
              0.3333333333333333,
              "#9c179e"
             ],
             [
              0.4444444444444444,
              "#bd3786"
             ],
             [
              0.5555555555555556,
              "#d8576b"
             ],
             [
              0.6666666666666666,
              "#ed7953"
             ],
             [
              0.7777777777777778,
              "#fb9f3a"
             ],
             [
              0.8888888888888888,
              "#fdca26"
             ],
             [
              1,
              "#f0f921"
             ]
            ],
            "type": "histogram2d"
           }
          ],
          "histogram2dcontour": [
           {
            "colorbar": {
             "outlinewidth": 0,
             "ticks": ""
            },
            "colorscale": [
             [
              0,
              "#0d0887"
             ],
             [
              0.1111111111111111,
              "#46039f"
             ],
             [
              0.2222222222222222,
              "#7201a8"
             ],
             [
              0.3333333333333333,
              "#9c179e"
             ],
             [
              0.4444444444444444,
              "#bd3786"
             ],
             [
              0.5555555555555556,
              "#d8576b"
             ],
             [
              0.6666666666666666,
              "#ed7953"
             ],
             [
              0.7777777777777778,
              "#fb9f3a"
             ],
             [
              0.8888888888888888,
              "#fdca26"
             ],
             [
              1,
              "#f0f921"
             ]
            ],
            "type": "histogram2dcontour"
           }
          ],
          "mesh3d": [
           {
            "colorbar": {
             "outlinewidth": 0,
             "ticks": ""
            },
            "type": "mesh3d"
           }
          ],
          "parcoords": [
           {
            "line": {
             "colorbar": {
              "outlinewidth": 0,
              "ticks": ""
             }
            },
            "type": "parcoords"
           }
          ],
          "pie": [
           {
            "automargin": true,
            "type": "pie"
           }
          ],
          "scatter": [
           {
            "marker": {
             "colorbar": {
              "outlinewidth": 0,
              "ticks": ""
             }
            },
            "type": "scatter"
           }
          ],
          "scatter3d": [
           {
            "line": {
             "colorbar": {
              "outlinewidth": 0,
              "ticks": ""
             }
            },
            "marker": {
             "colorbar": {
              "outlinewidth": 0,
              "ticks": ""
             }
            },
            "type": "scatter3d"
           }
          ],
          "scattercarpet": [
           {
            "marker": {
             "colorbar": {
              "outlinewidth": 0,
              "ticks": ""
             }
            },
            "type": "scattercarpet"
           }
          ],
          "scattergeo": [
           {
            "marker": {
             "colorbar": {
              "outlinewidth": 0,
              "ticks": ""
             }
            },
            "type": "scattergeo"
           }
          ],
          "scattergl": [
           {
            "marker": {
             "colorbar": {
              "outlinewidth": 0,
              "ticks": ""
             }
            },
            "type": "scattergl"
           }
          ],
          "scattermapbox": [
           {
            "marker": {
             "colorbar": {
              "outlinewidth": 0,
              "ticks": ""
             }
            },
            "type": "scattermapbox"
           }
          ],
          "scatterpolar": [
           {
            "marker": {
             "colorbar": {
              "outlinewidth": 0,
              "ticks": ""
             }
            },
            "type": "scatterpolar"
           }
          ],
          "scatterpolargl": [
           {
            "marker": {
             "colorbar": {
              "outlinewidth": 0,
              "ticks": ""
             }
            },
            "type": "scatterpolargl"
           }
          ],
          "scatterternary": [
           {
            "marker": {
             "colorbar": {
              "outlinewidth": 0,
              "ticks": ""
             }
            },
            "type": "scatterternary"
           }
          ],
          "surface": [
           {
            "colorbar": {
             "outlinewidth": 0,
             "ticks": ""
            },
            "colorscale": [
             [
              0,
              "#0d0887"
             ],
             [
              0.1111111111111111,
              "#46039f"
             ],
             [
              0.2222222222222222,
              "#7201a8"
             ],
             [
              0.3333333333333333,
              "#9c179e"
             ],
             [
              0.4444444444444444,
              "#bd3786"
             ],
             [
              0.5555555555555556,
              "#d8576b"
             ],
             [
              0.6666666666666666,
              "#ed7953"
             ],
             [
              0.7777777777777778,
              "#fb9f3a"
             ],
             [
              0.8888888888888888,
              "#fdca26"
             ],
             [
              1,
              "#f0f921"
             ]
            ],
            "type": "surface"
           }
          ],
          "table": [
           {
            "cells": {
             "fill": {
              "color": "#EBF0F8"
             },
             "line": {
              "color": "white"
             }
            },
            "header": {
             "fill": {
              "color": "#C8D4E3"
             },
             "line": {
              "color": "white"
             }
            },
            "type": "table"
           }
          ]
         },
         "layout": {
          "annotationdefaults": {
           "arrowcolor": "#2a3f5f",
           "arrowhead": 0,
           "arrowwidth": 1
          },
          "coloraxis": {
           "colorbar": {
            "outlinewidth": 0,
            "ticks": ""
           }
          },
          "colorscale": {
           "diverging": [
            [
             0,
             "#8e0152"
            ],
            [
             0.1,
             "#c51b7d"
            ],
            [
             0.2,
             "#de77ae"
            ],
            [
             0.3,
             "#f1b6da"
            ],
            [
             0.4,
             "#fde0ef"
            ],
            [
             0.5,
             "#f7f7f7"
            ],
            [
             0.6,
             "#e6f5d0"
            ],
            [
             0.7,
             "#b8e186"
            ],
            [
             0.8,
             "#7fbc41"
            ],
            [
             0.9,
             "#4d9221"
            ],
            [
             1,
             "#276419"
            ]
           ],
           "sequential": [
            [
             0,
             "#0d0887"
            ],
            [
             0.1111111111111111,
             "#46039f"
            ],
            [
             0.2222222222222222,
             "#7201a8"
            ],
            [
             0.3333333333333333,
             "#9c179e"
            ],
            [
             0.4444444444444444,
             "#bd3786"
            ],
            [
             0.5555555555555556,
             "#d8576b"
            ],
            [
             0.6666666666666666,
             "#ed7953"
            ],
            [
             0.7777777777777778,
             "#fb9f3a"
            ],
            [
             0.8888888888888888,
             "#fdca26"
            ],
            [
             1,
             "#f0f921"
            ]
           ],
           "sequentialminus": [
            [
             0,
             "#0d0887"
            ],
            [
             0.1111111111111111,
             "#46039f"
            ],
            [
             0.2222222222222222,
             "#7201a8"
            ],
            [
             0.3333333333333333,
             "#9c179e"
            ],
            [
             0.4444444444444444,
             "#bd3786"
            ],
            [
             0.5555555555555556,
             "#d8576b"
            ],
            [
             0.6666666666666666,
             "#ed7953"
            ],
            [
             0.7777777777777778,
             "#fb9f3a"
            ],
            [
             0.8888888888888888,
             "#fdca26"
            ],
            [
             1,
             "#f0f921"
            ]
           ]
          },
          "colorway": [
           "#636efa",
           "#EF553B",
           "#00cc96",
           "#ab63fa",
           "#FFA15A",
           "#19d3f3",
           "#FF6692",
           "#B6E880",
           "#FF97FF",
           "#FECB52"
          ],
          "font": {
           "color": "#2a3f5f"
          },
          "geo": {
           "bgcolor": "white",
           "lakecolor": "white",
           "landcolor": "white",
           "showlakes": true,
           "showland": true,
           "subunitcolor": "#C8D4E3"
          },
          "hoverlabel": {
           "align": "left"
          },
          "hovermode": "closest",
          "mapbox": {
           "style": "light"
          },
          "paper_bgcolor": "white",
          "plot_bgcolor": "white",
          "polar": {
           "angularaxis": {
            "gridcolor": "#EBF0F8",
            "linecolor": "#EBF0F8",
            "ticks": ""
           },
           "bgcolor": "white",
           "radialaxis": {
            "gridcolor": "#EBF0F8",
            "linecolor": "#EBF0F8",
            "ticks": ""
           }
          },
          "scene": {
           "xaxis": {
            "backgroundcolor": "white",
            "gridcolor": "#DFE8F3",
            "gridwidth": 2,
            "linecolor": "#EBF0F8",
            "showbackground": true,
            "ticks": "",
            "zerolinecolor": "#EBF0F8"
           },
           "yaxis": {
            "backgroundcolor": "white",
            "gridcolor": "#DFE8F3",
            "gridwidth": 2,
            "linecolor": "#EBF0F8",
            "showbackground": true,
            "ticks": "",
            "zerolinecolor": "#EBF0F8"
           },
           "zaxis": {
            "backgroundcolor": "white",
            "gridcolor": "#DFE8F3",
            "gridwidth": 2,
            "linecolor": "#EBF0F8",
            "showbackground": true,
            "ticks": "",
            "zerolinecolor": "#EBF0F8"
           }
          },
          "shapedefaults": {
           "line": {
            "color": "#2a3f5f"
           }
          },
          "ternary": {
           "aaxis": {
            "gridcolor": "#DFE8F3",
            "linecolor": "#A2B1C6",
            "ticks": ""
           },
           "baxis": {
            "gridcolor": "#DFE8F3",
            "linecolor": "#A2B1C6",
            "ticks": ""
           },
           "bgcolor": "white",
           "caxis": {
            "gridcolor": "#DFE8F3",
            "linecolor": "#A2B1C6",
            "ticks": ""
           }
          },
          "title": {
           "x": 0.05
          },
          "xaxis": {
           "automargin": true,
           "gridcolor": "#EBF0F8",
           "linecolor": "#EBF0F8",
           "ticks": "",
           "title": {
            "standoff": 15
           },
           "zerolinecolor": "#EBF0F8",
           "zerolinewidth": 2
          },
          "yaxis": {
           "automargin": true,
           "gridcolor": "#EBF0F8",
           "linecolor": "#EBF0F8",
           "ticks": "",
           "title": {
            "standoff": 15
           },
           "zerolinecolor": "#EBF0F8",
           "zerolinewidth": 2
          }
         }
        },
        "width": 900,
        "xaxis": {
         "anchor": "y",
         "domain": [
          0,
          1
         ],
         "linecolor": "black",
         "linewidth": 1,
         "matches": "x2",
         "showgrid": false,
         "showline": true,
         "showticklabels": false,
         "tickcolor": "black",
         "ticklen": 10,
         "ticks": "outside",
         "tickwidth": 1,
         "title": {
          "text": ""
         },
         "zeroline": false
        },
        "xaxis2": {
         "anchor": "y2",
         "domain": [
          0,
          1
         ],
         "linecolor": "black",
         "linewidth": 1,
         "showgrid": false,
         "showline": true,
         "tickcolor": "black",
         "ticklen": 10,
         "ticks": "outside",
         "tickwidth": 1,
         "title": {
          "text": "Time (s)"
         },
         "zeroline": false
        },
        "yaxis": {
         "anchor": "x",
         "domain": [
          0.5349999999999999,
          0.9999999999999999
         ],
         "linecolor": "black",
         "linewidth": 1,
         "showgrid": false,
         "showline": true,
         "tickcolor": "black",
         "ticklen": 10,
         "ticks": "outside",
         "tickwidth": 1,
         "title": {
          "text": "Velocity (mph)"
         },
         "zeroline": false
        },
        "yaxis2": {
         "anchor": "x2",
         "domain": [
          0,
          0.46499999999999997
         ],
         "linecolor": "black",
         "linewidth": 1,
         "showgrid": false,
         "showline": true,
         "tickcolor": "black",
         "ticklen": 10,
         "ticks": "outside",
         "tickwidth": 1,
         "title": {
          "text": "Slip Angle (deg)"
         },
         "zeroline": false
        }
       }
      },
      "text/html": [
       "<div>\n",
       "        \n",
       "        \n",
       "            <div id=\"a7592e4c-e311-4f03-9ec0-5fbc47f3e902\" class=\"plotly-graph-div\" style=\"height:500px; width:900px;\"></div>\n",
       "            <script type=\"text/javascript\">\n",
       "                require([\"plotly\"], function(Plotly) {\n",
       "                    window.PLOTLYENV=window.PLOTLYENV || {};\n",
       "                    \n",
       "                if (document.getElementById(\"a7592e4c-e311-4f03-9ec0-5fbc47f3e902\")) {\n",
       "                    Plotly.newPlot(\n",
       "                        'a7592e4c-e311-4f03-9ec0-5fbc47f3e902',\n",
       "                        [{\"line\": {\"color\": \"rgb(0, 255, 0)\", \"width\": 2}, \"mode\": \"lines\", \"name\": \"pycrash - X\", \"type\": \"scatter\", \"x\": [0.0, 0.1, 0.2, 0.3, 0.4, 0.5, 0.6, 0.7, 0.8, 0.9, 1.0, 1.1, 1.2, 1.3, 1.4, 1.5, 1.6, 1.7, 1.8, 1.9, 2.0, 2.1, 2.2, 2.3, 2.4, 2.5, 2.6, 2.7, 2.8, 2.9, 3.0, 3.1, 3.2, 3.3, 3.4, 3.5, 3.6, 3.7, 3.8, 3.9, 4.0, 4.1, 4.2, 4.3, 4.4, 4.5, 4.6, 4.7, 4.8, 4.9, 5.0, 5.1, 5.2, 5.3, 5.4, 5.5, 5.6, 5.7, 5.8, 5.9, 6.0, 6.1, 6.2, 6.3, 6.4, 6.5, 6.6, 6.7, 6.8, 6.9, 7.0, 7.1, 7.2, 7.3, 7.4, 7.5, 7.6, 7.7, 7.8, 7.9, 8.0, 8.1, 8.2, 8.3, 8.4, 8.5, 8.6, 8.7, 8.8, 8.9, 9.0, 9.1, 9.2, 9.3, 9.4, 9.5, 9.6, 9.7, 9.8, 9.9, 10.0, 10.1, 10.2, 10.3, 10.4, 10.5, 10.6, 10.7, 10.8, 10.9], \"xaxis\": \"x\", \"y\": [15.0, 15.0, 15.0, 15.0, 15.0, 15.0, 15.0, 15.0, 15.0, 15.0, 15.0, 14.997658732256314, 14.985427757064166, 14.954617917738753, 14.898725776492071, 14.810080278918331, 14.676636001066987, 14.480846939473853, 14.200347590374996, 13.809662438023972, 13.282421077170609, 12.653607936940494, 11.972900937620832, 11.226649353300925, 10.389099914813338, 9.450067596995714, 8.418983278545426, 7.318380551193123, 6.175860687997754, 5.018408995468512, 3.869458476530358, 2.7478395774240725, 1.6677182121548504, 0.6389629012795872, -0.33230890688549025, -1.2430881000121128, -2.092770435844692, -2.8824395206620275, -3.614200673496558, -4.290627191627673, -4.914356583692631, -5.487841938276451, -6.013236322578252, -6.492373371995159, -6.9268053042336355, -7.317866324668992, -7.6667396256881934, -7.974515985550653, -8.24223933313227, -8.470939159194781, -8.661651828338593, -8.815433476891341, -8.933366990162709, -9.01656503803108, -9.066170594173563, -9.083355897976057, -9.069320473516889, -9.025288586790651, -8.95250637464667, -8.852238789886508, -8.725766454809824, -8.574382484941337, -8.399389326152676, -8.20209563647948, -7.983813235761291, -7.745854140336414, -7.489527695630716, -7.216137816138201, -6.926980339713554, -6.62334050108656, -6.306490527926993, -5.977687361535057, -5.638170503230679, -5.289159986707038, -4.931854475956424, -4.567429487837597, -4.197035737909594, -3.8217976077893714, -3.442811731985638, -3.0611457019077926, -2.677836884537895, -2.2938913530783114, -1.9102829267423114, -1.5279523167350817, -1.1478063753747174, -0.7707174452237546, -0.3975228050392806, -0.029024209301534966, 0.3340124819545111, 0.690857586304276, 1.0408177984091975, 1.3832363091218298, 1.7174928475364388, 2.0430036492909234, 2.359221354409093, 2.6656348379495576, 2.9617689766993016, 3.247184355116871, 3.5214769136924797, 3.7842775428506434, 4.03525162547549, 4.274098531090106, 4.50055106466938, 4.714374873011162, 4.915367811533352, 5.103359274305165, 5.278209490059318, 5.439808786868712, 5.588076828106302, 5.722961822240685], \"yaxis\": \"y\"}, {\"line\": {\"color\": \"rgb(0, 255, 0)\", \"dash\": \"dash\", \"width\": 2}, \"mode\": \"lines\", \"name\": \"validate - X\", \"type\": \"scatter\", \"x\": [0.0, 0.1, 0.2, 0.3, 0.4, 0.5, 0.6, 0.7, 0.8, 0.9, 1.0, 1.1, 1.2, 1.3, 1.4, 1.5, 1.6, 1.7, 1.8, 1.9, 2.0, 2.1, 2.2, 2.3, 2.4, 2.5, 2.6, 2.7, 2.8, 2.9, 3.0, 3.1, 3.2, 3.3, 3.4, 3.5, 3.6, 3.7, 3.8, 3.9, 4.0, 4.1, 4.2, 4.3, 4.4, 4.5, 4.6, 4.7, 4.8, 4.9, 5.0, 5.1, 5.2, 5.3, 5.4, 5.5, 5.6, 5.7, 5.8, 5.9, 6.0, 6.1, 6.2, 6.3, 6.4, 6.5, 6.6, 6.7, 6.8, 6.9, 7.0, 7.1, 7.2, 7.3, 7.4, 7.5, 7.6, 7.7, 7.8, 7.9, 8.0, 8.1, 8.2, 8.3, 8.4, 8.5, 8.6, 8.7, 8.8, 8.9, 9.0, 9.1, 9.2, 9.3, 9.4, 9.5, 9.6, 9.7, 9.8, 9.9, 10.0, 10.1, 10.2, 10.3, 10.4, 10.5, 10.6, 10.7, 10.8, 10.9], \"xaxis\": \"x\", \"y\": [15.0, 15.0, 15.0, 15.0, 15.0, 15.0, 15.0, 15.0, 15.0, 15.0, 15.0, 15.0, 14.98, 14.92, 14.82, 14.64, 14.37, 13.97, 13.42, 12.7, 11.799999999999999, 10.77, 9.69, 8.56, 7.39, 6.19, 4.97, 3.74, 2.51, 1.3, 0.11, -1.05, -2.17, -3.24, -4.25, -5.2, -6.09, -6.919999999999999, -7.66, -8.34, -8.94, -9.45, -9.89, -10.25, -10.53, -10.73, -10.85, -10.9, -10.88, -10.78, -10.61, -10.38, -10.08, -9.73, -9.32, -8.86, -8.35, -7.8, -7.22, -6.6, -5.94, -5.27, -4.57, -3.86, -3.13, -2.4, -1.67, -0.9299999999999999, -0.2, 0.52, 1.23, 1.93, 2.6, 3.26, 3.8899999999999997, 4.49, 5.06, 5.6, 6.1, 6.57, 7.010000000000001, 7.4, 7.75, 8.06, 8.33, 8.56, 8.74, 8.88, 8.98, 9.04, 9.05, 9.02, 8.95, 8.85, 8.7, 8.52, 8.3, 8.04, 7.75, 7.4399999999999995, 7.089999999999999, 6.72, 6.319999999999999, 5.890000000000001, 5.45, 4.99, 4.51, 4.01, 3.51, 2.9899999999999998], \"yaxis\": \"y\"}, {\"line\": {\"color\": \"rgb(0, 0, 255)\", \"width\": 2}, \"mode\": \"lines\", \"name\": \"pycrash - Y\", \"type\": \"scatter\", \"x\": [0.0, 0.1, 0.2, 0.3, 0.4, 0.5, 0.6, 0.7, 0.8, 0.9, 1.0, 1.1, 1.2, 1.3, 1.4, 1.5, 1.6, 1.7, 1.8, 1.9, 2.0, 2.1, 2.2, 2.3, 2.4, 2.5, 2.6, 2.7, 2.8, 2.9, 3.0, 3.1, 3.2, 3.3, 3.4, 3.5, 3.6, 3.7, 3.8, 3.9, 4.0, 4.1, 4.2, 4.3, 4.4, 4.5, 4.6, 4.7, 4.8, 4.9, 5.0, 5.1, 5.2, 5.3, 5.4, 5.5, 5.6, 5.7, 5.8, 5.9, 6.0, 6.1, 6.2, 6.3, 6.4, 6.5, 6.6, 6.7, 6.8, 6.9, 7.0, 7.1, 7.2, 7.3, 7.4, 7.5, 7.6, 7.7, 7.8, 7.9, 8.0, 8.1, 8.2, 8.3, 8.4, 8.5, 8.6, 8.7, 8.8, 8.9, 9.0, 9.1, 9.2, 9.3, 9.4, 9.5, 9.6, 9.7, 9.8, 9.9, 10.0, 10.1, 10.2, 10.3, 10.4, 10.5, 10.6, 10.7, 10.8, 10.9], \"xaxis\": \"x\", \"y\": [0.0, 0.0, 0.0, 0.0, 0.0, 0.0, 0.0, 0.0, 0.0, 0.0, 0.0, -0.06443647665063838, -0.252525632606964, -0.5375120334529975, -0.8871147540532909, -1.2922749937732962, -1.7616513460734937, -2.308098089610743, -2.9389510243102213, -3.651551205691516, -4.432023998042429, -5.220357408912524, -5.963851251507424, -6.668169202990539, -7.340814802177303, -7.972273061166805, -8.54245923232244, -9.031150424883542, -9.424048123258057, -9.714310969260913, -9.901623936454193, -9.990462713197767, -9.988377245857938, -9.90456524470161, -9.748768837055792, -9.530469046116064, -9.25835402122005, -8.94003714879619, -8.58198713508542, -8.189614019882239, -7.767445778661877, -7.319335029355874, -6.848651349270104, -6.358434736388785, -5.851503314302099, -5.33052001753175, -4.798028364307739, -4.256468099273081, -3.7081795828970856, -3.155403069494313, -2.600276511974215, -2.0448336917433956, -1.4910033267169707, -0.9406092067787967, -0.3953711553011439, 0.14309343904801997, 0.6732677403242048, 1.1937333898629976, 1.7031683340706223, 2.2003446073016737, 2.684126093222526, 3.1534662725573623, 3.6074059580631435, 4.045071015205286, 4.465670066809286, 4.868492180578463, 5.252904539172049, 5.6183500932987736, 5.964345198931971, 6.290477240284568, 6.59640224060573, 6.881842463190698, 7.146584005247117, 7.390474387448319, 7.6134201421368, 7.81538440322741, 7.996384500905908, 8.15648956423048, 8.295818134726817, 8.414535794026376, 8.512852808536419, 8.591021794053063, 8.649335403137687, 8.688124037975193, 8.707753591322032, 8.708623218034399, 8.691163139544216, 8.655832483523774, 8.603117160850516, 8.533527781852188, 8.447597613680639, 8.345880580530334, 8.228949308286078, 8.097393215053941, 7.951816648900387, 7.792837073997638, 7.621083306248591, 7.437193799342558, 7.241814982073794, 7.035599647638671, 6.8192053955143175, 6.593293126412016, 6.358525590692509, 6.115565990527863, 5.865076635995654, 5.6077176551960495, 5.344145758390974, 5.075013056076765, 4.80096593081793, 4.522643962589348], \"yaxis\": \"y\"}, {\"line\": {\"color\": \"rgb(0, 0, 255)\", \"dash\": \"dash\", \"width\": 2}, \"mode\": \"lines\", \"name\": \"validate - Y\", \"type\": \"scatter\", \"x\": [0.0, 0.1, 0.2, 0.3, 0.4, 0.5, 0.6, 0.7, 0.8, 0.9, 1.0, 1.1, 1.2, 1.3, 1.4, 1.5, 1.6, 1.7, 1.8, 1.9, 2.0, 2.1, 2.2, 2.3, 2.4, 2.5, 2.6, 2.7, 2.8, 2.9, 3.0, 3.1, 3.2, 3.3, 3.4, 3.5, 3.6, 3.7, 3.8, 3.9, 4.0, 4.1, 4.2, 4.3, 4.4, 4.5, 4.6, 4.7, 4.8, 4.9, 5.0, 5.1, 5.2, 5.3, 5.4, 5.5, 5.6, 5.7, 5.8, 5.9, 6.0, 6.1, 6.2, 6.3, 6.4, 6.5, 6.6, 6.7, 6.8, 6.9, 7.0, 7.1, 7.2, 7.3, 7.4, 7.5, 7.6, 7.7, 7.8, 7.9, 8.0, 8.1, 8.2, 8.3, 8.4, 8.5, 8.6, 8.7, 8.8, 8.9, 9.0, 9.1, 9.2, 9.3, 9.4, 9.5, 9.6, 9.7, 9.8, 9.9, 10.0, 10.1, 10.2, 10.3, 10.4, 10.5, 10.6, 10.7, 10.8, 10.9], \"xaxis\": \"x\", \"y\": [0.0, 0.0, 0.0, 0.0, 0.0, 0.0, 0.0, 0.0, 0.0, 0.0, 0.0, -0.12, -0.4099999999999999, -0.86, -1.46, -2.22, -3.1099999999999994, -4.11, -5.18, -6.3, -7.42, -8.47, -9.4, -10.21, -10.9, -11.459999999999999, -11.89, -12.2, -12.38, -12.439999999999998, -12.39, -12.24, -11.980000000000002, -11.629999999999999, -11.2, -10.68, -10.09, -9.44, -8.72, -7.960000000000001, -7.16, -6.309999999999999, -5.45, -4.56, -3.65, -2.7400000000000007, -1.8200000000000003, -0.9100000000000001, -0.02, 0.87, 1.7299999999999998, 2.56, 3.37, 4.14, 4.87, 5.56, 6.21, 6.8, 7.3500000000000005, 7.85, 8.29, 8.68, 9.01, 9.29, 9.51, 9.67, 9.78, 9.84, 9.84, 9.78, 9.68, 9.52, 9.32, 9.07, 8.78, 8.44, 8.07, 7.66, 7.21, 6.74, 6.239999999999999, 5.709999999999999, 5.16, 4.59, 4.01, 3.41, 2.8, 2.19, 1.57, 0.9499999999999998, 0.34, -0.28, -0.88, -1.48, -2.06, -2.63, -3.18, -3.71, -4.22, -4.71, -5.17, -5.61, -6.02, -6.4, -6.749999999999999, -7.06, -7.3500000000000005, -7.599999999999999, -7.82, -8.01], \"yaxis\": \"y\"}, {\"line\": {\"color\": \"rgb(0, 0, 0)\", \"width\": 2}, \"mode\": \"lines\", \"name\": \"pycrash - slip angle\", \"type\": \"scatter\", \"x\": [0.0, 0.1, 0.2, 0.3, 0.4, 0.5, 0.6, 0.7, 0.8, 0.9, 1.0, 1.1, 1.2, 1.3, 1.4, 1.5, 1.6, 1.7, 1.8, 1.9, 2.0, 2.1, 2.2, 2.3, 2.4, 2.5, 2.6, 2.7, 2.8, 2.9, 3.0, 3.1, 3.2, 3.3, 3.4, 3.5, 3.6, 3.7, 3.8, 3.9, 4.0, 4.1, 4.2, 4.3, 4.4, 4.5, 4.6, 4.7, 4.8, 4.9, 5.0, 5.1, 5.2, 5.3, 5.4, 5.5, 5.6, 5.7, 5.8, 5.9, 6.0, 6.1, 6.2, 6.3, 6.4, 6.5, 6.6, 6.7, 6.8, 6.9, 7.0, 7.1, 7.2, 7.3, 7.4, 7.5, 7.6, 7.7, 7.8, 7.9, 8.0, 8.1, 8.2, 8.3, 8.4, 8.5, 8.6, 8.7, 8.8, 8.9, 9.0, 9.1, 9.2, 9.3, 9.4, 9.5, 9.6, 9.7, 9.8, 9.9, 10.0, 10.1, 10.2, 10.3, 10.4, 10.5, 10.6, 10.7, 10.8, 10.9], \"xaxis\": \"x2\", \"y\": [-0.0, -0.0, -0.0, -0.0, -0.0, -0.0, -0.0, -0.0, -0.0, -0.0, -0.0, 0.2461719897709242, 0.9223748703443174, 1.8029737362053315, 2.6210668525118814, 3.245586461196364, 3.66454870719314, 3.9229907619332907, 4.078898291113731, 4.1843659746086335, 4.282509239633333, 4.17026357828999, 3.663344161677266, 2.954003394237047, 2.3030790870316227, 1.8665703400287081, 1.6890633708795266, 1.7486450165873388, 1.9968983841064476, 2.3816121793131, 2.8560608209864706, 3.3811931606724914, 3.925258629724504, 4.463124292268489, 4.975923385100781, 5.450867248469368, 5.88086426160859, 6.263743350610574, 6.601119192946965, 6.897098511291218, 7.157061378959953, 7.3866887711073295, 7.591307757011933, 7.775538364188127, 7.943174628530959, 8.097217094704513, 8.239983470004, 8.373244619888922, 8.498354422480979, 8.616358830537827, 8.728080398488101, 8.83418033055331, 8.935202391061916, 9.031603300728447, 9.123773605653508, 9.212052089914362, 9.296735925629756, 9.378088040812699, 9.456342659786413, 9.53170961264261, 9.604377781729308, 9.67451791537995, 9.742284958976997, 9.807820006949152, 9.87125195117413, 9.93269888295792, 9.992269292969993, 10.050063104136044, 10.106172565427714, 10.160683029071969, 10.213673629478196, 10.265217878840899, 10.315384191713504, 10.364236348720075, 10.41183390786549, 10.458232570530383, 10.503484508121282, 10.547638654431877, 10.590740968015941, 10.632834668244936, 10.673960448199892, 10.714156667108906, 10.753459524672913, 10.791903219311038, 10.82952009209237, 10.866340757895774, 10.902394225146761, 10.937708005315072, 10.972308213214543, 11.006219659023998, 11.039465932841486, 11.072069482491997, 11.104051685228177, 11.13543291389353, 11.16623259805591, 11.19646928056539, 11.226160669943022, 11.255323688965241, 11.283974519771771, 11.312128645792134, 11.339800890756992, 11.367005455034661, 11.39375594951033, 11.420065427204978, 11.445946412812807, 11.471410930319554, 11.496470528849514, 11.521136306875844, 11.545418934916988, 11.569328676831349], \"yaxis\": \"y2\"}, {\"line\": {\"color\": \"rgb(0, 0, 0)\", \"dash\": \"dash\", \"width\": 2}, \"mode\": \"lines\", \"name\": \"validate - slip angle\", \"type\": \"scatter\", \"x\": [0.0, 0.1, 0.2, 0.3, 0.4, 0.5, 0.6, 0.7, 0.8, 0.9, 1.0, 1.1, 1.2, 1.3, 1.4, 1.5, 1.6, 1.7, 1.8, 1.9, 2.0, 2.1, 2.2, 2.3, 2.4, 2.5, 2.6, 2.7, 2.8, 2.9, 3.0, 3.1, 3.2, 3.3, 3.4, 3.5, 3.6, 3.7, 3.8, 3.9, 4.0, 4.1, 4.2, 4.3, 4.4, 4.5, 4.6, 4.7, 4.8, 4.9, 5.0, 5.1, 5.2, 5.3, 5.4, 5.5, 5.6, 5.7, 5.8, 5.9, 6.0, 6.1, 6.2, 6.3, 6.4, 6.5, 6.6, 6.7, 6.8, 6.9, 7.0, 7.1, 7.2, 7.3, 7.4, 7.5, 7.6, 7.7, 7.8, 7.9, 8.0, 8.1, 8.2, 8.3, 8.4, 8.5, 8.6, 8.7, 8.8, 8.9, 9.0, 9.1, 9.2, 9.3, 9.4, 9.5, 9.6, 9.7, 9.8, 9.9, 10.0, 10.1, 10.2, 10.3, 10.4, 10.5, 10.6, 10.7, 10.8, 10.9], \"xaxis\": \"x2\", \"y\": [0.0, 0.0, 0.0, 0.0, 0.0, 0.0, 0.0, 0.0, 0.0, 0.0, 0.0, 0.084587, 0.531067, 1.171556, 1.84823, 2.545153, 3.24822, 3.942141, 4.562777, 5.101874, 5.581144, 6.021508, 6.325132, 6.453797, 6.454851, 6.371153, 6.253842, 6.125854, 5.995736, 5.866808, 5.740953, 5.61967, 5.503944, 5.394236, 5.290543, 5.192439, 5.099403, 5.010949, 4.926594, 4.84598, 4.768839, 4.694902, 4.623957, 4.555829, 4.490318, 4.427261, 4.366522, 4.307944, 4.251401, 4.196789, 4.143989, 4.0929, 4.043445, 3.995526, 3.949067, 3.904003, 3.860259, 3.81777, 3.776487, 3.736345, 3.697294, 3.659293, 3.622289, 3.586239, 3.55111, 3.516858, 3.483447, 3.450849, 3.419028, 3.387952, 3.357599, 3.327937, 3.298941, 3.27059, 3.242857, 3.215721, 3.189165, 3.163164, 3.1377, 3.112759, 3.088321, 3.064368, 3.040888, 3.017863, 2.99528, 2.973127, 2.951388, 2.93005, 2.909106, 2.888539, 2.86834, 2.8485, 2.829007, 2.80985, 2.791023, 2.772515, 2.754316, 2.736421, 2.718819, 2.701502, 2.684466, 2.667701, 2.651199, 2.634957, 2.618965, 2.603218, 2.587712, 2.572438, 2.557391, 2.542567], \"yaxis\": \"y2\"}],\n",
       "                        {\"autosize\": false, \"font\": {\"color\": \"black\", \"family\": \"Arial\", \"size\": 14}, \"height\": 500, \"legend\": {\"orientation\": \"h\", \"x\": 0.01, \"xanchor\": \"left\", \"y\": 1.1, \"yanchor\": \"top\"}, \"template\": {\"data\": {\"bar\": [{\"error_x\": {\"color\": \"#2a3f5f\"}, \"error_y\": {\"color\": \"#2a3f5f\"}, \"marker\": {\"line\": {\"color\": \"white\", \"width\": 0.5}}, \"type\": \"bar\"}], \"barpolar\": [{\"marker\": {\"line\": {\"color\": \"white\", \"width\": 0.5}}, \"type\": \"barpolar\"}], \"carpet\": [{\"aaxis\": {\"endlinecolor\": \"#2a3f5f\", \"gridcolor\": \"#C8D4E3\", \"linecolor\": \"#C8D4E3\", \"minorgridcolor\": \"#C8D4E3\", \"startlinecolor\": \"#2a3f5f\"}, \"baxis\": {\"endlinecolor\": \"#2a3f5f\", \"gridcolor\": \"#C8D4E3\", \"linecolor\": \"#C8D4E3\", \"minorgridcolor\": \"#C8D4E3\", \"startlinecolor\": \"#2a3f5f\"}, \"type\": \"carpet\"}], \"choropleth\": [{\"colorbar\": {\"outlinewidth\": 0, \"ticks\": \"\"}, \"type\": \"choropleth\"}], \"contour\": [{\"colorbar\": {\"outlinewidth\": 0, \"ticks\": \"\"}, \"colorscale\": [[0.0, \"#0d0887\"], [0.1111111111111111, \"#46039f\"], [0.2222222222222222, \"#7201a8\"], [0.3333333333333333, \"#9c179e\"], [0.4444444444444444, \"#bd3786\"], [0.5555555555555556, \"#d8576b\"], [0.6666666666666666, \"#ed7953\"], [0.7777777777777778, \"#fb9f3a\"], [0.8888888888888888, \"#fdca26\"], [1.0, \"#f0f921\"]], \"type\": \"contour\"}], \"contourcarpet\": [{\"colorbar\": {\"outlinewidth\": 0, \"ticks\": \"\"}, \"type\": \"contourcarpet\"}], \"heatmap\": [{\"colorbar\": {\"outlinewidth\": 0, \"ticks\": \"\"}, \"colorscale\": [[0.0, \"#0d0887\"], [0.1111111111111111, \"#46039f\"], [0.2222222222222222, \"#7201a8\"], [0.3333333333333333, \"#9c179e\"], [0.4444444444444444, \"#bd3786\"], [0.5555555555555556, \"#d8576b\"], [0.6666666666666666, \"#ed7953\"], [0.7777777777777778, \"#fb9f3a\"], [0.8888888888888888, \"#fdca26\"], [1.0, \"#f0f921\"]], \"type\": \"heatmap\"}], \"heatmapgl\": [{\"colorbar\": {\"outlinewidth\": 0, \"ticks\": \"\"}, \"colorscale\": [[0.0, \"#0d0887\"], [0.1111111111111111, \"#46039f\"], [0.2222222222222222, \"#7201a8\"], [0.3333333333333333, \"#9c179e\"], [0.4444444444444444, \"#bd3786\"], [0.5555555555555556, \"#d8576b\"], [0.6666666666666666, \"#ed7953\"], [0.7777777777777778, \"#fb9f3a\"], [0.8888888888888888, \"#fdca26\"], [1.0, \"#f0f921\"]], \"type\": \"heatmapgl\"}], \"histogram\": [{\"marker\": {\"colorbar\": {\"outlinewidth\": 0, \"ticks\": \"\"}}, \"type\": \"histogram\"}], \"histogram2d\": [{\"colorbar\": {\"outlinewidth\": 0, \"ticks\": \"\"}, \"colorscale\": [[0.0, \"#0d0887\"], [0.1111111111111111, \"#46039f\"], [0.2222222222222222, \"#7201a8\"], [0.3333333333333333, \"#9c179e\"], [0.4444444444444444, \"#bd3786\"], [0.5555555555555556, \"#d8576b\"], [0.6666666666666666, \"#ed7953\"], [0.7777777777777778, \"#fb9f3a\"], [0.8888888888888888, \"#fdca26\"], [1.0, \"#f0f921\"]], \"type\": \"histogram2d\"}], \"histogram2dcontour\": [{\"colorbar\": {\"outlinewidth\": 0, \"ticks\": \"\"}, \"colorscale\": [[0.0, \"#0d0887\"], [0.1111111111111111, \"#46039f\"], [0.2222222222222222, \"#7201a8\"], [0.3333333333333333, \"#9c179e\"], [0.4444444444444444, \"#bd3786\"], [0.5555555555555556, \"#d8576b\"], [0.6666666666666666, \"#ed7953\"], [0.7777777777777778, \"#fb9f3a\"], [0.8888888888888888, \"#fdca26\"], [1.0, \"#f0f921\"]], \"type\": \"histogram2dcontour\"}], \"mesh3d\": [{\"colorbar\": {\"outlinewidth\": 0, \"ticks\": \"\"}, \"type\": \"mesh3d\"}], \"parcoords\": [{\"line\": {\"colorbar\": {\"outlinewidth\": 0, \"ticks\": \"\"}}, \"type\": \"parcoords\"}], \"pie\": [{\"automargin\": true, \"type\": \"pie\"}], \"scatter\": [{\"marker\": {\"colorbar\": {\"outlinewidth\": 0, \"ticks\": \"\"}}, \"type\": \"scatter\"}], \"scatter3d\": [{\"line\": {\"colorbar\": {\"outlinewidth\": 0, \"ticks\": \"\"}}, \"marker\": {\"colorbar\": {\"outlinewidth\": 0, \"ticks\": \"\"}}, \"type\": \"scatter3d\"}], \"scattercarpet\": [{\"marker\": {\"colorbar\": {\"outlinewidth\": 0, \"ticks\": \"\"}}, \"type\": \"scattercarpet\"}], \"scattergeo\": [{\"marker\": {\"colorbar\": {\"outlinewidth\": 0, \"ticks\": \"\"}}, \"type\": \"scattergeo\"}], \"scattergl\": [{\"marker\": {\"colorbar\": {\"outlinewidth\": 0, \"ticks\": \"\"}}, \"type\": \"scattergl\"}], \"scattermapbox\": [{\"marker\": {\"colorbar\": {\"outlinewidth\": 0, \"ticks\": \"\"}}, \"type\": \"scattermapbox\"}], \"scatterpolar\": [{\"marker\": {\"colorbar\": {\"outlinewidth\": 0, \"ticks\": \"\"}}, \"type\": \"scatterpolar\"}], \"scatterpolargl\": [{\"marker\": {\"colorbar\": {\"outlinewidth\": 0, \"ticks\": \"\"}}, \"type\": \"scatterpolargl\"}], \"scatterternary\": [{\"marker\": {\"colorbar\": {\"outlinewidth\": 0, \"ticks\": \"\"}}, \"type\": \"scatterternary\"}], \"surface\": [{\"colorbar\": {\"outlinewidth\": 0, \"ticks\": \"\"}, \"colorscale\": [[0.0, \"#0d0887\"], [0.1111111111111111, \"#46039f\"], [0.2222222222222222, \"#7201a8\"], [0.3333333333333333, \"#9c179e\"], [0.4444444444444444, \"#bd3786\"], [0.5555555555555556, \"#d8576b\"], [0.6666666666666666, \"#ed7953\"], [0.7777777777777778, \"#fb9f3a\"], [0.8888888888888888, \"#fdca26\"], [1.0, \"#f0f921\"]], \"type\": \"surface\"}], \"table\": [{\"cells\": {\"fill\": {\"color\": \"#EBF0F8\"}, \"line\": {\"color\": \"white\"}}, \"header\": {\"fill\": {\"color\": \"#C8D4E3\"}, \"line\": {\"color\": \"white\"}}, \"type\": \"table\"}]}, \"layout\": {\"annotationdefaults\": {\"arrowcolor\": \"#2a3f5f\", \"arrowhead\": 0, \"arrowwidth\": 1}, \"coloraxis\": {\"colorbar\": {\"outlinewidth\": 0, \"ticks\": \"\"}}, \"colorscale\": {\"diverging\": [[0, \"#8e0152\"], [0.1, \"#c51b7d\"], [0.2, \"#de77ae\"], [0.3, \"#f1b6da\"], [0.4, \"#fde0ef\"], [0.5, \"#f7f7f7\"], [0.6, \"#e6f5d0\"], [0.7, \"#b8e186\"], [0.8, \"#7fbc41\"], [0.9, \"#4d9221\"], [1, \"#276419\"]], \"sequential\": [[0.0, \"#0d0887\"], [0.1111111111111111, \"#46039f\"], [0.2222222222222222, \"#7201a8\"], [0.3333333333333333, \"#9c179e\"], [0.4444444444444444, \"#bd3786\"], [0.5555555555555556, \"#d8576b\"], [0.6666666666666666, \"#ed7953\"], [0.7777777777777778, \"#fb9f3a\"], [0.8888888888888888, \"#fdca26\"], [1.0, \"#f0f921\"]], \"sequentialminus\": [[0.0, \"#0d0887\"], [0.1111111111111111, \"#46039f\"], [0.2222222222222222, \"#7201a8\"], [0.3333333333333333, \"#9c179e\"], [0.4444444444444444, \"#bd3786\"], [0.5555555555555556, \"#d8576b\"], [0.6666666666666666, \"#ed7953\"], [0.7777777777777778, \"#fb9f3a\"], [0.8888888888888888, \"#fdca26\"], [1.0, \"#f0f921\"]]}, \"colorway\": [\"#636efa\", \"#EF553B\", \"#00cc96\", \"#ab63fa\", \"#FFA15A\", \"#19d3f3\", \"#FF6692\", \"#B6E880\", \"#FF97FF\", \"#FECB52\"], \"font\": {\"color\": \"#2a3f5f\"}, \"geo\": {\"bgcolor\": \"white\", \"lakecolor\": \"white\", \"landcolor\": \"white\", \"showlakes\": true, \"showland\": true, \"subunitcolor\": \"#C8D4E3\"}, \"hoverlabel\": {\"align\": \"left\"}, \"hovermode\": \"closest\", \"mapbox\": {\"style\": \"light\"}, \"paper_bgcolor\": \"white\", \"plot_bgcolor\": \"white\", \"polar\": {\"angularaxis\": {\"gridcolor\": \"#EBF0F8\", \"linecolor\": \"#EBF0F8\", \"ticks\": \"\"}, \"bgcolor\": \"white\", \"radialaxis\": {\"gridcolor\": \"#EBF0F8\", \"linecolor\": \"#EBF0F8\", \"ticks\": \"\"}}, \"scene\": {\"xaxis\": {\"backgroundcolor\": \"white\", \"gridcolor\": \"#DFE8F3\", \"gridwidth\": 2, \"linecolor\": \"#EBF0F8\", \"showbackground\": true, \"ticks\": \"\", \"zerolinecolor\": \"#EBF0F8\"}, \"yaxis\": {\"backgroundcolor\": \"white\", \"gridcolor\": \"#DFE8F3\", \"gridwidth\": 2, \"linecolor\": \"#EBF0F8\", \"showbackground\": true, \"ticks\": \"\", \"zerolinecolor\": \"#EBF0F8\"}, \"zaxis\": {\"backgroundcolor\": \"white\", \"gridcolor\": \"#DFE8F3\", \"gridwidth\": 2, \"linecolor\": \"#EBF0F8\", \"showbackground\": true, \"ticks\": \"\", \"zerolinecolor\": \"#EBF0F8\"}}, \"shapedefaults\": {\"line\": {\"color\": \"#2a3f5f\"}}, \"ternary\": {\"aaxis\": {\"gridcolor\": \"#DFE8F3\", \"linecolor\": \"#A2B1C6\", \"ticks\": \"\"}, \"baxis\": {\"gridcolor\": \"#DFE8F3\", \"linecolor\": \"#A2B1C6\", \"ticks\": \"\"}, \"bgcolor\": \"white\", \"caxis\": {\"gridcolor\": \"#DFE8F3\", \"linecolor\": \"#A2B1C6\", \"ticks\": \"\"}}, \"title\": {\"x\": 0.05}, \"xaxis\": {\"automargin\": true, \"gridcolor\": \"#EBF0F8\", \"linecolor\": \"#EBF0F8\", \"ticks\": \"\", \"title\": {\"standoff\": 15}, \"zerolinecolor\": \"#EBF0F8\", \"zerolinewidth\": 2}, \"yaxis\": {\"automargin\": true, \"gridcolor\": \"#EBF0F8\", \"linecolor\": \"#EBF0F8\", \"ticks\": \"\", \"title\": {\"standoff\": 15}, \"zerolinecolor\": \"#EBF0F8\", \"zerolinewidth\": 2}}}, \"width\": 900, \"xaxis\": {\"anchor\": \"y\", \"domain\": [0.0, 1.0], \"linecolor\": \"black\", \"linewidth\": 1, \"matches\": \"x2\", \"showgrid\": false, \"showline\": true, \"showticklabels\": false, \"tickcolor\": \"black\", \"ticklen\": 10, \"ticks\": \"outside\", \"tickwidth\": 1, \"title\": {\"text\": \"\"}, \"zeroline\": false}, \"xaxis2\": {\"anchor\": \"y2\", \"domain\": [0.0, 1.0], \"linecolor\": \"black\", \"linewidth\": 1, \"showgrid\": false, \"showline\": true, \"tickcolor\": \"black\", \"ticklen\": 10, \"ticks\": \"outside\", \"tickwidth\": 1, \"title\": {\"text\": \"Time (s)\"}, \"zeroline\": false}, \"yaxis\": {\"anchor\": \"x\", \"domain\": [0.5349999999999999, 0.9999999999999999], \"linecolor\": \"black\", \"linewidth\": 1, \"showgrid\": false, \"showline\": true, \"tickcolor\": \"black\", \"ticklen\": 10, \"ticks\": \"outside\", \"tickwidth\": 1, \"title\": {\"text\": \"Velocity (mph)\"}, \"zeroline\": false}, \"yaxis2\": {\"anchor\": \"x2\", \"domain\": [0.0, 0.46499999999999997], \"linecolor\": \"black\", \"linewidth\": 1, \"showgrid\": false, \"showline\": true, \"tickcolor\": \"black\", \"ticklen\": 10, \"ticks\": \"outside\", \"tickwidth\": 1, \"title\": {\"text\": \"Slip Angle (deg)\"}, \"zeroline\": false}},\n",
       "                        {\"responsive\": true}\n",
       "                    ).then(function(){\n",
       "                            \n",
       "var gd = document.getElementById('a7592e4c-e311-4f03-9ec0-5fbc47f3e902');\n",
       "var x = new MutationObserver(function (mutations, observer) {{\n",
       "        var display = window.getComputedStyle(gd).display;\n",
       "        if (!display || display === 'none') {{\n",
       "            console.log([gd, 'removed!']);\n",
       "            Plotly.purge(gd);\n",
       "            observer.disconnect();\n",
       "        }}\n",
       "}});\n",
       "\n",
       "// Listen for the removal of the full notebook cells\n",
       "var notebookContainer = gd.closest('#notebook-container');\n",
       "if (notebookContainer) {{\n",
       "    x.observe(notebookContainer, {childList: true});\n",
       "}}\n",
       "\n",
       "// Listen for the clearing of the current output cell\n",
       "var outputEl = gd.closest('.output');\n",
       "if (outputEl) {{\n",
       "    x.observe(outputEl, {childList: true});\n",
       "}}\n",
       "\n",
       "                        })\n",
       "                };\n",
       "                });\n",
       "            </script>\n",
       "        </div>"
      ]
     },
     "metadata": {},
     "output_type": "display_data"
    },
    {
     "data": {
      "application/vnd.plotly.v1+json": {
       "config": {
        "plotlyServerURL": "https://plot.ly"
       },
       "data": [
        {
         "line": {
          "color": "rgb(0, 0, 255)",
          "width": 2
         },
         "mode": "lines",
         "name": "LF - Pycrash",
         "type": "scatter",
         "x": [
          0,
          0.1,
          0.2,
          0.3,
          0.4,
          0.5,
          0.6,
          0.7,
          0.8,
          0.9,
          1,
          1.1,
          1.2,
          1.3,
          1.4,
          1.5,
          1.6,
          1.7,
          1.8,
          1.9,
          2,
          2.1,
          2.2,
          2.3,
          2.4,
          2.5,
          2.6,
          2.7,
          2.8,
          2.9,
          3,
          3.1,
          3.2,
          3.3,
          3.4,
          3.5,
          3.6,
          3.7,
          3.8,
          3.9,
          4,
          4.1,
          4.2,
          4.3,
          4.4,
          4.5,
          4.6,
          4.7,
          4.8,
          4.9,
          5,
          5.1,
          5.2,
          5.3,
          5.4,
          5.5,
          5.6,
          5.7,
          5.8,
          5.9,
          6,
          6.1,
          6.2,
          6.3,
          6.4,
          6.5,
          6.6,
          6.7,
          6.8,
          6.9,
          7,
          7.1,
          7.2,
          7.3,
          7.4,
          7.5,
          7.6,
          7.7,
          7.8,
          7.9,
          8,
          8.1,
          8.2,
          8.3,
          8.4,
          8.5,
          8.6,
          8.7,
          8.8,
          8.9,
          9,
          9.1,
          9.2,
          9.3,
          9.4,
          9.5,
          9.6,
          9.7,
          9.8,
          9.9,
          10,
          10.1,
          10.2,
          10.3,
          10.4,
          10.5,
          10.6,
          10.7,
          10.8,
          10.9
         ],
         "xaxis": "x",
         "y": [
          0,
          0,
          0,
          0,
          0,
          0,
          0,
          0,
          0,
          0,
          0,
          -96.79897019892593,
          -178.58805788410865,
          -223.93870203580443,
          -251.02924631027042,
          -274.48085048595533,
          -299.74717581934374,
          -326.64932890791937,
          -352.9334315775272,
          -376.3470890868163,
          -395.3881350296712,
          -350.15183777850353,
          -322.4429257871581,
          -316.3962038937999,
          -320.71590516277723,
          -325.25878209629985,
          -325.5305061343407,
          -321.21833662215425,
          -313.5270704232339,
          -303.72739335089125,
          -292.7576969674242,
          -281.24676094731274,
          -269.61712970916165,
          -258.16759440665885,
          -247.12155472715705,
          -236.64818044099917,
          -226.86677113913288,
          -217.8449615617817,
          -209.5990997813317,
          -202.1007152884253,
          -195.28853008226648,
          -189.0828234064355,
          -183.3986273136518,
          -178.15545174171572,
          -173.28287536334176,
          -168.72257799265668,
          -164.42795709301285,
          -160.36248076454564,
          -156.49764288422216,
          -152.81103272722092,
          -149.28474337627873,
          -145.9041615555082,
          -142.65709280531027,
          -139.53314768443332,
          -136.52331708534712,
          -133.61967835327238,
          -130.81518902099933,
          -128.10353799671373,
          -125.47903415043591,
          -122.93651957440429,
          -120.47129975098494,
          -118.07908595696296,
          -115.75594701174255,
          -113.49826843960717,
          -111.30271764155603,
          -109.16621399255253,
          -107.08590300745314,
          -105.05913389470852,
          -103.08343995372223,
          -101.156521376342,
          -99.27623009288673,
          -97.44055636569325,
          -95.64761688359638,
          -93.89564415197007,
          -92.18297700656429,
          -90.50805210658316,
          -88.86939628449636,
          -87.26561964808961,
          -85.6954093452038,
          -84.15752391412667,
          -82.65078815314794,
          -81.1740884516767,
          -79.72636853284084,
          -78.30662556386481,
          -76.91390659595845,
          -75.54730530011864,
          -74.20595896925549,
          -72.88904576051958,
          -71.5957821547139,
          -70.32542061226658,
          -69.07724740751848,
          -67.85058062505004,
          -66.64476830351624,
          -65.45918671397249,
          -64.29323876101952,
          -63.146352496278766,
          -62.01797973474805,
          -60.90759476552273,
          -59.81469314918315,
          -58.73879059488208,
          -57.67942191082491,
          -56.63614002240103,
          -55.60851505276796,
          -54.596133461140916,
          -53.59859723446063,
          -52.615523128501486,
          -51.646541954803666,
          -50.691297910135674,
          -49.749447945457646,
          -48.82066117161426
         ],
         "yaxis": "y"
        },
        {
         "line": {
          "color": "rgb(0, 0, 255)",
          "dash": "dash",
          "width": 2
         },
         "mode": "lines",
         "name": "LF - Validate",
         "type": "scatter",
         "x": [
          0,
          0.1,
          0.2,
          0.3,
          0.4,
          0.5,
          0.6,
          0.7,
          0.8,
          0.9,
          1,
          1.1,
          1.2,
          1.3,
          1.4,
          1.5,
          1.6,
          1.7,
          1.8,
          1.9,
          2,
          2.1,
          2.2,
          2.3,
          2.4,
          2.5,
          2.6,
          2.7,
          2.8,
          2.9,
          3,
          3.1,
          3.2,
          3.3,
          3.4,
          3.5,
          3.6,
          3.7,
          3.8,
          3.9,
          4,
          4.1,
          4.2,
          4.3,
          4.4,
          4.5,
          4.6,
          4.7,
          4.8,
          4.9,
          5,
          5.1,
          5.2,
          5.3,
          5.4,
          5.5,
          5.6,
          5.7,
          5.8,
          5.9,
          6,
          6.1,
          6.2,
          6.3,
          6.4,
          6.5,
          6.6,
          6.7,
          6.8,
          6.9,
          7,
          7.1,
          7.2,
          7.3,
          7.4,
          7.5,
          7.6,
          7.7,
          7.8,
          7.9,
          8,
          8.1,
          8.2,
          8.3,
          8.4,
          8.5,
          8.6,
          8.7,
          8.8,
          8.9,
          9,
          9.1,
          9.2,
          9.3,
          9.4,
          9.5,
          9.6,
          9.7,
          9.8,
          9.9,
          10,
          10.1,
          10.2,
          10.3,
          10.4,
          10.5,
          10.6,
          10.7,
          10.8,
          10.9
         ],
         "xaxis": "x",
         "y": [
          0,
          0,
          0,
          0,
          0,
          0,
          0,
          0,
          0,
          0,
          0,
          -141.514,
          -241.215,
          -341.58,
          -450.384,
          -567.327,
          -692.789,
          -829.8839999999999,
          -987.707,
          -1153.27,
          -1267.636,
          -1188.979,
          -1074.692,
          -993.016,
          -938.7489999999999,
          -902.576,
          -874.752,
          -850.718,
          -828.2199999999999,
          -806.446,
          -785.353,
          -765.1419999999999,
          -745.976,
          -727.915,
          -710.934,
          -694.943,
          -679.847,
          -665.5600000000001,
          -651.9979999999999,
          -639.097,
          -626.807,
          -615.077,
          -603.8670000000001,
          -593.145,
          -582.875,
          -573.028,
          -563.578,
          -554.4989999999999,
          -545.767,
          -537.363,
          -529.266,
          -521.458,
          -513.926,
          -506.65099999999995,
          -499.621,
          -492.824,
          -486.245,
          -479.87600000000003,
          -473.705,
          -467.723,
          -461.91900000000004,
          -456.288,
          -450.82,
          -445.507,
          -440.344,
          -435.32300000000004,
          -430.438,
          -425.684,
          -421.054,
          -416.545,
          -412.15000000000003,
          -407.866,
          -403.688,
          -399.613,
          -395.635,
          -391.75100000000003,
          -387.959,
          -384.25399999999996,
          -380.633,
          -377.094,
          -373.633,
          -370.24800000000005,
          -366.937,
          -363.696,
          -360.52299999999997,
          -357.417,
          -354.375,
          -351.394,
          -348.47299999999996,
          -345.611,
          -342.804,
          -340.053,
          -337.354,
          -334.706,
          -332.108,
          -329.55899999999997,
          -327.05600000000004,
          -324.59900000000005,
          -322.186,
          -319.816,
          -317.488,
          -315.2,
          -312.952,
          -310.742,
          -308.57,
          -306.43399999999997,
          -304.334,
          -302.269,
          -300.23699999999997,
          -298.23699999999997
         ],
         "yaxis": "y"
        },
        {
         "line": {
          "color": "rgb(0, 255, 0)",
          "width": 2
         },
         "mode": "lines",
         "name": "RF - Pycrash",
         "type": "scatter",
         "x": [
          0,
          0.1,
          0.2,
          0.3,
          0.4,
          0.5,
          0.6,
          0.7,
          0.8,
          0.9,
          1,
          1.1,
          1.2,
          1.3,
          1.4,
          1.5,
          1.6,
          1.7,
          1.8,
          1.9,
          2,
          2.1,
          2.2,
          2.3,
          2.4,
          2.5,
          2.6,
          2.7,
          2.8,
          2.9,
          3,
          3.1,
          3.2,
          3.3,
          3.4,
          3.5,
          3.6,
          3.7,
          3.8,
          3.9,
          4,
          4.1,
          4.2,
          4.3,
          4.4,
          4.5,
          4.6,
          4.7,
          4.8,
          4.9,
          5,
          5.1,
          5.2,
          5.3,
          5.4,
          5.5,
          5.6,
          5.7,
          5.8,
          5.9,
          6,
          6.1,
          6.2,
          6.3,
          6.4,
          6.5,
          6.6,
          6.7,
          6.8,
          6.9,
          7,
          7.1,
          7.2,
          7.3,
          7.4,
          7.5,
          7.6,
          7.7,
          7.8,
          7.9,
          8,
          8.1,
          8.2,
          8.3,
          8.4,
          8.5,
          8.6,
          8.7,
          8.8,
          8.9,
          9,
          9.1,
          9.2,
          9.3,
          9.4,
          9.5,
          9.6,
          9.7,
          9.8,
          9.9,
          10,
          10.1,
          10.2,
          10.3,
          10.4,
          10.5,
          10.6,
          10.7,
          10.8,
          10.9
         ],
         "xaxis": "x2",
         "y": [
          0,
          0,
          0,
          0,
          0,
          0,
          0,
          0,
          0,
          0,
          0,
          -96.79897019892593,
          -194.3261131259471,
          -264.14417035392887,
          -314.1710843791108,
          -361.9568797432096,
          -419.20601835781406,
          -489.895126684938,
          -573.3299918144781,
          -666.76785189459,
          -766.7625633192094,
          -761.87904652123,
          -733.0417254708008,
          -734.7337810425753,
          -763.0394090144042,
          -798.5300976767593,
          -825.5518675451025,
          -836.8157299474318,
          -831.8357111364897,
          -813.708737494227,
          -786.5358388726851,
          -754.0606337921201,
          -719.2243283447841,
          -684.1746946996708,
          -650.4102891379656,
          -618.917557928042,
          -590.2708552828251,
          -564.7101521648161,
          -542.214559766624,
          -522.5781261545928,
          -505.4838762936426,
          -490.5682668577706,
          -477.4700009199462,
          -465.8612352450748,
          -455.46295519415685,
          -446.04845644594053,
          -437.4393864090925,
          -429.4981775119144,
          -422.1195826598663,
          -415.2228880301581,
          -408.745492799587,
          -402.63797957289376,
          -396.8605078172614,
          -391.3802578074022,
          -386.1696515062269,
          -381.2051206626122,
          -376.4662474075582,
          -371.9351529543724,
          -367.59605015062857,
          -363.4349050333414,
          -359.4391726728483,
          -355.59758557008576,
          -351.8999808124913,
          -348.3371568863946,
          -344.9007538110234,
          -341.58315195761384,
          -338.3773860347147,
          -335.2770715076571,
          -332.27634129885973,
          -329.36979105115006,
          -326.5524315693461,
          -323.8196473142825,
          -321.16716002793925,
          -318.59099673148,
          -316.0874614687873,
          -313.653110273181,
          -311.2847289198089,
          -308.97931309510346,
          -306.73405067118955,
          -304.54630581978813,
          -302.41360473894883,
          -300.333622798297,
          -298.30417293560237,
          -296.3231951602619,
          -294.3887470385686,
          -292.4989950519759,
          -290.65220673350234,
          -288.8467434993276,
          -287.081054102846,
          -285.3536686472292,
          -283.6631931001328,
          -282.0083042607487,
          -280.38774513509975,
          -278.8003206804381,
          -277.2448938839319,
          -275.72038214461764,
          -274.22575393091046,
          -272.7600256888835,
          -271.322258979102,
          -269.9115578220608,
          -268.5270662342836,
          -267.16796593891974,
          -265.833474236254,
          -264.5228420209463,
          -263.23535193407537,
          -261.9703166391704,
          -260.7270772124181,
          -259.50500163812836,
          -258.3034834013381,
          -257.12194017015963
         ],
         "yaxis": "y2"
        },
        {
         "line": {
          "color": "rgb(0, 255, 0)",
          "dash": "dash",
          "width": 2
         },
         "mode": "lines",
         "name": "RF - Validate",
         "type": "scatter",
         "x": [
          0,
          0.1,
          0.2,
          0.3,
          0.4,
          0.5,
          0.6,
          0.7,
          0.8,
          0.9,
          1,
          1.1,
          1.2,
          1.3,
          1.4,
          1.5,
          1.6,
          1.7,
          1.8,
          1.9,
          2,
          2.1,
          2.2,
          2.3,
          2.4,
          2.5,
          2.6,
          2.7,
          2.8,
          2.9,
          3,
          3.1,
          3.2,
          3.3,
          3.4,
          3.5,
          3.6,
          3.7,
          3.8,
          3.9,
          4,
          4.1,
          4.2,
          4.3,
          4.4,
          4.5,
          4.6,
          4.7,
          4.8,
          4.9,
          5,
          5.1,
          5.2,
          5.3,
          5.4,
          5.5,
          5.6,
          5.7,
          5.8,
          5.9,
          6,
          6.1,
          6.2,
          6.3,
          6.4,
          6.5,
          6.6,
          6.7,
          6.8,
          6.9,
          7,
          7.1,
          7.2,
          7.3,
          7.4,
          7.5,
          7.6,
          7.7,
          7.8,
          7.9,
          8,
          8.1,
          8.2,
          8.3,
          8.4,
          8.5,
          8.6,
          8.7,
          8.8,
          8.9,
          9,
          9.1,
          9.2,
          9.3,
          9.4,
          9.5,
          9.6,
          9.7,
          9.8,
          9.9,
          10,
          10.1,
          10.2,
          10.3,
          10.4,
          10.5,
          10.6,
          10.7,
          10.8,
          10.9
         ],
         "xaxis": "x2",
         "y": [
          0,
          0,
          0,
          0,
          0,
          0,
          0,
          0,
          0,
          0,
          0,
          -185.408,
          -294.30400000000003,
          -369.78499999999997,
          -427.452,
          -472.012,
          -504.997,
          -504.53999999999996,
          -479.558,
          -458.05,
          -440.866,
          -439.827,
          -453.69100000000003,
          -465.039,
          -451.827,
          -444.106,
          -438.554,
          -434.108,
          -430.203,
          -426.497,
          -422.83,
          -419.15599999999995,
          -415.479,
          -411.82,
          -408.196,
          -404.619,
          -401.096,
          -397.632,
          -394.227,
          -390.881,
          -387.594,
          -384.364,
          -381.19199999999995,
          -378.07800000000003,
          -375.019,
          -372.015,
          -369.06600000000003,
          -366.17100000000005,
          -363.328,
          -360.537,
          -357.79699999999997,
          -355.106,
          -352.463,
          -349.86699999999996,
          -347.317,
          -344.813,
          -342.352,
          -339.934,
          -337.55800000000005,
          -335.22200000000004,
          -332.926,
          -330.67,
          -328.45099999999996,
          -326.26899999999995,
          -324.123,
          -322.012,
          -319.935,
          -317.892,
          -315.882,
          -313.90299999999996,
          -311.956,
          -310.03799999999995,
          -308.151,
          -306.29200000000003,
          -304.462,
          -302.65999999999997,
          -300.88399999999996,
          -299.135,
          -297.411,
          -295.713,
          -294.039,
          -292.389,
          -290.762,
          -289.159,
          -287.578,
          -286.019,
          -284.482,
          -282.96500000000003,
          -281.46900000000005,
          -279.994,
          -278.538,
          -277.101,
          -275.683,
          -274.284,
          -272.903,
          -271.539,
          -270.19300000000004,
          -268.864,
          -267.552,
          -266.256,
          -264.976,
          -263.712,
          -262.463,
          -261.229,
          -260.01,
          -258.806,
          -257.616,
          -256.44,
          -255.278,
          -254.129
         ],
         "yaxis": "y2"
        },
        {
         "line": {
          "color": "rgb(153, 0, 204)",
          "width": 2
         },
         "mode": "lines",
         "name": "RR - Pycrash",
         "type": "scatter",
         "x": [
          0,
          0.1,
          0.2,
          0.3,
          0.4,
          0.5,
          0.6,
          0.7,
          0.8,
          0.9,
          1,
          1.1,
          1.2,
          1.3,
          1.4,
          1.5,
          1.6,
          1.7,
          1.8,
          1.9,
          2,
          2.1,
          2.2,
          2.3,
          2.4,
          2.5,
          2.6,
          2.7,
          2.8,
          2.9,
          3,
          3.1,
          3.2,
          3.3,
          3.4,
          3.5,
          3.6,
          3.7,
          3.8,
          3.9,
          4,
          4.1,
          4.2,
          4.3,
          4.4,
          4.5,
          4.6,
          4.7,
          4.8,
          4.9,
          5,
          5.1,
          5.2,
          5.3,
          5.4,
          5.5,
          5.6,
          5.7,
          5.8,
          5.9,
          6,
          6.1,
          6.2,
          6.3,
          6.4,
          6.5,
          6.6,
          6.7,
          6.8,
          6.9,
          7,
          7.1,
          7.2,
          7.3,
          7.4,
          7.5,
          7.6,
          7.7,
          7.8,
          7.9,
          8,
          8.1,
          8.2,
          8.3,
          8.4,
          8.5,
          8.6,
          8.7,
          8.8,
          8.9,
          9,
          9.1,
          9.2,
          9.3,
          9.4,
          9.5,
          9.6,
          9.7,
          9.8,
          9.9,
          10,
          10.1,
          10.2,
          10.3,
          10.4,
          10.5,
          10.6,
          10.7,
          10.8,
          10.9
         ],
         "xaxis": "x3",
         "y": [
          0,
          0,
          0,
          0,
          0,
          0,
          0,
          0,
          0,
          0,
          0,
          0,
          0.6687605403575789,
          1.3805611379866325,
          -1.8648338985612047,
          -13.023045992052742,
          -33.26758286219068,
          -61.669175143728935,
          -96.48513652854885,
          -135.87971197776332,
          -178.17954422449816,
          -221.89479503381392,
          -263.8344387197299,
          -306.38137831693524,
          -347.35871241560545,
          -382.20798398090983,
          -407.50909645972615,
          -422.0451104320622,
          -426.36369523790717,
          -421.9706959869583,
          -410.71710955327757,
          -394.4718933184222,
          -374.980946361077,
          -353.8018240768534,
          -332.25529709292744,
          -311.3826069596099,
          -291.920282764914,
          -274.30509467569277,
          -258.7111030628541,
          -245.10967618918926,
          -233.33795724447538,
          -223.1623072850076,
          -214.3281669672377,
          -206.59341232248886,
          -199.74655424386754,
          -193.61337732794817,
          -188.05612023033916,
          -182.96873253380713,
          -178.2707408079873,
          -173.90125429175166,
          -169.8138535713726,
          -165.97258672924886,
          -162.3490103736196,
          -158.920089668458,
          -155.66674617948675,
          -152.57286563135273,
          -149.6246182727852,
          -146.80998561741188,
          -144.11842152378512,
          -141.54060099493552,
          -139.0682274813866,
          -136.6938806339514,
          -134.41089325189253,
          -132.21325017593415,
          -130.09550421530295,
          -128.0527056006886,
          -126.08034234423326,
          -124.17428949087768,
          -122.33076567924012,
          -120.54629575494405,
          -118.81767842839243,
          -117.14195816291344,
          -115.51640063160298,
          -113.93847120168984,
          -112.40581600094126,
          -110.91624519700186,
          -109.4677181818942,
          -108.0583304035642,
          -106.68630162686358,
          -105.34996543965727,
          -104.0477598472623,
          -102.77821882128343,
          -101.53996468798601,
          -100.33170125733186,
          -99.15220760726595,
          -98.00033244922518,
          -96.8749890105013,
          -95.77515037732863,
          -94.69984524960164,
          -93.64815406417176,
          -92.61920544886678,
          -91.61217297386375,
          -90.62627217093332,
          -89.66075779444098,
          -88.71492130093094,
          -87.78808852667932,
          -86.87961754484297,
          -85.98889668579857,
          -85.11534270599181,
          -84.25839909214085,
          -83.41753448897967,
          -82.59224123991518,
          -81.78203403102651,
          -80.98644862976768,
          -80.2050407105686,
          -79.43738476026876,
          -78.68307305698102,
          -77.94171471657268,
          -77.21293480148265,
          -76.49637348706744
         ],
         "yaxis": "y3"
        },
        {
         "line": {
          "color": "rgb(153, 0, 204)",
          "dash": "dash",
          "width": 2
         },
         "mode": "lines",
         "name": "RR - Validate",
         "type": "scatter",
         "x": [
          0,
          0.1,
          0.2,
          0.3,
          0.4,
          0.5,
          0.6,
          0.7,
          0.8,
          0.9,
          1,
          1.1,
          1.2,
          1.3,
          1.4,
          1.5,
          1.6,
          1.7,
          1.8,
          1.9,
          2,
          2.1,
          2.2,
          2.3,
          2.4,
          2.5,
          2.6,
          2.7,
          2.8,
          2.9,
          3,
          3.1,
          3.2,
          3.3,
          3.4,
          3.5,
          3.6,
          3.7,
          3.8,
          3.9,
          4,
          4.1,
          4.2,
          4.3,
          4.4,
          4.5,
          4.6,
          4.7,
          4.8,
          4.9,
          5,
          5.1,
          5.2,
          5.3,
          5.4,
          5.5,
          5.6,
          5.7,
          5.8,
          5.9,
          6,
          6.1,
          6.2,
          6.3,
          6.4,
          6.5,
          6.6,
          6.7,
          6.8,
          6.9,
          7,
          7.1,
          7.2,
          7.3,
          7.4,
          7.5,
          7.6,
          7.7,
          7.8,
          7.9,
          8,
          8.1,
          8.2,
          8.3,
          8.4,
          8.5,
          8.6,
          8.7,
          8.8,
          8.9,
          9,
          9.1,
          9.2,
          9.3,
          9.4,
          9.5,
          9.6,
          9.7,
          9.8,
          9.9,
          10,
          10.1,
          10.2,
          10.3,
          10.4,
          10.5,
          10.6,
          10.7,
          10.8,
          10.9
         ],
         "xaxis": "x3",
         "y": [
          0,
          0,
          0,
          0,
          0,
          0,
          0,
          0,
          0,
          0,
          0,
          1.2049999999999998,
          -2.83,
          -35.617000000000004,
          -63.495,
          -88.541,
          -108.7,
          -123.605,
          -133.206,
          -135.905,
          -134.152,
          -143.161,
          -166.136,
          -184.367,
          -195.416,
          -200.251,
          -201.481,
          -201.35500000000002,
          -200.936,
          -200.533,
          -200.13500000000002,
          -199.666,
          -199.08,
          -198.374,
          -197.56699999999998,
          -196.688,
          -195.759,
          -194.793,
          -193.801,
          -192.78699999999998,
          -191.756,
          -190.71099999999998,
          -189.65699999999998,
          -188.595,
          -187.529,
          -186.46099999999998,
          -185.392,
          -184.325,
          -183.261,
          -182.201,
          -181.14600000000002,
          -180.098,
          -179.05599999999998,
          -178.02200000000002,
          -176.99599999999998,
          -175.97899999999998,
          -174.97099999999998,
          -173.97199999999998,
          -172.982,
          -172.00199999999998,
          -171.033,
          -170.073,
          -169.123,
          -168.184,
          -167.255,
          -166.336,
          -165.428,
          -164.529,
          -163.64100000000002,
          -162.76299999999998,
          -161.895,
          -161.037,
          -160.189,
          -159.35,
          -158.522,
          -157.703,
          -156.893,
          -156.09300000000002,
          -155.302,
          -154.51999999999998,
          -153.748,
          -152.984,
          -152.229,
          -151.483,
          -150.74499999999998,
          -150.01600000000002,
          -149.29500000000002,
          -148.582,
          -147.877,
          -147.18,
          -146.491,
          -145.81,
          -145.136,
          -144.47,
          -143.811,
          -143.16,
          -142.51500000000001,
          -141.87800000000001,
          -141.24800000000002,
          -140.624,
          -140.007,
          -139.397,
          -138.793,
          -138.19600000000003,
          -137.60500000000002,
          -137.02,
          -136.441,
          -135.868,
          -135.30100000000002,
          -134.74099999999999
         ],
         "yaxis": "y3"
        },
        {
         "line": {
          "color": "rgb(255, 102, 0)",
          "width": 2
         },
         "mode": "lines",
         "name": "LR - Pycrash",
         "type": "scatter",
         "x": [
          0,
          0.1,
          0.2,
          0.3,
          0.4,
          0.5,
          0.6,
          0.7,
          0.8,
          0.9,
          1,
          1.1,
          1.2,
          1.3,
          1.4,
          1.5,
          1.6,
          1.7,
          1.8,
          1.9,
          2,
          2.1,
          2.2,
          2.3,
          2.4,
          2.5,
          2.6,
          2.7,
          2.8,
          2.9,
          3,
          3.1,
          3.2,
          3.3,
          3.4,
          3.5,
          3.6,
          3.7,
          3.8,
          3.9,
          4,
          4.1,
          4.2,
          4.3,
          4.4,
          4.5,
          4.6,
          4.7,
          4.8,
          4.9,
          5,
          5.1,
          5.2,
          5.3,
          5.4,
          5.5,
          5.6,
          5.7,
          5.8,
          5.9,
          6,
          6.1,
          6.2,
          6.3,
          6.4,
          6.5,
          6.6,
          6.7,
          6.8,
          6.9,
          7,
          7.1,
          7.2,
          7.3,
          7.4,
          7.5,
          7.6,
          7.7,
          7.8,
          7.9,
          8,
          8.1,
          8.2,
          8.3,
          8.4,
          8.5,
          8.6,
          8.7,
          8.8,
          8.9,
          9,
          9.1,
          9.2,
          9.3,
          9.4,
          9.5,
          9.6,
          9.7,
          9.8,
          9.9,
          10,
          10.1,
          10.2,
          10.3,
          10.4,
          10.5,
          10.6,
          10.7,
          10.8,
          10.9
         ],
         "xaxis": "x4",
         "y": [
          0,
          0,
          0,
          0,
          0,
          0,
          0,
          0,
          0,
          0,
          0,
          0,
          0.6147021985202646,
          1.1733233471714204,
          -1.5057605681441821,
          -10.120047967047247,
          -24.76790502309398,
          -43.39593364477646,
          -63.204102633982664,
          -81.75375609700717,
          -97.39150590461982,
          -109.20826778230246,
          -129.76257955640864,
          -150.71890292879257,
          -165.6035661501101,
          -173.30292178313866,
          -176.00647463605617,
          -176.3153876575045,
          -175.8206654478496,
          -175.064625470562,
          -173.99704383262002,
          -172.39079278909938,
          -170.0753797451307,
          -167.01924855921354,
          -163.32420022784396,
          -159.1805073665499,
          -154.81230418435743,
          -150.43015685841704,
          -146.19961340670545,
          -142.2281069210858,
          -138.56735213767675,
          -135.22532385371323,
          -132.18155042891536,
          -129.40109507741187,
          -126.84491158363099,
          -124.4761835856343,
          -122.26335871664855,
          -120.18095145580598,
          -118.20909947459869,
          -116.3325889129082,
          -114.53978400412174,
          -112.82167932105449,
          -111.17115228956935,
          -109.5824162802748,
          -108.05064048685644,
          -106.5716941632508,
          -105.14197682444664,
          -103.75830469886604,
          -102.41783268858461,
          -101.11799842778039,
          -99.8564802576352,
          -98.63116430477737,
          -97.44011785566215,
          -96.28156734522592,
          -95.15387989171613,
          -94.05554764729877,
          -92.98517443045507,
          -91.94146423077311,
          -90.92321126321735,
          -89.9292913132932,
          -88.9586541644935,
          -88.01031693902081,
          -87.08335821429618,
          -86.17691280276824,
          -85.29016710228831,
          -84.42235493996098,
          -83.57275384486624,
          -82.74068169514841,
          -81.92549369322248,
          -81.12657962966315,
          -80.343361401993,
          -79.57529075929615,
          -78.8218472475312,
          -78.08253633373533,
          -77.3568876901248,
          -76.64445362148932,
          -75.94480762131907,
          -75.25754304385784,
          -74.58227188077993,
          -73.9186236324934,
          -73.2662442651989,
          -72.62479524581444,
          -71.99395264773483,
          -71.37340632113876,
          -70.76285912221715,
          -70.16202619627289,
          -69.57063431014866,
          -68.98842122989383,
          -68.41513513997583,
          -67.85053410069875,
          -67.2943855408045,
          -66.74646578251314,
          -66.2065595965108,
          -65.6744597846161,
          -65.14996678805896,
          -64.63288831948499,
          -64.12303901696261,
          -63.62024011841463,
          -63.124319155030136,
          -62.63510966233121
         ],
         "yaxis": "y4"
        },
        {
         "line": {
          "color": "rgb(255, 102, 0)",
          "dash": "dash",
          "width": 2
         },
         "mode": "lines",
         "name": "LR - Validate",
         "type": "scatter",
         "x": [
          0,
          0.1,
          0.2,
          0.3,
          0.4,
          0.5,
          0.6,
          0.7,
          0.8,
          0.9,
          1,
          1.1,
          1.2,
          1.3,
          1.4,
          1.5,
          1.6,
          1.7,
          1.8,
          1.9,
          2,
          2.1,
          2.2,
          2.3,
          2.4,
          2.5,
          2.6,
          2.7,
          2.8,
          2.9,
          3,
          3.1,
          3.2,
          3.3,
          3.4,
          3.5,
          3.6,
          3.7,
          3.8,
          3.9,
          4,
          4.1,
          4.2,
          4.3,
          4.4,
          4.5,
          4.6,
          4.7,
          4.8,
          4.9,
          5,
          5.1,
          5.2,
          5.3,
          5.4,
          5.5,
          5.6,
          5.7,
          5.8,
          5.9,
          6,
          6.1,
          6.2,
          6.3,
          6.4,
          6.5,
          6.6,
          6.7,
          6.8,
          6.9,
          7,
          7.1,
          7.2,
          7.3,
          7.4,
          7.5,
          7.6,
          7.7,
          7.8,
          7.9,
          8,
          8.1,
          8.2,
          8.3,
          8.4,
          8.5,
          8.6,
          8.7,
          8.8,
          8.9,
          9,
          9.1,
          9.2,
          9.3,
          9.4,
          9.5,
          9.6,
          9.7,
          9.8,
          9.9,
          10,
          10.1,
          10.2,
          10.3,
          10.4,
          10.5,
          10.6,
          10.7,
          10.8,
          10.9
         ],
         "xaxis": "x4",
         "y": [
          0,
          0,
          0,
          0,
          0,
          0,
          0,
          0,
          0,
          0,
          0,
          1.2730000000000001,
          -3.763,
          -50.338,
          -100.22300000000001,
          -155.095,
          -211.581,
          -268.129,
          -319.84299999999996,
          -363.83500000000004,
          -402.092,
          -439.50800000000004,
          -465.912,
          -473.837,
          -470.66400000000004,
          -461.106,
          -449.522,
          -437.739,
          -426.236,
          -415.071,
          -404.27200000000005,
          -393.906,
          -384.038,
          -374.709,
          -365.926,
          -357.65799999999996,
          -349.862,
          -342.49600000000004,
          -335.51300000000003,
          -328.878,
          -322.564,
          -316.542,
          -310.79200000000003,
          -305.29499999999996,
          -300.03400000000005,
          -294.99199999999996,
          -290.156,
          -285.511,
          -281.045,
          -276.75,
          -272.612,
          -268.62399999999997,
          -264.777,
          -261.063,
          -257.474,
          -254.00499999999997,
          -250.64799999999997,
          -247.399,
          -244.251,
          -241.19899999999998,
          -238.24,
          -235.368,
          -232.58,
          -229.87099999999998,
          -227.239,
          -224.679,
          -222.189,
          -219.765,
          -217.405,
          -215.107,
          -212.867,
          -210.68300000000002,
          -208.553,
          -206.476,
          -204.44799999999998,
          -202.46800000000002,
          -200.535,
          -198.646,
          -196.8,
          -194.996,
          -193.232,
          -191.506,
          -189.817,
          -188.165,
          -186.547,
          -184.963,
          -183.411,
          -181.891,
          -180.401,
          -178.941,
          -177.51,
          -176.10600000000002,
          -174.72899999999998,
          -173.37800000000001,
          -172.05200000000002,
          -170.75099999999998,
          -169.47400000000002,
          -168.22,
          -166.988,
          -165.779,
          -164.58999999999997,
          -163.42200000000003,
          -162.274,
          -161.14600000000002,
          -160.037,
          -158.946,
          -157.874,
          -156.818,
          -155.78,
          -154.75900000000001
         ],
         "yaxis": "y4"
        }
       ],
       "layout": {
        "autosize": false,
        "font": {
         "color": "black",
         "family": "Arial",
         "size": 14
        },
        "height": 900,
        "legend": {
         "orientation": "h",
         "x": 0.01,
         "xanchor": "left",
         "y": 1.1,
         "yanchor": "top"
        },
        "template": {
         "data": {
          "bar": [
           {
            "error_x": {
             "color": "#2a3f5f"
            },
            "error_y": {
             "color": "#2a3f5f"
            },
            "marker": {
             "line": {
              "color": "white",
              "width": 0.5
             }
            },
            "type": "bar"
           }
          ],
          "barpolar": [
           {
            "marker": {
             "line": {
              "color": "white",
              "width": 0.5
             }
            },
            "type": "barpolar"
           }
          ],
          "carpet": [
           {
            "aaxis": {
             "endlinecolor": "#2a3f5f",
             "gridcolor": "#C8D4E3",
             "linecolor": "#C8D4E3",
             "minorgridcolor": "#C8D4E3",
             "startlinecolor": "#2a3f5f"
            },
            "baxis": {
             "endlinecolor": "#2a3f5f",
             "gridcolor": "#C8D4E3",
             "linecolor": "#C8D4E3",
             "minorgridcolor": "#C8D4E3",
             "startlinecolor": "#2a3f5f"
            },
            "type": "carpet"
           }
          ],
          "choropleth": [
           {
            "colorbar": {
             "outlinewidth": 0,
             "ticks": ""
            },
            "type": "choropleth"
           }
          ],
          "contour": [
           {
            "colorbar": {
             "outlinewidth": 0,
             "ticks": ""
            },
            "colorscale": [
             [
              0,
              "#0d0887"
             ],
             [
              0.1111111111111111,
              "#46039f"
             ],
             [
              0.2222222222222222,
              "#7201a8"
             ],
             [
              0.3333333333333333,
              "#9c179e"
             ],
             [
              0.4444444444444444,
              "#bd3786"
             ],
             [
              0.5555555555555556,
              "#d8576b"
             ],
             [
              0.6666666666666666,
              "#ed7953"
             ],
             [
              0.7777777777777778,
              "#fb9f3a"
             ],
             [
              0.8888888888888888,
              "#fdca26"
             ],
             [
              1,
              "#f0f921"
             ]
            ],
            "type": "contour"
           }
          ],
          "contourcarpet": [
           {
            "colorbar": {
             "outlinewidth": 0,
             "ticks": ""
            },
            "type": "contourcarpet"
           }
          ],
          "heatmap": [
           {
            "colorbar": {
             "outlinewidth": 0,
             "ticks": ""
            },
            "colorscale": [
             [
              0,
              "#0d0887"
             ],
             [
              0.1111111111111111,
              "#46039f"
             ],
             [
              0.2222222222222222,
              "#7201a8"
             ],
             [
              0.3333333333333333,
              "#9c179e"
             ],
             [
              0.4444444444444444,
              "#bd3786"
             ],
             [
              0.5555555555555556,
              "#d8576b"
             ],
             [
              0.6666666666666666,
              "#ed7953"
             ],
             [
              0.7777777777777778,
              "#fb9f3a"
             ],
             [
              0.8888888888888888,
              "#fdca26"
             ],
             [
              1,
              "#f0f921"
             ]
            ],
            "type": "heatmap"
           }
          ],
          "heatmapgl": [
           {
            "colorbar": {
             "outlinewidth": 0,
             "ticks": ""
            },
            "colorscale": [
             [
              0,
              "#0d0887"
             ],
             [
              0.1111111111111111,
              "#46039f"
             ],
             [
              0.2222222222222222,
              "#7201a8"
             ],
             [
              0.3333333333333333,
              "#9c179e"
             ],
             [
              0.4444444444444444,
              "#bd3786"
             ],
             [
              0.5555555555555556,
              "#d8576b"
             ],
             [
              0.6666666666666666,
              "#ed7953"
             ],
             [
              0.7777777777777778,
              "#fb9f3a"
             ],
             [
              0.8888888888888888,
              "#fdca26"
             ],
             [
              1,
              "#f0f921"
             ]
            ],
            "type": "heatmapgl"
           }
          ],
          "histogram": [
           {
            "marker": {
             "colorbar": {
              "outlinewidth": 0,
              "ticks": ""
             }
            },
            "type": "histogram"
           }
          ],
          "histogram2d": [
           {
            "colorbar": {
             "outlinewidth": 0,
             "ticks": ""
            },
            "colorscale": [
             [
              0,
              "#0d0887"
             ],
             [
              0.1111111111111111,
              "#46039f"
             ],
             [
              0.2222222222222222,
              "#7201a8"
             ],
             [
              0.3333333333333333,
              "#9c179e"
             ],
             [
              0.4444444444444444,
              "#bd3786"
             ],
             [
              0.5555555555555556,
              "#d8576b"
             ],
             [
              0.6666666666666666,
              "#ed7953"
             ],
             [
              0.7777777777777778,
              "#fb9f3a"
             ],
             [
              0.8888888888888888,
              "#fdca26"
             ],
             [
              1,
              "#f0f921"
             ]
            ],
            "type": "histogram2d"
           }
          ],
          "histogram2dcontour": [
           {
            "colorbar": {
             "outlinewidth": 0,
             "ticks": ""
            },
            "colorscale": [
             [
              0,
              "#0d0887"
             ],
             [
              0.1111111111111111,
              "#46039f"
             ],
             [
              0.2222222222222222,
              "#7201a8"
             ],
             [
              0.3333333333333333,
              "#9c179e"
             ],
             [
              0.4444444444444444,
              "#bd3786"
             ],
             [
              0.5555555555555556,
              "#d8576b"
             ],
             [
              0.6666666666666666,
              "#ed7953"
             ],
             [
              0.7777777777777778,
              "#fb9f3a"
             ],
             [
              0.8888888888888888,
              "#fdca26"
             ],
             [
              1,
              "#f0f921"
             ]
            ],
            "type": "histogram2dcontour"
           }
          ],
          "mesh3d": [
           {
            "colorbar": {
             "outlinewidth": 0,
             "ticks": ""
            },
            "type": "mesh3d"
           }
          ],
          "parcoords": [
           {
            "line": {
             "colorbar": {
              "outlinewidth": 0,
              "ticks": ""
             }
            },
            "type": "parcoords"
           }
          ],
          "pie": [
           {
            "automargin": true,
            "type": "pie"
           }
          ],
          "scatter": [
           {
            "marker": {
             "colorbar": {
              "outlinewidth": 0,
              "ticks": ""
             }
            },
            "type": "scatter"
           }
          ],
          "scatter3d": [
           {
            "line": {
             "colorbar": {
              "outlinewidth": 0,
              "ticks": ""
             }
            },
            "marker": {
             "colorbar": {
              "outlinewidth": 0,
              "ticks": ""
             }
            },
            "type": "scatter3d"
           }
          ],
          "scattercarpet": [
           {
            "marker": {
             "colorbar": {
              "outlinewidth": 0,
              "ticks": ""
             }
            },
            "type": "scattercarpet"
           }
          ],
          "scattergeo": [
           {
            "marker": {
             "colorbar": {
              "outlinewidth": 0,
              "ticks": ""
             }
            },
            "type": "scattergeo"
           }
          ],
          "scattergl": [
           {
            "marker": {
             "colorbar": {
              "outlinewidth": 0,
              "ticks": ""
             }
            },
            "type": "scattergl"
           }
          ],
          "scattermapbox": [
           {
            "marker": {
             "colorbar": {
              "outlinewidth": 0,
              "ticks": ""
             }
            },
            "type": "scattermapbox"
           }
          ],
          "scatterpolar": [
           {
            "marker": {
             "colorbar": {
              "outlinewidth": 0,
              "ticks": ""
             }
            },
            "type": "scatterpolar"
           }
          ],
          "scatterpolargl": [
           {
            "marker": {
             "colorbar": {
              "outlinewidth": 0,
              "ticks": ""
             }
            },
            "type": "scatterpolargl"
           }
          ],
          "scatterternary": [
           {
            "marker": {
             "colorbar": {
              "outlinewidth": 0,
              "ticks": ""
             }
            },
            "type": "scatterternary"
           }
          ],
          "surface": [
           {
            "colorbar": {
             "outlinewidth": 0,
             "ticks": ""
            },
            "colorscale": [
             [
              0,
              "#0d0887"
             ],
             [
              0.1111111111111111,
              "#46039f"
             ],
             [
              0.2222222222222222,
              "#7201a8"
             ],
             [
              0.3333333333333333,
              "#9c179e"
             ],
             [
              0.4444444444444444,
              "#bd3786"
             ],
             [
              0.5555555555555556,
              "#d8576b"
             ],
             [
              0.6666666666666666,
              "#ed7953"
             ],
             [
              0.7777777777777778,
              "#fb9f3a"
             ],
             [
              0.8888888888888888,
              "#fdca26"
             ],
             [
              1,
              "#f0f921"
             ]
            ],
            "type": "surface"
           }
          ],
          "table": [
           {
            "cells": {
             "fill": {
              "color": "#EBF0F8"
             },
             "line": {
              "color": "white"
             }
            },
            "header": {
             "fill": {
              "color": "#C8D4E3"
             },
             "line": {
              "color": "white"
             }
            },
            "type": "table"
           }
          ]
         },
         "layout": {
          "annotationdefaults": {
           "arrowcolor": "#2a3f5f",
           "arrowhead": 0,
           "arrowwidth": 1
          },
          "coloraxis": {
           "colorbar": {
            "outlinewidth": 0,
            "ticks": ""
           }
          },
          "colorscale": {
           "diverging": [
            [
             0,
             "#8e0152"
            ],
            [
             0.1,
             "#c51b7d"
            ],
            [
             0.2,
             "#de77ae"
            ],
            [
             0.3,
             "#f1b6da"
            ],
            [
             0.4,
             "#fde0ef"
            ],
            [
             0.5,
             "#f7f7f7"
            ],
            [
             0.6,
             "#e6f5d0"
            ],
            [
             0.7,
             "#b8e186"
            ],
            [
             0.8,
             "#7fbc41"
            ],
            [
             0.9,
             "#4d9221"
            ],
            [
             1,
             "#276419"
            ]
           ],
           "sequential": [
            [
             0,
             "#0d0887"
            ],
            [
             0.1111111111111111,
             "#46039f"
            ],
            [
             0.2222222222222222,
             "#7201a8"
            ],
            [
             0.3333333333333333,
             "#9c179e"
            ],
            [
             0.4444444444444444,
             "#bd3786"
            ],
            [
             0.5555555555555556,
             "#d8576b"
            ],
            [
             0.6666666666666666,
             "#ed7953"
            ],
            [
             0.7777777777777778,
             "#fb9f3a"
            ],
            [
             0.8888888888888888,
             "#fdca26"
            ],
            [
             1,
             "#f0f921"
            ]
           ],
           "sequentialminus": [
            [
             0,
             "#0d0887"
            ],
            [
             0.1111111111111111,
             "#46039f"
            ],
            [
             0.2222222222222222,
             "#7201a8"
            ],
            [
             0.3333333333333333,
             "#9c179e"
            ],
            [
             0.4444444444444444,
             "#bd3786"
            ],
            [
             0.5555555555555556,
             "#d8576b"
            ],
            [
             0.6666666666666666,
             "#ed7953"
            ],
            [
             0.7777777777777778,
             "#fb9f3a"
            ],
            [
             0.8888888888888888,
             "#fdca26"
            ],
            [
             1,
             "#f0f921"
            ]
           ]
          },
          "colorway": [
           "#636efa",
           "#EF553B",
           "#00cc96",
           "#ab63fa",
           "#FFA15A",
           "#19d3f3",
           "#FF6692",
           "#B6E880",
           "#FF97FF",
           "#FECB52"
          ],
          "font": {
           "color": "#2a3f5f"
          },
          "geo": {
           "bgcolor": "white",
           "lakecolor": "white",
           "landcolor": "white",
           "showlakes": true,
           "showland": true,
           "subunitcolor": "#C8D4E3"
          },
          "hoverlabel": {
           "align": "left"
          },
          "hovermode": "closest",
          "mapbox": {
           "style": "light"
          },
          "paper_bgcolor": "white",
          "plot_bgcolor": "white",
          "polar": {
           "angularaxis": {
            "gridcolor": "#EBF0F8",
            "linecolor": "#EBF0F8",
            "ticks": ""
           },
           "bgcolor": "white",
           "radialaxis": {
            "gridcolor": "#EBF0F8",
            "linecolor": "#EBF0F8",
            "ticks": ""
           }
          },
          "scene": {
           "xaxis": {
            "backgroundcolor": "white",
            "gridcolor": "#DFE8F3",
            "gridwidth": 2,
            "linecolor": "#EBF0F8",
            "showbackground": true,
            "ticks": "",
            "zerolinecolor": "#EBF0F8"
           },
           "yaxis": {
            "backgroundcolor": "white",
            "gridcolor": "#DFE8F3",
            "gridwidth": 2,
            "linecolor": "#EBF0F8",
            "showbackground": true,
            "ticks": "",
            "zerolinecolor": "#EBF0F8"
           },
           "zaxis": {
            "backgroundcolor": "white",
            "gridcolor": "#DFE8F3",
            "gridwidth": 2,
            "linecolor": "#EBF0F8",
            "showbackground": true,
            "ticks": "",
            "zerolinecolor": "#EBF0F8"
           }
          },
          "shapedefaults": {
           "line": {
            "color": "#2a3f5f"
           }
          },
          "ternary": {
           "aaxis": {
            "gridcolor": "#DFE8F3",
            "linecolor": "#A2B1C6",
            "ticks": ""
           },
           "baxis": {
            "gridcolor": "#DFE8F3",
            "linecolor": "#A2B1C6",
            "ticks": ""
           },
           "bgcolor": "white",
           "caxis": {
            "gridcolor": "#DFE8F3",
            "linecolor": "#A2B1C6",
            "ticks": ""
           }
          },
          "title": {
           "x": 0.05
          },
          "xaxis": {
           "automargin": true,
           "gridcolor": "#EBF0F8",
           "linecolor": "#EBF0F8",
           "ticks": "",
           "title": {
            "standoff": 15
           },
           "zerolinecolor": "#EBF0F8",
           "zerolinewidth": 2
          },
          "yaxis": {
           "automargin": true,
           "gridcolor": "#EBF0F8",
           "linecolor": "#EBF0F8",
           "ticks": "",
           "title": {
            "standoff": 15
           },
           "zerolinecolor": "#EBF0F8",
           "zerolinewidth": 2
          }
         }
        },
        "title": {
         "text": "Tire Rightward Forces"
        },
        "width": 900,
        "xaxis": {
         "anchor": "y",
         "domain": [
          0,
          1
         ],
         "linecolor": "black",
         "linewidth": 1,
         "matches": "x4",
         "showgrid": false,
         "showline": true,
         "showticklabels": false,
         "tickcolor": "black",
         "ticklen": 10,
         "ticks": "outside",
         "tickwidth": 1,
         "title": {
          "text": ""
         },
         "zeroline": false
        },
        "xaxis2": {
         "anchor": "y2",
         "domain": [
          0,
          1
         ],
         "linecolor": "black",
         "linewidth": 1,
         "matches": "x4",
         "showgrid": false,
         "showline": true,
         "showticklabels": false,
         "tickcolor": "black",
         "ticklen": 10,
         "ticks": "outside",
         "tickwidth": 1,
         "title": {
          "text": ""
         },
         "zeroline": false
        },
        "xaxis3": {
         "anchor": "y3",
         "domain": [
          0,
          1
         ],
         "linecolor": "black",
         "linewidth": 1,
         "matches": "x4",
         "showgrid": false,
         "showline": true,
         "showticklabels": false,
         "tickcolor": "black",
         "ticklen": 10,
         "ticks": "outside",
         "tickwidth": 1,
         "title": {
          "text": ""
         },
         "zeroline": false
        },
        "xaxis4": {
         "anchor": "y4",
         "domain": [
          0,
          1
         ],
         "linecolor": "black",
         "linewidth": 1,
         "showgrid": false,
         "showline": true,
         "tickcolor": "black",
         "ticklen": 10,
         "ticks": "outside",
         "tickwidth": 1,
         "title": {
          "text": "Time (s)"
         },
         "zeroline": false
        },
        "yaxis": {
         "anchor": "x",
         "domain": [
          0.7875,
          1
         ],
         "linecolor": "black",
         "linewidth": 1,
         "showgrid": false,
         "showline": true,
         "tickcolor": "black",
         "ticklen": 10,
         "ticks": "outside",
         "tickwidth": 1,
         "title": {
          "text": "LF - Rightward Force (lb)"
         },
         "zeroline": false
        },
        "yaxis2": {
         "anchor": "x2",
         "domain": [
          0.525,
          0.7375
         ],
         "linecolor": "black",
         "linewidth": 1,
         "showgrid": false,
         "showline": true,
         "tickcolor": "black",
         "ticklen": 10,
         "ticks": "outside",
         "tickwidth": 1,
         "title": {
          "text": "RF - Rightward Force (lb)"
         },
         "zeroline": false
        },
        "yaxis3": {
         "anchor": "x3",
         "domain": [
          0.2625,
          0.475
         ],
         "linecolor": "black",
         "linewidth": 1,
         "showgrid": false,
         "showline": true,
         "tickcolor": "black",
         "ticklen": 10,
         "ticks": "outside",
         "tickwidth": 1,
         "title": {
          "text": "RR - Rightward Force (lb)"
         },
         "zeroline": false
        },
        "yaxis4": {
         "anchor": "x4",
         "domain": [
          0,
          0.2125
         ],
         "linecolor": "black",
         "linewidth": 1,
         "showgrid": false,
         "showline": true,
         "tickcolor": "black",
         "ticklen": 10,
         "ticks": "outside",
         "tickwidth": 1,
         "title": {
          "text": "LR - Rightward Force (lb)"
         },
         "zeroline": false
        }
       }
      },
      "text/html": [
       "<div>\n",
       "        \n",
       "        \n",
       "            <div id=\"e8211baa-147c-4ddc-a7e2-c5a5ef5c87a2\" class=\"plotly-graph-div\" style=\"height:900px; width:900px;\"></div>\n",
       "            <script type=\"text/javascript\">\n",
       "                require([\"plotly\"], function(Plotly) {\n",
       "                    window.PLOTLYENV=window.PLOTLYENV || {};\n",
       "                    \n",
       "                if (document.getElementById(\"e8211baa-147c-4ddc-a7e2-c5a5ef5c87a2\")) {\n",
       "                    Plotly.newPlot(\n",
       "                        'e8211baa-147c-4ddc-a7e2-c5a5ef5c87a2',\n",
       "                        [{\"line\": {\"color\": \"rgb(0, 0, 255)\", \"width\": 2}, \"mode\": \"lines\", \"name\": \"LF - Pycrash\", \"type\": \"scatter\", \"x\": [0.0, 0.1, 0.2, 0.3, 0.4, 0.5, 0.6, 0.7, 0.8, 0.9, 1.0, 1.1, 1.2, 1.3, 1.4, 1.5, 1.6, 1.7, 1.8, 1.9, 2.0, 2.1, 2.2, 2.3, 2.4, 2.5, 2.6, 2.7, 2.8, 2.9, 3.0, 3.1, 3.2, 3.3, 3.4, 3.5, 3.6, 3.7, 3.8, 3.9, 4.0, 4.1, 4.2, 4.3, 4.4, 4.5, 4.6, 4.7, 4.8, 4.9, 5.0, 5.1, 5.2, 5.3, 5.4, 5.5, 5.6, 5.7, 5.8, 5.9, 6.0, 6.1, 6.2, 6.3, 6.4, 6.5, 6.6, 6.7, 6.8, 6.9, 7.0, 7.1, 7.2, 7.3, 7.4, 7.5, 7.6, 7.7, 7.8, 7.9, 8.0, 8.1, 8.2, 8.3, 8.4, 8.5, 8.6, 8.7, 8.8, 8.9, 9.0, 9.1, 9.2, 9.3, 9.4, 9.5, 9.6, 9.7, 9.8, 9.9, 10.0, 10.1, 10.2, 10.3, 10.4, 10.5, 10.6, 10.7, 10.8, 10.9], \"xaxis\": \"x\", \"y\": [0.0, 0.0, 0.0, 0.0, 0.0, 0.0, 0.0, 0.0, 0.0, 0.0, 0.0, -96.79897019892593, -178.58805788410865, -223.93870203580443, -251.02924631027042, -274.48085048595533, -299.74717581934374, -326.64932890791937, -352.9334315775272, -376.3470890868163, -395.3881350296712, -350.15183777850353, -322.4429257871581, -316.3962038937999, -320.71590516277723, -325.25878209629985, -325.5305061343407, -321.21833662215425, -313.5270704232339, -303.72739335089125, -292.7576969674242, -281.24676094731274, -269.61712970916165, -258.16759440665885, -247.12155472715705, -236.64818044099917, -226.86677113913288, -217.8449615617817, -209.5990997813317, -202.1007152884253, -195.28853008226648, -189.0828234064355, -183.3986273136518, -178.15545174171572, -173.28287536334176, -168.72257799265668, -164.42795709301285, -160.36248076454564, -156.49764288422216, -152.81103272722092, -149.28474337627873, -145.9041615555082, -142.65709280531027, -139.53314768443332, -136.52331708534712, -133.61967835327238, -130.81518902099933, -128.10353799671373, -125.47903415043591, -122.93651957440429, -120.47129975098494, -118.07908595696296, -115.75594701174255, -113.49826843960717, -111.30271764155603, -109.16621399255253, -107.08590300745314, -105.05913389470852, -103.08343995372223, -101.156521376342, -99.27623009288673, -97.44055636569325, -95.64761688359638, -93.89564415197007, -92.18297700656429, -90.50805210658316, -88.86939628449636, -87.26561964808961, -85.6954093452038, -84.15752391412667, -82.65078815314794, -81.1740884516767, -79.72636853284084, -78.30662556386481, -76.91390659595845, -75.54730530011864, -74.20595896925549, -72.88904576051958, -71.5957821547139, -70.32542061226658, -69.07724740751848, -67.85058062505004, -66.64476830351624, -65.45918671397249, -64.29323876101952, -63.146352496278766, -62.01797973474805, -60.90759476552273, -59.81469314918315, -58.73879059488208, -57.67942191082491, -56.63614002240103, -55.60851505276796, -54.596133461140916, -53.59859723446063, -52.615523128501486, -51.646541954803666, -50.691297910135674, -49.749447945457646, -48.82066117161426], \"yaxis\": \"y\"}, {\"line\": {\"color\": \"rgb(0, 0, 255)\", \"dash\": \"dash\", \"width\": 2}, \"mode\": \"lines\", \"name\": \"LF - Validate\", \"type\": \"scatter\", \"x\": [0.0, 0.1, 0.2, 0.3, 0.4, 0.5, 0.6, 0.7, 0.8, 0.9, 1.0, 1.1, 1.2, 1.3, 1.4, 1.5, 1.6, 1.7, 1.8, 1.9, 2.0, 2.1, 2.2, 2.3, 2.4, 2.5, 2.6, 2.7, 2.8, 2.9, 3.0, 3.1, 3.2, 3.3, 3.4, 3.5, 3.6, 3.7, 3.8, 3.9, 4.0, 4.1, 4.2, 4.3, 4.4, 4.5, 4.6, 4.7, 4.8, 4.9, 5.0, 5.1, 5.2, 5.3, 5.4, 5.5, 5.6, 5.7, 5.8, 5.9, 6.0, 6.1, 6.2, 6.3, 6.4, 6.5, 6.6, 6.7, 6.8, 6.9, 7.0, 7.1, 7.2, 7.3, 7.4, 7.5, 7.6, 7.7, 7.8, 7.9, 8.0, 8.1, 8.2, 8.3, 8.4, 8.5, 8.6, 8.7, 8.8, 8.9, 9.0, 9.1, 9.2, 9.3, 9.4, 9.5, 9.6, 9.7, 9.8, 9.9, 10.0, 10.1, 10.2, 10.3, 10.4, 10.5, 10.6, 10.7, 10.8, 10.9], \"xaxis\": \"x\", \"y\": [0.0, 0.0, 0.0, 0.0, 0.0, 0.0, 0.0, 0.0, 0.0, 0.0, 0.0, -141.514, -241.215, -341.58, -450.384, -567.327, -692.789, -829.8839999999999, -987.707, -1153.27, -1267.636, -1188.979, -1074.692, -993.016, -938.7489999999999, -902.576, -874.752, -850.718, -828.2199999999999, -806.446, -785.353, -765.1419999999999, -745.976, -727.915, -710.934, -694.943, -679.847, -665.5600000000001, -651.9979999999999, -639.097, -626.807, -615.077, -603.8670000000001, -593.145, -582.875, -573.028, -563.578, -554.4989999999999, -545.767, -537.363, -529.266, -521.458, -513.926, -506.65099999999995, -499.621, -492.824, -486.245, -479.87600000000003, -473.705, -467.723, -461.91900000000004, -456.288, -450.82, -445.507, -440.344, -435.32300000000004, -430.438, -425.684, -421.054, -416.545, -412.15000000000003, -407.866, -403.688, -399.613, -395.635, -391.75100000000003, -387.959, -384.25399999999996, -380.633, -377.094, -373.633, -370.24800000000005, -366.937, -363.696, -360.52299999999997, -357.417, -354.375, -351.394, -348.47299999999996, -345.611, -342.804, -340.053, -337.354, -334.706, -332.108, -329.55899999999997, -327.05600000000004, -324.59900000000005, -322.186, -319.816, -317.488, -315.2, -312.952, -310.742, -308.57, -306.43399999999997, -304.334, -302.269, -300.23699999999997, -298.23699999999997], \"yaxis\": \"y\"}, {\"line\": {\"color\": \"rgb(0, 255, 0)\", \"width\": 2}, \"mode\": \"lines\", \"name\": \"RF - Pycrash\", \"type\": \"scatter\", \"x\": [0.0, 0.1, 0.2, 0.3, 0.4, 0.5, 0.6, 0.7, 0.8, 0.9, 1.0, 1.1, 1.2, 1.3, 1.4, 1.5, 1.6, 1.7, 1.8, 1.9, 2.0, 2.1, 2.2, 2.3, 2.4, 2.5, 2.6, 2.7, 2.8, 2.9, 3.0, 3.1, 3.2, 3.3, 3.4, 3.5, 3.6, 3.7, 3.8, 3.9, 4.0, 4.1, 4.2, 4.3, 4.4, 4.5, 4.6, 4.7, 4.8, 4.9, 5.0, 5.1, 5.2, 5.3, 5.4, 5.5, 5.6, 5.7, 5.8, 5.9, 6.0, 6.1, 6.2, 6.3, 6.4, 6.5, 6.6, 6.7, 6.8, 6.9, 7.0, 7.1, 7.2, 7.3, 7.4, 7.5, 7.6, 7.7, 7.8, 7.9, 8.0, 8.1, 8.2, 8.3, 8.4, 8.5, 8.6, 8.7, 8.8, 8.9, 9.0, 9.1, 9.2, 9.3, 9.4, 9.5, 9.6, 9.7, 9.8, 9.9, 10.0, 10.1, 10.2, 10.3, 10.4, 10.5, 10.6, 10.7, 10.8, 10.9], \"xaxis\": \"x2\", \"y\": [0.0, 0.0, 0.0, 0.0, 0.0, 0.0, 0.0, 0.0, 0.0, 0.0, 0.0, -96.79897019892593, -194.3261131259471, -264.14417035392887, -314.1710843791108, -361.9568797432096, -419.20601835781406, -489.895126684938, -573.3299918144781, -666.76785189459, -766.7625633192094, -761.87904652123, -733.0417254708008, -734.7337810425753, -763.0394090144042, -798.5300976767593, -825.5518675451025, -836.8157299474318, -831.8357111364897, -813.708737494227, -786.5358388726851, -754.0606337921201, -719.2243283447841, -684.1746946996708, -650.4102891379656, -618.917557928042, -590.2708552828251, -564.7101521648161, -542.214559766624, -522.5781261545928, -505.4838762936426, -490.5682668577706, -477.4700009199462, -465.8612352450748, -455.46295519415685, -446.04845644594053, -437.4393864090925, -429.4981775119144, -422.1195826598663, -415.2228880301581, -408.745492799587, -402.63797957289376, -396.8605078172614, -391.3802578074022, -386.1696515062269, -381.2051206626122, -376.4662474075582, -371.9351529543724, -367.59605015062857, -363.4349050333414, -359.4391726728483, -355.59758557008576, -351.8999808124913, -348.3371568863946, -344.9007538110234, -341.58315195761384, -338.3773860347147, -335.2770715076571, -332.27634129885973, -329.36979105115006, -326.5524315693461, -323.8196473142825, -321.16716002793925, -318.59099673148, -316.0874614687873, -313.653110273181, -311.2847289198089, -308.97931309510346, -306.73405067118955, -304.54630581978813, -302.41360473894883, -300.333622798297, -298.30417293560237, -296.3231951602619, -294.3887470385686, -292.4989950519759, -290.65220673350234, -288.8467434993276, -287.081054102846, -285.3536686472292, -283.6631931001328, -282.0083042607487, -280.38774513509975, -278.8003206804381, -277.2448938839319, -275.72038214461764, -274.22575393091046, -272.7600256888835, -271.322258979102, -269.9115578220608, -268.5270662342836, -267.16796593891974, -265.833474236254, -264.5228420209463, -263.23535193407537, -261.9703166391704, -260.7270772124181, -259.50500163812836, -258.3034834013381, -257.12194017015963], \"yaxis\": \"y2\"}, {\"line\": {\"color\": \"rgb(0, 255, 0)\", \"dash\": \"dash\", \"width\": 2}, \"mode\": \"lines\", \"name\": \"RF - Validate\", \"type\": \"scatter\", \"x\": [0.0, 0.1, 0.2, 0.3, 0.4, 0.5, 0.6, 0.7, 0.8, 0.9, 1.0, 1.1, 1.2, 1.3, 1.4, 1.5, 1.6, 1.7, 1.8, 1.9, 2.0, 2.1, 2.2, 2.3, 2.4, 2.5, 2.6, 2.7, 2.8, 2.9, 3.0, 3.1, 3.2, 3.3, 3.4, 3.5, 3.6, 3.7, 3.8, 3.9, 4.0, 4.1, 4.2, 4.3, 4.4, 4.5, 4.6, 4.7, 4.8, 4.9, 5.0, 5.1, 5.2, 5.3, 5.4, 5.5, 5.6, 5.7, 5.8, 5.9, 6.0, 6.1, 6.2, 6.3, 6.4, 6.5, 6.6, 6.7, 6.8, 6.9, 7.0, 7.1, 7.2, 7.3, 7.4, 7.5, 7.6, 7.7, 7.8, 7.9, 8.0, 8.1, 8.2, 8.3, 8.4, 8.5, 8.6, 8.7, 8.8, 8.9, 9.0, 9.1, 9.2, 9.3, 9.4, 9.5, 9.6, 9.7, 9.8, 9.9, 10.0, 10.1, 10.2, 10.3, 10.4, 10.5, 10.6, 10.7, 10.8, 10.9], \"xaxis\": \"x2\", \"y\": [0.0, 0.0, 0.0, 0.0, 0.0, 0.0, 0.0, 0.0, 0.0, 0.0, 0.0, -185.408, -294.30400000000003, -369.78499999999997, -427.452, -472.012, -504.997, -504.53999999999996, -479.558, -458.05, -440.866, -439.827, -453.69100000000003, -465.039, -451.827, -444.106, -438.554, -434.108, -430.203, -426.497, -422.83, -419.15599999999995, -415.479, -411.82, -408.196, -404.619, -401.096, -397.632, -394.227, -390.881, -387.594, -384.364, -381.19199999999995, -378.07800000000003, -375.019, -372.015, -369.06600000000003, -366.17100000000005, -363.328, -360.537, -357.79699999999997, -355.106, -352.463, -349.86699999999996, -347.317, -344.813, -342.352, -339.934, -337.55800000000005, -335.22200000000004, -332.926, -330.67, -328.45099999999996, -326.26899999999995, -324.123, -322.012, -319.935, -317.892, -315.882, -313.90299999999996, -311.956, -310.03799999999995, -308.151, -306.29200000000003, -304.462, -302.65999999999997, -300.88399999999996, -299.135, -297.411, -295.713, -294.039, -292.389, -290.762, -289.159, -287.578, -286.019, -284.482, -282.96500000000003, -281.46900000000005, -279.994, -278.538, -277.101, -275.683, -274.284, -272.903, -271.539, -270.19300000000004, -268.864, -267.552, -266.256, -264.976, -263.712, -262.463, -261.229, -260.01, -258.806, -257.616, -256.44, -255.278, -254.129], \"yaxis\": \"y2\"}, {\"line\": {\"color\": \"rgb(153, 0, 204)\", \"width\": 2}, \"mode\": \"lines\", \"name\": \"RR - Pycrash\", \"type\": \"scatter\", \"x\": [0.0, 0.1, 0.2, 0.3, 0.4, 0.5, 0.6, 0.7, 0.8, 0.9, 1.0, 1.1, 1.2, 1.3, 1.4, 1.5, 1.6, 1.7, 1.8, 1.9, 2.0, 2.1, 2.2, 2.3, 2.4, 2.5, 2.6, 2.7, 2.8, 2.9, 3.0, 3.1, 3.2, 3.3, 3.4, 3.5, 3.6, 3.7, 3.8, 3.9, 4.0, 4.1, 4.2, 4.3, 4.4, 4.5, 4.6, 4.7, 4.8, 4.9, 5.0, 5.1, 5.2, 5.3, 5.4, 5.5, 5.6, 5.7, 5.8, 5.9, 6.0, 6.1, 6.2, 6.3, 6.4, 6.5, 6.6, 6.7, 6.8, 6.9, 7.0, 7.1, 7.2, 7.3, 7.4, 7.5, 7.6, 7.7, 7.8, 7.9, 8.0, 8.1, 8.2, 8.3, 8.4, 8.5, 8.6, 8.7, 8.8, 8.9, 9.0, 9.1, 9.2, 9.3, 9.4, 9.5, 9.6, 9.7, 9.8, 9.9, 10.0, 10.1, 10.2, 10.3, 10.4, 10.5, 10.6, 10.7, 10.8, 10.9], \"xaxis\": \"x3\", \"y\": [-0.0, -0.0, -0.0, -0.0, -0.0, -0.0, -0.0, -0.0, -0.0, -0.0, -0.0, -0.0, 0.6687605403575789, 1.3805611379866325, -1.8648338985612047, -13.023045992052742, -33.26758286219068, -61.669175143728935, -96.48513652854885, -135.87971197776332, -178.17954422449816, -221.89479503381392, -263.8344387197299, -306.38137831693524, -347.35871241560545, -382.20798398090983, -407.50909645972615, -422.0451104320622, -426.36369523790717, -421.9706959869583, -410.71710955327757, -394.4718933184222, -374.980946361077, -353.8018240768534, -332.25529709292744, -311.3826069596099, -291.920282764914, -274.30509467569277, -258.7111030628541, -245.10967618918926, -233.33795724447538, -223.1623072850076, -214.3281669672377, -206.59341232248886, -199.74655424386754, -193.61337732794817, -188.05612023033916, -182.96873253380713, -178.2707408079873, -173.90125429175166, -169.8138535713726, -165.97258672924886, -162.3490103736196, -158.920089668458, -155.66674617948675, -152.57286563135273, -149.6246182727852, -146.80998561741188, -144.11842152378512, -141.54060099493552, -139.0682274813866, -136.6938806339514, -134.41089325189253, -132.21325017593415, -130.09550421530295, -128.0527056006886, -126.08034234423326, -124.17428949087768, -122.33076567924012, -120.54629575494405, -118.81767842839243, -117.14195816291344, -115.51640063160298, -113.93847120168984, -112.40581600094126, -110.91624519700186, -109.4677181818942, -108.0583304035642, -106.68630162686358, -105.34996543965727, -104.0477598472623, -102.77821882128343, -101.53996468798601, -100.33170125733186, -99.15220760726595, -98.00033244922518, -96.8749890105013, -95.77515037732863, -94.69984524960164, -93.64815406417176, -92.61920544886678, -91.61217297386375, -90.62627217093332, -89.66075779444098, -88.71492130093094, -87.78808852667932, -86.87961754484297, -85.98889668579857, -85.11534270599181, -84.25839909214085, -83.41753448897967, -82.59224123991518, -81.78203403102651, -80.98644862976768, -80.2050407105686, -79.43738476026876, -78.68307305698102, -77.94171471657268, -77.21293480148265, -76.49637348706744], \"yaxis\": \"y3\"}, {\"line\": {\"color\": \"rgb(153, 0, 204)\", \"dash\": \"dash\", \"width\": 2}, \"mode\": \"lines\", \"name\": \"RR - Validate\", \"type\": \"scatter\", \"x\": [0.0, 0.1, 0.2, 0.3, 0.4, 0.5, 0.6, 0.7, 0.8, 0.9, 1.0, 1.1, 1.2, 1.3, 1.4, 1.5, 1.6, 1.7, 1.8, 1.9, 2.0, 2.1, 2.2, 2.3, 2.4, 2.5, 2.6, 2.7, 2.8, 2.9, 3.0, 3.1, 3.2, 3.3, 3.4, 3.5, 3.6, 3.7, 3.8, 3.9, 4.0, 4.1, 4.2, 4.3, 4.4, 4.5, 4.6, 4.7, 4.8, 4.9, 5.0, 5.1, 5.2, 5.3, 5.4, 5.5, 5.6, 5.7, 5.8, 5.9, 6.0, 6.1, 6.2, 6.3, 6.4, 6.5, 6.6, 6.7, 6.8, 6.9, 7.0, 7.1, 7.2, 7.3, 7.4, 7.5, 7.6, 7.7, 7.8, 7.9, 8.0, 8.1, 8.2, 8.3, 8.4, 8.5, 8.6, 8.7, 8.8, 8.9, 9.0, 9.1, 9.2, 9.3, 9.4, 9.5, 9.6, 9.7, 9.8, 9.9, 10.0, 10.1, 10.2, 10.3, 10.4, 10.5, 10.6, 10.7, 10.8, 10.9], \"xaxis\": \"x3\", \"y\": [0.0, 0.0, 0.0, 0.0, 0.0, 0.0, 0.0, 0.0, 0.0, 0.0, 0.0, 1.2049999999999998, -2.83, -35.617000000000004, -63.495, -88.541, -108.7, -123.605, -133.206, -135.905, -134.152, -143.161, -166.136, -184.367, -195.416, -200.251, -201.481, -201.35500000000002, -200.936, -200.533, -200.13500000000002, -199.666, -199.08, -198.374, -197.56699999999998, -196.688, -195.759, -194.793, -193.801, -192.78699999999998, -191.756, -190.71099999999998, -189.65699999999998, -188.595, -187.529, -186.46099999999998, -185.392, -184.325, -183.261, -182.201, -181.14600000000002, -180.098, -179.05599999999998, -178.02200000000002, -176.99599999999998, -175.97899999999998, -174.97099999999998, -173.97199999999998, -172.982, -172.00199999999998, -171.033, -170.073, -169.123, -168.184, -167.255, -166.336, -165.428, -164.529, -163.64100000000002, -162.76299999999998, -161.895, -161.037, -160.189, -159.35, -158.522, -157.703, -156.893, -156.09300000000002, -155.302, -154.51999999999998, -153.748, -152.984, -152.229, -151.483, -150.74499999999998, -150.01600000000002, -149.29500000000002, -148.582, -147.877, -147.18, -146.491, -145.81, -145.136, -144.47, -143.811, -143.16, -142.51500000000001, -141.87800000000001, -141.24800000000002, -140.624, -140.007, -139.397, -138.793, -138.19600000000003, -137.60500000000002, -137.02, -136.441, -135.868, -135.30100000000002, -134.74099999999999], \"yaxis\": \"y3\"}, {\"line\": {\"color\": \"rgb(255, 102, 0)\", \"width\": 2}, \"mode\": \"lines\", \"name\": \"LR - Pycrash\", \"type\": \"scatter\", \"x\": [0.0, 0.1, 0.2, 0.3, 0.4, 0.5, 0.6, 0.7, 0.8, 0.9, 1.0, 1.1, 1.2, 1.3, 1.4, 1.5, 1.6, 1.7, 1.8, 1.9, 2.0, 2.1, 2.2, 2.3, 2.4, 2.5, 2.6, 2.7, 2.8, 2.9, 3.0, 3.1, 3.2, 3.3, 3.4, 3.5, 3.6, 3.7, 3.8, 3.9, 4.0, 4.1, 4.2, 4.3, 4.4, 4.5, 4.6, 4.7, 4.8, 4.9, 5.0, 5.1, 5.2, 5.3, 5.4, 5.5, 5.6, 5.7, 5.8, 5.9, 6.0, 6.1, 6.2, 6.3, 6.4, 6.5, 6.6, 6.7, 6.8, 6.9, 7.0, 7.1, 7.2, 7.3, 7.4, 7.5, 7.6, 7.7, 7.8, 7.9, 8.0, 8.1, 8.2, 8.3, 8.4, 8.5, 8.6, 8.7, 8.8, 8.9, 9.0, 9.1, 9.2, 9.3, 9.4, 9.5, 9.6, 9.7, 9.8, 9.9, 10.0, 10.1, 10.2, 10.3, 10.4, 10.5, 10.6, 10.7, 10.8, 10.9], \"xaxis\": \"x4\", \"y\": [-0.0, -0.0, -0.0, -0.0, -0.0, -0.0, -0.0, -0.0, -0.0, -0.0, -0.0, -0.0, 0.6147021985202646, 1.1733233471714204, -1.5057605681441821, -10.120047967047247, -24.76790502309398, -43.39593364477646, -63.204102633982664, -81.75375609700717, -97.39150590461982, -109.20826778230246, -129.76257955640864, -150.71890292879257, -165.6035661501101, -173.30292178313866, -176.00647463605617, -176.3153876575045, -175.8206654478496, -175.064625470562, -173.99704383262002, -172.39079278909938, -170.0753797451307, -167.01924855921354, -163.32420022784396, -159.1805073665499, -154.81230418435743, -150.43015685841704, -146.19961340670545, -142.2281069210858, -138.56735213767675, -135.22532385371323, -132.18155042891536, -129.40109507741187, -126.84491158363099, -124.4761835856343, -122.26335871664855, -120.18095145580598, -118.20909947459869, -116.3325889129082, -114.53978400412174, -112.82167932105449, -111.17115228956935, -109.5824162802748, -108.05064048685644, -106.5716941632508, -105.14197682444664, -103.75830469886604, -102.41783268858461, -101.11799842778039, -99.8564802576352, -98.63116430477737, -97.44011785566215, -96.28156734522592, -95.15387989171613, -94.05554764729877, -92.98517443045507, -91.94146423077311, -90.92321126321735, -89.9292913132932, -88.9586541644935, -88.01031693902081, -87.08335821429618, -86.17691280276824, -85.29016710228831, -84.42235493996098, -83.57275384486624, -82.74068169514841, -81.92549369322248, -81.12657962966315, -80.343361401993, -79.57529075929615, -78.8218472475312, -78.08253633373533, -77.3568876901248, -76.64445362148932, -75.94480762131907, -75.25754304385784, -74.58227188077993, -73.9186236324934, -73.2662442651989, -72.62479524581444, -71.99395264773483, -71.37340632113876, -70.76285912221715, -70.16202619627289, -69.57063431014866, -68.98842122989383, -68.41513513997583, -67.85053410069875, -67.2943855408045, -66.74646578251314, -66.2065595965108, -65.6744597846161, -65.14996678805896, -64.63288831948499, -64.12303901696261, -63.62024011841463, -63.124319155030136, -62.63510966233121], \"yaxis\": \"y4\"}, {\"line\": {\"color\": \"rgb(255, 102, 0)\", \"dash\": \"dash\", \"width\": 2}, \"mode\": \"lines\", \"name\": \"LR - Validate\", \"type\": \"scatter\", \"x\": [0.0, 0.1, 0.2, 0.3, 0.4, 0.5, 0.6, 0.7, 0.8, 0.9, 1.0, 1.1, 1.2, 1.3, 1.4, 1.5, 1.6, 1.7, 1.8, 1.9, 2.0, 2.1, 2.2, 2.3, 2.4, 2.5, 2.6, 2.7, 2.8, 2.9, 3.0, 3.1, 3.2, 3.3, 3.4, 3.5, 3.6, 3.7, 3.8, 3.9, 4.0, 4.1, 4.2, 4.3, 4.4, 4.5, 4.6, 4.7, 4.8, 4.9, 5.0, 5.1, 5.2, 5.3, 5.4, 5.5, 5.6, 5.7, 5.8, 5.9, 6.0, 6.1, 6.2, 6.3, 6.4, 6.5, 6.6, 6.7, 6.8, 6.9, 7.0, 7.1, 7.2, 7.3, 7.4, 7.5, 7.6, 7.7, 7.8, 7.9, 8.0, 8.1, 8.2, 8.3, 8.4, 8.5, 8.6, 8.7, 8.8, 8.9, 9.0, 9.1, 9.2, 9.3, 9.4, 9.5, 9.6, 9.7, 9.8, 9.9, 10.0, 10.1, 10.2, 10.3, 10.4, 10.5, 10.6, 10.7, 10.8, 10.9], \"xaxis\": \"x4\", \"y\": [0.0, 0.0, 0.0, 0.0, 0.0, 0.0, 0.0, 0.0, 0.0, 0.0, 0.0, 1.2730000000000001, -3.763, -50.338, -100.22300000000001, -155.095, -211.581, -268.129, -319.84299999999996, -363.83500000000004, -402.092, -439.50800000000004, -465.912, -473.837, -470.66400000000004, -461.106, -449.522, -437.739, -426.236, -415.071, -404.27200000000005, -393.906, -384.038, -374.709, -365.926, -357.65799999999996, -349.862, -342.49600000000004, -335.51300000000003, -328.878, -322.564, -316.542, -310.79200000000003, -305.29499999999996, -300.03400000000005, -294.99199999999996, -290.156, -285.511, -281.045, -276.75, -272.612, -268.62399999999997, -264.777, -261.063, -257.474, -254.00499999999997, -250.64799999999997, -247.399, -244.251, -241.19899999999998, -238.24, -235.368, -232.58, -229.87099999999998, -227.239, -224.679, -222.189, -219.765, -217.405, -215.107, -212.867, -210.68300000000002, -208.553, -206.476, -204.44799999999998, -202.46800000000002, -200.535, -198.646, -196.8, -194.996, -193.232, -191.506, -189.817, -188.165, -186.547, -184.963, -183.411, -181.891, -180.401, -178.941, -177.51, -176.10600000000002, -174.72899999999998, -173.37800000000001, -172.05200000000002, -170.75099999999998, -169.47400000000002, -168.22, -166.988, -165.779, -164.58999999999997, -163.42200000000003, -162.274, -161.14600000000002, -160.037, -158.946, -157.874, -156.818, -155.78, -154.75900000000001], \"yaxis\": \"y4\"}],\n",
       "                        {\"autosize\": false, \"font\": {\"color\": \"black\", \"family\": \"Arial\", \"size\": 14}, \"height\": 900, \"legend\": {\"orientation\": \"h\", \"x\": 0.01, \"xanchor\": \"left\", \"y\": 1.1, \"yanchor\": \"top\"}, \"template\": {\"data\": {\"bar\": [{\"error_x\": {\"color\": \"#2a3f5f\"}, \"error_y\": {\"color\": \"#2a3f5f\"}, \"marker\": {\"line\": {\"color\": \"white\", \"width\": 0.5}}, \"type\": \"bar\"}], \"barpolar\": [{\"marker\": {\"line\": {\"color\": \"white\", \"width\": 0.5}}, \"type\": \"barpolar\"}], \"carpet\": [{\"aaxis\": {\"endlinecolor\": \"#2a3f5f\", \"gridcolor\": \"#C8D4E3\", \"linecolor\": \"#C8D4E3\", \"minorgridcolor\": \"#C8D4E3\", \"startlinecolor\": \"#2a3f5f\"}, \"baxis\": {\"endlinecolor\": \"#2a3f5f\", \"gridcolor\": \"#C8D4E3\", \"linecolor\": \"#C8D4E3\", \"minorgridcolor\": \"#C8D4E3\", \"startlinecolor\": \"#2a3f5f\"}, \"type\": \"carpet\"}], \"choropleth\": [{\"colorbar\": {\"outlinewidth\": 0, \"ticks\": \"\"}, \"type\": \"choropleth\"}], \"contour\": [{\"colorbar\": {\"outlinewidth\": 0, \"ticks\": \"\"}, \"colorscale\": [[0.0, \"#0d0887\"], [0.1111111111111111, \"#46039f\"], [0.2222222222222222, \"#7201a8\"], [0.3333333333333333, \"#9c179e\"], [0.4444444444444444, \"#bd3786\"], [0.5555555555555556, \"#d8576b\"], [0.6666666666666666, \"#ed7953\"], [0.7777777777777778, \"#fb9f3a\"], [0.8888888888888888, \"#fdca26\"], [1.0, \"#f0f921\"]], \"type\": \"contour\"}], \"contourcarpet\": [{\"colorbar\": {\"outlinewidth\": 0, \"ticks\": \"\"}, \"type\": \"contourcarpet\"}], \"heatmap\": [{\"colorbar\": {\"outlinewidth\": 0, \"ticks\": \"\"}, \"colorscale\": [[0.0, \"#0d0887\"], [0.1111111111111111, \"#46039f\"], [0.2222222222222222, \"#7201a8\"], [0.3333333333333333, \"#9c179e\"], [0.4444444444444444, \"#bd3786\"], [0.5555555555555556, \"#d8576b\"], [0.6666666666666666, \"#ed7953\"], [0.7777777777777778, \"#fb9f3a\"], [0.8888888888888888, \"#fdca26\"], [1.0, \"#f0f921\"]], \"type\": \"heatmap\"}], \"heatmapgl\": [{\"colorbar\": {\"outlinewidth\": 0, \"ticks\": \"\"}, \"colorscale\": [[0.0, \"#0d0887\"], [0.1111111111111111, \"#46039f\"], [0.2222222222222222, \"#7201a8\"], [0.3333333333333333, \"#9c179e\"], [0.4444444444444444, \"#bd3786\"], [0.5555555555555556, \"#d8576b\"], [0.6666666666666666, \"#ed7953\"], [0.7777777777777778, \"#fb9f3a\"], [0.8888888888888888, \"#fdca26\"], [1.0, \"#f0f921\"]], \"type\": \"heatmapgl\"}], \"histogram\": [{\"marker\": {\"colorbar\": {\"outlinewidth\": 0, \"ticks\": \"\"}}, \"type\": \"histogram\"}], \"histogram2d\": [{\"colorbar\": {\"outlinewidth\": 0, \"ticks\": \"\"}, \"colorscale\": [[0.0, \"#0d0887\"], [0.1111111111111111, \"#46039f\"], [0.2222222222222222, \"#7201a8\"], [0.3333333333333333, \"#9c179e\"], [0.4444444444444444, \"#bd3786\"], [0.5555555555555556, \"#d8576b\"], [0.6666666666666666, \"#ed7953\"], [0.7777777777777778, \"#fb9f3a\"], [0.8888888888888888, \"#fdca26\"], [1.0, \"#f0f921\"]], \"type\": \"histogram2d\"}], \"histogram2dcontour\": [{\"colorbar\": {\"outlinewidth\": 0, \"ticks\": \"\"}, \"colorscale\": [[0.0, \"#0d0887\"], [0.1111111111111111, \"#46039f\"], [0.2222222222222222, \"#7201a8\"], [0.3333333333333333, \"#9c179e\"], [0.4444444444444444, \"#bd3786\"], [0.5555555555555556, \"#d8576b\"], [0.6666666666666666, \"#ed7953\"], [0.7777777777777778, \"#fb9f3a\"], [0.8888888888888888, \"#fdca26\"], [1.0, \"#f0f921\"]], \"type\": \"histogram2dcontour\"}], \"mesh3d\": [{\"colorbar\": {\"outlinewidth\": 0, \"ticks\": \"\"}, \"type\": \"mesh3d\"}], \"parcoords\": [{\"line\": {\"colorbar\": {\"outlinewidth\": 0, \"ticks\": \"\"}}, \"type\": \"parcoords\"}], \"pie\": [{\"automargin\": true, \"type\": \"pie\"}], \"scatter\": [{\"marker\": {\"colorbar\": {\"outlinewidth\": 0, \"ticks\": \"\"}}, \"type\": \"scatter\"}], \"scatter3d\": [{\"line\": {\"colorbar\": {\"outlinewidth\": 0, \"ticks\": \"\"}}, \"marker\": {\"colorbar\": {\"outlinewidth\": 0, \"ticks\": \"\"}}, \"type\": \"scatter3d\"}], \"scattercarpet\": [{\"marker\": {\"colorbar\": {\"outlinewidth\": 0, \"ticks\": \"\"}}, \"type\": \"scattercarpet\"}], \"scattergeo\": [{\"marker\": {\"colorbar\": {\"outlinewidth\": 0, \"ticks\": \"\"}}, \"type\": \"scattergeo\"}], \"scattergl\": [{\"marker\": {\"colorbar\": {\"outlinewidth\": 0, \"ticks\": \"\"}}, \"type\": \"scattergl\"}], \"scattermapbox\": [{\"marker\": {\"colorbar\": {\"outlinewidth\": 0, \"ticks\": \"\"}}, \"type\": \"scattermapbox\"}], \"scatterpolar\": [{\"marker\": {\"colorbar\": {\"outlinewidth\": 0, \"ticks\": \"\"}}, \"type\": \"scatterpolar\"}], \"scatterpolargl\": [{\"marker\": {\"colorbar\": {\"outlinewidth\": 0, \"ticks\": \"\"}}, \"type\": \"scatterpolargl\"}], \"scatterternary\": [{\"marker\": {\"colorbar\": {\"outlinewidth\": 0, \"ticks\": \"\"}}, \"type\": \"scatterternary\"}], \"surface\": [{\"colorbar\": {\"outlinewidth\": 0, \"ticks\": \"\"}, \"colorscale\": [[0.0, \"#0d0887\"], [0.1111111111111111, \"#46039f\"], [0.2222222222222222, \"#7201a8\"], [0.3333333333333333, \"#9c179e\"], [0.4444444444444444, \"#bd3786\"], [0.5555555555555556, \"#d8576b\"], [0.6666666666666666, \"#ed7953\"], [0.7777777777777778, \"#fb9f3a\"], [0.8888888888888888, \"#fdca26\"], [1.0, \"#f0f921\"]], \"type\": \"surface\"}], \"table\": [{\"cells\": {\"fill\": {\"color\": \"#EBF0F8\"}, \"line\": {\"color\": \"white\"}}, \"header\": {\"fill\": {\"color\": \"#C8D4E3\"}, \"line\": {\"color\": \"white\"}}, \"type\": \"table\"}]}, \"layout\": {\"annotationdefaults\": {\"arrowcolor\": \"#2a3f5f\", \"arrowhead\": 0, \"arrowwidth\": 1}, \"coloraxis\": {\"colorbar\": {\"outlinewidth\": 0, \"ticks\": \"\"}}, \"colorscale\": {\"diverging\": [[0, \"#8e0152\"], [0.1, \"#c51b7d\"], [0.2, \"#de77ae\"], [0.3, \"#f1b6da\"], [0.4, \"#fde0ef\"], [0.5, \"#f7f7f7\"], [0.6, \"#e6f5d0\"], [0.7, \"#b8e186\"], [0.8, \"#7fbc41\"], [0.9, \"#4d9221\"], [1, \"#276419\"]], \"sequential\": [[0.0, \"#0d0887\"], [0.1111111111111111, \"#46039f\"], [0.2222222222222222, \"#7201a8\"], [0.3333333333333333, \"#9c179e\"], [0.4444444444444444, \"#bd3786\"], [0.5555555555555556, \"#d8576b\"], [0.6666666666666666, \"#ed7953\"], [0.7777777777777778, \"#fb9f3a\"], [0.8888888888888888, \"#fdca26\"], [1.0, \"#f0f921\"]], \"sequentialminus\": [[0.0, \"#0d0887\"], [0.1111111111111111, \"#46039f\"], [0.2222222222222222, \"#7201a8\"], [0.3333333333333333, \"#9c179e\"], [0.4444444444444444, \"#bd3786\"], [0.5555555555555556, \"#d8576b\"], [0.6666666666666666, \"#ed7953\"], [0.7777777777777778, \"#fb9f3a\"], [0.8888888888888888, \"#fdca26\"], [1.0, \"#f0f921\"]]}, \"colorway\": [\"#636efa\", \"#EF553B\", \"#00cc96\", \"#ab63fa\", \"#FFA15A\", \"#19d3f3\", \"#FF6692\", \"#B6E880\", \"#FF97FF\", \"#FECB52\"], \"font\": {\"color\": \"#2a3f5f\"}, \"geo\": {\"bgcolor\": \"white\", \"lakecolor\": \"white\", \"landcolor\": \"white\", \"showlakes\": true, \"showland\": true, \"subunitcolor\": \"#C8D4E3\"}, \"hoverlabel\": {\"align\": \"left\"}, \"hovermode\": \"closest\", \"mapbox\": {\"style\": \"light\"}, \"paper_bgcolor\": \"white\", \"plot_bgcolor\": \"white\", \"polar\": {\"angularaxis\": {\"gridcolor\": \"#EBF0F8\", \"linecolor\": \"#EBF0F8\", \"ticks\": \"\"}, \"bgcolor\": \"white\", \"radialaxis\": {\"gridcolor\": \"#EBF0F8\", \"linecolor\": \"#EBF0F8\", \"ticks\": \"\"}}, \"scene\": {\"xaxis\": {\"backgroundcolor\": \"white\", \"gridcolor\": \"#DFE8F3\", \"gridwidth\": 2, \"linecolor\": \"#EBF0F8\", \"showbackground\": true, \"ticks\": \"\", \"zerolinecolor\": \"#EBF0F8\"}, \"yaxis\": {\"backgroundcolor\": \"white\", \"gridcolor\": \"#DFE8F3\", \"gridwidth\": 2, \"linecolor\": \"#EBF0F8\", \"showbackground\": true, \"ticks\": \"\", \"zerolinecolor\": \"#EBF0F8\"}, \"zaxis\": {\"backgroundcolor\": \"white\", \"gridcolor\": \"#DFE8F3\", \"gridwidth\": 2, \"linecolor\": \"#EBF0F8\", \"showbackground\": true, \"ticks\": \"\", \"zerolinecolor\": \"#EBF0F8\"}}, \"shapedefaults\": {\"line\": {\"color\": \"#2a3f5f\"}}, \"ternary\": {\"aaxis\": {\"gridcolor\": \"#DFE8F3\", \"linecolor\": \"#A2B1C6\", \"ticks\": \"\"}, \"baxis\": {\"gridcolor\": \"#DFE8F3\", \"linecolor\": \"#A2B1C6\", \"ticks\": \"\"}, \"bgcolor\": \"white\", \"caxis\": {\"gridcolor\": \"#DFE8F3\", \"linecolor\": \"#A2B1C6\", \"ticks\": \"\"}}, \"title\": {\"x\": 0.05}, \"xaxis\": {\"automargin\": true, \"gridcolor\": \"#EBF0F8\", \"linecolor\": \"#EBF0F8\", \"ticks\": \"\", \"title\": {\"standoff\": 15}, \"zerolinecolor\": \"#EBF0F8\", \"zerolinewidth\": 2}, \"yaxis\": {\"automargin\": true, \"gridcolor\": \"#EBF0F8\", \"linecolor\": \"#EBF0F8\", \"ticks\": \"\", \"title\": {\"standoff\": 15}, \"zerolinecolor\": \"#EBF0F8\", \"zerolinewidth\": 2}}}, \"title\": {\"text\": \"Tire Rightward Forces\"}, \"width\": 900, \"xaxis\": {\"anchor\": \"y\", \"domain\": [0.0, 1.0], \"linecolor\": \"black\", \"linewidth\": 1, \"matches\": \"x4\", \"showgrid\": false, \"showline\": true, \"showticklabels\": false, \"tickcolor\": \"black\", \"ticklen\": 10, \"ticks\": \"outside\", \"tickwidth\": 1, \"title\": {\"text\": \"\"}, \"zeroline\": false}, \"xaxis2\": {\"anchor\": \"y2\", \"domain\": [0.0, 1.0], \"linecolor\": \"black\", \"linewidth\": 1, \"matches\": \"x4\", \"showgrid\": false, \"showline\": true, \"showticklabels\": false, \"tickcolor\": \"black\", \"ticklen\": 10, \"ticks\": \"outside\", \"tickwidth\": 1, \"title\": {\"text\": \"\"}, \"zeroline\": false}, \"xaxis3\": {\"anchor\": \"y3\", \"domain\": [0.0, 1.0], \"linecolor\": \"black\", \"linewidth\": 1, \"matches\": \"x4\", \"showgrid\": false, \"showline\": true, \"showticklabels\": false, \"tickcolor\": \"black\", \"ticklen\": 10, \"ticks\": \"outside\", \"tickwidth\": 1, \"title\": {\"text\": \"\"}, \"zeroline\": false}, \"xaxis4\": {\"anchor\": \"y4\", \"domain\": [0.0, 1.0], \"linecolor\": \"black\", \"linewidth\": 1, \"showgrid\": false, \"showline\": true, \"tickcolor\": \"black\", \"ticklen\": 10, \"ticks\": \"outside\", \"tickwidth\": 1, \"title\": {\"text\": \"Time (s)\"}, \"zeroline\": false}, \"yaxis\": {\"anchor\": \"x\", \"domain\": [0.7875, 1.0], \"linecolor\": \"black\", \"linewidth\": 1, \"showgrid\": false, \"showline\": true, \"tickcolor\": \"black\", \"ticklen\": 10, \"ticks\": \"outside\", \"tickwidth\": 1, \"title\": {\"text\": \"LF - Rightward Force (lb)\"}, \"zeroline\": false}, \"yaxis2\": {\"anchor\": \"x2\", \"domain\": [0.525, 0.7375], \"linecolor\": \"black\", \"linewidth\": 1, \"showgrid\": false, \"showline\": true, \"tickcolor\": \"black\", \"ticklen\": 10, \"ticks\": \"outside\", \"tickwidth\": 1, \"title\": {\"text\": \"RF - Rightward Force (lb)\"}, \"zeroline\": false}, \"yaxis3\": {\"anchor\": \"x3\", \"domain\": [0.2625, 0.475], \"linecolor\": \"black\", \"linewidth\": 1, \"showgrid\": false, \"showline\": true, \"tickcolor\": \"black\", \"ticklen\": 10, \"ticks\": \"outside\", \"tickwidth\": 1, \"title\": {\"text\": \"RR - Rightward Force (lb)\"}, \"zeroline\": false}, \"yaxis4\": {\"anchor\": \"x4\", \"domain\": [0.0, 0.2125], \"linecolor\": \"black\", \"linewidth\": 1, \"showgrid\": false, \"showline\": true, \"tickcolor\": \"black\", \"ticklen\": 10, \"ticks\": \"outside\", \"tickwidth\": 1, \"title\": {\"text\": \"LR - Rightward Force (lb)\"}, \"zeroline\": false}},\n",
       "                        {\"responsive\": true}\n",
       "                    ).then(function(){\n",
       "                            \n",
       "var gd = document.getElementById('e8211baa-147c-4ddc-a7e2-c5a5ef5c87a2');\n",
       "var x = new MutationObserver(function (mutations, observer) {{\n",
       "        var display = window.getComputedStyle(gd).display;\n",
       "        if (!display || display === 'none') {{\n",
       "            console.log([gd, 'removed!']);\n",
       "            Plotly.purge(gd);\n",
       "            observer.disconnect();\n",
       "        }}\n",
       "}});\n",
       "\n",
       "// Listen for the removal of the full notebook cells\n",
       "var notebookContainer = gd.closest('#notebook-container');\n",
       "if (notebookContainer) {{\n",
       "    x.observe(notebookContainer, {childList: true});\n",
       "}}\n",
       "\n",
       "// Listen for the clearing of the current output cell\n",
       "var outputEl = gd.closest('.output');\n",
       "if (outputEl) {{\n",
       "    x.observe(outputEl, {childList: true});\n",
       "}}\n",
       "\n",
       "                        })\n",
       "                };\n",
       "                });\n",
       "            </script>\n",
       "        </div>"
      ]
     },
     "metadata": {},
     "output_type": "display_data"
    },
    {
     "data": {
      "application/vnd.plotly.v1+json": {
       "config": {
        "plotlyServerURL": "https://plot.ly"
       },
       "data": [
        {
         "line": {
          "color": "rgb(0, 255, 0)",
          "width": 2
         },
         "mode": "lines",
         "name": "pycrash - ax",
         "type": "scatter",
         "x": [
          0,
          0.1,
          0.2,
          0.3,
          0.4,
          0.5,
          0.6,
          0.7,
          0.8,
          0.9,
          1,
          1.1,
          1.2,
          1.3,
          1.4,
          1.5,
          1.6,
          1.7,
          1.8,
          1.9,
          2,
          2.1,
          2.2,
          2.3,
          2.4,
          2.5,
          2.6,
          2.7,
          2.8,
          2.9,
          3,
          3.1,
          3.2,
          3.3,
          3.4,
          3.5,
          3.6,
          3.7,
          3.8,
          3.9,
          4,
          4.1,
          4.2,
          4.3,
          4.4,
          4.5,
          4.6,
          4.7,
          4.8,
          4.9,
          5,
          5.1,
          5.2,
          5.3,
          5.4,
          5.5,
          5.6,
          5.7,
          5.8,
          5.9,
          6,
          6.1,
          6.2,
          6.3,
          6.4,
          6.5,
          6.6,
          6.7,
          6.8,
          6.9,
          7,
          7.1,
          7.2,
          7.3,
          7.4,
          7.5,
          7.6,
          7.7,
          7.8,
          7.9,
          8,
          8.1,
          8.2,
          8.3,
          8.4,
          8.5,
          8.6,
          8.7,
          8.8,
          8.9,
          9,
          9.1,
          9.2,
          9.3,
          9.4,
          9.5,
          9.6,
          9.7,
          9.8,
          9.9,
          10,
          10.1,
          10.2,
          10.3,
          10.4,
          10.5,
          10.6,
          10.7,
          10.8,
          10.9
         ],
         "xaxis": "x",
         "y": [
          0,
          0,
          0,
          0,
          0,
          0,
          0,
          0,
          0,
          0,
          0,
          -0.0020886188045302597,
          -0.008505740408111421,
          -0.017034562390196205,
          -0.026622997040768665,
          -0.037840778296843756,
          -0.05176730065945961,
          -0.06923325452792511,
          -0.09064259692316413,
          -0.11606368361399588,
          -0.14534939226252644,
          -0.14064260180572366,
          -0.1334909934739857,
          -0.1329402429416846,
          -0.1370664873239032,
          -0.14212967837772894,
          -0.14558158609860108,
          -0.14646079205306495,
          -0.14485820842236738,
          -0.14132622305067052,
          -0.13650218994433772,
          -0.13093910225034036,
          -0.12506238576426706,
          -0.11918146627279551,
          -0.11351412582769185,
          -0.10820651940420739,
          -0.10334637592885527,
          -0.09897259941677779,
          -0.09508461558465761,
          -0.0916527761711267,
          -0.08862924213514974,
          -0.08595795225152238,
          -0.08358246577394544,
          -0.08145113930101147,
          -0.07951977839157977,
          -0.07775233495667508,
          -0.07612035810079128,
          -0.07460182882877336,
          -0.07317983088336186,
          -0.071841321726898,
          -0.07057611925181224,
          -0.06937612526558799,
          -0.06823475871294916,
          -0.06714655477300831,
          -0.06610688613614253,
          -0.0651117700326267,
          -0.06415773345358537,
          -0.06324171701685694,
          -0.06236100428572859,
          -0.0615131679943092,
          -0.06069602780682237,
          -0.05990761627109896,
          -0.05914615085577236,
          -0.05841001067592153,
          -0.05769771692833669,
          -0.05700791631289306,
          -0.05633936688662938,
          -0.05569092591888466,
          -0.055061539406337255,
          -0.05445023297509944,
          -0.0538561039492525,
          -0.05327831440587183,
          -0.05271608506882969,
          -0.052168689919510285,
          -0.05163545142336191,
          -0.05111573628794513,
          -0.05060895168164916,
          -0.05011454185324196,
          -0.0496319851014537,
          -0.04916079105127772,
          -0.04870049819991216,
          -0.04825067170048194,
          -0.047810901356061475,
          -0.04738079980020715,
          -0.046960000843334355,
          -0.046548157966930494,
          -0.046144942949865535,
          -0.045750044613004685,
          -0.04536316767000141,
          -0.04498403167358659,
          -0.04461237004791797,
          -0.04424792919863304,
          -0.043890467693189786,
          -0.043539755504898685,
          -0.043195573314767026,
          -0.04285771186590492,
          -0.04252597136579396,
          -0.04220016093220627,
          -0.04188009807899051,
          -0.041565608238321054,
          -0.041256524316342684,
          -0.04095268627944104,
          -0.0406539407686363,
          -0.040360140739832545,
          -0.040071145127867365,
          -0.03978681853249539,
          -0.03950703092460763,
          -0.03923165737114225,
          -0.038960577777276496,
          -0.03869367664461429
         ],
         "yaxis": "y"
        },
        {
         "line": {
          "color": "rgb(0, 255, 0)",
          "dash": "dash",
          "width": 2
         },
         "mode": "lines",
         "name": "validate - ax",
         "type": "scatter",
         "x": [
          0,
          0.1,
          0.2,
          0.3,
          0.4,
          0.5,
          0.6,
          0.7,
          0.8,
          0.9,
          1,
          1.1,
          1.2,
          1.3,
          1.4,
          1.5,
          1.6,
          1.7,
          1.8,
          1.9,
          2,
          2.1,
          2.2,
          2.3,
          2.4,
          2.5,
          2.6,
          2.7,
          2.8,
          2.9,
          3,
          3.1,
          3.2,
          3.3,
          3.4,
          3.5,
          3.6,
          3.7,
          3.8,
          3.9,
          4,
          4.1,
          4.2,
          4.3,
          4.4,
          4.5,
          4.6,
          4.7,
          4.8,
          4.9,
          5,
          5.1,
          5.2,
          5.3,
          5.4,
          5.5,
          5.6,
          5.7,
          5.8,
          5.9,
          6,
          6.1,
          6.2,
          6.3,
          6.4,
          6.5,
          6.6,
          6.7,
          6.8,
          6.9,
          7,
          7.1,
          7.2,
          7.3,
          7.4,
          7.5,
          7.6,
          7.7,
          7.8,
          7.9,
          8,
          8.1,
          8.2,
          8.3,
          8.4,
          8.5,
          8.6,
          8.7,
          8.8,
          8.9,
          9,
          9.1,
          9.2,
          9.3,
          9.4,
          9.5,
          9.6,
          9.7,
          9.8,
          9.9,
          10,
          10.1,
          10.2,
          10.3,
          10.4,
          10.5,
          10.6,
          10.7,
          10.8,
          10.9
         ],
         "xaxis": "x",
         "y": [
          0,
          0,
          0,
          0,
          0,
          0,
          0,
          0,
          0,
          0,
          0,
          -0.004057,
          -0.013866,
          -0.027818,
          -0.045629,
          -0.067071,
          -0.091975,
          -0.118056,
          -0.146114,
          -0.178055,
          -0.207538,
          -0.200021,
          -0.188624,
          -0.180731,
          -0.172537,
          -0.167271,
          -0.1633,
          -0.159929,
          -0.156809,
          -0.153799,
          -0.15087,
          -0.148039,
          -0.145328,
          -0.142744,
          -0.140289,
          -0.137953,
          -0.135727,
          -0.133601,
          -0.131567,
          -0.129615,
          -0.127742,
          -0.125941,
          -0.124207,
          -0.122537,
          -0.120926,
          -0.119372,
          -0.11787,
          -0.116419,
          -0.115014,
          -0.113654,
          -0.112337,
          -0.111059,
          -0.10982,
          -0.108616,
          -0.107447,
          -0.106312,
          -0.105207,
          -0.104132,
          -0.103086,
          -0.102068,
          -0.101075,
          -0.100107,
          -0.099164,
          -0.098244,
          -0.097345,
          -0.096468,
          -0.095612,
          -0.094775,
          -0.093957,
          -0.093157,
          -0.092375,
          -0.09161,
          -0.090861,
          -0.090128,
          -0.08941,
          -0.088707,
          -0.088018,
          -0.087343,
          -0.086681,
          -0.086033,
          -0.085396,
          -0.084772,
          -0.084159,
          -0.083558,
          -0.082968,
          -0.082388,
          -0.081819,
          -0.08126,
          -0.080711,
          -0.080171,
          -0.079641,
          -0.079119,
          -0.078607,
          -0.078102,
          -0.077606,
          -0.077119,
          -0.076638,
          -0.076166,
          -0.075701,
          -0.075243,
          -0.074793,
          -0.074349,
          -0.073912,
          -0.073482,
          -0.073058,
          -0.07264,
          -0.072228,
          -0.071822,
          -0.071423,
          -0.071028
         ],
         "yaxis": "y"
        },
        {
         "line": {
          "color": "rgb(0, 0, 255)",
          "width": 2
         },
         "mode": "lines",
         "name": "pycrash - ay",
         "type": "scatter",
         "x": [
          0,
          0.1,
          0.2,
          0.3,
          0.4,
          0.5,
          0.6,
          0.7,
          0.8,
          0.9,
          1,
          1.1,
          1.2,
          1.3,
          1.4,
          1.5,
          1.6,
          1.7,
          1.8,
          1.9,
          2,
          2.1,
          2.2,
          2.3,
          2.4,
          2.5,
          2.6,
          2.7,
          2.8,
          2.9,
          3,
          3.1,
          3.2,
          3.3,
          3.4,
          3.5,
          3.6,
          3.7,
          3.8,
          3.9,
          4,
          4.1,
          4.2,
          4.3,
          4.4,
          4.5,
          4.6,
          4.7,
          4.8,
          4.9,
          5,
          5.1,
          5.2,
          5.3,
          5.4,
          5.5,
          5.6,
          5.7,
          5.8,
          5.9,
          6,
          6.1,
          6.2,
          6.3,
          6.4,
          6.5,
          6.6,
          6.7,
          6.8,
          6.9,
          7,
          7.1,
          7.2,
          7.3,
          7.4,
          7.5,
          7.6,
          7.7,
          7.8,
          7.9,
          8,
          8.1,
          8.2,
          8.3,
          8.4,
          8.5,
          8.6,
          8.7,
          8.8,
          8.9,
          9,
          9.1,
          9.2,
          9.3,
          9.4,
          9.5,
          9.6,
          9.7,
          9.8,
          9.9,
          10,
          10.1,
          10.2,
          10.3,
          10.4,
          10.5,
          10.6,
          10.7,
          10.8,
          10.9
         ],
         "xaxis": "x2",
         "y": [
          0,
          0,
          0,
          0,
          0,
          0,
          0,
          0,
          0,
          0,
          0,
          -0.05870161928376345,
          -0.11268365926961123,
          -0.14721922010448005,
          -0.17239870380718209,
          -0.19999418562409488,
          -0.23559389995829058,
          -0.2794449861677874,
          -0.32927612569876796,
          -0.38227665526263693,
          -0.4359374616367491,
          -0.43757851640868706,
          -0.4393819495251962,
          -0.45731663619833324,
          -0.4841472385515151,
          -0.5091873212665576,
          -0.5259545011447015,
          -0.5325635429530481,
          -0.5298808800016618,
          -0.5198518654647175,
          -0.5045505425184981,
          -0.48580050965644456,
          -0.46509938876899737,
          -0.4436517167199504,
          -0.4224109585160382,
          -0.40210092562013366,
          -0.38322323025204036,
          -0.36606742427553285,
          -0.35073510491737875,
          -0.3371790856741338,
          -0.3252509750630871,
          -0.31474794463399847,
          -0.3054512873346728,
          -0.29715318204569163,
          -0.28967170903123013,
          -0.282856457050388,
          -0.2765878782441155,
          -0.2707732996561774,
          -0.26534174221548645,
          -0.260238861116446,
          -0.25542264213200727,
          -0.2508600385623727,
          -0.24652448856451195,
          -0.24239415143740703,
          -0.23845068382593,
          -0.23467839866903817,
          -0.23106368451358072,
          -0.22759459710957064,
          -0.22426056352742094,
          -0.22105216010626486,
          -0.21796094001299424,
          -0.2149792954717336,
          -0.21210034534014205,
          -0.20931784197912728,
          -0.20662609325639733,
          -0.2040198966640854,
          -0.2014944832676944,
          -0.1990454697161966,
          -0.1966688169178409,
          -0.19436079426795913,
          -0.19211794853096384,
          -0.18993707664703155,
          -0.18781520186702086,
          -0.1857495527252602,
          -0.18373754444468798,
          -0.1817767624368487,
          -0.1798649476140284,
          -0.17799998327528976,
          -0.17617988336460869,
          -0.17440278192942243,
          -0.1726669236329145,
          -0.17097065519422475,
          -0.16931241764825966,
          -0.16769073933147177,
          -0.16610422951240686,
          -0.16455157259636416,
          -0.16303152284250397,
          -0.16154289953942805,
          -0.1600845825918561,
          -0.15865550847670126,
          -0.15725466653175166,
          -0.15588109554441382,
          -0.15453388061166892,
          -0.15321215024560048,
          -0.15191507370166754,
          -0.15064185850935372,
          -0.14939174818697698,
          -0.14816402012434765,
          -0.14695798361863333,
          -0.14577297805026757,
          -0.14460837118705053,
          -0.1434635576057456,
          -0.14233795722151585,
          -0.1412310139164557,
          -0.1401421942592976,
          -0.13907098630910417,
          -0.13801689849641158,
          -0.1369794585758797,
          -0.13595821264502989,
          -0.1349527242241275
         ],
         "yaxis": "y2"
        },
        {
         "line": {
          "color": "rgb(0, 0, 255)",
          "dash": "dash",
          "width": 2
         },
         "mode": "lines",
         "name": "validate - ay",
         "type": "scatter",
         "x": [
          0,
          0.1,
          0.2,
          0.3,
          0.4,
          0.5,
          0.6,
          0.7,
          0.8,
          0.9,
          1,
          1.1,
          1.2,
          1.3,
          1.4,
          1.5,
          1.6,
          1.7,
          1.8,
          1.9,
          2,
          2.1,
          2.2,
          2.3,
          2.4,
          2.5,
          2.6,
          2.7,
          2.8,
          2.9,
          3,
          3.1,
          3.2,
          3.3,
          3.4,
          3.5,
          3.6,
          3.7,
          3.8,
          3.9,
          4,
          4.1,
          4.2,
          4.3,
          4.4,
          4.5,
          4.6,
          4.7,
          4.8,
          4.9,
          5,
          5.1,
          5.2,
          5.3,
          5.4,
          5.5,
          5.6,
          5.7,
          5.8,
          5.9,
          6,
          6.1,
          6.2,
          6.3,
          6.4,
          6.5,
          6.6,
          6.7,
          6.8,
          6.9,
          7,
          7.1,
          7.2,
          7.3,
          7.4,
          7.5,
          7.6,
          7.7,
          7.8,
          7.9,
          8,
          8.1,
          8.2,
          8.3,
          8.4,
          8.5,
          8.6,
          8.7,
          8.8,
          8.9,
          9,
          9.1,
          9.2,
          9.3,
          9.4,
          9.5,
          9.6,
          9.7,
          9.8,
          9.9,
          10,
          10.1,
          10.2,
          10.3,
          10.4,
          10.5,
          10.6,
          10.7,
          10.8,
          10.9
         ],
         "xaxis": "x2",
         "y": [
          0,
          0,
          0,
          0,
          0,
          0,
          0,
          0,
          0,
          0,
          0,
          -0.098352,
          -0.163871,
          -0.240041,
          -0.311896,
          -0.381689,
          -0.44814,
          -0.505176,
          -0.556628,
          -0.605131,
          -0.635441,
          -0.626268,
          -0.612977,
          -0.601103,
          -0.584816,
          -0.57125,
          -0.558899,
          -0.54743,
          -0.536521,
          -0.525966,
          -0.515717,
          -0.50582,
          -0.496328,
          -0.487276,
          -0.47867,
          -0.470485,
          -0.462691,
          -0.455257,
          -0.448147,
          -0.441336,
          -0.434803,
          -0.428526,
          -0.422488,
          -0.416675,
          -0.411074,
          -0.40567,
          -0.400454,
          -0.395414,
          -0.39054,
          -0.385824,
          -0.381257,
          -0.37683,
          -0.372538,
          -0.368373,
          -0.364329,
          -0.360401,
          -0.356582,
          -0.352868,
          -0.349254,
          -0.345736,
          -0.34231,
          -0.338972,
          -0.335717,
          -0.332543,
          -0.329447,
          -0.326424,
          -0.323473,
          -0.320591,
          -0.317775,
          -0.315022,
          -0.312331,
          -0.309699,
          -0.307123,
          -0.304603,
          -0.302135,
          -0.299719,
          -0.297353,
          -0.295034,
          -0.292761,
          -0.290533,
          -0.288349,
          -0.286206,
          -0.284105,
          -0.282042,
          -0.280018,
          -0.278031,
          -0.27608,
          -0.274164,
          -0.272282,
          -0.270433,
          -0.268616,
          -0.26683,
          -0.265074,
          -0.263348,
          -0.26165,
          -0.259981,
          -0.258338,
          -0.256722,
          -0.255131,
          -0.253566,
          -0.252025,
          -0.250508,
          -0.24901399999999999,
          -0.247543,
          -0.246094,
          -0.244666,
          -0.24326,
          -0.241874,
          -0.240508,
          -0.239162
         ],
         "yaxis": "y2"
        }
       ],
       "layout": {
        "autosize": false,
        "font": {
         "color": "black",
         "family": "Arial",
         "size": 14
        },
        "height": 900,
        "legend": {
         "orientation": "h",
         "x": 0.01,
         "xanchor": "left",
         "y": 1.1,
         "yanchor": "top"
        },
        "template": {
         "data": {
          "bar": [
           {
            "error_x": {
             "color": "#2a3f5f"
            },
            "error_y": {
             "color": "#2a3f5f"
            },
            "marker": {
             "line": {
              "color": "white",
              "width": 0.5
             }
            },
            "type": "bar"
           }
          ],
          "barpolar": [
           {
            "marker": {
             "line": {
              "color": "white",
              "width": 0.5
             }
            },
            "type": "barpolar"
           }
          ],
          "carpet": [
           {
            "aaxis": {
             "endlinecolor": "#2a3f5f",
             "gridcolor": "#C8D4E3",
             "linecolor": "#C8D4E3",
             "minorgridcolor": "#C8D4E3",
             "startlinecolor": "#2a3f5f"
            },
            "baxis": {
             "endlinecolor": "#2a3f5f",
             "gridcolor": "#C8D4E3",
             "linecolor": "#C8D4E3",
             "minorgridcolor": "#C8D4E3",
             "startlinecolor": "#2a3f5f"
            },
            "type": "carpet"
           }
          ],
          "choropleth": [
           {
            "colorbar": {
             "outlinewidth": 0,
             "ticks": ""
            },
            "type": "choropleth"
           }
          ],
          "contour": [
           {
            "colorbar": {
             "outlinewidth": 0,
             "ticks": ""
            },
            "colorscale": [
             [
              0,
              "#0d0887"
             ],
             [
              0.1111111111111111,
              "#46039f"
             ],
             [
              0.2222222222222222,
              "#7201a8"
             ],
             [
              0.3333333333333333,
              "#9c179e"
             ],
             [
              0.4444444444444444,
              "#bd3786"
             ],
             [
              0.5555555555555556,
              "#d8576b"
             ],
             [
              0.6666666666666666,
              "#ed7953"
             ],
             [
              0.7777777777777778,
              "#fb9f3a"
             ],
             [
              0.8888888888888888,
              "#fdca26"
             ],
             [
              1,
              "#f0f921"
             ]
            ],
            "type": "contour"
           }
          ],
          "contourcarpet": [
           {
            "colorbar": {
             "outlinewidth": 0,
             "ticks": ""
            },
            "type": "contourcarpet"
           }
          ],
          "heatmap": [
           {
            "colorbar": {
             "outlinewidth": 0,
             "ticks": ""
            },
            "colorscale": [
             [
              0,
              "#0d0887"
             ],
             [
              0.1111111111111111,
              "#46039f"
             ],
             [
              0.2222222222222222,
              "#7201a8"
             ],
             [
              0.3333333333333333,
              "#9c179e"
             ],
             [
              0.4444444444444444,
              "#bd3786"
             ],
             [
              0.5555555555555556,
              "#d8576b"
             ],
             [
              0.6666666666666666,
              "#ed7953"
             ],
             [
              0.7777777777777778,
              "#fb9f3a"
             ],
             [
              0.8888888888888888,
              "#fdca26"
             ],
             [
              1,
              "#f0f921"
             ]
            ],
            "type": "heatmap"
           }
          ],
          "heatmapgl": [
           {
            "colorbar": {
             "outlinewidth": 0,
             "ticks": ""
            },
            "colorscale": [
             [
              0,
              "#0d0887"
             ],
             [
              0.1111111111111111,
              "#46039f"
             ],
             [
              0.2222222222222222,
              "#7201a8"
             ],
             [
              0.3333333333333333,
              "#9c179e"
             ],
             [
              0.4444444444444444,
              "#bd3786"
             ],
             [
              0.5555555555555556,
              "#d8576b"
             ],
             [
              0.6666666666666666,
              "#ed7953"
             ],
             [
              0.7777777777777778,
              "#fb9f3a"
             ],
             [
              0.8888888888888888,
              "#fdca26"
             ],
             [
              1,
              "#f0f921"
             ]
            ],
            "type": "heatmapgl"
           }
          ],
          "histogram": [
           {
            "marker": {
             "colorbar": {
              "outlinewidth": 0,
              "ticks": ""
             }
            },
            "type": "histogram"
           }
          ],
          "histogram2d": [
           {
            "colorbar": {
             "outlinewidth": 0,
             "ticks": ""
            },
            "colorscale": [
             [
              0,
              "#0d0887"
             ],
             [
              0.1111111111111111,
              "#46039f"
             ],
             [
              0.2222222222222222,
              "#7201a8"
             ],
             [
              0.3333333333333333,
              "#9c179e"
             ],
             [
              0.4444444444444444,
              "#bd3786"
             ],
             [
              0.5555555555555556,
              "#d8576b"
             ],
             [
              0.6666666666666666,
              "#ed7953"
             ],
             [
              0.7777777777777778,
              "#fb9f3a"
             ],
             [
              0.8888888888888888,
              "#fdca26"
             ],
             [
              1,
              "#f0f921"
             ]
            ],
            "type": "histogram2d"
           }
          ],
          "histogram2dcontour": [
           {
            "colorbar": {
             "outlinewidth": 0,
             "ticks": ""
            },
            "colorscale": [
             [
              0,
              "#0d0887"
             ],
             [
              0.1111111111111111,
              "#46039f"
             ],
             [
              0.2222222222222222,
              "#7201a8"
             ],
             [
              0.3333333333333333,
              "#9c179e"
             ],
             [
              0.4444444444444444,
              "#bd3786"
             ],
             [
              0.5555555555555556,
              "#d8576b"
             ],
             [
              0.6666666666666666,
              "#ed7953"
             ],
             [
              0.7777777777777778,
              "#fb9f3a"
             ],
             [
              0.8888888888888888,
              "#fdca26"
             ],
             [
              1,
              "#f0f921"
             ]
            ],
            "type": "histogram2dcontour"
           }
          ],
          "mesh3d": [
           {
            "colorbar": {
             "outlinewidth": 0,
             "ticks": ""
            },
            "type": "mesh3d"
           }
          ],
          "parcoords": [
           {
            "line": {
             "colorbar": {
              "outlinewidth": 0,
              "ticks": ""
             }
            },
            "type": "parcoords"
           }
          ],
          "pie": [
           {
            "automargin": true,
            "type": "pie"
           }
          ],
          "scatter": [
           {
            "marker": {
             "colorbar": {
              "outlinewidth": 0,
              "ticks": ""
             }
            },
            "type": "scatter"
           }
          ],
          "scatter3d": [
           {
            "line": {
             "colorbar": {
              "outlinewidth": 0,
              "ticks": ""
             }
            },
            "marker": {
             "colorbar": {
              "outlinewidth": 0,
              "ticks": ""
             }
            },
            "type": "scatter3d"
           }
          ],
          "scattercarpet": [
           {
            "marker": {
             "colorbar": {
              "outlinewidth": 0,
              "ticks": ""
             }
            },
            "type": "scattercarpet"
           }
          ],
          "scattergeo": [
           {
            "marker": {
             "colorbar": {
              "outlinewidth": 0,
              "ticks": ""
             }
            },
            "type": "scattergeo"
           }
          ],
          "scattergl": [
           {
            "marker": {
             "colorbar": {
              "outlinewidth": 0,
              "ticks": ""
             }
            },
            "type": "scattergl"
           }
          ],
          "scattermapbox": [
           {
            "marker": {
             "colorbar": {
              "outlinewidth": 0,
              "ticks": ""
             }
            },
            "type": "scattermapbox"
           }
          ],
          "scatterpolar": [
           {
            "marker": {
             "colorbar": {
              "outlinewidth": 0,
              "ticks": ""
             }
            },
            "type": "scatterpolar"
           }
          ],
          "scatterpolargl": [
           {
            "marker": {
             "colorbar": {
              "outlinewidth": 0,
              "ticks": ""
             }
            },
            "type": "scatterpolargl"
           }
          ],
          "scatterternary": [
           {
            "marker": {
             "colorbar": {
              "outlinewidth": 0,
              "ticks": ""
             }
            },
            "type": "scatterternary"
           }
          ],
          "surface": [
           {
            "colorbar": {
             "outlinewidth": 0,
             "ticks": ""
            },
            "colorscale": [
             [
              0,
              "#0d0887"
             ],
             [
              0.1111111111111111,
              "#46039f"
             ],
             [
              0.2222222222222222,
              "#7201a8"
             ],
             [
              0.3333333333333333,
              "#9c179e"
             ],
             [
              0.4444444444444444,
              "#bd3786"
             ],
             [
              0.5555555555555556,
              "#d8576b"
             ],
             [
              0.6666666666666666,
              "#ed7953"
             ],
             [
              0.7777777777777778,
              "#fb9f3a"
             ],
             [
              0.8888888888888888,
              "#fdca26"
             ],
             [
              1,
              "#f0f921"
             ]
            ],
            "type": "surface"
           }
          ],
          "table": [
           {
            "cells": {
             "fill": {
              "color": "#EBF0F8"
             },
             "line": {
              "color": "white"
             }
            },
            "header": {
             "fill": {
              "color": "#C8D4E3"
             },
             "line": {
              "color": "white"
             }
            },
            "type": "table"
           }
          ]
         },
         "layout": {
          "annotationdefaults": {
           "arrowcolor": "#2a3f5f",
           "arrowhead": 0,
           "arrowwidth": 1
          },
          "coloraxis": {
           "colorbar": {
            "outlinewidth": 0,
            "ticks": ""
           }
          },
          "colorscale": {
           "diverging": [
            [
             0,
             "#8e0152"
            ],
            [
             0.1,
             "#c51b7d"
            ],
            [
             0.2,
             "#de77ae"
            ],
            [
             0.3,
             "#f1b6da"
            ],
            [
             0.4,
             "#fde0ef"
            ],
            [
             0.5,
             "#f7f7f7"
            ],
            [
             0.6,
             "#e6f5d0"
            ],
            [
             0.7,
             "#b8e186"
            ],
            [
             0.8,
             "#7fbc41"
            ],
            [
             0.9,
             "#4d9221"
            ],
            [
             1,
             "#276419"
            ]
           ],
           "sequential": [
            [
             0,
             "#0d0887"
            ],
            [
             0.1111111111111111,
             "#46039f"
            ],
            [
             0.2222222222222222,
             "#7201a8"
            ],
            [
             0.3333333333333333,
             "#9c179e"
            ],
            [
             0.4444444444444444,
             "#bd3786"
            ],
            [
             0.5555555555555556,
             "#d8576b"
            ],
            [
             0.6666666666666666,
             "#ed7953"
            ],
            [
             0.7777777777777778,
             "#fb9f3a"
            ],
            [
             0.8888888888888888,
             "#fdca26"
            ],
            [
             1,
             "#f0f921"
            ]
           ],
           "sequentialminus": [
            [
             0,
             "#0d0887"
            ],
            [
             0.1111111111111111,
             "#46039f"
            ],
            [
             0.2222222222222222,
             "#7201a8"
            ],
            [
             0.3333333333333333,
             "#9c179e"
            ],
            [
             0.4444444444444444,
             "#bd3786"
            ],
            [
             0.5555555555555556,
             "#d8576b"
            ],
            [
             0.6666666666666666,
             "#ed7953"
            ],
            [
             0.7777777777777778,
             "#fb9f3a"
            ],
            [
             0.8888888888888888,
             "#fdca26"
            ],
            [
             1,
             "#f0f921"
            ]
           ]
          },
          "colorway": [
           "#636efa",
           "#EF553B",
           "#00cc96",
           "#ab63fa",
           "#FFA15A",
           "#19d3f3",
           "#FF6692",
           "#B6E880",
           "#FF97FF",
           "#FECB52"
          ],
          "font": {
           "color": "#2a3f5f"
          },
          "geo": {
           "bgcolor": "white",
           "lakecolor": "white",
           "landcolor": "white",
           "showlakes": true,
           "showland": true,
           "subunitcolor": "#C8D4E3"
          },
          "hoverlabel": {
           "align": "left"
          },
          "hovermode": "closest",
          "mapbox": {
           "style": "light"
          },
          "paper_bgcolor": "white",
          "plot_bgcolor": "white",
          "polar": {
           "angularaxis": {
            "gridcolor": "#EBF0F8",
            "linecolor": "#EBF0F8",
            "ticks": ""
           },
           "bgcolor": "white",
           "radialaxis": {
            "gridcolor": "#EBF0F8",
            "linecolor": "#EBF0F8",
            "ticks": ""
           }
          },
          "scene": {
           "xaxis": {
            "backgroundcolor": "white",
            "gridcolor": "#DFE8F3",
            "gridwidth": 2,
            "linecolor": "#EBF0F8",
            "showbackground": true,
            "ticks": "",
            "zerolinecolor": "#EBF0F8"
           },
           "yaxis": {
            "backgroundcolor": "white",
            "gridcolor": "#DFE8F3",
            "gridwidth": 2,
            "linecolor": "#EBF0F8",
            "showbackground": true,
            "ticks": "",
            "zerolinecolor": "#EBF0F8"
           },
           "zaxis": {
            "backgroundcolor": "white",
            "gridcolor": "#DFE8F3",
            "gridwidth": 2,
            "linecolor": "#EBF0F8",
            "showbackground": true,
            "ticks": "",
            "zerolinecolor": "#EBF0F8"
           }
          },
          "shapedefaults": {
           "line": {
            "color": "#2a3f5f"
           }
          },
          "ternary": {
           "aaxis": {
            "gridcolor": "#DFE8F3",
            "linecolor": "#A2B1C6",
            "ticks": ""
           },
           "baxis": {
            "gridcolor": "#DFE8F3",
            "linecolor": "#A2B1C6",
            "ticks": ""
           },
           "bgcolor": "white",
           "caxis": {
            "gridcolor": "#DFE8F3",
            "linecolor": "#A2B1C6",
            "ticks": ""
           }
          },
          "title": {
           "x": 0.05
          },
          "xaxis": {
           "automargin": true,
           "gridcolor": "#EBF0F8",
           "linecolor": "#EBF0F8",
           "ticks": "",
           "title": {
            "standoff": 15
           },
           "zerolinecolor": "#EBF0F8",
           "zerolinewidth": 2
          },
          "yaxis": {
           "automargin": true,
           "gridcolor": "#EBF0F8",
           "linecolor": "#EBF0F8",
           "ticks": "",
           "title": {
            "standoff": 15
           },
           "zerolinecolor": "#EBF0F8",
           "zerolinewidth": 2
          }
         }
        },
        "title": {
         "text": "Acceleration"
        },
        "width": 900,
        "xaxis": {
         "anchor": "y",
         "domain": [
          0,
          1
         ],
         "linecolor": "black",
         "linewidth": 1,
         "matches": "x2",
         "showgrid": false,
         "showline": true,
         "showticklabels": false,
         "tickcolor": "black",
         "ticklen": 10,
         "ticks": "outside",
         "tickwidth": 1,
         "title": {
          "text": ""
         },
         "zeroline": false
        },
        "xaxis2": {
         "anchor": "y2",
         "domain": [
          0,
          1
         ],
         "linecolor": "black",
         "linewidth": 1,
         "showgrid": false,
         "showline": true,
         "tickcolor": "black",
         "ticklen": 10,
         "ticks": "outside",
         "tickwidth": 1,
         "title": {
          "text": "Time (s)"
         },
         "zeroline": false
        },
        "yaxis": {
         "anchor": "x",
         "domain": [
          0.5349999999999999,
          0.9999999999999999
         ],
         "linecolor": "black",
         "linewidth": 1,
         "showgrid": false,
         "showline": true,
         "tickcolor": "black",
         "ticklen": 10,
         "ticks": "outside",
         "tickwidth": 1,
         "title": {
          "text": "Forward Accel (g)"
         },
         "zeroline": false
        },
        "yaxis2": {
         "anchor": "x2",
         "domain": [
          0,
          0.46499999999999997
         ],
         "linecolor": "black",
         "linewidth": 1,
         "showgrid": false,
         "showline": true,
         "tickcolor": "black",
         "ticklen": 10,
         "ticks": "outside",
         "tickwidth": 1,
         "title": {
          "text": "Rightward Accel (g)"
         },
         "zeroline": false
        }
       }
      },
      "text/html": [
       "<div>\n",
       "        \n",
       "        \n",
       "            <div id=\"3bf6fc14-a385-48c2-b21c-fdb0eb6806be\" class=\"plotly-graph-div\" style=\"height:900px; width:900px;\"></div>\n",
       "            <script type=\"text/javascript\">\n",
       "                require([\"plotly\"], function(Plotly) {\n",
       "                    window.PLOTLYENV=window.PLOTLYENV || {};\n",
       "                    \n",
       "                if (document.getElementById(\"3bf6fc14-a385-48c2-b21c-fdb0eb6806be\")) {\n",
       "                    Plotly.newPlot(\n",
       "                        '3bf6fc14-a385-48c2-b21c-fdb0eb6806be',\n",
       "                        [{\"line\": {\"color\": \"rgb(0, 255, 0)\", \"width\": 2}, \"mode\": \"lines\", \"name\": \"pycrash - ax\", \"type\": \"scatter\", \"x\": [0.0, 0.1, 0.2, 0.3, 0.4, 0.5, 0.6, 0.7, 0.8, 0.9, 1.0, 1.1, 1.2, 1.3, 1.4, 1.5, 1.6, 1.7, 1.8, 1.9, 2.0, 2.1, 2.2, 2.3, 2.4, 2.5, 2.6, 2.7, 2.8, 2.9, 3.0, 3.1, 3.2, 3.3, 3.4, 3.5, 3.6, 3.7, 3.8, 3.9, 4.0, 4.1, 4.2, 4.3, 4.4, 4.5, 4.6, 4.7, 4.8, 4.9, 5.0, 5.1, 5.2, 5.3, 5.4, 5.5, 5.6, 5.7, 5.8, 5.9, 6.0, 6.1, 6.2, 6.3, 6.4, 6.5, 6.6, 6.7, 6.8, 6.9, 7.0, 7.1, 7.2, 7.3, 7.4, 7.5, 7.6, 7.7, 7.8, 7.9, 8.0, 8.1, 8.2, 8.3, 8.4, 8.5, 8.6, 8.7, 8.8, 8.9, 9.0, 9.1, 9.2, 9.3, 9.4, 9.5, 9.6, 9.7, 9.8, 9.9, 10.0, 10.1, 10.2, 10.3, 10.4, 10.5, 10.6, 10.7, 10.8, 10.9], \"xaxis\": \"x\", \"y\": [0.0, 0.0, 0.0, 0.0, 0.0, 0.0, 0.0, 0.0, 0.0, 0.0, 0.0, -0.0020886188045302597, -0.008505740408111421, -0.017034562390196205, -0.026622997040768665, -0.037840778296843756, -0.05176730065945961, -0.06923325452792511, -0.09064259692316413, -0.11606368361399588, -0.14534939226252644, -0.14064260180572366, -0.1334909934739857, -0.1329402429416846, -0.1370664873239032, -0.14212967837772894, -0.14558158609860108, -0.14646079205306495, -0.14485820842236738, -0.14132622305067052, -0.13650218994433772, -0.13093910225034036, -0.12506238576426706, -0.11918146627279551, -0.11351412582769185, -0.10820651940420739, -0.10334637592885527, -0.09897259941677779, -0.09508461558465761, -0.0916527761711267, -0.08862924213514974, -0.08595795225152238, -0.08358246577394544, -0.08145113930101147, -0.07951977839157977, -0.07775233495667508, -0.07612035810079128, -0.07460182882877336, -0.07317983088336186, -0.071841321726898, -0.07057611925181224, -0.06937612526558799, -0.06823475871294916, -0.06714655477300831, -0.06610688613614253, -0.0651117700326267, -0.06415773345358537, -0.06324171701685694, -0.06236100428572859, -0.0615131679943092, -0.06069602780682237, -0.05990761627109896, -0.05914615085577236, -0.05841001067592153, -0.05769771692833669, -0.05700791631289306, -0.05633936688662938, -0.05569092591888466, -0.055061539406337255, -0.05445023297509944, -0.0538561039492525, -0.05327831440587183, -0.05271608506882969, -0.052168689919510285, -0.05163545142336191, -0.05111573628794513, -0.05060895168164916, -0.05011454185324196, -0.0496319851014537, -0.04916079105127772, -0.04870049819991216, -0.04825067170048194, -0.047810901356061475, -0.04738079980020715, -0.046960000843334355, -0.046548157966930494, -0.046144942949865535, -0.045750044613004685, -0.04536316767000141, -0.04498403167358659, -0.04461237004791797, -0.04424792919863304, -0.043890467693189786, -0.043539755504898685, -0.043195573314767026, -0.04285771186590492, -0.04252597136579396, -0.04220016093220627, -0.04188009807899051, -0.041565608238321054, -0.041256524316342684, -0.04095268627944104, -0.0406539407686363, -0.040360140739832545, -0.040071145127867365, -0.03978681853249539, -0.03950703092460763, -0.03923165737114225, -0.038960577777276496, -0.03869367664461429], \"yaxis\": \"y\"}, {\"line\": {\"color\": \"rgb(0, 255, 0)\", \"dash\": \"dash\", \"width\": 2}, \"mode\": \"lines\", \"name\": \"validate - ax\", \"type\": \"scatter\", \"x\": [0.0, 0.1, 0.2, 0.3, 0.4, 0.5, 0.6, 0.7, 0.8, 0.9, 1.0, 1.1, 1.2, 1.3, 1.4, 1.5, 1.6, 1.7, 1.8, 1.9, 2.0, 2.1, 2.2, 2.3, 2.4, 2.5, 2.6, 2.7, 2.8, 2.9, 3.0, 3.1, 3.2, 3.3, 3.4, 3.5, 3.6, 3.7, 3.8, 3.9, 4.0, 4.1, 4.2, 4.3, 4.4, 4.5, 4.6, 4.7, 4.8, 4.9, 5.0, 5.1, 5.2, 5.3, 5.4, 5.5, 5.6, 5.7, 5.8, 5.9, 6.0, 6.1, 6.2, 6.3, 6.4, 6.5, 6.6, 6.7, 6.8, 6.9, 7.0, 7.1, 7.2, 7.3, 7.4, 7.5, 7.6, 7.7, 7.8, 7.9, 8.0, 8.1, 8.2, 8.3, 8.4, 8.5, 8.6, 8.7, 8.8, 8.9, 9.0, 9.1, 9.2, 9.3, 9.4, 9.5, 9.6, 9.7, 9.8, 9.9, 10.0, 10.1, 10.2, 10.3, 10.4, 10.5, 10.6, 10.7, 10.8, 10.9], \"xaxis\": \"x\", \"y\": [0.0, 0.0, 0.0, 0.0, 0.0, 0.0, 0.0, 0.0, 0.0, 0.0, 0.0, -0.004057, -0.013866, -0.027818, -0.045629, -0.067071, -0.091975, -0.118056, -0.146114, -0.178055, -0.207538, -0.200021, -0.188624, -0.180731, -0.172537, -0.167271, -0.1633, -0.159929, -0.156809, -0.153799, -0.15087, -0.148039, -0.145328, -0.142744, -0.140289, -0.137953, -0.135727, -0.133601, -0.131567, -0.129615, -0.127742, -0.125941, -0.124207, -0.122537, -0.120926, -0.119372, -0.11787, -0.116419, -0.115014, -0.113654, -0.112337, -0.111059, -0.10982, -0.108616, -0.107447, -0.106312, -0.105207, -0.104132, -0.103086, -0.102068, -0.101075, -0.100107, -0.099164, -0.098244, -0.097345, -0.096468, -0.095612, -0.094775, -0.093957, -0.093157, -0.092375, -0.09161, -0.090861, -0.090128, -0.08941, -0.088707, -0.088018, -0.087343, -0.086681, -0.086033, -0.085396, -0.084772, -0.084159, -0.083558, -0.082968, -0.082388, -0.081819, -0.08126, -0.080711, -0.080171, -0.079641, -0.079119, -0.078607, -0.078102, -0.077606, -0.077119, -0.076638, -0.076166, -0.075701, -0.075243, -0.074793, -0.074349, -0.073912, -0.073482, -0.073058, -0.07264, -0.072228, -0.071822, -0.071423, -0.071028], \"yaxis\": \"y\"}, {\"line\": {\"color\": \"rgb(0, 0, 255)\", \"width\": 2}, \"mode\": \"lines\", \"name\": \"pycrash - ay\", \"type\": \"scatter\", \"x\": [0.0, 0.1, 0.2, 0.3, 0.4, 0.5, 0.6, 0.7, 0.8, 0.9, 1.0, 1.1, 1.2, 1.3, 1.4, 1.5, 1.6, 1.7, 1.8, 1.9, 2.0, 2.1, 2.2, 2.3, 2.4, 2.5, 2.6, 2.7, 2.8, 2.9, 3.0, 3.1, 3.2, 3.3, 3.4, 3.5, 3.6, 3.7, 3.8, 3.9, 4.0, 4.1, 4.2, 4.3, 4.4, 4.5, 4.6, 4.7, 4.8, 4.9, 5.0, 5.1, 5.2, 5.3, 5.4, 5.5, 5.6, 5.7, 5.8, 5.9, 6.0, 6.1, 6.2, 6.3, 6.4, 6.5, 6.6, 6.7, 6.8, 6.9, 7.0, 7.1, 7.2, 7.3, 7.4, 7.5, 7.6, 7.7, 7.8, 7.9, 8.0, 8.1, 8.2, 8.3, 8.4, 8.5, 8.6, 8.7, 8.8, 8.9, 9.0, 9.1, 9.2, 9.3, 9.4, 9.5, 9.6, 9.7, 9.8, 9.9, 10.0, 10.1, 10.2, 10.3, 10.4, 10.5, 10.6, 10.7, 10.8, 10.9], \"xaxis\": \"x2\", \"y\": [0.0, 0.0, 0.0, 0.0, 0.0, 0.0, 0.0, 0.0, 0.0, 0.0, 0.0, -0.05870161928376345, -0.11268365926961123, -0.14721922010448005, -0.17239870380718209, -0.19999418562409488, -0.23559389995829058, -0.2794449861677874, -0.32927612569876796, -0.38227665526263693, -0.4359374616367491, -0.43757851640868706, -0.4393819495251962, -0.45731663619833324, -0.4841472385515151, -0.5091873212665576, -0.5259545011447015, -0.5325635429530481, -0.5298808800016618, -0.5198518654647175, -0.5045505425184981, -0.48580050965644456, -0.46509938876899737, -0.4436517167199504, -0.4224109585160382, -0.40210092562013366, -0.38322323025204036, -0.36606742427553285, -0.35073510491737875, -0.3371790856741338, -0.3252509750630871, -0.31474794463399847, -0.3054512873346728, -0.29715318204569163, -0.28967170903123013, -0.282856457050388, -0.2765878782441155, -0.2707732996561774, -0.26534174221548645, -0.260238861116446, -0.25542264213200727, -0.2508600385623727, -0.24652448856451195, -0.24239415143740703, -0.23845068382593, -0.23467839866903817, -0.23106368451358072, -0.22759459710957064, -0.22426056352742094, -0.22105216010626486, -0.21796094001299424, -0.2149792954717336, -0.21210034534014205, -0.20931784197912728, -0.20662609325639733, -0.2040198966640854, -0.2014944832676944, -0.1990454697161966, -0.1966688169178409, -0.19436079426795913, -0.19211794853096384, -0.18993707664703155, -0.18781520186702086, -0.1857495527252602, -0.18373754444468798, -0.1817767624368487, -0.1798649476140284, -0.17799998327528976, -0.17617988336460869, -0.17440278192942243, -0.1726669236329145, -0.17097065519422475, -0.16931241764825966, -0.16769073933147177, -0.16610422951240686, -0.16455157259636416, -0.16303152284250397, -0.16154289953942805, -0.1600845825918561, -0.15865550847670126, -0.15725466653175166, -0.15588109554441382, -0.15453388061166892, -0.15321215024560048, -0.15191507370166754, -0.15064185850935372, -0.14939174818697698, -0.14816402012434765, -0.14695798361863333, -0.14577297805026757, -0.14460837118705053, -0.1434635576057456, -0.14233795722151585, -0.1412310139164557, -0.1401421942592976, -0.13907098630910417, -0.13801689849641158, -0.1369794585758797, -0.13595821264502989, -0.1349527242241275], \"yaxis\": \"y2\"}, {\"line\": {\"color\": \"rgb(0, 0, 255)\", \"dash\": \"dash\", \"width\": 2}, \"mode\": \"lines\", \"name\": \"validate - ay\", \"type\": \"scatter\", \"x\": [0.0, 0.1, 0.2, 0.3, 0.4, 0.5, 0.6, 0.7, 0.8, 0.9, 1.0, 1.1, 1.2, 1.3, 1.4, 1.5, 1.6, 1.7, 1.8, 1.9, 2.0, 2.1, 2.2, 2.3, 2.4, 2.5, 2.6, 2.7, 2.8, 2.9, 3.0, 3.1, 3.2, 3.3, 3.4, 3.5, 3.6, 3.7, 3.8, 3.9, 4.0, 4.1, 4.2, 4.3, 4.4, 4.5, 4.6, 4.7, 4.8, 4.9, 5.0, 5.1, 5.2, 5.3, 5.4, 5.5, 5.6, 5.7, 5.8, 5.9, 6.0, 6.1, 6.2, 6.3, 6.4, 6.5, 6.6, 6.7, 6.8, 6.9, 7.0, 7.1, 7.2, 7.3, 7.4, 7.5, 7.6, 7.7, 7.8, 7.9, 8.0, 8.1, 8.2, 8.3, 8.4, 8.5, 8.6, 8.7, 8.8, 8.9, 9.0, 9.1, 9.2, 9.3, 9.4, 9.5, 9.6, 9.7, 9.8, 9.9, 10.0, 10.1, 10.2, 10.3, 10.4, 10.5, 10.6, 10.7, 10.8, 10.9], \"xaxis\": \"x2\", \"y\": [0.0, 0.0, 0.0, 0.0, 0.0, 0.0, 0.0, 0.0, 0.0, 0.0, 0.0, -0.098352, -0.163871, -0.240041, -0.311896, -0.381689, -0.44814, -0.505176, -0.556628, -0.605131, -0.635441, -0.626268, -0.612977, -0.601103, -0.584816, -0.57125, -0.558899, -0.54743, -0.536521, -0.525966, -0.515717, -0.50582, -0.496328, -0.487276, -0.47867, -0.470485, -0.462691, -0.455257, -0.448147, -0.441336, -0.434803, -0.428526, -0.422488, -0.416675, -0.411074, -0.40567, -0.400454, -0.395414, -0.39054, -0.385824, -0.381257, -0.37683, -0.372538, -0.368373, -0.364329, -0.360401, -0.356582, -0.352868, -0.349254, -0.345736, -0.34231, -0.338972, -0.335717, -0.332543, -0.329447, -0.326424, -0.323473, -0.320591, -0.317775, -0.315022, -0.312331, -0.309699, -0.307123, -0.304603, -0.302135, -0.299719, -0.297353, -0.295034, -0.292761, -0.290533, -0.288349, -0.286206, -0.284105, -0.282042, -0.280018, -0.278031, -0.27608, -0.274164, -0.272282, -0.270433, -0.268616, -0.26683, -0.265074, -0.263348, -0.26165, -0.259981, -0.258338, -0.256722, -0.255131, -0.253566, -0.252025, -0.250508, -0.24901399999999999, -0.247543, -0.246094, -0.244666, -0.24326, -0.241874, -0.240508, -0.239162], \"yaxis\": \"y2\"}],\n",
       "                        {\"autosize\": false, \"font\": {\"color\": \"black\", \"family\": \"Arial\", \"size\": 14}, \"height\": 900, \"legend\": {\"orientation\": \"h\", \"x\": 0.01, \"xanchor\": \"left\", \"y\": 1.1, \"yanchor\": \"top\"}, \"template\": {\"data\": {\"bar\": [{\"error_x\": {\"color\": \"#2a3f5f\"}, \"error_y\": {\"color\": \"#2a3f5f\"}, \"marker\": {\"line\": {\"color\": \"white\", \"width\": 0.5}}, \"type\": \"bar\"}], \"barpolar\": [{\"marker\": {\"line\": {\"color\": \"white\", \"width\": 0.5}}, \"type\": \"barpolar\"}], \"carpet\": [{\"aaxis\": {\"endlinecolor\": \"#2a3f5f\", \"gridcolor\": \"#C8D4E3\", \"linecolor\": \"#C8D4E3\", \"minorgridcolor\": \"#C8D4E3\", \"startlinecolor\": \"#2a3f5f\"}, \"baxis\": {\"endlinecolor\": \"#2a3f5f\", \"gridcolor\": \"#C8D4E3\", \"linecolor\": \"#C8D4E3\", \"minorgridcolor\": \"#C8D4E3\", \"startlinecolor\": \"#2a3f5f\"}, \"type\": \"carpet\"}], \"choropleth\": [{\"colorbar\": {\"outlinewidth\": 0, \"ticks\": \"\"}, \"type\": \"choropleth\"}], \"contour\": [{\"colorbar\": {\"outlinewidth\": 0, \"ticks\": \"\"}, \"colorscale\": [[0.0, \"#0d0887\"], [0.1111111111111111, \"#46039f\"], [0.2222222222222222, \"#7201a8\"], [0.3333333333333333, \"#9c179e\"], [0.4444444444444444, \"#bd3786\"], [0.5555555555555556, \"#d8576b\"], [0.6666666666666666, \"#ed7953\"], [0.7777777777777778, \"#fb9f3a\"], [0.8888888888888888, \"#fdca26\"], [1.0, \"#f0f921\"]], \"type\": \"contour\"}], \"contourcarpet\": [{\"colorbar\": {\"outlinewidth\": 0, \"ticks\": \"\"}, \"type\": \"contourcarpet\"}], \"heatmap\": [{\"colorbar\": {\"outlinewidth\": 0, \"ticks\": \"\"}, \"colorscale\": [[0.0, \"#0d0887\"], [0.1111111111111111, \"#46039f\"], [0.2222222222222222, \"#7201a8\"], [0.3333333333333333, \"#9c179e\"], [0.4444444444444444, \"#bd3786\"], [0.5555555555555556, \"#d8576b\"], [0.6666666666666666, \"#ed7953\"], [0.7777777777777778, \"#fb9f3a\"], [0.8888888888888888, \"#fdca26\"], [1.0, \"#f0f921\"]], \"type\": \"heatmap\"}], \"heatmapgl\": [{\"colorbar\": {\"outlinewidth\": 0, \"ticks\": \"\"}, \"colorscale\": [[0.0, \"#0d0887\"], [0.1111111111111111, \"#46039f\"], [0.2222222222222222, \"#7201a8\"], [0.3333333333333333, \"#9c179e\"], [0.4444444444444444, \"#bd3786\"], [0.5555555555555556, \"#d8576b\"], [0.6666666666666666, \"#ed7953\"], [0.7777777777777778, \"#fb9f3a\"], [0.8888888888888888, \"#fdca26\"], [1.0, \"#f0f921\"]], \"type\": \"heatmapgl\"}], \"histogram\": [{\"marker\": {\"colorbar\": {\"outlinewidth\": 0, \"ticks\": \"\"}}, \"type\": \"histogram\"}], \"histogram2d\": [{\"colorbar\": {\"outlinewidth\": 0, \"ticks\": \"\"}, \"colorscale\": [[0.0, \"#0d0887\"], [0.1111111111111111, \"#46039f\"], [0.2222222222222222, \"#7201a8\"], [0.3333333333333333, \"#9c179e\"], [0.4444444444444444, \"#bd3786\"], [0.5555555555555556, \"#d8576b\"], [0.6666666666666666, \"#ed7953\"], [0.7777777777777778, \"#fb9f3a\"], [0.8888888888888888, \"#fdca26\"], [1.0, \"#f0f921\"]], \"type\": \"histogram2d\"}], \"histogram2dcontour\": [{\"colorbar\": {\"outlinewidth\": 0, \"ticks\": \"\"}, \"colorscale\": [[0.0, \"#0d0887\"], [0.1111111111111111, \"#46039f\"], [0.2222222222222222, \"#7201a8\"], [0.3333333333333333, \"#9c179e\"], [0.4444444444444444, \"#bd3786\"], [0.5555555555555556, \"#d8576b\"], [0.6666666666666666, \"#ed7953\"], [0.7777777777777778, \"#fb9f3a\"], [0.8888888888888888, \"#fdca26\"], [1.0, \"#f0f921\"]], \"type\": \"histogram2dcontour\"}], \"mesh3d\": [{\"colorbar\": {\"outlinewidth\": 0, \"ticks\": \"\"}, \"type\": \"mesh3d\"}], \"parcoords\": [{\"line\": {\"colorbar\": {\"outlinewidth\": 0, \"ticks\": \"\"}}, \"type\": \"parcoords\"}], \"pie\": [{\"automargin\": true, \"type\": \"pie\"}], \"scatter\": [{\"marker\": {\"colorbar\": {\"outlinewidth\": 0, \"ticks\": \"\"}}, \"type\": \"scatter\"}], \"scatter3d\": [{\"line\": {\"colorbar\": {\"outlinewidth\": 0, \"ticks\": \"\"}}, \"marker\": {\"colorbar\": {\"outlinewidth\": 0, \"ticks\": \"\"}}, \"type\": \"scatter3d\"}], \"scattercarpet\": [{\"marker\": {\"colorbar\": {\"outlinewidth\": 0, \"ticks\": \"\"}}, \"type\": \"scattercarpet\"}], \"scattergeo\": [{\"marker\": {\"colorbar\": {\"outlinewidth\": 0, \"ticks\": \"\"}}, \"type\": \"scattergeo\"}], \"scattergl\": [{\"marker\": {\"colorbar\": {\"outlinewidth\": 0, \"ticks\": \"\"}}, \"type\": \"scattergl\"}], \"scattermapbox\": [{\"marker\": {\"colorbar\": {\"outlinewidth\": 0, \"ticks\": \"\"}}, \"type\": \"scattermapbox\"}], \"scatterpolar\": [{\"marker\": {\"colorbar\": {\"outlinewidth\": 0, \"ticks\": \"\"}}, \"type\": \"scatterpolar\"}], \"scatterpolargl\": [{\"marker\": {\"colorbar\": {\"outlinewidth\": 0, \"ticks\": \"\"}}, \"type\": \"scatterpolargl\"}], \"scatterternary\": [{\"marker\": {\"colorbar\": {\"outlinewidth\": 0, \"ticks\": \"\"}}, \"type\": \"scatterternary\"}], \"surface\": [{\"colorbar\": {\"outlinewidth\": 0, \"ticks\": \"\"}, \"colorscale\": [[0.0, \"#0d0887\"], [0.1111111111111111, \"#46039f\"], [0.2222222222222222, \"#7201a8\"], [0.3333333333333333, \"#9c179e\"], [0.4444444444444444, \"#bd3786\"], [0.5555555555555556, \"#d8576b\"], [0.6666666666666666, \"#ed7953\"], [0.7777777777777778, \"#fb9f3a\"], [0.8888888888888888, \"#fdca26\"], [1.0, \"#f0f921\"]], \"type\": \"surface\"}], \"table\": [{\"cells\": {\"fill\": {\"color\": \"#EBF0F8\"}, \"line\": {\"color\": \"white\"}}, \"header\": {\"fill\": {\"color\": \"#C8D4E3\"}, \"line\": {\"color\": \"white\"}}, \"type\": \"table\"}]}, \"layout\": {\"annotationdefaults\": {\"arrowcolor\": \"#2a3f5f\", \"arrowhead\": 0, \"arrowwidth\": 1}, \"coloraxis\": {\"colorbar\": {\"outlinewidth\": 0, \"ticks\": \"\"}}, \"colorscale\": {\"diverging\": [[0, \"#8e0152\"], [0.1, \"#c51b7d\"], [0.2, \"#de77ae\"], [0.3, \"#f1b6da\"], [0.4, \"#fde0ef\"], [0.5, \"#f7f7f7\"], [0.6, \"#e6f5d0\"], [0.7, \"#b8e186\"], [0.8, \"#7fbc41\"], [0.9, \"#4d9221\"], [1, \"#276419\"]], \"sequential\": [[0.0, \"#0d0887\"], [0.1111111111111111, \"#46039f\"], [0.2222222222222222, \"#7201a8\"], [0.3333333333333333, \"#9c179e\"], [0.4444444444444444, \"#bd3786\"], [0.5555555555555556, \"#d8576b\"], [0.6666666666666666, \"#ed7953\"], [0.7777777777777778, \"#fb9f3a\"], [0.8888888888888888, \"#fdca26\"], [1.0, \"#f0f921\"]], \"sequentialminus\": [[0.0, \"#0d0887\"], [0.1111111111111111, \"#46039f\"], [0.2222222222222222, \"#7201a8\"], [0.3333333333333333, \"#9c179e\"], [0.4444444444444444, \"#bd3786\"], [0.5555555555555556, \"#d8576b\"], [0.6666666666666666, \"#ed7953\"], [0.7777777777777778, \"#fb9f3a\"], [0.8888888888888888, \"#fdca26\"], [1.0, \"#f0f921\"]]}, \"colorway\": [\"#636efa\", \"#EF553B\", \"#00cc96\", \"#ab63fa\", \"#FFA15A\", \"#19d3f3\", \"#FF6692\", \"#B6E880\", \"#FF97FF\", \"#FECB52\"], \"font\": {\"color\": \"#2a3f5f\"}, \"geo\": {\"bgcolor\": \"white\", \"lakecolor\": \"white\", \"landcolor\": \"white\", \"showlakes\": true, \"showland\": true, \"subunitcolor\": \"#C8D4E3\"}, \"hoverlabel\": {\"align\": \"left\"}, \"hovermode\": \"closest\", \"mapbox\": {\"style\": \"light\"}, \"paper_bgcolor\": \"white\", \"plot_bgcolor\": \"white\", \"polar\": {\"angularaxis\": {\"gridcolor\": \"#EBF0F8\", \"linecolor\": \"#EBF0F8\", \"ticks\": \"\"}, \"bgcolor\": \"white\", \"radialaxis\": {\"gridcolor\": \"#EBF0F8\", \"linecolor\": \"#EBF0F8\", \"ticks\": \"\"}}, \"scene\": {\"xaxis\": {\"backgroundcolor\": \"white\", \"gridcolor\": \"#DFE8F3\", \"gridwidth\": 2, \"linecolor\": \"#EBF0F8\", \"showbackground\": true, \"ticks\": \"\", \"zerolinecolor\": \"#EBF0F8\"}, \"yaxis\": {\"backgroundcolor\": \"white\", \"gridcolor\": \"#DFE8F3\", \"gridwidth\": 2, \"linecolor\": \"#EBF0F8\", \"showbackground\": true, \"ticks\": \"\", \"zerolinecolor\": \"#EBF0F8\"}, \"zaxis\": {\"backgroundcolor\": \"white\", \"gridcolor\": \"#DFE8F3\", \"gridwidth\": 2, \"linecolor\": \"#EBF0F8\", \"showbackground\": true, \"ticks\": \"\", \"zerolinecolor\": \"#EBF0F8\"}}, \"shapedefaults\": {\"line\": {\"color\": \"#2a3f5f\"}}, \"ternary\": {\"aaxis\": {\"gridcolor\": \"#DFE8F3\", \"linecolor\": \"#A2B1C6\", \"ticks\": \"\"}, \"baxis\": {\"gridcolor\": \"#DFE8F3\", \"linecolor\": \"#A2B1C6\", \"ticks\": \"\"}, \"bgcolor\": \"white\", \"caxis\": {\"gridcolor\": \"#DFE8F3\", \"linecolor\": \"#A2B1C6\", \"ticks\": \"\"}}, \"title\": {\"x\": 0.05}, \"xaxis\": {\"automargin\": true, \"gridcolor\": \"#EBF0F8\", \"linecolor\": \"#EBF0F8\", \"ticks\": \"\", \"title\": {\"standoff\": 15}, \"zerolinecolor\": \"#EBF0F8\", \"zerolinewidth\": 2}, \"yaxis\": {\"automargin\": true, \"gridcolor\": \"#EBF0F8\", \"linecolor\": \"#EBF0F8\", \"ticks\": \"\", \"title\": {\"standoff\": 15}, \"zerolinecolor\": \"#EBF0F8\", \"zerolinewidth\": 2}}}, \"title\": {\"text\": \"Acceleration\"}, \"width\": 900, \"xaxis\": {\"anchor\": \"y\", \"domain\": [0.0, 1.0], \"linecolor\": \"black\", \"linewidth\": 1, \"matches\": \"x2\", \"showgrid\": false, \"showline\": true, \"showticklabels\": false, \"tickcolor\": \"black\", \"ticklen\": 10, \"ticks\": \"outside\", \"tickwidth\": 1, \"title\": {\"text\": \"\"}, \"zeroline\": false}, \"xaxis2\": {\"anchor\": \"y2\", \"domain\": [0.0, 1.0], \"linecolor\": \"black\", \"linewidth\": 1, \"showgrid\": false, \"showline\": true, \"tickcolor\": \"black\", \"ticklen\": 10, \"ticks\": \"outside\", \"tickwidth\": 1, \"title\": {\"text\": \"Time (s)\"}, \"zeroline\": false}, \"yaxis\": {\"anchor\": \"x\", \"domain\": [0.5349999999999999, 0.9999999999999999], \"linecolor\": \"black\", \"linewidth\": 1, \"showgrid\": false, \"showline\": true, \"tickcolor\": \"black\", \"ticklen\": 10, \"ticks\": \"outside\", \"tickwidth\": 1, \"title\": {\"text\": \"Forward Accel (g)\"}, \"zeroline\": false}, \"yaxis2\": {\"anchor\": \"x2\", \"domain\": [0.0, 0.46499999999999997], \"linecolor\": \"black\", \"linewidth\": 1, \"showgrid\": false, \"showline\": true, \"tickcolor\": \"black\", \"ticklen\": 10, \"ticks\": \"outside\", \"tickwidth\": 1, \"title\": {\"text\": \"Rightward Accel (g)\"}, \"zeroline\": false}},\n",
       "                        {\"responsive\": true}\n",
       "                    ).then(function(){\n",
       "                            \n",
       "var gd = document.getElementById('3bf6fc14-a385-48c2-b21c-fdb0eb6806be');\n",
       "var x = new MutationObserver(function (mutations, observer) {{\n",
       "        var display = window.getComputedStyle(gd).display;\n",
       "        if (!display || display === 'none') {{\n",
       "            console.log([gd, 'removed!']);\n",
       "            Plotly.purge(gd);\n",
       "            observer.disconnect();\n",
       "        }}\n",
       "}});\n",
       "\n",
       "// Listen for the removal of the full notebook cells\n",
       "var notebookContainer = gd.closest('#notebook-container');\n",
       "if (notebookContainer) {{\n",
       "    x.observe(notebookContainer, {childList: true});\n",
       "}}\n",
       "\n",
       "// Listen for the clearing of the current output cell\n",
       "var outputEl = gd.closest('.output');\n",
       "if (outputEl) {{\n",
       "    x.observe(outputEl, {childList: true});\n",
       "}}\n",
       "\n",
       "                        })\n",
       "                };\n",
       "                });\n",
       "            </script>\n",
       "        </div>"
      ]
     },
     "metadata": {},
     "output_type": "display_data"
    }
   ],
   "source": [
    "compare_kinematics(run.veh.model, df, 'pycrash', 'validate')"
   ]
  },
  {
   "cell_type": "code",
   "execution_count": 130,
   "metadata": {},
   "outputs": [],
   "source": [
    "from pycrash.visualization.tire_details import tire_details, vertical_forces"
   ]
  },
  {
   "cell_type": "code",
   "execution_count": 135,
   "metadata": {},
   "outputs": [
    {
     "data": {
      "application/vnd.plotly.v1+json": {
       "config": {
        "plotlyServerURL": "https://plot.ly"
       },
       "data": [
        {
         "line": {
          "color": "rgb(0, 0, 255)",
          "dash": "solid",
          "width": 1
         },
         "mode": "lines",
         "name": "LF",
         "type": "scatter",
         "x": [
          0,
          0.1,
          0.2,
          0.3,
          0.4,
          0.5,
          0.6,
          0.7,
          0.8,
          0.9,
          1,
          1.1,
          1.2,
          1.3,
          1.4,
          1.5,
          1.6,
          1.7,
          1.8,
          1.9,
          2,
          2.1,
          2.2,
          2.3,
          2.4,
          2.5,
          2.6,
          2.7,
          2.8,
          2.9,
          3,
          3.1,
          3.2,
          3.3,
          3.4,
          3.5,
          3.6,
          3.7,
          3.8,
          3.9,
          4,
          4.1,
          4.2,
          4.3,
          4.4,
          4.5,
          4.6,
          4.7,
          4.8,
          4.9,
          5,
          5.1,
          5.2,
          5.3,
          5.4,
          5.5,
          5.6,
          5.7,
          5.8,
          5.9,
          6,
          6.1,
          6.2,
          6.3,
          6.4,
          6.5,
          6.6,
          6.7,
          6.8,
          6.9,
          7,
          7.1,
          7.2,
          7.3,
          7.4,
          7.5,
          7.6,
          7.7,
          7.8,
          7.9,
          8,
          8.1,
          8.2,
          8.3,
          8.4,
          8.5,
          8.6,
          8.7,
          8.8,
          8.9,
          9,
          9.1,
          9.2,
          9.3,
          9.4,
          9.5,
          9.6,
          9.7,
          9.8,
          9.9,
          10,
          10.1,
          10.2,
          10.3,
          10.4,
          10.5,
          10.6,
          10.7,
          10.8,
          10.9
         ],
         "xaxis": "x",
         "y": [
          0,
          0,
          0,
          0,
          0,
          0,
          0,
          0,
          0,
          0,
          0,
          -2.037739056603774,
          -3.930493405356109,
          -5.143861057920929,
          -5.939060380742237,
          -6.650051646530648,
          -7.461469293040788,
          -8.419149521427626,
          -9.495615931665535,
          -10.639082419019905,
          -11.796219408436015,
          -10.880017071881081,
          -10.055587428339901,
          -9.915267363196316,
          -10.233931767070706,
          -10.645986138519099,
          -10.910911804390569,
          -10.942130428566301,
          -10.751761750879009,
          -10.39357462554928,
          -9.927738207063733,
          -9.405325980584161,
          -8.864566617300056,
          -8.332190161957566,
          -7.826001951282902,
          -7.357074298842802,
          -6.931273579208599,
          -6.550369571848725,
          -6.213009344557018,
          -5.915680621201815,
          -5.653639442338391,
          -5.421712291800118,
          -5.214896340747316,
          -5.028731862451281,
          -4.859470540250023,
          -4.704092874094952,
          -4.560234632342328,
          -4.426073135096742,
          -4.300208174372837,
          -4.1815566321320965,
          -4.0692680199717985,
          -3.962661020085243,
          -3.861177784984551,
          -3.764351865266856,
          -3.671785969897562,
          -3.5831365336432404,
          -3.4981028677146853,
          -3.416419345722205,
          -3.3378495931162893,
          -3.26218201692959,
          -3.1892262605752038,
          -3.1188103252533925,
          -3.050778193180449,
          -2.984987841872947,
          -2.921309570228861,
          -2.8596245768286397,
          -2.7998237443890983,
          -2.741806594228717,
          -2.685480382089605,
          -2.6307593123427027,
          -2.5775638519527115,
          -2.5258201289717084,
          -2.4754594030285957,
          -2.4264175974525735,
          -2.378634884420432,
          -2.3320553159298054,
          -2.2866264945430377,
          -2.242299278777371,
          -2.1990275187840505,
          -2.1567678185957684,
          -2.115479321753735,
          -2.0751235175710567,
          -2.035664065663549,
          -1.9970666366949954,
          -1.959298767551563,
          -1.9223297293882524,
          -1.8861304071852143,
          -1.8506731896189055,
          -1.8159318681972418,
          -1.781881544731697,
          -1.7484985463271139,
          -1.7157603471630118,
          -1.683645496421689,
          -1.6521335517891151,
          -1.6212050180167812,
          -1.5908412900871347,
          -1.5610246005729467,
          -1.5317379708233048,
          -1.5029651656460539,
          -1.474690651189465,
          -1.4468995557553117,
          -1.4195776333010988,
          -1.3927112294127988,
          -1.3662872495497274,
          -1.3402931293815488,
          -1.3147168070542183,
          -1.289546697235979,
          -1.26477166680816,
          -1.240381012077156,
          -1.2163644373948668
         ],
         "yaxis": "y"
        },
        {
         "line": {
          "color": "rgb(0, 255, 0)",
          "dash": "solid",
          "width": 1
         },
         "mode": "lines",
         "name": "RF",
         "type": "scatter",
         "x": [
          0,
          0.1,
          0.2,
          0.3,
          0.4,
          0.5,
          0.6,
          0.7,
          0.8,
          0.9,
          1,
          1.1,
          1.2,
          1.3,
          1.4,
          1.5,
          1.6,
          1.7,
          1.8,
          1.9,
          2,
          2.1,
          2.2,
          2.3,
          2.4,
          2.5,
          2.6,
          2.7,
          2.8,
          2.9,
          3,
          3.1,
          3.2,
          3.3,
          3.4,
          3.5,
          3.6,
          3.7,
          3.8,
          3.9,
          4,
          4.1,
          4.2,
          4.3,
          4.4,
          4.5,
          4.6,
          4.7,
          4.8,
          4.9,
          5,
          5.1,
          5.2,
          5.3,
          5.4,
          5.5,
          5.6,
          5.7,
          5.8,
          5.9,
          6,
          6.1,
          6.2,
          6.3,
          6.4,
          6.5,
          6.6,
          6.7,
          6.8,
          6.9,
          7,
          7.1,
          7.2,
          7.3,
          7.4,
          7.5,
          7.6,
          7.7,
          7.8,
          7.9,
          8,
          8.1,
          8.2,
          8.3,
          8.4,
          8.5,
          8.6,
          8.7,
          8.8,
          8.9,
          9,
          9.1,
          9.2,
          9.3,
          9.4,
          9.5,
          9.6,
          9.7,
          9.8,
          9.9,
          10,
          10.1,
          10.2,
          10.3,
          10.4,
          10.5,
          10.6,
          10.7,
          10.8,
          10.9
         ],
         "xaxis": "x",
         "y": [
          0,
          0,
          0,
          0,
          0,
          0,
          0,
          0,
          0,
          0,
          0,
          -2.037739056603774,
          -3.931763045114277,
          -5.162895695398677,
          -6.021048739620974,
          -6.855092544446952,
          -7.845922842712461,
          -9.029225439913505,
          -10.370136608756226,
          -11.81486047176121,
          -13.312946801729678,
          -12.784312907851177,
          -12.303269706569846,
          -12.340501258438643,
          -12.697299001484671,
          -13.091623535694625,
          -13.346977893627969,
          -13.404449587196417,
          -13.27788534515026,
          -13.010679388828077,
          -12.649902284894694,
          -12.235455891130018,
          -11.797842377637496,
          -11.35938947750458,
          -10.936067306962148,
          -10.53883221835844,
          -10.174441792567759,
          -9.846041073847328,
          -9.553785775004066,
          -9.295592720045848,
          -9.067957152076895,
          -8.866715545489232,
          -8.687651052955765,
          -8.526895040907013,
          -8.381133853567201,
          -8.247664706604128,
          -8.124355517148018,
          -8.009557364586588,
          -7.902004338150521,
          -7.800720943495579,
          -7.7049458431448326,
          -7.614073501933578,
          -7.52761166917476,
          -7.445151365590799,
          -7.366346063123817,
          -7.29089730059883,
          -7.218544653321814,
          -7.149058584250828,
          -7.082235187159461,
          -7.0178921838680735,
          -6.955865776481633,
          -6.89600810752694,
          -6.838185172101543,
          -6.782275078913116,
          -6.728166587720541,
          -6.675757869480992,
          -6.624955448062446,
          -6.575673291389128,
          -6.527832026593721,
          -6.481358258821519,
          -6.436183977218241,
          -6.392246034665311,
          -6.349485690233352,
          -6.307848205254397,
          -6.267282485464703,
          -6.227740762918291,
          -6.18917831237903,
          -6.151553197719453,
          -6.114826044528904,
          -6.0789598356924435,
          -6.043919727168034,
          -6.009672881579003,
          -5.9761883175661845,
          -5.943436773119539,
          -5.911390581342835,
          -5.880023557303349,
          -5.849310894788428,
          -5.819229071935931,
          -5.789755764830727,
          -5.760869768267022,
          -5.732550922969539,
          -5.704780048647474,
          -5.677538882325391,
          -5.650810021456701,
          -5.624576871378961,
          -5.598823596717283,
          -5.573535076383545,
          -5.548696861855382,
          -5.5242951384512295,
          -5.500316689345986,
          -5.476748862097122,
          -5.4535795374734075,
          -5.430797100398357,
          -5.408390412838201,
          -5.386348788480066,
          -5.364661969060194,
          -5.343320102214662,
          -5.3223137207366396,
          -5.3016337231341994,
          -5.281271355392101
         ],
         "yaxis": "y"
        },
        {
         "line": {
          "color": "rgb(153, 0, 204)",
          "dash": "solid",
          "width": 1
         },
         "mode": "lines",
         "name": "RR",
         "type": "scatter",
         "x": [
          0,
          0.1,
          0.2,
          0.3,
          0.4,
          0.5,
          0.6,
          0.7,
          0.8,
          0.9,
          1,
          1.1,
          1.2,
          1.3,
          1.4,
          1.5,
          1.6,
          1.7,
          1.8,
          1.9,
          2,
          2.1,
          2.2,
          2.3,
          2.4,
          2.5,
          2.6,
          2.7,
          2.8,
          2.9,
          3,
          3.1,
          3.2,
          3.3,
          3.4,
          3.5,
          3.6,
          3.7,
          3.8,
          3.9,
          4,
          4.1,
          4.2,
          4.3,
          4.4,
          4.5,
          4.6,
          4.7,
          4.8,
          4.9,
          5,
          5.1,
          5.2,
          5.3,
          5.4,
          5.5,
          5.6,
          5.7,
          5.8,
          5.9,
          6,
          6.1,
          6.2,
          6.3,
          6.4,
          6.5,
          6.6,
          6.7,
          6.8,
          6.9,
          7,
          7.1,
          7.2,
          7.3,
          7.4,
          7.5,
          7.6,
          7.7,
          7.8,
          7.9,
          8,
          8.1,
          8.2,
          8.3,
          8.4,
          8.5,
          8.6,
          8.7,
          8.8,
          8.9,
          9,
          9.1,
          9.2,
          9.3,
          9.4,
          9.5,
          9.6,
          9.7,
          9.8,
          9.9,
          10,
          10.1,
          10.2,
          10.3,
          10.4,
          10.5,
          10.6,
          10.7,
          10.8,
          10.9
         ],
         "xaxis": "x",
         "y": [
          0,
          0,
          0,
          0,
          0,
          0,
          0,
          0,
          0,
          0,
          0,
          0,
          0.02408869895990755,
          0.048107049068495354,
          -0.06379980370707575,
          -0.44046707420615777,
          -1.1116953799509963,
          -2.0288608315821945,
          -3.1153094537511983,
          -4.299778081183408,
          -5.528024902308769,
          -6.761584961748022,
          -8.01460910956902,
          -9.267069634425953,
          -10.39609935805158,
          -11.28683588542557,
          -11.892660961488405,
          -12.221097810610676,
          -12.30584944031107,
          -12.188611212517225,
          -11.911217950622992,
          -11.513506988004863,
          -11.033073116563198,
          -10.50488484960048,
          -9.960201878096761,
          -9.42510446355817,
          -8.919250483100697,
          -8.45536437163911,
          -8.03963804659476,
          -7.672891358897707,
          -7.352139357530413,
          -7.072185798963803,
          -6.826961961570979,
          -6.610477386043878,
          -6.417378196442683,
          -6.243187403819748,
          -6.084329473273546,
          -5.938034246938323,
          -5.80219157772849,
          -5.675201557946279,
          -5.5558434074512215,
          -5.44317122129225,
          -5.336436259521982,
          -5.235031564575343,
          -5.138453634494984,
          -5.046276287496655,
          -4.958132832722798,
          -4.873703717240635,
          -4.792707722174976,
          -4.714895461209851,
          -4.640044403379419,
          -4.567954942841329,
          -4.4984472208172335,
          -4.431358511528499,
          -4.3665410456204405,
          -4.303860181108519,
          -4.243192854803215,
          -4.184426262611134,
          -4.127456728180133,
          -4.07218872764192,
          -4.018534044571613,
          -3.9664110342512084,
          -3.9157439802337968,
          -3.8664625292987753,
          -3.818501193343808,
          -3.771798908717835,
          -3.7262986450714313,
          -3.681947057073467,
          -3.6386941733817677,
          -3.5964931181096635,
          -3.555299860736825,
          -3.5150729909998777,
          -3.4757735157885654,
          -3.437364675484289,
          -3.3998117775243,
          -3.3630820452680665,
          -3.3271444804913552,
          -3.2919697380461392,
          -3.257530011406102,
          -3.2237989279737502,
          -3.1907514531595034,
          -3.1583638023593794,
          -3.126613360058633,
          -3.095478605376101,
          -3.0649390434404045,
          -3.03497514205573,
          -3.005568273173223,
          -2.9767006587353206,
          -2.9483553205053643,
          -2.920516033534618,
          -2.893167282953941,
          -2.8662942238083837,
          -2.8398826436806996,
          -2.813918927874166,
          -2.7883900269470323,
          -2.7632834264103314,
          -2.738587118418293,
          -2.714289575296057,
          -2.6903797247634795,
          -2.666846926726313
         ],
         "yaxis": "y"
        },
        {
         "line": {
          "color": "rgb(255, 102, 0)",
          "dash": "solid",
          "width": 1
         },
         "mode": "lines",
         "name": "LR",
         "type": "scatter",
         "x": [
          0,
          0.1,
          0.2,
          0.3,
          0.4,
          0.5,
          0.6,
          0.7,
          0.8,
          0.9,
          1,
          1.1,
          1.2,
          1.3,
          1.4,
          1.5,
          1.6,
          1.7,
          1.8,
          1.9,
          2,
          2.1,
          2.2,
          2.3,
          2.4,
          2.5,
          2.6,
          2.7,
          2.8,
          2.9,
          3,
          3.1,
          3.2,
          3.3,
          3.4,
          3.5,
          3.6,
          3.7,
          3.8,
          3.9,
          4,
          4.1,
          4.2,
          4.3,
          4.4,
          4.5,
          4.6,
          4.7,
          4.8,
          4.9,
          5,
          5.1,
          5.2,
          5.3,
          5.4,
          5.5,
          5.6,
          5.7,
          5.8,
          5.9,
          6,
          6.1,
          6.2,
          6.3,
          6.4,
          6.5,
          6.6,
          6.7,
          6.8,
          6.9,
          7,
          7.1,
          7.2,
          7.3,
          7.4,
          7.5,
          7.6,
          7.7,
          7.8,
          7.9,
          8,
          8.1,
          8.2,
          8.3,
          8.4,
          8.5,
          8.6,
          8.7,
          8.8,
          8.9,
          9,
          9.1,
          9.2,
          9.3,
          9.4,
          9.5,
          9.6,
          9.7,
          9.8,
          9.9,
          10,
          10.1,
          10.2,
          10.3,
          10.4,
          10.5,
          10.6,
          10.7,
          10.8,
          10.9
         ],
         "xaxis": "x",
         "y": [
          0,
          0,
          0,
          0,
          0,
          0,
          0,
          0,
          0,
          0,
          0,
          0,
          0.024171332160180654,
          0.04875992001834482,
          -0.06566499780014919,
          -0.4618540561953424,
          -1.1897369191632232,
          -2.218314010255993,
          -3.481862333265758,
          -4.914000262414839,
          -6.461688193184416,
          -8.085927085720058,
          -9.777714606250814,
          -11.461360435789867,
          -12.964645321814677,
          -14.14724114866283,
          -14.960211618074949,
          -15.418492300941649,
          -15.56422006721962,
          -15.446846826543903,
          -15.116425604635044,
          -14.622512966264363,
          -14.013945700274578,
          -13.337601418309639,
          -12.636075748799891,
          -11.945072190574914,
          -11.291435412434385,
          -10.692434812659164,
          -10.156406381462256,
          -9.684432939801006,
          -9.272528098815219,
          -8.913801960745616,
          -8.600247746795553,
          -8.323992318202022,
          -8.07802062320611,
          -7.856481136950598,
          -7.654710451352009,
          -7.469102506326154,
          -7.296915477208534,
          -7.136074351439876,
          -6.984998774992385,
          -6.842466495327459,
          -6.707511747103662,
          -6.57935293505087,
          -6.457342649555433,
          -6.340933620320492,
          -6.229655515319256,
          -6.123098882950183,
          -6.020903720201423,
          -5.922751039977852,
          -5.828356422850395,
          -5.737464930825478,
          -5.649846998705585,
          -5.565295057736032,
          -5.483620726734737,
          -5.404652453614149,
          -5.328233520117863,
          -5.2542203427217675,
          -5.1824810170671975,
          -5.112894064080498,
          -5.045347344218989,
          -4.979737112745179,
          -4.915967194013316,
          -4.853948256769519,
          -4.793597175653052,
          -4.734836466626404,
          -4.677593786099483,
          -4.6218014851622975,
          -4.567396211685469,
          -4.514318554153492,
          -4.462512722009339,
          -4.411926258047889,
          -4.362509779029218,
          -4.314216741213429,
          -4.267003227966059,
          -4.220827756961242,
          -4.175651104831048,
          -4.131436147383276,
          -4.088147713744096,
          -4.045752452983052,
          -4.004218711950928,
          -3.9635164232105224,
          -3.9236170020699435,
          -3.88449325184038,
          -3.846119276538481,
          -3.8084704003389995,
          -3.7715230931582253,
          -3.735254901814576,
          -3.699644386270461,
          -3.6646710605105897,
          -3.630315337656917,
          -3.5965584789601817,
          -3.5633825463435325,
          -3.530770358204964,
          -3.4987054482134097,
          -3.4671720268581554,
          -3.436154945533645,
          -3.4056396629615664,
          -3.3756122137700872,
          -3.3460591790660974
         ],
         "yaxis": "y"
        },
        {
         "line": {
          "color": "rgb(0, 0, 255)",
          "dash": "solid",
          "width": 1
         },
         "mode": "lines",
         "name": "LF",
         "showlegend": false,
         "type": "scatter",
         "x": [
          0,
          0.1,
          0.2,
          0.3,
          0.4,
          0.5,
          0.6,
          0.7,
          0.8,
          0.9,
          1,
          1.1,
          1.2,
          1.3,
          1.4,
          1.5,
          1.6,
          1.7,
          1.8,
          1.9,
          2,
          2.1,
          2.2,
          2.3,
          2.4,
          2.5,
          2.6,
          2.7,
          2.8,
          2.9,
          3,
          3.1,
          3.2,
          3.3,
          3.4,
          3.5,
          3.6,
          3.7,
          3.8,
          3.9,
          4,
          4.1,
          4.2,
          4.3,
          4.4,
          4.5,
          4.6,
          4.7,
          4.8,
          4.9,
          5,
          5.1,
          5.2,
          5.3,
          5.4,
          5.5,
          5.6,
          5.7,
          5.8,
          5.9,
          6,
          6.1,
          6.2,
          6.3,
          6.4,
          6.5,
          6.6,
          6.7,
          6.8,
          6.9,
          7,
          7.1,
          7.2,
          7.3,
          7.4,
          7.5,
          7.6,
          7.7,
          7.8,
          7.9,
          8,
          8.1,
          8.2,
          8.3,
          8.4,
          8.5,
          8.6,
          8.7,
          8.8,
          8.9,
          9,
          9.1,
          9.2,
          9.3,
          9.4,
          9.5,
          9.6,
          9.7,
          9.8,
          9.9,
          10,
          10.1,
          10.2,
          10.3,
          10.4,
          10.5,
          10.6,
          10.7,
          10.8,
          10.9
         ],
         "xaxis": "x2",
         "y": [
          0,
          0,
          0,
          0,
          0,
          0,
          0,
          0,
          0,
          0,
          0,
          0,
          0,
          0,
          0,
          0,
          0,
          0,
          0,
          0,
          0,
          0,
          0,
          0,
          0,
          0,
          0,
          0,
          0,
          0,
          0,
          0,
          0,
          0,
          0,
          0,
          0,
          0,
          0,
          0,
          0,
          0,
          0,
          0,
          0,
          0,
          0,
          0,
          0,
          0,
          0,
          0,
          0,
          0,
          0,
          0,
          0,
          0,
          0,
          0,
          0,
          0,
          0,
          0,
          0,
          0,
          0,
          0,
          0,
          0,
          0,
          0,
          0,
          0,
          0,
          0,
          0,
          0,
          0,
          0,
          0,
          0,
          0,
          0,
          0,
          0,
          0,
          0,
          0,
          0,
          0,
          0,
          0,
          0,
          0,
          0,
          0,
          0,
          0,
          0,
          0,
          0,
          0,
          0,
          0,
          0,
          0,
          0,
          0,
          0
         ],
         "yaxis": "y2"
        },
        {
         "line": {
          "color": "rgb(0, 255, 0)",
          "dash": "solid",
          "width": 1
         },
         "mode": "lines",
         "name": "RF",
         "showlegend": false,
         "type": "scatter",
         "x": [
          0,
          0.1,
          0.2,
          0.3,
          0.4,
          0.5,
          0.6,
          0.7,
          0.8,
          0.9,
          1,
          1.1,
          1.2,
          1.3,
          1.4,
          1.5,
          1.6,
          1.7,
          1.8,
          1.9,
          2,
          2.1,
          2.2,
          2.3,
          2.4,
          2.5,
          2.6,
          2.7,
          2.8,
          2.9,
          3,
          3.1,
          3.2,
          3.3,
          3.4,
          3.5,
          3.6,
          3.7,
          3.8,
          3.9,
          4,
          4.1,
          4.2,
          4.3,
          4.4,
          4.5,
          4.6,
          4.7,
          4.8,
          4.9,
          5,
          5.1,
          5.2,
          5.3,
          5.4,
          5.5,
          5.6,
          5.7,
          5.8,
          5.9,
          6,
          6.1,
          6.2,
          6.3,
          6.4,
          6.5,
          6.6,
          6.7,
          6.8,
          6.9,
          7,
          7.1,
          7.2,
          7.3,
          7.4,
          7.5,
          7.6,
          7.7,
          7.8,
          7.9,
          8,
          8.1,
          8.2,
          8.3,
          8.4,
          8.5,
          8.6,
          8.7,
          8.8,
          8.9,
          9,
          9.1,
          9.2,
          9.3,
          9.4,
          9.5,
          9.6,
          9.7,
          9.8,
          9.9,
          10,
          10.1,
          10.2,
          10.3,
          10.4,
          10.5,
          10.6,
          10.7,
          10.8,
          10.9
         ],
         "xaxis": "x2",
         "y": [
          0,
          0,
          0,
          0,
          0,
          0,
          0,
          0,
          0,
          0,
          0,
          0,
          0,
          0,
          0,
          0,
          0,
          0,
          0,
          0,
          0,
          0,
          0,
          0,
          0,
          0,
          0,
          0,
          0,
          0,
          0,
          0,
          0,
          0,
          0,
          0,
          0,
          0,
          0,
          0,
          0,
          0,
          0,
          0,
          0,
          0,
          0,
          0,
          0,
          0,
          0,
          0,
          0,
          0,
          0,
          0,
          0,
          0,
          0,
          0,
          0,
          0,
          0,
          0,
          0,
          0,
          0,
          0,
          0,
          0,
          0,
          0,
          0,
          0,
          0,
          0,
          0,
          0,
          0,
          0,
          0,
          0,
          0,
          0,
          0,
          0,
          0,
          0,
          0,
          0,
          0,
          0,
          0,
          0,
          0,
          0,
          0,
          0,
          0,
          0,
          0,
          0,
          0,
          0,
          0,
          0,
          0,
          0,
          0,
          0
         ],
         "yaxis": "y2"
        },
        {
         "line": {
          "color": "rgb(153, 0, 204)",
          "dash": "solid",
          "width": 1
         },
         "mode": "lines",
         "name": "RR",
         "showlegend": false,
         "type": "scatter",
         "x": [
          0,
          0.1,
          0.2,
          0.3,
          0.4,
          0.5,
          0.6,
          0.7,
          0.8,
          0.9,
          1,
          1.1,
          1.2,
          1.3,
          1.4,
          1.5,
          1.6,
          1.7,
          1.8,
          1.9,
          2,
          2.1,
          2.2,
          2.3,
          2.4,
          2.5,
          2.6,
          2.7,
          2.8,
          2.9,
          3,
          3.1,
          3.2,
          3.3,
          3.4,
          3.5,
          3.6,
          3.7,
          3.8,
          3.9,
          4,
          4.1,
          4.2,
          4.3,
          4.4,
          4.5,
          4.6,
          4.7,
          4.8,
          4.9,
          5,
          5.1,
          5.2,
          5.3,
          5.4,
          5.5,
          5.6,
          5.7,
          5.8,
          5.9,
          6,
          6.1,
          6.2,
          6.3,
          6.4,
          6.5,
          6.6,
          6.7,
          6.8,
          6.9,
          7,
          7.1,
          7.2,
          7.3,
          7.4,
          7.5,
          7.6,
          7.7,
          7.8,
          7.9,
          8,
          8.1,
          8.2,
          8.3,
          8.4,
          8.5,
          8.6,
          8.7,
          8.8,
          8.9,
          9,
          9.1,
          9.2,
          9.3,
          9.4,
          9.5,
          9.6,
          9.7,
          9.8,
          9.9,
          10,
          10.1,
          10.2,
          10.3,
          10.4,
          10.5,
          10.6,
          10.7,
          10.8,
          10.9
         ],
         "xaxis": "x2",
         "y": [
          0,
          0,
          0,
          0,
          0,
          0,
          0,
          0,
          0,
          0,
          0,
          0,
          0,
          0,
          0,
          0,
          0,
          0,
          0,
          0,
          0,
          0,
          0,
          0,
          0,
          0,
          0,
          0,
          0,
          0,
          0,
          0,
          0,
          0,
          0,
          0,
          0,
          0,
          0,
          0,
          0,
          0,
          0,
          0,
          0,
          0,
          0,
          0,
          0,
          0,
          0,
          0,
          0,
          0,
          0,
          0,
          0,
          0,
          0,
          0,
          0,
          0,
          0,
          0,
          0,
          0,
          0,
          0,
          0,
          0,
          0,
          0,
          0,
          0,
          0,
          0,
          0,
          0,
          0,
          0,
          0,
          0,
          0,
          0,
          0,
          0,
          0,
          0,
          0,
          0,
          0,
          0,
          0,
          0,
          0,
          0,
          0,
          0,
          0,
          0,
          0,
          0,
          0,
          0,
          0,
          0,
          0,
          0,
          0,
          0
         ],
         "yaxis": "y2"
        },
        {
         "line": {
          "color": "rgb(255, 102, 0)",
          "dash": "solid",
          "width": 1
         },
         "mode": "lines",
         "name": "LR",
         "showlegend": false,
         "type": "scatter",
         "x": [
          0,
          0.1,
          0.2,
          0.3,
          0.4,
          0.5,
          0.6,
          0.7,
          0.8,
          0.9,
          1,
          1.1,
          1.2,
          1.3,
          1.4,
          1.5,
          1.6,
          1.7,
          1.8,
          1.9,
          2,
          2.1,
          2.2,
          2.3,
          2.4,
          2.5,
          2.6,
          2.7,
          2.8,
          2.9,
          3,
          3.1,
          3.2,
          3.3,
          3.4,
          3.5,
          3.6,
          3.7,
          3.8,
          3.9,
          4,
          4.1,
          4.2,
          4.3,
          4.4,
          4.5,
          4.6,
          4.7,
          4.8,
          4.9,
          5,
          5.1,
          5.2,
          5.3,
          5.4,
          5.5,
          5.6,
          5.7,
          5.8,
          5.9,
          6,
          6.1,
          6.2,
          6.3,
          6.4,
          6.5,
          6.6,
          6.7,
          6.8,
          6.9,
          7,
          7.1,
          7.2,
          7.3,
          7.4,
          7.5,
          7.6,
          7.7,
          7.8,
          7.9,
          8,
          8.1,
          8.2,
          8.3,
          8.4,
          8.5,
          8.6,
          8.7,
          8.8,
          8.9,
          9,
          9.1,
          9.2,
          9.3,
          9.4,
          9.5,
          9.6,
          9.7,
          9.8,
          9.9,
          10,
          10.1,
          10.2,
          10.3,
          10.4,
          10.5,
          10.6,
          10.7,
          10.8,
          10.9
         ],
         "xaxis": "x2",
         "y": [
          0,
          0,
          0,
          0,
          0,
          0,
          0,
          0,
          0,
          0,
          0,
          0,
          0,
          0,
          0,
          0,
          0,
          0,
          0,
          0,
          0,
          0,
          0,
          0,
          0,
          0,
          0,
          0,
          0,
          0,
          0,
          0,
          0,
          0,
          0,
          0,
          0,
          0,
          0,
          0,
          0,
          0,
          0,
          0,
          0,
          0,
          0,
          0,
          0,
          0,
          0,
          0,
          0,
          0,
          0,
          0,
          0,
          0,
          0,
          0,
          0,
          0,
          0,
          0,
          0,
          0,
          0,
          0,
          0,
          0,
          0,
          0,
          0,
          0,
          0,
          0,
          0,
          0,
          0,
          0,
          0,
          0,
          0,
          0,
          0,
          0,
          0,
          0,
          0,
          0,
          0,
          0,
          0,
          0,
          0,
          0,
          0,
          0,
          0,
          0,
          0,
          0,
          0,
          0,
          0,
          0,
          0,
          0,
          0,
          0
         ],
         "yaxis": "y2"
        }
       ],
       "layout": {
        "autosize": false,
        "font": {
         "color": "black",
         "family": "Arial",
         "size": 16
        },
        "height": 450,
        "legend": {
         "orientation": "h",
         "x": 0.01,
         "xanchor": "left",
         "y": 1.15,
         "yanchor": "top"
        },
        "template": {
         "data": {
          "bar": [
           {
            "error_x": {
             "color": "#2a3f5f"
            },
            "error_y": {
             "color": "#2a3f5f"
            },
            "marker": {
             "line": {
              "color": "white",
              "width": 0.5
             }
            },
            "type": "bar"
           }
          ],
          "barpolar": [
           {
            "marker": {
             "line": {
              "color": "white",
              "width": 0.5
             }
            },
            "type": "barpolar"
           }
          ],
          "carpet": [
           {
            "aaxis": {
             "endlinecolor": "#2a3f5f",
             "gridcolor": "#C8D4E3",
             "linecolor": "#C8D4E3",
             "minorgridcolor": "#C8D4E3",
             "startlinecolor": "#2a3f5f"
            },
            "baxis": {
             "endlinecolor": "#2a3f5f",
             "gridcolor": "#C8D4E3",
             "linecolor": "#C8D4E3",
             "minorgridcolor": "#C8D4E3",
             "startlinecolor": "#2a3f5f"
            },
            "type": "carpet"
           }
          ],
          "choropleth": [
           {
            "colorbar": {
             "outlinewidth": 0,
             "ticks": ""
            },
            "type": "choropleth"
           }
          ],
          "contour": [
           {
            "colorbar": {
             "outlinewidth": 0,
             "ticks": ""
            },
            "colorscale": [
             [
              0,
              "#0d0887"
             ],
             [
              0.1111111111111111,
              "#46039f"
             ],
             [
              0.2222222222222222,
              "#7201a8"
             ],
             [
              0.3333333333333333,
              "#9c179e"
             ],
             [
              0.4444444444444444,
              "#bd3786"
             ],
             [
              0.5555555555555556,
              "#d8576b"
             ],
             [
              0.6666666666666666,
              "#ed7953"
             ],
             [
              0.7777777777777778,
              "#fb9f3a"
             ],
             [
              0.8888888888888888,
              "#fdca26"
             ],
             [
              1,
              "#f0f921"
             ]
            ],
            "type": "contour"
           }
          ],
          "contourcarpet": [
           {
            "colorbar": {
             "outlinewidth": 0,
             "ticks": ""
            },
            "type": "contourcarpet"
           }
          ],
          "heatmap": [
           {
            "colorbar": {
             "outlinewidth": 0,
             "ticks": ""
            },
            "colorscale": [
             [
              0,
              "#0d0887"
             ],
             [
              0.1111111111111111,
              "#46039f"
             ],
             [
              0.2222222222222222,
              "#7201a8"
             ],
             [
              0.3333333333333333,
              "#9c179e"
             ],
             [
              0.4444444444444444,
              "#bd3786"
             ],
             [
              0.5555555555555556,
              "#d8576b"
             ],
             [
              0.6666666666666666,
              "#ed7953"
             ],
             [
              0.7777777777777778,
              "#fb9f3a"
             ],
             [
              0.8888888888888888,
              "#fdca26"
             ],
             [
              1,
              "#f0f921"
             ]
            ],
            "type": "heatmap"
           }
          ],
          "heatmapgl": [
           {
            "colorbar": {
             "outlinewidth": 0,
             "ticks": ""
            },
            "colorscale": [
             [
              0,
              "#0d0887"
             ],
             [
              0.1111111111111111,
              "#46039f"
             ],
             [
              0.2222222222222222,
              "#7201a8"
             ],
             [
              0.3333333333333333,
              "#9c179e"
             ],
             [
              0.4444444444444444,
              "#bd3786"
             ],
             [
              0.5555555555555556,
              "#d8576b"
             ],
             [
              0.6666666666666666,
              "#ed7953"
             ],
             [
              0.7777777777777778,
              "#fb9f3a"
             ],
             [
              0.8888888888888888,
              "#fdca26"
             ],
             [
              1,
              "#f0f921"
             ]
            ],
            "type": "heatmapgl"
           }
          ],
          "histogram": [
           {
            "marker": {
             "colorbar": {
              "outlinewidth": 0,
              "ticks": ""
             }
            },
            "type": "histogram"
           }
          ],
          "histogram2d": [
           {
            "colorbar": {
             "outlinewidth": 0,
             "ticks": ""
            },
            "colorscale": [
             [
              0,
              "#0d0887"
             ],
             [
              0.1111111111111111,
              "#46039f"
             ],
             [
              0.2222222222222222,
              "#7201a8"
             ],
             [
              0.3333333333333333,
              "#9c179e"
             ],
             [
              0.4444444444444444,
              "#bd3786"
             ],
             [
              0.5555555555555556,
              "#d8576b"
             ],
             [
              0.6666666666666666,
              "#ed7953"
             ],
             [
              0.7777777777777778,
              "#fb9f3a"
             ],
             [
              0.8888888888888888,
              "#fdca26"
             ],
             [
              1,
              "#f0f921"
             ]
            ],
            "type": "histogram2d"
           }
          ],
          "histogram2dcontour": [
           {
            "colorbar": {
             "outlinewidth": 0,
             "ticks": ""
            },
            "colorscale": [
             [
              0,
              "#0d0887"
             ],
             [
              0.1111111111111111,
              "#46039f"
             ],
             [
              0.2222222222222222,
              "#7201a8"
             ],
             [
              0.3333333333333333,
              "#9c179e"
             ],
             [
              0.4444444444444444,
              "#bd3786"
             ],
             [
              0.5555555555555556,
              "#d8576b"
             ],
             [
              0.6666666666666666,
              "#ed7953"
             ],
             [
              0.7777777777777778,
              "#fb9f3a"
             ],
             [
              0.8888888888888888,
              "#fdca26"
             ],
             [
              1,
              "#f0f921"
             ]
            ],
            "type": "histogram2dcontour"
           }
          ],
          "mesh3d": [
           {
            "colorbar": {
             "outlinewidth": 0,
             "ticks": ""
            },
            "type": "mesh3d"
           }
          ],
          "parcoords": [
           {
            "line": {
             "colorbar": {
              "outlinewidth": 0,
              "ticks": ""
             }
            },
            "type": "parcoords"
           }
          ],
          "pie": [
           {
            "automargin": true,
            "type": "pie"
           }
          ],
          "scatter": [
           {
            "marker": {
             "colorbar": {
              "outlinewidth": 0,
              "ticks": ""
             }
            },
            "type": "scatter"
           }
          ],
          "scatter3d": [
           {
            "line": {
             "colorbar": {
              "outlinewidth": 0,
              "ticks": ""
             }
            },
            "marker": {
             "colorbar": {
              "outlinewidth": 0,
              "ticks": ""
             }
            },
            "type": "scatter3d"
           }
          ],
          "scattercarpet": [
           {
            "marker": {
             "colorbar": {
              "outlinewidth": 0,
              "ticks": ""
             }
            },
            "type": "scattercarpet"
           }
          ],
          "scattergeo": [
           {
            "marker": {
             "colorbar": {
              "outlinewidth": 0,
              "ticks": ""
             }
            },
            "type": "scattergeo"
           }
          ],
          "scattergl": [
           {
            "marker": {
             "colorbar": {
              "outlinewidth": 0,
              "ticks": ""
             }
            },
            "type": "scattergl"
           }
          ],
          "scattermapbox": [
           {
            "marker": {
             "colorbar": {
              "outlinewidth": 0,
              "ticks": ""
             }
            },
            "type": "scattermapbox"
           }
          ],
          "scatterpolar": [
           {
            "marker": {
             "colorbar": {
              "outlinewidth": 0,
              "ticks": ""
             }
            },
            "type": "scatterpolar"
           }
          ],
          "scatterpolargl": [
           {
            "marker": {
             "colorbar": {
              "outlinewidth": 0,
              "ticks": ""
             }
            },
            "type": "scatterpolargl"
           }
          ],
          "scatterternary": [
           {
            "marker": {
             "colorbar": {
              "outlinewidth": 0,
              "ticks": ""
             }
            },
            "type": "scatterternary"
           }
          ],
          "surface": [
           {
            "colorbar": {
             "outlinewidth": 0,
             "ticks": ""
            },
            "colorscale": [
             [
              0,
              "#0d0887"
             ],
             [
              0.1111111111111111,
              "#46039f"
             ],
             [
              0.2222222222222222,
              "#7201a8"
             ],
             [
              0.3333333333333333,
              "#9c179e"
             ],
             [
              0.4444444444444444,
              "#bd3786"
             ],
             [
              0.5555555555555556,
              "#d8576b"
             ],
             [
              0.6666666666666666,
              "#ed7953"
             ],
             [
              0.7777777777777778,
              "#fb9f3a"
             ],
             [
              0.8888888888888888,
              "#fdca26"
             ],
             [
              1,
              "#f0f921"
             ]
            ],
            "type": "surface"
           }
          ],
          "table": [
           {
            "cells": {
             "fill": {
              "color": "#EBF0F8"
             },
             "line": {
              "color": "white"
             }
            },
            "header": {
             "fill": {
              "color": "#C8D4E3"
             },
             "line": {
              "color": "white"
             }
            },
            "type": "table"
           }
          ]
         },
         "layout": {
          "annotationdefaults": {
           "arrowcolor": "#2a3f5f",
           "arrowhead": 0,
           "arrowwidth": 1
          },
          "coloraxis": {
           "colorbar": {
            "outlinewidth": 0,
            "ticks": ""
           }
          },
          "colorscale": {
           "diverging": [
            [
             0,
             "#8e0152"
            ],
            [
             0.1,
             "#c51b7d"
            ],
            [
             0.2,
             "#de77ae"
            ],
            [
             0.3,
             "#f1b6da"
            ],
            [
             0.4,
             "#fde0ef"
            ],
            [
             0.5,
             "#f7f7f7"
            ],
            [
             0.6,
             "#e6f5d0"
            ],
            [
             0.7,
             "#b8e186"
            ],
            [
             0.8,
             "#7fbc41"
            ],
            [
             0.9,
             "#4d9221"
            ],
            [
             1,
             "#276419"
            ]
           ],
           "sequential": [
            [
             0,
             "#0d0887"
            ],
            [
             0.1111111111111111,
             "#46039f"
            ],
            [
             0.2222222222222222,
             "#7201a8"
            ],
            [
             0.3333333333333333,
             "#9c179e"
            ],
            [
             0.4444444444444444,
             "#bd3786"
            ],
            [
             0.5555555555555556,
             "#d8576b"
            ],
            [
             0.6666666666666666,
             "#ed7953"
            ],
            [
             0.7777777777777778,
             "#fb9f3a"
            ],
            [
             0.8888888888888888,
             "#fdca26"
            ],
            [
             1,
             "#f0f921"
            ]
           ],
           "sequentialminus": [
            [
             0,
             "#0d0887"
            ],
            [
             0.1111111111111111,
             "#46039f"
            ],
            [
             0.2222222222222222,
             "#7201a8"
            ],
            [
             0.3333333333333333,
             "#9c179e"
            ],
            [
             0.4444444444444444,
             "#bd3786"
            ],
            [
             0.5555555555555556,
             "#d8576b"
            ],
            [
             0.6666666666666666,
             "#ed7953"
            ],
            [
             0.7777777777777778,
             "#fb9f3a"
            ],
            [
             0.8888888888888888,
             "#fdca26"
            ],
            [
             1,
             "#f0f921"
            ]
           ]
          },
          "colorway": [
           "#636efa",
           "#EF553B",
           "#00cc96",
           "#ab63fa",
           "#FFA15A",
           "#19d3f3",
           "#FF6692",
           "#B6E880",
           "#FF97FF",
           "#FECB52"
          ],
          "font": {
           "color": "#2a3f5f"
          },
          "geo": {
           "bgcolor": "white",
           "lakecolor": "white",
           "landcolor": "white",
           "showlakes": true,
           "showland": true,
           "subunitcolor": "#C8D4E3"
          },
          "hoverlabel": {
           "align": "left"
          },
          "hovermode": "closest",
          "mapbox": {
           "style": "light"
          },
          "paper_bgcolor": "white",
          "plot_bgcolor": "white",
          "polar": {
           "angularaxis": {
            "gridcolor": "#EBF0F8",
            "linecolor": "#EBF0F8",
            "ticks": ""
           },
           "bgcolor": "white",
           "radialaxis": {
            "gridcolor": "#EBF0F8",
            "linecolor": "#EBF0F8",
            "ticks": ""
           }
          },
          "scene": {
           "xaxis": {
            "backgroundcolor": "white",
            "gridcolor": "#DFE8F3",
            "gridwidth": 2,
            "linecolor": "#EBF0F8",
            "showbackground": true,
            "ticks": "",
            "zerolinecolor": "#EBF0F8"
           },
           "yaxis": {
            "backgroundcolor": "white",
            "gridcolor": "#DFE8F3",
            "gridwidth": 2,
            "linecolor": "#EBF0F8",
            "showbackground": true,
            "ticks": "",
            "zerolinecolor": "#EBF0F8"
           },
           "zaxis": {
            "backgroundcolor": "white",
            "gridcolor": "#DFE8F3",
            "gridwidth": 2,
            "linecolor": "#EBF0F8",
            "showbackground": true,
            "ticks": "",
            "zerolinecolor": "#EBF0F8"
           }
          },
          "shapedefaults": {
           "line": {
            "color": "#2a3f5f"
           }
          },
          "ternary": {
           "aaxis": {
            "gridcolor": "#DFE8F3",
            "linecolor": "#A2B1C6",
            "ticks": ""
           },
           "baxis": {
            "gridcolor": "#DFE8F3",
            "linecolor": "#A2B1C6",
            "ticks": ""
           },
           "bgcolor": "white",
           "caxis": {
            "gridcolor": "#DFE8F3",
            "linecolor": "#A2B1C6",
            "ticks": ""
           }
          },
          "title": {
           "x": 0.05
          },
          "xaxis": {
           "automargin": true,
           "gridcolor": "#EBF0F8",
           "linecolor": "#EBF0F8",
           "ticks": "",
           "title": {
            "standoff": 15
           },
           "zerolinecolor": "#EBF0F8",
           "zerolinewidth": 2
          },
          "yaxis": {
           "automargin": true,
           "gridcolor": "#EBF0F8",
           "linecolor": "#EBF0F8",
           "ticks": "",
           "title": {
            "standoff": 15
           },
           "zerolinecolor": "#EBF0F8",
           "zerolinewidth": 2
          }
         }
        },
        "title": {
         "text": "Tire Slip Angle & Saturation (locked) Status"
        },
        "width": 800,
        "xaxis": {
         "anchor": "y",
         "domain": [
          0,
          1
         ],
         "linecolor": "black",
         "linewidth": 1,
         "matches": "x2",
         "showgrid": false,
         "showline": true,
         "showticklabels": false,
         "tickcolor": "black",
         "ticklen": 10,
         "ticks": "outside",
         "tickwidth": 1,
         "title": {
          "text": ""
         },
         "zeroline": false
        },
        "xaxis2": {
         "anchor": "y2",
         "domain": [
          0,
          1
         ],
         "linecolor": "black",
         "linewidth": 1,
         "showgrid": false,
         "showline": true,
         "tickcolor": "black",
         "ticklen": 10,
         "ticks": "outside",
         "tickwidth": 1,
         "title": {
          "text": "Time (s)"
         },
         "zeroline": false
        },
        "yaxis": {
         "anchor": "x",
         "domain": [
          0.555,
          1
         ],
         "linecolor": "black",
         "linewidth": 1,
         "showgrid": false,
         "showline": true,
         "tickcolor": "black",
         "ticklen": 10,
         "ticks": "outside",
         "tickwidth": 1,
         "title": {
          "text": "Slip Angle (degrees)"
         },
         "zeroline": false
        },
        "yaxis2": {
         "anchor": "x2",
         "domain": [
          0,
          0.445
         ],
         "linecolor": "black",
         "linewidth": 1,
         "showgrid": false,
         "showline": true,
         "tickcolor": "black",
         "ticklen": 10,
         "ticks": "outside",
         "tickwidth": 1,
         "title": {
          "text": "Locked Satus"
         },
         "zeroline": false
        }
       }
      },
      "text/html": [
       "<div>\n",
       "        \n",
       "        \n",
       "            <div id=\"5c19529b-f8ea-4f65-ba2e-0ba1dc68e57e\" class=\"plotly-graph-div\" style=\"height:450px; width:800px;\"></div>\n",
       "            <script type=\"text/javascript\">\n",
       "                require([\"plotly\"], function(Plotly) {\n",
       "                    window.PLOTLYENV=window.PLOTLYENV || {};\n",
       "                    \n",
       "                if (document.getElementById(\"5c19529b-f8ea-4f65-ba2e-0ba1dc68e57e\")) {\n",
       "                    Plotly.newPlot(\n",
       "                        '5c19529b-f8ea-4f65-ba2e-0ba1dc68e57e',\n",
       "                        [{\"line\": {\"color\": \"rgb(0, 0, 255)\", \"dash\": \"solid\", \"width\": 1}, \"mode\": \"lines\", \"name\": \"LF\", \"type\": \"scatter\", \"x\": [0.0, 0.1, 0.2, 0.3, 0.4, 0.5, 0.6, 0.7, 0.8, 0.9, 1.0, 1.1, 1.2, 1.3, 1.4, 1.5, 1.6, 1.7, 1.8, 1.9, 2.0, 2.1, 2.2, 2.3, 2.4, 2.5, 2.6, 2.7, 2.8, 2.9, 3.0, 3.1, 3.2, 3.3, 3.4, 3.5, 3.6, 3.7, 3.8, 3.9, 4.0, 4.1, 4.2, 4.3, 4.4, 4.5, 4.6, 4.7, 4.8, 4.9, 5.0, 5.1, 5.2, 5.3, 5.4, 5.5, 5.6, 5.7, 5.8, 5.9, 6.0, 6.1, 6.2, 6.3, 6.4, 6.5, 6.6, 6.7, 6.8, 6.9, 7.0, 7.1, 7.2, 7.3, 7.4, 7.5, 7.6, 7.7, 7.8, 7.9, 8.0, 8.1, 8.2, 8.3, 8.4, 8.5, 8.6, 8.7, 8.8, 8.9, 9.0, 9.1, 9.2, 9.3, 9.4, 9.5, 9.6, 9.7, 9.8, 9.9, 10.0, 10.1, 10.2, 10.3, 10.4, 10.5, 10.6, 10.7, 10.8, 10.9], \"xaxis\": \"x\", \"y\": [0.0, 0.0, 0.0, 0.0, 0.0, 0.0, 0.0, 0.0, 0.0, 0.0, 0.0, -2.037739056603774, -3.930493405356109, -5.143861057920929, -5.939060380742237, -6.650051646530648, -7.461469293040788, -8.419149521427626, -9.495615931665535, -10.639082419019905, -11.796219408436015, -10.880017071881081, -10.055587428339901, -9.915267363196316, -10.233931767070706, -10.645986138519099, -10.910911804390569, -10.942130428566301, -10.751761750879009, -10.39357462554928, -9.927738207063733, -9.405325980584161, -8.864566617300056, -8.332190161957566, -7.826001951282902, -7.357074298842802, -6.931273579208599, -6.550369571848725, -6.213009344557018, -5.915680621201815, -5.653639442338391, -5.421712291800118, -5.214896340747316, -5.028731862451281, -4.859470540250023, -4.704092874094952, -4.560234632342328, -4.426073135096742, -4.300208174372837, -4.1815566321320965, -4.0692680199717985, -3.962661020085243, -3.861177784984551, -3.764351865266856, -3.671785969897562, -3.5831365336432404, -3.4981028677146853, -3.416419345722205, -3.3378495931162893, -3.26218201692959, -3.1892262605752038, -3.1188103252533925, -3.050778193180449, -2.984987841872947, -2.921309570228861, -2.8596245768286397, -2.7998237443890983, -2.741806594228717, -2.685480382089605, -2.6307593123427027, -2.5775638519527115, -2.5258201289717084, -2.4754594030285957, -2.4264175974525735, -2.378634884420432, -2.3320553159298054, -2.2866264945430377, -2.242299278777371, -2.1990275187840505, -2.1567678185957684, -2.115479321753735, -2.0751235175710567, -2.035664065663549, -1.9970666366949954, -1.959298767551563, -1.9223297293882524, -1.8861304071852143, -1.8506731896189055, -1.8159318681972418, -1.781881544731697, -1.7484985463271139, -1.7157603471630118, -1.683645496421689, -1.6521335517891151, -1.6212050180167812, -1.5908412900871347, -1.5610246005729467, -1.5317379708233048, -1.5029651656460539, -1.474690651189465, -1.4468995557553117, -1.4195776333010988, -1.3927112294127988, -1.3662872495497274, -1.3402931293815488, -1.3147168070542183, -1.289546697235979, -1.26477166680816, -1.240381012077156, -1.2163644373948668], \"yaxis\": \"y\"}, {\"line\": {\"color\": \"rgb(0, 255, 0)\", \"dash\": \"solid\", \"width\": 1}, \"mode\": \"lines\", \"name\": \"RF\", \"type\": \"scatter\", \"x\": [0.0, 0.1, 0.2, 0.3, 0.4, 0.5, 0.6, 0.7, 0.8, 0.9, 1.0, 1.1, 1.2, 1.3, 1.4, 1.5, 1.6, 1.7, 1.8, 1.9, 2.0, 2.1, 2.2, 2.3, 2.4, 2.5, 2.6, 2.7, 2.8, 2.9, 3.0, 3.1, 3.2, 3.3, 3.4, 3.5, 3.6, 3.7, 3.8, 3.9, 4.0, 4.1, 4.2, 4.3, 4.4, 4.5, 4.6, 4.7, 4.8, 4.9, 5.0, 5.1, 5.2, 5.3, 5.4, 5.5, 5.6, 5.7, 5.8, 5.9, 6.0, 6.1, 6.2, 6.3, 6.4, 6.5, 6.6, 6.7, 6.8, 6.9, 7.0, 7.1, 7.2, 7.3, 7.4, 7.5, 7.6, 7.7, 7.8, 7.9, 8.0, 8.1, 8.2, 8.3, 8.4, 8.5, 8.6, 8.7, 8.8, 8.9, 9.0, 9.1, 9.2, 9.3, 9.4, 9.5, 9.6, 9.7, 9.8, 9.9, 10.0, 10.1, 10.2, 10.3, 10.4, 10.5, 10.6, 10.7, 10.8, 10.9], \"xaxis\": \"x\", \"y\": [0.0, 0.0, 0.0, 0.0, 0.0, 0.0, 0.0, 0.0, 0.0, 0.0, 0.0, -2.037739056603774, -3.931763045114277, -5.162895695398677, -6.021048739620974, -6.855092544446952, -7.845922842712461, -9.029225439913505, -10.370136608756226, -11.81486047176121, -13.312946801729678, -12.784312907851177, -12.303269706569846, -12.340501258438643, -12.697299001484671, -13.091623535694625, -13.346977893627969, -13.404449587196417, -13.27788534515026, -13.010679388828077, -12.649902284894694, -12.235455891130018, -11.797842377637496, -11.35938947750458, -10.936067306962148, -10.53883221835844, -10.174441792567759, -9.846041073847328, -9.553785775004066, -9.295592720045848, -9.067957152076895, -8.866715545489232, -8.687651052955765, -8.526895040907013, -8.381133853567201, -8.247664706604128, -8.124355517148018, -8.009557364586588, -7.902004338150521, -7.800720943495579, -7.7049458431448326, -7.614073501933578, -7.52761166917476, -7.445151365590799, -7.366346063123817, -7.29089730059883, -7.218544653321814, -7.149058584250828, -7.082235187159461, -7.0178921838680735, -6.955865776481633, -6.89600810752694, -6.838185172101543, -6.782275078913116, -6.728166587720541, -6.675757869480992, -6.624955448062446, -6.575673291389128, -6.527832026593721, -6.481358258821519, -6.436183977218241, -6.392246034665311, -6.349485690233352, -6.307848205254397, -6.267282485464703, -6.227740762918291, -6.18917831237903, -6.151553197719453, -6.114826044528904, -6.0789598356924435, -6.043919727168034, -6.009672881579003, -5.9761883175661845, -5.943436773119539, -5.911390581342835, -5.880023557303349, -5.849310894788428, -5.819229071935931, -5.789755764830727, -5.760869768267022, -5.732550922969539, -5.704780048647474, -5.677538882325391, -5.650810021456701, -5.624576871378961, -5.598823596717283, -5.573535076383545, -5.548696861855382, -5.5242951384512295, -5.500316689345986, -5.476748862097122, -5.4535795374734075, -5.430797100398357, -5.408390412838201, -5.386348788480066, -5.364661969060194, -5.343320102214662, -5.3223137207366396, -5.3016337231341994, -5.281271355392101], \"yaxis\": \"y\"}, {\"line\": {\"color\": \"rgb(153, 0, 204)\", \"dash\": \"solid\", \"width\": 1}, \"mode\": \"lines\", \"name\": \"RR\", \"type\": \"scatter\", \"x\": [0.0, 0.1, 0.2, 0.3, 0.4, 0.5, 0.6, 0.7, 0.8, 0.9, 1.0, 1.1, 1.2, 1.3, 1.4, 1.5, 1.6, 1.7, 1.8, 1.9, 2.0, 2.1, 2.2, 2.3, 2.4, 2.5, 2.6, 2.7, 2.8, 2.9, 3.0, 3.1, 3.2, 3.3, 3.4, 3.5, 3.6, 3.7, 3.8, 3.9, 4.0, 4.1, 4.2, 4.3, 4.4, 4.5, 4.6, 4.7, 4.8, 4.9, 5.0, 5.1, 5.2, 5.3, 5.4, 5.5, 5.6, 5.7, 5.8, 5.9, 6.0, 6.1, 6.2, 6.3, 6.4, 6.5, 6.6, 6.7, 6.8, 6.9, 7.0, 7.1, 7.2, 7.3, 7.4, 7.5, 7.6, 7.7, 7.8, 7.9, 8.0, 8.1, 8.2, 8.3, 8.4, 8.5, 8.6, 8.7, 8.8, 8.9, 9.0, 9.1, 9.2, 9.3, 9.4, 9.5, 9.6, 9.7, 9.8, 9.9, 10.0, 10.1, 10.2, 10.3, 10.4, 10.5, 10.6, 10.7, 10.8, 10.9], \"xaxis\": \"x\", \"y\": [-0.0, -0.0, -0.0, -0.0, -0.0, -0.0, -0.0, -0.0, -0.0, -0.0, -0.0, -0.0, 0.02408869895990755, 0.048107049068495354, -0.06379980370707575, -0.44046707420615777, -1.1116953799509963, -2.0288608315821945, -3.1153094537511983, -4.299778081183408, -5.528024902308769, -6.761584961748022, -8.01460910956902, -9.267069634425953, -10.39609935805158, -11.28683588542557, -11.892660961488405, -12.221097810610676, -12.30584944031107, -12.188611212517225, -11.911217950622992, -11.513506988004863, -11.033073116563198, -10.50488484960048, -9.960201878096761, -9.42510446355817, -8.919250483100697, -8.45536437163911, -8.03963804659476, -7.672891358897707, -7.352139357530413, -7.072185798963803, -6.826961961570979, -6.610477386043878, -6.417378196442683, -6.243187403819748, -6.084329473273546, -5.938034246938323, -5.80219157772849, -5.675201557946279, -5.5558434074512215, -5.44317122129225, -5.336436259521982, -5.235031564575343, -5.138453634494984, -5.046276287496655, -4.958132832722798, -4.873703717240635, -4.792707722174976, -4.714895461209851, -4.640044403379419, -4.567954942841329, -4.4984472208172335, -4.431358511528499, -4.3665410456204405, -4.303860181108519, -4.243192854803215, -4.184426262611134, -4.127456728180133, -4.07218872764192, -4.018534044571613, -3.9664110342512084, -3.9157439802337968, -3.8664625292987753, -3.818501193343808, -3.771798908717835, -3.7262986450714313, -3.681947057073467, -3.6386941733817677, -3.5964931181096635, -3.555299860736825, -3.5150729909998777, -3.4757735157885654, -3.437364675484289, -3.3998117775243, -3.3630820452680665, -3.3271444804913552, -3.2919697380461392, -3.257530011406102, -3.2237989279737502, -3.1907514531595034, -3.1583638023593794, -3.126613360058633, -3.095478605376101, -3.0649390434404045, -3.03497514205573, -3.005568273173223, -2.9767006587353206, -2.9483553205053643, -2.920516033534618, -2.893167282953941, -2.8662942238083837, -2.8398826436806996, -2.813918927874166, -2.7883900269470323, -2.7632834264103314, -2.738587118418293, -2.714289575296057, -2.6903797247634795, -2.666846926726313], \"yaxis\": \"y\"}, {\"line\": {\"color\": \"rgb(255, 102, 0)\", \"dash\": \"solid\", \"width\": 1}, \"mode\": \"lines\", \"name\": \"LR\", \"type\": \"scatter\", \"x\": [0.0, 0.1, 0.2, 0.3, 0.4, 0.5, 0.6, 0.7, 0.8, 0.9, 1.0, 1.1, 1.2, 1.3, 1.4, 1.5, 1.6, 1.7, 1.8, 1.9, 2.0, 2.1, 2.2, 2.3, 2.4, 2.5, 2.6, 2.7, 2.8, 2.9, 3.0, 3.1, 3.2, 3.3, 3.4, 3.5, 3.6, 3.7, 3.8, 3.9, 4.0, 4.1, 4.2, 4.3, 4.4, 4.5, 4.6, 4.7, 4.8, 4.9, 5.0, 5.1, 5.2, 5.3, 5.4, 5.5, 5.6, 5.7, 5.8, 5.9, 6.0, 6.1, 6.2, 6.3, 6.4, 6.5, 6.6, 6.7, 6.8, 6.9, 7.0, 7.1, 7.2, 7.3, 7.4, 7.5, 7.6, 7.7, 7.8, 7.9, 8.0, 8.1, 8.2, 8.3, 8.4, 8.5, 8.6, 8.7, 8.8, 8.9, 9.0, 9.1, 9.2, 9.3, 9.4, 9.5, 9.6, 9.7, 9.8, 9.9, 10.0, 10.1, 10.2, 10.3, 10.4, 10.5, 10.6, 10.7, 10.8, 10.9], \"xaxis\": \"x\", \"y\": [-0.0, -0.0, -0.0, -0.0, -0.0, -0.0, -0.0, -0.0, -0.0, -0.0, -0.0, -0.0, 0.024171332160180654, 0.04875992001834482, -0.06566499780014919, -0.4618540561953424, -1.1897369191632232, -2.218314010255993, -3.481862333265758, -4.914000262414839, -6.461688193184416, -8.085927085720058, -9.777714606250814, -11.461360435789867, -12.964645321814677, -14.14724114866283, -14.960211618074949, -15.418492300941649, -15.56422006721962, -15.446846826543903, -15.116425604635044, -14.622512966264363, -14.013945700274578, -13.337601418309639, -12.636075748799891, -11.945072190574914, -11.291435412434385, -10.692434812659164, -10.156406381462256, -9.684432939801006, -9.272528098815219, -8.913801960745616, -8.600247746795553, -8.323992318202022, -8.07802062320611, -7.856481136950598, -7.654710451352009, -7.469102506326154, -7.296915477208534, -7.136074351439876, -6.984998774992385, -6.842466495327459, -6.707511747103662, -6.57935293505087, -6.457342649555433, -6.340933620320492, -6.229655515319256, -6.123098882950183, -6.020903720201423, -5.922751039977852, -5.828356422850395, -5.737464930825478, -5.649846998705585, -5.565295057736032, -5.483620726734737, -5.404652453614149, -5.328233520117863, -5.2542203427217675, -5.1824810170671975, -5.112894064080498, -5.045347344218989, -4.979737112745179, -4.915967194013316, -4.853948256769519, -4.793597175653052, -4.734836466626404, -4.677593786099483, -4.6218014851622975, -4.567396211685469, -4.514318554153492, -4.462512722009339, -4.411926258047889, -4.362509779029218, -4.314216741213429, -4.267003227966059, -4.220827756961242, -4.175651104831048, -4.131436147383276, -4.088147713744096, -4.045752452983052, -4.004218711950928, -3.9635164232105224, -3.9236170020699435, -3.88449325184038, -3.846119276538481, -3.8084704003389995, -3.7715230931582253, -3.735254901814576, -3.699644386270461, -3.6646710605105897, -3.630315337656917, -3.5965584789601817, -3.5633825463435325, -3.530770358204964, -3.4987054482134097, -3.4671720268581554, -3.436154945533645, -3.4056396629615664, -3.3756122137700872, -3.3460591790660974], \"yaxis\": \"y\"}, {\"line\": {\"color\": \"rgb(0, 0, 255)\", \"dash\": \"solid\", \"width\": 1}, \"mode\": \"lines\", \"name\": \"LF\", \"showlegend\": false, \"type\": \"scatter\", \"x\": [0.0, 0.1, 0.2, 0.3, 0.4, 0.5, 0.6, 0.7, 0.8, 0.9, 1.0, 1.1, 1.2, 1.3, 1.4, 1.5, 1.6, 1.7, 1.8, 1.9, 2.0, 2.1, 2.2, 2.3, 2.4, 2.5, 2.6, 2.7, 2.8, 2.9, 3.0, 3.1, 3.2, 3.3, 3.4, 3.5, 3.6, 3.7, 3.8, 3.9, 4.0, 4.1, 4.2, 4.3, 4.4, 4.5, 4.6, 4.7, 4.8, 4.9, 5.0, 5.1, 5.2, 5.3, 5.4, 5.5, 5.6, 5.7, 5.8, 5.9, 6.0, 6.1, 6.2, 6.3, 6.4, 6.5, 6.6, 6.7, 6.8, 6.9, 7.0, 7.1, 7.2, 7.3, 7.4, 7.5, 7.6, 7.7, 7.8, 7.9, 8.0, 8.1, 8.2, 8.3, 8.4, 8.5, 8.6, 8.7, 8.8, 8.9, 9.0, 9.1, 9.2, 9.3, 9.4, 9.5, 9.6, 9.7, 9.8, 9.9, 10.0, 10.1, 10.2, 10.3, 10.4, 10.5, 10.6, 10.7, 10.8, 10.9], \"xaxis\": \"x2\", \"y\": [0.0, 0.0, 0.0, 0.0, 0.0, 0.0, 0.0, 0.0, 0.0, 0.0, 0.0, 0.0, 0.0, 0.0, 0.0, 0.0, 0.0, 0.0, 0.0, 0.0, 0.0, 0.0, 0.0, 0.0, 0.0, 0.0, 0.0, 0.0, 0.0, 0.0, 0.0, 0.0, 0.0, 0.0, 0.0, 0.0, 0.0, 0.0, 0.0, 0.0, 0.0, 0.0, 0.0, 0.0, 0.0, 0.0, 0.0, 0.0, 0.0, 0.0, 0.0, 0.0, 0.0, 0.0, 0.0, 0.0, 0.0, 0.0, 0.0, 0.0, 0.0, 0.0, 0.0, 0.0, 0.0, 0.0, 0.0, 0.0, 0.0, 0.0, 0.0, 0.0, 0.0, 0.0, 0.0, 0.0, 0.0, 0.0, 0.0, 0.0, 0.0, 0.0, 0.0, 0.0, 0.0, 0.0, 0.0, 0.0, 0.0, 0.0, 0.0, 0.0, 0.0, 0.0, 0.0, 0.0, 0.0, 0.0, 0.0, 0.0, 0.0, 0.0, 0.0, 0.0, 0.0, 0.0, 0.0, 0.0, 0.0, 0.0], \"yaxis\": \"y2\"}, {\"line\": {\"color\": \"rgb(0, 255, 0)\", \"dash\": \"solid\", \"width\": 1}, \"mode\": \"lines\", \"name\": \"RF\", \"showlegend\": false, \"type\": \"scatter\", \"x\": [0.0, 0.1, 0.2, 0.3, 0.4, 0.5, 0.6, 0.7, 0.8, 0.9, 1.0, 1.1, 1.2, 1.3, 1.4, 1.5, 1.6, 1.7, 1.8, 1.9, 2.0, 2.1, 2.2, 2.3, 2.4, 2.5, 2.6, 2.7, 2.8, 2.9, 3.0, 3.1, 3.2, 3.3, 3.4, 3.5, 3.6, 3.7, 3.8, 3.9, 4.0, 4.1, 4.2, 4.3, 4.4, 4.5, 4.6, 4.7, 4.8, 4.9, 5.0, 5.1, 5.2, 5.3, 5.4, 5.5, 5.6, 5.7, 5.8, 5.9, 6.0, 6.1, 6.2, 6.3, 6.4, 6.5, 6.6, 6.7, 6.8, 6.9, 7.0, 7.1, 7.2, 7.3, 7.4, 7.5, 7.6, 7.7, 7.8, 7.9, 8.0, 8.1, 8.2, 8.3, 8.4, 8.5, 8.6, 8.7, 8.8, 8.9, 9.0, 9.1, 9.2, 9.3, 9.4, 9.5, 9.6, 9.7, 9.8, 9.9, 10.0, 10.1, 10.2, 10.3, 10.4, 10.5, 10.6, 10.7, 10.8, 10.9], \"xaxis\": \"x2\", \"y\": [0.0, 0.0, 0.0, 0.0, 0.0, 0.0, 0.0, 0.0, 0.0, 0.0, 0.0, 0.0, 0.0, 0.0, 0.0, 0.0, 0.0, 0.0, 0.0, 0.0, 0.0, 0.0, 0.0, 0.0, 0.0, 0.0, 0.0, 0.0, 0.0, 0.0, 0.0, 0.0, 0.0, 0.0, 0.0, 0.0, 0.0, 0.0, 0.0, 0.0, 0.0, 0.0, 0.0, 0.0, 0.0, 0.0, 0.0, 0.0, 0.0, 0.0, 0.0, 0.0, 0.0, 0.0, 0.0, 0.0, 0.0, 0.0, 0.0, 0.0, 0.0, 0.0, 0.0, 0.0, 0.0, 0.0, 0.0, 0.0, 0.0, 0.0, 0.0, 0.0, 0.0, 0.0, 0.0, 0.0, 0.0, 0.0, 0.0, 0.0, 0.0, 0.0, 0.0, 0.0, 0.0, 0.0, 0.0, 0.0, 0.0, 0.0, 0.0, 0.0, 0.0, 0.0, 0.0, 0.0, 0.0, 0.0, 0.0, 0.0, 0.0, 0.0, 0.0, 0.0, 0.0, 0.0, 0.0, 0.0, 0.0, 0.0], \"yaxis\": \"y2\"}, {\"line\": {\"color\": \"rgb(153, 0, 204)\", \"dash\": \"solid\", \"width\": 1}, \"mode\": \"lines\", \"name\": \"RR\", \"showlegend\": false, \"type\": \"scatter\", \"x\": [0.0, 0.1, 0.2, 0.3, 0.4, 0.5, 0.6, 0.7, 0.8, 0.9, 1.0, 1.1, 1.2, 1.3, 1.4, 1.5, 1.6, 1.7, 1.8, 1.9, 2.0, 2.1, 2.2, 2.3, 2.4, 2.5, 2.6, 2.7, 2.8, 2.9, 3.0, 3.1, 3.2, 3.3, 3.4, 3.5, 3.6, 3.7, 3.8, 3.9, 4.0, 4.1, 4.2, 4.3, 4.4, 4.5, 4.6, 4.7, 4.8, 4.9, 5.0, 5.1, 5.2, 5.3, 5.4, 5.5, 5.6, 5.7, 5.8, 5.9, 6.0, 6.1, 6.2, 6.3, 6.4, 6.5, 6.6, 6.7, 6.8, 6.9, 7.0, 7.1, 7.2, 7.3, 7.4, 7.5, 7.6, 7.7, 7.8, 7.9, 8.0, 8.1, 8.2, 8.3, 8.4, 8.5, 8.6, 8.7, 8.8, 8.9, 9.0, 9.1, 9.2, 9.3, 9.4, 9.5, 9.6, 9.7, 9.8, 9.9, 10.0, 10.1, 10.2, 10.3, 10.4, 10.5, 10.6, 10.7, 10.8, 10.9], \"xaxis\": \"x2\", \"y\": [0.0, 0.0, 0.0, 0.0, 0.0, 0.0, 0.0, 0.0, 0.0, 0.0, 0.0, 0.0, 0.0, 0.0, 0.0, 0.0, 0.0, 0.0, 0.0, 0.0, 0.0, 0.0, 0.0, 0.0, 0.0, 0.0, 0.0, 0.0, 0.0, 0.0, 0.0, 0.0, 0.0, 0.0, 0.0, 0.0, 0.0, 0.0, 0.0, 0.0, 0.0, 0.0, 0.0, 0.0, 0.0, 0.0, 0.0, 0.0, 0.0, 0.0, 0.0, 0.0, 0.0, 0.0, 0.0, 0.0, 0.0, 0.0, 0.0, 0.0, 0.0, 0.0, 0.0, 0.0, 0.0, 0.0, 0.0, 0.0, 0.0, 0.0, 0.0, 0.0, 0.0, 0.0, 0.0, 0.0, 0.0, 0.0, 0.0, 0.0, 0.0, 0.0, 0.0, 0.0, 0.0, 0.0, 0.0, 0.0, 0.0, 0.0, 0.0, 0.0, 0.0, 0.0, 0.0, 0.0, 0.0, 0.0, 0.0, 0.0, 0.0, 0.0, 0.0, 0.0, 0.0, 0.0, 0.0, 0.0, 0.0, 0.0], \"yaxis\": \"y2\"}, {\"line\": {\"color\": \"rgb(255, 102, 0)\", \"dash\": \"solid\", \"width\": 1}, \"mode\": \"lines\", \"name\": \"LR\", \"showlegend\": false, \"type\": \"scatter\", \"x\": [0.0, 0.1, 0.2, 0.3, 0.4, 0.5, 0.6, 0.7, 0.8, 0.9, 1.0, 1.1, 1.2, 1.3, 1.4, 1.5, 1.6, 1.7, 1.8, 1.9, 2.0, 2.1, 2.2, 2.3, 2.4, 2.5, 2.6, 2.7, 2.8, 2.9, 3.0, 3.1, 3.2, 3.3, 3.4, 3.5, 3.6, 3.7, 3.8, 3.9, 4.0, 4.1, 4.2, 4.3, 4.4, 4.5, 4.6, 4.7, 4.8, 4.9, 5.0, 5.1, 5.2, 5.3, 5.4, 5.5, 5.6, 5.7, 5.8, 5.9, 6.0, 6.1, 6.2, 6.3, 6.4, 6.5, 6.6, 6.7, 6.8, 6.9, 7.0, 7.1, 7.2, 7.3, 7.4, 7.5, 7.6, 7.7, 7.8, 7.9, 8.0, 8.1, 8.2, 8.3, 8.4, 8.5, 8.6, 8.7, 8.8, 8.9, 9.0, 9.1, 9.2, 9.3, 9.4, 9.5, 9.6, 9.7, 9.8, 9.9, 10.0, 10.1, 10.2, 10.3, 10.4, 10.5, 10.6, 10.7, 10.8, 10.9], \"xaxis\": \"x2\", \"y\": [0.0, 0.0, 0.0, 0.0, 0.0, 0.0, 0.0, 0.0, 0.0, 0.0, 0.0, 0.0, 0.0, 0.0, 0.0, 0.0, 0.0, 0.0, 0.0, 0.0, 0.0, 0.0, 0.0, 0.0, 0.0, 0.0, 0.0, 0.0, 0.0, 0.0, 0.0, 0.0, 0.0, 0.0, 0.0, 0.0, 0.0, 0.0, 0.0, 0.0, 0.0, 0.0, 0.0, 0.0, 0.0, 0.0, 0.0, 0.0, 0.0, 0.0, 0.0, 0.0, 0.0, 0.0, 0.0, 0.0, 0.0, 0.0, 0.0, 0.0, 0.0, 0.0, 0.0, 0.0, 0.0, 0.0, 0.0, 0.0, 0.0, 0.0, 0.0, 0.0, 0.0, 0.0, 0.0, 0.0, 0.0, 0.0, 0.0, 0.0, 0.0, 0.0, 0.0, 0.0, 0.0, 0.0, 0.0, 0.0, 0.0, 0.0, 0.0, 0.0, 0.0, 0.0, 0.0, 0.0, 0.0, 0.0, 0.0, 0.0, 0.0, 0.0, 0.0, 0.0, 0.0, 0.0, 0.0, 0.0, 0.0, 0.0], \"yaxis\": \"y2\"}],\n",
       "                        {\"autosize\": false, \"font\": {\"color\": \"black\", \"family\": \"Arial\", \"size\": 16}, \"height\": 450, \"legend\": {\"orientation\": \"h\", \"x\": 0.01, \"xanchor\": \"left\", \"y\": 1.15, \"yanchor\": \"top\"}, \"template\": {\"data\": {\"bar\": [{\"error_x\": {\"color\": \"#2a3f5f\"}, \"error_y\": {\"color\": \"#2a3f5f\"}, \"marker\": {\"line\": {\"color\": \"white\", \"width\": 0.5}}, \"type\": \"bar\"}], \"barpolar\": [{\"marker\": {\"line\": {\"color\": \"white\", \"width\": 0.5}}, \"type\": \"barpolar\"}], \"carpet\": [{\"aaxis\": {\"endlinecolor\": \"#2a3f5f\", \"gridcolor\": \"#C8D4E3\", \"linecolor\": \"#C8D4E3\", \"minorgridcolor\": \"#C8D4E3\", \"startlinecolor\": \"#2a3f5f\"}, \"baxis\": {\"endlinecolor\": \"#2a3f5f\", \"gridcolor\": \"#C8D4E3\", \"linecolor\": \"#C8D4E3\", \"minorgridcolor\": \"#C8D4E3\", \"startlinecolor\": \"#2a3f5f\"}, \"type\": \"carpet\"}], \"choropleth\": [{\"colorbar\": {\"outlinewidth\": 0, \"ticks\": \"\"}, \"type\": \"choropleth\"}], \"contour\": [{\"colorbar\": {\"outlinewidth\": 0, \"ticks\": \"\"}, \"colorscale\": [[0.0, \"#0d0887\"], [0.1111111111111111, \"#46039f\"], [0.2222222222222222, \"#7201a8\"], [0.3333333333333333, \"#9c179e\"], [0.4444444444444444, \"#bd3786\"], [0.5555555555555556, \"#d8576b\"], [0.6666666666666666, \"#ed7953\"], [0.7777777777777778, \"#fb9f3a\"], [0.8888888888888888, \"#fdca26\"], [1.0, \"#f0f921\"]], \"type\": \"contour\"}], \"contourcarpet\": [{\"colorbar\": {\"outlinewidth\": 0, \"ticks\": \"\"}, \"type\": \"contourcarpet\"}], \"heatmap\": [{\"colorbar\": {\"outlinewidth\": 0, \"ticks\": \"\"}, \"colorscale\": [[0.0, \"#0d0887\"], [0.1111111111111111, \"#46039f\"], [0.2222222222222222, \"#7201a8\"], [0.3333333333333333, \"#9c179e\"], [0.4444444444444444, \"#bd3786\"], [0.5555555555555556, \"#d8576b\"], [0.6666666666666666, \"#ed7953\"], [0.7777777777777778, \"#fb9f3a\"], [0.8888888888888888, \"#fdca26\"], [1.0, \"#f0f921\"]], \"type\": \"heatmap\"}], \"heatmapgl\": [{\"colorbar\": {\"outlinewidth\": 0, \"ticks\": \"\"}, \"colorscale\": [[0.0, \"#0d0887\"], [0.1111111111111111, \"#46039f\"], [0.2222222222222222, \"#7201a8\"], [0.3333333333333333, \"#9c179e\"], [0.4444444444444444, \"#bd3786\"], [0.5555555555555556, \"#d8576b\"], [0.6666666666666666, \"#ed7953\"], [0.7777777777777778, \"#fb9f3a\"], [0.8888888888888888, \"#fdca26\"], [1.0, \"#f0f921\"]], \"type\": \"heatmapgl\"}], \"histogram\": [{\"marker\": {\"colorbar\": {\"outlinewidth\": 0, \"ticks\": \"\"}}, \"type\": \"histogram\"}], \"histogram2d\": [{\"colorbar\": {\"outlinewidth\": 0, \"ticks\": \"\"}, \"colorscale\": [[0.0, \"#0d0887\"], [0.1111111111111111, \"#46039f\"], [0.2222222222222222, \"#7201a8\"], [0.3333333333333333, \"#9c179e\"], [0.4444444444444444, \"#bd3786\"], [0.5555555555555556, \"#d8576b\"], [0.6666666666666666, \"#ed7953\"], [0.7777777777777778, \"#fb9f3a\"], [0.8888888888888888, \"#fdca26\"], [1.0, \"#f0f921\"]], \"type\": \"histogram2d\"}], \"histogram2dcontour\": [{\"colorbar\": {\"outlinewidth\": 0, \"ticks\": \"\"}, \"colorscale\": [[0.0, \"#0d0887\"], [0.1111111111111111, \"#46039f\"], [0.2222222222222222, \"#7201a8\"], [0.3333333333333333, \"#9c179e\"], [0.4444444444444444, \"#bd3786\"], [0.5555555555555556, \"#d8576b\"], [0.6666666666666666, \"#ed7953\"], [0.7777777777777778, \"#fb9f3a\"], [0.8888888888888888, \"#fdca26\"], [1.0, \"#f0f921\"]], \"type\": \"histogram2dcontour\"}], \"mesh3d\": [{\"colorbar\": {\"outlinewidth\": 0, \"ticks\": \"\"}, \"type\": \"mesh3d\"}], \"parcoords\": [{\"line\": {\"colorbar\": {\"outlinewidth\": 0, \"ticks\": \"\"}}, \"type\": \"parcoords\"}], \"pie\": [{\"automargin\": true, \"type\": \"pie\"}], \"scatter\": [{\"marker\": {\"colorbar\": {\"outlinewidth\": 0, \"ticks\": \"\"}}, \"type\": \"scatter\"}], \"scatter3d\": [{\"line\": {\"colorbar\": {\"outlinewidth\": 0, \"ticks\": \"\"}}, \"marker\": {\"colorbar\": {\"outlinewidth\": 0, \"ticks\": \"\"}}, \"type\": \"scatter3d\"}], \"scattercarpet\": [{\"marker\": {\"colorbar\": {\"outlinewidth\": 0, \"ticks\": \"\"}}, \"type\": \"scattercarpet\"}], \"scattergeo\": [{\"marker\": {\"colorbar\": {\"outlinewidth\": 0, \"ticks\": \"\"}}, \"type\": \"scattergeo\"}], \"scattergl\": [{\"marker\": {\"colorbar\": {\"outlinewidth\": 0, \"ticks\": \"\"}}, \"type\": \"scattergl\"}], \"scattermapbox\": [{\"marker\": {\"colorbar\": {\"outlinewidth\": 0, \"ticks\": \"\"}}, \"type\": \"scattermapbox\"}], \"scatterpolar\": [{\"marker\": {\"colorbar\": {\"outlinewidth\": 0, \"ticks\": \"\"}}, \"type\": \"scatterpolar\"}], \"scatterpolargl\": [{\"marker\": {\"colorbar\": {\"outlinewidth\": 0, \"ticks\": \"\"}}, \"type\": \"scatterpolargl\"}], \"scatterternary\": [{\"marker\": {\"colorbar\": {\"outlinewidth\": 0, \"ticks\": \"\"}}, \"type\": \"scatterternary\"}], \"surface\": [{\"colorbar\": {\"outlinewidth\": 0, \"ticks\": \"\"}, \"colorscale\": [[0.0, \"#0d0887\"], [0.1111111111111111, \"#46039f\"], [0.2222222222222222, \"#7201a8\"], [0.3333333333333333, \"#9c179e\"], [0.4444444444444444, \"#bd3786\"], [0.5555555555555556, \"#d8576b\"], [0.6666666666666666, \"#ed7953\"], [0.7777777777777778, \"#fb9f3a\"], [0.8888888888888888, \"#fdca26\"], [1.0, \"#f0f921\"]], \"type\": \"surface\"}], \"table\": [{\"cells\": {\"fill\": {\"color\": \"#EBF0F8\"}, \"line\": {\"color\": \"white\"}}, \"header\": {\"fill\": {\"color\": \"#C8D4E3\"}, \"line\": {\"color\": \"white\"}}, \"type\": \"table\"}]}, \"layout\": {\"annotationdefaults\": {\"arrowcolor\": \"#2a3f5f\", \"arrowhead\": 0, \"arrowwidth\": 1}, \"coloraxis\": {\"colorbar\": {\"outlinewidth\": 0, \"ticks\": \"\"}}, \"colorscale\": {\"diverging\": [[0, \"#8e0152\"], [0.1, \"#c51b7d\"], [0.2, \"#de77ae\"], [0.3, \"#f1b6da\"], [0.4, \"#fde0ef\"], [0.5, \"#f7f7f7\"], [0.6, \"#e6f5d0\"], [0.7, \"#b8e186\"], [0.8, \"#7fbc41\"], [0.9, \"#4d9221\"], [1, \"#276419\"]], \"sequential\": [[0.0, \"#0d0887\"], [0.1111111111111111, \"#46039f\"], [0.2222222222222222, \"#7201a8\"], [0.3333333333333333, \"#9c179e\"], [0.4444444444444444, \"#bd3786\"], [0.5555555555555556, \"#d8576b\"], [0.6666666666666666, \"#ed7953\"], [0.7777777777777778, \"#fb9f3a\"], [0.8888888888888888, \"#fdca26\"], [1.0, \"#f0f921\"]], \"sequentialminus\": [[0.0, \"#0d0887\"], [0.1111111111111111, \"#46039f\"], [0.2222222222222222, \"#7201a8\"], [0.3333333333333333, \"#9c179e\"], [0.4444444444444444, \"#bd3786\"], [0.5555555555555556, \"#d8576b\"], [0.6666666666666666, \"#ed7953\"], [0.7777777777777778, \"#fb9f3a\"], [0.8888888888888888, \"#fdca26\"], [1.0, \"#f0f921\"]]}, \"colorway\": [\"#636efa\", \"#EF553B\", \"#00cc96\", \"#ab63fa\", \"#FFA15A\", \"#19d3f3\", \"#FF6692\", \"#B6E880\", \"#FF97FF\", \"#FECB52\"], \"font\": {\"color\": \"#2a3f5f\"}, \"geo\": {\"bgcolor\": \"white\", \"lakecolor\": \"white\", \"landcolor\": \"white\", \"showlakes\": true, \"showland\": true, \"subunitcolor\": \"#C8D4E3\"}, \"hoverlabel\": {\"align\": \"left\"}, \"hovermode\": \"closest\", \"mapbox\": {\"style\": \"light\"}, \"paper_bgcolor\": \"white\", \"plot_bgcolor\": \"white\", \"polar\": {\"angularaxis\": {\"gridcolor\": \"#EBF0F8\", \"linecolor\": \"#EBF0F8\", \"ticks\": \"\"}, \"bgcolor\": \"white\", \"radialaxis\": {\"gridcolor\": \"#EBF0F8\", \"linecolor\": \"#EBF0F8\", \"ticks\": \"\"}}, \"scene\": {\"xaxis\": {\"backgroundcolor\": \"white\", \"gridcolor\": \"#DFE8F3\", \"gridwidth\": 2, \"linecolor\": \"#EBF0F8\", \"showbackground\": true, \"ticks\": \"\", \"zerolinecolor\": \"#EBF0F8\"}, \"yaxis\": {\"backgroundcolor\": \"white\", \"gridcolor\": \"#DFE8F3\", \"gridwidth\": 2, \"linecolor\": \"#EBF0F8\", \"showbackground\": true, \"ticks\": \"\", \"zerolinecolor\": \"#EBF0F8\"}, \"zaxis\": {\"backgroundcolor\": \"white\", \"gridcolor\": \"#DFE8F3\", \"gridwidth\": 2, \"linecolor\": \"#EBF0F8\", \"showbackground\": true, \"ticks\": \"\", \"zerolinecolor\": \"#EBF0F8\"}}, \"shapedefaults\": {\"line\": {\"color\": \"#2a3f5f\"}}, \"ternary\": {\"aaxis\": {\"gridcolor\": \"#DFE8F3\", \"linecolor\": \"#A2B1C6\", \"ticks\": \"\"}, \"baxis\": {\"gridcolor\": \"#DFE8F3\", \"linecolor\": \"#A2B1C6\", \"ticks\": \"\"}, \"bgcolor\": \"white\", \"caxis\": {\"gridcolor\": \"#DFE8F3\", \"linecolor\": \"#A2B1C6\", \"ticks\": \"\"}}, \"title\": {\"x\": 0.05}, \"xaxis\": {\"automargin\": true, \"gridcolor\": \"#EBF0F8\", \"linecolor\": \"#EBF0F8\", \"ticks\": \"\", \"title\": {\"standoff\": 15}, \"zerolinecolor\": \"#EBF0F8\", \"zerolinewidth\": 2}, \"yaxis\": {\"automargin\": true, \"gridcolor\": \"#EBF0F8\", \"linecolor\": \"#EBF0F8\", \"ticks\": \"\", \"title\": {\"standoff\": 15}, \"zerolinecolor\": \"#EBF0F8\", \"zerolinewidth\": 2}}}, \"title\": {\"text\": \"Tire Slip Angle & Saturation (locked) Status\"}, \"width\": 800, \"xaxis\": {\"anchor\": \"y\", \"domain\": [0.0, 1.0], \"linecolor\": \"black\", \"linewidth\": 1, \"matches\": \"x2\", \"showgrid\": false, \"showline\": true, \"showticklabels\": false, \"tickcolor\": \"black\", \"ticklen\": 10, \"ticks\": \"outside\", \"tickwidth\": 1, \"title\": {\"text\": \"\"}, \"zeroline\": false}, \"xaxis2\": {\"anchor\": \"y2\", \"domain\": [0.0, 1.0], \"linecolor\": \"black\", \"linewidth\": 1, \"showgrid\": false, \"showline\": true, \"tickcolor\": \"black\", \"ticklen\": 10, \"ticks\": \"outside\", \"tickwidth\": 1, \"title\": {\"text\": \"Time (s)\"}, \"zeroline\": false}, \"yaxis\": {\"anchor\": \"x\", \"domain\": [0.555, 1.0], \"linecolor\": \"black\", \"linewidth\": 1, \"showgrid\": false, \"showline\": true, \"tickcolor\": \"black\", \"ticklen\": 10, \"ticks\": \"outside\", \"tickwidth\": 1, \"title\": {\"text\": \"Slip Angle (degrees)\"}, \"zeroline\": false}, \"yaxis2\": {\"anchor\": \"x2\", \"domain\": [0.0, 0.445], \"linecolor\": \"black\", \"linewidth\": 1, \"showgrid\": false, \"showline\": true, \"tickcolor\": \"black\", \"ticklen\": 10, \"ticks\": \"outside\", \"tickwidth\": 1, \"title\": {\"text\": \"Locked Satus\"}, \"zeroline\": false}},\n",
       "                        {\"responsive\": true}\n",
       "                    ).then(function(){\n",
       "                            \n",
       "var gd = document.getElementById('5c19529b-f8ea-4f65-ba2e-0ba1dc68e57e');\n",
       "var x = new MutationObserver(function (mutations, observer) {{\n",
       "        var display = window.getComputedStyle(gd).display;\n",
       "        if (!display || display === 'none') {{\n",
       "            console.log([gd, 'removed!']);\n",
       "            Plotly.purge(gd);\n",
       "            observer.disconnect();\n",
       "        }}\n",
       "}});\n",
       "\n",
       "// Listen for the removal of the full notebook cells\n",
       "var notebookContainer = gd.closest('#notebook-container');\n",
       "if (notebookContainer) {{\n",
       "    x.observe(notebookContainer, {childList: true});\n",
       "}}\n",
       "\n",
       "// Listen for the clearing of the current output cell\n",
       "var outputEl = gd.closest('.output');\n",
       "if (outputEl) {{\n",
       "    x.observe(outputEl, {childList: true});\n",
       "}}\n",
       "\n",
       "                        })\n",
       "                };\n",
       "                });\n",
       "            </script>\n",
       "        </div>"
      ]
     },
     "metadata": {},
     "output_type": "display_data"
    }
   ],
   "source": [
    "tire_details(run.veh)"
   ]
  },
  {
   "cell_type": "code",
   "execution_count": 136,
   "metadata": {},
   "outputs": [
    {
     "data": {
      "application/vnd.plotly.v1+json": {
       "config": {
        "plotlyServerURL": "https://plot.ly"
       },
       "data": [
        {
         "line": {
          "color": "rgb(0, 0, 255)",
          "dash": "solid",
          "width": 1
         },
         "mode": "lines",
         "name": "LF",
         "type": "scatter",
         "x": [
          0,
          0.1,
          0.2,
          0.3,
          0.4,
          0.5,
          0.6,
          0.7,
          0.8,
          0.9,
          1,
          1.1,
          1.2,
          1.3,
          1.4,
          1.5,
          1.6,
          1.7,
          1.8,
          1.9,
          2,
          2.1,
          2.2,
          2.3,
          2.4,
          2.5,
          2.6,
          2.7,
          2.8,
          2.9,
          3,
          3.1,
          3.2,
          3.3,
          3.4,
          3.5,
          3.6,
          3.7,
          3.8,
          3.9,
          4,
          4.1,
          4.2,
          4.3,
          4.4,
          4.5,
          4.6,
          4.7,
          4.8,
          4.9,
          5,
          5.1,
          5.2,
          5.3,
          5.4,
          5.5,
          5.6,
          5.7,
          5.8,
          5.9,
          6,
          6.1,
          6.2,
          6.3,
          6.4,
          6.5,
          6.6,
          6.7,
          6.8,
          6.9,
          7,
          7.1,
          7.2,
          7.3,
          7.4,
          7.5,
          7.6,
          7.7,
          7.8,
          7.9,
          8,
          8.1,
          8.2,
          8.3,
          8.4,
          8.5,
          8.6,
          8.7,
          8.8,
          8.9,
          9,
          9.1,
          9.2,
          9.3,
          9.4,
          9.5,
          9.6,
          9.7,
          9.8,
          9.9,
          10,
          10.1,
          10.2,
          10.3,
          10.4,
          10.5,
          10.6,
          10.7,
          10.8,
          10.9
         ],
         "y": [
          1056.293396226415,
          1056.293396226415,
          1056.293396226415,
          1056.293396226415,
          1056.293396226415,
          1056.293396226415,
          1056.293396226415,
          1056.293396226415,
          1056.293396226415,
          1056.293396226415,
          1056.293396226415,
          1056.293396226415,
          1012.5542417480158,
          973.8355985194748,
          950.5444337216281,
          934.6903208248397,
          917.5522351901873,
          895.2608478187033,
          867.9069101890275,
          837.3449440519942,
          805.7255131226209,
          774.8988343080445,
          772.0822730015848,
          768.3250787670512,
          754.5641289468612,
          735.6331799897109,
          718.3710505071608,
          706.8326723403604,
          702.1236251958389,
          703.618417284761,
          710.0291517754104,
          719.9989305589479,
          732.3322288008678,
          746.037622235127,
          760.306756797251,
          774.4906905930342,
          788.090374926845,
          800.7554266273005,
          812.2796640691068,
          822.5859850296652,
          831.7001938120844,
          839.718623712721,
          846.7760673221537,
          853.0192105583966,
          858.5881031300463,
          863.6056785636343,
          868.1737428173443,
          872.3732789627793,
          876.2670767524729,
          879.9032101425039,
          883.3184564104861,
          886.5412151788875,
          889.5937945607512,
          892.494100998279,
          895.2568403242417,
          897.8943509645272,
          900.4171760804423,
          902.8344580749808,
          905.1542156057023,
          907.383543930473,
          909.528765017029,
          911.595543954435,
          913.5889818593521,
          915.5136916292981,
          917.373860658726,
          919.1733033393785,
          920.915505388919,
          922.6036615508128,
          924.2407078611188,
          925.829349424454,
          927.3720844509625,
          928.87122516015,
          930.3289160436389,
          931.7471498889581,
          933.1277818948221,
          934.4725421510689,
          935.7830467105402,
          937.0608074432309,
          938.307240833047,
          939.5236758529408,
          940.7113610339129,
          941.8714708265067,
          943.0051113393865,
          944.1133255278077,
          945.1970978948997,
          946.2573587603283,
          947.2949881437886,
          948.3108193047564,
          949.3056419747363,
          950.2802053138236,
          951.2352206195628,
          952.1713638128078,
          953.0892777224203,
          953.9895741881659,
          954.872835999012,
          955.7396186821447,
          956.5904521563612,
          957.4258422620612,
          958.2462721787753,
          959.0522037400466,
          959.8440786544966,
          960.6223196410142,
          961.3873314852458,
          962.1395020238541,
          962.8792030624082,
          963.6067912322159,
          964.3226087909112,
          965.0269843711823,
          965.720233681616,
          966.4026601632964
         ]
        },
        {
         "line": {
          "color": "rgb(0, 255, 0)",
          "dash": "solid",
          "width": 1
         },
         "mode": "lines",
         "name": "RF",
         "type": "scatter",
         "x": [
          0,
          0.1,
          0.2,
          0.3,
          0.4,
          0.5,
          0.6,
          0.7,
          0.8,
          0.9,
          1,
          1.1,
          1.2,
          1.3,
          1.4,
          1.5,
          1.6,
          1.7,
          1.8,
          1.9,
          2,
          2.1,
          2.2,
          2.3,
          2.4,
          2.5,
          2.6,
          2.7,
          2.8,
          2.9,
          3,
          3.1,
          3.2,
          3.3,
          3.4,
          3.5,
          3.6,
          3.7,
          3.8,
          3.9,
          4,
          4.1,
          4.2,
          4.3,
          4.4,
          4.5,
          4.6,
          4.7,
          4.8,
          4.9,
          5,
          5.1,
          5.2,
          5.3,
          5.4,
          5.5,
          5.6,
          5.7,
          5.8,
          5.9,
          6,
          6.1,
          6.2,
          6.3,
          6.4,
          6.5,
          6.6,
          6.7,
          6.8,
          6.9,
          7,
          7.1,
          7.2,
          7.3,
          7.4,
          7.5,
          7.6,
          7.7,
          7.8,
          7.9,
          8,
          8.1,
          8.2,
          8.3,
          8.4,
          8.5,
          8.6,
          8.7,
          8.8,
          8.9,
          9,
          9.1,
          9.2,
          9.3,
          9.4,
          9.5,
          9.6,
          9.7,
          9.8,
          9.9,
          10,
          10.1,
          10.2,
          10.3,
          10.4,
          10.5,
          10.6,
          10.7,
          10.8,
          10.9
         ],
         "y": [
          1056.293396226415,
          1056.293396226415,
          1056.293396226415,
          1056.293396226415,
          1056.293396226415,
          1056.293396226415,
          1056.293396226415,
          1056.293396226415,
          1056.293396226415,
          1056.293396226415,
          1056.293396226415,
          1056.293396226415,
          1101.4296987573882,
          1144.4409725665437,
          1173.4373560463118,
          1195.7054985258187,
          1220.34753902391,
          1251.9548501799788,
          1290.99235753561,
          1335.8757599105604,
          1384.5002190850926,
          1434.917103023644,
          1434.5851323402871,
          1433.5583728769102,
          1446.9509069613086,
          1468.6420409223267,
          1489.291110858213,
          1503.1385873341067,
          1508.4357652013937,
          1505.8689504945296,
          1497.095551034532,
          1483.898812671082,
          1467.8441761355932,
          1450.2076474572023,
          1432.0045661178917,
          1414.0295558226653,
          1396.8794332938542,
          1380.9632665612594,
          1366.513261467171,
          1353.6061360765739,
          1342.1962533574067,
          1332.1552788540437,
          1323.3109187184,
          1315.4787319004067,
          1308.484122666339,
          1302.1745943270425,
          1296.4242271333442,
          1291.1330062433794,
          1286.2234126509404,
          1281.6360565409539,
          1277.3254360394114,
          1273.2563403662846,
          1269.4010442525228,
          1265.7372389645425,
          1262.2465630652837,
          1258.9135827642976,
          1255.725090690345,
          1252.6696212268434,
          1249.7371091916023,
          1246.9186422099815,
          1244.2062746336546,
          1241.592882872908,
          1239.0720497155046,
          1236.6379698681571,
          1234.2853716714396,
          1232.0094515119195,
          1229.805818403518,
          1227.670446824944,
          1225.5996363287902,
          1223.5899767518213,
          1221.638318092107,
          1219.7417442995634,
          1217.8975503674665,
          1216.1032222240183,
          1214.356419011996,
          1212.6549574156888,
          1210.9967977514345,
          1209.3800315840397,
          1207.8028706687248,
          1206.2636370488399,
          1204.7607541648886,
          1203.292738851429,
          1201.8581941159537,
          1200.4558026085535,
          1199.0843207035273,
          1197.7425731245612,
          1196.4294480539577,
          1195.1438926739809,
          1193.884909094833,
          1192.6515506293538,
          1191.4429183792959,
          1190.2581581021707,
          1189.096457331235,
          1187.9570427242968,
          1186.8391776197225,
          1185.742159780404,
          1184.665319308504,
          1183.6080167156213,
          1182.5696411346207,
          1181.5496086607739,
          1180.5473608111133,
          1179.5623630919945,
          1178.5941036658514,
          1177.642092108992,
          1176.7058582530572,
          1175.7849511034608,
          1174.8789378287458,
          1173.987402815338,
          1173.1099467826818,
          1172.246185954188
         ]
        },
        {
         "line": {
          "color": "rgb(153, 0, 204)",
          "dash": "solid",
          "width": 1
         },
         "mode": "lines",
         "name": "RR",
         "type": "scatter",
         "x": [
          0,
          0.1,
          0.2,
          0.3,
          0.4,
          0.5,
          0.6,
          0.7,
          0.8,
          0.9,
          1,
          1.1,
          1.2,
          1.3,
          1.4,
          1.5,
          1.6,
          1.7,
          1.8,
          1.9,
          2,
          2.1,
          2.2,
          2.3,
          2.4,
          2.5,
          2.6,
          2.7,
          2.8,
          2.9,
          3,
          3.1,
          3.2,
          3.3,
          3.4,
          3.5,
          3.6,
          3.7,
          3.8,
          3.9,
          4,
          4.1,
          4.2,
          4.3,
          4.4,
          4.5,
          4.6,
          4.7,
          4.8,
          4.9,
          5,
          5.1,
          5.2,
          5.3,
          5.4,
          5.5,
          5.6,
          5.7,
          5.8,
          5.9,
          6,
          6.1,
          6.2,
          6.3,
          6.4,
          6.5,
          6.6,
          6.7,
          6.8,
          6.9,
          7,
          7.1,
          7.2,
          7.3,
          7.4,
          7.5,
          7.6,
          7.7,
          7.8,
          7.9,
          8,
          8.1,
          8.2,
          8.3,
          8.4,
          8.5,
          8.6,
          8.7,
          8.8,
          8.9,
          9,
          9.1,
          9.2,
          9.3,
          9.4,
          9.5,
          9.6,
          9.7,
          9.8,
          9.9,
          10,
          10.1,
          10.2,
          10.3,
          10.4,
          10.5,
          10.6,
          10.7,
          10.8,
          10.9
         ],
         "y": [
          592.7066037735849,
          592.7066037735849,
          592.7066037735849,
          592.7066037735849,
          592.7066037735849,
          592.7066037735849,
          592.7066037735849,
          592.7066037735849,
          592.7066037735849,
          592.7066037735849,
          592.7066037735849,
          592.7066037735849,
          616.9428965518421,
          637.726697897295,
          649.5438646194943,
          657.0324163217791,
          665.0022563102183,
          675.4660942257296,
          688.2510697010449,
          702.2572775048152,
          716.2679608267042,
          729.2665235143056,
          731.5378653762257,
          734.6958920394746,
          742.4982717539448,
          752.5150964772113,
          761.4579789592505,
          767.4256762103491,
          769.9389538014693,
          769.3354421434341,
          766.2567193739135,
          761.3706093015705,
          755.266769501232,
          748.4390585335193,
          741.295638506467,
          734.1686747689466,
          727.3167389219261,
          720.9235598967645,
          715.0991194179159,
          709.8867653297025,
          705.2763704408567,
          701.2209026259284,
          697.6529564509822,
          694.4985086169208,
          691.6865553222254,
          689.1546035442482,
          686.8508195345203,
          684.7339384675456,
          682.7719599944023,
          680.9403920469377,
          679.2205127136524,
          677.597881061286,
          676.0611683198466,
          674.6012928795218,
          673.2108052009199,
          671.8834612031226,
          670.6139295500797,
          669.3975900698977,
          668.2303924292033,
          667.1087540906659,
          666.0294839772607,
          664.9897233521151,
          663.9868986847323,
          663.0186832490671,
          662.0829653487933,
          661.1778217302701,
          660.3014951424872,
          659.4523752594293,
          658.6289823573156,
          657.8299532680679,
          657.0540292271958,
          656.3000453085206,
          655.5669211960513,
          654.8536530890625,
          654.1593065728377,
          653.4830103166361,
          652.823950483726,
          652.1813657570922,
          651.5545428996245,
          650.9428127800651,
          650.3455468062707,
          649.7621537158889,
          649.1920766816612,
          648.6347906945325,
          648.0898001927503,
          647.5566369093759,
          647.0348579142153,
          646.5240438292432,
          646.0237971992043,
          645.5337410013252,
          645.0535172799952,
          644.5827858939447,
          644.1212233648941,
          643.6685218178968,
          643.2243880046907,
          642.7885424023315,
          642.3607183802083,
          641.9406614292783,
          641.528128447998,
          641.1228870799999,
          640.7247150990589,
          640.3333998373421,
          639.9487376533252,
          639.5705334361083,
          639.1986001431785,
          638.8327583689397,
          638.4728359415816,
          638.1186675460796,
          637.7700943713165,
          637.4269637794976
         ]
        },
        {
         "line": {
          "color": "rgb(255, 102, 0)",
          "dash": "solid",
          "width": 1
         },
         "mode": "lines",
         "name": "LR",
         "type": "scatter",
         "x": [
          0,
          0.1,
          0.2,
          0.3,
          0.4,
          0.5,
          0.6,
          0.7,
          0.8,
          0.9,
          1,
          1.1,
          1.2,
          1.3,
          1.4,
          1.5,
          1.6,
          1.7,
          1.8,
          1.9,
          2,
          2.1,
          2.2,
          2.3,
          2.4,
          2.5,
          2.6,
          2.7,
          2.8,
          2.9,
          3,
          3.1,
          3.2,
          3.3,
          3.4,
          3.5,
          3.6,
          3.7,
          3.8,
          3.9,
          4,
          4.1,
          4.2,
          4.3,
          4.4,
          4.5,
          4.6,
          4.7,
          4.8,
          4.9,
          5,
          5.1,
          5.2,
          5.3,
          5.4,
          5.5,
          5.6,
          5.7,
          5.8,
          5.9,
          6,
          6.1,
          6.2,
          6.3,
          6.4,
          6.5,
          6.6,
          6.7,
          6.8,
          6.9,
          7,
          7.1,
          7.2,
          7.3,
          7.4,
          7.5,
          7.6,
          7.7,
          7.8,
          7.9,
          8,
          8.1,
          8.2,
          8.3,
          8.4,
          8.5,
          8.6,
          8.7,
          8.8,
          8.9,
          9,
          9.1,
          9.2,
          9.3,
          9.4,
          9.5,
          9.6,
          9.7,
          9.8,
          9.9,
          10,
          10.1,
          10.2,
          10.3,
          10.4,
          10.5,
          10.6,
          10.7,
          10.8,
          10.9
         ],
         "y": [
          592.7066037735849,
          592.7066037735849,
          592.7066037735849,
          592.7066037735849,
          592.7066037735849,
          592.7066037735849,
          592.7066037735849,
          592.7066037735849,
          592.7066037735849,
          592.7066037735849,
          592.7066037735849,
          592.7066037735849,
          567.0731629427539,
          541.9967310166865,
          524.4743456125657,
          510.5717643275626,
          495.0979694756846,
          475.31820777558823,
          450.84966257431745,
          422.52201853263,
          391.5063069655825,
          358.9175391540061,
          359.7947292819022,
          361.4206563165641,
          353.9866923378851,
          341.20968261075086,
          328.87985967537577,
          320.6030641151837,
          317.5016558012979,
          319.1771900772752,
          324.6185778161442,
          332.7316474683996,
          342.5568255623067,
          353.3156717741515,
          364.3930385783903,
          375.31107881535377,
          385.71345285737453,
          395.35774691467566,
          404.1079550458063,
          411.92111356405866,
          418.82718238965214,
          424.905194807307,
          430.26005750846406,
          435.003548924276,
          439.24121888138956,
          443.0651235650751,
          446.55121051479136,
          449.7597763262958,
          452.7375506021842,
          455.5203412696043,
          458.13559483644985,
          460.6045633935418,
          462.9439928668792,
          465.16736715765677,
          467.2857914095547,
          469.3086050680525,
          471.2438036791328,
          473.09833062827806,
          474.8782827734923,
          476.5890597688798,
          478.2354763720555,
          479.82184982054196,
          481.352069740411,
          482.8296552534776,
          484.257802321041,
          485.63942341843205,
          486.977181065076,
          488.27351636481376,
          489.5306734527753,
          490.75072055565704,
          491.9355682297346,
          493.0869852317657,
          494.20661239284334,
          495.2959747979611,
          496.3564925203441,
          497.3894901166063,
          498.39620505429923,
          499.377795215637,
          500.33534559860345,
          501.269874318154,
          502.1823379949278,
          503.07363660617557,
          503.94461786299837,
          504.7960811691066,
          505.6287812088223,
          506.4434312057343,
          507.240705888038,
          508.02124419201994,
          508.7856517312267,
          509.5345030554975,
          510.2683437211464,
          510.98769219107686,
          511.69304158145036,
          512.3848612696409,
          513.0635983765748,
          513.7296791351197,
          514.3835101549264,
          515.0254795930392,
          515.6559582386061,
          516.2753005191795,
          516.8838454353314,
          517.4819174296492,
          518.0698271955773,
          518.6478724310456,
          519.2163385413564,
          519.775499295384,
          520.3256174387612,
          520.8669452674002,
          521.3997251643856,
          521.924190103018
         ]
        }
       ],
       "layout": {
        "autosize": false,
        "font": {
         "color": "black",
         "family": "Arial",
         "size": 16
        },
        "height": 450,
        "legend": {
         "orientation": "h",
         "x": 0.01,
         "xanchor": "left",
         "y": 1.15,
         "yanchor": "top"
        },
        "template": {
         "data": {
          "bar": [
           {
            "error_x": {
             "color": "#2a3f5f"
            },
            "error_y": {
             "color": "#2a3f5f"
            },
            "marker": {
             "line": {
              "color": "white",
              "width": 0.5
             }
            },
            "type": "bar"
           }
          ],
          "barpolar": [
           {
            "marker": {
             "line": {
              "color": "white",
              "width": 0.5
             }
            },
            "type": "barpolar"
           }
          ],
          "carpet": [
           {
            "aaxis": {
             "endlinecolor": "#2a3f5f",
             "gridcolor": "#C8D4E3",
             "linecolor": "#C8D4E3",
             "minorgridcolor": "#C8D4E3",
             "startlinecolor": "#2a3f5f"
            },
            "baxis": {
             "endlinecolor": "#2a3f5f",
             "gridcolor": "#C8D4E3",
             "linecolor": "#C8D4E3",
             "minorgridcolor": "#C8D4E3",
             "startlinecolor": "#2a3f5f"
            },
            "type": "carpet"
           }
          ],
          "choropleth": [
           {
            "colorbar": {
             "outlinewidth": 0,
             "ticks": ""
            },
            "type": "choropleth"
           }
          ],
          "contour": [
           {
            "colorbar": {
             "outlinewidth": 0,
             "ticks": ""
            },
            "colorscale": [
             [
              0,
              "#0d0887"
             ],
             [
              0.1111111111111111,
              "#46039f"
             ],
             [
              0.2222222222222222,
              "#7201a8"
             ],
             [
              0.3333333333333333,
              "#9c179e"
             ],
             [
              0.4444444444444444,
              "#bd3786"
             ],
             [
              0.5555555555555556,
              "#d8576b"
             ],
             [
              0.6666666666666666,
              "#ed7953"
             ],
             [
              0.7777777777777778,
              "#fb9f3a"
             ],
             [
              0.8888888888888888,
              "#fdca26"
             ],
             [
              1,
              "#f0f921"
             ]
            ],
            "type": "contour"
           }
          ],
          "contourcarpet": [
           {
            "colorbar": {
             "outlinewidth": 0,
             "ticks": ""
            },
            "type": "contourcarpet"
           }
          ],
          "heatmap": [
           {
            "colorbar": {
             "outlinewidth": 0,
             "ticks": ""
            },
            "colorscale": [
             [
              0,
              "#0d0887"
             ],
             [
              0.1111111111111111,
              "#46039f"
             ],
             [
              0.2222222222222222,
              "#7201a8"
             ],
             [
              0.3333333333333333,
              "#9c179e"
             ],
             [
              0.4444444444444444,
              "#bd3786"
             ],
             [
              0.5555555555555556,
              "#d8576b"
             ],
             [
              0.6666666666666666,
              "#ed7953"
             ],
             [
              0.7777777777777778,
              "#fb9f3a"
             ],
             [
              0.8888888888888888,
              "#fdca26"
             ],
             [
              1,
              "#f0f921"
             ]
            ],
            "type": "heatmap"
           }
          ],
          "heatmapgl": [
           {
            "colorbar": {
             "outlinewidth": 0,
             "ticks": ""
            },
            "colorscale": [
             [
              0,
              "#0d0887"
             ],
             [
              0.1111111111111111,
              "#46039f"
             ],
             [
              0.2222222222222222,
              "#7201a8"
             ],
             [
              0.3333333333333333,
              "#9c179e"
             ],
             [
              0.4444444444444444,
              "#bd3786"
             ],
             [
              0.5555555555555556,
              "#d8576b"
             ],
             [
              0.6666666666666666,
              "#ed7953"
             ],
             [
              0.7777777777777778,
              "#fb9f3a"
             ],
             [
              0.8888888888888888,
              "#fdca26"
             ],
             [
              1,
              "#f0f921"
             ]
            ],
            "type": "heatmapgl"
           }
          ],
          "histogram": [
           {
            "marker": {
             "colorbar": {
              "outlinewidth": 0,
              "ticks": ""
             }
            },
            "type": "histogram"
           }
          ],
          "histogram2d": [
           {
            "colorbar": {
             "outlinewidth": 0,
             "ticks": ""
            },
            "colorscale": [
             [
              0,
              "#0d0887"
             ],
             [
              0.1111111111111111,
              "#46039f"
             ],
             [
              0.2222222222222222,
              "#7201a8"
             ],
             [
              0.3333333333333333,
              "#9c179e"
             ],
             [
              0.4444444444444444,
              "#bd3786"
             ],
             [
              0.5555555555555556,
              "#d8576b"
             ],
             [
              0.6666666666666666,
              "#ed7953"
             ],
             [
              0.7777777777777778,
              "#fb9f3a"
             ],
             [
              0.8888888888888888,
              "#fdca26"
             ],
             [
              1,
              "#f0f921"
             ]
            ],
            "type": "histogram2d"
           }
          ],
          "histogram2dcontour": [
           {
            "colorbar": {
             "outlinewidth": 0,
             "ticks": ""
            },
            "colorscale": [
             [
              0,
              "#0d0887"
             ],
             [
              0.1111111111111111,
              "#46039f"
             ],
             [
              0.2222222222222222,
              "#7201a8"
             ],
             [
              0.3333333333333333,
              "#9c179e"
             ],
             [
              0.4444444444444444,
              "#bd3786"
             ],
             [
              0.5555555555555556,
              "#d8576b"
             ],
             [
              0.6666666666666666,
              "#ed7953"
             ],
             [
              0.7777777777777778,
              "#fb9f3a"
             ],
             [
              0.8888888888888888,
              "#fdca26"
             ],
             [
              1,
              "#f0f921"
             ]
            ],
            "type": "histogram2dcontour"
           }
          ],
          "mesh3d": [
           {
            "colorbar": {
             "outlinewidth": 0,
             "ticks": ""
            },
            "type": "mesh3d"
           }
          ],
          "parcoords": [
           {
            "line": {
             "colorbar": {
              "outlinewidth": 0,
              "ticks": ""
             }
            },
            "type": "parcoords"
           }
          ],
          "pie": [
           {
            "automargin": true,
            "type": "pie"
           }
          ],
          "scatter": [
           {
            "marker": {
             "colorbar": {
              "outlinewidth": 0,
              "ticks": ""
             }
            },
            "type": "scatter"
           }
          ],
          "scatter3d": [
           {
            "line": {
             "colorbar": {
              "outlinewidth": 0,
              "ticks": ""
             }
            },
            "marker": {
             "colorbar": {
              "outlinewidth": 0,
              "ticks": ""
             }
            },
            "type": "scatter3d"
           }
          ],
          "scattercarpet": [
           {
            "marker": {
             "colorbar": {
              "outlinewidth": 0,
              "ticks": ""
             }
            },
            "type": "scattercarpet"
           }
          ],
          "scattergeo": [
           {
            "marker": {
             "colorbar": {
              "outlinewidth": 0,
              "ticks": ""
             }
            },
            "type": "scattergeo"
           }
          ],
          "scattergl": [
           {
            "marker": {
             "colorbar": {
              "outlinewidth": 0,
              "ticks": ""
             }
            },
            "type": "scattergl"
           }
          ],
          "scattermapbox": [
           {
            "marker": {
             "colorbar": {
              "outlinewidth": 0,
              "ticks": ""
             }
            },
            "type": "scattermapbox"
           }
          ],
          "scatterpolar": [
           {
            "marker": {
             "colorbar": {
              "outlinewidth": 0,
              "ticks": ""
             }
            },
            "type": "scatterpolar"
           }
          ],
          "scatterpolargl": [
           {
            "marker": {
             "colorbar": {
              "outlinewidth": 0,
              "ticks": ""
             }
            },
            "type": "scatterpolargl"
           }
          ],
          "scatterternary": [
           {
            "marker": {
             "colorbar": {
              "outlinewidth": 0,
              "ticks": ""
             }
            },
            "type": "scatterternary"
           }
          ],
          "surface": [
           {
            "colorbar": {
             "outlinewidth": 0,
             "ticks": ""
            },
            "colorscale": [
             [
              0,
              "#0d0887"
             ],
             [
              0.1111111111111111,
              "#46039f"
             ],
             [
              0.2222222222222222,
              "#7201a8"
             ],
             [
              0.3333333333333333,
              "#9c179e"
             ],
             [
              0.4444444444444444,
              "#bd3786"
             ],
             [
              0.5555555555555556,
              "#d8576b"
             ],
             [
              0.6666666666666666,
              "#ed7953"
             ],
             [
              0.7777777777777778,
              "#fb9f3a"
             ],
             [
              0.8888888888888888,
              "#fdca26"
             ],
             [
              1,
              "#f0f921"
             ]
            ],
            "type": "surface"
           }
          ],
          "table": [
           {
            "cells": {
             "fill": {
              "color": "#EBF0F8"
             },
             "line": {
              "color": "white"
             }
            },
            "header": {
             "fill": {
              "color": "#C8D4E3"
             },
             "line": {
              "color": "white"
             }
            },
            "type": "table"
           }
          ]
         },
         "layout": {
          "annotationdefaults": {
           "arrowcolor": "#2a3f5f",
           "arrowhead": 0,
           "arrowwidth": 1
          },
          "coloraxis": {
           "colorbar": {
            "outlinewidth": 0,
            "ticks": ""
           }
          },
          "colorscale": {
           "diverging": [
            [
             0,
             "#8e0152"
            ],
            [
             0.1,
             "#c51b7d"
            ],
            [
             0.2,
             "#de77ae"
            ],
            [
             0.3,
             "#f1b6da"
            ],
            [
             0.4,
             "#fde0ef"
            ],
            [
             0.5,
             "#f7f7f7"
            ],
            [
             0.6,
             "#e6f5d0"
            ],
            [
             0.7,
             "#b8e186"
            ],
            [
             0.8,
             "#7fbc41"
            ],
            [
             0.9,
             "#4d9221"
            ],
            [
             1,
             "#276419"
            ]
           ],
           "sequential": [
            [
             0,
             "#0d0887"
            ],
            [
             0.1111111111111111,
             "#46039f"
            ],
            [
             0.2222222222222222,
             "#7201a8"
            ],
            [
             0.3333333333333333,
             "#9c179e"
            ],
            [
             0.4444444444444444,
             "#bd3786"
            ],
            [
             0.5555555555555556,
             "#d8576b"
            ],
            [
             0.6666666666666666,
             "#ed7953"
            ],
            [
             0.7777777777777778,
             "#fb9f3a"
            ],
            [
             0.8888888888888888,
             "#fdca26"
            ],
            [
             1,
             "#f0f921"
            ]
           ],
           "sequentialminus": [
            [
             0,
             "#0d0887"
            ],
            [
             0.1111111111111111,
             "#46039f"
            ],
            [
             0.2222222222222222,
             "#7201a8"
            ],
            [
             0.3333333333333333,
             "#9c179e"
            ],
            [
             0.4444444444444444,
             "#bd3786"
            ],
            [
             0.5555555555555556,
             "#d8576b"
            ],
            [
             0.6666666666666666,
             "#ed7953"
            ],
            [
             0.7777777777777778,
             "#fb9f3a"
            ],
            [
             0.8888888888888888,
             "#fdca26"
            ],
            [
             1,
             "#f0f921"
            ]
           ]
          },
          "colorway": [
           "#636efa",
           "#EF553B",
           "#00cc96",
           "#ab63fa",
           "#FFA15A",
           "#19d3f3",
           "#FF6692",
           "#B6E880",
           "#FF97FF",
           "#FECB52"
          ],
          "font": {
           "color": "#2a3f5f"
          },
          "geo": {
           "bgcolor": "white",
           "lakecolor": "white",
           "landcolor": "white",
           "showlakes": true,
           "showland": true,
           "subunitcolor": "#C8D4E3"
          },
          "hoverlabel": {
           "align": "left"
          },
          "hovermode": "closest",
          "mapbox": {
           "style": "light"
          },
          "paper_bgcolor": "white",
          "plot_bgcolor": "white",
          "polar": {
           "angularaxis": {
            "gridcolor": "#EBF0F8",
            "linecolor": "#EBF0F8",
            "ticks": ""
           },
           "bgcolor": "white",
           "radialaxis": {
            "gridcolor": "#EBF0F8",
            "linecolor": "#EBF0F8",
            "ticks": ""
           }
          },
          "scene": {
           "xaxis": {
            "backgroundcolor": "white",
            "gridcolor": "#DFE8F3",
            "gridwidth": 2,
            "linecolor": "#EBF0F8",
            "showbackground": true,
            "ticks": "",
            "zerolinecolor": "#EBF0F8"
           },
           "yaxis": {
            "backgroundcolor": "white",
            "gridcolor": "#DFE8F3",
            "gridwidth": 2,
            "linecolor": "#EBF0F8",
            "showbackground": true,
            "ticks": "",
            "zerolinecolor": "#EBF0F8"
           },
           "zaxis": {
            "backgroundcolor": "white",
            "gridcolor": "#DFE8F3",
            "gridwidth": 2,
            "linecolor": "#EBF0F8",
            "showbackground": true,
            "ticks": "",
            "zerolinecolor": "#EBF0F8"
           }
          },
          "shapedefaults": {
           "line": {
            "color": "#2a3f5f"
           }
          },
          "ternary": {
           "aaxis": {
            "gridcolor": "#DFE8F3",
            "linecolor": "#A2B1C6",
            "ticks": ""
           },
           "baxis": {
            "gridcolor": "#DFE8F3",
            "linecolor": "#A2B1C6",
            "ticks": ""
           },
           "bgcolor": "white",
           "caxis": {
            "gridcolor": "#DFE8F3",
            "linecolor": "#A2B1C6",
            "ticks": ""
           }
          },
          "title": {
           "x": 0.05
          },
          "xaxis": {
           "automargin": true,
           "gridcolor": "#EBF0F8",
           "linecolor": "#EBF0F8",
           "ticks": "",
           "title": {
            "standoff": 15
           },
           "zerolinecolor": "#EBF0F8",
           "zerolinewidth": 2
          },
          "yaxis": {
           "automargin": true,
           "gridcolor": "#EBF0F8",
           "linecolor": "#EBF0F8",
           "ticks": "",
           "title": {
            "standoff": 15
           },
           "zerolinecolor": "#EBF0F8",
           "zerolinewidth": 2
          }
         }
        },
        "title": {
         "text": "Vertical Tire Forces"
        },
        "width": 800,
        "xaxis": {
         "linecolor": "black",
         "linewidth": 1,
         "showline": true,
         "tickcolor": "black",
         "ticklen": 10,
         "ticks": "outside",
         "tickwidth": 1,
         "title": {
          "text": "Time (s)"
         },
         "zeroline": false
        },
        "yaxis": {
         "linecolor": "black",
         "linewidth": 1,
         "showline": true,
         "tickcolor": "black",
         "ticklen": 10,
         "ticks": "outside",
         "tickwidth": 1,
         "title": {
          "text": "Vertical Force (lb)"
         },
         "zeroline": false
        }
       }
      },
      "text/html": [
       "<div>\n",
       "        \n",
       "        \n",
       "            <div id=\"be86b63b-faea-4932-896a-c4c40fc4bf88\" class=\"plotly-graph-div\" style=\"height:450px; width:800px;\"></div>\n",
       "            <script type=\"text/javascript\">\n",
       "                require([\"plotly\"], function(Plotly) {\n",
       "                    window.PLOTLYENV=window.PLOTLYENV || {};\n",
       "                    \n",
       "                if (document.getElementById(\"be86b63b-faea-4932-896a-c4c40fc4bf88\")) {\n",
       "                    Plotly.newPlot(\n",
       "                        'be86b63b-faea-4932-896a-c4c40fc4bf88',\n",
       "                        [{\"line\": {\"color\": \"rgb(0, 0, 255)\", \"dash\": \"solid\", \"width\": 1}, \"mode\": \"lines\", \"name\": \"LF\", \"type\": \"scatter\", \"x\": [0.0, 0.1, 0.2, 0.3, 0.4, 0.5, 0.6, 0.7, 0.8, 0.9, 1.0, 1.1, 1.2, 1.3, 1.4, 1.5, 1.6, 1.7, 1.8, 1.9, 2.0, 2.1, 2.2, 2.3, 2.4, 2.5, 2.6, 2.7, 2.8, 2.9, 3.0, 3.1, 3.2, 3.3, 3.4, 3.5, 3.6, 3.7, 3.8, 3.9, 4.0, 4.1, 4.2, 4.3, 4.4, 4.5, 4.6, 4.7, 4.8, 4.9, 5.0, 5.1, 5.2, 5.3, 5.4, 5.5, 5.6, 5.7, 5.8, 5.9, 6.0, 6.1, 6.2, 6.3, 6.4, 6.5, 6.6, 6.7, 6.8, 6.9, 7.0, 7.1, 7.2, 7.3, 7.4, 7.5, 7.6, 7.7, 7.8, 7.9, 8.0, 8.1, 8.2, 8.3, 8.4, 8.5, 8.6, 8.7, 8.8, 8.9, 9.0, 9.1, 9.2, 9.3, 9.4, 9.5, 9.6, 9.7, 9.8, 9.9, 10.0, 10.1, 10.2, 10.3, 10.4, 10.5, 10.6, 10.7, 10.8, 10.9], \"y\": [1056.293396226415, 1056.293396226415, 1056.293396226415, 1056.293396226415, 1056.293396226415, 1056.293396226415, 1056.293396226415, 1056.293396226415, 1056.293396226415, 1056.293396226415, 1056.293396226415, 1056.293396226415, 1012.5542417480158, 973.8355985194748, 950.5444337216281, 934.6903208248397, 917.5522351901873, 895.2608478187033, 867.9069101890275, 837.3449440519942, 805.7255131226209, 774.8988343080445, 772.0822730015848, 768.3250787670512, 754.5641289468612, 735.6331799897109, 718.3710505071608, 706.8326723403604, 702.1236251958389, 703.618417284761, 710.0291517754104, 719.9989305589479, 732.3322288008678, 746.037622235127, 760.306756797251, 774.4906905930342, 788.090374926845, 800.7554266273005, 812.2796640691068, 822.5859850296652, 831.7001938120844, 839.718623712721, 846.7760673221537, 853.0192105583966, 858.5881031300463, 863.6056785636343, 868.1737428173443, 872.3732789627793, 876.2670767524729, 879.9032101425039, 883.3184564104861, 886.5412151788875, 889.5937945607512, 892.494100998279, 895.2568403242417, 897.8943509645272, 900.4171760804423, 902.8344580749808, 905.1542156057023, 907.383543930473, 909.528765017029, 911.595543954435, 913.5889818593521, 915.5136916292981, 917.373860658726, 919.1733033393785, 920.915505388919, 922.6036615508128, 924.2407078611188, 925.829349424454, 927.3720844509625, 928.87122516015, 930.3289160436389, 931.7471498889581, 933.1277818948221, 934.4725421510689, 935.7830467105402, 937.0608074432309, 938.307240833047, 939.5236758529408, 940.7113610339129, 941.8714708265067, 943.0051113393865, 944.1133255278077, 945.1970978948997, 946.2573587603283, 947.2949881437886, 948.3108193047564, 949.3056419747363, 950.2802053138236, 951.2352206195628, 952.1713638128078, 953.0892777224203, 953.9895741881659, 954.872835999012, 955.7396186821447, 956.5904521563612, 957.4258422620612, 958.2462721787753, 959.0522037400466, 959.8440786544966, 960.6223196410142, 961.3873314852458, 962.1395020238541, 962.8792030624082, 963.6067912322159, 964.3226087909112, 965.0269843711823, 965.720233681616, 966.4026601632964]}, {\"line\": {\"color\": \"rgb(0, 255, 0)\", \"dash\": \"solid\", \"width\": 1}, \"mode\": \"lines\", \"name\": \"RF\", \"type\": \"scatter\", \"x\": [0.0, 0.1, 0.2, 0.3, 0.4, 0.5, 0.6, 0.7, 0.8, 0.9, 1.0, 1.1, 1.2, 1.3, 1.4, 1.5, 1.6, 1.7, 1.8, 1.9, 2.0, 2.1, 2.2, 2.3, 2.4, 2.5, 2.6, 2.7, 2.8, 2.9, 3.0, 3.1, 3.2, 3.3, 3.4, 3.5, 3.6, 3.7, 3.8, 3.9, 4.0, 4.1, 4.2, 4.3, 4.4, 4.5, 4.6, 4.7, 4.8, 4.9, 5.0, 5.1, 5.2, 5.3, 5.4, 5.5, 5.6, 5.7, 5.8, 5.9, 6.0, 6.1, 6.2, 6.3, 6.4, 6.5, 6.6, 6.7, 6.8, 6.9, 7.0, 7.1, 7.2, 7.3, 7.4, 7.5, 7.6, 7.7, 7.8, 7.9, 8.0, 8.1, 8.2, 8.3, 8.4, 8.5, 8.6, 8.7, 8.8, 8.9, 9.0, 9.1, 9.2, 9.3, 9.4, 9.5, 9.6, 9.7, 9.8, 9.9, 10.0, 10.1, 10.2, 10.3, 10.4, 10.5, 10.6, 10.7, 10.8, 10.9], \"y\": [1056.293396226415, 1056.293396226415, 1056.293396226415, 1056.293396226415, 1056.293396226415, 1056.293396226415, 1056.293396226415, 1056.293396226415, 1056.293396226415, 1056.293396226415, 1056.293396226415, 1056.293396226415, 1101.4296987573882, 1144.4409725665437, 1173.4373560463118, 1195.7054985258187, 1220.34753902391, 1251.9548501799788, 1290.99235753561, 1335.8757599105604, 1384.5002190850926, 1434.917103023644, 1434.5851323402871, 1433.5583728769102, 1446.9509069613086, 1468.6420409223267, 1489.291110858213, 1503.1385873341067, 1508.4357652013937, 1505.8689504945296, 1497.095551034532, 1483.898812671082, 1467.8441761355932, 1450.2076474572023, 1432.0045661178917, 1414.0295558226653, 1396.8794332938542, 1380.9632665612594, 1366.513261467171, 1353.6061360765739, 1342.1962533574067, 1332.1552788540437, 1323.3109187184, 1315.4787319004067, 1308.484122666339, 1302.1745943270425, 1296.4242271333442, 1291.1330062433794, 1286.2234126509404, 1281.6360565409539, 1277.3254360394114, 1273.2563403662846, 1269.4010442525228, 1265.7372389645425, 1262.2465630652837, 1258.9135827642976, 1255.725090690345, 1252.6696212268434, 1249.7371091916023, 1246.9186422099815, 1244.2062746336546, 1241.592882872908, 1239.0720497155046, 1236.6379698681571, 1234.2853716714396, 1232.0094515119195, 1229.805818403518, 1227.670446824944, 1225.5996363287902, 1223.5899767518213, 1221.638318092107, 1219.7417442995634, 1217.8975503674665, 1216.1032222240183, 1214.356419011996, 1212.6549574156888, 1210.9967977514345, 1209.3800315840397, 1207.8028706687248, 1206.2636370488399, 1204.7607541648886, 1203.292738851429, 1201.8581941159537, 1200.4558026085535, 1199.0843207035273, 1197.7425731245612, 1196.4294480539577, 1195.1438926739809, 1193.884909094833, 1192.6515506293538, 1191.4429183792959, 1190.2581581021707, 1189.096457331235, 1187.9570427242968, 1186.8391776197225, 1185.742159780404, 1184.665319308504, 1183.6080167156213, 1182.5696411346207, 1181.5496086607739, 1180.5473608111133, 1179.5623630919945, 1178.5941036658514, 1177.642092108992, 1176.7058582530572, 1175.7849511034608, 1174.8789378287458, 1173.987402815338, 1173.1099467826818, 1172.246185954188]}, {\"line\": {\"color\": \"rgb(153, 0, 204)\", \"dash\": \"solid\", \"width\": 1}, \"mode\": \"lines\", \"name\": \"RR\", \"type\": \"scatter\", \"x\": [0.0, 0.1, 0.2, 0.3, 0.4, 0.5, 0.6, 0.7, 0.8, 0.9, 1.0, 1.1, 1.2, 1.3, 1.4, 1.5, 1.6, 1.7, 1.8, 1.9, 2.0, 2.1, 2.2, 2.3, 2.4, 2.5, 2.6, 2.7, 2.8, 2.9, 3.0, 3.1, 3.2, 3.3, 3.4, 3.5, 3.6, 3.7, 3.8, 3.9, 4.0, 4.1, 4.2, 4.3, 4.4, 4.5, 4.6, 4.7, 4.8, 4.9, 5.0, 5.1, 5.2, 5.3, 5.4, 5.5, 5.6, 5.7, 5.8, 5.9, 6.0, 6.1, 6.2, 6.3, 6.4, 6.5, 6.6, 6.7, 6.8, 6.9, 7.0, 7.1, 7.2, 7.3, 7.4, 7.5, 7.6, 7.7, 7.8, 7.9, 8.0, 8.1, 8.2, 8.3, 8.4, 8.5, 8.6, 8.7, 8.8, 8.9, 9.0, 9.1, 9.2, 9.3, 9.4, 9.5, 9.6, 9.7, 9.8, 9.9, 10.0, 10.1, 10.2, 10.3, 10.4, 10.5, 10.6, 10.7, 10.8, 10.9], \"y\": [592.7066037735849, 592.7066037735849, 592.7066037735849, 592.7066037735849, 592.7066037735849, 592.7066037735849, 592.7066037735849, 592.7066037735849, 592.7066037735849, 592.7066037735849, 592.7066037735849, 592.7066037735849, 616.9428965518421, 637.726697897295, 649.5438646194943, 657.0324163217791, 665.0022563102183, 675.4660942257296, 688.2510697010449, 702.2572775048152, 716.2679608267042, 729.2665235143056, 731.5378653762257, 734.6958920394746, 742.4982717539448, 752.5150964772113, 761.4579789592505, 767.4256762103491, 769.9389538014693, 769.3354421434341, 766.2567193739135, 761.3706093015705, 755.266769501232, 748.4390585335193, 741.295638506467, 734.1686747689466, 727.3167389219261, 720.9235598967645, 715.0991194179159, 709.8867653297025, 705.2763704408567, 701.2209026259284, 697.6529564509822, 694.4985086169208, 691.6865553222254, 689.1546035442482, 686.8508195345203, 684.7339384675456, 682.7719599944023, 680.9403920469377, 679.2205127136524, 677.597881061286, 676.0611683198466, 674.6012928795218, 673.2108052009199, 671.8834612031226, 670.6139295500797, 669.3975900698977, 668.2303924292033, 667.1087540906659, 666.0294839772607, 664.9897233521151, 663.9868986847323, 663.0186832490671, 662.0829653487933, 661.1778217302701, 660.3014951424872, 659.4523752594293, 658.6289823573156, 657.8299532680679, 657.0540292271958, 656.3000453085206, 655.5669211960513, 654.8536530890625, 654.1593065728377, 653.4830103166361, 652.823950483726, 652.1813657570922, 651.5545428996245, 650.9428127800651, 650.3455468062707, 649.7621537158889, 649.1920766816612, 648.6347906945325, 648.0898001927503, 647.5566369093759, 647.0348579142153, 646.5240438292432, 646.0237971992043, 645.5337410013252, 645.0535172799952, 644.5827858939447, 644.1212233648941, 643.6685218178968, 643.2243880046907, 642.7885424023315, 642.3607183802083, 641.9406614292783, 641.528128447998, 641.1228870799999, 640.7247150990589, 640.3333998373421, 639.9487376533252, 639.5705334361083, 639.1986001431785, 638.8327583689397, 638.4728359415816, 638.1186675460796, 637.7700943713165, 637.4269637794976]}, {\"line\": {\"color\": \"rgb(255, 102, 0)\", \"dash\": \"solid\", \"width\": 1}, \"mode\": \"lines\", \"name\": \"LR\", \"type\": \"scatter\", \"x\": [0.0, 0.1, 0.2, 0.3, 0.4, 0.5, 0.6, 0.7, 0.8, 0.9, 1.0, 1.1, 1.2, 1.3, 1.4, 1.5, 1.6, 1.7, 1.8, 1.9, 2.0, 2.1, 2.2, 2.3, 2.4, 2.5, 2.6, 2.7, 2.8, 2.9, 3.0, 3.1, 3.2, 3.3, 3.4, 3.5, 3.6, 3.7, 3.8, 3.9, 4.0, 4.1, 4.2, 4.3, 4.4, 4.5, 4.6, 4.7, 4.8, 4.9, 5.0, 5.1, 5.2, 5.3, 5.4, 5.5, 5.6, 5.7, 5.8, 5.9, 6.0, 6.1, 6.2, 6.3, 6.4, 6.5, 6.6, 6.7, 6.8, 6.9, 7.0, 7.1, 7.2, 7.3, 7.4, 7.5, 7.6, 7.7, 7.8, 7.9, 8.0, 8.1, 8.2, 8.3, 8.4, 8.5, 8.6, 8.7, 8.8, 8.9, 9.0, 9.1, 9.2, 9.3, 9.4, 9.5, 9.6, 9.7, 9.8, 9.9, 10.0, 10.1, 10.2, 10.3, 10.4, 10.5, 10.6, 10.7, 10.8, 10.9], \"y\": [592.7066037735849, 592.7066037735849, 592.7066037735849, 592.7066037735849, 592.7066037735849, 592.7066037735849, 592.7066037735849, 592.7066037735849, 592.7066037735849, 592.7066037735849, 592.7066037735849, 592.7066037735849, 567.0731629427539, 541.9967310166865, 524.4743456125657, 510.5717643275626, 495.0979694756846, 475.31820777558823, 450.84966257431745, 422.52201853263, 391.5063069655825, 358.9175391540061, 359.7947292819022, 361.4206563165641, 353.9866923378851, 341.20968261075086, 328.87985967537577, 320.6030641151837, 317.5016558012979, 319.1771900772752, 324.6185778161442, 332.7316474683996, 342.5568255623067, 353.3156717741515, 364.3930385783903, 375.31107881535377, 385.71345285737453, 395.35774691467566, 404.1079550458063, 411.92111356405866, 418.82718238965214, 424.905194807307, 430.26005750846406, 435.003548924276, 439.24121888138956, 443.0651235650751, 446.55121051479136, 449.7597763262958, 452.7375506021842, 455.5203412696043, 458.13559483644985, 460.6045633935418, 462.9439928668792, 465.16736715765677, 467.2857914095547, 469.3086050680525, 471.2438036791328, 473.09833062827806, 474.8782827734923, 476.5890597688798, 478.2354763720555, 479.82184982054196, 481.352069740411, 482.8296552534776, 484.257802321041, 485.63942341843205, 486.977181065076, 488.27351636481376, 489.5306734527753, 490.75072055565704, 491.9355682297346, 493.0869852317657, 494.20661239284334, 495.2959747979611, 496.3564925203441, 497.3894901166063, 498.39620505429923, 499.377795215637, 500.33534559860345, 501.269874318154, 502.1823379949278, 503.07363660617557, 503.94461786299837, 504.7960811691066, 505.6287812088223, 506.4434312057343, 507.240705888038, 508.02124419201994, 508.7856517312267, 509.5345030554975, 510.2683437211464, 510.98769219107686, 511.69304158145036, 512.3848612696409, 513.0635983765748, 513.7296791351197, 514.3835101549264, 515.0254795930392, 515.6559582386061, 516.2753005191795, 516.8838454353314, 517.4819174296492, 518.0698271955773, 518.6478724310456, 519.2163385413564, 519.775499295384, 520.3256174387612, 520.8669452674002, 521.3997251643856, 521.924190103018]}],\n",
       "                        {\"autosize\": false, \"font\": {\"color\": \"black\", \"family\": \"Arial\", \"size\": 16}, \"height\": 450, \"legend\": {\"orientation\": \"h\", \"x\": 0.01, \"xanchor\": \"left\", \"y\": 1.15, \"yanchor\": \"top\"}, \"template\": {\"data\": {\"bar\": [{\"error_x\": {\"color\": \"#2a3f5f\"}, \"error_y\": {\"color\": \"#2a3f5f\"}, \"marker\": {\"line\": {\"color\": \"white\", \"width\": 0.5}}, \"type\": \"bar\"}], \"barpolar\": [{\"marker\": {\"line\": {\"color\": \"white\", \"width\": 0.5}}, \"type\": \"barpolar\"}], \"carpet\": [{\"aaxis\": {\"endlinecolor\": \"#2a3f5f\", \"gridcolor\": \"#C8D4E3\", \"linecolor\": \"#C8D4E3\", \"minorgridcolor\": \"#C8D4E3\", \"startlinecolor\": \"#2a3f5f\"}, \"baxis\": {\"endlinecolor\": \"#2a3f5f\", \"gridcolor\": \"#C8D4E3\", \"linecolor\": \"#C8D4E3\", \"minorgridcolor\": \"#C8D4E3\", \"startlinecolor\": \"#2a3f5f\"}, \"type\": \"carpet\"}], \"choropleth\": [{\"colorbar\": {\"outlinewidth\": 0, \"ticks\": \"\"}, \"type\": \"choropleth\"}], \"contour\": [{\"colorbar\": {\"outlinewidth\": 0, \"ticks\": \"\"}, \"colorscale\": [[0.0, \"#0d0887\"], [0.1111111111111111, \"#46039f\"], [0.2222222222222222, \"#7201a8\"], [0.3333333333333333, \"#9c179e\"], [0.4444444444444444, \"#bd3786\"], [0.5555555555555556, \"#d8576b\"], [0.6666666666666666, \"#ed7953\"], [0.7777777777777778, \"#fb9f3a\"], [0.8888888888888888, \"#fdca26\"], [1.0, \"#f0f921\"]], \"type\": \"contour\"}], \"contourcarpet\": [{\"colorbar\": {\"outlinewidth\": 0, \"ticks\": \"\"}, \"type\": \"contourcarpet\"}], \"heatmap\": [{\"colorbar\": {\"outlinewidth\": 0, \"ticks\": \"\"}, \"colorscale\": [[0.0, \"#0d0887\"], [0.1111111111111111, \"#46039f\"], [0.2222222222222222, \"#7201a8\"], [0.3333333333333333, \"#9c179e\"], [0.4444444444444444, \"#bd3786\"], [0.5555555555555556, \"#d8576b\"], [0.6666666666666666, \"#ed7953\"], [0.7777777777777778, \"#fb9f3a\"], [0.8888888888888888, \"#fdca26\"], [1.0, \"#f0f921\"]], \"type\": \"heatmap\"}], \"heatmapgl\": [{\"colorbar\": {\"outlinewidth\": 0, \"ticks\": \"\"}, \"colorscale\": [[0.0, \"#0d0887\"], [0.1111111111111111, \"#46039f\"], [0.2222222222222222, \"#7201a8\"], [0.3333333333333333, \"#9c179e\"], [0.4444444444444444, \"#bd3786\"], [0.5555555555555556, \"#d8576b\"], [0.6666666666666666, \"#ed7953\"], [0.7777777777777778, \"#fb9f3a\"], [0.8888888888888888, \"#fdca26\"], [1.0, \"#f0f921\"]], \"type\": \"heatmapgl\"}], \"histogram\": [{\"marker\": {\"colorbar\": {\"outlinewidth\": 0, \"ticks\": \"\"}}, \"type\": \"histogram\"}], \"histogram2d\": [{\"colorbar\": {\"outlinewidth\": 0, \"ticks\": \"\"}, \"colorscale\": [[0.0, \"#0d0887\"], [0.1111111111111111, \"#46039f\"], [0.2222222222222222, \"#7201a8\"], [0.3333333333333333, \"#9c179e\"], [0.4444444444444444, \"#bd3786\"], [0.5555555555555556, \"#d8576b\"], [0.6666666666666666, \"#ed7953\"], [0.7777777777777778, \"#fb9f3a\"], [0.8888888888888888, \"#fdca26\"], [1.0, \"#f0f921\"]], \"type\": \"histogram2d\"}], \"histogram2dcontour\": [{\"colorbar\": {\"outlinewidth\": 0, \"ticks\": \"\"}, \"colorscale\": [[0.0, \"#0d0887\"], [0.1111111111111111, \"#46039f\"], [0.2222222222222222, \"#7201a8\"], [0.3333333333333333, \"#9c179e\"], [0.4444444444444444, \"#bd3786\"], [0.5555555555555556, \"#d8576b\"], [0.6666666666666666, \"#ed7953\"], [0.7777777777777778, \"#fb9f3a\"], [0.8888888888888888, \"#fdca26\"], [1.0, \"#f0f921\"]], \"type\": \"histogram2dcontour\"}], \"mesh3d\": [{\"colorbar\": {\"outlinewidth\": 0, \"ticks\": \"\"}, \"type\": \"mesh3d\"}], \"parcoords\": [{\"line\": {\"colorbar\": {\"outlinewidth\": 0, \"ticks\": \"\"}}, \"type\": \"parcoords\"}], \"pie\": [{\"automargin\": true, \"type\": \"pie\"}], \"scatter\": [{\"marker\": {\"colorbar\": {\"outlinewidth\": 0, \"ticks\": \"\"}}, \"type\": \"scatter\"}], \"scatter3d\": [{\"line\": {\"colorbar\": {\"outlinewidth\": 0, \"ticks\": \"\"}}, \"marker\": {\"colorbar\": {\"outlinewidth\": 0, \"ticks\": \"\"}}, \"type\": \"scatter3d\"}], \"scattercarpet\": [{\"marker\": {\"colorbar\": {\"outlinewidth\": 0, \"ticks\": \"\"}}, \"type\": \"scattercarpet\"}], \"scattergeo\": [{\"marker\": {\"colorbar\": {\"outlinewidth\": 0, \"ticks\": \"\"}}, \"type\": \"scattergeo\"}], \"scattergl\": [{\"marker\": {\"colorbar\": {\"outlinewidth\": 0, \"ticks\": \"\"}}, \"type\": \"scattergl\"}], \"scattermapbox\": [{\"marker\": {\"colorbar\": {\"outlinewidth\": 0, \"ticks\": \"\"}}, \"type\": \"scattermapbox\"}], \"scatterpolar\": [{\"marker\": {\"colorbar\": {\"outlinewidth\": 0, \"ticks\": \"\"}}, \"type\": \"scatterpolar\"}], \"scatterpolargl\": [{\"marker\": {\"colorbar\": {\"outlinewidth\": 0, \"ticks\": \"\"}}, \"type\": \"scatterpolargl\"}], \"scatterternary\": [{\"marker\": {\"colorbar\": {\"outlinewidth\": 0, \"ticks\": \"\"}}, \"type\": \"scatterternary\"}], \"surface\": [{\"colorbar\": {\"outlinewidth\": 0, \"ticks\": \"\"}, \"colorscale\": [[0.0, \"#0d0887\"], [0.1111111111111111, \"#46039f\"], [0.2222222222222222, \"#7201a8\"], [0.3333333333333333, \"#9c179e\"], [0.4444444444444444, \"#bd3786\"], [0.5555555555555556, \"#d8576b\"], [0.6666666666666666, \"#ed7953\"], [0.7777777777777778, \"#fb9f3a\"], [0.8888888888888888, \"#fdca26\"], [1.0, \"#f0f921\"]], \"type\": \"surface\"}], \"table\": [{\"cells\": {\"fill\": {\"color\": \"#EBF0F8\"}, \"line\": {\"color\": \"white\"}}, \"header\": {\"fill\": {\"color\": \"#C8D4E3\"}, \"line\": {\"color\": \"white\"}}, \"type\": \"table\"}]}, \"layout\": {\"annotationdefaults\": {\"arrowcolor\": \"#2a3f5f\", \"arrowhead\": 0, \"arrowwidth\": 1}, \"coloraxis\": {\"colorbar\": {\"outlinewidth\": 0, \"ticks\": \"\"}}, \"colorscale\": {\"diverging\": [[0, \"#8e0152\"], [0.1, \"#c51b7d\"], [0.2, \"#de77ae\"], [0.3, \"#f1b6da\"], [0.4, \"#fde0ef\"], [0.5, \"#f7f7f7\"], [0.6, \"#e6f5d0\"], [0.7, \"#b8e186\"], [0.8, \"#7fbc41\"], [0.9, \"#4d9221\"], [1, \"#276419\"]], \"sequential\": [[0.0, \"#0d0887\"], [0.1111111111111111, \"#46039f\"], [0.2222222222222222, \"#7201a8\"], [0.3333333333333333, \"#9c179e\"], [0.4444444444444444, \"#bd3786\"], [0.5555555555555556, \"#d8576b\"], [0.6666666666666666, \"#ed7953\"], [0.7777777777777778, \"#fb9f3a\"], [0.8888888888888888, \"#fdca26\"], [1.0, \"#f0f921\"]], \"sequentialminus\": [[0.0, \"#0d0887\"], [0.1111111111111111, \"#46039f\"], [0.2222222222222222, \"#7201a8\"], [0.3333333333333333, \"#9c179e\"], [0.4444444444444444, \"#bd3786\"], [0.5555555555555556, \"#d8576b\"], [0.6666666666666666, \"#ed7953\"], [0.7777777777777778, \"#fb9f3a\"], [0.8888888888888888, \"#fdca26\"], [1.0, \"#f0f921\"]]}, \"colorway\": [\"#636efa\", \"#EF553B\", \"#00cc96\", \"#ab63fa\", \"#FFA15A\", \"#19d3f3\", \"#FF6692\", \"#B6E880\", \"#FF97FF\", \"#FECB52\"], \"font\": {\"color\": \"#2a3f5f\"}, \"geo\": {\"bgcolor\": \"white\", \"lakecolor\": \"white\", \"landcolor\": \"white\", \"showlakes\": true, \"showland\": true, \"subunitcolor\": \"#C8D4E3\"}, \"hoverlabel\": {\"align\": \"left\"}, \"hovermode\": \"closest\", \"mapbox\": {\"style\": \"light\"}, \"paper_bgcolor\": \"white\", \"plot_bgcolor\": \"white\", \"polar\": {\"angularaxis\": {\"gridcolor\": \"#EBF0F8\", \"linecolor\": \"#EBF0F8\", \"ticks\": \"\"}, \"bgcolor\": \"white\", \"radialaxis\": {\"gridcolor\": \"#EBF0F8\", \"linecolor\": \"#EBF0F8\", \"ticks\": \"\"}}, \"scene\": {\"xaxis\": {\"backgroundcolor\": \"white\", \"gridcolor\": \"#DFE8F3\", \"gridwidth\": 2, \"linecolor\": \"#EBF0F8\", \"showbackground\": true, \"ticks\": \"\", \"zerolinecolor\": \"#EBF0F8\"}, \"yaxis\": {\"backgroundcolor\": \"white\", \"gridcolor\": \"#DFE8F3\", \"gridwidth\": 2, \"linecolor\": \"#EBF0F8\", \"showbackground\": true, \"ticks\": \"\", \"zerolinecolor\": \"#EBF0F8\"}, \"zaxis\": {\"backgroundcolor\": \"white\", \"gridcolor\": \"#DFE8F3\", \"gridwidth\": 2, \"linecolor\": \"#EBF0F8\", \"showbackground\": true, \"ticks\": \"\", \"zerolinecolor\": \"#EBF0F8\"}}, \"shapedefaults\": {\"line\": {\"color\": \"#2a3f5f\"}}, \"ternary\": {\"aaxis\": {\"gridcolor\": \"#DFE8F3\", \"linecolor\": \"#A2B1C6\", \"ticks\": \"\"}, \"baxis\": {\"gridcolor\": \"#DFE8F3\", \"linecolor\": \"#A2B1C6\", \"ticks\": \"\"}, \"bgcolor\": \"white\", \"caxis\": {\"gridcolor\": \"#DFE8F3\", \"linecolor\": \"#A2B1C6\", \"ticks\": \"\"}}, \"title\": {\"x\": 0.05}, \"xaxis\": {\"automargin\": true, \"gridcolor\": \"#EBF0F8\", \"linecolor\": \"#EBF0F8\", \"ticks\": \"\", \"title\": {\"standoff\": 15}, \"zerolinecolor\": \"#EBF0F8\", \"zerolinewidth\": 2}, \"yaxis\": {\"automargin\": true, \"gridcolor\": \"#EBF0F8\", \"linecolor\": \"#EBF0F8\", \"ticks\": \"\", \"title\": {\"standoff\": 15}, \"zerolinecolor\": \"#EBF0F8\", \"zerolinewidth\": 2}}}, \"title\": {\"text\": \"Vertical Tire Forces\"}, \"width\": 800, \"xaxis\": {\"linecolor\": \"black\", \"linewidth\": 1, \"showline\": true, \"tickcolor\": \"black\", \"ticklen\": 10, \"ticks\": \"outside\", \"tickwidth\": 1, \"title\": {\"text\": \"Time (s)\"}, \"zeroline\": false}, \"yaxis\": {\"linecolor\": \"black\", \"linewidth\": 1, \"showline\": true, \"tickcolor\": \"black\", \"ticklen\": 10, \"ticks\": \"outside\", \"tickwidth\": 1, \"title\": {\"text\": \"Vertical Force (lb)\"}, \"zeroline\": false}},\n",
       "                        {\"responsive\": true}\n",
       "                    ).then(function(){\n",
       "                            \n",
       "var gd = document.getElementById('be86b63b-faea-4932-896a-c4c40fc4bf88');\n",
       "var x = new MutationObserver(function (mutations, observer) {{\n",
       "        var display = window.getComputedStyle(gd).display;\n",
       "        if (!display || display === 'none') {{\n",
       "            console.log([gd, 'removed!']);\n",
       "            Plotly.purge(gd);\n",
       "            observer.disconnect();\n",
       "        }}\n",
       "}});\n",
       "\n",
       "// Listen for the removal of the full notebook cells\n",
       "var notebookContainer = gd.closest('#notebook-container');\n",
       "if (notebookContainer) {{\n",
       "    x.observe(notebookContainer, {childList: true});\n",
       "}}\n",
       "\n",
       "// Listen for the clearing of the current output cell\n",
       "var outputEl = gd.closest('.output');\n",
       "if (outputEl) {{\n",
       "    x.observe(outputEl, {childList: true});\n",
       "}}\n",
       "\n",
       "                        })\n",
       "                };\n",
       "                });\n",
       "            </script>\n",
       "        </div>"
      ]
     },
     "metadata": {},
     "output_type": "display_data"
    }
   ],
   "source": [
    "vertical_forces(run.veh)"
   ]
  },
  {
   "cell_type": "markdown",
   "metadata": {},
   "source": [
    "### Get position data for validation vehicle"
   ]
  },
  {
   "cell_type": "code",
   "execution_count": 127,
   "metadata": {},
   "outputs": [],
   "source": [
    "from pycrash.visualization.cg_motion_compare import cg_motion"
   ]
  },
  {
   "cell_type": "code",
   "execution_count": 129,
   "metadata": {},
   "outputs": [
    {
     "data": {
      "application/vnd.plotly.v1+json": {
       "config": {
        "plotlyServerURL": "https://plot.ly"
       },
       "data": [
        {
         "marker": {
          "color": "rgb(0, 0, 0)",
          "size": 2
         },
         "mode": "markers",
         "name": "pycrash",
         "type": "scatter",
         "x": [
          0,
          2.200005,
          4.40001,
          6.600014999999999,
          8.80002,
          11.000024999999999,
          13.200029999999998,
          15.400034999999997,
          17.60004,
          19.800044999999997,
          22.000049999999995,
          24.199883306641915,
          26.398647979706496,
          28.59425631919966,
          30.78350649900053,
          32.96215722786497,
          35.12452133618328,
          37.26274161140343,
          39.3660339904581,
          41.42010606087569,
          43.40686336733721,
          45.308843151043526,
          47.11479123959617,
          48.81609546085548,
          50.40125400980874,
          51.856129600535986,
          53.16652964291748,
          54.32060561332561,
          55.31018555323981,
          56.131100529072285,
          56.782878958330116,
          57.26814858516978,
          57.59195689233187,
          57.76111389176391,
          57.78360190246181,
          57.668072526056484,
          57.42344234411723,
          57.05859278477174,
          56.58217142109341,
          56.002482726846324,
          55.32744904915887,
          54.56461942384806,
          53.72120510120566,
          52.80412497266867,
          51.82004963321544,
          50.775438006317316,
          49.6765644058568,
          48.52953638749001,
          47.340304961327384,
          46.11466908636031,
          44.858276225176034,
          43.57662038994496,
          42.27503873089424,
          40.95870739050469,
          39.63263709702041,
          38.30166879600836,
          36.970469503319485,
          35.643528489795415,
          34.32515386299085,
          33.019469583467554,
          31.73041293585562,
          30.461732463582386,
          29.216986368473517,
          27.999541370966337,
          26.812572022683863,
          25.659060460158805,
          24.541796586290914,
          23.463378664483603,
          22.426214309201452,
          21.432521855822632,
          20.48433209205647,
          19.583490332799606,
          18.731658820073804,
          17.93031942958996,
          17.180776665492225,
          16.484160924933338,
          15.84143201430101,
          15.25338289914419,
          14.720643670125801,
          14.243685707647375,
          13.822826028144261,
          13.458231795431034,
          13.14992498088181,
          12.897787156654257,
          12.701564406606424,
          12.560872340008567,
          12.475201193615902,
          12.443921008139741,
          12.466286865632338,
          12.541444174782994,
          12.668433991607879,
          12.846198363502504,
          13.073585685112302,
          13.349356054962396,
          13.67218662227123,
          14.040676913853561,
          14.453354131495113,
          14.908678410653852,
          15.40504803181009,
          15.940804576248993,
          16.514238018514437,
          17.12359174822094,
          17.767067514351563,
          18.44283028560247,
          19.14901302075951,
          19.88372134350885,
          20.64503811649037,
          21.431027909801468,
          22.23974135954725,
          23.069219412412465
         ],
         "y": [
          0,
          0,
          0,
          0,
          0,
          0,
          0,
          0,
          0,
          0,
          0,
          -0.004725352360459593,
          -0.02796929319970194,
          -0.08590552038371017,
          -0.19037838890530243,
          -0.3502006669775436,
          -0.5741557742206984,
          -0.872604744462448,
          -1.2573892206581714,
          -1.7406938159420031,
          -2.3334906781450266,
          -3.0413335900519582,
          -3.8615107558508655,
          -4.787861027850789,
          -5.815188856393766,
          -6.9381511852203115,
          -8.149234305864907,
          -9.437968609661622,
          -10.791352912391758,
          -12.194835768903,
          -13.63334093131126,
          -15.092097267633513,
          -16.557215527770925,
          -18.016034625902368,
          -19.457282400786927,
          -20.87109639209251,
          -22.248946548501007,
          -23.583498267367393,
          -24.86844963518942,
          -26.09836984848724,
          -27.268556893223778,
          -28.374923333608542,
          -29.413911362705516,
          -30.38243321016818,
          -31.277830702208526,
          -32.09784761021356,
          -32.84060951297319,
          -33.504607429385196,
          -34.08868292018562,
          -34.59201345862476,
          -35.01409758721238,
          -35.35473977633671,
          -35.61403508032997,
          -35.792353738055084,
          -35.890325853937675,
          -35.90882626184252,
          -35.848959639295025,
          -35.712045911914444,
          -35.49960596934236,
          -35.213347703056236,
          -34.855152370939344,
          -34.42706129118343,
          -33.93126286745922,
          -33.37007994734004,
          -32.74595751620212,
          -32.06145072903331,
          -31.31921328268549,
          -30.521986131095186,
          -29.672586545882385,
          -28.773897524536096,
          -27.82885754812423,
          -26.84045069013838,
          -25.811697077715188,
          -24.74564370607446,
          -23.645355606589124,
          -22.513907368461663,
          -21.354375013530404,
          -20.16982822327472,
          -18.96332291663324,
          -17.73789417679901,
          -16.496549524712975,
          -15.242262536543985,
          -13.9779668020238,
          -12.706550220098931,
          -11.430849627970868,
          -10.153645759221934,
          -8.877658526368448,
          -7.605542622844196,
          -6.339883439098456,
          -5.083193287192771,
          -3.8379079279994697,
          -2.6063833948443036,
          -1.3908931071927895,
          -0.19362526775741729,
          0.9833194638008731,
          2.137930027589011,
          3.2682867577937937,
          4.372562921916659,
          5.44902601238867,
          6.496038798136684,
          7.51206014376874,
          8.495645604126421,
          9.445447802017203,
          10.36021659698864,
          11.238799053040799,
          12.080139213193902,
          12.883277688834184,
          13.64735107175495,
          14.371591176790403,
          15.055324122908583
         ]
        },
        {
         "marker": {
          "color": "rgb(0, 0, 256)",
          "size": 2
         },
         "mode": "markers",
         "name": "validate",
         "type": "scatter",
         "x": [
          0,
          2.200005,
          4.40001,
          6.600014999999999,
          8.80002,
          11.000024999999999,
          13.200029999999998,
          15.400034999999997,
          17.60004,
          19.800044999999997,
          22.000049999999995,
          24.200054999999995,
          26.398593329999994,
          28.591264979999995,
          30.77220326999999,
          32.932608179999995,
          35.060013014999996,
          37.13828440499999,
          39.14688896999999,
          41.06235998999999,
          42.859030739999994,
          44.514167834999995,
          46.014571245,
          47.352907619999996,
          48.522576945,
          49.518445875,
          50.336847735,
          50.97558252,
          51.433916895,
          51.713317530000005,
          51.81671776500001,
          51.74778427500001,
          51.511650405000005,
          51.11491617000001,
          50.565648255000006,
          49.87264668,
          49.044711465,
          48.09064263,
          47.0214402,
          45.8481042,
          44.58090132,
          43.23229825500001,
          41.814028365000006,
          40.33709167500001,
          38.813221545000005,
          37.25415133500001,
          35.671614405000014,
          34.07661078,
          32.47940715000001,
          30.89100354,
          29.322399975000007,
          27.783129810000013,
          26.282726400000005,
          24.82998976500001,
          23.432986590000002,
          22.099783560000006,
          20.83771402500001,
          19.653378000000004,
          18.55190883000001,
          17.538439860000004,
          16.618837770000006,
          15.796769235000008,
          15.075167595000005,
          14.456966190000008,
          13.944365025000005,
          13.538830770000006,
          13.240363425000007,
          13.049696325000006,
          12.966829470000008,
          12.990296190000008,
          13.118629815000007,
          13.350363675000006,
          13.682564430000008,
          14.112298740000007,
          14.63663326500001,
          15.251167995000007,
          15.951502920000005,
          16.73323803000001,
          17.591239980000008,
          18.52037542500001,
          19.51624435500001,
          20.572980090000005,
          21.683982615,
          22.84338525000002,
          24.045321315000013,
          25.28392413000001,
          26.552593680000005,
          27.84472995,
          29.15446626000002,
          30.475935930000016,
          31.802538945000013,
          33.127675290000006,
          34.445478285,
          35.750814585000015,
          37.03781751000001,
          38.300620380000005,
          39.53408985,
          40.732359239999994,
          41.89029520500001,
          43.00423107,
          44.069766825,
          45.08250246,
          46.0387713,
          46.93417333500001,
          47.765775225000006,
          48.531376965,
          49.228045214999995,
          49.85284663499999,
          50.404314555,
          50.880982304999996
         ],
         "y": [
          0,
          0,
          0,
          0,
          0,
          0,
          0,
          0,
          0,
          0,
          0,
          -0.008800020000000007,
          -0.047666774999999946,
          -0.14080032000000003,
          -0.3109340399999998,
          -0.58080132,
          -0.9716688750000002,
          -1.5011367449999995,
          -2.18240496,
          -3.0242735399999985,
          -4.03040916,
          -5.195678475,
          -6.5061481200000015,
          -7.944218054999997,
          -9.492288239999999,
          -11.1320253,
          -12.844362525000001,
          -14.610966540000003,
          -16.413503969999997,
          -18.23364144,
          -20.054512245,
          -21.860716350000004,
          -23.636853720000005,
          -25.368257654999997,
          -27.04246146,
          -28.64699844,
          -30.170135235000004,
          -31.602338490000005,
          -32.93407485,
          -34.15727763,
          -35.26608015000001,
          -36.253882395000005,
          -37.11628435500001,
          -37.85035269000001,
          -38.45242072500001,
          -38.92102179000001,
          -39.25542255000001,
          -39.455623005000014,
          -39.52382316000001,
          -39.46148968500001,
          -39.27082258500001,
          -38.956221870000014,
          -38.52135421500001,
          -37.97061963000001,
          -37.309884795,
          -36.54501639000001,
          -35.68188109500001,
          -34.72781226,
          -33.690143235,
          -32.57547403499999,
          -31.391871344999995,
          -30.147401849999998,
          -28.85013223499999,
          -27.508129184999994,
          -26.129459384999986,
          -24.722922854999993,
          -23.29658628,
          -21.85778300999999,
          -20.414579729999996,
          -18.975776459999988,
          -17.54870654999999,
          -16.140703349999995,
          -14.759100209999989,
          -13.410497144999994,
          -12.101494169999986,
          -10.83869129999999,
          -9.627955214999995,
          -8.474419259999989,
          -7.383950114999992,
          -6.360947789999987,
          -5.40907895999999,
          -4.532743634999993,
          -3.735608489999996,
          -3.020606864999986,
          -2.3899387649999886,
          -1.8458041949999906,
          -1.3904031599999922,
          -1.0244689949999937,
          -0.7487350349999897,
          -0.5639346149999904,
          -0.46933439999999077,
          -0.46493438999999076,
          -0.5500012499999904,
          -0.7230683099999928,
          -0.982668899999992,
          -1.3266030149999908,
          -1.7526706499999891,
          -2.257938464999987,
          -2.8394731199999956,
          -3.4943412749999934,
          -4.218876254999991,
          -5.0094113849999875,
          -5.862279989999984,
          -6.7730820599999975,
          -7.737417584999994,
          -8.75015321999999,
          -9.806888954999987,
          -10.903224779999983,
          -12.034027349999999,
          -13.194896654999994
         ]
        }
       ],
       "layout": {
        "autosize": false,
        "font": {
         "color": "black",
         "family": "Arial",
         "size": 16
        },
        "height": 900,
        "showlegend": false,
        "template": {
         "data": {
          "bar": [
           {
            "error_x": {
             "color": "#2a3f5f"
            },
            "error_y": {
             "color": "#2a3f5f"
            },
            "marker": {
             "line": {
              "color": "white",
              "width": 0.5
             }
            },
            "type": "bar"
           }
          ],
          "barpolar": [
           {
            "marker": {
             "line": {
              "color": "white",
              "width": 0.5
             }
            },
            "type": "barpolar"
           }
          ],
          "carpet": [
           {
            "aaxis": {
             "endlinecolor": "#2a3f5f",
             "gridcolor": "#C8D4E3",
             "linecolor": "#C8D4E3",
             "minorgridcolor": "#C8D4E3",
             "startlinecolor": "#2a3f5f"
            },
            "baxis": {
             "endlinecolor": "#2a3f5f",
             "gridcolor": "#C8D4E3",
             "linecolor": "#C8D4E3",
             "minorgridcolor": "#C8D4E3",
             "startlinecolor": "#2a3f5f"
            },
            "type": "carpet"
           }
          ],
          "choropleth": [
           {
            "colorbar": {
             "outlinewidth": 0,
             "ticks": ""
            },
            "type": "choropleth"
           }
          ],
          "contour": [
           {
            "colorbar": {
             "outlinewidth": 0,
             "ticks": ""
            },
            "colorscale": [
             [
              0,
              "#0d0887"
             ],
             [
              0.1111111111111111,
              "#46039f"
             ],
             [
              0.2222222222222222,
              "#7201a8"
             ],
             [
              0.3333333333333333,
              "#9c179e"
             ],
             [
              0.4444444444444444,
              "#bd3786"
             ],
             [
              0.5555555555555556,
              "#d8576b"
             ],
             [
              0.6666666666666666,
              "#ed7953"
             ],
             [
              0.7777777777777778,
              "#fb9f3a"
             ],
             [
              0.8888888888888888,
              "#fdca26"
             ],
             [
              1,
              "#f0f921"
             ]
            ],
            "type": "contour"
           }
          ],
          "contourcarpet": [
           {
            "colorbar": {
             "outlinewidth": 0,
             "ticks": ""
            },
            "type": "contourcarpet"
           }
          ],
          "heatmap": [
           {
            "colorbar": {
             "outlinewidth": 0,
             "ticks": ""
            },
            "colorscale": [
             [
              0,
              "#0d0887"
             ],
             [
              0.1111111111111111,
              "#46039f"
             ],
             [
              0.2222222222222222,
              "#7201a8"
             ],
             [
              0.3333333333333333,
              "#9c179e"
             ],
             [
              0.4444444444444444,
              "#bd3786"
             ],
             [
              0.5555555555555556,
              "#d8576b"
             ],
             [
              0.6666666666666666,
              "#ed7953"
             ],
             [
              0.7777777777777778,
              "#fb9f3a"
             ],
             [
              0.8888888888888888,
              "#fdca26"
             ],
             [
              1,
              "#f0f921"
             ]
            ],
            "type": "heatmap"
           }
          ],
          "heatmapgl": [
           {
            "colorbar": {
             "outlinewidth": 0,
             "ticks": ""
            },
            "colorscale": [
             [
              0,
              "#0d0887"
             ],
             [
              0.1111111111111111,
              "#46039f"
             ],
             [
              0.2222222222222222,
              "#7201a8"
             ],
             [
              0.3333333333333333,
              "#9c179e"
             ],
             [
              0.4444444444444444,
              "#bd3786"
             ],
             [
              0.5555555555555556,
              "#d8576b"
             ],
             [
              0.6666666666666666,
              "#ed7953"
             ],
             [
              0.7777777777777778,
              "#fb9f3a"
             ],
             [
              0.8888888888888888,
              "#fdca26"
             ],
             [
              1,
              "#f0f921"
             ]
            ],
            "type": "heatmapgl"
           }
          ],
          "histogram": [
           {
            "marker": {
             "colorbar": {
              "outlinewidth": 0,
              "ticks": ""
             }
            },
            "type": "histogram"
           }
          ],
          "histogram2d": [
           {
            "colorbar": {
             "outlinewidth": 0,
             "ticks": ""
            },
            "colorscale": [
             [
              0,
              "#0d0887"
             ],
             [
              0.1111111111111111,
              "#46039f"
             ],
             [
              0.2222222222222222,
              "#7201a8"
             ],
             [
              0.3333333333333333,
              "#9c179e"
             ],
             [
              0.4444444444444444,
              "#bd3786"
             ],
             [
              0.5555555555555556,
              "#d8576b"
             ],
             [
              0.6666666666666666,
              "#ed7953"
             ],
             [
              0.7777777777777778,
              "#fb9f3a"
             ],
             [
              0.8888888888888888,
              "#fdca26"
             ],
             [
              1,
              "#f0f921"
             ]
            ],
            "type": "histogram2d"
           }
          ],
          "histogram2dcontour": [
           {
            "colorbar": {
             "outlinewidth": 0,
             "ticks": ""
            },
            "colorscale": [
             [
              0,
              "#0d0887"
             ],
             [
              0.1111111111111111,
              "#46039f"
             ],
             [
              0.2222222222222222,
              "#7201a8"
             ],
             [
              0.3333333333333333,
              "#9c179e"
             ],
             [
              0.4444444444444444,
              "#bd3786"
             ],
             [
              0.5555555555555556,
              "#d8576b"
             ],
             [
              0.6666666666666666,
              "#ed7953"
             ],
             [
              0.7777777777777778,
              "#fb9f3a"
             ],
             [
              0.8888888888888888,
              "#fdca26"
             ],
             [
              1,
              "#f0f921"
             ]
            ],
            "type": "histogram2dcontour"
           }
          ],
          "mesh3d": [
           {
            "colorbar": {
             "outlinewidth": 0,
             "ticks": ""
            },
            "type": "mesh3d"
           }
          ],
          "parcoords": [
           {
            "line": {
             "colorbar": {
              "outlinewidth": 0,
              "ticks": ""
             }
            },
            "type": "parcoords"
           }
          ],
          "pie": [
           {
            "automargin": true,
            "type": "pie"
           }
          ],
          "scatter": [
           {
            "marker": {
             "colorbar": {
              "outlinewidth": 0,
              "ticks": ""
             }
            },
            "type": "scatter"
           }
          ],
          "scatter3d": [
           {
            "line": {
             "colorbar": {
              "outlinewidth": 0,
              "ticks": ""
             }
            },
            "marker": {
             "colorbar": {
              "outlinewidth": 0,
              "ticks": ""
             }
            },
            "type": "scatter3d"
           }
          ],
          "scattercarpet": [
           {
            "marker": {
             "colorbar": {
              "outlinewidth": 0,
              "ticks": ""
             }
            },
            "type": "scattercarpet"
           }
          ],
          "scattergeo": [
           {
            "marker": {
             "colorbar": {
              "outlinewidth": 0,
              "ticks": ""
             }
            },
            "type": "scattergeo"
           }
          ],
          "scattergl": [
           {
            "marker": {
             "colorbar": {
              "outlinewidth": 0,
              "ticks": ""
             }
            },
            "type": "scattergl"
           }
          ],
          "scattermapbox": [
           {
            "marker": {
             "colorbar": {
              "outlinewidth": 0,
              "ticks": ""
             }
            },
            "type": "scattermapbox"
           }
          ],
          "scatterpolar": [
           {
            "marker": {
             "colorbar": {
              "outlinewidth": 0,
              "ticks": ""
             }
            },
            "type": "scatterpolar"
           }
          ],
          "scatterpolargl": [
           {
            "marker": {
             "colorbar": {
              "outlinewidth": 0,
              "ticks": ""
             }
            },
            "type": "scatterpolargl"
           }
          ],
          "scatterternary": [
           {
            "marker": {
             "colorbar": {
              "outlinewidth": 0,
              "ticks": ""
             }
            },
            "type": "scatterternary"
           }
          ],
          "surface": [
           {
            "colorbar": {
             "outlinewidth": 0,
             "ticks": ""
            },
            "colorscale": [
             [
              0,
              "#0d0887"
             ],
             [
              0.1111111111111111,
              "#46039f"
             ],
             [
              0.2222222222222222,
              "#7201a8"
             ],
             [
              0.3333333333333333,
              "#9c179e"
             ],
             [
              0.4444444444444444,
              "#bd3786"
             ],
             [
              0.5555555555555556,
              "#d8576b"
             ],
             [
              0.6666666666666666,
              "#ed7953"
             ],
             [
              0.7777777777777778,
              "#fb9f3a"
             ],
             [
              0.8888888888888888,
              "#fdca26"
             ],
             [
              1,
              "#f0f921"
             ]
            ],
            "type": "surface"
           }
          ],
          "table": [
           {
            "cells": {
             "fill": {
              "color": "#EBF0F8"
             },
             "line": {
              "color": "white"
             }
            },
            "header": {
             "fill": {
              "color": "#C8D4E3"
             },
             "line": {
              "color": "white"
             }
            },
            "type": "table"
           }
          ]
         },
         "layout": {
          "annotationdefaults": {
           "arrowcolor": "#2a3f5f",
           "arrowhead": 0,
           "arrowwidth": 1
          },
          "coloraxis": {
           "colorbar": {
            "outlinewidth": 0,
            "ticks": ""
           }
          },
          "colorscale": {
           "diverging": [
            [
             0,
             "#8e0152"
            ],
            [
             0.1,
             "#c51b7d"
            ],
            [
             0.2,
             "#de77ae"
            ],
            [
             0.3,
             "#f1b6da"
            ],
            [
             0.4,
             "#fde0ef"
            ],
            [
             0.5,
             "#f7f7f7"
            ],
            [
             0.6,
             "#e6f5d0"
            ],
            [
             0.7,
             "#b8e186"
            ],
            [
             0.8,
             "#7fbc41"
            ],
            [
             0.9,
             "#4d9221"
            ],
            [
             1,
             "#276419"
            ]
           ],
           "sequential": [
            [
             0,
             "#0d0887"
            ],
            [
             0.1111111111111111,
             "#46039f"
            ],
            [
             0.2222222222222222,
             "#7201a8"
            ],
            [
             0.3333333333333333,
             "#9c179e"
            ],
            [
             0.4444444444444444,
             "#bd3786"
            ],
            [
             0.5555555555555556,
             "#d8576b"
            ],
            [
             0.6666666666666666,
             "#ed7953"
            ],
            [
             0.7777777777777778,
             "#fb9f3a"
            ],
            [
             0.8888888888888888,
             "#fdca26"
            ],
            [
             1,
             "#f0f921"
            ]
           ],
           "sequentialminus": [
            [
             0,
             "#0d0887"
            ],
            [
             0.1111111111111111,
             "#46039f"
            ],
            [
             0.2222222222222222,
             "#7201a8"
            ],
            [
             0.3333333333333333,
             "#9c179e"
            ],
            [
             0.4444444444444444,
             "#bd3786"
            ],
            [
             0.5555555555555556,
             "#d8576b"
            ],
            [
             0.6666666666666666,
             "#ed7953"
            ],
            [
             0.7777777777777778,
             "#fb9f3a"
            ],
            [
             0.8888888888888888,
             "#fdca26"
            ],
            [
             1,
             "#f0f921"
            ]
           ]
          },
          "colorway": [
           "#636efa",
           "#EF553B",
           "#00cc96",
           "#ab63fa",
           "#FFA15A",
           "#19d3f3",
           "#FF6692",
           "#B6E880",
           "#FF97FF",
           "#FECB52"
          ],
          "font": {
           "color": "#2a3f5f"
          },
          "geo": {
           "bgcolor": "white",
           "lakecolor": "white",
           "landcolor": "white",
           "showlakes": true,
           "showland": true,
           "subunitcolor": "#C8D4E3"
          },
          "hoverlabel": {
           "align": "left"
          },
          "hovermode": "closest",
          "mapbox": {
           "style": "light"
          },
          "paper_bgcolor": "white",
          "plot_bgcolor": "white",
          "polar": {
           "angularaxis": {
            "gridcolor": "#EBF0F8",
            "linecolor": "#EBF0F8",
            "ticks": ""
           },
           "bgcolor": "white",
           "radialaxis": {
            "gridcolor": "#EBF0F8",
            "linecolor": "#EBF0F8",
            "ticks": ""
           }
          },
          "scene": {
           "xaxis": {
            "backgroundcolor": "white",
            "gridcolor": "#DFE8F3",
            "gridwidth": 2,
            "linecolor": "#EBF0F8",
            "showbackground": true,
            "ticks": "",
            "zerolinecolor": "#EBF0F8"
           },
           "yaxis": {
            "backgroundcolor": "white",
            "gridcolor": "#DFE8F3",
            "gridwidth": 2,
            "linecolor": "#EBF0F8",
            "showbackground": true,
            "ticks": "",
            "zerolinecolor": "#EBF0F8"
           },
           "zaxis": {
            "backgroundcolor": "white",
            "gridcolor": "#DFE8F3",
            "gridwidth": 2,
            "linecolor": "#EBF0F8",
            "showbackground": true,
            "ticks": "",
            "zerolinecolor": "#EBF0F8"
           }
          },
          "shapedefaults": {
           "line": {
            "color": "#2a3f5f"
           }
          },
          "ternary": {
           "aaxis": {
            "gridcolor": "#DFE8F3",
            "linecolor": "#A2B1C6",
            "ticks": ""
           },
           "baxis": {
            "gridcolor": "#DFE8F3",
            "linecolor": "#A2B1C6",
            "ticks": ""
           },
           "bgcolor": "white",
           "caxis": {
            "gridcolor": "#DFE8F3",
            "linecolor": "#A2B1C6",
            "ticks": ""
           }
          },
          "title": {
           "x": 0.05
          },
          "xaxis": {
           "automargin": true,
           "gridcolor": "#EBF0F8",
           "linecolor": "#EBF0F8",
           "ticks": "",
           "title": {
            "standoff": 15
           },
           "zerolinecolor": "#EBF0F8",
           "zerolinewidth": 2
          },
          "yaxis": {
           "automargin": true,
           "gridcolor": "#EBF0F8",
           "linecolor": "#EBF0F8",
           "ticks": "",
           "title": {
            "standoff": 15
           },
           "zerolinecolor": "#EBF0F8",
           "zerolinewidth": 2
          }
         }
        },
        "title": {
         "text": "Vehicle Motion in Global Reference Frame"
        },
        "width": 900,
        "xaxis": {
         "linecolor": "black",
         "linewidth": 1,
         "showgrid": false,
         "showline": true,
         "tickcolor": "black",
         "ticklen": 10,
         "ticks": "outside",
         "tickwidth": 1,
         "title": {
          "text": "x-axis - Forward (ft)"
         },
         "zeroline": false
        },
        "yaxis": {
         "autorange": "reversed",
         "linecolor": "black",
         "linewidth": 1,
         "showgrid": false,
         "showline": true,
         "tickcolor": "black",
         "ticklen": 10,
         "ticks": "outside",
         "tickwidth": 1,
         "title": {
          "text": "y-axis - Rightward (ft)"
         },
         "zeroline": false
        }
       }
      },
      "text/html": [
       "<div>\n",
       "        \n",
       "        \n",
       "            <div id=\"6dd6b4af-717f-45a0-a156-f2d5b522e3f7\" class=\"plotly-graph-div\" style=\"height:900px; width:900px;\"></div>\n",
       "            <script type=\"text/javascript\">\n",
       "                require([\"plotly\"], function(Plotly) {\n",
       "                    window.PLOTLYENV=window.PLOTLYENV || {};\n",
       "                    \n",
       "                if (document.getElementById(\"6dd6b4af-717f-45a0-a156-f2d5b522e3f7\")) {\n",
       "                    Plotly.newPlot(\n",
       "                        '6dd6b4af-717f-45a0-a156-f2d5b522e3f7',\n",
       "                        [{\"marker\": {\"color\": \"rgb(0, 0, 0)\", \"size\": 2}, \"mode\": \"markers\", \"name\": \"pycrash\", \"type\": \"scatter\", \"x\": [0.0, 2.200005, 4.40001, 6.600014999999999, 8.80002, 11.000024999999999, 13.200029999999998, 15.400034999999997, 17.60004, 19.800044999999997, 22.000049999999995, 24.199883306641915, 26.398647979706496, 28.59425631919966, 30.78350649900053, 32.96215722786497, 35.12452133618328, 37.26274161140343, 39.3660339904581, 41.42010606087569, 43.40686336733721, 45.308843151043526, 47.11479123959617, 48.81609546085548, 50.40125400980874, 51.856129600535986, 53.16652964291748, 54.32060561332561, 55.31018555323981, 56.131100529072285, 56.782878958330116, 57.26814858516978, 57.59195689233187, 57.76111389176391, 57.78360190246181, 57.668072526056484, 57.42344234411723, 57.05859278477174, 56.58217142109341, 56.002482726846324, 55.32744904915887, 54.56461942384806, 53.72120510120566, 52.80412497266867, 51.82004963321544, 50.775438006317316, 49.6765644058568, 48.52953638749001, 47.340304961327384, 46.11466908636031, 44.858276225176034, 43.57662038994496, 42.27503873089424, 40.95870739050469, 39.63263709702041, 38.30166879600836, 36.970469503319485, 35.643528489795415, 34.32515386299085, 33.019469583467554, 31.73041293585562, 30.461732463582386, 29.216986368473517, 27.999541370966337, 26.812572022683863, 25.659060460158805, 24.541796586290914, 23.463378664483603, 22.426214309201452, 21.432521855822632, 20.48433209205647, 19.583490332799606, 18.731658820073804, 17.93031942958996, 17.180776665492225, 16.484160924933338, 15.84143201430101, 15.25338289914419, 14.720643670125801, 14.243685707647375, 13.822826028144261, 13.458231795431034, 13.14992498088181, 12.897787156654257, 12.701564406606424, 12.560872340008567, 12.475201193615902, 12.443921008139741, 12.466286865632338, 12.541444174782994, 12.668433991607879, 12.846198363502504, 13.073585685112302, 13.349356054962396, 13.67218662227123, 14.040676913853561, 14.453354131495113, 14.908678410653852, 15.40504803181009, 15.940804576248993, 16.514238018514437, 17.12359174822094, 17.767067514351563, 18.44283028560247, 19.14901302075951, 19.88372134350885, 20.64503811649037, 21.431027909801468, 22.23974135954725, 23.069219412412465], \"y\": [0.0, 0.0, 0.0, 0.0, 0.0, 0.0, 0.0, 0.0, 0.0, 0.0, 0.0, -0.004725352360459593, -0.02796929319970194, -0.08590552038371017, -0.19037838890530243, -0.3502006669775436, -0.5741557742206984, -0.872604744462448, -1.2573892206581714, -1.7406938159420031, -2.3334906781450266, -3.0413335900519582, -3.8615107558508655, -4.787861027850789, -5.815188856393766, -6.9381511852203115, -8.149234305864907, -9.437968609661622, -10.791352912391758, -12.194835768903, -13.63334093131126, -15.092097267633513, -16.557215527770925, -18.016034625902368, -19.457282400786927, -20.87109639209251, -22.248946548501007, -23.583498267367393, -24.86844963518942, -26.09836984848724, -27.268556893223778, -28.374923333608542, -29.413911362705516, -30.38243321016818, -31.277830702208526, -32.09784761021356, -32.84060951297319, -33.504607429385196, -34.08868292018562, -34.59201345862476, -35.01409758721238, -35.35473977633671, -35.61403508032997, -35.792353738055084, -35.890325853937675, -35.90882626184252, -35.848959639295025, -35.712045911914444, -35.49960596934236, -35.213347703056236, -34.855152370939344, -34.42706129118343, -33.93126286745922, -33.37007994734004, -32.74595751620212, -32.06145072903331, -31.31921328268549, -30.521986131095186, -29.672586545882385, -28.773897524536096, -27.82885754812423, -26.84045069013838, -25.811697077715188, -24.74564370607446, -23.645355606589124, -22.513907368461663, -21.354375013530404, -20.16982822327472, -18.96332291663324, -17.73789417679901, -16.496549524712975, -15.242262536543985, -13.9779668020238, -12.706550220098931, -11.430849627970868, -10.153645759221934, -8.877658526368448, -7.605542622844196, -6.339883439098456, -5.083193287192771, -3.8379079279994697, -2.6063833948443036, -1.3908931071927895, -0.19362526775741729, 0.9833194638008731, 2.137930027589011, 3.2682867577937937, 4.372562921916659, 5.44902601238867, 6.496038798136684, 7.51206014376874, 8.495645604126421, 9.445447802017203, 10.36021659698864, 11.238799053040799, 12.080139213193902, 12.883277688834184, 13.64735107175495, 14.371591176790403, 15.055324122908583]}, {\"marker\": {\"color\": \"rgb(0, 0, 256)\", \"size\": 2}, \"mode\": \"markers\", \"name\": \"validate\", \"type\": \"scatter\", \"x\": [0.0, 2.200005, 4.40001, 6.600014999999999, 8.80002, 11.000024999999999, 13.200029999999998, 15.400034999999997, 17.60004, 19.800044999999997, 22.000049999999995, 24.200054999999995, 26.398593329999994, 28.591264979999995, 30.77220326999999, 32.932608179999995, 35.060013014999996, 37.13828440499999, 39.14688896999999, 41.06235998999999, 42.859030739999994, 44.514167834999995, 46.014571245, 47.352907619999996, 48.522576945, 49.518445875, 50.336847735, 50.97558252, 51.433916895, 51.713317530000005, 51.81671776500001, 51.74778427500001, 51.511650405000005, 51.11491617000001, 50.565648255000006, 49.87264668, 49.044711465, 48.09064263, 47.0214402, 45.8481042, 44.58090132, 43.23229825500001, 41.814028365000006, 40.33709167500001, 38.813221545000005, 37.25415133500001, 35.671614405000014, 34.07661078, 32.47940715000001, 30.89100354, 29.322399975000007, 27.783129810000013, 26.282726400000005, 24.82998976500001, 23.432986590000002, 22.099783560000006, 20.83771402500001, 19.653378000000004, 18.55190883000001, 17.538439860000004, 16.618837770000006, 15.796769235000008, 15.075167595000005, 14.456966190000008, 13.944365025000005, 13.538830770000006, 13.240363425000007, 13.049696325000006, 12.966829470000008, 12.990296190000008, 13.118629815000007, 13.350363675000006, 13.682564430000008, 14.112298740000007, 14.63663326500001, 15.251167995000007, 15.951502920000005, 16.73323803000001, 17.591239980000008, 18.52037542500001, 19.51624435500001, 20.572980090000005, 21.683982615, 22.84338525000002, 24.045321315000013, 25.28392413000001, 26.552593680000005, 27.84472995, 29.15446626000002, 30.475935930000016, 31.802538945000013, 33.127675290000006, 34.445478285, 35.750814585000015, 37.03781751000001, 38.300620380000005, 39.53408985, 40.732359239999994, 41.89029520500001, 43.00423107, 44.069766825, 45.08250246, 46.0387713, 46.93417333500001, 47.765775225000006, 48.531376965, 49.228045214999995, 49.85284663499999, 50.404314555, 50.880982304999996], \"y\": [0.0, 0.0, 0.0, 0.0, 0.0, 0.0, 0.0, 0.0, 0.0, 0.0, 0.0, -0.008800020000000007, -0.047666774999999946, -0.14080032000000003, -0.3109340399999998, -0.58080132, -0.9716688750000002, -1.5011367449999995, -2.18240496, -3.0242735399999985, -4.03040916, -5.195678475, -6.5061481200000015, -7.944218054999997, -9.492288239999999, -11.1320253, -12.844362525000001, -14.610966540000003, -16.413503969999997, -18.23364144, -20.054512245, -21.860716350000004, -23.636853720000005, -25.368257654999997, -27.04246146, -28.64699844, -30.170135235000004, -31.602338490000005, -32.93407485, -34.15727763, -35.26608015000001, -36.253882395000005, -37.11628435500001, -37.85035269000001, -38.45242072500001, -38.92102179000001, -39.25542255000001, -39.455623005000014, -39.52382316000001, -39.46148968500001, -39.27082258500001, -38.956221870000014, -38.52135421500001, -37.97061963000001, -37.309884795, -36.54501639000001, -35.68188109500001, -34.72781226, -33.690143235, -32.57547403499999, -31.391871344999995, -30.147401849999998, -28.85013223499999, -27.508129184999994, -26.129459384999986, -24.722922854999993, -23.29658628, -21.85778300999999, -20.414579729999996, -18.975776459999988, -17.54870654999999, -16.140703349999995, -14.759100209999989, -13.410497144999994, -12.101494169999986, -10.83869129999999, -9.627955214999995, -8.474419259999989, -7.383950114999992, -6.360947789999987, -5.40907895999999, -4.532743634999993, -3.735608489999996, -3.020606864999986, -2.3899387649999886, -1.8458041949999906, -1.3904031599999922, -1.0244689949999937, -0.7487350349999897, -0.5639346149999904, -0.46933439999999077, -0.46493438999999076, -0.5500012499999904, -0.7230683099999928, -0.982668899999992, -1.3266030149999908, -1.7526706499999891, -2.257938464999987, -2.8394731199999956, -3.4943412749999934, -4.218876254999991, -5.0094113849999875, -5.862279989999984, -6.7730820599999975, -7.737417584999994, -8.75015321999999, -9.806888954999987, -10.903224779999983, -12.034027349999999, -13.194896654999994]}],\n",
       "                        {\"autosize\": false, \"font\": {\"color\": \"black\", \"family\": \"Arial\", \"size\": 16}, \"height\": 900, \"showlegend\": false, \"template\": {\"data\": {\"bar\": [{\"error_x\": {\"color\": \"#2a3f5f\"}, \"error_y\": {\"color\": \"#2a3f5f\"}, \"marker\": {\"line\": {\"color\": \"white\", \"width\": 0.5}}, \"type\": \"bar\"}], \"barpolar\": [{\"marker\": {\"line\": {\"color\": \"white\", \"width\": 0.5}}, \"type\": \"barpolar\"}], \"carpet\": [{\"aaxis\": {\"endlinecolor\": \"#2a3f5f\", \"gridcolor\": \"#C8D4E3\", \"linecolor\": \"#C8D4E3\", \"minorgridcolor\": \"#C8D4E3\", \"startlinecolor\": \"#2a3f5f\"}, \"baxis\": {\"endlinecolor\": \"#2a3f5f\", \"gridcolor\": \"#C8D4E3\", \"linecolor\": \"#C8D4E3\", \"minorgridcolor\": \"#C8D4E3\", \"startlinecolor\": \"#2a3f5f\"}, \"type\": \"carpet\"}], \"choropleth\": [{\"colorbar\": {\"outlinewidth\": 0, \"ticks\": \"\"}, \"type\": \"choropleth\"}], \"contour\": [{\"colorbar\": {\"outlinewidth\": 0, \"ticks\": \"\"}, \"colorscale\": [[0.0, \"#0d0887\"], [0.1111111111111111, \"#46039f\"], [0.2222222222222222, \"#7201a8\"], [0.3333333333333333, \"#9c179e\"], [0.4444444444444444, \"#bd3786\"], [0.5555555555555556, \"#d8576b\"], [0.6666666666666666, \"#ed7953\"], [0.7777777777777778, \"#fb9f3a\"], [0.8888888888888888, \"#fdca26\"], [1.0, \"#f0f921\"]], \"type\": \"contour\"}], \"contourcarpet\": [{\"colorbar\": {\"outlinewidth\": 0, \"ticks\": \"\"}, \"type\": \"contourcarpet\"}], \"heatmap\": [{\"colorbar\": {\"outlinewidth\": 0, \"ticks\": \"\"}, \"colorscale\": [[0.0, \"#0d0887\"], [0.1111111111111111, \"#46039f\"], [0.2222222222222222, \"#7201a8\"], [0.3333333333333333, \"#9c179e\"], [0.4444444444444444, \"#bd3786\"], [0.5555555555555556, \"#d8576b\"], [0.6666666666666666, \"#ed7953\"], [0.7777777777777778, \"#fb9f3a\"], [0.8888888888888888, \"#fdca26\"], [1.0, \"#f0f921\"]], \"type\": \"heatmap\"}], \"heatmapgl\": [{\"colorbar\": {\"outlinewidth\": 0, \"ticks\": \"\"}, \"colorscale\": [[0.0, \"#0d0887\"], [0.1111111111111111, \"#46039f\"], [0.2222222222222222, \"#7201a8\"], [0.3333333333333333, \"#9c179e\"], [0.4444444444444444, \"#bd3786\"], [0.5555555555555556, \"#d8576b\"], [0.6666666666666666, \"#ed7953\"], [0.7777777777777778, \"#fb9f3a\"], [0.8888888888888888, \"#fdca26\"], [1.0, \"#f0f921\"]], \"type\": \"heatmapgl\"}], \"histogram\": [{\"marker\": {\"colorbar\": {\"outlinewidth\": 0, \"ticks\": \"\"}}, \"type\": \"histogram\"}], \"histogram2d\": [{\"colorbar\": {\"outlinewidth\": 0, \"ticks\": \"\"}, \"colorscale\": [[0.0, \"#0d0887\"], [0.1111111111111111, \"#46039f\"], [0.2222222222222222, \"#7201a8\"], [0.3333333333333333, \"#9c179e\"], [0.4444444444444444, \"#bd3786\"], [0.5555555555555556, \"#d8576b\"], [0.6666666666666666, \"#ed7953\"], [0.7777777777777778, \"#fb9f3a\"], [0.8888888888888888, \"#fdca26\"], [1.0, \"#f0f921\"]], \"type\": \"histogram2d\"}], \"histogram2dcontour\": [{\"colorbar\": {\"outlinewidth\": 0, \"ticks\": \"\"}, \"colorscale\": [[0.0, \"#0d0887\"], [0.1111111111111111, \"#46039f\"], [0.2222222222222222, \"#7201a8\"], [0.3333333333333333, \"#9c179e\"], [0.4444444444444444, \"#bd3786\"], [0.5555555555555556, \"#d8576b\"], [0.6666666666666666, \"#ed7953\"], [0.7777777777777778, \"#fb9f3a\"], [0.8888888888888888, \"#fdca26\"], [1.0, \"#f0f921\"]], \"type\": \"histogram2dcontour\"}], \"mesh3d\": [{\"colorbar\": {\"outlinewidth\": 0, \"ticks\": \"\"}, \"type\": \"mesh3d\"}], \"parcoords\": [{\"line\": {\"colorbar\": {\"outlinewidth\": 0, \"ticks\": \"\"}}, \"type\": \"parcoords\"}], \"pie\": [{\"automargin\": true, \"type\": \"pie\"}], \"scatter\": [{\"marker\": {\"colorbar\": {\"outlinewidth\": 0, \"ticks\": \"\"}}, \"type\": \"scatter\"}], \"scatter3d\": [{\"line\": {\"colorbar\": {\"outlinewidth\": 0, \"ticks\": \"\"}}, \"marker\": {\"colorbar\": {\"outlinewidth\": 0, \"ticks\": \"\"}}, \"type\": \"scatter3d\"}], \"scattercarpet\": [{\"marker\": {\"colorbar\": {\"outlinewidth\": 0, \"ticks\": \"\"}}, \"type\": \"scattercarpet\"}], \"scattergeo\": [{\"marker\": {\"colorbar\": {\"outlinewidth\": 0, \"ticks\": \"\"}}, \"type\": \"scattergeo\"}], \"scattergl\": [{\"marker\": {\"colorbar\": {\"outlinewidth\": 0, \"ticks\": \"\"}}, \"type\": \"scattergl\"}], \"scattermapbox\": [{\"marker\": {\"colorbar\": {\"outlinewidth\": 0, \"ticks\": \"\"}}, \"type\": \"scattermapbox\"}], \"scatterpolar\": [{\"marker\": {\"colorbar\": {\"outlinewidth\": 0, \"ticks\": \"\"}}, \"type\": \"scatterpolar\"}], \"scatterpolargl\": [{\"marker\": {\"colorbar\": {\"outlinewidth\": 0, \"ticks\": \"\"}}, \"type\": \"scatterpolargl\"}], \"scatterternary\": [{\"marker\": {\"colorbar\": {\"outlinewidth\": 0, \"ticks\": \"\"}}, \"type\": \"scatterternary\"}], \"surface\": [{\"colorbar\": {\"outlinewidth\": 0, \"ticks\": \"\"}, \"colorscale\": [[0.0, \"#0d0887\"], [0.1111111111111111, \"#46039f\"], [0.2222222222222222, \"#7201a8\"], [0.3333333333333333, \"#9c179e\"], [0.4444444444444444, \"#bd3786\"], [0.5555555555555556, \"#d8576b\"], [0.6666666666666666, \"#ed7953\"], [0.7777777777777778, \"#fb9f3a\"], [0.8888888888888888, \"#fdca26\"], [1.0, \"#f0f921\"]], \"type\": \"surface\"}], \"table\": [{\"cells\": {\"fill\": {\"color\": \"#EBF0F8\"}, \"line\": {\"color\": \"white\"}}, \"header\": {\"fill\": {\"color\": \"#C8D4E3\"}, \"line\": {\"color\": \"white\"}}, \"type\": \"table\"}]}, \"layout\": {\"annotationdefaults\": {\"arrowcolor\": \"#2a3f5f\", \"arrowhead\": 0, \"arrowwidth\": 1}, \"coloraxis\": {\"colorbar\": {\"outlinewidth\": 0, \"ticks\": \"\"}}, \"colorscale\": {\"diverging\": [[0, \"#8e0152\"], [0.1, \"#c51b7d\"], [0.2, \"#de77ae\"], [0.3, \"#f1b6da\"], [0.4, \"#fde0ef\"], [0.5, \"#f7f7f7\"], [0.6, \"#e6f5d0\"], [0.7, \"#b8e186\"], [0.8, \"#7fbc41\"], [0.9, \"#4d9221\"], [1, \"#276419\"]], \"sequential\": [[0.0, \"#0d0887\"], [0.1111111111111111, \"#46039f\"], [0.2222222222222222, \"#7201a8\"], [0.3333333333333333, \"#9c179e\"], [0.4444444444444444, \"#bd3786\"], [0.5555555555555556, \"#d8576b\"], [0.6666666666666666, \"#ed7953\"], [0.7777777777777778, \"#fb9f3a\"], [0.8888888888888888, \"#fdca26\"], [1.0, \"#f0f921\"]], \"sequentialminus\": [[0.0, \"#0d0887\"], [0.1111111111111111, \"#46039f\"], [0.2222222222222222, \"#7201a8\"], [0.3333333333333333, \"#9c179e\"], [0.4444444444444444, \"#bd3786\"], [0.5555555555555556, \"#d8576b\"], [0.6666666666666666, \"#ed7953\"], [0.7777777777777778, \"#fb9f3a\"], [0.8888888888888888, \"#fdca26\"], [1.0, \"#f0f921\"]]}, \"colorway\": [\"#636efa\", \"#EF553B\", \"#00cc96\", \"#ab63fa\", \"#FFA15A\", \"#19d3f3\", \"#FF6692\", \"#B6E880\", \"#FF97FF\", \"#FECB52\"], \"font\": {\"color\": \"#2a3f5f\"}, \"geo\": {\"bgcolor\": \"white\", \"lakecolor\": \"white\", \"landcolor\": \"white\", \"showlakes\": true, \"showland\": true, \"subunitcolor\": \"#C8D4E3\"}, \"hoverlabel\": {\"align\": \"left\"}, \"hovermode\": \"closest\", \"mapbox\": {\"style\": \"light\"}, \"paper_bgcolor\": \"white\", \"plot_bgcolor\": \"white\", \"polar\": {\"angularaxis\": {\"gridcolor\": \"#EBF0F8\", \"linecolor\": \"#EBF0F8\", \"ticks\": \"\"}, \"bgcolor\": \"white\", \"radialaxis\": {\"gridcolor\": \"#EBF0F8\", \"linecolor\": \"#EBF0F8\", \"ticks\": \"\"}}, \"scene\": {\"xaxis\": {\"backgroundcolor\": \"white\", \"gridcolor\": \"#DFE8F3\", \"gridwidth\": 2, \"linecolor\": \"#EBF0F8\", \"showbackground\": true, \"ticks\": \"\", \"zerolinecolor\": \"#EBF0F8\"}, \"yaxis\": {\"backgroundcolor\": \"white\", \"gridcolor\": \"#DFE8F3\", \"gridwidth\": 2, \"linecolor\": \"#EBF0F8\", \"showbackground\": true, \"ticks\": \"\", \"zerolinecolor\": \"#EBF0F8\"}, \"zaxis\": {\"backgroundcolor\": \"white\", \"gridcolor\": \"#DFE8F3\", \"gridwidth\": 2, \"linecolor\": \"#EBF0F8\", \"showbackground\": true, \"ticks\": \"\", \"zerolinecolor\": \"#EBF0F8\"}}, \"shapedefaults\": {\"line\": {\"color\": \"#2a3f5f\"}}, \"ternary\": {\"aaxis\": {\"gridcolor\": \"#DFE8F3\", \"linecolor\": \"#A2B1C6\", \"ticks\": \"\"}, \"baxis\": {\"gridcolor\": \"#DFE8F3\", \"linecolor\": \"#A2B1C6\", \"ticks\": \"\"}, \"bgcolor\": \"white\", \"caxis\": {\"gridcolor\": \"#DFE8F3\", \"linecolor\": \"#A2B1C6\", \"ticks\": \"\"}}, \"title\": {\"x\": 0.05}, \"xaxis\": {\"automargin\": true, \"gridcolor\": \"#EBF0F8\", \"linecolor\": \"#EBF0F8\", \"ticks\": \"\", \"title\": {\"standoff\": 15}, \"zerolinecolor\": \"#EBF0F8\", \"zerolinewidth\": 2}, \"yaxis\": {\"automargin\": true, \"gridcolor\": \"#EBF0F8\", \"linecolor\": \"#EBF0F8\", \"ticks\": \"\", \"title\": {\"standoff\": 15}, \"zerolinecolor\": \"#EBF0F8\", \"zerolinewidth\": 2}}}, \"title\": {\"text\": \"Vehicle Motion in Global Reference Frame\"}, \"width\": 900, \"xaxis\": {\"linecolor\": \"black\", \"linewidth\": 1, \"showgrid\": false, \"showline\": true, \"tickcolor\": \"black\", \"ticklen\": 10, \"ticks\": \"outside\", \"tickwidth\": 1, \"title\": {\"text\": \"x-axis - Forward (ft)\"}, \"zeroline\": false}, \"yaxis\": {\"autorange\": \"reversed\", \"linecolor\": \"black\", \"linewidth\": 1, \"showgrid\": false, \"showline\": true, \"tickcolor\": \"black\", \"ticklen\": 10, \"ticks\": \"outside\", \"tickwidth\": 1, \"title\": {\"text\": \"y-axis - Rightward (ft)\"}, \"zeroline\": false}},\n",
       "                        {\"responsive\": true}\n",
       "                    ).then(function(){\n",
       "                            \n",
       "var gd = document.getElementById('6dd6b4af-717f-45a0-a156-f2d5b522e3f7');\n",
       "var x = new MutationObserver(function (mutations, observer) {{\n",
       "        var display = window.getComputedStyle(gd).display;\n",
       "        if (!display || display === 'none') {{\n",
       "            console.log([gd, 'removed!']);\n",
       "            Plotly.purge(gd);\n",
       "            observer.disconnect();\n",
       "        }}\n",
       "}});\n",
       "\n",
       "// Listen for the removal of the full notebook cells\n",
       "var notebookContainer = gd.closest('#notebook-container');\n",
       "if (notebookContainer) {{\n",
       "    x.observe(notebookContainer, {childList: true});\n",
       "}}\n",
       "\n",
       "// Listen for the clearing of the current output cell\n",
       "var outputEl = gd.closest('.output');\n",
       "if (outputEl) {{\n",
       "    x.observe(outputEl, {childList: true});\n",
       "}}\n",
       "\n",
       "                        })\n",
       "                };\n",
       "                });\n",
       "            </script>\n",
       "        </div>"
      ]
     },
     "metadata": {},
     "output_type": "display_data"
    }
   ],
   "source": [
    "cg_motion(run.veh.model, df, 'pycrash', 'validate')"
   ]
  },
  {
   "cell_type": "code",
   "execution_count": null,
   "metadata": {},
   "outputs": [],
   "source": []
  }
 ],
 "metadata": {
  "kernelspec": {
   "display_name": "Python 3",
   "language": "python",
   "name": "python3"
  },
  "language_info": {
   "codemirror_mode": {
    "name": "ipython",
    "version": 3
   },
   "file_extension": ".py",
   "mimetype": "text/x-python",
   "name": "python",
   "nbconvert_exporter": "python",
   "pygments_lexer": "ipython3",
   "version": "3.6.9"
  }
 },
 "nbformat": 4,
 "nbformat_minor": 4
}
