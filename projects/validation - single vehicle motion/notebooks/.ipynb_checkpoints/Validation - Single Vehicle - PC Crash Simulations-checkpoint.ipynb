{
 "cells": [
  {
   "cell_type": "markdown",
   "metadata": {
    "pycharm": {
     "name": "#%% md\n"
    }
   },
   "source": [
    "### Single Vehicle Motion Validation\n",
    "- PC Crash simulations vs. Pycrash\n",
    "- Steering / Braking maneuvers"
   ]
  },
  {
   "cell_type": "markdown",
   "metadata": {
    "pycharm": {
     "name": "#%% md\n"
    }
   },
   "source": [
    "##### Notebook option - enable reloading modules"
   ]
  },
  {
   "cell_type": "code",
   "execution_count": 1,
   "metadata": {
    "pycharm": {
     "name": "#%% allow reloading of modules\n"
    }
   },
   "outputs": [],
   "source": [
    "%load_ext autoreload\n",
    "%autoreload 2"
   ]
  },
  {
   "cell_type": "code",
   "execution_count": 2,
   "metadata": {},
   "outputs": [],
   "source": [
    "import sys\n",
    "import os\n",
    "#sys.path.insert(0,'< your path >')\n",
    "sys.path.insert(0, '/Users/joe/Documents/pycrash')"
   ]
  },
  {
   "cell_type": "code",
   "execution_count": 3,
   "metadata": {},
   "outputs": [],
   "source": [
    "os.chdir('..')"
   ]
  },
  {
   "cell_type": "code",
   "execution_count": 4,
   "metadata": {},
   "outputs": [
    {
     "data": {
      "text/plain": [
       "'/Users/joe/Documents/pycrash/projects/validation - single vehicle motion'"
      ]
     },
     "execution_count": 4,
     "metadata": {},
     "output_type": "execute_result"
    }
   ],
   "source": [
    "os.getcwd()"
   ]
  },
  {
   "cell_type": "code",
   "execution_count": 5,
   "metadata": {
    "pycharm": {
     "name": "#%%\n"
    }
   },
   "outputs": [
    {
     "name": "stdout",
     "output_type": "stream",
     "text": [
      "Current values for defined constants:\n",
      "maximum available friction (mu_max) = 0.8\n",
      "time step for vehicle motion (dt) = 0.01 s\n"
     ]
    }
   ],
   "source": [
    "import pycrash\n",
    "from pycrash.project import Project, project_info, load_project\n",
    "from pycrash.vehicle import Vehicle\n",
    "from pycrash.kinematics import SingleMotion\n",
    "from pycrash.visualization.kinematics_compare import compare_kinematics\n",
    "from pycrash.visualization.tire_details import tire_details, vertical_forces, long_forces\n",
    "from pycrash.visualization.cg_motion_compare import cg_motion\n",
    "from pycrash.visualization.model_interval import plot_motion_interval\n",
    "\n",
    "import pandas as pd\n",
    "import numpy as np\n",
    "import math\n",
    "import matplotlib.pyplot as plt\n",
    "from scipy import integrate\n",
    "import os\n",
    "pd.options.display.max_columns = None\n",
    "pd.options.display.max_rows = None"
   ]
  },
  {
   "cell_type": "markdown",
   "metadata": {
    "pycharm": {
     "name": "#%% md\n"
    }
   },
   "source": [
    "### Generate dataframe of validation data\n",
    "- use validation steer / brake / throttle inputs\n",
    "- inputs are same dt as pycrash will have to check in future"
   ]
  },
  {
   "cell_type": "markdown",
   "metadata": {
    "pycharm": {
     "name": "#%% md\n"
    }
   },
   "source": [
    "List of column names used when loading PC Crash data  \n",
    "PC Crash rotation is positive ccw so, tire locations are swapped here  "
   ]
  },
  {
   "cell_type": "code",
   "execution_count": 6,
   "metadata": {
    "pycharm": {
     "name": "#%%\n"
    }
   },
   "outputs": [],
   "source": [
    "pc_crash_column_names = ['t', 'ax', 'ay', 'az', 'phi_deg', 'rf_fy', 'lf_fy',\n",
    "                         'rr_fy', 'lr_fy', 'delta_deg', 'rf_delta_deg', 'steer',\n",
    "                         'steer_rate', 'X', 'Y', 'Z', 'roll', 'pitch', 'theta_deg',\n",
    "                         'Vx', 'Vy', 'Vz', 'rf_fz', 'lf_fz', 'rr_fz', 'lr_fz',\n",
    "                         'rf_alpha', 'lf_alpha', 'lr_alpha', 'rr_alpha']"
   ]
  },
  {
   "cell_type": "markdown",
   "metadata": {
    "pycharm": {
     "name": "#%% md\n"
    }
   },
   "source": [
    "#### Load PC Crash Data\n",
    "- List of validation data files:"
   ]
  },
  {
   "cell_type": "code",
   "execution_count": 7,
   "metadata": {},
   "outputs": [
    {
     "name": "stdout",
     "output_type": "stream",
     "text": [
      "List of tests for analysis:\n"
     ]
    },
    {
     "data": {
      "text/plain": [
       "['40-mph-fishhook-nhtsa-data.xlsx',\n",
       " '30-mph-steer-data.xlsx',\n",
       " '30-mph-braking-full-data.xlsx',\n",
       " '45-mph-fishhook-nhtsa-data.xlsx',\n",
       " '35-mph-fishhook-nhtsa-data.xlsx',\n",
       " '15-mph-steer-data.xlsx',\n",
       " '30-mph-braking-partial-data.xlsx']"
      ]
     },
     "execution_count": 7,
     "metadata": {},
     "output_type": "execute_result"
    }
   ],
   "source": [
    "test_file_list = os.listdir(os.path.join(os.getcwd(), 'data', 'external'))\n",
    "print('List of tests for analysis:')\n",
    "test_file_list"
   ]
  },
  {
   "cell_type": "code",
   "execution_count": 8,
   "metadata": {},
   "outputs": [
    {
     "name": "stdout",
     "output_type": "stream",
     "text": [
      "Test to be processed: 30-mph-steer-data.xlsx\n"
     ]
    }
   ],
   "source": [
    "test_do = 1 # <- cho|ose test number from list to process\n",
    "print(f'Test to be processed: {test_file_list[test_do]}')"
   ]
  },
  {
   "cell_type": "code",
   "execution_count": 9,
   "metadata": {
    "pycharm": {
     "name": "#%%\n"
    }
   },
   "outputs": [],
   "source": [
    "df = pd.read_excel(os.path.join(os.getcwd(), 'data', 'external', test_file_list[test_do]),\n",
    "                            na_filter = False, header = None, names = pc_crash_column_names, skiprows = 2,\n",
    "                            usecols = 'A:AD')"
   ]
  },
  {
   "cell_type": "markdown",
   "metadata": {
    "pycharm": {
     "name": "#%% md\n"
    }
   },
   "source": [
    "Convert units"
   ]
  },
  {
   "cell_type": "code",
   "execution_count": 10,
   "metadata": {},
   "outputs": [
    {
     "data": {
      "text/html": [
       "<div>\n",
       "<style scoped>\n",
       "    .dataframe tbody tr th:only-of-type {\n",
       "        vertical-align: middle;\n",
       "    }\n",
       "\n",
       "    .dataframe tbody tr th {\n",
       "        vertical-align: top;\n",
       "    }\n",
       "\n",
       "    .dataframe thead th {\n",
       "        text-align: right;\n",
       "    }\n",
       "</style>\n",
       "<table border=\"1\" class=\"dataframe\">\n",
       "  <thead>\n",
       "    <tr style=\"text-align: right;\">\n",
       "      <th></th>\n",
       "      <th>t</th>\n",
       "      <th>ax</th>\n",
       "      <th>ay</th>\n",
       "      <th>az</th>\n",
       "      <th>phi_deg</th>\n",
       "      <th>rf_fy</th>\n",
       "      <th>lf_fy</th>\n",
       "      <th>rr_fy</th>\n",
       "      <th>lr_fy</th>\n",
       "      <th>delta_deg</th>\n",
       "      <th>rf_delta_deg</th>\n",
       "      <th>steer</th>\n",
       "      <th>steer_rate</th>\n",
       "      <th>X</th>\n",
       "      <th>Y</th>\n",
       "      <th>Z</th>\n",
       "      <th>roll</th>\n",
       "      <th>pitch</th>\n",
       "      <th>theta_deg</th>\n",
       "      <th>Vx</th>\n",
       "      <th>Vy</th>\n",
       "      <th>Vz</th>\n",
       "      <th>rf_fz</th>\n",
       "      <th>lf_fz</th>\n",
       "      <th>rr_fz</th>\n",
       "      <th>lr_fz</th>\n",
       "      <th>rf_alpha</th>\n",
       "      <th>lf_alpha</th>\n",
       "      <th>lr_alpha</th>\n",
       "      <th>rr_alpha</th>\n",
       "      <th>delta_rad</th>\n",
       "      <th>Dx</th>\n",
       "      <th>Dy</th>\n",
       "    </tr>\n",
       "  </thead>\n",
       "  <tbody>\n",
       "    <tr>\n",
       "      <th>0</th>\n",
       "      <td>0.0</td>\n",
       "      <td>0.0</td>\n",
       "      <td>0.0</td>\n",
       "      <td>0.0</td>\n",
       "      <td>0.0</td>\n",
       "      <td>0.0</td>\n",
       "      <td>0.0</td>\n",
       "      <td>0.0</td>\n",
       "      <td>0.0</td>\n",
       "      <td>0.0</td>\n",
       "      <td>0.0</td>\n",
       "      <td>0.0</td>\n",
       "      <td>0</td>\n",
       "      <td>0.0</td>\n",
       "      <td>0.0</td>\n",
       "      <td>1.79</td>\n",
       "      <td>0.0</td>\n",
       "      <td>0.0</td>\n",
       "      <td>0.0</td>\n",
       "      <td>44.0001</td>\n",
       "      <td>0.0</td>\n",
       "      <td>0.0</td>\n",
       "      <td>1.055634</td>\n",
       "      <td>1.055634</td>\n",
       "      <td>0.592337</td>\n",
       "      <td>0.592337</td>\n",
       "      <td>0.0</td>\n",
       "      <td>0.0</td>\n",
       "      <td>0.0</td>\n",
       "      <td>0.0</td>\n",
       "      <td>0.0</td>\n",
       "      <td>0.00000</td>\n",
       "      <td>0.0</td>\n",
       "    </tr>\n",
       "    <tr>\n",
       "      <th>1</th>\n",
       "      <td>0.1</td>\n",
       "      <td>0.0</td>\n",
       "      <td>0.0</td>\n",
       "      <td>0.0</td>\n",
       "      <td>0.0</td>\n",
       "      <td>0.0</td>\n",
       "      <td>0.0</td>\n",
       "      <td>0.0</td>\n",
       "      <td>0.0</td>\n",
       "      <td>0.0</td>\n",
       "      <td>0.0</td>\n",
       "      <td>0.0</td>\n",
       "      <td>0</td>\n",
       "      <td>4.4</td>\n",
       "      <td>0.0</td>\n",
       "      <td>1.79</td>\n",
       "      <td>0.0</td>\n",
       "      <td>0.0</td>\n",
       "      <td>0.0</td>\n",
       "      <td>44.0001</td>\n",
       "      <td>0.0</td>\n",
       "      <td>0.0</td>\n",
       "      <td>1.055634</td>\n",
       "      <td>1.055634</td>\n",
       "      <td>0.592337</td>\n",
       "      <td>0.592337</td>\n",
       "      <td>0.0</td>\n",
       "      <td>0.0</td>\n",
       "      <td>0.0</td>\n",
       "      <td>0.0</td>\n",
       "      <td>0.0</td>\n",
       "      <td>4.40001</td>\n",
       "      <td>0.0</td>\n",
       "    </tr>\n",
       "    <tr>\n",
       "      <th>2</th>\n",
       "      <td>0.2</td>\n",
       "      <td>0.0</td>\n",
       "      <td>0.0</td>\n",
       "      <td>0.0</td>\n",
       "      <td>0.0</td>\n",
       "      <td>0.0</td>\n",
       "      <td>0.0</td>\n",
       "      <td>0.0</td>\n",
       "      <td>0.0</td>\n",
       "      <td>0.0</td>\n",
       "      <td>0.0</td>\n",
       "      <td>0.0</td>\n",
       "      <td>0</td>\n",
       "      <td>8.8</td>\n",
       "      <td>0.0</td>\n",
       "      <td>1.79</td>\n",
       "      <td>0.0</td>\n",
       "      <td>0.0</td>\n",
       "      <td>0.0</td>\n",
       "      <td>44.0001</td>\n",
       "      <td>0.0</td>\n",
       "      <td>0.0</td>\n",
       "      <td>1.055634</td>\n",
       "      <td>1.055634</td>\n",
       "      <td>0.592337</td>\n",
       "      <td>0.592337</td>\n",
       "      <td>0.0</td>\n",
       "      <td>0.0</td>\n",
       "      <td>0.0</td>\n",
       "      <td>0.0</td>\n",
       "      <td>0.0</td>\n",
       "      <td>8.80002</td>\n",
       "      <td>0.0</td>\n",
       "    </tr>\n",
       "    <tr>\n",
       "      <th>3</th>\n",
       "      <td>0.3</td>\n",
       "      <td>0.0</td>\n",
       "      <td>0.0</td>\n",
       "      <td>0.0</td>\n",
       "      <td>0.0</td>\n",
       "      <td>0.0</td>\n",
       "      <td>0.0</td>\n",
       "      <td>0.0</td>\n",
       "      <td>0.0</td>\n",
       "      <td>0.0</td>\n",
       "      <td>0.0</td>\n",
       "      <td>0.0</td>\n",
       "      <td>0</td>\n",
       "      <td>13.2</td>\n",
       "      <td>0.0</td>\n",
       "      <td>1.79</td>\n",
       "      <td>0.0</td>\n",
       "      <td>0.0</td>\n",
       "      <td>0.0</td>\n",
       "      <td>44.0001</td>\n",
       "      <td>0.0</td>\n",
       "      <td>0.0</td>\n",
       "      <td>1.055634</td>\n",
       "      <td>1.055634</td>\n",
       "      <td>0.592337</td>\n",
       "      <td>0.592337</td>\n",
       "      <td>0.0</td>\n",
       "      <td>0.0</td>\n",
       "      <td>0.0</td>\n",
       "      <td>0.0</td>\n",
       "      <td>0.0</td>\n",
       "      <td>13.20003</td>\n",
       "      <td>0.0</td>\n",
       "    </tr>\n",
       "    <tr>\n",
       "      <th>4</th>\n",
       "      <td>0.4</td>\n",
       "      <td>0.0</td>\n",
       "      <td>0.0</td>\n",
       "      <td>0.0</td>\n",
       "      <td>0.0</td>\n",
       "      <td>0.0</td>\n",
       "      <td>0.0</td>\n",
       "      <td>0.0</td>\n",
       "      <td>0.0</td>\n",
       "      <td>0.0</td>\n",
       "      <td>0.0</td>\n",
       "      <td>0.0</td>\n",
       "      <td>0</td>\n",
       "      <td>17.6</td>\n",
       "      <td>0.0</td>\n",
       "      <td>1.79</td>\n",
       "      <td>0.0</td>\n",
       "      <td>0.0</td>\n",
       "      <td>0.0</td>\n",
       "      <td>44.0001</td>\n",
       "      <td>0.0</td>\n",
       "      <td>0.0</td>\n",
       "      <td>1.055634</td>\n",
       "      <td>1.055634</td>\n",
       "      <td>0.592337</td>\n",
       "      <td>0.592337</td>\n",
       "      <td>0.0</td>\n",
       "      <td>0.0</td>\n",
       "      <td>0.0</td>\n",
       "      <td>0.0</td>\n",
       "      <td>0.0</td>\n",
       "      <td>17.60004</td>\n",
       "      <td>0.0</td>\n",
       "    </tr>\n",
       "  </tbody>\n",
       "</table>\n",
       "</div>"
      ],
      "text/plain": [
       "     t   ax   ay   az  phi_deg  rf_fy  lf_fy  rr_fy  lr_fy  delta_deg  \\\n",
       "0  0.0  0.0  0.0  0.0      0.0    0.0    0.0    0.0    0.0        0.0   \n",
       "1  0.1  0.0  0.0  0.0      0.0    0.0    0.0    0.0    0.0        0.0   \n",
       "2  0.2  0.0  0.0  0.0      0.0    0.0    0.0    0.0    0.0        0.0   \n",
       "3  0.3  0.0  0.0  0.0      0.0    0.0    0.0    0.0    0.0        0.0   \n",
       "4  0.4  0.0  0.0  0.0      0.0    0.0    0.0    0.0    0.0        0.0   \n",
       "\n",
       "   rf_delta_deg  steer  steer_rate     X    Y     Z  roll  pitch  theta_deg  \\\n",
       "0           0.0    0.0           0   0.0  0.0  1.79   0.0    0.0        0.0   \n",
       "1           0.0    0.0           0   4.4  0.0  1.79   0.0    0.0        0.0   \n",
       "2           0.0    0.0           0   8.8  0.0  1.79   0.0    0.0        0.0   \n",
       "3           0.0    0.0           0  13.2  0.0  1.79   0.0    0.0        0.0   \n",
       "4           0.0    0.0           0  17.6  0.0  1.79   0.0    0.0        0.0   \n",
       "\n",
       "        Vx   Vy   Vz     rf_fz     lf_fz     rr_fz     lr_fz  rf_alpha  \\\n",
       "0  44.0001  0.0  0.0  1.055634  1.055634  0.592337  0.592337       0.0   \n",
       "1  44.0001  0.0  0.0  1.055634  1.055634  0.592337  0.592337       0.0   \n",
       "2  44.0001  0.0  0.0  1.055634  1.055634  0.592337  0.592337       0.0   \n",
       "3  44.0001  0.0  0.0  1.055634  1.055634  0.592337  0.592337       0.0   \n",
       "4  44.0001  0.0  0.0  1.055634  1.055634  0.592337  0.592337       0.0   \n",
       "\n",
       "   lf_alpha  lr_alpha  rr_alpha  delta_rad        Dx   Dy  \n",
       "0       0.0       0.0       0.0        0.0   0.00000  0.0  \n",
       "1       0.0       0.0       0.0        0.0   4.40001  0.0  \n",
       "2       0.0       0.0       0.0        0.0   8.80002  0.0  \n",
       "3       0.0       0.0       0.0        0.0  13.20003  0.0  \n",
       "4       0.0       0.0       0.0        0.0  17.60004  0.0  "
      ]
     },
     "execution_count": 10,
     "metadata": {},
     "output_type": "execute_result"
    }
   ],
   "source": [
    "#df.steer = [x * -1 for x in df.steer]  # reverse steer - PC-Crash is positive ccw\n",
    "\n",
    "# convert velocities to fps\n",
    "df.Vx = [x * 1.46667 for x in df.Vx]\n",
    "df.Vy = [x * 1.46667 for x in df.Vy]\n",
    "df.Vz = [x * 1.46667 for x in df.Vz]\n",
    "\n",
    "# convert acceleration to fps/s\n",
    "df.ax = [x * 32.2 for x in df.ax]\n",
    "df.ay = [x * 32.2 for x in df.ay]\n",
    "df.az = [x * 32.2 for x in df.az]\n",
    "\n",
    "# convert tire forces to lb\n",
    "df.lf_fy = [x * 1000 for x in df.lf_fy]\n",
    "df.rf_fy = [x * 1000 for x in df.rf_fy]\n",
    "df.lr_fy = [x * 1000 for x in df.lr_fy]\n",
    "df.rr_fy = [x * 1000 for x in df.rr_fy]\n",
    "\n",
    "# steer angle in radians\n",
    "df['delta_rad'] = [x / 180 * math.pi for x in df.delta_deg]\n",
    "\n",
    "# integrate velocities to get displacements\n",
    "df['Dx'] = 0 + integrate.cumtrapz(list(df.Vx), list(df.t), initial=0)\n",
    "df['Dy'] = 0 + integrate.cumtrapz(list(df.Vy), list(df.t), initial=0)\n",
    "df.head()"
   ]
  },
  {
   "cell_type": "markdown",
   "metadata": {},
   "source": [
    "### Create Vehicle Input\n",
    "`vehicle_input_dict` is a Python dictionary containing necessary vehicle inputs"
   ]
  },
  {
   "cell_type": "code",
   "execution_count": 11,
   "metadata": {},
   "outputs": [],
   "source": [
    "malibu = Vehicle('veh1')"
   ]
  },
  {
   "cell_type": "code",
   "execution_count": 12,
   "metadata": {},
   "outputs": [],
   "source": [
    "# PC Crash vehicle specifications\n",
    "vehicle_input_dict = {\"year\":2004,  # <- creates dictionary of vehicle data for input\n",
    "\"make\":\"Chevrolet\",\n",
    "\"model\":\"Malibu\",\n",
    "\"weight\":3298,\n",
    "\"vin\":\"1G1ZU54854F135916\",\n",
    "\"brake\":0,\n",
    "\"steer_ratio\":15.9,\n",
    "\"init_x_pos\":0,\n",
    "\"init_y_pos\":0,\n",
    "\"head_angle\":0,\n",
    "\"width\":70 / 12,\n",
    "\"length\":187 / 12,\n",
    "\"hcg\":21.5 / 12,\n",
    "\"lcgf\":38.1 / 12,\n",
    "\"lcgr\":67.9 / 12,\n",
    "\"wb\":106 / 12,\n",
    "\"track\":60 / 12,\n",
    "\"f_hang\":38 / 12,\n",
    "\"r_hang\":43 / 12,\n",
    "\"tire_d\":26.2 / 12,\n",
    "\"tire_w\":8.5 / 12,\n",
    "\"izz\":2040,\n",
    "\"fwd\":1,\n",
    "\"rwd\":0,\n",
    "\"awd\":0,\n",
    "\"A\":100,\n",
    "\"B\":41,\n",
    "\"k\":1000,\n",
    "\"L\":0,\n",
    "\"c\":0,\n",
    "\"vx_initial\":0,\n",
    "\"vy_initial\":0,\n",
    "\"omega_z\":0}"
   ]
  },
  {
   "cell_type": "markdown",
   "metadata": {},
   "source": [
    "#### basic plot using Pandas - steer angle versus time"
   ]
  },
  {
   "cell_type": "code",
   "execution_count": 13,
   "metadata": {},
   "outputs": [
    {
     "data": {
      "text/plain": [
       "<AxesSubplot:xlabel='t'>"
      ]
     },
     "execution_count": 13,
     "metadata": {},
     "output_type": "execute_result"
    },
    {
     "data": {
      "image/png": "[encoded data removed]",
      "text/plain": [
       "<Figure size 504x288 with 1 Axes>"
      ]
     },
     "metadata": {
      "needs_background": "light"
     },
     "output_type": "display_data"
    }
   ],
   "source": [
    "df.plot(x='t', y='steer', figsize=(7,4))"
   ]
  },
  {
   "cell_type": "markdown",
   "metadata": {},
   "source": [
    "create driver input dataframe from PC Crash input data"
   ]
  },
  {
   "cell_type": "code",
   "execution_count": 14,
   "metadata": {
    "pycharm": {
     "name": "#%%\n"
    }
   },
   "outputs": [],
   "source": [
    "end_time = df.t.max()\n",
    "t = np.arange(0, end_time + 0.1, 0.1).tolist()\n",
    "throttle = [0] * len(t)                      \n",
    "brake = [0] * len(t)              \n",
    "steer = list(df.steer)\n",
    "driver_input_dict = {'t':t, 'throttle':throttle, 'brake':brake, 'steer':steer}\n",
    "driver_input_df = pd.DataFrame.from_dict(driver_input_dict)"
   ]
  },
  {
   "cell_type": "markdown",
   "metadata": {
    "pycharm": {
     "name": "#%% md\n"
    }
   },
   "source": [
    "#### Assign validation data to `veh2`"
   ]
  },
  {
   "cell_type": "code",
   "execution_count": 15,
   "metadata": {
    "pycharm": {
     "name": "#%%\n"
    }
   },
   "outputs": [
    {
     "name": "stdout",
     "output_type": "stream",
     "text": [
      "Vehicle inputs for Veh2 applied successfully\n"
     ]
    }
   ],
   "source": [
    "veh2 = Vehicle('Veh2', vehicle_input_dict)\n",
    "veh2.driver_input = driver_input_df\n",
    "# apply validation data as a model result\n",
    "veh2.model = df"
   ]
  },
  {
   "cell_type": "markdown",
   "metadata": {
    "pycharm": {
     "name": "#%% md\n"
    }
   },
   "source": [
    "#### vehicle:\n",
    "- \"Vehicle\" stores information about a single vehicle - all possible inputs do not need to be entered\n",
    "- creating a Vehicle requires a \"name\" which is used to identify the vehicle in outputs / plots etc.\n"
   ]
  },
  {
   "cell_type": "markdown",
   "metadata": {},
   "source": [
    "#### Create Pycrash vehicle\n",
    "- set initial velocity\n",
    "- try varying cg height - `hcg`\n",
    "- you will get a `UserWarning` but it's fine"
   ]
  },
  {
   "cell_type": "code",
   "execution_count": 16,
   "metadata": {},
   "outputs": [
    {
     "name": "stdout",
     "output_type": "stream",
     "text": [
      "Vehicle inputs for Veh1 applied successfully\n",
      "Driver inputs applied to Veh1\n"
     ]
    }
   ],
   "source": [
    "veh1 = Vehicle('Veh1', vehicle_input_dict)\n",
    "veh1.time_inputs(t, throttle, brake, steer)\n",
    "veh1.vx_initial = 30\n",
    "veh1.hcg = 21.5 / 12  # <- set CG height"
   ]
  },
  {
   "cell_type": "markdown",
   "metadata": {},
   "source": [
    "### Create Single Motion Instance\n",
    "- simulation is run when instance is created which takes a few seconds\n",
    "- model is generating data at each time step as well as all position data to draw vehicle position"
   ]
  },
  {
   "cell_type": "code",
   "execution_count": 17,
   "metadata": {},
   "outputs": [],
   "source": [
    "sim_defaults = {'dt_motion': 0.005,\n",
    "                'mu_max': 0.76,\n",
    "                'alpha_max': 0.174533}"
   ]
  },
  {
   "cell_type": "code",
   "execution_count": 18,
   "metadata": {},
   "outputs": [
    {
     "name": "stdout",
     "output_type": "stream",
     "text": [
      "Creating Simulation: 30 mph steer\n",
      "Maximum allowable friction: 0.76\n",
      "Time step for vehicle motion (s) : 0.01\n",
      "Maximum tire slip angle (deg): 10.00\n",
      "Driver input for Veh1 of shape = (1091, 4)\n",
      "Vehicle motion will be simulated for 10.9 seconds\n"
     ]
    }
   ],
   "source": [
    "simulation_name = '30 mph steer'\n",
    "print(f'Creating Simulation: {simulation_name}')\n",
    "run = SingleMotion(simulation_name, veh1)"
   ]
  },
  {
   "cell_type": "code",
   "execution_count": 19,
   "metadata": {},
   "outputs": [],
   "source": [
    "plot_motion_interval(run.veh, num_itter = 12)"
   ]
  },
  {
   "cell_type": "code",
   "execution_count": 51,
   "metadata": {
    "pycharm": {
     "is_executing": true,
     "name": "#%%\n"
    }
   },
   "outputs": [],
   "source": [
    "cg_motion(run.veh.model, df, 'Pycrash', 'PC-Crash')"
   ]
  },
  {
   "cell_type": "code",
   "execution_count": null,
   "metadata": {},
   "outputs": [],
   "source": [
    "#run.veh.model.to_csv('45_mphFishook_1footcg.csv', index=False)"
   ]
  },
  {
   "cell_type": "markdown",
   "metadata": {},
   "source": [
    "### Plot Kinematic Data"
   ]
  },
  {
   "cell_type": "code",
   "execution_count": null,
   "metadata": {},
   "outputs": [],
   "source": [
    "run.plot_model()"
   ]
  },
  {
   "cell_type": "markdown",
   "metadata": {},
   "source": [
    "Last five rows"
   ]
  },
  {
   "cell_type": "code",
   "execution_count": null,
   "metadata": {},
   "outputs": [],
   "source": [
    "run.veh.model.tail()"
   ]
  },
  {
   "cell_type": "markdown",
   "metadata": {
    "pycharm": {
     "name": "#%% md\n"
    }
   },
   "source": [
    "### Plot Vehicle Motion"
   ]
  },
  {
   "cell_type": "code",
   "execution_count": null,
   "metadata": {},
   "outputs": [],
   "source": [
    "i = len(run.veh.model) - 1 # draw motion at end of simulation\n",
    "print(f\"Time: {run.veh.model.t[i]}\")\n",
    "run.global_motion(i)"
   ]
  },
  {
   "cell_type": "markdown",
   "metadata": {
    "pycharm": {
     "name": "#%% md\n"
    }
   },
   "source": [
    "### Compare to PC Crash Model"
   ]
  },
  {
   "cell_type": "code",
   "execution_count": null,
   "metadata": {},
   "outputs": [],
   "source": [
    "# calculate vehicle slip angle for pycrash model - need to correct\n",
    "phi_rad = []\n",
    "phi_deg = []\n",
    "for i in range(len(run.veh.model.t)):\n",
    "    phi_rad.append(math.atan2(run.veh.model.vy[i], run.veh.model.vx[i])) \n",
    "    phi_deg.append(math.atan2(run.veh.model.vy[i], run.veh.model.vx[i])*(180 / math.pi))\n",
    "    \n",
    "run.veh.model['phi_rad'] = phi_rad\n",
    "run.veh.model['phi_deg'] = phi_deg"
   ]
  },
  {
   "cell_type": "code",
   "execution_count": null,
   "metadata": {},
   "outputs": [],
   "source": [
    "compare_kinematics(run.veh.model, df, 'Pycrash', 'PC-Crash')"
   ]
  },
  {
   "cell_type": "markdown",
   "metadata": {},
   "source": [
    "### Get max / min values from output\n",
    "output is accessed - "
   ]
  },
  {
   "cell_type": "code",
   "execution_count": null,
   "metadata": {},
   "outputs": [],
   "source": [
    "# pycrash\n",
    "run.veh.model.head()"
   ]
  },
  {
   "cell_type": "code",
   "execution_count": null,
   "metadata": {},
   "outputs": [],
   "source": [
    "# forward acceleration greatest difference at peaks\n",
    "print(f'Minimum forward acceleration Pycrash: {run.veh.model.au.min() / 32.2:0.2f} g')\n",
    "print(f'Minimum forward acceleration PC-Crash: {df.ax.min() / 32.2:0.2f} g')\n",
    "print(f'Difference: {(run.veh.model.au.min() - df.ax.min()) / 32.2:0.4f} g')\n",
    "# rightward acceleration greatest difference at end\n",
    "print(f'Rightward acceleration at end of sim Pycrash: {run.veh.model.av[len(run.veh.model)-1] / 32.2:0.2f} g')\n",
    "print(f'Rightward acceleration at end of sim  PC-Crash: {df.ay[len(df)-1] / 32.2:0.2f} g')\n",
    "print(f'Percent Difference: {(run.veh.model.av[len(run.veh.model)-1] - df.ay[len(df)-1]) / 32.2 :0.4f} g')"
   ]
  },
  {
   "cell_type": "markdown",
   "metadata": {},
   "source": [
    "### Get position data for validation vehicle"
   ]
  },
  {
   "cell_type": "markdown",
   "metadata": {
    "pycharm": {
     "name": "#%% md\n"
    }
   },
   "source": [
    "### Tire Details\n",
    "- Pycrash model only"
   ]
  },
  {
   "cell_type": "code",
   "execution_count": null,
   "metadata": {
    "pycharm": {
     "name": "#%%\n"
    }
   },
   "outputs": [],
   "source": [
    "tire_details(run.veh)"
   ]
  },
  {
   "cell_type": "code",
   "execution_count": null,
   "metadata": {
    "pycharm": {
     "name": "#%%\n"
    }
   },
   "outputs": [],
   "source": [
    "vertical_forces(run.veh)"
   ]
  },
  {
   "cell_type": "markdown",
   "metadata": {},
   "source": [
    "#### Compare heading angles"
   ]
  },
  {
   "cell_type": "code",
   "execution_count": null,
   "metadata": {},
   "outputs": [],
   "source": [
    "run.veh.model.plot(x='t', y='beta_deg', figsize=(7,4), title=\"Pycrash Heading Angle\")"
   ]
  },
  {
   "cell_type": "code",
   "execution_count": null,
   "metadata": {},
   "outputs": [],
   "source": [
    "print(f\"Pycrash vehicle heading angle of: {run.veh.model.beta_deg[650]:0.1f} deg at {run.veh.model.t[650]} s\")\n",
    "print(f\"PC-Crash vehicle heading angle of: {df.theta_deg[65]:0.1f} deg at {df.t[65]} s\")\n",
    "print(f\"Difference: {run.veh.model.beta_deg[650]-df.theta_deg[65]:0.1f}\")"
   ]
  },
  {
   "cell_type": "markdown",
   "metadata": {},
   "source": [
    "### Compare Vehicle Positions"
   ]
  },
  {
   "cell_type": "code",
   "execution_count": null,
   "metadata": {},
   "outputs": [],
   "source": [
    "disp_pycrash = run.veh.model[['t', 'Dx', 'Dy']].copy()\n",
    "disp_pycrash.rename(columns={'Dx':'Dx_pycrash', 'Dy':'Dy_pycrash'}, inplace=True)\n",
    "disp_pccrash = df[['t', 'Dx', 'Dy']].copy()\n",
    "disp_pccrash.rename(columns={'Dx':'Dx_pccrash', 'Dy':'Dy_pccrash'}, inplace=True)\n",
    "disp_compare = pd.merge(disp_pccrash, disp_pycrash, how = 'left', on = 't')\n",
    "disp_compare.head()"
   ]
  },
  {
   "cell_type": "code",
   "execution_count": null,
   "metadata": {},
   "outputs": [],
   "source": [
    "dx_pycrash = disp_compare.Dx_pycrash.to_list()\n",
    "dy_pycrash = disp_compare.Dy_pycrash.to_list()\n",
    "dx_pccrash = disp_compare.Dx_pccrash.to_list()\n",
    "dy_pccrash = disp_compare.Dy_pccrash.to_list()\n",
    "time = disp_compare.t.to_list()\n",
    "dx_diff = [(x - y)**2 for (x,y) in zip(dx_pycrash, dx_pccrash)]\n",
    "dy_diff = [(x - y)**2 for (x,y) in zip(dy_pycrash, dy_pccrash)]\n",
    "c_sqrd = [np.sqrt(x + y) for (x,y) in zip(dx_diff, dy_diff)]"
   ]
  },
  {
   "cell_type": "code",
   "execution_count": null,
   "metadata": {},
   "outputs": [],
   "source": [
    "c_sqrd[65]"
   ]
  },
  {
   "cell_type": "code",
   "execution_count": null,
   "metadata": {},
   "outputs": [],
   "source": [
    "c_sqrd_21in = c_sqrd.copy()"
   ]
  },
  {
   "cell_type": "code",
   "execution_count": null,
   "metadata": {},
   "outputs": [],
   "source": [
    "c_sqrd_1ft = c_sqrd.copy()"
   ]
  },
  {
   "cell_type": "code",
   "execution_count": null,
   "metadata": {},
   "outputs": [],
   "source": [
    "max(c_sqrd)"
   ]
  },
  {
   "cell_type": "code",
   "execution_count": null,
   "metadata": {},
   "outputs": [],
   "source": [
    "c_sqrd_21in[65]"
   ]
  },
  {
   "cell_type": "code",
   "execution_count": null,
   "metadata": {},
   "outputs": [],
   "source": [
    "c_sqrd_1ft[65]"
   ]
  },
  {
   "cell_type": "code",
   "execution_count": null,
   "metadata": {},
   "outputs": [],
   "source": [
    "print(f\"Maximum resultant distance between the CG: {max(c_sqrd):0.2} feet\")"
   ]
  },
  {
   "cell_type": "code",
   "execution_count": null,
   "metadata": {},
   "outputs": [],
   "source": [
    "plt.figure(figsize=(9,6))\n",
    "#plt.plot(time, c_sqrd_2, c='black', linewidth=2.0)\n",
    "plt.plot(time, c_sqrd_1ft, c='black', linewidth=2.0)\n",
    "plt.plot(time, c_sqrd_21in, c='green', linewidth=2.0)\n",
    "plt.xlabel(\"Simulation Time (s)\", fontsize=16)\n",
    "plt.ylabel(\"Resultant Difference (feet)\", fontsize=16)\n",
    "plt.xticks(fontsize=16)\n",
    "plt.yticks(fontsize=16)\n",
    "plt.gca().spines['top'].set_visible(False)\n",
    "plt.gca().spines['right'].set_visible(False)\n",
    "plt.show()"
   ]
  },
  {
   "cell_type": "code",
   "execution_count": null,
   "metadata": {},
   "outputs": [],
   "source": [
    "x_diff_plot = [dx_pycrash[-1], dx_pccrash[-1]]\n",
    "y_diff_plot = [dy_pycrash[-1], dy_pccrash[-1]]"
   ]
  },
  {
   "cell_type": "code",
   "execution_count": null,
   "metadata": {},
   "outputs": [],
   "source": [
    "colors = ['green', 'black']\n",
    "plt.scatter(x_diff_plot, y_diff_plot, c=colors)\n",
    "plt.show()"
   ]
  },
  {
   "cell_type": "markdown",
   "metadata": {},
   "source": [
    "### Save model output for plotting in r markdown"
   ]
  },
  {
   "cell_type": "code",
   "execution_count": 37,
   "metadata": {},
   "outputs": [],
   "source": [
    "run.veh.model.to_pickle(os.path.join(os.getcwd(), 'reports', 'single_motion_model_run1.pkl'))"
   ]
  },
  {
   "cell_type": "markdown",
   "metadata": {},
   "source": [
    "### Save driver inputs"
   ]
  },
  {
   "cell_type": "code",
   "execution_count": 40,
   "metadata": {},
   "outputs": [],
   "source": [
    "veh1.driver_input.to_pickle(os.path.join(os.getcwd(), 'reports', 'driver_input.pkl'))"
   ]
  },
  {
   "cell_type": "code",
   "execution_count": 41,
   "metadata": {},
   "outputs": [
    {
     "data": {
      "text/plain": [
       "'/Users/joe/Documents/pycrash/projects/validation - single vehicle motion'"
      ]
     },
     "execution_count": 41,
     "metadata": {},
     "output_type": "execute_result"
    }
   ],
   "source": [
    "os.getcwd()"
   ]
  },
  {
   "cell_type": "markdown",
   "metadata": {},
   "source": [
    "### Save Project to file that was created when project was generated\n",
    "`Note:` it's generally unecessary to save the project as long as the original script remains intact"
   ]
  },
  {
   "cell_type": "markdown",
   "metadata": {
    "pycharm": {
     "name": "#%% md\n"
    }
   },
   "source": [
    "### Load Project Datafile that was created when project was instantiated\n",
    "- the project object contains information needed to run other parts of Pycrash\n",
    "- not necessary to load project data to run simulations - used to save data"
   ]
  },
  {
   "cell_type": "markdown",
   "metadata": {},
   "source": [
    "#### Get project information - used to import project object"
   ]
  },
  {
   "cell_type": "code",
   "execution_count": 30,
   "metadata": {
    "pycharm": {
     "name": "#%% Get project information for loading\n"
    }
   },
   "outputs": [
    {
     "name": "stdout",
     "output_type": "stream",
     "text": [
      "This saved project contains:\n",
      "Object of type \"project\" with name \"validation - single vehicle motion\"\n",
      "Object of type \"vehicle\" with name \"Veh1\"\n",
      "Object of type \"vehicle\" with name \"Veh2\"\n",
      "Object of type \"singlemotion\" with name \"30 mph steer\"\n",
      "list objects in this order for loading project: ['validation - single vehicle motion', 'Veh1', 'Veh2', '30 mph steer']\n",
      "Example: project_name, veh1, veh2 = load_project('project_name')\n"
     ]
    }
   ],
   "source": [
    "project_info('validation - single vehicle motion')"
   ]
  },
  {
   "cell_type": "code",
   "execution_count": 32,
   "metadata": {
    "pycharm": {
     "name": "#%%\n"
    }
   },
   "outputs": [
    {
     "name": "stdout",
     "output_type": "stream",
     "text": [
      "Attributes in project: 4\n",
      "----------------------------------  ------------------------  -----------  ---------------  --------------------\n",
      "Project                             Description               Impact Type  Simulation Type  Note\n",
      "validation - single vehicle motion  planar motion simulation               SV               pc crash comparisons\n",
      "----------------------------------  ------------------------  -----------  ---------------  --------------------\n"
     ]
    }
   ],
   "source": [
    "proj, veh1, veh2, run = load_project('validation - single vehicle motion')\n",
    "proj.show()"
   ]
  },
  {
   "cell_type": "markdown",
   "metadata": {},
   "source": [
    "### look at attributes assigned to project class"
   ]
  },
  {
   "cell_type": "code",
   "execution_count": 33,
   "metadata": {},
   "outputs": [
    {
     "data": {
      "text/plain": [
       "{'name': 'validation - single vehicle motion',\n",
       " 'project_path': '/Users/joe/Documents/pycrash/projects/',\n",
       " 'pdesc': 'planar motion simulation',\n",
       " 'sim_type': 'SV',\n",
       " 'impact_type': None,\n",
       " 'note': 'pc crash comparisons',\n",
       " 'type': 'project'}"
      ]
     },
     "execution_count": 33,
     "metadata": {},
     "output_type": "execute_result"
    }
   ],
   "source": [
    "proj.__dict__"
   ]
  },
  {
   "cell_type": "markdown",
   "metadata": {},
   "source": [
    "may need to correct project_path should be the main projects folder, one up from the current project directory"
   ]
  },
  {
   "cell_type": "code",
   "execution_count": 18,
   "metadata": {},
   "outputs": [],
   "source": [
    "proj.project_path = '< new path if necessary >'"
   ]
  },
  {
   "cell_type": "markdown",
   "metadata": {},
   "source": [
    "### Save data generated above"
   ]
  },
  {
   "cell_type": "code",
   "execution_count": 34,
   "metadata": {},
   "outputs": [],
   "source": [
    "proj.save_project(veh1, veh2, run)"
   ]
  },
  {
   "cell_type": "markdown",
   "metadata": {},
   "source": [
    "### Reload and check"
   ]
  },
  {
   "cell_type": "code",
   "execution_count": 35,
   "metadata": {},
   "outputs": [
    {
     "name": "stdout",
     "output_type": "stream",
     "text": [
      "This saved project contains:\n",
      "Object of type \"project\" with name \"validation - single vehicle motion\"\n",
      "Object of type \"vehicle\" with name \"Veh1\"\n",
      "Object of type \"vehicle\" with name \"Veh2\"\n",
      "Object of type \"singlemotion\" with name \"30 mph steer\"\n",
      "list objects in this order for loading project: ['validation - single vehicle motion', 'Veh1', 'Veh2', '30 mph steer']\n",
      "Example: project_name, veh1, veh2 = load_project('project_name')\n"
     ]
    }
   ],
   "source": [
    "project_info('validation - single vehicle motion')"
   ]
  },
  {
   "cell_type": "code",
   "execution_count": 49,
   "metadata": {},
   "outputs": [
    {
     "name": "stdout",
     "output_type": "stream",
     "text": [
      "Attributes in project: 4\n",
      "{'validation - single vehicle motion': <pycrash.project.Project object at 0x137484490>, 'veh1': <pycrash.vehicle.Vehicle object at 0x137484460>, 'veh2': <pycrash.vehicle.Vehicle object at 0x137484220>, 'singlemotion1': <pycrash.kinematics.SingleMotion object at 0x137484d00>}\n",
      "----------------------------------  ------------------------  -----------  ---------------  --------------------\n",
      "Project                             Description               Impact Type  Simulation Type  Note\n",
      "validation - single vehicle motion  planar motion simulation               SV               pc crash comparisons\n",
      "----------------------------------  ------------------------  -----------  ---------------  --------------------\n"
     ]
    }
   ],
   "source": [
    "proj, veh1, veh2, run = load_project('validation - single vehicle motion')\n",
    "proj.show()"
   ]
  },
  {
   "cell_type": "code",
   "execution_count": 52,
   "metadata": {},
   "outputs": [
    {
     "name": "stdout",
     "output_type": "stream",
     "text": [
      "name -> Veh1\n",
      "type -> vehicle\n",
      "year -> 2004.0\n",
      "make -> Chevrolet\n",
      "model -> Malibu\n",
      "weight -> 3298.0\n",
      "vin -> 1G1ZU54854F135916\n",
      "brake -> 0.0\n",
      "steer_ratio -> 15.9\n",
      "init_x_pos -> 0.0\n",
      "init_y_pos -> 0.0\n",
      "head_angle -> 0.0\n",
      "width -> 5.833333333333333\n",
      "length -> 15.583333333333334\n",
      "hcg -> 1.7916666666666667\n",
      "lcgf -> 3.1750000000000003\n",
      "lcgr -> 5.658333333333334\n",
      "wb -> 8.833333333333334\n",
      "track -> 5.0\n",
      "f_hang -> 3.1666666666666665\n",
      "r_hang -> 3.5833333333333335\n",
      "tire_d -> 2.183333333333333\n",
      "tire_w -> 0.7083333333333334\n",
      "izz -> 2040.0\n",
      "fwd -> 1.0\n",
      "rwd -> 0.0\n",
      "awd -> 0.0\n",
      "A -> 100.0\n",
      "B -> 41.0\n",
      "k -> 1000.0\n",
      "L -> 0.0\n",
      "c -> 0.0\n",
      "vx_initial -> 45\n",
      "vy_initial -> 0.0\n",
      "omega_z -> 0.0\n",
      "\n",
      "First five rows of driver_input:\n",
      "   throttle  brake  steer     t\n",
      "0       0.0    0.0    0.0  0.00\n",
      "1       0.0    0.0    0.0  0.01\n",
      "2       0.0    0.0    0.0  0.02\n",
      "3       0.0    0.0    0.0  0.03\n",
      "4       0.0    0.0    0.0  0.04\n"
     ]
    }
   ],
   "source": [
    "veh1.show()"
   ]
  },
  {
   "cell_type": "code",
   "execution_count": null,
   "metadata": {},
   "outputs": [],
   "source": []
  }
 ],
 "metadata": {
  "kernelspec": {
   "display_name": ".venv",
   "language": "python",
   "name": ".venv"
  },
  "language_info": {
   "codemirror_mode": {
    "name": "ipython",
    "version": 3
   },
   "file_extension": ".py",
   "mimetype": "text/x-python",
   "name": "python",
   "nbconvert_exporter": "python",
   "pygments_lexer": "ipython3",
   "version": "3.9.4"
  }
 },
 "nbformat": 4,
 "nbformat_minor": 4
}
