{
 "cells": [
  {
   "cell_type": "markdown",
   "metadata": {},
   "source": [
    "### Pycrash - Impact Momentum Validation"
   ]
  },
  {
   "cell_type": "code",
   "execution_count": 1,
   "metadata": {
    "jupyter": {
     "outputs_hidden": false
    },
    "pycharm": {
     "name": "#%%\n"
    }
   },
   "outputs": [],
   "source": [
    "# %% allow reloading of modules\n",
    "%load_ext autoreload\n",
    "%autoreload 2"
   ]
  },
  {
   "cell_type": "code",
   "execution_count": 2,
   "metadata": {
    "jupyter": {
     "outputs_hidden": false
    },
    "pycharm": {
     "name": "#%%\n"
    }
   },
   "outputs": [],
   "source": [
    "import sys\n",
    "sys.path.append(\"D:\\\\OneDrive\\\\pycrash\")\n",
    "#sys.path.append(\"/home/joemcormier/pycrash/\")\n",
    "#sys.path.insert(0,'/home/jmc/Documents/pycrash')"
   ]
  },
  {
   "cell_type": "code",
   "execution_count": 3,
   "metadata": {
    "jupyter": {
     "outputs_hidden": false
    },
    "pycharm": {
     "name": "#%%\n"
    }
   },
   "outputs": [
    {
     "name": "stdout",
     "output_type": "stream",
     "text": [
      "Current values for defined constants:\n",
      "maximum available friction (mu_max) = 0.76\n",
      "time step for vehicle motion (dt) = 0.01 s\n",
      "No Environment File Provided\n",
      "No Environment File Provided\n"
     ]
    }
   ],
   "source": [
    "from pycrash.project import Project, project_info, load_project\n",
    "from pycrash.vehicle import Vehicle\n",
    "from pycrash.kinematics import SingleMotion\n",
    "from pycrash.kinematicstwo import KinematicsTwo\n",
    "from pycrash.model_calcs.carpenter_momentum import IMPC\n",
    "from pycrash.model_calcs.position_data import position_data_static\n",
    "from pycrash.visualization.initial_positions import initial_position\n",
    "from pycrash.visualization.kinematics_compare import compare_kinematics\n",
    "from pycrash.visualization.model_interval_two_vehicles import plot_motion_interval\n",
    "from pycrash.visualization.model_interval import plot_motion_interval as single_interval\n",
    "from src.vehicle_data_collection import vehicle_data\n",
    "from src.test_inputs_rose import test_data"
   ]
  },
  {
   "cell_type": "code",
   "execution_count": 4,
   "metadata": {
    "jupyter": {
     "outputs_hidden": false
    },
    "pycharm": {
     "name": "#%%\n"
    }
   },
   "outputs": [],
   "source": [
    "import pandas as pd\n",
    "import numpy as np\n",
    "import math\n",
    "from scipy import integrate\n",
    "pd.options.display.max_columns = None\n",
    "pd.options.display.max_rows = None"
   ]
  },
  {
   "cell_type": "markdown",
   "metadata": {},
   "source": [
    "### Load Project Datafile that was created when project was instantiated\n",
    "- the project object contains information needed to run other parts of Pycrash"
   ]
  },
  {
   "cell_type": "markdown",
   "metadata": {},
   "source": [
    "#### Get project information - used to import project object"
   ]
  },
  {
   "cell_type": "code",
   "execution_count": 6,
   "metadata": {
    "jupyter": {
     "outputs_hidden": false
    },
    "pycharm": {
     "name": "#%%\n"
    }
   },
   "outputs": [
    {
     "name": "stdout",
     "output_type": "stream",
     "text": [
      "This saved project contains:\n",
      "Object of type \"project\" with name \"validation impact momentum\"\n",
      "list objects in this order for loading project: ['validation impact momentum']\n",
      "Example: project_name, veh1, veh2 = load_project('project_name')\n"
     ]
    }
   ],
   "source": [
    "project_info('validation impact momentum')"
   ]
  },
  {
   "cell_type": "markdown",
   "metadata": {},
   "source": [
    "#### Load project and print contents"
   ]
  },
  {
   "cell_type": "code",
   "execution_count": 7,
   "metadata": {
    "jupyter": {
     "outputs_hidden": false
    },
    "pycharm": {
     "name": "#%%\n"
    }
   },
   "outputs": [
    {
     "name": "stdout",
     "output_type": "stream",
     "text": [
      "--------------------------  ------------------------  -----------  ---------------  -------------------------------------------------\n",
      "Project                     Description               Impact Type  Simulation Type  Note\n",
      "validation impact momentum  validate momentum models  IMPC         MV               validate impact models using various data sources\n",
      "--------------------------  ------------------------  -----------  ---------------  -------------------------------------------------\n"
     ]
    }
   ],
   "source": [
    "proj = load_project('validation impact momentum')\n",
    "proj.show()"
   ]
  },
  {
   "cell_type": "markdown",
   "metadata": {},
   "source": [
    "### Load Vehicles\n",
    "- vehicle data is stored in a seperate module\n",
    "- this can be expanded upon as you use more vehicles in Pycrash\n",
    "- vehicles depend on test"
   ]
  },
  {
   "cell_type": "code",
   "execution_count": 5,
   "metadata": {},
   "outputs": [],
   "source": [
    "test_list = ['4363', '4364', '4438', '4474']\n",
    "test_do = test_list[3]"
   ]
  },
  {
   "cell_type": "code",
   "execution_count": 6,
   "metadata": {},
   "outputs": [
    {
     "name": "stdout",
     "output_type": "stream",
     "text": [
      "Vehicle inputs for Accord applied succesfully\n",
      "Vehicle inputs for Montero applied succesfully\n"
     ]
    }
   ],
   "source": [
    "if test_do == '4363':\n",
    "    v1_inputs = vehicle_data['HondaAccord']\n",
    "    veh1 = Vehicle('Accord', v1_inputs)\n",
    "    veh1.striking = True # set to struck vehicle\n",
    "    \n",
    "    blazer_inputs = vehicle_data['ChevyBlazer']\n",
    "    veh2 = Vehicle('Blazer', blazer_inputs)\n",
    "    veh2.striking = False  # set to striking vehicle\n",
    "elif test_do == '4364':\n",
    "    v1_inputs = vehicle_data['HondaAccord']\n",
    "    veh1 = Vehicle('Accord', v1_inputs)\n",
    "    veh1.striking = True # set to struck vehicle\n",
    "    \n",
    "    v2_inputs = vehicle_data['ChevyTrailblazer']\n",
    "    veh2 = Vehicle('Trailblazer', v2_inputs)\n",
    "    veh2.striking = False  # set to striking vehicle\n",
    "elif test_do == '4438':\n",
    "    v1_inputs = vehicle_data['HondaAccord4438']\n",
    "    veh1 = Vehicle('Accord', v1_inputs)\n",
    "    veh1.striking = True # set to struck vehicle\n",
    "    \n",
    "    v2_inputs = vehicle_data['MitsubishiMontero']\n",
    "    veh2 = Vehicle('Montero', v2_inputs)\n",
    "    veh2.striking = False  # set to striking vehicle\n",
    "elif test_do == '4474':\n",
    "    v1_inputs = vehicle_data['HondaAccord4438']\n",
    "    veh1 = Vehicle('Accord', v1_inputs)\n",
    "    veh1.striking = True # set to struck vehicle\n",
    "    \n",
    "    v2_inputs = vehicle_data['MitsubishiMontero1999']\n",
    "    veh2 = Vehicle('Montero', v2_inputs)\n",
    "    veh2.striking = False  # set to striking vehicle"
   ]
  },
  {
   "cell_type": "markdown",
   "metadata": {
    "pycharm": {
     "name": "#%% md\n"
    }
   },
   "source": [
    "#### Load Test Inputs"
   ]
  },
  {
   "cell_type": "code",
   "execution_count": 7,
   "metadata": {},
   "outputs": [
    {
     "name": "stdout",
     "output_type": "stream",
     "text": [
      "{'v1_cg_ic': 2.9, 'v1_theta_cg_ic': 34.7, 'v1_head_angle': 180, 'v1_vx': 35, 'v2_cg_ic': 5.5, 'v2_theta_cg_ic': 15.2, 'v2_head_angle': 31.6, 'v2_vx': 35, 'impact_norm_deg': 51.8, 'cor': 0.15, 'critical_ir': -0.4, 'impulse_ratio': 1, 'v1_domega': 40, 'v1_dv': 40.5, 'v2_domega': 194, 'v2_dv': 28.7}\n"
     ]
    }
   ],
   "source": [
    "inputs = test_data[test_do]\n",
    "print(inputs)"
   ]
  },
  {
   "cell_type": "code",
   "execution_count": 8,
   "metadata": {
    "jupyter": {
     "outputs_hidden": false
    },
    "pycharm": {
     "name": "#%%\n"
    }
   },
   "outputs": [],
   "source": [
    "# get initial positions\n",
    "# ---------- Vehicle 1 -------------#\n",
    "veh1.head_angle = -1 * inputs['v1_head_angle']\n",
    "veh1_dx = np.cos(-1 * inputs['v1_theta_cg_ic'] * np.pi / 180) * inputs['v1_cg_ic']\n",
    "veh1_dy = np.sin(-1 * inputs['v1_theta_cg_ic'] * np.pi / 180) * inputs['v1_cg_ic']\n",
    "\n",
    "v1_hangle_rad = veh1.head_angle * np.pi / 180\n",
    "veh1.init_x_pos = -1 * (veh1_dx * np.cos(v1_hangle_rad) - veh1_dy * np.sin(v1_hangle_rad))\n",
    "veh1.init_y_pos = -1 * (veh1_dx * np.sin(v1_hangle_rad) + veh1_dy * np.cos(v1_hangle_rad))\n",
    "\n",
    "# impact point in vehicle 1 reference frame\n",
    "veh1.pimpact_x = veh1_dx\n",
    "veh1.pimpact_y = veh1_dy\n",
    "\n",
    "# angle of normal impact vector\n",
    "veh1.impact_norm_rad = -1 * inputs['impact_norm_deg'] * np.pi / 180\n",
    "\n",
    "# ---------- Vehicle 2 -------------#\n",
    "veh2.head_angle = -1 * inputs['v2_head_angle']\n",
    "veh2_dx = np.cos(-1 * inputs['v2_theta_cg_ic'] * np.pi / 180) * inputs['v2_cg_ic']\n",
    "veh2_dy = np.sin(-1 * inputs['v2_theta_cg_ic'] * np.pi / 180) * inputs['v2_cg_ic']\n",
    "\n",
    "v2_hangle_rad = veh2.head_angle * np.pi / 180\n",
    "veh2.init_x_pos = -1 * (veh2_dx * np.cos(v2_hangle_rad) - veh2_dy * np.sin(v2_hangle_rad))\n",
    "veh2.init_y_pos = -1 * (veh2_dx * np.sin(v2_hangle_rad) + veh2_dy * np.cos(v2_hangle_rad))"
   ]
  },
  {
   "cell_type": "markdown",
   "metadata": {},
   "source": [
    "### Plot Initial Positions"
   ]
  },
  {
   "cell_type": "code",
   "execution_count": 9,
   "metadata": {},
   "outputs": [],
   "source": [
    "initial_position(position_data_static([veh1, veh2]))"
   ]
  },
  {
   "cell_type": "markdown",
   "metadata": {},
   "source": [
    "### Create Momentum Simulation"
   ]
  },
  {
   "cell_type": "code",
   "execution_count": 10,
   "metadata": {},
   "outputs": [],
   "source": [
    "# inputs for simulation\n",
    "veh1.vx_initial = inputs['v1_vx']\n",
    "veh2.vx_initial = inputs['v2_vx']\n",
    "\n",
    "sim_inputs = {'cor': inputs['cor'],\n",
    "             'cof': inputs['critical_ir'],\n",
    "             'impact_norm_deg': -1*inputs['impact_norm_deg']}"
   ]
  },
  {
   "cell_type": "code",
   "execution_count": 11,
   "metadata": {},
   "outputs": [
    {
     "name": "stdout",
     "output_type": "stream",
     "text": [
      "theta c: -141.80 [deg]\n",
      "Sliding Condition\n",
      "Compression\n",
      "Forward Slide\n",
      "Impact Energy: {'t_effects_dis': 65581.66927617385, 'n_effects_dis': 191962.6094958326, 'tn_total_dis': 257544.27877200645}\n"
     ]
    }
   ],
   "source": [
    "name = test_do\n",
    "run = IMPC(name, veh1, veh2, sim_inputs)"
   ]
  },
  {
   "cell_type": "code",
   "execution_count": 12,
   "metadata": {},
   "outputs": [
    {
     "name": "stdout",
     "output_type": "stream",
     "text": [
      "|--- Results for Simulation of Test: 4474 --------|\n",
      "\n",
      "------- Results for Striking Vehicle: Accord -----\n",
      "Pycrash (Carpenter) delta-V for Accord: 40.43 mph\n",
      "Kineticorp (Brach) delta-V for Accord: 40.50 mph\n",
      "\n",
      "Pycrash (Carpenter) omega for Accord: -40.12 deg/s\n",
      "Kineticorp (Brach) omega for Accord: 40.00 deg/s\n",
      "\n",
      "-------- Results for Struck Vehicle: Montero ------\n",
      "Pycrash (Carpenter) delta-V for Montero: 28.70 mph\n",
      "Kineticorp (Brach) delta-V for Montero: 28.70 mph\n",
      "\n",
      "Pycrash (Carpenter) omega for Montero: -193.66 deg/s\n",
      "Kineticorp (Brach) omega for Montero: 194.00 deg/s\n"
     ]
    }
   ],
   "source": [
    "print(f\"|--- Results for Simulation of Test: {test_do} --------|\")\n",
    "print(\"\")\n",
    "print(f\"------- Results for Striking Vehicle: {veh1.name} -----\")\n",
    "print(f\"Pycrash (Carpenter) delta-V for {veh1.name}: {run.v1_result['dv']:0.2f} mph\")\n",
    "print(f\"Kineticorp (Brach) delta-V for {veh1.name}: {inputs['v1_dv']:0.2f} mph\")\n",
    "print(\"\")\n",
    "print(f\"Pycrash (Carpenter) omega for {veh1.name}: {run.v1_result['oz_deg']:0.2f} deg/s\")\n",
    "print(f\"Kineticorp (Brach) omega for {veh1.name}: {inputs['v1_domega']:0.2f} deg/s\")\n",
    "print(\"\")\n",
    "print(f\"-------- Results for Struck Vehicle: {veh2.name} ------\")\n",
    "print(f\"Pycrash (Carpenter) delta-V for {veh2.name}: {run.v2_result['dv']:0.2f} mph\")\n",
    "print(f\"Kineticorp (Brach) delta-V for {veh2.name}: {inputs['v2_dv']:0.2f} mph\")\n",
    "print(\"\")\n",
    "print(f\"Pycrash (Carpenter) omega for {veh2.name}: {run.v2_result['oz_deg']:0.2f} deg/s\")\n",
    "print(f\"Kineticorp (Brach) omega for {veh2.name}: {inputs['v2_domega']:0.2f} deg/s\")"
   ]
  },
  {
   "cell_type": "markdown",
   "metadata": {},
   "source": [
    "### Simulate Vehicle Motion Post-Impact"
   ]
  },
  {
   "cell_type": "markdown",
   "metadata": {},
   "source": [
    "#### Create vehicle inputs - determines simulation duration"
   ]
  },
  {
   "cell_type": "code",
   "execution_count": 13,
   "metadata": {},
   "outputs": [
    {
     "name": "stdout",
     "output_type": "stream",
     "text": [
      "Driver inputs applied to Accord\n",
      "Driver inputs applied to Montero\n"
     ]
    }
   ],
   "source": [
    "end_time = 2\n",
    "t = np.arange(0, end_time + 0.01, 0.01).tolist()\n",
    "throttle = [0] * len(t)                      \n",
    "brake = [0] * len(t)              \n",
    "steer = [0] * len(t)\n",
    "driver_input_dict = {'t':t, 'throttle':throttle, 'brake':brake, 'steer':steer}\n",
    "driver_input_df = pd.DataFrame.from_dict(driver_input_dict)\n",
    "veh1.fwd = 1\n",
    "veh2.fwd = 1\n",
    "veh1.time_inputs(t, throttle, brake, steer)\n",
    "veh2.time_inputs(t, throttle, brake, steer)\n",
    "veh1.hcg = 1\n",
    "veh2.hcg = 1\n",
    "veh1.vx_initial = run.v1_result['vx']\n",
    "veh1.vy_initial = run.v1_result['vy']\n",
    "veh1.omega_z = run.v1_result['oz_deg']\n",
    "veh2.vx_initial = run.v2_result['vx']\n",
    "veh2.vy_initial = run.v2_result['vy']\n",
    "veh2.omega_z = run.v2_result['oz_deg']"
   ]
  },
  {
   "cell_type": "markdown",
   "metadata": {},
   "source": [
    "#### Run Simulation"
   ]
  },
  {
   "cell_type": "code",
   "execution_count": 14,
   "metadata": {},
   "outputs": [
    {
     "name": "stdout",
     "output_type": "stream",
     "text": [
      "Maximum allowable friction: 0.76\n",
      "Time step for vehicle motion (s) : 0.01\n",
      "Maximum tire slip angle (deg): 10.00\n",
      "Driver input for Accord of shape = (201, 4)\n",
      "Vehicle motion will be simulated for 2.0 seconds\n",
      "Maximum allowable friction: 0.76\n",
      "Time step for vehicle motion (s) : 0.01\n",
      "Maximum tire slip angle (deg): 10.00\n",
      "Driver input for Montero of shape = (201, 4)\n",
      "Vehicle motion will be simulated for 2.0 seconds\n"
     ]
    }
   ],
   "source": [
    "run1 = SingleMotion('Veh1', veh1)\n",
    "run2 = SingleMotion('Veh2', veh2)"
   ]
  },
  {
   "cell_type": "code",
   "execution_count": 15,
   "metadata": {},
   "outputs": [
    {
     "data": {
      "text/plain": [
       "<matplotlib.axes._subplots.AxesSubplot at 0x1d937fa2ca0>"
      ]
     },
     "execution_count": 15,
     "metadata": {},
     "output_type": "execute_result"
    },
    {
     "data": {
      "image/png": "[encoded data removed]",
      "text/plain": [
       "<Figure size 432x288 with 1 Axes>"
      ]
     },
     "metadata": {
      "needs_background": "light"
     },
     "output_type": "display_data"
    }
   ],
   "source": [
    "run1.veh.model.plot(x='t', y='vx')"
   ]
  },
  {
   "cell_type": "code",
   "execution_count": 20,
   "metadata": {},
   "outputs": [],
   "source": [
    "plot_motion_interval([run1.veh, run2.veh], num_itter = 3)"
   ]
  },
  {
   "cell_type": "code",
   "execution_count": 43,
   "metadata": {},
   "outputs": [],
   "source": [
    "single_interval(run1.veh, num_itter = 3)"
   ]
  },
  {
   "cell_type": "code",
   "execution_count": 39,
   "metadata": {},
   "outputs": [
    {
     "data": {
      "text/plain": [
       "21"
      ]
     },
     "execution_count": 39,
     "metadata": {},
     "output_type": "execute_result"
    }
   ],
   "source": [
    "len(run1.veh.model)"
   ]
  },
  {
   "cell_type": "code",
   "execution_count": 54,
   "metadata": {},
   "outputs": [
    {
     "ename": "AttributeError",
     "evalue": "'DataFrame' object has no attribute 'phi_deg'",
     "output_type": "error",
     "traceback": [
      "\u001b[1;31m---------------------------------------------------------------------------\u001b[0m",
      "\u001b[1;31mAttributeError\u001b[0m                            Traceback (most recent call last)",
      "\u001b[1;32m<ipython-input-54-05ea859ac61e>\u001b[0m in \u001b[0;36m<module>\u001b[1;34m\u001b[0m\n\u001b[1;32m----> 1\u001b[1;33m \u001b[0mcompare_kinematics\u001b[0m\u001b[1;33m(\u001b[0m\u001b[0mrun1\u001b[0m\u001b[1;33m.\u001b[0m\u001b[0mveh\u001b[0m\u001b[1;33m.\u001b[0m\u001b[0mmodel\u001b[0m\u001b[1;33m,\u001b[0m \u001b[0mrun1\u001b[0m\u001b[1;33m.\u001b[0m\u001b[0mveh\u001b[0m\u001b[1;33m.\u001b[0m\u001b[0mmodel\u001b[0m\u001b[1;33m,\u001b[0m \u001b[1;34m'Veh1'\u001b[0m\u001b[1;33m,\u001b[0m \u001b[1;34m'Veh2'\u001b[0m\u001b[1;33m)\u001b[0m\u001b[1;33m\u001b[0m\u001b[1;33m\u001b[0m\u001b[0m\n\u001b[0m",
      "\u001b[1;32mD:\\OneDrive\\pycrash\\pycrash\\visualization\\kinematics_compare.py\u001b[0m in \u001b[0;36mcompare_kinematics\u001b[1;34m(model1, model2, name1, name2)\u001b[0m\n\u001b[0;32m    107\u001b[0m                   row=1, col=1)\n\u001b[0;32m    108\u001b[0m     \u001b[1;31m# Slip angle - compare to beta_deg\u001b[0m\u001b[1;33m\u001b[0m\u001b[1;33m\u001b[0m\u001b[1;33m\u001b[0m\u001b[0m\n\u001b[1;32m--> 109\u001b[1;33m     fig.add_trace(go.Scatter(x=model1.t, y=model1.phi_deg,\n\u001b[0m\u001b[0;32m    110\u001b[0m                              \u001b[0mmode\u001b[0m\u001b[1;33m=\u001b[0m\u001b[1;34m'lines'\u001b[0m\u001b[1;33m,\u001b[0m\u001b[1;33m\u001b[0m\u001b[1;33m\u001b[0m\u001b[0m\n\u001b[0;32m    111\u001b[0m                              \u001b[0mname\u001b[0m\u001b[1;33m=\u001b[0m\u001b[1;34mf'{name1} - slip angle'\u001b[0m\u001b[1;33m,\u001b[0m\u001b[1;33m\u001b[0m\u001b[1;33m\u001b[0m\u001b[0m\n",
      "\u001b[1;32m~\\AppData\\Roaming\\Python\\Python38\\site-packages\\pandas\\core\\generic.py\u001b[0m in \u001b[0;36m__getattr__\u001b[1;34m(self, name)\u001b[0m\n\u001b[0;32m   5134\u001b[0m             \u001b[1;32mif\u001b[0m \u001b[0mself\u001b[0m\u001b[1;33m.\u001b[0m\u001b[0m_info_axis\u001b[0m\u001b[1;33m.\u001b[0m\u001b[0m_can_hold_identifiers_and_holds_name\u001b[0m\u001b[1;33m(\u001b[0m\u001b[0mname\u001b[0m\u001b[1;33m)\u001b[0m\u001b[1;33m:\u001b[0m\u001b[1;33m\u001b[0m\u001b[1;33m\u001b[0m\u001b[0m\n\u001b[0;32m   5135\u001b[0m                 \u001b[1;32mreturn\u001b[0m \u001b[0mself\u001b[0m\u001b[1;33m[\u001b[0m\u001b[0mname\u001b[0m\u001b[1;33m]\u001b[0m\u001b[1;33m\u001b[0m\u001b[1;33m\u001b[0m\u001b[0m\n\u001b[1;32m-> 5136\u001b[1;33m             \u001b[1;32mreturn\u001b[0m \u001b[0mobject\u001b[0m\u001b[1;33m.\u001b[0m\u001b[0m__getattribute__\u001b[0m\u001b[1;33m(\u001b[0m\u001b[0mself\u001b[0m\u001b[1;33m,\u001b[0m \u001b[0mname\u001b[0m\u001b[1;33m)\u001b[0m\u001b[1;33m\u001b[0m\u001b[1;33m\u001b[0m\u001b[0m\n\u001b[0m\u001b[0;32m   5137\u001b[0m \u001b[1;33m\u001b[0m\u001b[0m\n\u001b[0;32m   5138\u001b[0m     \u001b[1;32mdef\u001b[0m \u001b[0m__setattr__\u001b[0m\u001b[1;33m(\u001b[0m\u001b[0mself\u001b[0m\u001b[1;33m,\u001b[0m \u001b[0mname\u001b[0m\u001b[1;33m:\u001b[0m \u001b[0mstr\u001b[0m\u001b[1;33m,\u001b[0m \u001b[0mvalue\u001b[0m\u001b[1;33m)\u001b[0m \u001b[1;33m->\u001b[0m \u001b[1;32mNone\u001b[0m\u001b[1;33m:\u001b[0m\u001b[1;33m\u001b[0m\u001b[1;33m\u001b[0m\u001b[0m\n",
      "\u001b[1;31mAttributeError\u001b[0m: 'DataFrame' object has no attribute 'phi_deg'"
     ]
    }
   ],
   "source": [
    "compare_kinematics(run1.veh.model, run1.veh.model, 'Veh1', 'Veh2')"
   ]
  },
  {
   "cell_type": "code",
   "execution_count": null,
   "metadata": {},
   "outputs": [],
   "source": []
  },
  {
   "cell_type": "code",
   "execution_count": null,
   "metadata": {},
   "outputs": [],
   "source": []
  },
  {
   "cell_type": "code",
   "execution_count": null,
   "metadata": {},
   "outputs": [],
   "source": []
  },
  {
   "cell_type": "code",
   "execution_count": null,
   "metadata": {},
   "outputs": [],
   "source": []
  }
 ],
 "metadata": {
  "kernelspec": {
   "display_name": "Python 3",
   "language": "python",
   "name": "python3"
  },
  "language_info": {
   "codemirror_mode": {
    "name": "ipython",
    "version": 3
   },
   "file_extension": ".py",
   "mimetype": "text/x-python",
   "name": "python",
   "nbconvert_exporter": "python",
   "pygments_lexer": "ipython3",
   "version": "3.8.1"
  }
 },
 "nbformat": 4,
 "nbformat_minor": 4
}
