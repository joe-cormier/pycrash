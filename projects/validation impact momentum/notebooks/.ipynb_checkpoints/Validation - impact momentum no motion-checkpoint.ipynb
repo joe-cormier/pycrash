{
 "cells": [
  {
   "cell_type": "markdown",
   "metadata": {},
   "source": [
    "### Pycrash - Impact Momentum Validation"
   ]
  },
  {
   "cell_type": "code",
   "execution_count": null,
   "metadata": {
    "jupyter": {
     "outputs_hidden": false
    },
    "pycharm": {
     "name": "#%%\n"
    }
   },
   "outputs": [],
   "source": [
    "# %% allow reloading of modules\n",
    "%load_ext autoreload\n",
    "%autoreload 2"
   ]
  },
  {
   "cell_type": "code",
   "execution_count": null,
   "metadata": {
    "jupyter": {
     "outputs_hidden": false
    },
    "pycharm": {
     "name": "#%%\n"
    }
   },
   "outputs": [],
   "source": [
    "from pycrash.project import Project, project_info, load_project\n",
    "from pycrash.vehicle import Vehicle\n",
    "from pycrash.kinematics import SingleMotion\n",
    "from pycrash.kinematicstwo import KinematicsTwo\n",
    "from pycrash.model_calcs.carpenter_momentum import IMPC\n",
    "from pycrash.model_calcs.position_data import position_data_static\n",
    "from pycrash.visualization.initial_positions import initial_position\n",
    "from pycrash.visualization.kinematics_compare import compare_kinematics\n",
    "from pycrash.visualization.model_interval_two_vehicles import plot_motion_interval\n",
    "from pycrash.visualization.model_interval import plot_motion_interval as single_interval\n",
    "from src.vehicle_data_collection import vehicle_data\n",
    "from src.test_inputs_rose import test_data"
   ]
  },
  {
   "cell_type": "code",
   "execution_count": null,
   "metadata": {
    "jupyter": {
     "outputs_hidden": false
    },
    "pycharm": {
     "name": "#%%\n"
    }
   },
   "outputs": [],
   "source": [
    "import pandas as pd\n",
    "import numpy as np\n",
    "import math\n",
    "from scipy import integrate\n",
    "pd.options.display.max_columns = None\n",
    "pd.options.display.max_rows = None"
   ]
  },
  {
   "cell_type": "markdown",
   "metadata": {},
   "source": [
    "### Load Project Datafile that was created when project was instantiated\n",
    "- the project object contains information needed to run other parts of Pycrash"
   ]
  },
  {
   "cell_type": "markdown",
   "metadata": {},
   "source": [
    "#### Get project information - used to import project object"
   ]
  },
  {
   "cell_type": "code",
   "execution_count": null,
   "metadata": {
    "jupyter": {
     "outputs_hidden": false
    },
    "pycharm": {
     "name": "#%%\n"
    }
   },
   "outputs": [],
   "source": [
    "project_info('validation impact momentum')"
   ]
  },
  {
   "cell_type": "markdown",
   "metadata": {},
   "source": [
    "#### Load project and print contents"
   ]
  },
  {
   "cell_type": "code",
   "execution_count": null,
   "metadata": {
    "jupyter": {
     "outputs_hidden": false
    },
    "pycharm": {
     "name": "#%%\n"
    }
   },
   "outputs": [],
   "source": [
    "proj = load_project('validation impact momentum')\n",
    "proj.show()"
   ]
  },
  {
   "cell_type": "markdown",
   "metadata": {},
   "source": [
    "### Load Vehicles\n",
    "- vehicle data is stored in a seperate module\n",
    "- this can be expanded upon as you use more vehicles in Pycrash\n",
    "- vehicles depend on test"
   ]
  },
  {
   "cell_type": "code",
   "execution_count": null,
   "metadata": {},
   "outputs": [],
   "source": [
    "test_list = ['4363', '4364', '4438', '4474']\n",
    "test_do = test_list[3]"
   ]
  },
  {
   "cell_type": "code",
   "execution_count": null,
   "metadata": {},
   "outputs": [],
   "source": [
    "if test_do == '4363':\n",
    "    v1_inputs = vehicle_data['HondaAccord']\n",
    "    veh1 = Vehicle('Accord', v1_inputs)\n",
    "    veh1.striking = True # set to struck vehicle\n",
    "    \n",
    "    blazer_inputs = vehicle_data['ChevyBlazer']\n",
    "    veh2 = Vehicle('Blazer', blazer_inputs)\n",
    "    veh2.striking = False  # set to striking vehicle\n",
    "elif test_do == '4364':\n",
    "    v1_inputs = vehicle_data['HondaAccord']\n",
    "    veh1 = Vehicle('Accord', v1_inputs)\n",
    "    veh1.striking = True # set to struck vehicle\n",
    "    \n",
    "    v2_inputs = vehicle_data['ChevyTrailblazer']\n",
    "    veh2 = Vehicle('Trailblazer', v2_inputs)\n",
    "    veh2.striking = False  # set to striking vehicle\n",
    "elif test_do == '4438':\n",
    "    v1_inputs = vehicle_data['HondaAccord4438']\n",
    "    veh1 = Vehicle('Accord', v1_inputs)\n",
    "    veh1.striking = True # set to struck vehicle\n",
    "    \n",
    "    v2_inputs = vehicle_data['MitsubishiMontero']\n",
    "    veh2 = Vehicle('Montero', v2_inputs)\n",
    "    veh2.striking = False  # set to striking vehicle\n",
    "elif test_do == '4474':\n",
    "    v1_inputs = vehicle_data['HondaAccord4438']\n",
    "    veh1 = Vehicle('Accord', v1_inputs)\n",
    "    veh1.striking = True # set to struck vehicle\n",
    "    \n",
    "    v2_inputs = vehicle_data['MitsubishiMontero1999']\n",
    "    veh2 = Vehicle('Montero', v2_inputs)\n",
    "    veh2.striking = False  # set to striking vehicle"
   ]
  },
  {
   "cell_type": "markdown",
   "metadata": {
    "pycharm": {
     "name": "#%% md\n"
    }
   },
   "source": [
    "#### Load Test Inputs"
   ]
  },
  {
   "cell_type": "code",
   "execution_count": null,
   "metadata": {},
   "outputs": [],
   "source": [
    "inputs = test_data[test_do]\n",
    "inputs"
   ]
  },
  {
   "cell_type": "code",
   "execution_count": null,
   "metadata": {
    "jupyter": {
     "outputs_hidden": false
    },
    "pycharm": {
     "name": "#%%\n"
    }
   },
   "outputs": [],
   "source": [
    "# get initial positions\n",
    "# ---------- Vehicle 1 -------------#\n",
    "veh1.head_angle = -1 * inputs['v1_head_angle']\n",
    "veh1_dx = np.cos(-1 * inputs['v1_theta_cg_ic'] * np.pi / 180) * inputs['v1_cg_ic']\n",
    "veh1_dy = np.sin(-1 * inputs['v1_theta_cg_ic'] * np.pi / 180) * inputs['v1_cg_ic']\n",
    "\n",
    "v1_hangle_rad = veh1.head_angle * np.pi / 180\n",
    "veh1.init_x_pos = -1 * (veh1_dx * np.cos(v1_hangle_rad) - veh1_dy * np.sin(v1_hangle_rad))\n",
    "veh1.init_y_pos = -1 * (veh1_dx * np.sin(v1_hangle_rad) + veh1_dy * np.cos(v1_hangle_rad))\n",
    "\n",
    "# impact point in vehicle 1 reference frame\n",
    "veh1.pimpact_x = veh1_dx\n",
    "veh1.pimpact_y = veh1_dy\n",
    "\n",
    "# angle of normal impact vector\n",
    "veh1.impact_norm_rad = -1 * inputs['impact_norm_deg'] * np.pi / 180\n",
    "\n",
    "# ---------- Vehicle 2 -------------#\n",
    "veh2.head_angle = -1 * inputs['v2_head_angle']\n",
    "veh2_dx = np.cos(-1 * inputs['v2_theta_cg_ic'] * np.pi / 180) * inputs['v2_cg_ic']\n",
    "veh2_dy = np.sin(-1 * inputs['v2_theta_cg_ic'] * np.pi / 180) * inputs['v2_cg_ic']\n",
    "\n",
    "v2_hangle_rad = veh2.head_angle * np.pi / 180\n",
    "veh2.init_x_pos = -1 * (veh2_dx * np.cos(v2_hangle_rad) - veh2_dy * np.sin(v2_hangle_rad))\n",
    "veh2.init_y_pos = -1 * (veh2_dx * np.sin(v2_hangle_rad) + veh2_dy * np.cos(v2_hangle_rad))"
   ]
  },
  {
   "cell_type": "code",
   "execution_count": null,
   "metadata": {
    "pycharm": {
     "name": "#%%\n"
    }
   },
   "outputs": [],
   "source": [
    "print(f'veh1 initial positions: ({veh1.init_x_pos*12:0.2f}, {veh1.init_y_pos*12:0.2f})')\n",
    "print(f'veh2 initial positions: ({veh2.init_x_pos*12:0.2f}, {veh2.init_y_pos*12:0.2f})')"
   ]
  },
  {
   "cell_type": "markdown",
   "metadata": {},
   "source": [
    "### Plot Initial Positions"
   ]
  },
  {
   "cell_type": "code",
   "execution_count": null,
   "metadata": {},
   "outputs": [],
   "source": [
    "initial_position(position_data_static([veh1, veh2]))"
   ]
  },
  {
   "cell_type": "markdown",
   "metadata": {},
   "source": [
    "### Create Momentum Simulation"
   ]
  },
  {
   "cell_type": "code",
   "execution_count": null,
   "metadata": {},
   "outputs": [],
   "source": []
  },
  {
   "cell_type": "code",
   "execution_count": null,
   "metadata": {},
   "outputs": [],
   "source": [
    "# inputs for simulation\n",
    "veh1.vx_initial = inputs['v1_vx']\n",
    "veh2.vx_initial = inputs['v2_vx']\n",
    "\"\"\"\n",
    "sim_inputs = {'cor': inputs['cor'],\n",
    "             'cof': inputs['critical_ir'],\n",
    "             'impact_norm_deg': -1*inputs['impact_norm_deg']}\n",
    "\n",
    "\"\"\"\n",
    "sim_inputs = {'cor': inputs['cor'],\n",
    "             'cof': .1,\n",
    "             'impact_norm_deg': -1*inputs['impact_norm_deg']}\n"
   ]
  },
  {
   "cell_type": "code",
   "execution_count": null,
   "metadata": {},
   "outputs": [],
   "source": [
    "name = test_do\n",
    "run = IMPC(name, veh1, veh2, sim_inputs)"
   ]
  },
  {
   "cell_type": "code",
   "execution_count": null,
   "metadata": {},
   "outputs": [],
   "source": [
    "print(f\"|--- Results for Simulation of Test: {test_do} --------|\")\n",
    "print(\"\")\n",
    "print(f\"------- Results for Striking Vehicle: {veh1.name} -----\")\n",
    "print(f\"Pycrash (Carpenter) delta-V for {veh1.name}: {run.v1_result['dv']:0.2f} mph\")\n",
    "print(f\"Kineticorp (Brach) delta-V for {veh1.name}: {inputs['v1_dv']:0.2f} mph\")\n",
    "print(\"\")\n",
    "print(f\"Pycrash (Carpenter) omega for {veh1.name}: {run.v1_result['oz_deg']:0.2f} deg/s\")\n",
    "print(f\"Kineticorp (Brach) omega for {veh1.name}: {inputs['v1_domega']:0.2f} deg/s\")\n",
    "print(\"\")\n",
    "print(f\"-------- Results for Struck Vehicle: {veh2.name} ------\")\n",
    "print(f\"Pycrash (Carpenter) delta-V for {veh2.name}: {run.v2_result['dv']:0.2f} mph\")\n",
    "print(f\"Kineticorp (Brach) delta-V for {veh2.name}: {inputs['v2_dv']:0.2f} mph\")\n",
    "print(\"\")\n",
    "print(f\"Pycrash (Carpenter) omega for {veh2.name}: {run.v2_result['oz_deg']:0.2f} deg/s\")\n",
    "print(f\"Kineticorp (Brach) omega for {veh2.name}: {inputs['v2_domega']:0.2f} deg/s\")"
   ]
  },
  {
   "cell_type": "markdown",
   "metadata": {},
   "source": [
    "### Simulate Vehicle Motion Post-Impact"
   ]
  },
  {
   "cell_type": "markdown",
   "metadata": {},
   "source": [
    "#### Create vehicle inputs - determines simulation duration"
   ]
  },
  {
   "cell_type": "code",
   "execution_count": null,
   "metadata": {},
   "outputs": [],
   "source": [
    "end_time = 2\n",
    "t = np.arange(0, end_time + 0.01, 0.01).tolist()\n",
    "throttle = [0] * len(t)                      \n",
    "brake = [0] * len(t)              \n",
    "steer = [0] * len(t)\n",
    "driver_input_dict = {'t':t, 'throttle':throttle, 'brake':brake, 'steer':steer}\n",
    "driver_input_df = pd.DataFrame.from_dict(driver_input_dict)\n",
    "veh1.fwd = 1\n",
    "veh2.fwd = 1\n",
    "veh1.time_inputs(t, throttle, brake, steer)\n",
    "veh2.time_inputs(t, throttle, brake, steer)\n",
    "veh1.hcg = 1\n",
    "veh2.hcg = 1\n",
    "veh1.vx_initial = run.v1_result['vx']\n",
    "veh1.vy_initial = run.v1_result['vy']\n",
    "veh1.omega_z = run.v1_result['oz_deg']\n",
    "veh2.vx_initial = run.v2_result['vx']\n",
    "veh2.vy_initial = run.v2_result['vy']\n",
    "veh2.omega_z = run.v2_result['oz_deg']"
   ]
  },
  {
   "cell_type": "markdown",
   "metadata": {},
   "source": [
    "#### Run Simulation"
   ]
  },
  {
   "cell_type": "code",
   "execution_count": null,
   "metadata": {},
   "outputs": [],
   "source": [
    "run1 = SingleMotion('Veh1', veh1)\n",
    "run2 = SingleMotion('Veh2', veh2)"
   ]
  },
  {
   "cell_type": "code",
   "execution_count": null,
   "metadata": {},
   "outputs": [],
   "source": [
    "run1.veh.model.plot(x='t', y='vx')"
   ]
  },
  {
   "cell_type": "code",
   "execution_count": null,
   "metadata": {},
   "outputs": [],
   "source": [
    "plot_motion_interval([run1.veh, run2.veh], num_itter = 3)"
   ]
  },
  {
   "cell_type": "code",
   "execution_count": null,
   "metadata": {},
   "outputs": [],
   "source": [
    "single_interval(run1.veh, num_itter = 3)"
   ]
  }
 ],
 "metadata": {
  "kernelspec": {
   "display_name": "Python 3",
   "language": "python",
   "name": "python3"
  },
  "language_info": {
   "codemirror_mode": {
    "name": "ipython",
    "version": 3
   },
   "file_extension": ".py",
   "mimetype": "text/x-python",
   "name": "python",
   "nbconvert_exporter": "python",
   "pygments_lexer": "ipython3",
   "version": "3.8.5"
  }
 },
 "nbformat": 4,
 "nbformat_minor": 4
}
