{
 "cells": [
  {
   "cell_type": "markdown",
   "metadata": {},
   "source": [
    "### Pycrash impact simulation using impulse-momentum with vehicle motion"
   ]
  },
  {
   "cell_type": "code",
   "execution_count": 1,
   "metadata": {},
   "outputs": [],
   "source": [
    "# %% allow reloading of modules\n",
    "%load_ext autoreload\n",
    "%autoreload 2"
   ]
  },
  {
   "cell_type": "code",
   "execution_count": 2,
   "metadata": {},
   "outputs": [
    {
     "data": {
      "text/plain": [
       "'/Users/joe/Documents/pycrash/projects/validation impact momentum/notebooks'"
      ]
     },
     "execution_count": 2,
     "metadata": {},
     "output_type": "execute_result"
    }
   ],
   "source": [
    "import os\n",
    "os.getcwd()"
   ]
  },
  {
   "cell_type": "markdown",
   "metadata": {},
   "source": [
    "##### If running Pycrash outside of Python, add location to path:"
   ]
  },
  {
   "cell_type": "code",
   "execution_count": 3,
   "metadata": {},
   "outputs": [],
   "source": [
    "import sys\n",
    "sys.path.insert(0, '/Users/joe/Documents/pycrash')"
   ]
  },
  {
   "cell_type": "markdown",
   "metadata": {},
   "source": [
    "### Import modules"
   ]
  },
  {
   "cell_type": "code",
   "execution_count": 4,
   "metadata": {},
   "outputs": [
    {
     "name": "stdout",
     "output_type": "stream",
     "text": [
      "Current values for defined constants:\n",
      "maximum available friction (mu_max) = 0.8\n",
      "time step for vehicle motion (dt) = 0.01 s\n"
     ]
    }
   ],
   "source": [
    "from pycrash.impact_main import Impact\n",
    "from pycrash.vehicle import Vehicle"
   ]
  },
  {
   "cell_type": "code",
   "execution_count": 5,
   "metadata": {},
   "outputs": [],
   "source": [
    "import pandas as pd\n",
    "import numpy as np\n",
    "import random\n",
    "from scipy import integrate\n",
    "pd.options.display.max_columns = None\n",
    "pd.options.display.max_rows = None\n",
    "import plotly.figure_factory as ff\n",
    "import math"
   ]
  },
  {
   "cell_type": "code",
   "execution_count": 6,
   "metadata": {},
   "outputs": [],
   "source": [
    "# for progress bars\n",
    "from tqdm.notebook import tqdm, trange\n",
    "import time"
   ]
  },
  {
   "cell_type": "code",
   "execution_count": 7,
   "metadata": {},
   "outputs": [],
   "source": [
    "# import plotly\n",
    "import plotly.graph_objects as go\n",
    "# tell plotly to use browser for plotting\n",
    "# if you are using jupyter notebook, then \"notebook\" will work for an option.\n",
    "# otherwise, Pycharm and Jupyter Lab get along better with \"browser\"\n",
    "import plotly.io as pio\n",
    "pio.renderers.default = \"plotly_mimetype\"  # <- determines how plots are displayed using Plotly\n",
    "#pio.renderers.default = \"browser\"  # <- determines how plots are displayed using Plotly"
   ]
  },
  {
   "cell_type": "code",
   "execution_count": 8,
   "metadata": {},
   "outputs": [],
   "source": [
    "# python dictionary containing vehicle specifications\n",
    "import projects.data.vehicle_data_collection as vehData"
   ]
  },
  {
   "cell_type": "code",
   "execution_count": 9,
   "metadata": {},
   "outputs": [],
   "source": [
    "from pycrash.visualization.kinematics_compare import compare_kinematics\n",
    "from pycrash.visualization.cg_motion_compare import cg_motion"
   ]
  },
  {
   "cell_type": "markdown",
   "metadata": {},
   "source": [
    "### Create Vehicles"
   ]
  },
  {
   "cell_type": "code",
   "execution_count": 10,
   "metadata": {},
   "outputs": [
    {
     "name": "stdout",
     "output_type": "stream",
     "text": [
      "Vehicle inputs for Striking applied successfully\n",
      "Vehicle inputs for Struck applied successfully\n"
     ]
    }
   ],
   "source": [
    "veh1 = Vehicle('Striking', vehData.vehicle_data['ChevroletMalibu2004'])\n",
    "veh1.striking = True  # <- set to striking vehicle\n",
    "\n",
    "veh2 = Vehicle('Struck', vehData.vehicle_data['HondaAccord'])\n",
    "veh2.striking = False  # <- set to struck\n",
    "\n",
    "# create list of impact object\n",
    "vehicles = [veh1, veh2]"
   ]
  },
  {
   "cell_type": "markdown",
   "metadata": {},
   "source": [
    "#### Vehicles inputs"
   ]
  },
  {
   "cell_type": "code",
   "execution_count": 11,
   "metadata": {},
   "outputs": [
    {
     "name": "stdout",
     "output_type": "stream",
     "text": [
      "Driver inputs applied to Striking\n"
     ]
    }
   ],
   "source": [
    "t = [0, 5]\n",
    "brake = [0, 0]\n",
    "throttle = [0, 0]\n",
    "steer = [0, 0]\n",
    "veh1.time_inputs(t, throttle, brake, steer, show_plot=False)\n",
    "veh1.vx_initial = 30"
   ]
  },
  {
   "cell_type": "code",
   "execution_count": 12,
   "metadata": {},
   "outputs": [
    {
     "name": "stdout",
     "output_type": "stream",
     "text": [
      "Driver inputs applied to Struck\n"
     ]
    }
   ],
   "source": [
    "veh2.time_inputs(t, throttle, brake, steer, show_plot=False)\n",
    "veh2.vx_initial = 0"
   ]
  },
  {
   "cell_type": "markdown",
   "metadata": {},
   "source": [
    "### Create impact object"
   ]
  },
  {
   "cell_type": "markdown",
   "metadata": {},
   "source": [
    "#### Manually define impact points"
   ]
  },
  {
   "cell_type": "code",
   "execution_count": 20,
   "metadata": {},
   "outputs": [],
   "source": [
    "# vehicle 1\n",
    "# impact point = (x, y, impact plane normal angle [deg])\n",
    "veh1.impact_points = [(veh1.lcgf + veh1.f_hang - 1, (-1 * veh1.width / 2) + 1, -16.5)]\n",
    "#veh1.impact_points = [(-veh1.lcgr + 2, -veh1.width / 2, 90), (veh1.lcgf + veh1.f_hang, veh1.width / 2, 0)] # right front corner\n",
    "\n",
    "# vehicle 2\n",
    "veh2.edgeimpact = [3]\n",
    "veh2.edgeimpact_points = [(-1 * veh2.lcgr - veh2.r_hang, -1 * veh2.width / 2, veh2.lcgf + veh2.f_hang, -1 * veh2.width / 2)]"
   ]
  },
  {
   "cell_type": "markdown",
   "metadata": {},
   "source": [
    "### Initial Positions"
   ]
  },
  {
   "cell_type": "code",
   "execution_count": 21,
   "metadata": {},
   "outputs": [],
   "source": [
    "# Vehicle 1\n",
    "veh1.init_x_pos = 0\n",
    "veh1.init_y_pos = 0\n",
    "veh1.head_angle = 0\n",
    "\n",
    "# Vehicle 2\n",
    "veh2.init_x_pos = 40\n",
    "veh2.init_y_pos = -10\n",
    "veh2.head_angle = -90"
   ]
  },
  {
   "cell_type": "markdown",
   "metadata": {},
   "source": [
    "### Parametric Analysis"
   ]
  },
  {
   "cell_type": "code",
   "execution_count": 23,
   "metadata": {},
   "outputs": [
    {
     "name": "stdout",
     "output_type": "stream",
     "text": [
      "Driver inputs applied to Striking\n"
     ]
    },
    {
     "data": {
      "application/vnd.jupyter.widget-view+json": {
       "model_id": "9247c049c6e0480e95b605f4cd8804f5",
       "version_major": 2,
       "version_minor": 0
      },
      "text/plain": [
       "  0%|          | 0/10 [00:00<?, ?it/s]"
      ]
     },
     "metadata": {},
     "output_type": "display_data"
    },
    {
     "name": "stdout",
     "output_type": "stream",
     "text": [
      "Impact order defined as: [[0, 1]]\n",
      "IMPC inputs defined as: {0: {'vehicle_mu': 0.4256968168120851, 'cor': 0.1}}\n",
      "Driver input for Striking of shape = (501, 4)\n",
      "Driver input for Struck of shape = (501, 4)\n",
      "Predefined impact points for Striking: [x (ft), y (ft), impact plane angle (deg)] = [(5.244645246618181, -2.2201394698550314, -16.5)]\n",
      "Total impacts for Striking: 1\n",
      "Predefined impact edge for Struck: [3]\n",
      "Total impacts for Struck - total defined edges: 1\n",
      "{0: {'impact_points': (5.244645246618181, -2.2201394698550314, -16.5), 'edgeimpact_loc': 3, 'edgeimpact_points': (-9.201666666666666, -2.920833333333333, 6.906666666666667, -2.920833333333333)}}\n",
      "Impact simulation created with 2 vehicles of type IMPC\n",
      "Simulation inputs: {'dt_motion': 0.01, 'mu_max': 0.76, 'alpha_max': 0.174533}\n",
      "\n",
      "Impact #0 detected at i: 72, t: 0.72\n",
      "\n",
      "<--- IMPC Model --->\n",
      "Striking vehicle: Striking\n",
      "Struck vehicle: Struck\n",
      "No Sliding\n",
      "alpha: 1\n",
      "Compression\n",
      "Reverse Slide\n",
      "Impact order defined as: [[0, 1]]\n",
      "IMPC inputs defined as: {0: {'vehicle_mu': 0.39265484872039713, 'cor': 0.1}}\n",
      "Driver input for Striking of shape = (501, 4)\n",
      "Driver input for Struck of shape = (501, 4)\n",
      "Predefined impact points for Striking: [x (ft), y (ft), impact plane angle (deg)] = [(6.285620147939317, -1.9952268787920726, -16.5)]\n",
      "Total impacts for Striking: 1\n",
      "Predefined impact edge for Struck: [3]\n",
      "Total impacts for Struck - total defined edges: 1\n",
      "{0: {'impact_points': (6.285620147939317, -1.9952268787920726, -16.5), 'edgeimpact_loc': 3, 'edgeimpact_points': (-9.201666666666666, -2.920833333333333, 6.906666666666667, -2.920833333333333)}}\n",
      "Impact simulation created with 2 vehicles of type IMPC\n",
      "Simulation inputs: {'dt_motion': 0.01, 'mu_max': 0.76, 'alpha_max': 0.174533}\n",
      "\n",
      "Impact #0 detected at i: 77, t: 0.77\n",
      "\n",
      "<--- IMPC Model --->\n",
      "Striking vehicle: Striking\n",
      "Struck vehicle: Struck\n",
      "No Sliding\n",
      "alpha: 1\n",
      "Compression\n",
      "Reverse Slide\n",
      "Impact order defined as: [[0, 1]]\n",
      "IMPC inputs defined as: {0: {'vehicle_mu': 0.4045279153707315, 'cor': 0.1}}\n",
      "Driver input for Striking of shape = (501, 4)\n",
      "Driver input for Struck of shape = (501, 4)\n",
      "Predefined impact points for Striking: [x (ft), y (ft), impact plane angle (deg)] = [(4.410953044098507, -2.216776877956321, -16.5)]\n",
      "Total impacts for Striking: 1\n",
      "Predefined impact edge for Struck: [3]\n",
      "Total impacts for Struck - total defined edges: 1\n",
      "{0: {'impact_points': (4.410953044098507, -2.216776877956321, -16.5), 'edgeimpact_loc': 3, 'edgeimpact_points': (-9.201666666666666, -2.920833333333333, 6.906666666666667, -2.920833333333333)}}\n",
      "Impact simulation created with 2 vehicles of type IMPC\n",
      "Simulation inputs: {'dt_motion': 0.01, 'mu_max': 0.76, 'alpha_max': 0.174533}\n",
      "\n",
      "Impact #0 detected at i: 81, t: 0.81\n",
      "\n",
      "<--- IMPC Model --->\n",
      "Striking vehicle: Striking\n",
      "Struck vehicle: Struck\n",
      "No Sliding\n",
      "alpha: 1\n",
      "Compression\n",
      "Forward Slide\n",
      "Impact order defined as: [[0, 1]]\n",
      "IMPC inputs defined as: {0: {'vehicle_mu': 0.5705277626899348, 'cor': 0.1}}\n",
      "Driver input for Striking of shape = (501, 4)\n",
      "Driver input for Struck of shape = (501, 4)\n",
      "Predefined impact points for Striking: [x (ft), y (ft), impact plane angle (deg)] = [(5.526814500785402, -2.1840880953522843, -16.5)]\n",
      "Total impacts for Striking: 1\n",
      "Predefined impact edge for Struck: [3]\n",
      "Total impacts for Struck - total defined edges: 1\n",
      "{0: {'impact_points': (5.526814500785402, -2.1840880953522843, -16.5), 'edgeimpact_loc': 3, 'edgeimpact_points': (-9.201666666666666, -2.920833333333333, 6.906666666666667, -2.920833333333333)}}\n",
      "Impact simulation created with 2 vehicles of type IMPC\n",
      "Simulation inputs: {'dt_motion': 0.01, 'mu_max': 0.76, 'alpha_max': 0.174533}\n",
      "\n",
      "Impact #0 detected at i: 69, t: 0.6900000000000001\n",
      "\n",
      "<--- IMPC Model --->\n",
      "Striking vehicle: Striking\n",
      "Struck vehicle: Struck\n",
      "No Sliding\n",
      "alpha: 1\n",
      "Compression\n",
      "Reverse Slide\n",
      "Impact order defined as: [[0, 1]]\n",
      "IMPC inputs defined as: {0: {'vehicle_mu': 0.35012579125355453, 'cor': 0.1}}\n",
      "Driver input for Striking of shape = (501, 4)\n",
      "Driver input for Struck of shape = (501, 4)\n",
      "Predefined impact points for Striking: [x (ft), y (ft), impact plane angle (deg)] = [(5.099767182127206, -1.851480511775331, -16.5)]\n",
      "Total impacts for Striking: 1\n",
      "Predefined impact edge for Struck: [3]\n",
      "Total impacts for Struck - total defined edges: 1\n",
      "{0: {'impact_points': (5.099767182127206, -1.851480511775331, -16.5), 'edgeimpact_loc': 3, 'edgeimpact_points': (-9.201666666666666, -2.920833333333333, 6.906666666666667, -2.920833333333333)}}\n",
      "Impact simulation created with 2 vehicles of type IMPC\n",
      "Simulation inputs: {'dt_motion': 0.01, 'mu_max': 0.76, 'alpha_max': 0.174533}\n",
      "\n",
      "Impact #0 detected at i: 64, t: 0.64\n",
      "\n",
      "<--- IMPC Model --->\n",
      "Striking vehicle: Striking\n",
      "Struck vehicle: Struck\n",
      "No Sliding\n",
      "alpha: 1\n",
      "Compression\n",
      "Forward Slide\n",
      "Impact order defined as: [[0, 1]]\n",
      "IMPC inputs defined as: {0: {'vehicle_mu': 0.5275640906597197, 'cor': 0.1}}\n",
      "Driver input for Striking of shape = (501, 4)\n",
      "Driver input for Struck of shape = (501, 4)\n",
      "Predefined impact points for Striking: [x (ft), y (ft), impact plane angle (deg)] = [(4.641362851601739, -2.0336645525652015, -16.5)]\n",
      "Total impacts for Striking: 1\n",
      "Predefined impact edge for Struck: [3]\n",
      "Total impacts for Struck - total defined edges: 1\n",
      "{0: {'impact_points': (4.641362851601739, -2.0336645525652015, -16.5), 'edgeimpact_loc': 3, 'edgeimpact_points': (-9.201666666666666, -2.920833333333333, 6.906666666666667, -2.920833333333333)}}\n",
      "Impact simulation created with 2 vehicles of type IMPC\n",
      "Simulation inputs: {'dt_motion': 0.01, 'mu_max': 0.76, 'alpha_max': 0.174533}\n",
      "\n",
      "Impact #0 detected at i: 78, t: 0.78\n",
      "\n",
      "<--- IMPC Model --->\n",
      "Striking vehicle: Striking\n",
      "Struck vehicle: Struck\n",
      "No Sliding\n",
      "alpha: 1\n",
      "Compression\n",
      "Forward Slide\n",
      "Impact order defined as: [[0, 1]]\n",
      "IMPC inputs defined as: {0: {'vehicle_mu': 0.34962372094035815, 'cor': 0.1}}\n",
      "Driver input for Striking of shape = (501, 4)\n",
      "Driver input for Struck of shape = (501, 4)\n",
      "Predefined impact points for Striking: [x (ft), y (ft), impact plane angle (deg)] = [(5.040724107807302, -2.017957814016304, -16.5)]\n",
      "Total impacts for Striking: 1\n",
      "Predefined impact edge for Struck: [3]\n",
      "Total impacts for Struck - total defined edges: 1\n",
      "{0: {'impact_points': (5.040724107807302, -2.017957814016304, -16.5), 'edgeimpact_loc': 3, 'edgeimpact_points': (-9.201666666666666, -2.920833333333333, 6.906666666666667, -2.920833333333333)}}\n",
      "Impact simulation created with 2 vehicles of type IMPC\n",
      "Simulation inputs: {'dt_motion': 0.01, 'mu_max': 0.76, 'alpha_max': 0.174533}\n",
      "\n",
      "Impact #0 detected at i: 81, t: 0.81\n",
      "\n",
      "<--- IMPC Model --->\n",
      "Striking vehicle: Striking\n",
      "Struck vehicle: Struck\n",
      "No Sliding\n",
      "alpha: 1\n",
      "Compression\n",
      "Forward Slide\n",
      "Impact order defined as: [[0, 1]]\n",
      "IMPC inputs defined as: {0: {'vehicle_mu': 0.3312682509402372, 'cor': 0.1}}\n",
      "Driver input for Striking of shape = (501, 4)\n",
      "Driver input for Struck of shape = (501, 4)\n",
      "Predefined impact points for Striking: [x (ft), y (ft), impact plane angle (deg)] = [(5.866286327733105, -1.5466948857607579, -16.5)]\n",
      "Total impacts for Striking: 1\n",
      "Predefined impact edge for Struck: [3]\n",
      "Total impacts for Struck - total defined edges: 1\n",
      "{0: {'impact_points': (5.866286327733105, -1.5466948857607579, -16.5), 'edgeimpact_loc': 3, 'edgeimpact_points': (-9.201666666666666, -2.920833333333333, 6.906666666666667, -2.920833333333333)}}\n",
      "Impact simulation created with 2 vehicles of type IMPC\n",
      "Simulation inputs: {'dt_motion': 0.01, 'mu_max': 0.76, 'alpha_max': 0.174533}\n",
      "\n",
      "Impact #0 detected at i: 68, t: 0.68\n",
      "\n",
      "<--- IMPC Model --->\n",
      "Striking vehicle: Striking\n",
      "Struck vehicle: Struck\n",
      "No Sliding\n",
      "alpha: 1\n",
      "Compression\n",
      "Forward Slide\n",
      "Impact order defined as: [[0, 1]]\n",
      "IMPC inputs defined as: {0: {'vehicle_mu': 0.5547666110888689, 'cor': 0.1}}\n",
      "Driver input for Striking of shape = (501, 4)\n",
      "Driver input for Struck of shape = (501, 4)\n",
      "Predefined impact points for Striking: [x (ft), y (ft), impact plane angle (deg)] = [(4.282588485435015, -1.9266343554383472, -16.5)]\n",
      "Total impacts for Striking: 1\n",
      "Predefined impact edge for Struck: [3]\n",
      "Total impacts for Struck - total defined edges: 1\n",
      "{0: {'impact_points': (4.282588485435015, -1.9266343554383472, -16.5), 'edgeimpact_loc': 3, 'edgeimpact_points': (-9.201666666666666, -2.920833333333333, 6.906666666666667, -2.920833333333333)}}\n",
      "Impact simulation created with 2 vehicles of type IMPC\n",
      "Simulation inputs: {'dt_motion': 0.01, 'mu_max': 0.76, 'alpha_max': 0.174533}\n",
      "\n",
      "Impact #0 detected at i: 66, t: 0.66\n",
      "\n",
      "<--- IMPC Model --->\n",
      "Striking vehicle: Striking\n",
      "Struck vehicle: Struck\n",
      "No Sliding\n",
      "alpha: 1\n",
      "Compression\n",
      "Forward Slide\n",
      "Impact order defined as: [[0, 1]]\n",
      "IMPC inputs defined as: {0: {'vehicle_mu': 0.304754435168276, 'cor': 0.1}}\n",
      "Driver input for Striking of shape = (501, 4)\n",
      "Driver input for Struck of shape = (501, 4)\n",
      "Predefined impact points for Striking: [x (ft), y (ft), impact plane angle (deg)] = [(4.49199399265923, -1.7748088946600462, -16.5)]\n",
      "Total impacts for Striking: 1\n",
      "Predefined impact edge for Struck: [3]\n",
      "Total impacts for Struck - total defined edges: 1\n",
      "{0: {'impact_points': (4.49199399265923, -1.7748088946600462, -16.5), 'edgeimpact_loc': 3, 'edgeimpact_points': (-9.201666666666666, -2.920833333333333, 6.906666666666667, -2.920833333333333)}}\n",
      "Impact simulation created with 2 vehicles of type IMPC\n",
      "Simulation inputs: {'dt_motion': 0.01, 'mu_max': 0.76, 'alpha_max': 0.174533}\n",
      "\n",
      "Impact #0 detected at i: 70, t: 0.7000000000000001\n",
      "\n",
      "<--- IMPC Model --->\n",
      "Striking vehicle: Striking\n",
      "Struck vehicle: Struck\n",
      "No Sliding\n",
      "alpha: 1\n",
      "Compression\n",
      "Forward Slide\n"
     ]
    }
   ],
   "source": [
    "# inputs kept constant\n",
    "t = [0, 1, 2, 3, 4, 5]\n",
    "throttle = [0] * len(t)\n",
    "brake = [0] * len(t)\n",
    "steer = [0] * len(t)\n",
    "# inputs to vary\n",
    "vx_initial_range = [25, 35]   # <- initial striking vehicle speed (mph)\n",
    "imp_x_loc = [0.8, 1.2]        # <- vary impact x location +/- 20% of original value\n",
    "imp_y_loc = [0.8, 1.2]        # <- vary impact y location +/- 20% of original value\n",
    "friction_range = [0.3, 0.6]   # <- vary intervehicular friction\n",
    "impact_order = [[0, 1]]\n",
    "veh1.time_inputs(t, throttle, brake, steer, show_plot=False)\n",
    "\n",
    "n=10\n",
    "# blank dictionary for results\n",
    "model_results = {}\n",
    "veh1_dv = []\n",
    "veh1_initial = []\n",
    "veh2_dv = []\n",
    "vehicle_mu = []\n",
    "\"\"\" loop through various combinations \"\"\"\n",
    "p_bar = tqdm(range(0, n))\n",
    "for i in p_bar:\n",
    "    time.sleep(0.5)\n",
    "    p_bar.set_description(f'Working on: {i}')\n",
    "    # impact conditions\n",
    "    impc_inputs = {0:{'vehicle_mu': random.uniform(friction_range[0], friction_range[1]), 'cor': 0.1}}\n",
    "    \n",
    "    # initial speed\n",
    "    veh1.vx_initial = random.uniform(vx_initial_range[0], vx_initial_range[1])\n",
    "    \n",
    "    # impact location\n",
    "    veh1.impact_points = [((veh1.lcgf + veh1.f_hang - 1) * random.uniform(imp_x_loc[0], imp_x_loc[1]),  # impact point -x (feet)\n",
    "                           ((-1 * veh1.width / 2) + 1) * random.uniform(imp_y_loc[0], imp_y_loc[1]),    # impact point -y (feet)\n",
    "                           -16.5)]                                                                      # impact point normal rotation (deg)\n",
    "\n",
    "    imp = Impact('Scenario1', 2, 'IMPC', [veh1, veh2], impact_order, impc_inputs)\n",
    "    imp.simulate(show_results=False)\n",
    "    \n",
    "    # combine results into lists\n",
    "    veh1_dv.append(0.681818 * imp.impc_results[0]['veh1_impc_result']['dv'])\n",
    "    veh1_initial.append(veh1.vx_initial)\n",
    "    veh2_dv.append(0.681818 * imp.impc_results[0]['veh2_impc_result']['dv'])\n",
    "    vehicle_mu.append(impc_inputs[0]['vehicle_mu'])\n",
    "\n",
    "    \n",
    "    del imp\n",
    "                          "
   ]
  },
  {
   "cell_type": "code",
   "execution_count": 25,
   "metadata": {},
   "outputs": [],
   "source": [
    "vehicle_mu_plot = [x * 50 for x in vehicle_mu]\n",
    "veh2_dv_plot = [x * 2 for x in veh2_dv]"
   ]
  },
  {
   "cell_type": "markdown",
   "metadata": {},
   "source": [
    "### Loop Through Results"
   ]
  },
  {
   "cell_type": "markdown",
   "metadata": {},
   "source": [
    "### Plot Results"
   ]
  },
  {
   "cell_type": "code",
   "execution_count": 26,
   "metadata": {},
   "outputs": [],
   "source": [
    "fig = go.Figure()\n",
    "fig.add_trace(go.Scatter(x=veh1_dv, y=veh2_dv,\n",
    "                    mode='markers',\n",
    "                    name='Veh1 DV',\n",
    "                    marker=dict(\n",
    "                        color='LightSkyBlue',\n",
    "                        size=vehicle_mu_plot,\n",
    "                        line=dict(\n",
    "                        color='Black',\n",
    "                        width=1\n",
    "            ))))\n",
    "fig.update_layout(\n",
    "                    showlegend=False,\n",
    "                    autosize=False,\n",
    "                    width=1200,\n",
    "                    height=700,\n",
    "                    title='Striking and Struck Vehicle Delta-V (n=200)',\n",
    "                    template='plotly_white',\n",
    "                    xaxis=dict(showgrid=False, title='Striking delta-V (mph)'),\n",
    "                    yaxis=dict(showgrid=False, title='Struck delta-V (mph)'),\n",
    "                    font=dict(family='Arial', size=22, color='black'))\n",
    "fig.update_xaxes(showline=True, linewidth=1, linecolor='black', ticks=\"outside\",\n",
    "                 tickwidth=1, tickcolor='black', ticklen=10, zeroline=False)\n",
    "fig.update_yaxes(showline=True, linewidth=1, linecolor='black', ticks=\"outside\",\n",
    "                 tickwidth=1, tickcolor='black', ticklen=10, zeroline=False, range=[0, 10])\n",
    "fig.show()"
   ]
  },
  {
   "cell_type": "code",
   "execution_count": null,
   "metadata": {},
   "outputs": [],
   "source": [
    "fig = go.Figure()\n",
    "fig.add_trace(go.Scatter(x=vehicle_mu, y=veh1_dv,\n",
    "                    mode='markers',\n",
    "                    name='Veh1 DV',\n",
    "                    marker=dict(\n",
    "                        color='LightSkyBlue',\n",
    "                        size=veh2_dv_plot,\n",
    "                        line=dict(\n",
    "                        color='Black',\n",
    "                        width=1\n",
    "            ))))\n",
    "fig.update_layout(\n",
    "                    showlegend=False,\n",
    "                    autosize=False,\n",
    "                    width=1200,\n",
    "                    height=700,\n",
    "                    title='Striking Vehicle Delta-V by Intervehicular Friction (n=200)',\n",
    "                    template='plotly_white',\n",
    "                    xaxis=dict(showgrid=False, title='Friction'),\n",
    "                    yaxis=dict(showgrid=False, title='delta-V (mph)'),\n",
    "                    font=dict(family='Arial', size=22, color='black'))\n",
    "fig.update_xaxes(showline=True, linewidth=1, linecolor='black', ticks=\"outside\",\n",
    "                 tickwidth=1, tickcolor='black', ticklen=10, zeroline=False)\n",
    "fig.update_yaxes(showline=True, linewidth=1, linecolor='black', ticks=\"outside\",\n",
    "                 tickwidth=1, tickcolor='black', ticklen=10, zeroline=False, range=[0, 10])\n",
    "fig.show()"
   ]
  },
  {
   "cell_type": "code",
   "execution_count": null,
   "metadata": {},
   "outputs": [],
   "source": [
    "#fig = ff.create_distplot([veh1_dv, veh2_dv], group_labels=['Vehicle 1', 'Vehicle 2'], curve_type='normal', bin_size=.2)\n",
    "fig = ff.create_distplot([veh1_dv, veh2_dv], group_labels=['Vehicle 1', 'Vehicle 2'], bin_size=.2)\n",
    "fig.update_layout(\n",
    "                    showlegend=True,\n",
    "                    autosize=False,\n",
    "                    width=1200,\n",
    "                    height=700,\n",
    "                    title='Delta-V Distribution (n=200)',\n",
    "                    template='plotly_white',\n",
    "                    xaxis=dict(showgrid=False, title='Delta-V (mph)'),\n",
    "                    yaxis=dict(showgrid=False, title='Density'),\n",
    "                    font=dict(family='Arial', size=22, color='black'))\n",
    "fig.update_xaxes(showline=True, linewidth=1, linecolor='black', ticks=\"outside\",\n",
    "                 tickwidth=1, tickcolor='black', ticklen=10, zeroline=False)\n",
    "fig.update_yaxes(showline=True, linewidth=1, linecolor='black', ticks=\"outside\",\n",
    "                 tickwidth=1, tickcolor='black', ticklen=10, zeroline=False)\n",
    "fig.show()"
   ]
  },
  {
   "cell_type": "markdown",
   "metadata": {},
   "source": [
    "### Run Single Model"
   ]
  },
  {
   "cell_type": "code",
   "execution_count": 28,
   "metadata": {},
   "outputs": [
    {
     "name": "stdout",
     "output_type": "stream",
     "text": [
      "Impact order defined as: [[0, 1]]\n",
      "IMPC inputs defined as: {0: {'vehicle_mu': 0.304754435168276, 'cor': 0.1}}\n",
      "Driver input for Striking of shape = (501, 4)\n",
      "Driver input for Struck of shape = (501, 4)\n",
      "Predefined impact points for Striking: [x (ft), y (ft), impact plane angle (deg)] = [(4.49199399265923, -1.7748088946600462, -16.5)]\n",
      "Total impacts for Striking: 1\n",
      "Predefined impact edge for Struck: [3]\n",
      "Total impacts for Struck - total defined edges: 1\n",
      "{0: {'impact_points': (4.49199399265923, -1.7748088946600462, -16.5), 'edgeimpact_loc': 3, 'edgeimpact_points': (-9.201666666666666, -2.920833333333333, 6.906666666666667, -2.920833333333333)}}\n",
      "Impact simulation created with 2 vehicles of type IMPC\n",
      "Simulation inputs: {'dt_motion': 0.01, 'mu_max': 0.76, 'alpha_max': 0.174533}\n"
     ]
    }
   ],
   "source": [
    "# name, endTime, impact_type, vehicle_list, impact_order=None, impc_inputs=None, user_sim_defaults=None\n",
    "imp = Impact('Scenario1', 2, 'IMPC', [veh1, veh2], impact_order, impc_inputs)"
   ]
  },
  {
   "cell_type": "markdown",
   "metadata": {},
   "source": [
    "#### Show Initial Positions"
   ]
  },
  {
   "cell_type": "code",
   "execution_count": 32,
   "metadata": {},
   "outputs": [],
   "source": [
    "imp.show_initial_position()"
   ]
  },
  {
   "cell_type": "markdown",
   "metadata": {},
   "source": [
    "### Run simulation"
   ]
  },
  {
   "cell_type": "code",
   "execution_count": 30,
   "metadata": {},
   "outputs": [
    {
     "name": "stdout",
     "output_type": "stream",
     "text": [
      "\n",
      "Impact #0 detected at i: 70, t: 0.7000000000000001\n",
      "\n",
      "<--- IMPC Model --->\n",
      "Striking vehicle: Striking\n",
      "Struck vehicle: Struck\n",
      "No Sliding\n",
      "alpha: 1\n",
      "Compression\n",
      "Forward Slide\n",
      "\n",
      "---- IMPC Inputs ----\n",
      "IMPC for impact: 0 COR: 0.1, COF: 0.304754435168276\n",
      "theta c (deg): 73.5\n",
      "dx1: 4.49199399265923, dy1: -1.7748088946600462\n",
      "dx2: -8.225191105339954, dy2: -2.8243042418603532\n",
      "Post Impact:\n",
      "Vx1: 35.66 fps, Vy1: 4.96 fps\n",
      "Vx2: 4.74 fps, Vy2: 10.54 fps\n",
      "Omega1: 0.1359177108199617\n",
      "Omega2: -3.6510759609086643\n",
      "\n",
      "---- IMPC Results ---- \n",
      "{'t_effects_dis': -992.3963899444025, 'n_effects_dis': 24728.69811433464, 'tn_total_dis': 23736.301724390236}\n",
      "Veh1 DVx: -7.52 mph, DVy: 3.38 mph\n",
      "Veh2 DVx: 3.23 mph, DVy: 7.19 mph\n"
     ]
    }
   ],
   "source": [
    "imp.simulate()"
   ]
  },
  {
   "cell_type": "code",
   "execution_count": null,
   "metadata": {},
   "outputs": [],
   "source": [
    "imp.plot_impact(0)"
   ]
  },
  {
   "cell_type": "code",
   "execution_count": 31,
   "metadata": {},
   "outputs": [],
   "source": [
    "imp.plot_vehicle_motion(5, show_vector=True)"
   ]
  },
  {
   "cell_type": "markdown",
   "metadata": {},
   "source": [
    "### Load PC-Crash Data"
   ]
  },
  {
   "cell_type": "code",
   "execution_count": null,
   "metadata": {},
   "outputs": [],
   "source": [
    "pc_crash_column_names = ['t', 'ax', 'ay', 'az', 'phi_deg', 'lf_fy', 'rf_fy',\n",
    "                         'lr_fy', 'rr_fy', 'delta_deg', 'rf_delta_deg', 'steer',\n",
    "                         'steer_rate', 'X', 'Y', 'Z', 'roll', 'pitch', 'theta_deg',\n",
    "                         'Vx', 'Vy', 'Vz', 'rf_fz', 'lf_fz', 'rr_fz', 'lr_fz',\n",
    "                         'rf_alpha', 'lf_alpha', 'lr_alpha', 'rr_alpha']"
   ]
  },
  {
   "cell_type": "code",
   "execution_count": null,
   "metadata": {},
   "outputs": [],
   "source": [
    "test_file_list = os.listdir(os.path.join(os.getcwd(), 'data', 'input'))\n",
    "print('List of tests for analysis:')\n",
    "test_file_list"
   ]
  },
  {
   "cell_type": "code",
   "execution_count": null,
   "metadata": {},
   "outputs": [],
   "source": [
    "test_do = 4 # <- cho|ose test number from list to process\n",
    "print(f'Test to be processed: {test_file_list[test_do]}')"
   ]
  },
  {
   "cell_type": "code",
   "execution_count": null,
   "metadata": {},
   "outputs": [],
   "source": [
    "df = pd.read_excel(os.path.join(os.getcwd(), 'data', 'input', test_file_list[test_do]),\n",
    "                            na_filter = False, header = None, names = pc_crash_column_names, skiprows = 2,\n",
    "                            usecols = 'A:AD', nrows=51, sheet_name='target data')"
   ]
  },
  {
   "cell_type": "code",
   "execution_count": null,
   "metadata": {},
   "outputs": [],
   "source": [
    "df = pd.read_excel(os.path.join(os.getcwd(), 'data', 'input', test_file_list[test_do]),\n",
    "                            na_filter = False, header = None, names = pc_crash_column_names, skiprows = 2,\n",
    "                            usecols = 'A:AD', nrows=51, sheet_name='bullet data')"
   ]
  },
  {
   "cell_type": "code",
   "execution_count": null,
   "metadata": {},
   "outputs": [],
   "source": [
    "df.head()"
   ]
  },
  {
   "cell_type": "code",
   "execution_count": null,
   "metadata": {},
   "outputs": [],
   "source": [
    "#df.steer = [x * -1 for x in df.steer]  # reverse steer - PC-Crash is positive ccw\n",
    "\n",
    "# convert velocities to fps\n",
    "df.Vx = [x * 1.46667 for x in df.Vx]\n",
    "df.Vy = [x * -1.46667 for x in df.Vy]\n",
    "df.Vz = [x * 1.46667 for x in df.Vz]\n",
    "\n",
    "# convert acceleration to fps/s\n",
    "df.ax = [x * 32.2 for x in df.ax]\n",
    "df.ay = [x * -32.2 for x in df.ay]\n",
    "df.az = [x * 32.2 for x in df.az]\n",
    "\n",
    "# convert tire forces to lb\n",
    "df.lf_fy = [x * 1000 for x in df.lf_fy]\n",
    "df.rf_fy = [x * 1000 for x in df.rf_fy]\n",
    "df.lr_fy = [x * 1000 for x in df.lr_fy]\n",
    "df.rr_fy = [x * 1000 for x in df.rr_fy]\n",
    "\n",
    "# steer angle in radians\n",
    "df['delta_rad'] = [x / 180 * np.pi for x in df.delta_deg]\n",
    "\n",
    "# integrate velocities to get displacements\n",
    "df['Dx'] = df.X\n",
    "df['Dy'] = [x * -1 for x in df.Y]\n",
    "\n",
    "df['theta_deg'] = [x * -1 for x in df.theta_deg]\n",
    "df.head()"
   ]
  },
  {
   "cell_type": "code",
   "execution_count": null,
   "metadata": {},
   "outputs": [],
   "source": [
    "target = df.copy()"
   ]
  },
  {
   "cell_type": "code",
   "execution_count": null,
   "metadata": {},
   "outputs": [],
   "source": [
    "bullet = df.copy()"
   ]
  },
  {
   "cell_type": "code",
   "execution_count": null,
   "metadata": {},
   "outputs": [],
   "source": [
    "# calculate vehicle slip angle for pycrash model - need to correct\n",
    "for j in range(0, len(imp.vehicles)):\n",
    "    phi_rad = []\n",
    "    phi_deg = []\n",
    "    for i in range(len(imp.vehicles[j].model.t)):\n",
    "        phi_rad.append(math.atan2(imp.vehicles[j].model.vy[i], imp.vehicles[j].model.vx[i]))\n",
    "        phi_deg.append(math.atan2(imp.vehicles[j].model.vy[i], imp.vehicles[j].model.vx[i])*(180 / math.pi))\n",
    "    imp.vehicles[j].model['phi_rad'] = phi_rad\n",
    "    imp.vehicles[j].model['phi_deg'] = phi_deg"
   ]
  },
  {
   "cell_type": "code",
   "execution_count": null,
   "metadata": {},
   "outputs": [],
   "source": [
    "compare_kinematics(imp.vehicles[1].model, target, 'Pycrash', 'PC-Crash')"
   ]
  },
  {
   "cell_type": "code",
   "execution_count": null,
   "metadata": {},
   "outputs": [],
   "source": [
    "cg_motion(imp.vehicles[1].model, target, 'Pycrash', 'PC-Crash')"
   ]
  },
  {
   "cell_type": "code",
   "execution_count": null,
   "metadata": {},
   "outputs": [],
   "source": []
  },
  {
   "cell_type": "code",
   "execution_count": null,
   "metadata": {},
   "outputs": [],
   "source": []
  }
 ],
 "metadata": {
  "kernelspec": {
   "display_name": "Python 3 (ipykernel)",
   "language": "python",
   "name": "python3"
  },
  "language_info": {
   "codemirror_mode": {
    "name": "ipython",
    "version": 3
   },
   "file_extension": ".py",
   "mimetype": "text/x-python",
   "name": "python",
   "nbconvert_exporter": "python",
   "pygments_lexer": "ipython3",
   "version": "3.11.4"
  }
 },
 "nbformat": 4,
 "nbformat_minor": 4
}
