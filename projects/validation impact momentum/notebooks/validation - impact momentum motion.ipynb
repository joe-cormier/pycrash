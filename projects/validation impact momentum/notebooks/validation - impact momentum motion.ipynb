{
 "cells": [
  {
   "cell_type": "markdown",
   "metadata": {},
   "source": [
    "### Pycrash impact simulation using impulse-momentum with vehicle motion"
   ]
  },
  {
   "cell_type": "code",
   "execution_count": null,
   "metadata": {},
   "outputs": [],
   "source": [
    "# %% allow reloading of modules\n",
    "%load_ext autoreload\n",
    "%autoreload 2"
   ]
  },
  {
   "cell_type": "code",
   "execution_count": null,
   "metadata": {},
   "outputs": [],
   "source": [
    "import pycrash\n",
    "from pycrash.project import Project, project_info, load_project\n",
    "from pycrash.vehicle import Vehicle\n",
    "from pycrash.kinematicstwo import KinematicsTwo\n",
    "from pycrash.visualization.model_compare import compare_kinematics\n",
    "import pandas as pd\n",
    "import numpy as np\n",
    "import math\n",
    "from scipy import integrate\n",
    "pd.options.display.max_columns = None\n",
    "pd.options.display.max_rows = None\n",
    "import plotly.io as pio\n",
    "pio.renderers.default = \"browser\""
   ]
  },
  {
   "cell_type": "code",
   "execution_count": null,
   "metadata": {},
   "outputs": [],
   "source": [
    "# Create Vehicle 1:\n",
    "vehicle_input_dict = {\"year\":2016,\n",
    "\"make\":\"Subaru\",\n",
    "\"model\":\"WRX Sti\",\n",
    "\"weight\":3200,\n",
    "\"vin\":\"123abc\",\n",
    "\"brake\":0,\n",
    "\"steer_ratio\":16.5,\n",
    "\"init_x_pos\":0,\n",
    "\"init_y_pos\":0,\n",
    "\"head_angle\":0,\n",
    "\"width\":6,\n",
    "\"length\":19.3,\n",
    "\"hcg\":2,\n",
    "\"lcgf\":4.88,\n",
    "\"lcgr\":6.96,\n",
    "\"wb\":11.84,\n",
    "\"track\":6.6,\n",
    "\"f_hang\":3.2,\n",
    "\"r_hang\":4.1,\n",
    "\"tire_d\":2.716666667,\n",
    "\"tire_w\":0.866666667,\n",
    "\"izz\":2500,\n",
    "\"fwd\":0,\n",
    "\"rwd\":1,\n",
    "\"awd\":0,\n",
    "\"A\":100,\n",
    "\"B\":41,\n",
    "\"k\":1000,\n",
    "\"L\":0,\n",
    "\"c\":0,\n",
    "\"vx_initial\":10,\n",
    "\"vy_initial\":0,\n",
    "\"omega_z\":0}\n",
    "\n",
    "veh1 = Vehicle('Veh1', vehicle_input_dict)\n",
    "\n",
    "# %% Create Vehicle 2:\n",
    "\n",
    "vehicle_input_dict2 = {\"year\":2016,\n",
    "\"make\":\"Subaru\",\n",
    "\"model\":\"WRX Sti\",\n",
    "\"weight\":3200,\n",
    "\"vin\":\"123abc\",\n",
    "\"brake\":0,\n",
    "\"steer_ratio\":16.5,\n",
    "\"init_x_pos\":25,\n",
    "\"init_y_pos\":10,\n",
    "\"head_angle\":270,\n",
    "\"width\":6,\n",
    "\"length\":19.3,\n",
    "\"hcg\":2,\n",
    "\"lcgf\":4.88,\n",
    "\"lcgr\":6.96,\n",
    "\"wb\":11.84,\n",
    "\"track\":6.6,\n",
    "\"f_hang\":3.2,\n",
    "\"r_hang\":4.1,\n",
    "\"tire_d\":2.716666667,\n",
    "\"tire_w\":0.866666667,\n",
    "\"izz\":2500,\n",
    "\"fwd\":0,\n",
    "\"rwd\":1,\n",
    "\"awd\":0,\n",
    "\"A\":100,\n",
    "\"B\":41,\n",
    "\"k\":1000,\n",
    "\"L\":0,\n",
    "\"c\":0,\n",
    "\"vx_initial\":15,\n",
    "\"vy_initial\":0,\n",
    "\"omega_z\":0}\n",
    "\n",
    "veh2 = Vehicle('Veh2', vehicle_input_dict2)"
   ]
  },
  {
   "cell_type": "code",
   "execution_count": null,
   "metadata": {},
   "outputs": [],
   "source": []
  },
  {
   "cell_type": "code",
   "execution_count": null,
   "metadata": {},
   "outputs": [],
   "source": [
    "t = [0, 1, 2]\n",
    "brake = [0, 0, 0]\n",
    "throttle = [0, 0, 0]\n",
    "steer = [0, 0, 0]\n",
    "veh1.time_inputs(t, throttle, brake, steer)\n",
    "veh1.vx_initial = 15\n",
    "veh1.hcg = 1   # vary cg height"
   ]
  },
  {
   "cell_type": "code",
   "execution_count": null,
   "metadata": {},
   "outputs": [],
   "source": []
  },
  {
   "cell_type": "code",
   "execution_count": null,
   "metadata": {},
   "outputs": [],
   "source": [
    "veh2.time_inputs(t, throttle, brake, steer)\n",
    "veh2.vx_initial = 15\n",
    "veh2.hcg = 1   # vary cg height"
   ]
  },
  {
   "cell_type": "code",
   "execution_count": null,
   "metadata": {},
   "outputs": [],
   "source": [
    "# define impact point - Vehicle 1\n",
    "# option 2\n",
    "veh1.pimpact_x = veh1.lcgf + veh1.f_hang\n",
    "veh1.pimpact_y = 0\n",
    "veh1.impact_norm_rad = 0\n",
    "veh1.striking = True"
   ]
  },
  {
   "cell_type": "code",
   "execution_count": null,
   "metadata": {},
   "outputs": [],
   "source": [
    "# define impact edge - Vehicle 2\n",
    "#option 4\n",
    "veh2.edgeimpact = 4\n",
    "veh2.edgeimpact_x1 = -1 * veh2.lcgr - veh2.r_hang\n",
    "veh2.edgeimpact_y1 = -1 * veh2.width / 2\n",
    "veh2.edgeimpact_x2 = veh2.lcgf + veh2.f_hang\n",
    "veh2.edgeimpact_y2 = -1 * veh2.width / 2\n",
    "veh2.striking = False"
   ]
  },
  {
   "cell_type": "code",
   "execution_count": null,
   "metadata": {},
   "outputs": [],
   "source": [
    "run = KinematicsTwo('run1', 'IMPC', veh1, veh2)"
   ]
  },
  {
   "cell_type": "code",
   "execution_count": null,
   "metadata": {},
   "outputs": [],
   "source": [
    "run.simulate()"
   ]
  },
  {
   "cell_type": "code",
   "execution_count": null,
   "metadata": {},
   "outputs": [],
   "source": [
    "run.draw_simulation(len(run.veh1.model)-1)\n",
    "run.draw_simulation(64)"
   ]
  },
  {
   "cell_type": "code",
   "execution_count": null,
   "metadata": {},
   "outputs": [],
   "source": [
    "compare_kinematics(run.veh1.model, run.veh2.model, 'Veh1', 'Veh2')\n",
    "\n",
    "import matplotlib.pyplot as plt\n",
    "run.veh2.model.plot(x='t', y='vx')\n",
    "plt.show()"
   ]
  },
  {
   "cell_type": "code",
   "execution_count": null,
   "metadata": {},
   "outputs": [],
   "source": []
  },
  {
   "cell_type": "code",
   "execution_count": null,
   "metadata": {},
   "outputs": [],
   "source": []
  }
 ],
 "metadata": {
  "kernelspec": {
   "display_name": "Python 3",
   "language": "python",
   "name": "python3"
  },
  "language_info": {
   "codemirror_mode": {
    "name": "ipython",
    "version": 3
   },
   "file_extension": ".py",
   "mimetype": "text/x-python",
   "name": "python",
   "nbconvert_exporter": "python",
   "pygments_lexer": "ipython3",
   "version": "3.8.5"
  }
 },
 "nbformat": 4,
 "nbformat_minor": 4
}
