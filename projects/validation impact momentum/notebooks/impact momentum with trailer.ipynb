{
 "cells": [
  {
   "cell_type": "code",
   "execution_count": 1,
   "id": "9dc18369-0a5d-49ca-b8b5-f7f36793a860",
   "metadata": {},
   "outputs": [],
   "source": [
    "%load_ext autoreload\n",
    "%autoreload 2"
   ]
  },
  {
   "cell_type": "code",
   "execution_count": 2,
   "id": "c65f87cf-f0d0-4131-a865-38b22019ea5a",
   "metadata": {},
   "outputs": [],
   "source": [
    "import os\n",
    "import sys\n",
    "sys.path.insert(0, '/Users/joe/pycrash/')"
   ]
  },
  {
   "cell_type": "code",
   "execution_count": 3,
   "id": "f4f56127-23bf-4952-b6a9-fbb372de7cff",
   "metadata": {},
   "outputs": [],
   "source": [
    "import plotly.graph_objects as go\n",
    "import matplotlib.pyplot as plt\n",
    "import plotly.io as pio\n",
    "import importlib\n",
    "%matplotlib inline"
   ]
  },
  {
   "cell_type": "code",
   "execution_count": 4,
   "id": "52aa5713-9be1-4b1e-be00-5c379bcc1277",
   "metadata": {},
   "outputs": [],
   "source": [
    "from IPython.display import clear_output\n",
    "import time \n",
    "import pandas as pd\n",
    "import numpy as np\n",
    "from PIL import Image\n",
    "import pickle\n",
    "import sys\n",
    "\n",
    "pd.options.display.max_columns = None\n",
    "pd.options.display.max_rows = None"
   ]
  },
  {
   "cell_type": "code",
   "execution_count": 5,
   "id": "d5e393ee-4d00-49e8-85d6-868ac4704d12",
   "metadata": {},
   "outputs": [
    {
     "name": "stdout",
     "output_type": "stream",
     "text": [
      "Current values for defined constants:\n",
      "maximum available friction (mu_max) = 0.8\n",
      "time step for vehicle motion (dt) = 0.001 s\n"
     ]
    }
   ],
   "source": [
    "from pycrash.impact_main import Impact\n",
    "from pycrash.model_calcs.carpenter_momentum import IMPC\n",
    "from pycrash.visualization.initial_positions import initial_position\n",
    "from pycrash.model_calcs.position_data import position_data_static\n",
    "from pycrash.vehicle import Vehicle\n",
    "import pycrash.functions.ar as ar"
   ]
  },
  {
   "cell_type": "code",
   "execution_count": 6,
   "id": "f2e65e53-43b1-4d69-b986-571f0ee95fcd",
   "metadata": {},
   "outputs": [],
   "source": [
    "# load background image\n",
    "image_dict = {'image': Image.open('/Users/joe/google_site_1920_1080.png'),\n",
    "              'xOffset': -170,\n",
    "              'yOffset': -120,\n",
    "              'pixelsPerFoot': 3.48,\n",
    "              'opacity': 0.8}"
   ]
  },
  {
   "cell_type": "code",
   "execution_count": 7,
   "id": "40e929db-8763-4d87-bf4d-5584d07b09ed",
   "metadata": {},
   "outputs": [],
   "source": [
    "# vehicle database\n",
    "with open('/Users/joe/vehicledata.pkl', 'rb') as handle:\n",
    "    vehicledata = pickle.load(handle)"
   ]
  },
  {
   "cell_type": "markdown",
   "id": "da93e7b1-4b9d-4969-9bd5-71626cba5d4a",
   "metadata": {},
   "source": [
    "### Create Vehicles"
   ]
  },
  {
   "cell_type": "code",
   "execution_count": 114,
   "id": "949ca465-8587-4b61-b96c-639df718ff16",
   "metadata": {},
   "outputs": [
    {
     "name": "stdout",
     "output_type": "stream",
     "text": [
      "Input entry modelYearStart unknown, setting to 1997\n",
      "Input entry modelYearEnd unknown, setting to 2021\n",
      "Input entry GVWR unknown, setting to 33000\n",
      "Vehicle inputs for Bus applied successfully\n"
     ]
    }
   ],
   "source": [
    "vehicle_inputs = vehicledata['2017 Gillig Bus']\n",
    "veh3 = Vehicle('Bus', input_dict=vehicle_inputs)\n",
    "veh3.hcg = 3\n",
    "veh3.lcgf = veh3.wb / 2\n",
    "veh3.lcgr = veh3.wb / 2\n",
    "veh3.track = 7.5\n",
    "veh3.tire_d = 3\n",
    "veh3.tire_w = 10/12\n",
    "veh3.f_hang = 7.5\n",
    "veh3.r_hang = 7.5\n",
    "veh3.izz = 750000 / 3\n",
    "veh3.striking = True\n",
    "veh3.isTrailer = False"
   ]
  },
  {
   "cell_type": "markdown",
   "id": "4bfab7c1-fc78-4851-a582-eca255a7d159",
   "metadata": {},
   "source": [
    "### Create Tractor Trailer"
   ]
  },
  {
   "cell_type": "code",
   "execution_count": 115,
   "id": "0afd33b7-780f-46df-9602-c7bff83cdb7c",
   "metadata": {},
   "outputs": [
    {
     "name": "stdout",
     "output_type": "stream",
     "text": [
      "Input entry gvwr unknown, setting to 52000\n",
      "Vehicle inputs for Tractor applied successfully\n"
     ]
    }
   ],
   "source": [
    "# tractor\n",
    "newVehicleName = '1999 Freightliner Long Conv'\n",
    "vehicle_inputs = {\"year\": 1999,\n",
    "              \"make\": \"Freightliner\",\n",
    "              \"model\": \"Long Conv\",\n",
    "              \"weight\": 52000,\n",
    "              \"gvwr\": 52000,\n",
    "              \"steer_ratio\": 20,\n",
    "              \"init_x_pos\": 0,\n",
    "              \"init_y_pos\": 0,\n",
    "              \"head_angle\": 0,\n",
    "              \"width\": 2.6 * 3.28084,\n",
    "              \"length\": 8 * 3.28084,\n",
    "              \"hcg\": 4,\n",
    "              \"lcgf\": 3 * 3.28084,\n",
    "              \"lcgr\": 3 * 3.28084,\n",
    "              \"wb\": 6 * 3.28084,\n",
    "              \"track\": 2.1 * 3.28084,\n",
    "              \"f_hang\": 0.8 * 3.28084,\n",
    "              \"r_hang\": 1.3 * 3.28084,\n",
    "              \"tire_d\": 1 * 3.28084,\n",
    "              \"tire_w\": 0.3 * 3.28084,\n",
    "              \"izz\": 10000,\n",
    "              \"fwd\": 0,\n",
    "              \"rwd\": 1,\n",
    "              \"awd\": 0,\n",
    "              \"vx_initial\": 0,\n",
    "              \"vy_initial\": 0,\n",
    "              \"omega_z\": 0}\n",
    "\n",
    "veh1 = Vehicle('Tractor', input_dict=vehicle_inputs)\n",
    "veh1.striking = False\n",
    "veh1.isTrailer = False\n",
    "veh1.cg_kp = 3.22 * 3.28084"
   ]
  },
  {
   "cell_type": "code",
   "execution_count": 116,
   "id": "4962722c-3881-4a0b-b54c-e2b37b5edb0e",
   "metadata": {},
   "outputs": [
    {
     "name": "stdout",
     "output_type": "stream",
     "text": [
      "Input entry gvwr unknown, setting to 30000\n",
      "Input entry kp_axle unknown, setting to 39.37008\n",
      "Vehicle inputs for Trailer applied successfully\n"
     ]
    }
   ],
   "source": [
    "# trailer\n",
    "newVehicleName = 'forty eight trailer'\n",
    "vehicle_inputs = {\"year\": 1999,\n",
    "                  \"make\": \"trailer\",\n",
    "                  \"model\": \"forty eight\",\n",
    "                  \"weight\": 30000,\n",
    "                  \"gvwr\": 30000,\n",
    "                  \"init_x_pos\": 0,\n",
    "                  \"init_y_pos\": 0,\n",
    "                  \"head_angle\": 0,\n",
    "                  \"width\": 2.7 * 3.28084,\n",
    "                  \"length\": 16 * 3.28084,\n",
    "                  \"kp_axle\": 12 * 3.28084,    # <- kingpin to axle\n",
    "                  \"track\": 2.4 * 3.28084,\n",
    "                  \"f_hang\": 1.1 * 3.28084,\n",
    "                  \"r_hang\": 3.2 * 3.28084,\n",
    "                  \"tire_d\": 1 * 3.28084,\n",
    "                  \"tire_w\": 0.3 * 3.28084,\n",
    "                  \"izz\": 750000,\n",
    "                  \"vx_initial\": 0,\n",
    "                  \"vy_initial\": 0,\n",
    "                  \"omega_z\": 0}\n",
    "\n",
    "veh2 = Vehicle('Trailer', input_dict=vehicle_inputs)\n",
    "veh2.lcgf = (veh2.kp_axle / 2)\n",
    "veh2.lcgr = (veh2.kp_axle / 2)\n",
    "veh2.isTrailer = True\n",
    "veh2.striking = True"
   ]
  },
  {
   "cell_type": "markdown",
   "id": "fc8094f4-4d13-4a6d-bd3e-86357b3b6f17",
   "metadata": {},
   "source": [
    "### Vehicle Inputs"
   ]
  },
  {
   "cell_type": "markdown",
   "id": "6a36c1e7-f9f4-45a5-9ab9-ac91bb82f803",
   "metadata": {},
   "source": [
    "Tractor"
   ]
  },
  {
   "cell_type": "code",
   "execution_count": 117,
   "id": "3c84e786-803e-4c72-8485-5eef266ec0b6",
   "metadata": {},
   "outputs": [],
   "source": [
    "veh1.vx_initial = 15"
   ]
  },
  {
   "cell_type": "markdown",
   "id": "5be0e912-a287-4565-81d7-03a3b5f8dc56",
   "metadata": {},
   "source": [
    "Bus"
   ]
  },
  {
   "cell_type": "code",
   "execution_count": 118,
   "id": "8a11d7e1-03cc-4802-817d-e6b9592a9bdb",
   "metadata": {},
   "outputs": [],
   "source": [
    "veh3.vx_initial = 0"
   ]
  },
  {
   "cell_type": "markdown",
   "id": "6aa260bc-9f41-424c-9feb-3bbf15126755",
   "metadata": {},
   "source": [
    "### Vehicle impact points and impact planes manually entered\n",
    "- `impact_points` is a list of impacts points in the order that they will occurr in the simulation\n",
    "- `edgeimpact_points` is a list of points defining the impact edge clockwise\n",
    "- each impact requires a defined point and plane even if there is no change"
   ]
  },
  {
   "cell_type": "code",
   "execution_count": 119,
   "id": "c14ef64e-131f-4934-924a-e90491fc676a",
   "metadata": {},
   "outputs": [],
   "source": [
    "# vehicle 2 (Trailer)\n",
    "veh2.impactTotal = 1  # <- number of impacts for this vehicle\n",
    "veh2.edgeimpact = [3] * veh2.impactTotal\n",
    "# \n",
    "veh2.edgeimpact_points = [(-1 * veh2.lcgr - veh2.r_hang, -1 * veh2.width / 2, veh2.lcgf + veh2.f_hang, -veh2.width / 2)] * veh2.impactTotal\n",
    "veh2.head_angle = 250\n",
    "veh2.striking = False\n",
    "\n",
    "\n",
    "# vehicle 3\n",
    "veh3.impactTotal = 1  # <- number of impacts for this vehicle\n",
    "# impact point = (x, y, impact plane normal angle [deg])\n",
    "veh3.impact_points = [(-veh3.lcgr - veh3.r_hang, -veh3.width / 2, 70)]\n",
    "veh3.head_angle = 90\n",
    "veh3.striking = True"
   ]
  },
  {
   "cell_type": "markdown",
   "id": "416494ac-ce42-4537-8b34-ee6d98d0889f",
   "metadata": {},
   "source": [
    "### Calculate trailer conditions and impact"
   ]
  },
  {
   "cell_type": "markdown",
   "id": "1566d08c-6cf5-47e0-b467-1b5eeab8b473",
   "metadata": {},
   "source": [
    "Kingpin velocity in global frame"
   ]
  },
  {
   "cell_type": "code",
   "execution_count": 120,
   "id": "c75823e1-583c-4308-af56-dbaae3e96f46",
   "metadata": {},
   "outputs": [
    {
     "name": "stdout",
     "output_type": "stream",
     "text": [
      "Initial Kingpin velocity -> x: -14.49, y: -3.88\n"
     ]
    }
   ],
   "source": [
    "# kingpin velocity in tractor frame\n",
    "veh1.cg_kp = 3.22 * 3.28084\n",
    "veh1.head_angle = 195\n",
    "kp_Vx = veh1.vx_initial * 1.46667 * np.cos(veh1.head_angle * np.pi / 180) - veh1.vy_initial * 1.46667 * np.sin(veh1.head_angle * np.pi / 180)\n",
    "kp_Vy = veh1.vx_initial * 1.46667 * np.sin(veh1.head_angle * np.pi / 180) + veh1.vy_initial * 1.46667 * np.cos(veh1.head_angle * np.pi / 180)\n",
    "print(f'Initial Kingpin velocity -> x: {kp_Vx * 0.681818:0.2f}, y: {kp_Vy * 0.681818:0.2f}')"
   ]
  },
  {
   "cell_type": "markdown",
   "id": "861f895c-e3fc-4709-aace-287364ca4d1b",
   "metadata": {},
   "source": [
    "Trailer CG velocity"
   ]
  },
  {
   "cell_type": "code",
   "execution_count": 121,
   "id": "9c9acb5b-88af-4293-91d5-65cd47e68d64",
   "metadata": {},
   "outputs": [
    {
     "name": "stdout",
     "output_type": "stream",
     "text": [
      "Initial Kingpin velocity in trailer frame -> x: 1.31, y: -12.29\n"
     ]
    }
   ],
   "source": [
    "veh2.head_angle = 250\n",
    "kp_vx = kp_Vx * np.cos(veh2.head_angle * np.pi / 180) - kp_Vy * np.sin(veh2.head_angle * np.pi / 180)\n",
    "kp_vy = -1 * kp_Vx * np.sin(veh2.head_angle * np.pi / 180) + kp_Vy * np.cos(veh2.head_angle * np.pi / 180)\n",
    "print(f'Initial Kingpin velocity in trailer frame -> x: {kp_vx * 0.681818:0.2f}, y: {kp_vy * 0.681818:0.2f}')"
   ]
  },
  {
   "cell_type": "markdown",
   "id": "05aef86d-f9c8-4d00-8ca2-a5ee74a4da04",
   "metadata": {},
   "source": [
    "Trailer CG velocity accounting for rotation"
   ]
  },
  {
   "cell_type": "code",
   "execution_count": 122,
   "id": "4d9d6a86-d722-40f4-815e-8a3549017f1b",
   "metadata": {},
   "outputs": [
    {
     "name": "stdout",
     "output_type": "stream",
     "text": [
      "Initial trailer omega: -0.46\n",
      "Initial Trailer velocity -> x: 1.31, y: -6.14 mph\n"
     ]
    }
   ],
   "source": [
    "veh2.omega_z = kp_vy / veh2.kp_axle\n",
    "print(f'Initial trailer omega: {veh2.omega_z :0.2f}')\n",
    "\n",
    "# trailer cg velocity\n",
    "veh2.vx_initial = kp_vx * 0.681818\n",
    "veh2.vy_initial = (kp_vy - veh2.lcgf * veh2.omega_z) * 0.681818\n",
    "print(f'Initial Trailer velocity -> x: {veh2.vx_initial:0.2f}, y: {veh2.vy_initial:0.2f} mph')"
   ]
  },
  {
   "cell_type": "markdown",
   "id": "3ef4e18c-5a37-4f8d-b9a1-87546610af4f",
   "metadata": {},
   "source": [
    "### Get initial positions based on impact point"
   ]
  },
  {
   "cell_type": "code",
   "execution_count": 123,
   "id": "a83cd959-19be-413e-8521-9fe4caf18188",
   "metadata": {},
   "outputs": [],
   "source": [
    "# Vehicle 2 initial position based on impact point\n",
    "veh2_dx = 5\n",
    "veh2_dy = -1 * veh2.width / 2\n",
    "\n",
    "v2_hangle_rad = veh2.head_angle * np.pi / 180\n",
    "veh2.init_x_pos = -1 * (veh2_dx * np.cos(v2_hangle_rad) - veh2_dy * np.sin(v2_hangle_rad))\n",
    "veh2.init_y_pos = -1 * (veh2_dx * np.sin(v2_hangle_rad) + veh2_dy * np.cos(v2_hangle_rad))\n",
    "\n",
    "# impact point in vehicle 2 reference frame\n",
    "veh2.pimpact_x = veh2_dx\n",
    "veh2.pimpact_y = veh2_dy"
   ]
  },
  {
   "cell_type": "code",
   "execution_count": 124,
   "id": "7b5a01a9-4f0d-485b-b759-68a03b7b80b5",
   "metadata": {},
   "outputs": [],
   "source": [
    "# Vehicle 1 based on location of trailer\n",
    "kp_Dx = veh2.init_x_pos + veh2.lcgf * np.cos(veh2.head_angle * np.pi / 180)\n",
    "kp_Dy = veh2.init_y_pos + veh2.lcgf * np.sin(veh2.head_angle * np.pi / 180)\n",
    "\n",
    "veh1.init_x_pos = kp_Dx + veh1.cg_kp * np.cos(veh1.head_angle * np.pi / 180)\n",
    "veh1.init_y_pos = kp_Dy + veh1.cg_kp * np.sin(veh1.head_angle * np.pi / 180)"
   ]
  },
  {
   "cell_type": "code",
   "execution_count": 125,
   "id": "b3e39747-fdc1-4924-a6c6-8b390748460a",
   "metadata": {},
   "outputs": [],
   "source": [
    "# Vehicle 3 initial position based on impact point\n",
    "veh3_dx = -1 * veh3.lcgr - veh3.r_hang\n",
    "veh3_dy = -1 * veh3.width / 2\n",
    "\n",
    "v3_hangle_rad = veh3.head_angle * np.pi / 180\n",
    "veh3.init_x_pos = -1 * (veh3_dx * np.cos(v3_hangle_rad) - veh3_dy * np.sin(v3_hangle_rad))\n",
    "veh3.init_y_pos = -1 * (veh3_dx * np.sin(v3_hangle_rad) + veh3_dy * np.cos(v3_hangle_rad))\n",
    "\n",
    "# impact point in vehicle 3 reference frame\n",
    "veh3.pimpact_x = veh3_dx\n",
    "veh3.pimpact_y = veh3_dy"
   ]
  },
  {
   "cell_type": "markdown",
   "id": "280fe3a2-70d9-4957-9919-0a8cc8e4a802",
   "metadata": {},
   "source": [
    "### Initial Positions"
   ]
  },
  {
   "cell_type": "code",
   "execution_count": 126,
   "id": "c5cbb1f9-1fe7-4226-a955-762e0fddc5fb",
   "metadata": {},
   "outputs": [],
   "source": [
    "initial_position(position_data_static([veh1, veh2, veh3]))"
   ]
  },
  {
   "cell_type": "markdown",
   "id": "11fd5020-45f1-4e09-a0de-2dc7b773e24e",
   "metadata": {},
   "source": [
    "### Create Simulation"
   ]
  },
  {
   "cell_type": "code",
   "execution_count": 127,
   "id": "787970a1-87aa-4459-98a7-930d2a71d778",
   "metadata": {},
   "outputs": [],
   "source": [
    "# inputs for simulation\n",
    "sim_inputs = {'cor': 0.2,\n",
    "             'cof': 0.3,\n",
    "             'impact_norm_deg': 70}"
   ]
  },
  {
   "cell_type": "code",
   "execution_count": 128,
   "id": "0395a51c-8efa-4d90-a856-ee200f1965f4",
   "metadata": {},
   "outputs": [
    {
     "name": "stdout",
     "output_type": "stream",
     "text": [
      "theta c: 410.00 [deg]\n",
      "p-ratio: 0.42, cof: 0.3\n",
      "Sliding Condition\n",
      "Compression\n",
      "Reverse Slide\n",
      "Impact Energy: {'t_effects_dis': 2312.486479620179, 'n_effects_dis': 9877.709736541163, 'tn_total_dis': 12190.196216161341}\n"
     ]
    }
   ],
   "source": [
    "name = 'Bus vs Trailer'\n",
    "run = IMPC(name, veh2, veh3, sim_inputs)"
   ]
  },
  {
   "cell_type": "code",
   "execution_count": 129,
   "id": "aac0f715-9c08-4829-9aea-a2b300c1e879",
   "metadata": {},
   "outputs": [
    {
     "data": {
      "text/plain": [
       "{'name': 'Bus vs Trailer',\n",
       " 'type': 'impc_carpenter',\n",
       " 'veh1': <pycrash.vehicle.Vehicle at 0x176f02f90>,\n",
       " 'veh2': <pycrash.vehicle.Vehicle at 0x176f31350>,\n",
       " 'poi_veh2x': -17.291666666666664,\n",
       " 'poi_veh2y': -4.25,\n",
       " 'v1_result': {'vx': 1.4455317545330766,\n",
       "  'vy': -3.7475580405494306,\n",
       "  'oz_rad': 0.014953916710315589,\n",
       "  'oz_deg': 0.8567963146912394,\n",
       "  'dvx': 0.13819036812344693,\n",
       "  'dvy': 2.3961069406649806,\n",
       "  'dv': 2.4000885502299676},\n",
       " 'v2_result': {'vx': 1.11516050328014,\n",
       "  'vy': 2.5892797038899436,\n",
       "  'oz_rad': -0.1862860911129808,\n",
       "  'oz_deg': -10.673406802763312,\n",
       "  'dvx': 1.11516050328014,\n",
       "  'dvy': 2.5892797038899436,\n",
       "  'dv': 2.819211296276391}}"
      ]
     },
     "execution_count": 129,
     "metadata": {},
     "output_type": "execute_result"
    }
   ],
   "source": [
    "run.__dict__"
   ]
  },
  {
   "cell_type": "code",
   "execution_count": null,
   "id": "bef3a56d-becd-46d7-ab99-05bb5a5794e8",
   "metadata": {},
   "outputs": [],
   "source": []
  },
  {
   "cell_type": "markdown",
   "id": "995c600c-61c7-4429-90c7-41497c08fe86",
   "metadata": {},
   "source": [
    "### Parametric Analysis\n",
    "- tractor initial speed 9 - 11\n",
    "- trailer heading angle 240 - 260\n",
    "- tractor heading angle 185 - 205\n",
    "- impact plane angle"
   ]
  },
  {
   "cell_type": "code",
   "execution_count": 142,
   "id": "984259f3-2024-4b72-9ee2-ad060cee986b",
   "metadata": {},
   "outputs": [],
   "source": [
    "monte_carlo_impacts = pd.DataFrame()\n",
    "\n",
    "for n_run in range(1, 1000):\n",
    "    # tractor velocity\n",
    "    veh1.vx_initial = np.random.uniform(9,11)\n",
    "    \n",
    "    # vehicle orientations\n",
    "    # vehicle 2 (Trailer)\n",
    "    veh2.impactTotal = 1  # <- number of impacts for this vehicle\n",
    "    veh2.edgeimpact = [3] * veh2.impactTotal\n",
    "    # \n",
    "    veh2.edgeimpact_points = [(-1 * veh2.lcgr - veh2.r_hang, -1 * veh2.width / 2, veh2.lcgf + veh2.f_hang, -veh2.width / 2)] * veh2.impactTotal\n",
    "    veh2.head_angle = np.random.uniform(240, 260)\n",
    "    veh2.striking = False\n",
    "    \n",
    "    impact_norm_angle = np.random.uniform(60, 80)\n",
    "    \n",
    "    # vehicle 3\n",
    "    veh3.impactTotal = 1  # <- number of impacts for this vehicle\n",
    "    # impact point = (x, y, impact plane normal angle [deg])\n",
    "    veh3.impact_points = [(-veh3.lcgr - veh3.r_hang, -veh3.width / 2, 70)]\n",
    "    veh3.head_angle = 90\n",
    "    veh3.striking = True\n",
    "    \n",
    "    # kingpin velocity in tractor frame\n",
    "    veh1.cg_kp = 3.22 * 3.28084\n",
    "    veh1.head_angle = np.random.uniform(185, 205)\n",
    "    kp_Vx = veh1.vx_initial * 1.46667 * np.cos(veh1.head_angle * np.pi / 180) - veh1.vy_initial * 1.46667 * np.sin(veh1.head_angle * np.pi / 180)\n",
    "    kp_Vy = veh1.vx_initial * 1.46667 * np.sin(veh1.head_angle * np.pi / 180) + veh1.vy_initial * 1.46667 * np.cos(veh1.head_angle * np.pi / 180)\n",
    "    print(f'Initial Kingpin velocity -> x: {kp_Vx * 0.681818:0.2f}, y: {kp_Vy * 0.681818:0.2f}')\n",
    "    \n",
    "    # kingpin velocity in trailer frame\n",
    "    kp_vx = kp_Vx * np.cos(veh2.head_angle * np.pi / 180) - kp_Vy * np.sin(veh2.head_angle * np.pi / 180)\n",
    "    kp_vy = -1 * kp_Vx * np.sin(veh2.head_angle * np.pi / 180) + kp_Vy * np.cos(veh2.head_angle * np.pi / 180)\n",
    "    print(f'Initial Kingpin velocity in trailer frame -> x: {kp_vx * 0.681818:0.2f}, y: {kp_vy * 0.681818:0.2f}')\n",
    "    \n",
    "    # trailer omega\n",
    "    veh2.omega_z = kp_vy / veh2.kp_axle\n",
    "    print(f'Initial trailer omega: {veh2.omega_z :0.2f}')\n",
    "    \n",
    "    # trailer cg velocity\n",
    "    veh2.vx_initial = kp_vx * 0.681818\n",
    "    veh2.vy_initial = (kp_vy - veh2.lcgf * veh2.omega_z) * 0.681818\n",
    "    print(f'Initial Trailer velocity -> x: {veh2.vx_initial:0.2f}, y: {veh2.vy_initial:0.2f} mph')\n",
    "    \n",
    "    # Vehicle 2 initial position based on impact point\n",
    "    veh2_dx = 5\n",
    "    veh2_dy = -1 * veh2.width / 2\n",
    "    \n",
    "    v2_hangle_rad = veh2.head_angle * np.pi / 180\n",
    "    veh2.init_x_pos = -1 * (veh2_dx * np.cos(v2_hangle_rad) - veh2_dy * np.sin(v2_hangle_rad))\n",
    "    veh2.init_y_pos = -1 * (veh2_dx * np.sin(v2_hangle_rad) + veh2_dy * np.cos(v2_hangle_rad))\n",
    "    \n",
    "    # impact point in vehicle 2 reference frame\n",
    "    veh2.pimpact_x = veh2_dx\n",
    "    veh2.pimpact_y = veh2_dy\n",
    "    \n",
    "    # Vehicle 1 based on location of trailer\n",
    "    kp_Dx = veh2.init_x_pos + veh2.lcgf * np.cos(veh2.head_angle * np.pi / 180)\n",
    "    kp_Dy = veh2.init_y_pos + veh2.lcgf * np.sin(veh2.head_angle * np.pi / 180)\n",
    "    \n",
    "    veh1.init_x_pos = kp_Dx + veh1.cg_kp * np.cos(veh1.head_angle * np.pi / 180)\n",
    "    veh1.init_y_pos = kp_Dy + veh1.cg_kp * np.sin(veh1.head_angle * np.pi / 180)\n",
    "    \n",
    "    # Vehicle 3 initial position based on impact point\n",
    "    veh3_dx = -1 * veh3.lcgr - veh3.r_hang\n",
    "    veh3_dy = -1 * veh3.width / 2\n",
    "    \n",
    "    v3_hangle_rad = veh3.head_angle * np.pi / 180\n",
    "    veh3.init_x_pos = -1 * (veh3_dx * np.cos(v3_hangle_rad) - veh3_dy * np.sin(v3_hangle_rad))\n",
    "    veh3.init_y_pos = -1 * (veh3_dx * np.sin(v3_hangle_rad) + veh3_dy * np.cos(v3_hangle_rad))\n",
    "    \n",
    "    # impact point in vehicle 3 reference frame\n",
    "    veh3.pimpact_x = veh3_dx\n",
    "    veh3.pimpact_y = veh3_dy\n",
    "    \n",
    "    # inputs for simulation\n",
    "    sim_inputs = {'cor': 0.2,\n",
    "                 'cof': 0.3,\n",
    "                 'impact_norm_deg': impact_norm_angle}\n",
    "    \n",
    "    name = 'Bus vs Trailer'\n",
    "    run = IMPC(name, veh2, veh3, sim_inputs)\n",
    "\n",
    "    base_output = {\n",
    "                   'sim': n_run,\n",
    "                   'v1_speed': veh1.vx_initial,\n",
    "                   'v2x_speed': veh2.vx_initial,\n",
    "                   'v2y_speed': veh2.vy_initial,\n",
    "                   'v1_head_angle': veh1.head_angle,\n",
    "                   'v2_head_angle': veh2.head_angle,\n",
    "                   'impact_plane_angle': impact_norm_angle,\n",
    "                   'v2_dvx': run.__dict__['v1_result']['dvx'],\n",
    "                   'v2_dvy': run.__dict__['v1_result']['dvy'],\n",
    "                   'v2_dv': run.__dict__['v1_result']['dv'],\n",
    "                   'v3_dvx': run.__dict__['v2_result']['dvx'],\n",
    "                   'v3_dvy': run.__dict__['v2_result']['dvy'],\n",
    "                   'v3_dv': run.__dict__['v2_result']['dv']\n",
    "                   }\n",
    "\n",
    "    monte_carlo_impacts = pd.concat([\n",
    "                                    monte_carlo_impacts,\n",
    "                                    pd.DataFrame([\n",
    "                                                  base_output                \n",
    "                                                ])\n",
    "                                    ],\n",
    "                                                ignore_index=True\n",
    "                                    )\n",
    "    del base_output\n",
    "    \n",
    "    clear_output(wait=False)\n",
    "\n",
    "monte_carlo_impacts.to_csv('/Users/joe/mckinnis_simulations.csv', index=False)"
   ]
  },
  {
   "cell_type": "code",
   "execution_count": 137,
   "id": "27af67f8-e7c2-4f78-838c-df725c82b06d",
   "metadata": {},
   "outputs": [
    {
     "data": {
      "text/plain": [
       "1.11516050328014"
      ]
     },
     "execution_count": 137,
     "metadata": {},
     "output_type": "execute_result"
    }
   ],
   "source": [
    "run.__dict__['v2_result']['vx']"
   ]
  },
  {
   "cell_type": "code",
   "execution_count": 138,
   "id": "ed2a5752-9057-4eef-956a-efaca2829e81",
   "metadata": {},
   "outputs": [
    {
     "data": {
      "text/plain": [
       "{'name': 'Bus vs Trailer',\n",
       " 'type': 'impc_carpenter',\n",
       " 'veh1': <pycrash.vehicle.Vehicle at 0x176f02f90>,\n",
       " 'veh2': <pycrash.vehicle.Vehicle at 0x176f31350>,\n",
       " 'poi_veh2x': -17.291666666666664,\n",
       " 'poi_veh2y': -4.25,\n",
       " 'v1_result': {'vx': 1.4455317545330766,\n",
       "  'vy': -3.7475580405494306,\n",
       "  'oz_rad': 0.014953916710315589,\n",
       "  'oz_deg': 0.8567963146912394,\n",
       "  'dvx': 0.13819036812344693,\n",
       "  'dvy': 2.3961069406649806,\n",
       "  'dv': 2.4000885502299676},\n",
       " 'v2_result': {'vx': 1.11516050328014,\n",
       "  'vy': 2.5892797038899436,\n",
       "  'oz_rad': -0.1862860911129808,\n",
       "  'oz_deg': -10.673406802763312,\n",
       "  'dvx': 1.11516050328014,\n",
       "  'dvy': 2.5892797038899436,\n",
       "  'dv': 2.819211296276391}}"
      ]
     },
     "execution_count": 138,
     "metadata": {},
     "output_type": "execute_result"
    }
   ],
   "source": [
    "run.__dict__"
   ]
  },
  {
   "cell_type": "code",
   "execution_count": null,
   "id": "5e11f52f-597e-4b26-b2d6-8871b5858502",
   "metadata": {},
   "outputs": [],
   "source": []
  }
 ],
 "metadata": {
  "kernelspec": {
   "display_name": "Python 3 (ipykernel)",
   "language": "python",
   "name": "python3"
  },
  "language_info": {
   "codemirror_mode": {
    "name": "ipython",
    "version": 3
   },
   "file_extension": ".py",
   "mimetype": "text/x-python",
   "name": "python",
   "nbconvert_exporter": "python",
   "pygments_lexer": "ipython3",
   "version": "3.11.4"
  }
 },
 "nbformat": 4,
 "nbformat_minor": 5
}
