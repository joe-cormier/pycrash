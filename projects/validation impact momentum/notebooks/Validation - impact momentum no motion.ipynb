{
 "cells": [
  {
   "cell_type": "markdown",
   "source": [
    "### Pycrash - Impact Momentum Validation"
   ],
   "metadata": {
    "collapsed": false
   }
  },
  {
   "cell_type": "code",
   "execution_count": null,
   "outputs": [],
   "source": [
    "# %% allow reloading of modules\n",
    "%load_ext autoreload\n",
    "%autoreload 2"
   ],
   "metadata": {
    "collapsed": false,
    "pycharm": {
     "name": "#%%\n"
    }
   }
  },
  {
   "cell_type": "code",
   "execution_count": null,
   "outputs": [],
   "source": [
    "import sys\n",
    "#sys.path.append(\"D:\\\\OneDrive\\\\pycrash\")\n",
    "#sys.path.append(\"/home/joemcormier/pycrash/\")\n",
    "sys.path.insert(0,'/home/jmc/Documents/pycrash')"
   ],
   "metadata": {
    "collapsed": false,
    "pycharm": {
     "name": "#%%\n"
    }
   }
  },
  {
   "cell_type": "code",
   "execution_count": null,
   "outputs": [],
   "source": [
    "import pycrash\n",
    "from pycrash.project import Project, project_info, load_project\n",
    "from pycrash.vehicle import Vehicle\n",
    "from pycrash.kinematicstwo import KinematicsTwo\n",
    "from pycrash.model_calcs.carpenter_momentum import IMPC"
   ],
   "metadata": {
    "collapsed": false,
    "pycharm": {
     "name": "#%%\n"
    }
   }
  },
  {
   "cell_type": "code",
   "execution_count": null,
   "outputs": [],
   "source": [
    "import pandas as pd\n",
    "import numpy as np\n",
    "import math\n",
    "from scipy import integrate\n",
    "pd.options.display.max_columns = None\n",
    "pd.options.display.max_rows = None\n",
    "from IPython import get_ipython\n",
    "from IPython.display import display\n",
    "get_ipython().run_line_magic('matplotlib', 'qt')"
   ],
   "metadata": {
    "collapsed": false,
    "pycharm": {
     "name": "#%%\n"
    }
   }
  },
  {
   "cell_type": "markdown",
   "source": [
    "### Load Project Datafile that was created when project was instantiated\n",
    "- the project object contains information needed to run other parts of Pycrash"
   ],
   "metadata": {
    "collapsed": false
   }
  },
  {
   "cell_type": "markdown",
   "source": [
    "#### Get project information - used to import project object"
   ],
   "metadata": {
    "collapsed": false
   }
  },
  {
   "cell_type": "code",
   "execution_count": null,
   "outputs": [],
   "source": [
    "project_info('validation impact momentum')"
   ],
   "metadata": {
    "collapsed": false,
    "pycharm": {
     "name": "#%%\n"
    }
   }
  },
  {
   "cell_type": "markdown",
   "source": [
    "#### Load project and print contents"
   ],
   "metadata": {
    "collapsed": false
   }
  },
  {
   "cell_type": "code",
   "execution_count": null,
   "outputs": [],
   "source": [
    "proj = load_project('validation impact momentum')\n",
    "proj.show()"
   ],
   "metadata": {
    "collapsed": false,
    "pycharm": {
     "name": "#%%\n"
    }
   }
  },
  {
   "cell_type": "markdown",
   "source": [
    "### Create Vehicles"
   ],
   "metadata": {
    "collapsed": false
   }
  },
  {
   "cell_type": "markdown",
   "source": [
    "##### ToDo: simplify redundant vehicle inputs"
   ],
   "metadata": {
    "collapsed": false
   }
  },
  {
   "cell_type": "code",
   "execution_count": 6,
   "outputs": [
    {
     "name": "stdout",
     "output_type": "stream",
     "text": [
      "Vehicle inputs for Veh1 applied succesfully\n"
     ]
    }
   ],
   "source": [
    "# Create Vehicle 1:\n",
    "vehicle_input_dict = {\"year\":2016,\n",
    "\"make\":\"Honda\",\n",
    "\"weight\":3451,\n",
    "\"init_x_pos\":0,\n",
    "\"init_y_pos\":0,\n",
    "\"head_angle\":0,\n",
    "\"width\":6,\n",
    "\"length\":19.3,\n",
    "\"hcg\":2,\n",
    "\"lcgf\":4.88,\n",
    "\"lcgr\":6.96,\n",
    "\"wb\":11.84,\n",
    "\"track\":6.6,\n",
    "\"f_hang\":3.2,\n",
    "\"r_hang\":4.1,\n",
    "\"tire_d\":2.716666667,\n",
    "\"tire_w\":0.866666667,\n",
    "\"izz\":2152,\n",
    "\"fwd\":0,\n",
    "\"rwd\":1,\n",
    "\"awd\":0,\n",
    "\"L\":0,\n",
    "\"c\":0,\n",
    "\"vx_initial\":10,\n",
    "\"vy_initial\":0,\n",
    "\"omega_z\":0}\n",
    "\n",
    "veh1 = Vehicle('Veh1', vehicle_input_dict)"
   ],
   "metadata": {
    "collapsed": false,
    "pycharm": {
     "name": "#%%\n"
    }
   }
  },
  {
   "cell_type": "code",
   "execution_count": null,
   "outputs": [],
   "source": [
    "# %% Create Vehicle 2:\n",
    "vehicle_input_dict2 = {\"year\":2016,\n",
    "\"make\":\"Chevy\",\n",
    "\"weight\":4695,\n",
    "\"steer_ratio\":16.5,\n",
    "\"init_x_pos\":25,\n",
    "\"init_y_pos\":10,\n",
    "\"head_angle\":270,\n",
    "\"width\":6,\n",
    "\"length\":19.3,\n",
    "\"hcg\":2,\n",
    "\"lcgf\":4.88,\n",
    "\"lcgr\":6.96,\n",
    "\"wb\":11.84,\n",
    "\"track\":6.6,\n",
    "\"f_hang\":3.2,\n",
    "\"r_hang\":4.1,\n",
    "\"tire_d\":2.716666667,\n",
    "\"tire_w\":0.866666667,\n",
    "\"izz\":2804,\n",
    "\"fwd\":0,\n",
    "\"rwd\":1,\n",
    "\"awd\":0,\n",
    "\"A\":100,\n",
    "\"B\":41,\n",
    "\"k\":1000,\n",
    "\"L\":0,\n",
    "\"c\":0,\n",
    "\"vx_initial\":15,\n",
    "\"vy_initial\":0,\n",
    "\"omega_z\":0}\n",
    "\n",
    "veh2 = Vehicle('Veh2', vehicle_input_dict2)"
   ],
   "metadata": {
    "collapsed": false,
    "pycharm": {
     "name": "#%%\n"
    }
   }
  },
  {
   "cell_type": "markdown",
   "source": [
    "#### Create Inputs"
   ],
   "metadata": {
    "collapsed": false,
    "pycharm": {
     "name": "#%% md\n"
    }
   }
  },
  {
   "cell_type": "code",
   "execution_count": null,
   "outputs": [],
   "source": [
    "test_data = {}\n",
    "test_data['4363'] = {v1_cg_ic: 2.6,\n",
    "                     v1_theta_cg_ic: 23.8,\n",
    "                     v1_head_angle: 180,\n",
    "                     v1_vx: 35.1,\n",
    "                     v2_cg_ic: 5.7,\n",
    "                     v2_theta_cg_ic: 10.6,\n",
    "                     v2_head_angle: 32,\n",
    "                     v2_vx: 35}\n",
    "test_do = '4363'\n",
    "v1_rotate_theta = (test_data[test_do]['v1_head_angle'] + test_data[test_do]['v1_theta_cg_ic']) * np.pi / 180\n",
    "veh1.head_angle = test_data[test_do]['v1_head_angle']\n",
    "veh1.init_x_pos = (test_data[test_do]['v1_cg_ic'] * np.cos(test_data[test_do]['v1_theta_cg_ic'] * np.pi / 180)) * np.cos(v1_rotate_theta) + \\\n",
    "                  (test_data[test_do]['v1_cg_ic'] * np.sin(test_data[test_do]['v1_theta_cg_ic'] * np.pi / 180)) * np.sin(v1_rotate_theta)\n",
    "veh1.init_y_pos = -1* (test_data[test_do]['v1_cg_ic'] * np.cos(test_data[test_do]['v1_theta_cg_ic'] * np.pi / 180)) * np.sin(v1_rotate_theta) + \\\n",
    "                  (test_data[test_do]['v1_cg_ic'] * np.sin(test_data[test_do]['v1_theta_cg_ic'] * np.pi / 180)) * np.cos(v1_rotate_theta)\n",
    "\n",
    "# getting initial x,y position of the vehicles.\n",
    "\n",
    "\n",
    "\n",
    "\n",
    "veh1_input = vehicle_data['FordFusion'].copy()\n",
    "veh1_input['vx_initial'] = test_inputs['impact_speed']\n",
    "veh1_input['pimpact_x'] = test_inputs['d_impact'] * np.cos(test_inputs['phi_impact'] * np.pi / 180)\n",
    "veh1_input['pimpact_y'] = test_inputs['d_impact'] * np.sin(test_inputs['phi_impact'] * np.pi / 180)\n",
    "veh1_input['impact_norm_rad'] = test_inputs['gamma'] * np.pi / 180\n",
    "\n",
    "veh2_input = vehicle_data['barrier'].copy()\n",
    "veh2_input['vx_initial'] = 0\n",
    "veh2_input['init_x_pos'] = vehicle_data['barrier']['length'] / 2 + vehicle_data['FordFusion']['lcgf'] + \\\n",
    "                           vehicle_data['FordFusion']['f_hang']\n",
    "veh2_input['init_y_pos'] = test_inputs['d_impact'] * np.sin(test_inputs['phi_impact'] * np.pi / 180)\n",
    "veh2_input['head_angle'] = 180\n",
    "\n",
    "# append data to test data dictionary\n",
    "test_inputs['pimpact_x'] = test_inputs['d_impact'] * np.cos(test_inputs['phi_impact'] * np.pi / 180)\n",
    "test_inputs['pimpact_y'] = test_inputs['d_impact'] * np.sin(test_inputs['phi_impact'] * np.pi / 180)\n",
    "test_inputs['impact_norm_rad'] = test_inputs['gamma'] * np.pi / 180\n",
    "test_inputs['barrier_x_pos'] = vehicle_data['barrier']['length'] / 2 + vehicle_data['FordFusion']['lcgf'] + vehicle_data['FordFusion']['f_hang']\n",
    "test_inputs['barrier_y_pos'] = test_inputs['d_impact'] * np.sin(test_inputs['phi_impact'] * np.pi / 180)\n"
   ],
   "metadata": {
    "collapsed": false,
    "pycharm": {
     "name": "#%%\n"
    }
   }
  },
  {
   "cell_type": "code",
   "execution_count": null,
   "outputs": [],
   "source": [
    "sim_inputs = {'cor': res[0][0],\n",
    "              'cof': res[0][1],\n",
    "              'impact_norm_deg': res[0][2]}\n",
    "print(f'Simulation inputs for {current_test}: {sim_inputs.values()}')\n",
    "\n",
    "run = IMPC(current_test, veh1, veh2, sim_inputs)\n",
    "run.results()"
   ],
   "metadata": {
    "collapsed": false,
    "pycharm": {
     "name": "#%%\n"
    }
   }
  }
 ],
 "metadata": {
  "kernelspec": {
   "name": "python3",
   "language": "python",
   "display_name": "Python 3"
  },
  "language_info": {
   "codemirror_mode": {
    "name": "ipython",
    "version": 3
   },
   "file_extension": ".py",
   "mimetype": "text/x-python",
   "name": "python",
   "nbconvert_exporter": "python",
   "pygments_lexer": "ipython3",
   "version": "3.6.9"
  }
 },
 "nbformat": 4,
 "nbformat_minor": 4
}