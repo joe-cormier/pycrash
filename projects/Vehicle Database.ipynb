{
 "cells": [
  {
   "cell_type": "code",
   "execution_count": null,
   "metadata": {},
   "outputs": [],
   "source": [
    "import pandas as pd\n",
    "import pprint\n",
    "import pickle\n",
    "import os"
   ]
  },
  {
   "cell_type": "markdown",
   "metadata": {},
   "source": [
    "### Vehicle Database\n",
    "- stores vehicles information which can be called by importing saved file"
   ]
  },
  {
   "cell_type": "markdown",
   "metadata": {},
   "source": [
    "### Load vehicle data"
   ]
  },
  {
   "cell_type": "code",
   "execution_count": null,
   "metadata": {},
   "outputs": [],
   "source": [
    "with open(os.path.join(os.getcwd(), 'data', 'input', 'vehicledata.pkl'), 'rb') as handle:\n",
    "    vehicledata = pickle.load(handle)\n",
    "#print(vehicledata)"
   ]
  },
  {
   "cell_type": "markdown",
   "metadata": {},
   "source": [
    "### Enter information for vehicle to add to database"
   ]
  },
  {
   "cell_type": "code",
   "execution_count": null,
   "metadata": {},
   "outputs": [],
   "source": [
    "newVehicleName = '2021 Make Model'\n",
    "newVehicle = {\"year\": 2021,\n",
    "                         \"make\": \"Make\",\n",
    "                         \"model\": \"Model\",\n",
    "                         \"weight\": 5000,\n",
    "                         \"steer_ratio\": 16.5,\n",
    "                         \"init_x_pos\": 0,\n",
    "                         \"init_y_pos\": 0,\n",
    "                         \"head_angle\": 0,\n",
    "                         \"width\": 6,\n",
    "                         \"length\": 15,\n",
    "                         \"hcg\": 1,\n",
    "                         \"lcgf\": 4.5,\n",
    "                         \"lcgr\": 4.5,\n",
    "                         \"wb\": 9,\n",
    "                         \"track\": 6,\n",
    "                         \"f_hang\": 3,\n",
    "                         \"r_hang\": 3,\n",
    "                         \"tire_d\": 29.5 / 12,\n",
    "                         \"tire_w\": 0.804,\n",
    "                         \"izz\": 4000,\n",
    "                         \"fwd\":1,\n",
    "                         \"rwd\":0,\n",
    "                         \"awd\":0,\n",
    "                         \"vx_initial\": 0,\n",
    "                         \"vy_initial\": 0,\n",
    "                         \"omega_z\": 0}"
   ]
  },
  {
   "cell_type": "code",
   "execution_count": null,
   "metadata": {},
   "outputs": [],
   "source": [
    "vehicledata[newVehicleName] = newVehicle\n",
    "print(f'New vehicle added: {newVehicleName}')\n",
    "pprint.pprint(vehicledata[newVehicleName])"
   ]
  },
  {
   "cell_type": "markdown",
   "metadata": {},
   "source": [
    "### Save"
   ]
  },
  {
   "cell_type": "code",
   "execution_count": null,
   "metadata": {},
   "outputs": [],
   "source": [
    "with open(os.path.join(os.getcwd(), 'data', 'input', 'vehicledata.pkl'), 'wb') as handle:\n",
    "    pickle.dump(vehicledata, handle, protocol=pickle.HIGHEST_PROTOCOL)"
   ]
  },
  {
   "cell_type": "markdown",
   "metadata": {},
   "source": [
    "### Search for a keyword"
   ]
  },
  {
   "cell_type": "code",
   "execution_count": null,
   "metadata": {},
   "outputs": [],
   "source": [
    "keyword = 'Make'\n",
    "for key in vehicledata:\n",
    "    if keyword in key:\n",
    "        print(f'Keyword {keyword} found in {key}')\n",
    "        pprint.pprint(vehicledata[key])"
   ]
  }
 ],
 "metadata": {
  "kernelspec": {
   "display_name": ".venv",
   "language": "python",
   "name": ".venv"
  },
  "language_info": {
   "codemirror_mode": {
    "name": "ipython",
    "version": 3
   },
   "file_extension": ".py",
   "mimetype": "text/x-python",
   "name": "python",
   "nbconvert_exporter": "python",
   "pygments_lexer": "ipython3",
   "version": "3.9.1"
  }
 },
 "nbformat": 4,
 "nbformat_minor": 4
}
