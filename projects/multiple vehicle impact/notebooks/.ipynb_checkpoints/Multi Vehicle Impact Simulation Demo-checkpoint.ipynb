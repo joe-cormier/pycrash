{
 "cells": [
  {
   "cell_type": "markdown",
   "metadata": {},
   "source": [
    "### In progress - multiple vehicle impact"
   ]
  },
  {
   "cell_type": "code",
   "execution_count": null,
   "metadata": {},
   "outputs": [],
   "source": [
    "# %% allow reloading of modules\n",
    "%load_ext autoreload\n",
    "%autoreload 2"
   ]
  },
  {
   "cell_type": "code",
   "execution_count": null,
   "metadata": {},
   "outputs": [],
   "source": [
    "import pandas as pd\n",
    "import sys\n",
    "import os\n",
    "pd.options.display.max_columns = None\n",
    "pd.options.display.max_rows = None"
   ]
  },
  {
   "cell_type": "code",
   "execution_count": null,
   "metadata": {},
   "outputs": [],
   "source": [
    "import sys\n",
    "sys.path.insert(0, '/Users/joe/Documents/pycrash')"
   ]
  },
  {
   "cell_type": "code",
   "execution_count": null,
   "metadata": {},
   "outputs": [],
   "source": [
    "# python dictionary containing vehicle specifications\n",
    "import projects.data.vehicle_data_collection as veh"
   ]
  },
  {
   "cell_type": "code",
   "execution_count": null,
   "metadata": {},
   "outputs": [],
   "source": [
    "from pycrash.impact_main import Impact\n",
    "from pycrash.vehicle import Vehicle"
   ]
  },
  {
   "cell_type": "markdown",
   "metadata": {},
   "source": [
    "### Create Vehicles\n",
    "- all inputs entered manually for now"
   ]
  },
  {
   "cell_type": "markdown",
   "metadata": {},
   "source": [
    "- Pull data from data collection\n",
    "- Assign to each vehicle"
   ]
  },
  {
   "cell_type": "code",
   "execution_count": null,
   "metadata": {},
   "outputs": [],
   "source": [
    "veh1 = Vehicle('Striking', veh.vehicle_data['ChevyTahoe'])\n",
    "veh1.striking = True  # <- set to striking vehicle\n",
    "\n",
    "veh2 = Vehicle('Struck', veh.vehicle_data['TractorTrailer'])\n",
    "veh2.striking = False  # <- set to struck\n",
    "\n",
    "veh3 = Vehicle('Barrier', veh.vehicle_data['barrier'])\n",
    "veh3.striking = False  # <- set to struck"
   ]
  },
  {
   "cell_type": "markdown",
   "metadata": {},
   "source": [
    "### Vehicle 1 inputs"
   ]
  },
  {
   "cell_type": "code",
   "execution_count": null,
   "metadata": {},
   "outputs": [],
   "source": [
    "t = [0, 0.5, 1, 1.5, 3, 4, 5, 6]\n",
    "#brake = [0, 0, 0, 0, 1, 1, 1]   # <- stopped prior to contact with barrier\n",
    "#brake = [0, 0, 0, 0, 0.5, 0.5, 0.5]   # <- \n",
    "#brake = [0, 0, 0, 0, 0.4, 0.4, 0.4]      # <- \n",
    "#brake = [0, 0, 0, 0, 0.3, 0.3, 0.3]      # <- \n",
    "brake = [0, 0, 0, 0, 0.1, 0.1, 0.1, 0.1]      # <- \n",
    "#brake = [0, 0, 0, 0, 0, 0.2, 0.2]      # <- \n",
    "#brake = [0, 0, 0, 0, 0, 0, 0]      # <- \n",
    "throttle = [0] * len(t)\n",
    "steer = [0, -20, -20, -20, -20, -20, -20, -20]\n",
    "veh1.time_inputs(t, throttle, brake, steer, show_plot=False)\n",
    "veh1.vx_initial = 45"
   ]
  },
  {
   "cell_type": "markdown",
   "metadata": {},
   "source": [
    "### Vehicle 2 inputs"
   ]
  },
  {
   "cell_type": "code",
   "execution_count": null,
   "metadata": {},
   "outputs": [],
   "source": [
    "t = [0, 0.5, 1, 1.5, 3, 4, 5, 6]\n",
    "brake = [0, 0, 0, 0.5, 0.5, 0.5, 0.5, 0.5]\n",
    "throttle = [0] * len(t)\n",
    "steer = [0, 30, 30, 30, 30, -10, -10, 0]\n",
    "veh2.time_inputs(t, throttle, brake, steer, show_plot=False)\n",
    "veh2.vx_initial = 35"
   ]
  },
  {
   "cell_type": "markdown",
   "metadata": {},
   "source": [
    "### Vehicle 3 inputs"
   ]
  },
  {
   "cell_type": "code",
   "execution_count": null,
   "metadata": {},
   "outputs": [],
   "source": [
    "t = [0, 6]\n",
    "brake = [0] * len(t)\n",
    "throttle = [0] * len(t)\n",
    "steer = [0] * len(t)\n",
    "veh3.time_inputs(t, throttle, brake, steer, show_plot=False)\n",
    "veh3.vx_initial = 0"
   ]
  },
  {
   "cell_type": "markdown",
   "metadata": {},
   "source": [
    "### Vehicle impact points and impact planes manually entered (temporarily)\n",
    "- `impact_points` is a list of impacts points in the order that they will occurr in the simulation\n",
    "- `edgeimpact_points` is a list of points defining the impact edge clockwise\n",
    "- each impact requires a defined point and plane even if there is no change"
   ]
  },
  {
   "cell_type": "code",
   "execution_count": null,
   "metadata": {},
   "outputs": [],
   "source": [
    "# vehicle 1\n",
    "# impact point = (x, y, impact plane normal angle [deg])\n",
    "veh1.impact_points = [(-veh1.lcgr + 2, -veh1.width / 2, 90), (veh1.lcgf + veh1.f_hang, 0, 0)]\n",
    "#veh1.impact_points = [(-veh1.lcgr + 2, -veh1.width / 2, 90), (veh1.lcgf + veh1.f_hang, veh1.width / 2, 0)] # right front corner\n",
    "veh1.init_x_pos = -30\n",
    "veh1.init_y_pos = 0\n",
    "\n",
    "# vehicle 2\n",
    "veh2.edgeimpact = 2\n",
    "# (right front corner, right rear corner) -> [(x1, y1, x2, y2)]\n",
    "veh2.edgeimpact_points = [(veh2.lcgf + veh2.f_hang, veh2.width / 2, -veh2.lcgr - veh2.r_hang, veh2.width / 2)]\n",
    "veh2.init_x_pos = -25\n",
    "veh2.init_y_pos = -10\n",
    "veh2.head_angle = 0\n",
    "\n",
    "# vehicle 3\n",
    "veh3.edgeimpact = 2\n",
    "# (right front corner, right rear corner) -> [(x1, y1, x2, y2)]\n",
    "veh3. edgeimpact_points = [(veh3.lcgf + veh3.f_hang, veh3.width / 2, -veh3.lcgr - veh3.r_hang, veh3.width / 2)]\n",
    "veh3.init_x_pos = 100\n",
    "veh3.init_y_pos = -24\n",
    "veh3.type = \"Barrier\"  # <- motion will not be calculated"
   ]
  },
  {
   "cell_type": "markdown",
   "metadata": {},
   "source": [
    "### Create Impact Object\n",
    "- stores vehicle data\n",
    "- runs impact simulation with vehicle motion"
   ]
  },
  {
   "cell_type": "code",
   "execution_count": null,
   "metadata": {},
   "outputs": [],
   "source": [
    "endTime = 6\n",
    "sim_defaults = {'dt_motion': 0.01,\n",
    "                'mu_max': 0.55,\n",
    "                'alpha_max': 0.174533,  # 10 degrees\n",
    "                }\n",
    "imp = Impact('test', endTime, 'IMPC', [veh1, veh2, veh3], user_sim_defaults=sim_defaults)"
   ]
  },
  {
   "cell_type": "code",
   "execution_count": null,
   "metadata": {},
   "outputs": [],
   "source": [
    "imp.vehicles[0].impact_points"
   ]
  },
  {
   "cell_type": "code",
   "execution_count": null,
   "metadata": {},
   "outputs": [],
   "source": [
    "imp.show_initial_position()"
   ]
  },
  {
   "cell_type": "markdown",
   "metadata": {},
   "source": [
    "### Vehicle model"
   ]
  },
  {
   "cell_type": "code",
   "execution_count": null,
   "metadata": {},
   "outputs": [],
   "source": [
    "imp.simulate()"
   ]
  },
  {
   "cell_type": "code",
   "execution_count": null,
   "metadata": {},
   "outputs": [],
   "source": [
    "imp.vehicles[0].impc_result"
   ]
  },
  {
   "cell_type": "code",
   "execution_count": null,
   "metadata": {},
   "outputs": [],
   "source": [
    "imp.plot_impact(0)"
   ]
  },
  {
   "cell_type": "code",
   "execution_count": null,
   "metadata": {},
   "outputs": [],
   "source": [
    "imp.plot_impact(1)"
   ]
  },
  {
   "cell_type": "code",
   "execution_count": null,
   "metadata": {},
   "outputs": [],
   "source": [
    "imp.plot_vehicle_motion(5, show_vector=True)"
   ]
  },
  {
   "cell_type": "code",
   "execution_count": null,
   "metadata": {},
   "outputs": [],
   "source": [
    "len(imp.vehicles[0].p_gx)"
   ]
  },
  {
   "cell_type": "code",
   "execution_count": null,
   "metadata": {},
   "outputs": [],
   "source": [
    "imp._impactIndex"
   ]
  },
  {
   "cell_type": "code",
   "execution_count": null,
   "metadata": {},
   "outputs": [],
   "source": [
    "imp.plot_model(1)"
   ]
  },
  {
   "cell_type": "code",
   "execution_count": null,
   "metadata": {},
   "outputs": [],
   "source": [
    "imp.vehicles[0].model.head()"
   ]
  },
  {
   "cell_type": "code",
   "execution_count": null,
   "metadata": {},
   "outputs": [],
   "source": [
    "imp.detect_data.plot(y='normal_crush')"
   ]
  },
  {
   "cell_type": "code",
   "execution_count": null,
   "metadata": {},
   "outputs": [],
   "source": [
    "imp.vehicles[0].p_gx.head()"
   ]
  },
  {
   "cell_type": "code",
   "execution_count": null,
   "metadata": {},
   "outputs": [],
   "source": [
    "imp.vehicles[0].p_gx.lf_lock.max()"
   ]
  },
  {
   "cell_type": "code",
   "execution_count": null,
   "metadata": {},
   "outputs": [],
   "source": []
  }
 ],
 "metadata": {
  "kernelspec": {
   "display_name": ".venv",
   "language": "python",
   "name": ".venv"
  },
  "language_info": {
   "codemirror_mode": {
    "name": "ipython",
    "version": 3
   },
   "file_extension": ".py",
   "mimetype": "text/x-python",
   "name": "python",
   "nbconvert_exporter": "python",
   "pygments_lexer": "ipython3",
   "version": "3.9.1"
  }
 },
 "nbformat": 4,
 "nbformat_minor": 4
}
