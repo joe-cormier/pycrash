{
 "cells": [
  {
   "cell_type": "code",
   "execution_count": null,
   "metadata": {},
   "source": [],
   "outputs": []
  },
  {
   "cell_type": "code",
   "execution_count": null,
   "metadata": {},
   "source": [],
   "outputs": []
  },
  {
   "cell_type": "code",
   "execution_count": 1,
   "metadata": {},
   "source": [
    "# %% allow reloading of modules\n",
    "%load_ext autoreload\n",
    "%autoreload 2"
   ],
   "outputs": []
  },
  {
   "cell_type": "code",
   "execution_count": 2,
   "metadata": {},
   "source": [
    "import pandas as pd\n",
    "import sys\n",
    "import os\n",
    "sys.path.insert(0,'/Users/joe/Documents/pycrash')\n",
    "#sys.path.insert(0,'/Users/joe/Documents/pycrash/projects')\n",
    "pd.options.display.max_columns = None\n",
    "pd.options.display.max_rows = None"
   ],
   "outputs": []
  },
  {
   "cell_type": "code",
   "execution_count": 3,
   "metadata": {},
   "source": [
    "# python dictionary containing vehicle specifications\n",
    "import projects.data.vehicle_data_collection as veh"
   ],
   "outputs": []
  },
  {
   "cell_type": "code",
   "execution_count": 4,
   "metadata": {},
   "source": [
    "from pycrash.impact_main import Impact\n",
    "from pycrash.vehicle import Vehicle"
   ],
   "outputs": []
  },
  {
   "cell_type": "markdown",
   "metadata": {},
   "source": [
    "### Create Vehicles\n",
    "- all inputs entered manually for now"
   ]
  },
  {
   "cell_type": "markdown",
   "metadata": {},
   "source": [
    "- Pull data from data collection\n",
    "- Assign to each vehicle"
   ]
  },
  {
   "cell_type": "code",
   "execution_count": 5,
   "metadata": {},
   "source": [
    "veh1 = Vehicle('Striking', veh.vehicle_data['ChevyTahoe'])\n",
    "veh1.striking = True  # <- set to striking vehicle\n",
    "\n",
    "veh2 = Vehicle('Struck', veh.vehicle_data['TractorTrailer'])\n",
    "veh2.striking = False  # <- set to struck\n",
    "\n",
    "veh3 = Vehicle('Barrier', veh.vehicle_data['barrier'])\n",
    "veh3.striking = False  # <- set to struck"
   ],
   "outputs": []
  },
  {
   "cell_type": "markdown",
   "metadata": {},
   "source": [
    "### Vehicle 1 inputs"
   ]
  },
  {
   "cell_type": "code",
   "execution_count": 18,
   "metadata": {},
   "source": [
    "t = [0, 0.5, 1, 1.5, 3, 4, 5]\n",
    "#brake = [0, 0, 0, 0, 1, 1, 1]\n",
    "#brake = [0, 0, 0, 0, 0.5, 0.5, 0.5]   # <- too fast post barrier impact, good impact condition with barrier\n",
    "#brake = [0, 0, 0, 0, 0.4, 0.4, 0.4]      # <- \n",
    "#brake = [0, 0, 0, 0, 0.3, 0.3, 0.3]      # <- \n",
    "#brake = [0, 0, 0, 0, 0.2, 0.2, 0.2]      # <- vehicle bounced off barrier, final velocity away from barrier\n",
    "#brake = [0, 0, 0, 0, 0, 0.2, 0.2]      # <- vehicle bounced off barrier, final velocity away from barrier\n",
    "brake = [0, 0, 0, 0, 0, 0, 0]      # <- vehicle bounced off barrier, final velocity away from barrier\n",
    "throttle = [0] * len(t)\n",
    "steer = [0, -20, -20, -20, -20, -20, -20]\n",
    "veh1.time_inputs(t, throttle, brake, steer, show_plot=False)\n",
    "veh1.vx_initial = 60"
   ],
   "outputs": []
  },
  {
   "cell_type": "markdown",
   "metadata": {},
   "source": [
    "### Vehicle 2 inputs"
   ]
  },
  {
   "cell_type": "code",
   "execution_count": 7,
   "metadata": {},
   "source": [
    "t = [0, 0.5, 1, 1.5, 3, 4, 5]\n",
    "brake = [0, 0, 0, 0.5, 0.5, 0.5, 0.5]\n",
    "throttle = [0] * len(t)\n",
    "steer = [0, 30, 30, 30, 30, 0, 0]\n",
    "veh2.time_inputs(t, throttle, brake, steer, show_plot=False)\n",
    "veh2.vx_initial = 50"
   ],
   "outputs": []
  },
  {
   "cell_type": "markdown",
   "metadata": {},
   "source": [
    "### Vehicle 3 inputs"
   ]
  },
  {
   "cell_type": "code",
   "execution_count": 8,
   "metadata": {},
   "source": [
    "t = [0, 5]\n",
    "brake = [0] * len(t)\n",
    "throttle = [0] * len(t)\n",
    "steer = [0] * len(t)\n",
    "veh3.time_inputs(t, throttle, brake, steer, show_plot=False)\n",
    "veh3.vx_initial = 0"
   ],
   "outputs": []
  },
  {
   "cell_type": "markdown",
   "metadata": {},
   "source": [
    "### Vehicle impact points and impact planes manually entered (temporarily)\n",
    "- `impact_points` is a list of impacts points in the order that they will occurr in the simulation\n",
    "- `edgeimpact_points` is a list of points defining the impact edge clockwise\n",
    "- each impact requires a defined point and plane even if there is no change"
   ]
  },
  {
   "cell_type": "code",
   "execution_count": 19,
   "metadata": {},
   "source": [
    "# vehicle 1\n",
    "veh1.impactTotal = 1  # <- number of impacts for this vehicle\n",
    "# impact point = (x, y, impact plane normal angle [deg])\n",
    "veh1.impact_points = [(-veh1.lcgr + 2, -veh1.width / 2, 90), (veh1.lcgf + veh1.f_hang, veh1.width / 2, 0)]\n",
    "veh1.init_x_pos = -43\n",
    "veh1.init_y_pos = 0\n",
    "\n",
    "# vehicle 2\n",
    "veh2.impactTotal = 1  # <- number of impacts for this vehicle\n",
    "veh2.edgeimpact = 2\n",
    "# (right front corner, right rear corner) -> [(x1, y1, x2, y2)]\n",
    "veh2.edgeimpact_points = [(veh2.lcgf + veh2.f_hang, veh2.width / 2, -veh2.lcgr - veh2.r_hang, veh2.width / 2)]\n",
    "veh2.init_x_pos = -40\n",
    "veh2.init_y_pos = -10\n",
    "veh2.head_angle = 0\n",
    "\n",
    "# vehicle 3\n",
    "veh3.impactTotal = 1  # <- number of impacts for this vehicle\n",
    "veh3.edgeimpact = 2\n",
    "# (right front corner, right rear corner) -> [(x1, y1, x2, y2)]\n",
    "veh3. edgeimpact_points = [(veh3.lcgf + veh3.f_hang, veh3.width / 2, -veh3.lcgr - veh3.r_hang, veh3.width / 2)]\n",
    "veh3.init_x_pos = 100\n",
    "veh3.init_y_pos = -24\n",
    "veh3.type = \"Barrier\"  # <- motion will not be calculated"
   ],
   "outputs": []
  },
  {
   "cell_type": "markdown",
   "metadata": {},
   "source": [
    "### Define Impact Order"
   ]
  },
  {
   "cell_type": "code",
   "execution_count": 20,
   "metadata": {},
   "source": [
    "impact_1 = [0, 1]\n",
    "impact_2 = [0, 2]\n",
    "impact_order = [impact_1, impact_2]\n",
    "\n",
    "# inputs for each impact\n",
    "impc_inputs = {0: {'vehicle_mu': 2,\n",
    "                 'cor': 0.2},\n",
    "               1: {'vehicle_mu': 1,\n",
    "                 'cor': 0.1}}"
   ],
   "outputs": []
  },
  {
   "cell_type": "markdown",
   "metadata": {},
   "source": [
    "### Create Impact Object\n",
    "- stores vehicle data\n",
    "- runs impact simulation with vehicle motion"
   ]
  },
  {
   "cell_type": "code",
   "execution_count": 21,
   "metadata": {},
   "source": [
    "endTime = 5\n",
    "sim_defaults = {'dt_motion': 0.01,\n",
    "                'mu_max': 0.55,\n",
    "                'alpha_max': 0.174533,  # 10 degrees\n",
    "                }\n",
    "imp = Impact('test', endTime, 'IMPC', [veh1, veh2, veh3], impact_order, impc_inputs, sim_defaults)"
   ],
   "outputs": []
  },
  {
   "cell_type": "code",
   "execution_count": 50,
   "metadata": {},
   "source": [
    "imp.show_initial_position()"
   ],
   "outputs": []
  },
  {
   "cell_type": "markdown",
   "metadata": {},
   "source": [
    "### Vehicle model"
   ]
  },
  {
   "cell_type": "code",
   "execution_count": 22,
   "metadata": {},
   "source": [
    "imp.simulate()"
   ],
   "outputs": []
  },
  {
   "cell_type": "code",
   "execution_count": 192,
   "metadata": {},
   "source": [
    "imp.vehicles[0].impc_result"
   ],
   "outputs": []
  },
  {
   "cell_type": "code",
   "execution_count": 113,
   "metadata": {},
   "source": [
    "imp.plot_impact(0)"
   ],
   "outputs": []
  },
  {
   "cell_type": "code",
   "execution_count": 23,
   "metadata": {},
   "source": [
    "imp.plot_impact(1)"
   ],
   "outputs": []
  },
  {
   "cell_type": "code",
   "execution_count": 24,
   "metadata": {},
   "source": [
    "imp.plot_vehicle_motion(5, show_vector=True)"
   ],
   "outputs": []
  },
  {
   "cell_type": "code",
   "execution_count": 22,
   "metadata": {},
   "source": [
    "len(imp.vehicles[0].p_gx)"
   ],
   "outputs": []
  },
  {
   "cell_type": "code",
   "execution_count": 143,
   "metadata": {},
   "source": [
    "imp._impactIndex"
   ],
   "outputs": []
  },
  {
   "cell_type": "code",
   "execution_count": 28,
   "metadata": {},
   "source": [
    "imp.plot_model(1)"
   ],
   "outputs": []
  },
  {
   "cell_type": "code",
   "execution_count": 74,
   "metadata": {},
   "source": [
    "imp.vehicles[0].model.head()"
   ],
   "outputs": []
  },
  {
   "cell_type": "code",
   "execution_count": 97,
   "metadata": {},
   "source": [
    "imp.detect_data.plot(y='normal_crush')"
   ],
   "outputs": []
  },
  {
   "cell_type": "code",
   "execution_count": 21,
   "metadata": {},
   "source": [
    "imp.vehicles[0].p_gx.head()"
   ],
   "outputs": []
  },
  {
   "cell_type": "code",
   "execution_count": 46,
   "metadata": {},
   "source": [
    "imp.vehicles[0].p_gx.lf_lock.max()"
   ],
   "outputs": []
  },
  {
   "cell_type": "code",
   "execution_count": null,
   "metadata": {},
   "source": [],
   "outputs": []
  }
 ],
 "metadata": {
  "kernelspec": {
   "display_name": ".venv",
   "language": "python",
   "name": ".venv"
  },
  "language_info": {
   "codemirror_mode": {
    "name": "ipython",
    "version": 3
   },
   "file_extension": ".py",
   "mimetype": "text/x-python",
   "name": "python",
   "nbconvert_exporter": "python",
   "pygments_lexer": "ipython3",
   "version": "3.9.1"
  }
 },
 "nbformat": 4,
 "nbformat_minor": 4
}
