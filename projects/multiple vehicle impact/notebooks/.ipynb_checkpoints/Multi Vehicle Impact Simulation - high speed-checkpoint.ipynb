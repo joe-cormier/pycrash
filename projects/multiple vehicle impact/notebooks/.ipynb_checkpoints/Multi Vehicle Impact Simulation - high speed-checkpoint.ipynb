{
 "cells": [
  {
   "cell_type": "code",
   "execution_count": null,
   "metadata": {},
   "outputs": [],
   "source": []
  },
  {
   "cell_type": "code",
   "execution_count": null,
   "metadata": {},
   "outputs": [],
   "source": []
  },
  {
   "cell_type": "code",
   "execution_count": 1,
   "metadata": {},
   "outputs": [],
   "source": [
    "# %% allow reloading of modules\n",
    "%load_ext autoreload\n",
    "%autoreload 2"
   ]
  },
  {
   "cell_type": "code",
   "execution_count": 2,
   "metadata": {},
   "outputs": [],
   "source": [
    "import pandas as pd\n",
    "import sys\n",
    "import os\n",
    "sys.path.insert(0,'/Users/joe/Documents/pycrash')\n",
    "#sys.path.insert(0,'/Users/joe/Documents/pycrash/projects')\n",
    "pd.options.display.max_columns = None\n",
    "pd.options.display.max_rows = None"
   ]
  },
  {
   "cell_type": "code",
   "execution_count": 3,
   "metadata": {},
   "outputs": [],
   "source": [
    "# python dictionary containing vehicle specifications\n",
    "import projects.data.vehicle_data_collection as veh"
   ]
  },
  {
   "cell_type": "code",
   "execution_count": 4,
   "metadata": {},
   "outputs": [
    {
     "name": "stdout",
     "output_type": "stream",
     "text": [
      "Current values for defined constants:\n",
      "maximum available friction (mu_max) = 0.76\n",
      "time step for vehicle motion (dt) = 0.01 s\n",
      "No Environment File Provided\n",
      "No Environment File Provided\n"
     ]
    }
   ],
   "source": [
    "from pycrash.impact_main import Impact\n",
    "from pycrash.vehicle import Vehicle"
   ]
  },
  {
   "cell_type": "markdown",
   "metadata": {},
   "source": [
    "### Create Vehicles\n",
    "- all inputs entered manually for now"
   ]
  },
  {
   "cell_type": "markdown",
   "metadata": {},
   "source": [
    "- Pull data from data collection\n",
    "- Assign to each vehicle"
   ]
  },
  {
   "cell_type": "code",
   "execution_count": 5,
   "metadata": {},
   "outputs": [
    {
     "name": "stdout",
     "output_type": "stream",
     "text": [
      "Vehicle inputs for Striking applied succesfully\n",
      "Vehicle inputs for Struck applied succesfully\n",
      "Vehicle inputs for Barrier applied succesfully\n"
     ]
    }
   ],
   "source": [
    "veh1 = Vehicle('Striking', veh.vehicle_data['ChevyTahoe'])\n",
    "veh1.striking = True  # <- set to striking vehicle\n",
    "\n",
    "veh2 = Vehicle('Struck', veh.vehicle_data['TractorTrailer'])\n",
    "veh2.striking = False  # <- set to struck\n",
    "\n",
    "veh3 = Vehicle('Barrier', veh.vehicle_data['barrier'])\n",
    "veh3.striking = False  # <- set to struck"
   ]
  },
  {
   "cell_type": "markdown",
   "metadata": {},
   "source": [
    "### Vehicle 1 inputs"
   ]
  },
  {
   "cell_type": "code",
   "execution_count": 18,
   "metadata": {},
   "outputs": [
    {
     "name": "stdout",
     "output_type": "stream",
     "text": [
      "Driver inputs applied to Striking\n"
     ]
    }
   ],
   "source": [
    "t = [0, 0.5, 1, 1.5, 3, 4, 5]\n",
    "#brake = [0, 0, 0, 0, 1, 1, 1]\n",
    "#brake = [0, 0, 0, 0, 0.5, 0.5, 0.5]   # <- too fast post barrier impact, good impact condition with barrier\n",
    "#brake = [0, 0, 0, 0, 0.4, 0.4, 0.4]      # <- \n",
    "#brake = [0, 0, 0, 0, 0.3, 0.3, 0.3]      # <- \n",
    "#brake = [0, 0, 0, 0, 0.2, 0.2, 0.2]      # <- vehicle bounced off barrier, final velocity away from barrier\n",
    "#brake = [0, 0, 0, 0, 0, 0.2, 0.2]      # <- vehicle bounced off barrier, final velocity away from barrier\n",
    "brake = [0, 0, 0, 0, 0, 0, 0]      # <- vehicle bounced off barrier, final velocity away from barrier\n",
    "throttle = [0] * len(t)\n",
    "steer = [0, -20, -20, -20, -20, -20, -20]\n",
    "veh1.time_inputs(t, throttle, brake, steer, show_plot=False)\n",
    "veh1.vx_initial = 60"
   ]
  },
  {
   "cell_type": "markdown",
   "metadata": {},
   "source": [
    "### Vehicle 2 inputs"
   ]
  },
  {
   "cell_type": "code",
   "execution_count": 7,
   "metadata": {},
   "outputs": [
    {
     "name": "stdout",
     "output_type": "stream",
     "text": [
      "Driver inputs applied to Struck\n"
     ]
    }
   ],
   "source": [
    "t = [0, 0.5, 1, 1.5, 3, 4, 5]\n",
    "brake = [0, 0, 0, 0.5, 0.5, 0.5, 0.5]\n",
    "throttle = [0] * len(t)\n",
    "steer = [0, 30, 30, 30, 30, 0, 0]\n",
    "veh2.time_inputs(t, throttle, brake, steer, show_plot=False)\n",
    "veh2.vx_initial = 50"
   ]
  },
  {
   "cell_type": "markdown",
   "metadata": {},
   "source": [
    "### Vehicle 3 inputs"
   ]
  },
  {
   "cell_type": "code",
   "execution_count": 8,
   "metadata": {},
   "outputs": [
    {
     "name": "stdout",
     "output_type": "stream",
     "text": [
      "Driver inputs applied to Barrier\n"
     ]
    }
   ],
   "source": [
    "t = [0, 5]\n",
    "brake = [0] * len(t)\n",
    "throttle = [0] * len(t)\n",
    "steer = [0] * len(t)\n",
    "veh3.time_inputs(t, throttle, brake, steer, show_plot=False)\n",
    "veh3.vx_initial = 0"
   ]
  },
  {
   "cell_type": "markdown",
   "metadata": {},
   "source": [
    "### Vehicle impact points and impact planes manually entered (temporarily)\n",
    "- `impact_points` is a list of impacts points in the order that they will occurr in the simulation\n",
    "- `edgeimpact_points` is a list of points defining the impact edge clockwise\n",
    "- each impact requires a defined point and plane even if there is no change"
   ]
  },
  {
   "cell_type": "code",
   "execution_count": 19,
   "metadata": {},
   "outputs": [],
   "source": [
    "# vehicle 1\n",
    "veh1.impactTotal = 1  # <- number of impacts for this vehicle\n",
    "# impact point = (x, y, impact plane normal angle [deg])\n",
    "veh1.impact_points = [(-veh1.lcgr + 2, -veh1.width / 2, 90), (veh1.lcgf + veh1.f_hang, veh1.width / 2, 0)]\n",
    "veh1.init_x_pos = -43\n",
    "veh1.init_y_pos = 0\n",
    "\n",
    "# vehicle 2\n",
    "veh2.impactTotal = 1  # <- number of impacts for this vehicle\n",
    "veh2.edgeimpact = 2\n",
    "# (right front corner, right rear corner) -> [(x1, y1, x2, y2)]\n",
    "veh2.edgeimpact_points = [(veh2.lcgf + veh2.f_hang, veh2.width / 2, -veh2.lcgr - veh2.r_hang, veh2.width / 2)]\n",
    "veh2.init_x_pos = -40\n",
    "veh2.init_y_pos = -10\n",
    "veh2.head_angle = 0\n",
    "\n",
    "# vehicle 3\n",
    "veh3.impactTotal = 1  # <- number of impacts for this vehicle\n",
    "veh3.edgeimpact = 2\n",
    "# (right front corner, right rear corner) -> [(x1, y1, x2, y2)]\n",
    "veh3. edgeimpact_points = [(veh3.lcgf + veh3.f_hang, veh3.width / 2, -veh3.lcgr - veh3.r_hang, veh3.width / 2)]\n",
    "veh3.init_x_pos = 100\n",
    "veh3.init_y_pos = -24\n",
    "veh3.type = \"Barrier\"  # <- motion will not be calculated"
   ]
  },
  {
   "cell_type": "markdown",
   "metadata": {},
   "source": [
    "### Define Impact Order"
   ]
  },
  {
   "cell_type": "code",
   "execution_count": 20,
   "metadata": {},
   "outputs": [],
   "source": [
    "impact_1 = [0, 1]\n",
    "impact_2 = [0, 2]\n",
    "impact_order = [impact_1, impact_2]\n",
    "\n",
    "# inputs for each impact\n",
    "impc_inputs = {0: {'vehicle_mu': 2,\n",
    "                 'cor': 0.2},\n",
    "               1: {'vehicle_mu': 1,\n",
    "                 'cor': 0.1}}"
   ]
  },
  {
   "cell_type": "markdown",
   "metadata": {},
   "source": [
    "### Create Impact Object\n",
    "- stores vehicle data\n",
    "- runs impact simulation with vehicle motion"
   ]
  },
  {
   "cell_type": "code",
   "execution_count": 21,
   "metadata": {},
   "outputs": [
    {
     "name": "stdout",
     "output_type": "stream",
     "text": [
      "Driver input for Striking of shape = (501, 4)\n",
      "Driver input for Struck of shape = (501, 4)\n",
      "Driver input for Barrier of shape = (501, 4)\n",
      "-----\n",
      "Impacts for Striking: 1\n",
      "Predefined impact points for Striking: [x (ft), y (ft), impact plane angle (deg)] = [(-3.05, -3.2808333333333333, 90), (8.2775, 3.2808333333333333, 0)]\n",
      "Total impacts for Striking - total defined points: 2\n",
      "-----\n",
      "Impacts for Struck: 1\n",
      "Predfined impacts for Struck: 1\n",
      "Predefined impact edge for Struck: [(10.0, 5.0, -10.0, 5.0)]\n",
      "Total impacts for Struck - total defined edges: 1\n",
      "-----\n",
      "Impacts for Barrier: 1\n",
      "Predfined impacts for Barrier: 1\n",
      "Predefined impact edge for Barrier: [(200.0, 0.5, -200.0, 0.5)]\n",
      "Total impacts for Barrier - total defined edges: 1\n",
      "0\n",
      "1\n",
      "{0: {'impact_points': (-3.05, -3.2808333333333333, 90), 'edgeimpact_points': (10.0, 5.0, -10.0, 5.0)}, 1: {'impact_points': (8.2775, 3.2808333333333333, 0), 'edgeimpact_points': (200.0, 0.5, -200.0, 0.5)}}\n",
      "Impact simulation created with 3 vehicles of type IMPC\n",
      "Simulation inputs: {'dt_motion': 0.01, 'mu_max': 0.55, 'alpha_max': 0.174533}\n"
     ]
    }
   ],
   "source": [
    "endTime = 5\n",
    "sim_defaults = {'dt_motion': 0.01,\n",
    "                'mu_max': 0.55,\n",
    "                'alpha_max': 0.174533,  # 10 degrees\n",
    "                }\n",
    "imp = Impact('test', endTime, 'IMPC', [veh1, veh2, veh3], impact_order, impc_inputs, sim_defaults)"
   ]
  },
  {
   "cell_type": "code",
   "execution_count": 50,
   "metadata": {},
   "outputs": [],
   "source": [
    "imp.show_initial_position()"
   ]
  },
  {
   "cell_type": "markdown",
   "metadata": {},
   "source": [
    "### Vehicle model"
   ]
  },
  {
   "cell_type": "code",
   "execution_count": 22,
   "metadata": {},
   "outputs": [
    {
     "name": "stdout",
     "output_type": "stream",
     "text": [
      "Impact #0 detected at i: 100, t: 1.0\n",
      "<--- IMPC Model --->\n",
      "IMPC for impact: 0 COR: 0.2, COF: 2\n",
      "Striking vehicle: Striking\n",
      "Struck vehicle: Struck\n",
      "theta c (deg): 175.6\n",
      "dx1: -3.05, dy1: -3.2808333333333333\n",
      "dx2: 8.631576017426783, dy2: 4.978614142727231\n",
      "Vx1: 87.84 fps, Vy1: 3.13 fps\n",
      "Vx2: 73.25 fps, Vy2: -2.04 fps\n",
      "Omega1: -0.156482779752663\n",
      "Omega2: 0.1211869471949711\n",
      "Sliding Condition\n",
      "Compression\n",
      "Forward Slide\n",
      "{'t_effects_dis': 6271.540378209077, 'n_effects_dis': 523.7761836339761, 'tn_total_dis': 6795.316561843053}\n",
      "Veh1 DVx: -2.31 mph, DVy: 1.16 mph\n",
      "Veh2 DVx: 0.37 mph, DVy: -0.25 mph\n",
      "Vehicles have separated\n",
      "Impact #1 detected at i: 233, t: 2.33\n",
      "<--- IMPC Model --->\n",
      "IMPC for impact: 1 COR: 0.1, COF: 1\n",
      "Striking vehicle: Striking\n",
      "Struck vehicle: Barrier\n",
      "theta c (deg): 22.0\n",
      "dx1: 8.2775, dy1: 3.2808333333333333\n",
      "dx2: 56.8666618907225, dy2: 0.4910961705415353\n",
      "Vx1: 45.43 fps, Vy1: 58.95 fps\n",
      "Vx2: 0.00 fps, Vy2: 0.00 fps\n",
      "Omega1: -0.8266440824118777\n",
      "Omega2: 0.0\n",
      "No Sliding\n",
      "Compression\n",
      "Forward Slide\n",
      "{'t_effects_dis': 115109.54420513628, 'n_effects_dis': 172795.0206628481, 'tn_total_dis': 287904.5648679844}\n",
      "Veh1 DVx: -33.49 mph, DVy: -20.61 mph\n",
      "Veh2 DVx: 0.17 mph, DVy: -0.12 mph\n"
     ]
    }
   ],
   "source": [
    "imp.simulate()"
   ]
  },
  {
   "cell_type": "code",
   "execution_count": 192,
   "metadata": {},
   "outputs": [
    {
     "data": {
      "text/plain": [
       "{'vx_post': -0.02452391348970373,\n",
       " 'vy_post': 54.346414938919786,\n",
       " 'oz_rad_post': -1.3238121199822004,\n",
       " 'dvx': -2.9340153042497104,\n",
       " 'dvy': -2.9340153042497104,\n",
       " 'dv': 4.149324235480163}"
      ]
     },
     "execution_count": 192,
     "metadata": {},
     "output_type": "execute_result"
    }
   ],
   "source": [
    "imp.vehicles[0].impc_result"
   ]
  },
  {
   "cell_type": "code",
   "execution_count": 113,
   "metadata": {},
   "outputs": [
    {
     "name": "stdout",
     "output_type": "stream",
     "text": [
      "Plotting impact 0 and index 103\n"
     ]
    }
   ],
   "source": [
    "imp.plot_impact(0)"
   ]
  },
  {
   "cell_type": "code",
   "execution_count": 23,
   "metadata": {},
   "outputs": [
    {
     "name": "stdout",
     "output_type": "stream",
     "text": [
      "Plotting impact 1 and index 233\n"
     ]
    }
   ],
   "source": [
    "imp.plot_impact(1)"
   ]
  },
  {
   "cell_type": "code",
   "execution_count": 24,
   "metadata": {},
   "outputs": [],
   "source": [
    "imp.plot_vehicle_motion(5, show_vector=True)"
   ]
  },
  {
   "cell_type": "code",
   "execution_count": 22,
   "metadata": {},
   "outputs": [
    {
     "data": {
      "text/plain": [
       "201"
      ]
     },
     "execution_count": 22,
     "metadata": {},
     "output_type": "execute_result"
    }
   ],
   "source": [
    "len(imp.vehicles[0].p_gx)"
   ]
  },
  {
   "cell_type": "code",
   "execution_count": 143,
   "metadata": {},
   "outputs": [
    {
     "data": {
      "text/plain": [
       "{103: 0, 238: 1}"
      ]
     },
     "execution_count": 143,
     "metadata": {},
     "output_type": "execute_result"
    }
   ],
   "source": [
    "imp._impactIndex"
   ]
  },
  {
   "cell_type": "code",
   "execution_count": 28,
   "metadata": {},
   "outputs": [],
   "source": [
    "imp.plot_model(1)"
   ]
  },
  {
   "cell_type": "code",
   "execution_count": 74,
   "metadata": {},
   "outputs": [
    {
     "data": {
      "text/html": [
       "<div>\n",
       "<style scoped>\n",
       "    .dataframe tbody tr th:only-of-type {\n",
       "        vertical-align: middle;\n",
       "    }\n",
       "\n",
       "    .dataframe tbody tr th {\n",
       "        vertical-align: top;\n",
       "    }\n",
       "\n",
       "    .dataframe thead th {\n",
       "        text-align: right;\n",
       "    }\n",
       "</style>\n",
       "<table border=\"1\" class=\"dataframe\">\n",
       "  <thead>\n",
       "    <tr style=\"text-align: right;\">\n",
       "      <th></th>\n",
       "      <th>t</th>\n",
       "      <th>vx</th>\n",
       "      <th>vy</th>\n",
       "      <th>Vx</th>\n",
       "      <th>Vy</th>\n",
       "      <th>Vr</th>\n",
       "      <th>vehicleslip_deg</th>\n",
       "      <th>vehicleslip_rad</th>\n",
       "      <th>oz_deg</th>\n",
       "      <th>oz_rad</th>\n",
       "      <th>delta_deg</th>\n",
       "      <th>delta_rad</th>\n",
       "      <th>turn_rX</th>\n",
       "      <th>turn_rY</th>\n",
       "      <th>turn_rR</th>\n",
       "      <th>au</th>\n",
       "      <th>av</th>\n",
       "      <th>ax</th>\n",
       "      <th>ay</th>\n",
       "      <th>ar</th>\n",
       "      <th>Ax</th>\n",
       "      <th>Ay</th>\n",
       "      <th>Ar</th>\n",
       "      <th>alphaz</th>\n",
       "      <th>alphaz_deg</th>\n",
       "      <th>beta_deg</th>\n",
       "      <th>beta_rad</th>\n",
       "      <th>lf_fx</th>\n",
       "      <th>lf_fy</th>\n",
       "      <th>rf_fx</th>\n",
       "      <th>rf_fy</th>\n",
       "      <th>rr_fx</th>\n",
       "      <th>rr_fy</th>\n",
       "      <th>lr_fx</th>\n",
       "      <th>lr_fy</th>\n",
       "      <th>lf_alpha</th>\n",
       "      <th>rf_alpha</th>\n",
       "      <th>rr_alpha</th>\n",
       "      <th>lr_alpha</th>\n",
       "      <th>lf_lock</th>\n",
       "      <th>rf_lock</th>\n",
       "      <th>rr_lock</th>\n",
       "      <th>lr_lock</th>\n",
       "      <th>lf_fz</th>\n",
       "      <th>rf_fz</th>\n",
       "      <th>rr_fz</th>\n",
       "      <th>lr_fz</th>\n",
       "      <th>theta_rad</th>\n",
       "      <th>theta_deg</th>\n",
       "      <th>Fx</th>\n",
       "      <th>Fy</th>\n",
       "      <th>Mz</th>\n",
       "      <th>Dx</th>\n",
       "      <th>Dy</th>\n",
       "    </tr>\n",
       "  </thead>\n",
       "  <tbody>\n",
       "    <tr>\n",
       "      <th>0</th>\n",
       "      <td>0.00</td>\n",
       "      <td>51.333450</td>\n",
       "      <td>0.000000</td>\n",
       "      <td>51.333450</td>\n",
       "      <td>0.000000</td>\n",
       "      <td>NaN</td>\n",
       "      <td>NaN</td>\n",
       "      <td>NaN</td>\n",
       "      <td>0.000000</td>\n",
       "      <td>0.000000</td>\n",
       "      <td>0.000000</td>\n",
       "      <td>0.000000</td>\n",
       "      <td>NaN</td>\n",
       "      <td>NaN</td>\n",
       "      <td>NaN</td>\n",
       "      <td>0.000000</td>\n",
       "      <td>0.000000</td>\n",
       "      <td>0.000000</td>\n",
       "      <td>0.000000</td>\n",
       "      <td>0.000000</td>\n",
       "      <td>0.000000</td>\n",
       "      <td>0.000000</td>\n",
       "      <td>NaN</td>\n",
       "      <td>0.000000</td>\n",
       "      <td>0.000000</td>\n",
       "      <td>NaN</td>\n",
       "      <td>NaN</td>\n",
       "      <td>0.000000</td>\n",
       "      <td>0.000000</td>\n",
       "      <td>0.000000</td>\n",
       "      <td>0.000000</td>\n",
       "      <td>-0.0</td>\n",
       "      <td>-0.000000</td>\n",
       "      <td>-0.0</td>\n",
       "      <td>-0.000000</td>\n",
       "      <td>0.000000</td>\n",
       "      <td>0.000000</td>\n",
       "      <td>-0.000000e+00</td>\n",
       "      <td>-0.000000e+00</td>\n",
       "      <td>0.0</td>\n",
       "      <td>0.0</td>\n",
       "      <td>0.0</td>\n",
       "      <td>0.0</td>\n",
       "      <td>1292.151327</td>\n",
       "      <td>1292.151327</td>\n",
       "      <td>1305.017699</td>\n",
       "      <td>1305.017699</td>\n",
       "      <td>0.000000e+00</td>\n",
       "      <td>0.000000</td>\n",
       "      <td>0.0</td>\n",
       "      <td>0.0</td>\n",
       "      <td>0.0</td>\n",
       "      <td>0.000000</td>\n",
       "      <td>0.000000</td>\n",
       "    </tr>\n",
       "    <tr>\n",
       "      <th>1</th>\n",
       "      <td>0.01</td>\n",
       "      <td>51.333450</td>\n",
       "      <td>-0.000291</td>\n",
       "      <td>51.333450</td>\n",
       "      <td>-0.000291</td>\n",
       "      <td>NaN</td>\n",
       "      <td>NaN</td>\n",
       "      <td>NaN</td>\n",
       "      <td>-0.003577</td>\n",
       "      <td>-0.000062</td>\n",
       "      <td>-0.036364</td>\n",
       "      <td>-0.000635</td>\n",
       "      <td>NaN</td>\n",
       "      <td>NaN</td>\n",
       "      <td>NaN</td>\n",
       "      <td>-0.000037</td>\n",
       "      <td>-0.058286</td>\n",
       "      <td>-0.000037</td>\n",
       "      <td>-0.058286</td>\n",
       "      <td>0.058286</td>\n",
       "      <td>-0.000037</td>\n",
       "      <td>-0.058286</td>\n",
       "      <td>NaN</td>\n",
       "      <td>-0.012486</td>\n",
       "      <td>-0.715419</td>\n",
       "      <td>-0.000325</td>\n",
       "      <td>-0.000006</td>\n",
       "      <td>-0.002983</td>\n",
       "      <td>-4.700371</td>\n",
       "      <td>-0.002982</td>\n",
       "      <td>-4.698729</td>\n",
       "      <td>-0.0</td>\n",
       "      <td>-0.000000</td>\n",
       "      <td>-0.0</td>\n",
       "      <td>-0.000000</td>\n",
       "      <td>-0.000635</td>\n",
       "      <td>-0.000635</td>\n",
       "      <td>-0.000000e+00</td>\n",
       "      <td>-0.000000e+00</td>\n",
       "      <td>0.0</td>\n",
       "      <td>0.0</td>\n",
       "      <td>0.0</td>\n",
       "      <td>0.0</td>\n",
       "      <td>1292.151327</td>\n",
       "      <td>1292.151327</td>\n",
       "      <td>1305.017699</td>\n",
       "      <td>1305.017699</td>\n",
       "      <td>-3.121602e-07</td>\n",
       "      <td>-0.000018</td>\n",
       "      <td>0.0</td>\n",
       "      <td>0.0</td>\n",
       "      <td>0.0</td>\n",
       "      <td>0.513334</td>\n",
       "      <td>-0.000001</td>\n",
       "    </tr>\n",
       "    <tr>\n",
       "      <th>2</th>\n",
       "      <td>0.02</td>\n",
       "      <td>51.333449</td>\n",
       "      <td>-0.001145</td>\n",
       "      <td>51.333449</td>\n",
       "      <td>-0.001161</td>\n",
       "      <td>NaN</td>\n",
       "      <td>NaN</td>\n",
       "      <td>NaN</td>\n",
       "      <td>-0.014245</td>\n",
       "      <td>-0.000249</td>\n",
       "      <td>-0.072727</td>\n",
       "      <td>-0.001269</td>\n",
       "      <td>NaN</td>\n",
       "      <td>NaN</td>\n",
       "      <td>NaN</td>\n",
       "      <td>-0.000147</td>\n",
       "      <td>-0.115545</td>\n",
       "      <td>-0.000147</td>\n",
       "      <td>-0.112340</td>\n",
       "      <td>0.112340</td>\n",
       "      <td>-0.000147</td>\n",
       "      <td>-0.115545</td>\n",
       "      <td>NaN</td>\n",
       "      <td>-0.024752</td>\n",
       "      <td>-1.418174</td>\n",
       "      <td>-0.001295</td>\n",
       "      <td>-0.000023</td>\n",
       "      <td>-0.011821</td>\n",
       "      <td>-9.312835</td>\n",
       "      <td>-0.011829</td>\n",
       "      <td>-9.319339</td>\n",
       "      <td>-0.0</td>\n",
       "      <td>-0.000170</td>\n",
       "      <td>-0.0</td>\n",
       "      <td>-0.000170</td>\n",
       "      <td>-0.001259</td>\n",
       "      <td>-0.001258</td>\n",
       "      <td>-2.273871e-08</td>\n",
       "      <td>-2.273885e-08</td>\n",
       "      <td>0.0</td>\n",
       "      <td>0.0</td>\n",
       "      <td>0.0</td>\n",
       "      <td>0.0</td>\n",
       "      <td>1291.244979</td>\n",
       "      <td>1293.058310</td>\n",
       "      <td>1305.924048</td>\n",
       "      <td>1304.110717</td>\n",
       "      <td>-1.867436e-06</td>\n",
       "      <td>-0.000107</td>\n",
       "      <td>0.0</td>\n",
       "      <td>0.0</td>\n",
       "      <td>0.0</td>\n",
       "      <td>1.026669</td>\n",
       "      <td>-0.000009</td>\n",
       "    </tr>\n",
       "    <tr>\n",
       "      <th>3</th>\n",
       "      <td>0.03</td>\n",
       "      <td>51.333447</td>\n",
       "      <td>-0.002496</td>\n",
       "      <td>51.333447</td>\n",
       "      <td>-0.002592</td>\n",
       "      <td>NaN</td>\n",
       "      <td>NaN</td>\n",
       "      <td>NaN</td>\n",
       "      <td>-0.031814</td>\n",
       "      <td>-0.000555</td>\n",
       "      <td>-0.109091</td>\n",
       "      <td>-0.001904</td>\n",
       "      <td>NaN</td>\n",
       "      <td>NaN</td>\n",
       "      <td>NaN</td>\n",
       "      <td>-0.000325</td>\n",
       "      <td>-0.170804</td>\n",
       "      <td>-0.000325</td>\n",
       "      <td>-0.158042</td>\n",
       "      <td>0.158042</td>\n",
       "      <td>-0.000326</td>\n",
       "      <td>-0.170804</td>\n",
       "      <td>NaN</td>\n",
       "      <td>-0.036575</td>\n",
       "      <td>-2.095582</td>\n",
       "      <td>-0.002893</td>\n",
       "      <td>-0.000050</td>\n",
       "      <td>-0.026193</td>\n",
       "      <td>-13.757004</td>\n",
       "      <td>-0.026238</td>\n",
       "      <td>-13.780528</td>\n",
       "      <td>-0.0</td>\n",
       "      <td>-0.003012</td>\n",
       "      <td>-0.0</td>\n",
       "      <td>-0.003004</td>\n",
       "      <td>-0.001861</td>\n",
       "      <td>-0.001859</td>\n",
       "      <td>-4.022957e-07</td>\n",
       "      <td>-4.023058e-07</td>\n",
       "      <td>0.0</td>\n",
       "      <td>0.0</td>\n",
       "      <td>0.0</td>\n",
       "      <td>0.0</td>\n",
       "      <td>1290.355235</td>\n",
       "      <td>1293.949932</td>\n",
       "      <td>1306.813792</td>\n",
       "      <td>1303.219095</td>\n",
       "      <td>-5.886832e-06</td>\n",
       "      <td>-0.000337</td>\n",
       "      <td>0.0</td>\n",
       "      <td>0.0</td>\n",
       "      <td>0.0</td>\n",
       "      <td>1.540003</td>\n",
       "      <td>-0.000027</td>\n",
       "    </tr>\n",
       "    <tr>\n",
       "      <th>4</th>\n",
       "      <td>0.04</td>\n",
       "      <td>51.333442</td>\n",
       "      <td>-0.004266</td>\n",
       "      <td>51.333442</td>\n",
       "      <td>-0.004568</td>\n",
       "      <td>NaN</td>\n",
       "      <td>NaN</td>\n",
       "      <td>NaN</td>\n",
       "      <td>-0.056033</td>\n",
       "      <td>-0.000978</td>\n",
       "      <td>-0.145455</td>\n",
       "      <td>-0.002539</td>\n",
       "      <td>NaN</td>\n",
       "      <td>NaN</td>\n",
       "      <td>NaN</td>\n",
       "      <td>-0.000569</td>\n",
       "      <td>-0.224291</td>\n",
       "      <td>-0.000568</td>\n",
       "      <td>-0.195788</td>\n",
       "      <td>0.195789</td>\n",
       "      <td>-0.000572</td>\n",
       "      <td>-0.224291</td>\n",
       "      <td>NaN</td>\n",
       "      <td>-0.047967</td>\n",
       "      <td>-2.748327</td>\n",
       "      <td>-0.005098</td>\n",
       "      <td>-0.000089</td>\n",
       "      <td>-0.045810</td>\n",
       "      <td>-18.044902</td>\n",
       "      <td>-0.045932</td>\n",
       "      <td>-18.092949</td>\n",
       "      <td>-0.0</td>\n",
       "      <td>-0.015446</td>\n",
       "      <td>-0.0</td>\n",
       "      <td>-0.015384</td>\n",
       "      <td>-0.002442</td>\n",
       "      <td>-0.002439</td>\n",
       "      <td>-2.061540e-06</td>\n",
       "      <td>-2.061655e-06</td>\n",
       "      <td>0.0</td>\n",
       "      <td>0.0</td>\n",
       "      <td>0.0</td>\n",
       "      <td>0.0</td>\n",
       "      <td>1289.497177</td>\n",
       "      <td>1294.811045</td>\n",
       "      <td>1307.671849</td>\n",
       "      <td>1302.357981</td>\n",
       "      <td>-1.355295e-05</td>\n",
       "      <td>-0.000777</td>\n",
       "      <td>0.0</td>\n",
       "      <td>0.0</td>\n",
       "      <td>0.0</td>\n",
       "      <td>2.053338</td>\n",
       "      <td>-0.000063</td>\n",
       "    </tr>\n",
       "  </tbody>\n",
       "</table>\n",
       "</div>"
      ],
      "text/plain": [
       "      t         vx        vy         Vx        Vy  Vr  vehicleslip_deg  \\\n",
       "0  0.00  51.333450  0.000000  51.333450  0.000000 NaN              NaN   \n",
       "1  0.01  51.333450 -0.000291  51.333450 -0.000291 NaN              NaN   \n",
       "2  0.02  51.333449 -0.001145  51.333449 -0.001161 NaN              NaN   \n",
       "3  0.03  51.333447 -0.002496  51.333447 -0.002592 NaN              NaN   \n",
       "4  0.04  51.333442 -0.004266  51.333442 -0.004568 NaN              NaN   \n",
       "\n",
       "   vehicleslip_rad    oz_deg    oz_rad  delta_deg  delta_rad  turn_rX  \\\n",
       "0              NaN  0.000000  0.000000   0.000000   0.000000      NaN   \n",
       "1              NaN -0.003577 -0.000062  -0.036364  -0.000635      NaN   \n",
       "2              NaN -0.014245 -0.000249  -0.072727  -0.001269      NaN   \n",
       "3              NaN -0.031814 -0.000555  -0.109091  -0.001904      NaN   \n",
       "4              NaN -0.056033 -0.000978  -0.145455  -0.002539      NaN   \n",
       "\n",
       "   turn_rY  turn_rR        au        av        ax        ay        ar  \\\n",
       "0      NaN      NaN  0.000000  0.000000  0.000000  0.000000  0.000000   \n",
       "1      NaN      NaN -0.000037 -0.058286 -0.000037 -0.058286  0.058286   \n",
       "2      NaN      NaN -0.000147 -0.115545 -0.000147 -0.112340  0.112340   \n",
       "3      NaN      NaN -0.000325 -0.170804 -0.000325 -0.158042  0.158042   \n",
       "4      NaN      NaN -0.000569 -0.224291 -0.000568 -0.195788  0.195789   \n",
       "\n",
       "         Ax        Ay  Ar    alphaz  alphaz_deg  beta_deg  beta_rad     lf_fx  \\\n",
       "0  0.000000  0.000000 NaN  0.000000    0.000000       NaN       NaN  0.000000   \n",
       "1 -0.000037 -0.058286 NaN -0.012486   -0.715419 -0.000325 -0.000006 -0.002983   \n",
       "2 -0.000147 -0.115545 NaN -0.024752   -1.418174 -0.001295 -0.000023 -0.011821   \n",
       "3 -0.000326 -0.170804 NaN -0.036575   -2.095582 -0.002893 -0.000050 -0.026193   \n",
       "4 -0.000572 -0.224291 NaN -0.047967   -2.748327 -0.005098 -0.000089 -0.045810   \n",
       "\n",
       "       lf_fy     rf_fx      rf_fy  rr_fx     rr_fy  lr_fx     lr_fy  lf_alpha  \\\n",
       "0   0.000000  0.000000   0.000000   -0.0 -0.000000   -0.0 -0.000000  0.000000   \n",
       "1  -4.700371 -0.002982  -4.698729   -0.0 -0.000000   -0.0 -0.000000 -0.000635   \n",
       "2  -9.312835 -0.011829  -9.319339   -0.0 -0.000170   -0.0 -0.000170 -0.001259   \n",
       "3 -13.757004 -0.026238 -13.780528   -0.0 -0.003012   -0.0 -0.003004 -0.001861   \n",
       "4 -18.044902 -0.045932 -18.092949   -0.0 -0.015446   -0.0 -0.015384 -0.002442   \n",
       "\n",
       "   rf_alpha      rr_alpha      lr_alpha  lf_lock  rf_lock  rr_lock  lr_lock  \\\n",
       "0  0.000000 -0.000000e+00 -0.000000e+00      0.0      0.0      0.0      0.0   \n",
       "1 -0.000635 -0.000000e+00 -0.000000e+00      0.0      0.0      0.0      0.0   \n",
       "2 -0.001258 -2.273871e-08 -2.273885e-08      0.0      0.0      0.0      0.0   \n",
       "3 -0.001859 -4.022957e-07 -4.023058e-07      0.0      0.0      0.0      0.0   \n",
       "4 -0.002439 -2.061540e-06 -2.061655e-06      0.0      0.0      0.0      0.0   \n",
       "\n",
       "         lf_fz        rf_fz        rr_fz        lr_fz     theta_rad  \\\n",
       "0  1292.151327  1292.151327  1305.017699  1305.017699  0.000000e+00   \n",
       "1  1292.151327  1292.151327  1305.017699  1305.017699 -3.121602e-07   \n",
       "2  1291.244979  1293.058310  1305.924048  1304.110717 -1.867436e-06   \n",
       "3  1290.355235  1293.949932  1306.813792  1303.219095 -5.886832e-06   \n",
       "4  1289.497177  1294.811045  1307.671849  1302.357981 -1.355295e-05   \n",
       "\n",
       "   theta_deg   Fx   Fy   Mz        Dx        Dy  \n",
       "0   0.000000  0.0  0.0  0.0  0.000000  0.000000  \n",
       "1  -0.000018  0.0  0.0  0.0  0.513334 -0.000001  \n",
       "2  -0.000107  0.0  0.0  0.0  1.026669 -0.000009  \n",
       "3  -0.000337  0.0  0.0  0.0  1.540003 -0.000027  \n",
       "4  -0.000777  0.0  0.0  0.0  2.053338 -0.000063  "
      ]
     },
     "execution_count": 74,
     "metadata": {},
     "output_type": "execute_result"
    }
   ],
   "source": [
    "imp.vehicles[0].model.head()"
   ]
  },
  {
   "cell_type": "code",
   "execution_count": 97,
   "metadata": {},
   "outputs": [
    {
     "data": {
      "text/plain": [
       "<AxesSubplot:>"
      ]
     },
     "execution_count": 97,
     "metadata": {},
     "output_type": "execute_result"
    },
    {
     "data": {
      "image/png": "[encoded data removed]",
      "text/plain": [
       "<Figure size 432x288 with 1 Axes>"
      ]
     },
     "metadata": {
      "needs_background": "light"
     },
     "output_type": "display_data"
    }
   ],
   "source": [
    "imp.detect_data.plot(y='normal_crush')"
   ]
  },
  {
   "cell_type": "code",
   "execution_count": 21,
   "metadata": {},
   "outputs": [
    {
     "data": {
      "text/html": [
       "<div>\n",
       "<style scoped>\n",
       "    .dataframe tbody tr th:only-of-type {\n",
       "        vertical-align: middle;\n",
       "    }\n",
       "\n",
       "    .dataframe tbody tr th {\n",
       "        vertical-align: top;\n",
       "    }\n",
       "\n",
       "    .dataframe thead th {\n",
       "        text-align: right;\n",
       "    }\n",
       "</style>\n",
       "<table border=\"1\" class=\"dataframe\">\n",
       "  <thead>\n",
       "    <tr style=\"text-align: right;\">\n",
       "      <th></th>\n",
       "      <th>b_lfc</th>\n",
       "      <th>b_rfc</th>\n",
       "      <th>b_rrc</th>\n",
       "      <th>b_lrc</th>\n",
       "      <th>lfw</th>\n",
       "      <th>lfw_a</th>\n",
       "      <th>lfw_b</th>\n",
       "      <th>lfw_c</th>\n",
       "      <th>lfw_d</th>\n",
       "      <th>rfw</th>\n",
       "      <th>rfw_a</th>\n",
       "      <th>rfw_b</th>\n",
       "      <th>rfw_c</th>\n",
       "      <th>rfw_d</th>\n",
       "      <th>rrw</th>\n",
       "      <th>rrw_a</th>\n",
       "      <th>rrw_b</th>\n",
       "      <th>rrw_c</th>\n",
       "      <th>rrw_d</th>\n",
       "      <th>lrw</th>\n",
       "      <th>lrw_a</th>\n",
       "      <th>lrw_b</th>\n",
       "      <th>lrw_c</th>\n",
       "      <th>lrw_d</th>\n",
       "      <th>cg</th>\n",
       "      <th>xaxis</th>\n",
       "      <th>yaxis</th>\n",
       "      <th>vel_v</th>\n",
       "      <th>POI_1</th>\n",
       "      <th>impact_1_norm</th>\n",
       "      <th>impact_1_tang</th>\n",
       "      <th>lf_lock</th>\n",
       "      <th>rf_lock</th>\n",
       "      <th>rr_lock</th>\n",
       "      <th>lr_lock</th>\n",
       "    </tr>\n",
       "  </thead>\n",
       "  <tbody>\n",
       "    <tr>\n",
       "      <th>0</th>\n",
       "      <td>6.341667</td>\n",
       "      <td>6.341667</td>\n",
       "      <td>-9.241667</td>\n",
       "      <td>-9.241667</td>\n",
       "      <td>3.175000</td>\n",
       "      <td>4.266667</td>\n",
       "      <td>4.266667</td>\n",
       "      <td>2.083333</td>\n",
       "      <td>2.083333</td>\n",
       "      <td>3.175000</td>\n",
       "      <td>4.266667</td>\n",
       "      <td>4.266667</td>\n",
       "      <td>2.083333</td>\n",
       "      <td>2.083333</td>\n",
       "      <td>-5.658333</td>\n",
       "      <td>-4.566667</td>\n",
       "      <td>-4.566667</td>\n",
       "      <td>-6.750000</td>\n",
       "      <td>-6.750000</td>\n",
       "      <td>-5.658333</td>\n",
       "      <td>-4.566667</td>\n",
       "      <td>-4.566667</td>\n",
       "      <td>-6.750000</td>\n",
       "      <td>-6.750000</td>\n",
       "      <td>0.000000</td>\n",
       "      <td>7.841667</td>\n",
       "      <td>0.000000</td>\n",
       "      <td>44.000100</td>\n",
       "      <td>-3.658333</td>\n",
       "      <td>-3.658333</td>\n",
       "      <td>-6.575000</td>\n",
       "      <td>0.0</td>\n",
       "      <td>0.0</td>\n",
       "      <td>0.0</td>\n",
       "      <td>0.0</td>\n",
       "    </tr>\n",
       "    <tr>\n",
       "      <th>1</th>\n",
       "      <td>6.781668</td>\n",
       "      <td>6.781668</td>\n",
       "      <td>-8.801666</td>\n",
       "      <td>-8.801666</td>\n",
       "      <td>3.615001</td>\n",
       "      <td>4.706668</td>\n",
       "      <td>4.706668</td>\n",
       "      <td>2.523334</td>\n",
       "      <td>2.523334</td>\n",
       "      <td>3.615001</td>\n",
       "      <td>4.706668</td>\n",
       "      <td>4.706668</td>\n",
       "      <td>2.523334</td>\n",
       "      <td>2.523334</td>\n",
       "      <td>-5.218332</td>\n",
       "      <td>-4.126666</td>\n",
       "      <td>-4.126666</td>\n",
       "      <td>-6.309999</td>\n",
       "      <td>-6.309999</td>\n",
       "      <td>-5.218332</td>\n",
       "      <td>-4.126666</td>\n",
       "      <td>-4.126666</td>\n",
       "      <td>-6.309999</td>\n",
       "      <td>-6.309999</td>\n",
       "      <td>0.440001</td>\n",
       "      <td>8.281668</td>\n",
       "      <td>0.440001</td>\n",
       "      <td>44.440101</td>\n",
       "      <td>-3.218332</td>\n",
       "      <td>-3.218332</td>\n",
       "      <td>-6.134999</td>\n",
       "      <td>0.0</td>\n",
       "      <td>0.0</td>\n",
       "      <td>0.0</td>\n",
       "      <td>0.0</td>\n",
       "    </tr>\n",
       "    <tr>\n",
       "      <th>2</th>\n",
       "      <td>7.221669</td>\n",
       "      <td>7.221669</td>\n",
       "      <td>-8.361665</td>\n",
       "      <td>-8.361665</td>\n",
       "      <td>4.055002</td>\n",
       "      <td>5.146669</td>\n",
       "      <td>5.146669</td>\n",
       "      <td>2.963335</td>\n",
       "      <td>2.963335</td>\n",
       "      <td>4.055002</td>\n",
       "      <td>5.146669</td>\n",
       "      <td>5.146669</td>\n",
       "      <td>2.963335</td>\n",
       "      <td>2.963335</td>\n",
       "      <td>-4.778331</td>\n",
       "      <td>-3.686665</td>\n",
       "      <td>-3.686665</td>\n",
       "      <td>-5.869998</td>\n",
       "      <td>-5.869998</td>\n",
       "      <td>-4.778331</td>\n",
       "      <td>-3.686665</td>\n",
       "      <td>-3.686665</td>\n",
       "      <td>-5.869998</td>\n",
       "      <td>-5.869998</td>\n",
       "      <td>0.880002</td>\n",
       "      <td>8.721669</td>\n",
       "      <td>0.880002</td>\n",
       "      <td>44.880102</td>\n",
       "      <td>-2.778331</td>\n",
       "      <td>-2.778331</td>\n",
       "      <td>-5.694998</td>\n",
       "      <td>0.0</td>\n",
       "      <td>0.0</td>\n",
       "      <td>0.0</td>\n",
       "      <td>0.0</td>\n",
       "    </tr>\n",
       "    <tr>\n",
       "      <th>3</th>\n",
       "      <td>7.661670</td>\n",
       "      <td>7.661670</td>\n",
       "      <td>-7.921664</td>\n",
       "      <td>-7.921664</td>\n",
       "      <td>4.495003</td>\n",
       "      <td>5.586670</td>\n",
       "      <td>5.586670</td>\n",
       "      <td>3.403336</td>\n",
       "      <td>3.403336</td>\n",
       "      <td>4.495003</td>\n",
       "      <td>5.586670</td>\n",
       "      <td>5.586670</td>\n",
       "      <td>3.403336</td>\n",
       "      <td>3.403336</td>\n",
       "      <td>-4.338330</td>\n",
       "      <td>-3.246664</td>\n",
       "      <td>-3.246664</td>\n",
       "      <td>-5.429997</td>\n",
       "      <td>-5.429997</td>\n",
       "      <td>-4.338330</td>\n",
       "      <td>-3.246664</td>\n",
       "      <td>-3.246664</td>\n",
       "      <td>-5.429997</td>\n",
       "      <td>-5.429997</td>\n",
       "      <td>1.320003</td>\n",
       "      <td>9.161670</td>\n",
       "      <td>1.320003</td>\n",
       "      <td>45.320103</td>\n",
       "      <td>-2.338330</td>\n",
       "      <td>-2.338330</td>\n",
       "      <td>-5.254997</td>\n",
       "      <td>0.0</td>\n",
       "      <td>0.0</td>\n",
       "      <td>0.0</td>\n",
       "      <td>0.0</td>\n",
       "    </tr>\n",
       "    <tr>\n",
       "      <th>4</th>\n",
       "      <td>8.101671</td>\n",
       "      <td>8.101671</td>\n",
       "      <td>-7.481663</td>\n",
       "      <td>-7.481663</td>\n",
       "      <td>4.935004</td>\n",
       "      <td>6.026671</td>\n",
       "      <td>6.026671</td>\n",
       "      <td>3.843337</td>\n",
       "      <td>3.843337</td>\n",
       "      <td>4.935004</td>\n",
       "      <td>6.026671</td>\n",
       "      <td>6.026671</td>\n",
       "      <td>3.843337</td>\n",
       "      <td>3.843337</td>\n",
       "      <td>-3.898329</td>\n",
       "      <td>-2.806663</td>\n",
       "      <td>-2.806663</td>\n",
       "      <td>-4.989996</td>\n",
       "      <td>-4.989996</td>\n",
       "      <td>-3.898329</td>\n",
       "      <td>-2.806663</td>\n",
       "      <td>-2.806663</td>\n",
       "      <td>-4.989996</td>\n",
       "      <td>-4.989996</td>\n",
       "      <td>1.760004</td>\n",
       "      <td>9.601671</td>\n",
       "      <td>1.760004</td>\n",
       "      <td>45.760104</td>\n",
       "      <td>-1.898329</td>\n",
       "      <td>-1.898329</td>\n",
       "      <td>-4.814996</td>\n",
       "      <td>0.0</td>\n",
       "      <td>0.0</td>\n",
       "      <td>0.0</td>\n",
       "      <td>0.0</td>\n",
       "    </tr>\n",
       "  </tbody>\n",
       "</table>\n",
       "</div>"
      ],
      "text/plain": [
       "      b_lfc     b_rfc     b_rrc     b_lrc       lfw     lfw_a     lfw_b  \\\n",
       "0  6.341667  6.341667 -9.241667 -9.241667  3.175000  4.266667  4.266667   \n",
       "1  6.781668  6.781668 -8.801666 -8.801666  3.615001  4.706668  4.706668   \n",
       "2  7.221669  7.221669 -8.361665 -8.361665  4.055002  5.146669  5.146669   \n",
       "3  7.661670  7.661670 -7.921664 -7.921664  4.495003  5.586670  5.586670   \n",
       "4  8.101671  8.101671 -7.481663 -7.481663  4.935004  6.026671  6.026671   \n",
       "\n",
       "      lfw_c     lfw_d       rfw     rfw_a     rfw_b     rfw_c     rfw_d  \\\n",
       "0  2.083333  2.083333  3.175000  4.266667  4.266667  2.083333  2.083333   \n",
       "1  2.523334  2.523334  3.615001  4.706668  4.706668  2.523334  2.523334   \n",
       "2  2.963335  2.963335  4.055002  5.146669  5.146669  2.963335  2.963335   \n",
       "3  3.403336  3.403336  4.495003  5.586670  5.586670  3.403336  3.403336   \n",
       "4  3.843337  3.843337  4.935004  6.026671  6.026671  3.843337  3.843337   \n",
       "\n",
       "        rrw     rrw_a     rrw_b     rrw_c     rrw_d       lrw     lrw_a  \\\n",
       "0 -5.658333 -4.566667 -4.566667 -6.750000 -6.750000 -5.658333 -4.566667   \n",
       "1 -5.218332 -4.126666 -4.126666 -6.309999 -6.309999 -5.218332 -4.126666   \n",
       "2 -4.778331 -3.686665 -3.686665 -5.869998 -5.869998 -4.778331 -3.686665   \n",
       "3 -4.338330 -3.246664 -3.246664 -5.429997 -5.429997 -4.338330 -3.246664   \n",
       "4 -3.898329 -2.806663 -2.806663 -4.989996 -4.989996 -3.898329 -2.806663   \n",
       "\n",
       "      lrw_b     lrw_c     lrw_d        cg     xaxis     yaxis      vel_v  \\\n",
       "0 -4.566667 -6.750000 -6.750000  0.000000  7.841667  0.000000  44.000100   \n",
       "1 -4.126666 -6.309999 -6.309999  0.440001  8.281668  0.440001  44.440101   \n",
       "2 -3.686665 -5.869998 -5.869998  0.880002  8.721669  0.880002  44.880102   \n",
       "3 -3.246664 -5.429997 -5.429997  1.320003  9.161670  1.320003  45.320103   \n",
       "4 -2.806663 -4.989996 -4.989996  1.760004  9.601671  1.760004  45.760104   \n",
       "\n",
       "      POI_1  impact_1_norm  impact_1_tang  lf_lock  rf_lock  rr_lock  lr_lock  \n",
       "0 -3.658333      -3.658333      -6.575000      0.0      0.0      0.0      0.0  \n",
       "1 -3.218332      -3.218332      -6.134999      0.0      0.0      0.0      0.0  \n",
       "2 -2.778331      -2.778331      -5.694998      0.0      0.0      0.0      0.0  \n",
       "3 -2.338330      -2.338330      -5.254997      0.0      0.0      0.0      0.0  \n",
       "4 -1.898329      -1.898329      -4.814996      0.0      0.0      0.0      0.0  "
      ]
     },
     "execution_count": 21,
     "metadata": {},
     "output_type": "execute_result"
    }
   ],
   "source": [
    "imp.vehicles[0].p_gx.head()"
   ]
  },
  {
   "cell_type": "code",
   "execution_count": 46,
   "metadata": {},
   "outputs": [
    {
     "data": {
      "text/plain": [
       "0.0"
      ]
     },
     "execution_count": 46,
     "metadata": {},
     "output_type": "execute_result"
    }
   ],
   "source": [
    "imp.vehicles[0].p_gx.lf_lock.max()"
   ]
  },
  {
   "cell_type": "code",
   "execution_count": null,
   "metadata": {},
   "outputs": [],
   "source": []
  }
 ],
 "metadata": {
  "kernelspec": {
   "display_name": ".venv",
   "language": "python",
   "name": ".venv"
  },
  "language_info": {
   "codemirror_mode": {
    "name": "ipython",
    "version": 3
   },
   "file_extension": ".py",
   "mimetype": "text/x-python",
   "name": "python",
   "nbconvert_exporter": "python",
   "pygments_lexer": "ipython3",
   "version": "3.9.1"
  }
 },
 "nbformat": 4,
 "nbformat_minor": 4
}
