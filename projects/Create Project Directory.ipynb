{
 "cells": [
  {
   "cell_type": "markdown",
   "metadata": {},
   "source": [
    "### Creating a new directory\n",
    "-  copied initial files from github repo\n",
    "-  will be used to demo new capabilities"
   ]
  },
  {
   "cell_type": "markdown",
   "metadata": {},
   "source": [
    "### Keep this file in the root directory for your project"
   ]
  },
  {
   "cell_type": "markdown",
   "metadata": {},
   "source": [
    "### If not installing Pycrash add to path:"
   ]
  },
  {
   "cell_type": "code",
   "execution_count": 1,
   "metadata": {},
   "outputs": [],
   "source": [
    "import sys\n",
    "sys.path.insert(0, '/Users/joe/Documents/pycrash')"
   ]
  },
  {
   "cell_type": "code",
   "execution_count": 2,
   "metadata": {},
   "outputs": [
    {
     "data": {
      "text/plain": [
       "'/Users/joe/Documents/pycrash/projects'"
      ]
     },
     "execution_count": 2,
     "metadata": {},
     "output_type": "execute_result"
    }
   ],
   "source": [
    "import os\n",
    "os.getcwd()"
   ]
  },
  {
   "cell_type": "code",
   "execution_count": 3,
   "metadata": {},
   "outputs": [
    {
     "data": {
      "text/plain": [
       "['validation - single vehicle motion',\n",
       " '.DS_Store',\n",
       " '.gitkeep',\n",
       " 'Create Project Directory.ipynb',\n",
       " '__init__.py',\n",
       " '__pycache__',\n",
       " 'ReadME.md',\n",
       " 'pycrash demo',\n",
       " 'validation impact momentum',\n",
       " 'validation sdof',\n",
       " '.gitignore',\n",
       " 'multiple vehicle impact',\n",
       " 'Vehicle Database.ipynb',\n",
       " '.ipynb_checkpoints',\n",
       " 'data',\n",
       " 'validation sideswipe']"
      ]
     },
     "execution_count": 3,
     "metadata": {},
     "output_type": "execute_result"
    }
   ],
   "source": [
    "os.listdir(os.path.join(os.getcwd()))"
   ]
  },
  {
   "cell_type": "code",
   "execution_count": 4,
   "metadata": {},
   "outputs": [
    {
     "name": "stdout",
     "output_type": "stream",
     "text": [
      "Current values for defined constants:\n",
      "maximum available friction (mu_max) = 0.76\n",
      "time step for vehicle motion (dt) = 0.01 s\n",
      "No Environment File Provided\n",
      "No Environment File Provided\n",
      "Project directories located here: /Users/joe/Documents/pycrash/projects/sample project\n",
      "Place any input files to be used in /Users/joe/Documents/pycrash/projects/sample project/data/input\n",
      "\n",
      "--------------  -------------------  -----------  ---------------  --------------------\n",
      "Project         Description          Impact Type  Simulation Type  Note\n",
      "sample project  project description  SDOF         MV               detail about project\n",
      "--------------  -------------------  -----------  ---------------  --------------------\n"
     ]
    }
   ],
   "source": [
    "from pycrash.project import Project\n",
    "projects_dir = os.getcwd() # <- directory where new project directory will be created\n",
    "\n",
    "\"\"\"\n",
    "Change inputs below for project info:\n",
    "\"\"\"\n",
    "\n",
    "project_name = 'sample project'\n",
    "project_inputs = {'name': project_name,\n",
    "                  'pdesc': 'project description',\n",
    "                  'project_path': projects_dir,\n",
    "                  'sim_type': 'MV',\n",
    "                  'impact_type': 'SDOF',\n",
    "                  'note': 'detail about project'}\n",
    "\n",
    "proj = Project(project_inputs)"
   ]
  },
  {
   "cell_type": "markdown",
   "metadata": {},
   "source": [
    "The output provides a printout of the input provided and the location of the new project directory"
   ]
  }
 ],
 "metadata": {
  "kernelspec": {
   "display_name": "Python 3",
   "language": "python",
   "name": "python3"
  },
  "language_info": {
   "codemirror_mode": {
    "name": "ipython",
    "version": 3
   },
   "file_extension": ".py",
   "mimetype": "text/x-python",
   "name": "python",
   "nbconvert_exporter": "python",
   "pygments_lexer": "ipython3",
   "version": "3.9.1"
  }
 },
 "nbformat": 4,
 "nbformat_minor": 4
}
