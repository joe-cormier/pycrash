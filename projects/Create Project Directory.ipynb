{
 "cells": [
  {
   "cell_type": "markdown",
   "metadata": {},
   "source": [
    "### Creating a new directory\n",
    "-  copied initial files from github repo\n",
    "-  will be used to demo new capabilities"
   ]
  },
  {
   "cell_type": "markdown",
   "metadata": {},
   "source": [
    "### Keep this file in the root directory for your project"
   ]
  },
  {
   "cell_type": "markdown",
   "metadata": {},
   "source": [
    "### If not installing Pycrash add to path:"
   ]
  },
  {
   "cell_type": "code",
   "execution_count": null,
   "metadata": {},
   "outputs": [],
   "source": [
    "import sys\n",
    "sys.path.insert(0, '< your path >')"
   ]
  },
  {
   "cell_type": "code",
   "execution_count": null,
   "metadata": {},
   "outputs": [],
   "source": [
    "import os\n",
    "os.getcwd()"
   ]
  },
  {
   "cell_type": "code",
   "execution_count": null,
   "metadata": {},
   "outputs": [],
   "source": [
    "os.listdir(os.path.join(os.getcwd()))"
   ]
  },
  {
   "cell_type": "code",
   "execution_count": null,
   "metadata": {},
   "outputs": [],
   "source": [
    "from pycrash.project import Project\n",
    "projects_dir = os.getcwd() # <- directory where new project directory will be created\n",
    "\n",
    "\"\"\"\n",
    "Change inputs below for project info:\n",
    "\"\"\"\n",
    "\n",
    "project_name = 'sample project'\n",
    "project_inputs = {'name': project_name,\n",
    "                  'pdesc': 'project description',\n",
    "                  'project_path': projects_dir,\n",
    "                  'sim_type': 'MV',\n",
    "                  'impact_type': 'SDOF',\n",
    "                  'note': 'detail about project'}\n",
    "\n",
    "proj = Project(project_inputs)"
   ]
  },
  {
   "cell_type": "markdown",
   "metadata": {},
   "source": [
    "The output provides a printout of the input provided and the location of the new project directory"
   ]
  }
 ],
 "metadata": {
  "kernelspec": {
   "display_name": "Python 3",
   "language": "python",
   "name": "python3"
  },
  "language_info": {
   "codemirror_mode": {
    "name": "ipython",
    "version": 3
   },
   "file_extension": ".py",
   "mimetype": "text/x-python",
   "name": "python",
   "nbconvert_exporter": "python",
   "pygments_lexer": "ipython3",
   "version": "3.9.1"
  }
 },
 "nbformat": 4,
 "nbformat_minor": 4
}
