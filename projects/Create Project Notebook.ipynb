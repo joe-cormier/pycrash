{
 "cells": [
  {
   "cell_type": "markdown",
   "metadata": {},
   "source": [
    "### Creating a new project\n",
    "-  creates project directories\n",
    "-  copied initial files from github repo\n",
    "-  will be used to demo new capabilities or issues"
   ]
  },
  {
   "cell_type": "markdown",
   "metadata": {},
   "source": [
    "### Keep this file in the root directory for your project\n",
    "the script below is also provided in a `.py` file that can be run from a terminal window"
   ]
  },
  {
   "cell_type": "code",
   "execution_count": 1,
   "metadata": {},
   "outputs": [
    {
     "name": "stdout",
     "output_type": "stream",
     "text": [
      "/home/joemcormier/github/pycrash/pycrash\n",
      "Current values for defined constants:\n",
      "maximum available friction (mu_max) = 0.9\n",
      "time step for vehicle motion (dt) = 0.1 s\n",
      "No Environment File Provided\n",
      "No Environment File Provided\n",
      "Project directories located here: /home/joemcormier/github/pycrash/projects/demo\n",
      "Place any input files to be used in /home/joemcormier/github/pycrash/projects/demo/data/input\n",
      "\n",
      "-------  -----------------------------------------  --------------------------  -----------  ---------------  --------------------------\n",
      "Project  Path                                       Description                 Impact Type  Simulation Type  Note\n",
      "demo     /home/joemcormier/github/pycrash/projects  single vehicle motion demo               SV               single vehicle motion demo\n",
      "-------  -----------------------------------------  --------------------------  -----------  ---------------  --------------------------\n"
     ]
    }
   ],
   "source": [
    "import sys\n",
    "sys.path.append(\"/home/joemcormier/github/pycrash\")\n",
    "\n",
    "import os\n",
    "path_parent = os.path.dirname(os.getcwd())\n",
    "os.chdir(os.path.join(path_parent, 'pycrash'))\n",
    "print(os.path.join(path_parent, 'pycrash'))\n",
    "\n",
    "from pycrash.project import Project\n",
    "\n",
    "project_inputs = {'name':'demo',\n",
    "                  'path':os.path.join(path_parent, 'projects'),\n",
    "                  'pdesc':'single vehicle motion demo',\n",
    "                  'sim_type':'SV',\n",
    "                  'impact_type':None,\n",
    "                  'note':'single vehicle motion demo'}\n",
    "\n",
    "proj = Project(project_inputs)"
   ]
  },
  {
   "cell_type": "markdown",
   "metadata": {},
   "source": [
    "The output provides a printout of the input provided and the location of the new project directory"
   ]
  }
 ],
 "metadata": {
  "kernelspec": {
   "display_name": "Python 3",
   "language": "python",
   "name": "python3"
  },
  "language_info": {
   "codemirror_mode": {
    "name": "ipython",
    "version": 3
   },
   "file_extension": ".py",
   "mimetype": "text/x-python",
   "name": "python",
   "nbconvert_exporter": "python",
   "pygments_lexer": "ipython3",
   "version": "3.7.3"
  }
 },
 "nbformat": 4,
 "nbformat_minor": 4
}
