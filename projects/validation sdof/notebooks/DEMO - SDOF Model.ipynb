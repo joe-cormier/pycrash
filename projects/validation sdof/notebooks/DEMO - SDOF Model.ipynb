{
 "cells": [
  {
   "cell_type": "markdown",
   "metadata": {},
   "source": [
    "### Pycrash - Single Degree of Freedom Model\n",
    "#### Demonstration using load cell barrier data\n",
    "- see Demo - Basic Functions"
   ]
  },
  {
   "cell_type": "code",
   "execution_count": null,
   "metadata": {
    "pycharm": {
     "name": "#%%\n"
    }
   },
   "outputs": [],
   "source": [
    "# commands for Jupyter Notebook\n",
    "# %% allow reloading of modules\n",
    "%load_ext autoreload\n",
    "%autoreload 2"
   ]
  },
  {
   "cell_type": "markdown",
   "metadata": {},
   "source": [
    "#### Import modules necessary for analyses"
   ]
  },
  {
   "cell_type": "code",
   "execution_count": null,
   "metadata": {
    "pycharm": {
     "name": "#%%\n"
    }
   },
   "outputs": [],
   "source": [
    "import pandas as pd\n",
    "pd.options.display.max_columns = None\n",
    "import plotly.io as pio\n",
    "pio.renderers.default = \"plotly_mimetype\"  # <- determines how plots are displayed using Plotly"
   ]
  },
  {
   "cell_type": "markdown",
   "metadata": {},
   "source": [
    "#### Import Pycrash modules"
   ]
  },
  {
   "cell_type": "code",
   "execution_count": null,
   "metadata": {},
   "outputs": [],
   "source": [
    "import sys\n",
    "sys.path.insert(0, '//Users//joe//Documents//pycrash//')"
   ]
  },
  {
   "cell_type": "code",
   "execution_count": null,
   "metadata": {
    "pycharm": {
     "name": "#%%\n"
    }
   },
   "outputs": [],
   "source": [
    "import pycrash\n",
    "from pycrash.sdof_model import SDOF_Model\n",
    "from pycrash.project import Project, project_info, load_project\n",
    "from pycrash.vehicle import Vehicle\n",
    "from pycrash.visualization.sdof_plot import plot_velocity, plot_acceleration, plot_fdx, plot_vehicle_fdx\n",
    "from pycrash.functions.ar import cipriani_rest # get restitution"
   ]
  },
  {
   "cell_type": "markdown",
   "metadata": {},
   "source": [
    "## Load project data\n",
    "- result will show saved data related to the project\n",
    "- if error, the current working directory is not set appropriately.  Use `os.chcwd('\\\\path')` to set current\n",
    "directory to the directory containing the project directory."
   ]
  },
  {
   "cell_type": "code",
   "execution_count": null,
   "metadata": {
    "pycharm": {
     "name": "#%%\n"
    }
   },
   "outputs": [],
   "source": [
    "project_info('validation sdof')"
   ]
  },
  {
   "cell_type": "markdown",
   "metadata": {},
   "source": [
    "#### Load Project Data"
   ]
  },
  {
   "cell_type": "code",
   "execution_count": null,
   "metadata": {
    "pycharm": {
     "name": "#%%\n"
    }
   },
   "outputs": [],
   "source": [
    "proj = load_project('validation sdof')"
   ]
  },
  {
   "cell_type": "markdown",
   "metadata": {},
   "source": [
    "### Create Vehicle 1:\n",
    "- \"Vehicle\" stores information about a single vehicle - all possible inputs do not need to be entered\n",
    "- creating a Vehicle requires a \"name\" which is used to identify the vehicle in outputs / plots etc."
   ]
  },
  {
   "cell_type": "code",
   "execution_count": null,
   "metadata": {
    "pycharm": {
     "name": "#%%\n"
    }
   },
   "outputs": [],
   "source": [
    "# minimal vehicle data is needed for SDOF model:"
   ]
  },
  {
   "cell_type": "code",
   "execution_count": null,
   "metadata": {
    "pycharm": {
     "name": "#%% Create vehicle 1\n"
    }
   },
   "outputs": [],
   "source": [
    "veh1 = Vehicle('Striking')\n",
    "veh1.year = 1975\n",
    "veh1.make = 'Foo'\n",
    "veh1.model = 'Bar'\n",
    "veh1.weight = 3500\n",
    "veh1.brake = 0\n",
    "veh1.vx_initial = 5"
   ]
  },
  {
   "cell_type": "code",
   "execution_count": null,
   "metadata": {
    "pycharm": {
     "name": "#%%\n"
    }
   },
   "outputs": [],
   "source": [
    "veh2 = Vehicle('Struck')\n",
    "veh2.year = 2020\n",
    "veh2.make = 'Honda'\n",
    "veh2.model = 'Civic'\n",
    "veh2.weight = 3330\n",
    "veh2.brake = 0\n",
    "veh2.vx_initial = 0"
   ]
  },
  {
   "cell_type": "markdown",
   "metadata": {
    "pycharm": {
     "name": "#%% md\n"
    }
   },
   "source": [
    "- The single degree of freedom module is designed to work in sets of three so that you can create an average, low, high at the same time.\n",
    "- inputs are used in lists of 3"
   ]
  },
  {
   "cell_type": "code",
   "execution_count": null,
   "metadata": {
    "pycharm": {
     "name": "#%%\n"
    }
   },
   "outputs": [],
   "source": [
    "# create model inputs:\n",
    "v1_vx_initial = [5, 7, 10]  # initial speeds for striking vehicle\n",
    "run_list_names = ['Low', 'Average', 'High']\n",
    "cor_list = [cipriani_rest(x) for x in v1_vx_initial]  # low restitution from sideswipe\n",
    "# stiffness values determined in Demo = Basic Functions\n",
    "k_mutual = 27734\n",
    "k_mutual_low = k_mutual - 9512\n",
    "k_mutual_high = k_mutual + 9512\n",
    "k_model_list = [k_mutual_low, k_mutual, k_mutual_high]\n",
    "models =[None] * len(run_list_names)  # create empty list for model runs\n",
    "\n",
    "k_veh2 = 51479  # stiffness for rear of Vehicle 2\n",
    "k_veh2_low = 26145\n",
    "k_veh2_high = 97875\n",
    "veh2_stiffnes_list = [k_veh2_low, k_veh2, k_veh2_high]"
   ]
  },
  {
   "cell_type": "markdown",
   "metadata": {},
   "source": [
    "#### Run three models in loop:\n",
    "- `tstop` - this determines the time to stop the model.  It's usually desired to have all models run to the same time.\n",
    "- first, run all models with `tstop = None` then, once the maximum time is know, use that time [ms] as `tstop`"
   ]
  },
  {
   "cell_type": "code",
   "execution_count": null,
   "metadata": {
    "pycharm": {
     "name": "#%%\n"
    }
   },
   "outputs": [],
   "source": [
    "for i in range(len(v1_vx_initial)):\n",
    "\n",
    "    model_inputs = {\"name\": run_list_names[i],\n",
    "            \"k\": k_model_list[i],\n",
    "            \"cor\": cor_list[i],\n",
    "            \"tstop\": 0.117\n",
    "        }\n",
    "    # closing speed\n",
    "    veh1.vx_initial = v1_vx_initial[i]\n",
    "    # assign individual stiffness values to get vehicle-specific crush\n",
    "    veh1.k = 60127\n",
    "    veh2.k = veh2_stiffnes_list[i]\n",
    "    models[i] = SDOF_Model(veh1, veh2, model_inputs=model_inputs)"
   ]
  },
  {
   "cell_type": "markdown",
   "metadata": {
    "pycharm": {
     "name": "#%% md\n"
    }
   },
   "source": [
    "#### Plot force-displacement response for the three models"
   ]
  },
  {
   "cell_type": "code",
   "execution_count": null,
   "metadata": {
    "pycharm": {
     "name": "#%%\n"
    }
   },
   "outputs": [],
   "source": [
    "plot_fdx(models)"
   ]
  },
  {
   "cell_type": "code",
   "execution_count": null,
   "metadata": {
    "pycharm": {
     "name": "#%%\n"
    }
   },
   "outputs": [],
   "source": [
    "# assign individual stiffness values to get vehicle-specific crush\n",
    "\n",
    "plot_vehicle_fdx(models)  # <- vehicle specific Fdx"
   ]
  },
  {
   "cell_type": "code",
   "execution_count": null,
   "metadata": {
    "pycharm": {
     "name": "#%%\n"
    }
   },
   "outputs": [],
   "source": [
    "# plot velocity\n",
    "plot_velocity(models, fill_diff = True, show_legend = False)"
   ]
  },
  {
   "cell_type": "code",
   "execution_count": null,
   "metadata": {
    "pycharm": {
     "name": "#%%\n"
    }
   },
   "outputs": [],
   "source": [
    "# plot acceleration\n",
    "plot_acceleration(models, fill_diff = True, show_legend = False)"
   ]
  }
 ],
 "metadata": {
  "kernelspec": {
   "display_name": "Python 3",
   "language": "python",
   "name": "python3"
  },
  "language_info": {
   "codemirror_mode": {
    "name": "ipython",
    "version": 3
   },
   "file_extension": ".py",
   "mimetype": "text/x-python",
   "name": "python",
   "nbconvert_exporter": "python",
   "pygments_lexer": "ipython3",
   "version": "3.9.1"
  }
 },
 "nbformat": 4,
 "nbformat_minor": 4
}
