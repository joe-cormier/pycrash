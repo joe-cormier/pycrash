{
 "cells": [
  {
   "cell_type": "markdown",
   "source": [
    "### Pycrash - Single Degree of Freedom Model\n",
    "#### Demonstration using load cell barrier data\n",
    "- see Demo - Basic Functions"
   ],
   "metadata": {
    "collapsed": false
   }
  },
  {
   "cell_type": "code",
   "execution_count": null,
   "outputs": [],
   "source": [
    "# commands for Jupyter Notebook\n",
    "# %% allow reloading of modules\n",
    "%load_ext autoreload\n",
    "%autoreload 2"
   ],
   "metadata": {
    "collapsed": false,
    "pycharm": {
     "name": "#%%\n"
    }
   }
  },
  {
   "cell_type": "markdown",
   "source": [
    "#### Import modules necessary for analyses"
   ],
   "metadata": {
    "collapsed": false
   }
  },
  {
   "cell_type": "code",
   "execution_count": null,
   "outputs": [],
   "source": [
    "import pandas as pd\n",
    "pd.options.display.max_columns = None\n",
    "import plotly.io as pio\n",
    "pio.renderers.default = \"browser\"  # <- determines how plots are displayed using Plotly"
   ],
   "metadata": {
    "collapsed": false,
    "pycharm": {
     "name": "#%%\n"
    }
   }
  },
  {
   "cell_type": "markdown",
   "source": [
    "#### Import Pycrash modules"
   ],
   "metadata": {
    "collapsed": false
   }
  },
  {
   "cell_type": "code",
   "execution_count": 26,
   "outputs": [],
   "source": [
    "import sys\n",
    "sys.path.insert(0,'D:\\\\OneDrive\\\\pycrash')\n",
    "import pycrash\n",
    "from pycrash.sdof_model import SDOF_Model\n",
    "from pycrash.project import Project, project_info, load_project\n",
    "from pycrash.vehicle import Vehicle\n",
    "from pycrash.visualization.sdof_plot import plot_velocity, plot_acceleration, plot_fdx, plot_vehicle_fdx\n",
    "from pycrash.functions.ar import cipriani_rest # get restitution"
   ],
   "metadata": {
    "collapsed": false,
    "pycharm": {
     "name": "#%%\n"
    }
   }
  },
  {
   "cell_type": "markdown",
   "source": [
    "## Load project data\n",
    "- result will show saved data related to the project\n",
    "- if error, the current working directory is not set appropriately.  Use `os.chcwd('\\\\path')` to set current\n",
    "directory to the directory containing the project directory."
   ],
   "metadata": {
    "collapsed": false
   }
  },
  {
   "cell_type": "code",
   "execution_count": null,
   "outputs": [],
   "source": [
    "project_info('validation sdof')"
   ],
   "metadata": {
    "collapsed": false,
    "pycharm": {
     "name": "#%%\n"
    }
   }
  },
  {
   "cell_type": "markdown",
   "source": [
    "#### Load Project Data"
   ],
   "metadata": {
    "collapsed": false
   }
  },
  {
   "cell_type": "code",
   "execution_count": null,
   "outputs": [],
   "source": [
    "proj = load_project('validation sdof')"
   ],
   "metadata": {
    "collapsed": false,
    "pycharm": {
     "name": "#%%\n"
    }
   }
  },
  {
   "cell_type": "markdown",
   "source": [
    "### Create Vehicle 1:\n",
    "- \"Vehicle\" stores information about a single vehicle - all possible inputs do not need to be entered\n",
    "- creating a Vehicle requires a \"name\" which is used to identify the vehicle in outputs / plots etc."
   ],
   "metadata": {
    "collapsed": false
   }
  },
  {
   "cell_type": "code",
   "execution_count": null,
   "outputs": [],
   "source": [
    "# minimal vehicle data is needed for SDOF model:"
   ],
   "metadata": {
    "collapsed": false,
    "pycharm": {
     "name": "#%%\n"
    }
   }
  },
  {
   "cell_type": "code",
   "execution_count": null,
   "outputs": [],
   "source": [
    "veh1 = Vehicle('Striking')\n",
    "veh1.year = 1975\n",
    "veh1.make = 'Foo'\n",
    "veh1.model = 'Bar'\n",
    "veh1.weight = 3500\n",
    "veh1.brake = 0\n",
    "veh1.vx_initial = 5"
   ],
   "metadata": {
    "collapsed": false,
    "pycharm": {
     "name": "#%% Create vehicle 1\n"
    }
   }
  },
  {
   "cell_type": "code",
   "execution_count": null,
   "outputs": [],
   "source": [
    "veh2 = Vehicle('Struck')\n",
    "veh2.year = 2020\n",
    "veh2.make = 'Honda'\n",
    "veh2.model = 'Civic'\n",
    "veh2.weight = 3330\n",
    "veh2.brake = 0\n",
    "veh2.vx_initial = 0"
   ],
   "metadata": {
    "collapsed": false,
    "pycharm": {
     "name": "#%%\n"
    }
   }
  },
  {
   "cell_type": "markdown",
   "source": [
    "- The single degree of freedom module is designed to work in sets of three so that you can create an average, low, high at the same time.\n",
    "- inputs are used in lists of 3"
   ],
   "metadata": {
    "collapsed": false,
    "pycharm": {
     "name": "#%% md\n"
    }
   }
  },
  {
   "cell_type": "code",
   "execution_count": 17,
   "outputs": [],
   "source": [
    "# create model inputs:\n",
    "v1_vx_initial = [5, 7, 10]  # initial speeds for striking vehicle\n",
    "run_list_names = ['Low', 'Average', 'High']\n",
    "cor_list = [cipriani_rest(x) for x in v1_vx_initial]  # low restitution from sideswipe\n",
    "# stiffness values determined in Demo = Basic Functions\n",
    "k_mutual = 27734\n",
    "k_mutual_low = k_mutual - 9512\n",
    "k_mutual_high = k_mutual + 9512\n",
    "k_model_list = [k_mutual_low, k_mutual, k_mutual_high]\n",
    "models =[None] * len(run_list_names)  # create empty list for model runs\n",
    "\n",
    "k_veh2 = 51479  # stiffness for rear of Vehicle 2\n",
    "k_veh2_low = 26145\n",
    "k_veh2_high = 97875\n",
    "veh2_stiffnes_list = [k_veh2_low, k_veh2, k_veh2_high]"
   ],
   "metadata": {
    "collapsed": false,
    "pycharm": {
     "name": "#%%\n"
    }
   }
  },
  {
   "cell_type": "markdown",
   "source": [
    "#### Run three models in loop:\n",
    "- `tstop` - this determines the time to stop the model.  It's usually desired to have all models run to the same time.\n",
    "- first, run all models with `tstop = None` then, once the maximum time is know, use that time [ms] as `tstop`"
   ],
   "metadata": {
    "collapsed": false
   }
  },
  {
   "cell_type": "code",
   "execution_count": 23,
   "outputs": [
    {
     "name": "stdout",
     "output_type": "stream",
     "text": [
      "\n",
      "------------ Model Inputs ---------------\n",
      "Model Run = Low\n",
      "Coefficient of Restitution = 0.3826279331330557\n",
      "Constant Mutual Stiffness = 18222 lb/ft \n",
      "Model will run until t = 0.117 seconds\n",
      "\n",
      "|------------ Vehicle Inputs -----------|\n",
      "\n",
      "<- Vehicle 1 ->\n",
      "\n",
      "Striking braking at 0%\n",
      "Striking initial speed is 5 mph\n",
      "\n",
      "<- Vehicle 2 ->\n",
      "\n",
      "Struck braking at 0%\n",
      "Struck initial speed is 0 mph\n",
      "Model Closing Speed = 5 mph\n",
      "\n",
      "|----------- Input Complete ------------|\n",
      "\n",
      "\n",
      "Model Initiated ============>\n",
      "===== Seperation ===========>\n",
      "Time (s) = 0.08600000000000001\n",
      "Peak Mutual Crush (in) = 4.82\n",
      "Peak Force (lb) = 7312.36\n",
      "\n",
      "========> Stopped t (s) = 0.118\n",
      "Vehicle 1 crush determined using provided stiffness\n",
      "Vehicle 2 crush determined using provided stiffness\n",
      "\n",
      "------------ Model Inputs ---------------\n",
      "Model Run = Average\n",
      "Coefficient of Restitution = 0.33941271957714714\n",
      "Constant Mutual Stiffness = 27734 lb/ft \n",
      "Model will run until t = 0.117 seconds\n",
      "\n",
      "|------------ Vehicle Inputs -----------|\n",
      "\n",
      "<- Vehicle 1 ->\n",
      "\n",
      "Striking braking at 0%\n",
      "Striking initial speed is 7 mph\n",
      "\n",
      "<- Vehicle 2 ->\n",
      "\n",
      "Struck braking at 0%\n",
      "Struck initial speed is 0 mph\n",
      "Model Closing Speed = 7 mph\n",
      "\n",
      "|----------- Input Complete ------------|\n",
      "\n",
      "\n",
      "Model Initiated ============>\n",
      "===== Seperation ===========>\n",
      "Time (s) = 0.07\n",
      "Peak Mutual Crush (in) = 5.48\n",
      "Peak Force (lb) = 12673.07\n",
      "\n",
      "========> Stopped t (s) = 0.117\n",
      "Vehicle 1 crush determined using provided stiffness\n",
      "Vehicle 2 crush determined using provided stiffness\n",
      "\n",
      "------------ Model Inputs ---------------\n",
      "Model Run = High\n",
      "Coefficient of Restitution = 0.28706541065271896\n",
      "Constant Mutual Stiffness = 37246 lb/ft \n",
      "Model will run until t = 0.117 seconds\n",
      "\n",
      "|------------ Vehicle Inputs -----------|\n",
      "\n",
      "<- Vehicle 1 ->\n",
      "\n",
      "Striking braking at 0%\n",
      "Striking initial speed is 10 mph\n",
      "\n",
      "<- Vehicle 2 ->\n",
      "\n",
      "Struck braking at 0%\n",
      "Struck initial speed is 0 mph\n",
      "Model Closing Speed = 10 mph\n",
      "\n",
      "|----------- Input Complete ------------|\n",
      "\n",
      "\n",
      "Model Initiated ============>\n",
      "===== Seperation ===========>\n",
      "Time (s) = 0.061\n",
      "Peak Mutual Crush (in) = 6.78\n",
      "Peak Force (lb) = 21040.76\n",
      "\n",
      "========> Stopped t (s) = 0.117\n",
      "Vehicle 1 crush determined using provided stiffness\n",
      "Vehicle 2 crush determined using provided stiffness\n"
     ]
    }
   ],
   "source": [
    "for i in range(len(v1_vx_initial)):\n",
    "\n",
    "    model_inputs = {\"name\": run_list_names[i],\n",
    "            \"k\": k_model_list[i],\n",
    "            \"cor\": cor_list[i],\n",
    "            \"tstop\": 0.117\n",
    "        }\n",
    "    # closing speed\n",
    "    veh1.vx_initial = v1_vx_initial[i]\n",
    "    # assign individual stiffness values to get vehicle-specific crush\n",
    "    veh1.k = 60127\n",
    "    veh2.k = veh2_stiffnes_list[i]\n",
    "    models[i] = SDOF_Model(veh1, veh2, model_inputs=model_inputs)"
   ],
   "metadata": {
    "collapsed": false,
    "pycharm": {
     "name": "#%%\n"
    }
   }
  },
  {
   "cell_type": "markdown",
   "source": [
    "#### Plot force-displacement response for the three models"
   ],
   "metadata": {
    "collapsed": false,
    "pycharm": {
     "name": "#%% md\n"
    }
   }
  },
  {
   "cell_type": "code",
   "execution_count": 16,
   "outputs": [],
   "source": [
    "plot_fdx(models)"
   ],
   "metadata": {
    "collapsed": false,
    "pycharm": {
     "name": "#%%\n"
    }
   }
  },
  {
   "cell_type": "code",
   "execution_count": 21,
   "outputs": [],
   "source": [
    "# assign individual stiffness values to get vehicle-specific crush\n",
    "\n",
    "plot_vehicle_fdx(models)  # <- vehicle specific Fdx"
   ],
   "metadata": {
    "collapsed": false,
    "pycharm": {
     "name": "#%%\n"
    }
   }
  },
  {
   "cell_type": "code",
   "execution_count": 24,
   "outputs": [],
   "source": [
    "# plot velocity\n",
    "plot_velocity(models, fill_diff = True, show_legend = False)"
   ],
   "metadata": {
    "collapsed": false,
    "pycharm": {
     "name": "#%%\n"
    }
   }
  },
  {
   "cell_type": "code",
   "execution_count": 27,
   "outputs": [],
   "source": [
    "# plot acceleration\n",
    "plot_acceleration(models, fill_diff = True, show_legend = False)"
   ],
   "metadata": {
    "collapsed": false,
    "pycharm": {
     "name": "#%%\n"
    }
   }
  }
 ],
 "metadata": {
  "kernelspec": {
   "display_name": "Python 3",
   "language": "python",
   "name": "python3"
  },
  "language_info": {
   "codemirror_mode": {
    "name": "ipython",
    "version": 3
   },
   "file_extension": ".py",
   "mimetype": "text/x-python",
   "name": "python",
   "nbconvert_exporter": "python",
   "pygments_lexer": "ipython3",
   "version": "3.7.3"
  }
 },
 "nbformat": 4,
 "nbformat_minor": 4
}