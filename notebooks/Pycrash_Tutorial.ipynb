{
 "cells": [
  {
   "cell_type": "markdown",
   "metadata": {},
   "source": [
    "# Pycrash"
   ]
  },
  {
   "cell_type": "code",
   "execution_count": null,
   "metadata": {},
   "outputs": [],
   "source": [
    "import os\n",
    "path_parent = os.path.dirname(os.getcwd())\n",
    "data_directory = os.path.join(path_parent, \"data\")\n",
    "os.chdir(path_parent)\n",
    "\n",
    "# %% Import Modules\n",
    "import matplotlib.pyplot as plt\n",
    "from matplotlib.pyplot import text\n",
    "from IPython.display import display\n",
    "from src.functions import EnergyDV, SpringSeriesKeff, cipriani\n",
    "from src.sdof_model import SDOF_Model\n",
    "from src.project import Project, project_info, load_project\n",
    "from src.vehicle import Vehicle\n",
    "from scipy import signal\n",
    "from scipy import integrate\n",
    "import pandas as pd\n",
    "import numpy as np\n",
    "import pickle\n",
    "import json\n",
    "\n",
    "pd.options.display.max_columns = None\n",
    "from IPython import get_ipython\n",
    "#get_ipython().run_line_magic('matplotlib', 'qt')"
   ]
  },
  {
   "cell_type": "markdown",
   "metadata": {},
   "source": [
    "### Instanstiate Project\n",
    "Prompts user for inputs  \n",
    "`name` - used to save / load project  \n",
    "`description` - free text to describe type of accident eg.: front to rear, sideswipe etc.  \n",
    "`simulation type` - single or multi vehicle  \n",
    "`impact type` - if multi vehicle an impact type type is chosen: \"SS\", \"IMPC\", \"SDOF\"  \n",
    "`note` - free text note for future reference  "
   ]
  },
  {
   "cell_type": "code",
   "execution_count": null,
   "metadata": {},
   "outputs": [],
   "source": [
    "proj = Project()"
   ]
  },
  {
   "cell_type": "markdown",
   "metadata": {},
   "source": [
    "### Instantiate Vehicles\n",
    "There are multiple methods to create a `Vehicle` object  \n",
    "vehicle = Vehicle('name', input_dict = Null) \n",
    "1. `input_dict` see below - predefined python dictionary for inputs, only those necessary for future analysis\n",
    "needs to be supplied\n",
    "2. After creating vehicle object \"veh1\" use `veh1.manual_specs()` for user prompts of all inputs\n",
    "3. After creating vehicle object \"veh1\" use `veh1.load_specs('filename.csv') to load specs from csv file with correct format"
   ]
  },
  {
   "cell_type": "code",
   "execution_count": null,
   "metadata": {},
   "outputs": [],
   "source": [
    "# Vehicle 1\n",
    "\n",
    "vehicle1_input_dict = {\"year\":2011,\n",
    "\"make\":\"International\",\n",
    "\"model\":\"DuraStar 4400\",\n",
    "\"weight\":80000,\n",
    "\"vin\":\"1HSMTAAN1BH324837\",\n",
    "\"brake\":0,\n",
    "\"steer_ratio\":0,\n",
    "\"init_x_pos\":0,\n",
    "\"init_y_pos\":0,\n",
    "\"head_angle\":0,\n",
    "\"v_width\":0,\n",
    "\"v_length\":0,\n",
    "\"hcg\":0,\n",
    "\"lcgf\":0,\n",
    "\"lcgr\":0,\n",
    "\"wb\":0,\n",
    "\"track\":0,\n",
    "\"f_hang\":0,\n",
    "\"r_hang\":0,\n",
    "\"tire_d\":0,\n",
    "\"tire_w\":0,\n",
    "\"izz\":0,\n",
    "\"fwd\":0,\n",
    "\"rwd\":1,\n",
    "\"awd\":0,\n",
    "\"A\":0,\n",
    "\"B\":0,\n",
    "\"k\":7143,\n",
    "\"L\":0,\n",
    "\"c\":0,\n",
    "\"vx_initial\":1,\n",
    "\"vy_initial\":0}\n",
    "\n",
    "veh1 = Vehicle('International', input_dict = vehicle1_input_dict)\n",
    "\n",
    "# Vehicle 2\n",
    "\n",
    "vehicle2_input_dict = {\"year\":1998,\n",
    "\"make\":\"Ford\",\n",
    "\"model\":\"Explorer\",\n",
    "\"weight\":3309,\n",
    "\"vin\":\"1FMYU22X2WUC31945\",\n",
    "\"brake\":0,\n",
    "\"steer_ratio\":0,\n",
    "\"init_x_pos\":0,\n",
    "\"init_y_pos\":0,\n",
    "\"head_angle\":0,\n",
    "\"v_width\":0,\n",
    "\"v_length\":0,\n",
    "\"hcg\":0,\n",
    "\"lcgf\":0,\n",
    "\"lcgr\":0,\n",
    "\"wb\":0,\n",
    "\"track\":0,\n",
    "\"f_hang\":0,\n",
    "\"r_hang\":0,\n",
    "\"tire_d\":0,\n",
    "\"tire_w\":0,\n",
    "\"izz\":0,\n",
    "\"fwd\":0,\n",
    "\"rwd\":1,\n",
    "\"awd\":0,\n",
    "\"A\":0,\n",
    "\"B\":0,\n",
    "\"k\":7143,\n",
    "\"L\":0,\n",
    "\"c\":0,\n",
    "\"vx_initial\":0,\n",
    "\"vy_initial\":0}\n",
    "\n",
    "veh2 = Vehicle('Ford', input_dict = vehicle2_input_dict)"
   ]
  },
  {
   "cell_type": "markdown",
   "metadata": {},
   "source": [
    "#### Get python dictionary of vehicle inputs with `veh1.input_dict()`"
   ]
  },
  {
   "cell_type": "code",
   "execution_count": null,
   "metadata": {},
   "outputs": [],
   "source": [
    "veh1.input_dict()"
   ]
  },
  {
   "cell_type": "markdown",
   "metadata": {},
   "source": [
    "### Single Degree of Freedom Model (SDOF)\n",
    "- simulate vehicle to vehicle interaction with mutual stiffness\n",
    "- braking effects"
   ]
  },
  {
   "cell_type": "code",
   "execution_count": null,
   "metadata": {},
   "outputs": [],
   "source": [
    "model_inputs = {'name':'run1',\n",
    "               'cor':0.2,\n",
    "               'k':1000,\n",
    "               'tstop':0.1}\n",
    "\n",
    "model_run = sdof_model(veh1, veh2, model_inputs=None)"
   ]
  },
  {
   "cell_type": "markdown",
   "metadata": {},
   "source": [
    "creates a static copy of each vehicle object"
   ]
  },
  {
   "cell_type": "markdown",
   "metadata": {},
   "source": [
    "### Change functions to take list of simulations"
   ]
  },
  {
   "cell_type": "code",
   "execution_count": null,
   "metadata": {},
   "outputs": [],
   "source": [
    "# %% Stiffness Values for 3 models\n",
    "veh1_k = [7143, 7143, 7143]\n",
    "veh2_k = [3230, 5220, 7143]\n",
    "k_mutual = []\n",
    "for i in range(len(veh1_k)):\n",
    "    k_mutual.append(SpringSeriesKeff(veh1_k[i], veh2_k[i]))\n",
    "\n",
    "# %% create model inputs\n",
    "v1_vx_initial = [1.5, 2, 2.5]      # initial speeds for striking vehicle\n",
    "colorList = ['k', 'g', 'b']\n",
    "run_list_names = ['run1', 'run2', 'run3']\n",
    "cor_list = [0.2 , 0.2, 0.2]  # low restitution from sideswipe\n",
    "\n",
    "# %% Run three models and plot force-deflection\n",
    "\n",
    "fig = plt.figure(figsize = (14,12))\n",
    "plt.title('Mutual Force', fontsize=20)\n",
    "models =[None] * len(run_list_names)  # create empty list for model runs\n",
    "\n",
    "for i in range(len(v1_vx_initial)):\n",
    "\n",
    "    model_inputs = {\"name\":run_list_names[i],\n",
    "            \"k\":k_mutual[i],\n",
    "            \"cor\":cor_list[i], \n",
    "            \"tstop\":0.12\n",
    "        }\n",
    "    veh1.vx_initial = v1_vx_initial[i]\n",
    "    veh1.k = veh1_k[i]\n",
    "    veh2.k = veh2_k[i]\n",
    "    models[i] = SDOF_Model(veh1, veh2, model_inputs)\n",
    "\n",
    "    # Calculate vehicle specific crush\n",
    "    models[i].model_result['veh1_dx'] = models[i].model_result.dx * (models[i].k / veh1.k)\n",
    "    models[i].model_result['veh2_dx'] = models[i].model_result.dx * (models[i].k / veh2.k)\n",
    "    print(f'Peak Explorer Acceleration Model {models[i].name} = {models[i].model_result.a2.max() / 32.2:.2f} g')\n",
    "\n",
    "    plt.plot(models[i].model_result.t, -1 * models[i].model_result.dx * 12, label = f'F350 F-dx Vi={v1_vx_initial[i]} mph', color = colorList[i])\n",
    "    plt.xticks(fontsize=14)\n",
    "    plt.yticks(fontsize=14)\n",
    "\n",
    "    plt.xlabel('Time (s)', fontsize=20)\n",
    "    plt.ylabel('Mutal Crush (in)', fontsize=20)\n",
    "    plt.grid(which='both', axis='both')\n",
    "    plt.legend(fontsize=14)\n",
    "\n",
    "    plt.hlines(0.9, 0, 0.16, linestyles='--', colors='r')\n",
    "    plt.text(0.06, 0.9 + 0.02, 'Subject Explorer Deformation', fontdict={'size':16})   \n",
    "    plt.show()\n",
    "\n",
    "\n",
    "# %% assign final models\n",
    "run1, run2, run3 = models\n"
   ]
  },
  {
   "cell_type": "code",
   "execution_count": null,
   "metadata": {},
   "outputs": [],
   "source": [
    "# %% comparison velocity plot \n",
    "veh1_colors = ['g', 'g', 'g']\n",
    "veh2_colors = ['b', 'b', 'b']\n",
    "\n",
    "def velocity_compare(run1, run2, run3, veh1_colors, veh2_colors, fill_diff = False, show_legend = False):\n",
    "    \"\"\"\n",
    "    three model runs will be plotted together\n",
    "    runs should be arranged low / mid / high\n",
    "    \"\"\"\n",
    "    \n",
    "    fig = plt.figure(figsize = (14,12))\n",
    "    plt.title('Vehicle Velocity', fontsize=20)\n",
    "    plt.plot(run1.model_result.t, run1.model_result.v1 * 0.681818, label = f'{run1.name} - {run1.veh1.name}', color = veh1_colors[0])\n",
    "    plt.plot(run2.model_result.t, run2.model_result.v1 * 0.681818, label = f'{run1.name} - {run1.veh1.name}', color = veh1_colors[1])\n",
    "    plt.plot(run3.model_result.t, run3.model_result.v1 * 0.681818, label = f'{run1.name} - {run1.veh1.name}', color = veh1_colors[2])\n",
    "\n",
    "    plt.plot(run1.model_result.t, run1.model_result.v2 * 0.681818, label = f'{run1.name} - {run1.veh2.name}', color = veh2_colors[0])\n",
    "    plt.plot(run2.model_result.t, run2.model_result.v2 * 0.681818, label = f'{run1.name} - {run1.veh2.name}', color = veh2_colors[1])\n",
    "    plt.plot(run3.model_result.t, run3.model_result.v2 * 0.681818, label = f'{run1.name} - {run1.veh2.name}', color = veh2_colors[2])\n",
    "\n",
    "    if fill_diff:\n",
    "        plt.fill_between(run1.model_result.t, run1.model_result.v1 * 0.681818, run3.model_result.v1 * 0.681818, alpha=0.3, facecolor=veh1_colors[1])\n",
    "        plt.fill_between(run1.model_result.t, run1.model_result.v2 * 0.681818, run3.model_result.v2 * 0.681818, alpha=0.3, facecolor=veh2_colors[1])\n",
    "\n",
    "\n",
    "    plt.xticks(fontsize=16)\n",
    "    plt.yticks(fontsize=16)\n",
    "\n",
    "    plt.xlim([0, max(max(run1.model_result.t), max(run2.model_result.t), max(run3.model_result.t))])\n",
    "    plt.ylim([0, 1 + round(max(max(run1.model_result.v1) * 0.681818, max(run2.model_result.v1) * 0.681818, max(run3.model_result.v1) * 0.681818,\n",
    "                       max(run1.model_result.v2) * 0.681818, max(run2.model_result.v2) * 0.681818, max(run3.model_result.v2) * 0.681818))])\n",
    "\n",
    "    ax = plt.gca()\n",
    "    ax.spines['right'].set_visible(False)\n",
    "    ax.spines['top'].set_visible(False)\n",
    "\n",
    "    plt.xlabel('Time (s)', fontsize=20)\n",
    "    plt.ylabel('Velocity (mph)', fontsize=20)\n",
    "\n",
    "    if show_legend:\n",
    "        plt.legend(fontsize=14, frameon = False)\n",
    "\n",
    "    plt.show()"
   ]
  },
  {
   "cell_type": "code",
   "execution_count": null,
   "metadata": {},
   "outputs": [],
   "source": [
    "# %% Acceleration Plot\n",
    "\n",
    "def accel_compare(run1, run2, run3, veh1_colors, veh2_colors, fill_diff = False, show_legend = False):\n",
    "    \"\"\"\n",
    "    three model runs will be plotted together\n",
    "    runs should be arranged low / mid / high\n",
    "    \"\"\"\n",
    "\n",
    "    fig = plt.figure(figsize = (14,12))\n",
    "    plt.title('Vehicle Acceleration', fontsize=20)\n",
    "    plt.plot(run1.model_result.t, run1.model_result.a1 / 32.2, label = f'{run1.name} - {run1.veh1.name}', color = veh1_colors[0])\n",
    "    plt.plot(run2.model_result.t, run2.model_result.a1 / 32.2, label = f'{run1.name} - {run1.veh1.name}', color = veh1_colors[1])\n",
    "    plt.plot(run3.model_result.t, run3.model_result.a1 / 32.2, label = f'{run1.name} - {run1.veh1.name}', color = veh1_colors[2])\n",
    "\n",
    "    plt.plot(run1.model_result.t, run1.model_result.a2 / 32.2, label = f'{run1.name} - {run1.veh2.name}', color = veh2_colors[0])\n",
    "    plt.plot(run2.model_result.t, run2.model_result.a2 / 32.2, label = f'{run1.name} - {run1.veh2.name}', color = veh2_colors[1])\n",
    "    plt.plot(run3.model_result.t, run3.model_result.a2 / 32.2, label = f'{run1.name} - {run1.veh2.name}', color = veh2_colors[2])\n",
    "\n",
    "    if fill_diff:\n",
    "        plt.fill_between(run1.model_result.t, run1.model_result.a1 / 32.2, run3.model_result.v1 / 32.2, alpha=0.3, facecolor=veh1_colors[1])\n",
    "        plt.fill_between(run1.model_result.t, run1.model_result.a2 / 32.2, run3.model_result.v2 / 32.2, alpha=0.3, facecolor=veh2_colors[1])\n",
    "\n",
    "\n",
    "    plt.xticks(fontsize=16)\n",
    "    plt.yticks(fontsize=16)\n",
    "\n",
    "    plt.xlim([0, max(max(run1.model_result.t), max(run2.model_result.t), max(run3.model_result.t))])\n",
    "    plt.ylim([-1 + round(min(min(run1.model_result.a1) / 32.2, min(run2.model_result.a1) / 32.2, min(run3.model_result.a1) / 32.2,\n",
    "                       min(run1.model_result.a2) / 32.2, min(run2.model_result.a2) / 32.2, min(run3.model_result.a2) / 32.2)), \n",
    "              1 + round(max(max(run1.model_result.a1) / 32.2, max(run2.model_result.a1) / 32.2, max(run3.model_result.a1) / 32.2,\n",
    "                       max(run1.model_result.a2) / 32.2, max(run2.model_result.a2) / 32.2, max(run3.model_result.a2) / 32.2))])\n",
    "\n",
    "    ax = plt.gca()\n",
    "    ax.spines['right'].set_visible(False)\n",
    "    ax.spines['top'].set_visible(False)\n",
    "\n",
    "    plt.xlabel('Time (s)', fontsize=20)\n",
    "    plt.ylabel('Acceleration (g)', fontsize=20)\n",
    "\n",
    "    if show_legend:\n",
    "        plt.legend(fontsize=14, frameon = False)\n",
    "\n",
    "    plt.show()"
   ]
  },
  {
   "cell_type": "code",
   "execution_count": null,
   "metadata": {},
   "outputs": [],
   "source": [
    "# %% Plot velocities\n",
    "velocity_compare(run1, run2, run3, veh1_colors, veh2_colors, fill_diff = True)\n",
    "accel_compare(run1, run2, run3, veh1_colors, veh2_colors, fill_diff = False)"
   ]
  },
  {
   "cell_type": "code",
   "execution_count": null,
   "metadata": {},
   "outputs": [],
   "source": [
    "# %% Force-Deflection\n",
    "run_colors = ['b', 'g', 'k']\n",
    "fig = plt.figure(figsize = (14,12))\n",
    "plt.title('Mutual Force - Deflection', fontsize=20)\n",
    "\n",
    "plt.plot(run1.model_result.dx * -12, run1.model_result.springF, label = f'{run1.name} - {run1.veh1.name}', color = run_colors[0])\n",
    "plt.plot(run2.model_result.dx * -12, run2.model_result.springF, label = f'{run2.name} - {run1.veh1.name}', color = run_colors[1])\n",
    "plt.plot(run3.model_result.dx * -12, run3.model_result.springF, label = f'{run3.name} - {run1.veh1.name}', color = run_colors[2])\n",
    "\n",
    "plt.xticks(fontsize=14)\n",
    "plt.yticks(fontsize=14)\n",
    "\n",
    "plt.xlim([0, -12 * min(min(run1.model_result.dx), min(run2.model_result.dx), min(run3.model_result.dx))])\n",
    "plt.ylim([0, round(max(max(run1.model_result.springF), max(run2.model_result.springF), max(run3.model_result.springF)))])\n",
    "\n",
    "ax = plt.gca()\n",
    "ax.spines['right'].set_visible(False)\n",
    "ax.spines['top'].set_visible(False)\n",
    "\n",
    "\n",
    "plt.xlabel('Mutal Crush (in)', fontsize=20)\n",
    "plt.ylabel('Force (lb)', fontsize=20)\n",
    "#plt.legend(fontsize=14)\n",
    "\n",
    "plt.vlines(0.9, 0, 7000, linestyles='--', colors='r')\n",
    "plt.text(0.85, 4000, 'Subject Explorer Deformation', fontdict={'size':16} , rotation=90)   \n",
    "plt.show()"
   ]
  },
  {
   "cell_type": "code",
   "execution_count": null,
   "metadata": {},
   "outputs": [],
   "source": []
  },
  {
   "cell_type": "code",
   "execution_count": null,
   "metadata": {},
   "outputs": [],
   "source": []
  },
  {
   "cell_type": "code",
   "execution_count": null,
   "metadata": {},
   "outputs": [],
   "source": []
  },
  {
   "cell_type": "markdown",
   "metadata": {},
   "source": [
    "### Sideswipe Model\n",
    "- Normal / tangential force calculation for sideswipe interaction\n",
    "- Steering / braking effects"
   ]
  },
  {
   "cell_type": "markdown",
   "metadata": {},
   "source": [
    "### Impulse Momentum Collision\n",
    "- Two vehicle motion simulation with impact detection\n",
    "- impulse-momentum collision response"
   ]
  },
  {
   "cell_type": "code",
   "execution_count": null,
   "metadata": {},
   "outputs": [],
   "source": []
  },
  {
   "cell_type": "code",
   "execution_count": null,
   "metadata": {},
   "outputs": [],
   "source": []
  },
  {
   "cell_type": "code",
   "execution_count": null,
   "metadata": {},
   "outputs": [],
   "source": []
  },
  {
   "cell_type": "markdown",
   "metadata": {},
   "source": [
    "### Single Vehicle Motion\n",
    "- calculate vehicle motion given initial conditions and driver inputs\n",
    "- driver inputs are assigned to vehicle using two methods:\n",
    "    - predefined time, steer and brake arrays - should be dataframe?"
   ]
  },
  {
   "cell_type": "code",
   "execution_count": null,
   "metadata": {},
   "outputs": [],
   "source": [
    "# calculate vehicle motion for Vehicle 1\n",
    "v1_in = premotion(1)\n",
    "plot_inputs(v1_in)"
   ]
  },
  {
   "cell_type": "code",
   "execution_count": null,
   "metadata": {},
   "outputs": [],
   "source": [
    "# calculate vehicle motion for Vehicle 2\n",
    "v2_in = premotion(2)\n",
    "plot_inputs(v2_in)"
   ]
  },
  {
   "cell_type": "markdown",
   "metadata": {},
   "source": [
    "#### Vehicle Pre-impact Motion"
   ]
  },
  {
   "cell_type": "code",
   "execution_count": null,
   "metadata": {},
   "outputs": [],
   "source": [
    "veh_1_pre_motion = vehicle_model(1)\n",
    "plot_vehicle_pre_motion(v1_in, veh_1_pre_motion)"
   ]
  },
  {
   "cell_type": "code",
   "execution_count": null,
   "metadata": {},
   "outputs": [],
   "source": [
    "draw_vx, draw_vy, draw_gx, draw_gy = global_frame_df(veh_1_pre_motion, 1)\n",
    "draw_vehicle_motion(draw_gx, draw_gy, 1, len(draw_gx)-1)"
   ]
  },
  {
   "cell_type": "code",
   "execution_count": null,
   "metadata": {},
   "outputs": [],
   "source": [
    "draw_vx, draw_vy, draw_gx, draw_gy = global_frame_df(veh_1_pre_motion, 1)\n",
    "fig0 = draw_vehicle_motion(draw_gx, draw_gy, 1, len(draw_gx)-1)\n",
    "fig1 = draw_vehicle_motion(draw_gx, draw_gy, 1, 0)"
   ]
  },
  {
   "cell_type": "code",
   "execution_count": null,
   "metadata": {},
   "outputs": [],
   "source": []
  },
  {
   "cell_type": "code",
   "execution_count": null,
   "metadata": {},
   "outputs": [],
   "source": [
    "draw_vx, draw_vy, draw_gx, draw_gy = global_frame_df(veh_1_pre_motion, 1)\n",
    "fig, axes = plt.subplots(nrows=1, ncols=2, figsize = (15,10))\n",
    "plotRange = [20, 40]\n",
    "\n",
    "custom_xlim = (0, 350)\n",
    "custom_ylim = (10, -160)\n",
    "plt.setp(axes, xlim=custom_xlim, ylim=custom_ylim)\n",
    "\n",
    "for ax, i in zip(axes.flatten(), plotRange):\n",
    "    draw_vehicle_motion_loop(draw_gx, draw_gy, 1, ax, i)"
   ]
  },
  {
   "cell_type": "code",
   "execution_count": null,
   "metadata": {},
   "outputs": [],
   "source": [
    "fig = plt.figure(figsize=(15,10))\n",
    "plt.xlim([0, 550])\n",
    "plt.ylim([-350, 0])\n",
    "plt.gca().invert_yaxis()\n",
    "fig = draw_vehicle_motion(draw_gx, draw_gy, 1, 0)"
   ]
  },
  {
   "cell_type": "code",
   "execution_count": null,
   "metadata": {},
   "outputs": [],
   "source": []
  },
  {
   "cell_type": "code",
   "execution_count": null,
   "metadata": {},
   "outputs": [],
   "source": [
    "#%% Plot vehicle in vehicle frame\n",
    "from src.plots import draw_vehicle\n",
    "draw_vehicle(draw_vx, draw_vy, 42)"
   ]
  },
  {
   "cell_type": "code",
   "execution_count": null,
   "metadata": {},
   "outputs": [],
   "source": [
    "fig.savefig('D:\\\\OneDrive\\\\Vehicle_Dynamics\\\\plots\\\\global.png')"
   ]
  },
  {
   "cell_type": "markdown",
   "metadata": {},
   "source": [
    "### Import Scene Image"
   ]
  },
  {
   "cell_type": "code",
   "execution_count": null,
   "metadata": {},
   "outputs": [],
   "source": [
    "import numpy as np\n",
    "import pandas as pd\n",
    "import math"
   ]
  },
  {
   "cell_type": "code",
   "execution_count": null,
   "metadata": {},
   "outputs": [],
   "source": [
    "# load DX, DY\n",
    "v1_pre = veh_1_pre_motion\n",
    "theta_shift = -10 * math.pi / 180\n",
    "x_shift = 200\n",
    "y_shift = 240\n",
    "# rotate and translate\n",
    "for i in (range(len(v1_pre))):\n",
    "    v1_pre.loc[i, 'Dx_'] = x_shift + v1_pre.loc[i, 'Dx']*math.cos(theta_shift) - v1_pre.loc[i, 'Dy']*math.sin(theta_shift)\n",
    "    v1_pre.loc[i, 'Dy_'] = y_shift + v1_pre.loc[i, 'Dx']*math.sin(theta_shift) + v1_pre.loc[i, 'Dy']*math.cos(theta_shift)"
   ]
  },
  {
   "cell_type": "code",
   "execution_count": null,
   "metadata": {},
   "outputs": [],
   "source": [
    "img = plt.imread('pre_imapct_motion.jpg')\n",
    "#plt.scatter(x,y,zorder=1)\n",
    "# height = 333.17 ft, \n",
    "# width = 544.51 ft\n",
    "\n",
    "fig = plt.figure(figsize=(19,15))\n",
    "plt.scatter(v1_pre.Dx_, v1_pre.Dy_, s=5)\n",
    "plt.imshow(img, zorder=0, extent=[0, 544.41, 333.17, 0])\n",
    "plt.show()"
   ]
  },
  {
   "cell_type": "code",
   "execution_count": null,
   "metadata": {},
   "outputs": [],
   "source": []
  }
 ],
 "metadata": {
  "kernelspec": {
   "display_name": "Python 3",
   "language": "python",
   "name": "python3"
  },
  "language_info": {
   "codemirror_mode": {
    "name": "ipython",
    "version": 3
   },
   "file_extension": ".py",
   "mimetype": "text/x-python",
   "name": "python",
   "nbconvert_exporter": "python",
   "pygments_lexer": "ipython3",
   "version": "3.8.3"
  }
 },
 "nbformat": 4,
 "nbformat_minor": 4
}