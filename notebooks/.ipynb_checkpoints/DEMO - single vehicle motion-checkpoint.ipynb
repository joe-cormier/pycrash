{
 "cells": [
  {
   "cell_type": "code",
   "execution_count": 1,
   "metadata": {},
   "outputs": [],
   "source": [
    "%load_ext autoreload\n",
    "%autoreload 2"
   ]
  },
  {
   "cell_type": "code",
   "execution_count": 2,
   "metadata": {},
   "outputs": [],
   "source": [
    "import plotly.graph_objects as go"
   ]
  },
  {
   "cell_type": "code",
   "execution_count": 3,
   "metadata": {},
   "outputs": [
    {
     "ename": "NameError",
     "evalue": "name 'os' is not defined",
     "output_type": "error",
     "traceback": [
      "\u001b[0;31m---------------------------------------------------------------------------\u001b[0m",
      "\u001b[0;31mNameError\u001b[0m                                 Traceback (most recent call last)",
      "\u001b[0;32m<ipython-input-3-bd1739336468>\u001b[0m in \u001b[0;36m<module>\u001b[0;34m\u001b[0m\n\u001b[0;32m----> 1\u001b[0;31m \u001b[0mos\u001b[0m\u001b[0;34m.\u001b[0m\u001b[0mchdir\u001b[0m\u001b[0;34m(\u001b[0m\u001b[0;34m'/home/joemcormier/github/pycrash'\u001b[0m\u001b[0;34m)\u001b[0m\u001b[0;34m\u001b[0m\u001b[0;34m\u001b[0m\u001b[0m\n\u001b[0m",
      "\u001b[0;31mNameError\u001b[0m: name 'os' is not defined"
     ]
    }
   ],
   "source": [
    "os.chdir('/home/joemcormier/github/pycrash')"
   ]
  },
  {
   "cell_type": "code",
   "execution_count": 48,
   "metadata": {},
   "outputs": [],
   "source": [
    "import os\n",
    "path_parent = os.path.dirname(os.getcwd())\n",
    "data_directory = os.path.join(path_parent, \"data\")\n",
    "os.chdir(path_parent)\n",
    "\n",
    "import numpy as np\n",
    "import pandas as pd\n",
    "pd.options.display.max_columns = None\n",
    "\n",
    "import pycrash\n",
    "from pycrash.data.defaults.config import default_dict\n",
    "mu_max = default_dict['mu_max']             # maximum available friction"
   ]
  },
  {
   "cell_type": "code",
   "execution_count": 17,
   "metadata": {},
   "outputs": [
    {
     "name": "stdout",
     "output_type": "stream",
     "text": [
      "--------  -------------  -----------  ---------------  --------------------------\n",
      "Project   Description    Impact Type  Simulation Type  Note\n",
      "Practice  single motion  none         SV               single vehicle motion demo\n",
      "--------  -------------  -----------  ---------------  --------------------------\n"
     ]
    }
   ],
   "source": [
    "project_inputs = {'name':'Practice', 'pdesc':'single motion', 'sim_type':'SV', 'impact_type':'none',\n",
    "                  'note':'single vehicle motion demo'}\n",
    "proj = pycrash.Project(project_inputs)"
   ]
  },
  {
   "cell_type": "code",
   "execution_count": 18,
   "metadata": {},
   "outputs": [
    {
     "name": "stdout",
     "output_type": "stream",
     "text": [
      "Vehicle inputs for Veh1 applied succesfully\n"
     ]
    }
   ],
   "source": [
    "# for vehicle motion simluation, driver input is provided as a dataframe\n",
    "end_time = 5  # 5 second simulation\n",
    "t = list(np.arange(0, end_time+0.1, 0.1))  # create time array from 0 to end time from user\n",
    "throttle = [0] * len(t)                                # no throttle\n",
    "brake = [0] * len(t)                                   # no braking\n",
    "steer = [0] * len(t)                                   # no steering\n",
    "driver_input_dict = {'t':t, 'throttle':throttle, 'brake':brake, 'steer':steer}\n",
    "driver_input_df = pd.DataFrame.from_dict(driver_input_dict)\n",
    "\n",
    "vehicle_input_dict = {\"year\":2016,\n",
    "\"make\":\"Subaru\",\n",
    "\"model\":\"WRX Sti\",\n",
    "\"weight\":3000,\n",
    "\"vin\":\"123abc\",\n",
    "\"brake\":0,\n",
    "\"steer_ratio\":16.5,\n",
    "\"init_x_pos\":0,\n",
    "\"init_y_pos\":0,\n",
    "\"head_angle\":0,\n",
    "\"v_width\":6,\n",
    "\"v_length\":19.3,\n",
    "\"hcg\":2,\n",
    "\"lcgf\":4.88,\n",
    "\"lcgr\":6.96,\n",
    "\"wb\":11.84,\n",
    "\"track\":6.6,\n",
    "\"f_hang\":3.2,\n",
    "\"r_hang\":4.1,\n",
    "\"tire_d\":2.716666667,\n",
    "\"tire_w\":0.866666667,\n",
    "\"izz\":13615,\n",
    "\"fwd\":0,\n",
    "\"rwd\":1,\n",
    "\"awd\":0,\n",
    "\"A\":100,\n",
    "\"B\":41,\n",
    "\"k\":1000,\n",
    "\"L\":0,\n",
    "\"c\":0,\n",
    "\"vx_initial\":5,\n",
    "\"vy_initial\":0,\n",
    "\"omega_z\":0,\n",
    "\"driver_input\":driver_input_df}\n",
    "\n",
    "veh1 = pycrash.Vehicle('Veh1', vehicle_input_dict)"
   ]
  },
  {
   "cell_type": "code",
   "execution_count": 19,
   "metadata": {},
   "outputs": [
    {
     "name": "stdout",
     "output_type": "stream",
     "text": [
      "Driver inputs applied to Veh1\n"
     ]
    },
    {
     "data": {
      "application/vnd.plotly.v1+json": {
       "config": {
        "plotlyServerURL": "https://plot.ly"
       },
       "data": [
        {
         "line": {
          "color": "rgb(0, 255, 0)",
          "width": 2
         },
         "mode": "lines",
         "name": "throttle",
         "type": "scatter",
         "x": [
          0,
          0.1,
          0.2,
          0.3,
          0.4,
          0.5,
          0.6,
          0.7,
          0.8,
          0.9,
          1,
          1.1,
          1.2,
          1.3,
          1.4,
          1.5,
          1.6,
          1.7,
          1.8,
          1.9,
          2,
          2.1,
          2.2,
          2.3,
          2.4,
          2.5,
          2.6,
          2.7,
          2.8,
          2.9,
          3,
          3.1,
          3.2,
          3.3,
          3.4,
          3.5,
          3.6,
          3.7,
          3.8,
          3.9,
          4,
          4.1,
          4.2,
          4.3,
          4.4,
          4.5,
          4.6,
          4.7,
          4.8,
          4.9,
          5
         ],
         "xaxis": "x",
         "y": [
          0,
          0,
          0,
          0,
          0,
          0,
          0,
          0,
          0,
          0,
          0,
          0,
          0,
          0,
          0,
          0,
          0,
          0,
          0,
          0,
          0,
          0,
          0,
          0,
          0,
          0,
          0,
          0,
          0,
          0,
          0,
          0,
          0,
          0,
          0,
          0,
          0,
          0,
          0,
          0,
          0,
          0,
          0,
          0,
          0,
          0,
          0,
          0,
          0,
          0,
          0
         ],
         "yaxis": "y"
        },
        {
         "line": {
          "color": "rgb(255, 0, 0)",
          "width": 2
         },
         "mode": "lines",
         "name": "brake",
         "type": "scatter",
         "x": [
          0,
          0.1,
          0.2,
          0.3,
          0.4,
          0.5,
          0.6,
          0.7,
          0.8,
          0.9,
          1,
          1.1,
          1.2,
          1.3,
          1.4,
          1.5,
          1.6,
          1.7,
          1.8,
          1.9,
          2,
          2.1,
          2.2,
          2.3,
          2.4,
          2.5,
          2.6,
          2.7,
          2.8,
          2.9,
          3,
          3.1,
          3.2,
          3.3,
          3.4,
          3.5,
          3.6,
          3.7,
          3.8,
          3.9,
          4,
          4.1,
          4.2,
          4.3,
          4.4,
          4.5,
          4.6,
          4.7,
          4.8,
          4.9,
          5
         ],
         "xaxis": "x",
         "y": [
          0,
          2,
          4,
          6,
          8,
          10,
          12,
          14.000000000000002,
          16,
          18,
          20,
          22,
          24,
          26,
          28.000000000000004,
          30,
          32,
          34,
          36,
          38,
          40,
          42,
          44,
          46,
          48,
          50,
          50,
          50,
          50,
          50,
          50,
          50,
          50,
          50,
          50,
          50,
          50,
          50,
          50,
          50,
          50,
          50,
          50,
          50,
          50,
          50,
          50,
          50,
          50,
          50,
          50
         ],
         "yaxis": "y"
        },
        {
         "line": {
          "color": "rgb(0, 0, 0)",
          "width": 2
         },
         "mode": "lines",
         "name": "steer",
         "type": "scatter",
         "x": [
          0,
          0.1,
          0.2,
          0.3,
          0.4,
          0.5,
          0.6,
          0.7,
          0.8,
          0.9,
          1,
          1.1,
          1.2,
          1.3,
          1.4,
          1.5,
          1.6,
          1.7,
          1.8,
          1.9,
          2,
          2.1,
          2.2,
          2.3,
          2.4,
          2.5,
          2.6,
          2.7,
          2.8,
          2.9,
          3,
          3.1,
          3.2,
          3.3,
          3.4,
          3.5,
          3.6,
          3.7,
          3.8,
          3.9,
          4,
          4.1,
          4.2,
          4.3,
          4.4,
          4.5,
          4.6,
          4.7,
          4.8,
          4.9,
          5
         ],
         "xaxis": "x",
         "y": [
          0,
          0,
          0,
          0,
          0,
          0,
          0,
          0,
          0,
          0,
          0,
          0,
          0,
          0,
          0,
          0,
          0,
          0,
          0,
          0,
          0,
          0,
          0,
          0,
          0,
          0,
          0,
          0,
          0,
          0,
          0,
          0,
          0,
          0,
          0,
          0,
          0,
          0,
          0,
          0,
          0,
          0,
          0,
          0,
          0,
          0,
          0,
          0,
          0,
          0,
          0
         ],
         "yaxis": "y2"
        }
       ],
       "layout": {
        "autosize": false,
        "font": {
         "color": "black",
         "family": "Arial",
         "size": 16
        },
        "height": 450,
        "legend": {
         "orientation": "h",
         "x": 0.01,
         "xanchor": "left",
         "y": 1.15,
         "yanchor": "top"
        },
        "template": {
         "data": {
          "bar": [
           {
            "error_x": {
             "color": "#2a3f5f"
            },
            "error_y": {
             "color": "#2a3f5f"
            },
            "marker": {
             "line": {
              "color": "white",
              "width": 0.5
             }
            },
            "type": "bar"
           }
          ],
          "barpolar": [
           {
            "marker": {
             "line": {
              "color": "white",
              "width": 0.5
             }
            },
            "type": "barpolar"
           }
          ],
          "carpet": [
           {
            "aaxis": {
             "endlinecolor": "#2a3f5f",
             "gridcolor": "#C8D4E3",
             "linecolor": "#C8D4E3",
             "minorgridcolor": "#C8D4E3",
             "startlinecolor": "#2a3f5f"
            },
            "baxis": {
             "endlinecolor": "#2a3f5f",
             "gridcolor": "#C8D4E3",
             "linecolor": "#C8D4E3",
             "minorgridcolor": "#C8D4E3",
             "startlinecolor": "#2a3f5f"
            },
            "type": "carpet"
           }
          ],
          "choropleth": [
           {
            "colorbar": {
             "outlinewidth": 0,
             "ticks": ""
            },
            "type": "choropleth"
           }
          ],
          "contour": [
           {
            "colorbar": {
             "outlinewidth": 0,
             "ticks": ""
            },
            "colorscale": [
             [
              0,
              "#0d0887"
             ],
             [
              0.1111111111111111,
              "#46039f"
             ],
             [
              0.2222222222222222,
              "#7201a8"
             ],
             [
              0.3333333333333333,
              "#9c179e"
             ],
             [
              0.4444444444444444,
              "#bd3786"
             ],
             [
              0.5555555555555556,
              "#d8576b"
             ],
             [
              0.6666666666666666,
              "#ed7953"
             ],
             [
              0.7777777777777778,
              "#fb9f3a"
             ],
             [
              0.8888888888888888,
              "#fdca26"
             ],
             [
              1,
              "#f0f921"
             ]
            ],
            "type": "contour"
           }
          ],
          "contourcarpet": [
           {
            "colorbar": {
             "outlinewidth": 0,
             "ticks": ""
            },
            "type": "contourcarpet"
           }
          ],
          "heatmap": [
           {
            "colorbar": {
             "outlinewidth": 0,
             "ticks": ""
            },
            "colorscale": [
             [
              0,
              "#0d0887"
             ],
             [
              0.1111111111111111,
              "#46039f"
             ],
             [
              0.2222222222222222,
              "#7201a8"
             ],
             [
              0.3333333333333333,
              "#9c179e"
             ],
             [
              0.4444444444444444,
              "#bd3786"
             ],
             [
              0.5555555555555556,
              "#d8576b"
             ],
             [
              0.6666666666666666,
              "#ed7953"
             ],
             [
              0.7777777777777778,
              "#fb9f3a"
             ],
             [
              0.8888888888888888,
              "#fdca26"
             ],
             [
              1,
              "#f0f921"
             ]
            ],
            "type": "heatmap"
           }
          ],
          "heatmapgl": [
           {
            "colorbar": {
             "outlinewidth": 0,
             "ticks": ""
            },
            "colorscale": [
             [
              0,
              "#0d0887"
             ],
             [
              0.1111111111111111,
              "#46039f"
             ],
             [
              0.2222222222222222,
              "#7201a8"
             ],
             [
              0.3333333333333333,
              "#9c179e"
             ],
             [
              0.4444444444444444,
              "#bd3786"
             ],
             [
              0.5555555555555556,
              "#d8576b"
             ],
             [
              0.6666666666666666,
              "#ed7953"
             ],
             [
              0.7777777777777778,
              "#fb9f3a"
             ],
             [
              0.8888888888888888,
              "#fdca26"
             ],
             [
              1,
              "#f0f921"
             ]
            ],
            "type": "heatmapgl"
           }
          ],
          "histogram": [
           {
            "marker": {
             "colorbar": {
              "outlinewidth": 0,
              "ticks": ""
             }
            },
            "type": "histogram"
           }
          ],
          "histogram2d": [
           {
            "colorbar": {
             "outlinewidth": 0,
             "ticks": ""
            },
            "colorscale": [
             [
              0,
              "#0d0887"
             ],
             [
              0.1111111111111111,
              "#46039f"
             ],
             [
              0.2222222222222222,
              "#7201a8"
             ],
             [
              0.3333333333333333,
              "#9c179e"
             ],
             [
              0.4444444444444444,
              "#bd3786"
             ],
             [
              0.5555555555555556,
              "#d8576b"
             ],
             [
              0.6666666666666666,
              "#ed7953"
             ],
             [
              0.7777777777777778,
              "#fb9f3a"
             ],
             [
              0.8888888888888888,
              "#fdca26"
             ],
             [
              1,
              "#f0f921"
             ]
            ],
            "type": "histogram2d"
           }
          ],
          "histogram2dcontour": [
           {
            "colorbar": {
             "outlinewidth": 0,
             "ticks": ""
            },
            "colorscale": [
             [
              0,
              "#0d0887"
             ],
             [
              0.1111111111111111,
              "#46039f"
             ],
             [
              0.2222222222222222,
              "#7201a8"
             ],
             [
              0.3333333333333333,
              "#9c179e"
             ],
             [
              0.4444444444444444,
              "#bd3786"
             ],
             [
              0.5555555555555556,
              "#d8576b"
             ],
             [
              0.6666666666666666,
              "#ed7953"
             ],
             [
              0.7777777777777778,
              "#fb9f3a"
             ],
             [
              0.8888888888888888,
              "#fdca26"
             ],
             [
              1,
              "#f0f921"
             ]
            ],
            "type": "histogram2dcontour"
           }
          ],
          "mesh3d": [
           {
            "colorbar": {
             "outlinewidth": 0,
             "ticks": ""
            },
            "type": "mesh3d"
           }
          ],
          "parcoords": [
           {
            "line": {
             "colorbar": {
              "outlinewidth": 0,
              "ticks": ""
             }
            },
            "type": "parcoords"
           }
          ],
          "pie": [
           {
            "automargin": true,
            "type": "pie"
           }
          ],
          "scatter": [
           {
            "marker": {
             "colorbar": {
              "outlinewidth": 0,
              "ticks": ""
             }
            },
            "type": "scatter"
           }
          ],
          "scatter3d": [
           {
            "line": {
             "colorbar": {
              "outlinewidth": 0,
              "ticks": ""
             }
            },
            "marker": {
             "colorbar": {
              "outlinewidth": 0,
              "ticks": ""
             }
            },
            "type": "scatter3d"
           }
          ],
          "scattercarpet": [
           {
            "marker": {
             "colorbar": {
              "outlinewidth": 0,
              "ticks": ""
             }
            },
            "type": "scattercarpet"
           }
          ],
          "scattergeo": [
           {
            "marker": {
             "colorbar": {
              "outlinewidth": 0,
              "ticks": ""
             }
            },
            "type": "scattergeo"
           }
          ],
          "scattergl": [
           {
            "marker": {
             "colorbar": {
              "outlinewidth": 0,
              "ticks": ""
             }
            },
            "type": "scattergl"
           }
          ],
          "scattermapbox": [
           {
            "marker": {
             "colorbar": {
              "outlinewidth": 0,
              "ticks": ""
             }
            },
            "type": "scattermapbox"
           }
          ],
          "scatterpolar": [
           {
            "marker": {
             "colorbar": {
              "outlinewidth": 0,
              "ticks": ""
             }
            },
            "type": "scatterpolar"
           }
          ],
          "scatterpolargl": [
           {
            "marker": {
             "colorbar": {
              "outlinewidth": 0,
              "ticks": ""
             }
            },
            "type": "scatterpolargl"
           }
          ],
          "scatterternary": [
           {
            "marker": {
             "colorbar": {
              "outlinewidth": 0,
              "ticks": ""
             }
            },
            "type": "scatterternary"
           }
          ],
          "surface": [
           {
            "colorbar": {
             "outlinewidth": 0,
             "ticks": ""
            },
            "colorscale": [
             [
              0,
              "#0d0887"
             ],
             [
              0.1111111111111111,
              "#46039f"
             ],
             [
              0.2222222222222222,
              "#7201a8"
             ],
             [
              0.3333333333333333,
              "#9c179e"
             ],
             [
              0.4444444444444444,
              "#bd3786"
             ],
             [
              0.5555555555555556,
              "#d8576b"
             ],
             [
              0.6666666666666666,
              "#ed7953"
             ],
             [
              0.7777777777777778,
              "#fb9f3a"
             ],
             [
              0.8888888888888888,
              "#fdca26"
             ],
             [
              1,
              "#f0f921"
             ]
            ],
            "type": "surface"
           }
          ],
          "table": [
           {
            "cells": {
             "fill": {
              "color": "#EBF0F8"
             },
             "line": {
              "color": "white"
             }
            },
            "header": {
             "fill": {
              "color": "#C8D4E3"
             },
             "line": {
              "color": "white"
             }
            },
            "type": "table"
           }
          ]
         },
         "layout": {
          "annotationdefaults": {
           "arrowcolor": "#2a3f5f",
           "arrowhead": 0,
           "arrowwidth": 1
          },
          "coloraxis": {
           "colorbar": {
            "outlinewidth": 0,
            "ticks": ""
           }
          },
          "colorscale": {
           "diverging": [
            [
             0,
             "#8e0152"
            ],
            [
             0.1,
             "#c51b7d"
            ],
            [
             0.2,
             "#de77ae"
            ],
            [
             0.3,
             "#f1b6da"
            ],
            [
             0.4,
             "#fde0ef"
            ],
            [
             0.5,
             "#f7f7f7"
            ],
            [
             0.6,
             "#e6f5d0"
            ],
            [
             0.7,
             "#b8e186"
            ],
            [
             0.8,
             "#7fbc41"
            ],
            [
             0.9,
             "#4d9221"
            ],
            [
             1,
             "#276419"
            ]
           ],
           "sequential": [
            [
             0,
             "#0d0887"
            ],
            [
             0.1111111111111111,
             "#46039f"
            ],
            [
             0.2222222222222222,
             "#7201a8"
            ],
            [
             0.3333333333333333,
             "#9c179e"
            ],
            [
             0.4444444444444444,
             "#bd3786"
            ],
            [
             0.5555555555555556,
             "#d8576b"
            ],
            [
             0.6666666666666666,
             "#ed7953"
            ],
            [
             0.7777777777777778,
             "#fb9f3a"
            ],
            [
             0.8888888888888888,
             "#fdca26"
            ],
            [
             1,
             "#f0f921"
            ]
           ],
           "sequentialminus": [
            [
             0,
             "#0d0887"
            ],
            [
             0.1111111111111111,
             "#46039f"
            ],
            [
             0.2222222222222222,
             "#7201a8"
            ],
            [
             0.3333333333333333,
             "#9c179e"
            ],
            [
             0.4444444444444444,
             "#bd3786"
            ],
            [
             0.5555555555555556,
             "#d8576b"
            ],
            [
             0.6666666666666666,
             "#ed7953"
            ],
            [
             0.7777777777777778,
             "#fb9f3a"
            ],
            [
             0.8888888888888888,
             "#fdca26"
            ],
            [
             1,
             "#f0f921"
            ]
           ]
          },
          "colorway": [
           "#636efa",
           "#EF553B",
           "#00cc96",
           "#ab63fa",
           "#FFA15A",
           "#19d3f3",
           "#FF6692",
           "#B6E880",
           "#FF97FF",
           "#FECB52"
          ],
          "font": {
           "color": "#2a3f5f"
          },
          "geo": {
           "bgcolor": "white",
           "lakecolor": "white",
           "landcolor": "white",
           "showlakes": true,
           "showland": true,
           "subunitcolor": "#C8D4E3"
          },
          "hoverlabel": {
           "align": "left"
          },
          "hovermode": "closest",
          "mapbox": {
           "style": "light"
          },
          "paper_bgcolor": "white",
          "plot_bgcolor": "white",
          "polar": {
           "angularaxis": {
            "gridcolor": "#EBF0F8",
            "linecolor": "#EBF0F8",
            "ticks": ""
           },
           "bgcolor": "white",
           "radialaxis": {
            "gridcolor": "#EBF0F8",
            "linecolor": "#EBF0F8",
            "ticks": ""
           }
          },
          "scene": {
           "xaxis": {
            "backgroundcolor": "white",
            "gridcolor": "#DFE8F3",
            "gridwidth": 2,
            "linecolor": "#EBF0F8",
            "showbackground": true,
            "ticks": "",
            "zerolinecolor": "#EBF0F8"
           },
           "yaxis": {
            "backgroundcolor": "white",
            "gridcolor": "#DFE8F3",
            "gridwidth": 2,
            "linecolor": "#EBF0F8",
            "showbackground": true,
            "ticks": "",
            "zerolinecolor": "#EBF0F8"
           },
           "zaxis": {
            "backgroundcolor": "white",
            "gridcolor": "#DFE8F3",
            "gridwidth": 2,
            "linecolor": "#EBF0F8",
            "showbackground": true,
            "ticks": "",
            "zerolinecolor": "#EBF0F8"
           }
          },
          "shapedefaults": {
           "line": {
            "color": "#2a3f5f"
           }
          },
          "ternary": {
           "aaxis": {
            "gridcolor": "#DFE8F3",
            "linecolor": "#A2B1C6",
            "ticks": ""
           },
           "baxis": {
            "gridcolor": "#DFE8F3",
            "linecolor": "#A2B1C6",
            "ticks": ""
           },
           "bgcolor": "white",
           "caxis": {
            "gridcolor": "#DFE8F3",
            "linecolor": "#A2B1C6",
            "ticks": ""
           }
          },
          "title": {
           "x": 0.05
          },
          "xaxis": {
           "automargin": true,
           "gridcolor": "#EBF0F8",
           "linecolor": "#EBF0F8",
           "ticks": "",
           "title": {
            "standoff": 15
           },
           "zerolinecolor": "#EBF0F8",
           "zerolinewidth": 2
          },
          "yaxis": {
           "automargin": true,
           "gridcolor": "#EBF0F8",
           "linecolor": "#EBF0F8",
           "ticks": "",
           "title": {
            "standoff": 15
           },
           "zerolinecolor": "#EBF0F8",
           "zerolinewidth": 2
          }
         }
        },
        "title": {
         "text": "Driver Inputs for Veh1"
        },
        "width": 800,
        "xaxis": {
         "anchor": "y",
         "domain": [
          0,
          0.94
         ],
         "linecolor": "black",
         "linewidth": 1,
         "showgrid": false,
         "showline": true,
         "tickcolor": "black",
         "ticklen": 10,
         "ticks": "outside",
         "tickwidth": 1,
         "title": {
          "text": "Time (s)"
         },
         "zeroline": false
        },
        "yaxis": {
         "anchor": "x",
         "autorange": "reversed",
         "domain": [
          0,
          1
         ],
         "linecolor": "black",
         "linewidth": 1,
         "showgrid": false,
         "showline": true,
         "tickcolor": "black",
         "ticklen": 10,
         "ticks": "outside",
         "tickwidth": 1,
         "title": {
          "text": "Brake | Throttle (%)"
         },
         "zeroline": false
        },
        "yaxis2": {
         "anchor": "x",
         "autorange": "reversed",
         "linecolor": "black",
         "linewidth": 1,
         "overlaying": "y",
         "showgrid": false,
         "showline": true,
         "side": "right",
         "tickcolor": "black",
         "ticklen": 10,
         "ticks": "outside",
         "tickwidth": 1,
         "title": {
          "text": "Steer Angle (deg)"
         },
         "zeroline": false
        }
       }
      },
      "text/html": [
       "<div>\n",
       "        \n",
       "        \n",
       "            <div id=\"fab92df4-7da1-45b0-b3e6-6d1832d35b5e\" class=\"plotly-graph-div\" style=\"height:450px; width:800px;\"></div>\n",
       "            <script type=\"text/javascript\">\n",
       "                require([\"plotly\"], function(Plotly) {\n",
       "                    window.PLOTLYENV=window.PLOTLYENV || {};\n",
       "                    \n",
       "                if (document.getElementById(\"fab92df4-7da1-45b0-b3e6-6d1832d35b5e\")) {\n",
       "                    Plotly.newPlot(\n",
       "                        'fab92df4-7da1-45b0-b3e6-6d1832d35b5e',\n",
       "                        [{\"line\": {\"color\": \"rgb(0, 255, 0)\", \"width\": 2}, \"mode\": \"lines\", \"name\": \"throttle\", \"type\": \"scatter\", \"x\": [0.0, 0.1, 0.2, 0.3, 0.4, 0.5, 0.6, 0.7, 0.8, 0.9, 1.0, 1.1, 1.2, 1.3, 1.4, 1.5, 1.6, 1.7, 1.8, 1.9, 2.0, 2.1, 2.2, 2.3, 2.4, 2.5, 2.6, 2.7, 2.8, 2.9, 3.0, 3.1, 3.2, 3.3, 3.4, 3.5, 3.6, 3.7, 3.8, 3.9, 4.0, 4.1, 4.2, 4.3, 4.4, 4.5, 4.6, 4.7, 4.8, 4.9, 5.0], \"xaxis\": \"x\", \"y\": [0.0, 0.0, 0.0, 0.0, 0.0, 0.0, 0.0, 0.0, 0.0, 0.0, 0.0, 0.0, 0.0, 0.0, 0.0, 0.0, 0.0, 0.0, 0.0, 0.0, 0.0, 0.0, 0.0, 0.0, 0.0, 0.0, 0.0, 0.0, 0.0, 0.0, 0.0, 0.0, 0.0, 0.0, 0.0, 0.0, 0.0, 0.0, 0.0, 0.0, 0.0, 0.0, 0.0, 0.0, 0.0, 0.0, 0.0, 0.0, 0.0, 0.0, 0.0], \"yaxis\": \"y\"}, {\"line\": {\"color\": \"rgb(255, 0, 0)\", \"width\": 2}, \"mode\": \"lines\", \"name\": \"brake\", \"type\": \"scatter\", \"x\": [0.0, 0.1, 0.2, 0.3, 0.4, 0.5, 0.6, 0.7, 0.8, 0.9, 1.0, 1.1, 1.2, 1.3, 1.4, 1.5, 1.6, 1.7, 1.8, 1.9, 2.0, 2.1, 2.2, 2.3, 2.4, 2.5, 2.6, 2.7, 2.8, 2.9, 3.0, 3.1, 3.2, 3.3, 3.4, 3.5, 3.6, 3.7, 3.8, 3.9, 4.0, 4.1, 4.2, 4.3, 4.4, 4.5, 4.6, 4.7, 4.8, 4.9, 5.0], \"xaxis\": \"x\", \"y\": [0.0, 2.0, 4.0, 6.0, 8.0, 10.0, 12.0, 14.000000000000002, 16.0, 18.0, 20.0, 22.0, 24.0, 26.0, 28.000000000000004, 30.0, 32.0, 34.0, 36.0, 38.0, 40.0, 42.0, 44.0, 46.0, 48.0, 50.0, 50.0, 50.0, 50.0, 50.0, 50.0, 50.0, 50.0, 50.0, 50.0, 50.0, 50.0, 50.0, 50.0, 50.0, 50.0, 50.0, 50.0, 50.0, 50.0, 50.0, 50.0, 50.0, 50.0, 50.0, 50.0], \"yaxis\": \"y\"}, {\"line\": {\"color\": \"rgb(0, 0, 0)\", \"width\": 2}, \"mode\": \"lines\", \"name\": \"steer\", \"type\": \"scatter\", \"x\": [0.0, 0.1, 0.2, 0.3, 0.4, 0.5, 0.6, 0.7, 0.8, 0.9, 1.0, 1.1, 1.2, 1.3, 1.4, 1.5, 1.6, 1.7, 1.8, 1.9, 2.0, 2.1, 2.2, 2.3, 2.4, 2.5, 2.6, 2.7, 2.8, 2.9, 3.0, 3.1, 3.2, 3.3, 3.4, 3.5, 3.6, 3.7, 3.8, 3.9, 4.0, 4.1, 4.2, 4.3, 4.4, 4.5, 4.6, 4.7, 4.8, 4.9, 5.0], \"xaxis\": \"x\", \"y\": [0.0, 0.0, 0.0, 0.0, 0.0, 0.0, 0.0, 0.0, 0.0, 0.0, 0.0, 0.0, 0.0, 0.0, 0.0, 0.0, 0.0, 0.0, 0.0, 0.0, 0.0, 0.0, 0.0, 0.0, 0.0, 0.0, 0.0, 0.0, 0.0, 0.0, 0.0, 0.0, 0.0, 0.0, 0.0, 0.0, 0.0, 0.0, 0.0, 0.0, 0.0, 0.0, 0.0, 0.0, 0.0, 0.0, 0.0, 0.0, 0.0, 0.0, 0.0], \"yaxis\": \"y2\"}],\n",
       "                        {\"autosize\": false, \"font\": {\"color\": \"black\", \"family\": \"Arial\", \"size\": 16}, \"height\": 450, \"legend\": {\"orientation\": \"h\", \"x\": 0.01, \"xanchor\": \"left\", \"y\": 1.15, \"yanchor\": \"top\"}, \"template\": {\"data\": {\"bar\": [{\"error_x\": {\"color\": \"#2a3f5f\"}, \"error_y\": {\"color\": \"#2a3f5f\"}, \"marker\": {\"line\": {\"color\": \"white\", \"width\": 0.5}}, \"type\": \"bar\"}], \"barpolar\": [{\"marker\": {\"line\": {\"color\": \"white\", \"width\": 0.5}}, \"type\": \"barpolar\"}], \"carpet\": [{\"aaxis\": {\"endlinecolor\": \"#2a3f5f\", \"gridcolor\": \"#C8D4E3\", \"linecolor\": \"#C8D4E3\", \"minorgridcolor\": \"#C8D4E3\", \"startlinecolor\": \"#2a3f5f\"}, \"baxis\": {\"endlinecolor\": \"#2a3f5f\", \"gridcolor\": \"#C8D4E3\", \"linecolor\": \"#C8D4E3\", \"minorgridcolor\": \"#C8D4E3\", \"startlinecolor\": \"#2a3f5f\"}, \"type\": \"carpet\"}], \"choropleth\": [{\"colorbar\": {\"outlinewidth\": 0, \"ticks\": \"\"}, \"type\": \"choropleth\"}], \"contour\": [{\"colorbar\": {\"outlinewidth\": 0, \"ticks\": \"\"}, \"colorscale\": [[0.0, \"#0d0887\"], [0.1111111111111111, \"#46039f\"], [0.2222222222222222, \"#7201a8\"], [0.3333333333333333, \"#9c179e\"], [0.4444444444444444, \"#bd3786\"], [0.5555555555555556, \"#d8576b\"], [0.6666666666666666, \"#ed7953\"], [0.7777777777777778, \"#fb9f3a\"], [0.8888888888888888, \"#fdca26\"], [1.0, \"#f0f921\"]], \"type\": \"contour\"}], \"contourcarpet\": [{\"colorbar\": {\"outlinewidth\": 0, \"ticks\": \"\"}, \"type\": \"contourcarpet\"}], \"heatmap\": [{\"colorbar\": {\"outlinewidth\": 0, \"ticks\": \"\"}, \"colorscale\": [[0.0, \"#0d0887\"], [0.1111111111111111, \"#46039f\"], [0.2222222222222222, \"#7201a8\"], [0.3333333333333333, \"#9c179e\"], [0.4444444444444444, \"#bd3786\"], [0.5555555555555556, \"#d8576b\"], [0.6666666666666666, \"#ed7953\"], [0.7777777777777778, \"#fb9f3a\"], [0.8888888888888888, \"#fdca26\"], [1.0, \"#f0f921\"]], \"type\": \"heatmap\"}], \"heatmapgl\": [{\"colorbar\": {\"outlinewidth\": 0, \"ticks\": \"\"}, \"colorscale\": [[0.0, \"#0d0887\"], [0.1111111111111111, \"#46039f\"], [0.2222222222222222, \"#7201a8\"], [0.3333333333333333, \"#9c179e\"], [0.4444444444444444, \"#bd3786\"], [0.5555555555555556, \"#d8576b\"], [0.6666666666666666, \"#ed7953\"], [0.7777777777777778, \"#fb9f3a\"], [0.8888888888888888, \"#fdca26\"], [1.0, \"#f0f921\"]], \"type\": \"heatmapgl\"}], \"histogram\": [{\"marker\": {\"colorbar\": {\"outlinewidth\": 0, \"ticks\": \"\"}}, \"type\": \"histogram\"}], \"histogram2d\": [{\"colorbar\": {\"outlinewidth\": 0, \"ticks\": \"\"}, \"colorscale\": [[0.0, \"#0d0887\"], [0.1111111111111111, \"#46039f\"], [0.2222222222222222, \"#7201a8\"], [0.3333333333333333, \"#9c179e\"], [0.4444444444444444, \"#bd3786\"], [0.5555555555555556, \"#d8576b\"], [0.6666666666666666, \"#ed7953\"], [0.7777777777777778, \"#fb9f3a\"], [0.8888888888888888, \"#fdca26\"], [1.0, \"#f0f921\"]], \"type\": \"histogram2d\"}], \"histogram2dcontour\": [{\"colorbar\": {\"outlinewidth\": 0, \"ticks\": \"\"}, \"colorscale\": [[0.0, \"#0d0887\"], [0.1111111111111111, \"#46039f\"], [0.2222222222222222, \"#7201a8\"], [0.3333333333333333, \"#9c179e\"], [0.4444444444444444, \"#bd3786\"], [0.5555555555555556, \"#d8576b\"], [0.6666666666666666, \"#ed7953\"], [0.7777777777777778, \"#fb9f3a\"], [0.8888888888888888, \"#fdca26\"], [1.0, \"#f0f921\"]], \"type\": \"histogram2dcontour\"}], \"mesh3d\": [{\"colorbar\": {\"outlinewidth\": 0, \"ticks\": \"\"}, \"type\": \"mesh3d\"}], \"parcoords\": [{\"line\": {\"colorbar\": {\"outlinewidth\": 0, \"ticks\": \"\"}}, \"type\": \"parcoords\"}], \"pie\": [{\"automargin\": true, \"type\": \"pie\"}], \"scatter\": [{\"marker\": {\"colorbar\": {\"outlinewidth\": 0, \"ticks\": \"\"}}, \"type\": \"scatter\"}], \"scatter3d\": [{\"line\": {\"colorbar\": {\"outlinewidth\": 0, \"ticks\": \"\"}}, \"marker\": {\"colorbar\": {\"outlinewidth\": 0, \"ticks\": \"\"}}, \"type\": \"scatter3d\"}], \"scattercarpet\": [{\"marker\": {\"colorbar\": {\"outlinewidth\": 0, \"ticks\": \"\"}}, \"type\": \"scattercarpet\"}], \"scattergeo\": [{\"marker\": {\"colorbar\": {\"outlinewidth\": 0, \"ticks\": \"\"}}, \"type\": \"scattergeo\"}], \"scattergl\": [{\"marker\": {\"colorbar\": {\"outlinewidth\": 0, \"ticks\": \"\"}}, \"type\": \"scattergl\"}], \"scattermapbox\": [{\"marker\": {\"colorbar\": {\"outlinewidth\": 0, \"ticks\": \"\"}}, \"type\": \"scattermapbox\"}], \"scatterpolar\": [{\"marker\": {\"colorbar\": {\"outlinewidth\": 0, \"ticks\": \"\"}}, \"type\": \"scatterpolar\"}], \"scatterpolargl\": [{\"marker\": {\"colorbar\": {\"outlinewidth\": 0, \"ticks\": \"\"}}, \"type\": \"scatterpolargl\"}], \"scatterternary\": [{\"marker\": {\"colorbar\": {\"outlinewidth\": 0, \"ticks\": \"\"}}, \"type\": \"scatterternary\"}], \"surface\": [{\"colorbar\": {\"outlinewidth\": 0, \"ticks\": \"\"}, \"colorscale\": [[0.0, \"#0d0887\"], [0.1111111111111111, \"#46039f\"], [0.2222222222222222, \"#7201a8\"], [0.3333333333333333, \"#9c179e\"], [0.4444444444444444, \"#bd3786\"], [0.5555555555555556, \"#d8576b\"], [0.6666666666666666, \"#ed7953\"], [0.7777777777777778, \"#fb9f3a\"], [0.8888888888888888, \"#fdca26\"], [1.0, \"#f0f921\"]], \"type\": \"surface\"}], \"table\": [{\"cells\": {\"fill\": {\"color\": \"#EBF0F8\"}, \"line\": {\"color\": \"white\"}}, \"header\": {\"fill\": {\"color\": \"#C8D4E3\"}, \"line\": {\"color\": \"white\"}}, \"type\": \"table\"}]}, \"layout\": {\"annotationdefaults\": {\"arrowcolor\": \"#2a3f5f\", \"arrowhead\": 0, \"arrowwidth\": 1}, \"coloraxis\": {\"colorbar\": {\"outlinewidth\": 0, \"ticks\": \"\"}}, \"colorscale\": {\"diverging\": [[0, \"#8e0152\"], [0.1, \"#c51b7d\"], [0.2, \"#de77ae\"], [0.3, \"#f1b6da\"], [0.4, \"#fde0ef\"], [0.5, \"#f7f7f7\"], [0.6, \"#e6f5d0\"], [0.7, \"#b8e186\"], [0.8, \"#7fbc41\"], [0.9, \"#4d9221\"], [1, \"#276419\"]], \"sequential\": [[0.0, \"#0d0887\"], [0.1111111111111111, \"#46039f\"], [0.2222222222222222, \"#7201a8\"], [0.3333333333333333, \"#9c179e\"], [0.4444444444444444, \"#bd3786\"], [0.5555555555555556, \"#d8576b\"], [0.6666666666666666, \"#ed7953\"], [0.7777777777777778, \"#fb9f3a\"], [0.8888888888888888, \"#fdca26\"], [1.0, \"#f0f921\"]], \"sequentialminus\": [[0.0, \"#0d0887\"], [0.1111111111111111, \"#46039f\"], [0.2222222222222222, \"#7201a8\"], [0.3333333333333333, \"#9c179e\"], [0.4444444444444444, \"#bd3786\"], [0.5555555555555556, \"#d8576b\"], [0.6666666666666666, \"#ed7953\"], [0.7777777777777778, \"#fb9f3a\"], [0.8888888888888888, \"#fdca26\"], [1.0, \"#f0f921\"]]}, \"colorway\": [\"#636efa\", \"#EF553B\", \"#00cc96\", \"#ab63fa\", \"#FFA15A\", \"#19d3f3\", \"#FF6692\", \"#B6E880\", \"#FF97FF\", \"#FECB52\"], \"font\": {\"color\": \"#2a3f5f\"}, \"geo\": {\"bgcolor\": \"white\", \"lakecolor\": \"white\", \"landcolor\": \"white\", \"showlakes\": true, \"showland\": true, \"subunitcolor\": \"#C8D4E3\"}, \"hoverlabel\": {\"align\": \"left\"}, \"hovermode\": \"closest\", \"mapbox\": {\"style\": \"light\"}, \"paper_bgcolor\": \"white\", \"plot_bgcolor\": \"white\", \"polar\": {\"angularaxis\": {\"gridcolor\": \"#EBF0F8\", \"linecolor\": \"#EBF0F8\", \"ticks\": \"\"}, \"bgcolor\": \"white\", \"radialaxis\": {\"gridcolor\": \"#EBF0F8\", \"linecolor\": \"#EBF0F8\", \"ticks\": \"\"}}, \"scene\": {\"xaxis\": {\"backgroundcolor\": \"white\", \"gridcolor\": \"#DFE8F3\", \"gridwidth\": 2, \"linecolor\": \"#EBF0F8\", \"showbackground\": true, \"ticks\": \"\", \"zerolinecolor\": \"#EBF0F8\"}, \"yaxis\": {\"backgroundcolor\": \"white\", \"gridcolor\": \"#DFE8F3\", \"gridwidth\": 2, \"linecolor\": \"#EBF0F8\", \"showbackground\": true, \"ticks\": \"\", \"zerolinecolor\": \"#EBF0F8\"}, \"zaxis\": {\"backgroundcolor\": \"white\", \"gridcolor\": \"#DFE8F3\", \"gridwidth\": 2, \"linecolor\": \"#EBF0F8\", \"showbackground\": true, \"ticks\": \"\", \"zerolinecolor\": \"#EBF0F8\"}}, \"shapedefaults\": {\"line\": {\"color\": \"#2a3f5f\"}}, \"ternary\": {\"aaxis\": {\"gridcolor\": \"#DFE8F3\", \"linecolor\": \"#A2B1C6\", \"ticks\": \"\"}, \"baxis\": {\"gridcolor\": \"#DFE8F3\", \"linecolor\": \"#A2B1C6\", \"ticks\": \"\"}, \"bgcolor\": \"white\", \"caxis\": {\"gridcolor\": \"#DFE8F3\", \"linecolor\": \"#A2B1C6\", \"ticks\": \"\"}}, \"title\": {\"x\": 0.05}, \"xaxis\": {\"automargin\": true, \"gridcolor\": \"#EBF0F8\", \"linecolor\": \"#EBF0F8\", \"ticks\": \"\", \"title\": {\"standoff\": 15}, \"zerolinecolor\": \"#EBF0F8\", \"zerolinewidth\": 2}, \"yaxis\": {\"automargin\": true, \"gridcolor\": \"#EBF0F8\", \"linecolor\": \"#EBF0F8\", \"ticks\": \"\", \"title\": {\"standoff\": 15}, \"zerolinecolor\": \"#EBF0F8\", \"zerolinewidth\": 2}}}, \"title\": {\"text\": \"Driver Inputs for Veh1\"}, \"width\": 800, \"xaxis\": {\"anchor\": \"y\", \"domain\": [0.0, 0.94], \"linecolor\": \"black\", \"linewidth\": 1, \"showgrid\": false, \"showline\": true, \"tickcolor\": \"black\", \"ticklen\": 10, \"ticks\": \"outside\", \"tickwidth\": 1, \"title\": {\"text\": \"Time (s)\"}, \"zeroline\": false}, \"yaxis\": {\"anchor\": \"x\", \"autorange\": \"reversed\", \"domain\": [0.0, 1.0], \"linecolor\": \"black\", \"linewidth\": 1, \"showgrid\": false, \"showline\": true, \"tickcolor\": \"black\", \"ticklen\": 10, \"ticks\": \"outside\", \"tickwidth\": 1, \"title\": {\"text\": \"Brake | Throttle (%)\"}, \"zeroline\": false}, \"yaxis2\": {\"anchor\": \"x\", \"autorange\": \"reversed\", \"linecolor\": \"black\", \"linewidth\": 1, \"overlaying\": \"y\", \"showgrid\": false, \"showline\": true, \"side\": \"right\", \"tickcolor\": \"black\", \"ticklen\": 10, \"ticks\": \"outside\", \"tickwidth\": 1, \"title\": {\"text\": \"Steer Angle (deg)\"}, \"zeroline\": false}},\n",
       "                        {\"responsive\": true}\n",
       "                    ).then(function(){\n",
       "                            \n",
       "var gd = document.getElementById('fab92df4-7da1-45b0-b3e6-6d1832d35b5e');\n",
       "var x = new MutationObserver(function (mutations, observer) {{\n",
       "        var display = window.getComputedStyle(gd).display;\n",
       "        if (!display || display === 'none') {{\n",
       "            console.log([gd, 'removed!']);\n",
       "            Plotly.purge(gd);\n",
       "            observer.disconnect();\n",
       "        }}\n",
       "}});\n",
       "\n",
       "// Listen for the removal of the full notebook cells\n",
       "var notebookContainer = gd.closest('#notebook-container');\n",
       "if (notebookContainer) {{\n",
       "    x.observe(notebookContainer, {childList: true});\n",
       "}}\n",
       "\n",
       "// Listen for the clearing of the current output cell\n",
       "var outputEl = gd.closest('.output');\n",
       "if (outputEl) {{\n",
       "    x.observe(outputEl, {childList: true});\n",
       "}}\n",
       "\n",
       "                        })\n",
       "                };\n",
       "                });\n",
       "            </script>\n",
       "        </div>"
      ]
     },
     "metadata": {},
     "output_type": "display_data"
    }
   ],
   "source": [
    "# %% Change driver inputs\n",
    "time = [0, 2.5, 5]\n",
    "throttle = [0, 0, 0]\n",
    "brake = [0, .5, .5]\n",
    "steer = [0, 0, 0]\n",
    "\n",
    "veh1.time_inputs(time, throttle, brake, steer)"
   ]
  },
  {
   "cell_type": "code",
   "execution_count": 49,
   "metadata": {},
   "outputs": [
    {
     "name": "stdout",
     "output_type": "stream",
     "text": [
      "Driver input for Veh1 of shape = (51, 4)\n",
      "Vehicle simulation will run for 5.0 s\n",
      "lf_latf = -0.0 at t = 0.0\n",
      "lf_vy = 0.0\n",
      "lf_vx = 7.333349999999999\n",
      "lf delta = 0.0\n",
      "lf_alpha (deg) = 0.00\n",
      "lf_latf = -0.0 at t = 0.1\n",
      "lf_vy = 0.0\n",
      "lf_vx = 7.333349999999999\n",
      "lf delta = 0.0\n",
      "lf_alpha (deg) = 0.00\n",
      "lf_latf = -0.0 at t = 0.2\n",
      "lf_vy = 0.0\n",
      "lf_vx = 7.30437\n",
      "lf delta = 0.0\n",
      "lf_alpha (deg) = 0.00\n",
      "lf_latf = -0.0 at t = 0.3\n",
      "lf_vy = 0.0\n",
      "lf_vx = 7.217429999999999\n",
      "lf delta = 0.0\n",
      "lf_alpha (deg) = 0.00\n",
      "lf_latf = -0.0 at t = 0.4\n",
      "lf_vy = 0.0\n",
      "lf_vx = 7.0725299999999995\n",
      "lf delta = 0.0\n",
      "lf_alpha (deg) = 0.00\n",
      "lf_latf = -0.0 at t = 0.5\n",
      "lf_vy = 0.0\n",
      "lf_vx = 6.869669999999999\n",
      "lf delta = 0.0\n",
      "lf_alpha (deg) = 0.00\n",
      "lf_latf = -0.0 at t = 0.6\n",
      "lf_vy = 0.0\n",
      "lf_vx = 6.6088499999999994\n",
      "lf delta = 0.0\n",
      "lf_alpha (deg) = 0.00\n",
      "lf_latf = -0.0 at t = 0.7\n",
      "lf_vy = 0.0\n",
      "lf_vx = 6.290069999999999\n",
      "lf delta = 0.0\n",
      "lf_alpha (deg) = 0.00\n",
      "lf_latf = -0.0 at t = 0.8\n",
      "lf_vy = 0.0\n",
      "lf_vx = 5.913329999999999\n",
      "lf delta = 0.0\n",
      "lf_alpha (deg) = 0.00\n",
      "lf_latf = -0.0 at t = 0.9\n",
      "lf_vy = 0.0\n",
      "lf_vx = 5.478629999999999\n",
      "lf delta = 0.0\n",
      "lf_alpha (deg) = 0.00\n",
      "lf_latf = -0.0 at t = 1.0\n",
      "lf_vy = 0.0\n",
      "lf_vx = 4.985969999999999\n",
      "lf delta = 0.0\n",
      "lf_alpha (deg) = 0.00\n",
      "lf_latf = -0.0 at t = 1.1\n",
      "lf_vy = 0.0\n",
      "lf_vx = 4.435349999999999\n",
      "lf delta = 0.0\n",
      "lf_alpha (deg) = 0.00\n",
      "lf_latf = -0.0 at t = 1.2\n",
      "lf_vy = 0.0\n",
      "lf_vx = 3.826769999999999\n",
      "lf delta = 0.0\n",
      "lf_alpha (deg) = 0.00\n",
      "lf_latf = -0.0 at t = 1.3\n",
      "lf_vy = 0.0\n",
      "lf_vx = 3.160229999999999\n",
      "lf delta = 0.0\n",
      "lf_alpha (deg) = 0.00\n",
      "lf_latf = -0.0 at t = 1.4\n",
      "lf_vy = 0.0\n",
      "lf_vx = 2.4357299999999986\n",
      "lf delta = 0.0\n",
      "lf_alpha (deg) = 0.00\n",
      "lf_latf = -0.0 at t = 1.5\n",
      "lf_vy = 0.0\n",
      "lf_vx = 1.6532699999999982\n",
      "lf delta = 0.0\n",
      "lf_alpha (deg) = 0.00\n",
      "lf_latf = -0.0 at t = 1.6\n",
      "lf_vy = 0.0\n",
      "lf_vx = 0.8128499999999979\n",
      "lf delta = 0.0\n",
      "lf_alpha (deg) = 0.00\n",
      "lf_latf = -9.895965545836933e-14 at t = 1.7\n",
      "lf_vy = 0.0\n",
      "lf_vx = -0.08553000000000244\n",
      "lf delta = 0.0\n",
      "lf_alpha (deg) = 180.00\n",
      "lf_latf = 9.823392794924787e-13 at t = 1.8\n",
      "lf_vy = -7.407765603505415e-17\n",
      "lf_vx = -0.05655000000000241\n",
      "lf delta = 0.0\n",
      "lf_alpha (deg) = -180.00\n",
      "lf_latf = -7.067812555930043e-13 at t = 1.9\n",
      "lf_vy = 1.0168402752956283e-15\n",
      "lf_vx = 0.9577499999999979\n",
      "lf delta = 0.0\n",
      "lf_alpha (deg) = 0.00\n",
      "lf_latf = -1.3999976290756077e-12 at t = 2.0\n",
      "lf_vy = 1.6277701928615982e-15\n",
      "lf_vx = 0.9287699999999978\n",
      "lf delta = 0.0\n",
      "lf_alpha (deg) = 0.00\n",
      "lf_latf = 4.5023855375091176e-13 at t = 2.1\n",
      "lf_vy = -9.097122218985327e-17\n",
      "lf_vx = -0.20145000000000285\n",
      "lf delta = 0.0\n",
      "lf_alpha (deg) = -180.00\n",
      "lf_latf = -6.283939309354981e-12 at t = 2.2\n",
      "lf_vy = 1.6879240181505334e-15\n",
      "lf_vx = -0.17247000000000373\n",
      "lf delta = 0.0\n",
      "lf_alpha (deg) = 180.00\n",
      "lf_latf = -7.308150725341262e-12 at t = 2.3\n",
      "lf_vy = 1.25654653020046e-14\n",
      "lf_vx = 1.0736699999999921\n",
      "lf delta = 0.0\n",
      "lf_alpha (deg) = 0.00\n",
      "lf_latf = -1.8910109309548848e-11 at t = 2.4\n",
      "lf_vy = 2.535951470555427e-14\n",
      "lf_vx = 1.0446899999999844\n",
      "lf delta = 0.0\n",
      "lf_alpha (deg) = 0.00\n",
      "lf_latf = -7.317340607609579e-11 at t = 2.5\n",
      "lf_vy = 2.9995256733117514e-14\n",
      "lf_vx = -0.31737000000002724\n",
      "lf delta = 0.0\n",
      "lf_alpha (deg) = 180.00\n",
      "lf_latf = -1.249706827626201e-10 at t = 2.6\n",
      "lf_vy = 6.01816707302076e-14\n",
      "lf_vx = -0.28839000000006776\n",
      "lf delta = 0.0\n",
      "lf_alpha (deg) = 180.00\n",
      "lf_latf = -2.15021036340075e-10 at t = 2.7\n",
      "lf_vy = 4.170440571698922e-13\n",
      "lf_vx = 1.1606099999997876\n",
      "lf delta = 0.0\n",
      "lf_alpha (deg) = 0.00\n",
      "lf_latf = -6.301315160682176e-10 at t = 2.8\n",
      "lf_vy = 9.42284974025233e-13\n",
      "lf_vx = 1.1606099999995436\n",
      "lf delta = 0.0\n",
      "lf_alpha (deg) = 0.00\n",
      "lf_latf = -2.8767239889904812e-09 at t = 2.9\n",
      "lf_vy = 1.0688820005604754e-12\n",
      "lf_vx = -0.2883900000008185\n",
      "lf delta = 0.0\n",
      "lf_alpha (deg) = 180.00\n",
      "lf_latf = -3.912285062362817e-09 at t = 3.0\n",
      "lf_vy = 1.885495064593822e-12\n",
      "lf_vx = -0.2883900000023016\n",
      "lf delta = 0.0\n",
      "lf_alpha (deg) = 180.00\n",
      "lf_latf = -7.473143743335956e-09 at t = 3.1\n",
      "lf_vy = 1.4494536160469203e-11\n",
      "lf_vx = 1.1606099999926547\n",
      "lf delta = 0.0\n",
      "lf_alpha (deg) = 0.00\n",
      "lf_latf = -2.2185415374060407e-08 at t = 3.2\n",
      "lf_vy = 3.3175587978137366e-11\n",
      "lf_vx = 1.1606099999842399\n",
      "lf delta = 0.0\n",
      "lf_alpha (deg) = 0.00\n",
      "lf_latf = -1.0053596721324274e-07 at t = 3.3\n",
      "lf_vy = 3.7356505134583e-11\n",
      "lf_vx = -0.2883900000284088\n",
      "lf delta = 0.0\n",
      "lf_alpha (deg) = 180.00\n",
      "lf_latf = -1.3523844756312398e-07 at t = 3.4\n",
      "lf_vy = 6.517710952620648e-11\n",
      "lf_vx = -0.2883900000801642\n",
      "lf delta = 0.0\n",
      "lf_alpha (deg) = 180.00\n",
      "lf_latf = -2.6032039419988865e-07 at t = 3.5\n",
      "lf_vy = 5.049044277567452e-10\n",
      "lf_vx = 1.1606099997442731\n",
      "lf delta = 0.0\n",
      "lf_alpha (deg) = 0.00\n",
      "lf_latf = -7.732943878686426e-07 at t = 3.6\n",
      "lf_vy = 1.1563676203258206e-09\n",
      "lf_vx = 1.160609999451369\n",
      "lf delta = 0.0\n",
      "lf_alpha (deg) = 0.00\n",
      "lf_latf = -3.501741943015431e-06 at t = 3.7\n",
      "lf_vy = 1.3011552052677926e-09\n",
      "lf_vx = -0.28839000098924894\n",
      "lf delta = 0.0\n",
      "lf_alpha (deg) = 180.00\n",
      "lf_latf = -4.707391625716295e-06 at t = 3.8\n",
      "lf_vy = 2.2686903036579375e-09\n",
      "lf_vx = -0.28839000279184485\n",
      "lf delta = 0.0\n",
      "lf_alpha (deg) = 180.00\n",
      "lf_latf = -9.065906529438249e-06 at t = 3.9\n",
      "lf_vy = 1.7583778973006337e-08\n",
      "lf_vx = 1.1606099910944652\n",
      "lf delta = 0.0\n",
      "lf_alpha (deg) = 0.00\n",
      "lf_latf = -2.6931551466106358e-05 at t = 4.0\n",
      "lf_vy = 4.0272855856261195e-08\n",
      "lf_vx = 1.1606099808944\n",
      "lf delta = 0.0\n",
      "lf_alpha (deg) = 0.00\n",
      "lf_latf = -0.00012194899943923488 at t = 4.1\n",
      "lf_vy = 4.531304478557043e-08\n",
      "lf_vx = -0.2883900344504116\n",
      "lf delta = 0.0\n",
      "lf_alpha (deg) = 180.00\n",
      "lf_latf = -0.0001639294250198042 at t = 4.2\n",
      "lf_vy = 7.900451567078294e-08\n",
      "lf_vx = -0.28839009722615566\n",
      "lf delta = 0.0\n",
      "lf_alpha (deg) = 180.00\n",
      "lf_latf = -0.0003157203386609365 at t = 4.3\n",
      "lf_vy = 6.123550342052676e-07\n",
      "lf_vx = 1.1606096898657006\n",
      "lf delta = 0.0\n",
      "lf_alpha (deg) = 0.00\n",
      "lf_latf = -0.0009378935196415268 at t = 4.4\n",
      "lf_vy = 1.4025045140806532e-06\n",
      "lf_vx = 1.1606093346498927\n",
      "lf delta = 0.0\n",
      "lf_alpha (deg) = 0.00\n",
      "lf_latf = -0.0042468498312565545 at t = 4.5\n",
      "lf_vy = 1.5780240245737794e-06\n",
      "lf_vx = -0.28839119973275607\n",
      "lf delta = 0.0\n",
      "lf_alpha (deg) = 180.00\n",
      "lf_latf = -0.005708762480235488 at t = 4.6\n",
      "lf_vy = 2.7513205268629677e-06\n",
      "lf_vx = -0.2883933858941727\n",
      "lf delta = 0.0\n",
      "lf_alpha (deg) = 180.00\n",
      "lf_latf = -0.010995154269894086 at t = 4.7\n",
      "lf_vy = 2.1325218022157148e-05\n",
      "lf_vx = 1.1605991995974594\n",
      "lf delta = 0.0\n",
      "lf_alpha (deg) = 0.00\n",
      "lf_latf = -0.03266291861427255 at t = 4.8\n",
      "lf_vy = 4.884211940946852e-05\n",
      "lf_vx = 1.1605868292250552\n",
      "lf delta = 0.0\n",
      "lf_alpha (deg) = 0.00\n",
      "lf_latf = -0.14787601604279957 at t = 4.9\n",
      "lf_vy = 5.49545616480285e-05\n",
      "lf_vx = -0.28843178066614683\n",
      "lf delta = 0.0\n",
      "lf_alpha (deg) = 179.99\n",
      "lf_latf = -0.1987398863994117 at t = 5.0\n",
      "lf_vy = 9.581445075075438e-05\n",
      "lf_vx = -0.2885079136967624\n",
      "lf delta = 0.0\n",
      "lf_alpha (deg) = 179.98\n"
     ]
    },
    {
     "data": {
      "application/vnd.plotly.v1+json": {
       "config": {
        "plotlyServerURL": "https://plot.ly"
       },
       "data": [
        {
         "line": {
          "color": "rgb(0, 255, 0)",
          "width": 2
         },
         "mode": "lines",
         "name": "x",
         "type": "scatter",
         "x": [
          0,
          0.1,
          0.2,
          0.3,
          0.4,
          0.5,
          0.6,
          0.7,
          0.8,
          0.9,
          1,
          1.1,
          1.2,
          1.3,
          1.4,
          1.5,
          1.6,
          1.7,
          1.8,
          1.9,
          2,
          2.1,
          2.2,
          2.3,
          2.4,
          2.5,
          2.6,
          2.7,
          2.8,
          2.9,
          3,
          3.1,
          3.2,
          3.3,
          3.4,
          3.5,
          3.6,
          3.7,
          3.8,
          3.9,
          4,
          4.1,
          4.2,
          4.3,
          4.4,
          4.5,
          4.6,
          4.7,
          4.8,
          4.9,
          5
         ],
         "xaxis": "x",
         "y": [
          5,
          5,
          4.980240953997832,
          4.940722861993495,
          4.861686677984823,
          4.743132401971813,
          4.585060033954468,
          4.387469573932787,
          4.150361021906768,
          3.8737343778764144,
          3.5575896418417234,
          3.201926813802696,
          2.8067458937593326,
          2.3720468817116327,
          1.8978297776595963,
          1.3840945816032235,
          0.8308412935425146,
          0.238069913477469,
          0.27758800548180534,
          0.31710609748614166,
          0.27758800548180534,
          0.23806991347746886,
          0.27758800548180523,
          0.3171060974861415,
          0.2775880054818051,
          0.23806991347746875,
          0.2775880054818052,
          0.29734705148397345,
          0.29734705148397345,
          0.29734705148397356,
          0.29734705148397356,
          0.2973470514839736,
          0.29734705148397367,
          0.2973470514839738,
          0.2973470514839738,
          0.2973470514839738,
          0.2973470514839738,
          0.2973470514839738,
          0.29734705148397383,
          0.2973470514839739,
          0.297347051483974,
          0.297347051483974,
          0.2973470514839743,
          0.297347051483979,
          0.29734705148398927,
          0.29734705148401197,
          0.2973470514843507,
          0.297347051490182,
          0.29734705150255136,
          0.2973470515301369,
          0.29734705194085925
         ],
         "yaxis": "y"
        },
        {
         "line": {
          "color": "rgb(0, 0, 255)",
          "width": 2
         },
         "mode": "lines",
         "name": "y",
         "type": "scatter",
         "x": [
          0,
          0.1,
          0.2,
          0.3,
          0.4,
          0.5,
          0.6,
          0.7,
          0.8,
          0.9,
          1,
          1.1,
          1.2,
          1.3,
          1.4,
          1.5,
          1.6,
          1.7,
          1.8,
          1.9,
          2,
          2.1,
          2.2,
          2.3,
          2.4,
          2.5,
          2.6,
          2.7,
          2.8,
          2.9,
          3,
          3.1,
          3.2,
          3.3,
          3.4,
          3.5,
          3.6,
          3.7,
          3.8,
          3.9,
          4,
          4.1,
          4.2,
          4.3,
          4.4,
          4.5,
          4.6,
          4.7,
          4.8,
          4.9,
          5
         ],
         "xaxis": "x",
         "y": [
          0,
          0,
          0,
          0,
          0,
          0,
          0,
          0,
          0,
          0,
          0,
          0,
          0,
          0,
          0,
          0,
          0,
          0,
          -3.1157410714014456e-17,
          6.357361330431766e-16,
          3.986926436661977e-16,
          5.478524508697663e-16,
          2.799065490700537e-15,
          1.1566503425023976e-14,
          2.1412964569208862e-14,
          3.808368128410811e-14,
          9.950658610110596e-14,
          4.393365559731222e-13,
          7.629672606475181e-13,
          1.2862339760948567e-12,
          3.4133711975079168e-12,
          1.5330819964324203e-11,
          2.6607218198034334e-11,
          4.483792191502178e-11,
          1.1876821556926007e-10,
          5.341458964165433e-10,
          9.266423068797784e-10,
          1.5616288182327522e-09,
          4.1359328923499515e-09,
          1.860215209470616e-08,
          3.227041339536703e-08,
          5.4383952809635215e-08,
          1.4403323153572141e-07,
          6.478197068567939e-07,
          1.1238149837777062e-06,
          1.8939175926741445e-06,
          5.015945123950605e-06,
          2.2560272055600745e-05,
          3.9136767575573556e-05,
          6.595552972610607e-05,
          0.00017467983729021718
         ],
         "yaxis": "y"
        },
        {
         "line": {
          "color": "rgb(0, 0, 0)",
          "width": 2
         },
         "mode": "lines",
         "name": "Resultant",
         "type": "scatter",
         "x": [
          0,
          0.1,
          0.2,
          0.3,
          0.4,
          0.5,
          0.6,
          0.7,
          0.8,
          0.9,
          1,
          1.1,
          1.2,
          1.3,
          1.4,
          1.5,
          1.6,
          1.7,
          1.8,
          1.9,
          2,
          2.1,
          2.2,
          2.3,
          2.4,
          2.5,
          2.6,
          2.7,
          2.8,
          2.9,
          3,
          3.1,
          3.2,
          3.3,
          3.4,
          3.5,
          3.6,
          3.7,
          3.8,
          3.9,
          4,
          4.1,
          4.2,
          4.3,
          4.4,
          4.5,
          4.6,
          4.7,
          4.8,
          4.9,
          5
         ],
         "xaxis": "x",
         "y": [
          5,
          5,
          4.980240953997832,
          4.940722861993495,
          4.861686677984823,
          4.743132401971813,
          4.585060033954468,
          4.387469573932787,
          4.150361021906768,
          3.8737343778764144,
          3.5575896418417234,
          3.201926813802696,
          2.8067458937593326,
          2.3720468817116327,
          1.8978297776595963,
          1.3840945816032235,
          0.8308412935425146,
          0.238069913477469,
          0.27758800548180534,
          0.31710609748614166,
          0.27758800548180534,
          0.23806991347746886,
          0.27758800548180523,
          0.3171060974861415,
          0.2775880054818051,
          0.23806991347746875,
          0.2775880054818052,
          0.29734705148397345,
          0.29734705148397345,
          0.29734705148397356,
          0.29734705148397356,
          0.2973470514839736,
          0.29734705148397367,
          0.2973470514839738,
          0.2973470514839738,
          0.2973470514839738,
          0.2973470514839738,
          0.2973470514839738,
          0.2973470514839739,
          0.2973470514839745,
          0.2973470514839758,
          0.29734705148397894,
          0.2973470514840092,
          0.2973470514846847,
          0.29734705148611296,
          0.29734705149004353,
          0.2973470515266577,
          0.29734705234602676,
          0.29734705407813866,
          0.2973470588450436,
          0.2973471032496628
         ],
         "yaxis": "y"
        },
        {
         "line": {
          "color": "rgb(0, 255, 0)",
          "width": 2
         },
         "mode": "lines",
         "name": "Ax",
         "showlegend": false,
         "type": "scatter",
         "x": [
          0,
          0.1,
          0.2,
          0.3,
          0.4,
          0.5,
          0.6,
          0.7,
          0.8,
          0.9,
          1,
          1.1,
          1.2,
          1.3,
          1.4,
          1.5,
          1.6,
          1.7,
          1.8,
          1.9,
          2,
          2.1,
          2.2,
          2.3,
          2.4,
          2.5,
          2.6,
          2.7,
          2.8,
          2.9,
          3,
          3.1,
          3.2,
          3.3,
          3.4,
          3.5,
          3.6,
          3.7,
          3.8,
          3.9,
          4,
          4.1,
          4.2,
          4.3,
          4.4,
          4.5,
          4.6,
          4.7,
          4.8,
          4.9,
          5
         ],
         "xaxis": "x2",
         "y": [
          0,
          0,
          0,
          -0.018000000000000002,
          -0.036000000000000004,
          -0.054,
          -0.07200000000000001,
          -0.09000000000000002,
          -0.108,
          -0.12600000000000003,
          -0.14400000000000002,
          -0.162,
          -0.18,
          -0.19799999999999998,
          -0.216,
          -0.23399999999999999,
          -0.25200000000000006,
          -0.2700000000000001,
          -0.28800000000000003,
          0.30600000000000005,
          0.32399999999999995,
          -0.342,
          -0.3600000000000001,
          0.378,
          0.39599999999999996,
          -0.41400000000000003,
          -0.432,
          0.45000000000000007,
          0.45000000000000007,
          -0.45000000000000007,
          -0.45,
          0.45000000000000007,
          0.45000000000000007,
          -0.45,
          -0.45,
          0.45,
          0.45,
          -0.45,
          -0.45,
          0.45000000000000007,
          0.45000000000000007,
          -0.45,
          -0.4500000000000001,
          0.4500000000000005,
          0.4500000000000079,
          -0.44999999999999524,
          -0.45000000000000673,
          0.45000000000057144,
          0.4500000000096502,
          -0.44999999999419665,
          -0.4500000000081866
         ],
         "yaxis": "y2"
        },
        {
         "line": {
          "color": "rgb(0, 0, 255)",
          "width": 2
         },
         "mode": "lines",
         "name": "Ay",
         "showlegend": false,
         "type": "scatter",
         "x": [
          0,
          0.1,
          0.2,
          0.3,
          0.4,
          0.5,
          0.6,
          0.7,
          0.8,
          0.9,
          1,
          1.1,
          1.2,
          1.3,
          1.4,
          1.5,
          1.6,
          1.7,
          1.8,
          1.9,
          2,
          2.1,
          2.2,
          2.3,
          2.4,
          2.5,
          2.6,
          2.7,
          2.8,
          2.9,
          3,
          3.1,
          3.2,
          3.3,
          3.4,
          3.5,
          3.6,
          3.7,
          3.8,
          3.9,
          4,
          4.1,
          4.2,
          4.3,
          4.4,
          4.5,
          4.6,
          4.7,
          4.8,
          4.9,
          5
         ],
         "xaxis": "x2",
         "y": [
          0,
          0,
          0,
          0,
          0,
          0,
          0,
          0,
          0,
          0,
          0,
          0,
          0,
          0,
          0,
          0,
          0,
          0,
          8.41691754854124e-20,
          -2.807450030046822e-17,
          6.073005839293528e-16,
          -1.8643595656835975e-16,
          -4.638628686642168e-16,
          2.197650323271376e-15,
          8.392949661940604e-15,
          7.142295743576206e-15,
          7.308821587176157e-15,
          4.675694160296019e-14,
          3.0003348159060987e-13,
          2.6168518686116465e-13,
          1.9567630441139666e-13,
          1.6040959541603187e-12,
          1.0583519077143295e-11,
          9.141669648176438e-12,
          6.687346805982198e-12,
          5.569928914768086e-11,
          3.6902028713118485e-10,
          3.183330382868307e-10,
          2.3253198836273543e-10,
          1.93946210306558e-09,
          1.2852118747704578e-08,
          1.10858171985182e-08,
          8.097062479062267e-09,
          6.754111867621746e-08,
          4.475762686768939e-07,
          3.860624196297896e-07,
          2.8197763293568027e-07,
          2.352113025297189e-06,
          1.5586812626482353e-05,
          1.344459211924675e-05,
          9.81984393119026e-06
         ],
         "yaxis": "y2"
        },
        {
         "line": {
          "color": "rgb(0, 0, 0)",
          "width": 2
         },
         "mode": "lines",
         "name": "Ar",
         "showlegend": false,
         "type": "scatter",
         "x": [
          0,
          0.1,
          0.2,
          0.3,
          0.4,
          0.5,
          0.6,
          0.7,
          0.8,
          0.9,
          1,
          1.1,
          1.2,
          1.3,
          1.4,
          1.5,
          1.6,
          1.7,
          1.8,
          1.9,
          2,
          2.1,
          2.2,
          2.3,
          2.4,
          2.5,
          2.6,
          2.7,
          2.8,
          2.9,
          3,
          3.1,
          3.2,
          3.3,
          3.4,
          3.5,
          3.6,
          3.7,
          3.8,
          3.9,
          4,
          4.1,
          4.2,
          4.3,
          4.4,
          4.5,
          4.6,
          4.7,
          4.8,
          4.9,
          5
         ],
         "xaxis": "x2",
         "y": [
          0,
          0,
          0,
          0.018000000000000002,
          0.036000000000000004,
          0.054,
          0.07200000000000001,
          0.09000000000000002,
          0.108,
          0.12600000000000003,
          0.14400000000000002,
          0.162,
          0.18,
          0.19799999999999998,
          0.216,
          0.23399999999999999,
          0.25200000000000006,
          0.2700000000000001,
          0.28800000000000003,
          0.30600000000000005,
          0.32399999999999995,
          0.342,
          0.3600000000000001,
          0.378,
          0.39599999999999996,
          0.41400000000000003,
          0.432,
          0.45000000000000007,
          0.45000000000000007,
          0.45000000000000007,
          0.45,
          0.45000000000000007,
          0.45000000000000007,
          0.45,
          0.45,
          0.45,
          0.45,
          0.45,
          0.45,
          0.45000000000000007,
          0.45000000000000023,
          0.4500000000000001,
          0.4500000000000002,
          0.4500000000000056,
          0.4500000000002305,
          0.4500000000001608,
          0.4500000000000951,
          0.4500000000067186,
          0.4500000002795932,
          0.45000000019503783,
          0.4500000001153303
         ],
         "yaxis": "y2"
        }
       ],
       "layout": {
        "autosize": false,
        "font": {
         "color": "black",
         "family": "Arial",
         "size": 14
        },
        "height": 500,
        "legend": {
         "orientation": "h",
         "x": 0.01,
         "xanchor": "left",
         "y": 1.1,
         "yanchor": "top"
        },
        "template": {
         "data": {
          "bar": [
           {
            "error_x": {
             "color": "#2a3f5f"
            },
            "error_y": {
             "color": "#2a3f5f"
            },
            "marker": {
             "line": {
              "color": "white",
              "width": 0.5
             }
            },
            "type": "bar"
           }
          ],
          "barpolar": [
           {
            "marker": {
             "line": {
              "color": "white",
              "width": 0.5
             }
            },
            "type": "barpolar"
           }
          ],
          "carpet": [
           {
            "aaxis": {
             "endlinecolor": "#2a3f5f",
             "gridcolor": "#C8D4E3",
             "linecolor": "#C8D4E3",
             "minorgridcolor": "#C8D4E3",
             "startlinecolor": "#2a3f5f"
            },
            "baxis": {
             "endlinecolor": "#2a3f5f",
             "gridcolor": "#C8D4E3",
             "linecolor": "#C8D4E3",
             "minorgridcolor": "#C8D4E3",
             "startlinecolor": "#2a3f5f"
            },
            "type": "carpet"
           }
          ],
          "choropleth": [
           {
            "colorbar": {
             "outlinewidth": 0,
             "ticks": ""
            },
            "type": "choropleth"
           }
          ],
          "contour": [
           {
            "colorbar": {
             "outlinewidth": 0,
             "ticks": ""
            },
            "colorscale": [
             [
              0,
              "#0d0887"
             ],
             [
              0.1111111111111111,
              "#46039f"
             ],
             [
              0.2222222222222222,
              "#7201a8"
             ],
             [
              0.3333333333333333,
              "#9c179e"
             ],
             [
              0.4444444444444444,
              "#bd3786"
             ],
             [
              0.5555555555555556,
              "#d8576b"
             ],
             [
              0.6666666666666666,
              "#ed7953"
             ],
             [
              0.7777777777777778,
              "#fb9f3a"
             ],
             [
              0.8888888888888888,
              "#fdca26"
             ],
             [
              1,
              "#f0f921"
             ]
            ],
            "type": "contour"
           }
          ],
          "contourcarpet": [
           {
            "colorbar": {
             "outlinewidth": 0,
             "ticks": ""
            },
            "type": "contourcarpet"
           }
          ],
          "heatmap": [
           {
            "colorbar": {
             "outlinewidth": 0,
             "ticks": ""
            },
            "colorscale": [
             [
              0,
              "#0d0887"
             ],
             [
              0.1111111111111111,
              "#46039f"
             ],
             [
              0.2222222222222222,
              "#7201a8"
             ],
             [
              0.3333333333333333,
              "#9c179e"
             ],
             [
              0.4444444444444444,
              "#bd3786"
             ],
             [
              0.5555555555555556,
              "#d8576b"
             ],
             [
              0.6666666666666666,
              "#ed7953"
             ],
             [
              0.7777777777777778,
              "#fb9f3a"
             ],
             [
              0.8888888888888888,
              "#fdca26"
             ],
             [
              1,
              "#f0f921"
             ]
            ],
            "type": "heatmap"
           }
          ],
          "heatmapgl": [
           {
            "colorbar": {
             "outlinewidth": 0,
             "ticks": ""
            },
            "colorscale": [
             [
              0,
              "#0d0887"
             ],
             [
              0.1111111111111111,
              "#46039f"
             ],
             [
              0.2222222222222222,
              "#7201a8"
             ],
             [
              0.3333333333333333,
              "#9c179e"
             ],
             [
              0.4444444444444444,
              "#bd3786"
             ],
             [
              0.5555555555555556,
              "#d8576b"
             ],
             [
              0.6666666666666666,
              "#ed7953"
             ],
             [
              0.7777777777777778,
              "#fb9f3a"
             ],
             [
              0.8888888888888888,
              "#fdca26"
             ],
             [
              1,
              "#f0f921"
             ]
            ],
            "type": "heatmapgl"
           }
          ],
          "histogram": [
           {
            "marker": {
             "colorbar": {
              "outlinewidth": 0,
              "ticks": ""
             }
            },
            "type": "histogram"
           }
          ],
          "histogram2d": [
           {
            "colorbar": {
             "outlinewidth": 0,
             "ticks": ""
            },
            "colorscale": [
             [
              0,
              "#0d0887"
             ],
             [
              0.1111111111111111,
              "#46039f"
             ],
             [
              0.2222222222222222,
              "#7201a8"
             ],
             [
              0.3333333333333333,
              "#9c179e"
             ],
             [
              0.4444444444444444,
              "#bd3786"
             ],
             [
              0.5555555555555556,
              "#d8576b"
             ],
             [
              0.6666666666666666,
              "#ed7953"
             ],
             [
              0.7777777777777778,
              "#fb9f3a"
             ],
             [
              0.8888888888888888,
              "#fdca26"
             ],
             [
              1,
              "#f0f921"
             ]
            ],
            "type": "histogram2d"
           }
          ],
          "histogram2dcontour": [
           {
            "colorbar": {
             "outlinewidth": 0,
             "ticks": ""
            },
            "colorscale": [
             [
              0,
              "#0d0887"
             ],
             [
              0.1111111111111111,
              "#46039f"
             ],
             [
              0.2222222222222222,
              "#7201a8"
             ],
             [
              0.3333333333333333,
              "#9c179e"
             ],
             [
              0.4444444444444444,
              "#bd3786"
             ],
             [
              0.5555555555555556,
              "#d8576b"
             ],
             [
              0.6666666666666666,
              "#ed7953"
             ],
             [
              0.7777777777777778,
              "#fb9f3a"
             ],
             [
              0.8888888888888888,
              "#fdca26"
             ],
             [
              1,
              "#f0f921"
             ]
            ],
            "type": "histogram2dcontour"
           }
          ],
          "mesh3d": [
           {
            "colorbar": {
             "outlinewidth": 0,
             "ticks": ""
            },
            "type": "mesh3d"
           }
          ],
          "parcoords": [
           {
            "line": {
             "colorbar": {
              "outlinewidth": 0,
              "ticks": ""
             }
            },
            "type": "parcoords"
           }
          ],
          "pie": [
           {
            "automargin": true,
            "type": "pie"
           }
          ],
          "scatter": [
           {
            "marker": {
             "colorbar": {
              "outlinewidth": 0,
              "ticks": ""
             }
            },
            "type": "scatter"
           }
          ],
          "scatter3d": [
           {
            "line": {
             "colorbar": {
              "outlinewidth": 0,
              "ticks": ""
             }
            },
            "marker": {
             "colorbar": {
              "outlinewidth": 0,
              "ticks": ""
             }
            },
            "type": "scatter3d"
           }
          ],
          "scattercarpet": [
           {
            "marker": {
             "colorbar": {
              "outlinewidth": 0,
              "ticks": ""
             }
            },
            "type": "scattercarpet"
           }
          ],
          "scattergeo": [
           {
            "marker": {
             "colorbar": {
              "outlinewidth": 0,
              "ticks": ""
             }
            },
            "type": "scattergeo"
           }
          ],
          "scattergl": [
           {
            "marker": {
             "colorbar": {
              "outlinewidth": 0,
              "ticks": ""
             }
            },
            "type": "scattergl"
           }
          ],
          "scattermapbox": [
           {
            "marker": {
             "colorbar": {
              "outlinewidth": 0,
              "ticks": ""
             }
            },
            "type": "scattermapbox"
           }
          ],
          "scatterpolar": [
           {
            "marker": {
             "colorbar": {
              "outlinewidth": 0,
              "ticks": ""
             }
            },
            "type": "scatterpolar"
           }
          ],
          "scatterpolargl": [
           {
            "marker": {
             "colorbar": {
              "outlinewidth": 0,
              "ticks": ""
             }
            },
            "type": "scatterpolargl"
           }
          ],
          "scatterternary": [
           {
            "marker": {
             "colorbar": {
              "outlinewidth": 0,
              "ticks": ""
             }
            },
            "type": "scatterternary"
           }
          ],
          "surface": [
           {
            "colorbar": {
             "outlinewidth": 0,
             "ticks": ""
            },
            "colorscale": [
             [
              0,
              "#0d0887"
             ],
             [
              0.1111111111111111,
              "#46039f"
             ],
             [
              0.2222222222222222,
              "#7201a8"
             ],
             [
              0.3333333333333333,
              "#9c179e"
             ],
             [
              0.4444444444444444,
              "#bd3786"
             ],
             [
              0.5555555555555556,
              "#d8576b"
             ],
             [
              0.6666666666666666,
              "#ed7953"
             ],
             [
              0.7777777777777778,
              "#fb9f3a"
             ],
             [
              0.8888888888888888,
              "#fdca26"
             ],
             [
              1,
              "#f0f921"
             ]
            ],
            "type": "surface"
           }
          ],
          "table": [
           {
            "cells": {
             "fill": {
              "color": "#EBF0F8"
             },
             "line": {
              "color": "white"
             }
            },
            "header": {
             "fill": {
              "color": "#C8D4E3"
             },
             "line": {
              "color": "white"
             }
            },
            "type": "table"
           }
          ]
         },
         "layout": {
          "annotationdefaults": {
           "arrowcolor": "#2a3f5f",
           "arrowhead": 0,
           "arrowwidth": 1
          },
          "coloraxis": {
           "colorbar": {
            "outlinewidth": 0,
            "ticks": ""
           }
          },
          "colorscale": {
           "diverging": [
            [
             0,
             "#8e0152"
            ],
            [
             0.1,
             "#c51b7d"
            ],
            [
             0.2,
             "#de77ae"
            ],
            [
             0.3,
             "#f1b6da"
            ],
            [
             0.4,
             "#fde0ef"
            ],
            [
             0.5,
             "#f7f7f7"
            ],
            [
             0.6,
             "#e6f5d0"
            ],
            [
             0.7,
             "#b8e186"
            ],
            [
             0.8,
             "#7fbc41"
            ],
            [
             0.9,
             "#4d9221"
            ],
            [
             1,
             "#276419"
            ]
           ],
           "sequential": [
            [
             0,
             "#0d0887"
            ],
            [
             0.1111111111111111,
             "#46039f"
            ],
            [
             0.2222222222222222,
             "#7201a8"
            ],
            [
             0.3333333333333333,
             "#9c179e"
            ],
            [
             0.4444444444444444,
             "#bd3786"
            ],
            [
             0.5555555555555556,
             "#d8576b"
            ],
            [
             0.6666666666666666,
             "#ed7953"
            ],
            [
             0.7777777777777778,
             "#fb9f3a"
            ],
            [
             0.8888888888888888,
             "#fdca26"
            ],
            [
             1,
             "#f0f921"
            ]
           ],
           "sequentialminus": [
            [
             0,
             "#0d0887"
            ],
            [
             0.1111111111111111,
             "#46039f"
            ],
            [
             0.2222222222222222,
             "#7201a8"
            ],
            [
             0.3333333333333333,
             "#9c179e"
            ],
            [
             0.4444444444444444,
             "#bd3786"
            ],
            [
             0.5555555555555556,
             "#d8576b"
            ],
            [
             0.6666666666666666,
             "#ed7953"
            ],
            [
             0.7777777777777778,
             "#fb9f3a"
            ],
            [
             0.8888888888888888,
             "#fdca26"
            ],
            [
             1,
             "#f0f921"
            ]
           ]
          },
          "colorway": [
           "#636efa",
           "#EF553B",
           "#00cc96",
           "#ab63fa",
           "#FFA15A",
           "#19d3f3",
           "#FF6692",
           "#B6E880",
           "#FF97FF",
           "#FECB52"
          ],
          "font": {
           "color": "#2a3f5f"
          },
          "geo": {
           "bgcolor": "white",
           "lakecolor": "white",
           "landcolor": "white",
           "showlakes": true,
           "showland": true,
           "subunitcolor": "#C8D4E3"
          },
          "hoverlabel": {
           "align": "left"
          },
          "hovermode": "closest",
          "mapbox": {
           "style": "light"
          },
          "paper_bgcolor": "white",
          "plot_bgcolor": "white",
          "polar": {
           "angularaxis": {
            "gridcolor": "#EBF0F8",
            "linecolor": "#EBF0F8",
            "ticks": ""
           },
           "bgcolor": "white",
           "radialaxis": {
            "gridcolor": "#EBF0F8",
            "linecolor": "#EBF0F8",
            "ticks": ""
           }
          },
          "scene": {
           "xaxis": {
            "backgroundcolor": "white",
            "gridcolor": "#DFE8F3",
            "gridwidth": 2,
            "linecolor": "#EBF0F8",
            "showbackground": true,
            "ticks": "",
            "zerolinecolor": "#EBF0F8"
           },
           "yaxis": {
            "backgroundcolor": "white",
            "gridcolor": "#DFE8F3",
            "gridwidth": 2,
            "linecolor": "#EBF0F8",
            "showbackground": true,
            "ticks": "",
            "zerolinecolor": "#EBF0F8"
           },
           "zaxis": {
            "backgroundcolor": "white",
            "gridcolor": "#DFE8F3",
            "gridwidth": 2,
            "linecolor": "#EBF0F8",
            "showbackground": true,
            "ticks": "",
            "zerolinecolor": "#EBF0F8"
           }
          },
          "shapedefaults": {
           "line": {
            "color": "#2a3f5f"
           }
          },
          "ternary": {
           "aaxis": {
            "gridcolor": "#DFE8F3",
            "linecolor": "#A2B1C6",
            "ticks": ""
           },
           "baxis": {
            "gridcolor": "#DFE8F3",
            "linecolor": "#A2B1C6",
            "ticks": ""
           },
           "bgcolor": "white",
           "caxis": {
            "gridcolor": "#DFE8F3",
            "linecolor": "#A2B1C6",
            "ticks": ""
           }
          },
          "title": {
           "x": 0.05
          },
          "xaxis": {
           "automargin": true,
           "gridcolor": "#EBF0F8",
           "linecolor": "#EBF0F8",
           "ticks": "",
           "title": {
            "standoff": 15
           },
           "zerolinecolor": "#EBF0F8",
           "zerolinewidth": 2
          },
          "yaxis": {
           "automargin": true,
           "gridcolor": "#EBF0F8",
           "linecolor": "#EBF0F8",
           "ticks": "",
           "title": {
            "standoff": 15
           },
           "zerolinecolor": "#EBF0F8",
           "zerolinewidth": 2
          }
         }
        },
        "title": {
         "text": "Veh1 - Velocity | Acceleration"
        },
        "width": 900,
        "xaxis": {
         "anchor": "y",
         "domain": [
          0,
          1
         ],
         "linecolor": "black",
         "linewidth": 1,
         "matches": "x2",
         "showgrid": false,
         "showline": true,
         "showticklabels": false,
         "tickcolor": "black",
         "ticklen": 10,
         "ticks": "outside",
         "tickwidth": 1,
         "title": {
          "text": ""
         },
         "zeroline": false
        },
        "xaxis2": {
         "anchor": "y2",
         "domain": [
          0,
          1
         ],
         "linecolor": "black",
         "linewidth": 1,
         "showgrid": false,
         "showline": true,
         "tickcolor": "black",
         "ticklen": 10,
         "ticks": "outside",
         "tickwidth": 1,
         "title": {
          "text": "Time (s)"
         },
         "zeroline": false
        },
        "yaxis": {
         "anchor": "x",
         "domain": [
          0.525,
          1
         ],
         "linecolor": "black",
         "linewidth": 1,
         "showgrid": false,
         "showline": true,
         "tickcolor": "black",
         "ticklen": 10,
         "ticks": "outside",
         "tickwidth": 1,
         "title": {
          "text": "Velocity (mph)"
         },
         "zeroline": false
        },
        "yaxis2": {
         "anchor": "x2",
         "domain": [
          0,
          0.475
         ],
         "linecolor": "black",
         "linewidth": 1,
         "showgrid": false,
         "showline": true,
         "tickcolor": "black",
         "ticklen": 10,
         "ticks": "outside",
         "tickwidth": 1,
         "title": {
          "text": "Acceleration (g)"
         },
         "zeroline": false
        }
       }
      },
      "text/html": [
       "<div>\n",
       "        \n",
       "        \n",
       "            <div id=\"011ec3df-50b4-4aaf-b65c-7bdd6e507aea\" class=\"plotly-graph-div\" style=\"height:500px; width:900px;\"></div>\n",
       "            <script type=\"text/javascript\">\n",
       "                require([\"plotly\"], function(Plotly) {\n",
       "                    window.PLOTLYENV=window.PLOTLYENV || {};\n",
       "                    \n",
       "                if (document.getElementById(\"011ec3df-50b4-4aaf-b65c-7bdd6e507aea\")) {\n",
       "                    Plotly.newPlot(\n",
       "                        '011ec3df-50b4-4aaf-b65c-7bdd6e507aea',\n",
       "                        [{\"line\": {\"color\": \"rgb(0, 255, 0)\", \"width\": 2}, \"mode\": \"lines\", \"name\": \"x\", \"type\": \"scatter\", \"x\": [0.0, 0.1, 0.2, 0.3, 0.4, 0.5, 0.6, 0.7, 0.8, 0.9, 1.0, 1.1, 1.2, 1.3, 1.4, 1.5, 1.6, 1.7, 1.8, 1.9, 2.0, 2.1, 2.2, 2.3, 2.4, 2.5, 2.6, 2.7, 2.8, 2.9, 3.0, 3.1, 3.2, 3.3, 3.4, 3.5, 3.6, 3.7, 3.8, 3.9, 4.0, 4.1, 4.2, 4.3, 4.4, 4.5, 4.6, 4.7, 4.8, 4.9, 5.0], \"xaxis\": \"x\", \"y\": [5.0, 5.0, 4.980240953997832, 4.940722861993495, 4.861686677984823, 4.743132401971813, 4.585060033954468, 4.387469573932787, 4.150361021906768, 3.8737343778764144, 3.5575896418417234, 3.201926813802696, 2.8067458937593326, 2.3720468817116327, 1.8978297776595963, 1.3840945816032235, 0.8308412935425146, 0.238069913477469, 0.27758800548180534, 0.31710609748614166, 0.27758800548180534, 0.23806991347746886, 0.27758800548180523, 0.3171060974861415, 0.2775880054818051, 0.23806991347746875, 0.2775880054818052, 0.29734705148397345, 0.29734705148397345, 0.29734705148397356, 0.29734705148397356, 0.2973470514839736, 0.29734705148397367, 0.2973470514839738, 0.2973470514839738, 0.2973470514839738, 0.2973470514839738, 0.2973470514839738, 0.29734705148397383, 0.2973470514839739, 0.297347051483974, 0.297347051483974, 0.2973470514839743, 0.297347051483979, 0.29734705148398927, 0.29734705148401197, 0.2973470514843507, 0.297347051490182, 0.29734705150255136, 0.2973470515301369, 0.29734705194085925], \"yaxis\": \"y\"}, {\"line\": {\"color\": \"rgb(0, 0, 255)\", \"width\": 2}, \"mode\": \"lines\", \"name\": \"y\", \"type\": \"scatter\", \"x\": [0.0, 0.1, 0.2, 0.3, 0.4, 0.5, 0.6, 0.7, 0.8, 0.9, 1.0, 1.1, 1.2, 1.3, 1.4, 1.5, 1.6, 1.7, 1.8, 1.9, 2.0, 2.1, 2.2, 2.3, 2.4, 2.5, 2.6, 2.7, 2.8, 2.9, 3.0, 3.1, 3.2, 3.3, 3.4, 3.5, 3.6, 3.7, 3.8, 3.9, 4.0, 4.1, 4.2, 4.3, 4.4, 4.5, 4.6, 4.7, 4.8, 4.9, 5.0], \"xaxis\": \"x\", \"y\": [0.0, 0.0, 0.0, 0.0, 0.0, 0.0, 0.0, 0.0, 0.0, 0.0, 0.0, 0.0, 0.0, 0.0, 0.0, 0.0, 0.0, 0.0, -3.1157410714014456e-17, 6.357361330431766e-16, 3.986926436661977e-16, 5.478524508697663e-16, 2.799065490700537e-15, 1.1566503425023976e-14, 2.1412964569208862e-14, 3.808368128410811e-14, 9.950658610110596e-14, 4.393365559731222e-13, 7.629672606475181e-13, 1.2862339760948567e-12, 3.4133711975079168e-12, 1.5330819964324203e-11, 2.6607218198034334e-11, 4.483792191502178e-11, 1.1876821556926007e-10, 5.341458964165433e-10, 9.266423068797784e-10, 1.5616288182327522e-09, 4.1359328923499515e-09, 1.860215209470616e-08, 3.227041339536703e-08, 5.4383952809635215e-08, 1.4403323153572141e-07, 6.478197068567939e-07, 1.1238149837777062e-06, 1.8939175926741445e-06, 5.015945123950605e-06, 2.2560272055600745e-05, 3.9136767575573556e-05, 6.595552972610607e-05, 0.00017467983729021718], \"yaxis\": \"y\"}, {\"line\": {\"color\": \"rgb(0, 0, 0)\", \"width\": 2}, \"mode\": \"lines\", \"name\": \"Resultant\", \"type\": \"scatter\", \"x\": [0.0, 0.1, 0.2, 0.3, 0.4, 0.5, 0.6, 0.7, 0.8, 0.9, 1.0, 1.1, 1.2, 1.3, 1.4, 1.5, 1.6, 1.7, 1.8, 1.9, 2.0, 2.1, 2.2, 2.3, 2.4, 2.5, 2.6, 2.7, 2.8, 2.9, 3.0, 3.1, 3.2, 3.3, 3.4, 3.5, 3.6, 3.7, 3.8, 3.9, 4.0, 4.1, 4.2, 4.3, 4.4, 4.5, 4.6, 4.7, 4.8, 4.9, 5.0], \"xaxis\": \"x\", \"y\": [5.0, 5.0, 4.980240953997832, 4.940722861993495, 4.861686677984823, 4.743132401971813, 4.585060033954468, 4.387469573932787, 4.150361021906768, 3.8737343778764144, 3.5575896418417234, 3.201926813802696, 2.8067458937593326, 2.3720468817116327, 1.8978297776595963, 1.3840945816032235, 0.8308412935425146, 0.238069913477469, 0.27758800548180534, 0.31710609748614166, 0.27758800548180534, 0.23806991347746886, 0.27758800548180523, 0.3171060974861415, 0.2775880054818051, 0.23806991347746875, 0.2775880054818052, 0.29734705148397345, 0.29734705148397345, 0.29734705148397356, 0.29734705148397356, 0.2973470514839736, 0.29734705148397367, 0.2973470514839738, 0.2973470514839738, 0.2973470514839738, 0.2973470514839738, 0.2973470514839738, 0.2973470514839739, 0.2973470514839745, 0.2973470514839758, 0.29734705148397894, 0.2973470514840092, 0.2973470514846847, 0.29734705148611296, 0.29734705149004353, 0.2973470515266577, 0.29734705234602676, 0.29734705407813866, 0.2973470588450436, 0.2973471032496628], \"yaxis\": \"y\"}, {\"line\": {\"color\": \"rgb(0, 255, 0)\", \"width\": 2}, \"mode\": \"lines\", \"name\": \"Ax\", \"showlegend\": false, \"type\": \"scatter\", \"x\": [0.0, 0.1, 0.2, 0.3, 0.4, 0.5, 0.6, 0.7, 0.8, 0.9, 1.0, 1.1, 1.2, 1.3, 1.4, 1.5, 1.6, 1.7, 1.8, 1.9, 2.0, 2.1, 2.2, 2.3, 2.4, 2.5, 2.6, 2.7, 2.8, 2.9, 3.0, 3.1, 3.2, 3.3, 3.4, 3.5, 3.6, 3.7, 3.8, 3.9, 4.0, 4.1, 4.2, 4.3, 4.4, 4.5, 4.6, 4.7, 4.8, 4.9, 5.0], \"xaxis\": \"x2\", \"y\": [0.0, 0.0, 0.0, -0.018000000000000002, -0.036000000000000004, -0.054, -0.07200000000000001, -0.09000000000000002, -0.108, -0.12600000000000003, -0.14400000000000002, -0.162, -0.18, -0.19799999999999998, -0.216, -0.23399999999999999, -0.25200000000000006, -0.2700000000000001, -0.28800000000000003, 0.30600000000000005, 0.32399999999999995, -0.342, -0.3600000000000001, 0.378, 0.39599999999999996, -0.41400000000000003, -0.432, 0.45000000000000007, 0.45000000000000007, -0.45000000000000007, -0.45, 0.45000000000000007, 0.45000000000000007, -0.45, -0.45, 0.45, 0.45, -0.45, -0.45, 0.45000000000000007, 0.45000000000000007, -0.45, -0.4500000000000001, 0.4500000000000005, 0.4500000000000079, -0.44999999999999524, -0.45000000000000673, 0.45000000000057144, 0.4500000000096502, -0.44999999999419665, -0.4500000000081866], \"yaxis\": \"y2\"}, {\"line\": {\"color\": \"rgb(0, 0, 255)\", \"width\": 2}, \"mode\": \"lines\", \"name\": \"Ay\", \"showlegend\": false, \"type\": \"scatter\", \"x\": [0.0, 0.1, 0.2, 0.3, 0.4, 0.5, 0.6, 0.7, 0.8, 0.9, 1.0, 1.1, 1.2, 1.3, 1.4, 1.5, 1.6, 1.7, 1.8, 1.9, 2.0, 2.1, 2.2, 2.3, 2.4, 2.5, 2.6, 2.7, 2.8, 2.9, 3.0, 3.1, 3.2, 3.3, 3.4, 3.5, 3.6, 3.7, 3.8, 3.9, 4.0, 4.1, 4.2, 4.3, 4.4, 4.5, 4.6, 4.7, 4.8, 4.9, 5.0], \"xaxis\": \"x2\", \"y\": [0.0, 0.0, 0.0, 0.0, 0.0, 0.0, 0.0, 0.0, 0.0, 0.0, 0.0, 0.0, 0.0, 0.0, 0.0, 0.0, 0.0, 0.0, 8.41691754854124e-20, -2.807450030046822e-17, 6.073005839293528e-16, -1.8643595656835975e-16, -4.638628686642168e-16, 2.197650323271376e-15, 8.392949661940604e-15, 7.142295743576206e-15, 7.308821587176157e-15, 4.675694160296019e-14, 3.0003348159060987e-13, 2.6168518686116465e-13, 1.9567630441139666e-13, 1.6040959541603187e-12, 1.0583519077143295e-11, 9.141669648176438e-12, 6.687346805982198e-12, 5.569928914768086e-11, 3.6902028713118485e-10, 3.183330382868307e-10, 2.3253198836273543e-10, 1.93946210306558e-09, 1.2852118747704578e-08, 1.10858171985182e-08, 8.097062479062267e-09, 6.754111867621746e-08, 4.475762686768939e-07, 3.860624196297896e-07, 2.8197763293568027e-07, 2.352113025297189e-06, 1.5586812626482353e-05, 1.344459211924675e-05, 9.81984393119026e-06], \"yaxis\": \"y2\"}, {\"line\": {\"color\": \"rgb(0, 0, 0)\", \"width\": 2}, \"mode\": \"lines\", \"name\": \"Ar\", \"showlegend\": false, \"type\": \"scatter\", \"x\": [0.0, 0.1, 0.2, 0.3, 0.4, 0.5, 0.6, 0.7, 0.8, 0.9, 1.0, 1.1, 1.2, 1.3, 1.4, 1.5, 1.6, 1.7, 1.8, 1.9, 2.0, 2.1, 2.2, 2.3, 2.4, 2.5, 2.6, 2.7, 2.8, 2.9, 3.0, 3.1, 3.2, 3.3, 3.4, 3.5, 3.6, 3.7, 3.8, 3.9, 4.0, 4.1, 4.2, 4.3, 4.4, 4.5, 4.6, 4.7, 4.8, 4.9, 5.0], \"xaxis\": \"x2\", \"y\": [0.0, 0.0, 0.0, 0.018000000000000002, 0.036000000000000004, 0.054, 0.07200000000000001, 0.09000000000000002, 0.108, 0.12600000000000003, 0.14400000000000002, 0.162, 0.18, 0.19799999999999998, 0.216, 0.23399999999999999, 0.25200000000000006, 0.2700000000000001, 0.28800000000000003, 0.30600000000000005, 0.32399999999999995, 0.342, 0.3600000000000001, 0.378, 0.39599999999999996, 0.41400000000000003, 0.432, 0.45000000000000007, 0.45000000000000007, 0.45000000000000007, 0.45, 0.45000000000000007, 0.45000000000000007, 0.45, 0.45, 0.45, 0.45, 0.45, 0.45, 0.45000000000000007, 0.45000000000000023, 0.4500000000000001, 0.4500000000000002, 0.4500000000000056, 0.4500000000002305, 0.4500000000001608, 0.4500000000000951, 0.4500000000067186, 0.4500000002795932, 0.45000000019503783, 0.4500000001153303], \"yaxis\": \"y2\"}],\n",
       "                        {\"autosize\": false, \"font\": {\"color\": \"black\", \"family\": \"Arial\", \"size\": 14}, \"height\": 500, \"legend\": {\"orientation\": \"h\", \"x\": 0.01, \"xanchor\": \"left\", \"y\": 1.1, \"yanchor\": \"top\"}, \"template\": {\"data\": {\"bar\": [{\"error_x\": {\"color\": \"#2a3f5f\"}, \"error_y\": {\"color\": \"#2a3f5f\"}, \"marker\": {\"line\": {\"color\": \"white\", \"width\": 0.5}}, \"type\": \"bar\"}], \"barpolar\": [{\"marker\": {\"line\": {\"color\": \"white\", \"width\": 0.5}}, \"type\": \"barpolar\"}], \"carpet\": [{\"aaxis\": {\"endlinecolor\": \"#2a3f5f\", \"gridcolor\": \"#C8D4E3\", \"linecolor\": \"#C8D4E3\", \"minorgridcolor\": \"#C8D4E3\", \"startlinecolor\": \"#2a3f5f\"}, \"baxis\": {\"endlinecolor\": \"#2a3f5f\", \"gridcolor\": \"#C8D4E3\", \"linecolor\": \"#C8D4E3\", \"minorgridcolor\": \"#C8D4E3\", \"startlinecolor\": \"#2a3f5f\"}, \"type\": \"carpet\"}], \"choropleth\": [{\"colorbar\": {\"outlinewidth\": 0, \"ticks\": \"\"}, \"type\": \"choropleth\"}], \"contour\": [{\"colorbar\": {\"outlinewidth\": 0, \"ticks\": \"\"}, \"colorscale\": [[0.0, \"#0d0887\"], [0.1111111111111111, \"#46039f\"], [0.2222222222222222, \"#7201a8\"], [0.3333333333333333, \"#9c179e\"], [0.4444444444444444, \"#bd3786\"], [0.5555555555555556, \"#d8576b\"], [0.6666666666666666, \"#ed7953\"], [0.7777777777777778, \"#fb9f3a\"], [0.8888888888888888, \"#fdca26\"], [1.0, \"#f0f921\"]], \"type\": \"contour\"}], \"contourcarpet\": [{\"colorbar\": {\"outlinewidth\": 0, \"ticks\": \"\"}, \"type\": \"contourcarpet\"}], \"heatmap\": [{\"colorbar\": {\"outlinewidth\": 0, \"ticks\": \"\"}, \"colorscale\": [[0.0, \"#0d0887\"], [0.1111111111111111, \"#46039f\"], [0.2222222222222222, \"#7201a8\"], [0.3333333333333333, \"#9c179e\"], [0.4444444444444444, \"#bd3786\"], [0.5555555555555556, \"#d8576b\"], [0.6666666666666666, \"#ed7953\"], [0.7777777777777778, \"#fb9f3a\"], [0.8888888888888888, \"#fdca26\"], [1.0, \"#f0f921\"]], \"type\": \"heatmap\"}], \"heatmapgl\": [{\"colorbar\": {\"outlinewidth\": 0, \"ticks\": \"\"}, \"colorscale\": [[0.0, \"#0d0887\"], [0.1111111111111111, \"#46039f\"], [0.2222222222222222, \"#7201a8\"], [0.3333333333333333, \"#9c179e\"], [0.4444444444444444, \"#bd3786\"], [0.5555555555555556, \"#d8576b\"], [0.6666666666666666, \"#ed7953\"], [0.7777777777777778, \"#fb9f3a\"], [0.8888888888888888, \"#fdca26\"], [1.0, \"#f0f921\"]], \"type\": \"heatmapgl\"}], \"histogram\": [{\"marker\": {\"colorbar\": {\"outlinewidth\": 0, \"ticks\": \"\"}}, \"type\": \"histogram\"}], \"histogram2d\": [{\"colorbar\": {\"outlinewidth\": 0, \"ticks\": \"\"}, \"colorscale\": [[0.0, \"#0d0887\"], [0.1111111111111111, \"#46039f\"], [0.2222222222222222, \"#7201a8\"], [0.3333333333333333, \"#9c179e\"], [0.4444444444444444, \"#bd3786\"], [0.5555555555555556, \"#d8576b\"], [0.6666666666666666, \"#ed7953\"], [0.7777777777777778, \"#fb9f3a\"], [0.8888888888888888, \"#fdca26\"], [1.0, \"#f0f921\"]], \"type\": \"histogram2d\"}], \"histogram2dcontour\": [{\"colorbar\": {\"outlinewidth\": 0, \"ticks\": \"\"}, \"colorscale\": [[0.0, \"#0d0887\"], [0.1111111111111111, \"#46039f\"], [0.2222222222222222, \"#7201a8\"], [0.3333333333333333, \"#9c179e\"], [0.4444444444444444, \"#bd3786\"], [0.5555555555555556, \"#d8576b\"], [0.6666666666666666, \"#ed7953\"], [0.7777777777777778, \"#fb9f3a\"], [0.8888888888888888, \"#fdca26\"], [1.0, \"#f0f921\"]], \"type\": \"histogram2dcontour\"}], \"mesh3d\": [{\"colorbar\": {\"outlinewidth\": 0, \"ticks\": \"\"}, \"type\": \"mesh3d\"}], \"parcoords\": [{\"line\": {\"colorbar\": {\"outlinewidth\": 0, \"ticks\": \"\"}}, \"type\": \"parcoords\"}], \"pie\": [{\"automargin\": true, \"type\": \"pie\"}], \"scatter\": [{\"marker\": {\"colorbar\": {\"outlinewidth\": 0, \"ticks\": \"\"}}, \"type\": \"scatter\"}], \"scatter3d\": [{\"line\": {\"colorbar\": {\"outlinewidth\": 0, \"ticks\": \"\"}}, \"marker\": {\"colorbar\": {\"outlinewidth\": 0, \"ticks\": \"\"}}, \"type\": \"scatter3d\"}], \"scattercarpet\": [{\"marker\": {\"colorbar\": {\"outlinewidth\": 0, \"ticks\": \"\"}}, \"type\": \"scattercarpet\"}], \"scattergeo\": [{\"marker\": {\"colorbar\": {\"outlinewidth\": 0, \"ticks\": \"\"}}, \"type\": \"scattergeo\"}], \"scattergl\": [{\"marker\": {\"colorbar\": {\"outlinewidth\": 0, \"ticks\": \"\"}}, \"type\": \"scattergl\"}], \"scattermapbox\": [{\"marker\": {\"colorbar\": {\"outlinewidth\": 0, \"ticks\": \"\"}}, \"type\": \"scattermapbox\"}], \"scatterpolar\": [{\"marker\": {\"colorbar\": {\"outlinewidth\": 0, \"ticks\": \"\"}}, \"type\": \"scatterpolar\"}], \"scatterpolargl\": [{\"marker\": {\"colorbar\": {\"outlinewidth\": 0, \"ticks\": \"\"}}, \"type\": \"scatterpolargl\"}], \"scatterternary\": [{\"marker\": {\"colorbar\": {\"outlinewidth\": 0, \"ticks\": \"\"}}, \"type\": \"scatterternary\"}], \"surface\": [{\"colorbar\": {\"outlinewidth\": 0, \"ticks\": \"\"}, \"colorscale\": [[0.0, \"#0d0887\"], [0.1111111111111111, \"#46039f\"], [0.2222222222222222, \"#7201a8\"], [0.3333333333333333, \"#9c179e\"], [0.4444444444444444, \"#bd3786\"], [0.5555555555555556, \"#d8576b\"], [0.6666666666666666, \"#ed7953\"], [0.7777777777777778, \"#fb9f3a\"], [0.8888888888888888, \"#fdca26\"], [1.0, \"#f0f921\"]], \"type\": \"surface\"}], \"table\": [{\"cells\": {\"fill\": {\"color\": \"#EBF0F8\"}, \"line\": {\"color\": \"white\"}}, \"header\": {\"fill\": {\"color\": \"#C8D4E3\"}, \"line\": {\"color\": \"white\"}}, \"type\": \"table\"}]}, \"layout\": {\"annotationdefaults\": {\"arrowcolor\": \"#2a3f5f\", \"arrowhead\": 0, \"arrowwidth\": 1}, \"coloraxis\": {\"colorbar\": {\"outlinewidth\": 0, \"ticks\": \"\"}}, \"colorscale\": {\"diverging\": [[0, \"#8e0152\"], [0.1, \"#c51b7d\"], [0.2, \"#de77ae\"], [0.3, \"#f1b6da\"], [0.4, \"#fde0ef\"], [0.5, \"#f7f7f7\"], [0.6, \"#e6f5d0\"], [0.7, \"#b8e186\"], [0.8, \"#7fbc41\"], [0.9, \"#4d9221\"], [1, \"#276419\"]], \"sequential\": [[0.0, \"#0d0887\"], [0.1111111111111111, \"#46039f\"], [0.2222222222222222, \"#7201a8\"], [0.3333333333333333, \"#9c179e\"], [0.4444444444444444, \"#bd3786\"], [0.5555555555555556, \"#d8576b\"], [0.6666666666666666, \"#ed7953\"], [0.7777777777777778, \"#fb9f3a\"], [0.8888888888888888, \"#fdca26\"], [1.0, \"#f0f921\"]], \"sequentialminus\": [[0.0, \"#0d0887\"], [0.1111111111111111, \"#46039f\"], [0.2222222222222222, \"#7201a8\"], [0.3333333333333333, \"#9c179e\"], [0.4444444444444444, \"#bd3786\"], [0.5555555555555556, \"#d8576b\"], [0.6666666666666666, \"#ed7953\"], [0.7777777777777778, \"#fb9f3a\"], [0.8888888888888888, \"#fdca26\"], [1.0, \"#f0f921\"]]}, \"colorway\": [\"#636efa\", \"#EF553B\", \"#00cc96\", \"#ab63fa\", \"#FFA15A\", \"#19d3f3\", \"#FF6692\", \"#B6E880\", \"#FF97FF\", \"#FECB52\"], \"font\": {\"color\": \"#2a3f5f\"}, \"geo\": {\"bgcolor\": \"white\", \"lakecolor\": \"white\", \"landcolor\": \"white\", \"showlakes\": true, \"showland\": true, \"subunitcolor\": \"#C8D4E3\"}, \"hoverlabel\": {\"align\": \"left\"}, \"hovermode\": \"closest\", \"mapbox\": {\"style\": \"light\"}, \"paper_bgcolor\": \"white\", \"plot_bgcolor\": \"white\", \"polar\": {\"angularaxis\": {\"gridcolor\": \"#EBF0F8\", \"linecolor\": \"#EBF0F8\", \"ticks\": \"\"}, \"bgcolor\": \"white\", \"radialaxis\": {\"gridcolor\": \"#EBF0F8\", \"linecolor\": \"#EBF0F8\", \"ticks\": \"\"}}, \"scene\": {\"xaxis\": {\"backgroundcolor\": \"white\", \"gridcolor\": \"#DFE8F3\", \"gridwidth\": 2, \"linecolor\": \"#EBF0F8\", \"showbackground\": true, \"ticks\": \"\", \"zerolinecolor\": \"#EBF0F8\"}, \"yaxis\": {\"backgroundcolor\": \"white\", \"gridcolor\": \"#DFE8F3\", \"gridwidth\": 2, \"linecolor\": \"#EBF0F8\", \"showbackground\": true, \"ticks\": \"\", \"zerolinecolor\": \"#EBF0F8\"}, \"zaxis\": {\"backgroundcolor\": \"white\", \"gridcolor\": \"#DFE8F3\", \"gridwidth\": 2, \"linecolor\": \"#EBF0F8\", \"showbackground\": true, \"ticks\": \"\", \"zerolinecolor\": \"#EBF0F8\"}}, \"shapedefaults\": {\"line\": {\"color\": \"#2a3f5f\"}}, \"ternary\": {\"aaxis\": {\"gridcolor\": \"#DFE8F3\", \"linecolor\": \"#A2B1C6\", \"ticks\": \"\"}, \"baxis\": {\"gridcolor\": \"#DFE8F3\", \"linecolor\": \"#A2B1C6\", \"ticks\": \"\"}, \"bgcolor\": \"white\", \"caxis\": {\"gridcolor\": \"#DFE8F3\", \"linecolor\": \"#A2B1C6\", \"ticks\": \"\"}}, \"title\": {\"x\": 0.05}, \"xaxis\": {\"automargin\": true, \"gridcolor\": \"#EBF0F8\", \"linecolor\": \"#EBF0F8\", \"ticks\": \"\", \"title\": {\"standoff\": 15}, \"zerolinecolor\": \"#EBF0F8\", \"zerolinewidth\": 2}, \"yaxis\": {\"automargin\": true, \"gridcolor\": \"#EBF0F8\", \"linecolor\": \"#EBF0F8\", \"ticks\": \"\", \"title\": {\"standoff\": 15}, \"zerolinecolor\": \"#EBF0F8\", \"zerolinewidth\": 2}}}, \"title\": {\"text\": \"Veh1 - Velocity | Acceleration\"}, \"width\": 900, \"xaxis\": {\"anchor\": \"y\", \"domain\": [0.0, 1.0], \"linecolor\": \"black\", \"linewidth\": 1, \"matches\": \"x2\", \"showgrid\": false, \"showline\": true, \"showticklabels\": false, \"tickcolor\": \"black\", \"ticklen\": 10, \"ticks\": \"outside\", \"tickwidth\": 1, \"title\": {\"text\": \"\"}, \"zeroline\": false}, \"xaxis2\": {\"anchor\": \"y2\", \"domain\": [0.0, 1.0], \"linecolor\": \"black\", \"linewidth\": 1, \"showgrid\": false, \"showline\": true, \"tickcolor\": \"black\", \"ticklen\": 10, \"ticks\": \"outside\", \"tickwidth\": 1, \"title\": {\"text\": \"Time (s)\"}, \"zeroline\": false}, \"yaxis\": {\"anchor\": \"x\", \"domain\": [0.525, 1.0], \"linecolor\": \"black\", \"linewidth\": 1, \"showgrid\": false, \"showline\": true, \"tickcolor\": \"black\", \"ticklen\": 10, \"ticks\": \"outside\", \"tickwidth\": 1, \"title\": {\"text\": \"Velocity (mph)\"}, \"zeroline\": false}, \"yaxis2\": {\"anchor\": \"x2\", \"domain\": [0.0, 0.475], \"linecolor\": \"black\", \"linewidth\": 1, \"showgrid\": false, \"showline\": true, \"tickcolor\": \"black\", \"ticklen\": 10, \"ticks\": \"outside\", \"tickwidth\": 1, \"title\": {\"text\": \"Acceleration (g)\"}, \"zeroline\": false}},\n",
       "                        {\"responsive\": true}\n",
       "                    ).then(function(){\n",
       "                            \n",
       "var gd = document.getElementById('011ec3df-50b4-4aaf-b65c-7bdd6e507aea');\n",
       "var x = new MutationObserver(function (mutations, observer) {{\n",
       "        var display = window.getComputedStyle(gd).display;\n",
       "        if (!display || display === 'none') {{\n",
       "            console.log([gd, 'removed!']);\n",
       "            Plotly.purge(gd);\n",
       "            observer.disconnect();\n",
       "        }}\n",
       "}});\n",
       "\n",
       "// Listen for the removal of the full notebook cells\n",
       "var notebookContainer = gd.closest('#notebook-container');\n",
       "if (notebookContainer) {{\n",
       "    x.observe(notebookContainer, {childList: true});\n",
       "}}\n",
       "\n",
       "// Listen for the clearing of the current output cell\n",
       "var outputEl = gd.closest('.output');\n",
       "if (outputEl) {{\n",
       "    x.observe(outputEl, {childList: true});\n",
       "}}\n",
       "\n",
       "                        })\n",
       "                };\n",
       "                });\n",
       "            </script>\n",
       "        </div>"
      ]
     },
     "metadata": {},
     "output_type": "display_data"
    },
    {
     "data": {
      "application/vnd.plotly.v1+json": {
       "config": {
        "plotlyServerURL": "https://plot.ly"
       },
       "data": [
        {
         "line": {
          "color": "rgb(0, 0, 255)",
          "width": 2
         },
         "mode": "lines",
         "name": "LF",
         "type": "scatter",
         "x": [
          0,
          0.1,
          0.2,
          0.3,
          0.4,
          0.5,
          0.6,
          0.7,
          0.8,
          0.9,
          1,
          1.1,
          1.2,
          1.3,
          1.4,
          1.5,
          1.6,
          1.7,
          1.8,
          1.9,
          2,
          2.1,
          2.2,
          2.3,
          2.4,
          2.5,
          2.6,
          2.7,
          2.8,
          2.9,
          3,
          3.1,
          3.2,
          3.3,
          3.4,
          3.5,
          3.6,
          3.7,
          3.8,
          3.9,
          4,
          4.1,
          4.2,
          4.3,
          4.4,
          4.5,
          4.6,
          4.7,
          4.8,
          4.9,
          5
         ],
         "xaxis": "x",
         "y": [
          0,
          -15.871621621621625,
          -31.907432432432437,
          -48.10743243243243,
          -64.47162162162162,
          -81.00000000000001,
          -97.69256756756756,
          -114.54932432432436,
          -131.5702702702703,
          -148.7554054054054,
          -166.10472972972974,
          -183.61824324324326,
          -201.29594594594596,
          -219.13783783783785,
          -237.14391891891898,
          -255.31418918918922,
          -273.6486486486487,
          292.14729729729737,
          260.5682432432433,
          -273.48445945945963,
          -348.6283783783784,
          367.78378378378375,
          311.2479729729735,
          -323.50743243243437,
          -426.23513513513666,
          446.0472972972989,
          345.4814189189309,
          -345.48141891899235,
          -448.09966216222006,
          448.09966216220084,
          345.48141891933096,
          -345.4814189215074,
          -448.0996621641841,
          448.0996621634758,
          345.4814189332296,
          -345.48141900917153,
          -448.09966223256936,
          448.0996622078231,
          345.4814194172244,
          -345.4814220622049,
          -448.0996646140638,
          448.09966375209706,
          345.4814362722477,
          -345.4815283841439,
          -448.09974754937843,
          448.0997175310555,
          345.48202324695797,
          -345.4852310377904,
          -448.1026357649693,
          448.10159037836894,
          345.5024645834174
         ],
         "yaxis": "y"
        },
        {
         "line": {
          "color": "rgb(0, 255, 0)",
          "width": 2
         },
         "mode": "lines",
         "name": "RF",
         "type": "scatter",
         "x": [
          0,
          0.1,
          0.2,
          0.3,
          0.4,
          0.5,
          0.6,
          0.7,
          0.8,
          0.9,
          1,
          1.1,
          1.2,
          1.3,
          1.4,
          1.5,
          1.6,
          1.7,
          1.8,
          1.9,
          2,
          2.1,
          2.2,
          2.3,
          2.4,
          2.5,
          2.6,
          2.7,
          2.8,
          2.9,
          3,
          3.1,
          3.2,
          3.3,
          3.4,
          3.5,
          3.6,
          3.7,
          3.8,
          3.9,
          4,
          4.1,
          4.2,
          4.3,
          4.4,
          4.5,
          4.6,
          4.7,
          4.8,
          4.9,
          5
         ],
         "xaxis": "x",
         "y": [
          0,
          -15.871621621621625,
          -31.907432432432437,
          -48.10743243243243,
          -64.47162162162162,
          -81.00000000000001,
          -97.69256756756756,
          -114.54932432432436,
          -131.5702702702703,
          -148.7554054054054,
          -166.10472972972974,
          -183.61824324324326,
          -201.29594594594596,
          -219.13783783783785,
          -237.14391891891898,
          -255.31418918918922,
          -273.6486486486487,
          292.14729729729737,
          260.5682432432433,
          -273.4844594594594,
          -348.62837837837844,
          367.7837837837839,
          311.2479729729725,
          -323.5074324324306,
          -426.2351351351336,
          446.0472972972958,
          345.48141891890697,
          -345.4814189188455,
          -448.0996621621043,
          448.0996621621236,
          345.4814189185069,
          -345.4814189163304,
          -448.09966216014027,
          448.0996621608486,
          345.48141890460823,
          -345.4814188286663,
          -448.099662091755,
          448.0996621165013,
          345.48141842061347,
          -345.4814157756329,
          -448.0996597102606,
          448.0996605722274,
          345.4814015655901,
          -345.4813094536939,
          -448.099576774946,
          448.0996067932689,
          345.48081459087985,
          -345.4776068000474,
          -448.0966885593551,
          448.09773394595544,
          345.46037325442046
         ],
         "yaxis": "y"
        },
        {
         "line": {
          "color": "rgb(153, 0, 204)",
          "width": 2
         },
         "mode": "lines",
         "name": "RR",
         "type": "scatter",
         "x": [
          0,
          0.1,
          0.2,
          0.3,
          0.4,
          0.5,
          0.6,
          0.7,
          0.8,
          0.9,
          1,
          1.1,
          1.2,
          1.3,
          1.4,
          1.5,
          1.6,
          1.7,
          1.8,
          1.9,
          2,
          2.1,
          2.2,
          2.3,
          2.4,
          2.5,
          2.6,
          2.7,
          2.8,
          2.9,
          3,
          3.1,
          3.2,
          3.3,
          3.4,
          3.5,
          3.6,
          3.7,
          3.8,
          3.9,
          4,
          4.1,
          4.2,
          4.3,
          4.4,
          4.5,
          4.6,
          4.7,
          4.8,
          4.9,
          5
         ],
         "xaxis": "x",
         "y": [
          0,
          -11.128378378378379,
          -22.092567567567567,
          -32.89256756756756,
          -43.528378378378385,
          -54.00000000000001,
          -64.30743243243244,
          -74.45067567567568,
          -84.42972972972973,
          -94.2445945945946,
          -103.89527027027027,
          -113.38175675675676,
          -122.70405405405404,
          -131.86216216216218,
          -140.8560810810811,
          -149.6858108108108,
          -158.35135135135135,
          166.85270270270271,
          225.43175675675676,
          -239.51554054054048,
          -191.37162162162167,
          199.21621621621628,
          282.7520270270267,
          -297.49256756756625,
          -221.76486486486377,
          228.95270270270163,
          329.51858108107274,
          -329.51858108102965,
          -226.90033783779725,
          226.90033783781078,
          329.5185810807922,
          -329.5185810792662,
          -226.9003378364202,
          226.9003378369168,
          329.51858107104715,
          -329.5185810178005,
          -226.9003377884719,
          226.90033780582272,
          329.51858073169456,
          -329.51857887716795,
          -226.90033611868844,
          226.90033672305591,
          329.5185689138046,
          -329.5185043296015,
          -226.90027796864024,
          226.9002990159701,
          329.51815735682385,
          -329.5159082161252,
          -226.8982528979386,
          226.89898587015261,
          329.5038249255132
         ],
         "yaxis": "y"
        },
        {
         "line": {
          "color": "rgb(255, 102, 0)",
          "width": 2
         },
         "mode": "lines",
         "name": "LR",
         "type": "scatter",
         "x": [
          0,
          0.1,
          0.2,
          0.3,
          0.4,
          0.5,
          0.6,
          0.7,
          0.8,
          0.9,
          1,
          1.1,
          1.2,
          1.3,
          1.4,
          1.5,
          1.6,
          1.7,
          1.8,
          1.9,
          2,
          2.1,
          2.2,
          2.3,
          2.4,
          2.5,
          2.6,
          2.7,
          2.8,
          2.9,
          3,
          3.1,
          3.2,
          3.3,
          3.4,
          3.5,
          3.6,
          3.7,
          3.8,
          3.9,
          4,
          4.1,
          4.2,
          4.3,
          4.4,
          4.5,
          4.6,
          4.7,
          4.8,
          4.9,
          5
         ],
         "xaxis": "x",
         "y": [
          0,
          -11.128378378378379,
          -22.092567567567567,
          -32.89256756756756,
          -43.528378378378385,
          -54.00000000000001,
          -64.30743243243244,
          -74.45067567567568,
          -84.42972972972973,
          -94.2445945945946,
          -103.89527027027027,
          -113.38175675675676,
          -122.70405405405404,
          -131.86216216216218,
          -140.8560810810811,
          -149.6858108108108,
          -158.35135135135135,
          166.85270270270271,
          225.43175675675676,
          -239.51554054054063,
          -191.37162162162159,
          199.2162162162161,
          282.75202702702734,
          -297.49256756756887,
          -221.76486486486593,
          228.95270270270376,
          329.5185810810895,
          -329.5185810811326,
          -226.9003378378784,
          226.9003378378649,
          329.51858108137,
          -329.51858108289605,
          -226.90033783925549,
          226.90033783875887,
          329.51858109111504,
          -329.5185811443617,
          -226.9003378872038,
          226.90033786985296,
          329.5185814304677,
          -329.51858328499424,
          -226.90033955698723,
          226.9003389526197,
          329.5185932483576,
          -329.51865783256073,
          -226.90039770703544,
          226.90037665970559,
          329.5190048053384,
          -329.521253946037,
          -226.9024227777371,
          226.90168980552306,
          329.533337236649
         ],
         "yaxis": "y"
        },
        {
         "line": {
          "color": "rgb(0, 0, 255)",
          "width": 2
         },
         "mode": "lines",
         "name": "LF",
         "showlegend": false,
         "type": "scatter",
         "x": [
          0,
          0.1,
          0.2,
          0.3,
          0.4,
          0.5,
          0.6,
          0.7,
          0.8,
          0.9,
          1,
          1.1,
          1.2,
          1.3,
          1.4,
          1.5,
          1.6,
          1.7,
          1.8,
          1.9,
          2,
          2.1,
          2.2,
          2.3,
          2.4,
          2.5,
          2.6,
          2.7,
          2.8,
          2.9,
          3,
          3.1,
          3.2,
          3.3,
          3.4,
          3.5,
          3.6,
          3.7,
          3.8,
          3.9,
          4,
          4.1,
          4.2,
          4.3,
          4.4,
          4.5,
          4.6,
          4.7,
          4.8,
          4.9,
          5
         ],
         "xaxis": "x2",
         "y": [
          0,
          0,
          0,
          0,
          0,
          0,
          0,
          0,
          0,
          0,
          0,
          0,
          0,
          0,
          0,
          0,
          0,
          -9.895965545836933e-14,
          9.823392794924787e-13,
          -7.067812555930043e-13,
          -1.3999976290756077e-12,
          4.5023855375091176e-13,
          -6.283939309354981e-12,
          -7.308150725341262e-12,
          -1.8910109309548848e-11,
          -7.317340607609579e-11,
          -1.249706827626201e-10,
          -2.15021036340075e-10,
          -6.301315160682176e-10,
          -2.8767239889904812e-09,
          -3.912285062362817e-09,
          -7.473143743335956e-09,
          -2.2185415374060407e-08,
          -1.0053596721324274e-07,
          -1.3523844756312398e-07,
          -2.6032039419988865e-07,
          -7.732943878686426e-07,
          -3.501741943015431e-06,
          -4.707391625716295e-06,
          -9.065906529438249e-06,
          -2.6931551466106358e-05,
          -0.00012194899943923488,
          -0.0001639294250198042,
          -0.0003157203386609365,
          -0.0009378935196415268,
          -0.0042468498312565545,
          -0.005708762480235488,
          -0.010995154269894086,
          -0.03266291861427255,
          -0.14787601604279957,
          -0.1987398863994117
         ],
         "yaxis": "y2"
        },
        {
         "line": {
          "color": "rgb(0, 255, 0)",
          "width": 2
         },
         "mode": "lines",
         "name": "RF",
         "showlegend": false,
         "type": "scatter",
         "x": [
          0,
          0.1,
          0.2,
          0.3,
          0.4,
          0.5,
          0.6,
          0.7,
          0.8,
          0.9,
          1,
          1.1,
          1.2,
          1.3,
          1.4,
          1.5,
          1.6,
          1.7,
          1.8,
          1.9,
          2,
          2.1,
          2.2,
          2.3,
          2.4,
          2.5,
          2.6,
          2.7,
          2.8,
          2.9,
          3,
          3.1,
          3.2,
          3.3,
          3.4,
          3.5,
          3.6,
          3.7,
          3.8,
          3.9,
          4,
          4.1,
          4.2,
          4.3,
          4.4,
          4.5,
          4.6,
          4.7,
          4.8,
          4.9,
          5
         ],
         "xaxis": "x2",
         "y": [
          0,
          0,
          0,
          0,
          0,
          0,
          0,
          0,
          0,
          0,
          0,
          0,
          0,
          0,
          0,
          0,
          0,
          -9.895965545836933e-14,
          9.823392794924787e-13,
          -7.067812555930038e-13,
          -1.3999976290756077e-12,
          4.50238553750912e-13,
          -6.283939309354963e-12,
          -7.3081507253411e-12,
          -1.891010930954823e-11,
          -7.317340607609528e-11,
          -1.2497068276261146e-10,
          -2.1502103633990568e-10,
          -6.301315160675617e-10,
          -2.8767239889899853e-09,
          -3.912285062353486e-09,
          -7.4731437431294e-09,
          -2.218541537325774e-08,
          -1.005359672126533e-07,
          -1.352384475519202e-07,
          -2.603203939491615e-07,
          -7.732943868945521e-07,
          -3.501741942301783e-06,
          -4.707391877876023e-06,
          -9.065906225341871e-06,
          -2.6931550284701917e-05,
          -0.00012194902787092626,
          -0.00016392951909912878,
          -0.00031571996985874925,
          -0.0009378920868596857,
          -0.004246884116434134,
          -0.005708876558892649,
          -0.010994706995676042,
          -0.032661180971919446,
          -0.14791759640788704,
          -0.19887823808828622
         ],
         "yaxis": "y2"
        },
        {
         "line": {
          "color": "rgb(153, 0, 204)",
          "width": 2
         },
         "mode": "lines",
         "name": "RR",
         "showlegend": false,
         "type": "scatter",
         "x": [
          0,
          0.1,
          0.2,
          0.3,
          0.4,
          0.5,
          0.6,
          0.7,
          0.8,
          0.9,
          1,
          1.1,
          1.2,
          1.3,
          1.4,
          1.5,
          1.6,
          1.7,
          1.8,
          1.9,
          2,
          2.1,
          2.2,
          2.3,
          2.4,
          2.5,
          2.6,
          2.7,
          2.8,
          2.9,
          3,
          3.1,
          3.2,
          3.3,
          3.4,
          3.5,
          3.6,
          3.7,
          3.8,
          3.9,
          4,
          4.1,
          4.2,
          4.3,
          4.4,
          4.5,
          4.6,
          4.7,
          4.8,
          4.9,
          5
         ],
         "xaxis": "x2",
         "y": [
          0,
          0,
          0,
          0,
          0,
          0,
          0,
          0,
          0,
          0,
          0,
          0,
          0,
          0,
          0,
          0,
          0,
          5.6518359486839355e-14,
          -7.154559298781634e-14,
          4.2640621199534075e-13,
          6.914815341106529e-13,
          2.9201609046741853e-12,
          1.9034683950756404e-11,
          1.7211219099447282e-11,
          2.8460856593135255e-11,
          1.4797844573943726e-10,
          5.827762160930464e-10,
          5.759161841213372e-10,
          8.709148623233769e-10,
          5.446903506365864e-09,
          2.005819519601033e-08,
          2.00848312909414e-08,
          3.037907631447385e-08,
          1.8979945778749657e-07,
          6.981937642670215e-07,
          6.994886082257695e-07,
          1.0581065087127979e-06,
          6.6099460547902585e-06,
          2.431378877439903e-05,
          2.4359759721529483e-05,
          3.6848844617619866e-05,
          0.00023019125951213428,
          0.0008467243096666666,
          0.0008483265806826983,
          0.001283257852960148,
          0.008016424037848042,
          0.029487401834626854,
          0.029542406000598282,
          0.044688087896714974,
          0.27920892790054797,
          1.0272578372214778
         ],
         "yaxis": "y2"
        },
        {
         "line": {
          "color": "rgb(255, 102, 0)",
          "width": 2
         },
         "mode": "lines",
         "name": "LR",
         "showlegend": false,
         "type": "scatter",
         "x": [
          0,
          0.1,
          0.2,
          0.3,
          0.4,
          0.5,
          0.6,
          0.7,
          0.8,
          0.9,
          1,
          1.1,
          1.2,
          1.3,
          1.4,
          1.5,
          1.6,
          1.7,
          1.8,
          1.9,
          2,
          2.1,
          2.2,
          2.3,
          2.4,
          2.5,
          2.6,
          2.7,
          2.8,
          2.9,
          3,
          3.1,
          3.2,
          3.3,
          3.4,
          3.5,
          3.6,
          3.7,
          3.8,
          3.9,
          4,
          4.1,
          4.2,
          4.3,
          4.4,
          4.5,
          4.6,
          4.7,
          4.8,
          4.9,
          5
         ],
         "xaxis": "x2",
         "y": [
          0,
          0,
          0,
          0,
          0,
          0,
          0,
          0,
          0,
          0,
          0,
          0,
          0,
          0,
          0,
          0,
          0,
          5.6518359486839355e-14,
          -7.154559298781634e-14,
          4.2640621199534095e-13,
          6.914815341106528e-13,
          2.920160904674183e-12,
          1.903468395075645e-11,
          1.7211219099447618e-11,
          2.8460856593136257e-11,
          1.479784457394386e-10,
          5.82776216093076e-10,
          5.759161841217257e-10,
          8.709148623243704e-10,
          5.446903506367164e-09,
          2.0058195196045497e-08,
          2.008483129141682e-08,
          3.037907631567842e-08,
          1.897994577890374e-07,
          6.981937643095419e-07,
          6.994886088026747e-07,
          1.0581065101735655e-06,
          6.6099460566555554e-06,
          2.4313788319037007e-05,
          2.435976042121151e-05,
          3.684884638919143e-05,
          0.0002301912067976037,
          0.0008467238014025615,
          0.0008483274292415836,
          0.001283260001476955,
          0.008016360082897755,
          0.029486785272082254,
          0.029543435111780314,
          0.04469069356414324,
          0.2791313650369632,
          1.026510089375447
         ],
         "yaxis": "y2"
        }
       ],
       "layout": {
        "autosize": false,
        "font": {
         "color": "black",
         "family": "Arial",
         "size": 14
        },
        "height": 500,
        "legend": {
         "orientation": "h",
         "x": 0.01,
         "xanchor": "left",
         "y": 1.1,
         "yanchor": "top"
        },
        "template": {
         "data": {
          "bar": [
           {
            "error_x": {
             "color": "#2a3f5f"
            },
            "error_y": {
             "color": "#2a3f5f"
            },
            "marker": {
             "line": {
              "color": "white",
              "width": 0.5
             }
            },
            "type": "bar"
           }
          ],
          "barpolar": [
           {
            "marker": {
             "line": {
              "color": "white",
              "width": 0.5
             }
            },
            "type": "barpolar"
           }
          ],
          "carpet": [
           {
            "aaxis": {
             "endlinecolor": "#2a3f5f",
             "gridcolor": "#C8D4E3",
             "linecolor": "#C8D4E3",
             "minorgridcolor": "#C8D4E3",
             "startlinecolor": "#2a3f5f"
            },
            "baxis": {
             "endlinecolor": "#2a3f5f",
             "gridcolor": "#C8D4E3",
             "linecolor": "#C8D4E3",
             "minorgridcolor": "#C8D4E3",
             "startlinecolor": "#2a3f5f"
            },
            "type": "carpet"
           }
          ],
          "choropleth": [
           {
            "colorbar": {
             "outlinewidth": 0,
             "ticks": ""
            },
            "type": "choropleth"
           }
          ],
          "contour": [
           {
            "colorbar": {
             "outlinewidth": 0,
             "ticks": ""
            },
            "colorscale": [
             [
              0,
              "#0d0887"
             ],
             [
              0.1111111111111111,
              "#46039f"
             ],
             [
              0.2222222222222222,
              "#7201a8"
             ],
             [
              0.3333333333333333,
              "#9c179e"
             ],
             [
              0.4444444444444444,
              "#bd3786"
             ],
             [
              0.5555555555555556,
              "#d8576b"
             ],
             [
              0.6666666666666666,
              "#ed7953"
             ],
             [
              0.7777777777777778,
              "#fb9f3a"
             ],
             [
              0.8888888888888888,
              "#fdca26"
             ],
             [
              1,
              "#f0f921"
             ]
            ],
            "type": "contour"
           }
          ],
          "contourcarpet": [
           {
            "colorbar": {
             "outlinewidth": 0,
             "ticks": ""
            },
            "type": "contourcarpet"
           }
          ],
          "heatmap": [
           {
            "colorbar": {
             "outlinewidth": 0,
             "ticks": ""
            },
            "colorscale": [
             [
              0,
              "#0d0887"
             ],
             [
              0.1111111111111111,
              "#46039f"
             ],
             [
              0.2222222222222222,
              "#7201a8"
             ],
             [
              0.3333333333333333,
              "#9c179e"
             ],
             [
              0.4444444444444444,
              "#bd3786"
             ],
             [
              0.5555555555555556,
              "#d8576b"
             ],
             [
              0.6666666666666666,
              "#ed7953"
             ],
             [
              0.7777777777777778,
              "#fb9f3a"
             ],
             [
              0.8888888888888888,
              "#fdca26"
             ],
             [
              1,
              "#f0f921"
             ]
            ],
            "type": "heatmap"
           }
          ],
          "heatmapgl": [
           {
            "colorbar": {
             "outlinewidth": 0,
             "ticks": ""
            },
            "colorscale": [
             [
              0,
              "#0d0887"
             ],
             [
              0.1111111111111111,
              "#46039f"
             ],
             [
              0.2222222222222222,
              "#7201a8"
             ],
             [
              0.3333333333333333,
              "#9c179e"
             ],
             [
              0.4444444444444444,
              "#bd3786"
             ],
             [
              0.5555555555555556,
              "#d8576b"
             ],
             [
              0.6666666666666666,
              "#ed7953"
             ],
             [
              0.7777777777777778,
              "#fb9f3a"
             ],
             [
              0.8888888888888888,
              "#fdca26"
             ],
             [
              1,
              "#f0f921"
             ]
            ],
            "type": "heatmapgl"
           }
          ],
          "histogram": [
           {
            "marker": {
             "colorbar": {
              "outlinewidth": 0,
              "ticks": ""
             }
            },
            "type": "histogram"
           }
          ],
          "histogram2d": [
           {
            "colorbar": {
             "outlinewidth": 0,
             "ticks": ""
            },
            "colorscale": [
             [
              0,
              "#0d0887"
             ],
             [
              0.1111111111111111,
              "#46039f"
             ],
             [
              0.2222222222222222,
              "#7201a8"
             ],
             [
              0.3333333333333333,
              "#9c179e"
             ],
             [
              0.4444444444444444,
              "#bd3786"
             ],
             [
              0.5555555555555556,
              "#d8576b"
             ],
             [
              0.6666666666666666,
              "#ed7953"
             ],
             [
              0.7777777777777778,
              "#fb9f3a"
             ],
             [
              0.8888888888888888,
              "#fdca26"
             ],
             [
              1,
              "#f0f921"
             ]
            ],
            "type": "histogram2d"
           }
          ],
          "histogram2dcontour": [
           {
            "colorbar": {
             "outlinewidth": 0,
             "ticks": ""
            },
            "colorscale": [
             [
              0,
              "#0d0887"
             ],
             [
              0.1111111111111111,
              "#46039f"
             ],
             [
              0.2222222222222222,
              "#7201a8"
             ],
             [
              0.3333333333333333,
              "#9c179e"
             ],
             [
              0.4444444444444444,
              "#bd3786"
             ],
             [
              0.5555555555555556,
              "#d8576b"
             ],
             [
              0.6666666666666666,
              "#ed7953"
             ],
             [
              0.7777777777777778,
              "#fb9f3a"
             ],
             [
              0.8888888888888888,
              "#fdca26"
             ],
             [
              1,
              "#f0f921"
             ]
            ],
            "type": "histogram2dcontour"
           }
          ],
          "mesh3d": [
           {
            "colorbar": {
             "outlinewidth": 0,
             "ticks": ""
            },
            "type": "mesh3d"
           }
          ],
          "parcoords": [
           {
            "line": {
             "colorbar": {
              "outlinewidth": 0,
              "ticks": ""
             }
            },
            "type": "parcoords"
           }
          ],
          "pie": [
           {
            "automargin": true,
            "type": "pie"
           }
          ],
          "scatter": [
           {
            "marker": {
             "colorbar": {
              "outlinewidth": 0,
              "ticks": ""
             }
            },
            "type": "scatter"
           }
          ],
          "scatter3d": [
           {
            "line": {
             "colorbar": {
              "outlinewidth": 0,
              "ticks": ""
             }
            },
            "marker": {
             "colorbar": {
              "outlinewidth": 0,
              "ticks": ""
             }
            },
            "type": "scatter3d"
           }
          ],
          "scattercarpet": [
           {
            "marker": {
             "colorbar": {
              "outlinewidth": 0,
              "ticks": ""
             }
            },
            "type": "scattercarpet"
           }
          ],
          "scattergeo": [
           {
            "marker": {
             "colorbar": {
              "outlinewidth": 0,
              "ticks": ""
             }
            },
            "type": "scattergeo"
           }
          ],
          "scattergl": [
           {
            "marker": {
             "colorbar": {
              "outlinewidth": 0,
              "ticks": ""
             }
            },
            "type": "scattergl"
           }
          ],
          "scattermapbox": [
           {
            "marker": {
             "colorbar": {
              "outlinewidth": 0,
              "ticks": ""
             }
            },
            "type": "scattermapbox"
           }
          ],
          "scatterpolar": [
           {
            "marker": {
             "colorbar": {
              "outlinewidth": 0,
              "ticks": ""
             }
            },
            "type": "scatterpolar"
           }
          ],
          "scatterpolargl": [
           {
            "marker": {
             "colorbar": {
              "outlinewidth": 0,
              "ticks": ""
             }
            },
            "type": "scatterpolargl"
           }
          ],
          "scatterternary": [
           {
            "marker": {
             "colorbar": {
              "outlinewidth": 0,
              "ticks": ""
             }
            },
            "type": "scatterternary"
           }
          ],
          "surface": [
           {
            "colorbar": {
             "outlinewidth": 0,
             "ticks": ""
            },
            "colorscale": [
             [
              0,
              "#0d0887"
             ],
             [
              0.1111111111111111,
              "#46039f"
             ],
             [
              0.2222222222222222,
              "#7201a8"
             ],
             [
              0.3333333333333333,
              "#9c179e"
             ],
             [
              0.4444444444444444,
              "#bd3786"
             ],
             [
              0.5555555555555556,
              "#d8576b"
             ],
             [
              0.6666666666666666,
              "#ed7953"
             ],
             [
              0.7777777777777778,
              "#fb9f3a"
             ],
             [
              0.8888888888888888,
              "#fdca26"
             ],
             [
              1,
              "#f0f921"
             ]
            ],
            "type": "surface"
           }
          ],
          "table": [
           {
            "cells": {
             "fill": {
              "color": "#EBF0F8"
             },
             "line": {
              "color": "white"
             }
            },
            "header": {
             "fill": {
              "color": "#C8D4E3"
             },
             "line": {
              "color": "white"
             }
            },
            "type": "table"
           }
          ]
         },
         "layout": {
          "annotationdefaults": {
           "arrowcolor": "#2a3f5f",
           "arrowhead": 0,
           "arrowwidth": 1
          },
          "coloraxis": {
           "colorbar": {
            "outlinewidth": 0,
            "ticks": ""
           }
          },
          "colorscale": {
           "diverging": [
            [
             0,
             "#8e0152"
            ],
            [
             0.1,
             "#c51b7d"
            ],
            [
             0.2,
             "#de77ae"
            ],
            [
             0.3,
             "#f1b6da"
            ],
            [
             0.4,
             "#fde0ef"
            ],
            [
             0.5,
             "#f7f7f7"
            ],
            [
             0.6,
             "#e6f5d0"
            ],
            [
             0.7,
             "#b8e186"
            ],
            [
             0.8,
             "#7fbc41"
            ],
            [
             0.9,
             "#4d9221"
            ],
            [
             1,
             "#276419"
            ]
           ],
           "sequential": [
            [
             0,
             "#0d0887"
            ],
            [
             0.1111111111111111,
             "#46039f"
            ],
            [
             0.2222222222222222,
             "#7201a8"
            ],
            [
             0.3333333333333333,
             "#9c179e"
            ],
            [
             0.4444444444444444,
             "#bd3786"
            ],
            [
             0.5555555555555556,
             "#d8576b"
            ],
            [
             0.6666666666666666,
             "#ed7953"
            ],
            [
             0.7777777777777778,
             "#fb9f3a"
            ],
            [
             0.8888888888888888,
             "#fdca26"
            ],
            [
             1,
             "#f0f921"
            ]
           ],
           "sequentialminus": [
            [
             0,
             "#0d0887"
            ],
            [
             0.1111111111111111,
             "#46039f"
            ],
            [
             0.2222222222222222,
             "#7201a8"
            ],
            [
             0.3333333333333333,
             "#9c179e"
            ],
            [
             0.4444444444444444,
             "#bd3786"
            ],
            [
             0.5555555555555556,
             "#d8576b"
            ],
            [
             0.6666666666666666,
             "#ed7953"
            ],
            [
             0.7777777777777778,
             "#fb9f3a"
            ],
            [
             0.8888888888888888,
             "#fdca26"
            ],
            [
             1,
             "#f0f921"
            ]
           ]
          },
          "colorway": [
           "#636efa",
           "#EF553B",
           "#00cc96",
           "#ab63fa",
           "#FFA15A",
           "#19d3f3",
           "#FF6692",
           "#B6E880",
           "#FF97FF",
           "#FECB52"
          ],
          "font": {
           "color": "#2a3f5f"
          },
          "geo": {
           "bgcolor": "white",
           "lakecolor": "white",
           "landcolor": "white",
           "showlakes": true,
           "showland": true,
           "subunitcolor": "#C8D4E3"
          },
          "hoverlabel": {
           "align": "left"
          },
          "hovermode": "closest",
          "mapbox": {
           "style": "light"
          },
          "paper_bgcolor": "white",
          "plot_bgcolor": "white",
          "polar": {
           "angularaxis": {
            "gridcolor": "#EBF0F8",
            "linecolor": "#EBF0F8",
            "ticks": ""
           },
           "bgcolor": "white",
           "radialaxis": {
            "gridcolor": "#EBF0F8",
            "linecolor": "#EBF0F8",
            "ticks": ""
           }
          },
          "scene": {
           "xaxis": {
            "backgroundcolor": "white",
            "gridcolor": "#DFE8F3",
            "gridwidth": 2,
            "linecolor": "#EBF0F8",
            "showbackground": true,
            "ticks": "",
            "zerolinecolor": "#EBF0F8"
           },
           "yaxis": {
            "backgroundcolor": "white",
            "gridcolor": "#DFE8F3",
            "gridwidth": 2,
            "linecolor": "#EBF0F8",
            "showbackground": true,
            "ticks": "",
            "zerolinecolor": "#EBF0F8"
           },
           "zaxis": {
            "backgroundcolor": "white",
            "gridcolor": "#DFE8F3",
            "gridwidth": 2,
            "linecolor": "#EBF0F8",
            "showbackground": true,
            "ticks": "",
            "zerolinecolor": "#EBF0F8"
           }
          },
          "shapedefaults": {
           "line": {
            "color": "#2a3f5f"
           }
          },
          "ternary": {
           "aaxis": {
            "gridcolor": "#DFE8F3",
            "linecolor": "#A2B1C6",
            "ticks": ""
           },
           "baxis": {
            "gridcolor": "#DFE8F3",
            "linecolor": "#A2B1C6",
            "ticks": ""
           },
           "bgcolor": "white",
           "caxis": {
            "gridcolor": "#DFE8F3",
            "linecolor": "#A2B1C6",
            "ticks": ""
           }
          },
          "title": {
           "x": 0.05
          },
          "xaxis": {
           "automargin": true,
           "gridcolor": "#EBF0F8",
           "linecolor": "#EBF0F8",
           "ticks": "",
           "title": {
            "standoff": 15
           },
           "zerolinecolor": "#EBF0F8",
           "zerolinewidth": 2
          },
          "yaxis": {
           "automargin": true,
           "gridcolor": "#EBF0F8",
           "linecolor": "#EBF0F8",
           "ticks": "",
           "title": {
            "standoff": 15
           },
           "zerolinecolor": "#EBF0F8",
           "zerolinewidth": 2
          }
         }
        },
        "title": {
         "text": "Veh1 - Tire Forces"
        },
        "width": 900,
        "xaxis": {
         "anchor": "y",
         "domain": [
          0,
          1
         ],
         "linecolor": "black",
         "linewidth": 1,
         "matches": "x2",
         "showgrid": false,
         "showline": true,
         "showticklabels": false,
         "tickcolor": "black",
         "ticklen": 10,
         "ticks": "outside",
         "tickwidth": 1,
         "title": {
          "text": ""
         },
         "zeroline": false
        },
        "xaxis2": {
         "anchor": "y2",
         "domain": [
          0,
          1
         ],
         "linecolor": "black",
         "linewidth": 1,
         "showgrid": false,
         "showline": true,
         "tickcolor": "black",
         "ticklen": 10,
         "ticks": "outside",
         "tickwidth": 1,
         "title": {
          "text": "Time (s)"
         },
         "zeroline": false
        },
        "yaxis": {
         "anchor": "x",
         "domain": [
          0.525,
          1
         ],
         "linecolor": "black",
         "linewidth": 1,
         "showgrid": false,
         "showline": true,
         "tickcolor": "black",
         "ticklen": 10,
         "ticks": "outside",
         "tickwidth": 1,
         "title": {
          "text": "Forward (lb)"
         },
         "zeroline": false
        },
        "yaxis2": {
         "anchor": "x2",
         "domain": [
          0,
          0.475
         ],
         "linecolor": "black",
         "linewidth": 1,
         "showgrid": false,
         "showline": true,
         "tickcolor": "black",
         "ticklen": 10,
         "ticks": "outside",
         "tickwidth": 1,
         "title": {
          "text": "Rightward (lb)"
         },
         "zeroline": false
        }
       }
      },
      "text/html": [
       "<div>\n",
       "        \n",
       "        \n",
       "            <div id=\"3ddce6ce-3a37-4abe-b4b8-17bb3b94d528\" class=\"plotly-graph-div\" style=\"height:500px; width:900px;\"></div>\n",
       "            <script type=\"text/javascript\">\n",
       "                require([\"plotly\"], function(Plotly) {\n",
       "                    window.PLOTLYENV=window.PLOTLYENV || {};\n",
       "                    \n",
       "                if (document.getElementById(\"3ddce6ce-3a37-4abe-b4b8-17bb3b94d528\")) {\n",
       "                    Plotly.newPlot(\n",
       "                        '3ddce6ce-3a37-4abe-b4b8-17bb3b94d528',\n",
       "                        [{\"line\": {\"color\": \"rgb(0, 0, 255)\", \"width\": 2}, \"mode\": \"lines\", \"name\": \"LF\", \"type\": \"scatter\", \"x\": [0.0, 0.1, 0.2, 0.3, 0.4, 0.5, 0.6, 0.7, 0.8, 0.9, 1.0, 1.1, 1.2, 1.3, 1.4, 1.5, 1.6, 1.7, 1.8, 1.9, 2.0, 2.1, 2.2, 2.3, 2.4, 2.5, 2.6, 2.7, 2.8, 2.9, 3.0, 3.1, 3.2, 3.3, 3.4, 3.5, 3.6, 3.7, 3.8, 3.9, 4.0, 4.1, 4.2, 4.3, 4.4, 4.5, 4.6, 4.7, 4.8, 4.9, 5.0], \"xaxis\": \"x\", \"y\": [0.0, -15.871621621621625, -31.907432432432437, -48.10743243243243, -64.47162162162162, -81.00000000000001, -97.69256756756756, -114.54932432432436, -131.5702702702703, -148.7554054054054, -166.10472972972974, -183.61824324324326, -201.29594594594596, -219.13783783783785, -237.14391891891898, -255.31418918918922, -273.6486486486487, 292.14729729729737, 260.5682432432433, -273.48445945945963, -348.6283783783784, 367.78378378378375, 311.2479729729735, -323.50743243243437, -426.23513513513666, 446.0472972972989, 345.4814189189309, -345.48141891899235, -448.09966216222006, 448.09966216220084, 345.48141891933096, -345.4814189215074, -448.0996621641841, 448.0996621634758, 345.4814189332296, -345.48141900917153, -448.09966223256936, 448.0996622078231, 345.4814194172244, -345.4814220622049, -448.0996646140638, 448.09966375209706, 345.4814362722477, -345.4815283841439, -448.09974754937843, 448.0997175310555, 345.48202324695797, -345.4852310377904, -448.1026357649693, 448.10159037836894, 345.5024645834174], \"yaxis\": \"y\"}, {\"line\": {\"color\": \"rgb(0, 255, 0)\", \"width\": 2}, \"mode\": \"lines\", \"name\": \"RF\", \"type\": \"scatter\", \"x\": [0.0, 0.1, 0.2, 0.3, 0.4, 0.5, 0.6, 0.7, 0.8, 0.9, 1.0, 1.1, 1.2, 1.3, 1.4, 1.5, 1.6, 1.7, 1.8, 1.9, 2.0, 2.1, 2.2, 2.3, 2.4, 2.5, 2.6, 2.7, 2.8, 2.9, 3.0, 3.1, 3.2, 3.3, 3.4, 3.5, 3.6, 3.7, 3.8, 3.9, 4.0, 4.1, 4.2, 4.3, 4.4, 4.5, 4.6, 4.7, 4.8, 4.9, 5.0], \"xaxis\": \"x\", \"y\": [0.0, -15.871621621621625, -31.907432432432437, -48.10743243243243, -64.47162162162162, -81.00000000000001, -97.69256756756756, -114.54932432432436, -131.5702702702703, -148.7554054054054, -166.10472972972974, -183.61824324324326, -201.29594594594596, -219.13783783783785, -237.14391891891898, -255.31418918918922, -273.6486486486487, 292.14729729729737, 260.5682432432433, -273.4844594594594, -348.62837837837844, 367.7837837837839, 311.2479729729725, -323.5074324324306, -426.2351351351336, 446.0472972972958, 345.48141891890697, -345.4814189188455, -448.0996621621043, 448.0996621621236, 345.4814189185069, -345.4814189163304, -448.09966216014027, 448.0996621608486, 345.48141890460823, -345.4814188286663, -448.099662091755, 448.0996621165013, 345.48141842061347, -345.4814157756329, -448.0996597102606, 448.0996605722274, 345.4814015655901, -345.4813094536939, -448.099576774946, 448.0996067932689, 345.48081459087985, -345.4776068000474, -448.0966885593551, 448.09773394595544, 345.46037325442046], \"yaxis\": \"y\"}, {\"line\": {\"color\": \"rgb(153, 0, 204)\", \"width\": 2}, \"mode\": \"lines\", \"name\": \"RR\", \"type\": \"scatter\", \"x\": [0.0, 0.1, 0.2, 0.3, 0.4, 0.5, 0.6, 0.7, 0.8, 0.9, 1.0, 1.1, 1.2, 1.3, 1.4, 1.5, 1.6, 1.7, 1.8, 1.9, 2.0, 2.1, 2.2, 2.3, 2.4, 2.5, 2.6, 2.7, 2.8, 2.9, 3.0, 3.1, 3.2, 3.3, 3.4, 3.5, 3.6, 3.7, 3.8, 3.9, 4.0, 4.1, 4.2, 4.3, 4.4, 4.5, 4.6, 4.7, 4.8, 4.9, 5.0], \"xaxis\": \"x\", \"y\": [0.0, -11.128378378378379, -22.092567567567567, -32.89256756756756, -43.528378378378385, -54.00000000000001, -64.30743243243244, -74.45067567567568, -84.42972972972973, -94.2445945945946, -103.89527027027027, -113.38175675675676, -122.70405405405404, -131.86216216216218, -140.8560810810811, -149.6858108108108, -158.35135135135135, 166.85270270270271, 225.43175675675676, -239.51554054054048, -191.37162162162167, 199.21621621621628, 282.7520270270267, -297.49256756756625, -221.76486486486377, 228.95270270270163, 329.51858108107274, -329.51858108102965, -226.90033783779725, 226.90033783781078, 329.5185810807922, -329.5185810792662, -226.9003378364202, 226.9003378369168, 329.51858107104715, -329.5185810178005, -226.9003377884719, 226.90033780582272, 329.51858073169456, -329.51857887716795, -226.90033611868844, 226.90033672305591, 329.5185689138046, -329.5185043296015, -226.90027796864024, 226.9002990159701, 329.51815735682385, -329.5159082161252, -226.8982528979386, 226.89898587015261, 329.5038249255132], \"yaxis\": \"y\"}, {\"line\": {\"color\": \"rgb(255, 102, 0)\", \"width\": 2}, \"mode\": \"lines\", \"name\": \"LR\", \"type\": \"scatter\", \"x\": [0.0, 0.1, 0.2, 0.3, 0.4, 0.5, 0.6, 0.7, 0.8, 0.9, 1.0, 1.1, 1.2, 1.3, 1.4, 1.5, 1.6, 1.7, 1.8, 1.9, 2.0, 2.1, 2.2, 2.3, 2.4, 2.5, 2.6, 2.7, 2.8, 2.9, 3.0, 3.1, 3.2, 3.3, 3.4, 3.5, 3.6, 3.7, 3.8, 3.9, 4.0, 4.1, 4.2, 4.3, 4.4, 4.5, 4.6, 4.7, 4.8, 4.9, 5.0], \"xaxis\": \"x\", \"y\": [0.0, -11.128378378378379, -22.092567567567567, -32.89256756756756, -43.528378378378385, -54.00000000000001, -64.30743243243244, -74.45067567567568, -84.42972972972973, -94.2445945945946, -103.89527027027027, -113.38175675675676, -122.70405405405404, -131.86216216216218, -140.8560810810811, -149.6858108108108, -158.35135135135135, 166.85270270270271, 225.43175675675676, -239.51554054054063, -191.37162162162159, 199.2162162162161, 282.75202702702734, -297.49256756756887, -221.76486486486593, 228.95270270270376, 329.5185810810895, -329.5185810811326, -226.9003378378784, 226.9003378378649, 329.51858108137, -329.51858108289605, -226.90033783925549, 226.90033783875887, 329.51858109111504, -329.5185811443617, -226.9003378872038, 226.90033786985296, 329.5185814304677, -329.51858328499424, -226.90033955698723, 226.9003389526197, 329.5185932483576, -329.51865783256073, -226.90039770703544, 226.90037665970559, 329.5190048053384, -329.521253946037, -226.9024227777371, 226.90168980552306, 329.533337236649], \"yaxis\": \"y\"}, {\"line\": {\"color\": \"rgb(0, 0, 255)\", \"width\": 2}, \"mode\": \"lines\", \"name\": \"LF\", \"showlegend\": false, \"type\": \"scatter\", \"x\": [0.0, 0.1, 0.2, 0.3, 0.4, 0.5, 0.6, 0.7, 0.8, 0.9, 1.0, 1.1, 1.2, 1.3, 1.4, 1.5, 1.6, 1.7, 1.8, 1.9, 2.0, 2.1, 2.2, 2.3, 2.4, 2.5, 2.6, 2.7, 2.8, 2.9, 3.0, 3.1, 3.2, 3.3, 3.4, 3.5, 3.6, 3.7, 3.8, 3.9, 4.0, 4.1, 4.2, 4.3, 4.4, 4.5, 4.6, 4.7, 4.8, 4.9, 5.0], \"xaxis\": \"x2\", \"y\": [-0.0, -0.0, -0.0, -0.0, -0.0, -0.0, -0.0, -0.0, -0.0, -0.0, -0.0, -0.0, -0.0, -0.0, -0.0, -0.0, -0.0, -9.895965545836933e-14, 9.823392794924787e-13, -7.067812555930043e-13, -1.3999976290756077e-12, 4.5023855375091176e-13, -6.283939309354981e-12, -7.308150725341262e-12, -1.8910109309548848e-11, -7.317340607609579e-11, -1.249706827626201e-10, -2.15021036340075e-10, -6.301315160682176e-10, -2.8767239889904812e-09, -3.912285062362817e-09, -7.473143743335956e-09, -2.2185415374060407e-08, -1.0053596721324274e-07, -1.3523844756312398e-07, -2.6032039419988865e-07, -7.732943878686426e-07, -3.501741943015431e-06, -4.707391625716295e-06, -9.065906529438249e-06, -2.6931551466106358e-05, -0.00012194899943923488, -0.0001639294250198042, -0.0003157203386609365, -0.0009378935196415268, -0.0042468498312565545, -0.005708762480235488, -0.010995154269894086, -0.03266291861427255, -0.14787601604279957, -0.1987398863994117], \"yaxis\": \"y2\"}, {\"line\": {\"color\": \"rgb(0, 255, 0)\", \"width\": 2}, \"mode\": \"lines\", \"name\": \"RF\", \"showlegend\": false, \"type\": \"scatter\", \"x\": [0.0, 0.1, 0.2, 0.3, 0.4, 0.5, 0.6, 0.7, 0.8, 0.9, 1.0, 1.1, 1.2, 1.3, 1.4, 1.5, 1.6, 1.7, 1.8, 1.9, 2.0, 2.1, 2.2, 2.3, 2.4, 2.5, 2.6, 2.7, 2.8, 2.9, 3.0, 3.1, 3.2, 3.3, 3.4, 3.5, 3.6, 3.7, 3.8, 3.9, 4.0, 4.1, 4.2, 4.3, 4.4, 4.5, 4.6, 4.7, 4.8, 4.9, 5.0], \"xaxis\": \"x2\", \"y\": [-0.0, -0.0, -0.0, -0.0, -0.0, -0.0, -0.0, -0.0, -0.0, -0.0, -0.0, -0.0, -0.0, -0.0, -0.0, -0.0, -0.0, -9.895965545836933e-14, 9.823392794924787e-13, -7.067812555930038e-13, -1.3999976290756077e-12, 4.50238553750912e-13, -6.283939309354963e-12, -7.3081507253411e-12, -1.891010930954823e-11, -7.317340607609528e-11, -1.2497068276261146e-10, -2.1502103633990568e-10, -6.301315160675617e-10, -2.8767239889899853e-09, -3.912285062353486e-09, -7.4731437431294e-09, -2.218541537325774e-08, -1.005359672126533e-07, -1.352384475519202e-07, -2.603203939491615e-07, -7.732943868945521e-07, -3.501741942301783e-06, -4.707391877876023e-06, -9.065906225341871e-06, -2.6931550284701917e-05, -0.00012194902787092626, -0.00016392951909912878, -0.00031571996985874925, -0.0009378920868596857, -0.004246884116434134, -0.005708876558892649, -0.010994706995676042, -0.032661180971919446, -0.14791759640788704, -0.19887823808828622], \"yaxis\": \"y2\"}, {\"line\": {\"color\": \"rgb(153, 0, 204)\", \"width\": 2}, \"mode\": \"lines\", \"name\": \"RR\", \"showlegend\": false, \"type\": \"scatter\", \"x\": [0.0, 0.1, 0.2, 0.3, 0.4, 0.5, 0.6, 0.7, 0.8, 0.9, 1.0, 1.1, 1.2, 1.3, 1.4, 1.5, 1.6, 1.7, 1.8, 1.9, 2.0, 2.1, 2.2, 2.3, 2.4, 2.5, 2.6, 2.7, 2.8, 2.9, 3.0, 3.1, 3.2, 3.3, 3.4, 3.5, 3.6, 3.7, 3.8, 3.9, 4.0, 4.1, 4.2, 4.3, 4.4, 4.5, 4.6, 4.7, 4.8, 4.9, 5.0], \"xaxis\": \"x2\", \"y\": [0.0, 0.0, 0.0, 0.0, 0.0, 0.0, 0.0, 0.0, 0.0, 0.0, 0.0, 0.0, 0.0, 0.0, 0.0, 0.0, 0.0, 5.6518359486839355e-14, -7.154559298781634e-14, 4.2640621199534075e-13, 6.914815341106529e-13, 2.9201609046741853e-12, 1.9034683950756404e-11, 1.7211219099447282e-11, 2.8460856593135255e-11, 1.4797844573943726e-10, 5.827762160930464e-10, 5.759161841213372e-10, 8.709148623233769e-10, 5.446903506365864e-09, 2.005819519601033e-08, 2.00848312909414e-08, 3.037907631447385e-08, 1.8979945778749657e-07, 6.981937642670215e-07, 6.994886082257695e-07, 1.0581065087127979e-06, 6.6099460547902585e-06, 2.431378877439903e-05, 2.4359759721529483e-05, 3.6848844617619866e-05, 0.00023019125951213428, 0.0008467243096666666, 0.0008483265806826983, 0.001283257852960148, 0.008016424037848042, 0.029487401834626854, 0.029542406000598282, 0.044688087896714974, 0.27920892790054797, 1.0272578372214778], \"yaxis\": \"y2\"}, {\"line\": {\"color\": \"rgb(255, 102, 0)\", \"width\": 2}, \"mode\": \"lines\", \"name\": \"LR\", \"showlegend\": false, \"type\": \"scatter\", \"x\": [0.0, 0.1, 0.2, 0.3, 0.4, 0.5, 0.6, 0.7, 0.8, 0.9, 1.0, 1.1, 1.2, 1.3, 1.4, 1.5, 1.6, 1.7, 1.8, 1.9, 2.0, 2.1, 2.2, 2.3, 2.4, 2.5, 2.6, 2.7, 2.8, 2.9, 3.0, 3.1, 3.2, 3.3, 3.4, 3.5, 3.6, 3.7, 3.8, 3.9, 4.0, 4.1, 4.2, 4.3, 4.4, 4.5, 4.6, 4.7, 4.8, 4.9, 5.0], \"xaxis\": \"x2\", \"y\": [0.0, 0.0, 0.0, 0.0, 0.0, 0.0, 0.0, 0.0, 0.0, 0.0, 0.0, 0.0, 0.0, 0.0, 0.0, 0.0, 0.0, 5.6518359486839355e-14, -7.154559298781634e-14, 4.2640621199534095e-13, 6.914815341106528e-13, 2.920160904674183e-12, 1.903468395075645e-11, 1.7211219099447618e-11, 2.8460856593136257e-11, 1.479784457394386e-10, 5.82776216093076e-10, 5.759161841217257e-10, 8.709148623243704e-10, 5.446903506367164e-09, 2.0058195196045497e-08, 2.008483129141682e-08, 3.037907631567842e-08, 1.897994577890374e-07, 6.981937643095419e-07, 6.994886088026747e-07, 1.0581065101735655e-06, 6.6099460566555554e-06, 2.4313788319037007e-05, 2.435976042121151e-05, 3.684884638919143e-05, 0.0002301912067976037, 0.0008467238014025615, 0.0008483274292415836, 0.001283260001476955, 0.008016360082897755, 0.029486785272082254, 0.029543435111780314, 0.04469069356414324, 0.2791313650369632, 1.026510089375447], \"yaxis\": \"y2\"}],\n",
       "                        {\"autosize\": false, \"font\": {\"color\": \"black\", \"family\": \"Arial\", \"size\": 14}, \"height\": 500, \"legend\": {\"orientation\": \"h\", \"x\": 0.01, \"xanchor\": \"left\", \"y\": 1.1, \"yanchor\": \"top\"}, \"template\": {\"data\": {\"bar\": [{\"error_x\": {\"color\": \"#2a3f5f\"}, \"error_y\": {\"color\": \"#2a3f5f\"}, \"marker\": {\"line\": {\"color\": \"white\", \"width\": 0.5}}, \"type\": \"bar\"}], \"barpolar\": [{\"marker\": {\"line\": {\"color\": \"white\", \"width\": 0.5}}, \"type\": \"barpolar\"}], \"carpet\": [{\"aaxis\": {\"endlinecolor\": \"#2a3f5f\", \"gridcolor\": \"#C8D4E3\", \"linecolor\": \"#C8D4E3\", \"minorgridcolor\": \"#C8D4E3\", \"startlinecolor\": \"#2a3f5f\"}, \"baxis\": {\"endlinecolor\": \"#2a3f5f\", \"gridcolor\": \"#C8D4E3\", \"linecolor\": \"#C8D4E3\", \"minorgridcolor\": \"#C8D4E3\", \"startlinecolor\": \"#2a3f5f\"}, \"type\": \"carpet\"}], \"choropleth\": [{\"colorbar\": {\"outlinewidth\": 0, \"ticks\": \"\"}, \"type\": \"choropleth\"}], \"contour\": [{\"colorbar\": {\"outlinewidth\": 0, \"ticks\": \"\"}, \"colorscale\": [[0.0, \"#0d0887\"], [0.1111111111111111, \"#46039f\"], [0.2222222222222222, \"#7201a8\"], [0.3333333333333333, \"#9c179e\"], [0.4444444444444444, \"#bd3786\"], [0.5555555555555556, \"#d8576b\"], [0.6666666666666666, \"#ed7953\"], [0.7777777777777778, \"#fb9f3a\"], [0.8888888888888888, \"#fdca26\"], [1.0, \"#f0f921\"]], \"type\": \"contour\"}], \"contourcarpet\": [{\"colorbar\": {\"outlinewidth\": 0, \"ticks\": \"\"}, \"type\": \"contourcarpet\"}], \"heatmap\": [{\"colorbar\": {\"outlinewidth\": 0, \"ticks\": \"\"}, \"colorscale\": [[0.0, \"#0d0887\"], [0.1111111111111111, \"#46039f\"], [0.2222222222222222, \"#7201a8\"], [0.3333333333333333, \"#9c179e\"], [0.4444444444444444, \"#bd3786\"], [0.5555555555555556, \"#d8576b\"], [0.6666666666666666, \"#ed7953\"], [0.7777777777777778, \"#fb9f3a\"], [0.8888888888888888, \"#fdca26\"], [1.0, \"#f0f921\"]], \"type\": \"heatmap\"}], \"heatmapgl\": [{\"colorbar\": {\"outlinewidth\": 0, \"ticks\": \"\"}, \"colorscale\": [[0.0, \"#0d0887\"], [0.1111111111111111, \"#46039f\"], [0.2222222222222222, \"#7201a8\"], [0.3333333333333333, \"#9c179e\"], [0.4444444444444444, \"#bd3786\"], [0.5555555555555556, \"#d8576b\"], [0.6666666666666666, \"#ed7953\"], [0.7777777777777778, \"#fb9f3a\"], [0.8888888888888888, \"#fdca26\"], [1.0, \"#f0f921\"]], \"type\": \"heatmapgl\"}], \"histogram\": [{\"marker\": {\"colorbar\": {\"outlinewidth\": 0, \"ticks\": \"\"}}, \"type\": \"histogram\"}], \"histogram2d\": [{\"colorbar\": {\"outlinewidth\": 0, \"ticks\": \"\"}, \"colorscale\": [[0.0, \"#0d0887\"], [0.1111111111111111, \"#46039f\"], [0.2222222222222222, \"#7201a8\"], [0.3333333333333333, \"#9c179e\"], [0.4444444444444444, \"#bd3786\"], [0.5555555555555556, \"#d8576b\"], [0.6666666666666666, \"#ed7953\"], [0.7777777777777778, \"#fb9f3a\"], [0.8888888888888888, \"#fdca26\"], [1.0, \"#f0f921\"]], \"type\": \"histogram2d\"}], \"histogram2dcontour\": [{\"colorbar\": {\"outlinewidth\": 0, \"ticks\": \"\"}, \"colorscale\": [[0.0, \"#0d0887\"], [0.1111111111111111, \"#46039f\"], [0.2222222222222222, \"#7201a8\"], [0.3333333333333333, \"#9c179e\"], [0.4444444444444444, \"#bd3786\"], [0.5555555555555556, \"#d8576b\"], [0.6666666666666666, \"#ed7953\"], [0.7777777777777778, \"#fb9f3a\"], [0.8888888888888888, \"#fdca26\"], [1.0, \"#f0f921\"]], \"type\": \"histogram2dcontour\"}], \"mesh3d\": [{\"colorbar\": {\"outlinewidth\": 0, \"ticks\": \"\"}, \"type\": \"mesh3d\"}], \"parcoords\": [{\"line\": {\"colorbar\": {\"outlinewidth\": 0, \"ticks\": \"\"}}, \"type\": \"parcoords\"}], \"pie\": [{\"automargin\": true, \"type\": \"pie\"}], \"scatter\": [{\"marker\": {\"colorbar\": {\"outlinewidth\": 0, \"ticks\": \"\"}}, \"type\": \"scatter\"}], \"scatter3d\": [{\"line\": {\"colorbar\": {\"outlinewidth\": 0, \"ticks\": \"\"}}, \"marker\": {\"colorbar\": {\"outlinewidth\": 0, \"ticks\": \"\"}}, \"type\": \"scatter3d\"}], \"scattercarpet\": [{\"marker\": {\"colorbar\": {\"outlinewidth\": 0, \"ticks\": \"\"}}, \"type\": \"scattercarpet\"}], \"scattergeo\": [{\"marker\": {\"colorbar\": {\"outlinewidth\": 0, \"ticks\": \"\"}}, \"type\": \"scattergeo\"}], \"scattergl\": [{\"marker\": {\"colorbar\": {\"outlinewidth\": 0, \"ticks\": \"\"}}, \"type\": \"scattergl\"}], \"scattermapbox\": [{\"marker\": {\"colorbar\": {\"outlinewidth\": 0, \"ticks\": \"\"}}, \"type\": \"scattermapbox\"}], \"scatterpolar\": [{\"marker\": {\"colorbar\": {\"outlinewidth\": 0, \"ticks\": \"\"}}, \"type\": \"scatterpolar\"}], \"scatterpolargl\": [{\"marker\": {\"colorbar\": {\"outlinewidth\": 0, \"ticks\": \"\"}}, \"type\": \"scatterpolargl\"}], \"scatterternary\": [{\"marker\": {\"colorbar\": {\"outlinewidth\": 0, \"ticks\": \"\"}}, \"type\": \"scatterternary\"}], \"surface\": [{\"colorbar\": {\"outlinewidth\": 0, \"ticks\": \"\"}, \"colorscale\": [[0.0, \"#0d0887\"], [0.1111111111111111, \"#46039f\"], [0.2222222222222222, \"#7201a8\"], [0.3333333333333333, \"#9c179e\"], [0.4444444444444444, \"#bd3786\"], [0.5555555555555556, \"#d8576b\"], [0.6666666666666666, \"#ed7953\"], [0.7777777777777778, \"#fb9f3a\"], [0.8888888888888888, \"#fdca26\"], [1.0, \"#f0f921\"]], \"type\": \"surface\"}], \"table\": [{\"cells\": {\"fill\": {\"color\": \"#EBF0F8\"}, \"line\": {\"color\": \"white\"}}, \"header\": {\"fill\": {\"color\": \"#C8D4E3\"}, \"line\": {\"color\": \"white\"}}, \"type\": \"table\"}]}, \"layout\": {\"annotationdefaults\": {\"arrowcolor\": \"#2a3f5f\", \"arrowhead\": 0, \"arrowwidth\": 1}, \"coloraxis\": {\"colorbar\": {\"outlinewidth\": 0, \"ticks\": \"\"}}, \"colorscale\": {\"diverging\": [[0, \"#8e0152\"], [0.1, \"#c51b7d\"], [0.2, \"#de77ae\"], [0.3, \"#f1b6da\"], [0.4, \"#fde0ef\"], [0.5, \"#f7f7f7\"], [0.6, \"#e6f5d0\"], [0.7, \"#b8e186\"], [0.8, \"#7fbc41\"], [0.9, \"#4d9221\"], [1, \"#276419\"]], \"sequential\": [[0.0, \"#0d0887\"], [0.1111111111111111, \"#46039f\"], [0.2222222222222222, \"#7201a8\"], [0.3333333333333333, \"#9c179e\"], [0.4444444444444444, \"#bd3786\"], [0.5555555555555556, \"#d8576b\"], [0.6666666666666666, \"#ed7953\"], [0.7777777777777778, \"#fb9f3a\"], [0.8888888888888888, \"#fdca26\"], [1.0, \"#f0f921\"]], \"sequentialminus\": [[0.0, \"#0d0887\"], [0.1111111111111111, \"#46039f\"], [0.2222222222222222, \"#7201a8\"], [0.3333333333333333, \"#9c179e\"], [0.4444444444444444, \"#bd3786\"], [0.5555555555555556, \"#d8576b\"], [0.6666666666666666, \"#ed7953\"], [0.7777777777777778, \"#fb9f3a\"], [0.8888888888888888, \"#fdca26\"], [1.0, \"#f0f921\"]]}, \"colorway\": [\"#636efa\", \"#EF553B\", \"#00cc96\", \"#ab63fa\", \"#FFA15A\", \"#19d3f3\", \"#FF6692\", \"#B6E880\", \"#FF97FF\", \"#FECB52\"], \"font\": {\"color\": \"#2a3f5f\"}, \"geo\": {\"bgcolor\": \"white\", \"lakecolor\": \"white\", \"landcolor\": \"white\", \"showlakes\": true, \"showland\": true, \"subunitcolor\": \"#C8D4E3\"}, \"hoverlabel\": {\"align\": \"left\"}, \"hovermode\": \"closest\", \"mapbox\": {\"style\": \"light\"}, \"paper_bgcolor\": \"white\", \"plot_bgcolor\": \"white\", \"polar\": {\"angularaxis\": {\"gridcolor\": \"#EBF0F8\", \"linecolor\": \"#EBF0F8\", \"ticks\": \"\"}, \"bgcolor\": \"white\", \"radialaxis\": {\"gridcolor\": \"#EBF0F8\", \"linecolor\": \"#EBF0F8\", \"ticks\": \"\"}}, \"scene\": {\"xaxis\": {\"backgroundcolor\": \"white\", \"gridcolor\": \"#DFE8F3\", \"gridwidth\": 2, \"linecolor\": \"#EBF0F8\", \"showbackground\": true, \"ticks\": \"\", \"zerolinecolor\": \"#EBF0F8\"}, \"yaxis\": {\"backgroundcolor\": \"white\", \"gridcolor\": \"#DFE8F3\", \"gridwidth\": 2, \"linecolor\": \"#EBF0F8\", \"showbackground\": true, \"ticks\": \"\", \"zerolinecolor\": \"#EBF0F8\"}, \"zaxis\": {\"backgroundcolor\": \"white\", \"gridcolor\": \"#DFE8F3\", \"gridwidth\": 2, \"linecolor\": \"#EBF0F8\", \"showbackground\": true, \"ticks\": \"\", \"zerolinecolor\": \"#EBF0F8\"}}, \"shapedefaults\": {\"line\": {\"color\": \"#2a3f5f\"}}, \"ternary\": {\"aaxis\": {\"gridcolor\": \"#DFE8F3\", \"linecolor\": \"#A2B1C6\", \"ticks\": \"\"}, \"baxis\": {\"gridcolor\": \"#DFE8F3\", \"linecolor\": \"#A2B1C6\", \"ticks\": \"\"}, \"bgcolor\": \"white\", \"caxis\": {\"gridcolor\": \"#DFE8F3\", \"linecolor\": \"#A2B1C6\", \"ticks\": \"\"}}, \"title\": {\"x\": 0.05}, \"xaxis\": {\"automargin\": true, \"gridcolor\": \"#EBF0F8\", \"linecolor\": \"#EBF0F8\", \"ticks\": \"\", \"title\": {\"standoff\": 15}, \"zerolinecolor\": \"#EBF0F8\", \"zerolinewidth\": 2}, \"yaxis\": {\"automargin\": true, \"gridcolor\": \"#EBF0F8\", \"linecolor\": \"#EBF0F8\", \"ticks\": \"\", \"title\": {\"standoff\": 15}, \"zerolinecolor\": \"#EBF0F8\", \"zerolinewidth\": 2}}}, \"title\": {\"text\": \"Veh1 - Tire Forces\"}, \"width\": 900, \"xaxis\": {\"anchor\": \"y\", \"domain\": [0.0, 1.0], \"linecolor\": \"black\", \"linewidth\": 1, \"matches\": \"x2\", \"showgrid\": false, \"showline\": true, \"showticklabels\": false, \"tickcolor\": \"black\", \"ticklen\": 10, \"ticks\": \"outside\", \"tickwidth\": 1, \"title\": {\"text\": \"\"}, \"zeroline\": false}, \"xaxis2\": {\"anchor\": \"y2\", \"domain\": [0.0, 1.0], \"linecolor\": \"black\", \"linewidth\": 1, \"showgrid\": false, \"showline\": true, \"tickcolor\": \"black\", \"ticklen\": 10, \"ticks\": \"outside\", \"tickwidth\": 1, \"title\": {\"text\": \"Time (s)\"}, \"zeroline\": false}, \"yaxis\": {\"anchor\": \"x\", \"domain\": [0.525, 1.0], \"linecolor\": \"black\", \"linewidth\": 1, \"showgrid\": false, \"showline\": true, \"tickcolor\": \"black\", \"ticklen\": 10, \"ticks\": \"outside\", \"tickwidth\": 1, \"title\": {\"text\": \"Forward (lb)\"}, \"zeroline\": false}, \"yaxis2\": {\"anchor\": \"x2\", \"domain\": [0.0, 0.475], \"linecolor\": \"black\", \"linewidth\": 1, \"showgrid\": false, \"showline\": true, \"tickcolor\": \"black\", \"ticklen\": 10, \"ticks\": \"outside\", \"tickwidth\": 1, \"title\": {\"text\": \"Rightward (lb)\"}, \"zeroline\": false}},\n",
       "                        {\"responsive\": true}\n",
       "                    ).then(function(){\n",
       "                            \n",
       "var gd = document.getElementById('3ddce6ce-3a37-4abe-b4b8-17bb3b94d528');\n",
       "var x = new MutationObserver(function (mutations, observer) {{\n",
       "        var display = window.getComputedStyle(gd).display;\n",
       "        if (!display || display === 'none') {{\n",
       "            console.log([gd, 'removed!']);\n",
       "            Plotly.purge(gd);\n",
       "            observer.disconnect();\n",
       "        }}\n",
       "}});\n",
       "\n",
       "// Listen for the removal of the full notebook cells\n",
       "var notebookContainer = gd.closest('#notebook-container');\n",
       "if (notebookContainer) {{\n",
       "    x.observe(notebookContainer, {childList: true});\n",
       "}}\n",
       "\n",
       "// Listen for the clearing of the current output cell\n",
       "var outputEl = gd.closest('.output');\n",
       "if (outputEl) {{\n",
       "    x.observe(outputEl, {childList: true});\n",
       "}}\n",
       "\n",
       "                        })\n",
       "                };\n",
       "                });\n",
       "            </script>\n",
       "        </div>"
      ]
     },
     "metadata": {},
     "output_type": "display_data"
    },
    {
     "data": {
      "application/vnd.plotly.v1+json": {
       "config": {
        "plotlyServerURL": "https://plot.ly"
       },
       "data": [
        {
         "line": {
          "color": "rgb(0, 0, 0)",
          "width": 2
         },
         "mode": "lines",
         "name": "heading",
         "type": "scatter",
         "x": [
          0,
          0.1,
          0.2,
          0.3,
          0.4,
          0.5,
          0.6,
          0.7,
          0.8,
          0.9,
          1,
          1.1,
          1.2,
          1.3,
          1.4,
          1.5,
          1.6,
          1.7,
          1.8,
          1.9,
          2,
          2.1,
          2.2,
          2.3,
          2.4,
          2.5,
          2.6,
          2.7,
          2.8,
          2.9,
          3,
          3.1,
          3.2,
          3.3,
          3.4,
          3.5,
          3.6,
          3.7,
          3.8,
          3.9,
          4,
          4.1,
          4.2,
          4.3,
          4.4,
          4.5,
          4.6,
          4.7,
          4.8,
          4.9,
          5
         ],
         "xaxis": "x",
         "y": [
          0,
          0,
          0,
          0,
          0,
          0,
          0,
          0,
          0,
          0,
          0,
          0,
          0,
          0,
          0,
          0,
          0,
          0,
          -1.6744925418090705e-17,
          4.305837964651895e-17,
          1.5907679147186168e-16,
          -1.4711613045893977e-16,
          -1.4699652384881054e-15,
          -7.193141533171249e-15,
          -2.3552933666645866e-14,
          -5.6565554128411685e-14,
          -1.346555138156777e-13,
          -3.7380414650464654e-13,
          -9.505783182663758e-13,
          -2.0533871456408167e-12,
          -4.757973676196268e-12,
          -1.3129219986016607e-11,
          -3.318456692448759e-11,
          -7.152530663587805e-11,
          -1.6577612276232124e-10,
          -4.5736597703805325e-10,
          -1.155640554974747e-09,
          -2.4906985424187698e-09,
          -5.773130384125097e-09,
          -1.5927832102687033e-08,
          -4.0244796815395236e-08,
          -8.67377253646628e-08,
          -2.0104850385968337e-07,
          -5.546853917153648e-07,
          -1.4015208260702629e-06,
          -3.020632528063002e-06,
          -7.0014970053080395e-06,
          -1.9316873703626496e-05,
          -4.8807847696449536e-05,
          -0.00010519328093253137,
          -0.0002438265588219005
         ],
         "yaxis": "y"
        },
        {
         "line": {
          "color": "rgb(0, 255, 0)",
          "width": 2
         },
         "mode": "lines",
         "name": "omega",
         "type": "scatter",
         "x": [
          0,
          0.1,
          0.2,
          0.3,
          0.4,
          0.5,
          0.6,
          0.7,
          0.8,
          0.9,
          1,
          1.1,
          1.2,
          1.3,
          1.4,
          1.5,
          1.6,
          1.7,
          1.8,
          1.9,
          2,
          2.1,
          2.2,
          2.3,
          2.4,
          2.5,
          2.6,
          2.7,
          2.8,
          2.9,
          3,
          3.1,
          3.2,
          3.3,
          3.4,
          3.5,
          3.6,
          3.7,
          3.8,
          3.9,
          4,
          4.1,
          4.2,
          4.3,
          4.4,
          4.5,
          4.6,
          4.7,
          4.8,
          4.9,
          5
         ],
         "xaxis": "x2",
         "y": [
          0,
          0,
          0,
          0,
          0,
          0,
          0,
          0,
          0,
          0,
          0,
          0,
          0,
          0,
          0,
          0,
          0,
          0,
          -3.3489850836181407e-16,
          1.530964609654007e-15,
          7.89403626852847e-16,
          -6.9132620654688755e-15,
          -1.9543720095114433e-14,
          -9.491980579854844e-14,
          -2.322760368709439e-13,
          -4.2797637236437254e-13,
          -1.1338228213809474e-12,
          -3.64914983239843e-12,
          -7.886333602836152e-12,
          -1.4169842944652661e-11,
          -3.9921887666456376e-11,
          -1.2750303852995035e-10,
          -2.7360390023946927e-10,
          -4.932108939883399e-10,
          -1.3918054285405236e-09,
          -4.439991656974115e-09,
          -9.525499901759764e-09,
          -1.7175659847120693e-08,
          -4.847297698700583e-08,
          -1.546210573842329e-07,
          -3.317182368699311e-07,
          -5.981403341154201e-07,
          -1.6880752357849918e-06,
          -5.384662521328637e-06,
          -1.1552046165769325e-05,
          -2.0830187874085462e-05,
          -5.878710167081528e-05,
          -0.00018752043229555384,
          -0.00040229904756090715,
          -0.0007254096171607294,
          -0.0020472559406266525
         ],
         "yaxis": "y2"
        },
        {
         "line": {
          "color": "rgb(204, 0, 0)",
          "width": 2
         },
         "mode": "lines",
         "name": "alpha",
         "type": "scatter",
         "x": [
          0,
          0.1,
          0.2,
          0.3,
          0.4,
          0.5,
          0.6,
          0.7,
          0.8,
          0.9,
          1,
          1.1,
          1.2,
          1.3,
          1.4,
          1.5,
          1.6,
          1.7,
          1.8,
          1.9,
          2,
          2.1,
          2.2,
          2.3,
          2.4,
          2.5,
          2.6,
          2.7,
          2.8,
          2.9,
          3,
          3.1,
          3.2,
          3.3,
          3.4,
          3.5,
          3.6,
          3.7,
          3.8,
          3.9,
          4,
          4.1,
          4.2,
          4.3,
          4.4,
          4.5,
          4.6,
          4.7,
          4.8,
          4.9,
          5
         ],
         "xaxis": "x2",
         "y": [
          0,
          0,
          0,
          0,
          0,
          0,
          0,
          0,
          0,
          0,
          0,
          0,
          0,
          0,
          0,
          0,
          0,
          0,
          -6.697970167236281e-15,
          4.40152325275527e-14,
          -5.88464521835759e-14,
          -9.520686166285856e-14,
          -1.574022989300526e-13,
          -1.3501194151386274e-12,
          -1.3970052063092815e-12,
          -2.5170015035592907e-12,
          -1.1599927476772205e-11,
          -3.8706612743577426e-11,
          -4.603706266517702e-11,
          -7.963312417115318e-11,
          -4.354077702649211e-10,
          -1.3162152470049585e-09,
          -1.605801987185419e-09,
          -2.7863378877919936e-09,
          -1.5185552803251684e-08,
          -4.5778171765420125e-08,
          -5.59319931302928e-08,
          -9.707120577692572e-08,
          -5.288751370207769e-07,
          -1.594086470923765e-06,
          -1.9478571187901997e-06,
          -3.3805848261195795e-06,
          -1.8418113207271854e-05,
          -5.551363250360104e-05,
          -6.783404038521274e-05,
          -0.00011772879378111002,
          -0.0006414094821534862,
          -0.001933257130341285,
          -0.002362315174965781,
          -0.004099896217030665,
          -0.022337030252287792
         ],
         "yaxis": "y2"
        }
       ],
       "layout": {
        "autosize": false,
        "font": {
         "color": "black",
         "family": "Arial",
         "size": 14
        },
        "height": 500,
        "legend": {
         "orientation": "h",
         "x": 0.01,
         "xanchor": "left",
         "y": 1.1,
         "yanchor": "top"
        },
        "template": {
         "data": {
          "bar": [
           {
            "error_x": {
             "color": "#2a3f5f"
            },
            "error_y": {
             "color": "#2a3f5f"
            },
            "marker": {
             "line": {
              "color": "white",
              "width": 0.5
             }
            },
            "type": "bar"
           }
          ],
          "barpolar": [
           {
            "marker": {
             "line": {
              "color": "white",
              "width": 0.5
             }
            },
            "type": "barpolar"
           }
          ],
          "carpet": [
           {
            "aaxis": {
             "endlinecolor": "#2a3f5f",
             "gridcolor": "#C8D4E3",
             "linecolor": "#C8D4E3",
             "minorgridcolor": "#C8D4E3",
             "startlinecolor": "#2a3f5f"
            },
            "baxis": {
             "endlinecolor": "#2a3f5f",
             "gridcolor": "#C8D4E3",
             "linecolor": "#C8D4E3",
             "minorgridcolor": "#C8D4E3",
             "startlinecolor": "#2a3f5f"
            },
            "type": "carpet"
           }
          ],
          "choropleth": [
           {
            "colorbar": {
             "outlinewidth": 0,
             "ticks": ""
            },
            "type": "choropleth"
           }
          ],
          "contour": [
           {
            "colorbar": {
             "outlinewidth": 0,
             "ticks": ""
            },
            "colorscale": [
             [
              0,
              "#0d0887"
             ],
             [
              0.1111111111111111,
              "#46039f"
             ],
             [
              0.2222222222222222,
              "#7201a8"
             ],
             [
              0.3333333333333333,
              "#9c179e"
             ],
             [
              0.4444444444444444,
              "#bd3786"
             ],
             [
              0.5555555555555556,
              "#d8576b"
             ],
             [
              0.6666666666666666,
              "#ed7953"
             ],
             [
              0.7777777777777778,
              "#fb9f3a"
             ],
             [
              0.8888888888888888,
              "#fdca26"
             ],
             [
              1,
              "#f0f921"
             ]
            ],
            "type": "contour"
           }
          ],
          "contourcarpet": [
           {
            "colorbar": {
             "outlinewidth": 0,
             "ticks": ""
            },
            "type": "contourcarpet"
           }
          ],
          "heatmap": [
           {
            "colorbar": {
             "outlinewidth": 0,
             "ticks": ""
            },
            "colorscale": [
             [
              0,
              "#0d0887"
             ],
             [
              0.1111111111111111,
              "#46039f"
             ],
             [
              0.2222222222222222,
              "#7201a8"
             ],
             [
              0.3333333333333333,
              "#9c179e"
             ],
             [
              0.4444444444444444,
              "#bd3786"
             ],
             [
              0.5555555555555556,
              "#d8576b"
             ],
             [
              0.6666666666666666,
              "#ed7953"
             ],
             [
              0.7777777777777778,
              "#fb9f3a"
             ],
             [
              0.8888888888888888,
              "#fdca26"
             ],
             [
              1,
              "#f0f921"
             ]
            ],
            "type": "heatmap"
           }
          ],
          "heatmapgl": [
           {
            "colorbar": {
             "outlinewidth": 0,
             "ticks": ""
            },
            "colorscale": [
             [
              0,
              "#0d0887"
             ],
             [
              0.1111111111111111,
              "#46039f"
             ],
             [
              0.2222222222222222,
              "#7201a8"
             ],
             [
              0.3333333333333333,
              "#9c179e"
             ],
             [
              0.4444444444444444,
              "#bd3786"
             ],
             [
              0.5555555555555556,
              "#d8576b"
             ],
             [
              0.6666666666666666,
              "#ed7953"
             ],
             [
              0.7777777777777778,
              "#fb9f3a"
             ],
             [
              0.8888888888888888,
              "#fdca26"
             ],
             [
              1,
              "#f0f921"
             ]
            ],
            "type": "heatmapgl"
           }
          ],
          "histogram": [
           {
            "marker": {
             "colorbar": {
              "outlinewidth": 0,
              "ticks": ""
             }
            },
            "type": "histogram"
           }
          ],
          "histogram2d": [
           {
            "colorbar": {
             "outlinewidth": 0,
             "ticks": ""
            },
            "colorscale": [
             [
              0,
              "#0d0887"
             ],
             [
              0.1111111111111111,
              "#46039f"
             ],
             [
              0.2222222222222222,
              "#7201a8"
             ],
             [
              0.3333333333333333,
              "#9c179e"
             ],
             [
              0.4444444444444444,
              "#bd3786"
             ],
             [
              0.5555555555555556,
              "#d8576b"
             ],
             [
              0.6666666666666666,
              "#ed7953"
             ],
             [
              0.7777777777777778,
              "#fb9f3a"
             ],
             [
              0.8888888888888888,
              "#fdca26"
             ],
             [
              1,
              "#f0f921"
             ]
            ],
            "type": "histogram2d"
           }
          ],
          "histogram2dcontour": [
           {
            "colorbar": {
             "outlinewidth": 0,
             "ticks": ""
            },
            "colorscale": [
             [
              0,
              "#0d0887"
             ],
             [
              0.1111111111111111,
              "#46039f"
             ],
             [
              0.2222222222222222,
              "#7201a8"
             ],
             [
              0.3333333333333333,
              "#9c179e"
             ],
             [
              0.4444444444444444,
              "#bd3786"
             ],
             [
              0.5555555555555556,
              "#d8576b"
             ],
             [
              0.6666666666666666,
              "#ed7953"
             ],
             [
              0.7777777777777778,
              "#fb9f3a"
             ],
             [
              0.8888888888888888,
              "#fdca26"
             ],
             [
              1,
              "#f0f921"
             ]
            ],
            "type": "histogram2dcontour"
           }
          ],
          "mesh3d": [
           {
            "colorbar": {
             "outlinewidth": 0,
             "ticks": ""
            },
            "type": "mesh3d"
           }
          ],
          "parcoords": [
           {
            "line": {
             "colorbar": {
              "outlinewidth": 0,
              "ticks": ""
             }
            },
            "type": "parcoords"
           }
          ],
          "pie": [
           {
            "automargin": true,
            "type": "pie"
           }
          ],
          "scatter": [
           {
            "marker": {
             "colorbar": {
              "outlinewidth": 0,
              "ticks": ""
             }
            },
            "type": "scatter"
           }
          ],
          "scatter3d": [
           {
            "line": {
             "colorbar": {
              "outlinewidth": 0,
              "ticks": ""
             }
            },
            "marker": {
             "colorbar": {
              "outlinewidth": 0,
              "ticks": ""
             }
            },
            "type": "scatter3d"
           }
          ],
          "scattercarpet": [
           {
            "marker": {
             "colorbar": {
              "outlinewidth": 0,
              "ticks": ""
             }
            },
            "type": "scattercarpet"
           }
          ],
          "scattergeo": [
           {
            "marker": {
             "colorbar": {
              "outlinewidth": 0,
              "ticks": ""
             }
            },
            "type": "scattergeo"
           }
          ],
          "scattergl": [
           {
            "marker": {
             "colorbar": {
              "outlinewidth": 0,
              "ticks": ""
             }
            },
            "type": "scattergl"
           }
          ],
          "scattermapbox": [
           {
            "marker": {
             "colorbar": {
              "outlinewidth": 0,
              "ticks": ""
             }
            },
            "type": "scattermapbox"
           }
          ],
          "scatterpolar": [
           {
            "marker": {
             "colorbar": {
              "outlinewidth": 0,
              "ticks": ""
             }
            },
            "type": "scatterpolar"
           }
          ],
          "scatterpolargl": [
           {
            "marker": {
             "colorbar": {
              "outlinewidth": 0,
              "ticks": ""
             }
            },
            "type": "scatterpolargl"
           }
          ],
          "scatterternary": [
           {
            "marker": {
             "colorbar": {
              "outlinewidth": 0,
              "ticks": ""
             }
            },
            "type": "scatterternary"
           }
          ],
          "surface": [
           {
            "colorbar": {
             "outlinewidth": 0,
             "ticks": ""
            },
            "colorscale": [
             [
              0,
              "#0d0887"
             ],
             [
              0.1111111111111111,
              "#46039f"
             ],
             [
              0.2222222222222222,
              "#7201a8"
             ],
             [
              0.3333333333333333,
              "#9c179e"
             ],
             [
              0.4444444444444444,
              "#bd3786"
             ],
             [
              0.5555555555555556,
              "#d8576b"
             ],
             [
              0.6666666666666666,
              "#ed7953"
             ],
             [
              0.7777777777777778,
              "#fb9f3a"
             ],
             [
              0.8888888888888888,
              "#fdca26"
             ],
             [
              1,
              "#f0f921"
             ]
            ],
            "type": "surface"
           }
          ],
          "table": [
           {
            "cells": {
             "fill": {
              "color": "#EBF0F8"
             },
             "line": {
              "color": "white"
             }
            },
            "header": {
             "fill": {
              "color": "#C8D4E3"
             },
             "line": {
              "color": "white"
             }
            },
            "type": "table"
           }
          ]
         },
         "layout": {
          "annotationdefaults": {
           "arrowcolor": "#2a3f5f",
           "arrowhead": 0,
           "arrowwidth": 1
          },
          "coloraxis": {
           "colorbar": {
            "outlinewidth": 0,
            "ticks": ""
           }
          },
          "colorscale": {
           "diverging": [
            [
             0,
             "#8e0152"
            ],
            [
             0.1,
             "#c51b7d"
            ],
            [
             0.2,
             "#de77ae"
            ],
            [
             0.3,
             "#f1b6da"
            ],
            [
             0.4,
             "#fde0ef"
            ],
            [
             0.5,
             "#f7f7f7"
            ],
            [
             0.6,
             "#e6f5d0"
            ],
            [
             0.7,
             "#b8e186"
            ],
            [
             0.8,
             "#7fbc41"
            ],
            [
             0.9,
             "#4d9221"
            ],
            [
             1,
             "#276419"
            ]
           ],
           "sequential": [
            [
             0,
             "#0d0887"
            ],
            [
             0.1111111111111111,
             "#46039f"
            ],
            [
             0.2222222222222222,
             "#7201a8"
            ],
            [
             0.3333333333333333,
             "#9c179e"
            ],
            [
             0.4444444444444444,
             "#bd3786"
            ],
            [
             0.5555555555555556,
             "#d8576b"
            ],
            [
             0.6666666666666666,
             "#ed7953"
            ],
            [
             0.7777777777777778,
             "#fb9f3a"
            ],
            [
             0.8888888888888888,
             "#fdca26"
            ],
            [
             1,
             "#f0f921"
            ]
           ],
           "sequentialminus": [
            [
             0,
             "#0d0887"
            ],
            [
             0.1111111111111111,
             "#46039f"
            ],
            [
             0.2222222222222222,
             "#7201a8"
            ],
            [
             0.3333333333333333,
             "#9c179e"
            ],
            [
             0.4444444444444444,
             "#bd3786"
            ],
            [
             0.5555555555555556,
             "#d8576b"
            ],
            [
             0.6666666666666666,
             "#ed7953"
            ],
            [
             0.7777777777777778,
             "#fb9f3a"
            ],
            [
             0.8888888888888888,
             "#fdca26"
            ],
            [
             1,
             "#f0f921"
            ]
           ]
          },
          "colorway": [
           "#636efa",
           "#EF553B",
           "#00cc96",
           "#ab63fa",
           "#FFA15A",
           "#19d3f3",
           "#FF6692",
           "#B6E880",
           "#FF97FF",
           "#FECB52"
          ],
          "font": {
           "color": "#2a3f5f"
          },
          "geo": {
           "bgcolor": "white",
           "lakecolor": "white",
           "landcolor": "white",
           "showlakes": true,
           "showland": true,
           "subunitcolor": "#C8D4E3"
          },
          "hoverlabel": {
           "align": "left"
          },
          "hovermode": "closest",
          "mapbox": {
           "style": "light"
          },
          "paper_bgcolor": "white",
          "plot_bgcolor": "white",
          "polar": {
           "angularaxis": {
            "gridcolor": "#EBF0F8",
            "linecolor": "#EBF0F8",
            "ticks": ""
           },
           "bgcolor": "white",
           "radialaxis": {
            "gridcolor": "#EBF0F8",
            "linecolor": "#EBF0F8",
            "ticks": ""
           }
          },
          "scene": {
           "xaxis": {
            "backgroundcolor": "white",
            "gridcolor": "#DFE8F3",
            "gridwidth": 2,
            "linecolor": "#EBF0F8",
            "showbackground": true,
            "ticks": "",
            "zerolinecolor": "#EBF0F8"
           },
           "yaxis": {
            "backgroundcolor": "white",
            "gridcolor": "#DFE8F3",
            "gridwidth": 2,
            "linecolor": "#EBF0F8",
            "showbackground": true,
            "ticks": "",
            "zerolinecolor": "#EBF0F8"
           },
           "zaxis": {
            "backgroundcolor": "white",
            "gridcolor": "#DFE8F3",
            "gridwidth": 2,
            "linecolor": "#EBF0F8",
            "showbackground": true,
            "ticks": "",
            "zerolinecolor": "#EBF0F8"
           }
          },
          "shapedefaults": {
           "line": {
            "color": "#2a3f5f"
           }
          },
          "ternary": {
           "aaxis": {
            "gridcolor": "#DFE8F3",
            "linecolor": "#A2B1C6",
            "ticks": ""
           },
           "baxis": {
            "gridcolor": "#DFE8F3",
            "linecolor": "#A2B1C6",
            "ticks": ""
           },
           "bgcolor": "white",
           "caxis": {
            "gridcolor": "#DFE8F3",
            "linecolor": "#A2B1C6",
            "ticks": ""
           }
          },
          "title": {
           "x": 0.05
          },
          "xaxis": {
           "automargin": true,
           "gridcolor": "#EBF0F8",
           "linecolor": "#EBF0F8",
           "ticks": "",
           "title": {
            "standoff": 15
           },
           "zerolinecolor": "#EBF0F8",
           "zerolinewidth": 2
          },
          "yaxis": {
           "automargin": true,
           "gridcolor": "#EBF0F8",
           "linecolor": "#EBF0F8",
           "ticks": "",
           "title": {
            "standoff": 15
           },
           "zerolinecolor": "#EBF0F8",
           "zerolinewidth": 2
          }
         }
        },
        "title": {
         "text": "Veh1 Heading and Rotation"
        },
        "width": 900,
        "xaxis": {
         "anchor": "y",
         "domain": [
          0,
          1
         ],
         "linecolor": "black",
         "linewidth": 1,
         "matches": "x2",
         "showgrid": false,
         "showline": true,
         "showticklabels": false,
         "tickcolor": "black",
         "ticklen": 10,
         "ticks": "outside",
         "tickwidth": 1,
         "title": {
          "text": ""
         },
         "zeroline": false
        },
        "xaxis2": {
         "anchor": "y2",
         "domain": [
          0,
          1
         ],
         "linecolor": "black",
         "linewidth": 1,
         "showgrid": false,
         "showline": true,
         "tickcolor": "black",
         "ticklen": 10,
         "ticks": "outside",
         "tickwidth": 1,
         "title": {
          "text": "Time (s)"
         },
         "zeroline": false
        },
        "yaxis": {
         "anchor": "x",
         "domain": [
          0.5349999999999999,
          0.9999999999999999
         ],
         "linecolor": "black",
         "linewidth": 1,
         "showgrid": false,
         "showline": true,
         "tickcolor": "black",
         "ticklen": 10,
         "ticks": "outside",
         "tickwidth": 1,
         "title": {
          "text": "Heading (deg)"
         },
         "zeroline": false
        },
        "yaxis2": {
         "anchor": "x2",
         "domain": [
          0,
          0.46499999999999997
         ],
         "linecolor": "black",
         "linewidth": 1,
         "showgrid": false,
         "showline": true,
         "tickcolor": "black",
         "ticklen": 10,
         "ticks": "outside",
         "tickwidth": 1,
         "title": {
          "text": "Omega (deg/s), Alpha (deg/s/s)"
         },
         "zeroline": false
        }
       }
      },
      "text/html": [
       "<div>\n",
       "        \n",
       "        \n",
       "            <div id=\"d2f91451-ea59-4160-9e0c-5c7a0dd068e7\" class=\"plotly-graph-div\" style=\"height:500px; width:900px;\"></div>\n",
       "            <script type=\"text/javascript\">\n",
       "                require([\"plotly\"], function(Plotly) {\n",
       "                    window.PLOTLYENV=window.PLOTLYENV || {};\n",
       "                    \n",
       "                if (document.getElementById(\"d2f91451-ea59-4160-9e0c-5c7a0dd068e7\")) {\n",
       "                    Plotly.newPlot(\n",
       "                        'd2f91451-ea59-4160-9e0c-5c7a0dd068e7',\n",
       "                        [{\"line\": {\"color\": \"rgb(0, 0, 0)\", \"width\": 2}, \"mode\": \"lines\", \"name\": \"heading\", \"type\": \"scatter\", \"x\": [0.0, 0.1, 0.2, 0.3, 0.4, 0.5, 0.6, 0.7, 0.8, 0.9, 1.0, 1.1, 1.2, 1.3, 1.4, 1.5, 1.6, 1.7, 1.8, 1.9, 2.0, 2.1, 2.2, 2.3, 2.4, 2.5, 2.6, 2.7, 2.8, 2.9, 3.0, 3.1, 3.2, 3.3, 3.4, 3.5, 3.6, 3.7, 3.8, 3.9, 4.0, 4.1, 4.2, 4.3, 4.4, 4.5, 4.6, 4.7, 4.8, 4.9, 5.0], \"xaxis\": \"x\", \"y\": [0.0, 0.0, 0.0, 0.0, 0.0, 0.0, 0.0, 0.0, 0.0, 0.0, 0.0, 0.0, 0.0, 0.0, 0.0, 0.0, 0.0, 0.0, -1.6744925418090705e-17, 4.305837964651895e-17, 1.5907679147186168e-16, -1.4711613045893977e-16, -1.4699652384881054e-15, -7.193141533171249e-15, -2.3552933666645866e-14, -5.6565554128411685e-14, -1.346555138156777e-13, -3.7380414650464654e-13, -9.505783182663758e-13, -2.0533871456408167e-12, -4.757973676196268e-12, -1.3129219986016607e-11, -3.318456692448759e-11, -7.152530663587805e-11, -1.6577612276232124e-10, -4.5736597703805325e-10, -1.155640554974747e-09, -2.4906985424187698e-09, -5.773130384125097e-09, -1.5927832102687033e-08, -4.0244796815395236e-08, -8.67377253646628e-08, -2.0104850385968337e-07, -5.546853917153648e-07, -1.4015208260702629e-06, -3.020632528063002e-06, -7.0014970053080395e-06, -1.9316873703626496e-05, -4.8807847696449536e-05, -0.00010519328093253137, -0.0002438265588219005], \"yaxis\": \"y\"}, {\"line\": {\"color\": \"rgb(0, 255, 0)\", \"width\": 2}, \"mode\": \"lines\", \"name\": \"omega\", \"type\": \"scatter\", \"x\": [0.0, 0.1, 0.2, 0.3, 0.4, 0.5, 0.6, 0.7, 0.8, 0.9, 1.0, 1.1, 1.2, 1.3, 1.4, 1.5, 1.6, 1.7, 1.8, 1.9, 2.0, 2.1, 2.2, 2.3, 2.4, 2.5, 2.6, 2.7, 2.8, 2.9, 3.0, 3.1, 3.2, 3.3, 3.4, 3.5, 3.6, 3.7, 3.8, 3.9, 4.0, 4.1, 4.2, 4.3, 4.4, 4.5, 4.6, 4.7, 4.8, 4.9, 5.0], \"xaxis\": \"x2\", \"y\": [0.0, 0.0, 0.0, 0.0, 0.0, 0.0, 0.0, 0.0, 0.0, 0.0, 0.0, 0.0, 0.0, 0.0, 0.0, 0.0, 0.0, 0.0, -3.3489850836181407e-16, 1.530964609654007e-15, 7.89403626852847e-16, -6.9132620654688755e-15, -1.9543720095114433e-14, -9.491980579854844e-14, -2.322760368709439e-13, -4.2797637236437254e-13, -1.1338228213809474e-12, -3.64914983239843e-12, -7.886333602836152e-12, -1.4169842944652661e-11, -3.9921887666456376e-11, -1.2750303852995035e-10, -2.7360390023946927e-10, -4.932108939883399e-10, -1.3918054285405236e-09, -4.439991656974115e-09, -9.525499901759764e-09, -1.7175659847120693e-08, -4.847297698700583e-08, -1.546210573842329e-07, -3.317182368699311e-07, -5.981403341154201e-07, -1.6880752357849918e-06, -5.384662521328637e-06, -1.1552046165769325e-05, -2.0830187874085462e-05, -5.878710167081528e-05, -0.00018752043229555384, -0.00040229904756090715, -0.0007254096171607294, -0.0020472559406266525], \"yaxis\": \"y2\"}, {\"line\": {\"color\": \"rgb(204, 0, 0)\", \"width\": 2}, \"mode\": \"lines\", \"name\": \"alpha\", \"type\": \"scatter\", \"x\": [0.0, 0.1, 0.2, 0.3, 0.4, 0.5, 0.6, 0.7, 0.8, 0.9, 1.0, 1.1, 1.2, 1.3, 1.4, 1.5, 1.6, 1.7, 1.8, 1.9, 2.0, 2.1, 2.2, 2.3, 2.4, 2.5, 2.6, 2.7, 2.8, 2.9, 3.0, 3.1, 3.2, 3.3, 3.4, 3.5, 3.6, 3.7, 3.8, 3.9, 4.0, 4.1, 4.2, 4.3, 4.4, 4.5, 4.6, 4.7, 4.8, 4.9, 5.0], \"xaxis\": \"x2\", \"y\": [0.0, 0.0, 0.0, 0.0, 0.0, 0.0, 0.0, 0.0, 0.0, 0.0, 0.0, 0.0, 0.0, 0.0, 0.0, 0.0, 0.0, 0.0, -6.697970167236281e-15, 4.40152325275527e-14, -5.88464521835759e-14, -9.520686166285856e-14, -1.574022989300526e-13, -1.3501194151386274e-12, -1.3970052063092815e-12, -2.5170015035592907e-12, -1.1599927476772205e-11, -3.8706612743577426e-11, -4.603706266517702e-11, -7.963312417115318e-11, -4.354077702649211e-10, -1.3162152470049585e-09, -1.605801987185419e-09, -2.7863378877919936e-09, -1.5185552803251684e-08, -4.5778171765420125e-08, -5.59319931302928e-08, -9.707120577692572e-08, -5.288751370207769e-07, -1.594086470923765e-06, -1.9478571187901997e-06, -3.3805848261195795e-06, -1.8418113207271854e-05, -5.551363250360104e-05, -6.783404038521274e-05, -0.00011772879378111002, -0.0006414094821534862, -0.001933257130341285, -0.002362315174965781, -0.004099896217030665, -0.022337030252287792], \"yaxis\": \"y2\"}],\n",
       "                        {\"autosize\": false, \"font\": {\"color\": \"black\", \"family\": \"Arial\", \"size\": 14}, \"height\": 500, \"legend\": {\"orientation\": \"h\", \"x\": 0.01, \"xanchor\": \"left\", \"y\": 1.1, \"yanchor\": \"top\"}, \"template\": {\"data\": {\"bar\": [{\"error_x\": {\"color\": \"#2a3f5f\"}, \"error_y\": {\"color\": \"#2a3f5f\"}, \"marker\": {\"line\": {\"color\": \"white\", \"width\": 0.5}}, \"type\": \"bar\"}], \"barpolar\": [{\"marker\": {\"line\": {\"color\": \"white\", \"width\": 0.5}}, \"type\": \"barpolar\"}], \"carpet\": [{\"aaxis\": {\"endlinecolor\": \"#2a3f5f\", \"gridcolor\": \"#C8D4E3\", \"linecolor\": \"#C8D4E3\", \"minorgridcolor\": \"#C8D4E3\", \"startlinecolor\": \"#2a3f5f\"}, \"baxis\": {\"endlinecolor\": \"#2a3f5f\", \"gridcolor\": \"#C8D4E3\", \"linecolor\": \"#C8D4E3\", \"minorgridcolor\": \"#C8D4E3\", \"startlinecolor\": \"#2a3f5f\"}, \"type\": \"carpet\"}], \"choropleth\": [{\"colorbar\": {\"outlinewidth\": 0, \"ticks\": \"\"}, \"type\": \"choropleth\"}], \"contour\": [{\"colorbar\": {\"outlinewidth\": 0, \"ticks\": \"\"}, \"colorscale\": [[0.0, \"#0d0887\"], [0.1111111111111111, \"#46039f\"], [0.2222222222222222, \"#7201a8\"], [0.3333333333333333, \"#9c179e\"], [0.4444444444444444, \"#bd3786\"], [0.5555555555555556, \"#d8576b\"], [0.6666666666666666, \"#ed7953\"], [0.7777777777777778, \"#fb9f3a\"], [0.8888888888888888, \"#fdca26\"], [1.0, \"#f0f921\"]], \"type\": \"contour\"}], \"contourcarpet\": [{\"colorbar\": {\"outlinewidth\": 0, \"ticks\": \"\"}, \"type\": \"contourcarpet\"}], \"heatmap\": [{\"colorbar\": {\"outlinewidth\": 0, \"ticks\": \"\"}, \"colorscale\": [[0.0, \"#0d0887\"], [0.1111111111111111, \"#46039f\"], [0.2222222222222222, \"#7201a8\"], [0.3333333333333333, \"#9c179e\"], [0.4444444444444444, \"#bd3786\"], [0.5555555555555556, \"#d8576b\"], [0.6666666666666666, \"#ed7953\"], [0.7777777777777778, \"#fb9f3a\"], [0.8888888888888888, \"#fdca26\"], [1.0, \"#f0f921\"]], \"type\": \"heatmap\"}], \"heatmapgl\": [{\"colorbar\": {\"outlinewidth\": 0, \"ticks\": \"\"}, \"colorscale\": [[0.0, \"#0d0887\"], [0.1111111111111111, \"#46039f\"], [0.2222222222222222, \"#7201a8\"], [0.3333333333333333, \"#9c179e\"], [0.4444444444444444, \"#bd3786\"], [0.5555555555555556, \"#d8576b\"], [0.6666666666666666, \"#ed7953\"], [0.7777777777777778, \"#fb9f3a\"], [0.8888888888888888, \"#fdca26\"], [1.0, \"#f0f921\"]], \"type\": \"heatmapgl\"}], \"histogram\": [{\"marker\": {\"colorbar\": {\"outlinewidth\": 0, \"ticks\": \"\"}}, \"type\": \"histogram\"}], \"histogram2d\": [{\"colorbar\": {\"outlinewidth\": 0, \"ticks\": \"\"}, \"colorscale\": [[0.0, \"#0d0887\"], [0.1111111111111111, \"#46039f\"], [0.2222222222222222, \"#7201a8\"], [0.3333333333333333, \"#9c179e\"], [0.4444444444444444, \"#bd3786\"], [0.5555555555555556, \"#d8576b\"], [0.6666666666666666, \"#ed7953\"], [0.7777777777777778, \"#fb9f3a\"], [0.8888888888888888, \"#fdca26\"], [1.0, \"#f0f921\"]], \"type\": \"histogram2d\"}], \"histogram2dcontour\": [{\"colorbar\": {\"outlinewidth\": 0, \"ticks\": \"\"}, \"colorscale\": [[0.0, \"#0d0887\"], [0.1111111111111111, \"#46039f\"], [0.2222222222222222, \"#7201a8\"], [0.3333333333333333, \"#9c179e\"], [0.4444444444444444, \"#bd3786\"], [0.5555555555555556, \"#d8576b\"], [0.6666666666666666, \"#ed7953\"], [0.7777777777777778, \"#fb9f3a\"], [0.8888888888888888, \"#fdca26\"], [1.0, \"#f0f921\"]], \"type\": \"histogram2dcontour\"}], \"mesh3d\": [{\"colorbar\": {\"outlinewidth\": 0, \"ticks\": \"\"}, \"type\": \"mesh3d\"}], \"parcoords\": [{\"line\": {\"colorbar\": {\"outlinewidth\": 0, \"ticks\": \"\"}}, \"type\": \"parcoords\"}], \"pie\": [{\"automargin\": true, \"type\": \"pie\"}], \"scatter\": [{\"marker\": {\"colorbar\": {\"outlinewidth\": 0, \"ticks\": \"\"}}, \"type\": \"scatter\"}], \"scatter3d\": [{\"line\": {\"colorbar\": {\"outlinewidth\": 0, \"ticks\": \"\"}}, \"marker\": {\"colorbar\": {\"outlinewidth\": 0, \"ticks\": \"\"}}, \"type\": \"scatter3d\"}], \"scattercarpet\": [{\"marker\": {\"colorbar\": {\"outlinewidth\": 0, \"ticks\": \"\"}}, \"type\": \"scattercarpet\"}], \"scattergeo\": [{\"marker\": {\"colorbar\": {\"outlinewidth\": 0, \"ticks\": \"\"}}, \"type\": \"scattergeo\"}], \"scattergl\": [{\"marker\": {\"colorbar\": {\"outlinewidth\": 0, \"ticks\": \"\"}}, \"type\": \"scattergl\"}], \"scattermapbox\": [{\"marker\": {\"colorbar\": {\"outlinewidth\": 0, \"ticks\": \"\"}}, \"type\": \"scattermapbox\"}], \"scatterpolar\": [{\"marker\": {\"colorbar\": {\"outlinewidth\": 0, \"ticks\": \"\"}}, \"type\": \"scatterpolar\"}], \"scatterpolargl\": [{\"marker\": {\"colorbar\": {\"outlinewidth\": 0, \"ticks\": \"\"}}, \"type\": \"scatterpolargl\"}], \"scatterternary\": [{\"marker\": {\"colorbar\": {\"outlinewidth\": 0, \"ticks\": \"\"}}, \"type\": \"scatterternary\"}], \"surface\": [{\"colorbar\": {\"outlinewidth\": 0, \"ticks\": \"\"}, \"colorscale\": [[0.0, \"#0d0887\"], [0.1111111111111111, \"#46039f\"], [0.2222222222222222, \"#7201a8\"], [0.3333333333333333, \"#9c179e\"], [0.4444444444444444, \"#bd3786\"], [0.5555555555555556, \"#d8576b\"], [0.6666666666666666, \"#ed7953\"], [0.7777777777777778, \"#fb9f3a\"], [0.8888888888888888, \"#fdca26\"], [1.0, \"#f0f921\"]], \"type\": \"surface\"}], \"table\": [{\"cells\": {\"fill\": {\"color\": \"#EBF0F8\"}, \"line\": {\"color\": \"white\"}}, \"header\": {\"fill\": {\"color\": \"#C8D4E3\"}, \"line\": {\"color\": \"white\"}}, \"type\": \"table\"}]}, \"layout\": {\"annotationdefaults\": {\"arrowcolor\": \"#2a3f5f\", \"arrowhead\": 0, \"arrowwidth\": 1}, \"coloraxis\": {\"colorbar\": {\"outlinewidth\": 0, \"ticks\": \"\"}}, \"colorscale\": {\"diverging\": [[0, \"#8e0152\"], [0.1, \"#c51b7d\"], [0.2, \"#de77ae\"], [0.3, \"#f1b6da\"], [0.4, \"#fde0ef\"], [0.5, \"#f7f7f7\"], [0.6, \"#e6f5d0\"], [0.7, \"#b8e186\"], [0.8, \"#7fbc41\"], [0.9, \"#4d9221\"], [1, \"#276419\"]], \"sequential\": [[0.0, \"#0d0887\"], [0.1111111111111111, \"#46039f\"], [0.2222222222222222, \"#7201a8\"], [0.3333333333333333, \"#9c179e\"], [0.4444444444444444, \"#bd3786\"], [0.5555555555555556, \"#d8576b\"], [0.6666666666666666, \"#ed7953\"], [0.7777777777777778, \"#fb9f3a\"], [0.8888888888888888, \"#fdca26\"], [1.0, \"#f0f921\"]], \"sequentialminus\": [[0.0, \"#0d0887\"], [0.1111111111111111, \"#46039f\"], [0.2222222222222222, \"#7201a8\"], [0.3333333333333333, \"#9c179e\"], [0.4444444444444444, \"#bd3786\"], [0.5555555555555556, \"#d8576b\"], [0.6666666666666666, \"#ed7953\"], [0.7777777777777778, \"#fb9f3a\"], [0.8888888888888888, \"#fdca26\"], [1.0, \"#f0f921\"]]}, \"colorway\": [\"#636efa\", \"#EF553B\", \"#00cc96\", \"#ab63fa\", \"#FFA15A\", \"#19d3f3\", \"#FF6692\", \"#B6E880\", \"#FF97FF\", \"#FECB52\"], \"font\": {\"color\": \"#2a3f5f\"}, \"geo\": {\"bgcolor\": \"white\", \"lakecolor\": \"white\", \"landcolor\": \"white\", \"showlakes\": true, \"showland\": true, \"subunitcolor\": \"#C8D4E3\"}, \"hoverlabel\": {\"align\": \"left\"}, \"hovermode\": \"closest\", \"mapbox\": {\"style\": \"light\"}, \"paper_bgcolor\": \"white\", \"plot_bgcolor\": \"white\", \"polar\": {\"angularaxis\": {\"gridcolor\": \"#EBF0F8\", \"linecolor\": \"#EBF0F8\", \"ticks\": \"\"}, \"bgcolor\": \"white\", \"radialaxis\": {\"gridcolor\": \"#EBF0F8\", \"linecolor\": \"#EBF0F8\", \"ticks\": \"\"}}, \"scene\": {\"xaxis\": {\"backgroundcolor\": \"white\", \"gridcolor\": \"#DFE8F3\", \"gridwidth\": 2, \"linecolor\": \"#EBF0F8\", \"showbackground\": true, \"ticks\": \"\", \"zerolinecolor\": \"#EBF0F8\"}, \"yaxis\": {\"backgroundcolor\": \"white\", \"gridcolor\": \"#DFE8F3\", \"gridwidth\": 2, \"linecolor\": \"#EBF0F8\", \"showbackground\": true, \"ticks\": \"\", \"zerolinecolor\": \"#EBF0F8\"}, \"zaxis\": {\"backgroundcolor\": \"white\", \"gridcolor\": \"#DFE8F3\", \"gridwidth\": 2, \"linecolor\": \"#EBF0F8\", \"showbackground\": true, \"ticks\": \"\", \"zerolinecolor\": \"#EBF0F8\"}}, \"shapedefaults\": {\"line\": {\"color\": \"#2a3f5f\"}}, \"ternary\": {\"aaxis\": {\"gridcolor\": \"#DFE8F3\", \"linecolor\": \"#A2B1C6\", \"ticks\": \"\"}, \"baxis\": {\"gridcolor\": \"#DFE8F3\", \"linecolor\": \"#A2B1C6\", \"ticks\": \"\"}, \"bgcolor\": \"white\", \"caxis\": {\"gridcolor\": \"#DFE8F3\", \"linecolor\": \"#A2B1C6\", \"ticks\": \"\"}}, \"title\": {\"x\": 0.05}, \"xaxis\": {\"automargin\": true, \"gridcolor\": \"#EBF0F8\", \"linecolor\": \"#EBF0F8\", \"ticks\": \"\", \"title\": {\"standoff\": 15}, \"zerolinecolor\": \"#EBF0F8\", \"zerolinewidth\": 2}, \"yaxis\": {\"automargin\": true, \"gridcolor\": \"#EBF0F8\", \"linecolor\": \"#EBF0F8\", \"ticks\": \"\", \"title\": {\"standoff\": 15}, \"zerolinecolor\": \"#EBF0F8\", \"zerolinewidth\": 2}}}, \"title\": {\"text\": \"Veh1 Heading and Rotation\"}, \"width\": 900, \"xaxis\": {\"anchor\": \"y\", \"domain\": [0.0, 1.0], \"linecolor\": \"black\", \"linewidth\": 1, \"matches\": \"x2\", \"showgrid\": false, \"showline\": true, \"showticklabels\": false, \"tickcolor\": \"black\", \"ticklen\": 10, \"ticks\": \"outside\", \"tickwidth\": 1, \"title\": {\"text\": \"\"}, \"zeroline\": false}, \"xaxis2\": {\"anchor\": \"y2\", \"domain\": [0.0, 1.0], \"linecolor\": \"black\", \"linewidth\": 1, \"showgrid\": false, \"showline\": true, \"tickcolor\": \"black\", \"ticklen\": 10, \"ticks\": \"outside\", \"tickwidth\": 1, \"title\": {\"text\": \"Time (s)\"}, \"zeroline\": false}, \"yaxis\": {\"anchor\": \"x\", \"domain\": [0.5349999999999999, 0.9999999999999999], \"linecolor\": \"black\", \"linewidth\": 1, \"showgrid\": false, \"showline\": true, \"tickcolor\": \"black\", \"ticklen\": 10, \"ticks\": \"outside\", \"tickwidth\": 1, \"title\": {\"text\": \"Heading (deg)\"}, \"zeroline\": false}, \"yaxis2\": {\"anchor\": \"x2\", \"domain\": [0.0, 0.46499999999999997], \"linecolor\": \"black\", \"linewidth\": 1, \"showgrid\": false, \"showline\": true, \"tickcolor\": \"black\", \"ticklen\": 10, \"ticks\": \"outside\", \"tickwidth\": 1, \"title\": {\"text\": \"Omega (deg/s), Alpha (deg/s/s)\"}, \"zeroline\": false}},\n",
       "                        {\"responsive\": true}\n",
       "                    ).then(function(){\n",
       "                            \n",
       "var gd = document.getElementById('d2f91451-ea59-4160-9e0c-5c7a0dd068e7');\n",
       "var x = new MutationObserver(function (mutations, observer) {{\n",
       "        var display = window.getComputedStyle(gd).display;\n",
       "        if (!display || display === 'none') {{\n",
       "            console.log([gd, 'removed!']);\n",
       "            Plotly.purge(gd);\n",
       "            observer.disconnect();\n",
       "        }}\n",
       "}});\n",
       "\n",
       "// Listen for the removal of the full notebook cells\n",
       "var notebookContainer = gd.closest('#notebook-container');\n",
       "if (notebookContainer) {{\n",
       "    x.observe(notebookContainer, {childList: true});\n",
       "}}\n",
       "\n",
       "// Listen for the clearing of the current output cell\n",
       "var outputEl = gd.closest('.output');\n",
       "if (outputEl) {{\n",
       "    x.observe(outputEl, {childList: true});\n",
       "}}\n",
       "\n",
       "                        })\n",
       "                };\n",
       "                });\n",
       "            </script>\n",
       "        </div>"
      ]
     },
     "metadata": {},
     "output_type": "display_data"
    }
   ],
   "source": [
    "# %% vehicle motion\n",
    "motion = pycrash.SingleMotion('motion1', veh1)\n",
    "motion.plot_model()"
   ]
  },
  {
   "cell_type": "code",
   "execution_count": 47,
   "metadata": {},
   "outputs": [
    {
     "data": {
      "text/plain": [
       "1.291784757680855"
      ]
     },
     "execution_count": 47,
     "metadata": {},
     "output_type": "execute_result"
    }
   ],
   "source": [
    "np.arctan2(3.8532868049025195, 1.103906819280806)"
   ]
  },
  {
   "cell_type": "code",
   "execution_count": 8,
   "metadata": {},
   "outputs": [
    {
     "data": {
      "image/png": "[encoded data removed]",
      "text/plain": [
       "<Figure size 1152x648 with 1 Axes>"
      ]
     },
     "metadata": {
      "needs_background": "light"
     },
     "output_type": "display_data"
    }
   ],
   "source": [
    "motion.CG_motion()"
   ]
  },
  {
   "cell_type": "code",
   "execution_count": 50,
   "metadata": {},
   "outputs": [
    {
     "data": {
      "application/vnd.plotly.v1+json": {
       "config": {
        "plotlyServerURL": "https://plot.ly"
       },
       "data": [
        {
         "line": {
          "color": "rgb(0, 0, 0)",
          "width": 2
         },
         "mode": "lines",
         "name": "body",
         "type": "scatter",
         "x": [
          18.31697723324205,
          18.31700276669958,
          -0.8229972331271078,
          -0.8230227665846392,
          18.31697723324205
         ],
         "y": [
          -3.000001541793048,
          2.9999984581526222,
          3.0000799098821473,
          -2.999920090063523,
          -3.000001541793048
         ]
        },
        {
         "line": {
          "color": "rgb(0, 0, 255)",
          "width": 1
         },
         "mode": "lines",
         "name": "LF",
         "type": "scatter",
         "x": [
          16.475310566758722,
          16.47531425492481,
          13.758647587949412,
          13.758643899783323,
          16.475310566758722
         ],
         "y": [
          -2.999993704440112,
          -2.13332703744796,
          -2.1333154764657984,
          -2.9999821434579506,
          -2.999993704440112
         ]
        },
        {
         "line": {
          "color": "rgb(0, 255, 0)",
          "width": 1
         },
         "mode": "lines",
         "name": "RF",
         "type": "scatter",
         "x": [
          16.475332412050165,
          16.475336100216253,
          13.758669433240854,
          13.758665745074765,
          16.475332412050165
         ],
         "y": [
          2.133339628513406,
          3.000006295505558,
          3.0000178564877196,
          2.1333511894955675,
          2.133339628513406
         ]
        },
        {
         "line": {
          "color": "rgb(153, 0, 204)",
          "width": 1
         },
         "mode": "lines",
         "name": "RR",
         "type": "scatter",
         "x": [
          4.635332412157378,
          4.6353361003234665,
          1.9186694333480663,
          1.918665745181977,
          4.635332412157378
         ],
         "y": [
          2.1333900145362676,
          3.00005668152842,
          3.0000682425105816,
          2.133401575518429,
          2.1333900145362676
         ]
        },
        {
         "line": {
          "color": "rgb(255, 102, 0)",
          "width": 1
         },
         "mode": "lines",
         "name": "LR",
         "type": "scatter",
         "x": [
          4.635310566865935,
          4.635314255032024,
          1.918647588056624,
          1.9186438998905349,
          4.635310566865935
         ],
         "y": [
          -2.99994331841725,
          -2.1332766514250974,
          -2.133265090442936,
          -2.9999317574350886,
          -2.99994331841725
         ]
        },
        {
         "marker": {
          "color": "rgb(0, 0, 0)",
          "size": 20
         },
         "mode": "markers",
         "name": "CG",
         "type": "scatter",
         "x": [
          10.236990000043978,
          10.236990000043978
         ],
         "y": [
          3.284323592934065e-05,
          3.284323592934065e-05
         ]
        },
        {
         "marker": {
          "color": "rgb(0, 0, 255)",
          "size": 5,
          "symbol": [
           "circle",
           "circle",
           "circle",
           "circle",
           "circle",
           "circle",
           "circle",
           "circle",
           "circle",
           "circle",
           "circle",
           "circle",
           "circle",
           "circle",
           "circle",
           "circle",
           "circle",
           "circle",
           "circle",
           "circle",
           "circle",
           "circle",
           "circle",
           "circle",
           "circle",
           "circle",
           "circle",
           "circle",
           "circle",
           "circle",
           "circle",
           "circle",
           "circle",
           "circle",
           "circle",
           "circle",
           "circle",
           "circle",
           "circle",
           "circle",
           "circle",
           "circle",
           "circle",
           "circle",
           "circle",
           "circle",
           "circle",
           "circle",
           "circle",
           "circle"
          ]
         },
         "mode": "markers",
         "name": "LF",
         "type": "scatter",
         "x": [
          4.88,
          5.613335,
          6.345221,
          7.07276,
          7.791605,
          8.49596,
          9.180029,
          9.838016,
          10.464125,
          11.05256,
          11.597524999999997,
          12.093224,
          12.533860999999998,
          12.913639999999997,
          13.226764999999997,
          13.467439999999996,
          13.629868999999996,
          13.708255999999995,
          13.746070999999997,
          13.789681999999996,
          13.833292999999998,
          13.871107999999996,
          13.908922999999998,
          13.952533999999996,
          13.996144999999997,
          14.033959999999995,
          14.071774999999993,
          14.11393699999998,
          14.157547999999956,
          14.201158999999905,
          14.244769999999786,
          14.28838099999941,
          14.331991999998513,
          14.375602999996794,
          14.419213999992573,
          14.46282499997951,
          14.506435999948232,
          14.550046999888425,
          14.593657999741383,
          14.637268999286484,
          14.680879998197165,
          14.72449099611443,
          14.768101990993676,
          14.81171297515188,
          14.855323937216378,
          14.898934864685378,
          14.942545686355452,
          14.986156134666423,
          15.029765813565952,
          15.073374287678165
         ],
         "y": [
          -2.5666666665,
          -2.5666666665,
          -2.5666666665,
          -2.5666666665,
          -2.5666666665,
          -2.5666666665,
          -2.5666666665,
          -2.5666666665,
          -2.5666666665,
          -2.5666666665,
          -2.5666666665,
          -2.5666666665,
          -2.5666666665,
          -2.5666666665,
          -2.5666666665,
          -2.5666666665,
          -2.5666666665,
          -2.5666666665,
          -2.5666666665,
          -2.5666666665,
          -2.5666666665,
          -2.5666666665,
          -2.5666666664999997,
          -2.5666666664999993,
          -2.5666666664999984,
          -2.5666666664999966,
          -2.566666666499993,
          -2.566666666499974,
          -2.566666666499935,
          -2.566666666499879,
          -2.5666666664997644,
          -2.5666666664991027,
          -2.566666666497736,
          -2.566666666495762,
          -2.5666666664917916,
          -2.5666666664687465,
          -2.5666666664210953,
          -2.566666666352331,
          -2.5666666662140805,
          -2.566666665411514,
          -2.566666663751977,
          -2.566666661357208,
          -2.5666666565426666,
          -2.566666628593304,
          -2.5666665707998555,
          -2.566666487402052,
          -2.566666319736077,
          -2.5666653464015226,
          -2.5666633337481093,
          -2.566660429422656
         ]
        },
        {
         "marker": {
          "color": "rgb(0, 255, 0)",
          "size": 5,
          "symbol": [
           "circle",
           "circle",
           "circle",
           "circle",
           "circle",
           "circle",
           "circle",
           "circle",
           "circle",
           "circle",
           "circle",
           "circle",
           "circle",
           "circle",
           "circle",
           "circle",
           "circle",
           "circle",
           "circle",
           "circle",
           "circle",
           "circle",
           "circle",
           "circle",
           "circle",
           "circle",
           "circle",
           "circle",
           "circle",
           "circle",
           "circle",
           "circle",
           "circle",
           "circle",
           "circle",
           "circle",
           "circle",
           "circle",
           "circle",
           "circle",
           "circle",
           "circle",
           "circle",
           "circle",
           "circle",
           "circle",
           "circle",
           "circle",
           "circle",
           "circle"
          ]
         },
         "mode": "markers",
         "name": "RF",
         "type": "scatter",
         "x": [
          4.88,
          5.613335,
          6.345221,
          7.07276,
          7.791605,
          8.49596,
          9.180029,
          9.838016,
          10.464125,
          11.05256,
          11.597524999999997,
          12.093224,
          12.533860999999998,
          12.913639999999997,
          13.226764999999997,
          13.467439999999996,
          13.629868999999996,
          13.708255999999995,
          13.746070999999997,
          13.789681999999996,
          13.833292999999998,
          13.871107999999996,
          13.908922999999998,
          13.952533999999996,
          13.996145,
          14.033959999999999,
          14.071775000000004,
          14.113937000000012,
          14.157548000000041,
          14.20115900000009,
          14.244770000000212,
          14.288381000000586,
          14.331992000001486,
          14.375603000003203,
          14.419214000007427,
          14.462825000020487,
          14.50643600005177,
          14.550047000111574,
          14.59365800025862,
          14.637269000713516,
          14.680880001802839,
          14.724491003885571,
          14.768102009006329,
          14.811713024848123,
          14.855324062783628,
          14.898935135314625,
          14.942546313644552,
          14.986157865334064,
          15.029770186435186,
          15.07338371231956
         ],
         "y": [
          2.5666666665,
          2.5666666665,
          2.5666666665,
          2.5666666665,
          2.5666666665,
          2.5666666665,
          2.5666666665,
          2.5666666665,
          2.5666666665,
          2.5666666665,
          2.5666666665,
          2.5666666665,
          2.5666666665,
          2.5666666665,
          2.5666666665,
          2.5666666665,
          2.5666666665,
          2.5666666665,
          2.5666666665,
          2.5666666665,
          2.5666666665,
          2.5666666665,
          2.5666666665000006,
          2.566666666500001,
          2.566666666500002,
          2.5666666665000037,
          2.5666666665000073,
          2.5666666665000264,
          2.5666666665000655,
          2.5666666665001214,
          2.566666666500236,
          2.5666666665008977,
          2.5666666665022646,
          2.5666666665042386,
          2.5666666665082087,
          2.566666666531254,
          2.566666666578905,
          2.566666666647669,
          2.56666666678592,
          2.5666666675884864,
          2.5666666692480233,
          2.5666666716427926,
          2.566666676457334,
          2.566666704406696,
          2.566666762200143,
          2.566666845597941,
          2.5666670132638854,
          2.5666679865981856,
          2.5666699992500286,
          2.566672903568693
         ]
        },
        {
         "marker": {
          "color": "rgb(153, 0, 204)",
          "size": 5,
          "symbol": [
           "circle",
           "circle",
           "circle",
           "circle",
           "circle",
           "circle",
           "circle",
           "circle",
           "circle",
           "circle",
           "circle",
           "circle",
           "circle",
           "circle",
           "circle",
           "circle",
           "circle",
           "circle",
           "circle",
           "circle",
           "circle",
           "circle",
           "circle",
           "circle",
           "circle",
           "circle",
           "circle",
           "circle",
           "circle",
           "circle",
           "circle",
           "circle",
           "circle",
           "circle",
           "circle",
           "circle",
           "circle",
           "circle",
           "circle",
           "circle",
           "circle",
           "circle",
           "circle",
           "circle",
           "circle",
           "circle",
           "circle",
           "circle",
           "circle",
           "circle"
          ]
         },
         "mode": "markers",
         "name": "RR",
         "type": "scatter",
         "x": [
          -6.96,
          -6.226665,
          -5.494779,
          -4.76724,
          -4.048395,
          -3.3440400000000006,
          -2.6599710000000005,
          -2.001984000000001,
          -1.3758750000000006,
          -0.787440000000001,
          -0.24247500000000155,
          0.25322399999999856,
          0.6938609999999983,
          1.0736399999999984,
          1.3867649999999978,
          1.6274399999999973,
          1.7898689999999968,
          1.8682559999999961,
          1.9060709999999963,
          1.9496819999999966,
          1.9932929999999969,
          2.031107999999997,
          2.068922999999997,
          2.112533999999998,
          2.1561449999999986,
          2.1939600000000006,
          2.2317750000000043,
          2.2739370000000143,
          2.3175480000000404,
          2.36115900000009,
          2.4047700000002115,
          2.4483810000005866,
          2.4919920000014852,
          2.5356030000032033,
          2.5792140000074255,
          2.6228250000204882,
          2.666436000051769,
          2.7100470001115755,
          2.753658000258618,
          2.7972690007135164,
          2.8408800018028386,
          2.8844910038855724,
          2.928102009006328,
          2.971713024848124,
          3.0153240627836326,
          3.0589351353146412,
          3.10254631364464,
          3.1461578653347386,
          3.189770186439482,
          3.233383712339516
         ],
         "y": [
          2.5666666665,
          2.5666666665,
          2.5666666665,
          2.5666666665,
          2.5666666665,
          2.5666666665,
          2.5666666665,
          2.5666666665,
          2.5666666665,
          2.5666666665,
          2.5666666665,
          2.5666666665,
          2.5666666665,
          2.5666666665,
          2.5666666665,
          2.5666666665,
          2.5666666665,
          2.5666666665,
          2.5666666665,
          2.5666666665,
          2.5666666665,
          2.5666666665,
          2.5666666665000006,
          2.5666666665000024,
          2.566666666500007,
          2.5666666665000153,
          2.566666666500035,
          2.5666666665001037,
          2.5666666665002618,
          2.566666666500546,
          2.566666666501219,
          2.5666666665036106,
          2.5666666665091222,
          2.566666666519019,
          2.566666666542466,
          2.566666666625767,
          2.566666666817715,
          2.5666666671623646,
          2.56666666797892,
          2.5666666708799246,
          2.566666677564489,
          2.566666689566882,
          2.5666667180034004,
          2.5666668190307593,
          2.566667051820194,
          2.566667469802541,
          2.566668460102121,
          2.5666719783718657,
          2.5666800852445233,
          2.5666946414428753
         ]
        },
        {
         "marker": {
          "color": "rgb(153, 0, 204)",
          "size": 5,
          "symbol": [
           "circle",
           "circle",
           "circle",
           "circle",
           "circle",
           "circle",
           "circle",
           "circle",
           "circle",
           "circle",
           "circle",
           "circle",
           "circle",
           "circle",
           "circle",
           "circle",
           "circle",
           "circle",
           "circle",
           "circle",
           "circle",
           "circle",
           "circle",
           "circle",
           "circle",
           "circle",
           "circle",
           "circle",
           "circle",
           "circle",
           "circle",
           "circle",
           "circle",
           "circle",
           "circle",
           "circle",
           "circle",
           "circle",
           "circle",
           "circle",
           "circle",
           "circle",
           "circle",
           "circle",
           "circle",
           "circle",
           "circle",
           "circle",
           "circle",
           "circle"
          ]
         },
         "mode": "markers",
         "name": "LR",
         "type": "scatter",
         "x": [
          -6.96,
          -6.226665,
          -5.494779,
          -4.76724,
          -4.048395,
          -3.3440400000000006,
          -2.6599710000000005,
          -2.001984000000001,
          -1.3758750000000006,
          -0.787440000000001,
          -0.24247500000000155,
          0.25322399999999856,
          0.6938609999999983,
          1.0736399999999984,
          1.3867649999999978,
          1.6274399999999973,
          1.7898689999999968,
          1.8682559999999961,
          1.9060709999999963,
          1.9496819999999966,
          1.9932929999999969,
          2.031107999999997,
          2.068922999999997,
          2.112533999999997,
          2.156144999999997,
          2.1939599999999952,
          2.231774999999992,
          2.2739369999999806,
          2.317547999999955,
          2.361158999999906,
          2.404769999999785,
          2.4483809999994106,
          2.4919919999985125,
          2.535602999996795,
          2.5792139999925734,
          2.6228249999795112,
          2.666435999948231,
          2.710046999888425,
          2.753657999741383,
          2.7972689992864854,
          2.8408799981971637,
          2.8844909961144305,
          2.9281019909936754,
          2.9717129751518803,
          3.015323937216381,
          3.058934864685394,
          3.10254568635554,
          3.1461561346670956,
          3.189765813570247,
          3.23337428769812
         ],
         "y": [
          -2.5666666665,
          -2.5666666665,
          -2.5666666665,
          -2.5666666665,
          -2.5666666665,
          -2.5666666665,
          -2.5666666665,
          -2.5666666665,
          -2.5666666665,
          -2.5666666665,
          -2.5666666665,
          -2.5666666665,
          -2.5666666665,
          -2.5666666665,
          -2.5666666665,
          -2.5666666665,
          -2.5666666665,
          -2.5666666665,
          -2.5666666665,
          -2.5666666665,
          -2.5666666665,
          -2.5666666665,
          -2.5666666664999997,
          -2.566666666499998,
          -2.5666666664999935,
          -2.566666666499985,
          -2.5666666664999656,
          -2.5666666664998967,
          -2.5666666664997386,
          -2.5666666664994544,
          -2.566666666498781,
          -2.5666666664963897,
          -2.566666666490878,
          -2.566666666480981,
          -2.5666666664575346,
          -2.5666666663742332,
          -2.5666666661822855,
          -2.566666665837636,
          -2.5666666650210805,
          -2.5666666621200758,
          -2.5666666554355113,
          -2.5666666434331185,
          -2.5666666149966,
          -2.566666513969241,
          -2.5666662811798044,
          -2.566665863197452,
          -2.5666648728978414,
          -2.5666613546278425,
          -2.5666532477536146,
          -2.5666386915484733
         ]
        }
       ],
       "layout": {
        "annotations": [
         {
          "arrowcolor": "rgb(255, 0, 0)",
          "arrowhead": 1,
          "arrowsize": 2.5,
          "arrowwidth": 1.7,
          "ax": 10.236990000043978,
          "axref": "x",
          "ay": 3.284323592934065e-05,
          "ayref": "y",
          "showarrow": true,
          "text": "",
          "x": 9.948600000977036,
          "xref": "x",
          "y": 0.000304253973474179,
          "yref": "y"
         },
         {
          "arrowcolor": "rgb(0, 0, 0)",
          "arrowhead": 1,
          "arrowsize": 2,
          "arrowwidth": 1.5,
          "ax": 10.236990000043978,
          "axref": "x",
          "ay": 3.284323592934065e-05,
          "ayref": "y",
          "showarrow": true,
          "text": "",
          "x": 19.81698999995723,
          "xref": "x",
          "y": 3.284323592934065e-05,
          "yref": "y"
         },
         {
          "arrowcolor": "rgb(0, 0, 255)",
          "arrowhead": 1,
          "arrowsize": 2,
          "arrowwidth": 1.5,
          "ax": 10.236990000043978,
          "axref": "x",
          "ay": 3.284323592934065e-05,
          "ayref": "y",
          "showarrow": true,
          "text": "",
          "x": 10.236990000043978,
          "xref": "x",
          "y": 1.9333661767184231,
          "yref": "y"
         }
        ],
        "autosize": false,
        "font": {
         "color": "black",
         "family": "Arial",
         "size": 16
        },
        "height": 450,
        "showlegend": false,
        "template": {
         "data": {
          "bar": [
           {
            "error_x": {
             "color": "#2a3f5f"
            },
            "error_y": {
             "color": "#2a3f5f"
            },
            "marker": {
             "line": {
              "color": "white",
              "width": 0.5
             }
            },
            "type": "bar"
           }
          ],
          "barpolar": [
           {
            "marker": {
             "line": {
              "color": "white",
              "width": 0.5
             }
            },
            "type": "barpolar"
           }
          ],
          "carpet": [
           {
            "aaxis": {
             "endlinecolor": "#2a3f5f",
             "gridcolor": "#C8D4E3",
             "linecolor": "#C8D4E3",
             "minorgridcolor": "#C8D4E3",
             "startlinecolor": "#2a3f5f"
            },
            "baxis": {
             "endlinecolor": "#2a3f5f",
             "gridcolor": "#C8D4E3",
             "linecolor": "#C8D4E3",
             "minorgridcolor": "#C8D4E3",
             "startlinecolor": "#2a3f5f"
            },
            "type": "carpet"
           }
          ],
          "choropleth": [
           {
            "colorbar": {
             "outlinewidth": 0,
             "ticks": ""
            },
            "type": "choropleth"
           }
          ],
          "contour": [
           {
            "colorbar": {
             "outlinewidth": 0,
             "ticks": ""
            },
            "colorscale": [
             [
              0,
              "#0d0887"
             ],
             [
              0.1111111111111111,
              "#46039f"
             ],
             [
              0.2222222222222222,
              "#7201a8"
             ],
             [
              0.3333333333333333,
              "#9c179e"
             ],
             [
              0.4444444444444444,
              "#bd3786"
             ],
             [
              0.5555555555555556,
              "#d8576b"
             ],
             [
              0.6666666666666666,
              "#ed7953"
             ],
             [
              0.7777777777777778,
              "#fb9f3a"
             ],
             [
              0.8888888888888888,
              "#fdca26"
             ],
             [
              1,
              "#f0f921"
             ]
            ],
            "type": "contour"
           }
          ],
          "contourcarpet": [
           {
            "colorbar": {
             "outlinewidth": 0,
             "ticks": ""
            },
            "type": "contourcarpet"
           }
          ],
          "heatmap": [
           {
            "colorbar": {
             "outlinewidth": 0,
             "ticks": ""
            },
            "colorscale": [
             [
              0,
              "#0d0887"
             ],
             [
              0.1111111111111111,
              "#46039f"
             ],
             [
              0.2222222222222222,
              "#7201a8"
             ],
             [
              0.3333333333333333,
              "#9c179e"
             ],
             [
              0.4444444444444444,
              "#bd3786"
             ],
             [
              0.5555555555555556,
              "#d8576b"
             ],
             [
              0.6666666666666666,
              "#ed7953"
             ],
             [
              0.7777777777777778,
              "#fb9f3a"
             ],
             [
              0.8888888888888888,
              "#fdca26"
             ],
             [
              1,
              "#f0f921"
             ]
            ],
            "type": "heatmap"
           }
          ],
          "heatmapgl": [
           {
            "colorbar": {
             "outlinewidth": 0,
             "ticks": ""
            },
            "colorscale": [
             [
              0,
              "#0d0887"
             ],
             [
              0.1111111111111111,
              "#46039f"
             ],
             [
              0.2222222222222222,
              "#7201a8"
             ],
             [
              0.3333333333333333,
              "#9c179e"
             ],
             [
              0.4444444444444444,
              "#bd3786"
             ],
             [
              0.5555555555555556,
              "#d8576b"
             ],
             [
              0.6666666666666666,
              "#ed7953"
             ],
             [
              0.7777777777777778,
              "#fb9f3a"
             ],
             [
              0.8888888888888888,
              "#fdca26"
             ],
             [
              1,
              "#f0f921"
             ]
            ],
            "type": "heatmapgl"
           }
          ],
          "histogram": [
           {
            "marker": {
             "colorbar": {
              "outlinewidth": 0,
              "ticks": ""
             }
            },
            "type": "histogram"
           }
          ],
          "histogram2d": [
           {
            "colorbar": {
             "outlinewidth": 0,
             "ticks": ""
            },
            "colorscale": [
             [
              0,
              "#0d0887"
             ],
             [
              0.1111111111111111,
              "#46039f"
             ],
             [
              0.2222222222222222,
              "#7201a8"
             ],
             [
              0.3333333333333333,
              "#9c179e"
             ],
             [
              0.4444444444444444,
              "#bd3786"
             ],
             [
              0.5555555555555556,
              "#d8576b"
             ],
             [
              0.6666666666666666,
              "#ed7953"
             ],
             [
              0.7777777777777778,
              "#fb9f3a"
             ],
             [
              0.8888888888888888,
              "#fdca26"
             ],
             [
              1,
              "#f0f921"
             ]
            ],
            "type": "histogram2d"
           }
          ],
          "histogram2dcontour": [
           {
            "colorbar": {
             "outlinewidth": 0,
             "ticks": ""
            },
            "colorscale": [
             [
              0,
              "#0d0887"
             ],
             [
              0.1111111111111111,
              "#46039f"
             ],
             [
              0.2222222222222222,
              "#7201a8"
             ],
             [
              0.3333333333333333,
              "#9c179e"
             ],
             [
              0.4444444444444444,
              "#bd3786"
             ],
             [
              0.5555555555555556,
              "#d8576b"
             ],
             [
              0.6666666666666666,
              "#ed7953"
             ],
             [
              0.7777777777777778,
              "#fb9f3a"
             ],
             [
              0.8888888888888888,
              "#fdca26"
             ],
             [
              1,
              "#f0f921"
             ]
            ],
            "type": "histogram2dcontour"
           }
          ],
          "mesh3d": [
           {
            "colorbar": {
             "outlinewidth": 0,
             "ticks": ""
            },
            "type": "mesh3d"
           }
          ],
          "parcoords": [
           {
            "line": {
             "colorbar": {
              "outlinewidth": 0,
              "ticks": ""
             }
            },
            "type": "parcoords"
           }
          ],
          "pie": [
           {
            "automargin": true,
            "type": "pie"
           }
          ],
          "scatter": [
           {
            "marker": {
             "colorbar": {
              "outlinewidth": 0,
              "ticks": ""
             }
            },
            "type": "scatter"
           }
          ],
          "scatter3d": [
           {
            "line": {
             "colorbar": {
              "outlinewidth": 0,
              "ticks": ""
             }
            },
            "marker": {
             "colorbar": {
              "outlinewidth": 0,
              "ticks": ""
             }
            },
            "type": "scatter3d"
           }
          ],
          "scattercarpet": [
           {
            "marker": {
             "colorbar": {
              "outlinewidth": 0,
              "ticks": ""
             }
            },
            "type": "scattercarpet"
           }
          ],
          "scattergeo": [
           {
            "marker": {
             "colorbar": {
              "outlinewidth": 0,
              "ticks": ""
             }
            },
            "type": "scattergeo"
           }
          ],
          "scattergl": [
           {
            "marker": {
             "colorbar": {
              "outlinewidth": 0,
              "ticks": ""
             }
            },
            "type": "scattergl"
           }
          ],
          "scattermapbox": [
           {
            "marker": {
             "colorbar": {
              "outlinewidth": 0,
              "ticks": ""
             }
            },
            "type": "scattermapbox"
           }
          ],
          "scatterpolar": [
           {
            "marker": {
             "colorbar": {
              "outlinewidth": 0,
              "ticks": ""
             }
            },
            "type": "scatterpolar"
           }
          ],
          "scatterpolargl": [
           {
            "marker": {
             "colorbar": {
              "outlinewidth": 0,
              "ticks": ""
             }
            },
            "type": "scatterpolargl"
           }
          ],
          "scatterternary": [
           {
            "marker": {
             "colorbar": {
              "outlinewidth": 0,
              "ticks": ""
             }
            },
            "type": "scatterternary"
           }
          ],
          "surface": [
           {
            "colorbar": {
             "outlinewidth": 0,
             "ticks": ""
            },
            "colorscale": [
             [
              0,
              "#0d0887"
             ],
             [
              0.1111111111111111,
              "#46039f"
             ],
             [
              0.2222222222222222,
              "#7201a8"
             ],
             [
              0.3333333333333333,
              "#9c179e"
             ],
             [
              0.4444444444444444,
              "#bd3786"
             ],
             [
              0.5555555555555556,
              "#d8576b"
             ],
             [
              0.6666666666666666,
              "#ed7953"
             ],
             [
              0.7777777777777778,
              "#fb9f3a"
             ],
             [
              0.8888888888888888,
              "#fdca26"
             ],
             [
              1,
              "#f0f921"
             ]
            ],
            "type": "surface"
           }
          ],
          "table": [
           {
            "cells": {
             "fill": {
              "color": "#EBF0F8"
             },
             "line": {
              "color": "white"
             }
            },
            "header": {
             "fill": {
              "color": "#C8D4E3"
             },
             "line": {
              "color": "white"
             }
            },
            "type": "table"
           }
          ]
         },
         "layout": {
          "annotationdefaults": {
           "arrowcolor": "#2a3f5f",
           "arrowhead": 0,
           "arrowwidth": 1
          },
          "coloraxis": {
           "colorbar": {
            "outlinewidth": 0,
            "ticks": ""
           }
          },
          "colorscale": {
           "diverging": [
            [
             0,
             "#8e0152"
            ],
            [
             0.1,
             "#c51b7d"
            ],
            [
             0.2,
             "#de77ae"
            ],
            [
             0.3,
             "#f1b6da"
            ],
            [
             0.4,
             "#fde0ef"
            ],
            [
             0.5,
             "#f7f7f7"
            ],
            [
             0.6,
             "#e6f5d0"
            ],
            [
             0.7,
             "#b8e186"
            ],
            [
             0.8,
             "#7fbc41"
            ],
            [
             0.9,
             "#4d9221"
            ],
            [
             1,
             "#276419"
            ]
           ],
           "sequential": [
            [
             0,
             "#0d0887"
            ],
            [
             0.1111111111111111,
             "#46039f"
            ],
            [
             0.2222222222222222,
             "#7201a8"
            ],
            [
             0.3333333333333333,
             "#9c179e"
            ],
            [
             0.4444444444444444,
             "#bd3786"
            ],
            [
             0.5555555555555556,
             "#d8576b"
            ],
            [
             0.6666666666666666,
             "#ed7953"
            ],
            [
             0.7777777777777778,
             "#fb9f3a"
            ],
            [
             0.8888888888888888,
             "#fdca26"
            ],
            [
             1,
             "#f0f921"
            ]
           ],
           "sequentialminus": [
            [
             0,
             "#0d0887"
            ],
            [
             0.1111111111111111,
             "#46039f"
            ],
            [
             0.2222222222222222,
             "#7201a8"
            ],
            [
             0.3333333333333333,
             "#9c179e"
            ],
            [
             0.4444444444444444,
             "#bd3786"
            ],
            [
             0.5555555555555556,
             "#d8576b"
            ],
            [
             0.6666666666666666,
             "#ed7953"
            ],
            [
             0.7777777777777778,
             "#fb9f3a"
            ],
            [
             0.8888888888888888,
             "#fdca26"
            ],
            [
             1,
             "#f0f921"
            ]
           ]
          },
          "colorway": [
           "#636efa",
           "#EF553B",
           "#00cc96",
           "#ab63fa",
           "#FFA15A",
           "#19d3f3",
           "#FF6692",
           "#B6E880",
           "#FF97FF",
           "#FECB52"
          ],
          "font": {
           "color": "#2a3f5f"
          },
          "geo": {
           "bgcolor": "white",
           "lakecolor": "white",
           "landcolor": "white",
           "showlakes": true,
           "showland": true,
           "subunitcolor": "#C8D4E3"
          },
          "hoverlabel": {
           "align": "left"
          },
          "hovermode": "closest",
          "mapbox": {
           "style": "light"
          },
          "paper_bgcolor": "white",
          "plot_bgcolor": "white",
          "polar": {
           "angularaxis": {
            "gridcolor": "#EBF0F8",
            "linecolor": "#EBF0F8",
            "ticks": ""
           },
           "bgcolor": "white",
           "radialaxis": {
            "gridcolor": "#EBF0F8",
            "linecolor": "#EBF0F8",
            "ticks": ""
           }
          },
          "scene": {
           "xaxis": {
            "backgroundcolor": "white",
            "gridcolor": "#DFE8F3",
            "gridwidth": 2,
            "linecolor": "#EBF0F8",
            "showbackground": true,
            "ticks": "",
            "zerolinecolor": "#EBF0F8"
           },
           "yaxis": {
            "backgroundcolor": "white",
            "gridcolor": "#DFE8F3",
            "gridwidth": 2,
            "linecolor": "#EBF0F8",
            "showbackground": true,
            "ticks": "",
            "zerolinecolor": "#EBF0F8"
           },
           "zaxis": {
            "backgroundcolor": "white",
            "gridcolor": "#DFE8F3",
            "gridwidth": 2,
            "linecolor": "#EBF0F8",
            "showbackground": true,
            "ticks": "",
            "zerolinecolor": "#EBF0F8"
           }
          },
          "shapedefaults": {
           "line": {
            "color": "#2a3f5f"
           }
          },
          "ternary": {
           "aaxis": {
            "gridcolor": "#DFE8F3",
            "linecolor": "#A2B1C6",
            "ticks": ""
           },
           "baxis": {
            "gridcolor": "#DFE8F3",
            "linecolor": "#A2B1C6",
            "ticks": ""
           },
           "bgcolor": "white",
           "caxis": {
            "gridcolor": "#DFE8F3",
            "linecolor": "#A2B1C6",
            "ticks": ""
           }
          },
          "title": {
           "x": 0.05
          },
          "xaxis": {
           "automargin": true,
           "gridcolor": "#EBF0F8",
           "linecolor": "#EBF0F8",
           "ticks": "",
           "title": {
            "standoff": 15
           },
           "zerolinecolor": "#EBF0F8",
           "zerolinewidth": 2
          },
          "yaxis": {
           "automargin": true,
           "gridcolor": "#EBF0F8",
           "linecolor": "#EBF0F8",
           "ticks": "",
           "title": {
            "standoff": 15
           },
           "zerolinecolor": "#EBF0F8",
           "zerolinewidth": 2
          }
         }
        },
        "title": {
         "text": "Vehicle Motion in Global Reference Frame"
        },
        "width": 800,
        "xaxis": {
         "linecolor": "black",
         "linewidth": 1,
         "showgrid": false,
         "showline": true,
         "tickcolor": "black",
         "ticklen": 10,
         "ticks": "outside",
         "tickwidth": 1,
         "title": {
          "text": "x-axis - Forward (ft)"
         },
         "zeroline": false
        },
        "yaxis": {
         "autorange": "reversed",
         "linecolor": "black",
         "linewidth": 1,
         "scaleanchor": "x",
         "scaleratio": 1.7777777777777777,
         "showgrid": false,
         "showline": true,
         "tickcolor": "black",
         "ticklen": 10,
         "ticks": "outside",
         "tickwidth": 1,
         "title": {
          "text": "y-axis - Rightward (ft)"
         },
         "zeroline": false
        }
       }
      },
      "text/html": [
       "<div>\n",
       "        \n",
       "        \n",
       "            <div id=\"bc737af3-0226-4a36-badf-42c50089aa87\" class=\"plotly-graph-div\" style=\"height:450px; width:800px;\"></div>\n",
       "            <script type=\"text/javascript\">\n",
       "                require([\"plotly\"], function(Plotly) {\n",
       "                    window.PLOTLYENV=window.PLOTLYENV || {};\n",
       "                    \n",
       "                if (document.getElementById(\"bc737af3-0226-4a36-badf-42c50089aa87\")) {\n",
       "                    Plotly.newPlot(\n",
       "                        'bc737af3-0226-4a36-badf-42c50089aa87',\n",
       "                        [{\"line\": {\"color\": \"rgb(0, 0, 0)\", \"width\": 2}, \"mode\": \"lines\", \"name\": \"body\", \"type\": \"scatter\", \"x\": [18.31697723324205, 18.31700276669958, -0.8229972331271078, -0.8230227665846392, 18.31697723324205], \"y\": [-3.000001541793048, 2.9999984581526222, 3.0000799098821473, -2.999920090063523, -3.000001541793048]}, {\"line\": {\"color\": \"rgb(0, 0, 255)\", \"width\": 1}, \"mode\": \"lines\", \"name\": \"LF\", \"type\": \"scatter\", \"x\": [16.475310566758722, 16.47531425492481, 13.758647587949412, 13.758643899783323, 16.475310566758722], \"y\": [-2.999993704440112, -2.13332703744796, -2.1333154764657984, -2.9999821434579506, -2.999993704440112]}, {\"line\": {\"color\": \"rgb(0, 255, 0)\", \"width\": 1}, \"mode\": \"lines\", \"name\": \"RF\", \"type\": \"scatter\", \"x\": [16.475332412050165, 16.475336100216253, 13.758669433240854, 13.758665745074765, 16.475332412050165], \"y\": [2.133339628513406, 3.000006295505558, 3.0000178564877196, 2.1333511894955675, 2.133339628513406]}, {\"line\": {\"color\": \"rgb(153, 0, 204)\", \"width\": 1}, \"mode\": \"lines\", \"name\": \"RR\", \"type\": \"scatter\", \"x\": [4.635332412157378, 4.6353361003234665, 1.9186694333480663, 1.918665745181977, 4.635332412157378], \"y\": [2.1333900145362676, 3.00005668152842, 3.0000682425105816, 2.133401575518429, 2.1333900145362676]}, {\"line\": {\"color\": \"rgb(255, 102, 0)\", \"width\": 1}, \"mode\": \"lines\", \"name\": \"LR\", \"type\": \"scatter\", \"x\": [4.635310566865935, 4.635314255032024, 1.918647588056624, 1.9186438998905349, 4.635310566865935], \"y\": [-2.99994331841725, -2.1332766514250974, -2.133265090442936, -2.9999317574350886, -2.99994331841725]}, {\"marker\": {\"color\": \"rgb(0, 0, 0)\", \"size\": 20}, \"mode\": \"markers\", \"name\": \"CG\", \"type\": \"scatter\", \"x\": [10.236990000043978, 10.236990000043978], \"y\": [3.284323592934065e-05, 3.284323592934065e-05]}, {\"marker\": {\"color\": \"rgb(0, 0, 255)\", \"size\": 5, \"symbol\": [\"circle\", \"circle\", \"circle\", \"circle\", \"circle\", \"circle\", \"circle\", \"circle\", \"circle\", \"circle\", \"circle\", \"circle\", \"circle\", \"circle\", \"circle\", \"circle\", \"circle\", \"circle\", \"circle\", \"circle\", \"circle\", \"circle\", \"circle\", \"circle\", \"circle\", \"circle\", \"circle\", \"circle\", \"circle\", \"circle\", \"circle\", \"circle\", \"circle\", \"circle\", \"circle\", \"circle\", \"circle\", \"circle\", \"circle\", \"circle\", \"circle\", \"circle\", \"circle\", \"circle\", \"circle\", \"circle\", \"circle\", \"circle\", \"circle\", \"circle\"]}, \"mode\": \"markers\", \"name\": \"LF\", \"type\": \"scatter\", \"x\": [4.88, 5.613335, 6.345221, 7.07276, 7.791605, 8.49596, 9.180029, 9.838016, 10.464125, 11.05256, 11.597524999999997, 12.093224, 12.533860999999998, 12.913639999999997, 13.226764999999997, 13.467439999999996, 13.629868999999996, 13.708255999999995, 13.746070999999997, 13.789681999999996, 13.833292999999998, 13.871107999999996, 13.908922999999998, 13.952533999999996, 13.996144999999997, 14.033959999999995, 14.071774999999993, 14.11393699999998, 14.157547999999956, 14.201158999999905, 14.244769999999786, 14.28838099999941, 14.331991999998513, 14.375602999996794, 14.419213999992573, 14.46282499997951, 14.506435999948232, 14.550046999888425, 14.593657999741383, 14.637268999286484, 14.680879998197165, 14.72449099611443, 14.768101990993676, 14.81171297515188, 14.855323937216378, 14.898934864685378, 14.942545686355452, 14.986156134666423, 15.029765813565952, 15.073374287678165], \"y\": [-2.5666666665, -2.5666666665, -2.5666666665, -2.5666666665, -2.5666666665, -2.5666666665, -2.5666666665, -2.5666666665, -2.5666666665, -2.5666666665, -2.5666666665, -2.5666666665, -2.5666666665, -2.5666666665, -2.5666666665, -2.5666666665, -2.5666666665, -2.5666666665, -2.5666666665, -2.5666666665, -2.5666666665, -2.5666666665, -2.5666666664999997, -2.5666666664999993, -2.5666666664999984, -2.5666666664999966, -2.566666666499993, -2.566666666499974, -2.566666666499935, -2.566666666499879, -2.5666666664997644, -2.5666666664991027, -2.566666666497736, -2.566666666495762, -2.5666666664917916, -2.5666666664687465, -2.5666666664210953, -2.566666666352331, -2.5666666662140805, -2.566666665411514, -2.566666663751977, -2.566666661357208, -2.5666666565426666, -2.566666628593304, -2.5666665707998555, -2.566666487402052, -2.566666319736077, -2.5666653464015226, -2.5666633337481093, -2.566660429422656]}, {\"marker\": {\"color\": \"rgb(0, 255, 0)\", \"size\": 5, \"symbol\": [\"circle\", \"circle\", \"circle\", \"circle\", \"circle\", \"circle\", \"circle\", \"circle\", \"circle\", \"circle\", \"circle\", \"circle\", \"circle\", \"circle\", \"circle\", \"circle\", \"circle\", \"circle\", \"circle\", \"circle\", \"circle\", \"circle\", \"circle\", \"circle\", \"circle\", \"circle\", \"circle\", \"circle\", \"circle\", \"circle\", \"circle\", \"circle\", \"circle\", \"circle\", \"circle\", \"circle\", \"circle\", \"circle\", \"circle\", \"circle\", \"circle\", \"circle\", \"circle\", \"circle\", \"circle\", \"circle\", \"circle\", \"circle\", \"circle\", \"circle\"]}, \"mode\": \"markers\", \"name\": \"RF\", \"type\": \"scatter\", \"x\": [4.88, 5.613335, 6.345221, 7.07276, 7.791605, 8.49596, 9.180029, 9.838016, 10.464125, 11.05256, 11.597524999999997, 12.093224, 12.533860999999998, 12.913639999999997, 13.226764999999997, 13.467439999999996, 13.629868999999996, 13.708255999999995, 13.746070999999997, 13.789681999999996, 13.833292999999998, 13.871107999999996, 13.908922999999998, 13.952533999999996, 13.996145, 14.033959999999999, 14.071775000000004, 14.113937000000012, 14.157548000000041, 14.20115900000009, 14.244770000000212, 14.288381000000586, 14.331992000001486, 14.375603000003203, 14.419214000007427, 14.462825000020487, 14.50643600005177, 14.550047000111574, 14.59365800025862, 14.637269000713516, 14.680880001802839, 14.724491003885571, 14.768102009006329, 14.811713024848123, 14.855324062783628, 14.898935135314625, 14.942546313644552, 14.986157865334064, 15.029770186435186, 15.07338371231956], \"y\": [2.5666666665, 2.5666666665, 2.5666666665, 2.5666666665, 2.5666666665, 2.5666666665, 2.5666666665, 2.5666666665, 2.5666666665, 2.5666666665, 2.5666666665, 2.5666666665, 2.5666666665, 2.5666666665, 2.5666666665, 2.5666666665, 2.5666666665, 2.5666666665, 2.5666666665, 2.5666666665, 2.5666666665, 2.5666666665, 2.5666666665000006, 2.566666666500001, 2.566666666500002, 2.5666666665000037, 2.5666666665000073, 2.5666666665000264, 2.5666666665000655, 2.5666666665001214, 2.566666666500236, 2.5666666665008977, 2.5666666665022646, 2.5666666665042386, 2.5666666665082087, 2.566666666531254, 2.566666666578905, 2.566666666647669, 2.56666666678592, 2.5666666675884864, 2.5666666692480233, 2.5666666716427926, 2.566666676457334, 2.566666704406696, 2.566666762200143, 2.566666845597941, 2.5666670132638854, 2.5666679865981856, 2.5666699992500286, 2.566672903568693]}, {\"marker\": {\"color\": \"rgb(153, 0, 204)\", \"size\": 5, \"symbol\": [\"circle\", \"circle\", \"circle\", \"circle\", \"circle\", \"circle\", \"circle\", \"circle\", \"circle\", \"circle\", \"circle\", \"circle\", \"circle\", \"circle\", \"circle\", \"circle\", \"circle\", \"circle\", \"circle\", \"circle\", \"circle\", \"circle\", \"circle\", \"circle\", \"circle\", \"circle\", \"circle\", \"circle\", \"circle\", \"circle\", \"circle\", \"circle\", \"circle\", \"circle\", \"circle\", \"circle\", \"circle\", \"circle\", \"circle\", \"circle\", \"circle\", \"circle\", \"circle\", \"circle\", \"circle\", \"circle\", \"circle\", \"circle\", \"circle\", \"circle\"]}, \"mode\": \"markers\", \"name\": \"RR\", \"type\": \"scatter\", \"x\": [-6.96, -6.226665, -5.494779, -4.76724, -4.048395, -3.3440400000000006, -2.6599710000000005, -2.001984000000001, -1.3758750000000006, -0.787440000000001, -0.24247500000000155, 0.25322399999999856, 0.6938609999999983, 1.0736399999999984, 1.3867649999999978, 1.6274399999999973, 1.7898689999999968, 1.8682559999999961, 1.9060709999999963, 1.9496819999999966, 1.9932929999999969, 2.031107999999997, 2.068922999999997, 2.112533999999998, 2.1561449999999986, 2.1939600000000006, 2.2317750000000043, 2.2739370000000143, 2.3175480000000404, 2.36115900000009, 2.4047700000002115, 2.4483810000005866, 2.4919920000014852, 2.5356030000032033, 2.5792140000074255, 2.6228250000204882, 2.666436000051769, 2.7100470001115755, 2.753658000258618, 2.7972690007135164, 2.8408800018028386, 2.8844910038855724, 2.928102009006328, 2.971713024848124, 3.0153240627836326, 3.0589351353146412, 3.10254631364464, 3.1461578653347386, 3.189770186439482, 3.233383712339516], \"y\": [2.5666666665, 2.5666666665, 2.5666666665, 2.5666666665, 2.5666666665, 2.5666666665, 2.5666666665, 2.5666666665, 2.5666666665, 2.5666666665, 2.5666666665, 2.5666666665, 2.5666666665, 2.5666666665, 2.5666666665, 2.5666666665, 2.5666666665, 2.5666666665, 2.5666666665, 2.5666666665, 2.5666666665, 2.5666666665, 2.5666666665000006, 2.5666666665000024, 2.566666666500007, 2.5666666665000153, 2.566666666500035, 2.5666666665001037, 2.5666666665002618, 2.566666666500546, 2.566666666501219, 2.5666666665036106, 2.5666666665091222, 2.566666666519019, 2.566666666542466, 2.566666666625767, 2.566666666817715, 2.5666666671623646, 2.56666666797892, 2.5666666708799246, 2.566666677564489, 2.566666689566882, 2.5666667180034004, 2.5666668190307593, 2.566667051820194, 2.566667469802541, 2.566668460102121, 2.5666719783718657, 2.5666800852445233, 2.5666946414428753]}, {\"marker\": {\"color\": \"rgb(153, 0, 204)\", \"size\": 5, \"symbol\": [\"circle\", \"circle\", \"circle\", \"circle\", \"circle\", \"circle\", \"circle\", \"circle\", \"circle\", \"circle\", \"circle\", \"circle\", \"circle\", \"circle\", \"circle\", \"circle\", \"circle\", \"circle\", \"circle\", \"circle\", \"circle\", \"circle\", \"circle\", \"circle\", \"circle\", \"circle\", \"circle\", \"circle\", \"circle\", \"circle\", \"circle\", \"circle\", \"circle\", \"circle\", \"circle\", \"circle\", \"circle\", \"circle\", \"circle\", \"circle\", \"circle\", \"circle\", \"circle\", \"circle\", \"circle\", \"circle\", \"circle\", \"circle\", \"circle\", \"circle\"]}, \"mode\": \"markers\", \"name\": \"LR\", \"type\": \"scatter\", \"x\": [-6.96, -6.226665, -5.494779, -4.76724, -4.048395, -3.3440400000000006, -2.6599710000000005, -2.001984000000001, -1.3758750000000006, -0.787440000000001, -0.24247500000000155, 0.25322399999999856, 0.6938609999999983, 1.0736399999999984, 1.3867649999999978, 1.6274399999999973, 1.7898689999999968, 1.8682559999999961, 1.9060709999999963, 1.9496819999999966, 1.9932929999999969, 2.031107999999997, 2.068922999999997, 2.112533999999997, 2.156144999999997, 2.1939599999999952, 2.231774999999992, 2.2739369999999806, 2.317547999999955, 2.361158999999906, 2.404769999999785, 2.4483809999994106, 2.4919919999985125, 2.535602999996795, 2.5792139999925734, 2.6228249999795112, 2.666435999948231, 2.710046999888425, 2.753657999741383, 2.7972689992864854, 2.8408799981971637, 2.8844909961144305, 2.9281019909936754, 2.9717129751518803, 3.015323937216381, 3.058934864685394, 3.10254568635554, 3.1461561346670956, 3.189765813570247, 3.23337428769812], \"y\": [-2.5666666665, -2.5666666665, -2.5666666665, -2.5666666665, -2.5666666665, -2.5666666665, -2.5666666665, -2.5666666665, -2.5666666665, -2.5666666665, -2.5666666665, -2.5666666665, -2.5666666665, -2.5666666665, -2.5666666665, -2.5666666665, -2.5666666665, -2.5666666665, -2.5666666665, -2.5666666665, -2.5666666665, -2.5666666665, -2.5666666664999997, -2.566666666499998, -2.5666666664999935, -2.566666666499985, -2.5666666664999656, -2.5666666664998967, -2.5666666664997386, -2.5666666664994544, -2.566666666498781, -2.5666666664963897, -2.566666666490878, -2.566666666480981, -2.5666666664575346, -2.5666666663742332, -2.5666666661822855, -2.566666665837636, -2.5666666650210805, -2.5666666621200758, -2.5666666554355113, -2.5666666434331185, -2.5666666149966, -2.566666513969241, -2.5666662811798044, -2.566665863197452, -2.5666648728978414, -2.5666613546278425, -2.5666532477536146, -2.5666386915484733]}],\n",
       "                        {\"annotations\": [{\"arrowcolor\": \"rgb(255, 0, 0)\", \"arrowhead\": 1, \"arrowsize\": 2.5, \"arrowwidth\": 1.7, \"ax\": 10.236990000043978, \"axref\": \"x\", \"ay\": 3.284323592934065e-05, \"ayref\": \"y\", \"showarrow\": true, \"text\": \"\", \"x\": 9.948600000977036, \"xref\": \"x\", \"y\": 0.000304253973474179, \"yref\": \"y\"}, {\"arrowcolor\": \"rgb(0, 0, 0)\", \"arrowhead\": 1, \"arrowsize\": 2, \"arrowwidth\": 1.5, \"ax\": 10.236990000043978, \"axref\": \"x\", \"ay\": 3.284323592934065e-05, \"ayref\": \"y\", \"showarrow\": true, \"text\": \"\", \"x\": 19.81698999995723, \"xref\": \"x\", \"y\": 3.284323592934065e-05, \"yref\": \"y\"}, {\"arrowcolor\": \"rgb(0, 0, 255)\", \"arrowhead\": 1, \"arrowsize\": 2, \"arrowwidth\": 1.5, \"ax\": 10.236990000043978, \"axref\": \"x\", \"ay\": 3.284323592934065e-05, \"ayref\": \"y\", \"showarrow\": true, \"text\": \"\", \"x\": 10.236990000043978, \"xref\": \"x\", \"y\": 1.9333661767184231, \"yref\": \"y\"}], \"autosize\": false, \"font\": {\"color\": \"black\", \"family\": \"Arial\", \"size\": 16}, \"height\": 450, \"showlegend\": false, \"template\": {\"data\": {\"bar\": [{\"error_x\": {\"color\": \"#2a3f5f\"}, \"error_y\": {\"color\": \"#2a3f5f\"}, \"marker\": {\"line\": {\"color\": \"white\", \"width\": 0.5}}, \"type\": \"bar\"}], \"barpolar\": [{\"marker\": {\"line\": {\"color\": \"white\", \"width\": 0.5}}, \"type\": \"barpolar\"}], \"carpet\": [{\"aaxis\": {\"endlinecolor\": \"#2a3f5f\", \"gridcolor\": \"#C8D4E3\", \"linecolor\": \"#C8D4E3\", \"minorgridcolor\": \"#C8D4E3\", \"startlinecolor\": \"#2a3f5f\"}, \"baxis\": {\"endlinecolor\": \"#2a3f5f\", \"gridcolor\": \"#C8D4E3\", \"linecolor\": \"#C8D4E3\", \"minorgridcolor\": \"#C8D4E3\", \"startlinecolor\": \"#2a3f5f\"}, \"type\": \"carpet\"}], \"choropleth\": [{\"colorbar\": {\"outlinewidth\": 0, \"ticks\": \"\"}, \"type\": \"choropleth\"}], \"contour\": [{\"colorbar\": {\"outlinewidth\": 0, \"ticks\": \"\"}, \"colorscale\": [[0.0, \"#0d0887\"], [0.1111111111111111, \"#46039f\"], [0.2222222222222222, \"#7201a8\"], [0.3333333333333333, \"#9c179e\"], [0.4444444444444444, \"#bd3786\"], [0.5555555555555556, \"#d8576b\"], [0.6666666666666666, \"#ed7953\"], [0.7777777777777778, \"#fb9f3a\"], [0.8888888888888888, \"#fdca26\"], [1.0, \"#f0f921\"]], \"type\": \"contour\"}], \"contourcarpet\": [{\"colorbar\": {\"outlinewidth\": 0, \"ticks\": \"\"}, \"type\": \"contourcarpet\"}], \"heatmap\": [{\"colorbar\": {\"outlinewidth\": 0, \"ticks\": \"\"}, \"colorscale\": [[0.0, \"#0d0887\"], [0.1111111111111111, \"#46039f\"], [0.2222222222222222, \"#7201a8\"], [0.3333333333333333, \"#9c179e\"], [0.4444444444444444, \"#bd3786\"], [0.5555555555555556, \"#d8576b\"], [0.6666666666666666, \"#ed7953\"], [0.7777777777777778, \"#fb9f3a\"], [0.8888888888888888, \"#fdca26\"], [1.0, \"#f0f921\"]], \"type\": \"heatmap\"}], \"heatmapgl\": [{\"colorbar\": {\"outlinewidth\": 0, \"ticks\": \"\"}, \"colorscale\": [[0.0, \"#0d0887\"], [0.1111111111111111, \"#46039f\"], [0.2222222222222222, \"#7201a8\"], [0.3333333333333333, \"#9c179e\"], [0.4444444444444444, \"#bd3786\"], [0.5555555555555556, \"#d8576b\"], [0.6666666666666666, \"#ed7953\"], [0.7777777777777778, \"#fb9f3a\"], [0.8888888888888888, \"#fdca26\"], [1.0, \"#f0f921\"]], \"type\": \"heatmapgl\"}], \"histogram\": [{\"marker\": {\"colorbar\": {\"outlinewidth\": 0, \"ticks\": \"\"}}, \"type\": \"histogram\"}], \"histogram2d\": [{\"colorbar\": {\"outlinewidth\": 0, \"ticks\": \"\"}, \"colorscale\": [[0.0, \"#0d0887\"], [0.1111111111111111, \"#46039f\"], [0.2222222222222222, \"#7201a8\"], [0.3333333333333333, \"#9c179e\"], [0.4444444444444444, \"#bd3786\"], [0.5555555555555556, \"#d8576b\"], [0.6666666666666666, \"#ed7953\"], [0.7777777777777778, \"#fb9f3a\"], [0.8888888888888888, \"#fdca26\"], [1.0, \"#f0f921\"]], \"type\": \"histogram2d\"}], \"histogram2dcontour\": [{\"colorbar\": {\"outlinewidth\": 0, \"ticks\": \"\"}, \"colorscale\": [[0.0, \"#0d0887\"], [0.1111111111111111, \"#46039f\"], [0.2222222222222222, \"#7201a8\"], [0.3333333333333333, \"#9c179e\"], [0.4444444444444444, \"#bd3786\"], [0.5555555555555556, \"#d8576b\"], [0.6666666666666666, \"#ed7953\"], [0.7777777777777778, \"#fb9f3a\"], [0.8888888888888888, \"#fdca26\"], [1.0, \"#f0f921\"]], \"type\": \"histogram2dcontour\"}], \"mesh3d\": [{\"colorbar\": {\"outlinewidth\": 0, \"ticks\": \"\"}, \"type\": \"mesh3d\"}], \"parcoords\": [{\"line\": {\"colorbar\": {\"outlinewidth\": 0, \"ticks\": \"\"}}, \"type\": \"parcoords\"}], \"pie\": [{\"automargin\": true, \"type\": \"pie\"}], \"scatter\": [{\"marker\": {\"colorbar\": {\"outlinewidth\": 0, \"ticks\": \"\"}}, \"type\": \"scatter\"}], \"scatter3d\": [{\"line\": {\"colorbar\": {\"outlinewidth\": 0, \"ticks\": \"\"}}, \"marker\": {\"colorbar\": {\"outlinewidth\": 0, \"ticks\": \"\"}}, \"type\": \"scatter3d\"}], \"scattercarpet\": [{\"marker\": {\"colorbar\": {\"outlinewidth\": 0, \"ticks\": \"\"}}, \"type\": \"scattercarpet\"}], \"scattergeo\": [{\"marker\": {\"colorbar\": {\"outlinewidth\": 0, \"ticks\": \"\"}}, \"type\": \"scattergeo\"}], \"scattergl\": [{\"marker\": {\"colorbar\": {\"outlinewidth\": 0, \"ticks\": \"\"}}, \"type\": \"scattergl\"}], \"scattermapbox\": [{\"marker\": {\"colorbar\": {\"outlinewidth\": 0, \"ticks\": \"\"}}, \"type\": \"scattermapbox\"}], \"scatterpolar\": [{\"marker\": {\"colorbar\": {\"outlinewidth\": 0, \"ticks\": \"\"}}, \"type\": \"scatterpolar\"}], \"scatterpolargl\": [{\"marker\": {\"colorbar\": {\"outlinewidth\": 0, \"ticks\": \"\"}}, \"type\": \"scatterpolargl\"}], \"scatterternary\": [{\"marker\": {\"colorbar\": {\"outlinewidth\": 0, \"ticks\": \"\"}}, \"type\": \"scatterternary\"}], \"surface\": [{\"colorbar\": {\"outlinewidth\": 0, \"ticks\": \"\"}, \"colorscale\": [[0.0, \"#0d0887\"], [0.1111111111111111, \"#46039f\"], [0.2222222222222222, \"#7201a8\"], [0.3333333333333333, \"#9c179e\"], [0.4444444444444444, \"#bd3786\"], [0.5555555555555556, \"#d8576b\"], [0.6666666666666666, \"#ed7953\"], [0.7777777777777778, \"#fb9f3a\"], [0.8888888888888888, \"#fdca26\"], [1.0, \"#f0f921\"]], \"type\": \"surface\"}], \"table\": [{\"cells\": {\"fill\": {\"color\": \"#EBF0F8\"}, \"line\": {\"color\": \"white\"}}, \"header\": {\"fill\": {\"color\": \"#C8D4E3\"}, \"line\": {\"color\": \"white\"}}, \"type\": \"table\"}]}, \"layout\": {\"annotationdefaults\": {\"arrowcolor\": \"#2a3f5f\", \"arrowhead\": 0, \"arrowwidth\": 1}, \"coloraxis\": {\"colorbar\": {\"outlinewidth\": 0, \"ticks\": \"\"}}, \"colorscale\": {\"diverging\": [[0, \"#8e0152\"], [0.1, \"#c51b7d\"], [0.2, \"#de77ae\"], [0.3, \"#f1b6da\"], [0.4, \"#fde0ef\"], [0.5, \"#f7f7f7\"], [0.6, \"#e6f5d0\"], [0.7, \"#b8e186\"], [0.8, \"#7fbc41\"], [0.9, \"#4d9221\"], [1, \"#276419\"]], \"sequential\": [[0.0, \"#0d0887\"], [0.1111111111111111, \"#46039f\"], [0.2222222222222222, \"#7201a8\"], [0.3333333333333333, \"#9c179e\"], [0.4444444444444444, \"#bd3786\"], [0.5555555555555556, \"#d8576b\"], [0.6666666666666666, \"#ed7953\"], [0.7777777777777778, \"#fb9f3a\"], [0.8888888888888888, \"#fdca26\"], [1.0, \"#f0f921\"]], \"sequentialminus\": [[0.0, \"#0d0887\"], [0.1111111111111111, \"#46039f\"], [0.2222222222222222, \"#7201a8\"], [0.3333333333333333, \"#9c179e\"], [0.4444444444444444, \"#bd3786\"], [0.5555555555555556, \"#d8576b\"], [0.6666666666666666, \"#ed7953\"], [0.7777777777777778, \"#fb9f3a\"], [0.8888888888888888, \"#fdca26\"], [1.0, \"#f0f921\"]]}, \"colorway\": [\"#636efa\", \"#EF553B\", \"#00cc96\", \"#ab63fa\", \"#FFA15A\", \"#19d3f3\", \"#FF6692\", \"#B6E880\", \"#FF97FF\", \"#FECB52\"], \"font\": {\"color\": \"#2a3f5f\"}, \"geo\": {\"bgcolor\": \"white\", \"lakecolor\": \"white\", \"landcolor\": \"white\", \"showlakes\": true, \"showland\": true, \"subunitcolor\": \"#C8D4E3\"}, \"hoverlabel\": {\"align\": \"left\"}, \"hovermode\": \"closest\", \"mapbox\": {\"style\": \"light\"}, \"paper_bgcolor\": \"white\", \"plot_bgcolor\": \"white\", \"polar\": {\"angularaxis\": {\"gridcolor\": \"#EBF0F8\", \"linecolor\": \"#EBF0F8\", \"ticks\": \"\"}, \"bgcolor\": \"white\", \"radialaxis\": {\"gridcolor\": \"#EBF0F8\", \"linecolor\": \"#EBF0F8\", \"ticks\": \"\"}}, \"scene\": {\"xaxis\": {\"backgroundcolor\": \"white\", \"gridcolor\": \"#DFE8F3\", \"gridwidth\": 2, \"linecolor\": \"#EBF0F8\", \"showbackground\": true, \"ticks\": \"\", \"zerolinecolor\": \"#EBF0F8\"}, \"yaxis\": {\"backgroundcolor\": \"white\", \"gridcolor\": \"#DFE8F3\", \"gridwidth\": 2, \"linecolor\": \"#EBF0F8\", \"showbackground\": true, \"ticks\": \"\", \"zerolinecolor\": \"#EBF0F8\"}, \"zaxis\": {\"backgroundcolor\": \"white\", \"gridcolor\": \"#DFE8F3\", \"gridwidth\": 2, \"linecolor\": \"#EBF0F8\", \"showbackground\": true, \"ticks\": \"\", \"zerolinecolor\": \"#EBF0F8\"}}, \"shapedefaults\": {\"line\": {\"color\": \"#2a3f5f\"}}, \"ternary\": {\"aaxis\": {\"gridcolor\": \"#DFE8F3\", \"linecolor\": \"#A2B1C6\", \"ticks\": \"\"}, \"baxis\": {\"gridcolor\": \"#DFE8F3\", \"linecolor\": \"#A2B1C6\", \"ticks\": \"\"}, \"bgcolor\": \"white\", \"caxis\": {\"gridcolor\": \"#DFE8F3\", \"linecolor\": \"#A2B1C6\", \"ticks\": \"\"}}, \"title\": {\"x\": 0.05}, \"xaxis\": {\"automargin\": true, \"gridcolor\": \"#EBF0F8\", \"linecolor\": \"#EBF0F8\", \"ticks\": \"\", \"title\": {\"standoff\": 15}, \"zerolinecolor\": \"#EBF0F8\", \"zerolinewidth\": 2}, \"yaxis\": {\"automargin\": true, \"gridcolor\": \"#EBF0F8\", \"linecolor\": \"#EBF0F8\", \"ticks\": \"\", \"title\": {\"standoff\": 15}, \"zerolinecolor\": \"#EBF0F8\", \"zerolinewidth\": 2}}}, \"title\": {\"text\": \"Vehicle Motion in Global Reference Frame\"}, \"width\": 800, \"xaxis\": {\"linecolor\": \"black\", \"linewidth\": 1, \"showgrid\": false, \"showline\": true, \"tickcolor\": \"black\", \"ticklen\": 10, \"ticks\": \"outside\", \"tickwidth\": 1, \"title\": {\"text\": \"x-axis - Forward (ft)\"}, \"zeroline\": false}, \"yaxis\": {\"autorange\": \"reversed\", \"linecolor\": \"black\", \"linewidth\": 1, \"scaleanchor\": \"x\", \"scaleratio\": 1.7777777777777777, \"showgrid\": false, \"showline\": true, \"tickcolor\": \"black\", \"ticklen\": 10, \"ticks\": \"outside\", \"tickwidth\": 1, \"title\": {\"text\": \"y-axis - Rightward (ft)\"}, \"zeroline\": false}},\n",
       "                        {\"responsive\": true}\n",
       "                    ).then(function(){\n",
       "                            \n",
       "var gd = document.getElementById('bc737af3-0226-4a36-badf-42c50089aa87');\n",
       "var x = new MutationObserver(function (mutations, observer) {{\n",
       "        var display = window.getComputedStyle(gd).display;\n",
       "        if (!display || display === 'none') {{\n",
       "            console.log([gd, 'removed!']);\n",
       "            Plotly.purge(gd);\n",
       "            observer.disconnect();\n",
       "        }}\n",
       "}});\n",
       "\n",
       "// Listen for the removal of the full notebook cells\n",
       "var notebookContainer = gd.closest('#notebook-container');\n",
       "if (notebookContainer) {{\n",
       "    x.observe(notebookContainer, {childList: true});\n",
       "}}\n",
       "\n",
       "// Listen for the clearing of the current output cell\n",
       "var outputEl = gd.closest('.output');\n",
       "if (outputEl) {{\n",
       "    x.observe(outputEl, {childList: true});\n",
       "}}\n",
       "\n",
       "                        })\n",
       "                };\n",
       "                });\n",
       "            </script>\n",
       "        </div>"
      ]
     },
     "metadata": {},
     "output_type": "display_data"
    }
   ],
   "source": [
    "# %%\n",
    "motion.global_motion(len(motion.veh.model.t) - 1)"
   ]
  },
  {
   "cell_type": "markdown",
   "metadata": {},
   "source": [
    "### Tire Details"
   ]
  },
  {
   "cell_type": "code",
   "execution_count": 51,
   "metadata": {},
   "outputs": [
    {
     "data": {
      "application/vnd.plotly.v1+json": {
       "config": {
        "plotlyServerURL": "https://plot.ly"
       },
       "data": [
        {
         "line": {
          "color": "rgb(0, 0, 255)",
          "dash": "solid",
          "width": 1
         },
         "mode": "lines",
         "name": "LF",
         "type": "scatter",
         "x": [
          0,
          0.1,
          0.2,
          0.3,
          0.4,
          0.5,
          0.6,
          0.7,
          0.8,
          0.9,
          1,
          1.1,
          1.2,
          1.3,
          1.4,
          1.5,
          1.6,
          1.7,
          1.8,
          1.9,
          2,
          2.1,
          2.2,
          2.3,
          2.4,
          2.5,
          2.6,
          2.7,
          2.8,
          2.9,
          3,
          3.1,
          3.2,
          3.3,
          3.4,
          3.5,
          3.6,
          3.7,
          3.8,
          3.9,
          4,
          4.1,
          4.2,
          4.3,
          4.4,
          4.5,
          4.6,
          4.7,
          4.8,
          4.9,
          5
         ],
         "xaxis": "x",
         "y": [
          0,
          0,
          0,
          0,
          0,
          0,
          0,
          0,
          0,
          0,
          0,
          0,
          0,
          0,
          0,
          0,
          0,
          180,
          -179.99999999999994,
          6.08307556391129e-14,
          1.0041706996152528e-13,
          -179.99999999999997,
          179.99999999999943,
          6.705487993731289e-13,
          1.3908366722455734e-12,
          179.99999999999457,
          179.99999999998803,
          2.0588194438141852e-11,
          4.651773818100954e-11,
          179.99999999978766,
          179.9999999996254,
          7.155510877899537e-10,
          1.637777697967478e-09,
          179.9999999925782,
          179.99999998705098,
          2.4925593243469916e-08,
          5.708634618138329e-08,
          179.99999974149347,
          179.99999954926878,
          8.680575996886649e-07,
          1.9881482216138507e-06,
          179.99999099744824,
          179.99998430381154,
          3.023011037208179e-05,
          6.923741435275392e-05,
          179.9996864879488,
          179.9994533888016,
          0.0010527708360924285,
          0.0024112347585859184,
          179.98908350389806,
          179.9809718791689
         ],
         "yaxis": "y"
        },
        {
         "line": {
          "color": "rgb(0, 255, 0)",
          "dash": "solid",
          "width": 1
         },
         "mode": "lines",
         "name": "RF",
         "type": "scatter",
         "x": [
          0,
          0.1,
          0.2,
          0.3,
          0.4,
          0.5,
          0.6,
          0.7,
          0.8,
          0.9,
          1,
          1.1,
          1.2,
          1.3,
          1.4,
          1.5,
          1.6,
          1.7,
          1.8,
          1.9,
          2,
          2.1,
          2.2,
          2.3,
          2.4,
          2.5,
          2.6,
          2.7,
          2.8,
          2.9,
          3,
          3.1,
          3.2,
          3.3,
          3.4,
          3.5,
          3.6,
          3.7,
          3.8,
          3.9,
          4,
          4.1,
          4.2,
          4.3,
          4.4,
          4.5,
          4.6,
          4.7,
          4.8,
          4.9,
          5
         ],
         "xaxis": "x",
         "y": [
          0,
          0,
          0,
          0,
          0,
          0,
          0,
          0,
          0,
          0,
          0,
          0,
          0,
          0,
          0,
          0,
          0,
          180,
          -179.99999999999994,
          6.083075563911292e-14,
          1.0041706996152528e-13,
          -179.99999999999997,
          179.99999999999943,
          6.705487993731219e-13,
          1.3908366722455377e-12,
          179.99999999999457,
          179.99999999998803,
          2.058819443813439e-11,
          4.6517738180973125e-11,
          179.99999999978766,
          179.9999999996254,
          7.155510877808986e-10,
          1.6377776979230032e-09,
          179.9999999925782,
          179.99999998705098,
          2.492559323248586e-08,
          5.708634612741297e-08,
          179.99999974149347,
          179.99999954926875,
          8.680575863671941e-07,
          1.988148156157303e-06,
          179.99999099744605,
          179.99998430380097,
          3.0230094216109442e-05,
          6.92373349684753e-05,
          179.99968648534033,
          179.99945337596628,
          0.001052751242530472,
          0.002411138483298462,
          179.98908034037802,
          179.9809563128214
         ],
         "yaxis": "y"
        },
        {
         "line": {
          "color": "rgb(153, 0, 204)",
          "dash": "solid",
          "width": 1
         },
         "mode": "lines",
         "name": "RR",
         "type": "scatter",
         "x": [
          0,
          0.1,
          0.2,
          0.3,
          0.4,
          0.5,
          0.6,
          0.7,
          0.8,
          0.9,
          1,
          1.1,
          1.2,
          1.3,
          1.4,
          1.5,
          1.6,
          1.7,
          1.8,
          1.9,
          2,
          2.1,
          2.2,
          2.3,
          2.4,
          2.5,
          2.6,
          2.7,
          2.8,
          2.9,
          3,
          3.1,
          3.2,
          3.3,
          3.4,
          3.5,
          3.6,
          3.7,
          3.8,
          3.9,
          4,
          4.1,
          4.2,
          4.3,
          4.4,
          4.5,
          4.6,
          4.7,
          4.8,
          4.9,
          5
         ],
         "xaxis": "x",
         "y": [
          0,
          0,
          0,
          0,
          0,
          0,
          0,
          0,
          0,
          0,
          0,
          0,
          0,
          0,
          0,
          0,
          0,
          -180,
          180,
          -4.190450037594039e-14,
          -9.035371849459837e-14,
          -179.9999999999996,
          -179.99999999999812,
          -1.7172861587617705e-12,
          -4.02333844459135e-12,
          -179.99999999997863,
          -179.99999999994148,
          -5.7815113054715035e-11,
          -1.269704224224872e-10,
          -179.9999999992059,
          -179.9999999979864,
          -2.016277409443698e-09,
          -4.428956628650237e-09,
          -179.9999999723292,
          -179.99999992990968,
          -7.022030998229036e-08,
          -1.5426103769781376e-07,
          -179.9999990363379,
          -179.99999755918574,
          -2.4454292317795047e-06,
          -5.3721822932799995e-06,
          -179.99996644048363,
          -179.99991499897928,
          -8.51618863049497e-05,
          -0.00018708583549101657,
          -179.99883128768994,
          -179.99703981289167,
          -0.00296572912012533,
          -0.0065151231118870485,
          -179.95929396629853,
          -179.896870896479
         ],
         "yaxis": "y"
        },
        {
         "line": {
          "color": "rgb(255, 102, 0)",
          "dash": "solid",
          "width": 1
         },
         "mode": "lines",
         "name": "LR",
         "type": "scatter",
         "x": [
          0,
          0.1,
          0.2,
          0.3,
          0.4,
          0.5,
          0.6,
          0.7,
          0.8,
          0.9,
          1,
          1.1,
          1.2,
          1.3,
          1.4,
          1.5,
          1.6,
          1.7,
          1.8,
          1.9,
          2,
          2.1,
          2.2,
          2.3,
          2.4,
          2.5,
          2.6,
          2.7,
          2.8,
          2.9,
          3,
          3.1,
          3.2,
          3.3,
          3.4,
          3.5,
          3.6,
          3.7,
          3.8,
          3.9,
          4,
          4.1,
          4.2,
          4.3,
          4.4,
          4.5,
          4.6,
          4.7,
          4.8,
          4.9,
          5
         ],
         "xaxis": "x",
         "y": [
          0,
          0,
          0,
          0,
          0,
          0,
          0,
          0,
          0,
          0,
          0,
          0,
          0,
          0,
          0,
          0,
          0,
          -180,
          180,
          -4.1904500375940374e-14,
          -9.035371849459837e-14,
          -179.9999999999996,
          -179.99999999999812,
          -1.7172861587617881e-12,
          -4.023338444591453e-12,
          -179.99999999997863,
          -179.99999999994148,
          -5.781511305473598e-11,
          -1.2697042242258662e-10,
          -179.9999999992059,
          -179.9999999979864,
          -2.016277409469214e-09,
          -4.4289566287705086e-09,
          -179.9999999723292,
          -179.99999992990968,
          -7.02203100132346e-08,
          -1.5426103784365457e-07,
          -179.9999990363379,
          -179.99999755918577,
          -2.4454292693077915e-06,
          -5.372182470150372e-06,
          -179.99996644049162,
          -179.9999149990366,
          -8.516193181830704e-05,
          -0.00018708604999485468,
          -179.99883129741383,
          -179.99703988240003,
          -0.002965784317587773,
          -0.0065153832567729966,
          -179.9593057591857,
          -179.89695519423586
         ],
         "yaxis": "y"
        },
        {
         "line": {
          "color": "rgb(0, 0, 255)",
          "dash": "solid",
          "width": 1
         },
         "mode": "lines",
         "name": "LF",
         "showlegend": false,
         "type": "scatter",
         "x": [
          0,
          0.1,
          0.2,
          0.3,
          0.4,
          0.5,
          0.6,
          0.7,
          0.8,
          0.9,
          1,
          1.1,
          1.2,
          1.3,
          1.4,
          1.5,
          1.6,
          1.7,
          1.8,
          1.9,
          2,
          2.1,
          2.2,
          2.3,
          2.4,
          2.5,
          2.6,
          2.7,
          2.8,
          2.9,
          3,
          3.1,
          3.2,
          3.3,
          3.4,
          3.5,
          3.6,
          3.7,
          3.8,
          3.9,
          4,
          4.1,
          4.2,
          4.3,
          4.4,
          4.5,
          4.6,
          4.7,
          4.8,
          4.9,
          5
         ],
         "xaxis": "x2",
         "y": [
          0,
          0,
          0,
          0,
          0,
          0,
          0,
          0,
          0,
          0,
          0,
          0,
          0,
          0,
          0,
          0,
          0,
          0,
          0,
          0,
          0,
          0,
          0,
          0,
          0,
          0,
          0,
          0,
          0,
          0,
          0,
          0,
          0,
          0,
          0,
          0,
          0,
          0,
          0,
          0,
          0,
          0,
          0,
          0,
          0,
          0,
          0,
          0,
          0,
          0,
          0
         ],
         "yaxis": "y2"
        },
        {
         "line": {
          "color": "rgb(0, 255, 0)",
          "dash": "solid",
          "width": 1
         },
         "mode": "lines",
         "name": "RF",
         "showlegend": false,
         "type": "scatter",
         "x": [
          0,
          0.1,
          0.2,
          0.3,
          0.4,
          0.5,
          0.6,
          0.7,
          0.8,
          0.9,
          1,
          1.1,
          1.2,
          1.3,
          1.4,
          1.5,
          1.6,
          1.7,
          1.8,
          1.9,
          2,
          2.1,
          2.2,
          2.3,
          2.4,
          2.5,
          2.6,
          2.7,
          2.8,
          2.9,
          3,
          3.1,
          3.2,
          3.3,
          3.4,
          3.5,
          3.6,
          3.7,
          3.8,
          3.9,
          4,
          4.1,
          4.2,
          4.3,
          4.4,
          4.5,
          4.6,
          4.7,
          4.8,
          4.9,
          5
         ],
         "xaxis": "x2",
         "y": [
          0,
          0,
          0,
          0,
          0,
          0,
          0,
          0,
          0,
          0,
          0,
          0,
          0,
          0,
          0,
          0,
          0,
          0,
          0,
          0,
          0,
          0,
          0,
          0,
          0,
          0,
          0,
          0,
          0,
          0,
          0,
          0,
          0,
          0,
          0,
          0,
          0,
          0,
          0,
          0,
          0,
          0,
          0,
          0,
          0,
          0,
          0,
          0,
          0,
          0,
          0
         ],
         "yaxis": "y2"
        },
        {
         "line": {
          "color": "rgb(153, 0, 204)",
          "dash": "solid",
          "width": 1
         },
         "mode": "lines",
         "name": "RR",
         "showlegend": false,
         "type": "scatter",
         "x": [
          0,
          0.1,
          0.2,
          0.3,
          0.4,
          0.5,
          0.6,
          0.7,
          0.8,
          0.9,
          1,
          1.1,
          1.2,
          1.3,
          1.4,
          1.5,
          1.6,
          1.7,
          1.8,
          1.9,
          2,
          2.1,
          2.2,
          2.3,
          2.4,
          2.5,
          2.6,
          2.7,
          2.8,
          2.9,
          3,
          3.1,
          3.2,
          3.3,
          3.4,
          3.5,
          3.6,
          3.7,
          3.8,
          3.9,
          4,
          4.1,
          4.2,
          4.3,
          4.4,
          4.5,
          4.6,
          4.7,
          4.8,
          4.9,
          5
         ],
         "xaxis": "x2",
         "y": [
          0,
          0,
          0,
          0,
          0,
          0,
          0,
          0,
          0,
          0,
          0,
          0,
          0,
          0,
          0,
          0,
          0,
          0,
          0,
          0,
          0,
          0,
          0,
          0,
          0,
          0,
          0,
          0,
          0,
          0,
          0,
          0,
          0,
          0,
          0,
          0,
          0,
          0,
          0,
          0,
          0,
          0,
          0,
          0,
          0,
          0,
          0,
          0,
          0,
          0,
          0
         ],
         "yaxis": "y2"
        },
        {
         "line": {
          "color": "rgb(255, 102, 0)",
          "dash": "solid",
          "width": 1
         },
         "mode": "lines",
         "name": "LR",
         "showlegend": false,
         "type": "scatter",
         "x": [
          0,
          0.1,
          0.2,
          0.3,
          0.4,
          0.5,
          0.6,
          0.7,
          0.8,
          0.9,
          1,
          1.1,
          1.2,
          1.3,
          1.4,
          1.5,
          1.6,
          1.7,
          1.8,
          1.9,
          2,
          2.1,
          2.2,
          2.3,
          2.4,
          2.5,
          2.6,
          2.7,
          2.8,
          2.9,
          3,
          3.1,
          3.2,
          3.3,
          3.4,
          3.5,
          3.6,
          3.7,
          3.8,
          3.9,
          4,
          4.1,
          4.2,
          4.3,
          4.4,
          4.5,
          4.6,
          4.7,
          4.8,
          4.9,
          5
         ],
         "xaxis": "x2",
         "y": [
          0,
          0,
          0,
          0,
          0,
          0,
          0,
          0,
          0,
          0,
          0,
          0,
          0,
          0,
          0,
          0,
          0,
          0,
          0,
          0,
          0,
          0,
          0,
          0,
          0,
          0,
          0,
          0,
          0,
          0,
          0,
          0,
          0,
          0,
          0,
          0,
          0,
          0,
          0,
          0,
          0,
          0,
          0,
          0,
          0,
          0,
          0,
          0,
          0,
          0,
          0
         ],
         "yaxis": "y2"
        }
       ],
       "layout": {
        "autosize": false,
        "font": {
         "color": "black",
         "family": "Arial",
         "size": 16
        },
        "height": 450,
        "legend": {
         "orientation": "h",
         "x": 0.01,
         "xanchor": "left",
         "y": 1.15,
         "yanchor": "top"
        },
        "template": {
         "data": {
          "bar": [
           {
            "error_x": {
             "color": "#2a3f5f"
            },
            "error_y": {
             "color": "#2a3f5f"
            },
            "marker": {
             "line": {
              "color": "white",
              "width": 0.5
             }
            },
            "type": "bar"
           }
          ],
          "barpolar": [
           {
            "marker": {
             "line": {
              "color": "white",
              "width": 0.5
             }
            },
            "type": "barpolar"
           }
          ],
          "carpet": [
           {
            "aaxis": {
             "endlinecolor": "#2a3f5f",
             "gridcolor": "#C8D4E3",
             "linecolor": "#C8D4E3",
             "minorgridcolor": "#C8D4E3",
             "startlinecolor": "#2a3f5f"
            },
            "baxis": {
             "endlinecolor": "#2a3f5f",
             "gridcolor": "#C8D4E3",
             "linecolor": "#C8D4E3",
             "minorgridcolor": "#C8D4E3",
             "startlinecolor": "#2a3f5f"
            },
            "type": "carpet"
           }
          ],
          "choropleth": [
           {
            "colorbar": {
             "outlinewidth": 0,
             "ticks": ""
            },
            "type": "choropleth"
           }
          ],
          "contour": [
           {
            "colorbar": {
             "outlinewidth": 0,
             "ticks": ""
            },
            "colorscale": [
             [
              0,
              "#0d0887"
             ],
             [
              0.1111111111111111,
              "#46039f"
             ],
             [
              0.2222222222222222,
              "#7201a8"
             ],
             [
              0.3333333333333333,
              "#9c179e"
             ],
             [
              0.4444444444444444,
              "#bd3786"
             ],
             [
              0.5555555555555556,
              "#d8576b"
             ],
             [
              0.6666666666666666,
              "#ed7953"
             ],
             [
              0.7777777777777778,
              "#fb9f3a"
             ],
             [
              0.8888888888888888,
              "#fdca26"
             ],
             [
              1,
              "#f0f921"
             ]
            ],
            "type": "contour"
           }
          ],
          "contourcarpet": [
           {
            "colorbar": {
             "outlinewidth": 0,
             "ticks": ""
            },
            "type": "contourcarpet"
           }
          ],
          "heatmap": [
           {
            "colorbar": {
             "outlinewidth": 0,
             "ticks": ""
            },
            "colorscale": [
             [
              0,
              "#0d0887"
             ],
             [
              0.1111111111111111,
              "#46039f"
             ],
             [
              0.2222222222222222,
              "#7201a8"
             ],
             [
              0.3333333333333333,
              "#9c179e"
             ],
             [
              0.4444444444444444,
              "#bd3786"
             ],
             [
              0.5555555555555556,
              "#d8576b"
             ],
             [
              0.6666666666666666,
              "#ed7953"
             ],
             [
              0.7777777777777778,
              "#fb9f3a"
             ],
             [
              0.8888888888888888,
              "#fdca26"
             ],
             [
              1,
              "#f0f921"
             ]
            ],
            "type": "heatmap"
           }
          ],
          "heatmapgl": [
           {
            "colorbar": {
             "outlinewidth": 0,
             "ticks": ""
            },
            "colorscale": [
             [
              0,
              "#0d0887"
             ],
             [
              0.1111111111111111,
              "#46039f"
             ],
             [
              0.2222222222222222,
              "#7201a8"
             ],
             [
              0.3333333333333333,
              "#9c179e"
             ],
             [
              0.4444444444444444,
              "#bd3786"
             ],
             [
              0.5555555555555556,
              "#d8576b"
             ],
             [
              0.6666666666666666,
              "#ed7953"
             ],
             [
              0.7777777777777778,
              "#fb9f3a"
             ],
             [
              0.8888888888888888,
              "#fdca26"
             ],
             [
              1,
              "#f0f921"
             ]
            ],
            "type": "heatmapgl"
           }
          ],
          "histogram": [
           {
            "marker": {
             "colorbar": {
              "outlinewidth": 0,
              "ticks": ""
             }
            },
            "type": "histogram"
           }
          ],
          "histogram2d": [
           {
            "colorbar": {
             "outlinewidth": 0,
             "ticks": ""
            },
            "colorscale": [
             [
              0,
              "#0d0887"
             ],
             [
              0.1111111111111111,
              "#46039f"
             ],
             [
              0.2222222222222222,
              "#7201a8"
             ],
             [
              0.3333333333333333,
              "#9c179e"
             ],
             [
              0.4444444444444444,
              "#bd3786"
             ],
             [
              0.5555555555555556,
              "#d8576b"
             ],
             [
              0.6666666666666666,
              "#ed7953"
             ],
             [
              0.7777777777777778,
              "#fb9f3a"
             ],
             [
              0.8888888888888888,
              "#fdca26"
             ],
             [
              1,
              "#f0f921"
             ]
            ],
            "type": "histogram2d"
           }
          ],
          "histogram2dcontour": [
           {
            "colorbar": {
             "outlinewidth": 0,
             "ticks": ""
            },
            "colorscale": [
             [
              0,
              "#0d0887"
             ],
             [
              0.1111111111111111,
              "#46039f"
             ],
             [
              0.2222222222222222,
              "#7201a8"
             ],
             [
              0.3333333333333333,
              "#9c179e"
             ],
             [
              0.4444444444444444,
              "#bd3786"
             ],
             [
              0.5555555555555556,
              "#d8576b"
             ],
             [
              0.6666666666666666,
              "#ed7953"
             ],
             [
              0.7777777777777778,
              "#fb9f3a"
             ],
             [
              0.8888888888888888,
              "#fdca26"
             ],
             [
              1,
              "#f0f921"
             ]
            ],
            "type": "histogram2dcontour"
           }
          ],
          "mesh3d": [
           {
            "colorbar": {
             "outlinewidth": 0,
             "ticks": ""
            },
            "type": "mesh3d"
           }
          ],
          "parcoords": [
           {
            "line": {
             "colorbar": {
              "outlinewidth": 0,
              "ticks": ""
             }
            },
            "type": "parcoords"
           }
          ],
          "pie": [
           {
            "automargin": true,
            "type": "pie"
           }
          ],
          "scatter": [
           {
            "marker": {
             "colorbar": {
              "outlinewidth": 0,
              "ticks": ""
             }
            },
            "type": "scatter"
           }
          ],
          "scatter3d": [
           {
            "line": {
             "colorbar": {
              "outlinewidth": 0,
              "ticks": ""
             }
            },
            "marker": {
             "colorbar": {
              "outlinewidth": 0,
              "ticks": ""
             }
            },
            "type": "scatter3d"
           }
          ],
          "scattercarpet": [
           {
            "marker": {
             "colorbar": {
              "outlinewidth": 0,
              "ticks": ""
             }
            },
            "type": "scattercarpet"
           }
          ],
          "scattergeo": [
           {
            "marker": {
             "colorbar": {
              "outlinewidth": 0,
              "ticks": ""
             }
            },
            "type": "scattergeo"
           }
          ],
          "scattergl": [
           {
            "marker": {
             "colorbar": {
              "outlinewidth": 0,
              "ticks": ""
             }
            },
            "type": "scattergl"
           }
          ],
          "scattermapbox": [
           {
            "marker": {
             "colorbar": {
              "outlinewidth": 0,
              "ticks": ""
             }
            },
            "type": "scattermapbox"
           }
          ],
          "scatterpolar": [
           {
            "marker": {
             "colorbar": {
              "outlinewidth": 0,
              "ticks": ""
             }
            },
            "type": "scatterpolar"
           }
          ],
          "scatterpolargl": [
           {
            "marker": {
             "colorbar": {
              "outlinewidth": 0,
              "ticks": ""
             }
            },
            "type": "scatterpolargl"
           }
          ],
          "scatterternary": [
           {
            "marker": {
             "colorbar": {
              "outlinewidth": 0,
              "ticks": ""
             }
            },
            "type": "scatterternary"
           }
          ],
          "surface": [
           {
            "colorbar": {
             "outlinewidth": 0,
             "ticks": ""
            },
            "colorscale": [
             [
              0,
              "#0d0887"
             ],
             [
              0.1111111111111111,
              "#46039f"
             ],
             [
              0.2222222222222222,
              "#7201a8"
             ],
             [
              0.3333333333333333,
              "#9c179e"
             ],
             [
              0.4444444444444444,
              "#bd3786"
             ],
             [
              0.5555555555555556,
              "#d8576b"
             ],
             [
              0.6666666666666666,
              "#ed7953"
             ],
             [
              0.7777777777777778,
              "#fb9f3a"
             ],
             [
              0.8888888888888888,
              "#fdca26"
             ],
             [
              1,
              "#f0f921"
             ]
            ],
            "type": "surface"
           }
          ],
          "table": [
           {
            "cells": {
             "fill": {
              "color": "#EBF0F8"
             },
             "line": {
              "color": "white"
             }
            },
            "header": {
             "fill": {
              "color": "#C8D4E3"
             },
             "line": {
              "color": "white"
             }
            },
            "type": "table"
           }
          ]
         },
         "layout": {
          "annotationdefaults": {
           "arrowcolor": "#2a3f5f",
           "arrowhead": 0,
           "arrowwidth": 1
          },
          "coloraxis": {
           "colorbar": {
            "outlinewidth": 0,
            "ticks": ""
           }
          },
          "colorscale": {
           "diverging": [
            [
             0,
             "#8e0152"
            ],
            [
             0.1,
             "#c51b7d"
            ],
            [
             0.2,
             "#de77ae"
            ],
            [
             0.3,
             "#f1b6da"
            ],
            [
             0.4,
             "#fde0ef"
            ],
            [
             0.5,
             "#f7f7f7"
            ],
            [
             0.6,
             "#e6f5d0"
            ],
            [
             0.7,
             "#b8e186"
            ],
            [
             0.8,
             "#7fbc41"
            ],
            [
             0.9,
             "#4d9221"
            ],
            [
             1,
             "#276419"
            ]
           ],
           "sequential": [
            [
             0,
             "#0d0887"
            ],
            [
             0.1111111111111111,
             "#46039f"
            ],
            [
             0.2222222222222222,
             "#7201a8"
            ],
            [
             0.3333333333333333,
             "#9c179e"
            ],
            [
             0.4444444444444444,
             "#bd3786"
            ],
            [
             0.5555555555555556,
             "#d8576b"
            ],
            [
             0.6666666666666666,
             "#ed7953"
            ],
            [
             0.7777777777777778,
             "#fb9f3a"
            ],
            [
             0.8888888888888888,
             "#fdca26"
            ],
            [
             1,
             "#f0f921"
            ]
           ],
           "sequentialminus": [
            [
             0,
             "#0d0887"
            ],
            [
             0.1111111111111111,
             "#46039f"
            ],
            [
             0.2222222222222222,
             "#7201a8"
            ],
            [
             0.3333333333333333,
             "#9c179e"
            ],
            [
             0.4444444444444444,
             "#bd3786"
            ],
            [
             0.5555555555555556,
             "#d8576b"
            ],
            [
             0.6666666666666666,
             "#ed7953"
            ],
            [
             0.7777777777777778,
             "#fb9f3a"
            ],
            [
             0.8888888888888888,
             "#fdca26"
            ],
            [
             1,
             "#f0f921"
            ]
           ]
          },
          "colorway": [
           "#636efa",
           "#EF553B",
           "#00cc96",
           "#ab63fa",
           "#FFA15A",
           "#19d3f3",
           "#FF6692",
           "#B6E880",
           "#FF97FF",
           "#FECB52"
          ],
          "font": {
           "color": "#2a3f5f"
          },
          "geo": {
           "bgcolor": "white",
           "lakecolor": "white",
           "landcolor": "white",
           "showlakes": true,
           "showland": true,
           "subunitcolor": "#C8D4E3"
          },
          "hoverlabel": {
           "align": "left"
          },
          "hovermode": "closest",
          "mapbox": {
           "style": "light"
          },
          "paper_bgcolor": "white",
          "plot_bgcolor": "white",
          "polar": {
           "angularaxis": {
            "gridcolor": "#EBF0F8",
            "linecolor": "#EBF0F8",
            "ticks": ""
           },
           "bgcolor": "white",
           "radialaxis": {
            "gridcolor": "#EBF0F8",
            "linecolor": "#EBF0F8",
            "ticks": ""
           }
          },
          "scene": {
           "xaxis": {
            "backgroundcolor": "white",
            "gridcolor": "#DFE8F3",
            "gridwidth": 2,
            "linecolor": "#EBF0F8",
            "showbackground": true,
            "ticks": "",
            "zerolinecolor": "#EBF0F8"
           },
           "yaxis": {
            "backgroundcolor": "white",
            "gridcolor": "#DFE8F3",
            "gridwidth": 2,
            "linecolor": "#EBF0F8",
            "showbackground": true,
            "ticks": "",
            "zerolinecolor": "#EBF0F8"
           },
           "zaxis": {
            "backgroundcolor": "white",
            "gridcolor": "#DFE8F3",
            "gridwidth": 2,
            "linecolor": "#EBF0F8",
            "showbackground": true,
            "ticks": "",
            "zerolinecolor": "#EBF0F8"
           }
          },
          "shapedefaults": {
           "line": {
            "color": "#2a3f5f"
           }
          },
          "ternary": {
           "aaxis": {
            "gridcolor": "#DFE8F3",
            "linecolor": "#A2B1C6",
            "ticks": ""
           },
           "baxis": {
            "gridcolor": "#DFE8F3",
            "linecolor": "#A2B1C6",
            "ticks": ""
           },
           "bgcolor": "white",
           "caxis": {
            "gridcolor": "#DFE8F3",
            "linecolor": "#A2B1C6",
            "ticks": ""
           }
          },
          "title": {
           "x": 0.05
          },
          "xaxis": {
           "automargin": true,
           "gridcolor": "#EBF0F8",
           "linecolor": "#EBF0F8",
           "ticks": "",
           "title": {
            "standoff": 15
           },
           "zerolinecolor": "#EBF0F8",
           "zerolinewidth": 2
          },
          "yaxis": {
           "automargin": true,
           "gridcolor": "#EBF0F8",
           "linecolor": "#EBF0F8",
           "ticks": "",
           "title": {
            "standoff": 15
           },
           "zerolinecolor": "#EBF0F8",
           "zerolinewidth": 2
          }
         }
        },
        "title": {
         "text": "Tire Slip Angle & Saturation (locked) Status"
        },
        "width": 800,
        "xaxis": {
         "anchor": "y",
         "domain": [
          0,
          1
         ],
         "linecolor": "black",
         "linewidth": 1,
         "matches": "x2",
         "showgrid": false,
         "showline": true,
         "showticklabels": false,
         "tickcolor": "black",
         "ticklen": 10,
         "ticks": "outside",
         "tickwidth": 1,
         "title": {
          "text": ""
         },
         "zeroline": false
        },
        "xaxis2": {
         "anchor": "y2",
         "domain": [
          0,
          1
         ],
         "linecolor": "black",
         "linewidth": 1,
         "showgrid": false,
         "showline": true,
         "tickcolor": "black",
         "ticklen": 10,
         "ticks": "outside",
         "tickwidth": 1,
         "title": {
          "text": "Time (s)"
         },
         "zeroline": false
        },
        "yaxis": {
         "anchor": "x",
         "domain": [
          0.555,
          1
         ],
         "linecolor": "black",
         "linewidth": 1,
         "showgrid": false,
         "showline": true,
         "tickcolor": "black",
         "ticklen": 10,
         "ticks": "outside",
         "tickwidth": 1,
         "title": {
          "text": "Slip Angle (degrees)"
         },
         "zeroline": false
        },
        "yaxis2": {
         "anchor": "x2",
         "domain": [
          0,
          0.445
         ],
         "linecolor": "black",
         "linewidth": 1,
         "showgrid": false,
         "showline": true,
         "tickcolor": "black",
         "ticklen": 10,
         "ticks": "outside",
         "tickwidth": 1,
         "title": {
          "text": "Locked Satus"
         },
         "zeroline": false
        }
       }
      },
      "text/html": [
       "<div>\n",
       "        \n",
       "        \n",
       "            <div id=\"dd18168c-6397-47ba-b790-86a78b185b50\" class=\"plotly-graph-div\" style=\"height:450px; width:800px;\"></div>\n",
       "            <script type=\"text/javascript\">\n",
       "                require([\"plotly\"], function(Plotly) {\n",
       "                    window.PLOTLYENV=window.PLOTLYENV || {};\n",
       "                    \n",
       "                if (document.getElementById(\"dd18168c-6397-47ba-b790-86a78b185b50\")) {\n",
       "                    Plotly.newPlot(\n",
       "                        'dd18168c-6397-47ba-b790-86a78b185b50',\n",
       "                        [{\"line\": {\"color\": \"rgb(0, 0, 255)\", \"dash\": \"solid\", \"width\": 1}, \"mode\": \"lines\", \"name\": \"LF\", \"type\": \"scatter\", \"x\": [0.0, 0.1, 0.2, 0.3, 0.4, 0.5, 0.6, 0.7, 0.8, 0.9, 1.0, 1.1, 1.2, 1.3, 1.4, 1.5, 1.6, 1.7, 1.8, 1.9, 2.0, 2.1, 2.2, 2.3, 2.4, 2.5, 2.6, 2.7, 2.8, 2.9, 3.0, 3.1, 3.2, 3.3, 3.4, 3.5, 3.6, 3.7, 3.8, 3.9, 4.0, 4.1, 4.2, 4.3, 4.4, 4.5, 4.6, 4.7, 4.8, 4.9, 5.0], \"xaxis\": \"x\", \"y\": [0.0, 0.0, 0.0, 0.0, 0.0, 0.0, 0.0, 0.0, 0.0, 0.0, 0.0, 0.0, 0.0, 0.0, 0.0, 0.0, 0.0, 180.0, -179.99999999999994, 6.08307556391129e-14, 1.0041706996152528e-13, -179.99999999999997, 179.99999999999943, 6.705487993731289e-13, 1.3908366722455734e-12, 179.99999999999457, 179.99999999998803, 2.0588194438141852e-11, 4.651773818100954e-11, 179.99999999978766, 179.9999999996254, 7.155510877899537e-10, 1.637777697967478e-09, 179.9999999925782, 179.99999998705098, 2.4925593243469916e-08, 5.708634618138329e-08, 179.99999974149347, 179.99999954926878, 8.680575996886649e-07, 1.9881482216138507e-06, 179.99999099744824, 179.99998430381154, 3.023011037208179e-05, 6.923741435275392e-05, 179.9996864879488, 179.9994533888016, 0.0010527708360924285, 0.0024112347585859184, 179.98908350389806, 179.9809718791689], \"yaxis\": \"y\"}, {\"line\": {\"color\": \"rgb(0, 255, 0)\", \"dash\": \"solid\", \"width\": 1}, \"mode\": \"lines\", \"name\": \"RF\", \"type\": \"scatter\", \"x\": [0.0, 0.1, 0.2, 0.3, 0.4, 0.5, 0.6, 0.7, 0.8, 0.9, 1.0, 1.1, 1.2, 1.3, 1.4, 1.5, 1.6, 1.7, 1.8, 1.9, 2.0, 2.1, 2.2, 2.3, 2.4, 2.5, 2.6, 2.7, 2.8, 2.9, 3.0, 3.1, 3.2, 3.3, 3.4, 3.5, 3.6, 3.7, 3.8, 3.9, 4.0, 4.1, 4.2, 4.3, 4.4, 4.5, 4.6, 4.7, 4.8, 4.9, 5.0], \"xaxis\": \"x\", \"y\": [0.0, 0.0, 0.0, 0.0, 0.0, 0.0, 0.0, 0.0, 0.0, 0.0, 0.0, 0.0, 0.0, 0.0, 0.0, 0.0, 0.0, 180.0, -179.99999999999994, 6.083075563911292e-14, 1.0041706996152528e-13, -179.99999999999997, 179.99999999999943, 6.705487993731219e-13, 1.3908366722455377e-12, 179.99999999999457, 179.99999999998803, 2.058819443813439e-11, 4.6517738180973125e-11, 179.99999999978766, 179.9999999996254, 7.155510877808986e-10, 1.6377776979230032e-09, 179.9999999925782, 179.99999998705098, 2.492559323248586e-08, 5.708634612741297e-08, 179.99999974149347, 179.99999954926875, 8.680575863671941e-07, 1.988148156157303e-06, 179.99999099744605, 179.99998430380097, 3.0230094216109442e-05, 6.92373349684753e-05, 179.99968648534033, 179.99945337596628, 0.001052751242530472, 0.002411138483298462, 179.98908034037802, 179.9809563128214], \"yaxis\": \"y\"}, {\"line\": {\"color\": \"rgb(153, 0, 204)\", \"dash\": \"solid\", \"width\": 1}, \"mode\": \"lines\", \"name\": \"RR\", \"type\": \"scatter\", \"x\": [0.0, 0.1, 0.2, 0.3, 0.4, 0.5, 0.6, 0.7, 0.8, 0.9, 1.0, 1.1, 1.2, 1.3, 1.4, 1.5, 1.6, 1.7, 1.8, 1.9, 2.0, 2.1, 2.2, 2.3, 2.4, 2.5, 2.6, 2.7, 2.8, 2.9, 3.0, 3.1, 3.2, 3.3, 3.4, 3.5, 3.6, 3.7, 3.8, 3.9, 4.0, 4.1, 4.2, 4.3, 4.4, 4.5, 4.6, 4.7, 4.8, 4.9, 5.0], \"xaxis\": \"x\", \"y\": [-0.0, -0.0, -0.0, -0.0, -0.0, -0.0, -0.0, -0.0, -0.0, -0.0, -0.0, -0.0, -0.0, -0.0, -0.0, -0.0, -0.0, -180.0, 180.0, -4.190450037594039e-14, -9.035371849459837e-14, -179.9999999999996, -179.99999999999812, -1.7172861587617705e-12, -4.02333844459135e-12, -179.99999999997863, -179.99999999994148, -5.7815113054715035e-11, -1.269704224224872e-10, -179.9999999992059, -179.9999999979864, -2.016277409443698e-09, -4.428956628650237e-09, -179.9999999723292, -179.99999992990968, -7.022030998229036e-08, -1.5426103769781376e-07, -179.9999990363379, -179.99999755918574, -2.4454292317795047e-06, -5.3721822932799995e-06, -179.99996644048363, -179.99991499897928, -8.51618863049497e-05, -0.00018708583549101657, -179.99883128768994, -179.99703981289167, -0.00296572912012533, -0.0065151231118870485, -179.95929396629853, -179.896870896479], \"yaxis\": \"y\"}, {\"line\": {\"color\": \"rgb(255, 102, 0)\", \"dash\": \"solid\", \"width\": 1}, \"mode\": \"lines\", \"name\": \"LR\", \"type\": \"scatter\", \"x\": [0.0, 0.1, 0.2, 0.3, 0.4, 0.5, 0.6, 0.7, 0.8, 0.9, 1.0, 1.1, 1.2, 1.3, 1.4, 1.5, 1.6, 1.7, 1.8, 1.9, 2.0, 2.1, 2.2, 2.3, 2.4, 2.5, 2.6, 2.7, 2.8, 2.9, 3.0, 3.1, 3.2, 3.3, 3.4, 3.5, 3.6, 3.7, 3.8, 3.9, 4.0, 4.1, 4.2, 4.3, 4.4, 4.5, 4.6, 4.7, 4.8, 4.9, 5.0], \"xaxis\": \"x\", \"y\": [-0.0, -0.0, -0.0, -0.0, -0.0, -0.0, -0.0, -0.0, -0.0, -0.0, -0.0, -0.0, -0.0, -0.0, -0.0, -0.0, -0.0, -180.0, 180.0, -4.1904500375940374e-14, -9.035371849459837e-14, -179.9999999999996, -179.99999999999812, -1.7172861587617881e-12, -4.023338444591453e-12, -179.99999999997863, -179.99999999994148, -5.781511305473598e-11, -1.2697042242258662e-10, -179.9999999992059, -179.9999999979864, -2.016277409469214e-09, -4.4289566287705086e-09, -179.9999999723292, -179.99999992990968, -7.02203100132346e-08, -1.5426103784365457e-07, -179.9999990363379, -179.99999755918577, -2.4454292693077915e-06, -5.372182470150372e-06, -179.99996644049162, -179.9999149990366, -8.516193181830704e-05, -0.00018708604999485468, -179.99883129741383, -179.99703988240003, -0.002965784317587773, -0.0065153832567729966, -179.9593057591857, -179.89695519423586], \"yaxis\": \"y\"}, {\"line\": {\"color\": \"rgb(0, 0, 255)\", \"dash\": \"solid\", \"width\": 1}, \"mode\": \"lines\", \"name\": \"LF\", \"showlegend\": false, \"type\": \"scatter\", \"x\": [0.0, 0.1, 0.2, 0.3, 0.4, 0.5, 0.6, 0.7, 0.8, 0.9, 1.0, 1.1, 1.2, 1.3, 1.4, 1.5, 1.6, 1.7, 1.8, 1.9, 2.0, 2.1, 2.2, 2.3, 2.4, 2.5, 2.6, 2.7, 2.8, 2.9, 3.0, 3.1, 3.2, 3.3, 3.4, 3.5, 3.6, 3.7, 3.8, 3.9, 4.0, 4.1, 4.2, 4.3, 4.4, 4.5, 4.6, 4.7, 4.8, 4.9, 5.0], \"xaxis\": \"x2\", \"y\": [0.0, 0.0, 0.0, 0.0, 0.0, 0.0, 0.0, 0.0, 0.0, 0.0, 0.0, 0.0, 0.0, 0.0, 0.0, 0.0, 0.0, 0.0, 0.0, 0.0, 0.0, 0.0, 0.0, 0.0, 0.0, 0.0, 0.0, 0.0, 0.0, 0.0, 0.0, 0.0, 0.0, 0.0, 0.0, 0.0, 0.0, 0.0, 0.0, 0.0, 0.0, 0.0, 0.0, 0.0, 0.0, 0.0, 0.0, 0.0, 0.0, 0.0, 0.0], \"yaxis\": \"y2\"}, {\"line\": {\"color\": \"rgb(0, 255, 0)\", \"dash\": \"solid\", \"width\": 1}, \"mode\": \"lines\", \"name\": \"RF\", \"showlegend\": false, \"type\": \"scatter\", \"x\": [0.0, 0.1, 0.2, 0.3, 0.4, 0.5, 0.6, 0.7, 0.8, 0.9, 1.0, 1.1, 1.2, 1.3, 1.4, 1.5, 1.6, 1.7, 1.8, 1.9, 2.0, 2.1, 2.2, 2.3, 2.4, 2.5, 2.6, 2.7, 2.8, 2.9, 3.0, 3.1, 3.2, 3.3, 3.4, 3.5, 3.6, 3.7, 3.8, 3.9, 4.0, 4.1, 4.2, 4.3, 4.4, 4.5, 4.6, 4.7, 4.8, 4.9, 5.0], \"xaxis\": \"x2\", \"y\": [0.0, 0.0, 0.0, 0.0, 0.0, 0.0, 0.0, 0.0, 0.0, 0.0, 0.0, 0.0, 0.0, 0.0, 0.0, 0.0, 0.0, 0.0, 0.0, 0.0, 0.0, 0.0, 0.0, 0.0, 0.0, 0.0, 0.0, 0.0, 0.0, 0.0, 0.0, 0.0, 0.0, 0.0, 0.0, 0.0, 0.0, 0.0, 0.0, 0.0, 0.0, 0.0, 0.0, 0.0, 0.0, 0.0, 0.0, 0.0, 0.0, 0.0, 0.0], \"yaxis\": \"y2\"}, {\"line\": {\"color\": \"rgb(153, 0, 204)\", \"dash\": \"solid\", \"width\": 1}, \"mode\": \"lines\", \"name\": \"RR\", \"showlegend\": false, \"type\": \"scatter\", \"x\": [0.0, 0.1, 0.2, 0.3, 0.4, 0.5, 0.6, 0.7, 0.8, 0.9, 1.0, 1.1, 1.2, 1.3, 1.4, 1.5, 1.6, 1.7, 1.8, 1.9, 2.0, 2.1, 2.2, 2.3, 2.4, 2.5, 2.6, 2.7, 2.8, 2.9, 3.0, 3.1, 3.2, 3.3, 3.4, 3.5, 3.6, 3.7, 3.8, 3.9, 4.0, 4.1, 4.2, 4.3, 4.4, 4.5, 4.6, 4.7, 4.8, 4.9, 5.0], \"xaxis\": \"x2\", \"y\": [0.0, 0.0, 0.0, 0.0, 0.0, 0.0, 0.0, 0.0, 0.0, 0.0, 0.0, 0.0, 0.0, 0.0, 0.0, 0.0, 0.0, 0.0, 0.0, 0.0, 0.0, 0.0, 0.0, 0.0, 0.0, 0.0, 0.0, 0.0, 0.0, 0.0, 0.0, 0.0, 0.0, 0.0, 0.0, 0.0, 0.0, 0.0, 0.0, 0.0, 0.0, 0.0, 0.0, 0.0, 0.0, 0.0, 0.0, 0.0, 0.0, 0.0, 0.0], \"yaxis\": \"y2\"}, {\"line\": {\"color\": \"rgb(255, 102, 0)\", \"dash\": \"solid\", \"width\": 1}, \"mode\": \"lines\", \"name\": \"LR\", \"showlegend\": false, \"type\": \"scatter\", \"x\": [0.0, 0.1, 0.2, 0.3, 0.4, 0.5, 0.6, 0.7, 0.8, 0.9, 1.0, 1.1, 1.2, 1.3, 1.4, 1.5, 1.6, 1.7, 1.8, 1.9, 2.0, 2.1, 2.2, 2.3, 2.4, 2.5, 2.6, 2.7, 2.8, 2.9, 3.0, 3.1, 3.2, 3.3, 3.4, 3.5, 3.6, 3.7, 3.8, 3.9, 4.0, 4.1, 4.2, 4.3, 4.4, 4.5, 4.6, 4.7, 4.8, 4.9, 5.0], \"xaxis\": \"x2\", \"y\": [0.0, 0.0, 0.0, 0.0, 0.0, 0.0, 0.0, 0.0, 0.0, 0.0, 0.0, 0.0, 0.0, 0.0, 0.0, 0.0, 0.0, 0.0, 0.0, 0.0, 0.0, 0.0, 0.0, 0.0, 0.0, 0.0, 0.0, 0.0, 0.0, 0.0, 0.0, 0.0, 0.0, 0.0, 0.0, 0.0, 0.0, 0.0, 0.0, 0.0, 0.0, 0.0, 0.0, 0.0, 0.0, 0.0, 0.0, 0.0, 0.0, 0.0, 0.0], \"yaxis\": \"y2\"}],\n",
       "                        {\"autosize\": false, \"font\": {\"color\": \"black\", \"family\": \"Arial\", \"size\": 16}, \"height\": 450, \"legend\": {\"orientation\": \"h\", \"x\": 0.01, \"xanchor\": \"left\", \"y\": 1.15, \"yanchor\": \"top\"}, \"template\": {\"data\": {\"bar\": [{\"error_x\": {\"color\": \"#2a3f5f\"}, \"error_y\": {\"color\": \"#2a3f5f\"}, \"marker\": {\"line\": {\"color\": \"white\", \"width\": 0.5}}, \"type\": \"bar\"}], \"barpolar\": [{\"marker\": {\"line\": {\"color\": \"white\", \"width\": 0.5}}, \"type\": \"barpolar\"}], \"carpet\": [{\"aaxis\": {\"endlinecolor\": \"#2a3f5f\", \"gridcolor\": \"#C8D4E3\", \"linecolor\": \"#C8D4E3\", \"minorgridcolor\": \"#C8D4E3\", \"startlinecolor\": \"#2a3f5f\"}, \"baxis\": {\"endlinecolor\": \"#2a3f5f\", \"gridcolor\": \"#C8D4E3\", \"linecolor\": \"#C8D4E3\", \"minorgridcolor\": \"#C8D4E3\", \"startlinecolor\": \"#2a3f5f\"}, \"type\": \"carpet\"}], \"choropleth\": [{\"colorbar\": {\"outlinewidth\": 0, \"ticks\": \"\"}, \"type\": \"choropleth\"}], \"contour\": [{\"colorbar\": {\"outlinewidth\": 0, \"ticks\": \"\"}, \"colorscale\": [[0.0, \"#0d0887\"], [0.1111111111111111, \"#46039f\"], [0.2222222222222222, \"#7201a8\"], [0.3333333333333333, \"#9c179e\"], [0.4444444444444444, \"#bd3786\"], [0.5555555555555556, \"#d8576b\"], [0.6666666666666666, \"#ed7953\"], [0.7777777777777778, \"#fb9f3a\"], [0.8888888888888888, \"#fdca26\"], [1.0, \"#f0f921\"]], \"type\": \"contour\"}], \"contourcarpet\": [{\"colorbar\": {\"outlinewidth\": 0, \"ticks\": \"\"}, \"type\": \"contourcarpet\"}], \"heatmap\": [{\"colorbar\": {\"outlinewidth\": 0, \"ticks\": \"\"}, \"colorscale\": [[0.0, \"#0d0887\"], [0.1111111111111111, \"#46039f\"], [0.2222222222222222, \"#7201a8\"], [0.3333333333333333, \"#9c179e\"], [0.4444444444444444, \"#bd3786\"], [0.5555555555555556, \"#d8576b\"], [0.6666666666666666, \"#ed7953\"], [0.7777777777777778, \"#fb9f3a\"], [0.8888888888888888, \"#fdca26\"], [1.0, \"#f0f921\"]], \"type\": \"heatmap\"}], \"heatmapgl\": [{\"colorbar\": {\"outlinewidth\": 0, \"ticks\": \"\"}, \"colorscale\": [[0.0, \"#0d0887\"], [0.1111111111111111, \"#46039f\"], [0.2222222222222222, \"#7201a8\"], [0.3333333333333333, \"#9c179e\"], [0.4444444444444444, \"#bd3786\"], [0.5555555555555556, \"#d8576b\"], [0.6666666666666666, \"#ed7953\"], [0.7777777777777778, \"#fb9f3a\"], [0.8888888888888888, \"#fdca26\"], [1.0, \"#f0f921\"]], \"type\": \"heatmapgl\"}], \"histogram\": [{\"marker\": {\"colorbar\": {\"outlinewidth\": 0, \"ticks\": \"\"}}, \"type\": \"histogram\"}], \"histogram2d\": [{\"colorbar\": {\"outlinewidth\": 0, \"ticks\": \"\"}, \"colorscale\": [[0.0, \"#0d0887\"], [0.1111111111111111, \"#46039f\"], [0.2222222222222222, \"#7201a8\"], [0.3333333333333333, \"#9c179e\"], [0.4444444444444444, \"#bd3786\"], [0.5555555555555556, \"#d8576b\"], [0.6666666666666666, \"#ed7953\"], [0.7777777777777778, \"#fb9f3a\"], [0.8888888888888888, \"#fdca26\"], [1.0, \"#f0f921\"]], \"type\": \"histogram2d\"}], \"histogram2dcontour\": [{\"colorbar\": {\"outlinewidth\": 0, \"ticks\": \"\"}, \"colorscale\": [[0.0, \"#0d0887\"], [0.1111111111111111, \"#46039f\"], [0.2222222222222222, \"#7201a8\"], [0.3333333333333333, \"#9c179e\"], [0.4444444444444444, \"#bd3786\"], [0.5555555555555556, \"#d8576b\"], [0.6666666666666666, \"#ed7953\"], [0.7777777777777778, \"#fb9f3a\"], [0.8888888888888888, \"#fdca26\"], [1.0, \"#f0f921\"]], \"type\": \"histogram2dcontour\"}], \"mesh3d\": [{\"colorbar\": {\"outlinewidth\": 0, \"ticks\": \"\"}, \"type\": \"mesh3d\"}], \"parcoords\": [{\"line\": {\"colorbar\": {\"outlinewidth\": 0, \"ticks\": \"\"}}, \"type\": \"parcoords\"}], \"pie\": [{\"automargin\": true, \"type\": \"pie\"}], \"scatter\": [{\"marker\": {\"colorbar\": {\"outlinewidth\": 0, \"ticks\": \"\"}}, \"type\": \"scatter\"}], \"scatter3d\": [{\"line\": {\"colorbar\": {\"outlinewidth\": 0, \"ticks\": \"\"}}, \"marker\": {\"colorbar\": {\"outlinewidth\": 0, \"ticks\": \"\"}}, \"type\": \"scatter3d\"}], \"scattercarpet\": [{\"marker\": {\"colorbar\": {\"outlinewidth\": 0, \"ticks\": \"\"}}, \"type\": \"scattercarpet\"}], \"scattergeo\": [{\"marker\": {\"colorbar\": {\"outlinewidth\": 0, \"ticks\": \"\"}}, \"type\": \"scattergeo\"}], \"scattergl\": [{\"marker\": {\"colorbar\": {\"outlinewidth\": 0, \"ticks\": \"\"}}, \"type\": \"scattergl\"}], \"scattermapbox\": [{\"marker\": {\"colorbar\": {\"outlinewidth\": 0, \"ticks\": \"\"}}, \"type\": \"scattermapbox\"}], \"scatterpolar\": [{\"marker\": {\"colorbar\": {\"outlinewidth\": 0, \"ticks\": \"\"}}, \"type\": \"scatterpolar\"}], \"scatterpolargl\": [{\"marker\": {\"colorbar\": {\"outlinewidth\": 0, \"ticks\": \"\"}}, \"type\": \"scatterpolargl\"}], \"scatterternary\": [{\"marker\": {\"colorbar\": {\"outlinewidth\": 0, \"ticks\": \"\"}}, \"type\": \"scatterternary\"}], \"surface\": [{\"colorbar\": {\"outlinewidth\": 0, \"ticks\": \"\"}, \"colorscale\": [[0.0, \"#0d0887\"], [0.1111111111111111, \"#46039f\"], [0.2222222222222222, \"#7201a8\"], [0.3333333333333333, \"#9c179e\"], [0.4444444444444444, \"#bd3786\"], [0.5555555555555556, \"#d8576b\"], [0.6666666666666666, \"#ed7953\"], [0.7777777777777778, \"#fb9f3a\"], [0.8888888888888888, \"#fdca26\"], [1.0, \"#f0f921\"]], \"type\": \"surface\"}], \"table\": [{\"cells\": {\"fill\": {\"color\": \"#EBF0F8\"}, \"line\": {\"color\": \"white\"}}, \"header\": {\"fill\": {\"color\": \"#C8D4E3\"}, \"line\": {\"color\": \"white\"}}, \"type\": \"table\"}]}, \"layout\": {\"annotationdefaults\": {\"arrowcolor\": \"#2a3f5f\", \"arrowhead\": 0, \"arrowwidth\": 1}, \"coloraxis\": {\"colorbar\": {\"outlinewidth\": 0, \"ticks\": \"\"}}, \"colorscale\": {\"diverging\": [[0, \"#8e0152\"], [0.1, \"#c51b7d\"], [0.2, \"#de77ae\"], [0.3, \"#f1b6da\"], [0.4, \"#fde0ef\"], [0.5, \"#f7f7f7\"], [0.6, \"#e6f5d0\"], [0.7, \"#b8e186\"], [0.8, \"#7fbc41\"], [0.9, \"#4d9221\"], [1, \"#276419\"]], \"sequential\": [[0.0, \"#0d0887\"], [0.1111111111111111, \"#46039f\"], [0.2222222222222222, \"#7201a8\"], [0.3333333333333333, \"#9c179e\"], [0.4444444444444444, \"#bd3786\"], [0.5555555555555556, \"#d8576b\"], [0.6666666666666666, \"#ed7953\"], [0.7777777777777778, \"#fb9f3a\"], [0.8888888888888888, \"#fdca26\"], [1.0, \"#f0f921\"]], \"sequentialminus\": [[0.0, \"#0d0887\"], [0.1111111111111111, \"#46039f\"], [0.2222222222222222, \"#7201a8\"], [0.3333333333333333, \"#9c179e\"], [0.4444444444444444, \"#bd3786\"], [0.5555555555555556, \"#d8576b\"], [0.6666666666666666, \"#ed7953\"], [0.7777777777777778, \"#fb9f3a\"], [0.8888888888888888, \"#fdca26\"], [1.0, \"#f0f921\"]]}, \"colorway\": [\"#636efa\", \"#EF553B\", \"#00cc96\", \"#ab63fa\", \"#FFA15A\", \"#19d3f3\", \"#FF6692\", \"#B6E880\", \"#FF97FF\", \"#FECB52\"], \"font\": {\"color\": \"#2a3f5f\"}, \"geo\": {\"bgcolor\": \"white\", \"lakecolor\": \"white\", \"landcolor\": \"white\", \"showlakes\": true, \"showland\": true, \"subunitcolor\": \"#C8D4E3\"}, \"hoverlabel\": {\"align\": \"left\"}, \"hovermode\": \"closest\", \"mapbox\": {\"style\": \"light\"}, \"paper_bgcolor\": \"white\", \"plot_bgcolor\": \"white\", \"polar\": {\"angularaxis\": {\"gridcolor\": \"#EBF0F8\", \"linecolor\": \"#EBF0F8\", \"ticks\": \"\"}, \"bgcolor\": \"white\", \"radialaxis\": {\"gridcolor\": \"#EBF0F8\", \"linecolor\": \"#EBF0F8\", \"ticks\": \"\"}}, \"scene\": {\"xaxis\": {\"backgroundcolor\": \"white\", \"gridcolor\": \"#DFE8F3\", \"gridwidth\": 2, \"linecolor\": \"#EBF0F8\", \"showbackground\": true, \"ticks\": \"\", \"zerolinecolor\": \"#EBF0F8\"}, \"yaxis\": {\"backgroundcolor\": \"white\", \"gridcolor\": \"#DFE8F3\", \"gridwidth\": 2, \"linecolor\": \"#EBF0F8\", \"showbackground\": true, \"ticks\": \"\", \"zerolinecolor\": \"#EBF0F8\"}, \"zaxis\": {\"backgroundcolor\": \"white\", \"gridcolor\": \"#DFE8F3\", \"gridwidth\": 2, \"linecolor\": \"#EBF0F8\", \"showbackground\": true, \"ticks\": \"\", \"zerolinecolor\": \"#EBF0F8\"}}, \"shapedefaults\": {\"line\": {\"color\": \"#2a3f5f\"}}, \"ternary\": {\"aaxis\": {\"gridcolor\": \"#DFE8F3\", \"linecolor\": \"#A2B1C6\", \"ticks\": \"\"}, \"baxis\": {\"gridcolor\": \"#DFE8F3\", \"linecolor\": \"#A2B1C6\", \"ticks\": \"\"}, \"bgcolor\": \"white\", \"caxis\": {\"gridcolor\": \"#DFE8F3\", \"linecolor\": \"#A2B1C6\", \"ticks\": \"\"}}, \"title\": {\"x\": 0.05}, \"xaxis\": {\"automargin\": true, \"gridcolor\": \"#EBF0F8\", \"linecolor\": \"#EBF0F8\", \"ticks\": \"\", \"title\": {\"standoff\": 15}, \"zerolinecolor\": \"#EBF0F8\", \"zerolinewidth\": 2}, \"yaxis\": {\"automargin\": true, \"gridcolor\": \"#EBF0F8\", \"linecolor\": \"#EBF0F8\", \"ticks\": \"\", \"title\": {\"standoff\": 15}, \"zerolinecolor\": \"#EBF0F8\", \"zerolinewidth\": 2}}}, \"title\": {\"text\": \"Tire Slip Angle & Saturation (locked) Status\"}, \"width\": 800, \"xaxis\": {\"anchor\": \"y\", \"domain\": [0.0, 1.0], \"linecolor\": \"black\", \"linewidth\": 1, \"matches\": \"x2\", \"showgrid\": false, \"showline\": true, \"showticklabels\": false, \"tickcolor\": \"black\", \"ticklen\": 10, \"ticks\": \"outside\", \"tickwidth\": 1, \"title\": {\"text\": \"\"}, \"zeroline\": false}, \"xaxis2\": {\"anchor\": \"y2\", \"domain\": [0.0, 1.0], \"linecolor\": \"black\", \"linewidth\": 1, \"showgrid\": false, \"showline\": true, \"tickcolor\": \"black\", \"ticklen\": 10, \"ticks\": \"outside\", \"tickwidth\": 1, \"title\": {\"text\": \"Time (s)\"}, \"zeroline\": false}, \"yaxis\": {\"anchor\": \"x\", \"domain\": [0.555, 1.0], \"linecolor\": \"black\", \"linewidth\": 1, \"showgrid\": false, \"showline\": true, \"tickcolor\": \"black\", \"ticklen\": 10, \"ticks\": \"outside\", \"tickwidth\": 1, \"title\": {\"text\": \"Slip Angle (degrees)\"}, \"zeroline\": false}, \"yaxis2\": {\"anchor\": \"x2\", \"domain\": [0.0, 0.445], \"linecolor\": \"black\", \"linewidth\": 1, \"showgrid\": false, \"showline\": true, \"tickcolor\": \"black\", \"ticklen\": 10, \"ticks\": \"outside\", \"tickwidth\": 1, \"title\": {\"text\": \"Locked Satus\"}, \"zeroline\": false}},\n",
       "                        {\"responsive\": true}\n",
       "                    ).then(function(){\n",
       "                            \n",
       "var gd = document.getElementById('dd18168c-6397-47ba-b790-86a78b185b50');\n",
       "var x = new MutationObserver(function (mutations, observer) {{\n",
       "        var display = window.getComputedStyle(gd).display;\n",
       "        if (!display || display === 'none') {{\n",
       "            console.log([gd, 'removed!']);\n",
       "            Plotly.purge(gd);\n",
       "            observer.disconnect();\n",
       "        }}\n",
       "}});\n",
       "\n",
       "// Listen for the removal of the full notebook cells\n",
       "var notebookContainer = gd.closest('#notebook-container');\n",
       "if (notebookContainer) {{\n",
       "    x.observe(notebookContainer, {childList: true});\n",
       "}}\n",
       "\n",
       "// Listen for the clearing of the current output cell\n",
       "var outputEl = gd.closest('.output');\n",
       "if (outputEl) {{\n",
       "    x.observe(outputEl, {childList: true});\n",
       "}}\n",
       "\n",
       "                        })\n",
       "                };\n",
       "                });\n",
       "            </script>\n",
       "        </div>"
      ]
     },
     "metadata": {},
     "output_type": "display_data"
    }
   ],
   "source": [
    "motion.tire_detail()"
   ]
  },
  {
   "cell_type": "code",
   "execution_count": 52,
   "metadata": {},
   "outputs": [
    {
     "data": {
      "application/vnd.plotly.v1+json": {
       "config": {
        "plotlyServerURL": "https://plot.ly"
       },
       "data": [
        {
         "line": {
          "color": "rgb(0, 0, 255)",
          "dash": "solid",
          "width": 1
         },
         "mode": "lines",
         "name": "lateral applied",
         "type": "scatter",
         "x": [
          0,
          0.1,
          0.2,
          0.3,
          0.4,
          0.5,
          0.6,
          0.7,
          0.8,
          0.9,
          1,
          1.1,
          1.2,
          1.3,
          1.4,
          1.5,
          1.6,
          1.7,
          1.8,
          1.9,
          2,
          2.1,
          2.2,
          2.3,
          2.4,
          2.5,
          2.6,
          2.7,
          2.8,
          2.9,
          3,
          3.1,
          3.2,
          3.3,
          3.4,
          3.5,
          3.6,
          3.7,
          3.8,
          3.9,
          4,
          4.1,
          4.2,
          4.3,
          4.4,
          4.5,
          4.6,
          4.7,
          4.8,
          4.9,
          5
         ],
         "y": [
          0,
          0,
          0,
          0,
          0,
          0,
          0,
          0,
          0,
          0,
          0,
          0,
          0,
          0,
          0,
          0,
          0,
          -1.0522860368078982e-13,
          1.0529362285179476e-12,
          -7.640990068439837e-13,
          -1.5275226447613525e-12,
          4.961174602264716e-13,
          -6.9977225996688116e-12,
          -8.230651020150677e-12,
          -2.1555669180736975e-11,
          -8.44933713911114e-11,
          -1.443037146676201e-10,
          -2.482849064247492e-10,
          -7.276132008537049e-10,
          -3.3217547388558165e-09,
          -4.5175176678034484e-09,
          -8.629243103815563e-09,
          -2.5617511076594878e-08,
          -1.1608893546761015e-07,
          -1.5615990821071348e-07,
          -3.005920993337104e-07,
          -8.929234459975755e-07,
          -4.043463306865125e-06,
          -5.4356276445765855e-06,
          -1.0468407150438317e-05,
          -3.109787697730153e-05,
          -0.00014081457530729557,
          -0.0001892893953265691,
          -0.000364562445029063,
          -0.0010829861520724822,
          -0.004903839786567777,
          -0.00659191110940719,
          -0.012696110555009627,
          -0.03771588970893818,
          -0.1707525153379995,
          -0.229485053822832
         ]
        },
        {
         "line": {
          "color": "rgb(0, 0, 0)",
          "dash": "solid",
          "width": 1
         },
         "mode": "lines",
         "name": "long applied",
         "type": "scatter",
         "x": [
          0,
          0.1,
          0.2,
          0.3,
          0.4,
          0.5,
          0.6,
          0.7,
          0.8,
          0.9,
          1,
          1.1,
          1.2,
          1.3,
          1.4,
          1.5,
          1.6,
          1.7,
          1.8,
          1.9,
          2,
          2.1,
          2.2,
          2.3,
          2.4,
          2.5,
          2.6,
          2.7,
          2.8,
          2.9,
          3,
          3.1,
          3.2,
          3.3,
          3.4,
          3.5,
          3.6,
          3.7,
          3.8,
          3.9,
          4,
          4.1,
          4.2,
          4.3,
          4.4,
          4.5,
          4.6,
          4.7,
          4.8,
          4.9,
          5
         ],
         "y": [
          0,
          -15.871621621621625,
          -31.907432432432437,
          -48.10743243243243,
          -64.47162162162162,
          -81.00000000000001,
          -97.69256756756756,
          -114.54932432432436,
          -131.5702702702703,
          -148.7554054054054,
          -166.10472972972974,
          -183.61824324324326,
          -201.29594594594596,
          -219.13783783783785,
          -237.14391891891898,
          -255.31418918918922,
          -273.6486486486487,
          -292.14729729729737,
          -260.5682432432433,
          -273.48445945945963,
          -348.6283783783784,
          -367.78378378378375,
          -311.2479729729735,
          -323.50743243243437,
          -426.23513513513666,
          -446.0472972972989,
          -345.4814189189309,
          -345.48141891899235,
          -448.09966216222006,
          -448.09966216220084,
          -345.48141891933096,
          -345.4814189215074,
          -448.0996621641841,
          -448.0996621634758,
          -345.4814189332296,
          -345.48141900917153,
          -448.09966223256936,
          -448.0996622078231,
          -345.4814194172244,
          -345.4814220622049,
          -448.0996646140638,
          -448.09966375209706,
          -345.4814362722477,
          -345.4815283841439,
          -448.09974754937843,
          -448.0997175310555,
          -345.48202324695797,
          -345.4852310377904,
          -448.1026357649693,
          -448.10159037836894,
          -345.5024645834174
         ]
        },
        {
         "line": {
          "color": "rgb(0, 255, 0)",
          "dash": "solid",
          "width": 1
         },
         "mode": "lines",
         "name": "alpha",
         "type": "scatter",
         "x": [
          0,
          0.1,
          0.2,
          0.3,
          0.4,
          0.5,
          0.6,
          0.7,
          0.8,
          0.9,
          1,
          1.1,
          1.2,
          1.3,
          1.4,
          1.5,
          1.6,
          1.7,
          1.8,
          1.9,
          2,
          2.1,
          2.2,
          2.3,
          2.4,
          2.5,
          2.6,
          2.7,
          2.8,
          2.9,
          3,
          3.1,
          3.2,
          3.3,
          3.4,
          3.5,
          3.6,
          3.7,
          3.8,
          3.9,
          4,
          4.1,
          4.2,
          4.3,
          4.4,
          4.5,
          4.6,
          4.7,
          4.8,
          4.9,
          5
         ],
         "y": [
          0,
          0,
          0,
          0,
          0,
          0,
          0,
          0,
          0,
          0,
          0,
          0,
          0,
          0,
          0,
          0,
          0,
          180,
          -179.99999999999994,
          6.08307556391129e-14,
          1.0041706996152528e-13,
          -179.99999999999997,
          179.99999999999943,
          6.705487993731289e-13,
          1.3908366722455734e-12,
          179.99999999999457,
          179.99999999998803,
          2.0588194438141852e-11,
          4.651773818100954e-11,
          179.99999999978766,
          179.9999999996254,
          7.155510877899537e-10,
          1.637777697967478e-09,
          179.9999999925782,
          179.99999998705098,
          2.4925593243469916e-08,
          5.708634618138329e-08,
          179.99999974149347,
          179.99999954926878,
          8.680575996886649e-07,
          1.9881482216138507e-06,
          179.99999099744824,
          179.99998430381154,
          3.023011037208179e-05,
          6.923741435275392e-05,
          179.9996864879488,
          179.9994533888016,
          0.0010527708360924285,
          0.0024112347585859184,
          179.98908350389806,
          179.9809718791689
         ]
        },
        {
         "line": {
          "color": "rgb(255, 0, 0)",
          "dash": "solid",
          "width": 1
         },
         "mode": "lines",
         "name": "lf max Fz",
         "type": "scatter",
         "x": [
          0,
          0.1,
          0.2,
          0.3,
          0.4,
          0.5,
          0.6,
          0.7,
          0.8,
          0.9,
          1,
          1.1,
          1.2,
          1.3,
          1.4,
          1.5,
          1.6,
          1.7,
          1.8,
          1.9,
          2,
          2.1,
          2.2,
          2.3,
          2.4,
          2.5,
          2.6,
          2.7,
          2.8,
          2.9,
          3,
          3.1,
          3.2,
          3.3,
          3.4,
          3.5,
          3.6,
          3.7,
          3.8,
          3.9,
          4,
          4.1,
          4.2,
          4.3,
          4.4,
          4.5,
          4.6,
          4.7,
          4.8,
          4.9,
          5
         ],
         "y": [
          793.5810810810812,
          793.5810810810812,
          797.6858108108108,
          801.7905405405406,
          805.8952702702703,
          810,
          814.1047297297298,
          818.2094594594595,
          822.3141891891893,
          826.418918918919,
          830.5236486486486,
          834.6283783783784,
          838.7331081081081,
          842.8378378378378,
          846.9425675675676,
          851.0472972972973,
          855.1520270270271,
          859.2567567567569,
          723.8006756756757,
          719.6959459459463,
          871.5709459459459,
          875.6756756756755,
          707.3817567567579,
          703.2770270270312,
          887.9898648648681,
          892.0945945945978,
          690.9628378378618,
          690.9628378379847,
          896.1993243244401,
          896.1993243244017,
          690.9628378386619,
          690.9628378430148,
          896.1993243283682,
          896.1993243269516,
          690.9628378664592,
          690.9628380183431,
          896.1993244651387,
          896.1993244156462,
          690.9628388344488,
          690.9628441244098,
          896.1993292281276,
          896.1993275041941,
          690.9628725444954,
          690.9630567682879,
          896.1994950987569,
          896.199435062111,
          690.9640464939159,
          690.9704620755808,
          896.2052715299386,
          896.2031807567379,
          691.0049291668348
         ]
        },
        {
         "line": {
          "color": "rgb(255, 0, 0)",
          "dash": "dash",
          "width": 1
         },
         "mode": "lines",
         "name": "lf lock",
         "type": "scatter",
         "x": [
          0,
          0.1,
          0.2,
          0.3,
          0.4,
          0.5,
          0.6,
          0.7,
          0.8,
          0.9,
          1,
          1.1,
          1.2,
          1.3,
          1.4,
          1.5,
          1.6,
          1.7,
          1.8,
          1.9,
          2,
          2.1,
          2.2,
          2.3,
          2.4,
          2.5,
          2.6,
          2.7,
          2.8,
          2.9,
          3,
          3.1,
          3.2,
          3.3,
          3.4,
          3.5,
          3.6,
          3.7,
          3.8,
          3.9,
          4,
          4.1,
          4.2,
          4.3,
          4.4,
          4.5,
          4.6,
          4.7,
          4.8,
          4.9,
          5
         ],
         "y": [
          0,
          0,
          0,
          0,
          0,
          0,
          0,
          0,
          0,
          0,
          0,
          0,
          0,
          0,
          0,
          0,
          0,
          0,
          0,
          0,
          0,
          0,
          0,
          0,
          0,
          0,
          0,
          0,
          0,
          0,
          0,
          0,
          0,
          0,
          0,
          0,
          0,
          0,
          0,
          0,
          0,
          0,
          0,
          0,
          0,
          0,
          0,
          0,
          0,
          0,
          0
         ]
        }
       ],
       "layout": {
        "template": {
         "data": {
          "bar": [
           {
            "error_x": {
             "color": "#2a3f5f"
            },
            "error_y": {
             "color": "#2a3f5f"
            },
            "marker": {
             "line": {
              "color": "#E5ECF6",
              "width": 0.5
             }
            },
            "type": "bar"
           }
          ],
          "barpolar": [
           {
            "marker": {
             "line": {
              "color": "#E5ECF6",
              "width": 0.5
             }
            },
            "type": "barpolar"
           }
          ],
          "carpet": [
           {
            "aaxis": {
             "endlinecolor": "#2a3f5f",
             "gridcolor": "white",
             "linecolor": "white",
             "minorgridcolor": "white",
             "startlinecolor": "#2a3f5f"
            },
            "baxis": {
             "endlinecolor": "#2a3f5f",
             "gridcolor": "white",
             "linecolor": "white",
             "minorgridcolor": "white",
             "startlinecolor": "#2a3f5f"
            },
            "type": "carpet"
           }
          ],
          "choropleth": [
           {
            "colorbar": {
             "outlinewidth": 0,
             "ticks": ""
            },
            "type": "choropleth"
           }
          ],
          "contour": [
           {
            "colorbar": {
             "outlinewidth": 0,
             "ticks": ""
            },
            "colorscale": [
             [
              0,
              "#0d0887"
             ],
             [
              0.1111111111111111,
              "#46039f"
             ],
             [
              0.2222222222222222,
              "#7201a8"
             ],
             [
              0.3333333333333333,
              "#9c179e"
             ],
             [
              0.4444444444444444,
              "#bd3786"
             ],
             [
              0.5555555555555556,
              "#d8576b"
             ],
             [
              0.6666666666666666,
              "#ed7953"
             ],
             [
              0.7777777777777778,
              "#fb9f3a"
             ],
             [
              0.8888888888888888,
              "#fdca26"
             ],
             [
              1,
              "#f0f921"
             ]
            ],
            "type": "contour"
           }
          ],
          "contourcarpet": [
           {
            "colorbar": {
             "outlinewidth": 0,
             "ticks": ""
            },
            "type": "contourcarpet"
           }
          ],
          "heatmap": [
           {
            "colorbar": {
             "outlinewidth": 0,
             "ticks": ""
            },
            "colorscale": [
             [
              0,
              "#0d0887"
             ],
             [
              0.1111111111111111,
              "#46039f"
             ],
             [
              0.2222222222222222,
              "#7201a8"
             ],
             [
              0.3333333333333333,
              "#9c179e"
             ],
             [
              0.4444444444444444,
              "#bd3786"
             ],
             [
              0.5555555555555556,
              "#d8576b"
             ],
             [
              0.6666666666666666,
              "#ed7953"
             ],
             [
              0.7777777777777778,
              "#fb9f3a"
             ],
             [
              0.8888888888888888,
              "#fdca26"
             ],
             [
              1,
              "#f0f921"
             ]
            ],
            "type": "heatmap"
           }
          ],
          "heatmapgl": [
           {
            "colorbar": {
             "outlinewidth": 0,
             "ticks": ""
            },
            "colorscale": [
             [
              0,
              "#0d0887"
             ],
             [
              0.1111111111111111,
              "#46039f"
             ],
             [
              0.2222222222222222,
              "#7201a8"
             ],
             [
              0.3333333333333333,
              "#9c179e"
             ],
             [
              0.4444444444444444,
              "#bd3786"
             ],
             [
              0.5555555555555556,
              "#d8576b"
             ],
             [
              0.6666666666666666,
              "#ed7953"
             ],
             [
              0.7777777777777778,
              "#fb9f3a"
             ],
             [
              0.8888888888888888,
              "#fdca26"
             ],
             [
              1,
              "#f0f921"
             ]
            ],
            "type": "heatmapgl"
           }
          ],
          "histogram": [
           {
            "marker": {
             "colorbar": {
              "outlinewidth": 0,
              "ticks": ""
             }
            },
            "type": "histogram"
           }
          ],
          "histogram2d": [
           {
            "colorbar": {
             "outlinewidth": 0,
             "ticks": ""
            },
            "colorscale": [
             [
              0,
              "#0d0887"
             ],
             [
              0.1111111111111111,
              "#46039f"
             ],
             [
              0.2222222222222222,
              "#7201a8"
             ],
             [
              0.3333333333333333,
              "#9c179e"
             ],
             [
              0.4444444444444444,
              "#bd3786"
             ],
             [
              0.5555555555555556,
              "#d8576b"
             ],
             [
              0.6666666666666666,
              "#ed7953"
             ],
             [
              0.7777777777777778,
              "#fb9f3a"
             ],
             [
              0.8888888888888888,
              "#fdca26"
             ],
             [
              1,
              "#f0f921"
             ]
            ],
            "type": "histogram2d"
           }
          ],
          "histogram2dcontour": [
           {
            "colorbar": {
             "outlinewidth": 0,
             "ticks": ""
            },
            "colorscale": [
             [
              0,
              "#0d0887"
             ],
             [
              0.1111111111111111,
              "#46039f"
             ],
             [
              0.2222222222222222,
              "#7201a8"
             ],
             [
              0.3333333333333333,
              "#9c179e"
             ],
             [
              0.4444444444444444,
              "#bd3786"
             ],
             [
              0.5555555555555556,
              "#d8576b"
             ],
             [
              0.6666666666666666,
              "#ed7953"
             ],
             [
              0.7777777777777778,
              "#fb9f3a"
             ],
             [
              0.8888888888888888,
              "#fdca26"
             ],
             [
              1,
              "#f0f921"
             ]
            ],
            "type": "histogram2dcontour"
           }
          ],
          "mesh3d": [
           {
            "colorbar": {
             "outlinewidth": 0,
             "ticks": ""
            },
            "type": "mesh3d"
           }
          ],
          "parcoords": [
           {
            "line": {
             "colorbar": {
              "outlinewidth": 0,
              "ticks": ""
             }
            },
            "type": "parcoords"
           }
          ],
          "pie": [
           {
            "automargin": true,
            "type": "pie"
           }
          ],
          "scatter": [
           {
            "marker": {
             "colorbar": {
              "outlinewidth": 0,
              "ticks": ""
             }
            },
            "type": "scatter"
           }
          ],
          "scatter3d": [
           {
            "line": {
             "colorbar": {
              "outlinewidth": 0,
              "ticks": ""
             }
            },
            "marker": {
             "colorbar": {
              "outlinewidth": 0,
              "ticks": ""
             }
            },
            "type": "scatter3d"
           }
          ],
          "scattercarpet": [
           {
            "marker": {
             "colorbar": {
              "outlinewidth": 0,
              "ticks": ""
             }
            },
            "type": "scattercarpet"
           }
          ],
          "scattergeo": [
           {
            "marker": {
             "colorbar": {
              "outlinewidth": 0,
              "ticks": ""
             }
            },
            "type": "scattergeo"
           }
          ],
          "scattergl": [
           {
            "marker": {
             "colorbar": {
              "outlinewidth": 0,
              "ticks": ""
             }
            },
            "type": "scattergl"
           }
          ],
          "scattermapbox": [
           {
            "marker": {
             "colorbar": {
              "outlinewidth": 0,
              "ticks": ""
             }
            },
            "type": "scattermapbox"
           }
          ],
          "scatterpolar": [
           {
            "marker": {
             "colorbar": {
              "outlinewidth": 0,
              "ticks": ""
             }
            },
            "type": "scatterpolar"
           }
          ],
          "scatterpolargl": [
           {
            "marker": {
             "colorbar": {
              "outlinewidth": 0,
              "ticks": ""
             }
            },
            "type": "scatterpolargl"
           }
          ],
          "scatterternary": [
           {
            "marker": {
             "colorbar": {
              "outlinewidth": 0,
              "ticks": ""
             }
            },
            "type": "scatterternary"
           }
          ],
          "surface": [
           {
            "colorbar": {
             "outlinewidth": 0,
             "ticks": ""
            },
            "colorscale": [
             [
              0,
              "#0d0887"
             ],
             [
              0.1111111111111111,
              "#46039f"
             ],
             [
              0.2222222222222222,
              "#7201a8"
             ],
             [
              0.3333333333333333,
              "#9c179e"
             ],
             [
              0.4444444444444444,
              "#bd3786"
             ],
             [
              0.5555555555555556,
              "#d8576b"
             ],
             [
              0.6666666666666666,
              "#ed7953"
             ],
             [
              0.7777777777777778,
              "#fb9f3a"
             ],
             [
              0.8888888888888888,
              "#fdca26"
             ],
             [
              1,
              "#f0f921"
             ]
            ],
            "type": "surface"
           }
          ],
          "table": [
           {
            "cells": {
             "fill": {
              "color": "#EBF0F8"
             },
             "line": {
              "color": "white"
             }
            },
            "header": {
             "fill": {
              "color": "#C8D4E3"
             },
             "line": {
              "color": "white"
             }
            },
            "type": "table"
           }
          ]
         },
         "layout": {
          "annotationdefaults": {
           "arrowcolor": "#2a3f5f",
           "arrowhead": 0,
           "arrowwidth": 1
          },
          "coloraxis": {
           "colorbar": {
            "outlinewidth": 0,
            "ticks": ""
           }
          },
          "colorscale": {
           "diverging": [
            [
             0,
             "#8e0152"
            ],
            [
             0.1,
             "#c51b7d"
            ],
            [
             0.2,
             "#de77ae"
            ],
            [
             0.3,
             "#f1b6da"
            ],
            [
             0.4,
             "#fde0ef"
            ],
            [
             0.5,
             "#f7f7f7"
            ],
            [
             0.6,
             "#e6f5d0"
            ],
            [
             0.7,
             "#b8e186"
            ],
            [
             0.8,
             "#7fbc41"
            ],
            [
             0.9,
             "#4d9221"
            ],
            [
             1,
             "#276419"
            ]
           ],
           "sequential": [
            [
             0,
             "#0d0887"
            ],
            [
             0.1111111111111111,
             "#46039f"
            ],
            [
             0.2222222222222222,
             "#7201a8"
            ],
            [
             0.3333333333333333,
             "#9c179e"
            ],
            [
             0.4444444444444444,
             "#bd3786"
            ],
            [
             0.5555555555555556,
             "#d8576b"
            ],
            [
             0.6666666666666666,
             "#ed7953"
            ],
            [
             0.7777777777777778,
             "#fb9f3a"
            ],
            [
             0.8888888888888888,
             "#fdca26"
            ],
            [
             1,
             "#f0f921"
            ]
           ],
           "sequentialminus": [
            [
             0,
             "#0d0887"
            ],
            [
             0.1111111111111111,
             "#46039f"
            ],
            [
             0.2222222222222222,
             "#7201a8"
            ],
            [
             0.3333333333333333,
             "#9c179e"
            ],
            [
             0.4444444444444444,
             "#bd3786"
            ],
            [
             0.5555555555555556,
             "#d8576b"
            ],
            [
             0.6666666666666666,
             "#ed7953"
            ],
            [
             0.7777777777777778,
             "#fb9f3a"
            ],
            [
             0.8888888888888888,
             "#fdca26"
            ],
            [
             1,
             "#f0f921"
            ]
           ]
          },
          "colorway": [
           "#636efa",
           "#EF553B",
           "#00cc96",
           "#ab63fa",
           "#FFA15A",
           "#19d3f3",
           "#FF6692",
           "#B6E880",
           "#FF97FF",
           "#FECB52"
          ],
          "font": {
           "color": "#2a3f5f"
          },
          "geo": {
           "bgcolor": "white",
           "lakecolor": "white",
           "landcolor": "#E5ECF6",
           "showlakes": true,
           "showland": true,
           "subunitcolor": "white"
          },
          "hoverlabel": {
           "align": "left"
          },
          "hovermode": "closest",
          "mapbox": {
           "style": "light"
          },
          "paper_bgcolor": "white",
          "plot_bgcolor": "#E5ECF6",
          "polar": {
           "angularaxis": {
            "gridcolor": "white",
            "linecolor": "white",
            "ticks": ""
           },
           "bgcolor": "#E5ECF6",
           "radialaxis": {
            "gridcolor": "white",
            "linecolor": "white",
            "ticks": ""
           }
          },
          "scene": {
           "xaxis": {
            "backgroundcolor": "#E5ECF6",
            "gridcolor": "white",
            "gridwidth": 2,
            "linecolor": "white",
            "showbackground": true,
            "ticks": "",
            "zerolinecolor": "white"
           },
           "yaxis": {
            "backgroundcolor": "#E5ECF6",
            "gridcolor": "white",
            "gridwidth": 2,
            "linecolor": "white",
            "showbackground": true,
            "ticks": "",
            "zerolinecolor": "white"
           },
           "zaxis": {
            "backgroundcolor": "#E5ECF6",
            "gridcolor": "white",
            "gridwidth": 2,
            "linecolor": "white",
            "showbackground": true,
            "ticks": "",
            "zerolinecolor": "white"
           }
          },
          "shapedefaults": {
           "line": {
            "color": "#2a3f5f"
           }
          },
          "ternary": {
           "aaxis": {
            "gridcolor": "white",
            "linecolor": "white",
            "ticks": ""
           },
           "baxis": {
            "gridcolor": "white",
            "linecolor": "white",
            "ticks": ""
           },
           "bgcolor": "#E5ECF6",
           "caxis": {
            "gridcolor": "white",
            "linecolor": "white",
            "ticks": ""
           }
          },
          "title": {
           "x": 0.05
          },
          "xaxis": {
           "automargin": true,
           "gridcolor": "white",
           "linecolor": "white",
           "ticks": "",
           "title": {
            "standoff": 15
           },
           "zerolinecolor": "white",
           "zerolinewidth": 2
          },
          "yaxis": {
           "automargin": true,
           "gridcolor": "white",
           "linecolor": "white",
           "ticks": "",
           "title": {
            "standoff": 15
           },
           "zerolinecolor": "white",
           "zerolinewidth": 2
          }
         }
        }
       }
      },
      "text/html": [
       "<div>\n",
       "        \n",
       "        \n",
       "            <div id=\"ee0e7075-758a-46fd-9289-a136216d6ba9\" class=\"plotly-graph-div\" style=\"height:525px; width:100%;\"></div>\n",
       "            <script type=\"text/javascript\">\n",
       "                require([\"plotly\"], function(Plotly) {\n",
       "                    window.PLOTLYENV=window.PLOTLYENV || {};\n",
       "                    \n",
       "                if (document.getElementById(\"ee0e7075-758a-46fd-9289-a136216d6ba9\")) {\n",
       "                    Plotly.newPlot(\n",
       "                        'ee0e7075-758a-46fd-9289-a136216d6ba9',\n",
       "                        [{\"line\": {\"color\": \"rgb(0, 0, 255)\", \"dash\": \"solid\", \"width\": 1}, \"mode\": \"lines\", \"name\": \"lateral applied\", \"type\": \"scatter\", \"x\": [0.0, 0.1, 0.2, 0.3, 0.4, 0.5, 0.6, 0.7, 0.8, 0.9, 1.0, 1.1, 1.2, 1.3, 1.4, 1.5, 1.6, 1.7, 1.8, 1.9, 2.0, 2.1, 2.2, 2.3, 2.4, 2.5, 2.6, 2.7, 2.8, 2.9, 3.0, 3.1, 3.2, 3.3, 3.4, 3.5, 3.6, 3.7, 3.8, 3.9, 4.0, 4.1, 4.2, 4.3, 4.4, 4.5, 4.6, 4.7, 4.8, 4.9, 5.0], \"y\": [-0.0, -0.0, -0.0, -0.0, -0.0, -0.0, -0.0, -0.0, -0.0, -0.0, -0.0, -0.0, -0.0, -0.0, -0.0, -0.0, -0.0, -1.0522860368078982e-13, 1.0529362285179476e-12, -7.640990068439837e-13, -1.5275226447613525e-12, 4.961174602264716e-13, -6.9977225996688116e-12, -8.230651020150677e-12, -2.1555669180736975e-11, -8.44933713911114e-11, -1.443037146676201e-10, -2.482849064247492e-10, -7.276132008537049e-10, -3.3217547388558165e-09, -4.5175176678034484e-09, -8.629243103815563e-09, -2.5617511076594878e-08, -1.1608893546761015e-07, -1.5615990821071348e-07, -3.005920993337104e-07, -8.929234459975755e-07, -4.043463306865125e-06, -5.4356276445765855e-06, -1.0468407150438317e-05, -3.109787697730153e-05, -0.00014081457530729557, -0.0001892893953265691, -0.000364562445029063, -0.0010829861520724822, -0.004903839786567777, -0.00659191110940719, -0.012696110555009627, -0.03771588970893818, -0.1707525153379995, -0.229485053822832]}, {\"line\": {\"color\": \"rgb(0, 0, 0)\", \"dash\": \"solid\", \"width\": 1}, \"mode\": \"lines\", \"name\": \"long applied\", \"type\": \"scatter\", \"x\": [0.0, 0.1, 0.2, 0.3, 0.4, 0.5, 0.6, 0.7, 0.8, 0.9, 1.0, 1.1, 1.2, 1.3, 1.4, 1.5, 1.6, 1.7, 1.8, 1.9, 2.0, 2.1, 2.2, 2.3, 2.4, 2.5, 2.6, 2.7, 2.8, 2.9, 3.0, 3.1, 3.2, 3.3, 3.4, 3.5, 3.6, 3.7, 3.8, 3.9, 4.0, 4.1, 4.2, 4.3, 4.4, 4.5, 4.6, 4.7, 4.8, 4.9, 5.0], \"y\": [-0.0, -15.871621621621625, -31.907432432432437, -48.10743243243243, -64.47162162162162, -81.00000000000001, -97.69256756756756, -114.54932432432436, -131.5702702702703, -148.7554054054054, -166.10472972972974, -183.61824324324326, -201.29594594594596, -219.13783783783785, -237.14391891891898, -255.31418918918922, -273.6486486486487, -292.14729729729737, -260.5682432432433, -273.48445945945963, -348.6283783783784, -367.78378378378375, -311.2479729729735, -323.50743243243437, -426.23513513513666, -446.0472972972989, -345.4814189189309, -345.48141891899235, -448.09966216222006, -448.09966216220084, -345.48141891933096, -345.4814189215074, -448.0996621641841, -448.0996621634758, -345.4814189332296, -345.48141900917153, -448.09966223256936, -448.0996622078231, -345.4814194172244, -345.4814220622049, -448.0996646140638, -448.09966375209706, -345.4814362722477, -345.4815283841439, -448.09974754937843, -448.0997175310555, -345.48202324695797, -345.4852310377904, -448.1026357649693, -448.10159037836894, -345.5024645834174]}, {\"line\": {\"color\": \"rgb(0, 255, 0)\", \"dash\": \"solid\", \"width\": 1}, \"mode\": \"lines\", \"name\": \"alpha\", \"type\": \"scatter\", \"x\": [0.0, 0.1, 0.2, 0.3, 0.4, 0.5, 0.6, 0.7, 0.8, 0.9, 1.0, 1.1, 1.2, 1.3, 1.4, 1.5, 1.6, 1.7, 1.8, 1.9, 2.0, 2.1, 2.2, 2.3, 2.4, 2.5, 2.6, 2.7, 2.8, 2.9, 3.0, 3.1, 3.2, 3.3, 3.4, 3.5, 3.6, 3.7, 3.8, 3.9, 4.0, 4.1, 4.2, 4.3, 4.4, 4.5, 4.6, 4.7, 4.8, 4.9, 5.0], \"y\": [0.0, 0.0, 0.0, 0.0, 0.0, 0.0, 0.0, 0.0, 0.0, 0.0, 0.0, 0.0, 0.0, 0.0, 0.0, 0.0, 0.0, 180.0, -179.99999999999994, 6.08307556391129e-14, 1.0041706996152528e-13, -179.99999999999997, 179.99999999999943, 6.705487993731289e-13, 1.3908366722455734e-12, 179.99999999999457, 179.99999999998803, 2.0588194438141852e-11, 4.651773818100954e-11, 179.99999999978766, 179.9999999996254, 7.155510877899537e-10, 1.637777697967478e-09, 179.9999999925782, 179.99999998705098, 2.4925593243469916e-08, 5.708634618138329e-08, 179.99999974149347, 179.99999954926878, 8.680575996886649e-07, 1.9881482216138507e-06, 179.99999099744824, 179.99998430381154, 3.023011037208179e-05, 6.923741435275392e-05, 179.9996864879488, 179.9994533888016, 0.0010527708360924285, 0.0024112347585859184, 179.98908350389806, 179.9809718791689]}, {\"line\": {\"color\": \"rgb(255, 0, 0)\", \"dash\": \"solid\", \"width\": 1}, \"mode\": \"lines\", \"name\": \"lf max Fz\", \"type\": \"scatter\", \"x\": [0.0, 0.1, 0.2, 0.3, 0.4, 0.5, 0.6, 0.7, 0.8, 0.9, 1.0, 1.1, 1.2, 1.3, 1.4, 1.5, 1.6, 1.7, 1.8, 1.9, 2.0, 2.1, 2.2, 2.3, 2.4, 2.5, 2.6, 2.7, 2.8, 2.9, 3.0, 3.1, 3.2, 3.3, 3.4, 3.5, 3.6, 3.7, 3.8, 3.9, 4.0, 4.1, 4.2, 4.3, 4.4, 4.5, 4.6, 4.7, 4.8, 4.9, 5.0], \"y\": [793.5810810810812, 793.5810810810812, 797.6858108108108, 801.7905405405406, 805.8952702702703, 810.0, 814.1047297297298, 818.2094594594595, 822.3141891891893, 826.418918918919, 830.5236486486486, 834.6283783783784, 838.7331081081081, 842.8378378378378, 846.9425675675676, 851.0472972972973, 855.1520270270271, 859.2567567567569, 723.8006756756757, 719.6959459459463, 871.5709459459459, 875.6756756756755, 707.3817567567579, 703.2770270270312, 887.9898648648681, 892.0945945945978, 690.9628378378618, 690.9628378379847, 896.1993243244401, 896.1993243244017, 690.9628378386619, 690.9628378430148, 896.1993243283682, 896.1993243269516, 690.9628378664592, 690.9628380183431, 896.1993244651387, 896.1993244156462, 690.9628388344488, 690.9628441244098, 896.1993292281276, 896.1993275041941, 690.9628725444954, 690.9630567682879, 896.1994950987569, 896.199435062111, 690.9640464939159, 690.9704620755808, 896.2052715299386, 896.2031807567379, 691.0049291668348]}, {\"line\": {\"color\": \"rgb(255, 0, 0)\", \"dash\": \"dash\", \"width\": 1}, \"mode\": \"lines\", \"name\": \"lf lock\", \"type\": \"scatter\", \"x\": [0.0, 0.1, 0.2, 0.3, 0.4, 0.5, 0.6, 0.7, 0.8, 0.9, 1.0, 1.1, 1.2, 1.3, 1.4, 1.5, 1.6, 1.7, 1.8, 1.9, 2.0, 2.1, 2.2, 2.3, 2.4, 2.5, 2.6, 2.7, 2.8, 2.9, 3.0, 3.1, 3.2, 3.3, 3.4, 3.5, 3.6, 3.7, 3.8, 3.9, 4.0, 4.1, 4.2, 4.3, 4.4, 4.5, 4.6, 4.7, 4.8, 4.9, 5.0], \"y\": [0.0, 0.0, 0.0, 0.0, 0.0, 0.0, 0.0, 0.0, 0.0, 0.0, 0.0, 0.0, 0.0, 0.0, 0.0, 0.0, 0.0, 0.0, 0.0, 0.0, 0.0, 0.0, 0.0, 0.0, 0.0, 0.0, 0.0, 0.0, 0.0, 0.0, 0.0, 0.0, 0.0, 0.0, 0.0, 0.0, 0.0, 0.0, 0.0, 0.0, 0.0, 0.0, 0.0, 0.0, 0.0, 0.0, 0.0, 0.0, 0.0, 0.0, 0.0]}],\n",
       "                        {\"template\": {\"data\": {\"bar\": [{\"error_x\": {\"color\": \"#2a3f5f\"}, \"error_y\": {\"color\": \"#2a3f5f\"}, \"marker\": {\"line\": {\"color\": \"#E5ECF6\", \"width\": 0.5}}, \"type\": \"bar\"}], \"barpolar\": [{\"marker\": {\"line\": {\"color\": \"#E5ECF6\", \"width\": 0.5}}, \"type\": \"barpolar\"}], \"carpet\": [{\"aaxis\": {\"endlinecolor\": \"#2a3f5f\", \"gridcolor\": \"white\", \"linecolor\": \"white\", \"minorgridcolor\": \"white\", \"startlinecolor\": \"#2a3f5f\"}, \"baxis\": {\"endlinecolor\": \"#2a3f5f\", \"gridcolor\": \"white\", \"linecolor\": \"white\", \"minorgridcolor\": \"white\", \"startlinecolor\": \"#2a3f5f\"}, \"type\": \"carpet\"}], \"choropleth\": [{\"colorbar\": {\"outlinewidth\": 0, \"ticks\": \"\"}, \"type\": \"choropleth\"}], \"contour\": [{\"colorbar\": {\"outlinewidth\": 0, \"ticks\": \"\"}, \"colorscale\": [[0.0, \"#0d0887\"], [0.1111111111111111, \"#46039f\"], [0.2222222222222222, \"#7201a8\"], [0.3333333333333333, \"#9c179e\"], [0.4444444444444444, \"#bd3786\"], [0.5555555555555556, \"#d8576b\"], [0.6666666666666666, \"#ed7953\"], [0.7777777777777778, \"#fb9f3a\"], [0.8888888888888888, \"#fdca26\"], [1.0, \"#f0f921\"]], \"type\": \"contour\"}], \"contourcarpet\": [{\"colorbar\": {\"outlinewidth\": 0, \"ticks\": \"\"}, \"type\": \"contourcarpet\"}], \"heatmap\": [{\"colorbar\": {\"outlinewidth\": 0, \"ticks\": \"\"}, \"colorscale\": [[0.0, \"#0d0887\"], [0.1111111111111111, \"#46039f\"], [0.2222222222222222, \"#7201a8\"], [0.3333333333333333, \"#9c179e\"], [0.4444444444444444, \"#bd3786\"], [0.5555555555555556, \"#d8576b\"], [0.6666666666666666, \"#ed7953\"], [0.7777777777777778, \"#fb9f3a\"], [0.8888888888888888, \"#fdca26\"], [1.0, \"#f0f921\"]], \"type\": \"heatmap\"}], \"heatmapgl\": [{\"colorbar\": {\"outlinewidth\": 0, \"ticks\": \"\"}, \"colorscale\": [[0.0, \"#0d0887\"], [0.1111111111111111, \"#46039f\"], [0.2222222222222222, \"#7201a8\"], [0.3333333333333333, \"#9c179e\"], [0.4444444444444444, \"#bd3786\"], [0.5555555555555556, \"#d8576b\"], [0.6666666666666666, \"#ed7953\"], [0.7777777777777778, \"#fb9f3a\"], [0.8888888888888888, \"#fdca26\"], [1.0, \"#f0f921\"]], \"type\": \"heatmapgl\"}], \"histogram\": [{\"marker\": {\"colorbar\": {\"outlinewidth\": 0, \"ticks\": \"\"}}, \"type\": \"histogram\"}], \"histogram2d\": [{\"colorbar\": {\"outlinewidth\": 0, \"ticks\": \"\"}, \"colorscale\": [[0.0, \"#0d0887\"], [0.1111111111111111, \"#46039f\"], [0.2222222222222222, \"#7201a8\"], [0.3333333333333333, \"#9c179e\"], [0.4444444444444444, \"#bd3786\"], [0.5555555555555556, \"#d8576b\"], [0.6666666666666666, \"#ed7953\"], [0.7777777777777778, \"#fb9f3a\"], [0.8888888888888888, \"#fdca26\"], [1.0, \"#f0f921\"]], \"type\": \"histogram2d\"}], \"histogram2dcontour\": [{\"colorbar\": {\"outlinewidth\": 0, \"ticks\": \"\"}, \"colorscale\": [[0.0, \"#0d0887\"], [0.1111111111111111, \"#46039f\"], [0.2222222222222222, \"#7201a8\"], [0.3333333333333333, \"#9c179e\"], [0.4444444444444444, \"#bd3786\"], [0.5555555555555556, \"#d8576b\"], [0.6666666666666666, \"#ed7953\"], [0.7777777777777778, \"#fb9f3a\"], [0.8888888888888888, \"#fdca26\"], [1.0, \"#f0f921\"]], \"type\": \"histogram2dcontour\"}], \"mesh3d\": [{\"colorbar\": {\"outlinewidth\": 0, \"ticks\": \"\"}, \"type\": \"mesh3d\"}], \"parcoords\": [{\"line\": {\"colorbar\": {\"outlinewidth\": 0, \"ticks\": \"\"}}, \"type\": \"parcoords\"}], \"pie\": [{\"automargin\": true, \"type\": \"pie\"}], \"scatter\": [{\"marker\": {\"colorbar\": {\"outlinewidth\": 0, \"ticks\": \"\"}}, \"type\": \"scatter\"}], \"scatter3d\": [{\"line\": {\"colorbar\": {\"outlinewidth\": 0, \"ticks\": \"\"}}, \"marker\": {\"colorbar\": {\"outlinewidth\": 0, \"ticks\": \"\"}}, \"type\": \"scatter3d\"}], \"scattercarpet\": [{\"marker\": {\"colorbar\": {\"outlinewidth\": 0, \"ticks\": \"\"}}, \"type\": \"scattercarpet\"}], \"scattergeo\": [{\"marker\": {\"colorbar\": {\"outlinewidth\": 0, \"ticks\": \"\"}}, \"type\": \"scattergeo\"}], \"scattergl\": [{\"marker\": {\"colorbar\": {\"outlinewidth\": 0, \"ticks\": \"\"}}, \"type\": \"scattergl\"}], \"scattermapbox\": [{\"marker\": {\"colorbar\": {\"outlinewidth\": 0, \"ticks\": \"\"}}, \"type\": \"scattermapbox\"}], \"scatterpolar\": [{\"marker\": {\"colorbar\": {\"outlinewidth\": 0, \"ticks\": \"\"}}, \"type\": \"scatterpolar\"}], \"scatterpolargl\": [{\"marker\": {\"colorbar\": {\"outlinewidth\": 0, \"ticks\": \"\"}}, \"type\": \"scatterpolargl\"}], \"scatterternary\": [{\"marker\": {\"colorbar\": {\"outlinewidth\": 0, \"ticks\": \"\"}}, \"type\": \"scatterternary\"}], \"surface\": [{\"colorbar\": {\"outlinewidth\": 0, \"ticks\": \"\"}, \"colorscale\": [[0.0, \"#0d0887\"], [0.1111111111111111, \"#46039f\"], [0.2222222222222222, \"#7201a8\"], [0.3333333333333333, \"#9c179e\"], [0.4444444444444444, \"#bd3786\"], [0.5555555555555556, \"#d8576b\"], [0.6666666666666666, \"#ed7953\"], [0.7777777777777778, \"#fb9f3a\"], [0.8888888888888888, \"#fdca26\"], [1.0, \"#f0f921\"]], \"type\": \"surface\"}], \"table\": [{\"cells\": {\"fill\": {\"color\": \"#EBF0F8\"}, \"line\": {\"color\": \"white\"}}, \"header\": {\"fill\": {\"color\": \"#C8D4E3\"}, \"line\": {\"color\": \"white\"}}, \"type\": \"table\"}]}, \"layout\": {\"annotationdefaults\": {\"arrowcolor\": \"#2a3f5f\", \"arrowhead\": 0, \"arrowwidth\": 1}, \"coloraxis\": {\"colorbar\": {\"outlinewidth\": 0, \"ticks\": \"\"}}, \"colorscale\": {\"diverging\": [[0, \"#8e0152\"], [0.1, \"#c51b7d\"], [0.2, \"#de77ae\"], [0.3, \"#f1b6da\"], [0.4, \"#fde0ef\"], [0.5, \"#f7f7f7\"], [0.6, \"#e6f5d0\"], [0.7, \"#b8e186\"], [0.8, \"#7fbc41\"], [0.9, \"#4d9221\"], [1, \"#276419\"]], \"sequential\": [[0.0, \"#0d0887\"], [0.1111111111111111, \"#46039f\"], [0.2222222222222222, \"#7201a8\"], [0.3333333333333333, \"#9c179e\"], [0.4444444444444444, \"#bd3786\"], [0.5555555555555556, \"#d8576b\"], [0.6666666666666666, \"#ed7953\"], [0.7777777777777778, \"#fb9f3a\"], [0.8888888888888888, \"#fdca26\"], [1.0, \"#f0f921\"]], \"sequentialminus\": [[0.0, \"#0d0887\"], [0.1111111111111111, \"#46039f\"], [0.2222222222222222, \"#7201a8\"], [0.3333333333333333, \"#9c179e\"], [0.4444444444444444, \"#bd3786\"], [0.5555555555555556, \"#d8576b\"], [0.6666666666666666, \"#ed7953\"], [0.7777777777777778, \"#fb9f3a\"], [0.8888888888888888, \"#fdca26\"], [1.0, \"#f0f921\"]]}, \"colorway\": [\"#636efa\", \"#EF553B\", \"#00cc96\", \"#ab63fa\", \"#FFA15A\", \"#19d3f3\", \"#FF6692\", \"#B6E880\", \"#FF97FF\", \"#FECB52\"], \"font\": {\"color\": \"#2a3f5f\"}, \"geo\": {\"bgcolor\": \"white\", \"lakecolor\": \"white\", \"landcolor\": \"#E5ECF6\", \"showlakes\": true, \"showland\": true, \"subunitcolor\": \"white\"}, \"hoverlabel\": {\"align\": \"left\"}, \"hovermode\": \"closest\", \"mapbox\": {\"style\": \"light\"}, \"paper_bgcolor\": \"white\", \"plot_bgcolor\": \"#E5ECF6\", \"polar\": {\"angularaxis\": {\"gridcolor\": \"white\", \"linecolor\": \"white\", \"ticks\": \"\"}, \"bgcolor\": \"#E5ECF6\", \"radialaxis\": {\"gridcolor\": \"white\", \"linecolor\": \"white\", \"ticks\": \"\"}}, \"scene\": {\"xaxis\": {\"backgroundcolor\": \"#E5ECF6\", \"gridcolor\": \"white\", \"gridwidth\": 2, \"linecolor\": \"white\", \"showbackground\": true, \"ticks\": \"\", \"zerolinecolor\": \"white\"}, \"yaxis\": {\"backgroundcolor\": \"#E5ECF6\", \"gridcolor\": \"white\", \"gridwidth\": 2, \"linecolor\": \"white\", \"showbackground\": true, \"ticks\": \"\", \"zerolinecolor\": \"white\"}, \"zaxis\": {\"backgroundcolor\": \"#E5ECF6\", \"gridcolor\": \"white\", \"gridwidth\": 2, \"linecolor\": \"white\", \"showbackground\": true, \"ticks\": \"\", \"zerolinecolor\": \"white\"}}, \"shapedefaults\": {\"line\": {\"color\": \"#2a3f5f\"}}, \"ternary\": {\"aaxis\": {\"gridcolor\": \"white\", \"linecolor\": \"white\", \"ticks\": \"\"}, \"baxis\": {\"gridcolor\": \"white\", \"linecolor\": \"white\", \"ticks\": \"\"}, \"bgcolor\": \"#E5ECF6\", \"caxis\": {\"gridcolor\": \"white\", \"linecolor\": \"white\", \"ticks\": \"\"}}, \"title\": {\"x\": 0.05}, \"xaxis\": {\"automargin\": true, \"gridcolor\": \"white\", \"linecolor\": \"white\", \"ticks\": \"\", \"title\": {\"standoff\": 15}, \"zerolinecolor\": \"white\", \"zerolinewidth\": 2}, \"yaxis\": {\"automargin\": true, \"gridcolor\": \"white\", \"linecolor\": \"white\", \"ticks\": \"\", \"title\": {\"standoff\": 15}, \"zerolinecolor\": \"white\", \"zerolinewidth\": 2}}}},\n",
       "                        {\"responsive\": true}\n",
       "                    ).then(function(){\n",
       "                            \n",
       "var gd = document.getElementById('ee0e7075-758a-46fd-9289-a136216d6ba9');\n",
       "var x = new MutationObserver(function (mutations, observer) {{\n",
       "        var display = window.getComputedStyle(gd).display;\n",
       "        if (!display || display === 'none') {{\n",
       "            console.log([gd, 'removed!']);\n",
       "            Plotly.purge(gd);\n",
       "            observer.disconnect();\n",
       "        }}\n",
       "}});\n",
       "\n",
       "// Listen for the removal of the full notebook cells\n",
       "var notebookContainer = gd.closest('#notebook-container');\n",
       "if (notebookContainer) {{\n",
       "    x.observe(notebookContainer, {childList: true});\n",
       "}}\n",
       "\n",
       "// Listen for the clearing of the current output cell\n",
       "var outputEl = gd.closest('.output');\n",
       "if (outputEl) {{\n",
       "    x.observe(outputEl, {childList: true});\n",
       "}}\n",
       "\n",
       "                        })\n",
       "                };\n",
       "                });\n",
       "            </script>\n",
       "        </div>"
      ]
     },
     "metadata": {},
     "output_type": "display_data"
    }
   ],
   "source": [
    "import math\n",
    "df_plot = motion.veh.model.copy()\n",
    "df_plot['lf_latf_one'] = [ -1 * mu_max * math.sin(row) for row in df_plot.lf_alpha]\n",
    "df_plot['lf_latf'] = df_plot['lf_latf_one'] * df_plot.lf_fz\n",
    "\n",
    "df_plot['lf_longf_one'] = [-1 * mu_max * row for row in veh1.driver_input.brake]\n",
    "df_plot['lf_app'] = df_plot['lf_longf_one'] * df_plot.lf_fz\n",
    "\n",
    "df_plot['lf_max_fz'] = [mu_max * row for row in df_plot.lf_fz]\n",
    "                        \n",
    "figure_size = (800,450)\n",
    "\n",
    "wheel_colors = ['rgb(0, 0, 255)', 'rgb(0, 255, 0)', 'rgb(153, 0, 204)', 'rgb(255, 102, 0)']\n",
    "\n",
    "fig = go.Figure()\n",
    "\n",
    "fig.add_trace(go.Scatter(x = df_plot.t, y = df_plot.lf_latf,\n",
    "                    mode = 'lines',\n",
    "                    name = 'lateral applied',\n",
    "                    line = dict(color = wheel_colors[0], width = 1, dash = 'solid')))\n",
    "fig.add_trace(go.Scatter(x = df_plot.t, y = df_plot.lf_app,\n",
    "                    mode = 'lines',\n",
    "                    name = 'long applied',\n",
    "                    line = dict(color = 'rgb(0, 0, 0)', width = 1, dash = 'solid')))\n",
    "fig.add_trace(go.Scatter(x = motion.veh.model.t, y = motion.veh.model.lf_alpha * 180 / math.pi,\n",
    "                    mode = 'lines',\n",
    "                    name = 'alpha',\n",
    "                    line = dict(color = wheel_colors[1], width = 1, dash = 'solid')))\n",
    "fig.add_trace(go.Scatter(x = motion.veh.model.t, y = df_plot.lf_max_fz,\n",
    "                    mode = 'lines',\n",
    "                    name = 'lf max Fz',\n",
    "                    line = dict(color = 'rgb(255, 0, 0)', width = 1,\n",
    "                    dash = 'solid')))\n",
    "fig.add_trace(go.Scatter(x = motion.veh.model.t, y = df_plot.lf_lock * 100,\n",
    "                    mode = 'lines',\n",
    "                    name = 'lf lock',\n",
    "                    line = dict(color = 'rgb(255, 0, 0)', width = 1,\n",
    "                    dash = 'dash')))                       \n",
    "fig.show()"
   ]
  },
  {
   "cell_type": "code",
   "execution_count": 28,
   "metadata": {},
   "outputs": [],
   "source": [
    "import math"
   ]
  },
  {
   "cell_type": "code",
   "execution_count": 39,
   "metadata": {},
   "outputs": [
    {
     "data": {
      "text/plain": [
       "0.27563735581699966"
      ]
     },
     "execution_count": 39,
     "metadata": {},
     "output_type": "execute_result"
    }
   ],
   "source": [
    "math.sin(164 * math.pi / 180)"
   ]
  },
  {
   "cell_type": "code",
   "execution_count": 13,
   "metadata": {},
   "outputs": [
    {
     "data": {
      "text/plain": [
       "-0.9998476951563913"
      ]
     },
     "execution_count": 13,
     "metadata": {},
     "output_type": "execute_result"
    }
   ],
   "source": [
    "math.cos(-179 * math.pi / 180)"
   ]
  },
  {
   "cell_type": "code",
   "execution_count": 26,
   "metadata": {},
   "outputs": [
    {
     "data": {
      "text/plain": [
       "-1.0"
      ]
     },
     "execution_count": 26,
     "metadata": {},
     "output_type": "execute_result"
    }
   ],
   "source": [
    "math.sin(-90 * math.pi / 180)"
   ]
  },
  {
   "cell_type": "code",
   "execution_count": 24,
   "metadata": {},
   "outputs": [
    {
     "data": {
      "text/plain": [
       "0.0"
      ]
     },
     "execution_count": 24,
     "metadata": {},
     "output_type": "execute_result"
    }
   ],
   "source": [
    "math.sin(0)"
   ]
  },
  {
   "cell_type": "code",
   "execution_count": 16,
   "metadata": {},
   "outputs": [
    {
     "data": {
      "text/html": [
       "<div>\n",
       "<style scoped>\n",
       "    .dataframe tbody tr th:only-of-type {\n",
       "        vertical-align: middle;\n",
       "    }\n",
       "\n",
       "    .dataframe tbody tr th {\n",
       "        vertical-align: top;\n",
       "    }\n",
       "\n",
       "    .dataframe thead th {\n",
       "        text-align: right;\n",
       "    }\n",
       "</style>\n",
       "<table border=\"1\" class=\"dataframe\">\n",
       "  <thead>\n",
       "    <tr style=\"text-align: right;\">\n",
       "      <th></th>\n",
       "      <th>t</th>\n",
       "      <th>vx</th>\n",
       "      <th>vy</th>\n",
       "      <th>Vx</th>\n",
       "      <th>Vy</th>\n",
       "      <th>Vr</th>\n",
       "      <th>oz_deg</th>\n",
       "      <th>oz_rad</th>\n",
       "      <th>delta_deg</th>\n",
       "      <th>delta_rad</th>\n",
       "      <th>turn_rX</th>\n",
       "      <th>turn_rY</th>\n",
       "      <th>turn_rR</th>\n",
       "      <th>au</th>\n",
       "      <th>av</th>\n",
       "      <th>ax</th>\n",
       "      <th>ay</th>\n",
       "      <th>Ax</th>\n",
       "      <th>Ay</th>\n",
       "      <th>Ar</th>\n",
       "      <th>alphaz</th>\n",
       "      <th>alphaz_deg</th>\n",
       "      <th>beta_deg</th>\n",
       "      <th>beta_rad</th>\n",
       "      <th>lf_fx</th>\n",
       "      <th>lf_fy</th>\n",
       "      <th>rf_fx</th>\n",
       "      <th>rf_fy</th>\n",
       "      <th>rr_fx</th>\n",
       "      <th>rr_fy</th>\n",
       "      <th>lr_fx</th>\n",
       "      <th>lr_fy</th>\n",
       "      <th>lf_alpha</th>\n",
       "      <th>rf_alpha</th>\n",
       "      <th>rr_alpha</th>\n",
       "      <th>lr_alpha</th>\n",
       "      <th>lf_lock</th>\n",
       "      <th>rf_lock</th>\n",
       "      <th>rr_lock</th>\n",
       "      <th>lr_lock</th>\n",
       "      <th>lf_fz</th>\n",
       "      <th>rf_fz</th>\n",
       "      <th>rr_fz</th>\n",
       "      <th>lr_fz</th>\n",
       "      <th>theta_rad</th>\n",
       "      <th>theta_deg</th>\n",
       "      <th>Fx</th>\n",
       "      <th>Fy</th>\n",
       "      <th>Mz</th>\n",
       "      <th>Dx</th>\n",
       "      <th>Dy</th>\n",
       "    </tr>\n",
       "  </thead>\n",
       "  <tbody>\n",
       "    <tr>\n",
       "      <th>0</th>\n",
       "      <td>0.0</td>\n",
       "      <td>7.333350</td>\n",
       "      <td>0.000000e+00</td>\n",
       "      <td>7.333350</td>\n",
       "      <td>0.000000e+00</td>\n",
       "      <td>7.333350</td>\n",
       "      <td>0.000000e+00</td>\n",
       "      <td>0.000000e+00</td>\n",
       "      <td>0.0</td>\n",
       "      <td>0.0</td>\n",
       "      <td>0.000000</td>\n",
       "      <td>0.000000e+00</td>\n",
       "      <td>0.000000e+00</td>\n",
       "      <td>0.000000</td>\n",
       "      <td>0.000000e+00</td>\n",
       "      <td>0.000000</td>\n",
       "      <td>0.000000e+00</td>\n",
       "      <td>0.000000</td>\n",
       "      <td>0.000000e+00</td>\n",
       "      <td>0.000000</td>\n",
       "      <td>0.000000e+00</td>\n",
       "      <td>0.000000e+00</td>\n",
       "      <td>0.000000e+00</td>\n",
       "      <td>0.000000e+00</td>\n",
       "      <td>0.000000</td>\n",
       "      <td>-0.000000e+00</td>\n",
       "      <td>0.000000</td>\n",
       "      <td>-0.000000e+00</td>\n",
       "      <td>0.000000</td>\n",
       "      <td>0.000000e+00</td>\n",
       "      <td>0.000000</td>\n",
       "      <td>0.000000e+00</td>\n",
       "      <td>0.000000e+00</td>\n",
       "      <td>0.000000e+00</td>\n",
       "      <td>-0.000000e+00</td>\n",
       "      <td>-0.000000e+00</td>\n",
       "      <td>0.0</td>\n",
       "      <td>0.0</td>\n",
       "      <td>0.0</td>\n",
       "      <td>0.0</td>\n",
       "      <td>881.756757</td>\n",
       "      <td>881.756757</td>\n",
       "      <td>618.243243</td>\n",
       "      <td>618.243243</td>\n",
       "      <td>0.000000e+00</td>\n",
       "      <td>0.000000e+00</td>\n",
       "      <td>NaN</td>\n",
       "      <td>NaN</td>\n",
       "      <td>NaN</td>\n",
       "      <td>0.000000</td>\n",
       "      <td>0.000000e+00</td>\n",
       "    </tr>\n",
       "    <tr>\n",
       "      <th>1</th>\n",
       "      <td>0.1</td>\n",
       "      <td>7.333350</td>\n",
       "      <td>0.000000e+00</td>\n",
       "      <td>7.333350</td>\n",
       "      <td>0.000000e+00</td>\n",
       "      <td>7.333350</td>\n",
       "      <td>0.000000e+00</td>\n",
       "      <td>0.000000e+00</td>\n",
       "      <td>0.0</td>\n",
       "      <td>0.0</td>\n",
       "      <td>0.000000</td>\n",
       "      <td>0.000000e+00</td>\n",
       "      <td>0.000000e+00</td>\n",
       "      <td>0.000000</td>\n",
       "      <td>0.000000e+00</td>\n",
       "      <td>0.000000</td>\n",
       "      <td>0.000000e+00</td>\n",
       "      <td>0.000000</td>\n",
       "      <td>0.000000e+00</td>\n",
       "      <td>0.000000</td>\n",
       "      <td>0.000000e+00</td>\n",
       "      <td>0.000000e+00</td>\n",
       "      <td>0.000000e+00</td>\n",
       "      <td>0.000000e+00</td>\n",
       "      <td>-15.871622</td>\n",
       "      <td>-0.000000e+00</td>\n",
       "      <td>-15.871622</td>\n",
       "      <td>-0.000000e+00</td>\n",
       "      <td>-11.128378</td>\n",
       "      <td>0.000000e+00</td>\n",
       "      <td>-11.128378</td>\n",
       "      <td>0.000000e+00</td>\n",
       "      <td>0.000000e+00</td>\n",
       "      <td>0.000000e+00</td>\n",
       "      <td>-0.000000e+00</td>\n",
       "      <td>-0.000000e+00</td>\n",
       "      <td>0.0</td>\n",
       "      <td>0.0</td>\n",
       "      <td>0.0</td>\n",
       "      <td>0.0</td>\n",
       "      <td>881.756757</td>\n",
       "      <td>881.756757</td>\n",
       "      <td>618.243243</td>\n",
       "      <td>618.243243</td>\n",
       "      <td>0.000000e+00</td>\n",
       "      <td>0.000000e+00</td>\n",
       "      <td>NaN</td>\n",
       "      <td>NaN</td>\n",
       "      <td>NaN</td>\n",
       "      <td>0.733335</td>\n",
       "      <td>0.000000e+00</td>\n",
       "    </tr>\n",
       "    <tr>\n",
       "      <th>2</th>\n",
       "      <td>0.2</td>\n",
       "      <td>7.304370</td>\n",
       "      <td>0.000000e+00</td>\n",
       "      <td>7.304370</td>\n",
       "      <td>0.000000e+00</td>\n",
       "      <td>7.304370</td>\n",
       "      <td>0.000000e+00</td>\n",
       "      <td>0.000000e+00</td>\n",
       "      <td>0.0</td>\n",
       "      <td>0.0</td>\n",
       "      <td>0.000000</td>\n",
       "      <td>0.000000e+00</td>\n",
       "      <td>0.000000e+00</td>\n",
       "      <td>-0.579600</td>\n",
       "      <td>0.000000e+00</td>\n",
       "      <td>-0.579600</td>\n",
       "      <td>0.000000e+00</td>\n",
       "      <td>0.000000</td>\n",
       "      <td>0.000000e+00</td>\n",
       "      <td>0.000000</td>\n",
       "      <td>0.000000e+00</td>\n",
       "      <td>0.000000e+00</td>\n",
       "      <td>0.000000e+00</td>\n",
       "      <td>0.000000e+00</td>\n",
       "      <td>-31.907432</td>\n",
       "      <td>-0.000000e+00</td>\n",
       "      <td>-31.907432</td>\n",
       "      <td>-0.000000e+00</td>\n",
       "      <td>-22.092568</td>\n",
       "      <td>0.000000e+00</td>\n",
       "      <td>-22.092568</td>\n",
       "      <td>0.000000e+00</td>\n",
       "      <td>0.000000e+00</td>\n",
       "      <td>0.000000e+00</td>\n",
       "      <td>-0.000000e+00</td>\n",
       "      <td>-0.000000e+00</td>\n",
       "      <td>0.0</td>\n",
       "      <td>0.0</td>\n",
       "      <td>0.0</td>\n",
       "      <td>0.0</td>\n",
       "      <td>886.317568</td>\n",
       "      <td>886.317568</td>\n",
       "      <td>613.682432</td>\n",
       "      <td>613.682432</td>\n",
       "      <td>0.000000e+00</td>\n",
       "      <td>0.000000e+00</td>\n",
       "      <td>NaN</td>\n",
       "      <td>NaN</td>\n",
       "      <td>NaN</td>\n",
       "      <td>1.465221</td>\n",
       "      <td>0.000000e+00</td>\n",
       "    </tr>\n",
       "    <tr>\n",
       "      <th>3</th>\n",
       "      <td>0.3</td>\n",
       "      <td>7.217430</td>\n",
       "      <td>0.000000e+00</td>\n",
       "      <td>7.246410</td>\n",
       "      <td>0.000000e+00</td>\n",
       "      <td>7.246410</td>\n",
       "      <td>0.000000e+00</td>\n",
       "      <td>0.000000e+00</td>\n",
       "      <td>0.0</td>\n",
       "      <td>0.0</td>\n",
       "      <td>0.000000</td>\n",
       "      <td>0.000000e+00</td>\n",
       "      <td>0.000000e+00</td>\n",
       "      <td>-1.159200</td>\n",
       "      <td>0.000000e+00</td>\n",
       "      <td>-1.159200</td>\n",
       "      <td>0.000000e+00</td>\n",
       "      <td>-0.579600</td>\n",
       "      <td>0.000000e+00</td>\n",
       "      <td>0.579600</td>\n",
       "      <td>0.000000e+00</td>\n",
       "      <td>0.000000e+00</td>\n",
       "      <td>0.000000e+00</td>\n",
       "      <td>0.000000e+00</td>\n",
       "      <td>-48.107432</td>\n",
       "      <td>-0.000000e+00</td>\n",
       "      <td>-48.107432</td>\n",
       "      <td>-0.000000e+00</td>\n",
       "      <td>-32.892568</td>\n",
       "      <td>0.000000e+00</td>\n",
       "      <td>-32.892568</td>\n",
       "      <td>0.000000e+00</td>\n",
       "      <td>0.000000e+00</td>\n",
       "      <td>0.000000e+00</td>\n",
       "      <td>-0.000000e+00</td>\n",
       "      <td>-0.000000e+00</td>\n",
       "      <td>0.0</td>\n",
       "      <td>0.0</td>\n",
       "      <td>0.0</td>\n",
       "      <td>0.0</td>\n",
       "      <td>890.878378</td>\n",
       "      <td>890.878378</td>\n",
       "      <td>609.121622</td>\n",
       "      <td>609.121622</td>\n",
       "      <td>0.000000e+00</td>\n",
       "      <td>0.000000e+00</td>\n",
       "      <td>NaN</td>\n",
       "      <td>NaN</td>\n",
       "      <td>NaN</td>\n",
       "      <td>2.192760</td>\n",
       "      <td>0.000000e+00</td>\n",
       "    </tr>\n",
       "    <tr>\n",
       "      <th>4</th>\n",
       "      <td>0.4</td>\n",
       "      <td>7.072530</td>\n",
       "      <td>0.000000e+00</td>\n",
       "      <td>7.130490</td>\n",
       "      <td>0.000000e+00</td>\n",
       "      <td>7.130490</td>\n",
       "      <td>0.000000e+00</td>\n",
       "      <td>0.000000e+00</td>\n",
       "      <td>0.0</td>\n",
       "      <td>0.0</td>\n",
       "      <td>0.000000</td>\n",
       "      <td>0.000000e+00</td>\n",
       "      <td>0.000000e+00</td>\n",
       "      <td>-1.738800</td>\n",
       "      <td>0.000000e+00</td>\n",
       "      <td>-1.738800</td>\n",
       "      <td>0.000000e+00</td>\n",
       "      <td>-1.159200</td>\n",
       "      <td>0.000000e+00</td>\n",
       "      <td>1.159200</td>\n",
       "      <td>0.000000e+00</td>\n",
       "      <td>0.000000e+00</td>\n",
       "      <td>0.000000e+00</td>\n",
       "      <td>0.000000e+00</td>\n",
       "      <td>-64.471622</td>\n",
       "      <td>-0.000000e+00</td>\n",
       "      <td>-64.471622</td>\n",
       "      <td>-0.000000e+00</td>\n",
       "      <td>-43.528378</td>\n",
       "      <td>0.000000e+00</td>\n",
       "      <td>-43.528378</td>\n",
       "      <td>0.000000e+00</td>\n",
       "      <td>0.000000e+00</td>\n",
       "      <td>0.000000e+00</td>\n",
       "      <td>-0.000000e+00</td>\n",
       "      <td>-0.000000e+00</td>\n",
       "      <td>0.0</td>\n",
       "      <td>0.0</td>\n",
       "      <td>0.0</td>\n",
       "      <td>0.0</td>\n",
       "      <td>895.439189</td>\n",
       "      <td>895.439189</td>\n",
       "      <td>604.560811</td>\n",
       "      <td>604.560811</td>\n",
       "      <td>0.000000e+00</td>\n",
       "      <td>0.000000e+00</td>\n",
       "      <td>NaN</td>\n",
       "      <td>NaN</td>\n",
       "      <td>NaN</td>\n",
       "      <td>2.911605</td>\n",
       "      <td>0.000000e+00</td>\n",
       "    </tr>\n",
       "    <tr>\n",
       "      <th>5</th>\n",
       "      <td>0.5</td>\n",
       "      <td>6.869670</td>\n",
       "      <td>0.000000e+00</td>\n",
       "      <td>6.956610</td>\n",
       "      <td>0.000000e+00</td>\n",
       "      <td>6.956610</td>\n",
       "      <td>0.000000e+00</td>\n",
       "      <td>0.000000e+00</td>\n",
       "      <td>0.0</td>\n",
       "      <td>0.0</td>\n",
       "      <td>0.000000</td>\n",
       "      <td>0.000000e+00</td>\n",
       "      <td>0.000000e+00</td>\n",
       "      <td>-2.318400</td>\n",
       "      <td>0.000000e+00</td>\n",
       "      <td>-2.318400</td>\n",
       "      <td>0.000000e+00</td>\n",
       "      <td>-1.738800</td>\n",
       "      <td>0.000000e+00</td>\n",
       "      <td>1.738800</td>\n",
       "      <td>0.000000e+00</td>\n",
       "      <td>0.000000e+00</td>\n",
       "      <td>0.000000e+00</td>\n",
       "      <td>0.000000e+00</td>\n",
       "      <td>-81.000000</td>\n",
       "      <td>-0.000000e+00</td>\n",
       "      <td>-81.000000</td>\n",
       "      <td>-0.000000e+00</td>\n",
       "      <td>-54.000000</td>\n",
       "      <td>0.000000e+00</td>\n",
       "      <td>-54.000000</td>\n",
       "      <td>0.000000e+00</td>\n",
       "      <td>0.000000e+00</td>\n",
       "      <td>0.000000e+00</td>\n",
       "      <td>-0.000000e+00</td>\n",
       "      <td>-0.000000e+00</td>\n",
       "      <td>0.0</td>\n",
       "      <td>0.0</td>\n",
       "      <td>0.0</td>\n",
       "      <td>0.0</td>\n",
       "      <td>900.000000</td>\n",
       "      <td>900.000000</td>\n",
       "      <td>600.000000</td>\n",
       "      <td>600.000000</td>\n",
       "      <td>0.000000e+00</td>\n",
       "      <td>0.000000e+00</td>\n",
       "      <td>NaN</td>\n",
       "      <td>NaN</td>\n",
       "      <td>NaN</td>\n",
       "      <td>3.615960</td>\n",
       "      <td>0.000000e+00</td>\n",
       "    </tr>\n",
       "    <tr>\n",
       "      <th>6</th>\n",
       "      <td>0.6</td>\n",
       "      <td>6.608850</td>\n",
       "      <td>0.000000e+00</td>\n",
       "      <td>6.724770</td>\n",
       "      <td>0.000000e+00</td>\n",
       "      <td>6.724770</td>\n",
       "      <td>0.000000e+00</td>\n",
       "      <td>0.000000e+00</td>\n",
       "      <td>0.0</td>\n",
       "      <td>0.0</td>\n",
       "      <td>0.000000</td>\n",
       "      <td>0.000000e+00</td>\n",
       "      <td>0.000000e+00</td>\n",
       "      <td>-2.898000</td>\n",
       "      <td>0.000000e+00</td>\n",
       "      <td>-2.898000</td>\n",
       "      <td>0.000000e+00</td>\n",
       "      <td>-2.318400</td>\n",
       "      <td>0.000000e+00</td>\n",
       "      <td>2.318400</td>\n",
       "      <td>0.000000e+00</td>\n",
       "      <td>0.000000e+00</td>\n",
       "      <td>0.000000e+00</td>\n",
       "      <td>0.000000e+00</td>\n",
       "      <td>-97.692568</td>\n",
       "      <td>-0.000000e+00</td>\n",
       "      <td>-97.692568</td>\n",
       "      <td>-0.000000e+00</td>\n",
       "      <td>-64.307432</td>\n",
       "      <td>0.000000e+00</td>\n",
       "      <td>-64.307432</td>\n",
       "      <td>0.000000e+00</td>\n",
       "      <td>0.000000e+00</td>\n",
       "      <td>0.000000e+00</td>\n",
       "      <td>-0.000000e+00</td>\n",
       "      <td>-0.000000e+00</td>\n",
       "      <td>0.0</td>\n",
       "      <td>0.0</td>\n",
       "      <td>0.0</td>\n",
       "      <td>0.0</td>\n",
       "      <td>904.560811</td>\n",
       "      <td>904.560811</td>\n",
       "      <td>595.439189</td>\n",
       "      <td>595.439189</td>\n",
       "      <td>0.000000e+00</td>\n",
       "      <td>0.000000e+00</td>\n",
       "      <td>NaN</td>\n",
       "      <td>NaN</td>\n",
       "      <td>NaN</td>\n",
       "      <td>4.300029</td>\n",
       "      <td>0.000000e+00</td>\n",
       "    </tr>\n",
       "    <tr>\n",
       "      <th>7</th>\n",
       "      <td>0.7</td>\n",
       "      <td>6.290070</td>\n",
       "      <td>0.000000e+00</td>\n",
       "      <td>6.434970</td>\n",
       "      <td>0.000000e+00</td>\n",
       "      <td>6.434970</td>\n",
       "      <td>0.000000e+00</td>\n",
       "      <td>0.000000e+00</td>\n",
       "      <td>0.0</td>\n",
       "      <td>0.0</td>\n",
       "      <td>0.000000</td>\n",
       "      <td>0.000000e+00</td>\n",
       "      <td>0.000000e+00</td>\n",
       "      <td>-3.477600</td>\n",
       "      <td>0.000000e+00</td>\n",
       "      <td>-3.477600</td>\n",
       "      <td>0.000000e+00</td>\n",
       "      <td>-2.898000</td>\n",
       "      <td>0.000000e+00</td>\n",
       "      <td>2.898000</td>\n",
       "      <td>0.000000e+00</td>\n",
       "      <td>0.000000e+00</td>\n",
       "      <td>0.000000e+00</td>\n",
       "      <td>0.000000e+00</td>\n",
       "      <td>-114.549324</td>\n",
       "      <td>-0.000000e+00</td>\n",
       "      <td>-114.549324</td>\n",
       "      <td>-0.000000e+00</td>\n",
       "      <td>-74.450676</td>\n",
       "      <td>0.000000e+00</td>\n",
       "      <td>-74.450676</td>\n",
       "      <td>0.000000e+00</td>\n",
       "      <td>0.000000e+00</td>\n",
       "      <td>0.000000e+00</td>\n",
       "      <td>-0.000000e+00</td>\n",
       "      <td>-0.000000e+00</td>\n",
       "      <td>0.0</td>\n",
       "      <td>0.0</td>\n",
       "      <td>0.0</td>\n",
       "      <td>0.0</td>\n",
       "      <td>909.121622</td>\n",
       "      <td>909.121622</td>\n",
       "      <td>590.878378</td>\n",
       "      <td>590.878378</td>\n",
       "      <td>0.000000e+00</td>\n",
       "      <td>0.000000e+00</td>\n",
       "      <td>NaN</td>\n",
       "      <td>NaN</td>\n",
       "      <td>NaN</td>\n",
       "      <td>4.958016</td>\n",
       "      <td>0.000000e+00</td>\n",
       "    </tr>\n",
       "    <tr>\n",
       "      <th>8</th>\n",
       "      <td>0.8</td>\n",
       "      <td>5.913330</td>\n",
       "      <td>0.000000e+00</td>\n",
       "      <td>6.087210</td>\n",
       "      <td>0.000000e+00</td>\n",
       "      <td>6.087210</td>\n",
       "      <td>0.000000e+00</td>\n",
       "      <td>0.000000e+00</td>\n",
       "      <td>0.0</td>\n",
       "      <td>0.0</td>\n",
       "      <td>0.000000</td>\n",
       "      <td>0.000000e+00</td>\n",
       "      <td>0.000000e+00</td>\n",
       "      <td>-4.057200</td>\n",
       "      <td>0.000000e+00</td>\n",
       "      <td>-4.057200</td>\n",
       "      <td>0.000000e+00</td>\n",
       "      <td>-3.477600</td>\n",
       "      <td>0.000000e+00</td>\n",
       "      <td>3.477600</td>\n",
       "      <td>0.000000e+00</td>\n",
       "      <td>0.000000e+00</td>\n",
       "      <td>0.000000e+00</td>\n",
       "      <td>0.000000e+00</td>\n",
       "      <td>-131.570270</td>\n",
       "      <td>-0.000000e+00</td>\n",
       "      <td>-131.570270</td>\n",
       "      <td>-0.000000e+00</td>\n",
       "      <td>-84.429730</td>\n",
       "      <td>0.000000e+00</td>\n",
       "      <td>-84.429730</td>\n",
       "      <td>0.000000e+00</td>\n",
       "      <td>0.000000e+00</td>\n",
       "      <td>0.000000e+00</td>\n",
       "      <td>-0.000000e+00</td>\n",
       "      <td>-0.000000e+00</td>\n",
       "      <td>0.0</td>\n",
       "      <td>0.0</td>\n",
       "      <td>0.0</td>\n",
       "      <td>0.0</td>\n",
       "      <td>913.682432</td>\n",
       "      <td>913.682432</td>\n",
       "      <td>586.317568</td>\n",
       "      <td>586.317568</td>\n",
       "      <td>0.000000e+00</td>\n",
       "      <td>0.000000e+00</td>\n",
       "      <td>NaN</td>\n",
       "      <td>NaN</td>\n",
       "      <td>NaN</td>\n",
       "      <td>5.584125</td>\n",
       "      <td>0.000000e+00</td>\n",
       "    </tr>\n",
       "    <tr>\n",
       "      <th>9</th>\n",
       "      <td>0.9</td>\n",
       "      <td>5.478630</td>\n",
       "      <td>0.000000e+00</td>\n",
       "      <td>5.681490</td>\n",
       "      <td>0.000000e+00</td>\n",
       "      <td>5.681490</td>\n",
       "      <td>0.000000e+00</td>\n",
       "      <td>0.000000e+00</td>\n",
       "      <td>0.0</td>\n",
       "      <td>0.0</td>\n",
       "      <td>0.000000</td>\n",
       "      <td>0.000000e+00</td>\n",
       "      <td>0.000000e+00</td>\n",
       "      <td>-4.636800</td>\n",
       "      <td>0.000000e+00</td>\n",
       "      <td>-4.636800</td>\n",
       "      <td>0.000000e+00</td>\n",
       "      <td>-4.057200</td>\n",
       "      <td>0.000000e+00</td>\n",
       "      <td>4.057200</td>\n",
       "      <td>0.000000e+00</td>\n",
       "      <td>0.000000e+00</td>\n",
       "      <td>0.000000e+00</td>\n",
       "      <td>0.000000e+00</td>\n",
       "      <td>-148.755405</td>\n",
       "      <td>-0.000000e+00</td>\n",
       "      <td>-148.755405</td>\n",
       "      <td>-0.000000e+00</td>\n",
       "      <td>-94.244595</td>\n",
       "      <td>0.000000e+00</td>\n",
       "      <td>-94.244595</td>\n",
       "      <td>0.000000e+00</td>\n",
       "      <td>0.000000e+00</td>\n",
       "      <td>0.000000e+00</td>\n",
       "      <td>-0.000000e+00</td>\n",
       "      <td>-0.000000e+00</td>\n",
       "      <td>0.0</td>\n",
       "      <td>0.0</td>\n",
       "      <td>0.0</td>\n",
       "      <td>0.0</td>\n",
       "      <td>918.243243</td>\n",
       "      <td>918.243243</td>\n",
       "      <td>581.756757</td>\n",
       "      <td>581.756757</td>\n",
       "      <td>0.000000e+00</td>\n",
       "      <td>0.000000e+00</td>\n",
       "      <td>NaN</td>\n",
       "      <td>NaN</td>\n",
       "      <td>NaN</td>\n",
       "      <td>6.172560</td>\n",
       "      <td>0.000000e+00</td>\n",
       "    </tr>\n",
       "    <tr>\n",
       "      <th>10</th>\n",
       "      <td>1.0</td>\n",
       "      <td>4.985970</td>\n",
       "      <td>0.000000e+00</td>\n",
       "      <td>5.217810</td>\n",
       "      <td>0.000000e+00</td>\n",
       "      <td>5.217810</td>\n",
       "      <td>0.000000e+00</td>\n",
       "      <td>0.000000e+00</td>\n",
       "      <td>0.0</td>\n",
       "      <td>0.0</td>\n",
       "      <td>0.000000</td>\n",
       "      <td>0.000000e+00</td>\n",
       "      <td>0.000000e+00</td>\n",
       "      <td>-5.216400</td>\n",
       "      <td>0.000000e+00</td>\n",
       "      <td>-5.216400</td>\n",
       "      <td>0.000000e+00</td>\n",
       "      <td>-4.636800</td>\n",
       "      <td>0.000000e+00</td>\n",
       "      <td>4.636800</td>\n",
       "      <td>0.000000e+00</td>\n",
       "      <td>0.000000e+00</td>\n",
       "      <td>0.000000e+00</td>\n",
       "      <td>0.000000e+00</td>\n",
       "      <td>-166.104730</td>\n",
       "      <td>-0.000000e+00</td>\n",
       "      <td>-166.104730</td>\n",
       "      <td>-0.000000e+00</td>\n",
       "      <td>-103.895270</td>\n",
       "      <td>0.000000e+00</td>\n",
       "      <td>-103.895270</td>\n",
       "      <td>0.000000e+00</td>\n",
       "      <td>0.000000e+00</td>\n",
       "      <td>0.000000e+00</td>\n",
       "      <td>-0.000000e+00</td>\n",
       "      <td>-0.000000e+00</td>\n",
       "      <td>0.0</td>\n",
       "      <td>0.0</td>\n",
       "      <td>0.0</td>\n",
       "      <td>0.0</td>\n",
       "      <td>922.804054</td>\n",
       "      <td>922.804054</td>\n",
       "      <td>577.195946</td>\n",
       "      <td>577.195946</td>\n",
       "      <td>0.000000e+00</td>\n",
       "      <td>0.000000e+00</td>\n",
       "      <td>NaN</td>\n",
       "      <td>NaN</td>\n",
       "      <td>NaN</td>\n",
       "      <td>6.717525</td>\n",
       "      <td>0.000000e+00</td>\n",
       "    </tr>\n",
       "    <tr>\n",
       "      <th>11</th>\n",
       "      <td>1.1</td>\n",
       "      <td>4.435350</td>\n",
       "      <td>0.000000e+00</td>\n",
       "      <td>4.696170</td>\n",
       "      <td>0.000000e+00</td>\n",
       "      <td>4.696170</td>\n",
       "      <td>0.000000e+00</td>\n",
       "      <td>0.000000e+00</td>\n",
       "      <td>0.0</td>\n",
       "      <td>0.0</td>\n",
       "      <td>0.000000</td>\n",
       "      <td>0.000000e+00</td>\n",
       "      <td>0.000000e+00</td>\n",
       "      <td>-5.796000</td>\n",
       "      <td>0.000000e+00</td>\n",
       "      <td>-5.796000</td>\n",
       "      <td>0.000000e+00</td>\n",
       "      <td>-5.216400</td>\n",
       "      <td>0.000000e+00</td>\n",
       "      <td>5.216400</td>\n",
       "      <td>0.000000e+00</td>\n",
       "      <td>0.000000e+00</td>\n",
       "      <td>0.000000e+00</td>\n",
       "      <td>0.000000e+00</td>\n",
       "      <td>-183.618243</td>\n",
       "      <td>-0.000000e+00</td>\n",
       "      <td>-183.618243</td>\n",
       "      <td>-0.000000e+00</td>\n",
       "      <td>-113.381757</td>\n",
       "      <td>0.000000e+00</td>\n",
       "      <td>-113.381757</td>\n",
       "      <td>0.000000e+00</td>\n",
       "      <td>0.000000e+00</td>\n",
       "      <td>0.000000e+00</td>\n",
       "      <td>-0.000000e+00</td>\n",
       "      <td>-0.000000e+00</td>\n",
       "      <td>0.0</td>\n",
       "      <td>0.0</td>\n",
       "      <td>0.0</td>\n",
       "      <td>0.0</td>\n",
       "      <td>927.364865</td>\n",
       "      <td>927.364865</td>\n",
       "      <td>572.635135</td>\n",
       "      <td>572.635135</td>\n",
       "      <td>0.000000e+00</td>\n",
       "      <td>0.000000e+00</td>\n",
       "      <td>NaN</td>\n",
       "      <td>NaN</td>\n",
       "      <td>NaN</td>\n",
       "      <td>7.213224</td>\n",
       "      <td>0.000000e+00</td>\n",
       "    </tr>\n",
       "    <tr>\n",
       "      <th>12</th>\n",
       "      <td>1.2</td>\n",
       "      <td>3.826770</td>\n",
       "      <td>0.000000e+00</td>\n",
       "      <td>4.116570</td>\n",
       "      <td>0.000000e+00</td>\n",
       "      <td>4.116570</td>\n",
       "      <td>0.000000e+00</td>\n",
       "      <td>0.000000e+00</td>\n",
       "      <td>0.0</td>\n",
       "      <td>0.0</td>\n",
       "      <td>0.000000</td>\n",
       "      <td>0.000000e+00</td>\n",
       "      <td>0.000000e+00</td>\n",
       "      <td>-6.375600</td>\n",
       "      <td>0.000000e+00</td>\n",
       "      <td>-6.375600</td>\n",
       "      <td>0.000000e+00</td>\n",
       "      <td>-5.796000</td>\n",
       "      <td>0.000000e+00</td>\n",
       "      <td>5.796000</td>\n",
       "      <td>0.000000e+00</td>\n",
       "      <td>0.000000e+00</td>\n",
       "      <td>0.000000e+00</td>\n",
       "      <td>0.000000e+00</td>\n",
       "      <td>-201.295946</td>\n",
       "      <td>-0.000000e+00</td>\n",
       "      <td>-201.295946</td>\n",
       "      <td>-0.000000e+00</td>\n",
       "      <td>-122.704054</td>\n",
       "      <td>0.000000e+00</td>\n",
       "      <td>-122.704054</td>\n",
       "      <td>0.000000e+00</td>\n",
       "      <td>0.000000e+00</td>\n",
       "      <td>0.000000e+00</td>\n",
       "      <td>-0.000000e+00</td>\n",
       "      <td>-0.000000e+00</td>\n",
       "      <td>0.0</td>\n",
       "      <td>0.0</td>\n",
       "      <td>0.0</td>\n",
       "      <td>0.0</td>\n",
       "      <td>931.925676</td>\n",
       "      <td>931.925676</td>\n",
       "      <td>568.074324</td>\n",
       "      <td>568.074324</td>\n",
       "      <td>0.000000e+00</td>\n",
       "      <td>0.000000e+00</td>\n",
       "      <td>NaN</td>\n",
       "      <td>NaN</td>\n",
       "      <td>NaN</td>\n",
       "      <td>7.653861</td>\n",
       "      <td>0.000000e+00</td>\n",
       "    </tr>\n",
       "    <tr>\n",
       "      <th>13</th>\n",
       "      <td>1.3</td>\n",
       "      <td>3.160230</td>\n",
       "      <td>0.000000e+00</td>\n",
       "      <td>3.479010</td>\n",
       "      <td>0.000000e+00</td>\n",
       "      <td>3.479010</td>\n",
       "      <td>0.000000e+00</td>\n",
       "      <td>0.000000e+00</td>\n",
       "      <td>0.0</td>\n",
       "      <td>0.0</td>\n",
       "      <td>0.000000</td>\n",
       "      <td>0.000000e+00</td>\n",
       "      <td>0.000000e+00</td>\n",
       "      <td>-6.955200</td>\n",
       "      <td>0.000000e+00</td>\n",
       "      <td>-6.955200</td>\n",
       "      <td>0.000000e+00</td>\n",
       "      <td>-6.375600</td>\n",
       "      <td>0.000000e+00</td>\n",
       "      <td>6.375600</td>\n",
       "      <td>0.000000e+00</td>\n",
       "      <td>0.000000e+00</td>\n",
       "      <td>0.000000e+00</td>\n",
       "      <td>0.000000e+00</td>\n",
       "      <td>-219.137838</td>\n",
       "      <td>-0.000000e+00</td>\n",
       "      <td>-219.137838</td>\n",
       "      <td>-0.000000e+00</td>\n",
       "      <td>-131.862162</td>\n",
       "      <td>0.000000e+00</td>\n",
       "      <td>-131.862162</td>\n",
       "      <td>0.000000e+00</td>\n",
       "      <td>0.000000e+00</td>\n",
       "      <td>0.000000e+00</td>\n",
       "      <td>-0.000000e+00</td>\n",
       "      <td>-0.000000e+00</td>\n",
       "      <td>0.0</td>\n",
       "      <td>0.0</td>\n",
       "      <td>0.0</td>\n",
       "      <td>0.0</td>\n",
       "      <td>936.486486</td>\n",
       "      <td>936.486486</td>\n",
       "      <td>563.513514</td>\n",
       "      <td>563.513514</td>\n",
       "      <td>0.000000e+00</td>\n",
       "      <td>0.000000e+00</td>\n",
       "      <td>NaN</td>\n",
       "      <td>NaN</td>\n",
       "      <td>NaN</td>\n",
       "      <td>8.033640</td>\n",
       "      <td>0.000000e+00</td>\n",
       "    </tr>\n",
       "    <tr>\n",
       "      <th>14</th>\n",
       "      <td>1.4</td>\n",
       "      <td>2.435730</td>\n",
       "      <td>0.000000e+00</td>\n",
       "      <td>2.783490</td>\n",
       "      <td>0.000000e+00</td>\n",
       "      <td>2.783490</td>\n",
       "      <td>0.000000e+00</td>\n",
       "      <td>0.000000e+00</td>\n",
       "      <td>0.0</td>\n",
       "      <td>0.0</td>\n",
       "      <td>0.000000</td>\n",
       "      <td>0.000000e+00</td>\n",
       "      <td>0.000000e+00</td>\n",
       "      <td>-7.534800</td>\n",
       "      <td>0.000000e+00</td>\n",
       "      <td>-7.534800</td>\n",
       "      <td>0.000000e+00</td>\n",
       "      <td>-6.955200</td>\n",
       "      <td>0.000000e+00</td>\n",
       "      <td>6.955200</td>\n",
       "      <td>0.000000e+00</td>\n",
       "      <td>0.000000e+00</td>\n",
       "      <td>0.000000e+00</td>\n",
       "      <td>0.000000e+00</td>\n",
       "      <td>-237.143919</td>\n",
       "      <td>-0.000000e+00</td>\n",
       "      <td>-237.143919</td>\n",
       "      <td>-0.000000e+00</td>\n",
       "      <td>-140.856081</td>\n",
       "      <td>0.000000e+00</td>\n",
       "      <td>-140.856081</td>\n",
       "      <td>0.000000e+00</td>\n",
       "      <td>0.000000e+00</td>\n",
       "      <td>0.000000e+00</td>\n",
       "      <td>-0.000000e+00</td>\n",
       "      <td>-0.000000e+00</td>\n",
       "      <td>0.0</td>\n",
       "      <td>0.0</td>\n",
       "      <td>0.0</td>\n",
       "      <td>0.0</td>\n",
       "      <td>941.047297</td>\n",
       "      <td>941.047297</td>\n",
       "      <td>558.952703</td>\n",
       "      <td>558.952703</td>\n",
       "      <td>0.000000e+00</td>\n",
       "      <td>0.000000e+00</td>\n",
       "      <td>NaN</td>\n",
       "      <td>NaN</td>\n",
       "      <td>NaN</td>\n",
       "      <td>8.346765</td>\n",
       "      <td>0.000000e+00</td>\n",
       "    </tr>\n",
       "    <tr>\n",
       "      <th>15</th>\n",
       "      <td>1.5</td>\n",
       "      <td>1.653270</td>\n",
       "      <td>0.000000e+00</td>\n",
       "      <td>2.030010</td>\n",
       "      <td>0.000000e+00</td>\n",
       "      <td>2.030010</td>\n",
       "      <td>0.000000e+00</td>\n",
       "      <td>0.000000e+00</td>\n",
       "      <td>0.0</td>\n",
       "      <td>0.0</td>\n",
       "      <td>0.000000</td>\n",
       "      <td>0.000000e+00</td>\n",
       "      <td>0.000000e+00</td>\n",
       "      <td>-8.114400</td>\n",
       "      <td>0.000000e+00</td>\n",
       "      <td>-8.114400</td>\n",
       "      <td>0.000000e+00</td>\n",
       "      <td>-7.534800</td>\n",
       "      <td>0.000000e+00</td>\n",
       "      <td>7.534800</td>\n",
       "      <td>0.000000e+00</td>\n",
       "      <td>0.000000e+00</td>\n",
       "      <td>0.000000e+00</td>\n",
       "      <td>0.000000e+00</td>\n",
       "      <td>-255.314189</td>\n",
       "      <td>-0.000000e+00</td>\n",
       "      <td>-255.314189</td>\n",
       "      <td>-0.000000e+00</td>\n",
       "      <td>-149.685811</td>\n",
       "      <td>0.000000e+00</td>\n",
       "      <td>-149.685811</td>\n",
       "      <td>0.000000e+00</td>\n",
       "      <td>0.000000e+00</td>\n",
       "      <td>0.000000e+00</td>\n",
       "      <td>-0.000000e+00</td>\n",
       "      <td>-0.000000e+00</td>\n",
       "      <td>0.0</td>\n",
       "      <td>0.0</td>\n",
       "      <td>0.0</td>\n",
       "      <td>0.0</td>\n",
       "      <td>945.608108</td>\n",
       "      <td>945.608108</td>\n",
       "      <td>554.391892</td>\n",
       "      <td>554.391892</td>\n",
       "      <td>0.000000e+00</td>\n",
       "      <td>0.000000e+00</td>\n",
       "      <td>NaN</td>\n",
       "      <td>NaN</td>\n",
       "      <td>NaN</td>\n",
       "      <td>8.587440</td>\n",
       "      <td>0.000000e+00</td>\n",
       "    </tr>\n",
       "    <tr>\n",
       "      <th>16</th>\n",
       "      <td>1.6</td>\n",
       "      <td>0.812850</td>\n",
       "      <td>0.000000e+00</td>\n",
       "      <td>1.218570</td>\n",
       "      <td>0.000000e+00</td>\n",
       "      <td>1.218570</td>\n",
       "      <td>0.000000e+00</td>\n",
       "      <td>0.000000e+00</td>\n",
       "      <td>0.0</td>\n",
       "      <td>0.0</td>\n",
       "      <td>0.000000</td>\n",
       "      <td>0.000000e+00</td>\n",
       "      <td>0.000000e+00</td>\n",
       "      <td>-8.694000</td>\n",
       "      <td>0.000000e+00</td>\n",
       "      <td>-8.694000</td>\n",
       "      <td>0.000000e+00</td>\n",
       "      <td>-8.114400</td>\n",
       "      <td>0.000000e+00</td>\n",
       "      <td>8.114400</td>\n",
       "      <td>0.000000e+00</td>\n",
       "      <td>0.000000e+00</td>\n",
       "      <td>0.000000e+00</td>\n",
       "      <td>0.000000e+00</td>\n",
       "      <td>-273.648649</td>\n",
       "      <td>-0.000000e+00</td>\n",
       "      <td>-273.648649</td>\n",
       "      <td>-0.000000e+00</td>\n",
       "      <td>-158.351351</td>\n",
       "      <td>0.000000e+00</td>\n",
       "      <td>-158.351351</td>\n",
       "      <td>0.000000e+00</td>\n",
       "      <td>0.000000e+00</td>\n",
       "      <td>0.000000e+00</td>\n",
       "      <td>-0.000000e+00</td>\n",
       "      <td>-0.000000e+00</td>\n",
       "      <td>0.0</td>\n",
       "      <td>0.0</td>\n",
       "      <td>0.0</td>\n",
       "      <td>0.0</td>\n",
       "      <td>950.168919</td>\n",
       "      <td>950.168919</td>\n",
       "      <td>549.831081</td>\n",
       "      <td>549.831081</td>\n",
       "      <td>0.000000e+00</td>\n",
       "      <td>0.000000e+00</td>\n",
       "      <td>NaN</td>\n",
       "      <td>NaN</td>\n",
       "      <td>NaN</td>\n",
       "      <td>8.749869</td>\n",
       "      <td>0.000000e+00</td>\n",
       "    </tr>\n",
       "    <tr>\n",
       "      <th>17</th>\n",
       "      <td>1.7</td>\n",
       "      <td>-0.085530</td>\n",
       "      <td>0.000000e+00</td>\n",
       "      <td>0.349170</td>\n",
       "      <td>0.000000e+00</td>\n",
       "      <td>0.349170</td>\n",
       "      <td>0.000000e+00</td>\n",
       "      <td>0.000000e+00</td>\n",
       "      <td>0.0</td>\n",
       "      <td>0.0</td>\n",
       "      <td>0.000000</td>\n",
       "      <td>0.000000e+00</td>\n",
       "      <td>0.000000e+00</td>\n",
       "      <td>-9.273600</td>\n",
       "      <td>0.000000e+00</td>\n",
       "      <td>-9.273600</td>\n",
       "      <td>0.000000e+00</td>\n",
       "      <td>-8.694000</td>\n",
       "      <td>0.000000e+00</td>\n",
       "      <td>8.694000</td>\n",
       "      <td>0.000000e+00</td>\n",
       "      <td>0.000000e+00</td>\n",
       "      <td>0.000000e+00</td>\n",
       "      <td>0.000000e+00</td>\n",
       "      <td>-292.147297</td>\n",
       "      <td>9.895966e-14</td>\n",
       "      <td>-292.147297</td>\n",
       "      <td>9.895966e-14</td>\n",
       "      <td>-166.852703</td>\n",
       "      <td>5.651836e-14</td>\n",
       "      <td>-166.852703</td>\n",
       "      <td>5.651836e-14</td>\n",
       "      <td>-3.141593e+00</td>\n",
       "      <td>-3.141593e+00</td>\n",
       "      <td>-3.141593e+00</td>\n",
       "      <td>-3.141593e+00</td>\n",
       "      <td>0.0</td>\n",
       "      <td>0.0</td>\n",
       "      <td>0.0</td>\n",
       "      <td>0.0</td>\n",
       "      <td>954.729730</td>\n",
       "      <td>954.729730</td>\n",
       "      <td>545.270270</td>\n",
       "      <td>545.270270</td>\n",
       "      <td>0.000000e+00</td>\n",
       "      <td>0.000000e+00</td>\n",
       "      <td>NaN</td>\n",
       "      <td>NaN</td>\n",
       "      <td>NaN</td>\n",
       "      <td>8.828256</td>\n",
       "      <td>0.000000e+00</td>\n",
       "    </tr>\n",
       "    <tr>\n",
       "      <th>18</th>\n",
       "      <td>1.8</td>\n",
       "      <td>-1.041870</td>\n",
       "      <td>1.668797e-16</td>\n",
       "      <td>-0.578190</td>\n",
       "      <td>1.668592e-16</td>\n",
       "      <td>0.578190</td>\n",
       "      <td>4.784264e-17</td>\n",
       "      <td>8.350117e-19</td>\n",
       "      <td>0.0</td>\n",
       "      <td>0.0</td>\n",
       "      <td>199.828547</td>\n",
       "      <td>-6.924334e+17</td>\n",
       "      <td>6.924334e+17</td>\n",
       "      <td>-9.853200</td>\n",
       "      <td>3.337595e-15</td>\n",
       "      <td>-9.853200</td>\n",
       "      <td>3.338465e-15</td>\n",
       "      <td>-9.273600</td>\n",
       "      <td>-3.871782e-19</td>\n",
       "      <td>9.273600</td>\n",
       "      <td>1.670023e-17</td>\n",
       "      <td>9.568529e-16</td>\n",
       "      <td>1.800000e+02</td>\n",
       "      <td>3.141593e+00</td>\n",
       "      <td>863.361486</td>\n",
       "      <td>1.057313e-13</td>\n",
       "      <td>863.361486</td>\n",
       "      <td>1.057313e-13</td>\n",
       "      <td>486.638514</td>\n",
       "      <td>5.959603e-14</td>\n",
       "      <td>486.638514</td>\n",
       "      <td>5.959603e-14</td>\n",
       "      <td>-3.141593e+00</td>\n",
       "      <td>-3.141593e+00</td>\n",
       "      <td>-3.141593e+00</td>\n",
       "      <td>-3.141593e+00</td>\n",
       "      <td>1.0</td>\n",
       "      <td>1.0</td>\n",
       "      <td>1.0</td>\n",
       "      <td>1.0</td>\n",
       "      <td>959.290541</td>\n",
       "      <td>959.290541</td>\n",
       "      <td>540.709459</td>\n",
       "      <td>540.709459</td>\n",
       "      <td>4.175058e-20</td>\n",
       "      <td>2.392132e-18</td>\n",
       "      <td>NaN</td>\n",
       "      <td>NaN</td>\n",
       "      <td>NaN</td>\n",
       "      <td>8.816805</td>\n",
       "      <td>8.342958e-18</td>\n",
       "    </tr>\n",
       "    <tr>\n",
       "      <th>19</th>\n",
       "      <td>1.9</td>\n",
       "      <td>-0.085530</td>\n",
       "      <td>5.112978e-16</td>\n",
       "      <td>0.407130</td>\n",
       "      <td>3.445331e-16</td>\n",
       "      <td>0.407130</td>\n",
       "      <td>9.568529e-17</td>\n",
       "      <td>1.670023e-18</td>\n",
       "      <td>0.0</td>\n",
       "      <td>0.0</td>\n",
       "      <td>206.304374</td>\n",
       "      <td>2.437870e+17</td>\n",
       "      <td>2.437870e+17</td>\n",
       "      <td>28.980000</td>\n",
       "      <td>3.549026e-15</td>\n",
       "      <td>28.980000</td>\n",
       "      <td>3.549169e-15</td>\n",
       "      <td>-9.853200</td>\n",
       "      <td>3.336819e-15</td>\n",
       "      <td>9.853200</td>\n",
       "      <td>0.000000e+00</td>\n",
       "      <td>0.000000e+00</td>\n",
       "      <td>4.848646e-14</td>\n",
       "      <td>8.462484e-16</td>\n",
       "      <td>588.344595</td>\n",
       "      <td>3.468659e-12</td>\n",
       "      <td>588.344595</td>\n",
       "      <td>3.468659e-12</td>\n",
       "      <td>761.655405</td>\n",
       "      <td>4.490434e-12</td>\n",
       "      <td>761.655405</td>\n",
       "      <td>4.490434e-12</td>\n",
       "      <td>-3.141593e+00</td>\n",
       "      <td>-3.141593e+00</td>\n",
       "      <td>-3.141593e+00</td>\n",
       "      <td>-3.141593e+00</td>\n",
       "      <td>1.0</td>\n",
       "      <td>1.0</td>\n",
       "      <td>1.0</td>\n",
       "      <td>1.0</td>\n",
       "      <td>653.716216</td>\n",
       "      <td>653.716216</td>\n",
       "      <td>846.283784</td>\n",
       "      <td>846.283784</td>\n",
       "      <td>1.670023e-19</td>\n",
       "      <td>9.568529e-18</td>\n",
       "      <td>NaN</td>\n",
       "      <td>NaN</td>\n",
       "      <td>NaN</td>\n",
       "      <td>8.808252</td>\n",
       "      <td>3.391257e-17</td>\n",
       "    </tr>\n",
       "    <tr>\n",
       "      <th>20</th>\n",
       "      <td>2.0</td>\n",
       "      <td>2.812470</td>\n",
       "      <td>9.231523e-15</td>\n",
       "      <td>1.363470</td>\n",
       "      <td>9.046935e-15</td>\n",
       "      <td>1.363470</td>\n",
       "      <td>-5.980331e-15</td>\n",
       "      <td>-1.043765e-16</td>\n",
       "      <td>0.0</td>\n",
       "      <td>0.0</td>\n",
       "      <td>-86.676009</td>\n",
       "      <td>-1.306300e+16</td>\n",
       "      <td>1.306300e+16</td>\n",
       "      <td>28.980000</td>\n",
       "      <td>1.708552e-13</td>\n",
       "      <td>28.980000</td>\n",
       "      <td>1.711488e-13</td>\n",
       "      <td>28.980000</td>\n",
       "      <td>3.405187e-15</td>\n",
       "      <td>28.980000</td>\n",
       "      <td>-2.120930e-15</td>\n",
       "      <td>-1.215203e-13</td>\n",
       "      <td>3.801706e-13</td>\n",
       "      <td>6.635228e-15</td>\n",
       "      <td>-235.337838</td>\n",
       "      <td>1.672276e-12</td>\n",
       "      <td>-235.337838</td>\n",
       "      <td>1.672276e-12</td>\n",
       "      <td>-304.662162</td>\n",
       "      <td>2.471620e-12</td>\n",
       "      <td>-304.662162</td>\n",
       "      <td>2.471620e-12</td>\n",
       "      <td>-3.101248e-15</td>\n",
       "      <td>-3.101248e-15</td>\n",
       "      <td>-3.540654e-15</td>\n",
       "      <td>-3.540654e-15</td>\n",
       "      <td>0.0</td>\n",
       "      <td>0.0</td>\n",
       "      <td>0.0</td>\n",
       "      <td>0.0</td>\n",
       "      <td>653.716216</td>\n",
       "      <td>653.716216</td>\n",
       "      <td>846.283784</td>\n",
       "      <td>846.283784</td>\n",
       "      <td>-4.968319e-18</td>\n",
       "      <td>-2.846637e-16</td>\n",
       "      <td>NaN</td>\n",
       "      <td>NaN</td>\n",
       "      <td>NaN</td>\n",
       "      <td>8.896782</td>\n",
       "      <td>5.034860e-16</td>\n",
       "    </tr>\n",
       "    <tr>\n",
       "      <th>21</th>\n",
       "      <td>2.1</td>\n",
       "      <td>3.681870</td>\n",
       "      <td>2.225142e-14</td>\n",
       "      <td>2.232870</td>\n",
       "      <td>1.368009e-14</td>\n",
       "      <td>2.232870</td>\n",
       "      <td>-1.820413e-14</td>\n",
       "      <td>-3.177219e-16</td>\n",
       "      <td>0.0</td>\n",
       "      <td>0.0</td>\n",
       "      <td>-43.056792</td>\n",
       "      <td>-7.027749e+15</td>\n",
       "      <td>7.027749e+15</td>\n",
       "      <td>-11.592000</td>\n",
       "      <td>8.895562e-14</td>\n",
       "      <td>-11.592000</td>\n",
       "      <td>9.012543e-14</td>\n",
       "      <td>28.980000</td>\n",
       "      <td>1.703931e-13</td>\n",
       "      <td>28.980000</td>\n",
       "      <td>-2.145980e-15</td>\n",
       "      <td>-1.229556e-13</td>\n",
       "      <td>3.510331e-13</td>\n",
       "      <td>6.126683e-15</td>\n",
       "      <td>-367.783784</td>\n",
       "      <td>4.468101e-12</td>\n",
       "      <td>-367.783784</td>\n",
       "      <td>4.468101e-12</td>\n",
       "      <td>-199.216216</td>\n",
       "      <td>2.860030e-12</td>\n",
       "      <td>-199.216216</td>\n",
       "      <td>2.860030e-12</td>\n",
       "      <td>-5.622397e-15</td>\n",
       "      <td>-5.622397e-15</td>\n",
       "      <td>-6.644114e-15</td>\n",
       "      <td>-6.644114e-15</td>\n",
       "      <td>0.0</td>\n",
       "      <td>0.0</td>\n",
       "      <td>0.0</td>\n",
       "      <td>0.0</td>\n",
       "      <td>972.972973</td>\n",
       "      <td>972.972973</td>\n",
       "      <td>527.027027</td>\n",
       "      <td>527.027027</td>\n",
       "      <td>-2.607324e-17</td>\n",
       "      <td>-1.493887e-15</td>\n",
       "      <td>NaN</td>\n",
       "      <td>NaN</td>\n",
       "      <td>NaN</td>\n",
       "      <td>9.076599</td>\n",
       "      <td>1.639837e-15</td>\n",
       "    </tr>\n",
       "    <tr>\n",
       "      <th>22</th>\n",
       "      <td>2.2</td>\n",
       "      <td>2.493690</td>\n",
       "      <td>3.468171e-14</td>\n",
       "      <td>3.073290</td>\n",
       "      <td>3.010402e-14</td>\n",
       "      <td>3.073290</td>\n",
       "      <td>-2.487817e-14</td>\n",
       "      <td>-4.342061e-16</td>\n",
       "      <td>0.0</td>\n",
       "      <td>0.0</td>\n",
       "      <td>-69.331184</td>\n",
       "      <td>-7.077953e+15</td>\n",
       "      <td>7.077953e+15</td>\n",
       "      <td>-12.171600</td>\n",
       "      <td>1.573106e-13</td>\n",
       "      <td>-12.171600</td>\n",
       "      <td>1.583933e-13</td>\n",
       "      <td>-11.592000</td>\n",
       "      <td>9.086349e-14</td>\n",
       "      <td>11.592000</td>\n",
       "      <td>-1.837026e-16</td>\n",
       "      <td>-1.052538e-14</td>\n",
       "      <td>5.612335e-13</td>\n",
       "      <td>9.795373e-15</td>\n",
       "      <td>-387.103378</td>\n",
       "      <td>1.031641e-11</td>\n",
       "      <td>-387.103378</td>\n",
       "      <td>1.031641e-11</td>\n",
       "      <td>-206.896622</td>\n",
       "      <td>6.384376e-12</td>\n",
       "      <td>-206.896622</td>\n",
       "      <td>6.384376e-12</td>\n",
       "      <td>-1.305807e-14</td>\n",
       "      <td>-1.305807e-14</td>\n",
       "      <td>-1.511968e-14</td>\n",
       "      <td>-1.511968e-14</td>\n",
       "      <td>0.0</td>\n",
       "      <td>0.0</td>\n",
       "      <td>0.0</td>\n",
       "      <td>0.0</td>\n",
       "      <td>977.533784</td>\n",
       "      <td>977.533784</td>\n",
       "      <td>522.466216</td>\n",
       "      <td>522.466216</td>\n",
       "      <td>-6.366964e-17</td>\n",
       "      <td>-3.648002e-15</td>\n",
       "      <td>NaN</td>\n",
       "      <td>NaN</td>\n",
       "      <td>NaN</td>\n",
       "      <td>9.341907</td>\n",
       "      <td>3.829042e-15</td>\n",
       "    </tr>\n",
       "    <tr>\n",
       "      <th>23</th>\n",
       "      <td>2.3</td>\n",
       "      <td>1.247550</td>\n",
       "      <td>6.058103e-14</td>\n",
       "      <td>1.856130</td>\n",
       "      <td>5.264126e-14</td>\n",
       "      <td>1.856130</td>\n",
       "      <td>-2.538052e-14</td>\n",
       "      <td>-4.429737e-16</td>\n",
       "      <td>0.0</td>\n",
       "      <td>0.0</td>\n",
       "      <td>-118.836092</td>\n",
       "      <td>-4.190159e+15</td>\n",
       "      <td>4.190159e+15</td>\n",
       "      <td>-12.751200</td>\n",
       "      <td>3.585102e-13</td>\n",
       "      <td>-12.751200</td>\n",
       "      <td>3.590628e-13</td>\n",
       "      <td>-12.171600</td>\n",
       "      <td>1.597021e-13</td>\n",
       "      <td>12.171600</td>\n",
       "      <td>8.350117e-18</td>\n",
       "      <td>4.784264e-16</td>\n",
       "      <td>1.624952e-12</td>\n",
       "      <td>2.836076e-14</td>\n",
       "      <td>-406.587162</td>\n",
       "      <td>3.675087e-11</td>\n",
       "      <td>-406.587162</td>\n",
       "      <td>3.675087e-11</td>\n",
       "      <td>-214.412838</td>\n",
       "      <td>2.112044e-11</td>\n",
       "      <td>-214.412838</td>\n",
       "      <td>2.112044e-11</td>\n",
       "      <td>-4.682723e-14</td>\n",
       "      <td>-4.682723e-14</td>\n",
       "      <td>-5.103132e-14</td>\n",
       "      <td>-5.103132e-14</td>\n",
       "      <td>0.0</td>\n",
       "      <td>0.0</td>\n",
       "      <td>0.0</td>\n",
       "      <td>0.0</td>\n",
       "      <td>982.094595</td>\n",
       "      <td>982.094595</td>\n",
       "      <td>517.905405</td>\n",
       "      <td>517.905405</td>\n",
       "      <td>-1.075286e-16</td>\n",
       "      <td>-6.160936e-15</td>\n",
       "      <td>NaN</td>\n",
       "      <td>NaN</td>\n",
       "      <td>NaN</td>\n",
       "      <td>9.588378</td>\n",
       "      <td>7.966307e-15</td>\n",
       "    </tr>\n",
       "    <tr>\n",
       "      <th>24</th>\n",
       "      <td>2.4</td>\n",
       "      <td>-0.056550</td>\n",
       "      <td>1.406770e-13</td>\n",
       "      <td>0.581010</td>\n",
       "      <td>1.228382e-13</td>\n",
       "      <td>0.581010</td>\n",
       "      <td>-1.751041e-14</td>\n",
       "      <td>-3.056143e-16</td>\n",
       "      <td>0.0</td>\n",
       "      <td>0.0</td>\n",
       "      <td>-401.938696</td>\n",
       "      <td>-1.901122e+15</td>\n",
       "      <td>1.901122e+15</td>\n",
       "      <td>-13.330800</td>\n",
       "      <td>1.242304e-12</td>\n",
       "      <td>-13.330800</td>\n",
       "      <td>1.242287e-12</td>\n",
       "      <td>-12.751200</td>\n",
       "      <td>3.609112e-13</td>\n",
       "      <td>12.751200</td>\n",
       "      <td>2.738838e-15</td>\n",
       "      <td>1.569239e-13</td>\n",
       "      <td>1.211358e-11</td>\n",
       "      <td>2.114218e-13</td>\n",
       "      <td>887.989865</td>\n",
       "      <td>2.185578e-09</td>\n",
       "      <td>887.989865</td>\n",
       "      <td>2.185578e-09</td>\n",
       "      <td>462.010135</td>\n",
       "      <td>1.166674e-09</td>\n",
       "      <td>462.010135</td>\n",
       "      <td>1.166674e-09</td>\n",
       "      <td>-3.141593e+00</td>\n",
       "      <td>-3.141593e+00</td>\n",
       "      <td>-3.141593e+00</td>\n",
       "      <td>-3.141593e+00</td>\n",
       "      <td>1.0</td>\n",
       "      <td>1.0</td>\n",
       "      <td>1.0</td>\n",
       "      <td>1.0</td>\n",
       "      <td>986.655405</td>\n",
       "      <td>986.655405</td>\n",
       "      <td>513.344595</td>\n",
       "      <td>513.344595</td>\n",
       "      <td>-1.449580e-16</td>\n",
       "      <td>-8.305483e-15</td>\n",
       "      <td>NaN</td>\n",
       "      <td>NaN</td>\n",
       "      <td>NaN</td>\n",
       "      <td>9.710235</td>\n",
       "      <td>1.674028e-14</td>\n",
       "    </tr>\n",
       "    <tr>\n",
       "      <th>25</th>\n",
       "      <td>2.5</td>\n",
       "      <td>0.725910</td>\n",
       "      <td>3.800875e-12</td>\n",
       "      <td>1.392450</td>\n",
       "      <td>3.740134e-12</td>\n",
       "      <td>1.392450</td>\n",
       "      <td>1.105404e-12</td>\n",
       "      <td>1.929294e-14</td>\n",
       "      <td>0.0</td>\n",
       "      <td>0.0</td>\n",
       "      <td>193.860186</td>\n",
       "      <td>7.217405e+13</td>\n",
       "      <td>7.217405e+13</td>\n",
       "      <td>28.980000</td>\n",
       "      <td>7.196169e-11</td>\n",
       "      <td>28.980000</td>\n",
       "      <td>7.194768e-11</td>\n",
       "      <td>-13.330800</td>\n",
       "      <td>1.231564e-12</td>\n",
       "      <td>13.330800</td>\n",
       "      <td>3.892323e-13</td>\n",
       "      <td>2.230137e-11</td>\n",
       "      <td>1.538970e-10</td>\n",
       "      <td>2.686009e-12</td>\n",
       "      <td>-294.172297</td>\n",
       "      <td>2.733945e-09</td>\n",
       "      <td>-294.172297</td>\n",
       "      <td>2.733945e-09</td>\n",
       "      <td>-380.827703</td>\n",
       "      <td>3.331727e-09</td>\n",
       "      <td>-380.827703</td>\n",
       "      <td>3.331727e-09</td>\n",
       "      <td>-5.365713e-12</td>\n",
       "      <td>-5.365713e-12</td>\n",
       "      <td>-5.051034e-12</td>\n",
       "      <td>-5.051034e-12</td>\n",
       "      <td>0.0</td>\n",
       "      <td>0.0</td>\n",
       "      <td>0.0</td>\n",
       "      <td>0.0</td>\n",
       "      <td>653.716216</td>\n",
       "      <td>653.716216</td>\n",
       "      <td>846.283784</td>\n",
       "      <td>846.283784</td>\n",
       "      <td>8.044085e-16</td>\n",
       "      <td>4.608921e-14</td>\n",
       "      <td>NaN</td>\n",
       "      <td>NaN</td>\n",
       "      <td>NaN</td>\n",
       "      <td>9.808908</td>\n",
       "      <td>2.098889e-13</td>\n",
       "    </tr>\n",
       "    <tr>\n",
       "      <th>26</th>\n",
       "      <td>2.6</td>\n",
       "      <td>1.450410</td>\n",
       "      <td>1.390805e-11</td>\n",
       "      <td>0.001410</td>\n",
       "      <td>1.031294e-11</td>\n",
       "      <td>0.001410</td>\n",
       "      <td>-3.193233e-12</td>\n",
       "      <td>-5.573244e-14</td>\n",
       "      <td>0.0</td>\n",
       "      <td>0.0</td>\n",
       "      <td>-185.043729</td>\n",
       "      <td>-2.529945e+10</td>\n",
       "      <td>2.529945e+10</td>\n",
       "      <td>-14.490000</td>\n",
       "      <td>1.302098e-10</td>\n",
       "      <td>-14.490000</td>\n",
       "      <td>1.302906e-10</td>\n",
       "      <td>28.980000</td>\n",
       "      <td>7.191819e-11</td>\n",
       "      <td>28.980000</td>\n",
       "      <td>-1.889740e-12</td>\n",
       "      <td>-1.082741e-10</td>\n",
       "      <td>4.190694e-07</td>\n",
       "      <td>7.314140e-09</td>\n",
       "      <td>-448.099662</td>\n",
       "      <td>7.296822e-09</td>\n",
       "      <td>-448.099662</td>\n",
       "      <td>7.296822e-09</td>\n",
       "      <td>-226.900338</td>\n",
       "      <td>3.873628e-09</td>\n",
       "      <td>-226.900338</td>\n",
       "      <td>3.873628e-09</td>\n",
       "      <td>-9.401530e-12</td>\n",
       "      <td>-9.401530e-12</td>\n",
       "      <td>-9.856486e-12</td>\n",
       "      <td>-9.856486e-12</td>\n",
       "      <td>0.0</td>\n",
       "      <td>0.0</td>\n",
       "      <td>0.0</td>\n",
       "      <td>0.0</td>\n",
       "      <td>995.777027</td>\n",
       "      <td>995.777027</td>\n",
       "      <td>504.222973</td>\n",
       "      <td>504.222973</td>\n",
       "      <td>-1.017566e-15</td>\n",
       "      <td>-5.830224e-14</td>\n",
       "      <td>NaN</td>\n",
       "      <td>NaN</td>\n",
       "      <td>NaN</td>\n",
       "      <td>9.878601</td>\n",
       "      <td>9.125425e-13</td>\n",
       "    </tr>\n",
       "    <tr>\n",
       "      <th>27</th>\n",
       "      <td>2.7</td>\n",
       "      <td>0.001410</td>\n",
       "      <td>3.241624e-11</td>\n",
       "      <td>0.725910</td>\n",
       "      <td>2.590581e-11</td>\n",
       "      <td>0.725910</td>\n",
       "      <td>-7.264929e-12</td>\n",
       "      <td>-1.267969e-13</td>\n",
       "      <td>0.0</td>\n",
       "      <td>0.0</td>\n",
       "      <td>-204.309453</td>\n",
       "      <td>-5.724981e+12</td>\n",
       "      <td>5.724981e+12</td>\n",
       "      <td>-14.490000</td>\n",
       "      <td>2.397923e-10</td>\n",
       "      <td>-14.490000</td>\n",
       "      <td>2.397925e-10</td>\n",
       "      <td>-14.490000</td>\n",
       "      <td>1.304376e-10</td>\n",
       "      <td>14.490000</td>\n",
       "      <td>4.684499e-13</td>\n",
       "      <td>2.684020e-11</td>\n",
       "      <td>2.044735e-09</td>\n",
       "      <td>3.568736e-11</td>\n",
       "      <td>-448.099662</td>\n",
       "      <td>1.750285e-05</td>\n",
       "      <td>-448.099662</td>\n",
       "      <td>1.750285e-05</td>\n",
       "      <td>-226.900338</td>\n",
       "      <td>9.281208e-06</td>\n",
       "      <td>-226.900338</td>\n",
       "      <td>9.281208e-06</td>\n",
       "      <td>-2.255139e-08</td>\n",
       "      <td>-2.255139e-08</td>\n",
       "      <td>-2.361613e-08</td>\n",
       "      <td>-2.361613e-08</td>\n",
       "      <td>0.0</td>\n",
       "      <td>0.0</td>\n",
       "      <td>0.0</td>\n",
       "      <td>0.0</td>\n",
       "      <td>995.777027</td>\n",
       "      <td>995.777027</td>\n",
       "      <td>504.222973</td>\n",
       "      <td>504.222973</td>\n",
       "      <td>-1.014403e-14</td>\n",
       "      <td>-5.812104e-13</td>\n",
       "      <td>NaN</td>\n",
       "      <td>NaN</td>\n",
       "      <td>NaN</td>\n",
       "      <td>9.914967</td>\n",
       "      <td>2.723480e-12</td>\n",
       "    </tr>\n",
       "    <tr>\n",
       "      <th>28</th>\n",
       "      <td>2.8</td>\n",
       "      <td>-1.447590</td>\n",
       "      <td>2.879262e-08</td>\n",
       "      <td>-0.723090</td>\n",
       "      <td>2.877512e-08</td>\n",
       "      <td>0.723090</td>\n",
       "      <td>8.750095e-09</td>\n",
       "      <td>1.527180e-10</td>\n",
       "      <td>0.0</td>\n",
       "      <td>0.0</td>\n",
       "      <td>188.420027</td>\n",
       "      <td>-4.734806e+09</td>\n",
       "      <td>4.734806e+09</td>\n",
       "      <td>-14.490000</td>\n",
       "      <td>5.749643e-07</td>\n",
       "      <td>-14.490000</td>\n",
       "      <td>5.751854e-07</td>\n",
       "      <td>-14.490000</td>\n",
       "      <td>1.293872e-10</td>\n",
       "      <td>14.490000</td>\n",
       "      <td>3.056427e-09</td>\n",
       "      <td>1.751204e-07</td>\n",
       "      <td>1.800000e+02</td>\n",
       "      <td>3.141593e+00</td>\n",
       "      <td>896.199333</td>\n",
       "      <td>1.828683e-05</td>\n",
       "      <td>896.199316</td>\n",
       "      <td>1.828683e-05</td>\n",
       "      <td>453.800670</td>\n",
       "      <td>8.692903e-06</td>\n",
       "      <td>453.800682</td>\n",
       "      <td>8.692903e-06</td>\n",
       "      <td>-3.141593e+00</td>\n",
       "      <td>-3.141593e+00</td>\n",
       "      <td>-3.141593e+00</td>\n",
       "      <td>-3.141593e+00</td>\n",
       "      <td>1.0</td>\n",
       "      <td>1.0</td>\n",
       "      <td>1.0</td>\n",
       "      <td>1.0</td>\n",
       "      <td>995.777037</td>\n",
       "      <td>995.777017</td>\n",
       "      <td>504.222966</td>\n",
       "      <td>504.222980</td>\n",
       "      <td>7.619415e-12</td>\n",
       "      <td>4.365603e-10</td>\n",
       "      <td>NaN</td>\n",
       "      <td>NaN</td>\n",
       "      <td>NaN</td>\n",
       "      <td>9.915108</td>\n",
       "      <td>1.442775e-09</td>\n",
       "    </tr>\n",
       "    <tr>\n",
       "      <th>29</th>\n",
       "      <td>2.9</td>\n",
       "      <td>-0.723090</td>\n",
       "      <td>8.652119e-08</td>\n",
       "      <td>0.001410</td>\n",
       "      <td>5.782503e-08</td>\n",
       "      <td>0.001410</td>\n",
       "      <td>4.988819e-08</td>\n",
       "      <td>8.707132e-10</td>\n",
       "      <td>0.0</td>\n",
       "      <td>0.0</td>\n",
       "      <td>66.411107</td>\n",
       "      <td>1.619362e+06</td>\n",
       "      <td>1.619362e+06</td>\n",
       "      <td>28.980000</td>\n",
       "      <td>5.791650e-07</td>\n",
       "      <td>28.980000</td>\n",
       "      <td>5.797946e-07</td>\n",
       "      <td>-14.490000</td>\n",
       "      <td>5.743335e-07</td>\n",
       "      <td>14.490000</td>\n",
       "      <td>1.130348e-08</td>\n",
       "      <td>6.476416e-07</td>\n",
       "      <td>2.349738e-03</td>\n",
       "      <td>4.101066e-05</td>\n",
       "      <td>588.344603</td>\n",
       "      <td>7.385554e-05</td>\n",
       "      <td>588.344586</td>\n",
       "      <td>7.385554e-05</td>\n",
       "      <td>761.655399</td>\n",
       "      <td>8.475235e-05</td>\n",
       "      <td>761.655411</td>\n",
       "      <td>8.475235e-05</td>\n",
       "      <td>-3.141593e+00</td>\n",
       "      <td>-3.141593e+00</td>\n",
       "      <td>-3.141593e+00</td>\n",
       "      <td>-3.141593e+00</td>\n",
       "      <td>1.0</td>\n",
       "      <td>1.0</td>\n",
       "      <td>1.0</td>\n",
       "      <td>1.0</td>\n",
       "      <td>653.716226</td>\n",
       "      <td>653.716207</td>\n",
       "      <td>846.283777</td>\n",
       "      <td>846.283791</td>\n",
       "      <td>5.879097e-11</td>\n",
       "      <td>3.368475e-09</td>\n",
       "      <td>NaN</td>\n",
       "      <td>NaN</td>\n",
       "      <td>NaN</td>\n",
       "      <td>9.879024</td>\n",
       "      <td>5.772783e-09</td>\n",
       "    </tr>\n",
       "    <tr>\n",
       "      <th>30</th>\n",
       "      <td>3.0</td>\n",
       "      <td>2.174910</td>\n",
       "      <td>2.857815e-07</td>\n",
       "      <td>0.725910</td>\n",
       "      <td>2.569369e-07</td>\n",
       "      <td>0.725910</td>\n",
       "      <td>6.143338e-09</td>\n",
       "      <td>1.072215e-10</td>\n",
       "      <td>0.0</td>\n",
       "      <td>0.0</td>\n",
       "      <td>2396.319282</td>\n",
       "      <td>6.770192e+09</td>\n",
       "      <td>6.770192e+09</td>\n",
       "      <td>28.980000</td>\n",
       "      <td>3.404783e-06</td>\n",
       "      <td>28.980000</td>\n",
       "      <td>3.404550e-06</td>\n",
       "      <td>28.980000</td>\n",
       "      <td>5.829153e-07</td>\n",
       "      <td>28.980000</td>\n",
       "      <td>-2.657331e-08</td>\n",
       "      <td>-1.522539e-06</td>\n",
       "      <td>2.027992e-05</td>\n",
       "      <td>3.539514e-07</td>\n",
       "      <td>-294.172323</td>\n",
       "      <td>6.707331e-05</td>\n",
       "      <td>-294.172272</td>\n",
       "      <td>6.707330e-05</td>\n",
       "      <td>-380.827685</td>\n",
       "      <td>8.644631e-05</td>\n",
       "      <td>-380.827721</td>\n",
       "      <td>8.644632e-05</td>\n",
       "      <td>-1.316398e-07</td>\n",
       "      <td>-1.316398e-07</td>\n",
       "      <td>-1.310561e-07</td>\n",
       "      <td>-1.310561e-07</td>\n",
       "      <td>0.0</td>\n",
       "      <td>0.0</td>\n",
       "      <td>0.0</td>\n",
       "      <td>0.0</td>\n",
       "      <td>653.716273</td>\n",
       "      <td>653.716160</td>\n",
       "      <td>846.283744</td>\n",
       "      <td>846.283823</td>\n",
       "      <td>1.076877e-10</td>\n",
       "      <td>6.170051e-09</td>\n",
       "      <td>NaN</td>\n",
       "      <td>NaN</td>\n",
       "      <td>NaN</td>\n",
       "      <td>9.915390</td>\n",
       "      <td>2.151088e-08</td>\n",
       "    </tr>\n",
       "    <tr>\n",
       "      <th>31</th>\n",
       "      <td>3.1</td>\n",
       "      <td>2.899410</td>\n",
       "      <td>6.207751e-07</td>\n",
       "      <td>1.450410</td>\n",
       "      <td>4.509337e-07</td>\n",
       "      <td>1.450410</td>\n",
       "      <td>-2.455093e-07</td>\n",
       "      <td>-4.284946e-09</td>\n",
       "      <td>0.0</td>\n",
       "      <td>0.0</td>\n",
       "      <td>-105.236736</td>\n",
       "      <td>-3.384897e+08</td>\n",
       "      <td>3.384897e+08</td>\n",
       "      <td>-14.490000</td>\n",
       "      <td>3.295554e-06</td>\n",
       "      <td>-14.490000</td>\n",
       "      <td>3.307978e-06</td>\n",
       "      <td>28.980000</td>\n",
       "      <td>3.401617e-06</td>\n",
       "      <td>28.980000</td>\n",
       "      <td>-6.127003e-08</td>\n",
       "      <td>-3.510514e-06</td>\n",
       "      <td>1.781331e-05</td>\n",
       "      <td>3.109008e-07</td>\n",
       "      <td>-448.099687</td>\n",
       "      <td>1.605753e-04</td>\n",
       "      <td>-448.099638</td>\n",
       "      <td>1.605753e-04</td>\n",
       "      <td>-226.900321</td>\n",
       "      <td>8.818587e-05</td>\n",
       "      <td>-226.900355</td>\n",
       "      <td>8.818589e-05</td>\n",
       "      <td>-2.068919e-07</td>\n",
       "      <td>-2.068919e-07</td>\n",
       "      <td>-2.243899e-07</td>\n",
       "      <td>-2.243899e-07</td>\n",
       "      <td>0.0</td>\n",
       "      <td>0.0</td>\n",
       "      <td>0.0</td>\n",
       "      <td>0.0</td>\n",
       "      <td>995.777082</td>\n",
       "      <td>995.776972</td>\n",
       "      <td>504.222935</td>\n",
       "      <td>504.223011</td>\n",
       "      <td>-1.011985e-10</td>\n",
       "      <td>-5.798247e-09</td>\n",
       "      <td>NaN</td>\n",
       "      <td>NaN</td>\n",
       "      <td>NaN</td>\n",
       "      <td>10.024206</td>\n",
       "      <td>5.690441e-08</td>\n",
       "    </tr>\n",
       "    <tr>\n",
       "      <th>32</th>\n",
       "      <td>3.2</td>\n",
       "      <td>1.450410</td>\n",
       "      <td>1.053799e-06</td>\n",
       "      <td>2.174910</td>\n",
       "      <td>8.885045e-07</td>\n",
       "      <td>2.174910</td>\n",
       "      <td>-4.077090e-07</td>\n",
       "      <td>-7.115864e-09</td>\n",
       "      <td>0.0</td>\n",
       "      <td>0.0</td>\n",
       "      <td>-124.862495</td>\n",
       "      <td>-3.056424e+08</td>\n",
       "      <td>3.056424e+08</td>\n",
       "      <td>-14.490000</td>\n",
       "      <td>5.340074e-06</td>\n",
       "      <td>-14.490000</td>\n",
       "      <td>5.350395e-06</td>\n",
       "      <td>-14.490000</td>\n",
       "      <td>3.317705e-06</td>\n",
       "      <td>14.490000</td>\n",
       "      <td>4.651661e-09</td>\n",
       "      <td>2.665205e-07</td>\n",
       "      <td>2.340674e-05</td>\n",
       "      <td>4.085247e-07</td>\n",
       "      <td>-448.099702</td>\n",
       "      <td>5.453182e-04</td>\n",
       "      <td>-448.099622</td>\n",
       "      <td>5.453181e-04</td>\n",
       "      <td>-226.900310</td>\n",
       "      <td>2.989568e-04</td>\n",
       "      <td>-226.900366</td>\n",
       "      <td>2.989569e-04</td>\n",
       "      <td>-7.026106e-07</td>\n",
       "      <td>-7.026106e-07</td>\n",
       "      <td>-7.606989e-07</td>\n",
       "      <td>-7.606989e-07</td>\n",
       "      <td>0.0</td>\n",
       "      <td>0.0</td>\n",
       "      <td>0.0</td>\n",
       "      <td>0.0</td>\n",
       "      <td>995.777116</td>\n",
       "      <td>995.776938</td>\n",
       "      <td>504.222911</td>\n",
       "      <td>504.223035</td>\n",
       "      <td>-6.712390e-10</td>\n",
       "      <td>-3.845916e-08</td>\n",
       "      <td>NaN</td>\n",
       "      <td>NaN</td>\n",
       "      <td>NaN</td>\n",
       "      <td>10.205472</td>\n",
       "      <td>1.238763e-07</td>\n",
       "    </tr>\n",
       "    <tr>\n",
       "      <th>33</th>\n",
       "      <td>3.3</td>\n",
       "      <td>0.001410</td>\n",
       "      <td>2.228023e-06</td>\n",
       "      <td>0.725910</td>\n",
       "      <td>1.961477e-06</td>\n",
       "      <td>0.725910</td>\n",
       "      <td>-2.443460e-07</td>\n",
       "      <td>-4.264643e-09</td>\n",
       "      <td>0.0</td>\n",
       "      <td>0.0</td>\n",
       "      <td>-459.939289</td>\n",
       "      <td>-1.702159e+08</td>\n",
       "      <td>1.702159e+08</td>\n",
       "      <td>-14.490000</td>\n",
       "      <td>1.812377e-05</td>\n",
       "      <td>-14.490000</td>\n",
       "      <td>1.812378e-05</td>\n",
       "      <td>-14.490000</td>\n",
       "      <td>5.368366e-06</td>\n",
       "      <td>14.490000</td>\n",
       "      <td>5.237276e-08</td>\n",
       "      <td>3.000738e-06</td>\n",
       "      <td>1.548186e-04</td>\n",
       "      <td>2.702094e-06</td>\n",
       "      <td>-448.099798</td>\n",
       "      <td>1.214966e+00</td>\n",
       "      <td>-448.099527</td>\n",
       "      <td>1.214941e+00</td>\n",
       "      <td>-226.900243</td>\n",
       "      <td>6.292726e-01</td>\n",
       "      <td>-226.900433</td>\n",
       "      <td>6.292857e-01</td>\n",
       "      <td>-1.565413e-03</td>\n",
       "      <td>-1.565381e-03</td>\n",
       "      <td>-1.601192e-03</td>\n",
       "      <td>-1.601224e-03</td>\n",
       "      <td>0.0</td>\n",
       "      <td>0.0</td>\n",
       "      <td>0.0</td>\n",
       "      <td>0.0</td>\n",
       "      <td>995.777328</td>\n",
       "      <td>995.776726</td>\n",
       "      <td>504.222762</td>\n",
       "      <td>504.223184</td>\n",
       "      <td>-1.240264e-09</td>\n",
       "      <td>-7.106191e-08</td>\n",
       "      <td>NaN</td>\n",
       "      <td>NaN</td>\n",
       "      <td>NaN</td>\n",
       "      <td>10.350513</td>\n",
       "      <td>2.663754e-07</td>\n",
       "    </tr>\n",
       "    <tr>\n",
       "      <th>34</th>\n",
       "      <td>3.4</td>\n",
       "      <td>-1.447590</td>\n",
       "      <td>1.982610e-03</td>\n",
       "      <td>-0.723090</td>\n",
       "      <td>1.981295e-03</td>\n",
       "      <td>0.723093</td>\n",
       "      <td>6.515288e-04</td>\n",
       "      <td>1.137132e-05</td>\n",
       "      <td>0.0</td>\n",
       "      <td>0.0</td>\n",
       "      <td>174.236112</td>\n",
       "      <td>-6.358890e+04</td>\n",
       "      <td>6.358914e+04</td>\n",
       "      <td>-14.490000</td>\n",
       "      <td>3.958952e-02</td>\n",
       "      <td>-14.490000</td>\n",
       "      <td>3.960598e-02</td>\n",
       "      <td>-14.490000</td>\n",
       "      <td>9.906314e-06</td>\n",
       "      <td>14.490000</td>\n",
       "      <td>2.274594e-04</td>\n",
       "      <td>1.303246e-02</td>\n",
       "      <td>1.798430e+02</td>\n",
       "      <td>3.138853e+00</td>\n",
       "      <td>896.789768</td>\n",
       "      <td>1.262648e+00</td>\n",
       "      <td>895.607104</td>\n",
       "      <td>1.260918e+00</td>\n",
       "      <td>453.385671</td>\n",
       "      <td>5.961507e-01</td>\n",
       "      <td>454.214895</td>\n",
       "      <td>5.972720e-01</td>\n",
       "      <td>-3.140185e+00</td>\n",
       "      <td>-3.140185e+00</td>\n",
       "      <td>-3.140278e+00</td>\n",
       "      <td>-3.140278e+00</td>\n",
       "      <td>1.0</td>\n",
       "      <td>1.0</td>\n",
       "      <td>1.0</td>\n",
       "      <td>1.0</td>\n",
       "      <td>996.434063</td>\n",
       "      <td>995.119991</td>\n",
       "      <td>503.762292</td>\n",
       "      <td>504.683653</td>\n",
       "      <td>5.671127e-07</td>\n",
       "      <td>3.249316e-05</td>\n",
       "      <td>NaN</td>\n",
       "      <td>NaN</td>\n",
       "      <td>NaN</td>\n",
       "      <td>10.350654</td>\n",
       "      <td>9.942921e-05</td>\n",
       "    </tr>\n",
       "    <tr>\n",
       "      <th>35</th>\n",
       "      <td>3.5</td>\n",
       "      <td>-0.723091</td>\n",
       "      <td>5.958516e-03</td>\n",
       "      <td>0.001409</td>\n",
       "      <td>3.982701e-03</td>\n",
       "      <td>0.004224</td>\n",
       "      <td>3.543644e-03</td>\n",
       "      <td>6.184825e-05</td>\n",
       "      <td>0.0</td>\n",
       "      <td>0.0</td>\n",
       "      <td>64.394717</td>\n",
       "      <td>2.277536e+01</td>\n",
       "      <td>6.830371e+01</td>\n",
       "      <td>28.979973</td>\n",
       "      <td>3.989568e-02</td>\n",
       "      <td>28.979973</td>\n",
       "      <td>3.994040e-02</td>\n",
       "      <td>-14.490000</td>\n",
       "      <td>3.954472e-02</td>\n",
       "      <td>14.490054</td>\n",
       "      <td>7.820792e-04</td>\n",
       "      <td>4.480984e-02</td>\n",
       "      <td>7.052215e+01</td>\n",
       "      <td>1.230844e+00</td>\n",
       "      <td>588.918611</td>\n",
       "      <td>5.100143e+00</td>\n",
       "      <td>587.726870</td>\n",
       "      <td>5.086950e+00</td>\n",
       "      <td>761.215160</td>\n",
       "      <td>5.817868e+00</td>\n",
       "      <td>762.050748</td>\n",
       "      <td>5.827543e+00</td>\n",
       "      <td>-3.132933e+00</td>\n",
       "      <td>-3.132938e+00</td>\n",
       "      <td>-3.133950e+00</td>\n",
       "      <td>-3.133946e+00</td>\n",
       "      <td>1.0</td>\n",
       "      <td>1.0</td>\n",
       "      <td>1.0</td>\n",
       "      <td>1.0</td>\n",
       "      <td>654.378550</td>\n",
       "      <td>653.054315</td>\n",
       "      <td>845.819324</td>\n",
       "      <td>846.747811</td>\n",
       "      <td>4.228092e-06</td>\n",
       "      <td>2.422518e-04</td>\n",
       "      <td>NaN</td>\n",
       "      <td>NaN</td>\n",
       "      <td>NaN</td>\n",
       "      <td>10.314570</td>\n",
       "      <td>3.976290e-04</td>\n",
       "    </tr>\n",
       "    <tr>\n",
       "      <th>36</th>\n",
       "      <td>3.6</td>\n",
       "      <td>2.174860</td>\n",
       "      <td>1.967455e-02</td>\n",
       "      <td>0.725861</td>\n",
       "      <td>1.768808e-02</td>\n",
       "      <td>0.726076</td>\n",
       "      <td>5.976660e-04</td>\n",
       "      <td>1.043124e-05</td>\n",
       "      <td>0.0</td>\n",
       "      <td>0.0</td>\n",
       "      <td>1695.683000</td>\n",
       "      <td>6.958530e+04</td>\n",
       "      <td>6.960596e+04</td>\n",
       "      <td>28.979049</td>\n",
       "      <td>2.343355e-01</td>\n",
       "      <td>28.979049</td>\n",
       "      <td>2.343128e-01</td>\n",
       "      <td>28.979973</td>\n",
       "      <td>4.016766e-02</td>\n",
       "      <td>28.980000</td>\n",
       "      <td>-1.810419e-03</td>\n",
       "      <td>-1.037294e-01</td>\n",
       "      <td>1.395931e+00</td>\n",
       "      <td>2.436359e-02</td>\n",
       "      <td>-295.925752</td>\n",
       "      <td>4.648517e+00</td>\n",
       "      <td>-292.425578</td>\n",
       "      <td>4.593680e+00</td>\n",
       "      <td>-379.597262</td>\n",
       "      <td>5.925717e+00</td>\n",
       "      <td>-382.051407</td>\n",
       "      <td>5.963839e+00</td>\n",
       "      <td>-9.069367e-03</td>\n",
       "      <td>-9.069654e-03</td>\n",
       "      <td>-9.012870e-03</td>\n",
       "      <td>-9.012584e-03</td>\n",
       "      <td>0.0</td>\n",
       "      <td>0.0</td>\n",
       "      <td>0.0</td>\n",
       "      <td>0.0</td>\n",
       "      <td>657.612783</td>\n",
       "      <td>649.834618</td>\n",
       "      <td>843.549472</td>\n",
       "      <td>849.003127</td>\n",
       "      <td>7.842066e-06</td>\n",
       "      <td>4.493173e-04</td>\n",
       "      <td>NaN</td>\n",
       "      <td>NaN</td>\n",
       "      <td>NaN</td>\n",
       "      <td>10.350933</td>\n",
       "      <td>1.481168e-03</td>\n",
       "    </tr>\n",
       "    <tr>\n",
       "      <th>37</th>\n",
       "      <td>3.7</td>\n",
       "      <td>2.899312</td>\n",
       "      <td>4.272976e-02</td>\n",
       "      <td>1.450360</td>\n",
       "      <td>3.104163e-02</td>\n",
       "      <td>1.450692</td>\n",
       "      <td>-1.664525e-02</td>\n",
       "      <td>-2.905144e-04</td>\n",
       "      <td>0.0</td>\n",
       "      <td>0.0</td>\n",
       "      <td>-106.850570</td>\n",
       "      <td>-4.992384e+03</td>\n",
       "      <td>4.993528e+03</td>\n",
       "      <td>-14.490000</td>\n",
       "      <td>2.268141e-01</td>\n",
       "      <td>-14.490012</td>\n",
       "      <td>2.276564e-01</td>\n",
       "      <td>28.979051</td>\n",
       "      <td>2.341343e-01</td>\n",
       "      <td>28.979996</td>\n",
       "      <td>-4.208494e-03</td>\n",
       "      <td>-2.411289e-01</td>\n",
       "      <td>1.226098e+00</td>\n",
       "      <td>2.139945e-02</td>\n",
       "      <td>-449.793577</td>\n",
       "      <td>1.110338e+01</td>\n",
       "      <td>-446.405747</td>\n",
       "      <td>1.101247e+01</td>\n",
       "      <td>-225.712650</td>\n",
       "      <td>6.031651e+00</td>\n",
       "      <td>-228.088025</td>\n",
       "      <td>6.099159e+00</td>\n",
       "      <td>-1.425266e-02</td>\n",
       "      <td>-1.424324e-02</td>\n",
       "      <td>-1.542897e-02</td>\n",
       "      <td>-1.543918e-02</td>\n",
       "      <td>0.0</td>\n",
       "      <td>0.0</td>\n",
       "      <td>0.0</td>\n",
       "      <td>0.0</td>\n",
       "      <td>999.541283</td>\n",
       "      <td>992.012771</td>\n",
       "      <td>501.583667</td>\n",
       "      <td>506.862279</td>\n",
       "      <td>-6.162093e-06</td>\n",
       "      <td>-3.530619e-04</td>\n",
       "      <td>NaN</td>\n",
       "      <td>NaN</td>\n",
       "      <td>NaN</td>\n",
       "      <td>10.459744</td>\n",
       "      <td>3.917653e-03</td>\n",
       "    </tr>\n",
       "    <tr>\n",
       "      <th>38</th>\n",
       "      <td>3.8</td>\n",
       "      <td>1.450311</td>\n",
       "      <td>7.253374e-02</td>\n",
       "      <td>2.174813</td>\n",
       "      <td>6.115992e-02</td>\n",
       "      <td>2.175673</td>\n",
       "      <td>-2.775982e-02</td>\n",
       "      <td>-4.845002e-04</td>\n",
       "      <td>0.0</td>\n",
       "      <td>0.0</td>\n",
       "      <td>-126.233015</td>\n",
       "      <td>-4.488776e+03</td>\n",
       "      <td>4.490551e+03</td>\n",
       "      <td>-14.490000</td>\n",
       "      <td>3.675808e-01</td>\n",
       "      <td>-14.490035</td>\n",
       "      <td>3.682835e-01</td>\n",
       "      <td>-14.490002</td>\n",
       "      <td>2.283072e-01</td>\n",
       "      <td>14.491801</td>\n",
       "      <td>3.287777e-04</td>\n",
       "      <td>1.883757e-02</td>\n",
       "      <td>1.610843e+00</td>\n",
       "      <td>2.811451e-02</td>\n",
       "      <td>-450.844864</td>\n",
       "      <td>3.777848e+01</td>\n",
       "      <td>-445.354460</td>\n",
       "      <td>3.723641e+01</td>\n",
       "      <td>-224.975541</td>\n",
       "      <td>2.034412e+01</td>\n",
       "      <td>-228.825135</td>\n",
       "      <td>2.073778e+01</td>\n",
       "      <td>-4.839787e-02</td>\n",
       "      <td>-4.829145e-02</td>\n",
       "      <td>-5.223246e-02</td>\n",
       "      <td>-5.234754e-02</td>\n",
       "      <td>0.0</td>\n",
       "      <td>0.0</td>\n",
       "      <td>0.0</td>\n",
       "      <td>0.0</td>\n",
       "      <td>1001.877476</td>\n",
       "      <td>989.676578</td>\n",
       "      <td>499.945647</td>\n",
       "      <td>508.500299</td>\n",
       "      <td>-4.491282e-05</td>\n",
       "      <td>-2.573315e-03</td>\n",
       "      <td>NaN</td>\n",
       "      <td>NaN</td>\n",
       "      <td>NaN</td>\n",
       "      <td>10.641003</td>\n",
       "      <td>8.527731e-03</td>\n",
       "    </tr>\n",
       "    <tr>\n",
       "      <th>39</th>\n",
       "      <td>3.9</td>\n",
       "      <td>0.001307</td>\n",
       "      <td>1.532883e-01</td>\n",
       "      <td>0.725818</td>\n",
       "      <td>1.349410e-01</td>\n",
       "      <td>0.738255</td>\n",
       "      <td>-1.644017e-02</td>\n",
       "      <td>-2.869352e-04</td>\n",
       "      <td>0.0</td>\n",
       "      <td>0.0</td>\n",
       "      <td>-470.284070</td>\n",
       "      <td>-2.529554e+03</td>\n",
       "      <td>2.572899e+03</td>\n",
       "      <td>-14.490000</td>\n",
       "      <td>1.246106e+00</td>\n",
       "      <td>-14.490044</td>\n",
       "      <td>1.246106e+00</td>\n",
       "      <td>-14.490004</td>\n",
       "      <td>3.694931e-01</td>\n",
       "      <td>14.494715</td>\n",
       "      <td>3.622523e-03</td>\n",
       "      <td>2.075553e-01</td>\n",
       "      <td>1.053194e+01</td>\n",
       "      <td>1.838171e-01</td>\n",
       "      <td>-457.405947</td>\n",
       "      <td>7.922481e+02</td>\n",
       "      <td>-438.793378</td>\n",
       "      <td>7.599287e+02</td>\n",
       "      <td>-220.375242</td>\n",
       "      <td>3.816609e+02</td>\n",
       "      <td>-233.425434</td>\n",
       "      <td>4.043036e+02</td>\n",
       "      <td>-1.568422e+00</td>\n",
       "      <td>-1.555955e+00</td>\n",
       "      <td>-1.556280e+00</td>\n",
       "      <td>-1.568474e+00</td>\n",
       "      <td>0.0</td>\n",
       "      <td>0.0</td>\n",
       "      <td>0.0</td>\n",
       "      <td>0.0</td>\n",
       "      <td>1016.457659</td>\n",
       "      <td>975.096395</td>\n",
       "      <td>489.722760</td>\n",
       "      <td>518.723186</td>\n",
       "      <td>-8.348459e-05</td>\n",
       "      <td>-4.783315e-03</td>\n",
       "      <td>NaN</td>\n",
       "      <td>NaN</td>\n",
       "      <td>NaN</td>\n",
       "      <td>10.786035</td>\n",
       "      <td>1.833278e-02</td>\n",
       "    </tr>\n",
       "    <tr>\n",
       "      <th>40</th>\n",
       "      <td>4.0</td>\n",
       "      <td>-1.447697</td>\n",
       "      <td>1.470396e+00</td>\n",
       "      <td>-0.723513</td>\n",
       "      <td>1.408027e+00</td>\n",
       "      <td>1.583039</td>\n",
       "      <td>4.147286e-01</td>\n",
       "      <td>7.238380e-03</td>\n",
       "      <td>0.0</td>\n",
       "      <td>0.0</td>\n",
       "      <td>194.522363</td>\n",
       "      <td>-9.995516e+01</td>\n",
       "      <td>2.187007e+02</td>\n",
       "      <td>-14.490000</td>\n",
       "      <td>2.509605e+01</td>\n",
       "      <td>-14.479357</td>\n",
       "      <td>2.510653e+01</td>\n",
       "      <td>-14.490373</td>\n",
       "      <td>1.242279e+00</td>\n",
       "      <td>14.543526</td>\n",
       "      <td>1.468838e-01</td>\n",
       "      <td>8.415821e+00</td>\n",
       "      <td>1.171963e+02</td>\n",
       "      <td>2.045462e+00</td>\n",
       "      <td>-635.524384</td>\n",
       "      <td>7.998053e+02</td>\n",
       "      <td>-260.674940</td>\n",
       "      <td>3.228995e+02</td>\n",
       "      <td>-95.487602</td>\n",
       "      <td>1.148441e+02</td>\n",
       "      <td>-358.313074</td>\n",
       "      <td>4.382564e+02</td>\n",
       "      <td>-2.328242e+00</td>\n",
       "      <td>-2.344730e+00</td>\n",
       "      <td>-2.374026e+00</td>\n",
       "      <td>-2.357528e+00</td>\n",
       "      <td>0.0</td>\n",
       "      <td>0.0</td>\n",
       "      <td>0.0</td>\n",
       "      <td>0.0</td>\n",
       "      <td>1412.276409</td>\n",
       "      <td>579.277645</td>\n",
       "      <td>212.194671</td>\n",
       "      <td>796.251275</td>\n",
       "      <td>2.640877e-04</td>\n",
       "      <td>1.513111e-02</td>\n",
       "      <td>NaN</td>\n",
       "      <td>NaN</td>\n",
       "      <td>NaN</td>\n",
       "      <td>10.786150</td>\n",
       "      <td>9.548117e-02</td>\n",
       "    </tr>\n",
       "    <tr>\n",
       "      <th>41</th>\n",
       "      <td>4.1</td>\n",
       "      <td>-2.895633</td>\n",
       "      <td>3.625595e+00</td>\n",
       "      <td>-2.173672</td>\n",
       "      <td>2.368570e+00</td>\n",
       "      <td>3.214806</td>\n",
       "      <td>7.355505e-01</td>\n",
       "      <td>1.283778e-02</td>\n",
       "      <td>0.0</td>\n",
       "      <td>0.0</td>\n",
       "      <td>184.500032</td>\n",
       "      <td>-1.693184e+02</td>\n",
       "      <td>2.504176e+02</td>\n",
       "      <td>-14.490000</td>\n",
       "      <td>1.798698e+01</td>\n",
       "      <td>-14.443455</td>\n",
       "      <td>1.802415e+01</td>\n",
       "      <td>-14.511178</td>\n",
       "      <td>2.508815e+01</td>\n",
       "      <td>28.982574</td>\n",
       "      <td>-3.489584e-02</td>\n",
       "      <td>-1.999385e+00</td>\n",
       "      <td>1.325431e+02</td>\n",
       "      <td>2.313313e+00</td>\n",
       "      <td>-582.431725</td>\n",
       "      <td>7.979079e+02</td>\n",
       "      <td>-313.767600</td>\n",
       "      <td>4.250794e+02</td>\n",
       "      <td>-132.713490</td>\n",
       "      <td>1.768063e+02</td>\n",
       "      <td>-321.087186</td>\n",
       "      <td>4.328189e+02</td>\n",
       "      <td>-2.229238e+00</td>\n",
       "      <td>-2.243451e+00</td>\n",
       "      <td>-2.264052e+00</td>\n",
       "      <td>-2.249709e+00</td>\n",
       "      <td>0.0</td>\n",
       "      <td>0.0</td>\n",
       "      <td>0.0</td>\n",
       "      <td>0.0</td>\n",
       "      <td>1294.292721</td>\n",
       "      <td>697.261333</td>\n",
       "      <td>294.918866</td>\n",
       "      <td>713.527080</td>\n",
       "      <td>1.267896e-03</td>\n",
       "      <td>7.264506e-02</td>\n",
       "      <td>NaN</td>\n",
       "      <td>NaN</td>\n",
       "      <td>NaN</td>\n",
       "      <td>10.641291</td>\n",
       "      <td>2.843110e-01</td>\n",
       "    </tr>\n",
       "    <tr>\n",
       "      <th>42</th>\n",
       "      <td>4.2</td>\n",
       "      <td>-4.339978</td>\n",
       "      <td>5.512164e+00</td>\n",
       "      <td>-3.626191</td>\n",
       "      <td>4.604663e+00</td>\n",
       "      <td>5.861073</td>\n",
       "      <td>6.812330e-01</td>\n",
       "      <td>1.188976e-02</td>\n",
       "      <td>0.0</td>\n",
       "      <td>0.0</td>\n",
       "      <td>387.279707</td>\n",
       "      <td>-3.049844e+02</td>\n",
       "      <td>4.929514e+02</td>\n",
       "      <td>-14.490000</td>\n",
       "      <td>1.967004e+01</td>\n",
       "      <td>-14.424462</td>\n",
       "      <td>1.972164e+01</td>\n",
       "      <td>-14.488547</td>\n",
       "      <td>1.798792e+01</td>\n",
       "      <td>23.097260</td>\n",
       "      <td>1.593548e-02</td>\n",
       "      <td>9.130358e-01</td>\n",
       "      <td>1.282206e+02</td>\n",
       "      <td>2.237871e+00</td>\n",
       "      <td>-595.001341</td>\n",
       "      <td>8.157240e+02</td>\n",
       "      <td>-301.197984</td>\n",
       "      <td>4.101201e+02</td>\n",
       "      <td>-123.900310</td>\n",
       "      <td>1.670388e+02</td>\n",
       "      <td>-329.900365</td>\n",
       "      <td>4.479084e+02</td>\n",
       "      <td>-2.228292e+00</td>\n",
       "      <td>-2.237059e+00</td>\n",
       "      <td>-2.249532e+00</td>\n",
       "      <td>-2.240714e+00</td>\n",
       "      <td>0.0</td>\n",
       "      <td>0.0</td>\n",
       "      <td>0.0</td>\n",
       "      <td>0.0</td>\n",
       "      <td>1322.225201</td>\n",
       "      <td>669.328853</td>\n",
       "      <td>275.334023</td>\n",
       "      <td>733.111923</td>\n",
       "      <td>2.504272e-03</td>\n",
       "      <td>1.434842e-01</td>\n",
       "      <td>NaN</td>\n",
       "      <td>NaN</td>\n",
       "      <td>NaN</td>\n",
       "      <td>10.351297</td>\n",
       "      <td>6.329727e-01</td>\n",
       "    </tr>\n",
       "    <tr>\n",
       "      <th>43</th>\n",
       "      <td>4.3</td>\n",
       "      <td>-5.782424</td>\n",
       "      <td>7.488717e+00</td>\n",
       "      <td>-5.078811</td>\n",
       "      <td>6.489232e+00</td>\n",
       "      <td>8.240416</td>\n",
       "      <td>7.379812e-01</td>\n",
       "      <td>1.288020e-02</td>\n",
       "      <td>0.0</td>\n",
       "      <td>0.0</td>\n",
       "      <td>503.814464</td>\n",
       "      <td>-3.943115e+02</td>\n",
       "      <td>6.397738e+02</td>\n",
       "      <td>-14.490000</td>\n",
       "      <td>1.975783e+01</td>\n",
       "      <td>-14.393544</td>\n",
       "      <td>1.983231e+01</td>\n",
       "      <td>-14.498174</td>\n",
       "      <td>1.966752e+01</td>\n",
       "      <td>24.433753</td>\n",
       "      <td>3.873351e-03</td>\n",
       "      <td>2.219267e-01</td>\n",
       "      <td>1.280486e+02</td>\n",
       "      <td>2.234869e+00</td>\n",
       "      <td>-595.656952</td>\n",
       "      <td>8.213690e+02</td>\n",
       "      <td>-300.542372</td>\n",
       "      <td>4.121810e+02</td>\n",
       "      <td>-123.440629</td>\n",
       "      <td>1.679936e+02</td>\n",
       "      <td>-330.360047</td>\n",
       "      <td>4.521089e+02</td>\n",
       "      <td>-2.220728e+00</td>\n",
       "      <td>-2.227824e+00</td>\n",
       "      <td>-2.237715e+00</td>\n",
       "      <td>-2.230582e+00</td>\n",
       "      <td>0.0</td>\n",
       "      <td>0.0</td>\n",
       "      <td>0.0</td>\n",
       "      <td>0.0</td>\n",
       "      <td>1323.682116</td>\n",
       "      <td>667.871938</td>\n",
       "      <td>274.312508</td>\n",
       "      <td>734.133438</td>\n",
       "      <td>3.742770e-03</td>\n",
       "      <td>2.144449e-01</td>\n",
       "      <td>NaN</td>\n",
       "      <td>NaN</td>\n",
       "      <td>NaN</td>\n",
       "      <td>9.916047</td>\n",
       "      <td>1.187667e+00</td>\n",
       "    </tr>\n",
       "    <tr>\n",
       "      <th>44</th>\n",
       "      <td>4.4</td>\n",
       "      <td>-7.221779</td>\n",
       "      <td>9.478850e+00</td>\n",
       "      <td>-6.533233</td>\n",
       "      <td>8.463730e+00</td>\n",
       "      <td>10.691953</td>\n",
       "      <td>7.589877e-01</td>\n",
       "      <td>1.324683e-02</td>\n",
       "      <td>0.0</td>\n",
       "      <td>0.0</td>\n",
       "      <td>638.924778</td>\n",
       "      <td>-4.931921e+02</td>\n",
       "      <td>8.071328e+02</td>\n",
       "      <td>-14.490000</td>\n",
       "      <td>1.989587e+01</td>\n",
       "      <td>-14.364435</td>\n",
       "      <td>1.999154e+01</td>\n",
       "      <td>-14.493496</td>\n",
       "      <td>1.975938e+01</td>\n",
       "      <td>24.504988</td>\n",
       "      <td>3.459300e-03</td>\n",
       "      <td>1.982033e-01</td>\n",
       "      <td>1.276649e+02</td>\n",
       "      <td>2.228173e+00</td>\n",
       "      <td>-596.687902</td>\n",
       "      <td>8.259450e+02</td>\n",
       "      <td>-299.511422</td>\n",
       "      <td>4.127650e+02</td>\n",
       "      <td>-122.717779</td>\n",
       "      <td>1.680848e+02</td>\n",
       "      <td>-331.082897</td>\n",
       "      <td>4.555256e+02</td>\n",
       "      <td>-2.215667e+00</td>\n",
       "      <td>-2.221492e+00</td>\n",
       "      <td>-2.229496e+00</td>\n",
       "      <td>-2.223645e+00</td>\n",
       "      <td>0.0</td>\n",
       "      <td>0.0</td>\n",
       "      <td>0.0</td>\n",
       "      <td>0.0</td>\n",
       "      <td>1325.973115</td>\n",
       "      <td>665.580939</td>\n",
       "      <td>272.706175</td>\n",
       "      <td>735.739770</td>\n",
       "      <td>5.049122e-03</td>\n",
       "      <td>2.892934e-01</td>\n",
       "      <td>NaN</td>\n",
       "      <td>NaN</td>\n",
       "      <td>NaN</td>\n",
       "      <td>9.335445</td>\n",
       "      <td>1.935315e+00</td>\n",
       "    </tr>\n",
       "    <tr>\n",
       "      <th>45</th>\n",
       "      <td>4.5</td>\n",
       "      <td>-8.658222</td>\n",
       "      <td>1.148266e+01</td>\n",
       "      <td>-7.988779</td>\n",
       "      <td>1.044650e+01</td>\n",
       "      <td>13.151040</td>\n",
       "      <td>7.765335e-01</td>\n",
       "      <td>1.355307e-02</td>\n",
       "      <td>0.0</td>\n",
       "      <td>0.0</td>\n",
       "      <td>770.784578</td>\n",
       "      <td>-5.894444e+02</td>\n",
       "      <td>9.703368e+02</td>\n",
       "      <td>-14.490000</td>\n",
       "      <td>1.998891e+01</td>\n",
       "      <td>-14.334375</td>\n",
       "      <td>2.010625e+01</td>\n",
       "      <td>-14.491869</td>\n",
       "      <td>1.989935e+01</td>\n",
       "      <td>24.617037</td>\n",
       "      <td>2.665371e-03</td>\n",
       "      <td>1.527145e-01</td>\n",
       "      <td>1.274063e+02</td>\n",
       "      <td>2.223660e+00</td>\n",
       "      <td>-597.382713</td>\n",
       "      <td>8.294129e+02</td>\n",
       "      <td>-298.816611</td>\n",
       "      <td>4.133410e+02</td>\n",
       "      <td>-122.230613</td>\n",
       "      <td>1.682143e+02</td>\n",
       "      <td>-331.570063</td>\n",
       "      <td>4.580383e+02</td>\n",
       "      <td>-2.211627e+00</td>\n",
       "      <td>-2.216585e+00</td>\n",
       "      <td>-2.223323e+00</td>\n",
       "      <td>-2.218346e+00</td>\n",
       "      <td>0.0</td>\n",
       "      <td>0.0</td>\n",
       "      <td>0.0</td>\n",
       "      <td>0.0</td>\n",
       "      <td>1327.517140</td>\n",
       "      <td>664.036914</td>\n",
       "      <td>271.623583</td>\n",
       "      <td>736.822363</td>\n",
       "      <td>6.389117e-03</td>\n",
       "      <td>3.660694e-01</td>\n",
       "      <td>NaN</td>\n",
       "      <td>NaN</td>\n",
       "      <td>NaN</td>\n",
       "      <td>8.609344</td>\n",
       "      <td>2.880827e+00</td>\n",
       "    </tr>\n",
       "    <tr>\n",
       "      <th>46</th>\n",
       "      <td>4.6</td>\n",
       "      <td>-10.091660</td>\n",
       "      <td>1.349687e+01</td>\n",
       "      <td>-9.445631</td>\n",
       "      <td>1.243885e+01</td>\n",
       "      <td>15.618734</td>\n",
       "      <td>7.904464e-01</td>\n",
       "      <td>1.379589e-02</td>\n",
       "      <td>0.0</td>\n",
       "      <td>0.0</td>\n",
       "      <td>901.634118</td>\n",
       "      <td>-6.846698e+02</td>\n",
       "      <td>1.132129e+03</td>\n",
       "      <td>-14.490000</td>\n",
       "      <td>2.006067e+01</td>\n",
       "      <td>-14.303799</td>\n",
       "      <td>2.019989e+01</td>\n",
       "      <td>-14.489897</td>\n",
       "      <td>1.999446e+01</td>\n",
       "      <td>24.692825</td>\n",
       "      <td>2.191118e-03</td>\n",
       "      <td>1.255418e-01</td>\n",
       "      <td>1.272118e+02</td>\n",
       "      <td>2.220264e+00</td>\n",
       "      <td>-597.918673</td>\n",
       "      <td>8.322259e+02</td>\n",
       "      <td>-298.280651</td>\n",
       "      <td>4.138358e+02</td>\n",
       "      <td>-121.854825</td>\n",
       "      <td>1.683237e+02</td>\n",
       "      <td>-331.945851</td>\n",
       "      <td>4.600319e+02</td>\n",
       "      <td>-2.208278e+00</td>\n",
       "      <td>-2.212599e+00</td>\n",
       "      <td>-2.218418e+00</td>\n",
       "      <td>-2.214082e+00</td>\n",
       "      <td>0.0</td>\n",
       "      <td>0.0</td>\n",
       "      <td>0.0</td>\n",
       "      <td>0.0</td>\n",
       "      <td>1328.708162</td>\n",
       "      <td>662.845892</td>\n",
       "      <td>270.788499</td>\n",
       "      <td>737.657447</td>\n",
       "      <td>7.756565e-03</td>\n",
       "      <td>4.444184e-01</td>\n",
       "      <td>NaN</td>\n",
       "      <td>NaN</td>\n",
       "      <td>NaN</td>\n",
       "      <td>7.737624</td>\n",
       "      <td>4.025094e+00</td>\n",
       "    </tr>\n",
       "    <tr>\n",
       "      <th>47</th>\n",
       "      <td>4.7</td>\n",
       "      <td>-11.522040</td>\n",
       "      <td>1.551976e+01</td>\n",
       "      <td>-10.903796</td>\n",
       "      <td>1.443784e+01</td>\n",
       "      <td>18.092649</td>\n",
       "      <td>8.020512e-01</td>\n",
       "      <td>1.399843e-02</td>\n",
       "      <td>0.0</td>\n",
       "      <td>0.0</td>\n",
       "      <td>1031.389555</td>\n",
       "      <td>-7.789297e+02</td>\n",
       "      <td>1.292477e+03</td>\n",
       "      <td>-14.490000</td>\n",
       "      <td>2.011875e+01</td>\n",
       "      <td>-14.272748</td>\n",
       "      <td>2.028004e+01</td>\n",
       "      <td>-14.487952</td>\n",
       "      <td>2.006822e+01</td>\n",
       "      <td>24.751451</td>\n",
       "      <td>1.859728e-03</td>\n",
       "      <td>1.065545e-01</td>\n",
       "      <td>1.270610e+02</td>\n",
       "      <td>2.217632e+00</td>\n",
       "      <td>-598.352401</td>\n",
       "      <td>8.345994e+02</td>\n",
       "      <td>-297.846923</td>\n",
       "      <td>4.142703e+02</td>\n",
       "      <td>-121.550716</td>\n",
       "      <td>1.684178e+02</td>\n",
       "      <td>-332.249960</td>\n",
       "      <td>4.616820e+02</td>\n",
       "      <td>-2.205403e+00</td>\n",
       "      <td>-2.209236e+00</td>\n",
       "      <td>-2.214359e+00</td>\n",
       "      <td>-2.210514e+00</td>\n",
       "      <td>0.0</td>\n",
       "      <td>0.0</td>\n",
       "      <td>0.0</td>\n",
       "      <td>0.0</td>\n",
       "      <td>1329.672003</td>\n",
       "      <td>661.882051</td>\n",
       "      <td>270.112703</td>\n",
       "      <td>738.333243</td>\n",
       "      <td>9.146281e-03</td>\n",
       "      <td>5.240433e-01</td>\n",
       "      <td>NaN</td>\n",
       "      <td>NaN</td>\n",
       "      <td>NaN</td>\n",
       "      <td>6.720153</td>\n",
       "      <td>5.368928e+00</td>\n",
       "    </tr>\n",
       "    <tr>\n",
       "      <th>48</th>\n",
       "      <td>4.8</td>\n",
       "      <td>-12.949314</td>\n",
       "      <td>1.755021e+01</td>\n",
       "      <td>-12.363296</td>\n",
       "      <td>1.644193e+01</td>\n",
       "      <td>20.571535</td>\n",
       "      <td>8.120110e-01</td>\n",
       "      <td>1.417226e-02</td>\n",
       "      <td>0.0</td>\n",
       "      <td>0.0</td>\n",
       "      <td>1160.148151</td>\n",
       "      <td>-8.723585e+02</td>\n",
       "      <td>1.451535e+03</td>\n",
       "      <td>-14.490000</td>\n",
       "      <td>2.016761e+01</td>\n",
       "      <td>-14.241274</td>\n",
       "      <td>2.035113e+01</td>\n",
       "      <td>-14.486001</td>\n",
       "      <td>2.012826e+01</td>\n",
       "      <td>24.799016</td>\n",
       "      <td>1.616895e-03</td>\n",
       "      <td>9.264123e-02</td>\n",
       "      <td>1.269409e+02</td>\n",
       "      <td>2.215536e+00</td>\n",
       "      <td>-598.717308</td>\n",
       "      <td>8.366638e+02</td>\n",
       "      <td>-297.482017</td>\n",
       "      <td>4.146577e+02</td>\n",
       "      <td>-121.294862</td>\n",
       "      <td>1.684992e+02</td>\n",
       "      <td>-332.505813</td>\n",
       "      <td>4.630935e+02</td>\n",
       "      <td>-2.202869e+00</td>\n",
       "      <td>-2.206315e+00</td>\n",
       "      <td>-2.210893e+00</td>\n",
       "      <td>-2.207436e+00</td>\n",
       "      <td>0.0</td>\n",
       "      <td>0.0</td>\n",
       "      <td>0.0</td>\n",
       "      <td>0.0</td>\n",
       "      <td>1330.482906</td>\n",
       "      <td>661.071148</td>\n",
       "      <td>269.544138</td>\n",
       "      <td>738.901808</td>\n",
       "      <td>1.055482e-02</td>\n",
       "      <td>6.047464e-01</td>\n",
       "      <td>NaN</td>\n",
       "      <td>NaN</td>\n",
       "      <td>NaN</td>\n",
       "      <td>5.556798</td>\n",
       "      <td>6.912916e+00</td>\n",
       "    </tr>\n",
       "    <tr>\n",
       "      <th>49</th>\n",
       "      <td>4.9</td>\n",
       "      <td>-14.373442</td>\n",
       "      <td>1.958744e+01</td>\n",
       "      <td>-13.824149</td>\n",
       "      <td>1.845009e+01</td>\n",
       "      <td>23.054561</td>\n",
       "      <td>8.207441e-01</td>\n",
       "      <td>1.432469e-02</td>\n",
       "      <td>0.0</td>\n",
       "      <td>0.0</td>\n",
       "      <td>1287.992184</td>\n",
       "      <td>-9.650576e+02</td>\n",
       "      <td>1.609428e+03</td>\n",
       "      <td>-14.490000</td>\n",
       "      <td>2.020995e+01</td>\n",
       "      <td>-14.209416</td>\n",
       "      <td>2.041584e+01</td>\n",
       "      <td>-14.484046</td>\n",
       "      <td>2.017907e+01</td>\n",
       "      <td>24.839128</td>\n",
       "      <td>1.431563e-03</td>\n",
       "      <td>8.202249e-02</td>\n",
       "      <td>1.268432e+02</td>\n",
       "      <td>2.213832e+00</td>\n",
       "      <td>-599.033517</td>\n",
       "      <td>8.385018e+02</td>\n",
       "      <td>-297.165808</td>\n",
       "      <td>4.150081e+02</td>\n",
       "      <td>-121.073152</td>\n",
       "      <td>1.685704e+02</td>\n",
       "      <td>-332.727523</td>\n",
       "      <td>4.643321e+02</td>\n",
       "      <td>-2.200587e+00</td>\n",
       "      <td>-2.203721e+00</td>\n",
       "      <td>-2.207860e+00</td>\n",
       "      <td>-2.204717e+00</td>\n",
       "      <td>0.0</td>\n",
       "      <td>0.0</td>\n",
       "      <td>0.0</td>\n",
       "      <td>0.0</td>\n",
       "      <td>1331.185593</td>\n",
       "      <td>660.368461</td>\n",
       "      <td>269.051450</td>\n",
       "      <td>739.394496</td>\n",
       "      <td>1.197966e-02</td>\n",
       "      <td>6.863842e-01</td>\n",
       "      <td>NaN</td>\n",
       "      <td>NaN</td>\n",
       "      <td>NaN</td>\n",
       "      <td>4.247426</td>\n",
       "      <td>8.657517e+00</td>\n",
       "    </tr>\n",
       "    <tr>\n",
       "      <th>50</th>\n",
       "      <td>5.0</td>\n",
       "      <td>-15.794383</td>\n",
       "      <td>2.163090e+01</td>\n",
       "      <td>-15.286371</td>\n",
       "      <td>2.046160e+01</td>\n",
       "      <td>25.541148</td>\n",
       "      <td>8.285283e-01</td>\n",
       "      <td>1.446055e-02</td>\n",
       "      <td>0.0</td>\n",
       "      <td>0.0</td>\n",
       "      <td>1414.994992</td>\n",
       "      <td>-1.057109e+03</td>\n",
       "      <td>1.766264e+03</td>\n",
       "      <td>-14.490000</td>\n",
       "      <td>2.024749e+01</td>\n",
       "      <td>-14.177205</td>\n",
       "      <td>2.047589e+01</td>\n",
       "      <td>-14.482087</td>\n",
       "      <td>2.022333e+01</td>\n",
       "      <td>24.873964</td>\n",
       "      <td>1.285614e-03</td>\n",
       "      <td>7.366024e-02</td>\n",
       "      <td>1.267625e+02</td>\n",
       "      <td>2.212423e+00</td>\n",
       "      <td>-599.313929</td>\n",
       "      <td>8.401687e+02</td>\n",
       "      <td>-296.885395</td>\n",
       "      <td>4.153290e+02</td>\n",
       "      <td>-120.876541</td>\n",
       "      <td>1.686333e+02</td>\n",
       "      <td>-332.924134</td>\n",
       "      <td>4.654412e+02</td>\n",
       "      <td>-2.198500e+00</td>\n",
       "      <td>-2.201375e+00</td>\n",
       "      <td>-2.205152e+00</td>\n",
       "      <td>-2.202270e+00</td>\n",
       "      <td>0.0</td>\n",
       "      <td>0.0</td>\n",
       "      <td>0.0</td>\n",
       "      <td>0.0</td>\n",
       "      <td>1331.808732</td>\n",
       "      <td>659.745322</td>\n",
       "      <td>268.614536</td>\n",
       "      <td>739.831410</td>\n",
       "      <td>1.341893e-02</td>\n",
       "      <td>7.688478e-01</td>\n",
       "      <td>NaN</td>\n",
       "      <td>NaN</td>\n",
       "      <td>NaN</td>\n",
       "      <td>2.791900</td>\n",
       "      <td>1.060310e+01</td>\n",
       "    </tr>\n",
       "  </tbody>\n",
       "</table>\n",
       "</div>"
      ],
      "text/plain": [
       "      t         vx            vy         Vx            Vy         Vr  \\\n",
       "0   0.0   7.333350  0.000000e+00   7.333350  0.000000e+00   7.333350   \n",
       "1   0.1   7.333350  0.000000e+00   7.333350  0.000000e+00   7.333350   \n",
       "2   0.2   7.304370  0.000000e+00   7.304370  0.000000e+00   7.304370   \n",
       "3   0.3   7.217430  0.000000e+00   7.246410  0.000000e+00   7.246410   \n",
       "4   0.4   7.072530  0.000000e+00   7.130490  0.000000e+00   7.130490   \n",
       "5   0.5   6.869670  0.000000e+00   6.956610  0.000000e+00   6.956610   \n",
       "6   0.6   6.608850  0.000000e+00   6.724770  0.000000e+00   6.724770   \n",
       "7   0.7   6.290070  0.000000e+00   6.434970  0.000000e+00   6.434970   \n",
       "8   0.8   5.913330  0.000000e+00   6.087210  0.000000e+00   6.087210   \n",
       "9   0.9   5.478630  0.000000e+00   5.681490  0.000000e+00   5.681490   \n",
       "10  1.0   4.985970  0.000000e+00   5.217810  0.000000e+00   5.217810   \n",
       "11  1.1   4.435350  0.000000e+00   4.696170  0.000000e+00   4.696170   \n",
       "12  1.2   3.826770  0.000000e+00   4.116570  0.000000e+00   4.116570   \n",
       "13  1.3   3.160230  0.000000e+00   3.479010  0.000000e+00   3.479010   \n",
       "14  1.4   2.435730  0.000000e+00   2.783490  0.000000e+00   2.783490   \n",
       "15  1.5   1.653270  0.000000e+00   2.030010  0.000000e+00   2.030010   \n",
       "16  1.6   0.812850  0.000000e+00   1.218570  0.000000e+00   1.218570   \n",
       "17  1.7  -0.085530  0.000000e+00   0.349170  0.000000e+00   0.349170   \n",
       "18  1.8  -1.041870  1.668797e-16  -0.578190  1.668592e-16   0.578190   \n",
       "19  1.9  -0.085530  5.112978e-16   0.407130  3.445331e-16   0.407130   \n",
       "20  2.0   2.812470  9.231523e-15   1.363470  9.046935e-15   1.363470   \n",
       "21  2.1   3.681870  2.225142e-14   2.232870  1.368009e-14   2.232870   \n",
       "22  2.2   2.493690  3.468171e-14   3.073290  3.010402e-14   3.073290   \n",
       "23  2.3   1.247550  6.058103e-14   1.856130  5.264126e-14   1.856130   \n",
       "24  2.4  -0.056550  1.406770e-13   0.581010  1.228382e-13   0.581010   \n",
       "25  2.5   0.725910  3.800875e-12   1.392450  3.740134e-12   1.392450   \n",
       "26  2.6   1.450410  1.390805e-11   0.001410  1.031294e-11   0.001410   \n",
       "27  2.7   0.001410  3.241624e-11   0.725910  2.590581e-11   0.725910   \n",
       "28  2.8  -1.447590  2.879262e-08  -0.723090  2.877512e-08   0.723090   \n",
       "29  2.9  -0.723090  8.652119e-08   0.001410  5.782503e-08   0.001410   \n",
       "30  3.0   2.174910  2.857815e-07   0.725910  2.569369e-07   0.725910   \n",
       "31  3.1   2.899410  6.207751e-07   1.450410  4.509337e-07   1.450410   \n",
       "32  3.2   1.450410  1.053799e-06   2.174910  8.885045e-07   2.174910   \n",
       "33  3.3   0.001410  2.228023e-06   0.725910  1.961477e-06   0.725910   \n",
       "34  3.4  -1.447590  1.982610e-03  -0.723090  1.981295e-03   0.723093   \n",
       "35  3.5  -0.723091  5.958516e-03   0.001409  3.982701e-03   0.004224   \n",
       "36  3.6   2.174860  1.967455e-02   0.725861  1.768808e-02   0.726076   \n",
       "37  3.7   2.899312  4.272976e-02   1.450360  3.104163e-02   1.450692   \n",
       "38  3.8   1.450311  7.253374e-02   2.174813  6.115992e-02   2.175673   \n",
       "39  3.9   0.001307  1.532883e-01   0.725818  1.349410e-01   0.738255   \n",
       "40  4.0  -1.447697  1.470396e+00  -0.723513  1.408027e+00   1.583039   \n",
       "41  4.1  -2.895633  3.625595e+00  -2.173672  2.368570e+00   3.214806   \n",
       "42  4.2  -4.339978  5.512164e+00  -3.626191  4.604663e+00   5.861073   \n",
       "43  4.3  -5.782424  7.488717e+00  -5.078811  6.489232e+00   8.240416   \n",
       "44  4.4  -7.221779  9.478850e+00  -6.533233  8.463730e+00  10.691953   \n",
       "45  4.5  -8.658222  1.148266e+01  -7.988779  1.044650e+01  13.151040   \n",
       "46  4.6 -10.091660  1.349687e+01  -9.445631  1.243885e+01  15.618734   \n",
       "47  4.7 -11.522040  1.551976e+01 -10.903796  1.443784e+01  18.092649   \n",
       "48  4.8 -12.949314  1.755021e+01 -12.363296  1.644193e+01  20.571535   \n",
       "49  4.9 -14.373442  1.958744e+01 -13.824149  1.845009e+01  23.054561   \n",
       "50  5.0 -15.794383  2.163090e+01 -15.286371  2.046160e+01  25.541148   \n",
       "\n",
       "          oz_deg        oz_rad  delta_deg  delta_rad      turn_rX  \\\n",
       "0   0.000000e+00  0.000000e+00        0.0        0.0     0.000000   \n",
       "1   0.000000e+00  0.000000e+00        0.0        0.0     0.000000   \n",
       "2   0.000000e+00  0.000000e+00        0.0        0.0     0.000000   \n",
       "3   0.000000e+00  0.000000e+00        0.0        0.0     0.000000   \n",
       "4   0.000000e+00  0.000000e+00        0.0        0.0     0.000000   \n",
       "5   0.000000e+00  0.000000e+00        0.0        0.0     0.000000   \n",
       "6   0.000000e+00  0.000000e+00        0.0        0.0     0.000000   \n",
       "7   0.000000e+00  0.000000e+00        0.0        0.0     0.000000   \n",
       "8   0.000000e+00  0.000000e+00        0.0        0.0     0.000000   \n",
       "9   0.000000e+00  0.000000e+00        0.0        0.0     0.000000   \n",
       "10  0.000000e+00  0.000000e+00        0.0        0.0     0.000000   \n",
       "11  0.000000e+00  0.000000e+00        0.0        0.0     0.000000   \n",
       "12  0.000000e+00  0.000000e+00        0.0        0.0     0.000000   \n",
       "13  0.000000e+00  0.000000e+00        0.0        0.0     0.000000   \n",
       "14  0.000000e+00  0.000000e+00        0.0        0.0     0.000000   \n",
       "15  0.000000e+00  0.000000e+00        0.0        0.0     0.000000   \n",
       "16  0.000000e+00  0.000000e+00        0.0        0.0     0.000000   \n",
       "17  0.000000e+00  0.000000e+00        0.0        0.0     0.000000   \n",
       "18  4.784264e-17  8.350117e-19        0.0        0.0   199.828547   \n",
       "19  9.568529e-17  1.670023e-18        0.0        0.0   206.304374   \n",
       "20 -5.980331e-15 -1.043765e-16        0.0        0.0   -86.676009   \n",
       "21 -1.820413e-14 -3.177219e-16        0.0        0.0   -43.056792   \n",
       "22 -2.487817e-14 -4.342061e-16        0.0        0.0   -69.331184   \n",
       "23 -2.538052e-14 -4.429737e-16        0.0        0.0  -118.836092   \n",
       "24 -1.751041e-14 -3.056143e-16        0.0        0.0  -401.938696   \n",
       "25  1.105404e-12  1.929294e-14        0.0        0.0   193.860186   \n",
       "26 -3.193233e-12 -5.573244e-14        0.0        0.0  -185.043729   \n",
       "27 -7.264929e-12 -1.267969e-13        0.0        0.0  -204.309453   \n",
       "28  8.750095e-09  1.527180e-10        0.0        0.0   188.420027   \n",
       "29  4.988819e-08  8.707132e-10        0.0        0.0    66.411107   \n",
       "30  6.143338e-09  1.072215e-10        0.0        0.0  2396.319282   \n",
       "31 -2.455093e-07 -4.284946e-09        0.0        0.0  -105.236736   \n",
       "32 -4.077090e-07 -7.115864e-09        0.0        0.0  -124.862495   \n",
       "33 -2.443460e-07 -4.264643e-09        0.0        0.0  -459.939289   \n",
       "34  6.515288e-04  1.137132e-05        0.0        0.0   174.236112   \n",
       "35  3.543644e-03  6.184825e-05        0.0        0.0    64.394717   \n",
       "36  5.976660e-04  1.043124e-05        0.0        0.0  1695.683000   \n",
       "37 -1.664525e-02 -2.905144e-04        0.0        0.0  -106.850570   \n",
       "38 -2.775982e-02 -4.845002e-04        0.0        0.0  -126.233015   \n",
       "39 -1.644017e-02 -2.869352e-04        0.0        0.0  -470.284070   \n",
       "40  4.147286e-01  7.238380e-03        0.0        0.0   194.522363   \n",
       "41  7.355505e-01  1.283778e-02        0.0        0.0   184.500032   \n",
       "42  6.812330e-01  1.188976e-02        0.0        0.0   387.279707   \n",
       "43  7.379812e-01  1.288020e-02        0.0        0.0   503.814464   \n",
       "44  7.589877e-01  1.324683e-02        0.0        0.0   638.924778   \n",
       "45  7.765335e-01  1.355307e-02        0.0        0.0   770.784578   \n",
       "46  7.904464e-01  1.379589e-02        0.0        0.0   901.634118   \n",
       "47  8.020512e-01  1.399843e-02        0.0        0.0  1031.389555   \n",
       "48  8.120110e-01  1.417226e-02        0.0        0.0  1160.148151   \n",
       "49  8.207441e-01  1.432469e-02        0.0        0.0  1287.992184   \n",
       "50  8.285283e-01  1.446055e-02        0.0        0.0  1414.994992   \n",
       "\n",
       "         turn_rY       turn_rR         au            av         ax  \\\n",
       "0   0.000000e+00  0.000000e+00   0.000000  0.000000e+00   0.000000   \n",
       "1   0.000000e+00  0.000000e+00   0.000000  0.000000e+00   0.000000   \n",
       "2   0.000000e+00  0.000000e+00  -0.579600  0.000000e+00  -0.579600   \n",
       "3   0.000000e+00  0.000000e+00  -1.159200  0.000000e+00  -1.159200   \n",
       "4   0.000000e+00  0.000000e+00  -1.738800  0.000000e+00  -1.738800   \n",
       "5   0.000000e+00  0.000000e+00  -2.318400  0.000000e+00  -2.318400   \n",
       "6   0.000000e+00  0.000000e+00  -2.898000  0.000000e+00  -2.898000   \n",
       "7   0.000000e+00  0.000000e+00  -3.477600  0.000000e+00  -3.477600   \n",
       "8   0.000000e+00  0.000000e+00  -4.057200  0.000000e+00  -4.057200   \n",
       "9   0.000000e+00  0.000000e+00  -4.636800  0.000000e+00  -4.636800   \n",
       "10  0.000000e+00  0.000000e+00  -5.216400  0.000000e+00  -5.216400   \n",
       "11  0.000000e+00  0.000000e+00  -5.796000  0.000000e+00  -5.796000   \n",
       "12  0.000000e+00  0.000000e+00  -6.375600  0.000000e+00  -6.375600   \n",
       "13  0.000000e+00  0.000000e+00  -6.955200  0.000000e+00  -6.955200   \n",
       "14  0.000000e+00  0.000000e+00  -7.534800  0.000000e+00  -7.534800   \n",
       "15  0.000000e+00  0.000000e+00  -8.114400  0.000000e+00  -8.114400   \n",
       "16  0.000000e+00  0.000000e+00  -8.694000  0.000000e+00  -8.694000   \n",
       "17  0.000000e+00  0.000000e+00  -9.273600  0.000000e+00  -9.273600   \n",
       "18 -6.924334e+17  6.924334e+17  -9.853200  3.337595e-15  -9.853200   \n",
       "19  2.437870e+17  2.437870e+17  28.980000  3.549026e-15  28.980000   \n",
       "20 -1.306300e+16  1.306300e+16  28.980000  1.708552e-13  28.980000   \n",
       "21 -7.027749e+15  7.027749e+15 -11.592000  8.895562e-14 -11.592000   \n",
       "22 -7.077953e+15  7.077953e+15 -12.171600  1.573106e-13 -12.171600   \n",
       "23 -4.190159e+15  4.190159e+15 -12.751200  3.585102e-13 -12.751200   \n",
       "24 -1.901122e+15  1.901122e+15 -13.330800  1.242304e-12 -13.330800   \n",
       "25  7.217405e+13  7.217405e+13  28.980000  7.196169e-11  28.980000   \n",
       "26 -2.529945e+10  2.529945e+10 -14.490000  1.302098e-10 -14.490000   \n",
       "27 -5.724981e+12  5.724981e+12 -14.490000  2.397923e-10 -14.490000   \n",
       "28 -4.734806e+09  4.734806e+09 -14.490000  5.749643e-07 -14.490000   \n",
       "29  1.619362e+06  1.619362e+06  28.980000  5.791650e-07  28.980000   \n",
       "30  6.770192e+09  6.770192e+09  28.980000  3.404783e-06  28.980000   \n",
       "31 -3.384897e+08  3.384897e+08 -14.490000  3.295554e-06 -14.490000   \n",
       "32 -3.056424e+08  3.056424e+08 -14.490000  5.340074e-06 -14.490000   \n",
       "33 -1.702159e+08  1.702159e+08 -14.490000  1.812377e-05 -14.490000   \n",
       "34 -6.358890e+04  6.358914e+04 -14.490000  3.958952e-02 -14.490000   \n",
       "35  2.277536e+01  6.830371e+01  28.979973  3.989568e-02  28.979973   \n",
       "36  6.958530e+04  6.960596e+04  28.979049  2.343355e-01  28.979049   \n",
       "37 -4.992384e+03  4.993528e+03 -14.490000  2.268141e-01 -14.490012   \n",
       "38 -4.488776e+03  4.490551e+03 -14.490000  3.675808e-01 -14.490035   \n",
       "39 -2.529554e+03  2.572899e+03 -14.490000  1.246106e+00 -14.490044   \n",
       "40 -9.995516e+01  2.187007e+02 -14.490000  2.509605e+01 -14.479357   \n",
       "41 -1.693184e+02  2.504176e+02 -14.490000  1.798698e+01 -14.443455   \n",
       "42 -3.049844e+02  4.929514e+02 -14.490000  1.967004e+01 -14.424462   \n",
       "43 -3.943115e+02  6.397738e+02 -14.490000  1.975783e+01 -14.393544   \n",
       "44 -4.931921e+02  8.071328e+02 -14.490000  1.989587e+01 -14.364435   \n",
       "45 -5.894444e+02  9.703368e+02 -14.490000  1.998891e+01 -14.334375   \n",
       "46 -6.846698e+02  1.132129e+03 -14.490000  2.006067e+01 -14.303799   \n",
       "47 -7.789297e+02  1.292477e+03 -14.490000  2.011875e+01 -14.272748   \n",
       "48 -8.723585e+02  1.451535e+03 -14.490000  2.016761e+01 -14.241274   \n",
       "49 -9.650576e+02  1.609428e+03 -14.490000  2.020995e+01 -14.209416   \n",
       "50 -1.057109e+03  1.766264e+03 -14.490000  2.024749e+01 -14.177205   \n",
       "\n",
       "              ay         Ax            Ay         Ar        alphaz  \\\n",
       "0   0.000000e+00   0.000000  0.000000e+00   0.000000  0.000000e+00   \n",
       "1   0.000000e+00   0.000000  0.000000e+00   0.000000  0.000000e+00   \n",
       "2   0.000000e+00   0.000000  0.000000e+00   0.000000  0.000000e+00   \n",
       "3   0.000000e+00  -0.579600  0.000000e+00   0.579600  0.000000e+00   \n",
       "4   0.000000e+00  -1.159200  0.000000e+00   1.159200  0.000000e+00   \n",
       "5   0.000000e+00  -1.738800  0.000000e+00   1.738800  0.000000e+00   \n",
       "6   0.000000e+00  -2.318400  0.000000e+00   2.318400  0.000000e+00   \n",
       "7   0.000000e+00  -2.898000  0.000000e+00   2.898000  0.000000e+00   \n",
       "8   0.000000e+00  -3.477600  0.000000e+00   3.477600  0.000000e+00   \n",
       "9   0.000000e+00  -4.057200  0.000000e+00   4.057200  0.000000e+00   \n",
       "10  0.000000e+00  -4.636800  0.000000e+00   4.636800  0.000000e+00   \n",
       "11  0.000000e+00  -5.216400  0.000000e+00   5.216400  0.000000e+00   \n",
       "12  0.000000e+00  -5.796000  0.000000e+00   5.796000  0.000000e+00   \n",
       "13  0.000000e+00  -6.375600  0.000000e+00   6.375600  0.000000e+00   \n",
       "14  0.000000e+00  -6.955200  0.000000e+00   6.955200  0.000000e+00   \n",
       "15  0.000000e+00  -7.534800  0.000000e+00   7.534800  0.000000e+00   \n",
       "16  0.000000e+00  -8.114400  0.000000e+00   8.114400  0.000000e+00   \n",
       "17  0.000000e+00  -8.694000  0.000000e+00   8.694000  0.000000e+00   \n",
       "18  3.338465e-15  -9.273600 -3.871782e-19   9.273600  1.670023e-17   \n",
       "19  3.549169e-15  -9.853200  3.336819e-15   9.853200  0.000000e+00   \n",
       "20  1.711488e-13  28.980000  3.405187e-15  28.980000 -2.120930e-15   \n",
       "21  9.012543e-14  28.980000  1.703931e-13  28.980000 -2.145980e-15   \n",
       "22  1.583933e-13 -11.592000  9.086349e-14  11.592000 -1.837026e-16   \n",
       "23  3.590628e-13 -12.171600  1.597021e-13  12.171600  8.350117e-18   \n",
       "24  1.242287e-12 -12.751200  3.609112e-13  12.751200  2.738838e-15   \n",
       "25  7.194768e-11 -13.330800  1.231564e-12  13.330800  3.892323e-13   \n",
       "26  1.302906e-10  28.980000  7.191819e-11  28.980000 -1.889740e-12   \n",
       "27  2.397925e-10 -14.490000  1.304376e-10  14.490000  4.684499e-13   \n",
       "28  5.751854e-07 -14.490000  1.293872e-10  14.490000  3.056427e-09   \n",
       "29  5.797946e-07 -14.490000  5.743335e-07  14.490000  1.130348e-08   \n",
       "30  3.404550e-06  28.980000  5.829153e-07  28.980000 -2.657331e-08   \n",
       "31  3.307978e-06  28.980000  3.401617e-06  28.980000 -6.127003e-08   \n",
       "32  5.350395e-06 -14.490000  3.317705e-06  14.490000  4.651661e-09   \n",
       "33  1.812378e-05 -14.490000  5.368366e-06  14.490000  5.237276e-08   \n",
       "34  3.960598e-02 -14.490000  9.906314e-06  14.490000  2.274594e-04   \n",
       "35  3.994040e-02 -14.490000  3.954472e-02  14.490054  7.820792e-04   \n",
       "36  2.343128e-01  28.979973  4.016766e-02  28.980000 -1.810419e-03   \n",
       "37  2.276564e-01  28.979051  2.341343e-01  28.979996 -4.208494e-03   \n",
       "38  3.682835e-01 -14.490002  2.283072e-01  14.491801  3.287777e-04   \n",
       "39  1.246106e+00 -14.490004  3.694931e-01  14.494715  3.622523e-03   \n",
       "40  2.510653e+01 -14.490373  1.242279e+00  14.543526  1.468838e-01   \n",
       "41  1.802415e+01 -14.511178  2.508815e+01  28.982574 -3.489584e-02   \n",
       "42  1.972164e+01 -14.488547  1.798792e+01  23.097260  1.593548e-02   \n",
       "43  1.983231e+01 -14.498174  1.966752e+01  24.433753  3.873351e-03   \n",
       "44  1.999154e+01 -14.493496  1.975938e+01  24.504988  3.459300e-03   \n",
       "45  2.010625e+01 -14.491869  1.989935e+01  24.617037  2.665371e-03   \n",
       "46  2.019989e+01 -14.489897  1.999446e+01  24.692825  2.191118e-03   \n",
       "47  2.028004e+01 -14.487952  2.006822e+01  24.751451  1.859728e-03   \n",
       "48  2.035113e+01 -14.486001  2.012826e+01  24.799016  1.616895e-03   \n",
       "49  2.041584e+01 -14.484046  2.017907e+01  24.839128  1.431563e-03   \n",
       "50  2.047589e+01 -14.482087  2.022333e+01  24.873964  1.285614e-03   \n",
       "\n",
       "      alphaz_deg      beta_deg      beta_rad       lf_fx         lf_fy  \\\n",
       "0   0.000000e+00  0.000000e+00  0.000000e+00    0.000000 -0.000000e+00   \n",
       "1   0.000000e+00  0.000000e+00  0.000000e+00  -15.871622 -0.000000e+00   \n",
       "2   0.000000e+00  0.000000e+00  0.000000e+00  -31.907432 -0.000000e+00   \n",
       "3   0.000000e+00  0.000000e+00  0.000000e+00  -48.107432 -0.000000e+00   \n",
       "4   0.000000e+00  0.000000e+00  0.000000e+00  -64.471622 -0.000000e+00   \n",
       "5   0.000000e+00  0.000000e+00  0.000000e+00  -81.000000 -0.000000e+00   \n",
       "6   0.000000e+00  0.000000e+00  0.000000e+00  -97.692568 -0.000000e+00   \n",
       "7   0.000000e+00  0.000000e+00  0.000000e+00 -114.549324 -0.000000e+00   \n",
       "8   0.000000e+00  0.000000e+00  0.000000e+00 -131.570270 -0.000000e+00   \n",
       "9   0.000000e+00  0.000000e+00  0.000000e+00 -148.755405 -0.000000e+00   \n",
       "10  0.000000e+00  0.000000e+00  0.000000e+00 -166.104730 -0.000000e+00   \n",
       "11  0.000000e+00  0.000000e+00  0.000000e+00 -183.618243 -0.000000e+00   \n",
       "12  0.000000e+00  0.000000e+00  0.000000e+00 -201.295946 -0.000000e+00   \n",
       "13  0.000000e+00  0.000000e+00  0.000000e+00 -219.137838 -0.000000e+00   \n",
       "14  0.000000e+00  0.000000e+00  0.000000e+00 -237.143919 -0.000000e+00   \n",
       "15  0.000000e+00  0.000000e+00  0.000000e+00 -255.314189 -0.000000e+00   \n",
       "16  0.000000e+00  0.000000e+00  0.000000e+00 -273.648649 -0.000000e+00   \n",
       "17  0.000000e+00  0.000000e+00  0.000000e+00 -292.147297  9.895966e-14   \n",
       "18  9.568529e-16  1.800000e+02  3.141593e+00  863.361486  1.057313e-13   \n",
       "19  0.000000e+00  4.848646e-14  8.462484e-16  588.344595  3.468659e-12   \n",
       "20 -1.215203e-13  3.801706e-13  6.635228e-15 -235.337838  1.672276e-12   \n",
       "21 -1.229556e-13  3.510331e-13  6.126683e-15 -367.783784  4.468101e-12   \n",
       "22 -1.052538e-14  5.612335e-13  9.795373e-15 -387.103378  1.031641e-11   \n",
       "23  4.784264e-16  1.624952e-12  2.836076e-14 -406.587162  3.675087e-11   \n",
       "24  1.569239e-13  1.211358e-11  2.114218e-13  887.989865  2.185578e-09   \n",
       "25  2.230137e-11  1.538970e-10  2.686009e-12 -294.172297  2.733945e-09   \n",
       "26 -1.082741e-10  4.190694e-07  7.314140e-09 -448.099662  7.296822e-09   \n",
       "27  2.684020e-11  2.044735e-09  3.568736e-11 -448.099662  1.750285e-05   \n",
       "28  1.751204e-07  1.800000e+02  3.141593e+00  896.199333  1.828683e-05   \n",
       "29  6.476416e-07  2.349738e-03  4.101066e-05  588.344603  7.385554e-05   \n",
       "30 -1.522539e-06  2.027992e-05  3.539514e-07 -294.172323  6.707331e-05   \n",
       "31 -3.510514e-06  1.781331e-05  3.109008e-07 -448.099687  1.605753e-04   \n",
       "32  2.665205e-07  2.340674e-05  4.085247e-07 -448.099702  5.453182e-04   \n",
       "33  3.000738e-06  1.548186e-04  2.702094e-06 -448.099798  1.214966e+00   \n",
       "34  1.303246e-02  1.798430e+02  3.138853e+00  896.789768  1.262648e+00   \n",
       "35  4.480984e-02  7.052215e+01  1.230844e+00  588.918611  5.100143e+00   \n",
       "36 -1.037294e-01  1.395931e+00  2.436359e-02 -295.925752  4.648517e+00   \n",
       "37 -2.411289e-01  1.226098e+00  2.139945e-02 -449.793577  1.110338e+01   \n",
       "38  1.883757e-02  1.610843e+00  2.811451e-02 -450.844864  3.777848e+01   \n",
       "39  2.075553e-01  1.053194e+01  1.838171e-01 -457.405947  7.922481e+02   \n",
       "40  8.415821e+00  1.171963e+02  2.045462e+00 -635.524384  7.998053e+02   \n",
       "41 -1.999385e+00  1.325431e+02  2.313313e+00 -582.431725  7.979079e+02   \n",
       "42  9.130358e-01  1.282206e+02  2.237871e+00 -595.001341  8.157240e+02   \n",
       "43  2.219267e-01  1.280486e+02  2.234869e+00 -595.656952  8.213690e+02   \n",
       "44  1.982033e-01  1.276649e+02  2.228173e+00 -596.687902  8.259450e+02   \n",
       "45  1.527145e-01  1.274063e+02  2.223660e+00 -597.382713  8.294129e+02   \n",
       "46  1.255418e-01  1.272118e+02  2.220264e+00 -597.918673  8.322259e+02   \n",
       "47  1.065545e-01  1.270610e+02  2.217632e+00 -598.352401  8.345994e+02   \n",
       "48  9.264123e-02  1.269409e+02  2.215536e+00 -598.717308  8.366638e+02   \n",
       "49  8.202249e-02  1.268432e+02  2.213832e+00 -599.033517  8.385018e+02   \n",
       "50  7.366024e-02  1.267625e+02  2.212423e+00 -599.313929  8.401687e+02   \n",
       "\n",
       "         rf_fx         rf_fy       rr_fx         rr_fy       lr_fx  \\\n",
       "0     0.000000 -0.000000e+00    0.000000  0.000000e+00    0.000000   \n",
       "1   -15.871622 -0.000000e+00  -11.128378  0.000000e+00  -11.128378   \n",
       "2   -31.907432 -0.000000e+00  -22.092568  0.000000e+00  -22.092568   \n",
       "3   -48.107432 -0.000000e+00  -32.892568  0.000000e+00  -32.892568   \n",
       "4   -64.471622 -0.000000e+00  -43.528378  0.000000e+00  -43.528378   \n",
       "5   -81.000000 -0.000000e+00  -54.000000  0.000000e+00  -54.000000   \n",
       "6   -97.692568 -0.000000e+00  -64.307432  0.000000e+00  -64.307432   \n",
       "7  -114.549324 -0.000000e+00  -74.450676  0.000000e+00  -74.450676   \n",
       "8  -131.570270 -0.000000e+00  -84.429730  0.000000e+00  -84.429730   \n",
       "9  -148.755405 -0.000000e+00  -94.244595  0.000000e+00  -94.244595   \n",
       "10 -166.104730 -0.000000e+00 -103.895270  0.000000e+00 -103.895270   \n",
       "11 -183.618243 -0.000000e+00 -113.381757  0.000000e+00 -113.381757   \n",
       "12 -201.295946 -0.000000e+00 -122.704054  0.000000e+00 -122.704054   \n",
       "13 -219.137838 -0.000000e+00 -131.862162  0.000000e+00 -131.862162   \n",
       "14 -237.143919 -0.000000e+00 -140.856081  0.000000e+00 -140.856081   \n",
       "15 -255.314189 -0.000000e+00 -149.685811  0.000000e+00 -149.685811   \n",
       "16 -273.648649 -0.000000e+00 -158.351351  0.000000e+00 -158.351351   \n",
       "17 -292.147297  9.895966e-14 -166.852703  5.651836e-14 -166.852703   \n",
       "18  863.361486  1.057313e-13  486.638514  5.959603e-14  486.638514   \n",
       "19  588.344595  3.468659e-12  761.655405  4.490434e-12  761.655405   \n",
       "20 -235.337838  1.672276e-12 -304.662162  2.471620e-12 -304.662162   \n",
       "21 -367.783784  4.468101e-12 -199.216216  2.860030e-12 -199.216216   \n",
       "22 -387.103378  1.031641e-11 -206.896622  6.384376e-12 -206.896622   \n",
       "23 -406.587162  3.675087e-11 -214.412838  2.112044e-11 -214.412838   \n",
       "24  887.989865  2.185578e-09  462.010135  1.166674e-09  462.010135   \n",
       "25 -294.172297  2.733945e-09 -380.827703  3.331727e-09 -380.827703   \n",
       "26 -448.099662  7.296822e-09 -226.900338  3.873628e-09 -226.900338   \n",
       "27 -448.099662  1.750285e-05 -226.900338  9.281208e-06 -226.900338   \n",
       "28  896.199316  1.828683e-05  453.800670  8.692903e-06  453.800682   \n",
       "29  588.344586  7.385554e-05  761.655399  8.475235e-05  761.655411   \n",
       "30 -294.172272  6.707330e-05 -380.827685  8.644631e-05 -380.827721   \n",
       "31 -448.099638  1.605753e-04 -226.900321  8.818587e-05 -226.900355   \n",
       "32 -448.099622  5.453181e-04 -226.900310  2.989568e-04 -226.900366   \n",
       "33 -448.099527  1.214941e+00 -226.900243  6.292726e-01 -226.900433   \n",
       "34  895.607104  1.260918e+00  453.385671  5.961507e-01  454.214895   \n",
       "35  587.726870  5.086950e+00  761.215160  5.817868e+00  762.050748   \n",
       "36 -292.425578  4.593680e+00 -379.597262  5.925717e+00 -382.051407   \n",
       "37 -446.405747  1.101247e+01 -225.712650  6.031651e+00 -228.088025   \n",
       "38 -445.354460  3.723641e+01 -224.975541  2.034412e+01 -228.825135   \n",
       "39 -438.793378  7.599287e+02 -220.375242  3.816609e+02 -233.425434   \n",
       "40 -260.674940  3.228995e+02  -95.487602  1.148441e+02 -358.313074   \n",
       "41 -313.767600  4.250794e+02 -132.713490  1.768063e+02 -321.087186   \n",
       "42 -301.197984  4.101201e+02 -123.900310  1.670388e+02 -329.900365   \n",
       "43 -300.542372  4.121810e+02 -123.440629  1.679936e+02 -330.360047   \n",
       "44 -299.511422  4.127650e+02 -122.717779  1.680848e+02 -331.082897   \n",
       "45 -298.816611  4.133410e+02 -122.230613  1.682143e+02 -331.570063   \n",
       "46 -298.280651  4.138358e+02 -121.854825  1.683237e+02 -331.945851   \n",
       "47 -297.846923  4.142703e+02 -121.550716  1.684178e+02 -332.249960   \n",
       "48 -297.482017  4.146577e+02 -121.294862  1.684992e+02 -332.505813   \n",
       "49 -297.165808  4.150081e+02 -121.073152  1.685704e+02 -332.727523   \n",
       "50 -296.885395  4.153290e+02 -120.876541  1.686333e+02 -332.924134   \n",
       "\n",
       "           lr_fy      lf_alpha      rf_alpha      rr_alpha      lr_alpha  \\\n",
       "0   0.000000e+00  0.000000e+00  0.000000e+00 -0.000000e+00 -0.000000e+00   \n",
       "1   0.000000e+00  0.000000e+00  0.000000e+00 -0.000000e+00 -0.000000e+00   \n",
       "2   0.000000e+00  0.000000e+00  0.000000e+00 -0.000000e+00 -0.000000e+00   \n",
       "3   0.000000e+00  0.000000e+00  0.000000e+00 -0.000000e+00 -0.000000e+00   \n",
       "4   0.000000e+00  0.000000e+00  0.000000e+00 -0.000000e+00 -0.000000e+00   \n",
       "5   0.000000e+00  0.000000e+00  0.000000e+00 -0.000000e+00 -0.000000e+00   \n",
       "6   0.000000e+00  0.000000e+00  0.000000e+00 -0.000000e+00 -0.000000e+00   \n",
       "7   0.000000e+00  0.000000e+00  0.000000e+00 -0.000000e+00 -0.000000e+00   \n",
       "8   0.000000e+00  0.000000e+00  0.000000e+00 -0.000000e+00 -0.000000e+00   \n",
       "9   0.000000e+00  0.000000e+00  0.000000e+00 -0.000000e+00 -0.000000e+00   \n",
       "10  0.000000e+00  0.000000e+00  0.000000e+00 -0.000000e+00 -0.000000e+00   \n",
       "11  0.000000e+00  0.000000e+00  0.000000e+00 -0.000000e+00 -0.000000e+00   \n",
       "12  0.000000e+00  0.000000e+00  0.000000e+00 -0.000000e+00 -0.000000e+00   \n",
       "13  0.000000e+00  0.000000e+00  0.000000e+00 -0.000000e+00 -0.000000e+00   \n",
       "14  0.000000e+00  0.000000e+00  0.000000e+00 -0.000000e+00 -0.000000e+00   \n",
       "15  0.000000e+00  0.000000e+00  0.000000e+00 -0.000000e+00 -0.000000e+00   \n",
       "16  0.000000e+00  0.000000e+00  0.000000e+00 -0.000000e+00 -0.000000e+00   \n",
       "17  5.651836e-14 -3.141593e+00 -3.141593e+00 -3.141593e+00 -3.141593e+00   \n",
       "18  5.959603e-14 -3.141593e+00 -3.141593e+00 -3.141593e+00 -3.141593e+00   \n",
       "19  4.490434e-12 -3.141593e+00 -3.141593e+00 -3.141593e+00 -3.141593e+00   \n",
       "20  2.471620e-12 -3.101248e-15 -3.101248e-15 -3.540654e-15 -3.540654e-15   \n",
       "21  2.860030e-12 -5.622397e-15 -5.622397e-15 -6.644114e-15 -6.644114e-15   \n",
       "22  6.384376e-12 -1.305807e-14 -1.305807e-14 -1.511968e-14 -1.511968e-14   \n",
       "23  2.112044e-11 -4.682723e-14 -4.682723e-14 -5.103132e-14 -5.103132e-14   \n",
       "24  1.166674e-09 -3.141593e+00 -3.141593e+00 -3.141593e+00 -3.141593e+00   \n",
       "25  3.331727e-09 -5.365713e-12 -5.365713e-12 -5.051034e-12 -5.051034e-12   \n",
       "26  3.873628e-09 -9.401530e-12 -9.401530e-12 -9.856486e-12 -9.856486e-12   \n",
       "27  9.281208e-06 -2.255139e-08 -2.255139e-08 -2.361613e-08 -2.361613e-08   \n",
       "28  8.692903e-06 -3.141593e+00 -3.141593e+00 -3.141593e+00 -3.141593e+00   \n",
       "29  8.475235e-05 -3.141593e+00 -3.141593e+00 -3.141593e+00 -3.141593e+00   \n",
       "30  8.644632e-05 -1.316398e-07 -1.316398e-07 -1.310561e-07 -1.310561e-07   \n",
       "31  8.818589e-05 -2.068919e-07 -2.068919e-07 -2.243899e-07 -2.243899e-07   \n",
       "32  2.989569e-04 -7.026106e-07 -7.026106e-07 -7.606989e-07 -7.606989e-07   \n",
       "33  6.292857e-01 -1.565413e-03 -1.565381e-03 -1.601192e-03 -1.601224e-03   \n",
       "34  5.972720e-01 -3.140185e+00 -3.140185e+00 -3.140278e+00 -3.140278e+00   \n",
       "35  5.827543e+00 -3.132933e+00 -3.132938e+00 -3.133950e+00 -3.133946e+00   \n",
       "36  5.963839e+00 -9.069367e-03 -9.069654e-03 -9.012870e-03 -9.012584e-03   \n",
       "37  6.099159e+00 -1.425266e-02 -1.424324e-02 -1.542897e-02 -1.543918e-02   \n",
       "38  2.073778e+01 -4.839787e-02 -4.829145e-02 -5.223246e-02 -5.234754e-02   \n",
       "39  4.043036e+02 -1.568422e+00 -1.555955e+00 -1.556280e+00 -1.568474e+00   \n",
       "40  4.382564e+02 -2.328242e+00 -2.344730e+00 -2.374026e+00 -2.357528e+00   \n",
       "41  4.328189e+02 -2.229238e+00 -2.243451e+00 -2.264052e+00 -2.249709e+00   \n",
       "42  4.479084e+02 -2.228292e+00 -2.237059e+00 -2.249532e+00 -2.240714e+00   \n",
       "43  4.521089e+02 -2.220728e+00 -2.227824e+00 -2.237715e+00 -2.230582e+00   \n",
       "44  4.555256e+02 -2.215667e+00 -2.221492e+00 -2.229496e+00 -2.223645e+00   \n",
       "45  4.580383e+02 -2.211627e+00 -2.216585e+00 -2.223323e+00 -2.218346e+00   \n",
       "46  4.600319e+02 -2.208278e+00 -2.212599e+00 -2.218418e+00 -2.214082e+00   \n",
       "47  4.616820e+02 -2.205403e+00 -2.209236e+00 -2.214359e+00 -2.210514e+00   \n",
       "48  4.630935e+02 -2.202869e+00 -2.206315e+00 -2.210893e+00 -2.207436e+00   \n",
       "49  4.643321e+02 -2.200587e+00 -2.203721e+00 -2.207860e+00 -2.204717e+00   \n",
       "50  4.654412e+02 -2.198500e+00 -2.201375e+00 -2.205152e+00 -2.202270e+00   \n",
       "\n",
       "    lf_lock  rf_lock  rr_lock  lr_lock        lf_fz       rf_fz       rr_fz  \\\n",
       "0       0.0      0.0      0.0      0.0   881.756757  881.756757  618.243243   \n",
       "1       0.0      0.0      0.0      0.0   881.756757  881.756757  618.243243   \n",
       "2       0.0      0.0      0.0      0.0   886.317568  886.317568  613.682432   \n",
       "3       0.0      0.0      0.0      0.0   890.878378  890.878378  609.121622   \n",
       "4       0.0      0.0      0.0      0.0   895.439189  895.439189  604.560811   \n",
       "5       0.0      0.0      0.0      0.0   900.000000  900.000000  600.000000   \n",
       "6       0.0      0.0      0.0      0.0   904.560811  904.560811  595.439189   \n",
       "7       0.0      0.0      0.0      0.0   909.121622  909.121622  590.878378   \n",
       "8       0.0      0.0      0.0      0.0   913.682432  913.682432  586.317568   \n",
       "9       0.0      0.0      0.0      0.0   918.243243  918.243243  581.756757   \n",
       "10      0.0      0.0      0.0      0.0   922.804054  922.804054  577.195946   \n",
       "11      0.0      0.0      0.0      0.0   927.364865  927.364865  572.635135   \n",
       "12      0.0      0.0      0.0      0.0   931.925676  931.925676  568.074324   \n",
       "13      0.0      0.0      0.0      0.0   936.486486  936.486486  563.513514   \n",
       "14      0.0      0.0      0.0      0.0   941.047297  941.047297  558.952703   \n",
       "15      0.0      0.0      0.0      0.0   945.608108  945.608108  554.391892   \n",
       "16      0.0      0.0      0.0      0.0   950.168919  950.168919  549.831081   \n",
       "17      0.0      0.0      0.0      0.0   954.729730  954.729730  545.270270   \n",
       "18      1.0      1.0      1.0      1.0   959.290541  959.290541  540.709459   \n",
       "19      1.0      1.0      1.0      1.0   653.716216  653.716216  846.283784   \n",
       "20      0.0      0.0      0.0      0.0   653.716216  653.716216  846.283784   \n",
       "21      0.0      0.0      0.0      0.0   972.972973  972.972973  527.027027   \n",
       "22      0.0      0.0      0.0      0.0   977.533784  977.533784  522.466216   \n",
       "23      0.0      0.0      0.0      0.0   982.094595  982.094595  517.905405   \n",
       "24      1.0      1.0      1.0      1.0   986.655405  986.655405  513.344595   \n",
       "25      0.0      0.0      0.0      0.0   653.716216  653.716216  846.283784   \n",
       "26      0.0      0.0      0.0      0.0   995.777027  995.777027  504.222973   \n",
       "27      0.0      0.0      0.0      0.0   995.777027  995.777027  504.222973   \n",
       "28      1.0      1.0      1.0      1.0   995.777037  995.777017  504.222966   \n",
       "29      1.0      1.0      1.0      1.0   653.716226  653.716207  846.283777   \n",
       "30      0.0      0.0      0.0      0.0   653.716273  653.716160  846.283744   \n",
       "31      0.0      0.0      0.0      0.0   995.777082  995.776972  504.222935   \n",
       "32      0.0      0.0      0.0      0.0   995.777116  995.776938  504.222911   \n",
       "33      0.0      0.0      0.0      0.0   995.777328  995.776726  504.222762   \n",
       "34      1.0      1.0      1.0      1.0   996.434063  995.119991  503.762292   \n",
       "35      1.0      1.0      1.0      1.0   654.378550  653.054315  845.819324   \n",
       "36      0.0      0.0      0.0      0.0   657.612783  649.834618  843.549472   \n",
       "37      0.0      0.0      0.0      0.0   999.541283  992.012771  501.583667   \n",
       "38      0.0      0.0      0.0      0.0  1001.877476  989.676578  499.945647   \n",
       "39      0.0      0.0      0.0      0.0  1016.457659  975.096395  489.722760   \n",
       "40      0.0      0.0      0.0      0.0  1412.276409  579.277645  212.194671   \n",
       "41      0.0      0.0      0.0      0.0  1294.292721  697.261333  294.918866   \n",
       "42      0.0      0.0      0.0      0.0  1322.225201  669.328853  275.334023   \n",
       "43      0.0      0.0      0.0      0.0  1323.682116  667.871938  274.312508   \n",
       "44      0.0      0.0      0.0      0.0  1325.973115  665.580939  272.706175   \n",
       "45      0.0      0.0      0.0      0.0  1327.517140  664.036914  271.623583   \n",
       "46      0.0      0.0      0.0      0.0  1328.708162  662.845892  270.788499   \n",
       "47      0.0      0.0      0.0      0.0  1329.672003  661.882051  270.112703   \n",
       "48      0.0      0.0      0.0      0.0  1330.482906  661.071148  269.544138   \n",
       "49      0.0      0.0      0.0      0.0  1331.185593  660.368461  269.051450   \n",
       "50      0.0      0.0      0.0      0.0  1331.808732  659.745322  268.614536   \n",
       "\n",
       "         lr_fz     theta_rad     theta_deg  Fx  Fy  Mz         Dx  \\\n",
       "0   618.243243  0.000000e+00  0.000000e+00 NaN NaN NaN   0.000000   \n",
       "1   618.243243  0.000000e+00  0.000000e+00 NaN NaN NaN   0.733335   \n",
       "2   613.682432  0.000000e+00  0.000000e+00 NaN NaN NaN   1.465221   \n",
       "3   609.121622  0.000000e+00  0.000000e+00 NaN NaN NaN   2.192760   \n",
       "4   604.560811  0.000000e+00  0.000000e+00 NaN NaN NaN   2.911605   \n",
       "5   600.000000  0.000000e+00  0.000000e+00 NaN NaN NaN   3.615960   \n",
       "6   595.439189  0.000000e+00  0.000000e+00 NaN NaN NaN   4.300029   \n",
       "7   590.878378  0.000000e+00  0.000000e+00 NaN NaN NaN   4.958016   \n",
       "8   586.317568  0.000000e+00  0.000000e+00 NaN NaN NaN   5.584125   \n",
       "9   581.756757  0.000000e+00  0.000000e+00 NaN NaN NaN   6.172560   \n",
       "10  577.195946  0.000000e+00  0.000000e+00 NaN NaN NaN   6.717525   \n",
       "11  572.635135  0.000000e+00  0.000000e+00 NaN NaN NaN   7.213224   \n",
       "12  568.074324  0.000000e+00  0.000000e+00 NaN NaN NaN   7.653861   \n",
       "13  563.513514  0.000000e+00  0.000000e+00 NaN NaN NaN   8.033640   \n",
       "14  558.952703  0.000000e+00  0.000000e+00 NaN NaN NaN   8.346765   \n",
       "15  554.391892  0.000000e+00  0.000000e+00 NaN NaN NaN   8.587440   \n",
       "16  549.831081  0.000000e+00  0.000000e+00 NaN NaN NaN   8.749869   \n",
       "17  545.270270  0.000000e+00  0.000000e+00 NaN NaN NaN   8.828256   \n",
       "18  540.709459  4.175058e-20  2.392132e-18 NaN NaN NaN   8.816805   \n",
       "19  846.283784  1.670023e-19  9.568529e-18 NaN NaN NaN   8.808252   \n",
       "20  846.283784 -4.968319e-18 -2.846637e-16 NaN NaN NaN   8.896782   \n",
       "21  527.027027 -2.607324e-17 -1.493887e-15 NaN NaN NaN   9.076599   \n",
       "22  522.466216 -6.366964e-17 -3.648002e-15 NaN NaN NaN   9.341907   \n",
       "23  517.905405 -1.075286e-16 -6.160936e-15 NaN NaN NaN   9.588378   \n",
       "24  513.344595 -1.449580e-16 -8.305483e-15 NaN NaN NaN   9.710235   \n",
       "25  846.283784  8.044085e-16  4.608921e-14 NaN NaN NaN   9.808908   \n",
       "26  504.222973 -1.017566e-15 -5.830224e-14 NaN NaN NaN   9.878601   \n",
       "27  504.222973 -1.014403e-14 -5.812104e-13 NaN NaN NaN   9.914967   \n",
       "28  504.222980  7.619415e-12  4.365603e-10 NaN NaN NaN   9.915108   \n",
       "29  846.283791  5.879097e-11  3.368475e-09 NaN NaN NaN   9.879024   \n",
       "30  846.283823  1.076877e-10  6.170051e-09 NaN NaN NaN   9.915390   \n",
       "31  504.223011 -1.011985e-10 -5.798247e-09 NaN NaN NaN  10.024206   \n",
       "32  504.223035 -6.712390e-10 -3.845916e-08 NaN NaN NaN  10.205472   \n",
       "33  504.223184 -1.240264e-09 -7.106191e-08 NaN NaN NaN  10.350513   \n",
       "34  504.683653  5.671127e-07  3.249316e-05 NaN NaN NaN  10.350654   \n",
       "35  846.747811  4.228092e-06  2.422518e-04 NaN NaN NaN  10.314570   \n",
       "36  849.003127  7.842066e-06  4.493173e-04 NaN NaN NaN  10.350933   \n",
       "37  506.862279 -6.162093e-06 -3.530619e-04 NaN NaN NaN  10.459744   \n",
       "38  508.500299 -4.491282e-05 -2.573315e-03 NaN NaN NaN  10.641003   \n",
       "39  518.723186 -8.348459e-05 -4.783315e-03 NaN NaN NaN  10.786035   \n",
       "40  796.251275  2.640877e-04  1.513111e-02 NaN NaN NaN  10.786150   \n",
       "41  713.527080  1.267896e-03  7.264506e-02 NaN NaN NaN  10.641291   \n",
       "42  733.111923  2.504272e-03  1.434842e-01 NaN NaN NaN  10.351297   \n",
       "43  734.133438  3.742770e-03  2.144449e-01 NaN NaN NaN   9.916047   \n",
       "44  735.739770  5.049122e-03  2.892934e-01 NaN NaN NaN   9.335445   \n",
       "45  736.822363  6.389117e-03  3.660694e-01 NaN NaN NaN   8.609344   \n",
       "46  737.657447  7.756565e-03  4.444184e-01 NaN NaN NaN   7.737624   \n",
       "47  738.333243  9.146281e-03  5.240433e-01 NaN NaN NaN   6.720153   \n",
       "48  738.901808  1.055482e-02  6.047464e-01 NaN NaN NaN   5.556798   \n",
       "49  739.394496  1.197966e-02  6.863842e-01 NaN NaN NaN   4.247426   \n",
       "50  739.831410  1.341893e-02  7.688478e-01 NaN NaN NaN   2.791900   \n",
       "\n",
       "              Dy  \n",
       "0   0.000000e+00  \n",
       "1   0.000000e+00  \n",
       "2   0.000000e+00  \n",
       "3   0.000000e+00  \n",
       "4   0.000000e+00  \n",
       "5   0.000000e+00  \n",
       "6   0.000000e+00  \n",
       "7   0.000000e+00  \n",
       "8   0.000000e+00  \n",
       "9   0.000000e+00  \n",
       "10  0.000000e+00  \n",
       "11  0.000000e+00  \n",
       "12  0.000000e+00  \n",
       "13  0.000000e+00  \n",
       "14  0.000000e+00  \n",
       "15  0.000000e+00  \n",
       "16  0.000000e+00  \n",
       "17  0.000000e+00  \n",
       "18  8.342958e-18  \n",
       "19  3.391257e-17  \n",
       "20  5.034860e-16  \n",
       "21  1.639837e-15  \n",
       "22  3.829042e-15  \n",
       "23  7.966307e-15  \n",
       "24  1.674028e-14  \n",
       "25  2.098889e-13  \n",
       "26  9.125425e-13  \n",
       "27  2.723480e-12  \n",
       "28  1.442775e-09  \n",
       "29  5.772783e-09  \n",
       "30  2.151088e-08  \n",
       "31  5.690441e-08  \n",
       "32  1.238763e-07  \n",
       "33  2.663754e-07  \n",
       "34  9.942921e-05  \n",
       "35  3.976290e-04  \n",
       "36  1.481168e-03  \n",
       "37  3.917653e-03  \n",
       "38  8.527731e-03  \n",
       "39  1.833278e-02  \n",
       "40  9.548117e-02  \n",
       "41  2.843110e-01  \n",
       "42  6.329727e-01  \n",
       "43  1.187667e+00  \n",
       "44  1.935315e+00  \n",
       "45  2.880827e+00  \n",
       "46  4.025094e+00  \n",
       "47  5.368928e+00  \n",
       "48  6.912916e+00  \n",
       "49  8.657517e+00  \n",
       "50  1.060310e+01  "
      ]
     },
     "execution_count": 16,
     "metadata": {},
     "output_type": "execute_result"
    }
   ],
   "source": [
    "# %%\n",
    "motion.veh.model.head(100)"
   ]
  },
  {
   "cell_type": "code",
   "execution_count": 13,
   "metadata": {},
   "outputs": [
    {
     "data": {
      "text/plain": [
       "<matplotlib.axes._subplots.AxesSubplot at 0x7979c42ed1d0>"
      ]
     },
     "execution_count": 13,
     "metadata": {},
     "output_type": "execute_result"
    },
    {
     "data": {
      "image/png": "[encoded data removed]",
      "text/plain": [
       "<Figure size 432x288 with 1 Axes>"
      ]
     },
     "metadata": {
      "needs_background": "light"
     },
     "output_type": "display_data"
    }
   ],
   "source": [
    "motion.veh.model.plot(x = 't', y = 'oz_deg')"
   ]
  },
  {
   "cell_type": "code",
   "execution_count": null,
   "metadata": {},
   "outputs": [],
   "source": []
  },
  {
   "cell_type": "markdown",
   "metadata": {},
   "source": [
    "### atan2"
   ]
  },
  {
   "cell_type": "code",
   "execution_count": 9,
   "metadata": {},
   "outputs": [
    {
     "data": {
      "text/plain": [
       "array([-135.,  -45.,   45.,  135.])"
      ]
     },
     "execution_count": 9,
     "metadata": {},
     "output_type": "execute_result"
    }
   ],
   "source": [
    "x = np.array([-1, +1, +1, -1])\n",
    "y = np.array([-1, -1, +1, +1])\n",
    "np.arctan2(y, x) * 180 / np.pi"
   ]
  },
  {
   "cell_type": "code",
   "execution_count": 12,
   "metadata": {},
   "outputs": [
    {
     "ename": "TypeError",
     "evalue": "ufunc 'arctan' output (typecode 'd') could not be coerced to provided output parameter (typecode 'l') according to the casting rule ''same_kind''",
     "output_type": "error",
     "traceback": [
      "\u001b[0;31m---------------------------------------------------------------------------\u001b[0m",
      "\u001b[0;31mTypeError\u001b[0m                                 Traceback (most recent call last)",
      "\u001b[0;32m<ipython-input-12-3fb271f319d2>\u001b[0m in \u001b[0;36m<module>\u001b[0;34m\u001b[0m\n\u001b[0;32m----> 1\u001b[0;31m \u001b[0mnp\u001b[0m\u001b[0;34m.\u001b[0m\u001b[0marctan\u001b[0m\u001b[0;34m(\u001b[0m\u001b[0my\u001b[0m\u001b[0;34m,\u001b[0m \u001b[0mx\u001b[0m\u001b[0;34m)\u001b[0m \u001b[0;34m*\u001b[0m \u001b[0;36m180\u001b[0m \u001b[0;34m/\u001b[0m \u001b[0mnp\u001b[0m\u001b[0;34m.\u001b[0m\u001b[0mpi\u001b[0m\u001b[0;34m\u001b[0m\u001b[0;34m\u001b[0m\u001b[0m\n\u001b[0m",
      "\u001b[0;31mTypeError\u001b[0m: ufunc 'arctan' output (typecode 'd') could not be coerced to provided output parameter (typecode 'l') according to the casting rule ''same_kind''"
     ]
    }
   ],
   "source": []
  }
 ],
 "metadata": {
  "kernelspec": {
   "display_name": "Python 3",
   "language": "python",
   "name": "python3"
  },
  "language_info": {
   "codemirror_mode": {
    "name": "ipython",
    "version": 3
   },
   "file_extension": ".py",
   "mimetype": "text/x-python",
   "name": "python",
   "nbconvert_exporter": "python",
   "pygments_lexer": "ipython3",
   "version": "3.7.3"
  }
 },
 "nbformat": 4,
 "nbformat_minor": 4
}
