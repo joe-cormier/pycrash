{
 "cells": [
  {
   "cell_type": "code",
   "execution_count": null,
   "metadata": {},
   "outputs": [],
   "source": [
    "# %% allow reloading of modules\n",
    "%load_ext autoreload\n",
    "%autoreload 2"
   ]
  },
  {
   "cell_type": "code",
   "execution_count": null,
   "metadata": {},
   "outputs": [],
   "source": [
    "# %% Initilizing\n",
    "import pandas as pd\n",
    "import numpy as np\n",
    "import os\n",
    "path_parent = os.path.dirname(os.getcwd())\n",
    "data_directory = os.path.join(path_parent, \"data\")\n",
    "os.chdir(path_parent)\n",
    "pd.options.display.max_columns = None"
   ]
  },
  {
   "cell_type": "code",
   "execution_count": null,
   "metadata": {},
   "outputs": [],
   "source": [
    "import pycrash\n",
    "from pycrash.project import Project\n",
    "from pycrash.vehicle import Vehicle\n",
    "from pycrash.kinematicstwo import KinematicsTwo"
   ]
  },
  {
   "cell_type": "code",
   "execution_count": null,
   "metadata": {},
   "outputs": [],
   "source": [
    "\n",
    "# TODO:\n",
    "\n",
    "# %% Import Modules\n",
    "import matplotlib.pyplot as plt\n",
    "from matplotlib.pyplot import text\n",
    "from src.functions import EnergyDV, SpringSeriesKeff\n",
    "from src.project import Project, project_info, load_project\n",
    "from src.vehicle import Vehicle\n",
    "from src.kinematicstwo import KinematicsTwo\n",
    "from scipy import signal\n",
    "from scipy import integrate\n",
    "import pandas as pd\n",
    "import numpy as np\n",
    "import pickle\n",
    "import json\n",
    "\n",
    "pd.options.display.max_columns = None\n",
    "from IPython import get_ipython\n",
    "from IPython.display import display\n",
    "get_ipython().run_line_magic('matplotlib', 'inline')"
   ]
  },
  {
   "cell_type": "markdown",
   "metadata": {},
   "source": [
    "## Create Project\n",
    "- projects are used to store basic information about the project  \n",
    "- name, type of impact, type of simulation to be run, description, notes  \n",
    "- the project will be used to save all associated aspects, vehicles, simulations etc.  "
   ]
  },
  {
   "cell_type": "code",
   "execution_count": null,
   "metadata": {},
   "outputs": [],
   "source": [
    "project_inputs = {'name':'Practice', 'pdesc':'single motion', 'sim_type':'SV', 'impact_type':'none',\n",
    "                  'note':'single vehicle motion demo'}\n",
    "proj = Project(project_inputs)"
   ]
  },
  {
   "cell_type": "markdown",
   "metadata": {},
   "source": [
    "### Generate dataframe with driver inputs for vehicle 1 (striking vehicle)\n",
    "- note - think of a dataframe as a basic excel sheet (header row and data columns)\n",
    "- the time duration \"end_time\" is critical becuase it determines length of simulation"
   ]
  },
  {
   "cell_type": "code",
   "execution_count": null,
   "metadata": {},
   "outputs": [],
   "source": [
    "end_time = 5  # 5 second simulation\n",
    "t = list(np.arange(0, end_time+0.1, 0.1))  # create time array from 0 to end time from user\n",
    "throttle = [0] * len(t)                                # no throttle\n",
    "brake = [0] * len(t)                                   # no braking\n",
    "steer = [0] * len(t)                                   # no steering\n",
    "driver_input_dict = {'t':t, 'throttle':throttle, 'brake':brake, 'steer':steer}\n",
    "driver_input_df = pd.DataFrame.from_dict(driver_input_dict)\n",
    "print('Vehicle 1 Driver Inputs:')\n",
    "driver_input_df.head() # first 5 rows of driver input data"
   ]
  },
  {
   "cell_type": "markdown",
   "metadata": {},
   "source": [
    "### Create Vehicle 1:\n",
    "- \"Vehicle\" stores information about a single vehicle - all possible inputs do not need to be entered\n",
    "- creating a Vehicle requries a \"name\" which is used to identify the vehicle in outputs / plots etc. "
   ]
  },
  {
   "cell_type": "code",
   "execution_count": null,
   "metadata": {},
   "outputs": [],
   "source": [
    "vehicle_input_dict = {\"year\":2016,\n",
    "\"make\":\"Subaru\",\n",
    "\"model\":\"WRX Sti\",\n",
    "\"weight\":3000,\n",
    "\"vin\":\"123abc\",\n",
    "\"brake\":0,\n",
    "\"steer_ratio\":16.5,\n",
    "\"init_x_pos\":0,\n",
    "\"init_y_pos\":0,\n",
    "\"head_angle\":0,\n",
    "\"width\":6.6,\n",
    "\"length\":20.66,\n",
    "\"hcg\":2,\n",
    "\"lcgf\":5.6,\n",
    "\"lcgr\":7.76,\n",
    "\"wb\":13.36,\n",
    "\"track\":5.7,\n",
    "\"f_hang\":3.2,\n",
    "\"r_hang\":3.873,\n",
    "\"tire_d\":2.716666667,\n",
    "\"tire_w\":0.866666667,\n",
    "\"izz\":3711,\n",
    "\"fwd\":0,\n",
    "\"rwd\":1,\n",
    "\"awd\":0,\n",
    "\"A\":100,\n",
    "\"B\":41,\n",
    "\"k\":1000,\n",
    "\"L\":0,\n",
    "\"c\":0,\n",
    "\"vx_initial\":5,\n",
    "\"vy_initial\":0,\n",
    "\"omega_z\":0}\n",
    "\n",
    "veh1 = Vehicle('Veh1', vehicle_input_dict)\n",
    "veh1.driver_input = driver_input_df\n",
    "\n",
    "veh2 = Vehicle('Veh2', vehicle_input_dict)\n",
    "veh2.driver_input = driver_input_df\n",
    "veh2.init_x_pos = 20\n",
    "veh2.init_y_pos = 30\n",
    "veh2.head_angle = 270"
   ]
  },
  {
   "cell_type": "markdown",
   "metadata": {},
   "source": [
    "### Create Vehicle 2\n",
    "- vehicle data can also be created by importing a CSV file in the data/input directory\n",
    "- `TODO`: change this directory to the \"Project\" directory - seperate input folder etc."
   ]
  },
  {
   "cell_type": "code",
   "execution_count": null,
   "metadata": {},
   "outputs": [],
   "source": [
    "veh2 = Vehicle('Veh2')\n",
    "veh2.load_specs('fordGT.csv')"
   ]
  },
  {
   "cell_type": "markdown",
   "metadata": {},
   "source": [
    "### driver input can be added at anytime"
   ]
  },
  {
   "cell_type": "code",
   "execution_count": null,
   "metadata": {},
   "outputs": [],
   "source": [
    "end_time = 5  # 5 second simulation\n",
    "t = list(np.arange(0, end_time+0.1, 0.1))  # create time array from 0 to end time from user\n",
    "throttle = [0] * len(t)                                # no throttle\n",
    "brake = [0] * len(t)                                   # no braking\n",
    "steer = [0] * len(t)                                   # no steering\n",
    "driver_input_dict = {'t':t, 'throttle':throttle, 'brake':brake, 'steer':steer}\n",
    "driver_input_df = pd.DataFrame.from_dict(driver_input_dict)\n",
    "print('Vehicle 2 Driver Inputs:')\n",
    "\n",
    "veh2.driver_input = driver_input_df\n",
    "veh2.driver_input.head() # first 5 rows of driver input data"
   ]
  },
  {
   "cell_type": "markdown",
   "metadata": {},
   "source": [
    "### Create instance of two vehicle motion\n",
    "- input requires 'name', 'impact_type', veh1, veh2\n",
    "-  user will be prompted to assign impact location, direction of normal impact plane and impacting edge for struck vehicle"
   ]
  },
  {
   "cell_type": "code",
   "execution_count": null,
   "metadata": {},
   "outputs": [],
   "source": [
    "ss1 = KinematicsTwo('run1', 'IMPC', veh1, veh2)"
   ]
  },
  {
   "cell_type": "markdown",
   "metadata": {},
   "source": [
    "### set-up vehicle initial location\n",
    "- use any prior simulation motion data to show paths"
   ]
  },
  {
   "cell_type": "code",
   "execution_count": null,
   "metadata": {},
   "outputs": [],
   "source": [
    "ss1.initial_position()"
   ]
  },
  {
   "cell_type": "markdown",
   "metadata": {},
   "source": [
    "### Run simulation"
   ]
  },
  {
   "cell_type": "code",
   "execution_count": null,
   "metadata": {},
   "outputs": [],
   "source": [
    "print(f'Impacting Edge: {ss1.veh2.edgeimpact}')\n",
    "print(f'Impacting Edge X Points: {ss1.veh2.edgeimpact_x1}, {ss1.veh2.edgeimpact_x2}')\n",
    "print(f'Impacting Edge Y Points: {ss1.veh2.edgeimpact_y1}, {ss1.veh2.edgeimpact_y2}')"
   ]
  },
  {
   "cell_type": "code",
   "execution_count": null,
   "metadata": {},
   "outputs": [],
   "source": [
    "from scipy import integrate\n",
    "ss1.veh1.model['Dx'] = veh1.init_x_pos + integrate.cumtrapz(list(ss1.veh1.model.Vx), list(ss1.veh1.model.t), initial=0)"
   ]
  },
  {
   "cell_type": "code",
   "execution_count": null,
   "metadata": {},
   "outputs": [],
   "source": [
    "ss1.veh1.model.head()"
   ]
  },
  {
   "cell_type": "code",
   "execution_count": null,
   "metadata": {},
   "outputs": [],
   "source": [
    "ss1.simulate(impact_type = 'ss', ignore_driver = False)"
   ]
  },
  {
   "cell_type": "code",
   "execution_count": null,
   "metadata": {},
   "outputs": [],
   "source": [
    "ss1.veh1.veh_model.head()"
   ]
  },
  {
   "cell_type": "code",
   "execution_count": null,
   "metadata": {},
   "outputs": [],
   "source": [
    "ss1.veh2.veh_model.head()"
   ]
  },
  {
   "cell_type": "markdown",
   "metadata": {},
   "source": [
    "### Plot Vehicle Motion"
   ]
  },
  {
   "cell_type": "code",
   "execution_count": null,
   "metadata": {},
   "outputs": [],
   "source": [
    "ss1.draw_simulation(len(ss1.veh1.veh_model.t)-1)"
   ]
  },
  {
   "cell_type": "code",
   "execution_count": null,
   "metadata": {},
   "outputs": [],
   "source": [
    "ss1.veh1.veh_model.head()"
   ]
  },
  {
   "cell_type": "code",
   "execution_count": null,
   "metadata": {},
   "outputs": [],
   "source": [
    "max(ss1.veh1.veh_model.Fx)"
   ]
  },
  {
   "cell_type": "code",
   "execution_count": null,
   "metadata": {},
   "outputs": [],
   "source": [
    "ss1.veh2.edgeimpact"
   ]
  },
  {
   "cell_type": "code",
   "execution_count": null,
   "metadata": {},
   "outputs": [],
   "source": [
    "xy_ratio"
   ]
  },
  {
   "cell_type": "code",
   "execution_count": null,
   "metadata": {},
   "outputs": [],
   "source": []
  }
 ],
 "metadata": {
  "kernelspec": {
   "display_name": "Python 3",
   "language": "python",
   "name": "python3"
  },
  "language_info": {
   "codemirror_mode": {
    "name": "ipython",
    "version": 3
   },
   "file_extension": ".py",
   "mimetype": "text/x-python",
   "name": "python",
   "nbconvert_exporter": "python",
   "pygments_lexer": "ipython3",
   "version": "3.8.1"
  }
 },
 "nbformat": 4,
 "nbformat_minor": 4
}