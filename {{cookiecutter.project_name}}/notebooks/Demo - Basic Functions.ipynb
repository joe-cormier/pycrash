{
 "cells": [
  {
   "cell_type": "markdown",
   "metadata": {
    "pycharm": {
     "name": "#%% md\n"
    }
   },
   "source": [
    "## Pycrash - An open source tool for accident reconstruction\n",
    "#### Demonstration of basic functionality: Accident Reconstruction equations and methods"
   ]
  },
  {
   "cell_type": "markdown",
   "metadata": {
    "pycharm": {
     "name": "#%% md\n"
    }
   },
   "source": [
    "### Reconstruction Equations\n",
    "- The `ar` module contains various equations that can be imported within your notebook or python script\n",
    "- Pycrash nomenclature always uses vehicle 1 as striking, vehicle 2 as struck"
   ]
  },
  {
   "cell_type": "markdown",
   "metadata": {
    "pycharm": {
     "name": "#%% md\n"
    }
   },
   "source": [
    "#### Jupyter Notebook notes\n",
    "- `ctrl+Enter` will run current cell\n",
    "- `Shift+Enter` will run current cell and move to next"
   ]
  },
  {
   "cell_type": "code",
   "execution_count": 1,
   "metadata": {},
   "outputs": [],
   "source": [
    "# if running without installing from pip - insert path to pycrash here\n",
    "import sys\n",
    "sys.path.insert(0, '/Users/joe/Documents/pycrash')"
   ]
  },
  {
   "cell_type": "code",
   "execution_count": 2,
   "metadata": {
    "pycharm": {
     "name": "#%%\n"
    }
   },
   "outputs": [],
   "source": [
    "# jupyter notebook option - allows for modules to be imported multiple times\n",
    "%load_ext autoreload\n",
    "%autoreload 2"
   ]
  },
  {
   "cell_type": "markdown",
   "metadata": {
    "pycharm": {
     "name": "#%% md\n"
    }
   },
   "source": [
    "#### Python packages used for analysis\n",
    "- `pandas` - data analysis and manipulation tool\n",
    "- `numpy` - The fundamental package for scientific computing with Python\n",
    "- `sklearn` - higher level mathematical functionality"
   ]
  },
  {
   "cell_type": "code",
   "execution_count": 3,
   "metadata": {
    "pycharm": {
     "name": "#%%\n"
    }
   },
   "outputs": [],
   "source": [
    "import pandas as pd\n",
    "pd.options.display.max_columns = None  # show all dataframe columns\n",
    "import numpy as np\n",
    "from sklearn.linear_model import LinearRegression"
   ]
  },
  {
   "cell_type": "markdown",
   "metadata": {},
   "source": [
    "### Import reconstruction equations"
   ]
  },
  {
   "cell_type": "code",
   "execution_count": 4,
   "metadata": {
    "pycharm": {
     "name": "#%%\n"
    }
   },
   "outputs": [
    {
     "name": "stdout",
     "output_type": "stream",
     "text": [
      "Current values for defined constants:\n",
      "maximum available friction (mu_max) = 0.76\n",
      "time step for vehicle motion (dt) = 0.01 s\n",
      "No Environment File Provided\n",
      "No Environment File Provided\n"
     ]
    }
   ],
   "source": [
    "import pycrash.functions.ar as ar\n",
    "import pycrash.functions.arPlots as arplot"
   ]
  },
  {
   "cell_type": "markdown",
   "metadata": {},
   "source": [
    "### Solve for delta-V"
   ]
  },
  {
   "cell_type": "code",
   "execution_count": 8,
   "metadata": {
    "pycharm": {
     "name": "#%%\n"
    }
   },
   "outputs": [
    {
     "name": "stdout",
     "output_type": "stream",
     "text": [
      "Striking vehicle change in speed: 8.0 mph with restitution of: 0.29\n"
     ]
    }
   ],
   "source": [
    "w1 = 3000     # <- vehicle 1 weight [lbs] (striking)\n",
    "w2 = 5000     # <- vehicle 2 weight [lbs] (struck)\n",
    "v1 = 10       # <- vehicle 1 initial speed [mph]\n",
    "v2 = 0        # <- vehicle 2 initial speed [mph]\n",
    "\n",
    "restitution = ar.cipriani_rest(v1-v2)    # <- solve for restitution using Cipriani et al. (2002) fit\n",
    "ar.StrikingDV(w1, w2, v1, v2, restitution)\n",
    "\n",
    "# print statement:\n",
    "print(f'Striking vehicle change in speed: {ar.StrikingDV(w1, w2, v1, v2, restitution):0.1f} mph with restitution of: {restitution:0.2f}')"
   ]
  },
  {
   "cell_type": "markdown",
   "metadata": {
    "pycharm": {
     "name": "#%% md\n"
    }
   },
   "source": [
    "### Introduction to Pycrash Vehicle\n",
    "- vehicle is a python class object that stores various information related to a vehicle\n",
    "- this is a simple example requiring only vehicle weight and a name"
   ]
  },
  {
   "cell_type": "code",
   "execution_count": 9,
   "metadata": {
    "pycharm": {
     "name": "#%%\n"
    }
   },
   "outputs": [],
   "source": [
    "# import Vehicle module\n",
    "from pycrash.vehicle import Vehicle"
   ]
  },
  {
   "cell_type": "code",
   "execution_count": 10,
   "metadata": {
    "pycharm": {
     "name": "#%%\n"
    }
   },
   "outputs": [
    {
     "name": "stdout",
     "output_type": "stream",
     "text": [
      "name -> Malibu\n",
      "type -> vehicle\n",
      "year -> 2015\n",
      "make -> Chevrolet\n",
      "model -> Malibu\n",
      "weight -> 3639\n"
     ]
    }
   ],
   "source": [
    "# create vehicle\n",
    "veh1 = Vehicle('Malibu')\n",
    "veh1.year = 2015\n",
    "veh1.make = 'Chevrolet'\n",
    "veh1.model = 'Malibu'\n",
    "veh1.weight = 3639\n",
    "\n",
    "# show what is stored inside \"veh1\"\n",
    "veh1.show()"
   ]
  },
  {
   "cell_type": "code",
   "execution_count": 11,
   "metadata": {
    "pycharm": {
     "name": "#%%\n"
    }
   },
   "outputs": [
    {
     "name": "stdout",
     "output_type": "stream",
     "text": [
      "The weight of Malibu is: 3639 lbs\n"
     ]
    }
   ],
   "source": [
    "# retrieve value stored in vehicle class:\n",
    "veh1.weight\n",
    "print(f'The weight of {veh1.name} is: {veh1.weight} lbs')"
   ]
  },
  {
   "cell_type": "markdown",
   "metadata": {
    "pycharm": {
     "name": "#%% md\n"
    }
   },
   "source": [
    "#### A and B values from crash plot"
   ]
  },
  {
   "cell_type": "code",
   "execution_count": null,
   "metadata": {
    "pycharm": {
     "name": "#%%\n"
    }
   },
   "outputs": [],
   "source": [
    "# import crash_plot function\n",
    "from pycrash.functions.vehicle_stiffness import crash_plot"
   ]
  },
  {
   "cell_type": "code",
   "execution_count": null,
   "metadata": {
    "pycharm": {
     "name": "#%%\n"
    }
   },
   "outputs": [],
   "source": [
    "# %% Create crash plot for A / B stiffness values\n",
    "# initialize crash plot data\n",
    "abscissa = np.array([])\n",
    "ordinate = np.array([])\n",
    "\n",
    "# create inputs for crash plot function\n",
    "# %% create test with zero crush at 3 mph - only returns a single value for intercept at 0 crush\n",
    "crush_length = 1415 * 0.0393701  # crush width [inches]\n",
    "\n",
    "# 6 point crush profile\n",
    "c_list = [0] * 6                # no crush\n",
    "test_speed = 3                  # no crush speed [mph]\n",
    "restitution = 0\n",
    "\n",
    "test_data = {'test_crush':c_list,\n",
    "             'test_speed':test_speed,\n",
    "             'damage_length':crush_length,\n",
    "             'epsilon':restitution}\n",
    "\n",
    "x_no_damage, y_no_damage = crash_plot(test_data, veh1)\n",
    "abscissa = np.append(abscissa, x_no_damage)  # append values to the array\n",
    "ordinate = np.append(ordinate, y_no_damage)  # append values to the array\n",
    "\n",
    "# crush measurements [inches], say average crush depth\n",
    "c1 = 10.1\n",
    "c2 = 10.1\n",
    "c3 = 10.1\n",
    "c4 = 10.1\n",
    "c5 = 10.1\n",
    "c6 = 10.1\n",
    "\n",
    "crush_length = 1415 * 0.0393701  # crush width [inches]\n",
    "# 6 point crush profile\n",
    "c_list = [c1, c2, c3, c4, c5, c6]  # list of crush measurements\n",
    "\n",
    "test_speed = 56.51 * 0.621371 # [mph]\n",
    "restitution = 0.013           # <- from test data\n",
    "\n",
    "# input data is put into a python dictionary for input\n",
    "test_data = {'test_crush':c_list,\n",
    "             'test_speed':test_speed,\n",
    "             'damage_length':crush_length,\n",
    "             'epsilon':restitution}\n",
    "\n",
    "# crash_plot function returns the x,y values associated with the crash plot\n",
    "ave_x, ave_y = crash_plot(test_data, veh1)\n",
    "abscissa = np.append(abscissa, ave_x)  # append values to the array\n",
    "ordinate = np.append(ordinate, ave_y)  # append values to the array\n",
    "\n",
    "# add another data point to crash plot -\n",
    "c1 = 13\n",
    "c2 = 13\n",
    "c3 = 13\n",
    "c4 = 13\n",
    "c5 = 13\n",
    "c6 = 13\n",
    "\n",
    "crush_length = 1415 * 0.0393701  # crush width [inches]\n",
    "\n",
    "# 6 point crush profile\n",
    "c_list = [c1, c2, c3, c4, c5, c6]\n",
    "\n",
    "test_speed = 60 * 0.621371 # [mph]\n",
    "restitution = 0.008  # <- from test data\n",
    "\n",
    "test_data = {'test_crush':c_list,\n",
    "             'test_speed':test_speed,\n",
    "             'damage_length':crush_length,\n",
    "             'epsilon':restitution\n",
    "}\n",
    "\n",
    "x_new, y_new = crash_plot(test_data, veh1)\n",
    "\n",
    "abscissa = np.append(abscissa, x_new)  # append values to the array\n",
    "ordinate = np.append(ordinate, y_new)  # append values to the array"
   ]
  },
  {
   "cell_type": "markdown",
   "metadata": {
    "pycharm": {
     "name": "#%% md\n"
    }
   },
   "source": [
    "Crash plot data is complete - perform linear regression to get A / B values"
   ]
  },
  {
   "cell_type": "code",
   "execution_count": null,
   "metadata": {
    "pycharm": {
     "name": "#%%\n"
    }
   },
   "outputs": [],
   "source": [
    "# linear regression of crash plot data\n",
    "model = LinearRegression().fit(abscissa.reshape((-1, 1)), ordinate)\n",
    "\n",
    "# calculate A and B values:\n",
    "A = (model.coef_ * model.intercept_).item()\n",
    "B = (model.coef_** 2).item()\n",
    "\n",
    "# assign A + B values to veh1\n",
    "veh1.A = A\n",
    "veh1.B = B\n",
    "\n",
    "# data for crash plot\n",
    "crash_plot_x = [*range(0, int(round(max(abscissa))) + 2, 1)]\n",
    "crash_plot_y = [x * model.coef_.item() + model.intercept_ for x in crash_plot_x]"
   ]
  },
  {
   "cell_type": "markdown",
   "metadata": {
    "pycharm": {
     "name": "#%% md\n"
    }
   },
   "source": [
    "### Create a basic plot with Plotly -\n",
    "Helpful to know the basic syntax for plots so formats in Pycrash plots can be changed"
   ]
  },
  {
   "cell_type": "code",
   "execution_count": null,
   "metadata": {
    "pycharm": {
     "name": "#%%\n"
    }
   },
   "outputs": [],
   "source": [
    "# import plotly\n",
    "import plotly.graph_objects as go\n",
    "# tell plotly to use browser for plotting\n",
    "# if you are using jupyter notebook, then \"notebook\" will work for an option.\n",
    "# otherwise, Pycharm and Jupyter Lab get along better with \"browser\"\n",
    "import plotly.io as pio\n",
    "pio.renderers.default = \"plotly_mimetype\"  # <- determines how plots are displayed using Plotly\n",
    "#pio.renderers.default = \"browser\"  # <- determines how plots are displayed using Plotly"
   ]
  },
  {
   "cell_type": "code",
   "execution_count": null,
   "metadata": {
    "pycharm": {
     "name": "#%%\n"
    }
   },
   "outputs": [],
   "source": [
    "# %% Create crash plot for A / B stiffness values\n",
    "fig = go.Figure()\n",
    "# velocity data\n",
    "fig.add_trace(go.Scatter(x = abscissa, y = ordinate,\n",
    "                        mode = 'markers',\n",
    "                        name = '2015 Malibu',\n",
    "                        marker = dict(color = 'rgb(102, 255, 51)', size = 8)))\n",
    "fig.add_trace(go.Scatter(x = crash_plot_x, y = crash_plot_y,\n",
    "                        mode = 'lines',\n",
    "                        name = 'regression',\n",
    "                        line = dict(color = 'rgb(67,67,67)', width = 2)))\n",
    "fig.add_annotation(x = 2,\n",
    "                    y = 200,\n",
    "                    showarrow = False,\n",
    "                    text = f\"A = {A:.0f} lb/in<br>B = {B:.0f} lb/in/in\")\n",
    "\n",
    "fig.update_layout(\n",
    "    legend=dict(\n",
    "    yanchor=\"bottom\",\n",
    "    y=0.1,\n",
    "    xanchor=\"left\",\n",
    "    x=0.7),\n",
    "    autosize = False,\n",
    "    width = 2000,\n",
    "    height = 1100,\n",
    "    title = 'Crash Plot',\n",
    "    #template = 'plotly_white',  # turn off / on background color / grid\n",
    "    xaxis = dict(showgrid = True, title = '(form factor) * average crush (in)'),\n",
    "    yaxis = dict(showgrid = True, title = 'Energy Crush Factor'),\n",
    "    font = dict(family = 'Arial', size = 16, color = 'black'))"
   ]
  },
  {
   "cell_type": "markdown",
   "metadata": {
    "pycharm": {
     "name": "#%% md\n"
    }
   },
   "source": [
    "#### Process NHTSA Load Cell Barrier Test\n",
    "- process files downloaded from NTHSA website when choosing the \"ascii\" option\n",
    "- produces a list of files, including the .EV5 file which contains channel information\n",
    "- Pycrash module `process_nhtsa_loadcelldata` will load and process data to calculate Force-displacement response\n",
    "- nothing is returned, a dataframe pickle file will be saved in the same directory containing the ascii data"
   ]
  },
  {
   "cell_type": "code",
   "execution_count": null,
   "metadata": {
    "pycharm": {
     "name": "#%%\n"
    }
   },
   "outputs": [],
   "source": [
    "# load modules\n",
    "import os # operating system interface - used to change directories and create paths\n",
    "import pycrash.functions.process_nhtsa_loadcelldata_ascii_ver1 as load_cell"
   ]
  },
  {
   "cell_type": "code",
   "execution_count": null,
   "metadata": {
    "pycharm": {
     "name": "#%%\n"
    }
   },
   "outputs": [],
   "source": [
    "# this test was missing data for two load cells, so F_1 was set to F_2 and C_4 was taken as the average of C_3 and C_5\n",
    "# the function will ask for inputs to handle missing data\n",
    "# the respective entries are F_1 and C_3, C_5\n",
    "\n",
    "test_num = 10146\n",
    "path = os.path.join(os.getcwd(), 'data', 'input', f'v{test_num}ascii')  # create path input\n",
    "row_list = ['A', 'B', 'C', 'D', 'E', 'F', 'G', 'H', 'I', 'J', 'K']     # list of rows to be processed\n",
    "num_columns = 17                                                       # number of load cell columns\n",
    "impact_velocity = 57.09  # test impact speed [kph]"
   ]
  },
  {
   "cell_type": "code",
   "execution_count": null,
   "metadata": {
    "pycharm": {
     "name": "#%%\n"
    }
   },
   "outputs": [],
   "source": [
    "# two dataframes are produced, one containing the force across all columns summed\n",
    "# the other contains the processed force data for each load cell\n",
    "load_cell.process_loadcell_asii(test_num, path, row_list, num_columns, impact_velocity, english=True)"
   ]
  },
  {
   "cell_type": "markdown",
   "metadata": {
    "pycharm": {
     "name": "#%% md\n"
    }
   },
   "source": [
    "Import dataframe created from above"
   ]
  },
  {
   "cell_type": "code",
   "execution_count": null,
   "metadata": {
    "pycharm": {
     "name": "#%%\n"
    }
   },
   "outputs": [],
   "source": [
    "# individual forces:\n",
    "force_dx = pd.read_pickle(os.path.join(path, f'ProcessedNHTSATestData_{test_num}.pkl'))\n",
    "# first five rows:\n",
    "force_dx.head()"
   ]
  },
  {
   "cell_type": "code",
   "execution_count": null,
   "metadata": {
    "pycharm": {
     "name": "#%%\n"
    }
   },
   "outputs": [],
   "source": [
    "# summed row data\n",
    "summed_dx = pd.read_pickle(os.path.join(path, f'RowSum_ProcessedNHTSA_Test_{test_num}.pkl'))\n",
    "# rename column for displacement to be more friendly:\n",
    "summed_dx.rename(columns = {'LEFT REAR SEAT CROSSMEMBER X Disp': 'Disp'}, inplace=True)\n",
    "# first five rows:\n",
    "summed_dx.head()"
   ]
  },
  {
   "cell_type": "markdown",
   "metadata": {},
   "source": [
    "### Sum all rows and plot total force"
   ]
  },
  {
   "cell_type": "code",
   "execution_count": null,
   "metadata": {
    "pycharm": {
     "name": "#%%\n"
    }
   },
   "outputs": [],
   "source": [
    "summed_dx['TotalForce'] = summed_dx[row_list].sum(axis=1)\n",
    "arplot.plot_TotalFdx(summed_dx)"
   ]
  },
  {
   "cell_type": "code",
   "execution_count": null,
   "metadata": {
    "pycharm": {
     "name": "#%%\n"
    }
   },
   "outputs": [],
   "source": [
    "# import function for integrating load cell data\n",
    "from pycrash.functions.ar import CrushEnergyInt\n",
    "print(f'Total Crush Energy: {CrushEnergyInt(summed_dx.Disp, summed_dx.TotalForce *-1):0.0f} ft-lb')"
   ]
  },
  {
   "cell_type": "code",
   "execution_count": null,
   "metadata": {
    "pycharm": {
     "name": "#%%\n"
    }
   },
   "outputs": [],
   "source": [
    "# import function to get barrier impact speed from weight and energy\n",
    "from pycrash.functions.ar import BEVfromE\n",
    "print(f'BEV from integrated load cell barrier energy: {BEVfromE(3330, CrushEnergyInt(summed_dx.Disp, summed_dx.TotalForce *-1)):0.1f} mph')"
   ]
  },
  {
   "cell_type": "markdown",
   "metadata": {
    "pycharm": {
     "name": "#%% md\n"
    }
   },
   "source": [
    "### Create Force-Displacement Response for SDOF Model\n",
    "- Use load cell data for one vehicle\n",
    "- Use published - force-displacement data for mutual stiffness response (Bonugli et al. 2017)"
   ]
  },
  {
   "cell_type": "code",
   "execution_count": null,
   "metadata": {
    "pycharm": {
     "name": "#%%\n"
    }
   },
   "outputs": [],
   "source": [
    "# example, take sum of 3 rows of load cell data  -\n",
    "# sum all rows\n",
    "summed_dx['Force'] = summed_dx[['F', 'G', 'H']].sum(axis=1)\n",
    "veh1_fdx = summed_dx[['time', 'Disp', 'Force']].copy()  # create separate dataframe for analysis\n",
    "veh1_fdx = veh1_fdx[veh1_fdx.time < 0.021].copy()  # select force up to about 1 foot of crush"
   ]
  },
  {
   "cell_type": "code",
   "execution_count": null,
   "metadata": {
    "pycharm": {
     "name": "#%%\n"
    }
   },
   "outputs": [],
   "source": [
    "# use Bonugli for mutual stiffness value\n",
    "from IPython.display import display, Image\n",
    "display(Image(filename=os.path.join(os.getcwd(), 'visualization', 'Bonugli2017.jpg')))"
   ]
  },
  {
   "cell_type": "code",
   "execution_count": null,
   "metadata": {
    "pycharm": {
     "name": "#%%\n"
    }
   },
   "outputs": [],
   "source": [
    "# as an example, take Car to Car\n",
    "k_mutual = 27734\n",
    "k_mutual_low = k_mutual - 9512\n",
    "k_mutual_high = k_mutual + 9512\n",
    "# create arrays to plot\n",
    "displacement = [0, 1]\n",
    "f_mutual = [0, k_mutual]\n",
    "f_mutual_low = [0, k_mutual_low]\n",
    "f_mutual_high = [0, k_mutual_high]"
   ]
  },
  {
   "cell_type": "code",
   "execution_count": null,
   "metadata": {
    "pycharm": {
     "name": "#%%\n"
    }
   },
   "outputs": [],
   "source": [
    "# get initial stiffness value from load cell data\n",
    "# get displacement at max force value in the first foot of crush\n",
    "veh1_disp = veh1_fdx.loc[veh1_fdx.Force == veh1_fdx.Force.min(), 'Disp'].item()\n",
    "print(f'Vehicle 1 Displacement at initial max force: {veh1_disp:0.3f} feet')"
   ]
  },
  {
   "cell_type": "code",
   "execution_count": null,
   "metadata": {},
   "outputs": [],
   "source": [
    "veh1_fdx_half = veh1_fdx[veh1_fdx.time < 0.010].copy()  # select force up to about 1/2 foot of crush\n",
    "veh1_disp_half = veh1_fdx_half.loc[veh1_fdx_half.Force == veh1_fdx_half.Force.min(), 'Disp'].item()\n",
    "print(f'Vehicle 1 Displacement at initial max force to half a foot: {veh1_disp_half:0.3f} feet')"
   ]
  },
  {
   "cell_type": "code",
   "execution_count": null,
   "metadata": {
    "pycharm": {
     "name": "#%%\n"
    }
   },
   "outputs": [],
   "source": [
    "# create initial stiffness for vehicle 1:\n",
    "k_veh1 = -1 * veh1_fdx.Force.min() / veh1_disp  # [lb/ft]\n",
    "f_veh1 = [0, k_veh1]\n",
    "print(f'Stiffness of striking vehicle: {k_veh1:0.1f} lb/ft')"
   ]
  },
  {
   "cell_type": "code",
   "execution_count": null,
   "metadata": {},
   "outputs": [],
   "source": [
    "fig = go.Figure()\n",
    "fig.add_trace(go.Scatter(x = veh1_fdx.Disp,\n",
    "                         y = veh1_fdx.Force * -1,\n",
    "                        mode = 'lines',\n",
    "                        name = \"Total Force\",\n",
    "                        line = dict(color = \"rgb(52, 64, 235)\", width = 2)\n",
    "                        ))\n",
    "fig.add_trace(go.Scatter(x = [0, veh1_disp],\n",
    "                         y = [0, veh1_fdx.Force.min() * -1],\n",
    "                        mode = 'lines',\n",
    "                        name = \"Linear Stiffness (1 ft)\",\n",
    "                        line = dict(color = \"rgb(0, 0, 100)\", width = 2)\n",
    "                        ))\n",
    "fig.add_trace(go.Scatter(x = [0, veh1_disp_half],\n",
    "                         y = [0, veh1_fdx_half.Force.min() * -1],\n",
    "                        mode = 'lines',\n",
    "                        name = \"Linear Stiffness (1/2 ft)\",\n",
    "                        line = dict(color = \"rgb(0, 0, 100)\", width = 2, dash = 'dash')\n",
    "                        ))\n",
    "fig.update_layout(\n",
    "    autosize = False,\n",
    "    width = 1000,\n",
    "    height = 550,\n",
    "    title = f'Load Cell Barrier Force-Displacement Data - First foot of crush',\n",
    "    template = 'plotly_white',\n",
    "    xaxis = dict(showgrid = False, title = 'Displacement (feet)'),\n",
    "    font = dict(family = 'Arial', size = 24, color = 'black'))\n",
    "\n",
    "fig.update_layout(showlegend = False)\n",
    "fig.update_yaxes(showgrid = False, showline=True, linewidth=1, linecolor='black', ticks=\"outside\",\n",
    "                 tickwidth=1, tickcolor='black', ticklen=10, zeroline=False, title_text = 'Force (lb)')\n",
    "fig.update_xaxes(showline=True, linewidth=1, linecolor='black', ticks=\"outside\",\n",
    "                 tickwidth=1, tickcolor='black', ticklen=10, zeroline=False)\n",
    "fig.show()"
   ]
  },
  {
   "cell_type": "markdown",
   "metadata": {
    "pycharm": {
     "name": "#%% md\n"
    }
   },
   "source": [
    "##### stiffness of struck vehicle is determined from mutual and striking vehicle stiffness"
   ]
  },
  {
   "cell_type": "code",
   "execution_count": null,
   "metadata": {
    "pycharm": {
     "name": "#%% function for calculated effective spring stiffness in series\n"
    }
   },
   "outputs": [],
   "source": [
    "from pycrash.functions.ar import SpringSeriesKeff  # calculates mutual stiffness given stiffness value for each vehicle\n",
    "# %% md\n",
    "#### Example using Scipy optimize"
   ]
  },
  {
   "cell_type": "code",
   "execution_count": null,
   "metadata": {
    "pycharm": {
     "name": "#%%\n"
    }
   },
   "outputs": [],
   "source": [
    "from scipy.optimize import minimize"
   ]
  },
  {
   "cell_type": "code",
   "execution_count": null,
   "metadata": {
    "pycharm": {
     "name": "#%%\n"
    }
   },
   "outputs": [],
   "source": [
    "# create function to minimize\n",
    "def objective_func(k_veh2):\n",
    "    return (27734 - SpringSeriesKeff(60127.1, k_veh2))**2  # error between calculated mutual stiffness versus desired\n",
    "\n",
    "minimize(objective_func, 30000)"
   ]
  },
  {
   "cell_type": "code",
   "execution_count": null,
   "metadata": {
    "pycharm": {
     "name": "#%%\n"
    }
   },
   "outputs": [],
   "source": [
    "# try result from minimize\n",
    "SpringSeriesKeff(51479, k_veh1)"
   ]
  },
  {
   "cell_type": "code",
   "execution_count": null,
   "metadata": {
    "pycharm": {
     "name": "#%%\n"
    }
   },
   "outputs": [],
   "source": [
    "k_veh2 = 51479  # stiffness for rear of Vehicle 2\n",
    "k_veh2_low = 26145\n",
    "k_veh2_high = 97875\n",
    "# repeat above to get high / low values of k_veh2\n",
    "def objective_func(k_veh2):\n",
    "    return (k_mutual_high - SpringSeriesKeff(60127.1, k_veh2))**2 # error between calculated mutual stiffness versus desired\n",
    "\n",
    "minimize(objective_func, 30000)"
   ]
  },
  {
   "cell_type": "code",
   "execution_count": null,
   "metadata": {
    "pycharm": {
     "name": "#%%\n"
    }
   },
   "outputs": [],
   "source": [
    "fig = go.Figure()\n",
    "fig.add_trace(go.Scatter(x = displacement,\n",
    "                         y = f_veh1,\n",
    "                        mode = 'lines',\n",
    "                        name = 'Striking Vehicle Stiffness - Load Cell Derived',\n",
    "                        line = dict(color = \"rgb(0, 0, 0)\", width = 3, dash = 'solid')\n",
    "                        ))\n",
    "fig.add_trace(go.Scatter(x = displacement,\n",
    "                         y = f_mutual,\n",
    "                        mode = 'lines',\n",
    "                        name = 'Average Mutual Stiffness (Bonugli 2017)',\n",
    "                        line = dict(color = \"rgb(50, 115, 168)\", width = 3, dash = 'solid')\n",
    "                        ))\n",
    "fig.add_trace(go.Scatter(x = displacement,\n",
    "                         y = [0, k_mutual_high],\n",
    "                        mode = 'lines',\n",
    "                        name = 'Mutual Stiffness - High',\n",
    "                        line = dict(color = \"rgb(50, 115, 168)\", width = 3, dash = 'dash')\n",
    "                        ))\n",
    "fig.add_trace(go.Scatter(x = displacement,\n",
    "                         y = [0, k_mutual_low],\n",
    "                        mode = 'lines',\n",
    "                        name = 'Mutual Stiffness - Low',\n",
    "                        line = dict(color = \"rgb(50, 115, 168)\", width = 3, dash = 'dash')\n",
    "                        ))\n",
    "fig.update_layout(legend = dict(orientation = \"v\", yanchor = 'top', y = 1, xanchor = 'left', x = 0),\n",
    "    autosize = False,\n",
    "    width = 1400,\n",
    "    height = 800,\n",
    "    title = f'Force Displacement Response for Impact Model',\n",
    "    template = 'plotly_white',\n",
    "    xaxis = dict(showgrid = False, title = 'Displacement (feet)'),\n",
    "    font = dict(family = 'Arial', size = 28, color = 'black'))\n",
    "\n",
    "fig.update_layout(showlegend = True)\n",
    "fig.update_yaxes(showgrid = False, showline=True, linewidth=1, linecolor='black', ticks=\"outside\",\n",
    "                 tickwidth=1, tickcolor='black', ticklen=10, zeroline=False, range = [0, 60000], title_text = 'Force (lb)')\n",
    "fig.update_xaxes(showline=True, linewidth=1, linecolor='black', ticks=\"outside\",\n",
    "                 tickwidth=1, tickcolor='black', ticklen=10, zeroline=False)\n",
    "fig.show()"
   ]
  },
  {
   "cell_type": "code",
   "execution_count": null,
   "metadata": {
    "pycharm": {
     "name": "#%%\n"
    }
   },
   "outputs": [],
   "source": []
  }
 ],
 "metadata": {
  "kernelspec": {
   "display_name": ".venv",
   "language": "python",
   "name": ".venv"
  },
  "language_info": {
   "codemirror_mode": {
    "name": "ipython",
    "version": 3
   },
   "file_extension": ".py",
   "mimetype": "text/x-python",
   "name": "python",
   "nbconvert_exporter": "python",
   "pygments_lexer": "ipython3",
   "version": "3.9.1"
  }
 },
 "nbformat": 4,
 "nbformat_minor": 4
}
