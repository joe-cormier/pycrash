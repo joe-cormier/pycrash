{
 "cells": [
  {
   "cell_type": "markdown",
   "metadata": {
    "pycharm": {
     "name": "#%% md\n"
    }
   },
   "source": [
    "## Pycrash - An open source tool for accident reconstruction\n",
    "#### Demonstration of basic functionality: Accident Reconstruction equations and methods"
   ]
  },
  {
   "cell_type": "markdown",
   "metadata": {
    "pycharm": {
     "name": "#%% md\n"
    }
   },
   "source": [
    "### Reconstruction Equations\n",
    "- The `ar` module contains various equations that can be imported within your notebook or python script\n",
    "- Pycrash nomenclature always uses vehicle 1 as striking, vehicle 2 as struck"
   ]
  },
  {
   "cell_type": "markdown",
   "metadata": {
    "pycharm": {
     "name": "#%% md\n"
    }
   },
   "source": [
    "#### Jupyter Notebook notes\n",
    "- `ctrl+Enter` will run current cell\n",
    "- `Shift+Enter` will run current cell and move to next"
   ]
  },
  {
   "cell_type": "code",
   "execution_count": 1,
   "metadata": {},
   "outputs": [],
   "source": [
    "# if running without installing from pip - insert path to pycrash here\n",
    "import sys\n",
    "sys.path.insert(0, '/Users/joe/Documents/pycrash')"
   ]
  },
  {
   "cell_type": "code",
   "execution_count": 2,
   "metadata": {
    "pycharm": {
     "name": "#%%\n"
    }
   },
   "outputs": [],
   "source": [
    "# jupyter notebook option - allows for modules to be imported multiple times\n",
    "%load_ext autoreload\n",
    "%autoreload 2"
   ]
  },
  {
   "cell_type": "markdown",
   "metadata": {
    "pycharm": {
     "name": "#%% md\n"
    }
   },
   "source": [
    "#### Python packages used for analysis\n",
    "- `pandas` - data analysis and manipulation tool\n",
    "- `numpy` - The fundamental package for scientific computing with Python\n",
    "- `sklearn` - higher level mathematical functionality"
   ]
  },
  {
   "cell_type": "code",
   "execution_count": 3,
   "metadata": {
    "pycharm": {
     "name": "#%%\n"
    }
   },
   "outputs": [],
   "source": [
    "import pandas as pd\n",
    "pd.options.display.max_columns = None  # show all dataframe columns\n",
    "import numpy as np\n",
    "from sklearn.linear_model import LinearRegression"
   ]
  },
  {
   "cell_type": "markdown",
   "metadata": {},
   "source": [
    "### Import reconstruction equations"
   ]
  },
  {
   "cell_type": "code",
   "execution_count": 4,
   "metadata": {
    "pycharm": {
     "name": "#%%\n"
    }
   },
   "outputs": [
    {
     "name": "stdout",
     "output_type": "stream",
     "text": [
      "Current values for defined constants:\n",
      "maximum available friction (mu_max) = 0.76\n",
      "time step for vehicle motion (dt) = 0.01 s\n",
      "No Environment File Provided\n",
      "No Environment File Provided\n"
     ]
    }
   ],
   "source": [
    "import pycrash.functions.ar as ar\n",
    "import pycrash.functions.arPlots as arplot"
   ]
  },
  {
   "cell_type": "markdown",
   "metadata": {},
   "source": [
    "### Solve for delta-V"
   ]
  },
  {
   "cell_type": "code",
   "execution_count": 5,
   "metadata": {
    "pycharm": {
     "name": "#%%\n"
    }
   },
   "outputs": [
    {
     "name": "stdout",
     "output_type": "stream",
     "text": [
      "Striking vehicle change in speed: 8.0 mph with restitution of: 0.29\n"
     ]
    }
   ],
   "source": [
    "w1 = 3000     # <- vehicle 1 weight [lbs] (striking)\n",
    "w2 = 5000     # <- vehicle 2 weight [lbs] (struck)\n",
    "v1 = 10       # <- vehicle 1 initial speed [mph]\n",
    "v2 = 0        # <- vehicle 2 initial speed [mph]\n",
    "\n",
    "restitution = ar.cipriani_rest(v1-v2)    # <- solve for restitution using Cipriani et al. (2002) fit\n",
    "ar.StrikingDV(w1, w2, v1, v2, restitution)\n",
    "\n",
    "# print statement:\n",
    "print(f'Striking vehicle change in speed: {ar.StrikingDV(w1, w2, v1, v2, restitution):0.1f} mph with restitution of: {restitution:0.2f}')"
   ]
  },
  {
   "cell_type": "markdown",
   "metadata": {
    "pycharm": {
     "name": "#%% md\n"
    }
   },
   "source": [
    "### Introduction to Pycrash Vehicle\n",
    "- vehicle is a python class object that stores various information related to a vehicle\n",
    "- this is a simple example requiring only vehicle weight and a name"
   ]
  },
  {
   "cell_type": "code",
   "execution_count": 6,
   "metadata": {
    "pycharm": {
     "name": "#%%\n"
    }
   },
   "outputs": [],
   "source": [
    "# import Vehicle module\n",
    "from pycrash.vehicle import Vehicle"
   ]
  },
  {
   "cell_type": "code",
   "execution_count": 7,
   "metadata": {
    "pycharm": {
     "name": "#%%\n"
    }
   },
   "outputs": [
    {
     "name": "stdout",
     "output_type": "stream",
     "text": [
      "name -> Malibu\n",
      "type -> vehicle\n",
      "year -> 2015\n",
      "make -> Chevrolet\n",
      "model -> Malibu\n",
      "weight -> 3639\n"
     ]
    }
   ],
   "source": [
    "# create vehicle\n",
    "veh1 = Vehicle('Malibu')\n",
    "veh1.year = 2015\n",
    "veh1.make = 'Chevrolet'\n",
    "veh1.model = 'Malibu'\n",
    "veh1.weight = 3639\n",
    "\n",
    "# show what is stored inside \"veh1\"\n",
    "veh1.show()"
   ]
  },
  {
   "cell_type": "code",
   "execution_count": 8,
   "metadata": {
    "pycharm": {
     "name": "#%%\n"
    }
   },
   "outputs": [
    {
     "name": "stdout",
     "output_type": "stream",
     "text": [
      "The weight of Malibu is: 3639 lbs\n"
     ]
    }
   ],
   "source": [
    "# retrieve value stored in vehicle class:\n",
    "veh1.weight\n",
    "print(f'The weight of {veh1.name} is: {veh1.weight} lbs')"
   ]
  },
  {
   "cell_type": "code",
   "execution_count": null,
   "metadata": {},
   "outputs": [],
   "source": []
  }
 ],
 "metadata": {
  "kernelspec": {
   "display_name": ".venv",
   "language": "python",
   "name": ".venv"
  },
  "language_info": {
   "codemirror_mode": {
    "name": "ipython",
    "version": 3
   },
   "file_extension": ".py",
   "mimetype": "text/x-python",
   "name": "python",
   "nbconvert_exporter": "python",
   "pygments_lexer": "ipython3",
   "version": "3.9.1"
  }
 },
 "nbformat": 4,
 "nbformat_minor": 4
}
